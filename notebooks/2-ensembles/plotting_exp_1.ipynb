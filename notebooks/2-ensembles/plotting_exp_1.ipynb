{
 "cells": [
  {
   "cell_type": "markdown",
   "id": "1476c64e",
   "metadata": {},
   "source": [
    "-entrenamos en GBL\n",
    "-entrenamos en GBL + otros solventes\n",
    "-testeamos en ambos casos en GBL, no habia cols de solventes\n",
    "\n",
    "- luego lo encodeamos y repetimos lo mismo\n",
    "- no vemos que se vea afectada, seguimos igual pero con esa info\n",
    "\n",
    "\n"
   ]
  },
  {
   "cell_type": "code",
   "execution_count": 4,
   "id": "58285917",
   "metadata": {},
   "outputs": [],
   "source": [
    "import numpy as np\n",
    "import pandas as pd\n",
    "import matplotlib.pyplot as plt\n",
    "import seaborn as sns\n",
    "import itertools\n",
    "from src.config import chemical_inventory_path, raw_data_path\n",
    "from src.data import notebook_utils as utils\n",
    "from src.constants import GBL_INCHI_KEY, DMSO_INCHI_KEY, DMF_INCHI_KEY, \\\n",
    "                        INCHI_TO_CHEMNAME, TARGET_COL, RXN_FEAT_NAME, ORGANOAMONIUM_INCHI_KEY_COL\n",
    "from src import plot_utils\n",
    "from pathlib import Path"
   ]
  },
  {
   "cell_type": "code",
   "execution_count": 5,
   "id": "6500c8f0",
   "metadata": {},
   "outputs": [],
   "source": [
    "import matplotlib.pyplot as plt\n",
    "import matplotlib.ticker as mtick\n",
    "plt.style.reload_library()\n",
    "import matplotlib.patches as mpatches\n",
    "from matplotlib.lines import Line2D\n",
    "import seaborn as sns"
   ]
  },
  {
   "cell_type": "code",
   "execution_count": 6,
   "id": "2d442d76",
   "metadata": {},
   "outputs": [
    {
     "name": "stdout",
     "output_type": "stream",
     "text": [
      "/home/belu/VS Workplace/licentiate-thesis-repo\n"
     ]
    }
   ],
   "source": [
    "%cd ../.."
   ]
  },
  {
   "cell_type": "code",
   "execution_count": 7,
   "id": "ca6dd689",
   "metadata": {},
   "outputs": [],
   "source": [
    "folder_exp_bagging = 'results/ensamble/bagging_validation/'\n",
    "file_single_estimators = 'results/ensamble/individual_validation/single_estimators_validation.csv'"
   ]
  },
  {
   "cell_type": "code",
   "execution_count": 120,
   "id": "4a4daeff",
   "metadata": {},
   "outputs": [],
   "source": [
    "files = { \n",
    "    'DT': 'dtfinal_bagging_estimators.csv',\n",
    "    'KNN': 'knn_final_bagging_estimators.csv',\n",
    "    'LG': 'lg_final_bagging_estimators.csv',\n",
    "    'SVM': 'svm_final_bagging_estimators.csv',\n",
    "    }"
   ]
  },
  {
   "cell_type": "code",
   "execution_count": 174,
   "id": "1dfebc2c",
   "metadata": {},
   "outputs": [],
   "source": [
    "dfs = []\n",
    "for estimator_name, file in files.items():\n",
    "    data = pd.read_csv(folder_exp_bagging+file)\n",
    "    data['estimador'] = estimator_name\n",
    "    if estimator_name in ['DT', 'KNN']:\n",
    "        data['tipo'] = 'inestable'\n",
    "    else:\n",
    "        data['tipo'] = 'estable'\n",
    "    dfs.append(data)\n",
    "df = pd.concat(dfs, axis=0).reset_index()"
   ]
  },
  {
   "cell_type": "code",
   "execution_count": 175,
   "id": "9dc03098-ca58-4423-993b-d30d9c23720e",
   "metadata": {},
   "outputs": [],
   "source": [
    "# correct values\n",
    "df = df.replace({500:300})"
   ]
  },
  {
   "cell_type": "code",
   "execution_count": 13,
   "id": "16eb632a-fbe2-48d9-8728-a3f3207c577c",
   "metadata": {},
   "outputs": [],
   "source": [
    "metrics_mean_col = ['mean_test_matthew', 'mean_test_recall','mean_test_precision', 'mean_test_f1']\n",
    "metrics_plot_name = ['Matthew', 'Recall', 'Precision', 'F1']\n",
    "metrics_name = {metrics_mean_col[i]: metrics_plot_name[i] for i  in range(len(metrics_mean_col))}"
   ]
  },
  {
   "cell_type": "code",
   "execution_count": 177,
   "id": "8594db23-f313-42db-86e1-2fc0e3bb07c8",
   "metadata": {},
   "outputs": [],
   "source": [
    "df_single = pd.read_csv(file_single_estimators)\n",
    "df_single.model = df_single.model.str.upper()\n",
    "#df_single_out = df_single.groupby('model').mean()[['test_matthew', 'test_recall', 'test_precision', 'test_f1']]"
   ]
  },
  {
   "cell_type": "code",
   "execution_count": 178,
   "id": "dbbb41b8-30c8-4ea8-988a-ddae44eb7ea3",
   "metadata": {},
   "outputs": [],
   "source": [
    "df_single_out = df_single[['test_matthew', 'test_recall', 'test_precision', 'test_f1', 'model']]"
   ]
  },
  {
   "cell_type": "code",
   "execution_count": 179,
   "id": "7e47103e-a86c-4db5-8048-c2b8ff4bcc28",
   "metadata": {},
   "outputs": [],
   "source": [
    "df_bagging_1 = df[df.param_model__n_estimators == 300].groupby('estimador').mean()[metrics_mean_col]"
   ]
  },
  {
   "cell_type": "code",
   "execution_count": 180,
   "id": "cf228120-4107-4a57-b397-76c83bfc2cfe",
   "metadata": {},
   "outputs": [
    {
     "data": {
      "text/html": [
       "<div>\n",
       "<style scoped>\n",
       "    .dataframe tbody tr th:only-of-type {\n",
       "        vertical-align: middle;\n",
       "    }\n",
       "\n",
       "    .dataframe tbody tr th {\n",
       "        vertical-align: top;\n",
       "    }\n",
       "\n",
       "    .dataframe thead th {\n",
       "        text-align: right;\n",
       "    }\n",
       "</style>\n",
       "<table border=\"1\" class=\"dataframe\">\n",
       "  <thead>\n",
       "    <tr style=\"text-align: right;\">\n",
       "      <th></th>\n",
       "      <th>mean_test_matthew</th>\n",
       "      <th>mean_test_recall</th>\n",
       "      <th>mean_test_precision</th>\n",
       "      <th>mean_test_f1</th>\n",
       "    </tr>\n",
       "    <tr>\n",
       "      <th>estimador</th>\n",
       "      <th></th>\n",
       "      <th></th>\n",
       "      <th></th>\n",
       "      <th></th>\n",
       "    </tr>\n",
       "  </thead>\n",
       "  <tbody>\n",
       "    <tr>\n",
       "      <th>DT</th>\n",
       "      <td>0.592237</td>\n",
       "      <td>0.616875</td>\n",
       "      <td>0.719327</td>\n",
       "      <td>0.663918</td>\n",
       "    </tr>\n",
       "    <tr>\n",
       "      <th>KNN</th>\n",
       "      <td>0.661845</td>\n",
       "      <td>0.687500</td>\n",
       "      <td>0.764776</td>\n",
       "      <td>0.723277</td>\n",
       "    </tr>\n",
       "    <tr>\n",
       "      <th>LG</th>\n",
       "      <td>0.370672</td>\n",
       "      <td>0.757500</td>\n",
       "      <td>0.380190</td>\n",
       "      <td>0.506262</td>\n",
       "    </tr>\n",
       "    <tr>\n",
       "      <th>SVM</th>\n",
       "      <td>0.111414</td>\n",
       "      <td>0.095000</td>\n",
       "      <td>0.392765</td>\n",
       "      <td>0.151710</td>\n",
       "    </tr>\n",
       "  </tbody>\n",
       "</table>\n",
       "</div>"
      ],
      "text/plain": [
       "           mean_test_matthew  mean_test_recall  mean_test_precision  \\\n",
       "estimador                                                             \n",
       "DT                  0.592237          0.616875             0.719327   \n",
       "KNN                 0.661845          0.687500             0.764776   \n",
       "LG                  0.370672          0.757500             0.380190   \n",
       "SVM                 0.111414          0.095000             0.392765   \n",
       "\n",
       "           mean_test_f1  \n",
       "estimador                \n",
       "DT             0.663918  \n",
       "KNN            0.723277  \n",
       "LG             0.506262  \n",
       "SVM            0.151710  "
      ]
     },
     "execution_count": 180,
     "metadata": {},
     "output_type": "execute_result"
    }
   ],
   "source": [
    "df_bagging_1"
   ]
  },
  {
   "cell_type": "code",
   "execution_count": 181,
   "id": "409a1e05-74b7-402d-82a7-80b737fb080c",
   "metadata": {},
   "outputs": [],
   "source": [
    "df_bagging = df[metrics_mean_col+['estimador', 'param_model__n_estimators']]"
   ]
  },
  {
   "cell_type": "code",
   "execution_count": 182,
   "id": "6ad2d488-c0fe-43ab-bfb2-b27f0bf7c3c9",
   "metadata": {},
   "outputs": [
    {
     "name": "stderr",
     "output_type": "stream",
     "text": [
      "/home/belu/.local/share/virtualenvs/licentiate-thesis-repo-cz9ujhZI/lib/python3.7/site-packages/ipykernel_launcher.py:3: SettingWithCopyWarning: \n",
      "A value is trying to be set on a copy of a slice from a DataFrame.\n",
      "Try using .loc[row_indexer,col_indexer] = value instead\n",
      "\n",
      "See the caveats in the documentation: https://pandas.pydata.org/pandas-docs/stable/user_guide/indexing.html#returning-a-view-versus-a-copy\n",
      "  This is separate from the ipykernel package so we can avoid doing imports until\n"
     ]
    }
   ],
   "source": [
    "df_single_out.columns = metrics_mean_col+['model']\n",
    "\n",
    "df_single_out['x'] = 335\n",
    "\n",
    "df_single_out = df_single_out.reset_index(drop=True)\n",
    "\n",
    "df_single = df_single_out[df_single_out['model'].isin(['DT', 'LG', 'SVM_LINEAR', 'KNN'])]\n",
    "\n",
    "df_single = df_single.replace({'SVM_LINEAR': 'SVM'})"
   ]
  },
  {
   "cell_type": "code",
   "execution_count": 183,
   "id": "11c8affd-9b61-4203-8388-8857d4cae39f",
   "metadata": {},
   "outputs": [],
   "source": [
    "df_single = df_single.rename({'model':'estimador'}, axis=1)"
   ]
  },
  {
   "cell_type": "code",
   "execution_count": 205,
   "id": "02a79131-2090-40a6-bd87-50a7e4a469aa",
   "metadata": {},
   "outputs": [],
   "source": [
    "df_single_bis = df_single.copy()\n",
    "df_single_bis[\"x\"] = 0"
   ]
  },
  {
   "cell_type": "code",
   "execution_count": 212,
   "id": "9f103afa-d2bd-4646-b3e4-c77098e4a3d1",
   "metadata": {},
   "outputs": [],
   "source": [
    "df_single_estimator = pd.concat([df_single, df_single_bis], axis=0).reset_index(drop=True)"
   ]
  },
  {
   "cell_type": "code",
   "execution_count": 132,
   "id": "0d26f453-256f-4cc1-a406-d505e3a7cb61",
   "metadata": {},
   "outputs": [
    {
     "data": {
      "text/html": [
       "<svg  width=\"440\" height=\"55\"><rect x=\"0\" y=\"0\" width=\"55\" height=\"55\" style=\"fill:#4477aa;stroke-width:2;stroke:rgb(255,255,255)\"/><rect x=\"55\" y=\"0\" width=\"55\" height=\"55\" style=\"fill:#66ccee;stroke-width:2;stroke:rgb(255,255,255)\"/><rect x=\"110\" y=\"0\" width=\"55\" height=\"55\" style=\"fill:#228833;stroke-width:2;stroke:rgb(255,255,255)\"/><rect x=\"165\" y=\"0\" width=\"55\" height=\"55\" style=\"fill:#ccbb44;stroke-width:2;stroke:rgb(255,255,255)\"/><rect x=\"220\" y=\"0\" width=\"55\" height=\"55\" style=\"fill:#ee6677;stroke-width:2;stroke:rgb(255,255,255)\"/><rect x=\"275\" y=\"0\" width=\"55\" height=\"55\" style=\"fill:#aa3377;stroke-width:2;stroke:rgb(255,255,255)\"/><rect x=\"330\" y=\"0\" width=\"55\" height=\"55\" style=\"fill:#bbbbbb;stroke-width:2;stroke:rgb(255,255,255)\"/><rect x=\"385\" y=\"0\" width=\"55\" height=\"55\" style=\"fill:#000000;stroke-width:2;stroke:rgb(255,255,255)\"/></svg>"
      ],
      "text/plain": [
       "[(0.26666666666666666, 0.4666666666666667, 0.6666666666666666),\n",
       " (0.4, 0.8, 0.9333333333333333),\n",
       " (0.13333333333333333, 0.5333333333333333, 0.2),\n",
       " (0.8, 0.7333333333333333, 0.26666666666666666),\n",
       " (0.9333333333333333, 0.4, 0.4666666666666667),\n",
       " (0.6666666666666666, 0.2, 0.4666666666666667),\n",
       " (0.7333333333333333, 0.7333333333333333, 0.7333333333333333),\n",
       " (0.0, 0.0, 0.0)]"
      ]
     },
     "execution_count": 132,
     "metadata": {},
     "output_type": "execute_result"
    }
   ],
   "source": [
    "sns.set_palette(bright)\n",
    "sns.palettes.color_palette()"
   ]
  },
  {
   "cell_type": "code",
   "execution_count": 213,
   "id": "da5a7f77",
   "metadata": {},
   "outputs": [],
   "source": [
    "sns.set(font_scale = 1.05) \n",
    "sns.set_context('paper')\n",
    "plot_figures_dir = 'figures/ensemble/bagging/'\n",
    "def plot_bagging(df, metric='mean_test_matthew', plot_name='not_known.pdf'):\n",
    "    plot_title = plot_figures_dir + plot_name    \n",
    "    with plt.style.context(['science', 'bright']):\n",
    "        bright = plot_utils.tol_cset(\"bright\")\n",
    "        \n",
    "        ax = sns.lineplot(data=df, x='param_model__n_estimators', y=metric,\n",
    "                          hue='estimador', legend='brief',\n",
    "                          marker='o', markersize=4, linestyle='dotted', err_style='band', ci=100\n",
    "                        )\n",
    "            #ax.set_yticklabels(rotation=90)\n",
    "        ax.tick_params(labelbottom=True, which=\"both\", left=False, bottom=False, top=False, right=False)\n",
    "   \n",
    "        ax.set(xlabel='N estimadores', ylabel=metrics_name[metric])\n",
    "        plt.legend(title=\"\", loc='lower right', fontsize='small', ncol=1,\n",
    "                            framealpha=0.5, fancybox=True, facecolor='white',\n",
    "                  bbox_to_anchor=(1, 0.1))\n",
    "        \n",
    "        for h in ax.legend_.legendHandles: \n",
    "            h.set_marker('.')\n",
    "            h.set_linestyle(\":\")\n",
    "    \n",
    "        plt.xlim(-5,300)\n",
    "        #plt.ylim(0)\n",
    "\n",
    "        plt.savefig(plot_title, dpi=300)\n",
    "        plt.close()\n",
    "        \n",
    "    \n",
    "       #         hue=df['param_model__random_state'])\n",
    "#plt.legend(loc='upper left')\n",
    "#plt.savefig('figures/ensemble/bagging/'+bagging_models[1]+file_depth+'.pdf', dpi=300)"
   ]
  },
  {
   "cell_type": "code",
   "execution_count": 413,
   "id": "f384c3f2-ec65-4621-9742-fe9f783d3210",
   "metadata": {},
   "outputs": [],
   "source": [
    "def plot_bagging_vs_single(df, df_single, metric='mean_test_matthew', plot_name='not_known.pdf'):\n",
    "    plot_title = plot_figures_dir + plot_name\n",
    "    \n",
    "    with plt.style.context(['science', 'bright']):\n",
    "        bright = plot_utils.tol_cset(\"bright\")\n",
    "        colors = [bright.blue, bright.red, bright.green, bright.yellow]\n",
    "        estimators = ['DT', 'KNN', 'LG', 'SVM']\n",
    "        palette = dict(zip(estimators, colors))\n",
    "        \n",
    "        ax = sns.lineplot(data=df, x='param_model__n_estimators', y=metric,\n",
    "                          hue='estimador', legend='brief',\n",
    "                          marker='o', markersize=4, linestyle='', err_style='band', ci=100,\n",
    "                          palette=palette, err_kws={'alpha':0.38}\n",
    "                        )\n",
    "                \n",
    "        sns.lineplot(ax=ax, data=df_single, x='x', y=metric,\n",
    "                     hue='estimador', legend=False,\n",
    "                     marker='.', markersize=1, linestyle='solid', err_style='band', ci=100,\n",
    "                     palette=palette, err_kws={'alpha':0.12, 'edgecolor':'black', 'linestyle': '--'}, linewidth=0.4, alpha=0.0\n",
    "                     )\n",
    "\n",
    "\n",
    "        patches = []\n",
    "        for name, color in palette.items():\n",
    "            patches.append(mpatches.Patch(facecolor=color, label=name))\n",
    "        \n",
    "        patches.append(Line2D([0], [0], linestyle='dotted', label='Ensamble', \n",
    "                              color='white', marker='o', markeredgecolor=\"black\"))\n",
    "        #patches.append(Line2D([0], [0], linestyle='', label='Simple', marker='',\n",
    "        #                      color='grey', alpha=0.9))\n",
    "        patches.append(mpatches.Patch(facecolor='grey', label=\"Simple\", alpha=0.2,\n",
    "                                      edgecolor='black', linestyle='--'\n",
    "                                     ))\n",
    "\n",
    "        legend_1 = plt.legend(handles=patches, loc='lower right',\n",
    "                            fontsize=10, title=\"\",\n",
    "                             bbox_to_anchor=(1.5, 0.14))\n",
    "\n",
    "        #for single_point, color in zip(df_single[metric], colors):\n",
    "        #    ax.axhline(y=single_point, color=color)\n",
    "        #sns.scatterplot(ax=ax, data=df_single, y=metric, x='x', hue='estimador', s=50, color=\".2\", \n",
    "        #                marker=\"d\", legend=False)\n",
    "            #ax.set_yticklabels(rotation=90)\n",
    "        ax.tick_params(labelbottom=True, which=\"both\", left=False, bottom=False, top=False, right=False)\n",
    "   \n",
    "        ax.set(xlabel='N estimadores', ylabel=metrics_name[metric])\n",
    "\n",
    "    \n",
    "        plt.xlim(-5,305)\n",
    "        #plt.ylim(0)\n",
    "        plt.savefig(plot_title, dpi=300)\n",
    "        #plt.close()"
   ]
  },
  {
   "cell_type": "code",
   "execution_count": 414,
   "id": "62e1b5bc-0f38-4763-8ebf-73547dc16986",
   "metadata": {},
   "outputs": [],
   "source": [
    "plot_figures_dir = '../licentiate-thesis-repo/figures/ensemble/bagging/validation/'"
   ]
  },
  {
   "cell_type": "markdown",
   "id": "a8b61be6-ca10-4dcb-b5c9-573428cfcc8b",
   "metadata": {},
   "source": [
    "        plt.legend(title=\"\", loc='lower right', fontsize='small', ncol=1,\n",
    "                   framealpha=0.5, fancybox=True, facecolor='white',\n",
    "                   bbox_to_anchor=(1, 0.8))"
   ]
  },
  {
   "cell_type": "code",
   "execution_count": 415,
   "id": "d4cbcf8a-9664-4e78-a40d-0749328e6549",
   "metadata": {},
   "outputs": [
    {
     "data": {
      "image/png": "[encoded data removed]",
      "text/plain": [
       "<Figure size 350x262.5 with 1 Axes>"
      ]
     },
     "metadata": {},
     "output_type": "display_data"
    }
   ],
   "source": [
    "metric_name = 'mean_test_matthew'\n",
    "plot_bagging_vs_single(df_bagging, df_single_estimator, plot_name='lineplot_%s_vs_single_bagging.pdf' % metric_name)"
   ]
  },
  {
   "cell_type": "code",
   "execution_count": 26,
   "id": "48ef157c-05b2-4f4f-8fd1-80e69dd0e835",
   "metadata": {},
   "outputs": [],
   "source": [
    "for metric_name in metrics_mean_col:\n",
    "#metric_name = 'mean_test_matthew'\n",
    "    plot_bagging_vs_single(df, df_single, plot_name='lineplot_%s_vs_single_bagging.pdf' % metric_name)"
   ]
  },
  {
   "cell_type": "code",
   "execution_count": 28,
   "id": "c8256027-6e3b-4bde-98ec-214f27ce663e",
   "metadata": {},
   "outputs": [],
   "source": [
    "#plot_bagging(df, plot_name='lineplot_%s_bagging.pdf' % metric_name)"
   ]
  },
  {
   "cell_type": "code",
   "execution_count": 27,
   "id": "4deead6b",
   "metadata": {},
   "outputs": [],
   "source": [
    "#for metric_name in metrics_mean_col:\n",
    "#metric_name = 'mean_test_matthew'\n",
    "#    plot_bagging(df, metric=metric_name, plot_name='lineplot_%s_bagging.pdf' % metric_name)"
   ]
  },
  {
   "cell_type": "code",
   "execution_count": null,
   "id": "50d83b69",
   "metadata": {},
   "outputs": [],
   "source": []
  },
  {
   "cell_type": "code",
   "execution_count": null,
   "id": "4c59bc75",
   "metadata": {},
   "outputs": [],
   "source": []
  },
  {
   "cell_type": "code",
   "execution_count": null,
   "id": "0096c0f2",
   "metadata": {},
   "outputs": [],
   "source": []
  },
  {
   "cell_type": "code",
   "execution_count": null,
   "id": "59a3a1b7",
   "metadata": {},
   "outputs": [],
   "source": [
    "def exp_1_boxplot_classes(df, plot_name=\"exp_1_unknown_plot.pdf\",\n",
    "                         bbox_to_anchor=(1.55, 0.97), height=2,\n",
    "                         aspect=1.5\n",
    "                         ):\n",
    "    plot_title = \"figures/solvent/\"+plot_name\n",
    "    with plt.style.context(['science', 'bright']):\n",
    "        bright = plot_utils.tol_cset(\"bright\")\n",
    "        g = sns.catplot(x=\"Métrica\", y=\"Score\",\n",
    "                    hue=\"Tipo\", height=height, aspect=aspect,\n",
    "                    #row='Clase',\n",
    "                    col='Solvente',\n",
    "                    #col_order=[\"Cristaliza\", \"No cristaliza\"], \n",
    "                    palette=[bright.red, bright.grey],\n",
    "                    kind='box', sharey=False, sharex=True, data=df, legend=False)\n",
    "        for ax in g.axes[0]:\n",
    "            #ax.set_xticklabels(['A', 'B', 'C'], rotation=0)\n",
    "            ax.tick_params(labelbottom=True, which=\"both\", left=False, bottom=False, \n",
    "                           top=False, right=False)\n",
    "        g.set(xlabel=None)\n",
    "        \n",
    "        pop_a = mpatches.Patch(facecolor=bright.red, label=\"ENCODED_SV\", edgecolor='grey')\n",
    "        pop_b = mpatches.Patch(facecolor=bright.grey, label=\"SIN_SV\", edgecolor='grey')\n",
    "        plt.legend(handles=[pop_a,pop_b])\n",
    "        #g._legend.set_title(\" \")\n",
    "        plt.legend(fontsize=11, loc='lower right', bbox_to_anchor=bbox_to_anchor)\n",
    "        #plt.setp(g._legend.get_texts(), fontsize='10')\n",
    "        #g.savefig(plot_title, dpi=300)"
   ]
  },
  {
   "cell_type": "code",
   "execution_count": 8,
   "id": "153c85d2-6b5e-4fe8-acb3-ac3e1d1aae05",
   "metadata": {},
   "outputs": [
    {
     "data": {
      "text/plain": [
       "'results/ensamble/individual_validation/single_estimators_validation.csv'"
      ]
     },
     "execution_count": 8,
     "metadata": {},
     "output_type": "execute_result"
    }
   ],
   "source": [
    "file_single_estimators"
   ]
  },
  {
   "cell_type": "code",
   "execution_count": 15,
   "id": "989019a2-2b04-4118-8bff-53a46ac9d360",
   "metadata": {},
   "outputs": [
    {
     "data": {
      "text/plain": [
       "{'mean_test_matthew': 'Matthew',\n",
       " 'mean_test_recall': 'Recall',\n",
       " 'mean_test_precision': 'Precision',\n",
       " 'mean_test_f1': 'F1'}"
      ]
     },
     "execution_count": 15,
     "metadata": {},
     "output_type": "execute_result"
    }
   ],
   "source": [
    "metrics_name"
   ]
  },
  {
   "cell_type": "code",
   "execution_count": 61,
   "id": "cdab5fe3-bbff-44e5-8dfb-80514ef566f6",
   "metadata": {},
   "outputs": [],
   "source": [
    "df_val_class = pd.read_csv(file_single_estimators)"
   ]
  },
  {
   "cell_type": "code",
   "execution_count": 72,
   "id": "56908a29-12ae-4e95-a44c-bfb1d1d78412",
   "metadata": {},
   "outputs": [],
   "source": [
    "models = ['dt', 'knn', 'lg', 'svm_linear', 'rf', 'gbc']\n",
    "\n",
    "cols_ensemble = {'test_recall_0': 'Recall Clase Mayoritaria',\n",
    "                 'test_recall_1': 'Recall Clase Minoritaria',\n",
    "                 'test_matthew': 'Matthew'\n",
    "                }\n",
    "\n",
    "preference_class = {'dt': '-',\n",
    "                    'knn': 'Mayoritaria',\n",
    "                    'lg': '-',\n",
    "                    'svm_linear': 'Minoritaria',\n",
    "                    'rf': '-',\n",
    "                    'gbc': 'Mayoritaria'\n",
    "                   }"
   ]
  },
  {
   "cell_type": "code",
   "execution_count": 73,
   "id": "74ceac91-a997-42e2-9743-cc003526638b",
   "metadata": {},
   "outputs": [],
   "source": [
    "df_val = df_val_class[df_val_class['model'].isin(models)]"
   ]
  },
  {
   "cell_type": "code",
   "execution_count": 74,
   "id": "db006aa9-4a77-4a0e-8879-058990806dab",
   "metadata": {},
   "outputs": [],
   "source": [
    "df_val_mean = df_val.groupby('model').mean()"
   ]
  },
  {
   "cell_type": "code",
   "execution_count": 75,
   "id": "21b32241-cc6f-4a2a-ae35-70170c6a8052",
   "metadata": {},
   "outputs": [],
   "source": [
    "df_val_mean['Preferencia'] = df_val_mean.index.map(preference_class)"
   ]
  },
  {
   "cell_type": "code",
   "execution_count": 86,
   "id": "14520186-605e-4b5d-88a5-78824fdc4e7e",
   "metadata": {},
   "outputs": [],
   "source": [
    "df_class_plot = df_val_mean.rename(cols_ensemble, axis=1)[['Preferencia']+list(cols_ensemble.values())]"
   ]
  },
  {
   "cell_type": "code",
   "execution_count": 87,
   "id": "014c20cf-8aa6-4f75-8b2a-e042c52ef07c",
   "metadata": {},
   "outputs": [
    {
     "data": {
      "text/html": [
       "<div>\n",
       "<style scoped>\n",
       "    .dataframe tbody tr th:only-of-type {\n",
       "        vertical-align: middle;\n",
       "    }\n",
       "\n",
       "    .dataframe tbody tr th {\n",
       "        vertical-align: top;\n",
       "    }\n",
       "\n",
       "    .dataframe thead th {\n",
       "        text-align: right;\n",
       "    }\n",
       "</style>\n",
       "<table border=\"1\" class=\"dataframe\">\n",
       "  <thead>\n",
       "    <tr style=\"text-align: right;\">\n",
       "      <th></th>\n",
       "      <th>Preferencia</th>\n",
       "      <th>Recall Clase Mayoritaria</th>\n",
       "      <th>Recall Clase Minoritaria</th>\n",
       "      <th>Matthew</th>\n",
       "    </tr>\n",
       "    <tr>\n",
       "      <th>model</th>\n",
       "      <th></th>\n",
       "      <th></th>\n",
       "      <th></th>\n",
       "      <th></th>\n",
       "    </tr>\n",
       "  </thead>\n",
       "  <tbody>\n",
       "    <tr>\n",
       "      <th>dt</th>\n",
       "      <td>-</td>\n",
       "      <td>0.75</td>\n",
       "      <td>0.84</td>\n",
       "      <td>0.49</td>\n",
       "    </tr>\n",
       "    <tr>\n",
       "      <th>lg</th>\n",
       "      <td>-</td>\n",
       "      <td>0.69</td>\n",
       "      <td>0.79</td>\n",
       "      <td>0.38</td>\n",
       "    </tr>\n",
       "    <tr>\n",
       "      <th>rf</th>\n",
       "      <td>-</td>\n",
       "      <td>0.77</td>\n",
       "      <td>0.85</td>\n",
       "      <td>0.52</td>\n",
       "    </tr>\n",
       "    <tr>\n",
       "      <th>gbc</th>\n",
       "      <td>Mayoritaria</td>\n",
       "      <td>0.95</td>\n",
       "      <td>0.64</td>\n",
       "      <td>0.64</td>\n",
       "    </tr>\n",
       "    <tr>\n",
       "      <th>knn</th>\n",
       "      <td>Mayoritaria</td>\n",
       "      <td>0.94</td>\n",
       "      <td>0.68</td>\n",
       "      <td>0.64</td>\n",
       "    </tr>\n",
       "    <tr>\n",
       "      <th>svm_linear</th>\n",
       "      <td>Minoritaria</td>\n",
       "      <td>0.64</td>\n",
       "      <td>0.91</td>\n",
       "      <td>0.44</td>\n",
       "    </tr>\n",
       "  </tbody>\n",
       "</table>\n",
       "</div>"
      ],
      "text/plain": [
       "            Preferencia  Recall Clase Mayoritaria  Recall Clase Minoritaria  \\\n",
       "model                                                                         \n",
       "dt                    -                      0.75                      0.84   \n",
       "lg                    -                      0.69                      0.79   \n",
       "rf                    -                      0.77                      0.85   \n",
       "gbc         Mayoritaria                      0.95                      0.64   \n",
       "knn         Mayoritaria                      0.94                      0.68   \n",
       "svm_linear  Minoritaria                      0.64                      0.91   \n",
       "\n",
       "            Matthew  \n",
       "model                \n",
       "dt             0.49  \n",
       "lg             0.38  \n",
       "rf             0.52  \n",
       "gbc            0.64  \n",
       "knn            0.64  \n",
       "svm_linear     0.44  "
      ]
     },
     "execution_count": 87,
     "metadata": {},
     "output_type": "execute_result"
    }
   ],
   "source": [
    "df_class_plot.round(2).sort_values('Preferencia')"
   ]
  },
  {
   "cell_type": "code",
   "execution_count": 22,
   "id": "55742a9b-e169-4655-8ebb-c04272e9deac",
   "metadata": {},
   "outputs": [
    {
     "data": {
      "text/html": [
       "<div>\n",
       "<style scoped>\n",
       "    .dataframe tbody tr th:only-of-type {\n",
       "        vertical-align: middle;\n",
       "    }\n",
       "\n",
       "    .dataframe tbody tr th {\n",
       "        vertical-align: top;\n",
       "    }\n",
       "\n",
       "    .dataframe thead th {\n",
       "        text-align: right;\n",
       "    }\n",
       "</style>\n",
       "<table border=\"1\" class=\"dataframe\">\n",
       "  <thead>\n",
       "    <tr style=\"text-align: right;\">\n",
       "      <th></th>\n",
       "      <th>test_recall_0</th>\n",
       "      <th>test_recall_1</th>\n",
       "      <th>test_matthew</th>\n",
       "    </tr>\n",
       "    <tr>\n",
       "      <th>model</th>\n",
       "      <th></th>\n",
       "      <th></th>\n",
       "      <th></th>\n",
       "    </tr>\n",
       "  </thead>\n",
       "  <tbody>\n",
       "    <tr>\n",
       "      <th>lg</th>\n",
       "      <td>0.687092</td>\n",
       "      <td>0.786667</td>\n",
       "      <td>0.383668</td>\n",
       "    </tr>\n",
       "    <tr>\n",
       "      <th>svm_linear</th>\n",
       "      <td>0.638889</td>\n",
       "      <td>0.910000</td>\n",
       "      <td>0.437756</td>\n",
       "    </tr>\n",
       "    <tr>\n",
       "      <th>dt</th>\n",
       "      <td>0.754085</td>\n",
       "      <td>0.836667</td>\n",
       "      <td>0.490252</td>\n",
       "    </tr>\n",
       "    <tr>\n",
       "      <th>svm_poly</th>\n",
       "      <td>0.720588</td>\n",
       "      <td>0.893333</td>\n",
       "      <td>0.498376</td>\n",
       "    </tr>\n",
       "    <tr>\n",
       "      <th>rf</th>\n",
       "      <td>0.769608</td>\n",
       "      <td>0.853333</td>\n",
       "      <td>0.518352</td>\n",
       "    </tr>\n",
       "    <tr>\n",
       "      <th>svm_rbf</th>\n",
       "      <td>0.745915</td>\n",
       "      <td>0.903333</td>\n",
       "      <td>0.531425</td>\n",
       "    </tr>\n",
       "    <tr>\n",
       "      <th>gbc</th>\n",
       "      <td>0.953431</td>\n",
       "      <td>0.640000</td>\n",
       "      <td>0.638339</td>\n",
       "    </tr>\n",
       "    <tr>\n",
       "      <th>knn</th>\n",
       "      <td>0.941993</td>\n",
       "      <td>0.676667</td>\n",
       "      <td>0.640846</td>\n",
       "    </tr>\n",
       "  </tbody>\n",
       "</table>\n",
       "</div>"
      ],
      "text/plain": [
       "            test_recall_0  test_recall_1  test_matthew\n",
       "model                                                 \n",
       "lg               0.687092       0.786667      0.383668\n",
       "svm_linear       0.638889       0.910000      0.437756\n",
       "dt               0.754085       0.836667      0.490252\n",
       "svm_poly         0.720588       0.893333      0.498376\n",
       "rf               0.769608       0.853333      0.518352\n",
       "svm_rbf          0.745915       0.903333      0.531425\n",
       "gbc              0.953431       0.640000      0.638339\n",
       "knn              0.941993       0.676667      0.640846"
      ]
     },
     "execution_count": 22,
     "metadata": {},
     "output_type": "execute_result"
    }
   ],
   "source": [
    "df.rename(cols_ensemble).groupby('model').mean()[cols_ensemble.keys()].sort_values('test_matthew')"
   ]
  },
  {
   "cell_type": "code",
   "execution_count": 1,
   "id": "55e02bf8",
   "metadata": {},
   "outputs": [],
   "source": [
    "results_path = 'results/ensamble/indi'"
   ]
  },
  {
   "cell_type": "code",
   "execution_count": null,
   "id": "57893446-a633-4118-be9f-010801a9d461",
   "metadata": {},
   "outputs": [],
   "source": []
  },
  {
   "cell_type": "code",
   "execution_count": null,
   "id": "0e1b0264",
   "metadata": {},
   "outputs": [],
   "source": [
    "single_ensemble = results_path+'single+ensemble_vs_voting.csv'\n",
    "single_robust = results_path+'single_svm_knn_gbc_vs_voting.csv'\n",
    "\n",
    "single_voting = results_path+'single_svm_knn_vs_voting.csv'\n",
    "all_svm_con_gbc = results_path+'all_svm_con_gbc.csv'\n",
    "all_svm_con_gbc_rf = results_path+'all_svm_con_gbc_rf.csv'"
   ]
  },
  {
   "cell_type": "code",
   "execution_count": null,
   "id": "08f737a7-fd20-4264-9475-956faaf5fae7",
   "metadata": {},
   "outputs": [],
   "source": []
  }
 ],
 "metadata": {
  "kernelspec": {
   "display_name": "thesis-repo",
   "language": "python",
   "name": "thesis-repo"
  },
  "language_info": {
   "codemirror_mode": {
    "name": "ipython",
    "version": 3
   },
   "file_extension": ".py",
   "mimetype": "text/x-python",
   "name": "python",
   "nbconvert_exporter": "python",
   "pygments_lexer": "ipython3",
   "version": "3.7.4"
  }
 },
 "nbformat": 4,
 "nbformat_minor": 5
}
