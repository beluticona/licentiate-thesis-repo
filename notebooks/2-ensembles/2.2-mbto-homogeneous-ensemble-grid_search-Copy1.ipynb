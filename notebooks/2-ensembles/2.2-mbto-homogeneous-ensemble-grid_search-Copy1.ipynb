{
 "cells": [
  {
   "cell_type": "markdown",
   "metadata": {},
   "source": [
    "# Ensambles"
   ]
  },
  {
   "cell_type": "markdown",
   "metadata": {},
   "source": [
    "Question: Could be use data from minotiry solvents? Does it add value/relevant information?\n",
    "\n",
    "Descriptions:\n",
    "- 3 solvent availables, one majority and two minorities\n",
    "- sample from majority and minorities: 3 samples\n",
    "- train in majority\n",
    "- evaluate in 3 samples and compare results, is there any particular improvement in majority?"
   ]
  },
  {
   "cell_type": "code",
   "execution_count": 1,
   "metadata": {},
   "outputs": [],
   "source": [
    "import numpy as np\n",
    "import pandas as pd\n",
    "import matplotlib.pyplot as plt\n",
    "import seaborn as sns\n",
    "import itertools\n",
    "from src.config import chemical_inventory_path, raw_data_path\n",
    "from src.data import notebook_utils as utils\n",
    "from src.constants import GBL_INCHI_KEY, DMSO_INCHI_KEY, DMF_INCHI_KEY, \\\n",
    "                        INCHI_TO_CHEMNAME, TARGET_COL, RXN_FEAT_NAME, ORGANOAMONIUM_INCHI_KEY_COL\n",
    "from src import plot_utils"
   ]
  },
  {
   "cell_type": "code",
   "execution_count": 2,
   "metadata": {},
   "outputs": [],
   "source": [
    "import matplotlib.pyplot as plt\n",
    "import matplotlib.ticker as mtick\n",
    "plt.style.reload_library()\n",
    "import matplotlib.patches as mpatches"
   ]
  },
  {
   "cell_type": "code",
   "execution_count": 3,
   "metadata": {},
   "outputs": [],
   "source": [
    "from sklearn.preprocessing import StandardScaler\n",
    "from sklearn.pipeline import Pipeline\n",
    "from sklearn.metrics import fbeta_score, make_scorer\n",
    "from sklearn.model_selection import RepeatedStratifiedKFold, GroupKFold, StratifiedShuffleSplit\n",
    "from sklearn.model_selection import cross_validate\n",
    "from sklearn.metrics import classification_report\n",
    "import sklearn.ensemble as ensamble_models\n",
    "import sklearn.neighbors as neighbors_models\n",
    "from sklearn.model_selection import GridSearchCV, RandomizedSearchCV\n",
    "from sklearn import linear_model as linear_models\n",
    "from sklearn.metrics import matthews_corrcoef\n",
    "from sklearn.model_selection import StratifiedGroupKFold\n",
    "from sklearn.ensemble import RandomForestClassifier, VotingClassifier\n",
    "import sklearn.svm as svm"
   ]
  },
  {
   "cell_type": "code",
   "execution_count": 4,
   "metadata": {},
   "outputs": [
    {
     "name": "stdout",
     "output_type": "stream",
     "text": [
      "/home/belu/VS Workplace/licentiate-thesis-repo\n"
     ]
    }
   ],
   "source": [
    "%cd ../.."
   ]
  },
  {
   "cell_type": "code",
   "execution_count": 5,
   "metadata": {
    "tags": []
   },
   "outputs": [],
   "source": [
    "PATH_DATA = 'data/ensemble/'\n",
    "FILE_EVAL = 'validation_set.csv'\n",
    "FILE_TEST_TRAIN = 'train_test_set.csv'\n",
    "\n",
    "SEED = 2"
   ]
  },
  {
   "cell_type": "code",
   "execution_count": 7,
   "metadata": {},
   "outputs": [],
   "source": [
    "#df_test_train = pd.read_csv(PATH_DATA+FILE_TEST_TRAIN)"
   ]
  },
  {
   "cell_type": "code",
   "execution_count": 7,
   "metadata": {},
   "outputs": [
    {
     "data": {
      "text/plain": [
       "Index(['Unnamed: 0', '_feat_WienerPolarity', '_feat_BondCount', '_feat_fr_NH0',\n",
       "       '_feat_Refractivity', '_feat_LargestRingSize',\n",
       "       '_feat_HeteroaliphaticRingCount', '_feat_fr_quatN',\n",
       "       '_feat_AromaticAtomCount', '_feat_AtomCount_C', '_feat_fr_amidine',\n",
       "       '_feat_CyclomaticNumber', '_feat_LengthPerpendicularToTheMinArea',\n",
       "       '_feat_fr_guanido', '_feat_donorcount', '_feat_fr_NH2',\n",
       "       '_feat_minimalprojectionsize', '_feat_AtomCount_N', '_feat_WienerIndex',\n",
       "       '_feat_AvgPol', '_feat_donsitecount', '_feat_Hacceptorcount',\n",
       "       '_feat_ASA-', '_feat_fr_Ar_NH', '_feat_HeteroaromaticRing Count',\n",
       "       '_feat_Accsitecount', '_feat_acceptorcount', '_feat_ASA',\n",
       "       '_feat_CarboaromaticRingCount', '_feat_BalabanIndex',\n",
       "       '_feat_SmallestRingSize', '_feat_RingAtomCount',\n",
       "       '_feat_PolarSurfaceArea', '_feat_MinimalProjectionArea',\n",
       "       '_feat_MaximalProjectionArea', '_feat_CarboRingCount',\n",
       "       '_feat_CarboaliphaticRingCount', '_feat_VanderWaalsSurfaceArea',\n",
       "       '_feat_ASA_H', '_feat_ASA+', '_feat_fr_piperdine',\n",
       "       '_feat_Aliphatic AtomCount', '_feat_AliphaticRingCount',\n",
       "       '_feat_AromaticRingCount', '_feat_LengthPerpendicularToTheMaxArea',\n",
       "       '_feat_HyperWienerIndex', '_feat_MolPol', '_feat_fr_Imine',\n",
       "       '_feat_RotatableBondCount', '_feat_maximalprojectionsize',\n",
       "       '_feat_ChainAtomCount', '_feat_MinimalProjectionRadius',\n",
       "       '_feat_VanderWaalsVolume', '_feat_ASA_P', '_feat_fr_NH1',\n",
       "       '_feat_MaximalProjectionRadius', '_feat_Hdonorcount',\n",
       "       '_feat_fr_pyridine', '_rxn_M_inorganic', '_rxn_M_organic',\n",
       "       '_rxn_M_acid', '_out_crystalscore', '_rxn_organic-inchikey'],\n",
       "      dtype='object')"
      ]
     },
     "execution_count": 7,
     "metadata": {},
     "output_type": "execute_result"
    }
   ],
   "source": [
    "df_test_train.columns"
   ]
  },
  {
   "cell_type": "code",
   "execution_count": 8,
   "metadata": {},
   "outputs": [],
   "source": [
    "df_test_train = df_test_train.drop(['Unnamed: 0', '_rxn_organic-inchikey'], axis=1)"
   ]
  },
  {
   "cell_type": "markdown",
   "metadata": {
    "tags": []
   },
   "source": [
    "El estudio de la cristalización de perovskitas mediante aprendizaje automático encuentra desafíos comunes que surgen a la hora de trabajar con datos de experimentación, cuya disponibilidad suele ser muy acotada debido a la dificultad de su generación. De allí la relevancia de estudiar técnicas que permitan desarrollar modelos robusto y no sesgados por la representación que tiene una acotada cantidad de muestras. En este capítulo se estudia la aplicación del paradigma de ensamble mediante una comparación entre los tradicionales modelos homogéneos basados en árboles de decisión y modelos heterogénos específicos para el problema de cristalización de perovskita en particular.  \n",
    "\n",
    "## Models definitions\n",
    "\n",
    "Dentro del paradigma de ensamble, los métodos basados en árboles de decisión como estimador de base son los que más aplicación y popularidad han ganado en la última década. Características como lidear con datos categóricos, insensibilidad a la estandarización y XX, resultan que estos algoritmos sean atractivos por su versatilidad y la cantidad de problemas en donde pueden aplicarse.      \n",
    "\n",
    "En general los métodos basados en árboles presentan sensiblidad a las particularedes del conjunto de entrenamiento, provocando un overfitting o sobre. De allí que los métodos más comúnmenmente empleados de ensambles usen estos tipo de estimadores\n",
    "\n",
    "# comparar rf, gbc, \n",
    "\n",
    "Actualmente Entre los algoritmos más populares por su gran capacidad de generalizaci´pn \n",
    "Tradicionalmente se \n"
   ]
  },
  {
   "cell_type": "code",
   "execution_count": 9,
   "metadata": {},
   "outputs": [],
   "source": [
    "def make_model(model_name, model_config={}):\n",
    "    try:\n",
    "        model_method = getattr(neighbors_models, model_name)\n",
    "    except AttributeError:\n",
    "        try:\n",
    "            model_method = getattr(ensamble_models, model_name)\n",
    "        except AttributeError:\n",
    "            try:\n",
    "                model_method = getattr(linear_models, model_name)\n",
    "            except AttributeError:\n",
    "                try:\n",
    "                    print('svm')\n",
    "                    model_method = getattr(svm, model_name)\n",
    "                except AttributeError:\n",
    "                    pass\n",
    "    model = model_method(**model_config)\n",
    "    return model\n",
    "                \n",
    "def split_X_y(df):\n",
    "    X = df.drop([TARGET_COL], axis=1).values\n",
    "    y = df[TARGET_COL].values\n",
    "    return X, y\n",
    "\n",
    "def get_out_groups(df):\n",
    "    df['groups'] = df.groupby([ORGANOAMONIUM_INCHI_KEY_COL]).grouper.group_info[0]\n",
    "    groups = list(df['groups'])\n",
    "    df = df.drop(['groups', ORGANOAMONIUM_INCHI_KEY_COL], axis=1)\n",
    "    return df, groups\n",
    "\n",
    "def proof_concept(model_name, df_train, df_test, model_config = {}):\n",
    "    model = make_model(model_name, model_config)\n",
    "    \n",
    "    X_test, y_test = split_X_y(df_test)\n",
    "    X_train, y_train = split_X_y(df_train)\n",
    "    \n",
    "    pipeline_steps = [('std', StandardScaler()), \n",
    "                      ('model', model)\n",
    "                     ]\n",
    "    \n",
    "    pipeline = Pipeline(steps=pipeline_steps)\n",
    "    \n",
    "    pipeline.fit(X_train, y_train)\n",
    "    \n",
    "    y_pred =  pipeline.predict(X_test)\n",
    "    \n",
    "    matt = matthews_corrcoef(y_test, y_pred)\n",
    "    \n",
    "    report = classification_report(y_test, y_pred, labels=[0,1], \n",
    "                                   output_dict=True, target_names=[\"No cristaliza\", \"Cristaliza\"])\n",
    "    \n",
    "    report_df =  pd.DataFrame(report).transpose()\n",
    "    \n",
    "    report_df[\"matthew\"] = matt\n",
    "    \n",
    "    return report_df\n",
    "\n",
    "def proof_concept_model(model_name, df_train, df_test, model_config = {}):\n",
    "    model = make_model(model_name, model_config)\n",
    "    \n",
    "    X_test, y_test = split_X_y(df_test)\n",
    "    X_train, y_train = split_X_y(df_train)\n",
    "    \n",
    "    pipeline_steps = [('std', StandardScaler()), \n",
    "                      ('model', model)\n",
    "                     ]\n",
    "    \n",
    "    pipeline = Pipeline(steps=pipeline_steps)\n",
    "    \n",
    "    pipeline.fit(X_train, y_train)\n",
    "    \n",
    "    return pipeline\n",
    "    \n",
    "def full_pipeline(model_name, df, params):\n",
    "    \n",
    "    model = make_model(model_name)\n",
    "    \n",
    "    X, y = split_X_y(df)\n",
    "    \n",
    "    pipeline_steps = [('std', StandardScaler()), \n",
    "                      ('model', model)\n",
    "                     ]\n",
    "    pipeline = Pipeline(steps=pipeline_steps)\n",
    "    \n",
    "    k_fold_config = params['k_fold_config']\n",
    "    \n",
    "    params_search = params['params_search']\n",
    "    \n",
    "    cv = StratifiedShuffleSplit(**k_fold_config)\n",
    "\n",
    "    scoring={\n",
    "            'recall': 'recall', \n",
    "            'f1': 'f1',\n",
    "            'precision': 'precision',\n",
    "            'matthew': make_scorer(matthews_corrcoef)\n",
    "    }\n",
    "    optimizing_metric = 'matthew'\n",
    "    \n",
    "    clf = RandomizedSearchCV(pipeline,\n",
    "                             params_search, \n",
    "                             cv=cv,\n",
    "                             scoring=scoring,\n",
    "                             random_state=SEED,\n",
    "                             n_jobs=-1,\n",
    "                             refit=optimizing_metric,\n",
    "                             error_score=0,\n",
    "                             n_iter=params['n_iter'],\n",
    "                            )\n",
    "    clf.fit(X, y)\n",
    "    \n",
    "    return clf"
   ]
  },
  {
   "cell_type": "code",
   "execution_count": 10,
   "metadata": {},
   "outputs": [],
   "source": [
    "results_path = 'results/ensamble/'\n",
    "\n",
    "models = {\n",
    "    'knn':'KNeighborsClassifier',\n",
    "    'lg': 'LogisticRegression',\n",
    "    'rf':'RandomForestClassifier',\n",
    "    'gbc':'GradientBoostingClassifier',\n",
    "    'svm':'SVC',\n",
    "    'bagg': 'BaggingClassifier',\n",
    "    'dt': 'DecisionTreeClassifier'\n",
    "}\n",
    "\n",
    "\n",
    "grid_params_lg_default = dict(\n",
    "                      model__dual=[False],\n",
    "                      model__class_weight=['balanced'],\n",
    "                      model__penalty=['l1','l2'],\n",
    "                      model__random_state=[SEED],\n",
    "                      model__solver=['saga'],\n",
    "                      model__n_jobs=[-1]\n",
    "                     )\n",
    "\n",
    "grid_params_rf_default = dict(\n",
    "                      model__min_samples_split=[10,7,15,20],\n",
    "                      model__min_samples_leaf=[3,6],\n",
    "                      model__warm_start=[False],\n",
    "                      model__class_weight=[None]\n",
    "                     )\n",
    "\n",
    "grid_params_gbc_default = dict(\n",
    "                      model__subsample=[0.9],\n",
    "                      model__min_samples_split=[10,7,15,20],\n",
    "                      model__min_samples_leaf=[3,6],\n",
    "                      model__random_state=[SEED],\n",
    "                     )\n",
    "\n",
    "\n",
    "grid_params_svm_default = dict(\n",
    "                      model__class_weight=['balanced'],\n",
    "                      model__kernel=['linear', 'poly', 'rbf'],\n",
    "                      model__degree=[3,4,5],\n",
    "                      model__random_state=[SEED],\n",
    "                     )\n",
    "\n",
    "grid_params_knn_default = dict(\n",
    "                            model__n_jobs=[-1],\n",
    "                            model__weights=['uniform', 'distance'],\n",
    ")\n",
    "\n",
    "grid_params_bagg_default = dict(\n",
    "                            model__n_jobs=[-1],\n",
    "                            model__random_state=[SEED],\n",
    ")\n",
    "\n",
    "\n",
    "k_splits = 2\n",
    "\n",
    "k_fold_config_default = {\n",
    "    'random_state': SEED,\n",
    "    #'shuffle': True,\n",
    "    'n_splits': k_splits\n",
    "}\n",
    "\n",
    "params_example = {\n",
    "    'k_fold_config': k_fold_config_default,\n",
    "    'params_search': grid_params_rf_default,\n",
    "    'n_iter': 50\n",
    "}"
   ]
  },
  {
   "cell_type": "code",
   "execution_count": 11,
   "metadata": {},
   "outputs": [],
   "source": [
    "# parameters exploration\n",
    "grid_params_lg_default = dict(\n",
    "                      dual=False,\n",
    "                      class_weight='balanced',\n",
    "                      #model__penalty=['l1','l2'],\n",
    "                      penalty='l1',\n",
    "                      random_state=SEED,\n",
    "                      solver='saga',\n",
    "                      n_jobs=-1\n",
    "                     )\n",
    "grid_params_svm_default = dict(\n",
    "                            class_weight='balanced',\n",
    "                            degree=3,\n",
    "                            probability=True,\n",
    "                            random_state=SEED)\n",
    "\n",
    "grid_params_knn_default = dict(\n",
    "                            n_jobs=-1,\n",
    "                            weights='distance',\n",
    ")\n",
    "\n",
    "# KNN\n",
    "grid_params_knn = grid_params_knn_default.copy()\n",
    "grid_params_knn['n_neighbors'] = 6\n",
    "\n",
    "# LG\n",
    "grid_params_lg = grid_params_lg_default.copy()\n",
    "grid_params_lg['C'] = 0.15\n",
    "grid_params_lg['max_iter'] = 3000\n",
    "\n",
    "# SVM linear\n",
    "grid_params_svm_linear = grid_params_svm_default.copy()\n",
    "grid_params_svm_linear['C'] = 10\n",
    "grid_params_svm_linear['kernel']='linear'\n",
    "\n",
    "grid_param_dt = {\n",
    "    'max_depth': 7,\n",
    "    'class_weigth': 'balanced'\n",
    "}\n",
    "\n",
    "\n",
    "def run_param_exploration_bagging(base_estimator_name,\n",
    "                                  base_estimator_param,\n",
    "                                  model__n_estimators,\n",
    "                                  n_iter,\n",
    "                                  k_fold_config=k_fold_config_default,\n",
    "                                  file_name='no_file_name.csv'):\n",
    "    grid_params = {}\n",
    "    grid_params['model__n_estimators'] = model__n_estimators\n",
    "    grid_params['model__base_estimator'] = [make_model(models[base_estimator_name], model_config=base_estimator_param)]\n",
    "    grid_params['model__n_jobs'] = [-1]\n",
    "    grid_params['model__random_state'] = [1,2,3,4,5,6]\n",
    "    \n",
    "    params = {\n",
    "        'k_fold_config': k_fold_config,\n",
    "        'params_search': grid_params,\n",
    "        'n_iter': n_iter\n",
    "    }\n",
    "    gs = full_pipeline(models['bagg'], df_test_train, params)\n",
    "    df_res = pd.DataFrame.from_dict(gs.cv_results_)\n",
    "    df_res.to_csv(results_path+base_estimator_name+file_name, index=None)\n",
    "    return df_res"
   ]
  },
  {
   "cell_type": "code",
   "execution_count": 12,
   "metadata": {},
   "outputs": [
    {
     "data": {
      "text/plain": [
       "'results/ensamble/'"
      ]
     },
     "execution_count": 12,
     "metadata": {},
     "output_type": "execute_result"
    }
   ],
   "source": [
    "results_path"
   ]
  },
  {
   "cell_type": "code",
   "execution_count": 16,
   "metadata": {},
   "outputs": [
    {
     "name": "stderr",
     "output_type": "stream",
     "text": [
      "/Users/mticona/.local/share/virtualenvs/licentiate-thesis-repo-_Hfi4eev/lib/python3.9/site-packages/sklearn/model_selection/_search.py:306: UserWarning: The total space of parameters 42 is smaller than n_iter=80. Running 42 iterations. For exhaustive searches, use GridSearchCV.\n",
      "  warnings.warn(\n"
     ]
    }
   ],
   "source": [
    "bagging_models = ['knn', 'svm', 'lg', 'dt']\n",
    "bagging_models_args = [grid_params_knn, grid_params_svm_linear, grid_params_lg, grid_param_dt]\n",
    "\n",
    "# explore regularization\n",
    "model__n_estimators = [1,3, 5, 20, 100, 300, 500]\n",
    "file_depth = '_final_bagging_estimators.csv'\n",
    "df_bagging = run_param_exploration_bagging(bagging_models[2],\n",
    "                                           bagging_models_args[2],\n",
    "                                           model__n_estimators, file_name=file_depth, n_iter=80)"
   ]
  },
  {
   "cell_type": "code",
   "execution_count": 18,
   "metadata": {},
   "outputs": [
    {
     "data": {
      "text/plain": [
       "<AxesSubplot:xlabel='param_model__n_estimators', ylabel='mean_test_matthew'>"
      ]
     },
     "execution_count": 18,
     "metadata": {},
     "output_type": "execute_result"
    },
    {
     "data": {
      "image/png": "[encoded data removed]",
      "text/plain": [
       "<Figure size 432x288 with 1 Axes>"
      ]
     },
     "metadata": {
      "needs_background": "light"
     },
     "output_type": "display_data"
    }
   ],
   "source": [
    "sns.scatterplot(x=df_bagging['param_model__n_estimators'], y=df_bagging['mean_test_matthew'], \n",
    "            hue=df_bagging['param_model__random_state'])\n",
    "#plt.legend(loc='upper left')\n",
    "#plt.savefig('figures/ensemble/bagging/'+bagging_models[1]+file_depth+'.pdf', dpi=300)"
   ]
  },
  {
   "cell_type": "code",
   "execution_count": 46,
   "metadata": {},
   "outputs": [
    {
     "data": {
      "text/plain": [
       "<matplotlib.legend.Legend at 0x139c7d2b0>"
      ]
     },
     "execution_count": 46,
     "metadata": {},
     "output_type": "execute_result"
    },
    {
     "data": {
      "image/png": "[encoded data removed]",
      "text/plain": [
       "<Figure size 432x288 with 1 Axes>"
      ]
     },
     "metadata": {
      "needs_background": "light"
     },
     "output_type": "display_data"
    }
   ],
   "source": [
    "sns.scatterplot(x=df_bagging['param_model__n_estimators'], y=df_bagging['mean_test_matthew'], \n",
    "            hue=df_bagging['param_model__random_state'])\n",
    "plt.legend(loc='upper left')\n",
    "#plt.savefig('figures/ensemble/bagging/'+bagging_models[1]+file_depth+'.pdf', dpi=300)"
   ]
  },
  {
   "cell_type": "code",
   "execution_count": 42,
   "metadata": {},
   "outputs": [
    {
     "data": {
      "text/plain": [
       "<matplotlib.legend.Legend at 0x13a100d90>"
      ]
     },
     "execution_count": 42,
     "metadata": {},
     "output_type": "execute_result"
    },
    {
     "data": {
      "image/png": "[encoded data removed]",
      "text/plain": [
       "<Figure size 432x288 with 1 Axes>"
      ]
     },
     "metadata": {
      "needs_background": "light"
     },
     "output_type": "display_data"
    }
   ],
   "source": [
    "sns.scatterplot(x=df_bagging['param_model__n_estimators'], y=df_bagging['mean_test_matthew'], \n",
    "            hue=df_bagging['param_model__random_state'])\n",
    "plt.legend(loc='upper left')\n",
    "#plt.savefig('figures/ensemble/bagging/'+bagging_models[1]+file_depth+'.pdf', dpi=300)  LG"
   ]
  },
  {
   "cell_type": "code",
   "execution_count": 28,
   "metadata": {},
   "outputs": [
    {
     "data": {
      "image/png": "[encoded data removed]",
      "text/plain": [
       "<Figure size 432x288 with 1 Axes>"
      ]
     },
     "metadata": {
      "needs_background": "light"
     },
     "output_type": "display_data"
    }
   ],
   "source": [
    "sns.scatterplot(x=df_bagging['param_model__n_estimators'], y=df_bagging['mean_test_matthew'], \n",
    "            hue=df_bagging['param_model__random_state'])\n",
    "plt.legend(loc='upper left')\n",
    "#plt.savefig('figures/ensemble/bagging/'+bagging_models[1]+file_depth+'.pdf', dpi=300)"
   ]
  },
  {
   "cell_type": "code",
   "execution_count": null,
   "metadata": {},
   "outputs": [],
   "source": [
    "df_bagging = run_param_exploration_bagging(bagging_models[1],\n",
    "                                           bagging_models_args[1],\n",
    "                                           model__n_estimators, file_name=file_depth, n_iter=5)"
   ]
  },
  {
   "cell_type": "code",
   "execution_count": 50,
   "metadata": {},
   "outputs": [],
   "source": [
    "# parameters exploration\n",
    "\n",
    "def run_param_exploration_knn(model__n_neighbors,\n",
    "                             n_iter=150,\n",
    "                             k_fold_config=k_fold_config_default,\n",
    "                             file_name='no_file_name.csv'):\n",
    "    grid_params_knn = grid_params_knn_default.copy()\n",
    "    grid_params_knn['model__n_neighbors'] = model_n_neighbors\n",
    "    params = {\n",
    "        'k_fold_config': k_fold_config,\n",
    "        'params_search': grid_params_knn,\n",
    "        'n_iter': n_iter\n",
    "    }\n",
    "    gs = full_pipeline(models['knn'], df_test_train, params)\n",
    "    df_res = pd.DataFrame.from_dict(gs.cv_results_)\n",
    "    df_res.to_csv(results_path+file_name, index=None)\n",
    "    return df_res"
   ]
  },
  {
   "cell_type": "code",
   "execution_count": 26,
   "metadata": {},
   "outputs": [],
   "source": [
    "# explore regularization\n",
    "model__n_neighbors = np.arange(1, 25, 1)\n",
    "file_depth = 'knn_explore_neigh.csv'\n",
    "df_neigh = run_param_exploration_knn(model__n_neighbors, file_name=file_depth, n_iter=30)"
   ]
  },
  {
   "cell_type": "code",
   "execution_count": 27,
   "metadata": {},
   "outputs": [
    {
     "data": {
      "text/plain": [
       "<AxesSubplot:xlabel='param_model__n_neighbors', ylabel='mean_test_matthew'>"
      ]
     },
     "execution_count": 27,
     "metadata": {},
     "output_type": "execute_result"
    },
    {
     "data": {
      "image/png": "[encoded data removed]",
      "text/plain": [
       "<Figure size 432x288 with 1 Axes>"
      ]
     },
     "metadata": {
      "needs_background": "light"
     },
     "output_type": "display_data"
    }
   ],
   "source": [
    "sns.scatterplot(x=df_neigh['param_model__n_neighbors'], y=df_neigh['mean_test_matthew'], \n",
    "            hue=df_neigh['param_model__weights'])\n",
    "#plt.savefig('explore_gbc_learning_depth_better_learn_rate_plot_depth_seed_2.pdf', dpi=300)"
   ]
  },
  {
   "cell_type": "code",
   "execution_count": 94,
   "metadata": {},
   "outputs": [],
   "source": [
    "# parameters exploration\n",
    "\n",
    "def run_param_exploration_lg(model__C_range,\n",
    "                             n_iter=100,\n",
    "                             max_iter=150,\n",
    "                             k_fold_config=k_fold_config_default,\n",
    "                             file_name='no_file_name.csv'):\n",
    "    grid_params_lg = grid_params_lg_default.copy()\n",
    "    grid_params_lg['model__C'] = model__C_range\n",
    "    grid_params_lg['model__max_iter'] = [max_iter]\n",
    "    params = {\n",
    "        'k_fold_config': k_fold_config,\n",
    "        'params_search': grid_params_lg,\n",
    "        'n_iter': n_iter\n",
    "    }\n",
    "    gs = full_pipeline(models['lg'], df_test_train, params)\n",
    "    df_res = pd.DataFrame.from_dict(gs.cv_results_)\n",
    "    df_res.to_csv(results_path+file_name, index=None)\n",
    "    return df_res"
   ]
  },
  {
   "cell_type": "code",
   "execution_count": 71,
   "metadata": {},
   "outputs": [
    {
     "name": "stderr",
     "output_type": "stream",
     "text": [
      "/Users/mticona/.local/share/virtualenvs/licentiate-thesis-repo-_Hfi4eev/lib/python3.9/site-packages/sklearn/model_selection/_search.py:306: UserWarning: The total space of parameters 24 is smaller than n_iter=100. Running 24 iterations. For exhaustive searches, use GridSearchCV.\n",
      "  warnings.warn(\n",
      "/Users/mticona/.local/share/virtualenvs/licentiate-thesis-repo-_Hfi4eev/lib/python3.9/site-packages/sklearn/linear_model/_sag.py:350: ConvergenceWarning: The max_iter was reached which means the coef_ did not converge\n",
      "  warnings.warn(\n",
      "/Users/mticona/.local/share/virtualenvs/licentiate-thesis-repo-_Hfi4eev/lib/python3.9/site-packages/sklearn/linear_model/_sag.py:350: ConvergenceWarning: The max_iter was reached which means the coef_ did not converge\n",
      "  warnings.warn(\n"
     ]
    }
   ],
   "source": [
    "# explore regularization\n",
    "model__C = np.arange(0.1, 0.7, 0.05)\n",
    "file_depth = 'lg_explore_C_class.csv'\n",
    "df_C_class = run_param_exploration_lg(model__C, file_name=file_depth, max_iter=3000)"
   ]
  },
  {
   "cell_type": "code",
   "execution_count": 106,
   "metadata": {},
   "outputs": [],
   "source": [
    "# parameters exploration\n",
    "def run_param_exploration_svm(model__C,\n",
    "                              n_iter=100, \n",
    "                              k_fold_config=k_fold_config_default,\n",
    "                              file_name='no_file_name.csv'):\n",
    "    grid_params_svm = grid_params_svm_default.copy()\n",
    "    grid_params_svm['model__C'] = model__C\n",
    "    params = {\n",
    "        'k_fold_config': k_fold_config,\n",
    "        'params_search': grid_params_svm,\n",
    "        'n_iter': n_iter\n",
    "    }\n",
    "    gs = full_pipeline(models['svm'], df_test_train, params)\n",
    "    df_res = pd.DataFrame.from_dict(gs.cv_results_)\n",
    "    df_res.to_csv(results_path+file_name, index=None)\n",
    "    return df_res"
   ]
  },
  {
   "cell_type": "code",
   "execution_count": 107,
   "metadata": {},
   "outputs": [
    {
     "name": "stderr",
     "output_type": "stream",
     "text": [
      "/Users/mticona/.local/share/virtualenvs/licentiate-thesis-repo-_Hfi4eev/lib/python3.9/site-packages/sklearn/model_selection/_search.py:306: UserWarning: The total space of parameters 54 is smaller than n_iter=100. Running 54 iterations. For exhaustive searches, use GridSearchCV.\n",
      "  warnings.warn(\n"
     ]
    }
   ],
   "source": [
    "# explore regularization\n",
    "model__C = [0.5, 1, 5, 10, 50, 100]\n",
    "file_depth = 'svm_explore_C_0.5_100.csv'\n",
    "df_svm_C_class = run_param_exploration_svm(model__C, file_name=file_depth)"
   ]
  },
  {
   "cell_type": "code",
   "execution_count": 109,
   "metadata": {},
   "outputs": [
    {
     "data": {
      "image/png": "[encoded data removed]",
      "text/plain": [
       "<Figure size 432x288 with 1 Axes>"
      ]
     },
     "metadata": {
      "needs_background": "light"
     },
     "output_type": "display_data"
    }
   ],
   "source": [
    "sns.boxplot(x=df_svm_C_class['param_model__kernel'], y=df_svm_C_class['mean_test_matthew'], \n",
    "            hue=df_svm_C_class['param_model__C'])\n",
    "plt.savefig('explore_gbc_learning_depth_better_learn_rate_plot_depth_seed_2.pdf', dpi=300)"
   ]
  },
  {
   "cell_type": "code",
   "execution_count": 103,
   "metadata": {},
   "outputs": [
    {
     "data": {
      "text/plain": [
       "<AxesSubplot:xlabel='param_model__kernel', ylabel='mean_test_matthew'>"
      ]
     },
     "execution_count": 103,
     "metadata": {},
     "output_type": "execute_result"
    },
    {
     "data": {
      "image/png": "[encoded data removed]",
      "text/plain": [
       "<Figure size 432x288 with 1 Axes>"
      ]
     },
     "metadata": {
      "needs_background": "light"
     },
     "output_type": "display_data"
    }
   ],
   "source": [
    "sns.boxplot(x=df_svm_C_class['param_model__kernel'], y=df_svm_C_class['mean_test_matthew'], \n",
    "            hue=df_svm_C_class['param_model__C'])\n",
    "#plt.savefig('explore_gbc_learning_depth_better_learn_rate_plot_depth_seed_2.pdf', dpi=300)"
   ]
  },
  {
   "cell_type": "code",
   "execution_count": 97,
   "metadata": {},
   "outputs": [
    {
     "data": {
      "text/plain": [
       "<AxesSubplot:xlabel='param_model__kernel', ylabel='mean_test_matthew'>"
      ]
     },
     "execution_count": 97,
     "metadata": {},
     "output_type": "execute_result"
    },
    {
     "data": {
      "image/png": "[encoded data removed]",
      "text/plain": [
       "<Figure size 432x288 with 1 Axes>"
      ]
     },
     "metadata": {
      "needs_background": "light"
     },
     "output_type": "display_data"
    }
   ],
   "source": [
    "sns.boxplot(x=df_svm_C_class['param_model__kernel'], y=df_svm_C_class['mean_test_matthew'], \n",
    "            hue=df_svm_C_class['param_model__C'])\n",
    "#plt.savefig('explore_gbc_learning_depth_better_learn_rate_plot_depth_seed_2.pdf', dpi=300)"
   ]
  },
  {
   "cell_type": "code",
   "execution_count": 12,
   "metadata": {},
   "outputs": [],
   "source": [
    "# parameters exploration\n",
    "\n",
    "def run_param_exploration_gbc(model__max_depth,\n",
    "                              model__n_estimators,\n",
    "                              model__learning_rate,\n",
    "                              n_iter=100, \n",
    "                              k_fold_config=k_fold_config_default,\n",
    "                              file_name='no_file_name.csv'):\n",
    "    grid_params_gbc = grid_params_gbc_default.copy()\n",
    "    grid_params_gbc['model__n_estimators'] = model__n_estimators\n",
    "    grid_params_gbc['model__max_depth'] = model__max_depth\n",
    "    grid_params_gbc['model__learning_rate'] = model__learning_rate\n",
    "    params = {\n",
    "        'k_fold_config': k_fold_config,\n",
    "        'params_search': grid_params_gbc,\n",
    "        'n_iter': n_iter\n",
    "    }\n",
    "    gs = full_pipeline(models['gbc'], df_test_train, params)\n",
    "    df_res = pd.DataFrame.from_dict(gs.cv_results_)\n",
    "    df_res.to_csv(results_path+file_name, index=None)\n",
    "    return df_res"
   ]
  },
  {
   "cell_type": "code",
   "execution_count": 28,
   "metadata": {},
   "outputs": [
    {
     "name": "stderr",
     "output_type": "stream",
     "text": [
      "/Users/mticona/.local/share/virtualenvs/licentiate-thesis-repo-_Hfi4eev/lib/python3.9/site-packages/sklearn/metrics/_classification.py:1327: UndefinedMetricWarning: Precision is ill-defined and being set to 0.0 due to no predicted samples. Use `zero_division` parameter to control this behavior.\n",
      "  _warn_prf(average, modifier, msg_start, len(result))\n",
      "/Users/mticona/.local/share/virtualenvs/licentiate-thesis-repo-_Hfi4eev/lib/python3.9/site-packages/sklearn/metrics/_classification.py:1327: UndefinedMetricWarning: Precision is ill-defined and being set to 0.0 due to no predicted samples. Use `zero_division` parameter to control this behavior.\n",
      "  _warn_prf(average, modifier, msg_start, len(result))\n",
      "/Users/mticona/.local/share/virtualenvs/licentiate-thesis-repo-_Hfi4eev/lib/python3.9/site-packages/sklearn/metrics/_classification.py:1327: UndefinedMetricWarning: Precision is ill-defined and being set to 0.0 due to no predicted samples. Use `zero_division` parameter to control this behavior.\n",
      "  _warn_prf(average, modifier, msg_start, len(result))\n",
      "/Users/mticona/.local/share/virtualenvs/licentiate-thesis-repo-_Hfi4eev/lib/python3.9/site-packages/sklearn/metrics/_classification.py:1327: UndefinedMetricWarning: Precision is ill-defined and being set to 0.0 due to no predicted samples. Use `zero_division` parameter to control this behavior.\n",
      "  _warn_prf(average, modifier, msg_start, len(result))\n",
      "/Users/mticona/.local/share/virtualenvs/licentiate-thesis-repo-_Hfi4eev/lib/python3.9/site-packages/sklearn/metrics/_classification.py:1327: UndefinedMetricWarning: Precision is ill-defined and being set to 0.0 due to no predicted samples. Use `zero_division` parameter to control this behavior.\n",
      "  _warn_prf(average, modifier, msg_start, len(result))\n",
      "/Users/mticona/.local/share/virtualenvs/licentiate-thesis-repo-_Hfi4eev/lib/python3.9/site-packages/sklearn/metrics/_classification.py:1327: UndefinedMetricWarning: Precision is ill-defined and being set to 0.0 due to no predicted samples. Use `zero_division` parameter to control this behavior.\n",
      "  _warn_prf(average, modifier, msg_start, len(result))\n",
      "/Users/mticona/.local/share/virtualenvs/licentiate-thesis-repo-_Hfi4eev/lib/python3.9/site-packages/sklearn/metrics/_classification.py:1327: UndefinedMetricWarning: Precision is ill-defined and being set to 0.0 due to no predicted samples. Use `zero_division` parameter to control this behavior.\n",
      "  _warn_prf(average, modifier, msg_start, len(result))\n",
      "/Users/mticona/.local/share/virtualenvs/licentiate-thesis-repo-_Hfi4eev/lib/python3.9/site-packages/sklearn/metrics/_classification.py:1327: UndefinedMetricWarning: Precision is ill-defined and being set to 0.0 due to no predicted samples. Use `zero_division` parameter to control this behavior.\n",
      "  _warn_prf(average, modifier, msg_start, len(result))\n",
      "/Users/mticona/.local/share/virtualenvs/licentiate-thesis-repo-_Hfi4eev/lib/python3.9/site-packages/sklearn/metrics/_classification.py:1327: UndefinedMetricWarning: Precision is ill-defined and being set to 0.0 due to no predicted samples. Use `zero_division` parameter to control this behavior.\n",
      "  _warn_prf(average, modifier, msg_start, len(result))\n",
      "/Users/mticona/.local/share/virtualenvs/licentiate-thesis-repo-_Hfi4eev/lib/python3.9/site-packages/sklearn/metrics/_classification.py:1327: UndefinedMetricWarning: Precision is ill-defined and being set to 0.0 due to no predicted samples. Use `zero_division` parameter to control this behavior.\n",
      "  _warn_prf(average, modifier, msg_start, len(result))\n",
      "/Users/mticona/.local/share/virtualenvs/licentiate-thesis-repo-_Hfi4eev/lib/python3.9/site-packages/sklearn/metrics/_classification.py:1327: UndefinedMetricWarning: Precision is ill-defined and being set to 0.0 due to no predicted samples. Use `zero_division` parameter to control this behavior.\n",
      "  _warn_prf(average, modifier, msg_start, len(result))\n",
      "/Users/mticona/.local/share/virtualenvs/licentiate-thesis-repo-_Hfi4eev/lib/python3.9/site-packages/sklearn/metrics/_classification.py:1327: UndefinedMetricWarning: Precision is ill-defined and being set to 0.0 due to no predicted samples. Use `zero_division` parameter to control this behavior.\n",
      "  _warn_prf(average, modifier, msg_start, len(result))\n",
      "/Users/mticona/.local/share/virtualenvs/licentiate-thesis-repo-_Hfi4eev/lib/python3.9/site-packages/sklearn/metrics/_classification.py:1327: UndefinedMetricWarning: Precision is ill-defined and being set to 0.0 due to no predicted samples. Use `zero_division` parameter to control this behavior.\n",
      "  _warn_prf(average, modifier, msg_start, len(result))\n",
      "/Users/mticona/.local/share/virtualenvs/licentiate-thesis-repo-_Hfi4eev/lib/python3.9/site-packages/sklearn/metrics/_classification.py:1327: UndefinedMetricWarning: Precision is ill-defined and being set to 0.0 due to no predicted samples. Use `zero_division` parameter to control this behavior.\n",
      "  _warn_prf(average, modifier, msg_start, len(result))\n",
      "/Users/mticona/.local/share/virtualenvs/licentiate-thesis-repo-_Hfi4eev/lib/python3.9/site-packages/sklearn/metrics/_classification.py:1327: UndefinedMetricWarning: Precision is ill-defined and being set to 0.0 due to no predicted samples. Use `zero_division` parameter to control this behavior.\n",
      "  _warn_prf(average, modifier, msg_start, len(result))\n",
      "/Users/mticona/.local/share/virtualenvs/licentiate-thesis-repo-_Hfi4eev/lib/python3.9/site-packages/sklearn/metrics/_classification.py:1327: UndefinedMetricWarning: Precision is ill-defined and being set to 0.0 due to no predicted samples. Use `zero_division` parameter to control this behavior.\n",
      "  _warn_prf(average, modifier, msg_start, len(result))\n",
      "/Users/mticona/.local/share/virtualenvs/licentiate-thesis-repo-_Hfi4eev/lib/python3.9/site-packages/sklearn/metrics/_classification.py:1327: UndefinedMetricWarning: Precision is ill-defined and being set to 0.0 due to no predicted samples. Use `zero_division` parameter to control this behavior.\n",
      "  _warn_prf(average, modifier, msg_start, len(result))\n",
      "/Users/mticona/.local/share/virtualenvs/licentiate-thesis-repo-_Hfi4eev/lib/python3.9/site-packages/sklearn/metrics/_classification.py:1327: UndefinedMetricWarning: Precision is ill-defined and being set to 0.0 due to no predicted samples. Use `zero_division` parameter to control this behavior.\n",
      "  _warn_prf(average, modifier, msg_start, len(result))\n",
      "/Users/mticona/.local/share/virtualenvs/licentiate-thesis-repo-_Hfi4eev/lib/python3.9/site-packages/sklearn/metrics/_classification.py:1327: UndefinedMetricWarning: Precision is ill-defined and being set to 0.0 due to no predicted samples. Use `zero_division` parameter to control this behavior.\n",
      "  _warn_prf(average, modifier, msg_start, len(result))\n",
      "/Users/mticona/.local/share/virtualenvs/licentiate-thesis-repo-_Hfi4eev/lib/python3.9/site-packages/sklearn/metrics/_classification.py:1327: UndefinedMetricWarning: Precision is ill-defined and being set to 0.0 due to no predicted samples. Use `zero_division` parameter to control this behavior.\n",
      "  _warn_prf(average, modifier, msg_start, len(result))\n",
      "/Users/mticona/.local/share/virtualenvs/licentiate-thesis-repo-_Hfi4eev/lib/python3.9/site-packages/sklearn/metrics/_classification.py:1327: UndefinedMetricWarning: Precision is ill-defined and being set to 0.0 due to no predicted samples. Use `zero_division` parameter to control this behavior.\n",
      "  _warn_prf(average, modifier, msg_start, len(result))\n",
      "/Users/mticona/.local/share/virtualenvs/licentiate-thesis-repo-_Hfi4eev/lib/python3.9/site-packages/sklearn/metrics/_classification.py:1327: UndefinedMetricWarning: Precision is ill-defined and being set to 0.0 due to no predicted samples. Use `zero_division` parameter to control this behavior.\n",
      "  _warn_prf(average, modifier, msg_start, len(result))\n",
      "/Users/mticona/.local/share/virtualenvs/licentiate-thesis-repo-_Hfi4eev/lib/python3.9/site-packages/sklearn/metrics/_classification.py:1327: UndefinedMetricWarning: Precision is ill-defined and being set to 0.0 due to no predicted samples. Use `zero_division` parameter to control this behavior.\n",
      "  _warn_prf(average, modifier, msg_start, len(result))\n",
      "/Users/mticona/.local/share/virtualenvs/licentiate-thesis-repo-_Hfi4eev/lib/python3.9/site-packages/sklearn/metrics/_classification.py:1327: UndefinedMetricWarning: Precision is ill-defined and being set to 0.0 due to no predicted samples. Use `zero_division` parameter to control this behavior.\n",
      "  _warn_prf(average, modifier, msg_start, len(result))\n"
     ]
    }
   ],
   "source": [
    "# explore regularization\n",
    "model__max_depth=[10]\n",
    "model__n_estimators=np.arange(5, 300, 50)\n",
    "model__learning_rate = [0.01, 0.1, 0.2, 0.3]\n",
    "file_depth = 'gbc_explore_learning_depth_estimators.csv'\n",
    "df_gbc_learning = run_param_exploration_gbc(model__max_depth,\n",
    "                                            model__n_estimators,\n",
    "                                            model__learning_rate,\n",
    "                                            file_name=file_depth,\n",
    "                                            n_iter=300\n",
    "                                           )"
   ]
  },
  {
   "cell_type": "code",
   "execution_count": 45,
   "metadata": {},
   "outputs": [
    {
     "name": "stderr",
     "output_type": "stream",
     "text": [
      "/Users/mticona/.local/share/virtualenvs/licentiate-thesis-repo-_Hfi4eev/lib/python3.9/site-packages/sklearn/model_selection/_search.py:306: UserWarning: The total space of parameters 168 is smaller than n_iter=200. Running 168 iterations. For exhaustive searches, use GridSearchCV.\n",
      "  warnings.warn(\n"
     ]
    }
   ],
   "source": [
    "# explore regularization\n",
    "model__max_depth=[5,7, 10,12, 15, 18, 20]\n",
    "model__n_estimators=[100]\n",
    "model__learning_rate = [0.1, 0.15, 0.2]\n",
    "file_depth = 'gbc_explore_learning_depth_better_learn_rate_2.csv'\n",
    "df_gbc_learning_depth_2 = run_param_exploration_gbc(model__max_depth,\n",
    "                                            model__n_estimators,\n",
    "                                            model__learning_rate,\n",
    "                                            file_name=file_depth,\n",
    "                                            n_iter=200\n",
    "                                           )"
   ]
  },
  {
   "cell_type": "code",
   "execution_count": 46,
   "metadata": {},
   "outputs": [
    {
     "data": {
      "image/png": "[encoded data removed]",
      "text/plain": [
       "<Figure size 432x288 with 1 Axes>"
      ]
     },
     "metadata": {
      "needs_background": "light"
     },
     "output_type": "display_data"
    }
   ],
   "source": [
    "sns.boxplot(x=df_gbc_learning_depth_2['param_model__max_depth'], y=df_gbc_learning_depth_2['mean_test_matthew'], \n",
    "            hue=df_gbc_learning_depth_2['param_model__learning_rate'])\n",
    "plt.savefig('explore_gbc_learning_depth_better_learn_rate_plot_depth_seed_2.pdf', dpi=300)"
   ]
  },
  {
   "cell_type": "code",
   "execution_count": 42,
   "metadata": {},
   "outputs": [
    {
     "data": {
      "image/png": "[encoded data removed]",
      "text/plain": [
       "<Figure size 432x288 with 1 Axes>"
      ]
     },
     "metadata": {
      "needs_background": "light"
     },
     "output_type": "display_data"
    }
   ],
   "source": [
    "sns.boxplot(x=df_gbc_learning_depth_2['param_model__max_depth'], y=df_gbc_learning_depth_2['mean_test_matthew'], \n",
    "            hue=df_gbc_learning_depth_2['param_model__learning_rate'])\n",
    "plt.savefig('explore_gbc_learning_depth_better_learn_rate_plot_depth_seed_1.pdf', dpi=300)"
   ]
  },
  {
   "cell_type": "code",
   "execution_count": 39,
   "metadata": {},
   "outputs": [
    {
     "data": {
      "image/png": "[encoded data removed]",
      "text/plain": [
       "<Figure size 432x288 with 1 Axes>"
      ]
     },
     "metadata": {
      "needs_background": "light"
     },
     "output_type": "display_data"
    }
   ],
   "source": [
    "sns.boxplot(x=df_gbc_learning_depth['param_model__max_depth'], y=df_gbc_learning_depth['mean_test_matthew'], \n",
    "            hue=df_gbc_learning_depth['param_model__learning_rate'])\n",
    "plt.savefig('explore_gbc_learning_depth_better_learn_rate_plot_depth.pdf', dpi=300)"
   ]
  },
  {
   "cell_type": "code",
   "execution_count": 17,
   "metadata": {},
   "outputs": [
    {
     "data": {
      "text/plain": [
       "Index(['mean_fit_time', 'std_fit_time', 'mean_score_time', 'std_score_time',\n",
       "       'param_model__subsample', 'param_model__random_state',\n",
       "       'param_model__n_estimators', 'param_model__min_samples_split',\n",
       "       'param_model__min_samples_leaf', 'param_model__max_depth',\n",
       "       'param_model__learning_rate', 'params', 'split0_test_recall',\n",
       "       'split1_test_recall', 'mean_test_recall', 'std_test_recall',\n",
       "       'rank_test_recall', 'split0_test_f1', 'split1_test_f1', 'mean_test_f1',\n",
       "       'std_test_f1', 'rank_test_f1', 'split0_test_precision',\n",
       "       'split1_test_precision', 'mean_test_precision', 'std_test_precision',\n",
       "       'rank_test_precision', 'split0_test_matthew', 'split1_test_matthew',\n",
       "       'mean_test_matthew', 'std_test_matthew', 'rank_test_matthew'],\n",
       "      dtype='object')"
      ]
     },
     "execution_count": 17,
     "metadata": {},
     "output_type": "execute_result"
    }
   ],
   "source": [
    "df_gbc_learning.columns"
   ]
  },
  {
   "cell_type": "code",
   "execution_count": 26,
   "metadata": {},
   "outputs": [
    {
     "data": {
      "text/html": [
       "<div>\n",
       "<style scoped>\n",
       "    .dataframe tbody tr th:only-of-type {\n",
       "        vertical-align: middle;\n",
       "    }\n",
       "\n",
       "    .dataframe tbody tr th {\n",
       "        vertical-align: top;\n",
       "    }\n",
       "\n",
       "    .dataframe thead th {\n",
       "        text-align: right;\n",
       "    }\n",
       "</style>\n",
       "<table border=\"1\" class=\"dataframe\">\n",
       "  <thead>\n",
       "    <tr style=\"text-align: right;\">\n",
       "      <th></th>\n",
       "      <th>param_model__subsample</th>\n",
       "      <th>param_model__max_depth</th>\n",
       "      <th>param_model__learning_rate</th>\n",
       "      <th>mean_test_matthew</th>\n",
       "    </tr>\n",
       "  </thead>\n",
       "  <tbody>\n",
       "    <tr>\n",
       "      <th>41</th>\n",
       "      <td>0.6</td>\n",
       "      <td>20</td>\n",
       "      <td>0.3</td>\n",
       "      <td>0.616129</td>\n",
       "    </tr>\n",
       "    <tr>\n",
       "      <th>156</th>\n",
       "      <td>0.6</td>\n",
       "      <td>20</td>\n",
       "      <td>0.1</td>\n",
       "      <td>0.610095</td>\n",
       "    </tr>\n",
       "    <tr>\n",
       "      <th>189</th>\n",
       "      <td>1</td>\n",
       "      <td>10</td>\n",
       "      <td>0.1</td>\n",
       "      <td>0.609465</td>\n",
       "    </tr>\n",
       "    <tr>\n",
       "      <th>141</th>\n",
       "      <td>0.6</td>\n",
       "      <td>10</td>\n",
       "      <td>0.3</td>\n",
       "      <td>0.608145</td>\n",
       "    </tr>\n",
       "    <tr>\n",
       "      <th>222</th>\n",
       "      <td>1</td>\n",
       "      <td>20</td>\n",
       "      <td>0.2</td>\n",
       "      <td>0.605290</td>\n",
       "    </tr>\n",
       "    <tr>\n",
       "      <th>132</th>\n",
       "      <td>0.6</td>\n",
       "      <td>5</td>\n",
       "      <td>0.1</td>\n",
       "      <td>0.602466</td>\n",
       "    </tr>\n",
       "    <tr>\n",
       "      <th>148</th>\n",
       "      <td>0.6</td>\n",
       "      <td>20</td>\n",
       "      <td>0.1</td>\n",
       "      <td>0.601628</td>\n",
       "    </tr>\n",
       "    <tr>\n",
       "      <th>95</th>\n",
       "      <td>0.6</td>\n",
       "      <td>10</td>\n",
       "      <td>0.2</td>\n",
       "      <td>0.600659</td>\n",
       "    </tr>\n",
       "    <tr>\n",
       "      <th>11</th>\n",
       "      <td>1</td>\n",
       "      <td>15</td>\n",
       "      <td>0.3</td>\n",
       "      <td>0.600598</td>\n",
       "    </tr>\n",
       "    <tr>\n",
       "      <th>246</th>\n",
       "      <td>1</td>\n",
       "      <td>15</td>\n",
       "      <td>0.2</td>\n",
       "      <td>0.600175</td>\n",
       "    </tr>\n",
       "  </tbody>\n",
       "</table>\n",
       "</div>"
      ],
      "text/plain": [
       "    param_model__subsample param_model__max_depth param_model__learning_rate  \\\n",
       "41                     0.6                     20                        0.3   \n",
       "156                    0.6                     20                        0.1   \n",
       "189                      1                     10                        0.1   \n",
       "141                    0.6                     10                        0.3   \n",
       "222                      1                     20                        0.2   \n",
       "132                    0.6                      5                        0.1   \n",
       "148                    0.6                     20                        0.1   \n",
       "95                     0.6                     10                        0.2   \n",
       "11                       1                     15                        0.3   \n",
       "246                      1                     15                        0.2   \n",
       "\n",
       "     mean_test_matthew  \n",
       "41            0.616129  \n",
       "156           0.610095  \n",
       "189           0.609465  \n",
       "141           0.608145  \n",
       "222           0.605290  \n",
       "132           0.602466  \n",
       "148           0.601628  \n",
       "95            0.600659  \n",
       "11            0.600598  \n",
       "246           0.600175  "
      ]
     },
     "execution_count": 26,
     "metadata": {},
     "output_type": "execute_result"
    }
   ],
   "source": [
    "cols=['param_model__subsample', 'param_model__max_depth', 'param_model__learning_rate','mean_test_matthew']\n",
    "\n",
    "df_gbc_learning.sort_values('mean_test_matthew', ascending=False)[cols].head(10)"
   ]
  },
  {
   "cell_type": "code",
   "execution_count": 30,
   "metadata": {},
   "outputs": [
    {
     "data": {
      "text/plain": [
       "Index(['mean_fit_time', 'std_fit_time', 'mean_score_time', 'std_score_time',\n",
       "       'param_model__subsample', 'param_model__random_state',\n",
       "       'param_model__n_estimators', 'param_model__min_samples_split',\n",
       "       'param_model__min_samples_leaf', 'param_model__max_depth',\n",
       "       'param_model__learning_rate', 'params', 'split0_test_recall',\n",
       "       'split1_test_recall', 'mean_test_recall', 'std_test_recall',\n",
       "       'rank_test_recall', 'split0_test_f1', 'split1_test_f1', 'mean_test_f1',\n",
       "       'std_test_f1', 'rank_test_f1', 'split0_test_precision',\n",
       "       'split1_test_precision', 'mean_test_precision', 'std_test_precision',\n",
       "       'rank_test_precision', 'split0_test_matthew', 'split1_test_matthew',\n",
       "       'mean_test_matthew', 'std_test_matthew', 'rank_test_matthew'],\n",
       "      dtype='object')"
      ]
     },
     "execution_count": 30,
     "metadata": {},
     "output_type": "execute_result"
    }
   ],
   "source": [
    "df_gbc_learning.columns"
   ]
  },
  {
   "cell_type": "code",
   "execution_count": 35,
   "metadata": {},
   "outputs": [
    {
     "data": {
      "image/png": "[encoded data removed]",
      "text/plain": [
       "<Figure size 432x288 with 1 Axes>"
      ]
     },
     "metadata": {
      "needs_background": "light"
     },
     "output_type": "display_data"
    }
   ],
   "source": [
    "sns.boxplot(x=df_gbc_learning['param_model__learning_rate'], y=df_gbc_learning['mean_test_matthew'], \n",
    "            hue=df_gbc_learning['param_model__subsample'])\n",
    "plt.savefig('explore_gbc_learning_subsample.pdf', dpi=300)"
   ]
  },
  {
   "cell_type": "code",
   "execution_count": 34,
   "metadata": {},
   "outputs": [
    {
     "data": {
      "image/png": "[encoded data removed]",
      "text/plain": [
       "<Figure size 432x288 with 1 Axes>"
      ]
     },
     "metadata": {
      "needs_background": "light"
     },
     "output_type": "display_data"
    }
   ],
   "source": [
    "sns.boxplot(x=df_gbc_learning['param_model__learning_rate'], y=df_gbc_learning['mean_test_matthew'], \n",
    "            hue=df_gbc_learning['param_model__n_estimators'])\n",
    "plt.savefig('explore_gbc_learning_estimators.pdf', dpi=300)"
   ]
  },
  {
   "cell_type": "code",
   "execution_count": 72,
   "metadata": {},
   "outputs": [],
   "source": [
    "#cols=['param_model__C', 'param_model__penalty', 'mean_test_matthew']\n",
    "#df_C_class.sort_values('mean_test_matthew', ascending=False)[cols]"
   ]
  },
  {
   "cell_type": "code",
   "execution_count": 1,
   "metadata": {},
   "outputs": [
    {
     "data": {
      "text/plain": [
       "3"
      ]
     },
     "execution_count": 1,
     "metadata": {},
     "output_type": "execute_result"
    }
   ],
   "source": [
    "# LG\n",
    "\n",
    "\n",
    "# GBC\n",
    "\n",
    "\n",
    "# RF balanced\n",
    "\n",
    "\n",
    "# KNN\n",
    "\n",
    "\n",
    "# SVM"
   ]
  },
  {
   "cell_type": "code",
   "execution_count": 226,
   "metadata": {},
   "outputs": [],
   "source": [
    "# parameters exploration\n",
    "\n",
    "def run_param_exploration_rf(model__max_depth, model__n_estimators,\n",
    "                          n_iter=100, \n",
    "                          k_fold_config=k_fold_config_default,\n",
    "                          file_name='no_file_name.csv'):\n",
    "    grid_params_rf = grid_params_rf_default.copy()\n",
    "    grid_params_rf['model__n_estimators'] = model__n_estimators\n",
    "    grid_params_rf['model__max_depth'] = model__max_depth\n",
    "    params = {\n",
    "        'k_fold_config': k_fold_config,\n",
    "        'params_search': grid_params_rf,\n",
    "        'n_iter': n_iter\n",
    "    }\n",
    "    gs = full_pipeline(models['rf'], df_test_train, params)\n",
    "    df_res = pd.DataFrame.from_dict(gs.cv_results_)\n",
    "    df_res.to_csv(results_path+file_name, index=None)\n",
    "    return df_res"
   ]
  },
  {
   "cell_type": "code",
   "execution_count": 238,
   "metadata": {},
   "outputs": [
    {
     "name": "stderr",
     "output_type": "stream",
     "text": [
      "/Users/mticona/.local/share/virtualenvs/licentiate-thesis-repo-_Hfi4eev/lib/python3.9/site-packages/sklearn/metrics/_classification.py:1327: UndefinedMetricWarning: Precision is ill-defined and being set to 0.0 due to no predicted samples. Use `zero_division` parameter to control this behavior.\n",
      "  _warn_prf(average, modifier, msg_start, len(result))\n",
      "/Users/mticona/.local/share/virtualenvs/licentiate-thesis-repo-_Hfi4eev/lib/python3.9/site-packages/sklearn/metrics/_classification.py:1327: UndefinedMetricWarning: Precision is ill-defined and being set to 0.0 due to no predicted samples. Use `zero_division` parameter to control this behavior.\n",
      "  _warn_prf(average, modifier, msg_start, len(result))\n",
      "/Users/mticona/.local/share/virtualenvs/licentiate-thesis-repo-_Hfi4eev/lib/python3.9/site-packages/sklearn/metrics/_classification.py:1327: UndefinedMetricWarning: Precision is ill-defined and being set to 0.0 due to no predicted samples. Use `zero_division` parameter to control this behavior.\n",
      "  _warn_prf(average, modifier, msg_start, len(result))\n",
      "/Users/mticona/.local/share/virtualenvs/licentiate-thesis-repo-_Hfi4eev/lib/python3.9/site-packages/sklearn/metrics/_classification.py:1327: UndefinedMetricWarning: Precision is ill-defined and being set to 0.0 due to no predicted samples. Use `zero_division` parameter to control this behavior.\n",
      "  _warn_prf(average, modifier, msg_start, len(result))\n",
      "/Users/mticona/.local/share/virtualenvs/licentiate-thesis-repo-_Hfi4eev/lib/python3.9/site-packages/sklearn/metrics/_classification.py:1327: UndefinedMetricWarning: Precision is ill-defined and being set to 0.0 due to no predicted samples. Use `zero_division` parameter to control this behavior.\n",
      "  _warn_prf(average, modifier, msg_start, len(result))\n",
      "/Users/mticona/.local/share/virtualenvs/licentiate-thesis-repo-_Hfi4eev/lib/python3.9/site-packages/sklearn/metrics/_classification.py:1327: UndefinedMetricWarning: Precision is ill-defined and being set to 0.0 due to no predicted samples. Use `zero_division` parameter to control this behavior.\n",
      "  _warn_prf(average, modifier, msg_start, len(result))\n",
      "/Users/mticona/.local/share/virtualenvs/licentiate-thesis-repo-_Hfi4eev/lib/python3.9/site-packages/sklearn/metrics/_classification.py:1327: UndefinedMetricWarning: Precision is ill-defined and being set to 0.0 due to no predicted samples. Use `zero_division` parameter to control this behavior.\n",
      "  _warn_prf(average, modifier, msg_start, len(result))\n"
     ]
    }
   ],
   "source": [
    "# explore depth\n",
    "model__max_depth=[3,4,5,7,9,10, 11,13, 14, 15, 16, 17, 18, 19, 20]\n",
    "model__n_estimators=[100]\n",
    "file_depth = 'rf_explore_max_depth.csv'\n",
    "df_exp_depth = run_param_exploration_rf(model__max_depth, model__n_estimators, file_name=file_depth)"
   ]
  },
  {
   "cell_type": "code",
   "execution_count": null,
   "metadata": {},
   "outputs": [],
   "source": []
  },
  {
   "cell_type": "code",
   "execution_count": 236,
   "metadata": {},
   "outputs": [
    {
     "name": "stderr",
     "output_type": "stream",
     "text": [
      "/Users/mticona/.local/share/virtualenvs/licentiate-thesis-repo-_Hfi4eev/lib/python3.9/site-packages/sklearn/model_selection/_search.py:306: UserWarning: The total space of parameters 136 is smaller than n_iter=400. Running 136 iterations. For exhaustive searches, use GridSearchCV.\n",
      "  warnings.warn(\n"
     ]
    }
   ],
   "source": [
    "# explore estimators\n",
    "model__n_estimators=np.arange(20, 350, 20)\n",
    "model__max_depth=[9]\n",
    "file_estimators = 'rf_explore_n_estimators.csv'\n",
    "df_exp_estimators = run_param_exploration_rf(model__max_depth, model__n_estimators, \n",
    "                                             n_iter=400,\n",
    "                                             file_name=file_estimators)"
   ]
  },
  {
   "cell_type": "code",
   "execution_count": 196,
   "metadata": {},
   "outputs": [],
   "source": [
    "df_cv_res = pd.concat([pd.DataFrame(gs.cv_results_[\"params\"]),\n",
    "                       pd.DataFrame(gs.cv_results_[\"mean_test_matthew\"], columns=[\"matthew\"]),\n",
    "                      pd.DataFrame(gs.cv_results_[\"mean_test_precision\"], columns=[\"precision\"]),\n",
    "                      pd.DataFrame(gs.cv_results_[\"mean_test_f1\"], columns=[\"f1\"]),\n",
    "                      pd.DataFrame(gs.cv_results_[\"rank_test_matthew\"], columns=[\"rank_test_matthew\"]),\n",
    "                       pd.DataFrame(gs.cv_results_[\"mean_test_recall\"], columns=[\"recall\"])],axis=1)"
   ]
  },
  {
   "cell_type": "code",
   "execution_count": 198,
   "metadata": {},
   "outputs": [],
   "source": [
    "import seaborn as sns"
   ]
  },
  {
   "cell_type": "code",
   "execution_count": null,
   "metadata": {},
   "outputs": [],
   "source": [
    "df_exp_estimators = pd.read_csv(results_path+file_estimators)\n",
    "df_exp_depth = pd.read_csv(results_path+file_depth)"
   ]
  },
  {
   "cell_type": "code",
   "execution_count": 284,
   "metadata": {},
   "outputs": [
    {
     "data": {
      "image/png": "[encoded data removed]",
      "text/plain": [
       "<Figure size 432x288 with 1 Axes>"
      ]
     },
     "metadata": {
      "needs_background": "light"
     },
     "output_type": "display_data"
    }
   ],
   "source": [
    "sns.scatterplot(x=df_exp_estimators['param_model__n_estimators'], y=df_exp_depth['mean_test_matthew'])\n",
    "plt.savefig('explore_estimators.pdf', dpi=300)"
   ]
  },
  {
   "cell_type": "code",
   "execution_count": 285,
   "metadata": {},
   "outputs": [
    {
     "data": {
      "image/png": "[encoded data removed]",
      "text/plain": [
       "<Figure size 432x288 with 1 Axes>"
      ]
     },
     "metadata": {
      "needs_background": "light"
     },
     "output_type": "display_data"
    }
   ],
   "source": [
    "sns.scatterplot(x=df_exp_depth['param_model__max_depth'], y=df_exp_depth['mean_test_matthew'])\n",
    "plt.savefig('explore_depth.pdf', dpi=300)"
   ]
  },
  {
   "cell_type": "markdown",
   "metadata": {},
   "source": [
    "## Experiments"
   ]
  },
  {
   "cell_type": "markdown",
   "metadata": {},
   "source": [
    "### Experiment 1: diversity by parameters"
   ]
  },
  {
   "cell_type": "code",
   "execution_count": 265,
   "metadata": {},
   "outputs": [],
   "source": [
    "ranges_n_estimators = {\n",
    "    'bajo_estimators': np.arange(50, 150, 20),\n",
    "    'med_estimators': np.arange(150, 250, 20),\n",
    "    'alto_estimators': np.arange(250, 350, 20)\n",
    "}\n",
    "\n",
    "range_depth = {\n",
    "    'bajo_depth': np.arange(4, 8, 1),\n",
    "    'med_depth': np.arange(8, 12, 1),\n",
    "    'alto_depth': np.arange(12, 16, 1)\n",
    "}"
   ]
  },
  {
   "cell_type": "code",
   "execution_count": 266,
   "metadata": {},
   "outputs": [],
   "source": [
    "from joblib import dump, load"
   ]
  },
  {
   "cell_type": "code",
   "execution_count": 267,
   "metadata": {},
   "outputs": [],
   "source": [
    "# parameters exploration\n",
    "estimators_dir = results_path+'exp_params/estimators/'\n",
    "grid_dir = results_path+'exp_params/grid_results/'\n",
    "\n",
    "def run_params_combinations(ranges_n_estimators, range_depth,\n",
    "                          n_iter=1, \n",
    "                          k_fold_config=k_fold_config_default,\n",
    "                          file_name='no_file_name.csv'):\n",
    "    best_estimators = []\n",
    "    name_estimators = []\n",
    "    for range_name_est, estimators_ls in ranges_n_estimators.items():\n",
    "        for range_name_depth, depth_ls in range_depth.items():\n",
    "            file_name = range_name_est + '_' + range_name_depth \n",
    "            grid_params_rf = grid_params_rf_default.copy()\n",
    "            grid_params_rf['model__n_estimators'] = list(estimators_ls)\n",
    "            grid_params_rf['model__max_depth'] = list(depth_ls)\n",
    "            params = {\n",
    "                'k_fold_config': k_fold_config,\n",
    "                'params_search': grid_params_rf,\n",
    "                'n_iter': n_iter\n",
    "            }\n",
    "            gs = full_pipeline(models['rf'], df_test_train, params)\n",
    "            \n",
    "            df_res = pd.DataFrame.from_dict(gs.cv_results_)\n",
    "            df_res.to_csv(grid_dir+file_name+'.csv', index=None)\n",
    "            \n",
    "            dump(gs.best_estimator_,  estimators_dir + file_name +'.joblib')\n",
    "            \n",
    "            best_estimators.append(gs.best_estimator_)\n",
    "            best_estimators.append(gs.best_estimator_)\n",
    "            best_estimators.append(file_name)\n",
    "            \n",
    "    return best_estimators, name_estimators"
   ]
  },
  {
   "cell_type": "code",
   "execution_count": 268,
   "metadata": {},
   "outputs": [],
   "source": [
    "best_estimators, name_estimators = run_params_combinations(ranges_n_estimators, range_depth)"
   ]
  },
  {
   "cell_type": "code",
   "execution_count": 275,
   "metadata": {},
   "outputs": [],
   "source": [
    "df = df_test_train.drop(['_rxn_organic-inchikey', 'groups'], axis=1)"
   ]
  },
  {
   "cell_type": "code",
   "execution_count": 276,
   "metadata": {},
   "outputs": [],
   "source": [
    "X, y = split_X_y(df)"
   ]
  },
  {
   "cell_type": "code",
   "execution_count": null,
   "metadata": {},
   "outputs": [],
   "source": [
    "best_estimators.best_estimators"
   ]
  },
  {
   "cell_type": "code",
   "execution_count": 259,
   "metadata": {},
   "outputs": [],
   "source": [
    "# Somewhere else\n",
    "estimator = load(estimators_dir+\"test-model.joblib\")"
   ]
  },
  {
   "cell_type": "code",
   "execution_count": 249,
   "metadata": {},
   "outputs": [
    {
     "name": "stdout",
     "output_type": "stream",
     "text": [
      "{'k_fold_config': {'random_state': 1, 'n_splits': 2}, 'params_search': {'model__min_samples_split': [10, 7, 15, 20], 'model__min_samples_leaf': [3, 6], 'model__warm_start': [False], 'model__class_weight': [None], 'model__n_estimators': [50, 70, 90, 110, 130], 'model__max_depth': [4, 5, 6, 7]}, 'n_iter': 100}\n",
      "{'k_fold_config': {'random_state': 1, 'n_splits': 2}, 'params_search': {'model__min_samples_split': [10, 7, 15, 20], 'model__min_samples_leaf': [3, 6], 'model__warm_start': [False], 'model__class_weight': [None], 'model__n_estimators': [50, 70, 90, 110, 130], 'model__max_depth': [8, 9, 10, 11]}, 'n_iter': 100}\n",
      "{'k_fold_config': {'random_state': 1, 'n_splits': 2}, 'params_search': {'model__min_samples_split': [10, 7, 15, 20], 'model__min_samples_leaf': [3, 6], 'model__warm_start': [False], 'model__class_weight': [None], 'model__n_estimators': [50, 70, 90, 110, 130], 'model__max_depth': [12, 13, 14, 15]}, 'n_iter': 100}\n",
      "{'k_fold_config': {'random_state': 1, 'n_splits': 2}, 'params_search': {'model__min_samples_split': [10, 7, 15, 20], 'model__min_samples_leaf': [3, 6], 'model__warm_start': [False], 'model__class_weight': [None], 'model__n_estimators': [150, 170, 190, 210, 230], 'model__max_depth': [4, 5, 6, 7]}, 'n_iter': 100}\n",
      "{'k_fold_config': {'random_state': 1, 'n_splits': 2}, 'params_search': {'model__min_samples_split': [10, 7, 15, 20], 'model__min_samples_leaf': [3, 6], 'model__warm_start': [False], 'model__class_weight': [None], 'model__n_estimators': [150, 170, 190, 210, 230], 'model__max_depth': [8, 9, 10, 11]}, 'n_iter': 100}\n",
      "{'k_fold_config': {'random_state': 1, 'n_splits': 2}, 'params_search': {'model__min_samples_split': [10, 7, 15, 20], 'model__min_samples_leaf': [3, 6], 'model__warm_start': [False], 'model__class_weight': [None], 'model__n_estimators': [150, 170, 190, 210, 230], 'model__max_depth': [12, 13, 14, 15]}, 'n_iter': 100}\n",
      "{'k_fold_config': {'random_state': 1, 'n_splits': 2}, 'params_search': {'model__min_samples_split': [10, 7, 15, 20], 'model__min_samples_leaf': [3, 6], 'model__warm_start': [False], 'model__class_weight': [None], 'model__n_estimators': [250, 270, 290, 310, 330], 'model__max_depth': [4, 5, 6, 7]}, 'n_iter': 100}\n",
      "{'k_fold_config': {'random_state': 1, 'n_splits': 2}, 'params_search': {'model__min_samples_split': [10, 7, 15, 20], 'model__min_samples_leaf': [3, 6], 'model__warm_start': [False], 'model__class_weight': [None], 'model__n_estimators': [250, 270, 290, 310, 330], 'model__max_depth': [8, 9, 10, 11]}, 'n_iter': 100}\n",
      "{'k_fold_config': {'random_state': 1, 'n_splits': 2}, 'params_search': {'model__min_samples_split': [10, 7, 15, 20], 'model__min_samples_leaf': [3, 6], 'model__warm_start': [False], 'model__class_weight': [None], 'model__n_estimators': [250, 270, 290, 310, 330], 'model__max_depth': [12, 13, 14, 15]}, 'n_iter': 100}\n"
     ]
    }
   ],
   "source": [
    "run_params_combinations(ranges_n_estimators, range_depth)"
   ]
  },
  {
   "cell_type": "code",
   "execution_count": 129,
   "metadata": {},
   "outputs": [],
   "source": [
    "# Experiments 1\n",
    "# test in a MULTISOLVENT sample (encoded)\n",
    "# test in same sample but without encoded solvent feature\n",
    "def exp_drop_solvent(model_name, df_train, df_test, model_config = {}):\n",
    "    drop_cols = ['solvent_Dimethyl sulfoxide', \n",
    "                 'solvent_Dimethylformamide',\n",
    "                 'solvent_Gamma-Butyrolactone']\n",
    "    df_train = df_train.drop(drop_cols, axis=1)\n",
    "    df_test = df_test.drop(drop_cols, axis=1)\n",
    "    return proof_concept(model_name, df_train, df_test)\n",
    "\n",
    "ALGORITHMS = ['rf']\n",
    "\n",
    "results_dir = \"solvent_exp_1\"\n",
    "\n",
    "model_EVAL_MULTISOLVENT = EVAL_MULTISOLVENT.drop(['solvent'], axis=1)\n",
    "\n",
    "model_df_solvent_full_train = df_solvent_full_train.drop(['solvent'], axis=1)\n",
    "\n",
    "\n",
    "for ALGORITH in ALGORITHMS:\n",
    "    results_experiment_1 = proof_concept(models[ALGORITHM], model_df_solvent_full_train, model_EVAL_MULTISOLVENT,\n",
    "                                        model_configs[ALGORITHM])\n",
    "\n",
    "    results_experiment_s_sv = exp_drop_solvent(models[ALGORITHM], model_df_solvent_full_train, model_EVAL_MULTISOLVENT,\n",
    "                                        model_configs[ALGORITHM])\n",
    "\n",
    "    report_multisv =  pd.DataFrame(results_experiment_1).transpose()\n",
    "    report_no_sol =  pd.DataFrame(results_experiment_s_sv).transpose()\n",
    "    \n",
    "    report_multisv.to_csv(results_dir+\"eval_multisolvente_encoded_%s_%s.csv\" % (SEED, ALGORITH), index=None)\n",
    "\n",
    "    report_no_sol.to_csv(results_dir+\"eval_no_solvent_%s_%s.csv\" % (SEED, ALGORITH), index=None)"
   ]
  },
  {
   "cell_type": "code",
   "execution_count": 139,
   "metadata": {},
   "outputs": [
    {
     "data": {
      "text/html": [
       "<div>\n",
       "<style scoped>\n",
       "    .dataframe tbody tr th:only-of-type {\n",
       "        vertical-align: middle;\n",
       "    }\n",
       "\n",
       "    .dataframe tbody tr th {\n",
       "        vertical-align: top;\n",
       "    }\n",
       "\n",
       "    .dataframe thead th {\n",
       "        text-align: right;\n",
       "    }\n",
       "</style>\n",
       "<table border=\"1\" class=\"dataframe\">\n",
       "  <thead>\n",
       "    <tr style=\"text-align: right;\">\n",
       "      <th></th>\n",
       "      <th>No cristaliza</th>\n",
       "      <th>Cristaliza</th>\n",
       "      <th>accuracy</th>\n",
       "      <th>macro avg</th>\n",
       "      <th>weighted avg</th>\n",
       "    </tr>\n",
       "  </thead>\n",
       "  <tbody>\n",
       "    <tr>\n",
       "      <th>precision</th>\n",
       "      <td>0.935294</td>\n",
       "      <td>0.650000</td>\n",
       "      <td>0.880952</td>\n",
       "      <td>0.792647</td>\n",
       "      <td>0.885028</td>\n",
       "    </tr>\n",
       "    <tr>\n",
       "      <th>recall</th>\n",
       "      <td>0.919075</td>\n",
       "      <td>0.702703</td>\n",
       "      <td>0.880952</td>\n",
       "      <td>0.810889</td>\n",
       "      <td>0.880952</td>\n",
       "    </tr>\n",
       "    <tr>\n",
       "      <th>f1-score</th>\n",
       "      <td>0.927114</td>\n",
       "      <td>0.675325</td>\n",
       "      <td>0.880952</td>\n",
       "      <td>0.801219</td>\n",
       "      <td>0.882751</td>\n",
       "    </tr>\n",
       "    <tr>\n",
       "      <th>support</th>\n",
       "      <td>173.000000</td>\n",
       "      <td>37.000000</td>\n",
       "      <td>0.880952</td>\n",
       "      <td>210.000000</td>\n",
       "      <td>210.000000</td>\n",
       "    </tr>\n",
       "  </tbody>\n",
       "</table>\n",
       "</div>"
      ],
      "text/plain": [
       "           No cristaliza  Cristaliza  accuracy   macro avg  weighted avg\n",
       "precision       0.935294    0.650000  0.880952    0.792647      0.885028\n",
       "recall          0.919075    0.702703  0.880952    0.810889      0.880952\n",
       "f1-score        0.927114    0.675325  0.880952    0.801219      0.882751\n",
       "support       173.000000   37.000000  0.880952  210.000000    210.000000"
      ]
     },
     "execution_count": 139,
     "metadata": {},
     "output_type": "execute_result"
    }
   ],
   "source": [
    "report_multisv.transpose()"
   ]
  },
  {
   "cell_type": "code",
   "execution_count": 140,
   "metadata": {},
   "outputs": [
    {
     "data": {
      "text/html": [
       "<div>\n",
       "<style scoped>\n",
       "    .dataframe tbody tr th:only-of-type {\n",
       "        vertical-align: middle;\n",
       "    }\n",
       "\n",
       "    .dataframe tbody tr th {\n",
       "        vertical-align: top;\n",
       "    }\n",
       "\n",
       "    .dataframe thead th {\n",
       "        text-align: right;\n",
       "    }\n",
       "</style>\n",
       "<table border=\"1\" class=\"dataframe\">\n",
       "  <thead>\n",
       "    <tr style=\"text-align: right;\">\n",
       "      <th></th>\n",
       "      <th>No cristaliza</th>\n",
       "      <th>Cristaliza</th>\n",
       "      <th>accuracy</th>\n",
       "      <th>macro avg</th>\n",
       "      <th>weighted avg</th>\n",
       "    </tr>\n",
       "  </thead>\n",
       "  <tbody>\n",
       "    <tr>\n",
       "      <th>precision</th>\n",
       "      <td>0.916993</td>\n",
       "      <td>0.740909</td>\n",
       "      <td>0.891116</td>\n",
       "      <td>0.828951</td>\n",
       "      <td>0.885352</td>\n",
       "    </tr>\n",
       "    <tr>\n",
       "      <th>recall</th>\n",
       "      <td>0.953583</td>\n",
       "      <td>0.605948</td>\n",
       "      <td>0.891116</td>\n",
       "      <td>0.779766</td>\n",
       "      <td>0.891116</td>\n",
       "    </tr>\n",
       "    <tr>\n",
       "      <th>f1-score</th>\n",
       "      <td>0.934930</td>\n",
       "      <td>0.666667</td>\n",
       "      <td>0.891116</td>\n",
       "      <td>0.800798</td>\n",
       "      <td>0.886725</td>\n",
       "    </tr>\n",
       "    <tr>\n",
       "      <th>support</th>\n",
       "      <td>1228.000000</td>\n",
       "      <td>269.000000</td>\n",
       "      <td>0.891116</td>\n",
       "      <td>1497.000000</td>\n",
       "      <td>1497.000000</td>\n",
       "    </tr>\n",
       "  </tbody>\n",
       "</table>\n",
       "</div>"
      ],
      "text/plain": [
       "           No cristaliza  Cristaliza  accuracy    macro avg  weighted avg\n",
       "precision       0.916993    0.740909  0.891116     0.828951      0.885352\n",
       "recall          0.953583    0.605948  0.891116     0.779766      0.891116\n",
       "f1-score        0.934930    0.666667  0.891116     0.800798      0.886725\n",
       "support      1228.000000  269.000000  0.891116  1497.000000   1497.000000"
      ]
     },
     "execution_count": 140,
     "metadata": {},
     "output_type": "execute_result"
    }
   ],
   "source": [
    "report_no_sol"
   ]
  },
  {
   "cell_type": "code",
   "execution_count": 125,
   "metadata": {},
   "outputs": [],
   "source": [
    "# Experimento 2\n",
    "dir_results = \"results_exp_2/\"\n",
    "\n",
    "for solvent in solvents:\n",
    "    drop_cols = ['solvent_Dimethyl sulfoxide', \n",
    "                 'solvent_Dimethylformamide',\n",
    "                 'solvent_Gamma-Butyrolactone',\n",
    "                'solvent']\n",
    "    \n",
    "    df_train_sv = df_solvent_full_train[df_solvent_full_train.solvent == solvent].drop(drop_cols, axis=1)\n",
    "    \n",
    "    df_test_sv = EVAL_MULTISOLVENT[EVAL_MULTISOLVENT.solvent == solvent].drop(drop_cols, axis=1)\n",
    "    \n",
    "    df_test_sv_encoded = EVAL_MULTISOLVENT[EVAL_MULTISOLVENT.solvent == solvent].drop('solvent', axis=1)\n",
    "    df_train_sv_encoded = df_solvent_full_train.drop('solvent', axis=1)\n",
    "    \n",
    "    # modelo específico por solvente\n",
    "    report_sv = proof_concept(models[ALGORITHM], df_train_sv, df_test_sv,\n",
    "                              model_configs[ALGORITHM])\n",
    "                              \n",
    "    \n",
    "    # misma muestra en modelo multisolvente\n",
    "    report_multisv = proof_concept(models[ALGORITHM], df_train_sv_encoded, df_test_sv_encoded,\n",
    "                                   model_configs[ALGORITHM])\n",
    "                                   \n",
    "    \n",
    "    report_sv.to_csv(dir_results+'model_per_solv_%s_%s.csv' % (SEED, solvent), index=None)\n",
    "    report_multisv.to_csv(dir_results+'sample_%s_%s_in_multisolvent.csv' % (SEED, solvent), index=None)"
   ]
  },
  {
   "cell_type": "code",
   "execution_count": 144,
   "metadata": {},
   "outputs": [],
   "source": [
    "report_sv[\"matthew\"] = 3"
   ]
  },
  {
   "cell_type": "code",
   "execution_count": 145,
   "metadata": {},
   "outputs": [
    {
     "data": {
      "text/html": [
       "<div>\n",
       "<style scoped>\n",
       "    .dataframe tbody tr th:only-of-type {\n",
       "        vertical-align: middle;\n",
       "    }\n",
       "\n",
       "    .dataframe tbody tr th {\n",
       "        vertical-align: top;\n",
       "    }\n",
       "\n",
       "    .dataframe thead th {\n",
       "        text-align: right;\n",
       "    }\n",
       "</style>\n",
       "<table border=\"1\" class=\"dataframe\">\n",
       "  <thead>\n",
       "    <tr style=\"text-align: right;\">\n",
       "      <th></th>\n",
       "      <th>precision</th>\n",
       "      <th>recall</th>\n",
       "      <th>f1-score</th>\n",
       "      <th>support</th>\n",
       "      <th>matthew</th>\n",
       "    </tr>\n",
       "  </thead>\n",
       "  <tbody>\n",
       "    <tr>\n",
       "      <th>No cristaliza</th>\n",
       "      <td>0.934911</td>\n",
       "      <td>0.913295</td>\n",
       "      <td>0.923977</td>\n",
       "      <td>173.00000</td>\n",
       "      <td>3</td>\n",
       "    </tr>\n",
       "    <tr>\n",
       "      <th>Cristaliza</th>\n",
       "      <td>0.634146</td>\n",
       "      <td>0.702703</td>\n",
       "      <td>0.666667</td>\n",
       "      <td>37.00000</td>\n",
       "      <td>3</td>\n",
       "    </tr>\n",
       "    <tr>\n",
       "      <th>accuracy</th>\n",
       "      <td>0.876190</td>\n",
       "      <td>0.876190</td>\n",
       "      <td>0.876190</td>\n",
       "      <td>0.87619</td>\n",
       "      <td>3</td>\n",
       "    </tr>\n",
       "    <tr>\n",
       "      <th>macro avg</th>\n",
       "      <td>0.784529</td>\n",
       "      <td>0.807999</td>\n",
       "      <td>0.795322</td>\n",
       "      <td>210.00000</td>\n",
       "      <td>3</td>\n",
       "    </tr>\n",
       "    <tr>\n",
       "      <th>weighted avg</th>\n",
       "      <td>0.881919</td>\n",
       "      <td>0.876190</td>\n",
       "      <td>0.878641</td>\n",
       "      <td>210.00000</td>\n",
       "      <td>3</td>\n",
       "    </tr>\n",
       "  </tbody>\n",
       "</table>\n",
       "</div>"
      ],
      "text/plain": [
       "               precision    recall  f1-score    support  matthew\n",
       "No cristaliza   0.934911  0.913295  0.923977  173.00000        3\n",
       "Cristaliza      0.634146  0.702703  0.666667   37.00000        3\n",
       "accuracy        0.876190  0.876190  0.876190    0.87619        3\n",
       "macro avg       0.784529  0.807999  0.795322  210.00000        3\n",
       "weighted avg    0.881919  0.876190  0.878641  210.00000        3"
      ]
     },
     "execution_count": 145,
     "metadata": {},
     "output_type": "execute_result"
    }
   ],
   "source": [
    "report_sv"
   ]
  },
  {
   "cell_type": "markdown",
   "metadata": {},
   "source": [
    "Features importances only computed for RandomForest"
   ]
  },
  {
   "cell_type": "code",
   "execution_count": 1058,
   "metadata": {},
   "outputs": [
    {
     "data": {
      "text/plain": [
       "'rf'"
      ]
     },
     "execution_count": 1058,
     "metadata": {},
     "output_type": "execute_result"
    }
   ],
   "source": [
    "ALGORITHM"
   ]
  },
  {
   "cell_type": "code",
   "execution_count": 1059,
   "metadata": {},
   "outputs": [],
   "source": [
    "df_solvent_models = {solvent: proof_concept_model(models[ALGORITHM], df_solvent_full_train, df_test) \\\n",
    "                        for solvent, df_test in df_solvent_samples_test.items() }"
   ]
  },
  {
   "cell_type": "markdown",
   "metadata": {},
   "source": [
    "model_cols = list(df_solvent_full_train.columns)\n",
    "model_cols.remove(TARGET_COL)"
   ]
  },
  {
   "cell_type": "markdown",
   "metadata": {},
   "source": [
    "df_importance = pd.DataFrame({\"feature\": model_cols,\n",
    "                             \"importance\": df_solvent_models['Gamma-Butyrolactone']['model'].feature_importances_})\n",
    "df_importance = df_importance.sort_values(by=\"importance\", ascending=False)"
   ]
  },
  {
   "cell_type": "code",
   "execution_count": 1060,
   "metadata": {},
   "outputs": [],
   "source": [
    "#df_importance.to_csv(\"results/solvent-exp/random_forest_feat_importances.csv\", index=None)"
   ]
  },
  {
   "cell_type": "markdown",
   "metadata": {},
   "source": [
    "df_importance = pd.read_csv(\"random_forest_feat_importances.csv\")"
   ]
  },
  {
   "cell_type": "code",
   "execution_count": 1061,
   "metadata": {},
   "outputs": [],
   "source": [
    "#df_importance.reset_index().head(50)"
   ]
  },
  {
   "cell_type": "markdown",
   "metadata": {},
   "source": [
    "plot_title = \"figures/feature_importances.pdf\"\n",
    "def plot_df_importances(df):\n",
    "    with plt.style.context(['science', 'bright']):\n",
    "        #sns.set_palette(sns.color_palette(color_bright))\n",
    "        fig, axes = plt.subplots(1, 1, figsize=(8,5),\n",
    "                                     constrained_layout = True)\n",
    "        ax = sns.barplot(x=\"importance\", y=\"feature\", orient=\"h\", data=df,\n",
    "                         palette=df.color, alpha=0.7)\n",
    "        #ax.set_title(\"Distribución Calidad de Cristal\")\n",
    "\n",
    "        # Remove box lines\n",
    "        sns.despine(bottom = True, left = False, trim=False)\n",
    "        ax.tick_params(which=\"both\", left=False, bottom=False, top=False, right=False)\n",
    "        #ax.xticks(fontdict={'fontsize':15})\n",
    "        #ax.tick_params(axis='both', which='both')\n",
    "        ax.set_ylabel(\"Importancia\", fontdict={'fontsize':13})\n",
    "        ax.set_xlabel(\"Variable\", fontdict={'fontsize':13}, rotation=0)\n",
    "        #ax.yaxis.set_major_formatter(FuncFormatter(lambda x, _: int(x)))\n",
    "        #plt.xticks()\n",
    "        plt.xticks(fontsize=11)\n",
    "        plt.yticks(fontsize=12)\n",
    "\n",
    "\n",
    "    #        ax.annotate(text, (x, y), ha='center', va='center', fontsize=12)\n",
    "\n",
    "        #plt.legend(title=\"Tipo de Variable\", fontsize=13)\n",
    "        plt.xlim(0,0.015)\n",
    "        fig.savefig(plot_title, dpi=300)"
   ]
  },
  {
   "cell_type": "code",
   "execution_count": 1062,
   "metadata": {},
   "outputs": [],
   "source": [
    "# fronteroa  de toma de posición \n",
    "# misma superficie no cambia tanto \n",
    "# por qupe tan bajo peso\n",
    "\n",
    "# combinar modelos\n",
    "# binarización más fuerte"
   ]
  },
  {
   "cell_type": "markdown",
   "metadata": {},
   "source": [
    "indexes = np.arange(0,60,6)"
   ]
  },
  {
   "cell_type": "markdown",
   "metadata": {},
   "source": [
    "tmp = df_importance.iloc[3:,:].reset_index(drop=True)\n",
    "#.reset_index(drop=True).loc[indexes]"
   ]
  },
  {
   "cell_type": "markdown",
   "metadata": {},
   "source": [
    "tmp['color'] = np.where(tmp['feature'].str.startswith(\"solvent\"), 'red', 'grey')"
   ]
  },
  {
   "cell_type": "markdown",
   "metadata": {},
   "source": [
    "solvent_index = tmp[tmp.feature.str.startswith(\"solvent\")].index"
   ]
  },
  {
   "cell_type": "markdown",
   "metadata": {},
   "source": [
    "plot_df_importances(tmp.iloc[list(indexes) + list(solvent_index)]\\\n",
    "                    .sort_values(by=\"importance\", ascending=False))"
   ]
  },
  {
   "cell_type": "code",
   "execution_count": null,
   "metadata": {},
   "outputs": [],
   "source": []
  }
 ],
 "metadata": {
  "interpreter": {
   "hash": "2dd68b6b88d78f72e555cd6564eaf72c9813991942e2722f811fa2c9051f75f2"
  },
  "kernelspec": {
   "display_name": "thesis-repo",
   "language": "python",
   "name": "thesis-repo"
  },
  "language_info": {
   "codemirror_mode": {
    "name": "ipython",
    "version": 3
   },
   "file_extension": ".py",
   "mimetype": "text/x-python",
   "name": "python",
   "nbconvert_exporter": "python",
   "pygments_lexer": "ipython3",
   "version": "3.7.4"
  }
 },
 "nbformat": 4,
 "nbformat_minor": 5
}
