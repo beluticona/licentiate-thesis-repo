{
 "cells": [
  {
   "cell_type": "markdown",
   "id": "083e7e42",
   "metadata": {},
   "source": [
    "# Ensambles"
   ]
  },
  {
   "cell_type": "markdown",
   "id": "0fa813db",
   "metadata": {},
   "source": [
    "Question: Could be use data from minotiry solvents? Does it add value/relevant information?\n",
    "\n",
    "Descriptions:\n",
    "- 3 solvent availables, one majority and two minorities\n",
    "- sample from majority and minorities: 3 samples\n",
    "- train in majority\n",
    "- evaluate in 3 samples and compare results, is there any particular improvement in majority?"
   ]
  },
  {
   "cell_type": "code",
   "execution_count": 1,
   "id": "f2215afb",
   "metadata": {},
   "outputs": [],
   "source": [
    "import numpy as np\n",
    "import pandas as pd\n",
    "import matplotlib.pyplot as plt\n",
    "import seaborn as sns\n",
    "import itertools\n",
    "from src.config import chemical_inventory_path, raw_data_path\n",
    "from src.data import notebook_utils as utils\n",
    "from src.constants import GBL_INCHI_KEY, DMSO_INCHI_KEY, DMF_INCHI_KEY, \\\n",
    "                        INCHI_TO_CHEMNAME, TARGET_COL, RXN_FEAT_NAME, ORGANOAMONIUM_INCHI_KEY_COL\n",
    "from src import plot_utils"
   ]
  },
  {
   "cell_type": "code",
   "execution_count": 2,
   "id": "29cef52b",
   "metadata": {},
   "outputs": [],
   "source": [
    "import matplotlib.pyplot as plt\n",
    "import matplotlib.ticker as mtick\n",
    "plt.style.reload_library()\n",
    "import matplotlib.patches as mpatches"
   ]
  },
  {
   "cell_type": "code",
   "execution_count": 3,
   "id": "c0ae31fa-8262-4359-9b9c-5c3c4177c08c",
   "metadata": {},
   "outputs": [],
   "source": [
    "from sklearn.preprocessing import StandardScaler\n",
    "from sklearn.pipeline import Pipeline\n",
    "from sklearn.metrics import fbeta_score, make_scorer\n",
    "from sklearn.model_selection import RepeatedStratifiedKFold, GroupKFold, StratifiedShuffleSplit\n",
    "from sklearn.model_selection import cross_validate\n",
    "from sklearn.metrics import classification_report\n",
    "import sklearn.ensemble as ensamble_models\n",
    "import sklearn.neighbors as neighbors_models\n",
    "from sklearn.model_selection import GridSearchCV, RandomizedSearchCV\n",
    "from sklearn import linear_model as linear_models\n",
    "from sklearn.metrics import matthews_corrcoef\n",
    "from sklearn.model_selection import StratifiedGroupKFold\n",
    "from sklearn.ensemble import RandomForestClassifier, VotingClassifier"
   ]
  },
  {
   "cell_type": "code",
   "execution_count": 4,
   "id": "ba155e9d",
   "metadata": {},
   "outputs": [
    {
     "name": "stdout",
     "output_type": "stream",
     "text": [
      "/Users/mticona/Documents/tesis/licentiate-thesis-repo\n"
     ]
    }
   ],
   "source": [
    "%cd ../.."
   ]
  },
  {
   "cell_type": "code",
   "execution_count": 14,
   "id": "8c8ade86-9b43-455a-8af2-ff496da22e13",
   "metadata": {
    "tags": []
   },
   "outputs": [],
   "source": [
    "PATH_DATA = 'data/ensemble/'\n",
    "FILE_EVAL = 'validation_set.csv'\n",
    "FILE_TEST_TRAIN = 'train_test_set.csv'\n",
    "\n",
    "SEED = 1"
   ]
  },
  {
   "cell_type": "code",
   "execution_count": 24,
   "id": "c20c6d6a-9ff2-4f9e-80a5-3646bf3b8f03",
   "metadata": {},
   "outputs": [],
   "source": [
    "df_test_train = pd.read_csv(PATH_DATA+FILE_TEST_TRAIN)"
   ]
  },
  {
   "cell_type": "code",
   "execution_count": 25,
   "id": "c603edac-0376-4019-ac38-eb8675fed52a",
   "metadata": {},
   "outputs": [
    {
     "data": {
      "text/plain": [
       "Index(['Unnamed: 0', '_feat_WienerPolarity', '_feat_BondCount', '_feat_fr_NH0',\n",
       "       '_feat_Refractivity', '_feat_LargestRingSize',\n",
       "       '_feat_HeteroaliphaticRingCount', '_feat_fr_quatN',\n",
       "       '_feat_AromaticAtomCount', '_feat_AtomCount_C', '_feat_fr_amidine',\n",
       "       '_feat_CyclomaticNumber', '_feat_LengthPerpendicularToTheMinArea',\n",
       "       '_feat_fr_guanido', '_feat_donorcount', '_feat_fr_NH2',\n",
       "       '_feat_minimalprojectionsize', '_feat_AtomCount_N', '_feat_WienerIndex',\n",
       "       '_feat_AvgPol', '_feat_donsitecount', '_feat_Hacceptorcount',\n",
       "       '_feat_ASA-', '_feat_fr_Ar_NH', '_feat_HeteroaromaticRing Count',\n",
       "       '_feat_Accsitecount', '_feat_acceptorcount', '_feat_ASA',\n",
       "       '_feat_CarboaromaticRingCount', '_feat_BalabanIndex',\n",
       "       '_feat_SmallestRingSize', '_feat_RingAtomCount',\n",
       "       '_feat_PolarSurfaceArea', '_feat_MinimalProjectionArea',\n",
       "       '_feat_MaximalProjectionArea', '_feat_CarboRingCount',\n",
       "       '_feat_CarboaliphaticRingCount', '_feat_VanderWaalsSurfaceArea',\n",
       "       '_feat_ASA_H', '_feat_ASA+', '_feat_fr_piperdine',\n",
       "       '_feat_Aliphatic AtomCount', '_feat_AliphaticRingCount',\n",
       "       '_feat_AromaticRingCount', '_feat_LengthPerpendicularToTheMaxArea',\n",
       "       '_feat_HyperWienerIndex', '_feat_MolPol', '_feat_fr_Imine',\n",
       "       '_feat_RotatableBondCount', '_feat_maximalprojectionsize',\n",
       "       '_feat_ChainAtomCount', '_feat_MinimalProjectionRadius',\n",
       "       '_feat_VanderWaalsVolume', '_feat_ASA_P', '_feat_fr_NH1',\n",
       "       '_feat_MaximalProjectionRadius', '_feat_Hdonorcount',\n",
       "       '_feat_fr_pyridine', '_rxn_M_inorganic', '_rxn_M_organic',\n",
       "       '_rxn_M_acid', '_out_crystalscore', '_rxn_organic-inchikey'],\n",
       "      dtype='object')"
      ]
     },
     "execution_count": 25,
     "metadata": {},
     "output_type": "execute_result"
    }
   ],
   "source": [
    "df_test_train.columns"
   ]
  },
  {
   "cell_type": "code",
   "execution_count": 26,
   "id": "758fec44-2120-47f4-a390-c7c93942ea9a",
   "metadata": {},
   "outputs": [],
   "source": [
    "df_test_train = df_test_train.drop(['Unnamed: 0','_rxn_organic-inchikey'], axis=1)"
   ]
  },
  {
   "cell_type": "code",
   "execution_count": 27,
   "id": "a4aea9fc-972e-400d-abf1-df734700fa0b",
   "metadata": {},
   "outputs": [],
   "source": [
    "#df_test_train['groups'] = df_test_train.groupby([ORGANOAMONIUM_INCHI_KEY_COL]).grouper.group_info[0]"
   ]
  },
  {
   "cell_type": "markdown",
   "id": "c4275c7c-1f78-4b1e-b5bc-8bc25daed37a",
   "metadata": {
    "tags": []
   },
   "source": [
    "El estudio de la cristalización de perovskitas mediante aprendizaje automático encuentra desafíos comunes que surgen a la hora de trabajar con datos de experimentación, cuya disponibilidad suele ser muy acotada debido a la dificultad de su generación. De allí la relevancia de estudiar técnicas que permitan desarrollar modelos robusto y no sesgados por la representación que tiene una acotada cantidad de muestras. En este capítulo se estudia la aplicación del paradigma de ensamble mediante una comparación entre los tradicionales modelos homogéneos basados en árboles de decisión y modelos heterogénos específicos para el problema de cristalización de perovskita en particular.  \n",
    "\n",
    "## Models definitions\n",
    "\n",
    "Dentro del paradigma de ensamble, los métodos basados en árboles de decisión como estimador de base son los que más aplicación y popularidad han ganado en la última década. Características como lidear con datos categóricos, insensibilidad a la estandarización y XX, resultan que estos algoritmos sean atractivos por su versatilidad y la cantidad de problemas en donde pueden aplicarse.      \n",
    "\n",
    "En general los métodos basados en árboles presentan sensiblidad a las particularedes del conjunto de entrenamiento, provocando un overfitting o sobre. De allí que los métodos más comúnmenmente empleados de ensambles usen estos tipo de estimadores\n",
    "\n",
    "# comparar rf, gbc, \n",
    "\n",
    "Actualmente Entre los algoritmos más populares por su gran capacidad de generalizaci´pn \n",
    "Tradicionalmente se \n"
   ]
  },
  {
   "cell_type": "code",
   "execution_count": 37,
   "id": "94ab93b1-0357-487c-ae51-170e33e9a891",
   "metadata": {},
   "outputs": [],
   "source": [
    "def make_model(model_name, model_config={}):\n",
    "    try:\n",
    "        model_method = getattr(neighbors_models, model_name)\n",
    "    except AttributeError: \n",
    "        try:\n",
    "            model_method = getattr(ensamble_models, model_name)\n",
    "        except AttributeError:\n",
    "            model_method = getattr(linear_models, model_name)\n",
    "    \n",
    "    model = model_method(**model_config)\n",
    "    return model\n",
    "\n",
    "def split_X_y(df):\n",
    "    X = df.drop([TARGET_COL], axis=1).values\n",
    "    y = df[TARGET_COL].values\n",
    "    return X, y\n",
    "\n",
    "def get_out_groups(df):\n",
    "    df['groups'] = df.groupby([ORGANOAMONIUM_INCHI_KEY_COL]).grouper.group_info[0]\n",
    "    groups = list(df['groups'])\n",
    "    df = df.drop(['groups', ORGANOAMONIUM_INCHI_KEY_COL], axis=1)\n",
    "    return df, groups\n",
    "\n",
    "def proof_concept(model_name, df_train, df_test, model_config = {}):\n",
    "    model = make_model(model_name, model_config)\n",
    "    \n",
    "    X_test, y_test = split_X_y(df_test)\n",
    "    X_train, y_train = split_X_y(df_train)\n",
    "    \n",
    "    pipeline_steps = [('std', StandardScaler()), \n",
    "                      ('model', model)\n",
    "                     ]\n",
    "    \n",
    "    pipeline = Pipeline(steps=pipeline_steps)\n",
    "    \n",
    "    pipeline.fit(X_train, y_train)\n",
    "    \n",
    "    y_pred =  pipeline.predict(X_test)\n",
    "    \n",
    "    matt = matthews_corrcoef(y_test, y_pred)\n",
    "    \n",
    "    report = classification_report(y_test, y_pred, labels=[0,1], \n",
    "                                   output_dict=True, target_names=[\"No cristaliza\", \"Cristaliza\"])\n",
    "    \n",
    "    report_df =  pd.DataFrame(report).transpose()\n",
    "    \n",
    "    report_df[\"matthew\"] = matt\n",
    "    \n",
    "    return report_df\n",
    "\n",
    "def proof_concept_model(model_name, df_train, df_test, model_config = {}):\n",
    "    model = make_model(model_name, model_config)\n",
    "    \n",
    "    X_test, y_test = split_X_y(df_test)\n",
    "    X_train, y_train = split_X_y(df_train)\n",
    "    \n",
    "    pipeline_steps = [('std', StandardScaler()), \n",
    "                      ('model', model)\n",
    "                     ]\n",
    "    \n",
    "    pipeline = Pipeline(steps=pipeline_steps)\n",
    "    \n",
    "    pipeline.fit(X_train, y_train)\n",
    "    \n",
    "    return pipeline\n",
    "    \n",
    "def full_pipeline(model_name, df, params):\n",
    "    \n",
    "    model = make_model(model_name)\n",
    "    \n",
    "    #df, groups = get_out_groups(df)  \n",
    "    \n",
    "    X, y = split_X_y(df)\n",
    "    \n",
    "    pipeline_steps = [('std', StandardScaler()), \n",
    "                      ('model', model)\n",
    "                     ]\n",
    "    pipeline = Pipeline(steps=pipeline_steps)\n",
    "    \n",
    "    k_fold_config = params['k_fold_config']\n",
    "    \n",
    "    params_search = params['params_search']\n",
    "    \n",
    "    cv = StratifiedShuffleSplit(**k_fold_config)\n",
    "\n",
    "    scoring={\n",
    "            'recall': 'recall', \n",
    "            'f1': 'f1',\n",
    "            'precision': 'precision',\n",
    "            'matthew': make_scorer(matthews_corrcoef)\n",
    "    }\n",
    "    optimizing_metric = 'matthew'\n",
    "    \n",
    "    clf = RandomizedSearchCV(pipeline,\n",
    "                             params_search, \n",
    "                             cv=cv,\n",
    "                             scoring=scoring,\n",
    "                             random_state=SEED,\n",
    "                             n_jobs=-1,\n",
    "                             refit=optimizing_metric,\n",
    "                             error_score=0,\n",
    "                             n_iter=params['n_iter'],\n",
    "                            )\n",
    "    clf.fit(X, y)\n",
    "    \n",
    "    return clf"
   ]
  },
  {
   "cell_type": "code",
   "execution_count": 38,
   "id": "86af911a-5f68-4284-9283-bf22e2ce8ab9",
   "metadata": {},
   "outputs": [],
   "source": [
    "results_path = 'results/ensamble/'\n",
    "\n",
    "models = {\n",
    "    'knn':'KNeighborsClassifier',\n",
    "    'rf':'RandomForestClassifier',\n",
    "    'gbc':'GradientBoostingClassifier'\n",
    "}\n",
    "\n",
    "grid_params_rf_default = dict(\n",
    "                      model__min_samples_split=[10,7,15,20],\n",
    "                      model__min_samples_leaf=[3,4,5,6],\n",
    "                      model__warm_start=[False],\n",
    "                      model__class_weight=[None, 'balanced', 'balanced_subsample']\n",
    "                     )\n",
    "\n",
    "k_splits = 2\n",
    "\n",
    "k_fold_config_default = {\n",
    "    'random_state': SEED,\n",
    "    #'shuffle': True,\n",
    "    'n_splits': k_splits\n",
    "}\n",
    "\n",
    "params_example = {\n",
    "    'k_fold_config': k_fold_config_default,\n",
    "    'params_search': grid_params_rf_default,\n",
    "    'n_iter': 300\n",
    "}"
   ]
  },
  {
   "cell_type": "code",
   "execution_count": 59,
   "id": "ccdc94ed-ccc7-4647-896f-a506aef3584f",
   "metadata": {},
   "outputs": [],
   "source": [
    "# parameters exploration\n",
    "\n",
    "def run_param_exploration_rf(model__max_depth, model__n_estimators,\n",
    "                          n_iter=100, \n",
    "                          k_fold_config=k_fold_config_default,\n",
    "                          file_name='no_file_name.csv'):\n",
    "    grid_params_rf = grid_params_rf_default.copy()\n",
    "    grid_params_rf['model__n_estimators'] = model__n_estimators\n",
    "    grid_params_rf['model__max_depth'] = model__max_depth\n",
    "    params = {\n",
    "        'k_fold_config': k_fold_config,\n",
    "        'params_search': grid_params_rf,\n",
    "        'n_iter': n_iter\n",
    "    }\n",
    "    gs = full_pipeline(models['rf'], df_test_train, params)\n",
    "    df_res = pd.DataFrame.from_dict(gs.cv_results_)\n",
    "    df_res.to_csv(results_path+file_name, index=None)\n",
    "    return df_res"
   ]
  },
  {
   "cell_type": "code",
   "execution_count": 60,
   "id": "f510bb44-65ea-47b0-8955-adb42bad0df8",
   "metadata": {},
   "outputs": [
    {
     "name": "stderr",
     "output_type": "stream",
     "text": [
      "/Users/mticona/.local/share/virtualenvs/licentiate-thesis-repo-_Hfi4eev/lib/python3.9/site-packages/sklearn/model_selection/_search.py:306: UserWarning: The total space of parameters 432 is smaller than n_iter=600. Running 432 iterations. For exhaustive searches, use GridSearchCV.\n",
      "  warnings.warn(\n"
     ]
    }
   ],
   "source": [
    "# explore depth\n",
    "model__max_depth=[4,5,7, 11,13, 15, 16, 17, 20]\n",
    "model__n_estimators=[100]\n",
    "file_depth = 'rf_explore_max_depth_class_balanced.csv'\n",
    "df_exp_depth = run_param_exploration_rf(model__max_depth, model__n_estimators, file_name=file_depth,\n",
    "                                       n_iter=600)"
   ]
  },
  {
   "cell_type": "code",
   "execution_count": 67,
   "id": "1a14d3f1-4e39-4225-a25f-790cec7bd4fb",
   "metadata": {
    "tags": []
   },
   "outputs": [
    {
     "data": {
      "text/plain": [
       "<AxesSubplot:xlabel='param_model__max_depth', ylabel='mean_test_matthew'>"
      ]
     },
     "execution_count": 67,
     "metadata": {},
     "output_type": "execute_result"
    },
    {
     "data": {
      "image/png": "[encoded data removed]",
      "text/plain": [
       "<Figure size 432x288 with 1 Axes>"
      ]
     },
     "metadata": {
      "needs_background": "light"
     },
     "output_type": "display_data"
    }
   ],
   "source": [
    "df_exp_depth_ = df_exp_depth.fillna('None')\n",
    "\n",
    "sns.boxplot(x=df_exp_depth_['param_model__max_depth'], y=df_exp_depth_['mean_test_matthew'], \n",
    "                hue=df_exp_depth_['param_model__class_weight'])\n",
    "#plt.savefig('explore_depth_balanced_600.pdf', dpi=300)"
   ]
  },
  {
   "cell_type": "code",
   "execution_count": 78,
   "id": "7c787189-8004-44e6-aa3b-1156d5e58139",
   "metadata": {},
   "outputs": [],
   "source": [
    "def get_models_by_class(class_weigths=[None, 'balanced', 'balanced_subsample'], k_fold_config=k_fold_config_default, n_iter=40):\n",
    "    grid_params_rf = grid_params_rf_default.copy()\n",
    "    grid_params_rf['model__n_estimators'] = [130]\n",
    "    grid_params_rf['model__max_depth'] = [11]\n",
    "    class_models = []\n",
    "    for model_class in class_weigths:\n",
    "        grid_params_rf['model__class_weight'] = [model_class]\n",
    "                 \n",
    "        params = {\n",
    "            'k_fold_config': k_fold_config,\n",
    "            'params_search': grid_params_rf,\n",
    "            'n_iter': n_iter\n",
    "        }\n",
    "        gs = full_pipeline(models['rf'], df_test_train, params)\n",
    "        class_models.append(gs)\n",
    "    return class_models"
   ]
  },
  {
   "cell_type": "code",
   "execution_count": 79,
   "id": "d081b061-70ff-4ab0-b553-32b979d49707",
   "metadata": {},
   "outputs": [
    {
     "name": "stderr",
     "output_type": "stream",
     "text": [
      "/Users/mticona/.local/share/virtualenvs/licentiate-thesis-repo-_Hfi4eev/lib/python3.9/site-packages/sklearn/model_selection/_search.py:306: UserWarning: The total space of parameters 16 is smaller than n_iter=40. Running 16 iterations. For exhaustive searches, use GridSearchCV.\n",
      "  warnings.warn(\n",
      "/Users/mticona/.local/share/virtualenvs/licentiate-thesis-repo-_Hfi4eev/lib/python3.9/site-packages/sklearn/model_selection/_search.py:306: UserWarning: The total space of parameters 16 is smaller than n_iter=40. Running 16 iterations. For exhaustive searches, use GridSearchCV.\n",
      "  warnings.warn(\n",
      "/Users/mticona/.local/share/virtualenvs/licentiate-thesis-repo-_Hfi4eev/lib/python3.9/site-packages/sklearn/model_selection/_search.py:306: UserWarning: The total space of parameters 16 is smaller than n_iter=40. Running 16 iterations. For exhaustive searches, use GridSearchCV.\n",
      "  warnings.warn(\n"
     ]
    }
   ],
   "source": [
    "class_models = get_models_by_class()"
   ]
  },
  {
   "cell_type": "code",
   "execution_count": 98,
   "id": "beb40038-9a32-4eae-9cf2-c03984bddf43",
   "metadata": {},
   "outputs": [
    {
     "data": {
      "text/plain": [
       "Index(['_feat_WienerPolarity', '_feat_BondCount', '_feat_fr_NH0',\n",
       "       '_feat_Refractivity', '_feat_LargestRingSize',\n",
       "       '_feat_HeteroaliphaticRingCount', '_feat_fr_quatN',\n",
       "       '_feat_AromaticAtomCount', '_feat_AtomCount_C', '_feat_fr_amidine',\n",
       "       '_feat_CyclomaticNumber', '_feat_LengthPerpendicularToTheMinArea',\n",
       "       '_feat_fr_guanido', '_feat_donorcount', '_feat_fr_NH2',\n",
       "       '_feat_minimalprojectionsize', '_feat_AtomCount_N', '_feat_WienerIndex',\n",
       "       '_feat_AvgPol', '_feat_donsitecount', '_feat_Hacceptorcount',\n",
       "       '_feat_ASA-', '_feat_fr_Ar_NH', '_feat_HeteroaromaticRing Count',\n",
       "       '_feat_Accsitecount', '_feat_acceptorcount', '_feat_ASA',\n",
       "       '_feat_CarboaromaticRingCount', '_feat_BalabanIndex',\n",
       "       '_feat_SmallestRingSize', '_feat_RingAtomCount',\n",
       "       '_feat_PolarSurfaceArea', '_feat_MinimalProjectionArea',\n",
       "       '_feat_MaximalProjectionArea', '_feat_CarboRingCount',\n",
       "       '_feat_CarboaliphaticRingCount', '_feat_VanderWaalsSurfaceArea',\n",
       "       '_feat_ASA_H', '_feat_ASA+', '_feat_fr_piperdine',\n",
       "       '_feat_Aliphatic AtomCount', '_feat_AliphaticRingCount',\n",
       "       '_feat_AromaticRingCount', '_feat_LengthPerpendicularToTheMaxArea',\n",
       "       '_feat_HyperWienerIndex', '_feat_MolPol', '_feat_fr_Imine',\n",
       "       '_feat_RotatableBondCount', '_feat_maximalprojectionsize',\n",
       "       '_feat_ChainAtomCount', '_feat_MinimalProjectionRadius',\n",
       "       '_feat_VanderWaalsVolume', '_feat_ASA_P', '_feat_fr_NH1',\n",
       "       '_feat_MaximalProjectionRadius', '_feat_Hdonorcount',\n",
       "       '_feat_fr_pyridine', '_rxn_M_inorganic', '_rxn_M_organic',\n",
       "       '_rxn_M_acid'],\n",
       "      dtype='object')"
      ]
     },
     "execution_count": 98,
     "metadata": {},
     "output_type": "execute_result"
    }
   ],
   "source": [
    "df_test_train.columns[:-1]"
   ]
  },
  {
   "cell_type": "code",
   "execution_count": 109,
   "id": "56554261-4fc1-49a2-8f85-72c704bf5937",
   "metadata": {},
   "outputs": [],
   "source": [
    "def plot_features_importances(model, columns, k_first=10):\n",
    "    (pd.Series(model.best_estimator_.named_steps['model'].feature_importances_, \n",
    "               index=columns)\n",
    "       .nlargest(k_first)\n",
    "       .plot(kind='barh'))        # some method chaining, because it's sexy!"
   ]
  },
  {
   "cell_type": "code",
   "execution_count": 117,
   "id": "9a9697ab-3c07-4359-b62d-bf340d9bbcef",
   "metadata": {},
   "outputs": [
    {
     "data": {
      "text/plain": [
       "Index(['_feat_WienerPolarity', '_feat_BondCount', '_feat_fr_NH0',\n",
       "       '_feat_Refractivity', '_feat_LargestRingSize',\n",
       "       '_feat_HeteroaliphaticRingCount', '_feat_fr_quatN',\n",
       "       '_feat_AromaticAtomCount', '_feat_AtomCount_C', '_feat_fr_amidine',\n",
       "       '_feat_CyclomaticNumber', '_feat_LengthPerpendicularToTheMinArea',\n",
       "       '_feat_fr_guanido', '_feat_donorcount', '_feat_fr_NH2',\n",
       "       '_feat_minimalprojectionsize', '_feat_AtomCount_N', '_feat_WienerIndex',\n",
       "       '_feat_AvgPol', '_feat_donsitecount', '_feat_Hacceptorcount',\n",
       "       '_feat_ASA-', '_feat_fr_Ar_NH', '_feat_HeteroaromaticRing Count',\n",
       "       '_feat_Accsitecount', '_feat_acceptorcount', '_feat_ASA',\n",
       "       '_feat_CarboaromaticRingCount', '_feat_BalabanIndex',\n",
       "       '_feat_SmallestRingSize', '_feat_RingAtomCount',\n",
       "       '_feat_PolarSurfaceArea', '_feat_MinimalProjectionArea',\n",
       "       '_feat_MaximalProjectionArea', '_feat_CarboRingCount',\n",
       "       '_feat_CarboaliphaticRingCount', '_feat_VanderWaalsSurfaceArea',\n",
       "       '_feat_ASA_H', '_feat_ASA+', '_feat_fr_piperdine',\n",
       "       '_feat_Aliphatic AtomCount', '_feat_AliphaticRingCount',\n",
       "       '_feat_AromaticRingCount', '_feat_LengthPerpendicularToTheMaxArea',\n",
       "       '_feat_HyperWienerIndex', '_feat_MolPol', '_feat_fr_Imine',\n",
       "       '_feat_RotatableBondCount', '_feat_maximalprojectionsize',\n",
       "       '_feat_ChainAtomCount', '_feat_MinimalProjectionRadius',\n",
       "       '_feat_VanderWaalsVolume', '_feat_ASA_P', '_feat_fr_NH1',\n",
       "       '_feat_MaximalProjectionRadius', '_feat_Hdonorcount',\n",
       "       '_feat_fr_pyridine', '_rxn_M_inorganic', '_rxn_M_organic',\n",
       "       '_rxn_M_acid'],\n",
       "      dtype='object')"
      ]
     },
     "execution_count": 117,
     "metadata": {},
     "output_type": "execute_result"
    }
   ],
   "source": [
    "df_test_train.columns[:-1]"
   ]
  },
  {
   "cell_type": "code",
   "execution_count": 114,
   "id": "9aa301cb-a73f-4e44-a3a4-36333deb4608",
   "metadata": {},
   "outputs": [
    {
     "data": {
      "text/plain": [
       "[None]"
      ]
     },
     "execution_count": 114,
     "metadata": {},
     "output_type": "execute_result"
    },
    {
     "data": {
      "image/png": "[encoded data removed]",
      "text/plain": [
       "<Figure size 432x288 with 1 Axes>"
      ]
     },
     "metadata": {
      "needs_background": "light"
     },
     "output_type": "display_data"
    }
   ],
   "source": [
    "[plot_features_importances(class_models[0], df_test_train.columns[:-1]) for i in range(0,1)]"
   ]
  },
  {
   "cell_type": "code",
   "execution_count": 115,
   "id": "c84466d7-ce16-467e-8262-8a907feb8324",
   "metadata": {},
   "outputs": [
    {
     "data": {
      "text/plain": [
       "[None]"
      ]
     },
     "execution_count": 115,
     "metadata": {},
     "output_type": "execute_result"
    },
    {
     "data": {
      "image/png": "[encoded data removed]",
      "text/plain": [
       "<Figure size 432x288 with 1 Axes>"
      ]
     },
     "metadata": {
      "needs_background": "light"
     },
     "output_type": "display_data"
    }
   ],
   "source": [
    "[plot_features_importances(class_models[1], df_test_train.columns[:-1]) for i in range(0,1)]"
   ]
  },
  {
   "cell_type": "code",
   "execution_count": 116,
   "id": "3b0c1b99-67b1-49e7-b416-319476a450cf",
   "metadata": {},
   "outputs": [
    {
     "data": {
      "text/plain": [
       "[None]"
      ]
     },
     "execution_count": 116,
     "metadata": {},
     "output_type": "execute_result"
    },
    {
     "data": {
      "image/png": "[encoded data removed]",
      "text/plain": [
       "<Figure size 432x288 with 1 Axes>"
      ]
     },
     "metadata": {
      "needs_background": "light"
     },
     "output_type": "display_data"
    }
   ],
   "source": [
    "[plot_features_importances(class_models[2], df_test_train.columns[:-1]) for i in range(0,1)]"
   ]
  },
  {
   "cell_type": "code",
   "execution_count": 108,
   "id": "6a84791d-7d03-4da8-a93d-27d90fc29410",
   "metadata": {},
   "outputs": [
    {
     "data": {
      "text/plain": [
       "array([2.33847074e-03, 8.02840655e-03, 9.04147432e-05, 6.44974218e-03,\n",
       "       9.25363327e-04, 8.90391393e-05, 4.50903876e-04, 9.80000810e-04,\n",
       "       2.64778000e-03, 5.59737196e-04, 2.59471978e-04, 1.62380832e-02,\n",
       "       2.80940210e-04, 3.25856697e-04, 1.39994833e-03, 8.03273840e-03,\n",
       "       8.77377581e-04, 4.96623480e-03, 9.41092822e-03, 9.09473522e-04,\n",
       "       1.28569687e-03, 3.47089129e-02, 0.00000000e+00, 0.00000000e+00,\n",
       "       1.20953448e-03, 1.03944466e-03, 2.15150964e-02, 1.92928077e-04,\n",
       "       5.04712242e-03, 9.42976930e-04, 5.62555390e-04, 1.97615236e-03,\n",
       "       8.84428083e-03, 7.22984079e-03, 8.02442421e-04, 2.95946814e-03,\n",
       "       1.34139562e-02, 1.40035979e-02, 7.40386132e-03, 0.00000000e+00,\n",
       "       6.28304799e-03, 5.93434189e-03, 3.22671839e-04, 6.21536280e-03,\n",
       "       3.31279546e-03, 6.49473273e-03, 3.22392055e-04, 1.16512000e-02,\n",
       "       8.10258669e-03, 4.43661411e-03, 1.03654558e-02, 7.35303251e-03,\n",
       "       6.53385713e-03, 1.47771308e-04, 8.80388703e-03, 1.85149095e-03,\n",
       "       0.00000000e+00, 2.43570715e-01, 2.53940220e-01, 2.25959046e-01])"
      ]
     },
     "execution_count": 108,
     "metadata": {},
     "output_type": "execute_result"
    }
   ],
   "source": [
    "class_models[0].best_estimator_.named_steps['model'].feature_importances_"
   ]
  },
  {
   "cell_type": "code",
   "execution_count": 94,
   "id": "3e3bec2f-48b9-481e-8621-135346184836",
   "metadata": {},
   "outputs": [
    {
     "data": {
      "text/plain": [
       "(60,)"
      ]
     },
     "execution_count": 94,
     "metadata": {},
     "output_type": "execute_result"
    }
   ],
   "source": [
    "class_models[0].best_estimator_.named_steps['model'].feature_importances_.shape"
   ]
  },
  {
   "cell_type": "code",
   "execution_count": 105,
   "id": "473bffed-cf32-4f13-b730-c55f05f0ab55",
   "metadata": {},
   "outputs": [
    {
     "data": {
      "text/plain": [
       "array([6.78819475e-03, 5.17709670e-03, 2.23520290e-04, 1.35072357e-02,\n",
       "       8.95623567e-04, 9.30079790e-05, 5.96308759e-04, 1.47956516e-03,\n",
       "       3.25503350e-03, 8.41425846e-04, 8.48107141e-04, 1.44205826e-02,\n",
       "       3.94944539e-04, 4.81960518e-04, 1.56034747e-03, 1.20391008e-02,\n",
       "       1.55046709e-03, 9.79972343e-03, 8.63955080e-03, 9.86456079e-04,\n",
       "       9.60589669e-04, 4.54653292e-02, 0.00000000e+00, 0.00000000e+00,\n",
       "       8.90569998e-04, 7.21957030e-04, 3.70087965e-02, 9.78237831e-04,\n",
       "       5.67132017e-03, 7.96033503e-04, 9.02252305e-04, 2.57845277e-03,\n",
       "       1.01757987e-02, 1.12005106e-02, 3.70879344e-04, 5.80380443e-03,\n",
       "       1.87815189e-02, 2.34681429e-02, 1.10558282e-02, 0.00000000e+00,\n",
       "       5.40756363e-03, 4.75998243e-03, 1.81782223e-03, 1.20272463e-02,\n",
       "       5.87442327e-03, 5.78950816e-03, 1.67089939e-04, 1.71900255e-02,\n",
       "       1.41180332e-02, 1.37707753e-02, 9.10636271e-03, 1.14454698e-02,\n",
       "       9.00637339e-03, 3.34068960e-04, 1.69836377e-02, 1.43243694e-03,\n",
       "       0.00000000e+00, 2.16533544e-01, 1.93491015e-01, 2.00336347e-01])"
      ]
     },
     "execution_count": 105,
     "metadata": {},
     "output_type": "execute_result"
    }
   ],
   "source": [
    "class_models[1].best_estimator_.named_steps['model'].feature_importances_"
   ]
  },
  {
   "cell_type": "code",
   "execution_count": 93,
   "id": "5056835e-1e77-4a61-93b0-e17679dcbbd5",
   "metadata": {},
   "outputs": [
    {
     "data": {
      "text/plain": [
       "array([5.80930023e-03, 7.66359258e-03, 1.51322519e-04, 8.92312634e-03,\n",
       "       1.13907207e-03, 1.54661275e-04, 4.28270282e-04, 7.64999812e-04,\n",
       "       2.65146968e-03, 3.25093362e-04, 1.11112996e-03, 1.50453461e-02,\n",
       "       6.86567410e-05, 6.82887333e-04, 1.73194616e-03, 8.39223715e-03,\n",
       "       1.95156933e-03, 6.17323389e-03, 1.05171921e-02, 5.99667755e-04,\n",
       "       1.04185981e-03, 4.44713816e-02, 0.00000000e+00, 0.00000000e+00,\n",
       "       1.45650474e-03, 1.02745642e-03, 3.75965502e-02, 1.05675768e-03,\n",
       "       5.33173970e-03, 7.75982371e-04, 9.86617050e-04, 2.46905573e-03,\n",
       "       7.79879819e-03, 8.42460016e-03, 8.53323397e-04, 2.71077006e-03,\n",
       "       1.83981654e-02, 2.60198551e-02, 1.29270923e-02, 0.00000000e+00,\n",
       "       7.57170112e-03, 4.01515023e-03, 5.62585650e-04, 1.43245883e-02,\n",
       "       6.63769240e-03, 8.52212662e-03, 1.69380321e-04, 1.32980583e-02,\n",
       "       1.47655396e-02, 1.44857328e-02, 8.37604480e-03, 1.13338399e-02,\n",
       "       1.57719491e-02, 2.45991033e-04, 1.47363819e-02, 2.08814022e-03,\n",
       "       0.00000000e+00, 2.23949734e-01, 2.02385623e-01, 1.89128456e-01])"
      ]
     },
     "execution_count": 93,
     "metadata": {},
     "output_type": "execute_result"
    }
   ],
   "source": [
    "class_models[2].best_estimator_.named_steps['model'].feature_importances_"
   ]
  },
  {
   "cell_type": "code",
   "execution_count": 64,
   "id": "9576cab6-7103-4db5-9923-7e3e4eb1a9a2",
   "metadata": {},
   "outputs": [
    {
     "name": "stderr",
     "output_type": "stream",
     "text": [
      "/Users/mticona/.local/share/virtualenvs/licentiate-thesis-repo-_Hfi4eev/lib/python3.9/site-packages/sklearn/model_selection/_search.py:306: UserWarning: The total space of parameters 336 is smaller than n_iter=1000. Running 336 iterations. For exhaustive searches, use GridSearchCV.\n",
      "  warnings.warn(\n"
     ]
    }
   ],
   "source": [
    "# explore estimators\n",
    "model__n_estimators=np.arange(10, 350, 50)\n",
    "model__max_depth=[9]\n",
    "file_estimators = 'rf_explore_n_estimators_balanced_1000.csv'\n",
    "df_exp_estimators = run_param_exploration_rf(model__max_depth, model__n_estimators, \n",
    "                                             n_iter=1000,\n",
    "                                             file_name=file_estimators)"
   ]
  },
  {
   "cell_type": "code",
   "execution_count": 65,
   "id": "2fa9bdb5-276f-40ca-96ac-b0894a690cce",
   "metadata": {},
   "outputs": [
    {
     "data": {
      "text/plain": [
       "<AxesSubplot:xlabel='param_model__n_estimators', ylabel='mean_test_matthew'>"
      ]
     },
     "execution_count": 65,
     "metadata": {},
     "output_type": "execute_result"
    },
    {
     "data": {
      "image/png": "[encoded data removed]",
      "text/plain": [
       "<Figure size 432x288 with 1 Axes>"
      ]
     },
     "metadata": {
      "needs_background": "light"
     },
     "output_type": "display_data"
    }
   ],
   "source": [
    "df_exp_estimators_ = df_exp_estimators.fillna('None')\n",
    "\n",
    "sns.boxplot(x=df_exp_estimators_['param_model__n_estimators'], y=df_exp_estimators_['mean_test_matthew'], \n",
    "                hue=df_exp_estimators_['param_model__class_weight'])\n",
    "#plt.savefig('explore_estimators_1000.pdf', dpi=300)"
   ]
  },
  {
   "cell_type": "code",
   "execution_count": null,
   "id": "71ad50df-2059-4938-b969-968b82f2053f",
   "metadata": {},
   "outputs": [],
   "source": []
  },
  {
   "cell_type": "code",
   "execution_count": null,
   "id": "ee8b9b67-955c-46eb-a0c1-cc69aa968906",
   "metadata": {},
   "outputs": [],
   "source": []
  },
  {
   "cell_type": "code",
   "execution_count": 35,
   "id": "91b07fda-626b-4950-b841-8865b04059d2",
   "metadata": {},
   "outputs": [
    {
     "ename": "NameError",
     "evalue": "name 'gs' is not defined",
     "output_type": "error",
     "traceback": [
      "\u001b[0;31m---------------------------------------------------------------------------\u001b[0m",
      "\u001b[0;31mNameError\u001b[0m                                 Traceback (most recent call last)",
      "Input \u001b[0;32mIn [35]\u001b[0m, in \u001b[0;36m<cell line: 1>\u001b[0;34m()\u001b[0m\n\u001b[0;32m----> 1\u001b[0m df_cv_res \u001b[38;5;241m=\u001b[39m pd\u001b[38;5;241m.\u001b[39mconcat([pd\u001b[38;5;241m.\u001b[39mDataFrame(\u001b[43mgs\u001b[49m\u001b[38;5;241m.\u001b[39mcv_results_[\u001b[38;5;124m\"\u001b[39m\u001b[38;5;124mparams\u001b[39m\u001b[38;5;124m\"\u001b[39m]),\n\u001b[1;32m      2\u001b[0m                        pd\u001b[38;5;241m.\u001b[39mDataFrame(gs\u001b[38;5;241m.\u001b[39mcv_results_[\u001b[38;5;124m\"\u001b[39m\u001b[38;5;124mmean_test_matthew\u001b[39m\u001b[38;5;124m\"\u001b[39m], columns\u001b[38;5;241m=\u001b[39m[\u001b[38;5;124m\"\u001b[39m\u001b[38;5;124mmatthew\u001b[39m\u001b[38;5;124m\"\u001b[39m]),\n\u001b[1;32m      3\u001b[0m                       pd\u001b[38;5;241m.\u001b[39mDataFrame(gs\u001b[38;5;241m.\u001b[39mcv_results_[\u001b[38;5;124m\"\u001b[39m\u001b[38;5;124mmean_test_precision\u001b[39m\u001b[38;5;124m\"\u001b[39m], columns\u001b[38;5;241m=\u001b[39m[\u001b[38;5;124m\"\u001b[39m\u001b[38;5;124mprecision\u001b[39m\u001b[38;5;124m\"\u001b[39m]),\n\u001b[1;32m      4\u001b[0m                       pd\u001b[38;5;241m.\u001b[39mDataFrame(gs\u001b[38;5;241m.\u001b[39mcv_results_[\u001b[38;5;124m\"\u001b[39m\u001b[38;5;124mmean_test_f1\u001b[39m\u001b[38;5;124m\"\u001b[39m], columns\u001b[38;5;241m=\u001b[39m[\u001b[38;5;124m\"\u001b[39m\u001b[38;5;124mf1\u001b[39m\u001b[38;5;124m\"\u001b[39m]),\n\u001b[1;32m      5\u001b[0m                       pd\u001b[38;5;241m.\u001b[39mDataFrame(gs\u001b[38;5;241m.\u001b[39mcv_results_[\u001b[38;5;124m\"\u001b[39m\u001b[38;5;124mrank_test_matthew\u001b[39m\u001b[38;5;124m\"\u001b[39m], columns\u001b[38;5;241m=\u001b[39m[\u001b[38;5;124m\"\u001b[39m\u001b[38;5;124mrank_test_matthew\u001b[39m\u001b[38;5;124m\"\u001b[39m]),\n\u001b[1;32m      6\u001b[0m                        pd\u001b[38;5;241m.\u001b[39mDataFrame(gs\u001b[38;5;241m.\u001b[39mcv_results_[\u001b[38;5;124m\"\u001b[39m\u001b[38;5;124mmean_test_recall\u001b[39m\u001b[38;5;124m\"\u001b[39m], columns\u001b[38;5;241m=\u001b[39m[\u001b[38;5;124m\"\u001b[39m\u001b[38;5;124mrecall\u001b[39m\u001b[38;5;124m\"\u001b[39m])],axis\u001b[38;5;241m=\u001b[39m\u001b[38;5;241m1\u001b[39m)\n",
      "\u001b[0;31mNameError\u001b[0m: name 'gs' is not defined"
     ]
    }
   ],
   "source": [
    "df_cv_res = pd.concat([pd.DataFrame(gs.cv_results_[\"params\"]),\n",
    "                       pd.DataFrame(gs.cv_results_[\"mean_test_matthew\"], columns=[\"matthew\"]),\n",
    "                      pd.DataFrame(gs.cv_results_[\"mean_test_precision\"], columns=[\"precision\"]),\n",
    "                      pd.DataFrame(gs.cv_results_[\"mean_test_f1\"], columns=[\"f1\"]),\n",
    "                      pd.DataFrame(gs.cv_results_[\"rank_test_matthew\"], columns=[\"rank_test_matthew\"]),\n",
    "                       pd.DataFrame(gs.cv_results_[\"mean_test_recall\"], columns=[\"recall\"])],axis=1)"
   ]
  },
  {
   "cell_type": "code",
   "execution_count": 42,
   "id": "cc010323-868c-4aab-90f4-d334b7c5dc10",
   "metadata": {},
   "outputs": [],
   "source": [
    "import seaborn as sns"
   ]
  },
  {
   "cell_type": "code",
   "execution_count": null,
   "id": "ff6b61bc-95df-4561-a5af-5e32c406d670",
   "metadata": {},
   "outputs": [],
   "source": [
    "df_exp_estimators = pd.read_csv(results_path+file_estimators)\n",
    "df_exp_depth = pd.read_csv(results_path+file_depth)"
   ]
  },
  {
   "cell_type": "code",
   "execution_count": 284,
   "id": "cad17b93-baab-4930-834a-731203e2d5d9",
   "metadata": {},
   "outputs": [
    {
     "data": {
      "image/png": "[encoded data removed]",
      "text/plain": [
       "<Figure size 432x288 with 1 Axes>"
      ]
     },
     "metadata": {
      "needs_background": "light"
     },
     "output_type": "display_data"
    }
   ],
   "source": [
    "sns.scatterplot(x=df_exp_estimators['param_model__n_estimators'], y=df_exp_depth['mean_test_matthew'])\n",
    "plt.savefig('explore_estimators.pdf', dpi=300)"
   ]
  },
  {
   "cell_type": "code",
   "execution_count": 285,
   "id": "2d2429cb-d01c-424d-866b-a70063363b03",
   "metadata": {},
   "outputs": [
    {
     "data": {
      "image/png": "[encoded data removed]",
      "text/plain": [
       "<Figure size 432x288 with 1 Axes>"
      ]
     },
     "metadata": {
      "needs_background": "light"
     },
     "output_type": "display_data"
    }
   ],
   "source": [
    "sns.scatterplot(x=df_exp_depth['param_model__max_depth'], y=df_exp_depth['mean_test_matthew'])\n",
    "plt.savefig('explore_depth.pdf', dpi=300)"
   ]
  },
  {
   "cell_type": "markdown",
   "id": "7e5537a7-4b1d-41e7-a1bb-d0203750f030",
   "metadata": {},
   "source": [
    "## Experiments"
   ]
  },
  {
   "cell_type": "markdown",
   "id": "86a8b4d0-681b-4c9a-a659-15efe8a3f928",
   "metadata": {},
   "source": [
    "### Experiment 1: diversity by parameters"
   ]
  },
  {
   "cell_type": "code",
   "execution_count": 265,
   "id": "a8e83e0b-9707-4cc8-944f-edc60d38e8ac",
   "metadata": {},
   "outputs": [],
   "source": [
    "ranges_n_estimators = {\n",
    "    'bajo_estimators': np.arange(50, 150, 20),\n",
    "    'med_estimators': np.arange(150, 250, 20),\n",
    "    'alto_estimators': np.arange(250, 350, 20)\n",
    "}\n",
    "\n",
    "range_depth = {\n",
    "    'bajo_depth': np.arange(4, 8, 1),\n",
    "    'med_depth': np.arange(8, 12, 1),\n",
    "    'alto_depth': np.arange(12, 16, 1)\n",
    "}"
   ]
  },
  {
   "cell_type": "code",
   "execution_count": 266,
   "id": "4dde309a-9378-4de4-87bc-52dc5517c3b5",
   "metadata": {},
   "outputs": [],
   "source": [
    "from joblib import dump, load"
   ]
  },
  {
   "cell_type": "code",
   "execution_count": 267,
   "id": "9dcbc3ca-57c8-4401-98a8-3f179ca94cfd",
   "metadata": {},
   "outputs": [],
   "source": [
    "# parameters exploration\n",
    "estimators_dir = results_path+'exp_params/estimators/'\n",
    "grid_dir = results_path+'exp_params/grid_results/'\n",
    "\n",
    "def run_params_combinations(ranges_n_estimators, range_depth,\n",
    "                          n_iter=1, \n",
    "                          k_fold_config=k_fold_config_default,\n",
    "                          file_name='no_file_name.csv'):\n",
    "    best_estimators = []\n",
    "    name_estimators = []\n",
    "    for range_name_est, estimators_ls in ranges_n_estimators.items():\n",
    "        for range_name_depth, depth_ls in range_depth.items():\n",
    "            file_name = range_name_est + '_' + range_name_depth \n",
    "            grid_params_rf = grid_params_rf_default.copy()\n",
    "            grid_params_rf['model__n_estimators'] = list(estimators_ls)\n",
    "            grid_params_rf['model__max_depth'] = list(depth_ls)\n",
    "            params = {\n",
    "                'k_fold_config': k_fold_config,\n",
    "                'params_search': grid_params_rf,\n",
    "                'n_iter': n_iter\n",
    "            }\n",
    "            gs = full_pipeline(models['rf'], df_test_train, params)\n",
    "            \n",
    "            df_res = pd.DataFrame.from_dict(gs.cv_results_)\n",
    "            df_res.to_csv(grid_dir+file_name+'.csv', index=None)\n",
    "            \n",
    "            dump(gs.best_estimator_,  estimators_dir + file_name +'.joblib')\n",
    "            \n",
    "            best_estimators.append(gs.best_estimator_)\n",
    "            best_estimators.append(gs.best_estimator_)\n",
    "            best_estimators.append(file_name)\n",
    "            \n",
    "    return best_estimators, name_estimators"
   ]
  },
  {
   "cell_type": "code",
   "execution_count": 268,
   "id": "5c83bef0-4d5a-45d2-ab4a-6e0c4a20cc8c",
   "metadata": {},
   "outputs": [],
   "source": [
    "best_estimators, name_estimators = run_params_combinations(ranges_n_estimators, range_depth)"
   ]
  },
  {
   "cell_type": "code",
   "execution_count": 275,
   "id": "3d5ad058-d8e8-4682-ae33-c4960f5fa50b",
   "metadata": {},
   "outputs": [],
   "source": [
    "df = df_test_train.drop(['_rxn_organic-inchikey', 'groups'], axis=1)"
   ]
  },
  {
   "cell_type": "code",
   "execution_count": 276,
   "id": "e9205869-d268-4932-aa81-f0ca29b92905",
   "metadata": {},
   "outputs": [],
   "source": [
    "X, y = split_X_y(df)"
   ]
  },
  {
   "cell_type": "code",
   "execution_count": null,
   "id": "865e256f-15f2-4707-b0c4-33da131f2715",
   "metadata": {},
   "outputs": [],
   "source": [
    "best_estimators.best_estimators"
   ]
  },
  {
   "cell_type": "code",
   "execution_count": 259,
   "id": "2c1a0783-eff3-428e-a226-09af6351939d",
   "metadata": {},
   "outputs": [],
   "source": [
    "# Somewhere else\n",
    "estimator = load(estimators_dir+\"test-model.joblib\")"
   ]
  },
  {
   "cell_type": "code",
   "execution_count": 249,
   "id": "0e888ad7-df14-49bd-992f-9126abd55478",
   "metadata": {},
   "outputs": [
    {
     "name": "stdout",
     "output_type": "stream",
     "text": [
      "{'k_fold_config': {'random_state': 1, 'n_splits': 2}, 'params_search': {'model__min_samples_split': [10, 7, 15, 20], 'model__min_samples_leaf': [3, 6], 'model__warm_start': [False], 'model__class_weight': [None], 'model__n_estimators': [50, 70, 90, 110, 130], 'model__max_depth': [4, 5, 6, 7]}, 'n_iter': 100}\n",
      "{'k_fold_config': {'random_state': 1, 'n_splits': 2}, 'params_search': {'model__min_samples_split': [10, 7, 15, 20], 'model__min_samples_leaf': [3, 6], 'model__warm_start': [False], 'model__class_weight': [None], 'model__n_estimators': [50, 70, 90, 110, 130], 'model__max_depth': [8, 9, 10, 11]}, 'n_iter': 100}\n",
      "{'k_fold_config': {'random_state': 1, 'n_splits': 2}, 'params_search': {'model__min_samples_split': [10, 7, 15, 20], 'model__min_samples_leaf': [3, 6], 'model__warm_start': [False], 'model__class_weight': [None], 'model__n_estimators': [50, 70, 90, 110, 130], 'model__max_depth': [12, 13, 14, 15]}, 'n_iter': 100}\n",
      "{'k_fold_config': {'random_state': 1, 'n_splits': 2}, 'params_search': {'model__min_samples_split': [10, 7, 15, 20], 'model__min_samples_leaf': [3, 6], 'model__warm_start': [False], 'model__class_weight': [None], 'model__n_estimators': [150, 170, 190, 210, 230], 'model__max_depth': [4, 5, 6, 7]}, 'n_iter': 100}\n",
      "{'k_fold_config': {'random_state': 1, 'n_splits': 2}, 'params_search': {'model__min_samples_split': [10, 7, 15, 20], 'model__min_samples_leaf': [3, 6], 'model__warm_start': [False], 'model__class_weight': [None], 'model__n_estimators': [150, 170, 190, 210, 230], 'model__max_depth': [8, 9, 10, 11]}, 'n_iter': 100}\n",
      "{'k_fold_config': {'random_state': 1, 'n_splits': 2}, 'params_search': {'model__min_samples_split': [10, 7, 15, 20], 'model__min_samples_leaf': [3, 6], 'model__warm_start': [False], 'model__class_weight': [None], 'model__n_estimators': [150, 170, 190, 210, 230], 'model__max_depth': [12, 13, 14, 15]}, 'n_iter': 100}\n",
      "{'k_fold_config': {'random_state': 1, 'n_splits': 2}, 'params_search': {'model__min_samples_split': [10, 7, 15, 20], 'model__min_samples_leaf': [3, 6], 'model__warm_start': [False], 'model__class_weight': [None], 'model__n_estimators': [250, 270, 290, 310, 330], 'model__max_depth': [4, 5, 6, 7]}, 'n_iter': 100}\n",
      "{'k_fold_config': {'random_state': 1, 'n_splits': 2}, 'params_search': {'model__min_samples_split': [10, 7, 15, 20], 'model__min_samples_leaf': [3, 6], 'model__warm_start': [False], 'model__class_weight': [None], 'model__n_estimators': [250, 270, 290, 310, 330], 'model__max_depth': [8, 9, 10, 11]}, 'n_iter': 100}\n",
      "{'k_fold_config': {'random_state': 1, 'n_splits': 2}, 'params_search': {'model__min_samples_split': [10, 7, 15, 20], 'model__min_samples_leaf': [3, 6], 'model__warm_start': [False], 'model__class_weight': [None], 'model__n_estimators': [250, 270, 290, 310, 330], 'model__max_depth': [12, 13, 14, 15]}, 'n_iter': 100}\n"
     ]
    }
   ],
   "source": [
    "run_params_combinations(ranges_n_estimators, range_depth)"
   ]
  },
  {
   "cell_type": "code",
   "execution_count": 129,
   "id": "d57321e7-71e8-4381-8486-724bbd96b53b",
   "metadata": {},
   "outputs": [],
   "source": [
    "# Experiments 1\n",
    "# test in a MULTISOLVENT sample (encoded)\n",
    "# test in same sample but without encoded solvent feature\n",
    "def exp_drop_solvent(model_name, df_train, df_test, model_config = {}):\n",
    "    drop_cols = ['solvent_Dimethyl sulfoxide', \n",
    "                 'solvent_Dimethylformamide',\n",
    "                 'solvent_Gamma-Butyrolactone']\n",
    "    df_train = df_train.drop(drop_cols, axis=1)\n",
    "    df_test = df_test.drop(drop_cols, axis=1)\n",
    "    return proof_concept(model_name, df_train, df_test)\n",
    "\n",
    "ALGORITHMS = ['rf']\n",
    "\n",
    "results_dir = \"solvent_exp_1\"\n",
    "\n",
    "model_EVAL_MULTISOLVENT = EVAL_MULTISOLVENT.drop(['solvent'], axis=1)\n",
    "\n",
    "model_df_solvent_full_train = df_solvent_full_train.drop(['solvent'], axis=1)\n",
    "\n",
    "\n",
    "for ALGORITH in ALGORITHMS:\n",
    "    results_experiment_1 = proof_concept(models[ALGORITHM], model_df_solvent_full_train, model_EVAL_MULTISOLVENT,\n",
    "                                        model_configs[ALGORITHM])\n",
    "\n",
    "    results_experiment_s_sv = exp_drop_solvent(models[ALGORITHM], model_df_solvent_full_train, model_EVAL_MULTISOLVENT,\n",
    "                                        model_configs[ALGORITHM])\n",
    "\n",
    "    report_multisv =  pd.DataFrame(results_experiment_1).transpose()\n",
    "    report_no_sol =  pd.DataFrame(results_experiment_s_sv).transpose()\n",
    "    \n",
    "    report_multisv.to_csv(results_dir+\"eval_multisolvente_encoded_%s_%s.csv\" % (SEED, ALGORITH), index=None)\n",
    "\n",
    "    report_no_sol.to_csv(results_dir+\"eval_no_solvent_%s_%s.csv\" % (SEED, ALGORITH), index=None)"
   ]
  },
  {
   "cell_type": "code",
   "execution_count": 139,
   "id": "542071c8-2978-470b-a0b9-014ecd773d6b",
   "metadata": {},
   "outputs": [
    {
     "data": {
      "text/html": [
       "<div>\n",
       "<style scoped>\n",
       "    .dataframe tbody tr th:only-of-type {\n",
       "        vertical-align: middle;\n",
       "    }\n",
       "\n",
       "    .dataframe tbody tr th {\n",
       "        vertical-align: top;\n",
       "    }\n",
       "\n",
       "    .dataframe thead th {\n",
       "        text-align: right;\n",
       "    }\n",
       "</style>\n",
       "<table border=\"1\" class=\"dataframe\">\n",
       "  <thead>\n",
       "    <tr style=\"text-align: right;\">\n",
       "      <th></th>\n",
       "      <th>No cristaliza</th>\n",
       "      <th>Cristaliza</th>\n",
       "      <th>accuracy</th>\n",
       "      <th>macro avg</th>\n",
       "      <th>weighted avg</th>\n",
       "    </tr>\n",
       "  </thead>\n",
       "  <tbody>\n",
       "    <tr>\n",
       "      <th>precision</th>\n",
       "      <td>0.935294</td>\n",
       "      <td>0.650000</td>\n",
       "      <td>0.880952</td>\n",
       "      <td>0.792647</td>\n",
       "      <td>0.885028</td>\n",
       "    </tr>\n",
       "    <tr>\n",
       "      <th>recall</th>\n",
       "      <td>0.919075</td>\n",
       "      <td>0.702703</td>\n",
       "      <td>0.880952</td>\n",
       "      <td>0.810889</td>\n",
       "      <td>0.880952</td>\n",
       "    </tr>\n",
       "    <tr>\n",
       "      <th>f1-score</th>\n",
       "      <td>0.927114</td>\n",
       "      <td>0.675325</td>\n",
       "      <td>0.880952</td>\n",
       "      <td>0.801219</td>\n",
       "      <td>0.882751</td>\n",
       "    </tr>\n",
       "    <tr>\n",
       "      <th>support</th>\n",
       "      <td>173.000000</td>\n",
       "      <td>37.000000</td>\n",
       "      <td>0.880952</td>\n",
       "      <td>210.000000</td>\n",
       "      <td>210.000000</td>\n",
       "    </tr>\n",
       "  </tbody>\n",
       "</table>\n",
       "</div>"
      ],
      "text/plain": [
       "           No cristaliza  Cristaliza  accuracy   macro avg  weighted avg\n",
       "precision       0.935294    0.650000  0.880952    0.792647      0.885028\n",
       "recall          0.919075    0.702703  0.880952    0.810889      0.880952\n",
       "f1-score        0.927114    0.675325  0.880952    0.801219      0.882751\n",
       "support       173.000000   37.000000  0.880952  210.000000    210.000000"
      ]
     },
     "execution_count": 139,
     "metadata": {},
     "output_type": "execute_result"
    }
   ],
   "source": [
    "report_multisv.transpose()"
   ]
  },
  {
   "cell_type": "code",
   "execution_count": 140,
   "id": "26a32577-187b-4b83-8d54-d1f1648804c1",
   "metadata": {},
   "outputs": [
    {
     "data": {
      "text/html": [
       "<div>\n",
       "<style scoped>\n",
       "    .dataframe tbody tr th:only-of-type {\n",
       "        vertical-align: middle;\n",
       "    }\n",
       "\n",
       "    .dataframe tbody tr th {\n",
       "        vertical-align: top;\n",
       "    }\n",
       "\n",
       "    .dataframe thead th {\n",
       "        text-align: right;\n",
       "    }\n",
       "</style>\n",
       "<table border=\"1\" class=\"dataframe\">\n",
       "  <thead>\n",
       "    <tr style=\"text-align: right;\">\n",
       "      <th></th>\n",
       "      <th>No cristaliza</th>\n",
       "      <th>Cristaliza</th>\n",
       "      <th>accuracy</th>\n",
       "      <th>macro avg</th>\n",
       "      <th>weighted avg</th>\n",
       "    </tr>\n",
       "  </thead>\n",
       "  <tbody>\n",
       "    <tr>\n",
       "      <th>precision</th>\n",
       "      <td>0.916993</td>\n",
       "      <td>0.740909</td>\n",
       "      <td>0.891116</td>\n",
       "      <td>0.828951</td>\n",
       "      <td>0.885352</td>\n",
       "    </tr>\n",
       "    <tr>\n",
       "      <th>recall</th>\n",
       "      <td>0.953583</td>\n",
       "      <td>0.605948</td>\n",
       "      <td>0.891116</td>\n",
       "      <td>0.779766</td>\n",
       "      <td>0.891116</td>\n",
       "    </tr>\n",
       "    <tr>\n",
       "      <th>f1-score</th>\n",
       "      <td>0.934930</td>\n",
       "      <td>0.666667</td>\n",
       "      <td>0.891116</td>\n",
       "      <td>0.800798</td>\n",
       "      <td>0.886725</td>\n",
       "    </tr>\n",
       "    <tr>\n",
       "      <th>support</th>\n",
       "      <td>1228.000000</td>\n",
       "      <td>269.000000</td>\n",
       "      <td>0.891116</td>\n",
       "      <td>1497.000000</td>\n",
       "      <td>1497.000000</td>\n",
       "    </tr>\n",
       "  </tbody>\n",
       "</table>\n",
       "</div>"
      ],
      "text/plain": [
       "           No cristaliza  Cristaliza  accuracy    macro avg  weighted avg\n",
       "precision       0.916993    0.740909  0.891116     0.828951      0.885352\n",
       "recall          0.953583    0.605948  0.891116     0.779766      0.891116\n",
       "f1-score        0.934930    0.666667  0.891116     0.800798      0.886725\n",
       "support      1228.000000  269.000000  0.891116  1497.000000   1497.000000"
      ]
     },
     "execution_count": 140,
     "metadata": {},
     "output_type": "execute_result"
    }
   ],
   "source": [
    "report_no_sol"
   ]
  },
  {
   "cell_type": "code",
   "execution_count": 125,
   "id": "087a426d-a74b-410b-b7c5-e52841d34074",
   "metadata": {},
   "outputs": [],
   "source": [
    "# Experimento 2\n",
    "dir_results = \"results_exp_2/\"\n",
    "\n",
    "for solvent in solvents:\n",
    "    drop_cols = ['solvent_Dimethyl sulfoxide', \n",
    "                 'solvent_Dimethylformamide',\n",
    "                 'solvent_Gamma-Butyrolactone',\n",
    "                'solvent']\n",
    "    \n",
    "    df_train_sv = df_solvent_full_train[df_solvent_full_train.solvent == solvent].drop(drop_cols, axis=1)\n",
    "    \n",
    "    df_test_sv = EVAL_MULTISOLVENT[EVAL_MULTISOLVENT.solvent == solvent].drop(drop_cols, axis=1)\n",
    "    \n",
    "    df_test_sv_encoded = EVAL_MULTISOLVENT[EVAL_MULTISOLVENT.solvent == solvent].drop('solvent', axis=1)\n",
    "    df_train_sv_encoded = df_solvent_full_train.drop('solvent', axis=1)\n",
    "    \n",
    "    # modelo específico por solvente\n",
    "    report_sv = proof_concept(models[ALGORITHM], df_train_sv, df_test_sv,\n",
    "                              model_configs[ALGORITHM])\n",
    "                              \n",
    "    \n",
    "    # misma muestra en modelo multisolvente\n",
    "    report_multisv = proof_concept(models[ALGORITHM], df_train_sv_encoded, df_test_sv_encoded,\n",
    "                                   model_configs[ALGORITHM])\n",
    "                                   \n",
    "    \n",
    "    report_sv.to_csv(dir_results+'model_per_solv_%s_%s.csv' % (SEED, solvent), index=None)\n",
    "    report_multisv.to_csv(dir_results+'sample_%s_%s_in_multisolvent.csv' % (SEED, solvent), index=None)"
   ]
  },
  {
   "cell_type": "code",
   "execution_count": 144,
   "id": "5650821d-730b-4c9d-becb-cee72244084c",
   "metadata": {},
   "outputs": [],
   "source": [
    "report_sv[\"matthew\"] = 3"
   ]
  },
  {
   "cell_type": "code",
   "execution_count": 145,
   "id": "37e689f3-5639-41a3-9db6-67628ce3d609",
   "metadata": {},
   "outputs": [
    {
     "data": {
      "text/html": [
       "<div>\n",
       "<style scoped>\n",
       "    .dataframe tbody tr th:only-of-type {\n",
       "        vertical-align: middle;\n",
       "    }\n",
       "\n",
       "    .dataframe tbody tr th {\n",
       "        vertical-align: top;\n",
       "    }\n",
       "\n",
       "    .dataframe thead th {\n",
       "        text-align: right;\n",
       "    }\n",
       "</style>\n",
       "<table border=\"1\" class=\"dataframe\">\n",
       "  <thead>\n",
       "    <tr style=\"text-align: right;\">\n",
       "      <th></th>\n",
       "      <th>precision</th>\n",
       "      <th>recall</th>\n",
       "      <th>f1-score</th>\n",
       "      <th>support</th>\n",
       "      <th>matthew</th>\n",
       "    </tr>\n",
       "  </thead>\n",
       "  <tbody>\n",
       "    <tr>\n",
       "      <th>No cristaliza</th>\n",
       "      <td>0.934911</td>\n",
       "      <td>0.913295</td>\n",
       "      <td>0.923977</td>\n",
       "      <td>173.00000</td>\n",
       "      <td>3</td>\n",
       "    </tr>\n",
       "    <tr>\n",
       "      <th>Cristaliza</th>\n",
       "      <td>0.634146</td>\n",
       "      <td>0.702703</td>\n",
       "      <td>0.666667</td>\n",
       "      <td>37.00000</td>\n",
       "      <td>3</td>\n",
       "    </tr>\n",
       "    <tr>\n",
       "      <th>accuracy</th>\n",
       "      <td>0.876190</td>\n",
       "      <td>0.876190</td>\n",
       "      <td>0.876190</td>\n",
       "      <td>0.87619</td>\n",
       "      <td>3</td>\n",
       "    </tr>\n",
       "    <tr>\n",
       "      <th>macro avg</th>\n",
       "      <td>0.784529</td>\n",
       "      <td>0.807999</td>\n",
       "      <td>0.795322</td>\n",
       "      <td>210.00000</td>\n",
       "      <td>3</td>\n",
       "    </tr>\n",
       "    <tr>\n",
       "      <th>weighted avg</th>\n",
       "      <td>0.881919</td>\n",
       "      <td>0.876190</td>\n",
       "      <td>0.878641</td>\n",
       "      <td>210.00000</td>\n",
       "      <td>3</td>\n",
       "    </tr>\n",
       "  </tbody>\n",
       "</table>\n",
       "</div>"
      ],
      "text/plain": [
       "               precision    recall  f1-score    support  matthew\n",
       "No cristaliza   0.934911  0.913295  0.923977  173.00000        3\n",
       "Cristaliza      0.634146  0.702703  0.666667   37.00000        3\n",
       "accuracy        0.876190  0.876190  0.876190    0.87619        3\n",
       "macro avg       0.784529  0.807999  0.795322  210.00000        3\n",
       "weighted avg    0.881919  0.876190  0.878641  210.00000        3"
      ]
     },
     "execution_count": 145,
     "metadata": {},
     "output_type": "execute_result"
    }
   ],
   "source": [
    "report_sv"
   ]
  },
  {
   "cell_type": "markdown",
   "id": "2c042c51",
   "metadata": {},
   "source": [
    "Features importances only computed for RandomForest"
   ]
  },
  {
   "cell_type": "code",
   "execution_count": 1058,
   "id": "48d7e176",
   "metadata": {},
   "outputs": [
    {
     "data": {
      "text/plain": [
       "'rf'"
      ]
     },
     "execution_count": 1058,
     "metadata": {},
     "output_type": "execute_result"
    }
   ],
   "source": [
    "ALGORITHM"
   ]
  },
  {
   "cell_type": "code",
   "execution_count": 1059,
   "id": "e729ff71",
   "metadata": {},
   "outputs": [],
   "source": [
    "df_solvent_models = {solvent: proof_concept_model(models[ALGORITHM], df_solvent_full_train, df_test) \\\n",
    "                        for solvent, df_test in df_solvent_samples_test.items() }"
   ]
  },
  {
   "cell_type": "markdown",
   "id": "6b0d6561",
   "metadata": {},
   "source": [
    "model_cols = list(df_solvent_full_train.columns)\n",
    "model_cols.remove(TARGET_COL)"
   ]
  },
  {
   "cell_type": "markdown",
   "id": "22692c0a",
   "metadata": {},
   "source": [
    "df_importance = pd.DataFrame({\"feature\": model_cols,\n",
    "                             \"importance\": df_solvent_models['Gamma-Butyrolactone']['model'].feature_importances_})\n",
    "df_importance = df_importance.sort_values(by=\"importance\", ascending=False)"
   ]
  },
  {
   "cell_type": "code",
   "execution_count": 1060,
   "id": "d171e540",
   "metadata": {},
   "outputs": [],
   "source": [
    "#df_importance.to_csv(\"results/solvent-exp/random_forest_feat_importances.csv\", index=None)"
   ]
  },
  {
   "cell_type": "markdown",
   "id": "883c9971",
   "metadata": {},
   "source": [
    "df_importance = pd.read_csv(\"random_forest_feat_importances.csv\")"
   ]
  },
  {
   "cell_type": "code",
   "execution_count": 1061,
   "id": "6d6207d8",
   "metadata": {},
   "outputs": [],
   "source": [
    "#df_importance.reset_index().head(50)"
   ]
  },
  {
   "cell_type": "markdown",
   "id": "f3c7a9fa",
   "metadata": {},
   "source": [
    "plot_title = \"figures/feature_importances.pdf\"\n",
    "def plot_df_importances(df):\n",
    "    with plt.style.context(['science', 'bright']):\n",
    "        #sns.set_palette(sns.color_palette(color_bright))\n",
    "        fig, axes = plt.subplots(1, 1, figsize=(8,5),\n",
    "                                     constrained_layout = True)\n",
    "        ax = sns.barplot(x=\"importance\", y=\"feature\", orient=\"h\", data=df,\n",
    "                         palette=df.color, alpha=0.7)\n",
    "        #ax.set_title(\"Distribución Calidad de Cristal\")\n",
    "\n",
    "        # Remove box lines\n",
    "        sns.despine(bottom = True, left = False, trim=False)\n",
    "        ax.tick_params(which=\"both\", left=False, bottom=False, top=False, right=False)\n",
    "        #ax.xticks(fontdict={'fontsize':15})\n",
    "        #ax.tick_params(axis='both', which='both')\n",
    "        ax.set_ylabel(\"Importancia\", fontdict={'fontsize':13})\n",
    "        ax.set_xlabel(\"Variable\", fontdict={'fontsize':13}, rotation=0)\n",
    "        #ax.yaxis.set_major_formatter(FuncFormatter(lambda x, _: int(x)))\n",
    "        #plt.xticks()\n",
    "        plt.xticks(fontsize=11)\n",
    "        plt.yticks(fontsize=12)\n",
    "\n",
    "\n",
    "    #        ax.annotate(text, (x, y), ha='center', va='center', fontsize=12)\n",
    "\n",
    "        #plt.legend(title=\"Tipo de Variable\", fontsize=13)\n",
    "        plt.xlim(0,0.015)\n",
    "        fig.savefig(plot_title, dpi=300)"
   ]
  },
  {
   "cell_type": "code",
   "execution_count": 1062,
   "id": "3d2e4d33",
   "metadata": {},
   "outputs": [],
   "source": [
    "# fronteroa  de toma de posición \n",
    "# misma superficie no cambia tanto \n",
    "# por qupe tan bajo peso\n",
    "\n",
    "# combinar modelos\n",
    "# binarización más fuerte"
   ]
  },
  {
   "cell_type": "markdown",
   "id": "a7a6ef9c",
   "metadata": {},
   "source": [
    "indexes = np.arange(0,60,6)"
   ]
  },
  {
   "cell_type": "markdown",
   "id": "1113e6ac",
   "metadata": {},
   "source": [
    "tmp = df_importance.iloc[3:,:].reset_index(drop=True)\n",
    "#.reset_index(drop=True).loc[indexes]"
   ]
  },
  {
   "cell_type": "markdown",
   "id": "eb0de25a",
   "metadata": {},
   "source": [
    "tmp['color'] = np.where(tmp['feature'].str.startswith(\"solvent\"), 'red', 'grey')"
   ]
  },
  {
   "cell_type": "markdown",
   "id": "e589893b",
   "metadata": {},
   "source": [
    "solvent_index = tmp[tmp.feature.str.startswith(\"solvent\")].index"
   ]
  },
  {
   "cell_type": "markdown",
   "id": "786b45ad",
   "metadata": {},
   "source": [
    "plot_df_importances(tmp.iloc[list(indexes) + list(solvent_index)]\\\n",
    "                    .sort_values(by=\"importance\", ascending=False))"
   ]
  },
  {
   "cell_type": "code",
   "execution_count": null,
   "id": "677a63fb",
   "metadata": {},
   "outputs": [],
   "source": []
  }
 ],
 "metadata": {
  "interpreter": {
   "hash": "2dd68b6b88d78f72e555cd6564eaf72c9813991942e2722f811fa2c9051f75f2"
  },
  "kernelspec": {
   "display_name": "tesis-notebooks",
   "language": "python",
   "name": "tesis-notebooks"
  },
  "language_info": {
   "codemirror_mode": {
    "name": "ipython",
    "version": 3
   },
   "file_extension": ".py",
   "mimetype": "text/x-python",
   "name": "python",
   "nbconvert_exporter": "python",
   "pygments_lexer": "ipython3",
   "version": "3.9.7"
  }
 },
 "nbformat": 4,
 "nbformat_minor": 5
}
