{
 "cells": [
  {
   "cell_type": "markdown",
   "id": "5e29ddcc",
   "metadata": {},
   "source": [
    "# Solvent Small Experiment"
   ]
  },
  {
   "cell_type": "markdown",
   "id": "d9cc1f5d",
   "metadata": {},
   "source": [
    "Question: Could be use data from minotiry solvents? Does it add value/relevant information?\n",
    "\n",
    "Descriptions:\n",
    "- 3 solvent availables, one majority and two minorities\n",
    "- sample from majority and minorities: 3 samples\n",
    "- train in majority\n",
    "- evaluate in 3 samples and compare results, is there any particular improvement in majority?"
   ]
  },
  {
   "cell_type": "code",
   "execution_count": 44,
   "id": "09af6612",
   "metadata": {},
   "outputs": [],
   "source": [
    "import numpy as np\n",
    "import pandas as pd\n",
    "import matplotlib.pyplot as plt\n",
    "import seaborn as sns\n",
    "import itertools\n",
    "from src.config import chemical_inventory_path, raw_data_path\n",
    "from src.data import notebook_utils as utils\n",
    "from src.constants import GBL_INCHI_KEY, DMSO_INCHI_KEY, DMF_INCHI_KEY, \\\n",
    "                        INCHI_TO_CHEMNAME, TARGET_COL, RXN_FEAT_NAME, ORGANOAMONIUM_INCHI_KEY_COL\n",
    "from src import plot_utils"
   ]
  },
  {
   "cell_type": "code",
   "execution_count": 45,
   "id": "6eb70f0b",
   "metadata": {},
   "outputs": [],
   "source": [
    "import matplotlib.pyplot as plt\n",
    "import matplotlib.ticker as mtick\n",
    "plt.style.reload_library()\n",
    "import matplotlib.patches as mpatches"
   ]
  },
  {
   "cell_type": "markdown",
   "id": "ab399c2a",
   "metadata": {
    "tags": []
   },
   "source": [
    "## Generate datasets"
   ]
  },
  {
   "cell_type": "code",
   "execution_count": 3,
   "id": "0ededca6",
   "metadata": {},
   "outputs": [
    {
     "name": "stdout",
     "output_type": "stream",
     "text": [
      "/Users/mticona/Documents/tesis/licentiate-thesis-repo\n"
     ]
    }
   ],
   "source": [
    "%cd ../.."
   ]
  },
  {
   "cell_type": "code",
   "execution_count": null,
   "id": "d5c4d1c5",
   "metadata": {},
   "outputs": [],
   "source": []
  },
  {
   "cell_type": "code",
   "execution_count": 46,
   "id": "0bc7ee6c",
   "metadata": {},
   "outputs": [],
   "source": [
    "SEED = 105\n",
    "ALGORITHM = 'rf'\n",
    "\n",
    "solvents_inchies = [GBL_INCHI_KEY, DMSO_INCHI_KEY, DMF_INCHI_KEY]\n",
    "solvents = [INCHI_TO_CHEMNAME[inchie] for inchie in solvents_inchies]\n",
    "\n",
    "plot_solvents = {'Gamma-Butyrolactone': \"GBL\",\n",
    "                 'Dimethyl sulfoxide':\"DMSO\",\n",
    "                 'Dimethylformamide': \"DMF\"}"
   ]
  },
  {
   "cell_type": "code",
   "execution_count": 47,
   "id": "8d36e761",
   "metadata": {},
   "outputs": [
    {
     "name": "stderr",
     "output_type": "stream",
     "text": [
      "/Users/mticona/Documents/tesis/licentiate-thesis-repo/src/data/notebook_utils.py:138: SettingWithCopyWarning: \n",
      "A value is trying to be set on a copy of a slice from a DataFrame.\n",
      "Try using .loc[row_indexer,col_indexer] = value instead\n",
      "\n",
      "See the caveats in the documentation: https://pandas.pydata.org/pandas-docs/stable/user_guide/indexing.html#returning-a-view-versus-a-copy\n",
      "  df.loc[:,col] = (df[TARGET_COL] == 4).astype(int)\n"
     ]
    }
   ],
   "source": [
    "df = utils.read_data(raw_data_path, organic_key=True, solvent=GBL_INCHI_KEY).drop_duplicates()"
   ]
  },
  {
   "cell_type": "code",
   "execution_count": 13,
   "id": "d8617821",
   "metadata": {},
   "outputs": [
    {
     "data": {
      "text/plain": [
       "(5644, 72)"
      ]
     },
     "execution_count": 13,
     "metadata": {},
     "output_type": "execute_result"
    }
   ],
   "source": [
    "df.shape"
   ]
  },
  {
   "cell_type": "code",
   "execution_count": 25,
   "id": "1d2a9c68",
   "metadata": {},
   "outputs": [],
   "source": [
    "raw_cols = utils.get_deafult_model_columns()\n",
    "\n",
    "import json\n",
    "f = open('data/metadata/map_chem_feat_names.json')\n",
    "map_names = json.load(f)\n",
    "\n",
    "df_amines = pd.read_csv(\"data/metadata/type_var_fq_bins.csv\")\n",
    "\n",
    "chem_feat = [ col for col in raw_cols if map_names.get(col,\" \") in list(df_amines.propiedad)]\n",
    "\n",
    "len(chem_feat)\n",
    "\n",
    "rxn_feat = utils.concentration_feats()\n",
    "\n",
    "model_cols = chem_feat + rxn_feat + [TARGET_COL]"
   ]
  },
  {
   "cell_type": "code",
   "execution_count": 26,
   "id": "6e5a8458",
   "metadata": {},
   "outputs": [],
   "source": [
    "df = df[model_cols+[ORGANOAMONIUM_INCHI_KEY_COL]]"
   ]
  },
  {
   "cell_type": "code",
   "execution_count": 40,
   "id": "b6284425",
   "metadata": {},
   "outputs": [],
   "source": [
    "PATH_DATA = 'data/ensemble/'\n",
    "FILE_EVAL = 'validation_set.csv'\n",
    "FILE_TEST_TRAIN = 'train_test_set.csv'"
   ]
  },
  {
   "cell_type": "code",
   "execution_count": 31,
   "id": "aa1e9cd0",
   "metadata": {},
   "outputs": [],
   "source": [
    "# Validation sample\n",
    "df_val = df.groupby([TARGET_COL, ORGANOAMONIUM_INCHI_KEY_COL])\\\n",
    "                            .sample(frac=0.1, random_state=SEED)"
   ]
  },
  {
   "cell_type": "code",
   "execution_count": 42,
   "id": "261cfd57",
   "metadata": {},
   "outputs": [],
   "source": [
    "df_val.to_csv(PATH_DATA+FILE_EVAL)"
   ]
  },
  {
   "cell_type": "code",
   "execution_count": 36,
   "id": "6d718b46",
   "metadata": {},
   "outputs": [],
   "source": [
    "not_val_idx = [idx for idx in df.index if idx not in df_val.index]"
   ]
  },
  {
   "cell_type": "code",
   "execution_count": 38,
   "id": "b29dcf4c",
   "metadata": {},
   "outputs": [],
   "source": [
    "df_test_train = df.loc[not_val_idx, :]"
   ]
  },
  {
   "cell_type": "code",
   "execution_count": 39,
   "id": "023463d2",
   "metadata": {},
   "outputs": [
    {
     "data": {
      "text/plain": [
       "((5644, 62), (567, 62), (5077, 62))"
      ]
     },
     "execution_count": 39,
     "metadata": {},
     "output_type": "execute_result"
    }
   ],
   "source": [
    "df.shape, df_val.shape, df_test_train.shape"
   ]
  },
  {
   "cell_type": "code",
   "execution_count": 43,
   "id": "25fa10ff",
   "metadata": {},
   "outputs": [],
   "source": [
    "df_test_train.to_csv(PATH_DATA+FILE_TEST_TRAIN)"
   ]
  }
 ],
 "metadata": {
  "interpreter": {
   "hash": "2dd68b6b88d78f72e555cd6564eaf72c9813991942e2722f811fa2c9051f75f2"
  },
  "kernelspec": {
   "display_name": "tesis-notebooks",
   "language": "python",
   "name": "tesis-notebooks"
  },
  "language_info": {
   "codemirror_mode": {
    "name": "ipython",
    "version": 3
   },
   "file_extension": ".py",
   "mimetype": "text/x-python",
   "name": "python",
   "nbconvert_exporter": "python",
   "pygments_lexer": "ipython3",
   "version": "3.9.7"
  }
 },
 "nbformat": 4,
 "nbformat_minor": 5
}
