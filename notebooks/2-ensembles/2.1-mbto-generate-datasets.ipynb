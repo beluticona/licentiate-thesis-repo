{
 "cells": [
  {
   "cell_type": "markdown",
   "id": "083e7e42",
   "metadata": {},
   "source": [
    "# Solvent Small Experiment"
   ]
  },
  {
   "cell_type": "markdown",
   "id": "0fa813db",
   "metadata": {},
   "source": [
    "Question: Could be use data from minotiry solvents? Does it add value/relevant information?\n",
    "\n",
    "Descriptions:\n",
    "- 3 solvent availables, one majority and two minorities\n",
    "- sample from majority and minorities: 3 samples\n",
    "- train in majority\n",
    "- evaluate in 3 samples and compare results, is there any particular improvement in majority?"
   ]
  },
  {
   "cell_type": "code",
   "execution_count": 44,
   "id": "f2215afb",
   "metadata": {},
   "outputs": [],
   "source": [
    "import numpy as np\n",
    "import pandas as pd\n",
    "import matplotlib.pyplot as plt\n",
    "import seaborn as sns\n",
    "import itertools\n",
    "from src.config import chemical_inventory_path, raw_data_path\n",
    "from src.data import notebook_utils as utils\n",
    "from src.constants import GBL_INCHI_KEY, DMSO_INCHI_KEY, DMF_INCHI_KEY, \\\n",
    "                        INCHI_TO_CHEMNAME, TARGET_COL, RXN_FEAT_NAME, ORGANOAMONIUM_INCHI_KEY_COL\n",
    "from src import plot_utils"
   ]
  },
  {
   "cell_type": "code",
   "execution_count": 45,
   "id": "29cef52b",
   "metadata": {},
   "outputs": [],
   "source": [
    "import matplotlib.pyplot as plt\n",
    "import matplotlib.ticker as mtick\n",
    "plt.style.reload_library()\n",
    "import matplotlib.patches as mpatches"
   ]
  },
  {
   "cell_type": "markdown",
   "id": "909b7fdb",
   "metadata": {
    "tags": []
   },
   "source": [
    "## Generate datasets"
   ]
  },
  {
   "cell_type": "code",
   "execution_count": 3,
   "id": "ba155e9d",
   "metadata": {},
   "outputs": [
    {
     "name": "stdout",
     "output_type": "stream",
     "text": [
      "/Users/mticona/Documents/tesis/licentiate-thesis-repo\n"
     ]
    }
   ],
   "source": [
    "%cd ../.."
   ]
  },
  {
   "cell_type": "code",
   "execution_count": null,
   "id": "a6969802-9d9e-42d4-905e-4d75cce70edd",
   "metadata": {},
   "outputs": [],
   "source": []
  },
  {
   "cell_type": "code",
   "execution_count": 46,
   "id": "902f8bf1-d5fa-4c86-84e1-04e63d4669c1",
   "metadata": {},
   "outputs": [],
   "source": [
    "SEED = 105\n",
    "ALGORITHM = 'rf'\n",
    "\n",
    "solvents_inchies = [GBL_INCHI_KEY, DMSO_INCHI_KEY, DMF_INCHI_KEY]\n",
    "solvents = [INCHI_TO_CHEMNAME[inchie] for inchie in solvents_inchies]\n",
    "\n",
    "plot_solvents = {'Gamma-Butyrolactone': \"GBL\",\n",
    "                 'Dimethyl sulfoxide':\"DMSO\",\n",
    "                 'Dimethylformamide': \"DMF\"}"
   ]
  },
  {
   "cell_type": "code",
   "execution_count": 47,
   "id": "66a0d153-711e-4d6f-969d-5d7ad716ba96",
   "metadata": {},
   "outputs": [
    {
     "name": "stderr",
     "output_type": "stream",
     "text": [
      "/Users/mticona/Documents/tesis/licentiate-thesis-repo/src/data/notebook_utils.py:138: SettingWithCopyWarning: \n",
      "A value is trying to be set on a copy of a slice from a DataFrame.\n",
      "Try using .loc[row_indexer,col_indexer] = value instead\n",
      "\n",
      "See the caveats in the documentation: https://pandas.pydata.org/pandas-docs/stable/user_guide/indexing.html#returning-a-view-versus-a-copy\n",
      "  df.loc[:,col] = (df[TARGET_COL] == 4).astype(int)\n"
     ]
    }
   ],
   "source": [
    "df = utils.read_data(raw_data_path, organic_key=True, solvent=GBL_INCHI_KEY).drop_duplicates()"
   ]
  },
  {
   "cell_type": "code",
   "execution_count": 13,
   "id": "06c3f0c5-bb9b-4006-a00a-e344caa9705f",
   "metadata": {},
   "outputs": [
    {
     "data": {
      "text/plain": [
       "(5644, 72)"
      ]
     },
     "execution_count": 13,
     "metadata": {},
     "output_type": "execute_result"
    }
   ],
   "source": [
    "df.shape"
   ]
  },
  {
   "cell_type": "code",
   "execution_count": 25,
   "id": "da454387-b08f-4bf4-87ec-eba7013918a8",
   "metadata": {},
   "outputs": [],
   "source": [
    "raw_cols = utils.get_deafult_model_columns()\n",
    "\n",
    "import json\n",
    "f = open('data/metadata/map_chem_feat_names.json')\n",
    "map_names = json.load(f)\n",
    "\n",
    "df_amines = pd.read_csv(\"data/metadata/type_var_fq_bins.csv\")\n",
    "\n",
    "chem_feat = [ col for col in raw_cols if map_names.get(col,\" \") in list(df_amines.propiedad)]\n",
    "\n",
    "len(chem_feat)\n",
    "\n",
    "rxn_feat = utils.concentration_feats()\n",
    "\n",
    "model_cols = chem_feat + rxn_feat + [TARGET_COL]"
   ]
  },
  {
   "cell_type": "code",
   "execution_count": 26,
   "id": "034d4b1f-b64e-4d0b-9ffe-5ce9a20ff7ee",
   "metadata": {},
   "outputs": [],
   "source": [
    "df = df[model_cols+[ORGANOAMONIUM_INCHI_KEY_COL]]"
   ]
  },
  {
   "cell_type": "code",
   "execution_count": 40,
   "id": "e00e456c-714c-42c0-8eb3-d2a29d107f0c",
   "metadata": {},
   "outputs": [],
   "source": [
    "PATH_DATA = 'data/ensemble/'\n",
    "FILE_EVAL = 'validation_set.csv'\n",
    "FILE_TEST_TRAIN = 'train_test_set.csv'"
   ]
  },
  {
   "cell_type": "code",
   "execution_count": 31,
   "id": "293f1649-315d-4e77-924a-4e566537dfef",
   "metadata": {},
   "outputs": [],
   "source": [
    "# Validation sample\n",
    "df_val = df.groupby([TARGET_COL, ORGANOAMONIUM_INCHI_KEY_COL])\\\n",
    "                            .sample(frac=0.1, random_state=SEED)"
   ]
  },
  {
   "cell_type": "code",
   "execution_count": 42,
   "id": "decb79ce-0682-447e-8e32-9db78d5cd547",
   "metadata": {},
   "outputs": [],
   "source": [
    "df_val.to_csv(PATH_DATA+FILE_EVAL)"
   ]
  },
  {
   "cell_type": "code",
   "execution_count": 36,
   "id": "2bc355b3-e314-4ecc-9df0-26efdefa212c",
   "metadata": {},
   "outputs": [],
   "source": [
    "not_val_idx = [idx for idx in df.index if idx not in df_val.index]"
   ]
  },
  {
   "cell_type": "code",
   "execution_count": 38,
   "id": "46b6fe4d-d0f5-41c7-8e6f-ee3ff592e889",
   "metadata": {},
   "outputs": [],
   "source": [
    "df_test_train = df.loc[not_val_idx, :]"
   ]
  },
  {
   "cell_type": "code",
   "execution_count": 39,
   "id": "33a91778-acda-4148-9358-64ceb78a1d22",
   "metadata": {},
   "outputs": [
    {
     "data": {
      "text/plain": [
       "((5644, 62), (567, 62), (5077, 62))"
      ]
     },
     "execution_count": 39,
     "metadata": {},
     "output_type": "execute_result"
    }
   ],
   "source": [
    "df.shape, df_val.shape, df_test_train.shape"
   ]
  },
  {
   "cell_type": "code",
   "execution_count": 43,
   "id": "ae0fa8bc-8cd7-468f-8ee9-6d68e03ccf17",
   "metadata": {},
   "outputs": [],
   "source": [
    "df_test_train.to_csv(PATH_DATA+FILE_TEST_TRAIN)"
   ]
  }
 ],
 "metadata": {
  "interpreter": {
   "hash": "2dd68b6b88d78f72e555cd6564eaf72c9813991942e2722f811fa2c9051f75f2"
  },
  "kernelspec": {
   "display_name": "tesis-notebooks",
   "language": "python",
   "name": "tesis-notebooks"
  },
  "language_info": {
   "codemirror_mode": {
    "name": "ipython",
    "version": 3
   },
   "file_extension": ".py",
   "mimetype": "text/x-python",
   "name": "python",
   "nbconvert_exporter": "python",
   "pygments_lexer": "ipython3",
   "version": "3.9.7"
  }
 },
 "nbformat": 4,
 "nbformat_minor": 5
}
