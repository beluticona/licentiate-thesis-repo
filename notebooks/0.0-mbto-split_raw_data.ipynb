{
 "cells": [
  {
   "cell_type": "markdown",
   "metadata": {},
   "source": [
    "## Split original dataset into training and testing datasets"
   ]
  },
  {
   "cell_type": "code",
   "execution_count": 12,
   "metadata": {},
   "outputs": [],
   "source": [
    "import numpy as np\n",
    "import pandas as pd\n",
    "from src.config import raw_data_path, training_dataset_path, testing_dataset_path"
   ]
  },
  {
   "cell_type": "code",
   "execution_count": 2,
   "metadata": {},
   "outputs": [
    {
     "name": "stdout",
     "output_type": "stream",
     "text": [
      "/home/belu/VS Workplace/licentiate-thesis-repo\n"
     ]
    }
   ],
   "source": [
    "%cd .."
   ]
  },
  {
   "cell_type": "code",
   "execution_count": 26,
   "metadata": {},
   "outputs": [],
   "source": [
    "import src.data.notebook_utils as utils\n",
    "\n",
    "df = utils.read_data(raw_data_path)"
   ]
  },
  {
   "cell_type": "code",
   "execution_count": 20,
   "metadata": {},
   "outputs": [],
   "source": [
    "columns = utils.get_columns(df.columns)\n",
    "columns['all'] = columns['_rxn_'].union(columns['_feat_'], {'_out_crystalscore'}) "
   ]
  },
  {
   "cell_type": "code",
   "execution_count": 21,
   "metadata": {},
   "outputs": [],
   "source": [
    "df.drop(df.loc[df['_rxn_organic-inchikey'] == 'XFYICZOIWSBQSK-UHFFFAOYSA-N'].index, inplace = True)\n",
    "df['_out_crystalscore'] = df['_out_crystalscore'].astype(int)\n",
    "df.drop(df.loc[df['_out_crystalscore'] == 0].index, inplace = True)"
   ]
  },
  {
   "cell_type": "markdown",
   "metadata": {},
   "source": [
    "Select only required columns"
   ]
  },
  {
   "cell_type": "code",
   "execution_count": 22,
   "metadata": {},
   "outputs": [],
   "source": [
    "df = df[list(columns['all'])]"
   ]
  },
  {
   "cell_type": "markdown",
   "metadata": {},
   "source": [
    "Raw data split into balanced training and testing sets "
   ]
  },
  {
   "cell_type": "code",
   "execution_count": 23,
   "metadata": {},
   "outputs": [],
   "source": [
    "train = df.groupby('_out_crystalscore').sample(frac=0.8, random_state=200) \n",
    "test = df.drop(train.index)"
   ]
  },
  {
   "cell_type": "code",
   "execution_count": 24,
   "metadata": {},
   "outputs": [
    {
     "name": "stdout",
     "output_type": "stream",
     "text": [
      "Train dataset size: 3620 \n",
      " Test dataset size: 904\n"
     ]
    }
   ],
   "source": [
    "print(\"Train dataset size: {} \\n Test dataset size: {}\".format(len(train), len(test)))"
   ]
  },
  {
   "cell_type": "code",
   "execution_count": 27,
   "metadata": {},
   "outputs": [
    {
     "data": {
      "text/html": [
       "<div>\n",
       "<style scoped>\n",
       "    .dataframe tbody tr th:only-of-type {\n",
       "        vertical-align: middle;\n",
       "    }\n",
       "\n",
       "    .dataframe tbody tr th {\n",
       "        vertical-align: top;\n",
       "    }\n",
       "\n",
       "    .dataframe thead th {\n",
       "        text-align: right;\n",
       "    }\n",
       "</style>\n",
       "<table border=\"1\" class=\"dataframe\">\n",
       "  <thead>\n",
       "    <tr style=\"text-align: right;\">\n",
       "      <th></th>\n",
       "      <th>_feat_ChiralCenterCount</th>\n",
       "      <th>_feat_Protpsa</th>\n",
       "      <th>_feat_RotatableBondCount</th>\n",
       "      <th>_feat_msareaVDWp</th>\n",
       "      <th>_feat_RingAtomCount</th>\n",
       "      <th>_feat_ASA-</th>\n",
       "      <th>_feat_CarboRingCount</th>\n",
       "      <th>_feat_AromaticRingCount</th>\n",
       "      <th>_feat_fr_piperzine</th>\n",
       "      <th>_feat_CyclomaticNumber</th>\n",
       "      <th>...</th>\n",
       "      <th>_feat_fr_pyridine</th>\n",
       "      <th>_rxn_mixingtime1S</th>\n",
       "      <th>_feat_fr_NH2</th>\n",
       "      <th>_feat_molsurfaceareaVDWp</th>\n",
       "      <th>_feat_ChainAtomCount</th>\n",
       "      <th>_feat_VanderWaalsVolume</th>\n",
       "      <th>_feat_MinimalProjectionRadius</th>\n",
       "      <th>_feat_Accsitecount</th>\n",
       "      <th>_feat_AtomCount_N</th>\n",
       "      <th>_feat_fr_NH0</th>\n",
       "    </tr>\n",
       "  </thead>\n",
       "  <tbody>\n",
       "    <tr>\n",
       "      <th>6979</th>\n",
       "      <td>0</td>\n",
       "      <td>27.64</td>\n",
       "      <td>2</td>\n",
       "      <td>203.20</td>\n",
       "      <td>0</td>\n",
       "      <td>67.59</td>\n",
       "      <td>0</td>\n",
       "      <td>0</td>\n",
       "      <td>0</td>\n",
       "      <td>0</td>\n",
       "      <td>...</td>\n",
       "      <td>0</td>\n",
       "      <td>900.0</td>\n",
       "      <td>0</td>\n",
       "      <td>203.20</td>\n",
       "      <td>6</td>\n",
       "      <td>110.65</td>\n",
       "      <td>3.18</td>\n",
       "      <td>0</td>\n",
       "      <td>1</td>\n",
       "      <td>0</td>\n",
       "    </tr>\n",
       "    <tr>\n",
       "      <th>4105</th>\n",
       "      <td>0</td>\n",
       "      <td>51.61</td>\n",
       "      <td>0</td>\n",
       "      <td>110.90</td>\n",
       "      <td>0</td>\n",
       "      <td>39.44</td>\n",
       "      <td>0</td>\n",
       "      <td>0</td>\n",
       "      <td>0</td>\n",
       "      <td>0</td>\n",
       "      <td>...</td>\n",
       "      <td>0</td>\n",
       "      <td>900.0</td>\n",
       "      <td>2</td>\n",
       "      <td>110.90</td>\n",
       "      <td>4</td>\n",
       "      <td>62.84</td>\n",
       "      <td>3.14</td>\n",
       "      <td>1</td>\n",
       "      <td>2</td>\n",
       "      <td>0</td>\n",
       "    </tr>\n",
       "    <tr>\n",
       "      <th>8085</th>\n",
       "      <td>0</td>\n",
       "      <td>16.61</td>\n",
       "      <td>2</td>\n",
       "      <td>177.50</td>\n",
       "      <td>0</td>\n",
       "      <td>80.53</td>\n",
       "      <td>0</td>\n",
       "      <td>0</td>\n",
       "      <td>0</td>\n",
       "      <td>0</td>\n",
       "      <td>...</td>\n",
       "      <td>0</td>\n",
       "      <td>900.0</td>\n",
       "      <td>1</td>\n",
       "      <td>177.50</td>\n",
       "      <td>5</td>\n",
       "      <td>93.95</td>\n",
       "      <td>2.80</td>\n",
       "      <td>0</td>\n",
       "      <td>1</td>\n",
       "      <td>0</td>\n",
       "    </tr>\n",
       "    <tr>\n",
       "      <th>5097</th>\n",
       "      <td>0</td>\n",
       "      <td>27.64</td>\n",
       "      <td>0</td>\n",
       "      <td>141.67</td>\n",
       "      <td>0</td>\n",
       "      <td>59.48</td>\n",
       "      <td>0</td>\n",
       "      <td>0</td>\n",
       "      <td>0</td>\n",
       "      <td>0</td>\n",
       "      <td>...</td>\n",
       "      <td>0</td>\n",
       "      <td>900.0</td>\n",
       "      <td>0</td>\n",
       "      <td>141.67</td>\n",
       "      <td>4</td>\n",
       "      <td>76.57</td>\n",
       "      <td>3.16</td>\n",
       "      <td>0</td>\n",
       "      <td>1</td>\n",
       "      <td>0</td>\n",
       "    </tr>\n",
       "    <tr>\n",
       "      <th>8059</th>\n",
       "      <td>0</td>\n",
       "      <td>16.61</td>\n",
       "      <td>2</td>\n",
       "      <td>177.50</td>\n",
       "      <td>0</td>\n",
       "      <td>80.53</td>\n",
       "      <td>0</td>\n",
       "      <td>0</td>\n",
       "      <td>0</td>\n",
       "      <td>0</td>\n",
       "      <td>...</td>\n",
       "      <td>0</td>\n",
       "      <td>900.0</td>\n",
       "      <td>1</td>\n",
       "      <td>177.50</td>\n",
       "      <td>5</td>\n",
       "      <td>93.95</td>\n",
       "      <td>2.80</td>\n",
       "      <td>0</td>\n",
       "      <td>1</td>\n",
       "      <td>0</td>\n",
       "    </tr>\n",
       "  </tbody>\n",
       "</table>\n",
       "<p>5 rows × 77 columns</p>\n",
       "</div>"
      ],
      "text/plain": [
       "      _feat_ChiralCenterCount  _feat_Protpsa  _feat_RotatableBondCount  \\\n",
       "6979                        0          27.64                         2   \n",
       "4105                        0          51.61                         0   \n",
       "8085                        0          16.61                         2   \n",
       "5097                        0          27.64                         0   \n",
       "8059                        0          16.61                         2   \n",
       "\n",
       "      _feat_msareaVDWp  _feat_RingAtomCount  _feat_ASA-  _feat_CarboRingCount  \\\n",
       "6979            203.20                    0       67.59                     0   \n",
       "4105            110.90                    0       39.44                     0   \n",
       "8085            177.50                    0       80.53                     0   \n",
       "5097            141.67                    0       59.48                     0   \n",
       "8059            177.50                    0       80.53                     0   \n",
       "\n",
       "      _feat_AromaticRingCount  _feat_fr_piperzine  _feat_CyclomaticNumber  \\\n",
       "6979                        0                   0                       0   \n",
       "4105                        0                   0                       0   \n",
       "8085                        0                   0                       0   \n",
       "5097                        0                   0                       0   \n",
       "8059                        0                   0                       0   \n",
       "\n",
       "      ...  _feat_fr_pyridine  _rxn_mixingtime1S  _feat_fr_NH2  \\\n",
       "6979  ...                  0              900.0             0   \n",
       "4105  ...                  0              900.0             2   \n",
       "8085  ...                  0              900.0             1   \n",
       "5097  ...                  0              900.0             0   \n",
       "8059  ...                  0              900.0             1   \n",
       "\n",
       "      _feat_molsurfaceareaVDWp  _feat_ChainAtomCount  _feat_VanderWaalsVolume  \\\n",
       "6979                    203.20                     6                   110.65   \n",
       "4105                    110.90                     4                    62.84   \n",
       "8085                    177.50                     5                    93.95   \n",
       "5097                    141.67                     4                    76.57   \n",
       "8059                    177.50                     5                    93.95   \n",
       "\n",
       "      _feat_MinimalProjectionRadius  _feat_Accsitecount  _feat_AtomCount_N  \\\n",
       "6979                           3.18                   0                  1   \n",
       "4105                           3.14                   1                  2   \n",
       "8085                           2.80                   0                  1   \n",
       "5097                           3.16                   0                  1   \n",
       "8059                           2.80                   0                  1   \n",
       "\n",
       "      _feat_fr_NH0  \n",
       "6979             0  \n",
       "4105             0  \n",
       "8085             0  \n",
       "5097             0  \n",
       "8059             0  \n",
       "\n",
       "[5 rows x 77 columns]"
      ]
     },
     "execution_count": 27,
     "metadata": {},
     "output_type": "execute_result"
    }
   ],
   "source": [
    "train.head()"
   ]
  },
  {
   "cell_type": "code",
   "execution_count": 28,
   "metadata": {},
   "outputs": [],
   "source": [
    "train.to_csv(training_dataset_path, index=None)\n",
    "test.to_csv(testing_dataset_path, index=None)"
   ]
  },
  {
   "cell_type": "code",
   "execution_count": null,
   "metadata": {},
   "outputs": [],
   "source": []
  }
 ],
 "metadata": {
  "interpreter": {
   "hash": "d07da0965434c7b5286d6cc9b9463c44a85c1c514696f673aad9eb5034120dfe"
  },
  "kernelspec": {
   "display_name": "Python 3.6.9 64-bit ('licentiate-thesis-repo-cz9ujhZI': pipenv)",
   "name": "thesis"
  },
  "language_info": {
   "name": "python",
   "version": ""
  }
 },
 "nbformat": 4,
 "nbformat_minor": 2
}