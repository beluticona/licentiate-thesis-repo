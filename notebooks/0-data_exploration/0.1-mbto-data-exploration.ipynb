{
 "cells": [
  {
   "cell_type": "markdown",
   "metadata": {},
   "source": [
    "# Data Exploration"
   ]
  },
  {
   "cell_type": "code",
   "execution_count": 1,
   "metadata": {},
   "outputs": [],
   "source": [
    "import numpy as np\n",
    "import pandas as pd\n",
    "import seaborn as sns\n",
    "import itertools"
   ]
  },
  {
   "cell_type": "code",
   "execution_count": 7,
   "metadata": {},
   "outputs": [],
   "source": [
    "import matplotlib.pyplot as plt\n",
    "import matplotlib.ticker as mtick\n",
    "plt.style.reload_library()\n",
    "import matplotlib.patches as mpatches\n",
    "from src.constants import GBL_INCHI_KEY, DMSO_INCHI_KEY, DMF_INCHI_KEY, \\\n",
    "                        INCHI_TO_CHEMNAME, TARGET_COL, RXN_FEAT_NAME, ORGANOAMONIUM_INCHI_KEY_COL"
   ]
  },
  {
   "cell_type": "code",
   "execution_count": 3,
   "metadata": {},
   "outputs": [],
   "source": [
    "from src.config import chemical_inventory_path, raw_data_path\n",
    "from src.data import utils as data_utils\n",
    "from src import plot_utils"
   ]
  },
  {
   "cell_type": "code",
   "execution_count": 4,
   "metadata": {},
   "outputs": [
    {
     "name": "stdout",
     "output_type": "stream",
     "text": [
      "/home/belu/VS Workplace/licentiate-thesis-repo\n"
     ]
    }
   ],
   "source": [
    "%cd ../.."
   ]
  },
  {
   "cell_type": "markdown",
   "metadata": {},
   "source": [
    "## EDA: raw data"
   ]
  },
  {
   "cell_type": "code",
   "execution_count": 67,
   "metadata": {},
   "outputs": [],
   "source": [
    "import src.data.notebook_utils as utils\n",
    "\n",
    "\n",
    "solvents_inchies = [GBL_INCHI_KEY, DMSO_INCHI_KEY, DMF_INCHI_KEY]\n",
    "solvents = [INCHI_TO_CHEMNAME[inchie] for inchie in solvents_inchies]\n",
    "\n",
    "plot_solvents = {'Gamma-Butyrolactone': \"GBL\",\n",
    "                 'Dimethyl sulfoxide':\"DMSO\",\n",
    "                 'Dimethylformamide': \"DMF\"}\n",
    "\n",
    "solvents_data = {INCHI_TO_CHEMNAME[solvent_inchie]: utils.read_data(raw_data_path, organic_key=True,\\\n",
    "                                                                    solvent=solvent_inchie,\n",
    "                                                                    binary_cristal_score=False) \\\n",
    "                 for solvent_inchie in solvents_inchies}"
   ]
  },
  {
   "cell_type": "code",
   "execution_count": null,
   "metadata": {},
   "outputs": [],
   "source": []
  },
  {
   "cell_type": "code",
   "execution_count": 68,
   "metadata": {},
   "outputs": [
    {
     "name": "stdout",
     "output_type": "stream",
     "text": [
      "Gamma-Butyrolactone 6096\n",
      "Dimethyl sulfoxide 864\n",
      "Dimethylformamide 1096\n"
     ]
    }
   ],
   "source": [
    "for key, val in solvents_data.items():\n",
    "    print(key, len(val))"
   ]
  },
  {
   "cell_type": "code",
   "execution_count": 69,
   "metadata": {},
   "outputs": [],
   "source": [
    "def add_column(df, solvent):\n",
    "    df['solvent'] = solvent\n",
    "    return df\n",
    "\n",
    "df = pd.concat([data.apply(add_column, axis=1, args=(solvent,)) \\\n",
    "                             for solvent, data in solvents_data.items()], axis=0)\\\n",
    "                            .reset_index(drop=True)"
   ]
  },
  {
   "cell_type": "code",
   "execution_count": 70,
   "metadata": {},
   "outputs": [
    {
     "data": {
      "text/plain": [
       "Index(['_feat_WienerPolarity', '_feat_BondCount', '_feat_fr_NH0',\n",
       "       '_feat_Refractivity', '_feat_LargestRingSize', '_feat_fr_ArN',\n",
       "       '_feat_HeteroaliphaticRingCount', '_feat_fr_quatN', '_feat_msareaVDWp',\n",
       "       '_feat_AromaticAtomCount', '_feat_AtomCount_C', '_feat_fr_amidine',\n",
       "       '_feat_CyclomaticNumber', '_feat_LengthPerpendicularToTheMinArea',\n",
       "       '_feat_fr_guanido', '_feat_donorcount', '_feat_molsurfaceareaVDWp',\n",
       "       '_feat_fr_NH2', '_feat_minimalprojectionsize', '_feat_AtomCount_N',\n",
       "       '_feat_ChiralCenterCount', '_feat_WienerIndex', '_feat_AvgPol',\n",
       "       '_feat_donsitecount', '_feat_Hacceptorcount', '_feat_ASA-',\n",
       "       '_feat_ProtPolarSurfaceArea', '_feat_fr_Ar_NH',\n",
       "       '_feat_HeteroaromaticRing Count', '_feat_Accsitecount',\n",
       "       '_feat_acceptorcount', '_feat_ASA', '_feat_CarboaromaticRingCount',\n",
       "       '_feat_BalabanIndex', '_feat_SmallestRingSize', '_feat_RingAtomCount',\n",
       "       '_feat_msareaASAp', '_feat_PolarSurfaceArea',\n",
       "       '_feat_MinimalProjectionArea', '_feat_MaximalProjectionArea',\n",
       "       '_feat_CarboRingCount', '_feat_CarboaliphaticRingCount',\n",
       "       '_feat_VanderWaalsSurfaceArea', '_feat_ASA_H', '_feat_ASA+',\n",
       "       '_feat_fr_piperdine', '_feat_Aliphatic AtomCount',\n",
       "       '_feat_AliphaticRingCount', '_feat_AromaticRingCount',\n",
       "       '_feat_LengthPerpendicularToTheMaxArea', '_feat_HyperWienerIndex',\n",
       "       '_feat_MolPol', '_feat_fr_Imine', '_feat_fr_dihydropyridine',\n",
       "       '_feat_fr_piperzine', '_feat_RotatableBondCount',\n",
       "       '_feat_maximalprojectionsize', '_feat_ChainAtomCount',\n",
       "       '_feat_MinimalProjectionRadius', '_feat_VanderWaalsVolume',\n",
       "       '_feat_molsurfaceareaASAp', '_feat_ASA_P', '_feat_Protpsa',\n",
       "       '_feat_fr_NH1', '_feat_MaximalProjectionRadius', '_feat_Hdonorcount',\n",
       "       '_feat_fr_pyridine', '_rxn_M_inorganic', '_rxn_M_organic',\n",
       "       '_rxn_M_acid', '_out_crystalscore', '_rxn_organic-inchikey', 'solvent'],\n",
       "      dtype='object')"
      ]
     },
     "execution_count": 70,
     "metadata": {},
     "output_type": "execute_result"
    }
   ],
   "source": [
    "df.columns"
   ]
  },
  {
   "cell_type": "code",
   "execution_count": 71,
   "metadata": {},
   "outputs": [],
   "source": [
    "chemical_info = utils.read_chemical_info()"
   ]
  },
  {
   "cell_type": "code",
   "execution_count": 72,
   "metadata": {},
   "outputs": [
    {
     "data": {
      "text/plain": [
       "(73, 9)"
      ]
     },
     "execution_count": 72,
     "metadata": {},
     "output_type": "execute_result"
    }
   ],
   "source": [
    "chemical_info.shape"
   ]
  },
  {
   "cell_type": "code",
   "execution_count": 73,
   "metadata": {},
   "outputs": [],
   "source": [
    "df = df.set_index('_rxn_organic-inchikey').join(chemical_info.set_index('InChI Key (ID)'), \n",
    "                                                how='left').reset_index().rename({'index': '_rxn_organic-inchikey'}, \n",
    "                                                axis='columns')"
   ]
  },
  {
   "cell_type": "code",
   "execution_count": 19,
   "metadata": {},
   "outputs": [
    {
     "data": {
      "text/plain": [
       "['Canonical SMILES String',\n",
       " 'Chemical Abbreviation',\n",
       " 'Chemical Category',\n",
       " 'Chemical Name',\n",
       " 'Density            (g/mL)',\n",
       " 'InChI=',\n",
       " 'Molecular Formula',\n",
       " 'Molecular Weight (g/mol)',\n",
       " '_feat_ASA',\n",
       " '_feat_ASA+',\n",
       " '_feat_ASA-',\n",
       " '_feat_ASA_H',\n",
       " '_feat_ASA_P',\n",
       " '_feat_Accsitecount',\n",
       " '_feat_Aliphatic AtomCount',\n",
       " '_feat_AliphaticRingCount',\n",
       " '_feat_AromaticAtomCount',\n",
       " '_feat_AromaticRingCount',\n",
       " '_feat_AtomCount_C',\n",
       " '_feat_AtomCount_N',\n",
       " '_feat_AvgPol',\n",
       " '_feat_BalabanIndex',\n",
       " '_feat_BondCount',\n",
       " '_feat_CarboRingCount',\n",
       " '_feat_CarboaliphaticRingCount',\n",
       " '_feat_CarboaromaticRingCount',\n",
       " '_feat_ChainAtomCount',\n",
       " '_feat_ChiralCenterCount',\n",
       " '_feat_CyclomaticNumber',\n",
       " '_feat_Hacceptorcount',\n",
       " '_feat_Hdonorcount',\n",
       " '_feat_HeteroaliphaticRingCount',\n",
       " '_feat_HeteroaromaticRing Count',\n",
       " '_feat_HyperWienerIndex',\n",
       " '_feat_LargestRingSize',\n",
       " '_feat_LengthPerpendicularToTheMaxArea',\n",
       " '_feat_LengthPerpendicularToTheMinArea',\n",
       " '_feat_MaximalProjectionArea',\n",
       " '_feat_MaximalProjectionRadius',\n",
       " '_feat_MinimalProjectionArea',\n",
       " '_feat_MinimalProjectionRadius',\n",
       " '_feat_MolPol',\n",
       " '_feat_PolarSurfaceArea',\n",
       " '_feat_ProtPolarSurfaceArea',\n",
       " '_feat_Protpsa',\n",
       " '_feat_Refractivity',\n",
       " '_feat_RingAtomCount',\n",
       " '_feat_RotatableBondCount',\n",
       " '_feat_SmallestRingSize',\n",
       " '_feat_VanderWaalsSurfaceArea',\n",
       " '_feat_VanderWaalsVolume',\n",
       " '_feat_WienerIndex',\n",
       " '_feat_WienerPolarity',\n",
       " '_feat_acceptorcount',\n",
       " '_feat_donorcount',\n",
       " '_feat_donsitecount',\n",
       " '_feat_fr_ArN',\n",
       " '_feat_fr_Ar_NH',\n",
       " '_feat_fr_Imine',\n",
       " '_feat_fr_NH0',\n",
       " '_feat_fr_NH1',\n",
       " '_feat_fr_NH2',\n",
       " '_feat_fr_amidine',\n",
       " '_feat_fr_dihydropyridine',\n",
       " '_feat_fr_guanido',\n",
       " '_feat_fr_piperdine',\n",
       " '_feat_fr_piperzine',\n",
       " '_feat_fr_pyridine',\n",
       " '_feat_fr_quatN',\n",
       " '_feat_maximalprojectionsize',\n",
       " '_feat_minimalprojectionsize',\n",
       " '_feat_molsurfaceareaASAp',\n",
       " '_feat_molsurfaceareaVDWp',\n",
       " '_feat_msareaASAp',\n",
       " '_feat_msareaVDWp',\n",
       " '_out_crystalscore',\n",
       " '_rxn_M_acid',\n",
       " '_rxn_M_inorganic',\n",
       " '_rxn_M_organic',\n",
       " '_rxn_organic-inchikey',\n",
       " 'solvent']"
      ]
     },
     "execution_count": 19,
     "metadata": {},
     "output_type": "execute_result"
    }
   ],
   "source": [
    "cols = df.columns.to_list()\n",
    "cols.sort()\n",
    "cols"
   ]
  },
  {
   "cell_type": "code",
   "execution_count": 18,
   "metadata": {},
   "outputs": [
    {
     "data": {
      "text/plain": [
       "(8056, 81)"
      ]
     },
     "execution_count": 18,
     "metadata": {},
     "output_type": "execute_result"
    }
   ],
   "source": [
    "df.shape"
   ]
  },
  {
   "cell_type": "markdown",
   "metadata": {},
   "source": [
    "## Numerical data: distribution"
   ]
  },
  {
   "cell_type": "markdown",
   "metadata": {},
   "source": [
    "### Reaction features"
   ]
  },
  {
   "cell_type": "code",
   "execution_count": null,
   "metadata": {},
   "outputs": [],
   "source": [
    "cols = list(columns['_rxn_'])"
   ]
  },
  {
   "cell_type": "code",
   "execution_count": null,
   "metadata": {},
   "outputs": [],
   "source": [
    "cols"
   ]
  },
  {
   "cell_type": "code",
   "execution_count": 20,
   "metadata": {},
   "outputs": [],
   "source": [
    "cols_name_map = {\n",
    "    '_rxn_M_inorganic': \"reactivo inorgánico\",\n",
    "    '_rxn_M_organic': \"reactivo orgánico\",\n",
    "    '_rxn_M_acid': \"ácido\",\n",
    "    }"
   ]
  },
  {
   "cell_type": "code",
   "execution_count": 58,
   "metadata": {},
   "outputs": [],
   "source": [
    "bright = plot_utils.tol_cset(\"bright\")\n",
    "bright_reorderd = [bright.blue, bright.purple, bright.cyan]"
   ]
  },
  {
   "cell_type": "code",
   "execution_count": 59,
   "metadata": {},
   "outputs": [
    {
     "data": {
      "text/plain": [
       "Bcset(blue='#4477AA', cyan='#66CCEE', green='#228833', yellow='#CCBB44', red='#EE6677', purple='#AA3377', grey='#BBBBBB', black='#000000')"
      ]
     },
     "execution_count": 59,
     "metadata": {},
     "output_type": "execute_result"
    }
   ],
   "source": [
    "bright"
   ]
  },
  {
   "cell_type": "code",
   "execution_count": 181,
   "metadata": {},
   "outputs": [
    {
     "data": {
      "text/plain": [
       "24.75515967847056"
      ]
     },
     "execution_count": 181,
     "metadata": {},
     "output_type": "execute_result"
    }
   ],
   "source": [
    "df[\"_rxn_M_acid\"].max()"
   ]
  },
  {
   "cell_type": "code",
   "execution_count": 180,
   "metadata": {},
   "outputs": [
    {
     "data": {
      "text/plain": [
       "{'_rxn_M_inorganic': 'reactivo inorgánico',\n",
       " '_rxn_M_organic': 'reactivo orgánico',\n",
       " '_rxn_M_acid': 'ácido'}"
      ]
     },
     "execution_count": 180,
     "metadata": {},
     "output_type": "execute_result"
    }
   ],
   "source": [
    "cols_name_map"
   ]
  },
  {
   "cell_type": "code",
   "execution_count": 212,
   "metadata": {},
   "outputs": [
    {
     "data": {
      "image/png": "[encoded data removed]",
      "text/plain": [
       "<Figure size 432x180 with 3 Axes>"
      ]
     },
     "metadata": {
      "needs_background": "light"
     },
     "output_type": "display_data"
    }
   ],
   "source": [
    "#sns.set_palette(sns.color_palette(\"Paired\"))\n",
    "#sns.set_context(\"paper\")\n",
    "\n",
    "plot_title = \"figures/dist_reactivos\"\n",
    "with plt.style.context(['science', 'bright']):\n",
    "    #sns.set_palette(sns.color_palette(color_bright))\n",
    " \n",
    "    palette = itertools.cycle(bright_reorderd)\n",
    "    fig, axes = plt.subplots(1, 3, sharey=True, sharex=False, figsize=(6,2.5),\n",
    "                             constrained_layout = True)\n",
    "    \n",
    "    #fig.suptitle('Distribución de Reactivos')\n",
    "\n",
    "    for index, col_name in enumerate(cols_name_map.keys()):\n",
    "        color = next(palette)\n",
    "        sns.histplot(data=df, x=col_name, ax=axes[index], common_norm=True, stat=\"count\", color=color, bins=15)\n",
    "        axes[index].set_title(cols_name_map[col_name], fontdict={\"size\": 13})\n",
    "        axes[index].set_xlabel(None)\n",
    "        axes[index].set_ylabel(\"Cantidad\", fontdict={\"size\": 13})\n",
    "        axes[index].set_xticks(np.round(np.linspace(0, df[col_name].max(), num=4), 1))\n",
    "        axes[index].set(adjustable='box')\n",
    "        fmt = '{x:,.0f}'\n",
    "        tick = mtick.StrMethodFormatter(fmt)\n",
    "        axes[index].yaxis.set_major_formatter(tick)\n",
    "        axes[index].tick_params(which=\"both\", left=True, bottom=False, top=False, right=False)\n",
    "        sns.despine(bottom = False, left = False, trim=False)\n",
    "    \n",
    "\n",
    "    fig.supxlabel('Concentración (M)', fontdict={\"size\":12})\n",
    "    #sns.color_palette()\n",
    "    #fig.supylabel('Cantidad')\n",
    "    fig.savefig(plot_title+'.pdf', dpi=300)\n",
    "    #fig.show()\n",
    "    #plt.subplot_tool()"
   ]
  },
  {
   "cell_type": "code",
   "execution_count": 177,
   "metadata": {},
   "outputs": [
    {
     "data": {
      "text/plain": [
       "array([0. , 1.8, 3.5, 5.2, 7. ])"
      ]
     },
     "execution_count": 177,
     "metadata": {},
     "output_type": "execute_result"
    }
   ],
   "source": [
    "np.round(np.linspace(0, 7, num=5), 1)"
   ]
  },
  {
   "cell_type": "code",
   "execution_count": null,
   "metadata": {},
   "outputs": [],
   "source": []
  },
  {
   "cell_type": "code",
   "execution_count": null,
   "metadata": {},
   "outputs": [],
   "source": [
    "%matplotlib inline\n",
    "sns.choose_colorbrewer_palette(\"q\")"
   ]
  },
  {
   "cell_type": "code",
   "execution_count": null,
   "metadata": {},
   "outputs": [],
   "source": [
    "#sns.set_palette(sns.color_palette(\"Paired\"))\n",
    "#sns.set_context(\"paper\")\n",
    "\n",
    "plot_ttle = \"figures/dist_reactivos\"\n",
    "with plt.style.context(['science', 'light']):\n",
    "    light = sns.color_palette()\n",
    "    #fig.supylabel('Cantidad')\n",
    "    #fig.savefig(plot_ttle+'.pdf', dpi=300)\n",
    "    #fig.show()\n",
    "    #plt.subplot_tool()"
   ]
  },
  {
   "cell_type": "code",
   "execution_count": null,
   "metadata": {},
   "outputs": [],
   "source": [
    "bright"
   ]
  },
  {
   "cell_type": "code",
   "execution_count": null,
   "metadata": {},
   "outputs": [],
   "source": [
    "std"
   ]
  },
  {
   "cell_type": "code",
   "execution_count": null,
   "metadata": {},
   "outputs": [],
   "source": [
    "vibrant"
   ]
  },
  {
   "cell_type": "code",
   "execution_count": null,
   "metadata": {},
   "outputs": [],
   "source": [
    "high_vis"
   ]
  },
  {
   "cell_type": "code",
   "execution_count": null,
   "metadata": {},
   "outputs": [],
   "source": [
    "high_contrast"
   ]
  },
  {
   "cell_type": "code",
   "execution_count": null,
   "metadata": {},
   "outputs": [],
   "source": [
    "muted"
   ]
  },
  {
   "cell_type": "code",
   "execution_count": null,
   "metadata": {},
   "outputs": [],
   "source": [
    "light"
   ]
  },
  {
   "cell_type": "code",
   "execution_count": null,
   "metadata": {},
   "outputs": [],
   "source": [
    "retro"
   ]
  },
  {
   "cell_type": "markdown",
   "metadata": {},
   "source": [
    "Interactive plot"
   ]
  },
  {
   "cell_type": "markdown",
   "metadata": {},
   "source": [
    "fig = make_subplots(rows=len(cols), cols=1, subplot_titles=cols)\n",
    "\n",
    "for index, col in enumerate(cols):\n",
    "    plot = go.Histogram(y=df[col])\n",
    "    fig.append_trace(plot, row=index+1, col=1)\n",
    "\n",
    "fig.update_layout(height=1800, width=600, title_text=\"Histograma: condiciones de reacción\", showlegend=False)\n",
    "fig.update_layout(title={\n",
    "                'x':0.6,\n",
    "                'xanchor': 'center',\n",
    "                'yanchor': 'top'})"
   ]
  },
  {
   "cell_type": "markdown",
   "metadata": {},
   "source": [
    "## Crystal score"
   ]
  },
  {
   "cell_type": "code",
   "execution_count": 74,
   "metadata": {},
   "outputs": [],
   "source": [
    "sns.set_context(\"notebook\")\n",
    "\n",
    "plot_title = \"figures/dist_cristal.pdf\"\n",
    "\n",
    "map_crystal = {1:'Sin cristal', 2:'Polvo',3:'Pequeños cristales', 4:'Monocristales'} "
   ]
  },
  {
   "cell_type": "code",
   "execution_count": 75,
   "metadata": {},
   "outputs": [],
   "source": [
    "light = plot_utils.tol_cset(\"light\")\n",
    "light_reorderd = [light.mint, light.light_blue, light.light_cyan, light.orange]"
   ]
  },
  {
   "cell_type": "code",
   "execution_count": 76,
   "metadata": {},
   "outputs": [],
   "source": [
    "map_color_crystal = {'Sin cristal':light.mint,'Polvo':light.light_blue,'Pequeños cristales':light.light_cyan, 'Monocristales':light.orange} "
   ]
  },
  {
   "cell_type": "code",
   "execution_count": 210,
   "metadata": {},
   "outputs": [
    {
     "data": {
      "image/png": "[encoded data removed]",
      "text/plain": [
       "<Figure size 432x252 with 1 Axes>"
      ]
     },
     "metadata": {
      "needs_background": "light"
     },
     "output_type": "display_data"
    }
   ],
   "source": [
    "#plt.figure(figsize=(10, 7))\n",
    "\n",
    "df['crystal_score_quality'] = df['_out_crystalscore'].map(map_crystal)\n",
    "plot_title = \"figures/total_data_by_cristal_score.pdf\"\n",
    "with plt.style.context(['science', 'light']):\n",
    "    sns.set_palette(sns.color_palette(light_reorderd))\n",
    "    \n",
    "    fig, axes = plt.subplots(1, 1, sharey=True, sharex=False, figsize=(6,3.5),\n",
    "                                 constrained_layout = True)\n",
    "    ax = sns.countplot(x=\"crystal_score_quality\", data=df,\n",
    "                      order=[\"Sin cristal\", \"Polvo\", \"Pequeños cristales\", \"Monocristales\"])\n",
    "    #ax.set_title(\"Distribución Calidad de Cristal\")\n",
    "    \n",
    "    # Add comma\n",
    "    fmt = '{x:,.0f}'\n",
    "    tick = mtick.StrMethodFormatter(fmt)\n",
    "    ax.yaxis.set_major_formatter(tick) \n",
    "    \n",
    "    # Add porcentage\n",
    "    total = len(df)\n",
    "    for p in ax.patches:\n",
    "        percentage = f'{100 * p.get_height() / total:.1f}\\%\\n'\n",
    "        width = p.get_width()\n",
    "        new_width = width * 0.7\n",
    "        p.set_width(new_width)\n",
    "        x = p.get_x()\n",
    "        p.set_x(x + (width - new_width) / 2)\n",
    "    \n",
    "        x = p.get_x() + p.get_width() / 2\n",
    "        y = p.get_height()\n",
    "        ax.annotate(percentage, (x, y), ha='center', va='center')\n",
    "\n",
    "    # Remove box lines\n",
    "    sns.despine(bottom = True, left = False, trim=False)\n",
    "    ax.tick_params(which=\"both\", left=False, bottom=False, top=False, right=False)\n",
    "    #ax.xticks(fontdict={'fontsize':15})\n",
    "    #ax.tick_params(axis='both', which='both')\n",
    "    ax.set_xlabel(\"Calidad de cristal\", fontdict={'fontsize':15})\n",
    "    ax.set_ylabel(\"Cantidad\", fontdict={'fontsize':15})\n",
    "    #plt.xticks()\n",
    "    plt.xticks(fontsize=13, rotation=0)\n",
    "    plt.yticks(fontsize=13, rotation=0)\n",
    "    plt.ylim(0,5000)\n",
    "    #ax.set(adjustable='box')\n",
    "    fig.savefig(plot_title, dpi=300)"
   ]
  },
  {
   "cell_type": "markdown",
   "metadata": {},
   "source": [
    "### Based on organic compound: inchikeys"
   ]
  },
  {
   "cell_type": "code",
   "execution_count": null,
   "metadata": {},
   "outputs": [],
   "source": [
    "chemical_names = utils.read_chemical_info()"
   ]
  },
  {
   "cell_type": "code",
   "execution_count": null,
   "metadata": {},
   "outputs": [],
   "source": [
    "chemical_names.shape"
   ]
  },
  {
   "cell_type": "code",
   "execution_count": null,
   "metadata": {},
   "outputs": [],
   "source": [
    "df.columns"
   ]
  },
  {
   "cell_type": "code",
   "execution_count": null,
   "metadata": {},
   "outputs": [],
   "source": [
    "#chemical_names[['Chemical Abbreviation', 'InChI Key (ID)']].dropna()\n",
    "#df = df.set_index('_rxn_organic-inchikey').join(chemical_names.set_index('InChI Key (ID)'), how='inner').reset_index().rename({'index': '_rxn_organic-inchikey'}, axis='columns')\n"
   ]
  },
  {
   "cell_type": "code",
   "execution_count": 116,
   "metadata": {},
   "outputs": [
    {
     "data": {
      "text/plain": [
       "Index(['_rxn_organic-inchikey', '_feat_WienerPolarity', '_feat_BondCount',\n",
       "       '_feat_fr_NH0', '_feat_Refractivity', '_feat_LargestRingSize',\n",
       "       '_feat_fr_ArN', '_feat_HeteroaliphaticRingCount', '_feat_fr_quatN',\n",
       "       '_feat_msareaVDWp', '_feat_AromaticAtomCount', '_feat_AtomCount_C',\n",
       "       '_feat_fr_amidine', '_feat_CyclomaticNumber',\n",
       "       '_feat_LengthPerpendicularToTheMinArea', '_feat_fr_guanido',\n",
       "       '_feat_donorcount', '_feat_molsurfaceareaVDWp', '_feat_fr_NH2',\n",
       "       '_feat_minimalprojectionsize', '_feat_AtomCount_N',\n",
       "       '_feat_ChiralCenterCount', '_feat_WienerIndex', '_feat_AvgPol',\n",
       "       '_feat_donsitecount', '_feat_Hacceptorcount', '_feat_ASA-',\n",
       "       '_feat_ProtPolarSurfaceArea', '_feat_fr_Ar_NH',\n",
       "       '_feat_HeteroaromaticRing Count', '_feat_Accsitecount',\n",
       "       '_feat_acceptorcount', '_feat_ASA', '_feat_CarboaromaticRingCount',\n",
       "       '_feat_BalabanIndex', '_feat_SmallestRingSize', '_feat_RingAtomCount',\n",
       "       '_feat_msareaASAp', '_feat_PolarSurfaceArea',\n",
       "       '_feat_MinimalProjectionArea', '_feat_MaximalProjectionArea',\n",
       "       '_feat_CarboRingCount', '_feat_CarboaliphaticRingCount',\n",
       "       '_feat_VanderWaalsSurfaceArea', '_feat_ASA_H', '_feat_ASA+',\n",
       "       '_feat_fr_piperdine', '_feat_Aliphatic AtomCount',\n",
       "       '_feat_AliphaticRingCount', '_feat_AromaticRingCount',\n",
       "       '_feat_LengthPerpendicularToTheMaxArea', '_feat_HyperWienerIndex',\n",
       "       '_feat_MolPol', '_feat_fr_Imine', '_feat_fr_dihydropyridine',\n",
       "       '_feat_fr_piperzine', '_feat_RotatableBondCount',\n",
       "       '_feat_maximalprojectionsize', '_feat_ChainAtomCount',\n",
       "       '_feat_MinimalProjectionRadius', '_feat_VanderWaalsVolume',\n",
       "       '_feat_molsurfaceareaASAp', '_feat_ASA_P', '_feat_Protpsa',\n",
       "       '_feat_fr_NH1', '_feat_MaximalProjectionRadius', '_feat_Hdonorcount',\n",
       "       '_feat_fr_pyridine', '_rxn_M_inorganic', '_rxn_M_organic',\n",
       "       '_rxn_M_acid', '_out_crystalscore', 'solvent', 'Chemical Name',\n",
       "       'Chemical Abbreviation', 'Molecular Weight (g/mol)',\n",
       "       'Density            (g/mL)', 'InChI=', 'Chemical Category',\n",
       "       'Canonical SMILES String', 'Molecular Formula', 'crystal_score_quality',\n",
       "       'no_crystal'],\n",
       "      dtype='object')"
      ]
     },
     "execution_count": 116,
     "metadata": {},
     "output_type": "execute_result"
    }
   ],
   "source": [
    "df.columns"
   ]
  },
  {
   "cell_type": "code",
   "execution_count": 118,
   "metadata": {},
   "outputs": [
    {
     "data": {
      "image/png": "[encoded data removed]",
      "text/plain": [
       "<Figure size 504x360 with 1 Axes>"
      ]
     },
     "metadata": {
      "needs_background": "light"
     },
     "output_type": "display_data"
    }
   ],
   "source": [
    "#plt.figure(figsize=(10, 7))\n",
    "\n",
    "plot_title = \"figures/dist_all_amines_by_score.pdf\"\n",
    "\n",
    "with plt.style.context(['science', 'light']):\n",
    "    sns.set_palette(sns.color_palette(light_reorderd))\n",
    "    \n",
    "    fig, axes = plt.subplots(1, 1, sharey=True, sharex=False, figsize=(7,5),\n",
    "                                 constrained_layout = True)\n",
    "    ax = sns.countplot(y=\"Chemical Abbreviation\", data=df, orient='h',\n",
    "                      order = df[\"Chemical Abbreviation\"].value_counts().index, hue=TARGET_COL)\n",
    "    #ax.set_title(\"Distribución Calidad de Cristal\")\n",
    "    \n",
    "    # Add comma\n",
    "    fmt = '{x:,.0f}'\n",
    "    tick = mtick.StrMethodFormatter(fmt)\n",
    "    ax.xaxis.set_major_formatter(tick) \n",
    "    \n",
    "    # Remove box lines\n",
    "    sns.despine(bottom = False, left = False, trim=False)\n",
    "    ax.tick_params(which=\"both\", left=False, bottom=True, top=False, right=False)\n",
    "    \n",
    "    #ax.tick_params(axis='both', which='both')\n",
    "    ax.set_xlabel(\"Cantidad\")\n",
    "    ax.set_ylabel(\"Organoamina\")\n",
    "    #plt.xticks()\n",
    "    #ax.set(adjustable='box')\n",
    "    fig.savefig(plot_title, dpi=300)"
   ]
  },
  {
   "cell_type": "code",
   "execution_count": 79,
   "metadata": {},
   "outputs": [],
   "source": [
    "df['no_crystal'] = np.where(df['crystal_score_quality']==\"Monocristales\", 'Cristaliza', 'No cristaliza')"
   ]
  },
  {
   "cell_type": "code",
   "execution_count": 80,
   "metadata": {},
   "outputs": [
    {
     "data": {
      "text/plain": [
       "No cristaliza    6527\n",
       "Cristaliza       1529\n",
       "Name: no_crystal, dtype: int64"
      ]
     },
     "execution_count": 80,
     "metadata": {},
     "output_type": "execute_result"
    }
   ],
   "source": [
    "df[\"no_crystal\"].value_counts()"
   ]
  },
  {
   "cell_type": "markdown",
   "metadata": {},
   "source": [
    "Important amines (good distribution)"
   ]
  },
  {
   "cell_type": "code",
   "execution_count": 81,
   "metadata": {},
   "outputs": [],
   "source": [
    "amines_selected = [\"EtNH3I\",\"AcNH3I\",\"GnNH3I\"] "
   ]
  },
  {
   "cell_type": "code",
   "execution_count": 109,
   "metadata": {},
   "outputs": [],
   "source": [
    "df_example = df[df[\"Chemical Abbreviation\"].isin(amines_selected)]\n",
    "\n",
    "crystal_values = list(map_crystal.values())\n",
    "\n",
    "amines_counts_by_crystal = df_example.groupby([\"Chemical Abbreviation\", \"crystal_score_quality\"]).size().unstack(fill_value=0)\n",
    "#.reindex(crystal_values, fill_value=0)\n",
    "\n",
    "amines_no_crystal = dict(amines_counts_by_crystal.drop(\"Monocristales\", axis=1).sum(axis=1))\n",
    "amines_no_crystal"
   ]
  },
  {
   "cell_type": "code",
   "execution_count": 114,
   "metadata": {},
   "outputs": [
    {
     "data": {
      "image/png": "[encoded data removed]",
      "text/plain": [
       "<Figure size 504x360 with 1 Axes>"
      ]
     },
     "metadata": {
      "needs_background": "light"
     },
     "output_type": "display_data"
    }
   ],
   "source": [
    "plot_title = \"figures/dist_regular_amines_cristal.pdf\"\n",
    "\n",
    "with plt.style.context(['science', 'light']):\n",
    "    sns.set_palette(sns.color_palette(light_reorderd))\n",
    "    \n",
    "    fig, ax = plt.subplots(1, 1, sharey=True, sharex=True, figsize=(7,5),\n",
    "                                 constrained_layout = True)\n",
    "    amines_counts_by_crystal.iloc[:,:1].plot.bar(stacked=True, position=-0.1, width=.3, ax=ax, color=light.orange, label=\"Monocristales\")\n",
    "    amines_counts_by_crystal.iloc[:,1:].plot.bar(stacked=True, position=1.1, width=.3, ax=ax, color=map_color_crystal)\n",
    "    ax.set_xlim(-0.5, len(amines_counts_by_crystal)-0.5)\n",
    "\n",
    "    # Add comma\n",
    "    fmt = '{x:,.0f}'\n",
    "    tick = mtick.StrMethodFormatter(fmt)\n",
    "    ax.yaxis.set_major_formatter(tick) \n",
    "    \n",
    "    # Remove box lines\n",
    "    sns.despine(bottom = True, left = False, trim=False)\n",
    "    ax.tick_params(which=\"both\", left=True, bottom=False, top=False, right=False)\n",
    "    \n",
    "    #ax.tick_params(axis='both', which='both')\n",
    "    ax.set_ylabel(\"Cantidad\")\n",
    "    ax.set_xlabel(\"Organoamina\")\n",
    "    plt.xticks(rotation=0)\n",
    "    #ax.set(adjustable='box')\n",
    "    #fig.savefig(plot_title, dpi=300)\n",
    "    \n",
    "    locs, labels = plt.xticks() \n",
    "    # Add porcentage\n",
    "    for p, label in zip(ax.patches[0:3], labels):\n",
    "        amine_name = label.get_text()\n",
    "        total = len(df[df[\"Chemical Abbreviation\"] == amine_name])\n",
    "        percentage = f'{100 * (p.get_x() + p.get_height()) / total:.1f}\\%\\n'\n",
    "        x = p.get_x() + p.get_width() / 2\n",
    "        y = p.get_height()\n",
    "        ax.annotate(percentage, (x, y), ha='center', va='center')\n",
    "\n",
    "    for p, label in zip(ax.patches[9:12], labels):\n",
    "        amine_name = label.get_text()\n",
    "        total = len(df[df[\"Chemical Abbreviation\"] == amine_name])\n",
    "        percentage = f'{100 * amines_no_crystal[amine_name] / total:.1f}\\%\\n'\n",
    "        x = p.get_x() + p.get_width() / 2\n",
    "        y = p.get_y() + p.get_height()\n",
    "        ax.annotate(percentage, (x, y), ha='center', va='center')\n",
    "        \n",
    "    patches = []\n",
    "    for name, color in map_color_crystal.items():\n",
    "        patches.append(mpatches.Patch(facecolor=color, label=name))\n",
    "    axbox = ax.get_position()\n",
    "    \n",
    "    legend_2=plt.legend(handles=patches[:-1], loc=(axbox.x0+0.6,  axbox.y0 + 0.55),\n",
    "                        fontsize=12, title=\"No cristaliza\")\n",
    "    legend_2._legend_box.align = \"left\"\n",
    "    legend_1=plt.legend(handles=[patches[-1]], loc=(axbox.x0+0.6, axbox.y0 + 0.8),\n",
    "                        fontsize=12, title=\"Cristaliza\")\n",
    "    legend_1._legend_box.align = \"left\"\n",
    "    # as soon as a second legend is made, the first disappears and needs to be added back again\n",
    "    fig.add_artist(legend_2) \n",
    "    fig.savefig(plot_title, dpi=300)\n",
    "#python now knows that \"figure\" must take the \"legend_1\" along with \"legend_2\"\n",
    "    #                    loc=1, fontsize='small', fancybox=False, ncol=2)\n",
    "    \n",
    "#ax = sns.countplot(y=\"Chemical Abbreviation\", hue=\"no_crystal\", data=df_example)  handles,labels"
   ]
  },
  {
   "cell_type": "markdown",
   "metadata": {},
   "source": [
    "Other special amines"
   ]
  },
  {
   "cell_type": "code",
   "execution_count": 122,
   "metadata": {},
   "outputs": [],
   "source": [
    "particular_amines = [\"EthylenediamineDihydriodide\",\n",
    "                    \"CyclohexylmethylammoniumIodide\",\n",
    "                     \"CyclohexylammoniumIodide\",\n",
    "                     \"iButylammoniumIodide\"\n",
    "                    ]"
   ]
  },
  {
   "cell_type": "code",
   "execution_count": 123,
   "metadata": {},
   "outputs": [
    {
     "data": {
      "text/plain": [
       "{'CyclohexylammoniumIodide': 86,\n",
       " 'CyclohexylmethylammoniumIodide': 37,\n",
       " 'EthylenediamineDihydriodide': 11,\n",
       " 'iButylammoniumIodide': 133}"
      ]
     },
     "execution_count": 123,
     "metadata": {},
     "output_type": "execute_result"
    }
   ],
   "source": [
    "df_example = df[df[\"Chemical Abbreviation\"].isin(particular_amines)]\n",
    "\n",
    "crystal_values = list(map_crystal.values())\n",
    "\n",
    "amines_counts_by_crystal = df_example.groupby([\"Chemical Abbreviation\", \"crystal_score_quality\"]).size().unstack(fill_value=0)\n",
    "#.reindex(crystal_values, fill_value=0)\n",
    "\n",
    "amines_no_crystal = dict(amines_counts_by_crystal.drop(\"Monocristales\", axis=1).sum(axis=1))\n",
    "amines_no_crystal"
   ]
  },
  {
   "cell_type": "code",
   "execution_count": 124,
   "metadata": {},
   "outputs": [
    {
     "data": {
      "text/html": [
       "<div>\n",
       "<style scoped>\n",
       "    .dataframe tbody tr th:only-of-type {\n",
       "        vertical-align: middle;\n",
       "    }\n",
       "\n",
       "    .dataframe tbody tr th {\n",
       "        vertical-align: top;\n",
       "    }\n",
       "\n",
       "    .dataframe thead th {\n",
       "        text-align: right;\n",
       "    }\n",
       "</style>\n",
       "<table border=\"1\" class=\"dataframe\">\n",
       "  <thead>\n",
       "    <tr style=\"text-align: right;\">\n",
       "      <th>crystal_score_quality</th>\n",
       "      <th>Monocristales</th>\n",
       "      <th>Pequeños cristales</th>\n",
       "      <th>Polvo</th>\n",
       "      <th>Sin cristal</th>\n",
       "    </tr>\n",
       "    <tr>\n",
       "      <th>Chemical Abbreviation</th>\n",
       "      <th></th>\n",
       "      <th></th>\n",
       "      <th></th>\n",
       "      <th></th>\n",
       "    </tr>\n",
       "  </thead>\n",
       "  <tbody>\n",
       "    <tr>\n",
       "      <th>CyclohexylammoniumIodide</th>\n",
       "      <td>10</td>\n",
       "      <td>11</td>\n",
       "      <td>1</td>\n",
       "      <td>74</td>\n",
       "    </tr>\n",
       "    <tr>\n",
       "      <th>CyclohexylmethylammoniumIodide</th>\n",
       "      <td>59</td>\n",
       "      <td>0</td>\n",
       "      <td>6</td>\n",
       "      <td>31</td>\n",
       "    </tr>\n",
       "    <tr>\n",
       "      <th>EthylenediamineDihydriodide</th>\n",
       "      <td>29</td>\n",
       "      <td>0</td>\n",
       "      <td>3</td>\n",
       "      <td>8</td>\n",
       "    </tr>\n",
       "    <tr>\n",
       "      <th>iButylammoniumIodide</th>\n",
       "      <td>157</td>\n",
       "      <td>0</td>\n",
       "      <td>5</td>\n",
       "      <td>128</td>\n",
       "    </tr>\n",
       "  </tbody>\n",
       "</table>\n",
       "</div>"
      ],
      "text/plain": [
       "crystal_score_quality           Monocristales  Pequeños cristales  Polvo  \\\n",
       "Chemical Abbreviation                                                      \n",
       "CyclohexylammoniumIodide                   10                  11      1   \n",
       "CyclohexylmethylammoniumIodide             59                   0      6   \n",
       "EthylenediamineDihydriodide                29                   0      3   \n",
       "iButylammoniumIodide                      157                   0      5   \n",
       "\n",
       "crystal_score_quality           Sin cristal  \n",
       "Chemical Abbreviation                        \n",
       "CyclohexylammoniumIodide                 74  \n",
       "CyclohexylmethylammoniumIodide           31  \n",
       "EthylenediamineDihydriodide               8  \n",
       "iButylammoniumIodide                    128  "
      ]
     },
     "execution_count": 124,
     "metadata": {},
     "output_type": "execute_result"
    }
   ],
   "source": [
    "amines_counts_by_crystal"
   ]
  },
  {
   "cell_type": "code",
   "execution_count": null,
   "metadata": {},
   "outputs": [],
   "source": []
  },
  {
   "cell_type": "code",
   "execution_count": 128,
   "metadata": {},
   "outputs": [
    {
     "data": {
      "text/plain": [
       "{'CyclohexylammoniumIodide': 86,\n",
       " 'CyclohexylmethylammoniumIodide': 37,\n",
       " 'EthylenediamineDihydriodide': 11,\n",
       " 'iButylammoniumIodide': 133}"
      ]
     },
     "execution_count": 128,
     "metadata": {},
     "output_type": "execute_result"
    }
   ],
   "source": [
    "amines_no_crystal"
   ]
  },
  {
   "cell_type": "code",
   "execution_count": 137,
   "metadata": {},
   "outputs": [
    {
     "data": {
      "image/png": "[encoded data removed]",
      "text/plain": [
       "<Figure size 504x360 with 1 Axes>"
      ]
     },
     "metadata": {
      "needs_background": "light"
     },
     "output_type": "display_data"
    }
   ],
   "source": [
    "plot_title = \"figures/dist_irregular_amines_cristal.pdf\"\n",
    "\n",
    "with plt.style.context(['science', 'light']):\n",
    "    sns.set_palette(sns.color_palette(light_reorderd))\n",
    "    \n",
    "    fig, ax = plt.subplots(1, 1, sharey=True, sharex=True, figsize=(7,5),\n",
    "                                 constrained_layout = True)\n",
    "    amines_counts_by_crystal.iloc[:,:1].plot.bar(stacked=True, position=-0.1, width=.3, ax=ax, color=light.orange, label=\"Monocristales\")\n",
    "    amines_counts_by_crystal.iloc[:,1:].plot.bar(stacked=True, position=1.1, width=.3, ax=ax, color=map_color_crystal)\n",
    "    ax.set_xlim(-0.5, len(amines_counts_by_crystal)-0.5)\n",
    "\n",
    "    # Add comma\n",
    "    fmt = '{x:,.0f}'\n",
    "    tick = mtick.StrMethodFormatter(fmt)\n",
    "    ax.yaxis.set_major_formatter(tick) \n",
    "    \n",
    "    # Remove box lines\n",
    "    sns.despine(bottom = True, left = False, trim=False)\n",
    "    ax.tick_params(which=\"both\", left=True, bottom=False, top=False, right=False)\n",
    "    \n",
    "    #ax.tick_params(axis='both', which='both')\n",
    "    ax.set_ylabel(\"Cantidad\")\n",
    "    ax.set_xlabel(\"Organoamina\")\n",
    "    plt.xticks(rotation=0)\n",
    "    #ax.set(adjustable='box')\n",
    "    #fig.savefig(plot_title, dpi=300)\n",
    "    \n",
    "    locs, labels = plt.xticks() \n",
    "    # Add porcentage\n",
    "    for p, label in zip(ax.patches[0:4], labels):\n",
    "        amine_name = label.get_text()\n",
    "        total = len(df[df[\"Chemical Abbreviation\"] == amine_name])\n",
    "        percentage = f'{100 * (p.get_x() + p.get_height()) / total:.1f}\\%\\n'\n",
    "        x = p.get_x() + p.get_width() / 2\n",
    "        y = p.get_height()\n",
    "        ax.annotate(percentage, (x, y), ha='center', va='center')\n",
    "\n",
    "    for p, label in zip(ax.patches[12:16], labels):\n",
    "        amine_name = label.get_text()\n",
    "        total = len(df[df[\"Chemical Abbreviation\"] == amine_name])\n",
    "        percentage = f'{100 * amines_no_crystal[amine_name] / total:.1f}\\%\\n'\n",
    "        x = p.get_x() + p.get_width() / 2\n",
    "        y = p.get_y() + p.get_height()\n",
    "        ax.annotate(percentage, (x, y), ha='center', va='center')\n",
    "        \n",
    "    patches = []\n",
    "    for name, color in map_color_crystal.items():\n",
    "        patches.append(mpatches.Patch(facecolor=color, label=name))\n",
    "    axbox = ax.get_position()\n",
    "    \n",
    "    legend_2=plt.legend(handles=patches[:-1], loc=(axbox.x0-0.1,  axbox.y0 + 0.55),\n",
    "                        fontsize=12, title=\"No cristaliza\")\n",
    "    legend_2._legend_box.align = \"left\"\n",
    "    legend_1=plt.legend(handles=[patches[-1]], loc=(axbox.x0-0.1, axbox.y0 + 0.8),\n",
    "                        fontsize=12, title=\"Cristaliza\")\n",
    "    legend_1._legend_box.align = \"left\"\n",
    "    # as soon as a second legend is made, the first disappears and needs to be added back again\n",
    "    fig.add_artist(legend_2) \n",
    "    \n",
    "    ax.set_xticklabels(['A','B','C','D'])\n",
    "    fig.savefig(plot_title, dpi=300)\n",
    "#python now knows that \"figure\" must take the \"legend_1\" along with \"legend_2\"\n",
    "    #                    loc=1, fontsize='small', fancybox=False, ncol=2)\n",
    "    \n",
    "#ax = sns.countplot(y=\"Chemical Abbreviation\", hue=\"no_crystal\", data=df_example)  handles,labels"
   ]
  },
  {
   "cell_type": "code",
   "execution_count": 91,
   "metadata": {},
   "outputs": [
    {
     "data": {
      "image/png": "[encoded data removed]",
      "text/plain": [
       "<Figure size 504x360 with 1 Axes>"
      ]
     },
     "metadata": {
      "needs_background": "light"
     },
     "output_type": "display_data"
    }
   ],
   "source": [
    "plot_title = \"figures/dist_amines.pdf\"\n",
    "\n",
    "with plt.style.context(['science', 'light']):\n",
    "    sns.set_palette(sns.color_palette(light_reorderd))\n",
    "    \n",
    "    fig, axes = plt.subplots(1, 1, sharey=True, sharex=False, figsize=(7,5),\n",
    "                                 constrained_layout = True)\n",
    "    ax = sns.countplot(y=\"Chemical Abbreviation\", data=df_example, orient='h',\n",
    "                      order = df_example[\"Chemical Abbreviation\"].value_counts().index,\n",
    "                       hue = \"no_crystal\"\n",
    "                      )\n",
    "    #ax.set_title(\"Distribución Calidad de Cristal\")\n",
    "    \n",
    "    # Add comma\n",
    "    fmt = '{x:,.0f}'\n",
    "    tick = mtick.StrMethodFormatter(fmt)\n",
    "    ax.xaxis.set_major_formatter(tick) \n",
    "    \n",
    "    # Remove box lines\n",
    "    sns.despine(bottom = False, left = False, trim=False)\n",
    "    ax.tick_params(which=\"both\", left=False, bottom=True, top=False, right=False)\n",
    "    \n",
    "    #ax.tick_params(axis='both', which='both')\n",
    "    ax.set_xlabel(\"Cantidad\")\n",
    "    ax.set_ylabel(\"Organoamina\")\n",
    "    #plt.xticks()\n",
    "    #ax.set(adjustable='box')\n",
    "    #fig.savefig(plot_title, dpi=300)\n",
    "    \n",
    "#ax = sns.countplot(y=\"Chemical Abbreviation\", hue=\"no_crystal\", data=df_example)"
   ]
  },
  {
   "cell_type": "code",
   "execution_count": null,
   "metadata": {},
   "outputs": [],
   "source": [
    "df_groupedby_inchi = df.groupby(by=['Chemical Abbreviation', '_out_crystalscore'])\n",
    "ax = df_groupedby_inchi.size().unstack().plot.barh(stacked=True, figsize=(10,15), label='Crystal Score')\n",
    "\n",
    "ax.set_xlabel('Cantidad de filas')\n",
    "ax.legend(title='Crystal score')\n",
    "#plot(kind='bar', ylabel='Cantidad de filas', xlabel='Reactivo', fontsize=9, figsize=(20,7))"
   ]
  },
  {
   "cell_type": "code",
   "execution_count": null,
   "metadata": {},
   "outputs": [],
   "source": [
    "df_groupedby_inchi.count().head()"
   ]
  },
  {
   "cell_type": "code",
   "execution_count": null,
   "metadata": {},
   "outputs": [],
   "source": [
    "group_count = df_groupedby_inchi.count()"
   ]
  },
  {
   "cell_type": "markdown",
   "metadata": {},
   "source": [
    "Analize if we take only a sample of EtNH3I"
   ]
  },
  {
   "cell_type": "code",
   "execution_count": null,
   "metadata": {},
   "outputs": [],
   "source": [
    "chemical_names.loc[chemical_names['Chemical Abbreviation'] == 'EtNH3I']['InChI Key (ID)']\n"
   ]
  },
  {
   "cell_type": "code",
   "execution_count": null,
   "metadata": {},
   "outputs": [],
   "source": [
    "len(df)"
   ]
  },
  {
   "cell_type": "code",
   "execution_count": null,
   "metadata": {},
   "outputs": [],
   "source": [
    "filtered_df = df.drop(df.loc[df['_rxn_organic-inchikey'] == 'XFYICZOIWSBQSK-UHFFFAOYSA-N'].index)"
   ]
  },
  {
   "cell_type": "code",
   "execution_count": null,
   "metadata": {},
   "outputs": [],
   "source": [
    "len(filtered_df)"
   ]
  },
  {
   "cell_type": "code",
   "execution_count": null,
   "metadata": {},
   "outputs": [],
   "source": [
    "def plot(dfs, cols):\n",
    "    fig = make_subplots(rows=len(cols), cols=1, subplot_titles=cols)\n",
    "\n",
    "    for index, col in enumerate(cols):\n",
    "        plot = go.Histogram(y=dfs[col])\n",
    "        fig.append_trace(plot, row=index+1, col=1)\n",
    "\n",
    "    fig.update_layout(height=1800, width=600, title_text=\"Histograma: condiciones de reacción\", showlegend=False)\n",
    "    fig.update_layout(title={\n",
    "                    'x':0.6,\n",
    "                    'xanchor': 'center',\n",
    "                    'yanchor': 'top'})\n",
    "    fig.show()"
   ]
  },
  {
   "cell_type": "code",
   "execution_count": null,
   "metadata": {},
   "outputs": [],
   "source": [
    "plot(filtered_df, cols)"
   ]
  },
  {
   "cell_type": "code",
   "execution_count": null,
   "metadata": {},
   "outputs": [],
   "source": [
    "df_groupedby_inchi = filtered_dfb.groupby(by=['Chemical Abbreviation', '_out_crystalscore'])\n",
    "ax = df_groupedby_inchi.size().unstack().plot.barh(stacked=True, figsize=(10,15), label='Crystal Score')\n",
    "\n",
    "ax.set_xlabel('Cantidad de experimentos')\n",
    "ax.legend(title='Crystal score')\n",
    "#plot(kind='bar', ylabel='Cantidad de filas', xlabel='Reactivo', fontsize=9, figsize=(20,7))"
   ]
  },
  {
   "cell_type": "code",
   "execution_count": null,
   "metadata": {},
   "outputs": [],
   "source": [
    "crystal_score = filtered_df['_out_crystalscore'].astype(int)\n",
    "selected_data = data_utils.filter_required_data(filtered_df, \"solUD-feat\")"
   ]
  },
  {
   "cell_type": "code",
   "execution_count": null,
   "metadata": {},
   "outputs": [],
   "source": []
  }
 ],
 "metadata": {
  "interpreter": {
   "hash": "d07da0965434c7b5286d6cc9b9463c44a85c1c514696f673aad9eb5034120dfe"
  },
  "kernelspec": {
   "display_name": "thesis-repo",
   "language": "python",
   "name": "thesis-repo"
  },
  "language_info": {
   "codemirror_mode": {
    "name": "ipython",
    "version": 3
   },
   "file_extension": ".py",
   "mimetype": "text/x-python",
   "name": "python",
   "nbconvert_exporter": "python",
   "pygments_lexer": "ipython3",
   "version": "3.7.4"
  }
 },
 "nbformat": 4,
 "nbformat_minor": 4
}
