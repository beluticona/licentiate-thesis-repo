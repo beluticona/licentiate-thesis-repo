{
 "cells": [
  {
   "cell_type": "code",
   "execution_count": 487,
   "id": "6339f4cf-4993-4315-868e-658ba2599251",
   "metadata": {},
   "outputs": [],
   "source": [
    "import numpy as np\n",
    "import pandas as pd\n",
    "import matplotlib.pyplot as plt\n",
    "import seaborn as sns\n",
    "plt.style.reload_library()\n",
    "from  matplotlib.ticker import FuncFormatter\n",
    "import itertools\n",
    "from src.config import chemical_inventory_path, raw_data_path\n",
    "from src.data import notebook_utils as utils\n",
    "from src.constants import GBL_INCHI_KEY, DMSO_INCHI_KEY, DMF_INCHI_KEY, \\\n",
    "                        INCHI_TO_CHEMNAME, TARGET_COL, RXN_FEAT_NAME, ORGANOAMONIUM_INCHI_KEY_COL\n",
    "from src import plot_utils\n",
    "# Import CMasher to register colormaps\n",
    "import cmasher as cmr"
   ]
  },
  {
   "cell_type": "code",
   "execution_count": 2,
   "id": "904c715b-8f98-4d51-bf80-1b3f7f1d72ed",
   "metadata": {},
   "outputs": [
    {
     "name": "stdout",
     "output_type": "stream",
     "text": [
      "/home/belu/VS Workplace/licentiate-thesis-repo\n"
     ]
    }
   ],
   "source": [
    "%cd ../.."
   ]
  },
  {
   "cell_type": "code",
   "execution_count": 488,
   "id": "836f99fb-da5e-4265-81dd-eee2e305da9f",
   "metadata": {},
   "outputs": [
    {
     "name": "stderr",
     "output_type": "stream",
     "text": [
      "/home/belu/.local/share/virtualenvs/licentiate-thesis-repo-cz9ujhZI/lib/python3.7/site-packages/pandas/core/indexing.py:1773: SettingWithCopyWarning: \n",
      "A value is trying to be set on a copy of a slice from a DataFrame.\n",
      "Try using .loc[row_indexer,col_indexer] = value instead\n",
      "\n",
      "See the caveats in the documentation: https://pandas.pydata.org/pandas-docs/stable/user_guide/indexing.html#returning-a-view-versus-a-copy\n",
      "  self._setitem_single_column(ilocs[0], value, pi)\n"
     ]
    }
   ],
   "source": [
    "df = utils.read_data(raw_data_path, organic_key=True, solvent=None)"
   ]
  },
  {
   "cell_type": "markdown",
   "id": "c1720e9e-0675-4521-b054-13d7b5867502",
   "metadata": {
    "tags": []
   },
   "source": [
    "## Amines Pre-processing"
   ]
  },
  {
   "cell_type": "markdown",
   "id": "00fbe0ff-84f9-4e20-8249-fc73f0002792",
   "metadata": {
    "tags": []
   },
   "source": [
    "### Filter unknown features"
   ]
  },
  {
   "cell_type": "code",
   "execution_count": 489,
   "id": "16fd447d-d1e4-4626-893f-fc6c5ab9e368",
   "metadata": {},
   "outputs": [],
   "source": [
    "unknown_cols = [\"_feat_ProtPolarSurfaceArea\", \"_feat_Protpsa\",\n",
    "                \"_feat_molsurfaceareaASAp\", \"_feat_molsurfaceareaVDWp\",\n",
    "                \"_feat_msareaASAp\", \"_feat_msareaVDWp\"]\n",
    "\n",
    "feats = utils.chem_feats()\n",
    "\n",
    "selected_FQ = [feat for feat in [ORGANOAMONIUM_INCHI_KEY_COL]+feats if feat not in unknown_cols]\n",
    "\n",
    "amines_feats = df[selected_FQ].drop_duplicates()\n",
    "\n",
    "#amines_feats = amines_feats.drop(ORGANOAMONIUM_INCHI_KEY_COL, axis=1)\n",
    "\n",
    "amines_feats = amines_feats.set_index(ORGANOAMONIUM_INCHI_KEY_COL)"
   ]
  },
  {
   "cell_type": "markdown",
   "id": "5b1e730a-922f-48ff-8d12-986fc6637c0f",
   "metadata": {},
   "source": [
    "Clean up features names"
   ]
  },
  {
   "cell_type": "code",
   "execution_count": 490,
   "id": "31d2cbcc-65ef-4d03-b336-4c274b402812",
   "metadata": {},
   "outputs": [],
   "source": [
    "feats = list(amines_feats.columns)\n",
    "\n",
    "amines_names = [name[6:] for name in feats]\n",
    "\n",
    "amines_names = [name.replace(\"_\", \" \") for name in amines_names]\n",
    "\n",
    "amines_names = [name[:name.find(\" \")] + name[name.find(\" \")+1].upper() + name[name.find(\" \")+2:]\n",
    "               if (\" \" in name) else name for name in amines_names]\n",
    "\n",
    "amines_names = [name.strip(' ') for name in amines_names]"
   ]
  },
  {
   "cell_type": "code",
   "execution_count": 494,
   "id": "d35de657-37ed-42a0-a744-5322346503ae",
   "metadata": {},
   "outputs": [],
   "source": [
    "map_chem_feat = dict(zip(amines_feats.columns, amines_names))"
   ]
  },
  {
   "cell_type": "code",
   "execution_count": 496,
   "id": "cdd6bb91-3fbb-4da5-a919-05cd4b14a77d",
   "metadata": {},
   "outputs": [],
   "source": [
    "import json\n",
    "\n",
    "with open('data/metadata/map_chem_feat_names.json', 'w') as fp:\n",
    "    #json.dump(map_chem_feat, fp)"
   ]
  },
  {
   "cell_type": "code",
   "execution_count": 439,
   "id": "615daf4f-3d6b-4463-8815-0bb19b15c8c3",
   "metadata": {},
   "outputs": [],
   "source": [
    "amines_feats.columns = amines_names"
   ]
  },
  {
   "cell_type": "code",
   "execution_count": 440,
   "id": "c724c8a9-5a11-40c0-9bcc-893403f3aaa4",
   "metadata": {},
   "outputs": [],
   "source": [
    "#amines_feats.to_csv(\"data/metadata/amines_chem_info_preprocesed.csv\")"
   ]
  },
  {
   "cell_type": "markdown",
   "id": "8ab33279-22b0-49df-9e57-5efbc685e4e1",
   "metadata": {
    "tags": []
   },
   "source": [
    "### Summary Amines Table"
   ]
  },
  {
   "cell_type": "code",
   "execution_count": 441,
   "id": "07d86035-5152-478a-9798-76107a56a3f3",
   "metadata": {},
   "outputs": [],
   "source": [
    "summary = round(amines_feats.describe().T.drop(\"count\", axis=1), 2)"
   ]
  },
  {
   "cell_type": "code",
   "execution_count": 442,
   "id": "b1ca683c-ca45-4003-875b-b9f142f2a73c",
   "metadata": {},
   "outputs": [],
   "source": [
    "summary = summary.reset_index().rename(columns={\"index\": \"Feature\"})"
   ]
  },
  {
   "cell_type": "code",
   "execution_count": 422,
   "id": "24bc6f60-7983-4075-849e-c538bc826e7f",
   "metadata": {},
   "outputs": [],
   "source": [
    "summary[\"Nombre\"] = amines_names"
   ]
  },
  {
   "cell_type": "code",
   "execution_count": 443,
   "id": "8cf80eb5-25a9-4f82-8f88-069cc2196cfe",
   "metadata": {},
   "outputs": [
    {
     "data": {
      "text/html": [
       "<div>\n",
       "<style scoped>\n",
       "    .dataframe tbody tr th:only-of-type {\n",
       "        vertical-align: middle;\n",
       "    }\n",
       "\n",
       "    .dataframe tbody tr th {\n",
       "        vertical-align: top;\n",
       "    }\n",
       "\n",
       "    .dataframe thead th {\n",
       "        text-align: right;\n",
       "    }\n",
       "</style>\n",
       "<table border=\"1\" class=\"dataframe\">\n",
       "  <thead>\n",
       "    <tr style=\"text-align: right;\">\n",
       "      <th></th>\n",
       "      <th>Feature</th>\n",
       "      <th>mean</th>\n",
       "      <th>std</th>\n",
       "      <th>min</th>\n",
       "      <th>25%</th>\n",
       "      <th>50%</th>\n",
       "      <th>75%</th>\n",
       "      <th>max</th>\n",
       "    </tr>\n",
       "  </thead>\n",
       "  <tbody>\n",
       "    <tr>\n",
       "      <th>0</th>\n",
       "      <td>WienerPolarity</td>\n",
       "      <td>4.19</td>\n",
       "      <td>3.79</td>\n",
       "      <td>0.00</td>\n",
       "      <td>1.00</td>\n",
       "      <td>3.00</td>\n",
       "      <td>7.00</td>\n",
       "      <td>15.00</td>\n",
       "    </tr>\n",
       "    <tr>\n",
       "      <th>1</th>\n",
       "      <td>BondCount</td>\n",
       "      <td>17.72</td>\n",
       "      <td>6.33</td>\n",
       "      <td>7.00</td>\n",
       "      <td>14.00</td>\n",
       "      <td>18.00</td>\n",
       "      <td>21.00</td>\n",
       "      <td>40.00</td>\n",
       "    </tr>\n",
       "    <tr>\n",
       "      <th>2</th>\n",
       "      <td>frNH0</td>\n",
       "      <td>0.02</td>\n",
       "      <td>0.15</td>\n",
       "      <td>0.00</td>\n",
       "      <td>0.00</td>\n",
       "      <td>0.00</td>\n",
       "      <td>0.00</td>\n",
       "      <td>1.00</td>\n",
       "    </tr>\n",
       "    <tr>\n",
       "      <th>3</th>\n",
       "      <td>Refractivity</td>\n",
       "      <td>41.92</td>\n",
       "      <td>11.17</td>\n",
       "      <td>21.21</td>\n",
       "      <td>34.41</td>\n",
       "      <td>41.21</td>\n",
       "      <td>50.10</td>\n",
       "      <td>71.89</td>\n",
       "    </tr>\n",
       "    <tr>\n",
       "      <th>4</th>\n",
       "      <td>LargestRingSize</td>\n",
       "      <td>2.44</td>\n",
       "      <td>2.92</td>\n",
       "      <td>0.00</td>\n",
       "      <td>0.00</td>\n",
       "      <td>0.00</td>\n",
       "      <td>6.00</td>\n",
       "      <td>6.00</td>\n",
       "    </tr>\n",
       "    <tr>\n",
       "      <th>...</th>\n",
       "      <td>...</td>\n",
       "      <td>...</td>\n",
       "      <td>...</td>\n",
       "      <td>...</td>\n",
       "      <td>...</td>\n",
       "      <td>...</td>\n",
       "      <td>...</td>\n",
       "      <td>...</td>\n",
       "    </tr>\n",
       "    <tr>\n",
       "      <th>56</th>\n",
       "      <td>ASAP</td>\n",
       "      <td>62.10</td>\n",
       "      <td>34.58</td>\n",
       "      <td>13.65</td>\n",
       "      <td>41.63</td>\n",
       "      <td>50.92</td>\n",
       "      <td>79.62</td>\n",
       "      <td>155.76</td>\n",
       "    </tr>\n",
       "    <tr>\n",
       "      <th>57</th>\n",
       "      <td>frNH1</td>\n",
       "      <td>0.14</td>\n",
       "      <td>0.35</td>\n",
       "      <td>0.00</td>\n",
       "      <td>0.00</td>\n",
       "      <td>0.00</td>\n",
       "      <td>0.00</td>\n",
       "      <td>1.00</td>\n",
       "    </tr>\n",
       "    <tr>\n",
       "      <th>58</th>\n",
       "      <td>MaximalProjectionRadius</td>\n",
       "      <td>4.44</td>\n",
       "      <td>1.21</td>\n",
       "      <td>2.67</td>\n",
       "      <td>3.63</td>\n",
       "      <td>4.49</td>\n",
       "      <td>4.97</td>\n",
       "      <td>9.65</td>\n",
       "    </tr>\n",
       "    <tr>\n",
       "      <th>59</th>\n",
       "      <td>Hdonorcount</td>\n",
       "      <td>1.30</td>\n",
       "      <td>0.51</td>\n",
       "      <td>1.00</td>\n",
       "      <td>1.00</td>\n",
       "      <td>1.00</td>\n",
       "      <td>2.00</td>\n",
       "      <td>3.00</td>\n",
       "    </tr>\n",
       "    <tr>\n",
       "      <th>60</th>\n",
       "      <td>frPyridine</td>\n",
       "      <td>0.02</td>\n",
       "      <td>0.15</td>\n",
       "      <td>0.00</td>\n",
       "      <td>0.00</td>\n",
       "      <td>0.00</td>\n",
       "      <td>0.00</td>\n",
       "      <td>1.00</td>\n",
       "    </tr>\n",
       "  </tbody>\n",
       "</table>\n",
       "<p>61 rows × 8 columns</p>\n",
       "</div>"
      ],
      "text/plain": [
       "                    Feature   mean    std    min    25%    50%    75%     max\n",
       "0            WienerPolarity   4.19   3.79   0.00   1.00   3.00   7.00   15.00\n",
       "1                 BondCount  17.72   6.33   7.00  14.00  18.00  21.00   40.00\n",
       "2                     frNH0   0.02   0.15   0.00   0.00   0.00   0.00    1.00\n",
       "3              Refractivity  41.92  11.17  21.21  34.41  41.21  50.10   71.89\n",
       "4           LargestRingSize   2.44   2.92   0.00   0.00   0.00   6.00    6.00\n",
       "..                      ...    ...    ...    ...    ...    ...    ...     ...\n",
       "56                     ASAP  62.10  34.58  13.65  41.63  50.92  79.62  155.76\n",
       "57                    frNH1   0.14   0.35   0.00   0.00   0.00   0.00    1.00\n",
       "58  MaximalProjectionRadius   4.44   1.21   2.67   3.63   4.49   4.97    9.65\n",
       "59              Hdonorcount   1.30   0.51   1.00   1.00   1.00   2.00    3.00\n",
       "60               frPyridine   0.02   0.15   0.00   0.00   0.00   0.00    1.00\n",
       "\n",
       "[61 rows x 8 columns]"
      ]
     },
     "execution_count": 443,
     "metadata": {},
     "output_type": "execute_result"
    }
   ],
   "source": [
    "summary"
   ]
  },
  {
   "cell_type": "code",
   "execution_count": 460,
   "id": "d09a107a-4c38-4527-b87a-29e3b77e9f19",
   "metadata": {},
   "outputs": [],
   "source": [
    "df_amines_names = pd.read_csv(\"data/metadata/describe_feat_fq_description.csv\")"
   ]
  },
  {
   "cell_type": "code",
   "execution_count": 461,
   "id": "50f0a784-595f-471d-b4e0-2af45ed38d59",
   "metadata": {},
   "outputs": [],
   "source": [
    "feats = list(df_amines_names.Feature)\n",
    "\n",
    "amines_names = [name[6:] for name in feats]\n",
    "\n",
    "amines_names = [name.replace(\"_\", \" \") for name in amines_names]\n",
    "\n",
    "amines_names = [name[:name.find(\" \")] + name[name.find(\" \")+1].upper() + name[name.find(\" \")+2:]\n",
    "               if (\" \" in name) else name for name in amines_names]\n",
    "\n",
    "amines_names = [name.strip(' ') for name in amines_names]"
   ]
  },
  {
   "cell_type": "code",
   "execution_count": 462,
   "id": "e8b51f8d-439b-4cbb-8091-25fd98070553",
   "metadata": {},
   "outputs": [],
   "source": [
    "df_amines_names[\"Name\"] = amines_names"
   ]
  },
  {
   "cell_type": "code",
   "execution_count": 464,
   "id": "9e81a71d-163e-4e35-b764-1872e121a39e",
   "metadata": {},
   "outputs": [],
   "source": [
    "df_amines_names.iloc[:,[9,1,2,3,4,5,6,7,8]].to_csv(\"data/metadata/FQ_features_summary_table.csv\", index=None)"
   ]
  },
  {
   "cell_type": "markdown",
   "id": "1a230102-35da-467b-b56c-df1ac6ca8684",
   "metadata": {
    "jp-MarkdownHeadingCollapsed": true,
    "tags": []
   },
   "source": [
    "### FQ chem features"
   ]
  },
  {
   "cell_type": "code",
   "execution_count": null,
   "id": "a853fb8d-aebf-4a6c-9fa1-80c06f2852e5",
   "metadata": {},
   "outputs": [],
   "source": [
    "df_amines_names = \"data/FQ_amines_name.csv\"\n",
    "df_amines_features = \"data/FQ_amines_feature.csv\""
   ]
  },
  {
   "cell_type": "code",
   "execution_count": null,
   "id": "96e88730-09e3-4a13-a473-8846346543d6",
   "metadata": {},
   "outputs": [],
   "source": [
    "df_amines_features = amines_feats[feat_list]"
   ]
  },
  {
   "cell_type": "code",
   "execution_count": null,
   "id": "975f5dac-9464-428f-a6ce-6705b9e8a6f5",
   "metadata": {},
   "outputs": [],
   "source": [
    "df_amines_features.to_csv(df_amines_features, index=None)"
   ]
  },
  {
   "cell_type": "code",
   "execution_count": null,
   "id": "4226eff3-f8ca-4a60-937d-39c601f275b6",
   "metadata": {},
   "outputs": [],
   "source": [
    "df_amines_features.columns = names_fq_list"
   ]
  },
  {
   "cell_type": "code",
   "execution_count": null,
   "id": "c9990742-9ed6-46ad-b914-e0e9f44cfe8d",
   "metadata": {},
   "outputs": [],
   "source": [
    "df_amines_features.to_csv(df_amines_names, index=None)"
   ]
  },
  {
   "cell_type": "code",
   "execution_count": null,
   "id": "58da111e-6b71-4fc5-a432-9c85b6bc82d9",
   "metadata": {},
   "outputs": [],
   "source": [
    "df_amines_features.to_csv(\"data/feat_amines_names.csv\", index=None)"
   ]
  },
  {
   "cell_type": "markdown",
   "id": "e48aeb5b-a672-4ba2-bbe6-274b6fb8b018",
   "metadata": {
    "tags": []
   },
   "source": [
    "## EDA: amines FQ descriptors"
   ]
  },
  {
   "cell_type": "markdown",
   "id": "06960a0f-1c6b-4af0-b0d6-364cca431191",
   "metadata": {
    "tags": []
   },
   "source": [
    "### Split by type of variables"
   ]
  },
  {
   "cell_type": "code",
   "execution_count": 12,
   "id": "3781d939-77d0-4436-ab87-6a81afac37e7",
   "metadata": {},
   "outputs": [],
   "source": [
    "df_amines_names = \"data/FQ_amines_name.csv\"\n",
    "df_amines_features = \"data/FQ_amines_feature.csv\""
   ]
  },
  {
   "cell_type": "code",
   "execution_count": 13,
   "id": "2902e581-73b3-4193-96a7-729be6de379a",
   "metadata": {},
   "outputs": [],
   "source": [
    "df = pd.read_csv(df_amines_names)"
   ]
  },
  {
   "cell_type": "code",
   "execution_count": 14,
   "id": "9ecc548e-dd82-41d3-b924-e668cd990e05",
   "metadata": {},
   "outputs": [
    {
     "data": {
      "text/plain": [
       "(43, 61)"
      ]
     },
     "execution_count": 14,
     "metadata": {},
     "output_type": "execute_result"
    }
   ],
   "source": [
    "df.shape"
   ]
  },
  {
   "cell_type": "markdown",
   "id": "d2e64719-cba2-4111-be9d-5951d0488d8f",
   "metadata": {},
   "source": [
    "Filter constant amines"
   ]
  },
  {
   "cell_type": "code",
   "execution_count": 15,
   "id": "8c0f227d-322b-440e-961a-6590d7395c6e",
   "metadata": {},
   "outputs": [],
   "source": [
    "df = df.loc[:, (df != df.iloc[0]).any()]"
   ]
  },
  {
   "cell_type": "code",
   "execution_count": 600,
   "id": "7999db99-0937-4783-901f-55219be355d3",
   "metadata": {},
   "outputs": [],
   "source": [
    "unique_values = df.select_dtypes(include=\"number\").nunique().sort_values()\n",
    "\n",
    "unique_values = unique_values.to_frame(\"count\").reset_index().rename(columns = {'index':'propiedad'})\n",
    "\n",
    "plot_title = \"figures/propiedades_valores_unicos.pdf\""
   ]
  },
  {
   "cell_type": "code",
   "execution_count": 601,
   "id": "bb800db2-0da6-473b-b55f-ac5594ed1b94",
   "metadata": {},
   "outputs": [],
   "source": [
    "unique_values['type_var'] = pd.cut(unique_values['count'],\n",
    "                              bins=[0, 2, 14, 50],\n",
    "                              labels=[\"binaria\", \"ordinal\", \"continua\"])"
   ]
  },
  {
   "cell_type": "code",
   "execution_count": 602,
   "id": "ba560cf2-0e99-4ba7-8557-310611e3feef",
   "metadata": {},
   "outputs": [],
   "source": [
    "unique_values['range_unique_values'] = pd.cut(unique_values['count'],\n",
    "                              bins=[1, 2, 14, 50])"
   ]
  },
  {
   "cell_type": "code",
   "execution_count": 603,
   "id": "f916a816-86f3-4131-b37d-46f109c2ef66",
   "metadata": {},
   "outputs": [
    {
     "data": {
      "text/plain": [
       "(57, 4)"
      ]
     },
     "execution_count": 603,
     "metadata": {},
     "output_type": "execute_result"
    }
   ],
   "source": [
    "unique_values.shape"
   ]
  },
  {
   "cell_type": "code",
   "execution_count": 604,
   "id": "6bdea19d-1fb1-4ed6-9914-d0367b049f9d",
   "metadata": {},
   "outputs": [],
   "source": [
    "outlier_value_index = unique_values[unique_values.propiedad == \"PolarSurfaceArea\"].index[0]\n",
    "unique_values.at[outlier_value_index, \"type_var\"] = \"continua\""
   ]
  },
  {
   "cell_type": "code",
   "execution_count": 605,
   "id": "4838577a-825d-49b7-a487-f11fca3ee488",
   "metadata": {},
   "outputs": [
    {
     "data": {
      "text/html": [
       "<div>\n",
       "<style scoped>\n",
       "    .dataframe tbody tr th:only-of-type {\n",
       "        vertical-align: middle;\n",
       "    }\n",
       "\n",
       "    .dataframe tbody tr th {\n",
       "        vertical-align: top;\n",
       "    }\n",
       "\n",
       "    .dataframe thead th {\n",
       "        text-align: right;\n",
       "    }\n",
       "</style>\n",
       "<table border=\"1\" class=\"dataframe\">\n",
       "  <thead>\n",
       "    <tr style=\"text-align: right;\">\n",
       "      <th></th>\n",
       "      <th>propiedad</th>\n",
       "      <th>count</th>\n",
       "      <th>type_var</th>\n",
       "      <th>range_unique_values</th>\n",
       "    </tr>\n",
       "  </thead>\n",
       "  <tbody>\n",
       "    <tr>\n",
       "      <th>32</th>\n",
       "      <td>PolarSurfaceArea</td>\n",
       "      <td>11</td>\n",
       "      <td>continua</td>\n",
       "      <td>(2, 14]</td>\n",
       "    </tr>\n",
       "  </tbody>\n",
       "</table>\n",
       "</div>"
      ],
      "text/plain": [
       "           propiedad  count  type_var range_unique_values\n",
       "32  PolarSurfaceArea     11  continua             (2, 14]"
      ]
     },
     "execution_count": 605,
     "metadata": {},
     "output_type": "execute_result"
    }
   ],
   "source": [
    "unique_values[unique_values.propiedad == \"PolarSurfaceArea\"]"
   ]
  },
  {
   "cell_type": "code",
   "execution_count": 606,
   "id": "948b18a6-3780-4470-b264-55e91e523e90",
   "metadata": {},
   "outputs": [],
   "source": [
    "df_type_var = unique_values.groupby(\"type_var\").aggregate({\"type_var\":'first',\n",
    "                                                           \"range_unique_values\": 'last',\n",
    "                                                           \"propiedad\": 'count'})"
   ]
  },
  {
   "cell_type": "code",
   "execution_count": 607,
   "id": "6ca87602-c577-46c1-a432-d0f3f14a0903",
   "metadata": {},
   "outputs": [
    {
     "data": {
      "text/html": [
       "<div>\n",
       "<style scoped>\n",
       "    .dataframe tbody tr th:only-of-type {\n",
       "        vertical-align: middle;\n",
       "    }\n",
       "\n",
       "    .dataframe tbody tr th {\n",
       "        vertical-align: top;\n",
       "    }\n",
       "\n",
       "    .dataframe thead th {\n",
       "        text-align: right;\n",
       "    }\n",
       "</style>\n",
       "<table border=\"1\" class=\"dataframe\">\n",
       "  <thead>\n",
       "    <tr style=\"text-align: right;\">\n",
       "      <th></th>\n",
       "      <th>type_var</th>\n",
       "      <th>range_unique_values</th>\n",
       "      <th>propiedad</th>\n",
       "    </tr>\n",
       "    <tr>\n",
       "      <th>type_var</th>\n",
       "      <th></th>\n",
       "      <th></th>\n",
       "      <th></th>\n",
       "    </tr>\n",
       "  </thead>\n",
       "  <tbody>\n",
       "    <tr>\n",
       "      <th>binaria</th>\n",
       "      <td>binaria</td>\n",
       "      <td>(1, 2]</td>\n",
       "      <td>17</td>\n",
       "    </tr>\n",
       "    <tr>\n",
       "      <th>ordinal</th>\n",
       "      <td>ordinal</td>\n",
       "      <td>(2, 14]</td>\n",
       "      <td>18</td>\n",
       "    </tr>\n",
       "    <tr>\n",
       "      <th>continua</th>\n",
       "      <td>continua</td>\n",
       "      <td>(14, 50]</td>\n",
       "      <td>22</td>\n",
       "    </tr>\n",
       "  </tbody>\n",
       "</table>\n",
       "</div>"
      ],
      "text/plain": [
       "          type_var range_unique_values  propiedad\n",
       "type_var                                         \n",
       "binaria    binaria              (1, 2]         17\n",
       "ordinal    ordinal             (2, 14]         18\n",
       "continua  continua            (14, 50]         22"
      ]
     },
     "execution_count": 607,
     "metadata": {},
     "output_type": "execute_result"
    }
   ],
   "source": [
    "df_type_var"
   ]
  },
  {
   "cell_type": "code",
   "execution_count": null,
   "id": "8b613496-92e9-4ba4-b0dd-9923f7418ead",
   "metadata": {},
   "outputs": [],
   "source": []
  },
  {
   "cell_type": "code",
   "execution_count": 610,
   "id": "de0277f7-4f03-49ce-9807-45ded5577f65",
   "metadata": {},
   "outputs": [
    {
     "data": {
      "image/png": "[encoded data removed]",
      "text/plain": [
       "<Figure size 288x216 with 1 Axes>"
      ]
     },
     "metadata": {},
     "output_type": "display_data"
    }
   ],
   "source": [
    "plot_title = \"figures/propiedades_valores_unicos.pdf\"\n",
    "\n",
    "        \n",
    "with plt.style.context(['science', 'bright']):\n",
    "    #sns.set_palette(sns.color_palette(color_bright))\n",
    "    fig, axes = plt.subplots(1, 1, figsize=(4,3),\n",
    "                                 constrained_layout = True)\n",
    "    ax = sns.barplot(x=df_type_var.index, y=\"propiedad\", orient=\"v\", data=df_type_var,\n",
    "                     color=\"grey\", alpha=0.7)\n",
    "    #ax.set_title(\"Distribución Calidad de Cristal\")\n",
    "\n",
    "    # Remove box lines\n",
    "    sns.despine(bottom = True, left = False, trim=False)\n",
    "    ax.tick_params(which=\"both\", left=False, bottom=False, top=False, right=False)\n",
    "    #ax.xticks(fontdict={'fontsize':15})\n",
    "    #ax.tick_params(axis='both', which='both')\n",
    "    ax.set_ylabel(\"Cantidad de Propiedades FQs\", fontdict={'fontsize':12})\n",
    "    ax.set_xlabel(\"Tipo de Variable\", fontdict={'fontsize':13})\n",
    "    ax.yaxis.set_major_formatter(FuncFormatter(lambda x, _: int(x)))\n",
    "    #plt.xticks()\n",
    "    plt.xticks(fontsize=12, rotation=0)\n",
    "    plt.yticks(fontsize=12, rotation=0)\n",
    "    \n",
    "\n",
    "    for n, p in enumerate(ax.patches):\n",
    "        text = str(df_type_var.iloc[n,1])\n",
    "        width = p.get_width()\n",
    "        new_width = width * 0.65\n",
    "        p.set_width(new_width)\n",
    "        x = p.get_x()\n",
    "        p.set_x(x + (width - new_width) / 2)\n",
    "        x = p.get_x() + p.get_width() / 2\n",
    "        y = p.get_height() * 1.075\n",
    "#        ax.annotate(text, (x, y), ha='center', va='center', fontsize=12)\n",
    "\n",
    "    #plt.legend(title=\"Tipo de Variable\", fontsize=13)\n",
    "    plt.ylim(0,30)\n",
    "    fig.savefig(plot_title, dpi=300)\n",
    "    "
   ]
  },
  {
   "cell_type": "code",
   "execution_count": null,
   "id": "f7af0a3a-82b8-4ff9-9065-dc9954dfef1b",
   "metadata": {},
   "outputs": [],
   "source": [
    "unique_values.to_csv(\"data/metadata/type_var_fq_bins.csv\", index=None)"
   ]
  },
  {
   "cell_type": "code",
   "execution_count": 399,
   "id": "ae6c016e-be46-485c-8de4-a08d7ec5a7db",
   "metadata": {},
   "outputs": [],
   "source": [
    "unique_values = pd.read_csv(\"data/metadata/type_var_fq_bins.csv\")"
   ]
  },
  {
   "cell_type": "code",
   "execution_count": 409,
   "id": "66aeb2ee-66da-4bfa-9681-763a9bb573b0",
   "metadata": {},
   "outputs": [],
   "source": [
    "table_type_var = unique_values.groupby(\"type_var\").aggregate({\"type_var\":'first',\n",
    "                                                           \"range_unique_values\": 'last',\n",
    "                                                           \"propiedad\": 'count'})"
   ]
  },
  {
   "cell_type": "code",
   "execution_count": 414,
   "id": "02fcfa2a-dd77-4c21-b343-30e2e8a4595f",
   "metadata": {},
   "outputs": [],
   "source": [
    "table_type_var.iloc[[0,2,1],[0,2]].to_csv(\"data/metadata/bin_ord_cont_table.csv\", index=None)"
   ]
  },
  {
   "cell_type": "code",
   "execution_count": null,
   "id": "942a8a29-b799-4f3d-818a-846e7b7f3de4",
   "metadata": {},
   "outputs": [],
   "source": [
    "def plot_type_vars(df): \n",
    "    unique_values = df.select_dtypes(include=\"number\").nunique().sort_values()\n",
    "\n",
    "    unique_values = unique_values.to_frame(\"count\").reset_index().rename(columns = {'index':'propiedad'})\n",
    "\n",
    "    unique_values['type_var'] = pd.cut(unique_values['count'],\n",
    "                              bins=[0, 2, 11, 15, 50],\n",
    "                              labels=[\"binario\", \"ordinal\",\"precontinua\", \"continua\"])\n",
    "    \n",
    "    plot_title = \"figures/propiedades_valores_unicos.pdf\"\n",
    "    with plt.style.context(['science', 'bright']):\n",
    "        #sns.set_palette(sns.color_palette(color_bright))\n",
    "        fig, axes = plt.subplots(1, 1, figsize=(6,15),\n",
    "                                     constrained_layout = True)\n",
    "        ax = sns.barplot(x=\"count\", y=\"propiedad\", orient=\"h\", data=unique_values,\n",
    "                        hue=\"type_var\")\n",
    "        #ax.set_title(\"Distribución Calidad de Cristal\")\n",
    "\n",
    "        # Remove box lines\n",
    "        sns.despine(bottom = True, left = True, trim=False)\n",
    "        ax.tick_params(which=\"both\", left=False, bottom=False, top=False, right=False)\n",
    "        #ax.xticks(fontdict={'fontsize':15})\n",
    "        #ax.tick_params(axis='both', which='both')\n",
    "        ax.set_xlabel(\"Valores únicos por atributo\", fontdict={'fontsize':13})\n",
    "        ax.set_ylabel(\"Descriptores físico-químicos\", fontdict={'fontsize':13})\n",
    "        #plt.xticks()\n",
    "        plt.xticks(fontsize=10, rotation=0)\n",
    "        plt.yticks(fontsize=10, rotation=0)\n",
    "        plt.legend(title=\"Tipo de Variable\", fontsize=13)\n",
    "        #ax.set(adjustable='box')\n",
    "        #fig.savefig(plot_title, dpi=300)\n",
    "    "
   ]
  },
  {
   "cell_type": "markdown",
   "id": "50378a24-28ca-49c9-96d5-4da743acfe6d",
   "metadata": {
    "tags": []
   },
   "source": [
    "### Variables no binarias - correlación"
   ]
  },
  {
   "cell_type": "code",
   "execution_count": 477,
   "id": "71ba45b1-1b19-45ce-8347-0acefbcaa17c",
   "metadata": {},
   "outputs": [],
   "source": [
    "df_cont_col = pd.read_csv(\"data/metadata/type_var_fq_bins.csv\")\n",
    "cont_cols = df_cont_col[df_cont_col.type_var != \"binaria\"][\"propiedad\"]"
   ]
  },
  {
   "cell_type": "code",
   "execution_count": 478,
   "id": "0e68b8af-ff2e-4e01-8ad2-5d6a900e7df2",
   "metadata": {},
   "outputs": [],
   "source": [
    "df = pd.read_csv(\"data/feat_amines_names.csv\")[cont_cols]"
   ]
  },
  {
   "cell_type": "code",
   "execution_count": 479,
   "id": "627781c3-ddb3-4564-9c67-11c1ce422606",
   "metadata": {},
   "outputs": [
    {
     "data": {
      "text/plain": [
       "40"
      ]
     },
     "execution_count": 479,
     "metadata": {},
     "output_type": "execute_result"
    }
   ],
   "source": [
    "len(cont_cols)"
   ]
  },
  {
   "cell_type": "code",
   "execution_count": 480,
   "id": "8ba147dd-606e-4535-894a-f136f684d113",
   "metadata": {},
   "outputs": [],
   "source": [
    "df_cont_col = df_cont_col.rename(columns={\"type_var\": \"Tipo de Variable\"})\n",
    "\n",
    "labels = df_cont_col[df_cont_col[\"Tipo de Variable\"] != \"binaria\"][\"Tipo de Variable\"]\n",
    "\n",
    "muted = plot_utils.tol_cset(\"muted\")\n",
    "\n",
    "bright = plot_utils.tol_cset(\"bright\")\n",
    "\n",
    "light = plot_utils.tol_cset(\"light\")"
   ]
  },
  {
   "cell_type": "code",
   "execution_count": 481,
   "id": "c64384e9-7b78-484a-8342-1a4ead75f90a",
   "metadata": {},
   "outputs": [],
   "source": [
    "bright_reorderd = [light.pear, muted.rose]\n",
    "lut = dict(zip(labels.unique(), bright_reorderd))"
   ]
  },
  {
   "cell_type": "code",
   "execution_count": 482,
   "id": "3c1e341b-13b1-41ee-baba-d60b9f9764ab",
   "metadata": {},
   "outputs": [],
   "source": [
    "label_color = pd.Series(list(labels), index=df.columns, name=\"Tipo de Variable\").map(lut)"
   ]
  },
  {
   "cell_type": "code",
   "execution_count": 485,
   "id": "527fbf1c-f385-478c-9d99-9f9126c6fb41",
   "metadata": {},
   "outputs": [],
   "source": [
    "from matplotlib.patches import Patch\n",
    "#fig, ax = plt.subplots(1, 1, figsize=(6,15), constrained_layout = True)\n",
    "\n",
    "def plot_non_binary(cmap):\n",
    "\n",
    "    plot_title = \"figures/correlations_non_binary_sinlatex.pdf\"\n",
    "    #with plt.style.context(['science', 'bright']):\n",
    "\n",
    "\n",
    "    ax = sns.clustermap(df.corr(method=\"spearman\"), row_cluster=True, \n",
    "                        col_colors=label_color, cmap=cmap, \n",
    "                        row_colors=label_color, alpha=1,\n",
    "                        dendrogram_ratio=(.1, .2),\n",
    "                        cbar_pos=(.02, .4, .03, .2),\n",
    "                        linewidths=.7, figsize=(18, 15),\n",
    "                        cbar_kws={\"ticks\": list(np.arange(-1,1.1,0.2))},\n",
    "                        vmin=-1,\n",
    "                        vmax=1,\n",
    "                       )\n",
    "    handles = [Patch(facecolor=lut[name]) for name in lut]\n",
    "    plt.legend(handles, lut, title='',\n",
    "               bbox_to_anchor=(0.93, 0.9), bbox_transform=plt.gcf().transFigure,\n",
    "               facecolor='white', framealpha=1, frameon=True, fontsize=13,)\n",
    "\n",
    "    ax.ax_row_dendrogram.remove()\n",
    "    ax.ax_heatmap.set_xticklabels(ax.ax_heatmap.get_xmajorticklabels(), fontsize = 13)\n",
    "    ax.ax_heatmap.set_yticklabels(ax.ax_heatmap.get_ymajorticklabels(), fontsize = 13)\n",
    "    ax.ax_row_colors.set_xticklabels(labels=[\"Tipo de  Variable\"], fontdict={'fontsize':12,\n",
    "                                              'weight':'bold'})\n",
    "    ax.ax_col_colors.set_yticklabels(labels=[\"Tipo de  Variable\"], fontdict={'fontsize':12,\n",
    "                                              'weight':'bold'})\n",
    "    ax.ax_cbar.set_title(\"Correlación \\n de Spearman\", y=1.05, fontdict={'fontsize':12,\n",
    "                                                                        'weight':'bold'})\n",
    "    ax.ax_cbar.tick_params(labelsize=12, pad=10, length=4, grid_color='white', grid_linewidth=0.5, grid_alpha=1)\n",
    "    \n",
    "    #ax.ax_cbar  .dividers.set_color('white')\n",
    "    #ax.ax_cbar.dividers.set_linewidth(2)\n",
    "    #for spine in ax.ax_cbar.spines:\n",
    "     #   ax.ax_cbar.spines[spine].set_color('crimson')\n",
    "      #  ax.ax_cbar.spines[spine].set_linewidth(2)\n",
    "\n",
    "    for t in ax.ax_cbar.get_yticklabels():\n",
    "        t.set_horizontalalignment('right')   \n",
    "        t.set_x(1.6)\n",
    "    ax.fig.savefig(plot_title, dpi=300) "
   ]
  },
  {
   "cell_type": "code",
   "execution_count": null,
   "id": "95989f60-6c39-4eea-bfa4-1aaa574701ac",
   "metadata": {},
   "outputs": [
    {
     "data": {
      "image/png": "[encoded data removed]",
      "text/plain": [
       "<Figure size 1296x1080 with 5 Axes>"
      ]
     },
     "metadata": {
      "needs_background": "light"
     },
     "output_type": "display_data"
    }
   ],
   "source": [
    "ax = plot_non_binary(plt.get_cmap('PRGn', 10))"
   ]
  },
  {
   "cell_type": "markdown",
   "id": "4fa4bed1-41ec-4006-a996-774a3d69b26a",
   "metadata": {},
   "source": [
    "### Organoamines categories"
   ]
  },
  {
   "cell_type": "markdown",
   "id": "cc558ca6-e810-4e7d-91dd-8cabeed966a1",
   "metadata": {
    "tags": []
   },
   "source": [
    "#### Prejoined filtered feats and good names"
   ]
  },
  {
   "cell_type": "code",
   "execution_count": 86,
   "id": "1bbe9265-bb98-46ad-86e3-e060acc9474d",
   "metadata": {},
   "outputs": [],
   "source": [
    "df_feats = pd.read_csv(\"data/metadata/type_var_fq_bins.csv\")"
   ]
  },
  {
   "cell_type": "code",
   "execution_count": 87,
   "id": "6e114928-0e94-43da-91bc-f43397523fab",
   "metadata": {},
   "outputs": [
    {
     "name": "stderr",
     "output_type": "stream",
     "text": [
      "/home/belu/.local/share/virtualenvs/licentiate-thesis-repo-cz9ujhZI/lib/python3.7/site-packages/pandas/core/indexing.py:1773: SettingWithCopyWarning: \n",
      "A value is trying to be set on a copy of a slice from a DataFrame.\n",
      "Try using .loc[row_indexer,col_indexer] = value instead\n",
      "\n",
      "See the caveats in the documentation: https://pandas.pydata.org/pandas-docs/stable/user_guide/indexing.html#returning-a-view-versus-a-copy\n",
      "  self._setitem_single_column(ilocs[0], value, pi)\n"
     ]
    }
   ],
   "source": [
    "df_amines = utils.get_organoamines()"
   ]
  },
  {
   "cell_type": "code",
   "execution_count": 88,
   "id": "a5d82ad2-fa1c-4f6f-9b1e-82679c455d30",
   "metadata": {},
   "outputs": [],
   "source": [
    "df_amines_feats = pd.read_csv(\"data/metadata/amines_chem_info_preprocesed.csv\")[df_feats.propiedad.to_list() + [ORGANOAMONIUM_INCHI_KEY_COL]]"
   ]
  },
  {
   "cell_type": "code",
   "execution_count": 89,
   "id": "d144513d-da08-4c8e-92f3-0269eeb8fec4",
   "metadata": {},
   "outputs": [
    {
     "data": {
      "text/plain": [
       "(43, 58)"
      ]
     },
     "execution_count": 89,
     "metadata": {},
     "output_type": "execute_result"
    }
   ],
   "source": [
    "df_amines_feats.shape"
   ]
  },
  {
   "cell_type": "code",
   "execution_count": 90,
   "id": "c6a693b5-5f13-48f4-9816-620093ada781",
   "metadata": {},
   "outputs": [],
   "source": [
    "joined_amine_info = df_amines_feats.join(other=df_amines.set_index(ORGANOAMONIUM_INCHI_KEY_COL), on=ORGANOAMONIUM_INCHI_KEY_COL)"
   ]
  },
  {
   "cell_type": "code",
   "execution_count": 97,
   "id": "dc5de31b-47c9-48d2-9b72-e494f4e5e938",
   "metadata": {},
   "outputs": [],
   "source": [
    "joined_amine_info.to_csv(\"data/amines_cleaned_feats_plus_names.csv\", index=None)"
   ]
  },
  {
   "cell_type": "markdown",
   "id": "6f8dc526-49ce-42f0-aa3b-d759a8405ab0",
   "metadata": {
    "tags": []
   },
   "source": [
    "#### Plot categories"
   ]
  },
  {
   "cell_type": "code",
   "execution_count": 384,
   "id": "3efa0358-8f99-4d67-9d9f-0729e6f8fbd5",
   "metadata": {},
   "outputs": [],
   "source": [
    "df_amines = pd.read_csv(\"data/amines_cleaned_feats_plus_names.csv\")"
   ]
  },
  {
   "cell_type": "markdown",
   "id": "3ca91547-4aa9-4baf-b088-20c27bbc29f7",
   "metadata": {},
   "source": [
    "##### Tipo de amina"
   ]
  },
  {
   "cell_type": "code",
   "execution_count": 385,
   "id": "abd426a6-bbc1-44a6-8db2-b8085feafe80",
   "metadata": {},
   "outputs": [],
   "source": [
    "amines_type_cols = [name for name in df_amines.columns if name.startswith(('frNH', 'frQuatN', 'frAr NH')) ]"
   ]
  },
  {
   "cell_type": "code",
   "execution_count": 386,
   "id": "b3af88b7-3f87-43e0-ade6-78a42a5279c7",
   "metadata": {},
   "outputs": [
    {
     "data": {
      "text/plain": [
       "['frNH1', 'frAr NH', 'frNH0', 'frQuatN', 'frNH2']"
      ]
     },
     "execution_count": 386,
     "metadata": {},
     "output_type": "execute_result"
    }
   ],
   "source": [
    "amines_type_cols"
   ]
  },
  {
   "cell_type": "code",
   "execution_count": 387,
   "id": "797424e4-dac2-44a1-b2a2-fa4da9a266c5",
   "metadata": {},
   "outputs": [],
   "source": [
    "amines_tipe = dict(zip(amines_type_cols, [\"secundaria\", \"aromática\", \"terciaria\", \"cuaternaria\", \"primaria\"]))"
   ]
  },
  {
   "cell_type": "code",
   "execution_count": 388,
   "id": "46a3db6d-799f-4b52-b0f2-39e9c561041d",
   "metadata": {},
   "outputs": [
    {
     "data": {
      "text/plain": [
       "{'frNH1': 'secundaria',\n",
       " 'frAr NH': 'aromática',\n",
       " 'frNH0': 'terciaria',\n",
       " 'frQuatN': 'cuaternaria',\n",
       " 'frNH2': 'primaria'}"
      ]
     },
     "execution_count": 388,
     "metadata": {},
     "output_type": "execute_result"
    }
   ],
   "source": [
    "amines_tipe"
   ]
  },
  {
   "cell_type": "code",
   "execution_count": 389,
   "id": "b89b35da-89b0-409f-ba20-5e5b2552449c",
   "metadata": {},
   "outputs": [],
   "source": [
    "df_amine_groups = df_amines[amines_type_cols + [\"Chemical Name\"]]\n",
    "\n",
    "df_by_tipo = df_amine_groups[amines_type_cols].T\n",
    "df_by_tipo.columns = df_amine_groups[\"Chemical Name\"].to_list()\n",
    "\n",
    "df_amines_type = df_by_tipo[df_by_tipo > 0].count(axis=1)"
   ]
  },
  {
   "cell_type": "code",
   "execution_count": 390,
   "id": "5b9e59d0-2ca5-4a8d-a6c2-ea5b9eac4cfe",
   "metadata": {},
   "outputs": [],
   "source": [
    "df_amines_type = df_amines_type.to_frame(\"count\").reset_index()"
   ]
  },
  {
   "cell_type": "code",
   "execution_count": 391,
   "id": "481ddccb-e533-450f-936c-a69076f63dff",
   "metadata": {},
   "outputs": [
    {
     "data": {
      "text/html": [
       "<div>\n",
       "<style scoped>\n",
       "    .dataframe tbody tr th:only-of-type {\n",
       "        vertical-align: middle;\n",
       "    }\n",
       "\n",
       "    .dataframe tbody tr th {\n",
       "        vertical-align: top;\n",
       "    }\n",
       "\n",
       "    .dataframe thead th {\n",
       "        text-align: right;\n",
       "    }\n",
       "</style>\n",
       "<table border=\"1\" class=\"dataframe\">\n",
       "  <thead>\n",
       "    <tr style=\"text-align: right;\">\n",
       "      <th></th>\n",
       "      <th>index</th>\n",
       "      <th>count</th>\n",
       "    </tr>\n",
       "  </thead>\n",
       "  <tbody>\n",
       "    <tr>\n",
       "      <th>0</th>\n",
       "      <td>frNH1</td>\n",
       "      <td>6</td>\n",
       "    </tr>\n",
       "    <tr>\n",
       "      <th>1</th>\n",
       "      <td>frAr NH</td>\n",
       "      <td>1</td>\n",
       "    </tr>\n",
       "    <tr>\n",
       "      <th>2</th>\n",
       "      <td>frNH0</td>\n",
       "      <td>1</td>\n",
       "    </tr>\n",
       "    <tr>\n",
       "      <th>3</th>\n",
       "      <td>frQuatN</td>\n",
       "      <td>40</td>\n",
       "    </tr>\n",
       "    <tr>\n",
       "      <th>4</th>\n",
       "      <td>frNH2</td>\n",
       "      <td>9</td>\n",
       "    </tr>\n",
       "  </tbody>\n",
       "</table>\n",
       "</div>"
      ],
      "text/plain": [
       "     index  count\n",
       "0    frNH1      6\n",
       "1  frAr NH      1\n",
       "2    frNH0      1\n",
       "3  frQuatN     40\n",
       "4    frNH2      9"
      ]
     },
     "execution_count": 391,
     "metadata": {},
     "output_type": "execute_result"
    }
   ],
   "source": [
    "df_amines_type"
   ]
  },
  {
   "cell_type": "code",
   "execution_count": 392,
   "id": "073b64b4-4db8-4455-bae3-78ee07aa6d0e",
   "metadata": {},
   "outputs": [],
   "source": [
    "df_amines_type[\"tipo_amina\"] = df_amines_type[\"index\"].map(amines_tipe)"
   ]
  },
  {
   "cell_type": "code",
   "execution_count": 393,
   "id": "0281bac3-3c82-4d5b-ad07-bf4a49c8f56a",
   "metadata": {},
   "outputs": [],
   "source": [
    "df_amines_type.loc[[4,0,2,3,1]].iloc[:,[2,0,1]].to_csv(\"data/metadata/type_amines_to_table.csv\", index=None)"
   ]
  },
  {
   "cell_type": "markdown",
   "id": "3eea5db6-fb13-4e2b-9e59-aa9d3e522628",
   "metadata": {},
   "source": [
    "##### Aromáticas vs anillo vs alifáticas"
   ]
  },
  {
   "cell_type": "code",
   "execution_count": 394,
   "id": "26caf19b-a02a-47f4-b285-edd69d5bca4b",
   "metadata": {},
   "outputs": [],
   "source": [
    "amines_type_cols = [name for name in df_amines.columns if name.endswith(('RingCount')) ]"
   ]
  },
  {
   "cell_type": "code",
   "execution_count": 395,
   "id": "de60fa5e-5da8-45d2-9612-49d3fa02e91b",
   "metadata": {},
   "outputs": [
    {
     "data": {
      "text/plain": [
       "['HeteroaromaticRingCount',\n",
       " 'HeteroaliphaticRingCount',\n",
       " 'CarboaromaticRingCount',\n",
       " 'CarboaliphaticRingCount',\n",
       " 'CarboRingCount',\n",
       " 'AliphaticRingCount',\n",
       " 'AromaticRingCount']"
      ]
     },
     "execution_count": 395,
     "metadata": {},
     "output_type": "execute_result"
    }
   ],
   "source": [
    "amines_type_cols"
   ]
  },
  {
   "cell_type": "code",
   "execution_count": 396,
   "id": "d8a9c0ea-2dfc-41c8-94ae-ae7a313a9c30",
   "metadata": {},
   "outputs": [],
   "source": [
    "df_amine_groups = df_amines[amines_type_cols + [\"Chemical Name\"]]\n",
    "\n",
    "df_by_tipo = df_amine_groups[amines_type_cols].T\n",
    "df_by_tipo.columns = df_amine_groups[\"Chemical Name\"].to_list()\n",
    "\n",
    "df_amines_type = df_by_tipo[df_by_tipo > 0].count(axis=1)\n",
    "df_amines_type = df_amines_type.to_frame(\"count\").reset_index().rename({'index':'Propiedad'})"
   ]
  },
  {
   "cell_type": "code",
   "execution_count": 397,
   "id": "0476205c-ef59-4de4-b7b3-bce2efbb95cf",
   "metadata": {},
   "outputs": [],
   "source": [
    "df_amines_type[\"Name\"] = [name[:-5] for name in df_amines_type['index']]"
   ]
  },
  {
   "cell_type": "code",
   "execution_count": 398,
   "id": "af96d9c4-92c1-45df-9b36-53b35c0529f4",
   "metadata": {},
   "outputs": [
    {
     "data": {
      "image/png": "[encoded data removed]",
      "text/plain": [
       "<Figure size 288x216 with 1 Axes>"
      ]
     },
     "metadata": {
      "needs_background": "light"
     },
     "output_type": "display_data"
    }
   ],
   "source": [
    "#plt.figure(figsize=(10, 7))\n",
    "plot_title = \"figures/amines_ring_count.pdf\"\n",
    "        \n",
    "with plt.style.context(['science', 'bright']):\n",
    "    #sns.set_palette(sns.color_palette(color_bright))\n",
    "    fig, axes = plt.subplots(1, 1, figsize=(4,3),\n",
    "                                 constrained_layout = True)\n",
    "    ax = sns.barplot(data=df_amines_type, x=\"count\", y=\"Name\", orient=\"h\",\n",
    "                     color=\"grey\", alpha=0.7)\n",
    "\n",
    "    # Remove box lines\n",
    "    sns.despine(bottom = True, left = False, trim=False)\n",
    "    ax.tick_params(which=\"both\", left=False, bottom=False, top=False, right=False)\n",
    "    #ax.xticks([\"\"],fontdict={'fontsize':15})\n",
    "    #ax.tick_params(axis='both', which='both')\n",
    "    ax.set_ylabel(\"Tipo de anillo presente\", fontdict={'fontsize':12})\n",
    "    ax.set_xlabel(\"Cantidad de Organoaminas\", fontdict={'fontsize':13}, loc=\"center\")\n",
    "    ax.xaxis.set_label_coords(.25, -.1)\n",
    "    #ax.yaxis.set_major_formatter(FuncFormatter(lambda x, _: int(x)))\n",
    "    #plt.xticks()\n",
    "    plt.xticks(fontsize=12, rotation=0)\n",
    "    plt.yticks(fontsize=12, rotation=0)\n",
    "    \n",
    "    for index, p in enumerate(ax.patches):\n",
    "        #percentage = f'{100 * p.get_height() / total:.1f}\\%\\n'\n",
    "        x = p.get_x() + p.get_width() + 0.5\n",
    "        y = p.get_y() +  (p.get_height()/2)\n",
    "        ax.annotate(df_amines_type.iloc[index,1], (x, y), ha='center', va='center')\n",
    "\n",
    "#        ax.annotate(text, (x, y), ha='center', va='center', fontsize=12)\n",
    "\n",
    "    #plt.legend(title=\"Tipo de Variable\", fontsize=13)\n",
    "    #plt.ylim(0,30)\n",
    "    fig.savefig(plot_title, dpi=300)"
   ]
  },
  {
   "cell_type": "code",
   "execution_count": null,
   "id": "d43f36f5-74ce-4c9e-8d2e-ed964d5d8ae1",
   "metadata": {},
   "outputs": [],
   "source": []
  },
  {
   "cell_type": "code",
   "execution_count": null,
   "id": "df0f70ab-7267-4750-8958-fe944d968534",
   "metadata": {},
   "outputs": [],
   "source": [
    "from sklearn.preprocessing import StandardScaler\n",
    "from sklearn.decomposition import PCA\n",
    "\n",
    "def apply_pca(df, cols, n_components):\n",
    "    scaler = StandardScaler()\n",
    "    std_df =pd.DataFrame(scaler.fit_transform(df[cols]), columns=cols)\n",
    "    pca_number = min(len(cols), n_components)\n",
    "    pca_columns = ['PCA_'+ str(n) for n in range(1,pca_number+1)]\n",
    "    pca = PCA(n_components=pca_number, svd_solver = 'auto')\n",
    "    principal_components=pca.fit_transform(std_df)\n",
    "    pca_df = pd.DataFrame(data = principal_components, columns = pca_columns)\n",
    "    return pca, pca_df"
   ]
  },
  {
   "cell_type": "code",
   "execution_count": null,
   "id": "d2635396-3ff2-445a-9661-1933fe63818b",
   "metadata": {},
   "outputs": [],
   "source": [
    "pca, pca_df = apply_pca(df, df.columns, 2)"
   ]
  },
  {
   "cell_type": "code",
   "execution_count": null,
   "id": "2b3e2fa4-f95b-4d2e-a1f9-51b8df59b033",
   "metadata": {},
   "outputs": [],
   "source": [
    "def plot_main_pca(df):\n",
    "    df['group'] = [\"Grupo 2\" if x >= 0 else \"Grupo 1\" for x in df['PCA_2']]\n",
    "    #df['group'] = np.where(df['PCA_1']>=12, 2)\n",
    "\n",
    "    df.at[24, \"group\"] = \"Outlier\"\n",
    "\n",
    "    bright = plot_utils.tol_cset(\"vibrant\")\n",
    "    bright_reorderd = [bright.magenta, bright.teal, bright.grey]\n",
    "\n",
    "    colors = {\"Grupo 1\": bright.magenta, \n",
    "             \"Grupo 2\": bright.teal}\n",
    "\n",
    "    from scipy import interpolate\n",
    "    from scipy.spatial import ConvexHull\n",
    "    #sns.set_palette(sns.color_palette(\"Paired\"))\n",
    "    #sns.set_context(\"paper\")\n",
    "    plot_title = \"figures/organoaminas_pca_visual\"\n",
    "    with plt.style.context(['science', 'light']):\n",
    "        #sns.set_palette(sns.color_palette(color_bright))\n",
    "\n",
    "        fig, axes = plt.subplots(1, 1, sharey=True, sharex=False, figsize=(6,4),\n",
    "                                 constrained_layout = True)\n",
    "\n",
    "        #fig.suptitle('Distribución de Reactivos')\n",
    "\n",
    "        sns.scatterplot(x=\"PCA_1\", y=\"PCA_2\", hue=\"group\",\n",
    "                        palette=bright_reorderd,\n",
    "                    sizes=(1, 8), linewidth=0,\n",
    "                    data=df, ax=axes)\n",
    "        sns.despine(bottom = False, left = False, trim=False)\n",
    "        axes.tick_params(which=\"both\", left=True, bottom=False, top=False, right=False)\n",
    "        axes.set_xlabel(\"1er Componente Principal\",  fontdict={\"size\": 13})\n",
    "        axes.set_ylabel(\"2da Componente Principal\", fontdict={\"size\": 13})\n",
    "\n",
    "        plt.xticks(fontsize=13, rotation=0)\n",
    "        plt.yticks(fontsize=13, rotation=0)\n",
    "\n",
    "        plt.legend(title=\"\", loc=(0.8,0.8), fontsize=11)\n",
    "\n",
    "\n",
    "        plt.vlines(x=0, ymin=-6, ymax=8,  ls='--', colors=\"black\", alpha=0.7)\n",
    "        plt.hlines(y=0, xmin=-13, xmax=18, ls='--', colors=\"black\", alpha=0.7)\n",
    "        #axes.axvline(12, ymin=0, ymax=2)\n",
    "\n",
    "        #fig.supxlabel('Concentración (M)', fontdict={\"size\":12})\n",
    "        #sns.color_palette()\n",
    "        #fig.supylabel('Cantidad')\n",
    "        #fig.savefig(plot_title+'.pdf', dpi=300)\n",
    "        #fig.show()\n",
    "        #plt.subplot_tool()\n",
    "\n",
    "        for i in df.group.unique()[:2]:\n",
    "            # get the convex hull\n",
    "            points = df[df.group == i][['PCA_1', 'PCA_2']].values\n",
    "            hull = ConvexHull(points)\n",
    "            x_hull = np.append(points[hull.vertices,0],\n",
    "                               points[hull.vertices,0][0])\n",
    "            y_hull = np.append(points[hull.vertices,1],\n",
    "                               points[hull.vertices,1][0])\n",
    "\n",
    "            # interpolate\n",
    "            dist = np.sqrt((x_hull[:-1] - x_hull[1:])**2 + (y_hull[:-1] - y_hull[1:])**2)\n",
    "            dist_along = np.concatenate(([0], dist.cumsum()))\n",
    "            spline, u = interpolate.splprep([x_hull, y_hull], \n",
    "                                            u=dist_along, s=0)\n",
    "            interp_d = np.linspace(dist_along[0], dist_along[-1], 50)\n",
    "            interp_x, interp_y = interpolate.splev(interp_d, spline)\n",
    "            # plot shape\n",
    "            plt.fill(interp_x, interp_y, '--', alpha=0.3, c=colors[i])\n",
    "        #fig.savefig(plot_title+'.pdf', dpi=300)\n"
   ]
  },
  {
   "cell_type": "code",
   "execution_count": null,
   "id": "831199d1-cff4-425c-a132-65c5348307f7",
   "metadata": {},
   "outputs": [],
   "source": [
    "def plot_amines_pca(df):\n",
    "    #df['group'] = [\"Grupo 2\" if x >= 0 else \"Grupo 1\" for x in df['PCA_2']]\n",
    "    #df['group'] = np.where(df['PCA_1']>=12, 2)\n",
    "\n",
    "    #df.at[24, \"group\"] = \"Outlier\"\n",
    "\n",
    "    bright = plot_utils.tol_cset(\"vibrant\")\n",
    "    bright_reorderd = [bright.magenta, bright.teal, bright.grey]\n",
    "\n",
    "    colors = {\"Grupo 1\": bright.magenta, \n",
    "             \"Grupo 2\": bright.teal}\n",
    "\n",
    "    from scipy import interpolate\n",
    "    from scipy.spatial import ConvexHull\n",
    "    #sns.set_palette(sns.color_palette(\"Paired\"))\n",
    "    #sns.set_context(\"paper\")\n",
    "    plot_title = \"figures/organoaminas_pca_visual\"\n",
    "    with plt.style.context(['science', 'light']):\n",
    "        #sns.set_palette(sns.color_palette(color_bright))\n",
    "\n",
    "        fig, axes = plt.subplots(1, 1, sharey=True, sharex=False, figsize=(6,4),\n",
    "                                 constrained_layout = True)\n",
    "\n",
    "        #fig.suptitle('Distribución de Reactivos')\n",
    "\n",
    "        sns.scatterplot(x=\"PCA_1\", y=\"PCA_2\",\n",
    "                        palette=bright_reorderd,\n",
    "                    sizes=(1, 8), linewidth=0,\n",
    "                    data=df, ax=axes)\n",
    "        sns.despine(bottom = False, left = False, trim=False)\n",
    "        axes.tick_params(which=\"both\", left=True, bottom=False, top=False, right=False)\n",
    "        axes.set_xlabel(\"1er Componente Principal\",  fontdict={\"size\": 13})\n",
    "        axes.set_ylabel(\"2da Componente Principal\", fontdict={\"size\": 13})\n",
    "\n",
    "        plt.xticks(fontsize=13, rotation=0)\n",
    "        plt.yticks(fontsize=13, rotation=0)\n",
    "\n",
    "        plt.legend(title=\"\", loc=(0.8,0.8), fontsize=11)\n",
    "\n",
    "\n",
    "        plt.vlines(x=0, ymin=-6, ymax=8,  ls='--', colors=\"black\", alpha=0.7)\n",
    "        plt.hlines(y=0, xmin=-13, xmax=18, ls='--', colors=\"black\", alpha=0.7)\n",
    "        #axes.axvline(12, ymin=0, ymax=2)\n",
    "\n",
    "        #fig.supxlabel('Concentración (M)', fontdict={\"size\":12})\n",
    "        #sns.color_palette()\n",
    "        #fig.supylabel('Cantidad')\n",
    "        #fig.savefig(plot_title+'.pdf', dpi=300)\n",
    "        #fig.show()\n",
    "        #plt.subplot_tool()\n",
    "        #fig.savefig(plot_title+'.pdf', dpi=300)\n"
   ]
  },
  {
   "cell_type": "code",
   "execution_count": null,
   "id": "8f3c9529-65ff-451a-acf3-8748d9a65e55",
   "metadata": {},
   "outputs": [],
   "source": [
    "plot_amines_pca(pca_df)"
   ]
  },
  {
   "cell_type": "code",
   "execution_count": null,
   "id": "410bf3cd-a6c6-477b-ad5d-5338510062e7",
   "metadata": {},
   "outputs": [],
   "source": [
    "pca.components_.shape"
   ]
  },
  {
   "cell_type": "code",
   "execution_count": null,
   "id": "ca045890-9759-4b14-be0b-8ca3407d7e70",
   "metadata": {},
   "outputs": [],
   "source": [
    "from math import atan2, degrees\n",
    "import math\n",
    "\n",
    "def anti_clockwise(x,y):\n",
    "    alpha = degrees(atan2(y,x))\n",
    "    return (alpha + 360) % 360\n",
    "\n",
    "def biplot(score, coeff, texts, cutoff=0):\n",
    "    '''\n",
    "    Author: Serafeim Loukas, serafeim.loukas@epfl.ch\n",
    "    Inputs:\n",
    "       score: the projected data\n",
    "       coeff: the eigenvectors (PCs)\n",
    "       y: the class labels\n",
    "   '''\n",
    "    \n",
    "    xs = pd.DataFrame(np.transpose(pca.components_[0:2, :]))\n",
    "    xs[\"name\"] = texts\n",
    "\n",
    "    xs[\"angle\"] = xs.apply(lambda x: anti_clockwise(x[0], x[1]), axis=1)\n",
    "    xs[\"norm\"] = xs.apply(lambda x: LA.norm([x[0], x[1]]), axis=1)\n",
    "    range_ls = list(range(0,420,60))\n",
    "    xs[\"cuadrante\"] = pd.cut(xs[\"angle\"], range_ls, precision=0, labels=np.arange(1,len(range_ls)))\n",
    "    norm_best = xs.groupby([\"cuadrante\"])[\"norm\"].transform(max) == xs['norm']\n",
    "    dots_to_plot = xs[norm_best].groupby(\"cuadrante\").first()\n",
    "    \n",
    "    dots_to_plot[\"name\"] = [\"Cantidad de átomos de C\",\n",
    "                            \"Tamaño del anillo más chico\",\n",
    "                            \"Multiplicidad de aceptores de enlace de H\",\n",
    "                            \"Área polar superficial\",\n",
    "                           #\"Número de aminas aromáticas\", \n",
    "                           \"Cantidad de átomos H donores\", \n",
    "                           \"Cantidad de átomos en anillo aromático\"]\n",
    "    \n",
    "    #print(norm_best)\n",
    "    xs = score[:,0] # projection on PC1\n",
    "    ys = score[:,1] # projection on PC2\n",
    "    scalex = 1.0/(xs.max() - xs.min())\n",
    "    scaley = 1.0/(ys.max() - ys.min())\n",
    "    n = coeff.shape[0] # number of variables\n",
    "    plt.figure(figsize=(6,4), dpi=100)\n",
    "    markers=['o','^','x']\n",
    "    #plt.scatter(xs*scalex,ys*scaley, s=8) # color based on group\n",
    "    for i in range(n):\n",
    "        #plot as arrows the variable scores (each variable has a score for PC1 and one for PC2)\n",
    "        #if xs[\"norm\"] > cutoff:\n",
    "        #    plt.arrow(0, 0, coeff[i,0], coeff[i,1], color = 'k', alpha = 0.9,linestyle = '-',linewidth = 0.3)\n",
    "        #    plt.text(coeff[i,0]* 1.15, coeff[i,1] * 1.15, texts[i], color = 'k', ha = 'center', va = 'center',fontsize=6)\n",
    "        #else:\n",
    "        plt.arrow(0, 0, coeff[i,0], coeff[i,1], color = 'grey', alpha = 0.5,linestyle = '--',linewidth = 0.3)\n",
    "    \n",
    "    print(dots_to_plot)\n",
    "    for row in dots_to_plot.iterrows():\n",
    "        if row[1][0] < 0:\n",
    "            plt.text(row[1][0]*1.9*(len(texts[a])*0.06), row[1][1]*1.05, s=row[1][\"name\"], color = 'k', ha = 'center', va = 'center',fontsize=6)\n",
    "        else:\n",
    "            plt.text(row[1][0], row[1][1]*1.05, s=row[1][\"name\"], color = 'k', ha = 'center', va = 'center',fontsize=6)\n",
    "            \n",
    "        \n",
    "    plt.xlabel(\"PC{}\".format(1), size=11)\n",
    "    plt.ylabel(\"PC{}\".format(2), size=11)\n",
    "    limx= 0.3\n",
    "    limy= 0.4\n",
    "    plt.xlim([-limx,limx])\n",
    "    plt.ylim([-limy,limy])\n",
    "    plt.grid()\n",
    "    plt.tick_params(axis='both', which='both', labelsize=12)\n"
   ]
  },
  {
   "cell_type": "code",
   "execution_count": null,
   "id": "1ebee5f5-0d60-41f5-a627-20ac26cc8d35",
   "metadata": {},
   "outputs": [],
   "source": [
    "#cols = df.columns"
   ]
  },
  {
   "cell_type": "markdown",
   "id": "cbab237d-d33f-4915-a972-f01af614a675",
   "metadata": {},
   "source": [
    "xs = pd.DataFrame(np.transpose(pca.components_[0:2, :]))\n",
    "xs[\"name\"] = cols\n",
    "xs[\"angle\"] = xs.apply(lambda x: anti_clockwise(x[0], x[1]), axis=1)\n",
    "xs[\"norm\"] = xs.apply(lambda x: LA.norm([x[0], x[1]]), axis=1)\n",
    "xs[\"cuadrante\"] = pd.cut(xs[\"angle\"],list(range(0,420,60)), precision=0, labels=np.arange(1,7))\n",
    "norm_best = xs.groupby([\"cuadrante\"])[\"norm\"].transform(max) == xs['norm']\n",
    "dots_to_plot = xs[norm_best].groupby(\"cuadrante\").first()"
   ]
  },
  {
   "cell_type": "markdown",
   "id": "eeb109a6-c3a2-4f5f-b28c-e49b38971aad",
   "metadata": {},
   "source": [
    "dots_to_plot[\"name\"] = [\"Cantidad de átomos de C\",\n",
    "                        \"Tamaño del anillo más chico\",\n",
    "                        \"Multiplicidad de aceptores de enlace de H\",\n",
    "                        \"Área polar superficial\",\n",
    "                       #\"Número de aminas aromáticas\", \n",
    "                       \"Cantidad de átomos H donores\", \n",
    "                       \"Cantidad de átomos en anillo aromático\"]"
   ]
  },
  {
   "cell_type": "code",
   "execution_count": null,
   "id": "2c0507d0-7956-4020-bc06-4da9917a2591",
   "metadata": {},
   "outputs": [],
   "source": [
    "biplot(pca_df.values, np.transpose(pca.components_[0:2, :]), df.columns, 0.40)"
   ]
  },
  {
   "cell_type": "code",
   "execution_count": null,
   "id": "74467b09-180a-452a-9618-5ae11498b568",
   "metadata": {},
   "outputs": [],
   "source": [
    "n_components = 5\n",
    "pca, pca_df = apply_pca(df, df.columns, n_components)"
   ]
  },
  {
   "cell_type": "code",
   "execution_count": null,
   "id": "bfbe4096-28d9-47da-8cb6-773e05864afe",
   "metadata": {},
   "outputs": [],
   "source": [
    "pca.components_.shape"
   ]
  },
  {
   "cell_type": "code",
   "execution_count": null,
   "id": "3edeca9c-5081-4cf4-8d71-f70e1e0f160c",
   "metadata": {},
   "outputs": [],
   "source": []
  },
  {
   "cell_type": "code",
   "execution_count": null,
   "id": "b52ce844-0dfd-4c25-9dc9-9ed7c9278c36",
   "metadata": {},
   "outputs": [],
   "source": [
    "pca.components_[:, :].T.shape"
   ]
  },
  {
   "cell_type": "code",
   "execution_count": null,
   "id": "75b8350a-d122-4bd0-9bfc-db9de0c3730f",
   "metadata": {},
   "outputs": [],
   "source": [
    "loadings = pd.DataFrame(pca.components_[:, :].T, columns=[\"PC %s\" % s for s in range(1,n_components+1)], index=df.columns)"
   ]
  },
  {
   "cell_type": "code",
   "execution_count": null,
   "id": "d822bd2a-5f65-4d10-95db-ab6469beada6",
   "metadata": {},
   "outputs": [],
   "source": [
    "loadings.columns"
   ]
  },
  {
   "cell_type": "code",
   "execution_count": null,
   "id": "84aa75bb-70e7-4c73-bcd8-366bd6cc7ded",
   "metadata": {},
   "outputs": [],
   "source": [
    "df.head()"
   ]
  },
  {
   "cell_type": "code",
   "execution_count": null,
   "id": "d7d49639-cce1-4dbb-8cba-86665b9407b6",
   "metadata": {},
   "outputs": [],
   "source": [
    "sns.clustermap(loadings[[\"PC 1\", \"PC 2\"]], col_cluster=False)"
   ]
  },
  {
   "cell_type": "code",
   "execution_count": null,
   "id": "b86251a0-cc3f-4598-9020-4bdcac2625b9",
   "metadata": {},
   "outputs": [],
   "source": [
    "def plot_scree_pca(df):\n",
    "    with plt.style.context(['science', 'light']):\n",
    "    #sns.set_palette(sns.color_palette(color_bright))\n",
    "        plot_title = \"figures/pca_varianza\"\n",
    "        \n",
    "        fig, axes = plt.subplots(1, 1, sharey=True, sharex=False, figsize=(4,4),\n",
    "                                 constrained_layout = True)\n",
    "        #fig.suptitle('Distribución de Reactivos')\n",
    "        sns.barplot(x=\"Componente\", y=\"Varianza Explicada\", data=df, ax=axes, color='grey', alpha=0.50)\n",
    "        \n",
    "        news_x = [p.get_x() + p.get_width() / 2 for p in axes.patches]\n",
    "        \n",
    "        #sb.regplot(x='round', y='money', data=firm, ax=ax)\n",
    "        sns.lineplot(x=news_x, y=df[\"Varianza Explicada Acumulada\"], marker='o', legend=\"auto\", color='grey', alpha=0.9, \n",
    "                     ax=axes)\n",
    "\n",
    "        plt.xlabel('Número de componentes', fontsize=12)\n",
    "        plt.ylabel('Varianza explicada', fontsize=12)\n",
    "        \n",
    "           \n",
    "        plt.xticks(fontsize=13, rotation=0)\n",
    "        plt.yticks(fontsize=13, rotation=0)\n",
    "\n",
    "        sns.despine(bottom = False, left = False, trim=False)\n",
    "        axes.tick_params(which=\"both\", left=True, bottom=False, top=False, right=False)\n",
    "    \n",
    "        plt.ylim(0, 1)\n",
    "        \n",
    "        #fig.savefig(plot_title+'.pdf', dpi=300)\n",
    "        "
   ]
  },
  {
   "cell_type": "code",
   "execution_count": null,
   "id": "52a75b1d-04ac-456b-9186-a541a250243b",
   "metadata": {},
   "outputs": [],
   "source": [
    "pca, pca_df = apply_pca(df, df.columns, n_components)\n",
    "explained = pd.DataFrame({\"Componente\":np.arange(1,n_components+1), \"Varianza Explicada Acumulada\":np.cumsum(pca.explained_variance_ratio_),\n",
    "                         \"Varianza Explicada\": pca.explained_variance_ratio_})"
   ]
  },
  {
   "cell_type": "code",
   "execution_count": null,
   "id": "f9d8581a-f107-4ab2-ae9e-db4dbfcb892d",
   "metadata": {},
   "outputs": [],
   "source": [
    "plot_scree_pca(explained)"
   ]
  },
  {
   "cell_type": "code",
   "execution_count": null,
   "id": "e356cf3c-4f8a-4b3b-bdd1-a0382ae824b6",
   "metadata": {},
   "outputs": [],
   "source": [
    "pca_df.shape"
   ]
  },
  {
   "cell_type": "code",
   "execution_count": null,
   "id": "aa24c885-9b50-4e76-9352-f06f463ad750",
   "metadata": {},
   "outputs": [],
   "source": [
    "pca.explained_variance_ratio_"
   ]
  },
  {
   "cell_type": "code",
   "execution_count": null,
   "id": "e000d9a0-b6fe-450a-b5d7-285e42a7d2a2",
   "metadata": {},
   "outputs": [],
   "source": [
    "pca.components_.shape"
   ]
  },
  {
   "cell_type": "code",
   "execution_count": null,
   "id": "fa426262-f0ff-4e77-b6ea-be59c4efe58b",
   "metadata": {},
   "outputs": [],
   "source": [
    "plot_scree_pca(pca)"
   ]
  },
  {
   "cell_type": "code",
   "execution_count": null,
   "id": "b9e4ca2e-3986-4220-881a-7f58bfae6852",
   "metadata": {},
   "outputs": [],
   "source": [
    "df_corr = df.corr()"
   ]
  },
  {
   "cell_type": "code",
   "execution_count": null,
   "id": "4b42e7fe-9d80-4eae-91ed-83ab9e5fc911",
   "metadata": {},
   "outputs": [],
   "source": [
    "dataplot = sns.heatmap(df_corr, cmap=\"YlGnBu\", annot=False)"
   ]
  },
  {
   "cell_type": "code",
   "execution_count": null,
   "id": "f115a40e-4d35-435a-9118-04ebc5158b60",
   "metadata": {},
   "outputs": [],
   "source": [
    "corr_fq"
   ]
  },
  {
   "cell_type": "code",
   "execution_count": null,
   "id": "6f0a7f05-f91d-4981-9867-72bdc9e01370",
   "metadata": {},
   "outputs": [],
   "source": [
    "dataplot = sb.heatmap(data.corr(), cmap=\"YlGnBu\", annot=True)\n",
    "  \n",
    "# displaying heatmap\n",
    "mp.show()"
   ]
  },
  {
   "cell_type": "code",
   "execution_count": null,
   "id": "0c880396-350a-4653-b6ea-859ff5520b23",
   "metadata": {},
   "outputs": [],
   "source": []
  }
 ],
 "metadata": {
  "kernelspec": {
   "display_name": "thesis-repo",
   "language": "python",
   "name": "thesis-repo"
  },
  "language_info": {
   "codemirror_mode": {
    "name": "ipython",
    "version": 3
   },
   "file_extension": ".py",
   "mimetype": "text/x-python",
   "name": "python",
   "nbconvert_exporter": "python",
   "pygments_lexer": "ipython3",
   "version": "3.7.4"
  }
 },
 "nbformat": 4,
 "nbformat_minor": 5
}
