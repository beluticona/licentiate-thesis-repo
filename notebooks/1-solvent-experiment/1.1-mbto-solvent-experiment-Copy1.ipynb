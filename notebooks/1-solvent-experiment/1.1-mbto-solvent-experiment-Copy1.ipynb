{
 "cells": [
  {
   "cell_type": "markdown",
   "id": "083e7e42",
   "metadata": {},
   "source": [
    "# Solvent Small Experiment"
   ]
  },
  {
   "cell_type": "markdown",
   "id": "0fa813db",
   "metadata": {},
   "source": [
    "Question: Could be use data from minotiry solvents? Does it add value/relevant information?\n",
    "\n",
    "Descriptions:\n",
    "- 3 solvent availables, one majority and two minorities\n",
    "- sample from majority and minorities: 3 samples\n",
    "- train in majority\n",
    "- evaluate in 3 samples and compare results, is there any particular improvement in majority?"
   ]
  },
  {
   "cell_type": "code",
   "execution_count": 1,
   "id": "f2215afb",
   "metadata": {},
   "outputs": [],
   "source": [
    "import numpy as np\n",
    "import pandas as pd\n",
    "import matplotlib.pyplot as plt\n",
    "import seaborn as sns\n",
    "import itertools\n",
    "from src.config import chemical_inventory_path, raw_data_path\n",
    "from src.data import notebook_utils as utils\n",
    "from src.constants import GBL_INCHI_KEY, DMSO_INCHI_KEY, DMF_INCHI_KEY, \\\n",
    "                        INCHI_TO_CHEMNAME, TARGET_COL, RXN_FEAT_NAME, ORGANOAMONIUM_INCHI_KEY_COL\n",
    "from src import plot_utils"
   ]
  },
  {
   "cell_type": "code",
   "execution_count": 2,
   "id": "29cef52b",
   "metadata": {},
   "outputs": [],
   "source": [
    "import matplotlib.pyplot as plt\n",
    "import matplotlib.ticker as mtick\n",
    "plt.style.reload_library()\n",
    "import matplotlib.patches as mpatches"
   ]
  },
  {
   "cell_type": "markdown",
   "id": "909b7fdb",
   "metadata": {
    "tags": []
   },
   "source": [
    "## Generate datasets"
   ]
  },
  {
   "cell_type": "markdown",
   "id": "051a9156",
   "metadata": {},
   "source": [
    "Sample from major"
   ]
  },
  {
   "cell_type": "code",
   "execution_count": 3,
   "id": "ba155e9d",
   "metadata": {},
   "outputs": [
    {
     "name": "stdout",
     "output_type": "stream",
     "text": [
      "/Users/mticona/Documents/tesis/licentiate-thesis-repo\n"
     ]
    }
   ],
   "source": [
    "%cd ../.."
   ]
  },
  {
   "cell_type": "code",
   "execution_count": 4,
   "id": "31fb6bab",
   "metadata": {},
   "outputs": [
    {
     "name": "stderr",
     "output_type": "stream",
     "text": [
      "/Users/mticona/Documents/tesis/licentiate-thesis-repo/src/data/notebook_utils.py:116: SettingWithCopyWarning: \n",
      "A value is trying to be set on a copy of a slice from a DataFrame.\n",
      "Try using .loc[row_indexer,col_indexer] = value instead\n",
      "\n",
      "See the caveats in the documentation: https://pandas.pydata.org/pandas-docs/stable/user_guide/indexing.html#returning-a-view-versus-a-copy\n",
      "  df.loc[:,col] = (df[TARGET_COL] == 4).astype(int)\n"
     ]
    }
   ],
   "source": [
    "SEED = 105\n",
    "ALGORITHM = 'rf'\n",
    "\n",
    "solvents_inchies = [GBL_INCHI_KEY, DMSO_INCHI_KEY, DMF_INCHI_KEY]\n",
    "solvents = [INCHI_TO_CHEMNAME[inchie] for inchie in solvents_inchies]\n",
    "\n",
    "plot_solvents = {'Gamma-Butyrolactone': \"GBL\",\n",
    "                 'Dimethyl sulfoxide':\"DMSO\",\n",
    "                 'Dimethylformamide': \"DMF\"}\n",
    "\n",
    "solvents_data = {INCHI_TO_CHEMNAME[solvent_inchie]: utils.read_data(raw_data_path, organic_key=True,\\\n",
    "                                                                    solvent=solvent_inchie) \\\n",
    "                                                    .drop_duplicates()\n",
    "                 for solvent_inchie in solvents_inchies}"
   ]
  },
  {
   "cell_type": "code",
   "execution_count": 1208,
   "id": "3eebed0e",
   "metadata": {},
   "outputs": [
    {
     "name": "stdout",
     "output_type": "stream",
     "text": [
      "Gamma-Butyrolactone 29\n",
      "Dimethyl sulfoxide 6\n",
      "Dimethylformamide 9\n"
     ]
    }
   ],
   "source": [
    "for solvent, data in solvents_data.items():\n",
    "    print(solvent, len(data[ORGANOAMONIUM_INCHI_KEY_COL].unique()))"
   ]
  },
  {
   "cell_type": "markdown",
   "id": "f50903c1",
   "metadata": {},
   "source": [
    "Grouped by amine"
   ]
  },
  {
   "cell_type": "code",
   "execution_count": 14,
   "id": "7e65fb14",
   "metadata": {},
   "outputs": [],
   "source": [
    "solvent_data_eval_sample = { solvent: data.groupby([TARGET_COL, ORGANOAMONIUM_INCHI_KEY_COL])\\\n",
    "                            .sample(frac=0.2, random_state=SEED)\\\n",
    "                            .drop([ORGANOAMONIUM_INCHI_KEY_COL], axis=1) \\\n",
    "                            for solvent, data in solvents_data.items()}"
   ]
  },
  {
   "cell_type": "code",
   "execution_count": 16,
   "id": "c8416f24",
   "metadata": {},
   "outputs": [
    {
     "name": "stdout",
     "output_type": "stream",
     "text": [
      "Gamma-Butyrolactone 1127\n",
      "Dimethyl sulfoxide 165\n",
      "Dimethylformamide 210\n"
     ]
    }
   ],
   "source": [
    "for solvent, data in solvent_data_eval_sample.items():\n",
    "    print(solvent, len(data))"
   ]
  },
  {
   "cell_type": "code",
   "execution_count": 1212,
   "id": "472bf01b",
   "metadata": {},
   "outputs": [],
   "source": [
    "solvent_data_remain_sample = { solvent: data.loc[~data.index\\\n",
    "                                                 .isin(solvent_data_eval_sample[solvent].index)]\\\n",
    "                            for solvent, data in solvents_data.items()}"
   ]
  },
  {
   "cell_type": "code",
   "execution_count": 1213,
   "id": "3514eb28",
   "metadata": {},
   "outputs": [
    {
     "name": "stdout",
     "output_type": "stream",
     "text": [
      "Gamma-Butyrolactone 4517\n",
      "Dimethyl sulfoxide 665\n",
      "Dimethylformamide 838\n"
     ]
    }
   ],
   "source": [
    "for solvent, data in solvent_data_remain_sample.items():\n",
    "    print(solvent, len(data))"
   ]
  },
  {
   "cell_type": "markdown",
   "id": "7698cae1",
   "metadata": {},
   "source": [
    "## Proof of concept models"
   ]
  },
  {
   "cell_type": "code",
   "execution_count": 20,
   "id": "40e4df49-a138-4036-ac57-be47398c201c",
   "metadata": {},
   "outputs": [],
   "source": [
    "def get_models_cols():\n",
    "    raw_cols = utils.get_deafult_model_columns()\n",
    "\n",
    "    import json\n",
    "    f = open('data/metadata/map_chem_feat_names.json')\n",
    "    map_names = json.load(f)\n",
    "\n",
    "    df_amines = pd.read_csv(\"data/metadata/type_var_fq_bins.csv\")\n",
    "\n",
    "    chem_feat = [ col for col in raw_cols if map_names.get(col,\" \") in list(df_amines.propiedad)]\n",
    "    rxn_feat = utils.concentration_feats()\n",
    "\n",
    "    model_cols = chem_feat + rxn_feat + [TARGET_COL]\n",
    "    return model_cols"
   ]
  },
  {
   "cell_type": "code",
   "execution_count": 21,
   "id": "df746722-d972-4954-9919-eedb1097ced4",
   "metadata": {},
   "outputs": [],
   "source": [
    "model_cols = get_models_cols()"
   ]
  },
  {
   "cell_type": "code",
   "execution_count": 22,
   "id": "cab35a73",
   "metadata": {},
   "outputs": [],
   "source": [
    "from sklearn.preprocessing import StandardScaler\n",
    "from sklearn.pipeline import Pipeline\n",
    "from sklearn.model_selection import RepeatedStratifiedKFold\n",
    "from sklearn.model_selection import cross_validate\n",
    "from sklearn.metrics import classification_report\n",
    "import sklearn.ensemble as ensamble_models\n",
    "import sklearn.neighbors as neighbors_models\n",
    "from sklearn.model_selection import GridSearchCV\n",
    "from sklearn import linear_model as linear_models"
   ]
  },
  {
   "cell_type": "code",
   "execution_count": 23,
   "id": "dbd59ecb",
   "metadata": {},
   "outputs": [],
   "source": [
    "def make_model(model_name, model_config={}):\n",
    "    try:\n",
    "        model_method = getattr(neighbors_models, model_name)\n",
    "    except AttributeError: \n",
    "        try:\n",
    "            model_method = getattr(ensamble_models, model_name)\n",
    "        except AttributeError:\n",
    "            model_method = getattr(linear_models, model_name)\n",
    "    \n",
    "    model = model_method(**model_config)\n",
    "    return model\n",
    "\n",
    "def split_X_y(df):\n",
    "    X = df.drop([TARGET_COL], axis=1).values\n",
    "    y = df[TARGET_COL].values\n",
    "    return X, y\n",
    "\n",
    "def proof_concept(model_name, df_train, df_test, model_config = {}):\n",
    "    model = make_model(model_name, model_config)\n",
    "    \n",
    "    X_test, y_test = split_X_y(df_test)\n",
    "    X_train, y_train = split_X_y(df_train)\n",
    "    \n",
    "    pipeline_steps = [('std', StandardScaler()), \n",
    "                      ('model', model)\n",
    "                     ]\n",
    "    \n",
    "    pipeline = Pipeline(steps=pipeline_steps)\n",
    "    \n",
    "    pipeline.fit(X_train, y_train)\n",
    "    \n",
    "    y_pred =  pipeline.predict(X_test)\n",
    "    \n",
    "    report = classification_report(y_test, y_pred, labels=[0,1], \n",
    "                                   output_dict=True, target_names=[\"No cristaliza\", \"Cristaliza\"])\n",
    "    \n",
    "    report_df =  pd.DataFrame(report).transpose()    \n",
    "    \n",
    "    return report_df\n",
    "\n",
    "def proof_concept_model(model_name, df_train, df_test, model_config = {}):\n",
    "    model = make_model(model_name, model_config)\n",
    "    \n",
    "    X_test, y_test = split_X_y(df_test)\n",
    "    X_train, y_train = split_X_y(df_train)\n",
    "    \n",
    "    pipeline_steps = [('std', StandardScaler()), \n",
    "                      ('model', model)\n",
    "                     ]\n",
    "    \n",
    "    pipeline = Pipeline(steps=pipeline_steps)\n",
    "    \n",
    "    pipeline.fit(X_train, y_train)\n",
    "    \n",
    "    return pipeline\n",
    "    \n",
    "def full_pipeline(X, y, model, k_fold_config):\n",
    "    \n",
    "    pipeline_steps = [('std', StandardScaler()), \n",
    "                      ('model', model)\n",
    "                     ]\n",
    "    pipeline = Pipeline(steps=pipeline_steps)\n",
    "    \n",
    "    cv = RepeatedStratifiedKFold(**k_fold_config)\n",
    "    \n",
    "    scores = cross_validate(pipeline, X, y, cv=cv,\n",
    "                         scoring=('recall', 'f1', 'precision'),\n",
    "                         return_train_score=True, return_estimator=True)\n",
    "    \n",
    "    #df_res = pd.DataFrame(scores)\n",
    "    return scores"
   ]
  },
  {
   "cell_type": "code",
   "execution_count": 24,
   "id": "46ad658f",
   "metadata": {},
   "outputs": [],
   "source": [
    "models = {\n",
    "    'knn':'KNeighborsClassifier',\n",
    "    'rf':'RandomForestClassifier',\n",
    "    'gbc':'GradientBoostingClassifier'\n",
    "}\n",
    "\n",
    "n_repeat_k_fold = 2\n",
    "k_splits = 3\n",
    "\n",
    "k_fold_config = {\n",
    "    'random_state': SEED,\n",
    "    'n_repeats': n_repeat_k_fold,\n",
    "    'n_splits': k_splits,\n",
    "}"
   ]
  },
  {
   "cell_type": "markdown",
   "id": "235661fa",
   "metadata": {
    "tags": []
   },
   "source": [
    "#### Similar distributions?"
   ]
  },
  {
   "cell_type": "code",
   "execution_count": 1226,
   "id": "6ee727ff",
   "metadata": {},
   "outputs": [],
   "source": [
    "df_train = solvent_data_remain_sample['Gamma-Butyrolactone'][model_cols]"
   ]
  },
  {
   "cell_type": "code",
   "execution_count": 1227,
   "id": "7c44e672",
   "metadata": {},
   "outputs": [],
   "source": [
    "report_isolated_GBL = {solvent: proof_concept(models[ALGORITHM], df_train, df_test[model_cols]) \\\n",
    "                        for solvent, df_test in solvent_data_eval_sample.items() }"
   ]
  },
  {
   "cell_type": "code",
   "execution_count": 1228,
   "id": "926e09a1",
   "metadata": {},
   "outputs": [],
   "source": [
    "for solvent in solvents:\n",
    "    report =  pd.DataFrame(report_isolated_GBL[solvent]).transpose()\n",
    "    report.to_csv('results3/only_GBL_tested_in_%s_%s_%s.csv' % (solvent, ALGORITHM, SEED), index=None)"
   ]
  },
  {
   "cell_type": "markdown",
   "id": "7b9804a3",
   "metadata": {},
   "source": [
    "#### Discrimination by solvent feature"
   ]
  },
  {
   "cell_type": "markdown",
   "id": "1a1fcfeb",
   "metadata": {},
   "source": [
    "Generate full dataset with solvent one hot encoded"
   ]
  },
  {
   "cell_type": "code",
   "execution_count": 1229,
   "id": "ea32bc02",
   "metadata": {},
   "outputs": [],
   "source": [
    "def add_column(df, solvent):\n",
    "    df['solvent'] = solvent\n",
    "    return df\n",
    "\n",
    "df_full_with_solvent = pd.concat([data[model_cols].apply(add_column, axis=1, args=(solvent,)) \\\n",
    "                             for solvent, data in solvents_data.items()], axis=0)\\\n",
    "                            .reset_index(drop=True)"
   ]
  },
  {
   "cell_type": "code",
   "execution_count": 1230,
   "id": "d61a9242",
   "metadata": {},
   "outputs": [
    {
     "data": {
      "text/plain": [
       "62"
      ]
     },
     "execution_count": 1230,
     "metadata": {},
     "output_type": "execute_result"
    }
   ],
   "source": [
    "len(df_full_with_solvent.columns)"
   ]
  },
  {
   "cell_type": "code",
   "execution_count": 1231,
   "id": "113a7ccc",
   "metadata": {},
   "outputs": [],
   "source": [
    "df_full_dummies = pd.get_dummies(df_full_with_solvent, columns = ['solvent'])"
   ]
  },
  {
   "cell_type": "code",
   "execution_count": 1232,
   "id": "e9e0621f",
   "metadata": {},
   "outputs": [],
   "source": [
    "df_full_dummies['solvent'] = df_full_with_solvent['solvent']"
   ]
  },
  {
   "cell_type": "code",
   "execution_count": 1233,
   "id": "f322f807",
   "metadata": {},
   "outputs": [
    {
     "data": {
      "text/plain": [
       "(7522, 65)"
      ]
     },
     "execution_count": 1233,
     "metadata": {},
     "output_type": "execute_result"
    }
   ],
   "source": [
    "df_full_dummies = df_full_dummies.drop_duplicates()\n",
    "df_full_dummies.shape"
   ]
  },
  {
   "cell_type": "code",
   "execution_count": 1234,
   "id": "e1cb18b6",
   "metadata": {},
   "outputs": [],
   "source": [
    "#df_full_dummies = df_full_dummies[model_cols + ['_out_crystalscore', '_rxn_organic-inchikey',\n",
    "#       'solvent_Dimethyl sulfoxide', 'solvent_Dimethylformamide',\n",
    "#       'solvent_Gamma-Butyrolactone', 'solvent']]"
   ]
  },
  {
   "cell_type": "code",
   "execution_count": 1235,
   "id": "550f1e33",
   "metadata": {},
   "outputs": [],
   "source": [
    "df_full_dummies.to_csv(\"data/all_solvent_cleaned_data_%s.csv\" % SEED, index=None)"
   ]
  },
  {
   "cell_type": "code",
   "execution_count": 17,
   "id": "bd59e9b6-e8bc-4637-bebf-116421ebdd57",
   "metadata": {},
   "outputs": [],
   "source": [
    "df_full_dummies = pd.read_csv(\"data/all_solvent_cleaned_data_%s.csv\" % SEED)"
   ]
  },
  {
   "cell_type": "markdown",
   "id": "5e9dcde9",
   "metadata": {},
   "source": [
    "Split by solvent to sample"
   ]
  },
  {
   "cell_type": "code",
   "execution_count": 19,
   "id": "6106bf39",
   "metadata": {},
   "outputs": [],
   "source": [
    "df_by_solvent= {solvent: df_full_dummies.query('solvent == @solvent')\n",
    "                        for solvent in solvents\n",
    "                        }"
   ]
  },
  {
   "cell_type": "code",
   "execution_count": 20,
   "id": "e91a9191",
   "metadata": {},
   "outputs": [
    {
     "name": "stdout",
     "output_type": "stream",
     "text": [
      "1127\n",
      "165\n",
      "210\n"
     ]
    }
   ],
   "source": [
    "for solvent, data in solvent_data_eval_sample.items():\n",
    "    print(len(data))"
   ]
  },
  {
   "cell_type": "code",
   "execution_count": 21,
   "id": "c9d19f19",
   "metadata": {},
   "outputs": [],
   "source": [
    "def regenerate_sample(original_sample_dict, target_sample_dict):\n",
    "    \"To filter data points from target that are in original sample\"\n",
    "    new_sampling = {}\n",
    "    for solvent, data in original_sample_dict.items():\n",
    "        # df1 contains more data points than df2\n",
    "        df1 = target_sample_dict[solvent].drop(['solvent_Dimethyl sulfoxide',\n",
    "       'solvent_Dimethylformamide', 'solvent_Gamma-Butyrolactone', 'solvent'], axis=1)\n",
    "        df2 = original_sample_dict[solvent]\n",
    "        keys = list(df1.columns.values)\n",
    "        i1 = df1.set_index(keys).index\n",
    "        i2 = df2.set_index(keys).index\n",
    "        new_sampling[solvent] = target_sample_dict[solvent][i1.isin(i2)]\n",
    "    return new_sampling"
   ]
  },
  {
   "cell_type": "code",
   "execution_count": 28,
   "id": "05fd2f5d",
   "metadata": {},
   "outputs": [],
   "source": [
    "df_solvent_samples_test = regenerate_sample(original_sample_dict=solvent_data_eval_sample,\n",
    "                                            target_sample_dict=df_by_solvent)"
   ]
  },
  {
   "cell_type": "code",
   "execution_count": 23,
   "id": "dbec72b2",
   "metadata": {},
   "outputs": [],
   "source": [
    "df_solvent_samples_test = { solvent: data.drop(['solvent'], axis=1) \n",
    "                            for solvent, data in df_solvent_samples_test.items()}"
   ]
  },
  {
   "cell_type": "markdown",
   "id": "46f6e56d",
   "metadata": {},
   "source": [
    "df_solvent_samples_test = { solvent: data.groupby([TARGET_COL])\\\n",
    "                            .sample(frac=0.2, random_state=SEED)\\\n",
    "                            .reset_index(drop=True) \\\n",
    "                            .drop(['solvent'], axis=1) \n",
    "                            for solvent, data in df_by_solvent.items()}"
   ]
  },
  {
   "cell_type": "code",
   "execution_count": 24,
   "id": "93b65fe6",
   "metadata": {},
   "outputs": [
    {
     "name": "stdout",
     "output_type": "stream",
     "text": [
      "Gamma-Butyrolactone 1125\n",
      "Dimethyl sulfoxide 165\n",
      "Dimethylformamide 210\n"
     ]
    }
   ],
   "source": [
    "for solvent, data in df_solvent_samples_test.items():\n",
    "    print(solvent, len(data))"
   ]
  },
  {
   "cell_type": "code",
   "execution_count": 25,
   "id": "cc720800",
   "metadata": {},
   "outputs": [],
   "source": [
    "df_solvent_samples_train = { solvent: data.loc[~data.index\\\n",
    "                                                 .isin(df_solvent_samples_test[solvent].index)]\\\n",
    "                            for solvent, data in df_by_solvent.items()}"
   ]
  },
  {
   "cell_type": "code",
   "execution_count": 26,
   "id": "b18a8773",
   "metadata": {},
   "outputs": [
    {
     "name": "stdout",
     "output_type": "stream",
     "text": [
      "Gamma-Butyrolactone 4519\n",
      "Dimethyl sulfoxide 665\n",
      "Dimethylformamide 838\n"
     ]
    }
   ],
   "source": [
    "for solvent, data in df_solvent_samples_train.items():\n",
    "    print(solvent, len(data))"
   ]
  },
  {
   "cell_type": "code",
   "execution_count": 38,
   "id": "3a790c18-ac63-4fc3-a704-9d5d3ee2f83a",
   "metadata": {},
   "outputs": [],
   "source": [
    "EVAL_MULTISOLVENT = pd.concat([data for solvent, data in df_solvent_samples_test.items()], axis=0)"
   ]
  },
  {
   "cell_type": "code",
   "execution_count": 40,
   "id": "8c7411a4-2ba7-4040-904a-d883c3f185ef",
   "metadata": {},
   "outputs": [],
   "source": [
    "EVAL_MULTISOLVENT.to_csv(\"data/solvent-experiment/encoded-solvent-eval-multisolvent_%s.csv\" % \\\n",
    "                             (SEED),\n",
    "                             index=None)"
   ]
  },
  {
   "cell_type": "code",
   "execution_count": 44,
   "id": "bab593fd-375a-487f-a5cc-06c4888dd951",
   "metadata": {},
   "outputs": [],
   "source": [
    "EVAL_MULTISOLVENT_sin_sv = EVAL_MULTISOLVENT.drop([\"solvent\"], axis=1)"
   ]
  },
  {
   "cell_type": "code",
   "execution_count": 74,
   "id": "21f5e487-a0b4-4504-8003-51bfa72135dd",
   "metadata": {},
   "outputs": [
    {
     "data": {
      "text/html": [
       "<div>\n",
       "<style scoped>\n",
       "    .dataframe tbody tr th:only-of-type {\n",
       "        vertical-align: middle;\n",
       "    }\n",
       "\n",
       "    .dataframe tbody tr th {\n",
       "        vertical-align: top;\n",
       "    }\n",
       "\n",
       "    .dataframe thead th {\n",
       "        text-align: right;\n",
       "    }\n",
       "</style>\n",
       "<table border=\"1\" class=\"dataframe\">\n",
       "  <thead>\n",
       "    <tr style=\"text-align: right;\">\n",
       "      <th></th>\n",
       "      <th>_feat_WienerPolarity</th>\n",
       "      <th>_feat_BondCount</th>\n",
       "      <th>_feat_fr_NH0</th>\n",
       "      <th>_feat_Refractivity</th>\n",
       "      <th>_feat_LargestRingSize</th>\n",
       "      <th>_feat_HeteroaliphaticRingCount</th>\n",
       "      <th>_feat_fr_quatN</th>\n",
       "      <th>_feat_AromaticAtomCount</th>\n",
       "      <th>_feat_AtomCount_C</th>\n",
       "      <th>_feat_fr_amidine</th>\n",
       "      <th>...</th>\n",
       "      <th>_feat_Hdonorcount</th>\n",
       "      <th>_feat_fr_pyridine</th>\n",
       "      <th>_rxn_M_inorganic</th>\n",
       "      <th>_rxn_M_organic</th>\n",
       "      <th>_rxn_M_acid</th>\n",
       "      <th>_out_crystalscore</th>\n",
       "      <th>solvent_Dimethyl sulfoxide</th>\n",
       "      <th>solvent_Dimethylformamide</th>\n",
       "      <th>solvent_Gamma-Butyrolactone</th>\n",
       "      <th>solvent</th>\n",
       "    </tr>\n",
       "  </thead>\n",
       "  <tbody>\n",
       "    <tr>\n",
       "      <th>2</th>\n",
       "      <td>2.0</td>\n",
       "      <td>16.0</td>\n",
       "      <td>0.0</td>\n",
       "      <td>35.09</td>\n",
       "      <td>0.0</td>\n",
       "      <td>0.0</td>\n",
       "      <td>1.0</td>\n",
       "      <td>0.0</td>\n",
       "      <td>4.0</td>\n",
       "      <td>0.0</td>\n",
       "      <td>...</td>\n",
       "      <td>1.0</td>\n",
       "      <td>0.0</td>\n",
       "      <td>0.916561</td>\n",
       "      <td>0.891593</td>\n",
       "      <td>2.583467</td>\n",
       "      <td>1.0</td>\n",
       "      <td>0</td>\n",
       "      <td>0</td>\n",
       "      <td>1</td>\n",
       "      <td>Gamma-Butyrolactone</td>\n",
       "    </tr>\n",
       "    <tr>\n",
       "      <th>10</th>\n",
       "      <td>2.0</td>\n",
       "      <td>16.0</td>\n",
       "      <td>0.0</td>\n",
       "      <td>35.09</td>\n",
       "      <td>0.0</td>\n",
       "      <td>0.0</td>\n",
       "      <td>1.0</td>\n",
       "      <td>0.0</td>\n",
       "      <td>4.0</td>\n",
       "      <td>0.0</td>\n",
       "      <td>...</td>\n",
       "      <td>1.0</td>\n",
       "      <td>0.0</td>\n",
       "      <td>1.053470</td>\n",
       "      <td>0.926432</td>\n",
       "      <td>1.547341</td>\n",
       "      <td>0.0</td>\n",
       "      <td>0</td>\n",
       "      <td>0</td>\n",
       "      <td>1</td>\n",
       "      <td>Gamma-Butyrolactone</td>\n",
       "    </tr>\n",
       "    <tr>\n",
       "      <th>14</th>\n",
       "      <td>2.0</td>\n",
       "      <td>16.0</td>\n",
       "      <td>0.0</td>\n",
       "      <td>35.09</td>\n",
       "      <td>0.0</td>\n",
       "      <td>0.0</td>\n",
       "      <td>1.0</td>\n",
       "      <td>0.0</td>\n",
       "      <td>4.0</td>\n",
       "      <td>0.0</td>\n",
       "      <td>...</td>\n",
       "      <td>1.0</td>\n",
       "      <td>0.0</td>\n",
       "      <td>0.849390</td>\n",
       "      <td>0.756310</td>\n",
       "      <td>2.583467</td>\n",
       "      <td>0.0</td>\n",
       "      <td>0</td>\n",
       "      <td>0</td>\n",
       "      <td>1</td>\n",
       "      <td>Gamma-Butyrolactone</td>\n",
       "    </tr>\n",
       "    <tr>\n",
       "      <th>24</th>\n",
       "      <td>2.0</td>\n",
       "      <td>16.0</td>\n",
       "      <td>0.0</td>\n",
       "      <td>35.09</td>\n",
       "      <td>0.0</td>\n",
       "      <td>0.0</td>\n",
       "      <td>1.0</td>\n",
       "      <td>0.0</td>\n",
       "      <td>4.0</td>\n",
       "      <td>0.0</td>\n",
       "      <td>...</td>\n",
       "      <td>1.0</td>\n",
       "      <td>0.0</td>\n",
       "      <td>0.491659</td>\n",
       "      <td>1.419390</td>\n",
       "      <td>3.007598</td>\n",
       "      <td>0.0</td>\n",
       "      <td>0</td>\n",
       "      <td>0</td>\n",
       "      <td>1</td>\n",
       "      <td>Gamma-Butyrolactone</td>\n",
       "    </tr>\n",
       "    <tr>\n",
       "      <th>36</th>\n",
       "      <td>2.0</td>\n",
       "      <td>16.0</td>\n",
       "      <td>0.0</td>\n",
       "      <td>35.09</td>\n",
       "      <td>0.0</td>\n",
       "      <td>0.0</td>\n",
       "      <td>1.0</td>\n",
       "      <td>0.0</td>\n",
       "      <td>4.0</td>\n",
       "      <td>0.0</td>\n",
       "      <td>...</td>\n",
       "      <td>1.0</td>\n",
       "      <td>0.0</td>\n",
       "      <td>0.216236</td>\n",
       "      <td>0.631936</td>\n",
       "      <td>4.194307</td>\n",
       "      <td>0.0</td>\n",
       "      <td>0</td>\n",
       "      <td>0</td>\n",
       "      <td>1</td>\n",
       "      <td>Gamma-Butyrolactone</td>\n",
       "    </tr>\n",
       "    <tr>\n",
       "      <th>...</th>\n",
       "      <td>...</td>\n",
       "      <td>...</td>\n",
       "      <td>...</td>\n",
       "      <td>...</td>\n",
       "      <td>...</td>\n",
       "      <td>...</td>\n",
       "      <td>...</td>\n",
       "      <td>...</td>\n",
       "      <td>...</td>\n",
       "      <td>...</td>\n",
       "      <td>...</td>\n",
       "      <td>...</td>\n",
       "      <td>...</td>\n",
       "      <td>...</td>\n",
       "      <td>...</td>\n",
       "      <td>...</td>\n",
       "      <td>...</td>\n",
       "      <td>...</td>\n",
       "      <td>...</td>\n",
       "      <td>...</td>\n",
       "      <td>...</td>\n",
       "    </tr>\n",
       "    <tr>\n",
       "      <th>7490</th>\n",
       "      <td>3.0</td>\n",
       "      <td>19.0</td>\n",
       "      <td>0.0</td>\n",
       "      <td>49.96</td>\n",
       "      <td>0.0</td>\n",
       "      <td>0.0</td>\n",
       "      <td>2.0</td>\n",
       "      <td>0.0</td>\n",
       "      <td>4.0</td>\n",
       "      <td>0.0</td>\n",
       "      <td>...</td>\n",
       "      <td>2.0</td>\n",
       "      <td>0.0</td>\n",
       "      <td>0.288151</td>\n",
       "      <td>0.499751</td>\n",
       "      <td>8.110363</td>\n",
       "      <td>0.0</td>\n",
       "      <td>0</td>\n",
       "      <td>1</td>\n",
       "      <td>0</td>\n",
       "      <td>Dimethylformamide</td>\n",
       "    </tr>\n",
       "    <tr>\n",
       "      <th>7504</th>\n",
       "      <td>3.0</td>\n",
       "      <td>19.0</td>\n",
       "      <td>0.0</td>\n",
       "      <td>49.96</td>\n",
       "      <td>0.0</td>\n",
       "      <td>0.0</td>\n",
       "      <td>2.0</td>\n",
       "      <td>0.0</td>\n",
       "      <td>4.0</td>\n",
       "      <td>0.0</td>\n",
       "      <td>...</td>\n",
       "      <td>2.0</td>\n",
       "      <td>0.0</td>\n",
       "      <td>0.642470</td>\n",
       "      <td>1.286300</td>\n",
       "      <td>0.265045</td>\n",
       "      <td>0.0</td>\n",
       "      <td>0</td>\n",
       "      <td>1</td>\n",
       "      <td>0</td>\n",
       "      <td>Dimethylformamide</td>\n",
       "    </tr>\n",
       "    <tr>\n",
       "      <th>7514</th>\n",
       "      <td>3.0</td>\n",
       "      <td>19.0</td>\n",
       "      <td>0.0</td>\n",
       "      <td>49.96</td>\n",
       "      <td>0.0</td>\n",
       "      <td>0.0</td>\n",
       "      <td>2.0</td>\n",
       "      <td>0.0</td>\n",
       "      <td>4.0</td>\n",
       "      <td>0.0</td>\n",
       "      <td>...</td>\n",
       "      <td>2.0</td>\n",
       "      <td>0.0</td>\n",
       "      <td>0.149412</td>\n",
       "      <td>0.442770</td>\n",
       "      <td>1.007169</td>\n",
       "      <td>0.0</td>\n",
       "      <td>0</td>\n",
       "      <td>1</td>\n",
       "      <td>0</td>\n",
       "      <td>Dimethylformamide</td>\n",
       "    </tr>\n",
       "    <tr>\n",
       "      <th>7515</th>\n",
       "      <td>3.0</td>\n",
       "      <td>19.0</td>\n",
       "      <td>0.0</td>\n",
       "      <td>49.96</td>\n",
       "      <td>0.0</td>\n",
       "      <td>0.0</td>\n",
       "      <td>2.0</td>\n",
       "      <td>0.0</td>\n",
       "      <td>4.0</td>\n",
       "      <td>0.0</td>\n",
       "      <td>...</td>\n",
       "      <td>2.0</td>\n",
       "      <td>0.0</td>\n",
       "      <td>0.434559</td>\n",
       "      <td>0.728326</td>\n",
       "      <td>1.851609</td>\n",
       "      <td>0.0</td>\n",
       "      <td>0</td>\n",
       "      <td>1</td>\n",
       "      <td>0</td>\n",
       "      <td>Dimethylformamide</td>\n",
       "    </tr>\n",
       "    <tr>\n",
       "      <th>7520</th>\n",
       "      <td>3.0</td>\n",
       "      <td>19.0</td>\n",
       "      <td>0.0</td>\n",
       "      <td>49.96</td>\n",
       "      <td>0.0</td>\n",
       "      <td>0.0</td>\n",
       "      <td>2.0</td>\n",
       "      <td>0.0</td>\n",
       "      <td>4.0</td>\n",
       "      <td>0.0</td>\n",
       "      <td>...</td>\n",
       "      <td>2.0</td>\n",
       "      <td>0.0</td>\n",
       "      <td>0.207042</td>\n",
       "      <td>1.261414</td>\n",
       "      <td>2.650445</td>\n",
       "      <td>0.0</td>\n",
       "      <td>0</td>\n",
       "      <td>1</td>\n",
       "      <td>0</td>\n",
       "      <td>Dimethylformamide</td>\n",
       "    </tr>\n",
       "  </tbody>\n",
       "</table>\n",
       "<p>1500 rows × 65 columns</p>\n",
       "</div>"
      ],
      "text/plain": [
       "      _feat_WienerPolarity  _feat_BondCount  _feat_fr_NH0  _feat_Refractivity  \\\n",
       "2                      2.0             16.0           0.0               35.09   \n",
       "10                     2.0             16.0           0.0               35.09   \n",
       "14                     2.0             16.0           0.0               35.09   \n",
       "24                     2.0             16.0           0.0               35.09   \n",
       "36                     2.0             16.0           0.0               35.09   \n",
       "...                    ...              ...           ...                 ...   \n",
       "7490                   3.0             19.0           0.0               49.96   \n",
       "7504                   3.0             19.0           0.0               49.96   \n",
       "7514                   3.0             19.0           0.0               49.96   \n",
       "7515                   3.0             19.0           0.0               49.96   \n",
       "7520                   3.0             19.0           0.0               49.96   \n",
       "\n",
       "      _feat_LargestRingSize  _feat_HeteroaliphaticRingCount  _feat_fr_quatN  \\\n",
       "2                       0.0                             0.0             1.0   \n",
       "10                      0.0                             0.0             1.0   \n",
       "14                      0.0                             0.0             1.0   \n",
       "24                      0.0                             0.0             1.0   \n",
       "36                      0.0                             0.0             1.0   \n",
       "...                     ...                             ...             ...   \n",
       "7490                    0.0                             0.0             2.0   \n",
       "7504                    0.0                             0.0             2.0   \n",
       "7514                    0.0                             0.0             2.0   \n",
       "7515                    0.0                             0.0             2.0   \n",
       "7520                    0.0                             0.0             2.0   \n",
       "\n",
       "      _feat_AromaticAtomCount  _feat_AtomCount_C  _feat_fr_amidine  ...  \\\n",
       "2                         0.0                4.0               0.0  ...   \n",
       "10                        0.0                4.0               0.0  ...   \n",
       "14                        0.0                4.0               0.0  ...   \n",
       "24                        0.0                4.0               0.0  ...   \n",
       "36                        0.0                4.0               0.0  ...   \n",
       "...                       ...                ...               ...  ...   \n",
       "7490                      0.0                4.0               0.0  ...   \n",
       "7504                      0.0                4.0               0.0  ...   \n",
       "7514                      0.0                4.0               0.0  ...   \n",
       "7515                      0.0                4.0               0.0  ...   \n",
       "7520                      0.0                4.0               0.0  ...   \n",
       "\n",
       "      _feat_Hdonorcount  _feat_fr_pyridine  _rxn_M_inorganic  _rxn_M_organic  \\\n",
       "2                   1.0                0.0          0.916561        0.891593   \n",
       "10                  1.0                0.0          1.053470        0.926432   \n",
       "14                  1.0                0.0          0.849390        0.756310   \n",
       "24                  1.0                0.0          0.491659        1.419390   \n",
       "36                  1.0                0.0          0.216236        0.631936   \n",
       "...                 ...                ...               ...             ...   \n",
       "7490                2.0                0.0          0.288151        0.499751   \n",
       "7504                2.0                0.0          0.642470        1.286300   \n",
       "7514                2.0                0.0          0.149412        0.442770   \n",
       "7515                2.0                0.0          0.434559        0.728326   \n",
       "7520                2.0                0.0          0.207042        1.261414   \n",
       "\n",
       "      _rxn_M_acid  _out_crystalscore  solvent_Dimethyl sulfoxide  \\\n",
       "2        2.583467                1.0                           0   \n",
       "10       1.547341                0.0                           0   \n",
       "14       2.583467                0.0                           0   \n",
       "24       3.007598                0.0                           0   \n",
       "36       4.194307                0.0                           0   \n",
       "...           ...                ...                         ...   \n",
       "7490     8.110363                0.0                           0   \n",
       "7504     0.265045                0.0                           0   \n",
       "7514     1.007169                0.0                           0   \n",
       "7515     1.851609                0.0                           0   \n",
       "7520     2.650445                0.0                           0   \n",
       "\n",
       "      solvent_Dimethylformamide  solvent_Gamma-Butyrolactone  \\\n",
       "2                             0                            1   \n",
       "10                            0                            1   \n",
       "14                            0                            1   \n",
       "24                            0                            1   \n",
       "36                            0                            1   \n",
       "...                         ...                          ...   \n",
       "7490                          1                            0   \n",
       "7504                          1                            0   \n",
       "7514                          1                            0   \n",
       "7515                          1                            0   \n",
       "7520                          1                            0   \n",
       "\n",
       "                  solvent  \n",
       "2     Gamma-Butyrolactone  \n",
       "10    Gamma-Butyrolactone  \n",
       "14    Gamma-Butyrolactone  \n",
       "24    Gamma-Butyrolactone  \n",
       "36    Gamma-Butyrolactone  \n",
       "...                   ...  \n",
       "7490    Dimethylformamide  \n",
       "7504    Dimethylformamide  \n",
       "7514    Dimethylformamide  \n",
       "7515    Dimethylformamide  \n",
       "7520    Dimethylformamide  \n",
       "\n",
       "[1500 rows x 65 columns]"
      ]
     },
     "execution_count": 74,
     "metadata": {},
     "output_type": "execute_result"
    }
   ],
   "source": [
    "EVAL_MULTISOLVENT"
   ]
  },
  {
   "cell_type": "markdown",
   "id": "b54db08f",
   "metadata": {},
   "source": [
    "Generate train dataset merging train samples from all solvent"
   ]
  },
  {
   "cell_type": "code",
   "execution_count": 72,
   "id": "fbabaec3",
   "metadata": {},
   "outputs": [],
   "source": [
    "df_solvent_full_train = pd.concat([data for solvent, data in df_solvent_samples_train.items()],\n",
    "                                  axis=0).reset_index(drop=True)"
   ]
  },
  {
   "cell_type": "code",
   "execution_count": 1245,
   "id": "ca71b081",
   "metadata": {},
   "outputs": [],
   "source": [
    "df_solvent_full_train = df_solvent_full_train.drop(['solvent'], axis=1)"
   ]
  },
  {
   "cell_type": "code",
   "execution_count": 1246,
   "id": "2d54bb2f",
   "metadata": {},
   "outputs": [],
   "source": [
    "df_solvent_full_train.to_csv(\"data/solvent-experiment/encoded-solvent-training_%s.csv\" % \\\n",
    "                             (SEED),\n",
    "                             index=None)"
   ]
  },
  {
   "cell_type": "code",
   "execution_count": 11,
   "id": "cc1953c6",
   "metadata": {},
   "outputs": [],
   "source": [
    "df_solvent_full_train = pd.read_csv(\"data/solvent-experiment/encoded-solvent-training_%s.csv\" % \\\n",
    "                             (SEED))"
   ]
  },
  {
   "cell_type": "code",
   "execution_count": 62,
   "id": "d57321e7-71e8-4381-8486-724bbd96b53b",
   "metadata": {},
   "outputs": [],
   "source": [
    "# Experiments 1\n",
    "# test in a MULTISOLVENT sample (encoded)\n",
    "# test in same sample but without encoded solvent feature\n",
    "\n",
    "ALGORITHMS = ['gbc', 'rf']\n",
    "\n",
    "for ALGORITH in ALGORITHMS:\n",
    "    results_experiment_1 = proof_concept(models[ALGORITHM], df_solvent_full_train, EVAL_MULTISOLVENT_sin_sv)\n",
    "\n",
    "    results_experiment_s_sv = exp_drop_solvent(models[ALGORITHM], df_solvent_full_train, EVAL_MULTISOLVENT_sin_sv)\n",
    "\n",
    "    report_multisv =  pd.DataFrame(results_experiment_1).transpose()\n",
    "    report_no_sol =  pd.DataFrame(results_experiment_s_sv).transpose()\n",
    "    \n",
    "    report_multisv.to_csv(\"results_exp_1/eval_multisolvente_encoded_%s_%s.csv\" % (SEED, ALGORITH), index=None)\n",
    "\n",
    "    report_no_sol.to_csv(\"results_exp_1/eval_no_solvent_%s_%s.csv\" % (SEED, ALGORITH), index=None)"
   ]
  },
  {
   "cell_type": "code",
   "execution_count": 53,
   "id": "7e8c4d74",
   "metadata": {},
   "outputs": [],
   "source": [
    "def exp_drop_solvent(model_name, df_train, df_test, model_config = {}):\n",
    "    drop_cols = ['solvent_Dimethyl sulfoxide', \n",
    "                 'solvent_Dimethylformamide',\n",
    "                 'solvent_Gamma-Butyrolactone']\n",
    "    df_train = df_train.drop(drop_cols, axis=1)\n",
    "    df_test = df_test.drop(drop_cols, axis=1)\n",
    "    return proof_concept(model_name, df_train, df_test)"
   ]
  },
  {
   "cell_type": "code",
   "execution_count": 70,
   "id": "b1719ff0-2b4f-4fe5-9bb7-eb777bae117a",
   "metadata": {},
   "outputs": [
    {
     "data": {
      "text/html": [
       "<div>\n",
       "<style scoped>\n",
       "    .dataframe tbody tr th:only-of-type {\n",
       "        vertical-align: middle;\n",
       "    }\n",
       "\n",
       "    .dataframe tbody tr th {\n",
       "        vertical-align: top;\n",
       "    }\n",
       "\n",
       "    .dataframe thead th {\n",
       "        text-align: right;\n",
       "    }\n",
       "</style>\n",
       "<table border=\"1\" class=\"dataframe\">\n",
       "  <thead>\n",
       "    <tr style=\"text-align: right;\">\n",
       "      <th></th>\n",
       "      <th>_feat_WienerPolarity</th>\n",
       "      <th>_feat_BondCount</th>\n",
       "      <th>_feat_fr_NH0</th>\n",
       "      <th>_feat_Refractivity</th>\n",
       "      <th>_feat_LargestRingSize</th>\n",
       "      <th>_feat_HeteroaliphaticRingCount</th>\n",
       "      <th>_feat_fr_quatN</th>\n",
       "      <th>_feat_AromaticAtomCount</th>\n",
       "      <th>_feat_AtomCount_C</th>\n",
       "      <th>_feat_fr_amidine</th>\n",
       "      <th>...</th>\n",
       "      <th>_feat_MaximalProjectionRadius</th>\n",
       "      <th>_feat_Hdonorcount</th>\n",
       "      <th>_feat_fr_pyridine</th>\n",
       "      <th>_rxn_M_inorganic</th>\n",
       "      <th>_rxn_M_organic</th>\n",
       "      <th>_rxn_M_acid</th>\n",
       "      <th>_out_crystalscore</th>\n",
       "      <th>solvent_Dimethyl sulfoxide</th>\n",
       "      <th>solvent_Dimethylformamide</th>\n",
       "      <th>solvent_Gamma-Butyrolactone</th>\n",
       "    </tr>\n",
       "  </thead>\n",
       "  <tbody>\n",
       "    <tr>\n",
       "      <th>0</th>\n",
       "      <td>2.0</td>\n",
       "      <td>16.0</td>\n",
       "      <td>0.0</td>\n",
       "      <td>35.09</td>\n",
       "      <td>0.0</td>\n",
       "      <td>0.0</td>\n",
       "      <td>1.0</td>\n",
       "      <td>0.0</td>\n",
       "      <td>4.0</td>\n",
       "      <td>0.0</td>\n",
       "      <td>...</td>\n",
       "      <td>4.57</td>\n",
       "      <td>1.0</td>\n",
       "      <td>0.0</td>\n",
       "      <td>0.548189</td>\n",
       "      <td>1.330881</td>\n",
       "      <td>4.461583</td>\n",
       "      <td>0.0</td>\n",
       "      <td>0</td>\n",
       "      <td>0</td>\n",
       "      <td>1</td>\n",
       "    </tr>\n",
       "    <tr>\n",
       "      <th>1</th>\n",
       "      <td>2.0</td>\n",
       "      <td>16.0</td>\n",
       "      <td>0.0</td>\n",
       "      <td>35.09</td>\n",
       "      <td>0.0</td>\n",
       "      <td>0.0</td>\n",
       "      <td>1.0</td>\n",
       "      <td>0.0</td>\n",
       "      <td>4.0</td>\n",
       "      <td>0.0</td>\n",
       "      <td>...</td>\n",
       "      <td>4.57</td>\n",
       "      <td>1.0</td>\n",
       "      <td>0.0</td>\n",
       "      <td>0.449406</td>\n",
       "      <td>1.239565</td>\n",
       "      <td>4.454159</td>\n",
       "      <td>0.0</td>\n",
       "      <td>0</td>\n",
       "      <td>0</td>\n",
       "      <td>1</td>\n",
       "    </tr>\n",
       "    <tr>\n",
       "      <th>2</th>\n",
       "      <td>2.0</td>\n",
       "      <td>16.0</td>\n",
       "      <td>0.0</td>\n",
       "      <td>35.09</td>\n",
       "      <td>0.0</td>\n",
       "      <td>0.0</td>\n",
       "      <td>1.0</td>\n",
       "      <td>0.0</td>\n",
       "      <td>4.0</td>\n",
       "      <td>0.0</td>\n",
       "      <td>...</td>\n",
       "      <td>4.57</td>\n",
       "      <td>1.0</td>\n",
       "      <td>0.0</td>\n",
       "      <td>0.601135</td>\n",
       "      <td>0.741849</td>\n",
       "      <td>6.021877</td>\n",
       "      <td>0.0</td>\n",
       "      <td>0</td>\n",
       "      <td>0</td>\n",
       "      <td>1</td>\n",
       "    </tr>\n",
       "    <tr>\n",
       "      <th>3</th>\n",
       "      <td>2.0</td>\n",
       "      <td>16.0</td>\n",
       "      <td>0.0</td>\n",
       "      <td>35.09</td>\n",
       "      <td>0.0</td>\n",
       "      <td>0.0</td>\n",
       "      <td>1.0</td>\n",
       "      <td>0.0</td>\n",
       "      <td>4.0</td>\n",
       "      <td>0.0</td>\n",
       "      <td>...</td>\n",
       "      <td>4.57</td>\n",
       "      <td>1.0</td>\n",
       "      <td>0.0</td>\n",
       "      <td>0.252087</td>\n",
       "      <td>0.805647</td>\n",
       "      <td>4.417409</td>\n",
       "      <td>0.0</td>\n",
       "      <td>0</td>\n",
       "      <td>0</td>\n",
       "      <td>1</td>\n",
       "    </tr>\n",
       "    <tr>\n",
       "      <th>4</th>\n",
       "      <td>2.0</td>\n",
       "      <td>16.0</td>\n",
       "      <td>0.0</td>\n",
       "      <td>35.09</td>\n",
       "      <td>0.0</td>\n",
       "      <td>0.0</td>\n",
       "      <td>1.0</td>\n",
       "      <td>0.0</td>\n",
       "      <td>4.0</td>\n",
       "      <td>0.0</td>\n",
       "      <td>...</td>\n",
       "      <td>4.57</td>\n",
       "      <td>1.0</td>\n",
       "      <td>0.0</td>\n",
       "      <td>0.239683</td>\n",
       "      <td>0.555402</td>\n",
       "      <td>4.410059</td>\n",
       "      <td>0.0</td>\n",
       "      <td>0</td>\n",
       "      <td>0</td>\n",
       "      <td>1</td>\n",
       "    </tr>\n",
       "    <tr>\n",
       "      <th>...</th>\n",
       "      <td>...</td>\n",
       "      <td>...</td>\n",
       "      <td>...</td>\n",
       "      <td>...</td>\n",
       "      <td>...</td>\n",
       "      <td>...</td>\n",
       "      <td>...</td>\n",
       "      <td>...</td>\n",
       "      <td>...</td>\n",
       "      <td>...</td>\n",
       "      <td>...</td>\n",
       "      <td>...</td>\n",
       "      <td>...</td>\n",
       "      <td>...</td>\n",
       "      <td>...</td>\n",
       "      <td>...</td>\n",
       "      <td>...</td>\n",
       "      <td>...</td>\n",
       "      <td>...</td>\n",
       "      <td>...</td>\n",
       "      <td>...</td>\n",
       "    </tr>\n",
       "    <tr>\n",
       "      <th>6015</th>\n",
       "      <td>3.0</td>\n",
       "      <td>19.0</td>\n",
       "      <td>0.0</td>\n",
       "      <td>49.96</td>\n",
       "      <td>0.0</td>\n",
       "      <td>0.0</td>\n",
       "      <td>2.0</td>\n",
       "      <td>0.0</td>\n",
       "      <td>4.0</td>\n",
       "      <td>0.0</td>\n",
       "      <td>...</td>\n",
       "      <td>5.15</td>\n",
       "      <td>2.0</td>\n",
       "      <td>0.0</td>\n",
       "      <td>0.189587</td>\n",
       "      <td>0.284835</td>\n",
       "      <td>13.384485</td>\n",
       "      <td>0.0</td>\n",
       "      <td>0</td>\n",
       "      <td>1</td>\n",
       "      <td>0</td>\n",
       "    </tr>\n",
       "    <tr>\n",
       "      <th>6016</th>\n",
       "      <td>3.0</td>\n",
       "      <td>19.0</td>\n",
       "      <td>0.0</td>\n",
       "      <td>49.96</td>\n",
       "      <td>0.0</td>\n",
       "      <td>0.0</td>\n",
       "      <td>2.0</td>\n",
       "      <td>0.0</td>\n",
       "      <td>4.0</td>\n",
       "      <td>0.0</td>\n",
       "      <td>...</td>\n",
       "      <td>5.15</td>\n",
       "      <td>2.0</td>\n",
       "      <td>0.0</td>\n",
       "      <td>0.362857</td>\n",
       "      <td>0.983597</td>\n",
       "      <td>2.915490</td>\n",
       "      <td>0.0</td>\n",
       "      <td>0</td>\n",
       "      <td>1</td>\n",
       "      <td>0</td>\n",
       "    </tr>\n",
       "    <tr>\n",
       "      <th>6017</th>\n",
       "      <td>3.0</td>\n",
       "      <td>19.0</td>\n",
       "      <td>0.0</td>\n",
       "      <td>49.96</td>\n",
       "      <td>0.0</td>\n",
       "      <td>0.0</td>\n",
       "      <td>2.0</td>\n",
       "      <td>0.0</td>\n",
       "      <td>4.0</td>\n",
       "      <td>0.0</td>\n",
       "      <td>...</td>\n",
       "      <td>5.15</td>\n",
       "      <td>2.0</td>\n",
       "      <td>0.0</td>\n",
       "      <td>0.010672</td>\n",
       "      <td>0.508771</td>\n",
       "      <td>11.927004</td>\n",
       "      <td>0.0</td>\n",
       "      <td>0</td>\n",
       "      <td>1</td>\n",
       "      <td>0</td>\n",
       "    </tr>\n",
       "    <tr>\n",
       "      <th>6018</th>\n",
       "      <td>3.0</td>\n",
       "      <td>19.0</td>\n",
       "      <td>0.0</td>\n",
       "      <td>49.96</td>\n",
       "      <td>0.0</td>\n",
       "      <td>0.0</td>\n",
       "      <td>2.0</td>\n",
       "      <td>0.0</td>\n",
       "      <td>4.0</td>\n",
       "      <td>0.0</td>\n",
       "      <td>...</td>\n",
       "      <td>5.15</td>\n",
       "      <td>2.0</td>\n",
       "      <td>0.0</td>\n",
       "      <td>0.108857</td>\n",
       "      <td>0.987078</td>\n",
       "      <td>1.961330</td>\n",
       "      <td>0.0</td>\n",
       "      <td>0</td>\n",
       "      <td>1</td>\n",
       "      <td>0</td>\n",
       "    </tr>\n",
       "    <tr>\n",
       "      <th>6019</th>\n",
       "      <td>3.0</td>\n",
       "      <td>19.0</td>\n",
       "      <td>0.0</td>\n",
       "      <td>49.96</td>\n",
       "      <td>0.0</td>\n",
       "      <td>0.0</td>\n",
       "      <td>2.0</td>\n",
       "      <td>0.0</td>\n",
       "      <td>4.0</td>\n",
       "      <td>0.0</td>\n",
       "      <td>...</td>\n",
       "      <td>5.15</td>\n",
       "      <td>2.0</td>\n",
       "      <td>0.0</td>\n",
       "      <td>0.382067</td>\n",
       "      <td>0.639569</td>\n",
       "      <td>7.792309</td>\n",
       "      <td>0.0</td>\n",
       "      <td>0</td>\n",
       "      <td>1</td>\n",
       "      <td>0</td>\n",
       "    </tr>\n",
       "  </tbody>\n",
       "</table>\n",
       "<p>6020 rows × 64 columns</p>\n",
       "</div>"
      ],
      "text/plain": [
       "      _feat_WienerPolarity  _feat_BondCount  _feat_fr_NH0  _feat_Refractivity  \\\n",
       "0                      2.0             16.0           0.0               35.09   \n",
       "1                      2.0             16.0           0.0               35.09   \n",
       "2                      2.0             16.0           0.0               35.09   \n",
       "3                      2.0             16.0           0.0               35.09   \n",
       "4                      2.0             16.0           0.0               35.09   \n",
       "...                    ...              ...           ...                 ...   \n",
       "6015                   3.0             19.0           0.0               49.96   \n",
       "6016                   3.0             19.0           0.0               49.96   \n",
       "6017                   3.0             19.0           0.0               49.96   \n",
       "6018                   3.0             19.0           0.0               49.96   \n",
       "6019                   3.0             19.0           0.0               49.96   \n",
       "\n",
       "      _feat_LargestRingSize  _feat_HeteroaliphaticRingCount  _feat_fr_quatN  \\\n",
       "0                       0.0                             0.0             1.0   \n",
       "1                       0.0                             0.0             1.0   \n",
       "2                       0.0                             0.0             1.0   \n",
       "3                       0.0                             0.0             1.0   \n",
       "4                       0.0                             0.0             1.0   \n",
       "...                     ...                             ...             ...   \n",
       "6015                    0.0                             0.0             2.0   \n",
       "6016                    0.0                             0.0             2.0   \n",
       "6017                    0.0                             0.0             2.0   \n",
       "6018                    0.0                             0.0             2.0   \n",
       "6019                    0.0                             0.0             2.0   \n",
       "\n",
       "      _feat_AromaticAtomCount  _feat_AtomCount_C  _feat_fr_amidine  ...  \\\n",
       "0                         0.0                4.0               0.0  ...   \n",
       "1                         0.0                4.0               0.0  ...   \n",
       "2                         0.0                4.0               0.0  ...   \n",
       "3                         0.0                4.0               0.0  ...   \n",
       "4                         0.0                4.0               0.0  ...   \n",
       "...                       ...                ...               ...  ...   \n",
       "6015                      0.0                4.0               0.0  ...   \n",
       "6016                      0.0                4.0               0.0  ...   \n",
       "6017                      0.0                4.0               0.0  ...   \n",
       "6018                      0.0                4.0               0.0  ...   \n",
       "6019                      0.0                4.0               0.0  ...   \n",
       "\n",
       "      _feat_MaximalProjectionRadius  _feat_Hdonorcount  _feat_fr_pyridine  \\\n",
       "0                              4.57                1.0                0.0   \n",
       "1                              4.57                1.0                0.0   \n",
       "2                              4.57                1.0                0.0   \n",
       "3                              4.57                1.0                0.0   \n",
       "4                              4.57                1.0                0.0   \n",
       "...                             ...                ...                ...   \n",
       "6015                           5.15                2.0                0.0   \n",
       "6016                           5.15                2.0                0.0   \n",
       "6017                           5.15                2.0                0.0   \n",
       "6018                           5.15                2.0                0.0   \n",
       "6019                           5.15                2.0                0.0   \n",
       "\n",
       "      _rxn_M_inorganic  _rxn_M_organic  _rxn_M_acid  _out_crystalscore  \\\n",
       "0             0.548189        1.330881     4.461583                0.0   \n",
       "1             0.449406        1.239565     4.454159                0.0   \n",
       "2             0.601135        0.741849     6.021877                0.0   \n",
       "3             0.252087        0.805647     4.417409                0.0   \n",
       "4             0.239683        0.555402     4.410059                0.0   \n",
       "...                ...             ...          ...                ...   \n",
       "6015          0.189587        0.284835    13.384485                0.0   \n",
       "6016          0.362857        0.983597     2.915490                0.0   \n",
       "6017          0.010672        0.508771    11.927004                0.0   \n",
       "6018          0.108857        0.987078     1.961330                0.0   \n",
       "6019          0.382067        0.639569     7.792309                0.0   \n",
       "\n",
       "      solvent_Dimethyl sulfoxide  solvent_Dimethylformamide  \\\n",
       "0                              0                          0   \n",
       "1                              0                          0   \n",
       "2                              0                          0   \n",
       "3                              0                          0   \n",
       "4                              0                          0   \n",
       "...                          ...                        ...   \n",
       "6015                           0                          1   \n",
       "6016                           0                          1   \n",
       "6017                           0                          1   \n",
       "6018                           0                          1   \n",
       "6019                           0                          1   \n",
       "\n",
       "      solvent_Gamma-Butyrolactone  \n",
       "0                               1  \n",
       "1                               1  \n",
       "2                               1  \n",
       "3                               1  \n",
       "4                               1  \n",
       "...                           ...  \n",
       "6015                            0  \n",
       "6016                            0  \n",
       "6017                            0  \n",
       "6018                            0  \n",
       "6019                            0  \n",
       "\n",
       "[6020 rows x 64 columns]"
      ]
     },
     "execution_count": 70,
     "metadata": {},
     "output_type": "execute_result"
    }
   ],
   "source": [
    "df_solvent_full_train"
   ]
  },
  {
   "cell_type": "code",
   "execution_count": 76,
   "id": "81555741-f4f5-44fe-834a-e3131b9e1952",
   "metadata": {},
   "outputs": [
    {
     "data": {
      "text/plain": [
       "['Gamma-Butyrolactone', 'Dimethyl sulfoxide', 'Dimethylformamide']"
      ]
     },
     "execution_count": 76,
     "metadata": {},
     "output_type": "execute_result"
    }
   ],
   "source": [
    "solvents"
   ]
  },
  {
   "cell_type": "code",
   "execution_count": 91,
   "id": "087a426d-a74b-410b-b7c5-e52841d34074",
   "metadata": {},
   "outputs": [
    {
     "name": "stderr",
     "output_type": "stream",
     "text": [
      "/Users/mticona/.local/share/virtualenvs/licentiate-thesis-repo-_Hfi4eev/lib/python3.9/site-packages/sklearn/metrics/_classification.py:1327: UndefinedMetricWarning: Precision and F-score are ill-defined and being set to 0.0 in labels with no predicted samples. Use `zero_division` parameter to control this behavior.\n",
      "  _warn_prf(average, modifier, msg_start, len(result))\n",
      "/Users/mticona/.local/share/virtualenvs/licentiate-thesis-repo-_Hfi4eev/lib/python3.9/site-packages/sklearn/metrics/_classification.py:1327: UndefinedMetricWarning: Precision and F-score are ill-defined and being set to 0.0 in labels with no predicted samples. Use `zero_division` parameter to control this behavior.\n",
      "  _warn_prf(average, modifier, msg_start, len(result))\n",
      "/Users/mticona/.local/share/virtualenvs/licentiate-thesis-repo-_Hfi4eev/lib/python3.9/site-packages/sklearn/metrics/_classification.py:1327: UndefinedMetricWarning: Precision and F-score are ill-defined and being set to 0.0 in labels with no predicted samples. Use `zero_division` parameter to control this behavior.\n",
      "  _warn_prf(average, modifier, msg_start, len(result))\n"
     ]
    }
   ],
   "source": [
    "# Experimento 2\n",
    "for solvent in solvents:\n",
    "    drop_cols = ['solvent_Dimethyl sulfoxide', \n",
    "                 'solvent_Dimethylformamide',\n",
    "                 'solvent_Gamma-Butyrolactone',\n",
    "                'solvent']\n",
    "    \n",
    "    df_train_sv = df_solvent_full_train[df_solvent_full_train.solvent == solvent].drop(drop_cols, axis=1)\n",
    "    \n",
    "    df_test_sv = EVAL_MULTISOLVENT[EVAL_MULTISOLVENT.solvent == solvent].drop(drop_cols, axis=1)\n",
    "    \n",
    "    df_test_sv_encoded = EVAL_MULTISOLVENT[EVAL_MULTISOLVENT.solvent == solvent].drop('solvent', axis=1)\n",
    "    df_train_sv_encoded = df_solvent_full_train.drop('solvent', axis=1)\n",
    "    \n",
    "    # modelo específico por solvente\n",
    "    report_sv = proof_concept(models[ALGORITHM], df_train_sv, df_test_sv)\n",
    "    \n",
    "    # misma muestra en modelo multisolvente\n",
    "    report_multisv = proof_concept(models[ALGORITHM], df_train_sv_encoded, df_test_sv_encoded)\n",
    "    \n",
    "    report_sv.to_csv('results_exp_2/model_per_solv_%s_%s.csv' % (SEED, solvent), index=None)\n",
    "    report_multisv.to_csv('results_exp_2/sample_%s_%s_in_multisolvent.csv' % (SEED, solvent), index=None)"
   ]
  },
  {
   "cell_type": "code",
   "execution_count": 1249,
   "id": "a1f6a8e6",
   "metadata": {},
   "outputs": [],
   "source": [
    "## Experiment solvent dropped\n",
    "\n",
    "# Data from each solvent evaluated in model trained on multisolvent data witout sv feature\n",
    "# SIN_SOLV model\n",
    "df_solvent_report = {solvent: exp_drop_solvent(models[ALGORITHM], df_solvent_full_train, df_test) \\\n",
    "                        for solvent, df_test in df_solvent_samples_test.items() }"
   ]
  },
  {
   "cell_type": "code",
   "execution_count": null,
   "id": "cd3ffe8c-3db3-4d72-9e1a-0d4190f37d0d",
   "metadata": {},
   "outputs": [],
   "source": []
  },
  {
   "cell_type": "code",
   "execution_count": 1250,
   "id": "198a524f",
   "metadata": {},
   "outputs": [],
   "source": [
    "for solvent in solvents:\n",
    "    report =  pd.DataFrame(df_solvent_report[solvent]).transpose()\n",
    "    report.to_csv('results3/solvent-dropped_%s_%s_%s.csv' % (solvent, ALGORITHM, SEED), index=None)"
   ]
  },
  {
   "cell_type": "code",
   "execution_count": null,
   "id": "5aa68926",
   "metadata": {},
   "outputs": [],
   "source": []
  },
  {
   "cell_type": "code",
   "execution_count": null,
   "id": "ff028940",
   "metadata": {},
   "outputs": [],
   "source": []
  },
  {
   "cell_type": "code",
   "execution_count": null,
   "id": "19a030b9",
   "metadata": {},
   "outputs": [],
   "source": []
  },
  {
   "cell_type": "code",
   "execution_count": 1057,
   "id": "3671d2c6",
   "metadata": {},
   "outputs": [],
   "source": [
    "## Experiment solvent encoded\n",
    "df_solvent_report = {solvent: proof_concept(models[ALGORITHM], df_solvent_full_train, df_test) \\\n",
    "                        for solvent, df_test in df_solvent_samples_test.items() }\n",
    "\n",
    "for solvent in solvents:\n",
    "    report =  pd.DataFrame(df_solvent_report[solvent]).transpose()\n",
    "    report.to_csv('results2/solvent-encoded_%s_%s_%s.csv' % (solvent, ALGORITHM, SEED), index=None)"
   ]
  },
  {
   "cell_type": "markdown",
   "id": "2c042c51",
   "metadata": {},
   "source": [
    "Features importances only computed for RandomForest"
   ]
  },
  {
   "cell_type": "code",
   "execution_count": 1058,
   "id": "48d7e176",
   "metadata": {},
   "outputs": [
    {
     "data": {
      "text/plain": [
       "'rf'"
      ]
     },
     "execution_count": 1058,
     "metadata": {},
     "output_type": "execute_result"
    }
   ],
   "source": [
    "ALGORITHM"
   ]
  },
  {
   "cell_type": "code",
   "execution_count": 1059,
   "id": "e729ff71",
   "metadata": {},
   "outputs": [],
   "source": [
    "df_solvent_models = {solvent: proof_concept_model(models[ALGORITHM], df_solvent_full_train, df_test) \\\n",
    "                        for solvent, df_test in df_solvent_samples_test.items() }"
   ]
  },
  {
   "cell_type": "markdown",
   "id": "6b0d6561",
   "metadata": {},
   "source": [
    "model_cols = list(df_solvent_full_train.columns)\n",
    "model_cols.remove(TARGET_COL)"
   ]
  },
  {
   "cell_type": "markdown",
   "id": "22692c0a",
   "metadata": {},
   "source": [
    "df_importance = pd.DataFrame({\"feature\": model_cols,\n",
    "                             \"importance\": df_solvent_models['Gamma-Butyrolactone']['model'].feature_importances_})\n",
    "df_importance = df_importance.sort_values(by=\"importance\", ascending=False)"
   ]
  },
  {
   "cell_type": "code",
   "execution_count": 1060,
   "id": "d171e540",
   "metadata": {},
   "outputs": [],
   "source": [
    "#df_importance.to_csv(\"results/solvent-exp/random_forest_feat_importances.csv\", index=None)"
   ]
  },
  {
   "cell_type": "markdown",
   "id": "883c9971",
   "metadata": {},
   "source": [
    "df_importance = pd.read_csv(\"random_forest_feat_importances.csv\")"
   ]
  },
  {
   "cell_type": "code",
   "execution_count": 1061,
   "id": "6d6207d8",
   "metadata": {},
   "outputs": [],
   "source": [
    "#df_importance.reset_index().head(50)"
   ]
  },
  {
   "cell_type": "markdown",
   "id": "f3c7a9fa",
   "metadata": {},
   "source": [
    "plot_title = \"figures/feature_importances.pdf\"\n",
    "def plot_df_importances(df):\n",
    "    with plt.style.context(['science', 'bright']):\n",
    "        #sns.set_palette(sns.color_palette(color_bright))\n",
    "        fig, axes = plt.subplots(1, 1, figsize=(8,5),\n",
    "                                     constrained_layout = True)\n",
    "        ax = sns.barplot(x=\"importance\", y=\"feature\", orient=\"h\", data=df,\n",
    "                         palette=df.color, alpha=0.7)\n",
    "        #ax.set_title(\"Distribución Calidad de Cristal\")\n",
    "\n",
    "        # Remove box lines\n",
    "        sns.despine(bottom = True, left = False, trim=False)\n",
    "        ax.tick_params(which=\"both\", left=False, bottom=False, top=False, right=False)\n",
    "        #ax.xticks(fontdict={'fontsize':15})\n",
    "        #ax.tick_params(axis='both', which='both')\n",
    "        ax.set_ylabel(\"Importancia\", fontdict={'fontsize':13})\n",
    "        ax.set_xlabel(\"Variable\", fontdict={'fontsize':13}, rotation=0)\n",
    "        #ax.yaxis.set_major_formatter(FuncFormatter(lambda x, _: int(x)))\n",
    "        #plt.xticks()\n",
    "        plt.xticks(fontsize=11)\n",
    "        plt.yticks(fontsize=12)\n",
    "\n",
    "\n",
    "    #        ax.annotate(text, (x, y), ha='center', va='center', fontsize=12)\n",
    "\n",
    "        #plt.legend(title=\"Tipo de Variable\", fontsize=13)\n",
    "        plt.xlim(0,0.015)\n",
    "        fig.savefig(plot_title, dpi=300)"
   ]
  },
  {
   "cell_type": "code",
   "execution_count": 1062,
   "id": "3d2e4d33",
   "metadata": {},
   "outputs": [],
   "source": [
    "# fronteroa  de toma de posición \n",
    "# misma superficie no cambia tanto \n",
    "# por qupe tan bajo peso\n",
    "\n",
    "# combinar modelos\n",
    "# binarización más fuerte"
   ]
  },
  {
   "cell_type": "markdown",
   "id": "a7a6ef9c",
   "metadata": {},
   "source": [
    "indexes = np.arange(0,60,6)"
   ]
  },
  {
   "cell_type": "markdown",
   "id": "1113e6ac",
   "metadata": {},
   "source": [
    "tmp = df_importance.iloc[3:,:].reset_index(drop=True)\n",
    "#.reset_index(drop=True).loc[indexes]"
   ]
  },
  {
   "cell_type": "markdown",
   "id": "eb0de25a",
   "metadata": {},
   "source": [
    "tmp['color'] = np.where(tmp['feature'].str.startswith(\"solvent\"), 'red', 'grey')"
   ]
  },
  {
   "cell_type": "markdown",
   "id": "e589893b",
   "metadata": {},
   "source": [
    "solvent_index = tmp[tmp.feature.str.startswith(\"solvent\")].index"
   ]
  },
  {
   "cell_type": "markdown",
   "id": "786b45ad",
   "metadata": {},
   "source": [
    "plot_df_importances(tmp.iloc[list(indexes) + list(solvent_index)]\\\n",
    "                    .sort_values(by=\"importance\", ascending=False))"
   ]
  },
  {
   "cell_type": "code",
   "execution_count": null,
   "id": "677a63fb",
   "metadata": {},
   "outputs": [],
   "source": []
  }
 ],
 "metadata": {
  "interpreter": {
   "hash": "2dd68b6b88d78f72e555cd6564eaf72c9813991942e2722f811fa2c9051f75f2"
  },
  "kernelspec": {
   "display_name": "tesis-notebooks",
   "language": "python",
   "name": "tesis-notebooks"
  },
  "language_info": {
   "codemirror_mode": {
    "name": "ipython",
    "version": 3
   },
   "file_extension": ".py",
   "mimetype": "text/x-python",
   "name": "python",
   "nbconvert_exporter": "python",
   "pygments_lexer": "ipython3",
   "version": "3.9.7"
  }
 },
 "nbformat": 4,
 "nbformat_minor": 5
}
