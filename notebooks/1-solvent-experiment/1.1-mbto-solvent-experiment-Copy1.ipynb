{
 "cells": [
  {
   "cell_type": "markdown",
   "id": "083e7e42",
   "metadata": {},
   "source": [
    "# Solvent Small Experiment"
   ]
  },
  {
   "cell_type": "markdown",
   "id": "0fa813db",
   "metadata": {},
   "source": [
    "Question: Could be use data from minotiry solvents? Does it add value/relevant information?\n",
    "\n",
    "Descriptions:\n",
    "- 3 solvent availables, one majority and two minorities\n",
    "- sample from majority and minorities: 3 samples\n",
    "- train in majority\n",
    "- evaluate in 3 samples and compare results, is there any particular improvement in majority?"
   ]
  },
  {
   "cell_type": "code",
   "execution_count": 40,
   "id": "f2215afb",
   "metadata": {},
   "outputs": [],
   "source": [
    "import numpy as np\n",
    "import pandas as pd\n",
    "import matplotlib.pyplot as plt\n",
    "import seaborn as sns\n",
    "import itertools\n",
    "from src.config import chemical_inventory_path, raw_data_path\n",
    "from src.data import notebook_utils as utils\n",
    "from src.constants import GBL_INCHI_KEY, DMSO_INCHI_KEY, DMF_INCHI_KEY, \\\n",
    "                        INCHI_TO_CHEMNAME, TARGET_COL, RXN_FEAT_NAME, ORGANOAMONIUM_INCHI_KEY_COL\n",
    "from src import plot_utils"
   ]
  },
  {
   "cell_type": "code",
   "execution_count": 41,
   "id": "29cef52b",
   "metadata": {},
   "outputs": [],
   "source": [
    "import matplotlib.pyplot as plt\n",
    "import matplotlib.ticker as mtick\n",
    "plt.style.reload_library()\n",
    "import matplotlib.patches as mpatches"
   ]
  },
  {
   "cell_type": "code",
   "execution_count": 157,
   "id": "c0ae31fa-8262-4359-9b9c-5c3c4177c08c",
   "metadata": {},
   "outputs": [],
   "source": [
    "from sklearn.preprocessing import StandardScaler\n",
    "from sklearn.pipeline import Pipeline\n",
    "from sklearn.model_selection import RepeatedStratifiedKFold\n",
    "from sklearn.model_selection import cross_validate\n",
    "from sklearn.metrics import classification_report\n",
    "import sklearn.ensemble as ensamble_models\n",
    "import sklearn.neighbors as neighbors_models\n",
    "from sklearn.model_selection import GridSearchCV\n",
    "from sklearn import linear_model as linear_models\n",
    "from sklearn.metrics import matthews_corrcoef, make_scorer"
   ]
  },
  {
   "cell_type": "markdown",
   "id": "909b7fdb",
   "metadata": {
    "tags": []
   },
   "source": []
  },
  {
   "cell_type": "code",
   "execution_count": 3,
   "id": "ba155e9d",
   "metadata": {},
   "outputs": [
    {
     "name": "stdout",
     "output_type": "stream",
     "text": [
      "/Users/mticona/Documents/tesis/licentiate-thesis-repo\n"
     ]
    }
   ],
   "source": [
    "%cd ../.."
   ]
  },
  {
   "cell_type": "markdown",
   "id": "9d53c248-0eac-436f-baf2-73c03e5d707b",
   "metadata": {},
   "source": [
    "## Models definitions"
   ]
  },
  {
   "cell_type": "code",
   "execution_count": 186,
   "id": "94ab93b1-0357-487c-ae51-170e33e9a891",
   "metadata": {},
   "outputs": [],
   "source": [
    "def make_model(model_name, model_config={}):\n",
    "    try:\n",
    "        model_method = getattr(neighbors_models, model_name)\n",
    "    except AttributeError: \n",
    "        try:\n",
    "            model_method = getattr(ensamble_models, model_name)\n",
    "        except AttributeError:\n",
    "            model_method = getattr(linear_models, model_name)\n",
    "    \n",
    "    model = model_method(**model_config)\n",
    "    return model\n",
    "\n",
    "def split_X_y(df):\n",
    "    X = df.drop([TARGET_COL], axis=1).values\n",
    "    y = df[TARGET_COL].values\n",
    "    return X, y\n",
    "\n",
    "def proof_concept(model_name, df_train, df_test, model_config = {}):\n",
    "    model = make_model(model_name, model_config)\n",
    "    \n",
    "    X_test, y_test = split_X_y(df_test)\n",
    "    X_train, y_train = split_X_y(df_train)\n",
    "    \n",
    "    pipeline_steps = [('std', StandardScaler()), \n",
    "                      ('model', model)\n",
    "                     ]\n",
    "    \n",
    "    pipeline = Pipeline(steps=pipeline_steps)\n",
    "    \n",
    "    pipeline.fit(X_train, y_train)\n",
    "    \n",
    "    y_pred =  pipeline.predict(X_test)\n",
    "    \n",
    "    matt = matthews_corrcoef(y_test, y_pred)\n",
    "    \n",
    "    report = classification_report(y_test, y_pred, labels=[0,1], \n",
    "                                   output_dict=True, target_names=[\"No cristaliza\", \"Cristaliza\"])\n",
    "    \n",
    "    report_df =  pd.DataFrame(report).transpose()\n",
    "    \n",
    "    report_df[\"matthew\"] = matt\n",
    "    \n",
    "    return report_df\n",
    "\n",
    "def proof_concept_model(model_name, df_train, df_test, model_config = {}):\n",
    "    model = make_model(model_name, model_config)\n",
    "    \n",
    "    X_test, y_test = split_X_y(df_test)\n",
    "    X_train, y_train = split_X_y(df_train)\n",
    "    \n",
    "    pipeline_steps = [('std', StandardScaler()), \n",
    "                      ('model', model)\n",
    "                     ]\n",
    "    \n",
    "    pipeline = Pipeline(steps=pipeline_steps)\n",
    "    \n",
    "    pipeline.fit(X_train, y_train)\n",
    "    \n",
    "    return pipeline\n",
    "    \n",
    "def full_pipeline(model_name, df_train, df_test, k_fold_config, model_config):\n",
    "    \n",
    "    model = make_model(model_name, model_config)\n",
    "    \n",
    "    #X_test, y_test = split_X_y(df_test)\n",
    "    X_train, y_train = split_X_y(df_train)\n",
    "    \n",
    "    pipeline_steps = [('std', StandardScaler()), \n",
    "                      ('model', model)\n",
    "                     ]\n",
    "    pipeline = Pipeline(steps=pipeline_steps)\n",
    "    \n",
    "    cv = RepeatedStratifiedKFold(**k_fold_config)\n",
    "    \n",
    "    \n",
    "    scores = cross_validate(pipeline, X_train, y_train, cv=cv,\n",
    "                         scoring={'recall': 'recall', \n",
    "                                  'f1': 'f1',\n",
    "                                  'precision': 'precision',\n",
    "                                  'matthew': make_scorer(matthews_corrcoef)},\n",
    "                         return_train_score=True)\n",
    "    \n",
    "    return scores"
   ]
  },
  {
   "cell_type": "markdown",
   "id": "7e5537a7-4b1d-41e7-a1bb-d0203750f030",
   "metadata": {},
   "source": [
    "## Read datasets"
   ]
  },
  {
   "cell_type": "code",
   "execution_count": 57,
   "id": "31fb6bab",
   "metadata": {},
   "outputs": [],
   "source": [
    "solvents_inchies = [GBL_INCHI_KEY, DMSO_INCHI_KEY, DMF_INCHI_KEY]\n",
    "solvents = [INCHI_TO_CHEMNAME[inchie] for inchie in solvents_inchies]\n",
    "\n",
    "plot_solvents = {'Gamma-Butyrolactone': \"GBL\",\n",
    "                 'Dimethyl sulfoxide':\"DMSO\",\n",
    "                 'Dimethylformamide': \"DMF\"}\n",
    "\n",
    "df_full_dummies = pd.read_csv(\"data/all_solvent_cleaned_data.csv\")"
   ]
  },
  {
   "cell_type": "code",
   "execution_count": 58,
   "id": "9898fa4e-02d5-447b-9f1a-68dd42565312",
   "metadata": {},
   "outputs": [
    {
     "name": "stderr",
     "output_type": "stream",
     "text": [
      "/Users/mticona/Documents/tesis/licentiate-thesis-repo/src/data/notebook_utils.py:116: SettingWithCopyWarning: \n",
      "A value is trying to be set on a copy of a slice from a DataFrame.\n",
      "Try using .loc[row_indexer,col_indexer] = value instead\n",
      "\n",
      "See the caveats in the documentation: https://pandas.pydata.org/pandas-docs/stable/user_guide/indexing.html#returning-a-view-versus-a-copy\n",
      "  df.loc[:,col] = (df[TARGET_COL] == 4).astype(int)\n"
     ]
    }
   ],
   "source": [
    "solvents_data = {INCHI_TO_CHEMNAME[solvent_inchie]: utils.read_data(raw_data_path, organic_key=True,\\\n",
    "                                                                    solvent=solvent_inchie) \\\n",
    "                                                                    .drop_duplicates()\n",
    "                 for solvent_inchie in solvents_inchies}"
   ]
  },
  {
   "cell_type": "code",
   "execution_count": 59,
   "id": "f7eb8ae4-272d-40f0-9ec9-d1d2bf7b1ac1",
   "metadata": {},
   "outputs": [],
   "source": [
    "df_by_solvent = {solvent: df_full_dummies.query('solvent == @solvent')\n",
    "                        for solvent in solvents\n",
    "                        }"
   ]
  },
  {
   "cell_type": "code",
   "execution_count": 60,
   "id": "2b8f8fd4-28ba-444b-8829-73eea367c4f1",
   "metadata": {},
   "outputs": [],
   "source": [
    "def regenerate_sample(original_sample_dict, target_sample_dict):\n",
    "    \"To filter data points from target that are in original sample\"\n",
    "    new_sampling = {}\n",
    "    for solvent, data in original_sample_dict.items():\n",
    "        # df1 contains more data points than df2\n",
    "        df1 = target_sample_dict[solvent].drop(['solvent_Dimethyl sulfoxide',\n",
    "       'solvent_Dimethylformamide', 'solvent_Gamma-Butyrolactone', 'solvent'], axis=1)\n",
    "        df2 = original_sample_dict[solvent]\n",
    "        keys = list(df1.columns.values)\n",
    "        i1 = df1.set_index(keys).index\n",
    "        i2 = df2.set_index(keys).index\n",
    "        new_sampling[solvent] = target_sample_dict[solvent][i1.isin(i2)]\n",
    "    return new_sampling"
   ]
  },
  {
   "cell_type": "code",
   "execution_count": 132,
   "id": "35fa400b-25f6-4285-8aba-908d3eafc99f",
   "metadata": {},
   "outputs": [],
   "source": [
    "SEED = 201"
   ]
  },
  {
   "cell_type": "code",
   "execution_count": 188,
   "id": "7ac51316-49e7-43cb-b777-c06306653caa",
   "metadata": {},
   "outputs": [],
   "source": [
    "models = {\n",
    "    'knn':'KNeighborsClassifier',\n",
    "    'rf':'RandomForestClassifier',\n",
    "    'gbc':'GradientBoostingClassifier'\n",
    "}\n",
    "\n",
    "n_repeat_k_fold = 25\n",
    "k_splits = 3\n",
    "\n",
    "k_fold_config = {\n",
    "    'random_state': SEED,\n",
    "    'n_repeats': n_repeat_k_fold,\n",
    "    'n_splits': k_splits,\n",
    "}\n",
    "model_config_rf = {\n",
    "    'min_samples_split': 4,\n",
    "    'min_samples_leaf': 3,\n",
    "    #'class_weight': \"balanced_subsample\"    \n",
    "}\n",
    "\n",
    "model_configs = {\n",
    "    'knn': {},\n",
    "    'rf': model_config_rf,\n",
    "    'gbc': {}\n",
    "}"
   ]
  },
  {
   "cell_type": "markdown",
   "id": "8322ba2e-1c52-45dd-8d65-5119ec54148e",
   "metadata": {},
   "source": [
    "Repeat experiments based on SEEDS"
   ]
  },
  {
   "cell_type": "code",
   "execution_count": 190,
   "id": "7e65fb14",
   "metadata": {
    "tags": []
   },
   "outputs": [
    {
     "name": "stderr",
     "output_type": "stream",
     "text": [
      "/Users/mticona/.local/share/virtualenvs/licentiate-thesis-repo-_Hfi4eev/lib/python3.9/site-packages/sklearn/metrics/_classification.py:1327: UndefinedMetricWarning: Precision and F-score are ill-defined and being set to 0.0 in labels with no predicted samples. Use `zero_division` parameter to control this behavior.\n",
      "  _warn_prf(average, modifier, msg_start, len(result))\n",
      "/Users/mticona/.local/share/virtualenvs/licentiate-thesis-repo-_Hfi4eev/lib/python3.9/site-packages/sklearn/metrics/_classification.py:1327: UndefinedMetricWarning: Precision and F-score are ill-defined and being set to 0.0 in labels with no predicted samples. Use `zero_division` parameter to control this behavior.\n",
      "  _warn_prf(average, modifier, msg_start, len(result))\n",
      "/Users/mticona/.local/share/virtualenvs/licentiate-thesis-repo-_Hfi4eev/lib/python3.9/site-packages/sklearn/metrics/_classification.py:1327: UndefinedMetricWarning: Precision and F-score are ill-defined and being set to 0.0 in labels with no predicted samples. Use `zero_division` parameter to control this behavior.\n",
      "  _warn_prf(average, modifier, msg_start, len(result))\n",
      "/Users/mticona/.local/share/virtualenvs/licentiate-thesis-repo-_Hfi4eev/lib/python3.9/site-packages/sklearn/metrics/_classification.py:1327: UndefinedMetricWarning: Precision and F-score are ill-defined and being set to 0.0 in labels with no predicted samples. Use `zero_division` parameter to control this behavior.\n",
      "  _warn_prf(average, modifier, msg_start, len(result))\n",
      "/Users/mticona/.local/share/virtualenvs/licentiate-thesis-repo-_Hfi4eev/lib/python3.9/site-packages/sklearn/metrics/_classification.py:1327: UndefinedMetricWarning: Precision and F-score are ill-defined and being set to 0.0 in labels with no predicted samples. Use `zero_division` parameter to control this behavior.\n",
      "  _warn_prf(average, modifier, msg_start, len(result))\n",
      "/Users/mticona/.local/share/virtualenvs/licentiate-thesis-repo-_Hfi4eev/lib/python3.9/site-packages/sklearn/metrics/_classification.py:1327: UndefinedMetricWarning: Precision and F-score are ill-defined and being set to 0.0 in labels with no predicted samples. Use `zero_division` parameter to control this behavior.\n",
      "  _warn_prf(average, modifier, msg_start, len(result))\n",
      "/Users/mticona/.local/share/virtualenvs/licentiate-thesis-repo-_Hfi4eev/lib/python3.9/site-packages/sklearn/metrics/_classification.py:1327: UndefinedMetricWarning: Precision and F-score are ill-defined and being set to 0.0 in labels with no predicted samples. Use `zero_division` parameter to control this behavior.\n",
      "  _warn_prf(average, modifier, msg_start, len(result))\n",
      "/Users/mticona/.local/share/virtualenvs/licentiate-thesis-repo-_Hfi4eev/lib/python3.9/site-packages/sklearn/metrics/_classification.py:1327: UndefinedMetricWarning: Precision and F-score are ill-defined and being set to 0.0 in labels with no predicted samples. Use `zero_division` parameter to control this behavior.\n",
      "  _warn_prf(average, modifier, msg_start, len(result))\n",
      "/Users/mticona/.local/share/virtualenvs/licentiate-thesis-repo-_Hfi4eev/lib/python3.9/site-packages/sklearn/metrics/_classification.py:1327: UndefinedMetricWarning: Precision and F-score are ill-defined and being set to 0.0 in labels with no predicted samples. Use `zero_division` parameter to control this behavior.\n",
      "  _warn_prf(average, modifier, msg_start, len(result))\n",
      "/Users/mticona/.local/share/virtualenvs/licentiate-thesis-repo-_Hfi4eev/lib/python3.9/site-packages/sklearn/metrics/_classification.py:1327: UndefinedMetricWarning: Precision and F-score are ill-defined and being set to 0.0 in labels with no predicted samples. Use `zero_division` parameter to control this behavior.\n",
      "  _warn_prf(average, modifier, msg_start, len(result))\n",
      "/Users/mticona/.local/share/virtualenvs/licentiate-thesis-repo-_Hfi4eev/lib/python3.9/site-packages/sklearn/metrics/_classification.py:1327: UndefinedMetricWarning: Precision and F-score are ill-defined and being set to 0.0 in labels with no predicted samples. Use `zero_division` parameter to control this behavior.\n",
      "  _warn_prf(average, modifier, msg_start, len(result))\n",
      "/Users/mticona/.local/share/virtualenvs/licentiate-thesis-repo-_Hfi4eev/lib/python3.9/site-packages/sklearn/metrics/_classification.py:1327: UndefinedMetricWarning: Precision and F-score are ill-defined and being set to 0.0 in labels with no predicted samples. Use `zero_division` parameter to control this behavior.\n",
      "  _warn_prf(average, modifier, msg_start, len(result))\n",
      "/Users/mticona/.local/share/virtualenvs/licentiate-thesis-repo-_Hfi4eev/lib/python3.9/site-packages/sklearn/metrics/_classification.py:1327: UndefinedMetricWarning: Precision and F-score are ill-defined and being set to 0.0 in labels with no predicted samples. Use `zero_division` parameter to control this behavior.\n",
      "  _warn_prf(average, modifier, msg_start, len(result))\n",
      "/Users/mticona/.local/share/virtualenvs/licentiate-thesis-repo-_Hfi4eev/lib/python3.9/site-packages/sklearn/metrics/_classification.py:1327: UndefinedMetricWarning: Precision and F-score are ill-defined and being set to 0.0 in labels with no predicted samples. Use `zero_division` parameter to control this behavior.\n",
      "  _warn_prf(average, modifier, msg_start, len(result))\n",
      "/Users/mticona/.local/share/virtualenvs/licentiate-thesis-repo-_Hfi4eev/lib/python3.9/site-packages/sklearn/metrics/_classification.py:1327: UndefinedMetricWarning: Precision and F-score are ill-defined and being set to 0.0 in labels with no predicted samples. Use `zero_division` parameter to control this behavior.\n",
      "  _warn_prf(average, modifier, msg_start, len(result))\n",
      "/Users/mticona/.local/share/virtualenvs/licentiate-thesis-repo-_Hfi4eev/lib/python3.9/site-packages/sklearn/metrics/_classification.py:1327: UndefinedMetricWarning: Precision and F-score are ill-defined and being set to 0.0 in labels with no predicted samples. Use `zero_division` parameter to control this behavior.\n",
      "  _warn_prf(average, modifier, msg_start, len(result))\n",
      "/Users/mticona/.local/share/virtualenvs/licentiate-thesis-repo-_Hfi4eev/lib/python3.9/site-packages/sklearn/metrics/_classification.py:1327: UndefinedMetricWarning: Precision and F-score are ill-defined and being set to 0.0 in labels with no predicted samples. Use `zero_division` parameter to control this behavior.\n",
      "  _warn_prf(average, modifier, msg_start, len(result))\n",
      "/Users/mticona/.local/share/virtualenvs/licentiate-thesis-repo-_Hfi4eev/lib/python3.9/site-packages/sklearn/metrics/_classification.py:1327: UndefinedMetricWarning: Precision and F-score are ill-defined and being set to 0.0 in labels with no predicted samples. Use `zero_division` parameter to control this behavior.\n",
      "  _warn_prf(average, modifier, msg_start, len(result))\n",
      "/Users/mticona/.local/share/virtualenvs/licentiate-thesis-repo-_Hfi4eev/lib/python3.9/site-packages/sklearn/metrics/_classification.py:1327: UndefinedMetricWarning: Precision and F-score are ill-defined and being set to 0.0 in labels with no predicted samples. Use `zero_division` parameter to control this behavior.\n",
      "  _warn_prf(average, modifier, msg_start, len(result))\n",
      "/Users/mticona/.local/share/virtualenvs/licentiate-thesis-repo-_Hfi4eev/lib/python3.9/site-packages/sklearn/metrics/_classification.py:1327: UndefinedMetricWarning: Precision and F-score are ill-defined and being set to 0.0 in labels with no predicted samples. Use `zero_division` parameter to control this behavior.\n",
      "  _warn_prf(average, modifier, msg_start, len(result))\n",
      "/Users/mticona/.local/share/virtualenvs/licentiate-thesis-repo-_Hfi4eev/lib/python3.9/site-packages/sklearn/metrics/_classification.py:1327: UndefinedMetricWarning: Precision and F-score are ill-defined and being set to 0.0 in labels with no predicted samples. Use `zero_division` parameter to control this behavior.\n",
      "  _warn_prf(average, modifier, msg_start, len(result))\n",
      "/Users/mticona/.local/share/virtualenvs/licentiate-thesis-repo-_Hfi4eev/lib/python3.9/site-packages/sklearn/metrics/_classification.py:1327: UndefinedMetricWarning: Precision and F-score are ill-defined and being set to 0.0 in labels with no predicted samples. Use `zero_division` parameter to control this behavior.\n",
      "  _warn_prf(average, modifier, msg_start, len(result))\n",
      "/Users/mticona/.local/share/virtualenvs/licentiate-thesis-repo-_Hfi4eev/lib/python3.9/site-packages/sklearn/metrics/_classification.py:1327: UndefinedMetricWarning: Precision and F-score are ill-defined and being set to 0.0 in labels with no predicted samples. Use `zero_division` parameter to control this behavior.\n",
      "  _warn_prf(average, modifier, msg_start, len(result))\n",
      "/Users/mticona/.local/share/virtualenvs/licentiate-thesis-repo-_Hfi4eev/lib/python3.9/site-packages/sklearn/metrics/_classification.py:1327: UndefinedMetricWarning: Precision and F-score are ill-defined and being set to 0.0 in labels with no predicted samples. Use `zero_division` parameter to control this behavior.\n",
      "  _warn_prf(average, modifier, msg_start, len(result))\n",
      "/Users/mticona/.local/share/virtualenvs/licentiate-thesis-repo-_Hfi4eev/lib/python3.9/site-packages/sklearn/metrics/_classification.py:1327: UndefinedMetricWarning: Precision and F-score are ill-defined and being set to 0.0 in labels with no predicted samples. Use `zero_division` parameter to control this behavior.\n",
      "  _warn_prf(average, modifier, msg_start, len(result))\n",
      "/Users/mticona/.local/share/virtualenvs/licentiate-thesis-repo-_Hfi4eev/lib/python3.9/site-packages/sklearn/metrics/_classification.py:1327: UndefinedMetricWarning: Precision and F-score are ill-defined and being set to 0.0 in labels with no predicted samples. Use `zero_division` parameter to control this behavior.\n",
      "  _warn_prf(average, modifier, msg_start, len(result))\n",
      "/Users/mticona/.local/share/virtualenvs/licentiate-thesis-repo-_Hfi4eev/lib/python3.9/site-packages/sklearn/metrics/_classification.py:1327: UndefinedMetricWarning: Precision and F-score are ill-defined and being set to 0.0 in labels with no predicted samples. Use `zero_division` parameter to control this behavior.\n",
      "  _warn_prf(average, modifier, msg_start, len(result))\n",
      "/Users/mticona/.local/share/virtualenvs/licentiate-thesis-repo-_Hfi4eev/lib/python3.9/site-packages/sklearn/metrics/_classification.py:1327: UndefinedMetricWarning: Precision and F-score are ill-defined and being set to 0.0 in labels with no predicted samples. Use `zero_division` parameter to control this behavior.\n",
      "  _warn_prf(average, modifier, msg_start, len(result))\n",
      "/Users/mticona/.local/share/virtualenvs/licentiate-thesis-repo-_Hfi4eev/lib/python3.9/site-packages/sklearn/metrics/_classification.py:1327: UndefinedMetricWarning: Precision and F-score are ill-defined and being set to 0.0 in labels with no predicted samples. Use `zero_division` parameter to control this behavior.\n",
      "  _warn_prf(average, modifier, msg_start, len(result))\n",
      "/Users/mticona/.local/share/virtualenvs/licentiate-thesis-repo-_Hfi4eev/lib/python3.9/site-packages/sklearn/metrics/_classification.py:1327: UndefinedMetricWarning: Precision and F-score are ill-defined and being set to 0.0 in labels with no predicted samples. Use `zero_division` parameter to control this behavior.\n",
      "  _warn_prf(average, modifier, msg_start, len(result))\n",
      "/Users/mticona/.local/share/virtualenvs/licentiate-thesis-repo-_Hfi4eev/lib/python3.9/site-packages/sklearn/metrics/_classification.py:1327: UndefinedMetricWarning: Precision and F-score are ill-defined and being set to 0.0 in labels with no predicted samples. Use `zero_division` parameter to control this behavior.\n",
      "  _warn_prf(average, modifier, msg_start, len(result))\n",
      "/Users/mticona/.local/share/virtualenvs/licentiate-thesis-repo-_Hfi4eev/lib/python3.9/site-packages/sklearn/metrics/_classification.py:1327: UndefinedMetricWarning: Precision and F-score are ill-defined and being set to 0.0 in labels with no predicted samples. Use `zero_division` parameter to control this behavior.\n",
      "  _warn_prf(average, modifier, msg_start, len(result))\n",
      "/Users/mticona/.local/share/virtualenvs/licentiate-thesis-repo-_Hfi4eev/lib/python3.9/site-packages/sklearn/metrics/_classification.py:1327: UndefinedMetricWarning: Precision and F-score are ill-defined and being set to 0.0 in labels with no predicted samples. Use `zero_division` parameter to control this behavior.\n",
      "  _warn_prf(average, modifier, msg_start, len(result))\n",
      "/Users/mticona/.local/share/virtualenvs/licentiate-thesis-repo-_Hfi4eev/lib/python3.9/site-packages/sklearn/metrics/_classification.py:1327: UndefinedMetricWarning: Precision and F-score are ill-defined and being set to 0.0 in labels with no predicted samples. Use `zero_division` parameter to control this behavior.\n",
      "  _warn_prf(average, modifier, msg_start, len(result))\n",
      "/Users/mticona/.local/share/virtualenvs/licentiate-thesis-repo-_Hfi4eev/lib/python3.9/site-packages/sklearn/metrics/_classification.py:1327: UndefinedMetricWarning: Precision and F-score are ill-defined and being set to 0.0 in labels with no predicted samples. Use `zero_division` parameter to control this behavior.\n",
      "  _warn_prf(average, modifier, msg_start, len(result))\n",
      "/Users/mticona/.local/share/virtualenvs/licentiate-thesis-repo-_Hfi4eev/lib/python3.9/site-packages/sklearn/metrics/_classification.py:1327: UndefinedMetricWarning: Precision and F-score are ill-defined and being set to 0.0 in labels with no predicted samples. Use `zero_division` parameter to control this behavior.\n",
      "  _warn_prf(average, modifier, msg_start, len(result))\n",
      "/Users/mticona/.local/share/virtualenvs/licentiate-thesis-repo-_Hfi4eev/lib/python3.9/site-packages/sklearn/metrics/_classification.py:1327: UndefinedMetricWarning: Precision and F-score are ill-defined and being set to 0.0 in labels with no predicted samples. Use `zero_division` parameter to control this behavior.\n",
      "  _warn_prf(average, modifier, msg_start, len(result))\n",
      "/Users/mticona/.local/share/virtualenvs/licentiate-thesis-repo-_Hfi4eev/lib/python3.9/site-packages/sklearn/metrics/_classification.py:1327: UndefinedMetricWarning: Precision and F-score are ill-defined and being set to 0.0 in labels with no predicted samples. Use `zero_division` parameter to control this behavior.\n",
      "  _warn_prf(average, modifier, msg_start, len(result))\n",
      "/Users/mticona/.local/share/virtualenvs/licentiate-thesis-repo-_Hfi4eev/lib/python3.9/site-packages/sklearn/metrics/_classification.py:1327: UndefinedMetricWarning: Precision and F-score are ill-defined and being set to 0.0 in labels with no predicted samples. Use `zero_division` parameter to control this behavior.\n",
      "  _warn_prf(average, modifier, msg_start, len(result))\n",
      "/Users/mticona/.local/share/virtualenvs/licentiate-thesis-repo-_Hfi4eev/lib/python3.9/site-packages/sklearn/metrics/_classification.py:1327: UndefinedMetricWarning: Precision and F-score are ill-defined and being set to 0.0 in labels with no predicted samples. Use `zero_division` parameter to control this behavior.\n",
      "  _warn_prf(average, modifier, msg_start, len(result))\n",
      "/Users/mticona/.local/share/virtualenvs/licentiate-thesis-repo-_Hfi4eev/lib/python3.9/site-packages/sklearn/metrics/_classification.py:1327: UndefinedMetricWarning: Precision and F-score are ill-defined and being set to 0.0 in labels with no predicted samples. Use `zero_division` parameter to control this behavior.\n",
      "  _warn_prf(average, modifier, msg_start, len(result))\n",
      "/Users/mticona/.local/share/virtualenvs/licentiate-thesis-repo-_Hfi4eev/lib/python3.9/site-packages/sklearn/metrics/_classification.py:1327: UndefinedMetricWarning: Precision and F-score are ill-defined and being set to 0.0 in labels with no predicted samples. Use `zero_division` parameter to control this behavior.\n",
      "  _warn_prf(average, modifier, msg_start, len(result))\n",
      "/Users/mticona/.local/share/virtualenvs/licentiate-thesis-repo-_Hfi4eev/lib/python3.9/site-packages/sklearn/metrics/_classification.py:1327: UndefinedMetricWarning: Precision and F-score are ill-defined and being set to 0.0 in labels with no predicted samples. Use `zero_division` parameter to control this behavior.\n",
      "  _warn_prf(average, modifier, msg_start, len(result))\n",
      "/Users/mticona/.local/share/virtualenvs/licentiate-thesis-repo-_Hfi4eev/lib/python3.9/site-packages/sklearn/metrics/_classification.py:1327: UndefinedMetricWarning: Precision and F-score are ill-defined and being set to 0.0 in labels with no predicted samples. Use `zero_division` parameter to control this behavior.\n",
      "  _warn_prf(average, modifier, msg_start, len(result))\n",
      "/Users/mticona/.local/share/virtualenvs/licentiate-thesis-repo-_Hfi4eev/lib/python3.9/site-packages/sklearn/metrics/_classification.py:1327: UndefinedMetricWarning: Precision and F-score are ill-defined and being set to 0.0 in labels with no predicted samples. Use `zero_division` parameter to control this behavior.\n",
      "  _warn_prf(average, modifier, msg_start, len(result))\n",
      "/Users/mticona/.local/share/virtualenvs/licentiate-thesis-repo-_Hfi4eev/lib/python3.9/site-packages/sklearn/metrics/_classification.py:1327: UndefinedMetricWarning: Precision and F-score are ill-defined and being set to 0.0 in labels with no predicted samples. Use `zero_division` parameter to control this behavior.\n",
      "  _warn_prf(average, modifier, msg_start, len(result))\n",
      "/Users/mticona/.local/share/virtualenvs/licentiate-thesis-repo-_Hfi4eev/lib/python3.9/site-packages/sklearn/metrics/_classification.py:1327: UndefinedMetricWarning: Precision and F-score are ill-defined and being set to 0.0 in labels with no predicted samples. Use `zero_division` parameter to control this behavior.\n",
      "  _warn_prf(average, modifier, msg_start, len(result))\n",
      "/Users/mticona/.local/share/virtualenvs/licentiate-thesis-repo-_Hfi4eev/lib/python3.9/site-packages/sklearn/metrics/_classification.py:1327: UndefinedMetricWarning: Precision and F-score are ill-defined and being set to 0.0 in labels with no predicted samples. Use `zero_division` parameter to control this behavior.\n",
      "  _warn_prf(average, modifier, msg_start, len(result))\n",
      "/Users/mticona/.local/share/virtualenvs/licentiate-thesis-repo-_Hfi4eev/lib/python3.9/site-packages/sklearn/metrics/_classification.py:1327: UndefinedMetricWarning: Precision and F-score are ill-defined and being set to 0.0 in labels with no predicted samples. Use `zero_division` parameter to control this behavior.\n",
      "  _warn_prf(average, modifier, msg_start, len(result))\n",
      "/Users/mticona/.local/share/virtualenvs/licentiate-thesis-repo-_Hfi4eev/lib/python3.9/site-packages/sklearn/metrics/_classification.py:1327: UndefinedMetricWarning: Precision and F-score are ill-defined and being set to 0.0 in labels with no predicted samples. Use `zero_division` parameter to control this behavior.\n",
      "  _warn_prf(average, modifier, msg_start, len(result))\n",
      "/Users/mticona/.local/share/virtualenvs/licentiate-thesis-repo-_Hfi4eev/lib/python3.9/site-packages/sklearn/metrics/_classification.py:1327: UndefinedMetricWarning: Precision and F-score are ill-defined and being set to 0.0 in labels with no predicted samples. Use `zero_division` parameter to control this behavior.\n",
      "  _warn_prf(average, modifier, msg_start, len(result))\n",
      "/Users/mticona/.local/share/virtualenvs/licentiate-thesis-repo-_Hfi4eev/lib/python3.9/site-packages/sklearn/metrics/_classification.py:1327: UndefinedMetricWarning: Precision and F-score are ill-defined and being set to 0.0 in labels with no predicted samples. Use `zero_division` parameter to control this behavior.\n",
      "  _warn_prf(average, modifier, msg_start, len(result))\n",
      "/Users/mticona/.local/share/virtualenvs/licentiate-thesis-repo-_Hfi4eev/lib/python3.9/site-packages/sklearn/metrics/_classification.py:1327: UndefinedMetricWarning: Precision and F-score are ill-defined and being set to 0.0 in labels with no predicted samples. Use `zero_division` parameter to control this behavior.\n",
      "  _warn_prf(average, modifier, msg_start, len(result))\n",
      "/Users/mticona/.local/share/virtualenvs/licentiate-thesis-repo-_Hfi4eev/lib/python3.9/site-packages/sklearn/metrics/_classification.py:1327: UndefinedMetricWarning: Precision and F-score are ill-defined and being set to 0.0 in labels with no predicted samples. Use `zero_division` parameter to control this behavior.\n",
      "  _warn_prf(average, modifier, msg_start, len(result))\n",
      "/Users/mticona/.local/share/virtualenvs/licentiate-thesis-repo-_Hfi4eev/lib/python3.9/site-packages/sklearn/metrics/_classification.py:1327: UndefinedMetricWarning: Precision and F-score are ill-defined and being set to 0.0 in labels with no predicted samples. Use `zero_division` parameter to control this behavior.\n",
      "  _warn_prf(average, modifier, msg_start, len(result))\n",
      "/Users/mticona/.local/share/virtualenvs/licentiate-thesis-repo-_Hfi4eev/lib/python3.9/site-packages/sklearn/metrics/_classification.py:1327: UndefinedMetricWarning: Precision and F-score are ill-defined and being set to 0.0 in labels with no predicted samples. Use `zero_division` parameter to control this behavior.\n",
      "  _warn_prf(average, modifier, msg_start, len(result))\n",
      "/Users/mticona/.local/share/virtualenvs/licentiate-thesis-repo-_Hfi4eev/lib/python3.9/site-packages/sklearn/metrics/_classification.py:1327: UndefinedMetricWarning: Precision and F-score are ill-defined and being set to 0.0 in labels with no predicted samples. Use `zero_division` parameter to control this behavior.\n",
      "  _warn_prf(average, modifier, msg_start, len(result))\n",
      "/Users/mticona/.local/share/virtualenvs/licentiate-thesis-repo-_Hfi4eev/lib/python3.9/site-packages/sklearn/metrics/_classification.py:1327: UndefinedMetricWarning: Precision and F-score are ill-defined and being set to 0.0 in labels with no predicted samples. Use `zero_division` parameter to control this behavior.\n",
      "  _warn_prf(average, modifier, msg_start, len(result))\n",
      "/Users/mticona/.local/share/virtualenvs/licentiate-thesis-repo-_Hfi4eev/lib/python3.9/site-packages/sklearn/metrics/_classification.py:1327: UndefinedMetricWarning: Precision and F-score are ill-defined and being set to 0.0 in labels with no predicted samples. Use `zero_division` parameter to control this behavior.\n",
      "  _warn_prf(average, modifier, msg_start, len(result))\n",
      "/Users/mticona/.local/share/virtualenvs/licentiate-thesis-repo-_Hfi4eev/lib/python3.9/site-packages/sklearn/metrics/_classification.py:1327: UndefinedMetricWarning: Precision and F-score are ill-defined and being set to 0.0 in labels with no predicted samples. Use `zero_division` parameter to control this behavior.\n",
      "  _warn_prf(average, modifier, msg_start, len(result))\n",
      "/Users/mticona/.local/share/virtualenvs/licentiate-thesis-repo-_Hfi4eev/lib/python3.9/site-packages/sklearn/metrics/_classification.py:1327: UndefinedMetricWarning: Precision and F-score are ill-defined and being set to 0.0 in labels with no predicted samples. Use `zero_division` parameter to control this behavior.\n",
      "  _warn_prf(average, modifier, msg_start, len(result))\n",
      "/Users/mticona/.local/share/virtualenvs/licentiate-thesis-repo-_Hfi4eev/lib/python3.9/site-packages/sklearn/metrics/_classification.py:1327: UndefinedMetricWarning: Precision and F-score are ill-defined and being set to 0.0 in labels with no predicted samples. Use `zero_division` parameter to control this behavior.\n",
      "  _warn_prf(average, modifier, msg_start, len(result))\n",
      "/Users/mticona/.local/share/virtualenvs/licentiate-thesis-repo-_Hfi4eev/lib/python3.9/site-packages/sklearn/metrics/_classification.py:1327: UndefinedMetricWarning: Precision and F-score are ill-defined and being set to 0.0 in labels with no predicted samples. Use `zero_division` parameter to control this behavior.\n",
      "  _warn_prf(average, modifier, msg_start, len(result))\n",
      "/Users/mticona/.local/share/virtualenvs/licentiate-thesis-repo-_Hfi4eev/lib/python3.9/site-packages/sklearn/metrics/_classification.py:1327: UndefinedMetricWarning: Precision and F-score are ill-defined and being set to 0.0 in labels with no predicted samples. Use `zero_division` parameter to control this behavior.\n",
      "  _warn_prf(average, modifier, msg_start, len(result))\n",
      "/Users/mticona/.local/share/virtualenvs/licentiate-thesis-repo-_Hfi4eev/lib/python3.9/site-packages/sklearn/metrics/_classification.py:1327: UndefinedMetricWarning: Precision and F-score are ill-defined and being set to 0.0 in labels with no predicted samples. Use `zero_division` parameter to control this behavior.\n",
      "  _warn_prf(average, modifier, msg_start, len(result))\n",
      "/Users/mticona/.local/share/virtualenvs/licentiate-thesis-repo-_Hfi4eev/lib/python3.9/site-packages/sklearn/metrics/_classification.py:1327: UndefinedMetricWarning: Precision and F-score are ill-defined and being set to 0.0 in labels with no predicted samples. Use `zero_division` parameter to control this behavior.\n",
      "  _warn_prf(average, modifier, msg_start, len(result))\n",
      "/Users/mticona/.local/share/virtualenvs/licentiate-thesis-repo-_Hfi4eev/lib/python3.9/site-packages/sklearn/metrics/_classification.py:1327: UndefinedMetricWarning: Precision and F-score are ill-defined and being set to 0.0 in labels with no predicted samples. Use `zero_division` parameter to control this behavior.\n",
      "  _warn_prf(average, modifier, msg_start, len(result))\n",
      "/Users/mticona/.local/share/virtualenvs/licentiate-thesis-repo-_Hfi4eev/lib/python3.9/site-packages/sklearn/metrics/_classification.py:1327: UndefinedMetricWarning: Precision and F-score are ill-defined and being set to 0.0 in labels with no predicted samples. Use `zero_division` parameter to control this behavior.\n",
      "  _warn_prf(average, modifier, msg_start, len(result))\n",
      "/Users/mticona/.local/share/virtualenvs/licentiate-thesis-repo-_Hfi4eev/lib/python3.9/site-packages/sklearn/metrics/_classification.py:1327: UndefinedMetricWarning: Precision and F-score are ill-defined and being set to 0.0 in labels with no predicted samples. Use `zero_division` parameter to control this behavior.\n",
      "  _warn_prf(average, modifier, msg_start, len(result))\n",
      "/Users/mticona/.local/share/virtualenvs/licentiate-thesis-repo-_Hfi4eev/lib/python3.9/site-packages/sklearn/metrics/_classification.py:1327: UndefinedMetricWarning: Precision and F-score are ill-defined and being set to 0.0 in labels with no predicted samples. Use `zero_division` parameter to control this behavior.\n",
      "  _warn_prf(average, modifier, msg_start, len(result))\n",
      "/Users/mticona/.local/share/virtualenvs/licentiate-thesis-repo-_Hfi4eev/lib/python3.9/site-packages/sklearn/metrics/_classification.py:1327: UndefinedMetricWarning: Precision and F-score are ill-defined and being set to 0.0 in labels with no predicted samples. Use `zero_division` parameter to control this behavior.\n",
      "  _warn_prf(average, modifier, msg_start, len(result))\n",
      "/Users/mticona/.local/share/virtualenvs/licentiate-thesis-repo-_Hfi4eev/lib/python3.9/site-packages/sklearn/metrics/_classification.py:1327: UndefinedMetricWarning: Precision and F-score are ill-defined and being set to 0.0 in labels with no predicted samples. Use `zero_division` parameter to control this behavior.\n",
      "  _warn_prf(average, modifier, msg_start, len(result))\n",
      "/Users/mticona/.local/share/virtualenvs/licentiate-thesis-repo-_Hfi4eev/lib/python3.9/site-packages/sklearn/metrics/_classification.py:1327: UndefinedMetricWarning: Precision and F-score are ill-defined and being set to 0.0 in labels with no predicted samples. Use `zero_division` parameter to control this behavior.\n",
      "  _warn_prf(average, modifier, msg_start, len(result))\n",
      "/Users/mticona/.local/share/virtualenvs/licentiate-thesis-repo-_Hfi4eev/lib/python3.9/site-packages/sklearn/metrics/_classification.py:1327: UndefinedMetricWarning: Precision and F-score are ill-defined and being set to 0.0 in labels with no predicted samples. Use `zero_division` parameter to control this behavior.\n",
      "  _warn_prf(average, modifier, msg_start, len(result))\n",
      "/Users/mticona/.local/share/virtualenvs/licentiate-thesis-repo-_Hfi4eev/lib/python3.9/site-packages/sklearn/metrics/_classification.py:1327: UndefinedMetricWarning: Precision and F-score are ill-defined and being set to 0.0 in labels with no predicted samples. Use `zero_division` parameter to control this behavior.\n",
      "  _warn_prf(average, modifier, msg_start, len(result))\n",
      "/Users/mticona/.local/share/virtualenvs/licentiate-thesis-repo-_Hfi4eev/lib/python3.9/site-packages/sklearn/metrics/_classification.py:1327: UndefinedMetricWarning: Precision and F-score are ill-defined and being set to 0.0 in labels with no predicted samples. Use `zero_division` parameter to control this behavior.\n",
      "  _warn_prf(average, modifier, msg_start, len(result))\n",
      "/Users/mticona/.local/share/virtualenvs/licentiate-thesis-repo-_Hfi4eev/lib/python3.9/site-packages/sklearn/metrics/_classification.py:1327: UndefinedMetricWarning: Precision and F-score are ill-defined and being set to 0.0 in labels with no predicted samples. Use `zero_division` parameter to control this behavior.\n",
      "  _warn_prf(average, modifier, msg_start, len(result))\n",
      "/Users/mticona/.local/share/virtualenvs/licentiate-thesis-repo-_Hfi4eev/lib/python3.9/site-packages/sklearn/metrics/_classification.py:1327: UndefinedMetricWarning: Precision and F-score are ill-defined and being set to 0.0 in labels with no predicted samples. Use `zero_division` parameter to control this behavior.\n",
      "  _warn_prf(average, modifier, msg_start, len(result))\n",
      "/Users/mticona/.local/share/virtualenvs/licentiate-thesis-repo-_Hfi4eev/lib/python3.9/site-packages/sklearn/metrics/_classification.py:1327: UndefinedMetricWarning: Precision and F-score are ill-defined and being set to 0.0 in labels with no predicted samples. Use `zero_division` parameter to control this behavior.\n",
      "  _warn_prf(average, modifier, msg_start, len(result))\n",
      "/Users/mticona/.local/share/virtualenvs/licentiate-thesis-repo-_Hfi4eev/lib/python3.9/site-packages/sklearn/metrics/_classification.py:1327: UndefinedMetricWarning: Precision and F-score are ill-defined and being set to 0.0 in labels with no predicted samples. Use `zero_division` parameter to control this behavior.\n",
      "  _warn_prf(average, modifier, msg_start, len(result))\n",
      "/Users/mticona/.local/share/virtualenvs/licentiate-thesis-repo-_Hfi4eev/lib/python3.9/site-packages/sklearn/metrics/_classification.py:1327: UndefinedMetricWarning: Precision and F-score are ill-defined and being set to 0.0 in labels with no predicted samples. Use `zero_division` parameter to control this behavior.\n",
      "  _warn_prf(average, modifier, msg_start, len(result))\n",
      "/Users/mticona/.local/share/virtualenvs/licentiate-thesis-repo-_Hfi4eev/lib/python3.9/site-packages/sklearn/metrics/_classification.py:1327: UndefinedMetricWarning: Precision and F-score are ill-defined and being set to 0.0 in labels with no predicted samples. Use `zero_division` parameter to control this behavior.\n",
      "  _warn_prf(average, modifier, msg_start, len(result))\n",
      "/Users/mticona/.local/share/virtualenvs/licentiate-thesis-repo-_Hfi4eev/lib/python3.9/site-packages/sklearn/metrics/_classification.py:1327: UndefinedMetricWarning: Precision and F-score are ill-defined and being set to 0.0 in labels with no predicted samples. Use `zero_division` parameter to control this behavior.\n",
      "  _warn_prf(average, modifier, msg_start, len(result))\n",
      "/Users/mticona/.local/share/virtualenvs/licentiate-thesis-repo-_Hfi4eev/lib/python3.9/site-packages/sklearn/metrics/_classification.py:1327: UndefinedMetricWarning: Precision and F-score are ill-defined and being set to 0.0 in labels with no predicted samples. Use `zero_division` parameter to control this behavior.\n",
      "  _warn_prf(average, modifier, msg_start, len(result))\n",
      "/Users/mticona/.local/share/virtualenvs/licentiate-thesis-repo-_Hfi4eev/lib/python3.9/site-packages/sklearn/metrics/_classification.py:1327: UndefinedMetricWarning: Precision and F-score are ill-defined and being set to 0.0 in labels with no predicted samples. Use `zero_division` parameter to control this behavior.\n",
      "  _warn_prf(average, modifier, msg_start, len(result))\n",
      "/Users/mticona/.local/share/virtualenvs/licentiate-thesis-repo-_Hfi4eev/lib/python3.9/site-packages/sklearn/metrics/_classification.py:1327: UndefinedMetricWarning: Precision and F-score are ill-defined and being set to 0.0 in labels with no predicted samples. Use `zero_division` parameter to control this behavior.\n",
      "  _warn_prf(average, modifier, msg_start, len(result))\n",
      "/Users/mticona/.local/share/virtualenvs/licentiate-thesis-repo-_Hfi4eev/lib/python3.9/site-packages/sklearn/metrics/_classification.py:1327: UndefinedMetricWarning: Precision and F-score are ill-defined and being set to 0.0 in labels with no predicted samples. Use `zero_division` parameter to control this behavior.\n",
      "  _warn_prf(average, modifier, msg_start, len(result))\n",
      "/Users/mticona/.local/share/virtualenvs/licentiate-thesis-repo-_Hfi4eev/lib/python3.9/site-packages/sklearn/metrics/_classification.py:1327: UndefinedMetricWarning: Precision and F-score are ill-defined and being set to 0.0 in labels with no predicted samples. Use `zero_division` parameter to control this behavior.\n",
      "  _warn_prf(average, modifier, msg_start, len(result))\n",
      "/Users/mticona/.local/share/virtualenvs/licentiate-thesis-repo-_Hfi4eev/lib/python3.9/site-packages/sklearn/metrics/_classification.py:1327: UndefinedMetricWarning: Precision and F-score are ill-defined and being set to 0.0 in labels with no predicted samples. Use `zero_division` parameter to control this behavior.\n",
      "  _warn_prf(average, modifier, msg_start, len(result))\n",
      "/Users/mticona/.local/share/virtualenvs/licentiate-thesis-repo-_Hfi4eev/lib/python3.9/site-packages/sklearn/metrics/_classification.py:1327: UndefinedMetricWarning: Precision and F-score are ill-defined and being set to 0.0 in labels with no predicted samples. Use `zero_division` parameter to control this behavior.\n",
      "  _warn_prf(average, modifier, msg_start, len(result))\n",
      "/Users/mticona/.local/share/virtualenvs/licentiate-thesis-repo-_Hfi4eev/lib/python3.9/site-packages/sklearn/metrics/_classification.py:1327: UndefinedMetricWarning: Precision and F-score are ill-defined and being set to 0.0 in labels with no predicted samples. Use `zero_division` parameter to control this behavior.\n",
      "  _warn_prf(average, modifier, msg_start, len(result))\n",
      "/Users/mticona/.local/share/virtualenvs/licentiate-thesis-repo-_Hfi4eev/lib/python3.9/site-packages/sklearn/metrics/_classification.py:1327: UndefinedMetricWarning: Precision and F-score are ill-defined and being set to 0.0 in labels with no predicted samples. Use `zero_division` parameter to control this behavior.\n",
      "  _warn_prf(average, modifier, msg_start, len(result))\n",
      "/Users/mticona/.local/share/virtualenvs/licentiate-thesis-repo-_Hfi4eev/lib/python3.9/site-packages/sklearn/metrics/_classification.py:1327: UndefinedMetricWarning: Precision and F-score are ill-defined and being set to 0.0 in labels with no predicted samples. Use `zero_division` parameter to control this behavior.\n",
      "  _warn_prf(average, modifier, msg_start, len(result))\n"
     ]
    }
   ],
   "source": [
    "DEBUG = False\n",
    "\n",
    "for SEED in range(0,50):\n",
    "    model_config_rf['random_state'] = SEED\n",
    "    if DEBUG:\n",
    "        print(\"Running with sample seed: %s\\n\" % SEED)\n",
    "    # generate samples from dataset grouped by amine and target\n",
    "    solvent_data_eval_sample = { solvent: data.groupby([TARGET_COL, ORGANOAMONIUM_INCHI_KEY_COL])\\\n",
    "                                .sample(frac=0.2, random_state=SEED)\\\n",
    "                                .drop([ORGANOAMONIUM_INCHI_KEY_COL], axis=1) \\\n",
    "                                for solvent, data in solvents_data.items()}\n",
    "\n",
    "    solvent_data_remain_sample = { solvent: data.loc[~data.index\\\n",
    "                                                     .isin(solvent_data_eval_sample[solvent].index)]\\\n",
    "                                for solvent, data in solvents_data.items()}\n",
    "\n",
    "    df_solvent_samples_test = regenerate_sample(original_sample_dict=solvent_data_eval_sample,\n",
    "                                                target_sample_dict=df_by_solvent)\n",
    "\n",
    "    df_solvent_samples_train = { solvent: data.loc[~data.index\\\n",
    "                                                     .isin(df_solvent_samples_test[solvent].index)]\\\n",
    "                                for solvent, data in df_by_solvent.items()}\n",
    "\n",
    "    if DEBUG:\n",
    "        print(\"Testing data:\")\n",
    "        for olvent, data in df_solvent_samples_test.items():\n",
    "            print(solvent, len(data))\n",
    "\n",
    "        print(\"\\nTraininig data:\")    \n",
    "        for solvent, data in df_solvent_samples_train.items():\n",
    "            print(solvent, len(data))\n",
    "\n",
    "    #########################3### generate evaluation sets ##########\n",
    "\n",
    "    EVAL_MULTISOLVENT = pd.concat([data for solvent, data in df_solvent_samples_test.items()], axis=0)\n",
    "\n",
    "    #EVAL_MULTISOLVENT.to_csv(\"data/solvent-experiment/encoded-solvent-eval-multisolvent_%s.csv\" % SEED, index=None)\n",
    "\n",
    "    # generate encoded solvent train dataset\n",
    "    df_solvent_full_train = pd.concat([data for solvent, data in df_solvent_samples_train.items()],\n",
    "                                      axis=0).reset_index(drop=True)\n",
    "\n",
    "    df_solvent_full_train.to_csv(\"data/solvent-experiment/encoded-solvent-training_%s.csv\" % \\\n",
    "                                 (SEED),\n",
    "                                 index=None)\n",
    "\n",
    "    df_solvent_full_train = pd.read_csv(\"data/solvent-experiment/encoded-solvent-training_%s.csv\" % \\\n",
    "                                 (SEED))\n",
    "\n",
    "    ################################ run experiments ###################\n",
    "\n",
    "\n",
    "    # Experiments 1\n",
    "    # test in a MULTISOLVENT sample (encoded)\n",
    "    # test in same sample but without encoded solvent feature\n",
    "    def exp_drop_solvent(model_name, df_train, df_test, model_config = {}):\n",
    "        drop_cols = ['solvent_Dimethyl sulfoxide', \n",
    "                     'solvent_Dimethylformamide',\n",
    "                     'solvent_Gamma-Butyrolactone']\n",
    "        df_train = df_train.drop(drop_cols, axis=1)\n",
    "        df_test = df_test.drop(drop_cols, axis=1)\n",
    "        return proof_concept(model_name, df_train, df_test, model_config)\n",
    "\n",
    "    ALGORITHMS = ['rf']\n",
    "\n",
    "    results_dir = \"results/solvent_exp_1/\"\n",
    "\n",
    "    model_EVAL_MULTISOLVENT = EVAL_MULTISOLVENT.drop(['solvent'], axis=1)\n",
    "\n",
    "    model_df_solvent_full_train = df_solvent_full_train.drop(['solvent'], axis=1)\n",
    "\n",
    "\n",
    "    for ALGORITH in ALGORITHMS:\n",
    "        results_multisv = proof_concept(models[ALGORITHM], model_df_solvent_full_train, model_EVAL_MULTISOLVENT,\n",
    "                                            model_configs[ALGORITHM])\n",
    "\n",
    "        results_no_sv = exp_drop_solvent(models[ALGORITHM], model_df_solvent_full_train, model_EVAL_MULTISOLVENT,\n",
    "                                            model_configs[ALGORITHM])\n",
    "\n",
    "        results_multisv.to_csv(results_dir+\"eval_multisolvente_encoded_%s_%s.csv\" % (SEED, ALGORITH), index=None)\n",
    "\n",
    "        results_no_sv.to_csv(results_dir+\"eval_no_solvent_%s_%s.csv\" % (SEED, ALGORITH), index=None)\n",
    "        \n",
    "            \n",
    "    # Experimento 2\n",
    "    dir_results = \"results/solvent_exp_2/\"\n",
    "\n",
    "    for solvent in solvents:\n",
    "        drop_cols = ['solvent_Dimethyl sulfoxide', \n",
    "                     'solvent_Dimethylformamide',\n",
    "                     'solvent_Gamma-Butyrolactone',\n",
    "                    'solvent']\n",
    "\n",
    "        df_train_sv = df_solvent_full_train[df_solvent_full_train.solvent == solvent].drop(drop_cols, axis=1)\n",
    "\n",
    "        df_test_sv = EVAL_MULTISOLVENT[EVAL_MULTISOLVENT.solvent == solvent].drop(drop_cols, axis=1)\n",
    "\n",
    "        df_test_sv_encoded = EVAL_MULTISOLVENT[EVAL_MULTISOLVENT.solvent == solvent].drop('solvent', axis=1)\n",
    "        df_train_sv_encoded = df_solvent_full_train.drop('solvent', axis=1)\n",
    "\n",
    "        # modelo específico por solvente\n",
    "        report_sv = proof_concept(models[ALGORITHM], df_train_sv, df_test_sv,\n",
    "                                  model_configs[ALGORITHM])\n",
    "\n",
    "\n",
    "        # misma muestra en modelo multisolvente\n",
    "        report_multisv = proof_concept(models[ALGORITHM], df_train_sv_encoded, df_test_sv_encoded,\n",
    "                                       model_configs[ALGORITHM])\n",
    "\n",
    "\n",
    "        report_sv.to_csv(dir_results+'model_per_solv_%s_%s.csv' % (SEED, solvent), index=None)\n",
    "        report_multisv.to_csv(dir_results+'sample_%s_%s_in_multisolvent.csv' % (SEED, solvent), index=None)\n",
    "        \n",
    "    if DEBUG:\n",
    "        print(\"Done experiment %s\\n\" % SEED)\n",
    "    "
   ]
  },
  {
   "cell_type": "code",
   "execution_count": null,
   "id": "fb73008d-b1de-4016-9d7c-fc896f261337",
   "metadata": {},
   "outputs": [],
   "source": [
    "        \n",
    "    # Experimento 2\n",
    "    dir_results = \"results/solvent_exp_2/\"\n",
    "\n",
    "    for solvent in solvents:\n",
    "        drop_cols = ['solvent_Dimethyl sulfoxide', \n",
    "                     'solvent_Dimethylformamide',\n",
    "                     'solvent_Gamma-Butyrolactone',\n",
    "                    'solvent']\n",
    "\n",
    "        df_train_sv = df_solvent_full_train[df_solvent_full_train.solvent == solvent].drop(drop_cols, axis=1)\n",
    "\n",
    "        df_test_sv = EVAL_MULTISOLVENT[EVAL_MULTISOLVENT.solvent == solvent].drop(drop_cols, axis=1)\n",
    "\n",
    "        df_test_sv_encoded = EVAL_MULTISOLVENT[EVAL_MULTISOLVENT.solvent == solvent].drop('solvent', axis=1)\n",
    "        df_train_sv_encoded = df_solvent_full_train.drop('solvent', axis=1)\n",
    "\n",
    "        # modelo específico por solvente\n",
    "        report_sv = proof_concept(models[ALGORITHM], df_train_sv, df_test_sv,\n",
    "                                  model_configs[ALGORITHM])\n",
    "\n",
    "\n",
    "        # misma muestra en modelo multisolvente\n",
    "        report_multisv = proof_concept(models[ALGORITHM], df_train_sv_encoded, df_test_sv_encoded,\n",
    "                                       model_configs[ALGORITHM])\n",
    "\n",
    "\n",
    "        report_sv.to_csv(dir_results+'model_per_solv_%s_%s.csv' % (SEED, solvent), index=None)\n",
    "        report_multisv.to_csv(dir_results+'sample_%s_%s_in_multisolvent.csv' % (SEED, solvent), index=None)\n",
    "        \n",
    "    if DEBUG:\n",
    "        print(\"Done experiment %s\\n\" % SEED)"
   ]
  },
  {
   "cell_type": "code",
   "execution_count": 167,
   "id": "d57321e7-71e8-4381-8486-724bbd96b53b",
   "metadata": {},
   "outputs": [],
   "source": [
    "# Experiments 1\n",
    "# test in a MULTISOLVENT sample (encoded)\n",
    "# test in same sample but without encoded solvent feature\n",
    "def exp_drop_solvent(model_name, df_train, df_test, k_fold_config, model_config = {}):\n",
    "    drop_cols = ['solvent_Dimethyl sulfoxide', \n",
    "                 'solvent_Dimethylformamide',\n",
    "                 'solvent_Gamma-Butyrolactone']\n",
    "    df_train = df_train.drop(drop_cols, axis=1)\n",
    "    df_test = df_test.drop(drop_cols, axis=1)\n",
    "    #return proof_concept(model_name, df_train, df_test, model_config)\n",
    "    return full_pipeline(model_name, df_train, df_test, k_fold_config, model_config)\n",
    "\n",
    "ALGORITHMS = ['rf']\n",
    "\n",
    "results_dir = \"solvent_exp_1_crossval\"\n",
    "\n",
    "model_EVAL_MULTISOLVENT = EVAL_MULTISOLVENT.drop(['solvent'], axis=1)\n",
    "\n",
    "model_df_solvent_full_train = df_solvent_full_train.drop(['solvent'], axis=1)\n",
    "\n",
    "\n",
    "for ALGORITH in ALGORITHMS:\n",
    "    results_experiment_1 = full_pipeline(models[ALGORITHM], model_df_solvent_full_train, model_EVAL_MULTISOLVENT, k_fold_config,\n",
    "                                        model_configs[ALGORITHM])\n",
    "\n",
    "    results_experiment_s_sv = exp_drop_solvent(models[ALGORITHM], model_df_solvent_full_train, model_EVAL_MULTISOLVENT, k_fold_config,\n",
    "                                        model_configs[ALGORITHM])\n",
    "\n",
    "    report_multisv =  pd.DataFrame(results_experiment_1)\n",
    "    report_no_sol =  pd.DataFrame(results_experiment_s_sv)    \n"
   ]
  },
  {
   "cell_type": "code",
   "execution_count": 172,
   "id": "ced4e645-6cd0-494d-a202-54348fcc1c7f",
   "metadata": {},
   "outputs": [],
   "source": [
    "def exp_2_boxplot(df):\n",
    "    #with plt.style.context(['science', 'bright']):\n",
    "    g = sns.catplot(x=\"Métrica\", y=\"Score\",\n",
    "                hue=\"Exp\", col='sv', col_wrap=3, height=3, aspect=1.2,\n",
    "                #col_order=[\"Cristaliza\", \"No cristaliza\"], \n",
    "                    #palette=[bright.red, bright.grey],\n",
    "                kind='box', sharey=True, sharex=True, data=df, legend=True)\n"
   ]
  },
  {
   "cell_type": "code",
   "execution_count": 177,
   "id": "0fdab3ba-c582-42eb-9a15-009c0a27f598",
   "metadata": {},
   "outputs": [
    {
     "data": {
      "text/plain": [
       "<AxesSubplot:>"
      ]
     },
     "execution_count": 177,
     "metadata": {},
     "output_type": "execute_result"
    },
    {
     "data": {
      "image/png": "[encoded data removed]",
      "text/plain": [
       "<Figure size 640x480 with 1 Axes>"
      ]
     },
     "metadata": {},
     "output_type": "display_data"
    }
   ],
   "source": [
    "test_cols = [col for col in report_multisv.columns if col.startswith(\"test\")]\n",
    "\n",
    "report_multisv[test_cols].boxplot(column=test_cols)  "
   ]
  },
  {
   "cell_type": "code",
   "execution_count": 178,
   "id": "ded0023a-b809-4f98-895f-bc9a8195833f",
   "metadata": {},
   "outputs": [
    {
     "data": {
      "text/plain": [
       "<AxesSubplot:>"
      ]
     },
     "execution_count": 178,
     "metadata": {},
     "output_type": "execute_result"
    },
    {
     "data": {
      "image/png": "[encoded data removed]",
      "text/plain": [
       "<Figure size 640x480 with 1 Axes>"
      ]
     },
     "metadata": {},
     "output_type": "display_data"
    }
   ],
   "source": [
    "report_no_sol[test_cols].boxplot(column=test_cols)  "
   ]
  },
  {
   "cell_type": "code",
   "execution_count": 184,
   "id": "ffb462e5-6474-4ba0-ba21-919a007e5174",
   "metadata": {},
   "outputs": [],
   "source": [
    "results_dir = \"results/solvent_exp_1_crossval/\"\n",
    "\n",
    "report_multisv.to_csv(results_dir+\"eval_multisolvente_encoded_%s_%s.csv\" % (SEED, ALGORITH), index=None)\n",
    "\n",
    "report_no_sol.to_csv(results_dir+\"eval_no_solvent_%s_%s.csv\" % (SEED, ALGORITH), index=None)"
   ]
  },
  {
   "cell_type": "code",
   "execution_count": 139,
   "id": "542071c8-2978-470b-a0b9-014ecd773d6b",
   "metadata": {},
   "outputs": [
    {
     "data": {
      "text/html": [
       "<div>\n",
       "<style scoped>\n",
       "    .dataframe tbody tr th:only-of-type {\n",
       "        vertical-align: middle;\n",
       "    }\n",
       "\n",
       "    .dataframe tbody tr th {\n",
       "        vertical-align: top;\n",
       "    }\n",
       "\n",
       "    .dataframe thead th {\n",
       "        text-align: right;\n",
       "    }\n",
       "</style>\n",
       "<table border=\"1\" class=\"dataframe\">\n",
       "  <thead>\n",
       "    <tr style=\"text-align: right;\">\n",
       "      <th></th>\n",
       "      <th>No cristaliza</th>\n",
       "      <th>Cristaliza</th>\n",
       "      <th>accuracy</th>\n",
       "      <th>macro avg</th>\n",
       "      <th>weighted avg</th>\n",
       "    </tr>\n",
       "  </thead>\n",
       "  <tbody>\n",
       "    <tr>\n",
       "      <th>precision</th>\n",
       "      <td>0.935294</td>\n",
       "      <td>0.650000</td>\n",
       "      <td>0.880952</td>\n",
       "      <td>0.792647</td>\n",
       "      <td>0.885028</td>\n",
       "    </tr>\n",
       "    <tr>\n",
       "      <th>recall</th>\n",
       "      <td>0.919075</td>\n",
       "      <td>0.702703</td>\n",
       "      <td>0.880952</td>\n",
       "      <td>0.810889</td>\n",
       "      <td>0.880952</td>\n",
       "    </tr>\n",
       "    <tr>\n",
       "      <th>f1-score</th>\n",
       "      <td>0.927114</td>\n",
       "      <td>0.675325</td>\n",
       "      <td>0.880952</td>\n",
       "      <td>0.801219</td>\n",
       "      <td>0.882751</td>\n",
       "    </tr>\n",
       "    <tr>\n",
       "      <th>support</th>\n",
       "      <td>173.000000</td>\n",
       "      <td>37.000000</td>\n",
       "      <td>0.880952</td>\n",
       "      <td>210.000000</td>\n",
       "      <td>210.000000</td>\n",
       "    </tr>\n",
       "  </tbody>\n",
       "</table>\n",
       "</div>"
      ],
      "text/plain": [
       "           No cristaliza  Cristaliza  accuracy   macro avg  weighted avg\n",
       "precision       0.935294    0.650000  0.880952    0.792647      0.885028\n",
       "recall          0.919075    0.702703  0.880952    0.810889      0.880952\n",
       "f1-score        0.927114    0.675325  0.880952    0.801219      0.882751\n",
       "support       173.000000   37.000000  0.880952  210.000000    210.000000"
      ]
     },
     "execution_count": 139,
     "metadata": {},
     "output_type": "execute_result"
    }
   ],
   "source": [
    "report_multisv.transpose()"
   ]
  },
  {
   "cell_type": "code",
   "execution_count": 140,
   "id": "26a32577-187b-4b83-8d54-d1f1648804c1",
   "metadata": {},
   "outputs": [
    {
     "data": {
      "text/html": [
       "<div>\n",
       "<style scoped>\n",
       "    .dataframe tbody tr th:only-of-type {\n",
       "        vertical-align: middle;\n",
       "    }\n",
       "\n",
       "    .dataframe tbody tr th {\n",
       "        vertical-align: top;\n",
       "    }\n",
       "\n",
       "    .dataframe thead th {\n",
       "        text-align: right;\n",
       "    }\n",
       "</style>\n",
       "<table border=\"1\" class=\"dataframe\">\n",
       "  <thead>\n",
       "    <tr style=\"text-align: right;\">\n",
       "      <th></th>\n",
       "      <th>No cristaliza</th>\n",
       "      <th>Cristaliza</th>\n",
       "      <th>accuracy</th>\n",
       "      <th>macro avg</th>\n",
       "      <th>weighted avg</th>\n",
       "    </tr>\n",
       "  </thead>\n",
       "  <tbody>\n",
       "    <tr>\n",
       "      <th>precision</th>\n",
       "      <td>0.916993</td>\n",
       "      <td>0.740909</td>\n",
       "      <td>0.891116</td>\n",
       "      <td>0.828951</td>\n",
       "      <td>0.885352</td>\n",
       "    </tr>\n",
       "    <tr>\n",
       "      <th>recall</th>\n",
       "      <td>0.953583</td>\n",
       "      <td>0.605948</td>\n",
       "      <td>0.891116</td>\n",
       "      <td>0.779766</td>\n",
       "      <td>0.891116</td>\n",
       "    </tr>\n",
       "    <tr>\n",
       "      <th>f1-score</th>\n",
       "      <td>0.934930</td>\n",
       "      <td>0.666667</td>\n",
       "      <td>0.891116</td>\n",
       "      <td>0.800798</td>\n",
       "      <td>0.886725</td>\n",
       "    </tr>\n",
       "    <tr>\n",
       "      <th>support</th>\n",
       "      <td>1228.000000</td>\n",
       "      <td>269.000000</td>\n",
       "      <td>0.891116</td>\n",
       "      <td>1497.000000</td>\n",
       "      <td>1497.000000</td>\n",
       "    </tr>\n",
       "  </tbody>\n",
       "</table>\n",
       "</div>"
      ],
      "text/plain": [
       "           No cristaliza  Cristaliza  accuracy    macro avg  weighted avg\n",
       "precision       0.916993    0.740909  0.891116     0.828951      0.885352\n",
       "recall          0.953583    0.605948  0.891116     0.779766      0.891116\n",
       "f1-score        0.934930    0.666667  0.891116     0.800798      0.886725\n",
       "support      1228.000000  269.000000  0.891116  1497.000000   1497.000000"
      ]
     },
     "execution_count": 140,
     "metadata": {},
     "output_type": "execute_result"
    }
   ],
   "source": [
    "report_no_sol"
   ]
  },
  {
   "cell_type": "code",
   "execution_count": 125,
   "id": "087a426d-a74b-410b-b7c5-e52841d34074",
   "metadata": {},
   "outputs": [],
   "source": [
    "# Experimento 2\n",
    "dir_results = \"results_exp_2/\"\n",
    "\n",
    "for solvent in solvents:\n",
    "    drop_cols = ['solvent_Dimethyl sulfoxide', \n",
    "                 'solvent_Dimethylformamide',\n",
    "                 'solvent_Gamma-Butyrolactone',\n",
    "                'solvent']\n",
    "    \n",
    "    df_train_sv = df_solvent_full_train[df_solvent_full_train.solvent == solvent].drop(drop_cols, axis=1)\n",
    "    \n",
    "    df_test_sv = EVAL_MULTISOLVENT[EVAL_MULTISOLVENT.solvent == solvent].drop(drop_cols, axis=1)\n",
    "    \n",
    "    df_test_sv_encoded = EVAL_MULTISOLVENT[EVAL_MULTISOLVENT.solvent == solvent].drop('solvent', axis=1)\n",
    "    df_train_sv_encoded = df_solvent_full_train.drop('solvent', axis=1)\n",
    "    \n",
    "    # modelo específico por solvente\n",
    "    report_sv = proof_concept(models[ALGORITHM], df_train_sv, df_test_sv,\n",
    "                              model_configs[ALGORITHM])\n",
    "                              \n",
    "    \n",
    "    # misma muestra en modelo multisolvente\n",
    "    report_multisv = proof_concept(models[ALGORITHM], df_train_sv_encoded, df_test_sv_encoded,\n",
    "                                   model_configs[ALGORITHM])\n",
    "                                   \n",
    "    \n",
    "    report_sv.to_csv(dir_results+'model_per_solv_%s_%s.csv' % (SEED, solvent), index=None)\n",
    "    report_multisv.to_csv(dir_results+'sample_%s_%s_in_multisolvent.csv' % (SEED, solvent), index=None)"
   ]
  },
  {
   "cell_type": "code",
   "execution_count": 144,
   "id": "5650821d-730b-4c9d-becb-cee72244084c",
   "metadata": {},
   "outputs": [],
   "source": [
    "report_sv[\"matthew\"] = 3"
   ]
  },
  {
   "cell_type": "code",
   "execution_count": 145,
   "id": "37e689f3-5639-41a3-9db6-67628ce3d609",
   "metadata": {},
   "outputs": [
    {
     "data": {
      "text/html": [
       "<div>\n",
       "<style scoped>\n",
       "    .dataframe tbody tr th:only-of-type {\n",
       "        vertical-align: middle;\n",
       "    }\n",
       "\n",
       "    .dataframe tbody tr th {\n",
       "        vertical-align: top;\n",
       "    }\n",
       "\n",
       "    .dataframe thead th {\n",
       "        text-align: right;\n",
       "    }\n",
       "</style>\n",
       "<table border=\"1\" class=\"dataframe\">\n",
       "  <thead>\n",
       "    <tr style=\"text-align: right;\">\n",
       "      <th></th>\n",
       "      <th>precision</th>\n",
       "      <th>recall</th>\n",
       "      <th>f1-score</th>\n",
       "      <th>support</th>\n",
       "      <th>matthew</th>\n",
       "    </tr>\n",
       "  </thead>\n",
       "  <tbody>\n",
       "    <tr>\n",
       "      <th>No cristaliza</th>\n",
       "      <td>0.934911</td>\n",
       "      <td>0.913295</td>\n",
       "      <td>0.923977</td>\n",
       "      <td>173.00000</td>\n",
       "      <td>3</td>\n",
       "    </tr>\n",
       "    <tr>\n",
       "      <th>Cristaliza</th>\n",
       "      <td>0.634146</td>\n",
       "      <td>0.702703</td>\n",
       "      <td>0.666667</td>\n",
       "      <td>37.00000</td>\n",
       "      <td>3</td>\n",
       "    </tr>\n",
       "    <tr>\n",
       "      <th>accuracy</th>\n",
       "      <td>0.876190</td>\n",
       "      <td>0.876190</td>\n",
       "      <td>0.876190</td>\n",
       "      <td>0.87619</td>\n",
       "      <td>3</td>\n",
       "    </tr>\n",
       "    <tr>\n",
       "      <th>macro avg</th>\n",
       "      <td>0.784529</td>\n",
       "      <td>0.807999</td>\n",
       "      <td>0.795322</td>\n",
       "      <td>210.00000</td>\n",
       "      <td>3</td>\n",
       "    </tr>\n",
       "    <tr>\n",
       "      <th>weighted avg</th>\n",
       "      <td>0.881919</td>\n",
       "      <td>0.876190</td>\n",
       "      <td>0.878641</td>\n",
       "      <td>210.00000</td>\n",
       "      <td>3</td>\n",
       "    </tr>\n",
       "  </tbody>\n",
       "</table>\n",
       "</div>"
      ],
      "text/plain": [
       "               precision    recall  f1-score    support  matthew\n",
       "No cristaliza   0.934911  0.913295  0.923977  173.00000        3\n",
       "Cristaliza      0.634146  0.702703  0.666667   37.00000        3\n",
       "accuracy        0.876190  0.876190  0.876190    0.87619        3\n",
       "macro avg       0.784529  0.807999  0.795322  210.00000        3\n",
       "weighted avg    0.881919  0.876190  0.878641  210.00000        3"
      ]
     },
     "execution_count": 145,
     "metadata": {},
     "output_type": "execute_result"
    }
   ],
   "source": [
    "report_sv"
   ]
  },
  {
   "cell_type": "markdown",
   "id": "2c042c51",
   "metadata": {},
   "source": [
    "Features importances only computed for RandomForest"
   ]
  },
  {
   "cell_type": "code",
   "execution_count": 1058,
   "id": "48d7e176",
   "metadata": {},
   "outputs": [
    {
     "data": {
      "text/plain": [
       "'rf'"
      ]
     },
     "execution_count": 1058,
     "metadata": {},
     "output_type": "execute_result"
    }
   ],
   "source": [
    "ALGORITHM"
   ]
  },
  {
   "cell_type": "code",
   "execution_count": 1059,
   "id": "e729ff71",
   "metadata": {},
   "outputs": [],
   "source": [
    "df_solvent_models = {solvent: proof_concept_model(models[ALGORITHM], df_solvent_full_train, df_test) \\\n",
    "                        for solvent, df_test in df_solvent_samples_test.items() }"
   ]
  },
  {
   "cell_type": "markdown",
   "id": "6b0d6561",
   "metadata": {},
   "source": [
    "model_cols = list(df_solvent_full_train.columns)\n",
    "model_cols.remove(TARGET_COL)"
   ]
  },
  {
   "cell_type": "markdown",
   "id": "22692c0a",
   "metadata": {},
   "source": [
    "df_importance = pd.DataFrame({\"feature\": model_cols,\n",
    "                             \"importance\": df_solvent_models['Gamma-Butyrolactone']['model'].feature_importances_})\n",
    "df_importance = df_importance.sort_values(by=\"importance\", ascending=False)"
   ]
  },
  {
   "cell_type": "code",
   "execution_count": 1060,
   "id": "d171e540",
   "metadata": {},
   "outputs": [],
   "source": [
    "#df_importance.to_csv(\"results/solvent-exp/random_forest_feat_importances.csv\", index=None)"
   ]
  },
  {
   "cell_type": "markdown",
   "id": "883c9971",
   "metadata": {},
   "source": [
    "df_importance = pd.read_csv(\"random_forest_feat_importances.csv\")"
   ]
  },
  {
   "cell_type": "code",
   "execution_count": 1061,
   "id": "6d6207d8",
   "metadata": {},
   "outputs": [],
   "source": [
    "#df_importance.reset_index().head(50)"
   ]
  },
  {
   "cell_type": "markdown",
   "id": "f3c7a9fa",
   "metadata": {},
   "source": [
    "plot_title = \"figures/feature_importances.pdf\"\n",
    "def plot_df_importances(df):\n",
    "    with plt.style.context(['science', 'bright']):\n",
    "        #sns.set_palette(sns.color_palette(color_bright))\n",
    "        fig, axes = plt.subplots(1, 1, figsize=(8,5),\n",
    "                                     constrained_layout = True)\n",
    "        ax = sns.barplot(x=\"importance\", y=\"feature\", orient=\"h\", data=df,\n",
    "                         palette=df.color, alpha=0.7)\n",
    "        #ax.set_title(\"Distribución Calidad de Cristal\")\n",
    "\n",
    "        # Remove box lines\n",
    "        sns.despine(bottom = True, left = False, trim=False)\n",
    "        ax.tick_params(which=\"both\", left=False, bottom=False, top=False, right=False)\n",
    "        #ax.xticks(fontdict={'fontsize':15})\n",
    "        #ax.tick_params(axis='both', which='both')\n",
    "        ax.set_ylabel(\"Importancia\", fontdict={'fontsize':13})\n",
    "        ax.set_xlabel(\"Variable\", fontdict={'fontsize':13}, rotation=0)\n",
    "        #ax.yaxis.set_major_formatter(FuncFormatter(lambda x, _: int(x)))\n",
    "        #plt.xticks()\n",
    "        plt.xticks(fontsize=11)\n",
    "        plt.yticks(fontsize=12)\n",
    "\n",
    "\n",
    "    #        ax.annotate(text, (x, y), ha='center', va='center', fontsize=12)\n",
    "\n",
    "        #plt.legend(title=\"Tipo de Variable\", fontsize=13)\n",
    "        plt.xlim(0,0.015)\n",
    "        fig.savefig(plot_title, dpi=300)"
   ]
  },
  {
   "cell_type": "code",
   "execution_count": 1062,
   "id": "3d2e4d33",
   "metadata": {},
   "outputs": [],
   "source": [
    "# fronteroa  de toma de posición \n",
    "# misma superficie no cambia tanto \n",
    "# por qupe tan bajo peso\n",
    "\n",
    "# combinar modelos\n",
    "# binarización más fuerte"
   ]
  },
  {
   "cell_type": "markdown",
   "id": "a7a6ef9c",
   "metadata": {},
   "source": [
    "indexes = np.arange(0,60,6)"
   ]
  },
  {
   "cell_type": "markdown",
   "id": "1113e6ac",
   "metadata": {},
   "source": [
    "tmp = df_importance.iloc[3:,:].reset_index(drop=True)\n",
    "#.reset_index(drop=True).loc[indexes]"
   ]
  },
  {
   "cell_type": "markdown",
   "id": "eb0de25a",
   "metadata": {},
   "source": [
    "tmp['color'] = np.where(tmp['feature'].str.startswith(\"solvent\"), 'red', 'grey')"
   ]
  },
  {
   "cell_type": "markdown",
   "id": "e589893b",
   "metadata": {},
   "source": [
    "solvent_index = tmp[tmp.feature.str.startswith(\"solvent\")].index"
   ]
  },
  {
   "cell_type": "markdown",
   "id": "786b45ad",
   "metadata": {},
   "source": [
    "plot_df_importances(tmp.iloc[list(indexes) + list(solvent_index)]\\\n",
    "                    .sort_values(by=\"importance\", ascending=False))"
   ]
  },
  {
   "cell_type": "code",
   "execution_count": null,
   "id": "677a63fb",
   "metadata": {},
   "outputs": [],
   "source": []
  }
 ],
 "metadata": {
  "interpreter": {
   "hash": "2dd68b6b88d78f72e555cd6564eaf72c9813991942e2722f811fa2c9051f75f2"
  },
  "kernelspec": {
   "display_name": "tesis-notebooks",
   "language": "python",
   "name": "tesis-notebooks"
  },
  "language_info": {
   "codemirror_mode": {
    "name": "ipython",
    "version": 3
   },
   "file_extension": ".py",
   "mimetype": "text/x-python",
   "name": "python",
   "nbconvert_exporter": "python",
   "pygments_lexer": "ipython3",
   "version": "3.9.7"
  }
 },
 "nbformat": 4,
 "nbformat_minor": 5
}
