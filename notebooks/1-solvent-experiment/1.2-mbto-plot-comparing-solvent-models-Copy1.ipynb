{
 "cells": [
  {
   "cell_type": "markdown",
   "id": "af4bd999",
   "metadata": {},
   "source": [
    "-entrenamos en GBL\n",
    "-entrenamos en GBL + otros solventes\n",
    "-testeamos en ambos casos en GBL, no habia cols de solventes\n",
    "\n",
    "- luego lo encodeamos y repetimos lo mismo\n",
    "- no vemos que se vea afectada, seguimos igual pero con esa info\n",
    "\n",
    "\n"
   ]
  },
  {
   "cell_type": "code",
   "execution_count": 8,
   "id": "67da4c94",
   "metadata": {},
   "outputs": [],
   "source": [
    "import numpy as np\n",
    "import pandas as pd\n",
    "import matplotlib.pyplot as plt\n",
    "import seaborn as sns\n",
    "import itertools\n",
    "from src.config import chemical_inventory_path, raw_data_path\n",
    "from src.data import notebook_utils as utils\n",
    "from src.constants import GBL_INCHI_KEY, DMSO_INCHI_KEY, DMF_INCHI_KEY, \\\n",
    "                        INCHI_TO_CHEMNAME, TARGET_COL, RXN_FEAT_NAME, ORGANOAMONIUM_INCHI_KEY_COL\n",
    "from src import plot_utils\n",
    "from pathlib import Path"
   ]
  },
  {
   "cell_type": "code",
   "execution_count": 9,
   "id": "cc90ae07",
   "metadata": {},
   "outputs": [],
   "source": [
    "import matplotlib.pyplot as plt\n",
    "import matplotlib.ticker as mtick\n",
    "plt.style.reload_library()\n",
    "import matplotlib.patches as mpatches"
   ]
  },
  {
   "cell_type": "code",
   "execution_count": 43,
   "id": "d7b7793f",
   "metadata": {},
   "outputs": [],
   "source": [
    "solvent_exp_dir = Path(\"../../results2/\")\n",
    "solvent_drop_dir = Path(\"../../results3/\")\n",
    "solvent_exp_2 = Path(\"../../results_exp_2/\")"
   ]
  },
  {
   "cell_type": "code",
   "execution_count": 10,
   "id": "7994f2b7-6b27-4d8a-82cd-d065342e6138",
   "metadata": {},
   "outputs": [],
   "source": [
    "solvent_exp_1 = Path(\"../../results/solvent_exp_1\")\n",
    "solvent_exp_2 = Path(\"../../results/solvent_exp_2\")"
   ]
  },
  {
   "cell_type": "code",
   "execution_count": 11,
   "id": "03f77ae1",
   "metadata": {},
   "outputs": [],
   "source": [
    "solvents_inchies = [GBL_INCHI_KEY, DMSO_INCHI_KEY, DMF_INCHI_KEY]\n",
    "solvents = [INCHI_TO_CHEMNAME[inchie] for inchie in solvents_inchies]"
   ]
  },
  {
   "cell_type": "code",
   "execution_count": 12,
   "id": "94718596",
   "metadata": {},
   "outputs": [],
   "source": [
    "keywords_encoded_solvent = [\"rf\", INCHI_TO_CHEMNAME[GBL_INCHI_KEY]]\n",
    "no_keywords_dropped_solvent = [\"encoded\"]"
   ]
  },
  {
   "cell_type": "code",
   "execution_count": 13,
   "id": "a26f32a4-1300-4135-a101-58b3101ea218",
   "metadata": {},
   "outputs": [
    {
     "data": {
      "text/plain": [
       "['Gamma-Butyrolactone', 'Dimethyl sulfoxide', 'Dimethylformamide']"
      ]
     },
     "execution_count": 13,
     "metadata": {},
     "output_type": "execute_result"
    }
   ],
   "source": [
    "solvents"
   ]
  },
  {
   "cell_type": "code",
   "execution_count": 14,
   "id": "20d5d2e3-be71-4573-b152-782b35113f53",
   "metadata": {},
   "outputs": [],
   "source": [
    "sv_keywords = {'GBL': 'Gamma-Butyrolactone',\n",
    "               'DMSO': 'Dimethyl sulfoxide',\n",
    "               'DMF': 'Dimethylformamide'}"
   ]
  },
  {
   "cell_type": "code",
   "execution_count": 15,
   "id": "47e03c25-7215-4550-931c-86e113a32553",
   "metadata": {},
   "outputs": [],
   "source": [
    "# Experiment 2\n",
    "# Sample from each solvent evaluated in:\n",
    "# 1. specific model MONO\n",
    "# 2. multisolvent model MULTI\n",
    "\n",
    "exp_tags_preffix = [\"MONO_\", \"MULTI_\"]\n",
    "\n",
    "files_keys = [\"model_per\", \"multisolvent\"]\n",
    "\n",
    "algorithms = [\"rf\"]\n",
    "\n",
    "def get_experiment_solvent_2():\n",
    "    experiments_info = {}\n",
    "    for tag_preffix, files_key in zip(exp_tags_preffix, files_keys):\n",
    "        for sv, sv_name in sv_keywords.items():\n",
    "            exp_info = {\"keywords\": [sv_name, files_key]\n",
    "                       }\n",
    "            experiments_info[tag_preffix+sv] = exp_info\n",
    "    return experiments_info"
   ]
  },
  {
   "cell_type": "code",
   "execution_count": 16,
   "id": "5986cd85-3352-45e8-9c27-0657c27eec42",
   "metadata": {},
   "outputs": [],
   "source": [
    "experiments_info = get_experiment_solvent_2()"
   ]
  },
  {
   "cell_type": "code",
   "execution_count": 17,
   "id": "48c8998c-9b33-493e-8a64-1d2e2f0198e8",
   "metadata": {},
   "outputs": [
    {
     "data": {
      "text/plain": [
       "{'MONO_GBL': {'keywords': ['Gamma-Butyrolactone', 'model_per']},\n",
       " 'MONO_DMSO': {'keywords': ['Dimethyl sulfoxide', 'model_per']},\n",
       " 'MONO_DMF': {'keywords': ['Dimethylformamide', 'model_per']},\n",
       " 'MULTI_GBL': {'keywords': ['Gamma-Butyrolactone', 'multisolvent']},\n",
       " 'MULTI_DMSO': {'keywords': ['Dimethyl sulfoxide', 'multisolvent']},\n",
       " 'MULTI_DMF': {'keywords': ['Dimethylformamide', 'multisolvent']}}"
      ]
     },
     "execution_count": 17,
     "metadata": {},
     "output_type": "execute_result"
    }
   ],
   "source": [
    "experiments_info"
   ]
  },
  {
   "cell_type": "code",
   "execution_count": 19,
   "id": "c5f282b3",
   "metadata": {},
   "outputs": [],
   "source": [
    "def load_files_containing(dir_src_path, key_words, not_keywords=[], extension='csv'):\n",
    "    files = [file_path for file_path in dir_src_path.iterdir() \\\n",
    "                if all(keyword in file_path.as_posix() for keyword in key_words)\n",
    "                and not any(keyword in file_path.as_posix() for keyword in not_keywords)]\n",
    "    return files"
   ]
  },
  {
   "cell_type": "code",
   "execution_count": 2,
   "id": "af0e192f",
   "metadata": {},
   "outputs": [],
   "source": [
    "def load_melted_classi_report(path, experiment_tag):\n",
    "    report_index = ['No cristaliza', 'Cristaliza', 'accuracy',\n",
    "                    'macro avg', 'weighted avg'] \n",
    "    df = pd.read_csv(path)\n",
    "    df['Clase'] = report_index\n",
    "    df = df.melt(id_vars=['Clase'], \n",
    "                 value_vars=['precision', 'recall','f1-score', 'support', 'matthew'],\n",
    "                 value_name='Score', var_name='Métrica'\n",
    "                )\n",
    "    df[\"Tipo\"] = experiment_tag\n",
    "    return df\n",
    "\n",
    "def merge_files(files_dir, experiments_info):\n",
    "    experiments_data = []\n",
    "    \n",
    "    for experiment_tag, exp_info in experiments_info.items():\n",
    "        keywords = exp_info[\"keywords\"]\n",
    "        exp_files_list = load_files_containing(files_dir, key_words=keywords)\n",
    "\n",
    "        df_exp_data = pd.concat([load_melted_classi_report(file, experiment_tag) for file \n",
    "                                                        in exp_files_list],\n",
    "                                   axis=0)\n",
    "        experiments_data.append(df_exp_data)\n",
    "    #merge_class_report = merge_class_report[merge_class_report['Métrica'] != 'support']\n",
    "    #merge_class_report_by_class = merge_class_report.loc[merge_class_report['Clase']\\\n",
    "    #                                            .isin(['No cristaliza','Cristaliza'])]\n",
    "    return pd.concat(experiments_data, axis=0)"
   ]
  },
  {
   "cell_type": "code",
   "execution_count": 5,
   "id": "bd871d00-8a9d-4b04-906a-b2926796f528",
   "metadata": {},
   "outputs": [
    {
     "ename": "NameError",
     "evalue": "name 'solvent_exp_2' is not defined",
     "output_type": "error",
     "traceback": [
      "\u001b[0;31m---------------------------------------------------------------------------\u001b[0m",
      "\u001b[0;31mNameError\u001b[0m                                 Traceback (most recent call last)",
      "\u001b[0;32m/tmp/ipykernel_490166/720015659.py\u001b[0m in \u001b[0;36m<module>\u001b[0;34m\u001b[0m\n\u001b[0;32m----> 1\u001b[0;31m \u001b[0mdf_exp_2\u001b[0m \u001b[0;34m=\u001b[0m \u001b[0mmerge_files\u001b[0m\u001b[0;34m(\u001b[0m\u001b[0msolvent_exp_2\u001b[0m\u001b[0;34m,\u001b[0m \u001b[0mexperiments_info\u001b[0m\u001b[0;34m)\u001b[0m\u001b[0;34m\u001b[0m\u001b[0;34m\u001b[0m\u001b[0m\n\u001b[0m",
      "\u001b[0;31mNameError\u001b[0m: name 'solvent_exp_2' is not defined"
     ]
    }
   ],
   "source": [
    "df_exp_2 = merge_files(solvent_exp_2, experiments_info)"
   ]
  },
  {
   "cell_type": "code",
   "execution_count": 4,
   "id": "3722545d",
   "metadata": {},
   "outputs": [
    {
     "ename": "NameError",
     "evalue": "name 'df_exp_2' is not defined",
     "output_type": "error",
     "traceback": [
      "\u001b[0;31m---------------------------------------------------------------------------\u001b[0m",
      "\u001b[0;31mNameError\u001b[0m                                 Traceback (most recent call last)",
      "\u001b[0;32m/tmp/ipykernel_490166/1391180695.py\u001b[0m in \u001b[0;36m<module>\u001b[0;34m\u001b[0m\n\u001b[0;32m----> 1\u001b[0;31m \u001b[0mdf_exp_2\u001b[0m\u001b[0;34m.\u001b[0m\u001b[0mhead\u001b[0m\u001b[0;34m(\u001b[0m\u001b[0;36m25\u001b[0m\u001b[0;34m)\u001b[0m\u001b[0;34m\u001b[0m\u001b[0;34m\u001b[0m\u001b[0m\n\u001b[0m",
      "\u001b[0;31mNameError\u001b[0m: name 'df_exp_2' is not defined"
     ]
    }
   ],
   "source": [
    "df_exp_2.head(25)"
   ]
  },
  {
   "cell_type": "code",
   "execution_count": 137,
   "id": "1cbe30df",
   "metadata": {},
   "outputs": [],
   "source": [
    "def plot_biboxplot(merge_class_report_by_class):\n",
    "    plot_title = \"../../figures/boxplot_multisolvent_exp_same_testingset.pdf\"\n",
    "    \n",
    "    with plt.style.context(['science', 'bright']):\n",
    "        bright = sns.color_palette()\n",
    "    \n",
    "        bright = plot_utils.tol_cset(\"bright\")\n",
    "    \n",
    "    with plt.style.context(['science', 'bright']):\n",
    "        g = sns.catplot(x=\"Métrica\", y=\"Score\",\n",
    "                    hue=\"Tipo\", col='Clase', col_wrap=2, height=3, aspect=1.2,\n",
    "                    col_order=[\"Cristaliza\", \"No cristaliza\"], palette=[bright.red, bright.grey],\n",
    "                    kind='box', sharey=True, sharex=True, data=merge_class_report_by_class, legend=False)\n",
    "        for ax in g.axes:\n",
    "            #ax.set_yticklabels(rotation=90)\n",
    "            ax.tick_params(labelbottom=True, which=\"both\", left=True, bottom=False, top=False, right=False)\n",
    "        plt.subplots_adjust(bottom=0.1, left=0.06, hspace=0.2)\n",
    "        pop_a = mpatches.Patch(facecolor=bright.red, label=\"multisolvente (GBL+DMSO+DMF)\", edgecolor='grey')\n",
    "        pop_b = mpatches.Patch(facecolor=bright.grey, label=\"monosolvente (GBL)\", edgecolor='grey')\n",
    "\n",
    "        plt.legend(handles=[pop_a,pop_b])\n",
    "        \n",
    "        #plt.figure(figsize=(12,8))\n",
    "\n",
    "        #plt.legend(title='', labels=[\"multisolvente (GBL+DMSO+DMF)\", \"monosolvente (GBL)\"], facecolor=True)\n",
    "        plt.savefig(plot_title, dpi=300)\n",
    "        plt.ylim((0.55, 0.95))\n",
    "        \n",
    "        #plt.show()\n",
    "        \n",
    "def plot_biboxplot_2(merge_class_report_by_class):\n",
    "    plot_title = \"../../figures/boxplot_drop_solvent_exp.pdf\"\n",
    "    \n",
    "    with plt.style.context(['science', 'bright']):\n",
    "        bright = sns.color_palette()\n",
    "    \n",
    "        bright = plot_utils.tol_cset(\"bright\")\n",
    "    \n",
    "    with plt.style.context(['science', 'bright']):\n",
    "        g = sns.catplot(x=\"Métrica\", y=\"Score\",\n",
    "                    hue=\"Tipo\", col='Clase', col_wrap=2, height=3, aspect=1.2,\n",
    "                    col_order=[\"Cristaliza\", \"No cristaliza\"], palette=[bright.cyan, bright.grey],\n",
    "                    kind='box', sharey=True, sharex=True, data=merge_class_report_by_class, legend=False)\n",
    "        for ax in g.axes:\n",
    "            #ax.set_yticklabels(rotation=90)\n",
    "            ax.tick_params(labelbottom=True, which=\"both\", left=True, bottom=False, top=False, right=False)\n",
    "        plt.subplots_adjust(bottom=0.1, left=0.06, hspace=0.2)\n",
    "        pop_a = mpatches.Patch(facecolor=bright.cyan, label=\"trained GBL+DMSO+DMF s/sv\", edgecolor='grey')\n",
    "        pop_b = mpatches.Patch(facecolor=bright.grey, label=\"trained GBL s/sv\", edgecolor='grey')\n",
    "\n",
    "        plt.legend(handles=[pop_a,pop_b])\n",
    "        \n",
    "        #plt.figure(figsize=(12,8))\n",
    "\n",
    "        #plt.legend(title='', labels=[\"multisolvente (GBL+DMSO+DMF)\", \"monosolvente (GBL)\"], facecolor=True)\n",
    "        plt.savefig(plot_title, dpi=300)\n",
    "        plt.ylim((0.55, 0.95))\n",
    "        #plt.show()\n",
    "        \n",
    "def plot_box_plot():\n",
    "    \n",
    "    with plt.style.context(['science', 'bright']):\n",
    "        g = sns.catplot(x=\"Métrica\", y=\"Score\",\n",
    "                    hue=\"Tipo\", col='Clase', col_wrap=2, height=3, aspect=1.2,\n",
    "                    col_order=[\"Cristaliza\", \"No cristaliza\"], palette=[bright.red, bright.grey],\n",
    "                    kind='box', sharey=True, sharex=True, data=merge_class_report_by_class, legend=False)\n",
    "        for ax in g.axes:\n",
    "            #ax.set_yticklabels(rotation=90)\n",
    "            ax.tick_params(labelbottom=True, which=\"both\", left=True, bottom=False, top=False, right=False)\n",
    "        plt.subplots_adjust(bottom=0.1, left=0.06, hspace=0.2)\n",
    "        pop_a = mpatches.Patch(facecolor=bright.red, label=\"multisolvente (GBL+DMSO+DMF)\", edgecolor='grey')\n",
    "        pop_b = mpatches.Patch(facecolor=bright.grey, label=\"monosolvente (GBL)\", edgecolor='grey')\n",
    "\n",
    "        plt.legend(handles=[pop_a,pop_b])\n"
   ]
  },
  {
   "cell_type": "code",
   "execution_count": 113,
   "id": "9b098bf2",
   "metadata": {},
   "outputs": [
    {
     "data": {
      "text/plain": [
       "Bcset(blue='#4477AA', cyan='#66CCEE', green='#228833', yellow='#CCBB44', red='#EE6677', purple='#AA3377', grey='#BBBBBB', black='#000000')"
      ]
     },
     "execution_count": 113,
     "metadata": {},
     "output_type": "execute_result"
    }
   ],
   "source": [
    "bright"
   ]
  },
  {
   "cell_type": "code",
   "execution_count": 106,
   "id": "b43a5a60",
   "metadata": {},
   "outputs": [],
   "source": [
    "encoded_solvent_report = prepare_report_by_class(files_solvent_exp)\n",
    "drop_solvent_report = prepare_report_by_class(files_drop_col_exp)"
   ]
  },
  {
   "cell_type": "code",
   "execution_count": 138,
   "id": "6ec6cc90",
   "metadata": {},
   "outputs": [
    {
     "data": {
      "image/png": "[encoded data removed]",
      "text/plain": [
       "<Figure size 518.4x216 with 2 Axes>"
      ]
     },
     "metadata": {
      "needs_background": "light"
     },
     "output_type": "display_data"
    }
   ],
   "source": [
    "plot_biboxplot(encoded_solvent_report)"
   ]
  },
  {
   "cell_type": "code",
   "execution_count": 139,
   "id": "e8f6eef0",
   "metadata": {},
   "outputs": [
    {
     "data": {
      "image/png": "[encoded data removed]",
      "text/plain": [
       "<Figure size 518.4x216 with 2 Axes>"
      ]
     },
     "metadata": {
      "needs_background": "light"
     },
     "output_type": "display_data"
    }
   ],
   "source": [
    "plot_biboxplot_2(drop_solvent_report)"
   ]
  },
  {
   "cell_type": "code",
   "execution_count": null,
   "id": "d1855764",
   "metadata": {},
   "outputs": [],
   "source": []
  }
 ],
 "metadata": {
  "kernelspec": {
   "display_name": "Python 3",
   "language": "python",
   "name": "python3"
  },
  "language_info": {
   "codemirror_mode": {
    "name": "ipython",
    "version": 3
   },
   "file_extension": ".py",
   "mimetype": "text/x-python",
   "name": "python",
   "nbconvert_exporter": "python",
   "pygments_lexer": "ipython3",
   "version": "3.8.8"
  }
 },
 "nbformat": 4,
 "nbformat_minor": 5
}
