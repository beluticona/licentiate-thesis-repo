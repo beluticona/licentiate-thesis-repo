{
 "cells": [
  {
   "cell_type": "markdown",
   "metadata": {},
   "source": [
    "# Solvent Small Experiment"
   ]
  },
  {
   "cell_type": "markdown",
   "metadata": {},
   "source": [
    "Question: Could be use data from minotiry solvents? Does it add value/relevant information?\n",
    "\n",
    "Descriptions:\n",
    "- 3 solvent availables, one majority and two minorities\n",
    "- sample from majority and minorities: 3 samples\n",
    "- train in majority\n",
    "- evaluate in 3 samples and compare results, is there any particular improvement in majority?"
   ]
  },
  {
   "cell_type": "code",
   "execution_count": 1204,
   "metadata": {},
   "outputs": [],
   "source": [
    "import numpy as np\n",
    "import pandas as pd\n",
    "import matplotlib.pyplot as plt\n",
    "import seaborn as sns\n",
    "import itertools\n",
    "from src.config import chemical_inventory_path, raw_data_path\n",
    "from src.data import notebook_utils as utils\n",
    "from src.constants import GBL_INCHI_KEY, DMSO_INCHI_KEY, DMF_INCHI_KEY, \\\n",
    "                        INCHI_TO_CHEMNAME, TARGET_COL, RXN_FEAT_NAME, ORGANOAMONIUM_INCHI_KEY_COL\n",
    "from src import plot_utils"
   ]
  },
  {
   "cell_type": "code",
   "execution_count": 1205,
   "metadata": {},
   "outputs": [],
   "source": [
    "import matplotlib.pyplot as plt\n",
    "import matplotlib.ticker as mtick\n",
    "plt.style.reload_library()\n",
    "import matplotlib.patches as mpatches"
   ]
  },
  {
   "cell_type": "markdown",
   "metadata": {
    "tags": []
   },
   "source": [
    "## Generate datasets"
   ]
  },
  {
   "cell_type": "markdown",
   "metadata": {},
   "source": [
    "Sample from major"
   ]
  },
  {
   "cell_type": "code",
   "execution_count": 1206,
   "metadata": {},
   "outputs": [],
   "source": [
    "#%cd ../.."
   ]
  },
  {
   "cell_type": "code",
   "execution_count": 1207,
   "metadata": {},
   "outputs": [
    {
     "name": "stderr",
     "output_type": "stream",
     "text": [
      "/home/belu/.local/share/virtualenvs/licentiate-thesis-repo-cz9ujhZI/lib/python3.7/site-packages/pandas/core/indexing.py:1773: SettingWithCopyWarning: \n",
      "A value is trying to be set on a copy of a slice from a DataFrame.\n",
      "Try using .loc[row_indexer,col_indexer] = value instead\n",
      "\n",
      "See the caveats in the documentation: https://pandas.pydata.org/pandas-docs/stable/user_guide/indexing.html#returning-a-view-versus-a-copy\n",
      "  self._setitem_single_column(ilocs[0], value, pi)\n"
     ]
    }
   ],
   "source": [
    "SEED = 105\n",
    "ALGORITHM = 'rf'\n",
    "\n",
    "solvents_inchies = [GBL_INCHI_KEY, DMSO_INCHI_KEY, DMF_INCHI_KEY]\n",
    "solvents = [INCHI_TO_CHEMNAME[inchie] for inchie in solvents_inchies]\n",
    "\n",
    "plot_solvents = {'Gamma-Butyrolactone': \"GBL\",\n",
    "                 'Dimethyl sulfoxide':\"DMSO\",\n",
    "                 'Dimethylformamide': \"DMF\"}\n",
    "\n",
    "solvents_data = {INCHI_TO_CHEMNAME[solvent_inchie]: utils.read_data(raw_data_path, organic_key=True,\\\n",
    "                                                                    solvent=solvent_inchie) \\\n",
    "                                                    .drop_duplicates()\n",
    "                 for solvent_inchie in solvents_inchies}"
   ]
  },
  {
   "cell_type": "code",
   "execution_count": 1208,
   "metadata": {},
   "outputs": [
    {
     "name": "stdout",
     "output_type": "stream",
     "text": [
      "Gamma-Butyrolactone 29\n",
      "Dimethyl sulfoxide 6\n",
      "Dimethylformamide 9\n"
     ]
    }
   ],
   "source": [
    "for solvent, data in solvents_data.items():\n",
    "    print(solvent, len(data[ORGANOAMONIUM_INCHI_KEY_COL].unique()))"
   ]
  },
  {
   "cell_type": "markdown",
   "metadata": {},
   "source": [
    "Grouped by amine"
   ]
  },
  {
   "cell_type": "code",
   "execution_count": 1209,
   "metadata": {},
   "outputs": [],
   "source": [
    "solvent_data_eval_sample = { solvent: data.groupby([TARGET_COL, ORGANOAMONIUM_INCHI_KEY_COL])\\\n",
    "                            .sample(frac=0.2, random_state=SEED)\\\n",
    "                            .drop([ORGANOAMONIUM_INCHI_KEY_COL], axis=1) \\\n",
    "                            for solvent, data in solvents_data.items()}"
   ]
  },
  {
   "cell_type": "code",
   "execution_count": 1210,
   "metadata": {},
   "outputs": [
    {
     "name": "stdout",
     "output_type": "stream",
     "text": [
      "Gamma-Butyrolactone 1127\n",
      "Dimethyl sulfoxide 165\n",
      "Dimethylformamide 210\n"
     ]
    }
   ],
   "source": [
    "for solvent, data in solvent_data_eval_sample.items():\n",
    "    print(solvent, len(data))"
   ]
  },
  {
   "cell_type": "code",
   "execution_count": 1211,
   "metadata": {},
   "outputs": [
    {
     "data": {
      "text/html": [
       "<div>\n",
       "<style scoped>\n",
       "    .dataframe tbody tr th:only-of-type {\n",
       "        vertical-align: middle;\n",
       "    }\n",
       "\n",
       "    .dataframe tbody tr th {\n",
       "        vertical-align: top;\n",
       "    }\n",
       "\n",
       "    .dataframe thead th {\n",
       "        text-align: right;\n",
       "    }\n",
       "</style>\n",
       "<table border=\"1\" class=\"dataframe\">\n",
       "  <thead>\n",
       "    <tr style=\"text-align: right;\">\n",
       "      <th></th>\n",
       "      <th>_feat_WienerPolarity</th>\n",
       "      <th>_feat_BondCount</th>\n",
       "      <th>_feat_fr_NH0</th>\n",
       "      <th>_feat_Refractivity</th>\n",
       "      <th>_feat_LargestRingSize</th>\n",
       "      <th>_feat_fr_ArN</th>\n",
       "      <th>_feat_HeteroaliphaticRingCount</th>\n",
       "      <th>_feat_fr_quatN</th>\n",
       "      <th>_feat_msareaVDWp</th>\n",
       "      <th>_feat_AromaticAtomCount</th>\n",
       "      <th>...</th>\n",
       "      <th>_feat_ASA_P</th>\n",
       "      <th>_feat_Protpsa</th>\n",
       "      <th>_feat_fr_NH1</th>\n",
       "      <th>_feat_MaximalProjectionRadius</th>\n",
       "      <th>_feat_Hdonorcount</th>\n",
       "      <th>_feat_fr_pyridine</th>\n",
       "      <th>_rxn_M_inorganic</th>\n",
       "      <th>_rxn_M_organic</th>\n",
       "      <th>_rxn_M_acid</th>\n",
       "      <th>_out_crystalscore</th>\n",
       "    </tr>\n",
       "  </thead>\n",
       "  <tbody>\n",
       "    <tr>\n",
       "      <th>77</th>\n",
       "      <td>2</td>\n",
       "      <td>16</td>\n",
       "      <td>0</td>\n",
       "      <td>35.09</td>\n",
       "      <td>0</td>\n",
       "      <td>0</td>\n",
       "      <td>0</td>\n",
       "      <td>1</td>\n",
       "      <td>173.44</td>\n",
       "      <td>0</td>\n",
       "      <td>...</td>\n",
       "      <td>48.89</td>\n",
       "      <td>27.64</td>\n",
       "      <td>0</td>\n",
       "      <td>4.57</td>\n",
       "      <td>1</td>\n",
       "      <td>0</td>\n",
       "      <td>0.406262</td>\n",
       "      <td>1.019233</td>\n",
       "      <td>3.921577</td>\n",
       "      <td>0</td>\n",
       "    </tr>\n",
       "    <tr>\n",
       "      <th>100</th>\n",
       "      <td>2</td>\n",
       "      <td>16</td>\n",
       "      <td>0</td>\n",
       "      <td>35.09</td>\n",
       "      <td>0</td>\n",
       "      <td>0</td>\n",
       "      <td>0</td>\n",
       "      <td>1</td>\n",
       "      <td>173.44</td>\n",
       "      <td>0</td>\n",
       "      <td>...</td>\n",
       "      <td>48.89</td>\n",
       "      <td>27.64</td>\n",
       "      <td>0</td>\n",
       "      <td>4.57</td>\n",
       "      <td>1</td>\n",
       "      <td>0</td>\n",
       "      <td>0.663959</td>\n",
       "      <td>0.714075</td>\n",
       "      <td>3.928258</td>\n",
       "      <td>0</td>\n",
       "    </tr>\n",
       "    <tr>\n",
       "      <th>119</th>\n",
       "      <td>2</td>\n",
       "      <td>16</td>\n",
       "      <td>0</td>\n",
       "      <td>35.09</td>\n",
       "      <td>0</td>\n",
       "      <td>0</td>\n",
       "      <td>0</td>\n",
       "      <td>1</td>\n",
       "      <td>173.44</td>\n",
       "      <td>0</td>\n",
       "      <td>...</td>\n",
       "      <td>48.89</td>\n",
       "      <td>27.64</td>\n",
       "      <td>0</td>\n",
       "      <td>4.57</td>\n",
       "      <td>1</td>\n",
       "      <td>0</td>\n",
       "      <td>0.259386</td>\n",
       "      <td>0.843713</td>\n",
       "      <td>2.067347</td>\n",
       "      <td>0</td>\n",
       "    </tr>\n",
       "    <tr>\n",
       "      <th>69</th>\n",
       "      <td>2</td>\n",
       "      <td>16</td>\n",
       "      <td>0</td>\n",
       "      <td>35.09</td>\n",
       "      <td>0</td>\n",
       "      <td>0</td>\n",
       "      <td>0</td>\n",
       "      <td>1</td>\n",
       "      <td>173.44</td>\n",
       "      <td>0</td>\n",
       "      <td>...</td>\n",
       "      <td>48.89</td>\n",
       "      <td>27.64</td>\n",
       "      <td>0</td>\n",
       "      <td>4.57</td>\n",
       "      <td>1</td>\n",
       "      <td>0</td>\n",
       "      <td>0.244019</td>\n",
       "      <td>0.542838</td>\n",
       "      <td>4.822942</td>\n",
       "      <td>0</td>\n",
       "    </tr>\n",
       "    <tr>\n",
       "      <th>109</th>\n",
       "      <td>2</td>\n",
       "      <td>16</td>\n",
       "      <td>0</td>\n",
       "      <td>35.09</td>\n",
       "      <td>0</td>\n",
       "      <td>0</td>\n",
       "      <td>0</td>\n",
       "      <td>1</td>\n",
       "      <td>173.44</td>\n",
       "      <td>0</td>\n",
       "      <td>...</td>\n",
       "      <td>48.89</td>\n",
       "      <td>27.64</td>\n",
       "      <td>0</td>\n",
       "      <td>4.57</td>\n",
       "      <td>1</td>\n",
       "      <td>0</td>\n",
       "      <td>0.918545</td>\n",
       "      <td>0.722086</td>\n",
       "      <td>6.021877</td>\n",
       "      <td>0</td>\n",
       "    </tr>\n",
       "    <tr>\n",
       "      <th>...</th>\n",
       "      <td>...</td>\n",
       "      <td>...</td>\n",
       "      <td>...</td>\n",
       "      <td>...</td>\n",
       "      <td>...</td>\n",
       "      <td>...</td>\n",
       "      <td>...</td>\n",
       "      <td>...</td>\n",
       "      <td>...</td>\n",
       "      <td>...</td>\n",
       "      <td>...</td>\n",
       "      <td>...</td>\n",
       "      <td>...</td>\n",
       "      <td>...</td>\n",
       "      <td>...</td>\n",
       "      <td>...</td>\n",
       "      <td>...</td>\n",
       "      <td>...</td>\n",
       "      <td>...</td>\n",
       "      <td>...</td>\n",
       "      <td>...</td>\n",
       "    </tr>\n",
       "    <tr>\n",
       "      <th>6143</th>\n",
       "      <td>7</td>\n",
       "      <td>24</td>\n",
       "      <td>0</td>\n",
       "      <td>46.96</td>\n",
       "      <td>6</td>\n",
       "      <td>0</td>\n",
       "      <td>0</td>\n",
       "      <td>1</td>\n",
       "      <td>233.86</td>\n",
       "      <td>0</td>\n",
       "      <td>...</td>\n",
       "      <td>41.18</td>\n",
       "      <td>27.64</td>\n",
       "      <td>0</td>\n",
       "      <td>4.78</td>\n",
       "      <td>1</td>\n",
       "      <td>0</td>\n",
       "      <td>0.269339</td>\n",
       "      <td>1.157782</td>\n",
       "      <td>0.265576</td>\n",
       "      <td>1</td>\n",
       "    </tr>\n",
       "    <tr>\n",
       "      <th>6109</th>\n",
       "      <td>7</td>\n",
       "      <td>24</td>\n",
       "      <td>0</td>\n",
       "      <td>46.96</td>\n",
       "      <td>6</td>\n",
       "      <td>0</td>\n",
       "      <td>0</td>\n",
       "      <td>1</td>\n",
       "      <td>233.86</td>\n",
       "      <td>0</td>\n",
       "      <td>...</td>\n",
       "      <td>41.18</td>\n",
       "      <td>27.64</td>\n",
       "      <td>0</td>\n",
       "      <td>4.78</td>\n",
       "      <td>1</td>\n",
       "      <td>0</td>\n",
       "      <td>0.060753</td>\n",
       "      <td>1.019259</td>\n",
       "      <td>10.251222</td>\n",
       "      <td>1</td>\n",
       "    </tr>\n",
       "    <tr>\n",
       "      <th>6075</th>\n",
       "      <td>7</td>\n",
       "      <td>24</td>\n",
       "      <td>0</td>\n",
       "      <td>46.96</td>\n",
       "      <td>6</td>\n",
       "      <td>0</td>\n",
       "      <td>0</td>\n",
       "      <td>1</td>\n",
       "      <td>233.86</td>\n",
       "      <td>0</td>\n",
       "      <td>...</td>\n",
       "      <td>41.18</td>\n",
       "      <td>27.64</td>\n",
       "      <td>0</td>\n",
       "      <td>4.78</td>\n",
       "      <td>1</td>\n",
       "      <td>0</td>\n",
       "      <td>0.329432</td>\n",
       "      <td>1.131126</td>\n",
       "      <td>3.657615</td>\n",
       "      <td>1</td>\n",
       "    </tr>\n",
       "    <tr>\n",
       "      <th>6072</th>\n",
       "      <td>7</td>\n",
       "      <td>24</td>\n",
       "      <td>0</td>\n",
       "      <td>46.96</td>\n",
       "      <td>6</td>\n",
       "      <td>0</td>\n",
       "      <td>0</td>\n",
       "      <td>1</td>\n",
       "      <td>233.86</td>\n",
       "      <td>0</td>\n",
       "      <td>...</td>\n",
       "      <td>41.18</td>\n",
       "      <td>27.64</td>\n",
       "      <td>0</td>\n",
       "      <td>4.78</td>\n",
       "      <td>1</td>\n",
       "      <td>0</td>\n",
       "      <td>0.102868</td>\n",
       "      <td>1.088934</td>\n",
       "      <td>5.184504</td>\n",
       "      <td>1</td>\n",
       "    </tr>\n",
       "    <tr>\n",
       "      <th>6120</th>\n",
       "      <td>7</td>\n",
       "      <td>24</td>\n",
       "      <td>0</td>\n",
       "      <td>46.96</td>\n",
       "      <td>6</td>\n",
       "      <td>0</td>\n",
       "      <td>0</td>\n",
       "      <td>1</td>\n",
       "      <td>233.86</td>\n",
       "      <td>0</td>\n",
       "      <td>...</td>\n",
       "      <td>41.18</td>\n",
       "      <td>27.64</td>\n",
       "      <td>0</td>\n",
       "      <td>4.78</td>\n",
       "      <td>1</td>\n",
       "      <td>0</td>\n",
       "      <td>0.231957</td>\n",
       "      <td>1.299733</td>\n",
       "      <td>1.798705</td>\n",
       "      <td>1</td>\n",
       "    </tr>\n",
       "  </tbody>\n",
       "</table>\n",
       "<p>1127 rows × 71 columns</p>\n",
       "</div>"
      ],
      "text/plain": [
       "      _feat_WienerPolarity  _feat_BondCount  _feat_fr_NH0  _feat_Refractivity  \\\n",
       "77                       2               16             0               35.09   \n",
       "100                      2               16             0               35.09   \n",
       "119                      2               16             0               35.09   \n",
       "69                       2               16             0               35.09   \n",
       "109                      2               16             0               35.09   \n",
       "...                    ...              ...           ...                 ...   \n",
       "6143                     7               24             0               46.96   \n",
       "6109                     7               24             0               46.96   \n",
       "6075                     7               24             0               46.96   \n",
       "6072                     7               24             0               46.96   \n",
       "6120                     7               24             0               46.96   \n",
       "\n",
       "      _feat_LargestRingSize  _feat_fr_ArN  _feat_HeteroaliphaticRingCount  \\\n",
       "77                        0             0                               0   \n",
       "100                       0             0                               0   \n",
       "119                       0             0                               0   \n",
       "69                        0             0                               0   \n",
       "109                       0             0                               0   \n",
       "...                     ...           ...                             ...   \n",
       "6143                      6             0                               0   \n",
       "6109                      6             0                               0   \n",
       "6075                      6             0                               0   \n",
       "6072                      6             0                               0   \n",
       "6120                      6             0                               0   \n",
       "\n",
       "      _feat_fr_quatN  _feat_msareaVDWp  _feat_AromaticAtomCount  ...  \\\n",
       "77                 1            173.44                        0  ...   \n",
       "100                1            173.44                        0  ...   \n",
       "119                1            173.44                        0  ...   \n",
       "69                 1            173.44                        0  ...   \n",
       "109                1            173.44                        0  ...   \n",
       "...              ...               ...                      ...  ...   \n",
       "6143               1            233.86                        0  ...   \n",
       "6109               1            233.86                        0  ...   \n",
       "6075               1            233.86                        0  ...   \n",
       "6072               1            233.86                        0  ...   \n",
       "6120               1            233.86                        0  ...   \n",
       "\n",
       "      _feat_ASA_P  _feat_Protpsa  _feat_fr_NH1  _feat_MaximalProjectionRadius  \\\n",
       "77          48.89          27.64             0                           4.57   \n",
       "100         48.89          27.64             0                           4.57   \n",
       "119         48.89          27.64             0                           4.57   \n",
       "69          48.89          27.64             0                           4.57   \n",
       "109         48.89          27.64             0                           4.57   \n",
       "...           ...            ...           ...                            ...   \n",
       "6143        41.18          27.64             0                           4.78   \n",
       "6109        41.18          27.64             0                           4.78   \n",
       "6075        41.18          27.64             0                           4.78   \n",
       "6072        41.18          27.64             0                           4.78   \n",
       "6120        41.18          27.64             0                           4.78   \n",
       "\n",
       "      _feat_Hdonorcount  _feat_fr_pyridine  _rxn_M_inorganic  _rxn_M_organic  \\\n",
       "77                    1                  0          0.406262        1.019233   \n",
       "100                   1                  0          0.663959        0.714075   \n",
       "119                   1                  0          0.259386        0.843713   \n",
       "69                    1                  0          0.244019        0.542838   \n",
       "109                   1                  0          0.918545        0.722086   \n",
       "...                 ...                ...               ...             ...   \n",
       "6143                  1                  0          0.269339        1.157782   \n",
       "6109                  1                  0          0.060753        1.019259   \n",
       "6075                  1                  0          0.329432        1.131126   \n",
       "6072                  1                  0          0.102868        1.088934   \n",
       "6120                  1                  0          0.231957        1.299733   \n",
       "\n",
       "      _rxn_M_acid  _out_crystalscore  \n",
       "77       3.921577                  0  \n",
       "100      3.928258                  0  \n",
       "119      2.067347                  0  \n",
       "69       4.822942                  0  \n",
       "109      6.021877                  0  \n",
       "...           ...                ...  \n",
       "6143     0.265576                  1  \n",
       "6109    10.251222                  1  \n",
       "6075     3.657615                  1  \n",
       "6072     5.184504                  1  \n",
       "6120     1.798705                  1  \n",
       "\n",
       "[1127 rows x 71 columns]"
      ]
     },
     "execution_count": 1211,
     "metadata": {},
     "output_type": "execute_result"
    }
   ],
   "source": [
    "solvent_data_eval_sample[\"Gamma-Butyrolactone\"]"
   ]
  },
  {
   "cell_type": "code",
   "execution_count": 1212,
   "metadata": {},
   "outputs": [],
   "source": [
    "solvent_data_remain_sample = { solvent: data.loc[~data.index\\\n",
    "                                                 .isin(solvent_data_eval_sample[solvent].index)]\\\n",
    "                            for solvent, data in solvents_data.items()}"
   ]
  },
  {
   "cell_type": "code",
   "execution_count": 1213,
   "metadata": {},
   "outputs": [
    {
     "name": "stdout",
     "output_type": "stream",
     "text": [
      "Gamma-Butyrolactone 4517\n",
      "Dimethyl sulfoxide 665\n",
      "Dimethylformamide 838\n"
     ]
    }
   ],
   "source": [
    "for solvent, data in solvent_data_remain_sample.items():\n",
    "    print(solvent, len(data))"
   ]
  },
  {
   "cell_type": "markdown",
   "metadata": {
    "jp-MarkdownHeadingCollapsed": true,
    "tags": []
   },
   "source": [
    "### Concentration distribution"
   ]
  },
  {
   "cell_type": "code",
   "execution_count": 1214,
   "metadata": {},
   "outputs": [],
   "source": [
    "concentrations_feats = utils.concentration_feats() + [TARGET_COL]"
   ]
  },
  {
   "cell_type": "code",
   "execution_count": 1215,
   "metadata": {},
   "outputs": [],
   "source": [
    "full_rxn_sample = pd.concat([data[concentrations_feats] for data in solvents_data.values()], axis=0).reset_index(drop=True)"
   ]
  },
  {
   "cell_type": "markdown",
   "metadata": {},
   "source": [
    "with plt.style.context(['science', 'bright']):\n",
    "    light = sns.color_palette()"
   ]
  },
  {
   "cell_type": "markdown",
   "metadata": {},
   "source": [
    "bright = plot_utils.tol_cset(\"light\")\n",
    "bright"
   ]
  },
  {
   "cell_type": "markdown",
   "metadata": {},
   "source": [
    "def plot_pair_solvent(df, title=\"\"):\n",
    "    \n",
    "    cols_name_map = {\n",
    "    '_rxn_M_inorganic': \"reactivo inorgánico\",\n",
    "    '_rxn_M_organic': \"reactivo orgánico\",\n",
    "    '_rxn_M_acid': \"ácido\",\n",
    "    }\n",
    "\n",
    "    df = df.rename(cols_name_map, axis=1)\n",
    "\n",
    "    #norm = plt.Normalize(1, 300)\n",
    "    #sm = plt.cm.ScalarMappable(cmap=sns.cubehelix_palette(full_rxn_sample.max().max(), start=.5, rot=-.75,as_cmap=True), norm=norm)\n",
    "    #sm.set_array([])\n",
    "    \n",
    "    with plt.style.context(['science', 'bright']):\n",
    "        paleta = [bright.light_blue, bright.orange]\n",
    "        g = sns.pairplot(df, hue=TARGET_COL, kind='hist',\n",
    "                         palette=paleta, plot_kws={\"bins\":33,\n",
    "                                                   \"cbar\":False\n",
    "                                                  }, diag_kws={'bins':15} )\n",
    "        g.fig.suptitle(title, y=1.01)\n",
    "        g._legend.remove()\n",
    "        for ax in g.axes.flatten():\n",
    "            ax.tick_params(which=\"both\", left=True, bottom=False, top=False, right=False)\n",
    "        #ax.fig.suptitle(plot_solvents[amine_name], y=1.08)\n",
    "        pop_a = mpatches.Patch(facecolor=paleta[0], label=\"No cristaliza\", edgecolor='grey')\n",
    "        pop_b = mpatches.Patch(facecolor=paleta[1], label=\"Cristaliza\", edgecolor='grey')\n",
    "\n",
    "        plt.legend(handles=[pop_a,pop_b], bbox_to_anchor = (1.7, 1.6))\n",
    "        \n",
    "        #cbar_ax = g.fig.add_axes([1.015,0.13, 0.015, 0.8])\n",
    "        #plt.colorbar(sm, cax=cbar_ax)\n",
    "        #cbar = plt.colorbar(sm, ax=g.axes)\n",
    "        g.fig.savefig(\"figures/solvent_dist_full.pdf\", dpi=300) "
   ]
  },
  {
   "cell_type": "markdown",
   "metadata": {},
   "source": [
    "import matplotlib as mpl\n",
    "\n",
    "cmap = mpl.cm.cmaps_listed\n",
    "\n",
    "\n",
    "schemes = tol_cmap()\n",
    "tol_cmap(schemes[0])\n",
    "\n",
    "norm = plt.Normalize(1, 300)\n",
    "sm = plt.cm.ScalarMappable(cmap=newcmp, norm=norm)\n",
    "sm.set_array([])\n",
    "\n",
    "from matplotlib.colors import ListedColormap, LinearSegmentedColormap\n",
    "\n",
    "colors = ['#2166AC', '#4393C3', '#92C5DE', '#D1E5F0']\n",
    "newcmp = ListedColormap(colors)\n",
    "\n",
    "sm = mpl.cm.ScalarMappable(norm=norm, cmap=newcmp)\n",
    "sm.set_array([])"
   ]
  },
  {
   "cell_type": "markdown",
   "metadata": {},
   "source": [
    "plot_pair_solvent(full_rxn_sample)"
   ]
  },
  {
   "cell_type": "markdown",
   "metadata": {},
   "source": [
    "for amine_name in solvents:\n",
    "    plot_pair_solvent(solvent_data_eval_sample[amine_name][concentrations_feats])"
   ]
  },
  {
   "cell_type": "markdown",
   "metadata": {},
   "source": [
    "plot_title = \"figures/dist_reactivos\"\n",
    "\n",
    "#plotting_rxn = solvent_data_eval_sample.rename(cols_name_map, axis=1)\n",
    "\n",
    "def binary_name(row):\n",
    "    return 'Cristaliza' if row[TARGET_COL] == 1 else \"No cristaliza\"\n",
    "    \n",
    "#plotting_rxn[\"Clase\"] = solvent_data_eval_sample.apply(binary_name, axis=1)\n",
    "\n",
    "with plt.style.context(['science', 'bright']):\n",
    "    for ax, amine_name in zip(axes.flatten(), solvents):\n",
    "        ax = sns.pairplot(solvent_data_eval_sample[amine_name] \\\n",
    "                          [concentrations_feats].rename(cols_name_map, axis=1),\n",
    "                          hue=TARGET_COL, kind='hist')\n",
    "        ax.tick_params(which=\"both\", left=True, bottom=False, top=False, right=False)\n",
    "        ax.fig.suptitle(plot_solvents[amine_name], y=1.08)\n",
    "    #ax.figure.savefig(\"figures/solvent_%s_dist_rxn.png\" % amine_name) "
   ]
  },
  {
   "cell_type": "markdown",
   "metadata": {},
   "source": [
    "## Proof of concept models"
   ]
  },
  {
   "cell_type": "code",
   "execution_count": 1216,
   "metadata": {},
   "outputs": [],
   "source": [
    "raw_cols = utils.get_deafult_model_columns()"
   ]
  },
  {
   "cell_type": "code",
   "execution_count": 1217,
   "metadata": {},
   "outputs": [],
   "source": [
    "import json\n",
    "f = open('data/metadata/map_chem_feat_names.json')\n",
    "map_names = json.load(f)"
   ]
  },
  {
   "cell_type": "code",
   "execution_count": 1218,
   "metadata": {},
   "outputs": [],
   "source": [
    "df_amines = pd.read_csv(\"data/metadata/type_var_fq_bins.csv\")"
   ]
  },
  {
   "cell_type": "code",
   "execution_count": 1219,
   "metadata": {},
   "outputs": [],
   "source": [
    "chem_feat = [ col for col in raw_cols if map_names.get(col,\" \") in list(df_amines.propiedad)]"
   ]
  },
  {
   "cell_type": "code",
   "execution_count": 1220,
   "metadata": {},
   "outputs": [
    {
     "data": {
      "text/plain": [
       "57"
      ]
     },
     "execution_count": 1220,
     "metadata": {},
     "output_type": "execute_result"
    }
   ],
   "source": [
    "len(chem_feat)"
   ]
  },
  {
   "cell_type": "code",
   "execution_count": 1221,
   "metadata": {},
   "outputs": [],
   "source": [
    "rxn_feat = utils.concentration_feats()"
   ]
  },
  {
   "cell_type": "code",
   "execution_count": 1222,
   "metadata": {},
   "outputs": [],
   "source": [
    "model_cols = chem_feat + rxn_feat + [TARGET_COL]"
   ]
  },
  {
   "cell_type": "code",
   "execution_count": 1223,
   "metadata": {},
   "outputs": [],
   "source": [
    "from sklearn.preprocessing import StandardScaler\n",
    "from sklearn.pipeline import Pipeline\n",
    "from sklearn.model_selection import RepeatedStratifiedKFold\n",
    "from sklearn.model_selection import cross_validate\n",
    "from sklearn.metrics import classification_report\n",
    "import sklearn.ensemble as ensamble_models\n",
    "import sklearn.neighbors as neighbors_models\n",
    "from sklearn.model_selection import GridSearchCV\n",
    "from sklearn import linear_model as linear_models"
   ]
  },
  {
   "cell_type": "code",
   "execution_count": 1224,
   "metadata": {},
   "outputs": [],
   "source": [
    "def make_model(model_name, model_config={}):\n",
    "    try:\n",
    "        model_method = getattr(neighbors_models, model_name)\n",
    "    except AttributeError: \n",
    "        try:\n",
    "            model_method = getattr(ensamble_models, model_name)\n",
    "        except AttributeError:\n",
    "            model_method = getattr(linear_models, model_name)\n",
    "    \n",
    "    model = model_method(**model_config)\n",
    "    return model\n",
    "\n",
    "def split_X_y(df):\n",
    "    X = df.drop([TARGET_COL], axis=1).values\n",
    "    y = df[TARGET_COL].values\n",
    "    return X, y\n",
    "\n",
    "def proof_concept(model_name, df_train, df_test, model_config = {}):\n",
    "    model = make_model(model_name, model_config)\n",
    "    \n",
    "    X_test, y_test = split_X_y(df_test)\n",
    "    X_train, y_train = split_X_y(df_train)\n",
    "    \n",
    "    pipeline_steps = [('std', StandardScaler()), \n",
    "                      ('model', model)\n",
    "                     ]\n",
    "    \n",
    "    pipeline = Pipeline(steps=pipeline_steps)\n",
    "    \n",
    "    pipeline.fit(X_train, y_train)\n",
    "    \n",
    "    y_pred =  pipeline.predict(X_test)\n",
    "    \n",
    "    report = classification_report(y_test, y_pred, labels=[0,1], \n",
    "                                   output_dict=True, target_names=[\"No cristaliza\", \"Cristaliza\"])\n",
    "    \n",
    "    return report\n",
    "\n",
    "def proof_concept_model(model_name, df_train, df_test, model_config = {}):\n",
    "    model = make_model(model_name, model_config)\n",
    "    \n",
    "    X_test, y_test = split_X_y(df_test)\n",
    "    X_train, y_train = split_X_y(df_train)\n",
    "    \n",
    "    pipeline_steps = [('std', StandardScaler()), \n",
    "                      ('model', model)\n",
    "                     ]\n",
    "    \n",
    "    pipeline = Pipeline(steps=pipeline_steps)\n",
    "    \n",
    "    pipeline.fit(X_train, y_train)\n",
    "    \n",
    "    return pipeline\n",
    "    \n",
    "def full_pipeline(X, y, model, k_fold_config):\n",
    "    \n",
    "    pipeline_steps = [('std', StandardScaler()), \n",
    "                      ('model', model)\n",
    "                     ]\n",
    "    pipeline = Pipeline(steps=pipeline_steps)\n",
    "    \n",
    "    cv = RepeatedStratifiedKFold(**k_fold_config)\n",
    "    \n",
    "    scores = cross_validate(pipeline, X, y, cv=cv,\n",
    "                         scoring=('recall', 'f1', 'precision'),\n",
    "                         return_train_score=True, return_estimator=True)\n",
    "    \n",
    "    #df_res = pd.DataFrame(scores)\n",
    "    return scores"
   ]
  },
  {
   "cell_type": "code",
   "execution_count": 1225,
   "metadata": {},
   "outputs": [],
   "source": [
    "models = {\n",
    "    'knn':'KNeighborsClassifier',\n",
    "    'rf':'RandomForestClassifier',\n",
    "    'gbc':'GradientBoostingClassifier'\n",
    "}\n",
    "\n",
    "n_repeat_k_fold = 2\n",
    "k_splits = 3\n",
    "\n",
    "k_fold_config = {\n",
    "    'random_state': SEED,\n",
    "    'n_repeats': n_repeat_k_fold,\n",
    "    'n_splits': k_splits,\n",
    "}"
   ]
  },
  {
   "cell_type": "markdown",
   "metadata": {
    "tags": []
   },
   "source": [
    "#### Similar distributions?"
   ]
  },
  {
   "cell_type": "code",
   "execution_count": 1226,
   "metadata": {},
   "outputs": [],
   "source": [
    "df_train = solvent_data_remain_sample['Gamma-Butyrolactone'][model_cols]"
   ]
  },
  {
   "cell_type": "code",
   "execution_count": 1227,
   "metadata": {},
   "outputs": [],
   "source": [
    "report_isolated_GBL = {solvent: proof_concept(models[ALGORITHM], df_train, df_test[model_cols]) \\\n",
    "                        for solvent, df_test in solvent_data_eval_sample.items() }"
   ]
  },
  {
   "cell_type": "code",
   "execution_count": 1228,
   "metadata": {},
   "outputs": [],
   "source": [
    "for solvent in solvents:\n",
    "    report =  pd.DataFrame(report_isolated_GBL[solvent]).transpose()\n",
    "    report.to_csv('results3/only_GBL_tested_in_%s_%s_%s.csv' % (solvent, ALGORITHM, SEED), index=None)"
   ]
  },
  {
   "cell_type": "markdown",
   "metadata": {},
   "source": [
    "#### Discrimination by solvent feature"
   ]
  },
  {
   "cell_type": "markdown",
   "metadata": {},
   "source": [
    "Generate full dataset with solvent one hot encoded"
   ]
  },
  {
   "cell_type": "code",
   "execution_count": 1229,
   "metadata": {},
   "outputs": [],
   "source": [
    "def add_column(df, solvent):\n",
    "    df['solvent'] = solvent\n",
    "    return df\n",
    "\n",
    "df_full_with_solvent = pd.concat([data[model_cols].apply(add_column, axis=1, args=(solvent,)) \\\n",
    "                             for solvent, data in solvents_data.items()], axis=0)\\\n",
    "                            .reset_index(drop=True)"
   ]
  },
  {
   "cell_type": "code",
   "execution_count": 1230,
   "metadata": {},
   "outputs": [
    {
     "data": {
      "text/plain": [
       "62"
      ]
     },
     "execution_count": 1230,
     "metadata": {},
     "output_type": "execute_result"
    }
   ],
   "source": [
    "len(df_full_with_solvent.columns)"
   ]
  },
  {
   "cell_type": "code",
   "execution_count": 1231,
   "metadata": {},
   "outputs": [],
   "source": [
    "df_full_dummies = pd.get_dummies(df_full_with_solvent, columns = ['solvent'])"
   ]
  },
  {
   "cell_type": "code",
   "execution_count": 1232,
   "metadata": {},
   "outputs": [],
   "source": [
    "df_full_dummies['solvent'] = df_full_with_solvent['solvent']"
   ]
  },
  {
   "cell_type": "code",
   "execution_count": 1233,
   "metadata": {},
   "outputs": [
    {
     "data": {
      "text/plain": [
       "(7522, 65)"
      ]
     },
     "execution_count": 1233,
     "metadata": {},
     "output_type": "execute_result"
    }
   ],
   "source": [
    "df_full_dummies = df_full_dummies.drop_duplicates()\n",
    "df_full_dummies.shape"
   ]
  },
  {
   "cell_type": "code",
   "execution_count": 1234,
   "metadata": {},
   "outputs": [],
   "source": [
    "#df_full_dummies = df_full_dummies[model_cols + ['_out_crystalscore', '_rxn_organic-inchikey',\n",
    "#       'solvent_Dimethyl sulfoxide', 'solvent_Dimethylformamide',\n",
    "#       'solvent_Gamma-Butyrolactone', 'solvent']]"
   ]
  },
  {
   "cell_type": "code",
   "execution_count": 1235,
   "metadata": {},
   "outputs": [],
   "source": [
    "df_full_dummies.to_csv(\"data/all_solvent_cleaned_data_%s.csv\" % SEED, index=None)"
   ]
  },
  {
   "cell_type": "markdown",
   "metadata": {},
   "source": [
    "Split by solvent to sample"
   ]
  },
  {
   "cell_type": "code",
   "execution_count": 1236,
   "metadata": {},
   "outputs": [],
   "source": [
    "df_by_solvent= {solvent: df_full_dummies.query('solvent == @solvent')\n",
    "                        for solvent in solvents\n",
    "                        }"
   ]
  },
  {
   "cell_type": "code",
   "execution_count": 1237,
   "metadata": {},
   "outputs": [
    {
     "name": "stdout",
     "output_type": "stream",
     "text": [
      "1127\n",
      "165\n",
      "210\n"
     ]
    }
   ],
   "source": [
    "for solvent, data in solvent_data_eval_sample.items():\n",
    "    print(len(data))"
   ]
  },
  {
   "cell_type": "code",
   "execution_count": 1238,
   "metadata": {},
   "outputs": [],
   "source": [
    "def regenerate_sample(original_sample_dict, target_sample_dict):\n",
    "    \"To filter data points from target that are in original sample\"\n",
    "    new_sampling = {}\n",
    "    for solvent, data in original_sample_dict.items():\n",
    "        # df1 contains more data points than df2\n",
    "        df1 = target_sample_dict[solvent].drop(['solvent_Dimethyl sulfoxide',\n",
    "       'solvent_Dimethylformamide', 'solvent_Gamma-Butyrolactone', 'solvent'], axis=1)\n",
    "        df2 = original_sample_dict[solvent]\n",
    "        keys = list(df1.columns.values)\n",
    "        i1 = df1.set_index(keys).index\n",
    "        i2 = df2.set_index(keys).index\n",
    "        new_sampling[solvent] = target_sample_dict[solvent][i1.isin(i2)]\n",
    "    return new_sampling"
   ]
  },
  {
   "cell_type": "code",
   "execution_count": 1239,
   "metadata": {},
   "outputs": [],
   "source": [
    "df_solvent_samples_test = regenerate_sample(original_sample_dict=solvent_data_eval_sample,\n",
    "                                            target_sample_dict=df_by_solvent)"
   ]
  },
  {
   "cell_type": "code",
   "execution_count": 1240,
   "metadata": {},
   "outputs": [],
   "source": [
    "df_solvent_samples_test = { solvent: data.drop(['solvent'], axis=1) \n",
    "                            for solvent, data in df_solvent_samples_test.items()}"
   ]
  },
  {
   "cell_type": "markdown",
   "metadata": {},
   "source": [
    "df_solvent_samples_test = { solvent: data.groupby([TARGET_COL])\\\n",
    "                            .sample(frac=0.2, random_state=SEED)\\\n",
    "                            .reset_index(drop=True) \\\n",
    "                            .drop(['solvent'], axis=1) \n",
    "                            for solvent, data in df_by_solvent.items()}"
   ]
  },
  {
   "cell_type": "code",
   "execution_count": 1241,
   "metadata": {},
   "outputs": [
    {
     "name": "stdout",
     "output_type": "stream",
     "text": [
      "Gamma-Butyrolactone 1127\n",
      "Dimethyl sulfoxide 165\n",
      "Dimethylformamide 210\n"
     ]
    }
   ],
   "source": [
    "for solvent, data in df_solvent_samples_test.items():\n",
    "    print(solvent, len(data))"
   ]
  },
  {
   "cell_type": "code",
   "execution_count": 1242,
   "metadata": {},
   "outputs": [],
   "source": [
    "df_solvent_samples_train = { solvent: data.loc[~data.index\\\n",
    "                                                 .isin(df_solvent_samples_test[solvent].index)]\\\n",
    "                            for solvent, data in df_by_solvent.items()}"
   ]
  },
  {
   "cell_type": "code",
   "execution_count": 1243,
   "metadata": {},
   "outputs": [
    {
     "name": "stdout",
     "output_type": "stream",
     "text": [
      "Gamma-Butyrolactone 4517\n",
      "Dimethyl sulfoxide 665\n",
      "Dimethylformamide 838\n"
     ]
    }
   ],
   "source": [
    "for solvent, data in df_solvent_samples_train.items():\n",
    "    print(solvent, len(data))"
   ]
  },
  {
   "cell_type": "markdown",
   "metadata": {},
   "source": [
    "Generate train dataset merging train samples from all solvent"
   ]
  },
  {
   "cell_type": "code",
   "execution_count": 1244,
   "metadata": {},
   "outputs": [],
   "source": [
    "df_solvent_full_train = pd.concat([data for solvent, data in df_solvent_samples_train.items()],\n",
    "                                  axis=0).reset_index(drop=True)"
   ]
  },
  {
   "cell_type": "code",
   "execution_count": 1245,
   "metadata": {},
   "outputs": [],
   "source": [
    "df_solvent_full_train = df_solvent_full_train.drop(['solvent'], axis=1)"
   ]
  },
  {
   "cell_type": "code",
   "execution_count": 1246,
   "metadata": {},
   "outputs": [],
   "source": [
    "df_solvent_full_train.to_csv(\"data/solvent-experiment/encoded-solvent-training_%s.csv\" % \\\n",
    "                             (SEED),\n",
    "                             index=None)"
   ]
  },
  {
   "cell_type": "code",
   "execution_count": 1247,
   "metadata": {},
   "outputs": [],
   "source": [
    "df_solvent_full_train = pd.read_csv(\"data/solvent-experiment/encoded-solvent-training_%s.csv\" % \\\n",
    "                             (SEED))"
   ]
  },
  {
   "cell_type": "code",
   "execution_count": 1248,
   "metadata": {},
   "outputs": [],
   "source": [
    "def exp_drop_solvent(model_name, df_train, df_test, model_config = {}):\n",
    "    drop_cols = ['solvent_Dimethyl sulfoxide', \n",
    "                 'solvent_Dimethylformamide',\n",
    "                 'solvent_Gamma-Butyrolactone']\n",
    "    df_train = df_train.drop(drop_cols, axis=1)\n",
    "    df_test = df_test.drop(drop_cols, axis=1)\n",
    "    return proof_concept(model_name, df_train, df_test)"
   ]
  },
  {
   "cell_type": "code",
   "execution_count": 1249,
   "metadata": {},
   "outputs": [],
   "source": [
    "## Experiment solvent dropped\n",
    "df_solvent_report = {solvent: exp_drop_solvent(models[ALGORITHM], df_solvent_full_train, df_test) \\\n",
    "                        for solvent, df_test in df_solvent_samples_test.items() }"
   ]
  },
  {
   "cell_type": "code",
   "execution_count": 1250,
   "metadata": {},
   "outputs": [],
   "source": [
    "for solvent in solvents:\n",
    "    report =  pd.DataFrame(df_solvent_report[solvent]).transpose()\n",
    "    report.to_csv('results3/solvent-dropped_%s_%s_%s.csv' % (solvent, ALGORITHM, SEED), index=None)"
   ]
  },
  {
   "cell_type": "code",
   "execution_count": null,
   "metadata": {},
   "outputs": [],
   "source": []
  },
  {
   "cell_type": "code",
   "execution_count": null,
   "metadata": {},
   "outputs": [],
   "source": []
  },
  {
   "cell_type": "code",
   "execution_count": null,
   "metadata": {},
   "outputs": [],
   "source": []
  },
  {
   "cell_type": "code",
   "execution_count": 1057,
   "metadata": {},
   "outputs": [],
   "source": [
    "## Experiment solvent encoded\n",
    "df_solvent_report = {solvent: proof_concept(models[ALGORITHM], df_solvent_full_train, df_test) \\\n",
    "                        for solvent, df_test in df_solvent_samples_test.items() }\n",
    "\n",
    "for solvent in solvents:\n",
    "    report =  pd.DataFrame(df_solvent_report[solvent]).transpose()\n",
    "    report.to_csv('results2/solvent-encoded_%s_%s_%s.csv' % (solvent, ALGORITHM, SEED), index=None)"
   ]
  },
  {
   "cell_type": "markdown",
   "metadata": {},
   "source": [
    "Features importances only computed for RandomForest"
   ]
  },
  {
   "cell_type": "code",
   "execution_count": 1058,
   "metadata": {},
   "outputs": [
    {
     "data": {
      "text/plain": [
       "'rf'"
      ]
     },
     "execution_count": 1058,
     "metadata": {},
     "output_type": "execute_result"
    }
   ],
   "source": [
    "ALGORITHM"
   ]
  },
  {
   "cell_type": "code",
   "execution_count": 1059,
   "metadata": {},
   "outputs": [],
   "source": [
    "df_solvent_models = {solvent: proof_concept_model(models[ALGORITHM], df_solvent_full_train, df_test) \\\n",
    "                        for solvent, df_test in df_solvent_samples_test.items() }"
   ]
  },
  {
   "cell_type": "markdown",
   "metadata": {},
   "source": [
    "model_cols = list(df_solvent_full_train.columns)\n",
    "model_cols.remove(TARGET_COL)"
   ]
  },
  {
   "cell_type": "markdown",
   "metadata": {},
   "source": [
    "df_importance = pd.DataFrame({\"feature\": model_cols,\n",
    "                             \"importance\": df_solvent_models['Gamma-Butyrolactone']['model'].feature_importances_})\n",
    "df_importance = df_importance.sort_values(by=\"importance\", ascending=False)"
   ]
  },
  {
   "cell_type": "code",
   "execution_count": 1060,
   "metadata": {},
   "outputs": [],
   "source": [
    "#df_importance.to_csv(\"results/solvent-exp/random_forest_feat_importances.csv\", index=None)"
   ]
  },
  {
   "cell_type": "markdown",
   "metadata": {},
   "source": [
    "df_importance = pd.read_csv(\"random_forest_feat_importances.csv\")"
   ]
  },
  {
   "cell_type": "code",
   "execution_count": 1061,
   "metadata": {},
   "outputs": [],
   "source": [
    "#df_importance.reset_index().head(50)"
   ]
  },
  {
   "cell_type": "markdown",
   "metadata": {},
   "source": [
    "plot_title = \"figures/feature_importances.pdf\"\n",
    "def plot_df_importances(df):\n",
    "    with plt.style.context(['science', 'bright']):\n",
    "        #sns.set_palette(sns.color_palette(color_bright))\n",
    "        fig, axes = plt.subplots(1, 1, figsize=(8,5),\n",
    "                                     constrained_layout = True)\n",
    "        ax = sns.barplot(x=\"importance\", y=\"feature\", orient=\"h\", data=df,\n",
    "                         palette=df.color, alpha=0.7)\n",
    "        #ax.set_title(\"Distribución Calidad de Cristal\")\n",
    "\n",
    "        # Remove box lines\n",
    "        sns.despine(bottom = True, left = False, trim=False)\n",
    "        ax.tick_params(which=\"both\", left=False, bottom=False, top=False, right=False)\n",
    "        #ax.xticks(fontdict={'fontsize':15})\n",
    "        #ax.tick_params(axis='both', which='both')\n",
    "        ax.set_ylabel(\"Importancia\", fontdict={'fontsize':13})\n",
    "        ax.set_xlabel(\"Variable\", fontdict={'fontsize':13}, rotation=0)\n",
    "        #ax.yaxis.set_major_formatter(FuncFormatter(lambda x, _: int(x)))\n",
    "        #plt.xticks()\n",
    "        plt.xticks(fontsize=11)\n",
    "        plt.yticks(fontsize=12)\n",
    "\n",
    "\n",
    "    #        ax.annotate(text, (x, y), ha='center', va='center', fontsize=12)\n",
    "\n",
    "        #plt.legend(title=\"Tipo de Variable\", fontsize=13)\n",
    "        plt.xlim(0,0.015)\n",
    "        fig.savefig(plot_title, dpi=300)"
   ]
  },
  {
   "cell_type": "code",
   "execution_count": 1062,
   "metadata": {},
   "outputs": [],
   "source": [
    "# fronteroa  de toma de posición \n",
    "# misma superficie no cambia tanto \n",
    "# por qupe tan bajo peso\n",
    "\n",
    "# combinar modelos\n",
    "# binarización más fuerte"
   ]
  },
  {
   "cell_type": "markdown",
   "metadata": {},
   "source": [
    "indexes = np.arange(0,60,6)"
   ]
  },
  {
   "cell_type": "markdown",
   "metadata": {},
   "source": [
    "tmp = df_importance.iloc[3:,:].reset_index(drop=True)\n",
    "#.reset_index(drop=True).loc[indexes]"
   ]
  },
  {
   "cell_type": "markdown",
   "metadata": {},
   "source": [
    "tmp['color'] = np.where(tmp['feature'].str.startswith(\"solvent\"), 'red', 'grey')"
   ]
  },
  {
   "cell_type": "markdown",
   "metadata": {},
   "source": [
    "solvent_index = tmp[tmp.feature.str.startswith(\"solvent\")].index"
   ]
  },
  {
   "cell_type": "markdown",
   "metadata": {},
   "source": [
    "plot_df_importances(tmp.iloc[list(indexes) + list(solvent_index)]\\\n",
    "                    .sort_values(by=\"importance\", ascending=False))"
   ]
  },
  {
   "cell_type": "code",
   "execution_count": null,
   "metadata": {},
   "outputs": [],
   "source": []
  }
 ],
 "metadata": {
  "interpreter": {
   "hash": "2dd68b6b88d78f72e555cd6564eaf72c9813991942e2722f811fa2c9051f75f2"
  },
  "kernelspec": {
   "display_name": "thesis-repo",
   "language": "python",
   "name": "thesis-repo"
  },
  "language_info": {
   "codemirror_mode": {
    "name": "ipython",
    "version": 3
   },
   "file_extension": ".py",
   "mimetype": "text/x-python",
   "name": "python",
   "nbconvert_exporter": "python",
   "pygments_lexer": "ipython3",
   "version": "3.7.4"
  }
 },
 "nbformat": 4,
 "nbformat_minor": 5
}
