{
 "cells": [
  {
   "cell_type": "markdown",
   "id": "af4bd999",
   "metadata": {},
   "source": [
    "-entrenamos en GBL\n",
    "-entrenamos en GBL + otros solventes\n",
    "-testeamos en ambos casos en GBL, no habia cols de solventes\n",
    "\n",
    "- luego lo encodeamos y repetimos lo mismo\n",
    "- no vemos que se vea afectada, seguimos igual pero con esa info\n",
    "\n",
    "\n"
   ]
  },
  {
   "cell_type": "code",
   "execution_count": 33,
   "id": "67da4c94",
   "metadata": {},
   "outputs": [],
   "source": [
    "import numpy as np\n",
    "import pandas as pd\n",
    "import matplotlib.pyplot as plt\n",
    "import seaborn as sns\n",
    "import itertools\n",
    "from src.config import chemical_inventory_path, raw_data_path\n",
    "from src.data import notebook_utils as utils\n",
    "from src.constants import GBL_INCHI_KEY, DMSO_INCHI_KEY, DMF_INCHI_KEY, \\\n",
    "                        INCHI_TO_CHEMNAME, TARGET_COL, RXN_FEAT_NAME, ORGANOAMONIUM_INCHI_KEY_COL\n",
    "from src import plot_utils\n",
    "from pathlib import Path"
   ]
  },
  {
   "cell_type": "code",
   "execution_count": 34,
   "id": "cc90ae07",
   "metadata": {},
   "outputs": [],
   "source": [
    "import matplotlib.pyplot as plt\n",
    "import matplotlib.ticker as mtick\n",
    "plt.style.reload_library()\n",
    "import matplotlib.patches as mpatches\n",
    "import seaborn as sns"
   ]
  },
  {
   "cell_type": "code",
   "execution_count": 3,
   "id": "d7b7793f",
   "metadata": {},
   "outputs": [],
   "source": [
    "solvent_exp_dir = Path(\"../../results2/\")\n",
    "solvent_drop_dir = Path(\"../../results3/\")\n",
    "solvent_exp_2 = Path(\"../../results_exp_2/\")"
   ]
  },
  {
   "cell_type": "code",
   "execution_count": 91,
   "id": "7994f2b7-6b27-4d8a-82cd-d065342e6138",
   "metadata": {},
   "outputs": [],
   "source": [
    "solvent_exp_1 = Path(\"results/solvent_exp_1_gbc/\")\n",
    "solvent_exp_2 = Path(\"results/solvent_exp_2_gbc/\")"
   ]
  },
  {
   "cell_type": "code",
   "execution_count": 49,
   "id": "03f77ae1",
   "metadata": {},
   "outputs": [],
   "source": [
    "solvents_inchies = [GBL_INCHI_KEY, DMSO_INCHI_KEY, DMF_INCHI_KEY]\n",
    "solvents = [INCHI_TO_CHEMNAME[inchie] for inchie in solvents_inchies]"
   ]
  },
  {
   "cell_type": "code",
   "execution_count": 50,
   "id": "94718596",
   "metadata": {},
   "outputs": [],
   "source": [
    "keywords_encoded_solvent = [\"rf\", INCHI_TO_CHEMNAME[GBL_INCHI_KEY]]\n",
    "no_keywords_dropped_solvent = [\"encoded\"]"
   ]
  },
  {
   "cell_type": "code",
   "execution_count": 51,
   "id": "a26f32a4-1300-4135-a101-58b3101ea218",
   "metadata": {},
   "outputs": [
    {
     "data": {
      "text/plain": [
       "['Gamma-Butyrolactone', 'Dimethyl sulfoxide', 'Dimethylformamide']"
      ]
     },
     "execution_count": 51,
     "metadata": {},
     "output_type": "execute_result"
    }
   ],
   "source": [
    "solvents"
   ]
  },
  {
   "cell_type": "code",
   "execution_count": 52,
   "id": "20d5d2e3-be71-4573-b152-782b35113f53",
   "metadata": {},
   "outputs": [],
   "source": [
    "sv_keywords = {'GBL': 'Gamma-Butyrolactone',\n",
    "               'DMSO': 'Dimethyl sulfoxide',\n",
    "               'DMF': 'Dimethylformamide'}"
   ]
  },
  {
   "cell_type": "code",
   "execution_count": 53,
   "id": "47e03c25-7215-4550-931c-86e113a32553",
   "metadata": {},
   "outputs": [],
   "source": [
    "# Experiment 2\n",
    "# Sample from each solvent evaluated in:\n",
    "# 1. specific model MONO\n",
    "# 2. multisolvent model MULTI\n",
    "\n",
    "\n",
    "algorithms = [\"rf\"]\n",
    "\n",
    "def get_experiment_solvent_2():\n",
    "    exp_tags_preffix = [\"MONO_\", \"MULTI_\"]\n",
    "    files_keys = [\"model_per\", \"multisolvent\"]\n",
    "\n",
    "    experiments_info = {}\n",
    "    for tag_preffix, files_key in zip(exp_tags_preffix, files_keys):\n",
    "        for sv, sv_name in sv_keywords.items():\n",
    "            exp_info = {\"keywords\": [sv_name, files_key]\n",
    "                       }\n",
    "            experiments_info[tag_preffix+sv] = exp_info\n",
    "    return experiments_info\n",
    "\n",
    "\n",
    "# Experient 1\n",
    "# same sample evaluated in:\n",
    "# ENCODED_SOLV\n",
    "# NO_SOLV\n",
    "\n",
    "algorithms = [\"rf\"]\n",
    "\n",
    "def get_experiment_solvent_1():\n",
    "    exp_tags = [\"ENCODED_SOLV\", \"NO_SOLV\"]\n",
    "    files_keys = [\"multisolvente\", \"no_solvent\"]\n",
    "    experiments_info = {}\n",
    "    for tag, files_key in zip(exp_tags, files_keys):\n",
    "        exp_info = {\"keywords\": [files_key]\n",
    "                    }\n",
    "        experiments_info[tag] = exp_info\n",
    "    return experiments_info"
   ]
  },
  {
   "cell_type": "code",
   "execution_count": 81,
   "id": "5986cd85-3352-45e8-9c27-0657c27eec42",
   "metadata": {},
   "outputs": [
    {
     "data": {
      "text/plain": [
       "{'MONO_GBL': {'keywords': ['Gamma-Butyrolactone', 'model_per']},\n",
       " 'MONO_DMSO': {'keywords': ['Dimethyl sulfoxide', 'model_per']},\n",
       " 'MONO_DMF': {'keywords': ['Dimethylformamide', 'model_per']},\n",
       " 'MULTI_GBL': {'keywords': ['Gamma-Butyrolactone', 'multisolvent']},\n",
       " 'MULTI_DMSO': {'keywords': ['Dimethyl sulfoxide', 'multisolvent']},\n",
       " 'MULTI_DMF': {'keywords': ['Dimethylformamide', 'multisolvent']}}"
      ]
     },
     "execution_count": 81,
     "metadata": {},
     "output_type": "execute_result"
    }
   ],
   "source": [
    "experiments_info_2 = get_experiment_solvent_2()\n",
    "experiments_info_2"
   ]
  },
  {
   "cell_type": "code",
   "execution_count": 82,
   "id": "48c8998c-9b33-493e-8a64-1d2e2f0198e8",
   "metadata": {},
   "outputs": [
    {
     "data": {
      "text/plain": [
       "{'ENCODED_SOLV': {'keywords': ['multisolvente']},\n",
       " 'NO_SOLV': {'keywords': ['no_solvent']}}"
      ]
     },
     "execution_count": 82,
     "metadata": {},
     "output_type": "execute_result"
    }
   ],
   "source": [
    "experiments_info_1 = get_experiment_solvent_1()\n",
    "experiments_info_1"
   ]
  },
  {
   "cell_type": "code",
   "execution_count": 56,
   "id": "af0e192f",
   "metadata": {},
   "outputs": [],
   "source": [
    "def load_files_containing(dir_src_path, key_words, not_keywords=[], extension='csv'):\n",
    "    files = [file_path for file_path in dir_src_path.iterdir() \\\n",
    "                if all(keyword in file_path.as_posix() for keyword in key_words)\n",
    "                and not any(keyword in file_path.as_posix() for keyword in not_keywords)]\n",
    "    return files\n",
    "\n",
    "def load_melted_classi_report(path, experiment_tag):\n",
    "    report_index = ['No cristaliza', 'Cristaliza', 'accuracy',\n",
    "                    'macro avg', 'weighted avg']\n",
    "    df = pd.read_csv(path)\n",
    "    df['Clase'] = report_index\n",
    "    df = df.melt(id_vars=['Clase'], \n",
    "                 value_vars=['precision', 'recall','f1-score', 'support', 'matthew'],\n",
    "                 value_name='Score', var_name='Métrica'\n",
    "                )\n",
    "    df[\"Tipo\"] = experiment_tag\n",
    "    return df\n",
    "\n",
    "def merge_files(files_dir, experiments_info):\n",
    "    experiments_data = []\n",
    "    \n",
    "    for experiment_tag, exp_info in experiments_info.items():\n",
    "        keywords = exp_info[\"keywords\"]\n",
    "        exp_files_list = load_files_containing(files_dir, key_words=keywords)\n",
    "        df_exp_data = pd.concat([load_melted_classi_report(file, experiment_tag) for file \n",
    "                                                        in exp_files_list],\n",
    "                                   axis=0)\n",
    "        experiments_data.append(df_exp_data)\n",
    "\n",
    "    return pd.concat(experiments_data, axis=0)"
   ]
  },
  {
   "cell_type": "code",
   "execution_count": 109,
   "id": "bd871d00-8a9d-4b04-906a-b2926796f528",
   "metadata": {},
   "outputs": [],
   "source": [
    "df_exp_2 = merge_files(solvent_exp_2, experiments_info_2)"
   ]
  },
  {
   "cell_type": "code",
   "execution_count": 138,
   "id": "fd8f743f-1e10-460d-b557-f61aa414272b",
   "metadata": {},
   "outputs": [],
   "source": [
    "#df_exp_2[df_exp_2[\"Solvente\"]=='DMF'].head(40)"
   ]
  },
  {
   "cell_type": "code",
   "execution_count": 110,
   "id": "3722545d",
   "metadata": {},
   "outputs": [],
   "source": [
    "df_exp_1 = merge_files(solvent_exp_1, experiments_info_1)"
   ]
  },
  {
   "cell_type": "code",
   "execution_count": 107,
   "id": "2207c22b-b9b9-4be0-9ead-86e15a5f345a",
   "metadata": {},
   "outputs": [],
   "source": [
    "def plot_classes(df):\n",
    "    df = df[df['Métrica'] != 'support']\n",
    "    df = df.loc[df['Clase'].isin(['No cristaliza','Cristaliza'])]\n",
    "    return df"
   ]
  },
  {
   "cell_type": "code",
   "execution_count": 62,
   "id": "74d894fb-c19c-4dcb-9de0-4386312e3bcb",
   "metadata": {},
   "outputs": [
    {
     "name": "stdout",
     "output_type": "stream",
     "text": [
      "/home/belu/VS Workplace/licentiate-thesis-repo\n"
     ]
    }
   ],
   "source": []
  },
  {
   "cell_type": "code",
   "execution_count": 140,
   "id": "1cbe30df",
   "metadata": {},
   "outputs": [],
   "source": [
    "folter = \"figures/\"\n",
    "def plot_biboxplot(merge_class_report_by_class):\n",
    "    plot_title = \"../../figures/boxplot_multisolvent_exp_same_testingset.pdf\"\n",
    "    \n",
    "    with plt.style.context(['science', 'bright']):\n",
    "        bright = sns.color_palette()\n",
    "    \n",
    "        bright = plot_utils.tol_cset(\"bright\")\n",
    "    \n",
    "    with plt.style.context(['science', 'bright']):\n",
    "        g = sns.catplot(x=\"Métrica\", y=\"Score\",\n",
    "                    hue=\"Tipo\", col='Clase', col_wrap=2, height=3, aspect=1.2,\n",
    "                    col_order=[\"Cristaliza\", \"No cristaliza\"], palette=[bright.red, bright.grey],\n",
    "                    kind='box', sharey=True, sharex=True, data=merge_class_report_by_class, legend=False)\n",
    "        for ax in g.axes:\n",
    "            #ax.set_yticklabels(rotation=90)\n",
    "            ax.tick_params(labelbottom=True, which=\"both\", left=True, bottom=False, top=False, right=False)\n",
    "        plt.subplots_adjust(bottom=0.1, left=0.06, hspace=0.2)\n",
    "        pop_a = mpatches.Patch(facecolor=bright.red, label=\"multisolvente (GBL+DMSO+DMF)\", edgecolor='grey')\n",
    "        pop_b = mpatches.Patch(facecolor=bright.grey, label=\"monosolvente (GBL)\", edgecolor='grey')\n",
    "\n",
    "        plt.legend(handles=[pop_a,pop_b])\n",
    "        \n",
    "        #plt.figure(figsize=(12,8))\n",
    "\n",
    "        #plt.legend(title='', labels=[\"multisolvente (GBL+DMSO+DMF)\", \"monosolvente (GBL)\"], facecolor=True)\n",
    "        plt.savefig(plot_title, dpi=300)\n",
    "        plt.ylim((0.55, 0.95))\n",
    "        \n",
    "        #plt.show()\n",
    "        \n",
    "def plot_biboxplot_2(merge_class_report_by_class):\n",
    "    plot_title = \"../../figures/boxplot_drop_solvent_exp.pdf\"\n",
    "    \n",
    "    with plt.style.context(['science', 'bright']):\n",
    "        bright = sns.color_palette()\n",
    "    \n",
    "        bright = plot_utils.tol_cset(\"bright\")\n",
    "    \n",
    "    with plt.style.context(['science', 'bright']):\n",
    "        g = sns.catplot(x=\"Métrica\", y=\"Score\",\n",
    "                    hue=\"Tipo\", col='Clase', col_wrap=2, height=3, aspect=1.2,\n",
    "                    col_order=[\"Cristaliza\", \"No cristaliza\"], palette=[bright.cyan, bright.grey],\n",
    "                    kind='box', sharey=True, sharex=True, data=merge_class_report_by_class, legend=False)\n",
    "        for ax in g.axes:\n",
    "            #ax.set_yticklabels(rotation=90)\n",
    "            ax.tick_params(labelbottom=True, which=\"both\", left=True, bottom=False, top=False, right=False)\n",
    "        plt.subplots_adjust(bottom=0.1, left=0.06, hspace=0.2)\n",
    "        pop_a = mpatches.Patch(facecolor=bright.cyan, label=\"trained GBL+DMSO+DMF s/sv\", edgecolor='grey')\n",
    "        pop_b = mpatches.Patch(facecolor=bright.grey, label=\"trained GBL s/sv\", edgecolor='grey')\n",
    "\n",
    "        plt.legend(handles=[pop_a,pop_b])\n",
    "        \n",
    "        #plt.figure(figsize=(12,8))\n",
    "\n",
    "        #plt.legend(title='', labels=[\"multisolvente (GBL+DMSO+DMF)\", \"monosolvente (GBL)\"], facecolor=True)\n",
    "        plt.savefig(plot_title, dpi=300)\n",
    "        plt.ylim((0.55, 0.95))\n",
    "        #plt.show()\n",
    "        \n",
    "def exp_1_boxplot_classes(df, plot_name=\"exp_1_unknown_plot.pdf\"):\n",
    "    plot_title = \"figures/solvent/\"+plot_name\n",
    "    with plt.style.context(['science', 'bright']):\n",
    "        bright = plot_utils.tol_cset(\"bright\")\n",
    "        g = sns.catplot(x=\"Métrica\", y=\"Score\",\n",
    "                    hue=\"Tipo\", col='Clase', col_wrap=2, height=3, aspect=1.2,\n",
    "                    col_order=[\"Cristaliza\", \"No cristaliza\"], \n",
    "                    palette=[bright.red, bright.grey],\n",
    "                    kind='box', sharey=False, sharex=True, data=df, legend=True)\n",
    "        for ax in g.axes:\n",
    "            #ax.set_yticklabels(rotation=90)\n",
    "            ax.tick_params(labelbottom=True, which=\"both\", left=True, bottom=False, top=False, right=False)\n",
    "        g.set(xlabel=None)\n",
    "        g._legend.set_title(\" \")\n",
    "    #for ax in g.axes:\n",
    "        #ax.set_yticklabels(rotation=90)\n",
    "     #   ax.tick_params(labelbottom=True, which=\"both\", left=True, bottom=False, top=False, right=False)\n",
    "    #plt.subplots_adjust(bottom=0.1, left=0.06, hspace=0.2)\n",
    "    #pop_a = mpatches.Patch(facecolor=bright.red, label=\"multisolvente (GBL+DMSO+DMF)\", edgecolor='grey')\n",
    "    #pop_b = mpatches.Patch(facecolor=bright.grey, label=\"monosolvente (GBL)\", edgecolor='grey')\n",
    "        g.savefig(plot_title, dpi=300)\n",
    "    #plt.legend(handles=[pop_a,pop_b])\n",
    "    \n",
    "def exp_1_boxplot(df, plot_name=\"exp_1_unknown_plot.pdf\"):  \n",
    "    plot_title = \"figures/solvent/\"+plot_name\n",
    "    \n",
    "    with plt.style.context(['science', 'bright']):\n",
    "        bright = plot_utils.tol_cset(\"bright\")\n",
    "        g = sns.catplot(x=\"Tipo\", y=\"Score\",\n",
    "                col='Métrica', col_wrap=6, height=3, aspect=1.2,\n",
    "                #col_order=[\"Cristaliza\", \"No cristaliza\"], \n",
    "                palette=[bright.red, bright.grey],\n",
    "                kind='box', sharey=True, sharex=True, data=df, legend=True)\n",
    "        for ax in g.axes:\n",
    "            #ax.set_yticklabels(rotation=90)\n",
    "            #ax.grid(False, axis='y', color='black', linestyle='-', linewidth=0.5)\n",
    "            ax.tick_params(labelbottom=True, which=\"both\", left=True, bottom=False, top=False, right=False)     \n",
    "#        for ax in g.axes.flat:\n",
    " #           ax.grid(True, axis='y')\n",
    "        g.set(xlabel=None)\n",
    "        #sns.despine(bottom = False, left = False, trim=False)\n",
    "        g.savefig(plot_title, dpi=300)\n",
    "        \n",
    "    \n",
    "def exp_2_boxplot(df, shared_y=True, plot_name=\"exp_2_unknown_plot.pdf\"):\n",
    "    plot_title = \"figures/solvent/\"+plot_name\n",
    "    \n",
    "    with plt.style.context(['science', 'bright']):\n",
    "        bright = plot_utils.tol_cset(\"bright\")\n",
    "        g = sns.catplot(x=\"Métrica\", y=\"Score\",\n",
    "                    hue=\"Exp\", col='Solvente', col_wrap=2, height=3, aspect=1.2,\n",
    "                    #col_order=[\"Cristaliza\", \"No cristaliza\"], \n",
    "                    palette=[bright.grey, bright.cyan,],\n",
    "                    kind='box', sharey=shared_y, sharex=True, data=df, legend=True)\n",
    "        g.set(xlabel=None)\n",
    "        g._legend.set_title(\" \")\n",
    "\n",
    "        for ax in g.axes:\n",
    "            #ax.set_yticklabels(rotation=90)\n",
    "            ax.tick_params(labelbottom=True, which=\"both\", left=True, bottom=False, top=False, right=False)\n",
    "        #plt.subplots_adjust(bottom=0.1, left=0.06, hspace=0.2)\n",
    "\n",
    "        g.savefig(plot_title, dpi=300)\n",
    "        \n",
    "def filter_metrics(df):\n",
    "    df = df[(df[\"Métrica\"] != \"matthew\") & (df[\"Métrica\"] != \"support\")]    \n",
    "    df = df[df[\"Clase\"].isin([\"weighted avg\", \"macro avg\"])]\n",
    "    return df\n",
    "\n",
    "def filter_metrics_classes(df):\n",
    "    df = df[(df[\"Métrica\"] != \"matthew\") & (df[\"Métrica\"] != \"support\")]\n",
    "    df = df[df[\"Clase\"].isin([\"Cristaliza\", \"No cristaliza\"])]\n",
    "    return df\n"
   ]
  },
  {
   "cell_type": "code",
   "execution_count": 149,
   "id": "63e9373d-b400-4c40-a1ff-9efe95f9bb9b",
   "metadata": {},
   "outputs": [
    {
     "data": {
      "image/png": "[encoded data removed]",
      "text/plain": [
       "<Figure size 2160x300 with 3 Axes>"
      ]
     },
     "metadata": {},
     "output_type": "display_data"
    }
   ],
   "source": [
    "df_box_exp_1 = filter_metrics(df_exp_1)\n",
    "\n",
    "def exp_1_final_no_matt(df):\n",
    "    df = df[df[\"Clase\"] == \"weighted avg\"]\n",
    "    df = df[df[\"Métrica\"] != \"matthew\"]\n",
    "    return df\n",
    "\n",
    "exp_1_boxplot(exp_1_final_no_matt(df_box_exp_1), plot_name=\"exp_1_prec_recall_f1_gbc_wei.pdf\")"
   ]
  },
  {
   "cell_type": "code",
   "execution_count": 150,
   "id": "9afc5fdf-4d90-4f94-8149-4f899b3aaa04",
   "metadata": {},
   "outputs": [
    {
     "data": {
      "image/png": "[encoded data removed]",
      "text/plain": [
       "<Figure size 2160x300 with 1 Axes>"
      ]
     },
     "metadata": {},
     "output_type": "display_data"
    }
   ],
   "source": [
    "#df_exp_1 = merge_files(solvent_exp_1, experiments_info_1)\n",
    "df_exp_1_matt = df_exp_1[(df_exp_1[\"Métrica\"] == \"matthew\") & (df_exp_1[\"Clase\"] == \"weighted avg\")]\n",
    "exp_1_boxplot(df_exp_1_matt, plot_name=\"exp_1_mathew_gbc_wei.pdf\")"
   ]
  },
  {
   "cell_type": "code",
   "execution_count": 122,
   "id": "9e801c2c-2d63-4872-b185-22d2289e0580",
   "metadata": {},
   "outputs": [
    {
     "data": {
      "image/png": "[encoded data removed]",
      "text/plain": [
       "<Figure size 882.026x300 with 2 Axes>"
      ]
     },
     "metadata": {},
     "output_type": "display_data"
    }
   ],
   "source": [
    "df_box_exp_1 = filter_metrics_classes(df_exp_1)\n",
    "\n",
    "exp_1_boxplot_classes(df_box_exp_1, plot_name=\"by_classes_gbc_wei.pdf\")"
   ]
  },
  {
   "cell_type": "code",
   "execution_count": 123,
   "id": "7d21b943-9a19-47fb-a479-f02f47ed93d0",
   "metadata": {},
   "outputs": [],
   "source": [
    "df_exp_2[\"Exp\"] = np.where(df_exp_2['Tipo'].str.contains(\"MONO\"), \"MONO_SV\", \"MULTI_SV\")\n",
    "\n",
    "def func(row):\n",
    "    sv = \"DMSO\"\n",
    "    if sv in row['Tipo']:\n",
    "        return sv\n",
    "    elif \"DMF\" in row['Tipo']:\n",
    "        return 'DMF' \n",
    "    else:\n",
    "        return 'GBL'\n",
    "\n",
    "df_exp_2['Solvente'] = df_exp_2.apply(func, axis=1)"
   ]
  },
  {
   "cell_type": "code",
   "execution_count": 141,
   "id": "a80a5bf3-f7f3-459e-a32a-e529f31d431d",
   "metadata": {},
   "outputs": [
    {
     "data": {
      "image/png": "[encoded data removed]",
      "text/plain": [
       "<Figure size 838.593x300 with 2 Axes>"
      ]
     },
     "metadata": {},
     "output_type": "display_data"
    }
   ],
   "source": [
    "df_box_exp_2 = filter_metrics(df_exp_2)\n",
    "df_box_exp_2 = df_box_exp_2[df_box_exp_2[\"Solvente\"]!='DMSO']\n",
    "exp_2_boxplot(df_box_exp_2[df_box_exp_2[\"Clase\"] == \"weighted avg\"], \n",
    "              shared_y=False, \n",
    "              plot_name=\"exp_2_by_sv_gbc_wei.pdf\")"
   ]
  },
  {
   "cell_type": "code",
   "execution_count": 146,
   "id": "004e8c9f-0d32-441f-b66f-a479fc2288a5",
   "metadata": {},
   "outputs": [],
   "source": [
    "df_box_exp_2 = df_exp_2[(df_exp_2[\"Métrica\"] == \"matthew\") & (df_exp_2[\"Clase\"] == \"weighted avg\")]\n",
    "df_box_exp_2 = df_box_exp_2[df_box_exp_2[\"Solvente\"]!='DMSO']"
   ]
  },
  {
   "cell_type": "code",
   "execution_count": 147,
   "id": "45c17199-a7c4-418b-8a8a-6179cf2e6b7d",
   "metadata": {},
   "outputs": [],
   "source": [
    "df_box_exp_2 = df_box_exp_2[df_box_exp_2[\"Score\"]!=0]"
   ]
  },
  {
   "cell_type": "code",
   "execution_count": 148,
   "id": "9b098bf2",
   "metadata": {},
   "outputs": [
    {
     "data": {
      "image/png": "[encoded data removed]",
      "text/plain": [
       "<Figure size 838.593x300 with 2 Axes>"
      ]
     },
     "metadata": {},
     "output_type": "display_data"
    }
   ],
   "source": [
    "exp_2_boxplot(df_box_exp_2, \n",
    "              shared_y=False, \n",
    "              plot_name=\"exp_2_by_sv_gbc_matt.pdf\")"
   ]
  },
  {
   "cell_type": "code",
   "execution_count": null,
   "id": "5bb1abc6-c20d-458d-95ec-6c164b315908",
   "metadata": {},
   "outputs": [],
   "source": []
  },
  {
   "cell_type": "code",
   "execution_count": null,
   "id": "72ddf6e1-5eb1-41c6-b976-0be70163e92a",
   "metadata": {},
   "outputs": [],
   "source": []
  },
  {
   "cell_type": "code",
   "execution_count": null,
   "id": "68f860b5-1df2-40c7-ad6e-d1fd941d0b14",
   "metadata": {},
   "outputs": [],
   "source": []
  },
  {
   "cell_type": "code",
   "execution_count": null,
   "id": "ba6becec-edce-4591-b459-67912c10d4f4",
   "metadata": {},
   "outputs": [],
   "source": []
  },
  {
   "cell_type": "code",
   "execution_count": null,
   "id": "c037814e-1939-4811-ab04-6b05166464cd",
   "metadata": {},
   "outputs": [],
   "source": []
  },
  {
   "cell_type": "code",
   "execution_count": 106,
   "id": "b43a5a60",
   "metadata": {},
   "outputs": [],
   "source": [
    "encoded_solvent_report = prepare_report_by_class(files_solvent_exp)\n",
    "drop_solvent_report = prepare_report_by_class(files_drop_col_exp)"
   ]
  },
  {
   "cell_type": "code",
   "execution_count": 138,
   "id": "6ec6cc90",
   "metadata": {},
   "outputs": [
    {
     "data": {
      "image/png": "[encoded data removed]",
      "text/plain": [
       "<Figure size 518.4x216 with 2 Axes>"
      ]
     },
     "metadata": {
      "needs_background": "light"
     },
     "output_type": "display_data"
    }
   ],
   "source": [
    "plot_biboxplot(encoded_solvent_report)"
   ]
  },
  {
   "cell_type": "code",
   "execution_count": 139,
   "id": "e8f6eef0",
   "metadata": {},
   "outputs": [
    {
     "data": {
      "image/png": "[encoded data removed]",
      "text/plain": [
       "<Figure size 518.4x216 with 2 Axes>"
      ]
     },
     "metadata": {
      "needs_background": "light"
     },
     "output_type": "display_data"
    }
   ],
   "source": [
    "plot_biboxplot_2(drop_solvent_report)"
   ]
  },
  {
   "cell_type": "code",
   "execution_count": null,
   "id": "d1855764",
   "metadata": {},
   "outputs": [],
   "source": []
  }
 ],
 "metadata": {
  "kernelspec": {
   "display_name": "thesis-repo",
   "language": "python",
   "name": "thesis-repo"
  },
  "language_info": {
   "codemirror_mode": {
    "name": "ipython",
    "version": 3
   },
   "file_extension": ".py",
   "mimetype": "text/x-python",
   "name": "python",
   "nbconvert_exporter": "python",
   "pygments_lexer": "ipython3",
   "version": "3.7.4"
  }
 },
 "nbformat": 4,
 "nbformat_minor": 5
}
