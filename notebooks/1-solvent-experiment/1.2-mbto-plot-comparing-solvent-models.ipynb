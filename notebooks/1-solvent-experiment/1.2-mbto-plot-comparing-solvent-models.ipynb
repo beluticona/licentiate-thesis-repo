{
 "cells": [
  {
   "cell_type": "code",
   "execution_count": 160,
   "id": "3f4ec502-54ec-4bc4-86d0-1654028b470f",
   "metadata": {},
   "outputs": [],
   "source": [
    "import numpy as np\n",
    "import pandas as pd\n",
    "import matplotlib.pyplot as plt\n",
    "import seaborn as sns\n",
    "import itertools\n",
    "from src.config import chemical_inventory_path, raw_data_path\n",
    "from src.data import notebook_utils as utils\n",
    "from src.constants import GBL_INCHI_KEY, DMSO_INCHI_KEY, DMF_INCHI_KEY, \\\n",
    "                        INCHI_TO_CHEMNAME, TARGET_COL, RXN_FEAT_NAME, ORGANOAMONIUM_INCHI_KEY_COL\n",
    "from src import plot_utils\n",
    "from pathlib import Path"
   ]
  },
  {
   "cell_type": "code",
   "execution_count": 215,
   "id": "3cd1af92-e09e-4809-84c0-09c4bc0b9900",
   "metadata": {},
   "outputs": [],
   "source": [
    "import matplotlib.pyplot as plt\n",
    "import matplotlib.ticker as mtick\n",
    "plt.style.reload_library()\n",
    "import matplotlib.patches as mpatches"
   ]
  },
  {
   "cell_type": "code",
   "execution_count": 22,
   "id": "0c3edd77-8a38-4145-9731-35e0852d999a",
   "metadata": {},
   "outputs": [],
   "source": [
    "result_path = Path(\"../../results/\")"
   ]
  },
  {
   "cell_type": "code",
   "execution_count": 96,
   "id": "843fd6d8-a85a-425d-b7bc-5b05884c2b35",
   "metadata": {},
   "outputs": [],
   "source": [
    "solvents_inchies = [GBL_INCHI_KEY, DMSO_INCHI_KEY, DMF_INCHI_KEY]\n",
    "solvents = [INCHI_TO_CHEMNAME[inchie] for inchie in solvents_inchies]"
   ]
  },
  {
   "cell_type": "code",
   "execution_count": 97,
   "id": "fcd6e94d-74d1-4697-b633-2ae99811efc6",
   "metadata": {},
   "outputs": [],
   "source": [
    "keywords = [\"rf\", INCHI_TO_CHEMNAME[GBL_INCHI_KEY]]"
   ]
  },
  {
   "cell_type": "code",
   "execution_count": 98,
   "id": "d1ba9e14-bc5f-4215-a789-f14697aea6cd",
   "metadata": {},
   "outputs": [],
   "source": [
    "def load_files_containing(dir_src_path, key_words, extension='csv'):\n",
    "    files = [file_path for file_path in dir_src_path.iterdir() \\\n",
    "                if all(keyword in file_path.as_posix() for keyword in key_words)]\n",
    "    return files"
   ]
  },
  {
   "cell_type": "code",
   "execution_count": 99,
   "id": "1f970796-f689-4719-a37e-1413e66bf516",
   "metadata": {},
   "outputs": [],
   "source": [
    "files_solvent_exp = load_files_containing(result_path, key_words=keywords)"
   ]
  },
  {
   "cell_type": "code",
   "execution_count": 100,
   "id": "f808a6f8-70a0-458b-9878-a378f703e392",
   "metadata": {},
   "outputs": [],
   "source": [
    "def load_melted_classi_report(path):\n",
    "    hue_1 = 'only_GBL'\n",
    "    report_index = ['No cristaliza', 'Cristaliza', 'accuracy',\n",
    "                    'macro avg', 'weighted avg'] \n",
    "    df = pd.read_csv(path)\n",
    "    df['Clase'] = report_index\n",
    "    df = df.melt(id_vars=['Clase'], \n",
    "                 value_vars=['precision', 'recall','f1-score', 'support'],\n",
    "                 value_name='Score', var_name='Métrica'\n",
    "                )\n",
    "    df['Tipo'] = 'monosolvente (GBL) ' if hue_1 in path.as_posix() \\\n",
    "                                        else 'multisolvente'\n",
    "    return df"
   ]
  },
  {
   "cell_type": "code",
   "execution_count": 101,
   "id": "d5321104-c985-4cde-b196-84e5487a7bf4",
   "metadata": {},
   "outputs": [],
   "source": [
    "merge_class_report = pd.concat([load_melted_classi_report(file) for file \n",
    "                                                    in files_solvent_exp],\n",
    "                               axis=0)"
   ]
  },
  {
   "cell_type": "code",
   "execution_count": 102,
   "id": "da8a52af-5aa0-4a51-b14f-8787648db188",
   "metadata": {},
   "outputs": [
    {
     "data": {
      "text/plain": [
       "Tipo               \n",
       "monosolvente (GBL)     340\n",
       "multisolvente          300\n",
       "dtype: int64"
      ]
     },
     "execution_count": 102,
     "metadata": {},
     "output_type": "execute_result"
    }
   ],
   "source": [
    "merge_class_report[['Tipo']].value_counts()"
   ]
  },
  {
   "cell_type": "code",
   "execution_count": 103,
   "id": "f0342a12-caef-4573-add1-3c19b976a384",
   "metadata": {},
   "outputs": [],
   "source": [
    "merge_class_report = merge_class_report[merge_class_report['Métrica'] != 'support']"
   ]
  },
  {
   "cell_type": "code",
   "execution_count": 105,
   "id": "e62a2cb2-799b-4fe7-923b-96820b6eb84a",
   "metadata": {},
   "outputs": [
    {
     "data": {
      "text/html": [
       "<div>\n",
       "<style scoped>\n",
       "    .dataframe tbody tr th:only-of-type {\n",
       "        vertical-align: middle;\n",
       "    }\n",
       "\n",
       "    .dataframe tbody tr th {\n",
       "        vertical-align: top;\n",
       "    }\n",
       "\n",
       "    .dataframe thead th {\n",
       "        text-align: right;\n",
       "    }\n",
       "</style>\n",
       "<table border=\"1\" class=\"dataframe\">\n",
       "  <thead>\n",
       "    <tr style=\"text-align: right;\">\n",
       "      <th></th>\n",
       "      <th>Clase</th>\n",
       "      <th>Métrica</th>\n",
       "      <th>Score</th>\n",
       "      <th>Tipo</th>\n",
       "    </tr>\n",
       "  </thead>\n",
       "  <tbody>\n",
       "    <tr>\n",
       "      <th>0</th>\n",
       "      <td>No cristaliza</td>\n",
       "      <td>precision</td>\n",
       "      <td>0.923924</td>\n",
       "      <td>multisolvente</td>\n",
       "    </tr>\n",
       "    <tr>\n",
       "      <th>1</th>\n",
       "      <td>Cristaliza</td>\n",
       "      <td>precision</td>\n",
       "      <td>0.795455</td>\n",
       "      <td>multisolvente</td>\n",
       "    </tr>\n",
       "    <tr>\n",
       "      <th>2</th>\n",
       "      <td>accuracy</td>\n",
       "      <td>precision</td>\n",
       "      <td>0.900738</td>\n",
       "      <td>multisolvente</td>\n",
       "    </tr>\n",
       "    <tr>\n",
       "      <th>3</th>\n",
       "      <td>macro avg</td>\n",
       "      <td>precision</td>\n",
       "      <td>0.859689</td>\n",
       "      <td>multisolvente</td>\n",
       "    </tr>\n",
       "    <tr>\n",
       "      <th>4</th>\n",
       "      <td>weighted avg</td>\n",
       "      <td>precision</td>\n",
       "      <td>0.897471</td>\n",
       "      <td>multisolvente</td>\n",
       "    </tr>\n",
       "  </tbody>\n",
       "</table>\n",
       "</div>"
      ],
      "text/plain": [
       "           Clase    Métrica     Score           Tipo\n",
       "0  No cristaliza  precision  0.923924  multisolvente\n",
       "1     Cristaliza  precision  0.795455  multisolvente\n",
       "2       accuracy  precision  0.900738  multisolvente\n",
       "3      macro avg  precision  0.859689  multisolvente\n",
       "4   weighted avg  precision  0.897471  multisolvente"
      ]
     },
     "execution_count": 105,
     "metadata": {},
     "output_type": "execute_result"
    }
   ],
   "source": [
    "merge_class_report.head()"
   ]
  },
  {
   "cell_type": "code",
   "execution_count": 113,
   "id": "019239bf-d9d1-4235-add1-7edabb285c9d",
   "metadata": {},
   "outputs": [],
   "source": [
    "merge_class_report_by_class = merge_class_report.loc[merge_class_report['Clase']\\\n",
    "                                                .isin(['No cristaliza','Cristaliza'])]"
   ]
  },
  {
   "cell_type": "code",
   "execution_count": 225,
   "id": "2c52f70d-5209-4bb6-8cff-2e1eb9e7fa17",
   "metadata": {},
   "outputs": [],
   "source": [
    "with plt.style.context(['science', 'light']):\n",
    "    light = sns.color_palette()"
   ]
  },
  {
   "cell_type": "code",
   "execution_count": 223,
   "id": "ac0d2565-0bf2-47d2-807d-3a1a6c1b4624",
   "metadata": {},
   "outputs": [
    {
     "data": {
      "text/html": [
       "<svg  width=\"495\" height=\"55\"><rect x=\"0\" y=\"0\" width=\"55\" height=\"55\" style=\"fill:#77aadd;stroke-width:2;stroke:rgb(255,255,255)\"/><rect x=\"55\" y=\"0\" width=\"55\" height=\"55\" style=\"fill:#ee8866;stroke-width:2;stroke:rgb(255,255,255)\"/><rect x=\"110\" y=\"0\" width=\"55\" height=\"55\" style=\"fill:#eedd88;stroke-width:2;stroke:rgb(255,255,255)\"/><rect x=\"165\" y=\"0\" width=\"55\" height=\"55\" style=\"fill:#ffaabb;stroke-width:2;stroke:rgb(255,255,255)\"/><rect x=\"220\" y=\"0\" width=\"55\" height=\"55\" style=\"fill:#99ddff;stroke-width:2;stroke:rgb(255,255,255)\"/><rect x=\"275\" y=\"0\" width=\"55\" height=\"55\" style=\"fill:#44bb99;stroke-width:2;stroke:rgb(255,255,255)\"/><rect x=\"330\" y=\"0\" width=\"55\" height=\"55\" style=\"fill:#bbcc33;stroke-width:2;stroke:rgb(255,255,255)\"/><rect x=\"385\" y=\"0\" width=\"55\" height=\"55\" style=\"fill:#aaaa00;stroke-width:2;stroke:rgb(255,255,255)\"/><rect x=\"440\" y=\"0\" width=\"55\" height=\"55\" style=\"fill:#dddddd;stroke-width:2;stroke:rgb(255,255,255)\"/></svg>"
      ],
      "text/plain": [
       "[(0.4666666666666667, 0.6666666666666666, 0.8666666666666667),\n",
       " (0.9333333333333333, 0.5333333333333333, 0.4),\n",
       " (0.9333333333333333, 0.8666666666666667, 0.5333333333333333),\n",
       " (1.0, 0.6666666666666666, 0.7333333333333333),\n",
       " (0.6, 0.8666666666666667, 1.0),\n",
       " (0.26666666666666666, 0.7333333333333333, 0.6),\n",
       " (0.7333333333333333, 0.8, 0.2),\n",
       " (0.6666666666666666, 0.6666666666666666, 0.0),\n",
       " (0.8666666666666667, 0.8666666666666667, 0.8666666666666667)]"
      ]
     },
     "execution_count": 223,
     "metadata": {},
     "output_type": "execute_result"
    }
   ],
   "source": [
    "light"
   ]
  },
  {
   "cell_type": "code",
   "execution_count": 220,
   "id": "6f0d4ead-0d85-43e4-9a6d-df89403d6d7f",
   "metadata": {},
   "outputs": [
    {
     "data": {
      "image/png": "[encoded data removed]",
      "text/plain": [
       "<Figure size 518.4x216 with 2 Axes>"
      ]
     },
     "metadata": {
      "needs_background": "light"
     },
     "output_type": "display_data"
    }
   ],
   "source": [
    "plot_title = \"../../figures/boxplot_solvent_exp.pdf\"\n",
    "\n",
    "with plt.style.context(['science', 'bright']):\n",
    "    g = sns.catplot(x=\"Métrica\", y=\"Score\",\n",
    "                hue=\"Tipo\", col='Clase', col_wrap=2, height=3, aspect=1.2,\n",
    "                col_order=[\"Cristaliza\", \"No cristaliza\"], palette=[bright.red, bright.grey],\n",
    "                kind='box', sharey=True, sharex=True, data=merge_class_report_by_class, legend=False)\n",
    "    for ax in g.axes:\n",
    "        #ax.set_yticklabels(rotation=90)\n",
    "        ax.tick_params(labelbottom=True, which=\"both\", left=True, bottom=False, top=False, right=False)\n",
    "    plt.subplots_adjust(bottom=0.1, left=0.06, hspace=0.2)\n",
    "    pop_a = mpatches.Patch(facecolor=bright.red, label=\"multisolvente (GBL+DMSO+DMF)\", edgecolor='grey')\n",
    "    pop_b = mpatches.Patch(facecolor=bright.grey, label=\"monosolvente (GBL)\", edgecolor='grey')\n",
    "\n",
    "    plt.legend(handles=[pop_a,pop_b])\n",
    "\n",
    "    #plt.legend(title='', labels=[\"multisolvente (GBL+DMSO+DMF)\", \"monosolvente (GBL)\"], facecolor=True)\n",
    "    plt.savefig(plot_title, dpi=300)\n",
    "    plt.show()"
   ]
  }
 ],
 "metadata": {
  "kernelspec": {
   "display_name": "thesis-repo",
   "language": "python",
   "name": "thesis-repo"
  },
  "language_info": {
   "codemirror_mode": {
    "name": "ipython",
    "version": 3
   },
   "file_extension": ".py",
   "mimetype": "text/x-python",
   "name": "python",
   "nbconvert_exporter": "python",
   "pygments_lexer": "ipython3",
   "version": "3.7.4"
  }
 },
 "nbformat": 4,
 "nbformat_minor": 5
}
