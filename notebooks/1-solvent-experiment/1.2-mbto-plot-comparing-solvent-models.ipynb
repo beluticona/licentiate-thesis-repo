{
 "cells": [
  {
   "cell_type": "markdown",
   "metadata": {},
   "source": [
    "-entrenamos en GBL\n",
    "-entrenamos en GBL + otros solventes\n",
    "-testeamos en ambos casos en GBL, no habia cols de solventes\n",
    "\n",
    "- luego lo encodeamos y repetimos lo mismo\n",
    "- no vemos que se vea afectada, seguimos igual pero con esa info\n",
    "\n",
    "\n"
   ]
  },
  {
   "cell_type": "code",
   "execution_count": 78,
   "metadata": {},
   "outputs": [],
   "source": [
    "import numpy as np\n",
    "import pandas as pd\n",
    "import matplotlib.pyplot as plt\n",
    "import seaborn as sns\n",
    "import itertools\n",
    "from src.config import chemical_inventory_path, raw_data_path\n",
    "from src.data import notebook_utils as utils\n",
    "from src.constants import GBL_INCHI_KEY, DMSO_INCHI_KEY, DMF_INCHI_KEY, \\\n",
    "                        INCHI_TO_CHEMNAME, TARGET_COL, RXN_FEAT_NAME, ORGANOAMONIUM_INCHI_KEY_COL\n",
    "from src import plot_utils\n",
    "from pathlib import Path"
   ]
  },
  {
   "cell_type": "code",
   "execution_count": 79,
   "metadata": {},
   "outputs": [],
   "source": [
    "import matplotlib.pyplot as plt\n",
    "import matplotlib.ticker as mtick\n",
    "plt.style.reload_library()\n",
    "import matplotlib.patches as mpatches\n",
    "import seaborn as sns"
   ]
  },
  {
   "cell_type": "code",
   "execution_count": 3,
   "metadata": {},
   "outputs": [
    {
     "name": "stdout",
     "output_type": "stream",
     "text": [
      "/home/belu/VS Workplace/licentiate-thesis-repo\n"
     ]
    }
   ],
   "source": [
    "%cd ../.."
   ]
  },
  {
   "cell_type": "code",
   "execution_count": 80,
   "metadata": {},
   "outputs": [],
   "source": [
    "solvent_exp_dir = Path(\"../../results2/\")\n",
    "solvent_drop_dir = Path(\"../../results3/\")\n",
    "solvent_exp_2 = Path(\"../../results_exp_2/\")"
   ]
  },
  {
   "cell_type": "code",
   "execution_count": 81,
   "metadata": {},
   "outputs": [],
   "source": [
    "solvent_exp_1 = Path(\"results/solvent_exp_1_gbc/\")\n",
    "solvent_exp_2 = Path(\"results/solvent_exp_2_gbc/\")"
   ]
  },
  {
   "cell_type": "code",
   "execution_count": 82,
   "metadata": {},
   "outputs": [],
   "source": [
    "solvents_inchies = [GBL_INCHI_KEY, DMSO_INCHI_KEY, DMF_INCHI_KEY]\n",
    "solvents = [INCHI_TO_CHEMNAME[inchie] for inchie in solvents_inchies]"
   ]
  },
  {
   "cell_type": "code",
   "execution_count": 83,
   "metadata": {},
   "outputs": [],
   "source": [
    "keywords_encoded_solvent = [\"rf\", INCHI_TO_CHEMNAME[GBL_INCHI_KEY]]\n",
    "no_keywords_dropped_solvent = [\"encoded\"]"
   ]
  },
  {
   "cell_type": "code",
   "execution_count": 84,
   "metadata": {},
   "outputs": [
    {
     "data": {
      "text/plain": [
       "['Gamma-Butyrolactone', 'Dimethyl sulfoxide', 'Dimethylformamide']"
      ]
     },
     "execution_count": 84,
     "metadata": {},
     "output_type": "execute_result"
    }
   ],
   "source": [
    "solvents"
   ]
  },
  {
   "cell_type": "code",
   "execution_count": 85,
   "metadata": {},
   "outputs": [],
   "source": [
    "sv_keywords = {'GBL': 'Gamma-Butyrolactone',\n",
    "               'DMSO': 'Dimethyl sulfoxide',\n",
    "               'DMF': 'Dimethylformamide'}"
   ]
  },
  {
   "cell_type": "code",
   "execution_count": 86,
   "metadata": {},
   "outputs": [],
   "source": [
    "# Experiment 2\n",
    "# Sample from each solvent evaluated in:\n",
    "# 1. specific model MONO\n",
    "# 2. multisolvent model MULTI\n",
    "\n",
    "\n",
    "algorithms = [\"rf\"]\n",
    "\n",
    "def get_experiment_solvent_2():\n",
    "    exp_tags_preffix = [\"MONO_\", \"MULTI_\"]\n",
    "    files_keys = [\"model_per\", \"multisolvent\"]\n",
    "\n",
    "    experiments_info = {}\n",
    "    for tag_preffix, files_key in zip(exp_tags_preffix, files_keys):\n",
    "        for sv, sv_name in sv_keywords.items():\n",
    "            exp_info = {\"keywords\": [sv_name, files_key]\n",
    "                       }\n",
    "            experiments_info[tag_preffix+sv] = exp_info\n",
    "    return experiments_info\n",
    "\n",
    "\n",
    "# Experient 1\n",
    "# same sample evaluated in:\n",
    "# ENCODED_SOLV\n",
    "# NO_SOLV\n",
    "\n",
    "algorithms = [\"rf\"]\n",
    "\n",
    "def get_experiment_solvent_1():\n",
    "    exp_tags = [\"ENCODED_SV\", \"NO_SV\"]\n",
    "    files_keys = [\"multisolvente\", \"no_solvent\"]\n",
    "    experiments_info = {}\n",
    "    for tag, files_key in zip(exp_tags, files_keys):\n",
    "        exp_info = {\"keywords\": [files_key]\n",
    "                    }\n",
    "        experiments_info[tag] = exp_info\n",
    "    return experiments_info"
   ]
  },
  {
   "cell_type": "code",
   "execution_count": 87,
   "metadata": {},
   "outputs": [
    {
     "data": {
      "text/plain": [
       "{'MONO_GBL': {'keywords': ['Gamma-Butyrolactone', 'model_per']},\n",
       " 'MONO_DMSO': {'keywords': ['Dimethyl sulfoxide', 'model_per']},\n",
       " 'MONO_DMF': {'keywords': ['Dimethylformamide', 'model_per']},\n",
       " 'MULTI_GBL': {'keywords': ['Gamma-Butyrolactone', 'multisolvent']},\n",
       " 'MULTI_DMSO': {'keywords': ['Dimethyl sulfoxide', 'multisolvent']},\n",
       " 'MULTI_DMF': {'keywords': ['Dimethylformamide', 'multisolvent']}}"
      ]
     },
     "execution_count": 87,
     "metadata": {},
     "output_type": "execute_result"
    }
   ],
   "source": [
    "experiments_info_2 = get_experiment_solvent_2()\n",
    "experiments_info_2"
   ]
  },
  {
   "cell_type": "code",
   "execution_count": 88,
   "metadata": {},
   "outputs": [
    {
     "data": {
      "text/plain": [
       "{'ENCODED_SV': {'keywords': ['multisolvente']},\n",
       " 'NO_SV': {'keywords': ['no_solvent']}}"
      ]
     },
     "execution_count": 88,
     "metadata": {},
     "output_type": "execute_result"
    }
   ],
   "source": [
    "experiments_info_1 = get_experiment_solvent_1()\n",
    "experiments_info_1"
   ]
  },
  {
   "cell_type": "code",
   "execution_count": 89,
   "metadata": {},
   "outputs": [],
   "source": [
    "def load_files_containing(dir_src_path, key_words, not_keywords=[], extension='csv'):\n",
    "    files = [file_path for file_path in dir_src_path.iterdir() \\\n",
    "                if all(keyword in file_path.as_posix() for keyword in key_words)\n",
    "                and not any(keyword in file_path.as_posix() for keyword in not_keywords)]\n",
    "    return files\n",
    "\n",
    "def load_melted_classi_report(path, experiment_tag):\n",
    "    report_index = ['No cristaliza', 'Cristaliza', 'accuracy',\n",
    "                    'macro avg', 'weighted avg']\n",
    "    df = pd.read_csv(path)\n",
    "    df['Clase'] = report_index\n",
    "    df = df.melt(id_vars=['Clase'], \n",
    "                 value_vars=['precision', 'recall','f1-score', 'support', 'matthew'],\n",
    "                 value_name='Score', var_name='Métrica'\n",
    "                )\n",
    "    df[\"Tipo\"] = experiment_tag\n",
    "    return df\n",
    "\n",
    "def merge_files(files_dir, experiments_info):\n",
    "    experiments_data = []\n",
    "    \n",
    "    for experiment_tag, exp_info in experiments_info.items():\n",
    "        keywords = exp_info[\"keywords\"]\n",
    "        exp_files_list = load_files_containing(files_dir, key_words=keywords)\n",
    "        df_exp_data = pd.concat([load_melted_classi_report(file, experiment_tag) for file \n",
    "                                                        in exp_files_list],\n",
    "                                   axis=0)\n",
    "        experiments_data.append(df_exp_data)\n",
    "\n",
    "    return pd.concat(experiments_data, axis=0)"
   ]
  },
  {
   "cell_type": "code",
   "execution_count": 90,
   "metadata": {},
   "outputs": [],
   "source": [
    "df_exp_2 = merge_files(solvent_exp_2, experiments_info_2)"
   ]
  },
  {
   "cell_type": "code",
   "execution_count": 91,
   "metadata": {},
   "outputs": [],
   "source": [
    "#df_exp_2[df_exp_2[\"Solvente\"]=='DMF'].head(40)"
   ]
  },
  {
   "cell_type": "code",
   "execution_count": 92,
   "metadata": {},
   "outputs": [],
   "source": [
    "df_exp_1 = merge_files(solvent_exp_1, experiments_info_1)"
   ]
  },
  {
   "cell_type": "code",
   "execution_count": 93,
   "metadata": {},
   "outputs": [],
   "source": [
    "def plot_classes(df):\n",
    "    df = df[df['Métrica'] != 'support']\n",
    "    df = df.loc[df['Clase'].isin(['No cristaliza','Cristaliza'])]\n",
    "    return df"
   ]
  },
  {
   "cell_type": "code",
   "execution_count": null,
   "metadata": {},
   "outputs": [],
   "source": []
  },
  {
   "cell_type": "code",
   "execution_count": 229,
   "metadata": {},
   "outputs": [],
   "source": [
    "#sns.set_context(\"talk\")\n",
    "\n",
    "folter = \"figures/\"\n",
    "def plot_biboxplot(merge_class_report_by_class):\n",
    "    plot_title = \"../../figures/boxplot_multisolvent_exp_same_testingset.pdf\"\n",
    "    \n",
    "    with plt.style.context(['science', 'bright']):\n",
    "        bright = sns.color_palette()\n",
    "    \n",
    "        bright = plot_utils.tol_cset(\"bright\")\n",
    "    \n",
    "    with plt.style.context(['science', 'bright']):\n",
    "        g = sns.catplot(x=\"Métrica\", y=\"Score\",\n",
    "                    hue=\"Tipo\", col='Clase', col_wrap=2, height=3, aspect=1.2,\n",
    "                    col_order=[\"Cristaliza\", \"No cristaliza\"], palette=[bright.red, bright.grey],\n",
    "                    kind='box', sharey=True, sharex=True, data=merge_class_report_by_class, legend=False)\n",
    "        for ax in g.axes:\n",
    "            #ax.set_yticklabels(rotation=90)\n",
    "            ax.tick_params(labelbottom=True, which=\"both\", left=True, bottom=False, top=False, right=False)\n",
    "        plt.subplots_adjust(bottom=0.1, left=0.06, hspace=0.2)\n",
    "        pop_a = mpatches.Patch(facecolor=bright.red, label=\"multisolvente (GBL+DMSO+DMF)\", edgecolor='grey')\n",
    "        pop_b = mpatches.Patch(facecolor=bright.grey, label=\"monosolvente (GBL)\", edgecolor='grey')\n",
    "\n",
    "        plt.legend(handles=[pop_a,pop_b])\n",
    "        \n",
    "        #plt.figure(figsize=(12,8))\n",
    "\n",
    "        #plt.legend(title='', labels=[\"multisolvente (GBL+DMSO+DMF)\", \"monosolvente (GBL)\"], facecolor=True)\n",
    "        plt.savefig(plot_title, dpi=300)\n",
    "        plt.ylim((0.55, 0.95))\n",
    "        \n",
    "        #plt.show()\n",
    "        \n",
    "def plot_biboxplot_2(merge_class_report_by_class):\n",
    "    plot_title = \"../../figures/boxplot_drop_solvent_exp.pdf\"\n",
    "    \n",
    "    with plt.style.context(['science', 'bright']):\n",
    "        bright = sns.color_palette()\n",
    "    \n",
    "        bright = plot_utils.tol_cset(\"bright\")\n",
    "    \n",
    "    with plt.style.context(['science', 'bright']):\n",
    "        g = sns.catplot(x=\"Métrica\", y=\"Score\",\n",
    "                    hue=\"Tipo\", col='Clase', col_wrap=2, height=3, aspect=1.2,\n",
    "                    col_order=[\"Cristaliza\", \"No cristaliza\"], palette=[bright.cyan, bright.grey],\n",
    "                    kind='box', sharey=True, sharex=True, data=merge_class_report_by_class, legend=False)\n",
    "        for ax in g.axes:\n",
    "            #ax.set_yticklabels(rotation=90)\n",
    "            ax.tick_params(labelbottom=True, which=\"both\", left=True, bottom=False, top=False, right=False)\n",
    "        plt.subplots_adjust(bottom=0.1, left=0.06, hspace=0.2)\n",
    "        pop_a = mpatches.Patch(facecolor=bright.cyan, label=\"trained GBL+DMSO+DMF s/sv\", edgecolor='grey')\n",
    "        pop_b = mpatches.Patch(facecolor=bright.grey, label=\"trained GBL s/sv\", edgecolor='grey')\n",
    "\n",
    "        plt.legend(handles=[pop_a,pop_b])\n",
    "        \n",
    "        #plt.figure(figsize=(12,8))\n",
    "\n",
    "        #plt.legend(title='', labels=[\"multisolvente (GBL+DMSO+DMF)\", \"monosolvente (GBL)\"], facecolor=True)\n",
    "        plt.savefig(plot_title, dpi=300)\n",
    "        plt.ylim((0.55, 0.95))\n",
    "        #plt.show()\n",
    "sns.set(font_scale = 1.05)    \n",
    "def exp_1_boxplot_classes(df, plot_name=\"exp_1_unknown_plot.pdf\",\n",
    "                         bbox_to_anchor=(1.55, 0.97), height=2,\n",
    "                         aspect=1.5\n",
    "                         ):\n",
    "    plot_title = \"figures/solvent/\"+plot_name\n",
    "    with plt.style.context(['science', 'bright']):\n",
    "        bright = plot_utils.tol_cset(\"bright\")\n",
    "        g = sns.catplot(x=\"Métrica\", y=\"Score\",\n",
    "                    hue=\"Tipo\", height=height, aspect=aspect,\n",
    "                    #row='Clase',\n",
    "                    col='Solvente',\n",
    "                    #col_order=[\"Cristaliza\", \"No cristaliza\"], \n",
    "                    palette=[bright.red, bright.grey],\n",
    "                    kind='box', sharey=False, sharex=True, data=df, legend=False)\n",
    "        for ax in g.axes[0]:\n",
    "            #ax.set_xticklabels(['A', 'B', 'C'], rotation=0)\n",
    "            ax.tick_params(labelbottom=True, which=\"both\", left=False, bottom=False, \n",
    "                           top=False, right=False)\n",
    "        g.set(xlabel=None)\n",
    "        \n",
    "        #for ax in g.axes[1]:\n",
    "            #ax.set_xticklabels(['A', 'B', 'C'], rotation=0)\n",
    "         #   ax.tick_params(labelbottom=True, which=\"both\", left=False, bottom=False, \n",
    "          #                 top=False, right=False)\n",
    "        #g.set(xlabel=None)\n",
    "    #for ax in g.axes:\n",
    "        #ax.set_yticklabels(rotation=90)\n",
    "     #   ax.tick_params(labelbottom=False, which=\"both\", left=False, bottom=False, top=False, right=False)\n",
    "        #plt.subplots_adjust(bottom=0.1, left=0.05, hspace=0.1)\n",
    "        pop_a = mpatches.Patch(facecolor=bright.red, label=\"ENCODED_SV\", edgecolor='grey')\n",
    "        pop_b = mpatches.Patch(facecolor=bright.grey, label=\"SIN_SV\", edgecolor='grey')\n",
    "        plt.legend(handles=[pop_a,pop_b])\n",
    "        #g._legend.set_title(\" \")\n",
    "        plt.legend(fontsize=11, loc='lower right', bbox_to_anchor=bbox_to_anchor)\n",
    "        #plt.setp(g._legend.get_texts(), fontsize='10')\n",
    "        g.savefig(plot_title, dpi=300)\n",
    "    \n",
    "def exp_2_boxplot_classes(df, plot_name=\"exp_1_unknown_plot.pdf\"):\n",
    "    plot_title = \"figures/solvent/\"+plot_name\n",
    "    with plt.style.context(['science', 'bright']):\n",
    "        bright = plot_utils.tol_cset(\"bright\")\n",
    "        g = sns.catplot(x=\"Métrica\", y=\"Score\",\n",
    "                    hue=\"Tipo\", row='Clase', height=3, aspect=1.5,\n",
    "                    col_order=[\"Cristaliza\", \"No cristaliza\"], \n",
    "                    palette=[bright.grey, bright.cyan],\n",
    "                    kind='box', sharey=False, sharex=True, data=df, legend=False)\n",
    "        for ax in g.axes.flatten():\n",
    "            #ax.set_yticklabels(rotation=90)\n",
    "            ax.tick_params(labelbottom=False, which=\"both\", left=False, bottom=False, top=False, right=False)\n",
    "        \n",
    "        g.axes[1][0].tick_params(labelbottom=True)\n",
    "        g.set(xlabel=None)\n",
    "    #for ax in g.axes:\n",
    "        #ax.set_yticklabels(rotation=90)\n",
    "     #   ax.tick_params(labelbottom=True, which=\"both\", left=True, bottom=False, top=False, right=False)\n",
    "    #plt.subplots_adjust(bottom=0.1, left=0.05, hspace=0.1)\n",
    "        pop_a = mpatches.Patch(facecolor=bright.grey, label=\"MONO_SV\", edgecolor='grey')\n",
    "        pop_b = mpatches.Patch(facecolor=bright.grey, label=\"MULTI_sv\", edgecolor='grey')\n",
    "        plt.legend(handles=[pop_a,pop_b])\n",
    "        #g._legend.set_title(\" \")\n",
    "        plt.legend(fontsize=11, loc='lower right', bbox_to_anchor=(1.52, 0.95))\n",
    "        #plt.setp(g._legend.get_texts(), fontsize='10')\n",
    "        #g.savefig(plot_title, dpi=300)\n",
    "        \n",
    "def exp_1_boxplot(df, plot_name=\"exp_1_unknown_plot.pdf\",\n",
    "                  bbox_to_anchor=(1.55, 0.97), height=2,\n",
    "                  aspect=1.5\n",
    "                  ):  \n",
    "    plot_title = \"figures/solvent/\"+plot_name\n",
    "    with plt.style.context(['science', 'bright']):\n",
    "        bright = plot_utils.tol_cset(\"bright\")\n",
    "        g = sns.catplot(x=\"Métrica\", y=\"Score\",\n",
    "                hue='Tipo', height=height, aspect=aspect,\n",
    "                #col='Solvente',\n",
    "                #col_order=[\"Cristaliza\", \"No cristaliza\"], \n",
    "                palette=[bright.red, bright.grey],\n",
    "                kind='box', sharey=True, sharex=True, data=df, legend=False)\n",
    "        for ax in g.axes[0]:\n",
    "            #ax.set_yticklabels(rotation=90)\n",
    "            #ax.grid(False, axis='y', color='black', linestyle='-', linewidth=0.5)\n",
    "            ax.tick_params(labelbottom=True, which=\"both\", left=False, bottom=False, top=False, right=False)     \n",
    "#        for ax in g.axes.flat:\n",
    " #           ax.grid(True, axis='y')\n",
    "        g.set(xlabel=None)\n",
    "        #sns.despine(bottom = False, left = False, trim=False)\n",
    "        g.savefig(plot_title, dpi=300)\n",
    "        \n",
    "    \n",
    "def exp_2_boxplot(df, shared_y=True, plot_name=\"exp_2_unknown_plot.pdf\"):\n",
    "    plot_title = \"figures/solvent/\"+plot_name\n",
    "    \n",
    "    with plt.style.context(['science', 'bright']):\n",
    "        bright = plot_utils.tol_cset(\"bright\")\n",
    "        g = sns.catplot(x=\"Métrica\", y=\"Score\",\n",
    "                    hue=\"Exp\", col='Solvente', col_wrap=2, height=3, aspect=1.15,\n",
    "                    #col_order=[\"Cristaliza\", \"No cristaliza\"], \n",
    "                    palette=[bright.grey, bright.cyan],\n",
    "                    kind='box', sharey=shared_y, sharex=True, data=df, legend=False)\n",
    "        g.set(xlabel=None)\n",
    "\n",
    "        for ax in g.axes:\n",
    "            #ax.set_yticklabels(rotation=90)\n",
    "            ax.tick_params(labelbottom=True, which=\"both\", left=False, bottom=False, top=False, right=False)\n",
    "        #plt.subplots_adjust(bottom=0.1, left=0.06, hspace=0.2)\n",
    "        pop_a = mpatches.Patch(facecolor=bright.red, label=\"MONO_SV\", edgecolor='grey')\n",
    "        pop_b = mpatches.Patch(facecolor=bright.cyan, label=\"MULTI_SV\", edgecolor='grey')\n",
    "        plt.legend(handles=[pop_a,pop_b])\n",
    "        #g._legend.set_title(\" \")\n",
    "        plt.legend(fontsize=11, loc='lower right', bbox_to_anchor=(1.6, 0.35))\n",
    "\n",
    "        g.savefig(plot_title, dpi=300)\n",
    "        \n",
    "def filter_metrics(df):\n",
    "    df = df[(df[\"Métrica\"] != \"matthew\") & (df[\"Métrica\"] != \"support\")]    \n",
    "    df = df[df[\"Clase\"].isin([\"weighted avg\", \"macro avg\"])]\n",
    "    return df\n",
    "\n",
    "def filter_metrics_classes(df):\n",
    "    df = df[(df[\"Métrica\"] != \"matthew\") & (df[\"Métrica\"] != \"support\")]\n",
    "    df = df[df[\"Clase\"].isin([\"Cristaliza\", \"No cristaliza\"])]\n",
    "    return df\n"
   ]
  },
  {
   "cell_type": "code",
   "execution_count": 230,
   "metadata": {},
   "outputs": [],
   "source": [
    "df_box_exp_1 = filter_metrics(df_exp_1)\n",
    "\n",
    "def exp_1_final_no_matt(df):\n",
    "    df = df[df[\"Clase\"] == \"weighted avg\"]\n",
    "    df = df[df[\"Métrica\"] != \"matthew\"]\n",
    "    return df\n",
    "\n",
    "#exp_1_boxplot(exp_1_final_no_matt(df_box_exp_1), plot_name=\"exp_1_prec_recall_f1_gbc_wei.pdf\")"
   ]
  },
  {
   "cell_type": "code",
   "execution_count": 231,
   "metadata": {},
   "outputs": [
    {
     "data": {
      "image/png": "[encoded data removed]",
      "text/plain": [
       "<Figure size 264x240 with 1 Axes>"
      ]
     },
     "metadata": {},
     "output_type": "display_data"
    }
   ],
   "source": [
    "#df_exp_1 = merge_files(solvent_exp_1, experiments_info_1)\n",
    "\n",
    "df_exp_1_matt = df_exp_1[(df_exp_1[\"Métrica\"] == \"matthew\") & (df_exp_1[\"Clase\"] == \"weighted avg\")]\n",
    "\n",
    "#df_exp_1_matt['Solvente']= 'GBL+DMSO+DMF'\n",
    "\n",
    "exp_1_boxplot(df_exp_1_matt, plot_name=\"exp_1_mathew_gbc_wei_sin_label.pdf\",\n",
    "              bbox_to_anchor=(1.75, 0.33), height=2.4,\n",
    "              aspect=1.1)"
   ]
  },
  {
   "cell_type": "code",
   "execution_count": 232,
   "metadata": {},
   "outputs": [],
   "source": [
    "df_exp_1_metrics = df_box_exp_1[(df_box_exp_1[\"Clase\"] == \"weighted avg\")]"
   ]
  },
  {
   "cell_type": "code",
   "execution_count": 239,
   "metadata": {},
   "outputs": [
    {
     "name": "stderr",
     "output_type": "stream",
     "text": [
      "/home/belu/.local/share/virtualenvs/licentiate-thesis-repo-cz9ujhZI/lib/python3.7/site-packages/ipykernel_launcher.py:2: SettingWithCopyWarning: \n",
      "A value is trying to be set on a copy of a slice from a DataFrame.\n",
      "Try using .loc[row_indexer,col_indexer] = value instead\n",
      "\n",
      "See the caveats in the documentation: https://pandas.pydata.org/pandas-docs/stable/user_guide/indexing.html#returning-a-view-versus-a-copy\n",
      "  \n"
     ]
    },
    {
     "data": {
      "image/png": "[encoded data removed]",
      "text/plain": [
       "<Figure size 310.5x270 with 1 Axes>"
      ]
     },
     "metadata": {},
     "output_type": "display_data"
    }
   ],
   "source": [
    "#df_box_exp_1 = filter_metrics_classes(df_exp_1)\n",
    "df_exp_1_metrics['Solvente']= 'GBL+DMSO+DMF'\n",
    "exp_1_boxplot_classes(df_exp_1_metrics, plot_name=\"by_classes_gbc_wei.pdf\",\n",
    "                     bbox_to_anchor=(1.79, 0), height=2.7,\n",
    "                         aspect=1.15)"
   ]
  },
  {
   "cell_type": "code",
   "execution_count": 112,
   "metadata": {},
   "outputs": [
    {
     "data": {
      "text/html": [
       "<div>\n",
       "<style scoped>\n",
       "    .dataframe tbody tr th:only-of-type {\n",
       "        vertical-align: middle;\n",
       "    }\n",
       "\n",
       "    .dataframe tbody tr th {\n",
       "        vertical-align: top;\n",
       "    }\n",
       "\n",
       "    .dataframe thead th {\n",
       "        text-align: right;\n",
       "    }\n",
       "</style>\n",
       "<table border=\"1\" class=\"dataframe\">\n",
       "  <thead>\n",
       "    <tr style=\"text-align: right;\">\n",
       "      <th></th>\n",
       "      <th>Clase</th>\n",
       "      <th>Métrica</th>\n",
       "      <th>Score</th>\n",
       "      <th>Tipo</th>\n",
       "    </tr>\n",
       "  </thead>\n",
       "  <tbody>\n",
       "    <tr>\n",
       "      <th>0</th>\n",
       "      <td>No cristaliza</td>\n",
       "      <td>precision</td>\n",
       "      <td>0.881884</td>\n",
       "      <td>ENCODED_SV</td>\n",
       "    </tr>\n",
       "    <tr>\n",
       "      <th>1</th>\n",
       "      <td>Cristaliza</td>\n",
       "      <td>precision</td>\n",
       "      <td>0.780105</td>\n",
       "      <td>ENCODED_SV</td>\n",
       "    </tr>\n",
       "    <tr>\n",
       "      <th>5</th>\n",
       "      <td>No cristaliza</td>\n",
       "      <td>recall</td>\n",
       "      <td>0.966640</td>\n",
       "      <td>ENCODED_SV</td>\n",
       "    </tr>\n",
       "    <tr>\n",
       "      <th>6</th>\n",
       "      <td>Cristaliza</td>\n",
       "      <td>recall</td>\n",
       "      <td>0.477564</td>\n",
       "      <td>ENCODED_SV</td>\n",
       "    </tr>\n",
       "    <tr>\n",
       "      <th>10</th>\n",
       "      <td>No cristaliza</td>\n",
       "      <td>f1-score</td>\n",
       "      <td>0.922319</td>\n",
       "      <td>ENCODED_SV</td>\n",
       "    </tr>\n",
       "    <tr>\n",
       "      <th>...</th>\n",
       "      <td>...</td>\n",
       "      <td>...</td>\n",
       "      <td>...</td>\n",
       "      <td>...</td>\n",
       "    </tr>\n",
       "    <tr>\n",
       "      <th>1</th>\n",
       "      <td>Cristaliza</td>\n",
       "      <td>precision</td>\n",
       "      <td>0.804878</td>\n",
       "      <td>NO_SV</td>\n",
       "    </tr>\n",
       "    <tr>\n",
       "      <th>5</th>\n",
       "      <td>No cristaliza</td>\n",
       "      <td>recall</td>\n",
       "      <td>0.975078</td>\n",
       "      <td>NO_SV</td>\n",
       "    </tr>\n",
       "    <tr>\n",
       "      <th>6</th>\n",
       "      <td>Cristaliza</td>\n",
       "      <td>recall</td>\n",
       "      <td>0.438538</td>\n",
       "      <td>NO_SV</td>\n",
       "    </tr>\n",
       "    <tr>\n",
       "      <th>10</th>\n",
       "      <td>No cristaliza</td>\n",
       "      <td>f1-score</td>\n",
       "      <td>0.925693</td>\n",
       "      <td>NO_SV</td>\n",
       "    </tr>\n",
       "    <tr>\n",
       "      <th>11</th>\n",
       "      <td>Cristaliza</td>\n",
       "      <td>f1-score</td>\n",
       "      <td>0.567742</td>\n",
       "      <td>NO_SV</td>\n",
       "    </tr>\n",
       "  </tbody>\n",
       "</table>\n",
       "<p>600 rows × 4 columns</p>\n",
       "</div>"
      ],
      "text/plain": [
       "            Clase    Métrica     Score        Tipo\n",
       "0   No cristaliza  precision  0.881884  ENCODED_SV\n",
       "1      Cristaliza  precision  0.780105  ENCODED_SV\n",
       "5   No cristaliza     recall  0.966640  ENCODED_SV\n",
       "6      Cristaliza     recall  0.477564  ENCODED_SV\n",
       "10  No cristaliza   f1-score  0.922319  ENCODED_SV\n",
       "..            ...        ...       ...         ...\n",
       "1      Cristaliza  precision  0.804878       NO_SV\n",
       "5   No cristaliza     recall  0.975078       NO_SV\n",
       "6      Cristaliza     recall  0.438538       NO_SV\n",
       "10  No cristaliza   f1-score  0.925693       NO_SV\n",
       "11     Cristaliza   f1-score  0.567742       NO_SV\n",
       "\n",
       "[600 rows x 4 columns]"
      ]
     },
     "execution_count": 112,
     "metadata": {},
     "output_type": "execute_result"
    }
   ],
   "source": [
    "df_box_exp_1"
   ]
  },
  {
   "cell_type": "code",
   "execution_count": 56,
   "metadata": {},
   "outputs": [],
   "source": [
    "df_exp_2[\"Exp\"] = np.where(df_exp_2['Tipo'].str.contains(\"MONO\"), \"MONO_SV\", \"MULTI_SV\")\n",
    "\n",
    "def func(row):\n",
    "    sv = \"DMSO\"\n",
    "    if sv in row['Tipo']:\n",
    "        return sv\n",
    "    elif \"DMF\" in row['Tipo']:\n",
    "        return 'DMF' \n",
    "    else:\n",
    "        return 'GBL'\n",
    "\n",
    "df_exp_2['Solvente'] = df_exp_2.apply(func, axis=1)"
   ]
  },
  {
   "cell_type": "code",
   "execution_count": 76,
   "metadata": {},
   "outputs": [
    {
     "data": {
      "image/png": "[encoded data removed]",
      "text/plain": [
       "<Figure size 690x300 with 2 Axes>"
      ]
     },
     "metadata": {},
     "output_type": "display_data"
    }
   ],
   "source": [
    "df_box_exp_2 = filter_metrics(df_exp_2)\n",
    "df_box_exp_2 = df_box_exp_2[df_box_exp_2[\"Solvente\"]!='DMSO']\n",
    "exp_2_boxplot(df_box_exp_2[df_box_exp_2[\"Clase\"] == \"weighted avg\"], \n",
    "              shared_y=True,\n",
    "              plot_name=\"exp_2_by_sv_gbc_wei.pdf\")"
   ]
  },
  {
   "cell_type": "code",
   "execution_count": 77,
   "metadata": {},
   "outputs": [
    {
     "data": {
      "image/png": "[encoded data removed]",
      "text/plain": [
       "<Figure size 450x600 with 2 Axes>"
      ]
     },
     "metadata": {},
     "output_type": "display_data"
    }
   ],
   "source": [
    "df_box_exp_2 = filter_metrics_classes(df_exp_2)\n",
    "\n",
    "df_box_exp_2 = df_box_exp_2[df_box_exp_2[\"Solvente\"]=='GBL']\n",
    "\n",
    "exp_2_boxplot_classes(df_box_exp_2, plot_name=\"exp_2_by_classes_gbc_wei.pdf\")"
   ]
  },
  {
   "cell_type": "code",
   "execution_count": 330,
   "metadata": {},
   "outputs": [],
   "source": [
    "df_box_exp_2 = df_exp_2[(df_exp_2[\"Métrica\"] == \"matthew\") & (df_exp_2[\"Clase\"] == \"weighted avg\")]\n",
    "df_box_exp_2 = df_box_exp_2[df_box_exp_2[\"Solvente\"]!='DMSO']"
   ]
  },
  {
   "cell_type": "code",
   "execution_count": 331,
   "metadata": {},
   "outputs": [],
   "source": [
    "df_box_exp_2 = df_box_exp_2[df_box_exp_2[\"Score\"]!=0]"
   ]
  },
  {
   "cell_type": "code",
   "execution_count": 332,
   "metadata": {},
   "outputs": [
    {
     "data": {
      "image/png": "[encoded data removed]",
      "text/plain": [
       "<Figure size 690x300 with 2 Axes>"
      ]
     },
     "metadata": {},
     "output_type": "display_data"
    }
   ],
   "source": [
    "exp_2_boxplot(df_box_exp_2, \n",
    "              shared_y=False, \n",
    "              plot_name=\"exp_2_by_sv_gbc_matt.pdf\")"
   ]
  },
  {
   "cell_type": "code",
   "execution_count": null,
   "metadata": {},
   "outputs": [],
   "source": []
  },
  {
   "cell_type": "code",
   "execution_count": null,
   "metadata": {},
   "outputs": [],
   "source": []
  },
  {
   "cell_type": "code",
   "execution_count": null,
   "metadata": {},
   "outputs": [],
   "source": []
  },
  {
   "cell_type": "code",
   "execution_count": null,
   "metadata": {},
   "outputs": [],
   "source": []
  },
  {
   "cell_type": "code",
   "execution_count": null,
   "metadata": {},
   "outputs": [],
   "source": []
  },
  {
   "cell_type": "code",
   "execution_count": 106,
   "metadata": {},
   "outputs": [],
   "source": [
    "encoded_solvent_report = prepare_report_by_class(files_solvent_exp)\n",
    "drop_solvent_report = prepare_report_by_class(files_drop_col_exp)"
   ]
  },
  {
   "cell_type": "code",
   "execution_count": 138,
   "metadata": {},
   "outputs": [
    {
     "data": {
      "image/png": "[encoded data removed]",
      "text/plain": [
       "<Figure size 518.4x216 with 2 Axes>"
      ]
     },
     "metadata": {
      "needs_background": "light"
     },
     "output_type": "display_data"
    }
   ],
   "source": [
    "plot_biboxplot(encoded_solvent_report)"
   ]
  },
  {
   "cell_type": "code",
   "execution_count": 139,
   "metadata": {},
   "outputs": [
    {
     "data": {
      "image/png": "[encoded data removed]",
      "text/plain": [
       "<Figure size 518.4x216 with 2 Axes>"
      ]
     },
     "metadata": {
      "needs_background": "light"
     },
     "output_type": "display_data"
    }
   ],
   "source": [
    "plot_biboxplot_2(drop_solvent_report)"
   ]
  },
  {
   "cell_type": "code",
   "execution_count": null,
   "metadata": {},
   "outputs": [],
   "source": []
  }
 ],
 "metadata": {
  "kernelspec": {
   "display_name": "thesis-repo",
   "language": "python",
   "name": "thesis-repo"
  },
  "language_info": {
   "codemirror_mode": {
    "name": "ipython",
    "version": 3
   },
   "file_extension": ".py",
   "mimetype": "text/x-python",
   "name": "python",
   "nbconvert_exporter": "python",
   "pygments_lexer": "ipython3",
   "version": "3.7.4"
  }
 },
 "nbformat": 4,
 "nbformat_minor": 5
}
