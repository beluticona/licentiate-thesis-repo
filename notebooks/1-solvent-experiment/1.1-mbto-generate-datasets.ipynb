{
 "cells": [
  {
   "cell_type": "markdown",
   "id": "083e7e42",
   "metadata": {},
   "source": [
    "# Solvent Small Experiment"
   ]
  },
  {
   "cell_type": "markdown",
   "id": "0fa813db",
   "metadata": {},
   "source": [
    "Question: Could be use data from minotiry solvents? Does it add value/relevant information?\n",
    "\n",
    "Descriptions:\n",
    "- 3 solvent availables, one majority and two minorities\n",
    "- sample from majority and minorities: 3 samples\n",
    "- train in majority\n",
    "- evaluate in 3 samples and compare results, is there any particular improvement in majority?"
   ]
  },
  {
   "cell_type": "code",
   "execution_count": 1,
   "id": "f2215afb",
   "metadata": {},
   "outputs": [],
   "source": [
    "import numpy as np\n",
    "import pandas as pd\n",
    "import matplotlib.pyplot as plt\n",
    "import seaborn as sns\n",
    "import itertools\n",
    "from src.config import chemical_inventory_path, raw_data_path\n",
    "from src.data import notebook_utils as utils\n",
    "from src.constants import GBL_INCHI_KEY, DMSO_INCHI_KEY, DMF_INCHI_KEY, \\\n",
    "                        INCHI_TO_CHEMNAME, TARGET_COL, RXN_FEAT_NAME, ORGANOAMONIUM_INCHI_KEY_COL\n",
    "from src import plot_utils"
   ]
  },
  {
   "cell_type": "code",
   "execution_count": 2,
   "id": "29cef52b",
   "metadata": {},
   "outputs": [],
   "source": [
    "import matplotlib.pyplot as plt\n",
    "import matplotlib.ticker as mtick\n",
    "plt.style.reload_library()\n",
    "import matplotlib.patches as mpatches"
   ]
  },
  {
   "cell_type": "markdown",
   "id": "909b7fdb",
   "metadata": {
    "tags": []
   },
   "source": [
    "## Generate datasets"
   ]
  },
  {
   "cell_type": "code",
   "execution_count": 3,
   "id": "ba155e9d",
   "metadata": {},
   "outputs": [
    {
     "name": "stdout",
     "output_type": "stream",
     "text": [
      "/Users/mticona/Documents/tesis/licentiate-thesis-repo\n"
     ]
    }
   ],
   "source": [
    "%cd ../.."
   ]
  },
  {
   "cell_type": "code",
   "execution_count": 7,
   "id": "81db307f-487b-4f53-97a0-feb21d6b8d29",
   "metadata": {},
   "outputs": [
    {
     "name": "stderr",
     "output_type": "stream",
     "text": [
      "/Users/mticona/Documents/tesis/licentiate-thesis-repo/src/data/notebook_utils.py:137: SettingWithCopyWarning: \n",
      "A value is trying to be set on a copy of a slice from a DataFrame.\n",
      "Try using .loc[row_indexer,col_indexer] = value instead\n",
      "\n",
      "See the caveats in the documentation: https://pandas.pydata.org/pandas-docs/stable/user_guide/indexing.html#returning-a-view-versus-a-copy\n",
      "  df.loc[:,col] = (df[TARGET_COL] == 4).astype(int)\n"
     ]
    }
   ],
   "source": [
    "# read data with solvent\n",
    "df_full_with_solvent = utils.read_multisolvent_data()"
   ]
  },
  {
   "cell_type": "code",
   "execution_count": 8,
   "id": "08b73aba-3e9f-4798-8d3e-da0459572d9e",
   "metadata": {},
   "outputs": [],
   "source": [
    "# dummy solvent feature\n",
    "df_full_dummies = pd.get_dummies(df_full_with_solvent, columns = ['solvent'])\n",
    "\n",
    "df_full_dummies['solvent'] = df_full_with_solvent['solvent']\n",
    "\n",
    "df_full_dummies = df_full_dummies.drop_duplicates()\n",
    "\n",
    "#df_full_dummies = df_full_dummies[model_cols + ['_out_crystalscore', '_rxn_organic-inchikey',\n",
    "#       'solvent_Dimethyl sulfoxide', 'solvent_Dimethylformamide',\n",
    "#       'solvent_Gamma-Butyrolactone', 'solvent']]\n",
    "\n",
    "df_full_dummies.to_csv(\"data/all_solvent_cleaned_data.csv\", index=None)\n",
    "\n",
    "#df_full_dummies = pd.read_csv(\"data/all_solvent_cleaned_data_%s.csv\" % SEED)"
   ]
  },
  {
   "cell_type": "code",
   "execution_count": null,
   "id": "87461d05-7710-42d9-8836-5b7da5273992",
   "metadata": {},
   "outputs": [],
   "source": []
  }
 ],
 "metadata": {
  "interpreter": {
   "hash": "2dd68b6b88d78f72e555cd6564eaf72c9813991942e2722f811fa2c9051f75f2"
  },
  "kernelspec": {
   "display_name": "tesis-notebooks",
   "language": "python",
   "name": "tesis-notebooks"
  },
  "language_info": {
   "codemirror_mode": {
    "name": "ipython",
    "version": 3
   },
   "file_extension": ".py",
   "mimetype": "text/x-python",
   "name": "python",
   "nbconvert_exporter": "python",
   "pygments_lexer": "ipython3",
   "version": "3.9.7"
  }
 },
 "nbformat": 4,
 "nbformat_minor": 5
}
