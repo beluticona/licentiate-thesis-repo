{
 "cells": [
  {
   "cell_type": "code",
   "execution_count": 1,
   "source": [
    "import matplotlib.pyplot as plt\n",
    "from sklearn.decomposition import PCA\n",
    "from sklearn.cluster import DBSCAN\n",
    "from sklearn.manifold import TSNE\n",
    "from sklearn.cluster import KMeans\n",
    "import seaborn as sns; sns.set()\n",
    "from sklearn.preprocessing import StandardScaler\n",
    "import numpy as np\n",
    "import plotly.express as px\n",
    "import pandas as pd\n",
    "import src.data.notebook_utils as utils\n",
    "from rdkit import Chem\n",
    "from rdkit import DataStructs\n",
    "plt.rcParams['figure.figsize'] = [6, 6]"
   ],
   "outputs": [],
   "metadata": {}
  },
  {
   "cell_type": "code",
   "execution_count": 4,
   "source": [
    "%cd .."
   ],
   "outputs": [
    {
     "output_type": "stream",
     "name": "stdout",
     "text": [
      "/home/belu/VS Workplace/licentiate-thesis-repo\n"
     ]
    }
   ],
   "metadata": {}
  },
  {
   "cell_type": "code",
   "execution_count": 5,
   "source": [
    "# familiaridad de aminas\n",
    "# https://jcheminf.biomedcentral.com/articles/10.1186/s13321-018-0302-y"
   ],
   "outputs": [],
   "metadata": {}
  },
  {
   "cell_type": "code",
   "execution_count": 18,
   "source": [
    "data_path = 'data/preproccess/no_constant_training.csv'\n",
    "\n",
    "df = utils.read_data()\n",
    "\n",
    "df_selected_feat = pd.read_csv(data_path)"
   ],
   "outputs": [],
   "metadata": {}
  },
  {
   "cell_type": "code",
   "execution_count": 19,
   "source": [
    "len(df_selected_feat.columns)"
   ],
   "outputs": [
    {
     "output_type": "execute_result",
     "data": {
      "text/plain": [
       "44"
      ]
     },
     "metadata": {},
     "execution_count": 19
    }
   ],
   "metadata": {}
  },
  {
   "cell_type": "code",
   "execution_count": 20,
   "source": [
    "len(df.columns)"
   ],
   "outputs": [
    {
     "output_type": "execute_result",
     "data": {
      "text/plain": [
       "77"
      ]
     },
     "metadata": {},
     "execution_count": 20
    }
   ],
   "metadata": {}
  },
  {
   "cell_type": "code",
   "execution_count": 21,
   "source": [
    "continous_feat = ['_feat_molsurfaceareaVDWp', '_feat_maximalprojectionsize', '_feat_MinimalProjectionArea', '_feat_minimalprojectionsize', '_feat_MaximalProjectionArea', '_feat_MolPol', '_feat_ASA_P', '_feat_msareaVDWp', '_feat_ASA', '_feat_ASA-', '_feat_MinimalProjectionRadius', '_feat_molsurfaceareaASAp', '_feat_LengthPerpendicularToTheMinArea', '_feat_WienerIndex', '_feat_ASA+', '_feat_MaximalProjectionRadius', '_feat_VanderWaalsSurfaceArea', '_feat_LengthPerpendicularToTheMaxArea', '_feat_VanderWaalsVolume', '_feat_BalabanIndex', '_feat_ASA_H', '_feat_HyperWienerIndex', '_feat_msareaASAp', '_feat_Refractivity', '_feat_AvgPol']"
   ],
   "outputs": [],
   "metadata": {}
  },
  {
   "cell_type": "code",
   "execution_count": 22,
   "source": [
    "df_one_amine = pd.read_csv(\"data/preproccess/only_one_amine.csv\")\n",
    "df_one_amine = df_one_amine[df.columns]\n",
    "len(df_one_amine.columns)"
   ],
   "outputs": [
    {
     "output_type": "stream",
     "name": "stderr",
     "text": [
      "/home/belu/.local/share/virtualenvs/licentiate-thesis-repo-cz9ujhZI/lib/python3.6/site-packages/IPython/core/interactiveshell.py:3072: DtypeWarning:\n",
      "\n",
      "Columns (86,138,140,144,145,146,149,150,169,172,175,177,178,180,181,182,183,184,185,191,192,193,196,197,201,202,203,206,207,211,212,213,216,217,281,283,284,285,286,287,288,344,345,346,349,350,354,355,356,359,360,429,431,432,433,434,435,436,489,491,493,494,496,498,499,501,503,520,532,534,535,557,559,561,586,589,592,594,595,597,618,619,620,623,624,644,647,650,652,653,655,656,657,658,659,660,668,669,670,673,674,694,697,700,702,703,705,706,707,708,709,710,716) have mixed types.Specify dtype option on import or set low_memory=False.\n",
      "\n"
     ]
    },
    {
     "output_type": "execute_result",
     "data": {
      "text/plain": [
       "77"
      ]
     },
     "metadata": {},
     "execution_count": 22
    }
   ],
   "metadata": {}
  },
  {
   "cell_type": "code",
   "execution_count": 23,
   "source": [
    "df = pd.concat([df, df_one_amine], axis='index')\n"
   ],
   "outputs": [],
   "metadata": {}
  },
  {
   "cell_type": "code",
   "execution_count": 24,
   "source": [
    "amine_col = utils.get_columns(df_selected_feat.columns)['_feat_']\n",
    "amine_df = df[amine_col]\n",
    "amine_info = df[['_rxn_organic-inchikey']]\n",
    "amine_all = pd.concat([amine_df, amine_info], axis='columns')\n",
    "amine_df = amine_all.drop_duplicates()"
   ],
   "outputs": [],
   "metadata": {}
  },
  {
   "cell_type": "code",
   "execution_count": 25,
   "source": [
    "len(df)"
   ],
   "outputs": [
    {
     "output_type": "execute_result",
     "data": {
      "text/plain": [
       "5299"
      ]
     },
     "metadata": {},
     "execution_count": 25
    }
   ],
   "metadata": {}
  },
  {
   "cell_type": "code",
   "execution_count": 26,
   "source": [
    "len(amine_df)"
   ],
   "outputs": [
    {
     "output_type": "execute_result",
     "data": {
      "text/plain": [
       "28"
      ]
     },
     "metadata": {},
     "execution_count": 26
    }
   ],
   "metadata": {}
  },
  {
   "cell_type": "code",
   "execution_count": 27,
   "source": [
    "chemical_names = utils.read_chemical_info()\n",
    "chemical_names.head()"
   ],
   "outputs": [
    {
     "output_type": "execute_result",
     "data": {
      "text/html": [
       "<div>\n",
       "<style scoped>\n",
       "    .dataframe tbody tr th:only-of-type {\n",
       "        vertical-align: middle;\n",
       "    }\n",
       "\n",
       "    .dataframe tbody tr th {\n",
       "        vertical-align: top;\n",
       "    }\n",
       "\n",
       "    .dataframe thead th {\n",
       "        text-align: right;\n",
       "    }\n",
       "</style>\n",
       "<table border=\"1\" class=\"dataframe\">\n",
       "  <thead>\n",
       "    <tr style=\"text-align: right;\">\n",
       "      <th></th>\n",
       "      <th>Chemical Name</th>\n",
       "      <th>Chemical Abbreviation</th>\n",
       "      <th>Molecular Weight (g/mol)</th>\n",
       "      <th>Density            (g/mL)</th>\n",
       "      <th>InChI=</th>\n",
       "      <th>InChI Key (ID)</th>\n",
       "      <th>Chemical Category</th>\n",
       "      <th>Canonical SMILES String</th>\n",
       "      <th>Molecular Formula</th>\n",
       "      <th>PubChem ID</th>\n",
       "      <th>...</th>\n",
       "      <th>Unnamed: 24</th>\n",
       "      <th>Unnamed: 25</th>\n",
       "      <th>Unnamed: 26</th>\n",
       "      <th>Unnamed: 27</th>\n",
       "      <th>Unnamed: 28</th>\n",
       "      <th>Unnamed: 29</th>\n",
       "      <th>Unnamed: 30</th>\n",
       "      <th>Unnamed: 31</th>\n",
       "      <th>Unnamed: 32</th>\n",
       "      <th>Unnamed: 33</th>\n",
       "    </tr>\n",
       "  </thead>\n",
       "  <tbody>\n",
       "    <tr>\n",
       "      <th>0</th>\n",
       "      <td>NaN</td>\n",
       "      <td>NaN</td>\n",
       "      <td>NaN</td>\n",
       "      <td>NaN</td>\n",
       "      <td>NaN</td>\n",
       "      <td>NaN</td>\n",
       "      <td>NaN</td>\n",
       "      <td>NaN</td>\n",
       "      <td>NaN</td>\n",
       "      <td>NaN</td>\n",
       "      <td>...</td>\n",
       "      <td>NaN</td>\n",
       "      <td>NaN</td>\n",
       "      <td>NaN</td>\n",
       "      <td>NaN</td>\n",
       "      <td>NaN</td>\n",
       "      <td>NaN</td>\n",
       "      <td>NaN</td>\n",
       "      <td>NaN</td>\n",
       "      <td>NaN</td>\n",
       "      <td>NaN</td>\n",
       "    </tr>\n",
       "    <tr>\n",
       "      <th>1</th>\n",
       "      <td>Gamma-Butyrolactone</td>\n",
       "      <td>GBL</td>\n",
       "      <td>86.09</td>\n",
       "      <td>1.12</td>\n",
       "      <td>InChI=1S/C4H6O2/c5-4-2-1-3-6-4/h1-3H2</td>\n",
       "      <td>YEJRWHAVMIAJKC-UHFFFAOYSA-N</td>\n",
       "      <td>solvent</td>\n",
       "      <td>C1CC(=O)OC1</td>\n",
       "      <td>C4H6O2</td>\n",
       "      <td>NaN</td>\n",
       "      <td>...</td>\n",
       "      <td>NaN</td>\n",
       "      <td>NaN</td>\n",
       "      <td>NaN</td>\n",
       "      <td>NaN</td>\n",
       "      <td>NaN</td>\n",
       "      <td>NaN</td>\n",
       "      <td>NaN</td>\n",
       "      <td>NaN</td>\n",
       "      <td>NaN</td>\n",
       "      <td>NaN</td>\n",
       "    </tr>\n",
       "    <tr>\n",
       "      <th>2</th>\n",
       "      <td>Dimethyl sulfoxide</td>\n",
       "      <td>DMSO</td>\n",
       "      <td>78.13</td>\n",
       "      <td>1.10</td>\n",
       "      <td>InChI=1S/C2H6OS/c1-4(2)3/h1-2H3</td>\n",
       "      <td>IAZDPXIOMUYVGZ-UHFFFAOYSA-N</td>\n",
       "      <td>solvent</td>\n",
       "      <td>CS(=O)C</td>\n",
       "      <td>C2H6OS</td>\n",
       "      <td>NaN</td>\n",
       "      <td>...</td>\n",
       "      <td>NaN</td>\n",
       "      <td>NaN</td>\n",
       "      <td>NaN</td>\n",
       "      <td>NaN</td>\n",
       "      <td>NaN</td>\n",
       "      <td>NaN</td>\n",
       "      <td>NaN</td>\n",
       "      <td>NaN</td>\n",
       "      <td>NaN</td>\n",
       "      <td>NaN</td>\n",
       "    </tr>\n",
       "    <tr>\n",
       "      <th>3</th>\n",
       "      <td>Formic Acid</td>\n",
       "      <td>FAH</td>\n",
       "      <td>46.03</td>\n",
       "      <td>1.22</td>\n",
       "      <td>InChI=1S/CH2O2/c2-1-3/h1H,(H,2,3)</td>\n",
       "      <td>BDAGIHXWWSANSR-UHFFFAOYSA-N</td>\n",
       "      <td>acid</td>\n",
       "      <td>C(=O)O</td>\n",
       "      <td>CH2O2</td>\n",
       "      <td>NaN</td>\n",
       "      <td>...</td>\n",
       "      <td>NaN</td>\n",
       "      <td>NaN</td>\n",
       "      <td>NaN</td>\n",
       "      <td>NaN</td>\n",
       "      <td>NaN</td>\n",
       "      <td>NaN</td>\n",
       "      <td>NaN</td>\n",
       "      <td>NaN</td>\n",
       "      <td>NaN</td>\n",
       "      <td>NaN</td>\n",
       "    </tr>\n",
       "    <tr>\n",
       "      <th>4</th>\n",
       "      <td>Lead Diiodide</td>\n",
       "      <td>PbI2</td>\n",
       "      <td>461.01</td>\n",
       "      <td>6.16</td>\n",
       "      <td>InChI=1S/2HI.Pb/h2*1H;/q;;+2/p-2</td>\n",
       "      <td>RQQRAHKHDFPBMC-UHFFFAOYSA-L</td>\n",
       "      <td>inorganic</td>\n",
       "      <td>I[Pb]I</td>\n",
       "      <td>PbI2</td>\n",
       "      <td>NaN</td>\n",
       "      <td>...</td>\n",
       "      <td>NaN</td>\n",
       "      <td>NaN</td>\n",
       "      <td>NaN</td>\n",
       "      <td>NaN</td>\n",
       "      <td>NaN</td>\n",
       "      <td>NaN</td>\n",
       "      <td>NaN</td>\n",
       "      <td>NaN</td>\n",
       "      <td>NaN</td>\n",
       "      <td>NaN</td>\n",
       "    </tr>\n",
       "  </tbody>\n",
       "</table>\n",
       "<p>5 rows × 34 columns</p>\n",
       "</div>"
      ],
      "text/plain": [
       "         Chemical Name Chemical Abbreviation Molecular Weight (g/mol)  \\\n",
       "0                  NaN                   NaN                      NaN   \n",
       "1  Gamma-Butyrolactone                   GBL                    86.09   \n",
       "2   Dimethyl sulfoxide                  DMSO                    78.13   \n",
       "3          Formic Acid                   FAH                    46.03   \n",
       "4        Lead Diiodide                  PbI2                   461.01   \n",
       "\n",
       "   Density            (g/mL)                                 InChI=  \\\n",
       "0                        NaN                                    NaN   \n",
       "1                       1.12  InChI=1S/C4H6O2/c5-4-2-1-3-6-4/h1-3H2   \n",
       "2                       1.10        InChI=1S/C2H6OS/c1-4(2)3/h1-2H3   \n",
       "3                       1.22      InChI=1S/CH2O2/c2-1-3/h1H,(H,2,3)   \n",
       "4                       6.16       InChI=1S/2HI.Pb/h2*1H;/q;;+2/p-2   \n",
       "\n",
       "                InChI Key (ID) Chemical Category Canonical SMILES String  \\\n",
       "0                          NaN               NaN                     NaN   \n",
       "1  YEJRWHAVMIAJKC-UHFFFAOYSA-N           solvent             C1CC(=O)OC1   \n",
       "2  IAZDPXIOMUYVGZ-UHFFFAOYSA-N           solvent                 CS(=O)C   \n",
       "3  BDAGIHXWWSANSR-UHFFFAOYSA-N              acid                  C(=O)O   \n",
       "4  RQQRAHKHDFPBMC-UHFFFAOYSA-L         inorganic                  I[Pb]I   \n",
       "\n",
       "  Molecular Formula PubChem ID  ... Unnamed: 24 Unnamed: 25 Unnamed: 26  \\\n",
       "0               NaN        NaN  ...         NaN         NaN         NaN   \n",
       "1            C4H6O2        NaN  ...         NaN         NaN         NaN   \n",
       "2            C2H6OS        NaN  ...         NaN         NaN         NaN   \n",
       "3             CH2O2        NaN  ...         NaN         NaN         NaN   \n",
       "4              PbI2        NaN  ...         NaN         NaN         NaN   \n",
       "\n",
       "  Unnamed: 27 Unnamed: 28 Unnamed: 29 Unnamed: 30  Unnamed: 31  Unnamed: 32  \\\n",
       "0         NaN         NaN         NaN         NaN          NaN          NaN   \n",
       "1         NaN         NaN         NaN         NaN          NaN          NaN   \n",
       "2         NaN         NaN         NaN         NaN          NaN          NaN   \n",
       "3         NaN         NaN         NaN         NaN          NaN          NaN   \n",
       "4         NaN         NaN         NaN         NaN          NaN          NaN   \n",
       "\n",
       "   Unnamed: 33  \n",
       "0          NaN  \n",
       "1          NaN  \n",
       "2          NaN  \n",
       "3          NaN  \n",
       "4          NaN  \n",
       "\n",
       "[5 rows x 34 columns]"
      ]
     },
     "metadata": {},
     "execution_count": 27
    }
   ],
   "metadata": {}
  },
  {
   "cell_type": "code",
   "execution_count": 28,
   "source": [
    "chemical_names.columns"
   ],
   "outputs": [
    {
     "output_type": "execute_result",
     "data": {
      "text/plain": [
       "Index(['Chemical Name', 'Chemical Abbreviation', 'Molecular Weight (g/mol)',\n",
       "       'Density            (g/mL)', 'InChI=', 'InChI Key (ID)',\n",
       "       'Chemical Category', 'Canonical SMILES String', 'Molecular Formula',\n",
       "       'PubChem ID', 'ECL Chemical id', 'ECL Product id',\n",
       "       'Catalog description', 'Synonyms', 'Catalog number',\n",
       "       'Sigma-Aldrich URL', 'Primary Information Source', 'Unnamed: 17',\n",
       "       'Unnamed: 18', 'Unnamed: 19', 'Unnamed: 20', 'Unnamed: 21',\n",
       "       'Unnamed: 22', 'Unnamed: 23', 'Unnamed: 24', 'Unnamed: 25',\n",
       "       'Unnamed: 26', 'Unnamed: 27', 'Unnamed: 28', 'Unnamed: 29',\n",
       "       'Unnamed: 30', 'Unnamed: 31', 'Unnamed: 32', 'Unnamed: 33'],\n",
       "      dtype='object')"
      ]
     },
     "metadata": {},
     "execution_count": 28
    }
   ],
   "metadata": {}
  },
  {
   "cell_type": "code",
   "execution_count": 29,
   "source": [
    "amine_cols_info = ['Chemical Abbreviation', 'InChI=', 'InChI Key (ID)', 'Canonical SMILES String']\n",
    "chemical_names = chemical_names[amine_cols_info].dropna()"
   ],
   "outputs": [],
   "metadata": {}
  },
  {
   "cell_type": "code",
   "execution_count": 30,
   "source": [
    "df_amine_with_names = amine_df.join(chemical_names.set_index('InChI Key (ID)'), on= '_rxn_organic-inchikey', how='inner')\n"
   ],
   "outputs": [],
   "metadata": {}
  },
  {
   "cell_type": "code",
   "execution_count": 31,
   "source": [
    "df_amine_with_names.columns[67:]"
   ],
   "outputs": [
    {
     "output_type": "execute_result",
     "data": {
      "text/plain": [
       "Index([], dtype='object')"
      ]
     },
     "metadata": {},
     "execution_count": 31
    }
   ],
   "metadata": {}
  },
  {
   "cell_type": "code",
   "execution_count": 32,
   "source": [
    "amine_df = df_amine_with_names.drop(['Chemical Abbreviation', 'InChI=', '_rxn_organic-inchikey', 'Canonical SMILES String'], axis='columns')"
   ],
   "outputs": [],
   "metadata": {}
  },
  {
   "cell_type": "code",
   "execution_count": 33,
   "source": [
    "#amine_df['index'] = abb_amines_names\n",
    "#amine_df.set_index('index').to_csv('amines_fcp.csv')"
   ],
   "outputs": [],
   "metadata": {}
  },
  {
   "cell_type": "code",
   "execution_count": 34,
   "source": [
    "amine_df = amine_df[continous_feat] "
   ],
   "outputs": [],
   "metadata": {}
  },
  {
   "cell_type": "code",
   "execution_count": 35,
   "source": [
    "X = StandardScaler().fit_transform(amine_df)"
   ],
   "outputs": [],
   "metadata": {}
  },
  {
   "cell_type": "code",
   "execution_count": 21,
   "source": [
    "def explore_dbscan(X, range_distance):\n",
    "    clusters_size = np.zeros(range_distance.shape[0])\n",
    "    for num, distance in enumerate(range_distance):\n",
    "        db = DBSCAN(eps=distance, min_samples=1).fit(X)\n",
    "        clusters_size[num] = len(set(db.labels_))\n",
    "    return pd.DataFrame({'distance': range_distance, 'cluster size': clusters_size})\n"
   ],
   "outputs": [],
   "metadata": {}
  },
  {
   "cell_type": "code",
   "execution_count": 22,
   "source": [
    "def plot_scatter(x_column, y_column, x_label, y_label):\n",
    "    ax = sns.scatterplot(x=x_column, y=y_column)\n",
    "    ax.set(xlabel=x_label, ylabel=y_label)\n",
    "    plt.show()"
   ],
   "outputs": [],
   "metadata": {}
  },
  {
   "cell_type": "code",
   "execution_count": 23,
   "source": [
    "explore_dbscan_1_to_11 = explore_dbscan(X, np.arange(1,16,0.5))"
   ],
   "outputs": [],
   "metadata": {}
  },
  {
   "cell_type": "code",
   "execution_count": 24,
   "source": [
    "plot_scatter(explore_dbscan_1_to_11['distance'], explore_dbscan_1_to_11['cluster size'], 'Distancia', 'Cantidad de Cluster')"
   ],
   "outputs": [
    {
     "output_type": "display_data",
     "data": {
      "image/png": "[encoded data removed]",
      "text/plain": [
       "<Figure size 432x432 with 1 Axes>"
      ]
     },
     "metadata": {}
    }
   ],
   "metadata": {}
  },
  {
   "cell_type": "code",
   "execution_count": 26,
   "source": [
    "def dbsc_label(X, distance):\n",
    "    db = DBSCAN(eps=distance, min_samples=1).fit(X)\n",
    "    return db.labels_"
   ],
   "outputs": [],
   "metadata": {}
  },
  {
   "cell_type": "code",
   "execution_count": 41,
   "source": [
    "cluster = dbsc_label(X, 3)\n",
    "cluster"
   ],
   "outputs": [
    {
     "output_type": "execute_result",
     "data": {
      "text/plain": [
       "array([0, 0, 1, 2, 0, 0, 0, 0, 0, 0, 0, 0, 0, 0, 0, 3, 0, 0, 0, 4, 0, 0,\n",
       "       0, 5, 1, 0, 1])"
      ]
     },
     "metadata": {},
     "execution_count": 41
    }
   ],
   "metadata": {}
  },
  {
   "cell_type": "code",
   "execution_count": 42,
   "source": [
    "df_amine_with_names['cluster'] = cluster"
   ],
   "outputs": [],
   "metadata": {}
  },
  {
   "cell_type": "code",
   "execution_count": 43,
   "source": [
    "df_amine_with_names.query('cluster == 0')['Chemical Abbreviation']\n"
   ],
   "outputs": [
    {
     "output_type": "execute_result",
     "data": {
      "text/plain": [
       "0                     IPentylammoniumIodide\n",
       "1                                  n-BuNH3I\n",
       "4                     iPropylammoniumIodide\n",
       "5                     Diethylammoniumiodide\n",
       "6                 Diisopropylammoniumiodide\n",
       "7                      nHexylammoniumIodide\n",
       "8                      iButylammoniumIodide\n",
       "9              4MethoxyPhenylammoniumIodide\n",
       "10                  neoPentylammoniumIodide\n",
       "11                    NPropylammoniumIodide\n",
       "14           CyclohexylmethylammoniumIodide\n",
       "15                     tButylammoniumIodide\n",
       "18                     BenzylammoniumIodide\n",
       "22           4FluoroPhenethylammoniumIodide\n",
       "33              4FluoroPhenylammoniumIodide\n",
       "36                     PhenylammoniumIodide\n",
       "53     4TrifluoromethylBenzylammoniumIodide\n",
       "60     4TrifluoromethylPhenylammoniumIodide\n",
       "70                  TertOctylammoniumIodide\n",
       "187                                PhEtNH3I\n",
       "Name: Chemical Abbreviation, dtype: object"
      ]
     },
     "metadata": {},
     "execution_count": 43
    }
   ],
   "metadata": {}
  },
  {
   "cell_type": "code",
   "execution_count": 23,
   "source": [
    "df_amine_with_names.query('cluster == 2')['Chemical Abbreviation']"
   ],
   "outputs": [
    {
     "output_type": "execute_result",
     "data": {
      "text/plain": [
       "3           4methoxyphenethylammoniumiodide\n",
       "9              4MethoxyPhenylammoniumIodide\n",
       "18                     BenzylammoniumIodide\n",
       "22           4FluoroPhenethylammoniumIodide\n",
       "33              4FluoroPhenylammoniumIodide\n",
       "36                     PhenylammoniumIodide\n",
       "53     4TrifluoromethylBenzylammoniumIodide\n",
       "60     4TrifluoromethylPhenylammoniumIodide\n",
       "187                                PhEtNH3I\n",
       "Name: Chemical Abbreviation, dtype: object"
      ]
     },
     "metadata": {},
     "execution_count": 23
    }
   ],
   "metadata": {}
  },
  {
   "cell_type": "code",
   "execution_count": 24,
   "source": [
    "df_amine_with_names.query('cluster == 5')['Chemical Abbreviation']\n"
   ],
   "outputs": [
    {
     "output_type": "execute_result",
     "data": {
      "text/plain": [
       "78    nDodecylammoniumIodide\n",
       "Name: Chemical Abbreviation, dtype: object"
      ]
     },
     "metadata": {},
     "execution_count": 24
    }
   ],
   "metadata": {}
  },
  {
   "cell_type": "code",
   "execution_count": 25,
   "source": [
    "df_amine_with_names.query('cluster == 3')['Chemical Abbreviation']\n"
   ],
   "outputs": [
    {
     "output_type": "execute_result",
     "data": {
      "text/plain": [
       "14    CyclohexylmethylammoniumIodide\n",
       "Name: Chemical Abbreviation, dtype: object"
      ]
     },
     "metadata": {},
     "execution_count": 25
    }
   ],
   "metadata": {}
  },
  {
   "cell_type": "code",
   "execution_count": 26,
   "source": [
    "df_amine_with_names.query('cluster == 1 or cluster >= 3')['Chemical Abbreviation']\n"
   ],
   "outputs": [
    {
     "output_type": "execute_result",
     "data": {
      "text/plain": [
       "2                                   GnNH3I\n",
       "14          CyclohexylmethylammoniumIodide\n",
       "46      NNDiethylpropane13diammoniumiodide\n",
       "78                  nDodecylammoniumIodide\n",
       "109                    FormamidiniumIodide\n",
       "1811                     ImidazoliumIodide\n",
       "Name: Chemical Abbreviation, dtype: object"
      ]
     },
     "metadata": {},
     "execution_count": 26
    }
   ],
   "metadata": {}
  },
  {
   "cell_type": "code",
   "execution_count": 27,
   "source": [
    "chemical_names = utils.read_chemical_info()"
   ],
   "outputs": [],
   "metadata": {}
  },
  {
   "cell_type": "code",
   "execution_count": 28,
   "source": [
    "cluster"
   ],
   "outputs": [
    {
     "output_type": "execute_result",
     "data": {
      "text/plain": [
       "array([0, 0, 1, 2, 0, 0, 0, 0, 0, 2, 0, 0, 3, 0, 2, 0, 2, 2, 2, 4, 2, 2,\n",
       "       0, 5, 6, 2, 7])"
      ]
     },
     "metadata": {},
     "execution_count": 28
    }
   ],
   "metadata": {}
  },
  {
   "cell_type": "markdown",
   "source": [
    "## Clusterization by Amines structural similarities"
   ],
   "metadata": {}
  },
  {
   "cell_type": "code",
   "execution_count": 45,
   "source": [
    "smile_col = 'Canonical SMILES String'\n",
    "amines_smiles = df_amine_with_names[smile_col]"
   ],
   "outputs": [],
   "metadata": {}
  },
  {
   "cell_type": "code",
   "execution_count": 46,
   "source": [
    "abb_amines_names = df_amine_with_names['Chemical Abbreviation'].str.replace('ammoniumIodide', '')\n",
    "abb_amines_names = abb_amines_names.str.replace('ammoniumiodide', '').to_list()"
   ],
   "outputs": [],
   "metadata": {}
  },
  {
   "cell_type": "code",
   "execution_count": 47,
   "source": [
    "\n",
    "def calculate_amine_fingerprint_distance(amines_smiles, amines_names, structure_metric):\n",
    "    \"\"\"\n",
    "        Heatmap for amine similarity by structure distance method.\n",
    "        amines_smiles: vector of amines by SMILE code.\n",
    "        structure_metric: {'Tanimoto', 'Dice', 'BulkTanimoto'}\n",
    "        TODO: Add more DataStructs Similarity Metric.\n",
    "    \"\"\"\n",
    "    metrics={\n",
    "        'Tanimoto': DataStructs.TanimotoSimilarity,\n",
    "        'Dice': DataStructs.DiceSimilarity,\n",
    "        'BulkTanimoto': DataStructs.BulkTanimotoSimilarity\n",
    "    }\n",
    "    \n",
    "    amines_molecules = [Chem.MolFromSmiles(smile) for smile in amines_smiles]\n",
    "    amines_fingerprints = [Chem.RDKFingerprint(x) for x in amines_molecules]\n",
    "    size = len(amines_names)\n",
    "    similarity_array = np.zeros((size,size))\n",
    "\n",
    "    for index1, mole1 in enumerate(amines_fingerprints):\n",
    "        for index2, mole2 in enumerate(amines_fingerprints):\n",
    "            similarity_array[index1,index2] = DataStructs.FingerprintSimilarity(mole1,mole2, metrics[structure_metric])\n",
    "    \n",
    "    return similarity_array"
   ],
   "outputs": [],
   "metadata": {}
  },
  {
   "cell_type": "code",
   "execution_count": 49,
   "source": [
    "#pd.DataFrame(similarity_tanimoto, abb_amines_names).to_csv('similarity_tanimoto.csv')"
   ],
   "outputs": [],
   "metadata": {}
  },
  {
   "cell_type": "code",
   "execution_count": 53,
   "source": [
    "similarity_tanimoto = calculate_amine_fingerprint_distance(amines_smiles, abb_amines_names, 'Tanimoto')\n",
    "plot_heatmap_plotly(similarity_tanimoto, abb_amines_names, 'Similaridad Estructural de Aminas', 'centroid', 'Coff Tanimoto')\n"
   ],
   "outputs": [
    {
     "output_type": "display_data",
     "data": {
      "application/vnd.plotly.v1+json": {
       "config": {
        "linkText": "Export to plot.ly",
        "plotlyServerURL": "https://plot.ly",
        "showLink": false
       },
       "data": [
        {
         "hoverinfo": "text",
         "marker": {
          "color": "rgb(61,153,112)"
         },
         "mode": "lines",
         "type": "scatter",
         "x": [
          25,
          25,
          35,
          35
         ],
         "xaxis": "x",
         "y": [
          0,
          0.38780956796418764,
          0.38780956796418764,
          0
         ],
         "yaxis": "y2"
        },
        {
         "hoverinfo": "text",
         "marker": {
          "color": "rgb(61,153,112)"
         },
         "mode": "lines",
         "type": "scatter",
         "x": [
          15,
          15,
          30,
          30
         ],
         "xaxis": "x",
         "y": [
          0,
          0.984739786387532,
          0.984739786387532,
          0.38780956796418764
         ],
         "yaxis": "y2"
        },
        {
         "hoverinfo": "text",
         "marker": {
          "color": "rgb(255,65,54)"
         },
         "mode": "lines",
         "type": "scatter",
         "x": [
          45,
          45,
          55,
          55
         ],
         "xaxis": "x",
         "y": [
          0,
          0.5466289191743684,
          0.5466289191743684,
          0
         ],
         "yaxis": "y2"
        },
        {
         "hoverinfo": "text",
         "marker": {
          "color": "rgb(255,65,54)"
         },
         "mode": "lines",
         "type": "scatter",
         "x": [
          75,
          75,
          85,
          85
         ],
         "xaxis": "x",
         "y": [
          0,
          0.41466681273855827,
          0.41466681273855827,
          0
         ],
         "yaxis": "y2"
        },
        {
         "hoverinfo": "text",
         "marker": {
          "color": "rgb(255,65,54)"
         },
         "mode": "lines",
         "type": "scatter",
         "x": [
          65,
          65,
          80,
          80
         ],
         "xaxis": "x",
         "y": [
          0,
          0.6385842025783323,
          0.6385842025783323,
          0.41466681273855827
         ],
         "yaxis": "y2"
        },
        {
         "hoverinfo": "text",
         "marker": {
          "color": "rgb(255,65,54)"
         },
         "mode": "lines",
         "type": "scatter",
         "x": [
          50,
          50,
          72.5,
          72.5
         ],
         "xaxis": "x",
         "y": [
          0.5466289191743684,
          0.6976133598569921,
          0.6976133598569921,
          0.6385842025783323
         ],
         "yaxis": "y2"
        },
        {
         "hoverinfo": "text",
         "marker": {
          "color": "rgb(255,65,54)"
         },
         "mode": "lines",
         "type": "scatter",
         "x": [
          95,
          95,
          105,
          105
         ],
         "xaxis": "x",
         "y": [
          0,
          0.48966041247567665,
          0.48966041247567665,
          0
         ],
         "yaxis": "y2"
        },
        {
         "hoverinfo": "text",
         "marker": {
          "color": "rgb(255,65,54)"
         },
         "mode": "lines",
         "type": "scatter",
         "x": [
          61.25,
          61.25,
          100,
          100
         ],
         "xaxis": "x",
         "y": [
          0.6976133598569921,
          0.7722362801574217,
          0.7722362801574217,
          0.48966041247567665
         ],
         "yaxis": "y2"
        },
        {
         "hoverinfo": "text",
         "marker": {
          "color": "rgb(0,116,217)"
         },
         "mode": "lines",
         "type": "scatter",
         "x": [
          22.5,
          22.5,
          80.625,
          80.625
         ],
         "xaxis": "x",
         "y": [
          0.984739786387532,
          1.0483680906778832,
          1.0483680906778832,
          0.7722362801574217
         ],
         "yaxis": "y2"
        },
        {
         "hoverinfo": "text",
         "marker": {
          "color": "rgb(255,65,54)"
         },
         "mode": "lines",
         "type": "scatter",
         "x": [
          115,
          115,
          125,
          125
         ],
         "xaxis": "x",
         "y": [
          0,
          0.6162389582803675,
          0.6162389582803675,
          0
         ],
         "yaxis": "y2"
        },
        {
         "hoverinfo": "text",
         "marker": {
          "color": "rgb(255,65,54)"
         },
         "mode": "lines",
         "type": "scatter",
         "x": [
          51.5625,
          51.5625,
          120,
          120
         ],
         "xaxis": "x",
         "y": [
          1.0483680906778832,
          1.0387830810801184,
          1.0387830810801184,
          0.6162389582803675
         ],
         "yaxis": "y2"
        },
        {
         "hoverinfo": "text",
         "marker": {
          "color": "rgb(0,116,217)"
         },
         "mode": "lines",
         "type": "scatter",
         "x": [
          5,
          5,
          85.78125,
          85.78125
         ],
         "xaxis": "x",
         "y": [
          0,
          1.1222231049951805,
          1.1222231049951805,
          1.0387830810801184
         ],
         "yaxis": "y2"
        },
        {
         "hoverinfo": "text",
         "marker": {
          "color": "rgb(0,116,217)"
         },
         "mode": "lines",
         "type": "scatter",
         "x": [
          45.390625,
          45.390625,
          135,
          135
         ],
         "xaxis": "x",
         "y": [
          1.1222231049951805,
          1.1623349644646408,
          1.1623349644646408,
          0
         ],
         "yaxis": "y2"
        },
        {
         "hoverinfo": "text",
         "marker": {
          "color": "rgb(35,205,205)"
         },
         "mode": "lines",
         "type": "scatter",
         "x": [
          155,
          155,
          165,
          165
         ],
         "xaxis": "x",
         "y": [
          0,
          0.5853479416966549,
          0.5853479416966549,
          0
         ],
         "yaxis": "y2"
        },
        {
         "hoverinfo": "text",
         "marker": {
          "color": "rgb(0,116,217)"
         },
         "mode": "lines",
         "type": "scatter",
         "x": [
          145,
          145,
          160,
          160
         ],
         "xaxis": "x",
         "y": [
          0,
          1.0729775945157214,
          1.0729775945157214,
          0.5853479416966549
         ],
         "yaxis": "y2"
        },
        {
         "hoverinfo": "text",
         "marker": {
          "color": "rgb(0,116,217)"
         },
         "mode": "lines",
         "type": "scatter",
         "x": [
          152.5,
          152.5,
          175,
          175
         ],
         "xaxis": "x",
         "y": [
          1.0729775945157214,
          1.1809234808670612,
          1.1809234808670612,
          0
         ],
         "yaxis": "y2"
        },
        {
         "hoverinfo": "text",
         "marker": {
          "color": "rgb(133,20,75)"
         },
         "mode": "lines",
         "type": "scatter",
         "x": [
          185,
          185,
          195,
          195
         ],
         "xaxis": "x",
         "y": [
          0,
          0.7323664942085689,
          0.7323664942085689,
          0
         ],
         "yaxis": "y2"
        },
        {
         "hoverinfo": "text",
         "marker": {
          "color": "rgb(133,20,75)"
         },
         "mode": "lines",
         "type": "scatter",
         "x": [
          190,
          190,
          205,
          205
         ],
         "xaxis": "x",
         "y": [
          0.7323664942085689,
          0.9689866572146281,
          0.9689866572146281,
          0
         ],
         "yaxis": "y2"
        },
        {
         "hoverinfo": "text",
         "marker": {
          "color": "rgb(255,220,0)"
         },
         "mode": "lines",
         "type": "scatter",
         "x": [
          225,
          225,
          235,
          235
         ],
         "xaxis": "x",
         "y": [
          0,
          0.5412069874490151,
          0.5412069874490151,
          0
         ],
         "yaxis": "y2"
        },
        {
         "hoverinfo": "text",
         "marker": {
          "color": "rgb(255,220,0)"
         },
         "mode": "lines",
         "type": "scatter",
         "x": [
          215,
          215,
          230,
          230
         ],
         "xaxis": "x",
         "y": [
          0,
          0.8038240766063832,
          0.8038240766063832,
          0.5412069874490151
         ],
         "yaxis": "y2"
        },
        {
         "hoverinfo": "text",
         "marker": {
          "color": "rgb(255,220,0)"
         },
         "mode": "lines",
         "type": "scatter",
         "x": [
          255,
          255,
          265,
          265
         ],
         "xaxis": "x",
         "y": [
          0,
          0.7472015068547558,
          0.7472015068547558,
          0
         ],
         "yaxis": "y2"
        },
        {
         "hoverinfo": "text",
         "marker": {
          "color": "rgb(255,220,0)"
         },
         "mode": "lines",
         "type": "scatter",
         "x": [
          245,
          245,
          260,
          260
         ],
         "xaxis": "x",
         "y": [
          0,
          0.9286019212205604,
          0.9286019212205604,
          0.7472015068547558
         ],
         "yaxis": "y2"
        },
        {
         "hoverinfo": "text",
         "marker": {
          "color": "rgb(255,220,0)"
         },
         "mode": "lines",
         "type": "scatter",
         "x": [
          222.5,
          222.5,
          252.5,
          252.5
         ],
         "xaxis": "x",
         "y": [
          0.8038240766063832,
          1.0085186606098258,
          1.0085186606098258,
          0.9286019212205604
         ],
         "yaxis": "y2"
        },
        {
         "hoverinfo": "text",
         "marker": {
          "color": "rgb(0,116,217)"
         },
         "mode": "lines",
         "type": "scatter",
         "x": [
          197.5,
          197.5,
          237.5,
          237.5
         ],
         "xaxis": "x",
         "y": [
          0.9689866572146281,
          1.0752681199392076,
          1.0752681199392076,
          1.0085186606098258
         ],
         "yaxis": "y2"
        },
        {
         "hoverinfo": "text",
         "marker": {
          "color": "rgb(0,116,217)"
         },
         "mode": "lines",
         "type": "scatter",
         "x": [
          163.75,
          163.75,
          217.5,
          217.5
         ],
         "xaxis": "x",
         "y": [
          1.1809234808670612,
          1.307981820976663,
          1.307981820976663,
          1.0752681199392076
         ],
         "yaxis": "y2"
        },
        {
         "hoverinfo": "text",
         "marker": {
          "color": "rgb(0,116,217)"
         },
         "mode": "lines",
         "type": "scatter",
         "x": [
          90.1953125,
          90.1953125,
          190.625,
          190.625
         ],
         "xaxis": "x",
         "y": [
          1.1623349644646408,
          1.4848431026580822,
          1.4848431026580822,
          1.307981820976663
         ],
         "yaxis": "y2"
        },
        {
         "hoverinfo": "text",
         "marker": {
          "color": "rgb(61,153,112)"
         },
         "mode": "lines",
         "type": "scatter",
         "x": [
          0,
          -0.38780956796418764,
          -0.38780956796418764,
          0
         ],
         "xaxis": "x2",
         "y": [
          25,
          25,
          35,
          35
         ],
         "yaxis": "y"
        },
        {
         "hoverinfo": "text",
         "marker": {
          "color": "rgb(61,153,112)"
         },
         "mode": "lines",
         "type": "scatter",
         "x": [
          0,
          -0.984739786387532,
          -0.984739786387532,
          -0.38780956796418764
         ],
         "xaxis": "x2",
         "y": [
          15,
          15,
          30,
          30
         ],
         "yaxis": "y"
        },
        {
         "hoverinfo": "text",
         "marker": {
          "color": "rgb(255,65,54)"
         },
         "mode": "lines",
         "type": "scatter",
         "x": [
          0,
          -0.5466289191743684,
          -0.5466289191743684,
          0
         ],
         "xaxis": "x2",
         "y": [
          45,
          45,
          55,
          55
         ],
         "yaxis": "y"
        },
        {
         "hoverinfo": "text",
         "marker": {
          "color": "rgb(255,65,54)"
         },
         "mode": "lines",
         "type": "scatter",
         "x": [
          0,
          -0.41466681273855827,
          -0.41466681273855827,
          0
         ],
         "xaxis": "x2",
         "y": [
          75,
          75,
          85,
          85
         ],
         "yaxis": "y"
        },
        {
         "hoverinfo": "text",
         "marker": {
          "color": "rgb(255,65,54)"
         },
         "mode": "lines",
         "type": "scatter",
         "x": [
          0,
          -0.6385842025783323,
          -0.6385842025783323,
          -0.41466681273855827
         ],
         "xaxis": "x2",
         "y": [
          65,
          65,
          80,
          80
         ],
         "yaxis": "y"
        },
        {
         "hoverinfo": "text",
         "marker": {
          "color": "rgb(255,65,54)"
         },
         "mode": "lines",
         "type": "scatter",
         "x": [
          -0.5466289191743684,
          -0.6976133598569921,
          -0.6976133598569921,
          -0.6385842025783323
         ],
         "xaxis": "x2",
         "y": [
          50,
          50,
          72.5,
          72.5
         ],
         "yaxis": "y"
        },
        {
         "hoverinfo": "text",
         "marker": {
          "color": "rgb(255,65,54)"
         },
         "mode": "lines",
         "type": "scatter",
         "x": [
          0,
          -0.48966041247567665,
          -0.48966041247567665,
          0
         ],
         "xaxis": "x2",
         "y": [
          95,
          95,
          105,
          105
         ],
         "yaxis": "y"
        },
        {
         "hoverinfo": "text",
         "marker": {
          "color": "rgb(255,65,54)"
         },
         "mode": "lines",
         "type": "scatter",
         "x": [
          -0.6976133598569921,
          -0.7722362801574217,
          -0.7722362801574217,
          -0.48966041247567665
         ],
         "xaxis": "x2",
         "y": [
          61.25,
          61.25,
          100,
          100
         ],
         "yaxis": "y"
        },
        {
         "hoverinfo": "text",
         "marker": {
          "color": "rgb(0,116,217)"
         },
         "mode": "lines",
         "type": "scatter",
         "x": [
          -0.984739786387532,
          -1.0483680906778832,
          -1.0483680906778832,
          -0.7722362801574217
         ],
         "xaxis": "x2",
         "y": [
          22.5,
          22.5,
          80.625,
          80.625
         ],
         "yaxis": "y"
        },
        {
         "hoverinfo": "text",
         "marker": {
          "color": "rgb(255,65,54)"
         },
         "mode": "lines",
         "type": "scatter",
         "x": [
          0,
          -0.6162389582803675,
          -0.6162389582803675,
          0
         ],
         "xaxis": "x2",
         "y": [
          115,
          115,
          125,
          125
         ],
         "yaxis": "y"
        },
        {
         "hoverinfo": "text",
         "marker": {
          "color": "rgb(255,65,54)"
         },
         "mode": "lines",
         "type": "scatter",
         "x": [
          -1.0483680906778832,
          -1.0387830810801184,
          -1.0387830810801184,
          -0.6162389582803675
         ],
         "xaxis": "x2",
         "y": [
          51.5625,
          51.5625,
          120,
          120
         ],
         "yaxis": "y"
        },
        {
         "hoverinfo": "text",
         "marker": {
          "color": "rgb(0,116,217)"
         },
         "mode": "lines",
         "type": "scatter",
         "x": [
          0,
          -1.1222231049951805,
          -1.1222231049951805,
          -1.0387830810801184
         ],
         "xaxis": "x2",
         "y": [
          5,
          5,
          85.78125,
          85.78125
         ],
         "yaxis": "y"
        },
        {
         "hoverinfo": "text",
         "marker": {
          "color": "rgb(0,116,217)"
         },
         "mode": "lines",
         "type": "scatter",
         "x": [
          -1.1222231049951805,
          -1.1623349644646408,
          -1.1623349644646408,
          0
         ],
         "xaxis": "x2",
         "y": [
          45.390625,
          45.390625,
          135,
          135
         ],
         "yaxis": "y"
        },
        {
         "hoverinfo": "text",
         "marker": {
          "color": "rgb(35,205,205)"
         },
         "mode": "lines",
         "type": "scatter",
         "x": [
          0,
          -0.5853479416966549,
          -0.5853479416966549,
          0
         ],
         "xaxis": "x2",
         "y": [
          155,
          155,
          165,
          165
         ],
         "yaxis": "y"
        },
        {
         "hoverinfo": "text",
         "marker": {
          "color": "rgb(0,116,217)"
         },
         "mode": "lines",
         "type": "scatter",
         "x": [
          0,
          -1.0729775945157214,
          -1.0729775945157214,
          -0.5853479416966549
         ],
         "xaxis": "x2",
         "y": [
          145,
          145,
          160,
          160
         ],
         "yaxis": "y"
        },
        {
         "hoverinfo": "text",
         "marker": {
          "color": "rgb(0,116,217)"
         },
         "mode": "lines",
         "type": "scatter",
         "x": [
          -1.0729775945157214,
          -1.1809234808670612,
          -1.1809234808670612,
          0
         ],
         "xaxis": "x2",
         "y": [
          152.5,
          152.5,
          175,
          175
         ],
         "yaxis": "y"
        },
        {
         "hoverinfo": "text",
         "marker": {
          "color": "rgb(133,20,75)"
         },
         "mode": "lines",
         "type": "scatter",
         "x": [
          0,
          -0.7323664942085689,
          -0.7323664942085689,
          0
         ],
         "xaxis": "x2",
         "y": [
          185,
          185,
          195,
          195
         ],
         "yaxis": "y"
        },
        {
         "hoverinfo": "text",
         "marker": {
          "color": "rgb(133,20,75)"
         },
         "mode": "lines",
         "type": "scatter",
         "x": [
          -0.7323664942085689,
          -0.9689866572146281,
          -0.9689866572146281,
          0
         ],
         "xaxis": "x2",
         "y": [
          190,
          190,
          205,
          205
         ],
         "yaxis": "y"
        },
        {
         "hoverinfo": "text",
         "marker": {
          "color": "rgb(255,220,0)"
         },
         "mode": "lines",
         "type": "scatter",
         "x": [
          0,
          -0.5412069874490151,
          -0.5412069874490151,
          0
         ],
         "xaxis": "x2",
         "y": [
          225,
          225,
          235,
          235
         ],
         "yaxis": "y"
        },
        {
         "hoverinfo": "text",
         "marker": {
          "color": "rgb(255,220,0)"
         },
         "mode": "lines",
         "type": "scatter",
         "x": [
          0,
          -0.8038240766063832,
          -0.8038240766063832,
          -0.5412069874490151
         ],
         "xaxis": "x2",
         "y": [
          215,
          215,
          230,
          230
         ],
         "yaxis": "y"
        },
        {
         "hoverinfo": "text",
         "marker": {
          "color": "rgb(255,220,0)"
         },
         "mode": "lines",
         "type": "scatter",
         "x": [
          0,
          -0.7472015068547558,
          -0.7472015068547558,
          0
         ],
         "xaxis": "x2",
         "y": [
          255,
          255,
          265,
          265
         ],
         "yaxis": "y"
        },
        {
         "hoverinfo": "text",
         "marker": {
          "color": "rgb(255,220,0)"
         },
         "mode": "lines",
         "type": "scatter",
         "x": [
          0,
          -0.9286019212205604,
          -0.9286019212205604,
          -0.7472015068547558
         ],
         "xaxis": "x2",
         "y": [
          245,
          245,
          260,
          260
         ],
         "yaxis": "y"
        },
        {
         "hoverinfo": "text",
         "marker": {
          "color": "rgb(255,220,0)"
         },
         "mode": "lines",
         "type": "scatter",
         "x": [
          -0.8038240766063832,
          -1.0085186606098258,
          -1.0085186606098258,
          -0.9286019212205604
         ],
         "xaxis": "x2",
         "y": [
          222.5,
          222.5,
          252.5,
          252.5
         ],
         "yaxis": "y"
        },
        {
         "hoverinfo": "text",
         "marker": {
          "color": "rgb(0,116,217)"
         },
         "mode": "lines",
         "type": "scatter",
         "x": [
          -0.9689866572146281,
          -1.0752681199392076,
          -1.0752681199392076,
          -1.0085186606098258
         ],
         "xaxis": "x2",
         "y": [
          197.5,
          197.5,
          237.5,
          237.5
         ],
         "yaxis": "y"
        },
        {
         "hoverinfo": "text",
         "marker": {
          "color": "rgb(0,116,217)"
         },
         "mode": "lines",
         "type": "scatter",
         "x": [
          -1.1809234808670612,
          -1.307981820976663,
          -1.307981820976663,
          -1.0752681199392076
         ],
         "xaxis": "x2",
         "y": [
          163.75,
          163.75,
          217.5,
          217.5
         ],
         "yaxis": "y"
        },
        {
         "hoverinfo": "text",
         "marker": {
          "color": "rgb(0,116,217)"
         },
         "mode": "lines",
         "type": "scatter",
         "x": [
          -1.1623349644646408,
          -1.4848431026580822,
          -1.4848431026580822,
          -1.307981820976663
         ],
         "xaxis": "x2",
         "y": [
          90.1953125,
          90.1953125,
          190.625,
          190.625
         ],
         "yaxis": "y"
        },
        {
         "colorbar": {
          "title": {
           "text": "Coff Tanimoto"
          }
         },
         "type": "heatmap",
         "x": [
          5,
          15,
          25,
          35,
          45,
          55,
          65,
          75,
          85,
          95,
          105,
          115,
          125,
          135,
          145,
          155,
          165,
          175,
          185,
          195,
          205,
          215,
          225,
          235,
          245,
          255,
          265
         ],
         "y": [
          5,
          15,
          25,
          35,
          45,
          55,
          65,
          75,
          85,
          95,
          105,
          115,
          125,
          135,
          145,
          155,
          165,
          175,
          185,
          195,
          205,
          215,
          225,
          235,
          245,
          255,
          265
         ],
         "z": [
          [
           1,
           0.2558139534883721,
           0.24242424242424243,
           0.26666666666666666,
           0.37037037037037035,
           0.25925925925925924,
           0.18518518518518517,
           0.21428571428571427,
           0.2413793103448276,
           0.25925925925925924,
           0.18518518518518517,
           0.15384615384615385,
           0.11864406779661017,
           0.13953488372093023,
           0.037037037037037035,
           0.034482758620689655,
           0.03225806451612903,
           0.022988505747126436,
           0,
           0,
           0,
           0.038834951456310676,
           0.05384615384615385,
           0.046242774566473986,
           0.017543859649122806,
           0.02072538860103627,
           0.0106951871657754
          ],
          [
           0.2558139534883721,
           1,
           0.4642857142857143,
           0.4074074074074074,
           0.32142857142857145,
           0.25925925925925924,
           0.18518518518518517,
           0.25925925925925924,
           0.2413793103448276,
           0.1724137931034483,
           0.14285714285714285,
           0.11940298507462686,
           0.1,
           0.11363636363636363,
           0.037037037037037035,
           0.034482758620689655,
           0.03225806451612903,
           0.03488372093023256,
           0.015625,
           0.022222222222222223,
           0.012578616352201259,
           0.04390243902439024,
           0.05384615384615385,
           0.046242774566473986,
           0.017543859649122806,
           0.031413612565445025,
           0.02717391304347826
          ],
          [
           0.24242424242424243,
           0.4642857142857143,
           1,
           0.7857142857142857,
           0.4117647058823529,
           0.5,
           0.35714285714285715,
           0.3125,
           0.2777777777777778,
           0.23529411764705882,
           0.26666666666666666,
           0.1951219512195122,
           0.17647058823529413,
           0.16129032258064516,
           0.07142857142857142,
           0.0625,
           0.05555555555555555,
           0.03278688524590164,
           0.009708737864077669,
           0.015384615384615385,
           0.007462686567164179,
           0.03296703296703297,
           0.05714285714285714,
           0.0472972972972973,
           0.022727272727272728,
           0.023952095808383235,
           0.012422360248447204
          ],
          [
           0.26666666666666666,
           0.4074074074074074,
           0.7857142857142857,
           1,
           0.5,
           0.6363636363636364,
           0.45454545454545453,
           0.38461538461538464,
           0.3333333333333333,
           0.2857142857142857,
           0.3333333333333333,
           0.22857142857142856,
           0.21428571428571427,
           0.17857142857142858,
           0.09090909090909091,
           0.07692307692307693,
           0.06666666666666667,
           0.03636363636363636,
           0.010309278350515464,
           0.01694915254237288,
           0.0078125,
           0.03409090909090909,
           0.06060606060606061,
           0.04929577464788732,
           0.024390243902439025,
           0.024844720496894408,
           0.012903225806451613
          ],
          [
           0.37037037037037035,
           0.32142857142857145,
           0.4117647058823529,
           0.5,
           1,
           0.7,
           0.5,
           0.5454545454545454,
           0.46153846153846156,
           0.4166666666666667,
           0.36363636363636365,
           0.24242424242424243,
           0.23076923076923078,
           0.18518518518518517,
           0.1,
           0.08333333333333333,
           0.07142857142857142,
           0.03773584905660377,
           0,
           0,
           0,
           0.034482758620689655,
           0.061855670103092786,
           0.05,
           0.025,
           0.01875,
           0.006493506493506494
          ],
          [
           0.25925925925925924,
           0.25925925925925924,
           0.5,
           0.6363636363636364,
           0.7,
           1,
           0.7142857142857143,
           0.5555555555555556,
           0.45454545454545453,
           0.4,
           0.5,
           0.2962962962962963,
           0.3,
           0.20833333333333334,
           0.14285714285714285,
           0.1111111111111111,
           0.09090909090909091,
           0.0425531914893617,
           0,
           0,
           0,
           0.03571428571428571,
           0.06593406593406594,
           0.05223880597014925,
           0.02702702702702703,
           0.01948051948051948,
           0.006756756756756757
          ],
          [
           0.18518518518518517,
           0.18518518518518517,
           0.35714285714285715,
           0.45454545454545453,
           0.5,
           0.7142857142857143,
           1,
           0.7142857142857143,
           0.5555555555555556,
           0.5,
           0.6666666666666666,
           0.34782608695652173,
           0.375,
           0.22727272727272727,
           0.2,
           0.14285714285714285,
           0.1111111111111111,
           0.046511627906976744,
           0,
           0,
           0,
           0.036585365853658534,
           0.06896551724137931,
           0.04580152671755725,
           0.02857142857142857,
           0.02,
           0.006944444444444444
          ],
          [
           0.21428571428571427,
           0.25925925925925924,
           0.3125,
           0.38461538461538464,
           0.5454545454545454,
           0.5555555555555556,
           0.7142857142857143,
           1,
           0.7777777777777778,
           0.5555555555555556,
           0.5,
           0.2962962962962963,
           0.3,
           0.20833333333333334,
           0.14285714285714285,
           0.1111111111111111,
           0.09090909090909091,
           0.0425531914893617,
           0,
           0,
           0,
           0.03571428571428571,
           0.06593406593406594,
           0.044444444444444446,
           0.02702702702702703,
           0.01948051948051948,
           0.006756756756756757
          ],
          [
           0.2413793103448276,
           0.2413793103448276,
           0.2777777777777778,
           0.3333333333333333,
           0.46153846153846156,
           0.45454545454545453,
           0.5555555555555556,
           0.7777777777777778,
           1,
           0.45454545454545453,
           0.4,
           0.25806451612903225,
           0.25,
           0.21568627450980393,
           0.1111111111111111,
           0.09090909090909091,
           0.07692307692307693,
           0.0392156862745098,
           0,
           0,
           0,
           0.03488372093023256,
           0.06315789473684211,
           0.04316546762589928,
           0.02564102564102564,
           0.0189873417721519,
           0.006578947368421052
          ],
          [
           0.25925925925925924,
           0.1724137931034483,
           0.23529411764705882,
           0.2857142857142857,
           0.4166666666666667,
           0.4,
           0.5,
           0.5555555555555556,
           0.45454545454545453,
           1,
           0.7142857142857143,
           0.4,
           0.3684210526315789,
           0.20833333333333334,
           0.14285714285714285,
           0.1111111111111111,
           0.09090909090909091,
           0.0425531914893617,
           0,
           0,
           0,
           0.03571428571428571,
           0.06593406593406594,
           0.044444444444444446,
           0.02702702702702703,
           0.01948051948051948,
           0.006756756756756757
          ],
          [
           0.18518518518518517,
           0.14285714285714285,
           0.26666666666666666,
           0.3333333333333333,
           0.36363636363636365,
           0.5,
           0.6666666666666666,
           0.5,
           0.4,
           0.7142857142857143,
           1,
           0.47619047619047616,
           0.4666666666666667,
           0.2,
           0.2,
           0.14285714285714285,
           0.1111111111111111,
           0.046511627906976744,
           0,
           0,
           0,
           0.036585365853658534,
           0.06896551724137931,
           0.04580152671755725,
           0.02857142857142857,
           0.02,
           0.006944444444444444
          ],
          [
           0.15384615384615385,
           0.11940298507462686,
           0.1951219512195122,
           0.22857142857142856,
           0.24242424242424243,
           0.2962962962962963,
           0.34782608695652173,
           0.2962962962962963,
           0.25806451612903225,
           0.4,
           0.47619047619047616,
           1,
           0.5714285714285714,
           0.27450980392156865,
           0.09523809523809523,
           0.08,
           0.06896551724137931,
           0.09803921568627451,
           0,
           0,
           0,
           0.040229885057471264,
           0.061224489795918366,
           0.04225352112676056,
           0.024691358024691357,
           0.018633540372670808,
           0.012987012987012988
          ],
          [
           0.11864406779661017,
           0.1,
           0.17647058823529413,
           0.21428571428571427,
           0.23076923076923078,
           0.3,
           0.375,
           0.3,
           0.25,
           0.3684210526315789,
           0.4666666666666667,
           0.5714285714285714,
           1,
           0.2727272727272727,
           0.16666666666666666,
           0.125,
           0.1,
           0.09302325581395349,
           0,
           0,
           0,
           0.04242424242424243,
           0.06741573033707865,
           0.045112781954887216,
           0.027777777777777776,
           0.019736842105263157,
           0.013793103448275862
          ],
          [
           0.13953488372093023,
           0.11363636363636363,
           0.16129032258064516,
           0.17857142857142858,
           0.18518518518518517,
           0.20833333333333334,
           0.22727272727272727,
           0.20833333333333334,
           0.21568627450980393,
           0.20833333333333334,
           0.2,
           0.27450980392156865,
           0.2727272727272727,
           1,
           0.045454545454545456,
           0.041666666666666664,
           0.038461538461538464,
           0.05333333333333334,
           0.02564102564102564,
           0.012345679012345678,
           0.013422818791946308,
           0.03553299492385787,
           0.049586776859504134,
           0.042682926829268296,
           0.019230769230769232,
           0.027472527472527472,
           0.028735632183908046
          ],
          [
           0.037037037037037035,
           0.037037037037037035,
           0.07142857142857142,
           0.09090909090909091,
           0.1,
           0.14285714285714285,
           0.2,
           0.14285714285714285,
           0.1111111111111111,
           0.14285714285714285,
           0.2,
           0.09523809523809523,
           0.16666666666666666,
           0.045454545454545456,
           1,
           0.3333333333333333,
           0.2,
           0.05714285714285714,
           0,
           0,
           0,
           0.0125,
           0.024096385542168676,
           0.015748031496062992,
           0.03225806451612903,
           0.013986013986013986,
           0.007352941176470588
          ],
          [
           0.034482758620689655,
           0.034482758620689655,
           0.0625,
           0.07692307692307693,
           0.08333333333333333,
           0.1111111111111111,
           0.14285714285714285,
           0.1111111111111111,
           0.09090909090909091,
           0.1111111111111111,
           0.14285714285714285,
           0.08,
           0.125,
           0.041666666666666664,
           0.3333333333333333,
           1,
           0.6,
           0.17142857142857143,
           0,
           0,
           0,
           0.012195121951219513,
           0.022988505747126436,
           0.015267175572519083,
           0.030303030303030304,
           0.013605442176870748,
           0.007142857142857143
          ],
          [
           0.03225806451612903,
           0.03225806451612903,
           0.05555555555555555,
           0.06666666666666667,
           0.07142857142857142,
           0.09090909090909091,
           0.1111111111111111,
           0.09090909090909091,
           0.07692307692307693,
           0.09090909090909091,
           0.1111111111111111,
           0.06896551724137931,
           0.1,
           0.038461538461538464,
           0.2,
           0.6,
           1,
           0.18421052631578946,
           0.011764705882352941,
           0,
           0,
           0.011904761904761904,
           0.02197802197802198,
           0.022388059701492536,
           0.02857142857142857,
           0.013245033112582781,
           0.006944444444444444
          ],
          [
           0.022988505747126436,
           0.03488372093023256,
           0.03278688524590164,
           0.03636363636363636,
           0.03773584905660377,
           0.0425531914893617,
           0.046511627906976744,
           0.0425531914893617,
           0.0392156862745098,
           0.0425531914893617,
           0.046511627906976744,
           0.09803921568627451,
           0.09302325581395349,
           0.05333333333333334,
           0.05714285714285714,
           0.17142857142857143,
           0.18421052631578946,
           1,
           0.00909090909090909,
           0.013888888888888888,
           0.014285714285714285,
           0.015625,
           0.017241379310344827,
           0.018867924528301886,
           0.021052631578947368,
           0.017142857142857144,
           0.017964071856287425
          ],
          [
           0,
           0.015625,
           0.009708737864077669,
           0.010309278350515464,
           0,
           0,
           0,
           0,
           0,
           0,
           0,
           0,
           0,
           0.02564102564102564,
           0,
           0,
           0.011764705882352941,
           0.00909090909090909,
           1,
           0.5,
           0.2708333333333333,
           0.0776255707762557,
           0.11188811188811189,
           0.25308641975308643,
           0.11290322580645161,
           0.07881773399014778,
           0.22674418604651161
          ],
          [
           0,
           0.022222222222222223,
           0.015384615384615385,
           0.01694915254237288,
           0,
           0,
           0,
           0,
           0,
           0,
           0,
           0,
           0,
           0.012345679012345678,
           0,
           0,
           0,
           0.013888888888888888,
           0.5,
           1,
           0.35514018691588783,
           0.08196721311475409,
           0.14150943396226415,
           0.1,
           0.14942528735632185,
           0.09036144578313253,
           0.2814814814814815
          ],
          [
           0,
           0.012578616352201259,
           0.007462686567164179,
           0.0078125,
           0,
           0,
           0,
           0,
           0,
           0,
           0,
           0,
           0,
           0.013422818791946308,
           0,
           0,
           0,
           0.014285714285714285,
           0.2708333333333333,
           0.35514018691588783,
           1,
           0.3417085427135678,
           0.09826589595375723,
           0.08333333333333333,
           0.09032258064516129,
           0.09170305676855896,
           0.21608040201005024
          ],
          [
           0.038834951456310676,
           0.04390243902439024,
           0.03296703296703297,
           0.03409090909090909,
           0.034482758620689655,
           0.03571428571428571,
           0.036585365853658534,
           0.03571428571428571,
           0.03488372093023256,
           0.03571428571428571,
           0.036585365853658534,
           0.040229885057471264,
           0.04242424242424243,
           0.03553299492385787,
           0.0125,
           0.012195121951219513,
           0.011904761904761904,
           0.015625,
           0.0776255707762557,
           0.08196721311475409,
           0.3417085427135678,
           1,
           0.51875,
           0.41379310344827586,
           0.23333333333333334,
           0.1976284584980237,
           0.1752988047808765
          ],
          [
           0.05384615384615385,
           0.05384615384615385,
           0.05714285714285714,
           0.06060606060606061,
           0.061855670103092786,
           0.06593406593406594,
           0.06896551724137931,
           0.06593406593406594,
           0.06315789473684211,
           0.06593406593406594,
           0.06896551724137931,
           0.061224489795918366,
           0.06741573033707865,
           0.049586776859504134,
           0.024096385542168676,
           0.022988505747126436,
           0.02197802197802198,
           0.017241379310344827,
           0.11188811188811189,
           0.14150943396226415,
           0.09826589595375723,
           0.51875,
           1,
           0.6535433070866141,
           0.4077669902912621,
           0.24861878453038674,
           0.2247191011235955
          ],
          [
           0.046242774566473986,
           0.046242774566473986,
           0.0472972972972973,
           0.04929577464788732,
           0.05,
           0.05223880597014925,
           0.04580152671755725,
           0.044444444444444446,
           0.04316546762589928,
           0.044444444444444446,
           0.04580152671755725,
           0.04225352112676056,
           0.045112781954887216,
           0.042682926829268296,
           0.015748031496062992,
           0.015267175572519083,
           0.022388059701492536,
           0.018867924528301886,
           0.25308641975308643,
           0.1,
           0.08333333333333333,
           0.41379310344827586,
           0.6535433070866141,
           1,
           0.2945205479452055,
           0.20535714285714285,
           0.19090909090909092
          ],
          [
           0.017543859649122806,
           0.017543859649122806,
           0.022727272727272728,
           0.024390243902439025,
           0.025,
           0.02702702702702703,
           0.02857142857142857,
           0.02702702702702703,
           0.02564102564102564,
           0.02702702702702703,
           0.02857142857142857,
           0.024691358024691357,
           0.027777777777777776,
           0.019230769230769232,
           0.03225806451612903,
           0.030303030303030304,
           0.02857142857142857,
           0.021052631578947368,
           0.11290322580645161,
           0.14942528735632185,
           0.09032258064516129,
           0.23333333333333334,
           0.4077669902912621,
           0.2945205479452055,
           1,
           0.43356643356643354,
           0.2468354430379747
          ],
          [
           0.02072538860103627,
           0.031413612565445025,
           0.023952095808383235,
           0.024844720496894408,
           0.01875,
           0.01948051948051948,
           0.02,
           0.01948051948051948,
           0.0189873417721519,
           0.01948051948051948,
           0.02,
           0.018633540372670808,
           0.019736842105263157,
           0.027472527472527472,
           0.013986013986013986,
           0.013605442176870748,
           0.013245033112582781,
           0.017142857142857144,
           0.07881773399014778,
           0.09036144578313253,
           0.09170305676855896,
           0.1976284584980237,
           0.24861878453038674,
           0.20535714285714285,
           0.43356643356643354,
           1,
           0.5274725274725275
          ],
          [
           0.0106951871657754,
           0.02717391304347826,
           0.012422360248447204,
           0.012903225806451613,
           0.006493506493506494,
           0.006756756756756757,
           0.006944444444444444,
           0.006756756756756757,
           0.006578947368421052,
           0.006756756756756757,
           0.006944444444444444,
           0.012987012987012988,
           0.013793103448275862,
           0.028735632183908046,
           0.007352941176470588,
           0.007142857142857143,
           0.006944444444444444,
           0.017964071856287425,
           0.22674418604651161,
           0.2814814814814815,
           0.21608040201005024,
           0.1752988047808765,
           0.2247191011235955,
           0.19090909090909092,
           0.2468354430379747,
           0.5274725274725275,
           1
          ]
         ]
        }
       ],
       "layout": {
        "autosize": false,
        "height": 800,
        "hovermode": "closest",
        "showlegend": false,
        "template": {
         "data": {
          "bar": [
           {
            "error_x": {
             "color": "#2a3f5f"
            },
            "error_y": {
             "color": "#2a3f5f"
            },
            "marker": {
             "line": {
              "color": "#E5ECF6",
              "width": 0.5
             },
             "pattern": {
              "fillmode": "overlay",
              "size": 10,
              "solidity": 0.2
             }
            },
            "type": "bar"
           }
          ],
          "barpolar": [
           {
            "marker": {
             "line": {
              "color": "#E5ECF6",
              "width": 0.5
             },
             "pattern": {
              "fillmode": "overlay",
              "size": 10,
              "solidity": 0.2
             }
            },
            "type": "barpolar"
           }
          ],
          "carpet": [
           {
            "aaxis": {
             "endlinecolor": "#2a3f5f",
             "gridcolor": "white",
             "linecolor": "white",
             "minorgridcolor": "white",
             "startlinecolor": "#2a3f5f"
            },
            "baxis": {
             "endlinecolor": "#2a3f5f",
             "gridcolor": "white",
             "linecolor": "white",
             "minorgridcolor": "white",
             "startlinecolor": "#2a3f5f"
            },
            "type": "carpet"
           }
          ],
          "choropleth": [
           {
            "colorbar": {
             "outlinewidth": 0,
             "ticks": ""
            },
            "type": "choropleth"
           }
          ],
          "contour": [
           {
            "colorbar": {
             "outlinewidth": 0,
             "ticks": ""
            },
            "colorscale": [
             [
              0,
              "#0d0887"
             ],
             [
              0.1111111111111111,
              "#46039f"
             ],
             [
              0.2222222222222222,
              "#7201a8"
             ],
             [
              0.3333333333333333,
              "#9c179e"
             ],
             [
              0.4444444444444444,
              "#bd3786"
             ],
             [
              0.5555555555555556,
              "#d8576b"
             ],
             [
              0.6666666666666666,
              "#ed7953"
             ],
             [
              0.7777777777777778,
              "#fb9f3a"
             ],
             [
              0.8888888888888888,
              "#fdca26"
             ],
             [
              1,
              "#f0f921"
             ]
            ],
            "type": "contour"
           }
          ],
          "contourcarpet": [
           {
            "colorbar": {
             "outlinewidth": 0,
             "ticks": ""
            },
            "type": "contourcarpet"
           }
          ],
          "heatmap": [
           {
            "colorbar": {
             "outlinewidth": 0,
             "ticks": ""
            },
            "colorscale": [
             [
              0,
              "#0d0887"
             ],
             [
              0.1111111111111111,
              "#46039f"
             ],
             [
              0.2222222222222222,
              "#7201a8"
             ],
             [
              0.3333333333333333,
              "#9c179e"
             ],
             [
              0.4444444444444444,
              "#bd3786"
             ],
             [
              0.5555555555555556,
              "#d8576b"
             ],
             [
              0.6666666666666666,
              "#ed7953"
             ],
             [
              0.7777777777777778,
              "#fb9f3a"
             ],
             [
              0.8888888888888888,
              "#fdca26"
             ],
             [
              1,
              "#f0f921"
             ]
            ],
            "type": "heatmap"
           }
          ],
          "heatmapgl": [
           {
            "colorbar": {
             "outlinewidth": 0,
             "ticks": ""
            },
            "colorscale": [
             [
              0,
              "#0d0887"
             ],
             [
              0.1111111111111111,
              "#46039f"
             ],
             [
              0.2222222222222222,
              "#7201a8"
             ],
             [
              0.3333333333333333,
              "#9c179e"
             ],
             [
              0.4444444444444444,
              "#bd3786"
             ],
             [
              0.5555555555555556,
              "#d8576b"
             ],
             [
              0.6666666666666666,
              "#ed7953"
             ],
             [
              0.7777777777777778,
              "#fb9f3a"
             ],
             [
              0.8888888888888888,
              "#fdca26"
             ],
             [
              1,
              "#f0f921"
             ]
            ],
            "type": "heatmapgl"
           }
          ],
          "histogram": [
           {
            "marker": {
             "pattern": {
              "fillmode": "overlay",
              "size": 10,
              "solidity": 0.2
             }
            },
            "type": "histogram"
           }
          ],
          "histogram2d": [
           {
            "colorbar": {
             "outlinewidth": 0,
             "ticks": ""
            },
            "colorscale": [
             [
              0,
              "#0d0887"
             ],
             [
              0.1111111111111111,
              "#46039f"
             ],
             [
              0.2222222222222222,
              "#7201a8"
             ],
             [
              0.3333333333333333,
              "#9c179e"
             ],
             [
              0.4444444444444444,
              "#bd3786"
             ],
             [
              0.5555555555555556,
              "#d8576b"
             ],
             [
              0.6666666666666666,
              "#ed7953"
             ],
             [
              0.7777777777777778,
              "#fb9f3a"
             ],
             [
              0.8888888888888888,
              "#fdca26"
             ],
             [
              1,
              "#f0f921"
             ]
            ],
            "type": "histogram2d"
           }
          ],
          "histogram2dcontour": [
           {
            "colorbar": {
             "outlinewidth": 0,
             "ticks": ""
            },
            "colorscale": [
             [
              0,
              "#0d0887"
             ],
             [
              0.1111111111111111,
              "#46039f"
             ],
             [
              0.2222222222222222,
              "#7201a8"
             ],
             [
              0.3333333333333333,
              "#9c179e"
             ],
             [
              0.4444444444444444,
              "#bd3786"
             ],
             [
              0.5555555555555556,
              "#d8576b"
             ],
             [
              0.6666666666666666,
              "#ed7953"
             ],
             [
              0.7777777777777778,
              "#fb9f3a"
             ],
             [
              0.8888888888888888,
              "#fdca26"
             ],
             [
              1,
              "#f0f921"
             ]
            ],
            "type": "histogram2dcontour"
           }
          ],
          "mesh3d": [
           {
            "colorbar": {
             "outlinewidth": 0,
             "ticks": ""
            },
            "type": "mesh3d"
           }
          ],
          "parcoords": [
           {
            "line": {
             "colorbar": {
              "outlinewidth": 0,
              "ticks": ""
             }
            },
            "type": "parcoords"
           }
          ],
          "pie": [
           {
            "automargin": true,
            "type": "pie"
           }
          ],
          "scatter": [
           {
            "marker": {
             "colorbar": {
              "outlinewidth": 0,
              "ticks": ""
             }
            },
            "type": "scatter"
           }
          ],
          "scatter3d": [
           {
            "line": {
             "colorbar": {
              "outlinewidth": 0,
              "ticks": ""
             }
            },
            "marker": {
             "colorbar": {
              "outlinewidth": 0,
              "ticks": ""
             }
            },
            "type": "scatter3d"
           }
          ],
          "scattercarpet": [
           {
            "marker": {
             "colorbar": {
              "outlinewidth": 0,
              "ticks": ""
             }
            },
            "type": "scattercarpet"
           }
          ],
          "scattergeo": [
           {
            "marker": {
             "colorbar": {
              "outlinewidth": 0,
              "ticks": ""
             }
            },
            "type": "scattergeo"
           }
          ],
          "scattergl": [
           {
            "marker": {
             "colorbar": {
              "outlinewidth": 0,
              "ticks": ""
             }
            },
            "type": "scattergl"
           }
          ],
          "scattermapbox": [
           {
            "marker": {
             "colorbar": {
              "outlinewidth": 0,
              "ticks": ""
             }
            },
            "type": "scattermapbox"
           }
          ],
          "scatterpolar": [
           {
            "marker": {
             "colorbar": {
              "outlinewidth": 0,
              "ticks": ""
             }
            },
            "type": "scatterpolar"
           }
          ],
          "scatterpolargl": [
           {
            "marker": {
             "colorbar": {
              "outlinewidth": 0,
              "ticks": ""
             }
            },
            "type": "scatterpolargl"
           }
          ],
          "scatterternary": [
           {
            "marker": {
             "colorbar": {
              "outlinewidth": 0,
              "ticks": ""
             }
            },
            "type": "scatterternary"
           }
          ],
          "surface": [
           {
            "colorbar": {
             "outlinewidth": 0,
             "ticks": ""
            },
            "colorscale": [
             [
              0,
              "#0d0887"
             ],
             [
              0.1111111111111111,
              "#46039f"
             ],
             [
              0.2222222222222222,
              "#7201a8"
             ],
             [
              0.3333333333333333,
              "#9c179e"
             ],
             [
              0.4444444444444444,
              "#bd3786"
             ],
             [
              0.5555555555555556,
              "#d8576b"
             ],
             [
              0.6666666666666666,
              "#ed7953"
             ],
             [
              0.7777777777777778,
              "#fb9f3a"
             ],
             [
              0.8888888888888888,
              "#fdca26"
             ],
             [
              1,
              "#f0f921"
             ]
            ],
            "type": "surface"
           }
          ],
          "table": [
           {
            "cells": {
             "fill": {
              "color": "#EBF0F8"
             },
             "line": {
              "color": "white"
             }
            },
            "header": {
             "fill": {
              "color": "#C8D4E3"
             },
             "line": {
              "color": "white"
             }
            },
            "type": "table"
           }
          ]
         },
         "layout": {
          "annotationdefaults": {
           "arrowcolor": "#2a3f5f",
           "arrowhead": 0,
           "arrowwidth": 1
          },
          "autotypenumbers": "strict",
          "coloraxis": {
           "colorbar": {
            "outlinewidth": 0,
            "ticks": ""
           }
          },
          "colorscale": {
           "diverging": [
            [
             0,
             "#8e0152"
            ],
            [
             0.1,
             "#c51b7d"
            ],
            [
             0.2,
             "#de77ae"
            ],
            [
             0.3,
             "#f1b6da"
            ],
            [
             0.4,
             "#fde0ef"
            ],
            [
             0.5,
             "#f7f7f7"
            ],
            [
             0.6,
             "#e6f5d0"
            ],
            [
             0.7,
             "#b8e186"
            ],
            [
             0.8,
             "#7fbc41"
            ],
            [
             0.9,
             "#4d9221"
            ],
            [
             1,
             "#276419"
            ]
           ],
           "sequential": [
            [
             0,
             "#0d0887"
            ],
            [
             0.1111111111111111,
             "#46039f"
            ],
            [
             0.2222222222222222,
             "#7201a8"
            ],
            [
             0.3333333333333333,
             "#9c179e"
            ],
            [
             0.4444444444444444,
             "#bd3786"
            ],
            [
             0.5555555555555556,
             "#d8576b"
            ],
            [
             0.6666666666666666,
             "#ed7953"
            ],
            [
             0.7777777777777778,
             "#fb9f3a"
            ],
            [
             0.8888888888888888,
             "#fdca26"
            ],
            [
             1,
             "#f0f921"
            ]
           ],
           "sequentialminus": [
            [
             0,
             "#0d0887"
            ],
            [
             0.1111111111111111,
             "#46039f"
            ],
            [
             0.2222222222222222,
             "#7201a8"
            ],
            [
             0.3333333333333333,
             "#9c179e"
            ],
            [
             0.4444444444444444,
             "#bd3786"
            ],
            [
             0.5555555555555556,
             "#d8576b"
            ],
            [
             0.6666666666666666,
             "#ed7953"
            ],
            [
             0.7777777777777778,
             "#fb9f3a"
            ],
            [
             0.8888888888888888,
             "#fdca26"
            ],
            [
             1,
             "#f0f921"
            ]
           ]
          },
          "colorway": [
           "#636efa",
           "#EF553B",
           "#00cc96",
           "#ab63fa",
           "#FFA15A",
           "#19d3f3",
           "#FF6692",
           "#B6E880",
           "#FF97FF",
           "#FECB52"
          ],
          "font": {
           "color": "#2a3f5f"
          },
          "geo": {
           "bgcolor": "white",
           "lakecolor": "white",
           "landcolor": "#E5ECF6",
           "showlakes": true,
           "showland": true,
           "subunitcolor": "white"
          },
          "hoverlabel": {
           "align": "left"
          },
          "hovermode": "closest",
          "mapbox": {
           "style": "light"
          },
          "paper_bgcolor": "white",
          "plot_bgcolor": "#E5ECF6",
          "polar": {
           "angularaxis": {
            "gridcolor": "white",
            "linecolor": "white",
            "ticks": ""
           },
           "bgcolor": "#E5ECF6",
           "radialaxis": {
            "gridcolor": "white",
            "linecolor": "white",
            "ticks": ""
           }
          },
          "scene": {
           "xaxis": {
            "backgroundcolor": "#E5ECF6",
            "gridcolor": "white",
            "gridwidth": 2,
            "linecolor": "white",
            "showbackground": true,
            "ticks": "",
            "zerolinecolor": "white"
           },
           "yaxis": {
            "backgroundcolor": "#E5ECF6",
            "gridcolor": "white",
            "gridwidth": 2,
            "linecolor": "white",
            "showbackground": true,
            "ticks": "",
            "zerolinecolor": "white"
           },
           "zaxis": {
            "backgroundcolor": "#E5ECF6",
            "gridcolor": "white",
            "gridwidth": 2,
            "linecolor": "white",
            "showbackground": true,
            "ticks": "",
            "zerolinecolor": "white"
           }
          },
          "shapedefaults": {
           "line": {
            "color": "#2a3f5f"
           }
          },
          "ternary": {
           "aaxis": {
            "gridcolor": "white",
            "linecolor": "white",
            "ticks": ""
           },
           "baxis": {
            "gridcolor": "white",
            "linecolor": "white",
            "ticks": ""
           },
           "bgcolor": "#E5ECF6",
           "caxis": {
            "gridcolor": "white",
            "linecolor": "white",
            "ticks": ""
           }
          },
          "title": {
           "x": 0.05
          },
          "xaxis": {
           "automargin": true,
           "gridcolor": "white",
           "linecolor": "white",
           "ticks": "",
           "title": {
            "standoff": 15
           },
           "zerolinecolor": "white",
           "zerolinewidth": 2
          },
          "yaxis": {
           "automargin": true,
           "gridcolor": "white",
           "linecolor": "white",
           "ticks": "",
           "title": {
            "standoff": 15
           },
           "zerolinecolor": "white",
           "zerolinewidth": 2
          }
         }
        },
        "title": {
         "text": "Similaridad Estructural de Aminas",
         "x": 0.55,
         "xanchor": "center",
         "y": 0.9,
         "yanchor": "top"
        },
        "width": 800,
        "xaxis": {
         "domain": [
          0.15,
          1
         ],
         "mirror": false,
         "rangemode": "tozero",
         "showgrid": false,
         "showline": false,
         "showticklabels": true,
         "tickmode": "array",
         "ticks": "",
         "ticktext": [
          "TertOctyl",
          "Cyclohexylmethyl",
          "nDodecyl",
          "nHexyl",
          "IPentyl",
          "n-BuNH3I",
          "NPropyl",
          "iButyl",
          "neoPentyl",
          "tButyl",
          "iPropyl",
          "Diisopropyl",
          "Diethyl",
          "NNDiethylpropane13di",
          "MeNH3I",
          "FormamidiniumIodide",
          "GnNH3I",
          "ImidazoliumIodide",
          "4FluoroPhenyl",
          "Phenyl",
          "4MethoxyPhenyl",
          "4methoxyphenethyl",
          "PhEtNH3I",
          "4FluoroPhenethyl",
          "Benzyl",
          "4TrifluoromethylBenzyl",
          "4TrifluoromethylPhenyl"
         ],
         "tickvals": [
          5,
          15,
          25,
          35,
          45,
          55,
          65,
          75,
          85,
          95,
          105,
          115,
          125,
          135,
          145,
          155,
          165,
          175,
          185,
          195,
          205,
          215,
          225,
          235,
          245,
          255,
          265
         ],
         "type": "linear",
         "zeroline": false
        },
        "xaxis2": {
         "domain": [
          0,
          0.15
         ],
         "mirror": false,
         "showgrid": false,
         "showline": false,
         "showticklabels": false,
         "ticks": "",
         "zeroline": false
        },
        "yaxis": {
         "domain": [
          0,
          0.85
         ],
         "mirror": false,
         "rangemode": "tozero",
         "showgrid": false,
         "showline": false,
         "showticklabels": false,
         "ticks": "",
         "ticktext": [
          "TertOctyl",
          "Cyclohexylmethyl",
          "nDodecyl",
          "nHexyl",
          "IPentyl",
          "n-BuNH3I",
          "NPropyl",
          "iButyl",
          "neoPentyl",
          "tButyl",
          "iPropyl",
          "Diisopropyl",
          "Diethyl",
          "NNDiethylpropane13di",
          "MeNH3I",
          "FormamidiniumIodide",
          "GnNH3I",
          "ImidazoliumIodide",
          "4FluoroPhenyl",
          "Phenyl",
          "4MethoxyPhenyl",
          "4methoxyphenethyl",
          "PhEtNH3I",
          "4FluoroPhenethyl",
          "Benzyl",
          "4TrifluoromethylBenzyl",
          "4TrifluoromethylPhenyl"
         ],
         "tickvals": [
          5,
          15,
          25,
          35,
          45,
          55,
          65,
          75,
          85,
          95,
          105,
          115,
          125,
          135,
          145,
          155,
          165,
          175,
          185,
          195,
          205,
          215,
          225,
          235,
          245,
          255,
          265
         ],
         "type": "linear",
         "zeroline": false
        },
        "yaxis2": {
         "domain": [
          0.825,
          0.975
         ],
         "mirror": false,
         "showgrid": false,
         "showline": false,
         "showticklabels": false,
         "ticks": "",
         "zeroline": false
        }
       }
      },
      "text/html": [
       "<div>                            <div id=\"5cd193e3-6600-4e9a-85a3-ceb5bcfba900\" class=\"plotly-graph-div\" style=\"height:800px; width:800px;\"></div>            <script type=\"text/javascript\">                require([\"plotly\"], function(Plotly) {                    window.PLOTLYENV=window.PLOTLYENV || {};                                    if (document.getElementById(\"5cd193e3-6600-4e9a-85a3-ceb5bcfba900\")) {                    Plotly.newPlot(                        \"5cd193e3-6600-4e9a-85a3-ceb5bcfba900\",                        [{\"hoverinfo\":\"text\",\"marker\":{\"color\":\"rgb(61,153,112)\"},\"mode\":\"lines\",\"type\":\"scatter\",\"x\":[25.0,25.0,35.0,35.0],\"xaxis\":\"x\",\"y\":[0.0,0.38780956796418764,0.38780956796418764,0.0],\"yaxis\":\"y2\"},{\"hoverinfo\":\"text\",\"marker\":{\"color\":\"rgb(61,153,112)\"},\"mode\":\"lines\",\"type\":\"scatter\",\"x\":[15.0,15.0,30.0,30.0],\"xaxis\":\"x\",\"y\":[0.0,0.984739786387532,0.984739786387532,0.38780956796418764],\"yaxis\":\"y2\"},{\"hoverinfo\":\"text\",\"marker\":{\"color\":\"rgb(255,65,54)\"},\"mode\":\"lines\",\"type\":\"scatter\",\"x\":[45.0,45.0,55.0,55.0],\"xaxis\":\"x\",\"y\":[0.0,0.5466289191743684,0.5466289191743684,0.0],\"yaxis\":\"y2\"},{\"hoverinfo\":\"text\",\"marker\":{\"color\":\"rgb(255,65,54)\"},\"mode\":\"lines\",\"type\":\"scatter\",\"x\":[75.0,75.0,85.0,85.0],\"xaxis\":\"x\",\"y\":[0.0,0.41466681273855827,0.41466681273855827,0.0],\"yaxis\":\"y2\"},{\"hoverinfo\":\"text\",\"marker\":{\"color\":\"rgb(255,65,54)\"},\"mode\":\"lines\",\"type\":\"scatter\",\"x\":[65.0,65.0,80.0,80.0],\"xaxis\":\"x\",\"y\":[0.0,0.6385842025783323,0.6385842025783323,0.41466681273855827],\"yaxis\":\"y2\"},{\"hoverinfo\":\"text\",\"marker\":{\"color\":\"rgb(255,65,54)\"},\"mode\":\"lines\",\"type\":\"scatter\",\"x\":[50.0,50.0,72.5,72.5],\"xaxis\":\"x\",\"y\":[0.5466289191743684,0.6976133598569921,0.6976133598569921,0.6385842025783323],\"yaxis\":\"y2\"},{\"hoverinfo\":\"text\",\"marker\":{\"color\":\"rgb(255,65,54)\"},\"mode\":\"lines\",\"type\":\"scatter\",\"x\":[95.0,95.0,105.0,105.0],\"xaxis\":\"x\",\"y\":[0.0,0.48966041247567665,0.48966041247567665,0.0],\"yaxis\":\"y2\"},{\"hoverinfo\":\"text\",\"marker\":{\"color\":\"rgb(255,65,54)\"},\"mode\":\"lines\",\"type\":\"scatter\",\"x\":[61.25,61.25,100.0,100.0],\"xaxis\":\"x\",\"y\":[0.6976133598569921,0.7722362801574217,0.7722362801574217,0.48966041247567665],\"yaxis\":\"y2\"},{\"hoverinfo\":\"text\",\"marker\":{\"color\":\"rgb(0,116,217)\"},\"mode\":\"lines\",\"type\":\"scatter\",\"x\":[22.5,22.5,80.625,80.625],\"xaxis\":\"x\",\"y\":[0.984739786387532,1.0483680906778832,1.0483680906778832,0.7722362801574217],\"yaxis\":\"y2\"},{\"hoverinfo\":\"text\",\"marker\":{\"color\":\"rgb(255,65,54)\"},\"mode\":\"lines\",\"type\":\"scatter\",\"x\":[115.0,115.0,125.0,125.0],\"xaxis\":\"x\",\"y\":[0.0,0.6162389582803675,0.6162389582803675,0.0],\"yaxis\":\"y2\"},{\"hoverinfo\":\"text\",\"marker\":{\"color\":\"rgb(255,65,54)\"},\"mode\":\"lines\",\"type\":\"scatter\",\"x\":[51.5625,51.5625,120.0,120.0],\"xaxis\":\"x\",\"y\":[1.0483680906778832,1.0387830810801184,1.0387830810801184,0.6162389582803675],\"yaxis\":\"y2\"},{\"hoverinfo\":\"text\",\"marker\":{\"color\":\"rgb(0,116,217)\"},\"mode\":\"lines\",\"type\":\"scatter\",\"x\":[5.0,5.0,85.78125,85.78125],\"xaxis\":\"x\",\"y\":[0.0,1.1222231049951805,1.1222231049951805,1.0387830810801184],\"yaxis\":\"y2\"},{\"hoverinfo\":\"text\",\"marker\":{\"color\":\"rgb(0,116,217)\"},\"mode\":\"lines\",\"type\":\"scatter\",\"x\":[45.390625,45.390625,135.0,135.0],\"xaxis\":\"x\",\"y\":[1.1222231049951805,1.1623349644646408,1.1623349644646408,0.0],\"yaxis\":\"y2\"},{\"hoverinfo\":\"text\",\"marker\":{\"color\":\"rgb(35,205,205)\"},\"mode\":\"lines\",\"type\":\"scatter\",\"x\":[155.0,155.0,165.0,165.0],\"xaxis\":\"x\",\"y\":[0.0,0.5853479416966549,0.5853479416966549,0.0],\"yaxis\":\"y2\"},{\"hoverinfo\":\"text\",\"marker\":{\"color\":\"rgb(0,116,217)\"},\"mode\":\"lines\",\"type\":\"scatter\",\"x\":[145.0,145.0,160.0,160.0],\"xaxis\":\"x\",\"y\":[0.0,1.0729775945157214,1.0729775945157214,0.5853479416966549],\"yaxis\":\"y2\"},{\"hoverinfo\":\"text\",\"marker\":{\"color\":\"rgb(0,116,217)\"},\"mode\":\"lines\",\"type\":\"scatter\",\"x\":[152.5,152.5,175.0,175.0],\"xaxis\":\"x\",\"y\":[1.0729775945157214,1.1809234808670612,1.1809234808670612,0.0],\"yaxis\":\"y2\"},{\"hoverinfo\":\"text\",\"marker\":{\"color\":\"rgb(133,20,75)\"},\"mode\":\"lines\",\"type\":\"scatter\",\"x\":[185.0,185.0,195.0,195.0],\"xaxis\":\"x\",\"y\":[0.0,0.7323664942085689,0.7323664942085689,0.0],\"yaxis\":\"y2\"},{\"hoverinfo\":\"text\",\"marker\":{\"color\":\"rgb(133,20,75)\"},\"mode\":\"lines\",\"type\":\"scatter\",\"x\":[190.0,190.0,205.0,205.0],\"xaxis\":\"x\",\"y\":[0.7323664942085689,0.9689866572146281,0.9689866572146281,0.0],\"yaxis\":\"y2\"},{\"hoverinfo\":\"text\",\"marker\":{\"color\":\"rgb(255,220,0)\"},\"mode\":\"lines\",\"type\":\"scatter\",\"x\":[225.0,225.0,235.0,235.0],\"xaxis\":\"x\",\"y\":[0.0,0.5412069874490151,0.5412069874490151,0.0],\"yaxis\":\"y2\"},{\"hoverinfo\":\"text\",\"marker\":{\"color\":\"rgb(255,220,0)\"},\"mode\":\"lines\",\"type\":\"scatter\",\"x\":[215.0,215.0,230.0,230.0],\"xaxis\":\"x\",\"y\":[0.0,0.8038240766063832,0.8038240766063832,0.5412069874490151],\"yaxis\":\"y2\"},{\"hoverinfo\":\"text\",\"marker\":{\"color\":\"rgb(255,220,0)\"},\"mode\":\"lines\",\"type\":\"scatter\",\"x\":[255.0,255.0,265.0,265.0],\"xaxis\":\"x\",\"y\":[0.0,0.7472015068547558,0.7472015068547558,0.0],\"yaxis\":\"y2\"},{\"hoverinfo\":\"text\",\"marker\":{\"color\":\"rgb(255,220,0)\"},\"mode\":\"lines\",\"type\":\"scatter\",\"x\":[245.0,245.0,260.0,260.0],\"xaxis\":\"x\",\"y\":[0.0,0.9286019212205604,0.9286019212205604,0.7472015068547558],\"yaxis\":\"y2\"},{\"hoverinfo\":\"text\",\"marker\":{\"color\":\"rgb(255,220,0)\"},\"mode\":\"lines\",\"type\":\"scatter\",\"x\":[222.5,222.5,252.5,252.5],\"xaxis\":\"x\",\"y\":[0.8038240766063832,1.0085186606098258,1.0085186606098258,0.9286019212205604],\"yaxis\":\"y2\"},{\"hoverinfo\":\"text\",\"marker\":{\"color\":\"rgb(0,116,217)\"},\"mode\":\"lines\",\"type\":\"scatter\",\"x\":[197.5,197.5,237.5,237.5],\"xaxis\":\"x\",\"y\":[0.9689866572146281,1.0752681199392076,1.0752681199392076,1.0085186606098258],\"yaxis\":\"y2\"},{\"hoverinfo\":\"text\",\"marker\":{\"color\":\"rgb(0,116,217)\"},\"mode\":\"lines\",\"type\":\"scatter\",\"x\":[163.75,163.75,217.5,217.5],\"xaxis\":\"x\",\"y\":[1.1809234808670612,1.307981820976663,1.307981820976663,1.0752681199392076],\"yaxis\":\"y2\"},{\"hoverinfo\":\"text\",\"marker\":{\"color\":\"rgb(0,116,217)\"},\"mode\":\"lines\",\"type\":\"scatter\",\"x\":[90.1953125,90.1953125,190.625,190.625],\"xaxis\":\"x\",\"y\":[1.1623349644646408,1.4848431026580822,1.4848431026580822,1.307981820976663],\"yaxis\":\"y2\"},{\"hoverinfo\":\"text\",\"marker\":{\"color\":\"rgb(61,153,112)\"},\"mode\":\"lines\",\"type\":\"scatter\",\"x\":[-0.0,-0.38780956796418764,-0.38780956796418764,-0.0],\"xaxis\":\"x2\",\"y\":[25.0,25.0,35.0,35.0],\"yaxis\":\"y\"},{\"hoverinfo\":\"text\",\"marker\":{\"color\":\"rgb(61,153,112)\"},\"mode\":\"lines\",\"type\":\"scatter\",\"x\":[-0.0,-0.984739786387532,-0.984739786387532,-0.38780956796418764],\"xaxis\":\"x2\",\"y\":[15.0,15.0,30.0,30.0],\"yaxis\":\"y\"},{\"hoverinfo\":\"text\",\"marker\":{\"color\":\"rgb(255,65,54)\"},\"mode\":\"lines\",\"type\":\"scatter\",\"x\":[-0.0,-0.5466289191743684,-0.5466289191743684,-0.0],\"xaxis\":\"x2\",\"y\":[45.0,45.0,55.0,55.0],\"yaxis\":\"y\"},{\"hoverinfo\":\"text\",\"marker\":{\"color\":\"rgb(255,65,54)\"},\"mode\":\"lines\",\"type\":\"scatter\",\"x\":[-0.0,-0.41466681273855827,-0.41466681273855827,-0.0],\"xaxis\":\"x2\",\"y\":[75.0,75.0,85.0,85.0],\"yaxis\":\"y\"},{\"hoverinfo\":\"text\",\"marker\":{\"color\":\"rgb(255,65,54)\"},\"mode\":\"lines\",\"type\":\"scatter\",\"x\":[-0.0,-0.6385842025783323,-0.6385842025783323,-0.41466681273855827],\"xaxis\":\"x2\",\"y\":[65.0,65.0,80.0,80.0],\"yaxis\":\"y\"},{\"hoverinfo\":\"text\",\"marker\":{\"color\":\"rgb(255,65,54)\"},\"mode\":\"lines\",\"type\":\"scatter\",\"x\":[-0.5466289191743684,-0.6976133598569921,-0.6976133598569921,-0.6385842025783323],\"xaxis\":\"x2\",\"y\":[50.0,50.0,72.5,72.5],\"yaxis\":\"y\"},{\"hoverinfo\":\"text\",\"marker\":{\"color\":\"rgb(255,65,54)\"},\"mode\":\"lines\",\"type\":\"scatter\",\"x\":[-0.0,-0.48966041247567665,-0.48966041247567665,-0.0],\"xaxis\":\"x2\",\"y\":[95.0,95.0,105.0,105.0],\"yaxis\":\"y\"},{\"hoverinfo\":\"text\",\"marker\":{\"color\":\"rgb(255,65,54)\"},\"mode\":\"lines\",\"type\":\"scatter\",\"x\":[-0.6976133598569921,-0.7722362801574217,-0.7722362801574217,-0.48966041247567665],\"xaxis\":\"x2\",\"y\":[61.25,61.25,100.0,100.0],\"yaxis\":\"y\"},{\"hoverinfo\":\"text\",\"marker\":{\"color\":\"rgb(0,116,217)\"},\"mode\":\"lines\",\"type\":\"scatter\",\"x\":[-0.984739786387532,-1.0483680906778832,-1.0483680906778832,-0.7722362801574217],\"xaxis\":\"x2\",\"y\":[22.5,22.5,80.625,80.625],\"yaxis\":\"y\"},{\"hoverinfo\":\"text\",\"marker\":{\"color\":\"rgb(255,65,54)\"},\"mode\":\"lines\",\"type\":\"scatter\",\"x\":[-0.0,-0.6162389582803675,-0.6162389582803675,-0.0],\"xaxis\":\"x2\",\"y\":[115.0,115.0,125.0,125.0],\"yaxis\":\"y\"},{\"hoverinfo\":\"text\",\"marker\":{\"color\":\"rgb(255,65,54)\"},\"mode\":\"lines\",\"type\":\"scatter\",\"x\":[-1.0483680906778832,-1.0387830810801184,-1.0387830810801184,-0.6162389582803675],\"xaxis\":\"x2\",\"y\":[51.5625,51.5625,120.0,120.0],\"yaxis\":\"y\"},{\"hoverinfo\":\"text\",\"marker\":{\"color\":\"rgb(0,116,217)\"},\"mode\":\"lines\",\"type\":\"scatter\",\"x\":[-0.0,-1.1222231049951805,-1.1222231049951805,-1.0387830810801184],\"xaxis\":\"x2\",\"y\":[5.0,5.0,85.78125,85.78125],\"yaxis\":\"y\"},{\"hoverinfo\":\"text\",\"marker\":{\"color\":\"rgb(0,116,217)\"},\"mode\":\"lines\",\"type\":\"scatter\",\"x\":[-1.1222231049951805,-1.1623349644646408,-1.1623349644646408,-0.0],\"xaxis\":\"x2\",\"y\":[45.390625,45.390625,135.0,135.0],\"yaxis\":\"y\"},{\"hoverinfo\":\"text\",\"marker\":{\"color\":\"rgb(35,205,205)\"},\"mode\":\"lines\",\"type\":\"scatter\",\"x\":[-0.0,-0.5853479416966549,-0.5853479416966549,-0.0],\"xaxis\":\"x2\",\"y\":[155.0,155.0,165.0,165.0],\"yaxis\":\"y\"},{\"hoverinfo\":\"text\",\"marker\":{\"color\":\"rgb(0,116,217)\"},\"mode\":\"lines\",\"type\":\"scatter\",\"x\":[-0.0,-1.0729775945157214,-1.0729775945157214,-0.5853479416966549],\"xaxis\":\"x2\",\"y\":[145.0,145.0,160.0,160.0],\"yaxis\":\"y\"},{\"hoverinfo\":\"text\",\"marker\":{\"color\":\"rgb(0,116,217)\"},\"mode\":\"lines\",\"type\":\"scatter\",\"x\":[-1.0729775945157214,-1.1809234808670612,-1.1809234808670612,-0.0],\"xaxis\":\"x2\",\"y\":[152.5,152.5,175.0,175.0],\"yaxis\":\"y\"},{\"hoverinfo\":\"text\",\"marker\":{\"color\":\"rgb(133,20,75)\"},\"mode\":\"lines\",\"type\":\"scatter\",\"x\":[-0.0,-0.7323664942085689,-0.7323664942085689,-0.0],\"xaxis\":\"x2\",\"y\":[185.0,185.0,195.0,195.0],\"yaxis\":\"y\"},{\"hoverinfo\":\"text\",\"marker\":{\"color\":\"rgb(133,20,75)\"},\"mode\":\"lines\",\"type\":\"scatter\",\"x\":[-0.7323664942085689,-0.9689866572146281,-0.9689866572146281,-0.0],\"xaxis\":\"x2\",\"y\":[190.0,190.0,205.0,205.0],\"yaxis\":\"y\"},{\"hoverinfo\":\"text\",\"marker\":{\"color\":\"rgb(255,220,0)\"},\"mode\":\"lines\",\"type\":\"scatter\",\"x\":[-0.0,-0.5412069874490151,-0.5412069874490151,-0.0],\"xaxis\":\"x2\",\"y\":[225.0,225.0,235.0,235.0],\"yaxis\":\"y\"},{\"hoverinfo\":\"text\",\"marker\":{\"color\":\"rgb(255,220,0)\"},\"mode\":\"lines\",\"type\":\"scatter\",\"x\":[-0.0,-0.8038240766063832,-0.8038240766063832,-0.5412069874490151],\"xaxis\":\"x2\",\"y\":[215.0,215.0,230.0,230.0],\"yaxis\":\"y\"},{\"hoverinfo\":\"text\",\"marker\":{\"color\":\"rgb(255,220,0)\"},\"mode\":\"lines\",\"type\":\"scatter\",\"x\":[-0.0,-0.7472015068547558,-0.7472015068547558,-0.0],\"xaxis\":\"x2\",\"y\":[255.0,255.0,265.0,265.0],\"yaxis\":\"y\"},{\"hoverinfo\":\"text\",\"marker\":{\"color\":\"rgb(255,220,0)\"},\"mode\":\"lines\",\"type\":\"scatter\",\"x\":[-0.0,-0.9286019212205604,-0.9286019212205604,-0.7472015068547558],\"xaxis\":\"x2\",\"y\":[245.0,245.0,260.0,260.0],\"yaxis\":\"y\"},{\"hoverinfo\":\"text\",\"marker\":{\"color\":\"rgb(255,220,0)\"},\"mode\":\"lines\",\"type\":\"scatter\",\"x\":[-0.8038240766063832,-1.0085186606098258,-1.0085186606098258,-0.9286019212205604],\"xaxis\":\"x2\",\"y\":[222.5,222.5,252.5,252.5],\"yaxis\":\"y\"},{\"hoverinfo\":\"text\",\"marker\":{\"color\":\"rgb(0,116,217)\"},\"mode\":\"lines\",\"type\":\"scatter\",\"x\":[-0.9689866572146281,-1.0752681199392076,-1.0752681199392076,-1.0085186606098258],\"xaxis\":\"x2\",\"y\":[197.5,197.5,237.5,237.5],\"yaxis\":\"y\"},{\"hoverinfo\":\"text\",\"marker\":{\"color\":\"rgb(0,116,217)\"},\"mode\":\"lines\",\"type\":\"scatter\",\"x\":[-1.1809234808670612,-1.307981820976663,-1.307981820976663,-1.0752681199392076],\"xaxis\":\"x2\",\"y\":[163.75,163.75,217.5,217.5],\"yaxis\":\"y\"},{\"hoverinfo\":\"text\",\"marker\":{\"color\":\"rgb(0,116,217)\"},\"mode\":\"lines\",\"type\":\"scatter\",\"x\":[-1.1623349644646408,-1.4848431026580822,-1.4848431026580822,-1.307981820976663],\"xaxis\":\"x2\",\"y\":[90.1953125,90.1953125,190.625,190.625],\"yaxis\":\"y\"},{\"colorbar\":{\"title\":{\"text\":\"Coff Tanimoto\"}},\"type\":\"heatmap\",\"x\":[5.0,15.0,25.0,35.0,45.0,55.0,65.0,75.0,85.0,95.0,105.0,115.0,125.0,135.0,145.0,155.0,165.0,175.0,185.0,195.0,205.0,215.0,225.0,235.0,245.0,255.0,265.0],\"y\":[5.0,15.0,25.0,35.0,45.0,55.0,65.0,75.0,85.0,95.0,105.0,115.0,125.0,135.0,145.0,155.0,165.0,175.0,185.0,195.0,205.0,215.0,225.0,235.0,245.0,255.0,265.0],\"z\":[[1.0,0.2558139534883721,0.24242424242424243,0.26666666666666666,0.37037037037037035,0.25925925925925924,0.18518518518518517,0.21428571428571427,0.2413793103448276,0.25925925925925924,0.18518518518518517,0.15384615384615385,0.11864406779661017,0.13953488372093023,0.037037037037037035,0.034482758620689655,0.03225806451612903,0.022988505747126436,0.0,0.0,0.0,0.038834951456310676,0.05384615384615385,0.046242774566473986,0.017543859649122806,0.02072538860103627,0.0106951871657754],[0.2558139534883721,1.0,0.4642857142857143,0.4074074074074074,0.32142857142857145,0.25925925925925924,0.18518518518518517,0.25925925925925924,0.2413793103448276,0.1724137931034483,0.14285714285714285,0.11940298507462686,0.1,0.11363636363636363,0.037037037037037035,0.034482758620689655,0.03225806451612903,0.03488372093023256,0.015625,0.022222222222222223,0.012578616352201259,0.04390243902439024,0.05384615384615385,0.046242774566473986,0.017543859649122806,0.031413612565445025,0.02717391304347826],[0.24242424242424243,0.4642857142857143,1.0,0.7857142857142857,0.4117647058823529,0.5,0.35714285714285715,0.3125,0.2777777777777778,0.23529411764705882,0.26666666666666666,0.1951219512195122,0.17647058823529413,0.16129032258064516,0.07142857142857142,0.0625,0.05555555555555555,0.03278688524590164,0.009708737864077669,0.015384615384615385,0.007462686567164179,0.03296703296703297,0.05714285714285714,0.0472972972972973,0.022727272727272728,0.023952095808383235,0.012422360248447204],[0.26666666666666666,0.4074074074074074,0.7857142857142857,1.0,0.5,0.6363636363636364,0.45454545454545453,0.38461538461538464,0.3333333333333333,0.2857142857142857,0.3333333333333333,0.22857142857142856,0.21428571428571427,0.17857142857142858,0.09090909090909091,0.07692307692307693,0.06666666666666667,0.03636363636363636,0.010309278350515464,0.01694915254237288,0.0078125,0.03409090909090909,0.06060606060606061,0.04929577464788732,0.024390243902439025,0.024844720496894408,0.012903225806451613],[0.37037037037037035,0.32142857142857145,0.4117647058823529,0.5,1.0,0.7,0.5,0.5454545454545454,0.46153846153846156,0.4166666666666667,0.36363636363636365,0.24242424242424243,0.23076923076923078,0.18518518518518517,0.1,0.08333333333333333,0.07142857142857142,0.03773584905660377,0.0,0.0,0.0,0.034482758620689655,0.061855670103092786,0.05,0.025,0.01875,0.006493506493506494],[0.25925925925925924,0.25925925925925924,0.5,0.6363636363636364,0.7,1.0,0.7142857142857143,0.5555555555555556,0.45454545454545453,0.4,0.5,0.2962962962962963,0.3,0.20833333333333334,0.14285714285714285,0.1111111111111111,0.09090909090909091,0.0425531914893617,0.0,0.0,0.0,0.03571428571428571,0.06593406593406594,0.05223880597014925,0.02702702702702703,0.01948051948051948,0.006756756756756757],[0.18518518518518517,0.18518518518518517,0.35714285714285715,0.45454545454545453,0.5,0.7142857142857143,1.0,0.7142857142857143,0.5555555555555556,0.5,0.6666666666666666,0.34782608695652173,0.375,0.22727272727272727,0.2,0.14285714285714285,0.1111111111111111,0.046511627906976744,0.0,0.0,0.0,0.036585365853658534,0.06896551724137931,0.04580152671755725,0.02857142857142857,0.02,0.006944444444444444],[0.21428571428571427,0.25925925925925924,0.3125,0.38461538461538464,0.5454545454545454,0.5555555555555556,0.7142857142857143,1.0,0.7777777777777778,0.5555555555555556,0.5,0.2962962962962963,0.3,0.20833333333333334,0.14285714285714285,0.1111111111111111,0.09090909090909091,0.0425531914893617,0.0,0.0,0.0,0.03571428571428571,0.06593406593406594,0.044444444444444446,0.02702702702702703,0.01948051948051948,0.006756756756756757],[0.2413793103448276,0.2413793103448276,0.2777777777777778,0.3333333333333333,0.46153846153846156,0.45454545454545453,0.5555555555555556,0.7777777777777778,1.0,0.45454545454545453,0.4,0.25806451612903225,0.25,0.21568627450980393,0.1111111111111111,0.09090909090909091,0.07692307692307693,0.0392156862745098,0.0,0.0,0.0,0.03488372093023256,0.06315789473684211,0.04316546762589928,0.02564102564102564,0.0189873417721519,0.006578947368421052],[0.25925925925925924,0.1724137931034483,0.23529411764705882,0.2857142857142857,0.4166666666666667,0.4,0.5,0.5555555555555556,0.45454545454545453,1.0,0.7142857142857143,0.4,0.3684210526315789,0.20833333333333334,0.14285714285714285,0.1111111111111111,0.09090909090909091,0.0425531914893617,0.0,0.0,0.0,0.03571428571428571,0.06593406593406594,0.044444444444444446,0.02702702702702703,0.01948051948051948,0.006756756756756757],[0.18518518518518517,0.14285714285714285,0.26666666666666666,0.3333333333333333,0.36363636363636365,0.5,0.6666666666666666,0.5,0.4,0.7142857142857143,1.0,0.47619047619047616,0.4666666666666667,0.2,0.2,0.14285714285714285,0.1111111111111111,0.046511627906976744,0.0,0.0,0.0,0.036585365853658534,0.06896551724137931,0.04580152671755725,0.02857142857142857,0.02,0.006944444444444444],[0.15384615384615385,0.11940298507462686,0.1951219512195122,0.22857142857142856,0.24242424242424243,0.2962962962962963,0.34782608695652173,0.2962962962962963,0.25806451612903225,0.4,0.47619047619047616,1.0,0.5714285714285714,0.27450980392156865,0.09523809523809523,0.08,0.06896551724137931,0.09803921568627451,0.0,0.0,0.0,0.040229885057471264,0.061224489795918366,0.04225352112676056,0.024691358024691357,0.018633540372670808,0.012987012987012988],[0.11864406779661017,0.1,0.17647058823529413,0.21428571428571427,0.23076923076923078,0.3,0.375,0.3,0.25,0.3684210526315789,0.4666666666666667,0.5714285714285714,1.0,0.2727272727272727,0.16666666666666666,0.125,0.1,0.09302325581395349,0.0,0.0,0.0,0.04242424242424243,0.06741573033707865,0.045112781954887216,0.027777777777777776,0.019736842105263157,0.013793103448275862],[0.13953488372093023,0.11363636363636363,0.16129032258064516,0.17857142857142858,0.18518518518518517,0.20833333333333334,0.22727272727272727,0.20833333333333334,0.21568627450980393,0.20833333333333334,0.2,0.27450980392156865,0.2727272727272727,1.0,0.045454545454545456,0.041666666666666664,0.038461538461538464,0.05333333333333334,0.02564102564102564,0.012345679012345678,0.013422818791946308,0.03553299492385787,0.049586776859504134,0.042682926829268296,0.019230769230769232,0.027472527472527472,0.028735632183908046],[0.037037037037037035,0.037037037037037035,0.07142857142857142,0.09090909090909091,0.1,0.14285714285714285,0.2,0.14285714285714285,0.1111111111111111,0.14285714285714285,0.2,0.09523809523809523,0.16666666666666666,0.045454545454545456,1.0,0.3333333333333333,0.2,0.05714285714285714,0.0,0.0,0.0,0.0125,0.024096385542168676,0.015748031496062992,0.03225806451612903,0.013986013986013986,0.007352941176470588],[0.034482758620689655,0.034482758620689655,0.0625,0.07692307692307693,0.08333333333333333,0.1111111111111111,0.14285714285714285,0.1111111111111111,0.09090909090909091,0.1111111111111111,0.14285714285714285,0.08,0.125,0.041666666666666664,0.3333333333333333,1.0,0.6,0.17142857142857143,0.0,0.0,0.0,0.012195121951219513,0.022988505747126436,0.015267175572519083,0.030303030303030304,0.013605442176870748,0.007142857142857143],[0.03225806451612903,0.03225806451612903,0.05555555555555555,0.06666666666666667,0.07142857142857142,0.09090909090909091,0.1111111111111111,0.09090909090909091,0.07692307692307693,0.09090909090909091,0.1111111111111111,0.06896551724137931,0.1,0.038461538461538464,0.2,0.6,1.0,0.18421052631578946,0.011764705882352941,0.0,0.0,0.011904761904761904,0.02197802197802198,0.022388059701492536,0.02857142857142857,0.013245033112582781,0.006944444444444444],[0.022988505747126436,0.03488372093023256,0.03278688524590164,0.03636363636363636,0.03773584905660377,0.0425531914893617,0.046511627906976744,0.0425531914893617,0.0392156862745098,0.0425531914893617,0.046511627906976744,0.09803921568627451,0.09302325581395349,0.05333333333333334,0.05714285714285714,0.17142857142857143,0.18421052631578946,1.0,0.00909090909090909,0.013888888888888888,0.014285714285714285,0.015625,0.017241379310344827,0.018867924528301886,0.021052631578947368,0.017142857142857144,0.017964071856287425],[0.0,0.015625,0.009708737864077669,0.010309278350515464,0.0,0.0,0.0,0.0,0.0,0.0,0.0,0.0,0.0,0.02564102564102564,0.0,0.0,0.011764705882352941,0.00909090909090909,1.0,0.5,0.2708333333333333,0.0776255707762557,0.11188811188811189,0.25308641975308643,0.11290322580645161,0.07881773399014778,0.22674418604651161],[0.0,0.022222222222222223,0.015384615384615385,0.01694915254237288,0.0,0.0,0.0,0.0,0.0,0.0,0.0,0.0,0.0,0.012345679012345678,0.0,0.0,0.0,0.013888888888888888,0.5,1.0,0.35514018691588783,0.08196721311475409,0.14150943396226415,0.1,0.14942528735632185,0.09036144578313253,0.2814814814814815],[0.0,0.012578616352201259,0.007462686567164179,0.0078125,0.0,0.0,0.0,0.0,0.0,0.0,0.0,0.0,0.0,0.013422818791946308,0.0,0.0,0.0,0.014285714285714285,0.2708333333333333,0.35514018691588783,1.0,0.3417085427135678,0.09826589595375723,0.08333333333333333,0.09032258064516129,0.09170305676855896,0.21608040201005024],[0.038834951456310676,0.04390243902439024,0.03296703296703297,0.03409090909090909,0.034482758620689655,0.03571428571428571,0.036585365853658534,0.03571428571428571,0.03488372093023256,0.03571428571428571,0.036585365853658534,0.040229885057471264,0.04242424242424243,0.03553299492385787,0.0125,0.012195121951219513,0.011904761904761904,0.015625,0.0776255707762557,0.08196721311475409,0.3417085427135678,1.0,0.51875,0.41379310344827586,0.23333333333333334,0.1976284584980237,0.1752988047808765],[0.05384615384615385,0.05384615384615385,0.05714285714285714,0.06060606060606061,0.061855670103092786,0.06593406593406594,0.06896551724137931,0.06593406593406594,0.06315789473684211,0.06593406593406594,0.06896551724137931,0.061224489795918366,0.06741573033707865,0.049586776859504134,0.024096385542168676,0.022988505747126436,0.02197802197802198,0.017241379310344827,0.11188811188811189,0.14150943396226415,0.09826589595375723,0.51875,1.0,0.6535433070866141,0.4077669902912621,0.24861878453038674,0.2247191011235955],[0.046242774566473986,0.046242774566473986,0.0472972972972973,0.04929577464788732,0.05,0.05223880597014925,0.04580152671755725,0.044444444444444446,0.04316546762589928,0.044444444444444446,0.04580152671755725,0.04225352112676056,0.045112781954887216,0.042682926829268296,0.015748031496062992,0.015267175572519083,0.022388059701492536,0.018867924528301886,0.25308641975308643,0.1,0.08333333333333333,0.41379310344827586,0.6535433070866141,1.0,0.2945205479452055,0.20535714285714285,0.19090909090909092],[0.017543859649122806,0.017543859649122806,0.022727272727272728,0.024390243902439025,0.025,0.02702702702702703,0.02857142857142857,0.02702702702702703,0.02564102564102564,0.02702702702702703,0.02857142857142857,0.024691358024691357,0.027777777777777776,0.019230769230769232,0.03225806451612903,0.030303030303030304,0.02857142857142857,0.021052631578947368,0.11290322580645161,0.14942528735632185,0.09032258064516129,0.23333333333333334,0.4077669902912621,0.2945205479452055,1.0,0.43356643356643354,0.2468354430379747],[0.02072538860103627,0.031413612565445025,0.023952095808383235,0.024844720496894408,0.01875,0.01948051948051948,0.02,0.01948051948051948,0.0189873417721519,0.01948051948051948,0.02,0.018633540372670808,0.019736842105263157,0.027472527472527472,0.013986013986013986,0.013605442176870748,0.013245033112582781,0.017142857142857144,0.07881773399014778,0.09036144578313253,0.09170305676855896,0.1976284584980237,0.24861878453038674,0.20535714285714285,0.43356643356643354,1.0,0.5274725274725275],[0.0106951871657754,0.02717391304347826,0.012422360248447204,0.012903225806451613,0.006493506493506494,0.006756756756756757,0.006944444444444444,0.006756756756756757,0.006578947368421052,0.006756756756756757,0.006944444444444444,0.012987012987012988,0.013793103448275862,0.028735632183908046,0.007352941176470588,0.007142857142857143,0.006944444444444444,0.017964071856287425,0.22674418604651161,0.2814814814814815,0.21608040201005024,0.1752988047808765,0.2247191011235955,0.19090909090909092,0.2468354430379747,0.5274725274725275,1.0]]}],                        {\"autosize\":false,\"height\":800,\"hovermode\":\"closest\",\"showlegend\":false,\"template\":{\"data\":{\"bar\":[{\"error_x\":{\"color\":\"#2a3f5f\"},\"error_y\":{\"color\":\"#2a3f5f\"},\"marker\":{\"line\":{\"color\":\"#E5ECF6\",\"width\":0.5},\"pattern\":{\"fillmode\":\"overlay\",\"size\":10,\"solidity\":0.2}},\"type\":\"bar\"}],\"barpolar\":[{\"marker\":{\"line\":{\"color\":\"#E5ECF6\",\"width\":0.5},\"pattern\":{\"fillmode\":\"overlay\",\"size\":10,\"solidity\":0.2}},\"type\":\"barpolar\"}],\"carpet\":[{\"aaxis\":{\"endlinecolor\":\"#2a3f5f\",\"gridcolor\":\"white\",\"linecolor\":\"white\",\"minorgridcolor\":\"white\",\"startlinecolor\":\"#2a3f5f\"},\"baxis\":{\"endlinecolor\":\"#2a3f5f\",\"gridcolor\":\"white\",\"linecolor\":\"white\",\"minorgridcolor\":\"white\",\"startlinecolor\":\"#2a3f5f\"},\"type\":\"carpet\"}],\"choropleth\":[{\"colorbar\":{\"outlinewidth\":0,\"ticks\":\"\"},\"type\":\"choropleth\"}],\"contour\":[{\"colorbar\":{\"outlinewidth\":0,\"ticks\":\"\"},\"colorscale\":[[0.0,\"#0d0887\"],[0.1111111111111111,\"#46039f\"],[0.2222222222222222,\"#7201a8\"],[0.3333333333333333,\"#9c179e\"],[0.4444444444444444,\"#bd3786\"],[0.5555555555555556,\"#d8576b\"],[0.6666666666666666,\"#ed7953\"],[0.7777777777777778,\"#fb9f3a\"],[0.8888888888888888,\"#fdca26\"],[1.0,\"#f0f921\"]],\"type\":\"contour\"}],\"contourcarpet\":[{\"colorbar\":{\"outlinewidth\":0,\"ticks\":\"\"},\"type\":\"contourcarpet\"}],\"heatmap\":[{\"colorbar\":{\"outlinewidth\":0,\"ticks\":\"\"},\"colorscale\":[[0.0,\"#0d0887\"],[0.1111111111111111,\"#46039f\"],[0.2222222222222222,\"#7201a8\"],[0.3333333333333333,\"#9c179e\"],[0.4444444444444444,\"#bd3786\"],[0.5555555555555556,\"#d8576b\"],[0.6666666666666666,\"#ed7953\"],[0.7777777777777778,\"#fb9f3a\"],[0.8888888888888888,\"#fdca26\"],[1.0,\"#f0f921\"]],\"type\":\"heatmap\"}],\"heatmapgl\":[{\"colorbar\":{\"outlinewidth\":0,\"ticks\":\"\"},\"colorscale\":[[0.0,\"#0d0887\"],[0.1111111111111111,\"#46039f\"],[0.2222222222222222,\"#7201a8\"],[0.3333333333333333,\"#9c179e\"],[0.4444444444444444,\"#bd3786\"],[0.5555555555555556,\"#d8576b\"],[0.6666666666666666,\"#ed7953\"],[0.7777777777777778,\"#fb9f3a\"],[0.8888888888888888,\"#fdca26\"],[1.0,\"#f0f921\"]],\"type\":\"heatmapgl\"}],\"histogram\":[{\"marker\":{\"pattern\":{\"fillmode\":\"overlay\",\"size\":10,\"solidity\":0.2}},\"type\":\"histogram\"}],\"histogram2d\":[{\"colorbar\":{\"outlinewidth\":0,\"ticks\":\"\"},\"colorscale\":[[0.0,\"#0d0887\"],[0.1111111111111111,\"#46039f\"],[0.2222222222222222,\"#7201a8\"],[0.3333333333333333,\"#9c179e\"],[0.4444444444444444,\"#bd3786\"],[0.5555555555555556,\"#d8576b\"],[0.6666666666666666,\"#ed7953\"],[0.7777777777777778,\"#fb9f3a\"],[0.8888888888888888,\"#fdca26\"],[1.0,\"#f0f921\"]],\"type\":\"histogram2d\"}],\"histogram2dcontour\":[{\"colorbar\":{\"outlinewidth\":0,\"ticks\":\"\"},\"colorscale\":[[0.0,\"#0d0887\"],[0.1111111111111111,\"#46039f\"],[0.2222222222222222,\"#7201a8\"],[0.3333333333333333,\"#9c179e\"],[0.4444444444444444,\"#bd3786\"],[0.5555555555555556,\"#d8576b\"],[0.6666666666666666,\"#ed7953\"],[0.7777777777777778,\"#fb9f3a\"],[0.8888888888888888,\"#fdca26\"],[1.0,\"#f0f921\"]],\"type\":\"histogram2dcontour\"}],\"mesh3d\":[{\"colorbar\":{\"outlinewidth\":0,\"ticks\":\"\"},\"type\":\"mesh3d\"}],\"parcoords\":[{\"line\":{\"colorbar\":{\"outlinewidth\":0,\"ticks\":\"\"}},\"type\":\"parcoords\"}],\"pie\":[{\"automargin\":true,\"type\":\"pie\"}],\"scatter\":[{\"marker\":{\"colorbar\":{\"outlinewidth\":0,\"ticks\":\"\"}},\"type\":\"scatter\"}],\"scatter3d\":[{\"line\":{\"colorbar\":{\"outlinewidth\":0,\"ticks\":\"\"}},\"marker\":{\"colorbar\":{\"outlinewidth\":0,\"ticks\":\"\"}},\"type\":\"scatter3d\"}],\"scattercarpet\":[{\"marker\":{\"colorbar\":{\"outlinewidth\":0,\"ticks\":\"\"}},\"type\":\"scattercarpet\"}],\"scattergeo\":[{\"marker\":{\"colorbar\":{\"outlinewidth\":0,\"ticks\":\"\"}},\"type\":\"scattergeo\"}],\"scattergl\":[{\"marker\":{\"colorbar\":{\"outlinewidth\":0,\"ticks\":\"\"}},\"type\":\"scattergl\"}],\"scattermapbox\":[{\"marker\":{\"colorbar\":{\"outlinewidth\":0,\"ticks\":\"\"}},\"type\":\"scattermapbox\"}],\"scatterpolar\":[{\"marker\":{\"colorbar\":{\"outlinewidth\":0,\"ticks\":\"\"}},\"type\":\"scatterpolar\"}],\"scatterpolargl\":[{\"marker\":{\"colorbar\":{\"outlinewidth\":0,\"ticks\":\"\"}},\"type\":\"scatterpolargl\"}],\"scatterternary\":[{\"marker\":{\"colorbar\":{\"outlinewidth\":0,\"ticks\":\"\"}},\"type\":\"scatterternary\"}],\"surface\":[{\"colorbar\":{\"outlinewidth\":0,\"ticks\":\"\"},\"colorscale\":[[0.0,\"#0d0887\"],[0.1111111111111111,\"#46039f\"],[0.2222222222222222,\"#7201a8\"],[0.3333333333333333,\"#9c179e\"],[0.4444444444444444,\"#bd3786\"],[0.5555555555555556,\"#d8576b\"],[0.6666666666666666,\"#ed7953\"],[0.7777777777777778,\"#fb9f3a\"],[0.8888888888888888,\"#fdca26\"],[1.0,\"#f0f921\"]],\"type\":\"surface\"}],\"table\":[{\"cells\":{\"fill\":{\"color\":\"#EBF0F8\"},\"line\":{\"color\":\"white\"}},\"header\":{\"fill\":{\"color\":\"#C8D4E3\"},\"line\":{\"color\":\"white\"}},\"type\":\"table\"}]},\"layout\":{\"annotationdefaults\":{\"arrowcolor\":\"#2a3f5f\",\"arrowhead\":0,\"arrowwidth\":1},\"autotypenumbers\":\"strict\",\"coloraxis\":{\"colorbar\":{\"outlinewidth\":0,\"ticks\":\"\"}},\"colorscale\":{\"diverging\":[[0,\"#8e0152\"],[0.1,\"#c51b7d\"],[0.2,\"#de77ae\"],[0.3,\"#f1b6da\"],[0.4,\"#fde0ef\"],[0.5,\"#f7f7f7\"],[0.6,\"#e6f5d0\"],[0.7,\"#b8e186\"],[0.8,\"#7fbc41\"],[0.9,\"#4d9221\"],[1,\"#276419\"]],\"sequential\":[[0.0,\"#0d0887\"],[0.1111111111111111,\"#46039f\"],[0.2222222222222222,\"#7201a8\"],[0.3333333333333333,\"#9c179e\"],[0.4444444444444444,\"#bd3786\"],[0.5555555555555556,\"#d8576b\"],[0.6666666666666666,\"#ed7953\"],[0.7777777777777778,\"#fb9f3a\"],[0.8888888888888888,\"#fdca26\"],[1.0,\"#f0f921\"]],\"sequentialminus\":[[0.0,\"#0d0887\"],[0.1111111111111111,\"#46039f\"],[0.2222222222222222,\"#7201a8\"],[0.3333333333333333,\"#9c179e\"],[0.4444444444444444,\"#bd3786\"],[0.5555555555555556,\"#d8576b\"],[0.6666666666666666,\"#ed7953\"],[0.7777777777777778,\"#fb9f3a\"],[0.8888888888888888,\"#fdca26\"],[1.0,\"#f0f921\"]]},\"colorway\":[\"#636efa\",\"#EF553B\",\"#00cc96\",\"#ab63fa\",\"#FFA15A\",\"#19d3f3\",\"#FF6692\",\"#B6E880\",\"#FF97FF\",\"#FECB52\"],\"font\":{\"color\":\"#2a3f5f\"},\"geo\":{\"bgcolor\":\"white\",\"lakecolor\":\"white\",\"landcolor\":\"#E5ECF6\",\"showlakes\":true,\"showland\":true,\"subunitcolor\":\"white\"},\"hoverlabel\":{\"align\":\"left\"},\"hovermode\":\"closest\",\"mapbox\":{\"style\":\"light\"},\"paper_bgcolor\":\"white\",\"plot_bgcolor\":\"#E5ECF6\",\"polar\":{\"angularaxis\":{\"gridcolor\":\"white\",\"linecolor\":\"white\",\"ticks\":\"\"},\"bgcolor\":\"#E5ECF6\",\"radialaxis\":{\"gridcolor\":\"white\",\"linecolor\":\"white\",\"ticks\":\"\"}},\"scene\":{\"xaxis\":{\"backgroundcolor\":\"#E5ECF6\",\"gridcolor\":\"white\",\"gridwidth\":2,\"linecolor\":\"white\",\"showbackground\":true,\"ticks\":\"\",\"zerolinecolor\":\"white\"},\"yaxis\":{\"backgroundcolor\":\"#E5ECF6\",\"gridcolor\":\"white\",\"gridwidth\":2,\"linecolor\":\"white\",\"showbackground\":true,\"ticks\":\"\",\"zerolinecolor\":\"white\"},\"zaxis\":{\"backgroundcolor\":\"#E5ECF6\",\"gridcolor\":\"white\",\"gridwidth\":2,\"linecolor\":\"white\",\"showbackground\":true,\"ticks\":\"\",\"zerolinecolor\":\"white\"}},\"shapedefaults\":{\"line\":{\"color\":\"#2a3f5f\"}},\"ternary\":{\"aaxis\":{\"gridcolor\":\"white\",\"linecolor\":\"white\",\"ticks\":\"\"},\"baxis\":{\"gridcolor\":\"white\",\"linecolor\":\"white\",\"ticks\":\"\"},\"bgcolor\":\"#E5ECF6\",\"caxis\":{\"gridcolor\":\"white\",\"linecolor\":\"white\",\"ticks\":\"\"}},\"title\":{\"x\":0.05},\"xaxis\":{\"automargin\":true,\"gridcolor\":\"white\",\"linecolor\":\"white\",\"ticks\":\"\",\"title\":{\"standoff\":15},\"zerolinecolor\":\"white\",\"zerolinewidth\":2},\"yaxis\":{\"automargin\":true,\"gridcolor\":\"white\",\"linecolor\":\"white\",\"ticks\":\"\",\"title\":{\"standoff\":15},\"zerolinecolor\":\"white\",\"zerolinewidth\":2}}},\"title\":{\"text\":\"Similaridad Estructural de Aminas\",\"x\":0.55,\"xanchor\":\"center\",\"y\":0.9,\"yanchor\":\"top\"},\"width\":800,\"xaxis\":{\"domain\":[0.15,1],\"mirror\":false,\"rangemode\":\"tozero\",\"showgrid\":false,\"showline\":false,\"showticklabels\":true,\"tickmode\":\"array\",\"ticks\":\"\",\"ticktext\":[\"TertOctyl\",\"Cyclohexylmethyl\",\"nDodecyl\",\"nHexyl\",\"IPentyl\",\"n-BuNH3I\",\"NPropyl\",\"iButyl\",\"neoPentyl\",\"tButyl\",\"iPropyl\",\"Diisopropyl\",\"Diethyl\",\"NNDiethylpropane13di\",\"MeNH3I\",\"FormamidiniumIodide\",\"GnNH3I\",\"ImidazoliumIodide\",\"4FluoroPhenyl\",\"Phenyl\",\"4MethoxyPhenyl\",\"4methoxyphenethyl\",\"PhEtNH3I\",\"4FluoroPhenethyl\",\"Benzyl\",\"4TrifluoromethylBenzyl\",\"4TrifluoromethylPhenyl\"],\"tickvals\":[5.0,15.0,25.0,35.0,45.0,55.0,65.0,75.0,85.0,95.0,105.0,115.0,125.0,135.0,145.0,155.0,165.0,175.0,185.0,195.0,205.0,215.0,225.0,235.0,245.0,255.0,265.0],\"type\":\"linear\",\"zeroline\":false},\"xaxis2\":{\"domain\":[0,0.15],\"mirror\":false,\"showgrid\":false,\"showline\":false,\"showticklabels\":false,\"ticks\":\"\",\"zeroline\":false},\"yaxis\":{\"domain\":[0,0.85],\"mirror\":false,\"rangemode\":\"tozero\",\"showgrid\":false,\"showline\":false,\"showticklabels\":false,\"ticks\":\"\",\"ticktext\":[\"TertOctyl\",\"Cyclohexylmethyl\",\"nDodecyl\",\"nHexyl\",\"IPentyl\",\"n-BuNH3I\",\"NPropyl\",\"iButyl\",\"neoPentyl\",\"tButyl\",\"iPropyl\",\"Diisopropyl\",\"Diethyl\",\"NNDiethylpropane13di\",\"MeNH3I\",\"FormamidiniumIodide\",\"GnNH3I\",\"ImidazoliumIodide\",\"4FluoroPhenyl\",\"Phenyl\",\"4MethoxyPhenyl\",\"4methoxyphenethyl\",\"PhEtNH3I\",\"4FluoroPhenethyl\",\"Benzyl\",\"4TrifluoromethylBenzyl\",\"4TrifluoromethylPhenyl\"],\"tickvals\":[5.0,15.0,25.0,35.0,45.0,55.0,65.0,75.0,85.0,95.0,105.0,115.0,125.0,135.0,145.0,155.0,165.0,175.0,185.0,195.0,205.0,215.0,225.0,235.0,245.0,255.0,265.0],\"type\":\"linear\",\"zeroline\":false},\"yaxis2\":{\"domain\":[0.825,0.975],\"mirror\":false,\"showgrid\":false,\"showline\":false,\"showticklabels\":false,\"ticks\":\"\",\"zeroline\":false}},                        {\"responsive\": true}                    ).then(function(){\n",
       "                            \n",
       "var gd = document.getElementById('5cd193e3-6600-4e9a-85a3-ceb5bcfba900');\n",
       "var x = new MutationObserver(function (mutations, observer) {{\n",
       "        var display = window.getComputedStyle(gd).display;\n",
       "        if (!display || display === 'none') {{\n",
       "            console.log([gd, 'removed!']);\n",
       "            Plotly.purge(gd);\n",
       "            observer.disconnect();\n",
       "        }}\n",
       "}});\n",
       "\n",
       "// Listen for the removal of the full notebook cells\n",
       "var notebookContainer = gd.closest('#notebook-container');\n",
       "if (notebookContainer) {{\n",
       "    x.observe(notebookContainer, {childList: true});\n",
       "}}\n",
       "\n",
       "// Listen for the clearing of the current output cell\n",
       "var outputEl = gd.closest('.output');\n",
       "if (outputEl) {{\n",
       "    x.observe(outputEl, {childList: true});\n",
       "}}\n",
       "\n",
       "                        })                };                });            </script>        </div>"
      ]
     },
     "metadata": {}
    }
   ],
   "metadata": {}
  },
  {
   "cell_type": "code",
   "execution_count": 38,
   "source": [
    "similarity_tanimoto = calculate_amine_fingerprint_distance(amines_smiles, abb_amines_names, 'Dice')\n",
    "plot_heatmap_plotly(similarity_tanimoto, abb_amines_names, 'Similaridad Aminas', 'centroid', 'Coff Dice')\n"
   ],
   "outputs": [
    {
     "output_type": "display_data",
     "data": {
      "application/vnd.plotly.v1+json": {
       "config": {
        "linkText": "Export to plot.ly",
        "plotlyServerURL": "https://plot.ly",
        "showLink": false
       },
       "data": [
        {
         "hoverinfo": "text",
         "marker": {
          "color": "rgb(61,153,112)"
         },
         "mode": "lines",
         "type": "scatter",
         "x": [
          15,
          15,
          25,
          25
         ],
         "xaxis": "x",
         "y": [
          0,
          0.421471436250285,
          0.421471436250285,
          0
         ],
         "yaxis": "y2"
        },
        {
         "hoverinfo": "text",
         "marker": {
          "color": "rgb(61,153,112)"
         },
         "mode": "lines",
         "type": "scatter",
         "x": [
          5,
          5,
          20,
          20
         ],
         "xaxis": "x",
         "y": [
          0,
          0.6780605239039653,
          0.6780605239039653,
          0.421471436250285
         ],
         "yaxis": "y2"
        },
        {
         "hoverinfo": "text",
         "marker": {
          "color": "rgb(61,153,112)"
         },
         "mode": "lines",
         "type": "scatter",
         "x": [
          45,
          45,
          55,
          55
         ],
         "xaxis": "x",
         "y": [
          0,
          0.6355014648767577,
          0.6355014648767577,
          0
         ],
         "yaxis": "y2"
        },
        {
         "hoverinfo": "text",
         "marker": {
          "color": "rgb(61,153,112)"
         },
         "mode": "lines",
         "type": "scatter",
         "x": [
          35,
          35,
          50,
          50
         ],
         "xaxis": "x",
         "y": [
          0,
          0.7700258752710896,
          0.7700258752710896,
          0.6355014648767577
         ],
         "yaxis": "y2"
        },
        {
         "hoverinfo": "text",
         "marker": {
          "color": "rgb(61,153,112)"
         },
         "mode": "lines",
         "type": "scatter",
         "x": [
          12.5,
          12.5,
          42.5,
          42.5
         ],
         "xaxis": "x",
         "y": [
          0.6780605239039653,
          0.9425806490281506,
          0.9425806490281506,
          0.7700258752710896
         ],
         "yaxis": "y2"
        },
        {
         "hoverinfo": "text",
         "marker": {
          "color": "rgb(61,153,112)"
         },
         "mode": "lines",
         "type": "scatter",
         "x": [
          65,
          65,
          75,
          75
         ],
         "xaxis": "x",
         "y": [
          0,
          0.5418597561829395,
          0.5418597561829395,
          0
         ],
         "yaxis": "y2"
        },
        {
         "hoverinfo": "text",
         "marker": {
          "color": "rgb(61,153,112)"
         },
         "mode": "lines",
         "type": "scatter",
         "x": [
          70,
          70,
          85,
          85
         ],
         "xaxis": "x",
         "y": [
          0.5418597561829395,
          0.8345404984224987,
          0.8345404984224987,
          0
         ],
         "yaxis": "y2"
        },
        {
         "hoverinfo": "text",
         "marker": {
          "color": "rgb(61,153,112)"
         },
         "mode": "lines",
         "type": "scatter",
         "x": [
          27.5,
          27.5,
          77.5,
          77.5
         ],
         "xaxis": "x",
         "y": [
          0.9425806490281506,
          1.152409971029271,
          1.152409971029271,
          0.8345404984224987
         ],
         "yaxis": "y2"
        },
        {
         "hoverinfo": "text",
         "marker": {
          "color": "rgb(255,65,54)"
         },
         "mode": "lines",
         "type": "scatter",
         "x": [
          105,
          105,
          115,
          115
         ],
         "xaxis": "x",
         "y": [
          0,
          0.40709068539639925,
          0.40709068539639925,
          0
         ],
         "yaxis": "y2"
        },
        {
         "hoverinfo": "text",
         "marker": {
          "color": "rgb(255,65,54)"
         },
         "mode": "lines",
         "type": "scatter",
         "x": [
          110,
          110,
          125,
          125
         ],
         "xaxis": "x",
         "y": [
          0.40709068539639925,
          0.9286433555935595,
          0.9286433555935595,
          0
         ],
         "yaxis": "y2"
        },
        {
         "hoverinfo": "text",
         "marker": {
          "color": "rgb(255,65,54)"
         },
         "mode": "lines",
         "type": "scatter",
         "x": [
          95,
          95,
          117.5,
          117.5
         ],
         "xaxis": "x",
         "y": [
          0,
          1.1526611325502123,
          1.1526611325502123,
          0.9286433555935595
         ],
         "yaxis": "y2"
        },
        {
         "hoverinfo": "text",
         "marker": {
          "color": "rgb(35,205,205)"
         },
         "mode": "lines",
         "type": "scatter",
         "x": [
          145,
          145,
          155,
          155
         ],
         "xaxis": "x",
         "y": [
          0,
          0.4210132216931307,
          0.4210132216931307,
          0
         ],
         "yaxis": "y2"
        },
        {
         "hoverinfo": "text",
         "marker": {
          "color": "rgb(35,205,205)"
         },
         "mode": "lines",
         "type": "scatter",
         "x": [
          165,
          165,
          175,
          175
         ],
         "xaxis": "x",
         "y": [
          0,
          0.36449703622176344,
          0.36449703622176344,
          0
         ],
         "yaxis": "y2"
        },
        {
         "hoverinfo": "text",
         "marker": {
          "color": "rgb(35,205,205)"
         },
         "mode": "lines",
         "type": "scatter",
         "x": [
          185,
          185,
          195,
          195
         ],
         "xaxis": "x",
         "y": [
          0,
          0.30482035746975644,
          0.30482035746975644,
          0
         ],
         "yaxis": "y2"
        },
        {
         "hoverinfo": "text",
         "marker": {
          "color": "rgb(35,205,205)"
         },
         "mode": "lines",
         "type": "scatter",
         "x": [
          190,
          190,
          205,
          205
         ],
         "xaxis": "x",
         "y": [
          0.30482035746975644,
          0.4855786847149399,
          0.4855786847149399,
          0
         ],
         "yaxis": "y2"
        },
        {
         "hoverinfo": "text",
         "marker": {
          "color": "rgb(35,205,205)"
         },
         "mode": "lines",
         "type": "scatter",
         "x": [
          215,
          215,
          225,
          225
         ],
         "xaxis": "x",
         "y": [
          0,
          0.413233428405084,
          0.413233428405084,
          0
         ],
         "yaxis": "y2"
        },
        {
         "hoverinfo": "text",
         "marker": {
          "color": "rgb(35,205,205)"
         },
         "mode": "lines",
         "type": "scatter",
         "x": [
          197.5,
          197.5,
          220,
          220
         ],
         "xaxis": "x",
         "y": [
          0.4855786847149399,
          0.5369120041228641,
          0.5369120041228641,
          0.413233428405084
         ],
         "yaxis": "y2"
        },
        {
         "hoverinfo": "text",
         "marker": {
          "color": "rgb(35,205,205)"
         },
         "mode": "lines",
         "type": "scatter",
         "x": [
          170,
          170,
          208.75,
          208.75
         ],
         "xaxis": "x",
         "y": [
          0.36449703622176344,
          0.6247769700534633,
          0.6247769700534633,
          0.5369120041228641
         ],
         "yaxis": "y2"
        },
        {
         "hoverinfo": "text",
         "marker": {
          "color": "rgb(35,205,205)"
         },
         "mode": "lines",
         "type": "scatter",
         "x": [
          150,
          150,
          189.375,
          189.375
         ],
         "xaxis": "x",
         "y": [
          0.4210132216931307,
          0.9605511900859811,
          0.9605511900859811,
          0.6247769700534633
         ],
         "yaxis": "y2"
        },
        {
         "hoverinfo": "text",
         "marker": {
          "color": "rgb(35,205,205)"
         },
         "mode": "lines",
         "type": "scatter",
         "x": [
          235,
          235,
          245,
          245
         ],
         "xaxis": "x",
         "y": [
          0,
          0.3006972413927,
          0.3006972413927,
          0
         ],
         "yaxis": "y2"
        },
        {
         "hoverinfo": "text",
         "marker": {
          "color": "rgb(35,205,205)"
         },
         "mode": "lines",
         "type": "scatter",
         "x": [
          240,
          240,
          255,
          255
         ],
         "xaxis": "x",
         "y": [
          0.3006972413927,
          0.8370636797394464,
          0.8370636797394464,
          0
         ],
         "yaxis": "y2"
        },
        {
         "hoverinfo": "text",
         "marker": {
          "color": "rgb(35,205,205)"
         },
         "mode": "lines",
         "type": "scatter",
         "x": [
          247.5,
          247.5,
          265,
          265
         ],
         "xaxis": "x",
         "y": [
          0.8370636797394464,
          0.9683791911530568,
          0.9683791911530568,
          0
         ],
         "yaxis": "y2"
        },
        {
         "hoverinfo": "text",
         "marker": {
          "color": "rgb(35,205,205)"
         },
         "mode": "lines",
         "type": "scatter",
         "x": [
          169.6875,
          169.6875,
          256.25,
          256.25
         ],
         "xaxis": "x",
         "y": [
          0.9605511900859811,
          0.9477032553195635,
          0.9477032553195635,
          0.9683791911530568
         ],
         "yaxis": "y2"
        },
        {
         "hoverinfo": "text",
         "marker": {
          "color": "rgb(35,205,205)"
         },
         "mode": "lines",
         "type": "scatter",
         "x": [
          135,
          135,
          212.96875,
          212.96875
         ],
         "xaxis": "x",
         "y": [
          0,
          1.1138455317973013,
          1.1138455317973013,
          0.9477032553195635
         ],
         "yaxis": "y2"
        },
        {
         "hoverinfo": "text",
         "marker": {
          "color": "rgb(0,116,217)"
         },
         "mode": "lines",
         "type": "scatter",
         "x": [
          106.25,
          106.25,
          173.984375,
          173.984375
         ],
         "xaxis": "x",
         "y": [
          1.1526611325502123,
          1.6571582445821926,
          1.6571582445821926,
          1.1138455317973013
         ],
         "yaxis": "y2"
        },
        {
         "hoverinfo": "text",
         "marker": {
          "color": "rgb(0,116,217)"
         },
         "mode": "lines",
         "type": "scatter",
         "x": [
          52.5,
          52.5,
          140.1171875,
          140.1171875
         ],
         "xaxis": "x",
         "y": [
          1.152409971029271,
          1.9784151483978178,
          1.9784151483978178,
          1.6571582445821926
         ],
         "yaxis": "y2"
        },
        {
         "hoverinfo": "text",
         "marker": {
          "color": "rgb(61,153,112)"
         },
         "mode": "lines",
         "type": "scatter",
         "x": [
          0,
          -0.421471436250285,
          -0.421471436250285,
          0
         ],
         "xaxis": "x2",
         "y": [
          15,
          15,
          25,
          25
         ],
         "yaxis": "y"
        },
        {
         "hoverinfo": "text",
         "marker": {
          "color": "rgb(61,153,112)"
         },
         "mode": "lines",
         "type": "scatter",
         "x": [
          0,
          -0.6780605239039653,
          -0.6780605239039653,
          -0.421471436250285
         ],
         "xaxis": "x2",
         "y": [
          5,
          5,
          20,
          20
         ],
         "yaxis": "y"
        },
        {
         "hoverinfo": "text",
         "marker": {
          "color": "rgb(61,153,112)"
         },
         "mode": "lines",
         "type": "scatter",
         "x": [
          0,
          -0.6355014648767577,
          -0.6355014648767577,
          0
         ],
         "xaxis": "x2",
         "y": [
          45,
          45,
          55,
          55
         ],
         "yaxis": "y"
        },
        {
         "hoverinfo": "text",
         "marker": {
          "color": "rgb(61,153,112)"
         },
         "mode": "lines",
         "type": "scatter",
         "x": [
          0,
          -0.7700258752710896,
          -0.7700258752710896,
          -0.6355014648767577
         ],
         "xaxis": "x2",
         "y": [
          35,
          35,
          50,
          50
         ],
         "yaxis": "y"
        },
        {
         "hoverinfo": "text",
         "marker": {
          "color": "rgb(61,153,112)"
         },
         "mode": "lines",
         "type": "scatter",
         "x": [
          -0.6780605239039653,
          -0.9425806490281506,
          -0.9425806490281506,
          -0.7700258752710896
         ],
         "xaxis": "x2",
         "y": [
          12.5,
          12.5,
          42.5,
          42.5
         ],
         "yaxis": "y"
        },
        {
         "hoverinfo": "text",
         "marker": {
          "color": "rgb(61,153,112)"
         },
         "mode": "lines",
         "type": "scatter",
         "x": [
          0,
          -0.5418597561829395,
          -0.5418597561829395,
          0
         ],
         "xaxis": "x2",
         "y": [
          65,
          65,
          75,
          75
         ],
         "yaxis": "y"
        },
        {
         "hoverinfo": "text",
         "marker": {
          "color": "rgb(61,153,112)"
         },
         "mode": "lines",
         "type": "scatter",
         "x": [
          -0.5418597561829395,
          -0.8345404984224987,
          -0.8345404984224987,
          0
         ],
         "xaxis": "x2",
         "y": [
          70,
          70,
          85,
          85
         ],
         "yaxis": "y"
        },
        {
         "hoverinfo": "text",
         "marker": {
          "color": "rgb(61,153,112)"
         },
         "mode": "lines",
         "type": "scatter",
         "x": [
          -0.9425806490281506,
          -1.152409971029271,
          -1.152409971029271,
          -0.8345404984224987
         ],
         "xaxis": "x2",
         "y": [
          27.5,
          27.5,
          77.5,
          77.5
         ],
         "yaxis": "y"
        },
        {
         "hoverinfo": "text",
         "marker": {
          "color": "rgb(255,65,54)"
         },
         "mode": "lines",
         "type": "scatter",
         "x": [
          0,
          -0.40709068539639925,
          -0.40709068539639925,
          0
         ],
         "xaxis": "x2",
         "y": [
          105,
          105,
          115,
          115
         ],
         "yaxis": "y"
        },
        {
         "hoverinfo": "text",
         "marker": {
          "color": "rgb(255,65,54)"
         },
         "mode": "lines",
         "type": "scatter",
         "x": [
          -0.40709068539639925,
          -0.9286433555935595,
          -0.9286433555935595,
          0
         ],
         "xaxis": "x2",
         "y": [
          110,
          110,
          125,
          125
         ],
         "yaxis": "y"
        },
        {
         "hoverinfo": "text",
         "marker": {
          "color": "rgb(255,65,54)"
         },
         "mode": "lines",
         "type": "scatter",
         "x": [
          0,
          -1.1526611325502123,
          -1.1526611325502123,
          -0.9286433555935595
         ],
         "xaxis": "x2",
         "y": [
          95,
          95,
          117.5,
          117.5
         ],
         "yaxis": "y"
        },
        {
         "hoverinfo": "text",
         "marker": {
          "color": "rgb(35,205,205)"
         },
         "mode": "lines",
         "type": "scatter",
         "x": [
          0,
          -0.4210132216931307,
          -0.4210132216931307,
          0
         ],
         "xaxis": "x2",
         "y": [
          145,
          145,
          155,
          155
         ],
         "yaxis": "y"
        },
        {
         "hoverinfo": "text",
         "marker": {
          "color": "rgb(35,205,205)"
         },
         "mode": "lines",
         "type": "scatter",
         "x": [
          0,
          -0.36449703622176344,
          -0.36449703622176344,
          0
         ],
         "xaxis": "x2",
         "y": [
          165,
          165,
          175,
          175
         ],
         "yaxis": "y"
        },
        {
         "hoverinfo": "text",
         "marker": {
          "color": "rgb(35,205,205)"
         },
         "mode": "lines",
         "type": "scatter",
         "x": [
          0,
          -0.30482035746975644,
          -0.30482035746975644,
          0
         ],
         "xaxis": "x2",
         "y": [
          185,
          185,
          195,
          195
         ],
         "yaxis": "y"
        },
        {
         "hoverinfo": "text",
         "marker": {
          "color": "rgb(35,205,205)"
         },
         "mode": "lines",
         "type": "scatter",
         "x": [
          -0.30482035746975644,
          -0.4855786847149399,
          -0.4855786847149399,
          0
         ],
         "xaxis": "x2",
         "y": [
          190,
          190,
          205,
          205
         ],
         "yaxis": "y"
        },
        {
         "hoverinfo": "text",
         "marker": {
          "color": "rgb(35,205,205)"
         },
         "mode": "lines",
         "type": "scatter",
         "x": [
          0,
          -0.413233428405084,
          -0.413233428405084,
          0
         ],
         "xaxis": "x2",
         "y": [
          215,
          215,
          225,
          225
         ],
         "yaxis": "y"
        },
        {
         "hoverinfo": "text",
         "marker": {
          "color": "rgb(35,205,205)"
         },
         "mode": "lines",
         "type": "scatter",
         "x": [
          -0.4855786847149399,
          -0.5369120041228641,
          -0.5369120041228641,
          -0.413233428405084
         ],
         "xaxis": "x2",
         "y": [
          197.5,
          197.5,
          220,
          220
         ],
         "yaxis": "y"
        },
        {
         "hoverinfo": "text",
         "marker": {
          "color": "rgb(35,205,205)"
         },
         "mode": "lines",
         "type": "scatter",
         "x": [
          -0.36449703622176344,
          -0.6247769700534633,
          -0.6247769700534633,
          -0.5369120041228641
         ],
         "xaxis": "x2",
         "y": [
          170,
          170,
          208.75,
          208.75
         ],
         "yaxis": "y"
        },
        {
         "hoverinfo": "text",
         "marker": {
          "color": "rgb(35,205,205)"
         },
         "mode": "lines",
         "type": "scatter",
         "x": [
          -0.4210132216931307,
          -0.9605511900859811,
          -0.9605511900859811,
          -0.6247769700534633
         ],
         "xaxis": "x2",
         "y": [
          150,
          150,
          189.375,
          189.375
         ],
         "yaxis": "y"
        },
        {
         "hoverinfo": "text",
         "marker": {
          "color": "rgb(35,205,205)"
         },
         "mode": "lines",
         "type": "scatter",
         "x": [
          0,
          -0.3006972413927,
          -0.3006972413927,
          0
         ],
         "xaxis": "x2",
         "y": [
          235,
          235,
          245,
          245
         ],
         "yaxis": "y"
        },
        {
         "hoverinfo": "text",
         "marker": {
          "color": "rgb(35,205,205)"
         },
         "mode": "lines",
         "type": "scatter",
         "x": [
          -0.3006972413927,
          -0.8370636797394464,
          -0.8370636797394464,
          0
         ],
         "xaxis": "x2",
         "y": [
          240,
          240,
          255,
          255
         ],
         "yaxis": "y"
        },
        {
         "hoverinfo": "text",
         "marker": {
          "color": "rgb(35,205,205)"
         },
         "mode": "lines",
         "type": "scatter",
         "x": [
          -0.8370636797394464,
          -0.9683791911530568,
          -0.9683791911530568,
          0
         ],
         "xaxis": "x2",
         "y": [
          247.5,
          247.5,
          265,
          265
         ],
         "yaxis": "y"
        },
        {
         "hoverinfo": "text",
         "marker": {
          "color": "rgb(35,205,205)"
         },
         "mode": "lines",
         "type": "scatter",
         "x": [
          -0.9605511900859811,
          -0.9477032553195635,
          -0.9477032553195635,
          -0.9683791911530568
         ],
         "xaxis": "x2",
         "y": [
          169.6875,
          169.6875,
          256.25,
          256.25
         ],
         "yaxis": "y"
        },
        {
         "hoverinfo": "text",
         "marker": {
          "color": "rgb(35,205,205)"
         },
         "mode": "lines",
         "type": "scatter",
         "x": [
          0,
          -1.1138455317973013,
          -1.1138455317973013,
          -0.9477032553195635
         ],
         "xaxis": "x2",
         "y": [
          135,
          135,
          212.96875,
          212.96875
         ],
         "yaxis": "y"
        },
        {
         "hoverinfo": "text",
         "marker": {
          "color": "rgb(0,116,217)"
         },
         "mode": "lines",
         "type": "scatter",
         "x": [
          -1.1526611325502123,
          -1.6571582445821926,
          -1.6571582445821926,
          -1.1138455317973013
         ],
         "xaxis": "x2",
         "y": [
          106.25,
          106.25,
          173.984375,
          173.984375
         ],
         "yaxis": "y"
        },
        {
         "hoverinfo": "text",
         "marker": {
          "color": "rgb(0,116,217)"
         },
         "mode": "lines",
         "type": "scatter",
         "x": [
          -1.152409971029271,
          -1.9784151483978178,
          -1.9784151483978178,
          -1.6571582445821926
         ],
         "xaxis": "x2",
         "y": [
          52.5,
          52.5,
          140.1171875,
          140.1171875
         ],
         "yaxis": "y"
        },
        {
         "colorbar": {
          "title": {
           "text": "Coff Dice"
          }
         },
         "type": "heatmap",
         "x": [
          5,
          15,
          25,
          35,
          45,
          55,
          65,
          75,
          85,
          95,
          105,
          115,
          125,
          135,
          145,
          155,
          165,
          175,
          185,
          195,
          205,
          215,
          225,
          235,
          245,
          255,
          265
         ],
         "y": [
          5,
          15,
          25,
          35,
          45,
          55,
          65,
          75,
          85,
          95,
          105,
          115,
          125,
          135,
          145,
          155,
          165,
          175,
          185,
          195,
          205,
          215,
          225,
          235,
          245,
          255,
          265
         ],
         "z": [
          [
           1,
           0.6831275720164609,
           0.5853658536585366,
           0.3783783783783784,
           0.33003300330033003,
           0.2983050847457627,
           0.1440677966101695,
           0.15151515151515152,
           0.5093632958801498,
           0.03076923076923077,
           0.023529411764705882,
           0.024096385542168676,
           0.024691358024691357,
           0.06862745098039216,
           0.08139534883720931,
           0.07734806629834254,
           0.07058823529411765,
           0.06896551724137931,
           0.06741573033707865,
           0.06896551724137931,
           0.07058823529411765,
           0.06896551724137931,
           0.06666666666666667,
           0.06593406593406594,
           0.06382978723404255,
           0.08411214953271028,
           0.07476635514018691
          ],
          [
           0.6831275720164609,
           1,
           0.7904761904761904,
           0.5793103448275863,
           0.39823008849557523,
           0.3669724770642202,
           0.20125786163522014,
           0.24793388429752067,
           0.17894736842105263,
           0.03389830508474576,
           0.043010752688172046,
           0.0449438202247191,
           0.047058823529411764,
           0.09448818897637795,
           0.12631578947368421,
           0.11538461538461539,
           0.12903225806451613,
           0.12371134020618557,
           0.1188118811881188,
           0.12371134020618557,
           0.12903225806451613,
           0.12371134020618557,
           0.11650485436893204,
           0.11428571428571428,
           0.10810810810810811,
           0.10218978102189781,
           0.10218978102189781
          ],
          [
           0.5853658536585366,
           0.7904761904761904,
           1,
           0.455026455026455,
           0.34074074074074073,
           0.32061068702290074,
           0.4039408866995074,
           0.18181818181818182,
           0.15384615384615385,
           0.037037037037037035,
           0.043795620437956206,
           0.03007518796992481,
           0.031007751937984496,
           0.08187134502923976,
           0.08633093525179857,
           0.08108108108108109,
           0.08759124087591241,
           0.0851063829787234,
           0.08275862068965517,
           0.0851063829787234,
           0.08759124087591241,
           0.09929078014184398,
           0.09523809523809523,
           0.09395973154362416,
           0.09032258064516129,
           0.08839779005524862,
           0.08839779005524862
          ],
          [
           0.3783783783783784,
           0.5793103448275863,
           0.455026455026455,
           1,
           0.6048780487804878,
           0.39593908629441626,
           0.2028985507246377,
           0.26,
           0.16568047337278108,
           0.041237113402061855,
           0.05555555555555555,
           0.058823529411764705,
           0.0625,
           0.03773584905660377,
           0.05405405405405406,
           0.04819277108433735,
           0.05555555555555555,
           0.05263157894736842,
           0.05,
           0.05263157894736842,
           0.05555555555555555,
           0.05263157894736842,
           0.04878048780487805,
           0.047619047619047616,
           0.044444444444444446,
           0.034482758620689655,
           0.034482758620689655
          ],
          [
           0.33003300330033003,
           0.39823008849557523,
           0.34074074074074073,
           0.6048780487804878,
           1,
           0.6906474820143885,
           0.1461187214611872,
           0.16574585635359115,
           0.168,
           0.033707865168539325,
           0.026143790849673203,
           0.026845637583892617,
           0.027586206896551724,
           0.053475935828877004,
           0.03870967741935484,
           0.036585365853658534,
           0.0392156862745098,
           0.03821656050955414,
           0.037267080745341616,
           0.03821656050955414,
           0.0392156862745098,
           0.03821656050955414,
           0.03680981595092025,
           0.048484848484848485,
           0.04678362573099415,
           0.06091370558375635,
           0.04060913705583756
          ],
          [
           0.2983050847457627,
           0.3669724770642202,
           0.32061068702290074,
           0.39593908629441626,
           0.6906474820143885,
           1,
           0.3696682464454976,
           0.4393063583815029,
           0.35537190082644626,
           0.03529411764705882,
           0.013793103448275862,
           0.014184397163120567,
           0.014598540145985401,
           0.055865921787709494,
           0.027210884353741496,
           0.02564102564102564,
           0.013793103448275862,
           0.013422818791946308,
           0.013071895424836602,
           0.013422818791946308,
           0.013793103448275862,
           0.013422818791946308,
           0.012903225806451613,
           0.025477707006369428,
           0.024539877300613498,
           0.05291005291005291,
           0.021164021164021163
          ],
          [
           0.1440677966101695,
           0.20125786163522014,
           0.4039408866995074,
           0.2028985507246377,
           0.1461187214611872,
           0.3696682464454976,
           1,
           0.6666666666666666,
           0.4262295081967213,
           0.018018018018018018,
           0.023255813953488372,
           0,
           0,
           0.05,
           0,
           0,
           0,
           0,
           0,
           0,
           0,
           0,
           0,
           0.02040816326530612,
           0.019230769230769232,
           0.03076923076923077,
           0
          ],
          [
           0.15151515151515152,
           0.24793388429752067,
           0.18181818181818182,
           0.26,
           0.16574585635359115,
           0.4393063583815029,
           0.6666666666666666,
           1,
           0.5241379310344828,
           0.0273972602739726,
           0,
           0,
           0,
           0.024390243902439025,
           0,
           0,
           0,
           0,
           0,
           0,
           0,
           0,
           0,
           0.03333333333333333,
           0.030303030303030304,
           0.043478260869565216,
           0
          ],
          [
           0.5093632958801498,
           0.17894736842105263,
           0.15384615384615385,
           0.16568047337278108,
           0.168,
           0.35537190082644626,
           0.4262295081967213,
           0.5241379310344828,
           1,
           0.028169014084507043,
           0,
           0,
           0,
           0.026490066225165563,
           0,
           0,
           0,
           0,
           0,
           0,
           0,
           0,
           0,
           0.015503875968992248,
           0.014814814814814815,
           0.024844720496894408,
           0
          ],
          [
           0.03076923076923077,
           0.03389830508474576,
           0.037037037037037035,
           0.041237113402061855,
           0.033707865168539325,
           0.03529411764705882,
           0.018018018018018018,
           0.0273972602739726,
           0.028169014084507043,
           1,
           0.3111111111111111,
           0.2926829268292683,
           0.10810810810810811,
           0.10126582278481013,
           0.1702127659574468,
           0.17857142857142858,
           0.08888888888888889,
           0.08163265306122448,
           0.07547169811320754,
           0.08163265306122448,
           0.08888888888888889,
           0.08163265306122448,
           0.07272727272727272,
           0.07017543859649122,
           0.06349206349206349,
           0.06741573033707865,
           0.0449438202247191
          ],
          [
           0.023529411764705882,
           0.043010752688172046,
           0.043795620437956206,
           0.05555555555555555,
           0.026143790849673203,
           0.013793103448275862,
           0.023255813953488372,
           0,
           0,
           0.3111111111111111,
           1,
           0.75,
           0.3333333333333333,
           0.07407407407407407,
           0.18181818181818182,
           0.12903225806451613,
           0.2,
           0.16666666666666666,
           0.14285714285714285,
           0.16666666666666666,
           0.2,
           0.16666666666666666,
           0.13333333333333333,
           0.125,
           0.10526315789473684,
           0.0625,
           0.0625
          ],
          [
           0.024096385542168676,
           0.0449438202247191,
           0.03007518796992481,
           0.058823529411764705,
           0.026845637583892617,
           0.014184397163120567,
           0,
           0,
           0,
           0.2926829268292683,
           0.75,
           1,
           0.5,
           0.08,
           0.2222222222222222,
           0.14814814814814814,
           0.25,
           0.2,
           0.16666666666666666,
           0.2,
           0.25,
           0.2,
           0.15384615384615385,
           0.14285714285714285,
           0.11764705882352941,
           0.06666666666666667,
           0.06666666666666667
          ],
          [
           0.024691358024691357,
           0.047058823529411764,
           0.031007751937984496,
           0.0625,
           0.027586206896551724,
           0.014598540145985401,
           0,
           0,
           0,
           0.10810810810810811,
           0.3333333333333333,
           0.5,
           1,
           0.08695652173913043,
           0.2857142857142857,
           0.17391304347826086,
           0.3333333333333333,
           0.25,
           0.2,
           0.25,
           0.3333333333333333,
           0.25,
           0.18181818181818182,
           0.16666666666666666,
           0.13333333333333333,
           0.07142857142857142,
           0.07142857142857142
          ],
          [
           0.06862745098039216,
           0.09448818897637795,
           0.08187134502923976,
           0.03773584905660377,
           0.053475935828877004,
           0.055865921787709494,
           0.05,
           0.024390243902439025,
           0.026490066225165563,
           0.10126582278481013,
           0.07407407407407407,
           0.08,
           0.08695652173913043,
           1,
           0.42857142857142855,
           0.4307692307692308,
           0.3333333333333333,
           0.3448275862068966,
           0.3548387096774194,
           0.3448275862068966,
           0.37037037037037035,
           0.3448275862068966,
           0.3125,
           0.30303030303030304,
           0.2777777777777778,
           0.20408163265306123,
           0.24489795918367346
          ],
          [
           0.08139534883720931,
           0.12631578947368421,
           0.08633093525179857,
           0.05405405405405406,
           0.03870967741935484,
           0.027210884353741496,
           0,
           0,
           0,
           0.1702127659574468,
           0.18181818181818182,
           0.2222222222222222,
           0.2857142857142857,
           0.42857142857142855,
           1,
           0.7272727272727273,
           0.6363636363636364,
           0.5384615384615384,
           0.4,
           0.46153846153846156,
           0.5454545454545454,
           0.46153846153846156,
           0.375,
           0.35294117647058826,
           0.3,
           0.18181818181818182,
           0.21212121212121213
          ],
          [
           0.07734806629834254,
           0.11538461538461539,
           0.08108108108108109,
           0.04819277108433735,
           0.036585365853658534,
           0.02564102564102564,
           0,
           0,
           0,
           0.17857142857142858,
           0.12903225806451613,
           0.14814814814814814,
           0.17391304347826086,
           0.4307692307692308,
           0.7272727272727273,
           1,
           0.6451612903225806,
           0.5714285714285714,
           0.41025641025641024,
           0.45714285714285713,
           0.5161290322580645,
           0.45714285714285713,
           0.3902439024390244,
           0.37209302325581395,
           0.32653061224489793,
           0.21333333333333335,
           0.26666666666666666
          ],
          [
           0.07058823529411765,
           0.12903225806451613,
           0.08759124087591241,
           0.05555555555555555,
           0.0392156862745098,
           0.013793103448275862,
           0,
           0,
           0,
           0.08888888888888889,
           0.2,
           0.25,
           0.3333333333333333,
           0.3333333333333333,
           0.6363636363636364,
           0.6451612903225806,
           1,
           0.8333333333333334,
           0.5714285714285714,
           0.6666666666666666,
           0.8,
           0.6666666666666666,
           0.5333333333333333,
           0.5,
           0.42105263157894735,
           0.25,
           0.3125
          ],
          [
           0.06896551724137931,
           0.12371134020618557,
           0.0851063829787234,
           0.05263157894736842,
           0.03821656050955414,
           0.013422818791946308,
           0,
           0,
           0,
           0.08163265306122448,
           0.16666666666666666,
           0.2,
           0.25,
           0.3448275862068966,
           0.5384615384615384,
           0.5714285714285714,
           0.8333333333333334,
           1,
           0.625,
           0.7142857142857143,
           0.6666666666666666,
           0.5714285714285714,
           0.5882352941176471,
           0.4444444444444444,
           0.38095238095238093,
           0.29411764705882354,
           0.4117647058823529
          ],
          [
           0.06741573033707865,
           0.1188118811881188,
           0.08275862068965517,
           0.05,
           0.037267080745341616,
           0.013071895424836602,
           0,
           0,
           0,
           0.07547169811320754,
           0.14285714285714285,
           0.16666666666666666,
           0.2,
           0.3548387096774194,
           0.4,
           0.41025641025641024,
           0.5714285714285714,
           0.625,
           1,
           0.875,
           0.7142857142857143,
           0.625,
           0.631578947368421,
           0.5,
           0.43478260869565216,
           0.3888888888888889,
           0.3888888888888889
          ],
          [
           0.06896551724137931,
           0.12371134020618557,
           0.0851063829787234,
           0.05263157894736842,
           0.03821656050955414,
           0.013422818791946308,
           0,
           0,
           0,
           0.08163265306122448,
           0.16666666666666666,
           0.2,
           0.25,
           0.3448275862068966,
           0.46153846153846156,
           0.45714285714285713,
           0.6666666666666666,
           0.7142857142857143,
           0.875,
           1,
           0.8333333333333334,
           0.7142857142857143,
           0.7058823529411765,
           0.5555555555555556,
           0.47619047619047616,
           0.4117647058823529,
           0.35294117647058826
          ],
          [
           0.07058823529411765,
           0.12903225806451613,
           0.08759124087591241,
           0.05555555555555555,
           0.0392156862745098,
           0.013793103448275862,
           0,
           0,
           0,
           0.08888888888888889,
           0.2,
           0.25,
           0.3333333333333333,
           0.37037037037037035,
           0.5454545454545454,
           0.5161290322580645,
           0.8,
           0.6666666666666666,
           0.7142857142857143,
           0.8333333333333334,
           1,
           0.8333333333333334,
           0.6666666666666666,
           0.625,
           0.5263157894736842,
           0.3125,
           0.3125
          ],
          [
           0.06896551724137931,
           0.12371134020618557,
           0.09929078014184398,
           0.05263157894736842,
           0.03821656050955414,
           0.013422818791946308,
           0,
           0,
           0,
           0.08163265306122448,
           0.16666666666666666,
           0.2,
           0.25,
           0.3448275862068966,
           0.46153846153846156,
           0.45714285714285713,
           0.6666666666666666,
           0.5714285714285714,
           0.625,
           0.7142857142857143,
           0.8333333333333334,
           1,
           0.8235294117647058,
           0.7777777777777778,
           0.6666666666666666,
           0.4117647058823529,
           0.4117647058823529
          ],
          [
           0.06666666666666667,
           0.11650485436893204,
           0.09523809523809523,
           0.04878048780487805,
           0.03680981595092025,
           0.012903225806451613,
           0,
           0,
           0,
           0.07272727272727272,
           0.13333333333333333,
           0.15384615384615385,
           0.18181818181818182,
           0.3125,
           0.375,
           0.3902439024390244,
           0.5333333333333333,
           0.5882352941176471,
           0.631578947368421,
           0.7058823529411765,
           0.6666666666666666,
           0.8235294117647058,
           1,
           0.6666666666666666,
           0.5833333333333334,
           0.4864864864864865,
           0.5405405405405406
          ],
          [
           0.06593406593406594,
           0.11428571428571428,
           0.09395973154362416,
           0.047619047619047616,
           0.048484848484848485,
           0.025477707006369428,
           0.02040816326530612,
           0.03333333333333333,
           0.015503875968992248,
           0.07017543859649122,
           0.125,
           0.14285714285714285,
           0.16666666666666666,
           0.30303030303030304,
           0.35294117647058826,
           0.37209302325581395,
           0.5,
           0.4444444444444444,
           0.5,
           0.5555555555555556,
           0.625,
           0.7777777777777778,
           0.6666666666666666,
           1,
           0.88,
           0.5789473684210527,
           0.42105263157894735
          ],
          [
           0.06382978723404255,
           0.10810810810810811,
           0.09032258064516129,
           0.044444444444444446,
           0.04678362573099415,
           0.024539877300613498,
           0.019230769230769232,
           0.030303030303030304,
           0.014814814814814815,
           0.06349206349206349,
           0.10526315789473684,
           0.11764705882352941,
           0.13333333333333333,
           0.2777777777777778,
           0.3,
           0.32653061224489793,
           0.42105263157894735,
           0.38095238095238093,
           0.43478260869565216,
           0.47619047619047616,
           0.5263157894736842,
           0.6666666666666666,
           0.5833333333333334,
           0.88,
           1,
           0.6341463414634146,
           0.3902439024390244
          ],
          [
           0.08411214953271028,
           0.10218978102189781,
           0.08839779005524862,
           0.034482758620689655,
           0.06091370558375635,
           0.05291005291005291,
           0.03076923076923077,
           0.043478260869565216,
           0.024844720496894408,
           0.06741573033707865,
           0.0625,
           0.06666666666666667,
           0.07142857142857142,
           0.20408163265306123,
           0.18181818181818182,
           0.21333333333333335,
           0.25,
           0.29411764705882354,
           0.3888888888888889,
           0.4117647058823529,
           0.3125,
           0.4117647058823529,
           0.4864864864864865,
           0.5789473684210527,
           0.6341463414634146,
           1,
           0.4074074074074074
          ],
          [
           0.07476635514018691,
           0.10218978102189781,
           0.08839779005524862,
           0.034482758620689655,
           0.04060913705583756,
           0.021164021164021163,
           0,
           0,
           0,
           0.0449438202247191,
           0.0625,
           0.06666666666666667,
           0.07142857142857142,
           0.24489795918367346,
           0.21212121212121213,
           0.26666666666666666,
           0.3125,
           0.4117647058823529,
           0.3888888888888889,
           0.35294117647058826,
           0.3125,
           0.4117647058823529,
           0.5405405405405406,
           0.42105263157894735,
           0.3902439024390244,
           0.4074074074074074,
           1
          ]
         ]
        }
       ],
       "layout": {
        "autosize": false,
        "height": 800,
        "hovermode": "closest",
        "showlegend": false,
        "template": {
         "data": {
          "bar": [
           {
            "error_x": {
             "color": "#2a3f5f"
            },
            "error_y": {
             "color": "#2a3f5f"
            },
            "marker": {
             "line": {
              "color": "#E5ECF6",
              "width": 0.5
             },
             "pattern": {
              "fillmode": "overlay",
              "size": 10,
              "solidity": 0.2
             }
            },
            "type": "bar"
           }
          ],
          "barpolar": [
           {
            "marker": {
             "line": {
              "color": "#E5ECF6",
              "width": 0.5
             },
             "pattern": {
              "fillmode": "overlay",
              "size": 10,
              "solidity": 0.2
             }
            },
            "type": "barpolar"
           }
          ],
          "carpet": [
           {
            "aaxis": {
             "endlinecolor": "#2a3f5f",
             "gridcolor": "white",
             "linecolor": "white",
             "minorgridcolor": "white",
             "startlinecolor": "#2a3f5f"
            },
            "baxis": {
             "endlinecolor": "#2a3f5f",
             "gridcolor": "white",
             "linecolor": "white",
             "minorgridcolor": "white",
             "startlinecolor": "#2a3f5f"
            },
            "type": "carpet"
           }
          ],
          "choropleth": [
           {
            "colorbar": {
             "outlinewidth": 0,
             "ticks": ""
            },
            "type": "choropleth"
           }
          ],
          "contour": [
           {
            "colorbar": {
             "outlinewidth": 0,
             "ticks": ""
            },
            "colorscale": [
             [
              0,
              "#0d0887"
             ],
             [
              0.1111111111111111,
              "#46039f"
             ],
             [
              0.2222222222222222,
              "#7201a8"
             ],
             [
              0.3333333333333333,
              "#9c179e"
             ],
             [
              0.4444444444444444,
              "#bd3786"
             ],
             [
              0.5555555555555556,
              "#d8576b"
             ],
             [
              0.6666666666666666,
              "#ed7953"
             ],
             [
              0.7777777777777778,
              "#fb9f3a"
             ],
             [
              0.8888888888888888,
              "#fdca26"
             ],
             [
              1,
              "#f0f921"
             ]
            ],
            "type": "contour"
           }
          ],
          "contourcarpet": [
           {
            "colorbar": {
             "outlinewidth": 0,
             "ticks": ""
            },
            "type": "contourcarpet"
           }
          ],
          "heatmap": [
           {
            "colorbar": {
             "outlinewidth": 0,
             "ticks": ""
            },
            "colorscale": [
             [
              0,
              "#0d0887"
             ],
             [
              0.1111111111111111,
              "#46039f"
             ],
             [
              0.2222222222222222,
              "#7201a8"
             ],
             [
              0.3333333333333333,
              "#9c179e"
             ],
             [
              0.4444444444444444,
              "#bd3786"
             ],
             [
              0.5555555555555556,
              "#d8576b"
             ],
             [
              0.6666666666666666,
              "#ed7953"
             ],
             [
              0.7777777777777778,
              "#fb9f3a"
             ],
             [
              0.8888888888888888,
              "#fdca26"
             ],
             [
              1,
              "#f0f921"
             ]
            ],
            "type": "heatmap"
           }
          ],
          "heatmapgl": [
           {
            "colorbar": {
             "outlinewidth": 0,
             "ticks": ""
            },
            "colorscale": [
             [
              0,
              "#0d0887"
             ],
             [
              0.1111111111111111,
              "#46039f"
             ],
             [
              0.2222222222222222,
              "#7201a8"
             ],
             [
              0.3333333333333333,
              "#9c179e"
             ],
             [
              0.4444444444444444,
              "#bd3786"
             ],
             [
              0.5555555555555556,
              "#d8576b"
             ],
             [
              0.6666666666666666,
              "#ed7953"
             ],
             [
              0.7777777777777778,
              "#fb9f3a"
             ],
             [
              0.8888888888888888,
              "#fdca26"
             ],
             [
              1,
              "#f0f921"
             ]
            ],
            "type": "heatmapgl"
           }
          ],
          "histogram": [
           {
            "marker": {
             "pattern": {
              "fillmode": "overlay",
              "size": 10,
              "solidity": 0.2
             }
            },
            "type": "histogram"
           }
          ],
          "histogram2d": [
           {
            "colorbar": {
             "outlinewidth": 0,
             "ticks": ""
            },
            "colorscale": [
             [
              0,
              "#0d0887"
             ],
             [
              0.1111111111111111,
              "#46039f"
             ],
             [
              0.2222222222222222,
              "#7201a8"
             ],
             [
              0.3333333333333333,
              "#9c179e"
             ],
             [
              0.4444444444444444,
              "#bd3786"
             ],
             [
              0.5555555555555556,
              "#d8576b"
             ],
             [
              0.6666666666666666,
              "#ed7953"
             ],
             [
              0.7777777777777778,
              "#fb9f3a"
             ],
             [
              0.8888888888888888,
              "#fdca26"
             ],
             [
              1,
              "#f0f921"
             ]
            ],
            "type": "histogram2d"
           }
          ],
          "histogram2dcontour": [
           {
            "colorbar": {
             "outlinewidth": 0,
             "ticks": ""
            },
            "colorscale": [
             [
              0,
              "#0d0887"
             ],
             [
              0.1111111111111111,
              "#46039f"
             ],
             [
              0.2222222222222222,
              "#7201a8"
             ],
             [
              0.3333333333333333,
              "#9c179e"
             ],
             [
              0.4444444444444444,
              "#bd3786"
             ],
             [
              0.5555555555555556,
              "#d8576b"
             ],
             [
              0.6666666666666666,
              "#ed7953"
             ],
             [
              0.7777777777777778,
              "#fb9f3a"
             ],
             [
              0.8888888888888888,
              "#fdca26"
             ],
             [
              1,
              "#f0f921"
             ]
            ],
            "type": "histogram2dcontour"
           }
          ],
          "mesh3d": [
           {
            "colorbar": {
             "outlinewidth": 0,
             "ticks": ""
            },
            "type": "mesh3d"
           }
          ],
          "parcoords": [
           {
            "line": {
             "colorbar": {
              "outlinewidth": 0,
              "ticks": ""
             }
            },
            "type": "parcoords"
           }
          ],
          "pie": [
           {
            "automargin": true,
            "type": "pie"
           }
          ],
          "scatter": [
           {
            "marker": {
             "colorbar": {
              "outlinewidth": 0,
              "ticks": ""
             }
            },
            "type": "scatter"
           }
          ],
          "scatter3d": [
           {
            "line": {
             "colorbar": {
              "outlinewidth": 0,
              "ticks": ""
             }
            },
            "marker": {
             "colorbar": {
              "outlinewidth": 0,
              "ticks": ""
             }
            },
            "type": "scatter3d"
           }
          ],
          "scattercarpet": [
           {
            "marker": {
             "colorbar": {
              "outlinewidth": 0,
              "ticks": ""
             }
            },
            "type": "scattercarpet"
           }
          ],
          "scattergeo": [
           {
            "marker": {
             "colorbar": {
              "outlinewidth": 0,
              "ticks": ""
             }
            },
            "type": "scattergeo"
           }
          ],
          "scattergl": [
           {
            "marker": {
             "colorbar": {
              "outlinewidth": 0,
              "ticks": ""
             }
            },
            "type": "scattergl"
           }
          ],
          "scattermapbox": [
           {
            "marker": {
             "colorbar": {
              "outlinewidth": 0,
              "ticks": ""
             }
            },
            "type": "scattermapbox"
           }
          ],
          "scatterpolar": [
           {
            "marker": {
             "colorbar": {
              "outlinewidth": 0,
              "ticks": ""
             }
            },
            "type": "scatterpolar"
           }
          ],
          "scatterpolargl": [
           {
            "marker": {
             "colorbar": {
              "outlinewidth": 0,
              "ticks": ""
             }
            },
            "type": "scatterpolargl"
           }
          ],
          "scatterternary": [
           {
            "marker": {
             "colorbar": {
              "outlinewidth": 0,
              "ticks": ""
             }
            },
            "type": "scatterternary"
           }
          ],
          "surface": [
           {
            "colorbar": {
             "outlinewidth": 0,
             "ticks": ""
            },
            "colorscale": [
             [
              0,
              "#0d0887"
             ],
             [
              0.1111111111111111,
              "#46039f"
             ],
             [
              0.2222222222222222,
              "#7201a8"
             ],
             [
              0.3333333333333333,
              "#9c179e"
             ],
             [
              0.4444444444444444,
              "#bd3786"
             ],
             [
              0.5555555555555556,
              "#d8576b"
             ],
             [
              0.6666666666666666,
              "#ed7953"
             ],
             [
              0.7777777777777778,
              "#fb9f3a"
             ],
             [
              0.8888888888888888,
              "#fdca26"
             ],
             [
              1,
              "#f0f921"
             ]
            ],
            "type": "surface"
           }
          ],
          "table": [
           {
            "cells": {
             "fill": {
              "color": "#EBF0F8"
             },
             "line": {
              "color": "white"
             }
            },
            "header": {
             "fill": {
              "color": "#C8D4E3"
             },
             "line": {
              "color": "white"
             }
            },
            "type": "table"
           }
          ]
         },
         "layout": {
          "annotationdefaults": {
           "arrowcolor": "#2a3f5f",
           "arrowhead": 0,
           "arrowwidth": 1
          },
          "autotypenumbers": "strict",
          "coloraxis": {
           "colorbar": {
            "outlinewidth": 0,
            "ticks": ""
           }
          },
          "colorscale": {
           "diverging": [
            [
             0,
             "#8e0152"
            ],
            [
             0.1,
             "#c51b7d"
            ],
            [
             0.2,
             "#de77ae"
            ],
            [
             0.3,
             "#f1b6da"
            ],
            [
             0.4,
             "#fde0ef"
            ],
            [
             0.5,
             "#f7f7f7"
            ],
            [
             0.6,
             "#e6f5d0"
            ],
            [
             0.7,
             "#b8e186"
            ],
            [
             0.8,
             "#7fbc41"
            ],
            [
             0.9,
             "#4d9221"
            ],
            [
             1,
             "#276419"
            ]
           ],
           "sequential": [
            [
             0,
             "#0d0887"
            ],
            [
             0.1111111111111111,
             "#46039f"
            ],
            [
             0.2222222222222222,
             "#7201a8"
            ],
            [
             0.3333333333333333,
             "#9c179e"
            ],
            [
             0.4444444444444444,
             "#bd3786"
            ],
            [
             0.5555555555555556,
             "#d8576b"
            ],
            [
             0.6666666666666666,
             "#ed7953"
            ],
            [
             0.7777777777777778,
             "#fb9f3a"
            ],
            [
             0.8888888888888888,
             "#fdca26"
            ],
            [
             1,
             "#f0f921"
            ]
           ],
           "sequentialminus": [
            [
             0,
             "#0d0887"
            ],
            [
             0.1111111111111111,
             "#46039f"
            ],
            [
             0.2222222222222222,
             "#7201a8"
            ],
            [
             0.3333333333333333,
             "#9c179e"
            ],
            [
             0.4444444444444444,
             "#bd3786"
            ],
            [
             0.5555555555555556,
             "#d8576b"
            ],
            [
             0.6666666666666666,
             "#ed7953"
            ],
            [
             0.7777777777777778,
             "#fb9f3a"
            ],
            [
             0.8888888888888888,
             "#fdca26"
            ],
            [
             1,
             "#f0f921"
            ]
           ]
          },
          "colorway": [
           "#636efa",
           "#EF553B",
           "#00cc96",
           "#ab63fa",
           "#FFA15A",
           "#19d3f3",
           "#FF6692",
           "#B6E880",
           "#FF97FF",
           "#FECB52"
          ],
          "font": {
           "color": "#2a3f5f"
          },
          "geo": {
           "bgcolor": "white",
           "lakecolor": "white",
           "landcolor": "#E5ECF6",
           "showlakes": true,
           "showland": true,
           "subunitcolor": "white"
          },
          "hoverlabel": {
           "align": "left"
          },
          "hovermode": "closest",
          "mapbox": {
           "style": "light"
          },
          "paper_bgcolor": "white",
          "plot_bgcolor": "#E5ECF6",
          "polar": {
           "angularaxis": {
            "gridcolor": "white",
            "linecolor": "white",
            "ticks": ""
           },
           "bgcolor": "#E5ECF6",
           "radialaxis": {
            "gridcolor": "white",
            "linecolor": "white",
            "ticks": ""
           }
          },
          "scene": {
           "xaxis": {
            "backgroundcolor": "#E5ECF6",
            "gridcolor": "white",
            "gridwidth": 2,
            "linecolor": "white",
            "showbackground": true,
            "ticks": "",
            "zerolinecolor": "white"
           },
           "yaxis": {
            "backgroundcolor": "#E5ECF6",
            "gridcolor": "white",
            "gridwidth": 2,
            "linecolor": "white",
            "showbackground": true,
            "ticks": "",
            "zerolinecolor": "white"
           },
           "zaxis": {
            "backgroundcolor": "#E5ECF6",
            "gridcolor": "white",
            "gridwidth": 2,
            "linecolor": "white",
            "showbackground": true,
            "ticks": "",
            "zerolinecolor": "white"
           }
          },
          "shapedefaults": {
           "line": {
            "color": "#2a3f5f"
           }
          },
          "ternary": {
           "aaxis": {
            "gridcolor": "white",
            "linecolor": "white",
            "ticks": ""
           },
           "baxis": {
            "gridcolor": "white",
            "linecolor": "white",
            "ticks": ""
           },
           "bgcolor": "#E5ECF6",
           "caxis": {
            "gridcolor": "white",
            "linecolor": "white",
            "ticks": ""
           }
          },
          "title": {
           "x": 0.05
          },
          "xaxis": {
           "automargin": true,
           "gridcolor": "white",
           "linecolor": "white",
           "ticks": "",
           "title": {
            "standoff": 15
           },
           "zerolinecolor": "white",
           "zerolinewidth": 2
          },
          "yaxis": {
           "automargin": true,
           "gridcolor": "white",
           "linecolor": "white",
           "ticks": "",
           "title": {
            "standoff": 15
           },
           "zerolinecolor": "white",
           "zerolinewidth": 2
          }
         }
        },
        "title": {
         "text": "Similaridad Aminas",
         "x": 0.55,
         "xanchor": "center",
         "y": 0.9,
         "yanchor": "top"
        },
        "width": 800,
        "xaxis": {
         "domain": [
          0.15,
          1
         ],
         "mirror": false,
         "rangemode": "tozero",
         "showgrid": false,
         "showline": false,
         "showticklabels": true,
         "tickmode": "array",
         "ticks": "",
         "ticktext": [
          "4methoxyphenethyl",
          "PhEtNH3I",
          "4FluoroPhenethyl",
          "Benzyl",
          "4TrifluoromethylBenzyl",
          "4TrifluoromethylPhenyl",
          "4FluoroPhenyl",
          "Phenyl",
          "4MethoxyPhenyl",
          "ImidazoliumIodide",
          "GnNH3I",
          "FormamidiniumIodide",
          "MeNH3I",
          "NNDiethylpropane13di",
          "Diethyl",
          "Diisopropyl",
          "iPropyl",
          "tButyl",
          "neoPentyl",
          "iButyl",
          "NPropyl",
          "n-BuNH3I",
          "IPentyl",
          "nHexyl",
          "nDodecyl",
          "Cyclohexylmethyl",
          "TertOctyl"
         ],
         "tickvals": [
          5,
          15,
          25,
          35,
          45,
          55,
          65,
          75,
          85,
          95,
          105,
          115,
          125,
          135,
          145,
          155,
          165,
          175,
          185,
          195,
          205,
          215,
          225,
          235,
          245,
          255,
          265
         ],
         "type": "linear",
         "zeroline": false
        },
        "xaxis2": {
         "domain": [
          0,
          0.15
         ],
         "mirror": false,
         "showgrid": false,
         "showline": false,
         "showticklabels": false,
         "ticks": "",
         "zeroline": false
        },
        "yaxis": {
         "domain": [
          0,
          0.85
         ],
         "mirror": false,
         "rangemode": "tozero",
         "showgrid": false,
         "showline": false,
         "showticklabels": false,
         "ticks": "",
         "ticktext": [
          "4methoxyphenethyl",
          "PhEtNH3I",
          "4FluoroPhenethyl",
          "Benzyl",
          "4TrifluoromethylBenzyl",
          "4TrifluoromethylPhenyl",
          "4FluoroPhenyl",
          "Phenyl",
          "4MethoxyPhenyl",
          "ImidazoliumIodide",
          "GnNH3I",
          "FormamidiniumIodide",
          "MeNH3I",
          "NNDiethylpropane13di",
          "Diethyl",
          "Diisopropyl",
          "iPropyl",
          "tButyl",
          "neoPentyl",
          "iButyl",
          "NPropyl",
          "n-BuNH3I",
          "IPentyl",
          "nHexyl",
          "nDodecyl",
          "Cyclohexylmethyl",
          "TertOctyl"
         ],
         "tickvals": [
          5,
          15,
          25,
          35,
          45,
          55,
          65,
          75,
          85,
          95,
          105,
          115,
          125,
          135,
          145,
          155,
          165,
          175,
          185,
          195,
          205,
          215,
          225,
          235,
          245,
          255,
          265
         ],
         "type": "linear",
         "zeroline": false
        },
        "yaxis2": {
         "domain": [
          0.825,
          0.975
         ],
         "mirror": false,
         "showgrid": false,
         "showline": false,
         "showticklabels": false,
         "ticks": "",
         "zeroline": false
        }
       }
      },
      "text/html": [
       "<div>                            <div id=\"07ebb698-2b5f-44f2-a646-e51b80cd45e3\" class=\"plotly-graph-div\" style=\"height:800px; width:800px;\"></div>            <script type=\"text/javascript\">                require([\"plotly\"], function(Plotly) {                    window.PLOTLYENV=window.PLOTLYENV || {};                                    if (document.getElementById(\"07ebb698-2b5f-44f2-a646-e51b80cd45e3\")) {                    Plotly.newPlot(                        \"07ebb698-2b5f-44f2-a646-e51b80cd45e3\",                        [{\"hoverinfo\":\"text\",\"marker\":{\"color\":\"rgb(61,153,112)\"},\"mode\":\"lines\",\"type\":\"scatter\",\"x\":[15.0,15.0,25.0,25.0],\"xaxis\":\"x\",\"y\":[0.0,0.421471436250285,0.421471436250285,0.0],\"yaxis\":\"y2\"},{\"hoverinfo\":\"text\",\"marker\":{\"color\":\"rgb(61,153,112)\"},\"mode\":\"lines\",\"type\":\"scatter\",\"x\":[5.0,5.0,20.0,20.0],\"xaxis\":\"x\",\"y\":[0.0,0.6780605239039653,0.6780605239039653,0.421471436250285],\"yaxis\":\"y2\"},{\"hoverinfo\":\"text\",\"marker\":{\"color\":\"rgb(61,153,112)\"},\"mode\":\"lines\",\"type\":\"scatter\",\"x\":[45.0,45.0,55.0,55.0],\"xaxis\":\"x\",\"y\":[0.0,0.6355014648767577,0.6355014648767577,0.0],\"yaxis\":\"y2\"},{\"hoverinfo\":\"text\",\"marker\":{\"color\":\"rgb(61,153,112)\"},\"mode\":\"lines\",\"type\":\"scatter\",\"x\":[35.0,35.0,50.0,50.0],\"xaxis\":\"x\",\"y\":[0.0,0.7700258752710896,0.7700258752710896,0.6355014648767577],\"yaxis\":\"y2\"},{\"hoverinfo\":\"text\",\"marker\":{\"color\":\"rgb(61,153,112)\"},\"mode\":\"lines\",\"type\":\"scatter\",\"x\":[12.5,12.5,42.5,42.5],\"xaxis\":\"x\",\"y\":[0.6780605239039653,0.9425806490281506,0.9425806490281506,0.7700258752710896],\"yaxis\":\"y2\"},{\"hoverinfo\":\"text\",\"marker\":{\"color\":\"rgb(61,153,112)\"},\"mode\":\"lines\",\"type\":\"scatter\",\"x\":[65.0,65.0,75.0,75.0],\"xaxis\":\"x\",\"y\":[0.0,0.5418597561829395,0.5418597561829395,0.0],\"yaxis\":\"y2\"},{\"hoverinfo\":\"text\",\"marker\":{\"color\":\"rgb(61,153,112)\"},\"mode\":\"lines\",\"type\":\"scatter\",\"x\":[70.0,70.0,85.0,85.0],\"xaxis\":\"x\",\"y\":[0.5418597561829395,0.8345404984224987,0.8345404984224987,0.0],\"yaxis\":\"y2\"},{\"hoverinfo\":\"text\",\"marker\":{\"color\":\"rgb(61,153,112)\"},\"mode\":\"lines\",\"type\":\"scatter\",\"x\":[27.5,27.5,77.5,77.5],\"xaxis\":\"x\",\"y\":[0.9425806490281506,1.152409971029271,1.152409971029271,0.8345404984224987],\"yaxis\":\"y2\"},{\"hoverinfo\":\"text\",\"marker\":{\"color\":\"rgb(255,65,54)\"},\"mode\":\"lines\",\"type\":\"scatter\",\"x\":[105.0,105.0,115.0,115.0],\"xaxis\":\"x\",\"y\":[0.0,0.40709068539639925,0.40709068539639925,0.0],\"yaxis\":\"y2\"},{\"hoverinfo\":\"text\",\"marker\":{\"color\":\"rgb(255,65,54)\"},\"mode\":\"lines\",\"type\":\"scatter\",\"x\":[110.0,110.0,125.0,125.0],\"xaxis\":\"x\",\"y\":[0.40709068539639925,0.9286433555935595,0.9286433555935595,0.0],\"yaxis\":\"y2\"},{\"hoverinfo\":\"text\",\"marker\":{\"color\":\"rgb(255,65,54)\"},\"mode\":\"lines\",\"type\":\"scatter\",\"x\":[95.0,95.0,117.5,117.5],\"xaxis\":\"x\",\"y\":[0.0,1.1526611325502123,1.1526611325502123,0.9286433555935595],\"yaxis\":\"y2\"},{\"hoverinfo\":\"text\",\"marker\":{\"color\":\"rgb(35,205,205)\"},\"mode\":\"lines\",\"type\":\"scatter\",\"x\":[145.0,145.0,155.0,155.0],\"xaxis\":\"x\",\"y\":[0.0,0.4210132216931307,0.4210132216931307,0.0],\"yaxis\":\"y2\"},{\"hoverinfo\":\"text\",\"marker\":{\"color\":\"rgb(35,205,205)\"},\"mode\":\"lines\",\"type\":\"scatter\",\"x\":[165.0,165.0,175.0,175.0],\"xaxis\":\"x\",\"y\":[0.0,0.36449703622176344,0.36449703622176344,0.0],\"yaxis\":\"y2\"},{\"hoverinfo\":\"text\",\"marker\":{\"color\":\"rgb(35,205,205)\"},\"mode\":\"lines\",\"type\":\"scatter\",\"x\":[185.0,185.0,195.0,195.0],\"xaxis\":\"x\",\"y\":[0.0,0.30482035746975644,0.30482035746975644,0.0],\"yaxis\":\"y2\"},{\"hoverinfo\":\"text\",\"marker\":{\"color\":\"rgb(35,205,205)\"},\"mode\":\"lines\",\"type\":\"scatter\",\"x\":[190.0,190.0,205.0,205.0],\"xaxis\":\"x\",\"y\":[0.30482035746975644,0.4855786847149399,0.4855786847149399,0.0],\"yaxis\":\"y2\"},{\"hoverinfo\":\"text\",\"marker\":{\"color\":\"rgb(35,205,205)\"},\"mode\":\"lines\",\"type\":\"scatter\",\"x\":[215.0,215.0,225.0,225.0],\"xaxis\":\"x\",\"y\":[0.0,0.413233428405084,0.413233428405084,0.0],\"yaxis\":\"y2\"},{\"hoverinfo\":\"text\",\"marker\":{\"color\":\"rgb(35,205,205)\"},\"mode\":\"lines\",\"type\":\"scatter\",\"x\":[197.5,197.5,220.0,220.0],\"xaxis\":\"x\",\"y\":[0.4855786847149399,0.5369120041228641,0.5369120041228641,0.413233428405084],\"yaxis\":\"y2\"},{\"hoverinfo\":\"text\",\"marker\":{\"color\":\"rgb(35,205,205)\"},\"mode\":\"lines\",\"type\":\"scatter\",\"x\":[170.0,170.0,208.75,208.75],\"xaxis\":\"x\",\"y\":[0.36449703622176344,0.6247769700534633,0.6247769700534633,0.5369120041228641],\"yaxis\":\"y2\"},{\"hoverinfo\":\"text\",\"marker\":{\"color\":\"rgb(35,205,205)\"},\"mode\":\"lines\",\"type\":\"scatter\",\"x\":[150.0,150.0,189.375,189.375],\"xaxis\":\"x\",\"y\":[0.4210132216931307,0.9605511900859811,0.9605511900859811,0.6247769700534633],\"yaxis\":\"y2\"},{\"hoverinfo\":\"text\",\"marker\":{\"color\":\"rgb(35,205,205)\"},\"mode\":\"lines\",\"type\":\"scatter\",\"x\":[235.0,235.0,245.0,245.0],\"xaxis\":\"x\",\"y\":[0.0,0.3006972413927,0.3006972413927,0.0],\"yaxis\":\"y2\"},{\"hoverinfo\":\"text\",\"marker\":{\"color\":\"rgb(35,205,205)\"},\"mode\":\"lines\",\"type\":\"scatter\",\"x\":[240.0,240.0,255.0,255.0],\"xaxis\":\"x\",\"y\":[0.3006972413927,0.8370636797394464,0.8370636797394464,0.0],\"yaxis\":\"y2\"},{\"hoverinfo\":\"text\",\"marker\":{\"color\":\"rgb(35,205,205)\"},\"mode\":\"lines\",\"type\":\"scatter\",\"x\":[247.5,247.5,265.0,265.0],\"xaxis\":\"x\",\"y\":[0.8370636797394464,0.9683791911530568,0.9683791911530568,0.0],\"yaxis\":\"y2\"},{\"hoverinfo\":\"text\",\"marker\":{\"color\":\"rgb(35,205,205)\"},\"mode\":\"lines\",\"type\":\"scatter\",\"x\":[169.6875,169.6875,256.25,256.25],\"xaxis\":\"x\",\"y\":[0.9605511900859811,0.9477032553195635,0.9477032553195635,0.9683791911530568],\"yaxis\":\"y2\"},{\"hoverinfo\":\"text\",\"marker\":{\"color\":\"rgb(35,205,205)\"},\"mode\":\"lines\",\"type\":\"scatter\",\"x\":[135.0,135.0,212.96875,212.96875],\"xaxis\":\"x\",\"y\":[0.0,1.1138455317973013,1.1138455317973013,0.9477032553195635],\"yaxis\":\"y2\"},{\"hoverinfo\":\"text\",\"marker\":{\"color\":\"rgb(0,116,217)\"},\"mode\":\"lines\",\"type\":\"scatter\",\"x\":[106.25,106.25,173.984375,173.984375],\"xaxis\":\"x\",\"y\":[1.1526611325502123,1.6571582445821926,1.6571582445821926,1.1138455317973013],\"yaxis\":\"y2\"},{\"hoverinfo\":\"text\",\"marker\":{\"color\":\"rgb(0,116,217)\"},\"mode\":\"lines\",\"type\":\"scatter\",\"x\":[52.5,52.5,140.1171875,140.1171875],\"xaxis\":\"x\",\"y\":[1.152409971029271,1.9784151483978178,1.9784151483978178,1.6571582445821926],\"yaxis\":\"y2\"},{\"hoverinfo\":\"text\",\"marker\":{\"color\":\"rgb(61,153,112)\"},\"mode\":\"lines\",\"type\":\"scatter\",\"x\":[-0.0,-0.421471436250285,-0.421471436250285,-0.0],\"xaxis\":\"x2\",\"y\":[15.0,15.0,25.0,25.0],\"yaxis\":\"y\"},{\"hoverinfo\":\"text\",\"marker\":{\"color\":\"rgb(61,153,112)\"},\"mode\":\"lines\",\"type\":\"scatter\",\"x\":[-0.0,-0.6780605239039653,-0.6780605239039653,-0.421471436250285],\"xaxis\":\"x2\",\"y\":[5.0,5.0,20.0,20.0],\"yaxis\":\"y\"},{\"hoverinfo\":\"text\",\"marker\":{\"color\":\"rgb(61,153,112)\"},\"mode\":\"lines\",\"type\":\"scatter\",\"x\":[-0.0,-0.6355014648767577,-0.6355014648767577,-0.0],\"xaxis\":\"x2\",\"y\":[45.0,45.0,55.0,55.0],\"yaxis\":\"y\"},{\"hoverinfo\":\"text\",\"marker\":{\"color\":\"rgb(61,153,112)\"},\"mode\":\"lines\",\"type\":\"scatter\",\"x\":[-0.0,-0.7700258752710896,-0.7700258752710896,-0.6355014648767577],\"xaxis\":\"x2\",\"y\":[35.0,35.0,50.0,50.0],\"yaxis\":\"y\"},{\"hoverinfo\":\"text\",\"marker\":{\"color\":\"rgb(61,153,112)\"},\"mode\":\"lines\",\"type\":\"scatter\",\"x\":[-0.6780605239039653,-0.9425806490281506,-0.9425806490281506,-0.7700258752710896],\"xaxis\":\"x2\",\"y\":[12.5,12.5,42.5,42.5],\"yaxis\":\"y\"},{\"hoverinfo\":\"text\",\"marker\":{\"color\":\"rgb(61,153,112)\"},\"mode\":\"lines\",\"type\":\"scatter\",\"x\":[-0.0,-0.5418597561829395,-0.5418597561829395,-0.0],\"xaxis\":\"x2\",\"y\":[65.0,65.0,75.0,75.0],\"yaxis\":\"y\"},{\"hoverinfo\":\"text\",\"marker\":{\"color\":\"rgb(61,153,112)\"},\"mode\":\"lines\",\"type\":\"scatter\",\"x\":[-0.5418597561829395,-0.8345404984224987,-0.8345404984224987,-0.0],\"xaxis\":\"x2\",\"y\":[70.0,70.0,85.0,85.0],\"yaxis\":\"y\"},{\"hoverinfo\":\"text\",\"marker\":{\"color\":\"rgb(61,153,112)\"},\"mode\":\"lines\",\"type\":\"scatter\",\"x\":[-0.9425806490281506,-1.152409971029271,-1.152409971029271,-0.8345404984224987],\"xaxis\":\"x2\",\"y\":[27.5,27.5,77.5,77.5],\"yaxis\":\"y\"},{\"hoverinfo\":\"text\",\"marker\":{\"color\":\"rgb(255,65,54)\"},\"mode\":\"lines\",\"type\":\"scatter\",\"x\":[-0.0,-0.40709068539639925,-0.40709068539639925,-0.0],\"xaxis\":\"x2\",\"y\":[105.0,105.0,115.0,115.0],\"yaxis\":\"y\"},{\"hoverinfo\":\"text\",\"marker\":{\"color\":\"rgb(255,65,54)\"},\"mode\":\"lines\",\"type\":\"scatter\",\"x\":[-0.40709068539639925,-0.9286433555935595,-0.9286433555935595,-0.0],\"xaxis\":\"x2\",\"y\":[110.0,110.0,125.0,125.0],\"yaxis\":\"y\"},{\"hoverinfo\":\"text\",\"marker\":{\"color\":\"rgb(255,65,54)\"},\"mode\":\"lines\",\"type\":\"scatter\",\"x\":[-0.0,-1.1526611325502123,-1.1526611325502123,-0.9286433555935595],\"xaxis\":\"x2\",\"y\":[95.0,95.0,117.5,117.5],\"yaxis\":\"y\"},{\"hoverinfo\":\"text\",\"marker\":{\"color\":\"rgb(35,205,205)\"},\"mode\":\"lines\",\"type\":\"scatter\",\"x\":[-0.0,-0.4210132216931307,-0.4210132216931307,-0.0],\"xaxis\":\"x2\",\"y\":[145.0,145.0,155.0,155.0],\"yaxis\":\"y\"},{\"hoverinfo\":\"text\",\"marker\":{\"color\":\"rgb(35,205,205)\"},\"mode\":\"lines\",\"type\":\"scatter\",\"x\":[-0.0,-0.36449703622176344,-0.36449703622176344,-0.0],\"xaxis\":\"x2\",\"y\":[165.0,165.0,175.0,175.0],\"yaxis\":\"y\"},{\"hoverinfo\":\"text\",\"marker\":{\"color\":\"rgb(35,205,205)\"},\"mode\":\"lines\",\"type\":\"scatter\",\"x\":[-0.0,-0.30482035746975644,-0.30482035746975644,-0.0],\"xaxis\":\"x2\",\"y\":[185.0,185.0,195.0,195.0],\"yaxis\":\"y\"},{\"hoverinfo\":\"text\",\"marker\":{\"color\":\"rgb(35,205,205)\"},\"mode\":\"lines\",\"type\":\"scatter\",\"x\":[-0.30482035746975644,-0.4855786847149399,-0.4855786847149399,-0.0],\"xaxis\":\"x2\",\"y\":[190.0,190.0,205.0,205.0],\"yaxis\":\"y\"},{\"hoverinfo\":\"text\",\"marker\":{\"color\":\"rgb(35,205,205)\"},\"mode\":\"lines\",\"type\":\"scatter\",\"x\":[-0.0,-0.413233428405084,-0.413233428405084,-0.0],\"xaxis\":\"x2\",\"y\":[215.0,215.0,225.0,225.0],\"yaxis\":\"y\"},{\"hoverinfo\":\"text\",\"marker\":{\"color\":\"rgb(35,205,205)\"},\"mode\":\"lines\",\"type\":\"scatter\",\"x\":[-0.4855786847149399,-0.5369120041228641,-0.5369120041228641,-0.413233428405084],\"xaxis\":\"x2\",\"y\":[197.5,197.5,220.0,220.0],\"yaxis\":\"y\"},{\"hoverinfo\":\"text\",\"marker\":{\"color\":\"rgb(35,205,205)\"},\"mode\":\"lines\",\"type\":\"scatter\",\"x\":[-0.36449703622176344,-0.6247769700534633,-0.6247769700534633,-0.5369120041228641],\"xaxis\":\"x2\",\"y\":[170.0,170.0,208.75,208.75],\"yaxis\":\"y\"},{\"hoverinfo\":\"text\",\"marker\":{\"color\":\"rgb(35,205,205)\"},\"mode\":\"lines\",\"type\":\"scatter\",\"x\":[-0.4210132216931307,-0.9605511900859811,-0.9605511900859811,-0.6247769700534633],\"xaxis\":\"x2\",\"y\":[150.0,150.0,189.375,189.375],\"yaxis\":\"y\"},{\"hoverinfo\":\"text\",\"marker\":{\"color\":\"rgb(35,205,205)\"},\"mode\":\"lines\",\"type\":\"scatter\",\"x\":[-0.0,-0.3006972413927,-0.3006972413927,-0.0],\"xaxis\":\"x2\",\"y\":[235.0,235.0,245.0,245.0],\"yaxis\":\"y\"},{\"hoverinfo\":\"text\",\"marker\":{\"color\":\"rgb(35,205,205)\"},\"mode\":\"lines\",\"type\":\"scatter\",\"x\":[-0.3006972413927,-0.8370636797394464,-0.8370636797394464,-0.0],\"xaxis\":\"x2\",\"y\":[240.0,240.0,255.0,255.0],\"yaxis\":\"y\"},{\"hoverinfo\":\"text\",\"marker\":{\"color\":\"rgb(35,205,205)\"},\"mode\":\"lines\",\"type\":\"scatter\",\"x\":[-0.8370636797394464,-0.9683791911530568,-0.9683791911530568,-0.0],\"xaxis\":\"x2\",\"y\":[247.5,247.5,265.0,265.0],\"yaxis\":\"y\"},{\"hoverinfo\":\"text\",\"marker\":{\"color\":\"rgb(35,205,205)\"},\"mode\":\"lines\",\"type\":\"scatter\",\"x\":[-0.9605511900859811,-0.9477032553195635,-0.9477032553195635,-0.9683791911530568],\"xaxis\":\"x2\",\"y\":[169.6875,169.6875,256.25,256.25],\"yaxis\":\"y\"},{\"hoverinfo\":\"text\",\"marker\":{\"color\":\"rgb(35,205,205)\"},\"mode\":\"lines\",\"type\":\"scatter\",\"x\":[-0.0,-1.1138455317973013,-1.1138455317973013,-0.9477032553195635],\"xaxis\":\"x2\",\"y\":[135.0,135.0,212.96875,212.96875],\"yaxis\":\"y\"},{\"hoverinfo\":\"text\",\"marker\":{\"color\":\"rgb(0,116,217)\"},\"mode\":\"lines\",\"type\":\"scatter\",\"x\":[-1.1526611325502123,-1.6571582445821926,-1.6571582445821926,-1.1138455317973013],\"xaxis\":\"x2\",\"y\":[106.25,106.25,173.984375,173.984375],\"yaxis\":\"y\"},{\"hoverinfo\":\"text\",\"marker\":{\"color\":\"rgb(0,116,217)\"},\"mode\":\"lines\",\"type\":\"scatter\",\"x\":[-1.152409971029271,-1.9784151483978178,-1.9784151483978178,-1.6571582445821926],\"xaxis\":\"x2\",\"y\":[52.5,52.5,140.1171875,140.1171875],\"yaxis\":\"y\"},{\"colorbar\":{\"title\":{\"text\":\"Coff Dice\"}},\"type\":\"heatmap\",\"x\":[5.0,15.0,25.0,35.0,45.0,55.0,65.0,75.0,85.0,95.0,105.0,115.0,125.0,135.0,145.0,155.0,165.0,175.0,185.0,195.0,205.0,215.0,225.0,235.0,245.0,255.0,265.0],\"y\":[5.0,15.0,25.0,35.0,45.0,55.0,65.0,75.0,85.0,95.0,105.0,115.0,125.0,135.0,145.0,155.0,165.0,175.0,185.0,195.0,205.0,215.0,225.0,235.0,245.0,255.0,265.0],\"z\":[[1.0,0.6831275720164609,0.5853658536585366,0.3783783783783784,0.33003300330033003,0.2983050847457627,0.1440677966101695,0.15151515151515152,0.5093632958801498,0.03076923076923077,0.023529411764705882,0.024096385542168676,0.024691358024691357,0.06862745098039216,0.08139534883720931,0.07734806629834254,0.07058823529411765,0.06896551724137931,0.06741573033707865,0.06896551724137931,0.07058823529411765,0.06896551724137931,0.06666666666666667,0.06593406593406594,0.06382978723404255,0.08411214953271028,0.07476635514018691],[0.6831275720164609,1.0,0.7904761904761904,0.5793103448275863,0.39823008849557523,0.3669724770642202,0.20125786163522014,0.24793388429752067,0.17894736842105263,0.03389830508474576,0.043010752688172046,0.0449438202247191,0.047058823529411764,0.09448818897637795,0.12631578947368421,0.11538461538461539,0.12903225806451613,0.12371134020618557,0.1188118811881188,0.12371134020618557,0.12903225806451613,0.12371134020618557,0.11650485436893204,0.11428571428571428,0.10810810810810811,0.10218978102189781,0.10218978102189781],[0.5853658536585366,0.7904761904761904,1.0,0.455026455026455,0.34074074074074073,0.32061068702290074,0.4039408866995074,0.18181818181818182,0.15384615384615385,0.037037037037037035,0.043795620437956206,0.03007518796992481,0.031007751937984496,0.08187134502923976,0.08633093525179857,0.08108108108108109,0.08759124087591241,0.0851063829787234,0.08275862068965517,0.0851063829787234,0.08759124087591241,0.09929078014184398,0.09523809523809523,0.09395973154362416,0.09032258064516129,0.08839779005524862,0.08839779005524862],[0.3783783783783784,0.5793103448275863,0.455026455026455,1.0,0.6048780487804878,0.39593908629441626,0.2028985507246377,0.26,0.16568047337278108,0.041237113402061855,0.05555555555555555,0.058823529411764705,0.0625,0.03773584905660377,0.05405405405405406,0.04819277108433735,0.05555555555555555,0.05263157894736842,0.05,0.05263157894736842,0.05555555555555555,0.05263157894736842,0.04878048780487805,0.047619047619047616,0.044444444444444446,0.034482758620689655,0.034482758620689655],[0.33003300330033003,0.39823008849557523,0.34074074074074073,0.6048780487804878,1.0,0.6906474820143885,0.1461187214611872,0.16574585635359115,0.168,0.033707865168539325,0.026143790849673203,0.026845637583892617,0.027586206896551724,0.053475935828877004,0.03870967741935484,0.036585365853658534,0.0392156862745098,0.03821656050955414,0.037267080745341616,0.03821656050955414,0.0392156862745098,0.03821656050955414,0.03680981595092025,0.048484848484848485,0.04678362573099415,0.06091370558375635,0.04060913705583756],[0.2983050847457627,0.3669724770642202,0.32061068702290074,0.39593908629441626,0.6906474820143885,1.0,0.3696682464454976,0.4393063583815029,0.35537190082644626,0.03529411764705882,0.013793103448275862,0.014184397163120567,0.014598540145985401,0.055865921787709494,0.027210884353741496,0.02564102564102564,0.013793103448275862,0.013422818791946308,0.013071895424836602,0.013422818791946308,0.013793103448275862,0.013422818791946308,0.012903225806451613,0.025477707006369428,0.024539877300613498,0.05291005291005291,0.021164021164021163],[0.1440677966101695,0.20125786163522014,0.4039408866995074,0.2028985507246377,0.1461187214611872,0.3696682464454976,1.0,0.6666666666666666,0.4262295081967213,0.018018018018018018,0.023255813953488372,0.0,0.0,0.05,0.0,0.0,0.0,0.0,0.0,0.0,0.0,0.0,0.0,0.02040816326530612,0.019230769230769232,0.03076923076923077,0.0],[0.15151515151515152,0.24793388429752067,0.18181818181818182,0.26,0.16574585635359115,0.4393063583815029,0.6666666666666666,1.0,0.5241379310344828,0.0273972602739726,0.0,0.0,0.0,0.024390243902439025,0.0,0.0,0.0,0.0,0.0,0.0,0.0,0.0,0.0,0.03333333333333333,0.030303030303030304,0.043478260869565216,0.0],[0.5093632958801498,0.17894736842105263,0.15384615384615385,0.16568047337278108,0.168,0.35537190082644626,0.4262295081967213,0.5241379310344828,1.0,0.028169014084507043,0.0,0.0,0.0,0.026490066225165563,0.0,0.0,0.0,0.0,0.0,0.0,0.0,0.0,0.0,0.015503875968992248,0.014814814814814815,0.024844720496894408,0.0],[0.03076923076923077,0.03389830508474576,0.037037037037037035,0.041237113402061855,0.033707865168539325,0.03529411764705882,0.018018018018018018,0.0273972602739726,0.028169014084507043,1.0,0.3111111111111111,0.2926829268292683,0.10810810810810811,0.10126582278481013,0.1702127659574468,0.17857142857142858,0.08888888888888889,0.08163265306122448,0.07547169811320754,0.08163265306122448,0.08888888888888889,0.08163265306122448,0.07272727272727272,0.07017543859649122,0.06349206349206349,0.06741573033707865,0.0449438202247191],[0.023529411764705882,0.043010752688172046,0.043795620437956206,0.05555555555555555,0.026143790849673203,0.013793103448275862,0.023255813953488372,0.0,0.0,0.3111111111111111,1.0,0.75,0.3333333333333333,0.07407407407407407,0.18181818181818182,0.12903225806451613,0.2,0.16666666666666666,0.14285714285714285,0.16666666666666666,0.2,0.16666666666666666,0.13333333333333333,0.125,0.10526315789473684,0.0625,0.0625],[0.024096385542168676,0.0449438202247191,0.03007518796992481,0.058823529411764705,0.026845637583892617,0.014184397163120567,0.0,0.0,0.0,0.2926829268292683,0.75,1.0,0.5,0.08,0.2222222222222222,0.14814814814814814,0.25,0.2,0.16666666666666666,0.2,0.25,0.2,0.15384615384615385,0.14285714285714285,0.11764705882352941,0.06666666666666667,0.06666666666666667],[0.024691358024691357,0.047058823529411764,0.031007751937984496,0.0625,0.027586206896551724,0.014598540145985401,0.0,0.0,0.0,0.10810810810810811,0.3333333333333333,0.5,1.0,0.08695652173913043,0.2857142857142857,0.17391304347826086,0.3333333333333333,0.25,0.2,0.25,0.3333333333333333,0.25,0.18181818181818182,0.16666666666666666,0.13333333333333333,0.07142857142857142,0.07142857142857142],[0.06862745098039216,0.09448818897637795,0.08187134502923976,0.03773584905660377,0.053475935828877004,0.055865921787709494,0.05,0.024390243902439025,0.026490066225165563,0.10126582278481013,0.07407407407407407,0.08,0.08695652173913043,1.0,0.42857142857142855,0.4307692307692308,0.3333333333333333,0.3448275862068966,0.3548387096774194,0.3448275862068966,0.37037037037037035,0.3448275862068966,0.3125,0.30303030303030304,0.2777777777777778,0.20408163265306123,0.24489795918367346],[0.08139534883720931,0.12631578947368421,0.08633093525179857,0.05405405405405406,0.03870967741935484,0.027210884353741496,0.0,0.0,0.0,0.1702127659574468,0.18181818181818182,0.2222222222222222,0.2857142857142857,0.42857142857142855,1.0,0.7272727272727273,0.6363636363636364,0.5384615384615384,0.4,0.46153846153846156,0.5454545454545454,0.46153846153846156,0.375,0.35294117647058826,0.3,0.18181818181818182,0.21212121212121213],[0.07734806629834254,0.11538461538461539,0.08108108108108109,0.04819277108433735,0.036585365853658534,0.02564102564102564,0.0,0.0,0.0,0.17857142857142858,0.12903225806451613,0.14814814814814814,0.17391304347826086,0.4307692307692308,0.7272727272727273,1.0,0.6451612903225806,0.5714285714285714,0.41025641025641024,0.45714285714285713,0.5161290322580645,0.45714285714285713,0.3902439024390244,0.37209302325581395,0.32653061224489793,0.21333333333333335,0.26666666666666666],[0.07058823529411765,0.12903225806451613,0.08759124087591241,0.05555555555555555,0.0392156862745098,0.013793103448275862,0.0,0.0,0.0,0.08888888888888889,0.2,0.25,0.3333333333333333,0.3333333333333333,0.6363636363636364,0.6451612903225806,1.0,0.8333333333333334,0.5714285714285714,0.6666666666666666,0.8,0.6666666666666666,0.5333333333333333,0.5,0.42105263157894735,0.25,0.3125],[0.06896551724137931,0.12371134020618557,0.0851063829787234,0.05263157894736842,0.03821656050955414,0.013422818791946308,0.0,0.0,0.0,0.08163265306122448,0.16666666666666666,0.2,0.25,0.3448275862068966,0.5384615384615384,0.5714285714285714,0.8333333333333334,1.0,0.625,0.7142857142857143,0.6666666666666666,0.5714285714285714,0.5882352941176471,0.4444444444444444,0.38095238095238093,0.29411764705882354,0.4117647058823529],[0.06741573033707865,0.1188118811881188,0.08275862068965517,0.05,0.037267080745341616,0.013071895424836602,0.0,0.0,0.0,0.07547169811320754,0.14285714285714285,0.16666666666666666,0.2,0.3548387096774194,0.4,0.41025641025641024,0.5714285714285714,0.625,1.0,0.875,0.7142857142857143,0.625,0.631578947368421,0.5,0.43478260869565216,0.3888888888888889,0.3888888888888889],[0.06896551724137931,0.12371134020618557,0.0851063829787234,0.05263157894736842,0.03821656050955414,0.013422818791946308,0.0,0.0,0.0,0.08163265306122448,0.16666666666666666,0.2,0.25,0.3448275862068966,0.46153846153846156,0.45714285714285713,0.6666666666666666,0.7142857142857143,0.875,1.0,0.8333333333333334,0.7142857142857143,0.7058823529411765,0.5555555555555556,0.47619047619047616,0.4117647058823529,0.35294117647058826],[0.07058823529411765,0.12903225806451613,0.08759124087591241,0.05555555555555555,0.0392156862745098,0.013793103448275862,0.0,0.0,0.0,0.08888888888888889,0.2,0.25,0.3333333333333333,0.37037037037037035,0.5454545454545454,0.5161290322580645,0.8,0.6666666666666666,0.7142857142857143,0.8333333333333334,1.0,0.8333333333333334,0.6666666666666666,0.625,0.5263157894736842,0.3125,0.3125],[0.06896551724137931,0.12371134020618557,0.09929078014184398,0.05263157894736842,0.03821656050955414,0.013422818791946308,0.0,0.0,0.0,0.08163265306122448,0.16666666666666666,0.2,0.25,0.3448275862068966,0.46153846153846156,0.45714285714285713,0.6666666666666666,0.5714285714285714,0.625,0.7142857142857143,0.8333333333333334,1.0,0.8235294117647058,0.7777777777777778,0.6666666666666666,0.4117647058823529,0.4117647058823529],[0.06666666666666667,0.11650485436893204,0.09523809523809523,0.04878048780487805,0.03680981595092025,0.012903225806451613,0.0,0.0,0.0,0.07272727272727272,0.13333333333333333,0.15384615384615385,0.18181818181818182,0.3125,0.375,0.3902439024390244,0.5333333333333333,0.5882352941176471,0.631578947368421,0.7058823529411765,0.6666666666666666,0.8235294117647058,1.0,0.6666666666666666,0.5833333333333334,0.4864864864864865,0.5405405405405406],[0.06593406593406594,0.11428571428571428,0.09395973154362416,0.047619047619047616,0.048484848484848485,0.025477707006369428,0.02040816326530612,0.03333333333333333,0.015503875968992248,0.07017543859649122,0.125,0.14285714285714285,0.16666666666666666,0.30303030303030304,0.35294117647058826,0.37209302325581395,0.5,0.4444444444444444,0.5,0.5555555555555556,0.625,0.7777777777777778,0.6666666666666666,1.0,0.88,0.5789473684210527,0.42105263157894735],[0.06382978723404255,0.10810810810810811,0.09032258064516129,0.044444444444444446,0.04678362573099415,0.024539877300613498,0.019230769230769232,0.030303030303030304,0.014814814814814815,0.06349206349206349,0.10526315789473684,0.11764705882352941,0.13333333333333333,0.2777777777777778,0.3,0.32653061224489793,0.42105263157894735,0.38095238095238093,0.43478260869565216,0.47619047619047616,0.5263157894736842,0.6666666666666666,0.5833333333333334,0.88,1.0,0.6341463414634146,0.3902439024390244],[0.08411214953271028,0.10218978102189781,0.08839779005524862,0.034482758620689655,0.06091370558375635,0.05291005291005291,0.03076923076923077,0.043478260869565216,0.024844720496894408,0.06741573033707865,0.0625,0.06666666666666667,0.07142857142857142,0.20408163265306123,0.18181818181818182,0.21333333333333335,0.25,0.29411764705882354,0.3888888888888889,0.4117647058823529,0.3125,0.4117647058823529,0.4864864864864865,0.5789473684210527,0.6341463414634146,1.0,0.4074074074074074],[0.07476635514018691,0.10218978102189781,0.08839779005524862,0.034482758620689655,0.04060913705583756,0.021164021164021163,0.0,0.0,0.0,0.0449438202247191,0.0625,0.06666666666666667,0.07142857142857142,0.24489795918367346,0.21212121212121213,0.26666666666666666,0.3125,0.4117647058823529,0.3888888888888889,0.35294117647058826,0.3125,0.4117647058823529,0.5405405405405406,0.42105263157894735,0.3902439024390244,0.4074074074074074,1.0]]}],                        {\"autosize\":false,\"height\":800,\"hovermode\":\"closest\",\"showlegend\":false,\"template\":{\"data\":{\"bar\":[{\"error_x\":{\"color\":\"#2a3f5f\"},\"error_y\":{\"color\":\"#2a3f5f\"},\"marker\":{\"line\":{\"color\":\"#E5ECF6\",\"width\":0.5},\"pattern\":{\"fillmode\":\"overlay\",\"size\":10,\"solidity\":0.2}},\"type\":\"bar\"}],\"barpolar\":[{\"marker\":{\"line\":{\"color\":\"#E5ECF6\",\"width\":0.5},\"pattern\":{\"fillmode\":\"overlay\",\"size\":10,\"solidity\":0.2}},\"type\":\"barpolar\"}],\"carpet\":[{\"aaxis\":{\"endlinecolor\":\"#2a3f5f\",\"gridcolor\":\"white\",\"linecolor\":\"white\",\"minorgridcolor\":\"white\",\"startlinecolor\":\"#2a3f5f\"},\"baxis\":{\"endlinecolor\":\"#2a3f5f\",\"gridcolor\":\"white\",\"linecolor\":\"white\",\"minorgridcolor\":\"white\",\"startlinecolor\":\"#2a3f5f\"},\"type\":\"carpet\"}],\"choropleth\":[{\"colorbar\":{\"outlinewidth\":0,\"ticks\":\"\"},\"type\":\"choropleth\"}],\"contour\":[{\"colorbar\":{\"outlinewidth\":0,\"ticks\":\"\"},\"colorscale\":[[0.0,\"#0d0887\"],[0.1111111111111111,\"#46039f\"],[0.2222222222222222,\"#7201a8\"],[0.3333333333333333,\"#9c179e\"],[0.4444444444444444,\"#bd3786\"],[0.5555555555555556,\"#d8576b\"],[0.6666666666666666,\"#ed7953\"],[0.7777777777777778,\"#fb9f3a\"],[0.8888888888888888,\"#fdca26\"],[1.0,\"#f0f921\"]],\"type\":\"contour\"}],\"contourcarpet\":[{\"colorbar\":{\"outlinewidth\":0,\"ticks\":\"\"},\"type\":\"contourcarpet\"}],\"heatmap\":[{\"colorbar\":{\"outlinewidth\":0,\"ticks\":\"\"},\"colorscale\":[[0.0,\"#0d0887\"],[0.1111111111111111,\"#46039f\"],[0.2222222222222222,\"#7201a8\"],[0.3333333333333333,\"#9c179e\"],[0.4444444444444444,\"#bd3786\"],[0.5555555555555556,\"#d8576b\"],[0.6666666666666666,\"#ed7953\"],[0.7777777777777778,\"#fb9f3a\"],[0.8888888888888888,\"#fdca26\"],[1.0,\"#f0f921\"]],\"type\":\"heatmap\"}],\"heatmapgl\":[{\"colorbar\":{\"outlinewidth\":0,\"ticks\":\"\"},\"colorscale\":[[0.0,\"#0d0887\"],[0.1111111111111111,\"#46039f\"],[0.2222222222222222,\"#7201a8\"],[0.3333333333333333,\"#9c179e\"],[0.4444444444444444,\"#bd3786\"],[0.5555555555555556,\"#d8576b\"],[0.6666666666666666,\"#ed7953\"],[0.7777777777777778,\"#fb9f3a\"],[0.8888888888888888,\"#fdca26\"],[1.0,\"#f0f921\"]],\"type\":\"heatmapgl\"}],\"histogram\":[{\"marker\":{\"pattern\":{\"fillmode\":\"overlay\",\"size\":10,\"solidity\":0.2}},\"type\":\"histogram\"}],\"histogram2d\":[{\"colorbar\":{\"outlinewidth\":0,\"ticks\":\"\"},\"colorscale\":[[0.0,\"#0d0887\"],[0.1111111111111111,\"#46039f\"],[0.2222222222222222,\"#7201a8\"],[0.3333333333333333,\"#9c179e\"],[0.4444444444444444,\"#bd3786\"],[0.5555555555555556,\"#d8576b\"],[0.6666666666666666,\"#ed7953\"],[0.7777777777777778,\"#fb9f3a\"],[0.8888888888888888,\"#fdca26\"],[1.0,\"#f0f921\"]],\"type\":\"histogram2d\"}],\"histogram2dcontour\":[{\"colorbar\":{\"outlinewidth\":0,\"ticks\":\"\"},\"colorscale\":[[0.0,\"#0d0887\"],[0.1111111111111111,\"#46039f\"],[0.2222222222222222,\"#7201a8\"],[0.3333333333333333,\"#9c179e\"],[0.4444444444444444,\"#bd3786\"],[0.5555555555555556,\"#d8576b\"],[0.6666666666666666,\"#ed7953\"],[0.7777777777777778,\"#fb9f3a\"],[0.8888888888888888,\"#fdca26\"],[1.0,\"#f0f921\"]],\"type\":\"histogram2dcontour\"}],\"mesh3d\":[{\"colorbar\":{\"outlinewidth\":0,\"ticks\":\"\"},\"type\":\"mesh3d\"}],\"parcoords\":[{\"line\":{\"colorbar\":{\"outlinewidth\":0,\"ticks\":\"\"}},\"type\":\"parcoords\"}],\"pie\":[{\"automargin\":true,\"type\":\"pie\"}],\"scatter\":[{\"marker\":{\"colorbar\":{\"outlinewidth\":0,\"ticks\":\"\"}},\"type\":\"scatter\"}],\"scatter3d\":[{\"line\":{\"colorbar\":{\"outlinewidth\":0,\"ticks\":\"\"}},\"marker\":{\"colorbar\":{\"outlinewidth\":0,\"ticks\":\"\"}},\"type\":\"scatter3d\"}],\"scattercarpet\":[{\"marker\":{\"colorbar\":{\"outlinewidth\":0,\"ticks\":\"\"}},\"type\":\"scattercarpet\"}],\"scattergeo\":[{\"marker\":{\"colorbar\":{\"outlinewidth\":0,\"ticks\":\"\"}},\"type\":\"scattergeo\"}],\"scattergl\":[{\"marker\":{\"colorbar\":{\"outlinewidth\":0,\"ticks\":\"\"}},\"type\":\"scattergl\"}],\"scattermapbox\":[{\"marker\":{\"colorbar\":{\"outlinewidth\":0,\"ticks\":\"\"}},\"type\":\"scattermapbox\"}],\"scatterpolar\":[{\"marker\":{\"colorbar\":{\"outlinewidth\":0,\"ticks\":\"\"}},\"type\":\"scatterpolar\"}],\"scatterpolargl\":[{\"marker\":{\"colorbar\":{\"outlinewidth\":0,\"ticks\":\"\"}},\"type\":\"scatterpolargl\"}],\"scatterternary\":[{\"marker\":{\"colorbar\":{\"outlinewidth\":0,\"ticks\":\"\"}},\"type\":\"scatterternary\"}],\"surface\":[{\"colorbar\":{\"outlinewidth\":0,\"ticks\":\"\"},\"colorscale\":[[0.0,\"#0d0887\"],[0.1111111111111111,\"#46039f\"],[0.2222222222222222,\"#7201a8\"],[0.3333333333333333,\"#9c179e\"],[0.4444444444444444,\"#bd3786\"],[0.5555555555555556,\"#d8576b\"],[0.6666666666666666,\"#ed7953\"],[0.7777777777777778,\"#fb9f3a\"],[0.8888888888888888,\"#fdca26\"],[1.0,\"#f0f921\"]],\"type\":\"surface\"}],\"table\":[{\"cells\":{\"fill\":{\"color\":\"#EBF0F8\"},\"line\":{\"color\":\"white\"}},\"header\":{\"fill\":{\"color\":\"#C8D4E3\"},\"line\":{\"color\":\"white\"}},\"type\":\"table\"}]},\"layout\":{\"annotationdefaults\":{\"arrowcolor\":\"#2a3f5f\",\"arrowhead\":0,\"arrowwidth\":1},\"autotypenumbers\":\"strict\",\"coloraxis\":{\"colorbar\":{\"outlinewidth\":0,\"ticks\":\"\"}},\"colorscale\":{\"diverging\":[[0,\"#8e0152\"],[0.1,\"#c51b7d\"],[0.2,\"#de77ae\"],[0.3,\"#f1b6da\"],[0.4,\"#fde0ef\"],[0.5,\"#f7f7f7\"],[0.6,\"#e6f5d0\"],[0.7,\"#b8e186\"],[0.8,\"#7fbc41\"],[0.9,\"#4d9221\"],[1,\"#276419\"]],\"sequential\":[[0.0,\"#0d0887\"],[0.1111111111111111,\"#46039f\"],[0.2222222222222222,\"#7201a8\"],[0.3333333333333333,\"#9c179e\"],[0.4444444444444444,\"#bd3786\"],[0.5555555555555556,\"#d8576b\"],[0.6666666666666666,\"#ed7953\"],[0.7777777777777778,\"#fb9f3a\"],[0.8888888888888888,\"#fdca26\"],[1.0,\"#f0f921\"]],\"sequentialminus\":[[0.0,\"#0d0887\"],[0.1111111111111111,\"#46039f\"],[0.2222222222222222,\"#7201a8\"],[0.3333333333333333,\"#9c179e\"],[0.4444444444444444,\"#bd3786\"],[0.5555555555555556,\"#d8576b\"],[0.6666666666666666,\"#ed7953\"],[0.7777777777777778,\"#fb9f3a\"],[0.8888888888888888,\"#fdca26\"],[1.0,\"#f0f921\"]]},\"colorway\":[\"#636efa\",\"#EF553B\",\"#00cc96\",\"#ab63fa\",\"#FFA15A\",\"#19d3f3\",\"#FF6692\",\"#B6E880\",\"#FF97FF\",\"#FECB52\"],\"font\":{\"color\":\"#2a3f5f\"},\"geo\":{\"bgcolor\":\"white\",\"lakecolor\":\"white\",\"landcolor\":\"#E5ECF6\",\"showlakes\":true,\"showland\":true,\"subunitcolor\":\"white\"},\"hoverlabel\":{\"align\":\"left\"},\"hovermode\":\"closest\",\"mapbox\":{\"style\":\"light\"},\"paper_bgcolor\":\"white\",\"plot_bgcolor\":\"#E5ECF6\",\"polar\":{\"angularaxis\":{\"gridcolor\":\"white\",\"linecolor\":\"white\",\"ticks\":\"\"},\"bgcolor\":\"#E5ECF6\",\"radialaxis\":{\"gridcolor\":\"white\",\"linecolor\":\"white\",\"ticks\":\"\"}},\"scene\":{\"xaxis\":{\"backgroundcolor\":\"#E5ECF6\",\"gridcolor\":\"white\",\"gridwidth\":2,\"linecolor\":\"white\",\"showbackground\":true,\"ticks\":\"\",\"zerolinecolor\":\"white\"},\"yaxis\":{\"backgroundcolor\":\"#E5ECF6\",\"gridcolor\":\"white\",\"gridwidth\":2,\"linecolor\":\"white\",\"showbackground\":true,\"ticks\":\"\",\"zerolinecolor\":\"white\"},\"zaxis\":{\"backgroundcolor\":\"#E5ECF6\",\"gridcolor\":\"white\",\"gridwidth\":2,\"linecolor\":\"white\",\"showbackground\":true,\"ticks\":\"\",\"zerolinecolor\":\"white\"}},\"shapedefaults\":{\"line\":{\"color\":\"#2a3f5f\"}},\"ternary\":{\"aaxis\":{\"gridcolor\":\"white\",\"linecolor\":\"white\",\"ticks\":\"\"},\"baxis\":{\"gridcolor\":\"white\",\"linecolor\":\"white\",\"ticks\":\"\"},\"bgcolor\":\"#E5ECF6\",\"caxis\":{\"gridcolor\":\"white\",\"linecolor\":\"white\",\"ticks\":\"\"}},\"title\":{\"x\":0.05},\"xaxis\":{\"automargin\":true,\"gridcolor\":\"white\",\"linecolor\":\"white\",\"ticks\":\"\",\"title\":{\"standoff\":15},\"zerolinecolor\":\"white\",\"zerolinewidth\":2},\"yaxis\":{\"automargin\":true,\"gridcolor\":\"white\",\"linecolor\":\"white\",\"ticks\":\"\",\"title\":{\"standoff\":15},\"zerolinecolor\":\"white\",\"zerolinewidth\":2}}},\"title\":{\"text\":\"Similaridad Aminas\",\"x\":0.55,\"xanchor\":\"center\",\"y\":0.9,\"yanchor\":\"top\"},\"width\":800,\"xaxis\":{\"domain\":[0.15,1],\"mirror\":false,\"rangemode\":\"tozero\",\"showgrid\":false,\"showline\":false,\"showticklabels\":true,\"tickmode\":\"array\",\"ticks\":\"\",\"ticktext\":[\"4methoxyphenethyl\",\"PhEtNH3I\",\"4FluoroPhenethyl\",\"Benzyl\",\"4TrifluoromethylBenzyl\",\"4TrifluoromethylPhenyl\",\"4FluoroPhenyl\",\"Phenyl\",\"4MethoxyPhenyl\",\"ImidazoliumIodide\",\"GnNH3I\",\"FormamidiniumIodide\",\"MeNH3I\",\"NNDiethylpropane13di\",\"Diethyl\",\"Diisopropyl\",\"iPropyl\",\"tButyl\",\"neoPentyl\",\"iButyl\",\"NPropyl\",\"n-BuNH3I\",\"IPentyl\",\"nHexyl\",\"nDodecyl\",\"Cyclohexylmethyl\",\"TertOctyl\"],\"tickvals\":[5.0,15.0,25.0,35.0,45.0,55.0,65.0,75.0,85.0,95.0,105.0,115.0,125.0,135.0,145.0,155.0,165.0,175.0,185.0,195.0,205.0,215.0,225.0,235.0,245.0,255.0,265.0],\"type\":\"linear\",\"zeroline\":false},\"xaxis2\":{\"domain\":[0,0.15],\"mirror\":false,\"showgrid\":false,\"showline\":false,\"showticklabels\":false,\"ticks\":\"\",\"zeroline\":false},\"yaxis\":{\"domain\":[0,0.85],\"mirror\":false,\"rangemode\":\"tozero\",\"showgrid\":false,\"showline\":false,\"showticklabels\":false,\"ticks\":\"\",\"ticktext\":[\"4methoxyphenethyl\",\"PhEtNH3I\",\"4FluoroPhenethyl\",\"Benzyl\",\"4TrifluoromethylBenzyl\",\"4TrifluoromethylPhenyl\",\"4FluoroPhenyl\",\"Phenyl\",\"4MethoxyPhenyl\",\"ImidazoliumIodide\",\"GnNH3I\",\"FormamidiniumIodide\",\"MeNH3I\",\"NNDiethylpropane13di\",\"Diethyl\",\"Diisopropyl\",\"iPropyl\",\"tButyl\",\"neoPentyl\",\"iButyl\",\"NPropyl\",\"n-BuNH3I\",\"IPentyl\",\"nHexyl\",\"nDodecyl\",\"Cyclohexylmethyl\",\"TertOctyl\"],\"tickvals\":[5.0,15.0,25.0,35.0,45.0,55.0,65.0,75.0,85.0,95.0,105.0,115.0,125.0,135.0,145.0,155.0,165.0,175.0,185.0,195.0,205.0,215.0,225.0,235.0,245.0,255.0,265.0],\"type\":\"linear\",\"zeroline\":false},\"yaxis2\":{\"domain\":[0.825,0.975],\"mirror\":false,\"showgrid\":false,\"showline\":false,\"showticklabels\":false,\"ticks\":\"\",\"zeroline\":false}},                        {\"responsive\": true}                    ).then(function(){\n",
       "                            \n",
       "var gd = document.getElementById('07ebb698-2b5f-44f2-a646-e51b80cd45e3');\n",
       "var x = new MutationObserver(function (mutations, observer) {{\n",
       "        var display = window.getComputedStyle(gd).display;\n",
       "        if (!display || display === 'none') {{\n",
       "            console.log([gd, 'removed!']);\n",
       "            Plotly.purge(gd);\n",
       "            observer.disconnect();\n",
       "        }}\n",
       "}});\n",
       "\n",
       "// Listen for the removal of the full notebook cells\n",
       "var notebookContainer = gd.closest('#notebook-container');\n",
       "if (notebookContainer) {{\n",
       "    x.observe(notebookContainer, {childList: true});\n",
       "}}\n",
       "\n",
       "// Listen for the clearing of the current output cell\n",
       "var outputEl = gd.closest('.output');\n",
       "if (outputEl) {{\n",
       "    x.observe(outputEl, {childList: true});\n",
       "}}\n",
       "\n",
       "                        })                };                });            </script>        </div>"
      ]
     },
     "metadata": {}
    }
   ],
   "metadata": {}
  },
  {
   "cell_type": "markdown",
   "source": [
    "- ciclohexil \n",
    "    - estructuralmente a alifaticos\n",
    "    - por PF debería ir en Otros..en pca según el eje que diferencia ambos cluster, debería ir cerca de alifaticos (no tanto)\n",
    "- NNdie \n",
    "    - estructuralmente: cadenas carbonadas\n",
    "    - PF según PCA3 se alejaba...\n",
    "    - como es la de menos variabilidad y dado que por PCA2 queda marcadamente en grupo carbonado -> a grupo carbonado\n",
    "- ndodecyl estructuralmente debería ir a carbonados, pero como según PCA1 quedó lejísimos de tanto ambos cluster -> sigue en OTROS"
   ],
   "metadata": {}
  },
  {
   "cell_type": "code",
   "execution_count": 34,
   "source": [
    "df_amine_with_names.query('cluster == 1 or cluster >= 3')['Chemical Abbreviation']\n"
   ],
   "outputs": [
    {
     "output_type": "execute_result",
     "data": {
      "text/plain": [
       "2                                   GnNH3I\n",
       "14          CyclohexylmethylammoniumIodide\n",
       "46      NNDiethylpropane13diammoniumiodide\n",
       "78                  nDodecylammoniumIodide\n",
       "109                    FormamidiniumIodide\n",
       "1811                     ImidazoliumIodide\n",
       "Name: Chemical Abbreviation, dtype: object"
      ]
     },
     "metadata": {},
     "execution_count": 34
    }
   ],
   "metadata": {}
  },
  {
   "cell_type": "code",
   "execution_count": 35,
   "source": [
    "df_amine_with_names.query('cluster == 1 or cluster == 6')['Chemical Abbreviation']"
   ],
   "outputs": [
    {
     "output_type": "execute_result",
     "data": {
      "text/plain": [
       "2                   GnNH3I\n",
       "109    FormamidiniumIodide\n",
       "Name: Chemical Abbreviation, dtype: object"
      ]
     },
     "metadata": {},
     "execution_count": 35
    }
   ],
   "metadata": {}
  },
  {
   "cell_type": "code",
   "execution_count": 278,
   "source": [
    "df_amine_with_names.query('cluster == 5')['Chemical Abbreviation']\n"
   ],
   "outputs": [
    {
     "output_type": "execute_result",
     "data": {
      "text/plain": [
       "14    NNDiethylpropane13diammoniumiodide\n",
       "Name: Chemical Abbreviation, dtype: object"
      ]
     },
     "metadata": {},
     "execution_count": 278
    }
   ],
   "metadata": {}
  },
  {
   "cell_type": "code",
   "execution_count": 342,
   "source": [
    "df_amine_with_names.query('cluster == 3')['Chemical Abbreviation']\n"
   ],
   "outputs": [
    {
     "output_type": "execute_result",
     "data": {
      "text/plain": [
       "14    CyclohexylmethylammoniumIodide\n",
       "Name: Chemical Abbreviation, dtype: object"
      ]
     },
     "metadata": {},
     "execution_count": 342
    }
   ],
   "metadata": {}
  },
  {
   "cell_type": "code",
   "execution_count": 281,
   "source": [
    "df_amine_with_names.query('cluster == 7')['Chemical Abbreviation']\n"
   ],
   "outputs": [
    {
     "output_type": "execute_result",
     "data": {
      "text/plain": [
       "155    nDodecylammoniumIodide\n",
       "Name: Chemical Abbreviation, dtype: object"
      ]
     },
     "metadata": {},
     "execution_count": 281
    }
   ],
   "metadata": {}
  },
  {
   "cell_type": "code",
   "execution_count": 279,
   "source": [
    "df_amine_with_names.query('cluster == 8')['Chemical Abbreviation']\n"
   ],
   "outputs": [
    {
     "output_type": "execute_result",
     "data": {
      "text/plain": [
       "1696    ImidazoliumIodide\n",
       "Name: Chemical Abbreviation, dtype: object"
      ]
     },
     "metadata": {},
     "execution_count": 279
    }
   ],
   "metadata": {}
  },
  {
   "cell_type": "code",
   "execution_count": 36,
   "source": [
    "import plotly.graph_objects as go\n",
    "import plotly.figure_factory as ff\n",
    "import plotly.offline as pyo\n",
    "\n",
    "from scipy.spatial.distance import pdist, squareform\n",
    "\n",
    "import scipy.cluster.hierarchy as sch\n",
    "\n",
    "pyo.init_notebook_mode(connected=True)\n",
    "\n",
    "def plot_heatmap_plotly(numpy_array, columns, title, dendogramMethod='centroid', colorbar_title = 'Correlación (Abs)'):\n",
    "    data_array = numpy_array\n",
    "    labels = columns\n",
    "    colorScale = 'default'\n",
    "   \n",
    "    # Initialize figure by creating upper dendrogram\n",
    "    #fig = ff.create_dendrogram(data_array, orientation='bottom', linkagefun=lambda x: sch.linkage(x, method=dendogramMethod, metric=distanceMethod ,optimal_ordering=True), labels=labels)\n",
    "    fig = ff.create_dendrogram(data_array, orientation='bottom', linkagefun=lambda x: sch.linkage(x, method=dendogramMethod, optimal_ordering=True), labels=labels)\n",
    "    for i in range(len(fig['data'])):\n",
    "        fig['data'][i]['yaxis'] = 'y2'\n",
    "\n",
    "    # Create Side Dendrogram\n",
    "    #dendro_side = ff.create_dendrogram(data_array, orientation='right', linkagefun=lambda x: sch.linkage(x, method=dendogramMethod, metric=distanceMethod,  optimal_ordering=True) )\n",
    "    dendro_side = ff.create_dendrogram(data_array, orientation='right', linkagefun=lambda x: sch.linkage(x, method=dendogramMethod, optimal_ordering=True) )\n",
    "\n",
    "    for i in range(len(dendro_side['data'])):\n",
    "        dendro_side['data'][i]['xaxis'] = 'x2'\n",
    "\n",
    "    # Add Side Dendrogram Data to Figure\n",
    "    # ~ stack1 = []\n",
    "    for data in dendro_side['data']:\n",
    "        fig.add_trace(data)\n",
    "\n",
    "\n",
    "    # Create Heatmap\n",
    "    dendro_leaves = dendro_side['layout']['yaxis']['ticktext']\n",
    "    dendro_leaves = list(map(int, dendro_leaves))\n",
    "    heat_data = data_array\n",
    "    heat_data = heat_data[dendro_leaves,:]\n",
    "    heat_data = heat_data[:,dendro_leaves]\n",
    "\n",
    "    if(colorScale!='default'):\n",
    "        aux=go.Heatmap(\n",
    "            x = dendro_leaves,\n",
    "            y = dendro_leaves,\n",
    "            z = heat_data,\n",
    "            colorscale = colorScale,\n",
    "            colorbar=dict(title='Trie distances'),\n",
    "            )\n",
    "        heatmap = [aux]\n",
    "    else:\n",
    "        aux = go.Heatmap(\n",
    "            x=dendro_leaves,\n",
    "            y=dendro_leaves,\n",
    "            z=heat_data,\n",
    "            colorbar=dict(title=colorbar_title),\n",
    "        )\n",
    "        heatmap = [aux]\n",
    "        # heatmap = [\n",
    "        # \tgo.Heatmap(\n",
    "        # \t\tx = dendro_leaves,\n",
    "        # \t\ty = dendro_leaves,\n",
    "        # \t\tz = heat_data\n",
    "        # \t)\n",
    "        # ]\n",
    "\t\n",
    "    heatmap[0]['x'] = fig['layout']['xaxis']['tickvals']\n",
    "    heatmap[0]['y'] = dendro_side['layout']['yaxis']['tickvals']\n",
    "    # Add Heatmap Data to Figure\n",
    "    for data in heatmap:\n",
    "        fig.add_trace(data)\n",
    "\n",
    "\n",
    "    # Edit Layout\n",
    "    fig.update_layout({'width':800, 'height':800,\n",
    "                            'showlegend':False, 'hovermode': 'closest',\n",
    "                            })\n",
    "\n",
    "    fig.update_layout(title={\n",
    "                        'text': title,\n",
    "                        'y':0.9,\n",
    "                        'x':0.55,\n",
    "                        'xanchor': 'center',\n",
    "                        'yanchor': 'top'})\n",
    "\n",
    "    # Edit xaxis\n",
    "    fig.update_layout(xaxis={'domain': [.15, 1],\n",
    "                                    'mirror': False,\n",
    "                                    'showgrid': False,\n",
    "                                    'showline': False,\n",
    "                                    'zeroline': False,\n",
    "                                    'ticks':\"\"})\n",
    "    # Edit xaxis2\n",
    "    fig.update_layout(xaxis2={'domain': [0, .15],\n",
    "                                    'mirror': False,\n",
    "                                    'showgrid': False,\n",
    "                                    'showline': False,\n",
    "                                    'zeroline': False,\n",
    "                                    'showticklabels': False,\n",
    "                                    'ticks':\"\"})\n",
    "\n",
    "    # Edit yaxis\n",
    "    fig.update_layout(yaxis={'domain': [0, .85],\n",
    "                                    'mirror': False,\n",
    "                                    'showgrid': False,\n",
    "                                    'showline': False,\n",
    "                                    'zeroline': False,\n",
    "                                    'showticklabels': False,\n",
    "                                    'ticks': \"\"\n",
    "                            })\n",
    "    # Edit yaxis2\n",
    "    fig.update_layout(yaxis2={'domain':[.825, .975],\n",
    "                                        'mirror': False,\n",
    "                                        'showgrid': False,\n",
    "                                        'showline': False,\n",
    "                                        'zeroline': False,\n",
    "                                        'showticklabels': False,\n",
    "                                        'ticks':\"\"})\n",
    "    # ~ print(fig)\n",
    "    fig['layout']['yaxis']['ticktext'] = fig['layout']['xaxis']['ticktext']\n",
    "    fig['layout']['yaxis']['tickvals'] = fig['layout']['xaxis']['tickvals']\n",
    "\n",
    "\n",
    "    #fig.show()\n",
    "\n",
    "    pyo.iplot(fig, filename='test')"
   ],
   "outputs": [
    {
     "output_type": "display_data",
     "data": {
      "text/html": [
       "        <script type=\"text/javascript\">\n",
       "        window.PlotlyConfig = {MathJaxConfig: 'local'};\n",
       "        if (window.MathJax) {MathJax.Hub.Config({SVG: {font: \"STIX-Web\"}});}\n",
       "        if (typeof require !== 'undefined') {\n",
       "        require.undef(\"plotly\");\n",
       "        requirejs.config({\n",
       "            paths: {\n",
       "                'plotly': ['https://cdn.plot.ly/plotly-2.2.0.min']\n",
       "            }\n",
       "        });\n",
       "        require(['plotly'], function(Plotly) {\n",
       "            window._Plotly = Plotly;\n",
       "        });\n",
       "        }\n",
       "        </script>\n",
       "        "
      ]
     },
     "metadata": {}
    }
   ],
   "metadata": {}
  },
  {
   "cell_type": "code",
   "execution_count": 282,
   "source": [
    "df_amine_with_names[df_amine_with_names['Chemical Abbreviation'] == 'AcNH3I']['_rxn_organic-inchikey']"
   ],
   "outputs": [
    {
     "output_type": "execute_result",
     "data": {
      "text/plain": [
       "1    GGYGJCFIYJVWIP-UHFFFAOYSA-N\n",
       "Name: _rxn_organic-inchikey, dtype: object"
      ]
     },
     "metadata": {},
     "execution_count": 282
    }
   ],
   "metadata": {}
  },
  {
   "cell_type": "code",
   "execution_count": 19,
   "source": [
    "\n"
   ],
   "outputs": [
    {
     "output_type": "execute_result",
     "data": {
      "text/plain": [
       "0.6"
      ]
     },
     "metadata": {},
     "execution_count": 19
    }
   ],
   "metadata": {}
  },
  {
   "cell_type": "markdown",
   "source": [
    "## Visualization"
   ],
   "metadata": {}
  },
  {
   "cell_type": "markdown",
   "source": [
    "### PCA "
   ],
   "metadata": {}
  },
  {
   "cell_type": "code",
   "execution_count": 37,
   "source": [
    "def apply_pca(df, n_components):\n",
    "    pca = PCA(n_components=n_components, svd_solver = 'auto')\n",
    "    principal_components=pca.fit_transform(df)\n",
    "    pca_columns = ['PCA_'+ str(n) for n in range(1,n_components+1)]\n",
    "    pca_df = pd.DataFrame(data = principal_components, columns = pca_columns)\n",
    "    return pca_df, pca\n"
   ],
   "outputs": [],
   "metadata": {}
  },
  {
   "cell_type": "code",
   "execution_count": 38,
   "source": [
    "def plot_3d_cluster(reduced_df, cluster_ids, name_color, method='PCA'):\n",
    "    reduced_df[name_color] = cluster_ids\n",
    "    reduced_df[name_color] = reduced_df[name_color].astype(str)\n",
    "    if method == 'PCA':\n",
    "        fig = px.scatter_3d(reduced_df, x='PCA_1', y='PCA_2', z='PCA_3',\n",
    "                    color=name_color)\n",
    "    else:\n",
    "        fig = px.scatter_3d(reduced_df, x='TSNE_1', y='TSNE_2', z='TSNE_3',\n",
    "            color=name_color)\n",
    "    fig.show()\n"
   ],
   "outputs": [],
   "metadata": {}
  },
  {
   "cell_type": "markdown",
   "source": [
    "Transformed amines to 3 components"
   ],
   "metadata": {}
  },
  {
   "cell_type": "code",
   "execution_count": 39,
   "source": [
    "amine_3_components_pca = apply_pca(X, 3)"
   ],
   "outputs": [],
   "metadata": {}
  },
  {
   "cell_type": "code",
   "execution_count": 40,
   "source": [
    "import plotly.figure_factory as ff\n",
    "import scipy.cluster.hierarchy as sch\n",
    "import plotly.graph_objects as go\n",
    "\n",
    "#https://docs.scipy.org/doc/scipy/reference/generated/scipy.cluster.hierarchy.linkage.html dendogramMethod\n",
    "\n",
    "def plot_heap_map_with_dendogram(data, cols, rows, title, dendogramMethod='weighted'):\n",
    "    data_array = data\n",
    "    labels = cols\n",
    "    colorScale = 'default'\n",
    "\n",
    "    # Add upper dendogram\n",
    "    fig = ff.create_dendrogram(data.transpose(), orientation='bottom', linkagefun=lambda x: sch.linkage(x, method=dendogramMethod, optimal_ordering=True), labels=labels)\n",
    "    for i in range(len(fig['data'])):\n",
    "        fig['data'][i]['yaxis'] = 'y2'\n",
    "\n",
    "    # Create Side Dendrogram to aux calculation in heatmap\n",
    "    #dendro_side = ff.create_dendrogram(data_array, orientation='right', linkagefun=lambda x: sch.linkage(x, method=dendogramMethod, metric=distanceMethod,  optimal_ordering=True) )\n",
    "    dendro_side = ff.create_dendrogram(data.transpose(), orientation='right', linkagefun=lambda x: sch.linkage(x, method=dendogramMethod, optimal_ordering=True) )\n",
    "\n",
    "    for i in range(len(dendro_side['data'])):\n",
    "        dendro_side['data'][i]['xaxis'] = 'x2'\n",
    "   \n",
    "    # Delete side dendograms\n",
    "    # for data in dendro_side['data']:\n",
    "     #   fig.add_trace(data)\n",
    "    \n",
    "    # Create and add heatmap\n",
    "    dendro_leaves = dendro_side['layout']['yaxis']['ticktext']\n",
    "    dendro_leaves = list(map(int, dendro_leaves))\n",
    "    heat_data = data_array\n",
    "    heat_data = heat_data[:,dendro_leaves]\n",
    "    heatmap = go.Heatmap(\n",
    "        z = heat_data,\n",
    "        colorbar = {'len':0.8, 'nticks':15, 'title':'loadings'},\n",
    "        colorscale='Blackbody',\n",
    "    )\n",
    "    heatmap['y'] = [n for n in range(8)] \n",
    "    heatmap['x'] = fig['layout']['xaxis']['tickvals']\n",
    "   \n",
    "    fig.add_trace(heatmap)\n",
    "\n",
    "    fig.update_layout({'width':1200, 'height':800,\n",
    "                        'showlegend':False,\n",
    "                        'boxmode': 'group',\n",
    "                        })\n",
    "\n",
    "        # Edit xaxis\n",
    "    fig.update_layout(xaxis={'domain': [1, 1],\n",
    "                                    'mirror': False,\n",
    "                                    'showgrid': False,\n",
    "                                    'showline': False,\n",
    "                                    'zeroline': False,\n",
    "                                    'ticks':\"\"})\n",
    "    # Edit xaxis2\n",
    "    fig.update_layout(xaxis2={'domain': [1, .8],\n",
    "                                    'mirror': False,\n",
    "                                    'showgrid': False,\n",
    "                                    'showline': False,\n",
    "                                    'zeroline': False,\n",
    "                                    'showticklabels': False,\n",
    "                                    'ticks':\"\"})\n",
    "\n",
    "    # Edit yaxis\n",
    "      # Edit yaxis\n",
    "    fig.update_layout(yaxis={'domain': [0.1, 0.8],\n",
    "                                'mirror': False,\n",
    "                                'showgrid': False,\n",
    "                                'showline': False,\n",
    "                                'zeroline': False,\n",
    "                                'showticklabels': True,\n",
    "                                'tickmode':'array',\n",
    "                                'ticks': \"\",\n",
    "                                'title': 'Componente PCA'\n",
    "                        })\n",
    "    # Edit yaxis2\n",
    "    fig.update_layout(yaxis2={'domain':[0.8, 1],\n",
    "                            'mirror': False,\n",
    "                            'showgrid': False,\n",
    "                            'showline': False,\n",
    "                            'zeroline': False,\n",
    "                            'showticklabels': False,\n",
    "                            'ticks':\"\"})\n",
    "\n",
    "    fig.update_layout(title={\n",
    "                    'text': title,\n",
    "                    'y':0.9,\n",
    "                    'x':0.5,\n",
    "                    'xanchor': 'center',\n",
    "                    'yanchor': 'top'})\n",
    "\n",
    "    fig['layout']['yaxis']['ticktext'] = ['PCA '+str(n) for n in range(1,9)] \n",
    "    fig['layout']['yaxis']['tickvals'] = [n for n in range(0,8)] \n",
    "\n",
    "\n",
    "    fig.show()"
   ],
   "outputs": [],
   "metadata": {}
  },
  {
   "cell_type": "code",
   "execution_count": 48,
   "source": [
    "def plot_cluster_amine(X, amine_3_components, distance, method):\n",
    "    labels = dbsc_label(X, distance)\n",
    "    plot_3d_cluster(amine_3_components, labels, 'cluster_ID', method)\n"
   ],
   "outputs": [],
   "metadata": {}
  },
  {
   "cell_type": "code",
   "execution_count": 49,
   "source": [
    "plot_cluster_amine(X, amine_3_components_pca, distance = 3, method='PCA')\n",
    "# oversampling y undersampling\n",
    "# agregar col extra de cluster\n",
    "# considerar que los ejes de PCA su rango no es el mismo\n",
    "# no es necesaro separarlos\n"
   ],
   "outputs": [
    {
     "output_type": "display_data",
     "data": {
      "application/vnd.plotly.v1+json": {
       "config": {
        "plotlyServerURL": "https://plot.ly"
       },
       "data": [
        {
         "hovertemplate": "cluster_ID=0<br>PCA_1=%{x}<br>PCA_2=%{y}<br>PCA_3=%{z}<extra></extra>",
         "legendgroup": "0",
         "marker": {
          "color": "#636efa",
          "symbol": "circle"
         },
         "mode": "markers",
         "name": "0",
         "scene": "scene",
         "showlegend": true,
         "type": "scatter3d",
         "x": [
          -0.07395625549900706,
          -1.421638184103266,
          -3.294557647060473,
          -0.9035908879334348,
          1.7129784889355841,
          2.162045142954264,
          -1.797094158567269,
          1.5183798377248137,
          -0.14490917409924597,
          -3.2048951439186166,
          1.3422786032666374,
          -1.784896533967849,
          0.006562775540400063,
          1.8739019495343294,
          -1.587320635219749,
          -2.243416818928883,
          2.3175038369461936,
          0.6075622771646444,
          3.6828944063546936,
          1.847538031560394
         ],
         "y": [
          -0.7718253176117217,
          -0.513096059482783,
          -1.158881274184589,
          -1.1905979762431331,
          -2.345020630569088,
          -0.5226318027054794,
          -1.1167056354780254,
          0.3544031951001166,
          -2.372995619653937,
          -0.48404091921334025,
          -0.7907759669142367,
          -2.388065261006082,
          0.13693983332392368,
          1.5455136639002316,
          1.0183693231184545,
          1.0223558491610303,
          3.290905196057905,
          2.8651589501412165,
          -2.483523636295724,
          0.030903109420983017
         ],
         "z": [
          0.09550537585971054,
          1.4098953293500427,
          -0.07984759037286783,
          1.6637049956420964,
          -0.3835290251653392,
          1.5881656492539733,
          -0.01590891952384198,
          0.5725151365813942,
          -0.974556656545641,
          1.1928606795824086,
          -0.5938558957867397,
          -1.1295472421441903,
          -0.37399085826223694,
          -0.3884813545960659,
          -0.1798938477894226,
          -0.3162897975908862,
          -1.8708981552072863,
          -1.3973203015339062,
          -1.7120433100723889,
          0.47768373323646185
         ]
        },
        {
         "hovertemplate": "cluster_ID=1<br>PCA_1=%{x}<br>PCA_2=%{y}<br>PCA_3=%{z}<extra></extra>",
         "legendgroup": "1",
         "marker": {
          "color": "#EF553B",
          "symbol": "circle"
         },
         "mode": "markers",
         "name": "1",
         "scene": "scene",
         "showlegend": true,
         "type": "scatter3d",
         "x": [
          -6.2362788054146225,
          -7.216808142303892,
          -5.79703694407886
         ],
         "y": [
          1.6276742986408081,
          1.9691321314179524,
          1.0116307870655978
         ],
         "z": [
          -1.0887163400867925,
          0.2593525209367738,
          0.11222509360531244
         ]
        },
        {
         "hovertemplate": "cluster_ID=2<br>PCA_1=%{x}<br>PCA_2=%{y}<br>PCA_3=%{z}<extra></extra>",
         "legendgroup": "2",
         "marker": {
          "color": "#00cc96",
          "symbol": "circle"
         },
         "mode": "markers",
         "name": "2",
         "scene": "scene",
         "showlegend": true,
         "type": "scatter3d",
         "x": [
          5.150276655715249
         ],
         "y": [
          0.5744624415358558
         ],
         "z": [
          1.0469375957180056
         ]
        },
        {
         "hovertemplate": "cluster_ID=3<br>PCA_1=%{x}<br>PCA_2=%{y}<br>PCA_3=%{z}<extra></extra>",
         "legendgroup": "3",
         "marker": {
          "color": "#ab63fa",
          "symbol": "circle"
         },
         "mode": "markers",
         "name": "3",
         "scene": "scene",
         "showlegend": true,
         "type": "scatter3d",
         "x": [
          -6.825456736311397
         ],
         "y": [
          0.0064965695356716015
         ],
         "z": [
          2.077629584261619
         ]
        },
        {
         "hovertemplate": "cluster_ID=4<br>PCA_1=%{x}<br>PCA_2=%{y}<br>PCA_3=%{z}<extra></extra>",
         "legendgroup": "4",
         "marker": {
          "color": "#FFA15A",
          "symbol": "circle"
         },
         "mode": "markers",
         "name": "4",
         "scene": "scene",
         "showlegend": true,
         "type": "scatter3d",
         "x": [
          5.527371073632056
         ],
         "y": [
          -1.0542932214836946
         ],
         "z": [
          -1.813027790667774
         ]
        },
        {
         "hovertemplate": "cluster_ID=5<br>PCA_1=%{x}<br>PCA_2=%{y}<br>PCA_3=%{z}<extra></extra>",
         "legendgroup": "5",
         "marker": {
          "color": "#19d3f3",
          "symbol": "circle"
         },
         "mode": "markers",
         "name": "5",
         "scene": "scene",
         "showlegend": true,
         "type": "scatter3d",
         "x": [
          14.782562988077306
         ],
         "y": [
          1.7385079724220924
         ],
         "z": [
          1.8214313913175832
         ]
        }
       ],
       "layout": {
        "legend": {
         "title": {
          "text": "cluster_ID"
         },
         "tracegroupgap": 0
        },
        "margin": {
         "t": 60
        },
        "scene": {
         "domain": {
          "x": [
           0,
           1
          ],
          "y": [
           0,
           1
          ]
         },
         "xaxis": {
          "title": {
           "text": "PCA_1"
          }
         },
         "yaxis": {
          "title": {
           "text": "PCA_2"
          }
         },
         "zaxis": {
          "title": {
           "text": "PCA_3"
          }
         }
        },
        "template": {
         "data": {
          "bar": [
           {
            "error_x": {
             "color": "#2a3f5f"
            },
            "error_y": {
             "color": "#2a3f5f"
            },
            "marker": {
             "line": {
              "color": "#E5ECF6",
              "width": 0.5
             },
             "pattern": {
              "fillmode": "overlay",
              "size": 10,
              "solidity": 0.2
             }
            },
            "type": "bar"
           }
          ],
          "barpolar": [
           {
            "marker": {
             "line": {
              "color": "#E5ECF6",
              "width": 0.5
             },
             "pattern": {
              "fillmode": "overlay",
              "size": 10,
              "solidity": 0.2
             }
            },
            "type": "barpolar"
           }
          ],
          "carpet": [
           {
            "aaxis": {
             "endlinecolor": "#2a3f5f",
             "gridcolor": "white",
             "linecolor": "white",
             "minorgridcolor": "white",
             "startlinecolor": "#2a3f5f"
            },
            "baxis": {
             "endlinecolor": "#2a3f5f",
             "gridcolor": "white",
             "linecolor": "white",
             "minorgridcolor": "white",
             "startlinecolor": "#2a3f5f"
            },
            "type": "carpet"
           }
          ],
          "choropleth": [
           {
            "colorbar": {
             "outlinewidth": 0,
             "ticks": ""
            },
            "type": "choropleth"
           }
          ],
          "contour": [
           {
            "colorbar": {
             "outlinewidth": 0,
             "ticks": ""
            },
            "colorscale": [
             [
              0,
              "#0d0887"
             ],
             [
              0.1111111111111111,
              "#46039f"
             ],
             [
              0.2222222222222222,
              "#7201a8"
             ],
             [
              0.3333333333333333,
              "#9c179e"
             ],
             [
              0.4444444444444444,
              "#bd3786"
             ],
             [
              0.5555555555555556,
              "#d8576b"
             ],
             [
              0.6666666666666666,
              "#ed7953"
             ],
             [
              0.7777777777777778,
              "#fb9f3a"
             ],
             [
              0.8888888888888888,
              "#fdca26"
             ],
             [
              1,
              "#f0f921"
             ]
            ],
            "type": "contour"
           }
          ],
          "contourcarpet": [
           {
            "colorbar": {
             "outlinewidth": 0,
             "ticks": ""
            },
            "type": "contourcarpet"
           }
          ],
          "heatmap": [
           {
            "colorbar": {
             "outlinewidth": 0,
             "ticks": ""
            },
            "colorscale": [
             [
              0,
              "#0d0887"
             ],
             [
              0.1111111111111111,
              "#46039f"
             ],
             [
              0.2222222222222222,
              "#7201a8"
             ],
             [
              0.3333333333333333,
              "#9c179e"
             ],
             [
              0.4444444444444444,
              "#bd3786"
             ],
             [
              0.5555555555555556,
              "#d8576b"
             ],
             [
              0.6666666666666666,
              "#ed7953"
             ],
             [
              0.7777777777777778,
              "#fb9f3a"
             ],
             [
              0.8888888888888888,
              "#fdca26"
             ],
             [
              1,
              "#f0f921"
             ]
            ],
            "type": "heatmap"
           }
          ],
          "heatmapgl": [
           {
            "colorbar": {
             "outlinewidth": 0,
             "ticks": ""
            },
            "colorscale": [
             [
              0,
              "#0d0887"
             ],
             [
              0.1111111111111111,
              "#46039f"
             ],
             [
              0.2222222222222222,
              "#7201a8"
             ],
             [
              0.3333333333333333,
              "#9c179e"
             ],
             [
              0.4444444444444444,
              "#bd3786"
             ],
             [
              0.5555555555555556,
              "#d8576b"
             ],
             [
              0.6666666666666666,
              "#ed7953"
             ],
             [
              0.7777777777777778,
              "#fb9f3a"
             ],
             [
              0.8888888888888888,
              "#fdca26"
             ],
             [
              1,
              "#f0f921"
             ]
            ],
            "type": "heatmapgl"
           }
          ],
          "histogram": [
           {
            "marker": {
             "pattern": {
              "fillmode": "overlay",
              "size": 10,
              "solidity": 0.2
             }
            },
            "type": "histogram"
           }
          ],
          "histogram2d": [
           {
            "colorbar": {
             "outlinewidth": 0,
             "ticks": ""
            },
            "colorscale": [
             [
              0,
              "#0d0887"
             ],
             [
              0.1111111111111111,
              "#46039f"
             ],
             [
              0.2222222222222222,
              "#7201a8"
             ],
             [
              0.3333333333333333,
              "#9c179e"
             ],
             [
              0.4444444444444444,
              "#bd3786"
             ],
             [
              0.5555555555555556,
              "#d8576b"
             ],
             [
              0.6666666666666666,
              "#ed7953"
             ],
             [
              0.7777777777777778,
              "#fb9f3a"
             ],
             [
              0.8888888888888888,
              "#fdca26"
             ],
             [
              1,
              "#f0f921"
             ]
            ],
            "type": "histogram2d"
           }
          ],
          "histogram2dcontour": [
           {
            "colorbar": {
             "outlinewidth": 0,
             "ticks": ""
            },
            "colorscale": [
             [
              0,
              "#0d0887"
             ],
             [
              0.1111111111111111,
              "#46039f"
             ],
             [
              0.2222222222222222,
              "#7201a8"
             ],
             [
              0.3333333333333333,
              "#9c179e"
             ],
             [
              0.4444444444444444,
              "#bd3786"
             ],
             [
              0.5555555555555556,
              "#d8576b"
             ],
             [
              0.6666666666666666,
              "#ed7953"
             ],
             [
              0.7777777777777778,
              "#fb9f3a"
             ],
             [
              0.8888888888888888,
              "#fdca26"
             ],
             [
              1,
              "#f0f921"
             ]
            ],
            "type": "histogram2dcontour"
           }
          ],
          "mesh3d": [
           {
            "colorbar": {
             "outlinewidth": 0,
             "ticks": ""
            },
            "type": "mesh3d"
           }
          ],
          "parcoords": [
           {
            "line": {
             "colorbar": {
              "outlinewidth": 0,
              "ticks": ""
             }
            },
            "type": "parcoords"
           }
          ],
          "pie": [
           {
            "automargin": true,
            "type": "pie"
           }
          ],
          "scatter": [
           {
            "marker": {
             "colorbar": {
              "outlinewidth": 0,
              "ticks": ""
             }
            },
            "type": "scatter"
           }
          ],
          "scatter3d": [
           {
            "line": {
             "colorbar": {
              "outlinewidth": 0,
              "ticks": ""
             }
            },
            "marker": {
             "colorbar": {
              "outlinewidth": 0,
              "ticks": ""
             }
            },
            "type": "scatter3d"
           }
          ],
          "scattercarpet": [
           {
            "marker": {
             "colorbar": {
              "outlinewidth": 0,
              "ticks": ""
             }
            },
            "type": "scattercarpet"
           }
          ],
          "scattergeo": [
           {
            "marker": {
             "colorbar": {
              "outlinewidth": 0,
              "ticks": ""
             }
            },
            "type": "scattergeo"
           }
          ],
          "scattergl": [
           {
            "marker": {
             "colorbar": {
              "outlinewidth": 0,
              "ticks": ""
             }
            },
            "type": "scattergl"
           }
          ],
          "scattermapbox": [
           {
            "marker": {
             "colorbar": {
              "outlinewidth": 0,
              "ticks": ""
             }
            },
            "type": "scattermapbox"
           }
          ],
          "scatterpolar": [
           {
            "marker": {
             "colorbar": {
              "outlinewidth": 0,
              "ticks": ""
             }
            },
            "type": "scatterpolar"
           }
          ],
          "scatterpolargl": [
           {
            "marker": {
             "colorbar": {
              "outlinewidth": 0,
              "ticks": ""
             }
            },
            "type": "scatterpolargl"
           }
          ],
          "scatterternary": [
           {
            "marker": {
             "colorbar": {
              "outlinewidth": 0,
              "ticks": ""
             }
            },
            "type": "scatterternary"
           }
          ],
          "surface": [
           {
            "colorbar": {
             "outlinewidth": 0,
             "ticks": ""
            },
            "colorscale": [
             [
              0,
              "#0d0887"
             ],
             [
              0.1111111111111111,
              "#46039f"
             ],
             [
              0.2222222222222222,
              "#7201a8"
             ],
             [
              0.3333333333333333,
              "#9c179e"
             ],
             [
              0.4444444444444444,
              "#bd3786"
             ],
             [
              0.5555555555555556,
              "#d8576b"
             ],
             [
              0.6666666666666666,
              "#ed7953"
             ],
             [
              0.7777777777777778,
              "#fb9f3a"
             ],
             [
              0.8888888888888888,
              "#fdca26"
             ],
             [
              1,
              "#f0f921"
             ]
            ],
            "type": "surface"
           }
          ],
          "table": [
           {
            "cells": {
             "fill": {
              "color": "#EBF0F8"
             },
             "line": {
              "color": "white"
             }
            },
            "header": {
             "fill": {
              "color": "#C8D4E3"
             },
             "line": {
              "color": "white"
             }
            },
            "type": "table"
           }
          ]
         },
         "layout": {
          "annotationdefaults": {
           "arrowcolor": "#2a3f5f",
           "arrowhead": 0,
           "arrowwidth": 1
          },
          "autotypenumbers": "strict",
          "coloraxis": {
           "colorbar": {
            "outlinewidth": 0,
            "ticks": ""
           }
          },
          "colorscale": {
           "diverging": [
            [
             0,
             "#8e0152"
            ],
            [
             0.1,
             "#c51b7d"
            ],
            [
             0.2,
             "#de77ae"
            ],
            [
             0.3,
             "#f1b6da"
            ],
            [
             0.4,
             "#fde0ef"
            ],
            [
             0.5,
             "#f7f7f7"
            ],
            [
             0.6,
             "#e6f5d0"
            ],
            [
             0.7,
             "#b8e186"
            ],
            [
             0.8,
             "#7fbc41"
            ],
            [
             0.9,
             "#4d9221"
            ],
            [
             1,
             "#276419"
            ]
           ],
           "sequential": [
            [
             0,
             "#0d0887"
            ],
            [
             0.1111111111111111,
             "#46039f"
            ],
            [
             0.2222222222222222,
             "#7201a8"
            ],
            [
             0.3333333333333333,
             "#9c179e"
            ],
            [
             0.4444444444444444,
             "#bd3786"
            ],
            [
             0.5555555555555556,
             "#d8576b"
            ],
            [
             0.6666666666666666,
             "#ed7953"
            ],
            [
             0.7777777777777778,
             "#fb9f3a"
            ],
            [
             0.8888888888888888,
             "#fdca26"
            ],
            [
             1,
             "#f0f921"
            ]
           ],
           "sequentialminus": [
            [
             0,
             "#0d0887"
            ],
            [
             0.1111111111111111,
             "#46039f"
            ],
            [
             0.2222222222222222,
             "#7201a8"
            ],
            [
             0.3333333333333333,
             "#9c179e"
            ],
            [
             0.4444444444444444,
             "#bd3786"
            ],
            [
             0.5555555555555556,
             "#d8576b"
            ],
            [
             0.6666666666666666,
             "#ed7953"
            ],
            [
             0.7777777777777778,
             "#fb9f3a"
            ],
            [
             0.8888888888888888,
             "#fdca26"
            ],
            [
             1,
             "#f0f921"
            ]
           ]
          },
          "colorway": [
           "#636efa",
           "#EF553B",
           "#00cc96",
           "#ab63fa",
           "#FFA15A",
           "#19d3f3",
           "#FF6692",
           "#B6E880",
           "#FF97FF",
           "#FECB52"
          ],
          "font": {
           "color": "#2a3f5f"
          },
          "geo": {
           "bgcolor": "white",
           "lakecolor": "white",
           "landcolor": "#E5ECF6",
           "showlakes": true,
           "showland": true,
           "subunitcolor": "white"
          },
          "hoverlabel": {
           "align": "left"
          },
          "hovermode": "closest",
          "mapbox": {
           "style": "light"
          },
          "paper_bgcolor": "white",
          "plot_bgcolor": "#E5ECF6",
          "polar": {
           "angularaxis": {
            "gridcolor": "white",
            "linecolor": "white",
            "ticks": ""
           },
           "bgcolor": "#E5ECF6",
           "radialaxis": {
            "gridcolor": "white",
            "linecolor": "white",
            "ticks": ""
           }
          },
          "scene": {
           "xaxis": {
            "backgroundcolor": "#E5ECF6",
            "gridcolor": "white",
            "gridwidth": 2,
            "linecolor": "white",
            "showbackground": true,
            "ticks": "",
            "zerolinecolor": "white"
           },
           "yaxis": {
            "backgroundcolor": "#E5ECF6",
            "gridcolor": "white",
            "gridwidth": 2,
            "linecolor": "white",
            "showbackground": true,
            "ticks": "",
            "zerolinecolor": "white"
           },
           "zaxis": {
            "backgroundcolor": "#E5ECF6",
            "gridcolor": "white",
            "gridwidth": 2,
            "linecolor": "white",
            "showbackground": true,
            "ticks": "",
            "zerolinecolor": "white"
           }
          },
          "shapedefaults": {
           "line": {
            "color": "#2a3f5f"
           }
          },
          "ternary": {
           "aaxis": {
            "gridcolor": "white",
            "linecolor": "white",
            "ticks": ""
           },
           "baxis": {
            "gridcolor": "white",
            "linecolor": "white",
            "ticks": ""
           },
           "bgcolor": "#E5ECF6",
           "caxis": {
            "gridcolor": "white",
            "linecolor": "white",
            "ticks": ""
           }
          },
          "title": {
           "x": 0.05
          },
          "xaxis": {
           "automargin": true,
           "gridcolor": "white",
           "linecolor": "white",
           "ticks": "",
           "title": {
            "standoff": 15
           },
           "zerolinecolor": "white",
           "zerolinewidth": 2
          },
          "yaxis": {
           "automargin": true,
           "gridcolor": "white",
           "linecolor": "white",
           "ticks": "",
           "title": {
            "standoff": 15
           },
           "zerolinecolor": "white",
           "zerolinewidth": 2
          }
         }
        }
       }
      },
      "text/html": [
       "<div>                            <div id=\"b9135f55-bc4b-469d-b56a-59ac9894b6d1\" class=\"plotly-graph-div\" style=\"height:525px; width:100%;\"></div>            <script type=\"text/javascript\">                require([\"plotly\"], function(Plotly) {                    window.PLOTLYENV=window.PLOTLYENV || {};                                    if (document.getElementById(\"b9135f55-bc4b-469d-b56a-59ac9894b6d1\")) {                    Plotly.newPlot(                        \"b9135f55-bc4b-469d-b56a-59ac9894b6d1\",                        [{\"hovertemplate\":\"cluster_ID=0<br>PCA_1=%{x}<br>PCA_2=%{y}<br>PCA_3=%{z}<extra></extra>\",\"legendgroup\":\"0\",\"marker\":{\"color\":\"#636efa\",\"symbol\":\"circle\"},\"mode\":\"markers\",\"name\":\"0\",\"scene\":\"scene\",\"showlegend\":true,\"type\":\"scatter3d\",\"x\":[-0.07395625549900706,-1.421638184103266,-3.294557647060473,-0.9035908879334348,1.7129784889355841,2.162045142954264,-1.797094158567269,1.5183798377248137,-0.14490917409924597,-3.2048951439186166,1.3422786032666374,-1.784896533967849,0.006562775540400063,1.8739019495343294,-1.587320635219749,-2.243416818928883,2.3175038369461936,0.6075622771646444,3.6828944063546936,1.847538031560394],\"y\":[-0.7718253176117217,-0.513096059482783,-1.158881274184589,-1.1905979762431331,-2.345020630569088,-0.5226318027054794,-1.1167056354780254,0.3544031951001166,-2.372995619653937,-0.48404091921334025,-0.7907759669142367,-2.388065261006082,0.13693983332392368,1.5455136639002316,1.0183693231184545,1.0223558491610303,3.290905196057905,2.8651589501412165,-2.483523636295724,0.030903109420983017],\"z\":[0.09550537585971054,1.4098953293500427,-0.07984759037286783,1.6637049956420964,-0.3835290251653392,1.5881656492539733,-0.01590891952384198,0.5725151365813942,-0.974556656545641,1.1928606795824086,-0.5938558957867397,-1.1295472421441903,-0.37399085826223694,-0.3884813545960659,-0.1798938477894226,-0.3162897975908862,-1.8708981552072863,-1.3973203015339062,-1.7120433100723889,0.47768373323646185]},{\"hovertemplate\":\"cluster_ID=1<br>PCA_1=%{x}<br>PCA_2=%{y}<br>PCA_3=%{z}<extra></extra>\",\"legendgroup\":\"1\",\"marker\":{\"color\":\"#EF553B\",\"symbol\":\"circle\"},\"mode\":\"markers\",\"name\":\"1\",\"scene\":\"scene\",\"showlegend\":true,\"type\":\"scatter3d\",\"x\":[-6.2362788054146225,-7.216808142303892,-5.79703694407886],\"y\":[1.6276742986408081,1.9691321314179524,1.0116307870655978],\"z\":[-1.0887163400867925,0.2593525209367738,0.11222509360531244]},{\"hovertemplate\":\"cluster_ID=2<br>PCA_1=%{x}<br>PCA_2=%{y}<br>PCA_3=%{z}<extra></extra>\",\"legendgroup\":\"2\",\"marker\":{\"color\":\"#00cc96\",\"symbol\":\"circle\"},\"mode\":\"markers\",\"name\":\"2\",\"scene\":\"scene\",\"showlegend\":true,\"type\":\"scatter3d\",\"x\":[5.150276655715249],\"y\":[0.5744624415358558],\"z\":[1.0469375957180056]},{\"hovertemplate\":\"cluster_ID=3<br>PCA_1=%{x}<br>PCA_2=%{y}<br>PCA_3=%{z}<extra></extra>\",\"legendgroup\":\"3\",\"marker\":{\"color\":\"#ab63fa\",\"symbol\":\"circle\"},\"mode\":\"markers\",\"name\":\"3\",\"scene\":\"scene\",\"showlegend\":true,\"type\":\"scatter3d\",\"x\":[-6.825456736311397],\"y\":[0.0064965695356716015],\"z\":[2.077629584261619]},{\"hovertemplate\":\"cluster_ID=4<br>PCA_1=%{x}<br>PCA_2=%{y}<br>PCA_3=%{z}<extra></extra>\",\"legendgroup\":\"4\",\"marker\":{\"color\":\"#FFA15A\",\"symbol\":\"circle\"},\"mode\":\"markers\",\"name\":\"4\",\"scene\":\"scene\",\"showlegend\":true,\"type\":\"scatter3d\",\"x\":[5.527371073632056],\"y\":[-1.0542932214836946],\"z\":[-1.813027790667774]},{\"hovertemplate\":\"cluster_ID=5<br>PCA_1=%{x}<br>PCA_2=%{y}<br>PCA_3=%{z}<extra></extra>\",\"legendgroup\":\"5\",\"marker\":{\"color\":\"#19d3f3\",\"symbol\":\"circle\"},\"mode\":\"markers\",\"name\":\"5\",\"scene\":\"scene\",\"showlegend\":true,\"type\":\"scatter3d\",\"x\":[14.782562988077306],\"y\":[1.7385079724220924],\"z\":[1.8214313913175832]}],                        {\"legend\":{\"title\":{\"text\":\"cluster_ID\"},\"tracegroupgap\":0},\"margin\":{\"t\":60},\"scene\":{\"domain\":{\"x\":[0.0,1.0],\"y\":[0.0,1.0]},\"xaxis\":{\"title\":{\"text\":\"PCA_1\"}},\"yaxis\":{\"title\":{\"text\":\"PCA_2\"}},\"zaxis\":{\"title\":{\"text\":\"PCA_3\"}}},\"template\":{\"data\":{\"bar\":[{\"error_x\":{\"color\":\"#2a3f5f\"},\"error_y\":{\"color\":\"#2a3f5f\"},\"marker\":{\"line\":{\"color\":\"#E5ECF6\",\"width\":0.5},\"pattern\":{\"fillmode\":\"overlay\",\"size\":10,\"solidity\":0.2}},\"type\":\"bar\"}],\"barpolar\":[{\"marker\":{\"line\":{\"color\":\"#E5ECF6\",\"width\":0.5},\"pattern\":{\"fillmode\":\"overlay\",\"size\":10,\"solidity\":0.2}},\"type\":\"barpolar\"}],\"carpet\":[{\"aaxis\":{\"endlinecolor\":\"#2a3f5f\",\"gridcolor\":\"white\",\"linecolor\":\"white\",\"minorgridcolor\":\"white\",\"startlinecolor\":\"#2a3f5f\"},\"baxis\":{\"endlinecolor\":\"#2a3f5f\",\"gridcolor\":\"white\",\"linecolor\":\"white\",\"minorgridcolor\":\"white\",\"startlinecolor\":\"#2a3f5f\"},\"type\":\"carpet\"}],\"choropleth\":[{\"colorbar\":{\"outlinewidth\":0,\"ticks\":\"\"},\"type\":\"choropleth\"}],\"contour\":[{\"colorbar\":{\"outlinewidth\":0,\"ticks\":\"\"},\"colorscale\":[[0.0,\"#0d0887\"],[0.1111111111111111,\"#46039f\"],[0.2222222222222222,\"#7201a8\"],[0.3333333333333333,\"#9c179e\"],[0.4444444444444444,\"#bd3786\"],[0.5555555555555556,\"#d8576b\"],[0.6666666666666666,\"#ed7953\"],[0.7777777777777778,\"#fb9f3a\"],[0.8888888888888888,\"#fdca26\"],[1.0,\"#f0f921\"]],\"type\":\"contour\"}],\"contourcarpet\":[{\"colorbar\":{\"outlinewidth\":0,\"ticks\":\"\"},\"type\":\"contourcarpet\"}],\"heatmap\":[{\"colorbar\":{\"outlinewidth\":0,\"ticks\":\"\"},\"colorscale\":[[0.0,\"#0d0887\"],[0.1111111111111111,\"#46039f\"],[0.2222222222222222,\"#7201a8\"],[0.3333333333333333,\"#9c179e\"],[0.4444444444444444,\"#bd3786\"],[0.5555555555555556,\"#d8576b\"],[0.6666666666666666,\"#ed7953\"],[0.7777777777777778,\"#fb9f3a\"],[0.8888888888888888,\"#fdca26\"],[1.0,\"#f0f921\"]],\"type\":\"heatmap\"}],\"heatmapgl\":[{\"colorbar\":{\"outlinewidth\":0,\"ticks\":\"\"},\"colorscale\":[[0.0,\"#0d0887\"],[0.1111111111111111,\"#46039f\"],[0.2222222222222222,\"#7201a8\"],[0.3333333333333333,\"#9c179e\"],[0.4444444444444444,\"#bd3786\"],[0.5555555555555556,\"#d8576b\"],[0.6666666666666666,\"#ed7953\"],[0.7777777777777778,\"#fb9f3a\"],[0.8888888888888888,\"#fdca26\"],[1.0,\"#f0f921\"]],\"type\":\"heatmapgl\"}],\"histogram\":[{\"marker\":{\"pattern\":{\"fillmode\":\"overlay\",\"size\":10,\"solidity\":0.2}},\"type\":\"histogram\"}],\"histogram2d\":[{\"colorbar\":{\"outlinewidth\":0,\"ticks\":\"\"},\"colorscale\":[[0.0,\"#0d0887\"],[0.1111111111111111,\"#46039f\"],[0.2222222222222222,\"#7201a8\"],[0.3333333333333333,\"#9c179e\"],[0.4444444444444444,\"#bd3786\"],[0.5555555555555556,\"#d8576b\"],[0.6666666666666666,\"#ed7953\"],[0.7777777777777778,\"#fb9f3a\"],[0.8888888888888888,\"#fdca26\"],[1.0,\"#f0f921\"]],\"type\":\"histogram2d\"}],\"histogram2dcontour\":[{\"colorbar\":{\"outlinewidth\":0,\"ticks\":\"\"},\"colorscale\":[[0.0,\"#0d0887\"],[0.1111111111111111,\"#46039f\"],[0.2222222222222222,\"#7201a8\"],[0.3333333333333333,\"#9c179e\"],[0.4444444444444444,\"#bd3786\"],[0.5555555555555556,\"#d8576b\"],[0.6666666666666666,\"#ed7953\"],[0.7777777777777778,\"#fb9f3a\"],[0.8888888888888888,\"#fdca26\"],[1.0,\"#f0f921\"]],\"type\":\"histogram2dcontour\"}],\"mesh3d\":[{\"colorbar\":{\"outlinewidth\":0,\"ticks\":\"\"},\"type\":\"mesh3d\"}],\"parcoords\":[{\"line\":{\"colorbar\":{\"outlinewidth\":0,\"ticks\":\"\"}},\"type\":\"parcoords\"}],\"pie\":[{\"automargin\":true,\"type\":\"pie\"}],\"scatter\":[{\"marker\":{\"colorbar\":{\"outlinewidth\":0,\"ticks\":\"\"}},\"type\":\"scatter\"}],\"scatter3d\":[{\"line\":{\"colorbar\":{\"outlinewidth\":0,\"ticks\":\"\"}},\"marker\":{\"colorbar\":{\"outlinewidth\":0,\"ticks\":\"\"}},\"type\":\"scatter3d\"}],\"scattercarpet\":[{\"marker\":{\"colorbar\":{\"outlinewidth\":0,\"ticks\":\"\"}},\"type\":\"scattercarpet\"}],\"scattergeo\":[{\"marker\":{\"colorbar\":{\"outlinewidth\":0,\"ticks\":\"\"}},\"type\":\"scattergeo\"}],\"scattergl\":[{\"marker\":{\"colorbar\":{\"outlinewidth\":0,\"ticks\":\"\"}},\"type\":\"scattergl\"}],\"scattermapbox\":[{\"marker\":{\"colorbar\":{\"outlinewidth\":0,\"ticks\":\"\"}},\"type\":\"scattermapbox\"}],\"scatterpolar\":[{\"marker\":{\"colorbar\":{\"outlinewidth\":0,\"ticks\":\"\"}},\"type\":\"scatterpolar\"}],\"scatterpolargl\":[{\"marker\":{\"colorbar\":{\"outlinewidth\":0,\"ticks\":\"\"}},\"type\":\"scatterpolargl\"}],\"scatterternary\":[{\"marker\":{\"colorbar\":{\"outlinewidth\":0,\"ticks\":\"\"}},\"type\":\"scatterternary\"}],\"surface\":[{\"colorbar\":{\"outlinewidth\":0,\"ticks\":\"\"},\"colorscale\":[[0.0,\"#0d0887\"],[0.1111111111111111,\"#46039f\"],[0.2222222222222222,\"#7201a8\"],[0.3333333333333333,\"#9c179e\"],[0.4444444444444444,\"#bd3786\"],[0.5555555555555556,\"#d8576b\"],[0.6666666666666666,\"#ed7953\"],[0.7777777777777778,\"#fb9f3a\"],[0.8888888888888888,\"#fdca26\"],[1.0,\"#f0f921\"]],\"type\":\"surface\"}],\"table\":[{\"cells\":{\"fill\":{\"color\":\"#EBF0F8\"},\"line\":{\"color\":\"white\"}},\"header\":{\"fill\":{\"color\":\"#C8D4E3\"},\"line\":{\"color\":\"white\"}},\"type\":\"table\"}]},\"layout\":{\"annotationdefaults\":{\"arrowcolor\":\"#2a3f5f\",\"arrowhead\":0,\"arrowwidth\":1},\"autotypenumbers\":\"strict\",\"coloraxis\":{\"colorbar\":{\"outlinewidth\":0,\"ticks\":\"\"}},\"colorscale\":{\"diverging\":[[0,\"#8e0152\"],[0.1,\"#c51b7d\"],[0.2,\"#de77ae\"],[0.3,\"#f1b6da\"],[0.4,\"#fde0ef\"],[0.5,\"#f7f7f7\"],[0.6,\"#e6f5d0\"],[0.7,\"#b8e186\"],[0.8,\"#7fbc41\"],[0.9,\"#4d9221\"],[1,\"#276419\"]],\"sequential\":[[0.0,\"#0d0887\"],[0.1111111111111111,\"#46039f\"],[0.2222222222222222,\"#7201a8\"],[0.3333333333333333,\"#9c179e\"],[0.4444444444444444,\"#bd3786\"],[0.5555555555555556,\"#d8576b\"],[0.6666666666666666,\"#ed7953\"],[0.7777777777777778,\"#fb9f3a\"],[0.8888888888888888,\"#fdca26\"],[1.0,\"#f0f921\"]],\"sequentialminus\":[[0.0,\"#0d0887\"],[0.1111111111111111,\"#46039f\"],[0.2222222222222222,\"#7201a8\"],[0.3333333333333333,\"#9c179e\"],[0.4444444444444444,\"#bd3786\"],[0.5555555555555556,\"#d8576b\"],[0.6666666666666666,\"#ed7953\"],[0.7777777777777778,\"#fb9f3a\"],[0.8888888888888888,\"#fdca26\"],[1.0,\"#f0f921\"]]},\"colorway\":[\"#636efa\",\"#EF553B\",\"#00cc96\",\"#ab63fa\",\"#FFA15A\",\"#19d3f3\",\"#FF6692\",\"#B6E880\",\"#FF97FF\",\"#FECB52\"],\"font\":{\"color\":\"#2a3f5f\"},\"geo\":{\"bgcolor\":\"white\",\"lakecolor\":\"white\",\"landcolor\":\"#E5ECF6\",\"showlakes\":true,\"showland\":true,\"subunitcolor\":\"white\"},\"hoverlabel\":{\"align\":\"left\"},\"hovermode\":\"closest\",\"mapbox\":{\"style\":\"light\"},\"paper_bgcolor\":\"white\",\"plot_bgcolor\":\"#E5ECF6\",\"polar\":{\"angularaxis\":{\"gridcolor\":\"white\",\"linecolor\":\"white\",\"ticks\":\"\"},\"bgcolor\":\"#E5ECF6\",\"radialaxis\":{\"gridcolor\":\"white\",\"linecolor\":\"white\",\"ticks\":\"\"}},\"scene\":{\"xaxis\":{\"backgroundcolor\":\"#E5ECF6\",\"gridcolor\":\"white\",\"gridwidth\":2,\"linecolor\":\"white\",\"showbackground\":true,\"ticks\":\"\",\"zerolinecolor\":\"white\"},\"yaxis\":{\"backgroundcolor\":\"#E5ECF6\",\"gridcolor\":\"white\",\"gridwidth\":2,\"linecolor\":\"white\",\"showbackground\":true,\"ticks\":\"\",\"zerolinecolor\":\"white\"},\"zaxis\":{\"backgroundcolor\":\"#E5ECF6\",\"gridcolor\":\"white\",\"gridwidth\":2,\"linecolor\":\"white\",\"showbackground\":true,\"ticks\":\"\",\"zerolinecolor\":\"white\"}},\"shapedefaults\":{\"line\":{\"color\":\"#2a3f5f\"}},\"ternary\":{\"aaxis\":{\"gridcolor\":\"white\",\"linecolor\":\"white\",\"ticks\":\"\"},\"baxis\":{\"gridcolor\":\"white\",\"linecolor\":\"white\",\"ticks\":\"\"},\"bgcolor\":\"#E5ECF6\",\"caxis\":{\"gridcolor\":\"white\",\"linecolor\":\"white\",\"ticks\":\"\"}},\"title\":{\"x\":0.05},\"xaxis\":{\"automargin\":true,\"gridcolor\":\"white\",\"linecolor\":\"white\",\"ticks\":\"\",\"title\":{\"standoff\":15},\"zerolinecolor\":\"white\",\"zerolinewidth\":2},\"yaxis\":{\"automargin\":true,\"gridcolor\":\"white\",\"linecolor\":\"white\",\"ticks\":\"\",\"title\":{\"standoff\":15},\"zerolinecolor\":\"white\",\"zerolinewidth\":2}}}},                        {\"responsive\": true}                    ).then(function(){\n",
       "                            \n",
       "var gd = document.getElementById('b9135f55-bc4b-469d-b56a-59ac9894b6d1');\n",
       "var x = new MutationObserver(function (mutations, observer) {{\n",
       "        var display = window.getComputedStyle(gd).display;\n",
       "        if (!display || display === 'none') {{\n",
       "            console.log([gd, 'removed!']);\n",
       "            Plotly.purge(gd);\n",
       "            observer.disconnect();\n",
       "        }}\n",
       "}});\n",
       "\n",
       "// Listen for the removal of the full notebook cells\n",
       "var notebookContainer = gd.closest('#notebook-container');\n",
       "if (notebookContainer) {{\n",
       "    x.observe(notebookContainer, {childList: true});\n",
       "}}\n",
       "\n",
       "// Listen for the clearing of the current output cell\n",
       "var outputEl = gd.closest('.output');\n",
       "if (outputEl) {{\n",
       "    x.observe(outputEl, {childList: true});\n",
       "}}\n",
       "\n",
       "                        })                };                });            </script>        </div>"
      ]
     },
     "metadata": {}
    }
   ],
   "metadata": {}
  },
  {
   "cell_type": "code",
   "execution_count": 55,
   "source": [
    "#incluye amina sola \n",
    "plot_3d_cluster(amine_3_components_pca[0], list(df_amine_with_names['Chemical Abbreviation'].values), 'ID', \"PCA\")"
   ],
   "outputs": [
    {
     "output_type": "display_data",
     "data": {
      "application/vnd.plotly.v1+json": {
       "config": {
        "plotlyServerURL": "https://plot.ly"
       },
       "data": [
        {
         "hovertemplate": "ID=IPentylammoniumIodide<br>PCA_1=%{x}<br>PCA_2=%{y}<br>PCA_3=%{z}<extra></extra>",
         "legendgroup": "IPentylammoniumIodide",
         "marker": {
          "color": "#636efa",
          "symbol": "circle"
         },
         "mode": "markers",
         "name": "IPentylammoniumIodide",
         "scene": "scene",
         "showlegend": true,
         "type": "scatter3d",
         "x": [
          0.10104476748676013
         ],
         "y": [
          -0.754234190591953
         ],
         "z": [
          -0.017129654038025324
         ]
        },
        {
         "hovertemplate": "ID=n-BuNH3I<br>PCA_1=%{x}<br>PCA_2=%{y}<br>PCA_3=%{z}<extra></extra>",
         "legendgroup": "n-BuNH3I",
         "marker": {
          "color": "#EF553B",
          "symbol": "circle"
         },
         "mode": "markers",
         "name": "n-BuNH3I",
         "scene": "scene",
         "showlegend": true,
         "type": "scatter3d",
         "x": [
          -1.240103222400527
         ],
         "y": [
          -0.5460959385576905
         ],
         "z": [
          1.3267618127195575
         ]
        },
        {
         "hovertemplate": "ID=GnNH3I<br>PCA_1=%{x}<br>PCA_2=%{y}<br>PCA_3=%{z}<extra></extra>",
         "legendgroup": "GnNH3I",
         "marker": {
          "color": "#00cc96",
          "symbol": "circle"
         },
         "mode": "markers",
         "name": "GnNH3I",
         "scene": "scene",
         "showlegend": true,
         "type": "scatter3d",
         "x": [
          -6.04256654142315
         ],
         "y": [
          1.7448345574345339
         ],
         "z": [
          -1.1710693781689472
         ]
        },
        {
         "hovertemplate": "ID=4methoxyphenethylammoniumiodide<br>PCA_1=%{x}<br>PCA_2=%{y}<br>PCA_3=%{z}<extra></extra>",
         "legendgroup": "4methoxyphenethylammoniumiodide",
         "marker": {
          "color": "#ab63fa",
          "symbol": "circle"
         },
         "mode": "markers",
         "name": "4methoxyphenethylammoniumiodide",
         "scene": "scene",
         "showlegend": true,
         "type": "scatter3d",
         "x": [
          5.309339408588454
         ],
         "y": [
          0.5285189461898152
         ],
         "z": [
          1.0202248071142732
         ]
        },
        {
         "hovertemplate": "ID=iPropylammoniumIodide<br>PCA_1=%{x}<br>PCA_2=%{y}<br>PCA_3=%{z}<extra></extra>",
         "legendgroup": "iPropylammoniumIodide",
         "marker": {
          "color": "#FFA15A",
          "symbol": "circle"
         },
         "mode": "markers",
         "name": "iPropylammoniumIodide",
         "scene": "scene",
         "showlegend": true,
         "type": "scatter3d",
         "x": [
          -3.111056518491257
         ],
         "y": [
          -1.1414567914163294
         ],
         "z": [
          -0.1546046237398817
         ]
        },
        {
         "hovertemplate": "ID=Diethylammoniumiodide<br>PCA_1=%{x}<br>PCA_2=%{y}<br>PCA_3=%{z}<extra></extra>",
         "legendgroup": "Diethylammoniumiodide",
         "marker": {
          "color": "#19d3f3",
          "symbol": "circle"
         },
         "mode": "markers",
         "name": "Diethylammoniumiodide",
         "scene": "scene",
         "showlegend": true,
         "type": "scatter3d",
         "x": [
          -0.7233000694176687
         ],
         "y": [
          -1.2516647387514885
         ],
         "z": [
          1.611110791444602
         ]
        },
        {
         "hovertemplate": "ID=Diisopropylammoniumiodide<br>PCA_1=%{x}<br>PCA_2=%{y}<br>PCA_3=%{z}<extra></extra>",
         "legendgroup": "Diisopropylammoniumiodide",
         "marker": {
          "color": "#FF6692",
          "symbol": "circle"
         },
         "mode": "markers",
         "name": "Diisopropylammoniumiodide",
         "scene": "scene",
         "showlegend": true,
         "type": "scatter3d",
         "x": [
          1.8817265136792558
         ],
         "y": [
          -2.3415992105053456
         ],
         "z": [
          -0.4625182733898279
         ]
        },
        {
         "hovertemplate": "ID=nHexylammoniumIodide<br>PCA_1=%{x}<br>PCA_2=%{y}<br>PCA_3=%{z}<extra></extra>",
         "legendgroup": "nHexylammoniumIodide",
         "marker": {
          "color": "#B6E880",
          "symbol": "circle"
         },
         "mode": "markers",
         "name": "nHexylammoniumIodide",
         "scene": "scene",
         "showlegend": true,
         "type": "scatter3d",
         "x": [
          2.334500474549903
         ],
         "y": [
          -0.5744443644328273
         ],
         "z": [
          1.5182755301692263
         ]
        },
        {
         "hovertemplate": "ID=iButylammoniumIodide<br>PCA_1=%{x}<br>PCA_2=%{y}<br>PCA_3=%{z}<extra></extra>",
         "legendgroup": "iButylammoniumIodide",
         "marker": {
          "color": "#FF97FF",
          "symbol": "circle"
         },
         "mode": "markers",
         "name": "iButylammoniumIodide",
         "scene": "scene",
         "showlegend": true,
         "type": "scatter3d",
         "x": [
          -1.6181385354323978
         ],
         "y": [
          -1.0977783155702245
         ],
         "z": [
          -0.12695106455593633
         ]
        },
        {
         "hovertemplate": "ID=4MethoxyPhenylammoniumIodide<br>PCA_1=%{x}<br>PCA_2=%{y}<br>PCA_3=%{z}<extra></extra>",
         "legendgroup": "4MethoxyPhenylammoniumIodide",
         "marker": {
          "color": "#FECB52",
          "symbol": "circle"
         },
         "mode": "markers",
         "name": "4MethoxyPhenylammoniumIodide",
         "scene": "scene",
         "showlegend": true,
         "type": "scatter3d",
         "x": [
          1.6850778649856364
         ],
         "y": [
          0.3403294836183676
         ],
         "z": [
          0.5010631576512007
         ]
        },
        {
         "hovertemplate": "ID=neoPentylammoniumIodide<br>PCA_1=%{x}<br>PCA_2=%{y}<br>PCA_3=%{z}<extra></extra>",
         "legendgroup": "neoPentylammoniumIodide",
         "marker": {
          "color": "#636efa",
          "symbol": "circle"
         },
         "mode": "markers",
         "name": "neoPentylammoniumIodide",
         "scene": "scene",
         "showlegend": true,
         "type": "scatter3d",
         "x": [
          0.03226892169034714
         ],
         "y": [
          -2.3396673120617644
         ],
         "z": [
          -1.035739950531793
         ]
        },
        {
         "hovertemplate": "ID=NPropylammoniumIodide<br>PCA_1=%{x}<br>PCA_2=%{y}<br>PCA_3=%{z}<extra></extra>",
         "legendgroup": "NPropylammoniumIodide",
         "marker": {
          "color": "#EF553B",
          "symbol": "circle"
         },
         "mode": "markers",
         "name": "NPropylammoniumIodide",
         "scene": "scene",
         "showlegend": true,
         "type": "scatter3d",
         "x": [
          -3.020141008507186
         ],
         "y": [
          -0.5077098078553127
         ],
         "z": [
          1.117889361868248
         ]
        },
        {
         "hovertemplate": "ID=CyclohexylmethylammoniumIodide<br>PCA_1=%{x}<br>PCA_2=%{y}<br>PCA_3=%{z}<extra></extra>",
         "legendgroup": "CyclohexylmethylammoniumIodide",
         "marker": {
          "color": "#00cc96",
          "symbol": "circle"
         },
         "mode": "markers",
         "name": "CyclohexylmethylammoniumIodide",
         "scene": "scene",
         "showlegend": true,
         "type": "scatter3d",
         "x": [
          1.499298689883931
         ],
         "y": [
          -0.7783021988876603
         ],
         "z": [
          -0.6891643440450586
         ]
        },
        {
         "hovertemplate": "ID=tButylammoniumIodide<br>PCA_1=%{x}<br>PCA_2=%{y}<br>PCA_3=%{z}<extra></extra>",
         "legendgroup": "tButylammoniumIodide",
         "marker": {
          "color": "#ab63fa",
          "symbol": "circle"
         },
         "mode": "markers",
         "name": "tButylammoniumIodide",
         "scene": "scene",
         "showlegend": true,
         "type": "scatter3d",
         "x": [
          -1.6032260367497586
         ],
         "y": [
          -2.3476796493808765
         ],
         "z": [
          -1.1639723111610096
         ]
        },
        {
         "hovertemplate": "ID=BenzylammoniumIodide<br>PCA_1=%{x}<br>PCA_2=%{y}<br>PCA_3=%{z}<extra></extra>",
         "legendgroup": "BenzylammoniumIodide",
         "marker": {
          "color": "#FFA15A",
          "symbol": "circle"
         },
         "mode": "markers",
         "name": "BenzylammoniumIodide",
         "scene": "scene",
         "showlegend": true,
         "type": "scatter3d",
         "x": [
          0.1726259310506237
         ],
         "y": [
          0.15877921342122678
         ],
         "z": [
          -0.4300439208764518
         ]
        },
        {
         "hovertemplate": "ID=MeNH3I<br>PCA_1=%{x}<br>PCA_2=%{y}<br>PCA_3=%{z}<extra></extra>",
         "legendgroup": "MeNH3I",
         "marker": {
          "color": "#19d3f3",
          "symbol": "circle"
         },
         "mode": "markers",
         "name": "MeNH3I",
         "scene": "scene",
         "showlegend": true,
         "type": "scatter3d",
         "x": [
          -6.6343540125731355
         ],
         "y": [
          -0.05391842064263152
         ],
         "z": [
          2.040847339197681
         ]
        },
        {
         "hovertemplate": "ID=4FluoroPhenethylammoniumIodide<br>PCA_1=%{x}<br>PCA_2=%{y}<br>PCA_3=%{z}<extra></extra>",
         "legendgroup": "4FluoroPhenethylammoniumIodide",
         "marker": {
          "color": "#FF6692",
          "symbol": "circle"
         },
         "mode": "markers",
         "name": "4FluoroPhenethylammoniumIodide",
         "scene": "scene",
         "showlegend": true,
         "type": "scatter3d",
         "x": [
          2.0411329371428706
         ],
         "y": [
          1.5754204044026778
         ],
         "z": [
          -0.32897954606666996
         ]
        },
        {
         "hovertemplate": "ID=4FluoroPhenylammoniumIodide<br>PCA_1=%{x}<br>PCA_2=%{y}<br>PCA_3=%{z}<extra></extra>",
         "legendgroup": "4FluoroPhenylammoniumIodide",
         "marker": {
          "color": "#B6E880",
          "symbol": "circle"
         },
         "mode": "markers",
         "name": "4FluoroPhenylammoniumIodide",
         "scene": "scene",
         "showlegend": true,
         "type": "scatter3d",
         "x": [
          -1.415587170544605
         ],
         "y": [
          1.085405245545374
         ],
         "z": [
          -0.4392023121193904
         ]
        },
        {
         "hovertemplate": "ID=PhenylammoniumIodide<br>PCA_1=%{x}<br>PCA_2=%{y}<br>PCA_3=%{z}<extra></extra>",
         "legendgroup": "PhenylammoniumIodide",
         "marker": {
          "color": "#FF97FF",
          "symbol": "circle"
         },
         "mode": "markers",
         "name": "PhenylammoniumIodide",
         "scene": "scene",
         "showlegend": true,
         "type": "scatter3d",
         "x": [
          -2.0758202009308153
         ],
         "y": [
          1.0697229007896023
         ],
         "z": [
          -0.4461062645249948
         ]
        },
        {
         "hovertemplate": "ID=NNDiethylpropane13diammoniumiodide<br>PCA_1=%{x}<br>PCA_2=%{y}<br>PCA_3=%{z}<extra></extra>",
         "legendgroup": "NNDiethylpropane13diammoniumiodide",
         "marker": {
          "color": "#FECB52",
          "symbol": "circle"
         },
         "mode": "markers",
         "name": "NNDiethylpropane13diammoniumiodide",
         "scene": "scene",
         "showlegend": true,
         "type": "scatter3d",
         "x": [
          5.682354815854186
         ],
         "y": [
          -0.9915987476219476
         ],
         "z": [
          -1.9050236710974175
         ]
        },
        {
         "hovertemplate": "ID=4TrifluoromethylBenzylammoniumIodide<br>PCA_1=%{x}<br>PCA_2=%{y}<br>PCA_3=%{z}<extra></extra>",
         "legendgroup": "4TrifluoromethylBenzylammoniumIodide",
         "marker": {
          "color": "#636efa",
          "symbol": "circle"
         },
         "mode": "markers",
         "name": "4TrifluoromethylBenzylammoniumIodide",
         "scene": "scene",
         "showlegend": true,
         "type": "scatter3d",
         "x": [
          2.495508516734987
         ],
         "y": [
          3.386265923182635
         ],
         "z": [
          -1.5696184673529956
         ]
        },
        {
         "hovertemplate": "ID=4TrifluoromethylPhenylammoniumIodide<br>PCA_1=%{x}<br>PCA_2=%{y}<br>PCA_3=%{z}<extra></extra>",
         "legendgroup": "4TrifluoromethylPhenylammoniumIodide",
         "marker": {
          "color": "#EF553B",
          "symbol": "circle"
         },
         "mode": "markers",
         "name": "4TrifluoromethylPhenylammoniumIodide",
         "scene": "scene",
         "showlegend": true,
         "type": "scatter3d",
         "x": [
          0.7862824696868598
         ],
         "y": [
          2.956137525600504
         ],
         "z": [
          -1.2491244881180168
         ]
        },
        {
         "hovertemplate": "ID=TertOctylammoniumIodide<br>PCA_1=%{x}<br>PCA_2=%{y}<br>PCA_3=%{z}<extra></extra>",
         "legendgroup": "TertOctylammoniumIodide",
         "marker": {
          "color": "#00cc96",
          "symbol": "circle"
         },
         "mode": "markers",
         "name": "TertOctylammoniumIodide",
         "scene": "scene",
         "showlegend": true,
         "type": "scatter3d",
         "x": [
          3.844041542806702
         ],
         "y": [
          -2.4201995969738315
         ],
         "z": [
          -1.824341447594742
         ]
        },
        {
         "hovertemplate": "ID=nDodecylammoniumIodide<br>PCA_1=%{x}<br>PCA_2=%{y}<br>PCA_3=%{z}<extra></extra>",
         "legendgroup": "nDodecylammoniumIodide",
         "marker": {
          "color": "#ab63fa",
          "symbol": "circle"
         },
         "mode": "markers",
         "name": "nDodecylammoniumIodide",
         "scene": "scene",
         "showlegend": true,
         "type": "scatter3d",
         "x": [
          14.936976428060687
         ],
         "y": [
          1.6452695732728095
         ],
         "z": [
          1.9934524156480435
         ]
        },
        {
         "hovertemplate": "ID=FormamidiniumIodide<br>PCA_1=%{x}<br>PCA_2=%{y}<br>PCA_3=%{z}<extra></extra>",
         "legendgroup": "FormamidiniumIodide",
         "marker": {
          "color": "#FFA15A",
          "symbol": "circle"
         },
         "mode": "markers",
         "name": "FormamidiniumIodide",
         "scene": "scene",
         "showlegend": true,
         "type": "scatter3d",
         "x": [
          -7.025101940580766
         ],
         "y": [
          2.036211660831822
         ],
         "z": [
          0.10423082258280868
         ]
        },
        {
         "hovertemplate": "ID=PhEtNH3I<br>PCA_1=%{x}<br>PCA_2=%{y}<br>PCA_3=%{z}<extra></extra>",
         "legendgroup": "PhEtNH3I",
         "marker": {
          "color": "#19d3f3",
          "symbol": "circle"
         },
         "mode": "markers",
         "name": "PhEtNH3I",
         "scene": "scene",
         "showlegend": true,
         "type": "scatter3d",
         "x": [
          2.0092799006718645
         ],
         "y": [
          -0.005349280791989265
         ],
         "z": [
          0.5024896031723184
         ]
        },
        {
         "hovertemplate": "ID=ImidazoliumIodide<br>PCA_1=%{x}<br>PCA_2=%{y}<br>PCA_3=%{z}<extra></extra>",
         "legendgroup": "ImidazoliumIodide",
         "marker": {
          "color": "#FF6692",
          "symbol": "circle"
         },
         "mode": "markers",
         "name": "ImidazoliumIodide",
         "scene": "scene",
         "showlegend": true,
         "type": "scatter3d",
         "x": [
          -5.615031552229448
         ],
         "y": [
          1.06654495007038
         ],
         "z": [
          -0.10661242575686532
         ]
        },
        {
         "hovertemplate": "ID=EtNH3I<br>PCA_1=%{x}<br>PCA_2=%{y}<br>PCA_3=%{z}<extra></extra>",
         "legendgroup": "EtNH3I",
         "marker": {
          "color": "#B6E880",
          "symbol": "circle"
         },
         "mode": "markers",
         "name": "EtNH3I",
         "scene": "scene",
         "showlegend": true,
         "type": "scatter3d",
         "x": [
          -4.687032373592359
         ],
         "y": [
          -0.4417418203178763
         ],
         "z": [
          1.383856501570064
         ]
        }
       ],
       "layout": {
        "legend": {
         "title": {
          "text": "ID"
         },
         "tracegroupgap": 0
        },
        "margin": {
         "t": 60
        },
        "scene": {
         "domain": {
          "x": [
           0,
           1
          ],
          "y": [
           0,
           1
          ]
         },
         "xaxis": {
          "title": {
           "text": "PCA_1"
          }
         },
         "yaxis": {
          "title": {
           "text": "PCA_2"
          }
         },
         "zaxis": {
          "title": {
           "text": "PCA_3"
          }
         }
        },
        "template": {
         "data": {
          "bar": [
           {
            "error_x": {
             "color": "#2a3f5f"
            },
            "error_y": {
             "color": "#2a3f5f"
            },
            "marker": {
             "line": {
              "color": "#E5ECF6",
              "width": 0.5
             },
             "pattern": {
              "fillmode": "overlay",
              "size": 10,
              "solidity": 0.2
             }
            },
            "type": "bar"
           }
          ],
          "barpolar": [
           {
            "marker": {
             "line": {
              "color": "#E5ECF6",
              "width": 0.5
             },
             "pattern": {
              "fillmode": "overlay",
              "size": 10,
              "solidity": 0.2
             }
            },
            "type": "barpolar"
           }
          ],
          "carpet": [
           {
            "aaxis": {
             "endlinecolor": "#2a3f5f",
             "gridcolor": "white",
             "linecolor": "white",
             "minorgridcolor": "white",
             "startlinecolor": "#2a3f5f"
            },
            "baxis": {
             "endlinecolor": "#2a3f5f",
             "gridcolor": "white",
             "linecolor": "white",
             "minorgridcolor": "white",
             "startlinecolor": "#2a3f5f"
            },
            "type": "carpet"
           }
          ],
          "choropleth": [
           {
            "colorbar": {
             "outlinewidth": 0,
             "ticks": ""
            },
            "type": "choropleth"
           }
          ],
          "contour": [
           {
            "colorbar": {
             "outlinewidth": 0,
             "ticks": ""
            },
            "colorscale": [
             [
              0,
              "#0d0887"
             ],
             [
              0.1111111111111111,
              "#46039f"
             ],
             [
              0.2222222222222222,
              "#7201a8"
             ],
             [
              0.3333333333333333,
              "#9c179e"
             ],
             [
              0.4444444444444444,
              "#bd3786"
             ],
             [
              0.5555555555555556,
              "#d8576b"
             ],
             [
              0.6666666666666666,
              "#ed7953"
             ],
             [
              0.7777777777777778,
              "#fb9f3a"
             ],
             [
              0.8888888888888888,
              "#fdca26"
             ],
             [
              1,
              "#f0f921"
             ]
            ],
            "type": "contour"
           }
          ],
          "contourcarpet": [
           {
            "colorbar": {
             "outlinewidth": 0,
             "ticks": ""
            },
            "type": "contourcarpet"
           }
          ],
          "heatmap": [
           {
            "colorbar": {
             "outlinewidth": 0,
             "ticks": ""
            },
            "colorscale": [
             [
              0,
              "#0d0887"
             ],
             [
              0.1111111111111111,
              "#46039f"
             ],
             [
              0.2222222222222222,
              "#7201a8"
             ],
             [
              0.3333333333333333,
              "#9c179e"
             ],
             [
              0.4444444444444444,
              "#bd3786"
             ],
             [
              0.5555555555555556,
              "#d8576b"
             ],
             [
              0.6666666666666666,
              "#ed7953"
             ],
             [
              0.7777777777777778,
              "#fb9f3a"
             ],
             [
              0.8888888888888888,
              "#fdca26"
             ],
             [
              1,
              "#f0f921"
             ]
            ],
            "type": "heatmap"
           }
          ],
          "heatmapgl": [
           {
            "colorbar": {
             "outlinewidth": 0,
             "ticks": ""
            },
            "colorscale": [
             [
              0,
              "#0d0887"
             ],
             [
              0.1111111111111111,
              "#46039f"
             ],
             [
              0.2222222222222222,
              "#7201a8"
             ],
             [
              0.3333333333333333,
              "#9c179e"
             ],
             [
              0.4444444444444444,
              "#bd3786"
             ],
             [
              0.5555555555555556,
              "#d8576b"
             ],
             [
              0.6666666666666666,
              "#ed7953"
             ],
             [
              0.7777777777777778,
              "#fb9f3a"
             ],
             [
              0.8888888888888888,
              "#fdca26"
             ],
             [
              1,
              "#f0f921"
             ]
            ],
            "type": "heatmapgl"
           }
          ],
          "histogram": [
           {
            "marker": {
             "pattern": {
              "fillmode": "overlay",
              "size": 10,
              "solidity": 0.2
             }
            },
            "type": "histogram"
           }
          ],
          "histogram2d": [
           {
            "colorbar": {
             "outlinewidth": 0,
             "ticks": ""
            },
            "colorscale": [
             [
              0,
              "#0d0887"
             ],
             [
              0.1111111111111111,
              "#46039f"
             ],
             [
              0.2222222222222222,
              "#7201a8"
             ],
             [
              0.3333333333333333,
              "#9c179e"
             ],
             [
              0.4444444444444444,
              "#bd3786"
             ],
             [
              0.5555555555555556,
              "#d8576b"
             ],
             [
              0.6666666666666666,
              "#ed7953"
             ],
             [
              0.7777777777777778,
              "#fb9f3a"
             ],
             [
              0.8888888888888888,
              "#fdca26"
             ],
             [
              1,
              "#f0f921"
             ]
            ],
            "type": "histogram2d"
           }
          ],
          "histogram2dcontour": [
           {
            "colorbar": {
             "outlinewidth": 0,
             "ticks": ""
            },
            "colorscale": [
             [
              0,
              "#0d0887"
             ],
             [
              0.1111111111111111,
              "#46039f"
             ],
             [
              0.2222222222222222,
              "#7201a8"
             ],
             [
              0.3333333333333333,
              "#9c179e"
             ],
             [
              0.4444444444444444,
              "#bd3786"
             ],
             [
              0.5555555555555556,
              "#d8576b"
             ],
             [
              0.6666666666666666,
              "#ed7953"
             ],
             [
              0.7777777777777778,
              "#fb9f3a"
             ],
             [
              0.8888888888888888,
              "#fdca26"
             ],
             [
              1,
              "#f0f921"
             ]
            ],
            "type": "histogram2dcontour"
           }
          ],
          "mesh3d": [
           {
            "colorbar": {
             "outlinewidth": 0,
             "ticks": ""
            },
            "type": "mesh3d"
           }
          ],
          "parcoords": [
           {
            "line": {
             "colorbar": {
              "outlinewidth": 0,
              "ticks": ""
             }
            },
            "type": "parcoords"
           }
          ],
          "pie": [
           {
            "automargin": true,
            "type": "pie"
           }
          ],
          "scatter": [
           {
            "marker": {
             "colorbar": {
              "outlinewidth": 0,
              "ticks": ""
             }
            },
            "type": "scatter"
           }
          ],
          "scatter3d": [
           {
            "line": {
             "colorbar": {
              "outlinewidth": 0,
              "ticks": ""
             }
            },
            "marker": {
             "colorbar": {
              "outlinewidth": 0,
              "ticks": ""
             }
            },
            "type": "scatter3d"
           }
          ],
          "scattercarpet": [
           {
            "marker": {
             "colorbar": {
              "outlinewidth": 0,
              "ticks": ""
             }
            },
            "type": "scattercarpet"
           }
          ],
          "scattergeo": [
           {
            "marker": {
             "colorbar": {
              "outlinewidth": 0,
              "ticks": ""
             }
            },
            "type": "scattergeo"
           }
          ],
          "scattergl": [
           {
            "marker": {
             "colorbar": {
              "outlinewidth": 0,
              "ticks": ""
             }
            },
            "type": "scattergl"
           }
          ],
          "scattermapbox": [
           {
            "marker": {
             "colorbar": {
              "outlinewidth": 0,
              "ticks": ""
             }
            },
            "type": "scattermapbox"
           }
          ],
          "scatterpolar": [
           {
            "marker": {
             "colorbar": {
              "outlinewidth": 0,
              "ticks": ""
             }
            },
            "type": "scatterpolar"
           }
          ],
          "scatterpolargl": [
           {
            "marker": {
             "colorbar": {
              "outlinewidth": 0,
              "ticks": ""
             }
            },
            "type": "scatterpolargl"
           }
          ],
          "scatterternary": [
           {
            "marker": {
             "colorbar": {
              "outlinewidth": 0,
              "ticks": ""
             }
            },
            "type": "scatterternary"
           }
          ],
          "surface": [
           {
            "colorbar": {
             "outlinewidth": 0,
             "ticks": ""
            },
            "colorscale": [
             [
              0,
              "#0d0887"
             ],
             [
              0.1111111111111111,
              "#46039f"
             ],
             [
              0.2222222222222222,
              "#7201a8"
             ],
             [
              0.3333333333333333,
              "#9c179e"
             ],
             [
              0.4444444444444444,
              "#bd3786"
             ],
             [
              0.5555555555555556,
              "#d8576b"
             ],
             [
              0.6666666666666666,
              "#ed7953"
             ],
             [
              0.7777777777777778,
              "#fb9f3a"
             ],
             [
              0.8888888888888888,
              "#fdca26"
             ],
             [
              1,
              "#f0f921"
             ]
            ],
            "type": "surface"
           }
          ],
          "table": [
           {
            "cells": {
             "fill": {
              "color": "#EBF0F8"
             },
             "line": {
              "color": "white"
             }
            },
            "header": {
             "fill": {
              "color": "#C8D4E3"
             },
             "line": {
              "color": "white"
             }
            },
            "type": "table"
           }
          ]
         },
         "layout": {
          "annotationdefaults": {
           "arrowcolor": "#2a3f5f",
           "arrowhead": 0,
           "arrowwidth": 1
          },
          "autotypenumbers": "strict",
          "coloraxis": {
           "colorbar": {
            "outlinewidth": 0,
            "ticks": ""
           }
          },
          "colorscale": {
           "diverging": [
            [
             0,
             "#8e0152"
            ],
            [
             0.1,
             "#c51b7d"
            ],
            [
             0.2,
             "#de77ae"
            ],
            [
             0.3,
             "#f1b6da"
            ],
            [
             0.4,
             "#fde0ef"
            ],
            [
             0.5,
             "#f7f7f7"
            ],
            [
             0.6,
             "#e6f5d0"
            ],
            [
             0.7,
             "#b8e186"
            ],
            [
             0.8,
             "#7fbc41"
            ],
            [
             0.9,
             "#4d9221"
            ],
            [
             1,
             "#276419"
            ]
           ],
           "sequential": [
            [
             0,
             "#0d0887"
            ],
            [
             0.1111111111111111,
             "#46039f"
            ],
            [
             0.2222222222222222,
             "#7201a8"
            ],
            [
             0.3333333333333333,
             "#9c179e"
            ],
            [
             0.4444444444444444,
             "#bd3786"
            ],
            [
             0.5555555555555556,
             "#d8576b"
            ],
            [
             0.6666666666666666,
             "#ed7953"
            ],
            [
             0.7777777777777778,
             "#fb9f3a"
            ],
            [
             0.8888888888888888,
             "#fdca26"
            ],
            [
             1,
             "#f0f921"
            ]
           ],
           "sequentialminus": [
            [
             0,
             "#0d0887"
            ],
            [
             0.1111111111111111,
             "#46039f"
            ],
            [
             0.2222222222222222,
             "#7201a8"
            ],
            [
             0.3333333333333333,
             "#9c179e"
            ],
            [
             0.4444444444444444,
             "#bd3786"
            ],
            [
             0.5555555555555556,
             "#d8576b"
            ],
            [
             0.6666666666666666,
             "#ed7953"
            ],
            [
             0.7777777777777778,
             "#fb9f3a"
            ],
            [
             0.8888888888888888,
             "#fdca26"
            ],
            [
             1,
             "#f0f921"
            ]
           ]
          },
          "colorway": [
           "#636efa",
           "#EF553B",
           "#00cc96",
           "#ab63fa",
           "#FFA15A",
           "#19d3f3",
           "#FF6692",
           "#B6E880",
           "#FF97FF",
           "#FECB52"
          ],
          "font": {
           "color": "#2a3f5f"
          },
          "geo": {
           "bgcolor": "white",
           "lakecolor": "white",
           "landcolor": "#E5ECF6",
           "showlakes": true,
           "showland": true,
           "subunitcolor": "white"
          },
          "hoverlabel": {
           "align": "left"
          },
          "hovermode": "closest",
          "mapbox": {
           "style": "light"
          },
          "paper_bgcolor": "white",
          "plot_bgcolor": "#E5ECF6",
          "polar": {
           "angularaxis": {
            "gridcolor": "white",
            "linecolor": "white",
            "ticks": ""
           },
           "bgcolor": "#E5ECF6",
           "radialaxis": {
            "gridcolor": "white",
            "linecolor": "white",
            "ticks": ""
           }
          },
          "scene": {
           "xaxis": {
            "backgroundcolor": "#E5ECF6",
            "gridcolor": "white",
            "gridwidth": 2,
            "linecolor": "white",
            "showbackground": true,
            "ticks": "",
            "zerolinecolor": "white"
           },
           "yaxis": {
            "backgroundcolor": "#E5ECF6",
            "gridcolor": "white",
            "gridwidth": 2,
            "linecolor": "white",
            "showbackground": true,
            "ticks": "",
            "zerolinecolor": "white"
           },
           "zaxis": {
            "backgroundcolor": "#E5ECF6",
            "gridcolor": "white",
            "gridwidth": 2,
            "linecolor": "white",
            "showbackground": true,
            "ticks": "",
            "zerolinecolor": "white"
           }
          },
          "shapedefaults": {
           "line": {
            "color": "#2a3f5f"
           }
          },
          "ternary": {
           "aaxis": {
            "gridcolor": "white",
            "linecolor": "white",
            "ticks": ""
           },
           "baxis": {
            "gridcolor": "white",
            "linecolor": "white",
            "ticks": ""
           },
           "bgcolor": "#E5ECF6",
           "caxis": {
            "gridcolor": "white",
            "linecolor": "white",
            "ticks": ""
           }
          },
          "title": {
           "x": 0.05
          },
          "xaxis": {
           "automargin": true,
           "gridcolor": "white",
           "linecolor": "white",
           "ticks": "",
           "title": {
            "standoff": 15
           },
           "zerolinecolor": "white",
           "zerolinewidth": 2
          },
          "yaxis": {
           "automargin": true,
           "gridcolor": "white",
           "linecolor": "white",
           "ticks": "",
           "title": {
            "standoff": 15
           },
           "zerolinecolor": "white",
           "zerolinewidth": 2
          }
         }
        }
       }
      },
      "text/html": [
       "<div>                            <div id=\"458a7492-ade6-43f3-9457-760dbc9a313f\" class=\"plotly-graph-div\" style=\"height:525px; width:100%;\"></div>            <script type=\"text/javascript\">                require([\"plotly\"], function(Plotly) {                    window.PLOTLYENV=window.PLOTLYENV || {};                                    if (document.getElementById(\"458a7492-ade6-43f3-9457-760dbc9a313f\")) {                    Plotly.newPlot(                        \"458a7492-ade6-43f3-9457-760dbc9a313f\",                        [{\"hovertemplate\":\"ID=IPentylammoniumIodide<br>PCA_1=%{x}<br>PCA_2=%{y}<br>PCA_3=%{z}<extra></extra>\",\"legendgroup\":\"IPentylammoniumIodide\",\"marker\":{\"color\":\"#636efa\",\"symbol\":\"circle\"},\"mode\":\"markers\",\"name\":\"IPentylammoniumIodide\",\"scene\":\"scene\",\"showlegend\":true,\"type\":\"scatter3d\",\"x\":[0.10104476748676013],\"y\":[-0.754234190591953],\"z\":[-0.017129654038025324]},{\"hovertemplate\":\"ID=n-BuNH3I<br>PCA_1=%{x}<br>PCA_2=%{y}<br>PCA_3=%{z}<extra></extra>\",\"legendgroup\":\"n-BuNH3I\",\"marker\":{\"color\":\"#EF553B\",\"symbol\":\"circle\"},\"mode\":\"markers\",\"name\":\"n-BuNH3I\",\"scene\":\"scene\",\"showlegend\":true,\"type\":\"scatter3d\",\"x\":[-1.240103222400527],\"y\":[-0.5460959385576905],\"z\":[1.3267618127195575]},{\"hovertemplate\":\"ID=GnNH3I<br>PCA_1=%{x}<br>PCA_2=%{y}<br>PCA_3=%{z}<extra></extra>\",\"legendgroup\":\"GnNH3I\",\"marker\":{\"color\":\"#00cc96\",\"symbol\":\"circle\"},\"mode\":\"markers\",\"name\":\"GnNH3I\",\"scene\":\"scene\",\"showlegend\":true,\"type\":\"scatter3d\",\"x\":[-6.04256654142315],\"y\":[1.7448345574345339],\"z\":[-1.1710693781689472]},{\"hovertemplate\":\"ID=4methoxyphenethylammoniumiodide<br>PCA_1=%{x}<br>PCA_2=%{y}<br>PCA_3=%{z}<extra></extra>\",\"legendgroup\":\"4methoxyphenethylammoniumiodide\",\"marker\":{\"color\":\"#ab63fa\",\"symbol\":\"circle\"},\"mode\":\"markers\",\"name\":\"4methoxyphenethylammoniumiodide\",\"scene\":\"scene\",\"showlegend\":true,\"type\":\"scatter3d\",\"x\":[5.309339408588454],\"y\":[0.5285189461898152],\"z\":[1.0202248071142732]},{\"hovertemplate\":\"ID=iPropylammoniumIodide<br>PCA_1=%{x}<br>PCA_2=%{y}<br>PCA_3=%{z}<extra></extra>\",\"legendgroup\":\"iPropylammoniumIodide\",\"marker\":{\"color\":\"#FFA15A\",\"symbol\":\"circle\"},\"mode\":\"markers\",\"name\":\"iPropylammoniumIodide\",\"scene\":\"scene\",\"showlegend\":true,\"type\":\"scatter3d\",\"x\":[-3.111056518491257],\"y\":[-1.1414567914163294],\"z\":[-0.1546046237398817]},{\"hovertemplate\":\"ID=Diethylammoniumiodide<br>PCA_1=%{x}<br>PCA_2=%{y}<br>PCA_3=%{z}<extra></extra>\",\"legendgroup\":\"Diethylammoniumiodide\",\"marker\":{\"color\":\"#19d3f3\",\"symbol\":\"circle\"},\"mode\":\"markers\",\"name\":\"Diethylammoniumiodide\",\"scene\":\"scene\",\"showlegend\":true,\"type\":\"scatter3d\",\"x\":[-0.7233000694176687],\"y\":[-1.2516647387514885],\"z\":[1.611110791444602]},{\"hovertemplate\":\"ID=Diisopropylammoniumiodide<br>PCA_1=%{x}<br>PCA_2=%{y}<br>PCA_3=%{z}<extra></extra>\",\"legendgroup\":\"Diisopropylammoniumiodide\",\"marker\":{\"color\":\"#FF6692\",\"symbol\":\"circle\"},\"mode\":\"markers\",\"name\":\"Diisopropylammoniumiodide\",\"scene\":\"scene\",\"showlegend\":true,\"type\":\"scatter3d\",\"x\":[1.8817265136792558],\"y\":[-2.3415992105053456],\"z\":[-0.4625182733898279]},{\"hovertemplate\":\"ID=nHexylammoniumIodide<br>PCA_1=%{x}<br>PCA_2=%{y}<br>PCA_3=%{z}<extra></extra>\",\"legendgroup\":\"nHexylammoniumIodide\",\"marker\":{\"color\":\"#B6E880\",\"symbol\":\"circle\"},\"mode\":\"markers\",\"name\":\"nHexylammoniumIodide\",\"scene\":\"scene\",\"showlegend\":true,\"type\":\"scatter3d\",\"x\":[2.334500474549903],\"y\":[-0.5744443644328273],\"z\":[1.5182755301692263]},{\"hovertemplate\":\"ID=iButylammoniumIodide<br>PCA_1=%{x}<br>PCA_2=%{y}<br>PCA_3=%{z}<extra></extra>\",\"legendgroup\":\"iButylammoniumIodide\",\"marker\":{\"color\":\"#FF97FF\",\"symbol\":\"circle\"},\"mode\":\"markers\",\"name\":\"iButylammoniumIodide\",\"scene\":\"scene\",\"showlegend\":true,\"type\":\"scatter3d\",\"x\":[-1.6181385354323978],\"y\":[-1.0977783155702245],\"z\":[-0.12695106455593633]},{\"hovertemplate\":\"ID=4MethoxyPhenylammoniumIodide<br>PCA_1=%{x}<br>PCA_2=%{y}<br>PCA_3=%{z}<extra></extra>\",\"legendgroup\":\"4MethoxyPhenylammoniumIodide\",\"marker\":{\"color\":\"#FECB52\",\"symbol\":\"circle\"},\"mode\":\"markers\",\"name\":\"4MethoxyPhenylammoniumIodide\",\"scene\":\"scene\",\"showlegend\":true,\"type\":\"scatter3d\",\"x\":[1.6850778649856364],\"y\":[0.3403294836183676],\"z\":[0.5010631576512007]},{\"hovertemplate\":\"ID=neoPentylammoniumIodide<br>PCA_1=%{x}<br>PCA_2=%{y}<br>PCA_3=%{z}<extra></extra>\",\"legendgroup\":\"neoPentylammoniumIodide\",\"marker\":{\"color\":\"#636efa\",\"symbol\":\"circle\"},\"mode\":\"markers\",\"name\":\"neoPentylammoniumIodide\",\"scene\":\"scene\",\"showlegend\":true,\"type\":\"scatter3d\",\"x\":[0.03226892169034714],\"y\":[-2.3396673120617644],\"z\":[-1.035739950531793]},{\"hovertemplate\":\"ID=NPropylammoniumIodide<br>PCA_1=%{x}<br>PCA_2=%{y}<br>PCA_3=%{z}<extra></extra>\",\"legendgroup\":\"NPropylammoniumIodide\",\"marker\":{\"color\":\"#EF553B\",\"symbol\":\"circle\"},\"mode\":\"markers\",\"name\":\"NPropylammoniumIodide\",\"scene\":\"scene\",\"showlegend\":true,\"type\":\"scatter3d\",\"x\":[-3.020141008507186],\"y\":[-0.5077098078553127],\"z\":[1.117889361868248]},{\"hovertemplate\":\"ID=CyclohexylmethylammoniumIodide<br>PCA_1=%{x}<br>PCA_2=%{y}<br>PCA_3=%{z}<extra></extra>\",\"legendgroup\":\"CyclohexylmethylammoniumIodide\",\"marker\":{\"color\":\"#00cc96\",\"symbol\":\"circle\"},\"mode\":\"markers\",\"name\":\"CyclohexylmethylammoniumIodide\",\"scene\":\"scene\",\"showlegend\":true,\"type\":\"scatter3d\",\"x\":[1.499298689883931],\"y\":[-0.7783021988876603],\"z\":[-0.6891643440450586]},{\"hovertemplate\":\"ID=tButylammoniumIodide<br>PCA_1=%{x}<br>PCA_2=%{y}<br>PCA_3=%{z}<extra></extra>\",\"legendgroup\":\"tButylammoniumIodide\",\"marker\":{\"color\":\"#ab63fa\",\"symbol\":\"circle\"},\"mode\":\"markers\",\"name\":\"tButylammoniumIodide\",\"scene\":\"scene\",\"showlegend\":true,\"type\":\"scatter3d\",\"x\":[-1.6032260367497586],\"y\":[-2.3476796493808765],\"z\":[-1.1639723111610096]},{\"hovertemplate\":\"ID=BenzylammoniumIodide<br>PCA_1=%{x}<br>PCA_2=%{y}<br>PCA_3=%{z}<extra></extra>\",\"legendgroup\":\"BenzylammoniumIodide\",\"marker\":{\"color\":\"#FFA15A\",\"symbol\":\"circle\"},\"mode\":\"markers\",\"name\":\"BenzylammoniumIodide\",\"scene\":\"scene\",\"showlegend\":true,\"type\":\"scatter3d\",\"x\":[0.1726259310506237],\"y\":[0.15877921342122678],\"z\":[-0.4300439208764518]},{\"hovertemplate\":\"ID=MeNH3I<br>PCA_1=%{x}<br>PCA_2=%{y}<br>PCA_3=%{z}<extra></extra>\",\"legendgroup\":\"MeNH3I\",\"marker\":{\"color\":\"#19d3f3\",\"symbol\":\"circle\"},\"mode\":\"markers\",\"name\":\"MeNH3I\",\"scene\":\"scene\",\"showlegend\":true,\"type\":\"scatter3d\",\"x\":[-6.6343540125731355],\"y\":[-0.05391842064263152],\"z\":[2.040847339197681]},{\"hovertemplate\":\"ID=4FluoroPhenethylammoniumIodide<br>PCA_1=%{x}<br>PCA_2=%{y}<br>PCA_3=%{z}<extra></extra>\",\"legendgroup\":\"4FluoroPhenethylammoniumIodide\",\"marker\":{\"color\":\"#FF6692\",\"symbol\":\"circle\"},\"mode\":\"markers\",\"name\":\"4FluoroPhenethylammoniumIodide\",\"scene\":\"scene\",\"showlegend\":true,\"type\":\"scatter3d\",\"x\":[2.0411329371428706],\"y\":[1.5754204044026778],\"z\":[-0.32897954606666996]},{\"hovertemplate\":\"ID=4FluoroPhenylammoniumIodide<br>PCA_1=%{x}<br>PCA_2=%{y}<br>PCA_3=%{z}<extra></extra>\",\"legendgroup\":\"4FluoroPhenylammoniumIodide\",\"marker\":{\"color\":\"#B6E880\",\"symbol\":\"circle\"},\"mode\":\"markers\",\"name\":\"4FluoroPhenylammoniumIodide\",\"scene\":\"scene\",\"showlegend\":true,\"type\":\"scatter3d\",\"x\":[-1.415587170544605],\"y\":[1.085405245545374],\"z\":[-0.4392023121193904]},{\"hovertemplate\":\"ID=PhenylammoniumIodide<br>PCA_1=%{x}<br>PCA_2=%{y}<br>PCA_3=%{z}<extra></extra>\",\"legendgroup\":\"PhenylammoniumIodide\",\"marker\":{\"color\":\"#FF97FF\",\"symbol\":\"circle\"},\"mode\":\"markers\",\"name\":\"PhenylammoniumIodide\",\"scene\":\"scene\",\"showlegend\":true,\"type\":\"scatter3d\",\"x\":[-2.0758202009308153],\"y\":[1.0697229007896023],\"z\":[-0.4461062645249948]},{\"hovertemplate\":\"ID=NNDiethylpropane13diammoniumiodide<br>PCA_1=%{x}<br>PCA_2=%{y}<br>PCA_3=%{z}<extra></extra>\",\"legendgroup\":\"NNDiethylpropane13diammoniumiodide\",\"marker\":{\"color\":\"#FECB52\",\"symbol\":\"circle\"},\"mode\":\"markers\",\"name\":\"NNDiethylpropane13diammoniumiodide\",\"scene\":\"scene\",\"showlegend\":true,\"type\":\"scatter3d\",\"x\":[5.682354815854186],\"y\":[-0.9915987476219476],\"z\":[-1.9050236710974175]},{\"hovertemplate\":\"ID=4TrifluoromethylBenzylammoniumIodide<br>PCA_1=%{x}<br>PCA_2=%{y}<br>PCA_3=%{z}<extra></extra>\",\"legendgroup\":\"4TrifluoromethylBenzylammoniumIodide\",\"marker\":{\"color\":\"#636efa\",\"symbol\":\"circle\"},\"mode\":\"markers\",\"name\":\"4TrifluoromethylBenzylammoniumIodide\",\"scene\":\"scene\",\"showlegend\":true,\"type\":\"scatter3d\",\"x\":[2.495508516734987],\"y\":[3.386265923182635],\"z\":[-1.5696184673529956]},{\"hovertemplate\":\"ID=4TrifluoromethylPhenylammoniumIodide<br>PCA_1=%{x}<br>PCA_2=%{y}<br>PCA_3=%{z}<extra></extra>\",\"legendgroup\":\"4TrifluoromethylPhenylammoniumIodide\",\"marker\":{\"color\":\"#EF553B\",\"symbol\":\"circle\"},\"mode\":\"markers\",\"name\":\"4TrifluoromethylPhenylammoniumIodide\",\"scene\":\"scene\",\"showlegend\":true,\"type\":\"scatter3d\",\"x\":[0.7862824696868598],\"y\":[2.956137525600504],\"z\":[-1.2491244881180168]},{\"hovertemplate\":\"ID=TertOctylammoniumIodide<br>PCA_1=%{x}<br>PCA_2=%{y}<br>PCA_3=%{z}<extra></extra>\",\"legendgroup\":\"TertOctylammoniumIodide\",\"marker\":{\"color\":\"#00cc96\",\"symbol\":\"circle\"},\"mode\":\"markers\",\"name\":\"TertOctylammoniumIodide\",\"scene\":\"scene\",\"showlegend\":true,\"type\":\"scatter3d\",\"x\":[3.844041542806702],\"y\":[-2.4201995969738315],\"z\":[-1.824341447594742]},{\"hovertemplate\":\"ID=nDodecylammoniumIodide<br>PCA_1=%{x}<br>PCA_2=%{y}<br>PCA_3=%{z}<extra></extra>\",\"legendgroup\":\"nDodecylammoniumIodide\",\"marker\":{\"color\":\"#ab63fa\",\"symbol\":\"circle\"},\"mode\":\"markers\",\"name\":\"nDodecylammoniumIodide\",\"scene\":\"scene\",\"showlegend\":true,\"type\":\"scatter3d\",\"x\":[14.936976428060687],\"y\":[1.6452695732728095],\"z\":[1.9934524156480435]},{\"hovertemplate\":\"ID=FormamidiniumIodide<br>PCA_1=%{x}<br>PCA_2=%{y}<br>PCA_3=%{z}<extra></extra>\",\"legendgroup\":\"FormamidiniumIodide\",\"marker\":{\"color\":\"#FFA15A\",\"symbol\":\"circle\"},\"mode\":\"markers\",\"name\":\"FormamidiniumIodide\",\"scene\":\"scene\",\"showlegend\":true,\"type\":\"scatter3d\",\"x\":[-7.025101940580766],\"y\":[2.036211660831822],\"z\":[0.10423082258280868]},{\"hovertemplate\":\"ID=PhEtNH3I<br>PCA_1=%{x}<br>PCA_2=%{y}<br>PCA_3=%{z}<extra></extra>\",\"legendgroup\":\"PhEtNH3I\",\"marker\":{\"color\":\"#19d3f3\",\"symbol\":\"circle\"},\"mode\":\"markers\",\"name\":\"PhEtNH3I\",\"scene\":\"scene\",\"showlegend\":true,\"type\":\"scatter3d\",\"x\":[2.0092799006718645],\"y\":[-0.005349280791989265],\"z\":[0.5024896031723184]},{\"hovertemplate\":\"ID=ImidazoliumIodide<br>PCA_1=%{x}<br>PCA_2=%{y}<br>PCA_3=%{z}<extra></extra>\",\"legendgroup\":\"ImidazoliumIodide\",\"marker\":{\"color\":\"#FF6692\",\"symbol\":\"circle\"},\"mode\":\"markers\",\"name\":\"ImidazoliumIodide\",\"scene\":\"scene\",\"showlegend\":true,\"type\":\"scatter3d\",\"x\":[-5.615031552229448],\"y\":[1.06654495007038],\"z\":[-0.10661242575686532]},{\"hovertemplate\":\"ID=EtNH3I<br>PCA_1=%{x}<br>PCA_2=%{y}<br>PCA_3=%{z}<extra></extra>\",\"legendgroup\":\"EtNH3I\",\"marker\":{\"color\":\"#B6E880\",\"symbol\":\"circle\"},\"mode\":\"markers\",\"name\":\"EtNH3I\",\"scene\":\"scene\",\"showlegend\":true,\"type\":\"scatter3d\",\"x\":[-4.687032373592359],\"y\":[-0.4417418203178763],\"z\":[1.383856501570064]}],                        {\"legend\":{\"title\":{\"text\":\"ID\"},\"tracegroupgap\":0},\"margin\":{\"t\":60},\"scene\":{\"domain\":{\"x\":[0.0,1.0],\"y\":[0.0,1.0]},\"xaxis\":{\"title\":{\"text\":\"PCA_1\"}},\"yaxis\":{\"title\":{\"text\":\"PCA_2\"}},\"zaxis\":{\"title\":{\"text\":\"PCA_3\"}}},\"template\":{\"data\":{\"bar\":[{\"error_x\":{\"color\":\"#2a3f5f\"},\"error_y\":{\"color\":\"#2a3f5f\"},\"marker\":{\"line\":{\"color\":\"#E5ECF6\",\"width\":0.5},\"pattern\":{\"fillmode\":\"overlay\",\"size\":10,\"solidity\":0.2}},\"type\":\"bar\"}],\"barpolar\":[{\"marker\":{\"line\":{\"color\":\"#E5ECF6\",\"width\":0.5},\"pattern\":{\"fillmode\":\"overlay\",\"size\":10,\"solidity\":0.2}},\"type\":\"barpolar\"}],\"carpet\":[{\"aaxis\":{\"endlinecolor\":\"#2a3f5f\",\"gridcolor\":\"white\",\"linecolor\":\"white\",\"minorgridcolor\":\"white\",\"startlinecolor\":\"#2a3f5f\"},\"baxis\":{\"endlinecolor\":\"#2a3f5f\",\"gridcolor\":\"white\",\"linecolor\":\"white\",\"minorgridcolor\":\"white\",\"startlinecolor\":\"#2a3f5f\"},\"type\":\"carpet\"}],\"choropleth\":[{\"colorbar\":{\"outlinewidth\":0,\"ticks\":\"\"},\"type\":\"choropleth\"}],\"contour\":[{\"colorbar\":{\"outlinewidth\":0,\"ticks\":\"\"},\"colorscale\":[[0.0,\"#0d0887\"],[0.1111111111111111,\"#46039f\"],[0.2222222222222222,\"#7201a8\"],[0.3333333333333333,\"#9c179e\"],[0.4444444444444444,\"#bd3786\"],[0.5555555555555556,\"#d8576b\"],[0.6666666666666666,\"#ed7953\"],[0.7777777777777778,\"#fb9f3a\"],[0.8888888888888888,\"#fdca26\"],[1.0,\"#f0f921\"]],\"type\":\"contour\"}],\"contourcarpet\":[{\"colorbar\":{\"outlinewidth\":0,\"ticks\":\"\"},\"type\":\"contourcarpet\"}],\"heatmap\":[{\"colorbar\":{\"outlinewidth\":0,\"ticks\":\"\"},\"colorscale\":[[0.0,\"#0d0887\"],[0.1111111111111111,\"#46039f\"],[0.2222222222222222,\"#7201a8\"],[0.3333333333333333,\"#9c179e\"],[0.4444444444444444,\"#bd3786\"],[0.5555555555555556,\"#d8576b\"],[0.6666666666666666,\"#ed7953\"],[0.7777777777777778,\"#fb9f3a\"],[0.8888888888888888,\"#fdca26\"],[1.0,\"#f0f921\"]],\"type\":\"heatmap\"}],\"heatmapgl\":[{\"colorbar\":{\"outlinewidth\":0,\"ticks\":\"\"},\"colorscale\":[[0.0,\"#0d0887\"],[0.1111111111111111,\"#46039f\"],[0.2222222222222222,\"#7201a8\"],[0.3333333333333333,\"#9c179e\"],[0.4444444444444444,\"#bd3786\"],[0.5555555555555556,\"#d8576b\"],[0.6666666666666666,\"#ed7953\"],[0.7777777777777778,\"#fb9f3a\"],[0.8888888888888888,\"#fdca26\"],[1.0,\"#f0f921\"]],\"type\":\"heatmapgl\"}],\"histogram\":[{\"marker\":{\"pattern\":{\"fillmode\":\"overlay\",\"size\":10,\"solidity\":0.2}},\"type\":\"histogram\"}],\"histogram2d\":[{\"colorbar\":{\"outlinewidth\":0,\"ticks\":\"\"},\"colorscale\":[[0.0,\"#0d0887\"],[0.1111111111111111,\"#46039f\"],[0.2222222222222222,\"#7201a8\"],[0.3333333333333333,\"#9c179e\"],[0.4444444444444444,\"#bd3786\"],[0.5555555555555556,\"#d8576b\"],[0.6666666666666666,\"#ed7953\"],[0.7777777777777778,\"#fb9f3a\"],[0.8888888888888888,\"#fdca26\"],[1.0,\"#f0f921\"]],\"type\":\"histogram2d\"}],\"histogram2dcontour\":[{\"colorbar\":{\"outlinewidth\":0,\"ticks\":\"\"},\"colorscale\":[[0.0,\"#0d0887\"],[0.1111111111111111,\"#46039f\"],[0.2222222222222222,\"#7201a8\"],[0.3333333333333333,\"#9c179e\"],[0.4444444444444444,\"#bd3786\"],[0.5555555555555556,\"#d8576b\"],[0.6666666666666666,\"#ed7953\"],[0.7777777777777778,\"#fb9f3a\"],[0.8888888888888888,\"#fdca26\"],[1.0,\"#f0f921\"]],\"type\":\"histogram2dcontour\"}],\"mesh3d\":[{\"colorbar\":{\"outlinewidth\":0,\"ticks\":\"\"},\"type\":\"mesh3d\"}],\"parcoords\":[{\"line\":{\"colorbar\":{\"outlinewidth\":0,\"ticks\":\"\"}},\"type\":\"parcoords\"}],\"pie\":[{\"automargin\":true,\"type\":\"pie\"}],\"scatter\":[{\"marker\":{\"colorbar\":{\"outlinewidth\":0,\"ticks\":\"\"}},\"type\":\"scatter\"}],\"scatter3d\":[{\"line\":{\"colorbar\":{\"outlinewidth\":0,\"ticks\":\"\"}},\"marker\":{\"colorbar\":{\"outlinewidth\":0,\"ticks\":\"\"}},\"type\":\"scatter3d\"}],\"scattercarpet\":[{\"marker\":{\"colorbar\":{\"outlinewidth\":0,\"ticks\":\"\"}},\"type\":\"scattercarpet\"}],\"scattergeo\":[{\"marker\":{\"colorbar\":{\"outlinewidth\":0,\"ticks\":\"\"}},\"type\":\"scattergeo\"}],\"scattergl\":[{\"marker\":{\"colorbar\":{\"outlinewidth\":0,\"ticks\":\"\"}},\"type\":\"scattergl\"}],\"scattermapbox\":[{\"marker\":{\"colorbar\":{\"outlinewidth\":0,\"ticks\":\"\"}},\"type\":\"scattermapbox\"}],\"scatterpolar\":[{\"marker\":{\"colorbar\":{\"outlinewidth\":0,\"ticks\":\"\"}},\"type\":\"scatterpolar\"}],\"scatterpolargl\":[{\"marker\":{\"colorbar\":{\"outlinewidth\":0,\"ticks\":\"\"}},\"type\":\"scatterpolargl\"}],\"scatterternary\":[{\"marker\":{\"colorbar\":{\"outlinewidth\":0,\"ticks\":\"\"}},\"type\":\"scatterternary\"}],\"surface\":[{\"colorbar\":{\"outlinewidth\":0,\"ticks\":\"\"},\"colorscale\":[[0.0,\"#0d0887\"],[0.1111111111111111,\"#46039f\"],[0.2222222222222222,\"#7201a8\"],[0.3333333333333333,\"#9c179e\"],[0.4444444444444444,\"#bd3786\"],[0.5555555555555556,\"#d8576b\"],[0.6666666666666666,\"#ed7953\"],[0.7777777777777778,\"#fb9f3a\"],[0.8888888888888888,\"#fdca26\"],[1.0,\"#f0f921\"]],\"type\":\"surface\"}],\"table\":[{\"cells\":{\"fill\":{\"color\":\"#EBF0F8\"},\"line\":{\"color\":\"white\"}},\"header\":{\"fill\":{\"color\":\"#C8D4E3\"},\"line\":{\"color\":\"white\"}},\"type\":\"table\"}]},\"layout\":{\"annotationdefaults\":{\"arrowcolor\":\"#2a3f5f\",\"arrowhead\":0,\"arrowwidth\":1},\"autotypenumbers\":\"strict\",\"coloraxis\":{\"colorbar\":{\"outlinewidth\":0,\"ticks\":\"\"}},\"colorscale\":{\"diverging\":[[0,\"#8e0152\"],[0.1,\"#c51b7d\"],[0.2,\"#de77ae\"],[0.3,\"#f1b6da\"],[0.4,\"#fde0ef\"],[0.5,\"#f7f7f7\"],[0.6,\"#e6f5d0\"],[0.7,\"#b8e186\"],[0.8,\"#7fbc41\"],[0.9,\"#4d9221\"],[1,\"#276419\"]],\"sequential\":[[0.0,\"#0d0887\"],[0.1111111111111111,\"#46039f\"],[0.2222222222222222,\"#7201a8\"],[0.3333333333333333,\"#9c179e\"],[0.4444444444444444,\"#bd3786\"],[0.5555555555555556,\"#d8576b\"],[0.6666666666666666,\"#ed7953\"],[0.7777777777777778,\"#fb9f3a\"],[0.8888888888888888,\"#fdca26\"],[1.0,\"#f0f921\"]],\"sequentialminus\":[[0.0,\"#0d0887\"],[0.1111111111111111,\"#46039f\"],[0.2222222222222222,\"#7201a8\"],[0.3333333333333333,\"#9c179e\"],[0.4444444444444444,\"#bd3786\"],[0.5555555555555556,\"#d8576b\"],[0.6666666666666666,\"#ed7953\"],[0.7777777777777778,\"#fb9f3a\"],[0.8888888888888888,\"#fdca26\"],[1.0,\"#f0f921\"]]},\"colorway\":[\"#636efa\",\"#EF553B\",\"#00cc96\",\"#ab63fa\",\"#FFA15A\",\"#19d3f3\",\"#FF6692\",\"#B6E880\",\"#FF97FF\",\"#FECB52\"],\"font\":{\"color\":\"#2a3f5f\"},\"geo\":{\"bgcolor\":\"white\",\"lakecolor\":\"white\",\"landcolor\":\"#E5ECF6\",\"showlakes\":true,\"showland\":true,\"subunitcolor\":\"white\"},\"hoverlabel\":{\"align\":\"left\"},\"hovermode\":\"closest\",\"mapbox\":{\"style\":\"light\"},\"paper_bgcolor\":\"white\",\"plot_bgcolor\":\"#E5ECF6\",\"polar\":{\"angularaxis\":{\"gridcolor\":\"white\",\"linecolor\":\"white\",\"ticks\":\"\"},\"bgcolor\":\"#E5ECF6\",\"radialaxis\":{\"gridcolor\":\"white\",\"linecolor\":\"white\",\"ticks\":\"\"}},\"scene\":{\"xaxis\":{\"backgroundcolor\":\"#E5ECF6\",\"gridcolor\":\"white\",\"gridwidth\":2,\"linecolor\":\"white\",\"showbackground\":true,\"ticks\":\"\",\"zerolinecolor\":\"white\"},\"yaxis\":{\"backgroundcolor\":\"#E5ECF6\",\"gridcolor\":\"white\",\"gridwidth\":2,\"linecolor\":\"white\",\"showbackground\":true,\"ticks\":\"\",\"zerolinecolor\":\"white\"},\"zaxis\":{\"backgroundcolor\":\"#E5ECF6\",\"gridcolor\":\"white\",\"gridwidth\":2,\"linecolor\":\"white\",\"showbackground\":true,\"ticks\":\"\",\"zerolinecolor\":\"white\"}},\"shapedefaults\":{\"line\":{\"color\":\"#2a3f5f\"}},\"ternary\":{\"aaxis\":{\"gridcolor\":\"white\",\"linecolor\":\"white\",\"ticks\":\"\"},\"baxis\":{\"gridcolor\":\"white\",\"linecolor\":\"white\",\"ticks\":\"\"},\"bgcolor\":\"#E5ECF6\",\"caxis\":{\"gridcolor\":\"white\",\"linecolor\":\"white\",\"ticks\":\"\"}},\"title\":{\"x\":0.05},\"xaxis\":{\"automargin\":true,\"gridcolor\":\"white\",\"linecolor\":\"white\",\"ticks\":\"\",\"title\":{\"standoff\":15},\"zerolinecolor\":\"white\",\"zerolinewidth\":2},\"yaxis\":{\"automargin\":true,\"gridcolor\":\"white\",\"linecolor\":\"white\",\"ticks\":\"\",\"title\":{\"standoff\":15},\"zerolinecolor\":\"white\",\"zerolinewidth\":2}}}},                        {\"responsive\": true}                    ).then(function(){\n",
       "                            \n",
       "var gd = document.getElementById('458a7492-ade6-43f3-9457-760dbc9a313f');\n",
       "var x = new MutationObserver(function (mutations, observer) {{\n",
       "        var display = window.getComputedStyle(gd).display;\n",
       "        if (!display || display === 'none') {{\n",
       "            console.log([gd, 'removed!']);\n",
       "            Plotly.purge(gd);\n",
       "            observer.disconnect();\n",
       "        }}\n",
       "}});\n",
       "\n",
       "// Listen for the removal of the full notebook cells\n",
       "var notebookContainer = gd.closest('#notebook-container');\n",
       "if (notebookContainer) {{\n",
       "    x.observe(notebookContainer, {childList: true});\n",
       "}}\n",
       "\n",
       "// Listen for the clearing of the current output cell\n",
       "var outputEl = gd.closest('.output');\n",
       "if (outputEl) {{\n",
       "    x.observe(outputEl, {childList: true});\n",
       "}}\n",
       "\n",
       "                        })                };                });            </script>        </div>"
      ]
     },
     "metadata": {}
    }
   ],
   "metadata": {}
  },
  {
   "cell_type": "code",
   "execution_count": 50,
   "source": [
    "\n",
    "def apply_tsne(df, n_components, perplexity):\n",
    "    tsne_3d = TSNE(n_components=3, perplexity=perplexity)\n",
    "    TCs_3d = tsne_3d.fit_transform(df)\n",
    "    tsne_columns = ['TSNE_'+ str(n) for n in range(1,n_components+1)]\n",
    "    tsne_df = pd.DataFrame(data = TCs_3d, columns = tsne_columns)\n",
    "    return tsne_df\n"
   ],
   "outputs": [],
   "metadata": {}
  },
  {
   "cell_type": "code",
   "execution_count": 51,
   "source": [
    "def explore_tsne(X, range_distance):\n",
    "    clusters_size = np.zeros(range_distance.shape[0])\n",
    "    for num, distance in enumerate(range_distance):\n",
    "        db = DBSCAN(eps=distance, min_samples=1).fit(X)\n",
    "        clusters_size[num] = len(set(db.labels_))\n",
    "    return pd.DataFrame({'distance': range_distance, 'cluster size': clusters_size})\n",
    "\n",
    "\n",
    "explore_tsne_1_to_11 = explore_tsne(X, np.arange(5,50,2))"
   ],
   "outputs": [],
   "metadata": {}
  },
  {
   "cell_type": "code",
   "execution_count": 52,
   "source": [
    "plot_scatter(explore_dbscan_1_to_11['distance'], explore_tsne_1_to_11['cluster size'], 'Distancia', 'Cantidad de Cluster')"
   ],
   "outputs": [
    {
     "output_type": "display_data",
     "data": {
      "image/png": "[encoded data removed]",
      "text/plain": [
       "<Figure size 432x432 with 1 Axes>"
      ]
     },
     "metadata": {}
    }
   ],
   "metadata": {}
  },
  {
   "cell_type": "code",
   "execution_count": 55,
   "source": [
    "plot_cluster_amine(X, apply_tsne(X, 3,100), distance = 3, method='TSNE')\n"
   ],
   "outputs": [
    {
     "output_type": "display_data",
     "data": {
      "application/vnd.plotly.v1+json": {
       "config": {
        "plotlyServerURL": "https://plot.ly"
       },
       "data": [
        {
         "hovertemplate": "cluster_ID=0<br>TSNE_1=%{x}<br>TSNE_2=%{y}<br>TSNE_3=%{z}<extra></extra>",
         "legendgroup": "0",
         "marker": {
          "color": "#636efa",
          "symbol": "circle"
         },
         "mode": "markers",
         "name": "0",
         "scene": "scene",
         "showlegend": true,
         "type": "scatter3d",
         "x": [
          -175.33108520507812,
          374.4480285644531,
          -416.56085205078125,
          -244.200439453125,
          75.28404998779297,
          209.5523681640625,
          202.63229370117188,
          333.9310607910156,
          -13.019593238830566,
          -512.6665649414062,
          -400.2090148925781,
          -184.8611602783203,
          377.12457275390625,
          26.28534698486328,
          276.8230285644531,
          58.40899658203125,
          296.0477600097656,
          -363.6964416503906,
          89.92750549316406,
          77.7599105834961
         ],
         "y": [
          160.27023315429688,
          -160.62094116210938,
          38.130226135253906,
          -466.5857849121094,
          62.636741638183594,
          3.6841514110565186,
          442.13446044921875,
          1762.7021484375,
          309.61236572265625,
          -1288.199951171875,
          199.72000122070312,
          -143.2910919189453,
          580.4625854492188,
          -275.8420104980469,
          -52.36787796020508,
          130.02285766601562,
          233.45257568359375,
          -163.6797332763672,
          317.8554382324219,
          -305.9166564941406
         ],
         "z": [
          194.41932678222656,
          -9.46108627319336,
          -291.8511047363281,
          111.47227478027344,
          222.2432861328125,
          -1.4413353204727173,
          -37.36293029785156,
          -479.8728942871094,
          65.43517303466797,
          623.2265014648438,
          -17.429458618164062,
          292.18365478515625,
          316.42608642578125,
          153.58261108398438,
          249.0891876220703,
          -112.64576721191406,
          105.02827453613281,
          -130.7137908935547,
          -243.31158447265625,
          -97.93878173828125
         ]
        },
        {
         "hovertemplate": "cluster_ID=1<br>TSNE_1=%{x}<br>TSNE_2=%{y}<br>TSNE_3=%{z}<extra></extra>",
         "legendgroup": "1",
         "marker": {
          "color": "#EF553B",
          "symbol": "circle"
         },
         "mode": "markers",
         "name": "1",
         "scene": "scene",
         "showlegend": true,
         "type": "scatter3d",
         "x": [
          -79.6602783203125,
          153.47520446777344,
          -203.81455993652344
         ],
         "y": [
          -40.23215103149414,
          -82.22406768798828,
          -227.07467651367188
         ],
         "z": [
          89.18321990966797,
          -248.6862335205078,
          17.902585983276367
         ]
        },
        {
         "hovertemplate": "cluster_ID=2<br>TSNE_1=%{x}<br>TSNE_2=%{y}<br>TSNE_3=%{z}<extra></extra>",
         "legendgroup": "2",
         "marker": {
          "color": "#00cc96",
          "symbol": "circle"
         },
         "mode": "markers",
         "name": "2",
         "scene": "scene",
         "showlegend": true,
         "type": "scatter3d",
         "x": [
          -180.87255859375
         ],
         "y": [
          118.95687103271484
         ],
         "z": [
          -102.1221923828125
         ]
        },
        {
         "hovertemplate": "cluster_ID=3<br>TSNE_1=%{x}<br>TSNE_2=%{y}<br>TSNE_3=%{z}<extra></extra>",
         "legendgroup": "3",
         "marker": {
          "color": "#ab63fa",
          "symbol": "circle"
         },
         "mode": "markers",
         "name": "3",
         "scene": "scene",
         "showlegend": true,
         "type": "scatter3d",
         "x": [
          -475.27099609375
         ],
         "y": [
          -828.5777587890625
         ],
         "z": [
          -517.984375
         ]
        },
        {
         "hovertemplate": "cluster_ID=4<br>TSNE_1=%{x}<br>TSNE_2=%{y}<br>TSNE_3=%{z}<extra></extra>",
         "legendgroup": "4",
         "marker": {
          "color": "#FFA15A",
          "symbol": "circle"
         },
         "mode": "markers",
         "name": "4",
         "scene": "scene",
         "showlegend": true,
         "type": "scatter3d",
         "x": [
          217.2069091796875
         ],
         "y": [
          125.91905212402344
         ],
         "z": [
          -379.55511474609375
         ]
        },
        {
         "hovertemplate": "cluster_ID=5<br>TSNE_1=%{x}<br>TSNE_2=%{y}<br>TSNE_3=%{z}<extra></extra>",
         "legendgroup": "5",
         "marker": {
          "color": "#19d3f3",
          "symbol": "circle"
         },
         "mode": "markers",
         "name": "5",
         "scene": "scene",
         "showlegend": true,
         "type": "scatter3d",
         "x": [
          -68.67143249511719
         ],
         "y": [
          -102.83663940429688
         ],
         "z": [
          -157.08154296875
         ]
        }
       ],
       "layout": {
        "legend": {
         "title": {
          "text": "cluster_ID"
         },
         "tracegroupgap": 0
        },
        "margin": {
         "t": 60
        },
        "scene": {
         "domain": {
          "x": [
           0,
           1
          ],
          "y": [
           0,
           1
          ]
         },
         "xaxis": {
          "title": {
           "text": "TSNE_1"
          }
         },
         "yaxis": {
          "title": {
           "text": "TSNE_2"
          }
         },
         "zaxis": {
          "title": {
           "text": "TSNE_3"
          }
         }
        },
        "template": {
         "data": {
          "bar": [
           {
            "error_x": {
             "color": "#2a3f5f"
            },
            "error_y": {
             "color": "#2a3f5f"
            },
            "marker": {
             "line": {
              "color": "#E5ECF6",
              "width": 0.5
             },
             "pattern": {
              "fillmode": "overlay",
              "size": 10,
              "solidity": 0.2
             }
            },
            "type": "bar"
           }
          ],
          "barpolar": [
           {
            "marker": {
             "line": {
              "color": "#E5ECF6",
              "width": 0.5
             },
             "pattern": {
              "fillmode": "overlay",
              "size": 10,
              "solidity": 0.2
             }
            },
            "type": "barpolar"
           }
          ],
          "carpet": [
           {
            "aaxis": {
             "endlinecolor": "#2a3f5f",
             "gridcolor": "white",
             "linecolor": "white",
             "minorgridcolor": "white",
             "startlinecolor": "#2a3f5f"
            },
            "baxis": {
             "endlinecolor": "#2a3f5f",
             "gridcolor": "white",
             "linecolor": "white",
             "minorgridcolor": "white",
             "startlinecolor": "#2a3f5f"
            },
            "type": "carpet"
           }
          ],
          "choropleth": [
           {
            "colorbar": {
             "outlinewidth": 0,
             "ticks": ""
            },
            "type": "choropleth"
           }
          ],
          "contour": [
           {
            "colorbar": {
             "outlinewidth": 0,
             "ticks": ""
            },
            "colorscale": [
             [
              0,
              "#0d0887"
             ],
             [
              0.1111111111111111,
              "#46039f"
             ],
             [
              0.2222222222222222,
              "#7201a8"
             ],
             [
              0.3333333333333333,
              "#9c179e"
             ],
             [
              0.4444444444444444,
              "#bd3786"
             ],
             [
              0.5555555555555556,
              "#d8576b"
             ],
             [
              0.6666666666666666,
              "#ed7953"
             ],
             [
              0.7777777777777778,
              "#fb9f3a"
             ],
             [
              0.8888888888888888,
              "#fdca26"
             ],
             [
              1,
              "#f0f921"
             ]
            ],
            "type": "contour"
           }
          ],
          "contourcarpet": [
           {
            "colorbar": {
             "outlinewidth": 0,
             "ticks": ""
            },
            "type": "contourcarpet"
           }
          ],
          "heatmap": [
           {
            "colorbar": {
             "outlinewidth": 0,
             "ticks": ""
            },
            "colorscale": [
             [
              0,
              "#0d0887"
             ],
             [
              0.1111111111111111,
              "#46039f"
             ],
             [
              0.2222222222222222,
              "#7201a8"
             ],
             [
              0.3333333333333333,
              "#9c179e"
             ],
             [
              0.4444444444444444,
              "#bd3786"
             ],
             [
              0.5555555555555556,
              "#d8576b"
             ],
             [
              0.6666666666666666,
              "#ed7953"
             ],
             [
              0.7777777777777778,
              "#fb9f3a"
             ],
             [
              0.8888888888888888,
              "#fdca26"
             ],
             [
              1,
              "#f0f921"
             ]
            ],
            "type": "heatmap"
           }
          ],
          "heatmapgl": [
           {
            "colorbar": {
             "outlinewidth": 0,
             "ticks": ""
            },
            "colorscale": [
             [
              0,
              "#0d0887"
             ],
             [
              0.1111111111111111,
              "#46039f"
             ],
             [
              0.2222222222222222,
              "#7201a8"
             ],
             [
              0.3333333333333333,
              "#9c179e"
             ],
             [
              0.4444444444444444,
              "#bd3786"
             ],
             [
              0.5555555555555556,
              "#d8576b"
             ],
             [
              0.6666666666666666,
              "#ed7953"
             ],
             [
              0.7777777777777778,
              "#fb9f3a"
             ],
             [
              0.8888888888888888,
              "#fdca26"
             ],
             [
              1,
              "#f0f921"
             ]
            ],
            "type": "heatmapgl"
           }
          ],
          "histogram": [
           {
            "marker": {
             "pattern": {
              "fillmode": "overlay",
              "size": 10,
              "solidity": 0.2
             }
            },
            "type": "histogram"
           }
          ],
          "histogram2d": [
           {
            "colorbar": {
             "outlinewidth": 0,
             "ticks": ""
            },
            "colorscale": [
             [
              0,
              "#0d0887"
             ],
             [
              0.1111111111111111,
              "#46039f"
             ],
             [
              0.2222222222222222,
              "#7201a8"
             ],
             [
              0.3333333333333333,
              "#9c179e"
             ],
             [
              0.4444444444444444,
              "#bd3786"
             ],
             [
              0.5555555555555556,
              "#d8576b"
             ],
             [
              0.6666666666666666,
              "#ed7953"
             ],
             [
              0.7777777777777778,
              "#fb9f3a"
             ],
             [
              0.8888888888888888,
              "#fdca26"
             ],
             [
              1,
              "#f0f921"
             ]
            ],
            "type": "histogram2d"
           }
          ],
          "histogram2dcontour": [
           {
            "colorbar": {
             "outlinewidth": 0,
             "ticks": ""
            },
            "colorscale": [
             [
              0,
              "#0d0887"
             ],
             [
              0.1111111111111111,
              "#46039f"
             ],
             [
              0.2222222222222222,
              "#7201a8"
             ],
             [
              0.3333333333333333,
              "#9c179e"
             ],
             [
              0.4444444444444444,
              "#bd3786"
             ],
             [
              0.5555555555555556,
              "#d8576b"
             ],
             [
              0.6666666666666666,
              "#ed7953"
             ],
             [
              0.7777777777777778,
              "#fb9f3a"
             ],
             [
              0.8888888888888888,
              "#fdca26"
             ],
             [
              1,
              "#f0f921"
             ]
            ],
            "type": "histogram2dcontour"
           }
          ],
          "mesh3d": [
           {
            "colorbar": {
             "outlinewidth": 0,
             "ticks": ""
            },
            "type": "mesh3d"
           }
          ],
          "parcoords": [
           {
            "line": {
             "colorbar": {
              "outlinewidth": 0,
              "ticks": ""
             }
            },
            "type": "parcoords"
           }
          ],
          "pie": [
           {
            "automargin": true,
            "type": "pie"
           }
          ],
          "scatter": [
           {
            "marker": {
             "colorbar": {
              "outlinewidth": 0,
              "ticks": ""
             }
            },
            "type": "scatter"
           }
          ],
          "scatter3d": [
           {
            "line": {
             "colorbar": {
              "outlinewidth": 0,
              "ticks": ""
             }
            },
            "marker": {
             "colorbar": {
              "outlinewidth": 0,
              "ticks": ""
             }
            },
            "type": "scatter3d"
           }
          ],
          "scattercarpet": [
           {
            "marker": {
             "colorbar": {
              "outlinewidth": 0,
              "ticks": ""
             }
            },
            "type": "scattercarpet"
           }
          ],
          "scattergeo": [
           {
            "marker": {
             "colorbar": {
              "outlinewidth": 0,
              "ticks": ""
             }
            },
            "type": "scattergeo"
           }
          ],
          "scattergl": [
           {
            "marker": {
             "colorbar": {
              "outlinewidth": 0,
              "ticks": ""
             }
            },
            "type": "scattergl"
           }
          ],
          "scattermapbox": [
           {
            "marker": {
             "colorbar": {
              "outlinewidth": 0,
              "ticks": ""
             }
            },
            "type": "scattermapbox"
           }
          ],
          "scatterpolar": [
           {
            "marker": {
             "colorbar": {
              "outlinewidth": 0,
              "ticks": ""
             }
            },
            "type": "scatterpolar"
           }
          ],
          "scatterpolargl": [
           {
            "marker": {
             "colorbar": {
              "outlinewidth": 0,
              "ticks": ""
             }
            },
            "type": "scatterpolargl"
           }
          ],
          "scatterternary": [
           {
            "marker": {
             "colorbar": {
              "outlinewidth": 0,
              "ticks": ""
             }
            },
            "type": "scatterternary"
           }
          ],
          "surface": [
           {
            "colorbar": {
             "outlinewidth": 0,
             "ticks": ""
            },
            "colorscale": [
             [
              0,
              "#0d0887"
             ],
             [
              0.1111111111111111,
              "#46039f"
             ],
             [
              0.2222222222222222,
              "#7201a8"
             ],
             [
              0.3333333333333333,
              "#9c179e"
             ],
             [
              0.4444444444444444,
              "#bd3786"
             ],
             [
              0.5555555555555556,
              "#d8576b"
             ],
             [
              0.6666666666666666,
              "#ed7953"
             ],
             [
              0.7777777777777778,
              "#fb9f3a"
             ],
             [
              0.8888888888888888,
              "#fdca26"
             ],
             [
              1,
              "#f0f921"
             ]
            ],
            "type": "surface"
           }
          ],
          "table": [
           {
            "cells": {
             "fill": {
              "color": "#EBF0F8"
             },
             "line": {
              "color": "white"
             }
            },
            "header": {
             "fill": {
              "color": "#C8D4E3"
             },
             "line": {
              "color": "white"
             }
            },
            "type": "table"
           }
          ]
         },
         "layout": {
          "annotationdefaults": {
           "arrowcolor": "#2a3f5f",
           "arrowhead": 0,
           "arrowwidth": 1
          },
          "autotypenumbers": "strict",
          "coloraxis": {
           "colorbar": {
            "outlinewidth": 0,
            "ticks": ""
           }
          },
          "colorscale": {
           "diverging": [
            [
             0,
             "#8e0152"
            ],
            [
             0.1,
             "#c51b7d"
            ],
            [
             0.2,
             "#de77ae"
            ],
            [
             0.3,
             "#f1b6da"
            ],
            [
             0.4,
             "#fde0ef"
            ],
            [
             0.5,
             "#f7f7f7"
            ],
            [
             0.6,
             "#e6f5d0"
            ],
            [
             0.7,
             "#b8e186"
            ],
            [
             0.8,
             "#7fbc41"
            ],
            [
             0.9,
             "#4d9221"
            ],
            [
             1,
             "#276419"
            ]
           ],
           "sequential": [
            [
             0,
             "#0d0887"
            ],
            [
             0.1111111111111111,
             "#46039f"
            ],
            [
             0.2222222222222222,
             "#7201a8"
            ],
            [
             0.3333333333333333,
             "#9c179e"
            ],
            [
             0.4444444444444444,
             "#bd3786"
            ],
            [
             0.5555555555555556,
             "#d8576b"
            ],
            [
             0.6666666666666666,
             "#ed7953"
            ],
            [
             0.7777777777777778,
             "#fb9f3a"
            ],
            [
             0.8888888888888888,
             "#fdca26"
            ],
            [
             1,
             "#f0f921"
            ]
           ],
           "sequentialminus": [
            [
             0,
             "#0d0887"
            ],
            [
             0.1111111111111111,
             "#46039f"
            ],
            [
             0.2222222222222222,
             "#7201a8"
            ],
            [
             0.3333333333333333,
             "#9c179e"
            ],
            [
             0.4444444444444444,
             "#bd3786"
            ],
            [
             0.5555555555555556,
             "#d8576b"
            ],
            [
             0.6666666666666666,
             "#ed7953"
            ],
            [
             0.7777777777777778,
             "#fb9f3a"
            ],
            [
             0.8888888888888888,
             "#fdca26"
            ],
            [
             1,
             "#f0f921"
            ]
           ]
          },
          "colorway": [
           "#636efa",
           "#EF553B",
           "#00cc96",
           "#ab63fa",
           "#FFA15A",
           "#19d3f3",
           "#FF6692",
           "#B6E880",
           "#FF97FF",
           "#FECB52"
          ],
          "font": {
           "color": "#2a3f5f"
          },
          "geo": {
           "bgcolor": "white",
           "lakecolor": "white",
           "landcolor": "#E5ECF6",
           "showlakes": true,
           "showland": true,
           "subunitcolor": "white"
          },
          "hoverlabel": {
           "align": "left"
          },
          "hovermode": "closest",
          "mapbox": {
           "style": "light"
          },
          "paper_bgcolor": "white",
          "plot_bgcolor": "#E5ECF6",
          "polar": {
           "angularaxis": {
            "gridcolor": "white",
            "linecolor": "white",
            "ticks": ""
           },
           "bgcolor": "#E5ECF6",
           "radialaxis": {
            "gridcolor": "white",
            "linecolor": "white",
            "ticks": ""
           }
          },
          "scene": {
           "xaxis": {
            "backgroundcolor": "#E5ECF6",
            "gridcolor": "white",
            "gridwidth": 2,
            "linecolor": "white",
            "showbackground": true,
            "ticks": "",
            "zerolinecolor": "white"
           },
           "yaxis": {
            "backgroundcolor": "#E5ECF6",
            "gridcolor": "white",
            "gridwidth": 2,
            "linecolor": "white",
            "showbackground": true,
            "ticks": "",
            "zerolinecolor": "white"
           },
           "zaxis": {
            "backgroundcolor": "#E5ECF6",
            "gridcolor": "white",
            "gridwidth": 2,
            "linecolor": "white",
            "showbackground": true,
            "ticks": "",
            "zerolinecolor": "white"
           }
          },
          "shapedefaults": {
           "line": {
            "color": "#2a3f5f"
           }
          },
          "ternary": {
           "aaxis": {
            "gridcolor": "white",
            "linecolor": "white",
            "ticks": ""
           },
           "baxis": {
            "gridcolor": "white",
            "linecolor": "white",
            "ticks": ""
           },
           "bgcolor": "#E5ECF6",
           "caxis": {
            "gridcolor": "white",
            "linecolor": "white",
            "ticks": ""
           }
          },
          "title": {
           "x": 0.05
          },
          "xaxis": {
           "automargin": true,
           "gridcolor": "white",
           "linecolor": "white",
           "ticks": "",
           "title": {
            "standoff": 15
           },
           "zerolinecolor": "white",
           "zerolinewidth": 2
          },
          "yaxis": {
           "automargin": true,
           "gridcolor": "white",
           "linecolor": "white",
           "ticks": "",
           "title": {
            "standoff": 15
           },
           "zerolinecolor": "white",
           "zerolinewidth": 2
          }
         }
        }
       }
      },
      "text/html": [
       "<div>                            <div id=\"b9c6a818-7bd0-4f8d-8100-340464816165\" class=\"plotly-graph-div\" style=\"height:525px; width:100%;\"></div>            <script type=\"text/javascript\">                require([\"plotly\"], function(Plotly) {                    window.PLOTLYENV=window.PLOTLYENV || {};                                    if (document.getElementById(\"b9c6a818-7bd0-4f8d-8100-340464816165\")) {                    Plotly.newPlot(                        \"b9c6a818-7bd0-4f8d-8100-340464816165\",                        [{\"hovertemplate\":\"cluster_ID=0<br>TSNE_1=%{x}<br>TSNE_2=%{y}<br>TSNE_3=%{z}<extra></extra>\",\"legendgroup\":\"0\",\"marker\":{\"color\":\"#636efa\",\"symbol\":\"circle\"},\"mode\":\"markers\",\"name\":\"0\",\"scene\":\"scene\",\"showlegend\":true,\"type\":\"scatter3d\",\"x\":[-175.33108520507812,374.4480285644531,-416.56085205078125,-244.200439453125,75.28404998779297,209.5523681640625,202.63229370117188,333.9310607910156,-13.019593238830566,-512.6665649414062,-400.2090148925781,-184.8611602783203,377.12457275390625,26.28534698486328,276.8230285644531,58.40899658203125,296.0477600097656,-363.6964416503906,89.92750549316406,77.7599105834961],\"y\":[160.27023315429688,-160.62094116210938,38.130226135253906,-466.5857849121094,62.636741638183594,3.6841514110565186,442.13446044921875,1762.7021484375,309.61236572265625,-1288.199951171875,199.72000122070312,-143.2910919189453,580.4625854492188,-275.8420104980469,-52.36787796020508,130.02285766601562,233.45257568359375,-163.6797332763672,317.8554382324219,-305.9166564941406],\"z\":[194.41932678222656,-9.46108627319336,-291.8511047363281,111.47227478027344,222.2432861328125,-1.4413353204727173,-37.36293029785156,-479.8728942871094,65.43517303466797,623.2265014648438,-17.429458618164062,292.18365478515625,316.42608642578125,153.58261108398438,249.0891876220703,-112.64576721191406,105.02827453613281,-130.7137908935547,-243.31158447265625,-97.93878173828125]},{\"hovertemplate\":\"cluster_ID=1<br>TSNE_1=%{x}<br>TSNE_2=%{y}<br>TSNE_3=%{z}<extra></extra>\",\"legendgroup\":\"1\",\"marker\":{\"color\":\"#EF553B\",\"symbol\":\"circle\"},\"mode\":\"markers\",\"name\":\"1\",\"scene\":\"scene\",\"showlegend\":true,\"type\":\"scatter3d\",\"x\":[-79.6602783203125,153.47520446777344,-203.81455993652344],\"y\":[-40.23215103149414,-82.22406768798828,-227.07467651367188],\"z\":[89.18321990966797,-248.6862335205078,17.902585983276367]},{\"hovertemplate\":\"cluster_ID=2<br>TSNE_1=%{x}<br>TSNE_2=%{y}<br>TSNE_3=%{z}<extra></extra>\",\"legendgroup\":\"2\",\"marker\":{\"color\":\"#00cc96\",\"symbol\":\"circle\"},\"mode\":\"markers\",\"name\":\"2\",\"scene\":\"scene\",\"showlegend\":true,\"type\":\"scatter3d\",\"x\":[-180.87255859375],\"y\":[118.95687103271484],\"z\":[-102.1221923828125]},{\"hovertemplate\":\"cluster_ID=3<br>TSNE_1=%{x}<br>TSNE_2=%{y}<br>TSNE_3=%{z}<extra></extra>\",\"legendgroup\":\"3\",\"marker\":{\"color\":\"#ab63fa\",\"symbol\":\"circle\"},\"mode\":\"markers\",\"name\":\"3\",\"scene\":\"scene\",\"showlegend\":true,\"type\":\"scatter3d\",\"x\":[-475.27099609375],\"y\":[-828.5777587890625],\"z\":[-517.984375]},{\"hovertemplate\":\"cluster_ID=4<br>TSNE_1=%{x}<br>TSNE_2=%{y}<br>TSNE_3=%{z}<extra></extra>\",\"legendgroup\":\"4\",\"marker\":{\"color\":\"#FFA15A\",\"symbol\":\"circle\"},\"mode\":\"markers\",\"name\":\"4\",\"scene\":\"scene\",\"showlegend\":true,\"type\":\"scatter3d\",\"x\":[217.2069091796875],\"y\":[125.91905212402344],\"z\":[-379.55511474609375]},{\"hovertemplate\":\"cluster_ID=5<br>TSNE_1=%{x}<br>TSNE_2=%{y}<br>TSNE_3=%{z}<extra></extra>\",\"legendgroup\":\"5\",\"marker\":{\"color\":\"#19d3f3\",\"symbol\":\"circle\"},\"mode\":\"markers\",\"name\":\"5\",\"scene\":\"scene\",\"showlegend\":true,\"type\":\"scatter3d\",\"x\":[-68.67143249511719],\"y\":[-102.83663940429688],\"z\":[-157.08154296875]}],                        {\"legend\":{\"title\":{\"text\":\"cluster_ID\"},\"tracegroupgap\":0},\"margin\":{\"t\":60},\"scene\":{\"domain\":{\"x\":[0.0,1.0],\"y\":[0.0,1.0]},\"xaxis\":{\"title\":{\"text\":\"TSNE_1\"}},\"yaxis\":{\"title\":{\"text\":\"TSNE_2\"}},\"zaxis\":{\"title\":{\"text\":\"TSNE_3\"}}},\"template\":{\"data\":{\"bar\":[{\"error_x\":{\"color\":\"#2a3f5f\"},\"error_y\":{\"color\":\"#2a3f5f\"},\"marker\":{\"line\":{\"color\":\"#E5ECF6\",\"width\":0.5},\"pattern\":{\"fillmode\":\"overlay\",\"size\":10,\"solidity\":0.2}},\"type\":\"bar\"}],\"barpolar\":[{\"marker\":{\"line\":{\"color\":\"#E5ECF6\",\"width\":0.5},\"pattern\":{\"fillmode\":\"overlay\",\"size\":10,\"solidity\":0.2}},\"type\":\"barpolar\"}],\"carpet\":[{\"aaxis\":{\"endlinecolor\":\"#2a3f5f\",\"gridcolor\":\"white\",\"linecolor\":\"white\",\"minorgridcolor\":\"white\",\"startlinecolor\":\"#2a3f5f\"},\"baxis\":{\"endlinecolor\":\"#2a3f5f\",\"gridcolor\":\"white\",\"linecolor\":\"white\",\"minorgridcolor\":\"white\",\"startlinecolor\":\"#2a3f5f\"},\"type\":\"carpet\"}],\"choropleth\":[{\"colorbar\":{\"outlinewidth\":0,\"ticks\":\"\"},\"type\":\"choropleth\"}],\"contour\":[{\"colorbar\":{\"outlinewidth\":0,\"ticks\":\"\"},\"colorscale\":[[0.0,\"#0d0887\"],[0.1111111111111111,\"#46039f\"],[0.2222222222222222,\"#7201a8\"],[0.3333333333333333,\"#9c179e\"],[0.4444444444444444,\"#bd3786\"],[0.5555555555555556,\"#d8576b\"],[0.6666666666666666,\"#ed7953\"],[0.7777777777777778,\"#fb9f3a\"],[0.8888888888888888,\"#fdca26\"],[1.0,\"#f0f921\"]],\"type\":\"contour\"}],\"contourcarpet\":[{\"colorbar\":{\"outlinewidth\":0,\"ticks\":\"\"},\"type\":\"contourcarpet\"}],\"heatmap\":[{\"colorbar\":{\"outlinewidth\":0,\"ticks\":\"\"},\"colorscale\":[[0.0,\"#0d0887\"],[0.1111111111111111,\"#46039f\"],[0.2222222222222222,\"#7201a8\"],[0.3333333333333333,\"#9c179e\"],[0.4444444444444444,\"#bd3786\"],[0.5555555555555556,\"#d8576b\"],[0.6666666666666666,\"#ed7953\"],[0.7777777777777778,\"#fb9f3a\"],[0.8888888888888888,\"#fdca26\"],[1.0,\"#f0f921\"]],\"type\":\"heatmap\"}],\"heatmapgl\":[{\"colorbar\":{\"outlinewidth\":0,\"ticks\":\"\"},\"colorscale\":[[0.0,\"#0d0887\"],[0.1111111111111111,\"#46039f\"],[0.2222222222222222,\"#7201a8\"],[0.3333333333333333,\"#9c179e\"],[0.4444444444444444,\"#bd3786\"],[0.5555555555555556,\"#d8576b\"],[0.6666666666666666,\"#ed7953\"],[0.7777777777777778,\"#fb9f3a\"],[0.8888888888888888,\"#fdca26\"],[1.0,\"#f0f921\"]],\"type\":\"heatmapgl\"}],\"histogram\":[{\"marker\":{\"pattern\":{\"fillmode\":\"overlay\",\"size\":10,\"solidity\":0.2}},\"type\":\"histogram\"}],\"histogram2d\":[{\"colorbar\":{\"outlinewidth\":0,\"ticks\":\"\"},\"colorscale\":[[0.0,\"#0d0887\"],[0.1111111111111111,\"#46039f\"],[0.2222222222222222,\"#7201a8\"],[0.3333333333333333,\"#9c179e\"],[0.4444444444444444,\"#bd3786\"],[0.5555555555555556,\"#d8576b\"],[0.6666666666666666,\"#ed7953\"],[0.7777777777777778,\"#fb9f3a\"],[0.8888888888888888,\"#fdca26\"],[1.0,\"#f0f921\"]],\"type\":\"histogram2d\"}],\"histogram2dcontour\":[{\"colorbar\":{\"outlinewidth\":0,\"ticks\":\"\"},\"colorscale\":[[0.0,\"#0d0887\"],[0.1111111111111111,\"#46039f\"],[0.2222222222222222,\"#7201a8\"],[0.3333333333333333,\"#9c179e\"],[0.4444444444444444,\"#bd3786\"],[0.5555555555555556,\"#d8576b\"],[0.6666666666666666,\"#ed7953\"],[0.7777777777777778,\"#fb9f3a\"],[0.8888888888888888,\"#fdca26\"],[1.0,\"#f0f921\"]],\"type\":\"histogram2dcontour\"}],\"mesh3d\":[{\"colorbar\":{\"outlinewidth\":0,\"ticks\":\"\"},\"type\":\"mesh3d\"}],\"parcoords\":[{\"line\":{\"colorbar\":{\"outlinewidth\":0,\"ticks\":\"\"}},\"type\":\"parcoords\"}],\"pie\":[{\"automargin\":true,\"type\":\"pie\"}],\"scatter\":[{\"marker\":{\"colorbar\":{\"outlinewidth\":0,\"ticks\":\"\"}},\"type\":\"scatter\"}],\"scatter3d\":[{\"line\":{\"colorbar\":{\"outlinewidth\":0,\"ticks\":\"\"}},\"marker\":{\"colorbar\":{\"outlinewidth\":0,\"ticks\":\"\"}},\"type\":\"scatter3d\"}],\"scattercarpet\":[{\"marker\":{\"colorbar\":{\"outlinewidth\":0,\"ticks\":\"\"}},\"type\":\"scattercarpet\"}],\"scattergeo\":[{\"marker\":{\"colorbar\":{\"outlinewidth\":0,\"ticks\":\"\"}},\"type\":\"scattergeo\"}],\"scattergl\":[{\"marker\":{\"colorbar\":{\"outlinewidth\":0,\"ticks\":\"\"}},\"type\":\"scattergl\"}],\"scattermapbox\":[{\"marker\":{\"colorbar\":{\"outlinewidth\":0,\"ticks\":\"\"}},\"type\":\"scattermapbox\"}],\"scatterpolar\":[{\"marker\":{\"colorbar\":{\"outlinewidth\":0,\"ticks\":\"\"}},\"type\":\"scatterpolar\"}],\"scatterpolargl\":[{\"marker\":{\"colorbar\":{\"outlinewidth\":0,\"ticks\":\"\"}},\"type\":\"scatterpolargl\"}],\"scatterternary\":[{\"marker\":{\"colorbar\":{\"outlinewidth\":0,\"ticks\":\"\"}},\"type\":\"scatterternary\"}],\"surface\":[{\"colorbar\":{\"outlinewidth\":0,\"ticks\":\"\"},\"colorscale\":[[0.0,\"#0d0887\"],[0.1111111111111111,\"#46039f\"],[0.2222222222222222,\"#7201a8\"],[0.3333333333333333,\"#9c179e\"],[0.4444444444444444,\"#bd3786\"],[0.5555555555555556,\"#d8576b\"],[0.6666666666666666,\"#ed7953\"],[0.7777777777777778,\"#fb9f3a\"],[0.8888888888888888,\"#fdca26\"],[1.0,\"#f0f921\"]],\"type\":\"surface\"}],\"table\":[{\"cells\":{\"fill\":{\"color\":\"#EBF0F8\"},\"line\":{\"color\":\"white\"}},\"header\":{\"fill\":{\"color\":\"#C8D4E3\"},\"line\":{\"color\":\"white\"}},\"type\":\"table\"}]},\"layout\":{\"annotationdefaults\":{\"arrowcolor\":\"#2a3f5f\",\"arrowhead\":0,\"arrowwidth\":1},\"autotypenumbers\":\"strict\",\"coloraxis\":{\"colorbar\":{\"outlinewidth\":0,\"ticks\":\"\"}},\"colorscale\":{\"diverging\":[[0,\"#8e0152\"],[0.1,\"#c51b7d\"],[0.2,\"#de77ae\"],[0.3,\"#f1b6da\"],[0.4,\"#fde0ef\"],[0.5,\"#f7f7f7\"],[0.6,\"#e6f5d0\"],[0.7,\"#b8e186\"],[0.8,\"#7fbc41\"],[0.9,\"#4d9221\"],[1,\"#276419\"]],\"sequential\":[[0.0,\"#0d0887\"],[0.1111111111111111,\"#46039f\"],[0.2222222222222222,\"#7201a8\"],[0.3333333333333333,\"#9c179e\"],[0.4444444444444444,\"#bd3786\"],[0.5555555555555556,\"#d8576b\"],[0.6666666666666666,\"#ed7953\"],[0.7777777777777778,\"#fb9f3a\"],[0.8888888888888888,\"#fdca26\"],[1.0,\"#f0f921\"]],\"sequentialminus\":[[0.0,\"#0d0887\"],[0.1111111111111111,\"#46039f\"],[0.2222222222222222,\"#7201a8\"],[0.3333333333333333,\"#9c179e\"],[0.4444444444444444,\"#bd3786\"],[0.5555555555555556,\"#d8576b\"],[0.6666666666666666,\"#ed7953\"],[0.7777777777777778,\"#fb9f3a\"],[0.8888888888888888,\"#fdca26\"],[1.0,\"#f0f921\"]]},\"colorway\":[\"#636efa\",\"#EF553B\",\"#00cc96\",\"#ab63fa\",\"#FFA15A\",\"#19d3f3\",\"#FF6692\",\"#B6E880\",\"#FF97FF\",\"#FECB52\"],\"font\":{\"color\":\"#2a3f5f\"},\"geo\":{\"bgcolor\":\"white\",\"lakecolor\":\"white\",\"landcolor\":\"#E5ECF6\",\"showlakes\":true,\"showland\":true,\"subunitcolor\":\"white\"},\"hoverlabel\":{\"align\":\"left\"},\"hovermode\":\"closest\",\"mapbox\":{\"style\":\"light\"},\"paper_bgcolor\":\"white\",\"plot_bgcolor\":\"#E5ECF6\",\"polar\":{\"angularaxis\":{\"gridcolor\":\"white\",\"linecolor\":\"white\",\"ticks\":\"\"},\"bgcolor\":\"#E5ECF6\",\"radialaxis\":{\"gridcolor\":\"white\",\"linecolor\":\"white\",\"ticks\":\"\"}},\"scene\":{\"xaxis\":{\"backgroundcolor\":\"#E5ECF6\",\"gridcolor\":\"white\",\"gridwidth\":2,\"linecolor\":\"white\",\"showbackground\":true,\"ticks\":\"\",\"zerolinecolor\":\"white\"},\"yaxis\":{\"backgroundcolor\":\"#E5ECF6\",\"gridcolor\":\"white\",\"gridwidth\":2,\"linecolor\":\"white\",\"showbackground\":true,\"ticks\":\"\",\"zerolinecolor\":\"white\"},\"zaxis\":{\"backgroundcolor\":\"#E5ECF6\",\"gridcolor\":\"white\",\"gridwidth\":2,\"linecolor\":\"white\",\"showbackground\":true,\"ticks\":\"\",\"zerolinecolor\":\"white\"}},\"shapedefaults\":{\"line\":{\"color\":\"#2a3f5f\"}},\"ternary\":{\"aaxis\":{\"gridcolor\":\"white\",\"linecolor\":\"white\",\"ticks\":\"\"},\"baxis\":{\"gridcolor\":\"white\",\"linecolor\":\"white\",\"ticks\":\"\"},\"bgcolor\":\"#E5ECF6\",\"caxis\":{\"gridcolor\":\"white\",\"linecolor\":\"white\",\"ticks\":\"\"}},\"title\":{\"x\":0.05},\"xaxis\":{\"automargin\":true,\"gridcolor\":\"white\",\"linecolor\":\"white\",\"ticks\":\"\",\"title\":{\"standoff\":15},\"zerolinecolor\":\"white\",\"zerolinewidth\":2},\"yaxis\":{\"automargin\":true,\"gridcolor\":\"white\",\"linecolor\":\"white\",\"ticks\":\"\",\"title\":{\"standoff\":15},\"zerolinecolor\":\"white\",\"zerolinewidth\":2}}}},                        {\"responsive\": true}                    ).then(function(){\n",
       "                            \n",
       "var gd = document.getElementById('b9c6a818-7bd0-4f8d-8100-340464816165');\n",
       "var x = new MutationObserver(function (mutations, observer) {{\n",
       "        var display = window.getComputedStyle(gd).display;\n",
       "        if (!display || display === 'none') {{\n",
       "            console.log([gd, 'removed!']);\n",
       "            Plotly.purge(gd);\n",
       "            observer.disconnect();\n",
       "        }}\n",
       "}});\n",
       "\n",
       "// Listen for the removal of the full notebook cells\n",
       "var notebookContainer = gd.closest('#notebook-container');\n",
       "if (notebookContainer) {{\n",
       "    x.observe(notebookContainer, {childList: true});\n",
       "}}\n",
       "\n",
       "// Listen for the clearing of the current output cell\n",
       "var outputEl = gd.closest('.output');\n",
       "if (outputEl) {{\n",
       "    x.observe(outputEl, {childList: true});\n",
       "}}\n",
       "\n",
       "                        })                };                });            </script>        </div>"
      ]
     },
     "metadata": {}
    }
   ],
   "metadata": {}
  },
  {
   "cell_type": "code",
   "execution_count": 58,
   "source": [
    "amine_3_components_pca, pca = apply_pca(X, 3)\n",
    "rows = [ \"PCA\"+str(x) for x in range(1,3)]\n",
    "plot_heap_map_with_dendogram(pca.components_, amine_df.columns.to_list(), rows, 'Propiedades físico-químicas')"
   ],
   "outputs": [
    {
     "output_type": "display_data",
     "data": {
      "application/vnd.plotly.v1+json": {
       "config": {
        "plotlyServerURL": "https://plot.ly"
       },
       "data": [
        {
         "hoverinfo": "text",
         "marker": {
          "color": "rgb(61,153,112)"
         },
         "mode": "lines",
         "type": "scatter",
         "x": [
          25,
          25,
          35,
          35
         ],
         "xaxis": "x",
         "y": [
          0,
          0.18154433956510746,
          0.18154433956510746,
          0
         ],
         "yaxis": "y2"
        },
        {
         "hoverinfo": "text",
         "marker": {
          "color": "rgb(61,153,112)"
         },
         "mode": "lines",
         "type": "scatter",
         "x": [
          15,
          15,
          30,
          30
         ],
         "xaxis": "x",
         "y": [
          0,
          0.28984591230312046,
          0.28984591230312046,
          0.18154433956510746
         ],
         "yaxis": "y2"
        },
        {
         "hoverinfo": "text",
         "marker": {
          "color": "rgb(255,65,54)"
         },
         "mode": "lines",
         "type": "scatter",
         "x": [
          55,
          55,
          65,
          65
         ],
         "xaxis": "x",
         "y": [
          0,
          4.163336342344337e-17,
          4.163336342344337e-17,
          0
         ],
         "yaxis": "y2"
        },
        {
         "hoverinfo": "text",
         "marker": {
          "color": "rgb(255,65,54)"
         },
         "mode": "lines",
         "type": "scatter",
         "x": [
          45,
          45,
          60,
          60
         ],
         "xaxis": "x",
         "y": [
          0,
          0.00012484305440878788,
          0.00012484305440878788,
          4.163336342344337e-17
         ],
         "yaxis": "y2"
        },
        {
         "hoverinfo": "text",
         "marker": {
          "color": "rgb(255,65,54)"
         },
         "mode": "lines",
         "type": "scatter",
         "x": [
          85,
          85,
          95,
          95
         ],
         "xaxis": "x",
         "y": [
          0,
          0.030899335781347403,
          0.030899335781347403,
          0
         ],
         "yaxis": "y2"
        },
        {
         "hoverinfo": "text",
         "marker": {
          "color": "rgb(255,65,54)"
         },
         "mode": "lines",
         "type": "scatter",
         "x": [
          75,
          75,
          90,
          90
         ],
         "xaxis": "x",
         "y": [
          0,
          0.04243227021237122,
          0.04243227021237122,
          0.030899335781347403
         ],
         "yaxis": "y2"
        },
        {
         "hoverinfo": "text",
         "marker": {
          "color": "rgb(255,65,54)"
         },
         "mode": "lines",
         "type": "scatter",
         "x": [
          52.5,
          52.5,
          82.5,
          82.5
         ],
         "xaxis": "x",
         "y": [
          0.00012484305440878788,
          0.09414318714481419,
          0.09414318714481419,
          0.04243227021237122
         ],
         "yaxis": "y2"
        },
        {
         "hoverinfo": "text",
         "marker": {
          "color": "rgb(255,65,54)"
         },
         "mode": "lines",
         "type": "scatter",
         "x": [
          105,
          105,
          115,
          115
         ],
         "xaxis": "x",
         "y": [
          0,
          0.12194239783909579,
          0.12194239783909579,
          0
         ],
         "yaxis": "y2"
        },
        {
         "hoverinfo": "text",
         "marker": {
          "color": "rgb(255,65,54)"
         },
         "mode": "lines",
         "type": "scatter",
         "x": [
          67.5,
          67.5,
          110,
          110
         ],
         "xaxis": "x",
         "y": [
          0.09414318714481419,
          0.1458765497945068,
          0.1458765497945068,
          0.12194239783909579
         ],
         "yaxis": "y2"
        },
        {
         "hoverinfo": "text",
         "marker": {
          "color": "rgb(255,65,54)"
         },
         "mode": "lines",
         "type": "scatter",
         "x": [
          125,
          125,
          135,
          135
         ],
         "xaxis": "x",
         "y": [
          0,
          0.10951775466902455,
          0.10951775466902455,
          0
         ],
         "yaxis": "y2"
        },
        {
         "hoverinfo": "text",
         "marker": {
          "color": "rgb(255,65,54)"
         },
         "mode": "lines",
         "type": "scatter",
         "x": [
          130,
          130,
          145,
          145
         ],
         "xaxis": "x",
         "y": [
          0.10951775466902455,
          0.16032114111033027,
          0.16032114111033027,
          0
         ],
         "yaxis": "y2"
        },
        {
         "hoverinfo": "text",
         "marker": {
          "color": "rgb(255,65,54)"
         },
         "mode": "lines",
         "type": "scatter",
         "x": [
          88.75,
          88.75,
          137.5,
          137.5
         ],
         "xaxis": "x",
         "y": [
          0.1458765497945068,
          0.2761527229421124,
          0.2761527229421124,
          0.16032114111033027
         ],
         "yaxis": "y2"
        },
        {
         "hoverinfo": "text",
         "marker": {
          "color": "rgb(255,65,54)"
         },
         "mode": "lines",
         "type": "scatter",
         "x": [
          155,
          155,
          165,
          165
         ],
         "xaxis": "x",
         "y": [
          0,
          3.925231146709438e-17,
          3.925231146709438e-17,
          0
         ],
         "yaxis": "y2"
        },
        {
         "hoverinfo": "text",
         "marker": {
          "color": "rgb(255,65,54)"
         },
         "mode": "lines",
         "type": "scatter",
         "x": [
          160,
          160,
          175,
          175
         ],
         "xaxis": "x",
         "y": [
          3.925231146709438e-17,
          0.008060320371999604,
          0.008060320371999604,
          0
         ],
         "yaxis": "y2"
        },
        {
         "hoverinfo": "text",
         "marker": {
          "color": "rgb(255,65,54)"
         },
         "mode": "lines",
         "type": "scatter",
         "x": [
          167.5,
          167.5,
          185,
          185
         ],
         "xaxis": "x",
         "y": [
          0.008060320371999604,
          0.11069507937940667,
          0.11069507937940667,
          0
         ],
         "yaxis": "y2"
        },
        {
         "hoverinfo": "text",
         "marker": {
          "color": "rgb(255,65,54)"
         },
         "mode": "lines",
         "type": "scatter",
         "x": [
          205,
          205,
          215,
          215
         ],
         "xaxis": "x",
         "y": [
          0,
          1.3877787807814457e-17,
          1.3877787807814457e-17,
          0
         ],
         "yaxis": "y2"
        },
        {
         "hoverinfo": "text",
         "marker": {
          "color": "rgb(255,65,54)"
         },
         "mode": "lines",
         "type": "scatter",
         "x": [
          195,
          195,
          210,
          210
         ],
         "xaxis": "x",
         "y": [
          0,
          0.005281523088784048,
          0.005281523088784048,
          1.3877787807814457e-17
         ],
         "yaxis": "y2"
        },
        {
         "hoverinfo": "text",
         "marker": {
          "color": "rgb(255,65,54)"
         },
         "mode": "lines",
         "type": "scatter",
         "x": [
          176.25,
          176.25,
          202.5,
          202.5
         ],
         "xaxis": "x",
         "y": [
          0.11069507937940667,
          0.15876571758334107,
          0.15876571758334107,
          0.005281523088784048
         ],
         "yaxis": "y2"
        },
        {
         "hoverinfo": "text",
         "marker": {
          "color": "rgb(255,65,54)"
         },
         "mode": "lines",
         "type": "scatter",
         "x": [
          235,
          235,
          245,
          245
         ],
         "xaxis": "x",
         "y": [
          0,
          3.925231146709438e-17,
          3.925231146709438e-17,
          0
         ],
         "yaxis": "y2"
        },
        {
         "hoverinfo": "text",
         "marker": {
          "color": "rgb(255,65,54)"
         },
         "mode": "lines",
         "type": "scatter",
         "x": [
          225,
          225,
          240,
          240
         ],
         "xaxis": "x",
         "y": [
          0,
          0.12634032207366858,
          0.12634032207366858,
          3.925231146709438e-17
         ],
         "yaxis": "y2"
        },
        {
         "hoverinfo": "text",
         "marker": {
          "color": "rgb(255,65,54)"
         },
         "mode": "lines",
         "type": "scatter",
         "x": [
          189.375,
          189.375,
          232.5,
          232.5
         ],
         "xaxis": "x",
         "y": [
          0.15876571758334107,
          0.28113837930693275,
          0.28113837930693275,
          0.12634032207366858
         ],
         "yaxis": "y2"
        },
        {
         "hoverinfo": "text",
         "marker": {
          "color": "rgb(255,65,54)"
         },
         "mode": "lines",
         "type": "scatter",
         "x": [
          113.125,
          113.125,
          210.9375,
          210.9375
         ],
         "xaxis": "x",
         "y": [
          0.2761527229421124,
          0.3829488720318246,
          0.3829488720318246,
          0.28113837930693275
         ],
         "yaxis": "y2"
        },
        {
         "hoverinfo": "text",
         "marker": {
          "color": "rgb(0,116,217)"
         },
         "mode": "lines",
         "type": "scatter",
         "x": [
          22.5,
          22.5,
          162.03125,
          162.03125
         ],
         "xaxis": "x",
         "y": [
          0.28984591230312046,
          0.6061927414663293,
          0.6061927414663293,
          0.3829488720318246
         ],
         "yaxis": "y2"
        },
        {
         "hoverinfo": "text",
         "marker": {
          "color": "rgb(0,116,217)"
         },
         "mode": "lines",
         "type": "scatter",
         "x": [
          5,
          5,
          92.265625,
          92.265625
         ],
         "xaxis": "x",
         "y": [
          0,
          0.7502552713041607,
          0.7502552713041607,
          0.6061927414663293
         ],
         "yaxis": "y2"
        },
        {
         "colorbar": {
          "len": 0.8,
          "nticks": 15,
          "title": {
           "text": "loadings"
          }
         },
         "colorscale": [
          [
           0,
           "rgb(0,0,0)"
          ],
          [
           0.25,
           "rgb(230,0,0)"
          ],
          [
           0.5,
           "rgb(230,210,0)"
          ],
          [
           0.75,
           "rgb(255,255,255)"
          ],
          [
           1,
           "rgb(160,200,255)"
          ]
         ],
         "type": "heatmap",
         "x": [
          5,
          15,
          25,
          35,
          45,
          55,
          65,
          75,
          85,
          95,
          105,
          115,
          125,
          135,
          145,
          155,
          165,
          175,
          185,
          195,
          205,
          215,
          225,
          235,
          245
         ],
         "y": [
          0,
          1,
          2,
          3,
          4,
          5,
          6,
          7
         ],
         "z": [
          [
           -0.06225929706228176,
           0.11075249423525518,
           0.19389866652494117,
           0.1744992269544971,
           0.22393297772461646,
           0.2239527175597431,
           0.22395271755974308,
           0.223818356609652,
           0.21997675811351822,
           0.2249544650076174,
           0.21218411699598788,
           0.2202935028333133,
           0.1440433782129563,
           0.19612799775288323,
           0.19060033192301662,
           0.21306522094864744,
           0.21306522094864744,
           0.21489211767516347,
           0.22212503940891093,
           0.2139370471652771,
           0.21334893656509885,
           0.21334893656509885,
           0.20716903744994344,
           0.17483791378851624,
           0.1748379137885162
          ],
          [
           0.5509930345722791,
           -0.3458241288604837,
           -0.16101237923438602,
           0.004884398078727983,
           -0.0625894080257904,
           -0.062469418148835956,
           -0.062469418148835984,
           0.018780342543256067,
           0.04146465958674315,
           0.029961427674013257,
           0.09517962878433346,
           0.12651146772992208,
           0.2411699962020587,
           0.2953913314758509,
           0.2677141718602118,
           0.14937643977741524,
           0.14937643977741527,
           0.1419747303707409,
           0.05959984670770605,
           -0.04174219957204182,
           -0.04649481807173431,
           -0.04649481807173433,
           -0.19215275822158506,
           -0.30223589568758247,
           -0.30223589568758247
          ],
          [
           -0.2528689027687484,
           -0.46357081441994474,
           -0.3714280442202283,
           -0.44256360670206146,
           -0.08285207704781199,
           -0.08288033579109172,
           -0.08288033579109173,
           -0.1190046050136333,
           -0.09608094906724256,
           -0.06783794920237611,
           -0.17004948235684098,
           -0.0524803447382576,
           -0.0910338356211793,
           -0.011401067263845828,
           0.10378142248365932,
           0.1789128326228082,
           0.17891283262280816,
           0.17629636349265104,
           0.10849661799947506,
           0.1835265559865943,
           0.1812991742376124,
           0.1812991742376124,
           0.19828231514252823,
           0.14538356024120633,
           0.1453835602412063
          ]
         ]
        }
       ],
       "layout": {
        "autosize": false,
        "boxmode": "group",
        "height": 800,
        "hovermode": "closest",
        "showlegend": false,
        "template": {
         "data": {
          "bar": [
           {
            "error_x": {
             "color": "#2a3f5f"
            },
            "error_y": {
             "color": "#2a3f5f"
            },
            "marker": {
             "line": {
              "color": "#E5ECF6",
              "width": 0.5
             },
             "pattern": {
              "fillmode": "overlay",
              "size": 10,
              "solidity": 0.2
             }
            },
            "type": "bar"
           }
          ],
          "barpolar": [
           {
            "marker": {
             "line": {
              "color": "#E5ECF6",
              "width": 0.5
             },
             "pattern": {
              "fillmode": "overlay",
              "size": 10,
              "solidity": 0.2
             }
            },
            "type": "barpolar"
           }
          ],
          "carpet": [
           {
            "aaxis": {
             "endlinecolor": "#2a3f5f",
             "gridcolor": "white",
             "linecolor": "white",
             "minorgridcolor": "white",
             "startlinecolor": "#2a3f5f"
            },
            "baxis": {
             "endlinecolor": "#2a3f5f",
             "gridcolor": "white",
             "linecolor": "white",
             "minorgridcolor": "white",
             "startlinecolor": "#2a3f5f"
            },
            "type": "carpet"
           }
          ],
          "choropleth": [
           {
            "colorbar": {
             "outlinewidth": 0,
             "ticks": ""
            },
            "type": "choropleth"
           }
          ],
          "contour": [
           {
            "colorbar": {
             "outlinewidth": 0,
             "ticks": ""
            },
            "colorscale": [
             [
              0,
              "#0d0887"
             ],
             [
              0.1111111111111111,
              "#46039f"
             ],
             [
              0.2222222222222222,
              "#7201a8"
             ],
             [
              0.3333333333333333,
              "#9c179e"
             ],
             [
              0.4444444444444444,
              "#bd3786"
             ],
             [
              0.5555555555555556,
              "#d8576b"
             ],
             [
              0.6666666666666666,
              "#ed7953"
             ],
             [
              0.7777777777777778,
              "#fb9f3a"
             ],
             [
              0.8888888888888888,
              "#fdca26"
             ],
             [
              1,
              "#f0f921"
             ]
            ],
            "type": "contour"
           }
          ],
          "contourcarpet": [
           {
            "colorbar": {
             "outlinewidth": 0,
             "ticks": ""
            },
            "type": "contourcarpet"
           }
          ],
          "heatmap": [
           {
            "colorbar": {
             "outlinewidth": 0,
             "ticks": ""
            },
            "colorscale": [
             [
              0,
              "#0d0887"
             ],
             [
              0.1111111111111111,
              "#46039f"
             ],
             [
              0.2222222222222222,
              "#7201a8"
             ],
             [
              0.3333333333333333,
              "#9c179e"
             ],
             [
              0.4444444444444444,
              "#bd3786"
             ],
             [
              0.5555555555555556,
              "#d8576b"
             ],
             [
              0.6666666666666666,
              "#ed7953"
             ],
             [
              0.7777777777777778,
              "#fb9f3a"
             ],
             [
              0.8888888888888888,
              "#fdca26"
             ],
             [
              1,
              "#f0f921"
             ]
            ],
            "type": "heatmap"
           }
          ],
          "heatmapgl": [
           {
            "colorbar": {
             "outlinewidth": 0,
             "ticks": ""
            },
            "colorscale": [
             [
              0,
              "#0d0887"
             ],
             [
              0.1111111111111111,
              "#46039f"
             ],
             [
              0.2222222222222222,
              "#7201a8"
             ],
             [
              0.3333333333333333,
              "#9c179e"
             ],
             [
              0.4444444444444444,
              "#bd3786"
             ],
             [
              0.5555555555555556,
              "#d8576b"
             ],
             [
              0.6666666666666666,
              "#ed7953"
             ],
             [
              0.7777777777777778,
              "#fb9f3a"
             ],
             [
              0.8888888888888888,
              "#fdca26"
             ],
             [
              1,
              "#f0f921"
             ]
            ],
            "type": "heatmapgl"
           }
          ],
          "histogram": [
           {
            "marker": {
             "pattern": {
              "fillmode": "overlay",
              "size": 10,
              "solidity": 0.2
             }
            },
            "type": "histogram"
           }
          ],
          "histogram2d": [
           {
            "colorbar": {
             "outlinewidth": 0,
             "ticks": ""
            },
            "colorscale": [
             [
              0,
              "#0d0887"
             ],
             [
              0.1111111111111111,
              "#46039f"
             ],
             [
              0.2222222222222222,
              "#7201a8"
             ],
             [
              0.3333333333333333,
              "#9c179e"
             ],
             [
              0.4444444444444444,
              "#bd3786"
             ],
             [
              0.5555555555555556,
              "#d8576b"
             ],
             [
              0.6666666666666666,
              "#ed7953"
             ],
             [
              0.7777777777777778,
              "#fb9f3a"
             ],
             [
              0.8888888888888888,
              "#fdca26"
             ],
             [
              1,
              "#f0f921"
             ]
            ],
            "type": "histogram2d"
           }
          ],
          "histogram2dcontour": [
           {
            "colorbar": {
             "outlinewidth": 0,
             "ticks": ""
            },
            "colorscale": [
             [
              0,
              "#0d0887"
             ],
             [
              0.1111111111111111,
              "#46039f"
             ],
             [
              0.2222222222222222,
              "#7201a8"
             ],
             [
              0.3333333333333333,
              "#9c179e"
             ],
             [
              0.4444444444444444,
              "#bd3786"
             ],
             [
              0.5555555555555556,
              "#d8576b"
             ],
             [
              0.6666666666666666,
              "#ed7953"
             ],
             [
              0.7777777777777778,
              "#fb9f3a"
             ],
             [
              0.8888888888888888,
              "#fdca26"
             ],
             [
              1,
              "#f0f921"
             ]
            ],
            "type": "histogram2dcontour"
           }
          ],
          "mesh3d": [
           {
            "colorbar": {
             "outlinewidth": 0,
             "ticks": ""
            },
            "type": "mesh3d"
           }
          ],
          "parcoords": [
           {
            "line": {
             "colorbar": {
              "outlinewidth": 0,
              "ticks": ""
             }
            },
            "type": "parcoords"
           }
          ],
          "pie": [
           {
            "automargin": true,
            "type": "pie"
           }
          ],
          "scatter": [
           {
            "marker": {
             "colorbar": {
              "outlinewidth": 0,
              "ticks": ""
             }
            },
            "type": "scatter"
           }
          ],
          "scatter3d": [
           {
            "line": {
             "colorbar": {
              "outlinewidth": 0,
              "ticks": ""
             }
            },
            "marker": {
             "colorbar": {
              "outlinewidth": 0,
              "ticks": ""
             }
            },
            "type": "scatter3d"
           }
          ],
          "scattercarpet": [
           {
            "marker": {
             "colorbar": {
              "outlinewidth": 0,
              "ticks": ""
             }
            },
            "type": "scattercarpet"
           }
          ],
          "scattergeo": [
           {
            "marker": {
             "colorbar": {
              "outlinewidth": 0,
              "ticks": ""
             }
            },
            "type": "scattergeo"
           }
          ],
          "scattergl": [
           {
            "marker": {
             "colorbar": {
              "outlinewidth": 0,
              "ticks": ""
             }
            },
            "type": "scattergl"
           }
          ],
          "scattermapbox": [
           {
            "marker": {
             "colorbar": {
              "outlinewidth": 0,
              "ticks": ""
             }
            },
            "type": "scattermapbox"
           }
          ],
          "scatterpolar": [
           {
            "marker": {
             "colorbar": {
              "outlinewidth": 0,
              "ticks": ""
             }
            },
            "type": "scatterpolar"
           }
          ],
          "scatterpolargl": [
           {
            "marker": {
             "colorbar": {
              "outlinewidth": 0,
              "ticks": ""
             }
            },
            "type": "scatterpolargl"
           }
          ],
          "scatterternary": [
           {
            "marker": {
             "colorbar": {
              "outlinewidth": 0,
              "ticks": ""
             }
            },
            "type": "scatterternary"
           }
          ],
          "surface": [
           {
            "colorbar": {
             "outlinewidth": 0,
             "ticks": ""
            },
            "colorscale": [
             [
              0,
              "#0d0887"
             ],
             [
              0.1111111111111111,
              "#46039f"
             ],
             [
              0.2222222222222222,
              "#7201a8"
             ],
             [
              0.3333333333333333,
              "#9c179e"
             ],
             [
              0.4444444444444444,
              "#bd3786"
             ],
             [
              0.5555555555555556,
              "#d8576b"
             ],
             [
              0.6666666666666666,
              "#ed7953"
             ],
             [
              0.7777777777777778,
              "#fb9f3a"
             ],
             [
              0.8888888888888888,
              "#fdca26"
             ],
             [
              1,
              "#f0f921"
             ]
            ],
            "type": "surface"
           }
          ],
          "table": [
           {
            "cells": {
             "fill": {
              "color": "#EBF0F8"
             },
             "line": {
              "color": "white"
             }
            },
            "header": {
             "fill": {
              "color": "#C8D4E3"
             },
             "line": {
              "color": "white"
             }
            },
            "type": "table"
           }
          ]
         },
         "layout": {
          "annotationdefaults": {
           "arrowcolor": "#2a3f5f",
           "arrowhead": 0,
           "arrowwidth": 1
          },
          "autotypenumbers": "strict",
          "coloraxis": {
           "colorbar": {
            "outlinewidth": 0,
            "ticks": ""
           }
          },
          "colorscale": {
           "diverging": [
            [
             0,
             "#8e0152"
            ],
            [
             0.1,
             "#c51b7d"
            ],
            [
             0.2,
             "#de77ae"
            ],
            [
             0.3,
             "#f1b6da"
            ],
            [
             0.4,
             "#fde0ef"
            ],
            [
             0.5,
             "#f7f7f7"
            ],
            [
             0.6,
             "#e6f5d0"
            ],
            [
             0.7,
             "#b8e186"
            ],
            [
             0.8,
             "#7fbc41"
            ],
            [
             0.9,
             "#4d9221"
            ],
            [
             1,
             "#276419"
            ]
           ],
           "sequential": [
            [
             0,
             "#0d0887"
            ],
            [
             0.1111111111111111,
             "#46039f"
            ],
            [
             0.2222222222222222,
             "#7201a8"
            ],
            [
             0.3333333333333333,
             "#9c179e"
            ],
            [
             0.4444444444444444,
             "#bd3786"
            ],
            [
             0.5555555555555556,
             "#d8576b"
            ],
            [
             0.6666666666666666,
             "#ed7953"
            ],
            [
             0.7777777777777778,
             "#fb9f3a"
            ],
            [
             0.8888888888888888,
             "#fdca26"
            ],
            [
             1,
             "#f0f921"
            ]
           ],
           "sequentialminus": [
            [
             0,
             "#0d0887"
            ],
            [
             0.1111111111111111,
             "#46039f"
            ],
            [
             0.2222222222222222,
             "#7201a8"
            ],
            [
             0.3333333333333333,
             "#9c179e"
            ],
            [
             0.4444444444444444,
             "#bd3786"
            ],
            [
             0.5555555555555556,
             "#d8576b"
            ],
            [
             0.6666666666666666,
             "#ed7953"
            ],
            [
             0.7777777777777778,
             "#fb9f3a"
            ],
            [
             0.8888888888888888,
             "#fdca26"
            ],
            [
             1,
             "#f0f921"
            ]
           ]
          },
          "colorway": [
           "#636efa",
           "#EF553B",
           "#00cc96",
           "#ab63fa",
           "#FFA15A",
           "#19d3f3",
           "#FF6692",
           "#B6E880",
           "#FF97FF",
           "#FECB52"
          ],
          "font": {
           "color": "#2a3f5f"
          },
          "geo": {
           "bgcolor": "white",
           "lakecolor": "white",
           "landcolor": "#E5ECF6",
           "showlakes": true,
           "showland": true,
           "subunitcolor": "white"
          },
          "hoverlabel": {
           "align": "left"
          },
          "hovermode": "closest",
          "mapbox": {
           "style": "light"
          },
          "paper_bgcolor": "white",
          "plot_bgcolor": "#E5ECF6",
          "polar": {
           "angularaxis": {
            "gridcolor": "white",
            "linecolor": "white",
            "ticks": ""
           },
           "bgcolor": "#E5ECF6",
           "radialaxis": {
            "gridcolor": "white",
            "linecolor": "white",
            "ticks": ""
           }
          },
          "scene": {
           "xaxis": {
            "backgroundcolor": "#E5ECF6",
            "gridcolor": "white",
            "gridwidth": 2,
            "linecolor": "white",
            "showbackground": true,
            "ticks": "",
            "zerolinecolor": "white"
           },
           "yaxis": {
            "backgroundcolor": "#E5ECF6",
            "gridcolor": "white",
            "gridwidth": 2,
            "linecolor": "white",
            "showbackground": true,
            "ticks": "",
            "zerolinecolor": "white"
           },
           "zaxis": {
            "backgroundcolor": "#E5ECF6",
            "gridcolor": "white",
            "gridwidth": 2,
            "linecolor": "white",
            "showbackground": true,
            "ticks": "",
            "zerolinecolor": "white"
           }
          },
          "shapedefaults": {
           "line": {
            "color": "#2a3f5f"
           }
          },
          "ternary": {
           "aaxis": {
            "gridcolor": "white",
            "linecolor": "white",
            "ticks": ""
           },
           "baxis": {
            "gridcolor": "white",
            "linecolor": "white",
            "ticks": ""
           },
           "bgcolor": "#E5ECF6",
           "caxis": {
            "gridcolor": "white",
            "linecolor": "white",
            "ticks": ""
           }
          },
          "title": {
           "x": 0.05
          },
          "xaxis": {
           "automargin": true,
           "gridcolor": "white",
           "linecolor": "white",
           "ticks": "",
           "title": {
            "standoff": 15
           },
           "zerolinecolor": "white",
           "zerolinewidth": 2
          },
          "yaxis": {
           "automargin": true,
           "gridcolor": "white",
           "linecolor": "white",
           "ticks": "",
           "title": {
            "standoff": 15
           },
           "zerolinecolor": "white",
           "zerolinewidth": 2
          }
         }
        },
        "title": {
         "text": "Propiedades físico-químicas",
         "x": 0.5,
         "xanchor": "center",
         "y": 0.9,
         "yanchor": "top"
        },
        "width": 1200,
        "xaxis": {
         "domain": [
          1,
          1
         ],
         "mirror": false,
         "rangemode": "tozero",
         "showgrid": false,
         "showline": false,
         "showticklabels": true,
         "tickmode": "array",
         "ticks": "",
         "ticktext": [
          "_feat_ASA_P",
          "_feat_BalabanIndex",
          "_feat_MinimalProjectionArea",
          "_feat_MinimalProjectionRadius",
          "_feat_VanderWaalsSurfaceArea",
          "_feat_msareaVDWp",
          "_feat_molsurfaceareaVDWp",
          "_feat_VanderWaalsVolume",
          "_feat_MolPol",
          "_feat_AvgPol",
          "_feat_Refractivity",
          "_feat_MaximalProjectionArea",
          "_feat_ASA-",
          "_feat_WienerIndex",
          "_feat_HyperWienerIndex",
          "_feat_minimalprojectionsize",
          "_feat_LengthPerpendicularToTheMinArea",
          "_feat_MaximalProjectionRadius",
          "_feat_ASA",
          "_feat_ASA+",
          "_feat_msareaASAp",
          "_feat_molsurfaceareaASAp",
          "_feat_ASA_H",
          "_feat_LengthPerpendicularToTheMaxArea",
          "_feat_maximalprojectionsize"
         ],
         "tickvals": [
          5,
          15,
          25,
          35,
          45,
          55,
          65,
          75,
          85,
          95,
          105,
          115,
          125,
          135,
          145,
          155,
          165,
          175,
          185,
          195,
          205,
          215,
          225,
          235,
          245
         ],
         "type": "linear",
         "zeroline": false
        },
        "xaxis2": {
         "domain": [
          1,
          0.8
         ],
         "mirror": false,
         "showgrid": false,
         "showline": false,
         "showticklabels": false,
         "ticks": "",
         "zeroline": false
        },
        "yaxis": {
         "domain": [
          0.1,
          0.8
         ],
         "mirror": false,
         "rangemode": "tozero",
         "showgrid": false,
         "showline": false,
         "showticklabels": true,
         "tickmode": "array",
         "ticks": "",
         "ticktext": [
          "PCA 1",
          "PCA 2",
          "PCA 3",
          "PCA 4",
          "PCA 5",
          "PCA 6",
          "PCA 7",
          "PCA 8"
         ],
         "tickvals": [
          0,
          1,
          2,
          3,
          4,
          5,
          6,
          7
         ],
         "title": {
          "text": "Componente PCA"
         },
         "type": "linear",
         "zeroline": false
        },
        "yaxis2": {
         "domain": [
          0.8,
          1
         ],
         "mirror": false,
         "showgrid": false,
         "showline": false,
         "showticklabels": false,
         "ticks": "",
         "zeroline": false
        }
       }
      },
      "text/html": [
       "<div>                            <div id=\"69e81221-a484-4b29-9214-a73654503d9c\" class=\"plotly-graph-div\" style=\"height:800px; width:1200px;\"></div>            <script type=\"text/javascript\">                require([\"plotly\"], function(Plotly) {                    window.PLOTLYENV=window.PLOTLYENV || {};                                    if (document.getElementById(\"69e81221-a484-4b29-9214-a73654503d9c\")) {                    Plotly.newPlot(                        \"69e81221-a484-4b29-9214-a73654503d9c\",                        [{\"hoverinfo\":\"text\",\"marker\":{\"color\":\"rgb(61,153,112)\"},\"mode\":\"lines\",\"type\":\"scatter\",\"x\":[25.0,25.0,35.0,35.0],\"xaxis\":\"x\",\"y\":[0.0,0.18154433956510746,0.18154433956510746,0.0],\"yaxis\":\"y2\"},{\"hoverinfo\":\"text\",\"marker\":{\"color\":\"rgb(61,153,112)\"},\"mode\":\"lines\",\"type\":\"scatter\",\"x\":[15.0,15.0,30.0,30.0],\"xaxis\":\"x\",\"y\":[0.0,0.28984591230312046,0.28984591230312046,0.18154433956510746],\"yaxis\":\"y2\"},{\"hoverinfo\":\"text\",\"marker\":{\"color\":\"rgb(255,65,54)\"},\"mode\":\"lines\",\"type\":\"scatter\",\"x\":[55.0,55.0,65.0,65.0],\"xaxis\":\"x\",\"y\":[0.0,4.163336342344337e-17,4.163336342344337e-17,0.0],\"yaxis\":\"y2\"},{\"hoverinfo\":\"text\",\"marker\":{\"color\":\"rgb(255,65,54)\"},\"mode\":\"lines\",\"type\":\"scatter\",\"x\":[45.0,45.0,60.0,60.0],\"xaxis\":\"x\",\"y\":[0.0,0.00012484305440878788,0.00012484305440878788,4.163336342344337e-17],\"yaxis\":\"y2\"},{\"hoverinfo\":\"text\",\"marker\":{\"color\":\"rgb(255,65,54)\"},\"mode\":\"lines\",\"type\":\"scatter\",\"x\":[85.0,85.0,95.0,95.0],\"xaxis\":\"x\",\"y\":[0.0,0.030899335781347403,0.030899335781347403,0.0],\"yaxis\":\"y2\"},{\"hoverinfo\":\"text\",\"marker\":{\"color\":\"rgb(255,65,54)\"},\"mode\":\"lines\",\"type\":\"scatter\",\"x\":[75.0,75.0,90.0,90.0],\"xaxis\":\"x\",\"y\":[0.0,0.04243227021237122,0.04243227021237122,0.030899335781347403],\"yaxis\":\"y2\"},{\"hoverinfo\":\"text\",\"marker\":{\"color\":\"rgb(255,65,54)\"},\"mode\":\"lines\",\"type\":\"scatter\",\"x\":[52.5,52.5,82.5,82.5],\"xaxis\":\"x\",\"y\":[0.00012484305440878788,0.09414318714481419,0.09414318714481419,0.04243227021237122],\"yaxis\":\"y2\"},{\"hoverinfo\":\"text\",\"marker\":{\"color\":\"rgb(255,65,54)\"},\"mode\":\"lines\",\"type\":\"scatter\",\"x\":[105.0,105.0,115.0,115.0],\"xaxis\":\"x\",\"y\":[0.0,0.12194239783909579,0.12194239783909579,0.0],\"yaxis\":\"y2\"},{\"hoverinfo\":\"text\",\"marker\":{\"color\":\"rgb(255,65,54)\"},\"mode\":\"lines\",\"type\":\"scatter\",\"x\":[67.5,67.5,110.0,110.0],\"xaxis\":\"x\",\"y\":[0.09414318714481419,0.1458765497945068,0.1458765497945068,0.12194239783909579],\"yaxis\":\"y2\"},{\"hoverinfo\":\"text\",\"marker\":{\"color\":\"rgb(255,65,54)\"},\"mode\":\"lines\",\"type\":\"scatter\",\"x\":[125.0,125.0,135.0,135.0],\"xaxis\":\"x\",\"y\":[0.0,0.10951775466902455,0.10951775466902455,0.0],\"yaxis\":\"y2\"},{\"hoverinfo\":\"text\",\"marker\":{\"color\":\"rgb(255,65,54)\"},\"mode\":\"lines\",\"type\":\"scatter\",\"x\":[130.0,130.0,145.0,145.0],\"xaxis\":\"x\",\"y\":[0.10951775466902455,0.16032114111033027,0.16032114111033027,0.0],\"yaxis\":\"y2\"},{\"hoverinfo\":\"text\",\"marker\":{\"color\":\"rgb(255,65,54)\"},\"mode\":\"lines\",\"type\":\"scatter\",\"x\":[88.75,88.75,137.5,137.5],\"xaxis\":\"x\",\"y\":[0.1458765497945068,0.2761527229421124,0.2761527229421124,0.16032114111033027],\"yaxis\":\"y2\"},{\"hoverinfo\":\"text\",\"marker\":{\"color\":\"rgb(255,65,54)\"},\"mode\":\"lines\",\"type\":\"scatter\",\"x\":[155.0,155.0,165.0,165.0],\"xaxis\":\"x\",\"y\":[0.0,3.925231146709438e-17,3.925231146709438e-17,0.0],\"yaxis\":\"y2\"},{\"hoverinfo\":\"text\",\"marker\":{\"color\":\"rgb(255,65,54)\"},\"mode\":\"lines\",\"type\":\"scatter\",\"x\":[160.0,160.0,175.0,175.0],\"xaxis\":\"x\",\"y\":[3.925231146709438e-17,0.008060320371999604,0.008060320371999604,0.0],\"yaxis\":\"y2\"},{\"hoverinfo\":\"text\",\"marker\":{\"color\":\"rgb(255,65,54)\"},\"mode\":\"lines\",\"type\":\"scatter\",\"x\":[167.5,167.5,185.0,185.0],\"xaxis\":\"x\",\"y\":[0.008060320371999604,0.11069507937940667,0.11069507937940667,0.0],\"yaxis\":\"y2\"},{\"hoverinfo\":\"text\",\"marker\":{\"color\":\"rgb(255,65,54)\"},\"mode\":\"lines\",\"type\":\"scatter\",\"x\":[205.0,205.0,215.0,215.0],\"xaxis\":\"x\",\"y\":[0.0,1.3877787807814457e-17,1.3877787807814457e-17,0.0],\"yaxis\":\"y2\"},{\"hoverinfo\":\"text\",\"marker\":{\"color\":\"rgb(255,65,54)\"},\"mode\":\"lines\",\"type\":\"scatter\",\"x\":[195.0,195.0,210.0,210.0],\"xaxis\":\"x\",\"y\":[0.0,0.005281523088784048,0.005281523088784048,1.3877787807814457e-17],\"yaxis\":\"y2\"},{\"hoverinfo\":\"text\",\"marker\":{\"color\":\"rgb(255,65,54)\"},\"mode\":\"lines\",\"type\":\"scatter\",\"x\":[176.25,176.25,202.5,202.5],\"xaxis\":\"x\",\"y\":[0.11069507937940667,0.15876571758334107,0.15876571758334107,0.005281523088784048],\"yaxis\":\"y2\"},{\"hoverinfo\":\"text\",\"marker\":{\"color\":\"rgb(255,65,54)\"},\"mode\":\"lines\",\"type\":\"scatter\",\"x\":[235.0,235.0,245.0,245.0],\"xaxis\":\"x\",\"y\":[0.0,3.925231146709438e-17,3.925231146709438e-17,0.0],\"yaxis\":\"y2\"},{\"hoverinfo\":\"text\",\"marker\":{\"color\":\"rgb(255,65,54)\"},\"mode\":\"lines\",\"type\":\"scatter\",\"x\":[225.0,225.0,240.0,240.0],\"xaxis\":\"x\",\"y\":[0.0,0.12634032207366858,0.12634032207366858,3.925231146709438e-17],\"yaxis\":\"y2\"},{\"hoverinfo\":\"text\",\"marker\":{\"color\":\"rgb(255,65,54)\"},\"mode\":\"lines\",\"type\":\"scatter\",\"x\":[189.375,189.375,232.5,232.5],\"xaxis\":\"x\",\"y\":[0.15876571758334107,0.28113837930693275,0.28113837930693275,0.12634032207366858],\"yaxis\":\"y2\"},{\"hoverinfo\":\"text\",\"marker\":{\"color\":\"rgb(255,65,54)\"},\"mode\":\"lines\",\"type\":\"scatter\",\"x\":[113.125,113.125,210.9375,210.9375],\"xaxis\":\"x\",\"y\":[0.2761527229421124,0.3829488720318246,0.3829488720318246,0.28113837930693275],\"yaxis\":\"y2\"},{\"hoverinfo\":\"text\",\"marker\":{\"color\":\"rgb(0,116,217)\"},\"mode\":\"lines\",\"type\":\"scatter\",\"x\":[22.5,22.5,162.03125,162.03125],\"xaxis\":\"x\",\"y\":[0.28984591230312046,0.6061927414663293,0.6061927414663293,0.3829488720318246],\"yaxis\":\"y2\"},{\"hoverinfo\":\"text\",\"marker\":{\"color\":\"rgb(0,116,217)\"},\"mode\":\"lines\",\"type\":\"scatter\",\"x\":[5.0,5.0,92.265625,92.265625],\"xaxis\":\"x\",\"y\":[0.0,0.7502552713041607,0.7502552713041607,0.6061927414663293],\"yaxis\":\"y2\"},{\"colorbar\":{\"len\":0.8,\"nticks\":15,\"title\":{\"text\":\"loadings\"}},\"colorscale\":[[0.0,\"rgb(0,0,0)\"],[0.25,\"rgb(230,0,0)\"],[0.5,\"rgb(230,210,0)\"],[0.75,\"rgb(255,255,255)\"],[1.0,\"rgb(160,200,255)\"]],\"type\":\"heatmap\",\"x\":[5.0,15.0,25.0,35.0,45.0,55.0,65.0,75.0,85.0,95.0,105.0,115.0,125.0,135.0,145.0,155.0,165.0,175.0,185.0,195.0,205.0,215.0,225.0,235.0,245.0],\"y\":[0,1,2,3,4,5,6,7],\"z\":[[-0.06225929706228176,0.11075249423525518,0.19389866652494117,0.1744992269544971,0.22393297772461646,0.2239527175597431,0.22395271755974308,0.223818356609652,0.21997675811351822,0.2249544650076174,0.21218411699598788,0.2202935028333133,0.1440433782129563,0.19612799775288323,0.19060033192301662,0.21306522094864744,0.21306522094864744,0.21489211767516347,0.22212503940891093,0.2139370471652771,0.21334893656509885,0.21334893656509885,0.20716903744994344,0.17483791378851624,0.1748379137885162],[0.5509930345722791,-0.3458241288604837,-0.16101237923438602,0.004884398078727983,-0.0625894080257904,-0.062469418148835956,-0.062469418148835984,0.018780342543256067,0.04146465958674315,0.029961427674013257,0.09517962878433346,0.12651146772992208,0.2411699962020587,0.2953913314758509,0.2677141718602118,0.14937643977741524,0.14937643977741527,0.1419747303707409,0.05959984670770605,-0.04174219957204182,-0.04649481807173431,-0.04649481807173433,-0.19215275822158506,-0.30223589568758247,-0.30223589568758247],[-0.2528689027687484,-0.46357081441994474,-0.3714280442202283,-0.44256360670206146,-0.08285207704781199,-0.08288033579109172,-0.08288033579109173,-0.1190046050136333,-0.09608094906724256,-0.06783794920237611,-0.17004948235684098,-0.0524803447382576,-0.0910338356211793,-0.011401067263845828,0.10378142248365932,0.1789128326228082,0.17891283262280816,0.17629636349265104,0.10849661799947506,0.1835265559865943,0.1812991742376124,0.1812991742376124,0.19828231514252823,0.14538356024120633,0.1453835602412063]]}],                        {\"autosize\":false,\"boxmode\":\"group\",\"height\":800,\"hovermode\":\"closest\",\"showlegend\":false,\"template\":{\"data\":{\"bar\":[{\"error_x\":{\"color\":\"#2a3f5f\"},\"error_y\":{\"color\":\"#2a3f5f\"},\"marker\":{\"line\":{\"color\":\"#E5ECF6\",\"width\":0.5},\"pattern\":{\"fillmode\":\"overlay\",\"size\":10,\"solidity\":0.2}},\"type\":\"bar\"}],\"barpolar\":[{\"marker\":{\"line\":{\"color\":\"#E5ECF6\",\"width\":0.5},\"pattern\":{\"fillmode\":\"overlay\",\"size\":10,\"solidity\":0.2}},\"type\":\"barpolar\"}],\"carpet\":[{\"aaxis\":{\"endlinecolor\":\"#2a3f5f\",\"gridcolor\":\"white\",\"linecolor\":\"white\",\"minorgridcolor\":\"white\",\"startlinecolor\":\"#2a3f5f\"},\"baxis\":{\"endlinecolor\":\"#2a3f5f\",\"gridcolor\":\"white\",\"linecolor\":\"white\",\"minorgridcolor\":\"white\",\"startlinecolor\":\"#2a3f5f\"},\"type\":\"carpet\"}],\"choropleth\":[{\"colorbar\":{\"outlinewidth\":0,\"ticks\":\"\"},\"type\":\"choropleth\"}],\"contour\":[{\"colorbar\":{\"outlinewidth\":0,\"ticks\":\"\"},\"colorscale\":[[0.0,\"#0d0887\"],[0.1111111111111111,\"#46039f\"],[0.2222222222222222,\"#7201a8\"],[0.3333333333333333,\"#9c179e\"],[0.4444444444444444,\"#bd3786\"],[0.5555555555555556,\"#d8576b\"],[0.6666666666666666,\"#ed7953\"],[0.7777777777777778,\"#fb9f3a\"],[0.8888888888888888,\"#fdca26\"],[1.0,\"#f0f921\"]],\"type\":\"contour\"}],\"contourcarpet\":[{\"colorbar\":{\"outlinewidth\":0,\"ticks\":\"\"},\"type\":\"contourcarpet\"}],\"heatmap\":[{\"colorbar\":{\"outlinewidth\":0,\"ticks\":\"\"},\"colorscale\":[[0.0,\"#0d0887\"],[0.1111111111111111,\"#46039f\"],[0.2222222222222222,\"#7201a8\"],[0.3333333333333333,\"#9c179e\"],[0.4444444444444444,\"#bd3786\"],[0.5555555555555556,\"#d8576b\"],[0.6666666666666666,\"#ed7953\"],[0.7777777777777778,\"#fb9f3a\"],[0.8888888888888888,\"#fdca26\"],[1.0,\"#f0f921\"]],\"type\":\"heatmap\"}],\"heatmapgl\":[{\"colorbar\":{\"outlinewidth\":0,\"ticks\":\"\"},\"colorscale\":[[0.0,\"#0d0887\"],[0.1111111111111111,\"#46039f\"],[0.2222222222222222,\"#7201a8\"],[0.3333333333333333,\"#9c179e\"],[0.4444444444444444,\"#bd3786\"],[0.5555555555555556,\"#d8576b\"],[0.6666666666666666,\"#ed7953\"],[0.7777777777777778,\"#fb9f3a\"],[0.8888888888888888,\"#fdca26\"],[1.0,\"#f0f921\"]],\"type\":\"heatmapgl\"}],\"histogram\":[{\"marker\":{\"pattern\":{\"fillmode\":\"overlay\",\"size\":10,\"solidity\":0.2}},\"type\":\"histogram\"}],\"histogram2d\":[{\"colorbar\":{\"outlinewidth\":0,\"ticks\":\"\"},\"colorscale\":[[0.0,\"#0d0887\"],[0.1111111111111111,\"#46039f\"],[0.2222222222222222,\"#7201a8\"],[0.3333333333333333,\"#9c179e\"],[0.4444444444444444,\"#bd3786\"],[0.5555555555555556,\"#d8576b\"],[0.6666666666666666,\"#ed7953\"],[0.7777777777777778,\"#fb9f3a\"],[0.8888888888888888,\"#fdca26\"],[1.0,\"#f0f921\"]],\"type\":\"histogram2d\"}],\"histogram2dcontour\":[{\"colorbar\":{\"outlinewidth\":0,\"ticks\":\"\"},\"colorscale\":[[0.0,\"#0d0887\"],[0.1111111111111111,\"#46039f\"],[0.2222222222222222,\"#7201a8\"],[0.3333333333333333,\"#9c179e\"],[0.4444444444444444,\"#bd3786\"],[0.5555555555555556,\"#d8576b\"],[0.6666666666666666,\"#ed7953\"],[0.7777777777777778,\"#fb9f3a\"],[0.8888888888888888,\"#fdca26\"],[1.0,\"#f0f921\"]],\"type\":\"histogram2dcontour\"}],\"mesh3d\":[{\"colorbar\":{\"outlinewidth\":0,\"ticks\":\"\"},\"type\":\"mesh3d\"}],\"parcoords\":[{\"line\":{\"colorbar\":{\"outlinewidth\":0,\"ticks\":\"\"}},\"type\":\"parcoords\"}],\"pie\":[{\"automargin\":true,\"type\":\"pie\"}],\"scatter\":[{\"marker\":{\"colorbar\":{\"outlinewidth\":0,\"ticks\":\"\"}},\"type\":\"scatter\"}],\"scatter3d\":[{\"line\":{\"colorbar\":{\"outlinewidth\":0,\"ticks\":\"\"}},\"marker\":{\"colorbar\":{\"outlinewidth\":0,\"ticks\":\"\"}},\"type\":\"scatter3d\"}],\"scattercarpet\":[{\"marker\":{\"colorbar\":{\"outlinewidth\":0,\"ticks\":\"\"}},\"type\":\"scattercarpet\"}],\"scattergeo\":[{\"marker\":{\"colorbar\":{\"outlinewidth\":0,\"ticks\":\"\"}},\"type\":\"scattergeo\"}],\"scattergl\":[{\"marker\":{\"colorbar\":{\"outlinewidth\":0,\"ticks\":\"\"}},\"type\":\"scattergl\"}],\"scattermapbox\":[{\"marker\":{\"colorbar\":{\"outlinewidth\":0,\"ticks\":\"\"}},\"type\":\"scattermapbox\"}],\"scatterpolar\":[{\"marker\":{\"colorbar\":{\"outlinewidth\":0,\"ticks\":\"\"}},\"type\":\"scatterpolar\"}],\"scatterpolargl\":[{\"marker\":{\"colorbar\":{\"outlinewidth\":0,\"ticks\":\"\"}},\"type\":\"scatterpolargl\"}],\"scatterternary\":[{\"marker\":{\"colorbar\":{\"outlinewidth\":0,\"ticks\":\"\"}},\"type\":\"scatterternary\"}],\"surface\":[{\"colorbar\":{\"outlinewidth\":0,\"ticks\":\"\"},\"colorscale\":[[0.0,\"#0d0887\"],[0.1111111111111111,\"#46039f\"],[0.2222222222222222,\"#7201a8\"],[0.3333333333333333,\"#9c179e\"],[0.4444444444444444,\"#bd3786\"],[0.5555555555555556,\"#d8576b\"],[0.6666666666666666,\"#ed7953\"],[0.7777777777777778,\"#fb9f3a\"],[0.8888888888888888,\"#fdca26\"],[1.0,\"#f0f921\"]],\"type\":\"surface\"}],\"table\":[{\"cells\":{\"fill\":{\"color\":\"#EBF0F8\"},\"line\":{\"color\":\"white\"}},\"header\":{\"fill\":{\"color\":\"#C8D4E3\"},\"line\":{\"color\":\"white\"}},\"type\":\"table\"}]},\"layout\":{\"annotationdefaults\":{\"arrowcolor\":\"#2a3f5f\",\"arrowhead\":0,\"arrowwidth\":1},\"autotypenumbers\":\"strict\",\"coloraxis\":{\"colorbar\":{\"outlinewidth\":0,\"ticks\":\"\"}},\"colorscale\":{\"diverging\":[[0,\"#8e0152\"],[0.1,\"#c51b7d\"],[0.2,\"#de77ae\"],[0.3,\"#f1b6da\"],[0.4,\"#fde0ef\"],[0.5,\"#f7f7f7\"],[0.6,\"#e6f5d0\"],[0.7,\"#b8e186\"],[0.8,\"#7fbc41\"],[0.9,\"#4d9221\"],[1,\"#276419\"]],\"sequential\":[[0.0,\"#0d0887\"],[0.1111111111111111,\"#46039f\"],[0.2222222222222222,\"#7201a8\"],[0.3333333333333333,\"#9c179e\"],[0.4444444444444444,\"#bd3786\"],[0.5555555555555556,\"#d8576b\"],[0.6666666666666666,\"#ed7953\"],[0.7777777777777778,\"#fb9f3a\"],[0.8888888888888888,\"#fdca26\"],[1.0,\"#f0f921\"]],\"sequentialminus\":[[0.0,\"#0d0887\"],[0.1111111111111111,\"#46039f\"],[0.2222222222222222,\"#7201a8\"],[0.3333333333333333,\"#9c179e\"],[0.4444444444444444,\"#bd3786\"],[0.5555555555555556,\"#d8576b\"],[0.6666666666666666,\"#ed7953\"],[0.7777777777777778,\"#fb9f3a\"],[0.8888888888888888,\"#fdca26\"],[1.0,\"#f0f921\"]]},\"colorway\":[\"#636efa\",\"#EF553B\",\"#00cc96\",\"#ab63fa\",\"#FFA15A\",\"#19d3f3\",\"#FF6692\",\"#B6E880\",\"#FF97FF\",\"#FECB52\"],\"font\":{\"color\":\"#2a3f5f\"},\"geo\":{\"bgcolor\":\"white\",\"lakecolor\":\"white\",\"landcolor\":\"#E5ECF6\",\"showlakes\":true,\"showland\":true,\"subunitcolor\":\"white\"},\"hoverlabel\":{\"align\":\"left\"},\"hovermode\":\"closest\",\"mapbox\":{\"style\":\"light\"},\"paper_bgcolor\":\"white\",\"plot_bgcolor\":\"#E5ECF6\",\"polar\":{\"angularaxis\":{\"gridcolor\":\"white\",\"linecolor\":\"white\",\"ticks\":\"\"},\"bgcolor\":\"#E5ECF6\",\"radialaxis\":{\"gridcolor\":\"white\",\"linecolor\":\"white\",\"ticks\":\"\"}},\"scene\":{\"xaxis\":{\"backgroundcolor\":\"#E5ECF6\",\"gridcolor\":\"white\",\"gridwidth\":2,\"linecolor\":\"white\",\"showbackground\":true,\"ticks\":\"\",\"zerolinecolor\":\"white\"},\"yaxis\":{\"backgroundcolor\":\"#E5ECF6\",\"gridcolor\":\"white\",\"gridwidth\":2,\"linecolor\":\"white\",\"showbackground\":true,\"ticks\":\"\",\"zerolinecolor\":\"white\"},\"zaxis\":{\"backgroundcolor\":\"#E5ECF6\",\"gridcolor\":\"white\",\"gridwidth\":2,\"linecolor\":\"white\",\"showbackground\":true,\"ticks\":\"\",\"zerolinecolor\":\"white\"}},\"shapedefaults\":{\"line\":{\"color\":\"#2a3f5f\"}},\"ternary\":{\"aaxis\":{\"gridcolor\":\"white\",\"linecolor\":\"white\",\"ticks\":\"\"},\"baxis\":{\"gridcolor\":\"white\",\"linecolor\":\"white\",\"ticks\":\"\"},\"bgcolor\":\"#E5ECF6\",\"caxis\":{\"gridcolor\":\"white\",\"linecolor\":\"white\",\"ticks\":\"\"}},\"title\":{\"x\":0.05},\"xaxis\":{\"automargin\":true,\"gridcolor\":\"white\",\"linecolor\":\"white\",\"ticks\":\"\",\"title\":{\"standoff\":15},\"zerolinecolor\":\"white\",\"zerolinewidth\":2},\"yaxis\":{\"automargin\":true,\"gridcolor\":\"white\",\"linecolor\":\"white\",\"ticks\":\"\",\"title\":{\"standoff\":15},\"zerolinecolor\":\"white\",\"zerolinewidth\":2}}},\"title\":{\"text\":\"Propiedades f\\u00edsico-qu\\u00edmicas\",\"x\":0.5,\"xanchor\":\"center\",\"y\":0.9,\"yanchor\":\"top\"},\"width\":1200,\"xaxis\":{\"domain\":[1,1],\"mirror\":false,\"rangemode\":\"tozero\",\"showgrid\":false,\"showline\":false,\"showticklabels\":true,\"tickmode\":\"array\",\"ticks\":\"\",\"ticktext\":[\"_feat_ASA_P\",\"_feat_BalabanIndex\",\"_feat_MinimalProjectionArea\",\"_feat_MinimalProjectionRadius\",\"_feat_VanderWaalsSurfaceArea\",\"_feat_msareaVDWp\",\"_feat_molsurfaceareaVDWp\",\"_feat_VanderWaalsVolume\",\"_feat_MolPol\",\"_feat_AvgPol\",\"_feat_Refractivity\",\"_feat_MaximalProjectionArea\",\"_feat_ASA-\",\"_feat_WienerIndex\",\"_feat_HyperWienerIndex\",\"_feat_minimalprojectionsize\",\"_feat_LengthPerpendicularToTheMinArea\",\"_feat_MaximalProjectionRadius\",\"_feat_ASA\",\"_feat_ASA+\",\"_feat_msareaASAp\",\"_feat_molsurfaceareaASAp\",\"_feat_ASA_H\",\"_feat_LengthPerpendicularToTheMaxArea\",\"_feat_maximalprojectionsize\"],\"tickvals\":[5.0,15.0,25.0,35.0,45.0,55.0,65.0,75.0,85.0,95.0,105.0,115.0,125.0,135.0,145.0,155.0,165.0,175.0,185.0,195.0,205.0,215.0,225.0,235.0,245.0],\"type\":\"linear\",\"zeroline\":false},\"xaxis2\":{\"domain\":[1,0.8],\"mirror\":false,\"showgrid\":false,\"showline\":false,\"showticklabels\":false,\"ticks\":\"\",\"zeroline\":false},\"yaxis\":{\"domain\":[0.1,0.8],\"mirror\":false,\"rangemode\":\"tozero\",\"showgrid\":false,\"showline\":false,\"showticklabels\":true,\"tickmode\":\"array\",\"ticks\":\"\",\"ticktext\":[\"PCA 1\",\"PCA 2\",\"PCA 3\",\"PCA 4\",\"PCA 5\",\"PCA 6\",\"PCA 7\",\"PCA 8\"],\"tickvals\":[0,1,2,3,4,5,6,7],\"title\":{\"text\":\"Componente PCA\"},\"type\":\"linear\",\"zeroline\":false},\"yaxis2\":{\"domain\":[0.8,1],\"mirror\":false,\"showgrid\":false,\"showline\":false,\"showticklabels\":false,\"ticks\":\"\",\"zeroline\":false}},                        {\"responsive\": true}                    ).then(function(){\n",
       "                            \n",
       "var gd = document.getElementById('69e81221-a484-4b29-9214-a73654503d9c');\n",
       "var x = new MutationObserver(function (mutations, observer) {{\n",
       "        var display = window.getComputedStyle(gd).display;\n",
       "        if (!display || display === 'none') {{\n",
       "            console.log([gd, 'removed!']);\n",
       "            Plotly.purge(gd);\n",
       "            observer.disconnect();\n",
       "        }}\n",
       "}});\n",
       "\n",
       "// Listen for the removal of the full notebook cells\n",
       "var notebookContainer = gd.closest('#notebook-container');\n",
       "if (notebookContainer) {{\n",
       "    x.observe(notebookContainer, {childList: true});\n",
       "}}\n",
       "\n",
       "// Listen for the clearing of the current output cell\n",
       "var outputEl = gd.closest('.output');\n",
       "if (outputEl) {{\n",
       "    x.observe(outputEl, {childList: true});\n",
       "}}\n",
       "\n",
       "                        })                };                });            </script>        </div>"
      ]
     },
     "metadata": {}
    }
   ],
   "metadata": {}
  },
  {
   "cell_type": "code",
   "execution_count": null,
   "source": [],
   "outputs": [],
   "metadata": {}
  }
 ],
 "metadata": {
  "interpreter": {
   "hash": "d07da0965434c7b5286d6cc9b9463c44a85c1c514696f673aad9eb5034120dfe"
  },
  "kernelspec": {
   "name": "python3",
   "display_name": "Python 3.6.9 64-bit ('licentiate-thesis-repo-cz9ujhZI': pipenv)"
  },
  "language_info": {
   "codemirror_mode": {
    "name": "ipython",
    "version": 3
   },
   "file_extension": ".py",
   "mimetype": "text/x-python",
   "name": "python",
   "nbconvert_exporter": "python",
   "pygments_lexer": "ipython3",
   "version": "3.6.9"
  },
  "orig_nbformat": 4
 },
 "nbformat": 4,
 "nbformat_minor": 2
}