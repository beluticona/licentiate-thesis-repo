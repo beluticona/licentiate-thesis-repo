{
 "cells": [
  {
   "cell_type": "code",
   "execution_count": 1,
   "source": [
    "import matplotlib.pyplot as plt\n",
    "from sklearn.decomposition import PCA\n",
    "from sklearn.cluster import DBSCAN\n",
    "from sklearn.manifold import TSNE\n",
    "from sklearn.cluster import KMeans\n",
    "import seaborn as sns; sns.set()\n",
    "from sklearn.preprocessing import StandardScaler\n",
    "import numpy as np\n",
    "import plotly.express as px\n",
    "import pandas as pd\n",
    "import src.data.notebook_utils as utils\n",
    "from rdkit import Chem\n",
    "from rdkit import DataStructs\n",
    "plt.rcParams['figure.figsize'] = [6, 6]"
   ],
   "outputs": [],
   "metadata": {}
  },
  {
   "cell_type": "code",
   "execution_count": 15,
   "source": [
    "%cd .."
   ],
   "outputs": [
    {
     "output_type": "stream",
     "name": "stdout",
     "text": [
      "/home/belu/VS Workplace/licentiate-thesis-repo\n"
     ]
    }
   ],
   "metadata": {}
  },
  {
   "cell_type": "code",
   "execution_count": 16,
   "source": [
    "# familiaridad de aminas\n",
    "# https://jcheminf.biomedcentral.com/articles/10.1186/s13321-018-0302-y"
   ],
   "outputs": [],
   "metadata": {}
  },
  {
   "cell_type": "code",
   "execution_count": 18,
   "source": [
    "data_path = 'data/preproccess/_training.csv'\n",
    "\n",
    "df = utils.read_data()\n",
    "\n",
    "df_selected_feat = pd.read_csv(data_path)"
   ],
   "outputs": [],
   "metadata": {}
  },
  {
   "cell_type": "code",
   "execution_count": 20,
   "source": [
    "amine_df = df[utils.get_columns(df_selected_feat.columns)['_feat_']]\n",
    "amine_info = df[['_rxn_organic-inchikey']]\n",
    "amine_all = pd.concat([amine_df, amine_info], axis='columns')\n",
    "amine_df = amine_all.drop_duplicates()"
   ],
   "outputs": [],
   "metadata": {}
  },
  {
   "cell_type": "code",
   "execution_count": 21,
   "source": [
    "len(df)"
   ],
   "outputs": [
    {
     "output_type": "execute_result",
     "data": {
      "text/plain": [
       "3630"
      ]
     },
     "metadata": {},
     "execution_count": 21
    }
   ],
   "metadata": {}
  },
  {
   "cell_type": "code",
   "execution_count": 22,
   "source": [
    "len(amine_df)"
   ],
   "outputs": [
    {
     "output_type": "execute_result",
     "data": {
      "text/plain": [
       "27"
      ]
     },
     "metadata": {},
     "execution_count": 22
    }
   ],
   "metadata": {}
  },
  {
   "cell_type": "code",
   "execution_count": 23,
   "source": [
    "amine_df"
   ],
   "outputs": [
    {
     "output_type": "execute_result",
     "data": {
      "text/plain": [
       "      _feat_minimalprojectionsize  _feat_ASA_H  _feat_WienerIndex  \\\n",
       "0                            9.19       234.42                 32   \n",
       "1                            9.15       225.09                 20   \n",
       "2                            6.29        69.53                  9   \n",
       "3                           12.05       303.81                170   \n",
       "4                            6.58       184.98                  9   \n",
       "5                            9.15       267.53                 20   \n",
       "6                            8.46       288.54                 48   \n",
       "7                           11.69       285.95                 56   \n",
       "8                            7.79       205.51                 18   \n",
       "9                           10.11       242.32                 90   \n",
       "10                           7.87       217.80                 28   \n",
       "11                           7.60       193.89                 10   \n",
       "14                           9.33       224.73                 64   \n",
       "15                           5.77       207.30                 16   \n",
       "18                           9.20       227.04                 64   \n",
       "19                           4.81       129.54                  1   \n",
       "22                          10.80       230.35                127   \n",
       "33                           8.57       171.72                 62   \n",
       "36                           8.00       197.52                 42   \n",
       "46                          10.69       304.69                104   \n",
       "53                          10.59       177.53                201   \n",
       "60                           9.50       146.27                152   \n",
       "70                           9.14       283.03                 88   \n",
       "78                          19.06       481.73                364   \n",
       "109                          5.69        33.15                  4   \n",
       "187                         10.13       256.14                 94   \n",
       "1811                         6.06        62.03                 15   \n",
       "\n",
       "      _feat_molsurfaceareaVDWp  _feat_LengthPerpendicularToTheMinArea  \\\n",
       "0                       203.20                                   9.19   \n",
       "1                       173.44                                   9.15   \n",
       "2                        95.68                                   6.29   \n",
       "3                       265.89                                  12.05   \n",
       "4                       141.67                                   6.58   \n",
       "5                       177.50                                   9.15   \n",
       "6                       236.93                                   8.46   \n",
       "7                       234.33                                  11.69   \n",
       "8                       172.19                                   7.79   \n",
       "9                       204.29                                  10.11   \n",
       "10                      207.49                                   7.87   \n",
       "11                      142.90                                   7.60   \n",
       "14                      233.86                                   9.33   \n",
       "15                      177.46                                   5.77   \n",
       "18                      186.95                                   9.20   \n",
       "19                       81.16                                   4.81   \n",
       "22                      224.66                                  10.80   \n",
       "33                      163.01                                   8.57   \n",
       "36                      155.97                                   8.00   \n",
       "46                      294.02                                  10.69   \n",
       "53                      236.68                                  10.59   \n",
       "60                      206.00                                   9.50   \n",
       "70                      301.19                                   9.14   \n",
       "78                      417.97                                  19.06   \n",
       "109                      78.12                                   5.69   \n",
       "187                     217.67                                  10.13   \n",
       "1811                     90.74                                   6.06   \n",
       "\n",
       "      _feat_msareaVDWp  _feat_BondCount  _feat_Aliphatic AtomCount  \\\n",
       "0               203.20               19                          6   \n",
       "1               173.44               16                          5   \n",
       "2                95.68                9                          4   \n",
       "3               265.89               25                          5   \n",
       "4               141.67               13                          4   \n",
       "5               177.50               16                          5   \n",
       "6               236.93               22                          7   \n",
       "7               234.33               22                          7   \n",
       "8               172.19               16                          5   \n",
       "9               204.29               19                          3   \n",
       "10              207.49               19                          6   \n",
       "11              142.90               13                          4   \n",
       "14              233.86               24                          8   \n",
       "15              177.46               16                          5   \n",
       "18              186.95               18                          2   \n",
       "19               81.16                7                          2   \n",
       "22              224.66               21                          4   \n",
       "33              163.01               15                          2   \n",
       "36              155.97               15                          1   \n",
       "46              294.02               28                          9   \n",
       "53              236.68               21                          6   \n",
       "60              206.00               18                          5   \n",
       "70              301.19               28                          9   \n",
       "78              417.97               40                         13   \n",
       "109              78.12                7                          3   \n",
       "187             217.67               21                          3   \n",
       "1811             90.74               10                          5   \n",
       "\n",
       "      _feat_MinimalProjectionArea  _feat_MolPol  ...  _feat_msareaASAp  \\\n",
       "0                           22.80         11.42  ...            215.08   \n",
       "1                           18.77          9.57  ...            202.99   \n",
       "2                           15.91          5.89  ...            120.89   \n",
       "3                           28.03         17.92  ...            293.82   \n",
       "4                           21.99          7.73  ...            167.58   \n",
       "5                           19.22          9.57  ...            206.64   \n",
       "6                           28.74         13.27  ...            230.80   \n",
       "7                           20.70         13.27  ...            246.47   \n",
       "8                           22.47          9.57  ...            189.82   \n",
       "9                           24.08         14.28  ...            244.72   \n",
       "10                          27.08         11.42  ...            195.11   \n",
       "11                          18.32          7.73  ...            177.81   \n",
       "14                          28.32         14.37  ...            213.57   \n",
       "15                          25.82          9.57  ...            175.03   \n",
       "18                          24.65         13.66  ...            196.91   \n",
       "19                          13.88          4.04  ...            136.92   \n",
       "22                          25.38         15.04  ...            207.04   \n",
       "33                          20.46         11.42  ...            223.51   \n",
       "36                          20.14         11.79  ...            179.39   \n",
       "46                          34.16         16.56  ...            285.85   \n",
       "53                          27.16         14.75  ...            177.72   \n",
       "60                          23.91         12.94  ...            189.88   \n",
       "70                          31.48         16.96  ...            239.21   \n",
       "78                          32.95         24.35  ...            398.73   \n",
       "109                         13.66          4.77  ...            123.82   \n",
       "187                         24.96         15.43  ...            218.15   \n",
       "1811                        17.26          7.48  ...            172.41   \n",
       "\n",
       "      _feat_MaximalProjectionRadius  _feat_MinimalProjectionRadius  \\\n",
       "0                              4.60                           3.18   \n",
       "1                              4.57                           2.69   \n",
       "2                              3.14                           3.01   \n",
       "3                              6.03                           3.45   \n",
       "4                              3.36                           3.16   \n",
       "5                              4.54                           2.80   \n",
       "6                              4.49                           3.37   \n",
       "7                              5.85                           2.89   \n",
       "8                              3.96                           3.12   \n",
       "9                              5.09                           3.45   \n",
       "10                             3.96                           3.38   \n",
       "11                             3.94                           2.71   \n",
       "14                             4.78                           3.70   \n",
       "15                             3.38                           3.36   \n",
       "18                             4.68                           3.52   \n",
       "19                             2.67                           2.33   \n",
       "22                             5.49                           3.37   \n",
       "33                             4.29                           3.35   \n",
       "36                             4.01                           3.40   \n",
       "46                             5.42                           4.32   \n",
       "53                             5.39                           3.52   \n",
       "60                             4.78                           3.48   \n",
       "70                             4.64                           3.39   \n",
       "78                             9.65                           4.07   \n",
       "109                            3.09                           2.41   \n",
       "187                            5.03                           3.37   \n",
       "1811                           3.18                           2.91   \n",
       "\n",
       "      _feat_ASA+  _feat_VanderWaalsSurfaceArea  _feat_ASA-  \\\n",
       "0         215.08                        203.20       67.59   \n",
       "1         202.99                        173.44       70.99   \n",
       "2         120.89                         95.68       64.46   \n",
       "3         293.82                        265.89       77.00   \n",
       "4         167.58                        141.67       59.48   \n",
       "5         206.64                        177.50       80.53   \n",
       "6         230.80                        236.93       71.40   \n",
       "7         246.47                        234.33       81.96   \n",
       "8         189.82                        172.19       58.23   \n",
       "9         244.72                        204.29       68.26   \n",
       "10        195.11                        207.49       59.57   \n",
       "11        177.81                        142.90       65.57   \n",
       "14        213.57                        233.86       52.34   \n",
       "15        175.03                        177.46       66.66   \n",
       "18        196.91                        186.95       76.01   \n",
       "19        136.92                         81.16       54.52   \n",
       "22        207.04                        224.66      104.23   \n",
       "33        223.51                        163.01       32.62   \n",
       "36        179.39                        155.97       69.84   \n",
       "46        285.85                        294.02       73.58   \n",
       "53        177.72                        236.68      149.19   \n",
       "60        189.88                        206.00      112.15   \n",
       "70        239.21                        301.19       65.18   \n",
       "78        398.73                        417.97      125.78   \n",
       "109       146.92                         78.34       29.36   \n",
       "187       218.15                        217.67       86.40   \n",
       "1811      144.73                         89.55       19.26   \n",
       "\n",
       "      _feat_ChainAtomCount  _feat_ProtPolarSurfaceArea  _feat_BalabanIndex  \\\n",
       "0                        6                       27.64                2.63   \n",
       "1                        5                       27.64                2.19   \n",
       "2                        4                       77.63                2.32   \n",
       "3                        5                       36.87                1.94   \n",
       "4                        4                       27.64                2.32   \n",
       "5                        5                       16.61                2.19   \n",
       "6                        7                       16.61                2.95   \n",
       "7                        7                       27.64                2.45   \n",
       "8                        5                       27.64                2.54   \n",
       "9                        3                       36.87                1.94   \n",
       "10                       6                       27.64                3.17   \n",
       "11                       4                       27.64                1.97   \n",
       "14                       2                       27.64                2.13   \n",
       "15                       5                       27.64                3.02   \n",
       "18                       2                       27.64                2.13   \n",
       "19                       2                       27.64                1.00   \n",
       "22                       4                       27.64                2.13   \n",
       "33                       2                       27.64                2.19   \n",
       "36                       1                       27.64                1.82   \n",
       "46                       9                       32.08                3.09   \n",
       "53                       6                       27.64                2.36   \n",
       "60                       5                       27.64                2.18   \n",
       "70                       9                       27.64                3.75   \n",
       "78                      13                       27.64                2.76   \n",
       "109                      3                       51.61                1.63   \n",
       "187                      3                       27.64                1.85   \n",
       "1811                     0                       26.00                1.67   \n",
       "\n",
       "            _rxn_organic-inchikey  \n",
       "0     UZHWWTHDRVLCJU-UHFFFAOYSA-N  \n",
       "1     CALQKRVFTWDYDG-UHFFFAOYSA-N  \n",
       "2     UUDRLGYROXTISK-UHFFFAOYSA-N  \n",
       "3     QNNYEDWTOZODAS-UHFFFAOYSA-N  \n",
       "4     VMLAEGAAHIIWJX-UHFFFAOYSA-N  \n",
       "5     YYMLRIWBISZOMT-UHFFFAOYSA-N  \n",
       "6     PBGZCCFVBVEIAS-UHFFFAOYSA-N  \n",
       "7     VNAAUNTYIONOHR-UHFFFAOYSA-N  \n",
       "8     FCTHQYIDLRRROX-UHFFFAOYSA-N  \n",
       "9     QRFXELVDJSDWHX-UHFFFAOYSA-N  \n",
       "10    CQWGDVVCKBJLNX-UHFFFAOYSA-N  \n",
       "11    GIAPQOZCVIEHNY-UHFFFAOYSA-N  \n",
       "14    ZEVRFFCPALTVDN-UHFFFAOYSA-N  \n",
       "15    NLJDBTZLVTWXRG-UHFFFAOYSA-N  \n",
       "18    PPCHYMCMRUGLHR-UHFFFAOYSA-N  \n",
       "19    LLWRXQXPJMPHLR-UHFFFAOYSA-N  \n",
       "22    NOHLSFNWSBZSBW-UHFFFAOYSA-N  \n",
       "33    FJFIJIDZQADKEE-UHFFFAOYSA-N  \n",
       "36    KFQARYBEAKAXIC-UHFFFAOYSA-N  \n",
       "46    NXRUEVJQMBGVAT-UHFFFAOYSA-N  \n",
       "53    SQXJHWOXNLTOOO-UHFFFAOYSA-N  \n",
       "60    KOAGKPNEVYEZDU-UHFFFAOYSA-N  \n",
       "70    UXYJHTKQEFCXBJ-UHFFFAOYSA-N  \n",
       "78    PXWSKGXEHZHFJA-UHFFFAOYSA-N  \n",
       "109   QHJPGANWSLEMTI-UHFFFAOYSA-N  \n",
       "187   UPHCENSIMPJEIS-UHFFFAOYSA-N  \n",
       "1811  JBOIAZWJIACNJF-UHFFFAOYSA-N  \n",
       "\n",
       "[27 rows x 35 columns]"
      ],
      "text/html": [
       "<div>\n",
       "<style scoped>\n",
       "    .dataframe tbody tr th:only-of-type {\n",
       "        vertical-align: middle;\n",
       "    }\n",
       "\n",
       "    .dataframe tbody tr th {\n",
       "        vertical-align: top;\n",
       "    }\n",
       "\n",
       "    .dataframe thead th {\n",
       "        text-align: right;\n",
       "    }\n",
       "</style>\n",
       "<table border=\"1\" class=\"dataframe\">\n",
       "  <thead>\n",
       "    <tr style=\"text-align: right;\">\n",
       "      <th></th>\n",
       "      <th>_feat_minimalprojectionsize</th>\n",
       "      <th>_feat_ASA_H</th>\n",
       "      <th>_feat_WienerIndex</th>\n",
       "      <th>_feat_molsurfaceareaVDWp</th>\n",
       "      <th>_feat_LengthPerpendicularToTheMinArea</th>\n",
       "      <th>_feat_msareaVDWp</th>\n",
       "      <th>_feat_BondCount</th>\n",
       "      <th>_feat_Aliphatic AtomCount</th>\n",
       "      <th>_feat_MinimalProjectionArea</th>\n",
       "      <th>_feat_MolPol</th>\n",
       "      <th>...</th>\n",
       "      <th>_feat_msareaASAp</th>\n",
       "      <th>_feat_MaximalProjectionRadius</th>\n",
       "      <th>_feat_MinimalProjectionRadius</th>\n",
       "      <th>_feat_ASA+</th>\n",
       "      <th>_feat_VanderWaalsSurfaceArea</th>\n",
       "      <th>_feat_ASA-</th>\n",
       "      <th>_feat_ChainAtomCount</th>\n",
       "      <th>_feat_ProtPolarSurfaceArea</th>\n",
       "      <th>_feat_BalabanIndex</th>\n",
       "      <th>_rxn_organic-inchikey</th>\n",
       "    </tr>\n",
       "  </thead>\n",
       "  <tbody>\n",
       "    <tr>\n",
       "      <th>0</th>\n",
       "      <td>9.19</td>\n",
       "      <td>234.42</td>\n",
       "      <td>32</td>\n",
       "      <td>203.20</td>\n",
       "      <td>9.19</td>\n",
       "      <td>203.20</td>\n",
       "      <td>19</td>\n",
       "      <td>6</td>\n",
       "      <td>22.80</td>\n",
       "      <td>11.42</td>\n",
       "      <td>...</td>\n",
       "      <td>215.08</td>\n",
       "      <td>4.60</td>\n",
       "      <td>3.18</td>\n",
       "      <td>215.08</td>\n",
       "      <td>203.20</td>\n",
       "      <td>67.59</td>\n",
       "      <td>6</td>\n",
       "      <td>27.64</td>\n",
       "      <td>2.63</td>\n",
       "      <td>UZHWWTHDRVLCJU-UHFFFAOYSA-N</td>\n",
       "    </tr>\n",
       "    <tr>\n",
       "      <th>1</th>\n",
       "      <td>9.15</td>\n",
       "      <td>225.09</td>\n",
       "      <td>20</td>\n",
       "      <td>173.44</td>\n",
       "      <td>9.15</td>\n",
       "      <td>173.44</td>\n",
       "      <td>16</td>\n",
       "      <td>5</td>\n",
       "      <td>18.77</td>\n",
       "      <td>9.57</td>\n",
       "      <td>...</td>\n",
       "      <td>202.99</td>\n",
       "      <td>4.57</td>\n",
       "      <td>2.69</td>\n",
       "      <td>202.99</td>\n",
       "      <td>173.44</td>\n",
       "      <td>70.99</td>\n",
       "      <td>5</td>\n",
       "      <td>27.64</td>\n",
       "      <td>2.19</td>\n",
       "      <td>CALQKRVFTWDYDG-UHFFFAOYSA-N</td>\n",
       "    </tr>\n",
       "    <tr>\n",
       "      <th>2</th>\n",
       "      <td>6.29</td>\n",
       "      <td>69.53</td>\n",
       "      <td>9</td>\n",
       "      <td>95.68</td>\n",
       "      <td>6.29</td>\n",
       "      <td>95.68</td>\n",
       "      <td>9</td>\n",
       "      <td>4</td>\n",
       "      <td>15.91</td>\n",
       "      <td>5.89</td>\n",
       "      <td>...</td>\n",
       "      <td>120.89</td>\n",
       "      <td>3.14</td>\n",
       "      <td>3.01</td>\n",
       "      <td>120.89</td>\n",
       "      <td>95.68</td>\n",
       "      <td>64.46</td>\n",
       "      <td>4</td>\n",
       "      <td>77.63</td>\n",
       "      <td>2.32</td>\n",
       "      <td>UUDRLGYROXTISK-UHFFFAOYSA-N</td>\n",
       "    </tr>\n",
       "    <tr>\n",
       "      <th>3</th>\n",
       "      <td>12.05</td>\n",
       "      <td>303.81</td>\n",
       "      <td>170</td>\n",
       "      <td>265.89</td>\n",
       "      <td>12.05</td>\n",
       "      <td>265.89</td>\n",
       "      <td>25</td>\n",
       "      <td>5</td>\n",
       "      <td>28.03</td>\n",
       "      <td>17.92</td>\n",
       "      <td>...</td>\n",
       "      <td>293.82</td>\n",
       "      <td>6.03</td>\n",
       "      <td>3.45</td>\n",
       "      <td>293.82</td>\n",
       "      <td>265.89</td>\n",
       "      <td>77.00</td>\n",
       "      <td>5</td>\n",
       "      <td>36.87</td>\n",
       "      <td>1.94</td>\n",
       "      <td>QNNYEDWTOZODAS-UHFFFAOYSA-N</td>\n",
       "    </tr>\n",
       "    <tr>\n",
       "      <th>4</th>\n",
       "      <td>6.58</td>\n",
       "      <td>184.98</td>\n",
       "      <td>9</td>\n",
       "      <td>141.67</td>\n",
       "      <td>6.58</td>\n",
       "      <td>141.67</td>\n",
       "      <td>13</td>\n",
       "      <td>4</td>\n",
       "      <td>21.99</td>\n",
       "      <td>7.73</td>\n",
       "      <td>...</td>\n",
       "      <td>167.58</td>\n",
       "      <td>3.36</td>\n",
       "      <td>3.16</td>\n",
       "      <td>167.58</td>\n",
       "      <td>141.67</td>\n",
       "      <td>59.48</td>\n",
       "      <td>4</td>\n",
       "      <td>27.64</td>\n",
       "      <td>2.32</td>\n",
       "      <td>VMLAEGAAHIIWJX-UHFFFAOYSA-N</td>\n",
       "    </tr>\n",
       "    <tr>\n",
       "      <th>5</th>\n",
       "      <td>9.15</td>\n",
       "      <td>267.53</td>\n",
       "      <td>20</td>\n",
       "      <td>177.50</td>\n",
       "      <td>9.15</td>\n",
       "      <td>177.50</td>\n",
       "      <td>16</td>\n",
       "      <td>5</td>\n",
       "      <td>19.22</td>\n",
       "      <td>9.57</td>\n",
       "      <td>...</td>\n",
       "      <td>206.64</td>\n",
       "      <td>4.54</td>\n",
       "      <td>2.80</td>\n",
       "      <td>206.64</td>\n",
       "      <td>177.50</td>\n",
       "      <td>80.53</td>\n",
       "      <td>5</td>\n",
       "      <td>16.61</td>\n",
       "      <td>2.19</td>\n",
       "      <td>YYMLRIWBISZOMT-UHFFFAOYSA-N</td>\n",
       "    </tr>\n",
       "    <tr>\n",
       "      <th>6</th>\n",
       "      <td>8.46</td>\n",
       "      <td>288.54</td>\n",
       "      <td>48</td>\n",
       "      <td>236.93</td>\n",
       "      <td>8.46</td>\n",
       "      <td>236.93</td>\n",
       "      <td>22</td>\n",
       "      <td>7</td>\n",
       "      <td>28.74</td>\n",
       "      <td>13.27</td>\n",
       "      <td>...</td>\n",
       "      <td>230.80</td>\n",
       "      <td>4.49</td>\n",
       "      <td>3.37</td>\n",
       "      <td>230.80</td>\n",
       "      <td>236.93</td>\n",
       "      <td>71.40</td>\n",
       "      <td>7</td>\n",
       "      <td>16.61</td>\n",
       "      <td>2.95</td>\n",
       "      <td>PBGZCCFVBVEIAS-UHFFFAOYSA-N</td>\n",
       "    </tr>\n",
       "    <tr>\n",
       "      <th>7</th>\n",
       "      <td>11.69</td>\n",
       "      <td>285.95</td>\n",
       "      <td>56</td>\n",
       "      <td>234.33</td>\n",
       "      <td>11.69</td>\n",
       "      <td>234.33</td>\n",
       "      <td>22</td>\n",
       "      <td>7</td>\n",
       "      <td>20.70</td>\n",
       "      <td>13.27</td>\n",
       "      <td>...</td>\n",
       "      <td>246.47</td>\n",
       "      <td>5.85</td>\n",
       "      <td>2.89</td>\n",
       "      <td>246.47</td>\n",
       "      <td>234.33</td>\n",
       "      <td>81.96</td>\n",
       "      <td>7</td>\n",
       "      <td>27.64</td>\n",
       "      <td>2.45</td>\n",
       "      <td>VNAAUNTYIONOHR-UHFFFAOYSA-N</td>\n",
       "    </tr>\n",
       "    <tr>\n",
       "      <th>8</th>\n",
       "      <td>7.79</td>\n",
       "      <td>205.51</td>\n",
       "      <td>18</td>\n",
       "      <td>172.19</td>\n",
       "      <td>7.79</td>\n",
       "      <td>172.19</td>\n",
       "      <td>16</td>\n",
       "      <td>5</td>\n",
       "      <td>22.47</td>\n",
       "      <td>9.57</td>\n",
       "      <td>...</td>\n",
       "      <td>189.82</td>\n",
       "      <td>3.96</td>\n",
       "      <td>3.12</td>\n",
       "      <td>189.82</td>\n",
       "      <td>172.19</td>\n",
       "      <td>58.23</td>\n",
       "      <td>5</td>\n",
       "      <td>27.64</td>\n",
       "      <td>2.54</td>\n",
       "      <td>FCTHQYIDLRRROX-UHFFFAOYSA-N</td>\n",
       "    </tr>\n",
       "    <tr>\n",
       "      <th>9</th>\n",
       "      <td>10.11</td>\n",
       "      <td>242.32</td>\n",
       "      <td>90</td>\n",
       "      <td>204.29</td>\n",
       "      <td>10.11</td>\n",
       "      <td>204.29</td>\n",
       "      <td>19</td>\n",
       "      <td>3</td>\n",
       "      <td>24.08</td>\n",
       "      <td>14.28</td>\n",
       "      <td>...</td>\n",
       "      <td>244.72</td>\n",
       "      <td>5.09</td>\n",
       "      <td>3.45</td>\n",
       "      <td>244.72</td>\n",
       "      <td>204.29</td>\n",
       "      <td>68.26</td>\n",
       "      <td>3</td>\n",
       "      <td>36.87</td>\n",
       "      <td>1.94</td>\n",
       "      <td>QRFXELVDJSDWHX-UHFFFAOYSA-N</td>\n",
       "    </tr>\n",
       "    <tr>\n",
       "      <th>10</th>\n",
       "      <td>7.87</td>\n",
       "      <td>217.80</td>\n",
       "      <td>28</td>\n",
       "      <td>207.49</td>\n",
       "      <td>7.87</td>\n",
       "      <td>207.49</td>\n",
       "      <td>19</td>\n",
       "      <td>6</td>\n",
       "      <td>27.08</td>\n",
       "      <td>11.42</td>\n",
       "      <td>...</td>\n",
       "      <td>195.11</td>\n",
       "      <td>3.96</td>\n",
       "      <td>3.38</td>\n",
       "      <td>195.11</td>\n",
       "      <td>207.49</td>\n",
       "      <td>59.57</td>\n",
       "      <td>6</td>\n",
       "      <td>27.64</td>\n",
       "      <td>3.17</td>\n",
       "      <td>CQWGDVVCKBJLNX-UHFFFAOYSA-N</td>\n",
       "    </tr>\n",
       "    <tr>\n",
       "      <th>11</th>\n",
       "      <td>7.60</td>\n",
       "      <td>193.89</td>\n",
       "      <td>10</td>\n",
       "      <td>142.90</td>\n",
       "      <td>7.60</td>\n",
       "      <td>142.90</td>\n",
       "      <td>13</td>\n",
       "      <td>4</td>\n",
       "      <td>18.32</td>\n",
       "      <td>7.73</td>\n",
       "      <td>...</td>\n",
       "      <td>177.81</td>\n",
       "      <td>3.94</td>\n",
       "      <td>2.71</td>\n",
       "      <td>177.81</td>\n",
       "      <td>142.90</td>\n",
       "      <td>65.57</td>\n",
       "      <td>4</td>\n",
       "      <td>27.64</td>\n",
       "      <td>1.97</td>\n",
       "      <td>GIAPQOZCVIEHNY-UHFFFAOYSA-N</td>\n",
       "    </tr>\n",
       "    <tr>\n",
       "      <th>14</th>\n",
       "      <td>9.33</td>\n",
       "      <td>224.73</td>\n",
       "      <td>64</td>\n",
       "      <td>233.86</td>\n",
       "      <td>9.33</td>\n",
       "      <td>233.86</td>\n",
       "      <td>24</td>\n",
       "      <td>8</td>\n",
       "      <td>28.32</td>\n",
       "      <td>14.37</td>\n",
       "      <td>...</td>\n",
       "      <td>213.57</td>\n",
       "      <td>4.78</td>\n",
       "      <td>3.70</td>\n",
       "      <td>213.57</td>\n",
       "      <td>233.86</td>\n",
       "      <td>52.34</td>\n",
       "      <td>2</td>\n",
       "      <td>27.64</td>\n",
       "      <td>2.13</td>\n",
       "      <td>ZEVRFFCPALTVDN-UHFFFAOYSA-N</td>\n",
       "    </tr>\n",
       "    <tr>\n",
       "      <th>15</th>\n",
       "      <td>5.77</td>\n",
       "      <td>207.30</td>\n",
       "      <td>16</td>\n",
       "      <td>177.46</td>\n",
       "      <td>5.77</td>\n",
       "      <td>177.46</td>\n",
       "      <td>16</td>\n",
       "      <td>5</td>\n",
       "      <td>25.82</td>\n",
       "      <td>9.57</td>\n",
       "      <td>...</td>\n",
       "      <td>175.03</td>\n",
       "      <td>3.38</td>\n",
       "      <td>3.36</td>\n",
       "      <td>175.03</td>\n",
       "      <td>177.46</td>\n",
       "      <td>66.66</td>\n",
       "      <td>5</td>\n",
       "      <td>27.64</td>\n",
       "      <td>3.02</td>\n",
       "      <td>NLJDBTZLVTWXRG-UHFFFAOYSA-N</td>\n",
       "    </tr>\n",
       "    <tr>\n",
       "      <th>18</th>\n",
       "      <td>9.20</td>\n",
       "      <td>227.04</td>\n",
       "      <td>64</td>\n",
       "      <td>186.95</td>\n",
       "      <td>9.20</td>\n",
       "      <td>186.95</td>\n",
       "      <td>18</td>\n",
       "      <td>2</td>\n",
       "      <td>24.65</td>\n",
       "      <td>13.66</td>\n",
       "      <td>...</td>\n",
       "      <td>196.91</td>\n",
       "      <td>4.68</td>\n",
       "      <td>3.52</td>\n",
       "      <td>196.91</td>\n",
       "      <td>186.95</td>\n",
       "      <td>76.01</td>\n",
       "      <td>2</td>\n",
       "      <td>27.64</td>\n",
       "      <td>2.13</td>\n",
       "      <td>PPCHYMCMRUGLHR-UHFFFAOYSA-N</td>\n",
       "    </tr>\n",
       "    <tr>\n",
       "      <th>19</th>\n",
       "      <td>4.81</td>\n",
       "      <td>129.54</td>\n",
       "      <td>1</td>\n",
       "      <td>81.16</td>\n",
       "      <td>4.81</td>\n",
       "      <td>81.16</td>\n",
       "      <td>7</td>\n",
       "      <td>2</td>\n",
       "      <td>13.88</td>\n",
       "      <td>4.04</td>\n",
       "      <td>...</td>\n",
       "      <td>136.92</td>\n",
       "      <td>2.67</td>\n",
       "      <td>2.33</td>\n",
       "      <td>136.92</td>\n",
       "      <td>81.16</td>\n",
       "      <td>54.52</td>\n",
       "      <td>2</td>\n",
       "      <td>27.64</td>\n",
       "      <td>1.00</td>\n",
       "      <td>LLWRXQXPJMPHLR-UHFFFAOYSA-N</td>\n",
       "    </tr>\n",
       "    <tr>\n",
       "      <th>22</th>\n",
       "      <td>10.80</td>\n",
       "      <td>230.35</td>\n",
       "      <td>127</td>\n",
       "      <td>224.66</td>\n",
       "      <td>10.80</td>\n",
       "      <td>224.66</td>\n",
       "      <td>21</td>\n",
       "      <td>4</td>\n",
       "      <td>25.38</td>\n",
       "      <td>15.04</td>\n",
       "      <td>...</td>\n",
       "      <td>207.04</td>\n",
       "      <td>5.49</td>\n",
       "      <td>3.37</td>\n",
       "      <td>207.04</td>\n",
       "      <td>224.66</td>\n",
       "      <td>104.23</td>\n",
       "      <td>4</td>\n",
       "      <td>27.64</td>\n",
       "      <td>2.13</td>\n",
       "      <td>NOHLSFNWSBZSBW-UHFFFAOYSA-N</td>\n",
       "    </tr>\n",
       "    <tr>\n",
       "      <th>33</th>\n",
       "      <td>8.57</td>\n",
       "      <td>171.72</td>\n",
       "      <td>62</td>\n",
       "      <td>163.01</td>\n",
       "      <td>8.57</td>\n",
       "      <td>163.01</td>\n",
       "      <td>15</td>\n",
       "      <td>2</td>\n",
       "      <td>20.46</td>\n",
       "      <td>11.42</td>\n",
       "      <td>...</td>\n",
       "      <td>223.51</td>\n",
       "      <td>4.29</td>\n",
       "      <td>3.35</td>\n",
       "      <td>223.51</td>\n",
       "      <td>163.01</td>\n",
       "      <td>32.62</td>\n",
       "      <td>2</td>\n",
       "      <td>27.64</td>\n",
       "      <td>2.19</td>\n",
       "      <td>FJFIJIDZQADKEE-UHFFFAOYSA-N</td>\n",
       "    </tr>\n",
       "    <tr>\n",
       "      <th>36</th>\n",
       "      <td>8.00</td>\n",
       "      <td>197.52</td>\n",
       "      <td>42</td>\n",
       "      <td>155.97</td>\n",
       "      <td>8.00</td>\n",
       "      <td>155.97</td>\n",
       "      <td>15</td>\n",
       "      <td>1</td>\n",
       "      <td>20.14</td>\n",
       "      <td>11.79</td>\n",
       "      <td>...</td>\n",
       "      <td>179.39</td>\n",
       "      <td>4.01</td>\n",
       "      <td>3.40</td>\n",
       "      <td>179.39</td>\n",
       "      <td>155.97</td>\n",
       "      <td>69.84</td>\n",
       "      <td>1</td>\n",
       "      <td>27.64</td>\n",
       "      <td>1.82</td>\n",
       "      <td>KFQARYBEAKAXIC-UHFFFAOYSA-N</td>\n",
       "    </tr>\n",
       "    <tr>\n",
       "      <th>46</th>\n",
       "      <td>10.69</td>\n",
       "      <td>304.69</td>\n",
       "      <td>104</td>\n",
       "      <td>294.02</td>\n",
       "      <td>10.69</td>\n",
       "      <td>294.02</td>\n",
       "      <td>28</td>\n",
       "      <td>9</td>\n",
       "      <td>34.16</td>\n",
       "      <td>16.56</td>\n",
       "      <td>...</td>\n",
       "      <td>285.85</td>\n",
       "      <td>5.42</td>\n",
       "      <td>4.32</td>\n",
       "      <td>285.85</td>\n",
       "      <td>294.02</td>\n",
       "      <td>73.58</td>\n",
       "      <td>9</td>\n",
       "      <td>32.08</td>\n",
       "      <td>3.09</td>\n",
       "      <td>NXRUEVJQMBGVAT-UHFFFAOYSA-N</td>\n",
       "    </tr>\n",
       "    <tr>\n",
       "      <th>53</th>\n",
       "      <td>10.59</td>\n",
       "      <td>177.53</td>\n",
       "      <td>201</td>\n",
       "      <td>236.68</td>\n",
       "      <td>10.59</td>\n",
       "      <td>236.68</td>\n",
       "      <td>21</td>\n",
       "      <td>6</td>\n",
       "      <td>27.16</td>\n",
       "      <td>14.75</td>\n",
       "      <td>...</td>\n",
       "      <td>177.72</td>\n",
       "      <td>5.39</td>\n",
       "      <td>3.52</td>\n",
       "      <td>177.72</td>\n",
       "      <td>236.68</td>\n",
       "      <td>149.19</td>\n",
       "      <td>6</td>\n",
       "      <td>27.64</td>\n",
       "      <td>2.36</td>\n",
       "      <td>SQXJHWOXNLTOOO-UHFFFAOYSA-N</td>\n",
       "    </tr>\n",
       "    <tr>\n",
       "      <th>60</th>\n",
       "      <td>9.50</td>\n",
       "      <td>146.27</td>\n",
       "      <td>152</td>\n",
       "      <td>206.00</td>\n",
       "      <td>9.50</td>\n",
       "      <td>206.00</td>\n",
       "      <td>18</td>\n",
       "      <td>5</td>\n",
       "      <td>23.91</td>\n",
       "      <td>12.94</td>\n",
       "      <td>...</td>\n",
       "      <td>189.88</td>\n",
       "      <td>4.78</td>\n",
       "      <td>3.48</td>\n",
       "      <td>189.88</td>\n",
       "      <td>206.00</td>\n",
       "      <td>112.15</td>\n",
       "      <td>5</td>\n",
       "      <td>27.64</td>\n",
       "      <td>2.18</td>\n",
       "      <td>KOAGKPNEVYEZDU-UHFFFAOYSA-N</td>\n",
       "    </tr>\n",
       "    <tr>\n",
       "      <th>70</th>\n",
       "      <td>9.14</td>\n",
       "      <td>283.03</td>\n",
       "      <td>88</td>\n",
       "      <td>301.19</td>\n",
       "      <td>9.14</td>\n",
       "      <td>301.19</td>\n",
       "      <td>28</td>\n",
       "      <td>9</td>\n",
       "      <td>31.48</td>\n",
       "      <td>16.96</td>\n",
       "      <td>...</td>\n",
       "      <td>239.21</td>\n",
       "      <td>4.64</td>\n",
       "      <td>3.39</td>\n",
       "      <td>239.21</td>\n",
       "      <td>301.19</td>\n",
       "      <td>65.18</td>\n",
       "      <td>9</td>\n",
       "      <td>27.64</td>\n",
       "      <td>3.75</td>\n",
       "      <td>UXYJHTKQEFCXBJ-UHFFFAOYSA-N</td>\n",
       "    </tr>\n",
       "    <tr>\n",
       "      <th>78</th>\n",
       "      <td>19.06</td>\n",
       "      <td>481.73</td>\n",
       "      <td>364</td>\n",
       "      <td>417.97</td>\n",
       "      <td>19.06</td>\n",
       "      <td>417.97</td>\n",
       "      <td>40</td>\n",
       "      <td>13</td>\n",
       "      <td>32.95</td>\n",
       "      <td>24.35</td>\n",
       "      <td>...</td>\n",
       "      <td>398.73</td>\n",
       "      <td>9.65</td>\n",
       "      <td>4.07</td>\n",
       "      <td>398.73</td>\n",
       "      <td>417.97</td>\n",
       "      <td>125.78</td>\n",
       "      <td>13</td>\n",
       "      <td>27.64</td>\n",
       "      <td>2.76</td>\n",
       "      <td>PXWSKGXEHZHFJA-UHFFFAOYSA-N</td>\n",
       "    </tr>\n",
       "    <tr>\n",
       "      <th>109</th>\n",
       "      <td>5.69</td>\n",
       "      <td>33.15</td>\n",
       "      <td>4</td>\n",
       "      <td>78.12</td>\n",
       "      <td>5.69</td>\n",
       "      <td>78.12</td>\n",
       "      <td>7</td>\n",
       "      <td>3</td>\n",
       "      <td>13.66</td>\n",
       "      <td>4.77</td>\n",
       "      <td>...</td>\n",
       "      <td>123.82</td>\n",
       "      <td>3.09</td>\n",
       "      <td>2.41</td>\n",
       "      <td>146.92</td>\n",
       "      <td>78.34</td>\n",
       "      <td>29.36</td>\n",
       "      <td>3</td>\n",
       "      <td>51.61</td>\n",
       "      <td>1.63</td>\n",
       "      <td>QHJPGANWSLEMTI-UHFFFAOYSA-N</td>\n",
       "    </tr>\n",
       "    <tr>\n",
       "      <th>187</th>\n",
       "      <td>10.13</td>\n",
       "      <td>256.14</td>\n",
       "      <td>94</td>\n",
       "      <td>217.67</td>\n",
       "      <td>10.13</td>\n",
       "      <td>217.67</td>\n",
       "      <td>21</td>\n",
       "      <td>3</td>\n",
       "      <td>24.96</td>\n",
       "      <td>15.43</td>\n",
       "      <td>...</td>\n",
       "      <td>218.15</td>\n",
       "      <td>5.03</td>\n",
       "      <td>3.37</td>\n",
       "      <td>218.15</td>\n",
       "      <td>217.67</td>\n",
       "      <td>86.40</td>\n",
       "      <td>3</td>\n",
       "      <td>27.64</td>\n",
       "      <td>1.85</td>\n",
       "      <td>UPHCENSIMPJEIS-UHFFFAOYSA-N</td>\n",
       "    </tr>\n",
       "    <tr>\n",
       "      <th>1811</th>\n",
       "      <td>6.06</td>\n",
       "      <td>62.03</td>\n",
       "      <td>15</td>\n",
       "      <td>90.74</td>\n",
       "      <td>6.06</td>\n",
       "      <td>90.74</td>\n",
       "      <td>10</td>\n",
       "      <td>5</td>\n",
       "      <td>17.26</td>\n",
       "      <td>7.48</td>\n",
       "      <td>...</td>\n",
       "      <td>172.41</td>\n",
       "      <td>3.18</td>\n",
       "      <td>2.91</td>\n",
       "      <td>144.73</td>\n",
       "      <td>89.55</td>\n",
       "      <td>19.26</td>\n",
       "      <td>0</td>\n",
       "      <td>26.00</td>\n",
       "      <td>1.67</td>\n",
       "      <td>JBOIAZWJIACNJF-UHFFFAOYSA-N</td>\n",
       "    </tr>\n",
       "  </tbody>\n",
       "</table>\n",
       "<p>27 rows × 35 columns</p>\n",
       "</div>"
      ]
     },
     "metadata": {},
     "execution_count": 23
    }
   ],
   "metadata": {}
  },
  {
   "cell_type": "code",
   "execution_count": 24,
   "source": [
    "chemical_names = utils.read_chemical_info()\n",
    "chemical_names.head()"
   ],
   "outputs": [
    {
     "output_type": "execute_result",
     "data": {
      "text/plain": [
       "         Chemical Name Chemical Abbreviation Molecular Weight (g/mol)  \\\n",
       "0                  NaN                   NaN                      NaN   \n",
       "1  Gamma-Butyrolactone                   GBL                    86.09   \n",
       "2   Dimethyl sulfoxide                  DMSO                    78.13   \n",
       "3          Formic Acid                   FAH                    46.03   \n",
       "4        Lead Diiodide                  PbI2                   461.01   \n",
       "\n",
       "   Density            (g/mL)                                 InChI=  \\\n",
       "0                        NaN                                    NaN   \n",
       "1                       1.12  InChI=1S/C4H6O2/c5-4-2-1-3-6-4/h1-3H2   \n",
       "2                       1.10        InChI=1S/C2H6OS/c1-4(2)3/h1-2H3   \n",
       "3                       1.22      InChI=1S/CH2O2/c2-1-3/h1H,(H,2,3)   \n",
       "4                       6.16       InChI=1S/2HI.Pb/h2*1H;/q;;+2/p-2   \n",
       "\n",
       "                InChI Key (ID) Chemical Category Canonical SMILES String  \\\n",
       "0                          NaN               NaN                     NaN   \n",
       "1  YEJRWHAVMIAJKC-UHFFFAOYSA-N           solvent             C1CC(=O)OC1   \n",
       "2  IAZDPXIOMUYVGZ-UHFFFAOYSA-N           solvent                 CS(=O)C   \n",
       "3  BDAGIHXWWSANSR-UHFFFAOYSA-N              acid                  C(=O)O   \n",
       "4  RQQRAHKHDFPBMC-UHFFFAOYSA-L         inorganic                  I[Pb]I   \n",
       "\n",
       "  Molecular Formula PubChem ID  ... Unnamed: 24 Unnamed: 25 Unnamed: 26  \\\n",
       "0               NaN        NaN  ...         NaN         NaN         NaN   \n",
       "1            C4H6O2        NaN  ...         NaN         NaN         NaN   \n",
       "2            C2H6OS        NaN  ...         NaN         NaN         NaN   \n",
       "3             CH2O2        NaN  ...         NaN         NaN         NaN   \n",
       "4              PbI2        NaN  ...         NaN         NaN         NaN   \n",
       "\n",
       "  Unnamed: 27 Unnamed: 28 Unnamed: 29 Unnamed: 30  Unnamed: 31  Unnamed: 32  \\\n",
       "0         NaN         NaN         NaN         NaN          NaN          NaN   \n",
       "1         NaN         NaN         NaN         NaN          NaN          NaN   \n",
       "2         NaN         NaN         NaN         NaN          NaN          NaN   \n",
       "3         NaN         NaN         NaN         NaN          NaN          NaN   \n",
       "4         NaN         NaN         NaN         NaN          NaN          NaN   \n",
       "\n",
       "   Unnamed: 33  \n",
       "0          NaN  \n",
       "1          NaN  \n",
       "2          NaN  \n",
       "3          NaN  \n",
       "4          NaN  \n",
       "\n",
       "[5 rows x 34 columns]"
      ],
      "text/html": [
       "<div>\n",
       "<style scoped>\n",
       "    .dataframe tbody tr th:only-of-type {\n",
       "        vertical-align: middle;\n",
       "    }\n",
       "\n",
       "    .dataframe tbody tr th {\n",
       "        vertical-align: top;\n",
       "    }\n",
       "\n",
       "    .dataframe thead th {\n",
       "        text-align: right;\n",
       "    }\n",
       "</style>\n",
       "<table border=\"1\" class=\"dataframe\">\n",
       "  <thead>\n",
       "    <tr style=\"text-align: right;\">\n",
       "      <th></th>\n",
       "      <th>Chemical Name</th>\n",
       "      <th>Chemical Abbreviation</th>\n",
       "      <th>Molecular Weight (g/mol)</th>\n",
       "      <th>Density            (g/mL)</th>\n",
       "      <th>InChI=</th>\n",
       "      <th>InChI Key (ID)</th>\n",
       "      <th>Chemical Category</th>\n",
       "      <th>Canonical SMILES String</th>\n",
       "      <th>Molecular Formula</th>\n",
       "      <th>PubChem ID</th>\n",
       "      <th>...</th>\n",
       "      <th>Unnamed: 24</th>\n",
       "      <th>Unnamed: 25</th>\n",
       "      <th>Unnamed: 26</th>\n",
       "      <th>Unnamed: 27</th>\n",
       "      <th>Unnamed: 28</th>\n",
       "      <th>Unnamed: 29</th>\n",
       "      <th>Unnamed: 30</th>\n",
       "      <th>Unnamed: 31</th>\n",
       "      <th>Unnamed: 32</th>\n",
       "      <th>Unnamed: 33</th>\n",
       "    </tr>\n",
       "  </thead>\n",
       "  <tbody>\n",
       "    <tr>\n",
       "      <th>0</th>\n",
       "      <td>NaN</td>\n",
       "      <td>NaN</td>\n",
       "      <td>NaN</td>\n",
       "      <td>NaN</td>\n",
       "      <td>NaN</td>\n",
       "      <td>NaN</td>\n",
       "      <td>NaN</td>\n",
       "      <td>NaN</td>\n",
       "      <td>NaN</td>\n",
       "      <td>NaN</td>\n",
       "      <td>...</td>\n",
       "      <td>NaN</td>\n",
       "      <td>NaN</td>\n",
       "      <td>NaN</td>\n",
       "      <td>NaN</td>\n",
       "      <td>NaN</td>\n",
       "      <td>NaN</td>\n",
       "      <td>NaN</td>\n",
       "      <td>NaN</td>\n",
       "      <td>NaN</td>\n",
       "      <td>NaN</td>\n",
       "    </tr>\n",
       "    <tr>\n",
       "      <th>1</th>\n",
       "      <td>Gamma-Butyrolactone</td>\n",
       "      <td>GBL</td>\n",
       "      <td>86.09</td>\n",
       "      <td>1.12</td>\n",
       "      <td>InChI=1S/C4H6O2/c5-4-2-1-3-6-4/h1-3H2</td>\n",
       "      <td>YEJRWHAVMIAJKC-UHFFFAOYSA-N</td>\n",
       "      <td>solvent</td>\n",
       "      <td>C1CC(=O)OC1</td>\n",
       "      <td>C4H6O2</td>\n",
       "      <td>NaN</td>\n",
       "      <td>...</td>\n",
       "      <td>NaN</td>\n",
       "      <td>NaN</td>\n",
       "      <td>NaN</td>\n",
       "      <td>NaN</td>\n",
       "      <td>NaN</td>\n",
       "      <td>NaN</td>\n",
       "      <td>NaN</td>\n",
       "      <td>NaN</td>\n",
       "      <td>NaN</td>\n",
       "      <td>NaN</td>\n",
       "    </tr>\n",
       "    <tr>\n",
       "      <th>2</th>\n",
       "      <td>Dimethyl sulfoxide</td>\n",
       "      <td>DMSO</td>\n",
       "      <td>78.13</td>\n",
       "      <td>1.10</td>\n",
       "      <td>InChI=1S/C2H6OS/c1-4(2)3/h1-2H3</td>\n",
       "      <td>IAZDPXIOMUYVGZ-UHFFFAOYSA-N</td>\n",
       "      <td>solvent</td>\n",
       "      <td>CS(=O)C</td>\n",
       "      <td>C2H6OS</td>\n",
       "      <td>NaN</td>\n",
       "      <td>...</td>\n",
       "      <td>NaN</td>\n",
       "      <td>NaN</td>\n",
       "      <td>NaN</td>\n",
       "      <td>NaN</td>\n",
       "      <td>NaN</td>\n",
       "      <td>NaN</td>\n",
       "      <td>NaN</td>\n",
       "      <td>NaN</td>\n",
       "      <td>NaN</td>\n",
       "      <td>NaN</td>\n",
       "    </tr>\n",
       "    <tr>\n",
       "      <th>3</th>\n",
       "      <td>Formic Acid</td>\n",
       "      <td>FAH</td>\n",
       "      <td>46.03</td>\n",
       "      <td>1.22</td>\n",
       "      <td>InChI=1S/CH2O2/c2-1-3/h1H,(H,2,3)</td>\n",
       "      <td>BDAGIHXWWSANSR-UHFFFAOYSA-N</td>\n",
       "      <td>acid</td>\n",
       "      <td>C(=O)O</td>\n",
       "      <td>CH2O2</td>\n",
       "      <td>NaN</td>\n",
       "      <td>...</td>\n",
       "      <td>NaN</td>\n",
       "      <td>NaN</td>\n",
       "      <td>NaN</td>\n",
       "      <td>NaN</td>\n",
       "      <td>NaN</td>\n",
       "      <td>NaN</td>\n",
       "      <td>NaN</td>\n",
       "      <td>NaN</td>\n",
       "      <td>NaN</td>\n",
       "      <td>NaN</td>\n",
       "    </tr>\n",
       "    <tr>\n",
       "      <th>4</th>\n",
       "      <td>Lead Diiodide</td>\n",
       "      <td>PbI2</td>\n",
       "      <td>461.01</td>\n",
       "      <td>6.16</td>\n",
       "      <td>InChI=1S/2HI.Pb/h2*1H;/q;;+2/p-2</td>\n",
       "      <td>RQQRAHKHDFPBMC-UHFFFAOYSA-L</td>\n",
       "      <td>inorganic</td>\n",
       "      <td>I[Pb]I</td>\n",
       "      <td>PbI2</td>\n",
       "      <td>NaN</td>\n",
       "      <td>...</td>\n",
       "      <td>NaN</td>\n",
       "      <td>NaN</td>\n",
       "      <td>NaN</td>\n",
       "      <td>NaN</td>\n",
       "      <td>NaN</td>\n",
       "      <td>NaN</td>\n",
       "      <td>NaN</td>\n",
       "      <td>NaN</td>\n",
       "      <td>NaN</td>\n",
       "      <td>NaN</td>\n",
       "    </tr>\n",
       "  </tbody>\n",
       "</table>\n",
       "<p>5 rows × 34 columns</p>\n",
       "</div>"
      ]
     },
     "metadata": {},
     "execution_count": 24
    }
   ],
   "metadata": {}
  },
  {
   "cell_type": "code",
   "execution_count": 25,
   "source": [
    "chemical_names.columns"
   ],
   "outputs": [
    {
     "output_type": "execute_result",
     "data": {
      "text/plain": [
       "Index(['Chemical Name', 'Chemical Abbreviation', 'Molecular Weight (g/mol)',\n",
       "       'Density            (g/mL)', 'InChI=', 'InChI Key (ID)',\n",
       "       'Chemical Category', 'Canonical SMILES String', 'Molecular Formula',\n",
       "       'PubChem ID', 'ECL Chemical id', 'ECL Product id',\n",
       "       'Catalog description', 'Synonyms', 'Catalog number',\n",
       "       'Sigma-Aldrich URL', 'Primary Information Source', 'Unnamed: 17',\n",
       "       'Unnamed: 18', 'Unnamed: 19', 'Unnamed: 20', 'Unnamed: 21',\n",
       "       'Unnamed: 22', 'Unnamed: 23', 'Unnamed: 24', 'Unnamed: 25',\n",
       "       'Unnamed: 26', 'Unnamed: 27', 'Unnamed: 28', 'Unnamed: 29',\n",
       "       'Unnamed: 30', 'Unnamed: 31', 'Unnamed: 32', 'Unnamed: 33'],\n",
       "      dtype='object')"
      ]
     },
     "metadata": {},
     "execution_count": 25
    }
   ],
   "metadata": {}
  },
  {
   "cell_type": "code",
   "execution_count": 26,
   "source": [
    "amine_cols_info = ['Chemical Abbreviation', 'InChI=', 'InChI Key (ID)', 'Canonical SMILES String']\n",
    "chemical_names = chemical_names[amine_cols_info].dropna()"
   ],
   "outputs": [],
   "metadata": {}
  },
  {
   "cell_type": "code",
   "execution_count": 27,
   "source": [
    "df_amine_with_names = amine_df.join(chemical_names.set_index('InChI Key (ID)'), on= '_rxn_organic-inchikey', how='inner')\n"
   ],
   "outputs": [],
   "metadata": {}
  },
  {
   "cell_type": "code",
   "execution_count": 28,
   "source": [
    "df_amine_with_names.columns[67:]"
   ],
   "outputs": [
    {
     "output_type": "execute_result",
     "data": {
      "text/plain": [
       "Index([], dtype='object')"
      ]
     },
     "metadata": {},
     "execution_count": 28
    }
   ],
   "metadata": {}
  },
  {
   "cell_type": "code",
   "execution_count": 31,
   "source": [
    "amine_df = df_amine_with_names.drop(['Chemical Abbreviation', 'InChI=', '_rxn_organic-inchikey', 'Canonical SMILES String'], axis='columns')"
   ],
   "outputs": [],
   "metadata": {}
  },
  {
   "cell_type": "code",
   "execution_count": 30,
   "source": [
    "#amine_df['index'] = abb_amines_names\n",
    "#amine_df.set_index('index').to_csv('amines_fcp.csv')"
   ],
   "outputs": [
    {
     "output_type": "error",
     "ename": "NameError",
     "evalue": "name 'abb_amines_names' is not defined",
     "traceback": [
      "\u001b[0;31m---------------------------------------------------------------------------\u001b[0m",
      "\u001b[0;31mNameError\u001b[0m                                 Traceback (most recent call last)",
      "\u001b[0;32m<ipython-input-30-9d473551a86f>\u001b[0m in \u001b[0;36m<module>\u001b[0;34m\u001b[0m\n\u001b[0;32m----> 1\u001b[0;31m \u001b[0mamine_df\u001b[0m\u001b[0;34m[\u001b[0m\u001b[0;34m'index'\u001b[0m\u001b[0;34m]\u001b[0m \u001b[0;34m=\u001b[0m \u001b[0mabb_amines_names\u001b[0m\u001b[0;34m\u001b[0m\u001b[0;34m\u001b[0m\u001b[0m\n\u001b[0m\u001b[1;32m      2\u001b[0m \u001b[0mamine_df\u001b[0m\u001b[0;34m.\u001b[0m\u001b[0mset_index\u001b[0m\u001b[0;34m(\u001b[0m\u001b[0;34m'index'\u001b[0m\u001b[0;34m)\u001b[0m\u001b[0;34m.\u001b[0m\u001b[0mto_csv\u001b[0m\u001b[0;34m(\u001b[0m\u001b[0;34m'amines_fcp.csv'\u001b[0m\u001b[0;34m)\u001b[0m\u001b[0;34m\u001b[0m\u001b[0;34m\u001b[0m\u001b[0m\n",
      "\u001b[0;31mNameError\u001b[0m: name 'abb_amines_names' is not defined"
     ]
    }
   ],
   "metadata": {}
  },
  {
   "cell_type": "code",
   "execution_count": 32,
   "source": [
    "X = StandardScaler().fit_transform(amine_df)"
   ],
   "outputs": [],
   "metadata": {}
  },
  {
   "cell_type": "code",
   "execution_count": 33,
   "source": [
    "def explore_dbscan(X, range_distance):\n",
    "    clusters_size = np.zeros(range_distance.shape[0])\n",
    "    for num, distance in enumerate(range_distance):\n",
    "        db = DBSCAN(eps=distance, min_samples=1).fit(X)\n",
    "        clusters_size[num] = len(set(db.labels_))\n",
    "    return pd.DataFrame({'distance': range_distance, 'cluster size': clusters_size})\n"
   ],
   "outputs": [],
   "metadata": {}
  },
  {
   "cell_type": "code",
   "execution_count": 34,
   "source": [
    "def plot_scatter(x_column, y_column, x_label, y_label):\n",
    "    ax = sns.scatterplot(x=x_column, y=y_column)\n",
    "    ax.set(xlabel=x_label, ylabel=y_label)\n",
    "    plt.show()"
   ],
   "outputs": [],
   "metadata": {}
  },
  {
   "cell_type": "code",
   "execution_count": 35,
   "source": [
    "explore_dbscan_1_to_11 = explore_dbscan(X, np.arange(1,16,0.5))"
   ],
   "outputs": [],
   "metadata": {}
  },
  {
   "cell_type": "code",
   "execution_count": 36,
   "source": [
    "plot_scatter(explore_dbscan_1_to_11['distance'], explore_dbscan_1_to_11['cluster size'], 'Distancia', 'Cantidad de Cluster')"
   ],
   "outputs": [
    {
     "output_type": "display_data",
     "data": {
      "text/plain": [
       "<Figure size 432x432 with 1 Axes>"
      ],
      "image/png": "[encoded data removed]"
     },
     "metadata": {}
    }
   ],
   "metadata": {}
  },
  {
   "cell_type": "code",
   "execution_count": 37,
   "source": [
    "def dbsc_label(X, distance):\n",
    "    db = DBSCAN(eps=distance, min_samples=1).fit(X)\n",
    "    return db.labels_"
   ],
   "outputs": [],
   "metadata": {}
  },
  {
   "cell_type": "code",
   "execution_count": 42,
   "source": [
    "cluster = dbsc_label(X, 3)\n",
    "cluster"
   ],
   "outputs": [
    {
     "output_type": "execute_result",
     "data": {
      "text/plain": [
       "array([ 0,  0,  1,  2,  0,  0,  3,  4,  0,  5,  0,  0,  5,  0,  5,  6,  5,\n",
       "        5,  5,  7,  5,  5,  8,  9, 10,  5, 11])"
      ]
     },
     "metadata": {},
     "execution_count": 42
    }
   ],
   "metadata": {}
  },
  {
   "cell_type": "code",
   "execution_count": 43,
   "source": [
    "df_amine_with_names['cluster'] = cluster"
   ],
   "outputs": [],
   "metadata": {}
  },
  {
   "cell_type": "code",
   "execution_count": 44,
   "source": [
    "df_amine_with_names.query('cluster == 0')['Chemical Abbreviation']\n"
   ],
   "outputs": [
    {
     "output_type": "execute_result",
     "data": {
      "text/plain": [
       "0       IPentylammoniumIodide\n",
       "1                    n-BuNH3I\n",
       "4       iPropylammoniumIodide\n",
       "5       Diethylammoniumiodide\n",
       "8        iButylammoniumIodide\n",
       "10    neoPentylammoniumIodide\n",
       "11      NPropylammoniumIodide\n",
       "15       tButylammoniumIodide\n",
       "Name: Chemical Abbreviation, dtype: object"
      ]
     },
     "metadata": {},
     "execution_count": 44
    }
   ],
   "metadata": {}
  },
  {
   "cell_type": "code",
   "execution_count": 23,
   "source": [
    "df_amine_with_names.query('cluster == 2')['Chemical Abbreviation']"
   ],
   "outputs": [
    {
     "output_type": "execute_result",
     "data": {
      "text/plain": [
       "3           4methoxyphenethylammoniumiodide\n",
       "9              4MethoxyPhenylammoniumIodide\n",
       "18                     BenzylammoniumIodide\n",
       "22           4FluoroPhenethylammoniumIodide\n",
       "33              4FluoroPhenylammoniumIodide\n",
       "36                     PhenylammoniumIodide\n",
       "53     4TrifluoromethylBenzylammoniumIodide\n",
       "60     4TrifluoromethylPhenylammoniumIodide\n",
       "187                                PhEtNH3I\n",
       "Name: Chemical Abbreviation, dtype: object"
      ]
     },
     "metadata": {},
     "execution_count": 23
    }
   ],
   "metadata": {}
  },
  {
   "cell_type": "code",
   "execution_count": 24,
   "source": [
    "df_amine_with_names.query('cluster == 5')['Chemical Abbreviation']\n"
   ],
   "outputs": [
    {
     "output_type": "execute_result",
     "data": {
      "text/plain": [
       "78    nDodecylammoniumIodide\n",
       "Name: Chemical Abbreviation, dtype: object"
      ]
     },
     "metadata": {},
     "execution_count": 24
    }
   ],
   "metadata": {}
  },
  {
   "cell_type": "code",
   "execution_count": 25,
   "source": [
    "df_amine_with_names.query('cluster == 3')['Chemical Abbreviation']\n"
   ],
   "outputs": [
    {
     "output_type": "execute_result",
     "data": {
      "text/plain": [
       "14    CyclohexylmethylammoniumIodide\n",
       "Name: Chemical Abbreviation, dtype: object"
      ]
     },
     "metadata": {},
     "execution_count": 25
    }
   ],
   "metadata": {}
  },
  {
   "cell_type": "code",
   "execution_count": 26,
   "source": [
    "df_amine_with_names.query('cluster == 1 or cluster >= 3')['Chemical Abbreviation']\n"
   ],
   "outputs": [
    {
     "output_type": "execute_result",
     "data": {
      "text/plain": [
       "2                                   GnNH3I\n",
       "14          CyclohexylmethylammoniumIodide\n",
       "46      NNDiethylpropane13diammoniumiodide\n",
       "78                  nDodecylammoniumIodide\n",
       "109                    FormamidiniumIodide\n",
       "1811                     ImidazoliumIodide\n",
       "Name: Chemical Abbreviation, dtype: object"
      ]
     },
     "metadata": {},
     "execution_count": 26
    }
   ],
   "metadata": {}
  },
  {
   "cell_type": "code",
   "execution_count": 27,
   "source": [
    "chemical_names = utils.read_chemical_info()"
   ],
   "outputs": [],
   "metadata": {}
  },
  {
   "cell_type": "code",
   "execution_count": 28,
   "source": [
    "cluster"
   ],
   "outputs": [
    {
     "output_type": "execute_result",
     "data": {
      "text/plain": [
       "array([0, 0, 1, 2, 0, 0, 0, 0, 0, 2, 0, 0, 3, 0, 2, 0, 2, 2, 2, 4, 2, 2,\n",
       "       0, 5, 6, 2, 7])"
      ]
     },
     "metadata": {},
     "execution_count": 28
    }
   ],
   "metadata": {}
  },
  {
   "cell_type": "markdown",
   "source": [
    "## Clusterization by Amines structural similarities"
   ],
   "metadata": {}
  },
  {
   "cell_type": "code",
   "execution_count": 45,
   "source": [
    "smile_col = 'Canonical SMILES String'\n",
    "amines_smiles = df_amine_with_names[smile_col]"
   ],
   "outputs": [],
   "metadata": {}
  },
  {
   "cell_type": "code",
   "execution_count": 46,
   "source": [
    "abb_amines_names = df_amine_with_names['Chemical Abbreviation'].str.replace('ammoniumIodide', '')\n",
    "abb_amines_names = abb_amines_names.str.replace('ammoniumiodide', '').to_list()"
   ],
   "outputs": [],
   "metadata": {}
  },
  {
   "cell_type": "code",
   "execution_count": 47,
   "source": [
    "\n",
    "def calculate_amine_fingerprint_distance(amines_smiles, amines_names, structure_metric):\n",
    "    \"\"\"\n",
    "        Heatmap for amine similarity by structure distance method.\n",
    "        amines_smiles: vector of amines by SMILE code.\n",
    "        structure_metric: {'Tanimoto', 'Dice', 'BulkTanimoto'}\n",
    "        TODO: Add more DataStructs Similarity Metric.\n",
    "    \"\"\"\n",
    "    metrics={\n",
    "        'Tanimoto': DataStructs.TanimotoSimilarity,\n",
    "        'Dice': DataStructs.DiceSimilarity,\n",
    "        'BulkTanimoto': DataStructs.BulkTanimotoSimilarity\n",
    "    }\n",
    "    \n",
    "    amines_molecules = [Chem.MolFromSmiles(smile) for smile in amines_smiles]\n",
    "    amines_fingerprints = [Chem.RDKFingerprint(x) for x in amines_molecules]\n",
    "    size = len(amines_names)\n",
    "    similarity_array = np.zeros((size,size))\n",
    "\n",
    "    for index1, mole1 in enumerate(amines_fingerprints):\n",
    "        for index2, mole2 in enumerate(amines_fingerprints):\n",
    "            similarity_array[index1,index2] = DataStructs.FingerprintSimilarity(mole1,mole2, metrics[structure_metric])\n",
    "    \n",
    "    return similarity_array"
   ],
   "outputs": [],
   "metadata": {}
  },
  {
   "cell_type": "code",
   "execution_count": 49,
   "source": [
    "#pd.DataFrame(similarity_tanimoto, abb_amines_names).to_csv('similarity_tanimoto.csv')"
   ],
   "outputs": [],
   "metadata": {}
  },
  {
   "cell_type": "code",
   "execution_count": 53,
   "source": [
    "similarity_tanimoto = calculate_amine_fingerprint_distance(amines_smiles, abb_amines_names, 'Tanimoto')\n",
    "plot_heatmap_plotly(similarity_tanimoto, abb_amines_names, 'Similaridad Estructural de Aminas', 'centroid', 'Coff Tanimoto')\n"
   ],
   "outputs": [
    {
     "output_type": "display_data",
     "data": {
      "text/html": [
       "<div>                            <div id=\"5cd193e3-6600-4e9a-85a3-ceb5bcfba900\" class=\"plotly-graph-div\" style=\"height:800px; width:800px;\"></div>            <script type=\"text/javascript\">                require([\"plotly\"], function(Plotly) {                    window.PLOTLYENV=window.PLOTLYENV || {};                                    if (document.getElementById(\"5cd193e3-6600-4e9a-85a3-ceb5bcfba900\")) {                    Plotly.newPlot(                        \"5cd193e3-6600-4e9a-85a3-ceb5bcfba900\",                        [{\"hoverinfo\":\"text\",\"marker\":{\"color\":\"rgb(61,153,112)\"},\"mode\":\"lines\",\"type\":\"scatter\",\"x\":[25.0,25.0,35.0,35.0],\"xaxis\":\"x\",\"y\":[0.0,0.38780956796418764,0.38780956796418764,0.0],\"yaxis\":\"y2\"},{\"hoverinfo\":\"text\",\"marker\":{\"color\":\"rgb(61,153,112)\"},\"mode\":\"lines\",\"type\":\"scatter\",\"x\":[15.0,15.0,30.0,30.0],\"xaxis\":\"x\",\"y\":[0.0,0.984739786387532,0.984739786387532,0.38780956796418764],\"yaxis\":\"y2\"},{\"hoverinfo\":\"text\",\"marker\":{\"color\":\"rgb(255,65,54)\"},\"mode\":\"lines\",\"type\":\"scatter\",\"x\":[45.0,45.0,55.0,55.0],\"xaxis\":\"x\",\"y\":[0.0,0.5466289191743684,0.5466289191743684,0.0],\"yaxis\":\"y2\"},{\"hoverinfo\":\"text\",\"marker\":{\"color\":\"rgb(255,65,54)\"},\"mode\":\"lines\",\"type\":\"scatter\",\"x\":[75.0,75.0,85.0,85.0],\"xaxis\":\"x\",\"y\":[0.0,0.41466681273855827,0.41466681273855827,0.0],\"yaxis\":\"y2\"},{\"hoverinfo\":\"text\",\"marker\":{\"color\":\"rgb(255,65,54)\"},\"mode\":\"lines\",\"type\":\"scatter\",\"x\":[65.0,65.0,80.0,80.0],\"xaxis\":\"x\",\"y\":[0.0,0.6385842025783323,0.6385842025783323,0.41466681273855827],\"yaxis\":\"y2\"},{\"hoverinfo\":\"text\",\"marker\":{\"color\":\"rgb(255,65,54)\"},\"mode\":\"lines\",\"type\":\"scatter\",\"x\":[50.0,50.0,72.5,72.5],\"xaxis\":\"x\",\"y\":[0.5466289191743684,0.6976133598569921,0.6976133598569921,0.6385842025783323],\"yaxis\":\"y2\"},{\"hoverinfo\":\"text\",\"marker\":{\"color\":\"rgb(255,65,54)\"},\"mode\":\"lines\",\"type\":\"scatter\",\"x\":[95.0,95.0,105.0,105.0],\"xaxis\":\"x\",\"y\":[0.0,0.48966041247567665,0.48966041247567665,0.0],\"yaxis\":\"y2\"},{\"hoverinfo\":\"text\",\"marker\":{\"color\":\"rgb(255,65,54)\"},\"mode\":\"lines\",\"type\":\"scatter\",\"x\":[61.25,61.25,100.0,100.0],\"xaxis\":\"x\",\"y\":[0.6976133598569921,0.7722362801574217,0.7722362801574217,0.48966041247567665],\"yaxis\":\"y2\"},{\"hoverinfo\":\"text\",\"marker\":{\"color\":\"rgb(0,116,217)\"},\"mode\":\"lines\",\"type\":\"scatter\",\"x\":[22.5,22.5,80.625,80.625],\"xaxis\":\"x\",\"y\":[0.984739786387532,1.0483680906778832,1.0483680906778832,0.7722362801574217],\"yaxis\":\"y2\"},{\"hoverinfo\":\"text\",\"marker\":{\"color\":\"rgb(255,65,54)\"},\"mode\":\"lines\",\"type\":\"scatter\",\"x\":[115.0,115.0,125.0,125.0],\"xaxis\":\"x\",\"y\":[0.0,0.6162389582803675,0.6162389582803675,0.0],\"yaxis\":\"y2\"},{\"hoverinfo\":\"text\",\"marker\":{\"color\":\"rgb(255,65,54)\"},\"mode\":\"lines\",\"type\":\"scatter\",\"x\":[51.5625,51.5625,120.0,120.0],\"xaxis\":\"x\",\"y\":[1.0483680906778832,1.0387830810801184,1.0387830810801184,0.6162389582803675],\"yaxis\":\"y2\"},{\"hoverinfo\":\"text\",\"marker\":{\"color\":\"rgb(0,116,217)\"},\"mode\":\"lines\",\"type\":\"scatter\",\"x\":[5.0,5.0,85.78125,85.78125],\"xaxis\":\"x\",\"y\":[0.0,1.1222231049951805,1.1222231049951805,1.0387830810801184],\"yaxis\":\"y2\"},{\"hoverinfo\":\"text\",\"marker\":{\"color\":\"rgb(0,116,217)\"},\"mode\":\"lines\",\"type\":\"scatter\",\"x\":[45.390625,45.390625,135.0,135.0],\"xaxis\":\"x\",\"y\":[1.1222231049951805,1.1623349644646408,1.1623349644646408,0.0],\"yaxis\":\"y2\"},{\"hoverinfo\":\"text\",\"marker\":{\"color\":\"rgb(35,205,205)\"},\"mode\":\"lines\",\"type\":\"scatter\",\"x\":[155.0,155.0,165.0,165.0],\"xaxis\":\"x\",\"y\":[0.0,0.5853479416966549,0.5853479416966549,0.0],\"yaxis\":\"y2\"},{\"hoverinfo\":\"text\",\"marker\":{\"color\":\"rgb(0,116,217)\"},\"mode\":\"lines\",\"type\":\"scatter\",\"x\":[145.0,145.0,160.0,160.0],\"xaxis\":\"x\",\"y\":[0.0,1.0729775945157214,1.0729775945157214,0.5853479416966549],\"yaxis\":\"y2\"},{\"hoverinfo\":\"text\",\"marker\":{\"color\":\"rgb(0,116,217)\"},\"mode\":\"lines\",\"type\":\"scatter\",\"x\":[152.5,152.5,175.0,175.0],\"xaxis\":\"x\",\"y\":[1.0729775945157214,1.1809234808670612,1.1809234808670612,0.0],\"yaxis\":\"y2\"},{\"hoverinfo\":\"text\",\"marker\":{\"color\":\"rgb(133,20,75)\"},\"mode\":\"lines\",\"type\":\"scatter\",\"x\":[185.0,185.0,195.0,195.0],\"xaxis\":\"x\",\"y\":[0.0,0.7323664942085689,0.7323664942085689,0.0],\"yaxis\":\"y2\"},{\"hoverinfo\":\"text\",\"marker\":{\"color\":\"rgb(133,20,75)\"},\"mode\":\"lines\",\"type\":\"scatter\",\"x\":[190.0,190.0,205.0,205.0],\"xaxis\":\"x\",\"y\":[0.7323664942085689,0.9689866572146281,0.9689866572146281,0.0],\"yaxis\":\"y2\"},{\"hoverinfo\":\"text\",\"marker\":{\"color\":\"rgb(255,220,0)\"},\"mode\":\"lines\",\"type\":\"scatter\",\"x\":[225.0,225.0,235.0,235.0],\"xaxis\":\"x\",\"y\":[0.0,0.5412069874490151,0.5412069874490151,0.0],\"yaxis\":\"y2\"},{\"hoverinfo\":\"text\",\"marker\":{\"color\":\"rgb(255,220,0)\"},\"mode\":\"lines\",\"type\":\"scatter\",\"x\":[215.0,215.0,230.0,230.0],\"xaxis\":\"x\",\"y\":[0.0,0.8038240766063832,0.8038240766063832,0.5412069874490151],\"yaxis\":\"y2\"},{\"hoverinfo\":\"text\",\"marker\":{\"color\":\"rgb(255,220,0)\"},\"mode\":\"lines\",\"type\":\"scatter\",\"x\":[255.0,255.0,265.0,265.0],\"xaxis\":\"x\",\"y\":[0.0,0.7472015068547558,0.7472015068547558,0.0],\"yaxis\":\"y2\"},{\"hoverinfo\":\"text\",\"marker\":{\"color\":\"rgb(255,220,0)\"},\"mode\":\"lines\",\"type\":\"scatter\",\"x\":[245.0,245.0,260.0,260.0],\"xaxis\":\"x\",\"y\":[0.0,0.9286019212205604,0.9286019212205604,0.7472015068547558],\"yaxis\":\"y2\"},{\"hoverinfo\":\"text\",\"marker\":{\"color\":\"rgb(255,220,0)\"},\"mode\":\"lines\",\"type\":\"scatter\",\"x\":[222.5,222.5,252.5,252.5],\"xaxis\":\"x\",\"y\":[0.8038240766063832,1.0085186606098258,1.0085186606098258,0.9286019212205604],\"yaxis\":\"y2\"},{\"hoverinfo\":\"text\",\"marker\":{\"color\":\"rgb(0,116,217)\"},\"mode\":\"lines\",\"type\":\"scatter\",\"x\":[197.5,197.5,237.5,237.5],\"xaxis\":\"x\",\"y\":[0.9689866572146281,1.0752681199392076,1.0752681199392076,1.0085186606098258],\"yaxis\":\"y2\"},{\"hoverinfo\":\"text\",\"marker\":{\"color\":\"rgb(0,116,217)\"},\"mode\":\"lines\",\"type\":\"scatter\",\"x\":[163.75,163.75,217.5,217.5],\"xaxis\":\"x\",\"y\":[1.1809234808670612,1.307981820976663,1.307981820976663,1.0752681199392076],\"yaxis\":\"y2\"},{\"hoverinfo\":\"text\",\"marker\":{\"color\":\"rgb(0,116,217)\"},\"mode\":\"lines\",\"type\":\"scatter\",\"x\":[90.1953125,90.1953125,190.625,190.625],\"xaxis\":\"x\",\"y\":[1.1623349644646408,1.4848431026580822,1.4848431026580822,1.307981820976663],\"yaxis\":\"y2\"},{\"hoverinfo\":\"text\",\"marker\":{\"color\":\"rgb(61,153,112)\"},\"mode\":\"lines\",\"type\":\"scatter\",\"x\":[-0.0,-0.38780956796418764,-0.38780956796418764,-0.0],\"xaxis\":\"x2\",\"y\":[25.0,25.0,35.0,35.0],\"yaxis\":\"y\"},{\"hoverinfo\":\"text\",\"marker\":{\"color\":\"rgb(61,153,112)\"},\"mode\":\"lines\",\"type\":\"scatter\",\"x\":[-0.0,-0.984739786387532,-0.984739786387532,-0.38780956796418764],\"xaxis\":\"x2\",\"y\":[15.0,15.0,30.0,30.0],\"yaxis\":\"y\"},{\"hoverinfo\":\"text\",\"marker\":{\"color\":\"rgb(255,65,54)\"},\"mode\":\"lines\",\"type\":\"scatter\",\"x\":[-0.0,-0.5466289191743684,-0.5466289191743684,-0.0],\"xaxis\":\"x2\",\"y\":[45.0,45.0,55.0,55.0],\"yaxis\":\"y\"},{\"hoverinfo\":\"text\",\"marker\":{\"color\":\"rgb(255,65,54)\"},\"mode\":\"lines\",\"type\":\"scatter\",\"x\":[-0.0,-0.41466681273855827,-0.41466681273855827,-0.0],\"xaxis\":\"x2\",\"y\":[75.0,75.0,85.0,85.0],\"yaxis\":\"y\"},{\"hoverinfo\":\"text\",\"marker\":{\"color\":\"rgb(255,65,54)\"},\"mode\":\"lines\",\"type\":\"scatter\",\"x\":[-0.0,-0.6385842025783323,-0.6385842025783323,-0.41466681273855827],\"xaxis\":\"x2\",\"y\":[65.0,65.0,80.0,80.0],\"yaxis\":\"y\"},{\"hoverinfo\":\"text\",\"marker\":{\"color\":\"rgb(255,65,54)\"},\"mode\":\"lines\",\"type\":\"scatter\",\"x\":[-0.5466289191743684,-0.6976133598569921,-0.6976133598569921,-0.6385842025783323],\"xaxis\":\"x2\",\"y\":[50.0,50.0,72.5,72.5],\"yaxis\":\"y\"},{\"hoverinfo\":\"text\",\"marker\":{\"color\":\"rgb(255,65,54)\"},\"mode\":\"lines\",\"type\":\"scatter\",\"x\":[-0.0,-0.48966041247567665,-0.48966041247567665,-0.0],\"xaxis\":\"x2\",\"y\":[95.0,95.0,105.0,105.0],\"yaxis\":\"y\"},{\"hoverinfo\":\"text\",\"marker\":{\"color\":\"rgb(255,65,54)\"},\"mode\":\"lines\",\"type\":\"scatter\",\"x\":[-0.6976133598569921,-0.7722362801574217,-0.7722362801574217,-0.48966041247567665],\"xaxis\":\"x2\",\"y\":[61.25,61.25,100.0,100.0],\"yaxis\":\"y\"},{\"hoverinfo\":\"text\",\"marker\":{\"color\":\"rgb(0,116,217)\"},\"mode\":\"lines\",\"type\":\"scatter\",\"x\":[-0.984739786387532,-1.0483680906778832,-1.0483680906778832,-0.7722362801574217],\"xaxis\":\"x2\",\"y\":[22.5,22.5,80.625,80.625],\"yaxis\":\"y\"},{\"hoverinfo\":\"text\",\"marker\":{\"color\":\"rgb(255,65,54)\"},\"mode\":\"lines\",\"type\":\"scatter\",\"x\":[-0.0,-0.6162389582803675,-0.6162389582803675,-0.0],\"xaxis\":\"x2\",\"y\":[115.0,115.0,125.0,125.0],\"yaxis\":\"y\"},{\"hoverinfo\":\"text\",\"marker\":{\"color\":\"rgb(255,65,54)\"},\"mode\":\"lines\",\"type\":\"scatter\",\"x\":[-1.0483680906778832,-1.0387830810801184,-1.0387830810801184,-0.6162389582803675],\"xaxis\":\"x2\",\"y\":[51.5625,51.5625,120.0,120.0],\"yaxis\":\"y\"},{\"hoverinfo\":\"text\",\"marker\":{\"color\":\"rgb(0,116,217)\"},\"mode\":\"lines\",\"type\":\"scatter\",\"x\":[-0.0,-1.1222231049951805,-1.1222231049951805,-1.0387830810801184],\"xaxis\":\"x2\",\"y\":[5.0,5.0,85.78125,85.78125],\"yaxis\":\"y\"},{\"hoverinfo\":\"text\",\"marker\":{\"color\":\"rgb(0,116,217)\"},\"mode\":\"lines\",\"type\":\"scatter\",\"x\":[-1.1222231049951805,-1.1623349644646408,-1.1623349644646408,-0.0],\"xaxis\":\"x2\",\"y\":[45.390625,45.390625,135.0,135.0],\"yaxis\":\"y\"},{\"hoverinfo\":\"text\",\"marker\":{\"color\":\"rgb(35,205,205)\"},\"mode\":\"lines\",\"type\":\"scatter\",\"x\":[-0.0,-0.5853479416966549,-0.5853479416966549,-0.0],\"xaxis\":\"x2\",\"y\":[155.0,155.0,165.0,165.0],\"yaxis\":\"y\"},{\"hoverinfo\":\"text\",\"marker\":{\"color\":\"rgb(0,116,217)\"},\"mode\":\"lines\",\"type\":\"scatter\",\"x\":[-0.0,-1.0729775945157214,-1.0729775945157214,-0.5853479416966549],\"xaxis\":\"x2\",\"y\":[145.0,145.0,160.0,160.0],\"yaxis\":\"y\"},{\"hoverinfo\":\"text\",\"marker\":{\"color\":\"rgb(0,116,217)\"},\"mode\":\"lines\",\"type\":\"scatter\",\"x\":[-1.0729775945157214,-1.1809234808670612,-1.1809234808670612,-0.0],\"xaxis\":\"x2\",\"y\":[152.5,152.5,175.0,175.0],\"yaxis\":\"y\"},{\"hoverinfo\":\"text\",\"marker\":{\"color\":\"rgb(133,20,75)\"},\"mode\":\"lines\",\"type\":\"scatter\",\"x\":[-0.0,-0.7323664942085689,-0.7323664942085689,-0.0],\"xaxis\":\"x2\",\"y\":[185.0,185.0,195.0,195.0],\"yaxis\":\"y\"},{\"hoverinfo\":\"text\",\"marker\":{\"color\":\"rgb(133,20,75)\"},\"mode\":\"lines\",\"type\":\"scatter\",\"x\":[-0.7323664942085689,-0.9689866572146281,-0.9689866572146281,-0.0],\"xaxis\":\"x2\",\"y\":[190.0,190.0,205.0,205.0],\"yaxis\":\"y\"},{\"hoverinfo\":\"text\",\"marker\":{\"color\":\"rgb(255,220,0)\"},\"mode\":\"lines\",\"type\":\"scatter\",\"x\":[-0.0,-0.5412069874490151,-0.5412069874490151,-0.0],\"xaxis\":\"x2\",\"y\":[225.0,225.0,235.0,235.0],\"yaxis\":\"y\"},{\"hoverinfo\":\"text\",\"marker\":{\"color\":\"rgb(255,220,0)\"},\"mode\":\"lines\",\"type\":\"scatter\",\"x\":[-0.0,-0.8038240766063832,-0.8038240766063832,-0.5412069874490151],\"xaxis\":\"x2\",\"y\":[215.0,215.0,230.0,230.0],\"yaxis\":\"y\"},{\"hoverinfo\":\"text\",\"marker\":{\"color\":\"rgb(255,220,0)\"},\"mode\":\"lines\",\"type\":\"scatter\",\"x\":[-0.0,-0.7472015068547558,-0.7472015068547558,-0.0],\"xaxis\":\"x2\",\"y\":[255.0,255.0,265.0,265.0],\"yaxis\":\"y\"},{\"hoverinfo\":\"text\",\"marker\":{\"color\":\"rgb(255,220,0)\"},\"mode\":\"lines\",\"type\":\"scatter\",\"x\":[-0.0,-0.9286019212205604,-0.9286019212205604,-0.7472015068547558],\"xaxis\":\"x2\",\"y\":[245.0,245.0,260.0,260.0],\"yaxis\":\"y\"},{\"hoverinfo\":\"text\",\"marker\":{\"color\":\"rgb(255,220,0)\"},\"mode\":\"lines\",\"type\":\"scatter\",\"x\":[-0.8038240766063832,-1.0085186606098258,-1.0085186606098258,-0.9286019212205604],\"xaxis\":\"x2\",\"y\":[222.5,222.5,252.5,252.5],\"yaxis\":\"y\"},{\"hoverinfo\":\"text\",\"marker\":{\"color\":\"rgb(0,116,217)\"},\"mode\":\"lines\",\"type\":\"scatter\",\"x\":[-0.9689866572146281,-1.0752681199392076,-1.0752681199392076,-1.0085186606098258],\"xaxis\":\"x2\",\"y\":[197.5,197.5,237.5,237.5],\"yaxis\":\"y\"},{\"hoverinfo\":\"text\",\"marker\":{\"color\":\"rgb(0,116,217)\"},\"mode\":\"lines\",\"type\":\"scatter\",\"x\":[-1.1809234808670612,-1.307981820976663,-1.307981820976663,-1.0752681199392076],\"xaxis\":\"x2\",\"y\":[163.75,163.75,217.5,217.5],\"yaxis\":\"y\"},{\"hoverinfo\":\"text\",\"marker\":{\"color\":\"rgb(0,116,217)\"},\"mode\":\"lines\",\"type\":\"scatter\",\"x\":[-1.1623349644646408,-1.4848431026580822,-1.4848431026580822,-1.307981820976663],\"xaxis\":\"x2\",\"y\":[90.1953125,90.1953125,190.625,190.625],\"yaxis\":\"y\"},{\"colorbar\":{\"title\":{\"text\":\"Coff Tanimoto\"}},\"type\":\"heatmap\",\"x\":[5.0,15.0,25.0,35.0,45.0,55.0,65.0,75.0,85.0,95.0,105.0,115.0,125.0,135.0,145.0,155.0,165.0,175.0,185.0,195.0,205.0,215.0,225.0,235.0,245.0,255.0,265.0],\"y\":[5.0,15.0,25.0,35.0,45.0,55.0,65.0,75.0,85.0,95.0,105.0,115.0,125.0,135.0,145.0,155.0,165.0,175.0,185.0,195.0,205.0,215.0,225.0,235.0,245.0,255.0,265.0],\"z\":[[1.0,0.2558139534883721,0.24242424242424243,0.26666666666666666,0.37037037037037035,0.25925925925925924,0.18518518518518517,0.21428571428571427,0.2413793103448276,0.25925925925925924,0.18518518518518517,0.15384615384615385,0.11864406779661017,0.13953488372093023,0.037037037037037035,0.034482758620689655,0.03225806451612903,0.022988505747126436,0.0,0.0,0.0,0.038834951456310676,0.05384615384615385,0.046242774566473986,0.017543859649122806,0.02072538860103627,0.0106951871657754],[0.2558139534883721,1.0,0.4642857142857143,0.4074074074074074,0.32142857142857145,0.25925925925925924,0.18518518518518517,0.25925925925925924,0.2413793103448276,0.1724137931034483,0.14285714285714285,0.11940298507462686,0.1,0.11363636363636363,0.037037037037037035,0.034482758620689655,0.03225806451612903,0.03488372093023256,0.015625,0.022222222222222223,0.012578616352201259,0.04390243902439024,0.05384615384615385,0.046242774566473986,0.017543859649122806,0.031413612565445025,0.02717391304347826],[0.24242424242424243,0.4642857142857143,1.0,0.7857142857142857,0.4117647058823529,0.5,0.35714285714285715,0.3125,0.2777777777777778,0.23529411764705882,0.26666666666666666,0.1951219512195122,0.17647058823529413,0.16129032258064516,0.07142857142857142,0.0625,0.05555555555555555,0.03278688524590164,0.009708737864077669,0.015384615384615385,0.007462686567164179,0.03296703296703297,0.05714285714285714,0.0472972972972973,0.022727272727272728,0.023952095808383235,0.012422360248447204],[0.26666666666666666,0.4074074074074074,0.7857142857142857,1.0,0.5,0.6363636363636364,0.45454545454545453,0.38461538461538464,0.3333333333333333,0.2857142857142857,0.3333333333333333,0.22857142857142856,0.21428571428571427,0.17857142857142858,0.09090909090909091,0.07692307692307693,0.06666666666666667,0.03636363636363636,0.010309278350515464,0.01694915254237288,0.0078125,0.03409090909090909,0.06060606060606061,0.04929577464788732,0.024390243902439025,0.024844720496894408,0.012903225806451613],[0.37037037037037035,0.32142857142857145,0.4117647058823529,0.5,1.0,0.7,0.5,0.5454545454545454,0.46153846153846156,0.4166666666666667,0.36363636363636365,0.24242424242424243,0.23076923076923078,0.18518518518518517,0.1,0.08333333333333333,0.07142857142857142,0.03773584905660377,0.0,0.0,0.0,0.034482758620689655,0.061855670103092786,0.05,0.025,0.01875,0.006493506493506494],[0.25925925925925924,0.25925925925925924,0.5,0.6363636363636364,0.7,1.0,0.7142857142857143,0.5555555555555556,0.45454545454545453,0.4,0.5,0.2962962962962963,0.3,0.20833333333333334,0.14285714285714285,0.1111111111111111,0.09090909090909091,0.0425531914893617,0.0,0.0,0.0,0.03571428571428571,0.06593406593406594,0.05223880597014925,0.02702702702702703,0.01948051948051948,0.006756756756756757],[0.18518518518518517,0.18518518518518517,0.35714285714285715,0.45454545454545453,0.5,0.7142857142857143,1.0,0.7142857142857143,0.5555555555555556,0.5,0.6666666666666666,0.34782608695652173,0.375,0.22727272727272727,0.2,0.14285714285714285,0.1111111111111111,0.046511627906976744,0.0,0.0,0.0,0.036585365853658534,0.06896551724137931,0.04580152671755725,0.02857142857142857,0.02,0.006944444444444444],[0.21428571428571427,0.25925925925925924,0.3125,0.38461538461538464,0.5454545454545454,0.5555555555555556,0.7142857142857143,1.0,0.7777777777777778,0.5555555555555556,0.5,0.2962962962962963,0.3,0.20833333333333334,0.14285714285714285,0.1111111111111111,0.09090909090909091,0.0425531914893617,0.0,0.0,0.0,0.03571428571428571,0.06593406593406594,0.044444444444444446,0.02702702702702703,0.01948051948051948,0.006756756756756757],[0.2413793103448276,0.2413793103448276,0.2777777777777778,0.3333333333333333,0.46153846153846156,0.45454545454545453,0.5555555555555556,0.7777777777777778,1.0,0.45454545454545453,0.4,0.25806451612903225,0.25,0.21568627450980393,0.1111111111111111,0.09090909090909091,0.07692307692307693,0.0392156862745098,0.0,0.0,0.0,0.03488372093023256,0.06315789473684211,0.04316546762589928,0.02564102564102564,0.0189873417721519,0.006578947368421052],[0.25925925925925924,0.1724137931034483,0.23529411764705882,0.2857142857142857,0.4166666666666667,0.4,0.5,0.5555555555555556,0.45454545454545453,1.0,0.7142857142857143,0.4,0.3684210526315789,0.20833333333333334,0.14285714285714285,0.1111111111111111,0.09090909090909091,0.0425531914893617,0.0,0.0,0.0,0.03571428571428571,0.06593406593406594,0.044444444444444446,0.02702702702702703,0.01948051948051948,0.006756756756756757],[0.18518518518518517,0.14285714285714285,0.26666666666666666,0.3333333333333333,0.36363636363636365,0.5,0.6666666666666666,0.5,0.4,0.7142857142857143,1.0,0.47619047619047616,0.4666666666666667,0.2,0.2,0.14285714285714285,0.1111111111111111,0.046511627906976744,0.0,0.0,0.0,0.036585365853658534,0.06896551724137931,0.04580152671755725,0.02857142857142857,0.02,0.006944444444444444],[0.15384615384615385,0.11940298507462686,0.1951219512195122,0.22857142857142856,0.24242424242424243,0.2962962962962963,0.34782608695652173,0.2962962962962963,0.25806451612903225,0.4,0.47619047619047616,1.0,0.5714285714285714,0.27450980392156865,0.09523809523809523,0.08,0.06896551724137931,0.09803921568627451,0.0,0.0,0.0,0.040229885057471264,0.061224489795918366,0.04225352112676056,0.024691358024691357,0.018633540372670808,0.012987012987012988],[0.11864406779661017,0.1,0.17647058823529413,0.21428571428571427,0.23076923076923078,0.3,0.375,0.3,0.25,0.3684210526315789,0.4666666666666667,0.5714285714285714,1.0,0.2727272727272727,0.16666666666666666,0.125,0.1,0.09302325581395349,0.0,0.0,0.0,0.04242424242424243,0.06741573033707865,0.045112781954887216,0.027777777777777776,0.019736842105263157,0.013793103448275862],[0.13953488372093023,0.11363636363636363,0.16129032258064516,0.17857142857142858,0.18518518518518517,0.20833333333333334,0.22727272727272727,0.20833333333333334,0.21568627450980393,0.20833333333333334,0.2,0.27450980392156865,0.2727272727272727,1.0,0.045454545454545456,0.041666666666666664,0.038461538461538464,0.05333333333333334,0.02564102564102564,0.012345679012345678,0.013422818791946308,0.03553299492385787,0.049586776859504134,0.042682926829268296,0.019230769230769232,0.027472527472527472,0.028735632183908046],[0.037037037037037035,0.037037037037037035,0.07142857142857142,0.09090909090909091,0.1,0.14285714285714285,0.2,0.14285714285714285,0.1111111111111111,0.14285714285714285,0.2,0.09523809523809523,0.16666666666666666,0.045454545454545456,1.0,0.3333333333333333,0.2,0.05714285714285714,0.0,0.0,0.0,0.0125,0.024096385542168676,0.015748031496062992,0.03225806451612903,0.013986013986013986,0.007352941176470588],[0.034482758620689655,0.034482758620689655,0.0625,0.07692307692307693,0.08333333333333333,0.1111111111111111,0.14285714285714285,0.1111111111111111,0.09090909090909091,0.1111111111111111,0.14285714285714285,0.08,0.125,0.041666666666666664,0.3333333333333333,1.0,0.6,0.17142857142857143,0.0,0.0,0.0,0.012195121951219513,0.022988505747126436,0.015267175572519083,0.030303030303030304,0.013605442176870748,0.007142857142857143],[0.03225806451612903,0.03225806451612903,0.05555555555555555,0.06666666666666667,0.07142857142857142,0.09090909090909091,0.1111111111111111,0.09090909090909091,0.07692307692307693,0.09090909090909091,0.1111111111111111,0.06896551724137931,0.1,0.038461538461538464,0.2,0.6,1.0,0.18421052631578946,0.011764705882352941,0.0,0.0,0.011904761904761904,0.02197802197802198,0.022388059701492536,0.02857142857142857,0.013245033112582781,0.006944444444444444],[0.022988505747126436,0.03488372093023256,0.03278688524590164,0.03636363636363636,0.03773584905660377,0.0425531914893617,0.046511627906976744,0.0425531914893617,0.0392156862745098,0.0425531914893617,0.046511627906976744,0.09803921568627451,0.09302325581395349,0.05333333333333334,0.05714285714285714,0.17142857142857143,0.18421052631578946,1.0,0.00909090909090909,0.013888888888888888,0.014285714285714285,0.015625,0.017241379310344827,0.018867924528301886,0.021052631578947368,0.017142857142857144,0.017964071856287425],[0.0,0.015625,0.009708737864077669,0.010309278350515464,0.0,0.0,0.0,0.0,0.0,0.0,0.0,0.0,0.0,0.02564102564102564,0.0,0.0,0.011764705882352941,0.00909090909090909,1.0,0.5,0.2708333333333333,0.0776255707762557,0.11188811188811189,0.25308641975308643,0.11290322580645161,0.07881773399014778,0.22674418604651161],[0.0,0.022222222222222223,0.015384615384615385,0.01694915254237288,0.0,0.0,0.0,0.0,0.0,0.0,0.0,0.0,0.0,0.012345679012345678,0.0,0.0,0.0,0.013888888888888888,0.5,1.0,0.35514018691588783,0.08196721311475409,0.14150943396226415,0.1,0.14942528735632185,0.09036144578313253,0.2814814814814815],[0.0,0.012578616352201259,0.007462686567164179,0.0078125,0.0,0.0,0.0,0.0,0.0,0.0,0.0,0.0,0.0,0.013422818791946308,0.0,0.0,0.0,0.014285714285714285,0.2708333333333333,0.35514018691588783,1.0,0.3417085427135678,0.09826589595375723,0.08333333333333333,0.09032258064516129,0.09170305676855896,0.21608040201005024],[0.038834951456310676,0.04390243902439024,0.03296703296703297,0.03409090909090909,0.034482758620689655,0.03571428571428571,0.036585365853658534,0.03571428571428571,0.03488372093023256,0.03571428571428571,0.036585365853658534,0.040229885057471264,0.04242424242424243,0.03553299492385787,0.0125,0.012195121951219513,0.011904761904761904,0.015625,0.0776255707762557,0.08196721311475409,0.3417085427135678,1.0,0.51875,0.41379310344827586,0.23333333333333334,0.1976284584980237,0.1752988047808765],[0.05384615384615385,0.05384615384615385,0.05714285714285714,0.06060606060606061,0.061855670103092786,0.06593406593406594,0.06896551724137931,0.06593406593406594,0.06315789473684211,0.06593406593406594,0.06896551724137931,0.061224489795918366,0.06741573033707865,0.049586776859504134,0.024096385542168676,0.022988505747126436,0.02197802197802198,0.017241379310344827,0.11188811188811189,0.14150943396226415,0.09826589595375723,0.51875,1.0,0.6535433070866141,0.4077669902912621,0.24861878453038674,0.2247191011235955],[0.046242774566473986,0.046242774566473986,0.0472972972972973,0.04929577464788732,0.05,0.05223880597014925,0.04580152671755725,0.044444444444444446,0.04316546762589928,0.044444444444444446,0.04580152671755725,0.04225352112676056,0.045112781954887216,0.042682926829268296,0.015748031496062992,0.015267175572519083,0.022388059701492536,0.018867924528301886,0.25308641975308643,0.1,0.08333333333333333,0.41379310344827586,0.6535433070866141,1.0,0.2945205479452055,0.20535714285714285,0.19090909090909092],[0.017543859649122806,0.017543859649122806,0.022727272727272728,0.024390243902439025,0.025,0.02702702702702703,0.02857142857142857,0.02702702702702703,0.02564102564102564,0.02702702702702703,0.02857142857142857,0.024691358024691357,0.027777777777777776,0.019230769230769232,0.03225806451612903,0.030303030303030304,0.02857142857142857,0.021052631578947368,0.11290322580645161,0.14942528735632185,0.09032258064516129,0.23333333333333334,0.4077669902912621,0.2945205479452055,1.0,0.43356643356643354,0.2468354430379747],[0.02072538860103627,0.031413612565445025,0.023952095808383235,0.024844720496894408,0.01875,0.01948051948051948,0.02,0.01948051948051948,0.0189873417721519,0.01948051948051948,0.02,0.018633540372670808,0.019736842105263157,0.027472527472527472,0.013986013986013986,0.013605442176870748,0.013245033112582781,0.017142857142857144,0.07881773399014778,0.09036144578313253,0.09170305676855896,0.1976284584980237,0.24861878453038674,0.20535714285714285,0.43356643356643354,1.0,0.5274725274725275],[0.0106951871657754,0.02717391304347826,0.012422360248447204,0.012903225806451613,0.006493506493506494,0.006756756756756757,0.006944444444444444,0.006756756756756757,0.006578947368421052,0.006756756756756757,0.006944444444444444,0.012987012987012988,0.013793103448275862,0.028735632183908046,0.007352941176470588,0.007142857142857143,0.006944444444444444,0.017964071856287425,0.22674418604651161,0.2814814814814815,0.21608040201005024,0.1752988047808765,0.2247191011235955,0.19090909090909092,0.2468354430379747,0.5274725274725275,1.0]]}],                        {\"autosize\":false,\"height\":800,\"hovermode\":\"closest\",\"showlegend\":false,\"template\":{\"data\":{\"bar\":[{\"error_x\":{\"color\":\"#2a3f5f\"},\"error_y\":{\"color\":\"#2a3f5f\"},\"marker\":{\"line\":{\"color\":\"#E5ECF6\",\"width\":0.5},\"pattern\":{\"fillmode\":\"overlay\",\"size\":10,\"solidity\":0.2}},\"type\":\"bar\"}],\"barpolar\":[{\"marker\":{\"line\":{\"color\":\"#E5ECF6\",\"width\":0.5},\"pattern\":{\"fillmode\":\"overlay\",\"size\":10,\"solidity\":0.2}},\"type\":\"barpolar\"}],\"carpet\":[{\"aaxis\":{\"endlinecolor\":\"#2a3f5f\",\"gridcolor\":\"white\",\"linecolor\":\"white\",\"minorgridcolor\":\"white\",\"startlinecolor\":\"#2a3f5f\"},\"baxis\":{\"endlinecolor\":\"#2a3f5f\",\"gridcolor\":\"white\",\"linecolor\":\"white\",\"minorgridcolor\":\"white\",\"startlinecolor\":\"#2a3f5f\"},\"type\":\"carpet\"}],\"choropleth\":[{\"colorbar\":{\"outlinewidth\":0,\"ticks\":\"\"},\"type\":\"choropleth\"}],\"contour\":[{\"colorbar\":{\"outlinewidth\":0,\"ticks\":\"\"},\"colorscale\":[[0.0,\"#0d0887\"],[0.1111111111111111,\"#46039f\"],[0.2222222222222222,\"#7201a8\"],[0.3333333333333333,\"#9c179e\"],[0.4444444444444444,\"#bd3786\"],[0.5555555555555556,\"#d8576b\"],[0.6666666666666666,\"#ed7953\"],[0.7777777777777778,\"#fb9f3a\"],[0.8888888888888888,\"#fdca26\"],[1.0,\"#f0f921\"]],\"type\":\"contour\"}],\"contourcarpet\":[{\"colorbar\":{\"outlinewidth\":0,\"ticks\":\"\"},\"type\":\"contourcarpet\"}],\"heatmap\":[{\"colorbar\":{\"outlinewidth\":0,\"ticks\":\"\"},\"colorscale\":[[0.0,\"#0d0887\"],[0.1111111111111111,\"#46039f\"],[0.2222222222222222,\"#7201a8\"],[0.3333333333333333,\"#9c179e\"],[0.4444444444444444,\"#bd3786\"],[0.5555555555555556,\"#d8576b\"],[0.6666666666666666,\"#ed7953\"],[0.7777777777777778,\"#fb9f3a\"],[0.8888888888888888,\"#fdca26\"],[1.0,\"#f0f921\"]],\"type\":\"heatmap\"}],\"heatmapgl\":[{\"colorbar\":{\"outlinewidth\":0,\"ticks\":\"\"},\"colorscale\":[[0.0,\"#0d0887\"],[0.1111111111111111,\"#46039f\"],[0.2222222222222222,\"#7201a8\"],[0.3333333333333333,\"#9c179e\"],[0.4444444444444444,\"#bd3786\"],[0.5555555555555556,\"#d8576b\"],[0.6666666666666666,\"#ed7953\"],[0.7777777777777778,\"#fb9f3a\"],[0.8888888888888888,\"#fdca26\"],[1.0,\"#f0f921\"]],\"type\":\"heatmapgl\"}],\"histogram\":[{\"marker\":{\"pattern\":{\"fillmode\":\"overlay\",\"size\":10,\"solidity\":0.2}},\"type\":\"histogram\"}],\"histogram2d\":[{\"colorbar\":{\"outlinewidth\":0,\"ticks\":\"\"},\"colorscale\":[[0.0,\"#0d0887\"],[0.1111111111111111,\"#46039f\"],[0.2222222222222222,\"#7201a8\"],[0.3333333333333333,\"#9c179e\"],[0.4444444444444444,\"#bd3786\"],[0.5555555555555556,\"#d8576b\"],[0.6666666666666666,\"#ed7953\"],[0.7777777777777778,\"#fb9f3a\"],[0.8888888888888888,\"#fdca26\"],[1.0,\"#f0f921\"]],\"type\":\"histogram2d\"}],\"histogram2dcontour\":[{\"colorbar\":{\"outlinewidth\":0,\"ticks\":\"\"},\"colorscale\":[[0.0,\"#0d0887\"],[0.1111111111111111,\"#46039f\"],[0.2222222222222222,\"#7201a8\"],[0.3333333333333333,\"#9c179e\"],[0.4444444444444444,\"#bd3786\"],[0.5555555555555556,\"#d8576b\"],[0.6666666666666666,\"#ed7953\"],[0.7777777777777778,\"#fb9f3a\"],[0.8888888888888888,\"#fdca26\"],[1.0,\"#f0f921\"]],\"type\":\"histogram2dcontour\"}],\"mesh3d\":[{\"colorbar\":{\"outlinewidth\":0,\"ticks\":\"\"},\"type\":\"mesh3d\"}],\"parcoords\":[{\"line\":{\"colorbar\":{\"outlinewidth\":0,\"ticks\":\"\"}},\"type\":\"parcoords\"}],\"pie\":[{\"automargin\":true,\"type\":\"pie\"}],\"scatter\":[{\"marker\":{\"colorbar\":{\"outlinewidth\":0,\"ticks\":\"\"}},\"type\":\"scatter\"}],\"scatter3d\":[{\"line\":{\"colorbar\":{\"outlinewidth\":0,\"ticks\":\"\"}},\"marker\":{\"colorbar\":{\"outlinewidth\":0,\"ticks\":\"\"}},\"type\":\"scatter3d\"}],\"scattercarpet\":[{\"marker\":{\"colorbar\":{\"outlinewidth\":0,\"ticks\":\"\"}},\"type\":\"scattercarpet\"}],\"scattergeo\":[{\"marker\":{\"colorbar\":{\"outlinewidth\":0,\"ticks\":\"\"}},\"type\":\"scattergeo\"}],\"scattergl\":[{\"marker\":{\"colorbar\":{\"outlinewidth\":0,\"ticks\":\"\"}},\"type\":\"scattergl\"}],\"scattermapbox\":[{\"marker\":{\"colorbar\":{\"outlinewidth\":0,\"ticks\":\"\"}},\"type\":\"scattermapbox\"}],\"scatterpolar\":[{\"marker\":{\"colorbar\":{\"outlinewidth\":0,\"ticks\":\"\"}},\"type\":\"scatterpolar\"}],\"scatterpolargl\":[{\"marker\":{\"colorbar\":{\"outlinewidth\":0,\"ticks\":\"\"}},\"type\":\"scatterpolargl\"}],\"scatterternary\":[{\"marker\":{\"colorbar\":{\"outlinewidth\":0,\"ticks\":\"\"}},\"type\":\"scatterternary\"}],\"surface\":[{\"colorbar\":{\"outlinewidth\":0,\"ticks\":\"\"},\"colorscale\":[[0.0,\"#0d0887\"],[0.1111111111111111,\"#46039f\"],[0.2222222222222222,\"#7201a8\"],[0.3333333333333333,\"#9c179e\"],[0.4444444444444444,\"#bd3786\"],[0.5555555555555556,\"#d8576b\"],[0.6666666666666666,\"#ed7953\"],[0.7777777777777778,\"#fb9f3a\"],[0.8888888888888888,\"#fdca26\"],[1.0,\"#f0f921\"]],\"type\":\"surface\"}],\"table\":[{\"cells\":{\"fill\":{\"color\":\"#EBF0F8\"},\"line\":{\"color\":\"white\"}},\"header\":{\"fill\":{\"color\":\"#C8D4E3\"},\"line\":{\"color\":\"white\"}},\"type\":\"table\"}]},\"layout\":{\"annotationdefaults\":{\"arrowcolor\":\"#2a3f5f\",\"arrowhead\":0,\"arrowwidth\":1},\"autotypenumbers\":\"strict\",\"coloraxis\":{\"colorbar\":{\"outlinewidth\":0,\"ticks\":\"\"}},\"colorscale\":{\"diverging\":[[0,\"#8e0152\"],[0.1,\"#c51b7d\"],[0.2,\"#de77ae\"],[0.3,\"#f1b6da\"],[0.4,\"#fde0ef\"],[0.5,\"#f7f7f7\"],[0.6,\"#e6f5d0\"],[0.7,\"#b8e186\"],[0.8,\"#7fbc41\"],[0.9,\"#4d9221\"],[1,\"#276419\"]],\"sequential\":[[0.0,\"#0d0887\"],[0.1111111111111111,\"#46039f\"],[0.2222222222222222,\"#7201a8\"],[0.3333333333333333,\"#9c179e\"],[0.4444444444444444,\"#bd3786\"],[0.5555555555555556,\"#d8576b\"],[0.6666666666666666,\"#ed7953\"],[0.7777777777777778,\"#fb9f3a\"],[0.8888888888888888,\"#fdca26\"],[1.0,\"#f0f921\"]],\"sequentialminus\":[[0.0,\"#0d0887\"],[0.1111111111111111,\"#46039f\"],[0.2222222222222222,\"#7201a8\"],[0.3333333333333333,\"#9c179e\"],[0.4444444444444444,\"#bd3786\"],[0.5555555555555556,\"#d8576b\"],[0.6666666666666666,\"#ed7953\"],[0.7777777777777778,\"#fb9f3a\"],[0.8888888888888888,\"#fdca26\"],[1.0,\"#f0f921\"]]},\"colorway\":[\"#636efa\",\"#EF553B\",\"#00cc96\",\"#ab63fa\",\"#FFA15A\",\"#19d3f3\",\"#FF6692\",\"#B6E880\",\"#FF97FF\",\"#FECB52\"],\"font\":{\"color\":\"#2a3f5f\"},\"geo\":{\"bgcolor\":\"white\",\"lakecolor\":\"white\",\"landcolor\":\"#E5ECF6\",\"showlakes\":true,\"showland\":true,\"subunitcolor\":\"white\"},\"hoverlabel\":{\"align\":\"left\"},\"hovermode\":\"closest\",\"mapbox\":{\"style\":\"light\"},\"paper_bgcolor\":\"white\",\"plot_bgcolor\":\"#E5ECF6\",\"polar\":{\"angularaxis\":{\"gridcolor\":\"white\",\"linecolor\":\"white\",\"ticks\":\"\"},\"bgcolor\":\"#E5ECF6\",\"radialaxis\":{\"gridcolor\":\"white\",\"linecolor\":\"white\",\"ticks\":\"\"}},\"scene\":{\"xaxis\":{\"backgroundcolor\":\"#E5ECF6\",\"gridcolor\":\"white\",\"gridwidth\":2,\"linecolor\":\"white\",\"showbackground\":true,\"ticks\":\"\",\"zerolinecolor\":\"white\"},\"yaxis\":{\"backgroundcolor\":\"#E5ECF6\",\"gridcolor\":\"white\",\"gridwidth\":2,\"linecolor\":\"white\",\"showbackground\":true,\"ticks\":\"\",\"zerolinecolor\":\"white\"},\"zaxis\":{\"backgroundcolor\":\"#E5ECF6\",\"gridcolor\":\"white\",\"gridwidth\":2,\"linecolor\":\"white\",\"showbackground\":true,\"ticks\":\"\",\"zerolinecolor\":\"white\"}},\"shapedefaults\":{\"line\":{\"color\":\"#2a3f5f\"}},\"ternary\":{\"aaxis\":{\"gridcolor\":\"white\",\"linecolor\":\"white\",\"ticks\":\"\"},\"baxis\":{\"gridcolor\":\"white\",\"linecolor\":\"white\",\"ticks\":\"\"},\"bgcolor\":\"#E5ECF6\",\"caxis\":{\"gridcolor\":\"white\",\"linecolor\":\"white\",\"ticks\":\"\"}},\"title\":{\"x\":0.05},\"xaxis\":{\"automargin\":true,\"gridcolor\":\"white\",\"linecolor\":\"white\",\"ticks\":\"\",\"title\":{\"standoff\":15},\"zerolinecolor\":\"white\",\"zerolinewidth\":2},\"yaxis\":{\"automargin\":true,\"gridcolor\":\"white\",\"linecolor\":\"white\",\"ticks\":\"\",\"title\":{\"standoff\":15},\"zerolinecolor\":\"white\",\"zerolinewidth\":2}}},\"title\":{\"text\":\"Similaridad Estructural de Aminas\",\"x\":0.55,\"xanchor\":\"center\",\"y\":0.9,\"yanchor\":\"top\"},\"width\":800,\"xaxis\":{\"domain\":[0.15,1],\"mirror\":false,\"rangemode\":\"tozero\",\"showgrid\":false,\"showline\":false,\"showticklabels\":true,\"tickmode\":\"array\",\"ticks\":\"\",\"ticktext\":[\"TertOctyl\",\"Cyclohexylmethyl\",\"nDodecyl\",\"nHexyl\",\"IPentyl\",\"n-BuNH3I\",\"NPropyl\",\"iButyl\",\"neoPentyl\",\"tButyl\",\"iPropyl\",\"Diisopropyl\",\"Diethyl\",\"NNDiethylpropane13di\",\"MeNH3I\",\"FormamidiniumIodide\",\"GnNH3I\",\"ImidazoliumIodide\",\"4FluoroPhenyl\",\"Phenyl\",\"4MethoxyPhenyl\",\"4methoxyphenethyl\",\"PhEtNH3I\",\"4FluoroPhenethyl\",\"Benzyl\",\"4TrifluoromethylBenzyl\",\"4TrifluoromethylPhenyl\"],\"tickvals\":[5.0,15.0,25.0,35.0,45.0,55.0,65.0,75.0,85.0,95.0,105.0,115.0,125.0,135.0,145.0,155.0,165.0,175.0,185.0,195.0,205.0,215.0,225.0,235.0,245.0,255.0,265.0],\"type\":\"linear\",\"zeroline\":false},\"xaxis2\":{\"domain\":[0,0.15],\"mirror\":false,\"showgrid\":false,\"showline\":false,\"showticklabels\":false,\"ticks\":\"\",\"zeroline\":false},\"yaxis\":{\"domain\":[0,0.85],\"mirror\":false,\"rangemode\":\"tozero\",\"showgrid\":false,\"showline\":false,\"showticklabels\":false,\"ticks\":\"\",\"ticktext\":[\"TertOctyl\",\"Cyclohexylmethyl\",\"nDodecyl\",\"nHexyl\",\"IPentyl\",\"n-BuNH3I\",\"NPropyl\",\"iButyl\",\"neoPentyl\",\"tButyl\",\"iPropyl\",\"Diisopropyl\",\"Diethyl\",\"NNDiethylpropane13di\",\"MeNH3I\",\"FormamidiniumIodide\",\"GnNH3I\",\"ImidazoliumIodide\",\"4FluoroPhenyl\",\"Phenyl\",\"4MethoxyPhenyl\",\"4methoxyphenethyl\",\"PhEtNH3I\",\"4FluoroPhenethyl\",\"Benzyl\",\"4TrifluoromethylBenzyl\",\"4TrifluoromethylPhenyl\"],\"tickvals\":[5.0,15.0,25.0,35.0,45.0,55.0,65.0,75.0,85.0,95.0,105.0,115.0,125.0,135.0,145.0,155.0,165.0,175.0,185.0,195.0,205.0,215.0,225.0,235.0,245.0,255.0,265.0],\"type\":\"linear\",\"zeroline\":false},\"yaxis2\":{\"domain\":[0.825,0.975],\"mirror\":false,\"showgrid\":false,\"showline\":false,\"showticklabels\":false,\"ticks\":\"\",\"zeroline\":false}},                        {\"responsive\": true}                    ).then(function(){\n",
       "                            \n",
       "var gd = document.getElementById('5cd193e3-6600-4e9a-85a3-ceb5bcfba900');\n",
       "var x = new MutationObserver(function (mutations, observer) {{\n",
       "        var display = window.getComputedStyle(gd).display;\n",
       "        if (!display || display === 'none') {{\n",
       "            console.log([gd, 'removed!']);\n",
       "            Plotly.purge(gd);\n",
       "            observer.disconnect();\n",
       "        }}\n",
       "}});\n",
       "\n",
       "// Listen for the removal of the full notebook cells\n",
       "var notebookContainer = gd.closest('#notebook-container');\n",
       "if (notebookContainer) {{\n",
       "    x.observe(notebookContainer, {childList: true});\n",
       "}}\n",
       "\n",
       "// Listen for the clearing of the current output cell\n",
       "var outputEl = gd.closest('.output');\n",
       "if (outputEl) {{\n",
       "    x.observe(outputEl, {childList: true});\n",
       "}}\n",
       "\n",
       "                        })                };                });            </script>        </div>"
      ],
      "application/vnd.plotly.v1+json": {
       "config": {
        "linkText": "Export to plot.ly",
        "plotlyServerURL": "https://plot.ly",
        "showLink": false
       },
       "data": [
        {
         "hoverinfo": "text",
         "marker": {
          "color": "rgb(61,153,112)"
         },
         "mode": "lines",
         "type": "scatter",
         "x": [
          25,
          25,
          35,
          35
         ],
         "xaxis": "x",
         "y": [
          0,
          0.38780956796418764,
          0.38780956796418764,
          0
         ],
         "yaxis": "y2"
        },
        {
         "hoverinfo": "text",
         "marker": {
          "color": "rgb(61,153,112)"
         },
         "mode": "lines",
         "type": "scatter",
         "x": [
          15,
          15,
          30,
          30
         ],
         "xaxis": "x",
         "y": [
          0,
          0.984739786387532,
          0.984739786387532,
          0.38780956796418764
         ],
         "yaxis": "y2"
        },
        {
         "hoverinfo": "text",
         "marker": {
          "color": "rgb(255,65,54)"
         },
         "mode": "lines",
         "type": "scatter",
         "x": [
          45,
          45,
          55,
          55
         ],
         "xaxis": "x",
         "y": [
          0,
          0.5466289191743684,
          0.5466289191743684,
          0
         ],
         "yaxis": "y2"
        },
        {
         "hoverinfo": "text",
         "marker": {
          "color": "rgb(255,65,54)"
         },
         "mode": "lines",
         "type": "scatter",
         "x": [
          75,
          75,
          85,
          85
         ],
         "xaxis": "x",
         "y": [
          0,
          0.41466681273855827,
          0.41466681273855827,
          0
         ],
         "yaxis": "y2"
        },
        {
         "hoverinfo": "text",
         "marker": {
          "color": "rgb(255,65,54)"
         },
         "mode": "lines",
         "type": "scatter",
         "x": [
          65,
          65,
          80,
          80
         ],
         "xaxis": "x",
         "y": [
          0,
          0.6385842025783323,
          0.6385842025783323,
          0.41466681273855827
         ],
         "yaxis": "y2"
        },
        {
         "hoverinfo": "text",
         "marker": {
          "color": "rgb(255,65,54)"
         },
         "mode": "lines",
         "type": "scatter",
         "x": [
          50,
          50,
          72.5,
          72.5
         ],
         "xaxis": "x",
         "y": [
          0.5466289191743684,
          0.6976133598569921,
          0.6976133598569921,
          0.6385842025783323
         ],
         "yaxis": "y2"
        },
        {
         "hoverinfo": "text",
         "marker": {
          "color": "rgb(255,65,54)"
         },
         "mode": "lines",
         "type": "scatter",
         "x": [
          95,
          95,
          105,
          105
         ],
         "xaxis": "x",
         "y": [
          0,
          0.48966041247567665,
          0.48966041247567665,
          0
         ],
         "yaxis": "y2"
        },
        {
         "hoverinfo": "text",
         "marker": {
          "color": "rgb(255,65,54)"
         },
         "mode": "lines",
         "type": "scatter",
         "x": [
          61.25,
          61.25,
          100,
          100
         ],
         "xaxis": "x",
         "y": [
          0.6976133598569921,
          0.7722362801574217,
          0.7722362801574217,
          0.48966041247567665
         ],
         "yaxis": "y2"
        },
        {
         "hoverinfo": "text",
         "marker": {
          "color": "rgb(0,116,217)"
         },
         "mode": "lines",
         "type": "scatter",
         "x": [
          22.5,
          22.5,
          80.625,
          80.625
         ],
         "xaxis": "x",
         "y": [
          0.984739786387532,
          1.0483680906778832,
          1.0483680906778832,
          0.7722362801574217
         ],
         "yaxis": "y2"
        },
        {
         "hoverinfo": "text",
         "marker": {
          "color": "rgb(255,65,54)"
         },
         "mode": "lines",
         "type": "scatter",
         "x": [
          115,
          115,
          125,
          125
         ],
         "xaxis": "x",
         "y": [
          0,
          0.6162389582803675,
          0.6162389582803675,
          0
         ],
         "yaxis": "y2"
        },
        {
         "hoverinfo": "text",
         "marker": {
          "color": "rgb(255,65,54)"
         },
         "mode": "lines",
         "type": "scatter",
         "x": [
          51.5625,
          51.5625,
          120,
          120
         ],
         "xaxis": "x",
         "y": [
          1.0483680906778832,
          1.0387830810801184,
          1.0387830810801184,
          0.6162389582803675
         ],
         "yaxis": "y2"
        },
        {
         "hoverinfo": "text",
         "marker": {
          "color": "rgb(0,116,217)"
         },
         "mode": "lines",
         "type": "scatter",
         "x": [
          5,
          5,
          85.78125,
          85.78125
         ],
         "xaxis": "x",
         "y": [
          0,
          1.1222231049951805,
          1.1222231049951805,
          1.0387830810801184
         ],
         "yaxis": "y2"
        },
        {
         "hoverinfo": "text",
         "marker": {
          "color": "rgb(0,116,217)"
         },
         "mode": "lines",
         "type": "scatter",
         "x": [
          45.390625,
          45.390625,
          135,
          135
         ],
         "xaxis": "x",
         "y": [
          1.1222231049951805,
          1.1623349644646408,
          1.1623349644646408,
          0
         ],
         "yaxis": "y2"
        },
        {
         "hoverinfo": "text",
         "marker": {
          "color": "rgb(35,205,205)"
         },
         "mode": "lines",
         "type": "scatter",
         "x": [
          155,
          155,
          165,
          165
         ],
         "xaxis": "x",
         "y": [
          0,
          0.5853479416966549,
          0.5853479416966549,
          0
         ],
         "yaxis": "y2"
        },
        {
         "hoverinfo": "text",
         "marker": {
          "color": "rgb(0,116,217)"
         },
         "mode": "lines",
         "type": "scatter",
         "x": [
          145,
          145,
          160,
          160
         ],
         "xaxis": "x",
         "y": [
          0,
          1.0729775945157214,
          1.0729775945157214,
          0.5853479416966549
         ],
         "yaxis": "y2"
        },
        {
         "hoverinfo": "text",
         "marker": {
          "color": "rgb(0,116,217)"
         },
         "mode": "lines",
         "type": "scatter",
         "x": [
          152.5,
          152.5,
          175,
          175
         ],
         "xaxis": "x",
         "y": [
          1.0729775945157214,
          1.1809234808670612,
          1.1809234808670612,
          0
         ],
         "yaxis": "y2"
        },
        {
         "hoverinfo": "text",
         "marker": {
          "color": "rgb(133,20,75)"
         },
         "mode": "lines",
         "type": "scatter",
         "x": [
          185,
          185,
          195,
          195
         ],
         "xaxis": "x",
         "y": [
          0,
          0.7323664942085689,
          0.7323664942085689,
          0
         ],
         "yaxis": "y2"
        },
        {
         "hoverinfo": "text",
         "marker": {
          "color": "rgb(133,20,75)"
         },
         "mode": "lines",
         "type": "scatter",
         "x": [
          190,
          190,
          205,
          205
         ],
         "xaxis": "x",
         "y": [
          0.7323664942085689,
          0.9689866572146281,
          0.9689866572146281,
          0
         ],
         "yaxis": "y2"
        },
        {
         "hoverinfo": "text",
         "marker": {
          "color": "rgb(255,220,0)"
         },
         "mode": "lines",
         "type": "scatter",
         "x": [
          225,
          225,
          235,
          235
         ],
         "xaxis": "x",
         "y": [
          0,
          0.5412069874490151,
          0.5412069874490151,
          0
         ],
         "yaxis": "y2"
        },
        {
         "hoverinfo": "text",
         "marker": {
          "color": "rgb(255,220,0)"
         },
         "mode": "lines",
         "type": "scatter",
         "x": [
          215,
          215,
          230,
          230
         ],
         "xaxis": "x",
         "y": [
          0,
          0.8038240766063832,
          0.8038240766063832,
          0.5412069874490151
         ],
         "yaxis": "y2"
        },
        {
         "hoverinfo": "text",
         "marker": {
          "color": "rgb(255,220,0)"
         },
         "mode": "lines",
         "type": "scatter",
         "x": [
          255,
          255,
          265,
          265
         ],
         "xaxis": "x",
         "y": [
          0,
          0.7472015068547558,
          0.7472015068547558,
          0
         ],
         "yaxis": "y2"
        },
        {
         "hoverinfo": "text",
         "marker": {
          "color": "rgb(255,220,0)"
         },
         "mode": "lines",
         "type": "scatter",
         "x": [
          245,
          245,
          260,
          260
         ],
         "xaxis": "x",
         "y": [
          0,
          0.9286019212205604,
          0.9286019212205604,
          0.7472015068547558
         ],
         "yaxis": "y2"
        },
        {
         "hoverinfo": "text",
         "marker": {
          "color": "rgb(255,220,0)"
         },
         "mode": "lines",
         "type": "scatter",
         "x": [
          222.5,
          222.5,
          252.5,
          252.5
         ],
         "xaxis": "x",
         "y": [
          0.8038240766063832,
          1.0085186606098258,
          1.0085186606098258,
          0.9286019212205604
         ],
         "yaxis": "y2"
        },
        {
         "hoverinfo": "text",
         "marker": {
          "color": "rgb(0,116,217)"
         },
         "mode": "lines",
         "type": "scatter",
         "x": [
          197.5,
          197.5,
          237.5,
          237.5
         ],
         "xaxis": "x",
         "y": [
          0.9689866572146281,
          1.0752681199392076,
          1.0752681199392076,
          1.0085186606098258
         ],
         "yaxis": "y2"
        },
        {
         "hoverinfo": "text",
         "marker": {
          "color": "rgb(0,116,217)"
         },
         "mode": "lines",
         "type": "scatter",
         "x": [
          163.75,
          163.75,
          217.5,
          217.5
         ],
         "xaxis": "x",
         "y": [
          1.1809234808670612,
          1.307981820976663,
          1.307981820976663,
          1.0752681199392076
         ],
         "yaxis": "y2"
        },
        {
         "hoverinfo": "text",
         "marker": {
          "color": "rgb(0,116,217)"
         },
         "mode": "lines",
         "type": "scatter",
         "x": [
          90.1953125,
          90.1953125,
          190.625,
          190.625
         ],
         "xaxis": "x",
         "y": [
          1.1623349644646408,
          1.4848431026580822,
          1.4848431026580822,
          1.307981820976663
         ],
         "yaxis": "y2"
        },
        {
         "hoverinfo": "text",
         "marker": {
          "color": "rgb(61,153,112)"
         },
         "mode": "lines",
         "type": "scatter",
         "x": [
          0,
          -0.38780956796418764,
          -0.38780956796418764,
          0
         ],
         "xaxis": "x2",
         "y": [
          25,
          25,
          35,
          35
         ],
         "yaxis": "y"
        },
        {
         "hoverinfo": "text",
         "marker": {
          "color": "rgb(61,153,112)"
         },
         "mode": "lines",
         "type": "scatter",
         "x": [
          0,
          -0.984739786387532,
          -0.984739786387532,
          -0.38780956796418764
         ],
         "xaxis": "x2",
         "y": [
          15,
          15,
          30,
          30
         ],
         "yaxis": "y"
        },
        {
         "hoverinfo": "text",
         "marker": {
          "color": "rgb(255,65,54)"
         },
         "mode": "lines",
         "type": "scatter",
         "x": [
          0,
          -0.5466289191743684,
          -0.5466289191743684,
          0
         ],
         "xaxis": "x2",
         "y": [
          45,
          45,
          55,
          55
         ],
         "yaxis": "y"
        },
        {
         "hoverinfo": "text",
         "marker": {
          "color": "rgb(255,65,54)"
         },
         "mode": "lines",
         "type": "scatter",
         "x": [
          0,
          -0.41466681273855827,
          -0.41466681273855827,
          0
         ],
         "xaxis": "x2",
         "y": [
          75,
          75,
          85,
          85
         ],
         "yaxis": "y"
        },
        {
         "hoverinfo": "text",
         "marker": {
          "color": "rgb(255,65,54)"
         },
         "mode": "lines",
         "type": "scatter",
         "x": [
          0,
          -0.6385842025783323,
          -0.6385842025783323,
          -0.41466681273855827
         ],
         "xaxis": "x2",
         "y": [
          65,
          65,
          80,
          80
         ],
         "yaxis": "y"
        },
        {
         "hoverinfo": "text",
         "marker": {
          "color": "rgb(255,65,54)"
         },
         "mode": "lines",
         "type": "scatter",
         "x": [
          -0.5466289191743684,
          -0.6976133598569921,
          -0.6976133598569921,
          -0.6385842025783323
         ],
         "xaxis": "x2",
         "y": [
          50,
          50,
          72.5,
          72.5
         ],
         "yaxis": "y"
        },
        {
         "hoverinfo": "text",
         "marker": {
          "color": "rgb(255,65,54)"
         },
         "mode": "lines",
         "type": "scatter",
         "x": [
          0,
          -0.48966041247567665,
          -0.48966041247567665,
          0
         ],
         "xaxis": "x2",
         "y": [
          95,
          95,
          105,
          105
         ],
         "yaxis": "y"
        },
        {
         "hoverinfo": "text",
         "marker": {
          "color": "rgb(255,65,54)"
         },
         "mode": "lines",
         "type": "scatter",
         "x": [
          -0.6976133598569921,
          -0.7722362801574217,
          -0.7722362801574217,
          -0.48966041247567665
         ],
         "xaxis": "x2",
         "y": [
          61.25,
          61.25,
          100,
          100
         ],
         "yaxis": "y"
        },
        {
         "hoverinfo": "text",
         "marker": {
          "color": "rgb(0,116,217)"
         },
         "mode": "lines",
         "type": "scatter",
         "x": [
          -0.984739786387532,
          -1.0483680906778832,
          -1.0483680906778832,
          -0.7722362801574217
         ],
         "xaxis": "x2",
         "y": [
          22.5,
          22.5,
          80.625,
          80.625
         ],
         "yaxis": "y"
        },
        {
         "hoverinfo": "text",
         "marker": {
          "color": "rgb(255,65,54)"
         },
         "mode": "lines",
         "type": "scatter",
         "x": [
          0,
          -0.6162389582803675,
          -0.6162389582803675,
          0
         ],
         "xaxis": "x2",
         "y": [
          115,
          115,
          125,
          125
         ],
         "yaxis": "y"
        },
        {
         "hoverinfo": "text",
         "marker": {
          "color": "rgb(255,65,54)"
         },
         "mode": "lines",
         "type": "scatter",
         "x": [
          -1.0483680906778832,
          -1.0387830810801184,
          -1.0387830810801184,
          -0.6162389582803675
         ],
         "xaxis": "x2",
         "y": [
          51.5625,
          51.5625,
          120,
          120
         ],
         "yaxis": "y"
        },
        {
         "hoverinfo": "text",
         "marker": {
          "color": "rgb(0,116,217)"
         },
         "mode": "lines",
         "type": "scatter",
         "x": [
          0,
          -1.1222231049951805,
          -1.1222231049951805,
          -1.0387830810801184
         ],
         "xaxis": "x2",
         "y": [
          5,
          5,
          85.78125,
          85.78125
         ],
         "yaxis": "y"
        },
        {
         "hoverinfo": "text",
         "marker": {
          "color": "rgb(0,116,217)"
         },
         "mode": "lines",
         "type": "scatter",
         "x": [
          -1.1222231049951805,
          -1.1623349644646408,
          -1.1623349644646408,
          0
         ],
         "xaxis": "x2",
         "y": [
          45.390625,
          45.390625,
          135,
          135
         ],
         "yaxis": "y"
        },
        {
         "hoverinfo": "text",
         "marker": {
          "color": "rgb(35,205,205)"
         },
         "mode": "lines",
         "type": "scatter",
         "x": [
          0,
          -0.5853479416966549,
          -0.5853479416966549,
          0
         ],
         "xaxis": "x2",
         "y": [
          155,
          155,
          165,
          165
         ],
         "yaxis": "y"
        },
        {
         "hoverinfo": "text",
         "marker": {
          "color": "rgb(0,116,217)"
         },
         "mode": "lines",
         "type": "scatter",
         "x": [
          0,
          -1.0729775945157214,
          -1.0729775945157214,
          -0.5853479416966549
         ],
         "xaxis": "x2",
         "y": [
          145,
          145,
          160,
          160
         ],
         "yaxis": "y"
        },
        {
         "hoverinfo": "text",
         "marker": {
          "color": "rgb(0,116,217)"
         },
         "mode": "lines",
         "type": "scatter",
         "x": [
          -1.0729775945157214,
          -1.1809234808670612,
          -1.1809234808670612,
          0
         ],
         "xaxis": "x2",
         "y": [
          152.5,
          152.5,
          175,
          175
         ],
         "yaxis": "y"
        },
        {
         "hoverinfo": "text",
         "marker": {
          "color": "rgb(133,20,75)"
         },
         "mode": "lines",
         "type": "scatter",
         "x": [
          0,
          -0.7323664942085689,
          -0.7323664942085689,
          0
         ],
         "xaxis": "x2",
         "y": [
          185,
          185,
          195,
          195
         ],
         "yaxis": "y"
        },
        {
         "hoverinfo": "text",
         "marker": {
          "color": "rgb(133,20,75)"
         },
         "mode": "lines",
         "type": "scatter",
         "x": [
          -0.7323664942085689,
          -0.9689866572146281,
          -0.9689866572146281,
          0
         ],
         "xaxis": "x2",
         "y": [
          190,
          190,
          205,
          205
         ],
         "yaxis": "y"
        },
        {
         "hoverinfo": "text",
         "marker": {
          "color": "rgb(255,220,0)"
         },
         "mode": "lines",
         "type": "scatter",
         "x": [
          0,
          -0.5412069874490151,
          -0.5412069874490151,
          0
         ],
         "xaxis": "x2",
         "y": [
          225,
          225,
          235,
          235
         ],
         "yaxis": "y"
        },
        {
         "hoverinfo": "text",
         "marker": {
          "color": "rgb(255,220,0)"
         },
         "mode": "lines",
         "type": "scatter",
         "x": [
          0,
          -0.8038240766063832,
          -0.8038240766063832,
          -0.5412069874490151
         ],
         "xaxis": "x2",
         "y": [
          215,
          215,
          230,
          230
         ],
         "yaxis": "y"
        },
        {
         "hoverinfo": "text",
         "marker": {
          "color": "rgb(255,220,0)"
         },
         "mode": "lines",
         "type": "scatter",
         "x": [
          0,
          -0.7472015068547558,
          -0.7472015068547558,
          0
         ],
         "xaxis": "x2",
         "y": [
          255,
          255,
          265,
          265
         ],
         "yaxis": "y"
        },
        {
         "hoverinfo": "text",
         "marker": {
          "color": "rgb(255,220,0)"
         },
         "mode": "lines",
         "type": "scatter",
         "x": [
          0,
          -0.9286019212205604,
          -0.9286019212205604,
          -0.7472015068547558
         ],
         "xaxis": "x2",
         "y": [
          245,
          245,
          260,
          260
         ],
         "yaxis": "y"
        },
        {
         "hoverinfo": "text",
         "marker": {
          "color": "rgb(255,220,0)"
         },
         "mode": "lines",
         "type": "scatter",
         "x": [
          -0.8038240766063832,
          -1.0085186606098258,
          -1.0085186606098258,
          -0.9286019212205604
         ],
         "xaxis": "x2",
         "y": [
          222.5,
          222.5,
          252.5,
          252.5
         ],
         "yaxis": "y"
        },
        {
         "hoverinfo": "text",
         "marker": {
          "color": "rgb(0,116,217)"
         },
         "mode": "lines",
         "type": "scatter",
         "x": [
          -0.9689866572146281,
          -1.0752681199392076,
          -1.0752681199392076,
          -1.0085186606098258
         ],
         "xaxis": "x2",
         "y": [
          197.5,
          197.5,
          237.5,
          237.5
         ],
         "yaxis": "y"
        },
        {
         "hoverinfo": "text",
         "marker": {
          "color": "rgb(0,116,217)"
         },
         "mode": "lines",
         "type": "scatter",
         "x": [
          -1.1809234808670612,
          -1.307981820976663,
          -1.307981820976663,
          -1.0752681199392076
         ],
         "xaxis": "x2",
         "y": [
          163.75,
          163.75,
          217.5,
          217.5
         ],
         "yaxis": "y"
        },
        {
         "hoverinfo": "text",
         "marker": {
          "color": "rgb(0,116,217)"
         },
         "mode": "lines",
         "type": "scatter",
         "x": [
          -1.1623349644646408,
          -1.4848431026580822,
          -1.4848431026580822,
          -1.307981820976663
         ],
         "xaxis": "x2",
         "y": [
          90.1953125,
          90.1953125,
          190.625,
          190.625
         ],
         "yaxis": "y"
        },
        {
         "colorbar": {
          "title": {
           "text": "Coff Tanimoto"
          }
         },
         "type": "heatmap",
         "x": [
          5,
          15,
          25,
          35,
          45,
          55,
          65,
          75,
          85,
          95,
          105,
          115,
          125,
          135,
          145,
          155,
          165,
          175,
          185,
          195,
          205,
          215,
          225,
          235,
          245,
          255,
          265
         ],
         "y": [
          5,
          15,
          25,
          35,
          45,
          55,
          65,
          75,
          85,
          95,
          105,
          115,
          125,
          135,
          145,
          155,
          165,
          175,
          185,
          195,
          205,
          215,
          225,
          235,
          245,
          255,
          265
         ],
         "z": [
          [
           1,
           0.2558139534883721,
           0.24242424242424243,
           0.26666666666666666,
           0.37037037037037035,
           0.25925925925925924,
           0.18518518518518517,
           0.21428571428571427,
           0.2413793103448276,
           0.25925925925925924,
           0.18518518518518517,
           0.15384615384615385,
           0.11864406779661017,
           0.13953488372093023,
           0.037037037037037035,
           0.034482758620689655,
           0.03225806451612903,
           0.022988505747126436,
           0,
           0,
           0,
           0.038834951456310676,
           0.05384615384615385,
           0.046242774566473986,
           0.017543859649122806,
           0.02072538860103627,
           0.0106951871657754
          ],
          [
           0.2558139534883721,
           1,
           0.4642857142857143,
           0.4074074074074074,
           0.32142857142857145,
           0.25925925925925924,
           0.18518518518518517,
           0.25925925925925924,
           0.2413793103448276,
           0.1724137931034483,
           0.14285714285714285,
           0.11940298507462686,
           0.1,
           0.11363636363636363,
           0.037037037037037035,
           0.034482758620689655,
           0.03225806451612903,
           0.03488372093023256,
           0.015625,
           0.022222222222222223,
           0.012578616352201259,
           0.04390243902439024,
           0.05384615384615385,
           0.046242774566473986,
           0.017543859649122806,
           0.031413612565445025,
           0.02717391304347826
          ],
          [
           0.24242424242424243,
           0.4642857142857143,
           1,
           0.7857142857142857,
           0.4117647058823529,
           0.5,
           0.35714285714285715,
           0.3125,
           0.2777777777777778,
           0.23529411764705882,
           0.26666666666666666,
           0.1951219512195122,
           0.17647058823529413,
           0.16129032258064516,
           0.07142857142857142,
           0.0625,
           0.05555555555555555,
           0.03278688524590164,
           0.009708737864077669,
           0.015384615384615385,
           0.007462686567164179,
           0.03296703296703297,
           0.05714285714285714,
           0.0472972972972973,
           0.022727272727272728,
           0.023952095808383235,
           0.012422360248447204
          ],
          [
           0.26666666666666666,
           0.4074074074074074,
           0.7857142857142857,
           1,
           0.5,
           0.6363636363636364,
           0.45454545454545453,
           0.38461538461538464,
           0.3333333333333333,
           0.2857142857142857,
           0.3333333333333333,
           0.22857142857142856,
           0.21428571428571427,
           0.17857142857142858,
           0.09090909090909091,
           0.07692307692307693,
           0.06666666666666667,
           0.03636363636363636,
           0.010309278350515464,
           0.01694915254237288,
           0.0078125,
           0.03409090909090909,
           0.06060606060606061,
           0.04929577464788732,
           0.024390243902439025,
           0.024844720496894408,
           0.012903225806451613
          ],
          [
           0.37037037037037035,
           0.32142857142857145,
           0.4117647058823529,
           0.5,
           1,
           0.7,
           0.5,
           0.5454545454545454,
           0.46153846153846156,
           0.4166666666666667,
           0.36363636363636365,
           0.24242424242424243,
           0.23076923076923078,
           0.18518518518518517,
           0.1,
           0.08333333333333333,
           0.07142857142857142,
           0.03773584905660377,
           0,
           0,
           0,
           0.034482758620689655,
           0.061855670103092786,
           0.05,
           0.025,
           0.01875,
           0.006493506493506494
          ],
          [
           0.25925925925925924,
           0.25925925925925924,
           0.5,
           0.6363636363636364,
           0.7,
           1,
           0.7142857142857143,
           0.5555555555555556,
           0.45454545454545453,
           0.4,
           0.5,
           0.2962962962962963,
           0.3,
           0.20833333333333334,
           0.14285714285714285,
           0.1111111111111111,
           0.09090909090909091,
           0.0425531914893617,
           0,
           0,
           0,
           0.03571428571428571,
           0.06593406593406594,
           0.05223880597014925,
           0.02702702702702703,
           0.01948051948051948,
           0.006756756756756757
          ],
          [
           0.18518518518518517,
           0.18518518518518517,
           0.35714285714285715,
           0.45454545454545453,
           0.5,
           0.7142857142857143,
           1,
           0.7142857142857143,
           0.5555555555555556,
           0.5,
           0.6666666666666666,
           0.34782608695652173,
           0.375,
           0.22727272727272727,
           0.2,
           0.14285714285714285,
           0.1111111111111111,
           0.046511627906976744,
           0,
           0,
           0,
           0.036585365853658534,
           0.06896551724137931,
           0.04580152671755725,
           0.02857142857142857,
           0.02,
           0.006944444444444444
          ],
          [
           0.21428571428571427,
           0.25925925925925924,
           0.3125,
           0.38461538461538464,
           0.5454545454545454,
           0.5555555555555556,
           0.7142857142857143,
           1,
           0.7777777777777778,
           0.5555555555555556,
           0.5,
           0.2962962962962963,
           0.3,
           0.20833333333333334,
           0.14285714285714285,
           0.1111111111111111,
           0.09090909090909091,
           0.0425531914893617,
           0,
           0,
           0,
           0.03571428571428571,
           0.06593406593406594,
           0.044444444444444446,
           0.02702702702702703,
           0.01948051948051948,
           0.006756756756756757
          ],
          [
           0.2413793103448276,
           0.2413793103448276,
           0.2777777777777778,
           0.3333333333333333,
           0.46153846153846156,
           0.45454545454545453,
           0.5555555555555556,
           0.7777777777777778,
           1,
           0.45454545454545453,
           0.4,
           0.25806451612903225,
           0.25,
           0.21568627450980393,
           0.1111111111111111,
           0.09090909090909091,
           0.07692307692307693,
           0.0392156862745098,
           0,
           0,
           0,
           0.03488372093023256,
           0.06315789473684211,
           0.04316546762589928,
           0.02564102564102564,
           0.0189873417721519,
           0.006578947368421052
          ],
          [
           0.25925925925925924,
           0.1724137931034483,
           0.23529411764705882,
           0.2857142857142857,
           0.4166666666666667,
           0.4,
           0.5,
           0.5555555555555556,
           0.45454545454545453,
           1,
           0.7142857142857143,
           0.4,
           0.3684210526315789,
           0.20833333333333334,
           0.14285714285714285,
           0.1111111111111111,
           0.09090909090909091,
           0.0425531914893617,
           0,
           0,
           0,
           0.03571428571428571,
           0.06593406593406594,
           0.044444444444444446,
           0.02702702702702703,
           0.01948051948051948,
           0.006756756756756757
          ],
          [
           0.18518518518518517,
           0.14285714285714285,
           0.26666666666666666,
           0.3333333333333333,
           0.36363636363636365,
           0.5,
           0.6666666666666666,
           0.5,
           0.4,
           0.7142857142857143,
           1,
           0.47619047619047616,
           0.4666666666666667,
           0.2,
           0.2,
           0.14285714285714285,
           0.1111111111111111,
           0.046511627906976744,
           0,
           0,
           0,
           0.036585365853658534,
           0.06896551724137931,
           0.04580152671755725,
           0.02857142857142857,
           0.02,
           0.006944444444444444
          ],
          [
           0.15384615384615385,
           0.11940298507462686,
           0.1951219512195122,
           0.22857142857142856,
           0.24242424242424243,
           0.2962962962962963,
           0.34782608695652173,
           0.2962962962962963,
           0.25806451612903225,
           0.4,
           0.47619047619047616,
           1,
           0.5714285714285714,
           0.27450980392156865,
           0.09523809523809523,
           0.08,
           0.06896551724137931,
           0.09803921568627451,
           0,
           0,
           0,
           0.040229885057471264,
           0.061224489795918366,
           0.04225352112676056,
           0.024691358024691357,
           0.018633540372670808,
           0.012987012987012988
          ],
          [
           0.11864406779661017,
           0.1,
           0.17647058823529413,
           0.21428571428571427,
           0.23076923076923078,
           0.3,
           0.375,
           0.3,
           0.25,
           0.3684210526315789,
           0.4666666666666667,
           0.5714285714285714,
           1,
           0.2727272727272727,
           0.16666666666666666,
           0.125,
           0.1,
           0.09302325581395349,
           0,
           0,
           0,
           0.04242424242424243,
           0.06741573033707865,
           0.045112781954887216,
           0.027777777777777776,
           0.019736842105263157,
           0.013793103448275862
          ],
          [
           0.13953488372093023,
           0.11363636363636363,
           0.16129032258064516,
           0.17857142857142858,
           0.18518518518518517,
           0.20833333333333334,
           0.22727272727272727,
           0.20833333333333334,
           0.21568627450980393,
           0.20833333333333334,
           0.2,
           0.27450980392156865,
           0.2727272727272727,
           1,
           0.045454545454545456,
           0.041666666666666664,
           0.038461538461538464,
           0.05333333333333334,
           0.02564102564102564,
           0.012345679012345678,
           0.013422818791946308,
           0.03553299492385787,
           0.049586776859504134,
           0.042682926829268296,
           0.019230769230769232,
           0.027472527472527472,
           0.028735632183908046
          ],
          [
           0.037037037037037035,
           0.037037037037037035,
           0.07142857142857142,
           0.09090909090909091,
           0.1,
           0.14285714285714285,
           0.2,
           0.14285714285714285,
           0.1111111111111111,
           0.14285714285714285,
           0.2,
           0.09523809523809523,
           0.16666666666666666,
           0.045454545454545456,
           1,
           0.3333333333333333,
           0.2,
           0.05714285714285714,
           0,
           0,
           0,
           0.0125,
           0.024096385542168676,
           0.015748031496062992,
           0.03225806451612903,
           0.013986013986013986,
           0.007352941176470588
          ],
          [
           0.034482758620689655,
           0.034482758620689655,
           0.0625,
           0.07692307692307693,
           0.08333333333333333,
           0.1111111111111111,
           0.14285714285714285,
           0.1111111111111111,
           0.09090909090909091,
           0.1111111111111111,
           0.14285714285714285,
           0.08,
           0.125,
           0.041666666666666664,
           0.3333333333333333,
           1,
           0.6,
           0.17142857142857143,
           0,
           0,
           0,
           0.012195121951219513,
           0.022988505747126436,
           0.015267175572519083,
           0.030303030303030304,
           0.013605442176870748,
           0.007142857142857143
          ],
          [
           0.03225806451612903,
           0.03225806451612903,
           0.05555555555555555,
           0.06666666666666667,
           0.07142857142857142,
           0.09090909090909091,
           0.1111111111111111,
           0.09090909090909091,
           0.07692307692307693,
           0.09090909090909091,
           0.1111111111111111,
           0.06896551724137931,
           0.1,
           0.038461538461538464,
           0.2,
           0.6,
           1,
           0.18421052631578946,
           0.011764705882352941,
           0,
           0,
           0.011904761904761904,
           0.02197802197802198,
           0.022388059701492536,
           0.02857142857142857,
           0.013245033112582781,
           0.006944444444444444
          ],
          [
           0.022988505747126436,
           0.03488372093023256,
           0.03278688524590164,
           0.03636363636363636,
           0.03773584905660377,
           0.0425531914893617,
           0.046511627906976744,
           0.0425531914893617,
           0.0392156862745098,
           0.0425531914893617,
           0.046511627906976744,
           0.09803921568627451,
           0.09302325581395349,
           0.05333333333333334,
           0.05714285714285714,
           0.17142857142857143,
           0.18421052631578946,
           1,
           0.00909090909090909,
           0.013888888888888888,
           0.014285714285714285,
           0.015625,
           0.017241379310344827,
           0.018867924528301886,
           0.021052631578947368,
           0.017142857142857144,
           0.017964071856287425
          ],
          [
           0,
           0.015625,
           0.009708737864077669,
           0.010309278350515464,
           0,
           0,
           0,
           0,
           0,
           0,
           0,
           0,
           0,
           0.02564102564102564,
           0,
           0,
           0.011764705882352941,
           0.00909090909090909,
           1,
           0.5,
           0.2708333333333333,
           0.0776255707762557,
           0.11188811188811189,
           0.25308641975308643,
           0.11290322580645161,
           0.07881773399014778,
           0.22674418604651161
          ],
          [
           0,
           0.022222222222222223,
           0.015384615384615385,
           0.01694915254237288,
           0,
           0,
           0,
           0,
           0,
           0,
           0,
           0,
           0,
           0.012345679012345678,
           0,
           0,
           0,
           0.013888888888888888,
           0.5,
           1,
           0.35514018691588783,
           0.08196721311475409,
           0.14150943396226415,
           0.1,
           0.14942528735632185,
           0.09036144578313253,
           0.2814814814814815
          ],
          [
           0,
           0.012578616352201259,
           0.007462686567164179,
           0.0078125,
           0,
           0,
           0,
           0,
           0,
           0,
           0,
           0,
           0,
           0.013422818791946308,
           0,
           0,
           0,
           0.014285714285714285,
           0.2708333333333333,
           0.35514018691588783,
           1,
           0.3417085427135678,
           0.09826589595375723,
           0.08333333333333333,
           0.09032258064516129,
           0.09170305676855896,
           0.21608040201005024
          ],
          [
           0.038834951456310676,
           0.04390243902439024,
           0.03296703296703297,
           0.03409090909090909,
           0.034482758620689655,
           0.03571428571428571,
           0.036585365853658534,
           0.03571428571428571,
           0.03488372093023256,
           0.03571428571428571,
           0.036585365853658534,
           0.040229885057471264,
           0.04242424242424243,
           0.03553299492385787,
           0.0125,
           0.012195121951219513,
           0.011904761904761904,
           0.015625,
           0.0776255707762557,
           0.08196721311475409,
           0.3417085427135678,
           1,
           0.51875,
           0.41379310344827586,
           0.23333333333333334,
           0.1976284584980237,
           0.1752988047808765
          ],
          [
           0.05384615384615385,
           0.05384615384615385,
           0.05714285714285714,
           0.06060606060606061,
           0.061855670103092786,
           0.06593406593406594,
           0.06896551724137931,
           0.06593406593406594,
           0.06315789473684211,
           0.06593406593406594,
           0.06896551724137931,
           0.061224489795918366,
           0.06741573033707865,
           0.049586776859504134,
           0.024096385542168676,
           0.022988505747126436,
           0.02197802197802198,
           0.017241379310344827,
           0.11188811188811189,
           0.14150943396226415,
           0.09826589595375723,
           0.51875,
           1,
           0.6535433070866141,
           0.4077669902912621,
           0.24861878453038674,
           0.2247191011235955
          ],
          [
           0.046242774566473986,
           0.046242774566473986,
           0.0472972972972973,
           0.04929577464788732,
           0.05,
           0.05223880597014925,
           0.04580152671755725,
           0.044444444444444446,
           0.04316546762589928,
           0.044444444444444446,
           0.04580152671755725,
           0.04225352112676056,
           0.045112781954887216,
           0.042682926829268296,
           0.015748031496062992,
           0.015267175572519083,
           0.022388059701492536,
           0.018867924528301886,
           0.25308641975308643,
           0.1,
           0.08333333333333333,
           0.41379310344827586,
           0.6535433070866141,
           1,
           0.2945205479452055,
           0.20535714285714285,
           0.19090909090909092
          ],
          [
           0.017543859649122806,
           0.017543859649122806,
           0.022727272727272728,
           0.024390243902439025,
           0.025,
           0.02702702702702703,
           0.02857142857142857,
           0.02702702702702703,
           0.02564102564102564,
           0.02702702702702703,
           0.02857142857142857,
           0.024691358024691357,
           0.027777777777777776,
           0.019230769230769232,
           0.03225806451612903,
           0.030303030303030304,
           0.02857142857142857,
           0.021052631578947368,
           0.11290322580645161,
           0.14942528735632185,
           0.09032258064516129,
           0.23333333333333334,
           0.4077669902912621,
           0.2945205479452055,
           1,
           0.43356643356643354,
           0.2468354430379747
          ],
          [
           0.02072538860103627,
           0.031413612565445025,
           0.023952095808383235,
           0.024844720496894408,
           0.01875,
           0.01948051948051948,
           0.02,
           0.01948051948051948,
           0.0189873417721519,
           0.01948051948051948,
           0.02,
           0.018633540372670808,
           0.019736842105263157,
           0.027472527472527472,
           0.013986013986013986,
           0.013605442176870748,
           0.013245033112582781,
           0.017142857142857144,
           0.07881773399014778,
           0.09036144578313253,
           0.09170305676855896,
           0.1976284584980237,
           0.24861878453038674,
           0.20535714285714285,
           0.43356643356643354,
           1,
           0.5274725274725275
          ],
          [
           0.0106951871657754,
           0.02717391304347826,
           0.012422360248447204,
           0.012903225806451613,
           0.006493506493506494,
           0.006756756756756757,
           0.006944444444444444,
           0.006756756756756757,
           0.006578947368421052,
           0.006756756756756757,
           0.006944444444444444,
           0.012987012987012988,
           0.013793103448275862,
           0.028735632183908046,
           0.007352941176470588,
           0.007142857142857143,
           0.006944444444444444,
           0.017964071856287425,
           0.22674418604651161,
           0.2814814814814815,
           0.21608040201005024,
           0.1752988047808765,
           0.2247191011235955,
           0.19090909090909092,
           0.2468354430379747,
           0.5274725274725275,
           1
          ]
         ]
        }
       ],
       "layout": {
        "autosize": false,
        "height": 800,
        "hovermode": "closest",
        "showlegend": false,
        "template": {
         "data": {
          "bar": [
           {
            "error_x": {
             "color": "#2a3f5f"
            },
            "error_y": {
             "color": "#2a3f5f"
            },
            "marker": {
             "line": {
              "color": "#E5ECF6",
              "width": 0.5
             },
             "pattern": {
              "fillmode": "overlay",
              "size": 10,
              "solidity": 0.2
             }
            },
            "type": "bar"
           }
          ],
          "barpolar": [
           {
            "marker": {
             "line": {
              "color": "#E5ECF6",
              "width": 0.5
             },
             "pattern": {
              "fillmode": "overlay",
              "size": 10,
              "solidity": 0.2
             }
            },
            "type": "barpolar"
           }
          ],
          "carpet": [
           {
            "aaxis": {
             "endlinecolor": "#2a3f5f",
             "gridcolor": "white",
             "linecolor": "white",
             "minorgridcolor": "white",
             "startlinecolor": "#2a3f5f"
            },
            "baxis": {
             "endlinecolor": "#2a3f5f",
             "gridcolor": "white",
             "linecolor": "white",
             "minorgridcolor": "white",
             "startlinecolor": "#2a3f5f"
            },
            "type": "carpet"
           }
          ],
          "choropleth": [
           {
            "colorbar": {
             "outlinewidth": 0,
             "ticks": ""
            },
            "type": "choropleth"
           }
          ],
          "contour": [
           {
            "colorbar": {
             "outlinewidth": 0,
             "ticks": ""
            },
            "colorscale": [
             [
              0,
              "#0d0887"
             ],
             [
              0.1111111111111111,
              "#46039f"
             ],
             [
              0.2222222222222222,
              "#7201a8"
             ],
             [
              0.3333333333333333,
              "#9c179e"
             ],
             [
              0.4444444444444444,
              "#bd3786"
             ],
             [
              0.5555555555555556,
              "#d8576b"
             ],
             [
              0.6666666666666666,
              "#ed7953"
             ],
             [
              0.7777777777777778,
              "#fb9f3a"
             ],
             [
              0.8888888888888888,
              "#fdca26"
             ],
             [
              1,
              "#f0f921"
             ]
            ],
            "type": "contour"
           }
          ],
          "contourcarpet": [
           {
            "colorbar": {
             "outlinewidth": 0,
             "ticks": ""
            },
            "type": "contourcarpet"
           }
          ],
          "heatmap": [
           {
            "colorbar": {
             "outlinewidth": 0,
             "ticks": ""
            },
            "colorscale": [
             [
              0,
              "#0d0887"
             ],
             [
              0.1111111111111111,
              "#46039f"
             ],
             [
              0.2222222222222222,
              "#7201a8"
             ],
             [
              0.3333333333333333,
              "#9c179e"
             ],
             [
              0.4444444444444444,
              "#bd3786"
             ],
             [
              0.5555555555555556,
              "#d8576b"
             ],
             [
              0.6666666666666666,
              "#ed7953"
             ],
             [
              0.7777777777777778,
              "#fb9f3a"
             ],
             [
              0.8888888888888888,
              "#fdca26"
             ],
             [
              1,
              "#f0f921"
             ]
            ],
            "type": "heatmap"
           }
          ],
          "heatmapgl": [
           {
            "colorbar": {
             "outlinewidth": 0,
             "ticks": ""
            },
            "colorscale": [
             [
              0,
              "#0d0887"
             ],
             [
              0.1111111111111111,
              "#46039f"
             ],
             [
              0.2222222222222222,
              "#7201a8"
             ],
             [
              0.3333333333333333,
              "#9c179e"
             ],
             [
              0.4444444444444444,
              "#bd3786"
             ],
             [
              0.5555555555555556,
              "#d8576b"
             ],
             [
              0.6666666666666666,
              "#ed7953"
             ],
             [
              0.7777777777777778,
              "#fb9f3a"
             ],
             [
              0.8888888888888888,
              "#fdca26"
             ],
             [
              1,
              "#f0f921"
             ]
            ],
            "type": "heatmapgl"
           }
          ],
          "histogram": [
           {
            "marker": {
             "pattern": {
              "fillmode": "overlay",
              "size": 10,
              "solidity": 0.2
             }
            },
            "type": "histogram"
           }
          ],
          "histogram2d": [
           {
            "colorbar": {
             "outlinewidth": 0,
             "ticks": ""
            },
            "colorscale": [
             [
              0,
              "#0d0887"
             ],
             [
              0.1111111111111111,
              "#46039f"
             ],
             [
              0.2222222222222222,
              "#7201a8"
             ],
             [
              0.3333333333333333,
              "#9c179e"
             ],
             [
              0.4444444444444444,
              "#bd3786"
             ],
             [
              0.5555555555555556,
              "#d8576b"
             ],
             [
              0.6666666666666666,
              "#ed7953"
             ],
             [
              0.7777777777777778,
              "#fb9f3a"
             ],
             [
              0.8888888888888888,
              "#fdca26"
             ],
             [
              1,
              "#f0f921"
             ]
            ],
            "type": "histogram2d"
           }
          ],
          "histogram2dcontour": [
           {
            "colorbar": {
             "outlinewidth": 0,
             "ticks": ""
            },
            "colorscale": [
             [
              0,
              "#0d0887"
             ],
             [
              0.1111111111111111,
              "#46039f"
             ],
             [
              0.2222222222222222,
              "#7201a8"
             ],
             [
              0.3333333333333333,
              "#9c179e"
             ],
             [
              0.4444444444444444,
              "#bd3786"
             ],
             [
              0.5555555555555556,
              "#d8576b"
             ],
             [
              0.6666666666666666,
              "#ed7953"
             ],
             [
              0.7777777777777778,
              "#fb9f3a"
             ],
             [
              0.8888888888888888,
              "#fdca26"
             ],
             [
              1,
              "#f0f921"
             ]
            ],
            "type": "histogram2dcontour"
           }
          ],
          "mesh3d": [
           {
            "colorbar": {
             "outlinewidth": 0,
             "ticks": ""
            },
            "type": "mesh3d"
           }
          ],
          "parcoords": [
           {
            "line": {
             "colorbar": {
              "outlinewidth": 0,
              "ticks": ""
             }
            },
            "type": "parcoords"
           }
          ],
          "pie": [
           {
            "automargin": true,
            "type": "pie"
           }
          ],
          "scatter": [
           {
            "marker": {
             "colorbar": {
              "outlinewidth": 0,
              "ticks": ""
             }
            },
            "type": "scatter"
           }
          ],
          "scatter3d": [
           {
            "line": {
             "colorbar": {
              "outlinewidth": 0,
              "ticks": ""
             }
            },
            "marker": {
             "colorbar": {
              "outlinewidth": 0,
              "ticks": ""
             }
            },
            "type": "scatter3d"
           }
          ],
          "scattercarpet": [
           {
            "marker": {
             "colorbar": {
              "outlinewidth": 0,
              "ticks": ""
             }
            },
            "type": "scattercarpet"
           }
          ],
          "scattergeo": [
           {
            "marker": {
             "colorbar": {
              "outlinewidth": 0,
              "ticks": ""
             }
            },
            "type": "scattergeo"
           }
          ],
          "scattergl": [
           {
            "marker": {
             "colorbar": {
              "outlinewidth": 0,
              "ticks": ""
             }
            },
            "type": "scattergl"
           }
          ],
          "scattermapbox": [
           {
            "marker": {
             "colorbar": {
              "outlinewidth": 0,
              "ticks": ""
             }
            },
            "type": "scattermapbox"
           }
          ],
          "scatterpolar": [
           {
            "marker": {
             "colorbar": {
              "outlinewidth": 0,
              "ticks": ""
             }
            },
            "type": "scatterpolar"
           }
          ],
          "scatterpolargl": [
           {
            "marker": {
             "colorbar": {
              "outlinewidth": 0,
              "ticks": ""
             }
            },
            "type": "scatterpolargl"
           }
          ],
          "scatterternary": [
           {
            "marker": {
             "colorbar": {
              "outlinewidth": 0,
              "ticks": ""
             }
            },
            "type": "scatterternary"
           }
          ],
          "surface": [
           {
            "colorbar": {
             "outlinewidth": 0,
             "ticks": ""
            },
            "colorscale": [
             [
              0,
              "#0d0887"
             ],
             [
              0.1111111111111111,
              "#46039f"
             ],
             [
              0.2222222222222222,
              "#7201a8"
             ],
             [
              0.3333333333333333,
              "#9c179e"
             ],
             [
              0.4444444444444444,
              "#bd3786"
             ],
             [
              0.5555555555555556,
              "#d8576b"
             ],
             [
              0.6666666666666666,
              "#ed7953"
             ],
             [
              0.7777777777777778,
              "#fb9f3a"
             ],
             [
              0.8888888888888888,
              "#fdca26"
             ],
             [
              1,
              "#f0f921"
             ]
            ],
            "type": "surface"
           }
          ],
          "table": [
           {
            "cells": {
             "fill": {
              "color": "#EBF0F8"
             },
             "line": {
              "color": "white"
             }
            },
            "header": {
             "fill": {
              "color": "#C8D4E3"
             },
             "line": {
              "color": "white"
             }
            },
            "type": "table"
           }
          ]
         },
         "layout": {
          "annotationdefaults": {
           "arrowcolor": "#2a3f5f",
           "arrowhead": 0,
           "arrowwidth": 1
          },
          "autotypenumbers": "strict",
          "coloraxis": {
           "colorbar": {
            "outlinewidth": 0,
            "ticks": ""
           }
          },
          "colorscale": {
           "diverging": [
            [
             0,
             "#8e0152"
            ],
            [
             0.1,
             "#c51b7d"
            ],
            [
             0.2,
             "#de77ae"
            ],
            [
             0.3,
             "#f1b6da"
            ],
            [
             0.4,
             "#fde0ef"
            ],
            [
             0.5,
             "#f7f7f7"
            ],
            [
             0.6,
             "#e6f5d0"
            ],
            [
             0.7,
             "#b8e186"
            ],
            [
             0.8,
             "#7fbc41"
            ],
            [
             0.9,
             "#4d9221"
            ],
            [
             1,
             "#276419"
            ]
           ],
           "sequential": [
            [
             0,
             "#0d0887"
            ],
            [
             0.1111111111111111,
             "#46039f"
            ],
            [
             0.2222222222222222,
             "#7201a8"
            ],
            [
             0.3333333333333333,
             "#9c179e"
            ],
            [
             0.4444444444444444,
             "#bd3786"
            ],
            [
             0.5555555555555556,
             "#d8576b"
            ],
            [
             0.6666666666666666,
             "#ed7953"
            ],
            [
             0.7777777777777778,
             "#fb9f3a"
            ],
            [
             0.8888888888888888,
             "#fdca26"
            ],
            [
             1,
             "#f0f921"
            ]
           ],
           "sequentialminus": [
            [
             0,
             "#0d0887"
            ],
            [
             0.1111111111111111,
             "#46039f"
            ],
            [
             0.2222222222222222,
             "#7201a8"
            ],
            [
             0.3333333333333333,
             "#9c179e"
            ],
            [
             0.4444444444444444,
             "#bd3786"
            ],
            [
             0.5555555555555556,
             "#d8576b"
            ],
            [
             0.6666666666666666,
             "#ed7953"
            ],
            [
             0.7777777777777778,
             "#fb9f3a"
            ],
            [
             0.8888888888888888,
             "#fdca26"
            ],
            [
             1,
             "#f0f921"
            ]
           ]
          },
          "colorway": [
           "#636efa",
           "#EF553B",
           "#00cc96",
           "#ab63fa",
           "#FFA15A",
           "#19d3f3",
           "#FF6692",
           "#B6E880",
           "#FF97FF",
           "#FECB52"
          ],
          "font": {
           "color": "#2a3f5f"
          },
          "geo": {
           "bgcolor": "white",
           "lakecolor": "white",
           "landcolor": "#E5ECF6",
           "showlakes": true,
           "showland": true,
           "subunitcolor": "white"
          },
          "hoverlabel": {
           "align": "left"
          },
          "hovermode": "closest",
          "mapbox": {
           "style": "light"
          },
          "paper_bgcolor": "white",
          "plot_bgcolor": "#E5ECF6",
          "polar": {
           "angularaxis": {
            "gridcolor": "white",
            "linecolor": "white",
            "ticks": ""
           },
           "bgcolor": "#E5ECF6",
           "radialaxis": {
            "gridcolor": "white",
            "linecolor": "white",
            "ticks": ""
           }
          },
          "scene": {
           "xaxis": {
            "backgroundcolor": "#E5ECF6",
            "gridcolor": "white",
            "gridwidth": 2,
            "linecolor": "white",
            "showbackground": true,
            "ticks": "",
            "zerolinecolor": "white"
           },
           "yaxis": {
            "backgroundcolor": "#E5ECF6",
            "gridcolor": "white",
            "gridwidth": 2,
            "linecolor": "white",
            "showbackground": true,
            "ticks": "",
            "zerolinecolor": "white"
           },
           "zaxis": {
            "backgroundcolor": "#E5ECF6",
            "gridcolor": "white",
            "gridwidth": 2,
            "linecolor": "white",
            "showbackground": true,
            "ticks": "",
            "zerolinecolor": "white"
           }
          },
          "shapedefaults": {
           "line": {
            "color": "#2a3f5f"
           }
          },
          "ternary": {
           "aaxis": {
            "gridcolor": "white",
            "linecolor": "white",
            "ticks": ""
           },
           "baxis": {
            "gridcolor": "white",
            "linecolor": "white",
            "ticks": ""
           },
           "bgcolor": "#E5ECF6",
           "caxis": {
            "gridcolor": "white",
            "linecolor": "white",
            "ticks": ""
           }
          },
          "title": {
           "x": 0.05
          },
          "xaxis": {
           "automargin": true,
           "gridcolor": "white",
           "linecolor": "white",
           "ticks": "",
           "title": {
            "standoff": 15
           },
           "zerolinecolor": "white",
           "zerolinewidth": 2
          },
          "yaxis": {
           "automargin": true,
           "gridcolor": "white",
           "linecolor": "white",
           "ticks": "",
           "title": {
            "standoff": 15
           },
           "zerolinecolor": "white",
           "zerolinewidth": 2
          }
         }
        },
        "title": {
         "text": "Similaridad Estructural de Aminas",
         "x": 0.55,
         "xanchor": "center",
         "y": 0.9,
         "yanchor": "top"
        },
        "width": 800,
        "xaxis": {
         "domain": [
          0.15,
          1
         ],
         "mirror": false,
         "rangemode": "tozero",
         "showgrid": false,
         "showline": false,
         "showticklabels": true,
         "tickmode": "array",
         "ticks": "",
         "ticktext": [
          "TertOctyl",
          "Cyclohexylmethyl",
          "nDodecyl",
          "nHexyl",
          "IPentyl",
          "n-BuNH3I",
          "NPropyl",
          "iButyl",
          "neoPentyl",
          "tButyl",
          "iPropyl",
          "Diisopropyl",
          "Diethyl",
          "NNDiethylpropane13di",
          "MeNH3I",
          "FormamidiniumIodide",
          "GnNH3I",
          "ImidazoliumIodide",
          "4FluoroPhenyl",
          "Phenyl",
          "4MethoxyPhenyl",
          "4methoxyphenethyl",
          "PhEtNH3I",
          "4FluoroPhenethyl",
          "Benzyl",
          "4TrifluoromethylBenzyl",
          "4TrifluoromethylPhenyl"
         ],
         "tickvals": [
          5,
          15,
          25,
          35,
          45,
          55,
          65,
          75,
          85,
          95,
          105,
          115,
          125,
          135,
          145,
          155,
          165,
          175,
          185,
          195,
          205,
          215,
          225,
          235,
          245,
          255,
          265
         ],
         "type": "linear",
         "zeroline": false
        },
        "xaxis2": {
         "domain": [
          0,
          0.15
         ],
         "mirror": false,
         "showgrid": false,
         "showline": false,
         "showticklabels": false,
         "ticks": "",
         "zeroline": false
        },
        "yaxis": {
         "domain": [
          0,
          0.85
         ],
         "mirror": false,
         "rangemode": "tozero",
         "showgrid": false,
         "showline": false,
         "showticklabels": false,
         "ticks": "",
         "ticktext": [
          "TertOctyl",
          "Cyclohexylmethyl",
          "nDodecyl",
          "nHexyl",
          "IPentyl",
          "n-BuNH3I",
          "NPropyl",
          "iButyl",
          "neoPentyl",
          "tButyl",
          "iPropyl",
          "Diisopropyl",
          "Diethyl",
          "NNDiethylpropane13di",
          "MeNH3I",
          "FormamidiniumIodide",
          "GnNH3I",
          "ImidazoliumIodide",
          "4FluoroPhenyl",
          "Phenyl",
          "4MethoxyPhenyl",
          "4methoxyphenethyl",
          "PhEtNH3I",
          "4FluoroPhenethyl",
          "Benzyl",
          "4TrifluoromethylBenzyl",
          "4TrifluoromethylPhenyl"
         ],
         "tickvals": [
          5,
          15,
          25,
          35,
          45,
          55,
          65,
          75,
          85,
          95,
          105,
          115,
          125,
          135,
          145,
          155,
          165,
          175,
          185,
          195,
          205,
          215,
          225,
          235,
          245,
          255,
          265
         ],
         "type": "linear",
         "zeroline": false
        },
        "yaxis2": {
         "domain": [
          0.825,
          0.975
         ],
         "mirror": false,
         "showgrid": false,
         "showline": false,
         "showticklabels": false,
         "ticks": "",
         "zeroline": false
        }
       }
      }
     },
     "metadata": {}
    }
   ],
   "metadata": {}
  },
  {
   "cell_type": "code",
   "execution_count": 38,
   "source": [
    "similarity_tanimoto = calculate_amine_fingerprint_distance(amines_smiles, abb_amines_names, 'Dice')\n",
    "plot_heatmap_plotly(similarity_tanimoto, abb_amines_names, 'Similaridad Aminas', 'centroid', 'Coff Dice')\n"
   ],
   "outputs": [
    {
     "output_type": "display_data",
     "data": {
      "text/html": [
       "<div>                            <div id=\"07ebb698-2b5f-44f2-a646-e51b80cd45e3\" class=\"plotly-graph-div\" style=\"height:800px; width:800px;\"></div>            <script type=\"text/javascript\">                require([\"plotly\"], function(Plotly) {                    window.PLOTLYENV=window.PLOTLYENV || {};                                    if (document.getElementById(\"07ebb698-2b5f-44f2-a646-e51b80cd45e3\")) {                    Plotly.newPlot(                        \"07ebb698-2b5f-44f2-a646-e51b80cd45e3\",                        [{\"hoverinfo\":\"text\",\"marker\":{\"color\":\"rgb(61,153,112)\"},\"mode\":\"lines\",\"type\":\"scatter\",\"x\":[15.0,15.0,25.0,25.0],\"xaxis\":\"x\",\"y\":[0.0,0.421471436250285,0.421471436250285,0.0],\"yaxis\":\"y2\"},{\"hoverinfo\":\"text\",\"marker\":{\"color\":\"rgb(61,153,112)\"},\"mode\":\"lines\",\"type\":\"scatter\",\"x\":[5.0,5.0,20.0,20.0],\"xaxis\":\"x\",\"y\":[0.0,0.6780605239039653,0.6780605239039653,0.421471436250285],\"yaxis\":\"y2\"},{\"hoverinfo\":\"text\",\"marker\":{\"color\":\"rgb(61,153,112)\"},\"mode\":\"lines\",\"type\":\"scatter\",\"x\":[45.0,45.0,55.0,55.0],\"xaxis\":\"x\",\"y\":[0.0,0.6355014648767577,0.6355014648767577,0.0],\"yaxis\":\"y2\"},{\"hoverinfo\":\"text\",\"marker\":{\"color\":\"rgb(61,153,112)\"},\"mode\":\"lines\",\"type\":\"scatter\",\"x\":[35.0,35.0,50.0,50.0],\"xaxis\":\"x\",\"y\":[0.0,0.7700258752710896,0.7700258752710896,0.6355014648767577],\"yaxis\":\"y2\"},{\"hoverinfo\":\"text\",\"marker\":{\"color\":\"rgb(61,153,112)\"},\"mode\":\"lines\",\"type\":\"scatter\",\"x\":[12.5,12.5,42.5,42.5],\"xaxis\":\"x\",\"y\":[0.6780605239039653,0.9425806490281506,0.9425806490281506,0.7700258752710896],\"yaxis\":\"y2\"},{\"hoverinfo\":\"text\",\"marker\":{\"color\":\"rgb(61,153,112)\"},\"mode\":\"lines\",\"type\":\"scatter\",\"x\":[65.0,65.0,75.0,75.0],\"xaxis\":\"x\",\"y\":[0.0,0.5418597561829395,0.5418597561829395,0.0],\"yaxis\":\"y2\"},{\"hoverinfo\":\"text\",\"marker\":{\"color\":\"rgb(61,153,112)\"},\"mode\":\"lines\",\"type\":\"scatter\",\"x\":[70.0,70.0,85.0,85.0],\"xaxis\":\"x\",\"y\":[0.5418597561829395,0.8345404984224987,0.8345404984224987,0.0],\"yaxis\":\"y2\"},{\"hoverinfo\":\"text\",\"marker\":{\"color\":\"rgb(61,153,112)\"},\"mode\":\"lines\",\"type\":\"scatter\",\"x\":[27.5,27.5,77.5,77.5],\"xaxis\":\"x\",\"y\":[0.9425806490281506,1.152409971029271,1.152409971029271,0.8345404984224987],\"yaxis\":\"y2\"},{\"hoverinfo\":\"text\",\"marker\":{\"color\":\"rgb(255,65,54)\"},\"mode\":\"lines\",\"type\":\"scatter\",\"x\":[105.0,105.0,115.0,115.0],\"xaxis\":\"x\",\"y\":[0.0,0.40709068539639925,0.40709068539639925,0.0],\"yaxis\":\"y2\"},{\"hoverinfo\":\"text\",\"marker\":{\"color\":\"rgb(255,65,54)\"},\"mode\":\"lines\",\"type\":\"scatter\",\"x\":[110.0,110.0,125.0,125.0],\"xaxis\":\"x\",\"y\":[0.40709068539639925,0.9286433555935595,0.9286433555935595,0.0],\"yaxis\":\"y2\"},{\"hoverinfo\":\"text\",\"marker\":{\"color\":\"rgb(255,65,54)\"},\"mode\":\"lines\",\"type\":\"scatter\",\"x\":[95.0,95.0,117.5,117.5],\"xaxis\":\"x\",\"y\":[0.0,1.1526611325502123,1.1526611325502123,0.9286433555935595],\"yaxis\":\"y2\"},{\"hoverinfo\":\"text\",\"marker\":{\"color\":\"rgb(35,205,205)\"},\"mode\":\"lines\",\"type\":\"scatter\",\"x\":[145.0,145.0,155.0,155.0],\"xaxis\":\"x\",\"y\":[0.0,0.4210132216931307,0.4210132216931307,0.0],\"yaxis\":\"y2\"},{\"hoverinfo\":\"text\",\"marker\":{\"color\":\"rgb(35,205,205)\"},\"mode\":\"lines\",\"type\":\"scatter\",\"x\":[165.0,165.0,175.0,175.0],\"xaxis\":\"x\",\"y\":[0.0,0.36449703622176344,0.36449703622176344,0.0],\"yaxis\":\"y2\"},{\"hoverinfo\":\"text\",\"marker\":{\"color\":\"rgb(35,205,205)\"},\"mode\":\"lines\",\"type\":\"scatter\",\"x\":[185.0,185.0,195.0,195.0],\"xaxis\":\"x\",\"y\":[0.0,0.30482035746975644,0.30482035746975644,0.0],\"yaxis\":\"y2\"},{\"hoverinfo\":\"text\",\"marker\":{\"color\":\"rgb(35,205,205)\"},\"mode\":\"lines\",\"type\":\"scatter\",\"x\":[190.0,190.0,205.0,205.0],\"xaxis\":\"x\",\"y\":[0.30482035746975644,0.4855786847149399,0.4855786847149399,0.0],\"yaxis\":\"y2\"},{\"hoverinfo\":\"text\",\"marker\":{\"color\":\"rgb(35,205,205)\"},\"mode\":\"lines\",\"type\":\"scatter\",\"x\":[215.0,215.0,225.0,225.0],\"xaxis\":\"x\",\"y\":[0.0,0.413233428405084,0.413233428405084,0.0],\"yaxis\":\"y2\"},{\"hoverinfo\":\"text\",\"marker\":{\"color\":\"rgb(35,205,205)\"},\"mode\":\"lines\",\"type\":\"scatter\",\"x\":[197.5,197.5,220.0,220.0],\"xaxis\":\"x\",\"y\":[0.4855786847149399,0.5369120041228641,0.5369120041228641,0.413233428405084],\"yaxis\":\"y2\"},{\"hoverinfo\":\"text\",\"marker\":{\"color\":\"rgb(35,205,205)\"},\"mode\":\"lines\",\"type\":\"scatter\",\"x\":[170.0,170.0,208.75,208.75],\"xaxis\":\"x\",\"y\":[0.36449703622176344,0.6247769700534633,0.6247769700534633,0.5369120041228641],\"yaxis\":\"y2\"},{\"hoverinfo\":\"text\",\"marker\":{\"color\":\"rgb(35,205,205)\"},\"mode\":\"lines\",\"type\":\"scatter\",\"x\":[150.0,150.0,189.375,189.375],\"xaxis\":\"x\",\"y\":[0.4210132216931307,0.9605511900859811,0.9605511900859811,0.6247769700534633],\"yaxis\":\"y2\"},{\"hoverinfo\":\"text\",\"marker\":{\"color\":\"rgb(35,205,205)\"},\"mode\":\"lines\",\"type\":\"scatter\",\"x\":[235.0,235.0,245.0,245.0],\"xaxis\":\"x\",\"y\":[0.0,0.3006972413927,0.3006972413927,0.0],\"yaxis\":\"y2\"},{\"hoverinfo\":\"text\",\"marker\":{\"color\":\"rgb(35,205,205)\"},\"mode\":\"lines\",\"type\":\"scatter\",\"x\":[240.0,240.0,255.0,255.0],\"xaxis\":\"x\",\"y\":[0.3006972413927,0.8370636797394464,0.8370636797394464,0.0],\"yaxis\":\"y2\"},{\"hoverinfo\":\"text\",\"marker\":{\"color\":\"rgb(35,205,205)\"},\"mode\":\"lines\",\"type\":\"scatter\",\"x\":[247.5,247.5,265.0,265.0],\"xaxis\":\"x\",\"y\":[0.8370636797394464,0.9683791911530568,0.9683791911530568,0.0],\"yaxis\":\"y2\"},{\"hoverinfo\":\"text\",\"marker\":{\"color\":\"rgb(35,205,205)\"},\"mode\":\"lines\",\"type\":\"scatter\",\"x\":[169.6875,169.6875,256.25,256.25],\"xaxis\":\"x\",\"y\":[0.9605511900859811,0.9477032553195635,0.9477032553195635,0.9683791911530568],\"yaxis\":\"y2\"},{\"hoverinfo\":\"text\",\"marker\":{\"color\":\"rgb(35,205,205)\"},\"mode\":\"lines\",\"type\":\"scatter\",\"x\":[135.0,135.0,212.96875,212.96875],\"xaxis\":\"x\",\"y\":[0.0,1.1138455317973013,1.1138455317973013,0.9477032553195635],\"yaxis\":\"y2\"},{\"hoverinfo\":\"text\",\"marker\":{\"color\":\"rgb(0,116,217)\"},\"mode\":\"lines\",\"type\":\"scatter\",\"x\":[106.25,106.25,173.984375,173.984375],\"xaxis\":\"x\",\"y\":[1.1526611325502123,1.6571582445821926,1.6571582445821926,1.1138455317973013],\"yaxis\":\"y2\"},{\"hoverinfo\":\"text\",\"marker\":{\"color\":\"rgb(0,116,217)\"},\"mode\":\"lines\",\"type\":\"scatter\",\"x\":[52.5,52.5,140.1171875,140.1171875],\"xaxis\":\"x\",\"y\":[1.152409971029271,1.9784151483978178,1.9784151483978178,1.6571582445821926],\"yaxis\":\"y2\"},{\"hoverinfo\":\"text\",\"marker\":{\"color\":\"rgb(61,153,112)\"},\"mode\":\"lines\",\"type\":\"scatter\",\"x\":[-0.0,-0.421471436250285,-0.421471436250285,-0.0],\"xaxis\":\"x2\",\"y\":[15.0,15.0,25.0,25.0],\"yaxis\":\"y\"},{\"hoverinfo\":\"text\",\"marker\":{\"color\":\"rgb(61,153,112)\"},\"mode\":\"lines\",\"type\":\"scatter\",\"x\":[-0.0,-0.6780605239039653,-0.6780605239039653,-0.421471436250285],\"xaxis\":\"x2\",\"y\":[5.0,5.0,20.0,20.0],\"yaxis\":\"y\"},{\"hoverinfo\":\"text\",\"marker\":{\"color\":\"rgb(61,153,112)\"},\"mode\":\"lines\",\"type\":\"scatter\",\"x\":[-0.0,-0.6355014648767577,-0.6355014648767577,-0.0],\"xaxis\":\"x2\",\"y\":[45.0,45.0,55.0,55.0],\"yaxis\":\"y\"},{\"hoverinfo\":\"text\",\"marker\":{\"color\":\"rgb(61,153,112)\"},\"mode\":\"lines\",\"type\":\"scatter\",\"x\":[-0.0,-0.7700258752710896,-0.7700258752710896,-0.6355014648767577],\"xaxis\":\"x2\",\"y\":[35.0,35.0,50.0,50.0],\"yaxis\":\"y\"},{\"hoverinfo\":\"text\",\"marker\":{\"color\":\"rgb(61,153,112)\"},\"mode\":\"lines\",\"type\":\"scatter\",\"x\":[-0.6780605239039653,-0.9425806490281506,-0.9425806490281506,-0.7700258752710896],\"xaxis\":\"x2\",\"y\":[12.5,12.5,42.5,42.5],\"yaxis\":\"y\"},{\"hoverinfo\":\"text\",\"marker\":{\"color\":\"rgb(61,153,112)\"},\"mode\":\"lines\",\"type\":\"scatter\",\"x\":[-0.0,-0.5418597561829395,-0.5418597561829395,-0.0],\"xaxis\":\"x2\",\"y\":[65.0,65.0,75.0,75.0],\"yaxis\":\"y\"},{\"hoverinfo\":\"text\",\"marker\":{\"color\":\"rgb(61,153,112)\"},\"mode\":\"lines\",\"type\":\"scatter\",\"x\":[-0.5418597561829395,-0.8345404984224987,-0.8345404984224987,-0.0],\"xaxis\":\"x2\",\"y\":[70.0,70.0,85.0,85.0],\"yaxis\":\"y\"},{\"hoverinfo\":\"text\",\"marker\":{\"color\":\"rgb(61,153,112)\"},\"mode\":\"lines\",\"type\":\"scatter\",\"x\":[-0.9425806490281506,-1.152409971029271,-1.152409971029271,-0.8345404984224987],\"xaxis\":\"x2\",\"y\":[27.5,27.5,77.5,77.5],\"yaxis\":\"y\"},{\"hoverinfo\":\"text\",\"marker\":{\"color\":\"rgb(255,65,54)\"},\"mode\":\"lines\",\"type\":\"scatter\",\"x\":[-0.0,-0.40709068539639925,-0.40709068539639925,-0.0],\"xaxis\":\"x2\",\"y\":[105.0,105.0,115.0,115.0],\"yaxis\":\"y\"},{\"hoverinfo\":\"text\",\"marker\":{\"color\":\"rgb(255,65,54)\"},\"mode\":\"lines\",\"type\":\"scatter\",\"x\":[-0.40709068539639925,-0.9286433555935595,-0.9286433555935595,-0.0],\"xaxis\":\"x2\",\"y\":[110.0,110.0,125.0,125.0],\"yaxis\":\"y\"},{\"hoverinfo\":\"text\",\"marker\":{\"color\":\"rgb(255,65,54)\"},\"mode\":\"lines\",\"type\":\"scatter\",\"x\":[-0.0,-1.1526611325502123,-1.1526611325502123,-0.9286433555935595],\"xaxis\":\"x2\",\"y\":[95.0,95.0,117.5,117.5],\"yaxis\":\"y\"},{\"hoverinfo\":\"text\",\"marker\":{\"color\":\"rgb(35,205,205)\"},\"mode\":\"lines\",\"type\":\"scatter\",\"x\":[-0.0,-0.4210132216931307,-0.4210132216931307,-0.0],\"xaxis\":\"x2\",\"y\":[145.0,145.0,155.0,155.0],\"yaxis\":\"y\"},{\"hoverinfo\":\"text\",\"marker\":{\"color\":\"rgb(35,205,205)\"},\"mode\":\"lines\",\"type\":\"scatter\",\"x\":[-0.0,-0.36449703622176344,-0.36449703622176344,-0.0],\"xaxis\":\"x2\",\"y\":[165.0,165.0,175.0,175.0],\"yaxis\":\"y\"},{\"hoverinfo\":\"text\",\"marker\":{\"color\":\"rgb(35,205,205)\"},\"mode\":\"lines\",\"type\":\"scatter\",\"x\":[-0.0,-0.30482035746975644,-0.30482035746975644,-0.0],\"xaxis\":\"x2\",\"y\":[185.0,185.0,195.0,195.0],\"yaxis\":\"y\"},{\"hoverinfo\":\"text\",\"marker\":{\"color\":\"rgb(35,205,205)\"},\"mode\":\"lines\",\"type\":\"scatter\",\"x\":[-0.30482035746975644,-0.4855786847149399,-0.4855786847149399,-0.0],\"xaxis\":\"x2\",\"y\":[190.0,190.0,205.0,205.0],\"yaxis\":\"y\"},{\"hoverinfo\":\"text\",\"marker\":{\"color\":\"rgb(35,205,205)\"},\"mode\":\"lines\",\"type\":\"scatter\",\"x\":[-0.0,-0.413233428405084,-0.413233428405084,-0.0],\"xaxis\":\"x2\",\"y\":[215.0,215.0,225.0,225.0],\"yaxis\":\"y\"},{\"hoverinfo\":\"text\",\"marker\":{\"color\":\"rgb(35,205,205)\"},\"mode\":\"lines\",\"type\":\"scatter\",\"x\":[-0.4855786847149399,-0.5369120041228641,-0.5369120041228641,-0.413233428405084],\"xaxis\":\"x2\",\"y\":[197.5,197.5,220.0,220.0],\"yaxis\":\"y\"},{\"hoverinfo\":\"text\",\"marker\":{\"color\":\"rgb(35,205,205)\"},\"mode\":\"lines\",\"type\":\"scatter\",\"x\":[-0.36449703622176344,-0.6247769700534633,-0.6247769700534633,-0.5369120041228641],\"xaxis\":\"x2\",\"y\":[170.0,170.0,208.75,208.75],\"yaxis\":\"y\"},{\"hoverinfo\":\"text\",\"marker\":{\"color\":\"rgb(35,205,205)\"},\"mode\":\"lines\",\"type\":\"scatter\",\"x\":[-0.4210132216931307,-0.9605511900859811,-0.9605511900859811,-0.6247769700534633],\"xaxis\":\"x2\",\"y\":[150.0,150.0,189.375,189.375],\"yaxis\":\"y\"},{\"hoverinfo\":\"text\",\"marker\":{\"color\":\"rgb(35,205,205)\"},\"mode\":\"lines\",\"type\":\"scatter\",\"x\":[-0.0,-0.3006972413927,-0.3006972413927,-0.0],\"xaxis\":\"x2\",\"y\":[235.0,235.0,245.0,245.0],\"yaxis\":\"y\"},{\"hoverinfo\":\"text\",\"marker\":{\"color\":\"rgb(35,205,205)\"},\"mode\":\"lines\",\"type\":\"scatter\",\"x\":[-0.3006972413927,-0.8370636797394464,-0.8370636797394464,-0.0],\"xaxis\":\"x2\",\"y\":[240.0,240.0,255.0,255.0],\"yaxis\":\"y\"},{\"hoverinfo\":\"text\",\"marker\":{\"color\":\"rgb(35,205,205)\"},\"mode\":\"lines\",\"type\":\"scatter\",\"x\":[-0.8370636797394464,-0.9683791911530568,-0.9683791911530568,-0.0],\"xaxis\":\"x2\",\"y\":[247.5,247.5,265.0,265.0],\"yaxis\":\"y\"},{\"hoverinfo\":\"text\",\"marker\":{\"color\":\"rgb(35,205,205)\"},\"mode\":\"lines\",\"type\":\"scatter\",\"x\":[-0.9605511900859811,-0.9477032553195635,-0.9477032553195635,-0.9683791911530568],\"xaxis\":\"x2\",\"y\":[169.6875,169.6875,256.25,256.25],\"yaxis\":\"y\"},{\"hoverinfo\":\"text\",\"marker\":{\"color\":\"rgb(35,205,205)\"},\"mode\":\"lines\",\"type\":\"scatter\",\"x\":[-0.0,-1.1138455317973013,-1.1138455317973013,-0.9477032553195635],\"xaxis\":\"x2\",\"y\":[135.0,135.0,212.96875,212.96875],\"yaxis\":\"y\"},{\"hoverinfo\":\"text\",\"marker\":{\"color\":\"rgb(0,116,217)\"},\"mode\":\"lines\",\"type\":\"scatter\",\"x\":[-1.1526611325502123,-1.6571582445821926,-1.6571582445821926,-1.1138455317973013],\"xaxis\":\"x2\",\"y\":[106.25,106.25,173.984375,173.984375],\"yaxis\":\"y\"},{\"hoverinfo\":\"text\",\"marker\":{\"color\":\"rgb(0,116,217)\"},\"mode\":\"lines\",\"type\":\"scatter\",\"x\":[-1.152409971029271,-1.9784151483978178,-1.9784151483978178,-1.6571582445821926],\"xaxis\":\"x2\",\"y\":[52.5,52.5,140.1171875,140.1171875],\"yaxis\":\"y\"},{\"colorbar\":{\"title\":{\"text\":\"Coff Dice\"}},\"type\":\"heatmap\",\"x\":[5.0,15.0,25.0,35.0,45.0,55.0,65.0,75.0,85.0,95.0,105.0,115.0,125.0,135.0,145.0,155.0,165.0,175.0,185.0,195.0,205.0,215.0,225.0,235.0,245.0,255.0,265.0],\"y\":[5.0,15.0,25.0,35.0,45.0,55.0,65.0,75.0,85.0,95.0,105.0,115.0,125.0,135.0,145.0,155.0,165.0,175.0,185.0,195.0,205.0,215.0,225.0,235.0,245.0,255.0,265.0],\"z\":[[1.0,0.6831275720164609,0.5853658536585366,0.3783783783783784,0.33003300330033003,0.2983050847457627,0.1440677966101695,0.15151515151515152,0.5093632958801498,0.03076923076923077,0.023529411764705882,0.024096385542168676,0.024691358024691357,0.06862745098039216,0.08139534883720931,0.07734806629834254,0.07058823529411765,0.06896551724137931,0.06741573033707865,0.06896551724137931,0.07058823529411765,0.06896551724137931,0.06666666666666667,0.06593406593406594,0.06382978723404255,0.08411214953271028,0.07476635514018691],[0.6831275720164609,1.0,0.7904761904761904,0.5793103448275863,0.39823008849557523,0.3669724770642202,0.20125786163522014,0.24793388429752067,0.17894736842105263,0.03389830508474576,0.043010752688172046,0.0449438202247191,0.047058823529411764,0.09448818897637795,0.12631578947368421,0.11538461538461539,0.12903225806451613,0.12371134020618557,0.1188118811881188,0.12371134020618557,0.12903225806451613,0.12371134020618557,0.11650485436893204,0.11428571428571428,0.10810810810810811,0.10218978102189781,0.10218978102189781],[0.5853658536585366,0.7904761904761904,1.0,0.455026455026455,0.34074074074074073,0.32061068702290074,0.4039408866995074,0.18181818181818182,0.15384615384615385,0.037037037037037035,0.043795620437956206,0.03007518796992481,0.031007751937984496,0.08187134502923976,0.08633093525179857,0.08108108108108109,0.08759124087591241,0.0851063829787234,0.08275862068965517,0.0851063829787234,0.08759124087591241,0.09929078014184398,0.09523809523809523,0.09395973154362416,0.09032258064516129,0.08839779005524862,0.08839779005524862],[0.3783783783783784,0.5793103448275863,0.455026455026455,1.0,0.6048780487804878,0.39593908629441626,0.2028985507246377,0.26,0.16568047337278108,0.041237113402061855,0.05555555555555555,0.058823529411764705,0.0625,0.03773584905660377,0.05405405405405406,0.04819277108433735,0.05555555555555555,0.05263157894736842,0.05,0.05263157894736842,0.05555555555555555,0.05263157894736842,0.04878048780487805,0.047619047619047616,0.044444444444444446,0.034482758620689655,0.034482758620689655],[0.33003300330033003,0.39823008849557523,0.34074074074074073,0.6048780487804878,1.0,0.6906474820143885,0.1461187214611872,0.16574585635359115,0.168,0.033707865168539325,0.026143790849673203,0.026845637583892617,0.027586206896551724,0.053475935828877004,0.03870967741935484,0.036585365853658534,0.0392156862745098,0.03821656050955414,0.037267080745341616,0.03821656050955414,0.0392156862745098,0.03821656050955414,0.03680981595092025,0.048484848484848485,0.04678362573099415,0.06091370558375635,0.04060913705583756],[0.2983050847457627,0.3669724770642202,0.32061068702290074,0.39593908629441626,0.6906474820143885,1.0,0.3696682464454976,0.4393063583815029,0.35537190082644626,0.03529411764705882,0.013793103448275862,0.014184397163120567,0.014598540145985401,0.055865921787709494,0.027210884353741496,0.02564102564102564,0.013793103448275862,0.013422818791946308,0.013071895424836602,0.013422818791946308,0.013793103448275862,0.013422818791946308,0.012903225806451613,0.025477707006369428,0.024539877300613498,0.05291005291005291,0.021164021164021163],[0.1440677966101695,0.20125786163522014,0.4039408866995074,0.2028985507246377,0.1461187214611872,0.3696682464454976,1.0,0.6666666666666666,0.4262295081967213,0.018018018018018018,0.023255813953488372,0.0,0.0,0.05,0.0,0.0,0.0,0.0,0.0,0.0,0.0,0.0,0.0,0.02040816326530612,0.019230769230769232,0.03076923076923077,0.0],[0.15151515151515152,0.24793388429752067,0.18181818181818182,0.26,0.16574585635359115,0.4393063583815029,0.6666666666666666,1.0,0.5241379310344828,0.0273972602739726,0.0,0.0,0.0,0.024390243902439025,0.0,0.0,0.0,0.0,0.0,0.0,0.0,0.0,0.0,0.03333333333333333,0.030303030303030304,0.043478260869565216,0.0],[0.5093632958801498,0.17894736842105263,0.15384615384615385,0.16568047337278108,0.168,0.35537190082644626,0.4262295081967213,0.5241379310344828,1.0,0.028169014084507043,0.0,0.0,0.0,0.026490066225165563,0.0,0.0,0.0,0.0,0.0,0.0,0.0,0.0,0.0,0.015503875968992248,0.014814814814814815,0.024844720496894408,0.0],[0.03076923076923077,0.03389830508474576,0.037037037037037035,0.041237113402061855,0.033707865168539325,0.03529411764705882,0.018018018018018018,0.0273972602739726,0.028169014084507043,1.0,0.3111111111111111,0.2926829268292683,0.10810810810810811,0.10126582278481013,0.1702127659574468,0.17857142857142858,0.08888888888888889,0.08163265306122448,0.07547169811320754,0.08163265306122448,0.08888888888888889,0.08163265306122448,0.07272727272727272,0.07017543859649122,0.06349206349206349,0.06741573033707865,0.0449438202247191],[0.023529411764705882,0.043010752688172046,0.043795620437956206,0.05555555555555555,0.026143790849673203,0.013793103448275862,0.023255813953488372,0.0,0.0,0.3111111111111111,1.0,0.75,0.3333333333333333,0.07407407407407407,0.18181818181818182,0.12903225806451613,0.2,0.16666666666666666,0.14285714285714285,0.16666666666666666,0.2,0.16666666666666666,0.13333333333333333,0.125,0.10526315789473684,0.0625,0.0625],[0.024096385542168676,0.0449438202247191,0.03007518796992481,0.058823529411764705,0.026845637583892617,0.014184397163120567,0.0,0.0,0.0,0.2926829268292683,0.75,1.0,0.5,0.08,0.2222222222222222,0.14814814814814814,0.25,0.2,0.16666666666666666,0.2,0.25,0.2,0.15384615384615385,0.14285714285714285,0.11764705882352941,0.06666666666666667,0.06666666666666667],[0.024691358024691357,0.047058823529411764,0.031007751937984496,0.0625,0.027586206896551724,0.014598540145985401,0.0,0.0,0.0,0.10810810810810811,0.3333333333333333,0.5,1.0,0.08695652173913043,0.2857142857142857,0.17391304347826086,0.3333333333333333,0.25,0.2,0.25,0.3333333333333333,0.25,0.18181818181818182,0.16666666666666666,0.13333333333333333,0.07142857142857142,0.07142857142857142],[0.06862745098039216,0.09448818897637795,0.08187134502923976,0.03773584905660377,0.053475935828877004,0.055865921787709494,0.05,0.024390243902439025,0.026490066225165563,0.10126582278481013,0.07407407407407407,0.08,0.08695652173913043,1.0,0.42857142857142855,0.4307692307692308,0.3333333333333333,0.3448275862068966,0.3548387096774194,0.3448275862068966,0.37037037037037035,0.3448275862068966,0.3125,0.30303030303030304,0.2777777777777778,0.20408163265306123,0.24489795918367346],[0.08139534883720931,0.12631578947368421,0.08633093525179857,0.05405405405405406,0.03870967741935484,0.027210884353741496,0.0,0.0,0.0,0.1702127659574468,0.18181818181818182,0.2222222222222222,0.2857142857142857,0.42857142857142855,1.0,0.7272727272727273,0.6363636363636364,0.5384615384615384,0.4,0.46153846153846156,0.5454545454545454,0.46153846153846156,0.375,0.35294117647058826,0.3,0.18181818181818182,0.21212121212121213],[0.07734806629834254,0.11538461538461539,0.08108108108108109,0.04819277108433735,0.036585365853658534,0.02564102564102564,0.0,0.0,0.0,0.17857142857142858,0.12903225806451613,0.14814814814814814,0.17391304347826086,0.4307692307692308,0.7272727272727273,1.0,0.6451612903225806,0.5714285714285714,0.41025641025641024,0.45714285714285713,0.5161290322580645,0.45714285714285713,0.3902439024390244,0.37209302325581395,0.32653061224489793,0.21333333333333335,0.26666666666666666],[0.07058823529411765,0.12903225806451613,0.08759124087591241,0.05555555555555555,0.0392156862745098,0.013793103448275862,0.0,0.0,0.0,0.08888888888888889,0.2,0.25,0.3333333333333333,0.3333333333333333,0.6363636363636364,0.6451612903225806,1.0,0.8333333333333334,0.5714285714285714,0.6666666666666666,0.8,0.6666666666666666,0.5333333333333333,0.5,0.42105263157894735,0.25,0.3125],[0.06896551724137931,0.12371134020618557,0.0851063829787234,0.05263157894736842,0.03821656050955414,0.013422818791946308,0.0,0.0,0.0,0.08163265306122448,0.16666666666666666,0.2,0.25,0.3448275862068966,0.5384615384615384,0.5714285714285714,0.8333333333333334,1.0,0.625,0.7142857142857143,0.6666666666666666,0.5714285714285714,0.5882352941176471,0.4444444444444444,0.38095238095238093,0.29411764705882354,0.4117647058823529],[0.06741573033707865,0.1188118811881188,0.08275862068965517,0.05,0.037267080745341616,0.013071895424836602,0.0,0.0,0.0,0.07547169811320754,0.14285714285714285,0.16666666666666666,0.2,0.3548387096774194,0.4,0.41025641025641024,0.5714285714285714,0.625,1.0,0.875,0.7142857142857143,0.625,0.631578947368421,0.5,0.43478260869565216,0.3888888888888889,0.3888888888888889],[0.06896551724137931,0.12371134020618557,0.0851063829787234,0.05263157894736842,0.03821656050955414,0.013422818791946308,0.0,0.0,0.0,0.08163265306122448,0.16666666666666666,0.2,0.25,0.3448275862068966,0.46153846153846156,0.45714285714285713,0.6666666666666666,0.7142857142857143,0.875,1.0,0.8333333333333334,0.7142857142857143,0.7058823529411765,0.5555555555555556,0.47619047619047616,0.4117647058823529,0.35294117647058826],[0.07058823529411765,0.12903225806451613,0.08759124087591241,0.05555555555555555,0.0392156862745098,0.013793103448275862,0.0,0.0,0.0,0.08888888888888889,0.2,0.25,0.3333333333333333,0.37037037037037035,0.5454545454545454,0.5161290322580645,0.8,0.6666666666666666,0.7142857142857143,0.8333333333333334,1.0,0.8333333333333334,0.6666666666666666,0.625,0.5263157894736842,0.3125,0.3125],[0.06896551724137931,0.12371134020618557,0.09929078014184398,0.05263157894736842,0.03821656050955414,0.013422818791946308,0.0,0.0,0.0,0.08163265306122448,0.16666666666666666,0.2,0.25,0.3448275862068966,0.46153846153846156,0.45714285714285713,0.6666666666666666,0.5714285714285714,0.625,0.7142857142857143,0.8333333333333334,1.0,0.8235294117647058,0.7777777777777778,0.6666666666666666,0.4117647058823529,0.4117647058823529],[0.06666666666666667,0.11650485436893204,0.09523809523809523,0.04878048780487805,0.03680981595092025,0.012903225806451613,0.0,0.0,0.0,0.07272727272727272,0.13333333333333333,0.15384615384615385,0.18181818181818182,0.3125,0.375,0.3902439024390244,0.5333333333333333,0.5882352941176471,0.631578947368421,0.7058823529411765,0.6666666666666666,0.8235294117647058,1.0,0.6666666666666666,0.5833333333333334,0.4864864864864865,0.5405405405405406],[0.06593406593406594,0.11428571428571428,0.09395973154362416,0.047619047619047616,0.048484848484848485,0.025477707006369428,0.02040816326530612,0.03333333333333333,0.015503875968992248,0.07017543859649122,0.125,0.14285714285714285,0.16666666666666666,0.30303030303030304,0.35294117647058826,0.37209302325581395,0.5,0.4444444444444444,0.5,0.5555555555555556,0.625,0.7777777777777778,0.6666666666666666,1.0,0.88,0.5789473684210527,0.42105263157894735],[0.06382978723404255,0.10810810810810811,0.09032258064516129,0.044444444444444446,0.04678362573099415,0.024539877300613498,0.019230769230769232,0.030303030303030304,0.014814814814814815,0.06349206349206349,0.10526315789473684,0.11764705882352941,0.13333333333333333,0.2777777777777778,0.3,0.32653061224489793,0.42105263157894735,0.38095238095238093,0.43478260869565216,0.47619047619047616,0.5263157894736842,0.6666666666666666,0.5833333333333334,0.88,1.0,0.6341463414634146,0.3902439024390244],[0.08411214953271028,0.10218978102189781,0.08839779005524862,0.034482758620689655,0.06091370558375635,0.05291005291005291,0.03076923076923077,0.043478260869565216,0.024844720496894408,0.06741573033707865,0.0625,0.06666666666666667,0.07142857142857142,0.20408163265306123,0.18181818181818182,0.21333333333333335,0.25,0.29411764705882354,0.3888888888888889,0.4117647058823529,0.3125,0.4117647058823529,0.4864864864864865,0.5789473684210527,0.6341463414634146,1.0,0.4074074074074074],[0.07476635514018691,0.10218978102189781,0.08839779005524862,0.034482758620689655,0.04060913705583756,0.021164021164021163,0.0,0.0,0.0,0.0449438202247191,0.0625,0.06666666666666667,0.07142857142857142,0.24489795918367346,0.21212121212121213,0.26666666666666666,0.3125,0.4117647058823529,0.3888888888888889,0.35294117647058826,0.3125,0.4117647058823529,0.5405405405405406,0.42105263157894735,0.3902439024390244,0.4074074074074074,1.0]]}],                        {\"autosize\":false,\"height\":800,\"hovermode\":\"closest\",\"showlegend\":false,\"template\":{\"data\":{\"bar\":[{\"error_x\":{\"color\":\"#2a3f5f\"},\"error_y\":{\"color\":\"#2a3f5f\"},\"marker\":{\"line\":{\"color\":\"#E5ECF6\",\"width\":0.5},\"pattern\":{\"fillmode\":\"overlay\",\"size\":10,\"solidity\":0.2}},\"type\":\"bar\"}],\"barpolar\":[{\"marker\":{\"line\":{\"color\":\"#E5ECF6\",\"width\":0.5},\"pattern\":{\"fillmode\":\"overlay\",\"size\":10,\"solidity\":0.2}},\"type\":\"barpolar\"}],\"carpet\":[{\"aaxis\":{\"endlinecolor\":\"#2a3f5f\",\"gridcolor\":\"white\",\"linecolor\":\"white\",\"minorgridcolor\":\"white\",\"startlinecolor\":\"#2a3f5f\"},\"baxis\":{\"endlinecolor\":\"#2a3f5f\",\"gridcolor\":\"white\",\"linecolor\":\"white\",\"minorgridcolor\":\"white\",\"startlinecolor\":\"#2a3f5f\"},\"type\":\"carpet\"}],\"choropleth\":[{\"colorbar\":{\"outlinewidth\":0,\"ticks\":\"\"},\"type\":\"choropleth\"}],\"contour\":[{\"colorbar\":{\"outlinewidth\":0,\"ticks\":\"\"},\"colorscale\":[[0.0,\"#0d0887\"],[0.1111111111111111,\"#46039f\"],[0.2222222222222222,\"#7201a8\"],[0.3333333333333333,\"#9c179e\"],[0.4444444444444444,\"#bd3786\"],[0.5555555555555556,\"#d8576b\"],[0.6666666666666666,\"#ed7953\"],[0.7777777777777778,\"#fb9f3a\"],[0.8888888888888888,\"#fdca26\"],[1.0,\"#f0f921\"]],\"type\":\"contour\"}],\"contourcarpet\":[{\"colorbar\":{\"outlinewidth\":0,\"ticks\":\"\"},\"type\":\"contourcarpet\"}],\"heatmap\":[{\"colorbar\":{\"outlinewidth\":0,\"ticks\":\"\"},\"colorscale\":[[0.0,\"#0d0887\"],[0.1111111111111111,\"#46039f\"],[0.2222222222222222,\"#7201a8\"],[0.3333333333333333,\"#9c179e\"],[0.4444444444444444,\"#bd3786\"],[0.5555555555555556,\"#d8576b\"],[0.6666666666666666,\"#ed7953\"],[0.7777777777777778,\"#fb9f3a\"],[0.8888888888888888,\"#fdca26\"],[1.0,\"#f0f921\"]],\"type\":\"heatmap\"}],\"heatmapgl\":[{\"colorbar\":{\"outlinewidth\":0,\"ticks\":\"\"},\"colorscale\":[[0.0,\"#0d0887\"],[0.1111111111111111,\"#46039f\"],[0.2222222222222222,\"#7201a8\"],[0.3333333333333333,\"#9c179e\"],[0.4444444444444444,\"#bd3786\"],[0.5555555555555556,\"#d8576b\"],[0.6666666666666666,\"#ed7953\"],[0.7777777777777778,\"#fb9f3a\"],[0.8888888888888888,\"#fdca26\"],[1.0,\"#f0f921\"]],\"type\":\"heatmapgl\"}],\"histogram\":[{\"marker\":{\"pattern\":{\"fillmode\":\"overlay\",\"size\":10,\"solidity\":0.2}},\"type\":\"histogram\"}],\"histogram2d\":[{\"colorbar\":{\"outlinewidth\":0,\"ticks\":\"\"},\"colorscale\":[[0.0,\"#0d0887\"],[0.1111111111111111,\"#46039f\"],[0.2222222222222222,\"#7201a8\"],[0.3333333333333333,\"#9c179e\"],[0.4444444444444444,\"#bd3786\"],[0.5555555555555556,\"#d8576b\"],[0.6666666666666666,\"#ed7953\"],[0.7777777777777778,\"#fb9f3a\"],[0.8888888888888888,\"#fdca26\"],[1.0,\"#f0f921\"]],\"type\":\"histogram2d\"}],\"histogram2dcontour\":[{\"colorbar\":{\"outlinewidth\":0,\"ticks\":\"\"},\"colorscale\":[[0.0,\"#0d0887\"],[0.1111111111111111,\"#46039f\"],[0.2222222222222222,\"#7201a8\"],[0.3333333333333333,\"#9c179e\"],[0.4444444444444444,\"#bd3786\"],[0.5555555555555556,\"#d8576b\"],[0.6666666666666666,\"#ed7953\"],[0.7777777777777778,\"#fb9f3a\"],[0.8888888888888888,\"#fdca26\"],[1.0,\"#f0f921\"]],\"type\":\"histogram2dcontour\"}],\"mesh3d\":[{\"colorbar\":{\"outlinewidth\":0,\"ticks\":\"\"},\"type\":\"mesh3d\"}],\"parcoords\":[{\"line\":{\"colorbar\":{\"outlinewidth\":0,\"ticks\":\"\"}},\"type\":\"parcoords\"}],\"pie\":[{\"automargin\":true,\"type\":\"pie\"}],\"scatter\":[{\"marker\":{\"colorbar\":{\"outlinewidth\":0,\"ticks\":\"\"}},\"type\":\"scatter\"}],\"scatter3d\":[{\"line\":{\"colorbar\":{\"outlinewidth\":0,\"ticks\":\"\"}},\"marker\":{\"colorbar\":{\"outlinewidth\":0,\"ticks\":\"\"}},\"type\":\"scatter3d\"}],\"scattercarpet\":[{\"marker\":{\"colorbar\":{\"outlinewidth\":0,\"ticks\":\"\"}},\"type\":\"scattercarpet\"}],\"scattergeo\":[{\"marker\":{\"colorbar\":{\"outlinewidth\":0,\"ticks\":\"\"}},\"type\":\"scattergeo\"}],\"scattergl\":[{\"marker\":{\"colorbar\":{\"outlinewidth\":0,\"ticks\":\"\"}},\"type\":\"scattergl\"}],\"scattermapbox\":[{\"marker\":{\"colorbar\":{\"outlinewidth\":0,\"ticks\":\"\"}},\"type\":\"scattermapbox\"}],\"scatterpolar\":[{\"marker\":{\"colorbar\":{\"outlinewidth\":0,\"ticks\":\"\"}},\"type\":\"scatterpolar\"}],\"scatterpolargl\":[{\"marker\":{\"colorbar\":{\"outlinewidth\":0,\"ticks\":\"\"}},\"type\":\"scatterpolargl\"}],\"scatterternary\":[{\"marker\":{\"colorbar\":{\"outlinewidth\":0,\"ticks\":\"\"}},\"type\":\"scatterternary\"}],\"surface\":[{\"colorbar\":{\"outlinewidth\":0,\"ticks\":\"\"},\"colorscale\":[[0.0,\"#0d0887\"],[0.1111111111111111,\"#46039f\"],[0.2222222222222222,\"#7201a8\"],[0.3333333333333333,\"#9c179e\"],[0.4444444444444444,\"#bd3786\"],[0.5555555555555556,\"#d8576b\"],[0.6666666666666666,\"#ed7953\"],[0.7777777777777778,\"#fb9f3a\"],[0.8888888888888888,\"#fdca26\"],[1.0,\"#f0f921\"]],\"type\":\"surface\"}],\"table\":[{\"cells\":{\"fill\":{\"color\":\"#EBF0F8\"},\"line\":{\"color\":\"white\"}},\"header\":{\"fill\":{\"color\":\"#C8D4E3\"},\"line\":{\"color\":\"white\"}},\"type\":\"table\"}]},\"layout\":{\"annotationdefaults\":{\"arrowcolor\":\"#2a3f5f\",\"arrowhead\":0,\"arrowwidth\":1},\"autotypenumbers\":\"strict\",\"coloraxis\":{\"colorbar\":{\"outlinewidth\":0,\"ticks\":\"\"}},\"colorscale\":{\"diverging\":[[0,\"#8e0152\"],[0.1,\"#c51b7d\"],[0.2,\"#de77ae\"],[0.3,\"#f1b6da\"],[0.4,\"#fde0ef\"],[0.5,\"#f7f7f7\"],[0.6,\"#e6f5d0\"],[0.7,\"#b8e186\"],[0.8,\"#7fbc41\"],[0.9,\"#4d9221\"],[1,\"#276419\"]],\"sequential\":[[0.0,\"#0d0887\"],[0.1111111111111111,\"#46039f\"],[0.2222222222222222,\"#7201a8\"],[0.3333333333333333,\"#9c179e\"],[0.4444444444444444,\"#bd3786\"],[0.5555555555555556,\"#d8576b\"],[0.6666666666666666,\"#ed7953\"],[0.7777777777777778,\"#fb9f3a\"],[0.8888888888888888,\"#fdca26\"],[1.0,\"#f0f921\"]],\"sequentialminus\":[[0.0,\"#0d0887\"],[0.1111111111111111,\"#46039f\"],[0.2222222222222222,\"#7201a8\"],[0.3333333333333333,\"#9c179e\"],[0.4444444444444444,\"#bd3786\"],[0.5555555555555556,\"#d8576b\"],[0.6666666666666666,\"#ed7953\"],[0.7777777777777778,\"#fb9f3a\"],[0.8888888888888888,\"#fdca26\"],[1.0,\"#f0f921\"]]},\"colorway\":[\"#636efa\",\"#EF553B\",\"#00cc96\",\"#ab63fa\",\"#FFA15A\",\"#19d3f3\",\"#FF6692\",\"#B6E880\",\"#FF97FF\",\"#FECB52\"],\"font\":{\"color\":\"#2a3f5f\"},\"geo\":{\"bgcolor\":\"white\",\"lakecolor\":\"white\",\"landcolor\":\"#E5ECF6\",\"showlakes\":true,\"showland\":true,\"subunitcolor\":\"white\"},\"hoverlabel\":{\"align\":\"left\"},\"hovermode\":\"closest\",\"mapbox\":{\"style\":\"light\"},\"paper_bgcolor\":\"white\",\"plot_bgcolor\":\"#E5ECF6\",\"polar\":{\"angularaxis\":{\"gridcolor\":\"white\",\"linecolor\":\"white\",\"ticks\":\"\"},\"bgcolor\":\"#E5ECF6\",\"radialaxis\":{\"gridcolor\":\"white\",\"linecolor\":\"white\",\"ticks\":\"\"}},\"scene\":{\"xaxis\":{\"backgroundcolor\":\"#E5ECF6\",\"gridcolor\":\"white\",\"gridwidth\":2,\"linecolor\":\"white\",\"showbackground\":true,\"ticks\":\"\",\"zerolinecolor\":\"white\"},\"yaxis\":{\"backgroundcolor\":\"#E5ECF6\",\"gridcolor\":\"white\",\"gridwidth\":2,\"linecolor\":\"white\",\"showbackground\":true,\"ticks\":\"\",\"zerolinecolor\":\"white\"},\"zaxis\":{\"backgroundcolor\":\"#E5ECF6\",\"gridcolor\":\"white\",\"gridwidth\":2,\"linecolor\":\"white\",\"showbackground\":true,\"ticks\":\"\",\"zerolinecolor\":\"white\"}},\"shapedefaults\":{\"line\":{\"color\":\"#2a3f5f\"}},\"ternary\":{\"aaxis\":{\"gridcolor\":\"white\",\"linecolor\":\"white\",\"ticks\":\"\"},\"baxis\":{\"gridcolor\":\"white\",\"linecolor\":\"white\",\"ticks\":\"\"},\"bgcolor\":\"#E5ECF6\",\"caxis\":{\"gridcolor\":\"white\",\"linecolor\":\"white\",\"ticks\":\"\"}},\"title\":{\"x\":0.05},\"xaxis\":{\"automargin\":true,\"gridcolor\":\"white\",\"linecolor\":\"white\",\"ticks\":\"\",\"title\":{\"standoff\":15},\"zerolinecolor\":\"white\",\"zerolinewidth\":2},\"yaxis\":{\"automargin\":true,\"gridcolor\":\"white\",\"linecolor\":\"white\",\"ticks\":\"\",\"title\":{\"standoff\":15},\"zerolinecolor\":\"white\",\"zerolinewidth\":2}}},\"title\":{\"text\":\"Similaridad Aminas\",\"x\":0.55,\"xanchor\":\"center\",\"y\":0.9,\"yanchor\":\"top\"},\"width\":800,\"xaxis\":{\"domain\":[0.15,1],\"mirror\":false,\"rangemode\":\"tozero\",\"showgrid\":false,\"showline\":false,\"showticklabels\":true,\"tickmode\":\"array\",\"ticks\":\"\",\"ticktext\":[\"4methoxyphenethyl\",\"PhEtNH3I\",\"4FluoroPhenethyl\",\"Benzyl\",\"4TrifluoromethylBenzyl\",\"4TrifluoromethylPhenyl\",\"4FluoroPhenyl\",\"Phenyl\",\"4MethoxyPhenyl\",\"ImidazoliumIodide\",\"GnNH3I\",\"FormamidiniumIodide\",\"MeNH3I\",\"NNDiethylpropane13di\",\"Diethyl\",\"Diisopropyl\",\"iPropyl\",\"tButyl\",\"neoPentyl\",\"iButyl\",\"NPropyl\",\"n-BuNH3I\",\"IPentyl\",\"nHexyl\",\"nDodecyl\",\"Cyclohexylmethyl\",\"TertOctyl\"],\"tickvals\":[5.0,15.0,25.0,35.0,45.0,55.0,65.0,75.0,85.0,95.0,105.0,115.0,125.0,135.0,145.0,155.0,165.0,175.0,185.0,195.0,205.0,215.0,225.0,235.0,245.0,255.0,265.0],\"type\":\"linear\",\"zeroline\":false},\"xaxis2\":{\"domain\":[0,0.15],\"mirror\":false,\"showgrid\":false,\"showline\":false,\"showticklabels\":false,\"ticks\":\"\",\"zeroline\":false},\"yaxis\":{\"domain\":[0,0.85],\"mirror\":false,\"rangemode\":\"tozero\",\"showgrid\":false,\"showline\":false,\"showticklabels\":false,\"ticks\":\"\",\"ticktext\":[\"4methoxyphenethyl\",\"PhEtNH3I\",\"4FluoroPhenethyl\",\"Benzyl\",\"4TrifluoromethylBenzyl\",\"4TrifluoromethylPhenyl\",\"4FluoroPhenyl\",\"Phenyl\",\"4MethoxyPhenyl\",\"ImidazoliumIodide\",\"GnNH3I\",\"FormamidiniumIodide\",\"MeNH3I\",\"NNDiethylpropane13di\",\"Diethyl\",\"Diisopropyl\",\"iPropyl\",\"tButyl\",\"neoPentyl\",\"iButyl\",\"NPropyl\",\"n-BuNH3I\",\"IPentyl\",\"nHexyl\",\"nDodecyl\",\"Cyclohexylmethyl\",\"TertOctyl\"],\"tickvals\":[5.0,15.0,25.0,35.0,45.0,55.0,65.0,75.0,85.0,95.0,105.0,115.0,125.0,135.0,145.0,155.0,165.0,175.0,185.0,195.0,205.0,215.0,225.0,235.0,245.0,255.0,265.0],\"type\":\"linear\",\"zeroline\":false},\"yaxis2\":{\"domain\":[0.825,0.975],\"mirror\":false,\"showgrid\":false,\"showline\":false,\"showticklabels\":false,\"ticks\":\"\",\"zeroline\":false}},                        {\"responsive\": true}                    ).then(function(){\n",
       "                            \n",
       "var gd = document.getElementById('07ebb698-2b5f-44f2-a646-e51b80cd45e3');\n",
       "var x = new MutationObserver(function (mutations, observer) {{\n",
       "        var display = window.getComputedStyle(gd).display;\n",
       "        if (!display || display === 'none') {{\n",
       "            console.log([gd, 'removed!']);\n",
       "            Plotly.purge(gd);\n",
       "            observer.disconnect();\n",
       "        }}\n",
       "}});\n",
       "\n",
       "// Listen for the removal of the full notebook cells\n",
       "var notebookContainer = gd.closest('#notebook-container');\n",
       "if (notebookContainer) {{\n",
       "    x.observe(notebookContainer, {childList: true});\n",
       "}}\n",
       "\n",
       "// Listen for the clearing of the current output cell\n",
       "var outputEl = gd.closest('.output');\n",
       "if (outputEl) {{\n",
       "    x.observe(outputEl, {childList: true});\n",
       "}}\n",
       "\n",
       "                        })                };                });            </script>        </div>"
      ],
      "application/vnd.plotly.v1+json": {
       "config": {
        "linkText": "Export to plot.ly",
        "plotlyServerURL": "https://plot.ly",
        "showLink": false
       },
       "data": [
        {
         "hoverinfo": "text",
         "marker": {
          "color": "rgb(61,153,112)"
         },
         "mode": "lines",
         "type": "scatter",
         "x": [
          15,
          15,
          25,
          25
         ],
         "xaxis": "x",
         "y": [
          0,
          0.421471436250285,
          0.421471436250285,
          0
         ],
         "yaxis": "y2"
        },
        {
         "hoverinfo": "text",
         "marker": {
          "color": "rgb(61,153,112)"
         },
         "mode": "lines",
         "type": "scatter",
         "x": [
          5,
          5,
          20,
          20
         ],
         "xaxis": "x",
         "y": [
          0,
          0.6780605239039653,
          0.6780605239039653,
          0.421471436250285
         ],
         "yaxis": "y2"
        },
        {
         "hoverinfo": "text",
         "marker": {
          "color": "rgb(61,153,112)"
         },
         "mode": "lines",
         "type": "scatter",
         "x": [
          45,
          45,
          55,
          55
         ],
         "xaxis": "x",
         "y": [
          0,
          0.6355014648767577,
          0.6355014648767577,
          0
         ],
         "yaxis": "y2"
        },
        {
         "hoverinfo": "text",
         "marker": {
          "color": "rgb(61,153,112)"
         },
         "mode": "lines",
         "type": "scatter",
         "x": [
          35,
          35,
          50,
          50
         ],
         "xaxis": "x",
         "y": [
          0,
          0.7700258752710896,
          0.7700258752710896,
          0.6355014648767577
         ],
         "yaxis": "y2"
        },
        {
         "hoverinfo": "text",
         "marker": {
          "color": "rgb(61,153,112)"
         },
         "mode": "lines",
         "type": "scatter",
         "x": [
          12.5,
          12.5,
          42.5,
          42.5
         ],
         "xaxis": "x",
         "y": [
          0.6780605239039653,
          0.9425806490281506,
          0.9425806490281506,
          0.7700258752710896
         ],
         "yaxis": "y2"
        },
        {
         "hoverinfo": "text",
         "marker": {
          "color": "rgb(61,153,112)"
         },
         "mode": "lines",
         "type": "scatter",
         "x": [
          65,
          65,
          75,
          75
         ],
         "xaxis": "x",
         "y": [
          0,
          0.5418597561829395,
          0.5418597561829395,
          0
         ],
         "yaxis": "y2"
        },
        {
         "hoverinfo": "text",
         "marker": {
          "color": "rgb(61,153,112)"
         },
         "mode": "lines",
         "type": "scatter",
         "x": [
          70,
          70,
          85,
          85
         ],
         "xaxis": "x",
         "y": [
          0.5418597561829395,
          0.8345404984224987,
          0.8345404984224987,
          0
         ],
         "yaxis": "y2"
        },
        {
         "hoverinfo": "text",
         "marker": {
          "color": "rgb(61,153,112)"
         },
         "mode": "lines",
         "type": "scatter",
         "x": [
          27.5,
          27.5,
          77.5,
          77.5
         ],
         "xaxis": "x",
         "y": [
          0.9425806490281506,
          1.152409971029271,
          1.152409971029271,
          0.8345404984224987
         ],
         "yaxis": "y2"
        },
        {
         "hoverinfo": "text",
         "marker": {
          "color": "rgb(255,65,54)"
         },
         "mode": "lines",
         "type": "scatter",
         "x": [
          105,
          105,
          115,
          115
         ],
         "xaxis": "x",
         "y": [
          0,
          0.40709068539639925,
          0.40709068539639925,
          0
         ],
         "yaxis": "y2"
        },
        {
         "hoverinfo": "text",
         "marker": {
          "color": "rgb(255,65,54)"
         },
         "mode": "lines",
         "type": "scatter",
         "x": [
          110,
          110,
          125,
          125
         ],
         "xaxis": "x",
         "y": [
          0.40709068539639925,
          0.9286433555935595,
          0.9286433555935595,
          0
         ],
         "yaxis": "y2"
        },
        {
         "hoverinfo": "text",
         "marker": {
          "color": "rgb(255,65,54)"
         },
         "mode": "lines",
         "type": "scatter",
         "x": [
          95,
          95,
          117.5,
          117.5
         ],
         "xaxis": "x",
         "y": [
          0,
          1.1526611325502123,
          1.1526611325502123,
          0.9286433555935595
         ],
         "yaxis": "y2"
        },
        {
         "hoverinfo": "text",
         "marker": {
          "color": "rgb(35,205,205)"
         },
         "mode": "lines",
         "type": "scatter",
         "x": [
          145,
          145,
          155,
          155
         ],
         "xaxis": "x",
         "y": [
          0,
          0.4210132216931307,
          0.4210132216931307,
          0
         ],
         "yaxis": "y2"
        },
        {
         "hoverinfo": "text",
         "marker": {
          "color": "rgb(35,205,205)"
         },
         "mode": "lines",
         "type": "scatter",
         "x": [
          165,
          165,
          175,
          175
         ],
         "xaxis": "x",
         "y": [
          0,
          0.36449703622176344,
          0.36449703622176344,
          0
         ],
         "yaxis": "y2"
        },
        {
         "hoverinfo": "text",
         "marker": {
          "color": "rgb(35,205,205)"
         },
         "mode": "lines",
         "type": "scatter",
         "x": [
          185,
          185,
          195,
          195
         ],
         "xaxis": "x",
         "y": [
          0,
          0.30482035746975644,
          0.30482035746975644,
          0
         ],
         "yaxis": "y2"
        },
        {
         "hoverinfo": "text",
         "marker": {
          "color": "rgb(35,205,205)"
         },
         "mode": "lines",
         "type": "scatter",
         "x": [
          190,
          190,
          205,
          205
         ],
         "xaxis": "x",
         "y": [
          0.30482035746975644,
          0.4855786847149399,
          0.4855786847149399,
          0
         ],
         "yaxis": "y2"
        },
        {
         "hoverinfo": "text",
         "marker": {
          "color": "rgb(35,205,205)"
         },
         "mode": "lines",
         "type": "scatter",
         "x": [
          215,
          215,
          225,
          225
         ],
         "xaxis": "x",
         "y": [
          0,
          0.413233428405084,
          0.413233428405084,
          0
         ],
         "yaxis": "y2"
        },
        {
         "hoverinfo": "text",
         "marker": {
          "color": "rgb(35,205,205)"
         },
         "mode": "lines",
         "type": "scatter",
         "x": [
          197.5,
          197.5,
          220,
          220
         ],
         "xaxis": "x",
         "y": [
          0.4855786847149399,
          0.5369120041228641,
          0.5369120041228641,
          0.413233428405084
         ],
         "yaxis": "y2"
        },
        {
         "hoverinfo": "text",
         "marker": {
          "color": "rgb(35,205,205)"
         },
         "mode": "lines",
         "type": "scatter",
         "x": [
          170,
          170,
          208.75,
          208.75
         ],
         "xaxis": "x",
         "y": [
          0.36449703622176344,
          0.6247769700534633,
          0.6247769700534633,
          0.5369120041228641
         ],
         "yaxis": "y2"
        },
        {
         "hoverinfo": "text",
         "marker": {
          "color": "rgb(35,205,205)"
         },
         "mode": "lines",
         "type": "scatter",
         "x": [
          150,
          150,
          189.375,
          189.375
         ],
         "xaxis": "x",
         "y": [
          0.4210132216931307,
          0.9605511900859811,
          0.9605511900859811,
          0.6247769700534633
         ],
         "yaxis": "y2"
        },
        {
         "hoverinfo": "text",
         "marker": {
          "color": "rgb(35,205,205)"
         },
         "mode": "lines",
         "type": "scatter",
         "x": [
          235,
          235,
          245,
          245
         ],
         "xaxis": "x",
         "y": [
          0,
          0.3006972413927,
          0.3006972413927,
          0
         ],
         "yaxis": "y2"
        },
        {
         "hoverinfo": "text",
         "marker": {
          "color": "rgb(35,205,205)"
         },
         "mode": "lines",
         "type": "scatter",
         "x": [
          240,
          240,
          255,
          255
         ],
         "xaxis": "x",
         "y": [
          0.3006972413927,
          0.8370636797394464,
          0.8370636797394464,
          0
         ],
         "yaxis": "y2"
        },
        {
         "hoverinfo": "text",
         "marker": {
          "color": "rgb(35,205,205)"
         },
         "mode": "lines",
         "type": "scatter",
         "x": [
          247.5,
          247.5,
          265,
          265
         ],
         "xaxis": "x",
         "y": [
          0.8370636797394464,
          0.9683791911530568,
          0.9683791911530568,
          0
         ],
         "yaxis": "y2"
        },
        {
         "hoverinfo": "text",
         "marker": {
          "color": "rgb(35,205,205)"
         },
         "mode": "lines",
         "type": "scatter",
         "x": [
          169.6875,
          169.6875,
          256.25,
          256.25
         ],
         "xaxis": "x",
         "y": [
          0.9605511900859811,
          0.9477032553195635,
          0.9477032553195635,
          0.9683791911530568
         ],
         "yaxis": "y2"
        },
        {
         "hoverinfo": "text",
         "marker": {
          "color": "rgb(35,205,205)"
         },
         "mode": "lines",
         "type": "scatter",
         "x": [
          135,
          135,
          212.96875,
          212.96875
         ],
         "xaxis": "x",
         "y": [
          0,
          1.1138455317973013,
          1.1138455317973013,
          0.9477032553195635
         ],
         "yaxis": "y2"
        },
        {
         "hoverinfo": "text",
         "marker": {
          "color": "rgb(0,116,217)"
         },
         "mode": "lines",
         "type": "scatter",
         "x": [
          106.25,
          106.25,
          173.984375,
          173.984375
         ],
         "xaxis": "x",
         "y": [
          1.1526611325502123,
          1.6571582445821926,
          1.6571582445821926,
          1.1138455317973013
         ],
         "yaxis": "y2"
        },
        {
         "hoverinfo": "text",
         "marker": {
          "color": "rgb(0,116,217)"
         },
         "mode": "lines",
         "type": "scatter",
         "x": [
          52.5,
          52.5,
          140.1171875,
          140.1171875
         ],
         "xaxis": "x",
         "y": [
          1.152409971029271,
          1.9784151483978178,
          1.9784151483978178,
          1.6571582445821926
         ],
         "yaxis": "y2"
        },
        {
         "hoverinfo": "text",
         "marker": {
          "color": "rgb(61,153,112)"
         },
         "mode": "lines",
         "type": "scatter",
         "x": [
          0,
          -0.421471436250285,
          -0.421471436250285,
          0
         ],
         "xaxis": "x2",
         "y": [
          15,
          15,
          25,
          25
         ],
         "yaxis": "y"
        },
        {
         "hoverinfo": "text",
         "marker": {
          "color": "rgb(61,153,112)"
         },
         "mode": "lines",
         "type": "scatter",
         "x": [
          0,
          -0.6780605239039653,
          -0.6780605239039653,
          -0.421471436250285
         ],
         "xaxis": "x2",
         "y": [
          5,
          5,
          20,
          20
         ],
         "yaxis": "y"
        },
        {
         "hoverinfo": "text",
         "marker": {
          "color": "rgb(61,153,112)"
         },
         "mode": "lines",
         "type": "scatter",
         "x": [
          0,
          -0.6355014648767577,
          -0.6355014648767577,
          0
         ],
         "xaxis": "x2",
         "y": [
          45,
          45,
          55,
          55
         ],
         "yaxis": "y"
        },
        {
         "hoverinfo": "text",
         "marker": {
          "color": "rgb(61,153,112)"
         },
         "mode": "lines",
         "type": "scatter",
         "x": [
          0,
          -0.7700258752710896,
          -0.7700258752710896,
          -0.6355014648767577
         ],
         "xaxis": "x2",
         "y": [
          35,
          35,
          50,
          50
         ],
         "yaxis": "y"
        },
        {
         "hoverinfo": "text",
         "marker": {
          "color": "rgb(61,153,112)"
         },
         "mode": "lines",
         "type": "scatter",
         "x": [
          -0.6780605239039653,
          -0.9425806490281506,
          -0.9425806490281506,
          -0.7700258752710896
         ],
         "xaxis": "x2",
         "y": [
          12.5,
          12.5,
          42.5,
          42.5
         ],
         "yaxis": "y"
        },
        {
         "hoverinfo": "text",
         "marker": {
          "color": "rgb(61,153,112)"
         },
         "mode": "lines",
         "type": "scatter",
         "x": [
          0,
          -0.5418597561829395,
          -0.5418597561829395,
          0
         ],
         "xaxis": "x2",
         "y": [
          65,
          65,
          75,
          75
         ],
         "yaxis": "y"
        },
        {
         "hoverinfo": "text",
         "marker": {
          "color": "rgb(61,153,112)"
         },
         "mode": "lines",
         "type": "scatter",
         "x": [
          -0.5418597561829395,
          -0.8345404984224987,
          -0.8345404984224987,
          0
         ],
         "xaxis": "x2",
         "y": [
          70,
          70,
          85,
          85
         ],
         "yaxis": "y"
        },
        {
         "hoverinfo": "text",
         "marker": {
          "color": "rgb(61,153,112)"
         },
         "mode": "lines",
         "type": "scatter",
         "x": [
          -0.9425806490281506,
          -1.152409971029271,
          -1.152409971029271,
          -0.8345404984224987
         ],
         "xaxis": "x2",
         "y": [
          27.5,
          27.5,
          77.5,
          77.5
         ],
         "yaxis": "y"
        },
        {
         "hoverinfo": "text",
         "marker": {
          "color": "rgb(255,65,54)"
         },
         "mode": "lines",
         "type": "scatter",
         "x": [
          0,
          -0.40709068539639925,
          -0.40709068539639925,
          0
         ],
         "xaxis": "x2",
         "y": [
          105,
          105,
          115,
          115
         ],
         "yaxis": "y"
        },
        {
         "hoverinfo": "text",
         "marker": {
          "color": "rgb(255,65,54)"
         },
         "mode": "lines",
         "type": "scatter",
         "x": [
          -0.40709068539639925,
          -0.9286433555935595,
          -0.9286433555935595,
          0
         ],
         "xaxis": "x2",
         "y": [
          110,
          110,
          125,
          125
         ],
         "yaxis": "y"
        },
        {
         "hoverinfo": "text",
         "marker": {
          "color": "rgb(255,65,54)"
         },
         "mode": "lines",
         "type": "scatter",
         "x": [
          0,
          -1.1526611325502123,
          -1.1526611325502123,
          -0.9286433555935595
         ],
         "xaxis": "x2",
         "y": [
          95,
          95,
          117.5,
          117.5
         ],
         "yaxis": "y"
        },
        {
         "hoverinfo": "text",
         "marker": {
          "color": "rgb(35,205,205)"
         },
         "mode": "lines",
         "type": "scatter",
         "x": [
          0,
          -0.4210132216931307,
          -0.4210132216931307,
          0
         ],
         "xaxis": "x2",
         "y": [
          145,
          145,
          155,
          155
         ],
         "yaxis": "y"
        },
        {
         "hoverinfo": "text",
         "marker": {
          "color": "rgb(35,205,205)"
         },
         "mode": "lines",
         "type": "scatter",
         "x": [
          0,
          -0.36449703622176344,
          -0.36449703622176344,
          0
         ],
         "xaxis": "x2",
         "y": [
          165,
          165,
          175,
          175
         ],
         "yaxis": "y"
        },
        {
         "hoverinfo": "text",
         "marker": {
          "color": "rgb(35,205,205)"
         },
         "mode": "lines",
         "type": "scatter",
         "x": [
          0,
          -0.30482035746975644,
          -0.30482035746975644,
          0
         ],
         "xaxis": "x2",
         "y": [
          185,
          185,
          195,
          195
         ],
         "yaxis": "y"
        },
        {
         "hoverinfo": "text",
         "marker": {
          "color": "rgb(35,205,205)"
         },
         "mode": "lines",
         "type": "scatter",
         "x": [
          -0.30482035746975644,
          -0.4855786847149399,
          -0.4855786847149399,
          0
         ],
         "xaxis": "x2",
         "y": [
          190,
          190,
          205,
          205
         ],
         "yaxis": "y"
        },
        {
         "hoverinfo": "text",
         "marker": {
          "color": "rgb(35,205,205)"
         },
         "mode": "lines",
         "type": "scatter",
         "x": [
          0,
          -0.413233428405084,
          -0.413233428405084,
          0
         ],
         "xaxis": "x2",
         "y": [
          215,
          215,
          225,
          225
         ],
         "yaxis": "y"
        },
        {
         "hoverinfo": "text",
         "marker": {
          "color": "rgb(35,205,205)"
         },
         "mode": "lines",
         "type": "scatter",
         "x": [
          -0.4855786847149399,
          -0.5369120041228641,
          -0.5369120041228641,
          -0.413233428405084
         ],
         "xaxis": "x2",
         "y": [
          197.5,
          197.5,
          220,
          220
         ],
         "yaxis": "y"
        },
        {
         "hoverinfo": "text",
         "marker": {
          "color": "rgb(35,205,205)"
         },
         "mode": "lines",
         "type": "scatter",
         "x": [
          -0.36449703622176344,
          -0.6247769700534633,
          -0.6247769700534633,
          -0.5369120041228641
         ],
         "xaxis": "x2",
         "y": [
          170,
          170,
          208.75,
          208.75
         ],
         "yaxis": "y"
        },
        {
         "hoverinfo": "text",
         "marker": {
          "color": "rgb(35,205,205)"
         },
         "mode": "lines",
         "type": "scatter",
         "x": [
          -0.4210132216931307,
          -0.9605511900859811,
          -0.9605511900859811,
          -0.6247769700534633
         ],
         "xaxis": "x2",
         "y": [
          150,
          150,
          189.375,
          189.375
         ],
         "yaxis": "y"
        },
        {
         "hoverinfo": "text",
         "marker": {
          "color": "rgb(35,205,205)"
         },
         "mode": "lines",
         "type": "scatter",
         "x": [
          0,
          -0.3006972413927,
          -0.3006972413927,
          0
         ],
         "xaxis": "x2",
         "y": [
          235,
          235,
          245,
          245
         ],
         "yaxis": "y"
        },
        {
         "hoverinfo": "text",
         "marker": {
          "color": "rgb(35,205,205)"
         },
         "mode": "lines",
         "type": "scatter",
         "x": [
          -0.3006972413927,
          -0.8370636797394464,
          -0.8370636797394464,
          0
         ],
         "xaxis": "x2",
         "y": [
          240,
          240,
          255,
          255
         ],
         "yaxis": "y"
        },
        {
         "hoverinfo": "text",
         "marker": {
          "color": "rgb(35,205,205)"
         },
         "mode": "lines",
         "type": "scatter",
         "x": [
          -0.8370636797394464,
          -0.9683791911530568,
          -0.9683791911530568,
          0
         ],
         "xaxis": "x2",
         "y": [
          247.5,
          247.5,
          265,
          265
         ],
         "yaxis": "y"
        },
        {
         "hoverinfo": "text",
         "marker": {
          "color": "rgb(35,205,205)"
         },
         "mode": "lines",
         "type": "scatter",
         "x": [
          -0.9605511900859811,
          -0.9477032553195635,
          -0.9477032553195635,
          -0.9683791911530568
         ],
         "xaxis": "x2",
         "y": [
          169.6875,
          169.6875,
          256.25,
          256.25
         ],
         "yaxis": "y"
        },
        {
         "hoverinfo": "text",
         "marker": {
          "color": "rgb(35,205,205)"
         },
         "mode": "lines",
         "type": "scatter",
         "x": [
          0,
          -1.1138455317973013,
          -1.1138455317973013,
          -0.9477032553195635
         ],
         "xaxis": "x2",
         "y": [
          135,
          135,
          212.96875,
          212.96875
         ],
         "yaxis": "y"
        },
        {
         "hoverinfo": "text",
         "marker": {
          "color": "rgb(0,116,217)"
         },
         "mode": "lines",
         "type": "scatter",
         "x": [
          -1.1526611325502123,
          -1.6571582445821926,
          -1.6571582445821926,
          -1.1138455317973013
         ],
         "xaxis": "x2",
         "y": [
          106.25,
          106.25,
          173.984375,
          173.984375
         ],
         "yaxis": "y"
        },
        {
         "hoverinfo": "text",
         "marker": {
          "color": "rgb(0,116,217)"
         },
         "mode": "lines",
         "type": "scatter",
         "x": [
          -1.152409971029271,
          -1.9784151483978178,
          -1.9784151483978178,
          -1.6571582445821926
         ],
         "xaxis": "x2",
         "y": [
          52.5,
          52.5,
          140.1171875,
          140.1171875
         ],
         "yaxis": "y"
        },
        {
         "colorbar": {
          "title": {
           "text": "Coff Dice"
          }
         },
         "type": "heatmap",
         "x": [
          5,
          15,
          25,
          35,
          45,
          55,
          65,
          75,
          85,
          95,
          105,
          115,
          125,
          135,
          145,
          155,
          165,
          175,
          185,
          195,
          205,
          215,
          225,
          235,
          245,
          255,
          265
         ],
         "y": [
          5,
          15,
          25,
          35,
          45,
          55,
          65,
          75,
          85,
          95,
          105,
          115,
          125,
          135,
          145,
          155,
          165,
          175,
          185,
          195,
          205,
          215,
          225,
          235,
          245,
          255,
          265
         ],
         "z": [
          [
           1,
           0.6831275720164609,
           0.5853658536585366,
           0.3783783783783784,
           0.33003300330033003,
           0.2983050847457627,
           0.1440677966101695,
           0.15151515151515152,
           0.5093632958801498,
           0.03076923076923077,
           0.023529411764705882,
           0.024096385542168676,
           0.024691358024691357,
           0.06862745098039216,
           0.08139534883720931,
           0.07734806629834254,
           0.07058823529411765,
           0.06896551724137931,
           0.06741573033707865,
           0.06896551724137931,
           0.07058823529411765,
           0.06896551724137931,
           0.06666666666666667,
           0.06593406593406594,
           0.06382978723404255,
           0.08411214953271028,
           0.07476635514018691
          ],
          [
           0.6831275720164609,
           1,
           0.7904761904761904,
           0.5793103448275863,
           0.39823008849557523,
           0.3669724770642202,
           0.20125786163522014,
           0.24793388429752067,
           0.17894736842105263,
           0.03389830508474576,
           0.043010752688172046,
           0.0449438202247191,
           0.047058823529411764,
           0.09448818897637795,
           0.12631578947368421,
           0.11538461538461539,
           0.12903225806451613,
           0.12371134020618557,
           0.1188118811881188,
           0.12371134020618557,
           0.12903225806451613,
           0.12371134020618557,
           0.11650485436893204,
           0.11428571428571428,
           0.10810810810810811,
           0.10218978102189781,
           0.10218978102189781
          ],
          [
           0.5853658536585366,
           0.7904761904761904,
           1,
           0.455026455026455,
           0.34074074074074073,
           0.32061068702290074,
           0.4039408866995074,
           0.18181818181818182,
           0.15384615384615385,
           0.037037037037037035,
           0.043795620437956206,
           0.03007518796992481,
           0.031007751937984496,
           0.08187134502923976,
           0.08633093525179857,
           0.08108108108108109,
           0.08759124087591241,
           0.0851063829787234,
           0.08275862068965517,
           0.0851063829787234,
           0.08759124087591241,
           0.09929078014184398,
           0.09523809523809523,
           0.09395973154362416,
           0.09032258064516129,
           0.08839779005524862,
           0.08839779005524862
          ],
          [
           0.3783783783783784,
           0.5793103448275863,
           0.455026455026455,
           1,
           0.6048780487804878,
           0.39593908629441626,
           0.2028985507246377,
           0.26,
           0.16568047337278108,
           0.041237113402061855,
           0.05555555555555555,
           0.058823529411764705,
           0.0625,
           0.03773584905660377,
           0.05405405405405406,
           0.04819277108433735,
           0.05555555555555555,
           0.05263157894736842,
           0.05,
           0.05263157894736842,
           0.05555555555555555,
           0.05263157894736842,
           0.04878048780487805,
           0.047619047619047616,
           0.044444444444444446,
           0.034482758620689655,
           0.034482758620689655
          ],
          [
           0.33003300330033003,
           0.39823008849557523,
           0.34074074074074073,
           0.6048780487804878,
           1,
           0.6906474820143885,
           0.1461187214611872,
           0.16574585635359115,
           0.168,
           0.033707865168539325,
           0.026143790849673203,
           0.026845637583892617,
           0.027586206896551724,
           0.053475935828877004,
           0.03870967741935484,
           0.036585365853658534,
           0.0392156862745098,
           0.03821656050955414,
           0.037267080745341616,
           0.03821656050955414,
           0.0392156862745098,
           0.03821656050955414,
           0.03680981595092025,
           0.048484848484848485,
           0.04678362573099415,
           0.06091370558375635,
           0.04060913705583756
          ],
          [
           0.2983050847457627,
           0.3669724770642202,
           0.32061068702290074,
           0.39593908629441626,
           0.6906474820143885,
           1,
           0.3696682464454976,
           0.4393063583815029,
           0.35537190082644626,
           0.03529411764705882,
           0.013793103448275862,
           0.014184397163120567,
           0.014598540145985401,
           0.055865921787709494,
           0.027210884353741496,
           0.02564102564102564,
           0.013793103448275862,
           0.013422818791946308,
           0.013071895424836602,
           0.013422818791946308,
           0.013793103448275862,
           0.013422818791946308,
           0.012903225806451613,
           0.025477707006369428,
           0.024539877300613498,
           0.05291005291005291,
           0.021164021164021163
          ],
          [
           0.1440677966101695,
           0.20125786163522014,
           0.4039408866995074,
           0.2028985507246377,
           0.1461187214611872,
           0.3696682464454976,
           1,
           0.6666666666666666,
           0.4262295081967213,
           0.018018018018018018,
           0.023255813953488372,
           0,
           0,
           0.05,
           0,
           0,
           0,
           0,
           0,
           0,
           0,
           0,
           0,
           0.02040816326530612,
           0.019230769230769232,
           0.03076923076923077,
           0
          ],
          [
           0.15151515151515152,
           0.24793388429752067,
           0.18181818181818182,
           0.26,
           0.16574585635359115,
           0.4393063583815029,
           0.6666666666666666,
           1,
           0.5241379310344828,
           0.0273972602739726,
           0,
           0,
           0,
           0.024390243902439025,
           0,
           0,
           0,
           0,
           0,
           0,
           0,
           0,
           0,
           0.03333333333333333,
           0.030303030303030304,
           0.043478260869565216,
           0
          ],
          [
           0.5093632958801498,
           0.17894736842105263,
           0.15384615384615385,
           0.16568047337278108,
           0.168,
           0.35537190082644626,
           0.4262295081967213,
           0.5241379310344828,
           1,
           0.028169014084507043,
           0,
           0,
           0,
           0.026490066225165563,
           0,
           0,
           0,
           0,
           0,
           0,
           0,
           0,
           0,
           0.015503875968992248,
           0.014814814814814815,
           0.024844720496894408,
           0
          ],
          [
           0.03076923076923077,
           0.03389830508474576,
           0.037037037037037035,
           0.041237113402061855,
           0.033707865168539325,
           0.03529411764705882,
           0.018018018018018018,
           0.0273972602739726,
           0.028169014084507043,
           1,
           0.3111111111111111,
           0.2926829268292683,
           0.10810810810810811,
           0.10126582278481013,
           0.1702127659574468,
           0.17857142857142858,
           0.08888888888888889,
           0.08163265306122448,
           0.07547169811320754,
           0.08163265306122448,
           0.08888888888888889,
           0.08163265306122448,
           0.07272727272727272,
           0.07017543859649122,
           0.06349206349206349,
           0.06741573033707865,
           0.0449438202247191
          ],
          [
           0.023529411764705882,
           0.043010752688172046,
           0.043795620437956206,
           0.05555555555555555,
           0.026143790849673203,
           0.013793103448275862,
           0.023255813953488372,
           0,
           0,
           0.3111111111111111,
           1,
           0.75,
           0.3333333333333333,
           0.07407407407407407,
           0.18181818181818182,
           0.12903225806451613,
           0.2,
           0.16666666666666666,
           0.14285714285714285,
           0.16666666666666666,
           0.2,
           0.16666666666666666,
           0.13333333333333333,
           0.125,
           0.10526315789473684,
           0.0625,
           0.0625
          ],
          [
           0.024096385542168676,
           0.0449438202247191,
           0.03007518796992481,
           0.058823529411764705,
           0.026845637583892617,
           0.014184397163120567,
           0,
           0,
           0,
           0.2926829268292683,
           0.75,
           1,
           0.5,
           0.08,
           0.2222222222222222,
           0.14814814814814814,
           0.25,
           0.2,
           0.16666666666666666,
           0.2,
           0.25,
           0.2,
           0.15384615384615385,
           0.14285714285714285,
           0.11764705882352941,
           0.06666666666666667,
           0.06666666666666667
          ],
          [
           0.024691358024691357,
           0.047058823529411764,
           0.031007751937984496,
           0.0625,
           0.027586206896551724,
           0.014598540145985401,
           0,
           0,
           0,
           0.10810810810810811,
           0.3333333333333333,
           0.5,
           1,
           0.08695652173913043,
           0.2857142857142857,
           0.17391304347826086,
           0.3333333333333333,
           0.25,
           0.2,
           0.25,
           0.3333333333333333,
           0.25,
           0.18181818181818182,
           0.16666666666666666,
           0.13333333333333333,
           0.07142857142857142,
           0.07142857142857142
          ],
          [
           0.06862745098039216,
           0.09448818897637795,
           0.08187134502923976,
           0.03773584905660377,
           0.053475935828877004,
           0.055865921787709494,
           0.05,
           0.024390243902439025,
           0.026490066225165563,
           0.10126582278481013,
           0.07407407407407407,
           0.08,
           0.08695652173913043,
           1,
           0.42857142857142855,
           0.4307692307692308,
           0.3333333333333333,
           0.3448275862068966,
           0.3548387096774194,
           0.3448275862068966,
           0.37037037037037035,
           0.3448275862068966,
           0.3125,
           0.30303030303030304,
           0.2777777777777778,
           0.20408163265306123,
           0.24489795918367346
          ],
          [
           0.08139534883720931,
           0.12631578947368421,
           0.08633093525179857,
           0.05405405405405406,
           0.03870967741935484,
           0.027210884353741496,
           0,
           0,
           0,
           0.1702127659574468,
           0.18181818181818182,
           0.2222222222222222,
           0.2857142857142857,
           0.42857142857142855,
           1,
           0.7272727272727273,
           0.6363636363636364,
           0.5384615384615384,
           0.4,
           0.46153846153846156,
           0.5454545454545454,
           0.46153846153846156,
           0.375,
           0.35294117647058826,
           0.3,
           0.18181818181818182,
           0.21212121212121213
          ],
          [
           0.07734806629834254,
           0.11538461538461539,
           0.08108108108108109,
           0.04819277108433735,
           0.036585365853658534,
           0.02564102564102564,
           0,
           0,
           0,
           0.17857142857142858,
           0.12903225806451613,
           0.14814814814814814,
           0.17391304347826086,
           0.4307692307692308,
           0.7272727272727273,
           1,
           0.6451612903225806,
           0.5714285714285714,
           0.41025641025641024,
           0.45714285714285713,
           0.5161290322580645,
           0.45714285714285713,
           0.3902439024390244,
           0.37209302325581395,
           0.32653061224489793,
           0.21333333333333335,
           0.26666666666666666
          ],
          [
           0.07058823529411765,
           0.12903225806451613,
           0.08759124087591241,
           0.05555555555555555,
           0.0392156862745098,
           0.013793103448275862,
           0,
           0,
           0,
           0.08888888888888889,
           0.2,
           0.25,
           0.3333333333333333,
           0.3333333333333333,
           0.6363636363636364,
           0.6451612903225806,
           1,
           0.8333333333333334,
           0.5714285714285714,
           0.6666666666666666,
           0.8,
           0.6666666666666666,
           0.5333333333333333,
           0.5,
           0.42105263157894735,
           0.25,
           0.3125
          ],
          [
           0.06896551724137931,
           0.12371134020618557,
           0.0851063829787234,
           0.05263157894736842,
           0.03821656050955414,
           0.013422818791946308,
           0,
           0,
           0,
           0.08163265306122448,
           0.16666666666666666,
           0.2,
           0.25,
           0.3448275862068966,
           0.5384615384615384,
           0.5714285714285714,
           0.8333333333333334,
           1,
           0.625,
           0.7142857142857143,
           0.6666666666666666,
           0.5714285714285714,
           0.5882352941176471,
           0.4444444444444444,
           0.38095238095238093,
           0.29411764705882354,
           0.4117647058823529
          ],
          [
           0.06741573033707865,
           0.1188118811881188,
           0.08275862068965517,
           0.05,
           0.037267080745341616,
           0.013071895424836602,
           0,
           0,
           0,
           0.07547169811320754,
           0.14285714285714285,
           0.16666666666666666,
           0.2,
           0.3548387096774194,
           0.4,
           0.41025641025641024,
           0.5714285714285714,
           0.625,
           1,
           0.875,
           0.7142857142857143,
           0.625,
           0.631578947368421,
           0.5,
           0.43478260869565216,
           0.3888888888888889,
           0.3888888888888889
          ],
          [
           0.06896551724137931,
           0.12371134020618557,
           0.0851063829787234,
           0.05263157894736842,
           0.03821656050955414,
           0.013422818791946308,
           0,
           0,
           0,
           0.08163265306122448,
           0.16666666666666666,
           0.2,
           0.25,
           0.3448275862068966,
           0.46153846153846156,
           0.45714285714285713,
           0.6666666666666666,
           0.7142857142857143,
           0.875,
           1,
           0.8333333333333334,
           0.7142857142857143,
           0.7058823529411765,
           0.5555555555555556,
           0.47619047619047616,
           0.4117647058823529,
           0.35294117647058826
          ],
          [
           0.07058823529411765,
           0.12903225806451613,
           0.08759124087591241,
           0.05555555555555555,
           0.0392156862745098,
           0.013793103448275862,
           0,
           0,
           0,
           0.08888888888888889,
           0.2,
           0.25,
           0.3333333333333333,
           0.37037037037037035,
           0.5454545454545454,
           0.5161290322580645,
           0.8,
           0.6666666666666666,
           0.7142857142857143,
           0.8333333333333334,
           1,
           0.8333333333333334,
           0.6666666666666666,
           0.625,
           0.5263157894736842,
           0.3125,
           0.3125
          ],
          [
           0.06896551724137931,
           0.12371134020618557,
           0.09929078014184398,
           0.05263157894736842,
           0.03821656050955414,
           0.013422818791946308,
           0,
           0,
           0,
           0.08163265306122448,
           0.16666666666666666,
           0.2,
           0.25,
           0.3448275862068966,
           0.46153846153846156,
           0.45714285714285713,
           0.6666666666666666,
           0.5714285714285714,
           0.625,
           0.7142857142857143,
           0.8333333333333334,
           1,
           0.8235294117647058,
           0.7777777777777778,
           0.6666666666666666,
           0.4117647058823529,
           0.4117647058823529
          ],
          [
           0.06666666666666667,
           0.11650485436893204,
           0.09523809523809523,
           0.04878048780487805,
           0.03680981595092025,
           0.012903225806451613,
           0,
           0,
           0,
           0.07272727272727272,
           0.13333333333333333,
           0.15384615384615385,
           0.18181818181818182,
           0.3125,
           0.375,
           0.3902439024390244,
           0.5333333333333333,
           0.5882352941176471,
           0.631578947368421,
           0.7058823529411765,
           0.6666666666666666,
           0.8235294117647058,
           1,
           0.6666666666666666,
           0.5833333333333334,
           0.4864864864864865,
           0.5405405405405406
          ],
          [
           0.06593406593406594,
           0.11428571428571428,
           0.09395973154362416,
           0.047619047619047616,
           0.048484848484848485,
           0.025477707006369428,
           0.02040816326530612,
           0.03333333333333333,
           0.015503875968992248,
           0.07017543859649122,
           0.125,
           0.14285714285714285,
           0.16666666666666666,
           0.30303030303030304,
           0.35294117647058826,
           0.37209302325581395,
           0.5,
           0.4444444444444444,
           0.5,
           0.5555555555555556,
           0.625,
           0.7777777777777778,
           0.6666666666666666,
           1,
           0.88,
           0.5789473684210527,
           0.42105263157894735
          ],
          [
           0.06382978723404255,
           0.10810810810810811,
           0.09032258064516129,
           0.044444444444444446,
           0.04678362573099415,
           0.024539877300613498,
           0.019230769230769232,
           0.030303030303030304,
           0.014814814814814815,
           0.06349206349206349,
           0.10526315789473684,
           0.11764705882352941,
           0.13333333333333333,
           0.2777777777777778,
           0.3,
           0.32653061224489793,
           0.42105263157894735,
           0.38095238095238093,
           0.43478260869565216,
           0.47619047619047616,
           0.5263157894736842,
           0.6666666666666666,
           0.5833333333333334,
           0.88,
           1,
           0.6341463414634146,
           0.3902439024390244
          ],
          [
           0.08411214953271028,
           0.10218978102189781,
           0.08839779005524862,
           0.034482758620689655,
           0.06091370558375635,
           0.05291005291005291,
           0.03076923076923077,
           0.043478260869565216,
           0.024844720496894408,
           0.06741573033707865,
           0.0625,
           0.06666666666666667,
           0.07142857142857142,
           0.20408163265306123,
           0.18181818181818182,
           0.21333333333333335,
           0.25,
           0.29411764705882354,
           0.3888888888888889,
           0.4117647058823529,
           0.3125,
           0.4117647058823529,
           0.4864864864864865,
           0.5789473684210527,
           0.6341463414634146,
           1,
           0.4074074074074074
          ],
          [
           0.07476635514018691,
           0.10218978102189781,
           0.08839779005524862,
           0.034482758620689655,
           0.04060913705583756,
           0.021164021164021163,
           0,
           0,
           0,
           0.0449438202247191,
           0.0625,
           0.06666666666666667,
           0.07142857142857142,
           0.24489795918367346,
           0.21212121212121213,
           0.26666666666666666,
           0.3125,
           0.4117647058823529,
           0.3888888888888889,
           0.35294117647058826,
           0.3125,
           0.4117647058823529,
           0.5405405405405406,
           0.42105263157894735,
           0.3902439024390244,
           0.4074074074074074,
           1
          ]
         ]
        }
       ],
       "layout": {
        "autosize": false,
        "height": 800,
        "hovermode": "closest",
        "showlegend": false,
        "template": {
         "data": {
          "bar": [
           {
            "error_x": {
             "color": "#2a3f5f"
            },
            "error_y": {
             "color": "#2a3f5f"
            },
            "marker": {
             "line": {
              "color": "#E5ECF6",
              "width": 0.5
             },
             "pattern": {
              "fillmode": "overlay",
              "size": 10,
              "solidity": 0.2
             }
            },
            "type": "bar"
           }
          ],
          "barpolar": [
           {
            "marker": {
             "line": {
              "color": "#E5ECF6",
              "width": 0.5
             },
             "pattern": {
              "fillmode": "overlay",
              "size": 10,
              "solidity": 0.2
             }
            },
            "type": "barpolar"
           }
          ],
          "carpet": [
           {
            "aaxis": {
             "endlinecolor": "#2a3f5f",
             "gridcolor": "white",
             "linecolor": "white",
             "minorgridcolor": "white",
             "startlinecolor": "#2a3f5f"
            },
            "baxis": {
             "endlinecolor": "#2a3f5f",
             "gridcolor": "white",
             "linecolor": "white",
             "minorgridcolor": "white",
             "startlinecolor": "#2a3f5f"
            },
            "type": "carpet"
           }
          ],
          "choropleth": [
           {
            "colorbar": {
             "outlinewidth": 0,
             "ticks": ""
            },
            "type": "choropleth"
           }
          ],
          "contour": [
           {
            "colorbar": {
             "outlinewidth": 0,
             "ticks": ""
            },
            "colorscale": [
             [
              0,
              "#0d0887"
             ],
             [
              0.1111111111111111,
              "#46039f"
             ],
             [
              0.2222222222222222,
              "#7201a8"
             ],
             [
              0.3333333333333333,
              "#9c179e"
             ],
             [
              0.4444444444444444,
              "#bd3786"
             ],
             [
              0.5555555555555556,
              "#d8576b"
             ],
             [
              0.6666666666666666,
              "#ed7953"
             ],
             [
              0.7777777777777778,
              "#fb9f3a"
             ],
             [
              0.8888888888888888,
              "#fdca26"
             ],
             [
              1,
              "#f0f921"
             ]
            ],
            "type": "contour"
           }
          ],
          "contourcarpet": [
           {
            "colorbar": {
             "outlinewidth": 0,
             "ticks": ""
            },
            "type": "contourcarpet"
           }
          ],
          "heatmap": [
           {
            "colorbar": {
             "outlinewidth": 0,
             "ticks": ""
            },
            "colorscale": [
             [
              0,
              "#0d0887"
             ],
             [
              0.1111111111111111,
              "#46039f"
             ],
             [
              0.2222222222222222,
              "#7201a8"
             ],
             [
              0.3333333333333333,
              "#9c179e"
             ],
             [
              0.4444444444444444,
              "#bd3786"
             ],
             [
              0.5555555555555556,
              "#d8576b"
             ],
             [
              0.6666666666666666,
              "#ed7953"
             ],
             [
              0.7777777777777778,
              "#fb9f3a"
             ],
             [
              0.8888888888888888,
              "#fdca26"
             ],
             [
              1,
              "#f0f921"
             ]
            ],
            "type": "heatmap"
           }
          ],
          "heatmapgl": [
           {
            "colorbar": {
             "outlinewidth": 0,
             "ticks": ""
            },
            "colorscale": [
             [
              0,
              "#0d0887"
             ],
             [
              0.1111111111111111,
              "#46039f"
             ],
             [
              0.2222222222222222,
              "#7201a8"
             ],
             [
              0.3333333333333333,
              "#9c179e"
             ],
             [
              0.4444444444444444,
              "#bd3786"
             ],
             [
              0.5555555555555556,
              "#d8576b"
             ],
             [
              0.6666666666666666,
              "#ed7953"
             ],
             [
              0.7777777777777778,
              "#fb9f3a"
             ],
             [
              0.8888888888888888,
              "#fdca26"
             ],
             [
              1,
              "#f0f921"
             ]
            ],
            "type": "heatmapgl"
           }
          ],
          "histogram": [
           {
            "marker": {
             "pattern": {
              "fillmode": "overlay",
              "size": 10,
              "solidity": 0.2
             }
            },
            "type": "histogram"
           }
          ],
          "histogram2d": [
           {
            "colorbar": {
             "outlinewidth": 0,
             "ticks": ""
            },
            "colorscale": [
             [
              0,
              "#0d0887"
             ],
             [
              0.1111111111111111,
              "#46039f"
             ],
             [
              0.2222222222222222,
              "#7201a8"
             ],
             [
              0.3333333333333333,
              "#9c179e"
             ],
             [
              0.4444444444444444,
              "#bd3786"
             ],
             [
              0.5555555555555556,
              "#d8576b"
             ],
             [
              0.6666666666666666,
              "#ed7953"
             ],
             [
              0.7777777777777778,
              "#fb9f3a"
             ],
             [
              0.8888888888888888,
              "#fdca26"
             ],
             [
              1,
              "#f0f921"
             ]
            ],
            "type": "histogram2d"
           }
          ],
          "histogram2dcontour": [
           {
            "colorbar": {
             "outlinewidth": 0,
             "ticks": ""
            },
            "colorscale": [
             [
              0,
              "#0d0887"
             ],
             [
              0.1111111111111111,
              "#46039f"
             ],
             [
              0.2222222222222222,
              "#7201a8"
             ],
             [
              0.3333333333333333,
              "#9c179e"
             ],
             [
              0.4444444444444444,
              "#bd3786"
             ],
             [
              0.5555555555555556,
              "#d8576b"
             ],
             [
              0.6666666666666666,
              "#ed7953"
             ],
             [
              0.7777777777777778,
              "#fb9f3a"
             ],
             [
              0.8888888888888888,
              "#fdca26"
             ],
             [
              1,
              "#f0f921"
             ]
            ],
            "type": "histogram2dcontour"
           }
          ],
          "mesh3d": [
           {
            "colorbar": {
             "outlinewidth": 0,
             "ticks": ""
            },
            "type": "mesh3d"
           }
          ],
          "parcoords": [
           {
            "line": {
             "colorbar": {
              "outlinewidth": 0,
              "ticks": ""
             }
            },
            "type": "parcoords"
           }
          ],
          "pie": [
           {
            "automargin": true,
            "type": "pie"
           }
          ],
          "scatter": [
           {
            "marker": {
             "colorbar": {
              "outlinewidth": 0,
              "ticks": ""
             }
            },
            "type": "scatter"
           }
          ],
          "scatter3d": [
           {
            "line": {
             "colorbar": {
              "outlinewidth": 0,
              "ticks": ""
             }
            },
            "marker": {
             "colorbar": {
              "outlinewidth": 0,
              "ticks": ""
             }
            },
            "type": "scatter3d"
           }
          ],
          "scattercarpet": [
           {
            "marker": {
             "colorbar": {
              "outlinewidth": 0,
              "ticks": ""
             }
            },
            "type": "scattercarpet"
           }
          ],
          "scattergeo": [
           {
            "marker": {
             "colorbar": {
              "outlinewidth": 0,
              "ticks": ""
             }
            },
            "type": "scattergeo"
           }
          ],
          "scattergl": [
           {
            "marker": {
             "colorbar": {
              "outlinewidth": 0,
              "ticks": ""
             }
            },
            "type": "scattergl"
           }
          ],
          "scattermapbox": [
           {
            "marker": {
             "colorbar": {
              "outlinewidth": 0,
              "ticks": ""
             }
            },
            "type": "scattermapbox"
           }
          ],
          "scatterpolar": [
           {
            "marker": {
             "colorbar": {
              "outlinewidth": 0,
              "ticks": ""
             }
            },
            "type": "scatterpolar"
           }
          ],
          "scatterpolargl": [
           {
            "marker": {
             "colorbar": {
              "outlinewidth": 0,
              "ticks": ""
             }
            },
            "type": "scatterpolargl"
           }
          ],
          "scatterternary": [
           {
            "marker": {
             "colorbar": {
              "outlinewidth": 0,
              "ticks": ""
             }
            },
            "type": "scatterternary"
           }
          ],
          "surface": [
           {
            "colorbar": {
             "outlinewidth": 0,
             "ticks": ""
            },
            "colorscale": [
             [
              0,
              "#0d0887"
             ],
             [
              0.1111111111111111,
              "#46039f"
             ],
             [
              0.2222222222222222,
              "#7201a8"
             ],
             [
              0.3333333333333333,
              "#9c179e"
             ],
             [
              0.4444444444444444,
              "#bd3786"
             ],
             [
              0.5555555555555556,
              "#d8576b"
             ],
             [
              0.6666666666666666,
              "#ed7953"
             ],
             [
              0.7777777777777778,
              "#fb9f3a"
             ],
             [
              0.8888888888888888,
              "#fdca26"
             ],
             [
              1,
              "#f0f921"
             ]
            ],
            "type": "surface"
           }
          ],
          "table": [
           {
            "cells": {
             "fill": {
              "color": "#EBF0F8"
             },
             "line": {
              "color": "white"
             }
            },
            "header": {
             "fill": {
              "color": "#C8D4E3"
             },
             "line": {
              "color": "white"
             }
            },
            "type": "table"
           }
          ]
         },
         "layout": {
          "annotationdefaults": {
           "arrowcolor": "#2a3f5f",
           "arrowhead": 0,
           "arrowwidth": 1
          },
          "autotypenumbers": "strict",
          "coloraxis": {
           "colorbar": {
            "outlinewidth": 0,
            "ticks": ""
           }
          },
          "colorscale": {
           "diverging": [
            [
             0,
             "#8e0152"
            ],
            [
             0.1,
             "#c51b7d"
            ],
            [
             0.2,
             "#de77ae"
            ],
            [
             0.3,
             "#f1b6da"
            ],
            [
             0.4,
             "#fde0ef"
            ],
            [
             0.5,
             "#f7f7f7"
            ],
            [
             0.6,
             "#e6f5d0"
            ],
            [
             0.7,
             "#b8e186"
            ],
            [
             0.8,
             "#7fbc41"
            ],
            [
             0.9,
             "#4d9221"
            ],
            [
             1,
             "#276419"
            ]
           ],
           "sequential": [
            [
             0,
             "#0d0887"
            ],
            [
             0.1111111111111111,
             "#46039f"
            ],
            [
             0.2222222222222222,
             "#7201a8"
            ],
            [
             0.3333333333333333,
             "#9c179e"
            ],
            [
             0.4444444444444444,
             "#bd3786"
            ],
            [
             0.5555555555555556,
             "#d8576b"
            ],
            [
             0.6666666666666666,
             "#ed7953"
            ],
            [
             0.7777777777777778,
             "#fb9f3a"
            ],
            [
             0.8888888888888888,
             "#fdca26"
            ],
            [
             1,
             "#f0f921"
            ]
           ],
           "sequentialminus": [
            [
             0,
             "#0d0887"
            ],
            [
             0.1111111111111111,
             "#46039f"
            ],
            [
             0.2222222222222222,
             "#7201a8"
            ],
            [
             0.3333333333333333,
             "#9c179e"
            ],
            [
             0.4444444444444444,
             "#bd3786"
            ],
            [
             0.5555555555555556,
             "#d8576b"
            ],
            [
             0.6666666666666666,
             "#ed7953"
            ],
            [
             0.7777777777777778,
             "#fb9f3a"
            ],
            [
             0.8888888888888888,
             "#fdca26"
            ],
            [
             1,
             "#f0f921"
            ]
           ]
          },
          "colorway": [
           "#636efa",
           "#EF553B",
           "#00cc96",
           "#ab63fa",
           "#FFA15A",
           "#19d3f3",
           "#FF6692",
           "#B6E880",
           "#FF97FF",
           "#FECB52"
          ],
          "font": {
           "color": "#2a3f5f"
          },
          "geo": {
           "bgcolor": "white",
           "lakecolor": "white",
           "landcolor": "#E5ECF6",
           "showlakes": true,
           "showland": true,
           "subunitcolor": "white"
          },
          "hoverlabel": {
           "align": "left"
          },
          "hovermode": "closest",
          "mapbox": {
           "style": "light"
          },
          "paper_bgcolor": "white",
          "plot_bgcolor": "#E5ECF6",
          "polar": {
           "angularaxis": {
            "gridcolor": "white",
            "linecolor": "white",
            "ticks": ""
           },
           "bgcolor": "#E5ECF6",
           "radialaxis": {
            "gridcolor": "white",
            "linecolor": "white",
            "ticks": ""
           }
          },
          "scene": {
           "xaxis": {
            "backgroundcolor": "#E5ECF6",
            "gridcolor": "white",
            "gridwidth": 2,
            "linecolor": "white",
            "showbackground": true,
            "ticks": "",
            "zerolinecolor": "white"
           },
           "yaxis": {
            "backgroundcolor": "#E5ECF6",
            "gridcolor": "white",
            "gridwidth": 2,
            "linecolor": "white",
            "showbackground": true,
            "ticks": "",
            "zerolinecolor": "white"
           },
           "zaxis": {
            "backgroundcolor": "#E5ECF6",
            "gridcolor": "white",
            "gridwidth": 2,
            "linecolor": "white",
            "showbackground": true,
            "ticks": "",
            "zerolinecolor": "white"
           }
          },
          "shapedefaults": {
           "line": {
            "color": "#2a3f5f"
           }
          },
          "ternary": {
           "aaxis": {
            "gridcolor": "white",
            "linecolor": "white",
            "ticks": ""
           },
           "baxis": {
            "gridcolor": "white",
            "linecolor": "white",
            "ticks": ""
           },
           "bgcolor": "#E5ECF6",
           "caxis": {
            "gridcolor": "white",
            "linecolor": "white",
            "ticks": ""
           }
          },
          "title": {
           "x": 0.05
          },
          "xaxis": {
           "automargin": true,
           "gridcolor": "white",
           "linecolor": "white",
           "ticks": "",
           "title": {
            "standoff": 15
           },
           "zerolinecolor": "white",
           "zerolinewidth": 2
          },
          "yaxis": {
           "automargin": true,
           "gridcolor": "white",
           "linecolor": "white",
           "ticks": "",
           "title": {
            "standoff": 15
           },
           "zerolinecolor": "white",
           "zerolinewidth": 2
          }
         }
        },
        "title": {
         "text": "Similaridad Aminas",
         "x": 0.55,
         "xanchor": "center",
         "y": 0.9,
         "yanchor": "top"
        },
        "width": 800,
        "xaxis": {
         "domain": [
          0.15,
          1
         ],
         "mirror": false,
         "rangemode": "tozero",
         "showgrid": false,
         "showline": false,
         "showticklabels": true,
         "tickmode": "array",
         "ticks": "",
         "ticktext": [
          "4methoxyphenethyl",
          "PhEtNH3I",
          "4FluoroPhenethyl",
          "Benzyl",
          "4TrifluoromethylBenzyl",
          "4TrifluoromethylPhenyl",
          "4FluoroPhenyl",
          "Phenyl",
          "4MethoxyPhenyl",
          "ImidazoliumIodide",
          "GnNH3I",
          "FormamidiniumIodide",
          "MeNH3I",
          "NNDiethylpropane13di",
          "Diethyl",
          "Diisopropyl",
          "iPropyl",
          "tButyl",
          "neoPentyl",
          "iButyl",
          "NPropyl",
          "n-BuNH3I",
          "IPentyl",
          "nHexyl",
          "nDodecyl",
          "Cyclohexylmethyl",
          "TertOctyl"
         ],
         "tickvals": [
          5,
          15,
          25,
          35,
          45,
          55,
          65,
          75,
          85,
          95,
          105,
          115,
          125,
          135,
          145,
          155,
          165,
          175,
          185,
          195,
          205,
          215,
          225,
          235,
          245,
          255,
          265
         ],
         "type": "linear",
         "zeroline": false
        },
        "xaxis2": {
         "domain": [
          0,
          0.15
         ],
         "mirror": false,
         "showgrid": false,
         "showline": false,
         "showticklabels": false,
         "ticks": "",
         "zeroline": false
        },
        "yaxis": {
         "domain": [
          0,
          0.85
         ],
         "mirror": false,
         "rangemode": "tozero",
         "showgrid": false,
         "showline": false,
         "showticklabels": false,
         "ticks": "",
         "ticktext": [
          "4methoxyphenethyl",
          "PhEtNH3I",
          "4FluoroPhenethyl",
          "Benzyl",
          "4TrifluoromethylBenzyl",
          "4TrifluoromethylPhenyl",
          "4FluoroPhenyl",
          "Phenyl",
          "4MethoxyPhenyl",
          "ImidazoliumIodide",
          "GnNH3I",
          "FormamidiniumIodide",
          "MeNH3I",
          "NNDiethylpropane13di",
          "Diethyl",
          "Diisopropyl",
          "iPropyl",
          "tButyl",
          "neoPentyl",
          "iButyl",
          "NPropyl",
          "n-BuNH3I",
          "IPentyl",
          "nHexyl",
          "nDodecyl",
          "Cyclohexylmethyl",
          "TertOctyl"
         ],
         "tickvals": [
          5,
          15,
          25,
          35,
          45,
          55,
          65,
          75,
          85,
          95,
          105,
          115,
          125,
          135,
          145,
          155,
          165,
          175,
          185,
          195,
          205,
          215,
          225,
          235,
          245,
          255,
          265
         ],
         "type": "linear",
         "zeroline": false
        },
        "yaxis2": {
         "domain": [
          0.825,
          0.975
         ],
         "mirror": false,
         "showgrid": false,
         "showline": false,
         "showticklabels": false,
         "ticks": "",
         "zeroline": false
        }
       }
      }
     },
     "metadata": {}
    }
   ],
   "metadata": {}
  },
  {
   "cell_type": "markdown",
   "source": [
    "- ciclohexil \n",
    "    - estructuralmente a alifaticos\n",
    "    - por PF debería ir en Otros..en pca según el eje que diferencia ambos cluster, debería ir cerca de alifaticos (no tanto)\n",
    "- NNdie \n",
    "    - estructuralmente: cadenas carbonadas\n",
    "    - PF según PCA3 se alejaba...\n",
    "    - como es la de menos variabilidad y dado que por PCA2 queda marcadamente en grupo carbonado -> a grupo carbonado\n",
    "- ndodecyl estructuralmente debería ir a carbonados, pero como según PCA1 quedó lejísimos de tanto ambos cluster -> sigue en OTROS"
   ],
   "metadata": {}
  },
  {
   "cell_type": "code",
   "execution_count": 34,
   "source": [
    "df_amine_with_names.query('cluster == 1 or cluster >= 3')['Chemical Abbreviation']\n"
   ],
   "outputs": [
    {
     "output_type": "execute_result",
     "data": {
      "text/plain": [
       "2                                   GnNH3I\n",
       "14          CyclohexylmethylammoniumIodide\n",
       "46      NNDiethylpropane13diammoniumiodide\n",
       "78                  nDodecylammoniumIodide\n",
       "109                    FormamidiniumIodide\n",
       "1811                     ImidazoliumIodide\n",
       "Name: Chemical Abbreviation, dtype: object"
      ]
     },
     "metadata": {},
     "execution_count": 34
    }
   ],
   "metadata": {}
  },
  {
   "cell_type": "code",
   "execution_count": 35,
   "source": [
    "df_amine_with_names.query('cluster == 1 or cluster == 6')['Chemical Abbreviation']"
   ],
   "outputs": [
    {
     "output_type": "execute_result",
     "data": {
      "text/plain": [
       "2                   GnNH3I\n",
       "109    FormamidiniumIodide\n",
       "Name: Chemical Abbreviation, dtype: object"
      ]
     },
     "metadata": {},
     "execution_count": 35
    }
   ],
   "metadata": {}
  },
  {
   "cell_type": "code",
   "execution_count": 278,
   "source": [
    "df_amine_with_names.query('cluster == 5')['Chemical Abbreviation']\n"
   ],
   "outputs": [
    {
     "output_type": "execute_result",
     "data": {
      "text/plain": [
       "14    NNDiethylpropane13diammoniumiodide\n",
       "Name: Chemical Abbreviation, dtype: object"
      ]
     },
     "metadata": {},
     "execution_count": 278
    }
   ],
   "metadata": {}
  },
  {
   "cell_type": "code",
   "execution_count": 342,
   "source": [
    "df_amine_with_names.query('cluster == 3')['Chemical Abbreviation']\n"
   ],
   "outputs": [
    {
     "output_type": "execute_result",
     "data": {
      "text/plain": [
       "14    CyclohexylmethylammoniumIodide\n",
       "Name: Chemical Abbreviation, dtype: object"
      ]
     },
     "metadata": {},
     "execution_count": 342
    }
   ],
   "metadata": {}
  },
  {
   "cell_type": "code",
   "execution_count": 281,
   "source": [
    "df_amine_with_names.query('cluster == 7')['Chemical Abbreviation']\n"
   ],
   "outputs": [
    {
     "output_type": "execute_result",
     "data": {
      "text/plain": [
       "155    nDodecylammoniumIodide\n",
       "Name: Chemical Abbreviation, dtype: object"
      ]
     },
     "metadata": {},
     "execution_count": 281
    }
   ],
   "metadata": {}
  },
  {
   "cell_type": "code",
   "execution_count": 279,
   "source": [
    "df_amine_with_names.query('cluster == 8')['Chemical Abbreviation']\n"
   ],
   "outputs": [
    {
     "output_type": "execute_result",
     "data": {
      "text/plain": [
       "1696    ImidazoliumIodide\n",
       "Name: Chemical Abbreviation, dtype: object"
      ]
     },
     "metadata": {},
     "execution_count": 279
    }
   ],
   "metadata": {}
  },
  {
   "cell_type": "code",
   "execution_count": 51,
   "source": [
    "import plotly.graph_objects as go\n",
    "import plotly.figure_factory as ff\n",
    "import plotly.offline as pyo\n",
    "\n",
    "from scipy.spatial.distance import pdist, squareform\n",
    "\n",
    "import scipy.cluster.hierarchy as sch\n",
    "\n",
    "pyo.init_notebook_mode(connected=True)\n",
    "\n",
    "def plot_heatmap_plotly(numpy_array, columns, title, dendogramMethod='centroid', colorbar_title = 'Correlación (Abs)'):\n",
    "    data_array = numpy_array\n",
    "    labels = columns\n",
    "    colorScale = 'default'\n",
    "   \n",
    "    # Initialize figure by creating upper dendrogram\n",
    "    #fig = ff.create_dendrogram(data_array, orientation='bottom', linkagefun=lambda x: sch.linkage(x, method=dendogramMethod, metric=distanceMethod ,optimal_ordering=True), labels=labels)\n",
    "    fig = ff.create_dendrogram(data_array, orientation='bottom', linkagefun=lambda x: sch.linkage(x, method=dendogramMethod, optimal_ordering=True), labels=labels)\n",
    "    for i in range(len(fig['data'])):\n",
    "        fig['data'][i]['yaxis'] = 'y2'\n",
    "\n",
    "    # Create Side Dendrogram\n",
    "    #dendro_side = ff.create_dendrogram(data_array, orientation='right', linkagefun=lambda x: sch.linkage(x, method=dendogramMethod, metric=distanceMethod,  optimal_ordering=True) )\n",
    "    dendro_side = ff.create_dendrogram(data_array, orientation='right', linkagefun=lambda x: sch.linkage(x, method=dendogramMethod, optimal_ordering=True) )\n",
    "\n",
    "    for i in range(len(dendro_side['data'])):\n",
    "        dendro_side['data'][i]['xaxis'] = 'x2'\n",
    "\n",
    "    # Add Side Dendrogram Data to Figure\n",
    "    # ~ stack1 = []\n",
    "    for data in dendro_side['data']:\n",
    "        fig.add_trace(data)\n",
    "\n",
    "\n",
    "    # Create Heatmap\n",
    "    dendro_leaves = dendro_side['layout']['yaxis']['ticktext']\n",
    "    dendro_leaves = list(map(int, dendro_leaves))\n",
    "    heat_data = data_array\n",
    "    heat_data = heat_data[dendro_leaves,:]\n",
    "    heat_data = heat_data[:,dendro_leaves]\n",
    "\n",
    "    if(colorScale!='default'):\n",
    "        aux=go.Heatmap(\n",
    "            x = dendro_leaves,\n",
    "            y = dendro_leaves,\n",
    "            z = heat_data,\n",
    "            colorscale = colorScale,\n",
    "            colorbar=dict(title='Trie distances'),\n",
    "            )\n",
    "        heatmap = [aux]\n",
    "    else:\n",
    "        aux = go.Heatmap(\n",
    "            x=dendro_leaves,\n",
    "            y=dendro_leaves,\n",
    "            z=heat_data,\n",
    "            colorbar=dict(title=colorbar_title),\n",
    "        )\n",
    "        heatmap = [aux]\n",
    "        # heatmap = [\n",
    "        # \tgo.Heatmap(\n",
    "        # \t\tx = dendro_leaves,\n",
    "        # \t\ty = dendro_leaves,\n",
    "        # \t\tz = heat_data\n",
    "        # \t)\n",
    "        # ]\n",
    "\t\n",
    "    heatmap[0]['x'] = fig['layout']['xaxis']['tickvals']\n",
    "    heatmap[0]['y'] = dendro_side['layout']['yaxis']['tickvals']\n",
    "    # Add Heatmap Data to Figure\n",
    "    for data in heatmap:\n",
    "        fig.add_trace(data)\n",
    "\n",
    "\n",
    "    # Edit Layout\n",
    "    fig.update_layout({'width':800, 'height':800,\n",
    "                            'showlegend':False, 'hovermode': 'closest',\n",
    "                            })\n",
    "\n",
    "    fig.update_layout(title={\n",
    "                        'text': title,\n",
    "                        'y':0.9,\n",
    "                        'x':0.55,\n",
    "                        'xanchor': 'center',\n",
    "                        'yanchor': 'top'})\n",
    "\n",
    "    # Edit xaxis\n",
    "    fig.update_layout(xaxis={'domain': [.15, 1],\n",
    "                                    'mirror': False,\n",
    "                                    'showgrid': False,\n",
    "                                    'showline': False,\n",
    "                                    'zeroline': False,\n",
    "                                    'ticks':\"\"})\n",
    "    # Edit xaxis2\n",
    "    fig.update_layout(xaxis2={'domain': [0, .15],\n",
    "                                    'mirror': False,\n",
    "                                    'showgrid': False,\n",
    "                                    'showline': False,\n",
    "                                    'zeroline': False,\n",
    "                                    'showticklabels': False,\n",
    "                                    'ticks':\"\"})\n",
    "\n",
    "    # Edit yaxis\n",
    "    fig.update_layout(yaxis={'domain': [0, .85],\n",
    "                                    'mirror': False,\n",
    "                                    'showgrid': False,\n",
    "                                    'showline': False,\n",
    "                                    'zeroline': False,\n",
    "                                    'showticklabels': False,\n",
    "                                    'ticks': \"\"\n",
    "                            })\n",
    "    # Edit yaxis2\n",
    "    fig.update_layout(yaxis2={'domain':[.825, .975],\n",
    "                                        'mirror': False,\n",
    "                                        'showgrid': False,\n",
    "                                        'showline': False,\n",
    "                                        'zeroline': False,\n",
    "                                        'showticklabels': False,\n",
    "                                        'ticks':\"\"})\n",
    "    # ~ print(fig)\n",
    "    fig['layout']['yaxis']['ticktext'] = fig['layout']['xaxis']['ticktext']\n",
    "    fig['layout']['yaxis']['tickvals'] = fig['layout']['xaxis']['tickvals']\n",
    "\n",
    "\n",
    "    #fig.show()\n",
    "\n",
    "    pyo.iplot(fig, filename='test')"
   ],
   "outputs": [
    {
     "output_type": "display_data",
     "data": {
      "text/html": [
       "        <script type=\"text/javascript\">\n",
       "        window.PlotlyConfig = {MathJaxConfig: 'local'};\n",
       "        if (window.MathJax) {MathJax.Hub.Config({SVG: {font: \"STIX-Web\"}});}\n",
       "        if (typeof require !== 'undefined') {\n",
       "        require.undef(\"plotly\");\n",
       "        requirejs.config({\n",
       "            paths: {\n",
       "                'plotly': ['https://cdn.plot.ly/plotly-2.2.0.min']\n",
       "            }\n",
       "        });\n",
       "        require(['plotly'], function(Plotly) {\n",
       "            window._Plotly = Plotly;\n",
       "        });\n",
       "        }\n",
       "        </script>\n",
       "        "
      ]
     },
     "metadata": {}
    }
   ],
   "metadata": {}
  },
  {
   "cell_type": "code",
   "execution_count": 282,
   "source": [
    "df_amine_with_names[df_amine_with_names['Chemical Abbreviation'] == 'AcNH3I']['_rxn_organic-inchikey']"
   ],
   "outputs": [
    {
     "output_type": "execute_result",
     "data": {
      "text/plain": [
       "1    GGYGJCFIYJVWIP-UHFFFAOYSA-N\n",
       "Name: _rxn_organic-inchikey, dtype: object"
      ]
     },
     "metadata": {},
     "execution_count": 282
    }
   ],
   "metadata": {}
  },
  {
   "cell_type": "code",
   "execution_count": 19,
   "source": [
    "\n"
   ],
   "outputs": [
    {
     "output_type": "execute_result",
     "data": {
      "text/plain": [
       "0.6"
      ]
     },
     "metadata": {},
     "execution_count": 19
    }
   ],
   "metadata": {}
  },
  {
   "cell_type": "markdown",
   "source": [
    "## Visualization"
   ],
   "metadata": {}
  },
  {
   "cell_type": "markdown",
   "source": [
    "### PCA "
   ],
   "metadata": {}
  },
  {
   "cell_type": "code",
   "execution_count": 54,
   "source": [
    "def apply_pca(df, n_components):\n",
    "    pca = PCA(n_components=n_components, svd_solver = 'auto')\n",
    "    principal_components=pca.fit_transform(df)\n",
    "    pca_columns = ['PCA_'+ str(n) for n in range(1,n_components+1)]\n",
    "    pca_df = pd.DataFrame(data = principal_components, columns = pca_columns)\n",
    "    return pca_df\n"
   ],
   "outputs": [],
   "metadata": {}
  },
  {
   "cell_type": "code",
   "execution_count": 55,
   "source": [
    "def plot_3d_cluster(reduced_df, cluster_ids, name_color, method='PCA'):\n",
    "    reduced_df[name_color] = cluster_ids\n",
    "    reduced_df[name_color] = reduced_df[name_color].astype(str)\n",
    "    if method == 'PCA':\n",
    "        fig = px.scatter_3d(reduced_df, x='PCA_1', y='PCA_2', z='PCA_3',\n",
    "                    color=name_color)\n",
    "    else:\n",
    "        fig = px.scatter_3d(reduced_df, x='TSNE_1', y='TSNE_2', z='TSNE_3',\n",
    "            color=name_color)\n",
    "    fig.show()\n"
   ],
   "outputs": [],
   "metadata": {}
  },
  {
   "cell_type": "markdown",
   "source": [
    "Transformed amines to 3 components"
   ],
   "metadata": {}
  },
  {
   "cell_type": "code",
   "execution_count": 56,
   "source": [
    "amine_3_components_pca = apply_pca(X, 3)"
   ],
   "outputs": [],
   "metadata": {}
  },
  {
   "cell_type": "code",
   "execution_count": 57,
   "source": [
    "def plot_cluster_amine(X, amine_3_components, distance, method):\n",
    "    labels = dbsc_label(X, distance)\n",
    "    plot_3d_cluster(amine_3_components, labels, 'cluster_ID', method)\n"
   ],
   "outputs": [],
   "metadata": {}
  },
  {
   "cell_type": "code",
   "execution_count": 66,
   "source": [
    "plot_cluster_amine(X, amine_3_components_pca, distance = 3, method='PCA')\n",
    "# oversampling y undersampling\n",
    "# agregar col extra de cluster\n",
    "# considerar que los ejes de PCA su rango no es el mismo\n",
    "# no es necesaro separarlos\n"
   ],
   "outputs": [
    {
     "output_type": "display_data",
     "data": {
      "text/html": [
       "<div>                            <div id=\"1593be58-462c-4112-80ac-0c437e448051\" class=\"plotly-graph-div\" style=\"height:525px; width:100%;\"></div>            <script type=\"text/javascript\">                require([\"plotly\"], function(Plotly) {                    window.PLOTLYENV=window.PLOTLYENV || {};                                    if (document.getElementById(\"1593be58-462c-4112-80ac-0c437e448051\")) {                    Plotly.newPlot(                        \"1593be58-462c-4112-80ac-0c437e448051\",                        [{\"hovertemplate\":\"cluster_ID=0<br>PCA_1=%{x}<br>PCA_2=%{y}<br>PCA_3=%{z}<extra></extra>\",\"legendgroup\":\"0\",\"marker\":{\"color\":\"#636efa\",\"symbol\":\"circle\"},\"mode\":\"markers\",\"name\":\"0\",\"scene\":\"scene\",\"showlegend\":true,\"type\":\"scatter3d\",\"x\":[0.05377247281924723,-1.468618569427687,-3.669898344885037,-0.7926806634466582,-1.8929581765524894,-0.08871719173401399,-3.4713276093010195,-2.025902481298224],\"y\":[-0.929169654272045,-1.0519025684285517,-1.5720730678502572,-2.7491444983661975,-1.3228957723972756,-1.937292844699123,-1.1929820809843026,-2.215822071402986],\"z\":[0.7045689682548555,0.2974964292707499,0.4630683325139657,-0.4710953180100545,0.649371816793738,1.5449865847459294,0.02598076330172921,1.4282097341154414]},{\"hovertemplate\":\"cluster_ID=1<br>PCA_1=%{x}<br>PCA_2=%{y}<br>PCA_3=%{z}<extra></extra>\",\"legendgroup\":\"1\",\"marker\":{\"color\":\"#EF553B\",\"symbol\":\"circle\"},\"mode\":\"markers\",\"name\":\"1\",\"scene\":\"scene\",\"showlegend\":true,\"type\":\"scatter3d\",\"x\":[-7.527363975395377],\"y\":[5.722779258165002],\"z\":[3.908127434984414]},{\"hovertemplate\":\"cluster_ID=2<br>PCA_1=%{x}<br>PCA_2=%{y}<br>PCA_3=%{z}<extra></extra>\",\"legendgroup\":\"2\",\"marker\":{\"color\":\"#00cc96\",\"symbol\":\"circle\"},\"mode\":\"markers\",\"name\":\"2\",\"scene\":\"scene\",\"showlegend\":true,\"type\":\"scatter3d\",\"x\":[5.2962206030113155],\"y\":[1.7085254419790963],\"z\":[-0.3872130774154624]},{\"hovertemplate\":\"cluster_ID=3<br>PCA_1=%{x}<br>PCA_2=%{y}<br>PCA_3=%{z}<extra></extra>\",\"legendgroup\":\"3\",\"marker\":{\"color\":\"#ab63fa\",\"symbol\":\"circle\"},\"mode\":\"markers\",\"name\":\"3\",\"scene\":\"scene\",\"showlegend\":true,\"type\":\"scatter3d\",\"x\":[2.186138184033827],\"y\":[-3.0388618866124646],\"z\":[0.5764220636956069]},{\"hovertemplate\":\"cluster_ID=4<br>PCA_1=%{x}<br>PCA_2=%{y}<br>PCA_3=%{z}<extra></extra>\",\"legendgroup\":\"4\",\"marker\":{\"color\":\"#FFA15A\",\"symbol\":\"circle\"},\"mode\":\"markers\",\"name\":\"4\",\"scene\":\"scene\",\"showlegend\":true,\"type\":\"scatter3d\",\"x\":[2.5515370338218832],\"y\":[-0.7333035731222581],\"z\":[0.7329448407959793]},{\"hovertemplate\":\"cluster_ID=5<br>PCA_1=%{x}<br>PCA_2=%{y}<br>PCA_3=%{z}<extra></extra>\",\"legendgroup\":\"5\",\"marker\":{\"color\":\"#19d3f3\",\"symbol\":\"circle\"},\"mode\":\"markers\",\"name\":\"5\",\"scene\":\"scene\",\"showlegend\":true,\"type\":\"scatter3d\",\"x\":[1.200921125476115,1.5457169671477766,-0.19521642620574642,2.0632601088440974,-1.8854200729084385,-2.6555899688342604,2.8598264668138533,0.8887816400526907,1.86160858418873],\"y\":[1.2408307845959636,-0.6181377633447063,-0.006930608248543434,1.1308489240490742,0.6042317098547402,0.3709233668676185,2.5617269413866195,2.1129973512320315,-0.06009521751295002],\"z\":[-0.5883395030158024,-0.18554336899598964,-1.4508991471779522,-1.8123060163917066,-1.5678384209929888,-2.0319187184505325,-2.4366900905017372,-2.29103404750021,-1.3634787897365548]},{\"hovertemplate\":\"cluster_ID=6<br>PCA_1=%{x}<br>PCA_2=%{y}<br>PCA_3=%{z}<extra></extra>\",\"legendgroup\":\"6\",\"marker\":{\"color\":\"#FF6692\",\"symbol\":\"circle\"},\"mode\":\"markers\",\"name\":\"6\",\"scene\":\"scene\",\"showlegend\":true,\"type\":\"scatter3d\",\"x\":[-7.406070689401646],\"y\":[-1.2930470732451953],\"z\":[-0.9061955846200003]},{\"hovertemplate\":\"cluster_ID=7<br>PCA_1=%{x}<br>PCA_2=%{y}<br>PCA_3=%{z}<extra></extra>\",\"legendgroup\":\"7\",\"marker\":{\"color\":\"#B6E880\",\"symbol\":\"circle\"},\"mode\":\"markers\",\"name\":\"7\",\"scene\":\"scene\",\"showlegend\":true,\"type\":\"scatter3d\",\"x\":[6.194417164995001],\"y\":[0.19130906513687493],\"z\":[1.856356074463362]},{\"hovertemplate\":\"cluster_ID=8<br>PCA_1=%{x}<br>PCA_2=%{y}<br>PCA_3=%{z}<extra></extra>\",\"legendgroup\":\"8\",\"marker\":{\"color\":\"#FF97FF\",\"symbol\":\"circle\"},\"mode\":\"markers\",\"name\":\"8\",\"scene\":\"scene\",\"showlegend\":true,\"type\":\"scatter3d\",\"x\":[4.373695351098671],\"y\":[-1.5347086961837888],\"z\":[2.2210894328920183]},{\"hovertemplate\":\"cluster_ID=9<br>PCA_1=%{x}<br>PCA_2=%{y}<br>PCA_3=%{z}<extra></extra>\",\"legendgroup\":\"9\",\"marker\":{\"color\":\"#FECB52\",\"symbol\":\"circle\"},\"mode\":\"markers\",\"name\":\"9\",\"scene\":\"scene\",\"showlegend\":true,\"type\":\"scatter3d\",\"x\":[16.2834257323913],\"y\":[1.8741026440054447],\"z\":[1.0176085501959433]},{\"hovertemplate\":\"cluster_ID=10<br>PCA_1=%{x}<br>PCA_2=%{y}<br>PCA_3=%{z}<extra></extra>\",\"legendgroup\":\"10\",\"marker\":{\"color\":\"#636efa\",\"symbol\":\"circle\"},\"mode\":\"markers\",\"name\":\"10\",\"scene\":\"scene\",\"showlegend\":true,\"type\":\"scatter3d\",\"x\":[-8.09870098886398],\"y\":[2.9647835981593422],\"z\":[1.0591583583626474]},{\"hovertemplate\":\"cluster_ID=11<br>PCA_1=%{x}<br>PCA_2=%{y}<br>PCA_3=%{z}<extra></extra>\",\"legendgroup\":\"11\",\"marker\":{\"color\":\"#EF553B\",\"symbol\":\"circle\"},\"mode\":\"markers\",\"name\":\"11\",\"scene\":\"scene\",\"showlegend\":true,\"type\":\"scatter3d\",\"x\":[-6.180856276439926],\"y\":[-0.22669170876115902],\"z\":[-0.9928373015773938]}],                        {\"legend\":{\"title\":{\"text\":\"cluster_ID\"},\"tracegroupgap\":0},\"margin\":{\"t\":60},\"scene\":{\"domain\":{\"x\":[0.0,1.0],\"y\":[0.0,1.0]},\"xaxis\":{\"title\":{\"text\":\"PCA_1\"}},\"yaxis\":{\"title\":{\"text\":\"PCA_2\"}},\"zaxis\":{\"title\":{\"text\":\"PCA_3\"}}},\"template\":{\"data\":{\"bar\":[{\"error_x\":{\"color\":\"#2a3f5f\"},\"error_y\":{\"color\":\"#2a3f5f\"},\"marker\":{\"line\":{\"color\":\"#E5ECF6\",\"width\":0.5},\"pattern\":{\"fillmode\":\"overlay\",\"size\":10,\"solidity\":0.2}},\"type\":\"bar\"}],\"barpolar\":[{\"marker\":{\"line\":{\"color\":\"#E5ECF6\",\"width\":0.5},\"pattern\":{\"fillmode\":\"overlay\",\"size\":10,\"solidity\":0.2}},\"type\":\"barpolar\"}],\"carpet\":[{\"aaxis\":{\"endlinecolor\":\"#2a3f5f\",\"gridcolor\":\"white\",\"linecolor\":\"white\",\"minorgridcolor\":\"white\",\"startlinecolor\":\"#2a3f5f\"},\"baxis\":{\"endlinecolor\":\"#2a3f5f\",\"gridcolor\":\"white\",\"linecolor\":\"white\",\"minorgridcolor\":\"white\",\"startlinecolor\":\"#2a3f5f\"},\"type\":\"carpet\"}],\"choropleth\":[{\"colorbar\":{\"outlinewidth\":0,\"ticks\":\"\"},\"type\":\"choropleth\"}],\"contour\":[{\"colorbar\":{\"outlinewidth\":0,\"ticks\":\"\"},\"colorscale\":[[0.0,\"#0d0887\"],[0.1111111111111111,\"#46039f\"],[0.2222222222222222,\"#7201a8\"],[0.3333333333333333,\"#9c179e\"],[0.4444444444444444,\"#bd3786\"],[0.5555555555555556,\"#d8576b\"],[0.6666666666666666,\"#ed7953\"],[0.7777777777777778,\"#fb9f3a\"],[0.8888888888888888,\"#fdca26\"],[1.0,\"#f0f921\"]],\"type\":\"contour\"}],\"contourcarpet\":[{\"colorbar\":{\"outlinewidth\":0,\"ticks\":\"\"},\"type\":\"contourcarpet\"}],\"heatmap\":[{\"colorbar\":{\"outlinewidth\":0,\"ticks\":\"\"},\"colorscale\":[[0.0,\"#0d0887\"],[0.1111111111111111,\"#46039f\"],[0.2222222222222222,\"#7201a8\"],[0.3333333333333333,\"#9c179e\"],[0.4444444444444444,\"#bd3786\"],[0.5555555555555556,\"#d8576b\"],[0.6666666666666666,\"#ed7953\"],[0.7777777777777778,\"#fb9f3a\"],[0.8888888888888888,\"#fdca26\"],[1.0,\"#f0f921\"]],\"type\":\"heatmap\"}],\"heatmapgl\":[{\"colorbar\":{\"outlinewidth\":0,\"ticks\":\"\"},\"colorscale\":[[0.0,\"#0d0887\"],[0.1111111111111111,\"#46039f\"],[0.2222222222222222,\"#7201a8\"],[0.3333333333333333,\"#9c179e\"],[0.4444444444444444,\"#bd3786\"],[0.5555555555555556,\"#d8576b\"],[0.6666666666666666,\"#ed7953\"],[0.7777777777777778,\"#fb9f3a\"],[0.8888888888888888,\"#fdca26\"],[1.0,\"#f0f921\"]],\"type\":\"heatmapgl\"}],\"histogram\":[{\"marker\":{\"pattern\":{\"fillmode\":\"overlay\",\"size\":10,\"solidity\":0.2}},\"type\":\"histogram\"}],\"histogram2d\":[{\"colorbar\":{\"outlinewidth\":0,\"ticks\":\"\"},\"colorscale\":[[0.0,\"#0d0887\"],[0.1111111111111111,\"#46039f\"],[0.2222222222222222,\"#7201a8\"],[0.3333333333333333,\"#9c179e\"],[0.4444444444444444,\"#bd3786\"],[0.5555555555555556,\"#d8576b\"],[0.6666666666666666,\"#ed7953\"],[0.7777777777777778,\"#fb9f3a\"],[0.8888888888888888,\"#fdca26\"],[1.0,\"#f0f921\"]],\"type\":\"histogram2d\"}],\"histogram2dcontour\":[{\"colorbar\":{\"outlinewidth\":0,\"ticks\":\"\"},\"colorscale\":[[0.0,\"#0d0887\"],[0.1111111111111111,\"#46039f\"],[0.2222222222222222,\"#7201a8\"],[0.3333333333333333,\"#9c179e\"],[0.4444444444444444,\"#bd3786\"],[0.5555555555555556,\"#d8576b\"],[0.6666666666666666,\"#ed7953\"],[0.7777777777777778,\"#fb9f3a\"],[0.8888888888888888,\"#fdca26\"],[1.0,\"#f0f921\"]],\"type\":\"histogram2dcontour\"}],\"mesh3d\":[{\"colorbar\":{\"outlinewidth\":0,\"ticks\":\"\"},\"type\":\"mesh3d\"}],\"parcoords\":[{\"line\":{\"colorbar\":{\"outlinewidth\":0,\"ticks\":\"\"}},\"type\":\"parcoords\"}],\"pie\":[{\"automargin\":true,\"type\":\"pie\"}],\"scatter\":[{\"marker\":{\"colorbar\":{\"outlinewidth\":0,\"ticks\":\"\"}},\"type\":\"scatter\"}],\"scatter3d\":[{\"line\":{\"colorbar\":{\"outlinewidth\":0,\"ticks\":\"\"}},\"marker\":{\"colorbar\":{\"outlinewidth\":0,\"ticks\":\"\"}},\"type\":\"scatter3d\"}],\"scattercarpet\":[{\"marker\":{\"colorbar\":{\"outlinewidth\":0,\"ticks\":\"\"}},\"type\":\"scattercarpet\"}],\"scattergeo\":[{\"marker\":{\"colorbar\":{\"outlinewidth\":0,\"ticks\":\"\"}},\"type\":\"scattergeo\"}],\"scattergl\":[{\"marker\":{\"colorbar\":{\"outlinewidth\":0,\"ticks\":\"\"}},\"type\":\"scattergl\"}],\"scattermapbox\":[{\"marker\":{\"colorbar\":{\"outlinewidth\":0,\"ticks\":\"\"}},\"type\":\"scattermapbox\"}],\"scatterpolar\":[{\"marker\":{\"colorbar\":{\"outlinewidth\":0,\"ticks\":\"\"}},\"type\":\"scatterpolar\"}],\"scatterpolargl\":[{\"marker\":{\"colorbar\":{\"outlinewidth\":0,\"ticks\":\"\"}},\"type\":\"scatterpolargl\"}],\"scatterternary\":[{\"marker\":{\"colorbar\":{\"outlinewidth\":0,\"ticks\":\"\"}},\"type\":\"scatterternary\"}],\"surface\":[{\"colorbar\":{\"outlinewidth\":0,\"ticks\":\"\"},\"colorscale\":[[0.0,\"#0d0887\"],[0.1111111111111111,\"#46039f\"],[0.2222222222222222,\"#7201a8\"],[0.3333333333333333,\"#9c179e\"],[0.4444444444444444,\"#bd3786\"],[0.5555555555555556,\"#d8576b\"],[0.6666666666666666,\"#ed7953\"],[0.7777777777777778,\"#fb9f3a\"],[0.8888888888888888,\"#fdca26\"],[1.0,\"#f0f921\"]],\"type\":\"surface\"}],\"table\":[{\"cells\":{\"fill\":{\"color\":\"#EBF0F8\"},\"line\":{\"color\":\"white\"}},\"header\":{\"fill\":{\"color\":\"#C8D4E3\"},\"line\":{\"color\":\"white\"}},\"type\":\"table\"}]},\"layout\":{\"annotationdefaults\":{\"arrowcolor\":\"#2a3f5f\",\"arrowhead\":0,\"arrowwidth\":1},\"autotypenumbers\":\"strict\",\"coloraxis\":{\"colorbar\":{\"outlinewidth\":0,\"ticks\":\"\"}},\"colorscale\":{\"diverging\":[[0,\"#8e0152\"],[0.1,\"#c51b7d\"],[0.2,\"#de77ae\"],[0.3,\"#f1b6da\"],[0.4,\"#fde0ef\"],[0.5,\"#f7f7f7\"],[0.6,\"#e6f5d0\"],[0.7,\"#b8e186\"],[0.8,\"#7fbc41\"],[0.9,\"#4d9221\"],[1,\"#276419\"]],\"sequential\":[[0.0,\"#0d0887\"],[0.1111111111111111,\"#46039f\"],[0.2222222222222222,\"#7201a8\"],[0.3333333333333333,\"#9c179e\"],[0.4444444444444444,\"#bd3786\"],[0.5555555555555556,\"#d8576b\"],[0.6666666666666666,\"#ed7953\"],[0.7777777777777778,\"#fb9f3a\"],[0.8888888888888888,\"#fdca26\"],[1.0,\"#f0f921\"]],\"sequentialminus\":[[0.0,\"#0d0887\"],[0.1111111111111111,\"#46039f\"],[0.2222222222222222,\"#7201a8\"],[0.3333333333333333,\"#9c179e\"],[0.4444444444444444,\"#bd3786\"],[0.5555555555555556,\"#d8576b\"],[0.6666666666666666,\"#ed7953\"],[0.7777777777777778,\"#fb9f3a\"],[0.8888888888888888,\"#fdca26\"],[1.0,\"#f0f921\"]]},\"colorway\":[\"#636efa\",\"#EF553B\",\"#00cc96\",\"#ab63fa\",\"#FFA15A\",\"#19d3f3\",\"#FF6692\",\"#B6E880\",\"#FF97FF\",\"#FECB52\"],\"font\":{\"color\":\"#2a3f5f\"},\"geo\":{\"bgcolor\":\"white\",\"lakecolor\":\"white\",\"landcolor\":\"#E5ECF6\",\"showlakes\":true,\"showland\":true,\"subunitcolor\":\"white\"},\"hoverlabel\":{\"align\":\"left\"},\"hovermode\":\"closest\",\"mapbox\":{\"style\":\"light\"},\"paper_bgcolor\":\"white\",\"plot_bgcolor\":\"#E5ECF6\",\"polar\":{\"angularaxis\":{\"gridcolor\":\"white\",\"linecolor\":\"white\",\"ticks\":\"\"},\"bgcolor\":\"#E5ECF6\",\"radialaxis\":{\"gridcolor\":\"white\",\"linecolor\":\"white\",\"ticks\":\"\"}},\"scene\":{\"xaxis\":{\"backgroundcolor\":\"#E5ECF6\",\"gridcolor\":\"white\",\"gridwidth\":2,\"linecolor\":\"white\",\"showbackground\":true,\"ticks\":\"\",\"zerolinecolor\":\"white\"},\"yaxis\":{\"backgroundcolor\":\"#E5ECF6\",\"gridcolor\":\"white\",\"gridwidth\":2,\"linecolor\":\"white\",\"showbackground\":true,\"ticks\":\"\",\"zerolinecolor\":\"white\"},\"zaxis\":{\"backgroundcolor\":\"#E5ECF6\",\"gridcolor\":\"white\",\"gridwidth\":2,\"linecolor\":\"white\",\"showbackground\":true,\"ticks\":\"\",\"zerolinecolor\":\"white\"}},\"shapedefaults\":{\"line\":{\"color\":\"#2a3f5f\"}},\"ternary\":{\"aaxis\":{\"gridcolor\":\"white\",\"linecolor\":\"white\",\"ticks\":\"\"},\"baxis\":{\"gridcolor\":\"white\",\"linecolor\":\"white\",\"ticks\":\"\"},\"bgcolor\":\"#E5ECF6\",\"caxis\":{\"gridcolor\":\"white\",\"linecolor\":\"white\",\"ticks\":\"\"}},\"title\":{\"x\":0.05},\"xaxis\":{\"automargin\":true,\"gridcolor\":\"white\",\"linecolor\":\"white\",\"ticks\":\"\",\"title\":{\"standoff\":15},\"zerolinecolor\":\"white\",\"zerolinewidth\":2},\"yaxis\":{\"automargin\":true,\"gridcolor\":\"white\",\"linecolor\":\"white\",\"ticks\":\"\",\"title\":{\"standoff\":15},\"zerolinecolor\":\"white\",\"zerolinewidth\":2}}}},                        {\"responsive\": true}                    ).then(function(){\n",
       "                            \n",
       "var gd = document.getElementById('1593be58-462c-4112-80ac-0c437e448051');\n",
       "var x = new MutationObserver(function (mutations, observer) {{\n",
       "        var display = window.getComputedStyle(gd).display;\n",
       "        if (!display || display === 'none') {{\n",
       "            console.log([gd, 'removed!']);\n",
       "            Plotly.purge(gd);\n",
       "            observer.disconnect();\n",
       "        }}\n",
       "}});\n",
       "\n",
       "// Listen for the removal of the full notebook cells\n",
       "var notebookContainer = gd.closest('#notebook-container');\n",
       "if (notebookContainer) {{\n",
       "    x.observe(notebookContainer, {childList: true});\n",
       "}}\n",
       "\n",
       "// Listen for the clearing of the current output cell\n",
       "var outputEl = gd.closest('.output');\n",
       "if (outputEl) {{\n",
       "    x.observe(outputEl, {childList: true});\n",
       "}}\n",
       "\n",
       "                        })                };                });            </script>        </div>"
      ],
      "application/vnd.plotly.v1+json": {
       "config": {
        "plotlyServerURL": "https://plot.ly"
       },
       "data": [
        {
         "hovertemplate": "cluster_ID=0<br>PCA_1=%{x}<br>PCA_2=%{y}<br>PCA_3=%{z}<extra></extra>",
         "legendgroup": "0",
         "marker": {
          "color": "#636efa",
          "symbol": "circle"
         },
         "mode": "markers",
         "name": "0",
         "scene": "scene",
         "showlegend": true,
         "type": "scatter3d",
         "x": [
          0.05377247281924723,
          -1.468618569427687,
          -3.669898344885037,
          -0.7926806634466582,
          -1.8929581765524894,
          -0.08871719173401399,
          -3.4713276093010195,
          -2.025902481298224
         ],
         "y": [
          -0.929169654272045,
          -1.0519025684285517,
          -1.5720730678502572,
          -2.7491444983661975,
          -1.3228957723972756,
          -1.937292844699123,
          -1.1929820809843026,
          -2.215822071402986
         ],
         "z": [
          0.7045689682548555,
          0.2974964292707499,
          0.4630683325139657,
          -0.4710953180100545,
          0.649371816793738,
          1.5449865847459294,
          0.02598076330172921,
          1.4282097341154414
         ]
        },
        {
         "hovertemplate": "cluster_ID=1<br>PCA_1=%{x}<br>PCA_2=%{y}<br>PCA_3=%{z}<extra></extra>",
         "legendgroup": "1",
         "marker": {
          "color": "#EF553B",
          "symbol": "circle"
         },
         "mode": "markers",
         "name": "1",
         "scene": "scene",
         "showlegend": true,
         "type": "scatter3d",
         "x": [
          -7.527363975395377
         ],
         "y": [
          5.722779258165002
         ],
         "z": [
          3.908127434984414
         ]
        },
        {
         "hovertemplate": "cluster_ID=2<br>PCA_1=%{x}<br>PCA_2=%{y}<br>PCA_3=%{z}<extra></extra>",
         "legendgroup": "2",
         "marker": {
          "color": "#00cc96",
          "symbol": "circle"
         },
         "mode": "markers",
         "name": "2",
         "scene": "scene",
         "showlegend": true,
         "type": "scatter3d",
         "x": [
          5.2962206030113155
         ],
         "y": [
          1.7085254419790963
         ],
         "z": [
          -0.3872130774154624
         ]
        },
        {
         "hovertemplate": "cluster_ID=3<br>PCA_1=%{x}<br>PCA_2=%{y}<br>PCA_3=%{z}<extra></extra>",
         "legendgroup": "3",
         "marker": {
          "color": "#ab63fa",
          "symbol": "circle"
         },
         "mode": "markers",
         "name": "3",
         "scene": "scene",
         "showlegend": true,
         "type": "scatter3d",
         "x": [
          2.186138184033827
         ],
         "y": [
          -3.0388618866124646
         ],
         "z": [
          0.5764220636956069
         ]
        },
        {
         "hovertemplate": "cluster_ID=4<br>PCA_1=%{x}<br>PCA_2=%{y}<br>PCA_3=%{z}<extra></extra>",
         "legendgroup": "4",
         "marker": {
          "color": "#FFA15A",
          "symbol": "circle"
         },
         "mode": "markers",
         "name": "4",
         "scene": "scene",
         "showlegend": true,
         "type": "scatter3d",
         "x": [
          2.5515370338218832
         ],
         "y": [
          -0.7333035731222581
         ],
         "z": [
          0.7329448407959793
         ]
        },
        {
         "hovertemplate": "cluster_ID=5<br>PCA_1=%{x}<br>PCA_2=%{y}<br>PCA_3=%{z}<extra></extra>",
         "legendgroup": "5",
         "marker": {
          "color": "#19d3f3",
          "symbol": "circle"
         },
         "mode": "markers",
         "name": "5",
         "scene": "scene",
         "showlegend": true,
         "type": "scatter3d",
         "x": [
          1.200921125476115,
          1.5457169671477766,
          -0.19521642620574642,
          2.0632601088440974,
          -1.8854200729084385,
          -2.6555899688342604,
          2.8598264668138533,
          0.8887816400526907,
          1.86160858418873
         ],
         "y": [
          1.2408307845959636,
          -0.6181377633447063,
          -0.006930608248543434,
          1.1308489240490742,
          0.6042317098547402,
          0.3709233668676185,
          2.5617269413866195,
          2.1129973512320315,
          -0.06009521751295002
         ],
         "z": [
          -0.5883395030158024,
          -0.18554336899598964,
          -1.4508991471779522,
          -1.8123060163917066,
          -1.5678384209929888,
          -2.0319187184505325,
          -2.4366900905017372,
          -2.29103404750021,
          -1.3634787897365548
         ]
        },
        {
         "hovertemplate": "cluster_ID=6<br>PCA_1=%{x}<br>PCA_2=%{y}<br>PCA_3=%{z}<extra></extra>",
         "legendgroup": "6",
         "marker": {
          "color": "#FF6692",
          "symbol": "circle"
         },
         "mode": "markers",
         "name": "6",
         "scene": "scene",
         "showlegend": true,
         "type": "scatter3d",
         "x": [
          -7.406070689401646
         ],
         "y": [
          -1.2930470732451953
         ],
         "z": [
          -0.9061955846200003
         ]
        },
        {
         "hovertemplate": "cluster_ID=7<br>PCA_1=%{x}<br>PCA_2=%{y}<br>PCA_3=%{z}<extra></extra>",
         "legendgroup": "7",
         "marker": {
          "color": "#B6E880",
          "symbol": "circle"
         },
         "mode": "markers",
         "name": "7",
         "scene": "scene",
         "showlegend": true,
         "type": "scatter3d",
         "x": [
          6.194417164995001
         ],
         "y": [
          0.19130906513687493
         ],
         "z": [
          1.856356074463362
         ]
        },
        {
         "hovertemplate": "cluster_ID=8<br>PCA_1=%{x}<br>PCA_2=%{y}<br>PCA_3=%{z}<extra></extra>",
         "legendgroup": "8",
         "marker": {
          "color": "#FF97FF",
          "symbol": "circle"
         },
         "mode": "markers",
         "name": "8",
         "scene": "scene",
         "showlegend": true,
         "type": "scatter3d",
         "x": [
          4.373695351098671
         ],
         "y": [
          -1.5347086961837888
         ],
         "z": [
          2.2210894328920183
         ]
        },
        {
         "hovertemplate": "cluster_ID=9<br>PCA_1=%{x}<br>PCA_2=%{y}<br>PCA_3=%{z}<extra></extra>",
         "legendgroup": "9",
         "marker": {
          "color": "#FECB52",
          "symbol": "circle"
         },
         "mode": "markers",
         "name": "9",
         "scene": "scene",
         "showlegend": true,
         "type": "scatter3d",
         "x": [
          16.2834257323913
         ],
         "y": [
          1.8741026440054447
         ],
         "z": [
          1.0176085501959433
         ]
        },
        {
         "hovertemplate": "cluster_ID=10<br>PCA_1=%{x}<br>PCA_2=%{y}<br>PCA_3=%{z}<extra></extra>",
         "legendgroup": "10",
         "marker": {
          "color": "#636efa",
          "symbol": "circle"
         },
         "mode": "markers",
         "name": "10",
         "scene": "scene",
         "showlegend": true,
         "type": "scatter3d",
         "x": [
          -8.09870098886398
         ],
         "y": [
          2.9647835981593422
         ],
         "z": [
          1.0591583583626474
         ]
        },
        {
         "hovertemplate": "cluster_ID=11<br>PCA_1=%{x}<br>PCA_2=%{y}<br>PCA_3=%{z}<extra></extra>",
         "legendgroup": "11",
         "marker": {
          "color": "#EF553B",
          "symbol": "circle"
         },
         "mode": "markers",
         "name": "11",
         "scene": "scene",
         "showlegend": true,
         "type": "scatter3d",
         "x": [
          -6.180856276439926
         ],
         "y": [
          -0.22669170876115902
         ],
         "z": [
          -0.9928373015773938
         ]
        }
       ],
       "layout": {
        "legend": {
         "title": {
          "text": "cluster_ID"
         },
         "tracegroupgap": 0
        },
        "margin": {
         "t": 60
        },
        "scene": {
         "domain": {
          "x": [
           0,
           1
          ],
          "y": [
           0,
           1
          ]
         },
         "xaxis": {
          "title": {
           "text": "PCA_1"
          }
         },
         "yaxis": {
          "title": {
           "text": "PCA_2"
          }
         },
         "zaxis": {
          "title": {
           "text": "PCA_3"
          }
         }
        },
        "template": {
         "data": {
          "bar": [
           {
            "error_x": {
             "color": "#2a3f5f"
            },
            "error_y": {
             "color": "#2a3f5f"
            },
            "marker": {
             "line": {
              "color": "#E5ECF6",
              "width": 0.5
             },
             "pattern": {
              "fillmode": "overlay",
              "size": 10,
              "solidity": 0.2
             }
            },
            "type": "bar"
           }
          ],
          "barpolar": [
           {
            "marker": {
             "line": {
              "color": "#E5ECF6",
              "width": 0.5
             },
             "pattern": {
              "fillmode": "overlay",
              "size": 10,
              "solidity": 0.2
             }
            },
            "type": "barpolar"
           }
          ],
          "carpet": [
           {
            "aaxis": {
             "endlinecolor": "#2a3f5f",
             "gridcolor": "white",
             "linecolor": "white",
             "minorgridcolor": "white",
             "startlinecolor": "#2a3f5f"
            },
            "baxis": {
             "endlinecolor": "#2a3f5f",
             "gridcolor": "white",
             "linecolor": "white",
             "minorgridcolor": "white",
             "startlinecolor": "#2a3f5f"
            },
            "type": "carpet"
           }
          ],
          "choropleth": [
           {
            "colorbar": {
             "outlinewidth": 0,
             "ticks": ""
            },
            "type": "choropleth"
           }
          ],
          "contour": [
           {
            "colorbar": {
             "outlinewidth": 0,
             "ticks": ""
            },
            "colorscale": [
             [
              0,
              "#0d0887"
             ],
             [
              0.1111111111111111,
              "#46039f"
             ],
             [
              0.2222222222222222,
              "#7201a8"
             ],
             [
              0.3333333333333333,
              "#9c179e"
             ],
             [
              0.4444444444444444,
              "#bd3786"
             ],
             [
              0.5555555555555556,
              "#d8576b"
             ],
             [
              0.6666666666666666,
              "#ed7953"
             ],
             [
              0.7777777777777778,
              "#fb9f3a"
             ],
             [
              0.8888888888888888,
              "#fdca26"
             ],
             [
              1,
              "#f0f921"
             ]
            ],
            "type": "contour"
           }
          ],
          "contourcarpet": [
           {
            "colorbar": {
             "outlinewidth": 0,
             "ticks": ""
            },
            "type": "contourcarpet"
           }
          ],
          "heatmap": [
           {
            "colorbar": {
             "outlinewidth": 0,
             "ticks": ""
            },
            "colorscale": [
             [
              0,
              "#0d0887"
             ],
             [
              0.1111111111111111,
              "#46039f"
             ],
             [
              0.2222222222222222,
              "#7201a8"
             ],
             [
              0.3333333333333333,
              "#9c179e"
             ],
             [
              0.4444444444444444,
              "#bd3786"
             ],
             [
              0.5555555555555556,
              "#d8576b"
             ],
             [
              0.6666666666666666,
              "#ed7953"
             ],
             [
              0.7777777777777778,
              "#fb9f3a"
             ],
             [
              0.8888888888888888,
              "#fdca26"
             ],
             [
              1,
              "#f0f921"
             ]
            ],
            "type": "heatmap"
           }
          ],
          "heatmapgl": [
           {
            "colorbar": {
             "outlinewidth": 0,
             "ticks": ""
            },
            "colorscale": [
             [
              0,
              "#0d0887"
             ],
             [
              0.1111111111111111,
              "#46039f"
             ],
             [
              0.2222222222222222,
              "#7201a8"
             ],
             [
              0.3333333333333333,
              "#9c179e"
             ],
             [
              0.4444444444444444,
              "#bd3786"
             ],
             [
              0.5555555555555556,
              "#d8576b"
             ],
             [
              0.6666666666666666,
              "#ed7953"
             ],
             [
              0.7777777777777778,
              "#fb9f3a"
             ],
             [
              0.8888888888888888,
              "#fdca26"
             ],
             [
              1,
              "#f0f921"
             ]
            ],
            "type": "heatmapgl"
           }
          ],
          "histogram": [
           {
            "marker": {
             "pattern": {
              "fillmode": "overlay",
              "size": 10,
              "solidity": 0.2
             }
            },
            "type": "histogram"
           }
          ],
          "histogram2d": [
           {
            "colorbar": {
             "outlinewidth": 0,
             "ticks": ""
            },
            "colorscale": [
             [
              0,
              "#0d0887"
             ],
             [
              0.1111111111111111,
              "#46039f"
             ],
             [
              0.2222222222222222,
              "#7201a8"
             ],
             [
              0.3333333333333333,
              "#9c179e"
             ],
             [
              0.4444444444444444,
              "#bd3786"
             ],
             [
              0.5555555555555556,
              "#d8576b"
             ],
             [
              0.6666666666666666,
              "#ed7953"
             ],
             [
              0.7777777777777778,
              "#fb9f3a"
             ],
             [
              0.8888888888888888,
              "#fdca26"
             ],
             [
              1,
              "#f0f921"
             ]
            ],
            "type": "histogram2d"
           }
          ],
          "histogram2dcontour": [
           {
            "colorbar": {
             "outlinewidth": 0,
             "ticks": ""
            },
            "colorscale": [
             [
              0,
              "#0d0887"
             ],
             [
              0.1111111111111111,
              "#46039f"
             ],
             [
              0.2222222222222222,
              "#7201a8"
             ],
             [
              0.3333333333333333,
              "#9c179e"
             ],
             [
              0.4444444444444444,
              "#bd3786"
             ],
             [
              0.5555555555555556,
              "#d8576b"
             ],
             [
              0.6666666666666666,
              "#ed7953"
             ],
             [
              0.7777777777777778,
              "#fb9f3a"
             ],
             [
              0.8888888888888888,
              "#fdca26"
             ],
             [
              1,
              "#f0f921"
             ]
            ],
            "type": "histogram2dcontour"
           }
          ],
          "mesh3d": [
           {
            "colorbar": {
             "outlinewidth": 0,
             "ticks": ""
            },
            "type": "mesh3d"
           }
          ],
          "parcoords": [
           {
            "line": {
             "colorbar": {
              "outlinewidth": 0,
              "ticks": ""
             }
            },
            "type": "parcoords"
           }
          ],
          "pie": [
           {
            "automargin": true,
            "type": "pie"
           }
          ],
          "scatter": [
           {
            "marker": {
             "colorbar": {
              "outlinewidth": 0,
              "ticks": ""
             }
            },
            "type": "scatter"
           }
          ],
          "scatter3d": [
           {
            "line": {
             "colorbar": {
              "outlinewidth": 0,
              "ticks": ""
             }
            },
            "marker": {
             "colorbar": {
              "outlinewidth": 0,
              "ticks": ""
             }
            },
            "type": "scatter3d"
           }
          ],
          "scattercarpet": [
           {
            "marker": {
             "colorbar": {
              "outlinewidth": 0,
              "ticks": ""
             }
            },
            "type": "scattercarpet"
           }
          ],
          "scattergeo": [
           {
            "marker": {
             "colorbar": {
              "outlinewidth": 0,
              "ticks": ""
             }
            },
            "type": "scattergeo"
           }
          ],
          "scattergl": [
           {
            "marker": {
             "colorbar": {
              "outlinewidth": 0,
              "ticks": ""
             }
            },
            "type": "scattergl"
           }
          ],
          "scattermapbox": [
           {
            "marker": {
             "colorbar": {
              "outlinewidth": 0,
              "ticks": ""
             }
            },
            "type": "scattermapbox"
           }
          ],
          "scatterpolar": [
           {
            "marker": {
             "colorbar": {
              "outlinewidth": 0,
              "ticks": ""
             }
            },
            "type": "scatterpolar"
           }
          ],
          "scatterpolargl": [
           {
            "marker": {
             "colorbar": {
              "outlinewidth": 0,
              "ticks": ""
             }
            },
            "type": "scatterpolargl"
           }
          ],
          "scatterternary": [
           {
            "marker": {
             "colorbar": {
              "outlinewidth": 0,
              "ticks": ""
             }
            },
            "type": "scatterternary"
           }
          ],
          "surface": [
           {
            "colorbar": {
             "outlinewidth": 0,
             "ticks": ""
            },
            "colorscale": [
             [
              0,
              "#0d0887"
             ],
             [
              0.1111111111111111,
              "#46039f"
             ],
             [
              0.2222222222222222,
              "#7201a8"
             ],
             [
              0.3333333333333333,
              "#9c179e"
             ],
             [
              0.4444444444444444,
              "#bd3786"
             ],
             [
              0.5555555555555556,
              "#d8576b"
             ],
             [
              0.6666666666666666,
              "#ed7953"
             ],
             [
              0.7777777777777778,
              "#fb9f3a"
             ],
             [
              0.8888888888888888,
              "#fdca26"
             ],
             [
              1,
              "#f0f921"
             ]
            ],
            "type": "surface"
           }
          ],
          "table": [
           {
            "cells": {
             "fill": {
              "color": "#EBF0F8"
             },
             "line": {
              "color": "white"
             }
            },
            "header": {
             "fill": {
              "color": "#C8D4E3"
             },
             "line": {
              "color": "white"
             }
            },
            "type": "table"
           }
          ]
         },
         "layout": {
          "annotationdefaults": {
           "arrowcolor": "#2a3f5f",
           "arrowhead": 0,
           "arrowwidth": 1
          },
          "autotypenumbers": "strict",
          "coloraxis": {
           "colorbar": {
            "outlinewidth": 0,
            "ticks": ""
           }
          },
          "colorscale": {
           "diverging": [
            [
             0,
             "#8e0152"
            ],
            [
             0.1,
             "#c51b7d"
            ],
            [
             0.2,
             "#de77ae"
            ],
            [
             0.3,
             "#f1b6da"
            ],
            [
             0.4,
             "#fde0ef"
            ],
            [
             0.5,
             "#f7f7f7"
            ],
            [
             0.6,
             "#e6f5d0"
            ],
            [
             0.7,
             "#b8e186"
            ],
            [
             0.8,
             "#7fbc41"
            ],
            [
             0.9,
             "#4d9221"
            ],
            [
             1,
             "#276419"
            ]
           ],
           "sequential": [
            [
             0,
             "#0d0887"
            ],
            [
             0.1111111111111111,
             "#46039f"
            ],
            [
             0.2222222222222222,
             "#7201a8"
            ],
            [
             0.3333333333333333,
             "#9c179e"
            ],
            [
             0.4444444444444444,
             "#bd3786"
            ],
            [
             0.5555555555555556,
             "#d8576b"
            ],
            [
             0.6666666666666666,
             "#ed7953"
            ],
            [
             0.7777777777777778,
             "#fb9f3a"
            ],
            [
             0.8888888888888888,
             "#fdca26"
            ],
            [
             1,
             "#f0f921"
            ]
           ],
           "sequentialminus": [
            [
             0,
             "#0d0887"
            ],
            [
             0.1111111111111111,
             "#46039f"
            ],
            [
             0.2222222222222222,
             "#7201a8"
            ],
            [
             0.3333333333333333,
             "#9c179e"
            ],
            [
             0.4444444444444444,
             "#bd3786"
            ],
            [
             0.5555555555555556,
             "#d8576b"
            ],
            [
             0.6666666666666666,
             "#ed7953"
            ],
            [
             0.7777777777777778,
             "#fb9f3a"
            ],
            [
             0.8888888888888888,
             "#fdca26"
            ],
            [
             1,
             "#f0f921"
            ]
           ]
          },
          "colorway": [
           "#636efa",
           "#EF553B",
           "#00cc96",
           "#ab63fa",
           "#FFA15A",
           "#19d3f3",
           "#FF6692",
           "#B6E880",
           "#FF97FF",
           "#FECB52"
          ],
          "font": {
           "color": "#2a3f5f"
          },
          "geo": {
           "bgcolor": "white",
           "lakecolor": "white",
           "landcolor": "#E5ECF6",
           "showlakes": true,
           "showland": true,
           "subunitcolor": "white"
          },
          "hoverlabel": {
           "align": "left"
          },
          "hovermode": "closest",
          "mapbox": {
           "style": "light"
          },
          "paper_bgcolor": "white",
          "plot_bgcolor": "#E5ECF6",
          "polar": {
           "angularaxis": {
            "gridcolor": "white",
            "linecolor": "white",
            "ticks": ""
           },
           "bgcolor": "#E5ECF6",
           "radialaxis": {
            "gridcolor": "white",
            "linecolor": "white",
            "ticks": ""
           }
          },
          "scene": {
           "xaxis": {
            "backgroundcolor": "#E5ECF6",
            "gridcolor": "white",
            "gridwidth": 2,
            "linecolor": "white",
            "showbackground": true,
            "ticks": "",
            "zerolinecolor": "white"
           },
           "yaxis": {
            "backgroundcolor": "#E5ECF6",
            "gridcolor": "white",
            "gridwidth": 2,
            "linecolor": "white",
            "showbackground": true,
            "ticks": "",
            "zerolinecolor": "white"
           },
           "zaxis": {
            "backgroundcolor": "#E5ECF6",
            "gridcolor": "white",
            "gridwidth": 2,
            "linecolor": "white",
            "showbackground": true,
            "ticks": "",
            "zerolinecolor": "white"
           }
          },
          "shapedefaults": {
           "line": {
            "color": "#2a3f5f"
           }
          },
          "ternary": {
           "aaxis": {
            "gridcolor": "white",
            "linecolor": "white",
            "ticks": ""
           },
           "baxis": {
            "gridcolor": "white",
            "linecolor": "white",
            "ticks": ""
           },
           "bgcolor": "#E5ECF6",
           "caxis": {
            "gridcolor": "white",
            "linecolor": "white",
            "ticks": ""
           }
          },
          "title": {
           "x": 0.05
          },
          "xaxis": {
           "automargin": true,
           "gridcolor": "white",
           "linecolor": "white",
           "ticks": "",
           "title": {
            "standoff": 15
           },
           "zerolinecolor": "white",
           "zerolinewidth": 2
          },
          "yaxis": {
           "automargin": true,
           "gridcolor": "white",
           "linecolor": "white",
           "ticks": "",
           "title": {
            "standoff": 15
           },
           "zerolinecolor": "white",
           "zerolinewidth": 2
          }
         }
        }
       }
      }
     },
     "metadata": {}
    }
   ],
   "metadata": {}
  },
  {
   "cell_type": "code",
   "execution_count": 60,
   "source": [
    "\n",
    "def apply_tsne(df, n_components, perplexity):\n",
    "    tsne_3d = TSNE(n_components=3, perplexity=perplexity)\n",
    "    TCs_3d = tsne_3d.fit_transform(df)\n",
    "    tsne_columns = ['TSNE_'+ str(n) for n in range(1,n_components+1)]\n",
    "    tsne_df = pd.DataFrame(data = TCs_3d, columns = tsne_columns)\n",
    "    return tsne_df\n"
   ],
   "outputs": [],
   "metadata": {}
  },
  {
   "cell_type": "code",
   "execution_count": 61,
   "source": [
    "def explore_tsne(X, range_distance):\n",
    "    clusters_size = np.zeros(range_distance.shape[0])\n",
    "    for num, distance in enumerate(range_distance):\n",
    "        db = DBSCAN(eps=distance, min_samples=1).fit(X)\n",
    "        clusters_size[num] = len(set(db.labels_))\n",
    "    return pd.DataFrame({'distance': range_distance, 'cluster size': clusters_size})\n",
    "\n",
    "\n",
    "explore_tsne_1_to_11 = explore_tsne(X, np.arange(5,50,2))"
   ],
   "outputs": [],
   "metadata": {}
  },
  {
   "cell_type": "code",
   "execution_count": 62,
   "source": [
    "plot_scatter(explore_dbscan_1_to_11['distance'], explore_tsne_1_to_11['cluster size'], 'Distancia', 'Cantidad de Cluster')"
   ],
   "outputs": [
    {
     "output_type": "display_data",
     "data": {
      "text/plain": [
       "<Figure size 432x432 with 1 Axes>"
      ],
      "image/png": "[encoded data removed]"
     },
     "metadata": {}
    }
   ],
   "metadata": {}
  },
  {
   "cell_type": "code",
   "execution_count": null,
   "source": [],
   "outputs": [],
   "metadata": {}
  }
 ],
 "metadata": {
  "interpreter": {
   "hash": "d07da0965434c7b5286d6cc9b9463c44a85c1c514696f673aad9eb5034120dfe"
  },
  "kernelspec": {
   "name": "python3",
   "display_name": "Python 3.6.9 64-bit ('licentiate-thesis-repo-cz9ujhZI': pipenv)"
  },
  "language_info": {
   "codemirror_mode": {
    "name": "ipython",
    "version": 3
   },
   "file_extension": ".py",
   "mimetype": "text/x-python",
   "name": "python",
   "nbconvert_exporter": "python",
   "pygments_lexer": "ipython3",
   "version": "3.6.9"
  },
  "orig_nbformat": 4
 },
 "nbformat": 4,
 "nbformat_minor": 2
}