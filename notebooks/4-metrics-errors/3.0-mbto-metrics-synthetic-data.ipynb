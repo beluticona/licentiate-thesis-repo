{
 "cells": [
  {
   "cell_type": "markdown",
   "metadata": {},
   "source": [
    "# Metrics and Errors"
   ]
  },
  {
   "cell_type": "code",
   "execution_count": 16,
   "metadata": {},
   "outputs": [
    {
     "ename": "ModuleNotFoundError",
     "evalue": "No module named 'src'",
     "output_type": "error",
     "traceback": [
      "\u001b[0;31m---------------------------------------------------------------------------\u001b[0m",
      "\u001b[0;31mModuleNotFoundError\u001b[0m                       Traceback (most recent call last)",
      "\u001b[0;32m<ipython-input-16-d5b870508588>\u001b[0m in \u001b[0;36m<module>\u001b[0;34m\u001b[0m\n\u001b[1;32m     12\u001b[0m \u001b[0mplt\u001b[0m\u001b[0;34m.\u001b[0m\u001b[0mstyle\u001b[0m\u001b[0;34m.\u001b[0m\u001b[0mreload_library\u001b[0m\u001b[0;34m(\u001b[0m\u001b[0;34m)\u001b[0m\u001b[0;34m\u001b[0m\u001b[0;34m\u001b[0m\u001b[0m\n\u001b[1;32m     13\u001b[0m \u001b[0;32mimport\u001b[0m \u001b[0mmatplotlib\u001b[0m\u001b[0;34m.\u001b[0m\u001b[0mpatches\u001b[0m \u001b[0;32mas\u001b[0m \u001b[0mmpatches\u001b[0m\u001b[0;34m\u001b[0m\u001b[0;34m\u001b[0m\u001b[0m\n\u001b[0;32m---> 14\u001b[0;31m \u001b[0;32mfrom\u001b[0m \u001b[0msrc\u001b[0m \u001b[0;32mimport\u001b[0m \u001b[0mplot_utils\u001b[0m\u001b[0;34m\u001b[0m\u001b[0;34m\u001b[0m\u001b[0m\n\u001b[0m\u001b[1;32m     15\u001b[0m \u001b[0;34m\u001b[0m\u001b[0m\n\u001b[1;32m     16\u001b[0m \u001b[0msns\u001b[0m\u001b[0;34m.\u001b[0m\u001b[0mset_theme\u001b[0m\u001b[0;34m(\u001b[0m\u001b[0;34m)\u001b[0m\u001b[0;34m\u001b[0m\u001b[0;34m\u001b[0m\u001b[0m\n",
      "\u001b[0;31mModuleNotFoundError\u001b[0m: No module named 'src'"
     ]
    }
   ],
   "source": [
    "import numpy as np\n",
    "import pandas as pd\n",
    "import seaborn as sns\n",
    "import warnings\n",
    "import re\n",
    "import ast\n",
    "import matplotlib.pyplot as plt\n",
    "from metrics_utils import *\n",
    "from pathlib import Path\n",
    "\n",
    "import matplotlib.ticker as mtick\n",
    "plt.style.reload_library()\n",
    "import matplotlib.patches as mpatches\n",
    "from src import plot_utils\n",
    "\n",
    "sns.set_theme()\n",
    "\n",
    "warnings.filterwarnings(\"ignore\")\n",
    "warnings.filterwarnings(\"ignore\", category=FutureWarning)\n",
    "warnings.filterwarnings(\"ignore\", category=RuntimeWarning)"
   ]
  },
  {
   "cell_type": "markdown",
   "metadata": {},
   "source": [
    "## 1. Generate synthetic data\n",
    "\n",
    "Produces a set of confussion matrices, simulating two types of errors: experimental and model errors. \n",
    "\n",
    "- Model errors are reproduced by random horizontal swaps (eg. a sample labeled as a positive prediction is changed to a negative prediction). \n",
    "- Experimental error are reproduced by vertical swaps (eg. an actual positive sample is considered as a true negative).\n",
    "\n",
    "Given a positive proportion (P), a percentile of true positive (TP) and a percentile of true negative (TN), a confussion matrix is defined which will be then used as a seed to create more random matrices.  "
   ]
  },
  {
   "cell_type": "code",
   "execution_count": 2,
   "metadata": {},
   "outputs": [],
   "source": [
    "def create_cm_seed(positive_prop, percentile_tp, percentile_tn):\n",
    "    \"\"\"Create a confussion matrix with normalized values. \n",
    "\n",
    "    Args:\n",
    "        positive_prop (float): proportion of positive samples\n",
    "        percentile_tp (float): proportion of true positive over positives samples\n",
    "        percentile_tn (float, optional): proportion of true negatives over positives samples. Defaults to 0.8.\n",
    "\n",
    "    Returns:\n",
    "        [type]: [description]\n",
    "    \"\"\"\n",
    "    tp = percentile_tp * positive_prop \n",
    "    fn = positive_prop-tp\n",
    "    tn = (1-positive_prop) * percentile_tn\n",
    "    fp = 1-tp-fn-tn\n",
    "    return [tn, fp, fn, tp, positive_prop, percentile_tp]"
   ]
  },
  {
   "cell_type": "markdown",
   "metadata": {},
   "source": [
    "From each confussion matrix seed, generate `m_matrices` which will have an error proportion `error_prop`. \n",
    "\n",
    "Simulate errors by random horizontal and/or vertical swaps."
   ]
  },
  {
   "cell_type": "code",
   "execution_count": 3,
   "metadata": {},
   "outputs": [],
   "source": [
    "def set_experiment(confusion_matrix_args, error_type=\"exp\", error_prop=0.15, seed=1, alpha=0.10):\n",
    "    \"\"\" \n",
    "    Args:\n",
    "        confusion_matrix_args ([dicctionary]): Parameters that defines a seed confussion matrix\n",
    "        error_type ([string]): Type of error to be simulated. \"exp\" refers to experimental error, \"model\" to model errors\n",
    "        and \"both\" to both error types.\n",
    "        seed (int, optional): Random seed to simulate errors. Defaults to 1.\n",
    "        alpha (float, optional): [description]. When error_type is \"both\", alpha is the fraction of experimental errors,\n",
    "        the remaining proportion 1-alpha corresponds to model error.\n",
    "\n",
    "    Returns:\n",
    "        [type]: [description]\n",
    "    \"\"\"\n",
    "    np.random.seed(seed=seed)\n",
    "    imbalances = confusion_matrix_args[\"positive\"] \n",
    "    percentiles_tp = confusion_matrix_args[\"tn_percentil\"]\n",
    "    n_matrix_size = confusion_matrix_args[\"n_size\"]\n",
    "    m_matrices = confusion_matrix_args[\"m_matrices\"]\n",
    "    \n",
    "    # Generate samples from each confussion matrix seed\n",
    "    seed_confusion_matrix = [create_cm_seed(imb, ptl) for imb in imbalances for ptl in percentiles_tp]\n",
    "    df = pd.DataFrame(seed_confusion_matrix, columns=[\"tn\", \"fp\", \"fn\", \"tp\", \"imbalance\", \"percentil_tp\"])\n",
    "    df.iloc[:, 0:4] = df.iloc[:, 0:4] * n_matrix_size\n",
    "    df[[\"tn\", \"fp\", \"fn\", \"tp\"]]  = df.iloc[:, 0:4].round(0).astype(int)\n",
    "    idx_repeated = df.index.repeat(m_matrices)\n",
    "    df = df.loc[idx_repeated]\n",
    "    df = df.reset_index(drop=True)\n",
    "    \n",
    "    # Simulate errors by random pick & puts\n",
    "    errors = n_matrix_size * error_prop\n",
    "    for row in df.itertuples():\n",
    "        simulate_error_cm(df, row, error_type, errors, alpha)\n",
    "\n",
    "    confusion_matrix_args[\"seed\"] = seed\n",
    "    confusion_matrix_args[\"error_type\"] = error_type\n",
    "    confusion_matrix_args[\"error_prop\"] = error_prop\n",
    "    if error_type == \"exp-model\":\n",
    "        # as percentages\n",
    "        confusion_matrix_args[\"error_exp\"] = int(error_prop*alpha*100)\n",
    "        confusion_matrix_args[\"error_model\"] = int(error_prop*100)-confusion_matrix_args[\"error_exp\"]\n",
    "    data_info = {\"data\": df,\n",
    "                 \"metadata\": confusion_matrix_args}\n",
    "    \n",
    "    return data_info\n",
    "\n",
    "\n",
    "def simulate_single_error(df, type_error_to_simulate, row):\n",
    "    i = row.Index\n",
    "    done_simulation = False\n",
    "    while(not done_simulation):\n",
    "        flip_cm_class = np.random.randint(0,2)\n",
    "        class_from = np.random.randint(0,2)\n",
    "        class_to = not class_from\n",
    "        if type_error_to_simulate == \"model\":\n",
    "            index_cm_from = flip_cm_class*2 + class_from\n",
    "            index_cm_to = flip_cm_class*2 + class_to\n",
    "        elif type_error_to_simulate == \"exp\":\n",
    "            index_cm_from = flip_cm_class + class_from * 2\n",
    "            index_cm_to = flip_cm_class + class_to * 2\n",
    "        if df.iloc[i,index_cm_from] > 0:\n",
    "            df.iloc[i,index_cm_from] -= 1\n",
    "            df.iloc[i,index_cm_to] += 1\n",
    "            done_simulation = True\n",
    "              \n",
    "                \n",
    "def simulate_error_cm(df, row, error_type, errors, alpha):\n",
    "    if error_type == \"exp-model\":\n",
    "        model_error = round(errors * alpha)\n",
    "        exp_error = round(errors-model_error)\n",
    "        reamining_errors = {\"exp\": exp_error,\n",
    "                            \"model\": model_error}\n",
    "        while sum(reamining_errors.values()) > 0:\n",
    "            proposed_type_error = np.random.choice([\"exp\", \"model\"])\n",
    "            type_error_to_simulate = proposed_type_error if reamining_errors[proposed_type_error] > 0 else \"exp\"\n",
    "            simulate_single_error(df, type_error_to_simulate, row)\n",
    "            reamining_errors[type_error_to_simulate]-=1\n",
    "    else:\n",
    "        permutation_remaining = errors\n",
    "        while permutation_remaining > 0:\n",
    "            simulate_single_error(df, error_type, row)\n",
    "            permutation_remaining -= 1"
   ]
  },
  {
   "cell_type": "code",
   "execution_count": 5,
   "metadata": {},
   "outputs": [],
   "source": [
    "example = pd.read_csv(\"exp_model/{'positive': [0.1, 0.4], 'tn_percentil': [0.25, 0.5, 0.75], 'n_size': 75, 'm_matrices': 250, 'seed': 0, 'error_type': 'exp', 'error_prop': 0.15}.csv\")"
   ]
  },
  {
   "cell_type": "code",
   "execution_count": 10,
   "metadata": {},
   "outputs": [],
   "source": [
    "positive_proportions = [0.10, 0.4]\n",
    "tp_percentiles = [0]\n",
    "\n",
    "m_matrices = 3\n",
    "n_size = 300\n",
    "\n",
    "confusion_matrix_args = {\"positive\":positive_proportions,\n",
    "                        \"tn_percentil\":tp_percentiles}\n",
    "\n",
    "confusion_matrix_args[\"n_size\"] = n_size\n",
    "confusion_matrix_args[\"m_matrices\"] = m_matrices\n"
   ]
  },
  {
   "cell_type": "code",
   "execution_count": 11,
   "metadata": {},
   "outputs": [],
   "source": [
    "data_info = set_experiment(confusion_matrix_args, error_type = \"exp-model\", error_prop = 0.15, seed=1, alpha=0.3)\n"
   ]
  },
  {
   "cell_type": "code",
   "execution_count": 12,
   "metadata": {},
   "outputs": [
    {
     "data": {
      "text/html": [
       "<div>\n",
       "<style scoped>\n",
       "    .dataframe tbody tr th:only-of-type {\n",
       "        vertical-align: middle;\n",
       "    }\n",
       "\n",
       "    .dataframe tbody tr th {\n",
       "        vertical-align: top;\n",
       "    }\n",
       "\n",
       "    .dataframe thead th {\n",
       "        text-align: right;\n",
       "    }\n",
       "</style>\n",
       "<table border=\"1\" class=\"dataframe\">\n",
       "  <thead>\n",
       "    <tr style=\"text-align: right;\">\n",
       "      <th></th>\n",
       "      <th>tn</th>\n",
       "      <th>fp</th>\n",
       "      <th>fn</th>\n",
       "      <th>tp</th>\n",
       "      <th>imbalance</th>\n",
       "      <th>percentil_tp</th>\n",
       "    </tr>\n",
       "  </thead>\n",
       "  <tbody>\n",
       "    <tr>\n",
       "      <th>0</th>\n",
       "      <td>2</td>\n",
       "      <td>275</td>\n",
       "      <td>22</td>\n",
       "      <td>1</td>\n",
       "      <td>0.1</td>\n",
       "      <td>0</td>\n",
       "    </tr>\n",
       "    <tr>\n",
       "      <th>1</th>\n",
       "      <td>1</td>\n",
       "      <td>266</td>\n",
       "      <td>33</td>\n",
       "      <td>0</td>\n",
       "      <td>0.1</td>\n",
       "      <td>0</td>\n",
       "    </tr>\n",
       "    <tr>\n",
       "      <th>2</th>\n",
       "      <td>2</td>\n",
       "      <td>265</td>\n",
       "      <td>32</td>\n",
       "      <td>1</td>\n",
       "      <td>0.1</td>\n",
       "      <td>0</td>\n",
       "    </tr>\n",
       "    <tr>\n",
       "      <th>3</th>\n",
       "      <td>0</td>\n",
       "      <td>171</td>\n",
       "      <td>122</td>\n",
       "      <td>7</td>\n",
       "      <td>0.4</td>\n",
       "      <td>0</td>\n",
       "    </tr>\n",
       "    <tr>\n",
       "      <th>4</th>\n",
       "      <td>3</td>\n",
       "      <td>182</td>\n",
       "      <td>115</td>\n",
       "      <td>0</td>\n",
       "      <td>0.4</td>\n",
       "      <td>0</td>\n",
       "    </tr>\n",
       "    <tr>\n",
       "      <th>5</th>\n",
       "      <td>5</td>\n",
       "      <td>178</td>\n",
       "      <td>113</td>\n",
       "      <td>4</td>\n",
       "      <td>0.4</td>\n",
       "      <td>0</td>\n",
       "    </tr>\n",
       "  </tbody>\n",
       "</table>\n",
       "</div>"
      ],
      "text/plain": [
       "   tn   fp   fn  tp  imbalance  percentil_tp\n",
       "0   2  275   22   1        0.1             0\n",
       "1   1  266   33   0        0.1             0\n",
       "2   2  265   32   1        0.1             0\n",
       "3   0  171  122   7        0.4             0\n",
       "4   3  182  115   0        0.4             0\n",
       "5   5  178  113   4        0.4             0"
      ]
     },
     "execution_count": 12,
     "metadata": {},
     "output_type": "execute_result"
    }
   ],
   "source": [
    "data_info[\"data\"]"
   ]
  },
  {
   "cell_type": "code",
   "execution_count": 4,
   "metadata": {},
   "outputs": [],
   "source": [
    "def add_metric_to(df, metric, average):\n",
    "    \"\"\" Compute and add metric score as a new column. df must contain confussion matrices.\n",
    "    Args:\n",
    "        df ([pandas dataframe]): confussion matrices.\n",
    "        metric ([str]): possible options: \"recall\", \"F1\", \"precision\", \"matthew\".\n",
    "        average ([str]): way to average score across classes. Possible options: \"macro\", \"micro\", \"weighted\".\n",
    "    Returns:\n",
    "        [pandas dataframe]: df with metric score as column.\n",
    "    \"\"\"\n",
    "    if not metric.startswith(\"matthew\"):\n",
    "        name_metric = metric + \"_\" + average\n",
    "    else: name_metric = metric\n",
    "    df[name_metric] = df.apply(lambda row: from_row_get_metric(row, metric=metric, m_average=average), axis=1)"
   ]
  },
  {
   "cell_type": "markdown",
   "metadata": {},
   "source": [
    "## Experiments"
   ]
  },
  {
   "cell_type": "markdown",
   "metadata": {},
   "source": [
    "\n",
    "### 1. Search complement metric\n",
    "\n",
    "Recall is the deafault metric by problem definition. Matthew is the metric to benchmark with.\n",
    "Metrics complements is measured by how well they both together allow you to diferentiate two noisy matrices from different seed matrices. "
   ]
  },
  {
   "cell_type": "markdown",
   "metadata": {},
   "source": [
    "#### Model error\n",
    "\n"
   ]
  },
  {
   "cell_type": "markdown",
   "metadata": {},
   "source": [
    "#### Experiment error"
   ]
  },
  {
   "cell_type": "markdown",
   "metadata": {},
   "source": [
    "### 2. Error variability by matrix size (n)\n"
   ]
  },
  {
   "cell_type": "markdown",
   "metadata": {},
   "source": [
    "### 3. Metric's Distribution Overlap"
   ]
  },
  {
   "cell_type": "markdown",
   "metadata": {},
   "source": [
    "### Extrapolación \n",
    "\n",
    "Cada matrix de confusión representa la performance del modelo para un conjunto de experimentos llevados \n",
    "en el laboratorio para una amina en particular.\n",
    "\n",
    "Nosotres estamos confiando los resultados del trabajo en un subconjunto de datos para cada amina (~200 datos) \n",
    "\n",
    "Queremos saber si podemos extrapolar:\n",
    "    - en qué condiciones se puede entrenar para que extrapole\n",
    "    - si para algunas funciona mejor, por qué \n",
    "\n",
    "Supongamos un espacio de entrenamiento finito discretizable acotado:\n",
    "    - por conocimiento del problema (ej. concentración ácido < 5 M, temperatura < 130°)\n",
    "    - por metodología/intrumentación experimental\n",
    "\n",
    "Luego si tuviésemos el total de los datos posibles y corríamos el modelo, podríamos armar una matriz \n",
    "que indique fielmente cómo es la performance del modelo con respecto a esa amina. \n",
    "Sea esta la **matriz semilla**. \n",
    "\n",
    "Luego, al trabajar con un subconjunto de ese espacio total, la matriz experimental será un tanto \"similar\" \n",
    "a la matriz semilla (lo cual modelaremos mediante np.random).\n",
    "\n",
    "De modo que tendremos muchas posibles mediciones de performance del modelo. \n",
    "Alguna de ellas se corresponde con nuestros datos...solo una. \n",
    "¿Qué tanto podemos confiar en ella?\n",
    "\n",
    "OBS: Con muchos posible subconjuntos de datos del real, podemos tener la misma matriz. \n",
    "Cada matriz es una clase de equivalencia de los subconjuntos (x, y_true, y_pred).\n",
    "\n",
    "\n",
    "Supongamos que tenemos muchos datos hechos en el laboratorio para cada amina.\n",
    "En el caso ideal una cantidad significativa de experimentos nos habla de qué tan bien predice el modelo \n",
    "sobre datos de una amina en particular.\n",
    "Nosotres solo tendremos acceso a una cantidad n_amine_sample, es decir, nos quedamos con \n",
    "una perspectiva sesgada de cómo anda el modelo.\n",
    "    - Por ahí justo para esa cantidad de datos anda bien\n",
    "    - Por ahí justo para esa cantidad y datos experimentales anda mal\n",
    "    - Etc\n",
    "\n",
    "Objetivo Principla: \n",
    "    Queremos identificar para qué aminas el modelo predice adecuadamente.\n",
    "\n",
    "Para ello debemos:\n",
    "    - Saber qué tanto se parece esa __sample__ al comportamiento esperado.\n",
    "Queremos no equivocarnos al decir que el modelo no aprendió bien para una amina. Es decir, \n",
    "no queremos equivocarnos entre tipos dado que luego\n",
    "\n",
    "Para ello: \n",
    "    1. Definimos una performance real del modelo para cada amina tipo (aka matrices semilla)\n",
    "    2. Generamos matrices \n",
    "Diremos que el comportamiento esperado es  \n",
    "\n"
   ]
  },
  {
   "cell_type": "markdown",
   "metadata": {},
   "source": [
    "Nos gustaría poder identificar facilmente con qué aminas está funcionando y vale la pena seguir vs con cuales renunciar. Análisis visual de dos métricas para descartar cómo está performando el modelo con respecto a la realidad de la amina"
   ]
  },
  {
   "cell_type": "code",
   "execution_count": 5,
   "metadata": {},
   "outputs": [],
   "source": [
    "%matplotlib agg"
   ]
  },
  {
   "cell_type": "code",
   "execution_count": 6,
   "metadata": {},
   "outputs": [],
   "source": [
    "def map_names_for_plot():\n",
    "    metrics = ['precision_macro',\n",
    "            'precision_micro',\n",
    "            'recall_macro',\n",
    "            'recall_micro',\n",
    "            'f1_weighted',\n",
    "            'f1_macro',\n",
    "            'matthew']\n",
    "        \n",
    "    map_names = { metric: metric.replace(\"precision\", \"Precisión\")\n",
    "                .replace(\"_\", \" \")\n",
    "                .replace(\"f1\", \"F1\")\n",
    "                .replace(\"recall\", \"Recall\")   \n",
    "                .replace(\"matthew\", \"Matthew\")   \n",
    "                for metric in metrics}\n",
    "    map_names[\"percentil_tp\"] = \"Percentil TP\"\n",
    "    map_names[\"imbalance\"] = \"Desbalance\"\n",
    "    map_names[\"exp\"] = \"Experimental\"\n",
    "    map_names[\"model\"] = \"Modelo\"\n",
    "    map_names[\"exp-model\"] = \"Exp-modelo\"\n",
    "    map_names[\"n_size\"] = \"N muestras\"\n",
    "    return map_names"
   ]
  },
  {
   "cell_type": "code",
   "execution_count": 24,
   "metadata": {},
   "outputs": [],
   "source": [
    "positive_proportions = [0.10, 0.4]\n",
    "tp_percentiles = [0.25,0.5,0.75]\n",
    "\n",
    "\n",
    "m_matrices_ls = [250]\n",
    "n_size_ls = [75, 300, 700]\n",
    "\n",
    "alpha_ls = [0.3,0.6]\n",
    "\n",
    "def run_experiment(error_type, m_matrices_ls, n_size_ls, \n",
    "                   positive_proportions=[0.10, 0.4],\n",
    "                   tp_percentiles=[0.25,0.5,0.75],\n",
    "                   alphas = [0],\n",
    "                   n_run=1, path=\"\"):\n",
    "    \n",
    "    confusion_matrix_args = {\"positive\":positive_proportions,\n",
    "                             \"tn_percentil\":tp_percentiles}\n",
    "    \n",
    "    data_folder = Path(path)\n",
    "    data_folder.mkdir(parents=True, exist_ok=True)\n",
    "    files = []\n",
    "    \n",
    "    metrics_to_compute = {\n",
    "                        \"precision\": {\"micro\", \"macro\"},\n",
    "                        \"recall\": {\"micro\", \"macro\"},\n",
    "                        \"f1\":{\"macro\", \"weighted\"},\n",
    "                        \"matthew\": {\"score\"}\n",
    "                        }\n",
    "    \n",
    "    for seed in range(n_run):\n",
    "        # using default 0.8 for true negative proportion\n",
    "        for n_size in n_size_ls:\n",
    "            for m_matrices in m_matrices_ls:\n",
    "                for alpha in alphas:\n",
    "                    confusion_matrix_args[\"n_size\"] = n_size\n",
    "                    confusion_matrix_args[\"m_matrices\"] = m_matrices\n",
    "                    data_info = set_experiment(confusion_matrix_args, error_type = error_type,\n",
    "                                               error_prop = 0.15, seed=seed, alpha=alpha)\n",
    "\n",
    "                    for metric in metrics_to_compute.keys():\n",
    "                        for average in metrics_to_compute[metric]:\n",
    "                            add_metric_to(data_info[\"data\"], metric, average)\n",
    "                    \n",
    "                    #if 'tn_percentil' in data_info[\"metadata\"]: del data_info[\"metadata\"]['tn_percentil']\n",
    "                    file_name = Path(data_folder / (str(data_info[\"metadata\"]) + \".csv\") )\n",
    "                    data_info[\"data\"].to_csv(file_name, index=False)\n",
    "                    files.append(file_name)\n",
    "    return files\n"
   ]
  },
  {
   "cell_type": "code",
   "execution_count": 238,
   "metadata": {},
   "outputs": [],
   "source": [
    "files_test = run_experiment(error_type=\"model\", m_matrices_ls=[10], n_size_ls=[10],\n",
    "               n_run=1, path=\"test2\")"
   ]
  },
  {
   "cell_type": "code",
   "execution_count": 232,
   "metadata": {},
   "outputs": [],
   "source": [
    "files_exp_test = run_experiment(error_type=\"exp\", m_matrices_ls=m_matrices_ls, n_size_ls=n_size_ls,\n",
    "               n_run=1, path=\"exp_1\")"
   ]
  },
  {
   "cell_type": "code",
   "execution_count": 25,
   "metadata": {},
   "outputs": [],
   "source": [
    "files_exp_test = run_experiment(error_type=\"exp-model\", m_matrices_ls=m_matrices_ls, n_size_ls=n_size_ls,\n",
    "               n_run=1, alphas = alpha_ls, path=\"porcentaje_exp_model\")"
   ]
  },
  {
   "cell_type": "code",
   "execution_count": null,
   "metadata": {},
   "outputs": [],
   "source": [
    "files_test = run_experiment(error_type=\"model\", m_matrices_ls=[10], n_size_ls=[10],\n",
    "               n_run=1, path=\"test2\")"
   ]
  },
  {
   "cell_type": "code",
   "execution_count": 7,
   "metadata": {},
   "outputs": [],
   "source": [
    "def plot_files(path, plot_fun, plot_args={}):\n",
    "    path_src = Path(path)\n",
    "    if path_src.is_dir():\n",
    "        plot_folder = Path(path + \"_plots\")\n",
    "        plot_folder.mkdir(parents=True, exist_ok=True)\n",
    "        for src_filename in path_src.iterdir():\n",
    "            plot_fun(src_filename, plot_folder, plot_args) \n",
    "    #elif path_src.is_file(): \n",
    "    #   plot_fun(path_src, plot_args, Path(plot_folder/src_filename)) \n",
    "    \n",
    "def plot_each_file(path_folder, fun_plot, plot_folder=\"\", plot_args={}):\n",
    "    path_src = Path(path_folder)\n",
    "    path_dts = Path(path_folder+\"_\"+\"plot\"+\"_\"+ plot_folder)\n",
    "    path_dts.mkdir(parents=True, exist_ok=True)\n",
    "    if path_src.is_dir():\n",
    "        for src_filename in path_src.iterdir():\n",
    "            fun_plot(src_filename, path_dts, plot_args)\n",
    "            \n",
    "\n",
    "def plot_merged_files_from(path, plot_fun, plot_args={}):\n",
    "    path_src = Path(path)\n",
    "    df_ls = []\n",
    "    if path_src.is_dir():\n",
    "        for src_filename in path_src.iterdir():\n",
    "            df = pd.read_csv(src_filename)\n",
    "            filename = src_filename.stem\n",
    "            plot_variables = map_from_filename(filename)\n",
    "            df[\"n_size\"] = plot_variables[\"n_size\"]\n",
    "            if plot_variables[\"error_type\"] == \"exp-model\":\n",
    "                df[\"error_exp\"] = plot_variables[\"error_exp\"] \n",
    "                df[\"error_model\"] = plot_variables[\"error_model\"] \n",
    "            df_ls.append(df)\n",
    "            plot_args[\"plot_variables\"] = plot_variables\n",
    "    df = pd.concat(df_ls, axis=0, ignore_index=True)\n",
    "    plot_folder = Path(plot_args.get(\"output_path\", path + \"_plots\"))\n",
    "    plot_folder.mkdir(parents=True, exist_ok=True)\n",
    "\n",
    "    if plot_variables[\"error_type\"] == \"exp-model\":\n",
    "        values_slices = df[\"error_exp\"].unique()\n",
    "        for value_slice in values_slices:\n",
    "            filtered_data = df.loc[df[\"error_exp\"] == value_slice]\n",
    "            plot_variables[\"error_exp\"] = value_slice\n",
    "            plot_variables[\"error_model\"] = filtered_data[\"error_model\"].unique()[0]\n",
    "            plot_args[\"plot_variables\"] = plot_variables\n",
    "            plot_comparision(filtered_data, plot_fun, plot_folder, plot_args)\n",
    "    else:\n",
    "        plot_comparision(df, plot_fun, plot_folder, plot_args)\n",
    "    \n",
    " \n",
    "        \n",
    "def plot_comparision(df, plot_fun, plot_folder, plot_args):\n",
    "    posible_complement = [\"precision_macro\", \"precision_micro\", \"f1_weighted\", \"f1_macro\", \"matthew\"]\n",
    "    for metric in posible_complement:\n",
    "        plot_args[\"x_metric\"] = metric\n",
    "        plot_fun(df, plot_folder, plot_args)   "
   ]
  },
  {
   "cell_type": "code",
   "execution_count": 13,
   "metadata": {},
   "outputs": [],
   "source": [
    "def map_from_filename(file_name):\n",
    "    str_map_match = re.search(r'\\{.*\\}', file_name).group(0)\n",
    "    return ast.literal_eval(str_map_match)\n",
    "\n",
    "def make_title_from_vars(map_cols, plot_variables):\n",
    "    plot_title = \"Tipo de Error: {} | N muestras: {} | M matrices: {} | semilla: {}\\n\"\n",
    "    vars_in_plot_title = [map_cols[plot_variables[\"error_type\"]],\n",
    "                                    plot_variables[\"n_size\"], plot_variables[\"m_matrices\"], plot_variables[\"seed\"]]\n",
    "    if plot_variables[\"error_type\"] == \"exp-model\":\n",
    "        plot_title += \" Error Exp: {} %\".format(plot_variables[\"error_exp\"])\n",
    "        plot_title += \" | Error Modelo: {} %\\n\".format(plot_variables[\"error_model\"])\n",
    "        extract = \"| N muestras: {}\".format(plot_variables[\"n_size\"])\n",
    "        plot_title.replace(extract, \"\")\n",
    "    plot_title = plot_title.format(*vars_in_plot_title)\n",
    "    return plot_title   \n",
    "    \n",
    "            \n",
    "def plot_compare_metrics_distribution(file_path, plot_folder, plot_args={}):\n",
    "    map_cols = map_names_for_plot()\n",
    "    all_metrics = [\"precision_macro\", \"precision_micro\", \"f1_weighted\", \"f1_macro\", \"matthew\"]\n",
    "    metrics = plot_args.get(\"metrics_to_plot\", all_metrics)\n",
    "    df = pd.read_csv(file_path)\n",
    "    df[\"imbalance\"] = df[\"imbalance\"]*100\n",
    "    df[\"imbalance\"] = df[\"imbalance\"].astype(int)\n",
    "    df = df.rename(columns=map_cols)\n",
    "    filename = file_path.stem\n",
    "    plot_variables = map_from_filename(filename)\n",
    "    for metric in metrics:\n",
    "        ax = sns.displot(df, x=map_cols[metric], hue=map_cols[\"percentil_tp\"], kind=\"kde\",\n",
    "                         col=map_cols[\"imbalance\"], fill=True, common_norm=False, palette=\"deep\",\n",
    "                         alpha=.5, linewidth=3, legend=False, hue_order=[0.75, 0.5, 0.25])\n",
    "        ax.set(ylabel='Distribución')\n",
    "        ax.add_legend(labels=[\"$Q_{25}$\", \"$Q_{50}$\", \"$Q_{75}$\"],\n",
    "                      title=\"Percentil TP\",\n",
    "                      label_order=[0.25, 0.5, 0.75])\n",
    "        ax.set_titles('Desbalance = {col_name}%')\n",
    "        \n",
    "        ax.fig.subplots_adjust(top=0.80)\n",
    "        plot_title = make_title_from_vars(map_cols, plot_variables)\n",
    "        ax.fig.suptitle(plot_title, fontsize=14)\n",
    "        plot_path = plot_folder / (filename + \"_\"+ metric + \".png\")\n",
    "        plt.savefig(plot_path, facecolor='w', transparent=False, dpi=150)\n",
    "\n",
    "def plot_compare_metrics_distribution(file_path, plot_folder, plot_args={}):\n",
    "    map_cols = map_names_for_plot()\n",
    "    all_metrics = [\"precision_macro\", \"precision_micro\", \"f1_weighted\", \"f1_macro\", \"matthew\"]\n",
    "    metrics = plot_args.get(\"metrics_to_plot\", all_metrics)\n",
    "    df = pd.read_csv(file_path)\n",
    "    df[\"imbalance\"] = df[\"imbalance\"]*100\n",
    "    df[\"imbalance\"] = df[\"imbalance\"].astype(int)\n",
    "    df = df.rename(columns=map_cols)\n",
    "    filename = file_path.stem\n",
    "    plot_variables = map_from_filename(filename)\n",
    "    for metric in metrics:\n",
    "        ax = sns.displot(df, x=map_cols[metric], hue=map_cols[\"percentil_tp\"], kind=\"kde\",\n",
    "                         col=map_cols[\"imbalance\"], fill=True, common_norm=False, palette=\"deep\",\n",
    "                         alpha=.5, linewidth=3, legend=False, hue_order=[0.75, 0.5, 0.25])\n",
    "        ax.set(ylabel='Distribución')\n",
    "        ax.add_legend(labels=[\"$Q_{25}$\", \"$Q_{50}$\", \"$Q_{75}$\"],\n",
    "                      title=\"Percentil TP\",\n",
    "                      label_order=[0.25, 0.5, 0.75])\n",
    "        ax.set_titles('Desbalance = {col_name}%')\n",
    "        \n",
    "        ax.fig.subplots_adjust(top=0.80)\n",
    "        plot_title = make_title_from_vars(map_cols, plot_variables)\n",
    "        ax.fig.suptitle(plot_title, fontsize=14)\n",
    "        plot_path = plot_folder / (filename + \"_\"+ metric + \".png\")\n",
    "        plt.savefig(plot_path, facecolor='w', transparent=False, dpi=150)\n",
    "        \n",
    "def plot_scatter(df, plot_folder, plot_args={}):\n",
    "    sns.set_context(\"notebook\")\n",
    "    map_cols = map_names_for_plot()\n",
    "    #filename = file_path.stem\n",
    "    #plot_variables = map_from_filename(filename)\n",
    "    #imbalance = plot_args[\"imbalance\"]\n",
    "    #df = df[df[\"imbalance\"] == imbalance]\n",
    "    x_metric = plot_args[\"x_metric\"]\n",
    "    y_metric = plot_args[\"y_metric\"]\n",
    "    hue_col = \"imbalance\"#\"percentil_tp\"\n",
    "    df = df.rename(columns=map_cols)\n",
    "    #g = sns.FacetGrid(data=df, col=map_cols[hue_col])\n",
    "    \n",
    "    # Opción A: scatter\n",
    "    g = sns.relplot(data=df, x=map_cols[x_metric], y=map_cols[y_metric],\n",
    "                    hue=map_cols[\"percentil_tp\"], col=map_cols[\"imbalance\"],\n",
    "                    row=map_cols[\"n_size\"], palette=\"deep\")\n",
    "    \n",
    "    ## Opción Hex\n",
    "    # g = sns.FacetGrid(data=df, col=map_cols[hue_col], row=map_cols[\"n_size\"], size=4)\n",
    "    # def hexbin(x, y, color, **kwargs):\n",
    "    #     cmap = sns.light_palette(color, as_cmap=True)\n",
    "    #     plt.hexbin(x, y, gridsize=12, cmap=cmap, **kwargs)\n",
    "    # x_min = df[map_cols[x_metric]].min()\n",
    "    # y_min = df[map_cols[y_metric]].min()\n",
    "    # x_max = df[map_cols[x_metric]].max()\n",
    "    # y_max = df[map_cols[y_metric]].max()\n",
    "    # g.map(hexbin, map_cols[x_metric], map_cols[y_metric], extent=[x_min, x_max, y_min, y_max], marginals=True)\n",
    "\n",
    "    plot_variables = plot_args[\"plot_variables\"]\n",
    "    plot_title = make_title_from_vars(map_cols, plot_variables)\n",
    "    g.fig.suptitle(plot_title)\n",
    "    g.fig.subplots_adjust(top=0.93)\n",
    "    \n",
    "    plot_folder = Path(plot_folder)\n",
    "    plot_folder.mkdir(parents=True, exist_ok=True)\n",
    "    \n",
    "    plot_path = plot_folder / (plot_title.replace(\"\\n\", \" | \") + \"_\" + x_metric + \".png\")\n",
    "    plt.savefig(plot_path, facecolor='w', transparent=False, dpi=150)\n",
    "    \n",
    "    \n",
    "def plot_joint(file_path, plot_folder, plot_args={}):\n",
    "    sns.set_context(\"notebook\")\n",
    "    map_cols = map_names_for_plot()\n",
    "    df = pd.read_csv(file_path)\n",
    "    filename = file_path.stem\n",
    "    plot_variables = map_from_filename(filename)\n",
    "    #imbalance = plot_args[\"imbalance\"]\n",
    "    #df = df[df[\"imbalance\"] == imbalance]\n",
    "    x_metric = plot_args[\"x_metric\"]\n",
    "    hue_col = \"imbalance\"#\"percentil_tp\"\n",
    "    df = df.rename(columns=map_cols)\n",
    "    \n",
    "    posible_complement = [\"precision_macro\", \"precision_micro\", \"f1_weighted\", \"f1_macro\", \"matthew\"]\n",
    "    for metric in posible_complement:\n",
    "        y_metric = metric\n",
    "    \n",
    "    ## Opción scatter\n",
    "    #g = sns.relplot(data=df, x=map_cols[x_metric], y=map_cols[y_metric],\n",
    "    #                hue=map_cols[\"percentil_tp\"], col=map_cols[\"imbalance\"])\n",
    "\n",
    "    ## Opción Hex\n",
    "        g = sns.JointGrid(data=df, x=map_cols[x_metric], y=map_cols[y_metric], hue=map_cols[hue_col])\n",
    "        #g.plot(sns.scatterplot, sns.boxplo)\n",
    "        g.plot_joint(sns.scatterplot)\n",
    "        g.plot_marginals(sns.boxplot)\n",
    "    #g = sns.jointplot(data=df, x=map_cols[x_metric], y=map_cols[y_metric], hue=map_cols[hue_col],\n",
    "    #                  xlim = (-0.4,1.15), ylim = (0,1.1))\n",
    "    #g.plot_joint(sns.scatterplot)\n",
    "    #g.plot_marginals(sns.kdeplot, zorder=3, levels=1)\n",
    "    #g.plot_marginals(sns.rugplot, height=.05, clip_on=True)\n",
    "  # g.savefig(\"img/recall_vs_{}_imbalance_{}.jpg\".format(x_metric, imbalance), transparent=True,  facecolor='w')\n",
    "    #plt.savefig(\"img_final_cross/recall_vs_{}_imbalance_{}_seed_{}_n_{}_cm_{}.png\".format(x_metric, imbalance, seed, n, cm_sample),facecolor='w', transparent=False, dpi=150)\n",
    "\n",
    "def plot_compare_metrics(path_src, output_path):\n",
    "    plot_merged_files_from(path_src, plot_scatter, plot_args={\n",
    "                                                            \"y_metric\": \"recall_macro\",\n",
    "                                                            \"output_path\": output_path\n",
    "                                                            })"
   ]
  },
  {
   "cell_type": "code",
   "execution_count": 9,
   "metadata": {},
   "outputs": [],
   "source": [
    "# analizar en ambos errores la combinación de métricas\n",
    "# parece ser que al combinar sí vale la pena\n",
    "# corregir el alpga que ahora es el 10% del 15% de error."
   ]
  },
  {
   "cell_type": "code",
   "execution_count": 247,
   "metadata": {},
   "outputs": [],
   "source": [
    "plot_compare_metrics(\"exp_model_2\") #modelo-exp"
   ]
  },
  {
   "cell_type": "code",
   "execution_count": 76,
   "metadata": {},
   "outputs": [],
   "source": [
    "plot_compare_metrics(\"porcentaje_exp_model\", \"porcentaje_exp_0.3_0.6\") #modelo-exp\n"
   ]
  },
  {
   "cell_type": "code",
   "execution_count": 194,
   "metadata": {},
   "outputs": [],
   "source": [
    "plot_each_file(\"porcentaje_exp_model\", plot_compare_metrics_distribution,\"dist_18_feb\")"
   ]
  },
  {
   "cell_type": "code",
   "execution_count": 14,
   "metadata": {},
   "outputs": [],
   "source": [
    "plot_each_file(\"model_1\", plot_compare_metrics_distribution,\"dist_4_jul\")"
   ]
  },
  {
   "cell_type": "code",
   "execution_count": 11,
   "metadata": {},
   "outputs": [],
   "source": [
    "plot_each_file(\"exp_1\", plot_compare_metrics_distribution,\"dist_18_feb\")\n"
   ]
  },
  {
   "cell_type": "code",
   "execution_count": 52,
   "metadata": {},
   "outputs": [],
   "source": [
    "plot_compare_metrics(\"porcentaje_exp_model\", output_path=\"porcentaje_exp_model_9_exp\", \n",
    "                     filters={\"error_exp\": 9}) #modelo-exp\n"
   ]
  },
  {
   "cell_type": "code",
   "execution_count": 251,
   "metadata": {},
   "outputs": [],
   "source": [
    "plot_compare_metrics(\"model_1\") #modelo"
   ]
  },
  {
   "cell_type": "code",
   "execution_count": 253,
   "metadata": {},
   "outputs": [],
   "source": [
    "## Se ve que ambos incrementan en el mixto. Jugar con el alpha y re definir nombre de título"
   ]
  },
  {
   "cell_type": "code",
   "execution_count": 252,
   "metadata": {},
   "outputs": [],
   "source": [
    "plot_compare_metrics(\"exp_1\") #exp"
   ]
  },
  {
   "cell_type": "code",
   "execution_count": 185,
   "metadata": {},
   "outputs": [],
   "source": [
    "#plot_merged_files_from(\"test\", plot_scatter, plot_args={\"x_metric\": \"precision_macro\",\n",
    "#                                                        \"y_metric\": \"recall_macro\"})"
   ]
  },
  {
   "cell_type": "code",
   "execution_count": 97,
   "metadata": {},
   "outputs": [],
   "source": [
    "file_path_test = \"{'positive': [0.1, 0.4], 'tn_percentil': [0.25, 0.5, 0.75], 'n_size': 75, 'm_matrices': 250, 'seed': 0, 'error_type': 'exp-model', 'error_prop': 0.15, 'error_exp': 4, 'error_model': 11}.csv\"\n",
    "folder = \"porcentaje_exp_model\""
   ]
  },
  {
   "cell_type": "code",
   "execution_count": 82,
   "metadata": {},
   "outputs": [],
   "source": [
    "path_src = folder / Path(file_path_test)\n"
   ]
  },
  {
   "cell_type": "code",
   "execution_count": 189,
   "metadata": {},
   "outputs": [],
   "source": [
    "#plot_compare_metrics_distribution(path_src, \"\", plot_args={})"
   ]
  },
  {
   "cell_type": "code",
   "execution_count": 96,
   "metadata": {},
   "outputs": [],
   "source": [
    "#plot_each_file(\"model_1\", plot_joint, \"con_boxplot\", plot_args={\"x_metric\":\"recall_macro\"})"
   ]
  },
  {
   "cell_type": "code",
   "execution_count": 90,
   "metadata": {},
   "outputs": [
    {
     "data": {
      "image/png": "[encoded data removed]",
      "text/plain": [
       "<Figure size 432x432 with 3 Axes>"
      ]
     },
     "metadata": {
      "needs_background": "light"
     },
     "output_type": "display_data"
    }
   ],
   "source": [
    "plot_joint(path_src, \"porcentaje-exp-model-other\", plot_args={\"x_metric\": \"precision_macro\",\n",
    "                                                            \"y_metric\": \"precision_micro\"})"
   ]
  },
  {
   "cell_type": "code",
   "execution_count": 54,
   "metadata": {},
   "outputs": [],
   "source": [
    "plot_files(\"exp_model_2\", plot_compare_metrics_distribution, {})"
   ]
  },
  {
   "cell_type": "code",
   "execution_count": 78,
   "metadata": {},
   "outputs": [],
   "source": [
    "plot_files(\"test\", plot_compare_metrics_distribution, {}) "
   ]
  },
  {
   "cell_type": "markdown",
   "metadata": {},
   "source": [
    "### Imbalance affects distribution Overlapping"
   ]
  },
  {
   "cell_type": "code",
   "execution_count": 50,
   "metadata": {},
   "outputs": [],
   "source": [
    "n_matrix_size = [500]\n",
    "positive_proportions = [0.10, 0.2, 0.3, 0.4]\n",
    "tp_percentiles = [0.25,0.5,0.75]\n",
    "cm_samples = [250]\n",
    "\n",
    "#distribution_plot(dataset, seed=seed, n_matrix_size=n_size, cm_sample=cm_sample)\n"
   ]
  },
  {
   "cell_type": "code",
   "execution_count": 99,
   "metadata": {},
   "outputs": [],
   "source": [
    "from scipy.stats import norm\n",
    "%matplotlib inline\n"
   ]
  },
  {
   "cell_type": "code",
   "execution_count": 33,
   "metadata": {},
   "outputs": [],
   "source": [
    "def plot_joint(df, seed, x_metric, y_metric, hue_col, map_cols, imbalance, n, cm_sample):\n",
    "    df = df[df.imbalance == imbalance]\n",
    "    df.rename(columns=map_cols, inplace=True)\n",
    "    g = sns.jointplot(data=df, x=map_cols[x_metric], y=map_cols[y_metric], hue=map_cols[hue_col], xlim = (-0.4,1.15), ylim = (0,1.1))\n",
    "    g.plot_joint(sns.kdeplot, zorder=3, levels=1)\n",
    "    g.plot_marginals(sns.rugplot, height=.05, clip_on=True)\n",
    "  # g.savefig(\"img/recall_vs_{}_imbalance_{}.jpg\".format(x_metric, imbalance), transparent=True,  facecolor='w')\n",
    "    plt.savefig(\"img_final_cross/recall_vs_{}_imbalance_{}_seed_{}_n_{}_cm_{}.png\".format(x_metric, imbalance, seed, n, cm_sample),facecolor='w', transparent=False, dpi=150)\n",
    "\n",
    "def generate_plots(df, seed, n_matrix_size, cm_sample):\n",
    "    posible_complement = [\"precision_macro\", \"precision_micro\", \"f1_weighted\", \"f1_macro\", \"matthew\"]\n",
    "\n",
    "    for metric in posible_complement:\n",
    "        for imbalance in positive_proportions:\n",
    "            plot_joint(df, seed, metric, \"recall_macro\", \"percentil_tp\", map_names, imbalance, n_matrix_size, cm_sample)"
   ]
  },
  {
   "cell_type": "markdown",
   "metadata": {},
   "source": [
    "## Cómo el desbalance puede afectar a las métricas\n",
    "\n",
    "A menos desbalance, hay compuestos que teniendo datos donde cristaliza poco y otros para el cual cristaliza mucho..vamos a llegar\n",
    "a que pueden tener las mismas métricas. El error modelado nos afecta mucho"
   ]
  },
  {
   "cell_type": "code",
   "execution_count": 202,
   "metadata": {},
   "outputs": [],
   "source": [
    "from adjustText import adjust_text\n",
    "\n",
    "def scatter_text(x, y, text_column, data, title=\"\", xlabel=\"\", ylabel=\"\"):\n",
    "    \"\"\"Scatter plot with country codes on the x y coordinates\n",
    "       Based on this answer: https://stackoverflow.com/a/54789170/2641825\"\"\"\n",
    "    # Create the scatter plot\n",
    "    p1 = sns.scatterplot(x, y, data=data, size = 8, legend=False)\n",
    "    texts = []\n",
    "    # Add text besides each point\n",
    "    for line in data.index:\n",
    "      #texts.append(p1.text(data[x][line]+0.01, data[y][line], data[text_column][line]))\n",
    "      p1.text(data[x][line]+0.01, data[y][line], \n",
    "                 data[text_column][line], horizontalalignment='left', \n",
    "                 size='small', color='black')\n",
    "   \n",
    "    #adjust_text(texts, data[[text_column]])\n",
    "    return p1"
   ]
  },
  {
   "cell_type": "code",
   "execution_count": 203,
   "metadata": {},
   "outputs": [
    {
     "name": "stderr",
     "output_type": "stream",
     "text": [
      "/home/belu/.local/share/virtualenvs/licentiate-thesis-repo-cz9ujhZI/lib/python3.6/site-packages/seaborn/_decorators.py:43: FutureWarning: Pass the following variables as keyword args: x, y. From version 0.12, the only valid positional argument will be `data`, and passing other arguments without an explicit keyword will result in an error or misinterpretation.\n",
      "  FutureWarning\n"
     ]
    },
    {
     "data": {
      "text/plain": [
       "<AxesSubplot:xlabel='precision_micro', ylabel='f1_macro'>"
      ]
     },
     "execution_count": 203,
     "metadata": {},
     "output_type": "execute_result"
    },
    {
     "data": {
      "image/png": "[encoded data removed]",
      "text/plain": [
       "<Figure size 432x288 with 1 Axes>"
      ]
     },
     "metadata": {
      "needs_background": "light"
     },
     "output_type": "display_data"
    }
   ],
   "source": [
    "scatter_text(\"precision_micro\", \"f1_macro\", \"level\", dataset_mean, \"title\", \"recall\", \"positive rate\")\n"
   ]
  },
  {
   "cell_type": "code",
   "execution_count": 204,
   "metadata": {},
   "outputs": [
    {
     "name": "stderr",
     "output_type": "stream",
     "text": [
      "/home/belu/.local/share/virtualenvs/licentiate-thesis-repo-cz9ujhZI/lib/python3.6/site-packages/seaborn/_decorators.py:43: FutureWarning: Pass the following variables as keyword args: x, y. From version 0.12, the only valid positional argument will be `data`, and passing other arguments without an explicit keyword will result in an error or misinterpretation.\n",
      "  FutureWarning\n"
     ]
    },
    {
     "data": {
      "text/plain": [
       "<AxesSubplot:xlabel='recall_macro', ylabel='recall_micro'>"
      ]
     },
     "execution_count": 204,
     "metadata": {},
     "output_type": "execute_result"
    },
    {
     "data": {
      "image/png": "[encoded data removed]",
      "text/plain": [
       "<Figure size 432x288 with 1 Axes>"
      ]
     },
     "metadata": {
      "needs_background": "light"
     },
     "output_type": "display_data"
    }
   ],
   "source": [
    "scatter_text(\"recall_macro\", \"recall_micro\", \"level\", dataset_mean, \"title\", \"recall\", \"positive rate\")\n"
   ]
  },
  {
   "cell_type": "code",
   "execution_count": 205,
   "metadata": {},
   "outputs": [
    {
     "name": "stderr",
     "output_type": "stream",
     "text": [
      "/home/belu/.local/share/virtualenvs/licentiate-thesis-repo-cz9ujhZI/lib/python3.6/site-packages/seaborn/_decorators.py:43: FutureWarning: Pass the following variables as keyword args: x, y. From version 0.12, the only valid positional argument will be `data`, and passing other arguments without an explicit keyword will result in an error or misinterpretation.\n",
      "  FutureWarning\n"
     ]
    },
    {
     "data": {
      "text/plain": [
       "<AxesSubplot:xlabel='precision_macro', ylabel='f1_macro'>"
      ]
     },
     "execution_count": 205,
     "metadata": {},
     "output_type": "execute_result"
    },
    {
     "data": {
      "image/png": "[encoded data removed]",
      "text/plain": [
       "<Figure size 432x288 with 1 Axes>"
      ]
     },
     "metadata": {
      "needs_background": "light"
     },
     "output_type": "display_data"
    }
   ],
   "source": [
    "scatter_text(\"precision_macro\", \"f1_macro\", \"level\", dataset_mean, \"title\", \"recall\", \"positive rate\")\n"
   ]
  },
  {
   "cell_type": "code",
   "execution_count": 206,
   "metadata": {},
   "outputs": [
    {
     "name": "stderr",
     "output_type": "stream",
     "text": [
      "/home/belu/.local/share/virtualenvs/licentiate-thesis-repo-cz9ujhZI/lib/python3.6/site-packages/seaborn/_decorators.py:43: FutureWarning: Pass the following variables as keyword args: x, y. From version 0.12, the only valid positional argument will be `data`, and passing other arguments without an explicit keyword will result in an error or misinterpretation.\n",
      "  FutureWarning\n"
     ]
    },
    {
     "data": {
      "text/plain": [
       "<AxesSubplot:xlabel='precision_macro', ylabel='recall_macro'>"
      ]
     },
     "execution_count": 206,
     "metadata": {},
     "output_type": "execute_result"
    },
    {
     "data": {
      "image/png": "[encoded data removed]",
      "text/plain": [
       "<Figure size 432x288 with 1 Axes>"
      ]
     },
     "metadata": {
      "needs_background": "light"
     },
     "output_type": "display_data"
    }
   ],
   "source": [
    "scatter_text(\"precision_macro\", \"recall_macro\", \"level\", dataset_mean, \"title\", \"recall\", \"positive rate\")\n"
   ]
  },
  {
   "cell_type": "code",
   "execution_count": 207,
   "metadata": {},
   "outputs": [
    {
     "name": "stderr",
     "output_type": "stream",
     "text": [
      "/home/belu/.local/share/virtualenvs/licentiate-thesis-repo-cz9ujhZI/lib/python3.6/site-packages/seaborn/_decorators.py:43: FutureWarning: Pass the following variables as keyword args: x, y. From version 0.12, the only valid positional argument will be `data`, and passing other arguments without an explicit keyword will result in an error or misinterpretation.\n",
      "  FutureWarning\n"
     ]
    },
    {
     "data": {
      "text/plain": [
       "<AxesSubplot:xlabel='precision_micro', ylabel='recall_micro'>"
      ]
     },
     "execution_count": 207,
     "metadata": {},
     "output_type": "execute_result"
    },
    {
     "data": {
      "image/png": "[encoded data removed]",
      "text/plain": [
       "<Figure size 432x288 with 1 Axes>"
      ]
     },
     "metadata": {
      "needs_background": "light"
     },
     "output_type": "display_data"
    }
   ],
   "source": [
    "scatter_text(\"precision_micro\", \"recall_micro\", \"level\", dataset_mean, \"title\", \"recall\", \"positive rate\")\n"
   ]
  },
  {
   "cell_type": "code",
   "execution_count": 208,
   "metadata": {},
   "outputs": [],
   "source": [
    "metrics_names = []\n",
    "metric = []\n",
    "beta = []\n",
    "average = []\n",
    "\n",
    "experiments = pd.DataFrame.from_dict({\"name\": metrics_names,\n",
    "                                     \"metric\": metric,\n",
    "                                     \"beta\" : beta,\n",
    "                                     \"average\": average\n",
    "                                    })"
   ]
  },
  {
   "cell_type": "code",
   "execution_count": 22,
   "metadata": {},
   "outputs": [],
   "source": [
    "metrics_names = [\"accuracy\", \"f1\", \"precision\", \"hit rate\", \"recall\"]\n",
    "metrics_funs = [accuracy, F1, precision, hit_rate, recall]\n",
    "for (label, metric) in zip(metrics_names, metrics_funs):\n",
    "    dataset[label] = dataset.apply(lambda row : metric(row), axis=1)"
   ]
  },
  {
   "cell_type": "code",
   "execution_count": 23,
   "metadata": {},
   "outputs": [
    {
     "data": {
      "text/html": [
       "<div>\n",
       "<style scoped>\n",
       "    .dataframe tbody tr th:only-of-type {\n",
       "        vertical-align: middle;\n",
       "    }\n",
       "\n",
       "    .dataframe tbody tr th {\n",
       "        vertical-align: top;\n",
       "    }\n",
       "\n",
       "    .dataframe thead th {\n",
       "        text-align: right;\n",
       "    }\n",
       "</style>\n",
       "<table border=\"1\" class=\"dataframe\">\n",
       "  <thead>\n",
       "    <tr style=\"text-align: right;\">\n",
       "      <th></th>\n",
       "      <th>accuracy</th>\n",
       "      <th>f1</th>\n",
       "      <th>precision</th>\n",
       "      <th>hit rate</th>\n",
       "      <th>recall</th>\n",
       "    </tr>\n",
       "    <tr>\n",
       "      <th>level</th>\n",
       "      <th></th>\n",
       "      <th></th>\n",
       "      <th></th>\n",
       "      <th></th>\n",
       "      <th></th>\n",
       "    </tr>\n",
       "  </thead>\n",
       "  <tbody>\n",
       "    <tr>\n",
       "      <th>A</th>\n",
       "      <td>0.650294</td>\n",
       "      <td>0.000000</td>\n",
       "      <td>1.000000</td>\n",
       "      <td>0.000000</td>\n",
       "      <td>0.000000</td>\n",
       "    </tr>\n",
       "    <tr>\n",
       "      <th>B</th>\n",
       "      <td>0.879675</td>\n",
       "      <td>0.000000</td>\n",
       "      <td>1.000000</td>\n",
       "      <td>0.000000</td>\n",
       "      <td>0.000000</td>\n",
       "    </tr>\n",
       "    <tr>\n",
       "      <th>C</th>\n",
       "      <td>0.800472</td>\n",
       "      <td>0.000000</td>\n",
       "      <td>1.000000</td>\n",
       "      <td>0.000000</td>\n",
       "      <td>0.000000</td>\n",
       "    </tr>\n",
       "    <tr>\n",
       "      <th>D</th>\n",
       "      <td>0.882558</td>\n",
       "      <td>0.000000</td>\n",
       "      <td>1.000000</td>\n",
       "      <td>0.000000</td>\n",
       "      <td>0.000000</td>\n",
       "    </tr>\n",
       "    <tr>\n",
       "      <th>E</th>\n",
       "      <td>0.907867</td>\n",
       "      <td>0.334926</td>\n",
       "      <td>0.675900</td>\n",
       "      <td>0.324100</td>\n",
       "      <td>0.675900</td>\n",
       "    </tr>\n",
       "    <tr>\n",
       "      <th>F</th>\n",
       "      <td>0.700213</td>\n",
       "      <td>0.250248</td>\n",
       "      <td>0.429452</td>\n",
       "      <td>0.570548</td>\n",
       "      <td>0.429452</td>\n",
       "    </tr>\n",
       "  </tbody>\n",
       "</table>\n",
       "</div>"
      ],
      "text/plain": [
       "       accuracy        f1  precision  hit rate    recall\n",
       "level                                                   \n",
       "A      0.650294  0.000000   1.000000  0.000000  0.000000\n",
       "B      0.879675  0.000000   1.000000  0.000000  0.000000\n",
       "C      0.800472  0.000000   1.000000  0.000000  0.000000\n",
       "D      0.882558  0.000000   1.000000  0.000000  0.000000\n",
       "E      0.907867  0.334926   0.675900  0.324100  0.675900\n",
       "F      0.700213  0.250248   0.429452  0.570548  0.429452"
      ]
     },
     "execution_count": 23,
     "metadata": {},
     "output_type": "execute_result"
    }
   ],
   "source": [
    "dataset.groupby(by=\"level\").mean()"
   ]
  },
  {
   "cell_type": "code",
   "execution_count": null,
   "metadata": {},
   "outputs": [],
   "source": []
  }
 ],
 "metadata": {
  "interpreter": {
   "hash": "1f29468d89b6be2c06db2e79e448931d7b8a61ffe1e835ec9d5987ed2976e35c"
  },
  "kernelspec": {
   "display_name": "Python 3",
   "language": "python",
   "name": "python3"
  },
  "language_info": {
   "codemirror_mode": {
    "name": "ipython",
    "version": 3
   },
   "file_extension": ".py",
   "mimetype": "text/x-python",
   "name": "python",
   "nbconvert_exporter": "python",
   "pygments_lexer": "ipython3",
   "version": "3.8.8"
  }
 },
 "nbformat": 4,
 "nbformat_minor": 4
}
