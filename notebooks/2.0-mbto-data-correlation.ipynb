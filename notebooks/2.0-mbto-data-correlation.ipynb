{
 "cells": [
  {
   "cell_type": "markdown",
   "source": [
    "## Data Correlation\n",
    "For each columns used in the paper we calculate Spearman correlation for each posible pair "
   ],
   "metadata": {}
  },
  {
   "cell_type": "code",
   "execution_count": 2,
   "source": [
    "from sklearn.preprocessing import StandardScaler\n",
    "from sklearn.decomposition import PCA\n",
    "import matplotlib.pyplot as plt\n",
    "import seaborn as sns; sns.set()\n",
    "import numpy as np\n",
    "import pandas as pd\n",
    "import scipy.stats as stats\n",
    "from src.config import chemical_inventory_path, raw_data_path\n",
    "\n",
    "plt.rcParams['figure.figsize'] = [10, 10]"
   ],
   "outputs": [],
   "metadata": {}
  },
  {
   "cell_type": "code",
   "execution_count": 3,
   "source": [
    "%cd .."
   ],
   "outputs": [
    {
     "output_type": "stream",
     "name": "stdout",
     "text": [
      "/home/belu/VS Workplace/licentiate-thesis-repo\n"
     ]
    }
   ],
   "metadata": {}
  },
  {
   "cell_type": "code",
   "execution_count": 5,
   "source": [
    "import src.data.notebook_utils as utils\n",
    "\n",
    "results = 'notebooks/results/correlation/'\n",
    "\n",
    "df = utils.read_data()\n",
    "\n",
    "columns_by_type = utils.get_columns(df.columns)\n",
    "#used_data = utils.get_used_columns(df.columns)\n",
    "selected_columns = set()"
   ],
   "outputs": [],
   "metadata": {}
  },
  {
   "cell_type": "code",
   "execution_count": 8,
   "source": [
    "columns_by_type.keys()"
   ],
   "outputs": [
    {
     "output_type": "execute_result",
     "data": {
      "text/plain": [
       "dict_keys(['_rxn_', '_feat_'])"
      ]
     },
     "metadata": {},
     "execution_count": 8
    }
   ],
   "metadata": {}
  },
  {
   "cell_type": "code",
   "execution_count": 11,
   "source": [
    "selected_columns = selected_columns.union(columns_by_type['_feat_'],columns_by_type['_rxn_'])"
   ],
   "outputs": [],
   "metadata": {}
  },
  {
   "cell_type": "code",
   "execution_count": 12,
   "source": [
    "len(selected_columns)"
   ],
   "outputs": [
    {
     "output_type": "execute_result",
     "data": {
      "text/plain": [
       "76"
      ]
     },
     "metadata": {},
     "execution_count": 12
    }
   ],
   "metadata": {}
  },
  {
   "cell_type": "code",
   "execution_count": 13,
   "source": [
    "for key, cols in columns_by_type.items():\n",
    "    print('#Cols for type {}: {}'.format(key, len(cols)))"
   ],
   "outputs": [
    {
     "output_type": "stream",
     "name": "stdout",
     "text": [
      "#Cols for type _rxn_: 9\n",
      "#Cols for type _feat_: 67\n"
     ]
    }
   ],
   "metadata": {}
  },
  {
   "cell_type": "code",
   "execution_count": 14,
   "source": [
    "final_df = df[selected_columns]"
   ],
   "outputs": [],
   "metadata": {}
  },
  {
   "cell_type": "code",
   "execution_count": 15,
   "source": [
    "len(final_df)"
   ],
   "outputs": [
    {
     "output_type": "execute_result",
     "data": {
      "text/plain": [
       "3630"
      ]
     },
     "metadata": {},
     "execution_count": 15
    }
   ],
   "metadata": {}
  },
  {
   "cell_type": "markdown",
   "source": [
    "### Normal Test"
   ],
   "metadata": {}
  },
  {
   "cell_type": "code",
   "execution_count": 10,
   "source": [
    "normal_cols = 0\n",
    "column_normalization = dict()\n",
    "for column in selected_columns:\n",
    "    value = round(stats.normaltest(df[column])[1], 4)\n",
    "    if (value >= 0.05):\n",
    "        print(column)\n",
    "        normal_cols+=1"
   ],
   "outputs": [
    {
     "output_type": "stream",
     "name": "stdout",
     "text": [
      "_feat_LengthPerpendicularToTheMaxArea\n",
      "_feat_maximalprojectionsize\n"
     ]
    }
   ],
   "metadata": {}
  },
  {
   "cell_type": "markdown",
   "source": [
    "From only two columns there are enough evidence to affirm that its data don't belong to a non-normal distribution."
   ],
   "metadata": {}
  },
  {
   "cell_type": "markdown",
   "source": [
    "### Spearman Correlation\n",
    "Decied to move on with this kind of correlation because it does not assume any specific distribution"
   ],
   "metadata": {}
  },
  {
   "cell_type": "markdown",
   "source": [
    "#### Spearman Correlation - by Plotly"
   ],
   "metadata": {}
  },
  {
   "cell_type": "code",
   "execution_count": 19,
   "source": [
    "import plotly.graph_objects as go\n",
    "import plotly.figure_factory as ff\n",
    "import plotly.offline as pyo\n",
    "\n",
    "from scipy.spatial.distance import pdist, squareform\n",
    "\n",
    "import scipy.cluster.hierarchy as sch\n",
    "\n",
    "pyo.init_notebook_mode(connected=True)\n",
    "\n",
    "def corr_heatmap(numpy_array, columns, title, dendogramMethod='median'):\n",
    "    data_array = numpy_array\n",
    "    labels = columns\n",
    "    colorScale = 'default'\n",
    "   \n",
    "    # Initialize figure by creating upper dendrogram\n",
    "    #fig = ff.create_dendrogram(data_array, orientation='bottom', linkagefun=lambda x: sch.linkage(x, method=dendogramMethod, metric=distanceMethod ,optimal_ordering=True), labels=labels)\n",
    "    fig = ff.create_dendrogram(data_array, orientation='bottom', linkagefun=lambda x: sch.linkage(x, method=dendogramMethod, optimal_ordering=True), labels=labels)\n",
    "    for i in range(len(fig['data'])):\n",
    "        fig['data'][i]['yaxis'] = 'y2'\n",
    "\n",
    "    # Create Side Dendrogram\n",
    "    #dendro_side = ff.create_dendrogram(data_array, orientation='right', linkagefun=lambda x: sch.linkage(x, method=dendogramMethod, metric=distanceMethod,  optimal_ordering=True) )\n",
    "    dendro_side = ff.create_dendrogram(data_array, orientation='right', linkagefun=lambda x: sch.linkage(x, method=dendogramMethod, optimal_ordering=True) )\n",
    "\n",
    "    for i in range(len(dendro_side['data'])):\n",
    "        dendro_side['data'][i]['xaxis'] = 'x2'\n",
    "\n",
    "    # Add Side Dendrogram Data to Figure\n",
    "    # ~ stack1 = []\n",
    "    for data in dendro_side['data']:\n",
    "        fig.add_trace(data)\n",
    "\n",
    "\n",
    "    # Create Heatmap\n",
    "    dendro_leaves = dendro_side['layout']['yaxis']['ticktext']\n",
    "    dendro_leaves = list(map(int, dendro_leaves))\n",
    "    heat_data = data_array\n",
    "    heat_data = heat_data[dendro_leaves,:]\n",
    "    heat_data = heat_data[:,dendro_leaves]\n",
    "\n",
    "    if(colorScale!='default'):\n",
    "        aux=go.Heatmap(\n",
    "            x = dendro_leaves,\n",
    "            y = dendro_leaves,\n",
    "            z = heat_data,\n",
    "            colorscale = colorScale,\n",
    "            colorbar=dict(title='Trie distances'),\n",
    "            )\n",
    "        heatmap = [aux]\n",
    "    else:\n",
    "        aux = go.Heatmap(\n",
    "            x=dendro_leaves,\n",
    "            y=dendro_leaves,\n",
    "            z=heat_data,\n",
    "            colorbar=dict(title='Correlación (abs)'),\n",
    "        )\n",
    "        heatmap = [aux]\n",
    "        # heatmap = [\n",
    "        # \tgo.Heatmap(\n",
    "        # \t\tx = dendro_leaves,\n",
    "        # \t\ty = dendro_leaves,\n",
    "        # \t\tz = heat_data\n",
    "        # \t)\n",
    "        # ]\n",
    "\t\n",
    "    heatmap[0]['x'] = fig['layout']['xaxis']['tickvals']\n",
    "    heatmap[0]['y'] = dendro_side['layout']['yaxis']['tickvals']\n",
    "    # Add Heatmap Data to Figure\n",
    "    for data in heatmap:\n",
    "        fig.add_trace(data)\n",
    "\n",
    "\n",
    "    # Edit Layout\n",
    "    fig.update_layout({'width':800, 'height':800,\n",
    "                            'showlegend':False, 'hovermode': 'closest',\n",
    "                            })\n",
    "\n",
    "    fig.update_layout(title={\n",
    "                        'text': title,\n",
    "                        'y':0.9,\n",
    "                        'x':0.5,\n",
    "                        'xanchor': 'center',\n",
    "                        'yanchor': 'top'})\n",
    "\n",
    "    # Edit xaxis\n",
    "    fig.update_layout(xaxis={'domain': [.15, 1],\n",
    "                                    'mirror': False,\n",
    "                                    'showgrid': False,\n",
    "                                    'showline': False,\n",
    "                                    'zeroline': False,\n",
    "                                    'ticks':\"\"})\n",
    "    # Edit xaxis2\n",
    "    fig.update_layout(xaxis2={'domain': [0, .15],\n",
    "                                    'mirror': False,\n",
    "                                    'showgrid': False,\n",
    "                                    'showline': False,\n",
    "                                    'zeroline': False,\n",
    "                                    'showticklabels': False,\n",
    "                                    'ticks':\"\"})\n",
    "\n",
    "    # Edit yaxis\n",
    "    fig.update_layout(yaxis={'domain': [0, .85],\n",
    "                                    'mirror': False,\n",
    "                                    'showgrid': False,\n",
    "                                    'showline': False,\n",
    "                                    'zeroline': False,\n",
    "                                    'showticklabels': False,\n",
    "                                    'ticks': \"\"\n",
    "                            })\n",
    "    # Edit yaxis2\n",
    "    fig.update_layout(yaxis2={'domain':[.825, .975],\n",
    "                                        'mirror': False,\n",
    "                                        'showgrid': False,\n",
    "                                        'showline': False,\n",
    "                                        'zeroline': False,\n",
    "                                        'showticklabels': False,\n",
    "                                        'ticks':\"\"})\n",
    "    # ~ print(fig)\n",
    "    fig['layout']['yaxis']['ticktext'] = fig['layout']['xaxis']['ticktext']\n",
    "    fig['layout']['yaxis']['tickvals'] = fig['layout']['xaxis']['tickvals']\n",
    "\n",
    "\n",
    "    #fig.show()\n",
    "\n",
    "    pyo.iplot(fig, filename='test')"
   ],
   "outputs": [
    {
     "output_type": "display_data",
     "data": {
      "text/html": [
       "        <script type=\"text/javascript\">\n",
       "        window.PlotlyConfig = {MathJaxConfig: 'local'};\n",
       "        if (window.MathJax) {MathJax.Hub.Config({SVG: {font: \"STIX-Web\"}});}\n",
       "        if (typeof require !== 'undefined') {\n",
       "        require.undef(\"plotly\");\n",
       "        requirejs.config({\n",
       "            paths: {\n",
       "                'plotly': ['https://cdn.plot.ly/plotly-2.2.0.min']\n",
       "            }\n",
       "        });\n",
       "        require(['plotly'], function(Plotly) {\n",
       "            window._Plotly = Plotly;\n",
       "        });\n",
       "        }\n",
       "        </script>\n",
       "        "
      ]
     },
     "metadata": {}
    }
   ],
   "metadata": {}
  },
  {
   "cell_type": "code",
   "execution_count": 20,
   "source": [
    "def plot_corr_dendogram(df, columns, title, method):\n",
    "    df_feat = df[columns]\n",
    "    df_feat_noctes = df_feat.loc[:, (df_feat != df_feat.iloc[0]).any()] \n",
    "    df_feat_cols = df_feat_noctes.columns\n",
    "    corr_df = df_feat_noctes.corr(method='spearman').values\n",
    "    #corr_df = np.absolute(corr_df)\n",
    "    corr_heatmap(corr_df, df_feat_cols,title, method)\n",
    "     "
   ],
   "outputs": [],
   "metadata": {}
  },
  {
   "cell_type": "code",
   "execution_count": 66,
   "source": [
    "#COLUMNAS DE VALORES DISCRETOS\n",
    "#plot_corr_dendogram(final_df, discrete_col, 'Propiedades físico-químicas <10 valores distintos', 'average')\n"
   ],
   "outputs": [
    {
     "output_type": "display_data",
     "data": {
      "application/vnd.plotly.v1+json": {
       "config": {
        "linkText": "Export to plot.ly",
        "plotlyServerURL": "https://plot.ly",
        "showLink": false
       },
       "data": [
        {
         "hoverinfo": "text",
         "marker": {
          "color": "rgb(61,153,112)"
         },
         "mode": "lines",
         "type": "scatter",
         "x": [
          15,
          15,
          25,
          25
         ],
         "xaxis": "x",
         "y": [
          0,
          0,
          0,
          0
         ],
         "yaxis": "y2"
        },
        {
         "hoverinfo": "text",
         "marker": {
          "color": "rgb(61,153,112)"
         },
         "mode": "lines",
         "type": "scatter",
         "x": [
          5,
          5,
          20,
          20
         ],
         "xaxis": "x",
         "y": [
          0,
          0,
          0,
          0
         ],
         "yaxis": "y2"
        },
        {
         "hoverinfo": "text",
         "marker": {
          "color": "rgb(61,153,112)"
         },
         "mode": "lines",
         "type": "scatter",
         "x": [
          12.5,
          12.5,
          35,
          35
         ],
         "xaxis": "x",
         "y": [
          0,
          0.2577606161612416,
          0.2577606161612416,
          0
         ],
         "yaxis": "y2"
        },
        {
         "hoverinfo": "text",
         "marker": {
          "color": "rgb(61,153,112)"
         },
         "mode": "lines",
         "type": "scatter",
         "x": [
          55,
          55,
          65,
          65
         ],
         "xaxis": "x",
         "y": [
          0,
          0,
          0,
          0
         ],
         "yaxis": "y2"
        },
        {
         "hoverinfo": "text",
         "marker": {
          "color": "rgb(61,153,112)"
         },
         "mode": "lines",
         "type": "scatter",
         "x": [
          45,
          45,
          60,
          60
         ],
         "xaxis": "x",
         "y": [
          0,
          0,
          0,
          0
         ],
         "yaxis": "y2"
        },
        {
         "hoverinfo": "text",
         "marker": {
          "color": "rgb(61,153,112)"
         },
         "mode": "lines",
         "type": "scatter",
         "x": [
          52.5,
          52.5,
          75,
          75
         ],
         "xaxis": "x",
         "y": [
          0,
          0.17711608547837387,
          0.17711608547837387,
          0
         ],
         "yaxis": "y2"
        },
        {
         "hoverinfo": "text",
         "marker": {
          "color": "rgb(61,153,112)"
         },
         "mode": "lines",
         "type": "scatter",
         "x": [
          23.75,
          23.75,
          63.75,
          63.75
         ],
         "xaxis": "x",
         "y": [
          0.2577606161612416,
          0.6042769051527512,
          0.6042769051527512,
          0.17711608547837387
         ],
         "yaxis": "y2"
        },
        {
         "hoverinfo": "text",
         "marker": {
          "color": "rgb(255,65,54)"
         },
         "mode": "lines",
         "type": "scatter",
         "x": [
          95,
          95,
          105,
          105
         ],
         "xaxis": "x",
         "y": [
          0,
          0,
          0,
          0
         ],
         "yaxis": "y2"
        },
        {
         "hoverinfo": "text",
         "marker": {
          "color": "rgb(255,65,54)"
         },
         "mode": "lines",
         "type": "scatter",
         "x": [
          85,
          85,
          100,
          100
         ],
         "xaxis": "x",
         "y": [
          0,
          0,
          0,
          0
         ],
         "yaxis": "y2"
        },
        {
         "hoverinfo": "text",
         "marker": {
          "color": "rgb(255,65,54)"
         },
         "mode": "lines",
         "type": "scatter",
         "x": [
          92.5,
          92.5,
          115,
          115
         ],
         "xaxis": "x",
         "y": [
          0,
          0.7283906434761428,
          0.7283906434761428,
          0
         ],
         "yaxis": "y2"
        },
        {
         "hoverinfo": "text",
         "marker": {
          "color": "rgb(35,205,205)"
         },
         "mode": "lines",
         "type": "scatter",
         "x": [
          125,
          125,
          135,
          135
         ],
         "xaxis": "x",
         "y": [
          0,
          1.6412523688056018,
          1.6412523688056018,
          0
         ],
         "yaxis": "y2"
        },
        {
         "hoverinfo": "text",
         "marker": {
          "color": "rgb(0,116,217)"
         },
         "mode": "lines",
         "type": "scatter",
         "x": [
          103.75,
          103.75,
          130,
          130
         ],
         "xaxis": "x",
         "y": [
          0.7283906434761428,
          2.026623052686352,
          2.026623052686352,
          1.6412523688056018
         ],
         "yaxis": "y2"
        },
        {
         "hoverinfo": "text",
         "marker": {
          "color": "rgb(133,20,75)"
         },
         "mode": "lines",
         "type": "scatter",
         "x": [
          165,
          165,
          175,
          175
         ],
         "xaxis": "x",
         "y": [
          0,
          0.5041800675549384,
          0.5041800675549384,
          0
         ],
         "yaxis": "y2"
        },
        {
         "hoverinfo": "text",
         "marker": {
          "color": "rgb(133,20,75)"
         },
         "mode": "lines",
         "type": "scatter",
         "x": [
          185,
          185,
          195,
          195
         ],
         "xaxis": "x",
         "y": [
          0,
          0,
          0,
          0
         ],
         "yaxis": "y2"
        },
        {
         "hoverinfo": "text",
         "marker": {
          "color": "rgb(133,20,75)"
         },
         "mode": "lines",
         "type": "scatter",
         "x": [
          190,
          190,
          205,
          205
         ],
         "xaxis": "x",
         "y": [
          0,
          0.4760969226554549,
          0.4760969226554549,
          0
         ],
         "yaxis": "y2"
        },
        {
         "hoverinfo": "text",
         "marker": {
          "color": "rgb(133,20,75)"
         },
         "mode": "lines",
         "type": "scatter",
         "x": [
          170,
          170,
          197.5,
          197.5
         ],
         "xaxis": "x",
         "y": [
          0.5041800675549384,
          0.6395850122798925,
          0.6395850122798925,
          0.4760969226554549
         ],
         "yaxis": "y2"
        },
        {
         "hoverinfo": "text",
         "marker": {
          "color": "rgb(133,20,75)"
         },
         "mode": "lines",
         "type": "scatter",
         "x": [
          215,
          215,
          225,
          225
         ],
         "xaxis": "x",
         "y": [
          0,
          0,
          0,
          0
         ],
         "yaxis": "y2"
        },
        {
         "hoverinfo": "text",
         "marker": {
          "color": "rgb(133,20,75)"
         },
         "mode": "lines",
         "type": "scatter",
         "x": [
          220,
          220,
          235,
          235
         ],
         "xaxis": "x",
         "y": [
          0,
          0.18454883785247933,
          0.18454883785247933,
          0
         ],
         "yaxis": "y2"
        },
        {
         "hoverinfo": "text",
         "marker": {
          "color": "rgb(133,20,75)"
         },
         "mode": "lines",
         "type": "scatter",
         "x": [
          183.75,
          183.75,
          227.5,
          227.5
         ],
         "xaxis": "x",
         "y": [
          0.6395850122798925,
          0.7464459708166339,
          0.7464459708166339,
          0.18454883785247933
         ],
         "yaxis": "y2"
        },
        {
         "hoverinfo": "text",
         "marker": {
          "color": "rgb(133,20,75)"
         },
         "mode": "lines",
         "type": "scatter",
         "x": [
          155,
          155,
          205.625,
          205.625
         ],
         "xaxis": "x",
         "y": [
          0,
          0.8861688389168222,
          0.8861688389168222,
          0.7464459708166339
         ],
         "yaxis": "y2"
        },
        {
         "hoverinfo": "text",
         "marker": {
          "color": "rgb(133,20,75)"
         },
         "mode": "lines",
         "type": "scatter",
         "x": [
          180.3125,
          180.3125,
          245,
          245
         ],
         "xaxis": "x",
         "y": [
          0.8861688389168222,
          1.1763794234977933,
          1.1763794234977933,
          0
         ],
         "yaxis": "y2"
        },
        {
         "hoverinfo": "text",
         "marker": {
          "color": "rgb(133,20,75)"
         },
         "mode": "lines",
         "type": "scatter",
         "x": [
          145,
          145,
          212.65625,
          212.65625
         ],
         "xaxis": "x",
         "y": [
          0,
          1.2699639278444896,
          1.2699639278444896,
          1.1763794234977933
         ],
         "yaxis": "y2"
        },
        {
         "hoverinfo": "text",
         "marker": {
          "color": "rgb(0,116,217)"
         },
         "mode": "lines",
         "type": "scatter",
         "x": [
          116.875,
          116.875,
          178.828125,
          178.828125
         ],
         "xaxis": "x",
         "y": [
          2.026623052686352,
          2.4257580809185426,
          2.4257580809185426,
          1.2699639278444896
         ],
         "yaxis": "y2"
        },
        {
         "hoverinfo": "text",
         "marker": {
          "color": "rgb(0,116,217)"
         },
         "mode": "lines",
         "type": "scatter",
         "x": [
          43.75,
          43.75,
          147.8515625,
          147.8515625
         ],
         "xaxis": "x",
         "y": [
          0.6042769051527512,
          2.8910614499308083,
          2.8910614499308083,
          2.4257580809185426
         ],
         "yaxis": "y2"
        },
        {
         "hoverinfo": "text",
         "marker": {
          "color": "rgb(61,153,112)"
         },
         "mode": "lines",
         "type": "scatter",
         "x": [
          0,
          0,
          0,
          0
         ],
         "xaxis": "x2",
         "y": [
          15,
          15,
          25,
          25
         ],
         "yaxis": "y"
        },
        {
         "hoverinfo": "text",
         "marker": {
          "color": "rgb(61,153,112)"
         },
         "mode": "lines",
         "type": "scatter",
         "x": [
          0,
          0,
          0,
          0
         ],
         "xaxis": "x2",
         "y": [
          5,
          5,
          20,
          20
         ],
         "yaxis": "y"
        },
        {
         "hoverinfo": "text",
         "marker": {
          "color": "rgb(61,153,112)"
         },
         "mode": "lines",
         "type": "scatter",
         "x": [
          0,
          -0.2577606161612416,
          -0.2577606161612416,
          0
         ],
         "xaxis": "x2",
         "y": [
          12.5,
          12.5,
          35,
          35
         ],
         "yaxis": "y"
        },
        {
         "hoverinfo": "text",
         "marker": {
          "color": "rgb(61,153,112)"
         },
         "mode": "lines",
         "type": "scatter",
         "x": [
          0,
          0,
          0,
          0
         ],
         "xaxis": "x2",
         "y": [
          55,
          55,
          65,
          65
         ],
         "yaxis": "y"
        },
        {
         "hoverinfo": "text",
         "marker": {
          "color": "rgb(61,153,112)"
         },
         "mode": "lines",
         "type": "scatter",
         "x": [
          0,
          0,
          0,
          0
         ],
         "xaxis": "x2",
         "y": [
          45,
          45,
          60,
          60
         ],
         "yaxis": "y"
        },
        {
         "hoverinfo": "text",
         "marker": {
          "color": "rgb(61,153,112)"
         },
         "mode": "lines",
         "type": "scatter",
         "x": [
          0,
          -0.17711608547837387,
          -0.17711608547837387,
          0
         ],
         "xaxis": "x2",
         "y": [
          52.5,
          52.5,
          75,
          75
         ],
         "yaxis": "y"
        },
        {
         "hoverinfo": "text",
         "marker": {
          "color": "rgb(61,153,112)"
         },
         "mode": "lines",
         "type": "scatter",
         "x": [
          -0.2577606161612416,
          -0.6042769051527512,
          -0.6042769051527512,
          -0.17711608547837387
         ],
         "xaxis": "x2",
         "y": [
          23.75,
          23.75,
          63.75,
          63.75
         ],
         "yaxis": "y"
        },
        {
         "hoverinfo": "text",
         "marker": {
          "color": "rgb(255,65,54)"
         },
         "mode": "lines",
         "type": "scatter",
         "x": [
          0,
          0,
          0,
          0
         ],
         "xaxis": "x2",
         "y": [
          95,
          95,
          105,
          105
         ],
         "yaxis": "y"
        },
        {
         "hoverinfo": "text",
         "marker": {
          "color": "rgb(255,65,54)"
         },
         "mode": "lines",
         "type": "scatter",
         "x": [
          0,
          0,
          0,
          0
         ],
         "xaxis": "x2",
         "y": [
          85,
          85,
          100,
          100
         ],
         "yaxis": "y"
        },
        {
         "hoverinfo": "text",
         "marker": {
          "color": "rgb(255,65,54)"
         },
         "mode": "lines",
         "type": "scatter",
         "x": [
          0,
          -0.7283906434761428,
          -0.7283906434761428,
          0
         ],
         "xaxis": "x2",
         "y": [
          92.5,
          92.5,
          115,
          115
         ],
         "yaxis": "y"
        },
        {
         "hoverinfo": "text",
         "marker": {
          "color": "rgb(35,205,205)"
         },
         "mode": "lines",
         "type": "scatter",
         "x": [
          0,
          -1.6412523688056018,
          -1.6412523688056018,
          0
         ],
         "xaxis": "x2",
         "y": [
          125,
          125,
          135,
          135
         ],
         "yaxis": "y"
        },
        {
         "hoverinfo": "text",
         "marker": {
          "color": "rgb(0,116,217)"
         },
         "mode": "lines",
         "type": "scatter",
         "x": [
          -0.7283906434761428,
          -2.026623052686352,
          -2.026623052686352,
          -1.6412523688056018
         ],
         "xaxis": "x2",
         "y": [
          103.75,
          103.75,
          130,
          130
         ],
         "yaxis": "y"
        },
        {
         "hoverinfo": "text",
         "marker": {
          "color": "rgb(133,20,75)"
         },
         "mode": "lines",
         "type": "scatter",
         "x": [
          0,
          -0.5041800675549384,
          -0.5041800675549384,
          0
         ],
         "xaxis": "x2",
         "y": [
          165,
          165,
          175,
          175
         ],
         "yaxis": "y"
        },
        {
         "hoverinfo": "text",
         "marker": {
          "color": "rgb(133,20,75)"
         },
         "mode": "lines",
         "type": "scatter",
         "x": [
          0,
          0,
          0,
          0
         ],
         "xaxis": "x2",
         "y": [
          185,
          185,
          195,
          195
         ],
         "yaxis": "y"
        },
        {
         "hoverinfo": "text",
         "marker": {
          "color": "rgb(133,20,75)"
         },
         "mode": "lines",
         "type": "scatter",
         "x": [
          0,
          -0.4760969226554549,
          -0.4760969226554549,
          0
         ],
         "xaxis": "x2",
         "y": [
          190,
          190,
          205,
          205
         ],
         "yaxis": "y"
        },
        {
         "hoverinfo": "text",
         "marker": {
          "color": "rgb(133,20,75)"
         },
         "mode": "lines",
         "type": "scatter",
         "x": [
          -0.5041800675549384,
          -0.6395850122798925,
          -0.6395850122798925,
          -0.4760969226554549
         ],
         "xaxis": "x2",
         "y": [
          170,
          170,
          197.5,
          197.5
         ],
         "yaxis": "y"
        },
        {
         "hoverinfo": "text",
         "marker": {
          "color": "rgb(133,20,75)"
         },
         "mode": "lines",
         "type": "scatter",
         "x": [
          0,
          0,
          0,
          0
         ],
         "xaxis": "x2",
         "y": [
          215,
          215,
          225,
          225
         ],
         "yaxis": "y"
        },
        {
         "hoverinfo": "text",
         "marker": {
          "color": "rgb(133,20,75)"
         },
         "mode": "lines",
         "type": "scatter",
         "x": [
          0,
          -0.18454883785247933,
          -0.18454883785247933,
          0
         ],
         "xaxis": "x2",
         "y": [
          220,
          220,
          235,
          235
         ],
         "yaxis": "y"
        },
        {
         "hoverinfo": "text",
         "marker": {
          "color": "rgb(133,20,75)"
         },
         "mode": "lines",
         "type": "scatter",
         "x": [
          -0.6395850122798925,
          -0.7464459708166339,
          -0.7464459708166339,
          -0.18454883785247933
         ],
         "xaxis": "x2",
         "y": [
          183.75,
          183.75,
          227.5,
          227.5
         ],
         "yaxis": "y"
        },
        {
         "hoverinfo": "text",
         "marker": {
          "color": "rgb(133,20,75)"
         },
         "mode": "lines",
         "type": "scatter",
         "x": [
          0,
          -0.8861688389168222,
          -0.8861688389168222,
          -0.7464459708166339
         ],
         "xaxis": "x2",
         "y": [
          155,
          155,
          205.625,
          205.625
         ],
         "yaxis": "y"
        },
        {
         "hoverinfo": "text",
         "marker": {
          "color": "rgb(133,20,75)"
         },
         "mode": "lines",
         "type": "scatter",
         "x": [
          -0.8861688389168222,
          -1.1763794234977933,
          -1.1763794234977933,
          0
         ],
         "xaxis": "x2",
         "y": [
          180.3125,
          180.3125,
          245,
          245
         ],
         "yaxis": "y"
        },
        {
         "hoverinfo": "text",
         "marker": {
          "color": "rgb(133,20,75)"
         },
         "mode": "lines",
         "type": "scatter",
         "x": [
          0,
          -1.2699639278444896,
          -1.2699639278444896,
          -1.1763794234977933
         ],
         "xaxis": "x2",
         "y": [
          145,
          145,
          212.65625,
          212.65625
         ],
         "yaxis": "y"
        },
        {
         "hoverinfo": "text",
         "marker": {
          "color": "rgb(0,116,217)"
         },
         "mode": "lines",
         "type": "scatter",
         "x": [
          -2.026623052686352,
          -2.4257580809185426,
          -2.4257580809185426,
          -1.2699639278444896
         ],
         "xaxis": "x2",
         "y": [
          116.875,
          116.875,
          178.828125,
          178.828125
         ],
         "yaxis": "y"
        },
        {
         "hoverinfo": "text",
         "marker": {
          "color": "rgb(0,116,217)"
         },
         "mode": "lines",
         "type": "scatter",
         "x": [
          -0.6042769051527512,
          -2.8910614499308083,
          -2.8910614499308083,
          -2.4257580809185426
         ],
         "xaxis": "x2",
         "y": [
          43.75,
          43.75,
          147.8515625,
          147.8515625
         ],
         "yaxis": "y"
        },
        {
         "colorbar": {
          "title": {
           "text": "Correlación (abs)"
          }
         },
         "type": "heatmap",
         "x": [
          5,
          15,
          25,
          35,
          45,
          55,
          65,
          75,
          85,
          95,
          105,
          115,
          125,
          135,
          145,
          155,
          165,
          175,
          185,
          195,
          205,
          215,
          225,
          235,
          245
         ],
         "y": [
          5,
          15,
          25,
          35,
          45,
          55,
          65,
          75,
          85,
          95,
          105,
          115,
          125,
          135,
          145,
          155,
          165,
          175,
          185,
          195,
          205,
          215,
          225,
          235,
          245
         ],
         "z": [
          [
           1,
           1,
           1,
           0.9480890419638086,
           0.8909118577774785,
           0.8909118577774785,
           0.8909118577774785,
           0.8604354490248182,
           0.0798514327612938,
           0.0798514327612938,
           0.0798514327612938,
           0.09858303709087159,
           0.05602070420949957,
           0.10281594291830175,
           0.11476299961714806,
           0.15815260406646972,
           0.18103182393582357,
           0.2464616198692249,
           0.25988574465768094,
           0.25988574465768094,
           0.23916288509178954,
           0.061424466492146695,
           0.061424466492146695,
           0.0068666268102511255,
           0.1594329263527986
          ],
          [
           1,
           1,
           1,
           0.9480890419638086,
           0.8909118577774785,
           0.8909118577774785,
           0.8909118577774785,
           0.8604354490248182,
           0.0798514327612938,
           0.0798514327612938,
           0.0798514327612938,
           0.09858303709087159,
           0.05602070420949957,
           0.10281594291830175,
           0.11476299961714806,
           0.15815260406646972,
           0.18103182393582357,
           0.2464616198692249,
           0.25988574465768094,
           0.25988574465768094,
           0.23916288509178954,
           0.061424466492146695,
           0.061424466492146695,
           0.0068666268102511255,
           0.1594329263527986
          ],
          [
           1,
           1,
           1,
           0.9480890419638086,
           0.8909118577774785,
           0.8909118577774785,
           0.8909118577774785,
           0.8604354490248182,
           0.0798514327612938,
           0.0798514327612938,
           0.0798514327612938,
           0.09858303709087159,
           0.05602070420949957,
           0.10281594291830175,
           0.11476299961714806,
           0.15815260406646972,
           0.18103182393582357,
           0.2464616198692249,
           0.25988574465768094,
           0.25988574465768094,
           0.23916288509178954,
           0.061424466492146695,
           0.061424466492146695,
           0.0068666268102511255,
           0.1594329263527986
          ],
          [
           0.9480890419638086,
           0.9480890419638086,
           0.9480890419638086,
           1,
           0.9396921790511394,
           0.9396921790511394,
           0.9396921790511394,
           0.9075470878163188,
           0.08422355836525108,
           0.08422355836525108,
           0.08422355836525108,
           0.08576894075984084,
           0.2643929734004634,
           0.10844545012917314,
           0.1210466470316286,
           0.1668119734185335,
           0.19094390497420607,
           0.2599561949990696,
           0.2741153342721595,
           0.2741153342721595,
           0.2522578307585999,
           0.08379073969923054,
           0.08379073969923054,
           0.03101765040189288,
           0.16816239751338102
          ],
          [
           0.8909118577774785,
           0.8909118577774785,
           0.8909118577774785,
           0.9396921790511394,
           1,
           1,
           1,
           0.9964468837907493,
           0.2616618962644557,
           0.2616618962644557,
           0.2616618962644557,
           0.36109816925326216,
           0.24844800930049146,
           0.11906834619733839,
           0.13290390751867745,
           0.2866409708291216,
           0.20964802999719725,
           0.1676359265199184,
           0.17026895731801991,
           0.17026895731801991,
           0.2769680303597591,
           0.008247605219254417,
           0.008247605219254417,
           0.053906014758734334,
           0.1846349343439288
          ],
          [
           0.8909118577774785,
           0.8909118577774785,
           0.8909118577774785,
           0.9396921790511394,
           1,
           1,
           1,
           0.9964468837907493,
           0.2616618962644557,
           0.2616618962644557,
           0.2616618962644557,
           0.36109816925326216,
           0.24844800930049146,
           0.11906834619733839,
           0.13290390751867745,
           0.2866409708291216,
           0.20964802999719725,
           0.1676359265199184,
           0.17026895731801991,
           0.17026895731801991,
           0.2769680303597591,
           0.008247605219254417,
           0.008247605219254417,
           0.053906014758734334,
           0.1846349343439288
          ],
          [
           0.8909118577774785,
           0.8909118577774785,
           0.8909118577774785,
           0.9396921790511394,
           1,
           1,
           1,
           0.9964468837907493,
           0.2616618962644557,
           0.2616618962644557,
           0.2616618962644557,
           0.36109816925326216,
           0.24844800930049146,
           0.11906834619733839,
           0.13290390751867745,
           0.2866409708291216,
           0.20964802999719725,
           0.1676359265199184,
           0.17026895731801991,
           0.17026895731801991,
           0.2769680303597591,
           0.008247605219254417,
           0.008247605219254417,
           0.053906014758734334,
           0.1846349343439288
          ],
          [
           0.8604354490248182,
           0.8604354490248182,
           0.8604354490248182,
           0.9075470878163188,
           0.9964468837907493,
           0.9964468837907493,
           0.9964468837907493,
           1,
           0.3420213569795332,
           0.3420213569795332,
           0.3420213569795332,
           0.4222529634725271,
           0.239949073048688,
           0.11949291842267666,
           0.13337781439295146,
           0.31087378438466684,
           0.21039558997830404,
           0.14181666335871276,
           0.14156290455989917,
           0.14156290455989917,
           0.27795563904630716,
           0.030760473318362958,
           0.030760473318362958,
           0.0738265763232332,
           0.18529330298222052
          ],
          [
           0.0798514327612938,
           0.0798514327612938,
           0.0798514327612938,
           0.08422355836525108,
           0.2616618962644557,
           0.2616618962644557,
           0.2616618962644557,
           0.3420213569795332,
           1,
           1,
           1,
           0.8099916082691649,
           0.02226811702655621,
           0.04086913010836853,
           0.04561806106964158,
           0.3643700084510418,
           0.07195978518688903,
           0.24518621041336996,
           0.2774711938731786,
           0.2774711938731786,
           0.0950667648467313,
           0.26048004152729864,
           0.26048004152729864,
           0.24457964904453455,
           0.06337426692519885
          ],
          [
           0.0798514327612938,
           0.0798514327612938,
           0.0798514327612938,
           0.08422355836525108,
           0.2616618962644557,
           0.2616618962644557,
           0.2616618962644557,
           0.3420213569795332,
           1,
           1,
           1,
           0.8099916082691649,
           0.02226811702655621,
           0.04086913010836853,
           0.04561806106964158,
           0.3643700084510418,
           0.07195978518688903,
           0.24518621041336996,
           0.2774711938731786,
           0.2774711938731786,
           0.0950667648467313,
           0.26048004152729864,
           0.26048004152729864,
           0.24457964904453455,
           0.06337426692519885
          ],
          [
           0.0798514327612938,
           0.0798514327612938,
           0.0798514327612938,
           0.08422355836525108,
           0.2616618962644557,
           0.2616618962644557,
           0.2616618962644557,
           0.3420213569795332,
           1,
           1,
           1,
           0.8099916082691649,
           0.02226811702655621,
           0.04086913010836853,
           0.04561806106964158,
           0.3643700084510418,
           0.07195978518688903,
           0.24518621041336996,
           0.2774711938731786,
           0.2774711938731786,
           0.0950667648467313,
           0.26048004152729864,
           0.26048004152729864,
           0.24457964904453455,
           0.06337426692519885
          ],
          [
           0.09858303709087159,
           0.09858303709087159,
           0.09858303709087159,
           0.08576894075984084,
           0.36109816925326216,
           0.36109816925326216,
           0.36109816925326216,
           0.4222529634725271,
           0.8099916082691649,
           0.8099916082691649,
           0.8099916082691649,
           1,
           0.5682590622346213,
           0.05045623891795615,
           0.05631917738891245,
           0.32576689693127614,
           0.0888401613698896,
           0.16148497490955277,
           0.18586131978551437,
           0.18586131978551437,
           0.11736759230120326,
           0.16934346495383906,
           0.16934346495383906,
           0.1563927428488065,
           0.07824064629585546
          ],
          [
           0.05602070420949957,
           0.05602070420949957,
           0.05602070420949957,
           0.2643929734004634,
           0.24844800930049146,
           0.24844800930049146,
           0.24844800930049146,
           0.239949073048688,
           0.02226811702655621,
           0.02226811702655621,
           0.02226811702655621,
           0.5682590622346213,
           1,
           0.028672215011403757,
           0.03200388292884867,
           0.04410391365092514,
           0.05048422678882589,
           0.06873059134967469,
           0.07247416828287823,
           0.07247416828287823,
           0.06669519793781711,
           0.07679274807530405,
           0.07679274807530405,
           0.07656063198719738,
           0.04446095629271351
          ],
          [
           0.10281594291830175,
           0.10281594291830175,
           0.10281594291830175,
           0.10844545012917314,
           0.11906834619733839,
           0.11906834619733839,
           0.11906834619733839,
           0.11949291842267666,
           0.04086913010836853,
           0.04086913010836853,
           0.04086913010836853,
           0.05045623891795615,
           0.028672215011403757,
           1,
           0.05873738016700149,
           0.3574394745812136,
           0.24128281161033788,
           0.1261426584450357,
           0.3572692617303455,
           0.3572692617303455,
           0.39079132757997354,
           0.1888282574816113,
           0.1888282574816113,
           0.17478558723346646,
           0.0816001014051797
          ],
          [
           0.11476299961714806,
           0.11476299961714806,
           0.11476299961714806,
           0.1210466470316286,
           0.13290390751867745,
           0.13290390751867745,
           0.13290390751867745,
           0.13337781439295146,
           0.04561806106964158,
           0.04561806106964158,
           0.04561806106964158,
           0.05631917738891245,
           0.03200388292884867,
           0.05873738016700149,
           1,
           0.5239433187803657,
           0.5391699178094003,
           0.5602357539672718,
           0.547252676326963,
           0.547252676326963,
           0.5728312614680579,
           0.5316798457465768,
           0.5316798457465768,
           0.5083521892229413,
           0.09108190948327063
          ],
          [
           0.15815260406646972,
           0.15815260406646972,
           0.15815260406646972,
           0.1668119734185335,
           0.2866409708291216,
           0.2866409708291216,
           0.2866409708291216,
           0.31087378438466684,
           0.3643700084510418,
           0.3643700084510418,
           0.3643700084510418,
           0.32576689693127614,
           0.04410391365092514,
           0.3574394745812136,
           0.5239433187803657,
           1,
           0.7047203878869037,
           0.5086679720365315,
           0.7481598385002878,
           0.7481598385002878,
           0.9146555958513828,
           0.655352700823648,
           0.655352700823648,
           0.6214472365327534,
           0.5542683343552314
          ],
          [
           0.18103182393582357,
           0.18103182393582357,
           0.18103182393582357,
           0.19094390497420607,
           0.20964802999719725,
           0.20964802999719725,
           0.20964802999719725,
           0.21039558997830404,
           0.07195978518688903,
           0.07195978518688903,
           0.07195978518688903,
           0.0888401613698896,
           0.05048422678882589,
           0.24128281161033788,
           0.5391699178094003,
           0.7047203878869037,
           1,
           0.8581658908183206,
           0.7185920469117119,
           0.7185920469117119,
           0.7704762219608284,
           0.7526633684009523,
           0.7526633684009523,
           0.7133777812970028,
           0.7490344282087421
          ],
          [
           0.2464616198692249,
           0.2464616198692249,
           0.2464616198692249,
           0.2599561949990696,
           0.1676359265199184,
           0.1676359265199184,
           0.1676359265199184,
           0.14181666335871276,
           0.24518621041336996,
           0.24518621041336996,
           0.24518621041336996,
           0.16148497490955277,
           0.06873059134967469,
           0.1261426584450357,
           0.5602357539672718,
           0.5086679720365315,
           0.8581658908183206,
           1,
           0.8254700530283949,
           0.8254700530283949,
           0.7594615198209025,
           0.7825074257273529,
           0.7825074257273529,
           0.7386008123819798,
           0.6341210341973098
          ],
          [
           0.25988574465768094,
           0.25988574465768094,
           0.25988574465768094,
           0.2741153342721595,
           0.17026895731801991,
           0.17026895731801991,
           0.17026895731801991,
           0.14156290455989917,
           0.2774711938731786,
           0.2774711938731786,
           0.2774711938731786,
           0.18586131978551437,
           0.07247416828287823,
           0.3572692617303455,
           0.547252676326963,
           0.7481598385002878,
           0.7185920469117119,
           0.8254700530283949,
           1,
           1,
           0.9299057522767564,
           0.8822114773246416,
           0.8822114773246416,
           0.8331465000406704,
           0.5540043915060341
          ],
          [
           0.25988574465768094,
           0.25988574465768094,
           0.25988574465768094,
           0.2741153342721595,
           0.17026895731801991,
           0.17026895731801991,
           0.17026895731801991,
           0.14156290455989917,
           0.2774711938731786,
           0.2774711938731786,
           0.2774711938731786,
           0.18586131978551437,
           0.07247416828287823,
           0.3572692617303455,
           0.547252676326963,
           0.7481598385002878,
           0.7185920469117119,
           0.8254700530283949,
           1,
           1,
           0.9299057522767564,
           0.8822114773246416,
           0.8822114773246416,
           0.8331465000406704,
           0.5540043915060341
          ],
          [
           0.23916288509178954,
           0.23916288509178954,
           0.23916288509178954,
           0.2522578307585999,
           0.2769680303597591,
           0.2769680303597591,
           0.2769680303597591,
           0.27795563904630716,
           0.0950667648467313,
           0.0950667648467313,
           0.0950667648467313,
           0.11736759230120326,
           0.06669519793781711,
           0.39079132757997354,
           0.5728312614680579,
           0.9146555958513828,
           0.7704762219608284,
           0.7594615198209025,
           0.9299057522767564,
           0.9299057522767564,
           1,
           0.8134500982065702,
           0.8134500982065702,
           0.7686454164029227,
           0.6059858343066338
          ],
          [
           0.061424466492146695,
           0.061424466492146695,
           0.061424466492146695,
           0.08379073969923054,
           0.008247605219254417,
           0.008247605219254417,
           0.008247605219254417,
           0.030760473318362958,
           0.26048004152729864,
           0.26048004152729864,
           0.26048004152729864,
           0.16934346495383906,
           0.07679274807530405,
           0.1888282574816113,
           0.5316798457465768,
           0.655352700823648,
           0.7526633684009523,
           0.7825074257273529,
           0.8822114773246416,
           0.8822114773246416,
           0.8134500982065702,
           1,
           1,
           0.99377061237255,
           0.5200795257029629
          ],
          [
           0.061424466492146695,
           0.061424466492146695,
           0.061424466492146695,
           0.08379073969923054,
           0.008247605219254417,
           0.008247605219254417,
           0.008247605219254417,
           0.030760473318362958,
           0.26048004152729864,
           0.26048004152729864,
           0.26048004152729864,
           0.16934346495383906,
           0.07679274807530405,
           0.1888282574816113,
           0.5316798457465768,
           0.655352700823648,
           0.7526633684009523,
           0.7825074257273529,
           0.8822114773246416,
           0.8822114773246416,
           0.8134500982065702,
           1,
           1,
           0.99377061237255,
           0.5200795257029629
          ],
          [
           0.0068666268102511255,
           0.0068666268102511255,
           0.0068666268102511255,
           0.03101765040189288,
           0.053906014758734334,
           0.053906014758734334,
           0.053906014758734334,
           0.0738265763232332,
           0.24457964904453455,
           0.24457964904453455,
           0.24457964904453455,
           0.1563927428488065,
           0.07656063198719738,
           0.17478558723346646,
           0.5083521892229413,
           0.6214472365327534,
           0.7133777812970028,
           0.7386008123819798,
           0.8331465000406704,
           0.8331465000406704,
           0.7686454164029227,
           0.99377061237255,
           0.99377061237255,
           1,
           0.48833249229326403
          ],
          [
           0.1594329263527986,
           0.1594329263527986,
           0.1594329263527986,
           0.16816239751338102,
           0.1846349343439288,
           0.1846349343439288,
           0.1846349343439288,
           0.18529330298222052,
           0.06337426692519885,
           0.06337426692519885,
           0.06337426692519885,
           0.07824064629585546,
           0.04446095629271351,
           0.0816001014051797,
           0.09108190948327063,
           0.5542683343552314,
           0.7490344282087421,
           0.6341210341973098,
           0.5540043915060341,
           0.5540043915060341,
           0.6059858343066338,
           0.5200795257029629,
           0.5200795257029629,
           0.48833249229326403,
           1
          ]
         ]
        }
       ],
       "layout": {
        "autosize": false,
        "height": 800,
        "hovermode": "closest",
        "showlegend": false,
        "template": {
         "data": {
          "bar": [
           {
            "error_x": {
             "color": "#2a3f5f"
            },
            "error_y": {
             "color": "#2a3f5f"
            },
            "marker": {
             "line": {
              "color": "#E5ECF6",
              "width": 0.5
             }
            },
            "type": "bar"
           }
          ],
          "barpolar": [
           {
            "marker": {
             "line": {
              "color": "#E5ECF6",
              "width": 0.5
             }
            },
            "type": "barpolar"
           }
          ],
          "carpet": [
           {
            "aaxis": {
             "endlinecolor": "#2a3f5f",
             "gridcolor": "white",
             "linecolor": "white",
             "minorgridcolor": "white",
             "startlinecolor": "#2a3f5f"
            },
            "baxis": {
             "endlinecolor": "#2a3f5f",
             "gridcolor": "white",
             "linecolor": "white",
             "minorgridcolor": "white",
             "startlinecolor": "#2a3f5f"
            },
            "type": "carpet"
           }
          ],
          "choropleth": [
           {
            "colorbar": {
             "outlinewidth": 0,
             "ticks": ""
            },
            "type": "choropleth"
           }
          ],
          "contour": [
           {
            "colorbar": {
             "outlinewidth": 0,
             "ticks": ""
            },
            "colorscale": [
             [
              0,
              "#0d0887"
             ],
             [
              0.1111111111111111,
              "#46039f"
             ],
             [
              0.2222222222222222,
              "#7201a8"
             ],
             [
              0.3333333333333333,
              "#9c179e"
             ],
             [
              0.4444444444444444,
              "#bd3786"
             ],
             [
              0.5555555555555556,
              "#d8576b"
             ],
             [
              0.6666666666666666,
              "#ed7953"
             ],
             [
              0.7777777777777778,
              "#fb9f3a"
             ],
             [
              0.8888888888888888,
              "#fdca26"
             ],
             [
              1,
              "#f0f921"
             ]
            ],
            "type": "contour"
           }
          ],
          "contourcarpet": [
           {
            "colorbar": {
             "outlinewidth": 0,
             "ticks": ""
            },
            "type": "contourcarpet"
           }
          ],
          "heatmap": [
           {
            "colorbar": {
             "outlinewidth": 0,
             "ticks": ""
            },
            "colorscale": [
             [
              0,
              "#0d0887"
             ],
             [
              0.1111111111111111,
              "#46039f"
             ],
             [
              0.2222222222222222,
              "#7201a8"
             ],
             [
              0.3333333333333333,
              "#9c179e"
             ],
             [
              0.4444444444444444,
              "#bd3786"
             ],
             [
              0.5555555555555556,
              "#d8576b"
             ],
             [
              0.6666666666666666,
              "#ed7953"
             ],
             [
              0.7777777777777778,
              "#fb9f3a"
             ],
             [
              0.8888888888888888,
              "#fdca26"
             ],
             [
              1,
              "#f0f921"
             ]
            ],
            "type": "heatmap"
           }
          ],
          "heatmapgl": [
           {
            "colorbar": {
             "outlinewidth": 0,
             "ticks": ""
            },
            "colorscale": [
             [
              0,
              "#0d0887"
             ],
             [
              0.1111111111111111,
              "#46039f"
             ],
             [
              0.2222222222222222,
              "#7201a8"
             ],
             [
              0.3333333333333333,
              "#9c179e"
             ],
             [
              0.4444444444444444,
              "#bd3786"
             ],
             [
              0.5555555555555556,
              "#d8576b"
             ],
             [
              0.6666666666666666,
              "#ed7953"
             ],
             [
              0.7777777777777778,
              "#fb9f3a"
             ],
             [
              0.8888888888888888,
              "#fdca26"
             ],
             [
              1,
              "#f0f921"
             ]
            ],
            "type": "heatmapgl"
           }
          ],
          "histogram": [
           {
            "marker": {
             "colorbar": {
              "outlinewidth": 0,
              "ticks": ""
             }
            },
            "type": "histogram"
           }
          ],
          "histogram2d": [
           {
            "colorbar": {
             "outlinewidth": 0,
             "ticks": ""
            },
            "colorscale": [
             [
              0,
              "#0d0887"
             ],
             [
              0.1111111111111111,
              "#46039f"
             ],
             [
              0.2222222222222222,
              "#7201a8"
             ],
             [
              0.3333333333333333,
              "#9c179e"
             ],
             [
              0.4444444444444444,
              "#bd3786"
             ],
             [
              0.5555555555555556,
              "#d8576b"
             ],
             [
              0.6666666666666666,
              "#ed7953"
             ],
             [
              0.7777777777777778,
              "#fb9f3a"
             ],
             [
              0.8888888888888888,
              "#fdca26"
             ],
             [
              1,
              "#f0f921"
             ]
            ],
            "type": "histogram2d"
           }
          ],
          "histogram2dcontour": [
           {
            "colorbar": {
             "outlinewidth": 0,
             "ticks": ""
            },
            "colorscale": [
             [
              0,
              "#0d0887"
             ],
             [
              0.1111111111111111,
              "#46039f"
             ],
             [
              0.2222222222222222,
              "#7201a8"
             ],
             [
              0.3333333333333333,
              "#9c179e"
             ],
             [
              0.4444444444444444,
              "#bd3786"
             ],
             [
              0.5555555555555556,
              "#d8576b"
             ],
             [
              0.6666666666666666,
              "#ed7953"
             ],
             [
              0.7777777777777778,
              "#fb9f3a"
             ],
             [
              0.8888888888888888,
              "#fdca26"
             ],
             [
              1,
              "#f0f921"
             ]
            ],
            "type": "histogram2dcontour"
           }
          ],
          "mesh3d": [
           {
            "colorbar": {
             "outlinewidth": 0,
             "ticks": ""
            },
            "type": "mesh3d"
           }
          ],
          "parcoords": [
           {
            "line": {
             "colorbar": {
              "outlinewidth": 0,
              "ticks": ""
             }
            },
            "type": "parcoords"
           }
          ],
          "pie": [
           {
            "automargin": true,
            "type": "pie"
           }
          ],
          "scatter": [
           {
            "marker": {
             "colorbar": {
              "outlinewidth": 0,
              "ticks": ""
             }
            },
            "type": "scatter"
           }
          ],
          "scatter3d": [
           {
            "line": {
             "colorbar": {
              "outlinewidth": 0,
              "ticks": ""
             }
            },
            "marker": {
             "colorbar": {
              "outlinewidth": 0,
              "ticks": ""
             }
            },
            "type": "scatter3d"
           }
          ],
          "scattercarpet": [
           {
            "marker": {
             "colorbar": {
              "outlinewidth": 0,
              "ticks": ""
             }
            },
            "type": "scattercarpet"
           }
          ],
          "scattergeo": [
           {
            "marker": {
             "colorbar": {
              "outlinewidth": 0,
              "ticks": ""
             }
            },
            "type": "scattergeo"
           }
          ],
          "scattergl": [
           {
            "marker": {
             "colorbar": {
              "outlinewidth": 0,
              "ticks": ""
             }
            },
            "type": "scattergl"
           }
          ],
          "scattermapbox": [
           {
            "marker": {
             "colorbar": {
              "outlinewidth": 0,
              "ticks": ""
             }
            },
            "type": "scattermapbox"
           }
          ],
          "scatterpolar": [
           {
            "marker": {
             "colorbar": {
              "outlinewidth": 0,
              "ticks": ""
             }
            },
            "type": "scatterpolar"
           }
          ],
          "scatterpolargl": [
           {
            "marker": {
             "colorbar": {
              "outlinewidth": 0,
              "ticks": ""
             }
            },
            "type": "scatterpolargl"
           }
          ],
          "scatterternary": [
           {
            "marker": {
             "colorbar": {
              "outlinewidth": 0,
              "ticks": ""
             }
            },
            "type": "scatterternary"
           }
          ],
          "surface": [
           {
            "colorbar": {
             "outlinewidth": 0,
             "ticks": ""
            },
            "colorscale": [
             [
              0,
              "#0d0887"
             ],
             [
              0.1111111111111111,
              "#46039f"
             ],
             [
              0.2222222222222222,
              "#7201a8"
             ],
             [
              0.3333333333333333,
              "#9c179e"
             ],
             [
              0.4444444444444444,
              "#bd3786"
             ],
             [
              0.5555555555555556,
              "#d8576b"
             ],
             [
              0.6666666666666666,
              "#ed7953"
             ],
             [
              0.7777777777777778,
              "#fb9f3a"
             ],
             [
              0.8888888888888888,
              "#fdca26"
             ],
             [
              1,
              "#f0f921"
             ]
            ],
            "type": "surface"
           }
          ],
          "table": [
           {
            "cells": {
             "fill": {
              "color": "#EBF0F8"
             },
             "line": {
              "color": "white"
             }
            },
            "header": {
             "fill": {
              "color": "#C8D4E3"
             },
             "line": {
              "color": "white"
             }
            },
            "type": "table"
           }
          ]
         },
         "layout": {
          "annotationdefaults": {
           "arrowcolor": "#2a3f5f",
           "arrowhead": 0,
           "arrowwidth": 1
          },
          "autotypenumbers": "strict",
          "coloraxis": {
           "colorbar": {
            "outlinewidth": 0,
            "ticks": ""
           }
          },
          "colorscale": {
           "diverging": [
            [
             0,
             "#8e0152"
            ],
            [
             0.1,
             "#c51b7d"
            ],
            [
             0.2,
             "#de77ae"
            ],
            [
             0.3,
             "#f1b6da"
            ],
            [
             0.4,
             "#fde0ef"
            ],
            [
             0.5,
             "#f7f7f7"
            ],
            [
             0.6,
             "#e6f5d0"
            ],
            [
             0.7,
             "#b8e186"
            ],
            [
             0.8,
             "#7fbc41"
            ],
            [
             0.9,
             "#4d9221"
            ],
            [
             1,
             "#276419"
            ]
           ],
           "sequential": [
            [
             0,
             "#0d0887"
            ],
            [
             0.1111111111111111,
             "#46039f"
            ],
            [
             0.2222222222222222,
             "#7201a8"
            ],
            [
             0.3333333333333333,
             "#9c179e"
            ],
            [
             0.4444444444444444,
             "#bd3786"
            ],
            [
             0.5555555555555556,
             "#d8576b"
            ],
            [
             0.6666666666666666,
             "#ed7953"
            ],
            [
             0.7777777777777778,
             "#fb9f3a"
            ],
            [
             0.8888888888888888,
             "#fdca26"
            ],
            [
             1,
             "#f0f921"
            ]
           ],
           "sequentialminus": [
            [
             0,
             "#0d0887"
            ],
            [
             0.1111111111111111,
             "#46039f"
            ],
            [
             0.2222222222222222,
             "#7201a8"
            ],
            [
             0.3333333333333333,
             "#9c179e"
            ],
            [
             0.4444444444444444,
             "#bd3786"
            ],
            [
             0.5555555555555556,
             "#d8576b"
            ],
            [
             0.6666666666666666,
             "#ed7953"
            ],
            [
             0.7777777777777778,
             "#fb9f3a"
            ],
            [
             0.8888888888888888,
             "#fdca26"
            ],
            [
             1,
             "#f0f921"
            ]
           ]
          },
          "colorway": [
           "#636efa",
           "#EF553B",
           "#00cc96",
           "#ab63fa",
           "#FFA15A",
           "#19d3f3",
           "#FF6692",
           "#B6E880",
           "#FF97FF",
           "#FECB52"
          ],
          "font": {
           "color": "#2a3f5f"
          },
          "geo": {
           "bgcolor": "white",
           "lakecolor": "white",
           "landcolor": "#E5ECF6",
           "showlakes": true,
           "showland": true,
           "subunitcolor": "white"
          },
          "hoverlabel": {
           "align": "left"
          },
          "hovermode": "closest",
          "mapbox": {
           "style": "light"
          },
          "paper_bgcolor": "white",
          "plot_bgcolor": "#E5ECF6",
          "polar": {
           "angularaxis": {
            "gridcolor": "white",
            "linecolor": "white",
            "ticks": ""
           },
           "bgcolor": "#E5ECF6",
           "radialaxis": {
            "gridcolor": "white",
            "linecolor": "white",
            "ticks": ""
           }
          },
          "scene": {
           "xaxis": {
            "backgroundcolor": "#E5ECF6",
            "gridcolor": "white",
            "gridwidth": 2,
            "linecolor": "white",
            "showbackground": true,
            "ticks": "",
            "zerolinecolor": "white"
           },
           "yaxis": {
            "backgroundcolor": "#E5ECF6",
            "gridcolor": "white",
            "gridwidth": 2,
            "linecolor": "white",
            "showbackground": true,
            "ticks": "",
            "zerolinecolor": "white"
           },
           "zaxis": {
            "backgroundcolor": "#E5ECF6",
            "gridcolor": "white",
            "gridwidth": 2,
            "linecolor": "white",
            "showbackground": true,
            "ticks": "",
            "zerolinecolor": "white"
           }
          },
          "shapedefaults": {
           "line": {
            "color": "#2a3f5f"
           }
          },
          "ternary": {
           "aaxis": {
            "gridcolor": "white",
            "linecolor": "white",
            "ticks": ""
           },
           "baxis": {
            "gridcolor": "white",
            "linecolor": "white",
            "ticks": ""
           },
           "bgcolor": "#E5ECF6",
           "caxis": {
            "gridcolor": "white",
            "linecolor": "white",
            "ticks": ""
           }
          },
          "title": {
           "x": 0.05
          },
          "xaxis": {
           "automargin": true,
           "gridcolor": "white",
           "linecolor": "white",
           "ticks": "",
           "title": {
            "standoff": 15
           },
           "zerolinecolor": "white",
           "zerolinewidth": 2
          },
          "yaxis": {
           "automargin": true,
           "gridcolor": "white",
           "linecolor": "white",
           "ticks": "",
           "title": {
            "standoff": 15
           },
           "zerolinecolor": "white",
           "zerolinewidth": 2
          }
         }
        },
        "title": {
         "text": "Propiedades físico-químicas",
         "x": 0.5,
         "xanchor": "center",
         "y": 0.9,
         "yanchor": "top"
        },
        "width": 800,
        "xaxis": {
         "domain": [
          0.15,
          1
         ],
         "mirror": false,
         "rangemode": "tozero",
         "showgrid": false,
         "showline": false,
         "showticklabels": true,
         "tickmode": "array",
         "ticks": "",
         "ticktext": [
          "_feat_AromaticAtomCount",
          "_feat_CarboaromaticRingCount",
          "_feat_AromaticRingCount",
          "_feat_CarboRingCount",
          "_feat_LargestRingSize",
          "_feat_SmallestRingSize",
          "_feat_RingAtomCount",
          "_feat_CyclomaticNumber",
          "_feat_HeteroaliphaticRingCount",
          "_feat_fr_NH0",
          "_feat_fr_Imine",
          "_feat_AliphaticRingCount",
          "_feat_CarboaliphaticRingCount",
          "_feat_fr_NH1",
          "_feat_fr_guanido",
          "_feat_donsitecount",
          "_feat_fr_quatN",
          "_feat_fr_NH2",
          "_feat_AtomCount_N",
          "_feat_Hdonorcount",
          "_feat_donorcount",
          "_feat_Hacceptorcount",
          "_feat_acceptorcount",
          "_feat_Accsitecount",
          "_feat_fr_amidine"
         ],
         "tickvals": [
          5,
          15,
          25,
          35,
          45,
          55,
          65,
          75,
          85,
          95,
          105,
          115,
          125,
          135,
          145,
          155,
          165,
          175,
          185,
          195,
          205,
          215,
          225,
          235,
          245
         ],
         "type": "linear",
         "zeroline": false
        },
        "xaxis2": {
         "domain": [
          0,
          0.15
         ],
         "mirror": false,
         "showgrid": false,
         "showline": false,
         "showticklabels": false,
         "ticks": "",
         "zeroline": false
        },
        "yaxis": {
         "domain": [
          0,
          0.85
         ],
         "mirror": false,
         "rangemode": "tozero",
         "showgrid": false,
         "showline": false,
         "showticklabels": false,
         "ticks": "",
         "ticktext": [
          "_feat_AromaticAtomCount",
          "_feat_CarboaromaticRingCount",
          "_feat_AromaticRingCount",
          "_feat_CarboRingCount",
          "_feat_LargestRingSize",
          "_feat_SmallestRingSize",
          "_feat_RingAtomCount",
          "_feat_CyclomaticNumber",
          "_feat_HeteroaliphaticRingCount",
          "_feat_fr_NH0",
          "_feat_fr_Imine",
          "_feat_AliphaticRingCount",
          "_feat_CarboaliphaticRingCount",
          "_feat_fr_NH1",
          "_feat_fr_guanido",
          "_feat_donsitecount",
          "_feat_fr_quatN",
          "_feat_fr_NH2",
          "_feat_AtomCount_N",
          "_feat_Hdonorcount",
          "_feat_donorcount",
          "_feat_Hacceptorcount",
          "_feat_acceptorcount",
          "_feat_Accsitecount",
          "_feat_fr_amidine"
         ],
         "tickvals": [
          5,
          15,
          25,
          35,
          45,
          55,
          65,
          75,
          85,
          95,
          105,
          115,
          125,
          135,
          145,
          155,
          165,
          175,
          185,
          195,
          205,
          215,
          225,
          235,
          245
         ],
         "type": "linear",
         "zeroline": false
        },
        "yaxis2": {
         "domain": [
          0.825,
          0.975
         ],
         "mirror": false,
         "showgrid": false,
         "showline": false,
         "showticklabels": false,
         "ticks": "",
         "zeroline": false
        }
       }
      },
      "text/html": [
       "<div>                            <div id=\"45b28ae3-9eb7-439c-9e8d-934eafd13011\" class=\"plotly-graph-div\" style=\"height:800px; width:800px;\"></div>            <script type=\"text/javascript\">                require([\"plotly\"], function(Plotly) {                    window.PLOTLYENV=window.PLOTLYENV || {};                                    if (document.getElementById(\"45b28ae3-9eb7-439c-9e8d-934eafd13011\")) {                    Plotly.newPlot(                        \"45b28ae3-9eb7-439c-9e8d-934eafd13011\",                        [{\"hoverinfo\": \"text\", \"marker\": {\"color\": \"rgb(61,153,112)\"}, \"mode\": \"lines\", \"type\": \"scatter\", \"x\": [15.0, 15.0, 25.0, 25.0], \"xaxis\": \"x\", \"y\": [0.0, 0.0, 0.0, 0.0], \"yaxis\": \"y2\"}, {\"hoverinfo\": \"text\", \"marker\": {\"color\": \"rgb(61,153,112)\"}, \"mode\": \"lines\", \"type\": \"scatter\", \"x\": [5.0, 5.0, 20.0, 20.0], \"xaxis\": \"x\", \"y\": [0.0, 0.0, 0.0, 0.0], \"yaxis\": \"y2\"}, {\"hoverinfo\": \"text\", \"marker\": {\"color\": \"rgb(61,153,112)\"}, \"mode\": \"lines\", \"type\": \"scatter\", \"x\": [12.5, 12.5, 35.0, 35.0], \"xaxis\": \"x\", \"y\": [0.0, 0.2577606161612416, 0.2577606161612416, 0.0], \"yaxis\": \"y2\"}, {\"hoverinfo\": \"text\", \"marker\": {\"color\": \"rgb(61,153,112)\"}, \"mode\": \"lines\", \"type\": \"scatter\", \"x\": [55.0, 55.0, 65.0, 65.0], \"xaxis\": \"x\", \"y\": [0.0, 0.0, 0.0, 0.0], \"yaxis\": \"y2\"}, {\"hoverinfo\": \"text\", \"marker\": {\"color\": \"rgb(61,153,112)\"}, \"mode\": \"lines\", \"type\": \"scatter\", \"x\": [45.0, 45.0, 60.0, 60.0], \"xaxis\": \"x\", \"y\": [0.0, 0.0, 0.0, 0.0], \"yaxis\": \"y2\"}, {\"hoverinfo\": \"text\", \"marker\": {\"color\": \"rgb(61,153,112)\"}, \"mode\": \"lines\", \"type\": \"scatter\", \"x\": [52.5, 52.5, 75.0, 75.0], \"xaxis\": \"x\", \"y\": [0.0, 0.17711608547837387, 0.17711608547837387, 0.0], \"yaxis\": \"y2\"}, {\"hoverinfo\": \"text\", \"marker\": {\"color\": \"rgb(61,153,112)\"}, \"mode\": \"lines\", \"type\": \"scatter\", \"x\": [23.75, 23.75, 63.75, 63.75], \"xaxis\": \"x\", \"y\": [0.2577606161612416, 0.6042769051527512, 0.6042769051527512, 0.17711608547837387], \"yaxis\": \"y2\"}, {\"hoverinfo\": \"text\", \"marker\": {\"color\": \"rgb(255,65,54)\"}, \"mode\": \"lines\", \"type\": \"scatter\", \"x\": [95.0, 95.0, 105.0, 105.0], \"xaxis\": \"x\", \"y\": [0.0, 0.0, 0.0, 0.0], \"yaxis\": \"y2\"}, {\"hoverinfo\": \"text\", \"marker\": {\"color\": \"rgb(255,65,54)\"}, \"mode\": \"lines\", \"type\": \"scatter\", \"x\": [85.0, 85.0, 100.0, 100.0], \"xaxis\": \"x\", \"y\": [0.0, 0.0, 0.0, 0.0], \"yaxis\": \"y2\"}, {\"hoverinfo\": \"text\", \"marker\": {\"color\": \"rgb(255,65,54)\"}, \"mode\": \"lines\", \"type\": \"scatter\", \"x\": [92.5, 92.5, 115.0, 115.0], \"xaxis\": \"x\", \"y\": [0.0, 0.7283906434761428, 0.7283906434761428, 0.0], \"yaxis\": \"y2\"}, {\"hoverinfo\": \"text\", \"marker\": {\"color\": \"rgb(35,205,205)\"}, \"mode\": \"lines\", \"type\": \"scatter\", \"x\": [125.0, 125.0, 135.0, 135.0], \"xaxis\": \"x\", \"y\": [0.0, 1.6412523688056018, 1.6412523688056018, 0.0], \"yaxis\": \"y2\"}, {\"hoverinfo\": \"text\", \"marker\": {\"color\": \"rgb(0,116,217)\"}, \"mode\": \"lines\", \"type\": \"scatter\", \"x\": [103.75, 103.75, 130.0, 130.0], \"xaxis\": \"x\", \"y\": [0.7283906434761428, 2.026623052686352, 2.026623052686352, 1.6412523688056018], \"yaxis\": \"y2\"}, {\"hoverinfo\": \"text\", \"marker\": {\"color\": \"rgb(133,20,75)\"}, \"mode\": \"lines\", \"type\": \"scatter\", \"x\": [165.0, 165.0, 175.0, 175.0], \"xaxis\": \"x\", \"y\": [0.0, 0.5041800675549384, 0.5041800675549384, 0.0], \"yaxis\": \"y2\"}, {\"hoverinfo\": \"text\", \"marker\": {\"color\": \"rgb(133,20,75)\"}, \"mode\": \"lines\", \"type\": \"scatter\", \"x\": [185.0, 185.0, 195.0, 195.0], \"xaxis\": \"x\", \"y\": [0.0, 0.0, 0.0, 0.0], \"yaxis\": \"y2\"}, {\"hoverinfo\": \"text\", \"marker\": {\"color\": \"rgb(133,20,75)\"}, \"mode\": \"lines\", \"type\": \"scatter\", \"x\": [190.0, 190.0, 205.0, 205.0], \"xaxis\": \"x\", \"y\": [0.0, 0.4760969226554549, 0.4760969226554549, 0.0], \"yaxis\": \"y2\"}, {\"hoverinfo\": \"text\", \"marker\": {\"color\": \"rgb(133,20,75)\"}, \"mode\": \"lines\", \"type\": \"scatter\", \"x\": [170.0, 170.0, 197.5, 197.5], \"xaxis\": \"x\", \"y\": [0.5041800675549384, 0.6395850122798925, 0.6395850122798925, 0.4760969226554549], \"yaxis\": \"y2\"}, {\"hoverinfo\": \"text\", \"marker\": {\"color\": \"rgb(133,20,75)\"}, \"mode\": \"lines\", \"type\": \"scatter\", \"x\": [215.0, 215.0, 225.0, 225.0], \"xaxis\": \"x\", \"y\": [0.0, 0.0, 0.0, 0.0], \"yaxis\": \"y2\"}, {\"hoverinfo\": \"text\", \"marker\": {\"color\": \"rgb(133,20,75)\"}, \"mode\": \"lines\", \"type\": \"scatter\", \"x\": [220.0, 220.0, 235.0, 235.0], \"xaxis\": \"x\", \"y\": [0.0, 0.18454883785247933, 0.18454883785247933, 0.0], \"yaxis\": \"y2\"}, {\"hoverinfo\": \"text\", \"marker\": {\"color\": \"rgb(133,20,75)\"}, \"mode\": \"lines\", \"type\": \"scatter\", \"x\": [183.75, 183.75, 227.5, 227.5], \"xaxis\": \"x\", \"y\": [0.6395850122798925, 0.7464459708166339, 0.7464459708166339, 0.18454883785247933], \"yaxis\": \"y2\"}, {\"hoverinfo\": \"text\", \"marker\": {\"color\": \"rgb(133,20,75)\"}, \"mode\": \"lines\", \"type\": \"scatter\", \"x\": [155.0, 155.0, 205.625, 205.625], \"xaxis\": \"x\", \"y\": [0.0, 0.8861688389168222, 0.8861688389168222, 0.7464459708166339], \"yaxis\": \"y2\"}, {\"hoverinfo\": \"text\", \"marker\": {\"color\": \"rgb(133,20,75)\"}, \"mode\": \"lines\", \"type\": \"scatter\", \"x\": [180.3125, 180.3125, 245.0, 245.0], \"xaxis\": \"x\", \"y\": [0.8861688389168222, 1.1763794234977933, 1.1763794234977933, 0.0], \"yaxis\": \"y2\"}, {\"hoverinfo\": \"text\", \"marker\": {\"color\": \"rgb(133,20,75)\"}, \"mode\": \"lines\", \"type\": \"scatter\", \"x\": [145.0, 145.0, 212.65625, 212.65625], \"xaxis\": \"x\", \"y\": [0.0, 1.2699639278444896, 1.2699639278444896, 1.1763794234977933], \"yaxis\": \"y2\"}, {\"hoverinfo\": \"text\", \"marker\": {\"color\": \"rgb(0,116,217)\"}, \"mode\": \"lines\", \"type\": \"scatter\", \"x\": [116.875, 116.875, 178.828125, 178.828125], \"xaxis\": \"x\", \"y\": [2.026623052686352, 2.4257580809185426, 2.4257580809185426, 1.2699639278444896], \"yaxis\": \"y2\"}, {\"hoverinfo\": \"text\", \"marker\": {\"color\": \"rgb(0,116,217)\"}, \"mode\": \"lines\", \"type\": \"scatter\", \"x\": [43.75, 43.75, 147.8515625, 147.8515625], \"xaxis\": \"x\", \"y\": [0.6042769051527512, 2.8910614499308083, 2.8910614499308083, 2.4257580809185426], \"yaxis\": \"y2\"}, {\"hoverinfo\": \"text\", \"marker\": {\"color\": \"rgb(61,153,112)\"}, \"mode\": \"lines\", \"type\": \"scatter\", \"x\": [-0.0, -0.0, -0.0, -0.0], \"xaxis\": \"x2\", \"y\": [15.0, 15.0, 25.0, 25.0], \"yaxis\": \"y\"}, {\"hoverinfo\": \"text\", \"marker\": {\"color\": \"rgb(61,153,112)\"}, \"mode\": \"lines\", \"type\": \"scatter\", \"x\": [-0.0, -0.0, -0.0, -0.0], \"xaxis\": \"x2\", \"y\": [5.0, 5.0, 20.0, 20.0], \"yaxis\": \"y\"}, {\"hoverinfo\": \"text\", \"marker\": {\"color\": \"rgb(61,153,112)\"}, \"mode\": \"lines\", \"type\": \"scatter\", \"x\": [-0.0, -0.2577606161612416, -0.2577606161612416, -0.0], \"xaxis\": \"x2\", \"y\": [12.5, 12.5, 35.0, 35.0], \"yaxis\": \"y\"}, {\"hoverinfo\": \"text\", \"marker\": {\"color\": \"rgb(61,153,112)\"}, \"mode\": \"lines\", \"type\": \"scatter\", \"x\": [-0.0, -0.0, -0.0, -0.0], \"xaxis\": \"x2\", \"y\": [55.0, 55.0, 65.0, 65.0], \"yaxis\": \"y\"}, {\"hoverinfo\": \"text\", \"marker\": {\"color\": \"rgb(61,153,112)\"}, \"mode\": \"lines\", \"type\": \"scatter\", \"x\": [-0.0, -0.0, -0.0, -0.0], \"xaxis\": \"x2\", \"y\": [45.0, 45.0, 60.0, 60.0], \"yaxis\": \"y\"}, {\"hoverinfo\": \"text\", \"marker\": {\"color\": \"rgb(61,153,112)\"}, \"mode\": \"lines\", \"type\": \"scatter\", \"x\": [-0.0, -0.17711608547837387, -0.17711608547837387, -0.0], \"xaxis\": \"x2\", \"y\": [52.5, 52.5, 75.0, 75.0], \"yaxis\": \"y\"}, {\"hoverinfo\": \"text\", \"marker\": {\"color\": \"rgb(61,153,112)\"}, \"mode\": \"lines\", \"type\": \"scatter\", \"x\": [-0.2577606161612416, -0.6042769051527512, -0.6042769051527512, -0.17711608547837387], \"xaxis\": \"x2\", \"y\": [23.75, 23.75, 63.75, 63.75], \"yaxis\": \"y\"}, {\"hoverinfo\": \"text\", \"marker\": {\"color\": \"rgb(255,65,54)\"}, \"mode\": \"lines\", \"type\": \"scatter\", \"x\": [-0.0, -0.0, -0.0, -0.0], \"xaxis\": \"x2\", \"y\": [95.0, 95.0, 105.0, 105.0], \"yaxis\": \"y\"}, {\"hoverinfo\": \"text\", \"marker\": {\"color\": \"rgb(255,65,54)\"}, \"mode\": \"lines\", \"type\": \"scatter\", \"x\": [-0.0, -0.0, -0.0, -0.0], \"xaxis\": \"x2\", \"y\": [85.0, 85.0, 100.0, 100.0], \"yaxis\": \"y\"}, {\"hoverinfo\": \"text\", \"marker\": {\"color\": \"rgb(255,65,54)\"}, \"mode\": \"lines\", \"type\": \"scatter\", \"x\": [-0.0, -0.7283906434761428, -0.7283906434761428, -0.0], \"xaxis\": \"x2\", \"y\": [92.5, 92.5, 115.0, 115.0], \"yaxis\": \"y\"}, {\"hoverinfo\": \"text\", \"marker\": {\"color\": \"rgb(35,205,205)\"}, \"mode\": \"lines\", \"type\": \"scatter\", \"x\": [-0.0, -1.6412523688056018, -1.6412523688056018, -0.0], \"xaxis\": \"x2\", \"y\": [125.0, 125.0, 135.0, 135.0], \"yaxis\": \"y\"}, {\"hoverinfo\": \"text\", \"marker\": {\"color\": \"rgb(0,116,217)\"}, \"mode\": \"lines\", \"type\": \"scatter\", \"x\": [-0.7283906434761428, -2.026623052686352, -2.026623052686352, -1.6412523688056018], \"xaxis\": \"x2\", \"y\": [103.75, 103.75, 130.0, 130.0], \"yaxis\": \"y\"}, {\"hoverinfo\": \"text\", \"marker\": {\"color\": \"rgb(133,20,75)\"}, \"mode\": \"lines\", \"type\": \"scatter\", \"x\": [-0.0, -0.5041800675549384, -0.5041800675549384, -0.0], \"xaxis\": \"x2\", \"y\": [165.0, 165.0, 175.0, 175.0], \"yaxis\": \"y\"}, {\"hoverinfo\": \"text\", \"marker\": {\"color\": \"rgb(133,20,75)\"}, \"mode\": \"lines\", \"type\": \"scatter\", \"x\": [-0.0, -0.0, -0.0, -0.0], \"xaxis\": \"x2\", \"y\": [185.0, 185.0, 195.0, 195.0], \"yaxis\": \"y\"}, {\"hoverinfo\": \"text\", \"marker\": {\"color\": \"rgb(133,20,75)\"}, \"mode\": \"lines\", \"type\": \"scatter\", \"x\": [-0.0, -0.4760969226554549, -0.4760969226554549, -0.0], \"xaxis\": \"x2\", \"y\": [190.0, 190.0, 205.0, 205.0], \"yaxis\": \"y\"}, {\"hoverinfo\": \"text\", \"marker\": {\"color\": \"rgb(133,20,75)\"}, \"mode\": \"lines\", \"type\": \"scatter\", \"x\": [-0.5041800675549384, -0.6395850122798925, -0.6395850122798925, -0.4760969226554549], \"xaxis\": \"x2\", \"y\": [170.0, 170.0, 197.5, 197.5], \"yaxis\": \"y\"}, {\"hoverinfo\": \"text\", \"marker\": {\"color\": \"rgb(133,20,75)\"}, \"mode\": \"lines\", \"type\": \"scatter\", \"x\": [-0.0, -0.0, -0.0, -0.0], \"xaxis\": \"x2\", \"y\": [215.0, 215.0, 225.0, 225.0], \"yaxis\": \"y\"}, {\"hoverinfo\": \"text\", \"marker\": {\"color\": \"rgb(133,20,75)\"}, \"mode\": \"lines\", \"type\": \"scatter\", \"x\": [-0.0, -0.18454883785247933, -0.18454883785247933, -0.0], \"xaxis\": \"x2\", \"y\": [220.0, 220.0, 235.0, 235.0], \"yaxis\": \"y\"}, {\"hoverinfo\": \"text\", \"marker\": {\"color\": \"rgb(133,20,75)\"}, \"mode\": \"lines\", \"type\": \"scatter\", \"x\": [-0.6395850122798925, -0.7464459708166339, -0.7464459708166339, -0.18454883785247933], \"xaxis\": \"x2\", \"y\": [183.75, 183.75, 227.5, 227.5], \"yaxis\": \"y\"}, {\"hoverinfo\": \"text\", \"marker\": {\"color\": \"rgb(133,20,75)\"}, \"mode\": \"lines\", \"type\": \"scatter\", \"x\": [-0.0, -0.8861688389168222, -0.8861688389168222, -0.7464459708166339], \"xaxis\": \"x2\", \"y\": [155.0, 155.0, 205.625, 205.625], \"yaxis\": \"y\"}, {\"hoverinfo\": \"text\", \"marker\": {\"color\": \"rgb(133,20,75)\"}, \"mode\": \"lines\", \"type\": \"scatter\", \"x\": [-0.8861688389168222, -1.1763794234977933, -1.1763794234977933, -0.0], \"xaxis\": \"x2\", \"y\": [180.3125, 180.3125, 245.0, 245.0], \"yaxis\": \"y\"}, {\"hoverinfo\": \"text\", \"marker\": {\"color\": \"rgb(133,20,75)\"}, \"mode\": \"lines\", \"type\": \"scatter\", \"x\": [-0.0, -1.2699639278444896, -1.2699639278444896, -1.1763794234977933], \"xaxis\": \"x2\", \"y\": [145.0, 145.0, 212.65625, 212.65625], \"yaxis\": \"y\"}, {\"hoverinfo\": \"text\", \"marker\": {\"color\": \"rgb(0,116,217)\"}, \"mode\": \"lines\", \"type\": \"scatter\", \"x\": [-2.026623052686352, -2.4257580809185426, -2.4257580809185426, -1.2699639278444896], \"xaxis\": \"x2\", \"y\": [116.875, 116.875, 178.828125, 178.828125], \"yaxis\": \"y\"}, {\"hoverinfo\": \"text\", \"marker\": {\"color\": \"rgb(0,116,217)\"}, \"mode\": \"lines\", \"type\": \"scatter\", \"x\": [-0.6042769051527512, -2.8910614499308083, -2.8910614499308083, -2.4257580809185426], \"xaxis\": \"x2\", \"y\": [43.75, 43.75, 147.8515625, 147.8515625], \"yaxis\": \"y\"}, {\"colorbar\": {\"title\": {\"text\": \"Correlaci\\u00f3n (abs)\"}}, \"type\": \"heatmap\", \"x\": [5, 15, 25, 35, 45, 55, 65, 75, 85, 95, 105, 115, 125, 135, 145, 155, 165, 175, 185, 195, 205, 215, 225, 235, 245], \"y\": [5, 15, 25, 35, 45, 55, 65, 75, 85, 95, 105, 115, 125, 135, 145, 155, 165, 175, 185, 195, 205, 215, 225, 235, 245], \"z\": [[1.0, 1.0, 1.0, 0.9480890419638086, 0.8909118577774785, 0.8909118577774785, 0.8909118577774785, 0.8604354490248182, 0.0798514327612938, 0.0798514327612938, 0.0798514327612938, 0.09858303709087159, 0.05602070420949957, 0.10281594291830175, 0.11476299961714806, 0.15815260406646972, 0.18103182393582357, 0.2464616198692249, 0.25988574465768094, 0.25988574465768094, 0.23916288509178954, 0.061424466492146695, 0.061424466492146695, 0.0068666268102511255, 0.1594329263527986], [1.0, 1.0, 1.0, 0.9480890419638086, 0.8909118577774785, 0.8909118577774785, 0.8909118577774785, 0.8604354490248182, 0.0798514327612938, 0.0798514327612938, 0.0798514327612938, 0.09858303709087159, 0.05602070420949957, 0.10281594291830175, 0.11476299961714806, 0.15815260406646972, 0.18103182393582357, 0.2464616198692249, 0.25988574465768094, 0.25988574465768094, 0.23916288509178954, 0.061424466492146695, 0.061424466492146695, 0.0068666268102511255, 0.1594329263527986], [1.0, 1.0, 1.0, 0.9480890419638086, 0.8909118577774785, 0.8909118577774785, 0.8909118577774785, 0.8604354490248182, 0.0798514327612938, 0.0798514327612938, 0.0798514327612938, 0.09858303709087159, 0.05602070420949957, 0.10281594291830175, 0.11476299961714806, 0.15815260406646972, 0.18103182393582357, 0.2464616198692249, 0.25988574465768094, 0.25988574465768094, 0.23916288509178954, 0.061424466492146695, 0.061424466492146695, 0.0068666268102511255, 0.1594329263527986], [0.9480890419638086, 0.9480890419638086, 0.9480890419638086, 1.0, 0.9396921790511394, 0.9396921790511394, 0.9396921790511394, 0.9075470878163188, 0.08422355836525108, 0.08422355836525108, 0.08422355836525108, 0.08576894075984084, 0.2643929734004634, 0.10844545012917314, 0.1210466470316286, 0.1668119734185335, 0.19094390497420607, 0.2599561949990696, 0.2741153342721595, 0.2741153342721595, 0.2522578307585999, 0.08379073969923054, 0.08379073969923054, 0.03101765040189288, 0.16816239751338102], [0.8909118577774785, 0.8909118577774785, 0.8909118577774785, 0.9396921790511394, 1.0, 1.0, 1.0, 0.9964468837907493, 0.2616618962644557, 0.2616618962644557, 0.2616618962644557, 0.36109816925326216, 0.24844800930049146, 0.11906834619733839, 0.13290390751867745, 0.2866409708291216, 0.20964802999719725, 0.1676359265199184, 0.17026895731801991, 0.17026895731801991, 0.2769680303597591, 0.008247605219254417, 0.008247605219254417, 0.053906014758734334, 0.1846349343439288], [0.8909118577774785, 0.8909118577774785, 0.8909118577774785, 0.9396921790511394, 1.0, 1.0, 1.0, 0.9964468837907493, 0.2616618962644557, 0.2616618962644557, 0.2616618962644557, 0.36109816925326216, 0.24844800930049146, 0.11906834619733839, 0.13290390751867745, 0.2866409708291216, 0.20964802999719725, 0.1676359265199184, 0.17026895731801991, 0.17026895731801991, 0.2769680303597591, 0.008247605219254417, 0.008247605219254417, 0.053906014758734334, 0.1846349343439288], [0.8909118577774785, 0.8909118577774785, 0.8909118577774785, 0.9396921790511394, 1.0, 1.0, 1.0, 0.9964468837907493, 0.2616618962644557, 0.2616618962644557, 0.2616618962644557, 0.36109816925326216, 0.24844800930049146, 0.11906834619733839, 0.13290390751867745, 0.2866409708291216, 0.20964802999719725, 0.1676359265199184, 0.17026895731801991, 0.17026895731801991, 0.2769680303597591, 0.008247605219254417, 0.008247605219254417, 0.053906014758734334, 0.1846349343439288], [0.8604354490248182, 0.8604354490248182, 0.8604354490248182, 0.9075470878163188, 0.9964468837907493, 0.9964468837907493, 0.9964468837907493, 1.0, 0.3420213569795332, 0.3420213569795332, 0.3420213569795332, 0.4222529634725271, 0.239949073048688, 0.11949291842267666, 0.13337781439295146, 0.31087378438466684, 0.21039558997830404, 0.14181666335871276, 0.14156290455989917, 0.14156290455989917, 0.27795563904630716, 0.030760473318362958, 0.030760473318362958, 0.0738265763232332, 0.18529330298222052], [0.0798514327612938, 0.0798514327612938, 0.0798514327612938, 0.08422355836525108, 0.2616618962644557, 0.2616618962644557, 0.2616618962644557, 0.3420213569795332, 1.0, 1.0, 1.0, 0.8099916082691649, 0.02226811702655621, 0.04086913010836853, 0.04561806106964158, 0.3643700084510418, 0.07195978518688903, 0.24518621041336996, 0.2774711938731786, 0.2774711938731786, 0.0950667648467313, 0.26048004152729864, 0.26048004152729864, 0.24457964904453455, 0.06337426692519885], [0.0798514327612938, 0.0798514327612938, 0.0798514327612938, 0.08422355836525108, 0.2616618962644557, 0.2616618962644557, 0.2616618962644557, 0.3420213569795332, 1.0, 1.0, 1.0, 0.8099916082691649, 0.02226811702655621, 0.04086913010836853, 0.04561806106964158, 0.3643700084510418, 0.07195978518688903, 0.24518621041336996, 0.2774711938731786, 0.2774711938731786, 0.0950667648467313, 0.26048004152729864, 0.26048004152729864, 0.24457964904453455, 0.06337426692519885], [0.0798514327612938, 0.0798514327612938, 0.0798514327612938, 0.08422355836525108, 0.2616618962644557, 0.2616618962644557, 0.2616618962644557, 0.3420213569795332, 1.0, 1.0, 1.0, 0.8099916082691649, 0.02226811702655621, 0.04086913010836853, 0.04561806106964158, 0.3643700084510418, 0.07195978518688903, 0.24518621041336996, 0.2774711938731786, 0.2774711938731786, 0.0950667648467313, 0.26048004152729864, 0.26048004152729864, 0.24457964904453455, 0.06337426692519885], [0.09858303709087159, 0.09858303709087159, 0.09858303709087159, 0.08576894075984084, 0.36109816925326216, 0.36109816925326216, 0.36109816925326216, 0.4222529634725271, 0.8099916082691649, 0.8099916082691649, 0.8099916082691649, 1.0, 0.5682590622346213, 0.05045623891795615, 0.05631917738891245, 0.32576689693127614, 0.0888401613698896, 0.16148497490955277, 0.18586131978551437, 0.18586131978551437, 0.11736759230120326, 0.16934346495383906, 0.16934346495383906, 0.1563927428488065, 0.07824064629585546], [0.05602070420949957, 0.05602070420949957, 0.05602070420949957, 0.2643929734004634, 0.24844800930049146, 0.24844800930049146, 0.24844800930049146, 0.239949073048688, 0.02226811702655621, 0.02226811702655621, 0.02226811702655621, 0.5682590622346213, 1.0, 0.028672215011403757, 0.03200388292884867, 0.04410391365092514, 0.05048422678882589, 0.06873059134967469, 0.07247416828287823, 0.07247416828287823, 0.06669519793781711, 0.07679274807530405, 0.07679274807530405, 0.07656063198719738, 0.04446095629271351], [0.10281594291830175, 0.10281594291830175, 0.10281594291830175, 0.10844545012917314, 0.11906834619733839, 0.11906834619733839, 0.11906834619733839, 0.11949291842267666, 0.04086913010836853, 0.04086913010836853, 0.04086913010836853, 0.05045623891795615, 0.028672215011403757, 1.0, 0.05873738016700149, 0.3574394745812136, 0.24128281161033788, 0.1261426584450357, 0.3572692617303455, 0.3572692617303455, 0.39079132757997354, 0.1888282574816113, 0.1888282574816113, 0.17478558723346646, 0.0816001014051797], [0.11476299961714806, 0.11476299961714806, 0.11476299961714806, 0.1210466470316286, 0.13290390751867745, 0.13290390751867745, 0.13290390751867745, 0.13337781439295146, 0.04561806106964158, 0.04561806106964158, 0.04561806106964158, 0.05631917738891245, 0.03200388292884867, 0.05873738016700149, 1.0, 0.5239433187803657, 0.5391699178094003, 0.5602357539672718, 0.547252676326963, 0.547252676326963, 0.5728312614680579, 0.5316798457465768, 0.5316798457465768, 0.5083521892229413, 0.09108190948327063], [0.15815260406646972, 0.15815260406646972, 0.15815260406646972, 0.1668119734185335, 0.2866409708291216, 0.2866409708291216, 0.2866409708291216, 0.31087378438466684, 0.3643700084510418, 0.3643700084510418, 0.3643700084510418, 0.32576689693127614, 0.04410391365092514, 0.3574394745812136, 0.5239433187803657, 1.0, 0.7047203878869037, 0.5086679720365315, 0.7481598385002878, 0.7481598385002878, 0.9146555958513828, 0.655352700823648, 0.655352700823648, 0.6214472365327534, 0.5542683343552314], [0.18103182393582357, 0.18103182393582357, 0.18103182393582357, 0.19094390497420607, 0.20964802999719725, 0.20964802999719725, 0.20964802999719725, 0.21039558997830404, 0.07195978518688903, 0.07195978518688903, 0.07195978518688903, 0.0888401613698896, 0.05048422678882589, 0.24128281161033788, 0.5391699178094003, 0.7047203878869037, 1.0, 0.8581658908183206, 0.7185920469117119, 0.7185920469117119, 0.7704762219608284, 0.7526633684009523, 0.7526633684009523, 0.7133777812970028, 0.7490344282087421], [0.2464616198692249, 0.2464616198692249, 0.2464616198692249, 0.2599561949990696, 0.1676359265199184, 0.1676359265199184, 0.1676359265199184, 0.14181666335871276, 0.24518621041336996, 0.24518621041336996, 0.24518621041336996, 0.16148497490955277, 0.06873059134967469, 0.1261426584450357, 0.5602357539672718, 0.5086679720365315, 0.8581658908183206, 1.0, 0.8254700530283949, 0.8254700530283949, 0.7594615198209025, 0.7825074257273529, 0.7825074257273529, 0.7386008123819798, 0.6341210341973098], [0.25988574465768094, 0.25988574465768094, 0.25988574465768094, 0.2741153342721595, 0.17026895731801991, 0.17026895731801991, 0.17026895731801991, 0.14156290455989917, 0.2774711938731786, 0.2774711938731786, 0.2774711938731786, 0.18586131978551437, 0.07247416828287823, 0.3572692617303455, 0.547252676326963, 0.7481598385002878, 0.7185920469117119, 0.8254700530283949, 1.0, 1.0, 0.9299057522767564, 0.8822114773246416, 0.8822114773246416, 0.8331465000406704, 0.5540043915060341], [0.25988574465768094, 0.25988574465768094, 0.25988574465768094, 0.2741153342721595, 0.17026895731801991, 0.17026895731801991, 0.17026895731801991, 0.14156290455989917, 0.2774711938731786, 0.2774711938731786, 0.2774711938731786, 0.18586131978551437, 0.07247416828287823, 0.3572692617303455, 0.547252676326963, 0.7481598385002878, 0.7185920469117119, 0.8254700530283949, 1.0, 1.0, 0.9299057522767564, 0.8822114773246416, 0.8822114773246416, 0.8331465000406704, 0.5540043915060341], [0.23916288509178954, 0.23916288509178954, 0.23916288509178954, 0.2522578307585999, 0.2769680303597591, 0.2769680303597591, 0.2769680303597591, 0.27795563904630716, 0.0950667648467313, 0.0950667648467313, 0.0950667648467313, 0.11736759230120326, 0.06669519793781711, 0.39079132757997354, 0.5728312614680579, 0.9146555958513828, 0.7704762219608284, 0.7594615198209025, 0.9299057522767564, 0.9299057522767564, 1.0, 0.8134500982065702, 0.8134500982065702, 0.7686454164029227, 0.6059858343066338], [0.061424466492146695, 0.061424466492146695, 0.061424466492146695, 0.08379073969923054, 0.008247605219254417, 0.008247605219254417, 0.008247605219254417, 0.030760473318362958, 0.26048004152729864, 0.26048004152729864, 0.26048004152729864, 0.16934346495383906, 0.07679274807530405, 0.1888282574816113, 0.5316798457465768, 0.655352700823648, 0.7526633684009523, 0.7825074257273529, 0.8822114773246416, 0.8822114773246416, 0.8134500982065702, 1.0, 1.0, 0.99377061237255, 0.5200795257029629], [0.061424466492146695, 0.061424466492146695, 0.061424466492146695, 0.08379073969923054, 0.008247605219254417, 0.008247605219254417, 0.008247605219254417, 0.030760473318362958, 0.26048004152729864, 0.26048004152729864, 0.26048004152729864, 0.16934346495383906, 0.07679274807530405, 0.1888282574816113, 0.5316798457465768, 0.655352700823648, 0.7526633684009523, 0.7825074257273529, 0.8822114773246416, 0.8822114773246416, 0.8134500982065702, 1.0, 1.0, 0.99377061237255, 0.5200795257029629], [0.0068666268102511255, 0.0068666268102511255, 0.0068666268102511255, 0.03101765040189288, 0.053906014758734334, 0.053906014758734334, 0.053906014758734334, 0.0738265763232332, 0.24457964904453455, 0.24457964904453455, 0.24457964904453455, 0.1563927428488065, 0.07656063198719738, 0.17478558723346646, 0.5083521892229413, 0.6214472365327534, 0.7133777812970028, 0.7386008123819798, 0.8331465000406704, 0.8331465000406704, 0.7686454164029227, 0.99377061237255, 0.99377061237255, 1.0, 0.48833249229326403], [0.1594329263527986, 0.1594329263527986, 0.1594329263527986, 0.16816239751338102, 0.1846349343439288, 0.1846349343439288, 0.1846349343439288, 0.18529330298222052, 0.06337426692519885, 0.06337426692519885, 0.06337426692519885, 0.07824064629585546, 0.04446095629271351, 0.0816001014051797, 0.09108190948327063, 0.5542683343552314, 0.7490344282087421, 0.6341210341973098, 0.5540043915060341, 0.5540043915060341, 0.6059858343066338, 0.5200795257029629, 0.5200795257029629, 0.48833249229326403, 1.0]]}],                        {\"autosize\": false, \"height\": 800, \"hovermode\": \"closest\", \"showlegend\": false, \"template\": {\"data\": {\"bar\": [{\"error_x\": {\"color\": \"#2a3f5f\"}, \"error_y\": {\"color\": \"#2a3f5f\"}, \"marker\": {\"line\": {\"color\": \"#E5ECF6\", \"width\": 0.5}}, \"type\": \"bar\"}], \"barpolar\": [{\"marker\": {\"line\": {\"color\": \"#E5ECF6\", \"width\": 0.5}}, \"type\": \"barpolar\"}], \"carpet\": [{\"aaxis\": {\"endlinecolor\": \"#2a3f5f\", \"gridcolor\": \"white\", \"linecolor\": \"white\", \"minorgridcolor\": \"white\", \"startlinecolor\": \"#2a3f5f\"}, \"baxis\": {\"endlinecolor\": \"#2a3f5f\", \"gridcolor\": \"white\", \"linecolor\": \"white\", \"minorgridcolor\": \"white\", \"startlinecolor\": \"#2a3f5f\"}, \"type\": \"carpet\"}], \"choropleth\": [{\"colorbar\": {\"outlinewidth\": 0, \"ticks\": \"\"}, \"type\": \"choropleth\"}], \"contour\": [{\"colorbar\": {\"outlinewidth\": 0, \"ticks\": \"\"}, \"colorscale\": [[0.0, \"#0d0887\"], [0.1111111111111111, \"#46039f\"], [0.2222222222222222, \"#7201a8\"], [0.3333333333333333, \"#9c179e\"], [0.4444444444444444, \"#bd3786\"], [0.5555555555555556, \"#d8576b\"], [0.6666666666666666, \"#ed7953\"], [0.7777777777777778, \"#fb9f3a\"], [0.8888888888888888, \"#fdca26\"], [1.0, \"#f0f921\"]], \"type\": \"contour\"}], \"contourcarpet\": [{\"colorbar\": {\"outlinewidth\": 0, \"ticks\": \"\"}, \"type\": \"contourcarpet\"}], \"heatmap\": [{\"colorbar\": {\"outlinewidth\": 0, \"ticks\": \"\"}, \"colorscale\": [[0.0, \"#0d0887\"], [0.1111111111111111, \"#46039f\"], [0.2222222222222222, \"#7201a8\"], [0.3333333333333333, \"#9c179e\"], [0.4444444444444444, \"#bd3786\"], [0.5555555555555556, \"#d8576b\"], [0.6666666666666666, \"#ed7953\"], [0.7777777777777778, \"#fb9f3a\"], [0.8888888888888888, \"#fdca26\"], [1.0, \"#f0f921\"]], \"type\": \"heatmap\"}], \"heatmapgl\": [{\"colorbar\": {\"outlinewidth\": 0, \"ticks\": \"\"}, \"colorscale\": [[0.0, \"#0d0887\"], [0.1111111111111111, \"#46039f\"], [0.2222222222222222, \"#7201a8\"], [0.3333333333333333, \"#9c179e\"], [0.4444444444444444, \"#bd3786\"], [0.5555555555555556, \"#d8576b\"], [0.6666666666666666, \"#ed7953\"], [0.7777777777777778, \"#fb9f3a\"], [0.8888888888888888, \"#fdca26\"], [1.0, \"#f0f921\"]], \"type\": \"heatmapgl\"}], \"histogram\": [{\"marker\": {\"colorbar\": {\"outlinewidth\": 0, \"ticks\": \"\"}}, \"type\": \"histogram\"}], \"histogram2d\": [{\"colorbar\": {\"outlinewidth\": 0, \"ticks\": \"\"}, \"colorscale\": [[0.0, \"#0d0887\"], [0.1111111111111111, \"#46039f\"], [0.2222222222222222, \"#7201a8\"], [0.3333333333333333, \"#9c179e\"], [0.4444444444444444, \"#bd3786\"], [0.5555555555555556, \"#d8576b\"], [0.6666666666666666, \"#ed7953\"], [0.7777777777777778, \"#fb9f3a\"], [0.8888888888888888, \"#fdca26\"], [1.0, \"#f0f921\"]], \"type\": \"histogram2d\"}], \"histogram2dcontour\": [{\"colorbar\": {\"outlinewidth\": 0, \"ticks\": \"\"}, \"colorscale\": [[0.0, \"#0d0887\"], [0.1111111111111111, \"#46039f\"], [0.2222222222222222, \"#7201a8\"], [0.3333333333333333, \"#9c179e\"], [0.4444444444444444, \"#bd3786\"], [0.5555555555555556, \"#d8576b\"], [0.6666666666666666, \"#ed7953\"], [0.7777777777777778, \"#fb9f3a\"], [0.8888888888888888, \"#fdca26\"], [1.0, \"#f0f921\"]], \"type\": \"histogram2dcontour\"}], \"mesh3d\": [{\"colorbar\": {\"outlinewidth\": 0, \"ticks\": \"\"}, \"type\": \"mesh3d\"}], \"parcoords\": [{\"line\": {\"colorbar\": {\"outlinewidth\": 0, \"ticks\": \"\"}}, \"type\": \"parcoords\"}], \"pie\": [{\"automargin\": true, \"type\": \"pie\"}], \"scatter\": [{\"marker\": {\"colorbar\": {\"outlinewidth\": 0, \"ticks\": \"\"}}, \"type\": \"scatter\"}], \"scatter3d\": [{\"line\": {\"colorbar\": {\"outlinewidth\": 0, \"ticks\": \"\"}}, \"marker\": {\"colorbar\": {\"outlinewidth\": 0, \"ticks\": \"\"}}, \"type\": \"scatter3d\"}], \"scattercarpet\": [{\"marker\": {\"colorbar\": {\"outlinewidth\": 0, \"ticks\": \"\"}}, \"type\": \"scattercarpet\"}], \"scattergeo\": [{\"marker\": {\"colorbar\": {\"outlinewidth\": 0, \"ticks\": \"\"}}, \"type\": \"scattergeo\"}], \"scattergl\": [{\"marker\": {\"colorbar\": {\"outlinewidth\": 0, \"ticks\": \"\"}}, \"type\": \"scattergl\"}], \"scattermapbox\": [{\"marker\": {\"colorbar\": {\"outlinewidth\": 0, \"ticks\": \"\"}}, \"type\": \"scattermapbox\"}], \"scatterpolar\": [{\"marker\": {\"colorbar\": {\"outlinewidth\": 0, \"ticks\": \"\"}}, \"type\": \"scatterpolar\"}], \"scatterpolargl\": [{\"marker\": {\"colorbar\": {\"outlinewidth\": 0, \"ticks\": \"\"}}, \"type\": \"scatterpolargl\"}], \"scatterternary\": [{\"marker\": {\"colorbar\": {\"outlinewidth\": 0, \"ticks\": \"\"}}, \"type\": \"scatterternary\"}], \"surface\": [{\"colorbar\": {\"outlinewidth\": 0, \"ticks\": \"\"}, \"colorscale\": [[0.0, \"#0d0887\"], [0.1111111111111111, \"#46039f\"], [0.2222222222222222, \"#7201a8\"], [0.3333333333333333, \"#9c179e\"], [0.4444444444444444, \"#bd3786\"], [0.5555555555555556, \"#d8576b\"], [0.6666666666666666, \"#ed7953\"], [0.7777777777777778, \"#fb9f3a\"], [0.8888888888888888, \"#fdca26\"], [1.0, \"#f0f921\"]], \"type\": \"surface\"}], \"table\": [{\"cells\": {\"fill\": {\"color\": \"#EBF0F8\"}, \"line\": {\"color\": \"white\"}}, \"header\": {\"fill\": {\"color\": \"#C8D4E3\"}, \"line\": {\"color\": \"white\"}}, \"type\": \"table\"}]}, \"layout\": {\"annotationdefaults\": {\"arrowcolor\": \"#2a3f5f\", \"arrowhead\": 0, \"arrowwidth\": 1}, \"autotypenumbers\": \"strict\", \"coloraxis\": {\"colorbar\": {\"outlinewidth\": 0, \"ticks\": \"\"}}, \"colorscale\": {\"diverging\": [[0, \"#8e0152\"], [0.1, \"#c51b7d\"], [0.2, \"#de77ae\"], [0.3, \"#f1b6da\"], [0.4, \"#fde0ef\"], [0.5, \"#f7f7f7\"], [0.6, \"#e6f5d0\"], [0.7, \"#b8e186\"], [0.8, \"#7fbc41\"], [0.9, \"#4d9221\"], [1, \"#276419\"]], \"sequential\": [[0.0, \"#0d0887\"], [0.1111111111111111, \"#46039f\"], [0.2222222222222222, \"#7201a8\"], [0.3333333333333333, \"#9c179e\"], [0.4444444444444444, \"#bd3786\"], [0.5555555555555556, \"#d8576b\"], [0.6666666666666666, \"#ed7953\"], [0.7777777777777778, \"#fb9f3a\"], [0.8888888888888888, \"#fdca26\"], [1.0, \"#f0f921\"]], \"sequentialminus\": [[0.0, \"#0d0887\"], [0.1111111111111111, \"#46039f\"], [0.2222222222222222, \"#7201a8\"], [0.3333333333333333, \"#9c179e\"], [0.4444444444444444, \"#bd3786\"], [0.5555555555555556, \"#d8576b\"], [0.6666666666666666, \"#ed7953\"], [0.7777777777777778, \"#fb9f3a\"], [0.8888888888888888, \"#fdca26\"], [1.0, \"#f0f921\"]]}, \"colorway\": [\"#636efa\", \"#EF553B\", \"#00cc96\", \"#ab63fa\", \"#FFA15A\", \"#19d3f3\", \"#FF6692\", \"#B6E880\", \"#FF97FF\", \"#FECB52\"], \"font\": {\"color\": \"#2a3f5f\"}, \"geo\": {\"bgcolor\": \"white\", \"lakecolor\": \"white\", \"landcolor\": \"#E5ECF6\", \"showlakes\": true, \"showland\": true, \"subunitcolor\": \"white\"}, \"hoverlabel\": {\"align\": \"left\"}, \"hovermode\": \"closest\", \"mapbox\": {\"style\": \"light\"}, \"paper_bgcolor\": \"white\", \"plot_bgcolor\": \"#E5ECF6\", \"polar\": {\"angularaxis\": {\"gridcolor\": \"white\", \"linecolor\": \"white\", \"ticks\": \"\"}, \"bgcolor\": \"#E5ECF6\", \"radialaxis\": {\"gridcolor\": \"white\", \"linecolor\": \"white\", \"ticks\": \"\"}}, \"scene\": {\"xaxis\": {\"backgroundcolor\": \"#E5ECF6\", \"gridcolor\": \"white\", \"gridwidth\": 2, \"linecolor\": \"white\", \"showbackground\": true, \"ticks\": \"\", \"zerolinecolor\": \"white\"}, \"yaxis\": {\"backgroundcolor\": \"#E5ECF6\", \"gridcolor\": \"white\", \"gridwidth\": 2, \"linecolor\": \"white\", \"showbackground\": true, \"ticks\": \"\", \"zerolinecolor\": \"white\"}, \"zaxis\": {\"backgroundcolor\": \"#E5ECF6\", \"gridcolor\": \"white\", \"gridwidth\": 2, \"linecolor\": \"white\", \"showbackground\": true, \"ticks\": \"\", \"zerolinecolor\": \"white\"}}, \"shapedefaults\": {\"line\": {\"color\": \"#2a3f5f\"}}, \"ternary\": {\"aaxis\": {\"gridcolor\": \"white\", \"linecolor\": \"white\", \"ticks\": \"\"}, \"baxis\": {\"gridcolor\": \"white\", \"linecolor\": \"white\", \"ticks\": \"\"}, \"bgcolor\": \"#E5ECF6\", \"caxis\": {\"gridcolor\": \"white\", \"linecolor\": \"white\", \"ticks\": \"\"}}, \"title\": {\"x\": 0.05}, \"xaxis\": {\"automargin\": true, \"gridcolor\": \"white\", \"linecolor\": \"white\", \"ticks\": \"\", \"title\": {\"standoff\": 15}, \"zerolinecolor\": \"white\", \"zerolinewidth\": 2}, \"yaxis\": {\"automargin\": true, \"gridcolor\": \"white\", \"linecolor\": \"white\", \"ticks\": \"\", \"title\": {\"standoff\": 15}, \"zerolinecolor\": \"white\", \"zerolinewidth\": 2}}}, \"title\": {\"text\": \"Propiedades f\\u00edsico-qu\\u00edmicas\", \"x\": 0.5, \"xanchor\": \"center\", \"y\": 0.9, \"yanchor\": \"top\"}, \"width\": 800, \"xaxis\": {\"domain\": [0.15, 1], \"mirror\": false, \"rangemode\": \"tozero\", \"showgrid\": false, \"showline\": false, \"showticklabels\": true, \"tickmode\": \"array\", \"ticks\": \"\", \"ticktext\": [\"_feat_AromaticAtomCount\", \"_feat_CarboaromaticRingCount\", \"_feat_AromaticRingCount\", \"_feat_CarboRingCount\", \"_feat_LargestRingSize\", \"_feat_SmallestRingSize\", \"_feat_RingAtomCount\", \"_feat_CyclomaticNumber\", \"_feat_HeteroaliphaticRingCount\", \"_feat_fr_NH0\", \"_feat_fr_Imine\", \"_feat_AliphaticRingCount\", \"_feat_CarboaliphaticRingCount\", \"_feat_fr_NH1\", \"_feat_fr_guanido\", \"_feat_donsitecount\", \"_feat_fr_quatN\", \"_feat_fr_NH2\", \"_feat_AtomCount_N\", \"_feat_Hdonorcount\", \"_feat_donorcount\", \"_feat_Hacceptorcount\", \"_feat_acceptorcount\", \"_feat_Accsitecount\", \"_feat_fr_amidine\"], \"tickvals\": [5, 15, 25, 35, 45, 55, 65, 75, 85, 95, 105, 115, 125, 135, 145, 155, 165, 175, 185, 195, 205, 215, 225, 235, 245], \"type\": \"linear\", \"zeroline\": false}, \"xaxis2\": {\"domain\": [0, 0.15], \"mirror\": false, \"showgrid\": false, \"showline\": false, \"showticklabels\": false, \"ticks\": \"\", \"zeroline\": false}, \"yaxis\": {\"domain\": [0, 0.85], \"mirror\": false, \"rangemode\": \"tozero\", \"showgrid\": false, \"showline\": false, \"showticklabels\": false, \"ticks\": \"\", \"ticktext\": [\"_feat_AromaticAtomCount\", \"_feat_CarboaromaticRingCount\", \"_feat_AromaticRingCount\", \"_feat_CarboRingCount\", \"_feat_LargestRingSize\", \"_feat_SmallestRingSize\", \"_feat_RingAtomCount\", \"_feat_CyclomaticNumber\", \"_feat_HeteroaliphaticRingCount\", \"_feat_fr_NH0\", \"_feat_fr_Imine\", \"_feat_AliphaticRingCount\", \"_feat_CarboaliphaticRingCount\", \"_feat_fr_NH1\", \"_feat_fr_guanido\", \"_feat_donsitecount\", \"_feat_fr_quatN\", \"_feat_fr_NH2\", \"_feat_AtomCount_N\", \"_feat_Hdonorcount\", \"_feat_donorcount\", \"_feat_Hacceptorcount\", \"_feat_acceptorcount\", \"_feat_Accsitecount\", \"_feat_fr_amidine\"], \"tickvals\": [5, 15, 25, 35, 45, 55, 65, 75, 85, 95, 105, 115, 125, 135, 145, 155, 165, 175, 185, 195, 205, 215, 225, 235, 245], \"type\": \"linear\", \"zeroline\": false}, \"yaxis2\": {\"domain\": [0.825, 0.975], \"mirror\": false, \"showgrid\": false, \"showline\": false, \"showticklabels\": false, \"ticks\": \"\", \"zeroline\": false}},                        {\"responsive\": true}                    ).then(function(){\n",
       "                            \n",
       "var gd = document.getElementById('45b28ae3-9eb7-439c-9e8d-934eafd13011');\n",
       "var x = new MutationObserver(function (mutations, observer) {{\n",
       "        var display = window.getComputedStyle(gd).display;\n",
       "        if (!display || display === 'none') {{\n",
       "            console.log([gd, 'removed!']);\n",
       "            Plotly.purge(gd);\n",
       "            observer.disconnect();\n",
       "        }}\n",
       "}});\n",
       "\n",
       "// Listen for the removal of the full notebook cells\n",
       "var notebookContainer = gd.closest('#notebook-container');\n",
       "if (notebookContainer) {{\n",
       "    x.observe(notebookContainer, {childList: true});\n",
       "}}\n",
       "\n",
       "// Listen for the clearing of the current output cell\n",
       "var outputEl = gd.closest('.output');\n",
       "if (outputEl) {{\n",
       "    x.observe(outputEl, {childList: true});\n",
       "}}\n",
       "\n",
       "                        })                };                });            </script>        </div>"
      ]
     },
     "metadata": {}
    }
   ],
   "metadata": {}
  },
  {
   "cell_type": "code",
   "execution_count": 67,
   "source": [
    "#COLUMNAS CON MÁS DE 10 VALORES DISTINTOS\n",
    "plot_corr_dendogram(final_df, feat_cont_cols, 'Propiedades físico-químicas: discritas (>10 valores distintos)', 'average')"
   ],
   "outputs": [
    {
     "output_type": "display_data",
     "data": {
      "application/vnd.plotly.v1+json": {
       "config": {
        "linkText": "Export to plot.ly",
        "plotlyServerURL": "https://plot.ly",
        "showLink": false
       },
       "data": [
        {
         "hoverinfo": "text",
         "marker": {
          "color": "rgb(61,153,112)"
         },
         "mode": "lines",
         "type": "scatter",
         "x": [
          5,
          5,
          15,
          15
         ],
         "xaxis": "x",
         "y": [
          0,
          0,
          0,
          0
         ],
         "yaxis": "y2"
        },
        {
         "hoverinfo": "text",
         "marker": {
          "color": "rgb(61,153,112)"
         },
         "mode": "lines",
         "type": "scatter",
         "x": [
          10,
          10,
          25,
          25
         ],
         "xaxis": "x",
         "y": [
          0,
          0.5830720688827864,
          0.5830720688827864,
          0
         ],
         "yaxis": "y2"
        },
        {
         "hoverinfo": "text",
         "marker": {
          "color": "rgb(61,153,112)"
         },
         "mode": "lines",
         "type": "scatter",
         "x": [
          17.5,
          17.5,
          35,
          35
         ],
         "xaxis": "x",
         "y": [
          0.5830720688827864,
          1.0528364377873114,
          1.0528364377873114,
          0
         ],
         "yaxis": "y2"
        },
        {
         "hoverinfo": "text",
         "marker": {
          "color": "rgb(255,65,54)"
         },
         "mode": "lines",
         "type": "scatter",
         "x": [
          45,
          45,
          55,
          55
         ],
         "xaxis": "x",
         "y": [
          0,
          0,
          0,
          0
         ],
         "yaxis": "y2"
        },
        {
         "hoverinfo": "text",
         "marker": {
          "color": "rgb(255,65,54)"
         },
         "mode": "lines",
         "type": "scatter",
         "x": [
          50,
          50,
          65,
          65
         ],
         "xaxis": "x",
         "y": [
          0,
          1.3781469641439945,
          1.3781469641439945,
          0
         ],
         "yaxis": "y2"
        },
        {
         "hoverinfo": "text",
         "marker": {
          "color": "rgb(255,65,54)"
         },
         "mode": "lines",
         "type": "scatter",
         "x": [
          75,
          75,
          85,
          85
         ],
         "xaxis": "x",
         "y": [
          0,
          0,
          0,
          0
         ],
         "yaxis": "y2"
        },
        {
         "hoverinfo": "text",
         "marker": {
          "color": "rgb(255,65,54)"
         },
         "mode": "lines",
         "type": "scatter",
         "x": [
          115,
          115,
          125,
          125
         ],
         "xaxis": "x",
         "y": [
          0,
          0,
          0,
          0
         ],
         "yaxis": "y2"
        },
        {
         "hoverinfo": "text",
         "marker": {
          "color": "rgb(255,65,54)"
         },
         "mode": "lines",
         "type": "scatter",
         "x": [
          105,
          105,
          120,
          120
         ],
         "xaxis": "x",
         "y": [
          0,
          0,
          0,
          0
         ],
         "yaxis": "y2"
        },
        {
         "hoverinfo": "text",
         "marker": {
          "color": "rgb(255,65,54)"
         },
         "mode": "lines",
         "type": "scatter",
         "x": [
          135,
          135,
          145,
          145
         ],
         "xaxis": "x",
         "y": [
          0,
          0.11876836022147602,
          0.11876836022147602,
          0
         ],
         "yaxis": "y2"
        },
        {
         "hoverinfo": "text",
         "marker": {
          "color": "rgb(255,65,54)"
         },
         "mode": "lines",
         "type": "scatter",
         "x": [
          112.5,
          112.5,
          140,
          140
         ],
         "xaxis": "x",
         "y": [
          0,
          0.1920152760287962,
          0.1920152760287962,
          0.11876836022147602
         ],
         "yaxis": "y2"
        },
        {
         "hoverinfo": "text",
         "marker": {
          "color": "rgb(255,65,54)"
         },
         "mode": "lines",
         "type": "scatter",
         "x": [
          95,
          95,
          126.25,
          126.25
         ],
         "xaxis": "x",
         "y": [
          0,
          0.3564725891678605,
          0.3564725891678605,
          0.1920152760287962
         ],
         "yaxis": "y2"
        },
        {
         "hoverinfo": "text",
         "marker": {
          "color": "rgb(255,65,54)"
         },
         "mode": "lines",
         "type": "scatter",
         "x": [
          110.625,
          110.625,
          155,
          155
         ],
         "xaxis": "x",
         "y": [
          0.3564725891678605,
          0.3811962777068693,
          0.3811962777068693,
          0
         ],
         "yaxis": "y2"
        },
        {
         "hoverinfo": "text",
         "marker": {
          "color": "rgb(255,65,54)"
         },
         "mode": "lines",
         "type": "scatter",
         "x": [
          80,
          80,
          132.8125,
          132.8125
         ],
         "xaxis": "x",
         "y": [
          0,
          0.5628293194974177,
          0.5628293194974177,
          0.3811962777068693
         ],
         "yaxis": "y2"
        },
        {
         "hoverinfo": "text",
         "marker": {
          "color": "rgb(255,65,54)"
         },
         "mode": "lines",
         "type": "scatter",
         "x": [
          165,
          165,
          175,
          175
         ],
         "xaxis": "x",
         "y": [
          0,
          0.3221309971048211,
          0.3221309971048211,
          0
         ],
         "yaxis": "y2"
        },
        {
         "hoverinfo": "text",
         "marker": {
          "color": "rgb(255,65,54)"
         },
         "mode": "lines",
         "type": "scatter",
         "x": [
          185,
          185,
          195,
          195
         ],
         "xaxis": "x",
         "y": [
          0,
          0.0789529730820795,
          0.0789529730820795,
          0
         ],
         "yaxis": "y2"
        },
        {
         "hoverinfo": "text",
         "marker": {
          "color": "rgb(255,65,54)"
         },
         "mode": "lines",
         "type": "scatter",
         "x": [
          205,
          205,
          215,
          215
         ],
         "xaxis": "x",
         "y": [
          0,
          0,
          0,
          0
         ],
         "yaxis": "y2"
        },
        {
         "hoverinfo": "text",
         "marker": {
          "color": "rgb(255,65,54)"
         },
         "mode": "lines",
         "type": "scatter",
         "x": [
          210,
          210,
          225,
          225
         ],
         "xaxis": "x",
         "y": [
          0,
          0.2141661855075559,
          0.2141661855075559,
          0
         ],
         "yaxis": "y2"
        },
        {
         "hoverinfo": "text",
         "marker": {
          "color": "rgb(255,65,54)"
         },
         "mode": "lines",
         "type": "scatter",
         "x": [
          190,
          190,
          217.5,
          217.5
         ],
         "xaxis": "x",
         "y": [
          0.0789529730820795,
          0.2588007061416518,
          0.2588007061416518,
          0.2141661855075559
         ],
         "yaxis": "y2"
        },
        {
         "hoverinfo": "text",
         "marker": {
          "color": "rgb(255,65,54)"
         },
         "mode": "lines",
         "type": "scatter",
         "x": [
          170,
          170,
          203.75,
          203.75
         ],
         "xaxis": "x",
         "y": [
          0.3221309971048211,
          0.45687381491126156,
          0.45687381491126156,
          0.2588007061416518
         ],
         "yaxis": "y2"
        },
        {
         "hoverinfo": "text",
         "marker": {
          "color": "rgb(255,65,54)"
         },
         "mode": "lines",
         "type": "scatter",
         "x": [
          235,
          235,
          245,
          245
         ],
         "xaxis": "x",
         "y": [
          0,
          0.5403040295405267,
          0.5403040295405267,
          0
         ],
         "yaxis": "y2"
        },
        {
         "hoverinfo": "text",
         "marker": {
          "color": "rgb(255,65,54)"
         },
         "mode": "lines",
         "type": "scatter",
         "x": [
          186.875,
          186.875,
          240,
          240
         ],
         "xaxis": "x",
         "y": [
          0.45687381491126156,
          0.5580933064087296,
          0.5580933064087296,
          0.5403040295405267
         ],
         "yaxis": "y2"
        },
        {
         "hoverinfo": "text",
         "marker": {
          "color": "rgb(255,65,54)"
         },
         "mode": "lines",
         "type": "scatter",
         "x": [
          106.40625,
          106.40625,
          213.4375,
          213.4375
         ],
         "xaxis": "x",
         "y": [
          0.5628293194974177,
          0.749672543009629,
          0.749672543009629,
          0.5580933064087296
         ],
         "yaxis": "y2"
        },
        {
         "hoverinfo": "text",
         "marker": {
          "color": "rgb(255,65,54)"
         },
         "mode": "lines",
         "type": "scatter",
         "x": [
          255,
          255,
          265,
          265
         ],
         "xaxis": "x",
         "y": [
          0,
          0.14540739444053713,
          0.14540739444053713,
          0
         ],
         "yaxis": "y2"
        },
        {
         "hoverinfo": "text",
         "marker": {
          "color": "rgb(255,65,54)"
         },
         "mode": "lines",
         "type": "scatter",
         "x": [
          275,
          275,
          285,
          285
         ],
         "xaxis": "x",
         "y": [
          0,
          0.01858404704870524,
          0.01858404704870524,
          0
         ],
         "yaxis": "y2"
        },
        {
         "hoverinfo": "text",
         "marker": {
          "color": "rgb(255,65,54)"
         },
         "mode": "lines",
         "type": "scatter",
         "x": [
          280,
          280,
          295,
          295
         ],
         "xaxis": "x",
         "y": [
          0.01858404704870524,
          0.20954372764120638,
          0.20954372764120638,
          0
         ],
         "yaxis": "y2"
        },
        {
         "hoverinfo": "text",
         "marker": {
          "color": "rgb(255,65,54)"
         },
         "mode": "lines",
         "type": "scatter",
         "x": [
          260,
          260,
          287.5,
          287.5
         ],
         "xaxis": "x",
         "y": [
          0.14540739444053713,
          0.29493347133676745,
          0.29493347133676745,
          0.20954372764120638
         ],
         "yaxis": "y2"
        },
        {
         "hoverinfo": "text",
         "marker": {
          "color": "rgb(255,65,54)"
         },
         "mode": "lines",
         "type": "scatter",
         "x": [
          273.75,
          273.75,
          305,
          305
         ],
         "xaxis": "x",
         "y": [
          0.29493347133676745,
          0.6842152226817954,
          0.6842152226817954,
          0
         ],
         "yaxis": "y2"
        },
        {
         "hoverinfo": "text",
         "marker": {
          "color": "rgb(255,65,54)"
         },
         "mode": "lines",
         "type": "scatter",
         "x": [
          159.921875,
          159.921875,
          289.375,
          289.375
         ],
         "xaxis": "x",
         "y": [
          0.749672543009629,
          1.0415777386238523,
          1.0415777386238523,
          0.6842152226817954
         ],
         "yaxis": "y2"
        },
        {
         "hoverinfo": "text",
         "marker": {
          "color": "rgb(255,65,54)"
         },
         "mode": "lines",
         "type": "scatter",
         "x": [
          57.5,
          57.5,
          224.6484375,
          224.6484375
         ],
         "xaxis": "x",
         "y": [
          1.3781469641439945,
          1.6773623596577008,
          1.6773623596577008,
          1.0415777386238523
         ],
         "yaxis": "y2"
        },
        {
         "hoverinfo": "text",
         "marker": {
          "color": "rgb(35,205,205)"
         },
         "mode": "lines",
         "type": "scatter",
         "x": [
          325,
          325,
          335,
          335
         ],
         "xaxis": "x",
         "y": [
          0,
          0.4791964078463279,
          0.4791964078463279,
          0
         ],
         "yaxis": "y2"
        },
        {
         "hoverinfo": "text",
         "marker": {
          "color": "rgb(35,205,205)"
         },
         "mode": "lines",
         "type": "scatter",
         "x": [
          315,
          315,
          330,
          330
         ],
         "xaxis": "x",
         "y": [
          0,
          0.624163301812696,
          0.624163301812696,
          0.4791964078463279
         ],
         "yaxis": "y2"
        },
        {
         "hoverinfo": "text",
         "marker": {
          "color": "rgb(0,116,217)"
         },
         "mode": "lines",
         "type": "scatter",
         "x": [
          141.07421875,
          141.07421875,
          322.5,
          322.5
         ],
         "xaxis": "x",
         "y": [
          1.6773623596577008,
          2.133679368813138,
          2.133679368813138,
          0.624163301812696
         ],
         "yaxis": "y2"
        },
        {
         "hoverinfo": "text",
         "marker": {
          "color": "rgb(0,116,217)"
         },
         "mode": "lines",
         "type": "scatter",
         "x": [
          26.25,
          26.25,
          231.787109375,
          231.787109375
         ],
         "xaxis": "x",
         "y": [
          1.0528364377873114,
          2.8843961203429314,
          2.8843961203429314,
          2.133679368813138
         ],
         "yaxis": "y2"
        },
        {
         "hoverinfo": "text",
         "marker": {
          "color": "rgb(61,153,112)"
         },
         "mode": "lines",
         "type": "scatter",
         "x": [
          0,
          0,
          0,
          0
         ],
         "xaxis": "x2",
         "y": [
          5,
          5,
          15,
          15
         ],
         "yaxis": "y"
        },
        {
         "hoverinfo": "text",
         "marker": {
          "color": "rgb(61,153,112)"
         },
         "mode": "lines",
         "type": "scatter",
         "x": [
          0,
          -0.5830720688827864,
          -0.5830720688827864,
          0
         ],
         "xaxis": "x2",
         "y": [
          10,
          10,
          25,
          25
         ],
         "yaxis": "y"
        },
        {
         "hoverinfo": "text",
         "marker": {
          "color": "rgb(61,153,112)"
         },
         "mode": "lines",
         "type": "scatter",
         "x": [
          -0.5830720688827864,
          -1.0528364377873114,
          -1.0528364377873114,
          0
         ],
         "xaxis": "x2",
         "y": [
          17.5,
          17.5,
          35,
          35
         ],
         "yaxis": "y"
        },
        {
         "hoverinfo": "text",
         "marker": {
          "color": "rgb(255,65,54)"
         },
         "mode": "lines",
         "type": "scatter",
         "x": [
          0,
          0,
          0,
          0
         ],
         "xaxis": "x2",
         "y": [
          45,
          45,
          55,
          55
         ],
         "yaxis": "y"
        },
        {
         "hoverinfo": "text",
         "marker": {
          "color": "rgb(255,65,54)"
         },
         "mode": "lines",
         "type": "scatter",
         "x": [
          0,
          -1.3781469641439945,
          -1.3781469641439945,
          0
         ],
         "xaxis": "x2",
         "y": [
          50,
          50,
          65,
          65
         ],
         "yaxis": "y"
        },
        {
         "hoverinfo": "text",
         "marker": {
          "color": "rgb(255,65,54)"
         },
         "mode": "lines",
         "type": "scatter",
         "x": [
          0,
          0,
          0,
          0
         ],
         "xaxis": "x2",
         "y": [
          75,
          75,
          85,
          85
         ],
         "yaxis": "y"
        },
        {
         "hoverinfo": "text",
         "marker": {
          "color": "rgb(255,65,54)"
         },
         "mode": "lines",
         "type": "scatter",
         "x": [
          0,
          0,
          0,
          0
         ],
         "xaxis": "x2",
         "y": [
          115,
          115,
          125,
          125
         ],
         "yaxis": "y"
        },
        {
         "hoverinfo": "text",
         "marker": {
          "color": "rgb(255,65,54)"
         },
         "mode": "lines",
         "type": "scatter",
         "x": [
          0,
          0,
          0,
          0
         ],
         "xaxis": "x2",
         "y": [
          105,
          105,
          120,
          120
         ],
         "yaxis": "y"
        },
        {
         "hoverinfo": "text",
         "marker": {
          "color": "rgb(255,65,54)"
         },
         "mode": "lines",
         "type": "scatter",
         "x": [
          0,
          -0.11876836022147602,
          -0.11876836022147602,
          0
         ],
         "xaxis": "x2",
         "y": [
          135,
          135,
          145,
          145
         ],
         "yaxis": "y"
        },
        {
         "hoverinfo": "text",
         "marker": {
          "color": "rgb(255,65,54)"
         },
         "mode": "lines",
         "type": "scatter",
         "x": [
          0,
          -0.1920152760287962,
          -0.1920152760287962,
          -0.11876836022147602
         ],
         "xaxis": "x2",
         "y": [
          112.5,
          112.5,
          140,
          140
         ],
         "yaxis": "y"
        },
        {
         "hoverinfo": "text",
         "marker": {
          "color": "rgb(255,65,54)"
         },
         "mode": "lines",
         "type": "scatter",
         "x": [
          0,
          -0.3564725891678605,
          -0.3564725891678605,
          -0.1920152760287962
         ],
         "xaxis": "x2",
         "y": [
          95,
          95,
          126.25,
          126.25
         ],
         "yaxis": "y"
        },
        {
         "hoverinfo": "text",
         "marker": {
          "color": "rgb(255,65,54)"
         },
         "mode": "lines",
         "type": "scatter",
         "x": [
          -0.3564725891678605,
          -0.3811962777068693,
          -0.3811962777068693,
          0
         ],
         "xaxis": "x2",
         "y": [
          110.625,
          110.625,
          155,
          155
         ],
         "yaxis": "y"
        },
        {
         "hoverinfo": "text",
         "marker": {
          "color": "rgb(255,65,54)"
         },
         "mode": "lines",
         "type": "scatter",
         "x": [
          0,
          -0.5628293194974177,
          -0.5628293194974177,
          -0.3811962777068693
         ],
         "xaxis": "x2",
         "y": [
          80,
          80,
          132.8125,
          132.8125
         ],
         "yaxis": "y"
        },
        {
         "hoverinfo": "text",
         "marker": {
          "color": "rgb(255,65,54)"
         },
         "mode": "lines",
         "type": "scatter",
         "x": [
          0,
          -0.3221309971048211,
          -0.3221309971048211,
          0
         ],
         "xaxis": "x2",
         "y": [
          165,
          165,
          175,
          175
         ],
         "yaxis": "y"
        },
        {
         "hoverinfo": "text",
         "marker": {
          "color": "rgb(255,65,54)"
         },
         "mode": "lines",
         "type": "scatter",
         "x": [
          0,
          -0.0789529730820795,
          -0.0789529730820795,
          0
         ],
         "xaxis": "x2",
         "y": [
          185,
          185,
          195,
          195
         ],
         "yaxis": "y"
        },
        {
         "hoverinfo": "text",
         "marker": {
          "color": "rgb(255,65,54)"
         },
         "mode": "lines",
         "type": "scatter",
         "x": [
          0,
          0,
          0,
          0
         ],
         "xaxis": "x2",
         "y": [
          205,
          205,
          215,
          215
         ],
         "yaxis": "y"
        },
        {
         "hoverinfo": "text",
         "marker": {
          "color": "rgb(255,65,54)"
         },
         "mode": "lines",
         "type": "scatter",
         "x": [
          0,
          -0.2141661855075559,
          -0.2141661855075559,
          0
         ],
         "xaxis": "x2",
         "y": [
          210,
          210,
          225,
          225
         ],
         "yaxis": "y"
        },
        {
         "hoverinfo": "text",
         "marker": {
          "color": "rgb(255,65,54)"
         },
         "mode": "lines",
         "type": "scatter",
         "x": [
          -0.0789529730820795,
          -0.2588007061416518,
          -0.2588007061416518,
          -0.2141661855075559
         ],
         "xaxis": "x2",
         "y": [
          190,
          190,
          217.5,
          217.5
         ],
         "yaxis": "y"
        },
        {
         "hoverinfo": "text",
         "marker": {
          "color": "rgb(255,65,54)"
         },
         "mode": "lines",
         "type": "scatter",
         "x": [
          -0.3221309971048211,
          -0.45687381491126156,
          -0.45687381491126156,
          -0.2588007061416518
         ],
         "xaxis": "x2",
         "y": [
          170,
          170,
          203.75,
          203.75
         ],
         "yaxis": "y"
        },
        {
         "hoverinfo": "text",
         "marker": {
          "color": "rgb(255,65,54)"
         },
         "mode": "lines",
         "type": "scatter",
         "x": [
          0,
          -0.5403040295405267,
          -0.5403040295405267,
          0
         ],
         "xaxis": "x2",
         "y": [
          235,
          235,
          245,
          245
         ],
         "yaxis": "y"
        },
        {
         "hoverinfo": "text",
         "marker": {
          "color": "rgb(255,65,54)"
         },
         "mode": "lines",
         "type": "scatter",
         "x": [
          -0.45687381491126156,
          -0.5580933064087296,
          -0.5580933064087296,
          -0.5403040295405267
         ],
         "xaxis": "x2",
         "y": [
          186.875,
          186.875,
          240,
          240
         ],
         "yaxis": "y"
        },
        {
         "hoverinfo": "text",
         "marker": {
          "color": "rgb(255,65,54)"
         },
         "mode": "lines",
         "type": "scatter",
         "x": [
          -0.5628293194974177,
          -0.749672543009629,
          -0.749672543009629,
          -0.5580933064087296
         ],
         "xaxis": "x2",
         "y": [
          106.40625,
          106.40625,
          213.4375,
          213.4375
         ],
         "yaxis": "y"
        },
        {
         "hoverinfo": "text",
         "marker": {
          "color": "rgb(255,65,54)"
         },
         "mode": "lines",
         "type": "scatter",
         "x": [
          0,
          -0.14540739444053713,
          -0.14540739444053713,
          0
         ],
         "xaxis": "x2",
         "y": [
          255,
          255,
          265,
          265
         ],
         "yaxis": "y"
        },
        {
         "hoverinfo": "text",
         "marker": {
          "color": "rgb(255,65,54)"
         },
         "mode": "lines",
         "type": "scatter",
         "x": [
          0,
          -0.01858404704870524,
          -0.01858404704870524,
          0
         ],
         "xaxis": "x2",
         "y": [
          275,
          275,
          285,
          285
         ],
         "yaxis": "y"
        },
        {
         "hoverinfo": "text",
         "marker": {
          "color": "rgb(255,65,54)"
         },
         "mode": "lines",
         "type": "scatter",
         "x": [
          -0.01858404704870524,
          -0.20954372764120638,
          -0.20954372764120638,
          0
         ],
         "xaxis": "x2",
         "y": [
          280,
          280,
          295,
          295
         ],
         "yaxis": "y"
        },
        {
         "hoverinfo": "text",
         "marker": {
          "color": "rgb(255,65,54)"
         },
         "mode": "lines",
         "type": "scatter",
         "x": [
          -0.14540739444053713,
          -0.29493347133676745,
          -0.29493347133676745,
          -0.20954372764120638
         ],
         "xaxis": "x2",
         "y": [
          260,
          260,
          287.5,
          287.5
         ],
         "yaxis": "y"
        },
        {
         "hoverinfo": "text",
         "marker": {
          "color": "rgb(255,65,54)"
         },
         "mode": "lines",
         "type": "scatter",
         "x": [
          -0.29493347133676745,
          -0.6842152226817954,
          -0.6842152226817954,
          0
         ],
         "xaxis": "x2",
         "y": [
          273.75,
          273.75,
          305,
          305
         ],
         "yaxis": "y"
        },
        {
         "hoverinfo": "text",
         "marker": {
          "color": "rgb(255,65,54)"
         },
         "mode": "lines",
         "type": "scatter",
         "x": [
          -0.749672543009629,
          -1.0415777386238523,
          -1.0415777386238523,
          -0.6842152226817954
         ],
         "xaxis": "x2",
         "y": [
          159.921875,
          159.921875,
          289.375,
          289.375
         ],
         "yaxis": "y"
        },
        {
         "hoverinfo": "text",
         "marker": {
          "color": "rgb(255,65,54)"
         },
         "mode": "lines",
         "type": "scatter",
         "x": [
          -1.3781469641439945,
          -1.6773623596577008,
          -1.6773623596577008,
          -1.0415777386238523
         ],
         "xaxis": "x2",
         "y": [
          57.5,
          57.5,
          224.6484375,
          224.6484375
         ],
         "yaxis": "y"
        },
        {
         "hoverinfo": "text",
         "marker": {
          "color": "rgb(35,205,205)"
         },
         "mode": "lines",
         "type": "scatter",
         "x": [
          0,
          -0.4791964078463279,
          -0.4791964078463279,
          0
         ],
         "xaxis": "x2",
         "y": [
          325,
          325,
          335,
          335
         ],
         "yaxis": "y"
        },
        {
         "hoverinfo": "text",
         "marker": {
          "color": "rgb(35,205,205)"
         },
         "mode": "lines",
         "type": "scatter",
         "x": [
          0,
          -0.624163301812696,
          -0.624163301812696,
          -0.4791964078463279
         ],
         "xaxis": "x2",
         "y": [
          315,
          315,
          330,
          330
         ],
         "yaxis": "y"
        },
        {
         "hoverinfo": "text",
         "marker": {
          "color": "rgb(0,116,217)"
         },
         "mode": "lines",
         "type": "scatter",
         "x": [
          -1.6773623596577008,
          -2.133679368813138,
          -2.133679368813138,
          -0.624163301812696
         ],
         "xaxis": "x2",
         "y": [
          141.07421875,
          141.07421875,
          322.5,
          322.5
         ],
         "yaxis": "y"
        },
        {
         "hoverinfo": "text",
         "marker": {
          "color": "rgb(0,116,217)"
         },
         "mode": "lines",
         "type": "scatter",
         "x": [
          -1.0528364377873114,
          -2.8843961203429314,
          -2.8843961203429314,
          -2.133679368813138
         ],
         "xaxis": "x2",
         "y": [
          26.25,
          26.25,
          231.787109375,
          231.787109375
         ],
         "yaxis": "y"
        },
        {
         "colorbar": {
          "title": {
           "text": "Correlación (abs)"
          }
         },
         "type": "heatmap",
         "x": [
          5,
          15,
          25,
          35,
          45,
          55,
          65,
          75,
          85,
          95,
          105,
          115,
          125,
          135,
          145,
          155,
          165,
          175,
          185,
          195,
          205,
          215,
          225,
          235,
          245,
          255,
          265,
          275,
          285,
          295,
          305,
          315,
          325,
          335
         ],
         "y": [
          5,
          15,
          25,
          35,
          45,
          55,
          65,
          75,
          85,
          95,
          105,
          115,
          125,
          135,
          145,
          155,
          165,
          175,
          185,
          195,
          205,
          215,
          225,
          235,
          245,
          255,
          265,
          275,
          285,
          295,
          305,
          315,
          325,
          335
         ],
         "z": [
          [
           1,
           1,
           0.8708430492362266,
           0.5762925878546614,
           0.4574946493990836,
           0.4574946493990836,
           0.20941656713930587,
           0.39507460180461756,
           0.39507460180461756,
           0.4262898643769414,
           0.41366269848365106,
           0.41366269848365106,
           0.41366269848365106,
           0.39014449037092336,
           0.4043465323703719,
           0.5132625031782461,
           0.37639045312913233,
           0.4153817017574534,
           0.2894021020016203,
           0.2592493844104783,
           0.2531960368054884,
           0.2531960368054884,
           0.18703381001096617,
           0.2565012227455928,
           0.22115140713459422,
           0.14683351969394384,
           0.07674988453268378,
           0.09947168590131894,
           0.09947168590131894,
           0.07008687042468176,
           0.06648817897351754,
           0.16948377585448873,
           0.06689035404149052,
           0.12943627313211625
          ],
          [
           1,
           1,
           0.8708430492362266,
           0.5762925878546614,
           0.4574946493990836,
           0.4574946493990836,
           0.20941656713930587,
           0.39507460180461756,
           0.39507460180461756,
           0.4262898643769414,
           0.41366269848365106,
           0.41366269848365106,
           0.41366269848365106,
           0.39014449037092336,
           0.4043465323703719,
           0.5132625031782461,
           0.37639045312913233,
           0.4153817017574534,
           0.2894021020016203,
           0.2592493844104783,
           0.2531960368054884,
           0.2531960368054884,
           0.18703381001096617,
           0.2565012227455928,
           0.22115140713459422,
           0.14683351969394384,
           0.07674988453268378,
           0.09947168590131894,
           0.09947168590131894,
           0.07008687042468176,
           0.06648817897351754,
           0.16948377585448873,
           0.06689035404149052,
           0.12943627313211625
          ],
          [
           0.8708430492362266,
           0.8708430492362266,
           1,
           0.7110444700371746,
           0.5866773167457446,
           0.5866773167457446,
           0.3697672287742803,
           0.5068794793646285,
           0.5068794793646285,
           0.5808787947316739,
           0.5627233690787579,
           0.5627233690787579,
           0.5627233690787579,
           0.5570809492477716,
           0.5353878207602022,
           0.5261649396936174,
           0.43915888682249604,
           0.4105603415510597,
           0.2811360723495725,
           0.28439778336292904,
           0.2643998272925442,
           0.2643998272925442,
           0.3060136984021262,
           0.3316773817786563,
           0.3022780255223634,
           0.13164841784810902,
           0.11330773184211694,
           0.06679782526471446,
           0.06679782526471446,
           0.05764086201638962,
           0.06459333325590443,
           0.14793507253899577,
           0.03352690504998449,
           0.0062384242004848165
          ],
          [
           0.5762925878546614,
           0.5762925878546614,
           0.7110444700371746,
           1,
           0.7770060285795225,
           0.7770060285795225,
           0.23291875906096188,
           0.39095774547380985,
           0.39095774547380985,
           0.693982104206276,
           0.5816133934624684,
           0.5816133934624684,
           0.5816133934624684,
           0.5224160950327029,
           0.5020822289111014,
           0.5615755172191534,
           0.5300316829381366,
           0.41359432388146833,
           0.3754041558597524,
           0.39097161120424184,
           0.4053797134683844,
           0.4053797134683844,
           0.4504206734175669,
           0.4031957776141031,
           0.22568434214384916,
           0.29023056653592694,
           0.24901194122940695,
           0.16719602582175247,
           0.1648273561747586,
           0.16601206886952435,
           0.14336824502990617,
           0.2607273583442675,
           0.2610071485398317,
           0.2809051240368001
          ],
          [
           0.4574946493990836,
           0.4574946493990836,
           0.5866773167457446,
           0.7770060285795225,
           1,
           1,
           0.4380010561377879,
           0.6343711714226183,
           0.6343711714226183,
           0.832469187099956,
           0.7981106791025532,
           0.7981106791025532,
           0.7981106791025532,
           0.765655905844999,
           0.7274671372699417,
           0.7550847668365992,
           0.749991883473187,
           0.6314948771183951,
           0.6069198352871196,
           0.6092904192156354,
           0.6155343753589658,
           0.6155343753589658,
           0.655156806861353,
           0.6864130934438853,
           0.5095243432946025,
           0.4996092108469407,
           0.48276568920417623,
           0.41495698024508815,
           0.4096276234968113,
           0.41555766422343093,
           0.31262684849409783,
           0.3263475836253803,
           0.4902450730260483,
           0.5146488688536062
          ],
          [
           0.4574946493990836,
           0.4574946493990836,
           0.5866773167457446,
           0.7770060285795225,
           1,
           1,
           0.4380010561377879,
           0.6343711714226183,
           0.6343711714226183,
           0.832469187099956,
           0.7981106791025532,
           0.7981106791025532,
           0.7981106791025532,
           0.765655905844999,
           0.7274671372699417,
           0.7550847668365992,
           0.749991883473187,
           0.6314948771183951,
           0.6069198352871196,
           0.6092904192156354,
           0.6155343753589658,
           0.6155343753589658,
           0.655156806861353,
           0.6864130934438853,
           0.5095243432946025,
           0.4996092108469407,
           0.48276568920417623,
           0.41495698024508815,
           0.4096276234968113,
           0.41555766422343093,
           0.31262684849409783,
           0.3263475836253803,
           0.4902450730260483,
           0.5146488688536062
          ],
          [
           0.20941656713930587,
           0.20941656713930587,
           0.3697672287742803,
           0.23291875906096188,
           0.4380010561377879,
           0.4380010561377879,
           1,
           0.7419637484475607,
           0.7419637484475607,
           0.6558008609071226,
           0.6861602544913641,
           0.6861602544913641,
           0.6861602544913641,
           0.7204128595236129,
           0.700740021185754,
           0.5531551830953825,
           0.5826433270724988,
           0.5555317282097276,
           0.5004838421022587,
           0.4959720226213032,
           0.4351340061570871,
           0.4351340061570871,
           0.48384624051100017,
           0.6625518655138233,
           0.6316067518231372,
           0.5283613907896011,
           0.5688937281642181,
           0.5403798667916934,
           0.535626242747437,
           0.45510569330901524,
           0.38281149531709163,
           0.17011359674014814,
           0.1903134047551694,
           0.36791647390807203
          ],
          [
           0.39507460180461756,
           0.39507460180461756,
           0.5068794793646285,
           0.39095774547380985,
           0.6343711714226183,
           0.6343711714226183,
           0.7419637484475607,
           1,
           1,
           0.8620461892161981,
           0.9095640778322409,
           0.9095640778322409,
           0.9095640778322409,
           0.9301732362375251,
           0.9430316922827354,
           0.828054646533783,
           0.8633877368205923,
           0.8499683775218991,
           0.7924178872104114,
           0.77229680721318,
           0.7578875210375914,
           0.7578875210375914,
           0.7821096043361802,
           0.8483613735041695,
           0.8913296215435247,
           0.7423037084114622,
           0.7553210927923869,
           0.73347908241674,
           0.7316248018231881,
           0.674247486412046,
           0.5425396120324798,
           0.24428437218681684,
           0.31185016883698113,
           0.31876325095834873
          ],
          [
           0.39507460180461756,
           0.39507460180461756,
           0.5068794793646285,
           0.39095774547380985,
           0.6343711714226183,
           0.6343711714226183,
           0.7419637484475607,
           1,
           1,
           0.8620461892161981,
           0.9095640778322409,
           0.9095640778322409,
           0.9095640778322409,
           0.9301732362375251,
           0.9430316922827354,
           0.828054646533783,
           0.8633877368205923,
           0.8499683775218991,
           0.7924178872104114,
           0.77229680721318,
           0.7578875210375914,
           0.7578875210375914,
           0.7821096043361802,
           0.8483613735041695,
           0.8913296215435247,
           0.7423037084114622,
           0.7553210927923869,
           0.73347908241674,
           0.7316248018231881,
           0.674247486412046,
           0.5425396120324798,
           0.24428437218681684,
           0.31185016883698113,
           0.31876325095834873
          ],
          [
           0.4262898643769414,
           0.4262898643769414,
           0.5808787947316739,
           0.693982104206276,
           0.832469187099956,
           0.832469187099956,
           0.6558008609071226,
           0.8620461892161981,
           0.8620461892161981,
           1,
           0.9493115276478866,
           0.9493115276478866,
           0.9493115276478866,
           0.9499203939031047,
           0.9366758857340857,
           0.884686173861116,
           0.917795693487848,
           0.8538023501878916,
           0.8213414462604488,
           0.8218203154322615,
           0.8263320135583585,
           0.8263320135583585,
           0.8683691454422823,
           0.827189261271187,
           0.7805415602622953,
           0.7576044718368475,
           0.7501466577260204,
           0.6844467825125898,
           0.6821337621920537,
           0.6674329181501311,
           0.5662828643789316,
           0.3929604550589789,
           0.37197398103535456,
           0.4362578193160846
          ],
          [
           0.41366269848365106,
           0.41366269848365106,
           0.5627233690787579,
           0.5816133934624684,
           0.7981106791025532,
           0.7981106791025532,
           0.6861602544913641,
           0.9095640778322409,
           0.9095640778322409,
           0.9493115276478866,
           1,
           1,
           1,
           0.9825060848666559,
           0.9780379464301426,
           0.9425151068342682,
           0.9673208491751655,
           0.9172920114689589,
           0.8831837393324978,
           0.8897446393609187,
           0.842304428454472,
           0.842304428454472,
           0.8801422548327791,
           0.854798883679441,
           0.8674004855348063,
           0.8218170243051764,
           0.8243227354897031,
           0.7729020013784415,
           0.7711747634416707,
           0.7419084152296544,
           0.6679088938252378,
           0.4482302032799032,
           0.4612076069236282,
           0.4932918684416809
          ],
          [
           0.41366269848365106,
           0.41366269848365106,
           0.5627233690787579,
           0.5816133934624684,
           0.7981106791025532,
           0.7981106791025532,
           0.6861602544913641,
           0.9095640778322409,
           0.9095640778322409,
           0.9493115276478866,
           1,
           1,
           1,
           0.9825060848666559,
           0.9780379464301426,
           0.9425151068342682,
           0.9673208491751655,
           0.9172920114689589,
           0.8831837393324978,
           0.8897446393609187,
           0.842304428454472,
           0.842304428454472,
           0.8801422548327791,
           0.854798883679441,
           0.8674004855348063,
           0.8218170243051764,
           0.8243227354897031,
           0.7729020013784415,
           0.7711747634416707,
           0.7419084152296544,
           0.6679088938252378,
           0.4482302032799032,
           0.4612076069236282,
           0.4932918684416809
          ],
          [
           0.41366269848365106,
           0.41366269848365106,
           0.5627233690787579,
           0.5816133934624684,
           0.7981106791025532,
           0.7981106791025532,
           0.6861602544913641,
           0.9095640778322409,
           0.9095640778322409,
           0.9493115276478866,
           1,
           1,
           1,
           0.9825060848666559,
           0.9780379464301426,
           0.9425151068342682,
           0.9673208491751655,
           0.9172920114689589,
           0.8831837393324978,
           0.8897446393609187,
           0.842304428454472,
           0.842304428454472,
           0.8801422548327791,
           0.854798883679441,
           0.8674004855348063,
           0.8218170243051764,
           0.8243227354897031,
           0.7729020013784415,
           0.7711747634416707,
           0.7419084152296544,
           0.6679088938252378,
           0.4482302032799032,
           0.4612076069236282,
           0.4932918684416809
          ],
          [
           0.39014449037092336,
           0.39014449037092336,
           0.5570809492477716,
           0.5224160950327029,
           0.765655905844999,
           0.765655905844999,
           0.7204128595236129,
           0.9301732362375251,
           0.9301732362375251,
           0.9499203939031047,
           0.9825060848666559,
           0.9825060848666559,
           0.9825060848666559,
           1,
           0.9893722744945731,
           0.8993441180432551,
           0.9441565899064936,
           0.9067427533099055,
           0.869077924554275,
           0.870871748669025,
           0.845339700112379,
           0.845339700112379,
           0.8903110008570618,
           0.8606274331889737,
           0.885452552221369,
           0.8023138162959498,
           0.8198513116128114,
           0.7632178830112404,
           0.7607627518844028,
           0.7338164089596924,
           0.6277762428378981,
           0.38037633920395536,
           0.3784698674466485,
           0.45782915351645403
          ],
          [
           0.4043465323703719,
           0.4043465323703719,
           0.5353878207602022,
           0.5020822289111014,
           0.7274671372699417,
           0.7274671372699417,
           0.700740021185754,
           0.9430316922827354,
           0.9430316922827354,
           0.9366758857340857,
           0.9780379464301426,
           0.9780379464301426,
           0.9780379464301426,
           0.9893722744945731,
           1,
           0.9180508006781581,
           0.9548593095345775,
           0.9343464291973597,
           0.8921330847645287,
           0.8879131833942812,
           0.8551807602707848,
           0.8551807602707848,
           0.886067584640692,
           0.8495495671421616,
           0.8920077329241802,
           0.8260210571414874,
           0.8358872810365999,
           0.7890468642932883,
           0.787169750602508,
           0.755050295281412,
           0.6527413609383187,
           0.36601212646184306,
           0.380696559233901,
           0.40465085108306703
          ],
          [
           0.5132625031782461,
           0.5132625031782461,
           0.5261649396936174,
           0.5615755172191534,
           0.7550847668365992,
           0.7550847668365992,
           0.5531551830953825,
           0.828054646533783,
           0.828054646533783,
           0.884686173861116,
           0.9425151068342682,
           0.9425151068342682,
           0.9425151068342682,
           0.8993441180432551,
           0.9180508006781581,
           1,
           0.9570574809010548,
           0.950329412573049,
           0.9031806961978444,
           0.8972112472451945,
           0.8316310449539354,
           0.8316310449539354,
           0.8116066186932042,
           0.7908236073405892,
           0.8284904024013465,
           0.8495570162021508,
           0.8106614245523744,
           0.7967428900858272,
           0.7984090894982095,
           0.7731492734537244,
           0.7187689547462708,
           0.4641818787186441,
           0.5057835518529885,
           0.3966034379569661
          ],
          [
           0.37639045312913233,
           0.37639045312913233,
           0.43915888682249604,
           0.5300316829381366,
           0.749991883473187,
           0.749991883473187,
           0.5826433270724988,
           0.8633877368205923,
           0.8633877368205923,
           0.917795693487848,
           0.9673208491751655,
           0.9673208491751655,
           0.9673208491751655,
           0.9441565899064936,
           0.9548593095345775,
           0.9570574809010548,
           1,
           0.9707652748595985,
           0.9679922351513445,
           0.9677987939341502,
           0.9334621881353824,
           0.9334621881353824,
           0.932637450787738,
           0.8761335351407161,
           0.8884854143132692,
           0.914741879918441,
           0.9026495946683026,
           0.8677621676021727,
           0.8660577861251426,
           0.8384762418923409,
           0.77110814454745,
           0.5502375551816802,
           0.5618608923319948,
           0.5084233767349736
          ],
          [
           0.4153817017574534,
           0.4153817017574534,
           0.4105603415510597,
           0.41359432388146833,
           0.6314948771183951,
           0.6314948771183951,
           0.5555317282097276,
           0.8499683775218991,
           0.8499683775218991,
           0.8538023501878916,
           0.9172920114689589,
           0.9172920114689589,
           0.9172920114689589,
           0.9067427533099055,
           0.9343464291973597,
           0.950329412573049,
           0.9707652748595985,
           1,
           0.9760972365269428,
           0.9655231951359453,
           0.9251987061844641,
           0.9251987061844641,
           0.894588488850099,
           0.8274967018516838,
           0.9096087381760758,
           0.9275497435948842,
           0.90231636048332,
           0.895830262553189,
           0.8965149516300388,
           0.8673180878874643,
           0.7882538698360319,
           0.4667399988863917,
           0.47239115964227163,
           0.36861658673305864
          ],
          [
           0.2894021020016203,
           0.2894021020016203,
           0.2811360723495725,
           0.3754041558597524,
           0.6069198352871196,
           0.6069198352871196,
           0.5004838421022587,
           0.7924178872104114,
           0.7924178872104114,
           0.8213414462604488,
           0.8831837393324978,
           0.8831837393324978,
           0.8831837393324978,
           0.869077924554275,
           0.8921330847645287,
           0.9031806961978444,
           0.9679922351513445,
           0.9760972365269428,
           1,
           0.9945664108211634,
           0.9659141216493848,
           0.9659141216493848,
           0.9339895804757258,
           0.8429276810883655,
           0.8921685893219349,
           0.9643249499062505,
           0.9496205491234653,
           0.9325233091057196,
           0.9317862209063567,
           0.8998493294415266,
           0.8473262959250722,
           0.5931162979397152,
           0.5796949441049155,
           0.47780787190442164
          ],
          [
           0.2592493844104783,
           0.2592493844104783,
           0.28439778336292904,
           0.39097161120424184,
           0.6092904192156354,
           0.6092904192156354,
           0.4959720226213032,
           0.77229680721318,
           0.77229680721318,
           0.8218203154322615,
           0.8897446393609187,
           0.8897446393609187,
           0.8897446393609187,
           0.870871748669025,
           0.8879131833942812,
           0.8972112472451945,
           0.9677987939341502,
           0.9655231951359453,
           0.9945664108211634,
           1,
           0.9607430018827922,
           0.9607430018827922,
           0.9434035341761469,
           0.8271692299509674,
           0.8827996109833958,
           0.9604754413935633,
           0.9515375771031095,
           0.9231458886038472,
           0.9227575148834106,
           0.8931948188122025,
           0.8668998581043015,
           0.6234301309764959,
           0.5765231352525927,
           0.5084905941114488
          ],
          [
           0.2531960368054884,
           0.2531960368054884,
           0.2643998272925442,
           0.4053797134683844,
           0.6155343753589658,
           0.6155343753589658,
           0.4351340061570871,
           0.7578875210375914,
           0.7578875210375914,
           0.8263320135583585,
           0.842304428454472,
           0.842304428454472,
           0.842304428454472,
           0.845339700112379,
           0.8551807602707848,
           0.8316310449539354,
           0.9334621881353824,
           0.9251987061844641,
           0.9659141216493848,
           0.9607430018827922,
           1,
           1,
           0.9760283253301674,
           0.8382910208790105,
           0.8599528791684432,
           0.9165372184099708,
           0.9101327349548252,
           0.8848424454059953,
           0.8831989743501031,
           0.8622890092191344,
           0.7754596553712353,
           0.5749304628997906,
           0.5419618920492933,
           0.4747838181899877
          ],
          [
           0.2531960368054884,
           0.2531960368054884,
           0.2643998272925442,
           0.4053797134683844,
           0.6155343753589658,
           0.6155343753589658,
           0.4351340061570871,
           0.7578875210375914,
           0.7578875210375914,
           0.8263320135583585,
           0.842304428454472,
           0.842304428454472,
           0.842304428454472,
           0.845339700112379,
           0.8551807602707848,
           0.8316310449539354,
           0.9334621881353824,
           0.9251987061844641,
           0.9659141216493848,
           0.9607430018827922,
           1,
           1,
           0.9760283253301674,
           0.8382910208790105,
           0.8599528791684432,
           0.9165372184099708,
           0.9101327349548252,
           0.8848424454059953,
           0.8831989743501031,
           0.8622890092191344,
           0.7754596553712353,
           0.5749304628997906,
           0.5419618920492933,
           0.4747838181899877
          ],
          [
           0.18703381001096617,
           0.18703381001096617,
           0.3060136984021262,
           0.4504206734175669,
           0.655156806861353,
           0.655156806861353,
           0.48384624051100017,
           0.7821096043361802,
           0.7821096043361802,
           0.8683691454422823,
           0.8801422548327791,
           0.8801422548327791,
           0.8801422548327791,
           0.8903110008570618,
           0.886067584640692,
           0.8116066186932042,
           0.932637450787738,
           0.894588488850099,
           0.9339895804757258,
           0.9434035341761469,
           0.9760283253301674,
           0.9760283253301674,
           1,
           0.8382910208790105,
           0.8599528791684432,
           0.8785219363776917,
           0.8940983751463283,
           0.8387664042375226,
           0.8371229331816303,
           0.8289770328067988,
           0.7509978590159596,
           0.5619802331948656,
           0.4821325254555721,
           0.5176914565102566
          ],
          [
           0.2565012227455928,
           0.2565012227455928,
           0.3316773817786563,
           0.4031957776141031,
           0.6864130934438853,
           0.6864130934438853,
           0.6625518655138233,
           0.8483613735041695,
           0.8483613735041695,
           0.827189261271187,
           0.854798883679441,
           0.854798883679441,
           0.854798883679441,
           0.8606274331889737,
           0.8495495671421616,
           0.7908236073405892,
           0.8761335351407161,
           0.8274967018516838,
           0.8429276810883655,
           0.8271692299509674,
           0.8382910208790105,
           0.8382910208790105,
           0.8382910208790105,
           1,
           0.8892327559585307,
           0.8244066251492633,
           0.8338224648844667,
           0.8288671680658172,
           0.8243078803150283,
           0.8176617244220107,
           0.6024187896136562,
           0.5139952474258347,
           0.6149231427585992,
           0.6079747537345052
          ],
          [
           0.22115140713459422,
           0.22115140713459422,
           0.3022780255223634,
           0.22568434214384916,
           0.5095243432946025,
           0.5095243432946025,
           0.6316067518231372,
           0.8913296215435247,
           0.8913296215435247,
           0.7805415602622953,
           0.8674004855348063,
           0.8674004855348063,
           0.8674004855348063,
           0.885452552221369,
           0.8920077329241802,
           0.8284904024013465,
           0.8884854143132692,
           0.9096087381760758,
           0.8921685893219349,
           0.8827996109833958,
           0.8599528791684432,
           0.8599528791684432,
           0.8599528791684432,
           0.8892327559585307,
           1,
           0.8883128436048705,
           0.8993819264598456,
           0.9066049840828813,
           0.9075549938488746,
           0.8875463486519887,
           0.7502766240118605,
           0.4352840517131485,
           0.4094492558110527,
           0.38784272276988235
          ],
          [
           0.14683351969394384,
           0.14683351969394384,
           0.13164841784810902,
           0.29023056653592694,
           0.4996092108469407,
           0.4996092108469407,
           0.5283613907896011,
           0.7423037084114622,
           0.7423037084114622,
           0.7576044718368475,
           0.8218170243051764,
           0.8218170243051764,
           0.8218170243051764,
           0.8023138162959498,
           0.8260210571414874,
           0.8495570162021508,
           0.914741879918441,
           0.9275497435948842,
           0.9643249499062505,
           0.9604754413935633,
           0.9165372184099708,
           0.9165372184099708,
           0.8785219363776917,
           0.8244066251492633,
           0.8883128436048705,
           1,
           0.9871323223726475,
           0.982865798750918,
           0.9830293476197656,
           0.9335980173949051,
           0.9145102023146623,
           0.689563082954938,
           0.6079014602298023,
           0.509440360904119
          ],
          [
           0.07674988453268378,
           0.07674988453268378,
           0.11330773184211694,
           0.24901194122940695,
           0.48276568920417623,
           0.48276568920417623,
           0.5688937281642181,
           0.7553210927923869,
           0.7553210927923869,
           0.7501466577260204,
           0.8243227354897031,
           0.8243227354897031,
           0.8243227354897031,
           0.8198513116128114,
           0.8358872810365999,
           0.8106614245523744,
           0.9026495946683026,
           0.90231636048332,
           0.9496205491234653,
           0.9515375771031095,
           0.9101327349548252,
           0.9101327349548252,
           0.8940983751463283,
           0.8338224648844667,
           0.8993819264598456,
           0.9871323223726475,
           1,
           0.9790124809341144,
           0.9784132255555225,
           0.9218157456270573,
           0.9095684034130597,
           0.6983001256258313,
           0.5968332715970164,
           0.5584181287340826
          ],
          [
           0.09947168590131894,
           0.09947168590131894,
           0.06679782526471446,
           0.16719602582175247,
           0.41495698024508815,
           0.41495698024508815,
           0.5403798667916934,
           0.73347908241674,
           0.73347908241674,
           0.6844467825125898,
           0.7729020013784415,
           0.7729020013784415,
           0.7729020013784415,
           0.7632178830112404,
           0.7890468642932883,
           0.7967428900858272,
           0.8677621676021727,
           0.895830262553189,
           0.9325233091057196,
           0.9231458886038472,
           0.8848424454059953,
           0.8848424454059953,
           0.8387664042375226,
           0.8288671680658172,
           0.9066049840828813,
           0.982865798750918,
           0.9790124809341144,
           1,
           0.9995715591839943,
           0.956818274084537,
           0.8905298690675065,
           0.6741123363591098,
           0.6120513274910192,
           0.5075435113592426
          ],
          [
           0.09947168590131894,
           0.09947168590131894,
           0.06679782526471446,
           0.1648273561747586,
           0.4096276234968113,
           0.4096276234968113,
           0.535626242747437,
           0.7316248018231881,
           0.7316248018231881,
           0.6821337621920537,
           0.7711747634416707,
           0.7711747634416707,
           0.7711747634416707,
           0.7607627518844028,
           0.787169750602508,
           0.7984090894982095,
           0.8660577861251426,
           0.8965149516300388,
           0.9317862209063567,
           0.9227575148834106,
           0.8831989743501031,
           0.8831989743501031,
           0.8371229331816303,
           0.8243078803150283,
           0.9075549938488746,
           0.9830293476197656,
           0.9784132255555225,
           0.9995715591839943,
           1,
           0.9571757224823869,
           0.8959744948465692,
           0.6704921346777297,
           0.6046818991547849,
           0.4977940800038817
          ],
          [
           0.07008687042468176,
           0.07008687042468176,
           0.05764086201638962,
           0.16601206886952435,
           0.41555766422343093,
           0.41555766422343093,
           0.45510569330901524,
           0.674247486412046,
           0.674247486412046,
           0.6674329181501311,
           0.7419084152296544,
           0.7419084152296544,
           0.7419084152296544,
           0.7338164089596924,
           0.755050295281412,
           0.7731492734537244,
           0.8384762418923409,
           0.8673180878874643,
           0.8998493294415266,
           0.8931948188122025,
           0.8622890092191344,
           0.8622890092191344,
           0.8289770328067988,
           0.8176617244220107,
           0.8875463486519887,
           0.9335980173949051,
           0.9218157456270573,
           0.956818274084537,
           0.9571757224823869,
           1,
           0.8378383756926141,
           0.6284270481365569,
           0.5771677222617357,
           0.4769140846381047
          ],
          [
           0.06648817897351754,
           0.06648817897351754,
           0.06459333325590443,
           0.14336824502990617,
           0.31262684849409783,
           0.31262684849409783,
           0.38281149531709163,
           0.5425396120324798,
           0.5425396120324798,
           0.5662828643789316,
           0.6679088938252378,
           0.6679088938252378,
           0.6679088938252378,
           0.6277762428378981,
           0.6527413609383187,
           0.7187689547462708,
           0.77110814454745,
           0.7882538698360319,
           0.8473262959250722,
           0.8668998581043015,
           0.7754596553712353,
           0.7754596553712353,
           0.7509978590159596,
           0.6024187896136562,
           0.7502766240118605,
           0.9145102023146623,
           0.9095684034130597,
           0.8905298690675065,
           0.8959744948465692,
           0.8378383756926141,
           1,
           0.7217955665919372,
           0.5194659081045865,
           0.440229486861374
          ],
          [
           0.16948377585448873,
           0.16948377585448873,
           0.14793507253899577,
           0.2607273583442675,
           0.3263475836253803,
           0.3263475836253803,
           0.17011359674014814,
           0.24428437218681684,
           0.24428437218681684,
           0.3929604550589789,
           0.4482302032799032,
           0.4482302032799032,
           0.4482302032799032,
           0.38037633920395536,
           0.36601212646184306,
           0.4641818787186441,
           0.5502375551816802,
           0.4667399988863917,
           0.5931162979397152,
           0.6234301309764959,
           0.5749304628997906,
           0.5749304628997906,
           0.5619802331948656,
           0.5139952474258347,
           0.4352840517131485,
           0.689563082954938,
           0.6983001256258313,
           0.6741123363591098,
           0.6704921346777297,
           0.6284270481365569,
           0.7217955665919372,
           1,
           0.7907167814506373,
           0.8113983053453189
          ],
          [
           0.06689035404149052,
           0.06689035404149052,
           0.03352690504998449,
           0.2610071485398317,
           0.4902450730260483,
           0.4902450730260483,
           0.1903134047551694,
           0.31185016883698113,
           0.31185016883698113,
           0.37197398103535456,
           0.4612076069236282,
           0.4612076069236282,
           0.4612076069236282,
           0.3784698674466485,
           0.380696559233901,
           0.5057835518529885,
           0.5618608923319948,
           0.47239115964227163,
           0.5796949441049155,
           0.5765231352525927,
           0.5419618920492933,
           0.5419618920492933,
           0.4821325254555721,
           0.6149231427585992,
           0.4094492558110527,
           0.6079014602298023,
           0.5968332715970164,
           0.6120513274910192,
           0.6046818991547849,
           0.5771677222617357,
           0.5194659081045865,
           0.7907167814506373,
           1,
           0.810119933017295
          ],
          [
           0.12943627313211625,
           0.12943627313211625,
           0.0062384242004848165,
           0.2809051240368001,
           0.5146488688536062,
           0.5146488688536062,
           0.36791647390807203,
           0.31876325095834873,
           0.31876325095834873,
           0.4362578193160846,
           0.4932918684416809,
           0.4932918684416809,
           0.4932918684416809,
           0.45782915351645403,
           0.40465085108306703,
           0.3966034379569661,
           0.5084233767349736,
           0.36861658673305864,
           0.47780787190442164,
           0.5084905941114488,
           0.4747838181899877,
           0.4747838181899877,
           0.5176914565102566,
           0.6079747537345052,
           0.38784272276988235,
           0.509440360904119,
           0.5584181287340826,
           0.5075435113592426,
           0.4977940800038817,
           0.4769140846381047,
           0.440229486861374,
           0.8113983053453189,
           0.810119933017295,
           1
          ]
         ]
        }
       ],
       "layout": {
        "autosize": false,
        "height": 800,
        "hovermode": "closest",
        "showlegend": false,
        "template": {
         "data": {
          "bar": [
           {
            "error_x": {
             "color": "#2a3f5f"
            },
            "error_y": {
             "color": "#2a3f5f"
            },
            "marker": {
             "line": {
              "color": "#E5ECF6",
              "width": 0.5
             }
            },
            "type": "bar"
           }
          ],
          "barpolar": [
           {
            "marker": {
             "line": {
              "color": "#E5ECF6",
              "width": 0.5
             }
            },
            "type": "barpolar"
           }
          ],
          "carpet": [
           {
            "aaxis": {
             "endlinecolor": "#2a3f5f",
             "gridcolor": "white",
             "linecolor": "white",
             "minorgridcolor": "white",
             "startlinecolor": "#2a3f5f"
            },
            "baxis": {
             "endlinecolor": "#2a3f5f",
             "gridcolor": "white",
             "linecolor": "white",
             "minorgridcolor": "white",
             "startlinecolor": "#2a3f5f"
            },
            "type": "carpet"
           }
          ],
          "choropleth": [
           {
            "colorbar": {
             "outlinewidth": 0,
             "ticks": ""
            },
            "type": "choropleth"
           }
          ],
          "contour": [
           {
            "colorbar": {
             "outlinewidth": 0,
             "ticks": ""
            },
            "colorscale": [
             [
              0,
              "#0d0887"
             ],
             [
              0.1111111111111111,
              "#46039f"
             ],
             [
              0.2222222222222222,
              "#7201a8"
             ],
             [
              0.3333333333333333,
              "#9c179e"
             ],
             [
              0.4444444444444444,
              "#bd3786"
             ],
             [
              0.5555555555555556,
              "#d8576b"
             ],
             [
              0.6666666666666666,
              "#ed7953"
             ],
             [
              0.7777777777777778,
              "#fb9f3a"
             ],
             [
              0.8888888888888888,
              "#fdca26"
             ],
             [
              1,
              "#f0f921"
             ]
            ],
            "type": "contour"
           }
          ],
          "contourcarpet": [
           {
            "colorbar": {
             "outlinewidth": 0,
             "ticks": ""
            },
            "type": "contourcarpet"
           }
          ],
          "heatmap": [
           {
            "colorbar": {
             "outlinewidth": 0,
             "ticks": ""
            },
            "colorscale": [
             [
              0,
              "#0d0887"
             ],
             [
              0.1111111111111111,
              "#46039f"
             ],
             [
              0.2222222222222222,
              "#7201a8"
             ],
             [
              0.3333333333333333,
              "#9c179e"
             ],
             [
              0.4444444444444444,
              "#bd3786"
             ],
             [
              0.5555555555555556,
              "#d8576b"
             ],
             [
              0.6666666666666666,
              "#ed7953"
             ],
             [
              0.7777777777777778,
              "#fb9f3a"
             ],
             [
              0.8888888888888888,
              "#fdca26"
             ],
             [
              1,
              "#f0f921"
             ]
            ],
            "type": "heatmap"
           }
          ],
          "heatmapgl": [
           {
            "colorbar": {
             "outlinewidth": 0,
             "ticks": ""
            },
            "colorscale": [
             [
              0,
              "#0d0887"
             ],
             [
              0.1111111111111111,
              "#46039f"
             ],
             [
              0.2222222222222222,
              "#7201a8"
             ],
             [
              0.3333333333333333,
              "#9c179e"
             ],
             [
              0.4444444444444444,
              "#bd3786"
             ],
             [
              0.5555555555555556,
              "#d8576b"
             ],
             [
              0.6666666666666666,
              "#ed7953"
             ],
             [
              0.7777777777777778,
              "#fb9f3a"
             ],
             [
              0.8888888888888888,
              "#fdca26"
             ],
             [
              1,
              "#f0f921"
             ]
            ],
            "type": "heatmapgl"
           }
          ],
          "histogram": [
           {
            "marker": {
             "colorbar": {
              "outlinewidth": 0,
              "ticks": ""
             }
            },
            "type": "histogram"
           }
          ],
          "histogram2d": [
           {
            "colorbar": {
             "outlinewidth": 0,
             "ticks": ""
            },
            "colorscale": [
             [
              0,
              "#0d0887"
             ],
             [
              0.1111111111111111,
              "#46039f"
             ],
             [
              0.2222222222222222,
              "#7201a8"
             ],
             [
              0.3333333333333333,
              "#9c179e"
             ],
             [
              0.4444444444444444,
              "#bd3786"
             ],
             [
              0.5555555555555556,
              "#d8576b"
             ],
             [
              0.6666666666666666,
              "#ed7953"
             ],
             [
              0.7777777777777778,
              "#fb9f3a"
             ],
             [
              0.8888888888888888,
              "#fdca26"
             ],
             [
              1,
              "#f0f921"
             ]
            ],
            "type": "histogram2d"
           }
          ],
          "histogram2dcontour": [
           {
            "colorbar": {
             "outlinewidth": 0,
             "ticks": ""
            },
            "colorscale": [
             [
              0,
              "#0d0887"
             ],
             [
              0.1111111111111111,
              "#46039f"
             ],
             [
              0.2222222222222222,
              "#7201a8"
             ],
             [
              0.3333333333333333,
              "#9c179e"
             ],
             [
              0.4444444444444444,
              "#bd3786"
             ],
             [
              0.5555555555555556,
              "#d8576b"
             ],
             [
              0.6666666666666666,
              "#ed7953"
             ],
             [
              0.7777777777777778,
              "#fb9f3a"
             ],
             [
              0.8888888888888888,
              "#fdca26"
             ],
             [
              1,
              "#f0f921"
             ]
            ],
            "type": "histogram2dcontour"
           }
          ],
          "mesh3d": [
           {
            "colorbar": {
             "outlinewidth": 0,
             "ticks": ""
            },
            "type": "mesh3d"
           }
          ],
          "parcoords": [
           {
            "line": {
             "colorbar": {
              "outlinewidth": 0,
              "ticks": ""
             }
            },
            "type": "parcoords"
           }
          ],
          "pie": [
           {
            "automargin": true,
            "type": "pie"
           }
          ],
          "scatter": [
           {
            "marker": {
             "colorbar": {
              "outlinewidth": 0,
              "ticks": ""
             }
            },
            "type": "scatter"
           }
          ],
          "scatter3d": [
           {
            "line": {
             "colorbar": {
              "outlinewidth": 0,
              "ticks": ""
             }
            },
            "marker": {
             "colorbar": {
              "outlinewidth": 0,
              "ticks": ""
             }
            },
            "type": "scatter3d"
           }
          ],
          "scattercarpet": [
           {
            "marker": {
             "colorbar": {
              "outlinewidth": 0,
              "ticks": ""
             }
            },
            "type": "scattercarpet"
           }
          ],
          "scattergeo": [
           {
            "marker": {
             "colorbar": {
              "outlinewidth": 0,
              "ticks": ""
             }
            },
            "type": "scattergeo"
           }
          ],
          "scattergl": [
           {
            "marker": {
             "colorbar": {
              "outlinewidth": 0,
              "ticks": ""
             }
            },
            "type": "scattergl"
           }
          ],
          "scattermapbox": [
           {
            "marker": {
             "colorbar": {
              "outlinewidth": 0,
              "ticks": ""
             }
            },
            "type": "scattermapbox"
           }
          ],
          "scatterpolar": [
           {
            "marker": {
             "colorbar": {
              "outlinewidth": 0,
              "ticks": ""
             }
            },
            "type": "scatterpolar"
           }
          ],
          "scatterpolargl": [
           {
            "marker": {
             "colorbar": {
              "outlinewidth": 0,
              "ticks": ""
             }
            },
            "type": "scatterpolargl"
           }
          ],
          "scatterternary": [
           {
            "marker": {
             "colorbar": {
              "outlinewidth": 0,
              "ticks": ""
             }
            },
            "type": "scatterternary"
           }
          ],
          "surface": [
           {
            "colorbar": {
             "outlinewidth": 0,
             "ticks": ""
            },
            "colorscale": [
             [
              0,
              "#0d0887"
             ],
             [
              0.1111111111111111,
              "#46039f"
             ],
             [
              0.2222222222222222,
              "#7201a8"
             ],
             [
              0.3333333333333333,
              "#9c179e"
             ],
             [
              0.4444444444444444,
              "#bd3786"
             ],
             [
              0.5555555555555556,
              "#d8576b"
             ],
             [
              0.6666666666666666,
              "#ed7953"
             ],
             [
              0.7777777777777778,
              "#fb9f3a"
             ],
             [
              0.8888888888888888,
              "#fdca26"
             ],
             [
              1,
              "#f0f921"
             ]
            ],
            "type": "surface"
           }
          ],
          "table": [
           {
            "cells": {
             "fill": {
              "color": "#EBF0F8"
             },
             "line": {
              "color": "white"
             }
            },
            "header": {
             "fill": {
              "color": "#C8D4E3"
             },
             "line": {
              "color": "white"
             }
            },
            "type": "table"
           }
          ]
         },
         "layout": {
          "annotationdefaults": {
           "arrowcolor": "#2a3f5f",
           "arrowhead": 0,
           "arrowwidth": 1
          },
          "autotypenumbers": "strict",
          "coloraxis": {
           "colorbar": {
            "outlinewidth": 0,
            "ticks": ""
           }
          },
          "colorscale": {
           "diverging": [
            [
             0,
             "#8e0152"
            ],
            [
             0.1,
             "#c51b7d"
            ],
            [
             0.2,
             "#de77ae"
            ],
            [
             0.3,
             "#f1b6da"
            ],
            [
             0.4,
             "#fde0ef"
            ],
            [
             0.5,
             "#f7f7f7"
            ],
            [
             0.6,
             "#e6f5d0"
            ],
            [
             0.7,
             "#b8e186"
            ],
            [
             0.8,
             "#7fbc41"
            ],
            [
             0.9,
             "#4d9221"
            ],
            [
             1,
             "#276419"
            ]
           ],
           "sequential": [
            [
             0,
             "#0d0887"
            ],
            [
             0.1111111111111111,
             "#46039f"
            ],
            [
             0.2222222222222222,
             "#7201a8"
            ],
            [
             0.3333333333333333,
             "#9c179e"
            ],
            [
             0.4444444444444444,
             "#bd3786"
            ],
            [
             0.5555555555555556,
             "#d8576b"
            ],
            [
             0.6666666666666666,
             "#ed7953"
            ],
            [
             0.7777777777777778,
             "#fb9f3a"
            ],
            [
             0.8888888888888888,
             "#fdca26"
            ],
            [
             1,
             "#f0f921"
            ]
           ],
           "sequentialminus": [
            [
             0,
             "#0d0887"
            ],
            [
             0.1111111111111111,
             "#46039f"
            ],
            [
             0.2222222222222222,
             "#7201a8"
            ],
            [
             0.3333333333333333,
             "#9c179e"
            ],
            [
             0.4444444444444444,
             "#bd3786"
            ],
            [
             0.5555555555555556,
             "#d8576b"
            ],
            [
             0.6666666666666666,
             "#ed7953"
            ],
            [
             0.7777777777777778,
             "#fb9f3a"
            ],
            [
             0.8888888888888888,
             "#fdca26"
            ],
            [
             1,
             "#f0f921"
            ]
           ]
          },
          "colorway": [
           "#636efa",
           "#EF553B",
           "#00cc96",
           "#ab63fa",
           "#FFA15A",
           "#19d3f3",
           "#FF6692",
           "#B6E880",
           "#FF97FF",
           "#FECB52"
          ],
          "font": {
           "color": "#2a3f5f"
          },
          "geo": {
           "bgcolor": "white",
           "lakecolor": "white",
           "landcolor": "#E5ECF6",
           "showlakes": true,
           "showland": true,
           "subunitcolor": "white"
          },
          "hoverlabel": {
           "align": "left"
          },
          "hovermode": "closest",
          "mapbox": {
           "style": "light"
          },
          "paper_bgcolor": "white",
          "plot_bgcolor": "#E5ECF6",
          "polar": {
           "angularaxis": {
            "gridcolor": "white",
            "linecolor": "white",
            "ticks": ""
           },
           "bgcolor": "#E5ECF6",
           "radialaxis": {
            "gridcolor": "white",
            "linecolor": "white",
            "ticks": ""
           }
          },
          "scene": {
           "xaxis": {
            "backgroundcolor": "#E5ECF6",
            "gridcolor": "white",
            "gridwidth": 2,
            "linecolor": "white",
            "showbackground": true,
            "ticks": "",
            "zerolinecolor": "white"
           },
           "yaxis": {
            "backgroundcolor": "#E5ECF6",
            "gridcolor": "white",
            "gridwidth": 2,
            "linecolor": "white",
            "showbackground": true,
            "ticks": "",
            "zerolinecolor": "white"
           },
           "zaxis": {
            "backgroundcolor": "#E5ECF6",
            "gridcolor": "white",
            "gridwidth": 2,
            "linecolor": "white",
            "showbackground": true,
            "ticks": "",
            "zerolinecolor": "white"
           }
          },
          "shapedefaults": {
           "line": {
            "color": "#2a3f5f"
           }
          },
          "ternary": {
           "aaxis": {
            "gridcolor": "white",
            "linecolor": "white",
            "ticks": ""
           },
           "baxis": {
            "gridcolor": "white",
            "linecolor": "white",
            "ticks": ""
           },
           "bgcolor": "#E5ECF6",
           "caxis": {
            "gridcolor": "white",
            "linecolor": "white",
            "ticks": ""
           }
          },
          "title": {
           "x": 0.05
          },
          "xaxis": {
           "automargin": true,
           "gridcolor": "white",
           "linecolor": "white",
           "ticks": "",
           "title": {
            "standoff": 15
           },
           "zerolinecolor": "white",
           "zerolinewidth": 2
          },
          "yaxis": {
           "automargin": true,
           "gridcolor": "white",
           "linecolor": "white",
           "ticks": "",
           "title": {
            "standoff": 15
           },
           "zerolinecolor": "white",
           "zerolinewidth": 2
          }
         }
        },
        "title": {
         "text": "Propiedades físico-químicas",
         "x": 0.5,
         "xanchor": "center",
         "y": 0.9,
         "yanchor": "top"
        },
        "width": 800,
        "xaxis": {
         "domain": [
          0.15,
          1
         ],
         "mirror": false,
         "rangemode": "tozero",
         "showgrid": false,
         "showline": false,
         "showticklabels": true,
         "tickmode": "array",
         "ticks": "",
         "ticktext": [
          "_feat_ProtPolarSurfaceArea",
          "_feat_Protpsa",
          "_feat_PolarSurfaceArea",
          "_feat_ASA_P",
          "_feat_maximalprojectionsize",
          "_feat_LengthPerpendicularToTheMaxArea",
          "_feat_ASA-",
          "_feat_minimalprojectionsize",
          "_feat_LengthPerpendicularToTheMinArea",
          "_feat_ASA_H",
          "_feat_msareaVDWp",
          "_feat_molsurfaceareaVDWp",
          "_feat_VanderWaalsSurfaceArea",
          "_feat_ASA",
          "_feat_MaximalProjectionRadius",
          "_feat_MinimalProjectionArea",
          "_feat_BondCount",
          "_feat_AtomCount_C",
          "_feat_AvgPol",
          "_feat_VanderWaalsVolume",
          "_feat_molsurfaceareaASAp",
          "_feat_msareaASAp",
          "_feat_ASA+",
          "_feat_RotatableBondCount",
          "_feat_WienerPolarity",
          "_feat_MolPol",
          "_feat_MaximalProjectionArea",
          "_feat_HyperWienerIndex",
          "_feat_WienerIndex",
          "_feat_Refractivity",
          "_feat_MinimalProjectionRadius",
          "_feat_BalabanIndex",
          "_feat_Aliphatic AtomCount",
          "_feat_ChainAtomCount"
         ],
         "tickvals": [
          5,
          15,
          25,
          35,
          45,
          55,
          65,
          75,
          85,
          95,
          105,
          115,
          125,
          135,
          145,
          155,
          165,
          175,
          185,
          195,
          205,
          215,
          225,
          235,
          245,
          255,
          265,
          275,
          285,
          295,
          305,
          315,
          325,
          335
         ],
         "type": "linear",
         "zeroline": false
        },
        "xaxis2": {
         "domain": [
          0,
          0.15
         ],
         "mirror": false,
         "showgrid": false,
         "showline": false,
         "showticklabels": false,
         "ticks": "",
         "zeroline": false
        },
        "yaxis": {
         "domain": [
          0,
          0.85
         ],
         "mirror": false,
         "rangemode": "tozero",
         "showgrid": false,
         "showline": false,
         "showticklabels": false,
         "ticks": "",
         "ticktext": [
          "_feat_ProtPolarSurfaceArea",
          "_feat_Protpsa",
          "_feat_PolarSurfaceArea",
          "_feat_ASA_P",
          "_feat_maximalprojectionsize",
          "_feat_LengthPerpendicularToTheMaxArea",
          "_feat_ASA-",
          "_feat_minimalprojectionsize",
          "_feat_LengthPerpendicularToTheMinArea",
          "_feat_ASA_H",
          "_feat_msareaVDWp",
          "_feat_molsurfaceareaVDWp",
          "_feat_VanderWaalsSurfaceArea",
          "_feat_ASA",
          "_feat_MaximalProjectionRadius",
          "_feat_MinimalProjectionArea",
          "_feat_BondCount",
          "_feat_AtomCount_C",
          "_feat_AvgPol",
          "_feat_VanderWaalsVolume",
          "_feat_molsurfaceareaASAp",
          "_feat_msareaASAp",
          "_feat_ASA+",
          "_feat_RotatableBondCount",
          "_feat_WienerPolarity",
          "_feat_MolPol",
          "_feat_MaximalProjectionArea",
          "_feat_HyperWienerIndex",
          "_feat_WienerIndex",
          "_feat_Refractivity",
          "_feat_MinimalProjectionRadius",
          "_feat_BalabanIndex",
          "_feat_Aliphatic AtomCount",
          "_feat_ChainAtomCount"
         ],
         "tickvals": [
          5,
          15,
          25,
          35,
          45,
          55,
          65,
          75,
          85,
          95,
          105,
          115,
          125,
          135,
          145,
          155,
          165,
          175,
          185,
          195,
          205,
          215,
          225,
          235,
          245,
          255,
          265,
          275,
          285,
          295,
          305,
          315,
          325,
          335
         ],
         "type": "linear",
         "zeroline": false
        },
        "yaxis2": {
         "domain": [
          0.825,
          0.975
         ],
         "mirror": false,
         "showgrid": false,
         "showline": false,
         "showticklabels": false,
         "ticks": "",
         "zeroline": false
        }
       }
      },
      "text/html": [
       "<div>                            <div id=\"648a8261-7185-4703-ab3d-c211fd68e04c\" class=\"plotly-graph-div\" style=\"height:800px; width:800px;\"></div>            <script type=\"text/javascript\">                require([\"plotly\"], function(Plotly) {                    window.PLOTLYENV=window.PLOTLYENV || {};                                    if (document.getElementById(\"648a8261-7185-4703-ab3d-c211fd68e04c\")) {                    Plotly.newPlot(                        \"648a8261-7185-4703-ab3d-c211fd68e04c\",                        [{\"hoverinfo\": \"text\", \"marker\": {\"color\": \"rgb(61,153,112)\"}, \"mode\": \"lines\", \"type\": \"scatter\", \"x\": [5.0, 5.0, 15.0, 15.0], \"xaxis\": \"x\", \"y\": [0.0, 0.0, 0.0, 0.0], \"yaxis\": \"y2\"}, {\"hoverinfo\": \"text\", \"marker\": {\"color\": \"rgb(61,153,112)\"}, \"mode\": \"lines\", \"type\": \"scatter\", \"x\": [10.0, 10.0, 25.0, 25.0], \"xaxis\": \"x\", \"y\": [0.0, 0.5830720688827864, 0.5830720688827864, 0.0], \"yaxis\": \"y2\"}, {\"hoverinfo\": \"text\", \"marker\": {\"color\": \"rgb(61,153,112)\"}, \"mode\": \"lines\", \"type\": \"scatter\", \"x\": [17.5, 17.5, 35.0, 35.0], \"xaxis\": \"x\", \"y\": [0.5830720688827864, 1.0528364377873114, 1.0528364377873114, 0.0], \"yaxis\": \"y2\"}, {\"hoverinfo\": \"text\", \"marker\": {\"color\": \"rgb(255,65,54)\"}, \"mode\": \"lines\", \"type\": \"scatter\", \"x\": [45.0, 45.0, 55.0, 55.0], \"xaxis\": \"x\", \"y\": [0.0, 0.0, 0.0, 0.0], \"yaxis\": \"y2\"}, {\"hoverinfo\": \"text\", \"marker\": {\"color\": \"rgb(255,65,54)\"}, \"mode\": \"lines\", \"type\": \"scatter\", \"x\": [50.0, 50.0, 65.0, 65.0], \"xaxis\": \"x\", \"y\": [0.0, 1.3781469641439945, 1.3781469641439945, 0.0], \"yaxis\": \"y2\"}, {\"hoverinfo\": \"text\", \"marker\": {\"color\": \"rgb(255,65,54)\"}, \"mode\": \"lines\", \"type\": \"scatter\", \"x\": [75.0, 75.0, 85.0, 85.0], \"xaxis\": \"x\", \"y\": [0.0, 0.0, 0.0, 0.0], \"yaxis\": \"y2\"}, {\"hoverinfo\": \"text\", \"marker\": {\"color\": \"rgb(255,65,54)\"}, \"mode\": \"lines\", \"type\": \"scatter\", \"x\": [115.0, 115.0, 125.0, 125.0], \"xaxis\": \"x\", \"y\": [0.0, 0.0, 0.0, 0.0], \"yaxis\": \"y2\"}, {\"hoverinfo\": \"text\", \"marker\": {\"color\": \"rgb(255,65,54)\"}, \"mode\": \"lines\", \"type\": \"scatter\", \"x\": [105.0, 105.0, 120.0, 120.0], \"xaxis\": \"x\", \"y\": [0.0, 0.0, 0.0, 0.0], \"yaxis\": \"y2\"}, {\"hoverinfo\": \"text\", \"marker\": {\"color\": \"rgb(255,65,54)\"}, \"mode\": \"lines\", \"type\": \"scatter\", \"x\": [135.0, 135.0, 145.0, 145.0], \"xaxis\": \"x\", \"y\": [0.0, 0.11876836022147602, 0.11876836022147602, 0.0], \"yaxis\": \"y2\"}, {\"hoverinfo\": \"text\", \"marker\": {\"color\": \"rgb(255,65,54)\"}, \"mode\": \"lines\", \"type\": \"scatter\", \"x\": [112.5, 112.5, 140.0, 140.0], \"xaxis\": \"x\", \"y\": [0.0, 0.1920152760287962, 0.1920152760287962, 0.11876836022147602], \"yaxis\": \"y2\"}, {\"hoverinfo\": \"text\", \"marker\": {\"color\": \"rgb(255,65,54)\"}, \"mode\": \"lines\", \"type\": \"scatter\", \"x\": [95.0, 95.0, 126.25, 126.25], \"xaxis\": \"x\", \"y\": [0.0, 0.3564725891678605, 0.3564725891678605, 0.1920152760287962], \"yaxis\": \"y2\"}, {\"hoverinfo\": \"text\", \"marker\": {\"color\": \"rgb(255,65,54)\"}, \"mode\": \"lines\", \"type\": \"scatter\", \"x\": [110.625, 110.625, 155.0, 155.0], \"xaxis\": \"x\", \"y\": [0.3564725891678605, 0.3811962777068693, 0.3811962777068693, 0.0], \"yaxis\": \"y2\"}, {\"hoverinfo\": \"text\", \"marker\": {\"color\": \"rgb(255,65,54)\"}, \"mode\": \"lines\", \"type\": \"scatter\", \"x\": [80.0, 80.0, 132.8125, 132.8125], \"xaxis\": \"x\", \"y\": [0.0, 0.5628293194974177, 0.5628293194974177, 0.3811962777068693], \"yaxis\": \"y2\"}, {\"hoverinfo\": \"text\", \"marker\": {\"color\": \"rgb(255,65,54)\"}, \"mode\": \"lines\", \"type\": \"scatter\", \"x\": [165.0, 165.0, 175.0, 175.0], \"xaxis\": \"x\", \"y\": [0.0, 0.3221309971048211, 0.3221309971048211, 0.0], \"yaxis\": \"y2\"}, {\"hoverinfo\": \"text\", \"marker\": {\"color\": \"rgb(255,65,54)\"}, \"mode\": \"lines\", \"type\": \"scatter\", \"x\": [185.0, 185.0, 195.0, 195.0], \"xaxis\": \"x\", \"y\": [0.0, 0.0789529730820795, 0.0789529730820795, 0.0], \"yaxis\": \"y2\"}, {\"hoverinfo\": \"text\", \"marker\": {\"color\": \"rgb(255,65,54)\"}, \"mode\": \"lines\", \"type\": \"scatter\", \"x\": [205.0, 205.0, 215.0, 215.0], \"xaxis\": \"x\", \"y\": [0.0, 0.0, 0.0, 0.0], \"yaxis\": \"y2\"}, {\"hoverinfo\": \"text\", \"marker\": {\"color\": \"rgb(255,65,54)\"}, \"mode\": \"lines\", \"type\": \"scatter\", \"x\": [210.0, 210.0, 225.0, 225.0], \"xaxis\": \"x\", \"y\": [0.0, 0.2141661855075559, 0.2141661855075559, 0.0], \"yaxis\": \"y2\"}, {\"hoverinfo\": \"text\", \"marker\": {\"color\": \"rgb(255,65,54)\"}, \"mode\": \"lines\", \"type\": \"scatter\", \"x\": [190.0, 190.0, 217.5, 217.5], \"xaxis\": \"x\", \"y\": [0.0789529730820795, 0.2588007061416518, 0.2588007061416518, 0.2141661855075559], \"yaxis\": \"y2\"}, {\"hoverinfo\": \"text\", \"marker\": {\"color\": \"rgb(255,65,54)\"}, \"mode\": \"lines\", \"type\": \"scatter\", \"x\": [170.0, 170.0, 203.75, 203.75], \"xaxis\": \"x\", \"y\": [0.3221309971048211, 0.45687381491126156, 0.45687381491126156, 0.2588007061416518], \"yaxis\": \"y2\"}, {\"hoverinfo\": \"text\", \"marker\": {\"color\": \"rgb(255,65,54)\"}, \"mode\": \"lines\", \"type\": \"scatter\", \"x\": [235.0, 235.0, 245.0, 245.0], \"xaxis\": \"x\", \"y\": [0.0, 0.5403040295405267, 0.5403040295405267, 0.0], \"yaxis\": \"y2\"}, {\"hoverinfo\": \"text\", \"marker\": {\"color\": \"rgb(255,65,54)\"}, \"mode\": \"lines\", \"type\": \"scatter\", \"x\": [186.875, 186.875, 240.0, 240.0], \"xaxis\": \"x\", \"y\": [0.45687381491126156, 0.5580933064087296, 0.5580933064087296, 0.5403040295405267], \"yaxis\": \"y2\"}, {\"hoverinfo\": \"text\", \"marker\": {\"color\": \"rgb(255,65,54)\"}, \"mode\": \"lines\", \"type\": \"scatter\", \"x\": [106.40625, 106.40625, 213.4375, 213.4375], \"xaxis\": \"x\", \"y\": [0.5628293194974177, 0.749672543009629, 0.749672543009629, 0.5580933064087296], \"yaxis\": \"y2\"}, {\"hoverinfo\": \"text\", \"marker\": {\"color\": \"rgb(255,65,54)\"}, \"mode\": \"lines\", \"type\": \"scatter\", \"x\": [255.0, 255.0, 265.0, 265.0], \"xaxis\": \"x\", \"y\": [0.0, 0.14540739444053713, 0.14540739444053713, 0.0], \"yaxis\": \"y2\"}, {\"hoverinfo\": \"text\", \"marker\": {\"color\": \"rgb(255,65,54)\"}, \"mode\": \"lines\", \"type\": \"scatter\", \"x\": [275.0, 275.0, 285.0, 285.0], \"xaxis\": \"x\", \"y\": [0.0, 0.01858404704870524, 0.01858404704870524, 0.0], \"yaxis\": \"y2\"}, {\"hoverinfo\": \"text\", \"marker\": {\"color\": \"rgb(255,65,54)\"}, \"mode\": \"lines\", \"type\": \"scatter\", \"x\": [280.0, 280.0, 295.0, 295.0], \"xaxis\": \"x\", \"y\": [0.01858404704870524, 0.20954372764120638, 0.20954372764120638, 0.0], \"yaxis\": \"y2\"}, {\"hoverinfo\": \"text\", \"marker\": {\"color\": \"rgb(255,65,54)\"}, \"mode\": \"lines\", \"type\": \"scatter\", \"x\": [260.0, 260.0, 287.5, 287.5], \"xaxis\": \"x\", \"y\": [0.14540739444053713, 0.29493347133676745, 0.29493347133676745, 0.20954372764120638], \"yaxis\": \"y2\"}, {\"hoverinfo\": \"text\", \"marker\": {\"color\": \"rgb(255,65,54)\"}, \"mode\": \"lines\", \"type\": \"scatter\", \"x\": [273.75, 273.75, 305.0, 305.0], \"xaxis\": \"x\", \"y\": [0.29493347133676745, 0.6842152226817954, 0.6842152226817954, 0.0], \"yaxis\": \"y2\"}, {\"hoverinfo\": \"text\", \"marker\": {\"color\": \"rgb(255,65,54)\"}, \"mode\": \"lines\", \"type\": \"scatter\", \"x\": [159.921875, 159.921875, 289.375, 289.375], \"xaxis\": \"x\", \"y\": [0.749672543009629, 1.0415777386238523, 1.0415777386238523, 0.6842152226817954], \"yaxis\": \"y2\"}, {\"hoverinfo\": \"text\", \"marker\": {\"color\": \"rgb(255,65,54)\"}, \"mode\": \"lines\", \"type\": \"scatter\", \"x\": [57.5, 57.5, 224.6484375, 224.6484375], \"xaxis\": \"x\", \"y\": [1.3781469641439945, 1.6773623596577008, 1.6773623596577008, 1.0415777386238523], \"yaxis\": \"y2\"}, {\"hoverinfo\": \"text\", \"marker\": {\"color\": \"rgb(35,205,205)\"}, \"mode\": \"lines\", \"type\": \"scatter\", \"x\": [325.0, 325.0, 335.0, 335.0], \"xaxis\": \"x\", \"y\": [0.0, 0.4791964078463279, 0.4791964078463279, 0.0], \"yaxis\": \"y2\"}, {\"hoverinfo\": \"text\", \"marker\": {\"color\": \"rgb(35,205,205)\"}, \"mode\": \"lines\", \"type\": \"scatter\", \"x\": [315.0, 315.0, 330.0, 330.0], \"xaxis\": \"x\", \"y\": [0.0, 0.624163301812696, 0.624163301812696, 0.4791964078463279], \"yaxis\": \"y2\"}, {\"hoverinfo\": \"text\", \"marker\": {\"color\": \"rgb(0,116,217)\"}, \"mode\": \"lines\", \"type\": \"scatter\", \"x\": [141.07421875, 141.07421875, 322.5, 322.5], \"xaxis\": \"x\", \"y\": [1.6773623596577008, 2.133679368813138, 2.133679368813138, 0.624163301812696], \"yaxis\": \"y2\"}, {\"hoverinfo\": \"text\", \"marker\": {\"color\": \"rgb(0,116,217)\"}, \"mode\": \"lines\", \"type\": \"scatter\", \"x\": [26.25, 26.25, 231.787109375, 231.787109375], \"xaxis\": \"x\", \"y\": [1.0528364377873114, 2.8843961203429314, 2.8843961203429314, 2.133679368813138], \"yaxis\": \"y2\"}, {\"hoverinfo\": \"text\", \"marker\": {\"color\": \"rgb(61,153,112)\"}, \"mode\": \"lines\", \"type\": \"scatter\", \"x\": [-0.0, -0.0, -0.0, -0.0], \"xaxis\": \"x2\", \"y\": [5.0, 5.0, 15.0, 15.0], \"yaxis\": \"y\"}, {\"hoverinfo\": \"text\", \"marker\": {\"color\": \"rgb(61,153,112)\"}, \"mode\": \"lines\", \"type\": \"scatter\", \"x\": [-0.0, -0.5830720688827864, -0.5830720688827864, -0.0], \"xaxis\": \"x2\", \"y\": [10.0, 10.0, 25.0, 25.0], \"yaxis\": \"y\"}, {\"hoverinfo\": \"text\", \"marker\": {\"color\": \"rgb(61,153,112)\"}, \"mode\": \"lines\", \"type\": \"scatter\", \"x\": [-0.5830720688827864, -1.0528364377873114, -1.0528364377873114, -0.0], \"xaxis\": \"x2\", \"y\": [17.5, 17.5, 35.0, 35.0], \"yaxis\": \"y\"}, {\"hoverinfo\": \"text\", \"marker\": {\"color\": \"rgb(255,65,54)\"}, \"mode\": \"lines\", \"type\": \"scatter\", \"x\": [-0.0, -0.0, -0.0, -0.0], \"xaxis\": \"x2\", \"y\": [45.0, 45.0, 55.0, 55.0], \"yaxis\": \"y\"}, {\"hoverinfo\": \"text\", \"marker\": {\"color\": \"rgb(255,65,54)\"}, \"mode\": \"lines\", \"type\": \"scatter\", \"x\": [-0.0, -1.3781469641439945, -1.3781469641439945, -0.0], \"xaxis\": \"x2\", \"y\": [50.0, 50.0, 65.0, 65.0], \"yaxis\": \"y\"}, {\"hoverinfo\": \"text\", \"marker\": {\"color\": \"rgb(255,65,54)\"}, \"mode\": \"lines\", \"type\": \"scatter\", \"x\": [-0.0, -0.0, -0.0, -0.0], \"xaxis\": \"x2\", \"y\": [75.0, 75.0, 85.0, 85.0], \"yaxis\": \"y\"}, {\"hoverinfo\": \"text\", \"marker\": {\"color\": \"rgb(255,65,54)\"}, \"mode\": \"lines\", \"type\": \"scatter\", \"x\": [-0.0, -0.0, -0.0, -0.0], \"xaxis\": \"x2\", \"y\": [115.0, 115.0, 125.0, 125.0], \"yaxis\": \"y\"}, {\"hoverinfo\": \"text\", \"marker\": {\"color\": \"rgb(255,65,54)\"}, \"mode\": \"lines\", \"type\": \"scatter\", \"x\": [-0.0, -0.0, -0.0, -0.0], \"xaxis\": \"x2\", \"y\": [105.0, 105.0, 120.0, 120.0], \"yaxis\": \"y\"}, {\"hoverinfo\": \"text\", \"marker\": {\"color\": \"rgb(255,65,54)\"}, \"mode\": \"lines\", \"type\": \"scatter\", \"x\": [-0.0, -0.11876836022147602, -0.11876836022147602, -0.0], \"xaxis\": \"x2\", \"y\": [135.0, 135.0, 145.0, 145.0], \"yaxis\": \"y\"}, {\"hoverinfo\": \"text\", \"marker\": {\"color\": \"rgb(255,65,54)\"}, \"mode\": \"lines\", \"type\": \"scatter\", \"x\": [-0.0, -0.1920152760287962, -0.1920152760287962, -0.11876836022147602], \"xaxis\": \"x2\", \"y\": [112.5, 112.5, 140.0, 140.0], \"yaxis\": \"y\"}, {\"hoverinfo\": \"text\", \"marker\": {\"color\": \"rgb(255,65,54)\"}, \"mode\": \"lines\", \"type\": \"scatter\", \"x\": [-0.0, -0.3564725891678605, -0.3564725891678605, -0.1920152760287962], \"xaxis\": \"x2\", \"y\": [95.0, 95.0, 126.25, 126.25], \"yaxis\": \"y\"}, {\"hoverinfo\": \"text\", \"marker\": {\"color\": \"rgb(255,65,54)\"}, \"mode\": \"lines\", \"type\": \"scatter\", \"x\": [-0.3564725891678605, -0.3811962777068693, -0.3811962777068693, -0.0], \"xaxis\": \"x2\", \"y\": [110.625, 110.625, 155.0, 155.0], \"yaxis\": \"y\"}, {\"hoverinfo\": \"text\", \"marker\": {\"color\": \"rgb(255,65,54)\"}, \"mode\": \"lines\", \"type\": \"scatter\", \"x\": [-0.0, -0.5628293194974177, -0.5628293194974177, -0.3811962777068693], \"xaxis\": \"x2\", \"y\": [80.0, 80.0, 132.8125, 132.8125], \"yaxis\": \"y\"}, {\"hoverinfo\": \"text\", \"marker\": {\"color\": \"rgb(255,65,54)\"}, \"mode\": \"lines\", \"type\": \"scatter\", \"x\": [-0.0, -0.3221309971048211, -0.3221309971048211, -0.0], \"xaxis\": \"x2\", \"y\": [165.0, 165.0, 175.0, 175.0], \"yaxis\": \"y\"}, {\"hoverinfo\": \"text\", \"marker\": {\"color\": \"rgb(255,65,54)\"}, \"mode\": \"lines\", \"type\": \"scatter\", \"x\": [-0.0, -0.0789529730820795, -0.0789529730820795, -0.0], \"xaxis\": \"x2\", \"y\": [185.0, 185.0, 195.0, 195.0], \"yaxis\": \"y\"}, {\"hoverinfo\": \"text\", \"marker\": {\"color\": \"rgb(255,65,54)\"}, \"mode\": \"lines\", \"type\": \"scatter\", \"x\": [-0.0, -0.0, -0.0, -0.0], \"xaxis\": \"x2\", \"y\": [205.0, 205.0, 215.0, 215.0], \"yaxis\": \"y\"}, {\"hoverinfo\": \"text\", \"marker\": {\"color\": \"rgb(255,65,54)\"}, \"mode\": \"lines\", \"type\": \"scatter\", \"x\": [-0.0, -0.2141661855075559, -0.2141661855075559, -0.0], \"xaxis\": \"x2\", \"y\": [210.0, 210.0, 225.0, 225.0], \"yaxis\": \"y\"}, {\"hoverinfo\": \"text\", \"marker\": {\"color\": \"rgb(255,65,54)\"}, \"mode\": \"lines\", \"type\": \"scatter\", \"x\": [-0.0789529730820795, -0.2588007061416518, -0.2588007061416518, -0.2141661855075559], \"xaxis\": \"x2\", \"y\": [190.0, 190.0, 217.5, 217.5], \"yaxis\": \"y\"}, {\"hoverinfo\": \"text\", \"marker\": {\"color\": \"rgb(255,65,54)\"}, \"mode\": \"lines\", \"type\": \"scatter\", \"x\": [-0.3221309971048211, -0.45687381491126156, -0.45687381491126156, -0.2588007061416518], \"xaxis\": \"x2\", \"y\": [170.0, 170.0, 203.75, 203.75], \"yaxis\": \"y\"}, {\"hoverinfo\": \"text\", \"marker\": {\"color\": \"rgb(255,65,54)\"}, \"mode\": \"lines\", \"type\": \"scatter\", \"x\": [-0.0, -0.5403040295405267, -0.5403040295405267, -0.0], \"xaxis\": \"x2\", \"y\": [235.0, 235.0, 245.0, 245.0], \"yaxis\": \"y\"}, {\"hoverinfo\": \"text\", \"marker\": {\"color\": \"rgb(255,65,54)\"}, \"mode\": \"lines\", \"type\": \"scatter\", \"x\": [-0.45687381491126156, -0.5580933064087296, -0.5580933064087296, -0.5403040295405267], \"xaxis\": \"x2\", \"y\": [186.875, 186.875, 240.0, 240.0], \"yaxis\": \"y\"}, {\"hoverinfo\": \"text\", \"marker\": {\"color\": \"rgb(255,65,54)\"}, \"mode\": \"lines\", \"type\": \"scatter\", \"x\": [-0.5628293194974177, -0.749672543009629, -0.749672543009629, -0.5580933064087296], \"xaxis\": \"x2\", \"y\": [106.40625, 106.40625, 213.4375, 213.4375], \"yaxis\": \"y\"}, {\"hoverinfo\": \"text\", \"marker\": {\"color\": \"rgb(255,65,54)\"}, \"mode\": \"lines\", \"type\": \"scatter\", \"x\": [-0.0, -0.14540739444053713, -0.14540739444053713, -0.0], \"xaxis\": \"x2\", \"y\": [255.0, 255.0, 265.0, 265.0], \"yaxis\": \"y\"}, {\"hoverinfo\": \"text\", \"marker\": {\"color\": \"rgb(255,65,54)\"}, \"mode\": \"lines\", \"type\": \"scatter\", \"x\": [-0.0, -0.01858404704870524, -0.01858404704870524, -0.0], \"xaxis\": \"x2\", \"y\": [275.0, 275.0, 285.0, 285.0], \"yaxis\": \"y\"}, {\"hoverinfo\": \"text\", \"marker\": {\"color\": \"rgb(255,65,54)\"}, \"mode\": \"lines\", \"type\": \"scatter\", \"x\": [-0.01858404704870524, -0.20954372764120638, -0.20954372764120638, -0.0], \"xaxis\": \"x2\", \"y\": [280.0, 280.0, 295.0, 295.0], \"yaxis\": \"y\"}, {\"hoverinfo\": \"text\", \"marker\": {\"color\": \"rgb(255,65,54)\"}, \"mode\": \"lines\", \"type\": \"scatter\", \"x\": [-0.14540739444053713, -0.29493347133676745, -0.29493347133676745, -0.20954372764120638], \"xaxis\": \"x2\", \"y\": [260.0, 260.0, 287.5, 287.5], \"yaxis\": \"y\"}, {\"hoverinfo\": \"text\", \"marker\": {\"color\": \"rgb(255,65,54)\"}, \"mode\": \"lines\", \"type\": \"scatter\", \"x\": [-0.29493347133676745, -0.6842152226817954, -0.6842152226817954, -0.0], \"xaxis\": \"x2\", \"y\": [273.75, 273.75, 305.0, 305.0], \"yaxis\": \"y\"}, {\"hoverinfo\": \"text\", \"marker\": {\"color\": \"rgb(255,65,54)\"}, \"mode\": \"lines\", \"type\": \"scatter\", \"x\": [-0.749672543009629, -1.0415777386238523, -1.0415777386238523, -0.6842152226817954], \"xaxis\": \"x2\", \"y\": [159.921875, 159.921875, 289.375, 289.375], \"yaxis\": \"y\"}, {\"hoverinfo\": \"text\", \"marker\": {\"color\": \"rgb(255,65,54)\"}, \"mode\": \"lines\", \"type\": \"scatter\", \"x\": [-1.3781469641439945, -1.6773623596577008, -1.6773623596577008, -1.0415777386238523], \"xaxis\": \"x2\", \"y\": [57.5, 57.5, 224.6484375, 224.6484375], \"yaxis\": \"y\"}, {\"hoverinfo\": \"text\", \"marker\": {\"color\": \"rgb(35,205,205)\"}, \"mode\": \"lines\", \"type\": \"scatter\", \"x\": [-0.0, -0.4791964078463279, -0.4791964078463279, -0.0], \"xaxis\": \"x2\", \"y\": [325.0, 325.0, 335.0, 335.0], \"yaxis\": \"y\"}, {\"hoverinfo\": \"text\", \"marker\": {\"color\": \"rgb(35,205,205)\"}, \"mode\": \"lines\", \"type\": \"scatter\", \"x\": [-0.0, -0.624163301812696, -0.624163301812696, -0.4791964078463279], \"xaxis\": \"x2\", \"y\": [315.0, 315.0, 330.0, 330.0], \"yaxis\": \"y\"}, {\"hoverinfo\": \"text\", \"marker\": {\"color\": \"rgb(0,116,217)\"}, \"mode\": \"lines\", \"type\": \"scatter\", \"x\": [-1.6773623596577008, -2.133679368813138, -2.133679368813138, -0.624163301812696], \"xaxis\": \"x2\", \"y\": [141.07421875, 141.07421875, 322.5, 322.5], \"yaxis\": \"y\"}, {\"hoverinfo\": \"text\", \"marker\": {\"color\": \"rgb(0,116,217)\"}, \"mode\": \"lines\", \"type\": \"scatter\", \"x\": [-1.0528364377873114, -2.8843961203429314, -2.8843961203429314, -2.133679368813138], \"xaxis\": \"x2\", \"y\": [26.25, 26.25, 231.787109375, 231.787109375], \"yaxis\": \"y\"}, {\"colorbar\": {\"title\": {\"text\": \"Correlaci\\u00f3n (abs)\"}}, \"type\": \"heatmap\", \"x\": [5, 15, 25, 35, 45, 55, 65, 75, 85, 95, 105, 115, 125, 135, 145, 155, 165, 175, 185, 195, 205, 215, 225, 235, 245, 255, 265, 275, 285, 295, 305, 315, 325, 335], \"y\": [5, 15, 25, 35, 45, 55, 65, 75, 85, 95, 105, 115, 125, 135, 145, 155, 165, 175, 185, 195, 205, 215, 225, 235, 245, 255, 265, 275, 285, 295, 305, 315, 325, 335], \"z\": [[1.0, 1.0, 0.8708430492362266, 0.5762925878546614, 0.4574946493990836, 0.4574946493990836, 0.20941656713930587, 0.39507460180461756, 0.39507460180461756, 0.4262898643769414, 0.41366269848365106, 0.41366269848365106, 0.41366269848365106, 0.39014449037092336, 0.4043465323703719, 0.5132625031782461, 0.37639045312913233, 0.4153817017574534, 0.2894021020016203, 0.2592493844104783, 0.2531960368054884, 0.2531960368054884, 0.18703381001096617, 0.2565012227455928, 0.22115140713459422, 0.14683351969394384, 0.07674988453268378, 0.09947168590131894, 0.09947168590131894, 0.07008687042468176, 0.06648817897351754, 0.16948377585448873, 0.06689035404149052, 0.12943627313211625], [1.0, 1.0, 0.8708430492362266, 0.5762925878546614, 0.4574946493990836, 0.4574946493990836, 0.20941656713930587, 0.39507460180461756, 0.39507460180461756, 0.4262898643769414, 0.41366269848365106, 0.41366269848365106, 0.41366269848365106, 0.39014449037092336, 0.4043465323703719, 0.5132625031782461, 0.37639045312913233, 0.4153817017574534, 0.2894021020016203, 0.2592493844104783, 0.2531960368054884, 0.2531960368054884, 0.18703381001096617, 0.2565012227455928, 0.22115140713459422, 0.14683351969394384, 0.07674988453268378, 0.09947168590131894, 0.09947168590131894, 0.07008687042468176, 0.06648817897351754, 0.16948377585448873, 0.06689035404149052, 0.12943627313211625], [0.8708430492362266, 0.8708430492362266, 1.0, 0.7110444700371746, 0.5866773167457446, 0.5866773167457446, 0.3697672287742803, 0.5068794793646285, 0.5068794793646285, 0.5808787947316739, 0.5627233690787579, 0.5627233690787579, 0.5627233690787579, 0.5570809492477716, 0.5353878207602022, 0.5261649396936174, 0.43915888682249604, 0.4105603415510597, 0.2811360723495725, 0.28439778336292904, 0.2643998272925442, 0.2643998272925442, 0.3060136984021262, 0.3316773817786563, 0.3022780255223634, 0.13164841784810902, 0.11330773184211694, 0.06679782526471446, 0.06679782526471446, 0.05764086201638962, 0.06459333325590443, 0.14793507253899577, 0.03352690504998449, 0.0062384242004848165], [0.5762925878546614, 0.5762925878546614, 0.7110444700371746, 1.0, 0.7770060285795225, 0.7770060285795225, 0.23291875906096188, 0.39095774547380985, 0.39095774547380985, 0.693982104206276, 0.5816133934624684, 0.5816133934624684, 0.5816133934624684, 0.5224160950327029, 0.5020822289111014, 0.5615755172191534, 0.5300316829381366, 0.41359432388146833, 0.3754041558597524, 0.39097161120424184, 0.4053797134683844, 0.4053797134683844, 0.4504206734175669, 0.4031957776141031, 0.22568434214384916, 0.29023056653592694, 0.24901194122940695, 0.16719602582175247, 0.1648273561747586, 0.16601206886952435, 0.14336824502990617, 0.2607273583442675, 0.2610071485398317, 0.2809051240368001], [0.4574946493990836, 0.4574946493990836, 0.5866773167457446, 0.7770060285795225, 1.0, 1.0, 0.4380010561377879, 0.6343711714226183, 0.6343711714226183, 0.832469187099956, 0.7981106791025532, 0.7981106791025532, 0.7981106791025532, 0.765655905844999, 0.7274671372699417, 0.7550847668365992, 0.749991883473187, 0.6314948771183951, 0.6069198352871196, 0.6092904192156354, 0.6155343753589658, 0.6155343753589658, 0.655156806861353, 0.6864130934438853, 0.5095243432946025, 0.4996092108469407, 0.48276568920417623, 0.41495698024508815, 0.4096276234968113, 0.41555766422343093, 0.31262684849409783, 0.3263475836253803, 0.4902450730260483, 0.5146488688536062], [0.4574946493990836, 0.4574946493990836, 0.5866773167457446, 0.7770060285795225, 1.0, 1.0, 0.4380010561377879, 0.6343711714226183, 0.6343711714226183, 0.832469187099956, 0.7981106791025532, 0.7981106791025532, 0.7981106791025532, 0.765655905844999, 0.7274671372699417, 0.7550847668365992, 0.749991883473187, 0.6314948771183951, 0.6069198352871196, 0.6092904192156354, 0.6155343753589658, 0.6155343753589658, 0.655156806861353, 0.6864130934438853, 0.5095243432946025, 0.4996092108469407, 0.48276568920417623, 0.41495698024508815, 0.4096276234968113, 0.41555766422343093, 0.31262684849409783, 0.3263475836253803, 0.4902450730260483, 0.5146488688536062], [0.20941656713930587, 0.20941656713930587, 0.3697672287742803, 0.23291875906096188, 0.4380010561377879, 0.4380010561377879, 1.0, 0.7419637484475607, 0.7419637484475607, 0.6558008609071226, 0.6861602544913641, 0.6861602544913641, 0.6861602544913641, 0.7204128595236129, 0.700740021185754, 0.5531551830953825, 0.5826433270724988, 0.5555317282097276, 0.5004838421022587, 0.4959720226213032, 0.4351340061570871, 0.4351340061570871, 0.48384624051100017, 0.6625518655138233, 0.6316067518231372, 0.5283613907896011, 0.5688937281642181, 0.5403798667916934, 0.535626242747437, 0.45510569330901524, 0.38281149531709163, 0.17011359674014814, 0.1903134047551694, 0.36791647390807203], [0.39507460180461756, 0.39507460180461756, 0.5068794793646285, 0.39095774547380985, 0.6343711714226183, 0.6343711714226183, 0.7419637484475607, 1.0, 1.0, 0.8620461892161981, 0.9095640778322409, 0.9095640778322409, 0.9095640778322409, 0.9301732362375251, 0.9430316922827354, 0.828054646533783, 0.8633877368205923, 0.8499683775218991, 0.7924178872104114, 0.77229680721318, 0.7578875210375914, 0.7578875210375914, 0.7821096043361802, 0.8483613735041695, 0.8913296215435247, 0.7423037084114622, 0.7553210927923869, 0.73347908241674, 0.7316248018231881, 0.674247486412046, 0.5425396120324798, 0.24428437218681684, 0.31185016883698113, 0.31876325095834873], [0.39507460180461756, 0.39507460180461756, 0.5068794793646285, 0.39095774547380985, 0.6343711714226183, 0.6343711714226183, 0.7419637484475607, 1.0, 1.0, 0.8620461892161981, 0.9095640778322409, 0.9095640778322409, 0.9095640778322409, 0.9301732362375251, 0.9430316922827354, 0.828054646533783, 0.8633877368205923, 0.8499683775218991, 0.7924178872104114, 0.77229680721318, 0.7578875210375914, 0.7578875210375914, 0.7821096043361802, 0.8483613735041695, 0.8913296215435247, 0.7423037084114622, 0.7553210927923869, 0.73347908241674, 0.7316248018231881, 0.674247486412046, 0.5425396120324798, 0.24428437218681684, 0.31185016883698113, 0.31876325095834873], [0.4262898643769414, 0.4262898643769414, 0.5808787947316739, 0.693982104206276, 0.832469187099956, 0.832469187099956, 0.6558008609071226, 0.8620461892161981, 0.8620461892161981, 1.0, 0.9493115276478866, 0.9493115276478866, 0.9493115276478866, 0.9499203939031047, 0.9366758857340857, 0.884686173861116, 0.917795693487848, 0.8538023501878916, 0.8213414462604488, 0.8218203154322615, 0.8263320135583585, 0.8263320135583585, 0.8683691454422823, 0.827189261271187, 0.7805415602622953, 0.7576044718368475, 0.7501466577260204, 0.6844467825125898, 0.6821337621920537, 0.6674329181501311, 0.5662828643789316, 0.3929604550589789, 0.37197398103535456, 0.4362578193160846], [0.41366269848365106, 0.41366269848365106, 0.5627233690787579, 0.5816133934624684, 0.7981106791025532, 0.7981106791025532, 0.6861602544913641, 0.9095640778322409, 0.9095640778322409, 0.9493115276478866, 1.0, 1.0, 1.0, 0.9825060848666559, 0.9780379464301426, 0.9425151068342682, 0.9673208491751655, 0.9172920114689589, 0.8831837393324978, 0.8897446393609187, 0.842304428454472, 0.842304428454472, 0.8801422548327791, 0.854798883679441, 0.8674004855348063, 0.8218170243051764, 0.8243227354897031, 0.7729020013784415, 0.7711747634416707, 0.7419084152296544, 0.6679088938252378, 0.4482302032799032, 0.4612076069236282, 0.4932918684416809], [0.41366269848365106, 0.41366269848365106, 0.5627233690787579, 0.5816133934624684, 0.7981106791025532, 0.7981106791025532, 0.6861602544913641, 0.9095640778322409, 0.9095640778322409, 0.9493115276478866, 1.0, 1.0, 1.0, 0.9825060848666559, 0.9780379464301426, 0.9425151068342682, 0.9673208491751655, 0.9172920114689589, 0.8831837393324978, 0.8897446393609187, 0.842304428454472, 0.842304428454472, 0.8801422548327791, 0.854798883679441, 0.8674004855348063, 0.8218170243051764, 0.8243227354897031, 0.7729020013784415, 0.7711747634416707, 0.7419084152296544, 0.6679088938252378, 0.4482302032799032, 0.4612076069236282, 0.4932918684416809], [0.41366269848365106, 0.41366269848365106, 0.5627233690787579, 0.5816133934624684, 0.7981106791025532, 0.7981106791025532, 0.6861602544913641, 0.9095640778322409, 0.9095640778322409, 0.9493115276478866, 1.0, 1.0, 1.0, 0.9825060848666559, 0.9780379464301426, 0.9425151068342682, 0.9673208491751655, 0.9172920114689589, 0.8831837393324978, 0.8897446393609187, 0.842304428454472, 0.842304428454472, 0.8801422548327791, 0.854798883679441, 0.8674004855348063, 0.8218170243051764, 0.8243227354897031, 0.7729020013784415, 0.7711747634416707, 0.7419084152296544, 0.6679088938252378, 0.4482302032799032, 0.4612076069236282, 0.4932918684416809], [0.39014449037092336, 0.39014449037092336, 0.5570809492477716, 0.5224160950327029, 0.765655905844999, 0.765655905844999, 0.7204128595236129, 0.9301732362375251, 0.9301732362375251, 0.9499203939031047, 0.9825060848666559, 0.9825060848666559, 0.9825060848666559, 1.0, 0.9893722744945731, 0.8993441180432551, 0.9441565899064936, 0.9067427533099055, 0.869077924554275, 0.870871748669025, 0.845339700112379, 0.845339700112379, 0.8903110008570618, 0.8606274331889737, 0.885452552221369, 0.8023138162959498, 0.8198513116128114, 0.7632178830112404, 0.7607627518844028, 0.7338164089596924, 0.6277762428378981, 0.38037633920395536, 0.3784698674466485, 0.45782915351645403], [0.4043465323703719, 0.4043465323703719, 0.5353878207602022, 0.5020822289111014, 0.7274671372699417, 0.7274671372699417, 0.700740021185754, 0.9430316922827354, 0.9430316922827354, 0.9366758857340857, 0.9780379464301426, 0.9780379464301426, 0.9780379464301426, 0.9893722744945731, 1.0, 0.9180508006781581, 0.9548593095345775, 0.9343464291973597, 0.8921330847645287, 0.8879131833942812, 0.8551807602707848, 0.8551807602707848, 0.886067584640692, 0.8495495671421616, 0.8920077329241802, 0.8260210571414874, 0.8358872810365999, 0.7890468642932883, 0.787169750602508, 0.755050295281412, 0.6527413609383187, 0.36601212646184306, 0.380696559233901, 0.40465085108306703], [0.5132625031782461, 0.5132625031782461, 0.5261649396936174, 0.5615755172191534, 0.7550847668365992, 0.7550847668365992, 0.5531551830953825, 0.828054646533783, 0.828054646533783, 0.884686173861116, 0.9425151068342682, 0.9425151068342682, 0.9425151068342682, 0.8993441180432551, 0.9180508006781581, 1.0, 0.9570574809010548, 0.950329412573049, 0.9031806961978444, 0.8972112472451945, 0.8316310449539354, 0.8316310449539354, 0.8116066186932042, 0.7908236073405892, 0.8284904024013465, 0.8495570162021508, 0.8106614245523744, 0.7967428900858272, 0.7984090894982095, 0.7731492734537244, 0.7187689547462708, 0.4641818787186441, 0.5057835518529885, 0.3966034379569661], [0.37639045312913233, 0.37639045312913233, 0.43915888682249604, 0.5300316829381366, 0.749991883473187, 0.749991883473187, 0.5826433270724988, 0.8633877368205923, 0.8633877368205923, 0.917795693487848, 0.9673208491751655, 0.9673208491751655, 0.9673208491751655, 0.9441565899064936, 0.9548593095345775, 0.9570574809010548, 1.0, 0.9707652748595985, 0.9679922351513445, 0.9677987939341502, 0.9334621881353824, 0.9334621881353824, 0.932637450787738, 0.8761335351407161, 0.8884854143132692, 0.914741879918441, 0.9026495946683026, 0.8677621676021727, 0.8660577861251426, 0.8384762418923409, 0.77110814454745, 0.5502375551816802, 0.5618608923319948, 0.5084233767349736], [0.4153817017574534, 0.4153817017574534, 0.4105603415510597, 0.41359432388146833, 0.6314948771183951, 0.6314948771183951, 0.5555317282097276, 0.8499683775218991, 0.8499683775218991, 0.8538023501878916, 0.9172920114689589, 0.9172920114689589, 0.9172920114689589, 0.9067427533099055, 0.9343464291973597, 0.950329412573049, 0.9707652748595985, 1.0, 0.9760972365269428, 0.9655231951359453, 0.9251987061844641, 0.9251987061844641, 0.894588488850099, 0.8274967018516838, 0.9096087381760758, 0.9275497435948842, 0.90231636048332, 0.895830262553189, 0.8965149516300388, 0.8673180878874643, 0.7882538698360319, 0.4667399988863917, 0.47239115964227163, 0.36861658673305864], [0.2894021020016203, 0.2894021020016203, 0.2811360723495725, 0.3754041558597524, 0.6069198352871196, 0.6069198352871196, 0.5004838421022587, 0.7924178872104114, 0.7924178872104114, 0.8213414462604488, 0.8831837393324978, 0.8831837393324978, 0.8831837393324978, 0.869077924554275, 0.8921330847645287, 0.9031806961978444, 0.9679922351513445, 0.9760972365269428, 1.0, 0.9945664108211634, 0.9659141216493848, 0.9659141216493848, 0.9339895804757258, 0.8429276810883655, 0.8921685893219349, 0.9643249499062505, 0.9496205491234653, 0.9325233091057196, 0.9317862209063567, 0.8998493294415266, 0.8473262959250722, 0.5931162979397152, 0.5796949441049155, 0.47780787190442164], [0.2592493844104783, 0.2592493844104783, 0.28439778336292904, 0.39097161120424184, 0.6092904192156354, 0.6092904192156354, 0.4959720226213032, 0.77229680721318, 0.77229680721318, 0.8218203154322615, 0.8897446393609187, 0.8897446393609187, 0.8897446393609187, 0.870871748669025, 0.8879131833942812, 0.8972112472451945, 0.9677987939341502, 0.9655231951359453, 0.9945664108211634, 1.0, 0.9607430018827922, 0.9607430018827922, 0.9434035341761469, 0.8271692299509674, 0.8827996109833958, 0.9604754413935633, 0.9515375771031095, 0.9231458886038472, 0.9227575148834106, 0.8931948188122025, 0.8668998581043015, 0.6234301309764959, 0.5765231352525927, 0.5084905941114488], [0.2531960368054884, 0.2531960368054884, 0.2643998272925442, 0.4053797134683844, 0.6155343753589658, 0.6155343753589658, 0.4351340061570871, 0.7578875210375914, 0.7578875210375914, 0.8263320135583585, 0.842304428454472, 0.842304428454472, 0.842304428454472, 0.845339700112379, 0.8551807602707848, 0.8316310449539354, 0.9334621881353824, 0.9251987061844641, 0.9659141216493848, 0.9607430018827922, 1.0, 1.0, 0.9760283253301674, 0.8382910208790105, 0.8599528791684432, 0.9165372184099708, 0.9101327349548252, 0.8848424454059953, 0.8831989743501031, 0.8622890092191344, 0.7754596553712353, 0.5749304628997906, 0.5419618920492933, 0.4747838181899877], [0.2531960368054884, 0.2531960368054884, 0.2643998272925442, 0.4053797134683844, 0.6155343753589658, 0.6155343753589658, 0.4351340061570871, 0.7578875210375914, 0.7578875210375914, 0.8263320135583585, 0.842304428454472, 0.842304428454472, 0.842304428454472, 0.845339700112379, 0.8551807602707848, 0.8316310449539354, 0.9334621881353824, 0.9251987061844641, 0.9659141216493848, 0.9607430018827922, 1.0, 1.0, 0.9760283253301674, 0.8382910208790105, 0.8599528791684432, 0.9165372184099708, 0.9101327349548252, 0.8848424454059953, 0.8831989743501031, 0.8622890092191344, 0.7754596553712353, 0.5749304628997906, 0.5419618920492933, 0.4747838181899877], [0.18703381001096617, 0.18703381001096617, 0.3060136984021262, 0.4504206734175669, 0.655156806861353, 0.655156806861353, 0.48384624051100017, 0.7821096043361802, 0.7821096043361802, 0.8683691454422823, 0.8801422548327791, 0.8801422548327791, 0.8801422548327791, 0.8903110008570618, 0.886067584640692, 0.8116066186932042, 0.932637450787738, 0.894588488850099, 0.9339895804757258, 0.9434035341761469, 0.9760283253301674, 0.9760283253301674, 1.0, 0.8382910208790105, 0.8599528791684432, 0.8785219363776917, 0.8940983751463283, 0.8387664042375226, 0.8371229331816303, 0.8289770328067988, 0.7509978590159596, 0.5619802331948656, 0.4821325254555721, 0.5176914565102566], [0.2565012227455928, 0.2565012227455928, 0.3316773817786563, 0.4031957776141031, 0.6864130934438853, 0.6864130934438853, 0.6625518655138233, 0.8483613735041695, 0.8483613735041695, 0.827189261271187, 0.854798883679441, 0.854798883679441, 0.854798883679441, 0.8606274331889737, 0.8495495671421616, 0.7908236073405892, 0.8761335351407161, 0.8274967018516838, 0.8429276810883655, 0.8271692299509674, 0.8382910208790105, 0.8382910208790105, 0.8382910208790105, 1.0, 0.8892327559585307, 0.8244066251492633, 0.8338224648844667, 0.8288671680658172, 0.8243078803150283, 0.8176617244220107, 0.6024187896136562, 0.5139952474258347, 0.6149231427585992, 0.6079747537345052], [0.22115140713459422, 0.22115140713459422, 0.3022780255223634, 0.22568434214384916, 0.5095243432946025, 0.5095243432946025, 0.6316067518231372, 0.8913296215435247, 0.8913296215435247, 0.7805415602622953, 0.8674004855348063, 0.8674004855348063, 0.8674004855348063, 0.885452552221369, 0.8920077329241802, 0.8284904024013465, 0.8884854143132692, 0.9096087381760758, 0.8921685893219349, 0.8827996109833958, 0.8599528791684432, 0.8599528791684432, 0.8599528791684432, 0.8892327559585307, 1.0, 0.8883128436048705, 0.8993819264598456, 0.9066049840828813, 0.9075549938488746, 0.8875463486519887, 0.7502766240118605, 0.4352840517131485, 0.4094492558110527, 0.38784272276988235], [0.14683351969394384, 0.14683351969394384, 0.13164841784810902, 0.29023056653592694, 0.4996092108469407, 0.4996092108469407, 0.5283613907896011, 0.7423037084114622, 0.7423037084114622, 0.7576044718368475, 0.8218170243051764, 0.8218170243051764, 0.8218170243051764, 0.8023138162959498, 0.8260210571414874, 0.8495570162021508, 0.914741879918441, 0.9275497435948842, 0.9643249499062505, 0.9604754413935633, 0.9165372184099708, 0.9165372184099708, 0.8785219363776917, 0.8244066251492633, 0.8883128436048705, 1.0, 0.9871323223726475, 0.982865798750918, 0.9830293476197656, 0.9335980173949051, 0.9145102023146623, 0.689563082954938, 0.6079014602298023, 0.509440360904119], [0.07674988453268378, 0.07674988453268378, 0.11330773184211694, 0.24901194122940695, 0.48276568920417623, 0.48276568920417623, 0.5688937281642181, 0.7553210927923869, 0.7553210927923869, 0.7501466577260204, 0.8243227354897031, 0.8243227354897031, 0.8243227354897031, 0.8198513116128114, 0.8358872810365999, 0.8106614245523744, 0.9026495946683026, 0.90231636048332, 0.9496205491234653, 0.9515375771031095, 0.9101327349548252, 0.9101327349548252, 0.8940983751463283, 0.8338224648844667, 0.8993819264598456, 0.9871323223726475, 1.0, 0.9790124809341144, 0.9784132255555225, 0.9218157456270573, 0.9095684034130597, 0.6983001256258313, 0.5968332715970164, 0.5584181287340826], [0.09947168590131894, 0.09947168590131894, 0.06679782526471446, 0.16719602582175247, 0.41495698024508815, 0.41495698024508815, 0.5403798667916934, 0.73347908241674, 0.73347908241674, 0.6844467825125898, 0.7729020013784415, 0.7729020013784415, 0.7729020013784415, 0.7632178830112404, 0.7890468642932883, 0.7967428900858272, 0.8677621676021727, 0.895830262553189, 0.9325233091057196, 0.9231458886038472, 0.8848424454059953, 0.8848424454059953, 0.8387664042375226, 0.8288671680658172, 0.9066049840828813, 0.982865798750918, 0.9790124809341144, 1.0, 0.9995715591839943, 0.956818274084537, 0.8905298690675065, 0.6741123363591098, 0.6120513274910192, 0.5075435113592426], [0.09947168590131894, 0.09947168590131894, 0.06679782526471446, 0.1648273561747586, 0.4096276234968113, 0.4096276234968113, 0.535626242747437, 0.7316248018231881, 0.7316248018231881, 0.6821337621920537, 0.7711747634416707, 0.7711747634416707, 0.7711747634416707, 0.7607627518844028, 0.787169750602508, 0.7984090894982095, 0.8660577861251426, 0.8965149516300388, 0.9317862209063567, 0.9227575148834106, 0.8831989743501031, 0.8831989743501031, 0.8371229331816303, 0.8243078803150283, 0.9075549938488746, 0.9830293476197656, 0.9784132255555225, 0.9995715591839943, 1.0, 0.9571757224823869, 0.8959744948465692, 0.6704921346777297, 0.6046818991547849, 0.4977940800038817], [0.07008687042468176, 0.07008687042468176, 0.05764086201638962, 0.16601206886952435, 0.41555766422343093, 0.41555766422343093, 0.45510569330901524, 0.674247486412046, 0.674247486412046, 0.6674329181501311, 0.7419084152296544, 0.7419084152296544, 0.7419084152296544, 0.7338164089596924, 0.755050295281412, 0.7731492734537244, 0.8384762418923409, 0.8673180878874643, 0.8998493294415266, 0.8931948188122025, 0.8622890092191344, 0.8622890092191344, 0.8289770328067988, 0.8176617244220107, 0.8875463486519887, 0.9335980173949051, 0.9218157456270573, 0.956818274084537, 0.9571757224823869, 1.0, 0.8378383756926141, 0.6284270481365569, 0.5771677222617357, 0.4769140846381047], [0.06648817897351754, 0.06648817897351754, 0.06459333325590443, 0.14336824502990617, 0.31262684849409783, 0.31262684849409783, 0.38281149531709163, 0.5425396120324798, 0.5425396120324798, 0.5662828643789316, 0.6679088938252378, 0.6679088938252378, 0.6679088938252378, 0.6277762428378981, 0.6527413609383187, 0.7187689547462708, 0.77110814454745, 0.7882538698360319, 0.8473262959250722, 0.8668998581043015, 0.7754596553712353, 0.7754596553712353, 0.7509978590159596, 0.6024187896136562, 0.7502766240118605, 0.9145102023146623, 0.9095684034130597, 0.8905298690675065, 0.8959744948465692, 0.8378383756926141, 1.0, 0.7217955665919372, 0.5194659081045865, 0.440229486861374], [0.16948377585448873, 0.16948377585448873, 0.14793507253899577, 0.2607273583442675, 0.3263475836253803, 0.3263475836253803, 0.17011359674014814, 0.24428437218681684, 0.24428437218681684, 0.3929604550589789, 0.4482302032799032, 0.4482302032799032, 0.4482302032799032, 0.38037633920395536, 0.36601212646184306, 0.4641818787186441, 0.5502375551816802, 0.4667399988863917, 0.5931162979397152, 0.6234301309764959, 0.5749304628997906, 0.5749304628997906, 0.5619802331948656, 0.5139952474258347, 0.4352840517131485, 0.689563082954938, 0.6983001256258313, 0.6741123363591098, 0.6704921346777297, 0.6284270481365569, 0.7217955665919372, 1.0, 0.7907167814506373, 0.8113983053453189], [0.06689035404149052, 0.06689035404149052, 0.03352690504998449, 0.2610071485398317, 0.4902450730260483, 0.4902450730260483, 0.1903134047551694, 0.31185016883698113, 0.31185016883698113, 0.37197398103535456, 0.4612076069236282, 0.4612076069236282, 0.4612076069236282, 0.3784698674466485, 0.380696559233901, 0.5057835518529885, 0.5618608923319948, 0.47239115964227163, 0.5796949441049155, 0.5765231352525927, 0.5419618920492933, 0.5419618920492933, 0.4821325254555721, 0.6149231427585992, 0.4094492558110527, 0.6079014602298023, 0.5968332715970164, 0.6120513274910192, 0.6046818991547849, 0.5771677222617357, 0.5194659081045865, 0.7907167814506373, 1.0, 0.810119933017295], [0.12943627313211625, 0.12943627313211625, 0.0062384242004848165, 0.2809051240368001, 0.5146488688536062, 0.5146488688536062, 0.36791647390807203, 0.31876325095834873, 0.31876325095834873, 0.4362578193160846, 0.4932918684416809, 0.4932918684416809, 0.4932918684416809, 0.45782915351645403, 0.40465085108306703, 0.3966034379569661, 0.5084233767349736, 0.36861658673305864, 0.47780787190442164, 0.5084905941114488, 0.4747838181899877, 0.4747838181899877, 0.5176914565102566, 0.6079747537345052, 0.38784272276988235, 0.509440360904119, 0.5584181287340826, 0.5075435113592426, 0.4977940800038817, 0.4769140846381047, 0.440229486861374, 0.8113983053453189, 0.810119933017295, 1.0]]}],                        {\"autosize\": false, \"height\": 800, \"hovermode\": \"closest\", \"showlegend\": false, \"template\": {\"data\": {\"bar\": [{\"error_x\": {\"color\": \"#2a3f5f\"}, \"error_y\": {\"color\": \"#2a3f5f\"}, \"marker\": {\"line\": {\"color\": \"#E5ECF6\", \"width\": 0.5}}, \"type\": \"bar\"}], \"barpolar\": [{\"marker\": {\"line\": {\"color\": \"#E5ECF6\", \"width\": 0.5}}, \"type\": \"barpolar\"}], \"carpet\": [{\"aaxis\": {\"endlinecolor\": \"#2a3f5f\", \"gridcolor\": \"white\", \"linecolor\": \"white\", \"minorgridcolor\": \"white\", \"startlinecolor\": \"#2a3f5f\"}, \"baxis\": {\"endlinecolor\": \"#2a3f5f\", \"gridcolor\": \"white\", \"linecolor\": \"white\", \"minorgridcolor\": \"white\", \"startlinecolor\": \"#2a3f5f\"}, \"type\": \"carpet\"}], \"choropleth\": [{\"colorbar\": {\"outlinewidth\": 0, \"ticks\": \"\"}, \"type\": \"choropleth\"}], \"contour\": [{\"colorbar\": {\"outlinewidth\": 0, \"ticks\": \"\"}, \"colorscale\": [[0.0, \"#0d0887\"], [0.1111111111111111, \"#46039f\"], [0.2222222222222222, \"#7201a8\"], [0.3333333333333333, \"#9c179e\"], [0.4444444444444444, \"#bd3786\"], [0.5555555555555556, \"#d8576b\"], [0.6666666666666666, \"#ed7953\"], [0.7777777777777778, \"#fb9f3a\"], [0.8888888888888888, \"#fdca26\"], [1.0, \"#f0f921\"]], \"type\": \"contour\"}], \"contourcarpet\": [{\"colorbar\": {\"outlinewidth\": 0, \"ticks\": \"\"}, \"type\": \"contourcarpet\"}], \"heatmap\": [{\"colorbar\": {\"outlinewidth\": 0, \"ticks\": \"\"}, \"colorscale\": [[0.0, \"#0d0887\"], [0.1111111111111111, \"#46039f\"], [0.2222222222222222, \"#7201a8\"], [0.3333333333333333, \"#9c179e\"], [0.4444444444444444, \"#bd3786\"], [0.5555555555555556, \"#d8576b\"], [0.6666666666666666, \"#ed7953\"], [0.7777777777777778, \"#fb9f3a\"], [0.8888888888888888, \"#fdca26\"], [1.0, \"#f0f921\"]], \"type\": \"heatmap\"}], \"heatmapgl\": [{\"colorbar\": {\"outlinewidth\": 0, \"ticks\": \"\"}, \"colorscale\": [[0.0, \"#0d0887\"], [0.1111111111111111, \"#46039f\"], [0.2222222222222222, \"#7201a8\"], [0.3333333333333333, \"#9c179e\"], [0.4444444444444444, \"#bd3786\"], [0.5555555555555556, \"#d8576b\"], [0.6666666666666666, \"#ed7953\"], [0.7777777777777778, \"#fb9f3a\"], [0.8888888888888888, \"#fdca26\"], [1.0, \"#f0f921\"]], \"type\": \"heatmapgl\"}], \"histogram\": [{\"marker\": {\"colorbar\": {\"outlinewidth\": 0, \"ticks\": \"\"}}, \"type\": \"histogram\"}], \"histogram2d\": [{\"colorbar\": {\"outlinewidth\": 0, \"ticks\": \"\"}, \"colorscale\": [[0.0, \"#0d0887\"], [0.1111111111111111, \"#46039f\"], [0.2222222222222222, \"#7201a8\"], [0.3333333333333333, \"#9c179e\"], [0.4444444444444444, \"#bd3786\"], [0.5555555555555556, \"#d8576b\"], [0.6666666666666666, \"#ed7953\"], [0.7777777777777778, \"#fb9f3a\"], [0.8888888888888888, \"#fdca26\"], [1.0, \"#f0f921\"]], \"type\": \"histogram2d\"}], \"histogram2dcontour\": [{\"colorbar\": {\"outlinewidth\": 0, \"ticks\": \"\"}, \"colorscale\": [[0.0, \"#0d0887\"], [0.1111111111111111, \"#46039f\"], [0.2222222222222222, \"#7201a8\"], [0.3333333333333333, \"#9c179e\"], [0.4444444444444444, \"#bd3786\"], [0.5555555555555556, \"#d8576b\"], [0.6666666666666666, \"#ed7953\"], [0.7777777777777778, \"#fb9f3a\"], [0.8888888888888888, \"#fdca26\"], [1.0, \"#f0f921\"]], \"type\": \"histogram2dcontour\"}], \"mesh3d\": [{\"colorbar\": {\"outlinewidth\": 0, \"ticks\": \"\"}, \"type\": \"mesh3d\"}], \"parcoords\": [{\"line\": {\"colorbar\": {\"outlinewidth\": 0, \"ticks\": \"\"}}, \"type\": \"parcoords\"}], \"pie\": [{\"automargin\": true, \"type\": \"pie\"}], \"scatter\": [{\"marker\": {\"colorbar\": {\"outlinewidth\": 0, \"ticks\": \"\"}}, \"type\": \"scatter\"}], \"scatter3d\": [{\"line\": {\"colorbar\": {\"outlinewidth\": 0, \"ticks\": \"\"}}, \"marker\": {\"colorbar\": {\"outlinewidth\": 0, \"ticks\": \"\"}}, \"type\": \"scatter3d\"}], \"scattercarpet\": [{\"marker\": {\"colorbar\": {\"outlinewidth\": 0, \"ticks\": \"\"}}, \"type\": \"scattercarpet\"}], \"scattergeo\": [{\"marker\": {\"colorbar\": {\"outlinewidth\": 0, \"ticks\": \"\"}}, \"type\": \"scattergeo\"}], \"scattergl\": [{\"marker\": {\"colorbar\": {\"outlinewidth\": 0, \"ticks\": \"\"}}, \"type\": \"scattergl\"}], \"scattermapbox\": [{\"marker\": {\"colorbar\": {\"outlinewidth\": 0, \"ticks\": \"\"}}, \"type\": \"scattermapbox\"}], \"scatterpolar\": [{\"marker\": {\"colorbar\": {\"outlinewidth\": 0, \"ticks\": \"\"}}, \"type\": \"scatterpolar\"}], \"scatterpolargl\": [{\"marker\": {\"colorbar\": {\"outlinewidth\": 0, \"ticks\": \"\"}}, \"type\": \"scatterpolargl\"}], \"scatterternary\": [{\"marker\": {\"colorbar\": {\"outlinewidth\": 0, \"ticks\": \"\"}}, \"type\": \"scatterternary\"}], \"surface\": [{\"colorbar\": {\"outlinewidth\": 0, \"ticks\": \"\"}, \"colorscale\": [[0.0, \"#0d0887\"], [0.1111111111111111, \"#46039f\"], [0.2222222222222222, \"#7201a8\"], [0.3333333333333333, \"#9c179e\"], [0.4444444444444444, \"#bd3786\"], [0.5555555555555556, \"#d8576b\"], [0.6666666666666666, \"#ed7953\"], [0.7777777777777778, \"#fb9f3a\"], [0.8888888888888888, \"#fdca26\"], [1.0, \"#f0f921\"]], \"type\": \"surface\"}], \"table\": [{\"cells\": {\"fill\": {\"color\": \"#EBF0F8\"}, \"line\": {\"color\": \"white\"}}, \"header\": {\"fill\": {\"color\": \"#C8D4E3\"}, \"line\": {\"color\": \"white\"}}, \"type\": \"table\"}]}, \"layout\": {\"annotationdefaults\": {\"arrowcolor\": \"#2a3f5f\", \"arrowhead\": 0, \"arrowwidth\": 1}, \"autotypenumbers\": \"strict\", \"coloraxis\": {\"colorbar\": {\"outlinewidth\": 0, \"ticks\": \"\"}}, \"colorscale\": {\"diverging\": [[0, \"#8e0152\"], [0.1, \"#c51b7d\"], [0.2, \"#de77ae\"], [0.3, \"#f1b6da\"], [0.4, \"#fde0ef\"], [0.5, \"#f7f7f7\"], [0.6, \"#e6f5d0\"], [0.7, \"#b8e186\"], [0.8, \"#7fbc41\"], [0.9, \"#4d9221\"], [1, \"#276419\"]], \"sequential\": [[0.0, \"#0d0887\"], [0.1111111111111111, \"#46039f\"], [0.2222222222222222, \"#7201a8\"], [0.3333333333333333, \"#9c179e\"], [0.4444444444444444, \"#bd3786\"], [0.5555555555555556, \"#d8576b\"], [0.6666666666666666, \"#ed7953\"], [0.7777777777777778, \"#fb9f3a\"], [0.8888888888888888, \"#fdca26\"], [1.0, \"#f0f921\"]], \"sequentialminus\": [[0.0, \"#0d0887\"], [0.1111111111111111, \"#46039f\"], [0.2222222222222222, \"#7201a8\"], [0.3333333333333333, \"#9c179e\"], [0.4444444444444444, \"#bd3786\"], [0.5555555555555556, \"#d8576b\"], [0.6666666666666666, \"#ed7953\"], [0.7777777777777778, \"#fb9f3a\"], [0.8888888888888888, \"#fdca26\"], [1.0, \"#f0f921\"]]}, \"colorway\": [\"#636efa\", \"#EF553B\", \"#00cc96\", \"#ab63fa\", \"#FFA15A\", \"#19d3f3\", \"#FF6692\", \"#B6E880\", \"#FF97FF\", \"#FECB52\"], \"font\": {\"color\": \"#2a3f5f\"}, \"geo\": {\"bgcolor\": \"white\", \"lakecolor\": \"white\", \"landcolor\": \"#E5ECF6\", \"showlakes\": true, \"showland\": true, \"subunitcolor\": \"white\"}, \"hoverlabel\": {\"align\": \"left\"}, \"hovermode\": \"closest\", \"mapbox\": {\"style\": \"light\"}, \"paper_bgcolor\": \"white\", \"plot_bgcolor\": \"#E5ECF6\", \"polar\": {\"angularaxis\": {\"gridcolor\": \"white\", \"linecolor\": \"white\", \"ticks\": \"\"}, \"bgcolor\": \"#E5ECF6\", \"radialaxis\": {\"gridcolor\": \"white\", \"linecolor\": \"white\", \"ticks\": \"\"}}, \"scene\": {\"xaxis\": {\"backgroundcolor\": \"#E5ECF6\", \"gridcolor\": \"white\", \"gridwidth\": 2, \"linecolor\": \"white\", \"showbackground\": true, \"ticks\": \"\", \"zerolinecolor\": \"white\"}, \"yaxis\": {\"backgroundcolor\": \"#E5ECF6\", \"gridcolor\": \"white\", \"gridwidth\": 2, \"linecolor\": \"white\", \"showbackground\": true, \"ticks\": \"\", \"zerolinecolor\": \"white\"}, \"zaxis\": {\"backgroundcolor\": \"#E5ECF6\", \"gridcolor\": \"white\", \"gridwidth\": 2, \"linecolor\": \"white\", \"showbackground\": true, \"ticks\": \"\", \"zerolinecolor\": \"white\"}}, \"shapedefaults\": {\"line\": {\"color\": \"#2a3f5f\"}}, \"ternary\": {\"aaxis\": {\"gridcolor\": \"white\", \"linecolor\": \"white\", \"ticks\": \"\"}, \"baxis\": {\"gridcolor\": \"white\", \"linecolor\": \"white\", \"ticks\": \"\"}, \"bgcolor\": \"#E5ECF6\", \"caxis\": {\"gridcolor\": \"white\", \"linecolor\": \"white\", \"ticks\": \"\"}}, \"title\": {\"x\": 0.05}, \"xaxis\": {\"automargin\": true, \"gridcolor\": \"white\", \"linecolor\": \"white\", \"ticks\": \"\", \"title\": {\"standoff\": 15}, \"zerolinecolor\": \"white\", \"zerolinewidth\": 2}, \"yaxis\": {\"automargin\": true, \"gridcolor\": \"white\", \"linecolor\": \"white\", \"ticks\": \"\", \"title\": {\"standoff\": 15}, \"zerolinecolor\": \"white\", \"zerolinewidth\": 2}}}, \"title\": {\"text\": \"Propiedades f\\u00edsico-qu\\u00edmicas\", \"x\": 0.5, \"xanchor\": \"center\", \"y\": 0.9, \"yanchor\": \"top\"}, \"width\": 800, \"xaxis\": {\"domain\": [0.15, 1], \"mirror\": false, \"rangemode\": \"tozero\", \"showgrid\": false, \"showline\": false, \"showticklabels\": true, \"tickmode\": \"array\", \"ticks\": \"\", \"ticktext\": [\"_feat_ProtPolarSurfaceArea\", \"_feat_Protpsa\", \"_feat_PolarSurfaceArea\", \"_feat_ASA_P\", \"_feat_maximalprojectionsize\", \"_feat_LengthPerpendicularToTheMaxArea\", \"_feat_ASA-\", \"_feat_minimalprojectionsize\", \"_feat_LengthPerpendicularToTheMinArea\", \"_feat_ASA_H\", \"_feat_msareaVDWp\", \"_feat_molsurfaceareaVDWp\", \"_feat_VanderWaalsSurfaceArea\", \"_feat_ASA\", \"_feat_MaximalProjectionRadius\", \"_feat_MinimalProjectionArea\", \"_feat_BondCount\", \"_feat_AtomCount_C\", \"_feat_AvgPol\", \"_feat_VanderWaalsVolume\", \"_feat_molsurfaceareaASAp\", \"_feat_msareaASAp\", \"_feat_ASA+\", \"_feat_RotatableBondCount\", \"_feat_WienerPolarity\", \"_feat_MolPol\", \"_feat_MaximalProjectionArea\", \"_feat_HyperWienerIndex\", \"_feat_WienerIndex\", \"_feat_Refractivity\", \"_feat_MinimalProjectionRadius\", \"_feat_BalabanIndex\", \"_feat_Aliphatic AtomCount\", \"_feat_ChainAtomCount\"], \"tickvals\": [5, 15, 25, 35, 45, 55, 65, 75, 85, 95, 105, 115, 125, 135, 145, 155, 165, 175, 185, 195, 205, 215, 225, 235, 245, 255, 265, 275, 285, 295, 305, 315, 325, 335], \"type\": \"linear\", \"zeroline\": false}, \"xaxis2\": {\"domain\": [0, 0.15], \"mirror\": false, \"showgrid\": false, \"showline\": false, \"showticklabels\": false, \"ticks\": \"\", \"zeroline\": false}, \"yaxis\": {\"domain\": [0, 0.85], \"mirror\": false, \"rangemode\": \"tozero\", \"showgrid\": false, \"showline\": false, \"showticklabels\": false, \"ticks\": \"\", \"ticktext\": [\"_feat_ProtPolarSurfaceArea\", \"_feat_Protpsa\", \"_feat_PolarSurfaceArea\", \"_feat_ASA_P\", \"_feat_maximalprojectionsize\", \"_feat_LengthPerpendicularToTheMaxArea\", \"_feat_ASA-\", \"_feat_minimalprojectionsize\", \"_feat_LengthPerpendicularToTheMinArea\", \"_feat_ASA_H\", \"_feat_msareaVDWp\", \"_feat_molsurfaceareaVDWp\", \"_feat_VanderWaalsSurfaceArea\", \"_feat_ASA\", \"_feat_MaximalProjectionRadius\", \"_feat_MinimalProjectionArea\", \"_feat_BondCount\", \"_feat_AtomCount_C\", \"_feat_AvgPol\", \"_feat_VanderWaalsVolume\", \"_feat_molsurfaceareaASAp\", \"_feat_msareaASAp\", \"_feat_ASA+\", \"_feat_RotatableBondCount\", \"_feat_WienerPolarity\", \"_feat_MolPol\", \"_feat_MaximalProjectionArea\", \"_feat_HyperWienerIndex\", \"_feat_WienerIndex\", \"_feat_Refractivity\", \"_feat_MinimalProjectionRadius\", \"_feat_BalabanIndex\", \"_feat_Aliphatic AtomCount\", \"_feat_ChainAtomCount\"], \"tickvals\": [5, 15, 25, 35, 45, 55, 65, 75, 85, 95, 105, 115, 125, 135, 145, 155, 165, 175, 185, 195, 205, 215, 225, 235, 245, 255, 265, 275, 285, 295, 305, 315, 325, 335], \"type\": \"linear\", \"zeroline\": false}, \"yaxis2\": {\"domain\": [0.825, 0.975], \"mirror\": false, \"showgrid\": false, \"showline\": false, \"showticklabels\": false, \"ticks\": \"\", \"zeroline\": false}},                        {\"responsive\": true}                    ).then(function(){\n",
       "                            \n",
       "var gd = document.getElementById('648a8261-7185-4703-ab3d-c211fd68e04c');\n",
       "var x = new MutationObserver(function (mutations, observer) {{\n",
       "        var display = window.getComputedStyle(gd).display;\n",
       "        if (!display || display === 'none') {{\n",
       "            console.log([gd, 'removed!']);\n",
       "            Plotly.purge(gd);\n",
       "            observer.disconnect();\n",
       "        }}\n",
       "}});\n",
       "\n",
       "// Listen for the removal of the full notebook cells\n",
       "var notebookContainer = gd.closest('#notebook-container');\n",
       "if (notebookContainer) {{\n",
       "    x.observe(notebookContainer, {childList: true});\n",
       "}}\n",
       "\n",
       "// Listen for the clearing of the current output cell\n",
       "var outputEl = gd.closest('.output');\n",
       "if (outputEl) {{\n",
       "    x.observe(outputEl, {childList: true});\n",
       "}}\n",
       "\n",
       "                        })                };                });            </script>        </div>"
      ]
     },
     "metadata": {}
    }
   ],
   "metadata": {}
  },
  {
   "cell_type": "code",
   "execution_count": 25,
   "source": [
    "plot_corr_dendogram(final_df, feat_col, 'Propiedades físico-químicas', 'average')\n"
   ],
   "outputs": [
    {
     "output_type": "display_data",
     "data": {
      "application/vnd.plotly.v1+json": {
       "config": {
        "linkText": "Export to plot.ly",
        "plotlyServerURL": "https://plot.ly",
        "showLink": false
       },
       "data": [
        {
         "hoverinfo": "text",
         "marker": {
          "color": "rgb(61,153,112)"
         },
         "mode": "lines",
         "type": "scatter",
         "x": [
          15,
          15,
          25,
          25
         ],
         "xaxis": "x",
         "y": [
          0,
          0,
          0,
          0
         ],
         "yaxis": "y2"
        },
        {
         "hoverinfo": "text",
         "marker": {
          "color": "rgb(61,153,112)"
         },
         "mode": "lines",
         "type": "scatter",
         "x": [
          20,
          20,
          35,
          35
         ],
         "xaxis": "x",
         "y": [
          0,
          0,
          0,
          0
         ],
         "yaxis": "y2"
        },
        {
         "hoverinfo": "text",
         "marker": {
          "color": "rgb(61,153,112)"
         },
         "mode": "lines",
         "type": "scatter",
         "x": [
          5,
          5,
          27.5,
          27.5
         ],
         "xaxis": "x",
         "y": [
          0,
          0.2226002828703737,
          0.2226002828703737,
          0
         ],
         "yaxis": "y2"
        },
        {
         "hoverinfo": "text",
         "marker": {
          "color": "rgb(61,153,112)"
         },
         "mode": "lines",
         "type": "scatter",
         "x": [
          55,
          55,
          65,
          65
         ],
         "xaxis": "x",
         "y": [
          0,
          0,
          0,
          0
         ],
         "yaxis": "y2"
        },
        {
         "hoverinfo": "text",
         "marker": {
          "color": "rgb(61,153,112)"
         },
         "mode": "lines",
         "type": "scatter",
         "x": [
          60,
          60,
          75,
          75
         ],
         "xaxis": "x",
         "y": [
          0,
          0,
          0,
          0
         ],
         "yaxis": "y2"
        },
        {
         "hoverinfo": "text",
         "marker": {
          "color": "rgb(61,153,112)"
         },
         "mode": "lines",
         "type": "scatter",
         "x": [
          45,
          45,
          67.5,
          67.5
         ],
         "xaxis": "x",
         "y": [
          0,
          0.3276521208435321,
          0.3276521208435321,
          0
         ],
         "yaxis": "y2"
        },
        {
         "hoverinfo": "text",
         "marker": {
          "color": "rgb(61,153,112)"
         },
         "mode": "lines",
         "type": "scatter",
         "x": [
          16.25,
          16.25,
          56.25,
          56.25
         ],
         "xaxis": "x",
         "y": [
          0.2226002828703737,
          0.7485422187983155,
          0.7485422187983155,
          0.3276521208435321
         ],
         "yaxis": "y2"
        },
        {
         "hoverinfo": "text",
         "marker": {
          "color": "rgb(255,65,54)"
         },
         "mode": "lines",
         "type": "scatter",
         "x": [
          105,
          105,
          115,
          115
         ],
         "xaxis": "x",
         "y": [
          0,
          0.02935285008197524,
          0.02935285008197524,
          0
         ],
         "yaxis": "y2"
        },
        {
         "hoverinfo": "text",
         "marker": {
          "color": "rgb(255,65,54)"
         },
         "mode": "lines",
         "type": "scatter",
         "x": [
          95,
          95,
          110,
          110
         ],
         "xaxis": "x",
         "y": [
          0,
          0.2963057709636828,
          0.2963057709636828,
          0.02935285008197524
         ],
         "yaxis": "y2"
        },
        {
         "hoverinfo": "text",
         "marker": {
          "color": "rgb(255,65,54)"
         },
         "mode": "lines",
         "type": "scatter",
         "x": [
          125,
          125,
          135,
          135
         ],
         "xaxis": "x",
         "y": [
          0,
          0.2688460996461375,
          0.2688460996461375,
          0
         ],
         "yaxis": "y2"
        },
        {
         "hoverinfo": "text",
         "marker": {
          "color": "rgb(255,65,54)"
         },
         "mode": "lines",
         "type": "scatter",
         "x": [
          102.5,
          102.5,
          130,
          130
         ],
         "xaxis": "x",
         "y": [
          0.2963057709636828,
          0.40548737171732624,
          0.40548737171732624,
          0.2688460996461375
         ],
         "yaxis": "y2"
        },
        {
         "hoverinfo": "text",
         "marker": {
          "color": "rgb(255,65,54)"
         },
         "mode": "lines",
         "type": "scatter",
         "x": [
          85,
          85,
          116.25,
          116.25
         ],
         "xaxis": "x",
         "y": [
          0,
          0.7864726301894056,
          0.7864726301894056,
          0.40548737171732624
         ],
         "yaxis": "y2"
        },
        {
         "hoverinfo": "text",
         "marker": {
          "color": "rgb(255,65,54)"
         },
         "mode": "lines",
         "type": "scatter",
         "x": [
          155,
          155,
          165,
          165
         ],
         "xaxis": "x",
         "y": [
          0,
          0.16255966993922116,
          0.16255966993922116,
          0
         ],
         "yaxis": "y2"
        },
        {
         "hoverinfo": "text",
         "marker": {
          "color": "rgb(255,65,54)"
         },
         "mode": "lines",
         "type": "scatter",
         "x": [
          175,
          175,
          185,
          185
         ],
         "xaxis": "x",
         "y": [
          0,
          0,
          0,
          0
         ],
         "yaxis": "y2"
        },
        {
         "hoverinfo": "text",
         "marker": {
          "color": "rgb(255,65,54)"
         },
         "mode": "lines",
         "type": "scatter",
         "x": [
          160,
          160,
          180,
          180
         ],
         "xaxis": "x",
         "y": [
          0.16255966993922116,
          0.3251405035092847,
          0.3251405035092847,
          0
         ],
         "yaxis": "y2"
        },
        {
         "hoverinfo": "text",
         "marker": {
          "color": "rgb(255,65,54)"
         },
         "mode": "lines",
         "type": "scatter",
         "x": [
          170,
          170,
          195,
          195
         ],
         "xaxis": "x",
         "y": [
          0.3251405035092847,
          0.555038087307872,
          0.555038087307872,
          0
         ],
         "yaxis": "y2"
        },
        {
         "hoverinfo": "text",
         "marker": {
          "color": "rgb(255,65,54)"
         },
         "mode": "lines",
         "type": "scatter",
         "x": [
          182.5,
          182.5,
          205,
          205
         ],
         "xaxis": "x",
         "y": [
          0.555038087307872,
          0.80902605806968,
          0.80902605806968,
          0
         ],
         "yaxis": "y2"
        },
        {
         "hoverinfo": "text",
         "marker": {
          "color": "rgb(255,65,54)"
         },
         "mode": "lines",
         "type": "scatter",
         "x": [
          145,
          145,
          193.75,
          193.75
         ],
         "xaxis": "x",
         "y": [
          0,
          0.8871439090839613,
          0.8871439090839613,
          0.80902605806968
         ],
         "yaxis": "y2"
        },
        {
         "hoverinfo": "text",
         "marker": {
          "color": "rgb(255,65,54)"
         },
         "mode": "lines",
         "type": "scatter",
         "x": [
          100.625,
          100.625,
          169.375,
          169.375
         ],
         "xaxis": "x",
         "y": [
          0.7864726301894056,
          1.0861952020139365,
          1.0861952020139365,
          0.8871439090839613
         ],
         "yaxis": "y2"
        },
        {
         "hoverinfo": "text",
         "marker": {
          "color": "rgb(255,65,54)"
         },
         "mode": "lines",
         "type": "scatter",
         "x": [
          215,
          215,
          225,
          225
         ],
         "xaxis": "x",
         "y": [
          0,
          0.5734500922268384,
          0.5734500922268384,
          0
         ],
         "yaxis": "y2"
        },
        {
         "hoverinfo": "text",
         "marker": {
          "color": "rgb(255,65,54)"
         },
         "mode": "lines",
         "type": "scatter",
         "x": [
          220,
          220,
          235,
          235
         ],
         "xaxis": "x",
         "y": [
          0.5734500922268384,
          0.6342181396864081,
          0.6342181396864081,
          0
         ],
         "yaxis": "y2"
        },
        {
         "hoverinfo": "text",
         "marker": {
          "color": "rgb(255,65,54)"
         },
         "mode": "lines",
         "type": "scatter",
         "x": [
          245,
          245,
          255,
          255
         ],
         "xaxis": "x",
         "y": [
          0,
          0,
          0,
          0
         ],
         "yaxis": "y2"
        },
        {
         "hoverinfo": "text",
         "marker": {
          "color": "rgb(255,65,54)"
         },
         "mode": "lines",
         "type": "scatter",
         "x": [
          285,
          285,
          295,
          295
         ],
         "xaxis": "x",
         "y": [
          0,
          0,
          0,
          0
         ],
         "yaxis": "y2"
        },
        {
         "hoverinfo": "text",
         "marker": {
          "color": "rgb(255,65,54)"
         },
         "mode": "lines",
         "type": "scatter",
         "x": [
          290,
          290,
          305,
          305
         ],
         "xaxis": "x",
         "y": [
          0,
          0,
          0,
          0
         ],
         "yaxis": "y2"
        },
        {
         "hoverinfo": "text",
         "marker": {
          "color": "rgb(255,65,54)"
         },
         "mode": "lines",
         "type": "scatter",
         "x": [
          275,
          275,
          297.5,
          297.5
         ],
         "xaxis": "x",
         "y": [
          0,
          0.25250409461172246,
          0.25250409461172246,
          0
         ],
         "yaxis": "y2"
        },
        {
         "hoverinfo": "text",
         "marker": {
          "color": "rgb(255,65,54)"
         },
         "mode": "lines",
         "type": "scatter",
         "x": [
          265,
          265,
          286.25,
          286.25
         ],
         "xaxis": "x",
         "y": [
          0,
          0.33699079392553133,
          0.33699079392553133,
          0.25250409461172246
         ],
         "yaxis": "y2"
        },
        {
         "hoverinfo": "text",
         "marker": {
          "color": "rgb(255,65,54)"
         },
         "mode": "lines",
         "type": "scatter",
         "x": [
          275.625,
          275.625,
          315,
          315
         ],
         "xaxis": "x",
         "y": [
          0.33699079392553133,
          0.5292802952698934,
          0.5292802952698934,
          0
         ],
         "yaxis": "y2"
        },
        {
         "hoverinfo": "text",
         "marker": {
          "color": "rgb(255,65,54)"
         },
         "mode": "lines",
         "type": "scatter",
         "x": [
          250,
          250,
          295.3125,
          295.3125
         ],
         "xaxis": "x",
         "y": [
          0,
          0.6866318846430536,
          0.6866318846430536,
          0.5292802952698934
         ],
         "yaxis": "y2"
        },
        {
         "hoverinfo": "text",
         "marker": {
          "color": "rgb(255,65,54)"
         },
         "mode": "lines",
         "type": "scatter",
         "x": [
          227.5,
          227.5,
          272.65625,
          272.65625
         ],
         "xaxis": "x",
         "y": [
          0.6342181396864081,
          0.8127892845423116,
          0.8127892845423116,
          0.6866318846430536
         ],
         "yaxis": "y2"
        },
        {
         "hoverinfo": "text",
         "marker": {
          "color": "rgb(255,65,54)"
         },
         "mode": "lines",
         "type": "scatter",
         "x": [
          135,
          135,
          250.078125,
          250.078125
         ],
         "xaxis": "x",
         "y": [
          1.0861952020139365,
          1.5082177647687467,
          1.5082177647687467,
          0.8127892845423116
         ],
         "yaxis": "y2"
        },
        {
         "hoverinfo": "text",
         "marker": {
          "color": "rgb(255,65,54)"
         },
         "mode": "lines",
         "type": "scatter",
         "x": [
          325,
          325,
          335,
          335
         ],
         "xaxis": "x",
         "y": [
          0,
          0,
          0,
          0
         ],
         "yaxis": "y2"
        },
        {
         "hoverinfo": "text",
         "marker": {
          "color": "rgb(255,65,54)"
         },
         "mode": "lines",
         "type": "scatter",
         "x": [
          330,
          330,
          345,
          345
         ],
         "xaxis": "x",
         "y": [
          0,
          1.8813396963312483,
          1.8813396963312483,
          0
         ],
         "yaxis": "y2"
        },
        {
         "hoverinfo": "text",
         "marker": {
          "color": "rgb(255,65,54)"
         },
         "mode": "lines",
         "type": "scatter",
         "x": [
          192.5390625,
          192.5390625,
          337.5,
          337.5
         ],
         "xaxis": "x",
         "y": [
          1.5082177647687467,
          2.1600719612964636,
          2.1600719612964636,
          1.8813396963312483
         ],
         "yaxis": "y2"
        },
        {
         "hoverinfo": "text",
         "marker": {
          "color": "rgb(35,205,205)"
         },
         "mode": "lines",
         "type": "scatter",
         "x": [
          355,
          355,
          365,
          365
         ],
         "xaxis": "x",
         "y": [
          0,
          0.7684918206132706,
          0.7684918206132706,
          0
         ],
         "yaxis": "y2"
        },
        {
         "hoverinfo": "text",
         "marker": {
          "color": "rgb(35,205,205)"
         },
         "mode": "lines",
         "type": "scatter",
         "x": [
          360,
          360,
          375,
          375
         ],
         "xaxis": "x",
         "y": [
          0.7684918206132706,
          0.9715219650153885,
          0.9715219650153885,
          0
         ],
         "yaxis": "y2"
        },
        {
         "hoverinfo": "text",
         "marker": {
          "color": "rgb(0,116,217)"
         },
         "mode": "lines",
         "type": "scatter",
         "x": [
          265.01953125,
          265.01953125,
          367.5,
          367.5
         ],
         "xaxis": "x",
         "y": [
          2.1600719612964636,
          2.6008482271497315,
          2.6008482271497315,
          0.9715219650153885
         ],
         "yaxis": "y2"
        },
        {
         "hoverinfo": "text",
         "marker": {
          "color": "rgb(0,116,217)"
         },
         "mode": "lines",
         "type": "scatter",
         "x": [
          36.25,
          36.25,
          316.259765625,
          316.259765625
         ],
         "xaxis": "x",
         "y": [
          0.7485422187983155,
          2.8265539173120016,
          2.8265539173120016,
          2.6008482271497315
         ],
         "yaxis": "y2"
        },
        {
         "hoverinfo": "text",
         "marker": {
          "color": "rgb(133,20,75)"
         },
         "mode": "lines",
         "type": "scatter",
         "x": [
          415,
          415,
          425,
          425
         ],
         "xaxis": "x",
         "y": [
          0,
          0,
          0,
          0
         ],
         "yaxis": "y2"
        },
        {
         "hoverinfo": "text",
         "marker": {
          "color": "rgb(133,20,75)"
         },
         "mode": "lines",
         "type": "scatter",
         "x": [
          405,
          405,
          420,
          420
         ],
         "xaxis": "x",
         "y": [
          0,
          0.560899270815052,
          0.560899270815052,
          0
         ],
         "yaxis": "y2"
        },
        {
         "hoverinfo": "text",
         "marker": {
          "color": "rgb(133,20,75)"
         },
         "mode": "lines",
         "type": "scatter",
         "x": [
          445,
          445,
          455,
          455
         ],
         "xaxis": "x",
         "y": [
          0,
          0,
          0,
          0
         ],
         "yaxis": "y2"
        },
        {
         "hoverinfo": "text",
         "marker": {
          "color": "rgb(133,20,75)"
         },
         "mode": "lines",
         "type": "scatter",
         "x": [
          435,
          435,
          450,
          450
         ],
         "xaxis": "x",
         "y": [
          0,
          0.3063526048416229,
          0.3063526048416229,
          0
         ],
         "yaxis": "y2"
        },
        {
         "hoverinfo": "text",
         "marker": {
          "color": "rgb(133,20,75)"
         },
         "mode": "lines",
         "type": "scatter",
         "x": [
          442.5,
          442.5,
          465,
          465
         ],
         "xaxis": "x",
         "y": [
          0.3063526048416229,
          0.395667335801243,
          0.395667335801243,
          0
         ],
         "yaxis": "y2"
        },
        {
         "hoverinfo": "text",
         "marker": {
          "color": "rgb(133,20,75)"
         },
         "mode": "lines",
         "type": "scatter",
         "x": [
          475,
          475,
          485,
          485
         ],
         "xaxis": "x",
         "y": [
          0,
          0,
          0,
          0
         ],
         "yaxis": "y2"
        },
        {
         "hoverinfo": "text",
         "marker": {
          "color": "rgb(133,20,75)"
         },
         "mode": "lines",
         "type": "scatter",
         "x": [
          480,
          480,
          495,
          495
         ],
         "xaxis": "x",
         "y": [
          0,
          0.6119268504010205,
          0.6119268504010205,
          0
         ],
         "yaxis": "y2"
        },
        {
         "hoverinfo": "text",
         "marker": {
          "color": "rgb(133,20,75)"
         },
         "mode": "lines",
         "type": "scatter",
         "x": [
          453.75,
          453.75,
          487.5,
          487.5
         ],
         "xaxis": "x",
         "y": [
          0.395667335801243,
          0.8332204697044663,
          0.8332204697044663,
          0.6119268504010205
         ],
         "yaxis": "y2"
        },
        {
         "hoverinfo": "text",
         "marker": {
          "color": "rgb(133,20,75)"
         },
         "mode": "lines",
         "type": "scatter",
         "x": [
          505,
          505,
          515,
          515
         ],
         "xaxis": "x",
         "y": [
          0,
          0.7091738865579311,
          0.7091738865579311,
          0
         ],
         "yaxis": "y2"
        },
        {
         "hoverinfo": "text",
         "marker": {
          "color": "rgb(133,20,75)"
         },
         "mode": "lines",
         "type": "scatter",
         "x": [
          470.625,
          470.625,
          510,
          510
         ],
         "xaxis": "x",
         "y": [
          0.8332204697044663,
          0.9318074406008312,
          0.9318074406008312,
          0.7091738865579311
         ],
         "yaxis": "y2"
        },
        {
         "hoverinfo": "text",
         "marker": {
          "color": "rgb(133,20,75)"
         },
         "mode": "lines",
         "type": "scatter",
         "x": [
          412.5,
          412.5,
          490.3125,
          490.3125
         ],
         "xaxis": "x",
         "y": [
          0.560899270815052,
          1.071450402985864,
          1.071450402985864,
          0.9318074406008312
         ],
         "yaxis": "y2"
        },
        {
         "hoverinfo": "text",
         "marker": {
          "color": "rgb(133,20,75)"
         },
         "mode": "lines",
         "type": "scatter",
         "x": [
          395,
          395,
          451.40625,
          451.40625
         ],
         "xaxis": "x",
         "y": [
          0,
          1.303574169772897,
          1.303574169772897,
          1.071450402985864
         ],
         "yaxis": "y2"
        },
        {
         "hoverinfo": "text",
         "marker": {
          "color": "rgb(133,20,75)"
         },
         "mode": "lines",
         "type": "scatter",
         "x": [
          423.203125,
          423.203125,
          525,
          525
         ],
         "xaxis": "x",
         "y": [
          1.303574169772897,
          1.617472478182523,
          1.617472478182523,
          0
         ],
         "yaxis": "y2"
        },
        {
         "hoverinfo": "text",
         "marker": {
          "color": "rgb(133,20,75)"
         },
         "mode": "lines",
         "type": "scatter",
         "x": [
          385,
          385,
          474.1015625,
          474.1015625
         ],
         "xaxis": "x",
         "y": [
          0,
          1.6283284446418183,
          1.6283284446418183,
          1.617472478182523
         ],
         "yaxis": "y2"
        },
        {
         "hoverinfo": "text",
         "marker": {
          "color": "rgb(255,220,0)"
         },
         "mode": "lines",
         "type": "scatter",
         "x": [
          535,
          535,
          545,
          545
         ],
         "xaxis": "x",
         "y": [
          0,
          1.7323179083156426,
          1.7323179083156426,
          0
         ],
         "yaxis": "y2"
        },
        {
         "hoverinfo": "text",
         "marker": {
          "color": "rgb(255,220,0)"
         },
         "mode": "lines",
         "type": "scatter",
         "x": [
          565,
          565,
          575,
          575
         ],
         "xaxis": "x",
         "y": [
          0,
          0,
          0,
          0
         ],
         "yaxis": "y2"
        },
        {
         "hoverinfo": "text",
         "marker": {
          "color": "rgb(255,220,0)"
         },
         "mode": "lines",
         "type": "scatter",
         "x": [
          570,
          570,
          585,
          585
         ],
         "xaxis": "x",
         "y": [
          0,
          0,
          0,
          0
         ],
         "yaxis": "y2"
        },
        {
         "hoverinfo": "text",
         "marker": {
          "color": "rgb(255,220,0)"
         },
         "mode": "lines",
         "type": "scatter",
         "x": [
          555,
          555,
          577.5,
          577.5
         ],
         "xaxis": "x",
         "y": [
          0,
          0.9155503795041794,
          0.9155503795041794,
          0
         ],
         "yaxis": "y2"
        },
        {
         "hoverinfo": "text",
         "marker": {
          "color": "rgb(255,220,0)"
         },
         "mode": "lines",
         "type": "scatter",
         "x": [
          540,
          540,
          566.25,
          566.25
         ],
         "xaxis": "x",
         "y": [
          1.7323179083156426,
          2.139251981597515,
          2.139251981597515,
          0.9155503795041794
         ],
         "yaxis": "y2"
        },
        {
         "hoverinfo": "text",
         "marker": {
          "color": "rgb(0,116,217)"
         },
         "mode": "lines",
         "type": "scatter",
         "x": [
          429.55078125,
          429.55078125,
          553.125,
          553.125
         ],
         "xaxis": "x",
         "y": [
          1.6283284446418183,
          2.9731035685113483,
          2.9731035685113483,
          2.139251981597515
         ],
         "yaxis": "y2"
        },
        {
         "hoverinfo": "text",
         "marker": {
          "color": "rgb(0,116,217)"
         },
         "mode": "lines",
         "type": "scatter",
         "x": [
          176.2548828125,
          176.2548828125,
          491.337890625,
          491.337890625
         ],
         "xaxis": "x",
         "y": [
          2.8265539173120016,
          3.5471077621717817,
          3.5471077621717817,
          2.9731035685113483
         ],
         "yaxis": "y2"
        },
        {
         "hoverinfo": "text",
         "marker": {
          "color": "rgb(61,153,112)"
         },
         "mode": "lines",
         "type": "scatter",
         "x": [
          0,
          0,
          0,
          0
         ],
         "xaxis": "x2",
         "y": [
          15,
          15,
          25,
          25
         ],
         "yaxis": "y"
        },
        {
         "hoverinfo": "text",
         "marker": {
          "color": "rgb(61,153,112)"
         },
         "mode": "lines",
         "type": "scatter",
         "x": [
          0,
          0,
          0,
          0
         ],
         "xaxis": "x2",
         "y": [
          20,
          20,
          35,
          35
         ],
         "yaxis": "y"
        },
        {
         "hoverinfo": "text",
         "marker": {
          "color": "rgb(61,153,112)"
         },
         "mode": "lines",
         "type": "scatter",
         "x": [
          0,
          -0.2226002828703737,
          -0.2226002828703737,
          0
         ],
         "xaxis": "x2",
         "y": [
          5,
          5,
          27.5,
          27.5
         ],
         "yaxis": "y"
        },
        {
         "hoverinfo": "text",
         "marker": {
          "color": "rgb(61,153,112)"
         },
         "mode": "lines",
         "type": "scatter",
         "x": [
          0,
          0,
          0,
          0
         ],
         "xaxis": "x2",
         "y": [
          55,
          55,
          65,
          65
         ],
         "yaxis": "y"
        },
        {
         "hoverinfo": "text",
         "marker": {
          "color": "rgb(61,153,112)"
         },
         "mode": "lines",
         "type": "scatter",
         "x": [
          0,
          0,
          0,
          0
         ],
         "xaxis": "x2",
         "y": [
          60,
          60,
          75,
          75
         ],
         "yaxis": "y"
        },
        {
         "hoverinfo": "text",
         "marker": {
          "color": "rgb(61,153,112)"
         },
         "mode": "lines",
         "type": "scatter",
         "x": [
          0,
          -0.3276521208435321,
          -0.3276521208435321,
          0
         ],
         "xaxis": "x2",
         "y": [
          45,
          45,
          67.5,
          67.5
         ],
         "yaxis": "y"
        },
        {
         "hoverinfo": "text",
         "marker": {
          "color": "rgb(61,153,112)"
         },
         "mode": "lines",
         "type": "scatter",
         "x": [
          -0.2226002828703737,
          -0.7485422187983155,
          -0.7485422187983155,
          -0.3276521208435321
         ],
         "xaxis": "x2",
         "y": [
          16.25,
          16.25,
          56.25,
          56.25
         ],
         "yaxis": "y"
        },
        {
         "hoverinfo": "text",
         "marker": {
          "color": "rgb(255,65,54)"
         },
         "mode": "lines",
         "type": "scatter",
         "x": [
          0,
          -0.02935285008197524,
          -0.02935285008197524,
          0
         ],
         "xaxis": "x2",
         "y": [
          105,
          105,
          115,
          115
         ],
         "yaxis": "y"
        },
        {
         "hoverinfo": "text",
         "marker": {
          "color": "rgb(255,65,54)"
         },
         "mode": "lines",
         "type": "scatter",
         "x": [
          0,
          -0.2963057709636828,
          -0.2963057709636828,
          -0.02935285008197524
         ],
         "xaxis": "x2",
         "y": [
          95,
          95,
          110,
          110
         ],
         "yaxis": "y"
        },
        {
         "hoverinfo": "text",
         "marker": {
          "color": "rgb(255,65,54)"
         },
         "mode": "lines",
         "type": "scatter",
         "x": [
          0,
          -0.2688460996461375,
          -0.2688460996461375,
          0
         ],
         "xaxis": "x2",
         "y": [
          125,
          125,
          135,
          135
         ],
         "yaxis": "y"
        },
        {
         "hoverinfo": "text",
         "marker": {
          "color": "rgb(255,65,54)"
         },
         "mode": "lines",
         "type": "scatter",
         "x": [
          -0.2963057709636828,
          -0.40548737171732624,
          -0.40548737171732624,
          -0.2688460996461375
         ],
         "xaxis": "x2",
         "y": [
          102.5,
          102.5,
          130,
          130
         ],
         "yaxis": "y"
        },
        {
         "hoverinfo": "text",
         "marker": {
          "color": "rgb(255,65,54)"
         },
         "mode": "lines",
         "type": "scatter",
         "x": [
          0,
          -0.7864726301894056,
          -0.7864726301894056,
          -0.40548737171732624
         ],
         "xaxis": "x2",
         "y": [
          85,
          85,
          116.25,
          116.25
         ],
         "yaxis": "y"
        },
        {
         "hoverinfo": "text",
         "marker": {
          "color": "rgb(255,65,54)"
         },
         "mode": "lines",
         "type": "scatter",
         "x": [
          0,
          -0.16255966993922116,
          -0.16255966993922116,
          0
         ],
         "xaxis": "x2",
         "y": [
          155,
          155,
          165,
          165
         ],
         "yaxis": "y"
        },
        {
         "hoverinfo": "text",
         "marker": {
          "color": "rgb(255,65,54)"
         },
         "mode": "lines",
         "type": "scatter",
         "x": [
          0,
          0,
          0,
          0
         ],
         "xaxis": "x2",
         "y": [
          175,
          175,
          185,
          185
         ],
         "yaxis": "y"
        },
        {
         "hoverinfo": "text",
         "marker": {
          "color": "rgb(255,65,54)"
         },
         "mode": "lines",
         "type": "scatter",
         "x": [
          -0.16255966993922116,
          -0.3251405035092847,
          -0.3251405035092847,
          0
         ],
         "xaxis": "x2",
         "y": [
          160,
          160,
          180,
          180
         ],
         "yaxis": "y"
        },
        {
         "hoverinfo": "text",
         "marker": {
          "color": "rgb(255,65,54)"
         },
         "mode": "lines",
         "type": "scatter",
         "x": [
          -0.3251405035092847,
          -0.555038087307872,
          -0.555038087307872,
          0
         ],
         "xaxis": "x2",
         "y": [
          170,
          170,
          195,
          195
         ],
         "yaxis": "y"
        },
        {
         "hoverinfo": "text",
         "marker": {
          "color": "rgb(255,65,54)"
         },
         "mode": "lines",
         "type": "scatter",
         "x": [
          -0.555038087307872,
          -0.80902605806968,
          -0.80902605806968,
          0
         ],
         "xaxis": "x2",
         "y": [
          182.5,
          182.5,
          205,
          205
         ],
         "yaxis": "y"
        },
        {
         "hoverinfo": "text",
         "marker": {
          "color": "rgb(255,65,54)"
         },
         "mode": "lines",
         "type": "scatter",
         "x": [
          0,
          -0.8871439090839613,
          -0.8871439090839613,
          -0.80902605806968
         ],
         "xaxis": "x2",
         "y": [
          145,
          145,
          193.75,
          193.75
         ],
         "yaxis": "y"
        },
        {
         "hoverinfo": "text",
         "marker": {
          "color": "rgb(255,65,54)"
         },
         "mode": "lines",
         "type": "scatter",
         "x": [
          -0.7864726301894056,
          -1.0861952020139365,
          -1.0861952020139365,
          -0.8871439090839613
         ],
         "xaxis": "x2",
         "y": [
          100.625,
          100.625,
          169.375,
          169.375
         ],
         "yaxis": "y"
        },
        {
         "hoverinfo": "text",
         "marker": {
          "color": "rgb(255,65,54)"
         },
         "mode": "lines",
         "type": "scatter",
         "x": [
          0,
          -0.5734500922268384,
          -0.5734500922268384,
          0
         ],
         "xaxis": "x2",
         "y": [
          215,
          215,
          225,
          225
         ],
         "yaxis": "y"
        },
        {
         "hoverinfo": "text",
         "marker": {
          "color": "rgb(255,65,54)"
         },
         "mode": "lines",
         "type": "scatter",
         "x": [
          -0.5734500922268384,
          -0.6342181396864081,
          -0.6342181396864081,
          0
         ],
         "xaxis": "x2",
         "y": [
          220,
          220,
          235,
          235
         ],
         "yaxis": "y"
        },
        {
         "hoverinfo": "text",
         "marker": {
          "color": "rgb(255,65,54)"
         },
         "mode": "lines",
         "type": "scatter",
         "x": [
          0,
          0,
          0,
          0
         ],
         "xaxis": "x2",
         "y": [
          245,
          245,
          255,
          255
         ],
         "yaxis": "y"
        },
        {
         "hoverinfo": "text",
         "marker": {
          "color": "rgb(255,65,54)"
         },
         "mode": "lines",
         "type": "scatter",
         "x": [
          0,
          0,
          0,
          0
         ],
         "xaxis": "x2",
         "y": [
          285,
          285,
          295,
          295
         ],
         "yaxis": "y"
        },
        {
         "hoverinfo": "text",
         "marker": {
          "color": "rgb(255,65,54)"
         },
         "mode": "lines",
         "type": "scatter",
         "x": [
          0,
          0,
          0,
          0
         ],
         "xaxis": "x2",
         "y": [
          290,
          290,
          305,
          305
         ],
         "yaxis": "y"
        },
        {
         "hoverinfo": "text",
         "marker": {
          "color": "rgb(255,65,54)"
         },
         "mode": "lines",
         "type": "scatter",
         "x": [
          0,
          -0.25250409461172246,
          -0.25250409461172246,
          0
         ],
         "xaxis": "x2",
         "y": [
          275,
          275,
          297.5,
          297.5
         ],
         "yaxis": "y"
        },
        {
         "hoverinfo": "text",
         "marker": {
          "color": "rgb(255,65,54)"
         },
         "mode": "lines",
         "type": "scatter",
         "x": [
          0,
          -0.33699079392553133,
          -0.33699079392553133,
          -0.25250409461172246
         ],
         "xaxis": "x2",
         "y": [
          265,
          265,
          286.25,
          286.25
         ],
         "yaxis": "y"
        },
        {
         "hoverinfo": "text",
         "marker": {
          "color": "rgb(255,65,54)"
         },
         "mode": "lines",
         "type": "scatter",
         "x": [
          -0.33699079392553133,
          -0.5292802952698934,
          -0.5292802952698934,
          0
         ],
         "xaxis": "x2",
         "y": [
          275.625,
          275.625,
          315,
          315
         ],
         "yaxis": "y"
        },
        {
         "hoverinfo": "text",
         "marker": {
          "color": "rgb(255,65,54)"
         },
         "mode": "lines",
         "type": "scatter",
         "x": [
          0,
          -0.6866318846430536,
          -0.6866318846430536,
          -0.5292802952698934
         ],
         "xaxis": "x2",
         "y": [
          250,
          250,
          295.3125,
          295.3125
         ],
         "yaxis": "y"
        },
        {
         "hoverinfo": "text",
         "marker": {
          "color": "rgb(255,65,54)"
         },
         "mode": "lines",
         "type": "scatter",
         "x": [
          -0.6342181396864081,
          -0.8127892845423116,
          -0.8127892845423116,
          -0.6866318846430536
         ],
         "xaxis": "x2",
         "y": [
          227.5,
          227.5,
          272.65625,
          272.65625
         ],
         "yaxis": "y"
        },
        {
         "hoverinfo": "text",
         "marker": {
          "color": "rgb(255,65,54)"
         },
         "mode": "lines",
         "type": "scatter",
         "x": [
          -1.0861952020139365,
          -1.5082177647687467,
          -1.5082177647687467,
          -0.8127892845423116
         ],
         "xaxis": "x2",
         "y": [
          135,
          135,
          250.078125,
          250.078125
         ],
         "yaxis": "y"
        },
        {
         "hoverinfo": "text",
         "marker": {
          "color": "rgb(255,65,54)"
         },
         "mode": "lines",
         "type": "scatter",
         "x": [
          0,
          0,
          0,
          0
         ],
         "xaxis": "x2",
         "y": [
          325,
          325,
          335,
          335
         ],
         "yaxis": "y"
        },
        {
         "hoverinfo": "text",
         "marker": {
          "color": "rgb(255,65,54)"
         },
         "mode": "lines",
         "type": "scatter",
         "x": [
          0,
          -1.8813396963312483,
          -1.8813396963312483,
          0
         ],
         "xaxis": "x2",
         "y": [
          330,
          330,
          345,
          345
         ],
         "yaxis": "y"
        },
        {
         "hoverinfo": "text",
         "marker": {
          "color": "rgb(255,65,54)"
         },
         "mode": "lines",
         "type": "scatter",
         "x": [
          -1.5082177647687467,
          -2.1600719612964636,
          -2.1600719612964636,
          -1.8813396963312483
         ],
         "xaxis": "x2",
         "y": [
          192.5390625,
          192.5390625,
          337.5,
          337.5
         ],
         "yaxis": "y"
        },
        {
         "hoverinfo": "text",
         "marker": {
          "color": "rgb(35,205,205)"
         },
         "mode": "lines",
         "type": "scatter",
         "x": [
          0,
          -0.7684918206132706,
          -0.7684918206132706,
          0
         ],
         "xaxis": "x2",
         "y": [
          355,
          355,
          365,
          365
         ],
         "yaxis": "y"
        },
        {
         "hoverinfo": "text",
         "marker": {
          "color": "rgb(35,205,205)"
         },
         "mode": "lines",
         "type": "scatter",
         "x": [
          -0.7684918206132706,
          -0.9715219650153885,
          -0.9715219650153885,
          0
         ],
         "xaxis": "x2",
         "y": [
          360,
          360,
          375,
          375
         ],
         "yaxis": "y"
        },
        {
         "hoverinfo": "text",
         "marker": {
          "color": "rgb(0,116,217)"
         },
         "mode": "lines",
         "type": "scatter",
         "x": [
          -2.1600719612964636,
          -2.6008482271497315,
          -2.6008482271497315,
          -0.9715219650153885
         ],
         "xaxis": "x2",
         "y": [
          265.01953125,
          265.01953125,
          367.5,
          367.5
         ],
         "yaxis": "y"
        },
        {
         "hoverinfo": "text",
         "marker": {
          "color": "rgb(0,116,217)"
         },
         "mode": "lines",
         "type": "scatter",
         "x": [
          -0.7485422187983155,
          -2.8265539173120016,
          -2.8265539173120016,
          -2.6008482271497315
         ],
         "xaxis": "x2",
         "y": [
          36.25,
          36.25,
          316.259765625,
          316.259765625
         ],
         "yaxis": "y"
        },
        {
         "hoverinfo": "text",
         "marker": {
          "color": "rgb(133,20,75)"
         },
         "mode": "lines",
         "type": "scatter",
         "x": [
          0,
          0,
          0,
          0
         ],
         "xaxis": "x2",
         "y": [
          415,
          415,
          425,
          425
         ],
         "yaxis": "y"
        },
        {
         "hoverinfo": "text",
         "marker": {
          "color": "rgb(133,20,75)"
         },
         "mode": "lines",
         "type": "scatter",
         "x": [
          0,
          -0.560899270815052,
          -0.560899270815052,
          0
         ],
         "xaxis": "x2",
         "y": [
          405,
          405,
          420,
          420
         ],
         "yaxis": "y"
        },
        {
         "hoverinfo": "text",
         "marker": {
          "color": "rgb(133,20,75)"
         },
         "mode": "lines",
         "type": "scatter",
         "x": [
          0,
          0,
          0,
          0
         ],
         "xaxis": "x2",
         "y": [
          445,
          445,
          455,
          455
         ],
         "yaxis": "y"
        },
        {
         "hoverinfo": "text",
         "marker": {
          "color": "rgb(133,20,75)"
         },
         "mode": "lines",
         "type": "scatter",
         "x": [
          0,
          -0.3063526048416229,
          -0.3063526048416229,
          0
         ],
         "xaxis": "x2",
         "y": [
          435,
          435,
          450,
          450
         ],
         "yaxis": "y"
        },
        {
         "hoverinfo": "text",
         "marker": {
          "color": "rgb(133,20,75)"
         },
         "mode": "lines",
         "type": "scatter",
         "x": [
          -0.3063526048416229,
          -0.395667335801243,
          -0.395667335801243,
          0
         ],
         "xaxis": "x2",
         "y": [
          442.5,
          442.5,
          465,
          465
         ],
         "yaxis": "y"
        },
        {
         "hoverinfo": "text",
         "marker": {
          "color": "rgb(133,20,75)"
         },
         "mode": "lines",
         "type": "scatter",
         "x": [
          0,
          0,
          0,
          0
         ],
         "xaxis": "x2",
         "y": [
          475,
          475,
          485,
          485
         ],
         "yaxis": "y"
        },
        {
         "hoverinfo": "text",
         "marker": {
          "color": "rgb(133,20,75)"
         },
         "mode": "lines",
         "type": "scatter",
         "x": [
          0,
          -0.6119268504010205,
          -0.6119268504010205,
          0
         ],
         "xaxis": "x2",
         "y": [
          480,
          480,
          495,
          495
         ],
         "yaxis": "y"
        },
        {
         "hoverinfo": "text",
         "marker": {
          "color": "rgb(133,20,75)"
         },
         "mode": "lines",
         "type": "scatter",
         "x": [
          -0.395667335801243,
          -0.8332204697044663,
          -0.8332204697044663,
          -0.6119268504010205
         ],
         "xaxis": "x2",
         "y": [
          453.75,
          453.75,
          487.5,
          487.5
         ],
         "yaxis": "y"
        },
        {
         "hoverinfo": "text",
         "marker": {
          "color": "rgb(133,20,75)"
         },
         "mode": "lines",
         "type": "scatter",
         "x": [
          0,
          -0.7091738865579311,
          -0.7091738865579311,
          0
         ],
         "xaxis": "x2",
         "y": [
          505,
          505,
          515,
          515
         ],
         "yaxis": "y"
        },
        {
         "hoverinfo": "text",
         "marker": {
          "color": "rgb(133,20,75)"
         },
         "mode": "lines",
         "type": "scatter",
         "x": [
          -0.8332204697044663,
          -0.9318074406008312,
          -0.9318074406008312,
          -0.7091738865579311
         ],
         "xaxis": "x2",
         "y": [
          470.625,
          470.625,
          510,
          510
         ],
         "yaxis": "y"
        },
        {
         "hoverinfo": "text",
         "marker": {
          "color": "rgb(133,20,75)"
         },
         "mode": "lines",
         "type": "scatter",
         "x": [
          -0.560899270815052,
          -1.071450402985864,
          -1.071450402985864,
          -0.9318074406008312
         ],
         "xaxis": "x2",
         "y": [
          412.5,
          412.5,
          490.3125,
          490.3125
         ],
         "yaxis": "y"
        },
        {
         "hoverinfo": "text",
         "marker": {
          "color": "rgb(133,20,75)"
         },
         "mode": "lines",
         "type": "scatter",
         "x": [
          0,
          -1.303574169772897,
          -1.303574169772897,
          -1.071450402985864
         ],
         "xaxis": "x2",
         "y": [
          395,
          395,
          451.40625,
          451.40625
         ],
         "yaxis": "y"
        },
        {
         "hoverinfo": "text",
         "marker": {
          "color": "rgb(133,20,75)"
         },
         "mode": "lines",
         "type": "scatter",
         "x": [
          -1.303574169772897,
          -1.617472478182523,
          -1.617472478182523,
          0
         ],
         "xaxis": "x2",
         "y": [
          423.203125,
          423.203125,
          525,
          525
         ],
         "yaxis": "y"
        },
        {
         "hoverinfo": "text",
         "marker": {
          "color": "rgb(133,20,75)"
         },
         "mode": "lines",
         "type": "scatter",
         "x": [
          0,
          -1.6283284446418183,
          -1.6283284446418183,
          -1.617472478182523
         ],
         "xaxis": "x2",
         "y": [
          385,
          385,
          474.1015625,
          474.1015625
         ],
         "yaxis": "y"
        },
        {
         "hoverinfo": "text",
         "marker": {
          "color": "rgb(255,220,0)"
         },
         "mode": "lines",
         "type": "scatter",
         "x": [
          0,
          -1.7323179083156426,
          -1.7323179083156426,
          0
         ],
         "xaxis": "x2",
         "y": [
          535,
          535,
          545,
          545
         ],
         "yaxis": "y"
        },
        {
         "hoverinfo": "text",
         "marker": {
          "color": "rgb(255,220,0)"
         },
         "mode": "lines",
         "type": "scatter",
         "x": [
          0,
          0,
          0,
          0
         ],
         "xaxis": "x2",
         "y": [
          565,
          565,
          575,
          575
         ],
         "yaxis": "y"
        },
        {
         "hoverinfo": "text",
         "marker": {
          "color": "rgb(255,220,0)"
         },
         "mode": "lines",
         "type": "scatter",
         "x": [
          0,
          0,
          0,
          0
         ],
         "xaxis": "x2",
         "y": [
          570,
          570,
          585,
          585
         ],
         "yaxis": "y"
        },
        {
         "hoverinfo": "text",
         "marker": {
          "color": "rgb(255,220,0)"
         },
         "mode": "lines",
         "type": "scatter",
         "x": [
          0,
          -0.9155503795041794,
          -0.9155503795041794,
          0
         ],
         "xaxis": "x2",
         "y": [
          555,
          555,
          577.5,
          577.5
         ],
         "yaxis": "y"
        },
        {
         "hoverinfo": "text",
         "marker": {
          "color": "rgb(255,220,0)"
         },
         "mode": "lines",
         "type": "scatter",
         "x": [
          -1.7323179083156426,
          -2.139251981597515,
          -2.139251981597515,
          -0.9155503795041794
         ],
         "xaxis": "x2",
         "y": [
          540,
          540,
          566.25,
          566.25
         ],
         "yaxis": "y"
        },
        {
         "hoverinfo": "text",
         "marker": {
          "color": "rgb(0,116,217)"
         },
         "mode": "lines",
         "type": "scatter",
         "x": [
          -1.6283284446418183,
          -2.9731035685113483,
          -2.9731035685113483,
          -2.139251981597515
         ],
         "xaxis": "x2",
         "y": [
          429.55078125,
          429.55078125,
          553.125,
          553.125
         ],
         "yaxis": "y"
        },
        {
         "hoverinfo": "text",
         "marker": {
          "color": "rgb(0,116,217)"
         },
         "mode": "lines",
         "type": "scatter",
         "x": [
          -2.8265539173120016,
          -3.5471077621717817,
          -3.5471077621717817,
          -2.9731035685113483
         ],
         "xaxis": "x2",
         "y": [
          176.2548828125,
          176.2548828125,
          491.337890625,
          491.337890625
         ],
         "yaxis": "y"
        },
        {
         "colorbar": {
          "title": {
           "text": "Correlación (abs)"
          }
         },
         "type": "heatmap",
         "x": [
          5,
          15,
          25,
          35,
          45,
          55,
          65,
          75,
          85,
          95,
          105,
          115,
          125,
          135,
          145,
          155,
          165,
          175,
          185,
          195,
          205,
          215,
          225,
          235,
          245,
          255,
          265,
          275,
          285,
          295,
          305,
          315,
          325,
          335,
          345,
          355,
          365,
          375,
          385,
          395,
          405,
          415,
          425,
          435,
          445,
          455,
          465,
          475,
          485,
          495,
          505,
          515,
          525,
          535,
          545,
          555,
          565,
          575,
          585
         ],
         "y": [
          5,
          15,
          25,
          35,
          45,
          55,
          65,
          75,
          85,
          95,
          105,
          115,
          125,
          135,
          145,
          155,
          165,
          175,
          185,
          195,
          205,
          215,
          225,
          235,
          245,
          255,
          265,
          275,
          285,
          295,
          305,
          315,
          325,
          335,
          345,
          355,
          365,
          375,
          385,
          395,
          405,
          415,
          425,
          435,
          445,
          455,
          465,
          475,
          485,
          495,
          505,
          515,
          525,
          535,
          545,
          555,
          565,
          575,
          585
         ],
         "z": [
          [
           1,
           0.9964468837907493,
           0.9964468837907493,
           0.9964468837907493,
           0.9075470878163188,
           0.8604354490248182,
           0.8604354490248182,
           0.8604354490248182,
           0.5309189742597004,
           0.5577785650649603,
           0.5891431089875478,
           0.597043035283676,
           0.5123201796241794,
           0.5472910465331224,
           0.6017362324073491,
           0.5279889997534616,
           0.49336422635084765,
           0.43661747401009854,
           0.43661747401009854,
           0.3479878613721205,
           0.29765969900220574,
           0.5933049918718245,
           0.42063447276628707,
           0.4550100142278063,
           0.4614873089191161,
           0.4614873089191161,
           0.4421472504057532,
           0.36728080937031155,
           0.3423274031030006,
           0.3423274031030006,
           0.3423274031030006,
           0.2332253609298242,
           0.08206880266004143,
           0.08206880266004143,
           0.26040609170675166,
           0.3240578671822735,
           0.0642476147079002,
           0.06623107250050131,
           0.18529330298222052,
           0.2513072341355524,
           0.31087378438466684,
           0.18263466931958228,
           0.18263466931958228,
           0.0738265763232332,
           0.030760473318362958,
           0.030760473318362958,
           0.015948946628449166,
           0.14156290455989917,
           0.14156290455989917,
           0.27795563904630716,
           0.21039558997830404,
           0.14181666335871276,
           0.13337781439295146,
           0.11949291842267666,
           0.239949073048688,
           0.4222529634725271,
           0.3420213569795332,
           0.3420213569795332,
           0.3420213569795332
          ],
          [
           0.9964468837907493,
           1,
           1,
           1,
           0.9396921790511394,
           0.8909118577774785,
           0.8909118577774785,
           0.8909118577774785,
           0.5497742461344434,
           0.570776691446072,
           0.601022726296427,
           0.6091367554095051,
           0.5350963696872163,
           0.5612944090584414,
           0.6309971135270699,
           0.5414697627994691,
           0.5121865945859027,
           0.45196685387218416,
           0.45196685387218416,
           0.3797839839062706,
           0.3180419581146699,
           0.6068934976447125,
           0.44209860904856085,
           0.4665129737787905,
           0.4907249630425602,
           0.4907249630425602,
           0.4745644051593947,
           0.404329916901618,
           0.37547515158017053,
           0.37547515158017053,
           0.37547515158017053,
           0.26470626945084197,
           0.06429210103699219,
           0.06429210103699219,
           0.2945586939727216,
           0.3052003936603368,
           0.08084861553688859,
           0.05905953160727838,
           0.1846349343439288,
           0.2381181874805562,
           0.2866409708291216,
           0.1573490541545511,
           0.1573490541545511,
           0.053906014758734334,
           0.008247605219254417,
           0.008247605219254417,
           0.031189254764986914,
           0.17026895731801991,
           0.17026895731801991,
           0.2769680303597591,
           0.20964802999719725,
           0.1676359265199184,
           0.13290390751867745,
           0.11906834619733839,
           0.24844800930049146,
           0.36109816925326216,
           0.2616618962644557,
           0.2616618962644557,
           0.2616618962644557
          ],
          [
           0.9964468837907493,
           1,
           1,
           1,
           0.9396921790511394,
           0.8909118577774785,
           0.8909118577774785,
           0.8909118577774785,
           0.5497742461344434,
           0.570776691446072,
           0.601022726296427,
           0.6091367554095051,
           0.5350963696872163,
           0.5612944090584414,
           0.6309971135270699,
           0.5414697627994691,
           0.5121865945859027,
           0.45196685387218416,
           0.45196685387218416,
           0.3797839839062706,
           0.3180419581146699,
           0.6068934976447125,
           0.44209860904856085,
           0.4665129737787905,
           0.4907249630425602,
           0.4907249630425602,
           0.4745644051593947,
           0.404329916901618,
           0.37547515158017053,
           0.37547515158017053,
           0.37547515158017053,
           0.26470626945084197,
           0.06429210103699219,
           0.06429210103699219,
           0.2945586939727216,
           0.3052003936603368,
           0.08084861553688859,
           0.05905953160727838,
           0.1846349343439288,
           0.2381181874805562,
           0.2866409708291216,
           0.1573490541545511,
           0.1573490541545511,
           0.053906014758734334,
           0.008247605219254417,
           0.008247605219254417,
           0.031189254764986914,
           0.17026895731801991,
           0.17026895731801991,
           0.2769680303597591,
           0.20964802999719725,
           0.1676359265199184,
           0.13290390751867745,
           0.11906834619733839,
           0.24844800930049146,
           0.36109816925326216,
           0.2616618962644557,
           0.2616618962644557,
           0.2616618962644557
          ],
          [
           0.9964468837907493,
           1,
           1,
           1,
           0.9396921790511394,
           0.8909118577774785,
           0.8909118577774785,
           0.8909118577774785,
           0.5497742461344434,
           0.570776691446072,
           0.601022726296427,
           0.6091367554095051,
           0.5350963696872163,
           0.5612944090584414,
           0.6309971135270699,
           0.5414697627994691,
           0.5121865945859027,
           0.45196685387218416,
           0.45196685387218416,
           0.3797839839062706,
           0.3180419581146699,
           0.6068934976447125,
           0.44209860904856085,
           0.4665129737787905,
           0.4907249630425602,
           0.4907249630425602,
           0.4745644051593947,
           0.404329916901618,
           0.37547515158017053,
           0.37547515158017053,
           0.37547515158017053,
           0.26470626945084197,
           0.06429210103699219,
           0.06429210103699219,
           0.2945586939727216,
           0.3052003936603368,
           0.08084861553688859,
           0.05905953160727838,
           0.1846349343439288,
           0.2381181874805562,
           0.2866409708291216,
           0.1573490541545511,
           0.1573490541545511,
           0.053906014758734334,
           0.008247605219254417,
           0.008247605219254417,
           0.031189254764986914,
           0.17026895731801991,
           0.17026895731801991,
           0.2769680303597591,
           0.20964802999719725,
           0.1676359265199184,
           0.13290390751867745,
           0.11906834619733839,
           0.24844800930049146,
           0.36109816925326216,
           0.2616618962644557,
           0.2616618962644557,
           0.2616618962644557
          ],
          [
           0.9075470878163188,
           0.9396921790511394,
           0.9396921790511394,
           0.9396921790511394,
           1,
           0.9480890419638086,
           0.9480890419638086,
           0.9480890419638086,
           0.5852549033170916,
           0.5809025609372108,
           0.6043459847934526,
           0.6127230439149856,
           0.5875963605099817,
           0.576211090427053,
           0.7026633314148767,
           0.5557458592257114,
           0.5503428068101325,
           0.4805203114539255,
           0.4805203114539255,
           0.4805203114539255,
           0.3770423990824852,
           0.6167175774889707,
           0.4962208480456557,
           0.4783594713337454,
           0.5727803201229653,
           0.5727803201229653,
           0.5707391022701177,
           0.5245634816554258,
           0.4820222907622677,
           0.4820222907622677,
           0.4820222907622677,
           0.3727630673212234,
           0.012701837109633565,
           0.012701837109633565,
           0.41123383845311196,
           0.2058129132953055,
           0.1422208584048713,
           0.025522891709019016,
           0.16816239751338102,
           0.16676297586405409,
           0.1668119734185335,
           0.042907596804799664,
           0.042907596804799664,
           0.03101765040189288,
           0.08379073969923054,
           0.08379073969923054,
           0.09074726536823846,
           0.2741153342721595,
           0.2741153342721595,
           0.2522578307585999,
           0.19094390497420607,
           0.2599561949990696,
           0.1210466470316286,
           0.10844545012917314,
           0.2643929734004634,
           0.08576894075984084,
           0.08422355836525108,
           0.08422355836525108,
           0.08422355836525108
          ],
          [
           0.8604354490248182,
           0.8909118577774785,
           0.8909118577774785,
           0.8909118577774785,
           0.9480890419638086,
           1,
           1,
           1,
           0.5403957024313496,
           0.5525450461188913,
           0.581867182760178,
           0.588301629380891,
           0.5605853338279567,
           0.5432115484931351,
           0.6758322684795537,
           0.5198382114969027,
           0.5142488731500773,
           0.4508426060373453,
           0.4508426060373453,
           0.4508426060373453,
           0.35757339373821195,
           0.5879161086266498,
           0.4510272339373128,
           0.4341774343639014,
           0.5452455775741811,
           0.5452455775741811,
           0.5420136741427991,
           0.5120233819623299,
           0.4446285722014271,
           0.4446285722014271,
           0.4446285722014271,
           0.35042959974549853,
           0.032922979963184475,
           0.032922979963184475,
           0.4689182188791279,
           0.15234708112618522,
           0.2118433539699705,
           0.023846493643268973,
           0.1594329263527986,
           0.23085424725265744,
           0.15815260406646972,
           0.02718347321357576,
           0.02718347321357576,
           0.0068666268102511255,
           0.061424466492146695,
           0.061424466492146695,
           0.07144309145255129,
           0.25988574465768094,
           0.25988574465768094,
           0.23916288509178954,
           0.18103182393582357,
           0.2464616198692249,
           0.11476299961714806,
           0.10281594291830175,
           0.05602070420949957,
           0.09858303709087159,
           0.0798514327612938,
           0.0798514327612938,
           0.0798514327612938
          ],
          [
           0.8604354490248182,
           0.8909118577774785,
           0.8909118577774785,
           0.8909118577774785,
           0.9480890419638086,
           1,
           1,
           1,
           0.5403957024313496,
           0.5525450461188913,
           0.581867182760178,
           0.588301629380891,
           0.5605853338279567,
           0.5432115484931351,
           0.6758322684795537,
           0.5198382114969027,
           0.5142488731500773,
           0.4508426060373453,
           0.4508426060373453,
           0.4508426060373453,
           0.35757339373821195,
           0.5879161086266498,
           0.4510272339373128,
           0.4341774343639014,
           0.5452455775741811,
           0.5452455775741811,
           0.5420136741427991,
           0.5120233819623299,
           0.4446285722014271,
           0.4446285722014271,
           0.4446285722014271,
           0.35042959974549853,
           0.032922979963184475,
           0.032922979963184475,
           0.4689182188791279,
           0.15234708112618522,
           0.2118433539699705,
           0.023846493643268973,
           0.1594329263527986,
           0.23085424725265744,
           0.15815260406646972,
           0.02718347321357576,
           0.02718347321357576,
           0.0068666268102511255,
           0.061424466492146695,
           0.061424466492146695,
           0.07144309145255129,
           0.25988574465768094,
           0.25988574465768094,
           0.23916288509178954,
           0.18103182393582357,
           0.2464616198692249,
           0.11476299961714806,
           0.10281594291830175,
           0.05602070420949957,
           0.09858303709087159,
           0.0798514327612938,
           0.0798514327612938,
           0.0798514327612938
          ],
          [
           0.8604354490248182,
           0.8909118577774785,
           0.8909118577774785,
           0.8909118577774785,
           0.9480890419638086,
           1,
           1,
           1,
           0.5403957024313496,
           0.5525450461188913,
           0.581867182760178,
           0.588301629380891,
           0.5605853338279567,
           0.5432115484931351,
           0.6758322684795537,
           0.5198382114969027,
           0.5142488731500773,
           0.4508426060373453,
           0.4508426060373453,
           0.4508426060373453,
           0.35757339373821195,
           0.5879161086266498,
           0.4510272339373128,
           0.4341774343639014,
           0.5452455775741811,
           0.5452455775741811,
           0.5420136741427991,
           0.5120233819623299,
           0.4446285722014271,
           0.4446285722014271,
           0.4446285722014271,
           0.35042959974549853,
           0.032922979963184475,
           0.032922979963184475,
           0.4689182188791279,
           0.15234708112618522,
           0.2118433539699705,
           0.023846493643268973,
           0.1594329263527986,
           0.23085424725265744,
           0.15815260406646972,
           0.02718347321357576,
           0.02718347321357576,
           0.0068666268102511255,
           0.061424466492146695,
           0.061424466492146695,
           0.07144309145255129,
           0.25988574465768094,
           0.25988574465768094,
           0.23916288509178954,
           0.18103182393582357,
           0.2464616198692249,
           0.11476299961714806,
           0.10281594291830175,
           0.05602070420949957,
           0.09858303709087159,
           0.0798514327612938,
           0.0798514327612938,
           0.0798514327612938
          ],
          [
           0.5309189742597004,
           0.5497742461344434,
           0.5497742461344434,
           0.5497742461344434,
           0.5852549033170916,
           0.5403957024313496,
           0.5403957024313496,
           0.5403957024313496,
           1,
           0.8378383756926141,
           0.8905298690675065,
           0.8959744948465692,
           0.9095684034130597,
           0.9145102023146623,
           0.7502766240118605,
           0.8473262959250722,
           0.8668998581043015,
           0.7754596553712353,
           0.7754596553712353,
           0.7509978590159596,
           0.6024187896136562,
           0.7882538698360319,
           0.77110814454745,
           0.7187689547462708,
           0.5425396120324798,
           0.5425396120324798,
           0.6527413609383187,
           0.6277762428378981,
           0.6679088938252378,
           0.6679088938252378,
           0.6679088938252378,
           0.5662828643789316,
           0.31262684849409783,
           0.31262684849409783,
           0.38281149531709163,
           0.440229486861374,
           0.5194659081045865,
           0.7217955665919372,
           0.12414449083738327,
           0.14336824502990617,
           0.003529323252709044,
           0.06648817897351754,
           0.06648817897351754,
           0.059775628028730356,
           0.031019908554216317,
           0.031019908554216317,
           0.06459333325590443,
           0.016733827900990445,
           0.016733827900990445,
           0.002267565357773273,
           0.02430016136869525,
           0.06946068101937179,
           0.030242176287585833,
           0.1339249820072048,
           0.1986449513561076,
           0.07550824512851587,
           0.049831840186190045,
           0.049831840186190045,
           0.049831840186190045
          ],
          [
           0.5577785650649603,
           0.570776691446072,
           0.570776691446072,
           0.570776691446072,
           0.5809025609372108,
           0.5525450461188913,
           0.5525450461188913,
           0.5525450461188913,
           0.8378383756926141,
           1,
           0.956818274084537,
           0.9571757224823869,
           0.9218157456270573,
           0.9335980173949051,
           0.8875463486519887,
           0.8998493294415266,
           0.8931948188122025,
           0.8622890092191344,
           0.8622890092191344,
           0.8289770328067988,
           0.8176617244220107,
           0.8673180878874643,
           0.8384762418923409,
           0.7731492734537244,
           0.674247486412046,
           0.674247486412046,
           0.755050295281412,
           0.7338164089596924,
           0.7419084152296544,
           0.7419084152296544,
           0.7419084152296544,
           0.6674329181501311,
           0.41555766422343093,
           0.41555766422343093,
           0.45510569330901524,
           0.4769140846381047,
           0.5771677222617357,
           0.6284270481365569,
           0.11375338848319172,
           0.16601206886952435,
           0.1452208972281486,
           0.07008687042468176,
           0.07008687042468176,
           0.005798910417488819,
           0.039628892120462056,
           0.039628892120462056,
           0.05764086201638962,
           0.1000943751452733,
           0.1000943751452733,
           0.1110883554611743,
           0.23973513513317674,
           0.1330547632380979,
           0.15981346942769725,
           0.15521478578242795,
           0.14813468233688734,
           0.10634986672104864,
           0.02363879460656318,
           0.02363879460656318,
           0.02363879460656318
          ],
          [
           0.5891431089875478,
           0.601022726296427,
           0.601022726296427,
           0.601022726296427,
           0.6043459847934526,
           0.581867182760178,
           0.581867182760178,
           0.581867182760178,
           0.8905298690675065,
           0.956818274084537,
           1,
           0.9995715591839943,
           0.9790124809341144,
           0.982865798750918,
           0.9066049840828813,
           0.9325233091057196,
           0.9231458886038472,
           0.8848424454059953,
           0.8848424454059953,
           0.8387664042375226,
           0.8288671680658172,
           0.895830262553189,
           0.8677621676021727,
           0.7967428900858272,
           0.73347908241674,
           0.73347908241674,
           0.7890468642932883,
           0.7632178830112404,
           0.7729020013784415,
           0.7729020013784415,
           0.7729020013784415,
           0.6844467825125898,
           0.41495698024508815,
           0.41495698024508815,
           0.5403798667916934,
           0.5075435113592426,
           0.6120513274910192,
           0.6741123363591098,
           0.08813242744870742,
           0.16719602582175247,
           0.17581536996339528,
           0.09947168590131894,
           0.09947168590131894,
           0.016867516378298943,
           0.05209889591278342,
           0.05209889591278342,
           0.06679782526471446,
           0.12268674271244172,
           0.12268674271244172,
           0.14491973122263102,
           0.15383783912102358,
           0.04800031833554973,
           0.0634394787132802,
           0.08291226587433578,
           0.13281385035043605,
           0.11543985392748234,
           0.04560210609574801,
           0.04560210609574801,
           0.04560210609574801
          ],
          [
           0.597043035283676,
           0.6091367554095051,
           0.6091367554095051,
           0.6091367554095051,
           0.6127230439149856,
           0.588301629380891,
           0.588301629380891,
           0.588301629380891,
           0.8959744948465692,
           0.9571757224823869,
           0.9995715591839943,
           1,
           0.9784132255555225,
           0.9830293476197656,
           0.9075549938488746,
           0.9317862209063567,
           0.9227575148834106,
           0.8831989743501031,
           0.8831989743501031,
           0.8371229331816303,
           0.8243078803150283,
           0.8965149516300388,
           0.8660577861251426,
           0.7984090894982095,
           0.7316248018231881,
           0.7316248018231881,
           0.787169750602508,
           0.7607627518844028,
           0.7711747634416707,
           0.7711747634416707,
           0.7711747634416707,
           0.6821337621920537,
           0.4096276234968113,
           0.4096276234968113,
           0.535626242747437,
           0.4977940800038817,
           0.6046818991547849,
           0.6704921346777297,
           0.08813242744870742,
           0.1648273561747586,
           0.17581536996339528,
           0.09947168590131894,
           0.09947168590131894,
           0.016867516378298943,
           0.05209889591278342,
           0.05209889591278342,
           0.06679782526471446,
           0.12268674271244172,
           0.12268674271244172,
           0.14491973122263102,
           0.15383783912102358,
           0.04800031833554973,
           0.0634394787132802,
           0.08291226587433578,
           0.13960124967630344,
           0.11942125359589918,
           0.04560210609574801,
           0.04560210609574801,
           0.04560210609574801
          ],
          [
           0.5123201796241794,
           0.5350963696872163,
           0.5350963696872163,
           0.5350963696872163,
           0.5875963605099817,
           0.5605853338279567,
           0.5605853338279567,
           0.5605853338279567,
           0.9095684034130597,
           0.9218157456270573,
           0.9790124809341144,
           0.9784132255555225,
           1,
           0.9871323223726475,
           0.8993819264598456,
           0.9496205491234653,
           0.9515375771031095,
           0.9101327349548252,
           0.9101327349548252,
           0.8940983751463283,
           0.8338224648844667,
           0.90231636048332,
           0.9026495946683026,
           0.8106614245523744,
           0.7553210927923869,
           0.7553210927923869,
           0.8358872810365999,
           0.8198513116128114,
           0.8243227354897031,
           0.8243227354897031,
           0.8243227354897031,
           0.7501466577260204,
           0.48276568920417623,
           0.48276568920417623,
           0.5688937281642181,
           0.5584181287340826,
           0.5968332715970164,
           0.6983001256258313,
           0.032329549776339235,
           0.24901194122940695,
           0.14557457289725867,
           0.07674988453268378,
           0.07674988453268378,
           0.08784008228187053,
           0.12580417558178694,
           0.12580417558178694,
           0.11330773184211694,
           0.18953311594681424,
           0.18953311594681424,
           0.15828567174827732,
           0.1398652627008542,
           0.07948989359814941,
           0.1012020973529666,
           0.13961106607799248,
           0.1447671669912528,
           0.0032700522499714327,
           0.09920186865926313,
           0.09920186865926313,
           0.09920186865926313
          ],
          [
           0.5472910465331224,
           0.5612944090584414,
           0.5612944090584414,
           0.5612944090584414,
           0.576211090427053,
           0.5432115484931351,
           0.5432115484931351,
           0.5432115484931351,
           0.9145102023146623,
           0.9335980173949051,
           0.982865798750918,
           0.9830293476197656,
           0.9871323223726475,
           1,
           0.8883128436048705,
           0.9643249499062505,
           0.9604754413935633,
           0.9165372184099708,
           0.9165372184099708,
           0.8785219363776917,
           0.8244066251492633,
           0.9275497435948842,
           0.914741879918441,
           0.8495570162021508,
           0.7423037084114622,
           0.7423037084114622,
           0.8260210571414874,
           0.8023138162959498,
           0.8218170243051764,
           0.8218170243051764,
           0.8218170243051764,
           0.7576044718368475,
           0.4996092108469407,
           0.4996092108469407,
           0.5283613907896011,
           0.509440360904119,
           0.6079014602298023,
           0.689563082954938,
           0.07069601572820254,
           0.29023056653592694,
           0.21966673414625354,
           0.14683351969394384,
           0.14683351969394384,
           0.09304161090834545,
           0.13082872682899227,
           0.13082872682899227,
           0.13164841784810902,
           0.19705662073769786,
           0.19705662073769786,
           0.20757009655922973,
           0.18350231294219357,
           0.08978568009564343,
           0.12887415894759435,
           0.14731817862945532,
           0.16171076638049842,
           0.10247235765745705,
           0.009252052847773383,
           0.009252052847773383,
           0.009252052847773383
          ],
          [
           0.6017362324073491,
           0.6309971135270699,
           0.6309971135270699,
           0.6309971135270699,
           0.7026633314148767,
           0.6758322684795537,
           0.6758322684795537,
           0.6758322684795537,
           0.7502766240118605,
           0.8875463486519887,
           0.9066049840828813,
           0.9075549938488746,
           0.8993819264598456,
           0.8883128436048705,
           1,
           0.8921685893219349,
           0.8827996109833958,
           0.8599528791684432,
           0.8599528791684432,
           0.8599528791684432,
           0.8892327559585307,
           0.9096087381760758,
           0.8884854143132692,
           0.8284904024013465,
           0.8913296215435247,
           0.8913296215435247,
           0.8920077329241802,
           0.885452552221369,
           0.8674004855348063,
           0.8674004855348063,
           0.8674004855348063,
           0.7805415602622953,
           0.5095243432946025,
           0.5095243432946025,
           0.6316067518231372,
           0.38784272276988235,
           0.4094492558110527,
           0.4352840517131485,
           0.2885410879978933,
           0.22568434214384916,
           0.30239748839548647,
           0.22115140713459422,
           0.22115140713459422,
           0.2527799495977336,
           0.303276519466103,
           0.303276519466103,
           0.3022780255223634,
           0.396760607653404,
           0.396760607653404,
           0.35581734748381993,
           0.40012353881255097,
           0.3527583574307289,
           0.20769762889604299,
           0.028102595126064174,
           0.1565292289563218,
           0.027125465526968963,
           0.14451481142703057,
           0.14451481142703057,
           0.14451481142703057
          ],
          [
           0.5279889997534616,
           0.5414697627994691,
           0.5414697627994691,
           0.5414697627994691,
           0.5557458592257114,
           0.5198382114969027,
           0.5198382114969027,
           0.5198382114969027,
           0.8473262959250722,
           0.8998493294415266,
           0.9325233091057196,
           0.9317862209063567,
           0.9496205491234653,
           0.9643249499062505,
           0.8921685893219349,
           1,
           0.9945664108211634,
           0.9659141216493848,
           0.9659141216493848,
           0.9339895804757258,
           0.8429276810883655,
           0.9760972365269428,
           0.9679922351513445,
           0.9031806961978444,
           0.7924178872104114,
           0.7924178872104114,
           0.8921330847645287,
           0.869077924554275,
           0.8831837393324978,
           0.8831837393324978,
           0.8831837393324978,
           0.8213414462604488,
           0.6069198352871196,
           0.6069198352871196,
           0.5004838421022587,
           0.47780787190442164,
           0.5796949441049155,
           0.5931162979397152,
           0.07065149801168676,
           0.3754041558597524,
           0.36134342647944884,
           0.2894021020016203,
           0.2894021020016203,
           0.24616176712738888,
           0.28864286116568166,
           0.28864286116568166,
           0.2811360723495725,
           0.3519938791478395,
           0.3519938791478395,
           0.36551526395725753,
           0.3299865241487806,
           0.24215719204179612,
           0.36899591317068625,
           0.1434236187881006,
           0.16834118079580038,
           0.10635687685777186,
           0.009246226773112405,
           0.009246226773112405,
           0.009246226773112405
          ],
          [
           0.49336422635084765,
           0.5121865945859027,
           0.5121865945859027,
           0.5121865945859027,
           0.5503428068101325,
           0.5142488731500773,
           0.5142488731500773,
           0.5142488731500773,
           0.8668998581043015,
           0.8931948188122025,
           0.9231458886038472,
           0.9227575148834106,
           0.9515375771031095,
           0.9604754413935633,
           0.8827996109833958,
           0.9945664108211634,
           1,
           0.9607430018827922,
           0.9607430018827922,
           0.9434035341761469,
           0.8271692299509674,
           0.9655231951359453,
           0.9677987939341502,
           0.8972112472451945,
           0.77229680721318,
           0.77229680721318,
           0.8879131833942812,
           0.870871748669025,
           0.8897446393609187,
           0.8897446393609187,
           0.8897446393609187,
           0.8218203154322615,
           0.6092904192156354,
           0.6092904192156354,
           0.4959720226213032,
           0.5084905941114488,
           0.5765231352525927,
           0.6234301309764959,
           0.032329549776339235,
           0.39097161120424184,
           0.3227585101827089,
           0.2592493844104783,
           0.2592493844104783,
           0.25690393988071347,
           0.297221855459598,
           0.297221855459598,
           0.28439778336292904,
           0.3519667525450961,
           0.3519667525450961,
           0.3384198355900108,
           0.2995975669808757,
           0.23148523622164366,
           0.3689674762967987,
           0.14341256576768927,
           0.1683282074897081,
           0.048680589155235106,
           0.06082049075986057,
           0.06082049075986057,
           0.06082049075986057
          ],
          [
           0.43661747401009854,
           0.45196685387218416,
           0.45196685387218416,
           0.45196685387218416,
           0.4805203114539255,
           0.4508426060373453,
           0.4508426060373453,
           0.4508426060373453,
           0.7754596553712353,
           0.8622890092191344,
           0.8848424454059953,
           0.8831989743501031,
           0.9101327349548252,
           0.9165372184099708,
           0.8599528791684432,
           0.9659141216493848,
           0.9607430018827922,
           1,
           1,
           0.9760283253301674,
           0.8382910208790105,
           0.9251987061844641,
           0.9334621881353824,
           0.8316310449539354,
           0.7578875210375914,
           0.7578875210375914,
           0.8551807602707848,
           0.845339700112379,
           0.842304428454472,
           0.842304428454472,
           0.842304428454472,
           0.8263320135583585,
           0.6155343753589658,
           0.6155343753589658,
           0.4351340061570871,
           0.4747838181899877,
           0.5419618920492933,
           0.5749304628997906,
           0.010776516592113079,
           0.4053797134683844,
           0.3360560907122722,
           0.2531960368054884,
           0.2531960368054884,
           0.2169939544121075,
           0.26218658717231996,
           0.26218658717231996,
           0.2643998272925442,
           0.33871320971616287,
           0.33871320971616287,
           0.3319757415135821,
           0.296625103341575,
           0.21281585591786312,
           0.42068181986964187,
           0.12202913001314478,
           0.14140130406290205,
           0.050654960325029176,
           0.03923096569144663,
           0.03923096569144663,
           0.03923096569144663
          ],
          [
           0.43661747401009854,
           0.45196685387218416,
           0.45196685387218416,
           0.45196685387218416,
           0.4805203114539255,
           0.4508426060373453,
           0.4508426060373453,
           0.4508426060373453,
           0.7754596553712353,
           0.8622890092191344,
           0.8848424454059953,
           0.8831989743501031,
           0.9101327349548252,
           0.9165372184099708,
           0.8599528791684432,
           0.9659141216493848,
           0.9607430018827922,
           1,
           1,
           0.9760283253301674,
           0.8382910208790105,
           0.9251987061844641,
           0.9334621881353824,
           0.8316310449539354,
           0.7578875210375914,
           0.7578875210375914,
           0.8551807602707848,
           0.845339700112379,
           0.842304428454472,
           0.842304428454472,
           0.842304428454472,
           0.8263320135583585,
           0.6155343753589658,
           0.6155343753589658,
           0.4351340061570871,
           0.4747838181899877,
           0.5419618920492933,
           0.5749304628997906,
           0.010776516592113079,
           0.4053797134683844,
           0.3360560907122722,
           0.2531960368054884,
           0.2531960368054884,
           0.2169939544121075,
           0.26218658717231996,
           0.26218658717231996,
           0.2643998272925442,
           0.33871320971616287,
           0.33871320971616287,
           0.3319757415135821,
           0.296625103341575,
           0.21281585591786312,
           0.42068181986964187,
           0.12202913001314478,
           0.14140130406290205,
           0.050654960325029176,
           0.03923096569144663,
           0.03923096569144663,
           0.03923096569144663
          ],
          [
           0.3479878613721205,
           0.3797839839062706,
           0.3797839839062706,
           0.3797839839062706,
           0.4805203114539255,
           0.4508426060373453,
           0.4508426060373453,
           0.4508426060373453,
           0.7509978590159596,
           0.8289770328067988,
           0.8387664042375226,
           0.8371229331816303,
           0.8940983751463283,
           0.8785219363776917,
           0.8599528791684432,
           0.9339895804757258,
           0.9434035341761469,
           0.9760283253301674,
           0.9760283253301674,
           1,
           0.8382910208790105,
           0.894588488850099,
           0.932637450787738,
           0.8116066186932042,
           0.7821096043361802,
           0.7821096043361802,
           0.886067584640692,
           0.8903110008570618,
           0.8801422548327791,
           0.8801422548327791,
           0.8801422548327791,
           0.8683691454422823,
           0.655156806861353,
           0.655156806861353,
           0.48384624051100017,
           0.5176914565102566,
           0.4821325254555721,
           0.5619802331948656,
           0.010776516592113079,
           0.4504206734175669,
           0.26222079327945197,
           0.18703381001096617,
           0.18703381001096617,
           0.2761371860402861,
           0.32404382893435657,
           0.32404382893435657,
           0.3060136984021262,
           0.40238224170089926,
           0.40238224170089926,
           0.3173802719293993,
           0.296625103341575,
           0.2826606627090752,
           0.42068181986964187,
           0.09209231995678248,
           0.14140130406290205,
           0.12243157889358453,
           0.2495289320985898,
           0.2495289320985898,
           0.2495289320985898
          ],
          [
           0.29765969900220574,
           0.3180419581146699,
           0.3180419581146699,
           0.3180419581146699,
           0.3770423990824852,
           0.35757339373821195,
           0.35757339373821195,
           0.35757339373821195,
           0.6024187896136562,
           0.8176617244220107,
           0.8288671680658172,
           0.8243078803150283,
           0.8338224648844667,
           0.8244066251492633,
           0.8892327559585307,
           0.8429276810883655,
           0.8271692299509674,
           0.8382910208790105,
           0.8382910208790105,
           0.8382910208790105,
           1,
           0.8274967018516838,
           0.8761335351407161,
           0.7908236073405892,
           0.8483613735041695,
           0.8483613735041695,
           0.8495495671421616,
           0.8606274331889737,
           0.854798883679441,
           0.854798883679441,
           0.854798883679441,
           0.827189261271187,
           0.6864130934438853,
           0.6864130934438853,
           0.6625518655138233,
           0.6079747537345052,
           0.6149231427585992,
           0.5139952474258347,
           0.2743380754104577,
           0.4031957776141031,
           0.30933006238781113,
           0.2565012227455928,
           0.2565012227455928,
           0.27822946504797547,
           0.31863493886110267,
           0.31863493886110267,
           0.3316773817786563,
           0.3606711427889107,
           0.3606711427889107,
           0.32096926354590577,
           0.39674296939102033,
           0.2937108406717541,
           0.19747401721543353,
           0.00883349792229151,
           0.09937309152607308,
           0.05479769030824186,
           0.13740128142681102,
           0.13740128142681102,
           0.13740128142681102
          ],
          [
           0.5933049918718245,
           0.6068934976447125,
           0.6068934976447125,
           0.6068934976447125,
           0.6167175774889707,
           0.5879161086266498,
           0.5879161086266498,
           0.5879161086266498,
           0.7882538698360319,
           0.8673180878874643,
           0.895830262553189,
           0.8965149516300388,
           0.90231636048332,
           0.9275497435948842,
           0.9096087381760758,
           0.9760972365269428,
           0.9655231951359453,
           0.9251987061844641,
           0.9251987061844641,
           0.894588488850099,
           0.8274967018516838,
           1,
           0.9707652748595985,
           0.950329412573049,
           0.8499683775218991,
           0.8499683775218991,
           0.9343464291973597,
           0.9067427533099055,
           0.9172920114689589,
           0.9172920114689589,
           0.9172920114689589,
           0.8538023501878916,
           0.6314948771183951,
           0.6314948771183951,
           0.5555317282097276,
           0.36861658673305864,
           0.47239115964227163,
           0.4667399988863917,
           0.24234357885942195,
           0.41359432388146833,
           0.4915499890881038,
           0.4153817017574534,
           0.4153817017574534,
           0.3615155868432161,
           0.4102165391418768,
           0.4102165391418768,
           0.4105603415510597,
           0.4924261125462147,
           0.4924261125462147,
           0.5190790252931492,
           0.4747465087562953,
           0.392327109743909,
           0.4029064042356334,
           0.16332010680040765,
           0.15331192355469583,
           0.11280697408282885,
           0.027794301090376217,
           0.027794301090376217,
           0.027794301090376217
          ],
          [
           0.42063447276628707,
           0.44209860904856085,
           0.44209860904856085,
           0.44209860904856085,
           0.4962208480456557,
           0.4510272339373128,
           0.4510272339373128,
           0.4510272339373128,
           0.77110814454745,
           0.8384762418923409,
           0.8677621676021727,
           0.8660577861251426,
           0.9026495946683026,
           0.914741879918441,
           0.8884854143132692,
           0.9679922351513445,
           0.9677987939341502,
           0.9334621881353824,
           0.9334621881353824,
           0.932637450787738,
           0.8761335351407161,
           0.9707652748595985,
           1,
           0.9570574809010548,
           0.8633877368205923,
           0.8633877368205923,
           0.9548593095345775,
           0.9441565899064936,
           0.9673208491751655,
           0.9673208491751655,
           0.9673208491751655,
           0.917795693487848,
           0.749991883473187,
           0.749991883473187,
           0.5826433270724988,
           0.5084233767349736,
           0.5618608923319948,
           0.5502375551816802,
           0.2241943033512761,
           0.5300316829381366,
           0.43699525707284786,
           0.37639045312913233,
           0.37639045312913233,
           0.40472268745385725,
           0.45228430670266484,
           0.45228430670266484,
           0.43915888682249604,
           0.5108769353549817,
           0.5108769353549817,
           0.4847006031001691,
           0.45990097336569286,
           0.3916133844960866,
           0.3788878640415018,
           0.15190413942129366,
           0.19013583195927714,
           0.019112995433260293,
           0.11228694567083876,
           0.11228694567083876,
           0.11228694567083876
          ],
          [
           0.4550100142278063,
           0.4665129737787905,
           0.4665129737787905,
           0.4665129737787905,
           0.4783594713337454,
           0.4341774343639014,
           0.4341774343639014,
           0.4341774343639014,
           0.7187689547462708,
           0.7731492734537244,
           0.7967428900858272,
           0.7984090894982095,
           0.8106614245523744,
           0.8495570162021508,
           0.8284904024013465,
           0.9031806961978444,
           0.8972112472451945,
           0.8316310449539354,
           0.8316310449539354,
           0.8116066186932042,
           0.7908236073405892,
           0.950329412573049,
           0.9570574809010548,
           1,
           0.828054646533783,
           0.828054646533783,
           0.9180508006781581,
           0.8993441180432551,
           0.9425151068342682,
           0.9425151068342682,
           0.9425151068342682,
           0.884686173861116,
           0.7550847668365992,
           0.7550847668365992,
           0.5531551830953825,
           0.3966034379569661,
           0.5057835518529885,
           0.4641818787186441,
           0.4037202419600881,
           0.5615755172191534,
           0.5668856219207159,
           0.5132625031782461,
           0.5132625031782461,
           0.48403721364704894,
           0.5316267029033299,
           0.5316267029033299,
           0.5261649396936174,
           0.5782975654677827,
           0.5782975654677827,
           0.6023966083928373,
           0.5982635786290318,
           0.483818650812909,
           0.3689674762967987,
           0.14673887799617397,
           0.18515752213146186,
           0.11622053625527401,
           0.009245514207538377,
           0.009245514207538377,
           0.009245514207538377
          ],
          [
           0.4614873089191161,
           0.4907249630425602,
           0.4907249630425602,
           0.4907249630425602,
           0.5727803201229653,
           0.5452455775741811,
           0.5452455775741811,
           0.5452455775741811,
           0.5425396120324798,
           0.674247486412046,
           0.73347908241674,
           0.7316248018231881,
           0.7553210927923869,
           0.7423037084114622,
           0.8913296215435247,
           0.7924178872104114,
           0.77229680721318,
           0.7578875210375914,
           0.7578875210375914,
           0.7821096043361802,
           0.8483613735041695,
           0.8499683775218991,
           0.8633877368205923,
           0.828054646533783,
           1,
           1,
           0.9430316922827354,
           0.9301732362375251,
           0.9095640778322409,
           0.9095640778322409,
           0.9095640778322409,
           0.8620461892161981,
           0.6343711714226183,
           0.6343711714226183,
           0.7419637484475607,
           0.31876325095834873,
           0.31185016883698113,
           0.24428437218681684,
           0.4618049086060528,
           0.39095774547380985,
           0.45975087700604844,
           0.39507460180461756,
           0.39507460180461756,
           0.46337850291061167,
           0.5183142549855795,
           0.5183142549855795,
           0.5068794793646285,
           0.5999220957415762,
           0.5999220957415762,
           0.5518534863805682,
           0.5498979889412272,
           0.5046768191683986,
           0.22690219333010678,
           0.15292002904875368,
           0.1447706831202169,
           0.06871389887614308,
           0.18666396910265876,
           0.18666396910265876,
           0.18666396910265876
          ],
          [
           0.4614873089191161,
           0.4907249630425602,
           0.4907249630425602,
           0.4907249630425602,
           0.5727803201229653,
           0.5452455775741811,
           0.5452455775741811,
           0.5452455775741811,
           0.5425396120324798,
           0.674247486412046,
           0.73347908241674,
           0.7316248018231881,
           0.7553210927923869,
           0.7423037084114622,
           0.8913296215435247,
           0.7924178872104114,
           0.77229680721318,
           0.7578875210375914,
           0.7578875210375914,
           0.7821096043361802,
           0.8483613735041695,
           0.8499683775218991,
           0.8633877368205923,
           0.828054646533783,
           1,
           1,
           0.9430316922827354,
           0.9301732362375251,
           0.9095640778322409,
           0.9095640778322409,
           0.9095640778322409,
           0.8620461892161981,
           0.6343711714226183,
           0.6343711714226183,
           0.7419637484475607,
           0.31876325095834873,
           0.31185016883698113,
           0.24428437218681684,
           0.4618049086060528,
           0.39095774547380985,
           0.45975087700604844,
           0.39507460180461756,
           0.39507460180461756,
           0.46337850291061167,
           0.5183142549855795,
           0.5183142549855795,
           0.5068794793646285,
           0.5999220957415762,
           0.5999220957415762,
           0.5518534863805682,
           0.5498979889412272,
           0.5046768191683986,
           0.22690219333010678,
           0.15292002904875368,
           0.1447706831202169,
           0.06871389887614308,
           0.18666396910265876,
           0.18666396910265876,
           0.18666396910265876
          ],
          [
           0.4421472504057532,
           0.4745644051593947,
           0.4745644051593947,
           0.4745644051593947,
           0.5707391022701177,
           0.5420136741427991,
           0.5420136741427991,
           0.5420136741427991,
           0.6527413609383187,
           0.755050295281412,
           0.7890468642932883,
           0.787169750602508,
           0.8358872810365999,
           0.8260210571414874,
           0.8920077329241802,
           0.8921330847645287,
           0.8879131833942812,
           0.8551807602707848,
           0.8551807602707848,
           0.886067584640692,
           0.8495495671421616,
           0.9343464291973597,
           0.9548593095345775,
           0.9180508006781581,
           0.9430316922827354,
           0.9430316922827354,
           1,
           0.9893722744945731,
           0.9780379464301426,
           0.9780379464301426,
           0.9780379464301426,
           0.9366758857340857,
           0.7274671372699417,
           0.7274671372699417,
           0.700740021185754,
           0.40465085108306703,
           0.380696559233901,
           0.36601212646184306,
           0.3660773395932965,
           0.5020822289111014,
           0.471056112393148,
           0.4043465323703719,
           0.4043465323703719,
           0.5030321942585655,
           0.559693571708316,
           0.559693571708316,
           0.5353878207602022,
           0.6433876034377921,
           0.6433876034377921,
           0.5788824874502317,
           0.5597666108244839,
           0.5423502616246093,
           0.36904298882512654,
           0.15294761069767612,
           0.14816334668283254,
           0.10073410795294416,
           0.2279860568896788,
           0.2279860568896788,
           0.2279860568896788
          ],
          [
           0.36728080937031155,
           0.404329916901618,
           0.404329916901618,
           0.404329916901618,
           0.5245634816554258,
           0.5120233819623299,
           0.5120233819623299,
           0.5120233819623299,
           0.6277762428378981,
           0.7338164089596924,
           0.7632178830112404,
           0.7607627518844028,
           0.8198513116128114,
           0.8023138162959498,
           0.885452552221369,
           0.869077924554275,
           0.870871748669025,
           0.845339700112379,
           0.845339700112379,
           0.8903110008570618,
           0.8606274331889737,
           0.9067427533099055,
           0.9441565899064936,
           0.8993441180432551,
           0.9301732362375251,
           0.9301732362375251,
           0.9893722744945731,
           1,
           0.9825060848666559,
           0.9825060848666559,
           0.9825060848666559,
           0.9499203939031047,
           0.765655905844999,
           0.765655905844999,
           0.7204128595236129,
           0.45782915351645403,
           0.3784698674466485,
           0.38037633920395536,
           0.3660024338876923,
           0.5224160950327029,
           0.45687630144593777,
           0.39014449037092336,
           0.39014449037092336,
           0.5174258796200045,
           0.5759785652775978,
           0.5759785652775978,
           0.5570809492477716,
           0.6597802184657194,
           0.6597802184657194,
           0.5674545675299806,
           0.5598550770630601,
           0.5426756651329214,
           0.3620722304870863,
           0.13913587861678037,
           0.09413897877731019,
           0.19359120647157924,
           0.3023033267102683,
           0.3023033267102683,
           0.3023033267102683
          ],
          [
           0.3423274031030006,
           0.37547515158017053,
           0.37547515158017053,
           0.37547515158017053,
           0.4820222907622677,
           0.4446285722014271,
           0.4446285722014271,
           0.4446285722014271,
           0.6679088938252378,
           0.7419084152296544,
           0.7729020013784415,
           0.7711747634416707,
           0.8243227354897031,
           0.8218170243051764,
           0.8674004855348063,
           0.8831837393324978,
           0.8897446393609187,
           0.842304428454472,
           0.842304428454472,
           0.8801422548327791,
           0.854798883679441,
           0.9172920114689589,
           0.9673208491751655,
           0.9425151068342682,
           0.9095640778322409,
           0.9095640778322409,
           0.9780379464301426,
           0.9825060848666559,
           1,
           1,
           1,
           0.9493115276478866,
           0.7981106791025532,
           0.7981106791025532,
           0.6861602544913641,
           0.4932918684416809,
           0.4612076069236282,
           0.4482302032799032,
           0.3660024338876923,
           0.5816133934624684,
           0.4630177790924802,
           0.41366269848365106,
           0.41366269848365106,
           0.5305164810775265,
           0.5821709211356351,
           0.5821709211356351,
           0.5627233690787579,
           0.6409622864876635,
           0.6409622864876635,
           0.5620220724482803,
           0.5473804755604211,
           0.5166125880525327,
           0.3413864930579491,
           0.15624262722041596,
           0.16496234456135733,
           0.12243157889358453,
           0.26632078492957845,
           0.26632078492957845,
           0.26632078492957845
          ],
          [
           0.3423274031030006,
           0.37547515158017053,
           0.37547515158017053,
           0.37547515158017053,
           0.4820222907622677,
           0.4446285722014271,
           0.4446285722014271,
           0.4446285722014271,
           0.6679088938252378,
           0.7419084152296544,
           0.7729020013784415,
           0.7711747634416707,
           0.8243227354897031,
           0.8218170243051764,
           0.8674004855348063,
           0.8831837393324978,
           0.8897446393609187,
           0.842304428454472,
           0.842304428454472,
           0.8801422548327791,
           0.854798883679441,
           0.9172920114689589,
           0.9673208491751655,
           0.9425151068342682,
           0.9095640778322409,
           0.9095640778322409,
           0.9780379464301426,
           0.9825060848666559,
           1,
           1,
           1,
           0.9493115276478866,
           0.7981106791025532,
           0.7981106791025532,
           0.6861602544913641,
           0.4932918684416809,
           0.4612076069236282,
           0.4482302032799032,
           0.3660024338876923,
           0.5816133934624684,
           0.4630177790924802,
           0.41366269848365106,
           0.41366269848365106,
           0.5305164810775265,
           0.5821709211356351,
           0.5821709211356351,
           0.5627233690787579,
           0.6409622864876635,
           0.6409622864876635,
           0.5620220724482803,
           0.5473804755604211,
           0.5166125880525327,
           0.3413864930579491,
           0.15624262722041596,
           0.16496234456135733,
           0.12243157889358453,
           0.26632078492957845,
           0.26632078492957845,
           0.26632078492957845
          ],
          [
           0.3423274031030006,
           0.37547515158017053,
           0.37547515158017053,
           0.37547515158017053,
           0.4820222907622677,
           0.4446285722014271,
           0.4446285722014271,
           0.4446285722014271,
           0.6679088938252378,
           0.7419084152296544,
           0.7729020013784415,
           0.7711747634416707,
           0.8243227354897031,
           0.8218170243051764,
           0.8674004855348063,
           0.8831837393324978,
           0.8897446393609187,
           0.842304428454472,
           0.842304428454472,
           0.8801422548327791,
           0.854798883679441,
           0.9172920114689589,
           0.9673208491751655,
           0.9425151068342682,
           0.9095640778322409,
           0.9095640778322409,
           0.9780379464301426,
           0.9825060848666559,
           1,
           1,
           1,
           0.9493115276478866,
           0.7981106791025532,
           0.7981106791025532,
           0.6861602544913641,
           0.4932918684416809,
           0.4612076069236282,
           0.4482302032799032,
           0.3660024338876923,
           0.5816133934624684,
           0.4630177790924802,
           0.41366269848365106,
           0.41366269848365106,
           0.5305164810775265,
           0.5821709211356351,
           0.5821709211356351,
           0.5627233690787579,
           0.6409622864876635,
           0.6409622864876635,
           0.5620220724482803,
           0.5473804755604211,
           0.5166125880525327,
           0.3413864930579491,
           0.15624262722041596,
           0.16496234456135733,
           0.12243157889358453,
           0.26632078492957845,
           0.26632078492957845,
           0.26632078492957845
          ],
          [
           0.2332253609298242,
           0.26470626945084197,
           0.26470626945084197,
           0.26470626945084197,
           0.3727630673212234,
           0.35042959974549853,
           0.35042959974549853,
           0.35042959974549853,
           0.5662828643789316,
           0.6674329181501311,
           0.6844467825125898,
           0.6821337621920537,
           0.7501466577260204,
           0.7576044718368475,
           0.7805415602622953,
           0.8213414462604488,
           0.8218203154322615,
           0.8263320135583585,
           0.8263320135583585,
           0.8683691454422823,
           0.827189261271187,
           0.8538023501878916,
           0.917795693487848,
           0.884686173861116,
           0.8620461892161981,
           0.8620461892161981,
           0.9366758857340857,
           0.9499203939031047,
           0.9493115276478866,
           0.9493115276478866,
           0.9493115276478866,
           1,
           0.832469187099956,
           0.832469187099956,
           0.6558008609071226,
           0.4362578193160846,
           0.37197398103535456,
           0.3929604550589789,
           0.3660024338876923,
           0.693982104206276,
           0.48719383082488765,
           0.4262898643769414,
           0.4262898643769414,
           0.5292631373004855,
           0.5854399278646069,
           0.5854399278646069,
           0.5808787947316739,
           0.6580095848995158,
           0.6580095848995158,
           0.5739414429007285,
           0.5615995589005325,
           0.5144767801445131,
           0.3620722304870863,
           0.15244112753071917,
           0.1076024304907132,
           0.16792438126425627,
           0.2807138016418544,
           0.2807138016418544,
           0.2807138016418544
          ],
          [
           0.08206880266004143,
           0.06429210103699219,
           0.06429210103699219,
           0.06429210103699219,
           0.012701837109633565,
           0.032922979963184475,
           0.032922979963184475,
           0.032922979963184475,
           0.31262684849409783,
           0.41555766422343093,
           0.41495698024508815,
           0.4096276234968113,
           0.48276568920417623,
           0.4996092108469407,
           0.5095243432946025,
           0.6069198352871196,
           0.6092904192156354,
           0.6155343753589658,
           0.6155343753589658,
           0.655156806861353,
           0.6864130934438853,
           0.6314948771183951,
           0.749991883473187,
           0.7550847668365992,
           0.6343711714226183,
           0.6343711714226183,
           0.7274671372699417,
           0.765655905844999,
           0.7981106791025532,
           0.7981106791025532,
           0.7981106791025532,
           0.832469187099956,
           1,
           1,
           0.4380010561377879,
           0.5146488688536062,
           0.4902450730260483,
           0.3263475836253803,
           0.3564407035114978,
           0.7770060285795225,
           0.514497773728353,
           0.4574946493990836,
           0.4574946493990836,
           0.5353515503627531,
           0.5880558930381578,
           0.5880558930381578,
           0.5866773167457446,
           0.6570873636565862,
           0.6570873636565862,
           0.5941794013022291,
           0.5810954521635914,
           0.5351243614717508,
           0.42070235153374824,
           0.12773761356507995,
           0.13972519164951563,
           0.10170564518211019,
           0.223152625377821,
           0.223152625377821,
           0.223152625377821
          ],
          [
           0.08206880266004143,
           0.06429210103699219,
           0.06429210103699219,
           0.06429210103699219,
           0.012701837109633565,
           0.032922979963184475,
           0.032922979963184475,
           0.032922979963184475,
           0.31262684849409783,
           0.41555766422343093,
           0.41495698024508815,
           0.4096276234968113,
           0.48276568920417623,
           0.4996092108469407,
           0.5095243432946025,
           0.6069198352871196,
           0.6092904192156354,
           0.6155343753589658,
           0.6155343753589658,
           0.655156806861353,
           0.6864130934438853,
           0.6314948771183951,
           0.749991883473187,
           0.7550847668365992,
           0.6343711714226183,
           0.6343711714226183,
           0.7274671372699417,
           0.765655905844999,
           0.7981106791025532,
           0.7981106791025532,
           0.7981106791025532,
           0.832469187099956,
           1,
           1,
           0.4380010561377879,
           0.5146488688536062,
           0.4902450730260483,
           0.3263475836253803,
           0.3564407035114978,
           0.7770060285795225,
           0.514497773728353,
           0.4574946493990836,
           0.4574946493990836,
           0.5353515503627531,
           0.5880558930381578,
           0.5880558930381578,
           0.5866773167457446,
           0.6570873636565862,
           0.6570873636565862,
           0.5941794013022291,
           0.5810954521635914,
           0.5351243614717508,
           0.42070235153374824,
           0.12773761356507995,
           0.13972519164951563,
           0.10170564518211019,
           0.223152625377821,
           0.223152625377821,
           0.223152625377821
          ],
          [
           0.26040609170675166,
           0.2945586939727216,
           0.2945586939727216,
           0.2945586939727216,
           0.41123383845311196,
           0.4689182188791279,
           0.4689182188791279,
           0.4689182188791279,
           0.38281149531709163,
           0.45510569330901524,
           0.5403798667916934,
           0.535626242747437,
           0.5688937281642181,
           0.5283613907896011,
           0.6316067518231372,
           0.5004838421022587,
           0.4959720226213032,
           0.4351340061570871,
           0.4351340061570871,
           0.48384624051100017,
           0.6625518655138233,
           0.5555317282097276,
           0.5826433270724988,
           0.5531551830953825,
           0.7419637484475607,
           0.7419637484475607,
           0.700740021185754,
           0.7204128595236129,
           0.6861602544913641,
           0.6861602544913641,
           0.6861602544913641,
           0.6558008609071226,
           0.4380010561377879,
           0.4380010561377879,
           1,
           0.36791647390807203,
           0.1903134047551694,
           0.17011359674014814,
           0.45221456662459697,
           0.23291875906096188,
           0.24858907739580957,
           0.20941656713930587,
           0.20941656713930587,
           0.314807555459286,
           0.35567273024785656,
           0.35567273024785656,
           0.3697672287742803,
           0.41577461939072324,
           0.41577461939072324,
           0.3206007044884499,
           0.32075635786241524,
           0.2795163971840181,
           0.12346799528016295,
           0.17097343851799107,
           0.13095310455614656,
           0.3256272784515578,
           0.3023033267102683,
           0.3023033267102683,
           0.3023033267102683
          ],
          [
           0.3240578671822735,
           0.3052003936603368,
           0.3052003936603368,
           0.3052003936603368,
           0.2058129132953055,
           0.15234708112618522,
           0.15234708112618522,
           0.15234708112618522,
           0.440229486861374,
           0.4769140846381047,
           0.5075435113592426,
           0.4977940800038817,
           0.5584181287340826,
           0.509440360904119,
           0.38784272276988235,
           0.47780787190442164,
           0.5084905941114488,
           0.4747838181899877,
           0.4747838181899877,
           0.5176914565102566,
           0.6079747537345052,
           0.36861658673305864,
           0.5084233767349736,
           0.3966034379569661,
           0.31876325095834873,
           0.31876325095834873,
           0.40465085108306703,
           0.45782915351645403,
           0.4932918684416809,
           0.4932918684416809,
           0.4932918684416809,
           0.4362578193160846,
           0.5146488688536062,
           0.5146488688536062,
           0.36791647390807203,
           1,
           0.810119933017295,
           0.8113983053453189,
           0.12336875478009551,
           0.2809051240368001,
           0.15027459812342106,
           0.12943627313211625,
           0.12943627313211625,
           0.023623570696024557,
           0.024916734942878726,
           0.024916734942878726,
           0.0062384242004848165,
           0.02860013654253826,
           0.02860013654253826,
           0.147503768091455,
           0.09791915745991167,
           0.12244472953429412,
           0.0888032897688051,
           0.0025196614990341416,
           0.18416029395386566,
           0.36184205899293154,
           0.30838329280788246,
           0.30838329280788246,
           0.30838329280788246
          ],
          [
           0.0642476147079002,
           0.08084861553688859,
           0.08084861553688859,
           0.08084861553688859,
           0.1422208584048713,
           0.2118433539699705,
           0.2118433539699705,
           0.2118433539699705,
           0.5194659081045865,
           0.5771677222617357,
           0.6120513274910192,
           0.6046818991547849,
           0.5968332715970164,
           0.6079014602298023,
           0.4094492558110527,
           0.5796949441049155,
           0.5765231352525927,
           0.5419618920492933,
           0.5419618920492933,
           0.4821325254555721,
           0.6149231427585992,
           0.47239115964227163,
           0.5618608923319948,
           0.5057835518529885,
           0.31185016883698113,
           0.31185016883698113,
           0.380696559233901,
           0.3784698674466485,
           0.4612076069236282,
           0.4612076069236282,
           0.4612076069236282,
           0.37197398103535456,
           0.4902450730260483,
           0.4902450730260483,
           0.1903134047551694,
           0.810119933017295,
           1,
           0.7907167814506373,
           0.06479877895778484,
           0.2610071485398317,
           0.05448560683570541,
           0.06689035404149052,
           0.06689035404149052,
           0.05023242775325164,
           0.05611722457511864,
           0.05611722457511864,
           0.03352690504998449,
           0.12434345116681118,
           0.12434345116681118,
           0.06528594413889878,
           0.026031262177369317,
           0.2043089913516891,
           0.046643453236680725,
           0.023678729417292703,
           0.19593214862815864,
           0.2513871409343639,
           0.16579220723134844,
           0.16579220723134844,
           0.16579220723134844
          ],
          [
           0.06623107250050131,
           0.05905953160727838,
           0.05905953160727838,
           0.05905953160727838,
           0.025522891709019016,
           0.023846493643268973,
           0.023846493643268973,
           0.023846493643268973,
           0.7217955665919372,
           0.6284270481365569,
           0.6741123363591098,
           0.6704921346777297,
           0.6983001256258313,
           0.689563082954938,
           0.4352840517131485,
           0.5931162979397152,
           0.6234301309764959,
           0.5749304628997906,
           0.5749304628997906,
           0.5619802331948656,
           0.5139952474258347,
           0.4667399988863917,
           0.5502375551816802,
           0.4641818787186441,
           0.24428437218681684,
           0.24428437218681684,
           0.36601212646184306,
           0.38037633920395536,
           0.4482302032799032,
           0.4482302032799032,
           0.4482302032799032,
           0.3929604550589789,
           0.3263475836253803,
           0.3263475836253803,
           0.17011359674014814,
           0.8113983053453189,
           0.7907167814506373,
           1,
           0.24069787893911776,
           0.2607273583442675,
           0.201958521764898,
           0.16948377585448873,
           0.16948377585448873,
           0.11270500753576096,
           0.12493090518951355,
           0.12493090518951355,
           0.14793507253899577,
           0.20581991645726191,
           0.20581991645726191,
           0.2510334069482603,
           0.24375641935172876,
           0.30699987072418317,
           0.1732591329811807,
           0.07046810544769051,
           0.007814009014234924,
           0.08692239218789506,
           0.10004060154768024,
           0.10004060154768024,
           0.10004060154768024
          ],
          [
           0.18529330298222052,
           0.1846349343439288,
           0.1846349343439288,
           0.1846349343439288,
           0.16816239751338102,
           0.1594329263527986,
           0.1594329263527986,
           0.1594329263527986,
           0.12414449083738327,
           0.11375338848319172,
           0.08813242744870742,
           0.08813242744870742,
           0.032329549776339235,
           0.07069601572820254,
           0.2885410879978933,
           0.07065149801168676,
           0.032329549776339235,
           0.010776516592113079,
           0.010776516592113079,
           0.010776516592113079,
           0.2743380754104577,
           0.24234357885942195,
           0.2241943033512761,
           0.4037202419600881,
           0.4618049086060528,
           0.4618049086060528,
           0.3660773395932965,
           0.3660024338876923,
           0.3660024338876923,
           0.3660024338876923,
           0.3660024338876923,
           0.3660024338876923,
           0.3564407035114978,
           0.3564407035114978,
           0.45221456662459697,
           0.12336875478009551,
           0.06479877895778484,
           0.24069787893911776,
           1,
           0.3085276787297559,
           0.5542683343552314,
           0.5422586091990824,
           0.5422586091990824,
           0.48833249229326403,
           0.5200795257029629,
           0.5200795257029629,
           0.5672610909234441,
           0.5540043915060341,
           0.5540043915060341,
           0.6059858343066338,
           0.7490344282087421,
           0.6341210341973098,
           0.09108190948327063,
           0.0816001014051797,
           0.04446095629271351,
           0.07824064629585546,
           0.06337426692519885,
           0.06337426692519885,
           0.06337426692519885
          ],
          [
           0.2513072341355524,
           0.2381181874805562,
           0.2381181874805562,
           0.2381181874805562,
           0.16676297586405409,
           0.23085424725265744,
           0.23085424725265744,
           0.23085424725265744,
           0.14336824502990617,
           0.16601206886952435,
           0.16719602582175247,
           0.1648273561747586,
           0.24901194122940695,
           0.29023056653592694,
           0.22568434214384916,
           0.3754041558597524,
           0.39097161120424184,
           0.4053797134683844,
           0.4053797134683844,
           0.4504206734175669,
           0.4031957776141031,
           0.41359432388146833,
           0.5300316829381366,
           0.5615755172191534,
           0.39095774547380985,
           0.39095774547380985,
           0.5020822289111014,
           0.5224160950327029,
           0.5816133934624684,
           0.5816133934624684,
           0.5816133934624684,
           0.693982104206276,
           0.7770060285795225,
           0.7770060285795225,
           0.23291875906096188,
           0.2809051240368001,
           0.2610071485398317,
           0.2607273583442675,
           0.3085276787297559,
           1,
           0.5365842931324791,
           0.5762925878546614,
           0.5762925878546614,
           0.6649506042133736,
           0.6783153867442812,
           0.6783153867442812,
           0.7110444700371746,
           0.6581018053977556,
           0.6581018053977556,
           0.5962786893410716,
           0.44896440503987617,
           0.4376484523929708,
           0.3620722304870863,
           0.2815337211600063,
           0.17653249837756305,
           0.0801059969411241,
           0.22314173479275057,
           0.22314173479275057,
           0.22314173479275057
          ],
          [
           0.31087378438466684,
           0.2866409708291216,
           0.2866409708291216,
           0.2866409708291216,
           0.1668119734185335,
           0.15815260406646972,
           0.15815260406646972,
           0.15815260406646972,
           0.003529323252709044,
           0.1452208972281486,
           0.17581536996339528,
           0.17581536996339528,
           0.14557457289725867,
           0.21966673414625354,
           0.30239748839548647,
           0.36134342647944884,
           0.3227585101827089,
           0.3360560907122722,
           0.3360560907122722,
           0.26222079327945197,
           0.30933006238781113,
           0.4915499890881038,
           0.43699525707284786,
           0.5668856219207159,
           0.45975087700604844,
           0.45975087700604844,
           0.471056112393148,
           0.45687630144593777,
           0.4630177790924802,
           0.4630177790924802,
           0.4630177790924802,
           0.48719383082488765,
           0.514497773728353,
           0.514497773728353,
           0.24858907739580957,
           0.15027459812342106,
           0.05448560683570541,
           0.201958521764898,
           0.5542683343552314,
           0.5365842931324791,
           1,
           0.9529966155108327,
           0.9529966155108327,
           0.6214472365327534,
           0.655352700823648,
           0.655352700823648,
           0.8050734322584021,
           0.7481598385002878,
           0.7481598385002878,
           0.9146555958513828,
           0.7047203878869037,
           0.5086679720365315,
           0.5239433187803657,
           0.3574394745812136,
           0.04410391365092514,
           0.32576689693127614,
           0.3643700084510418,
           0.3643700084510418,
           0.3643700084510418
          ],
          [
           0.18263466931958228,
           0.1573490541545511,
           0.1573490541545511,
           0.1573490541545511,
           0.042907596804799664,
           0.02718347321357576,
           0.02718347321357576,
           0.02718347321357576,
           0.06648817897351754,
           0.07008687042468176,
           0.09947168590131894,
           0.09947168590131894,
           0.07674988453268378,
           0.14683351969394384,
           0.22115140713459422,
           0.2894021020016203,
           0.2592493844104783,
           0.2531960368054884,
           0.2531960368054884,
           0.18703381001096617,
           0.2565012227455928,
           0.4153817017574534,
           0.37639045312913233,
           0.5132625031782461,
           0.39507460180461756,
           0.39507460180461756,
           0.4043465323703719,
           0.39014449037092336,
           0.41366269848365106,
           0.41366269848365106,
           0.41366269848365106,
           0.4262898643769414,
           0.4574946493990836,
           0.4574946493990836,
           0.20941656713930587,
           0.12943627313211625,
           0.06689035404149052,
           0.16948377585448873,
           0.5422586091990824,
           0.5762925878546614,
           0.9529966155108327,
           1,
           1,
           0.7559050919202119,
           0.759408895802548,
           0.759408895802548,
           0.8708430492362266,
           0.7155359419844377,
           0.7155359419844377,
           0.8704550650119405,
           0.6991177635829727,
           0.4955759221581538,
           0.5017898103426928,
           0.31443463479367495,
           0.052276114404611704,
           0.30831299759821956,
           0.33733944792607834,
           0.33733944792607834,
           0.33733944792607834
          ],
          [
           0.18263466931958228,
           0.1573490541545511,
           0.1573490541545511,
           0.1573490541545511,
           0.042907596804799664,
           0.02718347321357576,
           0.02718347321357576,
           0.02718347321357576,
           0.06648817897351754,
           0.07008687042468176,
           0.09947168590131894,
           0.09947168590131894,
           0.07674988453268378,
           0.14683351969394384,
           0.22115140713459422,
           0.2894021020016203,
           0.2592493844104783,
           0.2531960368054884,
           0.2531960368054884,
           0.18703381001096617,
           0.2565012227455928,
           0.4153817017574534,
           0.37639045312913233,
           0.5132625031782461,
           0.39507460180461756,
           0.39507460180461756,
           0.4043465323703719,
           0.39014449037092336,
           0.41366269848365106,
           0.41366269848365106,
           0.41366269848365106,
           0.4262898643769414,
           0.4574946493990836,
           0.4574946493990836,
           0.20941656713930587,
           0.12943627313211625,
           0.06689035404149052,
           0.16948377585448873,
           0.5422586091990824,
           0.5762925878546614,
           0.9529966155108327,
           1,
           1,
           0.7559050919202119,
           0.759408895802548,
           0.759408895802548,
           0.8708430492362266,
           0.7155359419844377,
           0.7155359419844377,
           0.8704550650119405,
           0.6991177635829727,
           0.4955759221581538,
           0.5017898103426928,
           0.31443463479367495,
           0.052276114404611704,
           0.30831299759821956,
           0.33733944792607834,
           0.33733944792607834,
           0.33733944792607834
          ],
          [
           0.0738265763232332,
           0.053906014758734334,
           0.053906014758734334,
           0.053906014758734334,
           0.03101765040189288,
           0.0068666268102511255,
           0.0068666268102511255,
           0.0068666268102511255,
           0.059775628028730356,
           0.005798910417488819,
           0.016867516378298943,
           0.016867516378298943,
           0.08784008228187053,
           0.09304161090834545,
           0.2527799495977336,
           0.24616176712738888,
           0.25690393988071347,
           0.2169939544121075,
           0.2169939544121075,
           0.2761371860402861,
           0.27822946504797547,
           0.3615155868432161,
           0.40472268745385725,
           0.48403721364704894,
           0.46337850291061167,
           0.46337850291061167,
           0.5030321942585655,
           0.5174258796200045,
           0.5305164810775265,
           0.5305164810775265,
           0.5305164810775265,
           0.5292631373004855,
           0.5353515503627531,
           0.5353515503627531,
           0.314807555459286,
           0.023623570696024557,
           0.05023242775325164,
           0.11270500753576096,
           0.48833249229326403,
           0.6649506042133736,
           0.6214472365327534,
           0.7559050919202119,
           0.7559050919202119,
           1,
           0.99377061237255,
           0.99377061237255,
           0.9271110143527715,
           0.8331465000406704,
           0.8331465000406704,
           0.7686454164029227,
           0.7133777812970028,
           0.7386008123819798,
           0.5083521892229413,
           0.17478558723346646,
           0.07656063198719738,
           0.1563927428488065,
           0.24457964904453455,
           0.24457964904453455,
           0.24457964904453455
          ],
          [
           0.030760473318362958,
           0.008247605219254417,
           0.008247605219254417,
           0.008247605219254417,
           0.08379073969923054,
           0.061424466492146695,
           0.061424466492146695,
           0.061424466492146695,
           0.031019908554216317,
           0.039628892120462056,
           0.05209889591278342,
           0.05209889591278342,
           0.12580417558178694,
           0.13082872682899227,
           0.303276519466103,
           0.28864286116568166,
           0.297221855459598,
           0.26218658717231996,
           0.26218658717231996,
           0.32404382893435657,
           0.31863493886110267,
           0.4102165391418768,
           0.45228430670266484,
           0.5316267029033299,
           0.5183142549855795,
           0.5183142549855795,
           0.559693571708316,
           0.5759785652775978,
           0.5821709211356351,
           0.5821709211356351,
           0.5821709211356351,
           0.5854399278646069,
           0.5880558930381578,
           0.5880558930381578,
           0.35567273024785656,
           0.024916734942878726,
           0.05611722457511864,
           0.12493090518951355,
           0.5200795257029629,
           0.6783153867442812,
           0.655352700823648,
           0.759408895802548,
           0.759408895802548,
           0.99377061237255,
           1,
           1,
           0.938510009909378,
           0.8822114773246416,
           0.8822114773246416,
           0.8134500982065702,
           0.7526633684009523,
           0.7825074257273529,
           0.5316798457465768,
           0.1888282574816113,
           0.07679274807530405,
           0.16934346495383906,
           0.26048004152729864,
           0.26048004152729864,
           0.26048004152729864
          ],
          [
           0.030760473318362958,
           0.008247605219254417,
           0.008247605219254417,
           0.008247605219254417,
           0.08379073969923054,
           0.061424466492146695,
           0.061424466492146695,
           0.061424466492146695,
           0.031019908554216317,
           0.039628892120462056,
           0.05209889591278342,
           0.05209889591278342,
           0.12580417558178694,
           0.13082872682899227,
           0.303276519466103,
           0.28864286116568166,
           0.297221855459598,
           0.26218658717231996,
           0.26218658717231996,
           0.32404382893435657,
           0.31863493886110267,
           0.4102165391418768,
           0.45228430670266484,
           0.5316267029033299,
           0.5183142549855795,
           0.5183142549855795,
           0.559693571708316,
           0.5759785652775978,
           0.5821709211356351,
           0.5821709211356351,
           0.5821709211356351,
           0.5854399278646069,
           0.5880558930381578,
           0.5880558930381578,
           0.35567273024785656,
           0.024916734942878726,
           0.05611722457511864,
           0.12493090518951355,
           0.5200795257029629,
           0.6783153867442812,
           0.655352700823648,
           0.759408895802548,
           0.759408895802548,
           0.99377061237255,
           1,
           1,
           0.938510009909378,
           0.8822114773246416,
           0.8822114773246416,
           0.8134500982065702,
           0.7526633684009523,
           0.7825074257273529,
           0.5316798457465768,
           0.1888282574816113,
           0.07679274807530405,
           0.16934346495383906,
           0.26048004152729864,
           0.26048004152729864,
           0.26048004152729864
          ],
          [
           0.015948946628449166,
           0.031189254764986914,
           0.031189254764986914,
           0.031189254764986914,
           0.09074726536823846,
           0.07144309145255129,
           0.07144309145255129,
           0.07144309145255129,
           0.06459333325590443,
           0.05764086201638962,
           0.06679782526471446,
           0.06679782526471446,
           0.11330773184211694,
           0.13164841784810902,
           0.3022780255223634,
           0.2811360723495725,
           0.28439778336292904,
           0.2643998272925442,
           0.2643998272925442,
           0.3060136984021262,
           0.3316773817786563,
           0.4105603415510597,
           0.43915888682249604,
           0.5261649396936174,
           0.5068794793646285,
           0.5068794793646285,
           0.5353878207602022,
           0.5570809492477716,
           0.5627233690787579,
           0.5627233690787579,
           0.5627233690787579,
           0.5808787947316739,
           0.5866773167457446,
           0.5866773167457446,
           0.3697672287742803,
           0.0062384242004848165,
           0.03352690504998449,
           0.14793507253899577,
           0.5672610909234441,
           0.7110444700371746,
           0.8050734322584021,
           0.8708430492362266,
           0.8708430492362266,
           0.9271110143527715,
           0.938510009909378,
           0.938510009909378,
           1,
           0.8999650879435929,
           0.8999650879435929,
           0.8693730577950078,
           0.7185958410769073,
           0.6808803142464668,
           0.5011660674086831,
           0.27684041972912604,
           0.06825039344762804,
           0.09594628534030458,
           0.16521529256953368,
           0.16521529256953368,
           0.16521529256953368
          ],
          [
           0.14156290455989917,
           0.17026895731801991,
           0.17026895731801991,
           0.17026895731801991,
           0.2741153342721595,
           0.25988574465768094,
           0.25988574465768094,
           0.25988574465768094,
           0.016733827900990445,
           0.1000943751452733,
           0.12268674271244172,
           0.12268674271244172,
           0.18953311594681424,
           0.19705662073769786,
           0.396760607653404,
           0.3519938791478395,
           0.3519667525450961,
           0.33871320971616287,
           0.33871320971616287,
           0.40238224170089926,
           0.3606711427889107,
           0.4924261125462147,
           0.5108769353549817,
           0.5782975654677827,
           0.5999220957415762,
           0.5999220957415762,
           0.6433876034377921,
           0.6597802184657194,
           0.6409622864876635,
           0.6409622864876635,
           0.6409622864876635,
           0.6580095848995158,
           0.6570873636565862,
           0.6570873636565862,
           0.41577461939072324,
           0.02860013654253826,
           0.12434345116681118,
           0.20581991645726191,
           0.5540043915060341,
           0.6581018053977556,
           0.7481598385002878,
           0.7155359419844377,
           0.7155359419844377,
           0.8331465000406704,
           0.8822114773246416,
           0.8822114773246416,
           0.8999650879435929,
           1,
           1,
           0.9299057522767564,
           0.7185920469117119,
           0.8254700530283949,
           0.547252676326963,
           0.3572692617303455,
           0.07247416828287823,
           0.18586131978551437,
           0.2774711938731786,
           0.2774711938731786,
           0.2774711938731786
          ],
          [
           0.14156290455989917,
           0.17026895731801991,
           0.17026895731801991,
           0.17026895731801991,
           0.2741153342721595,
           0.25988574465768094,
           0.25988574465768094,
           0.25988574465768094,
           0.016733827900990445,
           0.1000943751452733,
           0.12268674271244172,
           0.12268674271244172,
           0.18953311594681424,
           0.19705662073769786,
           0.396760607653404,
           0.3519938791478395,
           0.3519667525450961,
           0.33871320971616287,
           0.33871320971616287,
           0.40238224170089926,
           0.3606711427889107,
           0.4924261125462147,
           0.5108769353549817,
           0.5782975654677827,
           0.5999220957415762,
           0.5999220957415762,
           0.6433876034377921,
           0.6597802184657194,
           0.6409622864876635,
           0.6409622864876635,
           0.6409622864876635,
           0.6580095848995158,
           0.6570873636565862,
           0.6570873636565862,
           0.41577461939072324,
           0.02860013654253826,
           0.12434345116681118,
           0.20581991645726191,
           0.5540043915060341,
           0.6581018053977556,
           0.7481598385002878,
           0.7155359419844377,
           0.7155359419844377,
           0.8331465000406704,
           0.8822114773246416,
           0.8822114773246416,
           0.8999650879435929,
           1,
           1,
           0.9299057522767564,
           0.7185920469117119,
           0.8254700530283949,
           0.547252676326963,
           0.3572692617303455,
           0.07247416828287823,
           0.18586131978551437,
           0.2774711938731786,
           0.2774711938731786,
           0.2774711938731786
          ],
          [
           0.27795563904630716,
           0.2769680303597591,
           0.2769680303597591,
           0.2769680303597591,
           0.2522578307585999,
           0.23916288509178954,
           0.23916288509178954,
           0.23916288509178954,
           0.002267565357773273,
           0.1110883554611743,
           0.14491973122263102,
           0.14491973122263102,
           0.15828567174827732,
           0.20757009655922973,
           0.35581734748381993,
           0.36551526395725753,
           0.3384198355900108,
           0.3319757415135821,
           0.3319757415135821,
           0.3173802719293993,
           0.32096926354590577,
           0.5190790252931492,
           0.4847006031001691,
           0.6023966083928373,
           0.5518534863805682,
           0.5518534863805682,
           0.5788824874502317,
           0.5674545675299806,
           0.5620220724482803,
           0.5620220724482803,
           0.5620220724482803,
           0.5739414429007285,
           0.5941794013022291,
           0.5941794013022291,
           0.3206007044884499,
           0.147503768091455,
           0.06528594413889878,
           0.2510334069482603,
           0.6059858343066338,
           0.5962786893410716,
           0.9146555958513828,
           0.8704550650119405,
           0.8704550650119405,
           0.7686454164029227,
           0.8134500982065702,
           0.8134500982065702,
           0.8693730577950078,
           0.9299057522767564,
           0.9299057522767564,
           1,
           0.7704762219608284,
           0.7594615198209025,
           0.5728312614680579,
           0.39079132757997354,
           0.06669519793781711,
           0.11736759230120326,
           0.0950667648467313,
           0.0950667648467313,
           0.0950667648467313
          ],
          [
           0.21039558997830404,
           0.20964802999719725,
           0.20964802999719725,
           0.20964802999719725,
           0.19094390497420607,
           0.18103182393582357,
           0.18103182393582357,
           0.18103182393582357,
           0.02430016136869525,
           0.23973513513317674,
           0.15383783912102358,
           0.15383783912102358,
           0.1398652627008542,
           0.18350231294219357,
           0.40012353881255097,
           0.3299865241487806,
           0.2995975669808757,
           0.296625103341575,
           0.296625103341575,
           0.296625103341575,
           0.39674296939102033,
           0.4747465087562953,
           0.45990097336569286,
           0.5982635786290318,
           0.5498979889412272,
           0.5498979889412272,
           0.5597666108244839,
           0.5598550770630601,
           0.5473804755604211,
           0.5473804755604211,
           0.5473804755604211,
           0.5615995589005325,
           0.5810954521635914,
           0.5810954521635914,
           0.32075635786241524,
           0.09791915745991167,
           0.026031262177369317,
           0.24375641935172876,
           0.7490344282087421,
           0.44896440503987617,
           0.7047203878869037,
           0.6991177635829727,
           0.6991177635829727,
           0.7133777812970028,
           0.7526633684009523,
           0.7526633684009523,
           0.7185958410769073,
           0.7185920469117119,
           0.7185920469117119,
           0.7704762219608284,
           1,
           0.8581658908183206,
           0.5391699178094003,
           0.24128281161033788,
           0.05048422678882589,
           0.0888401613698896,
           0.07195978518688903,
           0.07195978518688903,
           0.07195978518688903
          ],
          [
           0.14181666335871276,
           0.1676359265199184,
           0.1676359265199184,
           0.1676359265199184,
           0.2599561949990696,
           0.2464616198692249,
           0.2464616198692249,
           0.2464616198692249,
           0.06946068101937179,
           0.1330547632380979,
           0.04800031833554973,
           0.04800031833554973,
           0.07948989359814941,
           0.08978568009564343,
           0.3527583574307289,
           0.24215719204179612,
           0.23148523622164366,
           0.21281585591786312,
           0.21281585591786312,
           0.2826606627090752,
           0.2937108406717541,
           0.392327109743909,
           0.3916133844960866,
           0.483818650812909,
           0.5046768191683986,
           0.5046768191683986,
           0.5423502616246093,
           0.5426756651329214,
           0.5166125880525327,
           0.5166125880525327,
           0.5166125880525327,
           0.5144767801445131,
           0.5351243614717508,
           0.5351243614717508,
           0.2795163971840181,
           0.12244472953429412,
           0.2043089913516891,
           0.30699987072418317,
           0.6341210341973098,
           0.4376484523929708,
           0.5086679720365315,
           0.4955759221581538,
           0.4955759221581538,
           0.7386008123819798,
           0.7825074257273529,
           0.7825074257273529,
           0.6808803142464668,
           0.8254700530283949,
           0.8254700530283949,
           0.7594615198209025,
           0.8581658908183206,
           1,
           0.5602357539672718,
           0.1261426584450357,
           0.06873059134967469,
           0.16148497490955277,
           0.24518621041336996,
           0.24518621041336996,
           0.24518621041336996
          ],
          [
           0.13337781439295146,
           0.13290390751867745,
           0.13290390751867745,
           0.13290390751867745,
           0.1210466470316286,
           0.11476299961714806,
           0.11476299961714806,
           0.11476299961714806,
           0.030242176287585833,
           0.15981346942769725,
           0.0634394787132802,
           0.0634394787132802,
           0.1012020973529666,
           0.12887415894759435,
           0.20769762889604299,
           0.36899591317068625,
           0.3689674762967987,
           0.42068181986964187,
           0.42068181986964187,
           0.42068181986964187,
           0.19747401721543353,
           0.4029064042356334,
           0.3788878640415018,
           0.3689674762967987,
           0.22690219333010678,
           0.22690219333010678,
           0.36904298882512654,
           0.3620722304870863,
           0.3413864930579491,
           0.3413864930579491,
           0.3413864930579491,
           0.3620722304870863,
           0.42070235153374824,
           0.42070235153374824,
           0.12346799528016295,
           0.0888032897688051,
           0.046643453236680725,
           0.1732591329811807,
           0.09108190948327063,
           0.3620722304870863,
           0.5239433187803657,
           0.5017898103426928,
           0.5017898103426928,
           0.5083521892229413,
           0.5316798457465768,
           0.5316798457465768,
           0.5011660674086831,
           0.547252676326963,
           0.547252676326963,
           0.5728312614680579,
           0.5391699178094003,
           0.5602357539672718,
           1,
           0.05873738016700149,
           0.03200388292884867,
           0.05631917738891245,
           0.04561806106964158,
           0.04561806106964158,
           0.04561806106964158
          ],
          [
           0.11949291842267666,
           0.11906834619733839,
           0.11906834619733839,
           0.11906834619733839,
           0.10844545012917314,
           0.10281594291830175,
           0.10281594291830175,
           0.10281594291830175,
           0.1339249820072048,
           0.15521478578242795,
           0.08291226587433578,
           0.08291226587433578,
           0.13961106607799248,
           0.14731817862945532,
           0.028102595126064174,
           0.1434236187881006,
           0.14341256576768927,
           0.12202913001314478,
           0.12202913001314478,
           0.09209231995678248,
           0.00883349792229151,
           0.16332010680040765,
           0.15190413942129366,
           0.14673887799617397,
           0.15292002904875368,
           0.15292002904875368,
           0.15294761069767612,
           0.13913587861678037,
           0.15624262722041596,
           0.15624262722041596,
           0.15624262722041596,
           0.15244112753071917,
           0.12773761356507995,
           0.12773761356507995,
           0.17097343851799107,
           0.0025196614990341416,
           0.023678729417292703,
           0.07046810544769051,
           0.0816001014051797,
           0.2815337211600063,
           0.3574394745812136,
           0.31443463479367495,
           0.31443463479367495,
           0.17478558723346646,
           0.1888282574816113,
           0.1888282574816113,
           0.27684041972912604,
           0.3572692617303455,
           0.3572692617303455,
           0.39079132757997354,
           0.24128281161033788,
           0.1261426584450357,
           0.05873738016700149,
           1,
           0.028672215011403757,
           0.05045623891795615,
           0.04086913010836853,
           0.04086913010836853,
           0.04086913010836853
          ],
          [
           0.239949073048688,
           0.24844800930049146,
           0.24844800930049146,
           0.24844800930049146,
           0.2643929734004634,
           0.05602070420949957,
           0.05602070420949957,
           0.05602070420949957,
           0.1986449513561076,
           0.14813468233688734,
           0.13281385035043605,
           0.13960124967630344,
           0.1447671669912528,
           0.16171076638049842,
           0.1565292289563218,
           0.16834118079580038,
           0.1683282074897081,
           0.14140130406290205,
           0.14140130406290205,
           0.14140130406290205,
           0.09937309152607308,
           0.15331192355469583,
           0.19013583195927714,
           0.18515752213146186,
           0.1447706831202169,
           0.1447706831202169,
           0.14816334668283254,
           0.09413897877731019,
           0.16496234456135733,
           0.16496234456135733,
           0.16496234456135733,
           0.1076024304907132,
           0.13972519164951563,
           0.13972519164951563,
           0.13095310455614656,
           0.18416029395386566,
           0.19593214862815864,
           0.007814009014234924,
           0.04446095629271351,
           0.17653249837756305,
           0.04410391365092514,
           0.052276114404611704,
           0.052276114404611704,
           0.07656063198719738,
           0.07679274807530405,
           0.07679274807530405,
           0.06825039344762804,
           0.07247416828287823,
           0.07247416828287823,
           0.06669519793781711,
           0.05048422678882589,
           0.06873059134967469,
           0.03200388292884867,
           0.028672215011403757,
           1,
           0.5682590622346213,
           0.02226811702655621,
           0.02226811702655621,
           0.02226811702655621
          ],
          [
           0.4222529634725271,
           0.36109816925326216,
           0.36109816925326216,
           0.36109816925326216,
           0.08576894075984084,
           0.09858303709087159,
           0.09858303709087159,
           0.09858303709087159,
           0.07550824512851587,
           0.10634986672104864,
           0.11543985392748234,
           0.11942125359589918,
           0.0032700522499714327,
           0.10247235765745705,
           0.027125465526968963,
           0.10635687685777186,
           0.048680589155235106,
           0.050654960325029176,
           0.050654960325029176,
           0.12243157889358453,
           0.05479769030824186,
           0.11280697408282885,
           0.019112995433260293,
           0.11622053625527401,
           0.06871389887614308,
           0.06871389887614308,
           0.10073410795294416,
           0.19359120647157924,
           0.12243157889358453,
           0.12243157889358453,
           0.12243157889358453,
           0.16792438126425627,
           0.10170564518211019,
           0.10170564518211019,
           0.3256272784515578,
           0.36184205899293154,
           0.2513871409343639,
           0.08692239218789506,
           0.07824064629585546,
           0.0801059969411241,
           0.32576689693127614,
           0.30831299759821956,
           0.30831299759821956,
           0.1563927428488065,
           0.16934346495383906,
           0.16934346495383906,
           0.09594628534030458,
           0.18586131978551437,
           0.18586131978551437,
           0.11736759230120326,
           0.0888401613698896,
           0.16148497490955277,
           0.05631917738891245,
           0.05045623891795615,
           0.5682590622346213,
           1,
           0.8099916082691649,
           0.8099916082691649,
           0.8099916082691649
          ],
          [
           0.3420213569795332,
           0.2616618962644557,
           0.2616618962644557,
           0.2616618962644557,
           0.08422355836525108,
           0.0798514327612938,
           0.0798514327612938,
           0.0798514327612938,
           0.049831840186190045,
           0.02363879460656318,
           0.04560210609574801,
           0.04560210609574801,
           0.09920186865926313,
           0.009252052847773383,
           0.14451481142703057,
           0.009246226773112405,
           0.06082049075986057,
           0.03923096569144663,
           0.03923096569144663,
           0.2495289320985898,
           0.13740128142681102,
           0.027794301090376217,
           0.11228694567083876,
           0.009245514207538377,
           0.18666396910265876,
           0.18666396910265876,
           0.2279860568896788,
           0.3023033267102683,
           0.26632078492957845,
           0.26632078492957845,
           0.26632078492957845,
           0.2807138016418544,
           0.223152625377821,
           0.223152625377821,
           0.3023033267102683,
           0.30838329280788246,
           0.16579220723134844,
           0.10004060154768024,
           0.06337426692519885,
           0.22314173479275057,
           0.3643700084510418,
           0.33733944792607834,
           0.33733944792607834,
           0.24457964904453455,
           0.26048004152729864,
           0.26048004152729864,
           0.16521529256953368,
           0.2774711938731786,
           0.2774711938731786,
           0.0950667648467313,
           0.07195978518688903,
           0.24518621041336996,
           0.04561806106964158,
           0.04086913010836853,
           0.02226811702655621,
           0.8099916082691649,
           1,
           1,
           1
          ],
          [
           0.3420213569795332,
           0.2616618962644557,
           0.2616618962644557,
           0.2616618962644557,
           0.08422355836525108,
           0.0798514327612938,
           0.0798514327612938,
           0.0798514327612938,
           0.049831840186190045,
           0.02363879460656318,
           0.04560210609574801,
           0.04560210609574801,
           0.09920186865926313,
           0.009252052847773383,
           0.14451481142703057,
           0.009246226773112405,
           0.06082049075986057,
           0.03923096569144663,
           0.03923096569144663,
           0.2495289320985898,
           0.13740128142681102,
           0.027794301090376217,
           0.11228694567083876,
           0.009245514207538377,
           0.18666396910265876,
           0.18666396910265876,
           0.2279860568896788,
           0.3023033267102683,
           0.26632078492957845,
           0.26632078492957845,
           0.26632078492957845,
           0.2807138016418544,
           0.223152625377821,
           0.223152625377821,
           0.3023033267102683,
           0.30838329280788246,
           0.16579220723134844,
           0.10004060154768024,
           0.06337426692519885,
           0.22314173479275057,
           0.3643700084510418,
           0.33733944792607834,
           0.33733944792607834,
           0.24457964904453455,
           0.26048004152729864,
           0.26048004152729864,
           0.16521529256953368,
           0.2774711938731786,
           0.2774711938731786,
           0.0950667648467313,
           0.07195978518688903,
           0.24518621041336996,
           0.04561806106964158,
           0.04086913010836853,
           0.02226811702655621,
           0.8099916082691649,
           1,
           1,
           1
          ],
          [
           0.3420213569795332,
           0.2616618962644557,
           0.2616618962644557,
           0.2616618962644557,
           0.08422355836525108,
           0.0798514327612938,
           0.0798514327612938,
           0.0798514327612938,
           0.049831840186190045,
           0.02363879460656318,
           0.04560210609574801,
           0.04560210609574801,
           0.09920186865926313,
           0.009252052847773383,
           0.14451481142703057,
           0.009246226773112405,
           0.06082049075986057,
           0.03923096569144663,
           0.03923096569144663,
           0.2495289320985898,
           0.13740128142681102,
           0.027794301090376217,
           0.11228694567083876,
           0.009245514207538377,
           0.18666396910265876,
           0.18666396910265876,
           0.2279860568896788,
           0.3023033267102683,
           0.26632078492957845,
           0.26632078492957845,
           0.26632078492957845,
           0.2807138016418544,
           0.223152625377821,
           0.223152625377821,
           0.3023033267102683,
           0.30838329280788246,
           0.16579220723134844,
           0.10004060154768024,
           0.06337426692519885,
           0.22314173479275057,
           0.3643700084510418,
           0.33733944792607834,
           0.33733944792607834,
           0.24457964904453455,
           0.26048004152729864,
           0.26048004152729864,
           0.16521529256953368,
           0.2774711938731786,
           0.2774711938731786,
           0.0950667648467313,
           0.07195978518688903,
           0.24518621041336996,
           0.04561806106964158,
           0.04086913010836853,
           0.02226811702655621,
           0.8099916082691649,
           1,
           1,
           1
          ]
         ]
        }
       ],
       "layout": {
        "autosize": false,
        "height": 800,
        "hovermode": "closest",
        "showlegend": false,
        "template": {
         "data": {
          "bar": [
           {
            "error_x": {
             "color": "#2a3f5f"
            },
            "error_y": {
             "color": "#2a3f5f"
            },
            "marker": {
             "line": {
              "color": "#E5ECF6",
              "width": 0.5
             }
            },
            "type": "bar"
           }
          ],
          "barpolar": [
           {
            "marker": {
             "line": {
              "color": "#E5ECF6",
              "width": 0.5
             }
            },
            "type": "barpolar"
           }
          ],
          "carpet": [
           {
            "aaxis": {
             "endlinecolor": "#2a3f5f",
             "gridcolor": "white",
             "linecolor": "white",
             "minorgridcolor": "white",
             "startlinecolor": "#2a3f5f"
            },
            "baxis": {
             "endlinecolor": "#2a3f5f",
             "gridcolor": "white",
             "linecolor": "white",
             "minorgridcolor": "white",
             "startlinecolor": "#2a3f5f"
            },
            "type": "carpet"
           }
          ],
          "choropleth": [
           {
            "colorbar": {
             "outlinewidth": 0,
             "ticks": ""
            },
            "type": "choropleth"
           }
          ],
          "contour": [
           {
            "colorbar": {
             "outlinewidth": 0,
             "ticks": ""
            },
            "colorscale": [
             [
              0,
              "#0d0887"
             ],
             [
              0.1111111111111111,
              "#46039f"
             ],
             [
              0.2222222222222222,
              "#7201a8"
             ],
             [
              0.3333333333333333,
              "#9c179e"
             ],
             [
              0.4444444444444444,
              "#bd3786"
             ],
             [
              0.5555555555555556,
              "#d8576b"
             ],
             [
              0.6666666666666666,
              "#ed7953"
             ],
             [
              0.7777777777777778,
              "#fb9f3a"
             ],
             [
              0.8888888888888888,
              "#fdca26"
             ],
             [
              1,
              "#f0f921"
             ]
            ],
            "type": "contour"
           }
          ],
          "contourcarpet": [
           {
            "colorbar": {
             "outlinewidth": 0,
             "ticks": ""
            },
            "type": "contourcarpet"
           }
          ],
          "heatmap": [
           {
            "colorbar": {
             "outlinewidth": 0,
             "ticks": ""
            },
            "colorscale": [
             [
              0,
              "#0d0887"
             ],
             [
              0.1111111111111111,
              "#46039f"
             ],
             [
              0.2222222222222222,
              "#7201a8"
             ],
             [
              0.3333333333333333,
              "#9c179e"
             ],
             [
              0.4444444444444444,
              "#bd3786"
             ],
             [
              0.5555555555555556,
              "#d8576b"
             ],
             [
              0.6666666666666666,
              "#ed7953"
             ],
             [
              0.7777777777777778,
              "#fb9f3a"
             ],
             [
              0.8888888888888888,
              "#fdca26"
             ],
             [
              1,
              "#f0f921"
             ]
            ],
            "type": "heatmap"
           }
          ],
          "heatmapgl": [
           {
            "colorbar": {
             "outlinewidth": 0,
             "ticks": ""
            },
            "colorscale": [
             [
              0,
              "#0d0887"
             ],
             [
              0.1111111111111111,
              "#46039f"
             ],
             [
              0.2222222222222222,
              "#7201a8"
             ],
             [
              0.3333333333333333,
              "#9c179e"
             ],
             [
              0.4444444444444444,
              "#bd3786"
             ],
             [
              0.5555555555555556,
              "#d8576b"
             ],
             [
              0.6666666666666666,
              "#ed7953"
             ],
             [
              0.7777777777777778,
              "#fb9f3a"
             ],
             [
              0.8888888888888888,
              "#fdca26"
             ],
             [
              1,
              "#f0f921"
             ]
            ],
            "type": "heatmapgl"
           }
          ],
          "histogram": [
           {
            "marker": {
             "colorbar": {
              "outlinewidth": 0,
              "ticks": ""
             }
            },
            "type": "histogram"
           }
          ],
          "histogram2d": [
           {
            "colorbar": {
             "outlinewidth": 0,
             "ticks": ""
            },
            "colorscale": [
             [
              0,
              "#0d0887"
             ],
             [
              0.1111111111111111,
              "#46039f"
             ],
             [
              0.2222222222222222,
              "#7201a8"
             ],
             [
              0.3333333333333333,
              "#9c179e"
             ],
             [
              0.4444444444444444,
              "#bd3786"
             ],
             [
              0.5555555555555556,
              "#d8576b"
             ],
             [
              0.6666666666666666,
              "#ed7953"
             ],
             [
              0.7777777777777778,
              "#fb9f3a"
             ],
             [
              0.8888888888888888,
              "#fdca26"
             ],
             [
              1,
              "#f0f921"
             ]
            ],
            "type": "histogram2d"
           }
          ],
          "histogram2dcontour": [
           {
            "colorbar": {
             "outlinewidth": 0,
             "ticks": ""
            },
            "colorscale": [
             [
              0,
              "#0d0887"
             ],
             [
              0.1111111111111111,
              "#46039f"
             ],
             [
              0.2222222222222222,
              "#7201a8"
             ],
             [
              0.3333333333333333,
              "#9c179e"
             ],
             [
              0.4444444444444444,
              "#bd3786"
             ],
             [
              0.5555555555555556,
              "#d8576b"
             ],
             [
              0.6666666666666666,
              "#ed7953"
             ],
             [
              0.7777777777777778,
              "#fb9f3a"
             ],
             [
              0.8888888888888888,
              "#fdca26"
             ],
             [
              1,
              "#f0f921"
             ]
            ],
            "type": "histogram2dcontour"
           }
          ],
          "mesh3d": [
           {
            "colorbar": {
             "outlinewidth": 0,
             "ticks": ""
            },
            "type": "mesh3d"
           }
          ],
          "parcoords": [
           {
            "line": {
             "colorbar": {
              "outlinewidth": 0,
              "ticks": ""
             }
            },
            "type": "parcoords"
           }
          ],
          "pie": [
           {
            "automargin": true,
            "type": "pie"
           }
          ],
          "scatter": [
           {
            "marker": {
             "colorbar": {
              "outlinewidth": 0,
              "ticks": ""
             }
            },
            "type": "scatter"
           }
          ],
          "scatter3d": [
           {
            "line": {
             "colorbar": {
              "outlinewidth": 0,
              "ticks": ""
             }
            },
            "marker": {
             "colorbar": {
              "outlinewidth": 0,
              "ticks": ""
             }
            },
            "type": "scatter3d"
           }
          ],
          "scattercarpet": [
           {
            "marker": {
             "colorbar": {
              "outlinewidth": 0,
              "ticks": ""
             }
            },
            "type": "scattercarpet"
           }
          ],
          "scattergeo": [
           {
            "marker": {
             "colorbar": {
              "outlinewidth": 0,
              "ticks": ""
             }
            },
            "type": "scattergeo"
           }
          ],
          "scattergl": [
           {
            "marker": {
             "colorbar": {
              "outlinewidth": 0,
              "ticks": ""
             }
            },
            "type": "scattergl"
           }
          ],
          "scattermapbox": [
           {
            "marker": {
             "colorbar": {
              "outlinewidth": 0,
              "ticks": ""
             }
            },
            "type": "scattermapbox"
           }
          ],
          "scatterpolar": [
           {
            "marker": {
             "colorbar": {
              "outlinewidth": 0,
              "ticks": ""
             }
            },
            "type": "scatterpolar"
           }
          ],
          "scatterpolargl": [
           {
            "marker": {
             "colorbar": {
              "outlinewidth": 0,
              "ticks": ""
             }
            },
            "type": "scatterpolargl"
           }
          ],
          "scatterternary": [
           {
            "marker": {
             "colorbar": {
              "outlinewidth": 0,
              "ticks": ""
             }
            },
            "type": "scatterternary"
           }
          ],
          "surface": [
           {
            "colorbar": {
             "outlinewidth": 0,
             "ticks": ""
            },
            "colorscale": [
             [
              0,
              "#0d0887"
             ],
             [
              0.1111111111111111,
              "#46039f"
             ],
             [
              0.2222222222222222,
              "#7201a8"
             ],
             [
              0.3333333333333333,
              "#9c179e"
             ],
             [
              0.4444444444444444,
              "#bd3786"
             ],
             [
              0.5555555555555556,
              "#d8576b"
             ],
             [
              0.6666666666666666,
              "#ed7953"
             ],
             [
              0.7777777777777778,
              "#fb9f3a"
             ],
             [
              0.8888888888888888,
              "#fdca26"
             ],
             [
              1,
              "#f0f921"
             ]
            ],
            "type": "surface"
           }
          ],
          "table": [
           {
            "cells": {
             "fill": {
              "color": "#EBF0F8"
             },
             "line": {
              "color": "white"
             }
            },
            "header": {
             "fill": {
              "color": "#C8D4E3"
             },
             "line": {
              "color": "white"
             }
            },
            "type": "table"
           }
          ]
         },
         "layout": {
          "annotationdefaults": {
           "arrowcolor": "#2a3f5f",
           "arrowhead": 0,
           "arrowwidth": 1
          },
          "autotypenumbers": "strict",
          "coloraxis": {
           "colorbar": {
            "outlinewidth": 0,
            "ticks": ""
           }
          },
          "colorscale": {
           "diverging": [
            [
             0,
             "#8e0152"
            ],
            [
             0.1,
             "#c51b7d"
            ],
            [
             0.2,
             "#de77ae"
            ],
            [
             0.3,
             "#f1b6da"
            ],
            [
             0.4,
             "#fde0ef"
            ],
            [
             0.5,
             "#f7f7f7"
            ],
            [
             0.6,
             "#e6f5d0"
            ],
            [
             0.7,
             "#b8e186"
            ],
            [
             0.8,
             "#7fbc41"
            ],
            [
             0.9,
             "#4d9221"
            ],
            [
             1,
             "#276419"
            ]
           ],
           "sequential": [
            [
             0,
             "#0d0887"
            ],
            [
             0.1111111111111111,
             "#46039f"
            ],
            [
             0.2222222222222222,
             "#7201a8"
            ],
            [
             0.3333333333333333,
             "#9c179e"
            ],
            [
             0.4444444444444444,
             "#bd3786"
            ],
            [
             0.5555555555555556,
             "#d8576b"
            ],
            [
             0.6666666666666666,
             "#ed7953"
            ],
            [
             0.7777777777777778,
             "#fb9f3a"
            ],
            [
             0.8888888888888888,
             "#fdca26"
            ],
            [
             1,
             "#f0f921"
            ]
           ],
           "sequentialminus": [
            [
             0,
             "#0d0887"
            ],
            [
             0.1111111111111111,
             "#46039f"
            ],
            [
             0.2222222222222222,
             "#7201a8"
            ],
            [
             0.3333333333333333,
             "#9c179e"
            ],
            [
             0.4444444444444444,
             "#bd3786"
            ],
            [
             0.5555555555555556,
             "#d8576b"
            ],
            [
             0.6666666666666666,
             "#ed7953"
            ],
            [
             0.7777777777777778,
             "#fb9f3a"
            ],
            [
             0.8888888888888888,
             "#fdca26"
            ],
            [
             1,
             "#f0f921"
            ]
           ]
          },
          "colorway": [
           "#636efa",
           "#EF553B",
           "#00cc96",
           "#ab63fa",
           "#FFA15A",
           "#19d3f3",
           "#FF6692",
           "#B6E880",
           "#FF97FF",
           "#FECB52"
          ],
          "font": {
           "color": "#2a3f5f"
          },
          "geo": {
           "bgcolor": "white",
           "lakecolor": "white",
           "landcolor": "#E5ECF6",
           "showlakes": true,
           "showland": true,
           "subunitcolor": "white"
          },
          "hoverlabel": {
           "align": "left"
          },
          "hovermode": "closest",
          "mapbox": {
           "style": "light"
          },
          "paper_bgcolor": "white",
          "plot_bgcolor": "#E5ECF6",
          "polar": {
           "angularaxis": {
            "gridcolor": "white",
            "linecolor": "white",
            "ticks": ""
           },
           "bgcolor": "#E5ECF6",
           "radialaxis": {
            "gridcolor": "white",
            "linecolor": "white",
            "ticks": ""
           }
          },
          "scene": {
           "xaxis": {
            "backgroundcolor": "#E5ECF6",
            "gridcolor": "white",
            "gridwidth": 2,
            "linecolor": "white",
            "showbackground": true,
            "ticks": "",
            "zerolinecolor": "white"
           },
           "yaxis": {
            "backgroundcolor": "#E5ECF6",
            "gridcolor": "white",
            "gridwidth": 2,
            "linecolor": "white",
            "showbackground": true,
            "ticks": "",
            "zerolinecolor": "white"
           },
           "zaxis": {
            "backgroundcolor": "#E5ECF6",
            "gridcolor": "white",
            "gridwidth": 2,
            "linecolor": "white",
            "showbackground": true,
            "ticks": "",
            "zerolinecolor": "white"
           }
          },
          "shapedefaults": {
           "line": {
            "color": "#2a3f5f"
           }
          },
          "ternary": {
           "aaxis": {
            "gridcolor": "white",
            "linecolor": "white",
            "ticks": ""
           },
           "baxis": {
            "gridcolor": "white",
            "linecolor": "white",
            "ticks": ""
           },
           "bgcolor": "#E5ECF6",
           "caxis": {
            "gridcolor": "white",
            "linecolor": "white",
            "ticks": ""
           }
          },
          "title": {
           "x": 0.05
          },
          "xaxis": {
           "automargin": true,
           "gridcolor": "white",
           "linecolor": "white",
           "ticks": "",
           "title": {
            "standoff": 15
           },
           "zerolinecolor": "white",
           "zerolinewidth": 2
          },
          "yaxis": {
           "automargin": true,
           "gridcolor": "white",
           "linecolor": "white",
           "ticks": "",
           "title": {
            "standoff": 15
           },
           "zerolinecolor": "white",
           "zerolinewidth": 2
          }
         }
        },
        "title": {
         "text": "Propiedades físico-químicas",
         "x": 0.5,
         "xanchor": "center",
         "y": 0.9,
         "yanchor": "top"
        },
        "width": 800,
        "xaxis": {
         "domain": [
          0.15,
          1
         ],
         "mirror": false,
         "rangemode": "tozero",
         "showgrid": false,
         "showline": false,
         "showticklabels": true,
         "tickmode": "array",
         "ticks": "",
         "ticktext": [
          "_feat_CyclomaticNumber",
          "_feat_RingAtomCount",
          "_feat_SmallestRingSize",
          "_feat_LargestRingSize",
          "_feat_CarboRingCount",
          "_feat_AromaticRingCount",
          "_feat_CarboaromaticRingCount",
          "_feat_AromaticAtomCount",
          "_feat_MinimalProjectionRadius",
          "_feat_Refractivity",
          "_feat_HyperWienerIndex",
          "_feat_WienerIndex",
          "_feat_MaximalProjectionArea",
          "_feat_MolPol",
          "_feat_WienerPolarity",
          "_feat_AvgPol",
          "_feat_VanderWaalsVolume",
          "_feat_msareaASAp",
          "_feat_molsurfaceareaASAp",
          "_feat_ASA+",
          "_feat_RotatableBondCount",
          "_feat_AtomCount_C",
          "_feat_BondCount",
          "_feat_MinimalProjectionArea",
          "_feat_minimalprojectionsize",
          "_feat_LengthPerpendicularToTheMinArea",
          "_feat_MaximalProjectionRadius",
          "_feat_ASA",
          "_feat_VanderWaalsSurfaceArea",
          "_feat_molsurfaceareaVDWp",
          "_feat_msareaVDWp",
          "_feat_ASA_H",
          "_feat_maximalprojectionsize",
          "_feat_LengthPerpendicularToTheMaxArea",
          "_feat_ASA-",
          "_feat_ChainAtomCount",
          "_feat_Aliphatic AtomCount",
          "_feat_BalabanIndex",
          "_feat_fr_amidine",
          "_feat_ASA_P",
          "_feat_donsitecount",
          "_feat_Protpsa",
          "_feat_ProtPolarSurfaceArea",
          "_feat_Accsitecount",
          "_feat_acceptorcount",
          "_feat_Hacceptorcount",
          "_feat_PolarSurfaceArea",
          "_feat_AtomCount_N",
          "_feat_Hdonorcount",
          "_feat_donorcount",
          "_feat_fr_quatN",
          "_feat_fr_NH2",
          "_feat_fr_guanido",
          "_feat_fr_NH1",
          "_feat_CarboaliphaticRingCount",
          "_feat_AliphaticRingCount",
          "_feat_fr_Imine",
          "_feat_fr_NH0",
          "_feat_HeteroaliphaticRingCount"
         ],
         "tickvals": [
          5,
          15,
          25,
          35,
          45,
          55,
          65,
          75,
          85,
          95,
          105,
          115,
          125,
          135,
          145,
          155,
          165,
          175,
          185,
          195,
          205,
          215,
          225,
          235,
          245,
          255,
          265,
          275,
          285,
          295,
          305,
          315,
          325,
          335,
          345,
          355,
          365,
          375,
          385,
          395,
          405,
          415,
          425,
          435,
          445,
          455,
          465,
          475,
          485,
          495,
          505,
          515,
          525,
          535,
          545,
          555,
          565,
          575,
          585
         ],
         "type": "linear",
         "zeroline": false
        },
        "xaxis2": {
         "domain": [
          0,
          0.15
         ],
         "mirror": false,
         "showgrid": false,
         "showline": false,
         "showticklabels": false,
         "ticks": "",
         "zeroline": false
        },
        "yaxis": {
         "domain": [
          0,
          0.85
         ],
         "mirror": false,
         "rangemode": "tozero",
         "showgrid": false,
         "showline": false,
         "showticklabels": false,
         "ticks": "",
         "ticktext": [
          "_feat_CyclomaticNumber",
          "_feat_RingAtomCount",
          "_feat_SmallestRingSize",
          "_feat_LargestRingSize",
          "_feat_CarboRingCount",
          "_feat_AromaticRingCount",
          "_feat_CarboaromaticRingCount",
          "_feat_AromaticAtomCount",
          "_feat_MinimalProjectionRadius",
          "_feat_Refractivity",
          "_feat_HyperWienerIndex",
          "_feat_WienerIndex",
          "_feat_MaximalProjectionArea",
          "_feat_MolPol",
          "_feat_WienerPolarity",
          "_feat_AvgPol",
          "_feat_VanderWaalsVolume",
          "_feat_msareaASAp",
          "_feat_molsurfaceareaASAp",
          "_feat_ASA+",
          "_feat_RotatableBondCount",
          "_feat_AtomCount_C",
          "_feat_BondCount",
          "_feat_MinimalProjectionArea",
          "_feat_minimalprojectionsize",
          "_feat_LengthPerpendicularToTheMinArea",
          "_feat_MaximalProjectionRadius",
          "_feat_ASA",
          "_feat_VanderWaalsSurfaceArea",
          "_feat_molsurfaceareaVDWp",
          "_feat_msareaVDWp",
          "_feat_ASA_H",
          "_feat_maximalprojectionsize",
          "_feat_LengthPerpendicularToTheMaxArea",
          "_feat_ASA-",
          "_feat_ChainAtomCount",
          "_feat_Aliphatic AtomCount",
          "_feat_BalabanIndex",
          "_feat_fr_amidine",
          "_feat_ASA_P",
          "_feat_donsitecount",
          "_feat_Protpsa",
          "_feat_ProtPolarSurfaceArea",
          "_feat_Accsitecount",
          "_feat_acceptorcount",
          "_feat_Hacceptorcount",
          "_feat_PolarSurfaceArea",
          "_feat_AtomCount_N",
          "_feat_Hdonorcount",
          "_feat_donorcount",
          "_feat_fr_quatN",
          "_feat_fr_NH2",
          "_feat_fr_guanido",
          "_feat_fr_NH1",
          "_feat_CarboaliphaticRingCount",
          "_feat_AliphaticRingCount",
          "_feat_fr_Imine",
          "_feat_fr_NH0",
          "_feat_HeteroaliphaticRingCount"
         ],
         "tickvals": [
          5,
          15,
          25,
          35,
          45,
          55,
          65,
          75,
          85,
          95,
          105,
          115,
          125,
          135,
          145,
          155,
          165,
          175,
          185,
          195,
          205,
          215,
          225,
          235,
          245,
          255,
          265,
          275,
          285,
          295,
          305,
          315,
          325,
          335,
          345,
          355,
          365,
          375,
          385,
          395,
          405,
          415,
          425,
          435,
          445,
          455,
          465,
          475,
          485,
          495,
          505,
          515,
          525,
          535,
          545,
          555,
          565,
          575,
          585
         ],
         "type": "linear",
         "zeroline": false
        },
        "yaxis2": {
         "domain": [
          0.825,
          0.975
         ],
         "mirror": false,
         "showgrid": false,
         "showline": false,
         "showticklabels": false,
         "ticks": "",
         "zeroline": false
        }
       }
      },
      "text/html": [
       "<div>                            <div id=\"60a6d435-444d-413d-b499-22125d911f4e\" class=\"plotly-graph-div\" style=\"height:800px; width:800px;\"></div>            <script type=\"text/javascript\">                require([\"plotly\"], function(Plotly) {                    window.PLOTLYENV=window.PLOTLYENV || {};                                    if (document.getElementById(\"60a6d435-444d-413d-b499-22125d911f4e\")) {                    Plotly.newPlot(                        \"60a6d435-444d-413d-b499-22125d911f4e\",                        [{\"hoverinfo\": \"text\", \"marker\": {\"color\": \"rgb(61,153,112)\"}, \"mode\": \"lines\", \"type\": \"scatter\", \"x\": [15.0, 15.0, 25.0, 25.0], \"xaxis\": \"x\", \"y\": [0.0, 0.0, 0.0, 0.0], \"yaxis\": \"y2\"}, {\"hoverinfo\": \"text\", \"marker\": {\"color\": \"rgb(61,153,112)\"}, \"mode\": \"lines\", \"type\": \"scatter\", \"x\": [20.0, 20.0, 35.0, 35.0], \"xaxis\": \"x\", \"y\": [0.0, 0.0, 0.0, 0.0], \"yaxis\": \"y2\"}, {\"hoverinfo\": \"text\", \"marker\": {\"color\": \"rgb(61,153,112)\"}, \"mode\": \"lines\", \"type\": \"scatter\", \"x\": [5.0, 5.0, 27.5, 27.5], \"xaxis\": \"x\", \"y\": [0.0, 0.2226002828703737, 0.2226002828703737, 0.0], \"yaxis\": \"y2\"}, {\"hoverinfo\": \"text\", \"marker\": {\"color\": \"rgb(61,153,112)\"}, \"mode\": \"lines\", \"type\": \"scatter\", \"x\": [55.0, 55.0, 65.0, 65.0], \"xaxis\": \"x\", \"y\": [0.0, 0.0, 0.0, 0.0], \"yaxis\": \"y2\"}, {\"hoverinfo\": \"text\", \"marker\": {\"color\": \"rgb(61,153,112)\"}, \"mode\": \"lines\", \"type\": \"scatter\", \"x\": [60.0, 60.0, 75.0, 75.0], \"xaxis\": \"x\", \"y\": [0.0, 0.0, 0.0, 0.0], \"yaxis\": \"y2\"}, {\"hoverinfo\": \"text\", \"marker\": {\"color\": \"rgb(61,153,112)\"}, \"mode\": \"lines\", \"type\": \"scatter\", \"x\": [45.0, 45.0, 67.5, 67.5], \"xaxis\": \"x\", \"y\": [0.0, 0.3276521208435321, 0.3276521208435321, 0.0], \"yaxis\": \"y2\"}, {\"hoverinfo\": \"text\", \"marker\": {\"color\": \"rgb(61,153,112)\"}, \"mode\": \"lines\", \"type\": \"scatter\", \"x\": [16.25, 16.25, 56.25, 56.25], \"xaxis\": \"x\", \"y\": [0.2226002828703737, 0.7485422187983155, 0.7485422187983155, 0.3276521208435321], \"yaxis\": \"y2\"}, {\"hoverinfo\": \"text\", \"marker\": {\"color\": \"rgb(255,65,54)\"}, \"mode\": \"lines\", \"type\": \"scatter\", \"x\": [105.0, 105.0, 115.0, 115.0], \"xaxis\": \"x\", \"y\": [0.0, 0.02935285008197524, 0.02935285008197524, 0.0], \"yaxis\": \"y2\"}, {\"hoverinfo\": \"text\", \"marker\": {\"color\": \"rgb(255,65,54)\"}, \"mode\": \"lines\", \"type\": \"scatter\", \"x\": [95.0, 95.0, 110.0, 110.0], \"xaxis\": \"x\", \"y\": [0.0, 0.2963057709636828, 0.2963057709636828, 0.02935285008197524], \"yaxis\": \"y2\"}, {\"hoverinfo\": \"text\", \"marker\": {\"color\": \"rgb(255,65,54)\"}, \"mode\": \"lines\", \"type\": \"scatter\", \"x\": [125.0, 125.0, 135.0, 135.0], \"xaxis\": \"x\", \"y\": [0.0, 0.2688460996461375, 0.2688460996461375, 0.0], \"yaxis\": \"y2\"}, {\"hoverinfo\": \"text\", \"marker\": {\"color\": \"rgb(255,65,54)\"}, \"mode\": \"lines\", \"type\": \"scatter\", \"x\": [102.5, 102.5, 130.0, 130.0], \"xaxis\": \"x\", \"y\": [0.2963057709636828, 0.40548737171732624, 0.40548737171732624, 0.2688460996461375], \"yaxis\": \"y2\"}, {\"hoverinfo\": \"text\", \"marker\": {\"color\": \"rgb(255,65,54)\"}, \"mode\": \"lines\", \"type\": \"scatter\", \"x\": [85.0, 85.0, 116.25, 116.25], \"xaxis\": \"x\", \"y\": [0.0, 0.7864726301894056, 0.7864726301894056, 0.40548737171732624], \"yaxis\": \"y2\"}, {\"hoverinfo\": \"text\", \"marker\": {\"color\": \"rgb(255,65,54)\"}, \"mode\": \"lines\", \"type\": \"scatter\", \"x\": [155.0, 155.0, 165.0, 165.0], \"xaxis\": \"x\", \"y\": [0.0, 0.16255966993922116, 0.16255966993922116, 0.0], \"yaxis\": \"y2\"}, {\"hoverinfo\": \"text\", \"marker\": {\"color\": \"rgb(255,65,54)\"}, \"mode\": \"lines\", \"type\": \"scatter\", \"x\": [175.0, 175.0, 185.0, 185.0], \"xaxis\": \"x\", \"y\": [0.0, 0.0, 0.0, 0.0], \"yaxis\": \"y2\"}, {\"hoverinfo\": \"text\", \"marker\": {\"color\": \"rgb(255,65,54)\"}, \"mode\": \"lines\", \"type\": \"scatter\", \"x\": [160.0, 160.0, 180.0, 180.0], \"xaxis\": \"x\", \"y\": [0.16255966993922116, 0.3251405035092847, 0.3251405035092847, 0.0], \"yaxis\": \"y2\"}, {\"hoverinfo\": \"text\", \"marker\": {\"color\": \"rgb(255,65,54)\"}, \"mode\": \"lines\", \"type\": \"scatter\", \"x\": [170.0, 170.0, 195.0, 195.0], \"xaxis\": \"x\", \"y\": [0.3251405035092847, 0.555038087307872, 0.555038087307872, 0.0], \"yaxis\": \"y2\"}, {\"hoverinfo\": \"text\", \"marker\": {\"color\": \"rgb(255,65,54)\"}, \"mode\": \"lines\", \"type\": \"scatter\", \"x\": [182.5, 182.5, 205.0, 205.0], \"xaxis\": \"x\", \"y\": [0.555038087307872, 0.80902605806968, 0.80902605806968, 0.0], \"yaxis\": \"y2\"}, {\"hoverinfo\": \"text\", \"marker\": {\"color\": \"rgb(255,65,54)\"}, \"mode\": \"lines\", \"type\": \"scatter\", \"x\": [145.0, 145.0, 193.75, 193.75], \"xaxis\": \"x\", \"y\": [0.0, 0.8871439090839613, 0.8871439090839613, 0.80902605806968], \"yaxis\": \"y2\"}, {\"hoverinfo\": \"text\", \"marker\": {\"color\": \"rgb(255,65,54)\"}, \"mode\": \"lines\", \"type\": \"scatter\", \"x\": [100.625, 100.625, 169.375, 169.375], \"xaxis\": \"x\", \"y\": [0.7864726301894056, 1.0861952020139365, 1.0861952020139365, 0.8871439090839613], \"yaxis\": \"y2\"}, {\"hoverinfo\": \"text\", \"marker\": {\"color\": \"rgb(255,65,54)\"}, \"mode\": \"lines\", \"type\": \"scatter\", \"x\": [215.0, 215.0, 225.0, 225.0], \"xaxis\": \"x\", \"y\": [0.0, 0.5734500922268384, 0.5734500922268384, 0.0], \"yaxis\": \"y2\"}, {\"hoverinfo\": \"text\", \"marker\": {\"color\": \"rgb(255,65,54)\"}, \"mode\": \"lines\", \"type\": \"scatter\", \"x\": [220.0, 220.0, 235.0, 235.0], \"xaxis\": \"x\", \"y\": [0.5734500922268384, 0.6342181396864081, 0.6342181396864081, 0.0], \"yaxis\": \"y2\"}, {\"hoverinfo\": \"text\", \"marker\": {\"color\": \"rgb(255,65,54)\"}, \"mode\": \"lines\", \"type\": \"scatter\", \"x\": [245.0, 245.0, 255.0, 255.0], \"xaxis\": \"x\", \"y\": [0.0, 0.0, 0.0, 0.0], \"yaxis\": \"y2\"}, {\"hoverinfo\": \"text\", \"marker\": {\"color\": \"rgb(255,65,54)\"}, \"mode\": \"lines\", \"type\": \"scatter\", \"x\": [285.0, 285.0, 295.0, 295.0], \"xaxis\": \"x\", \"y\": [0.0, 0.0, 0.0, 0.0], \"yaxis\": \"y2\"}, {\"hoverinfo\": \"text\", \"marker\": {\"color\": \"rgb(255,65,54)\"}, \"mode\": \"lines\", \"type\": \"scatter\", \"x\": [290.0, 290.0, 305.0, 305.0], \"xaxis\": \"x\", \"y\": [0.0, 0.0, 0.0, 0.0], \"yaxis\": \"y2\"}, {\"hoverinfo\": \"text\", \"marker\": {\"color\": \"rgb(255,65,54)\"}, \"mode\": \"lines\", \"type\": \"scatter\", \"x\": [275.0, 275.0, 297.5, 297.5], \"xaxis\": \"x\", \"y\": [0.0, 0.25250409461172246, 0.25250409461172246, 0.0], \"yaxis\": \"y2\"}, {\"hoverinfo\": \"text\", \"marker\": {\"color\": \"rgb(255,65,54)\"}, \"mode\": \"lines\", \"type\": \"scatter\", \"x\": [265.0, 265.0, 286.25, 286.25], \"xaxis\": \"x\", \"y\": [0.0, 0.33699079392553133, 0.33699079392553133, 0.25250409461172246], \"yaxis\": \"y2\"}, {\"hoverinfo\": \"text\", \"marker\": {\"color\": \"rgb(255,65,54)\"}, \"mode\": \"lines\", \"type\": \"scatter\", \"x\": [275.625, 275.625, 315.0, 315.0], \"xaxis\": \"x\", \"y\": [0.33699079392553133, 0.5292802952698934, 0.5292802952698934, 0.0], \"yaxis\": \"y2\"}, {\"hoverinfo\": \"text\", \"marker\": {\"color\": \"rgb(255,65,54)\"}, \"mode\": \"lines\", \"type\": \"scatter\", \"x\": [250.0, 250.0, 295.3125, 295.3125], \"xaxis\": \"x\", \"y\": [0.0, 0.6866318846430536, 0.6866318846430536, 0.5292802952698934], \"yaxis\": \"y2\"}, {\"hoverinfo\": \"text\", \"marker\": {\"color\": \"rgb(255,65,54)\"}, \"mode\": \"lines\", \"type\": \"scatter\", \"x\": [227.5, 227.5, 272.65625, 272.65625], \"xaxis\": \"x\", \"y\": [0.6342181396864081, 0.8127892845423116, 0.8127892845423116, 0.6866318846430536], \"yaxis\": \"y2\"}, {\"hoverinfo\": \"text\", \"marker\": {\"color\": \"rgb(255,65,54)\"}, \"mode\": \"lines\", \"type\": \"scatter\", \"x\": [135.0, 135.0, 250.078125, 250.078125], \"xaxis\": \"x\", \"y\": [1.0861952020139365, 1.5082177647687467, 1.5082177647687467, 0.8127892845423116], \"yaxis\": \"y2\"}, {\"hoverinfo\": \"text\", \"marker\": {\"color\": \"rgb(255,65,54)\"}, \"mode\": \"lines\", \"type\": \"scatter\", \"x\": [325.0, 325.0, 335.0, 335.0], \"xaxis\": \"x\", \"y\": [0.0, 0.0, 0.0, 0.0], \"yaxis\": \"y2\"}, {\"hoverinfo\": \"text\", \"marker\": {\"color\": \"rgb(255,65,54)\"}, \"mode\": \"lines\", \"type\": \"scatter\", \"x\": [330.0, 330.0, 345.0, 345.0], \"xaxis\": \"x\", \"y\": [0.0, 1.8813396963312483, 1.8813396963312483, 0.0], \"yaxis\": \"y2\"}, {\"hoverinfo\": \"text\", \"marker\": {\"color\": \"rgb(255,65,54)\"}, \"mode\": \"lines\", \"type\": \"scatter\", \"x\": [192.5390625, 192.5390625, 337.5, 337.5], \"xaxis\": \"x\", \"y\": [1.5082177647687467, 2.1600719612964636, 2.1600719612964636, 1.8813396963312483], \"yaxis\": \"y2\"}, {\"hoverinfo\": \"text\", \"marker\": {\"color\": \"rgb(35,205,205)\"}, \"mode\": \"lines\", \"type\": \"scatter\", \"x\": [355.0, 355.0, 365.0, 365.0], \"xaxis\": \"x\", \"y\": [0.0, 0.7684918206132706, 0.7684918206132706, 0.0], \"yaxis\": \"y2\"}, {\"hoverinfo\": \"text\", \"marker\": {\"color\": \"rgb(35,205,205)\"}, \"mode\": \"lines\", \"type\": \"scatter\", \"x\": [360.0, 360.0, 375.0, 375.0], \"xaxis\": \"x\", \"y\": [0.7684918206132706, 0.9715219650153885, 0.9715219650153885, 0.0], \"yaxis\": \"y2\"}, {\"hoverinfo\": \"text\", \"marker\": {\"color\": \"rgb(0,116,217)\"}, \"mode\": \"lines\", \"type\": \"scatter\", \"x\": [265.01953125, 265.01953125, 367.5, 367.5], \"xaxis\": \"x\", \"y\": [2.1600719612964636, 2.6008482271497315, 2.6008482271497315, 0.9715219650153885], \"yaxis\": \"y2\"}, {\"hoverinfo\": \"text\", \"marker\": {\"color\": \"rgb(0,116,217)\"}, \"mode\": \"lines\", \"type\": \"scatter\", \"x\": [36.25, 36.25, 316.259765625, 316.259765625], \"xaxis\": \"x\", \"y\": [0.7485422187983155, 2.8265539173120016, 2.8265539173120016, 2.6008482271497315], \"yaxis\": \"y2\"}, {\"hoverinfo\": \"text\", \"marker\": {\"color\": \"rgb(133,20,75)\"}, \"mode\": \"lines\", \"type\": \"scatter\", \"x\": [415.0, 415.0, 425.0, 425.0], \"xaxis\": \"x\", \"y\": [0.0, 0.0, 0.0, 0.0], \"yaxis\": \"y2\"}, {\"hoverinfo\": \"text\", \"marker\": {\"color\": \"rgb(133,20,75)\"}, \"mode\": \"lines\", \"type\": \"scatter\", \"x\": [405.0, 405.0, 420.0, 420.0], \"xaxis\": \"x\", \"y\": [0.0, 0.560899270815052, 0.560899270815052, 0.0], \"yaxis\": \"y2\"}, {\"hoverinfo\": \"text\", \"marker\": {\"color\": \"rgb(133,20,75)\"}, \"mode\": \"lines\", \"type\": \"scatter\", \"x\": [445.0, 445.0, 455.0, 455.0], \"xaxis\": \"x\", \"y\": [0.0, 0.0, 0.0, 0.0], \"yaxis\": \"y2\"}, {\"hoverinfo\": \"text\", \"marker\": {\"color\": \"rgb(133,20,75)\"}, \"mode\": \"lines\", \"type\": \"scatter\", \"x\": [435.0, 435.0, 450.0, 450.0], \"xaxis\": \"x\", \"y\": [0.0, 0.3063526048416229, 0.3063526048416229, 0.0], \"yaxis\": \"y2\"}, {\"hoverinfo\": \"text\", \"marker\": {\"color\": \"rgb(133,20,75)\"}, \"mode\": \"lines\", \"type\": \"scatter\", \"x\": [442.5, 442.5, 465.0, 465.0], \"xaxis\": \"x\", \"y\": [0.3063526048416229, 0.395667335801243, 0.395667335801243, 0.0], \"yaxis\": \"y2\"}, {\"hoverinfo\": \"text\", \"marker\": {\"color\": \"rgb(133,20,75)\"}, \"mode\": \"lines\", \"type\": \"scatter\", \"x\": [475.0, 475.0, 485.0, 485.0], \"xaxis\": \"x\", \"y\": [0.0, 0.0, 0.0, 0.0], \"yaxis\": \"y2\"}, {\"hoverinfo\": \"text\", \"marker\": {\"color\": \"rgb(133,20,75)\"}, \"mode\": \"lines\", \"type\": \"scatter\", \"x\": [480.0, 480.0, 495.0, 495.0], \"xaxis\": \"x\", \"y\": [0.0, 0.6119268504010205, 0.6119268504010205, 0.0], \"yaxis\": \"y2\"}, {\"hoverinfo\": \"text\", \"marker\": {\"color\": \"rgb(133,20,75)\"}, \"mode\": \"lines\", \"type\": \"scatter\", \"x\": [453.75, 453.75, 487.5, 487.5], \"xaxis\": \"x\", \"y\": [0.395667335801243, 0.8332204697044663, 0.8332204697044663, 0.6119268504010205], \"yaxis\": \"y2\"}, {\"hoverinfo\": \"text\", \"marker\": {\"color\": \"rgb(133,20,75)\"}, \"mode\": \"lines\", \"type\": \"scatter\", \"x\": [505.0, 505.0, 515.0, 515.0], \"xaxis\": \"x\", \"y\": [0.0, 0.7091738865579311, 0.7091738865579311, 0.0], \"yaxis\": \"y2\"}, {\"hoverinfo\": \"text\", \"marker\": {\"color\": \"rgb(133,20,75)\"}, \"mode\": \"lines\", \"type\": \"scatter\", \"x\": [470.625, 470.625, 510.0, 510.0], \"xaxis\": \"x\", \"y\": [0.8332204697044663, 0.9318074406008312, 0.9318074406008312, 0.7091738865579311], \"yaxis\": \"y2\"}, {\"hoverinfo\": \"text\", \"marker\": {\"color\": \"rgb(133,20,75)\"}, \"mode\": \"lines\", \"type\": \"scatter\", \"x\": [412.5, 412.5, 490.3125, 490.3125], \"xaxis\": \"x\", \"y\": [0.560899270815052, 1.071450402985864, 1.071450402985864, 0.9318074406008312], \"yaxis\": \"y2\"}, {\"hoverinfo\": \"text\", \"marker\": {\"color\": \"rgb(133,20,75)\"}, \"mode\": \"lines\", \"type\": \"scatter\", \"x\": [395.0, 395.0, 451.40625, 451.40625], \"xaxis\": \"x\", \"y\": [0.0, 1.303574169772897, 1.303574169772897, 1.071450402985864], \"yaxis\": \"y2\"}, {\"hoverinfo\": \"text\", \"marker\": {\"color\": \"rgb(133,20,75)\"}, \"mode\": \"lines\", \"type\": \"scatter\", \"x\": [423.203125, 423.203125, 525.0, 525.0], \"xaxis\": \"x\", \"y\": [1.303574169772897, 1.617472478182523, 1.617472478182523, 0.0], \"yaxis\": \"y2\"}, {\"hoverinfo\": \"text\", \"marker\": {\"color\": \"rgb(133,20,75)\"}, \"mode\": \"lines\", \"type\": \"scatter\", \"x\": [385.0, 385.0, 474.1015625, 474.1015625], \"xaxis\": \"x\", \"y\": [0.0, 1.6283284446418183, 1.6283284446418183, 1.617472478182523], \"yaxis\": \"y2\"}, {\"hoverinfo\": \"text\", \"marker\": {\"color\": \"rgb(255,220,0)\"}, \"mode\": \"lines\", \"type\": \"scatter\", \"x\": [535.0, 535.0, 545.0, 545.0], \"xaxis\": \"x\", \"y\": [0.0, 1.7323179083156426, 1.7323179083156426, 0.0], \"yaxis\": \"y2\"}, {\"hoverinfo\": \"text\", \"marker\": {\"color\": \"rgb(255,220,0)\"}, \"mode\": \"lines\", \"type\": \"scatter\", \"x\": [565.0, 565.0, 575.0, 575.0], \"xaxis\": \"x\", \"y\": [0.0, 0.0, 0.0, 0.0], \"yaxis\": \"y2\"}, {\"hoverinfo\": \"text\", \"marker\": {\"color\": \"rgb(255,220,0)\"}, \"mode\": \"lines\", \"type\": \"scatter\", \"x\": [570.0, 570.0, 585.0, 585.0], \"xaxis\": \"x\", \"y\": [0.0, 0.0, 0.0, 0.0], \"yaxis\": \"y2\"}, {\"hoverinfo\": \"text\", \"marker\": {\"color\": \"rgb(255,220,0)\"}, \"mode\": \"lines\", \"type\": \"scatter\", \"x\": [555.0, 555.0, 577.5, 577.5], \"xaxis\": \"x\", \"y\": [0.0, 0.9155503795041794, 0.9155503795041794, 0.0], \"yaxis\": \"y2\"}, {\"hoverinfo\": \"text\", \"marker\": {\"color\": \"rgb(255,220,0)\"}, \"mode\": \"lines\", \"type\": \"scatter\", \"x\": [540.0, 540.0, 566.25, 566.25], \"xaxis\": \"x\", \"y\": [1.7323179083156426, 2.139251981597515, 2.139251981597515, 0.9155503795041794], \"yaxis\": \"y2\"}, {\"hoverinfo\": \"text\", \"marker\": {\"color\": \"rgb(0,116,217)\"}, \"mode\": \"lines\", \"type\": \"scatter\", \"x\": [429.55078125, 429.55078125, 553.125, 553.125], \"xaxis\": \"x\", \"y\": [1.6283284446418183, 2.9731035685113483, 2.9731035685113483, 2.139251981597515], \"yaxis\": \"y2\"}, {\"hoverinfo\": \"text\", \"marker\": {\"color\": \"rgb(0,116,217)\"}, \"mode\": \"lines\", \"type\": \"scatter\", \"x\": [176.2548828125, 176.2548828125, 491.337890625, 491.337890625], \"xaxis\": \"x\", \"y\": [2.8265539173120016, 3.5471077621717817, 3.5471077621717817, 2.9731035685113483], \"yaxis\": \"y2\"}, {\"hoverinfo\": \"text\", \"marker\": {\"color\": \"rgb(61,153,112)\"}, \"mode\": \"lines\", \"type\": \"scatter\", \"x\": [-0.0, -0.0, -0.0, -0.0], \"xaxis\": \"x2\", \"y\": [15.0, 15.0, 25.0, 25.0], \"yaxis\": \"y\"}, {\"hoverinfo\": \"text\", \"marker\": {\"color\": \"rgb(61,153,112)\"}, \"mode\": \"lines\", \"type\": \"scatter\", \"x\": [-0.0, -0.0, -0.0, -0.0], \"xaxis\": \"x2\", \"y\": [20.0, 20.0, 35.0, 35.0], \"yaxis\": \"y\"}, {\"hoverinfo\": \"text\", \"marker\": {\"color\": \"rgb(61,153,112)\"}, \"mode\": \"lines\", \"type\": \"scatter\", \"x\": [-0.0, -0.2226002828703737, -0.2226002828703737, -0.0], \"xaxis\": \"x2\", \"y\": [5.0, 5.0, 27.5, 27.5], \"yaxis\": \"y\"}, {\"hoverinfo\": \"text\", \"marker\": {\"color\": \"rgb(61,153,112)\"}, \"mode\": \"lines\", \"type\": \"scatter\", \"x\": [-0.0, -0.0, -0.0, -0.0], \"xaxis\": \"x2\", \"y\": [55.0, 55.0, 65.0, 65.0], \"yaxis\": \"y\"}, {\"hoverinfo\": \"text\", \"marker\": {\"color\": \"rgb(61,153,112)\"}, \"mode\": \"lines\", \"type\": \"scatter\", \"x\": [-0.0, -0.0, -0.0, -0.0], \"xaxis\": \"x2\", \"y\": [60.0, 60.0, 75.0, 75.0], \"yaxis\": \"y\"}, {\"hoverinfo\": \"text\", \"marker\": {\"color\": \"rgb(61,153,112)\"}, \"mode\": \"lines\", \"type\": \"scatter\", \"x\": [-0.0, -0.3276521208435321, -0.3276521208435321, -0.0], \"xaxis\": \"x2\", \"y\": [45.0, 45.0, 67.5, 67.5], \"yaxis\": \"y\"}, {\"hoverinfo\": \"text\", \"marker\": {\"color\": \"rgb(61,153,112)\"}, \"mode\": \"lines\", \"type\": \"scatter\", \"x\": [-0.2226002828703737, -0.7485422187983155, -0.7485422187983155, -0.3276521208435321], \"xaxis\": \"x2\", \"y\": [16.25, 16.25, 56.25, 56.25], \"yaxis\": \"y\"}, {\"hoverinfo\": \"text\", \"marker\": {\"color\": \"rgb(255,65,54)\"}, \"mode\": \"lines\", \"type\": \"scatter\", \"x\": [-0.0, -0.02935285008197524, -0.02935285008197524, -0.0], \"xaxis\": \"x2\", \"y\": [105.0, 105.0, 115.0, 115.0], \"yaxis\": \"y\"}, {\"hoverinfo\": \"text\", \"marker\": {\"color\": \"rgb(255,65,54)\"}, \"mode\": \"lines\", \"type\": \"scatter\", \"x\": [-0.0, -0.2963057709636828, -0.2963057709636828, -0.02935285008197524], \"xaxis\": \"x2\", \"y\": [95.0, 95.0, 110.0, 110.0], \"yaxis\": \"y\"}, {\"hoverinfo\": \"text\", \"marker\": {\"color\": \"rgb(255,65,54)\"}, \"mode\": \"lines\", \"type\": \"scatter\", \"x\": [-0.0, -0.2688460996461375, -0.2688460996461375, -0.0], \"xaxis\": \"x2\", \"y\": [125.0, 125.0, 135.0, 135.0], \"yaxis\": \"y\"}, {\"hoverinfo\": \"text\", \"marker\": {\"color\": \"rgb(255,65,54)\"}, \"mode\": \"lines\", \"type\": \"scatter\", \"x\": [-0.2963057709636828, -0.40548737171732624, -0.40548737171732624, -0.2688460996461375], \"xaxis\": \"x2\", \"y\": [102.5, 102.5, 130.0, 130.0], \"yaxis\": \"y\"}, {\"hoverinfo\": \"text\", \"marker\": {\"color\": \"rgb(255,65,54)\"}, \"mode\": \"lines\", \"type\": \"scatter\", \"x\": [-0.0, -0.7864726301894056, -0.7864726301894056, -0.40548737171732624], \"xaxis\": \"x2\", \"y\": [85.0, 85.0, 116.25, 116.25], \"yaxis\": \"y\"}, {\"hoverinfo\": \"text\", \"marker\": {\"color\": \"rgb(255,65,54)\"}, \"mode\": \"lines\", \"type\": \"scatter\", \"x\": [-0.0, -0.16255966993922116, -0.16255966993922116, -0.0], \"xaxis\": \"x2\", \"y\": [155.0, 155.0, 165.0, 165.0], \"yaxis\": \"y\"}, {\"hoverinfo\": \"text\", \"marker\": {\"color\": \"rgb(255,65,54)\"}, \"mode\": \"lines\", \"type\": \"scatter\", \"x\": [-0.0, -0.0, -0.0, -0.0], \"xaxis\": \"x2\", \"y\": [175.0, 175.0, 185.0, 185.0], \"yaxis\": \"y\"}, {\"hoverinfo\": \"text\", \"marker\": {\"color\": \"rgb(255,65,54)\"}, \"mode\": \"lines\", \"type\": \"scatter\", \"x\": [-0.16255966993922116, -0.3251405035092847, -0.3251405035092847, -0.0], \"xaxis\": \"x2\", \"y\": [160.0, 160.0, 180.0, 180.0], \"yaxis\": \"y\"}, {\"hoverinfo\": \"text\", \"marker\": {\"color\": \"rgb(255,65,54)\"}, \"mode\": \"lines\", \"type\": \"scatter\", \"x\": [-0.3251405035092847, -0.555038087307872, -0.555038087307872, -0.0], \"xaxis\": \"x2\", \"y\": [170.0, 170.0, 195.0, 195.0], \"yaxis\": \"y\"}, {\"hoverinfo\": \"text\", \"marker\": {\"color\": \"rgb(255,65,54)\"}, \"mode\": \"lines\", \"type\": \"scatter\", \"x\": [-0.555038087307872, -0.80902605806968, -0.80902605806968, -0.0], \"xaxis\": \"x2\", \"y\": [182.5, 182.5, 205.0, 205.0], \"yaxis\": \"y\"}, {\"hoverinfo\": \"text\", \"marker\": {\"color\": \"rgb(255,65,54)\"}, \"mode\": \"lines\", \"type\": \"scatter\", \"x\": [-0.0, -0.8871439090839613, -0.8871439090839613, -0.80902605806968], \"xaxis\": \"x2\", \"y\": [145.0, 145.0, 193.75, 193.75], \"yaxis\": \"y\"}, {\"hoverinfo\": \"text\", \"marker\": {\"color\": \"rgb(255,65,54)\"}, \"mode\": \"lines\", \"type\": \"scatter\", \"x\": [-0.7864726301894056, -1.0861952020139365, -1.0861952020139365, -0.8871439090839613], \"xaxis\": \"x2\", \"y\": [100.625, 100.625, 169.375, 169.375], \"yaxis\": \"y\"}, {\"hoverinfo\": \"text\", \"marker\": {\"color\": \"rgb(255,65,54)\"}, \"mode\": \"lines\", \"type\": \"scatter\", \"x\": [-0.0, -0.5734500922268384, -0.5734500922268384, -0.0], \"xaxis\": \"x2\", \"y\": [215.0, 215.0, 225.0, 225.0], \"yaxis\": \"y\"}, {\"hoverinfo\": \"text\", \"marker\": {\"color\": \"rgb(255,65,54)\"}, \"mode\": \"lines\", \"type\": \"scatter\", \"x\": [-0.5734500922268384, -0.6342181396864081, -0.6342181396864081, -0.0], \"xaxis\": \"x2\", \"y\": [220.0, 220.0, 235.0, 235.0], \"yaxis\": \"y\"}, {\"hoverinfo\": \"text\", \"marker\": {\"color\": \"rgb(255,65,54)\"}, \"mode\": \"lines\", \"type\": \"scatter\", \"x\": [-0.0, -0.0, -0.0, -0.0], \"xaxis\": \"x2\", \"y\": [245.0, 245.0, 255.0, 255.0], \"yaxis\": \"y\"}, {\"hoverinfo\": \"text\", \"marker\": {\"color\": \"rgb(255,65,54)\"}, \"mode\": \"lines\", \"type\": \"scatter\", \"x\": [-0.0, -0.0, -0.0, -0.0], \"xaxis\": \"x2\", \"y\": [285.0, 285.0, 295.0, 295.0], \"yaxis\": \"y\"}, {\"hoverinfo\": \"text\", \"marker\": {\"color\": \"rgb(255,65,54)\"}, \"mode\": \"lines\", \"type\": \"scatter\", \"x\": [-0.0, -0.0, -0.0, -0.0], \"xaxis\": \"x2\", \"y\": [290.0, 290.0, 305.0, 305.0], \"yaxis\": \"y\"}, {\"hoverinfo\": \"text\", \"marker\": {\"color\": \"rgb(255,65,54)\"}, \"mode\": \"lines\", \"type\": \"scatter\", \"x\": [-0.0, -0.25250409461172246, -0.25250409461172246, -0.0], \"xaxis\": \"x2\", \"y\": [275.0, 275.0, 297.5, 297.5], \"yaxis\": \"y\"}, {\"hoverinfo\": \"text\", \"marker\": {\"color\": \"rgb(255,65,54)\"}, \"mode\": \"lines\", \"type\": \"scatter\", \"x\": [-0.0, -0.33699079392553133, -0.33699079392553133, -0.25250409461172246], \"xaxis\": \"x2\", \"y\": [265.0, 265.0, 286.25, 286.25], \"yaxis\": \"y\"}, {\"hoverinfo\": \"text\", \"marker\": {\"color\": \"rgb(255,65,54)\"}, \"mode\": \"lines\", \"type\": \"scatter\", \"x\": [-0.33699079392553133, -0.5292802952698934, -0.5292802952698934, -0.0], \"xaxis\": \"x2\", \"y\": [275.625, 275.625, 315.0, 315.0], \"yaxis\": \"y\"}, {\"hoverinfo\": \"text\", \"marker\": {\"color\": \"rgb(255,65,54)\"}, \"mode\": \"lines\", \"type\": \"scatter\", \"x\": [-0.0, -0.6866318846430536, -0.6866318846430536, -0.5292802952698934], \"xaxis\": \"x2\", \"y\": [250.0, 250.0, 295.3125, 295.3125], \"yaxis\": \"y\"}, {\"hoverinfo\": \"text\", \"marker\": {\"color\": \"rgb(255,65,54)\"}, \"mode\": \"lines\", \"type\": \"scatter\", \"x\": [-0.6342181396864081, -0.8127892845423116, -0.8127892845423116, -0.6866318846430536], \"xaxis\": \"x2\", \"y\": [227.5, 227.5, 272.65625, 272.65625], \"yaxis\": \"y\"}, {\"hoverinfo\": \"text\", \"marker\": {\"color\": \"rgb(255,65,54)\"}, \"mode\": \"lines\", \"type\": \"scatter\", \"x\": [-1.0861952020139365, -1.5082177647687467, -1.5082177647687467, -0.8127892845423116], \"xaxis\": \"x2\", \"y\": [135.0, 135.0, 250.078125, 250.078125], \"yaxis\": \"y\"}, {\"hoverinfo\": \"text\", \"marker\": {\"color\": \"rgb(255,65,54)\"}, \"mode\": \"lines\", \"type\": \"scatter\", \"x\": [-0.0, -0.0, -0.0, -0.0], \"xaxis\": \"x2\", \"y\": [325.0, 325.0, 335.0, 335.0], \"yaxis\": \"y\"}, {\"hoverinfo\": \"text\", \"marker\": {\"color\": \"rgb(255,65,54)\"}, \"mode\": \"lines\", \"type\": \"scatter\", \"x\": [-0.0, -1.8813396963312483, -1.8813396963312483, -0.0], \"xaxis\": \"x2\", \"y\": [330.0, 330.0, 345.0, 345.0], \"yaxis\": \"y\"}, {\"hoverinfo\": \"text\", \"marker\": {\"color\": \"rgb(255,65,54)\"}, \"mode\": \"lines\", \"type\": \"scatter\", \"x\": [-1.5082177647687467, -2.1600719612964636, -2.1600719612964636, -1.8813396963312483], \"xaxis\": \"x2\", \"y\": [192.5390625, 192.5390625, 337.5, 337.5], \"yaxis\": \"y\"}, {\"hoverinfo\": \"text\", \"marker\": {\"color\": \"rgb(35,205,205)\"}, \"mode\": \"lines\", \"type\": \"scatter\", \"x\": [-0.0, -0.7684918206132706, -0.7684918206132706, -0.0], \"xaxis\": \"x2\", \"y\": [355.0, 355.0, 365.0, 365.0], \"yaxis\": \"y\"}, {\"hoverinfo\": \"text\", \"marker\": {\"color\": \"rgb(35,205,205)\"}, \"mode\": \"lines\", \"type\": \"scatter\", \"x\": [-0.7684918206132706, -0.9715219650153885, -0.9715219650153885, -0.0], \"xaxis\": \"x2\", \"y\": [360.0, 360.0, 375.0, 375.0], \"yaxis\": \"y\"}, {\"hoverinfo\": \"text\", \"marker\": {\"color\": \"rgb(0,116,217)\"}, \"mode\": \"lines\", \"type\": \"scatter\", \"x\": [-2.1600719612964636, -2.6008482271497315, -2.6008482271497315, -0.9715219650153885], \"xaxis\": \"x2\", \"y\": [265.01953125, 265.01953125, 367.5, 367.5], \"yaxis\": \"y\"}, {\"hoverinfo\": \"text\", \"marker\": {\"color\": \"rgb(0,116,217)\"}, \"mode\": \"lines\", \"type\": \"scatter\", \"x\": [-0.7485422187983155, -2.8265539173120016, -2.8265539173120016, -2.6008482271497315], \"xaxis\": \"x2\", \"y\": [36.25, 36.25, 316.259765625, 316.259765625], \"yaxis\": \"y\"}, {\"hoverinfo\": \"text\", \"marker\": {\"color\": \"rgb(133,20,75)\"}, \"mode\": \"lines\", \"type\": \"scatter\", \"x\": [-0.0, -0.0, -0.0, -0.0], \"xaxis\": \"x2\", \"y\": [415.0, 415.0, 425.0, 425.0], \"yaxis\": \"y\"}, {\"hoverinfo\": \"text\", \"marker\": {\"color\": \"rgb(133,20,75)\"}, \"mode\": \"lines\", \"type\": \"scatter\", \"x\": [-0.0, -0.560899270815052, -0.560899270815052, -0.0], \"xaxis\": \"x2\", \"y\": [405.0, 405.0, 420.0, 420.0], \"yaxis\": \"y\"}, {\"hoverinfo\": \"text\", \"marker\": {\"color\": \"rgb(133,20,75)\"}, \"mode\": \"lines\", \"type\": \"scatter\", \"x\": [-0.0, -0.0, -0.0, -0.0], \"xaxis\": \"x2\", \"y\": [445.0, 445.0, 455.0, 455.0], \"yaxis\": \"y\"}, {\"hoverinfo\": \"text\", \"marker\": {\"color\": \"rgb(133,20,75)\"}, \"mode\": \"lines\", \"type\": \"scatter\", \"x\": [-0.0, -0.3063526048416229, -0.3063526048416229, -0.0], \"xaxis\": \"x2\", \"y\": [435.0, 435.0, 450.0, 450.0], \"yaxis\": \"y\"}, {\"hoverinfo\": \"text\", \"marker\": {\"color\": \"rgb(133,20,75)\"}, \"mode\": \"lines\", \"type\": \"scatter\", \"x\": [-0.3063526048416229, -0.395667335801243, -0.395667335801243, -0.0], \"xaxis\": \"x2\", \"y\": [442.5, 442.5, 465.0, 465.0], \"yaxis\": \"y\"}, {\"hoverinfo\": \"text\", \"marker\": {\"color\": \"rgb(133,20,75)\"}, \"mode\": \"lines\", \"type\": \"scatter\", \"x\": [-0.0, -0.0, -0.0, -0.0], \"xaxis\": \"x2\", \"y\": [475.0, 475.0, 485.0, 485.0], \"yaxis\": \"y\"}, {\"hoverinfo\": \"text\", \"marker\": {\"color\": \"rgb(133,20,75)\"}, \"mode\": \"lines\", \"type\": \"scatter\", \"x\": [-0.0, -0.6119268504010205, -0.6119268504010205, -0.0], \"xaxis\": \"x2\", \"y\": [480.0, 480.0, 495.0, 495.0], \"yaxis\": \"y\"}, {\"hoverinfo\": \"text\", \"marker\": {\"color\": \"rgb(133,20,75)\"}, \"mode\": \"lines\", \"type\": \"scatter\", \"x\": [-0.395667335801243, -0.8332204697044663, -0.8332204697044663, -0.6119268504010205], \"xaxis\": \"x2\", \"y\": [453.75, 453.75, 487.5, 487.5], \"yaxis\": \"y\"}, {\"hoverinfo\": \"text\", \"marker\": {\"color\": \"rgb(133,20,75)\"}, \"mode\": \"lines\", \"type\": \"scatter\", \"x\": [-0.0, -0.7091738865579311, -0.7091738865579311, -0.0], \"xaxis\": \"x2\", \"y\": [505.0, 505.0, 515.0, 515.0], \"yaxis\": \"y\"}, {\"hoverinfo\": \"text\", \"marker\": {\"color\": \"rgb(133,20,75)\"}, \"mode\": \"lines\", \"type\": \"scatter\", \"x\": [-0.8332204697044663, -0.9318074406008312, -0.9318074406008312, -0.7091738865579311], \"xaxis\": \"x2\", \"y\": [470.625, 470.625, 510.0, 510.0], \"yaxis\": \"y\"}, {\"hoverinfo\": \"text\", \"marker\": {\"color\": \"rgb(133,20,75)\"}, \"mode\": \"lines\", \"type\": \"scatter\", \"x\": [-0.560899270815052, -1.071450402985864, -1.071450402985864, -0.9318074406008312], \"xaxis\": \"x2\", \"y\": [412.5, 412.5, 490.3125, 490.3125], \"yaxis\": \"y\"}, {\"hoverinfo\": \"text\", \"marker\": {\"color\": \"rgb(133,20,75)\"}, \"mode\": \"lines\", \"type\": \"scatter\", \"x\": [-0.0, -1.303574169772897, -1.303574169772897, -1.071450402985864], \"xaxis\": \"x2\", \"y\": [395.0, 395.0, 451.40625, 451.40625], \"yaxis\": \"y\"}, {\"hoverinfo\": \"text\", \"marker\": {\"color\": \"rgb(133,20,75)\"}, \"mode\": \"lines\", \"type\": \"scatter\", \"x\": [-1.303574169772897, -1.617472478182523, -1.617472478182523, -0.0], \"xaxis\": \"x2\", \"y\": [423.203125, 423.203125, 525.0, 525.0], \"yaxis\": \"y\"}, {\"hoverinfo\": \"text\", \"marker\": {\"color\": \"rgb(133,20,75)\"}, \"mode\": \"lines\", \"type\": \"scatter\", \"x\": [-0.0, -1.6283284446418183, -1.6283284446418183, -1.617472478182523], \"xaxis\": \"x2\", \"y\": [385.0, 385.0, 474.1015625, 474.1015625], \"yaxis\": \"y\"}, {\"hoverinfo\": \"text\", \"marker\": {\"color\": \"rgb(255,220,0)\"}, \"mode\": \"lines\", \"type\": \"scatter\", \"x\": [-0.0, -1.7323179083156426, -1.7323179083156426, -0.0], \"xaxis\": \"x2\", \"y\": [535.0, 535.0, 545.0, 545.0], \"yaxis\": \"y\"}, {\"hoverinfo\": \"text\", \"marker\": {\"color\": \"rgb(255,220,0)\"}, \"mode\": \"lines\", \"type\": \"scatter\", \"x\": [-0.0, -0.0, -0.0, -0.0], \"xaxis\": \"x2\", \"y\": [565.0, 565.0, 575.0, 575.0], \"yaxis\": \"y\"}, {\"hoverinfo\": \"text\", \"marker\": {\"color\": \"rgb(255,220,0)\"}, \"mode\": \"lines\", \"type\": \"scatter\", \"x\": [-0.0, -0.0, -0.0, -0.0], \"xaxis\": \"x2\", \"y\": [570.0, 570.0, 585.0, 585.0], \"yaxis\": \"y\"}, {\"hoverinfo\": \"text\", \"marker\": {\"color\": \"rgb(255,220,0)\"}, \"mode\": \"lines\", \"type\": \"scatter\", \"x\": [-0.0, -0.9155503795041794, -0.9155503795041794, -0.0], \"xaxis\": \"x2\", \"y\": [555.0, 555.0, 577.5, 577.5], \"yaxis\": \"y\"}, {\"hoverinfo\": \"text\", \"marker\": {\"color\": \"rgb(255,220,0)\"}, \"mode\": \"lines\", \"type\": \"scatter\", \"x\": [-1.7323179083156426, -2.139251981597515, -2.139251981597515, -0.9155503795041794], \"xaxis\": \"x2\", \"y\": [540.0, 540.0, 566.25, 566.25], \"yaxis\": \"y\"}, {\"hoverinfo\": \"text\", \"marker\": {\"color\": \"rgb(0,116,217)\"}, \"mode\": \"lines\", \"type\": \"scatter\", \"x\": [-1.6283284446418183, -2.9731035685113483, -2.9731035685113483, -2.139251981597515], \"xaxis\": \"x2\", \"y\": [429.55078125, 429.55078125, 553.125, 553.125], \"yaxis\": \"y\"}, {\"hoverinfo\": \"text\", \"marker\": {\"color\": \"rgb(0,116,217)\"}, \"mode\": \"lines\", \"type\": \"scatter\", \"x\": [-2.8265539173120016, -3.5471077621717817, -3.5471077621717817, -2.9731035685113483], \"xaxis\": \"x2\", \"y\": [176.2548828125, 176.2548828125, 491.337890625, 491.337890625], \"yaxis\": \"y\"}, {\"colorbar\": {\"title\": {\"text\": \"Correlaci\\u00f3n (abs)\"}}, \"type\": \"heatmap\", \"x\": [5, 15, 25, 35, 45, 55, 65, 75, 85, 95, 105, 115, 125, 135, 145, 155, 165, 175, 185, 195, 205, 215, 225, 235, 245, 255, 265, 275, 285, 295, 305, 315, 325, 335, 345, 355, 365, 375, 385, 395, 405, 415, 425, 435, 445, 455, 465, 475, 485, 495, 505, 515, 525, 535, 545, 555, 565, 575, 585], \"y\": [5, 15, 25, 35, 45, 55, 65, 75, 85, 95, 105, 115, 125, 135, 145, 155, 165, 175, 185, 195, 205, 215, 225, 235, 245, 255, 265, 275, 285, 295, 305, 315, 325, 335, 345, 355, 365, 375, 385, 395, 405, 415, 425, 435, 445, 455, 465, 475, 485, 495, 505, 515, 525, 535, 545, 555, 565, 575, 585], \"z\": [[1.0, 0.9964468837907493, 0.9964468837907493, 0.9964468837907493, 0.9075470878163188, 0.8604354490248182, 0.8604354490248182, 0.8604354490248182, 0.5309189742597004, 0.5577785650649603, 0.5891431089875478, 0.597043035283676, 0.5123201796241794, 0.5472910465331224, 0.6017362324073491, 0.5279889997534616, 0.49336422635084765, 0.43661747401009854, 0.43661747401009854, 0.3479878613721205, 0.29765969900220574, 0.5933049918718245, 0.42063447276628707, 0.4550100142278063, 0.4614873089191161, 0.4614873089191161, 0.4421472504057532, 0.36728080937031155, 0.3423274031030006, 0.3423274031030006, 0.3423274031030006, 0.2332253609298242, 0.08206880266004143, 0.08206880266004143, 0.26040609170675166, 0.3240578671822735, 0.0642476147079002, 0.06623107250050131, 0.18529330298222052, 0.2513072341355524, 0.31087378438466684, 0.18263466931958228, 0.18263466931958228, 0.0738265763232332, 0.030760473318362958, 0.030760473318362958, 0.015948946628449166, 0.14156290455989917, 0.14156290455989917, 0.27795563904630716, 0.21039558997830404, 0.14181666335871276, 0.13337781439295146, 0.11949291842267666, 0.239949073048688, 0.4222529634725271, 0.3420213569795332, 0.3420213569795332, 0.3420213569795332], [0.9964468837907493, 1.0, 1.0, 1.0, 0.9396921790511394, 0.8909118577774785, 0.8909118577774785, 0.8909118577774785, 0.5497742461344434, 0.570776691446072, 0.601022726296427, 0.6091367554095051, 0.5350963696872163, 0.5612944090584414, 0.6309971135270699, 0.5414697627994691, 0.5121865945859027, 0.45196685387218416, 0.45196685387218416, 0.3797839839062706, 0.3180419581146699, 0.6068934976447125, 0.44209860904856085, 0.4665129737787905, 0.4907249630425602, 0.4907249630425602, 0.4745644051593947, 0.404329916901618, 0.37547515158017053, 0.37547515158017053, 0.37547515158017053, 0.26470626945084197, 0.06429210103699219, 0.06429210103699219, 0.2945586939727216, 0.3052003936603368, 0.08084861553688859, 0.05905953160727838, 0.1846349343439288, 0.2381181874805562, 0.2866409708291216, 0.1573490541545511, 0.1573490541545511, 0.053906014758734334, 0.008247605219254417, 0.008247605219254417, 0.031189254764986914, 0.17026895731801991, 0.17026895731801991, 0.2769680303597591, 0.20964802999719725, 0.1676359265199184, 0.13290390751867745, 0.11906834619733839, 0.24844800930049146, 0.36109816925326216, 0.2616618962644557, 0.2616618962644557, 0.2616618962644557], [0.9964468837907493, 1.0, 1.0, 1.0, 0.9396921790511394, 0.8909118577774785, 0.8909118577774785, 0.8909118577774785, 0.5497742461344434, 0.570776691446072, 0.601022726296427, 0.6091367554095051, 0.5350963696872163, 0.5612944090584414, 0.6309971135270699, 0.5414697627994691, 0.5121865945859027, 0.45196685387218416, 0.45196685387218416, 0.3797839839062706, 0.3180419581146699, 0.6068934976447125, 0.44209860904856085, 0.4665129737787905, 0.4907249630425602, 0.4907249630425602, 0.4745644051593947, 0.404329916901618, 0.37547515158017053, 0.37547515158017053, 0.37547515158017053, 0.26470626945084197, 0.06429210103699219, 0.06429210103699219, 0.2945586939727216, 0.3052003936603368, 0.08084861553688859, 0.05905953160727838, 0.1846349343439288, 0.2381181874805562, 0.2866409708291216, 0.1573490541545511, 0.1573490541545511, 0.053906014758734334, 0.008247605219254417, 0.008247605219254417, 0.031189254764986914, 0.17026895731801991, 0.17026895731801991, 0.2769680303597591, 0.20964802999719725, 0.1676359265199184, 0.13290390751867745, 0.11906834619733839, 0.24844800930049146, 0.36109816925326216, 0.2616618962644557, 0.2616618962644557, 0.2616618962644557], [0.9964468837907493, 1.0, 1.0, 1.0, 0.9396921790511394, 0.8909118577774785, 0.8909118577774785, 0.8909118577774785, 0.5497742461344434, 0.570776691446072, 0.601022726296427, 0.6091367554095051, 0.5350963696872163, 0.5612944090584414, 0.6309971135270699, 0.5414697627994691, 0.5121865945859027, 0.45196685387218416, 0.45196685387218416, 0.3797839839062706, 0.3180419581146699, 0.6068934976447125, 0.44209860904856085, 0.4665129737787905, 0.4907249630425602, 0.4907249630425602, 0.4745644051593947, 0.404329916901618, 0.37547515158017053, 0.37547515158017053, 0.37547515158017053, 0.26470626945084197, 0.06429210103699219, 0.06429210103699219, 0.2945586939727216, 0.3052003936603368, 0.08084861553688859, 0.05905953160727838, 0.1846349343439288, 0.2381181874805562, 0.2866409708291216, 0.1573490541545511, 0.1573490541545511, 0.053906014758734334, 0.008247605219254417, 0.008247605219254417, 0.031189254764986914, 0.17026895731801991, 0.17026895731801991, 0.2769680303597591, 0.20964802999719725, 0.1676359265199184, 0.13290390751867745, 0.11906834619733839, 0.24844800930049146, 0.36109816925326216, 0.2616618962644557, 0.2616618962644557, 0.2616618962644557], [0.9075470878163188, 0.9396921790511394, 0.9396921790511394, 0.9396921790511394, 1.0, 0.9480890419638086, 0.9480890419638086, 0.9480890419638086, 0.5852549033170916, 0.5809025609372108, 0.6043459847934526, 0.6127230439149856, 0.5875963605099817, 0.576211090427053, 0.7026633314148767, 0.5557458592257114, 0.5503428068101325, 0.4805203114539255, 0.4805203114539255, 0.4805203114539255, 0.3770423990824852, 0.6167175774889707, 0.4962208480456557, 0.4783594713337454, 0.5727803201229653, 0.5727803201229653, 0.5707391022701177, 0.5245634816554258, 0.4820222907622677, 0.4820222907622677, 0.4820222907622677, 0.3727630673212234, 0.012701837109633565, 0.012701837109633565, 0.41123383845311196, 0.2058129132953055, 0.1422208584048713, 0.025522891709019016, 0.16816239751338102, 0.16676297586405409, 0.1668119734185335, 0.042907596804799664, 0.042907596804799664, 0.03101765040189288, 0.08379073969923054, 0.08379073969923054, 0.09074726536823846, 0.2741153342721595, 0.2741153342721595, 0.2522578307585999, 0.19094390497420607, 0.2599561949990696, 0.1210466470316286, 0.10844545012917314, 0.2643929734004634, 0.08576894075984084, 0.08422355836525108, 0.08422355836525108, 0.08422355836525108], [0.8604354490248182, 0.8909118577774785, 0.8909118577774785, 0.8909118577774785, 0.9480890419638086, 1.0, 1.0, 1.0, 0.5403957024313496, 0.5525450461188913, 0.581867182760178, 0.588301629380891, 0.5605853338279567, 0.5432115484931351, 0.6758322684795537, 0.5198382114969027, 0.5142488731500773, 0.4508426060373453, 0.4508426060373453, 0.4508426060373453, 0.35757339373821195, 0.5879161086266498, 0.4510272339373128, 0.4341774343639014, 0.5452455775741811, 0.5452455775741811, 0.5420136741427991, 0.5120233819623299, 0.4446285722014271, 0.4446285722014271, 0.4446285722014271, 0.35042959974549853, 0.032922979963184475, 0.032922979963184475, 0.4689182188791279, 0.15234708112618522, 0.2118433539699705, 0.023846493643268973, 0.1594329263527986, 0.23085424725265744, 0.15815260406646972, 0.02718347321357576, 0.02718347321357576, 0.0068666268102511255, 0.061424466492146695, 0.061424466492146695, 0.07144309145255129, 0.25988574465768094, 0.25988574465768094, 0.23916288509178954, 0.18103182393582357, 0.2464616198692249, 0.11476299961714806, 0.10281594291830175, 0.05602070420949957, 0.09858303709087159, 0.0798514327612938, 0.0798514327612938, 0.0798514327612938], [0.8604354490248182, 0.8909118577774785, 0.8909118577774785, 0.8909118577774785, 0.9480890419638086, 1.0, 1.0, 1.0, 0.5403957024313496, 0.5525450461188913, 0.581867182760178, 0.588301629380891, 0.5605853338279567, 0.5432115484931351, 0.6758322684795537, 0.5198382114969027, 0.5142488731500773, 0.4508426060373453, 0.4508426060373453, 0.4508426060373453, 0.35757339373821195, 0.5879161086266498, 0.4510272339373128, 0.4341774343639014, 0.5452455775741811, 0.5452455775741811, 0.5420136741427991, 0.5120233819623299, 0.4446285722014271, 0.4446285722014271, 0.4446285722014271, 0.35042959974549853, 0.032922979963184475, 0.032922979963184475, 0.4689182188791279, 0.15234708112618522, 0.2118433539699705, 0.023846493643268973, 0.1594329263527986, 0.23085424725265744, 0.15815260406646972, 0.02718347321357576, 0.02718347321357576, 0.0068666268102511255, 0.061424466492146695, 0.061424466492146695, 0.07144309145255129, 0.25988574465768094, 0.25988574465768094, 0.23916288509178954, 0.18103182393582357, 0.2464616198692249, 0.11476299961714806, 0.10281594291830175, 0.05602070420949957, 0.09858303709087159, 0.0798514327612938, 0.0798514327612938, 0.0798514327612938], [0.8604354490248182, 0.8909118577774785, 0.8909118577774785, 0.8909118577774785, 0.9480890419638086, 1.0, 1.0, 1.0, 0.5403957024313496, 0.5525450461188913, 0.581867182760178, 0.588301629380891, 0.5605853338279567, 0.5432115484931351, 0.6758322684795537, 0.5198382114969027, 0.5142488731500773, 0.4508426060373453, 0.4508426060373453, 0.4508426060373453, 0.35757339373821195, 0.5879161086266498, 0.4510272339373128, 0.4341774343639014, 0.5452455775741811, 0.5452455775741811, 0.5420136741427991, 0.5120233819623299, 0.4446285722014271, 0.4446285722014271, 0.4446285722014271, 0.35042959974549853, 0.032922979963184475, 0.032922979963184475, 0.4689182188791279, 0.15234708112618522, 0.2118433539699705, 0.023846493643268973, 0.1594329263527986, 0.23085424725265744, 0.15815260406646972, 0.02718347321357576, 0.02718347321357576, 0.0068666268102511255, 0.061424466492146695, 0.061424466492146695, 0.07144309145255129, 0.25988574465768094, 0.25988574465768094, 0.23916288509178954, 0.18103182393582357, 0.2464616198692249, 0.11476299961714806, 0.10281594291830175, 0.05602070420949957, 0.09858303709087159, 0.0798514327612938, 0.0798514327612938, 0.0798514327612938], [0.5309189742597004, 0.5497742461344434, 0.5497742461344434, 0.5497742461344434, 0.5852549033170916, 0.5403957024313496, 0.5403957024313496, 0.5403957024313496, 1.0, 0.8378383756926141, 0.8905298690675065, 0.8959744948465692, 0.9095684034130597, 0.9145102023146623, 0.7502766240118605, 0.8473262959250722, 0.8668998581043015, 0.7754596553712353, 0.7754596553712353, 0.7509978590159596, 0.6024187896136562, 0.7882538698360319, 0.77110814454745, 0.7187689547462708, 0.5425396120324798, 0.5425396120324798, 0.6527413609383187, 0.6277762428378981, 0.6679088938252378, 0.6679088938252378, 0.6679088938252378, 0.5662828643789316, 0.31262684849409783, 0.31262684849409783, 0.38281149531709163, 0.440229486861374, 0.5194659081045865, 0.7217955665919372, 0.12414449083738327, 0.14336824502990617, 0.003529323252709044, 0.06648817897351754, 0.06648817897351754, 0.059775628028730356, 0.031019908554216317, 0.031019908554216317, 0.06459333325590443, 0.016733827900990445, 0.016733827900990445, 0.002267565357773273, 0.02430016136869525, 0.06946068101937179, 0.030242176287585833, 0.1339249820072048, 0.1986449513561076, 0.07550824512851587, 0.049831840186190045, 0.049831840186190045, 0.049831840186190045], [0.5577785650649603, 0.570776691446072, 0.570776691446072, 0.570776691446072, 0.5809025609372108, 0.5525450461188913, 0.5525450461188913, 0.5525450461188913, 0.8378383756926141, 1.0, 0.956818274084537, 0.9571757224823869, 0.9218157456270573, 0.9335980173949051, 0.8875463486519887, 0.8998493294415266, 0.8931948188122025, 0.8622890092191344, 0.8622890092191344, 0.8289770328067988, 0.8176617244220107, 0.8673180878874643, 0.8384762418923409, 0.7731492734537244, 0.674247486412046, 0.674247486412046, 0.755050295281412, 0.7338164089596924, 0.7419084152296544, 0.7419084152296544, 0.7419084152296544, 0.6674329181501311, 0.41555766422343093, 0.41555766422343093, 0.45510569330901524, 0.4769140846381047, 0.5771677222617357, 0.6284270481365569, 0.11375338848319172, 0.16601206886952435, 0.1452208972281486, 0.07008687042468176, 0.07008687042468176, 0.005798910417488819, 0.039628892120462056, 0.039628892120462056, 0.05764086201638962, 0.1000943751452733, 0.1000943751452733, 0.1110883554611743, 0.23973513513317674, 0.1330547632380979, 0.15981346942769725, 0.15521478578242795, 0.14813468233688734, 0.10634986672104864, 0.02363879460656318, 0.02363879460656318, 0.02363879460656318], [0.5891431089875478, 0.601022726296427, 0.601022726296427, 0.601022726296427, 0.6043459847934526, 0.581867182760178, 0.581867182760178, 0.581867182760178, 0.8905298690675065, 0.956818274084537, 1.0, 0.9995715591839943, 0.9790124809341144, 0.982865798750918, 0.9066049840828813, 0.9325233091057196, 0.9231458886038472, 0.8848424454059953, 0.8848424454059953, 0.8387664042375226, 0.8288671680658172, 0.895830262553189, 0.8677621676021727, 0.7967428900858272, 0.73347908241674, 0.73347908241674, 0.7890468642932883, 0.7632178830112404, 0.7729020013784415, 0.7729020013784415, 0.7729020013784415, 0.6844467825125898, 0.41495698024508815, 0.41495698024508815, 0.5403798667916934, 0.5075435113592426, 0.6120513274910192, 0.6741123363591098, 0.08813242744870742, 0.16719602582175247, 0.17581536996339528, 0.09947168590131894, 0.09947168590131894, 0.016867516378298943, 0.05209889591278342, 0.05209889591278342, 0.06679782526471446, 0.12268674271244172, 0.12268674271244172, 0.14491973122263102, 0.15383783912102358, 0.04800031833554973, 0.0634394787132802, 0.08291226587433578, 0.13281385035043605, 0.11543985392748234, 0.04560210609574801, 0.04560210609574801, 0.04560210609574801], [0.597043035283676, 0.6091367554095051, 0.6091367554095051, 0.6091367554095051, 0.6127230439149856, 0.588301629380891, 0.588301629380891, 0.588301629380891, 0.8959744948465692, 0.9571757224823869, 0.9995715591839943, 1.0, 0.9784132255555225, 0.9830293476197656, 0.9075549938488746, 0.9317862209063567, 0.9227575148834106, 0.8831989743501031, 0.8831989743501031, 0.8371229331816303, 0.8243078803150283, 0.8965149516300388, 0.8660577861251426, 0.7984090894982095, 0.7316248018231881, 0.7316248018231881, 0.787169750602508, 0.7607627518844028, 0.7711747634416707, 0.7711747634416707, 0.7711747634416707, 0.6821337621920537, 0.4096276234968113, 0.4096276234968113, 0.535626242747437, 0.4977940800038817, 0.6046818991547849, 0.6704921346777297, 0.08813242744870742, 0.1648273561747586, 0.17581536996339528, 0.09947168590131894, 0.09947168590131894, 0.016867516378298943, 0.05209889591278342, 0.05209889591278342, 0.06679782526471446, 0.12268674271244172, 0.12268674271244172, 0.14491973122263102, 0.15383783912102358, 0.04800031833554973, 0.0634394787132802, 0.08291226587433578, 0.13960124967630344, 0.11942125359589918, 0.04560210609574801, 0.04560210609574801, 0.04560210609574801], [0.5123201796241794, 0.5350963696872163, 0.5350963696872163, 0.5350963696872163, 0.5875963605099817, 0.5605853338279567, 0.5605853338279567, 0.5605853338279567, 0.9095684034130597, 0.9218157456270573, 0.9790124809341144, 0.9784132255555225, 1.0, 0.9871323223726475, 0.8993819264598456, 0.9496205491234653, 0.9515375771031095, 0.9101327349548252, 0.9101327349548252, 0.8940983751463283, 0.8338224648844667, 0.90231636048332, 0.9026495946683026, 0.8106614245523744, 0.7553210927923869, 0.7553210927923869, 0.8358872810365999, 0.8198513116128114, 0.8243227354897031, 0.8243227354897031, 0.8243227354897031, 0.7501466577260204, 0.48276568920417623, 0.48276568920417623, 0.5688937281642181, 0.5584181287340826, 0.5968332715970164, 0.6983001256258313, 0.032329549776339235, 0.24901194122940695, 0.14557457289725867, 0.07674988453268378, 0.07674988453268378, 0.08784008228187053, 0.12580417558178694, 0.12580417558178694, 0.11330773184211694, 0.18953311594681424, 0.18953311594681424, 0.15828567174827732, 0.1398652627008542, 0.07948989359814941, 0.1012020973529666, 0.13961106607799248, 0.1447671669912528, 0.0032700522499714327, 0.09920186865926313, 0.09920186865926313, 0.09920186865926313], [0.5472910465331224, 0.5612944090584414, 0.5612944090584414, 0.5612944090584414, 0.576211090427053, 0.5432115484931351, 0.5432115484931351, 0.5432115484931351, 0.9145102023146623, 0.9335980173949051, 0.982865798750918, 0.9830293476197656, 0.9871323223726475, 1.0, 0.8883128436048705, 0.9643249499062505, 0.9604754413935633, 0.9165372184099708, 0.9165372184099708, 0.8785219363776917, 0.8244066251492633, 0.9275497435948842, 0.914741879918441, 0.8495570162021508, 0.7423037084114622, 0.7423037084114622, 0.8260210571414874, 0.8023138162959498, 0.8218170243051764, 0.8218170243051764, 0.8218170243051764, 0.7576044718368475, 0.4996092108469407, 0.4996092108469407, 0.5283613907896011, 0.509440360904119, 0.6079014602298023, 0.689563082954938, 0.07069601572820254, 0.29023056653592694, 0.21966673414625354, 0.14683351969394384, 0.14683351969394384, 0.09304161090834545, 0.13082872682899227, 0.13082872682899227, 0.13164841784810902, 0.19705662073769786, 0.19705662073769786, 0.20757009655922973, 0.18350231294219357, 0.08978568009564343, 0.12887415894759435, 0.14731817862945532, 0.16171076638049842, 0.10247235765745705, 0.009252052847773383, 0.009252052847773383, 0.009252052847773383], [0.6017362324073491, 0.6309971135270699, 0.6309971135270699, 0.6309971135270699, 0.7026633314148767, 0.6758322684795537, 0.6758322684795537, 0.6758322684795537, 0.7502766240118605, 0.8875463486519887, 0.9066049840828813, 0.9075549938488746, 0.8993819264598456, 0.8883128436048705, 1.0, 0.8921685893219349, 0.8827996109833958, 0.8599528791684432, 0.8599528791684432, 0.8599528791684432, 0.8892327559585307, 0.9096087381760758, 0.8884854143132692, 0.8284904024013465, 0.8913296215435247, 0.8913296215435247, 0.8920077329241802, 0.885452552221369, 0.8674004855348063, 0.8674004855348063, 0.8674004855348063, 0.7805415602622953, 0.5095243432946025, 0.5095243432946025, 0.6316067518231372, 0.38784272276988235, 0.4094492558110527, 0.4352840517131485, 0.2885410879978933, 0.22568434214384916, 0.30239748839548647, 0.22115140713459422, 0.22115140713459422, 0.2527799495977336, 0.303276519466103, 0.303276519466103, 0.3022780255223634, 0.396760607653404, 0.396760607653404, 0.35581734748381993, 0.40012353881255097, 0.3527583574307289, 0.20769762889604299, 0.028102595126064174, 0.1565292289563218, 0.027125465526968963, 0.14451481142703057, 0.14451481142703057, 0.14451481142703057], [0.5279889997534616, 0.5414697627994691, 0.5414697627994691, 0.5414697627994691, 0.5557458592257114, 0.5198382114969027, 0.5198382114969027, 0.5198382114969027, 0.8473262959250722, 0.8998493294415266, 0.9325233091057196, 0.9317862209063567, 0.9496205491234653, 0.9643249499062505, 0.8921685893219349, 1.0, 0.9945664108211634, 0.9659141216493848, 0.9659141216493848, 0.9339895804757258, 0.8429276810883655, 0.9760972365269428, 0.9679922351513445, 0.9031806961978444, 0.7924178872104114, 0.7924178872104114, 0.8921330847645287, 0.869077924554275, 0.8831837393324978, 0.8831837393324978, 0.8831837393324978, 0.8213414462604488, 0.6069198352871196, 0.6069198352871196, 0.5004838421022587, 0.47780787190442164, 0.5796949441049155, 0.5931162979397152, 0.07065149801168676, 0.3754041558597524, 0.36134342647944884, 0.2894021020016203, 0.2894021020016203, 0.24616176712738888, 0.28864286116568166, 0.28864286116568166, 0.2811360723495725, 0.3519938791478395, 0.3519938791478395, 0.36551526395725753, 0.3299865241487806, 0.24215719204179612, 0.36899591317068625, 0.1434236187881006, 0.16834118079580038, 0.10635687685777186, 0.009246226773112405, 0.009246226773112405, 0.009246226773112405], [0.49336422635084765, 0.5121865945859027, 0.5121865945859027, 0.5121865945859027, 0.5503428068101325, 0.5142488731500773, 0.5142488731500773, 0.5142488731500773, 0.8668998581043015, 0.8931948188122025, 0.9231458886038472, 0.9227575148834106, 0.9515375771031095, 0.9604754413935633, 0.8827996109833958, 0.9945664108211634, 1.0, 0.9607430018827922, 0.9607430018827922, 0.9434035341761469, 0.8271692299509674, 0.9655231951359453, 0.9677987939341502, 0.8972112472451945, 0.77229680721318, 0.77229680721318, 0.8879131833942812, 0.870871748669025, 0.8897446393609187, 0.8897446393609187, 0.8897446393609187, 0.8218203154322615, 0.6092904192156354, 0.6092904192156354, 0.4959720226213032, 0.5084905941114488, 0.5765231352525927, 0.6234301309764959, 0.032329549776339235, 0.39097161120424184, 0.3227585101827089, 0.2592493844104783, 0.2592493844104783, 0.25690393988071347, 0.297221855459598, 0.297221855459598, 0.28439778336292904, 0.3519667525450961, 0.3519667525450961, 0.3384198355900108, 0.2995975669808757, 0.23148523622164366, 0.3689674762967987, 0.14341256576768927, 0.1683282074897081, 0.048680589155235106, 0.06082049075986057, 0.06082049075986057, 0.06082049075986057], [0.43661747401009854, 0.45196685387218416, 0.45196685387218416, 0.45196685387218416, 0.4805203114539255, 0.4508426060373453, 0.4508426060373453, 0.4508426060373453, 0.7754596553712353, 0.8622890092191344, 0.8848424454059953, 0.8831989743501031, 0.9101327349548252, 0.9165372184099708, 0.8599528791684432, 0.9659141216493848, 0.9607430018827922, 1.0, 1.0, 0.9760283253301674, 0.8382910208790105, 0.9251987061844641, 0.9334621881353824, 0.8316310449539354, 0.7578875210375914, 0.7578875210375914, 0.8551807602707848, 0.845339700112379, 0.842304428454472, 0.842304428454472, 0.842304428454472, 0.8263320135583585, 0.6155343753589658, 0.6155343753589658, 0.4351340061570871, 0.4747838181899877, 0.5419618920492933, 0.5749304628997906, 0.010776516592113079, 0.4053797134683844, 0.3360560907122722, 0.2531960368054884, 0.2531960368054884, 0.2169939544121075, 0.26218658717231996, 0.26218658717231996, 0.2643998272925442, 0.33871320971616287, 0.33871320971616287, 0.3319757415135821, 0.296625103341575, 0.21281585591786312, 0.42068181986964187, 0.12202913001314478, 0.14140130406290205, 0.050654960325029176, 0.03923096569144663, 0.03923096569144663, 0.03923096569144663], [0.43661747401009854, 0.45196685387218416, 0.45196685387218416, 0.45196685387218416, 0.4805203114539255, 0.4508426060373453, 0.4508426060373453, 0.4508426060373453, 0.7754596553712353, 0.8622890092191344, 0.8848424454059953, 0.8831989743501031, 0.9101327349548252, 0.9165372184099708, 0.8599528791684432, 0.9659141216493848, 0.9607430018827922, 1.0, 1.0, 0.9760283253301674, 0.8382910208790105, 0.9251987061844641, 0.9334621881353824, 0.8316310449539354, 0.7578875210375914, 0.7578875210375914, 0.8551807602707848, 0.845339700112379, 0.842304428454472, 0.842304428454472, 0.842304428454472, 0.8263320135583585, 0.6155343753589658, 0.6155343753589658, 0.4351340061570871, 0.4747838181899877, 0.5419618920492933, 0.5749304628997906, 0.010776516592113079, 0.4053797134683844, 0.3360560907122722, 0.2531960368054884, 0.2531960368054884, 0.2169939544121075, 0.26218658717231996, 0.26218658717231996, 0.2643998272925442, 0.33871320971616287, 0.33871320971616287, 0.3319757415135821, 0.296625103341575, 0.21281585591786312, 0.42068181986964187, 0.12202913001314478, 0.14140130406290205, 0.050654960325029176, 0.03923096569144663, 0.03923096569144663, 0.03923096569144663], [0.3479878613721205, 0.3797839839062706, 0.3797839839062706, 0.3797839839062706, 0.4805203114539255, 0.4508426060373453, 0.4508426060373453, 0.4508426060373453, 0.7509978590159596, 0.8289770328067988, 0.8387664042375226, 0.8371229331816303, 0.8940983751463283, 0.8785219363776917, 0.8599528791684432, 0.9339895804757258, 0.9434035341761469, 0.9760283253301674, 0.9760283253301674, 1.0, 0.8382910208790105, 0.894588488850099, 0.932637450787738, 0.8116066186932042, 0.7821096043361802, 0.7821096043361802, 0.886067584640692, 0.8903110008570618, 0.8801422548327791, 0.8801422548327791, 0.8801422548327791, 0.8683691454422823, 0.655156806861353, 0.655156806861353, 0.48384624051100017, 0.5176914565102566, 0.4821325254555721, 0.5619802331948656, 0.010776516592113079, 0.4504206734175669, 0.26222079327945197, 0.18703381001096617, 0.18703381001096617, 0.2761371860402861, 0.32404382893435657, 0.32404382893435657, 0.3060136984021262, 0.40238224170089926, 0.40238224170089926, 0.3173802719293993, 0.296625103341575, 0.2826606627090752, 0.42068181986964187, 0.09209231995678248, 0.14140130406290205, 0.12243157889358453, 0.2495289320985898, 0.2495289320985898, 0.2495289320985898], [0.29765969900220574, 0.3180419581146699, 0.3180419581146699, 0.3180419581146699, 0.3770423990824852, 0.35757339373821195, 0.35757339373821195, 0.35757339373821195, 0.6024187896136562, 0.8176617244220107, 0.8288671680658172, 0.8243078803150283, 0.8338224648844667, 0.8244066251492633, 0.8892327559585307, 0.8429276810883655, 0.8271692299509674, 0.8382910208790105, 0.8382910208790105, 0.8382910208790105, 1.0, 0.8274967018516838, 0.8761335351407161, 0.7908236073405892, 0.8483613735041695, 0.8483613735041695, 0.8495495671421616, 0.8606274331889737, 0.854798883679441, 0.854798883679441, 0.854798883679441, 0.827189261271187, 0.6864130934438853, 0.6864130934438853, 0.6625518655138233, 0.6079747537345052, 0.6149231427585992, 0.5139952474258347, 0.2743380754104577, 0.4031957776141031, 0.30933006238781113, 0.2565012227455928, 0.2565012227455928, 0.27822946504797547, 0.31863493886110267, 0.31863493886110267, 0.3316773817786563, 0.3606711427889107, 0.3606711427889107, 0.32096926354590577, 0.39674296939102033, 0.2937108406717541, 0.19747401721543353, 0.00883349792229151, 0.09937309152607308, 0.05479769030824186, 0.13740128142681102, 0.13740128142681102, 0.13740128142681102], [0.5933049918718245, 0.6068934976447125, 0.6068934976447125, 0.6068934976447125, 0.6167175774889707, 0.5879161086266498, 0.5879161086266498, 0.5879161086266498, 0.7882538698360319, 0.8673180878874643, 0.895830262553189, 0.8965149516300388, 0.90231636048332, 0.9275497435948842, 0.9096087381760758, 0.9760972365269428, 0.9655231951359453, 0.9251987061844641, 0.9251987061844641, 0.894588488850099, 0.8274967018516838, 1.0, 0.9707652748595985, 0.950329412573049, 0.8499683775218991, 0.8499683775218991, 0.9343464291973597, 0.9067427533099055, 0.9172920114689589, 0.9172920114689589, 0.9172920114689589, 0.8538023501878916, 0.6314948771183951, 0.6314948771183951, 0.5555317282097276, 0.36861658673305864, 0.47239115964227163, 0.4667399988863917, 0.24234357885942195, 0.41359432388146833, 0.4915499890881038, 0.4153817017574534, 0.4153817017574534, 0.3615155868432161, 0.4102165391418768, 0.4102165391418768, 0.4105603415510597, 0.4924261125462147, 0.4924261125462147, 0.5190790252931492, 0.4747465087562953, 0.392327109743909, 0.4029064042356334, 0.16332010680040765, 0.15331192355469583, 0.11280697408282885, 0.027794301090376217, 0.027794301090376217, 0.027794301090376217], [0.42063447276628707, 0.44209860904856085, 0.44209860904856085, 0.44209860904856085, 0.4962208480456557, 0.4510272339373128, 0.4510272339373128, 0.4510272339373128, 0.77110814454745, 0.8384762418923409, 0.8677621676021727, 0.8660577861251426, 0.9026495946683026, 0.914741879918441, 0.8884854143132692, 0.9679922351513445, 0.9677987939341502, 0.9334621881353824, 0.9334621881353824, 0.932637450787738, 0.8761335351407161, 0.9707652748595985, 1.0, 0.9570574809010548, 0.8633877368205923, 0.8633877368205923, 0.9548593095345775, 0.9441565899064936, 0.9673208491751655, 0.9673208491751655, 0.9673208491751655, 0.917795693487848, 0.749991883473187, 0.749991883473187, 0.5826433270724988, 0.5084233767349736, 0.5618608923319948, 0.5502375551816802, 0.2241943033512761, 0.5300316829381366, 0.43699525707284786, 0.37639045312913233, 0.37639045312913233, 0.40472268745385725, 0.45228430670266484, 0.45228430670266484, 0.43915888682249604, 0.5108769353549817, 0.5108769353549817, 0.4847006031001691, 0.45990097336569286, 0.3916133844960866, 0.3788878640415018, 0.15190413942129366, 0.19013583195927714, 0.019112995433260293, 0.11228694567083876, 0.11228694567083876, 0.11228694567083876], [0.4550100142278063, 0.4665129737787905, 0.4665129737787905, 0.4665129737787905, 0.4783594713337454, 0.4341774343639014, 0.4341774343639014, 0.4341774343639014, 0.7187689547462708, 0.7731492734537244, 0.7967428900858272, 0.7984090894982095, 0.8106614245523744, 0.8495570162021508, 0.8284904024013465, 0.9031806961978444, 0.8972112472451945, 0.8316310449539354, 0.8316310449539354, 0.8116066186932042, 0.7908236073405892, 0.950329412573049, 0.9570574809010548, 1.0, 0.828054646533783, 0.828054646533783, 0.9180508006781581, 0.8993441180432551, 0.9425151068342682, 0.9425151068342682, 0.9425151068342682, 0.884686173861116, 0.7550847668365992, 0.7550847668365992, 0.5531551830953825, 0.3966034379569661, 0.5057835518529885, 0.4641818787186441, 0.4037202419600881, 0.5615755172191534, 0.5668856219207159, 0.5132625031782461, 0.5132625031782461, 0.48403721364704894, 0.5316267029033299, 0.5316267029033299, 0.5261649396936174, 0.5782975654677827, 0.5782975654677827, 0.6023966083928373, 0.5982635786290318, 0.483818650812909, 0.3689674762967987, 0.14673887799617397, 0.18515752213146186, 0.11622053625527401, 0.009245514207538377, 0.009245514207538377, 0.009245514207538377], [0.4614873089191161, 0.4907249630425602, 0.4907249630425602, 0.4907249630425602, 0.5727803201229653, 0.5452455775741811, 0.5452455775741811, 0.5452455775741811, 0.5425396120324798, 0.674247486412046, 0.73347908241674, 0.7316248018231881, 0.7553210927923869, 0.7423037084114622, 0.8913296215435247, 0.7924178872104114, 0.77229680721318, 0.7578875210375914, 0.7578875210375914, 0.7821096043361802, 0.8483613735041695, 0.8499683775218991, 0.8633877368205923, 0.828054646533783, 1.0, 1.0, 0.9430316922827354, 0.9301732362375251, 0.9095640778322409, 0.9095640778322409, 0.9095640778322409, 0.8620461892161981, 0.6343711714226183, 0.6343711714226183, 0.7419637484475607, 0.31876325095834873, 0.31185016883698113, 0.24428437218681684, 0.4618049086060528, 0.39095774547380985, 0.45975087700604844, 0.39507460180461756, 0.39507460180461756, 0.46337850291061167, 0.5183142549855795, 0.5183142549855795, 0.5068794793646285, 0.5999220957415762, 0.5999220957415762, 0.5518534863805682, 0.5498979889412272, 0.5046768191683986, 0.22690219333010678, 0.15292002904875368, 0.1447706831202169, 0.06871389887614308, 0.18666396910265876, 0.18666396910265876, 0.18666396910265876], [0.4614873089191161, 0.4907249630425602, 0.4907249630425602, 0.4907249630425602, 0.5727803201229653, 0.5452455775741811, 0.5452455775741811, 0.5452455775741811, 0.5425396120324798, 0.674247486412046, 0.73347908241674, 0.7316248018231881, 0.7553210927923869, 0.7423037084114622, 0.8913296215435247, 0.7924178872104114, 0.77229680721318, 0.7578875210375914, 0.7578875210375914, 0.7821096043361802, 0.8483613735041695, 0.8499683775218991, 0.8633877368205923, 0.828054646533783, 1.0, 1.0, 0.9430316922827354, 0.9301732362375251, 0.9095640778322409, 0.9095640778322409, 0.9095640778322409, 0.8620461892161981, 0.6343711714226183, 0.6343711714226183, 0.7419637484475607, 0.31876325095834873, 0.31185016883698113, 0.24428437218681684, 0.4618049086060528, 0.39095774547380985, 0.45975087700604844, 0.39507460180461756, 0.39507460180461756, 0.46337850291061167, 0.5183142549855795, 0.5183142549855795, 0.5068794793646285, 0.5999220957415762, 0.5999220957415762, 0.5518534863805682, 0.5498979889412272, 0.5046768191683986, 0.22690219333010678, 0.15292002904875368, 0.1447706831202169, 0.06871389887614308, 0.18666396910265876, 0.18666396910265876, 0.18666396910265876], [0.4421472504057532, 0.4745644051593947, 0.4745644051593947, 0.4745644051593947, 0.5707391022701177, 0.5420136741427991, 0.5420136741427991, 0.5420136741427991, 0.6527413609383187, 0.755050295281412, 0.7890468642932883, 0.787169750602508, 0.8358872810365999, 0.8260210571414874, 0.8920077329241802, 0.8921330847645287, 0.8879131833942812, 0.8551807602707848, 0.8551807602707848, 0.886067584640692, 0.8495495671421616, 0.9343464291973597, 0.9548593095345775, 0.9180508006781581, 0.9430316922827354, 0.9430316922827354, 1.0, 0.9893722744945731, 0.9780379464301426, 0.9780379464301426, 0.9780379464301426, 0.9366758857340857, 0.7274671372699417, 0.7274671372699417, 0.700740021185754, 0.40465085108306703, 0.380696559233901, 0.36601212646184306, 0.3660773395932965, 0.5020822289111014, 0.471056112393148, 0.4043465323703719, 0.4043465323703719, 0.5030321942585655, 0.559693571708316, 0.559693571708316, 0.5353878207602022, 0.6433876034377921, 0.6433876034377921, 0.5788824874502317, 0.5597666108244839, 0.5423502616246093, 0.36904298882512654, 0.15294761069767612, 0.14816334668283254, 0.10073410795294416, 0.2279860568896788, 0.2279860568896788, 0.2279860568896788], [0.36728080937031155, 0.404329916901618, 0.404329916901618, 0.404329916901618, 0.5245634816554258, 0.5120233819623299, 0.5120233819623299, 0.5120233819623299, 0.6277762428378981, 0.7338164089596924, 0.7632178830112404, 0.7607627518844028, 0.8198513116128114, 0.8023138162959498, 0.885452552221369, 0.869077924554275, 0.870871748669025, 0.845339700112379, 0.845339700112379, 0.8903110008570618, 0.8606274331889737, 0.9067427533099055, 0.9441565899064936, 0.8993441180432551, 0.9301732362375251, 0.9301732362375251, 0.9893722744945731, 1.0, 0.9825060848666559, 0.9825060848666559, 0.9825060848666559, 0.9499203939031047, 0.765655905844999, 0.765655905844999, 0.7204128595236129, 0.45782915351645403, 0.3784698674466485, 0.38037633920395536, 0.3660024338876923, 0.5224160950327029, 0.45687630144593777, 0.39014449037092336, 0.39014449037092336, 0.5174258796200045, 0.5759785652775978, 0.5759785652775978, 0.5570809492477716, 0.6597802184657194, 0.6597802184657194, 0.5674545675299806, 0.5598550770630601, 0.5426756651329214, 0.3620722304870863, 0.13913587861678037, 0.09413897877731019, 0.19359120647157924, 0.3023033267102683, 0.3023033267102683, 0.3023033267102683], [0.3423274031030006, 0.37547515158017053, 0.37547515158017053, 0.37547515158017053, 0.4820222907622677, 0.4446285722014271, 0.4446285722014271, 0.4446285722014271, 0.6679088938252378, 0.7419084152296544, 0.7729020013784415, 0.7711747634416707, 0.8243227354897031, 0.8218170243051764, 0.8674004855348063, 0.8831837393324978, 0.8897446393609187, 0.842304428454472, 0.842304428454472, 0.8801422548327791, 0.854798883679441, 0.9172920114689589, 0.9673208491751655, 0.9425151068342682, 0.9095640778322409, 0.9095640778322409, 0.9780379464301426, 0.9825060848666559, 1.0, 1.0, 1.0, 0.9493115276478866, 0.7981106791025532, 0.7981106791025532, 0.6861602544913641, 0.4932918684416809, 0.4612076069236282, 0.4482302032799032, 0.3660024338876923, 0.5816133934624684, 0.4630177790924802, 0.41366269848365106, 0.41366269848365106, 0.5305164810775265, 0.5821709211356351, 0.5821709211356351, 0.5627233690787579, 0.6409622864876635, 0.6409622864876635, 0.5620220724482803, 0.5473804755604211, 0.5166125880525327, 0.3413864930579491, 0.15624262722041596, 0.16496234456135733, 0.12243157889358453, 0.26632078492957845, 0.26632078492957845, 0.26632078492957845], [0.3423274031030006, 0.37547515158017053, 0.37547515158017053, 0.37547515158017053, 0.4820222907622677, 0.4446285722014271, 0.4446285722014271, 0.4446285722014271, 0.6679088938252378, 0.7419084152296544, 0.7729020013784415, 0.7711747634416707, 0.8243227354897031, 0.8218170243051764, 0.8674004855348063, 0.8831837393324978, 0.8897446393609187, 0.842304428454472, 0.842304428454472, 0.8801422548327791, 0.854798883679441, 0.9172920114689589, 0.9673208491751655, 0.9425151068342682, 0.9095640778322409, 0.9095640778322409, 0.9780379464301426, 0.9825060848666559, 1.0, 1.0, 1.0, 0.9493115276478866, 0.7981106791025532, 0.7981106791025532, 0.6861602544913641, 0.4932918684416809, 0.4612076069236282, 0.4482302032799032, 0.3660024338876923, 0.5816133934624684, 0.4630177790924802, 0.41366269848365106, 0.41366269848365106, 0.5305164810775265, 0.5821709211356351, 0.5821709211356351, 0.5627233690787579, 0.6409622864876635, 0.6409622864876635, 0.5620220724482803, 0.5473804755604211, 0.5166125880525327, 0.3413864930579491, 0.15624262722041596, 0.16496234456135733, 0.12243157889358453, 0.26632078492957845, 0.26632078492957845, 0.26632078492957845], [0.3423274031030006, 0.37547515158017053, 0.37547515158017053, 0.37547515158017053, 0.4820222907622677, 0.4446285722014271, 0.4446285722014271, 0.4446285722014271, 0.6679088938252378, 0.7419084152296544, 0.7729020013784415, 0.7711747634416707, 0.8243227354897031, 0.8218170243051764, 0.8674004855348063, 0.8831837393324978, 0.8897446393609187, 0.842304428454472, 0.842304428454472, 0.8801422548327791, 0.854798883679441, 0.9172920114689589, 0.9673208491751655, 0.9425151068342682, 0.9095640778322409, 0.9095640778322409, 0.9780379464301426, 0.9825060848666559, 1.0, 1.0, 1.0, 0.9493115276478866, 0.7981106791025532, 0.7981106791025532, 0.6861602544913641, 0.4932918684416809, 0.4612076069236282, 0.4482302032799032, 0.3660024338876923, 0.5816133934624684, 0.4630177790924802, 0.41366269848365106, 0.41366269848365106, 0.5305164810775265, 0.5821709211356351, 0.5821709211356351, 0.5627233690787579, 0.6409622864876635, 0.6409622864876635, 0.5620220724482803, 0.5473804755604211, 0.5166125880525327, 0.3413864930579491, 0.15624262722041596, 0.16496234456135733, 0.12243157889358453, 0.26632078492957845, 0.26632078492957845, 0.26632078492957845], [0.2332253609298242, 0.26470626945084197, 0.26470626945084197, 0.26470626945084197, 0.3727630673212234, 0.35042959974549853, 0.35042959974549853, 0.35042959974549853, 0.5662828643789316, 0.6674329181501311, 0.6844467825125898, 0.6821337621920537, 0.7501466577260204, 0.7576044718368475, 0.7805415602622953, 0.8213414462604488, 0.8218203154322615, 0.8263320135583585, 0.8263320135583585, 0.8683691454422823, 0.827189261271187, 0.8538023501878916, 0.917795693487848, 0.884686173861116, 0.8620461892161981, 0.8620461892161981, 0.9366758857340857, 0.9499203939031047, 0.9493115276478866, 0.9493115276478866, 0.9493115276478866, 1.0, 0.832469187099956, 0.832469187099956, 0.6558008609071226, 0.4362578193160846, 0.37197398103535456, 0.3929604550589789, 0.3660024338876923, 0.693982104206276, 0.48719383082488765, 0.4262898643769414, 0.4262898643769414, 0.5292631373004855, 0.5854399278646069, 0.5854399278646069, 0.5808787947316739, 0.6580095848995158, 0.6580095848995158, 0.5739414429007285, 0.5615995589005325, 0.5144767801445131, 0.3620722304870863, 0.15244112753071917, 0.1076024304907132, 0.16792438126425627, 0.2807138016418544, 0.2807138016418544, 0.2807138016418544], [0.08206880266004143, 0.06429210103699219, 0.06429210103699219, 0.06429210103699219, 0.012701837109633565, 0.032922979963184475, 0.032922979963184475, 0.032922979963184475, 0.31262684849409783, 0.41555766422343093, 0.41495698024508815, 0.4096276234968113, 0.48276568920417623, 0.4996092108469407, 0.5095243432946025, 0.6069198352871196, 0.6092904192156354, 0.6155343753589658, 0.6155343753589658, 0.655156806861353, 0.6864130934438853, 0.6314948771183951, 0.749991883473187, 0.7550847668365992, 0.6343711714226183, 0.6343711714226183, 0.7274671372699417, 0.765655905844999, 0.7981106791025532, 0.7981106791025532, 0.7981106791025532, 0.832469187099956, 1.0, 1.0, 0.4380010561377879, 0.5146488688536062, 0.4902450730260483, 0.3263475836253803, 0.3564407035114978, 0.7770060285795225, 0.514497773728353, 0.4574946493990836, 0.4574946493990836, 0.5353515503627531, 0.5880558930381578, 0.5880558930381578, 0.5866773167457446, 0.6570873636565862, 0.6570873636565862, 0.5941794013022291, 0.5810954521635914, 0.5351243614717508, 0.42070235153374824, 0.12773761356507995, 0.13972519164951563, 0.10170564518211019, 0.223152625377821, 0.223152625377821, 0.223152625377821], [0.08206880266004143, 0.06429210103699219, 0.06429210103699219, 0.06429210103699219, 0.012701837109633565, 0.032922979963184475, 0.032922979963184475, 0.032922979963184475, 0.31262684849409783, 0.41555766422343093, 0.41495698024508815, 0.4096276234968113, 0.48276568920417623, 0.4996092108469407, 0.5095243432946025, 0.6069198352871196, 0.6092904192156354, 0.6155343753589658, 0.6155343753589658, 0.655156806861353, 0.6864130934438853, 0.6314948771183951, 0.749991883473187, 0.7550847668365992, 0.6343711714226183, 0.6343711714226183, 0.7274671372699417, 0.765655905844999, 0.7981106791025532, 0.7981106791025532, 0.7981106791025532, 0.832469187099956, 1.0, 1.0, 0.4380010561377879, 0.5146488688536062, 0.4902450730260483, 0.3263475836253803, 0.3564407035114978, 0.7770060285795225, 0.514497773728353, 0.4574946493990836, 0.4574946493990836, 0.5353515503627531, 0.5880558930381578, 0.5880558930381578, 0.5866773167457446, 0.6570873636565862, 0.6570873636565862, 0.5941794013022291, 0.5810954521635914, 0.5351243614717508, 0.42070235153374824, 0.12773761356507995, 0.13972519164951563, 0.10170564518211019, 0.223152625377821, 0.223152625377821, 0.223152625377821], [0.26040609170675166, 0.2945586939727216, 0.2945586939727216, 0.2945586939727216, 0.41123383845311196, 0.4689182188791279, 0.4689182188791279, 0.4689182188791279, 0.38281149531709163, 0.45510569330901524, 0.5403798667916934, 0.535626242747437, 0.5688937281642181, 0.5283613907896011, 0.6316067518231372, 0.5004838421022587, 0.4959720226213032, 0.4351340061570871, 0.4351340061570871, 0.48384624051100017, 0.6625518655138233, 0.5555317282097276, 0.5826433270724988, 0.5531551830953825, 0.7419637484475607, 0.7419637484475607, 0.700740021185754, 0.7204128595236129, 0.6861602544913641, 0.6861602544913641, 0.6861602544913641, 0.6558008609071226, 0.4380010561377879, 0.4380010561377879, 1.0, 0.36791647390807203, 0.1903134047551694, 0.17011359674014814, 0.45221456662459697, 0.23291875906096188, 0.24858907739580957, 0.20941656713930587, 0.20941656713930587, 0.314807555459286, 0.35567273024785656, 0.35567273024785656, 0.3697672287742803, 0.41577461939072324, 0.41577461939072324, 0.3206007044884499, 0.32075635786241524, 0.2795163971840181, 0.12346799528016295, 0.17097343851799107, 0.13095310455614656, 0.3256272784515578, 0.3023033267102683, 0.3023033267102683, 0.3023033267102683], [0.3240578671822735, 0.3052003936603368, 0.3052003936603368, 0.3052003936603368, 0.2058129132953055, 0.15234708112618522, 0.15234708112618522, 0.15234708112618522, 0.440229486861374, 0.4769140846381047, 0.5075435113592426, 0.4977940800038817, 0.5584181287340826, 0.509440360904119, 0.38784272276988235, 0.47780787190442164, 0.5084905941114488, 0.4747838181899877, 0.4747838181899877, 0.5176914565102566, 0.6079747537345052, 0.36861658673305864, 0.5084233767349736, 0.3966034379569661, 0.31876325095834873, 0.31876325095834873, 0.40465085108306703, 0.45782915351645403, 0.4932918684416809, 0.4932918684416809, 0.4932918684416809, 0.4362578193160846, 0.5146488688536062, 0.5146488688536062, 0.36791647390807203, 1.0, 0.810119933017295, 0.8113983053453189, 0.12336875478009551, 0.2809051240368001, 0.15027459812342106, 0.12943627313211625, 0.12943627313211625, 0.023623570696024557, 0.024916734942878726, 0.024916734942878726, 0.0062384242004848165, 0.02860013654253826, 0.02860013654253826, 0.147503768091455, 0.09791915745991167, 0.12244472953429412, 0.0888032897688051, 0.0025196614990341416, 0.18416029395386566, 0.36184205899293154, 0.30838329280788246, 0.30838329280788246, 0.30838329280788246], [0.0642476147079002, 0.08084861553688859, 0.08084861553688859, 0.08084861553688859, 0.1422208584048713, 0.2118433539699705, 0.2118433539699705, 0.2118433539699705, 0.5194659081045865, 0.5771677222617357, 0.6120513274910192, 0.6046818991547849, 0.5968332715970164, 0.6079014602298023, 0.4094492558110527, 0.5796949441049155, 0.5765231352525927, 0.5419618920492933, 0.5419618920492933, 0.4821325254555721, 0.6149231427585992, 0.47239115964227163, 0.5618608923319948, 0.5057835518529885, 0.31185016883698113, 0.31185016883698113, 0.380696559233901, 0.3784698674466485, 0.4612076069236282, 0.4612076069236282, 0.4612076069236282, 0.37197398103535456, 0.4902450730260483, 0.4902450730260483, 0.1903134047551694, 0.810119933017295, 1.0, 0.7907167814506373, 0.06479877895778484, 0.2610071485398317, 0.05448560683570541, 0.06689035404149052, 0.06689035404149052, 0.05023242775325164, 0.05611722457511864, 0.05611722457511864, 0.03352690504998449, 0.12434345116681118, 0.12434345116681118, 0.06528594413889878, 0.026031262177369317, 0.2043089913516891, 0.046643453236680725, 0.023678729417292703, 0.19593214862815864, 0.2513871409343639, 0.16579220723134844, 0.16579220723134844, 0.16579220723134844], [0.06623107250050131, 0.05905953160727838, 0.05905953160727838, 0.05905953160727838, 0.025522891709019016, 0.023846493643268973, 0.023846493643268973, 0.023846493643268973, 0.7217955665919372, 0.6284270481365569, 0.6741123363591098, 0.6704921346777297, 0.6983001256258313, 0.689563082954938, 0.4352840517131485, 0.5931162979397152, 0.6234301309764959, 0.5749304628997906, 0.5749304628997906, 0.5619802331948656, 0.5139952474258347, 0.4667399988863917, 0.5502375551816802, 0.4641818787186441, 0.24428437218681684, 0.24428437218681684, 0.36601212646184306, 0.38037633920395536, 0.4482302032799032, 0.4482302032799032, 0.4482302032799032, 0.3929604550589789, 0.3263475836253803, 0.3263475836253803, 0.17011359674014814, 0.8113983053453189, 0.7907167814506373, 1.0, 0.24069787893911776, 0.2607273583442675, 0.201958521764898, 0.16948377585448873, 0.16948377585448873, 0.11270500753576096, 0.12493090518951355, 0.12493090518951355, 0.14793507253899577, 0.20581991645726191, 0.20581991645726191, 0.2510334069482603, 0.24375641935172876, 0.30699987072418317, 0.1732591329811807, 0.07046810544769051, 0.007814009014234924, 0.08692239218789506, 0.10004060154768024, 0.10004060154768024, 0.10004060154768024], [0.18529330298222052, 0.1846349343439288, 0.1846349343439288, 0.1846349343439288, 0.16816239751338102, 0.1594329263527986, 0.1594329263527986, 0.1594329263527986, 0.12414449083738327, 0.11375338848319172, 0.08813242744870742, 0.08813242744870742, 0.032329549776339235, 0.07069601572820254, 0.2885410879978933, 0.07065149801168676, 0.032329549776339235, 0.010776516592113079, 0.010776516592113079, 0.010776516592113079, 0.2743380754104577, 0.24234357885942195, 0.2241943033512761, 0.4037202419600881, 0.4618049086060528, 0.4618049086060528, 0.3660773395932965, 0.3660024338876923, 0.3660024338876923, 0.3660024338876923, 0.3660024338876923, 0.3660024338876923, 0.3564407035114978, 0.3564407035114978, 0.45221456662459697, 0.12336875478009551, 0.06479877895778484, 0.24069787893911776, 1.0, 0.3085276787297559, 0.5542683343552314, 0.5422586091990824, 0.5422586091990824, 0.48833249229326403, 0.5200795257029629, 0.5200795257029629, 0.5672610909234441, 0.5540043915060341, 0.5540043915060341, 0.6059858343066338, 0.7490344282087421, 0.6341210341973098, 0.09108190948327063, 0.0816001014051797, 0.04446095629271351, 0.07824064629585546, 0.06337426692519885, 0.06337426692519885, 0.06337426692519885], [0.2513072341355524, 0.2381181874805562, 0.2381181874805562, 0.2381181874805562, 0.16676297586405409, 0.23085424725265744, 0.23085424725265744, 0.23085424725265744, 0.14336824502990617, 0.16601206886952435, 0.16719602582175247, 0.1648273561747586, 0.24901194122940695, 0.29023056653592694, 0.22568434214384916, 0.3754041558597524, 0.39097161120424184, 0.4053797134683844, 0.4053797134683844, 0.4504206734175669, 0.4031957776141031, 0.41359432388146833, 0.5300316829381366, 0.5615755172191534, 0.39095774547380985, 0.39095774547380985, 0.5020822289111014, 0.5224160950327029, 0.5816133934624684, 0.5816133934624684, 0.5816133934624684, 0.693982104206276, 0.7770060285795225, 0.7770060285795225, 0.23291875906096188, 0.2809051240368001, 0.2610071485398317, 0.2607273583442675, 0.3085276787297559, 1.0, 0.5365842931324791, 0.5762925878546614, 0.5762925878546614, 0.6649506042133736, 0.6783153867442812, 0.6783153867442812, 0.7110444700371746, 0.6581018053977556, 0.6581018053977556, 0.5962786893410716, 0.44896440503987617, 0.4376484523929708, 0.3620722304870863, 0.2815337211600063, 0.17653249837756305, 0.0801059969411241, 0.22314173479275057, 0.22314173479275057, 0.22314173479275057], [0.31087378438466684, 0.2866409708291216, 0.2866409708291216, 0.2866409708291216, 0.1668119734185335, 0.15815260406646972, 0.15815260406646972, 0.15815260406646972, 0.003529323252709044, 0.1452208972281486, 0.17581536996339528, 0.17581536996339528, 0.14557457289725867, 0.21966673414625354, 0.30239748839548647, 0.36134342647944884, 0.3227585101827089, 0.3360560907122722, 0.3360560907122722, 0.26222079327945197, 0.30933006238781113, 0.4915499890881038, 0.43699525707284786, 0.5668856219207159, 0.45975087700604844, 0.45975087700604844, 0.471056112393148, 0.45687630144593777, 0.4630177790924802, 0.4630177790924802, 0.4630177790924802, 0.48719383082488765, 0.514497773728353, 0.514497773728353, 0.24858907739580957, 0.15027459812342106, 0.05448560683570541, 0.201958521764898, 0.5542683343552314, 0.5365842931324791, 1.0, 0.9529966155108327, 0.9529966155108327, 0.6214472365327534, 0.655352700823648, 0.655352700823648, 0.8050734322584021, 0.7481598385002878, 0.7481598385002878, 0.9146555958513828, 0.7047203878869037, 0.5086679720365315, 0.5239433187803657, 0.3574394745812136, 0.04410391365092514, 0.32576689693127614, 0.3643700084510418, 0.3643700084510418, 0.3643700084510418], [0.18263466931958228, 0.1573490541545511, 0.1573490541545511, 0.1573490541545511, 0.042907596804799664, 0.02718347321357576, 0.02718347321357576, 0.02718347321357576, 0.06648817897351754, 0.07008687042468176, 0.09947168590131894, 0.09947168590131894, 0.07674988453268378, 0.14683351969394384, 0.22115140713459422, 0.2894021020016203, 0.2592493844104783, 0.2531960368054884, 0.2531960368054884, 0.18703381001096617, 0.2565012227455928, 0.4153817017574534, 0.37639045312913233, 0.5132625031782461, 0.39507460180461756, 0.39507460180461756, 0.4043465323703719, 0.39014449037092336, 0.41366269848365106, 0.41366269848365106, 0.41366269848365106, 0.4262898643769414, 0.4574946493990836, 0.4574946493990836, 0.20941656713930587, 0.12943627313211625, 0.06689035404149052, 0.16948377585448873, 0.5422586091990824, 0.5762925878546614, 0.9529966155108327, 1.0, 1.0, 0.7559050919202119, 0.759408895802548, 0.759408895802548, 0.8708430492362266, 0.7155359419844377, 0.7155359419844377, 0.8704550650119405, 0.6991177635829727, 0.4955759221581538, 0.5017898103426928, 0.31443463479367495, 0.052276114404611704, 0.30831299759821956, 0.33733944792607834, 0.33733944792607834, 0.33733944792607834], [0.18263466931958228, 0.1573490541545511, 0.1573490541545511, 0.1573490541545511, 0.042907596804799664, 0.02718347321357576, 0.02718347321357576, 0.02718347321357576, 0.06648817897351754, 0.07008687042468176, 0.09947168590131894, 0.09947168590131894, 0.07674988453268378, 0.14683351969394384, 0.22115140713459422, 0.2894021020016203, 0.2592493844104783, 0.2531960368054884, 0.2531960368054884, 0.18703381001096617, 0.2565012227455928, 0.4153817017574534, 0.37639045312913233, 0.5132625031782461, 0.39507460180461756, 0.39507460180461756, 0.4043465323703719, 0.39014449037092336, 0.41366269848365106, 0.41366269848365106, 0.41366269848365106, 0.4262898643769414, 0.4574946493990836, 0.4574946493990836, 0.20941656713930587, 0.12943627313211625, 0.06689035404149052, 0.16948377585448873, 0.5422586091990824, 0.5762925878546614, 0.9529966155108327, 1.0, 1.0, 0.7559050919202119, 0.759408895802548, 0.759408895802548, 0.8708430492362266, 0.7155359419844377, 0.7155359419844377, 0.8704550650119405, 0.6991177635829727, 0.4955759221581538, 0.5017898103426928, 0.31443463479367495, 0.052276114404611704, 0.30831299759821956, 0.33733944792607834, 0.33733944792607834, 0.33733944792607834], [0.0738265763232332, 0.053906014758734334, 0.053906014758734334, 0.053906014758734334, 0.03101765040189288, 0.0068666268102511255, 0.0068666268102511255, 0.0068666268102511255, 0.059775628028730356, 0.005798910417488819, 0.016867516378298943, 0.016867516378298943, 0.08784008228187053, 0.09304161090834545, 0.2527799495977336, 0.24616176712738888, 0.25690393988071347, 0.2169939544121075, 0.2169939544121075, 0.2761371860402861, 0.27822946504797547, 0.3615155868432161, 0.40472268745385725, 0.48403721364704894, 0.46337850291061167, 0.46337850291061167, 0.5030321942585655, 0.5174258796200045, 0.5305164810775265, 0.5305164810775265, 0.5305164810775265, 0.5292631373004855, 0.5353515503627531, 0.5353515503627531, 0.314807555459286, 0.023623570696024557, 0.05023242775325164, 0.11270500753576096, 0.48833249229326403, 0.6649506042133736, 0.6214472365327534, 0.7559050919202119, 0.7559050919202119, 1.0, 0.99377061237255, 0.99377061237255, 0.9271110143527715, 0.8331465000406704, 0.8331465000406704, 0.7686454164029227, 0.7133777812970028, 0.7386008123819798, 0.5083521892229413, 0.17478558723346646, 0.07656063198719738, 0.1563927428488065, 0.24457964904453455, 0.24457964904453455, 0.24457964904453455], [0.030760473318362958, 0.008247605219254417, 0.008247605219254417, 0.008247605219254417, 0.08379073969923054, 0.061424466492146695, 0.061424466492146695, 0.061424466492146695, 0.031019908554216317, 0.039628892120462056, 0.05209889591278342, 0.05209889591278342, 0.12580417558178694, 0.13082872682899227, 0.303276519466103, 0.28864286116568166, 0.297221855459598, 0.26218658717231996, 0.26218658717231996, 0.32404382893435657, 0.31863493886110267, 0.4102165391418768, 0.45228430670266484, 0.5316267029033299, 0.5183142549855795, 0.5183142549855795, 0.559693571708316, 0.5759785652775978, 0.5821709211356351, 0.5821709211356351, 0.5821709211356351, 0.5854399278646069, 0.5880558930381578, 0.5880558930381578, 0.35567273024785656, 0.024916734942878726, 0.05611722457511864, 0.12493090518951355, 0.5200795257029629, 0.6783153867442812, 0.655352700823648, 0.759408895802548, 0.759408895802548, 0.99377061237255, 1.0, 1.0, 0.938510009909378, 0.8822114773246416, 0.8822114773246416, 0.8134500982065702, 0.7526633684009523, 0.7825074257273529, 0.5316798457465768, 0.1888282574816113, 0.07679274807530405, 0.16934346495383906, 0.26048004152729864, 0.26048004152729864, 0.26048004152729864], [0.030760473318362958, 0.008247605219254417, 0.008247605219254417, 0.008247605219254417, 0.08379073969923054, 0.061424466492146695, 0.061424466492146695, 0.061424466492146695, 0.031019908554216317, 0.039628892120462056, 0.05209889591278342, 0.05209889591278342, 0.12580417558178694, 0.13082872682899227, 0.303276519466103, 0.28864286116568166, 0.297221855459598, 0.26218658717231996, 0.26218658717231996, 0.32404382893435657, 0.31863493886110267, 0.4102165391418768, 0.45228430670266484, 0.5316267029033299, 0.5183142549855795, 0.5183142549855795, 0.559693571708316, 0.5759785652775978, 0.5821709211356351, 0.5821709211356351, 0.5821709211356351, 0.5854399278646069, 0.5880558930381578, 0.5880558930381578, 0.35567273024785656, 0.024916734942878726, 0.05611722457511864, 0.12493090518951355, 0.5200795257029629, 0.6783153867442812, 0.655352700823648, 0.759408895802548, 0.759408895802548, 0.99377061237255, 1.0, 1.0, 0.938510009909378, 0.8822114773246416, 0.8822114773246416, 0.8134500982065702, 0.7526633684009523, 0.7825074257273529, 0.5316798457465768, 0.1888282574816113, 0.07679274807530405, 0.16934346495383906, 0.26048004152729864, 0.26048004152729864, 0.26048004152729864], [0.015948946628449166, 0.031189254764986914, 0.031189254764986914, 0.031189254764986914, 0.09074726536823846, 0.07144309145255129, 0.07144309145255129, 0.07144309145255129, 0.06459333325590443, 0.05764086201638962, 0.06679782526471446, 0.06679782526471446, 0.11330773184211694, 0.13164841784810902, 0.3022780255223634, 0.2811360723495725, 0.28439778336292904, 0.2643998272925442, 0.2643998272925442, 0.3060136984021262, 0.3316773817786563, 0.4105603415510597, 0.43915888682249604, 0.5261649396936174, 0.5068794793646285, 0.5068794793646285, 0.5353878207602022, 0.5570809492477716, 0.5627233690787579, 0.5627233690787579, 0.5627233690787579, 0.5808787947316739, 0.5866773167457446, 0.5866773167457446, 0.3697672287742803, 0.0062384242004848165, 0.03352690504998449, 0.14793507253899577, 0.5672610909234441, 0.7110444700371746, 0.8050734322584021, 0.8708430492362266, 0.8708430492362266, 0.9271110143527715, 0.938510009909378, 0.938510009909378, 1.0, 0.8999650879435929, 0.8999650879435929, 0.8693730577950078, 0.7185958410769073, 0.6808803142464668, 0.5011660674086831, 0.27684041972912604, 0.06825039344762804, 0.09594628534030458, 0.16521529256953368, 0.16521529256953368, 0.16521529256953368], [0.14156290455989917, 0.17026895731801991, 0.17026895731801991, 0.17026895731801991, 0.2741153342721595, 0.25988574465768094, 0.25988574465768094, 0.25988574465768094, 0.016733827900990445, 0.1000943751452733, 0.12268674271244172, 0.12268674271244172, 0.18953311594681424, 0.19705662073769786, 0.396760607653404, 0.3519938791478395, 0.3519667525450961, 0.33871320971616287, 0.33871320971616287, 0.40238224170089926, 0.3606711427889107, 0.4924261125462147, 0.5108769353549817, 0.5782975654677827, 0.5999220957415762, 0.5999220957415762, 0.6433876034377921, 0.6597802184657194, 0.6409622864876635, 0.6409622864876635, 0.6409622864876635, 0.6580095848995158, 0.6570873636565862, 0.6570873636565862, 0.41577461939072324, 0.02860013654253826, 0.12434345116681118, 0.20581991645726191, 0.5540043915060341, 0.6581018053977556, 0.7481598385002878, 0.7155359419844377, 0.7155359419844377, 0.8331465000406704, 0.8822114773246416, 0.8822114773246416, 0.8999650879435929, 1.0, 1.0, 0.9299057522767564, 0.7185920469117119, 0.8254700530283949, 0.547252676326963, 0.3572692617303455, 0.07247416828287823, 0.18586131978551437, 0.2774711938731786, 0.2774711938731786, 0.2774711938731786], [0.14156290455989917, 0.17026895731801991, 0.17026895731801991, 0.17026895731801991, 0.2741153342721595, 0.25988574465768094, 0.25988574465768094, 0.25988574465768094, 0.016733827900990445, 0.1000943751452733, 0.12268674271244172, 0.12268674271244172, 0.18953311594681424, 0.19705662073769786, 0.396760607653404, 0.3519938791478395, 0.3519667525450961, 0.33871320971616287, 0.33871320971616287, 0.40238224170089926, 0.3606711427889107, 0.4924261125462147, 0.5108769353549817, 0.5782975654677827, 0.5999220957415762, 0.5999220957415762, 0.6433876034377921, 0.6597802184657194, 0.6409622864876635, 0.6409622864876635, 0.6409622864876635, 0.6580095848995158, 0.6570873636565862, 0.6570873636565862, 0.41577461939072324, 0.02860013654253826, 0.12434345116681118, 0.20581991645726191, 0.5540043915060341, 0.6581018053977556, 0.7481598385002878, 0.7155359419844377, 0.7155359419844377, 0.8331465000406704, 0.8822114773246416, 0.8822114773246416, 0.8999650879435929, 1.0, 1.0, 0.9299057522767564, 0.7185920469117119, 0.8254700530283949, 0.547252676326963, 0.3572692617303455, 0.07247416828287823, 0.18586131978551437, 0.2774711938731786, 0.2774711938731786, 0.2774711938731786], [0.27795563904630716, 0.2769680303597591, 0.2769680303597591, 0.2769680303597591, 0.2522578307585999, 0.23916288509178954, 0.23916288509178954, 0.23916288509178954, 0.002267565357773273, 0.1110883554611743, 0.14491973122263102, 0.14491973122263102, 0.15828567174827732, 0.20757009655922973, 0.35581734748381993, 0.36551526395725753, 0.3384198355900108, 0.3319757415135821, 0.3319757415135821, 0.3173802719293993, 0.32096926354590577, 0.5190790252931492, 0.4847006031001691, 0.6023966083928373, 0.5518534863805682, 0.5518534863805682, 0.5788824874502317, 0.5674545675299806, 0.5620220724482803, 0.5620220724482803, 0.5620220724482803, 0.5739414429007285, 0.5941794013022291, 0.5941794013022291, 0.3206007044884499, 0.147503768091455, 0.06528594413889878, 0.2510334069482603, 0.6059858343066338, 0.5962786893410716, 0.9146555958513828, 0.8704550650119405, 0.8704550650119405, 0.7686454164029227, 0.8134500982065702, 0.8134500982065702, 0.8693730577950078, 0.9299057522767564, 0.9299057522767564, 1.0, 0.7704762219608284, 0.7594615198209025, 0.5728312614680579, 0.39079132757997354, 0.06669519793781711, 0.11736759230120326, 0.0950667648467313, 0.0950667648467313, 0.0950667648467313], [0.21039558997830404, 0.20964802999719725, 0.20964802999719725, 0.20964802999719725, 0.19094390497420607, 0.18103182393582357, 0.18103182393582357, 0.18103182393582357, 0.02430016136869525, 0.23973513513317674, 0.15383783912102358, 0.15383783912102358, 0.1398652627008542, 0.18350231294219357, 0.40012353881255097, 0.3299865241487806, 0.2995975669808757, 0.296625103341575, 0.296625103341575, 0.296625103341575, 0.39674296939102033, 0.4747465087562953, 0.45990097336569286, 0.5982635786290318, 0.5498979889412272, 0.5498979889412272, 0.5597666108244839, 0.5598550770630601, 0.5473804755604211, 0.5473804755604211, 0.5473804755604211, 0.5615995589005325, 0.5810954521635914, 0.5810954521635914, 0.32075635786241524, 0.09791915745991167, 0.026031262177369317, 0.24375641935172876, 0.7490344282087421, 0.44896440503987617, 0.7047203878869037, 0.6991177635829727, 0.6991177635829727, 0.7133777812970028, 0.7526633684009523, 0.7526633684009523, 0.7185958410769073, 0.7185920469117119, 0.7185920469117119, 0.7704762219608284, 1.0, 0.8581658908183206, 0.5391699178094003, 0.24128281161033788, 0.05048422678882589, 0.0888401613698896, 0.07195978518688903, 0.07195978518688903, 0.07195978518688903], [0.14181666335871276, 0.1676359265199184, 0.1676359265199184, 0.1676359265199184, 0.2599561949990696, 0.2464616198692249, 0.2464616198692249, 0.2464616198692249, 0.06946068101937179, 0.1330547632380979, 0.04800031833554973, 0.04800031833554973, 0.07948989359814941, 0.08978568009564343, 0.3527583574307289, 0.24215719204179612, 0.23148523622164366, 0.21281585591786312, 0.21281585591786312, 0.2826606627090752, 0.2937108406717541, 0.392327109743909, 0.3916133844960866, 0.483818650812909, 0.5046768191683986, 0.5046768191683986, 0.5423502616246093, 0.5426756651329214, 0.5166125880525327, 0.5166125880525327, 0.5166125880525327, 0.5144767801445131, 0.5351243614717508, 0.5351243614717508, 0.2795163971840181, 0.12244472953429412, 0.2043089913516891, 0.30699987072418317, 0.6341210341973098, 0.4376484523929708, 0.5086679720365315, 0.4955759221581538, 0.4955759221581538, 0.7386008123819798, 0.7825074257273529, 0.7825074257273529, 0.6808803142464668, 0.8254700530283949, 0.8254700530283949, 0.7594615198209025, 0.8581658908183206, 1.0, 0.5602357539672718, 0.1261426584450357, 0.06873059134967469, 0.16148497490955277, 0.24518621041336996, 0.24518621041336996, 0.24518621041336996], [0.13337781439295146, 0.13290390751867745, 0.13290390751867745, 0.13290390751867745, 0.1210466470316286, 0.11476299961714806, 0.11476299961714806, 0.11476299961714806, 0.030242176287585833, 0.15981346942769725, 0.0634394787132802, 0.0634394787132802, 0.1012020973529666, 0.12887415894759435, 0.20769762889604299, 0.36899591317068625, 0.3689674762967987, 0.42068181986964187, 0.42068181986964187, 0.42068181986964187, 0.19747401721543353, 0.4029064042356334, 0.3788878640415018, 0.3689674762967987, 0.22690219333010678, 0.22690219333010678, 0.36904298882512654, 0.3620722304870863, 0.3413864930579491, 0.3413864930579491, 0.3413864930579491, 0.3620722304870863, 0.42070235153374824, 0.42070235153374824, 0.12346799528016295, 0.0888032897688051, 0.046643453236680725, 0.1732591329811807, 0.09108190948327063, 0.3620722304870863, 0.5239433187803657, 0.5017898103426928, 0.5017898103426928, 0.5083521892229413, 0.5316798457465768, 0.5316798457465768, 0.5011660674086831, 0.547252676326963, 0.547252676326963, 0.5728312614680579, 0.5391699178094003, 0.5602357539672718, 1.0, 0.05873738016700149, 0.03200388292884867, 0.05631917738891245, 0.04561806106964158, 0.04561806106964158, 0.04561806106964158], [0.11949291842267666, 0.11906834619733839, 0.11906834619733839, 0.11906834619733839, 0.10844545012917314, 0.10281594291830175, 0.10281594291830175, 0.10281594291830175, 0.1339249820072048, 0.15521478578242795, 0.08291226587433578, 0.08291226587433578, 0.13961106607799248, 0.14731817862945532, 0.028102595126064174, 0.1434236187881006, 0.14341256576768927, 0.12202913001314478, 0.12202913001314478, 0.09209231995678248, 0.00883349792229151, 0.16332010680040765, 0.15190413942129366, 0.14673887799617397, 0.15292002904875368, 0.15292002904875368, 0.15294761069767612, 0.13913587861678037, 0.15624262722041596, 0.15624262722041596, 0.15624262722041596, 0.15244112753071917, 0.12773761356507995, 0.12773761356507995, 0.17097343851799107, 0.0025196614990341416, 0.023678729417292703, 0.07046810544769051, 0.0816001014051797, 0.2815337211600063, 0.3574394745812136, 0.31443463479367495, 0.31443463479367495, 0.17478558723346646, 0.1888282574816113, 0.1888282574816113, 0.27684041972912604, 0.3572692617303455, 0.3572692617303455, 0.39079132757997354, 0.24128281161033788, 0.1261426584450357, 0.05873738016700149, 1.0, 0.028672215011403757, 0.05045623891795615, 0.04086913010836853, 0.04086913010836853, 0.04086913010836853], [0.239949073048688, 0.24844800930049146, 0.24844800930049146, 0.24844800930049146, 0.2643929734004634, 0.05602070420949957, 0.05602070420949957, 0.05602070420949957, 0.1986449513561076, 0.14813468233688734, 0.13281385035043605, 0.13960124967630344, 0.1447671669912528, 0.16171076638049842, 0.1565292289563218, 0.16834118079580038, 0.1683282074897081, 0.14140130406290205, 0.14140130406290205, 0.14140130406290205, 0.09937309152607308, 0.15331192355469583, 0.19013583195927714, 0.18515752213146186, 0.1447706831202169, 0.1447706831202169, 0.14816334668283254, 0.09413897877731019, 0.16496234456135733, 0.16496234456135733, 0.16496234456135733, 0.1076024304907132, 0.13972519164951563, 0.13972519164951563, 0.13095310455614656, 0.18416029395386566, 0.19593214862815864, 0.007814009014234924, 0.04446095629271351, 0.17653249837756305, 0.04410391365092514, 0.052276114404611704, 0.052276114404611704, 0.07656063198719738, 0.07679274807530405, 0.07679274807530405, 0.06825039344762804, 0.07247416828287823, 0.07247416828287823, 0.06669519793781711, 0.05048422678882589, 0.06873059134967469, 0.03200388292884867, 0.028672215011403757, 1.0, 0.5682590622346213, 0.02226811702655621, 0.02226811702655621, 0.02226811702655621], [0.4222529634725271, 0.36109816925326216, 0.36109816925326216, 0.36109816925326216, 0.08576894075984084, 0.09858303709087159, 0.09858303709087159, 0.09858303709087159, 0.07550824512851587, 0.10634986672104864, 0.11543985392748234, 0.11942125359589918, 0.0032700522499714327, 0.10247235765745705, 0.027125465526968963, 0.10635687685777186, 0.048680589155235106, 0.050654960325029176, 0.050654960325029176, 0.12243157889358453, 0.05479769030824186, 0.11280697408282885, 0.019112995433260293, 0.11622053625527401, 0.06871389887614308, 0.06871389887614308, 0.10073410795294416, 0.19359120647157924, 0.12243157889358453, 0.12243157889358453, 0.12243157889358453, 0.16792438126425627, 0.10170564518211019, 0.10170564518211019, 0.3256272784515578, 0.36184205899293154, 0.2513871409343639, 0.08692239218789506, 0.07824064629585546, 0.0801059969411241, 0.32576689693127614, 0.30831299759821956, 0.30831299759821956, 0.1563927428488065, 0.16934346495383906, 0.16934346495383906, 0.09594628534030458, 0.18586131978551437, 0.18586131978551437, 0.11736759230120326, 0.0888401613698896, 0.16148497490955277, 0.05631917738891245, 0.05045623891795615, 0.5682590622346213, 1.0, 0.8099916082691649, 0.8099916082691649, 0.8099916082691649], [0.3420213569795332, 0.2616618962644557, 0.2616618962644557, 0.2616618962644557, 0.08422355836525108, 0.0798514327612938, 0.0798514327612938, 0.0798514327612938, 0.049831840186190045, 0.02363879460656318, 0.04560210609574801, 0.04560210609574801, 0.09920186865926313, 0.009252052847773383, 0.14451481142703057, 0.009246226773112405, 0.06082049075986057, 0.03923096569144663, 0.03923096569144663, 0.2495289320985898, 0.13740128142681102, 0.027794301090376217, 0.11228694567083876, 0.009245514207538377, 0.18666396910265876, 0.18666396910265876, 0.2279860568896788, 0.3023033267102683, 0.26632078492957845, 0.26632078492957845, 0.26632078492957845, 0.2807138016418544, 0.223152625377821, 0.223152625377821, 0.3023033267102683, 0.30838329280788246, 0.16579220723134844, 0.10004060154768024, 0.06337426692519885, 0.22314173479275057, 0.3643700084510418, 0.33733944792607834, 0.33733944792607834, 0.24457964904453455, 0.26048004152729864, 0.26048004152729864, 0.16521529256953368, 0.2774711938731786, 0.2774711938731786, 0.0950667648467313, 0.07195978518688903, 0.24518621041336996, 0.04561806106964158, 0.04086913010836853, 0.02226811702655621, 0.8099916082691649, 1.0, 1.0, 1.0], [0.3420213569795332, 0.2616618962644557, 0.2616618962644557, 0.2616618962644557, 0.08422355836525108, 0.0798514327612938, 0.0798514327612938, 0.0798514327612938, 0.049831840186190045, 0.02363879460656318, 0.04560210609574801, 0.04560210609574801, 0.09920186865926313, 0.009252052847773383, 0.14451481142703057, 0.009246226773112405, 0.06082049075986057, 0.03923096569144663, 0.03923096569144663, 0.2495289320985898, 0.13740128142681102, 0.027794301090376217, 0.11228694567083876, 0.009245514207538377, 0.18666396910265876, 0.18666396910265876, 0.2279860568896788, 0.3023033267102683, 0.26632078492957845, 0.26632078492957845, 0.26632078492957845, 0.2807138016418544, 0.223152625377821, 0.223152625377821, 0.3023033267102683, 0.30838329280788246, 0.16579220723134844, 0.10004060154768024, 0.06337426692519885, 0.22314173479275057, 0.3643700084510418, 0.33733944792607834, 0.33733944792607834, 0.24457964904453455, 0.26048004152729864, 0.26048004152729864, 0.16521529256953368, 0.2774711938731786, 0.2774711938731786, 0.0950667648467313, 0.07195978518688903, 0.24518621041336996, 0.04561806106964158, 0.04086913010836853, 0.02226811702655621, 0.8099916082691649, 1.0, 1.0, 1.0], [0.3420213569795332, 0.2616618962644557, 0.2616618962644557, 0.2616618962644557, 0.08422355836525108, 0.0798514327612938, 0.0798514327612938, 0.0798514327612938, 0.049831840186190045, 0.02363879460656318, 0.04560210609574801, 0.04560210609574801, 0.09920186865926313, 0.009252052847773383, 0.14451481142703057, 0.009246226773112405, 0.06082049075986057, 0.03923096569144663, 0.03923096569144663, 0.2495289320985898, 0.13740128142681102, 0.027794301090376217, 0.11228694567083876, 0.009245514207538377, 0.18666396910265876, 0.18666396910265876, 0.2279860568896788, 0.3023033267102683, 0.26632078492957845, 0.26632078492957845, 0.26632078492957845, 0.2807138016418544, 0.223152625377821, 0.223152625377821, 0.3023033267102683, 0.30838329280788246, 0.16579220723134844, 0.10004060154768024, 0.06337426692519885, 0.22314173479275057, 0.3643700084510418, 0.33733944792607834, 0.33733944792607834, 0.24457964904453455, 0.26048004152729864, 0.26048004152729864, 0.16521529256953368, 0.2774711938731786, 0.2774711938731786, 0.0950667648467313, 0.07195978518688903, 0.24518621041336996, 0.04561806106964158, 0.04086913010836853, 0.02226811702655621, 0.8099916082691649, 1.0, 1.0, 1.0]]}],                        {\"autosize\": false, \"height\": 800, \"hovermode\": \"closest\", \"showlegend\": false, \"template\": {\"data\": {\"bar\": [{\"error_x\": {\"color\": \"#2a3f5f\"}, \"error_y\": {\"color\": \"#2a3f5f\"}, \"marker\": {\"line\": {\"color\": \"#E5ECF6\", \"width\": 0.5}}, \"type\": \"bar\"}], \"barpolar\": [{\"marker\": {\"line\": {\"color\": \"#E5ECF6\", \"width\": 0.5}}, \"type\": \"barpolar\"}], \"carpet\": [{\"aaxis\": {\"endlinecolor\": \"#2a3f5f\", \"gridcolor\": \"white\", \"linecolor\": \"white\", \"minorgridcolor\": \"white\", \"startlinecolor\": \"#2a3f5f\"}, \"baxis\": {\"endlinecolor\": \"#2a3f5f\", \"gridcolor\": \"white\", \"linecolor\": \"white\", \"minorgridcolor\": \"white\", \"startlinecolor\": \"#2a3f5f\"}, \"type\": \"carpet\"}], \"choropleth\": [{\"colorbar\": {\"outlinewidth\": 0, \"ticks\": \"\"}, \"type\": \"choropleth\"}], \"contour\": [{\"colorbar\": {\"outlinewidth\": 0, \"ticks\": \"\"}, \"colorscale\": [[0.0, \"#0d0887\"], [0.1111111111111111, \"#46039f\"], [0.2222222222222222, \"#7201a8\"], [0.3333333333333333, \"#9c179e\"], [0.4444444444444444, \"#bd3786\"], [0.5555555555555556, \"#d8576b\"], [0.6666666666666666, \"#ed7953\"], [0.7777777777777778, \"#fb9f3a\"], [0.8888888888888888, \"#fdca26\"], [1.0, \"#f0f921\"]], \"type\": \"contour\"}], \"contourcarpet\": [{\"colorbar\": {\"outlinewidth\": 0, \"ticks\": \"\"}, \"type\": \"contourcarpet\"}], \"heatmap\": [{\"colorbar\": {\"outlinewidth\": 0, \"ticks\": \"\"}, \"colorscale\": [[0.0, \"#0d0887\"], [0.1111111111111111, \"#46039f\"], [0.2222222222222222, \"#7201a8\"], [0.3333333333333333, \"#9c179e\"], [0.4444444444444444, \"#bd3786\"], [0.5555555555555556, \"#d8576b\"], [0.6666666666666666, \"#ed7953\"], [0.7777777777777778, \"#fb9f3a\"], [0.8888888888888888, \"#fdca26\"], [1.0, \"#f0f921\"]], \"type\": \"heatmap\"}], \"heatmapgl\": [{\"colorbar\": {\"outlinewidth\": 0, \"ticks\": \"\"}, \"colorscale\": [[0.0, \"#0d0887\"], [0.1111111111111111, \"#46039f\"], [0.2222222222222222, \"#7201a8\"], [0.3333333333333333, \"#9c179e\"], [0.4444444444444444, \"#bd3786\"], [0.5555555555555556, \"#d8576b\"], [0.6666666666666666, \"#ed7953\"], [0.7777777777777778, \"#fb9f3a\"], [0.8888888888888888, \"#fdca26\"], [1.0, \"#f0f921\"]], \"type\": \"heatmapgl\"}], \"histogram\": [{\"marker\": {\"colorbar\": {\"outlinewidth\": 0, \"ticks\": \"\"}}, \"type\": \"histogram\"}], \"histogram2d\": [{\"colorbar\": {\"outlinewidth\": 0, \"ticks\": \"\"}, \"colorscale\": [[0.0, \"#0d0887\"], [0.1111111111111111, \"#46039f\"], [0.2222222222222222, \"#7201a8\"], [0.3333333333333333, \"#9c179e\"], [0.4444444444444444, \"#bd3786\"], [0.5555555555555556, \"#d8576b\"], [0.6666666666666666, \"#ed7953\"], [0.7777777777777778, \"#fb9f3a\"], [0.8888888888888888, \"#fdca26\"], [1.0, \"#f0f921\"]], \"type\": \"histogram2d\"}], \"histogram2dcontour\": [{\"colorbar\": {\"outlinewidth\": 0, \"ticks\": \"\"}, \"colorscale\": [[0.0, \"#0d0887\"], [0.1111111111111111, \"#46039f\"], [0.2222222222222222, \"#7201a8\"], [0.3333333333333333, \"#9c179e\"], [0.4444444444444444, \"#bd3786\"], [0.5555555555555556, \"#d8576b\"], [0.6666666666666666, \"#ed7953\"], [0.7777777777777778, \"#fb9f3a\"], [0.8888888888888888, \"#fdca26\"], [1.0, \"#f0f921\"]], \"type\": \"histogram2dcontour\"}], \"mesh3d\": [{\"colorbar\": {\"outlinewidth\": 0, \"ticks\": \"\"}, \"type\": \"mesh3d\"}], \"parcoords\": [{\"line\": {\"colorbar\": {\"outlinewidth\": 0, \"ticks\": \"\"}}, \"type\": \"parcoords\"}], \"pie\": [{\"automargin\": true, \"type\": \"pie\"}], \"scatter\": [{\"marker\": {\"colorbar\": {\"outlinewidth\": 0, \"ticks\": \"\"}}, \"type\": \"scatter\"}], \"scatter3d\": [{\"line\": {\"colorbar\": {\"outlinewidth\": 0, \"ticks\": \"\"}}, \"marker\": {\"colorbar\": {\"outlinewidth\": 0, \"ticks\": \"\"}}, \"type\": \"scatter3d\"}], \"scattercarpet\": [{\"marker\": {\"colorbar\": {\"outlinewidth\": 0, \"ticks\": \"\"}}, \"type\": \"scattercarpet\"}], \"scattergeo\": [{\"marker\": {\"colorbar\": {\"outlinewidth\": 0, \"ticks\": \"\"}}, \"type\": \"scattergeo\"}], \"scattergl\": [{\"marker\": {\"colorbar\": {\"outlinewidth\": 0, \"ticks\": \"\"}}, \"type\": \"scattergl\"}], \"scattermapbox\": [{\"marker\": {\"colorbar\": {\"outlinewidth\": 0, \"ticks\": \"\"}}, \"type\": \"scattermapbox\"}], \"scatterpolar\": [{\"marker\": {\"colorbar\": {\"outlinewidth\": 0, \"ticks\": \"\"}}, \"type\": \"scatterpolar\"}], \"scatterpolargl\": [{\"marker\": {\"colorbar\": {\"outlinewidth\": 0, \"ticks\": \"\"}}, \"type\": \"scatterpolargl\"}], \"scatterternary\": [{\"marker\": {\"colorbar\": {\"outlinewidth\": 0, \"ticks\": \"\"}}, \"type\": \"scatterternary\"}], \"surface\": [{\"colorbar\": {\"outlinewidth\": 0, \"ticks\": \"\"}, \"colorscale\": [[0.0, \"#0d0887\"], [0.1111111111111111, \"#46039f\"], [0.2222222222222222, \"#7201a8\"], [0.3333333333333333, \"#9c179e\"], [0.4444444444444444, \"#bd3786\"], [0.5555555555555556, \"#d8576b\"], [0.6666666666666666, \"#ed7953\"], [0.7777777777777778, \"#fb9f3a\"], [0.8888888888888888, \"#fdca26\"], [1.0, \"#f0f921\"]], \"type\": \"surface\"}], \"table\": [{\"cells\": {\"fill\": {\"color\": \"#EBF0F8\"}, \"line\": {\"color\": \"white\"}}, \"header\": {\"fill\": {\"color\": \"#C8D4E3\"}, \"line\": {\"color\": \"white\"}}, \"type\": \"table\"}]}, \"layout\": {\"annotationdefaults\": {\"arrowcolor\": \"#2a3f5f\", \"arrowhead\": 0, \"arrowwidth\": 1}, \"autotypenumbers\": \"strict\", \"coloraxis\": {\"colorbar\": {\"outlinewidth\": 0, \"ticks\": \"\"}}, \"colorscale\": {\"diverging\": [[0, \"#8e0152\"], [0.1, \"#c51b7d\"], [0.2, \"#de77ae\"], [0.3, \"#f1b6da\"], [0.4, \"#fde0ef\"], [0.5, \"#f7f7f7\"], [0.6, \"#e6f5d0\"], [0.7, \"#b8e186\"], [0.8, \"#7fbc41\"], [0.9, \"#4d9221\"], [1, \"#276419\"]], \"sequential\": [[0.0, \"#0d0887\"], [0.1111111111111111, \"#46039f\"], [0.2222222222222222, \"#7201a8\"], [0.3333333333333333, \"#9c179e\"], [0.4444444444444444, \"#bd3786\"], [0.5555555555555556, \"#d8576b\"], [0.6666666666666666, \"#ed7953\"], [0.7777777777777778, \"#fb9f3a\"], [0.8888888888888888, \"#fdca26\"], [1.0, \"#f0f921\"]], \"sequentialminus\": [[0.0, \"#0d0887\"], [0.1111111111111111, \"#46039f\"], [0.2222222222222222, \"#7201a8\"], [0.3333333333333333, \"#9c179e\"], [0.4444444444444444, \"#bd3786\"], [0.5555555555555556, \"#d8576b\"], [0.6666666666666666, \"#ed7953\"], [0.7777777777777778, \"#fb9f3a\"], [0.8888888888888888, \"#fdca26\"], [1.0, \"#f0f921\"]]}, \"colorway\": [\"#636efa\", \"#EF553B\", \"#00cc96\", \"#ab63fa\", \"#FFA15A\", \"#19d3f3\", \"#FF6692\", \"#B6E880\", \"#FF97FF\", \"#FECB52\"], \"font\": {\"color\": \"#2a3f5f\"}, \"geo\": {\"bgcolor\": \"white\", \"lakecolor\": \"white\", \"landcolor\": \"#E5ECF6\", \"showlakes\": true, \"showland\": true, \"subunitcolor\": \"white\"}, \"hoverlabel\": {\"align\": \"left\"}, \"hovermode\": \"closest\", \"mapbox\": {\"style\": \"light\"}, \"paper_bgcolor\": \"white\", \"plot_bgcolor\": \"#E5ECF6\", \"polar\": {\"angularaxis\": {\"gridcolor\": \"white\", \"linecolor\": \"white\", \"ticks\": \"\"}, \"bgcolor\": \"#E5ECF6\", \"radialaxis\": {\"gridcolor\": \"white\", \"linecolor\": \"white\", \"ticks\": \"\"}}, \"scene\": {\"xaxis\": {\"backgroundcolor\": \"#E5ECF6\", \"gridcolor\": \"white\", \"gridwidth\": 2, \"linecolor\": \"white\", \"showbackground\": true, \"ticks\": \"\", \"zerolinecolor\": \"white\"}, \"yaxis\": {\"backgroundcolor\": \"#E5ECF6\", \"gridcolor\": \"white\", \"gridwidth\": 2, \"linecolor\": \"white\", \"showbackground\": true, \"ticks\": \"\", \"zerolinecolor\": \"white\"}, \"zaxis\": {\"backgroundcolor\": \"#E5ECF6\", \"gridcolor\": \"white\", \"gridwidth\": 2, \"linecolor\": \"white\", \"showbackground\": true, \"ticks\": \"\", \"zerolinecolor\": \"white\"}}, \"shapedefaults\": {\"line\": {\"color\": \"#2a3f5f\"}}, \"ternary\": {\"aaxis\": {\"gridcolor\": \"white\", \"linecolor\": \"white\", \"ticks\": \"\"}, \"baxis\": {\"gridcolor\": \"white\", \"linecolor\": \"white\", \"ticks\": \"\"}, \"bgcolor\": \"#E5ECF6\", \"caxis\": {\"gridcolor\": \"white\", \"linecolor\": \"white\", \"ticks\": \"\"}}, \"title\": {\"x\": 0.05}, \"xaxis\": {\"automargin\": true, \"gridcolor\": \"white\", \"linecolor\": \"white\", \"ticks\": \"\", \"title\": {\"standoff\": 15}, \"zerolinecolor\": \"white\", \"zerolinewidth\": 2}, \"yaxis\": {\"automargin\": true, \"gridcolor\": \"white\", \"linecolor\": \"white\", \"ticks\": \"\", \"title\": {\"standoff\": 15}, \"zerolinecolor\": \"white\", \"zerolinewidth\": 2}}}, \"title\": {\"text\": \"Propiedades f\\u00edsico-qu\\u00edmicas\", \"x\": 0.5, \"xanchor\": \"center\", \"y\": 0.9, \"yanchor\": \"top\"}, \"width\": 800, \"xaxis\": {\"domain\": [0.15, 1], \"mirror\": false, \"rangemode\": \"tozero\", \"showgrid\": false, \"showline\": false, \"showticklabels\": true, \"tickmode\": \"array\", \"ticks\": \"\", \"ticktext\": [\"_feat_CyclomaticNumber\", \"_feat_RingAtomCount\", \"_feat_SmallestRingSize\", \"_feat_LargestRingSize\", \"_feat_CarboRingCount\", \"_feat_AromaticRingCount\", \"_feat_CarboaromaticRingCount\", \"_feat_AromaticAtomCount\", \"_feat_MinimalProjectionRadius\", \"_feat_Refractivity\", \"_feat_HyperWienerIndex\", \"_feat_WienerIndex\", \"_feat_MaximalProjectionArea\", \"_feat_MolPol\", \"_feat_WienerPolarity\", \"_feat_AvgPol\", \"_feat_VanderWaalsVolume\", \"_feat_msareaASAp\", \"_feat_molsurfaceareaASAp\", \"_feat_ASA+\", \"_feat_RotatableBondCount\", \"_feat_AtomCount_C\", \"_feat_BondCount\", \"_feat_MinimalProjectionArea\", \"_feat_minimalprojectionsize\", \"_feat_LengthPerpendicularToTheMinArea\", \"_feat_MaximalProjectionRadius\", \"_feat_ASA\", \"_feat_VanderWaalsSurfaceArea\", \"_feat_molsurfaceareaVDWp\", \"_feat_msareaVDWp\", \"_feat_ASA_H\", \"_feat_maximalprojectionsize\", \"_feat_LengthPerpendicularToTheMaxArea\", \"_feat_ASA-\", \"_feat_ChainAtomCount\", \"_feat_Aliphatic AtomCount\", \"_feat_BalabanIndex\", \"_feat_fr_amidine\", \"_feat_ASA_P\", \"_feat_donsitecount\", \"_feat_Protpsa\", \"_feat_ProtPolarSurfaceArea\", \"_feat_Accsitecount\", \"_feat_acceptorcount\", \"_feat_Hacceptorcount\", \"_feat_PolarSurfaceArea\", \"_feat_AtomCount_N\", \"_feat_Hdonorcount\", \"_feat_donorcount\", \"_feat_fr_quatN\", \"_feat_fr_NH2\", \"_feat_fr_guanido\", \"_feat_fr_NH1\", \"_feat_CarboaliphaticRingCount\", \"_feat_AliphaticRingCount\", \"_feat_fr_Imine\", \"_feat_fr_NH0\", \"_feat_HeteroaliphaticRingCount\"], \"tickvals\": [5, 15, 25, 35, 45, 55, 65, 75, 85, 95, 105, 115, 125, 135, 145, 155, 165, 175, 185, 195, 205, 215, 225, 235, 245, 255, 265, 275, 285, 295, 305, 315, 325, 335, 345, 355, 365, 375, 385, 395, 405, 415, 425, 435, 445, 455, 465, 475, 485, 495, 505, 515, 525, 535, 545, 555, 565, 575, 585], \"type\": \"linear\", \"zeroline\": false}, \"xaxis2\": {\"domain\": [0, 0.15], \"mirror\": false, \"showgrid\": false, \"showline\": false, \"showticklabels\": false, \"ticks\": \"\", \"zeroline\": false}, \"yaxis\": {\"domain\": [0, 0.85], \"mirror\": false, \"rangemode\": \"tozero\", \"showgrid\": false, \"showline\": false, \"showticklabels\": false, \"ticks\": \"\", \"ticktext\": [\"_feat_CyclomaticNumber\", \"_feat_RingAtomCount\", \"_feat_SmallestRingSize\", \"_feat_LargestRingSize\", \"_feat_CarboRingCount\", \"_feat_AromaticRingCount\", \"_feat_CarboaromaticRingCount\", \"_feat_AromaticAtomCount\", \"_feat_MinimalProjectionRadius\", \"_feat_Refractivity\", \"_feat_HyperWienerIndex\", \"_feat_WienerIndex\", \"_feat_MaximalProjectionArea\", \"_feat_MolPol\", \"_feat_WienerPolarity\", \"_feat_AvgPol\", \"_feat_VanderWaalsVolume\", \"_feat_msareaASAp\", \"_feat_molsurfaceareaASAp\", \"_feat_ASA+\", \"_feat_RotatableBondCount\", \"_feat_AtomCount_C\", \"_feat_BondCount\", \"_feat_MinimalProjectionArea\", \"_feat_minimalprojectionsize\", \"_feat_LengthPerpendicularToTheMinArea\", \"_feat_MaximalProjectionRadius\", \"_feat_ASA\", \"_feat_VanderWaalsSurfaceArea\", \"_feat_molsurfaceareaVDWp\", \"_feat_msareaVDWp\", \"_feat_ASA_H\", \"_feat_maximalprojectionsize\", \"_feat_LengthPerpendicularToTheMaxArea\", \"_feat_ASA-\", \"_feat_ChainAtomCount\", \"_feat_Aliphatic AtomCount\", \"_feat_BalabanIndex\", \"_feat_fr_amidine\", \"_feat_ASA_P\", \"_feat_donsitecount\", \"_feat_Protpsa\", \"_feat_ProtPolarSurfaceArea\", \"_feat_Accsitecount\", \"_feat_acceptorcount\", \"_feat_Hacceptorcount\", \"_feat_PolarSurfaceArea\", \"_feat_AtomCount_N\", \"_feat_Hdonorcount\", \"_feat_donorcount\", \"_feat_fr_quatN\", \"_feat_fr_NH2\", \"_feat_fr_guanido\", \"_feat_fr_NH1\", \"_feat_CarboaliphaticRingCount\", \"_feat_AliphaticRingCount\", \"_feat_fr_Imine\", \"_feat_fr_NH0\", \"_feat_HeteroaliphaticRingCount\"], \"tickvals\": [5, 15, 25, 35, 45, 55, 65, 75, 85, 95, 105, 115, 125, 135, 145, 155, 165, 175, 185, 195, 205, 215, 225, 235, 245, 255, 265, 275, 285, 295, 305, 315, 325, 335, 345, 355, 365, 375, 385, 395, 405, 415, 425, 435, 445, 455, 465, 475, 485, 495, 505, 515, 525, 535, 545, 555, 565, 575, 585], \"type\": \"linear\", \"zeroline\": false}, \"yaxis2\": {\"domain\": [0.825, 0.975], \"mirror\": false, \"showgrid\": false, \"showline\": false, \"showticklabels\": false, \"ticks\": \"\", \"zeroline\": false}},                        {\"responsive\": true}                    ).then(function(){\n",
       "                            \n",
       "var gd = document.getElementById('60a6d435-444d-413d-b499-22125d911f4e');\n",
       "var x = new MutationObserver(function (mutations, observer) {{\n",
       "        var display = window.getComputedStyle(gd).display;\n",
       "        if (!display || display === 'none') {{\n",
       "            console.log([gd, 'removed!']);\n",
       "            Plotly.purge(gd);\n",
       "            observer.disconnect();\n",
       "        }}\n",
       "}});\n",
       "\n",
       "// Listen for the removal of the full notebook cells\n",
       "var notebookContainer = gd.closest('#notebook-container');\n",
       "if (notebookContainer) {{\n",
       "    x.observe(notebookContainer, {childList: true});\n",
       "}}\n",
       "\n",
       "// Listen for the clearing of the current output cell\n",
       "var outputEl = gd.closest('.output');\n",
       "if (outputEl) {{\n",
       "    x.observe(outputEl, {childList: true});\n",
       "}}\n",
       "\n",
       "                        })                };                });            </script>        </div>"
      ]
     },
     "metadata": {}
    }
   ],
   "metadata": {}
  },
  {
   "cell_type": "code",
   "execution_count": 30,
   "source": [
    "plot_corr_dendogram(final_df, feat_col, 'Propiedades físico-químicas', 'centroid')\n"
   ],
   "outputs": [
    {
     "output_type": "display_data",
     "data": {
      "application/vnd.plotly.v1+json": {
       "config": {
        "linkText": "Export to plot.ly",
        "plotlyServerURL": "https://plot.ly",
        "showLink": false
       },
       "data": [
        {
         "hoverinfo": "text",
         "marker": {
          "color": "rgb(61,153,112)"
         },
         "mode": "lines",
         "type": "scatter",
         "x": [
          15,
          15,
          25,
          25
         ],
         "xaxis": "x",
         "y": [
          0,
          0,
          0,
          0
         ],
         "yaxis": "y2"
        },
        {
         "hoverinfo": "text",
         "marker": {
          "color": "rgb(61,153,112)"
         },
         "mode": "lines",
         "type": "scatter",
         "x": [
          20,
          20,
          35,
          35
         ],
         "xaxis": "x",
         "y": [
          0,
          0,
          0,
          0
         ],
         "yaxis": "y2"
        },
        {
         "hoverinfo": "text",
         "marker": {
          "color": "rgb(61,153,112)"
         },
         "mode": "lines",
         "type": "scatter",
         "x": [
          5,
          5,
          27.5,
          27.5
         ],
         "xaxis": "x",
         "y": [
          0,
          0.2226002828703737,
          0.2226002828703737,
          0
         ],
         "yaxis": "y2"
        },
        {
         "hoverinfo": "text",
         "marker": {
          "color": "rgb(61,153,112)"
         },
         "mode": "lines",
         "type": "scatter",
         "x": [
          55,
          55,
          65,
          65
         ],
         "xaxis": "x",
         "y": [
          0,
          0,
          0,
          0
         ],
         "yaxis": "y2"
        },
        {
         "hoverinfo": "text",
         "marker": {
          "color": "rgb(61,153,112)"
         },
         "mode": "lines",
         "type": "scatter",
         "x": [
          60,
          60,
          75,
          75
         ],
         "xaxis": "x",
         "y": [
          0,
          0,
          0,
          0
         ],
         "yaxis": "y2"
        },
        {
         "hoverinfo": "text",
         "marker": {
          "color": "rgb(61,153,112)"
         },
         "mode": "lines",
         "type": "scatter",
         "x": [
          45,
          45,
          67.5,
          67.5
         ],
         "xaxis": "x",
         "y": [
          0,
          0.3276521208435322,
          0.3276521208435322,
          0
         ],
         "yaxis": "y2"
        },
        {
         "hoverinfo": "text",
         "marker": {
          "color": "rgb(61,153,112)"
         },
         "mode": "lines",
         "type": "scatter",
         "x": [
          16.25,
          16.25,
          56.25,
          56.25
         ],
         "xaxis": "x",
         "y": [
          0.2226002828703737,
          0.7332404103473346,
          0.7332404103473346,
          0.3276521208435322
         ],
         "yaxis": "y2"
        },
        {
         "hoverinfo": "text",
         "marker": {
          "color": "rgb(255,65,54)"
         },
         "mode": "lines",
         "type": "scatter",
         "x": [
          105,
          105,
          115,
          115
         ],
         "xaxis": "x",
         "y": [
          0,
          0.029352850081975235,
          0.029352850081975235,
          0
         ],
         "yaxis": "y2"
        },
        {
         "hoverinfo": "text",
         "marker": {
          "color": "rgb(255,65,54)"
         },
         "mode": "lines",
         "type": "scatter",
         "x": [
          95,
          95,
          110,
          110
         ],
         "xaxis": "x",
         "y": [
          0,
          0.29594340653154144,
          0.29594340653154144,
          0.029352850081975235
         ],
         "yaxis": "y2"
        },
        {
         "hoverinfo": "text",
         "marker": {
          "color": "rgb(255,65,54)"
         },
         "mode": "lines",
         "type": "scatter",
         "x": [
          125,
          125,
          135,
          135
         ],
         "xaxis": "x",
         "y": [
          0,
          0.2688460996461375,
          0.2688460996461375,
          0
         ],
         "yaxis": "y2"
        },
        {
         "hoverinfo": "text",
         "marker": {
          "color": "rgb(255,65,54)"
         },
         "mode": "lines",
         "type": "scatter",
         "x": [
          102.5,
          102.5,
          130,
          130
         ],
         "xaxis": "x",
         "y": [
          0.29594340653154144,
          0.36003821126300767,
          0.36003821126300767,
          0.2688460996461375
         ],
         "yaxis": "y2"
        },
        {
         "hoverinfo": "text",
         "marker": {
          "color": "rgb(255,65,54)"
         },
         "mode": "lines",
         "type": "scatter",
         "x": [
          85,
          85,
          116.25,
          116.25
         ],
         "xaxis": "x",
         "y": [
          0,
          0.7615216629875541,
          0.7615216629875541,
          0.36003821126300767
         ],
         "yaxis": "y2"
        },
        {
         "hoverinfo": "text",
         "marker": {
          "color": "rgb(255,65,54)"
         },
         "mode": "lines",
         "type": "scatter",
         "x": [
          155,
          155,
          165,
          165
         ],
         "xaxis": "x",
         "y": [
          0,
          0.1625596699392212,
          0.1625596699392212,
          0
         ],
         "yaxis": "y2"
        },
        {
         "hoverinfo": "text",
         "marker": {
          "color": "rgb(255,65,54)"
         },
         "mode": "lines",
         "type": "scatter",
         "x": [
          175,
          175,
          185,
          185
         ],
         "xaxis": "x",
         "y": [
          0,
          0,
          0,
          0
         ],
         "yaxis": "y2"
        },
        {
         "hoverinfo": "text",
         "marker": {
          "color": "rgb(255,65,54)"
         },
         "mode": "lines",
         "type": "scatter",
         "x": [
          160,
          160,
          180,
          180
         ],
         "xaxis": "x",
         "y": [
          0.1625596699392212,
          0.31581410172958435,
          0.31581410172958435,
          0
         ],
         "yaxis": "y2"
        },
        {
         "hoverinfo": "text",
         "marker": {
          "color": "rgb(255,65,54)"
         },
         "mode": "lines",
         "type": "scatter",
         "x": [
          170,
          170,
          195,
          195
         ],
         "xaxis": "x",
         "y": [
          0.31581410172958435,
          0.5345571553806212,
          0.5345571553806212,
          0
         ],
         "yaxis": "y2"
        },
        {
         "hoverinfo": "text",
         "marker": {
          "color": "rgb(255,65,54)"
         },
         "mode": "lines",
         "type": "scatter",
         "x": [
          182.5,
          182.5,
          205,
          205
         ],
         "xaxis": "x",
         "y": [
          0.5345571553806212,
          0.7697805017466831,
          0.7697805017466831,
          0
         ],
         "yaxis": "y2"
        },
        {
         "hoverinfo": "text",
         "marker": {
          "color": "rgb(255,65,54)"
         },
         "mode": "lines",
         "type": "scatter",
         "x": [
          145,
          145,
          193.75,
          193.75
         ],
         "xaxis": "x",
         "y": [
          0,
          0.811685681935787,
          0.811685681935787,
          0.7697805017466831
         ],
         "yaxis": "y2"
        },
        {
         "hoverinfo": "text",
         "marker": {
          "color": "rgb(255,65,54)"
         },
         "mode": "lines",
         "type": "scatter",
         "x": [
          100.625,
          100.625,
          169.375,
          169.375
         ],
         "xaxis": "x",
         "y": [
          0.7615216629875541,
          0.959222823649863,
          0.959222823649863,
          0.811685681935787
         ],
         "yaxis": "y2"
        },
        {
         "hoverinfo": "text",
         "marker": {
          "color": "rgb(255,65,54)"
         },
         "mode": "lines",
         "type": "scatter",
         "x": [
          215,
          215,
          225,
          225
         ],
         "xaxis": "x",
         "y": [
          0,
          0.5734500922268383,
          0.5734500922268383,
          0
         ],
         "yaxis": "y2"
        },
        {
         "hoverinfo": "text",
         "marker": {
          "color": "rgb(255,65,54)"
         },
         "mode": "lines",
         "type": "scatter",
         "x": [
          220,
          220,
          235,
          235
         ],
         "xaxis": "x",
         "y": [
          0.5734500922268383,
          0.5686858446086093,
          0.5686858446086093,
          0
         ],
         "yaxis": "y2"
        },
        {
         "hoverinfo": "text",
         "marker": {
          "color": "rgb(255,65,54)"
         },
         "mode": "lines",
         "type": "scatter",
         "x": [
          245,
          245,
          255,
          255
         ],
         "xaxis": "x",
         "y": [
          0,
          0,
          0,
          0
         ],
         "yaxis": "y2"
        },
        {
         "hoverinfo": "text",
         "marker": {
          "color": "rgb(255,65,54)"
         },
         "mode": "lines",
         "type": "scatter",
         "x": [
          285,
          285,
          295,
          295
         ],
         "xaxis": "x",
         "y": [
          0,
          0,
          0,
          0
         ],
         "yaxis": "y2"
        },
        {
         "hoverinfo": "text",
         "marker": {
          "color": "rgb(255,65,54)"
         },
         "mode": "lines",
         "type": "scatter",
         "x": [
          290,
          290,
          305,
          305
         ],
         "xaxis": "x",
         "y": [
          0,
          0,
          0,
          0
         ],
         "yaxis": "y2"
        },
        {
         "hoverinfo": "text",
         "marker": {
          "color": "rgb(255,65,54)"
         },
         "mode": "lines",
         "type": "scatter",
         "x": [
          275,
          275,
          297.5,
          297.5
         ],
         "xaxis": "x",
         "y": [
          0,
          0.25250409461172246,
          0.25250409461172246,
          0
         ],
         "yaxis": "y2"
        },
        {
         "hoverinfo": "text",
         "marker": {
          "color": "rgb(255,65,54)"
         },
         "mode": "lines",
         "type": "scatter",
         "x": [
          265,
          265,
          286.25,
          286.25
         ],
         "xaxis": "x",
         "y": [
          0,
          0.32159146115760956,
          0.32159146115760956,
          0.25250409461172246
         ],
         "yaxis": "y2"
        },
        {
         "hoverinfo": "text",
         "marker": {
          "color": "rgb(255,65,54)"
         },
         "mode": "lines",
         "type": "scatter",
         "x": [
          275.625,
          275.625,
          315,
          315
         ],
         "xaxis": "x",
         "y": [
          0.32159146115760956,
          0.5138966851721473,
          0.5138966851721473,
          0
         ],
         "yaxis": "y2"
        },
        {
         "hoverinfo": "text",
         "marker": {
          "color": "rgb(255,65,54)"
         },
         "mode": "lines",
         "type": "scatter",
         "x": [
          250,
          250,
          295.3125,
          295.3125
         ],
         "xaxis": "x",
         "y": [
          0,
          0.653086921886911,
          0.653086921886911,
          0.5138966851721473
         ],
         "yaxis": "y2"
        },
        {
         "hoverinfo": "text",
         "marker": {
          "color": "rgb(255,65,54)"
         },
         "mode": "lines",
         "type": "scatter",
         "x": [
          227.5,
          227.5,
          272.65625,
          272.65625
         ],
         "xaxis": "x",
         "y": [
          0.5686858446086093,
          0.6632751544732589,
          0.6632751544732589,
          0.653086921886911
         ],
         "yaxis": "y2"
        },
        {
         "hoverinfo": "text",
         "marker": {
          "color": "rgb(255,65,54)"
         },
         "mode": "lines",
         "type": "scatter",
         "x": [
          135,
          135,
          250.078125,
          250.078125
         ],
         "xaxis": "x",
         "y": [
          0.959222823649863,
          1.37003701728022,
          1.37003701728022,
          0.6632751544732589
         ],
         "yaxis": "y2"
        },
        {
         "hoverinfo": "text",
         "marker": {
          "color": "rgb(255,65,54)"
         },
         "mode": "lines",
         "type": "scatter",
         "x": [
          192.5390625,
          192.5390625,
          325,
          325
         ],
         "xaxis": "x",
         "y": [
          1.37003701728022,
          1.7721205705692586,
          1.7721205705692586,
          0
         ],
         "yaxis": "y2"
        },
        {
         "hoverinfo": "text",
         "marker": {
          "color": "rgb(35,205,205)"
         },
         "mode": "lines",
         "type": "scatter",
         "x": [
          335,
          335,
          345,
          345
         ],
         "xaxis": "x",
         "y": [
          0,
          0.7684918206132706,
          0.7684918206132706,
          0
         ],
         "yaxis": "y2"
        },
        {
         "hoverinfo": "text",
         "marker": {
          "color": "rgb(35,205,205)"
         },
         "mode": "lines",
         "type": "scatter",
         "x": [
          340,
          340,
          355,
          355
         ],
         "xaxis": "x",
         "y": [
          0.7684918206132706,
          0.9058421340760913,
          0.9058421340760913,
          0
         ],
         "yaxis": "y2"
        },
        {
         "hoverinfo": "text",
         "marker": {
          "color": "rgb(0,116,217)"
         },
         "mode": "lines",
         "type": "scatter",
         "x": [
          258.76953125,
          258.76953125,
          347.5,
          347.5
         ],
         "xaxis": "x",
         "y": [
          1.7721205705692586,
          2.4050062819964624,
          2.4050062819964624,
          0.9058421340760913
         ],
         "yaxis": "y2"
        },
        {
         "hoverinfo": "text",
         "marker": {
          "color": "rgb(0,116,217)"
         },
         "mode": "lines",
         "type": "scatter",
         "x": [
          36.25,
          36.25,
          303.134765625,
          303.134765625
         ],
         "xaxis": "x",
         "y": [
          0.7332404103473346,
          2.5097952887097805,
          2.5097952887097805,
          2.4050062819964624
         ],
         "yaxis": "y2"
        },
        {
         "hoverinfo": "text",
         "marker": {
          "color": "rgb(133,20,75)"
         },
         "mode": "lines",
         "type": "scatter",
         "x": [
          365,
          365,
          375,
          375
         ],
         "xaxis": "x",
         "y": [
          0,
          0,
          0,
          0
         ],
         "yaxis": "y2"
        },
        {
         "hoverinfo": "text",
         "marker": {
          "color": "rgb(133,20,75)"
         },
         "mode": "lines",
         "type": "scatter",
         "x": [
          395,
          395,
          405,
          405
         ],
         "xaxis": "x",
         "y": [
          0,
          0.709173886557931,
          0.709173886557931,
          0
         ],
         "yaxis": "y2"
        },
        {
         "hoverinfo": "text",
         "marker": {
          "color": "rgb(133,20,75)"
         },
         "mode": "lines",
         "type": "scatter",
         "x": [
          425,
          425,
          435,
          435
         ],
         "xaxis": "x",
         "y": [
          0,
          0,
          0,
          0
         ],
         "yaxis": "y2"
        },
        {
         "hoverinfo": "text",
         "marker": {
          "color": "rgb(133,20,75)"
         },
         "mode": "lines",
         "type": "scatter",
         "x": [
          415,
          415,
          430,
          430
         ],
         "xaxis": "x",
         "y": [
          0,
          0.6119268504010204,
          0.6119268504010204,
          0
         ],
         "yaxis": "y2"
        },
        {
         "hoverinfo": "text",
         "marker": {
          "color": "rgb(133,20,75)"
         },
         "mode": "lines",
         "type": "scatter",
         "x": [
          400,
          400,
          422.5,
          422.5
         ],
         "xaxis": "x",
         "y": [
          0.709173886557931,
          0.7537899083570724,
          0.7537899083570724,
          0.6119268504010204
         ],
         "yaxis": "y2"
        },
        {
         "hoverinfo": "text",
         "marker": {
          "color": "rgb(133,20,75)"
         },
         "mode": "lines",
         "type": "scatter",
         "x": [
          455,
          455,
          465,
          465
         ],
         "xaxis": "x",
         "y": [
          0,
          0,
          0,
          0
         ],
         "yaxis": "y2"
        },
        {
         "hoverinfo": "text",
         "marker": {
          "color": "rgb(133,20,75)"
         },
         "mode": "lines",
         "type": "scatter",
         "x": [
          460,
          460,
          475,
          475
         ],
         "xaxis": "x",
         "y": [
          0,
          0.3063526048416229,
          0.3063526048416229,
          0
         ],
         "yaxis": "y2"
        },
        {
         "hoverinfo": "text",
         "marker": {
          "color": "rgb(133,20,75)"
         },
         "mode": "lines",
         "type": "scatter",
         "x": [
          445,
          445,
          467.5,
          467.5
         ],
         "xaxis": "x",
         "y": [
          0,
          0.3711958490491744,
          0.3711958490491744,
          0.3063526048416229
         ],
         "yaxis": "y2"
        },
        {
         "hoverinfo": "text",
         "marker": {
          "color": "rgb(133,20,75)"
         },
         "mode": "lines",
         "type": "scatter",
         "x": [
          411.25,
          411.25,
          456.25,
          456.25
         ],
         "xaxis": "x",
         "y": [
          0.7537899083570724,
          0.7253391003708329,
          0.7253391003708329,
          0.3711958490491744
         ],
         "yaxis": "y2"
        },
        {
         "hoverinfo": "text",
         "marker": {
          "color": "rgb(133,20,75)"
         },
         "mode": "lines",
         "type": "scatter",
         "x": [
          485,
          485,
          495,
          495
         ],
         "xaxis": "x",
         "y": [
          0,
          0,
          0,
          0
         ],
         "yaxis": "y2"
        },
        {
         "hoverinfo": "text",
         "marker": {
          "color": "rgb(133,20,75)"
         },
         "mode": "lines",
         "type": "scatter",
         "x": [
          490,
          490,
          505,
          505
         ],
         "xaxis": "x",
         "y": [
          0,
          0.560899270815052,
          0.560899270815052,
          0
         ],
         "yaxis": "y2"
        },
        {
         "hoverinfo": "text",
         "marker": {
          "color": "rgb(133,20,75)"
         },
         "mode": "lines",
         "type": "scatter",
         "x": [
          433.75,
          433.75,
          497.5,
          497.5
         ],
         "xaxis": "x",
         "y": [
          0.7253391003708329,
          0.9028115493721016,
          0.9028115493721016,
          0.560899270815052
         ],
         "yaxis": "y2"
        },
        {
         "hoverinfo": "text",
         "marker": {
          "color": "rgb(133,20,75)"
         },
         "mode": "lines",
         "type": "scatter",
         "x": [
          465.625,
          465.625,
          515,
          515
         ],
         "xaxis": "x",
         "y": [
          0.9028115493721016,
          1.1502367021812407,
          1.1502367021812407,
          0
         ],
         "yaxis": "y2"
        },
        {
         "hoverinfo": "text",
         "marker": {
          "color": "rgb(133,20,75)"
         },
         "mode": "lines",
         "type": "scatter",
         "x": [
          385,
          385,
          490.3125,
          490.3125
         ],
         "xaxis": "x",
         "y": [
          0,
          1.4790251837201445,
          1.4790251837201445,
          1.1502367021812407
         ],
         "yaxis": "y2"
        },
        {
         "hoverinfo": "text",
         "marker": {
          "color": "rgb(133,20,75)"
         },
         "mode": "lines",
         "type": "scatter",
         "x": [
          437.65625,
          437.65625,
          525,
          525
         ],
         "xaxis": "x",
         "y": [
          1.4790251837201445,
          1.4569604548733117,
          1.4569604548733117,
          0
         ],
         "yaxis": "y2"
        },
        {
         "hoverinfo": "text",
         "marker": {
          "color": "rgb(133,20,75)"
         },
         "mode": "lines",
         "type": "scatter",
         "x": [
          370,
          370,
          481.328125,
          481.328125
         ],
         "xaxis": "x",
         "y": [
          0,
          1.8768240946058807,
          1.8768240946058807,
          1.4569604548733117
         ],
         "yaxis": "y2"
        },
        {
         "hoverinfo": "text",
         "marker": {
          "color": "rgb(255,220,0)"
         },
         "mode": "lines",
         "type": "scatter",
         "x": [
          535,
          535,
          545,
          545
         ],
         "xaxis": "x",
         "y": [
          0,
          1.7323179083156426,
          1.7323179083156426,
          0
         ],
         "yaxis": "y2"
        },
        {
         "hoverinfo": "text",
         "marker": {
          "color": "rgb(255,220,0)"
         },
         "mode": "lines",
         "type": "scatter",
         "x": [
          565,
          565,
          575,
          575
         ],
         "xaxis": "x",
         "y": [
          0,
          0,
          0,
          0
         ],
         "yaxis": "y2"
        },
        {
         "hoverinfo": "text",
         "marker": {
          "color": "rgb(255,220,0)"
         },
         "mode": "lines",
         "type": "scatter",
         "x": [
          570,
          570,
          585,
          585
         ],
         "xaxis": "x",
         "y": [
          0,
          0,
          0,
          0
         ],
         "yaxis": "y2"
        },
        {
         "hoverinfo": "text",
         "marker": {
          "color": "rgb(255,220,0)"
         },
         "mode": "lines",
         "type": "scatter",
         "x": [
          555,
          555,
          577.5,
          577.5
         ],
         "xaxis": "x",
         "y": [
          0,
          0.9155503795041794,
          0.9155503795041794,
          0
         ],
         "yaxis": "y2"
        },
        {
         "hoverinfo": "text",
         "marker": {
          "color": "rgb(255,220,0)"
         },
         "mode": "lines",
         "type": "scatter",
         "x": [
          540,
          540,
          566.25,
          566.25
         ],
         "xaxis": "x",
         "y": [
          1.7323179083156426,
          1.9229407955968576,
          1.9229407955968576,
          0.9155503795041794
         ],
         "yaxis": "y2"
        },
        {
         "hoverinfo": "text",
         "marker": {
          "color": "rgb(0,116,217)"
         },
         "mode": "lines",
         "type": "scatter",
         "x": [
          425.6640625,
          425.6640625,
          553.125,
          553.125
         ],
         "xaxis": "x",
         "y": [
          1.8768240946058807,
          2.6904135978027264,
          2.6904135978027264,
          1.9229407955968576
         ],
         "yaxis": "y2"
        },
        {
         "hoverinfo": "text",
         "marker": {
          "color": "rgb(0,116,217)"
         },
         "mode": "lines",
         "type": "scatter",
         "x": [
          169.6923828125,
          169.6923828125,
          489.39453125,
          489.39453125
         ],
         "xaxis": "x",
         "y": [
          2.5097952887097805,
          2.862143463357855,
          2.862143463357855,
          2.6904135978027264
         ],
         "yaxis": "y2"
        },
        {
         "hoverinfo": "text",
         "marker": {
          "color": "rgb(61,153,112)"
         },
         "mode": "lines",
         "type": "scatter",
         "x": [
          0,
          0,
          0,
          0
         ],
         "xaxis": "x2",
         "y": [
          15,
          15,
          25,
          25
         ],
         "yaxis": "y"
        },
        {
         "hoverinfo": "text",
         "marker": {
          "color": "rgb(61,153,112)"
         },
         "mode": "lines",
         "type": "scatter",
         "x": [
          0,
          0,
          0,
          0
         ],
         "xaxis": "x2",
         "y": [
          20,
          20,
          35,
          35
         ],
         "yaxis": "y"
        },
        {
         "hoverinfo": "text",
         "marker": {
          "color": "rgb(61,153,112)"
         },
         "mode": "lines",
         "type": "scatter",
         "x": [
          0,
          -0.2226002828703737,
          -0.2226002828703737,
          0
         ],
         "xaxis": "x2",
         "y": [
          5,
          5,
          27.5,
          27.5
         ],
         "yaxis": "y"
        },
        {
         "hoverinfo": "text",
         "marker": {
          "color": "rgb(61,153,112)"
         },
         "mode": "lines",
         "type": "scatter",
         "x": [
          0,
          0,
          0,
          0
         ],
         "xaxis": "x2",
         "y": [
          55,
          55,
          65,
          65
         ],
         "yaxis": "y"
        },
        {
         "hoverinfo": "text",
         "marker": {
          "color": "rgb(61,153,112)"
         },
         "mode": "lines",
         "type": "scatter",
         "x": [
          0,
          0,
          0,
          0
         ],
         "xaxis": "x2",
         "y": [
          60,
          60,
          75,
          75
         ],
         "yaxis": "y"
        },
        {
         "hoverinfo": "text",
         "marker": {
          "color": "rgb(61,153,112)"
         },
         "mode": "lines",
         "type": "scatter",
         "x": [
          0,
          -0.3276521208435322,
          -0.3276521208435322,
          0
         ],
         "xaxis": "x2",
         "y": [
          45,
          45,
          67.5,
          67.5
         ],
         "yaxis": "y"
        },
        {
         "hoverinfo": "text",
         "marker": {
          "color": "rgb(61,153,112)"
         },
         "mode": "lines",
         "type": "scatter",
         "x": [
          -0.2226002828703737,
          -0.7332404103473346,
          -0.7332404103473346,
          -0.3276521208435322
         ],
         "xaxis": "x2",
         "y": [
          16.25,
          16.25,
          56.25,
          56.25
         ],
         "yaxis": "y"
        },
        {
         "hoverinfo": "text",
         "marker": {
          "color": "rgb(255,65,54)"
         },
         "mode": "lines",
         "type": "scatter",
         "x": [
          0,
          -0.029352850081975235,
          -0.029352850081975235,
          0
         ],
         "xaxis": "x2",
         "y": [
          105,
          105,
          115,
          115
         ],
         "yaxis": "y"
        },
        {
         "hoverinfo": "text",
         "marker": {
          "color": "rgb(255,65,54)"
         },
         "mode": "lines",
         "type": "scatter",
         "x": [
          0,
          -0.29594340653154144,
          -0.29594340653154144,
          -0.029352850081975235
         ],
         "xaxis": "x2",
         "y": [
          95,
          95,
          110,
          110
         ],
         "yaxis": "y"
        },
        {
         "hoverinfo": "text",
         "marker": {
          "color": "rgb(255,65,54)"
         },
         "mode": "lines",
         "type": "scatter",
         "x": [
          0,
          -0.2688460996461375,
          -0.2688460996461375,
          0
         ],
         "xaxis": "x2",
         "y": [
          125,
          125,
          135,
          135
         ],
         "yaxis": "y"
        },
        {
         "hoverinfo": "text",
         "marker": {
          "color": "rgb(255,65,54)"
         },
         "mode": "lines",
         "type": "scatter",
         "x": [
          -0.29594340653154144,
          -0.36003821126300767,
          -0.36003821126300767,
          -0.2688460996461375
         ],
         "xaxis": "x2",
         "y": [
          102.5,
          102.5,
          130,
          130
         ],
         "yaxis": "y"
        },
        {
         "hoverinfo": "text",
         "marker": {
          "color": "rgb(255,65,54)"
         },
         "mode": "lines",
         "type": "scatter",
         "x": [
          0,
          -0.7615216629875541,
          -0.7615216629875541,
          -0.36003821126300767
         ],
         "xaxis": "x2",
         "y": [
          85,
          85,
          116.25,
          116.25
         ],
         "yaxis": "y"
        },
        {
         "hoverinfo": "text",
         "marker": {
          "color": "rgb(255,65,54)"
         },
         "mode": "lines",
         "type": "scatter",
         "x": [
          0,
          -0.1625596699392212,
          -0.1625596699392212,
          0
         ],
         "xaxis": "x2",
         "y": [
          155,
          155,
          165,
          165
         ],
         "yaxis": "y"
        },
        {
         "hoverinfo": "text",
         "marker": {
          "color": "rgb(255,65,54)"
         },
         "mode": "lines",
         "type": "scatter",
         "x": [
          0,
          0,
          0,
          0
         ],
         "xaxis": "x2",
         "y": [
          175,
          175,
          185,
          185
         ],
         "yaxis": "y"
        },
        {
         "hoverinfo": "text",
         "marker": {
          "color": "rgb(255,65,54)"
         },
         "mode": "lines",
         "type": "scatter",
         "x": [
          -0.1625596699392212,
          -0.31581410172958435,
          -0.31581410172958435,
          0
         ],
         "xaxis": "x2",
         "y": [
          160,
          160,
          180,
          180
         ],
         "yaxis": "y"
        },
        {
         "hoverinfo": "text",
         "marker": {
          "color": "rgb(255,65,54)"
         },
         "mode": "lines",
         "type": "scatter",
         "x": [
          -0.31581410172958435,
          -0.5345571553806212,
          -0.5345571553806212,
          0
         ],
         "xaxis": "x2",
         "y": [
          170,
          170,
          195,
          195
         ],
         "yaxis": "y"
        },
        {
         "hoverinfo": "text",
         "marker": {
          "color": "rgb(255,65,54)"
         },
         "mode": "lines",
         "type": "scatter",
         "x": [
          -0.5345571553806212,
          -0.7697805017466831,
          -0.7697805017466831,
          0
         ],
         "xaxis": "x2",
         "y": [
          182.5,
          182.5,
          205,
          205
         ],
         "yaxis": "y"
        },
        {
         "hoverinfo": "text",
         "marker": {
          "color": "rgb(255,65,54)"
         },
         "mode": "lines",
         "type": "scatter",
         "x": [
          0,
          -0.811685681935787,
          -0.811685681935787,
          -0.7697805017466831
         ],
         "xaxis": "x2",
         "y": [
          145,
          145,
          193.75,
          193.75
         ],
         "yaxis": "y"
        },
        {
         "hoverinfo": "text",
         "marker": {
          "color": "rgb(255,65,54)"
         },
         "mode": "lines",
         "type": "scatter",
         "x": [
          -0.7615216629875541,
          -0.959222823649863,
          -0.959222823649863,
          -0.811685681935787
         ],
         "xaxis": "x2",
         "y": [
          100.625,
          100.625,
          169.375,
          169.375
         ],
         "yaxis": "y"
        },
        {
         "hoverinfo": "text",
         "marker": {
          "color": "rgb(255,65,54)"
         },
         "mode": "lines",
         "type": "scatter",
         "x": [
          0,
          -0.5734500922268383,
          -0.5734500922268383,
          0
         ],
         "xaxis": "x2",
         "y": [
          215,
          215,
          225,
          225
         ],
         "yaxis": "y"
        },
        {
         "hoverinfo": "text",
         "marker": {
          "color": "rgb(255,65,54)"
         },
         "mode": "lines",
         "type": "scatter",
         "x": [
          -0.5734500922268383,
          -0.5686858446086093,
          -0.5686858446086093,
          0
         ],
         "xaxis": "x2",
         "y": [
          220,
          220,
          235,
          235
         ],
         "yaxis": "y"
        },
        {
         "hoverinfo": "text",
         "marker": {
          "color": "rgb(255,65,54)"
         },
         "mode": "lines",
         "type": "scatter",
         "x": [
          0,
          0,
          0,
          0
         ],
         "xaxis": "x2",
         "y": [
          245,
          245,
          255,
          255
         ],
         "yaxis": "y"
        },
        {
         "hoverinfo": "text",
         "marker": {
          "color": "rgb(255,65,54)"
         },
         "mode": "lines",
         "type": "scatter",
         "x": [
          0,
          0,
          0,
          0
         ],
         "xaxis": "x2",
         "y": [
          285,
          285,
          295,
          295
         ],
         "yaxis": "y"
        },
        {
         "hoverinfo": "text",
         "marker": {
          "color": "rgb(255,65,54)"
         },
         "mode": "lines",
         "type": "scatter",
         "x": [
          0,
          0,
          0,
          0
         ],
         "xaxis": "x2",
         "y": [
          290,
          290,
          305,
          305
         ],
         "yaxis": "y"
        },
        {
         "hoverinfo": "text",
         "marker": {
          "color": "rgb(255,65,54)"
         },
         "mode": "lines",
         "type": "scatter",
         "x": [
          0,
          -0.25250409461172246,
          -0.25250409461172246,
          0
         ],
         "xaxis": "x2",
         "y": [
          275,
          275,
          297.5,
          297.5
         ],
         "yaxis": "y"
        },
        {
         "hoverinfo": "text",
         "marker": {
          "color": "rgb(255,65,54)"
         },
         "mode": "lines",
         "type": "scatter",
         "x": [
          0,
          -0.32159146115760956,
          -0.32159146115760956,
          -0.25250409461172246
         ],
         "xaxis": "x2",
         "y": [
          265,
          265,
          286.25,
          286.25
         ],
         "yaxis": "y"
        },
        {
         "hoverinfo": "text",
         "marker": {
          "color": "rgb(255,65,54)"
         },
         "mode": "lines",
         "type": "scatter",
         "x": [
          -0.32159146115760956,
          -0.5138966851721473,
          -0.5138966851721473,
          0
         ],
         "xaxis": "x2",
         "y": [
          275.625,
          275.625,
          315,
          315
         ],
         "yaxis": "y"
        },
        {
         "hoverinfo": "text",
         "marker": {
          "color": "rgb(255,65,54)"
         },
         "mode": "lines",
         "type": "scatter",
         "x": [
          0,
          -0.653086921886911,
          -0.653086921886911,
          -0.5138966851721473
         ],
         "xaxis": "x2",
         "y": [
          250,
          250,
          295.3125,
          295.3125
         ],
         "yaxis": "y"
        },
        {
         "hoverinfo": "text",
         "marker": {
          "color": "rgb(255,65,54)"
         },
         "mode": "lines",
         "type": "scatter",
         "x": [
          -0.5686858446086093,
          -0.6632751544732589,
          -0.6632751544732589,
          -0.653086921886911
         ],
         "xaxis": "x2",
         "y": [
          227.5,
          227.5,
          272.65625,
          272.65625
         ],
         "yaxis": "y"
        },
        {
         "hoverinfo": "text",
         "marker": {
          "color": "rgb(255,65,54)"
         },
         "mode": "lines",
         "type": "scatter",
         "x": [
          -0.959222823649863,
          -1.37003701728022,
          -1.37003701728022,
          -0.6632751544732589
         ],
         "xaxis": "x2",
         "y": [
          135,
          135,
          250.078125,
          250.078125
         ],
         "yaxis": "y"
        },
        {
         "hoverinfo": "text",
         "marker": {
          "color": "rgb(255,65,54)"
         },
         "mode": "lines",
         "type": "scatter",
         "x": [
          -1.37003701728022,
          -1.7721205705692586,
          -1.7721205705692586,
          0
         ],
         "xaxis": "x2",
         "y": [
          192.5390625,
          192.5390625,
          325,
          325
         ],
         "yaxis": "y"
        },
        {
         "hoverinfo": "text",
         "marker": {
          "color": "rgb(35,205,205)"
         },
         "mode": "lines",
         "type": "scatter",
         "x": [
          0,
          -0.7684918206132706,
          -0.7684918206132706,
          0
         ],
         "xaxis": "x2",
         "y": [
          335,
          335,
          345,
          345
         ],
         "yaxis": "y"
        },
        {
         "hoverinfo": "text",
         "marker": {
          "color": "rgb(35,205,205)"
         },
         "mode": "lines",
         "type": "scatter",
         "x": [
          -0.7684918206132706,
          -0.9058421340760913,
          -0.9058421340760913,
          0
         ],
         "xaxis": "x2",
         "y": [
          340,
          340,
          355,
          355
         ],
         "yaxis": "y"
        },
        {
         "hoverinfo": "text",
         "marker": {
          "color": "rgb(0,116,217)"
         },
         "mode": "lines",
         "type": "scatter",
         "x": [
          -1.7721205705692586,
          -2.4050062819964624,
          -2.4050062819964624,
          -0.9058421340760913
         ],
         "xaxis": "x2",
         "y": [
          258.76953125,
          258.76953125,
          347.5,
          347.5
         ],
         "yaxis": "y"
        },
        {
         "hoverinfo": "text",
         "marker": {
          "color": "rgb(0,116,217)"
         },
         "mode": "lines",
         "type": "scatter",
         "x": [
          -0.7332404103473346,
          -2.5097952887097805,
          -2.5097952887097805,
          -2.4050062819964624
         ],
         "xaxis": "x2",
         "y": [
          36.25,
          36.25,
          303.134765625,
          303.134765625
         ],
         "yaxis": "y"
        },
        {
         "hoverinfo": "text",
         "marker": {
          "color": "rgb(133,20,75)"
         },
         "mode": "lines",
         "type": "scatter",
         "x": [
          0,
          0,
          0,
          0
         ],
         "xaxis": "x2",
         "y": [
          365,
          365,
          375,
          375
         ],
         "yaxis": "y"
        },
        {
         "hoverinfo": "text",
         "marker": {
          "color": "rgb(133,20,75)"
         },
         "mode": "lines",
         "type": "scatter",
         "x": [
          0,
          -0.709173886557931,
          -0.709173886557931,
          0
         ],
         "xaxis": "x2",
         "y": [
          395,
          395,
          405,
          405
         ],
         "yaxis": "y"
        },
        {
         "hoverinfo": "text",
         "marker": {
          "color": "rgb(133,20,75)"
         },
         "mode": "lines",
         "type": "scatter",
         "x": [
          0,
          0,
          0,
          0
         ],
         "xaxis": "x2",
         "y": [
          425,
          425,
          435,
          435
         ],
         "yaxis": "y"
        },
        {
         "hoverinfo": "text",
         "marker": {
          "color": "rgb(133,20,75)"
         },
         "mode": "lines",
         "type": "scatter",
         "x": [
          0,
          -0.6119268504010204,
          -0.6119268504010204,
          0
         ],
         "xaxis": "x2",
         "y": [
          415,
          415,
          430,
          430
         ],
         "yaxis": "y"
        },
        {
         "hoverinfo": "text",
         "marker": {
          "color": "rgb(133,20,75)"
         },
         "mode": "lines",
         "type": "scatter",
         "x": [
          -0.709173886557931,
          -0.7537899083570724,
          -0.7537899083570724,
          -0.6119268504010204
         ],
         "xaxis": "x2",
         "y": [
          400,
          400,
          422.5,
          422.5
         ],
         "yaxis": "y"
        },
        {
         "hoverinfo": "text",
         "marker": {
          "color": "rgb(133,20,75)"
         },
         "mode": "lines",
         "type": "scatter",
         "x": [
          0,
          0,
          0,
          0
         ],
         "xaxis": "x2",
         "y": [
          455,
          455,
          465,
          465
         ],
         "yaxis": "y"
        },
        {
         "hoverinfo": "text",
         "marker": {
          "color": "rgb(133,20,75)"
         },
         "mode": "lines",
         "type": "scatter",
         "x": [
          0,
          -0.3063526048416229,
          -0.3063526048416229,
          0
         ],
         "xaxis": "x2",
         "y": [
          460,
          460,
          475,
          475
         ],
         "yaxis": "y"
        },
        {
         "hoverinfo": "text",
         "marker": {
          "color": "rgb(133,20,75)"
         },
         "mode": "lines",
         "type": "scatter",
         "x": [
          0,
          -0.3711958490491744,
          -0.3711958490491744,
          -0.3063526048416229
         ],
         "xaxis": "x2",
         "y": [
          445,
          445,
          467.5,
          467.5
         ],
         "yaxis": "y"
        },
        {
         "hoverinfo": "text",
         "marker": {
          "color": "rgb(133,20,75)"
         },
         "mode": "lines",
         "type": "scatter",
         "x": [
          -0.7537899083570724,
          -0.7253391003708329,
          -0.7253391003708329,
          -0.3711958490491744
         ],
         "xaxis": "x2",
         "y": [
          411.25,
          411.25,
          456.25,
          456.25
         ],
         "yaxis": "y"
        },
        {
         "hoverinfo": "text",
         "marker": {
          "color": "rgb(133,20,75)"
         },
         "mode": "lines",
         "type": "scatter",
         "x": [
          0,
          0,
          0,
          0
         ],
         "xaxis": "x2",
         "y": [
          485,
          485,
          495,
          495
         ],
         "yaxis": "y"
        },
        {
         "hoverinfo": "text",
         "marker": {
          "color": "rgb(133,20,75)"
         },
         "mode": "lines",
         "type": "scatter",
         "x": [
          0,
          -0.560899270815052,
          -0.560899270815052,
          0
         ],
         "xaxis": "x2",
         "y": [
          490,
          490,
          505,
          505
         ],
         "yaxis": "y"
        },
        {
         "hoverinfo": "text",
         "marker": {
          "color": "rgb(133,20,75)"
         },
         "mode": "lines",
         "type": "scatter",
         "x": [
          -0.7253391003708329,
          -0.9028115493721016,
          -0.9028115493721016,
          -0.560899270815052
         ],
         "xaxis": "x2",
         "y": [
          433.75,
          433.75,
          497.5,
          497.5
         ],
         "yaxis": "y"
        },
        {
         "hoverinfo": "text",
         "marker": {
          "color": "rgb(133,20,75)"
         },
         "mode": "lines",
         "type": "scatter",
         "x": [
          -0.9028115493721016,
          -1.1502367021812407,
          -1.1502367021812407,
          0
         ],
         "xaxis": "x2",
         "y": [
          465.625,
          465.625,
          515,
          515
         ],
         "yaxis": "y"
        },
        {
         "hoverinfo": "text",
         "marker": {
          "color": "rgb(133,20,75)"
         },
         "mode": "lines",
         "type": "scatter",
         "x": [
          0,
          -1.4790251837201445,
          -1.4790251837201445,
          -1.1502367021812407
         ],
         "xaxis": "x2",
         "y": [
          385,
          385,
          490.3125,
          490.3125
         ],
         "yaxis": "y"
        },
        {
         "hoverinfo": "text",
         "marker": {
          "color": "rgb(133,20,75)"
         },
         "mode": "lines",
         "type": "scatter",
         "x": [
          -1.4790251837201445,
          -1.4569604548733117,
          -1.4569604548733117,
          0
         ],
         "xaxis": "x2",
         "y": [
          437.65625,
          437.65625,
          525,
          525
         ],
         "yaxis": "y"
        },
        {
         "hoverinfo": "text",
         "marker": {
          "color": "rgb(133,20,75)"
         },
         "mode": "lines",
         "type": "scatter",
         "x": [
          0,
          -1.8768240946058807,
          -1.8768240946058807,
          -1.4569604548733117
         ],
         "xaxis": "x2",
         "y": [
          370,
          370,
          481.328125,
          481.328125
         ],
         "yaxis": "y"
        },
        {
         "hoverinfo": "text",
         "marker": {
          "color": "rgb(255,220,0)"
         },
         "mode": "lines",
         "type": "scatter",
         "x": [
          0,
          -1.7323179083156426,
          -1.7323179083156426,
          0
         ],
         "xaxis": "x2",
         "y": [
          535,
          535,
          545,
          545
         ],
         "yaxis": "y"
        },
        {
         "hoverinfo": "text",
         "marker": {
          "color": "rgb(255,220,0)"
         },
         "mode": "lines",
         "type": "scatter",
         "x": [
          0,
          0,
          0,
          0
         ],
         "xaxis": "x2",
         "y": [
          565,
          565,
          575,
          575
         ],
         "yaxis": "y"
        },
        {
         "hoverinfo": "text",
         "marker": {
          "color": "rgb(255,220,0)"
         },
         "mode": "lines",
         "type": "scatter",
         "x": [
          0,
          0,
          0,
          0
         ],
         "xaxis": "x2",
         "y": [
          570,
          570,
          585,
          585
         ],
         "yaxis": "y"
        },
        {
         "hoverinfo": "text",
         "marker": {
          "color": "rgb(255,220,0)"
         },
         "mode": "lines",
         "type": "scatter",
         "x": [
          0,
          -0.9155503795041794,
          -0.9155503795041794,
          0
         ],
         "xaxis": "x2",
         "y": [
          555,
          555,
          577.5,
          577.5
         ],
         "yaxis": "y"
        },
        {
         "hoverinfo": "text",
         "marker": {
          "color": "rgb(255,220,0)"
         },
         "mode": "lines",
         "type": "scatter",
         "x": [
          -1.7323179083156426,
          -1.9229407955968576,
          -1.9229407955968576,
          -0.9155503795041794
         ],
         "xaxis": "x2",
         "y": [
          540,
          540,
          566.25,
          566.25
         ],
         "yaxis": "y"
        },
        {
         "hoverinfo": "text",
         "marker": {
          "color": "rgb(0,116,217)"
         },
         "mode": "lines",
         "type": "scatter",
         "x": [
          -1.8768240946058807,
          -2.6904135978027264,
          -2.6904135978027264,
          -1.9229407955968576
         ],
         "xaxis": "x2",
         "y": [
          425.6640625,
          425.6640625,
          553.125,
          553.125
         ],
         "yaxis": "y"
        },
        {
         "hoverinfo": "text",
         "marker": {
          "color": "rgb(0,116,217)"
         },
         "mode": "lines",
         "type": "scatter",
         "x": [
          -2.5097952887097805,
          -2.862143463357855,
          -2.862143463357855,
          -2.6904135978027264
         ],
         "xaxis": "x2",
         "y": [
          169.6923828125,
          169.6923828125,
          489.39453125,
          489.39453125
         ],
         "yaxis": "y"
        },
        {
         "colorbar": {
          "title": {
           "text": "Correlación (abs)"
          }
         },
         "type": "heatmap",
         "x": [
          5,
          15,
          25,
          35,
          45,
          55,
          65,
          75,
          85,
          95,
          105,
          115,
          125,
          135,
          145,
          155,
          165,
          175,
          185,
          195,
          205,
          215,
          225,
          235,
          245,
          255,
          265,
          275,
          285,
          295,
          305,
          315,
          325,
          335,
          345,
          355,
          365,
          375,
          385,
          395,
          405,
          415,
          425,
          435,
          445,
          455,
          465,
          475,
          485,
          495,
          505,
          515,
          525,
          535,
          545,
          555,
          565,
          575,
          585
         ],
         "y": [
          5,
          15,
          25,
          35,
          45,
          55,
          65,
          75,
          85,
          95,
          105,
          115,
          125,
          135,
          145,
          155,
          165,
          175,
          185,
          195,
          205,
          215,
          225,
          235,
          245,
          255,
          265,
          275,
          285,
          295,
          305,
          315,
          325,
          335,
          345,
          355,
          365,
          375,
          385,
          395,
          405,
          415,
          425,
          435,
          445,
          455,
          465,
          475,
          485,
          495,
          505,
          515,
          525,
          535,
          545,
          555,
          565,
          575,
          585
         ],
         "z": [
          [
           1,
           0.9964468837907493,
           0.9964468837907493,
           0.9964468837907493,
           0.9075470878163188,
           0.8604354490248182,
           0.8604354490248182,
           0.8604354490248182,
           0.5309189742597004,
           0.5577785650649603,
           0.5891431089875478,
           0.597043035283676,
           0.5123201796241794,
           0.5472910465331224,
           0.6017362324073491,
           0.5279889997534616,
           0.49336422635084765,
           0.43661747401009854,
           0.43661747401009854,
           0.3479878613721205,
           0.29765969900220574,
           0.5933049918718245,
           0.42063447276628707,
           0.4550100142278063,
           0.4614873089191161,
           0.4614873089191161,
           0.4421472504057532,
           0.36728080937031155,
           0.3423274031030006,
           0.3423274031030006,
           0.3423274031030006,
           0.2332253609298242,
           0.26040609170675166,
           0.3240578671822735,
           0.0642476147079002,
           0.06623107250050131,
           0.08206880266004143,
           0.08206880266004143,
           0.13337781439295146,
           0.14181666335871276,
           0.21039558997830404,
           0.27795563904630716,
           0.14156290455989917,
           0.14156290455989917,
           0.015948946628449166,
           0.030760473318362958,
           0.030760473318362958,
           0.0738265763232332,
           0.18263466931958228,
           0.18263466931958228,
           0.31087378438466684,
           0.2513072341355524,
           0.18529330298222052,
           0.11949291842267666,
           0.239949073048688,
           0.4222529634725271,
           0.3420213569795332,
           0.3420213569795332,
           0.3420213569795332
          ],
          [
           0.9964468837907493,
           1,
           1,
           1,
           0.9396921790511394,
           0.8909118577774785,
           0.8909118577774785,
           0.8909118577774785,
           0.5497742461344434,
           0.570776691446072,
           0.601022726296427,
           0.6091367554095051,
           0.5350963696872163,
           0.5612944090584414,
           0.6309971135270699,
           0.5414697627994691,
           0.5121865945859027,
           0.45196685387218416,
           0.45196685387218416,
           0.3797839839062706,
           0.3180419581146699,
           0.6068934976447125,
           0.44209860904856085,
           0.4665129737787905,
           0.4907249630425602,
           0.4907249630425602,
           0.4745644051593947,
           0.404329916901618,
           0.37547515158017053,
           0.37547515158017053,
           0.37547515158017053,
           0.26470626945084197,
           0.2945586939727216,
           0.3052003936603368,
           0.08084861553688859,
           0.05905953160727838,
           0.06429210103699219,
           0.06429210103699219,
           0.13290390751867745,
           0.1676359265199184,
           0.20964802999719725,
           0.2769680303597591,
           0.17026895731801991,
           0.17026895731801991,
           0.031189254764986914,
           0.008247605219254417,
           0.008247605219254417,
           0.053906014758734334,
           0.1573490541545511,
           0.1573490541545511,
           0.2866409708291216,
           0.2381181874805562,
           0.1846349343439288,
           0.11906834619733839,
           0.24844800930049146,
           0.36109816925326216,
           0.2616618962644557,
           0.2616618962644557,
           0.2616618962644557
          ],
          [
           0.9964468837907493,
           1,
           1,
           1,
           0.9396921790511394,
           0.8909118577774785,
           0.8909118577774785,
           0.8909118577774785,
           0.5497742461344434,
           0.570776691446072,
           0.601022726296427,
           0.6091367554095051,
           0.5350963696872163,
           0.5612944090584414,
           0.6309971135270699,
           0.5414697627994691,
           0.5121865945859027,
           0.45196685387218416,
           0.45196685387218416,
           0.3797839839062706,
           0.3180419581146699,
           0.6068934976447125,
           0.44209860904856085,
           0.4665129737787905,
           0.4907249630425602,
           0.4907249630425602,
           0.4745644051593947,
           0.404329916901618,
           0.37547515158017053,
           0.37547515158017053,
           0.37547515158017053,
           0.26470626945084197,
           0.2945586939727216,
           0.3052003936603368,
           0.08084861553688859,
           0.05905953160727838,
           0.06429210103699219,
           0.06429210103699219,
           0.13290390751867745,
           0.1676359265199184,
           0.20964802999719725,
           0.2769680303597591,
           0.17026895731801991,
           0.17026895731801991,
           0.031189254764986914,
           0.008247605219254417,
           0.008247605219254417,
           0.053906014758734334,
           0.1573490541545511,
           0.1573490541545511,
           0.2866409708291216,
           0.2381181874805562,
           0.1846349343439288,
           0.11906834619733839,
           0.24844800930049146,
           0.36109816925326216,
           0.2616618962644557,
           0.2616618962644557,
           0.2616618962644557
          ],
          [
           0.9964468837907493,
           1,
           1,
           1,
           0.9396921790511394,
           0.8909118577774785,
           0.8909118577774785,
           0.8909118577774785,
           0.5497742461344434,
           0.570776691446072,
           0.601022726296427,
           0.6091367554095051,
           0.5350963696872163,
           0.5612944090584414,
           0.6309971135270699,
           0.5414697627994691,
           0.5121865945859027,
           0.45196685387218416,
           0.45196685387218416,
           0.3797839839062706,
           0.3180419581146699,
           0.6068934976447125,
           0.44209860904856085,
           0.4665129737787905,
           0.4907249630425602,
           0.4907249630425602,
           0.4745644051593947,
           0.404329916901618,
           0.37547515158017053,
           0.37547515158017053,
           0.37547515158017053,
           0.26470626945084197,
           0.2945586939727216,
           0.3052003936603368,
           0.08084861553688859,
           0.05905953160727838,
           0.06429210103699219,
           0.06429210103699219,
           0.13290390751867745,
           0.1676359265199184,
           0.20964802999719725,
           0.2769680303597591,
           0.17026895731801991,
           0.17026895731801991,
           0.031189254764986914,
           0.008247605219254417,
           0.008247605219254417,
           0.053906014758734334,
           0.1573490541545511,
           0.1573490541545511,
           0.2866409708291216,
           0.2381181874805562,
           0.1846349343439288,
           0.11906834619733839,
           0.24844800930049146,
           0.36109816925326216,
           0.2616618962644557,
           0.2616618962644557,
           0.2616618962644557
          ],
          [
           0.9075470878163188,
           0.9396921790511394,
           0.9396921790511394,
           0.9396921790511394,
           1,
           0.9480890419638086,
           0.9480890419638086,
           0.9480890419638086,
           0.5852549033170916,
           0.5809025609372108,
           0.6043459847934526,
           0.6127230439149856,
           0.5875963605099817,
           0.576211090427053,
           0.7026633314148767,
           0.5557458592257114,
           0.5503428068101325,
           0.4805203114539255,
           0.4805203114539255,
           0.4805203114539255,
           0.3770423990824852,
           0.6167175774889707,
           0.4962208480456557,
           0.4783594713337454,
           0.5727803201229653,
           0.5727803201229653,
           0.5707391022701177,
           0.5245634816554258,
           0.4820222907622677,
           0.4820222907622677,
           0.4820222907622677,
           0.3727630673212234,
           0.41123383845311196,
           0.2058129132953055,
           0.1422208584048713,
           0.025522891709019016,
           0.012701837109633565,
           0.012701837109633565,
           0.1210466470316286,
           0.2599561949990696,
           0.19094390497420607,
           0.2522578307585999,
           0.2741153342721595,
           0.2741153342721595,
           0.09074726536823846,
           0.08379073969923054,
           0.08379073969923054,
           0.03101765040189288,
           0.042907596804799664,
           0.042907596804799664,
           0.1668119734185335,
           0.16676297586405409,
           0.16816239751338102,
           0.10844545012917314,
           0.2643929734004634,
           0.08576894075984084,
           0.08422355836525108,
           0.08422355836525108,
           0.08422355836525108
          ],
          [
           0.8604354490248182,
           0.8909118577774785,
           0.8909118577774785,
           0.8909118577774785,
           0.9480890419638086,
           1,
           1,
           1,
           0.5403957024313496,
           0.5525450461188913,
           0.581867182760178,
           0.588301629380891,
           0.5605853338279567,
           0.5432115484931351,
           0.6758322684795537,
           0.5198382114969027,
           0.5142488731500773,
           0.4508426060373453,
           0.4508426060373453,
           0.4508426060373453,
           0.35757339373821195,
           0.5879161086266498,
           0.4510272339373128,
           0.4341774343639014,
           0.5452455775741811,
           0.5452455775741811,
           0.5420136741427991,
           0.5120233819623299,
           0.4446285722014271,
           0.4446285722014271,
           0.4446285722014271,
           0.35042959974549853,
           0.4689182188791279,
           0.15234708112618522,
           0.2118433539699705,
           0.023846493643268973,
           0.032922979963184475,
           0.032922979963184475,
           0.11476299961714806,
           0.2464616198692249,
           0.18103182393582357,
           0.23916288509178954,
           0.25988574465768094,
           0.25988574465768094,
           0.07144309145255129,
           0.061424466492146695,
           0.061424466492146695,
           0.0068666268102511255,
           0.02718347321357576,
           0.02718347321357576,
           0.15815260406646972,
           0.23085424725265744,
           0.1594329263527986,
           0.10281594291830175,
           0.05602070420949957,
           0.09858303709087159,
           0.0798514327612938,
           0.0798514327612938,
           0.0798514327612938
          ],
          [
           0.8604354490248182,
           0.8909118577774785,
           0.8909118577774785,
           0.8909118577774785,
           0.9480890419638086,
           1,
           1,
           1,
           0.5403957024313496,
           0.5525450461188913,
           0.581867182760178,
           0.588301629380891,
           0.5605853338279567,
           0.5432115484931351,
           0.6758322684795537,
           0.5198382114969027,
           0.5142488731500773,
           0.4508426060373453,
           0.4508426060373453,
           0.4508426060373453,
           0.35757339373821195,
           0.5879161086266498,
           0.4510272339373128,
           0.4341774343639014,
           0.5452455775741811,
           0.5452455775741811,
           0.5420136741427991,
           0.5120233819623299,
           0.4446285722014271,
           0.4446285722014271,
           0.4446285722014271,
           0.35042959974549853,
           0.4689182188791279,
           0.15234708112618522,
           0.2118433539699705,
           0.023846493643268973,
           0.032922979963184475,
           0.032922979963184475,
           0.11476299961714806,
           0.2464616198692249,
           0.18103182393582357,
           0.23916288509178954,
           0.25988574465768094,
           0.25988574465768094,
           0.07144309145255129,
           0.061424466492146695,
           0.061424466492146695,
           0.0068666268102511255,
           0.02718347321357576,
           0.02718347321357576,
           0.15815260406646972,
           0.23085424725265744,
           0.1594329263527986,
           0.10281594291830175,
           0.05602070420949957,
           0.09858303709087159,
           0.0798514327612938,
           0.0798514327612938,
           0.0798514327612938
          ],
          [
           0.8604354490248182,
           0.8909118577774785,
           0.8909118577774785,
           0.8909118577774785,
           0.9480890419638086,
           1,
           1,
           1,
           0.5403957024313496,
           0.5525450461188913,
           0.581867182760178,
           0.588301629380891,
           0.5605853338279567,
           0.5432115484931351,
           0.6758322684795537,
           0.5198382114969027,
           0.5142488731500773,
           0.4508426060373453,
           0.4508426060373453,
           0.4508426060373453,
           0.35757339373821195,
           0.5879161086266498,
           0.4510272339373128,
           0.4341774343639014,
           0.5452455775741811,
           0.5452455775741811,
           0.5420136741427991,
           0.5120233819623299,
           0.4446285722014271,
           0.4446285722014271,
           0.4446285722014271,
           0.35042959974549853,
           0.4689182188791279,
           0.15234708112618522,
           0.2118433539699705,
           0.023846493643268973,
           0.032922979963184475,
           0.032922979963184475,
           0.11476299961714806,
           0.2464616198692249,
           0.18103182393582357,
           0.23916288509178954,
           0.25988574465768094,
           0.25988574465768094,
           0.07144309145255129,
           0.061424466492146695,
           0.061424466492146695,
           0.0068666268102511255,
           0.02718347321357576,
           0.02718347321357576,
           0.15815260406646972,
           0.23085424725265744,
           0.1594329263527986,
           0.10281594291830175,
           0.05602070420949957,
           0.09858303709087159,
           0.0798514327612938,
           0.0798514327612938,
           0.0798514327612938
          ],
          [
           0.5309189742597004,
           0.5497742461344434,
           0.5497742461344434,
           0.5497742461344434,
           0.5852549033170916,
           0.5403957024313496,
           0.5403957024313496,
           0.5403957024313496,
           1,
           0.8378383756926141,
           0.8905298690675065,
           0.8959744948465692,
           0.9095684034130597,
           0.9145102023146623,
           0.7502766240118605,
           0.8473262959250722,
           0.8668998581043015,
           0.7754596553712353,
           0.7754596553712353,
           0.7509978590159596,
           0.6024187896136562,
           0.7882538698360319,
           0.77110814454745,
           0.7187689547462708,
           0.5425396120324798,
           0.5425396120324798,
           0.6527413609383187,
           0.6277762428378981,
           0.6679088938252378,
           0.6679088938252378,
           0.6679088938252378,
           0.5662828643789316,
           0.38281149531709163,
           0.440229486861374,
           0.5194659081045865,
           0.7217955665919372,
           0.31262684849409783,
           0.31262684849409783,
           0.030242176287585833,
           0.06946068101937179,
           0.02430016136869525,
           0.002267565357773273,
           0.016733827900990445,
           0.016733827900990445,
           0.06459333325590443,
           0.031019908554216317,
           0.031019908554216317,
           0.059775628028730356,
           0.06648817897351754,
           0.06648817897351754,
           0.003529323252709044,
           0.14336824502990617,
           0.12414449083738327,
           0.1339249820072048,
           0.1986449513561076,
           0.07550824512851587,
           0.049831840186190045,
           0.049831840186190045,
           0.049831840186190045
          ],
          [
           0.5577785650649603,
           0.570776691446072,
           0.570776691446072,
           0.570776691446072,
           0.5809025609372108,
           0.5525450461188913,
           0.5525450461188913,
           0.5525450461188913,
           0.8378383756926141,
           1,
           0.956818274084537,
           0.9571757224823869,
           0.9218157456270573,
           0.9335980173949051,
           0.8875463486519887,
           0.8998493294415266,
           0.8931948188122025,
           0.8622890092191344,
           0.8622890092191344,
           0.8289770328067988,
           0.8176617244220107,
           0.8673180878874643,
           0.8384762418923409,
           0.7731492734537244,
           0.674247486412046,
           0.674247486412046,
           0.755050295281412,
           0.7338164089596924,
           0.7419084152296544,
           0.7419084152296544,
           0.7419084152296544,
           0.6674329181501311,
           0.45510569330901524,
           0.4769140846381047,
           0.5771677222617357,
           0.6284270481365569,
           0.41555766422343093,
           0.41555766422343093,
           0.15981346942769725,
           0.1330547632380979,
           0.23973513513317674,
           0.1110883554611743,
           0.1000943751452733,
           0.1000943751452733,
           0.05764086201638962,
           0.039628892120462056,
           0.039628892120462056,
           0.005798910417488819,
           0.07008687042468176,
           0.07008687042468176,
           0.1452208972281486,
           0.16601206886952435,
           0.11375338848319172,
           0.15521478578242795,
           0.14813468233688734,
           0.10634986672104864,
           0.02363879460656318,
           0.02363879460656318,
           0.02363879460656318
          ],
          [
           0.5891431089875478,
           0.601022726296427,
           0.601022726296427,
           0.601022726296427,
           0.6043459847934526,
           0.581867182760178,
           0.581867182760178,
           0.581867182760178,
           0.8905298690675065,
           0.956818274084537,
           1,
           0.9995715591839943,
           0.9790124809341144,
           0.982865798750918,
           0.9066049840828813,
           0.9325233091057196,
           0.9231458886038472,
           0.8848424454059953,
           0.8848424454059953,
           0.8387664042375226,
           0.8288671680658172,
           0.895830262553189,
           0.8677621676021727,
           0.7967428900858272,
           0.73347908241674,
           0.73347908241674,
           0.7890468642932883,
           0.7632178830112404,
           0.7729020013784415,
           0.7729020013784415,
           0.7729020013784415,
           0.6844467825125898,
           0.5403798667916934,
           0.5075435113592426,
           0.6120513274910192,
           0.6741123363591098,
           0.41495698024508815,
           0.41495698024508815,
           0.0634394787132802,
           0.04800031833554973,
           0.15383783912102358,
           0.14491973122263102,
           0.12268674271244172,
           0.12268674271244172,
           0.06679782526471446,
           0.05209889591278342,
           0.05209889591278342,
           0.016867516378298943,
           0.09947168590131894,
           0.09947168590131894,
           0.17581536996339528,
           0.16719602582175247,
           0.08813242744870742,
           0.08291226587433578,
           0.13281385035043605,
           0.11543985392748234,
           0.04560210609574801,
           0.04560210609574801,
           0.04560210609574801
          ],
          [
           0.597043035283676,
           0.6091367554095051,
           0.6091367554095051,
           0.6091367554095051,
           0.6127230439149856,
           0.588301629380891,
           0.588301629380891,
           0.588301629380891,
           0.8959744948465692,
           0.9571757224823869,
           0.9995715591839943,
           1,
           0.9784132255555225,
           0.9830293476197656,
           0.9075549938488746,
           0.9317862209063567,
           0.9227575148834106,
           0.8831989743501031,
           0.8831989743501031,
           0.8371229331816303,
           0.8243078803150283,
           0.8965149516300388,
           0.8660577861251426,
           0.7984090894982095,
           0.7316248018231881,
           0.7316248018231881,
           0.787169750602508,
           0.7607627518844028,
           0.7711747634416707,
           0.7711747634416707,
           0.7711747634416707,
           0.6821337621920537,
           0.535626242747437,
           0.4977940800038817,
           0.6046818991547849,
           0.6704921346777297,
           0.4096276234968113,
           0.4096276234968113,
           0.0634394787132802,
           0.04800031833554973,
           0.15383783912102358,
           0.14491973122263102,
           0.12268674271244172,
           0.12268674271244172,
           0.06679782526471446,
           0.05209889591278342,
           0.05209889591278342,
           0.016867516378298943,
           0.09947168590131894,
           0.09947168590131894,
           0.17581536996339528,
           0.1648273561747586,
           0.08813242744870742,
           0.08291226587433578,
           0.13960124967630344,
           0.11942125359589918,
           0.04560210609574801,
           0.04560210609574801,
           0.04560210609574801
          ],
          [
           0.5123201796241794,
           0.5350963696872163,
           0.5350963696872163,
           0.5350963696872163,
           0.5875963605099817,
           0.5605853338279567,
           0.5605853338279567,
           0.5605853338279567,
           0.9095684034130597,
           0.9218157456270573,
           0.9790124809341144,
           0.9784132255555225,
           1,
           0.9871323223726475,
           0.8993819264598456,
           0.9496205491234653,
           0.9515375771031095,
           0.9101327349548252,
           0.9101327349548252,
           0.8940983751463283,
           0.8338224648844667,
           0.90231636048332,
           0.9026495946683026,
           0.8106614245523744,
           0.7553210927923869,
           0.7553210927923869,
           0.8358872810365999,
           0.8198513116128114,
           0.8243227354897031,
           0.8243227354897031,
           0.8243227354897031,
           0.7501466577260204,
           0.5688937281642181,
           0.5584181287340826,
           0.5968332715970164,
           0.6983001256258313,
           0.48276568920417623,
           0.48276568920417623,
           0.1012020973529666,
           0.07948989359814941,
           0.1398652627008542,
           0.15828567174827732,
           0.18953311594681424,
           0.18953311594681424,
           0.11330773184211694,
           0.12580417558178694,
           0.12580417558178694,
           0.08784008228187053,
           0.07674988453268378,
           0.07674988453268378,
           0.14557457289725867,
           0.24901194122940695,
           0.032329549776339235,
           0.13961106607799248,
           0.1447671669912528,
           0.0032700522499714327,
           0.09920186865926313,
           0.09920186865926313,
           0.09920186865926313
          ],
          [
           0.5472910465331224,
           0.5612944090584414,
           0.5612944090584414,
           0.5612944090584414,
           0.576211090427053,
           0.5432115484931351,
           0.5432115484931351,
           0.5432115484931351,
           0.9145102023146623,
           0.9335980173949051,
           0.982865798750918,
           0.9830293476197656,
           0.9871323223726475,
           1,
           0.8883128436048705,
           0.9643249499062505,
           0.9604754413935633,
           0.9165372184099708,
           0.9165372184099708,
           0.8785219363776917,
           0.8244066251492633,
           0.9275497435948842,
           0.914741879918441,
           0.8495570162021508,
           0.7423037084114622,
           0.7423037084114622,
           0.8260210571414874,
           0.8023138162959498,
           0.8218170243051764,
           0.8218170243051764,
           0.8218170243051764,
           0.7576044718368475,
           0.5283613907896011,
           0.509440360904119,
           0.6079014602298023,
           0.689563082954938,
           0.4996092108469407,
           0.4996092108469407,
           0.12887415894759435,
           0.08978568009564343,
           0.18350231294219357,
           0.20757009655922973,
           0.19705662073769786,
           0.19705662073769786,
           0.13164841784810902,
           0.13082872682899227,
           0.13082872682899227,
           0.09304161090834545,
           0.14683351969394384,
           0.14683351969394384,
           0.21966673414625354,
           0.29023056653592694,
           0.07069601572820254,
           0.14731817862945532,
           0.16171076638049842,
           0.10247235765745705,
           0.009252052847773383,
           0.009252052847773383,
           0.009252052847773383
          ],
          [
           0.6017362324073491,
           0.6309971135270699,
           0.6309971135270699,
           0.6309971135270699,
           0.7026633314148767,
           0.6758322684795537,
           0.6758322684795537,
           0.6758322684795537,
           0.7502766240118605,
           0.8875463486519887,
           0.9066049840828813,
           0.9075549938488746,
           0.8993819264598456,
           0.8883128436048705,
           1,
           0.8921685893219349,
           0.8827996109833958,
           0.8599528791684432,
           0.8599528791684432,
           0.8599528791684432,
           0.8892327559585307,
           0.9096087381760758,
           0.8884854143132692,
           0.8284904024013465,
           0.8913296215435247,
           0.8913296215435247,
           0.8920077329241802,
           0.885452552221369,
           0.8674004855348063,
           0.8674004855348063,
           0.8674004855348063,
           0.7805415602622953,
           0.6316067518231372,
           0.38784272276988235,
           0.4094492558110527,
           0.4352840517131485,
           0.5095243432946025,
           0.5095243432946025,
           0.20769762889604299,
           0.3527583574307289,
           0.40012353881255097,
           0.35581734748381993,
           0.396760607653404,
           0.396760607653404,
           0.3022780255223634,
           0.303276519466103,
           0.303276519466103,
           0.2527799495977336,
           0.22115140713459422,
           0.22115140713459422,
           0.30239748839548647,
           0.22568434214384916,
           0.2885410879978933,
           0.028102595126064174,
           0.1565292289563218,
           0.027125465526968963,
           0.14451481142703057,
           0.14451481142703057,
           0.14451481142703057
          ],
          [
           0.5279889997534616,
           0.5414697627994691,
           0.5414697627994691,
           0.5414697627994691,
           0.5557458592257114,
           0.5198382114969027,
           0.5198382114969027,
           0.5198382114969027,
           0.8473262959250722,
           0.8998493294415266,
           0.9325233091057196,
           0.9317862209063567,
           0.9496205491234653,
           0.9643249499062505,
           0.8921685893219349,
           1,
           0.9945664108211634,
           0.9659141216493848,
           0.9659141216493848,
           0.9339895804757258,
           0.8429276810883655,
           0.9760972365269428,
           0.9679922351513445,
           0.9031806961978444,
           0.7924178872104114,
           0.7924178872104114,
           0.8921330847645287,
           0.869077924554275,
           0.8831837393324978,
           0.8831837393324978,
           0.8831837393324978,
           0.8213414462604488,
           0.5004838421022587,
           0.47780787190442164,
           0.5796949441049155,
           0.5931162979397152,
           0.6069198352871196,
           0.6069198352871196,
           0.36899591317068625,
           0.24215719204179612,
           0.3299865241487806,
           0.36551526395725753,
           0.3519938791478395,
           0.3519938791478395,
           0.2811360723495725,
           0.28864286116568166,
           0.28864286116568166,
           0.24616176712738888,
           0.2894021020016203,
           0.2894021020016203,
           0.36134342647944884,
           0.3754041558597524,
           0.07065149801168676,
           0.1434236187881006,
           0.16834118079580038,
           0.10635687685777186,
           0.009246226773112405,
           0.009246226773112405,
           0.009246226773112405
          ],
          [
           0.49336422635084765,
           0.5121865945859027,
           0.5121865945859027,
           0.5121865945859027,
           0.5503428068101325,
           0.5142488731500773,
           0.5142488731500773,
           0.5142488731500773,
           0.8668998581043015,
           0.8931948188122025,
           0.9231458886038472,
           0.9227575148834106,
           0.9515375771031095,
           0.9604754413935633,
           0.8827996109833958,
           0.9945664108211634,
           1,
           0.9607430018827922,
           0.9607430018827922,
           0.9434035341761469,
           0.8271692299509674,
           0.9655231951359453,
           0.9677987939341502,
           0.8972112472451945,
           0.77229680721318,
           0.77229680721318,
           0.8879131833942812,
           0.870871748669025,
           0.8897446393609187,
           0.8897446393609187,
           0.8897446393609187,
           0.8218203154322615,
           0.4959720226213032,
           0.5084905941114488,
           0.5765231352525927,
           0.6234301309764959,
           0.6092904192156354,
           0.6092904192156354,
           0.3689674762967987,
           0.23148523622164366,
           0.2995975669808757,
           0.3384198355900108,
           0.3519667525450961,
           0.3519667525450961,
           0.28439778336292904,
           0.297221855459598,
           0.297221855459598,
           0.25690393988071347,
           0.2592493844104783,
           0.2592493844104783,
           0.3227585101827089,
           0.39097161120424184,
           0.032329549776339235,
           0.14341256576768927,
           0.1683282074897081,
           0.048680589155235106,
           0.06082049075986057,
           0.06082049075986057,
           0.06082049075986057
          ],
          [
           0.43661747401009854,
           0.45196685387218416,
           0.45196685387218416,
           0.45196685387218416,
           0.4805203114539255,
           0.4508426060373453,
           0.4508426060373453,
           0.4508426060373453,
           0.7754596553712353,
           0.8622890092191344,
           0.8848424454059953,
           0.8831989743501031,
           0.9101327349548252,
           0.9165372184099708,
           0.8599528791684432,
           0.9659141216493848,
           0.9607430018827922,
           1,
           1,
           0.9760283253301674,
           0.8382910208790105,
           0.9251987061844641,
           0.9334621881353824,
           0.8316310449539354,
           0.7578875210375914,
           0.7578875210375914,
           0.8551807602707848,
           0.845339700112379,
           0.842304428454472,
           0.842304428454472,
           0.842304428454472,
           0.8263320135583585,
           0.4351340061570871,
           0.4747838181899877,
           0.5419618920492933,
           0.5749304628997906,
           0.6155343753589658,
           0.6155343753589658,
           0.42068181986964187,
           0.21281585591786312,
           0.296625103341575,
           0.3319757415135821,
           0.33871320971616287,
           0.33871320971616287,
           0.2643998272925442,
           0.26218658717231996,
           0.26218658717231996,
           0.2169939544121075,
           0.2531960368054884,
           0.2531960368054884,
           0.3360560907122722,
           0.4053797134683844,
           0.010776516592113079,
           0.12202913001314478,
           0.14140130406290205,
           0.050654960325029176,
           0.03923096569144663,
           0.03923096569144663,
           0.03923096569144663
          ],
          [
           0.43661747401009854,
           0.45196685387218416,
           0.45196685387218416,
           0.45196685387218416,
           0.4805203114539255,
           0.4508426060373453,
           0.4508426060373453,
           0.4508426060373453,
           0.7754596553712353,
           0.8622890092191344,
           0.8848424454059953,
           0.8831989743501031,
           0.9101327349548252,
           0.9165372184099708,
           0.8599528791684432,
           0.9659141216493848,
           0.9607430018827922,
           1,
           1,
           0.9760283253301674,
           0.8382910208790105,
           0.9251987061844641,
           0.9334621881353824,
           0.8316310449539354,
           0.7578875210375914,
           0.7578875210375914,
           0.8551807602707848,
           0.845339700112379,
           0.842304428454472,
           0.842304428454472,
           0.842304428454472,
           0.8263320135583585,
           0.4351340061570871,
           0.4747838181899877,
           0.5419618920492933,
           0.5749304628997906,
           0.6155343753589658,
           0.6155343753589658,
           0.42068181986964187,
           0.21281585591786312,
           0.296625103341575,
           0.3319757415135821,
           0.33871320971616287,
           0.33871320971616287,
           0.2643998272925442,
           0.26218658717231996,
           0.26218658717231996,
           0.2169939544121075,
           0.2531960368054884,
           0.2531960368054884,
           0.3360560907122722,
           0.4053797134683844,
           0.010776516592113079,
           0.12202913001314478,
           0.14140130406290205,
           0.050654960325029176,
           0.03923096569144663,
           0.03923096569144663,
           0.03923096569144663
          ],
          [
           0.3479878613721205,
           0.3797839839062706,
           0.3797839839062706,
           0.3797839839062706,
           0.4805203114539255,
           0.4508426060373453,
           0.4508426060373453,
           0.4508426060373453,
           0.7509978590159596,
           0.8289770328067988,
           0.8387664042375226,
           0.8371229331816303,
           0.8940983751463283,
           0.8785219363776917,
           0.8599528791684432,
           0.9339895804757258,
           0.9434035341761469,
           0.9760283253301674,
           0.9760283253301674,
           1,
           0.8382910208790105,
           0.894588488850099,
           0.932637450787738,
           0.8116066186932042,
           0.7821096043361802,
           0.7821096043361802,
           0.886067584640692,
           0.8903110008570618,
           0.8801422548327791,
           0.8801422548327791,
           0.8801422548327791,
           0.8683691454422823,
           0.48384624051100017,
           0.5176914565102566,
           0.4821325254555721,
           0.5619802331948656,
           0.655156806861353,
           0.655156806861353,
           0.42068181986964187,
           0.2826606627090752,
           0.296625103341575,
           0.3173802719293993,
           0.40238224170089926,
           0.40238224170089926,
           0.3060136984021262,
           0.32404382893435657,
           0.32404382893435657,
           0.2761371860402861,
           0.18703381001096617,
           0.18703381001096617,
           0.26222079327945197,
           0.4504206734175669,
           0.010776516592113079,
           0.09209231995678248,
           0.14140130406290205,
           0.12243157889358453,
           0.2495289320985898,
           0.2495289320985898,
           0.2495289320985898
          ],
          [
           0.29765969900220574,
           0.3180419581146699,
           0.3180419581146699,
           0.3180419581146699,
           0.3770423990824852,
           0.35757339373821195,
           0.35757339373821195,
           0.35757339373821195,
           0.6024187896136562,
           0.8176617244220107,
           0.8288671680658172,
           0.8243078803150283,
           0.8338224648844667,
           0.8244066251492633,
           0.8892327559585307,
           0.8429276810883655,
           0.8271692299509674,
           0.8382910208790105,
           0.8382910208790105,
           0.8382910208790105,
           1,
           0.8274967018516838,
           0.8761335351407161,
           0.7908236073405892,
           0.8483613735041695,
           0.8483613735041695,
           0.8495495671421616,
           0.8606274331889737,
           0.854798883679441,
           0.854798883679441,
           0.854798883679441,
           0.827189261271187,
           0.6625518655138233,
           0.6079747537345052,
           0.6149231427585992,
           0.5139952474258347,
           0.6864130934438853,
           0.6864130934438853,
           0.19747401721543353,
           0.2937108406717541,
           0.39674296939102033,
           0.32096926354590577,
           0.3606711427889107,
           0.3606711427889107,
           0.3316773817786563,
           0.31863493886110267,
           0.31863493886110267,
           0.27822946504797547,
           0.2565012227455928,
           0.2565012227455928,
           0.30933006238781113,
           0.4031957776141031,
           0.2743380754104577,
           0.00883349792229151,
           0.09937309152607308,
           0.05479769030824186,
           0.13740128142681102,
           0.13740128142681102,
           0.13740128142681102
          ],
          [
           0.5933049918718245,
           0.6068934976447125,
           0.6068934976447125,
           0.6068934976447125,
           0.6167175774889707,
           0.5879161086266498,
           0.5879161086266498,
           0.5879161086266498,
           0.7882538698360319,
           0.8673180878874643,
           0.895830262553189,
           0.8965149516300388,
           0.90231636048332,
           0.9275497435948842,
           0.9096087381760758,
           0.9760972365269428,
           0.9655231951359453,
           0.9251987061844641,
           0.9251987061844641,
           0.894588488850099,
           0.8274967018516838,
           1,
           0.9707652748595985,
           0.950329412573049,
           0.8499683775218991,
           0.8499683775218991,
           0.9343464291973597,
           0.9067427533099055,
           0.9172920114689589,
           0.9172920114689589,
           0.9172920114689589,
           0.8538023501878916,
           0.5555317282097276,
           0.36861658673305864,
           0.47239115964227163,
           0.4667399988863917,
           0.6314948771183951,
           0.6314948771183951,
           0.4029064042356334,
           0.392327109743909,
           0.4747465087562953,
           0.5190790252931492,
           0.4924261125462147,
           0.4924261125462147,
           0.4105603415510597,
           0.4102165391418768,
           0.4102165391418768,
           0.3615155868432161,
           0.4153817017574534,
           0.4153817017574534,
           0.4915499890881038,
           0.41359432388146833,
           0.24234357885942195,
           0.16332010680040765,
           0.15331192355469583,
           0.11280697408282885,
           0.027794301090376217,
           0.027794301090376217,
           0.027794301090376217
          ],
          [
           0.42063447276628707,
           0.44209860904856085,
           0.44209860904856085,
           0.44209860904856085,
           0.4962208480456557,
           0.4510272339373128,
           0.4510272339373128,
           0.4510272339373128,
           0.77110814454745,
           0.8384762418923409,
           0.8677621676021727,
           0.8660577861251426,
           0.9026495946683026,
           0.914741879918441,
           0.8884854143132692,
           0.9679922351513445,
           0.9677987939341502,
           0.9334621881353824,
           0.9334621881353824,
           0.932637450787738,
           0.8761335351407161,
           0.9707652748595985,
           1,
           0.9570574809010548,
           0.8633877368205923,
           0.8633877368205923,
           0.9548593095345775,
           0.9441565899064936,
           0.9673208491751655,
           0.9673208491751655,
           0.9673208491751655,
           0.917795693487848,
           0.5826433270724988,
           0.5084233767349736,
           0.5618608923319948,
           0.5502375551816802,
           0.749991883473187,
           0.749991883473187,
           0.3788878640415018,
           0.3916133844960866,
           0.45990097336569286,
           0.4847006031001691,
           0.5108769353549817,
           0.5108769353549817,
           0.43915888682249604,
           0.45228430670266484,
           0.45228430670266484,
           0.40472268745385725,
           0.37639045312913233,
           0.37639045312913233,
           0.43699525707284786,
           0.5300316829381366,
           0.2241943033512761,
           0.15190413942129366,
           0.19013583195927714,
           0.019112995433260293,
           0.11228694567083876,
           0.11228694567083876,
           0.11228694567083876
          ],
          [
           0.4550100142278063,
           0.4665129737787905,
           0.4665129737787905,
           0.4665129737787905,
           0.4783594713337454,
           0.4341774343639014,
           0.4341774343639014,
           0.4341774343639014,
           0.7187689547462708,
           0.7731492734537244,
           0.7967428900858272,
           0.7984090894982095,
           0.8106614245523744,
           0.8495570162021508,
           0.8284904024013465,
           0.9031806961978444,
           0.8972112472451945,
           0.8316310449539354,
           0.8316310449539354,
           0.8116066186932042,
           0.7908236073405892,
           0.950329412573049,
           0.9570574809010548,
           1,
           0.828054646533783,
           0.828054646533783,
           0.9180508006781581,
           0.8993441180432551,
           0.9425151068342682,
           0.9425151068342682,
           0.9425151068342682,
           0.884686173861116,
           0.5531551830953825,
           0.3966034379569661,
           0.5057835518529885,
           0.4641818787186441,
           0.7550847668365992,
           0.7550847668365992,
           0.3689674762967987,
           0.483818650812909,
           0.5982635786290318,
           0.6023966083928373,
           0.5782975654677827,
           0.5782975654677827,
           0.5261649396936174,
           0.5316267029033299,
           0.5316267029033299,
           0.48403721364704894,
           0.5132625031782461,
           0.5132625031782461,
           0.5668856219207159,
           0.5615755172191534,
           0.4037202419600881,
           0.14673887799617397,
           0.18515752213146186,
           0.11622053625527401,
           0.009245514207538377,
           0.009245514207538377,
           0.009245514207538377
          ],
          [
           0.4614873089191161,
           0.4907249630425602,
           0.4907249630425602,
           0.4907249630425602,
           0.5727803201229653,
           0.5452455775741811,
           0.5452455775741811,
           0.5452455775741811,
           0.5425396120324798,
           0.674247486412046,
           0.73347908241674,
           0.7316248018231881,
           0.7553210927923869,
           0.7423037084114622,
           0.8913296215435247,
           0.7924178872104114,
           0.77229680721318,
           0.7578875210375914,
           0.7578875210375914,
           0.7821096043361802,
           0.8483613735041695,
           0.8499683775218991,
           0.8633877368205923,
           0.828054646533783,
           1,
           1,
           0.9430316922827354,
           0.9301732362375251,
           0.9095640778322409,
           0.9095640778322409,
           0.9095640778322409,
           0.8620461892161981,
           0.7419637484475607,
           0.31876325095834873,
           0.31185016883698113,
           0.24428437218681684,
           0.6343711714226183,
           0.6343711714226183,
           0.22690219333010678,
           0.5046768191683986,
           0.5498979889412272,
           0.5518534863805682,
           0.5999220957415762,
           0.5999220957415762,
           0.5068794793646285,
           0.5183142549855795,
           0.5183142549855795,
           0.46337850291061167,
           0.39507460180461756,
           0.39507460180461756,
           0.45975087700604844,
           0.39095774547380985,
           0.4618049086060528,
           0.15292002904875368,
           0.1447706831202169,
           0.06871389887614308,
           0.18666396910265876,
           0.18666396910265876,
           0.18666396910265876
          ],
          [
           0.4614873089191161,
           0.4907249630425602,
           0.4907249630425602,
           0.4907249630425602,
           0.5727803201229653,
           0.5452455775741811,
           0.5452455775741811,
           0.5452455775741811,
           0.5425396120324798,
           0.674247486412046,
           0.73347908241674,
           0.7316248018231881,
           0.7553210927923869,
           0.7423037084114622,
           0.8913296215435247,
           0.7924178872104114,
           0.77229680721318,
           0.7578875210375914,
           0.7578875210375914,
           0.7821096043361802,
           0.8483613735041695,
           0.8499683775218991,
           0.8633877368205923,
           0.828054646533783,
           1,
           1,
           0.9430316922827354,
           0.9301732362375251,
           0.9095640778322409,
           0.9095640778322409,
           0.9095640778322409,
           0.8620461892161981,
           0.7419637484475607,
           0.31876325095834873,
           0.31185016883698113,
           0.24428437218681684,
           0.6343711714226183,
           0.6343711714226183,
           0.22690219333010678,
           0.5046768191683986,
           0.5498979889412272,
           0.5518534863805682,
           0.5999220957415762,
           0.5999220957415762,
           0.5068794793646285,
           0.5183142549855795,
           0.5183142549855795,
           0.46337850291061167,
           0.39507460180461756,
           0.39507460180461756,
           0.45975087700604844,
           0.39095774547380985,
           0.4618049086060528,
           0.15292002904875368,
           0.1447706831202169,
           0.06871389887614308,
           0.18666396910265876,
           0.18666396910265876,
           0.18666396910265876
          ],
          [
           0.4421472504057532,
           0.4745644051593947,
           0.4745644051593947,
           0.4745644051593947,
           0.5707391022701177,
           0.5420136741427991,
           0.5420136741427991,
           0.5420136741427991,
           0.6527413609383187,
           0.755050295281412,
           0.7890468642932883,
           0.787169750602508,
           0.8358872810365999,
           0.8260210571414874,
           0.8920077329241802,
           0.8921330847645287,
           0.8879131833942812,
           0.8551807602707848,
           0.8551807602707848,
           0.886067584640692,
           0.8495495671421616,
           0.9343464291973597,
           0.9548593095345775,
           0.9180508006781581,
           0.9430316922827354,
           0.9430316922827354,
           1,
           0.9893722744945731,
           0.9780379464301426,
           0.9780379464301426,
           0.9780379464301426,
           0.9366758857340857,
           0.700740021185754,
           0.40465085108306703,
           0.380696559233901,
           0.36601212646184306,
           0.7274671372699417,
           0.7274671372699417,
           0.36904298882512654,
           0.5423502616246093,
           0.5597666108244839,
           0.5788824874502317,
           0.6433876034377921,
           0.6433876034377921,
           0.5353878207602022,
           0.559693571708316,
           0.559693571708316,
           0.5030321942585655,
           0.4043465323703719,
           0.4043465323703719,
           0.471056112393148,
           0.5020822289111014,
           0.3660773395932965,
           0.15294761069767612,
           0.14816334668283254,
           0.10073410795294416,
           0.2279860568896788,
           0.2279860568896788,
           0.2279860568896788
          ],
          [
           0.36728080937031155,
           0.404329916901618,
           0.404329916901618,
           0.404329916901618,
           0.5245634816554258,
           0.5120233819623299,
           0.5120233819623299,
           0.5120233819623299,
           0.6277762428378981,
           0.7338164089596924,
           0.7632178830112404,
           0.7607627518844028,
           0.8198513116128114,
           0.8023138162959498,
           0.885452552221369,
           0.869077924554275,
           0.870871748669025,
           0.845339700112379,
           0.845339700112379,
           0.8903110008570618,
           0.8606274331889737,
           0.9067427533099055,
           0.9441565899064936,
           0.8993441180432551,
           0.9301732362375251,
           0.9301732362375251,
           0.9893722744945731,
           1,
           0.9825060848666559,
           0.9825060848666559,
           0.9825060848666559,
           0.9499203939031047,
           0.7204128595236129,
           0.45782915351645403,
           0.3784698674466485,
           0.38037633920395536,
           0.765655905844999,
           0.765655905844999,
           0.3620722304870863,
           0.5426756651329214,
           0.5598550770630601,
           0.5674545675299806,
           0.6597802184657194,
           0.6597802184657194,
           0.5570809492477716,
           0.5759785652775978,
           0.5759785652775978,
           0.5174258796200045,
           0.39014449037092336,
           0.39014449037092336,
           0.45687630144593777,
           0.5224160950327029,
           0.3660024338876923,
           0.13913587861678037,
           0.09413897877731019,
           0.19359120647157924,
           0.3023033267102683,
           0.3023033267102683,
           0.3023033267102683
          ],
          [
           0.3423274031030006,
           0.37547515158017053,
           0.37547515158017053,
           0.37547515158017053,
           0.4820222907622677,
           0.4446285722014271,
           0.4446285722014271,
           0.4446285722014271,
           0.6679088938252378,
           0.7419084152296544,
           0.7729020013784415,
           0.7711747634416707,
           0.8243227354897031,
           0.8218170243051764,
           0.8674004855348063,
           0.8831837393324978,
           0.8897446393609187,
           0.842304428454472,
           0.842304428454472,
           0.8801422548327791,
           0.854798883679441,
           0.9172920114689589,
           0.9673208491751655,
           0.9425151068342682,
           0.9095640778322409,
           0.9095640778322409,
           0.9780379464301426,
           0.9825060848666559,
           1,
           1,
           1,
           0.9493115276478866,
           0.6861602544913641,
           0.4932918684416809,
           0.4612076069236282,
           0.4482302032799032,
           0.7981106791025532,
           0.7981106791025532,
           0.3413864930579491,
           0.5166125880525327,
           0.5473804755604211,
           0.5620220724482803,
           0.6409622864876635,
           0.6409622864876635,
           0.5627233690787579,
           0.5821709211356351,
           0.5821709211356351,
           0.5305164810775265,
           0.41366269848365106,
           0.41366269848365106,
           0.4630177790924802,
           0.5816133934624684,
           0.3660024338876923,
           0.15624262722041596,
           0.16496234456135733,
           0.12243157889358453,
           0.26632078492957845,
           0.26632078492957845,
           0.26632078492957845
          ],
          [
           0.3423274031030006,
           0.37547515158017053,
           0.37547515158017053,
           0.37547515158017053,
           0.4820222907622677,
           0.4446285722014271,
           0.4446285722014271,
           0.4446285722014271,
           0.6679088938252378,
           0.7419084152296544,
           0.7729020013784415,
           0.7711747634416707,
           0.8243227354897031,
           0.8218170243051764,
           0.8674004855348063,
           0.8831837393324978,
           0.8897446393609187,
           0.842304428454472,
           0.842304428454472,
           0.8801422548327791,
           0.854798883679441,
           0.9172920114689589,
           0.9673208491751655,
           0.9425151068342682,
           0.9095640778322409,
           0.9095640778322409,
           0.9780379464301426,
           0.9825060848666559,
           1,
           1,
           1,
           0.9493115276478866,
           0.6861602544913641,
           0.4932918684416809,
           0.4612076069236282,
           0.4482302032799032,
           0.7981106791025532,
           0.7981106791025532,
           0.3413864930579491,
           0.5166125880525327,
           0.5473804755604211,
           0.5620220724482803,
           0.6409622864876635,
           0.6409622864876635,
           0.5627233690787579,
           0.5821709211356351,
           0.5821709211356351,
           0.5305164810775265,
           0.41366269848365106,
           0.41366269848365106,
           0.4630177790924802,
           0.5816133934624684,
           0.3660024338876923,
           0.15624262722041596,
           0.16496234456135733,
           0.12243157889358453,
           0.26632078492957845,
           0.26632078492957845,
           0.26632078492957845
          ],
          [
           0.3423274031030006,
           0.37547515158017053,
           0.37547515158017053,
           0.37547515158017053,
           0.4820222907622677,
           0.4446285722014271,
           0.4446285722014271,
           0.4446285722014271,
           0.6679088938252378,
           0.7419084152296544,
           0.7729020013784415,
           0.7711747634416707,
           0.8243227354897031,
           0.8218170243051764,
           0.8674004855348063,
           0.8831837393324978,
           0.8897446393609187,
           0.842304428454472,
           0.842304428454472,
           0.8801422548327791,
           0.854798883679441,
           0.9172920114689589,
           0.9673208491751655,
           0.9425151068342682,
           0.9095640778322409,
           0.9095640778322409,
           0.9780379464301426,
           0.9825060848666559,
           1,
           1,
           1,
           0.9493115276478866,
           0.6861602544913641,
           0.4932918684416809,
           0.4612076069236282,
           0.4482302032799032,
           0.7981106791025532,
           0.7981106791025532,
           0.3413864930579491,
           0.5166125880525327,
           0.5473804755604211,
           0.5620220724482803,
           0.6409622864876635,
           0.6409622864876635,
           0.5627233690787579,
           0.5821709211356351,
           0.5821709211356351,
           0.5305164810775265,
           0.41366269848365106,
           0.41366269848365106,
           0.4630177790924802,
           0.5816133934624684,
           0.3660024338876923,
           0.15624262722041596,
           0.16496234456135733,
           0.12243157889358453,
           0.26632078492957845,
           0.26632078492957845,
           0.26632078492957845
          ],
          [
           0.2332253609298242,
           0.26470626945084197,
           0.26470626945084197,
           0.26470626945084197,
           0.3727630673212234,
           0.35042959974549853,
           0.35042959974549853,
           0.35042959974549853,
           0.5662828643789316,
           0.6674329181501311,
           0.6844467825125898,
           0.6821337621920537,
           0.7501466577260204,
           0.7576044718368475,
           0.7805415602622953,
           0.8213414462604488,
           0.8218203154322615,
           0.8263320135583585,
           0.8263320135583585,
           0.8683691454422823,
           0.827189261271187,
           0.8538023501878916,
           0.917795693487848,
           0.884686173861116,
           0.8620461892161981,
           0.8620461892161981,
           0.9366758857340857,
           0.9499203939031047,
           0.9493115276478866,
           0.9493115276478866,
           0.9493115276478866,
           1,
           0.6558008609071226,
           0.4362578193160846,
           0.37197398103535456,
           0.3929604550589789,
           0.832469187099956,
           0.832469187099956,
           0.3620722304870863,
           0.5144767801445131,
           0.5615995589005325,
           0.5739414429007285,
           0.6580095848995158,
           0.6580095848995158,
           0.5808787947316739,
           0.5854399278646069,
           0.5854399278646069,
           0.5292631373004855,
           0.4262898643769414,
           0.4262898643769414,
           0.48719383082488765,
           0.693982104206276,
           0.3660024338876923,
           0.15244112753071917,
           0.1076024304907132,
           0.16792438126425627,
           0.2807138016418544,
           0.2807138016418544,
           0.2807138016418544
          ],
          [
           0.26040609170675166,
           0.2945586939727216,
           0.2945586939727216,
           0.2945586939727216,
           0.41123383845311196,
           0.4689182188791279,
           0.4689182188791279,
           0.4689182188791279,
           0.38281149531709163,
           0.45510569330901524,
           0.5403798667916934,
           0.535626242747437,
           0.5688937281642181,
           0.5283613907896011,
           0.6316067518231372,
           0.5004838421022587,
           0.4959720226213032,
           0.4351340061570871,
           0.4351340061570871,
           0.48384624051100017,
           0.6625518655138233,
           0.5555317282097276,
           0.5826433270724988,
           0.5531551830953825,
           0.7419637484475607,
           0.7419637484475607,
           0.700740021185754,
           0.7204128595236129,
           0.6861602544913641,
           0.6861602544913641,
           0.6861602544913641,
           0.6558008609071226,
           1,
           0.36791647390807203,
           0.1903134047551694,
           0.17011359674014814,
           0.4380010561377879,
           0.4380010561377879,
           0.12346799528016295,
           0.2795163971840181,
           0.32075635786241524,
           0.3206007044884499,
           0.41577461939072324,
           0.41577461939072324,
           0.3697672287742803,
           0.35567273024785656,
           0.35567273024785656,
           0.314807555459286,
           0.20941656713930587,
           0.20941656713930587,
           0.24858907739580957,
           0.23291875906096188,
           0.45221456662459697,
           0.17097343851799107,
           0.13095310455614656,
           0.3256272784515578,
           0.3023033267102683,
           0.3023033267102683,
           0.3023033267102683
          ],
          [
           0.3240578671822735,
           0.3052003936603368,
           0.3052003936603368,
           0.3052003936603368,
           0.2058129132953055,
           0.15234708112618522,
           0.15234708112618522,
           0.15234708112618522,
           0.440229486861374,
           0.4769140846381047,
           0.5075435113592426,
           0.4977940800038817,
           0.5584181287340826,
           0.509440360904119,
           0.38784272276988235,
           0.47780787190442164,
           0.5084905941114488,
           0.4747838181899877,
           0.4747838181899877,
           0.5176914565102566,
           0.6079747537345052,
           0.36861658673305864,
           0.5084233767349736,
           0.3966034379569661,
           0.31876325095834873,
           0.31876325095834873,
           0.40465085108306703,
           0.45782915351645403,
           0.4932918684416809,
           0.4932918684416809,
           0.4932918684416809,
           0.4362578193160846,
           0.36791647390807203,
           1,
           0.810119933017295,
           0.8113983053453189,
           0.5146488688536062,
           0.5146488688536062,
           0.0888032897688051,
           0.12244472953429412,
           0.09791915745991167,
           0.147503768091455,
           0.02860013654253826,
           0.02860013654253826,
           0.0062384242004848165,
           0.024916734942878726,
           0.024916734942878726,
           0.023623570696024557,
           0.12943627313211625,
           0.12943627313211625,
           0.15027459812342106,
           0.2809051240368001,
           0.12336875478009551,
           0.0025196614990341416,
           0.18416029395386566,
           0.36184205899293154,
           0.30838329280788246,
           0.30838329280788246,
           0.30838329280788246
          ],
          [
           0.0642476147079002,
           0.08084861553688859,
           0.08084861553688859,
           0.08084861553688859,
           0.1422208584048713,
           0.2118433539699705,
           0.2118433539699705,
           0.2118433539699705,
           0.5194659081045865,
           0.5771677222617357,
           0.6120513274910192,
           0.6046818991547849,
           0.5968332715970164,
           0.6079014602298023,
           0.4094492558110527,
           0.5796949441049155,
           0.5765231352525927,
           0.5419618920492933,
           0.5419618920492933,
           0.4821325254555721,
           0.6149231427585992,
           0.47239115964227163,
           0.5618608923319948,
           0.5057835518529885,
           0.31185016883698113,
           0.31185016883698113,
           0.380696559233901,
           0.3784698674466485,
           0.4612076069236282,
           0.4612076069236282,
           0.4612076069236282,
           0.37197398103535456,
           0.1903134047551694,
           0.810119933017295,
           1,
           0.7907167814506373,
           0.4902450730260483,
           0.4902450730260483,
           0.046643453236680725,
           0.2043089913516891,
           0.026031262177369317,
           0.06528594413889878,
           0.12434345116681118,
           0.12434345116681118,
           0.03352690504998449,
           0.05611722457511864,
           0.05611722457511864,
           0.05023242775325164,
           0.06689035404149052,
           0.06689035404149052,
           0.05448560683570541,
           0.2610071485398317,
           0.06479877895778484,
           0.023678729417292703,
           0.19593214862815864,
           0.2513871409343639,
           0.16579220723134844,
           0.16579220723134844,
           0.16579220723134844
          ],
          [
           0.06623107250050131,
           0.05905953160727838,
           0.05905953160727838,
           0.05905953160727838,
           0.025522891709019016,
           0.023846493643268973,
           0.023846493643268973,
           0.023846493643268973,
           0.7217955665919372,
           0.6284270481365569,
           0.6741123363591098,
           0.6704921346777297,
           0.6983001256258313,
           0.689563082954938,
           0.4352840517131485,
           0.5931162979397152,
           0.6234301309764959,
           0.5749304628997906,
           0.5749304628997906,
           0.5619802331948656,
           0.5139952474258347,
           0.4667399988863917,
           0.5502375551816802,
           0.4641818787186441,
           0.24428437218681684,
           0.24428437218681684,
           0.36601212646184306,
           0.38037633920395536,
           0.4482302032799032,
           0.4482302032799032,
           0.4482302032799032,
           0.3929604550589789,
           0.17011359674014814,
           0.8113983053453189,
           0.7907167814506373,
           1,
           0.3263475836253803,
           0.3263475836253803,
           0.1732591329811807,
           0.30699987072418317,
           0.24375641935172876,
           0.2510334069482603,
           0.20581991645726191,
           0.20581991645726191,
           0.14793507253899577,
           0.12493090518951355,
           0.12493090518951355,
           0.11270500753576096,
           0.16948377585448873,
           0.16948377585448873,
           0.201958521764898,
           0.2607273583442675,
           0.24069787893911776,
           0.07046810544769051,
           0.007814009014234924,
           0.08692239218789506,
           0.10004060154768024,
           0.10004060154768024,
           0.10004060154768024
          ],
          [
           0.08206880266004143,
           0.06429210103699219,
           0.06429210103699219,
           0.06429210103699219,
           0.012701837109633565,
           0.032922979963184475,
           0.032922979963184475,
           0.032922979963184475,
           0.31262684849409783,
           0.41555766422343093,
           0.41495698024508815,
           0.4096276234968113,
           0.48276568920417623,
           0.4996092108469407,
           0.5095243432946025,
           0.6069198352871196,
           0.6092904192156354,
           0.6155343753589658,
           0.6155343753589658,
           0.655156806861353,
           0.6864130934438853,
           0.6314948771183951,
           0.749991883473187,
           0.7550847668365992,
           0.6343711714226183,
           0.6343711714226183,
           0.7274671372699417,
           0.765655905844999,
           0.7981106791025532,
           0.7981106791025532,
           0.7981106791025532,
           0.832469187099956,
           0.4380010561377879,
           0.5146488688536062,
           0.4902450730260483,
           0.3263475836253803,
           1,
           1,
           0.42070235153374824,
           0.5351243614717508,
           0.5810954521635914,
           0.5941794013022291,
           0.6570873636565862,
           0.6570873636565862,
           0.5866773167457446,
           0.5880558930381578,
           0.5880558930381578,
           0.5353515503627531,
           0.4574946493990836,
           0.4574946493990836,
           0.514497773728353,
           0.7770060285795225,
           0.3564407035114978,
           0.12773761356507995,
           0.13972519164951563,
           0.10170564518211019,
           0.223152625377821,
           0.223152625377821,
           0.223152625377821
          ],
          [
           0.08206880266004143,
           0.06429210103699219,
           0.06429210103699219,
           0.06429210103699219,
           0.012701837109633565,
           0.032922979963184475,
           0.032922979963184475,
           0.032922979963184475,
           0.31262684849409783,
           0.41555766422343093,
           0.41495698024508815,
           0.4096276234968113,
           0.48276568920417623,
           0.4996092108469407,
           0.5095243432946025,
           0.6069198352871196,
           0.6092904192156354,
           0.6155343753589658,
           0.6155343753589658,
           0.655156806861353,
           0.6864130934438853,
           0.6314948771183951,
           0.749991883473187,
           0.7550847668365992,
           0.6343711714226183,
           0.6343711714226183,
           0.7274671372699417,
           0.765655905844999,
           0.7981106791025532,
           0.7981106791025532,
           0.7981106791025532,
           0.832469187099956,
           0.4380010561377879,
           0.5146488688536062,
           0.4902450730260483,
           0.3263475836253803,
           1,
           1,
           0.42070235153374824,
           0.5351243614717508,
           0.5810954521635914,
           0.5941794013022291,
           0.6570873636565862,
           0.6570873636565862,
           0.5866773167457446,
           0.5880558930381578,
           0.5880558930381578,
           0.5353515503627531,
           0.4574946493990836,
           0.4574946493990836,
           0.514497773728353,
           0.7770060285795225,
           0.3564407035114978,
           0.12773761356507995,
           0.13972519164951563,
           0.10170564518211019,
           0.223152625377821,
           0.223152625377821,
           0.223152625377821
          ],
          [
           0.13337781439295146,
           0.13290390751867745,
           0.13290390751867745,
           0.13290390751867745,
           0.1210466470316286,
           0.11476299961714806,
           0.11476299961714806,
           0.11476299961714806,
           0.030242176287585833,
           0.15981346942769725,
           0.0634394787132802,
           0.0634394787132802,
           0.1012020973529666,
           0.12887415894759435,
           0.20769762889604299,
           0.36899591317068625,
           0.3689674762967987,
           0.42068181986964187,
           0.42068181986964187,
           0.42068181986964187,
           0.19747401721543353,
           0.4029064042356334,
           0.3788878640415018,
           0.3689674762967987,
           0.22690219333010678,
           0.22690219333010678,
           0.36904298882512654,
           0.3620722304870863,
           0.3413864930579491,
           0.3413864930579491,
           0.3413864930579491,
           0.3620722304870863,
           0.12346799528016295,
           0.0888032897688051,
           0.046643453236680725,
           0.1732591329811807,
           0.42070235153374824,
           0.42070235153374824,
           1,
           0.5602357539672718,
           0.5391699178094003,
           0.5728312614680579,
           0.547252676326963,
           0.547252676326963,
           0.5011660674086831,
           0.5316798457465768,
           0.5316798457465768,
           0.5083521892229413,
           0.5017898103426928,
           0.5017898103426928,
           0.5239433187803657,
           0.3620722304870863,
           0.09108190948327063,
           0.05873738016700149,
           0.03200388292884867,
           0.05631917738891245,
           0.04561806106964158,
           0.04561806106964158,
           0.04561806106964158
          ],
          [
           0.14181666335871276,
           0.1676359265199184,
           0.1676359265199184,
           0.1676359265199184,
           0.2599561949990696,
           0.2464616198692249,
           0.2464616198692249,
           0.2464616198692249,
           0.06946068101937179,
           0.1330547632380979,
           0.04800031833554973,
           0.04800031833554973,
           0.07948989359814941,
           0.08978568009564343,
           0.3527583574307289,
           0.24215719204179612,
           0.23148523622164366,
           0.21281585591786312,
           0.21281585591786312,
           0.2826606627090752,
           0.2937108406717541,
           0.392327109743909,
           0.3916133844960866,
           0.483818650812909,
           0.5046768191683986,
           0.5046768191683986,
           0.5423502616246093,
           0.5426756651329214,
           0.5166125880525327,
           0.5166125880525327,
           0.5166125880525327,
           0.5144767801445131,
           0.2795163971840181,
           0.12244472953429412,
           0.2043089913516891,
           0.30699987072418317,
           0.5351243614717508,
           0.5351243614717508,
           0.5602357539672718,
           1,
           0.8581658908183206,
           0.7594615198209025,
           0.8254700530283949,
           0.8254700530283949,
           0.6808803142464668,
           0.7825074257273529,
           0.7825074257273529,
           0.7386008123819798,
           0.4955759221581538,
           0.4955759221581538,
           0.5086679720365315,
           0.4376484523929708,
           0.6341210341973098,
           0.1261426584450357,
           0.06873059134967469,
           0.16148497490955277,
           0.24518621041336996,
           0.24518621041336996,
           0.24518621041336996
          ],
          [
           0.21039558997830404,
           0.20964802999719725,
           0.20964802999719725,
           0.20964802999719725,
           0.19094390497420607,
           0.18103182393582357,
           0.18103182393582357,
           0.18103182393582357,
           0.02430016136869525,
           0.23973513513317674,
           0.15383783912102358,
           0.15383783912102358,
           0.1398652627008542,
           0.18350231294219357,
           0.40012353881255097,
           0.3299865241487806,
           0.2995975669808757,
           0.296625103341575,
           0.296625103341575,
           0.296625103341575,
           0.39674296939102033,
           0.4747465087562953,
           0.45990097336569286,
           0.5982635786290318,
           0.5498979889412272,
           0.5498979889412272,
           0.5597666108244839,
           0.5598550770630601,
           0.5473804755604211,
           0.5473804755604211,
           0.5473804755604211,
           0.5615995589005325,
           0.32075635786241524,
           0.09791915745991167,
           0.026031262177369317,
           0.24375641935172876,
           0.5810954521635914,
           0.5810954521635914,
           0.5391699178094003,
           0.8581658908183206,
           1,
           0.7704762219608284,
           0.7185920469117119,
           0.7185920469117119,
           0.7185958410769073,
           0.7526633684009523,
           0.7526633684009523,
           0.7133777812970028,
           0.6991177635829727,
           0.6991177635829727,
           0.7047203878869037,
           0.44896440503987617,
           0.7490344282087421,
           0.24128281161033788,
           0.05048422678882589,
           0.0888401613698896,
           0.07195978518688903,
           0.07195978518688903,
           0.07195978518688903
          ],
          [
           0.27795563904630716,
           0.2769680303597591,
           0.2769680303597591,
           0.2769680303597591,
           0.2522578307585999,
           0.23916288509178954,
           0.23916288509178954,
           0.23916288509178954,
           0.002267565357773273,
           0.1110883554611743,
           0.14491973122263102,
           0.14491973122263102,
           0.15828567174827732,
           0.20757009655922973,
           0.35581734748381993,
           0.36551526395725753,
           0.3384198355900108,
           0.3319757415135821,
           0.3319757415135821,
           0.3173802719293993,
           0.32096926354590577,
           0.5190790252931492,
           0.4847006031001691,
           0.6023966083928373,
           0.5518534863805682,
           0.5518534863805682,
           0.5788824874502317,
           0.5674545675299806,
           0.5620220724482803,
           0.5620220724482803,
           0.5620220724482803,
           0.5739414429007285,
           0.3206007044884499,
           0.147503768091455,
           0.06528594413889878,
           0.2510334069482603,
           0.5941794013022291,
           0.5941794013022291,
           0.5728312614680579,
           0.7594615198209025,
           0.7704762219608284,
           1,
           0.9299057522767564,
           0.9299057522767564,
           0.8693730577950078,
           0.8134500982065702,
           0.8134500982065702,
           0.7686454164029227,
           0.8704550650119405,
           0.8704550650119405,
           0.9146555958513828,
           0.5962786893410716,
           0.6059858343066338,
           0.39079132757997354,
           0.06669519793781711,
           0.11736759230120326,
           0.0950667648467313,
           0.0950667648467313,
           0.0950667648467313
          ],
          [
           0.14156290455989917,
           0.17026895731801991,
           0.17026895731801991,
           0.17026895731801991,
           0.2741153342721595,
           0.25988574465768094,
           0.25988574465768094,
           0.25988574465768094,
           0.016733827900990445,
           0.1000943751452733,
           0.12268674271244172,
           0.12268674271244172,
           0.18953311594681424,
           0.19705662073769786,
           0.396760607653404,
           0.3519938791478395,
           0.3519667525450961,
           0.33871320971616287,
           0.33871320971616287,
           0.40238224170089926,
           0.3606711427889107,
           0.4924261125462147,
           0.5108769353549817,
           0.5782975654677827,
           0.5999220957415762,
           0.5999220957415762,
           0.6433876034377921,
           0.6597802184657194,
           0.6409622864876635,
           0.6409622864876635,
           0.6409622864876635,
           0.6580095848995158,
           0.41577461939072324,
           0.02860013654253826,
           0.12434345116681118,
           0.20581991645726191,
           0.6570873636565862,
           0.6570873636565862,
           0.547252676326963,
           0.8254700530283949,
           0.7185920469117119,
           0.9299057522767564,
           1,
           1,
           0.8999650879435929,
           0.8822114773246416,
           0.8822114773246416,
           0.8331465000406704,
           0.7155359419844377,
           0.7155359419844377,
           0.7481598385002878,
           0.6581018053977556,
           0.5540043915060341,
           0.3572692617303455,
           0.07247416828287823,
           0.18586131978551437,
           0.2774711938731786,
           0.2774711938731786,
           0.2774711938731786
          ],
          [
           0.14156290455989917,
           0.17026895731801991,
           0.17026895731801991,
           0.17026895731801991,
           0.2741153342721595,
           0.25988574465768094,
           0.25988574465768094,
           0.25988574465768094,
           0.016733827900990445,
           0.1000943751452733,
           0.12268674271244172,
           0.12268674271244172,
           0.18953311594681424,
           0.19705662073769786,
           0.396760607653404,
           0.3519938791478395,
           0.3519667525450961,
           0.33871320971616287,
           0.33871320971616287,
           0.40238224170089926,
           0.3606711427889107,
           0.4924261125462147,
           0.5108769353549817,
           0.5782975654677827,
           0.5999220957415762,
           0.5999220957415762,
           0.6433876034377921,
           0.6597802184657194,
           0.6409622864876635,
           0.6409622864876635,
           0.6409622864876635,
           0.6580095848995158,
           0.41577461939072324,
           0.02860013654253826,
           0.12434345116681118,
           0.20581991645726191,
           0.6570873636565862,
           0.6570873636565862,
           0.547252676326963,
           0.8254700530283949,
           0.7185920469117119,
           0.9299057522767564,
           1,
           1,
           0.8999650879435929,
           0.8822114773246416,
           0.8822114773246416,
           0.8331465000406704,
           0.7155359419844377,
           0.7155359419844377,
           0.7481598385002878,
           0.6581018053977556,
           0.5540043915060341,
           0.3572692617303455,
           0.07247416828287823,
           0.18586131978551437,
           0.2774711938731786,
           0.2774711938731786,
           0.2774711938731786
          ],
          [
           0.015948946628449166,
           0.031189254764986914,
           0.031189254764986914,
           0.031189254764986914,
           0.09074726536823846,
           0.07144309145255129,
           0.07144309145255129,
           0.07144309145255129,
           0.06459333325590443,
           0.05764086201638962,
           0.06679782526471446,
           0.06679782526471446,
           0.11330773184211694,
           0.13164841784810902,
           0.3022780255223634,
           0.2811360723495725,
           0.28439778336292904,
           0.2643998272925442,
           0.2643998272925442,
           0.3060136984021262,
           0.3316773817786563,
           0.4105603415510597,
           0.43915888682249604,
           0.5261649396936174,
           0.5068794793646285,
           0.5068794793646285,
           0.5353878207602022,
           0.5570809492477716,
           0.5627233690787579,
           0.5627233690787579,
           0.5627233690787579,
           0.5808787947316739,
           0.3697672287742803,
           0.0062384242004848165,
           0.03352690504998449,
           0.14793507253899577,
           0.5866773167457446,
           0.5866773167457446,
           0.5011660674086831,
           0.6808803142464668,
           0.7185958410769073,
           0.8693730577950078,
           0.8999650879435929,
           0.8999650879435929,
           1,
           0.938510009909378,
           0.938510009909378,
           0.9271110143527715,
           0.8708430492362266,
           0.8708430492362266,
           0.8050734322584021,
           0.7110444700371746,
           0.5672610909234441,
           0.27684041972912604,
           0.06825039344762804,
           0.09594628534030458,
           0.16521529256953368,
           0.16521529256953368,
           0.16521529256953368
          ],
          [
           0.030760473318362958,
           0.008247605219254417,
           0.008247605219254417,
           0.008247605219254417,
           0.08379073969923054,
           0.061424466492146695,
           0.061424466492146695,
           0.061424466492146695,
           0.031019908554216317,
           0.039628892120462056,
           0.05209889591278342,
           0.05209889591278342,
           0.12580417558178694,
           0.13082872682899227,
           0.303276519466103,
           0.28864286116568166,
           0.297221855459598,
           0.26218658717231996,
           0.26218658717231996,
           0.32404382893435657,
           0.31863493886110267,
           0.4102165391418768,
           0.45228430670266484,
           0.5316267029033299,
           0.5183142549855795,
           0.5183142549855795,
           0.559693571708316,
           0.5759785652775978,
           0.5821709211356351,
           0.5821709211356351,
           0.5821709211356351,
           0.5854399278646069,
           0.35567273024785656,
           0.024916734942878726,
           0.05611722457511864,
           0.12493090518951355,
           0.5880558930381578,
           0.5880558930381578,
           0.5316798457465768,
           0.7825074257273529,
           0.7526633684009523,
           0.8134500982065702,
           0.8822114773246416,
           0.8822114773246416,
           0.938510009909378,
           1,
           1,
           0.99377061237255,
           0.759408895802548,
           0.759408895802548,
           0.655352700823648,
           0.6783153867442812,
           0.5200795257029629,
           0.1888282574816113,
           0.07679274807530405,
           0.16934346495383906,
           0.26048004152729864,
           0.26048004152729864,
           0.26048004152729864
          ],
          [
           0.030760473318362958,
           0.008247605219254417,
           0.008247605219254417,
           0.008247605219254417,
           0.08379073969923054,
           0.061424466492146695,
           0.061424466492146695,
           0.061424466492146695,
           0.031019908554216317,
           0.039628892120462056,
           0.05209889591278342,
           0.05209889591278342,
           0.12580417558178694,
           0.13082872682899227,
           0.303276519466103,
           0.28864286116568166,
           0.297221855459598,
           0.26218658717231996,
           0.26218658717231996,
           0.32404382893435657,
           0.31863493886110267,
           0.4102165391418768,
           0.45228430670266484,
           0.5316267029033299,
           0.5183142549855795,
           0.5183142549855795,
           0.559693571708316,
           0.5759785652775978,
           0.5821709211356351,
           0.5821709211356351,
           0.5821709211356351,
           0.5854399278646069,
           0.35567273024785656,
           0.024916734942878726,
           0.05611722457511864,
           0.12493090518951355,
           0.5880558930381578,
           0.5880558930381578,
           0.5316798457465768,
           0.7825074257273529,
           0.7526633684009523,
           0.8134500982065702,
           0.8822114773246416,
           0.8822114773246416,
           0.938510009909378,
           1,
           1,
           0.99377061237255,
           0.759408895802548,
           0.759408895802548,
           0.655352700823648,
           0.6783153867442812,
           0.5200795257029629,
           0.1888282574816113,
           0.07679274807530405,
           0.16934346495383906,
           0.26048004152729864,
           0.26048004152729864,
           0.26048004152729864
          ],
          [
           0.0738265763232332,
           0.053906014758734334,
           0.053906014758734334,
           0.053906014758734334,
           0.03101765040189288,
           0.0068666268102511255,
           0.0068666268102511255,
           0.0068666268102511255,
           0.059775628028730356,
           0.005798910417488819,
           0.016867516378298943,
           0.016867516378298943,
           0.08784008228187053,
           0.09304161090834545,
           0.2527799495977336,
           0.24616176712738888,
           0.25690393988071347,
           0.2169939544121075,
           0.2169939544121075,
           0.2761371860402861,
           0.27822946504797547,
           0.3615155868432161,
           0.40472268745385725,
           0.48403721364704894,
           0.46337850291061167,
           0.46337850291061167,
           0.5030321942585655,
           0.5174258796200045,
           0.5305164810775265,
           0.5305164810775265,
           0.5305164810775265,
           0.5292631373004855,
           0.314807555459286,
           0.023623570696024557,
           0.05023242775325164,
           0.11270500753576096,
           0.5353515503627531,
           0.5353515503627531,
           0.5083521892229413,
           0.7386008123819798,
           0.7133777812970028,
           0.7686454164029227,
           0.8331465000406704,
           0.8331465000406704,
           0.9271110143527715,
           0.99377061237255,
           0.99377061237255,
           1,
           0.7559050919202119,
           0.7559050919202119,
           0.6214472365327534,
           0.6649506042133736,
           0.48833249229326403,
           0.17478558723346646,
           0.07656063198719738,
           0.1563927428488065,
           0.24457964904453455,
           0.24457964904453455,
           0.24457964904453455
          ],
          [
           0.18263466931958228,
           0.1573490541545511,
           0.1573490541545511,
           0.1573490541545511,
           0.042907596804799664,
           0.02718347321357576,
           0.02718347321357576,
           0.02718347321357576,
           0.06648817897351754,
           0.07008687042468176,
           0.09947168590131894,
           0.09947168590131894,
           0.07674988453268378,
           0.14683351969394384,
           0.22115140713459422,
           0.2894021020016203,
           0.2592493844104783,
           0.2531960368054884,
           0.2531960368054884,
           0.18703381001096617,
           0.2565012227455928,
           0.4153817017574534,
           0.37639045312913233,
           0.5132625031782461,
           0.39507460180461756,
           0.39507460180461756,
           0.4043465323703719,
           0.39014449037092336,
           0.41366269848365106,
           0.41366269848365106,
           0.41366269848365106,
           0.4262898643769414,
           0.20941656713930587,
           0.12943627313211625,
           0.06689035404149052,
           0.16948377585448873,
           0.4574946493990836,
           0.4574946493990836,
           0.5017898103426928,
           0.4955759221581538,
           0.6991177635829727,
           0.8704550650119405,
           0.7155359419844377,
           0.7155359419844377,
           0.8708430492362266,
           0.759408895802548,
           0.759408895802548,
           0.7559050919202119,
           1,
           1,
           0.9529966155108327,
           0.5762925878546614,
           0.5422586091990824,
           0.31443463479367495,
           0.052276114404611704,
           0.30831299759821956,
           0.33733944792607834,
           0.33733944792607834,
           0.33733944792607834
          ],
          [
           0.18263466931958228,
           0.1573490541545511,
           0.1573490541545511,
           0.1573490541545511,
           0.042907596804799664,
           0.02718347321357576,
           0.02718347321357576,
           0.02718347321357576,
           0.06648817897351754,
           0.07008687042468176,
           0.09947168590131894,
           0.09947168590131894,
           0.07674988453268378,
           0.14683351969394384,
           0.22115140713459422,
           0.2894021020016203,
           0.2592493844104783,
           0.2531960368054884,
           0.2531960368054884,
           0.18703381001096617,
           0.2565012227455928,
           0.4153817017574534,
           0.37639045312913233,
           0.5132625031782461,
           0.39507460180461756,
           0.39507460180461756,
           0.4043465323703719,
           0.39014449037092336,
           0.41366269848365106,
           0.41366269848365106,
           0.41366269848365106,
           0.4262898643769414,
           0.20941656713930587,
           0.12943627313211625,
           0.06689035404149052,
           0.16948377585448873,
           0.4574946493990836,
           0.4574946493990836,
           0.5017898103426928,
           0.4955759221581538,
           0.6991177635829727,
           0.8704550650119405,
           0.7155359419844377,
           0.7155359419844377,
           0.8708430492362266,
           0.759408895802548,
           0.759408895802548,
           0.7559050919202119,
           1,
           1,
           0.9529966155108327,
           0.5762925878546614,
           0.5422586091990824,
           0.31443463479367495,
           0.052276114404611704,
           0.30831299759821956,
           0.33733944792607834,
           0.33733944792607834,
           0.33733944792607834
          ],
          [
           0.31087378438466684,
           0.2866409708291216,
           0.2866409708291216,
           0.2866409708291216,
           0.1668119734185335,
           0.15815260406646972,
           0.15815260406646972,
           0.15815260406646972,
           0.003529323252709044,
           0.1452208972281486,
           0.17581536996339528,
           0.17581536996339528,
           0.14557457289725867,
           0.21966673414625354,
           0.30239748839548647,
           0.36134342647944884,
           0.3227585101827089,
           0.3360560907122722,
           0.3360560907122722,
           0.26222079327945197,
           0.30933006238781113,
           0.4915499890881038,
           0.43699525707284786,
           0.5668856219207159,
           0.45975087700604844,
           0.45975087700604844,
           0.471056112393148,
           0.45687630144593777,
           0.4630177790924802,
           0.4630177790924802,
           0.4630177790924802,
           0.48719383082488765,
           0.24858907739580957,
           0.15027459812342106,
           0.05448560683570541,
           0.201958521764898,
           0.514497773728353,
           0.514497773728353,
           0.5239433187803657,
           0.5086679720365315,
           0.7047203878869037,
           0.9146555958513828,
           0.7481598385002878,
           0.7481598385002878,
           0.8050734322584021,
           0.655352700823648,
           0.655352700823648,
           0.6214472365327534,
           0.9529966155108327,
           0.9529966155108327,
           1,
           0.5365842931324791,
           0.5542683343552314,
           0.3574394745812136,
           0.04410391365092514,
           0.32576689693127614,
           0.3643700084510418,
           0.3643700084510418,
           0.3643700084510418
          ],
          [
           0.2513072341355524,
           0.2381181874805562,
           0.2381181874805562,
           0.2381181874805562,
           0.16676297586405409,
           0.23085424725265744,
           0.23085424725265744,
           0.23085424725265744,
           0.14336824502990617,
           0.16601206886952435,
           0.16719602582175247,
           0.1648273561747586,
           0.24901194122940695,
           0.29023056653592694,
           0.22568434214384916,
           0.3754041558597524,
           0.39097161120424184,
           0.4053797134683844,
           0.4053797134683844,
           0.4504206734175669,
           0.4031957776141031,
           0.41359432388146833,
           0.5300316829381366,
           0.5615755172191534,
           0.39095774547380985,
           0.39095774547380985,
           0.5020822289111014,
           0.5224160950327029,
           0.5816133934624684,
           0.5816133934624684,
           0.5816133934624684,
           0.693982104206276,
           0.23291875906096188,
           0.2809051240368001,
           0.2610071485398317,
           0.2607273583442675,
           0.7770060285795225,
           0.7770060285795225,
           0.3620722304870863,
           0.4376484523929708,
           0.44896440503987617,
           0.5962786893410716,
           0.6581018053977556,
           0.6581018053977556,
           0.7110444700371746,
           0.6783153867442812,
           0.6783153867442812,
           0.6649506042133736,
           0.5762925878546614,
           0.5762925878546614,
           0.5365842931324791,
           1,
           0.3085276787297559,
           0.2815337211600063,
           0.17653249837756305,
           0.0801059969411241,
           0.22314173479275057,
           0.22314173479275057,
           0.22314173479275057
          ],
          [
           0.18529330298222052,
           0.1846349343439288,
           0.1846349343439288,
           0.1846349343439288,
           0.16816239751338102,
           0.1594329263527986,
           0.1594329263527986,
           0.1594329263527986,
           0.12414449083738327,
           0.11375338848319172,
           0.08813242744870742,
           0.08813242744870742,
           0.032329549776339235,
           0.07069601572820254,
           0.2885410879978933,
           0.07065149801168676,
           0.032329549776339235,
           0.010776516592113079,
           0.010776516592113079,
           0.010776516592113079,
           0.2743380754104577,
           0.24234357885942195,
           0.2241943033512761,
           0.4037202419600881,
           0.4618049086060528,
           0.4618049086060528,
           0.3660773395932965,
           0.3660024338876923,
           0.3660024338876923,
           0.3660024338876923,
           0.3660024338876923,
           0.3660024338876923,
           0.45221456662459697,
           0.12336875478009551,
           0.06479877895778484,
           0.24069787893911776,
           0.3564407035114978,
           0.3564407035114978,
           0.09108190948327063,
           0.6341210341973098,
           0.7490344282087421,
           0.6059858343066338,
           0.5540043915060341,
           0.5540043915060341,
           0.5672610909234441,
           0.5200795257029629,
           0.5200795257029629,
           0.48833249229326403,
           0.5422586091990824,
           0.5422586091990824,
           0.5542683343552314,
           0.3085276787297559,
           1,
           0.0816001014051797,
           0.04446095629271351,
           0.07824064629585546,
           0.06337426692519885,
           0.06337426692519885,
           0.06337426692519885
          ],
          [
           0.11949291842267666,
           0.11906834619733839,
           0.11906834619733839,
           0.11906834619733839,
           0.10844545012917314,
           0.10281594291830175,
           0.10281594291830175,
           0.10281594291830175,
           0.1339249820072048,
           0.15521478578242795,
           0.08291226587433578,
           0.08291226587433578,
           0.13961106607799248,
           0.14731817862945532,
           0.028102595126064174,
           0.1434236187881006,
           0.14341256576768927,
           0.12202913001314478,
           0.12202913001314478,
           0.09209231995678248,
           0.00883349792229151,
           0.16332010680040765,
           0.15190413942129366,
           0.14673887799617397,
           0.15292002904875368,
           0.15292002904875368,
           0.15294761069767612,
           0.13913587861678037,
           0.15624262722041596,
           0.15624262722041596,
           0.15624262722041596,
           0.15244112753071917,
           0.17097343851799107,
           0.0025196614990341416,
           0.023678729417292703,
           0.07046810544769051,
           0.12773761356507995,
           0.12773761356507995,
           0.05873738016700149,
           0.1261426584450357,
           0.24128281161033788,
           0.39079132757997354,
           0.3572692617303455,
           0.3572692617303455,
           0.27684041972912604,
           0.1888282574816113,
           0.1888282574816113,
           0.17478558723346646,
           0.31443463479367495,
           0.31443463479367495,
           0.3574394745812136,
           0.2815337211600063,
           0.0816001014051797,
           1,
           0.028672215011403757,
           0.05045623891795615,
           0.04086913010836853,
           0.04086913010836853,
           0.04086913010836853
          ],
          [
           0.239949073048688,
           0.24844800930049146,
           0.24844800930049146,
           0.24844800930049146,
           0.2643929734004634,
           0.05602070420949957,
           0.05602070420949957,
           0.05602070420949957,
           0.1986449513561076,
           0.14813468233688734,
           0.13281385035043605,
           0.13960124967630344,
           0.1447671669912528,
           0.16171076638049842,
           0.1565292289563218,
           0.16834118079580038,
           0.1683282074897081,
           0.14140130406290205,
           0.14140130406290205,
           0.14140130406290205,
           0.09937309152607308,
           0.15331192355469583,
           0.19013583195927714,
           0.18515752213146186,
           0.1447706831202169,
           0.1447706831202169,
           0.14816334668283254,
           0.09413897877731019,
           0.16496234456135733,
           0.16496234456135733,
           0.16496234456135733,
           0.1076024304907132,
           0.13095310455614656,
           0.18416029395386566,
           0.19593214862815864,
           0.007814009014234924,
           0.13972519164951563,
           0.13972519164951563,
           0.03200388292884867,
           0.06873059134967469,
           0.05048422678882589,
           0.06669519793781711,
           0.07247416828287823,
           0.07247416828287823,
           0.06825039344762804,
           0.07679274807530405,
           0.07679274807530405,
           0.07656063198719738,
           0.052276114404611704,
           0.052276114404611704,
           0.04410391365092514,
           0.17653249837756305,
           0.04446095629271351,
           0.028672215011403757,
           1,
           0.5682590622346213,
           0.02226811702655621,
           0.02226811702655621,
           0.02226811702655621
          ],
          [
           0.4222529634725271,
           0.36109816925326216,
           0.36109816925326216,
           0.36109816925326216,
           0.08576894075984084,
           0.09858303709087159,
           0.09858303709087159,
           0.09858303709087159,
           0.07550824512851587,
           0.10634986672104864,
           0.11543985392748234,
           0.11942125359589918,
           0.0032700522499714327,
           0.10247235765745705,
           0.027125465526968963,
           0.10635687685777186,
           0.048680589155235106,
           0.050654960325029176,
           0.050654960325029176,
           0.12243157889358453,
           0.05479769030824186,
           0.11280697408282885,
           0.019112995433260293,
           0.11622053625527401,
           0.06871389887614308,
           0.06871389887614308,
           0.10073410795294416,
           0.19359120647157924,
           0.12243157889358453,
           0.12243157889358453,
           0.12243157889358453,
           0.16792438126425627,
           0.3256272784515578,
           0.36184205899293154,
           0.2513871409343639,
           0.08692239218789506,
           0.10170564518211019,
           0.10170564518211019,
           0.05631917738891245,
           0.16148497490955277,
           0.0888401613698896,
           0.11736759230120326,
           0.18586131978551437,
           0.18586131978551437,
           0.09594628534030458,
           0.16934346495383906,
           0.16934346495383906,
           0.1563927428488065,
           0.30831299759821956,
           0.30831299759821956,
           0.32576689693127614,
           0.0801059969411241,
           0.07824064629585546,
           0.05045623891795615,
           0.5682590622346213,
           1,
           0.8099916082691649,
           0.8099916082691649,
           0.8099916082691649
          ],
          [
           0.3420213569795332,
           0.2616618962644557,
           0.2616618962644557,
           0.2616618962644557,
           0.08422355836525108,
           0.0798514327612938,
           0.0798514327612938,
           0.0798514327612938,
           0.049831840186190045,
           0.02363879460656318,
           0.04560210609574801,
           0.04560210609574801,
           0.09920186865926313,
           0.009252052847773383,
           0.14451481142703057,
           0.009246226773112405,
           0.06082049075986057,
           0.03923096569144663,
           0.03923096569144663,
           0.2495289320985898,
           0.13740128142681102,
           0.027794301090376217,
           0.11228694567083876,
           0.009245514207538377,
           0.18666396910265876,
           0.18666396910265876,
           0.2279860568896788,
           0.3023033267102683,
           0.26632078492957845,
           0.26632078492957845,
           0.26632078492957845,
           0.2807138016418544,
           0.3023033267102683,
           0.30838329280788246,
           0.16579220723134844,
           0.10004060154768024,
           0.223152625377821,
           0.223152625377821,
           0.04561806106964158,
           0.24518621041336996,
           0.07195978518688903,
           0.0950667648467313,
           0.2774711938731786,
           0.2774711938731786,
           0.16521529256953368,
           0.26048004152729864,
           0.26048004152729864,
           0.24457964904453455,
           0.33733944792607834,
           0.33733944792607834,
           0.3643700084510418,
           0.22314173479275057,
           0.06337426692519885,
           0.04086913010836853,
           0.02226811702655621,
           0.8099916082691649,
           1,
           1,
           1
          ],
          [
           0.3420213569795332,
           0.2616618962644557,
           0.2616618962644557,
           0.2616618962644557,
           0.08422355836525108,
           0.0798514327612938,
           0.0798514327612938,
           0.0798514327612938,
           0.049831840186190045,
           0.02363879460656318,
           0.04560210609574801,
           0.04560210609574801,
           0.09920186865926313,
           0.009252052847773383,
           0.14451481142703057,
           0.009246226773112405,
           0.06082049075986057,
           0.03923096569144663,
           0.03923096569144663,
           0.2495289320985898,
           0.13740128142681102,
           0.027794301090376217,
           0.11228694567083876,
           0.009245514207538377,
           0.18666396910265876,
           0.18666396910265876,
           0.2279860568896788,
           0.3023033267102683,
           0.26632078492957845,
           0.26632078492957845,
           0.26632078492957845,
           0.2807138016418544,
           0.3023033267102683,
           0.30838329280788246,
           0.16579220723134844,
           0.10004060154768024,
           0.223152625377821,
           0.223152625377821,
           0.04561806106964158,
           0.24518621041336996,
           0.07195978518688903,
           0.0950667648467313,
           0.2774711938731786,
           0.2774711938731786,
           0.16521529256953368,
           0.26048004152729864,
           0.26048004152729864,
           0.24457964904453455,
           0.33733944792607834,
           0.33733944792607834,
           0.3643700084510418,
           0.22314173479275057,
           0.06337426692519885,
           0.04086913010836853,
           0.02226811702655621,
           0.8099916082691649,
           1,
           1,
           1
          ],
          [
           0.3420213569795332,
           0.2616618962644557,
           0.2616618962644557,
           0.2616618962644557,
           0.08422355836525108,
           0.0798514327612938,
           0.0798514327612938,
           0.0798514327612938,
           0.049831840186190045,
           0.02363879460656318,
           0.04560210609574801,
           0.04560210609574801,
           0.09920186865926313,
           0.009252052847773383,
           0.14451481142703057,
           0.009246226773112405,
           0.06082049075986057,
           0.03923096569144663,
           0.03923096569144663,
           0.2495289320985898,
           0.13740128142681102,
           0.027794301090376217,
           0.11228694567083876,
           0.009245514207538377,
           0.18666396910265876,
           0.18666396910265876,
           0.2279860568896788,
           0.3023033267102683,
           0.26632078492957845,
           0.26632078492957845,
           0.26632078492957845,
           0.2807138016418544,
           0.3023033267102683,
           0.30838329280788246,
           0.16579220723134844,
           0.10004060154768024,
           0.223152625377821,
           0.223152625377821,
           0.04561806106964158,
           0.24518621041336996,
           0.07195978518688903,
           0.0950667648467313,
           0.2774711938731786,
           0.2774711938731786,
           0.16521529256953368,
           0.26048004152729864,
           0.26048004152729864,
           0.24457964904453455,
           0.33733944792607834,
           0.33733944792607834,
           0.3643700084510418,
           0.22314173479275057,
           0.06337426692519885,
           0.04086913010836853,
           0.02226811702655621,
           0.8099916082691649,
           1,
           1,
           1
          ]
         ]
        }
       ],
       "layout": {
        "autosize": false,
        "height": 800,
        "hovermode": "closest",
        "showlegend": false,
        "template": {
         "data": {
          "bar": [
           {
            "error_x": {
             "color": "#2a3f5f"
            },
            "error_y": {
             "color": "#2a3f5f"
            },
            "marker": {
             "line": {
              "color": "#E5ECF6",
              "width": 0.5
             }
            },
            "type": "bar"
           }
          ],
          "barpolar": [
           {
            "marker": {
             "line": {
              "color": "#E5ECF6",
              "width": 0.5
             }
            },
            "type": "barpolar"
           }
          ],
          "carpet": [
           {
            "aaxis": {
             "endlinecolor": "#2a3f5f",
             "gridcolor": "white",
             "linecolor": "white",
             "minorgridcolor": "white",
             "startlinecolor": "#2a3f5f"
            },
            "baxis": {
             "endlinecolor": "#2a3f5f",
             "gridcolor": "white",
             "linecolor": "white",
             "minorgridcolor": "white",
             "startlinecolor": "#2a3f5f"
            },
            "type": "carpet"
           }
          ],
          "choropleth": [
           {
            "colorbar": {
             "outlinewidth": 0,
             "ticks": ""
            },
            "type": "choropleth"
           }
          ],
          "contour": [
           {
            "colorbar": {
             "outlinewidth": 0,
             "ticks": ""
            },
            "colorscale": [
             [
              0,
              "#0d0887"
             ],
             [
              0.1111111111111111,
              "#46039f"
             ],
             [
              0.2222222222222222,
              "#7201a8"
             ],
             [
              0.3333333333333333,
              "#9c179e"
             ],
             [
              0.4444444444444444,
              "#bd3786"
             ],
             [
              0.5555555555555556,
              "#d8576b"
             ],
             [
              0.6666666666666666,
              "#ed7953"
             ],
             [
              0.7777777777777778,
              "#fb9f3a"
             ],
             [
              0.8888888888888888,
              "#fdca26"
             ],
             [
              1,
              "#f0f921"
             ]
            ],
            "type": "contour"
           }
          ],
          "contourcarpet": [
           {
            "colorbar": {
             "outlinewidth": 0,
             "ticks": ""
            },
            "type": "contourcarpet"
           }
          ],
          "heatmap": [
           {
            "colorbar": {
             "outlinewidth": 0,
             "ticks": ""
            },
            "colorscale": [
             [
              0,
              "#0d0887"
             ],
             [
              0.1111111111111111,
              "#46039f"
             ],
             [
              0.2222222222222222,
              "#7201a8"
             ],
             [
              0.3333333333333333,
              "#9c179e"
             ],
             [
              0.4444444444444444,
              "#bd3786"
             ],
             [
              0.5555555555555556,
              "#d8576b"
             ],
             [
              0.6666666666666666,
              "#ed7953"
             ],
             [
              0.7777777777777778,
              "#fb9f3a"
             ],
             [
              0.8888888888888888,
              "#fdca26"
             ],
             [
              1,
              "#f0f921"
             ]
            ],
            "type": "heatmap"
           }
          ],
          "heatmapgl": [
           {
            "colorbar": {
             "outlinewidth": 0,
             "ticks": ""
            },
            "colorscale": [
             [
              0,
              "#0d0887"
             ],
             [
              0.1111111111111111,
              "#46039f"
             ],
             [
              0.2222222222222222,
              "#7201a8"
             ],
             [
              0.3333333333333333,
              "#9c179e"
             ],
             [
              0.4444444444444444,
              "#bd3786"
             ],
             [
              0.5555555555555556,
              "#d8576b"
             ],
             [
              0.6666666666666666,
              "#ed7953"
             ],
             [
              0.7777777777777778,
              "#fb9f3a"
             ],
             [
              0.8888888888888888,
              "#fdca26"
             ],
             [
              1,
              "#f0f921"
             ]
            ],
            "type": "heatmapgl"
           }
          ],
          "histogram": [
           {
            "marker": {
             "colorbar": {
              "outlinewidth": 0,
              "ticks": ""
             }
            },
            "type": "histogram"
           }
          ],
          "histogram2d": [
           {
            "colorbar": {
             "outlinewidth": 0,
             "ticks": ""
            },
            "colorscale": [
             [
              0,
              "#0d0887"
             ],
             [
              0.1111111111111111,
              "#46039f"
             ],
             [
              0.2222222222222222,
              "#7201a8"
             ],
             [
              0.3333333333333333,
              "#9c179e"
             ],
             [
              0.4444444444444444,
              "#bd3786"
             ],
             [
              0.5555555555555556,
              "#d8576b"
             ],
             [
              0.6666666666666666,
              "#ed7953"
             ],
             [
              0.7777777777777778,
              "#fb9f3a"
             ],
             [
              0.8888888888888888,
              "#fdca26"
             ],
             [
              1,
              "#f0f921"
             ]
            ],
            "type": "histogram2d"
           }
          ],
          "histogram2dcontour": [
           {
            "colorbar": {
             "outlinewidth": 0,
             "ticks": ""
            },
            "colorscale": [
             [
              0,
              "#0d0887"
             ],
             [
              0.1111111111111111,
              "#46039f"
             ],
             [
              0.2222222222222222,
              "#7201a8"
             ],
             [
              0.3333333333333333,
              "#9c179e"
             ],
             [
              0.4444444444444444,
              "#bd3786"
             ],
             [
              0.5555555555555556,
              "#d8576b"
             ],
             [
              0.6666666666666666,
              "#ed7953"
             ],
             [
              0.7777777777777778,
              "#fb9f3a"
             ],
             [
              0.8888888888888888,
              "#fdca26"
             ],
             [
              1,
              "#f0f921"
             ]
            ],
            "type": "histogram2dcontour"
           }
          ],
          "mesh3d": [
           {
            "colorbar": {
             "outlinewidth": 0,
             "ticks": ""
            },
            "type": "mesh3d"
           }
          ],
          "parcoords": [
           {
            "line": {
             "colorbar": {
              "outlinewidth": 0,
              "ticks": ""
             }
            },
            "type": "parcoords"
           }
          ],
          "pie": [
           {
            "automargin": true,
            "type": "pie"
           }
          ],
          "scatter": [
           {
            "marker": {
             "colorbar": {
              "outlinewidth": 0,
              "ticks": ""
             }
            },
            "type": "scatter"
           }
          ],
          "scatter3d": [
           {
            "line": {
             "colorbar": {
              "outlinewidth": 0,
              "ticks": ""
             }
            },
            "marker": {
             "colorbar": {
              "outlinewidth": 0,
              "ticks": ""
             }
            },
            "type": "scatter3d"
           }
          ],
          "scattercarpet": [
           {
            "marker": {
             "colorbar": {
              "outlinewidth": 0,
              "ticks": ""
             }
            },
            "type": "scattercarpet"
           }
          ],
          "scattergeo": [
           {
            "marker": {
             "colorbar": {
              "outlinewidth": 0,
              "ticks": ""
             }
            },
            "type": "scattergeo"
           }
          ],
          "scattergl": [
           {
            "marker": {
             "colorbar": {
              "outlinewidth": 0,
              "ticks": ""
             }
            },
            "type": "scattergl"
           }
          ],
          "scattermapbox": [
           {
            "marker": {
             "colorbar": {
              "outlinewidth": 0,
              "ticks": ""
             }
            },
            "type": "scattermapbox"
           }
          ],
          "scatterpolar": [
           {
            "marker": {
             "colorbar": {
              "outlinewidth": 0,
              "ticks": ""
             }
            },
            "type": "scatterpolar"
           }
          ],
          "scatterpolargl": [
           {
            "marker": {
             "colorbar": {
              "outlinewidth": 0,
              "ticks": ""
             }
            },
            "type": "scatterpolargl"
           }
          ],
          "scatterternary": [
           {
            "marker": {
             "colorbar": {
              "outlinewidth": 0,
              "ticks": ""
             }
            },
            "type": "scatterternary"
           }
          ],
          "surface": [
           {
            "colorbar": {
             "outlinewidth": 0,
             "ticks": ""
            },
            "colorscale": [
             [
              0,
              "#0d0887"
             ],
             [
              0.1111111111111111,
              "#46039f"
             ],
             [
              0.2222222222222222,
              "#7201a8"
             ],
             [
              0.3333333333333333,
              "#9c179e"
             ],
             [
              0.4444444444444444,
              "#bd3786"
             ],
             [
              0.5555555555555556,
              "#d8576b"
             ],
             [
              0.6666666666666666,
              "#ed7953"
             ],
             [
              0.7777777777777778,
              "#fb9f3a"
             ],
             [
              0.8888888888888888,
              "#fdca26"
             ],
             [
              1,
              "#f0f921"
             ]
            ],
            "type": "surface"
           }
          ],
          "table": [
           {
            "cells": {
             "fill": {
              "color": "#EBF0F8"
             },
             "line": {
              "color": "white"
             }
            },
            "header": {
             "fill": {
              "color": "#C8D4E3"
             },
             "line": {
              "color": "white"
             }
            },
            "type": "table"
           }
          ]
         },
         "layout": {
          "annotationdefaults": {
           "arrowcolor": "#2a3f5f",
           "arrowhead": 0,
           "arrowwidth": 1
          },
          "autotypenumbers": "strict",
          "coloraxis": {
           "colorbar": {
            "outlinewidth": 0,
            "ticks": ""
           }
          },
          "colorscale": {
           "diverging": [
            [
             0,
             "#8e0152"
            ],
            [
             0.1,
             "#c51b7d"
            ],
            [
             0.2,
             "#de77ae"
            ],
            [
             0.3,
             "#f1b6da"
            ],
            [
             0.4,
             "#fde0ef"
            ],
            [
             0.5,
             "#f7f7f7"
            ],
            [
             0.6,
             "#e6f5d0"
            ],
            [
             0.7,
             "#b8e186"
            ],
            [
             0.8,
             "#7fbc41"
            ],
            [
             0.9,
             "#4d9221"
            ],
            [
             1,
             "#276419"
            ]
           ],
           "sequential": [
            [
             0,
             "#0d0887"
            ],
            [
             0.1111111111111111,
             "#46039f"
            ],
            [
             0.2222222222222222,
             "#7201a8"
            ],
            [
             0.3333333333333333,
             "#9c179e"
            ],
            [
             0.4444444444444444,
             "#bd3786"
            ],
            [
             0.5555555555555556,
             "#d8576b"
            ],
            [
             0.6666666666666666,
             "#ed7953"
            ],
            [
             0.7777777777777778,
             "#fb9f3a"
            ],
            [
             0.8888888888888888,
             "#fdca26"
            ],
            [
             1,
             "#f0f921"
            ]
           ],
           "sequentialminus": [
            [
             0,
             "#0d0887"
            ],
            [
             0.1111111111111111,
             "#46039f"
            ],
            [
             0.2222222222222222,
             "#7201a8"
            ],
            [
             0.3333333333333333,
             "#9c179e"
            ],
            [
             0.4444444444444444,
             "#bd3786"
            ],
            [
             0.5555555555555556,
             "#d8576b"
            ],
            [
             0.6666666666666666,
             "#ed7953"
            ],
            [
             0.7777777777777778,
             "#fb9f3a"
            ],
            [
             0.8888888888888888,
             "#fdca26"
            ],
            [
             1,
             "#f0f921"
            ]
           ]
          },
          "colorway": [
           "#636efa",
           "#EF553B",
           "#00cc96",
           "#ab63fa",
           "#FFA15A",
           "#19d3f3",
           "#FF6692",
           "#B6E880",
           "#FF97FF",
           "#FECB52"
          ],
          "font": {
           "color": "#2a3f5f"
          },
          "geo": {
           "bgcolor": "white",
           "lakecolor": "white",
           "landcolor": "#E5ECF6",
           "showlakes": true,
           "showland": true,
           "subunitcolor": "white"
          },
          "hoverlabel": {
           "align": "left"
          },
          "hovermode": "closest",
          "mapbox": {
           "style": "light"
          },
          "paper_bgcolor": "white",
          "plot_bgcolor": "#E5ECF6",
          "polar": {
           "angularaxis": {
            "gridcolor": "white",
            "linecolor": "white",
            "ticks": ""
           },
           "bgcolor": "#E5ECF6",
           "radialaxis": {
            "gridcolor": "white",
            "linecolor": "white",
            "ticks": ""
           }
          },
          "scene": {
           "xaxis": {
            "backgroundcolor": "#E5ECF6",
            "gridcolor": "white",
            "gridwidth": 2,
            "linecolor": "white",
            "showbackground": true,
            "ticks": "",
            "zerolinecolor": "white"
           },
           "yaxis": {
            "backgroundcolor": "#E5ECF6",
            "gridcolor": "white",
            "gridwidth": 2,
            "linecolor": "white",
            "showbackground": true,
            "ticks": "",
            "zerolinecolor": "white"
           },
           "zaxis": {
            "backgroundcolor": "#E5ECF6",
            "gridcolor": "white",
            "gridwidth": 2,
            "linecolor": "white",
            "showbackground": true,
            "ticks": "",
            "zerolinecolor": "white"
           }
          },
          "shapedefaults": {
           "line": {
            "color": "#2a3f5f"
           }
          },
          "ternary": {
           "aaxis": {
            "gridcolor": "white",
            "linecolor": "white",
            "ticks": ""
           },
           "baxis": {
            "gridcolor": "white",
            "linecolor": "white",
            "ticks": ""
           },
           "bgcolor": "#E5ECF6",
           "caxis": {
            "gridcolor": "white",
            "linecolor": "white",
            "ticks": ""
           }
          },
          "title": {
           "x": 0.05
          },
          "xaxis": {
           "automargin": true,
           "gridcolor": "white",
           "linecolor": "white",
           "ticks": "",
           "title": {
            "standoff": 15
           },
           "zerolinecolor": "white",
           "zerolinewidth": 2
          },
          "yaxis": {
           "automargin": true,
           "gridcolor": "white",
           "linecolor": "white",
           "ticks": "",
           "title": {
            "standoff": 15
           },
           "zerolinecolor": "white",
           "zerolinewidth": 2
          }
         }
        },
        "title": {
         "text": "Propiedades físico-químicas",
         "x": 0.5,
         "xanchor": "center",
         "y": 0.9,
         "yanchor": "top"
        },
        "width": 800,
        "xaxis": {
         "domain": [
          0.15,
          1
         ],
         "mirror": false,
         "rangemode": "tozero",
         "showgrid": false,
         "showline": false,
         "showticklabels": true,
         "tickmode": "array",
         "ticks": "",
         "ticktext": [
          "_feat_CyclomaticNumber",
          "_feat_SmallestRingSize",
          "_feat_RingAtomCount",
          "_feat_LargestRingSize",
          "_feat_CarboRingCount",
          "_feat_CarboaromaticRingCount",
          "_feat_AromaticAtomCount",
          "_feat_AromaticRingCount",
          "_feat_MinimalProjectionRadius",
          "_feat_Refractivity",
          "_feat_HyperWienerIndex",
          "_feat_WienerIndex",
          "_feat_MaximalProjectionArea",
          "_feat_MolPol",
          "_feat_WienerPolarity",
          "_feat_AvgPol",
          "_feat_VanderWaalsVolume",
          "_feat_molsurfaceareaASAp",
          "_feat_msareaASAp",
          "_feat_ASA+",
          "_feat_RotatableBondCount",
          "_feat_AtomCount_C",
          "_feat_BondCount",
          "_feat_MinimalProjectionArea",
          "_feat_minimalprojectionsize",
          "_feat_LengthPerpendicularToTheMinArea",
          "_feat_MaximalProjectionRadius",
          "_feat_ASA",
          "_feat_msareaVDWp",
          "_feat_molsurfaceareaVDWp",
          "_feat_VanderWaalsSurfaceArea",
          "_feat_ASA_H",
          "_feat_ASA-",
          "_feat_ChainAtomCount",
          "_feat_Aliphatic AtomCount",
          "_feat_BalabanIndex",
          "_feat_LengthPerpendicularToTheMaxArea",
          "_feat_maximalprojectionsize",
          "_feat_fr_guanido",
          "_feat_fr_NH2",
          "_feat_fr_quatN",
          "_feat_donorcount",
          "_feat_AtomCount_N",
          "_feat_Hdonorcount",
          "_feat_PolarSurfaceArea",
          "_feat_Hacceptorcount",
          "_feat_acceptorcount",
          "_feat_Accsitecount",
          "_feat_ProtPolarSurfaceArea",
          "_feat_Protpsa",
          "_feat_donsitecount",
          "_feat_ASA_P",
          "_feat_fr_amidine",
          "_feat_fr_NH1",
          "_feat_CarboaliphaticRingCount",
          "_feat_AliphaticRingCount",
          "_feat_fr_Imine",
          "_feat_HeteroaliphaticRingCount",
          "_feat_fr_NH0"
         ],
         "tickvals": [
          5,
          15,
          25,
          35,
          45,
          55,
          65,
          75,
          85,
          95,
          105,
          115,
          125,
          135,
          145,
          155,
          165,
          175,
          185,
          195,
          205,
          215,
          225,
          235,
          245,
          255,
          265,
          275,
          285,
          295,
          305,
          315,
          325,
          335,
          345,
          355,
          365,
          375,
          385,
          395,
          405,
          415,
          425,
          435,
          445,
          455,
          465,
          475,
          485,
          495,
          505,
          515,
          525,
          535,
          545,
          555,
          565,
          575,
          585
         ],
         "type": "linear",
         "zeroline": false
        },
        "xaxis2": {
         "domain": [
          0,
          0.15
         ],
         "mirror": false,
         "showgrid": false,
         "showline": false,
         "showticklabels": false,
         "ticks": "",
         "zeroline": false
        },
        "yaxis": {
         "domain": [
          0,
          0.85
         ],
         "mirror": false,
         "rangemode": "tozero",
         "showgrid": false,
         "showline": false,
         "showticklabels": false,
         "ticks": "",
         "ticktext": [
          "_feat_CyclomaticNumber",
          "_feat_SmallestRingSize",
          "_feat_RingAtomCount",
          "_feat_LargestRingSize",
          "_feat_CarboRingCount",
          "_feat_CarboaromaticRingCount",
          "_feat_AromaticAtomCount",
          "_feat_AromaticRingCount",
          "_feat_MinimalProjectionRadius",
          "_feat_Refractivity",
          "_feat_HyperWienerIndex",
          "_feat_WienerIndex",
          "_feat_MaximalProjectionArea",
          "_feat_MolPol",
          "_feat_WienerPolarity",
          "_feat_AvgPol",
          "_feat_VanderWaalsVolume",
          "_feat_molsurfaceareaASAp",
          "_feat_msareaASAp",
          "_feat_ASA+",
          "_feat_RotatableBondCount",
          "_feat_AtomCount_C",
          "_feat_BondCount",
          "_feat_MinimalProjectionArea",
          "_feat_minimalprojectionsize",
          "_feat_LengthPerpendicularToTheMinArea",
          "_feat_MaximalProjectionRadius",
          "_feat_ASA",
          "_feat_msareaVDWp",
          "_feat_molsurfaceareaVDWp",
          "_feat_VanderWaalsSurfaceArea",
          "_feat_ASA_H",
          "_feat_ASA-",
          "_feat_ChainAtomCount",
          "_feat_Aliphatic AtomCount",
          "_feat_BalabanIndex",
          "_feat_LengthPerpendicularToTheMaxArea",
          "_feat_maximalprojectionsize",
          "_feat_fr_guanido",
          "_feat_fr_NH2",
          "_feat_fr_quatN",
          "_feat_donorcount",
          "_feat_AtomCount_N",
          "_feat_Hdonorcount",
          "_feat_PolarSurfaceArea",
          "_feat_Hacceptorcount",
          "_feat_acceptorcount",
          "_feat_Accsitecount",
          "_feat_ProtPolarSurfaceArea",
          "_feat_Protpsa",
          "_feat_donsitecount",
          "_feat_ASA_P",
          "_feat_fr_amidine",
          "_feat_fr_NH1",
          "_feat_CarboaliphaticRingCount",
          "_feat_AliphaticRingCount",
          "_feat_fr_Imine",
          "_feat_HeteroaliphaticRingCount",
          "_feat_fr_NH0"
         ],
         "tickvals": [
          5,
          15,
          25,
          35,
          45,
          55,
          65,
          75,
          85,
          95,
          105,
          115,
          125,
          135,
          145,
          155,
          165,
          175,
          185,
          195,
          205,
          215,
          225,
          235,
          245,
          255,
          265,
          275,
          285,
          295,
          305,
          315,
          325,
          335,
          345,
          355,
          365,
          375,
          385,
          395,
          405,
          415,
          425,
          435,
          445,
          455,
          465,
          475,
          485,
          495,
          505,
          515,
          525,
          535,
          545,
          555,
          565,
          575,
          585
         ],
         "type": "linear",
         "zeroline": false
        },
        "yaxis2": {
         "domain": [
          0.825,
          0.975
         ],
         "mirror": false,
         "showgrid": false,
         "showline": false,
         "showticklabels": false,
         "ticks": "",
         "zeroline": false
        }
       }
      },
      "text/html": [
       "<div>                            <div id=\"0eee8942-5a0c-4f7b-afa5-b2c51d413da1\" class=\"plotly-graph-div\" style=\"height:800px; width:800px;\"></div>            <script type=\"text/javascript\">                require([\"plotly\"], function(Plotly) {                    window.PLOTLYENV=window.PLOTLYENV || {};                                    if (document.getElementById(\"0eee8942-5a0c-4f7b-afa5-b2c51d413da1\")) {                    Plotly.newPlot(                        \"0eee8942-5a0c-4f7b-afa5-b2c51d413da1\",                        [{\"hoverinfo\": \"text\", \"marker\": {\"color\": \"rgb(61,153,112)\"}, \"mode\": \"lines\", \"type\": \"scatter\", \"x\": [15.0, 15.0, 25.0, 25.0], \"xaxis\": \"x\", \"y\": [0.0, 0.0, 0.0, 0.0], \"yaxis\": \"y2\"}, {\"hoverinfo\": \"text\", \"marker\": {\"color\": \"rgb(61,153,112)\"}, \"mode\": \"lines\", \"type\": \"scatter\", \"x\": [20.0, 20.0, 35.0, 35.0], \"xaxis\": \"x\", \"y\": [0.0, 0.0, 0.0, 0.0], \"yaxis\": \"y2\"}, {\"hoverinfo\": \"text\", \"marker\": {\"color\": \"rgb(61,153,112)\"}, \"mode\": \"lines\", \"type\": \"scatter\", \"x\": [5.0, 5.0, 27.5, 27.5], \"xaxis\": \"x\", \"y\": [0.0, 0.2226002828703737, 0.2226002828703737, 0.0], \"yaxis\": \"y2\"}, {\"hoverinfo\": \"text\", \"marker\": {\"color\": \"rgb(61,153,112)\"}, \"mode\": \"lines\", \"type\": \"scatter\", \"x\": [55.0, 55.0, 65.0, 65.0], \"xaxis\": \"x\", \"y\": [0.0, 0.0, 0.0, 0.0], \"yaxis\": \"y2\"}, {\"hoverinfo\": \"text\", \"marker\": {\"color\": \"rgb(61,153,112)\"}, \"mode\": \"lines\", \"type\": \"scatter\", \"x\": [60.0, 60.0, 75.0, 75.0], \"xaxis\": \"x\", \"y\": [0.0, 0.0, 0.0, 0.0], \"yaxis\": \"y2\"}, {\"hoverinfo\": \"text\", \"marker\": {\"color\": \"rgb(61,153,112)\"}, \"mode\": \"lines\", \"type\": \"scatter\", \"x\": [45.0, 45.0, 67.5, 67.5], \"xaxis\": \"x\", \"y\": [0.0, 0.3276521208435322, 0.3276521208435322, 0.0], \"yaxis\": \"y2\"}, {\"hoverinfo\": \"text\", \"marker\": {\"color\": \"rgb(61,153,112)\"}, \"mode\": \"lines\", \"type\": \"scatter\", \"x\": [16.25, 16.25, 56.25, 56.25], \"xaxis\": \"x\", \"y\": [0.2226002828703737, 0.7332404103473346, 0.7332404103473346, 0.3276521208435322], \"yaxis\": \"y2\"}, {\"hoverinfo\": \"text\", \"marker\": {\"color\": \"rgb(255,65,54)\"}, \"mode\": \"lines\", \"type\": \"scatter\", \"x\": [105.0, 105.0, 115.0, 115.0], \"xaxis\": \"x\", \"y\": [0.0, 0.029352850081975235, 0.029352850081975235, 0.0], \"yaxis\": \"y2\"}, {\"hoverinfo\": \"text\", \"marker\": {\"color\": \"rgb(255,65,54)\"}, \"mode\": \"lines\", \"type\": \"scatter\", \"x\": [95.0, 95.0, 110.0, 110.0], \"xaxis\": \"x\", \"y\": [0.0, 0.29594340653154144, 0.29594340653154144, 0.029352850081975235], \"yaxis\": \"y2\"}, {\"hoverinfo\": \"text\", \"marker\": {\"color\": \"rgb(255,65,54)\"}, \"mode\": \"lines\", \"type\": \"scatter\", \"x\": [125.0, 125.0, 135.0, 135.0], \"xaxis\": \"x\", \"y\": [0.0, 0.2688460996461375, 0.2688460996461375, 0.0], \"yaxis\": \"y2\"}, {\"hoverinfo\": \"text\", \"marker\": {\"color\": \"rgb(255,65,54)\"}, \"mode\": \"lines\", \"type\": \"scatter\", \"x\": [102.5, 102.5, 130.0, 130.0], \"xaxis\": \"x\", \"y\": [0.29594340653154144, 0.36003821126300767, 0.36003821126300767, 0.2688460996461375], \"yaxis\": \"y2\"}, {\"hoverinfo\": \"text\", \"marker\": {\"color\": \"rgb(255,65,54)\"}, \"mode\": \"lines\", \"type\": \"scatter\", \"x\": [85.0, 85.0, 116.25, 116.25], \"xaxis\": \"x\", \"y\": [0.0, 0.7615216629875541, 0.7615216629875541, 0.36003821126300767], \"yaxis\": \"y2\"}, {\"hoverinfo\": \"text\", \"marker\": {\"color\": \"rgb(255,65,54)\"}, \"mode\": \"lines\", \"type\": \"scatter\", \"x\": [155.0, 155.0, 165.0, 165.0], \"xaxis\": \"x\", \"y\": [0.0, 0.1625596699392212, 0.1625596699392212, 0.0], \"yaxis\": \"y2\"}, {\"hoverinfo\": \"text\", \"marker\": {\"color\": \"rgb(255,65,54)\"}, \"mode\": \"lines\", \"type\": \"scatter\", \"x\": [175.0, 175.0, 185.0, 185.0], \"xaxis\": \"x\", \"y\": [0.0, 0.0, 0.0, 0.0], \"yaxis\": \"y2\"}, {\"hoverinfo\": \"text\", \"marker\": {\"color\": \"rgb(255,65,54)\"}, \"mode\": \"lines\", \"type\": \"scatter\", \"x\": [160.0, 160.0, 180.0, 180.0], \"xaxis\": \"x\", \"y\": [0.1625596699392212, 0.31581410172958435, 0.31581410172958435, 0.0], \"yaxis\": \"y2\"}, {\"hoverinfo\": \"text\", \"marker\": {\"color\": \"rgb(255,65,54)\"}, \"mode\": \"lines\", \"type\": \"scatter\", \"x\": [170.0, 170.0, 195.0, 195.0], \"xaxis\": \"x\", \"y\": [0.31581410172958435, 0.5345571553806212, 0.5345571553806212, 0.0], \"yaxis\": \"y2\"}, {\"hoverinfo\": \"text\", \"marker\": {\"color\": \"rgb(255,65,54)\"}, \"mode\": \"lines\", \"type\": \"scatter\", \"x\": [182.5, 182.5, 205.0, 205.0], \"xaxis\": \"x\", \"y\": [0.5345571553806212, 0.7697805017466831, 0.7697805017466831, 0.0], \"yaxis\": \"y2\"}, {\"hoverinfo\": \"text\", \"marker\": {\"color\": \"rgb(255,65,54)\"}, \"mode\": \"lines\", \"type\": \"scatter\", \"x\": [145.0, 145.0, 193.75, 193.75], \"xaxis\": \"x\", \"y\": [0.0, 0.811685681935787, 0.811685681935787, 0.7697805017466831], \"yaxis\": \"y2\"}, {\"hoverinfo\": \"text\", \"marker\": {\"color\": \"rgb(255,65,54)\"}, \"mode\": \"lines\", \"type\": \"scatter\", \"x\": [100.625, 100.625, 169.375, 169.375], \"xaxis\": \"x\", \"y\": [0.7615216629875541, 0.959222823649863, 0.959222823649863, 0.811685681935787], \"yaxis\": \"y2\"}, {\"hoverinfo\": \"text\", \"marker\": {\"color\": \"rgb(255,65,54)\"}, \"mode\": \"lines\", \"type\": \"scatter\", \"x\": [215.0, 215.0, 225.0, 225.0], \"xaxis\": \"x\", \"y\": [0.0, 0.5734500922268383, 0.5734500922268383, 0.0], \"yaxis\": \"y2\"}, {\"hoverinfo\": \"text\", \"marker\": {\"color\": \"rgb(255,65,54)\"}, \"mode\": \"lines\", \"type\": \"scatter\", \"x\": [220.0, 220.0, 235.0, 235.0], \"xaxis\": \"x\", \"y\": [0.5734500922268383, 0.5686858446086093, 0.5686858446086093, 0.0], \"yaxis\": \"y2\"}, {\"hoverinfo\": \"text\", \"marker\": {\"color\": \"rgb(255,65,54)\"}, \"mode\": \"lines\", \"type\": \"scatter\", \"x\": [245.0, 245.0, 255.0, 255.0], \"xaxis\": \"x\", \"y\": [0.0, 0.0, 0.0, 0.0], \"yaxis\": \"y2\"}, {\"hoverinfo\": \"text\", \"marker\": {\"color\": \"rgb(255,65,54)\"}, \"mode\": \"lines\", \"type\": \"scatter\", \"x\": [285.0, 285.0, 295.0, 295.0], \"xaxis\": \"x\", \"y\": [0.0, 0.0, 0.0, 0.0], \"yaxis\": \"y2\"}, {\"hoverinfo\": \"text\", \"marker\": {\"color\": \"rgb(255,65,54)\"}, \"mode\": \"lines\", \"type\": \"scatter\", \"x\": [290.0, 290.0, 305.0, 305.0], \"xaxis\": \"x\", \"y\": [0.0, 0.0, 0.0, 0.0], \"yaxis\": \"y2\"}, {\"hoverinfo\": \"text\", \"marker\": {\"color\": \"rgb(255,65,54)\"}, \"mode\": \"lines\", \"type\": \"scatter\", \"x\": [275.0, 275.0, 297.5, 297.5], \"xaxis\": \"x\", \"y\": [0.0, 0.25250409461172246, 0.25250409461172246, 0.0], \"yaxis\": \"y2\"}, {\"hoverinfo\": \"text\", \"marker\": {\"color\": \"rgb(255,65,54)\"}, \"mode\": \"lines\", \"type\": \"scatter\", \"x\": [265.0, 265.0, 286.25, 286.25], \"xaxis\": \"x\", \"y\": [0.0, 0.32159146115760956, 0.32159146115760956, 0.25250409461172246], \"yaxis\": \"y2\"}, {\"hoverinfo\": \"text\", \"marker\": {\"color\": \"rgb(255,65,54)\"}, \"mode\": \"lines\", \"type\": \"scatter\", \"x\": [275.625, 275.625, 315.0, 315.0], \"xaxis\": \"x\", \"y\": [0.32159146115760956, 0.5138966851721473, 0.5138966851721473, 0.0], \"yaxis\": \"y2\"}, {\"hoverinfo\": \"text\", \"marker\": {\"color\": \"rgb(255,65,54)\"}, \"mode\": \"lines\", \"type\": \"scatter\", \"x\": [250.0, 250.0, 295.3125, 295.3125], \"xaxis\": \"x\", \"y\": [0.0, 0.653086921886911, 0.653086921886911, 0.5138966851721473], \"yaxis\": \"y2\"}, {\"hoverinfo\": \"text\", \"marker\": {\"color\": \"rgb(255,65,54)\"}, \"mode\": \"lines\", \"type\": \"scatter\", \"x\": [227.5, 227.5, 272.65625, 272.65625], \"xaxis\": \"x\", \"y\": [0.5686858446086093, 0.6632751544732589, 0.6632751544732589, 0.653086921886911], \"yaxis\": \"y2\"}, {\"hoverinfo\": \"text\", \"marker\": {\"color\": \"rgb(255,65,54)\"}, \"mode\": \"lines\", \"type\": \"scatter\", \"x\": [135.0, 135.0, 250.078125, 250.078125], \"xaxis\": \"x\", \"y\": [0.959222823649863, 1.37003701728022, 1.37003701728022, 0.6632751544732589], \"yaxis\": \"y2\"}, {\"hoverinfo\": \"text\", \"marker\": {\"color\": \"rgb(255,65,54)\"}, \"mode\": \"lines\", \"type\": \"scatter\", \"x\": [192.5390625, 192.5390625, 325.0, 325.0], \"xaxis\": \"x\", \"y\": [1.37003701728022, 1.7721205705692586, 1.7721205705692586, 0.0], \"yaxis\": \"y2\"}, {\"hoverinfo\": \"text\", \"marker\": {\"color\": \"rgb(35,205,205)\"}, \"mode\": \"lines\", \"type\": \"scatter\", \"x\": [335.0, 335.0, 345.0, 345.0], \"xaxis\": \"x\", \"y\": [0.0, 0.7684918206132706, 0.7684918206132706, 0.0], \"yaxis\": \"y2\"}, {\"hoverinfo\": \"text\", \"marker\": {\"color\": \"rgb(35,205,205)\"}, \"mode\": \"lines\", \"type\": \"scatter\", \"x\": [340.0, 340.0, 355.0, 355.0], \"xaxis\": \"x\", \"y\": [0.7684918206132706, 0.9058421340760913, 0.9058421340760913, 0.0], \"yaxis\": \"y2\"}, {\"hoverinfo\": \"text\", \"marker\": {\"color\": \"rgb(0,116,217)\"}, \"mode\": \"lines\", \"type\": \"scatter\", \"x\": [258.76953125, 258.76953125, 347.5, 347.5], \"xaxis\": \"x\", \"y\": [1.7721205705692586, 2.4050062819964624, 2.4050062819964624, 0.9058421340760913], \"yaxis\": \"y2\"}, {\"hoverinfo\": \"text\", \"marker\": {\"color\": \"rgb(0,116,217)\"}, \"mode\": \"lines\", \"type\": \"scatter\", \"x\": [36.25, 36.25, 303.134765625, 303.134765625], \"xaxis\": \"x\", \"y\": [0.7332404103473346, 2.5097952887097805, 2.5097952887097805, 2.4050062819964624], \"yaxis\": \"y2\"}, {\"hoverinfo\": \"text\", \"marker\": {\"color\": \"rgb(133,20,75)\"}, \"mode\": \"lines\", \"type\": \"scatter\", \"x\": [365.0, 365.0, 375.0, 375.0], \"xaxis\": \"x\", \"y\": [0.0, 0.0, 0.0, 0.0], \"yaxis\": \"y2\"}, {\"hoverinfo\": \"text\", \"marker\": {\"color\": \"rgb(133,20,75)\"}, \"mode\": \"lines\", \"type\": \"scatter\", \"x\": [395.0, 395.0, 405.0, 405.0], \"xaxis\": \"x\", \"y\": [0.0, 0.709173886557931, 0.709173886557931, 0.0], \"yaxis\": \"y2\"}, {\"hoverinfo\": \"text\", \"marker\": {\"color\": \"rgb(133,20,75)\"}, \"mode\": \"lines\", \"type\": \"scatter\", \"x\": [425.0, 425.0, 435.0, 435.0], \"xaxis\": \"x\", \"y\": [0.0, 0.0, 0.0, 0.0], \"yaxis\": \"y2\"}, {\"hoverinfo\": \"text\", \"marker\": {\"color\": \"rgb(133,20,75)\"}, \"mode\": \"lines\", \"type\": \"scatter\", \"x\": [415.0, 415.0, 430.0, 430.0], \"xaxis\": \"x\", \"y\": [0.0, 0.6119268504010204, 0.6119268504010204, 0.0], \"yaxis\": \"y2\"}, {\"hoverinfo\": \"text\", \"marker\": {\"color\": \"rgb(133,20,75)\"}, \"mode\": \"lines\", \"type\": \"scatter\", \"x\": [400.0, 400.0, 422.5, 422.5], \"xaxis\": \"x\", \"y\": [0.709173886557931, 0.7537899083570724, 0.7537899083570724, 0.6119268504010204], \"yaxis\": \"y2\"}, {\"hoverinfo\": \"text\", \"marker\": {\"color\": \"rgb(133,20,75)\"}, \"mode\": \"lines\", \"type\": \"scatter\", \"x\": [455.0, 455.0, 465.0, 465.0], \"xaxis\": \"x\", \"y\": [0.0, 0.0, 0.0, 0.0], \"yaxis\": \"y2\"}, {\"hoverinfo\": \"text\", \"marker\": {\"color\": \"rgb(133,20,75)\"}, \"mode\": \"lines\", \"type\": \"scatter\", \"x\": [460.0, 460.0, 475.0, 475.0], \"xaxis\": \"x\", \"y\": [0.0, 0.3063526048416229, 0.3063526048416229, 0.0], \"yaxis\": \"y2\"}, {\"hoverinfo\": \"text\", \"marker\": {\"color\": \"rgb(133,20,75)\"}, \"mode\": \"lines\", \"type\": \"scatter\", \"x\": [445.0, 445.0, 467.5, 467.5], \"xaxis\": \"x\", \"y\": [0.0, 0.3711958490491744, 0.3711958490491744, 0.3063526048416229], \"yaxis\": \"y2\"}, {\"hoverinfo\": \"text\", \"marker\": {\"color\": \"rgb(133,20,75)\"}, \"mode\": \"lines\", \"type\": \"scatter\", \"x\": [411.25, 411.25, 456.25, 456.25], \"xaxis\": \"x\", \"y\": [0.7537899083570724, 0.7253391003708329, 0.7253391003708329, 0.3711958490491744], \"yaxis\": \"y2\"}, {\"hoverinfo\": \"text\", \"marker\": {\"color\": \"rgb(133,20,75)\"}, \"mode\": \"lines\", \"type\": \"scatter\", \"x\": [485.0, 485.0, 495.0, 495.0], \"xaxis\": \"x\", \"y\": [0.0, 0.0, 0.0, 0.0], \"yaxis\": \"y2\"}, {\"hoverinfo\": \"text\", \"marker\": {\"color\": \"rgb(133,20,75)\"}, \"mode\": \"lines\", \"type\": \"scatter\", \"x\": [490.0, 490.0, 505.0, 505.0], \"xaxis\": \"x\", \"y\": [0.0, 0.560899270815052, 0.560899270815052, 0.0], \"yaxis\": \"y2\"}, {\"hoverinfo\": \"text\", \"marker\": {\"color\": \"rgb(133,20,75)\"}, \"mode\": \"lines\", \"type\": \"scatter\", \"x\": [433.75, 433.75, 497.5, 497.5], \"xaxis\": \"x\", \"y\": [0.7253391003708329, 0.9028115493721016, 0.9028115493721016, 0.560899270815052], \"yaxis\": \"y2\"}, {\"hoverinfo\": \"text\", \"marker\": {\"color\": \"rgb(133,20,75)\"}, \"mode\": \"lines\", \"type\": \"scatter\", \"x\": [465.625, 465.625, 515.0, 515.0], \"xaxis\": \"x\", \"y\": [0.9028115493721016, 1.1502367021812407, 1.1502367021812407, 0.0], \"yaxis\": \"y2\"}, {\"hoverinfo\": \"text\", \"marker\": {\"color\": \"rgb(133,20,75)\"}, \"mode\": \"lines\", \"type\": \"scatter\", \"x\": [385.0, 385.0, 490.3125, 490.3125], \"xaxis\": \"x\", \"y\": [0.0, 1.4790251837201445, 1.4790251837201445, 1.1502367021812407], \"yaxis\": \"y2\"}, {\"hoverinfo\": \"text\", \"marker\": {\"color\": \"rgb(133,20,75)\"}, \"mode\": \"lines\", \"type\": \"scatter\", \"x\": [437.65625, 437.65625, 525.0, 525.0], \"xaxis\": \"x\", \"y\": [1.4790251837201445, 1.4569604548733117, 1.4569604548733117, 0.0], \"yaxis\": \"y2\"}, {\"hoverinfo\": \"text\", \"marker\": {\"color\": \"rgb(133,20,75)\"}, \"mode\": \"lines\", \"type\": \"scatter\", \"x\": [370.0, 370.0, 481.328125, 481.328125], \"xaxis\": \"x\", \"y\": [0.0, 1.8768240946058807, 1.8768240946058807, 1.4569604548733117], \"yaxis\": \"y2\"}, {\"hoverinfo\": \"text\", \"marker\": {\"color\": \"rgb(255,220,0)\"}, \"mode\": \"lines\", \"type\": \"scatter\", \"x\": [535.0, 535.0, 545.0, 545.0], \"xaxis\": \"x\", \"y\": [0.0, 1.7323179083156426, 1.7323179083156426, 0.0], \"yaxis\": \"y2\"}, {\"hoverinfo\": \"text\", \"marker\": {\"color\": \"rgb(255,220,0)\"}, \"mode\": \"lines\", \"type\": \"scatter\", \"x\": [565.0, 565.0, 575.0, 575.0], \"xaxis\": \"x\", \"y\": [0.0, 0.0, 0.0, 0.0], \"yaxis\": \"y2\"}, {\"hoverinfo\": \"text\", \"marker\": {\"color\": \"rgb(255,220,0)\"}, \"mode\": \"lines\", \"type\": \"scatter\", \"x\": [570.0, 570.0, 585.0, 585.0], \"xaxis\": \"x\", \"y\": [0.0, 0.0, 0.0, 0.0], \"yaxis\": \"y2\"}, {\"hoverinfo\": \"text\", \"marker\": {\"color\": \"rgb(255,220,0)\"}, \"mode\": \"lines\", \"type\": \"scatter\", \"x\": [555.0, 555.0, 577.5, 577.5], \"xaxis\": \"x\", \"y\": [0.0, 0.9155503795041794, 0.9155503795041794, 0.0], \"yaxis\": \"y2\"}, {\"hoverinfo\": \"text\", \"marker\": {\"color\": \"rgb(255,220,0)\"}, \"mode\": \"lines\", \"type\": \"scatter\", \"x\": [540.0, 540.0, 566.25, 566.25], \"xaxis\": \"x\", \"y\": [1.7323179083156426, 1.9229407955968576, 1.9229407955968576, 0.9155503795041794], \"yaxis\": \"y2\"}, {\"hoverinfo\": \"text\", \"marker\": {\"color\": \"rgb(0,116,217)\"}, \"mode\": \"lines\", \"type\": \"scatter\", \"x\": [425.6640625, 425.6640625, 553.125, 553.125], \"xaxis\": \"x\", \"y\": [1.8768240946058807, 2.6904135978027264, 2.6904135978027264, 1.9229407955968576], \"yaxis\": \"y2\"}, {\"hoverinfo\": \"text\", \"marker\": {\"color\": \"rgb(0,116,217)\"}, \"mode\": \"lines\", \"type\": \"scatter\", \"x\": [169.6923828125, 169.6923828125, 489.39453125, 489.39453125], \"xaxis\": \"x\", \"y\": [2.5097952887097805, 2.862143463357855, 2.862143463357855, 2.6904135978027264], \"yaxis\": \"y2\"}, {\"hoverinfo\": \"text\", \"marker\": {\"color\": \"rgb(61,153,112)\"}, \"mode\": \"lines\", \"type\": \"scatter\", \"x\": [-0.0, -0.0, -0.0, -0.0], \"xaxis\": \"x2\", \"y\": [15.0, 15.0, 25.0, 25.0], \"yaxis\": \"y\"}, {\"hoverinfo\": \"text\", \"marker\": {\"color\": \"rgb(61,153,112)\"}, \"mode\": \"lines\", \"type\": \"scatter\", \"x\": [-0.0, -0.0, -0.0, -0.0], \"xaxis\": \"x2\", \"y\": [20.0, 20.0, 35.0, 35.0], \"yaxis\": \"y\"}, {\"hoverinfo\": \"text\", \"marker\": {\"color\": \"rgb(61,153,112)\"}, \"mode\": \"lines\", \"type\": \"scatter\", \"x\": [-0.0, -0.2226002828703737, -0.2226002828703737, -0.0], \"xaxis\": \"x2\", \"y\": [5.0, 5.0, 27.5, 27.5], \"yaxis\": \"y\"}, {\"hoverinfo\": \"text\", \"marker\": {\"color\": \"rgb(61,153,112)\"}, \"mode\": \"lines\", \"type\": \"scatter\", \"x\": [-0.0, -0.0, -0.0, -0.0], \"xaxis\": \"x2\", \"y\": [55.0, 55.0, 65.0, 65.0], \"yaxis\": \"y\"}, {\"hoverinfo\": \"text\", \"marker\": {\"color\": \"rgb(61,153,112)\"}, \"mode\": \"lines\", \"type\": \"scatter\", \"x\": [-0.0, -0.0, -0.0, -0.0], \"xaxis\": \"x2\", \"y\": [60.0, 60.0, 75.0, 75.0], \"yaxis\": \"y\"}, {\"hoverinfo\": \"text\", \"marker\": {\"color\": \"rgb(61,153,112)\"}, \"mode\": \"lines\", \"type\": \"scatter\", \"x\": [-0.0, -0.3276521208435322, -0.3276521208435322, -0.0], \"xaxis\": \"x2\", \"y\": [45.0, 45.0, 67.5, 67.5], \"yaxis\": \"y\"}, {\"hoverinfo\": \"text\", \"marker\": {\"color\": \"rgb(61,153,112)\"}, \"mode\": \"lines\", \"type\": \"scatter\", \"x\": [-0.2226002828703737, -0.7332404103473346, -0.7332404103473346, -0.3276521208435322], \"xaxis\": \"x2\", \"y\": [16.25, 16.25, 56.25, 56.25], \"yaxis\": \"y\"}, {\"hoverinfo\": \"text\", \"marker\": {\"color\": \"rgb(255,65,54)\"}, \"mode\": \"lines\", \"type\": \"scatter\", \"x\": [-0.0, -0.029352850081975235, -0.029352850081975235, -0.0], \"xaxis\": \"x2\", \"y\": [105.0, 105.0, 115.0, 115.0], \"yaxis\": \"y\"}, {\"hoverinfo\": \"text\", \"marker\": {\"color\": \"rgb(255,65,54)\"}, \"mode\": \"lines\", \"type\": \"scatter\", \"x\": [-0.0, -0.29594340653154144, -0.29594340653154144, -0.029352850081975235], \"xaxis\": \"x2\", \"y\": [95.0, 95.0, 110.0, 110.0], \"yaxis\": \"y\"}, {\"hoverinfo\": \"text\", \"marker\": {\"color\": \"rgb(255,65,54)\"}, \"mode\": \"lines\", \"type\": \"scatter\", \"x\": [-0.0, -0.2688460996461375, -0.2688460996461375, -0.0], \"xaxis\": \"x2\", \"y\": [125.0, 125.0, 135.0, 135.0], \"yaxis\": \"y\"}, {\"hoverinfo\": \"text\", \"marker\": {\"color\": \"rgb(255,65,54)\"}, \"mode\": \"lines\", \"type\": \"scatter\", \"x\": [-0.29594340653154144, -0.36003821126300767, -0.36003821126300767, -0.2688460996461375], \"xaxis\": \"x2\", \"y\": [102.5, 102.5, 130.0, 130.0], \"yaxis\": \"y\"}, {\"hoverinfo\": \"text\", \"marker\": {\"color\": \"rgb(255,65,54)\"}, \"mode\": \"lines\", \"type\": \"scatter\", \"x\": [-0.0, -0.7615216629875541, -0.7615216629875541, -0.36003821126300767], \"xaxis\": \"x2\", \"y\": [85.0, 85.0, 116.25, 116.25], \"yaxis\": \"y\"}, {\"hoverinfo\": \"text\", \"marker\": {\"color\": \"rgb(255,65,54)\"}, \"mode\": \"lines\", \"type\": \"scatter\", \"x\": [-0.0, -0.1625596699392212, -0.1625596699392212, -0.0], \"xaxis\": \"x2\", \"y\": [155.0, 155.0, 165.0, 165.0], \"yaxis\": \"y\"}, {\"hoverinfo\": \"text\", \"marker\": {\"color\": \"rgb(255,65,54)\"}, \"mode\": \"lines\", \"type\": \"scatter\", \"x\": [-0.0, -0.0, -0.0, -0.0], \"xaxis\": \"x2\", \"y\": [175.0, 175.0, 185.0, 185.0], \"yaxis\": \"y\"}, {\"hoverinfo\": \"text\", \"marker\": {\"color\": \"rgb(255,65,54)\"}, \"mode\": \"lines\", \"type\": \"scatter\", \"x\": [-0.1625596699392212, -0.31581410172958435, -0.31581410172958435, -0.0], \"xaxis\": \"x2\", \"y\": [160.0, 160.0, 180.0, 180.0], \"yaxis\": \"y\"}, {\"hoverinfo\": \"text\", \"marker\": {\"color\": \"rgb(255,65,54)\"}, \"mode\": \"lines\", \"type\": \"scatter\", \"x\": [-0.31581410172958435, -0.5345571553806212, -0.5345571553806212, -0.0], \"xaxis\": \"x2\", \"y\": [170.0, 170.0, 195.0, 195.0], \"yaxis\": \"y\"}, {\"hoverinfo\": \"text\", \"marker\": {\"color\": \"rgb(255,65,54)\"}, \"mode\": \"lines\", \"type\": \"scatter\", \"x\": [-0.5345571553806212, -0.7697805017466831, -0.7697805017466831, -0.0], \"xaxis\": \"x2\", \"y\": [182.5, 182.5, 205.0, 205.0], \"yaxis\": \"y\"}, {\"hoverinfo\": \"text\", \"marker\": {\"color\": \"rgb(255,65,54)\"}, \"mode\": \"lines\", \"type\": \"scatter\", \"x\": [-0.0, -0.811685681935787, -0.811685681935787, -0.7697805017466831], \"xaxis\": \"x2\", \"y\": [145.0, 145.0, 193.75, 193.75], \"yaxis\": \"y\"}, {\"hoverinfo\": \"text\", \"marker\": {\"color\": \"rgb(255,65,54)\"}, \"mode\": \"lines\", \"type\": \"scatter\", \"x\": [-0.7615216629875541, -0.959222823649863, -0.959222823649863, -0.811685681935787], \"xaxis\": \"x2\", \"y\": [100.625, 100.625, 169.375, 169.375], \"yaxis\": \"y\"}, {\"hoverinfo\": \"text\", \"marker\": {\"color\": \"rgb(255,65,54)\"}, \"mode\": \"lines\", \"type\": \"scatter\", \"x\": [-0.0, -0.5734500922268383, -0.5734500922268383, -0.0], \"xaxis\": \"x2\", \"y\": [215.0, 215.0, 225.0, 225.0], \"yaxis\": \"y\"}, {\"hoverinfo\": \"text\", \"marker\": {\"color\": \"rgb(255,65,54)\"}, \"mode\": \"lines\", \"type\": \"scatter\", \"x\": [-0.5734500922268383, -0.5686858446086093, -0.5686858446086093, -0.0], \"xaxis\": \"x2\", \"y\": [220.0, 220.0, 235.0, 235.0], \"yaxis\": \"y\"}, {\"hoverinfo\": \"text\", \"marker\": {\"color\": \"rgb(255,65,54)\"}, \"mode\": \"lines\", \"type\": \"scatter\", \"x\": [-0.0, -0.0, -0.0, -0.0], \"xaxis\": \"x2\", \"y\": [245.0, 245.0, 255.0, 255.0], \"yaxis\": \"y\"}, {\"hoverinfo\": \"text\", \"marker\": {\"color\": \"rgb(255,65,54)\"}, \"mode\": \"lines\", \"type\": \"scatter\", \"x\": [-0.0, -0.0, -0.0, -0.0], \"xaxis\": \"x2\", \"y\": [285.0, 285.0, 295.0, 295.0], \"yaxis\": \"y\"}, {\"hoverinfo\": \"text\", \"marker\": {\"color\": \"rgb(255,65,54)\"}, \"mode\": \"lines\", \"type\": \"scatter\", \"x\": [-0.0, -0.0, -0.0, -0.0], \"xaxis\": \"x2\", \"y\": [290.0, 290.0, 305.0, 305.0], \"yaxis\": \"y\"}, {\"hoverinfo\": \"text\", \"marker\": {\"color\": \"rgb(255,65,54)\"}, \"mode\": \"lines\", \"type\": \"scatter\", \"x\": [-0.0, -0.25250409461172246, -0.25250409461172246, -0.0], \"xaxis\": \"x2\", \"y\": [275.0, 275.0, 297.5, 297.5], \"yaxis\": \"y\"}, {\"hoverinfo\": \"text\", \"marker\": {\"color\": \"rgb(255,65,54)\"}, \"mode\": \"lines\", \"type\": \"scatter\", \"x\": [-0.0, -0.32159146115760956, -0.32159146115760956, -0.25250409461172246], \"xaxis\": \"x2\", \"y\": [265.0, 265.0, 286.25, 286.25], \"yaxis\": \"y\"}, {\"hoverinfo\": \"text\", \"marker\": {\"color\": \"rgb(255,65,54)\"}, \"mode\": \"lines\", \"type\": \"scatter\", \"x\": [-0.32159146115760956, -0.5138966851721473, -0.5138966851721473, -0.0], \"xaxis\": \"x2\", \"y\": [275.625, 275.625, 315.0, 315.0], \"yaxis\": \"y\"}, {\"hoverinfo\": \"text\", \"marker\": {\"color\": \"rgb(255,65,54)\"}, \"mode\": \"lines\", \"type\": \"scatter\", \"x\": [-0.0, -0.653086921886911, -0.653086921886911, -0.5138966851721473], \"xaxis\": \"x2\", \"y\": [250.0, 250.0, 295.3125, 295.3125], \"yaxis\": \"y\"}, {\"hoverinfo\": \"text\", \"marker\": {\"color\": \"rgb(255,65,54)\"}, \"mode\": \"lines\", \"type\": \"scatter\", \"x\": [-0.5686858446086093, -0.6632751544732589, -0.6632751544732589, -0.653086921886911], \"xaxis\": \"x2\", \"y\": [227.5, 227.5, 272.65625, 272.65625], \"yaxis\": \"y\"}, {\"hoverinfo\": \"text\", \"marker\": {\"color\": \"rgb(255,65,54)\"}, \"mode\": \"lines\", \"type\": \"scatter\", \"x\": [-0.959222823649863, -1.37003701728022, -1.37003701728022, -0.6632751544732589], \"xaxis\": \"x2\", \"y\": [135.0, 135.0, 250.078125, 250.078125], \"yaxis\": \"y\"}, {\"hoverinfo\": \"text\", \"marker\": {\"color\": \"rgb(255,65,54)\"}, \"mode\": \"lines\", \"type\": \"scatter\", \"x\": [-1.37003701728022, -1.7721205705692586, -1.7721205705692586, -0.0], \"xaxis\": \"x2\", \"y\": [192.5390625, 192.5390625, 325.0, 325.0], \"yaxis\": \"y\"}, {\"hoverinfo\": \"text\", \"marker\": {\"color\": \"rgb(35,205,205)\"}, \"mode\": \"lines\", \"type\": \"scatter\", \"x\": [-0.0, -0.7684918206132706, -0.7684918206132706, -0.0], \"xaxis\": \"x2\", \"y\": [335.0, 335.0, 345.0, 345.0], \"yaxis\": \"y\"}, {\"hoverinfo\": \"text\", \"marker\": {\"color\": \"rgb(35,205,205)\"}, \"mode\": \"lines\", \"type\": \"scatter\", \"x\": [-0.7684918206132706, -0.9058421340760913, -0.9058421340760913, -0.0], \"xaxis\": \"x2\", \"y\": [340.0, 340.0, 355.0, 355.0], \"yaxis\": \"y\"}, {\"hoverinfo\": \"text\", \"marker\": {\"color\": \"rgb(0,116,217)\"}, \"mode\": \"lines\", \"type\": \"scatter\", \"x\": [-1.7721205705692586, -2.4050062819964624, -2.4050062819964624, -0.9058421340760913], \"xaxis\": \"x2\", \"y\": [258.76953125, 258.76953125, 347.5, 347.5], \"yaxis\": \"y\"}, {\"hoverinfo\": \"text\", \"marker\": {\"color\": \"rgb(0,116,217)\"}, \"mode\": \"lines\", \"type\": \"scatter\", \"x\": [-0.7332404103473346, -2.5097952887097805, -2.5097952887097805, -2.4050062819964624], \"xaxis\": \"x2\", \"y\": [36.25, 36.25, 303.134765625, 303.134765625], \"yaxis\": \"y\"}, {\"hoverinfo\": \"text\", \"marker\": {\"color\": \"rgb(133,20,75)\"}, \"mode\": \"lines\", \"type\": \"scatter\", \"x\": [-0.0, -0.0, -0.0, -0.0], \"xaxis\": \"x2\", \"y\": [365.0, 365.0, 375.0, 375.0], \"yaxis\": \"y\"}, {\"hoverinfo\": \"text\", \"marker\": {\"color\": \"rgb(133,20,75)\"}, \"mode\": \"lines\", \"type\": \"scatter\", \"x\": [-0.0, -0.709173886557931, -0.709173886557931, -0.0], \"xaxis\": \"x2\", \"y\": [395.0, 395.0, 405.0, 405.0], \"yaxis\": \"y\"}, {\"hoverinfo\": \"text\", \"marker\": {\"color\": \"rgb(133,20,75)\"}, \"mode\": \"lines\", \"type\": \"scatter\", \"x\": [-0.0, -0.0, -0.0, -0.0], \"xaxis\": \"x2\", \"y\": [425.0, 425.0, 435.0, 435.0], \"yaxis\": \"y\"}, {\"hoverinfo\": \"text\", \"marker\": {\"color\": \"rgb(133,20,75)\"}, \"mode\": \"lines\", \"type\": \"scatter\", \"x\": [-0.0, -0.6119268504010204, -0.6119268504010204, -0.0], \"xaxis\": \"x2\", \"y\": [415.0, 415.0, 430.0, 430.0], \"yaxis\": \"y\"}, {\"hoverinfo\": \"text\", \"marker\": {\"color\": \"rgb(133,20,75)\"}, \"mode\": \"lines\", \"type\": \"scatter\", \"x\": [-0.709173886557931, -0.7537899083570724, -0.7537899083570724, -0.6119268504010204], \"xaxis\": \"x2\", \"y\": [400.0, 400.0, 422.5, 422.5], \"yaxis\": \"y\"}, {\"hoverinfo\": \"text\", \"marker\": {\"color\": \"rgb(133,20,75)\"}, \"mode\": \"lines\", \"type\": \"scatter\", \"x\": [-0.0, -0.0, -0.0, -0.0], \"xaxis\": \"x2\", \"y\": [455.0, 455.0, 465.0, 465.0], \"yaxis\": \"y\"}, {\"hoverinfo\": \"text\", \"marker\": {\"color\": \"rgb(133,20,75)\"}, \"mode\": \"lines\", \"type\": \"scatter\", \"x\": [-0.0, -0.3063526048416229, -0.3063526048416229, -0.0], \"xaxis\": \"x2\", \"y\": [460.0, 460.0, 475.0, 475.0], \"yaxis\": \"y\"}, {\"hoverinfo\": \"text\", \"marker\": {\"color\": \"rgb(133,20,75)\"}, \"mode\": \"lines\", \"type\": \"scatter\", \"x\": [-0.0, -0.3711958490491744, -0.3711958490491744, -0.3063526048416229], \"xaxis\": \"x2\", \"y\": [445.0, 445.0, 467.5, 467.5], \"yaxis\": \"y\"}, {\"hoverinfo\": \"text\", \"marker\": {\"color\": \"rgb(133,20,75)\"}, \"mode\": \"lines\", \"type\": \"scatter\", \"x\": [-0.7537899083570724, -0.7253391003708329, -0.7253391003708329, -0.3711958490491744], \"xaxis\": \"x2\", \"y\": [411.25, 411.25, 456.25, 456.25], \"yaxis\": \"y\"}, {\"hoverinfo\": \"text\", \"marker\": {\"color\": \"rgb(133,20,75)\"}, \"mode\": \"lines\", \"type\": \"scatter\", \"x\": [-0.0, -0.0, -0.0, -0.0], \"xaxis\": \"x2\", \"y\": [485.0, 485.0, 495.0, 495.0], \"yaxis\": \"y\"}, {\"hoverinfo\": \"text\", \"marker\": {\"color\": \"rgb(133,20,75)\"}, \"mode\": \"lines\", \"type\": \"scatter\", \"x\": [-0.0, -0.560899270815052, -0.560899270815052, -0.0], \"xaxis\": \"x2\", \"y\": [490.0, 490.0, 505.0, 505.0], \"yaxis\": \"y\"}, {\"hoverinfo\": \"text\", \"marker\": {\"color\": \"rgb(133,20,75)\"}, \"mode\": \"lines\", \"type\": \"scatter\", \"x\": [-0.7253391003708329, -0.9028115493721016, -0.9028115493721016, -0.560899270815052], \"xaxis\": \"x2\", \"y\": [433.75, 433.75, 497.5, 497.5], \"yaxis\": \"y\"}, {\"hoverinfo\": \"text\", \"marker\": {\"color\": \"rgb(133,20,75)\"}, \"mode\": \"lines\", \"type\": \"scatter\", \"x\": [-0.9028115493721016, -1.1502367021812407, -1.1502367021812407, -0.0], \"xaxis\": \"x2\", \"y\": [465.625, 465.625, 515.0, 515.0], \"yaxis\": \"y\"}, {\"hoverinfo\": \"text\", \"marker\": {\"color\": \"rgb(133,20,75)\"}, \"mode\": \"lines\", \"type\": \"scatter\", \"x\": [-0.0, -1.4790251837201445, -1.4790251837201445, -1.1502367021812407], \"xaxis\": \"x2\", \"y\": [385.0, 385.0, 490.3125, 490.3125], \"yaxis\": \"y\"}, {\"hoverinfo\": \"text\", \"marker\": {\"color\": \"rgb(133,20,75)\"}, \"mode\": \"lines\", \"type\": \"scatter\", \"x\": [-1.4790251837201445, -1.4569604548733117, -1.4569604548733117, -0.0], \"xaxis\": \"x2\", \"y\": [437.65625, 437.65625, 525.0, 525.0], \"yaxis\": \"y\"}, {\"hoverinfo\": \"text\", \"marker\": {\"color\": \"rgb(133,20,75)\"}, \"mode\": \"lines\", \"type\": \"scatter\", \"x\": [-0.0, -1.8768240946058807, -1.8768240946058807, -1.4569604548733117], \"xaxis\": \"x2\", \"y\": [370.0, 370.0, 481.328125, 481.328125], \"yaxis\": \"y\"}, {\"hoverinfo\": \"text\", \"marker\": {\"color\": \"rgb(255,220,0)\"}, \"mode\": \"lines\", \"type\": \"scatter\", \"x\": [-0.0, -1.7323179083156426, -1.7323179083156426, -0.0], \"xaxis\": \"x2\", \"y\": [535.0, 535.0, 545.0, 545.0], \"yaxis\": \"y\"}, {\"hoverinfo\": \"text\", \"marker\": {\"color\": \"rgb(255,220,0)\"}, \"mode\": \"lines\", \"type\": \"scatter\", \"x\": [-0.0, -0.0, -0.0, -0.0], \"xaxis\": \"x2\", \"y\": [565.0, 565.0, 575.0, 575.0], \"yaxis\": \"y\"}, {\"hoverinfo\": \"text\", \"marker\": {\"color\": \"rgb(255,220,0)\"}, \"mode\": \"lines\", \"type\": \"scatter\", \"x\": [-0.0, -0.0, -0.0, -0.0], \"xaxis\": \"x2\", \"y\": [570.0, 570.0, 585.0, 585.0], \"yaxis\": \"y\"}, {\"hoverinfo\": \"text\", \"marker\": {\"color\": \"rgb(255,220,0)\"}, \"mode\": \"lines\", \"type\": \"scatter\", \"x\": [-0.0, -0.9155503795041794, -0.9155503795041794, -0.0], \"xaxis\": \"x2\", \"y\": [555.0, 555.0, 577.5, 577.5], \"yaxis\": \"y\"}, {\"hoverinfo\": \"text\", \"marker\": {\"color\": \"rgb(255,220,0)\"}, \"mode\": \"lines\", \"type\": \"scatter\", \"x\": [-1.7323179083156426, -1.9229407955968576, -1.9229407955968576, -0.9155503795041794], \"xaxis\": \"x2\", \"y\": [540.0, 540.0, 566.25, 566.25], \"yaxis\": \"y\"}, {\"hoverinfo\": \"text\", \"marker\": {\"color\": \"rgb(0,116,217)\"}, \"mode\": \"lines\", \"type\": \"scatter\", \"x\": [-1.8768240946058807, -2.6904135978027264, -2.6904135978027264, -1.9229407955968576], \"xaxis\": \"x2\", \"y\": [425.6640625, 425.6640625, 553.125, 553.125], \"yaxis\": \"y\"}, {\"hoverinfo\": \"text\", \"marker\": {\"color\": \"rgb(0,116,217)\"}, \"mode\": \"lines\", \"type\": \"scatter\", \"x\": [-2.5097952887097805, -2.862143463357855, -2.862143463357855, -2.6904135978027264], \"xaxis\": \"x2\", \"y\": [169.6923828125, 169.6923828125, 489.39453125, 489.39453125], \"yaxis\": \"y\"}, {\"colorbar\": {\"title\": {\"text\": \"Correlaci\\u00f3n (abs)\"}}, \"type\": \"heatmap\", \"x\": [5, 15, 25, 35, 45, 55, 65, 75, 85, 95, 105, 115, 125, 135, 145, 155, 165, 175, 185, 195, 205, 215, 225, 235, 245, 255, 265, 275, 285, 295, 305, 315, 325, 335, 345, 355, 365, 375, 385, 395, 405, 415, 425, 435, 445, 455, 465, 475, 485, 495, 505, 515, 525, 535, 545, 555, 565, 575, 585], \"y\": [5, 15, 25, 35, 45, 55, 65, 75, 85, 95, 105, 115, 125, 135, 145, 155, 165, 175, 185, 195, 205, 215, 225, 235, 245, 255, 265, 275, 285, 295, 305, 315, 325, 335, 345, 355, 365, 375, 385, 395, 405, 415, 425, 435, 445, 455, 465, 475, 485, 495, 505, 515, 525, 535, 545, 555, 565, 575, 585], \"z\": [[1.0, 0.9964468837907493, 0.9964468837907493, 0.9964468837907493, 0.9075470878163188, 0.8604354490248182, 0.8604354490248182, 0.8604354490248182, 0.5309189742597004, 0.5577785650649603, 0.5891431089875478, 0.597043035283676, 0.5123201796241794, 0.5472910465331224, 0.6017362324073491, 0.5279889997534616, 0.49336422635084765, 0.43661747401009854, 0.43661747401009854, 0.3479878613721205, 0.29765969900220574, 0.5933049918718245, 0.42063447276628707, 0.4550100142278063, 0.4614873089191161, 0.4614873089191161, 0.4421472504057532, 0.36728080937031155, 0.3423274031030006, 0.3423274031030006, 0.3423274031030006, 0.2332253609298242, 0.26040609170675166, 0.3240578671822735, 0.0642476147079002, 0.06623107250050131, 0.08206880266004143, 0.08206880266004143, 0.13337781439295146, 0.14181666335871276, 0.21039558997830404, 0.27795563904630716, 0.14156290455989917, 0.14156290455989917, 0.015948946628449166, 0.030760473318362958, 0.030760473318362958, 0.0738265763232332, 0.18263466931958228, 0.18263466931958228, 0.31087378438466684, 0.2513072341355524, 0.18529330298222052, 0.11949291842267666, 0.239949073048688, 0.4222529634725271, 0.3420213569795332, 0.3420213569795332, 0.3420213569795332], [0.9964468837907493, 1.0, 1.0, 1.0, 0.9396921790511394, 0.8909118577774785, 0.8909118577774785, 0.8909118577774785, 0.5497742461344434, 0.570776691446072, 0.601022726296427, 0.6091367554095051, 0.5350963696872163, 0.5612944090584414, 0.6309971135270699, 0.5414697627994691, 0.5121865945859027, 0.45196685387218416, 0.45196685387218416, 0.3797839839062706, 0.3180419581146699, 0.6068934976447125, 0.44209860904856085, 0.4665129737787905, 0.4907249630425602, 0.4907249630425602, 0.4745644051593947, 0.404329916901618, 0.37547515158017053, 0.37547515158017053, 0.37547515158017053, 0.26470626945084197, 0.2945586939727216, 0.3052003936603368, 0.08084861553688859, 0.05905953160727838, 0.06429210103699219, 0.06429210103699219, 0.13290390751867745, 0.1676359265199184, 0.20964802999719725, 0.2769680303597591, 0.17026895731801991, 0.17026895731801991, 0.031189254764986914, 0.008247605219254417, 0.008247605219254417, 0.053906014758734334, 0.1573490541545511, 0.1573490541545511, 0.2866409708291216, 0.2381181874805562, 0.1846349343439288, 0.11906834619733839, 0.24844800930049146, 0.36109816925326216, 0.2616618962644557, 0.2616618962644557, 0.2616618962644557], [0.9964468837907493, 1.0, 1.0, 1.0, 0.9396921790511394, 0.8909118577774785, 0.8909118577774785, 0.8909118577774785, 0.5497742461344434, 0.570776691446072, 0.601022726296427, 0.6091367554095051, 0.5350963696872163, 0.5612944090584414, 0.6309971135270699, 0.5414697627994691, 0.5121865945859027, 0.45196685387218416, 0.45196685387218416, 0.3797839839062706, 0.3180419581146699, 0.6068934976447125, 0.44209860904856085, 0.4665129737787905, 0.4907249630425602, 0.4907249630425602, 0.4745644051593947, 0.404329916901618, 0.37547515158017053, 0.37547515158017053, 0.37547515158017053, 0.26470626945084197, 0.2945586939727216, 0.3052003936603368, 0.08084861553688859, 0.05905953160727838, 0.06429210103699219, 0.06429210103699219, 0.13290390751867745, 0.1676359265199184, 0.20964802999719725, 0.2769680303597591, 0.17026895731801991, 0.17026895731801991, 0.031189254764986914, 0.008247605219254417, 0.008247605219254417, 0.053906014758734334, 0.1573490541545511, 0.1573490541545511, 0.2866409708291216, 0.2381181874805562, 0.1846349343439288, 0.11906834619733839, 0.24844800930049146, 0.36109816925326216, 0.2616618962644557, 0.2616618962644557, 0.2616618962644557], [0.9964468837907493, 1.0, 1.0, 1.0, 0.9396921790511394, 0.8909118577774785, 0.8909118577774785, 0.8909118577774785, 0.5497742461344434, 0.570776691446072, 0.601022726296427, 0.6091367554095051, 0.5350963696872163, 0.5612944090584414, 0.6309971135270699, 0.5414697627994691, 0.5121865945859027, 0.45196685387218416, 0.45196685387218416, 0.3797839839062706, 0.3180419581146699, 0.6068934976447125, 0.44209860904856085, 0.4665129737787905, 0.4907249630425602, 0.4907249630425602, 0.4745644051593947, 0.404329916901618, 0.37547515158017053, 0.37547515158017053, 0.37547515158017053, 0.26470626945084197, 0.2945586939727216, 0.3052003936603368, 0.08084861553688859, 0.05905953160727838, 0.06429210103699219, 0.06429210103699219, 0.13290390751867745, 0.1676359265199184, 0.20964802999719725, 0.2769680303597591, 0.17026895731801991, 0.17026895731801991, 0.031189254764986914, 0.008247605219254417, 0.008247605219254417, 0.053906014758734334, 0.1573490541545511, 0.1573490541545511, 0.2866409708291216, 0.2381181874805562, 0.1846349343439288, 0.11906834619733839, 0.24844800930049146, 0.36109816925326216, 0.2616618962644557, 0.2616618962644557, 0.2616618962644557], [0.9075470878163188, 0.9396921790511394, 0.9396921790511394, 0.9396921790511394, 1.0, 0.9480890419638086, 0.9480890419638086, 0.9480890419638086, 0.5852549033170916, 0.5809025609372108, 0.6043459847934526, 0.6127230439149856, 0.5875963605099817, 0.576211090427053, 0.7026633314148767, 0.5557458592257114, 0.5503428068101325, 0.4805203114539255, 0.4805203114539255, 0.4805203114539255, 0.3770423990824852, 0.6167175774889707, 0.4962208480456557, 0.4783594713337454, 0.5727803201229653, 0.5727803201229653, 0.5707391022701177, 0.5245634816554258, 0.4820222907622677, 0.4820222907622677, 0.4820222907622677, 0.3727630673212234, 0.41123383845311196, 0.2058129132953055, 0.1422208584048713, 0.025522891709019016, 0.012701837109633565, 0.012701837109633565, 0.1210466470316286, 0.2599561949990696, 0.19094390497420607, 0.2522578307585999, 0.2741153342721595, 0.2741153342721595, 0.09074726536823846, 0.08379073969923054, 0.08379073969923054, 0.03101765040189288, 0.042907596804799664, 0.042907596804799664, 0.1668119734185335, 0.16676297586405409, 0.16816239751338102, 0.10844545012917314, 0.2643929734004634, 0.08576894075984084, 0.08422355836525108, 0.08422355836525108, 0.08422355836525108], [0.8604354490248182, 0.8909118577774785, 0.8909118577774785, 0.8909118577774785, 0.9480890419638086, 1.0, 1.0, 1.0, 0.5403957024313496, 0.5525450461188913, 0.581867182760178, 0.588301629380891, 0.5605853338279567, 0.5432115484931351, 0.6758322684795537, 0.5198382114969027, 0.5142488731500773, 0.4508426060373453, 0.4508426060373453, 0.4508426060373453, 0.35757339373821195, 0.5879161086266498, 0.4510272339373128, 0.4341774343639014, 0.5452455775741811, 0.5452455775741811, 0.5420136741427991, 0.5120233819623299, 0.4446285722014271, 0.4446285722014271, 0.4446285722014271, 0.35042959974549853, 0.4689182188791279, 0.15234708112618522, 0.2118433539699705, 0.023846493643268973, 0.032922979963184475, 0.032922979963184475, 0.11476299961714806, 0.2464616198692249, 0.18103182393582357, 0.23916288509178954, 0.25988574465768094, 0.25988574465768094, 0.07144309145255129, 0.061424466492146695, 0.061424466492146695, 0.0068666268102511255, 0.02718347321357576, 0.02718347321357576, 0.15815260406646972, 0.23085424725265744, 0.1594329263527986, 0.10281594291830175, 0.05602070420949957, 0.09858303709087159, 0.0798514327612938, 0.0798514327612938, 0.0798514327612938], [0.8604354490248182, 0.8909118577774785, 0.8909118577774785, 0.8909118577774785, 0.9480890419638086, 1.0, 1.0, 1.0, 0.5403957024313496, 0.5525450461188913, 0.581867182760178, 0.588301629380891, 0.5605853338279567, 0.5432115484931351, 0.6758322684795537, 0.5198382114969027, 0.5142488731500773, 0.4508426060373453, 0.4508426060373453, 0.4508426060373453, 0.35757339373821195, 0.5879161086266498, 0.4510272339373128, 0.4341774343639014, 0.5452455775741811, 0.5452455775741811, 0.5420136741427991, 0.5120233819623299, 0.4446285722014271, 0.4446285722014271, 0.4446285722014271, 0.35042959974549853, 0.4689182188791279, 0.15234708112618522, 0.2118433539699705, 0.023846493643268973, 0.032922979963184475, 0.032922979963184475, 0.11476299961714806, 0.2464616198692249, 0.18103182393582357, 0.23916288509178954, 0.25988574465768094, 0.25988574465768094, 0.07144309145255129, 0.061424466492146695, 0.061424466492146695, 0.0068666268102511255, 0.02718347321357576, 0.02718347321357576, 0.15815260406646972, 0.23085424725265744, 0.1594329263527986, 0.10281594291830175, 0.05602070420949957, 0.09858303709087159, 0.0798514327612938, 0.0798514327612938, 0.0798514327612938], [0.8604354490248182, 0.8909118577774785, 0.8909118577774785, 0.8909118577774785, 0.9480890419638086, 1.0, 1.0, 1.0, 0.5403957024313496, 0.5525450461188913, 0.581867182760178, 0.588301629380891, 0.5605853338279567, 0.5432115484931351, 0.6758322684795537, 0.5198382114969027, 0.5142488731500773, 0.4508426060373453, 0.4508426060373453, 0.4508426060373453, 0.35757339373821195, 0.5879161086266498, 0.4510272339373128, 0.4341774343639014, 0.5452455775741811, 0.5452455775741811, 0.5420136741427991, 0.5120233819623299, 0.4446285722014271, 0.4446285722014271, 0.4446285722014271, 0.35042959974549853, 0.4689182188791279, 0.15234708112618522, 0.2118433539699705, 0.023846493643268973, 0.032922979963184475, 0.032922979963184475, 0.11476299961714806, 0.2464616198692249, 0.18103182393582357, 0.23916288509178954, 0.25988574465768094, 0.25988574465768094, 0.07144309145255129, 0.061424466492146695, 0.061424466492146695, 0.0068666268102511255, 0.02718347321357576, 0.02718347321357576, 0.15815260406646972, 0.23085424725265744, 0.1594329263527986, 0.10281594291830175, 0.05602070420949957, 0.09858303709087159, 0.0798514327612938, 0.0798514327612938, 0.0798514327612938], [0.5309189742597004, 0.5497742461344434, 0.5497742461344434, 0.5497742461344434, 0.5852549033170916, 0.5403957024313496, 0.5403957024313496, 0.5403957024313496, 1.0, 0.8378383756926141, 0.8905298690675065, 0.8959744948465692, 0.9095684034130597, 0.9145102023146623, 0.7502766240118605, 0.8473262959250722, 0.8668998581043015, 0.7754596553712353, 0.7754596553712353, 0.7509978590159596, 0.6024187896136562, 0.7882538698360319, 0.77110814454745, 0.7187689547462708, 0.5425396120324798, 0.5425396120324798, 0.6527413609383187, 0.6277762428378981, 0.6679088938252378, 0.6679088938252378, 0.6679088938252378, 0.5662828643789316, 0.38281149531709163, 0.440229486861374, 0.5194659081045865, 0.7217955665919372, 0.31262684849409783, 0.31262684849409783, 0.030242176287585833, 0.06946068101937179, 0.02430016136869525, 0.002267565357773273, 0.016733827900990445, 0.016733827900990445, 0.06459333325590443, 0.031019908554216317, 0.031019908554216317, 0.059775628028730356, 0.06648817897351754, 0.06648817897351754, 0.003529323252709044, 0.14336824502990617, 0.12414449083738327, 0.1339249820072048, 0.1986449513561076, 0.07550824512851587, 0.049831840186190045, 0.049831840186190045, 0.049831840186190045], [0.5577785650649603, 0.570776691446072, 0.570776691446072, 0.570776691446072, 0.5809025609372108, 0.5525450461188913, 0.5525450461188913, 0.5525450461188913, 0.8378383756926141, 1.0, 0.956818274084537, 0.9571757224823869, 0.9218157456270573, 0.9335980173949051, 0.8875463486519887, 0.8998493294415266, 0.8931948188122025, 0.8622890092191344, 0.8622890092191344, 0.8289770328067988, 0.8176617244220107, 0.8673180878874643, 0.8384762418923409, 0.7731492734537244, 0.674247486412046, 0.674247486412046, 0.755050295281412, 0.7338164089596924, 0.7419084152296544, 0.7419084152296544, 0.7419084152296544, 0.6674329181501311, 0.45510569330901524, 0.4769140846381047, 0.5771677222617357, 0.6284270481365569, 0.41555766422343093, 0.41555766422343093, 0.15981346942769725, 0.1330547632380979, 0.23973513513317674, 0.1110883554611743, 0.1000943751452733, 0.1000943751452733, 0.05764086201638962, 0.039628892120462056, 0.039628892120462056, 0.005798910417488819, 0.07008687042468176, 0.07008687042468176, 0.1452208972281486, 0.16601206886952435, 0.11375338848319172, 0.15521478578242795, 0.14813468233688734, 0.10634986672104864, 0.02363879460656318, 0.02363879460656318, 0.02363879460656318], [0.5891431089875478, 0.601022726296427, 0.601022726296427, 0.601022726296427, 0.6043459847934526, 0.581867182760178, 0.581867182760178, 0.581867182760178, 0.8905298690675065, 0.956818274084537, 1.0, 0.9995715591839943, 0.9790124809341144, 0.982865798750918, 0.9066049840828813, 0.9325233091057196, 0.9231458886038472, 0.8848424454059953, 0.8848424454059953, 0.8387664042375226, 0.8288671680658172, 0.895830262553189, 0.8677621676021727, 0.7967428900858272, 0.73347908241674, 0.73347908241674, 0.7890468642932883, 0.7632178830112404, 0.7729020013784415, 0.7729020013784415, 0.7729020013784415, 0.6844467825125898, 0.5403798667916934, 0.5075435113592426, 0.6120513274910192, 0.6741123363591098, 0.41495698024508815, 0.41495698024508815, 0.0634394787132802, 0.04800031833554973, 0.15383783912102358, 0.14491973122263102, 0.12268674271244172, 0.12268674271244172, 0.06679782526471446, 0.05209889591278342, 0.05209889591278342, 0.016867516378298943, 0.09947168590131894, 0.09947168590131894, 0.17581536996339528, 0.16719602582175247, 0.08813242744870742, 0.08291226587433578, 0.13281385035043605, 0.11543985392748234, 0.04560210609574801, 0.04560210609574801, 0.04560210609574801], [0.597043035283676, 0.6091367554095051, 0.6091367554095051, 0.6091367554095051, 0.6127230439149856, 0.588301629380891, 0.588301629380891, 0.588301629380891, 0.8959744948465692, 0.9571757224823869, 0.9995715591839943, 1.0, 0.9784132255555225, 0.9830293476197656, 0.9075549938488746, 0.9317862209063567, 0.9227575148834106, 0.8831989743501031, 0.8831989743501031, 0.8371229331816303, 0.8243078803150283, 0.8965149516300388, 0.8660577861251426, 0.7984090894982095, 0.7316248018231881, 0.7316248018231881, 0.787169750602508, 0.7607627518844028, 0.7711747634416707, 0.7711747634416707, 0.7711747634416707, 0.6821337621920537, 0.535626242747437, 0.4977940800038817, 0.6046818991547849, 0.6704921346777297, 0.4096276234968113, 0.4096276234968113, 0.0634394787132802, 0.04800031833554973, 0.15383783912102358, 0.14491973122263102, 0.12268674271244172, 0.12268674271244172, 0.06679782526471446, 0.05209889591278342, 0.05209889591278342, 0.016867516378298943, 0.09947168590131894, 0.09947168590131894, 0.17581536996339528, 0.1648273561747586, 0.08813242744870742, 0.08291226587433578, 0.13960124967630344, 0.11942125359589918, 0.04560210609574801, 0.04560210609574801, 0.04560210609574801], [0.5123201796241794, 0.5350963696872163, 0.5350963696872163, 0.5350963696872163, 0.5875963605099817, 0.5605853338279567, 0.5605853338279567, 0.5605853338279567, 0.9095684034130597, 0.9218157456270573, 0.9790124809341144, 0.9784132255555225, 1.0, 0.9871323223726475, 0.8993819264598456, 0.9496205491234653, 0.9515375771031095, 0.9101327349548252, 0.9101327349548252, 0.8940983751463283, 0.8338224648844667, 0.90231636048332, 0.9026495946683026, 0.8106614245523744, 0.7553210927923869, 0.7553210927923869, 0.8358872810365999, 0.8198513116128114, 0.8243227354897031, 0.8243227354897031, 0.8243227354897031, 0.7501466577260204, 0.5688937281642181, 0.5584181287340826, 0.5968332715970164, 0.6983001256258313, 0.48276568920417623, 0.48276568920417623, 0.1012020973529666, 0.07948989359814941, 0.1398652627008542, 0.15828567174827732, 0.18953311594681424, 0.18953311594681424, 0.11330773184211694, 0.12580417558178694, 0.12580417558178694, 0.08784008228187053, 0.07674988453268378, 0.07674988453268378, 0.14557457289725867, 0.24901194122940695, 0.032329549776339235, 0.13961106607799248, 0.1447671669912528, 0.0032700522499714327, 0.09920186865926313, 0.09920186865926313, 0.09920186865926313], [0.5472910465331224, 0.5612944090584414, 0.5612944090584414, 0.5612944090584414, 0.576211090427053, 0.5432115484931351, 0.5432115484931351, 0.5432115484931351, 0.9145102023146623, 0.9335980173949051, 0.982865798750918, 0.9830293476197656, 0.9871323223726475, 1.0, 0.8883128436048705, 0.9643249499062505, 0.9604754413935633, 0.9165372184099708, 0.9165372184099708, 0.8785219363776917, 0.8244066251492633, 0.9275497435948842, 0.914741879918441, 0.8495570162021508, 0.7423037084114622, 0.7423037084114622, 0.8260210571414874, 0.8023138162959498, 0.8218170243051764, 0.8218170243051764, 0.8218170243051764, 0.7576044718368475, 0.5283613907896011, 0.509440360904119, 0.6079014602298023, 0.689563082954938, 0.4996092108469407, 0.4996092108469407, 0.12887415894759435, 0.08978568009564343, 0.18350231294219357, 0.20757009655922973, 0.19705662073769786, 0.19705662073769786, 0.13164841784810902, 0.13082872682899227, 0.13082872682899227, 0.09304161090834545, 0.14683351969394384, 0.14683351969394384, 0.21966673414625354, 0.29023056653592694, 0.07069601572820254, 0.14731817862945532, 0.16171076638049842, 0.10247235765745705, 0.009252052847773383, 0.009252052847773383, 0.009252052847773383], [0.6017362324073491, 0.6309971135270699, 0.6309971135270699, 0.6309971135270699, 0.7026633314148767, 0.6758322684795537, 0.6758322684795537, 0.6758322684795537, 0.7502766240118605, 0.8875463486519887, 0.9066049840828813, 0.9075549938488746, 0.8993819264598456, 0.8883128436048705, 1.0, 0.8921685893219349, 0.8827996109833958, 0.8599528791684432, 0.8599528791684432, 0.8599528791684432, 0.8892327559585307, 0.9096087381760758, 0.8884854143132692, 0.8284904024013465, 0.8913296215435247, 0.8913296215435247, 0.8920077329241802, 0.885452552221369, 0.8674004855348063, 0.8674004855348063, 0.8674004855348063, 0.7805415602622953, 0.6316067518231372, 0.38784272276988235, 0.4094492558110527, 0.4352840517131485, 0.5095243432946025, 0.5095243432946025, 0.20769762889604299, 0.3527583574307289, 0.40012353881255097, 0.35581734748381993, 0.396760607653404, 0.396760607653404, 0.3022780255223634, 0.303276519466103, 0.303276519466103, 0.2527799495977336, 0.22115140713459422, 0.22115140713459422, 0.30239748839548647, 0.22568434214384916, 0.2885410879978933, 0.028102595126064174, 0.1565292289563218, 0.027125465526968963, 0.14451481142703057, 0.14451481142703057, 0.14451481142703057], [0.5279889997534616, 0.5414697627994691, 0.5414697627994691, 0.5414697627994691, 0.5557458592257114, 0.5198382114969027, 0.5198382114969027, 0.5198382114969027, 0.8473262959250722, 0.8998493294415266, 0.9325233091057196, 0.9317862209063567, 0.9496205491234653, 0.9643249499062505, 0.8921685893219349, 1.0, 0.9945664108211634, 0.9659141216493848, 0.9659141216493848, 0.9339895804757258, 0.8429276810883655, 0.9760972365269428, 0.9679922351513445, 0.9031806961978444, 0.7924178872104114, 0.7924178872104114, 0.8921330847645287, 0.869077924554275, 0.8831837393324978, 0.8831837393324978, 0.8831837393324978, 0.8213414462604488, 0.5004838421022587, 0.47780787190442164, 0.5796949441049155, 0.5931162979397152, 0.6069198352871196, 0.6069198352871196, 0.36899591317068625, 0.24215719204179612, 0.3299865241487806, 0.36551526395725753, 0.3519938791478395, 0.3519938791478395, 0.2811360723495725, 0.28864286116568166, 0.28864286116568166, 0.24616176712738888, 0.2894021020016203, 0.2894021020016203, 0.36134342647944884, 0.3754041558597524, 0.07065149801168676, 0.1434236187881006, 0.16834118079580038, 0.10635687685777186, 0.009246226773112405, 0.009246226773112405, 0.009246226773112405], [0.49336422635084765, 0.5121865945859027, 0.5121865945859027, 0.5121865945859027, 0.5503428068101325, 0.5142488731500773, 0.5142488731500773, 0.5142488731500773, 0.8668998581043015, 0.8931948188122025, 0.9231458886038472, 0.9227575148834106, 0.9515375771031095, 0.9604754413935633, 0.8827996109833958, 0.9945664108211634, 1.0, 0.9607430018827922, 0.9607430018827922, 0.9434035341761469, 0.8271692299509674, 0.9655231951359453, 0.9677987939341502, 0.8972112472451945, 0.77229680721318, 0.77229680721318, 0.8879131833942812, 0.870871748669025, 0.8897446393609187, 0.8897446393609187, 0.8897446393609187, 0.8218203154322615, 0.4959720226213032, 0.5084905941114488, 0.5765231352525927, 0.6234301309764959, 0.6092904192156354, 0.6092904192156354, 0.3689674762967987, 0.23148523622164366, 0.2995975669808757, 0.3384198355900108, 0.3519667525450961, 0.3519667525450961, 0.28439778336292904, 0.297221855459598, 0.297221855459598, 0.25690393988071347, 0.2592493844104783, 0.2592493844104783, 0.3227585101827089, 0.39097161120424184, 0.032329549776339235, 0.14341256576768927, 0.1683282074897081, 0.048680589155235106, 0.06082049075986057, 0.06082049075986057, 0.06082049075986057], [0.43661747401009854, 0.45196685387218416, 0.45196685387218416, 0.45196685387218416, 0.4805203114539255, 0.4508426060373453, 0.4508426060373453, 0.4508426060373453, 0.7754596553712353, 0.8622890092191344, 0.8848424454059953, 0.8831989743501031, 0.9101327349548252, 0.9165372184099708, 0.8599528791684432, 0.9659141216493848, 0.9607430018827922, 1.0, 1.0, 0.9760283253301674, 0.8382910208790105, 0.9251987061844641, 0.9334621881353824, 0.8316310449539354, 0.7578875210375914, 0.7578875210375914, 0.8551807602707848, 0.845339700112379, 0.842304428454472, 0.842304428454472, 0.842304428454472, 0.8263320135583585, 0.4351340061570871, 0.4747838181899877, 0.5419618920492933, 0.5749304628997906, 0.6155343753589658, 0.6155343753589658, 0.42068181986964187, 0.21281585591786312, 0.296625103341575, 0.3319757415135821, 0.33871320971616287, 0.33871320971616287, 0.2643998272925442, 0.26218658717231996, 0.26218658717231996, 0.2169939544121075, 0.2531960368054884, 0.2531960368054884, 0.3360560907122722, 0.4053797134683844, 0.010776516592113079, 0.12202913001314478, 0.14140130406290205, 0.050654960325029176, 0.03923096569144663, 0.03923096569144663, 0.03923096569144663], [0.43661747401009854, 0.45196685387218416, 0.45196685387218416, 0.45196685387218416, 0.4805203114539255, 0.4508426060373453, 0.4508426060373453, 0.4508426060373453, 0.7754596553712353, 0.8622890092191344, 0.8848424454059953, 0.8831989743501031, 0.9101327349548252, 0.9165372184099708, 0.8599528791684432, 0.9659141216493848, 0.9607430018827922, 1.0, 1.0, 0.9760283253301674, 0.8382910208790105, 0.9251987061844641, 0.9334621881353824, 0.8316310449539354, 0.7578875210375914, 0.7578875210375914, 0.8551807602707848, 0.845339700112379, 0.842304428454472, 0.842304428454472, 0.842304428454472, 0.8263320135583585, 0.4351340061570871, 0.4747838181899877, 0.5419618920492933, 0.5749304628997906, 0.6155343753589658, 0.6155343753589658, 0.42068181986964187, 0.21281585591786312, 0.296625103341575, 0.3319757415135821, 0.33871320971616287, 0.33871320971616287, 0.2643998272925442, 0.26218658717231996, 0.26218658717231996, 0.2169939544121075, 0.2531960368054884, 0.2531960368054884, 0.3360560907122722, 0.4053797134683844, 0.010776516592113079, 0.12202913001314478, 0.14140130406290205, 0.050654960325029176, 0.03923096569144663, 0.03923096569144663, 0.03923096569144663], [0.3479878613721205, 0.3797839839062706, 0.3797839839062706, 0.3797839839062706, 0.4805203114539255, 0.4508426060373453, 0.4508426060373453, 0.4508426060373453, 0.7509978590159596, 0.8289770328067988, 0.8387664042375226, 0.8371229331816303, 0.8940983751463283, 0.8785219363776917, 0.8599528791684432, 0.9339895804757258, 0.9434035341761469, 0.9760283253301674, 0.9760283253301674, 1.0, 0.8382910208790105, 0.894588488850099, 0.932637450787738, 0.8116066186932042, 0.7821096043361802, 0.7821096043361802, 0.886067584640692, 0.8903110008570618, 0.8801422548327791, 0.8801422548327791, 0.8801422548327791, 0.8683691454422823, 0.48384624051100017, 0.5176914565102566, 0.4821325254555721, 0.5619802331948656, 0.655156806861353, 0.655156806861353, 0.42068181986964187, 0.2826606627090752, 0.296625103341575, 0.3173802719293993, 0.40238224170089926, 0.40238224170089926, 0.3060136984021262, 0.32404382893435657, 0.32404382893435657, 0.2761371860402861, 0.18703381001096617, 0.18703381001096617, 0.26222079327945197, 0.4504206734175669, 0.010776516592113079, 0.09209231995678248, 0.14140130406290205, 0.12243157889358453, 0.2495289320985898, 0.2495289320985898, 0.2495289320985898], [0.29765969900220574, 0.3180419581146699, 0.3180419581146699, 0.3180419581146699, 0.3770423990824852, 0.35757339373821195, 0.35757339373821195, 0.35757339373821195, 0.6024187896136562, 0.8176617244220107, 0.8288671680658172, 0.8243078803150283, 0.8338224648844667, 0.8244066251492633, 0.8892327559585307, 0.8429276810883655, 0.8271692299509674, 0.8382910208790105, 0.8382910208790105, 0.8382910208790105, 1.0, 0.8274967018516838, 0.8761335351407161, 0.7908236073405892, 0.8483613735041695, 0.8483613735041695, 0.8495495671421616, 0.8606274331889737, 0.854798883679441, 0.854798883679441, 0.854798883679441, 0.827189261271187, 0.6625518655138233, 0.6079747537345052, 0.6149231427585992, 0.5139952474258347, 0.6864130934438853, 0.6864130934438853, 0.19747401721543353, 0.2937108406717541, 0.39674296939102033, 0.32096926354590577, 0.3606711427889107, 0.3606711427889107, 0.3316773817786563, 0.31863493886110267, 0.31863493886110267, 0.27822946504797547, 0.2565012227455928, 0.2565012227455928, 0.30933006238781113, 0.4031957776141031, 0.2743380754104577, 0.00883349792229151, 0.09937309152607308, 0.05479769030824186, 0.13740128142681102, 0.13740128142681102, 0.13740128142681102], [0.5933049918718245, 0.6068934976447125, 0.6068934976447125, 0.6068934976447125, 0.6167175774889707, 0.5879161086266498, 0.5879161086266498, 0.5879161086266498, 0.7882538698360319, 0.8673180878874643, 0.895830262553189, 0.8965149516300388, 0.90231636048332, 0.9275497435948842, 0.9096087381760758, 0.9760972365269428, 0.9655231951359453, 0.9251987061844641, 0.9251987061844641, 0.894588488850099, 0.8274967018516838, 1.0, 0.9707652748595985, 0.950329412573049, 0.8499683775218991, 0.8499683775218991, 0.9343464291973597, 0.9067427533099055, 0.9172920114689589, 0.9172920114689589, 0.9172920114689589, 0.8538023501878916, 0.5555317282097276, 0.36861658673305864, 0.47239115964227163, 0.4667399988863917, 0.6314948771183951, 0.6314948771183951, 0.4029064042356334, 0.392327109743909, 0.4747465087562953, 0.5190790252931492, 0.4924261125462147, 0.4924261125462147, 0.4105603415510597, 0.4102165391418768, 0.4102165391418768, 0.3615155868432161, 0.4153817017574534, 0.4153817017574534, 0.4915499890881038, 0.41359432388146833, 0.24234357885942195, 0.16332010680040765, 0.15331192355469583, 0.11280697408282885, 0.027794301090376217, 0.027794301090376217, 0.027794301090376217], [0.42063447276628707, 0.44209860904856085, 0.44209860904856085, 0.44209860904856085, 0.4962208480456557, 0.4510272339373128, 0.4510272339373128, 0.4510272339373128, 0.77110814454745, 0.8384762418923409, 0.8677621676021727, 0.8660577861251426, 0.9026495946683026, 0.914741879918441, 0.8884854143132692, 0.9679922351513445, 0.9677987939341502, 0.9334621881353824, 0.9334621881353824, 0.932637450787738, 0.8761335351407161, 0.9707652748595985, 1.0, 0.9570574809010548, 0.8633877368205923, 0.8633877368205923, 0.9548593095345775, 0.9441565899064936, 0.9673208491751655, 0.9673208491751655, 0.9673208491751655, 0.917795693487848, 0.5826433270724988, 0.5084233767349736, 0.5618608923319948, 0.5502375551816802, 0.749991883473187, 0.749991883473187, 0.3788878640415018, 0.3916133844960866, 0.45990097336569286, 0.4847006031001691, 0.5108769353549817, 0.5108769353549817, 0.43915888682249604, 0.45228430670266484, 0.45228430670266484, 0.40472268745385725, 0.37639045312913233, 0.37639045312913233, 0.43699525707284786, 0.5300316829381366, 0.2241943033512761, 0.15190413942129366, 0.19013583195927714, 0.019112995433260293, 0.11228694567083876, 0.11228694567083876, 0.11228694567083876], [0.4550100142278063, 0.4665129737787905, 0.4665129737787905, 0.4665129737787905, 0.4783594713337454, 0.4341774343639014, 0.4341774343639014, 0.4341774343639014, 0.7187689547462708, 0.7731492734537244, 0.7967428900858272, 0.7984090894982095, 0.8106614245523744, 0.8495570162021508, 0.8284904024013465, 0.9031806961978444, 0.8972112472451945, 0.8316310449539354, 0.8316310449539354, 0.8116066186932042, 0.7908236073405892, 0.950329412573049, 0.9570574809010548, 1.0, 0.828054646533783, 0.828054646533783, 0.9180508006781581, 0.8993441180432551, 0.9425151068342682, 0.9425151068342682, 0.9425151068342682, 0.884686173861116, 0.5531551830953825, 0.3966034379569661, 0.5057835518529885, 0.4641818787186441, 0.7550847668365992, 0.7550847668365992, 0.3689674762967987, 0.483818650812909, 0.5982635786290318, 0.6023966083928373, 0.5782975654677827, 0.5782975654677827, 0.5261649396936174, 0.5316267029033299, 0.5316267029033299, 0.48403721364704894, 0.5132625031782461, 0.5132625031782461, 0.5668856219207159, 0.5615755172191534, 0.4037202419600881, 0.14673887799617397, 0.18515752213146186, 0.11622053625527401, 0.009245514207538377, 0.009245514207538377, 0.009245514207538377], [0.4614873089191161, 0.4907249630425602, 0.4907249630425602, 0.4907249630425602, 0.5727803201229653, 0.5452455775741811, 0.5452455775741811, 0.5452455775741811, 0.5425396120324798, 0.674247486412046, 0.73347908241674, 0.7316248018231881, 0.7553210927923869, 0.7423037084114622, 0.8913296215435247, 0.7924178872104114, 0.77229680721318, 0.7578875210375914, 0.7578875210375914, 0.7821096043361802, 0.8483613735041695, 0.8499683775218991, 0.8633877368205923, 0.828054646533783, 1.0, 1.0, 0.9430316922827354, 0.9301732362375251, 0.9095640778322409, 0.9095640778322409, 0.9095640778322409, 0.8620461892161981, 0.7419637484475607, 0.31876325095834873, 0.31185016883698113, 0.24428437218681684, 0.6343711714226183, 0.6343711714226183, 0.22690219333010678, 0.5046768191683986, 0.5498979889412272, 0.5518534863805682, 0.5999220957415762, 0.5999220957415762, 0.5068794793646285, 0.5183142549855795, 0.5183142549855795, 0.46337850291061167, 0.39507460180461756, 0.39507460180461756, 0.45975087700604844, 0.39095774547380985, 0.4618049086060528, 0.15292002904875368, 0.1447706831202169, 0.06871389887614308, 0.18666396910265876, 0.18666396910265876, 0.18666396910265876], [0.4614873089191161, 0.4907249630425602, 0.4907249630425602, 0.4907249630425602, 0.5727803201229653, 0.5452455775741811, 0.5452455775741811, 0.5452455775741811, 0.5425396120324798, 0.674247486412046, 0.73347908241674, 0.7316248018231881, 0.7553210927923869, 0.7423037084114622, 0.8913296215435247, 0.7924178872104114, 0.77229680721318, 0.7578875210375914, 0.7578875210375914, 0.7821096043361802, 0.8483613735041695, 0.8499683775218991, 0.8633877368205923, 0.828054646533783, 1.0, 1.0, 0.9430316922827354, 0.9301732362375251, 0.9095640778322409, 0.9095640778322409, 0.9095640778322409, 0.8620461892161981, 0.7419637484475607, 0.31876325095834873, 0.31185016883698113, 0.24428437218681684, 0.6343711714226183, 0.6343711714226183, 0.22690219333010678, 0.5046768191683986, 0.5498979889412272, 0.5518534863805682, 0.5999220957415762, 0.5999220957415762, 0.5068794793646285, 0.5183142549855795, 0.5183142549855795, 0.46337850291061167, 0.39507460180461756, 0.39507460180461756, 0.45975087700604844, 0.39095774547380985, 0.4618049086060528, 0.15292002904875368, 0.1447706831202169, 0.06871389887614308, 0.18666396910265876, 0.18666396910265876, 0.18666396910265876], [0.4421472504057532, 0.4745644051593947, 0.4745644051593947, 0.4745644051593947, 0.5707391022701177, 0.5420136741427991, 0.5420136741427991, 0.5420136741427991, 0.6527413609383187, 0.755050295281412, 0.7890468642932883, 0.787169750602508, 0.8358872810365999, 0.8260210571414874, 0.8920077329241802, 0.8921330847645287, 0.8879131833942812, 0.8551807602707848, 0.8551807602707848, 0.886067584640692, 0.8495495671421616, 0.9343464291973597, 0.9548593095345775, 0.9180508006781581, 0.9430316922827354, 0.9430316922827354, 1.0, 0.9893722744945731, 0.9780379464301426, 0.9780379464301426, 0.9780379464301426, 0.9366758857340857, 0.700740021185754, 0.40465085108306703, 0.380696559233901, 0.36601212646184306, 0.7274671372699417, 0.7274671372699417, 0.36904298882512654, 0.5423502616246093, 0.5597666108244839, 0.5788824874502317, 0.6433876034377921, 0.6433876034377921, 0.5353878207602022, 0.559693571708316, 0.559693571708316, 0.5030321942585655, 0.4043465323703719, 0.4043465323703719, 0.471056112393148, 0.5020822289111014, 0.3660773395932965, 0.15294761069767612, 0.14816334668283254, 0.10073410795294416, 0.2279860568896788, 0.2279860568896788, 0.2279860568896788], [0.36728080937031155, 0.404329916901618, 0.404329916901618, 0.404329916901618, 0.5245634816554258, 0.5120233819623299, 0.5120233819623299, 0.5120233819623299, 0.6277762428378981, 0.7338164089596924, 0.7632178830112404, 0.7607627518844028, 0.8198513116128114, 0.8023138162959498, 0.885452552221369, 0.869077924554275, 0.870871748669025, 0.845339700112379, 0.845339700112379, 0.8903110008570618, 0.8606274331889737, 0.9067427533099055, 0.9441565899064936, 0.8993441180432551, 0.9301732362375251, 0.9301732362375251, 0.9893722744945731, 1.0, 0.9825060848666559, 0.9825060848666559, 0.9825060848666559, 0.9499203939031047, 0.7204128595236129, 0.45782915351645403, 0.3784698674466485, 0.38037633920395536, 0.765655905844999, 0.765655905844999, 0.3620722304870863, 0.5426756651329214, 0.5598550770630601, 0.5674545675299806, 0.6597802184657194, 0.6597802184657194, 0.5570809492477716, 0.5759785652775978, 0.5759785652775978, 0.5174258796200045, 0.39014449037092336, 0.39014449037092336, 0.45687630144593777, 0.5224160950327029, 0.3660024338876923, 0.13913587861678037, 0.09413897877731019, 0.19359120647157924, 0.3023033267102683, 0.3023033267102683, 0.3023033267102683], [0.3423274031030006, 0.37547515158017053, 0.37547515158017053, 0.37547515158017053, 0.4820222907622677, 0.4446285722014271, 0.4446285722014271, 0.4446285722014271, 0.6679088938252378, 0.7419084152296544, 0.7729020013784415, 0.7711747634416707, 0.8243227354897031, 0.8218170243051764, 0.8674004855348063, 0.8831837393324978, 0.8897446393609187, 0.842304428454472, 0.842304428454472, 0.8801422548327791, 0.854798883679441, 0.9172920114689589, 0.9673208491751655, 0.9425151068342682, 0.9095640778322409, 0.9095640778322409, 0.9780379464301426, 0.9825060848666559, 1.0, 1.0, 1.0, 0.9493115276478866, 0.6861602544913641, 0.4932918684416809, 0.4612076069236282, 0.4482302032799032, 0.7981106791025532, 0.7981106791025532, 0.3413864930579491, 0.5166125880525327, 0.5473804755604211, 0.5620220724482803, 0.6409622864876635, 0.6409622864876635, 0.5627233690787579, 0.5821709211356351, 0.5821709211356351, 0.5305164810775265, 0.41366269848365106, 0.41366269848365106, 0.4630177790924802, 0.5816133934624684, 0.3660024338876923, 0.15624262722041596, 0.16496234456135733, 0.12243157889358453, 0.26632078492957845, 0.26632078492957845, 0.26632078492957845], [0.3423274031030006, 0.37547515158017053, 0.37547515158017053, 0.37547515158017053, 0.4820222907622677, 0.4446285722014271, 0.4446285722014271, 0.4446285722014271, 0.6679088938252378, 0.7419084152296544, 0.7729020013784415, 0.7711747634416707, 0.8243227354897031, 0.8218170243051764, 0.8674004855348063, 0.8831837393324978, 0.8897446393609187, 0.842304428454472, 0.842304428454472, 0.8801422548327791, 0.854798883679441, 0.9172920114689589, 0.9673208491751655, 0.9425151068342682, 0.9095640778322409, 0.9095640778322409, 0.9780379464301426, 0.9825060848666559, 1.0, 1.0, 1.0, 0.9493115276478866, 0.6861602544913641, 0.4932918684416809, 0.4612076069236282, 0.4482302032799032, 0.7981106791025532, 0.7981106791025532, 0.3413864930579491, 0.5166125880525327, 0.5473804755604211, 0.5620220724482803, 0.6409622864876635, 0.6409622864876635, 0.5627233690787579, 0.5821709211356351, 0.5821709211356351, 0.5305164810775265, 0.41366269848365106, 0.41366269848365106, 0.4630177790924802, 0.5816133934624684, 0.3660024338876923, 0.15624262722041596, 0.16496234456135733, 0.12243157889358453, 0.26632078492957845, 0.26632078492957845, 0.26632078492957845], [0.3423274031030006, 0.37547515158017053, 0.37547515158017053, 0.37547515158017053, 0.4820222907622677, 0.4446285722014271, 0.4446285722014271, 0.4446285722014271, 0.6679088938252378, 0.7419084152296544, 0.7729020013784415, 0.7711747634416707, 0.8243227354897031, 0.8218170243051764, 0.8674004855348063, 0.8831837393324978, 0.8897446393609187, 0.842304428454472, 0.842304428454472, 0.8801422548327791, 0.854798883679441, 0.9172920114689589, 0.9673208491751655, 0.9425151068342682, 0.9095640778322409, 0.9095640778322409, 0.9780379464301426, 0.9825060848666559, 1.0, 1.0, 1.0, 0.9493115276478866, 0.6861602544913641, 0.4932918684416809, 0.4612076069236282, 0.4482302032799032, 0.7981106791025532, 0.7981106791025532, 0.3413864930579491, 0.5166125880525327, 0.5473804755604211, 0.5620220724482803, 0.6409622864876635, 0.6409622864876635, 0.5627233690787579, 0.5821709211356351, 0.5821709211356351, 0.5305164810775265, 0.41366269848365106, 0.41366269848365106, 0.4630177790924802, 0.5816133934624684, 0.3660024338876923, 0.15624262722041596, 0.16496234456135733, 0.12243157889358453, 0.26632078492957845, 0.26632078492957845, 0.26632078492957845], [0.2332253609298242, 0.26470626945084197, 0.26470626945084197, 0.26470626945084197, 0.3727630673212234, 0.35042959974549853, 0.35042959974549853, 0.35042959974549853, 0.5662828643789316, 0.6674329181501311, 0.6844467825125898, 0.6821337621920537, 0.7501466577260204, 0.7576044718368475, 0.7805415602622953, 0.8213414462604488, 0.8218203154322615, 0.8263320135583585, 0.8263320135583585, 0.8683691454422823, 0.827189261271187, 0.8538023501878916, 0.917795693487848, 0.884686173861116, 0.8620461892161981, 0.8620461892161981, 0.9366758857340857, 0.9499203939031047, 0.9493115276478866, 0.9493115276478866, 0.9493115276478866, 1.0, 0.6558008609071226, 0.4362578193160846, 0.37197398103535456, 0.3929604550589789, 0.832469187099956, 0.832469187099956, 0.3620722304870863, 0.5144767801445131, 0.5615995589005325, 0.5739414429007285, 0.6580095848995158, 0.6580095848995158, 0.5808787947316739, 0.5854399278646069, 0.5854399278646069, 0.5292631373004855, 0.4262898643769414, 0.4262898643769414, 0.48719383082488765, 0.693982104206276, 0.3660024338876923, 0.15244112753071917, 0.1076024304907132, 0.16792438126425627, 0.2807138016418544, 0.2807138016418544, 0.2807138016418544], [0.26040609170675166, 0.2945586939727216, 0.2945586939727216, 0.2945586939727216, 0.41123383845311196, 0.4689182188791279, 0.4689182188791279, 0.4689182188791279, 0.38281149531709163, 0.45510569330901524, 0.5403798667916934, 0.535626242747437, 0.5688937281642181, 0.5283613907896011, 0.6316067518231372, 0.5004838421022587, 0.4959720226213032, 0.4351340061570871, 0.4351340061570871, 0.48384624051100017, 0.6625518655138233, 0.5555317282097276, 0.5826433270724988, 0.5531551830953825, 0.7419637484475607, 0.7419637484475607, 0.700740021185754, 0.7204128595236129, 0.6861602544913641, 0.6861602544913641, 0.6861602544913641, 0.6558008609071226, 1.0, 0.36791647390807203, 0.1903134047551694, 0.17011359674014814, 0.4380010561377879, 0.4380010561377879, 0.12346799528016295, 0.2795163971840181, 0.32075635786241524, 0.3206007044884499, 0.41577461939072324, 0.41577461939072324, 0.3697672287742803, 0.35567273024785656, 0.35567273024785656, 0.314807555459286, 0.20941656713930587, 0.20941656713930587, 0.24858907739580957, 0.23291875906096188, 0.45221456662459697, 0.17097343851799107, 0.13095310455614656, 0.3256272784515578, 0.3023033267102683, 0.3023033267102683, 0.3023033267102683], [0.3240578671822735, 0.3052003936603368, 0.3052003936603368, 0.3052003936603368, 0.2058129132953055, 0.15234708112618522, 0.15234708112618522, 0.15234708112618522, 0.440229486861374, 0.4769140846381047, 0.5075435113592426, 0.4977940800038817, 0.5584181287340826, 0.509440360904119, 0.38784272276988235, 0.47780787190442164, 0.5084905941114488, 0.4747838181899877, 0.4747838181899877, 0.5176914565102566, 0.6079747537345052, 0.36861658673305864, 0.5084233767349736, 0.3966034379569661, 0.31876325095834873, 0.31876325095834873, 0.40465085108306703, 0.45782915351645403, 0.4932918684416809, 0.4932918684416809, 0.4932918684416809, 0.4362578193160846, 0.36791647390807203, 1.0, 0.810119933017295, 0.8113983053453189, 0.5146488688536062, 0.5146488688536062, 0.0888032897688051, 0.12244472953429412, 0.09791915745991167, 0.147503768091455, 0.02860013654253826, 0.02860013654253826, 0.0062384242004848165, 0.024916734942878726, 0.024916734942878726, 0.023623570696024557, 0.12943627313211625, 0.12943627313211625, 0.15027459812342106, 0.2809051240368001, 0.12336875478009551, 0.0025196614990341416, 0.18416029395386566, 0.36184205899293154, 0.30838329280788246, 0.30838329280788246, 0.30838329280788246], [0.0642476147079002, 0.08084861553688859, 0.08084861553688859, 0.08084861553688859, 0.1422208584048713, 0.2118433539699705, 0.2118433539699705, 0.2118433539699705, 0.5194659081045865, 0.5771677222617357, 0.6120513274910192, 0.6046818991547849, 0.5968332715970164, 0.6079014602298023, 0.4094492558110527, 0.5796949441049155, 0.5765231352525927, 0.5419618920492933, 0.5419618920492933, 0.4821325254555721, 0.6149231427585992, 0.47239115964227163, 0.5618608923319948, 0.5057835518529885, 0.31185016883698113, 0.31185016883698113, 0.380696559233901, 0.3784698674466485, 0.4612076069236282, 0.4612076069236282, 0.4612076069236282, 0.37197398103535456, 0.1903134047551694, 0.810119933017295, 1.0, 0.7907167814506373, 0.4902450730260483, 0.4902450730260483, 0.046643453236680725, 0.2043089913516891, 0.026031262177369317, 0.06528594413889878, 0.12434345116681118, 0.12434345116681118, 0.03352690504998449, 0.05611722457511864, 0.05611722457511864, 0.05023242775325164, 0.06689035404149052, 0.06689035404149052, 0.05448560683570541, 0.2610071485398317, 0.06479877895778484, 0.023678729417292703, 0.19593214862815864, 0.2513871409343639, 0.16579220723134844, 0.16579220723134844, 0.16579220723134844], [0.06623107250050131, 0.05905953160727838, 0.05905953160727838, 0.05905953160727838, 0.025522891709019016, 0.023846493643268973, 0.023846493643268973, 0.023846493643268973, 0.7217955665919372, 0.6284270481365569, 0.6741123363591098, 0.6704921346777297, 0.6983001256258313, 0.689563082954938, 0.4352840517131485, 0.5931162979397152, 0.6234301309764959, 0.5749304628997906, 0.5749304628997906, 0.5619802331948656, 0.5139952474258347, 0.4667399988863917, 0.5502375551816802, 0.4641818787186441, 0.24428437218681684, 0.24428437218681684, 0.36601212646184306, 0.38037633920395536, 0.4482302032799032, 0.4482302032799032, 0.4482302032799032, 0.3929604550589789, 0.17011359674014814, 0.8113983053453189, 0.7907167814506373, 1.0, 0.3263475836253803, 0.3263475836253803, 0.1732591329811807, 0.30699987072418317, 0.24375641935172876, 0.2510334069482603, 0.20581991645726191, 0.20581991645726191, 0.14793507253899577, 0.12493090518951355, 0.12493090518951355, 0.11270500753576096, 0.16948377585448873, 0.16948377585448873, 0.201958521764898, 0.2607273583442675, 0.24069787893911776, 0.07046810544769051, 0.007814009014234924, 0.08692239218789506, 0.10004060154768024, 0.10004060154768024, 0.10004060154768024], [0.08206880266004143, 0.06429210103699219, 0.06429210103699219, 0.06429210103699219, 0.012701837109633565, 0.032922979963184475, 0.032922979963184475, 0.032922979963184475, 0.31262684849409783, 0.41555766422343093, 0.41495698024508815, 0.4096276234968113, 0.48276568920417623, 0.4996092108469407, 0.5095243432946025, 0.6069198352871196, 0.6092904192156354, 0.6155343753589658, 0.6155343753589658, 0.655156806861353, 0.6864130934438853, 0.6314948771183951, 0.749991883473187, 0.7550847668365992, 0.6343711714226183, 0.6343711714226183, 0.7274671372699417, 0.765655905844999, 0.7981106791025532, 0.7981106791025532, 0.7981106791025532, 0.832469187099956, 0.4380010561377879, 0.5146488688536062, 0.4902450730260483, 0.3263475836253803, 1.0, 1.0, 0.42070235153374824, 0.5351243614717508, 0.5810954521635914, 0.5941794013022291, 0.6570873636565862, 0.6570873636565862, 0.5866773167457446, 0.5880558930381578, 0.5880558930381578, 0.5353515503627531, 0.4574946493990836, 0.4574946493990836, 0.514497773728353, 0.7770060285795225, 0.3564407035114978, 0.12773761356507995, 0.13972519164951563, 0.10170564518211019, 0.223152625377821, 0.223152625377821, 0.223152625377821], [0.08206880266004143, 0.06429210103699219, 0.06429210103699219, 0.06429210103699219, 0.012701837109633565, 0.032922979963184475, 0.032922979963184475, 0.032922979963184475, 0.31262684849409783, 0.41555766422343093, 0.41495698024508815, 0.4096276234968113, 0.48276568920417623, 0.4996092108469407, 0.5095243432946025, 0.6069198352871196, 0.6092904192156354, 0.6155343753589658, 0.6155343753589658, 0.655156806861353, 0.6864130934438853, 0.6314948771183951, 0.749991883473187, 0.7550847668365992, 0.6343711714226183, 0.6343711714226183, 0.7274671372699417, 0.765655905844999, 0.7981106791025532, 0.7981106791025532, 0.7981106791025532, 0.832469187099956, 0.4380010561377879, 0.5146488688536062, 0.4902450730260483, 0.3263475836253803, 1.0, 1.0, 0.42070235153374824, 0.5351243614717508, 0.5810954521635914, 0.5941794013022291, 0.6570873636565862, 0.6570873636565862, 0.5866773167457446, 0.5880558930381578, 0.5880558930381578, 0.5353515503627531, 0.4574946493990836, 0.4574946493990836, 0.514497773728353, 0.7770060285795225, 0.3564407035114978, 0.12773761356507995, 0.13972519164951563, 0.10170564518211019, 0.223152625377821, 0.223152625377821, 0.223152625377821], [0.13337781439295146, 0.13290390751867745, 0.13290390751867745, 0.13290390751867745, 0.1210466470316286, 0.11476299961714806, 0.11476299961714806, 0.11476299961714806, 0.030242176287585833, 0.15981346942769725, 0.0634394787132802, 0.0634394787132802, 0.1012020973529666, 0.12887415894759435, 0.20769762889604299, 0.36899591317068625, 0.3689674762967987, 0.42068181986964187, 0.42068181986964187, 0.42068181986964187, 0.19747401721543353, 0.4029064042356334, 0.3788878640415018, 0.3689674762967987, 0.22690219333010678, 0.22690219333010678, 0.36904298882512654, 0.3620722304870863, 0.3413864930579491, 0.3413864930579491, 0.3413864930579491, 0.3620722304870863, 0.12346799528016295, 0.0888032897688051, 0.046643453236680725, 0.1732591329811807, 0.42070235153374824, 0.42070235153374824, 1.0, 0.5602357539672718, 0.5391699178094003, 0.5728312614680579, 0.547252676326963, 0.547252676326963, 0.5011660674086831, 0.5316798457465768, 0.5316798457465768, 0.5083521892229413, 0.5017898103426928, 0.5017898103426928, 0.5239433187803657, 0.3620722304870863, 0.09108190948327063, 0.05873738016700149, 0.03200388292884867, 0.05631917738891245, 0.04561806106964158, 0.04561806106964158, 0.04561806106964158], [0.14181666335871276, 0.1676359265199184, 0.1676359265199184, 0.1676359265199184, 0.2599561949990696, 0.2464616198692249, 0.2464616198692249, 0.2464616198692249, 0.06946068101937179, 0.1330547632380979, 0.04800031833554973, 0.04800031833554973, 0.07948989359814941, 0.08978568009564343, 0.3527583574307289, 0.24215719204179612, 0.23148523622164366, 0.21281585591786312, 0.21281585591786312, 0.2826606627090752, 0.2937108406717541, 0.392327109743909, 0.3916133844960866, 0.483818650812909, 0.5046768191683986, 0.5046768191683986, 0.5423502616246093, 0.5426756651329214, 0.5166125880525327, 0.5166125880525327, 0.5166125880525327, 0.5144767801445131, 0.2795163971840181, 0.12244472953429412, 0.2043089913516891, 0.30699987072418317, 0.5351243614717508, 0.5351243614717508, 0.5602357539672718, 1.0, 0.8581658908183206, 0.7594615198209025, 0.8254700530283949, 0.8254700530283949, 0.6808803142464668, 0.7825074257273529, 0.7825074257273529, 0.7386008123819798, 0.4955759221581538, 0.4955759221581538, 0.5086679720365315, 0.4376484523929708, 0.6341210341973098, 0.1261426584450357, 0.06873059134967469, 0.16148497490955277, 0.24518621041336996, 0.24518621041336996, 0.24518621041336996], [0.21039558997830404, 0.20964802999719725, 0.20964802999719725, 0.20964802999719725, 0.19094390497420607, 0.18103182393582357, 0.18103182393582357, 0.18103182393582357, 0.02430016136869525, 0.23973513513317674, 0.15383783912102358, 0.15383783912102358, 0.1398652627008542, 0.18350231294219357, 0.40012353881255097, 0.3299865241487806, 0.2995975669808757, 0.296625103341575, 0.296625103341575, 0.296625103341575, 0.39674296939102033, 0.4747465087562953, 0.45990097336569286, 0.5982635786290318, 0.5498979889412272, 0.5498979889412272, 0.5597666108244839, 0.5598550770630601, 0.5473804755604211, 0.5473804755604211, 0.5473804755604211, 0.5615995589005325, 0.32075635786241524, 0.09791915745991167, 0.026031262177369317, 0.24375641935172876, 0.5810954521635914, 0.5810954521635914, 0.5391699178094003, 0.8581658908183206, 1.0, 0.7704762219608284, 0.7185920469117119, 0.7185920469117119, 0.7185958410769073, 0.7526633684009523, 0.7526633684009523, 0.7133777812970028, 0.6991177635829727, 0.6991177635829727, 0.7047203878869037, 0.44896440503987617, 0.7490344282087421, 0.24128281161033788, 0.05048422678882589, 0.0888401613698896, 0.07195978518688903, 0.07195978518688903, 0.07195978518688903], [0.27795563904630716, 0.2769680303597591, 0.2769680303597591, 0.2769680303597591, 0.2522578307585999, 0.23916288509178954, 0.23916288509178954, 0.23916288509178954, 0.002267565357773273, 0.1110883554611743, 0.14491973122263102, 0.14491973122263102, 0.15828567174827732, 0.20757009655922973, 0.35581734748381993, 0.36551526395725753, 0.3384198355900108, 0.3319757415135821, 0.3319757415135821, 0.3173802719293993, 0.32096926354590577, 0.5190790252931492, 0.4847006031001691, 0.6023966083928373, 0.5518534863805682, 0.5518534863805682, 0.5788824874502317, 0.5674545675299806, 0.5620220724482803, 0.5620220724482803, 0.5620220724482803, 0.5739414429007285, 0.3206007044884499, 0.147503768091455, 0.06528594413889878, 0.2510334069482603, 0.5941794013022291, 0.5941794013022291, 0.5728312614680579, 0.7594615198209025, 0.7704762219608284, 1.0, 0.9299057522767564, 0.9299057522767564, 0.8693730577950078, 0.8134500982065702, 0.8134500982065702, 0.7686454164029227, 0.8704550650119405, 0.8704550650119405, 0.9146555958513828, 0.5962786893410716, 0.6059858343066338, 0.39079132757997354, 0.06669519793781711, 0.11736759230120326, 0.0950667648467313, 0.0950667648467313, 0.0950667648467313], [0.14156290455989917, 0.17026895731801991, 0.17026895731801991, 0.17026895731801991, 0.2741153342721595, 0.25988574465768094, 0.25988574465768094, 0.25988574465768094, 0.016733827900990445, 0.1000943751452733, 0.12268674271244172, 0.12268674271244172, 0.18953311594681424, 0.19705662073769786, 0.396760607653404, 0.3519938791478395, 0.3519667525450961, 0.33871320971616287, 0.33871320971616287, 0.40238224170089926, 0.3606711427889107, 0.4924261125462147, 0.5108769353549817, 0.5782975654677827, 0.5999220957415762, 0.5999220957415762, 0.6433876034377921, 0.6597802184657194, 0.6409622864876635, 0.6409622864876635, 0.6409622864876635, 0.6580095848995158, 0.41577461939072324, 0.02860013654253826, 0.12434345116681118, 0.20581991645726191, 0.6570873636565862, 0.6570873636565862, 0.547252676326963, 0.8254700530283949, 0.7185920469117119, 0.9299057522767564, 1.0, 1.0, 0.8999650879435929, 0.8822114773246416, 0.8822114773246416, 0.8331465000406704, 0.7155359419844377, 0.7155359419844377, 0.7481598385002878, 0.6581018053977556, 0.5540043915060341, 0.3572692617303455, 0.07247416828287823, 0.18586131978551437, 0.2774711938731786, 0.2774711938731786, 0.2774711938731786], [0.14156290455989917, 0.17026895731801991, 0.17026895731801991, 0.17026895731801991, 0.2741153342721595, 0.25988574465768094, 0.25988574465768094, 0.25988574465768094, 0.016733827900990445, 0.1000943751452733, 0.12268674271244172, 0.12268674271244172, 0.18953311594681424, 0.19705662073769786, 0.396760607653404, 0.3519938791478395, 0.3519667525450961, 0.33871320971616287, 0.33871320971616287, 0.40238224170089926, 0.3606711427889107, 0.4924261125462147, 0.5108769353549817, 0.5782975654677827, 0.5999220957415762, 0.5999220957415762, 0.6433876034377921, 0.6597802184657194, 0.6409622864876635, 0.6409622864876635, 0.6409622864876635, 0.6580095848995158, 0.41577461939072324, 0.02860013654253826, 0.12434345116681118, 0.20581991645726191, 0.6570873636565862, 0.6570873636565862, 0.547252676326963, 0.8254700530283949, 0.7185920469117119, 0.9299057522767564, 1.0, 1.0, 0.8999650879435929, 0.8822114773246416, 0.8822114773246416, 0.8331465000406704, 0.7155359419844377, 0.7155359419844377, 0.7481598385002878, 0.6581018053977556, 0.5540043915060341, 0.3572692617303455, 0.07247416828287823, 0.18586131978551437, 0.2774711938731786, 0.2774711938731786, 0.2774711938731786], [0.015948946628449166, 0.031189254764986914, 0.031189254764986914, 0.031189254764986914, 0.09074726536823846, 0.07144309145255129, 0.07144309145255129, 0.07144309145255129, 0.06459333325590443, 0.05764086201638962, 0.06679782526471446, 0.06679782526471446, 0.11330773184211694, 0.13164841784810902, 0.3022780255223634, 0.2811360723495725, 0.28439778336292904, 0.2643998272925442, 0.2643998272925442, 0.3060136984021262, 0.3316773817786563, 0.4105603415510597, 0.43915888682249604, 0.5261649396936174, 0.5068794793646285, 0.5068794793646285, 0.5353878207602022, 0.5570809492477716, 0.5627233690787579, 0.5627233690787579, 0.5627233690787579, 0.5808787947316739, 0.3697672287742803, 0.0062384242004848165, 0.03352690504998449, 0.14793507253899577, 0.5866773167457446, 0.5866773167457446, 0.5011660674086831, 0.6808803142464668, 0.7185958410769073, 0.8693730577950078, 0.8999650879435929, 0.8999650879435929, 1.0, 0.938510009909378, 0.938510009909378, 0.9271110143527715, 0.8708430492362266, 0.8708430492362266, 0.8050734322584021, 0.7110444700371746, 0.5672610909234441, 0.27684041972912604, 0.06825039344762804, 0.09594628534030458, 0.16521529256953368, 0.16521529256953368, 0.16521529256953368], [0.030760473318362958, 0.008247605219254417, 0.008247605219254417, 0.008247605219254417, 0.08379073969923054, 0.061424466492146695, 0.061424466492146695, 0.061424466492146695, 0.031019908554216317, 0.039628892120462056, 0.05209889591278342, 0.05209889591278342, 0.12580417558178694, 0.13082872682899227, 0.303276519466103, 0.28864286116568166, 0.297221855459598, 0.26218658717231996, 0.26218658717231996, 0.32404382893435657, 0.31863493886110267, 0.4102165391418768, 0.45228430670266484, 0.5316267029033299, 0.5183142549855795, 0.5183142549855795, 0.559693571708316, 0.5759785652775978, 0.5821709211356351, 0.5821709211356351, 0.5821709211356351, 0.5854399278646069, 0.35567273024785656, 0.024916734942878726, 0.05611722457511864, 0.12493090518951355, 0.5880558930381578, 0.5880558930381578, 0.5316798457465768, 0.7825074257273529, 0.7526633684009523, 0.8134500982065702, 0.8822114773246416, 0.8822114773246416, 0.938510009909378, 1.0, 1.0, 0.99377061237255, 0.759408895802548, 0.759408895802548, 0.655352700823648, 0.6783153867442812, 0.5200795257029629, 0.1888282574816113, 0.07679274807530405, 0.16934346495383906, 0.26048004152729864, 0.26048004152729864, 0.26048004152729864], [0.030760473318362958, 0.008247605219254417, 0.008247605219254417, 0.008247605219254417, 0.08379073969923054, 0.061424466492146695, 0.061424466492146695, 0.061424466492146695, 0.031019908554216317, 0.039628892120462056, 0.05209889591278342, 0.05209889591278342, 0.12580417558178694, 0.13082872682899227, 0.303276519466103, 0.28864286116568166, 0.297221855459598, 0.26218658717231996, 0.26218658717231996, 0.32404382893435657, 0.31863493886110267, 0.4102165391418768, 0.45228430670266484, 0.5316267029033299, 0.5183142549855795, 0.5183142549855795, 0.559693571708316, 0.5759785652775978, 0.5821709211356351, 0.5821709211356351, 0.5821709211356351, 0.5854399278646069, 0.35567273024785656, 0.024916734942878726, 0.05611722457511864, 0.12493090518951355, 0.5880558930381578, 0.5880558930381578, 0.5316798457465768, 0.7825074257273529, 0.7526633684009523, 0.8134500982065702, 0.8822114773246416, 0.8822114773246416, 0.938510009909378, 1.0, 1.0, 0.99377061237255, 0.759408895802548, 0.759408895802548, 0.655352700823648, 0.6783153867442812, 0.5200795257029629, 0.1888282574816113, 0.07679274807530405, 0.16934346495383906, 0.26048004152729864, 0.26048004152729864, 0.26048004152729864], [0.0738265763232332, 0.053906014758734334, 0.053906014758734334, 0.053906014758734334, 0.03101765040189288, 0.0068666268102511255, 0.0068666268102511255, 0.0068666268102511255, 0.059775628028730356, 0.005798910417488819, 0.016867516378298943, 0.016867516378298943, 0.08784008228187053, 0.09304161090834545, 0.2527799495977336, 0.24616176712738888, 0.25690393988071347, 0.2169939544121075, 0.2169939544121075, 0.2761371860402861, 0.27822946504797547, 0.3615155868432161, 0.40472268745385725, 0.48403721364704894, 0.46337850291061167, 0.46337850291061167, 0.5030321942585655, 0.5174258796200045, 0.5305164810775265, 0.5305164810775265, 0.5305164810775265, 0.5292631373004855, 0.314807555459286, 0.023623570696024557, 0.05023242775325164, 0.11270500753576096, 0.5353515503627531, 0.5353515503627531, 0.5083521892229413, 0.7386008123819798, 0.7133777812970028, 0.7686454164029227, 0.8331465000406704, 0.8331465000406704, 0.9271110143527715, 0.99377061237255, 0.99377061237255, 1.0, 0.7559050919202119, 0.7559050919202119, 0.6214472365327534, 0.6649506042133736, 0.48833249229326403, 0.17478558723346646, 0.07656063198719738, 0.1563927428488065, 0.24457964904453455, 0.24457964904453455, 0.24457964904453455], [0.18263466931958228, 0.1573490541545511, 0.1573490541545511, 0.1573490541545511, 0.042907596804799664, 0.02718347321357576, 0.02718347321357576, 0.02718347321357576, 0.06648817897351754, 0.07008687042468176, 0.09947168590131894, 0.09947168590131894, 0.07674988453268378, 0.14683351969394384, 0.22115140713459422, 0.2894021020016203, 0.2592493844104783, 0.2531960368054884, 0.2531960368054884, 0.18703381001096617, 0.2565012227455928, 0.4153817017574534, 0.37639045312913233, 0.5132625031782461, 0.39507460180461756, 0.39507460180461756, 0.4043465323703719, 0.39014449037092336, 0.41366269848365106, 0.41366269848365106, 0.41366269848365106, 0.4262898643769414, 0.20941656713930587, 0.12943627313211625, 0.06689035404149052, 0.16948377585448873, 0.4574946493990836, 0.4574946493990836, 0.5017898103426928, 0.4955759221581538, 0.6991177635829727, 0.8704550650119405, 0.7155359419844377, 0.7155359419844377, 0.8708430492362266, 0.759408895802548, 0.759408895802548, 0.7559050919202119, 1.0, 1.0, 0.9529966155108327, 0.5762925878546614, 0.5422586091990824, 0.31443463479367495, 0.052276114404611704, 0.30831299759821956, 0.33733944792607834, 0.33733944792607834, 0.33733944792607834], [0.18263466931958228, 0.1573490541545511, 0.1573490541545511, 0.1573490541545511, 0.042907596804799664, 0.02718347321357576, 0.02718347321357576, 0.02718347321357576, 0.06648817897351754, 0.07008687042468176, 0.09947168590131894, 0.09947168590131894, 0.07674988453268378, 0.14683351969394384, 0.22115140713459422, 0.2894021020016203, 0.2592493844104783, 0.2531960368054884, 0.2531960368054884, 0.18703381001096617, 0.2565012227455928, 0.4153817017574534, 0.37639045312913233, 0.5132625031782461, 0.39507460180461756, 0.39507460180461756, 0.4043465323703719, 0.39014449037092336, 0.41366269848365106, 0.41366269848365106, 0.41366269848365106, 0.4262898643769414, 0.20941656713930587, 0.12943627313211625, 0.06689035404149052, 0.16948377585448873, 0.4574946493990836, 0.4574946493990836, 0.5017898103426928, 0.4955759221581538, 0.6991177635829727, 0.8704550650119405, 0.7155359419844377, 0.7155359419844377, 0.8708430492362266, 0.759408895802548, 0.759408895802548, 0.7559050919202119, 1.0, 1.0, 0.9529966155108327, 0.5762925878546614, 0.5422586091990824, 0.31443463479367495, 0.052276114404611704, 0.30831299759821956, 0.33733944792607834, 0.33733944792607834, 0.33733944792607834], [0.31087378438466684, 0.2866409708291216, 0.2866409708291216, 0.2866409708291216, 0.1668119734185335, 0.15815260406646972, 0.15815260406646972, 0.15815260406646972, 0.003529323252709044, 0.1452208972281486, 0.17581536996339528, 0.17581536996339528, 0.14557457289725867, 0.21966673414625354, 0.30239748839548647, 0.36134342647944884, 0.3227585101827089, 0.3360560907122722, 0.3360560907122722, 0.26222079327945197, 0.30933006238781113, 0.4915499890881038, 0.43699525707284786, 0.5668856219207159, 0.45975087700604844, 0.45975087700604844, 0.471056112393148, 0.45687630144593777, 0.4630177790924802, 0.4630177790924802, 0.4630177790924802, 0.48719383082488765, 0.24858907739580957, 0.15027459812342106, 0.05448560683570541, 0.201958521764898, 0.514497773728353, 0.514497773728353, 0.5239433187803657, 0.5086679720365315, 0.7047203878869037, 0.9146555958513828, 0.7481598385002878, 0.7481598385002878, 0.8050734322584021, 0.655352700823648, 0.655352700823648, 0.6214472365327534, 0.9529966155108327, 0.9529966155108327, 1.0, 0.5365842931324791, 0.5542683343552314, 0.3574394745812136, 0.04410391365092514, 0.32576689693127614, 0.3643700084510418, 0.3643700084510418, 0.3643700084510418], [0.2513072341355524, 0.2381181874805562, 0.2381181874805562, 0.2381181874805562, 0.16676297586405409, 0.23085424725265744, 0.23085424725265744, 0.23085424725265744, 0.14336824502990617, 0.16601206886952435, 0.16719602582175247, 0.1648273561747586, 0.24901194122940695, 0.29023056653592694, 0.22568434214384916, 0.3754041558597524, 0.39097161120424184, 0.4053797134683844, 0.4053797134683844, 0.4504206734175669, 0.4031957776141031, 0.41359432388146833, 0.5300316829381366, 0.5615755172191534, 0.39095774547380985, 0.39095774547380985, 0.5020822289111014, 0.5224160950327029, 0.5816133934624684, 0.5816133934624684, 0.5816133934624684, 0.693982104206276, 0.23291875906096188, 0.2809051240368001, 0.2610071485398317, 0.2607273583442675, 0.7770060285795225, 0.7770060285795225, 0.3620722304870863, 0.4376484523929708, 0.44896440503987617, 0.5962786893410716, 0.6581018053977556, 0.6581018053977556, 0.7110444700371746, 0.6783153867442812, 0.6783153867442812, 0.6649506042133736, 0.5762925878546614, 0.5762925878546614, 0.5365842931324791, 1.0, 0.3085276787297559, 0.2815337211600063, 0.17653249837756305, 0.0801059969411241, 0.22314173479275057, 0.22314173479275057, 0.22314173479275057], [0.18529330298222052, 0.1846349343439288, 0.1846349343439288, 0.1846349343439288, 0.16816239751338102, 0.1594329263527986, 0.1594329263527986, 0.1594329263527986, 0.12414449083738327, 0.11375338848319172, 0.08813242744870742, 0.08813242744870742, 0.032329549776339235, 0.07069601572820254, 0.2885410879978933, 0.07065149801168676, 0.032329549776339235, 0.010776516592113079, 0.010776516592113079, 0.010776516592113079, 0.2743380754104577, 0.24234357885942195, 0.2241943033512761, 0.4037202419600881, 0.4618049086060528, 0.4618049086060528, 0.3660773395932965, 0.3660024338876923, 0.3660024338876923, 0.3660024338876923, 0.3660024338876923, 0.3660024338876923, 0.45221456662459697, 0.12336875478009551, 0.06479877895778484, 0.24069787893911776, 0.3564407035114978, 0.3564407035114978, 0.09108190948327063, 0.6341210341973098, 0.7490344282087421, 0.6059858343066338, 0.5540043915060341, 0.5540043915060341, 0.5672610909234441, 0.5200795257029629, 0.5200795257029629, 0.48833249229326403, 0.5422586091990824, 0.5422586091990824, 0.5542683343552314, 0.3085276787297559, 1.0, 0.0816001014051797, 0.04446095629271351, 0.07824064629585546, 0.06337426692519885, 0.06337426692519885, 0.06337426692519885], [0.11949291842267666, 0.11906834619733839, 0.11906834619733839, 0.11906834619733839, 0.10844545012917314, 0.10281594291830175, 0.10281594291830175, 0.10281594291830175, 0.1339249820072048, 0.15521478578242795, 0.08291226587433578, 0.08291226587433578, 0.13961106607799248, 0.14731817862945532, 0.028102595126064174, 0.1434236187881006, 0.14341256576768927, 0.12202913001314478, 0.12202913001314478, 0.09209231995678248, 0.00883349792229151, 0.16332010680040765, 0.15190413942129366, 0.14673887799617397, 0.15292002904875368, 0.15292002904875368, 0.15294761069767612, 0.13913587861678037, 0.15624262722041596, 0.15624262722041596, 0.15624262722041596, 0.15244112753071917, 0.17097343851799107, 0.0025196614990341416, 0.023678729417292703, 0.07046810544769051, 0.12773761356507995, 0.12773761356507995, 0.05873738016700149, 0.1261426584450357, 0.24128281161033788, 0.39079132757997354, 0.3572692617303455, 0.3572692617303455, 0.27684041972912604, 0.1888282574816113, 0.1888282574816113, 0.17478558723346646, 0.31443463479367495, 0.31443463479367495, 0.3574394745812136, 0.2815337211600063, 0.0816001014051797, 1.0, 0.028672215011403757, 0.05045623891795615, 0.04086913010836853, 0.04086913010836853, 0.04086913010836853], [0.239949073048688, 0.24844800930049146, 0.24844800930049146, 0.24844800930049146, 0.2643929734004634, 0.05602070420949957, 0.05602070420949957, 0.05602070420949957, 0.1986449513561076, 0.14813468233688734, 0.13281385035043605, 0.13960124967630344, 0.1447671669912528, 0.16171076638049842, 0.1565292289563218, 0.16834118079580038, 0.1683282074897081, 0.14140130406290205, 0.14140130406290205, 0.14140130406290205, 0.09937309152607308, 0.15331192355469583, 0.19013583195927714, 0.18515752213146186, 0.1447706831202169, 0.1447706831202169, 0.14816334668283254, 0.09413897877731019, 0.16496234456135733, 0.16496234456135733, 0.16496234456135733, 0.1076024304907132, 0.13095310455614656, 0.18416029395386566, 0.19593214862815864, 0.007814009014234924, 0.13972519164951563, 0.13972519164951563, 0.03200388292884867, 0.06873059134967469, 0.05048422678882589, 0.06669519793781711, 0.07247416828287823, 0.07247416828287823, 0.06825039344762804, 0.07679274807530405, 0.07679274807530405, 0.07656063198719738, 0.052276114404611704, 0.052276114404611704, 0.04410391365092514, 0.17653249837756305, 0.04446095629271351, 0.028672215011403757, 1.0, 0.5682590622346213, 0.02226811702655621, 0.02226811702655621, 0.02226811702655621], [0.4222529634725271, 0.36109816925326216, 0.36109816925326216, 0.36109816925326216, 0.08576894075984084, 0.09858303709087159, 0.09858303709087159, 0.09858303709087159, 0.07550824512851587, 0.10634986672104864, 0.11543985392748234, 0.11942125359589918, 0.0032700522499714327, 0.10247235765745705, 0.027125465526968963, 0.10635687685777186, 0.048680589155235106, 0.050654960325029176, 0.050654960325029176, 0.12243157889358453, 0.05479769030824186, 0.11280697408282885, 0.019112995433260293, 0.11622053625527401, 0.06871389887614308, 0.06871389887614308, 0.10073410795294416, 0.19359120647157924, 0.12243157889358453, 0.12243157889358453, 0.12243157889358453, 0.16792438126425627, 0.3256272784515578, 0.36184205899293154, 0.2513871409343639, 0.08692239218789506, 0.10170564518211019, 0.10170564518211019, 0.05631917738891245, 0.16148497490955277, 0.0888401613698896, 0.11736759230120326, 0.18586131978551437, 0.18586131978551437, 0.09594628534030458, 0.16934346495383906, 0.16934346495383906, 0.1563927428488065, 0.30831299759821956, 0.30831299759821956, 0.32576689693127614, 0.0801059969411241, 0.07824064629585546, 0.05045623891795615, 0.5682590622346213, 1.0, 0.8099916082691649, 0.8099916082691649, 0.8099916082691649], [0.3420213569795332, 0.2616618962644557, 0.2616618962644557, 0.2616618962644557, 0.08422355836525108, 0.0798514327612938, 0.0798514327612938, 0.0798514327612938, 0.049831840186190045, 0.02363879460656318, 0.04560210609574801, 0.04560210609574801, 0.09920186865926313, 0.009252052847773383, 0.14451481142703057, 0.009246226773112405, 0.06082049075986057, 0.03923096569144663, 0.03923096569144663, 0.2495289320985898, 0.13740128142681102, 0.027794301090376217, 0.11228694567083876, 0.009245514207538377, 0.18666396910265876, 0.18666396910265876, 0.2279860568896788, 0.3023033267102683, 0.26632078492957845, 0.26632078492957845, 0.26632078492957845, 0.2807138016418544, 0.3023033267102683, 0.30838329280788246, 0.16579220723134844, 0.10004060154768024, 0.223152625377821, 0.223152625377821, 0.04561806106964158, 0.24518621041336996, 0.07195978518688903, 0.0950667648467313, 0.2774711938731786, 0.2774711938731786, 0.16521529256953368, 0.26048004152729864, 0.26048004152729864, 0.24457964904453455, 0.33733944792607834, 0.33733944792607834, 0.3643700084510418, 0.22314173479275057, 0.06337426692519885, 0.04086913010836853, 0.02226811702655621, 0.8099916082691649, 1.0, 1.0, 1.0], [0.3420213569795332, 0.2616618962644557, 0.2616618962644557, 0.2616618962644557, 0.08422355836525108, 0.0798514327612938, 0.0798514327612938, 0.0798514327612938, 0.049831840186190045, 0.02363879460656318, 0.04560210609574801, 0.04560210609574801, 0.09920186865926313, 0.009252052847773383, 0.14451481142703057, 0.009246226773112405, 0.06082049075986057, 0.03923096569144663, 0.03923096569144663, 0.2495289320985898, 0.13740128142681102, 0.027794301090376217, 0.11228694567083876, 0.009245514207538377, 0.18666396910265876, 0.18666396910265876, 0.2279860568896788, 0.3023033267102683, 0.26632078492957845, 0.26632078492957845, 0.26632078492957845, 0.2807138016418544, 0.3023033267102683, 0.30838329280788246, 0.16579220723134844, 0.10004060154768024, 0.223152625377821, 0.223152625377821, 0.04561806106964158, 0.24518621041336996, 0.07195978518688903, 0.0950667648467313, 0.2774711938731786, 0.2774711938731786, 0.16521529256953368, 0.26048004152729864, 0.26048004152729864, 0.24457964904453455, 0.33733944792607834, 0.33733944792607834, 0.3643700084510418, 0.22314173479275057, 0.06337426692519885, 0.04086913010836853, 0.02226811702655621, 0.8099916082691649, 1.0, 1.0, 1.0], [0.3420213569795332, 0.2616618962644557, 0.2616618962644557, 0.2616618962644557, 0.08422355836525108, 0.0798514327612938, 0.0798514327612938, 0.0798514327612938, 0.049831840186190045, 0.02363879460656318, 0.04560210609574801, 0.04560210609574801, 0.09920186865926313, 0.009252052847773383, 0.14451481142703057, 0.009246226773112405, 0.06082049075986057, 0.03923096569144663, 0.03923096569144663, 0.2495289320985898, 0.13740128142681102, 0.027794301090376217, 0.11228694567083876, 0.009245514207538377, 0.18666396910265876, 0.18666396910265876, 0.2279860568896788, 0.3023033267102683, 0.26632078492957845, 0.26632078492957845, 0.26632078492957845, 0.2807138016418544, 0.3023033267102683, 0.30838329280788246, 0.16579220723134844, 0.10004060154768024, 0.223152625377821, 0.223152625377821, 0.04561806106964158, 0.24518621041336996, 0.07195978518688903, 0.0950667648467313, 0.2774711938731786, 0.2774711938731786, 0.16521529256953368, 0.26048004152729864, 0.26048004152729864, 0.24457964904453455, 0.33733944792607834, 0.33733944792607834, 0.3643700084510418, 0.22314173479275057, 0.06337426692519885, 0.04086913010836853, 0.02226811702655621, 0.8099916082691649, 1.0, 1.0, 1.0]]}],                        {\"autosize\": false, \"height\": 800, \"hovermode\": \"closest\", \"showlegend\": false, \"template\": {\"data\": {\"bar\": [{\"error_x\": {\"color\": \"#2a3f5f\"}, \"error_y\": {\"color\": \"#2a3f5f\"}, \"marker\": {\"line\": {\"color\": \"#E5ECF6\", \"width\": 0.5}}, \"type\": \"bar\"}], \"barpolar\": [{\"marker\": {\"line\": {\"color\": \"#E5ECF6\", \"width\": 0.5}}, \"type\": \"barpolar\"}], \"carpet\": [{\"aaxis\": {\"endlinecolor\": \"#2a3f5f\", \"gridcolor\": \"white\", \"linecolor\": \"white\", \"minorgridcolor\": \"white\", \"startlinecolor\": \"#2a3f5f\"}, \"baxis\": {\"endlinecolor\": \"#2a3f5f\", \"gridcolor\": \"white\", \"linecolor\": \"white\", \"minorgridcolor\": \"white\", \"startlinecolor\": \"#2a3f5f\"}, \"type\": \"carpet\"}], \"choropleth\": [{\"colorbar\": {\"outlinewidth\": 0, \"ticks\": \"\"}, \"type\": \"choropleth\"}], \"contour\": [{\"colorbar\": {\"outlinewidth\": 0, \"ticks\": \"\"}, \"colorscale\": [[0.0, \"#0d0887\"], [0.1111111111111111, \"#46039f\"], [0.2222222222222222, \"#7201a8\"], [0.3333333333333333, \"#9c179e\"], [0.4444444444444444, \"#bd3786\"], [0.5555555555555556, \"#d8576b\"], [0.6666666666666666, \"#ed7953\"], [0.7777777777777778, \"#fb9f3a\"], [0.8888888888888888, \"#fdca26\"], [1.0, \"#f0f921\"]], \"type\": \"contour\"}], \"contourcarpet\": [{\"colorbar\": {\"outlinewidth\": 0, \"ticks\": \"\"}, \"type\": \"contourcarpet\"}], \"heatmap\": [{\"colorbar\": {\"outlinewidth\": 0, \"ticks\": \"\"}, \"colorscale\": [[0.0, \"#0d0887\"], [0.1111111111111111, \"#46039f\"], [0.2222222222222222, \"#7201a8\"], [0.3333333333333333, \"#9c179e\"], [0.4444444444444444, \"#bd3786\"], [0.5555555555555556, \"#d8576b\"], [0.6666666666666666, \"#ed7953\"], [0.7777777777777778, \"#fb9f3a\"], [0.8888888888888888, \"#fdca26\"], [1.0, \"#f0f921\"]], \"type\": \"heatmap\"}], \"heatmapgl\": [{\"colorbar\": {\"outlinewidth\": 0, \"ticks\": \"\"}, \"colorscale\": [[0.0, \"#0d0887\"], [0.1111111111111111, \"#46039f\"], [0.2222222222222222, \"#7201a8\"], [0.3333333333333333, \"#9c179e\"], [0.4444444444444444, \"#bd3786\"], [0.5555555555555556, \"#d8576b\"], [0.6666666666666666, \"#ed7953\"], [0.7777777777777778, \"#fb9f3a\"], [0.8888888888888888, \"#fdca26\"], [1.0, \"#f0f921\"]], \"type\": \"heatmapgl\"}], \"histogram\": [{\"marker\": {\"colorbar\": {\"outlinewidth\": 0, \"ticks\": \"\"}}, \"type\": \"histogram\"}], \"histogram2d\": [{\"colorbar\": {\"outlinewidth\": 0, \"ticks\": \"\"}, \"colorscale\": [[0.0, \"#0d0887\"], [0.1111111111111111, \"#46039f\"], [0.2222222222222222, \"#7201a8\"], [0.3333333333333333, \"#9c179e\"], [0.4444444444444444, \"#bd3786\"], [0.5555555555555556, \"#d8576b\"], [0.6666666666666666, \"#ed7953\"], [0.7777777777777778, \"#fb9f3a\"], [0.8888888888888888, \"#fdca26\"], [1.0, \"#f0f921\"]], \"type\": \"histogram2d\"}], \"histogram2dcontour\": [{\"colorbar\": {\"outlinewidth\": 0, \"ticks\": \"\"}, \"colorscale\": [[0.0, \"#0d0887\"], [0.1111111111111111, \"#46039f\"], [0.2222222222222222, \"#7201a8\"], [0.3333333333333333, \"#9c179e\"], [0.4444444444444444, \"#bd3786\"], [0.5555555555555556, \"#d8576b\"], [0.6666666666666666, \"#ed7953\"], [0.7777777777777778, \"#fb9f3a\"], [0.8888888888888888, \"#fdca26\"], [1.0, \"#f0f921\"]], \"type\": \"histogram2dcontour\"}], \"mesh3d\": [{\"colorbar\": {\"outlinewidth\": 0, \"ticks\": \"\"}, \"type\": \"mesh3d\"}], \"parcoords\": [{\"line\": {\"colorbar\": {\"outlinewidth\": 0, \"ticks\": \"\"}}, \"type\": \"parcoords\"}], \"pie\": [{\"automargin\": true, \"type\": \"pie\"}], \"scatter\": [{\"marker\": {\"colorbar\": {\"outlinewidth\": 0, \"ticks\": \"\"}}, \"type\": \"scatter\"}], \"scatter3d\": [{\"line\": {\"colorbar\": {\"outlinewidth\": 0, \"ticks\": \"\"}}, \"marker\": {\"colorbar\": {\"outlinewidth\": 0, \"ticks\": \"\"}}, \"type\": \"scatter3d\"}], \"scattercarpet\": [{\"marker\": {\"colorbar\": {\"outlinewidth\": 0, \"ticks\": \"\"}}, \"type\": \"scattercarpet\"}], \"scattergeo\": [{\"marker\": {\"colorbar\": {\"outlinewidth\": 0, \"ticks\": \"\"}}, \"type\": \"scattergeo\"}], \"scattergl\": [{\"marker\": {\"colorbar\": {\"outlinewidth\": 0, \"ticks\": \"\"}}, \"type\": \"scattergl\"}], \"scattermapbox\": [{\"marker\": {\"colorbar\": {\"outlinewidth\": 0, \"ticks\": \"\"}}, \"type\": \"scattermapbox\"}], \"scatterpolar\": [{\"marker\": {\"colorbar\": {\"outlinewidth\": 0, \"ticks\": \"\"}}, \"type\": \"scatterpolar\"}], \"scatterpolargl\": [{\"marker\": {\"colorbar\": {\"outlinewidth\": 0, \"ticks\": \"\"}}, \"type\": \"scatterpolargl\"}], \"scatterternary\": [{\"marker\": {\"colorbar\": {\"outlinewidth\": 0, \"ticks\": \"\"}}, \"type\": \"scatterternary\"}], \"surface\": [{\"colorbar\": {\"outlinewidth\": 0, \"ticks\": \"\"}, \"colorscale\": [[0.0, \"#0d0887\"], [0.1111111111111111, \"#46039f\"], [0.2222222222222222, \"#7201a8\"], [0.3333333333333333, \"#9c179e\"], [0.4444444444444444, \"#bd3786\"], [0.5555555555555556, \"#d8576b\"], [0.6666666666666666, \"#ed7953\"], [0.7777777777777778, \"#fb9f3a\"], [0.8888888888888888, \"#fdca26\"], [1.0, \"#f0f921\"]], \"type\": \"surface\"}], \"table\": [{\"cells\": {\"fill\": {\"color\": \"#EBF0F8\"}, \"line\": {\"color\": \"white\"}}, \"header\": {\"fill\": {\"color\": \"#C8D4E3\"}, \"line\": {\"color\": \"white\"}}, \"type\": \"table\"}]}, \"layout\": {\"annotationdefaults\": {\"arrowcolor\": \"#2a3f5f\", \"arrowhead\": 0, \"arrowwidth\": 1}, \"autotypenumbers\": \"strict\", \"coloraxis\": {\"colorbar\": {\"outlinewidth\": 0, \"ticks\": \"\"}}, \"colorscale\": {\"diverging\": [[0, \"#8e0152\"], [0.1, \"#c51b7d\"], [0.2, \"#de77ae\"], [0.3, \"#f1b6da\"], [0.4, \"#fde0ef\"], [0.5, \"#f7f7f7\"], [0.6, \"#e6f5d0\"], [0.7, \"#b8e186\"], [0.8, \"#7fbc41\"], [0.9, \"#4d9221\"], [1, \"#276419\"]], \"sequential\": [[0.0, \"#0d0887\"], [0.1111111111111111, \"#46039f\"], [0.2222222222222222, \"#7201a8\"], [0.3333333333333333, \"#9c179e\"], [0.4444444444444444, \"#bd3786\"], [0.5555555555555556, \"#d8576b\"], [0.6666666666666666, \"#ed7953\"], [0.7777777777777778, \"#fb9f3a\"], [0.8888888888888888, \"#fdca26\"], [1.0, \"#f0f921\"]], \"sequentialminus\": [[0.0, \"#0d0887\"], [0.1111111111111111, \"#46039f\"], [0.2222222222222222, \"#7201a8\"], [0.3333333333333333, \"#9c179e\"], [0.4444444444444444, \"#bd3786\"], [0.5555555555555556, \"#d8576b\"], [0.6666666666666666, \"#ed7953\"], [0.7777777777777778, \"#fb9f3a\"], [0.8888888888888888, \"#fdca26\"], [1.0, \"#f0f921\"]]}, \"colorway\": [\"#636efa\", \"#EF553B\", \"#00cc96\", \"#ab63fa\", \"#FFA15A\", \"#19d3f3\", \"#FF6692\", \"#B6E880\", \"#FF97FF\", \"#FECB52\"], \"font\": {\"color\": \"#2a3f5f\"}, \"geo\": {\"bgcolor\": \"white\", \"lakecolor\": \"white\", \"landcolor\": \"#E5ECF6\", \"showlakes\": true, \"showland\": true, \"subunitcolor\": \"white\"}, \"hoverlabel\": {\"align\": \"left\"}, \"hovermode\": \"closest\", \"mapbox\": {\"style\": \"light\"}, \"paper_bgcolor\": \"white\", \"plot_bgcolor\": \"#E5ECF6\", \"polar\": {\"angularaxis\": {\"gridcolor\": \"white\", \"linecolor\": \"white\", \"ticks\": \"\"}, \"bgcolor\": \"#E5ECF6\", \"radialaxis\": {\"gridcolor\": \"white\", \"linecolor\": \"white\", \"ticks\": \"\"}}, \"scene\": {\"xaxis\": {\"backgroundcolor\": \"#E5ECF6\", \"gridcolor\": \"white\", \"gridwidth\": 2, \"linecolor\": \"white\", \"showbackground\": true, \"ticks\": \"\", \"zerolinecolor\": \"white\"}, \"yaxis\": {\"backgroundcolor\": \"#E5ECF6\", \"gridcolor\": \"white\", \"gridwidth\": 2, \"linecolor\": \"white\", \"showbackground\": true, \"ticks\": \"\", \"zerolinecolor\": \"white\"}, \"zaxis\": {\"backgroundcolor\": \"#E5ECF6\", \"gridcolor\": \"white\", \"gridwidth\": 2, \"linecolor\": \"white\", \"showbackground\": true, \"ticks\": \"\", \"zerolinecolor\": \"white\"}}, \"shapedefaults\": {\"line\": {\"color\": \"#2a3f5f\"}}, \"ternary\": {\"aaxis\": {\"gridcolor\": \"white\", \"linecolor\": \"white\", \"ticks\": \"\"}, \"baxis\": {\"gridcolor\": \"white\", \"linecolor\": \"white\", \"ticks\": \"\"}, \"bgcolor\": \"#E5ECF6\", \"caxis\": {\"gridcolor\": \"white\", \"linecolor\": \"white\", \"ticks\": \"\"}}, \"title\": {\"x\": 0.05}, \"xaxis\": {\"automargin\": true, \"gridcolor\": \"white\", \"linecolor\": \"white\", \"ticks\": \"\", \"title\": {\"standoff\": 15}, \"zerolinecolor\": \"white\", \"zerolinewidth\": 2}, \"yaxis\": {\"automargin\": true, \"gridcolor\": \"white\", \"linecolor\": \"white\", \"ticks\": \"\", \"title\": {\"standoff\": 15}, \"zerolinecolor\": \"white\", \"zerolinewidth\": 2}}}, \"title\": {\"text\": \"Propiedades f\\u00edsico-qu\\u00edmicas\", \"x\": 0.5, \"xanchor\": \"center\", \"y\": 0.9, \"yanchor\": \"top\"}, \"width\": 800, \"xaxis\": {\"domain\": [0.15, 1], \"mirror\": false, \"rangemode\": \"tozero\", \"showgrid\": false, \"showline\": false, \"showticklabels\": true, \"tickmode\": \"array\", \"ticks\": \"\", \"ticktext\": [\"_feat_CyclomaticNumber\", \"_feat_SmallestRingSize\", \"_feat_RingAtomCount\", \"_feat_LargestRingSize\", \"_feat_CarboRingCount\", \"_feat_CarboaromaticRingCount\", \"_feat_AromaticAtomCount\", \"_feat_AromaticRingCount\", \"_feat_MinimalProjectionRadius\", \"_feat_Refractivity\", \"_feat_HyperWienerIndex\", \"_feat_WienerIndex\", \"_feat_MaximalProjectionArea\", \"_feat_MolPol\", \"_feat_WienerPolarity\", \"_feat_AvgPol\", \"_feat_VanderWaalsVolume\", \"_feat_molsurfaceareaASAp\", \"_feat_msareaASAp\", \"_feat_ASA+\", \"_feat_RotatableBondCount\", \"_feat_AtomCount_C\", \"_feat_BondCount\", \"_feat_MinimalProjectionArea\", \"_feat_minimalprojectionsize\", \"_feat_LengthPerpendicularToTheMinArea\", \"_feat_MaximalProjectionRadius\", \"_feat_ASA\", \"_feat_msareaVDWp\", \"_feat_molsurfaceareaVDWp\", \"_feat_VanderWaalsSurfaceArea\", \"_feat_ASA_H\", \"_feat_ASA-\", \"_feat_ChainAtomCount\", \"_feat_Aliphatic AtomCount\", \"_feat_BalabanIndex\", \"_feat_LengthPerpendicularToTheMaxArea\", \"_feat_maximalprojectionsize\", \"_feat_fr_guanido\", \"_feat_fr_NH2\", \"_feat_fr_quatN\", \"_feat_donorcount\", \"_feat_AtomCount_N\", \"_feat_Hdonorcount\", \"_feat_PolarSurfaceArea\", \"_feat_Hacceptorcount\", \"_feat_acceptorcount\", \"_feat_Accsitecount\", \"_feat_ProtPolarSurfaceArea\", \"_feat_Protpsa\", \"_feat_donsitecount\", \"_feat_ASA_P\", \"_feat_fr_amidine\", \"_feat_fr_NH1\", \"_feat_CarboaliphaticRingCount\", \"_feat_AliphaticRingCount\", \"_feat_fr_Imine\", \"_feat_HeteroaliphaticRingCount\", \"_feat_fr_NH0\"], \"tickvals\": [5, 15, 25, 35, 45, 55, 65, 75, 85, 95, 105, 115, 125, 135, 145, 155, 165, 175, 185, 195, 205, 215, 225, 235, 245, 255, 265, 275, 285, 295, 305, 315, 325, 335, 345, 355, 365, 375, 385, 395, 405, 415, 425, 435, 445, 455, 465, 475, 485, 495, 505, 515, 525, 535, 545, 555, 565, 575, 585], \"type\": \"linear\", \"zeroline\": false}, \"xaxis2\": {\"domain\": [0, 0.15], \"mirror\": false, \"showgrid\": false, \"showline\": false, \"showticklabels\": false, \"ticks\": \"\", \"zeroline\": false}, \"yaxis\": {\"domain\": [0, 0.85], \"mirror\": false, \"rangemode\": \"tozero\", \"showgrid\": false, \"showline\": false, \"showticklabels\": false, \"ticks\": \"\", \"ticktext\": [\"_feat_CyclomaticNumber\", \"_feat_SmallestRingSize\", \"_feat_RingAtomCount\", \"_feat_LargestRingSize\", \"_feat_CarboRingCount\", \"_feat_CarboaromaticRingCount\", \"_feat_AromaticAtomCount\", \"_feat_AromaticRingCount\", \"_feat_MinimalProjectionRadius\", \"_feat_Refractivity\", \"_feat_HyperWienerIndex\", \"_feat_WienerIndex\", \"_feat_MaximalProjectionArea\", \"_feat_MolPol\", \"_feat_WienerPolarity\", \"_feat_AvgPol\", \"_feat_VanderWaalsVolume\", \"_feat_molsurfaceareaASAp\", \"_feat_msareaASAp\", \"_feat_ASA+\", \"_feat_RotatableBondCount\", \"_feat_AtomCount_C\", \"_feat_BondCount\", \"_feat_MinimalProjectionArea\", \"_feat_minimalprojectionsize\", \"_feat_LengthPerpendicularToTheMinArea\", \"_feat_MaximalProjectionRadius\", \"_feat_ASA\", \"_feat_msareaVDWp\", \"_feat_molsurfaceareaVDWp\", \"_feat_VanderWaalsSurfaceArea\", \"_feat_ASA_H\", \"_feat_ASA-\", \"_feat_ChainAtomCount\", \"_feat_Aliphatic AtomCount\", \"_feat_BalabanIndex\", \"_feat_LengthPerpendicularToTheMaxArea\", \"_feat_maximalprojectionsize\", \"_feat_fr_guanido\", \"_feat_fr_NH2\", \"_feat_fr_quatN\", \"_feat_donorcount\", \"_feat_AtomCount_N\", \"_feat_Hdonorcount\", \"_feat_PolarSurfaceArea\", \"_feat_Hacceptorcount\", \"_feat_acceptorcount\", \"_feat_Accsitecount\", \"_feat_ProtPolarSurfaceArea\", \"_feat_Protpsa\", \"_feat_donsitecount\", \"_feat_ASA_P\", \"_feat_fr_amidine\", \"_feat_fr_NH1\", \"_feat_CarboaliphaticRingCount\", \"_feat_AliphaticRingCount\", \"_feat_fr_Imine\", \"_feat_HeteroaliphaticRingCount\", \"_feat_fr_NH0\"], \"tickvals\": [5, 15, 25, 35, 45, 55, 65, 75, 85, 95, 105, 115, 125, 135, 145, 155, 165, 175, 185, 195, 205, 215, 225, 235, 245, 255, 265, 275, 285, 295, 305, 315, 325, 335, 345, 355, 365, 375, 385, 395, 405, 415, 425, 435, 445, 455, 465, 475, 485, 495, 505, 515, 525, 535, 545, 555, 565, 575, 585], \"type\": \"linear\", \"zeroline\": false}, \"yaxis2\": {\"domain\": [0.825, 0.975], \"mirror\": false, \"showgrid\": false, \"showline\": false, \"showticklabels\": false, \"ticks\": \"\", \"zeroline\": false}},                        {\"responsive\": true}                    ).then(function(){\n",
       "                            \n",
       "var gd = document.getElementById('0eee8942-5a0c-4f7b-afa5-b2c51d413da1');\n",
       "var x = new MutationObserver(function (mutations, observer) {{\n",
       "        var display = window.getComputedStyle(gd).display;\n",
       "        if (!display || display === 'none') {{\n",
       "            console.log([gd, 'removed!']);\n",
       "            Plotly.purge(gd);\n",
       "            observer.disconnect();\n",
       "        }}\n",
       "}});\n",
       "\n",
       "// Listen for the removal of the full notebook cells\n",
       "var notebookContainer = gd.closest('#notebook-container');\n",
       "if (notebookContainer) {{\n",
       "    x.observe(notebookContainer, {childList: true});\n",
       "}}\n",
       "\n",
       "// Listen for the clearing of the current output cell\n",
       "var outputEl = gd.closest('.output');\n",
       "if (outputEl) {{\n",
       "    x.observe(outputEl, {childList: true});\n",
       "}}\n",
       "\n",
       "                        })                };                });            </script>        </div>"
      ]
     },
     "metadata": {}
    }
   ],
   "metadata": {}
  },
  {
   "cell_type": "code",
   "execution_count": 197,
   "source": [
    "df_feat = final_df[feat_col]\n",
    "df_feat_noctes = df_feat.loc[:, (df_feat != df_feat.iloc[0]).any()] \n",
    "df_feat_cols = df_feat_noctes.columns"
   ],
   "outputs": [],
   "metadata": {}
  },
  {
   "cell_type": "code",
   "execution_count": 198,
   "source": [
    "corr_df = final_df[df_feat_cols].corr(method='spearman')"
   ],
   "outputs": [],
   "metadata": {}
  },
  {
   "cell_type": "code",
   "execution_count": 199,
   "source": [
    "corr_df.head()"
   ],
   "outputs": [
    {
     "output_type": "execute_result",
     "data": {
      "text/html": [
       "<div>\n",
       "<style scoped>\n",
       "    .dataframe tbody tr th:only-of-type {\n",
       "        vertical-align: middle;\n",
       "    }\n",
       "\n",
       "    .dataframe tbody tr th {\n",
       "        vertical-align: top;\n",
       "    }\n",
       "\n",
       "    .dataframe thead th {\n",
       "        text-align: right;\n",
       "    }\n",
       "</style>\n",
       "<table border=\"1\" class=\"dataframe\">\n",
       "  <thead>\n",
       "    <tr style=\"text-align: right;\">\n",
       "      <th></th>\n",
       "      <th>_feat_BondCount</th>\n",
       "      <th>_feat_ChainAtomCount</th>\n",
       "      <th>_feat_HeteroaliphaticRingCount</th>\n",
       "      <th>_feat_VanderWaalsVolume</th>\n",
       "      <th>_feat_AliphaticRingCount</th>\n",
       "      <th>_feat_Refractivity</th>\n",
       "      <th>_feat_RotatableBondCount</th>\n",
       "      <th>_feat_CarboaliphaticRingCount</th>\n",
       "      <th>_feat_VanderWaalsSurfaceArea</th>\n",
       "      <th>_feat_MinimalProjectionRadius</th>\n",
       "      <th>...</th>\n",
       "      <th>_feat_fr_NH2</th>\n",
       "      <th>_feat_ProtPolarSurfaceArea</th>\n",
       "      <th>_feat_AromaticAtomCount</th>\n",
       "      <th>_feat_CarboRingCount</th>\n",
       "      <th>_feat_Aliphatic AtomCount</th>\n",
       "      <th>_feat_RingAtomCount</th>\n",
       "      <th>_feat_Accsitecount</th>\n",
       "      <th>_feat_MinimalProjectionArea</th>\n",
       "      <th>_feat_maximalprojectionsize</th>\n",
       "      <th>_feat_ASA</th>\n",
       "    </tr>\n",
       "  </thead>\n",
       "  <tbody>\n",
       "    <tr>\n",
       "      <th>_feat_BondCount</th>\n",
       "      <td>1.000000</td>\n",
       "      <td>0.508423</td>\n",
       "      <td>-0.112287</td>\n",
       "      <td>0.967799</td>\n",
       "      <td>0.019113</td>\n",
       "      <td>0.838476</td>\n",
       "      <td>0.876134</td>\n",
       "      <td>0.190136</td>\n",
       "      <td>0.967321</td>\n",
       "      <td>0.771108</td>\n",
       "      <td>...</td>\n",
       "      <td>-0.391613</td>\n",
       "      <td>-0.376390</td>\n",
       "      <td>0.451027</td>\n",
       "      <td>0.496221</td>\n",
       "      <td>0.561861</td>\n",
       "      <td>0.442099</td>\n",
       "      <td>-0.404723</td>\n",
       "      <td>0.957057</td>\n",
       "      <td>0.749992</td>\n",
       "      <td>0.944157</td>\n",
       "    </tr>\n",
       "    <tr>\n",
       "      <th>_feat_ChainAtomCount</th>\n",
       "      <td>0.508423</td>\n",
       "      <td>1.000000</td>\n",
       "      <td>-0.308383</td>\n",
       "      <td>0.508491</td>\n",
       "      <td>-0.361842</td>\n",
       "      <td>0.476914</td>\n",
       "      <td>0.607975</td>\n",
       "      <td>-0.184160</td>\n",
       "      <td>0.493292</td>\n",
       "      <td>0.440229</td>\n",
       "      <td>...</td>\n",
       "      <td>0.122445</td>\n",
       "      <td>0.129436</td>\n",
       "      <td>-0.152347</td>\n",
       "      <td>-0.205813</td>\n",
       "      <td>0.810120</td>\n",
       "      <td>-0.305200</td>\n",
       "      <td>-0.023624</td>\n",
       "      <td>0.396603</td>\n",
       "      <td>0.514649</td>\n",
       "      <td>0.457829</td>\n",
       "    </tr>\n",
       "    <tr>\n",
       "      <th>_feat_HeteroaliphaticRingCount</th>\n",
       "      <td>-0.112287</td>\n",
       "      <td>-0.308383</td>\n",
       "      <td>1.000000</td>\n",
       "      <td>-0.060820</td>\n",
       "      <td>0.809992</td>\n",
       "      <td>0.023639</td>\n",
       "      <td>-0.137401</td>\n",
       "      <td>-0.022268</td>\n",
       "      <td>-0.266321</td>\n",
       "      <td>-0.049832</td>\n",
       "      <td>...</td>\n",
       "      <td>0.245186</td>\n",
       "      <td>-0.337339</td>\n",
       "      <td>-0.079851</td>\n",
       "      <td>-0.084224</td>\n",
       "      <td>0.165792</td>\n",
       "      <td>0.261662</td>\n",
       "      <td>0.244580</td>\n",
       "      <td>0.009246</td>\n",
       "      <td>-0.223153</td>\n",
       "      <td>-0.302303</td>\n",
       "    </tr>\n",
       "    <tr>\n",
       "      <th>_feat_VanderWaalsVolume</th>\n",
       "      <td>0.967799</td>\n",
       "      <td>0.508491</td>\n",
       "      <td>-0.060820</td>\n",
       "      <td>1.000000</td>\n",
       "      <td>0.048681</td>\n",
       "      <td>0.893195</td>\n",
       "      <td>0.827169</td>\n",
       "      <td>0.168328</td>\n",
       "      <td>0.889745</td>\n",
       "      <td>0.866900</td>\n",
       "      <td>...</td>\n",
       "      <td>-0.231485</td>\n",
       "      <td>-0.259249</td>\n",
       "      <td>0.514249</td>\n",
       "      <td>0.550343</td>\n",
       "      <td>0.576523</td>\n",
       "      <td>0.512187</td>\n",
       "      <td>-0.256904</td>\n",
       "      <td>0.897211</td>\n",
       "      <td>0.609290</td>\n",
       "      <td>0.870872</td>\n",
       "    </tr>\n",
       "    <tr>\n",
       "      <th>_feat_AliphaticRingCount</th>\n",
       "      <td>0.019113</td>\n",
       "      <td>-0.361842</td>\n",
       "      <td>0.809992</td>\n",
       "      <td>0.048681</td>\n",
       "      <td>1.000000</td>\n",
       "      <td>0.106350</td>\n",
       "      <td>-0.054798</td>\n",
       "      <td>0.568259</td>\n",
       "      <td>-0.122432</td>\n",
       "      <td>0.075508</td>\n",
       "      <td>...</td>\n",
       "      <td>0.161485</td>\n",
       "      <td>-0.308313</td>\n",
       "      <td>-0.098583</td>\n",
       "      <td>0.085769</td>\n",
       "      <td>0.251387</td>\n",
       "      <td>0.361098</td>\n",
       "      <td>0.156393</td>\n",
       "      <td>0.116221</td>\n",
       "      <td>-0.101706</td>\n",
       "      <td>-0.193591</td>\n",
       "    </tr>\n",
       "  </tbody>\n",
       "</table>\n",
       "<p>5 rows × 59 columns</p>\n",
       "</div>"
      ],
      "text/plain": [
       "                                _feat_BondCount  _feat_ChainAtomCount  \\\n",
       "_feat_BondCount                        1.000000              0.508423   \n",
       "_feat_ChainAtomCount                   0.508423              1.000000   \n",
       "_feat_HeteroaliphaticRingCount        -0.112287             -0.308383   \n",
       "_feat_VanderWaalsVolume                0.967799              0.508491   \n",
       "_feat_AliphaticRingCount               0.019113             -0.361842   \n",
       "\n",
       "                                _feat_HeteroaliphaticRingCount  \\\n",
       "_feat_BondCount                                      -0.112287   \n",
       "_feat_ChainAtomCount                                 -0.308383   \n",
       "_feat_HeteroaliphaticRingCount                        1.000000   \n",
       "_feat_VanderWaalsVolume                              -0.060820   \n",
       "_feat_AliphaticRingCount                              0.809992   \n",
       "\n",
       "                                _feat_VanderWaalsVolume  \\\n",
       "_feat_BondCount                                0.967799   \n",
       "_feat_ChainAtomCount                           0.508491   \n",
       "_feat_HeteroaliphaticRingCount                -0.060820   \n",
       "_feat_VanderWaalsVolume                        1.000000   \n",
       "_feat_AliphaticRingCount                       0.048681   \n",
       "\n",
       "                                _feat_AliphaticRingCount  _feat_Refractivity  \\\n",
       "_feat_BondCount                                 0.019113            0.838476   \n",
       "_feat_ChainAtomCount                           -0.361842            0.476914   \n",
       "_feat_HeteroaliphaticRingCount                  0.809992            0.023639   \n",
       "_feat_VanderWaalsVolume                         0.048681            0.893195   \n",
       "_feat_AliphaticRingCount                        1.000000            0.106350   \n",
       "\n",
       "                                _feat_RotatableBondCount  \\\n",
       "_feat_BondCount                                 0.876134   \n",
       "_feat_ChainAtomCount                            0.607975   \n",
       "_feat_HeteroaliphaticRingCount                 -0.137401   \n",
       "_feat_VanderWaalsVolume                         0.827169   \n",
       "_feat_AliphaticRingCount                       -0.054798   \n",
       "\n",
       "                                _feat_CarboaliphaticRingCount  \\\n",
       "_feat_BondCount                                      0.190136   \n",
       "_feat_ChainAtomCount                                -0.184160   \n",
       "_feat_HeteroaliphaticRingCount                      -0.022268   \n",
       "_feat_VanderWaalsVolume                              0.168328   \n",
       "_feat_AliphaticRingCount                             0.568259   \n",
       "\n",
       "                                _feat_VanderWaalsSurfaceArea  \\\n",
       "_feat_BondCount                                     0.967321   \n",
       "_feat_ChainAtomCount                                0.493292   \n",
       "_feat_HeteroaliphaticRingCount                     -0.266321   \n",
       "_feat_VanderWaalsVolume                             0.889745   \n",
       "_feat_AliphaticRingCount                           -0.122432   \n",
       "\n",
       "                                _feat_MinimalProjectionRadius  ...  \\\n",
       "_feat_BondCount                                      0.771108  ...   \n",
       "_feat_ChainAtomCount                                 0.440229  ...   \n",
       "_feat_HeteroaliphaticRingCount                      -0.049832  ...   \n",
       "_feat_VanderWaalsVolume                              0.866900  ...   \n",
       "_feat_AliphaticRingCount                             0.075508  ...   \n",
       "\n",
       "                                _feat_fr_NH2  _feat_ProtPolarSurfaceArea  \\\n",
       "_feat_BondCount                    -0.391613                   -0.376390   \n",
       "_feat_ChainAtomCount                0.122445                    0.129436   \n",
       "_feat_HeteroaliphaticRingCount      0.245186                   -0.337339   \n",
       "_feat_VanderWaalsVolume            -0.231485                   -0.259249   \n",
       "_feat_AliphaticRingCount            0.161485                   -0.308313   \n",
       "\n",
       "                                _feat_AromaticAtomCount  _feat_CarboRingCount  \\\n",
       "_feat_BondCount                                0.451027              0.496221   \n",
       "_feat_ChainAtomCount                          -0.152347             -0.205813   \n",
       "_feat_HeteroaliphaticRingCount                -0.079851             -0.084224   \n",
       "_feat_VanderWaalsVolume                        0.514249              0.550343   \n",
       "_feat_AliphaticRingCount                      -0.098583              0.085769   \n",
       "\n",
       "                                _feat_Aliphatic AtomCount  \\\n",
       "_feat_BondCount                                  0.561861   \n",
       "_feat_ChainAtomCount                             0.810120   \n",
       "_feat_HeteroaliphaticRingCount                   0.165792   \n",
       "_feat_VanderWaalsVolume                          0.576523   \n",
       "_feat_AliphaticRingCount                         0.251387   \n",
       "\n",
       "                                _feat_RingAtomCount  _feat_Accsitecount  \\\n",
       "_feat_BondCount                            0.442099           -0.404723   \n",
       "_feat_ChainAtomCount                      -0.305200           -0.023624   \n",
       "_feat_HeteroaliphaticRingCount             0.261662            0.244580   \n",
       "_feat_VanderWaalsVolume                    0.512187           -0.256904   \n",
       "_feat_AliphaticRingCount                   0.361098            0.156393   \n",
       "\n",
       "                                _feat_MinimalProjectionArea  \\\n",
       "_feat_BondCount                                    0.957057   \n",
       "_feat_ChainAtomCount                               0.396603   \n",
       "_feat_HeteroaliphaticRingCount                     0.009246   \n",
       "_feat_VanderWaalsVolume                            0.897211   \n",
       "_feat_AliphaticRingCount                           0.116221   \n",
       "\n",
       "                                _feat_maximalprojectionsize  _feat_ASA  \n",
       "_feat_BondCount                                    0.749992   0.944157  \n",
       "_feat_ChainAtomCount                               0.514649   0.457829  \n",
       "_feat_HeteroaliphaticRingCount                    -0.223153  -0.302303  \n",
       "_feat_VanderWaalsVolume                            0.609290   0.870872  \n",
       "_feat_AliphaticRingCount                          -0.101706  -0.193591  \n",
       "\n",
       "[5 rows x 59 columns]"
      ]
     },
     "metadata": {},
     "execution_count": 199
    }
   ],
   "metadata": {}
  }
 ],
 "metadata": {
  "interpreter": {
   "hash": "d07da0965434c7b5286d6cc9b9463c44a85c1c514696f673aad9eb5034120dfe"
  },
  "kernelspec": {
   "name": "python3",
   "display_name": "Python 3.6.9 64-bit ('licentiate-thesis-repo-cz9ujhZI': pipenv)"
  },
  "language_info": {
   "codemirror_mode": {
    "name": "ipython",
    "version": 3
   },
   "file_extension": ".py",
   "mimetype": "text/x-python",
   "name": "python",
   "nbconvert_exporter": "python",
   "pygments_lexer": "ipython3",
   "version": "3.6.9"
  }
 },
 "nbformat": 4,
 "nbformat_minor": 2
}