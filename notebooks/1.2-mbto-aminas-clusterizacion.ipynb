{
 "cells": [
  {
   "cell_type": "code",
   "execution_count": 1,
   "source": [
    "import matplotlib.pyplot as plt\n",
    "from sklearn.decomposition import PCA\n",
    "from sklearn.cluster import DBSCAN\n",
    "from sklearn.manifold import TSNE\n",
    "from sklearn.cluster import KMeans\n",
    "import seaborn as sns; sns.set()\n",
    "from sklearn.preprocessing import StandardScaler\n",
    "import numpy as np\n",
    "import plotly.express as px\n",
    "import pandas as pd\n",
    "import src.data.notebook_utils as utils\n",
    "from rdkit import Chem\n",
    "from rdkit import DataStructs\n",
    "plt.rcParams['figure.figsize'] = [6, 6]"
   ],
   "outputs": [],
   "metadata": {}
  },
  {
   "cell_type": "code",
   "execution_count": 2,
   "source": [
    "# familiaridad de aminas\n",
    "# https://jcheminf.biomedcentral.com/articles/10.1186/s13321-018-0302-y"
   ],
   "outputs": [],
   "metadata": {}
  },
  {
   "cell_type": "code",
   "execution_count": 3,
   "source": [
    "%cd .."
   ],
   "outputs": [
    {
     "output_type": "stream",
     "name": "stdout",
     "text": [
      "/home/belu/VS Workplace/licentiate-thesis-repo\n"
     ]
    }
   ],
   "metadata": {}
  },
  {
   "cell_type": "code",
   "execution_count": 4,
   "source": [
    "df = utils.read_data()\n",
    "amine_df = df[utils.get_columns(df.columns)['_feat_']]\n",
    "amine_info = df[['_rxn_organic-inchikey']]\n",
    "amine_all = pd.concat([amine_df, amine_info], axis='columns')\n",
    "amine_df = amine_all.drop_duplicates()"
   ],
   "outputs": [],
   "metadata": {}
  },
  {
   "cell_type": "code",
   "execution_count": 5,
   "source": [
    "len(df)"
   ],
   "outputs": [
    {
     "output_type": "execute_result",
     "data": {
      "text/plain": [
       "3630"
      ]
     },
     "metadata": {},
     "execution_count": 5
    }
   ],
   "metadata": {}
  },
  {
   "cell_type": "code",
   "execution_count": 6,
   "source": [
    "len(amine_df)"
   ],
   "outputs": [
    {
     "output_type": "execute_result",
     "data": {
      "text/plain": [
       "27"
      ]
     },
     "metadata": {},
     "execution_count": 6
    }
   ],
   "metadata": {}
  },
  {
   "cell_type": "code",
   "execution_count": 8,
   "source": [
    "chemical_names = utils.read_chemical_info()\n",
    "chemical_names.head()"
   ],
   "outputs": [
    {
     "output_type": "execute_result",
     "data": {
      "text/plain": [
       "         Chemical Name Chemical Abbreviation Molecular Weight (g/mol)  \\\n",
       "0                  NaN                   NaN                      NaN   \n",
       "1  Gamma-Butyrolactone                   GBL                    86.09   \n",
       "2   Dimethyl sulfoxide                  DMSO                    78.13   \n",
       "3          Formic Acid                   FAH                    46.03   \n",
       "4        Lead Diiodide                  PbI2                   461.01   \n",
       "\n",
       "   Density            (g/mL)                                 InChI=  \\\n",
       "0                        NaN                                    NaN   \n",
       "1                       1.12  InChI=1S/C4H6O2/c5-4-2-1-3-6-4/h1-3H2   \n",
       "2                       1.10        InChI=1S/C2H6OS/c1-4(2)3/h1-2H3   \n",
       "3                       1.22      InChI=1S/CH2O2/c2-1-3/h1H,(H,2,3)   \n",
       "4                       6.16       InChI=1S/2HI.Pb/h2*1H;/q;;+2/p-2   \n",
       "\n",
       "                InChI Key (ID) Chemical Category Canonical SMILES String  \\\n",
       "0                          NaN               NaN                     NaN   \n",
       "1  YEJRWHAVMIAJKC-UHFFFAOYSA-N           solvent             C1CC(=O)OC1   \n",
       "2  IAZDPXIOMUYVGZ-UHFFFAOYSA-N           solvent                 CS(=O)C   \n",
       "3  BDAGIHXWWSANSR-UHFFFAOYSA-N              acid                  C(=O)O   \n",
       "4  RQQRAHKHDFPBMC-UHFFFAOYSA-L         inorganic                  I[Pb]I   \n",
       "\n",
       "  Molecular Formula PubChem ID  ... Unnamed: 24 Unnamed: 25 Unnamed: 26  \\\n",
       "0               NaN        NaN  ...         NaN         NaN         NaN   \n",
       "1            C4H6O2        NaN  ...         NaN         NaN         NaN   \n",
       "2            C2H6OS        NaN  ...         NaN         NaN         NaN   \n",
       "3             CH2O2        NaN  ...         NaN         NaN         NaN   \n",
       "4              PbI2        NaN  ...         NaN         NaN         NaN   \n",
       "\n",
       "  Unnamed: 27 Unnamed: 28 Unnamed: 29 Unnamed: 30  Unnamed: 31  Unnamed: 32  \\\n",
       "0         NaN         NaN         NaN         NaN          NaN          NaN   \n",
       "1         NaN         NaN         NaN         NaN          NaN          NaN   \n",
       "2         NaN         NaN         NaN         NaN          NaN          NaN   \n",
       "3         NaN         NaN         NaN         NaN          NaN          NaN   \n",
       "4         NaN         NaN         NaN         NaN          NaN          NaN   \n",
       "\n",
       "   Unnamed: 33  \n",
       "0          NaN  \n",
       "1          NaN  \n",
       "2          NaN  \n",
       "3          NaN  \n",
       "4          NaN  \n",
       "\n",
       "[5 rows x 34 columns]"
      ],
      "text/html": [
       "<div>\n",
       "<style scoped>\n",
       "    .dataframe tbody tr th:only-of-type {\n",
       "        vertical-align: middle;\n",
       "    }\n",
       "\n",
       "    .dataframe tbody tr th {\n",
       "        vertical-align: top;\n",
       "    }\n",
       "\n",
       "    .dataframe thead th {\n",
       "        text-align: right;\n",
       "    }\n",
       "</style>\n",
       "<table border=\"1\" class=\"dataframe\">\n",
       "  <thead>\n",
       "    <tr style=\"text-align: right;\">\n",
       "      <th></th>\n",
       "      <th>Chemical Name</th>\n",
       "      <th>Chemical Abbreviation</th>\n",
       "      <th>Molecular Weight (g/mol)</th>\n",
       "      <th>Density            (g/mL)</th>\n",
       "      <th>InChI=</th>\n",
       "      <th>InChI Key (ID)</th>\n",
       "      <th>Chemical Category</th>\n",
       "      <th>Canonical SMILES String</th>\n",
       "      <th>Molecular Formula</th>\n",
       "      <th>PubChem ID</th>\n",
       "      <th>...</th>\n",
       "      <th>Unnamed: 24</th>\n",
       "      <th>Unnamed: 25</th>\n",
       "      <th>Unnamed: 26</th>\n",
       "      <th>Unnamed: 27</th>\n",
       "      <th>Unnamed: 28</th>\n",
       "      <th>Unnamed: 29</th>\n",
       "      <th>Unnamed: 30</th>\n",
       "      <th>Unnamed: 31</th>\n",
       "      <th>Unnamed: 32</th>\n",
       "      <th>Unnamed: 33</th>\n",
       "    </tr>\n",
       "  </thead>\n",
       "  <tbody>\n",
       "    <tr>\n",
       "      <th>0</th>\n",
       "      <td>NaN</td>\n",
       "      <td>NaN</td>\n",
       "      <td>NaN</td>\n",
       "      <td>NaN</td>\n",
       "      <td>NaN</td>\n",
       "      <td>NaN</td>\n",
       "      <td>NaN</td>\n",
       "      <td>NaN</td>\n",
       "      <td>NaN</td>\n",
       "      <td>NaN</td>\n",
       "      <td>...</td>\n",
       "      <td>NaN</td>\n",
       "      <td>NaN</td>\n",
       "      <td>NaN</td>\n",
       "      <td>NaN</td>\n",
       "      <td>NaN</td>\n",
       "      <td>NaN</td>\n",
       "      <td>NaN</td>\n",
       "      <td>NaN</td>\n",
       "      <td>NaN</td>\n",
       "      <td>NaN</td>\n",
       "    </tr>\n",
       "    <tr>\n",
       "      <th>1</th>\n",
       "      <td>Gamma-Butyrolactone</td>\n",
       "      <td>GBL</td>\n",
       "      <td>86.09</td>\n",
       "      <td>1.12</td>\n",
       "      <td>InChI=1S/C4H6O2/c5-4-2-1-3-6-4/h1-3H2</td>\n",
       "      <td>YEJRWHAVMIAJKC-UHFFFAOYSA-N</td>\n",
       "      <td>solvent</td>\n",
       "      <td>C1CC(=O)OC1</td>\n",
       "      <td>C4H6O2</td>\n",
       "      <td>NaN</td>\n",
       "      <td>...</td>\n",
       "      <td>NaN</td>\n",
       "      <td>NaN</td>\n",
       "      <td>NaN</td>\n",
       "      <td>NaN</td>\n",
       "      <td>NaN</td>\n",
       "      <td>NaN</td>\n",
       "      <td>NaN</td>\n",
       "      <td>NaN</td>\n",
       "      <td>NaN</td>\n",
       "      <td>NaN</td>\n",
       "    </tr>\n",
       "    <tr>\n",
       "      <th>2</th>\n",
       "      <td>Dimethyl sulfoxide</td>\n",
       "      <td>DMSO</td>\n",
       "      <td>78.13</td>\n",
       "      <td>1.10</td>\n",
       "      <td>InChI=1S/C2H6OS/c1-4(2)3/h1-2H3</td>\n",
       "      <td>IAZDPXIOMUYVGZ-UHFFFAOYSA-N</td>\n",
       "      <td>solvent</td>\n",
       "      <td>CS(=O)C</td>\n",
       "      <td>C2H6OS</td>\n",
       "      <td>NaN</td>\n",
       "      <td>...</td>\n",
       "      <td>NaN</td>\n",
       "      <td>NaN</td>\n",
       "      <td>NaN</td>\n",
       "      <td>NaN</td>\n",
       "      <td>NaN</td>\n",
       "      <td>NaN</td>\n",
       "      <td>NaN</td>\n",
       "      <td>NaN</td>\n",
       "      <td>NaN</td>\n",
       "      <td>NaN</td>\n",
       "    </tr>\n",
       "    <tr>\n",
       "      <th>3</th>\n",
       "      <td>Formic Acid</td>\n",
       "      <td>FAH</td>\n",
       "      <td>46.03</td>\n",
       "      <td>1.22</td>\n",
       "      <td>InChI=1S/CH2O2/c2-1-3/h1H,(H,2,3)</td>\n",
       "      <td>BDAGIHXWWSANSR-UHFFFAOYSA-N</td>\n",
       "      <td>acid</td>\n",
       "      <td>C(=O)O</td>\n",
       "      <td>CH2O2</td>\n",
       "      <td>NaN</td>\n",
       "      <td>...</td>\n",
       "      <td>NaN</td>\n",
       "      <td>NaN</td>\n",
       "      <td>NaN</td>\n",
       "      <td>NaN</td>\n",
       "      <td>NaN</td>\n",
       "      <td>NaN</td>\n",
       "      <td>NaN</td>\n",
       "      <td>NaN</td>\n",
       "      <td>NaN</td>\n",
       "      <td>NaN</td>\n",
       "    </tr>\n",
       "    <tr>\n",
       "      <th>4</th>\n",
       "      <td>Lead Diiodide</td>\n",
       "      <td>PbI2</td>\n",
       "      <td>461.01</td>\n",
       "      <td>6.16</td>\n",
       "      <td>InChI=1S/2HI.Pb/h2*1H;/q;;+2/p-2</td>\n",
       "      <td>RQQRAHKHDFPBMC-UHFFFAOYSA-L</td>\n",
       "      <td>inorganic</td>\n",
       "      <td>I[Pb]I</td>\n",
       "      <td>PbI2</td>\n",
       "      <td>NaN</td>\n",
       "      <td>...</td>\n",
       "      <td>NaN</td>\n",
       "      <td>NaN</td>\n",
       "      <td>NaN</td>\n",
       "      <td>NaN</td>\n",
       "      <td>NaN</td>\n",
       "      <td>NaN</td>\n",
       "      <td>NaN</td>\n",
       "      <td>NaN</td>\n",
       "      <td>NaN</td>\n",
       "      <td>NaN</td>\n",
       "    </tr>\n",
       "  </tbody>\n",
       "</table>\n",
       "<p>5 rows × 34 columns</p>\n",
       "</div>"
      ]
     },
     "metadata": {},
     "execution_count": 8
    }
   ],
   "metadata": {}
  },
  {
   "cell_type": "code",
   "execution_count": 9,
   "source": [
    "chemical_names.columns"
   ],
   "outputs": [
    {
     "output_type": "execute_result",
     "data": {
      "text/plain": [
       "Index(['Chemical Name', 'Chemical Abbreviation', 'Molecular Weight (g/mol)',\n",
       "       'Density            (g/mL)', 'InChI=', 'InChI Key (ID)',\n",
       "       'Chemical Category', 'Canonical SMILES String', 'Molecular Formula',\n",
       "       'PubChem ID', 'ECL Chemical id', 'ECL Product id',\n",
       "       'Catalog description', 'Synonyms', 'Catalog number',\n",
       "       'Sigma-Aldrich URL', 'Primary Information Source', 'Unnamed: 17',\n",
       "       'Unnamed: 18', 'Unnamed: 19', 'Unnamed: 20', 'Unnamed: 21',\n",
       "       'Unnamed: 22', 'Unnamed: 23', 'Unnamed: 24', 'Unnamed: 25',\n",
       "       'Unnamed: 26', 'Unnamed: 27', 'Unnamed: 28', 'Unnamed: 29',\n",
       "       'Unnamed: 30', 'Unnamed: 31', 'Unnamed: 32', 'Unnamed: 33'],\n",
       "      dtype='object')"
      ]
     },
     "metadata": {},
     "execution_count": 9
    }
   ],
   "metadata": {}
  },
  {
   "cell_type": "code",
   "execution_count": 10,
   "source": [
    "amine_cols_info = ['Chemical Abbreviation', 'InChI=', 'InChI Key (ID)', 'Canonical SMILES String']\n",
    "chemical_names = chemical_names[amine_cols_info].dropna()"
   ],
   "outputs": [],
   "metadata": {}
  },
  {
   "cell_type": "code",
   "execution_count": 11,
   "source": [
    "df_amine_with_names = amine_df.join(chemical_names.set_index('InChI Key (ID)'), on= '_rxn_organic-inchikey', how='inner')\n"
   ],
   "outputs": [],
   "metadata": {}
  },
  {
   "cell_type": "code",
   "execution_count": 12,
   "source": [
    "df_amine_with_names.columns[67:]"
   ],
   "outputs": [
    {
     "output_type": "execute_result",
     "data": {
      "text/plain": [
       "Index(['_rxn_organic-inchikey', 'Chemical Abbreviation', 'InChI=',\n",
       "       'Canonical SMILES String'],\n",
       "      dtype='object')"
      ]
     },
     "metadata": {},
     "execution_count": 12
    }
   ],
   "metadata": {}
  },
  {
   "cell_type": "code",
   "execution_count": 13,
   "source": [
    "amine_df = df_amine_with_names.drop(['Chemical Abbreviation', 'InChI=', '_rxn_organic-inchikey', 'Canonical SMILES String'], axis='columns')"
   ],
   "outputs": [],
   "metadata": {}
  },
  {
   "cell_type": "code",
   "execution_count": 15,
   "source": [
    "#amine_df['index'] = abb_amines_names\n",
    "#amine_df.set_index('index').to_csv('amines_fcp.csv')"
   ],
   "outputs": [],
   "metadata": {}
  },
  {
   "cell_type": "code",
   "execution_count": 16,
   "source": [
    "X = StandardScaler().fit_transform(amine_df)"
   ],
   "outputs": [],
   "metadata": {}
  },
  {
   "cell_type": "code",
   "execution_count": 17,
   "source": [
    "def explore_dbscan(X, range_distance):\n",
    "    clusters_size = np.zeros(range_distance.shape[0])\n",
    "    for num, distance in enumerate(range_distance):\n",
    "        db = DBSCAN(eps=distance, min_samples=1).fit(X)\n",
    "        clusters_size[num] = len(set(db.labels_))\n",
    "    return pd.DataFrame({'distance': range_distance, 'cluster size': clusters_size})\n"
   ],
   "outputs": [],
   "metadata": {}
  },
  {
   "cell_type": "code",
   "execution_count": 18,
   "source": [
    "def plot_scatter(x_column, y_column, x_label, y_label):\n",
    "    ax = sns.scatterplot(x=x_column, y=y_column)\n",
    "    ax.set(xlabel=x_label, ylabel=y_label)\n",
    "    plt.show()"
   ],
   "outputs": [],
   "metadata": {}
  },
  {
   "cell_type": "code",
   "execution_count": 19,
   "source": [
    "explore_dbscan_1_to_11 = explore_dbscan(X, np.arange(1,16,0.5))"
   ],
   "outputs": [],
   "metadata": {}
  },
  {
   "cell_type": "code",
   "execution_count": 20,
   "source": [
    "plot_scatter(explore_dbscan_1_to_11['distance'], explore_dbscan_1_to_11['cluster size'], 'Distancia', 'Cantidad de Cluster')"
   ],
   "outputs": [
    {
     "output_type": "display_data",
     "data": {
      "text/plain": [
       "<Figure size 432x432 with 1 Axes>"
      ],
      "image/png": "[encoded data removed]"
     },
     "metadata": {}
    }
   ],
   "metadata": {}
  },
  {
   "cell_type": "code",
   "execution_count": 21,
   "source": [
    "def dbsc_label(X, distance):\n",
    "    db = DBSCAN(eps=distance, min_samples=1).fit(X)\n",
    "    return db.labels_"
   ],
   "outputs": [],
   "metadata": {}
  },
  {
   "cell_type": "code",
   "execution_count": 22,
   "source": [
    "cluster = dbsc_label(X, 6)\n",
    "cluster"
   ],
   "outputs": [
    {
     "output_type": "execute_result",
     "data": {
      "text/plain": [
       "array([0, 0, 1, 2, 0, 0, 0, 0, 0, 2, 0, 0, 3, 0, 2, 0, 2, 2, 2, 4, 2, 2,\n",
       "       0, 5, 6, 2, 7])"
      ]
     },
     "metadata": {},
     "execution_count": 22
    }
   ],
   "metadata": {}
  },
  {
   "cell_type": "code",
   "execution_count": 23,
   "source": [
    "df_amine_with_names['cluster'] = cluster"
   ],
   "outputs": [],
   "metadata": {}
  },
  {
   "cell_type": "code",
   "execution_count": 83,
   "source": [
    "df_amine_with_names.query('cluster == 0')['Chemical Abbreviation']\n"
   ],
   "outputs": [
    {
     "output_type": "execute_result",
     "data": {
      "text/plain": [
       "0         IPentylammoniumIodide\n",
       "1                      n-BuNH3I\n",
       "4         iPropylammoniumIodide\n",
       "5         Diethylammoniumiodide\n",
       "6     Diisopropylammoniumiodide\n",
       "7          nHexylammoniumIodide\n",
       "8          iButylammoniumIodide\n",
       "10      neoPentylammoniumIodide\n",
       "11        NPropylammoniumIodide\n",
       "15         tButylammoniumIodide\n",
       "19                       MeNH3I\n",
       "70      TertOctylammoniumIodide\n",
       "Name: Chemical Abbreviation, dtype: object"
      ]
     },
     "metadata": {},
     "execution_count": 83
    }
   ],
   "metadata": {}
  },
  {
   "cell_type": "code",
   "execution_count": 81,
   "source": [
    "df_amine_with_names.query('cluster == 2')[rings_feat]"
   ],
   "outputs": [
    {
     "output_type": "execute_result",
     "data": {
      "text/plain": [
       "     _feat_CyclomaticNumber  _feat_CarboaromaticRingCount  \\\n",
       "3                         1                             1   \n",
       "9                         1                             1   \n",
       "18                        1                             1   \n",
       "22                        1                             1   \n",
       "33                        1                             1   \n",
       "36                        1                             1   \n",
       "53                        1                             1   \n",
       "60                        1                             1   \n",
       "187                       1                             1   \n",
       "\n",
       "     _feat_CarboRingCount  _feat_LargestRingSize  _feat_RingAtomCount  \\\n",
       "3                       1                      6                    6   \n",
       "9                       1                      6                    6   \n",
       "18                      1                      6                    6   \n",
       "22                      1                      6                    6   \n",
       "33                      1                      6                    6   \n",
       "36                      1                      6                    6   \n",
       "53                      1                      6                    6   \n",
       "60                      1                      6                    6   \n",
       "187                     1                      6                    6   \n",
       "\n",
       "     _feat_SmallestRingSize  _feat_AromaticRingCount  _feat_AromaticAtomCount  \n",
       "3                         6                        1                        6  \n",
       "9                         6                        1                        6  \n",
       "18                        6                        1                        6  \n",
       "22                        6                        1                        6  \n",
       "33                        6                        1                        6  \n",
       "36                        6                        1                        6  \n",
       "53                        6                        1                        6  \n",
       "60                        6                        1                        6  \n",
       "187                       6                        1                        6  "
      ],
      "text/html": [
       "<div>\n",
       "<style scoped>\n",
       "    .dataframe tbody tr th:only-of-type {\n",
       "        vertical-align: middle;\n",
       "    }\n",
       "\n",
       "    .dataframe tbody tr th {\n",
       "        vertical-align: top;\n",
       "    }\n",
       "\n",
       "    .dataframe thead th {\n",
       "        text-align: right;\n",
       "    }\n",
       "</style>\n",
       "<table border=\"1\" class=\"dataframe\">\n",
       "  <thead>\n",
       "    <tr style=\"text-align: right;\">\n",
       "      <th></th>\n",
       "      <th>_feat_CyclomaticNumber</th>\n",
       "      <th>_feat_CarboaromaticRingCount</th>\n",
       "      <th>_feat_CarboRingCount</th>\n",
       "      <th>_feat_LargestRingSize</th>\n",
       "      <th>_feat_RingAtomCount</th>\n",
       "      <th>_feat_SmallestRingSize</th>\n",
       "      <th>_feat_AromaticRingCount</th>\n",
       "      <th>_feat_AromaticAtomCount</th>\n",
       "    </tr>\n",
       "  </thead>\n",
       "  <tbody>\n",
       "    <tr>\n",
       "      <th>3</th>\n",
       "      <td>1</td>\n",
       "      <td>1</td>\n",
       "      <td>1</td>\n",
       "      <td>6</td>\n",
       "      <td>6</td>\n",
       "      <td>6</td>\n",
       "      <td>1</td>\n",
       "      <td>6</td>\n",
       "    </tr>\n",
       "    <tr>\n",
       "      <th>9</th>\n",
       "      <td>1</td>\n",
       "      <td>1</td>\n",
       "      <td>1</td>\n",
       "      <td>6</td>\n",
       "      <td>6</td>\n",
       "      <td>6</td>\n",
       "      <td>1</td>\n",
       "      <td>6</td>\n",
       "    </tr>\n",
       "    <tr>\n",
       "      <th>18</th>\n",
       "      <td>1</td>\n",
       "      <td>1</td>\n",
       "      <td>1</td>\n",
       "      <td>6</td>\n",
       "      <td>6</td>\n",
       "      <td>6</td>\n",
       "      <td>1</td>\n",
       "      <td>6</td>\n",
       "    </tr>\n",
       "    <tr>\n",
       "      <th>22</th>\n",
       "      <td>1</td>\n",
       "      <td>1</td>\n",
       "      <td>1</td>\n",
       "      <td>6</td>\n",
       "      <td>6</td>\n",
       "      <td>6</td>\n",
       "      <td>1</td>\n",
       "      <td>6</td>\n",
       "    </tr>\n",
       "    <tr>\n",
       "      <th>33</th>\n",
       "      <td>1</td>\n",
       "      <td>1</td>\n",
       "      <td>1</td>\n",
       "      <td>6</td>\n",
       "      <td>6</td>\n",
       "      <td>6</td>\n",
       "      <td>1</td>\n",
       "      <td>6</td>\n",
       "    </tr>\n",
       "    <tr>\n",
       "      <th>36</th>\n",
       "      <td>1</td>\n",
       "      <td>1</td>\n",
       "      <td>1</td>\n",
       "      <td>6</td>\n",
       "      <td>6</td>\n",
       "      <td>6</td>\n",
       "      <td>1</td>\n",
       "      <td>6</td>\n",
       "    </tr>\n",
       "    <tr>\n",
       "      <th>53</th>\n",
       "      <td>1</td>\n",
       "      <td>1</td>\n",
       "      <td>1</td>\n",
       "      <td>6</td>\n",
       "      <td>6</td>\n",
       "      <td>6</td>\n",
       "      <td>1</td>\n",
       "      <td>6</td>\n",
       "    </tr>\n",
       "    <tr>\n",
       "      <th>60</th>\n",
       "      <td>1</td>\n",
       "      <td>1</td>\n",
       "      <td>1</td>\n",
       "      <td>6</td>\n",
       "      <td>6</td>\n",
       "      <td>6</td>\n",
       "      <td>1</td>\n",
       "      <td>6</td>\n",
       "    </tr>\n",
       "    <tr>\n",
       "      <th>187</th>\n",
       "      <td>1</td>\n",
       "      <td>1</td>\n",
       "      <td>1</td>\n",
       "      <td>6</td>\n",
       "      <td>6</td>\n",
       "      <td>6</td>\n",
       "      <td>1</td>\n",
       "      <td>6</td>\n",
       "    </tr>\n",
       "  </tbody>\n",
       "</table>\n",
       "</div>"
      ]
     },
     "metadata": {},
     "execution_count": 81
    }
   ],
   "metadata": {}
  },
  {
   "cell_type": "code",
   "execution_count": 24,
   "source": [
    "df_amine_with_names.query('cluster == 5')['Chemical Abbreviation']\n"
   ],
   "outputs": [
    {
     "output_type": "execute_result",
     "data": {
      "text/plain": [
       "78    nDodecylammoniumIodide\n",
       "Name: Chemical Abbreviation, dtype: object"
      ]
     },
     "metadata": {},
     "execution_count": 24
    }
   ],
   "metadata": {}
  },
  {
   "cell_type": "code",
   "execution_count": 25,
   "source": [
    "df_amine_with_names.query('cluster == 3')['Chemical Abbreviation']\n"
   ],
   "outputs": [
    {
     "output_type": "execute_result",
     "data": {
      "text/plain": [
       "14    CyclohexylmethylammoniumIodide\n",
       "Name: Chemical Abbreviation, dtype: object"
      ]
     },
     "metadata": {},
     "execution_count": 25
    }
   ],
   "metadata": {}
  },
  {
   "cell_type": "code",
   "execution_count": 80,
   "source": [
    "rings_feat = ['_feat_CyclomaticNumber',\n",
    " '_feat_CarboaromaticRingCount',\n",
    " '_feat_CarboRingCount',\n",
    " '_feat_LargestRingSize',\n",
    " '_feat_RingAtomCount',\n",
    " '_feat_SmallestRingSize',\n",
    " '_feat_AromaticRingCount',\n",
    " '_feat_AromaticAtomCount']\n",
    "\n",
    "df_amine_with_names.query('cluster == 1 or cluster >= 3')[rings_feat]\n"
   ],
   "outputs": [
    {
     "output_type": "execute_result",
     "data": {
      "text/plain": [
       "      _feat_CyclomaticNumber  _feat_CarboaromaticRingCount  \\\n",
       "2                          0                             0   \n",
       "14                         1                             0   \n",
       "46                         0                             0   \n",
       "78                         0                             0   \n",
       "109                        0                             0   \n",
       "1811                       1                             0   \n",
       "\n",
       "      _feat_CarboRingCount  _feat_LargestRingSize  _feat_RingAtomCount  \\\n",
       "2                        0                      0                    0   \n",
       "14                       1                      6                    6   \n",
       "46                       0                      0                    0   \n",
       "78                       0                      0                    0   \n",
       "109                      0                      0                    0   \n",
       "1811                     0                      5                    5   \n",
       "\n",
       "      _feat_SmallestRingSize  _feat_AromaticRingCount  _feat_AromaticAtomCount  \n",
       "2                          0                        0                        0  \n",
       "14                         6                        0                        0  \n",
       "46                         0                        0                        0  \n",
       "78                         0                        0                        0  \n",
       "109                        0                        0                        0  \n",
       "1811                       5                        0                        0  "
      ],
      "text/html": [
       "<div>\n",
       "<style scoped>\n",
       "    .dataframe tbody tr th:only-of-type {\n",
       "        vertical-align: middle;\n",
       "    }\n",
       "\n",
       "    .dataframe tbody tr th {\n",
       "        vertical-align: top;\n",
       "    }\n",
       "\n",
       "    .dataframe thead th {\n",
       "        text-align: right;\n",
       "    }\n",
       "</style>\n",
       "<table border=\"1\" class=\"dataframe\">\n",
       "  <thead>\n",
       "    <tr style=\"text-align: right;\">\n",
       "      <th></th>\n",
       "      <th>_feat_CyclomaticNumber</th>\n",
       "      <th>_feat_CarboaromaticRingCount</th>\n",
       "      <th>_feat_CarboRingCount</th>\n",
       "      <th>_feat_LargestRingSize</th>\n",
       "      <th>_feat_RingAtomCount</th>\n",
       "      <th>_feat_SmallestRingSize</th>\n",
       "      <th>_feat_AromaticRingCount</th>\n",
       "      <th>_feat_AromaticAtomCount</th>\n",
       "    </tr>\n",
       "  </thead>\n",
       "  <tbody>\n",
       "    <tr>\n",
       "      <th>2</th>\n",
       "      <td>0</td>\n",
       "      <td>0</td>\n",
       "      <td>0</td>\n",
       "      <td>0</td>\n",
       "      <td>0</td>\n",
       "      <td>0</td>\n",
       "      <td>0</td>\n",
       "      <td>0</td>\n",
       "    </tr>\n",
       "    <tr>\n",
       "      <th>14</th>\n",
       "      <td>1</td>\n",
       "      <td>0</td>\n",
       "      <td>1</td>\n",
       "      <td>6</td>\n",
       "      <td>6</td>\n",
       "      <td>6</td>\n",
       "      <td>0</td>\n",
       "      <td>0</td>\n",
       "    </tr>\n",
       "    <tr>\n",
       "      <th>46</th>\n",
       "      <td>0</td>\n",
       "      <td>0</td>\n",
       "      <td>0</td>\n",
       "      <td>0</td>\n",
       "      <td>0</td>\n",
       "      <td>0</td>\n",
       "      <td>0</td>\n",
       "      <td>0</td>\n",
       "    </tr>\n",
       "    <tr>\n",
       "      <th>78</th>\n",
       "      <td>0</td>\n",
       "      <td>0</td>\n",
       "      <td>0</td>\n",
       "      <td>0</td>\n",
       "      <td>0</td>\n",
       "      <td>0</td>\n",
       "      <td>0</td>\n",
       "      <td>0</td>\n",
       "    </tr>\n",
       "    <tr>\n",
       "      <th>109</th>\n",
       "      <td>0</td>\n",
       "      <td>0</td>\n",
       "      <td>0</td>\n",
       "      <td>0</td>\n",
       "      <td>0</td>\n",
       "      <td>0</td>\n",
       "      <td>0</td>\n",
       "      <td>0</td>\n",
       "    </tr>\n",
       "    <tr>\n",
       "      <th>1811</th>\n",
       "      <td>1</td>\n",
       "      <td>0</td>\n",
       "      <td>0</td>\n",
       "      <td>5</td>\n",
       "      <td>5</td>\n",
       "      <td>5</td>\n",
       "      <td>0</td>\n",
       "      <td>0</td>\n",
       "    </tr>\n",
       "  </tbody>\n",
       "</table>\n",
       "</div>"
      ]
     },
     "metadata": {},
     "execution_count": 80
    }
   ],
   "metadata": {}
  },
  {
   "cell_type": "code",
   "execution_count": 27,
   "source": [
    "chemical_names = utils.read_chemical_info()"
   ],
   "outputs": [],
   "metadata": {}
  },
  {
   "cell_type": "code",
   "execution_count": 28,
   "source": [
    "cluster"
   ],
   "outputs": [
    {
     "output_type": "execute_result",
     "data": {
      "text/plain": [
       "array([0, 0, 1, 2, 0, 0, 0, 0, 0, 2, 0, 0, 3, 0, 2, 0, 2, 2, 2, 4, 2, 2,\n",
       "       0, 5, 6, 2, 7])"
      ]
     },
     "metadata": {},
     "execution_count": 28
    }
   ],
   "metadata": {}
  },
  {
   "cell_type": "markdown",
   "source": [
    "## Clusterization by Amines structural similarities"
   ],
   "metadata": {}
  },
  {
   "cell_type": "code",
   "execution_count": 26,
   "source": [
    "smile_col = 'Canonical SMILES String'\n",
    "amines_smiles = df_amine_with_names[smile_col]"
   ],
   "outputs": [],
   "metadata": {}
  },
  {
   "cell_type": "code",
   "execution_count": 27,
   "source": [
    "abb_amines_names = df_amine_with_names['Chemical Abbreviation'].str.replace('ammoniumIodide', '')\n",
    "abb_amines_names = abb_amines_names.str.replace('ammoniumiodide', '').to_list()"
   ],
   "outputs": [],
   "metadata": {}
  },
  {
   "cell_type": "code",
   "execution_count": 29,
   "source": [
    "\n",
    "def calculate_amine_fingerprint_distance(amines_smiles, amines_names, structure_metric):\n",
    "    \"\"\"\n",
    "        Heatmap for amine similarity by structure distance method.\n",
    "        amines_smiles: vector of amines by SMILE code.\n",
    "        structure_metric: {'Tanimoto', 'Dice', 'BulkTanimoto'}\n",
    "        TODO: Add more DataStructs Similarity Metric.\n",
    "    \"\"\"\n",
    "    metrics={\n",
    "        'Tanimoto': DataStructs.TanimotoSimilarity,\n",
    "        'Dice': DataStructs.DiceSimilarity,\n",
    "        'BulkTanimoto': DataStructs.BulkTanimotoSimilarity\n",
    "    }\n",
    "    \n",
    "    amines_molecules = [Chem.MolFromSmiles(smile) for smile in amines_smiles]\n",
    "    amines_fingerprints = [Chem.RDKFingerprint(x) for x in amines_molecules]\n",
    "    size = len(amines_names)\n",
    "    similarity_array = np.zeros((size,size))\n",
    "\n",
    "    for index1, mole1 in enumerate(amines_fingerprints):\n",
    "        for index2, mole2 in enumerate(amines_fingerprints):\n",
    "            similarity_array[index1,index2] = DataStructs.FingerprintSimilarity(mole1,mole2, metrics[structure_metric])\n",
    "    \n",
    "    return similarity_array"
   ],
   "outputs": [],
   "metadata": {}
  },
  {
   "cell_type": "code",
   "execution_count": 32,
   "source": [
    "#pd.DataFrame(similarity_tanimoto, abb_amines_names).to_csv('similarity_tanimoto.csv')"
   ],
   "outputs": [],
   "metadata": {}
  },
  {
   "cell_type": "code",
   "execution_count": 33,
   "source": [
    "similarity_tanimoto = calculate_amine_fingerprint_distance(amines_smiles, abb_amines_names, 'Tanimoto')\n",
    "plot_heatmap_plotly(similarity_tanimoto, abb_amines_names, 'Similaridad Estructural de Aminas', 'centroid', 'Coff Tanimoto')\n"
   ],
   "outputs": [
    {
     "output_type": "display_data",
     "data": {
      "text/html": [
       "<div>                            <div id=\"f11003f6-8e01-475e-9209-239f57ff8d37\" class=\"plotly-graph-div\" style=\"height:800px; width:800px;\"></div>            <script type=\"text/javascript\">                require([\"plotly\"], function(Plotly) {                    window.PLOTLYENV=window.PLOTLYENV || {};                                    if (document.getElementById(\"f11003f6-8e01-475e-9209-239f57ff8d37\")) {                    Plotly.newPlot(                        \"f11003f6-8e01-475e-9209-239f57ff8d37\",                        [{\"hoverinfo\":\"text\",\"marker\":{\"color\":\"rgb(61,153,112)\"},\"mode\":\"lines\",\"type\":\"scatter\",\"x\":[25.0,25.0,35.0,35.0],\"xaxis\":\"x\",\"y\":[0.0,0.38780956796418764,0.38780956796418764,0.0],\"yaxis\":\"y2\"},{\"hoverinfo\":\"text\",\"marker\":{\"color\":\"rgb(61,153,112)\"},\"mode\":\"lines\",\"type\":\"scatter\",\"x\":[15.0,15.0,30.0,30.0],\"xaxis\":\"x\",\"y\":[0.0,0.984739786387532,0.984739786387532,0.38780956796418764],\"yaxis\":\"y2\"},{\"hoverinfo\":\"text\",\"marker\":{\"color\":\"rgb(255,65,54)\"},\"mode\":\"lines\",\"type\":\"scatter\",\"x\":[45.0,45.0,55.0,55.0],\"xaxis\":\"x\",\"y\":[0.0,0.5466289191743684,0.5466289191743684,0.0],\"yaxis\":\"y2\"},{\"hoverinfo\":\"text\",\"marker\":{\"color\":\"rgb(255,65,54)\"},\"mode\":\"lines\",\"type\":\"scatter\",\"x\":[75.0,75.0,85.0,85.0],\"xaxis\":\"x\",\"y\":[0.0,0.41466681273855827,0.41466681273855827,0.0],\"yaxis\":\"y2\"},{\"hoverinfo\":\"text\",\"marker\":{\"color\":\"rgb(255,65,54)\"},\"mode\":\"lines\",\"type\":\"scatter\",\"x\":[65.0,65.0,80.0,80.0],\"xaxis\":\"x\",\"y\":[0.0,0.6385842025783323,0.6385842025783323,0.41466681273855827],\"yaxis\":\"y2\"},{\"hoverinfo\":\"text\",\"marker\":{\"color\":\"rgb(255,65,54)\"},\"mode\":\"lines\",\"type\":\"scatter\",\"x\":[50.0,50.0,72.5,72.5],\"xaxis\":\"x\",\"y\":[0.5466289191743684,0.6976133598569921,0.6976133598569921,0.6385842025783323],\"yaxis\":\"y2\"},{\"hoverinfo\":\"text\",\"marker\":{\"color\":\"rgb(255,65,54)\"},\"mode\":\"lines\",\"type\":\"scatter\",\"x\":[95.0,95.0,105.0,105.0],\"xaxis\":\"x\",\"y\":[0.0,0.48966041247567665,0.48966041247567665,0.0],\"yaxis\":\"y2\"},{\"hoverinfo\":\"text\",\"marker\":{\"color\":\"rgb(255,65,54)\"},\"mode\":\"lines\",\"type\":\"scatter\",\"x\":[61.25,61.25,100.0,100.0],\"xaxis\":\"x\",\"y\":[0.6976133598569921,0.7722362801574217,0.7722362801574217,0.48966041247567665],\"yaxis\":\"y2\"},{\"hoverinfo\":\"text\",\"marker\":{\"color\":\"rgb(0,116,217)\"},\"mode\":\"lines\",\"type\":\"scatter\",\"x\":[22.5,22.5,80.625,80.625],\"xaxis\":\"x\",\"y\":[0.984739786387532,1.0483680906778832,1.0483680906778832,0.7722362801574217],\"yaxis\":\"y2\"},{\"hoverinfo\":\"text\",\"marker\":{\"color\":\"rgb(255,65,54)\"},\"mode\":\"lines\",\"type\":\"scatter\",\"x\":[115.0,115.0,125.0,125.0],\"xaxis\":\"x\",\"y\":[0.0,0.6162389582803675,0.6162389582803675,0.0],\"yaxis\":\"y2\"},{\"hoverinfo\":\"text\",\"marker\":{\"color\":\"rgb(255,65,54)\"},\"mode\":\"lines\",\"type\":\"scatter\",\"x\":[51.5625,51.5625,120.0,120.0],\"xaxis\":\"x\",\"y\":[1.0483680906778832,1.0387830810801184,1.0387830810801184,0.6162389582803675],\"yaxis\":\"y2\"},{\"hoverinfo\":\"text\",\"marker\":{\"color\":\"rgb(0,116,217)\"},\"mode\":\"lines\",\"type\":\"scatter\",\"x\":[5.0,5.0,85.78125,85.78125],\"xaxis\":\"x\",\"y\":[0.0,1.1222231049951805,1.1222231049951805,1.0387830810801184],\"yaxis\":\"y2\"},{\"hoverinfo\":\"text\",\"marker\":{\"color\":\"rgb(0,116,217)\"},\"mode\":\"lines\",\"type\":\"scatter\",\"x\":[45.390625,45.390625,135.0,135.0],\"xaxis\":\"x\",\"y\":[1.1222231049951805,1.1623349644646408,1.1623349644646408,0.0],\"yaxis\":\"y2\"},{\"hoverinfo\":\"text\",\"marker\":{\"color\":\"rgb(35,205,205)\"},\"mode\":\"lines\",\"type\":\"scatter\",\"x\":[155.0,155.0,165.0,165.0],\"xaxis\":\"x\",\"y\":[0.0,0.5853479416966549,0.5853479416966549,0.0],\"yaxis\":\"y2\"},{\"hoverinfo\":\"text\",\"marker\":{\"color\":\"rgb(0,116,217)\"},\"mode\":\"lines\",\"type\":\"scatter\",\"x\":[145.0,145.0,160.0,160.0],\"xaxis\":\"x\",\"y\":[0.0,1.0729775945157214,1.0729775945157214,0.5853479416966549],\"yaxis\":\"y2\"},{\"hoverinfo\":\"text\",\"marker\":{\"color\":\"rgb(0,116,217)\"},\"mode\":\"lines\",\"type\":\"scatter\",\"x\":[152.5,152.5,175.0,175.0],\"xaxis\":\"x\",\"y\":[1.0729775945157214,1.1809234808670612,1.1809234808670612,0.0],\"yaxis\":\"y2\"},{\"hoverinfo\":\"text\",\"marker\":{\"color\":\"rgb(133,20,75)\"},\"mode\":\"lines\",\"type\":\"scatter\",\"x\":[185.0,185.0,195.0,195.0],\"xaxis\":\"x\",\"y\":[0.0,0.7323664942085689,0.7323664942085689,0.0],\"yaxis\":\"y2\"},{\"hoverinfo\":\"text\",\"marker\":{\"color\":\"rgb(133,20,75)\"},\"mode\":\"lines\",\"type\":\"scatter\",\"x\":[190.0,190.0,205.0,205.0],\"xaxis\":\"x\",\"y\":[0.7323664942085689,0.9689866572146281,0.9689866572146281,0.0],\"yaxis\":\"y2\"},{\"hoverinfo\":\"text\",\"marker\":{\"color\":\"rgb(255,220,0)\"},\"mode\":\"lines\",\"type\":\"scatter\",\"x\":[225.0,225.0,235.0,235.0],\"xaxis\":\"x\",\"y\":[0.0,0.5412069874490151,0.5412069874490151,0.0],\"yaxis\":\"y2\"},{\"hoverinfo\":\"text\",\"marker\":{\"color\":\"rgb(255,220,0)\"},\"mode\":\"lines\",\"type\":\"scatter\",\"x\":[215.0,215.0,230.0,230.0],\"xaxis\":\"x\",\"y\":[0.0,0.8038240766063832,0.8038240766063832,0.5412069874490151],\"yaxis\":\"y2\"},{\"hoverinfo\":\"text\",\"marker\":{\"color\":\"rgb(255,220,0)\"},\"mode\":\"lines\",\"type\":\"scatter\",\"x\":[255.0,255.0,265.0,265.0],\"xaxis\":\"x\",\"y\":[0.0,0.7472015068547558,0.7472015068547558,0.0],\"yaxis\":\"y2\"},{\"hoverinfo\":\"text\",\"marker\":{\"color\":\"rgb(255,220,0)\"},\"mode\":\"lines\",\"type\":\"scatter\",\"x\":[245.0,245.0,260.0,260.0],\"xaxis\":\"x\",\"y\":[0.0,0.9286019212205604,0.9286019212205604,0.7472015068547558],\"yaxis\":\"y2\"},{\"hoverinfo\":\"text\",\"marker\":{\"color\":\"rgb(255,220,0)\"},\"mode\":\"lines\",\"type\":\"scatter\",\"x\":[222.5,222.5,252.5,252.5],\"xaxis\":\"x\",\"y\":[0.8038240766063832,1.0085186606098258,1.0085186606098258,0.9286019212205604],\"yaxis\":\"y2\"},{\"hoverinfo\":\"text\",\"marker\":{\"color\":\"rgb(0,116,217)\"},\"mode\":\"lines\",\"type\":\"scatter\",\"x\":[197.5,197.5,237.5,237.5],\"xaxis\":\"x\",\"y\":[0.9689866572146281,1.0752681199392076,1.0752681199392076,1.0085186606098258],\"yaxis\":\"y2\"},{\"hoverinfo\":\"text\",\"marker\":{\"color\":\"rgb(0,116,217)\"},\"mode\":\"lines\",\"type\":\"scatter\",\"x\":[163.75,163.75,217.5,217.5],\"xaxis\":\"x\",\"y\":[1.1809234808670612,1.307981820976663,1.307981820976663,1.0752681199392076],\"yaxis\":\"y2\"},{\"hoverinfo\":\"text\",\"marker\":{\"color\":\"rgb(0,116,217)\"},\"mode\":\"lines\",\"type\":\"scatter\",\"x\":[90.1953125,90.1953125,190.625,190.625],\"xaxis\":\"x\",\"y\":[1.1623349644646408,1.4848431026580822,1.4848431026580822,1.307981820976663],\"yaxis\":\"y2\"},{\"hoverinfo\":\"text\",\"marker\":{\"color\":\"rgb(61,153,112)\"},\"mode\":\"lines\",\"type\":\"scatter\",\"x\":[-0.0,-0.38780956796418764,-0.38780956796418764,-0.0],\"xaxis\":\"x2\",\"y\":[25.0,25.0,35.0,35.0],\"yaxis\":\"y\"},{\"hoverinfo\":\"text\",\"marker\":{\"color\":\"rgb(61,153,112)\"},\"mode\":\"lines\",\"type\":\"scatter\",\"x\":[-0.0,-0.984739786387532,-0.984739786387532,-0.38780956796418764],\"xaxis\":\"x2\",\"y\":[15.0,15.0,30.0,30.0],\"yaxis\":\"y\"},{\"hoverinfo\":\"text\",\"marker\":{\"color\":\"rgb(255,65,54)\"},\"mode\":\"lines\",\"type\":\"scatter\",\"x\":[-0.0,-0.5466289191743684,-0.5466289191743684,-0.0],\"xaxis\":\"x2\",\"y\":[45.0,45.0,55.0,55.0],\"yaxis\":\"y\"},{\"hoverinfo\":\"text\",\"marker\":{\"color\":\"rgb(255,65,54)\"},\"mode\":\"lines\",\"type\":\"scatter\",\"x\":[-0.0,-0.41466681273855827,-0.41466681273855827,-0.0],\"xaxis\":\"x2\",\"y\":[75.0,75.0,85.0,85.0],\"yaxis\":\"y\"},{\"hoverinfo\":\"text\",\"marker\":{\"color\":\"rgb(255,65,54)\"},\"mode\":\"lines\",\"type\":\"scatter\",\"x\":[-0.0,-0.6385842025783323,-0.6385842025783323,-0.41466681273855827],\"xaxis\":\"x2\",\"y\":[65.0,65.0,80.0,80.0],\"yaxis\":\"y\"},{\"hoverinfo\":\"text\",\"marker\":{\"color\":\"rgb(255,65,54)\"},\"mode\":\"lines\",\"type\":\"scatter\",\"x\":[-0.5466289191743684,-0.6976133598569921,-0.6976133598569921,-0.6385842025783323],\"xaxis\":\"x2\",\"y\":[50.0,50.0,72.5,72.5],\"yaxis\":\"y\"},{\"hoverinfo\":\"text\",\"marker\":{\"color\":\"rgb(255,65,54)\"},\"mode\":\"lines\",\"type\":\"scatter\",\"x\":[-0.0,-0.48966041247567665,-0.48966041247567665,-0.0],\"xaxis\":\"x2\",\"y\":[95.0,95.0,105.0,105.0],\"yaxis\":\"y\"},{\"hoverinfo\":\"text\",\"marker\":{\"color\":\"rgb(255,65,54)\"},\"mode\":\"lines\",\"type\":\"scatter\",\"x\":[-0.6976133598569921,-0.7722362801574217,-0.7722362801574217,-0.48966041247567665],\"xaxis\":\"x2\",\"y\":[61.25,61.25,100.0,100.0],\"yaxis\":\"y\"},{\"hoverinfo\":\"text\",\"marker\":{\"color\":\"rgb(0,116,217)\"},\"mode\":\"lines\",\"type\":\"scatter\",\"x\":[-0.984739786387532,-1.0483680906778832,-1.0483680906778832,-0.7722362801574217],\"xaxis\":\"x2\",\"y\":[22.5,22.5,80.625,80.625],\"yaxis\":\"y\"},{\"hoverinfo\":\"text\",\"marker\":{\"color\":\"rgb(255,65,54)\"},\"mode\":\"lines\",\"type\":\"scatter\",\"x\":[-0.0,-0.6162389582803675,-0.6162389582803675,-0.0],\"xaxis\":\"x2\",\"y\":[115.0,115.0,125.0,125.0],\"yaxis\":\"y\"},{\"hoverinfo\":\"text\",\"marker\":{\"color\":\"rgb(255,65,54)\"},\"mode\":\"lines\",\"type\":\"scatter\",\"x\":[-1.0483680906778832,-1.0387830810801184,-1.0387830810801184,-0.6162389582803675],\"xaxis\":\"x2\",\"y\":[51.5625,51.5625,120.0,120.0],\"yaxis\":\"y\"},{\"hoverinfo\":\"text\",\"marker\":{\"color\":\"rgb(0,116,217)\"},\"mode\":\"lines\",\"type\":\"scatter\",\"x\":[-0.0,-1.1222231049951805,-1.1222231049951805,-1.0387830810801184],\"xaxis\":\"x2\",\"y\":[5.0,5.0,85.78125,85.78125],\"yaxis\":\"y\"},{\"hoverinfo\":\"text\",\"marker\":{\"color\":\"rgb(0,116,217)\"},\"mode\":\"lines\",\"type\":\"scatter\",\"x\":[-1.1222231049951805,-1.1623349644646408,-1.1623349644646408,-0.0],\"xaxis\":\"x2\",\"y\":[45.390625,45.390625,135.0,135.0],\"yaxis\":\"y\"},{\"hoverinfo\":\"text\",\"marker\":{\"color\":\"rgb(35,205,205)\"},\"mode\":\"lines\",\"type\":\"scatter\",\"x\":[-0.0,-0.5853479416966549,-0.5853479416966549,-0.0],\"xaxis\":\"x2\",\"y\":[155.0,155.0,165.0,165.0],\"yaxis\":\"y\"},{\"hoverinfo\":\"text\",\"marker\":{\"color\":\"rgb(0,116,217)\"},\"mode\":\"lines\",\"type\":\"scatter\",\"x\":[-0.0,-1.0729775945157214,-1.0729775945157214,-0.5853479416966549],\"xaxis\":\"x2\",\"y\":[145.0,145.0,160.0,160.0],\"yaxis\":\"y\"},{\"hoverinfo\":\"text\",\"marker\":{\"color\":\"rgb(0,116,217)\"},\"mode\":\"lines\",\"type\":\"scatter\",\"x\":[-1.0729775945157214,-1.1809234808670612,-1.1809234808670612,-0.0],\"xaxis\":\"x2\",\"y\":[152.5,152.5,175.0,175.0],\"yaxis\":\"y\"},{\"hoverinfo\":\"text\",\"marker\":{\"color\":\"rgb(133,20,75)\"},\"mode\":\"lines\",\"type\":\"scatter\",\"x\":[-0.0,-0.7323664942085689,-0.7323664942085689,-0.0],\"xaxis\":\"x2\",\"y\":[185.0,185.0,195.0,195.0],\"yaxis\":\"y\"},{\"hoverinfo\":\"text\",\"marker\":{\"color\":\"rgb(133,20,75)\"},\"mode\":\"lines\",\"type\":\"scatter\",\"x\":[-0.7323664942085689,-0.9689866572146281,-0.9689866572146281,-0.0],\"xaxis\":\"x2\",\"y\":[190.0,190.0,205.0,205.0],\"yaxis\":\"y\"},{\"hoverinfo\":\"text\",\"marker\":{\"color\":\"rgb(255,220,0)\"},\"mode\":\"lines\",\"type\":\"scatter\",\"x\":[-0.0,-0.5412069874490151,-0.5412069874490151,-0.0],\"xaxis\":\"x2\",\"y\":[225.0,225.0,235.0,235.0],\"yaxis\":\"y\"},{\"hoverinfo\":\"text\",\"marker\":{\"color\":\"rgb(255,220,0)\"},\"mode\":\"lines\",\"type\":\"scatter\",\"x\":[-0.0,-0.8038240766063832,-0.8038240766063832,-0.5412069874490151],\"xaxis\":\"x2\",\"y\":[215.0,215.0,230.0,230.0],\"yaxis\":\"y\"},{\"hoverinfo\":\"text\",\"marker\":{\"color\":\"rgb(255,220,0)\"},\"mode\":\"lines\",\"type\":\"scatter\",\"x\":[-0.0,-0.7472015068547558,-0.7472015068547558,-0.0],\"xaxis\":\"x2\",\"y\":[255.0,255.0,265.0,265.0],\"yaxis\":\"y\"},{\"hoverinfo\":\"text\",\"marker\":{\"color\":\"rgb(255,220,0)\"},\"mode\":\"lines\",\"type\":\"scatter\",\"x\":[-0.0,-0.9286019212205604,-0.9286019212205604,-0.7472015068547558],\"xaxis\":\"x2\",\"y\":[245.0,245.0,260.0,260.0],\"yaxis\":\"y\"},{\"hoverinfo\":\"text\",\"marker\":{\"color\":\"rgb(255,220,0)\"},\"mode\":\"lines\",\"type\":\"scatter\",\"x\":[-0.8038240766063832,-1.0085186606098258,-1.0085186606098258,-0.9286019212205604],\"xaxis\":\"x2\",\"y\":[222.5,222.5,252.5,252.5],\"yaxis\":\"y\"},{\"hoverinfo\":\"text\",\"marker\":{\"color\":\"rgb(0,116,217)\"},\"mode\":\"lines\",\"type\":\"scatter\",\"x\":[-0.9689866572146281,-1.0752681199392076,-1.0752681199392076,-1.0085186606098258],\"xaxis\":\"x2\",\"y\":[197.5,197.5,237.5,237.5],\"yaxis\":\"y\"},{\"hoverinfo\":\"text\",\"marker\":{\"color\":\"rgb(0,116,217)\"},\"mode\":\"lines\",\"type\":\"scatter\",\"x\":[-1.1809234808670612,-1.307981820976663,-1.307981820976663,-1.0752681199392076],\"xaxis\":\"x2\",\"y\":[163.75,163.75,217.5,217.5],\"yaxis\":\"y\"},{\"hoverinfo\":\"text\",\"marker\":{\"color\":\"rgb(0,116,217)\"},\"mode\":\"lines\",\"type\":\"scatter\",\"x\":[-1.1623349644646408,-1.4848431026580822,-1.4848431026580822,-1.307981820976663],\"xaxis\":\"x2\",\"y\":[90.1953125,90.1953125,190.625,190.625],\"yaxis\":\"y\"},{\"colorbar\":{\"title\":{\"text\":\"Coff Tanimoto\"}},\"type\":\"heatmap\",\"x\":[5.0,15.0,25.0,35.0,45.0,55.0,65.0,75.0,85.0,95.0,105.0,115.0,125.0,135.0,145.0,155.0,165.0,175.0,185.0,195.0,205.0,215.0,225.0,235.0,245.0,255.0,265.0],\"y\":[5.0,15.0,25.0,35.0,45.0,55.0,65.0,75.0,85.0,95.0,105.0,115.0,125.0,135.0,145.0,155.0,165.0,175.0,185.0,195.0,205.0,215.0,225.0,235.0,245.0,255.0,265.0],\"z\":[[1.0,0.2558139534883721,0.24242424242424243,0.26666666666666666,0.37037037037037035,0.25925925925925924,0.18518518518518517,0.21428571428571427,0.2413793103448276,0.25925925925925924,0.18518518518518517,0.15384615384615385,0.11864406779661017,0.13953488372093023,0.037037037037037035,0.034482758620689655,0.03225806451612903,0.022988505747126436,0.0,0.0,0.0,0.038834951456310676,0.05384615384615385,0.046242774566473986,0.017543859649122806,0.02072538860103627,0.0106951871657754],[0.2558139534883721,1.0,0.4642857142857143,0.4074074074074074,0.32142857142857145,0.25925925925925924,0.18518518518518517,0.25925925925925924,0.2413793103448276,0.1724137931034483,0.14285714285714285,0.11940298507462686,0.1,0.11363636363636363,0.037037037037037035,0.034482758620689655,0.03225806451612903,0.03488372093023256,0.015625,0.022222222222222223,0.012578616352201259,0.04390243902439024,0.05384615384615385,0.046242774566473986,0.017543859649122806,0.031413612565445025,0.02717391304347826],[0.24242424242424243,0.4642857142857143,1.0,0.7857142857142857,0.4117647058823529,0.5,0.35714285714285715,0.3125,0.2777777777777778,0.23529411764705882,0.26666666666666666,0.1951219512195122,0.17647058823529413,0.16129032258064516,0.07142857142857142,0.0625,0.05555555555555555,0.03278688524590164,0.009708737864077669,0.015384615384615385,0.007462686567164179,0.03296703296703297,0.05714285714285714,0.0472972972972973,0.022727272727272728,0.023952095808383235,0.012422360248447204],[0.26666666666666666,0.4074074074074074,0.7857142857142857,1.0,0.5,0.6363636363636364,0.45454545454545453,0.38461538461538464,0.3333333333333333,0.2857142857142857,0.3333333333333333,0.22857142857142856,0.21428571428571427,0.17857142857142858,0.09090909090909091,0.07692307692307693,0.06666666666666667,0.03636363636363636,0.010309278350515464,0.01694915254237288,0.0078125,0.03409090909090909,0.06060606060606061,0.04929577464788732,0.024390243902439025,0.024844720496894408,0.012903225806451613],[0.37037037037037035,0.32142857142857145,0.4117647058823529,0.5,1.0,0.7,0.5,0.5454545454545454,0.46153846153846156,0.4166666666666667,0.36363636363636365,0.24242424242424243,0.23076923076923078,0.18518518518518517,0.1,0.08333333333333333,0.07142857142857142,0.03773584905660377,0.0,0.0,0.0,0.034482758620689655,0.061855670103092786,0.05,0.025,0.01875,0.006493506493506494],[0.25925925925925924,0.25925925925925924,0.5,0.6363636363636364,0.7,1.0,0.7142857142857143,0.5555555555555556,0.45454545454545453,0.4,0.5,0.2962962962962963,0.3,0.20833333333333334,0.14285714285714285,0.1111111111111111,0.09090909090909091,0.0425531914893617,0.0,0.0,0.0,0.03571428571428571,0.06593406593406594,0.05223880597014925,0.02702702702702703,0.01948051948051948,0.006756756756756757],[0.18518518518518517,0.18518518518518517,0.35714285714285715,0.45454545454545453,0.5,0.7142857142857143,1.0,0.7142857142857143,0.5555555555555556,0.5,0.6666666666666666,0.34782608695652173,0.375,0.22727272727272727,0.2,0.14285714285714285,0.1111111111111111,0.046511627906976744,0.0,0.0,0.0,0.036585365853658534,0.06896551724137931,0.04580152671755725,0.02857142857142857,0.02,0.006944444444444444],[0.21428571428571427,0.25925925925925924,0.3125,0.38461538461538464,0.5454545454545454,0.5555555555555556,0.7142857142857143,1.0,0.7777777777777778,0.5555555555555556,0.5,0.2962962962962963,0.3,0.20833333333333334,0.14285714285714285,0.1111111111111111,0.09090909090909091,0.0425531914893617,0.0,0.0,0.0,0.03571428571428571,0.06593406593406594,0.044444444444444446,0.02702702702702703,0.01948051948051948,0.006756756756756757],[0.2413793103448276,0.2413793103448276,0.2777777777777778,0.3333333333333333,0.46153846153846156,0.45454545454545453,0.5555555555555556,0.7777777777777778,1.0,0.45454545454545453,0.4,0.25806451612903225,0.25,0.21568627450980393,0.1111111111111111,0.09090909090909091,0.07692307692307693,0.0392156862745098,0.0,0.0,0.0,0.03488372093023256,0.06315789473684211,0.04316546762589928,0.02564102564102564,0.0189873417721519,0.006578947368421052],[0.25925925925925924,0.1724137931034483,0.23529411764705882,0.2857142857142857,0.4166666666666667,0.4,0.5,0.5555555555555556,0.45454545454545453,1.0,0.7142857142857143,0.4,0.3684210526315789,0.20833333333333334,0.14285714285714285,0.1111111111111111,0.09090909090909091,0.0425531914893617,0.0,0.0,0.0,0.03571428571428571,0.06593406593406594,0.044444444444444446,0.02702702702702703,0.01948051948051948,0.006756756756756757],[0.18518518518518517,0.14285714285714285,0.26666666666666666,0.3333333333333333,0.36363636363636365,0.5,0.6666666666666666,0.5,0.4,0.7142857142857143,1.0,0.47619047619047616,0.4666666666666667,0.2,0.2,0.14285714285714285,0.1111111111111111,0.046511627906976744,0.0,0.0,0.0,0.036585365853658534,0.06896551724137931,0.04580152671755725,0.02857142857142857,0.02,0.006944444444444444],[0.15384615384615385,0.11940298507462686,0.1951219512195122,0.22857142857142856,0.24242424242424243,0.2962962962962963,0.34782608695652173,0.2962962962962963,0.25806451612903225,0.4,0.47619047619047616,1.0,0.5714285714285714,0.27450980392156865,0.09523809523809523,0.08,0.06896551724137931,0.09803921568627451,0.0,0.0,0.0,0.040229885057471264,0.061224489795918366,0.04225352112676056,0.024691358024691357,0.018633540372670808,0.012987012987012988],[0.11864406779661017,0.1,0.17647058823529413,0.21428571428571427,0.23076923076923078,0.3,0.375,0.3,0.25,0.3684210526315789,0.4666666666666667,0.5714285714285714,1.0,0.2727272727272727,0.16666666666666666,0.125,0.1,0.09302325581395349,0.0,0.0,0.0,0.04242424242424243,0.06741573033707865,0.045112781954887216,0.027777777777777776,0.019736842105263157,0.013793103448275862],[0.13953488372093023,0.11363636363636363,0.16129032258064516,0.17857142857142858,0.18518518518518517,0.20833333333333334,0.22727272727272727,0.20833333333333334,0.21568627450980393,0.20833333333333334,0.2,0.27450980392156865,0.2727272727272727,1.0,0.045454545454545456,0.041666666666666664,0.038461538461538464,0.05333333333333334,0.02564102564102564,0.012345679012345678,0.013422818791946308,0.03553299492385787,0.049586776859504134,0.042682926829268296,0.019230769230769232,0.027472527472527472,0.028735632183908046],[0.037037037037037035,0.037037037037037035,0.07142857142857142,0.09090909090909091,0.1,0.14285714285714285,0.2,0.14285714285714285,0.1111111111111111,0.14285714285714285,0.2,0.09523809523809523,0.16666666666666666,0.045454545454545456,1.0,0.3333333333333333,0.2,0.05714285714285714,0.0,0.0,0.0,0.0125,0.024096385542168676,0.015748031496062992,0.03225806451612903,0.013986013986013986,0.007352941176470588],[0.034482758620689655,0.034482758620689655,0.0625,0.07692307692307693,0.08333333333333333,0.1111111111111111,0.14285714285714285,0.1111111111111111,0.09090909090909091,0.1111111111111111,0.14285714285714285,0.08,0.125,0.041666666666666664,0.3333333333333333,1.0,0.6,0.17142857142857143,0.0,0.0,0.0,0.012195121951219513,0.022988505747126436,0.015267175572519083,0.030303030303030304,0.013605442176870748,0.007142857142857143],[0.03225806451612903,0.03225806451612903,0.05555555555555555,0.06666666666666667,0.07142857142857142,0.09090909090909091,0.1111111111111111,0.09090909090909091,0.07692307692307693,0.09090909090909091,0.1111111111111111,0.06896551724137931,0.1,0.038461538461538464,0.2,0.6,1.0,0.18421052631578946,0.011764705882352941,0.0,0.0,0.011904761904761904,0.02197802197802198,0.022388059701492536,0.02857142857142857,0.013245033112582781,0.006944444444444444],[0.022988505747126436,0.03488372093023256,0.03278688524590164,0.03636363636363636,0.03773584905660377,0.0425531914893617,0.046511627906976744,0.0425531914893617,0.0392156862745098,0.0425531914893617,0.046511627906976744,0.09803921568627451,0.09302325581395349,0.05333333333333334,0.05714285714285714,0.17142857142857143,0.18421052631578946,1.0,0.00909090909090909,0.013888888888888888,0.014285714285714285,0.015625,0.017241379310344827,0.018867924528301886,0.021052631578947368,0.017142857142857144,0.017964071856287425],[0.0,0.015625,0.009708737864077669,0.010309278350515464,0.0,0.0,0.0,0.0,0.0,0.0,0.0,0.0,0.0,0.02564102564102564,0.0,0.0,0.011764705882352941,0.00909090909090909,1.0,0.5,0.2708333333333333,0.0776255707762557,0.11188811188811189,0.25308641975308643,0.11290322580645161,0.07881773399014778,0.22674418604651161],[0.0,0.022222222222222223,0.015384615384615385,0.01694915254237288,0.0,0.0,0.0,0.0,0.0,0.0,0.0,0.0,0.0,0.012345679012345678,0.0,0.0,0.0,0.013888888888888888,0.5,1.0,0.35514018691588783,0.08196721311475409,0.14150943396226415,0.1,0.14942528735632185,0.09036144578313253,0.2814814814814815],[0.0,0.012578616352201259,0.007462686567164179,0.0078125,0.0,0.0,0.0,0.0,0.0,0.0,0.0,0.0,0.0,0.013422818791946308,0.0,0.0,0.0,0.014285714285714285,0.2708333333333333,0.35514018691588783,1.0,0.3417085427135678,0.09826589595375723,0.08333333333333333,0.09032258064516129,0.09170305676855896,0.21608040201005024],[0.038834951456310676,0.04390243902439024,0.03296703296703297,0.03409090909090909,0.034482758620689655,0.03571428571428571,0.036585365853658534,0.03571428571428571,0.03488372093023256,0.03571428571428571,0.036585365853658534,0.040229885057471264,0.04242424242424243,0.03553299492385787,0.0125,0.012195121951219513,0.011904761904761904,0.015625,0.0776255707762557,0.08196721311475409,0.3417085427135678,1.0,0.51875,0.41379310344827586,0.23333333333333334,0.1976284584980237,0.1752988047808765],[0.05384615384615385,0.05384615384615385,0.05714285714285714,0.06060606060606061,0.061855670103092786,0.06593406593406594,0.06896551724137931,0.06593406593406594,0.06315789473684211,0.06593406593406594,0.06896551724137931,0.061224489795918366,0.06741573033707865,0.049586776859504134,0.024096385542168676,0.022988505747126436,0.02197802197802198,0.017241379310344827,0.11188811188811189,0.14150943396226415,0.09826589595375723,0.51875,1.0,0.6535433070866141,0.4077669902912621,0.24861878453038674,0.2247191011235955],[0.046242774566473986,0.046242774566473986,0.0472972972972973,0.04929577464788732,0.05,0.05223880597014925,0.04580152671755725,0.044444444444444446,0.04316546762589928,0.044444444444444446,0.04580152671755725,0.04225352112676056,0.045112781954887216,0.042682926829268296,0.015748031496062992,0.015267175572519083,0.022388059701492536,0.018867924528301886,0.25308641975308643,0.1,0.08333333333333333,0.41379310344827586,0.6535433070866141,1.0,0.2945205479452055,0.20535714285714285,0.19090909090909092],[0.017543859649122806,0.017543859649122806,0.022727272727272728,0.024390243902439025,0.025,0.02702702702702703,0.02857142857142857,0.02702702702702703,0.02564102564102564,0.02702702702702703,0.02857142857142857,0.024691358024691357,0.027777777777777776,0.019230769230769232,0.03225806451612903,0.030303030303030304,0.02857142857142857,0.021052631578947368,0.11290322580645161,0.14942528735632185,0.09032258064516129,0.23333333333333334,0.4077669902912621,0.2945205479452055,1.0,0.43356643356643354,0.2468354430379747],[0.02072538860103627,0.031413612565445025,0.023952095808383235,0.024844720496894408,0.01875,0.01948051948051948,0.02,0.01948051948051948,0.0189873417721519,0.01948051948051948,0.02,0.018633540372670808,0.019736842105263157,0.027472527472527472,0.013986013986013986,0.013605442176870748,0.013245033112582781,0.017142857142857144,0.07881773399014778,0.09036144578313253,0.09170305676855896,0.1976284584980237,0.24861878453038674,0.20535714285714285,0.43356643356643354,1.0,0.5274725274725275],[0.0106951871657754,0.02717391304347826,0.012422360248447204,0.012903225806451613,0.006493506493506494,0.006756756756756757,0.006944444444444444,0.006756756756756757,0.006578947368421052,0.006756756756756757,0.006944444444444444,0.012987012987012988,0.013793103448275862,0.028735632183908046,0.007352941176470588,0.007142857142857143,0.006944444444444444,0.017964071856287425,0.22674418604651161,0.2814814814814815,0.21608040201005024,0.1752988047808765,0.2247191011235955,0.19090909090909092,0.2468354430379747,0.5274725274725275,1.0]]}],                        {\"autosize\":false,\"height\":800,\"hovermode\":\"closest\",\"showlegend\":false,\"template\":{\"data\":{\"bar\":[{\"error_x\":{\"color\":\"#2a3f5f\"},\"error_y\":{\"color\":\"#2a3f5f\"},\"marker\":{\"line\":{\"color\":\"#E5ECF6\",\"width\":0.5},\"pattern\":{\"fillmode\":\"overlay\",\"size\":10,\"solidity\":0.2}},\"type\":\"bar\"}],\"barpolar\":[{\"marker\":{\"line\":{\"color\":\"#E5ECF6\",\"width\":0.5},\"pattern\":{\"fillmode\":\"overlay\",\"size\":10,\"solidity\":0.2}},\"type\":\"barpolar\"}],\"carpet\":[{\"aaxis\":{\"endlinecolor\":\"#2a3f5f\",\"gridcolor\":\"white\",\"linecolor\":\"white\",\"minorgridcolor\":\"white\",\"startlinecolor\":\"#2a3f5f\"},\"baxis\":{\"endlinecolor\":\"#2a3f5f\",\"gridcolor\":\"white\",\"linecolor\":\"white\",\"minorgridcolor\":\"white\",\"startlinecolor\":\"#2a3f5f\"},\"type\":\"carpet\"}],\"choropleth\":[{\"colorbar\":{\"outlinewidth\":0,\"ticks\":\"\"},\"type\":\"choropleth\"}],\"contour\":[{\"colorbar\":{\"outlinewidth\":0,\"ticks\":\"\"},\"colorscale\":[[0.0,\"#0d0887\"],[0.1111111111111111,\"#46039f\"],[0.2222222222222222,\"#7201a8\"],[0.3333333333333333,\"#9c179e\"],[0.4444444444444444,\"#bd3786\"],[0.5555555555555556,\"#d8576b\"],[0.6666666666666666,\"#ed7953\"],[0.7777777777777778,\"#fb9f3a\"],[0.8888888888888888,\"#fdca26\"],[1.0,\"#f0f921\"]],\"type\":\"contour\"}],\"contourcarpet\":[{\"colorbar\":{\"outlinewidth\":0,\"ticks\":\"\"},\"type\":\"contourcarpet\"}],\"heatmap\":[{\"colorbar\":{\"outlinewidth\":0,\"ticks\":\"\"},\"colorscale\":[[0.0,\"#0d0887\"],[0.1111111111111111,\"#46039f\"],[0.2222222222222222,\"#7201a8\"],[0.3333333333333333,\"#9c179e\"],[0.4444444444444444,\"#bd3786\"],[0.5555555555555556,\"#d8576b\"],[0.6666666666666666,\"#ed7953\"],[0.7777777777777778,\"#fb9f3a\"],[0.8888888888888888,\"#fdca26\"],[1.0,\"#f0f921\"]],\"type\":\"heatmap\"}],\"heatmapgl\":[{\"colorbar\":{\"outlinewidth\":0,\"ticks\":\"\"},\"colorscale\":[[0.0,\"#0d0887\"],[0.1111111111111111,\"#46039f\"],[0.2222222222222222,\"#7201a8\"],[0.3333333333333333,\"#9c179e\"],[0.4444444444444444,\"#bd3786\"],[0.5555555555555556,\"#d8576b\"],[0.6666666666666666,\"#ed7953\"],[0.7777777777777778,\"#fb9f3a\"],[0.8888888888888888,\"#fdca26\"],[1.0,\"#f0f921\"]],\"type\":\"heatmapgl\"}],\"histogram\":[{\"marker\":{\"pattern\":{\"fillmode\":\"overlay\",\"size\":10,\"solidity\":0.2}},\"type\":\"histogram\"}],\"histogram2d\":[{\"colorbar\":{\"outlinewidth\":0,\"ticks\":\"\"},\"colorscale\":[[0.0,\"#0d0887\"],[0.1111111111111111,\"#46039f\"],[0.2222222222222222,\"#7201a8\"],[0.3333333333333333,\"#9c179e\"],[0.4444444444444444,\"#bd3786\"],[0.5555555555555556,\"#d8576b\"],[0.6666666666666666,\"#ed7953\"],[0.7777777777777778,\"#fb9f3a\"],[0.8888888888888888,\"#fdca26\"],[1.0,\"#f0f921\"]],\"type\":\"histogram2d\"}],\"histogram2dcontour\":[{\"colorbar\":{\"outlinewidth\":0,\"ticks\":\"\"},\"colorscale\":[[0.0,\"#0d0887\"],[0.1111111111111111,\"#46039f\"],[0.2222222222222222,\"#7201a8\"],[0.3333333333333333,\"#9c179e\"],[0.4444444444444444,\"#bd3786\"],[0.5555555555555556,\"#d8576b\"],[0.6666666666666666,\"#ed7953\"],[0.7777777777777778,\"#fb9f3a\"],[0.8888888888888888,\"#fdca26\"],[1.0,\"#f0f921\"]],\"type\":\"histogram2dcontour\"}],\"mesh3d\":[{\"colorbar\":{\"outlinewidth\":0,\"ticks\":\"\"},\"type\":\"mesh3d\"}],\"parcoords\":[{\"line\":{\"colorbar\":{\"outlinewidth\":0,\"ticks\":\"\"}},\"type\":\"parcoords\"}],\"pie\":[{\"automargin\":true,\"type\":\"pie\"}],\"scatter\":[{\"marker\":{\"colorbar\":{\"outlinewidth\":0,\"ticks\":\"\"}},\"type\":\"scatter\"}],\"scatter3d\":[{\"line\":{\"colorbar\":{\"outlinewidth\":0,\"ticks\":\"\"}},\"marker\":{\"colorbar\":{\"outlinewidth\":0,\"ticks\":\"\"}},\"type\":\"scatter3d\"}],\"scattercarpet\":[{\"marker\":{\"colorbar\":{\"outlinewidth\":0,\"ticks\":\"\"}},\"type\":\"scattercarpet\"}],\"scattergeo\":[{\"marker\":{\"colorbar\":{\"outlinewidth\":0,\"ticks\":\"\"}},\"type\":\"scattergeo\"}],\"scattergl\":[{\"marker\":{\"colorbar\":{\"outlinewidth\":0,\"ticks\":\"\"}},\"type\":\"scattergl\"}],\"scattermapbox\":[{\"marker\":{\"colorbar\":{\"outlinewidth\":0,\"ticks\":\"\"}},\"type\":\"scattermapbox\"}],\"scatterpolar\":[{\"marker\":{\"colorbar\":{\"outlinewidth\":0,\"ticks\":\"\"}},\"type\":\"scatterpolar\"}],\"scatterpolargl\":[{\"marker\":{\"colorbar\":{\"outlinewidth\":0,\"ticks\":\"\"}},\"type\":\"scatterpolargl\"}],\"scatterternary\":[{\"marker\":{\"colorbar\":{\"outlinewidth\":0,\"ticks\":\"\"}},\"type\":\"scatterternary\"}],\"surface\":[{\"colorbar\":{\"outlinewidth\":0,\"ticks\":\"\"},\"colorscale\":[[0.0,\"#0d0887\"],[0.1111111111111111,\"#46039f\"],[0.2222222222222222,\"#7201a8\"],[0.3333333333333333,\"#9c179e\"],[0.4444444444444444,\"#bd3786\"],[0.5555555555555556,\"#d8576b\"],[0.6666666666666666,\"#ed7953\"],[0.7777777777777778,\"#fb9f3a\"],[0.8888888888888888,\"#fdca26\"],[1.0,\"#f0f921\"]],\"type\":\"surface\"}],\"table\":[{\"cells\":{\"fill\":{\"color\":\"#EBF0F8\"},\"line\":{\"color\":\"white\"}},\"header\":{\"fill\":{\"color\":\"#C8D4E3\"},\"line\":{\"color\":\"white\"}},\"type\":\"table\"}]},\"layout\":{\"annotationdefaults\":{\"arrowcolor\":\"#2a3f5f\",\"arrowhead\":0,\"arrowwidth\":1},\"autotypenumbers\":\"strict\",\"coloraxis\":{\"colorbar\":{\"outlinewidth\":0,\"ticks\":\"\"}},\"colorscale\":{\"diverging\":[[0,\"#8e0152\"],[0.1,\"#c51b7d\"],[0.2,\"#de77ae\"],[0.3,\"#f1b6da\"],[0.4,\"#fde0ef\"],[0.5,\"#f7f7f7\"],[0.6,\"#e6f5d0\"],[0.7,\"#b8e186\"],[0.8,\"#7fbc41\"],[0.9,\"#4d9221\"],[1,\"#276419\"]],\"sequential\":[[0.0,\"#0d0887\"],[0.1111111111111111,\"#46039f\"],[0.2222222222222222,\"#7201a8\"],[0.3333333333333333,\"#9c179e\"],[0.4444444444444444,\"#bd3786\"],[0.5555555555555556,\"#d8576b\"],[0.6666666666666666,\"#ed7953\"],[0.7777777777777778,\"#fb9f3a\"],[0.8888888888888888,\"#fdca26\"],[1.0,\"#f0f921\"]],\"sequentialminus\":[[0.0,\"#0d0887\"],[0.1111111111111111,\"#46039f\"],[0.2222222222222222,\"#7201a8\"],[0.3333333333333333,\"#9c179e\"],[0.4444444444444444,\"#bd3786\"],[0.5555555555555556,\"#d8576b\"],[0.6666666666666666,\"#ed7953\"],[0.7777777777777778,\"#fb9f3a\"],[0.8888888888888888,\"#fdca26\"],[1.0,\"#f0f921\"]]},\"colorway\":[\"#636efa\",\"#EF553B\",\"#00cc96\",\"#ab63fa\",\"#FFA15A\",\"#19d3f3\",\"#FF6692\",\"#B6E880\",\"#FF97FF\",\"#FECB52\"],\"font\":{\"color\":\"#2a3f5f\"},\"geo\":{\"bgcolor\":\"white\",\"lakecolor\":\"white\",\"landcolor\":\"#E5ECF6\",\"showlakes\":true,\"showland\":true,\"subunitcolor\":\"white\"},\"hoverlabel\":{\"align\":\"left\"},\"hovermode\":\"closest\",\"mapbox\":{\"style\":\"light\"},\"paper_bgcolor\":\"white\",\"plot_bgcolor\":\"#E5ECF6\",\"polar\":{\"angularaxis\":{\"gridcolor\":\"white\",\"linecolor\":\"white\",\"ticks\":\"\"},\"bgcolor\":\"#E5ECF6\",\"radialaxis\":{\"gridcolor\":\"white\",\"linecolor\":\"white\",\"ticks\":\"\"}},\"scene\":{\"xaxis\":{\"backgroundcolor\":\"#E5ECF6\",\"gridcolor\":\"white\",\"gridwidth\":2,\"linecolor\":\"white\",\"showbackground\":true,\"ticks\":\"\",\"zerolinecolor\":\"white\"},\"yaxis\":{\"backgroundcolor\":\"#E5ECF6\",\"gridcolor\":\"white\",\"gridwidth\":2,\"linecolor\":\"white\",\"showbackground\":true,\"ticks\":\"\",\"zerolinecolor\":\"white\"},\"zaxis\":{\"backgroundcolor\":\"#E5ECF6\",\"gridcolor\":\"white\",\"gridwidth\":2,\"linecolor\":\"white\",\"showbackground\":true,\"ticks\":\"\",\"zerolinecolor\":\"white\"}},\"shapedefaults\":{\"line\":{\"color\":\"#2a3f5f\"}},\"ternary\":{\"aaxis\":{\"gridcolor\":\"white\",\"linecolor\":\"white\",\"ticks\":\"\"},\"baxis\":{\"gridcolor\":\"white\",\"linecolor\":\"white\",\"ticks\":\"\"},\"bgcolor\":\"#E5ECF6\",\"caxis\":{\"gridcolor\":\"white\",\"linecolor\":\"white\",\"ticks\":\"\"}},\"title\":{\"x\":0.05},\"xaxis\":{\"automargin\":true,\"gridcolor\":\"white\",\"linecolor\":\"white\",\"ticks\":\"\",\"title\":{\"standoff\":15},\"zerolinecolor\":\"white\",\"zerolinewidth\":2},\"yaxis\":{\"automargin\":true,\"gridcolor\":\"white\",\"linecolor\":\"white\",\"ticks\":\"\",\"title\":{\"standoff\":15},\"zerolinecolor\":\"white\",\"zerolinewidth\":2}}},\"title\":{\"text\":\"Similaridad Estructural de Aminas\",\"x\":0.55,\"xanchor\":\"center\",\"y\":0.9,\"yanchor\":\"top\"},\"width\":800,\"xaxis\":{\"domain\":[0.15,1],\"mirror\":false,\"rangemode\":\"tozero\",\"showgrid\":false,\"showline\":false,\"showticklabels\":true,\"tickmode\":\"array\",\"ticks\":\"\",\"ticktext\":[\"TertOctyl\",\"Cyclohexylmethyl\",\"nDodecyl\",\"nHexyl\",\"IPentyl\",\"n-BuNH3I\",\"NPropyl\",\"iButyl\",\"neoPentyl\",\"tButyl\",\"iPropyl\",\"Diisopropyl\",\"Diethyl\",\"NNDiethylpropane13di\",\"MeNH3I\",\"FormamidiniumIodide\",\"GnNH3I\",\"ImidazoliumIodide\",\"4FluoroPhenyl\",\"Phenyl\",\"4MethoxyPhenyl\",\"4methoxyphenethyl\",\"PhEtNH3I\",\"4FluoroPhenethyl\",\"Benzyl\",\"4TrifluoromethylBenzyl\",\"4TrifluoromethylPhenyl\"],\"tickvals\":[5.0,15.0,25.0,35.0,45.0,55.0,65.0,75.0,85.0,95.0,105.0,115.0,125.0,135.0,145.0,155.0,165.0,175.0,185.0,195.0,205.0,215.0,225.0,235.0,245.0,255.0,265.0],\"type\":\"linear\",\"zeroline\":false},\"xaxis2\":{\"domain\":[0,0.15],\"mirror\":false,\"showgrid\":false,\"showline\":false,\"showticklabels\":false,\"ticks\":\"\",\"zeroline\":false},\"yaxis\":{\"domain\":[0,0.85],\"mirror\":false,\"rangemode\":\"tozero\",\"showgrid\":false,\"showline\":false,\"showticklabels\":false,\"ticks\":\"\",\"ticktext\":[\"TertOctyl\",\"Cyclohexylmethyl\",\"nDodecyl\",\"nHexyl\",\"IPentyl\",\"n-BuNH3I\",\"NPropyl\",\"iButyl\",\"neoPentyl\",\"tButyl\",\"iPropyl\",\"Diisopropyl\",\"Diethyl\",\"NNDiethylpropane13di\",\"MeNH3I\",\"FormamidiniumIodide\",\"GnNH3I\",\"ImidazoliumIodide\",\"4FluoroPhenyl\",\"Phenyl\",\"4MethoxyPhenyl\",\"4methoxyphenethyl\",\"PhEtNH3I\",\"4FluoroPhenethyl\",\"Benzyl\",\"4TrifluoromethylBenzyl\",\"4TrifluoromethylPhenyl\"],\"tickvals\":[5.0,15.0,25.0,35.0,45.0,55.0,65.0,75.0,85.0,95.0,105.0,115.0,125.0,135.0,145.0,155.0,165.0,175.0,185.0,195.0,205.0,215.0,225.0,235.0,245.0,255.0,265.0],\"type\":\"linear\",\"zeroline\":false},\"yaxis2\":{\"domain\":[0.825,0.975],\"mirror\":false,\"showgrid\":false,\"showline\":false,\"showticklabels\":false,\"ticks\":\"\",\"zeroline\":false}},                        {\"responsive\": true}                    ).then(function(){\n",
       "                            \n",
       "var gd = document.getElementById('f11003f6-8e01-475e-9209-239f57ff8d37');\n",
       "var x = new MutationObserver(function (mutations, observer) {{\n",
       "        var display = window.getComputedStyle(gd).display;\n",
       "        if (!display || display === 'none') {{\n",
       "            console.log([gd, 'removed!']);\n",
       "            Plotly.purge(gd);\n",
       "            observer.disconnect();\n",
       "        }}\n",
       "}});\n",
       "\n",
       "// Listen for the removal of the full notebook cells\n",
       "var notebookContainer = gd.closest('#notebook-container');\n",
       "if (notebookContainer) {{\n",
       "    x.observe(notebookContainer, {childList: true});\n",
       "}}\n",
       "\n",
       "// Listen for the clearing of the current output cell\n",
       "var outputEl = gd.closest('.output');\n",
       "if (outputEl) {{\n",
       "    x.observe(outputEl, {childList: true});\n",
       "}}\n",
       "\n",
       "                        })                };                });            </script>        </div>"
      ],
      "application/vnd.plotly.v1+json": {
       "config": {
        "linkText": "Export to plot.ly",
        "plotlyServerURL": "https://plot.ly",
        "showLink": false
       },
       "data": [
        {
         "hoverinfo": "text",
         "marker": {
          "color": "rgb(61,153,112)"
         },
         "mode": "lines",
         "type": "scatter",
         "x": [
          25,
          25,
          35,
          35
         ],
         "xaxis": "x",
         "y": [
          0,
          0.38780956796418764,
          0.38780956796418764,
          0
         ],
         "yaxis": "y2"
        },
        {
         "hoverinfo": "text",
         "marker": {
          "color": "rgb(61,153,112)"
         },
         "mode": "lines",
         "type": "scatter",
         "x": [
          15,
          15,
          30,
          30
         ],
         "xaxis": "x",
         "y": [
          0,
          0.984739786387532,
          0.984739786387532,
          0.38780956796418764
         ],
         "yaxis": "y2"
        },
        {
         "hoverinfo": "text",
         "marker": {
          "color": "rgb(255,65,54)"
         },
         "mode": "lines",
         "type": "scatter",
         "x": [
          45,
          45,
          55,
          55
         ],
         "xaxis": "x",
         "y": [
          0,
          0.5466289191743684,
          0.5466289191743684,
          0
         ],
         "yaxis": "y2"
        },
        {
         "hoverinfo": "text",
         "marker": {
          "color": "rgb(255,65,54)"
         },
         "mode": "lines",
         "type": "scatter",
         "x": [
          75,
          75,
          85,
          85
         ],
         "xaxis": "x",
         "y": [
          0,
          0.41466681273855827,
          0.41466681273855827,
          0
         ],
         "yaxis": "y2"
        },
        {
         "hoverinfo": "text",
         "marker": {
          "color": "rgb(255,65,54)"
         },
         "mode": "lines",
         "type": "scatter",
         "x": [
          65,
          65,
          80,
          80
         ],
         "xaxis": "x",
         "y": [
          0,
          0.6385842025783323,
          0.6385842025783323,
          0.41466681273855827
         ],
         "yaxis": "y2"
        },
        {
         "hoverinfo": "text",
         "marker": {
          "color": "rgb(255,65,54)"
         },
         "mode": "lines",
         "type": "scatter",
         "x": [
          50,
          50,
          72.5,
          72.5
         ],
         "xaxis": "x",
         "y": [
          0.5466289191743684,
          0.6976133598569921,
          0.6976133598569921,
          0.6385842025783323
         ],
         "yaxis": "y2"
        },
        {
         "hoverinfo": "text",
         "marker": {
          "color": "rgb(255,65,54)"
         },
         "mode": "lines",
         "type": "scatter",
         "x": [
          95,
          95,
          105,
          105
         ],
         "xaxis": "x",
         "y": [
          0,
          0.48966041247567665,
          0.48966041247567665,
          0
         ],
         "yaxis": "y2"
        },
        {
         "hoverinfo": "text",
         "marker": {
          "color": "rgb(255,65,54)"
         },
         "mode": "lines",
         "type": "scatter",
         "x": [
          61.25,
          61.25,
          100,
          100
         ],
         "xaxis": "x",
         "y": [
          0.6976133598569921,
          0.7722362801574217,
          0.7722362801574217,
          0.48966041247567665
         ],
         "yaxis": "y2"
        },
        {
         "hoverinfo": "text",
         "marker": {
          "color": "rgb(0,116,217)"
         },
         "mode": "lines",
         "type": "scatter",
         "x": [
          22.5,
          22.5,
          80.625,
          80.625
         ],
         "xaxis": "x",
         "y": [
          0.984739786387532,
          1.0483680906778832,
          1.0483680906778832,
          0.7722362801574217
         ],
         "yaxis": "y2"
        },
        {
         "hoverinfo": "text",
         "marker": {
          "color": "rgb(255,65,54)"
         },
         "mode": "lines",
         "type": "scatter",
         "x": [
          115,
          115,
          125,
          125
         ],
         "xaxis": "x",
         "y": [
          0,
          0.6162389582803675,
          0.6162389582803675,
          0
         ],
         "yaxis": "y2"
        },
        {
         "hoverinfo": "text",
         "marker": {
          "color": "rgb(255,65,54)"
         },
         "mode": "lines",
         "type": "scatter",
         "x": [
          51.5625,
          51.5625,
          120,
          120
         ],
         "xaxis": "x",
         "y": [
          1.0483680906778832,
          1.0387830810801184,
          1.0387830810801184,
          0.6162389582803675
         ],
         "yaxis": "y2"
        },
        {
         "hoverinfo": "text",
         "marker": {
          "color": "rgb(0,116,217)"
         },
         "mode": "lines",
         "type": "scatter",
         "x": [
          5,
          5,
          85.78125,
          85.78125
         ],
         "xaxis": "x",
         "y": [
          0,
          1.1222231049951805,
          1.1222231049951805,
          1.0387830810801184
         ],
         "yaxis": "y2"
        },
        {
         "hoverinfo": "text",
         "marker": {
          "color": "rgb(0,116,217)"
         },
         "mode": "lines",
         "type": "scatter",
         "x": [
          45.390625,
          45.390625,
          135,
          135
         ],
         "xaxis": "x",
         "y": [
          1.1222231049951805,
          1.1623349644646408,
          1.1623349644646408,
          0
         ],
         "yaxis": "y2"
        },
        {
         "hoverinfo": "text",
         "marker": {
          "color": "rgb(35,205,205)"
         },
         "mode": "lines",
         "type": "scatter",
         "x": [
          155,
          155,
          165,
          165
         ],
         "xaxis": "x",
         "y": [
          0,
          0.5853479416966549,
          0.5853479416966549,
          0
         ],
         "yaxis": "y2"
        },
        {
         "hoverinfo": "text",
         "marker": {
          "color": "rgb(0,116,217)"
         },
         "mode": "lines",
         "type": "scatter",
         "x": [
          145,
          145,
          160,
          160
         ],
         "xaxis": "x",
         "y": [
          0,
          1.0729775945157214,
          1.0729775945157214,
          0.5853479416966549
         ],
         "yaxis": "y2"
        },
        {
         "hoverinfo": "text",
         "marker": {
          "color": "rgb(0,116,217)"
         },
         "mode": "lines",
         "type": "scatter",
         "x": [
          152.5,
          152.5,
          175,
          175
         ],
         "xaxis": "x",
         "y": [
          1.0729775945157214,
          1.1809234808670612,
          1.1809234808670612,
          0
         ],
         "yaxis": "y2"
        },
        {
         "hoverinfo": "text",
         "marker": {
          "color": "rgb(133,20,75)"
         },
         "mode": "lines",
         "type": "scatter",
         "x": [
          185,
          185,
          195,
          195
         ],
         "xaxis": "x",
         "y": [
          0,
          0.7323664942085689,
          0.7323664942085689,
          0
         ],
         "yaxis": "y2"
        },
        {
         "hoverinfo": "text",
         "marker": {
          "color": "rgb(133,20,75)"
         },
         "mode": "lines",
         "type": "scatter",
         "x": [
          190,
          190,
          205,
          205
         ],
         "xaxis": "x",
         "y": [
          0.7323664942085689,
          0.9689866572146281,
          0.9689866572146281,
          0
         ],
         "yaxis": "y2"
        },
        {
         "hoverinfo": "text",
         "marker": {
          "color": "rgb(255,220,0)"
         },
         "mode": "lines",
         "type": "scatter",
         "x": [
          225,
          225,
          235,
          235
         ],
         "xaxis": "x",
         "y": [
          0,
          0.5412069874490151,
          0.5412069874490151,
          0
         ],
         "yaxis": "y2"
        },
        {
         "hoverinfo": "text",
         "marker": {
          "color": "rgb(255,220,0)"
         },
         "mode": "lines",
         "type": "scatter",
         "x": [
          215,
          215,
          230,
          230
         ],
         "xaxis": "x",
         "y": [
          0,
          0.8038240766063832,
          0.8038240766063832,
          0.5412069874490151
         ],
         "yaxis": "y2"
        },
        {
         "hoverinfo": "text",
         "marker": {
          "color": "rgb(255,220,0)"
         },
         "mode": "lines",
         "type": "scatter",
         "x": [
          255,
          255,
          265,
          265
         ],
         "xaxis": "x",
         "y": [
          0,
          0.7472015068547558,
          0.7472015068547558,
          0
         ],
         "yaxis": "y2"
        },
        {
         "hoverinfo": "text",
         "marker": {
          "color": "rgb(255,220,0)"
         },
         "mode": "lines",
         "type": "scatter",
         "x": [
          245,
          245,
          260,
          260
         ],
         "xaxis": "x",
         "y": [
          0,
          0.9286019212205604,
          0.9286019212205604,
          0.7472015068547558
         ],
         "yaxis": "y2"
        },
        {
         "hoverinfo": "text",
         "marker": {
          "color": "rgb(255,220,0)"
         },
         "mode": "lines",
         "type": "scatter",
         "x": [
          222.5,
          222.5,
          252.5,
          252.5
         ],
         "xaxis": "x",
         "y": [
          0.8038240766063832,
          1.0085186606098258,
          1.0085186606098258,
          0.9286019212205604
         ],
         "yaxis": "y2"
        },
        {
         "hoverinfo": "text",
         "marker": {
          "color": "rgb(0,116,217)"
         },
         "mode": "lines",
         "type": "scatter",
         "x": [
          197.5,
          197.5,
          237.5,
          237.5
         ],
         "xaxis": "x",
         "y": [
          0.9689866572146281,
          1.0752681199392076,
          1.0752681199392076,
          1.0085186606098258
         ],
         "yaxis": "y2"
        },
        {
         "hoverinfo": "text",
         "marker": {
          "color": "rgb(0,116,217)"
         },
         "mode": "lines",
         "type": "scatter",
         "x": [
          163.75,
          163.75,
          217.5,
          217.5
         ],
         "xaxis": "x",
         "y": [
          1.1809234808670612,
          1.307981820976663,
          1.307981820976663,
          1.0752681199392076
         ],
         "yaxis": "y2"
        },
        {
         "hoverinfo": "text",
         "marker": {
          "color": "rgb(0,116,217)"
         },
         "mode": "lines",
         "type": "scatter",
         "x": [
          90.1953125,
          90.1953125,
          190.625,
          190.625
         ],
         "xaxis": "x",
         "y": [
          1.1623349644646408,
          1.4848431026580822,
          1.4848431026580822,
          1.307981820976663
         ],
         "yaxis": "y2"
        },
        {
         "hoverinfo": "text",
         "marker": {
          "color": "rgb(61,153,112)"
         },
         "mode": "lines",
         "type": "scatter",
         "x": [
          0,
          -0.38780956796418764,
          -0.38780956796418764,
          0
         ],
         "xaxis": "x2",
         "y": [
          25,
          25,
          35,
          35
         ],
         "yaxis": "y"
        },
        {
         "hoverinfo": "text",
         "marker": {
          "color": "rgb(61,153,112)"
         },
         "mode": "lines",
         "type": "scatter",
         "x": [
          0,
          -0.984739786387532,
          -0.984739786387532,
          -0.38780956796418764
         ],
         "xaxis": "x2",
         "y": [
          15,
          15,
          30,
          30
         ],
         "yaxis": "y"
        },
        {
         "hoverinfo": "text",
         "marker": {
          "color": "rgb(255,65,54)"
         },
         "mode": "lines",
         "type": "scatter",
         "x": [
          0,
          -0.5466289191743684,
          -0.5466289191743684,
          0
         ],
         "xaxis": "x2",
         "y": [
          45,
          45,
          55,
          55
         ],
         "yaxis": "y"
        },
        {
         "hoverinfo": "text",
         "marker": {
          "color": "rgb(255,65,54)"
         },
         "mode": "lines",
         "type": "scatter",
         "x": [
          0,
          -0.41466681273855827,
          -0.41466681273855827,
          0
         ],
         "xaxis": "x2",
         "y": [
          75,
          75,
          85,
          85
         ],
         "yaxis": "y"
        },
        {
         "hoverinfo": "text",
         "marker": {
          "color": "rgb(255,65,54)"
         },
         "mode": "lines",
         "type": "scatter",
         "x": [
          0,
          -0.6385842025783323,
          -0.6385842025783323,
          -0.41466681273855827
         ],
         "xaxis": "x2",
         "y": [
          65,
          65,
          80,
          80
         ],
         "yaxis": "y"
        },
        {
         "hoverinfo": "text",
         "marker": {
          "color": "rgb(255,65,54)"
         },
         "mode": "lines",
         "type": "scatter",
         "x": [
          -0.5466289191743684,
          -0.6976133598569921,
          -0.6976133598569921,
          -0.6385842025783323
         ],
         "xaxis": "x2",
         "y": [
          50,
          50,
          72.5,
          72.5
         ],
         "yaxis": "y"
        },
        {
         "hoverinfo": "text",
         "marker": {
          "color": "rgb(255,65,54)"
         },
         "mode": "lines",
         "type": "scatter",
         "x": [
          0,
          -0.48966041247567665,
          -0.48966041247567665,
          0
         ],
         "xaxis": "x2",
         "y": [
          95,
          95,
          105,
          105
         ],
         "yaxis": "y"
        },
        {
         "hoverinfo": "text",
         "marker": {
          "color": "rgb(255,65,54)"
         },
         "mode": "lines",
         "type": "scatter",
         "x": [
          -0.6976133598569921,
          -0.7722362801574217,
          -0.7722362801574217,
          -0.48966041247567665
         ],
         "xaxis": "x2",
         "y": [
          61.25,
          61.25,
          100,
          100
         ],
         "yaxis": "y"
        },
        {
         "hoverinfo": "text",
         "marker": {
          "color": "rgb(0,116,217)"
         },
         "mode": "lines",
         "type": "scatter",
         "x": [
          -0.984739786387532,
          -1.0483680906778832,
          -1.0483680906778832,
          -0.7722362801574217
         ],
         "xaxis": "x2",
         "y": [
          22.5,
          22.5,
          80.625,
          80.625
         ],
         "yaxis": "y"
        },
        {
         "hoverinfo": "text",
         "marker": {
          "color": "rgb(255,65,54)"
         },
         "mode": "lines",
         "type": "scatter",
         "x": [
          0,
          -0.6162389582803675,
          -0.6162389582803675,
          0
         ],
         "xaxis": "x2",
         "y": [
          115,
          115,
          125,
          125
         ],
         "yaxis": "y"
        },
        {
         "hoverinfo": "text",
         "marker": {
          "color": "rgb(255,65,54)"
         },
         "mode": "lines",
         "type": "scatter",
         "x": [
          -1.0483680906778832,
          -1.0387830810801184,
          -1.0387830810801184,
          -0.6162389582803675
         ],
         "xaxis": "x2",
         "y": [
          51.5625,
          51.5625,
          120,
          120
         ],
         "yaxis": "y"
        },
        {
         "hoverinfo": "text",
         "marker": {
          "color": "rgb(0,116,217)"
         },
         "mode": "lines",
         "type": "scatter",
         "x": [
          0,
          -1.1222231049951805,
          -1.1222231049951805,
          -1.0387830810801184
         ],
         "xaxis": "x2",
         "y": [
          5,
          5,
          85.78125,
          85.78125
         ],
         "yaxis": "y"
        },
        {
         "hoverinfo": "text",
         "marker": {
          "color": "rgb(0,116,217)"
         },
         "mode": "lines",
         "type": "scatter",
         "x": [
          -1.1222231049951805,
          -1.1623349644646408,
          -1.1623349644646408,
          0
         ],
         "xaxis": "x2",
         "y": [
          45.390625,
          45.390625,
          135,
          135
         ],
         "yaxis": "y"
        },
        {
         "hoverinfo": "text",
         "marker": {
          "color": "rgb(35,205,205)"
         },
         "mode": "lines",
         "type": "scatter",
         "x": [
          0,
          -0.5853479416966549,
          -0.5853479416966549,
          0
         ],
         "xaxis": "x2",
         "y": [
          155,
          155,
          165,
          165
         ],
         "yaxis": "y"
        },
        {
         "hoverinfo": "text",
         "marker": {
          "color": "rgb(0,116,217)"
         },
         "mode": "lines",
         "type": "scatter",
         "x": [
          0,
          -1.0729775945157214,
          -1.0729775945157214,
          -0.5853479416966549
         ],
         "xaxis": "x2",
         "y": [
          145,
          145,
          160,
          160
         ],
         "yaxis": "y"
        },
        {
         "hoverinfo": "text",
         "marker": {
          "color": "rgb(0,116,217)"
         },
         "mode": "lines",
         "type": "scatter",
         "x": [
          -1.0729775945157214,
          -1.1809234808670612,
          -1.1809234808670612,
          0
         ],
         "xaxis": "x2",
         "y": [
          152.5,
          152.5,
          175,
          175
         ],
         "yaxis": "y"
        },
        {
         "hoverinfo": "text",
         "marker": {
          "color": "rgb(133,20,75)"
         },
         "mode": "lines",
         "type": "scatter",
         "x": [
          0,
          -0.7323664942085689,
          -0.7323664942085689,
          0
         ],
         "xaxis": "x2",
         "y": [
          185,
          185,
          195,
          195
         ],
         "yaxis": "y"
        },
        {
         "hoverinfo": "text",
         "marker": {
          "color": "rgb(133,20,75)"
         },
         "mode": "lines",
         "type": "scatter",
         "x": [
          -0.7323664942085689,
          -0.9689866572146281,
          -0.9689866572146281,
          0
         ],
         "xaxis": "x2",
         "y": [
          190,
          190,
          205,
          205
         ],
         "yaxis": "y"
        },
        {
         "hoverinfo": "text",
         "marker": {
          "color": "rgb(255,220,0)"
         },
         "mode": "lines",
         "type": "scatter",
         "x": [
          0,
          -0.5412069874490151,
          -0.5412069874490151,
          0
         ],
         "xaxis": "x2",
         "y": [
          225,
          225,
          235,
          235
         ],
         "yaxis": "y"
        },
        {
         "hoverinfo": "text",
         "marker": {
          "color": "rgb(255,220,0)"
         },
         "mode": "lines",
         "type": "scatter",
         "x": [
          0,
          -0.8038240766063832,
          -0.8038240766063832,
          -0.5412069874490151
         ],
         "xaxis": "x2",
         "y": [
          215,
          215,
          230,
          230
         ],
         "yaxis": "y"
        },
        {
         "hoverinfo": "text",
         "marker": {
          "color": "rgb(255,220,0)"
         },
         "mode": "lines",
         "type": "scatter",
         "x": [
          0,
          -0.7472015068547558,
          -0.7472015068547558,
          0
         ],
         "xaxis": "x2",
         "y": [
          255,
          255,
          265,
          265
         ],
         "yaxis": "y"
        },
        {
         "hoverinfo": "text",
         "marker": {
          "color": "rgb(255,220,0)"
         },
         "mode": "lines",
         "type": "scatter",
         "x": [
          0,
          -0.9286019212205604,
          -0.9286019212205604,
          -0.7472015068547558
         ],
         "xaxis": "x2",
         "y": [
          245,
          245,
          260,
          260
         ],
         "yaxis": "y"
        },
        {
         "hoverinfo": "text",
         "marker": {
          "color": "rgb(255,220,0)"
         },
         "mode": "lines",
         "type": "scatter",
         "x": [
          -0.8038240766063832,
          -1.0085186606098258,
          -1.0085186606098258,
          -0.9286019212205604
         ],
         "xaxis": "x2",
         "y": [
          222.5,
          222.5,
          252.5,
          252.5
         ],
         "yaxis": "y"
        },
        {
         "hoverinfo": "text",
         "marker": {
          "color": "rgb(0,116,217)"
         },
         "mode": "lines",
         "type": "scatter",
         "x": [
          -0.9689866572146281,
          -1.0752681199392076,
          -1.0752681199392076,
          -1.0085186606098258
         ],
         "xaxis": "x2",
         "y": [
          197.5,
          197.5,
          237.5,
          237.5
         ],
         "yaxis": "y"
        },
        {
         "hoverinfo": "text",
         "marker": {
          "color": "rgb(0,116,217)"
         },
         "mode": "lines",
         "type": "scatter",
         "x": [
          -1.1809234808670612,
          -1.307981820976663,
          -1.307981820976663,
          -1.0752681199392076
         ],
         "xaxis": "x2",
         "y": [
          163.75,
          163.75,
          217.5,
          217.5
         ],
         "yaxis": "y"
        },
        {
         "hoverinfo": "text",
         "marker": {
          "color": "rgb(0,116,217)"
         },
         "mode": "lines",
         "type": "scatter",
         "x": [
          -1.1623349644646408,
          -1.4848431026580822,
          -1.4848431026580822,
          -1.307981820976663
         ],
         "xaxis": "x2",
         "y": [
          90.1953125,
          90.1953125,
          190.625,
          190.625
         ],
         "yaxis": "y"
        },
        {
         "colorbar": {
          "title": {
           "text": "Coff Tanimoto"
          }
         },
         "type": "heatmap",
         "x": [
          5,
          15,
          25,
          35,
          45,
          55,
          65,
          75,
          85,
          95,
          105,
          115,
          125,
          135,
          145,
          155,
          165,
          175,
          185,
          195,
          205,
          215,
          225,
          235,
          245,
          255,
          265
         ],
         "y": [
          5,
          15,
          25,
          35,
          45,
          55,
          65,
          75,
          85,
          95,
          105,
          115,
          125,
          135,
          145,
          155,
          165,
          175,
          185,
          195,
          205,
          215,
          225,
          235,
          245,
          255,
          265
         ],
         "z": [
          [
           1,
           0.2558139534883721,
           0.24242424242424243,
           0.26666666666666666,
           0.37037037037037035,
           0.25925925925925924,
           0.18518518518518517,
           0.21428571428571427,
           0.2413793103448276,
           0.25925925925925924,
           0.18518518518518517,
           0.15384615384615385,
           0.11864406779661017,
           0.13953488372093023,
           0.037037037037037035,
           0.034482758620689655,
           0.03225806451612903,
           0.022988505747126436,
           0,
           0,
           0,
           0.038834951456310676,
           0.05384615384615385,
           0.046242774566473986,
           0.017543859649122806,
           0.02072538860103627,
           0.0106951871657754
          ],
          [
           0.2558139534883721,
           1,
           0.4642857142857143,
           0.4074074074074074,
           0.32142857142857145,
           0.25925925925925924,
           0.18518518518518517,
           0.25925925925925924,
           0.2413793103448276,
           0.1724137931034483,
           0.14285714285714285,
           0.11940298507462686,
           0.1,
           0.11363636363636363,
           0.037037037037037035,
           0.034482758620689655,
           0.03225806451612903,
           0.03488372093023256,
           0.015625,
           0.022222222222222223,
           0.012578616352201259,
           0.04390243902439024,
           0.05384615384615385,
           0.046242774566473986,
           0.017543859649122806,
           0.031413612565445025,
           0.02717391304347826
          ],
          [
           0.24242424242424243,
           0.4642857142857143,
           1,
           0.7857142857142857,
           0.4117647058823529,
           0.5,
           0.35714285714285715,
           0.3125,
           0.2777777777777778,
           0.23529411764705882,
           0.26666666666666666,
           0.1951219512195122,
           0.17647058823529413,
           0.16129032258064516,
           0.07142857142857142,
           0.0625,
           0.05555555555555555,
           0.03278688524590164,
           0.009708737864077669,
           0.015384615384615385,
           0.007462686567164179,
           0.03296703296703297,
           0.05714285714285714,
           0.0472972972972973,
           0.022727272727272728,
           0.023952095808383235,
           0.012422360248447204
          ],
          [
           0.26666666666666666,
           0.4074074074074074,
           0.7857142857142857,
           1,
           0.5,
           0.6363636363636364,
           0.45454545454545453,
           0.38461538461538464,
           0.3333333333333333,
           0.2857142857142857,
           0.3333333333333333,
           0.22857142857142856,
           0.21428571428571427,
           0.17857142857142858,
           0.09090909090909091,
           0.07692307692307693,
           0.06666666666666667,
           0.03636363636363636,
           0.010309278350515464,
           0.01694915254237288,
           0.0078125,
           0.03409090909090909,
           0.06060606060606061,
           0.04929577464788732,
           0.024390243902439025,
           0.024844720496894408,
           0.012903225806451613
          ],
          [
           0.37037037037037035,
           0.32142857142857145,
           0.4117647058823529,
           0.5,
           1,
           0.7,
           0.5,
           0.5454545454545454,
           0.46153846153846156,
           0.4166666666666667,
           0.36363636363636365,
           0.24242424242424243,
           0.23076923076923078,
           0.18518518518518517,
           0.1,
           0.08333333333333333,
           0.07142857142857142,
           0.03773584905660377,
           0,
           0,
           0,
           0.034482758620689655,
           0.061855670103092786,
           0.05,
           0.025,
           0.01875,
           0.006493506493506494
          ],
          [
           0.25925925925925924,
           0.25925925925925924,
           0.5,
           0.6363636363636364,
           0.7,
           1,
           0.7142857142857143,
           0.5555555555555556,
           0.45454545454545453,
           0.4,
           0.5,
           0.2962962962962963,
           0.3,
           0.20833333333333334,
           0.14285714285714285,
           0.1111111111111111,
           0.09090909090909091,
           0.0425531914893617,
           0,
           0,
           0,
           0.03571428571428571,
           0.06593406593406594,
           0.05223880597014925,
           0.02702702702702703,
           0.01948051948051948,
           0.006756756756756757
          ],
          [
           0.18518518518518517,
           0.18518518518518517,
           0.35714285714285715,
           0.45454545454545453,
           0.5,
           0.7142857142857143,
           1,
           0.7142857142857143,
           0.5555555555555556,
           0.5,
           0.6666666666666666,
           0.34782608695652173,
           0.375,
           0.22727272727272727,
           0.2,
           0.14285714285714285,
           0.1111111111111111,
           0.046511627906976744,
           0,
           0,
           0,
           0.036585365853658534,
           0.06896551724137931,
           0.04580152671755725,
           0.02857142857142857,
           0.02,
           0.006944444444444444
          ],
          [
           0.21428571428571427,
           0.25925925925925924,
           0.3125,
           0.38461538461538464,
           0.5454545454545454,
           0.5555555555555556,
           0.7142857142857143,
           1,
           0.7777777777777778,
           0.5555555555555556,
           0.5,
           0.2962962962962963,
           0.3,
           0.20833333333333334,
           0.14285714285714285,
           0.1111111111111111,
           0.09090909090909091,
           0.0425531914893617,
           0,
           0,
           0,
           0.03571428571428571,
           0.06593406593406594,
           0.044444444444444446,
           0.02702702702702703,
           0.01948051948051948,
           0.006756756756756757
          ],
          [
           0.2413793103448276,
           0.2413793103448276,
           0.2777777777777778,
           0.3333333333333333,
           0.46153846153846156,
           0.45454545454545453,
           0.5555555555555556,
           0.7777777777777778,
           1,
           0.45454545454545453,
           0.4,
           0.25806451612903225,
           0.25,
           0.21568627450980393,
           0.1111111111111111,
           0.09090909090909091,
           0.07692307692307693,
           0.0392156862745098,
           0,
           0,
           0,
           0.03488372093023256,
           0.06315789473684211,
           0.04316546762589928,
           0.02564102564102564,
           0.0189873417721519,
           0.006578947368421052
          ],
          [
           0.25925925925925924,
           0.1724137931034483,
           0.23529411764705882,
           0.2857142857142857,
           0.4166666666666667,
           0.4,
           0.5,
           0.5555555555555556,
           0.45454545454545453,
           1,
           0.7142857142857143,
           0.4,
           0.3684210526315789,
           0.20833333333333334,
           0.14285714285714285,
           0.1111111111111111,
           0.09090909090909091,
           0.0425531914893617,
           0,
           0,
           0,
           0.03571428571428571,
           0.06593406593406594,
           0.044444444444444446,
           0.02702702702702703,
           0.01948051948051948,
           0.006756756756756757
          ],
          [
           0.18518518518518517,
           0.14285714285714285,
           0.26666666666666666,
           0.3333333333333333,
           0.36363636363636365,
           0.5,
           0.6666666666666666,
           0.5,
           0.4,
           0.7142857142857143,
           1,
           0.47619047619047616,
           0.4666666666666667,
           0.2,
           0.2,
           0.14285714285714285,
           0.1111111111111111,
           0.046511627906976744,
           0,
           0,
           0,
           0.036585365853658534,
           0.06896551724137931,
           0.04580152671755725,
           0.02857142857142857,
           0.02,
           0.006944444444444444
          ],
          [
           0.15384615384615385,
           0.11940298507462686,
           0.1951219512195122,
           0.22857142857142856,
           0.24242424242424243,
           0.2962962962962963,
           0.34782608695652173,
           0.2962962962962963,
           0.25806451612903225,
           0.4,
           0.47619047619047616,
           1,
           0.5714285714285714,
           0.27450980392156865,
           0.09523809523809523,
           0.08,
           0.06896551724137931,
           0.09803921568627451,
           0,
           0,
           0,
           0.040229885057471264,
           0.061224489795918366,
           0.04225352112676056,
           0.024691358024691357,
           0.018633540372670808,
           0.012987012987012988
          ],
          [
           0.11864406779661017,
           0.1,
           0.17647058823529413,
           0.21428571428571427,
           0.23076923076923078,
           0.3,
           0.375,
           0.3,
           0.25,
           0.3684210526315789,
           0.4666666666666667,
           0.5714285714285714,
           1,
           0.2727272727272727,
           0.16666666666666666,
           0.125,
           0.1,
           0.09302325581395349,
           0,
           0,
           0,
           0.04242424242424243,
           0.06741573033707865,
           0.045112781954887216,
           0.027777777777777776,
           0.019736842105263157,
           0.013793103448275862
          ],
          [
           0.13953488372093023,
           0.11363636363636363,
           0.16129032258064516,
           0.17857142857142858,
           0.18518518518518517,
           0.20833333333333334,
           0.22727272727272727,
           0.20833333333333334,
           0.21568627450980393,
           0.20833333333333334,
           0.2,
           0.27450980392156865,
           0.2727272727272727,
           1,
           0.045454545454545456,
           0.041666666666666664,
           0.038461538461538464,
           0.05333333333333334,
           0.02564102564102564,
           0.012345679012345678,
           0.013422818791946308,
           0.03553299492385787,
           0.049586776859504134,
           0.042682926829268296,
           0.019230769230769232,
           0.027472527472527472,
           0.028735632183908046
          ],
          [
           0.037037037037037035,
           0.037037037037037035,
           0.07142857142857142,
           0.09090909090909091,
           0.1,
           0.14285714285714285,
           0.2,
           0.14285714285714285,
           0.1111111111111111,
           0.14285714285714285,
           0.2,
           0.09523809523809523,
           0.16666666666666666,
           0.045454545454545456,
           1,
           0.3333333333333333,
           0.2,
           0.05714285714285714,
           0,
           0,
           0,
           0.0125,
           0.024096385542168676,
           0.015748031496062992,
           0.03225806451612903,
           0.013986013986013986,
           0.007352941176470588
          ],
          [
           0.034482758620689655,
           0.034482758620689655,
           0.0625,
           0.07692307692307693,
           0.08333333333333333,
           0.1111111111111111,
           0.14285714285714285,
           0.1111111111111111,
           0.09090909090909091,
           0.1111111111111111,
           0.14285714285714285,
           0.08,
           0.125,
           0.041666666666666664,
           0.3333333333333333,
           1,
           0.6,
           0.17142857142857143,
           0,
           0,
           0,
           0.012195121951219513,
           0.022988505747126436,
           0.015267175572519083,
           0.030303030303030304,
           0.013605442176870748,
           0.007142857142857143
          ],
          [
           0.03225806451612903,
           0.03225806451612903,
           0.05555555555555555,
           0.06666666666666667,
           0.07142857142857142,
           0.09090909090909091,
           0.1111111111111111,
           0.09090909090909091,
           0.07692307692307693,
           0.09090909090909091,
           0.1111111111111111,
           0.06896551724137931,
           0.1,
           0.038461538461538464,
           0.2,
           0.6,
           1,
           0.18421052631578946,
           0.011764705882352941,
           0,
           0,
           0.011904761904761904,
           0.02197802197802198,
           0.022388059701492536,
           0.02857142857142857,
           0.013245033112582781,
           0.006944444444444444
          ],
          [
           0.022988505747126436,
           0.03488372093023256,
           0.03278688524590164,
           0.03636363636363636,
           0.03773584905660377,
           0.0425531914893617,
           0.046511627906976744,
           0.0425531914893617,
           0.0392156862745098,
           0.0425531914893617,
           0.046511627906976744,
           0.09803921568627451,
           0.09302325581395349,
           0.05333333333333334,
           0.05714285714285714,
           0.17142857142857143,
           0.18421052631578946,
           1,
           0.00909090909090909,
           0.013888888888888888,
           0.014285714285714285,
           0.015625,
           0.017241379310344827,
           0.018867924528301886,
           0.021052631578947368,
           0.017142857142857144,
           0.017964071856287425
          ],
          [
           0,
           0.015625,
           0.009708737864077669,
           0.010309278350515464,
           0,
           0,
           0,
           0,
           0,
           0,
           0,
           0,
           0,
           0.02564102564102564,
           0,
           0,
           0.011764705882352941,
           0.00909090909090909,
           1,
           0.5,
           0.2708333333333333,
           0.0776255707762557,
           0.11188811188811189,
           0.25308641975308643,
           0.11290322580645161,
           0.07881773399014778,
           0.22674418604651161
          ],
          [
           0,
           0.022222222222222223,
           0.015384615384615385,
           0.01694915254237288,
           0,
           0,
           0,
           0,
           0,
           0,
           0,
           0,
           0,
           0.012345679012345678,
           0,
           0,
           0,
           0.013888888888888888,
           0.5,
           1,
           0.35514018691588783,
           0.08196721311475409,
           0.14150943396226415,
           0.1,
           0.14942528735632185,
           0.09036144578313253,
           0.2814814814814815
          ],
          [
           0,
           0.012578616352201259,
           0.007462686567164179,
           0.0078125,
           0,
           0,
           0,
           0,
           0,
           0,
           0,
           0,
           0,
           0.013422818791946308,
           0,
           0,
           0,
           0.014285714285714285,
           0.2708333333333333,
           0.35514018691588783,
           1,
           0.3417085427135678,
           0.09826589595375723,
           0.08333333333333333,
           0.09032258064516129,
           0.09170305676855896,
           0.21608040201005024
          ],
          [
           0.038834951456310676,
           0.04390243902439024,
           0.03296703296703297,
           0.03409090909090909,
           0.034482758620689655,
           0.03571428571428571,
           0.036585365853658534,
           0.03571428571428571,
           0.03488372093023256,
           0.03571428571428571,
           0.036585365853658534,
           0.040229885057471264,
           0.04242424242424243,
           0.03553299492385787,
           0.0125,
           0.012195121951219513,
           0.011904761904761904,
           0.015625,
           0.0776255707762557,
           0.08196721311475409,
           0.3417085427135678,
           1,
           0.51875,
           0.41379310344827586,
           0.23333333333333334,
           0.1976284584980237,
           0.1752988047808765
          ],
          [
           0.05384615384615385,
           0.05384615384615385,
           0.05714285714285714,
           0.06060606060606061,
           0.061855670103092786,
           0.06593406593406594,
           0.06896551724137931,
           0.06593406593406594,
           0.06315789473684211,
           0.06593406593406594,
           0.06896551724137931,
           0.061224489795918366,
           0.06741573033707865,
           0.049586776859504134,
           0.024096385542168676,
           0.022988505747126436,
           0.02197802197802198,
           0.017241379310344827,
           0.11188811188811189,
           0.14150943396226415,
           0.09826589595375723,
           0.51875,
           1,
           0.6535433070866141,
           0.4077669902912621,
           0.24861878453038674,
           0.2247191011235955
          ],
          [
           0.046242774566473986,
           0.046242774566473986,
           0.0472972972972973,
           0.04929577464788732,
           0.05,
           0.05223880597014925,
           0.04580152671755725,
           0.044444444444444446,
           0.04316546762589928,
           0.044444444444444446,
           0.04580152671755725,
           0.04225352112676056,
           0.045112781954887216,
           0.042682926829268296,
           0.015748031496062992,
           0.015267175572519083,
           0.022388059701492536,
           0.018867924528301886,
           0.25308641975308643,
           0.1,
           0.08333333333333333,
           0.41379310344827586,
           0.6535433070866141,
           1,
           0.2945205479452055,
           0.20535714285714285,
           0.19090909090909092
          ],
          [
           0.017543859649122806,
           0.017543859649122806,
           0.022727272727272728,
           0.024390243902439025,
           0.025,
           0.02702702702702703,
           0.02857142857142857,
           0.02702702702702703,
           0.02564102564102564,
           0.02702702702702703,
           0.02857142857142857,
           0.024691358024691357,
           0.027777777777777776,
           0.019230769230769232,
           0.03225806451612903,
           0.030303030303030304,
           0.02857142857142857,
           0.021052631578947368,
           0.11290322580645161,
           0.14942528735632185,
           0.09032258064516129,
           0.23333333333333334,
           0.4077669902912621,
           0.2945205479452055,
           1,
           0.43356643356643354,
           0.2468354430379747
          ],
          [
           0.02072538860103627,
           0.031413612565445025,
           0.023952095808383235,
           0.024844720496894408,
           0.01875,
           0.01948051948051948,
           0.02,
           0.01948051948051948,
           0.0189873417721519,
           0.01948051948051948,
           0.02,
           0.018633540372670808,
           0.019736842105263157,
           0.027472527472527472,
           0.013986013986013986,
           0.013605442176870748,
           0.013245033112582781,
           0.017142857142857144,
           0.07881773399014778,
           0.09036144578313253,
           0.09170305676855896,
           0.1976284584980237,
           0.24861878453038674,
           0.20535714285714285,
           0.43356643356643354,
           1,
           0.5274725274725275
          ],
          [
           0.0106951871657754,
           0.02717391304347826,
           0.012422360248447204,
           0.012903225806451613,
           0.006493506493506494,
           0.006756756756756757,
           0.006944444444444444,
           0.006756756756756757,
           0.006578947368421052,
           0.006756756756756757,
           0.006944444444444444,
           0.012987012987012988,
           0.013793103448275862,
           0.028735632183908046,
           0.007352941176470588,
           0.007142857142857143,
           0.006944444444444444,
           0.017964071856287425,
           0.22674418604651161,
           0.2814814814814815,
           0.21608040201005024,
           0.1752988047808765,
           0.2247191011235955,
           0.19090909090909092,
           0.2468354430379747,
           0.5274725274725275,
           1
          ]
         ]
        }
       ],
       "layout": {
        "autosize": false,
        "height": 800,
        "hovermode": "closest",
        "showlegend": false,
        "template": {
         "data": {
          "bar": [
           {
            "error_x": {
             "color": "#2a3f5f"
            },
            "error_y": {
             "color": "#2a3f5f"
            },
            "marker": {
             "line": {
              "color": "#E5ECF6",
              "width": 0.5
             },
             "pattern": {
              "fillmode": "overlay",
              "size": 10,
              "solidity": 0.2
             }
            },
            "type": "bar"
           }
          ],
          "barpolar": [
           {
            "marker": {
             "line": {
              "color": "#E5ECF6",
              "width": 0.5
             },
             "pattern": {
              "fillmode": "overlay",
              "size": 10,
              "solidity": 0.2
             }
            },
            "type": "barpolar"
           }
          ],
          "carpet": [
           {
            "aaxis": {
             "endlinecolor": "#2a3f5f",
             "gridcolor": "white",
             "linecolor": "white",
             "minorgridcolor": "white",
             "startlinecolor": "#2a3f5f"
            },
            "baxis": {
             "endlinecolor": "#2a3f5f",
             "gridcolor": "white",
             "linecolor": "white",
             "minorgridcolor": "white",
             "startlinecolor": "#2a3f5f"
            },
            "type": "carpet"
           }
          ],
          "choropleth": [
           {
            "colorbar": {
             "outlinewidth": 0,
             "ticks": ""
            },
            "type": "choropleth"
           }
          ],
          "contour": [
           {
            "colorbar": {
             "outlinewidth": 0,
             "ticks": ""
            },
            "colorscale": [
             [
              0,
              "#0d0887"
             ],
             [
              0.1111111111111111,
              "#46039f"
             ],
             [
              0.2222222222222222,
              "#7201a8"
             ],
             [
              0.3333333333333333,
              "#9c179e"
             ],
             [
              0.4444444444444444,
              "#bd3786"
             ],
             [
              0.5555555555555556,
              "#d8576b"
             ],
             [
              0.6666666666666666,
              "#ed7953"
             ],
             [
              0.7777777777777778,
              "#fb9f3a"
             ],
             [
              0.8888888888888888,
              "#fdca26"
             ],
             [
              1,
              "#f0f921"
             ]
            ],
            "type": "contour"
           }
          ],
          "contourcarpet": [
           {
            "colorbar": {
             "outlinewidth": 0,
             "ticks": ""
            },
            "type": "contourcarpet"
           }
          ],
          "heatmap": [
           {
            "colorbar": {
             "outlinewidth": 0,
             "ticks": ""
            },
            "colorscale": [
             [
              0,
              "#0d0887"
             ],
             [
              0.1111111111111111,
              "#46039f"
             ],
             [
              0.2222222222222222,
              "#7201a8"
             ],
             [
              0.3333333333333333,
              "#9c179e"
             ],
             [
              0.4444444444444444,
              "#bd3786"
             ],
             [
              0.5555555555555556,
              "#d8576b"
             ],
             [
              0.6666666666666666,
              "#ed7953"
             ],
             [
              0.7777777777777778,
              "#fb9f3a"
             ],
             [
              0.8888888888888888,
              "#fdca26"
             ],
             [
              1,
              "#f0f921"
             ]
            ],
            "type": "heatmap"
           }
          ],
          "heatmapgl": [
           {
            "colorbar": {
             "outlinewidth": 0,
             "ticks": ""
            },
            "colorscale": [
             [
              0,
              "#0d0887"
             ],
             [
              0.1111111111111111,
              "#46039f"
             ],
             [
              0.2222222222222222,
              "#7201a8"
             ],
             [
              0.3333333333333333,
              "#9c179e"
             ],
             [
              0.4444444444444444,
              "#bd3786"
             ],
             [
              0.5555555555555556,
              "#d8576b"
             ],
             [
              0.6666666666666666,
              "#ed7953"
             ],
             [
              0.7777777777777778,
              "#fb9f3a"
             ],
             [
              0.8888888888888888,
              "#fdca26"
             ],
             [
              1,
              "#f0f921"
             ]
            ],
            "type": "heatmapgl"
           }
          ],
          "histogram": [
           {
            "marker": {
             "pattern": {
              "fillmode": "overlay",
              "size": 10,
              "solidity": 0.2
             }
            },
            "type": "histogram"
           }
          ],
          "histogram2d": [
           {
            "colorbar": {
             "outlinewidth": 0,
             "ticks": ""
            },
            "colorscale": [
             [
              0,
              "#0d0887"
             ],
             [
              0.1111111111111111,
              "#46039f"
             ],
             [
              0.2222222222222222,
              "#7201a8"
             ],
             [
              0.3333333333333333,
              "#9c179e"
             ],
             [
              0.4444444444444444,
              "#bd3786"
             ],
             [
              0.5555555555555556,
              "#d8576b"
             ],
             [
              0.6666666666666666,
              "#ed7953"
             ],
             [
              0.7777777777777778,
              "#fb9f3a"
             ],
             [
              0.8888888888888888,
              "#fdca26"
             ],
             [
              1,
              "#f0f921"
             ]
            ],
            "type": "histogram2d"
           }
          ],
          "histogram2dcontour": [
           {
            "colorbar": {
             "outlinewidth": 0,
             "ticks": ""
            },
            "colorscale": [
             [
              0,
              "#0d0887"
             ],
             [
              0.1111111111111111,
              "#46039f"
             ],
             [
              0.2222222222222222,
              "#7201a8"
             ],
             [
              0.3333333333333333,
              "#9c179e"
             ],
             [
              0.4444444444444444,
              "#bd3786"
             ],
             [
              0.5555555555555556,
              "#d8576b"
             ],
             [
              0.6666666666666666,
              "#ed7953"
             ],
             [
              0.7777777777777778,
              "#fb9f3a"
             ],
             [
              0.8888888888888888,
              "#fdca26"
             ],
             [
              1,
              "#f0f921"
             ]
            ],
            "type": "histogram2dcontour"
           }
          ],
          "mesh3d": [
           {
            "colorbar": {
             "outlinewidth": 0,
             "ticks": ""
            },
            "type": "mesh3d"
           }
          ],
          "parcoords": [
           {
            "line": {
             "colorbar": {
              "outlinewidth": 0,
              "ticks": ""
             }
            },
            "type": "parcoords"
           }
          ],
          "pie": [
           {
            "automargin": true,
            "type": "pie"
           }
          ],
          "scatter": [
           {
            "marker": {
             "colorbar": {
              "outlinewidth": 0,
              "ticks": ""
             }
            },
            "type": "scatter"
           }
          ],
          "scatter3d": [
           {
            "line": {
             "colorbar": {
              "outlinewidth": 0,
              "ticks": ""
             }
            },
            "marker": {
             "colorbar": {
              "outlinewidth": 0,
              "ticks": ""
             }
            },
            "type": "scatter3d"
           }
          ],
          "scattercarpet": [
           {
            "marker": {
             "colorbar": {
              "outlinewidth": 0,
              "ticks": ""
             }
            },
            "type": "scattercarpet"
           }
          ],
          "scattergeo": [
           {
            "marker": {
             "colorbar": {
              "outlinewidth": 0,
              "ticks": ""
             }
            },
            "type": "scattergeo"
           }
          ],
          "scattergl": [
           {
            "marker": {
             "colorbar": {
              "outlinewidth": 0,
              "ticks": ""
             }
            },
            "type": "scattergl"
           }
          ],
          "scattermapbox": [
           {
            "marker": {
             "colorbar": {
              "outlinewidth": 0,
              "ticks": ""
             }
            },
            "type": "scattermapbox"
           }
          ],
          "scatterpolar": [
           {
            "marker": {
             "colorbar": {
              "outlinewidth": 0,
              "ticks": ""
             }
            },
            "type": "scatterpolar"
           }
          ],
          "scatterpolargl": [
           {
            "marker": {
             "colorbar": {
              "outlinewidth": 0,
              "ticks": ""
             }
            },
            "type": "scatterpolargl"
           }
          ],
          "scatterternary": [
           {
            "marker": {
             "colorbar": {
              "outlinewidth": 0,
              "ticks": ""
             }
            },
            "type": "scatterternary"
           }
          ],
          "surface": [
           {
            "colorbar": {
             "outlinewidth": 0,
             "ticks": ""
            },
            "colorscale": [
             [
              0,
              "#0d0887"
             ],
             [
              0.1111111111111111,
              "#46039f"
             ],
             [
              0.2222222222222222,
              "#7201a8"
             ],
             [
              0.3333333333333333,
              "#9c179e"
             ],
             [
              0.4444444444444444,
              "#bd3786"
             ],
             [
              0.5555555555555556,
              "#d8576b"
             ],
             [
              0.6666666666666666,
              "#ed7953"
             ],
             [
              0.7777777777777778,
              "#fb9f3a"
             ],
             [
              0.8888888888888888,
              "#fdca26"
             ],
             [
              1,
              "#f0f921"
             ]
            ],
            "type": "surface"
           }
          ],
          "table": [
           {
            "cells": {
             "fill": {
              "color": "#EBF0F8"
             },
             "line": {
              "color": "white"
             }
            },
            "header": {
             "fill": {
              "color": "#C8D4E3"
             },
             "line": {
              "color": "white"
             }
            },
            "type": "table"
           }
          ]
         },
         "layout": {
          "annotationdefaults": {
           "arrowcolor": "#2a3f5f",
           "arrowhead": 0,
           "arrowwidth": 1
          },
          "autotypenumbers": "strict",
          "coloraxis": {
           "colorbar": {
            "outlinewidth": 0,
            "ticks": ""
           }
          },
          "colorscale": {
           "diverging": [
            [
             0,
             "#8e0152"
            ],
            [
             0.1,
             "#c51b7d"
            ],
            [
             0.2,
             "#de77ae"
            ],
            [
             0.3,
             "#f1b6da"
            ],
            [
             0.4,
             "#fde0ef"
            ],
            [
             0.5,
             "#f7f7f7"
            ],
            [
             0.6,
             "#e6f5d0"
            ],
            [
             0.7,
             "#b8e186"
            ],
            [
             0.8,
             "#7fbc41"
            ],
            [
             0.9,
             "#4d9221"
            ],
            [
             1,
             "#276419"
            ]
           ],
           "sequential": [
            [
             0,
             "#0d0887"
            ],
            [
             0.1111111111111111,
             "#46039f"
            ],
            [
             0.2222222222222222,
             "#7201a8"
            ],
            [
             0.3333333333333333,
             "#9c179e"
            ],
            [
             0.4444444444444444,
             "#bd3786"
            ],
            [
             0.5555555555555556,
             "#d8576b"
            ],
            [
             0.6666666666666666,
             "#ed7953"
            ],
            [
             0.7777777777777778,
             "#fb9f3a"
            ],
            [
             0.8888888888888888,
             "#fdca26"
            ],
            [
             1,
             "#f0f921"
            ]
           ],
           "sequentialminus": [
            [
             0,
             "#0d0887"
            ],
            [
             0.1111111111111111,
             "#46039f"
            ],
            [
             0.2222222222222222,
             "#7201a8"
            ],
            [
             0.3333333333333333,
             "#9c179e"
            ],
            [
             0.4444444444444444,
             "#bd3786"
            ],
            [
             0.5555555555555556,
             "#d8576b"
            ],
            [
             0.6666666666666666,
             "#ed7953"
            ],
            [
             0.7777777777777778,
             "#fb9f3a"
            ],
            [
             0.8888888888888888,
             "#fdca26"
            ],
            [
             1,
             "#f0f921"
            ]
           ]
          },
          "colorway": [
           "#636efa",
           "#EF553B",
           "#00cc96",
           "#ab63fa",
           "#FFA15A",
           "#19d3f3",
           "#FF6692",
           "#B6E880",
           "#FF97FF",
           "#FECB52"
          ],
          "font": {
           "color": "#2a3f5f"
          },
          "geo": {
           "bgcolor": "white",
           "lakecolor": "white",
           "landcolor": "#E5ECF6",
           "showlakes": true,
           "showland": true,
           "subunitcolor": "white"
          },
          "hoverlabel": {
           "align": "left"
          },
          "hovermode": "closest",
          "mapbox": {
           "style": "light"
          },
          "paper_bgcolor": "white",
          "plot_bgcolor": "#E5ECF6",
          "polar": {
           "angularaxis": {
            "gridcolor": "white",
            "linecolor": "white",
            "ticks": ""
           },
           "bgcolor": "#E5ECF6",
           "radialaxis": {
            "gridcolor": "white",
            "linecolor": "white",
            "ticks": ""
           }
          },
          "scene": {
           "xaxis": {
            "backgroundcolor": "#E5ECF6",
            "gridcolor": "white",
            "gridwidth": 2,
            "linecolor": "white",
            "showbackground": true,
            "ticks": "",
            "zerolinecolor": "white"
           },
           "yaxis": {
            "backgroundcolor": "#E5ECF6",
            "gridcolor": "white",
            "gridwidth": 2,
            "linecolor": "white",
            "showbackground": true,
            "ticks": "",
            "zerolinecolor": "white"
           },
           "zaxis": {
            "backgroundcolor": "#E5ECF6",
            "gridcolor": "white",
            "gridwidth": 2,
            "linecolor": "white",
            "showbackground": true,
            "ticks": "",
            "zerolinecolor": "white"
           }
          },
          "shapedefaults": {
           "line": {
            "color": "#2a3f5f"
           }
          },
          "ternary": {
           "aaxis": {
            "gridcolor": "white",
            "linecolor": "white",
            "ticks": ""
           },
           "baxis": {
            "gridcolor": "white",
            "linecolor": "white",
            "ticks": ""
           },
           "bgcolor": "#E5ECF6",
           "caxis": {
            "gridcolor": "white",
            "linecolor": "white",
            "ticks": ""
           }
          },
          "title": {
           "x": 0.05
          },
          "xaxis": {
           "automargin": true,
           "gridcolor": "white",
           "linecolor": "white",
           "ticks": "",
           "title": {
            "standoff": 15
           },
           "zerolinecolor": "white",
           "zerolinewidth": 2
          },
          "yaxis": {
           "automargin": true,
           "gridcolor": "white",
           "linecolor": "white",
           "ticks": "",
           "title": {
            "standoff": 15
           },
           "zerolinecolor": "white",
           "zerolinewidth": 2
          }
         }
        },
        "title": {
         "text": "Similaridad Estructural de Aminas",
         "x": 0.55,
         "xanchor": "center",
         "y": 0.9,
         "yanchor": "top"
        },
        "width": 800,
        "xaxis": {
         "domain": [
          0.15,
          1
         ],
         "mirror": false,
         "rangemode": "tozero",
         "showgrid": false,
         "showline": false,
         "showticklabels": true,
         "tickmode": "array",
         "ticks": "",
         "ticktext": [
          "TertOctyl",
          "Cyclohexylmethyl",
          "nDodecyl",
          "nHexyl",
          "IPentyl",
          "n-BuNH3I",
          "NPropyl",
          "iButyl",
          "neoPentyl",
          "tButyl",
          "iPropyl",
          "Diisopropyl",
          "Diethyl",
          "NNDiethylpropane13di",
          "MeNH3I",
          "FormamidiniumIodide",
          "GnNH3I",
          "ImidazoliumIodide",
          "4FluoroPhenyl",
          "Phenyl",
          "4MethoxyPhenyl",
          "4methoxyphenethyl",
          "PhEtNH3I",
          "4FluoroPhenethyl",
          "Benzyl",
          "4TrifluoromethylBenzyl",
          "4TrifluoromethylPhenyl"
         ],
         "tickvals": [
          5,
          15,
          25,
          35,
          45,
          55,
          65,
          75,
          85,
          95,
          105,
          115,
          125,
          135,
          145,
          155,
          165,
          175,
          185,
          195,
          205,
          215,
          225,
          235,
          245,
          255,
          265
         ],
         "type": "linear",
         "zeroline": false
        },
        "xaxis2": {
         "domain": [
          0,
          0.15
         ],
         "mirror": false,
         "showgrid": false,
         "showline": false,
         "showticklabels": false,
         "ticks": "",
         "zeroline": false
        },
        "yaxis": {
         "domain": [
          0,
          0.85
         ],
         "mirror": false,
         "rangemode": "tozero",
         "showgrid": false,
         "showline": false,
         "showticklabels": false,
         "ticks": "",
         "ticktext": [
          "TertOctyl",
          "Cyclohexylmethyl",
          "nDodecyl",
          "nHexyl",
          "IPentyl",
          "n-BuNH3I",
          "NPropyl",
          "iButyl",
          "neoPentyl",
          "tButyl",
          "iPropyl",
          "Diisopropyl",
          "Diethyl",
          "NNDiethylpropane13di",
          "MeNH3I",
          "FormamidiniumIodide",
          "GnNH3I",
          "ImidazoliumIodide",
          "4FluoroPhenyl",
          "Phenyl",
          "4MethoxyPhenyl",
          "4methoxyphenethyl",
          "PhEtNH3I",
          "4FluoroPhenethyl",
          "Benzyl",
          "4TrifluoromethylBenzyl",
          "4TrifluoromethylPhenyl"
         ],
         "tickvals": [
          5,
          15,
          25,
          35,
          45,
          55,
          65,
          75,
          85,
          95,
          105,
          115,
          125,
          135,
          145,
          155,
          165,
          175,
          185,
          195,
          205,
          215,
          225,
          235,
          245,
          255,
          265
         ],
         "type": "linear",
         "zeroline": false
        },
        "yaxis2": {
         "domain": [
          0.825,
          0.975
         ],
         "mirror": false,
         "showgrid": false,
         "showline": false,
         "showticklabels": false,
         "ticks": "",
         "zeroline": false
        }
       }
      }
     },
     "metadata": {}
    }
   ],
   "metadata": {}
  },
  {
   "cell_type": "code",
   "execution_count": 34,
   "source": [
    "similarity_tanimoto = calculate_amine_fingerprint_distance(amines_smiles, abb_amines_names, 'Dice')\n",
    "plot_heatmap_plotly(similarity_tanimoto, abb_amines_names, 'Similaridad Aminas', 'centroid', 'Coff Dice')\n"
   ],
   "outputs": [
    {
     "output_type": "display_data",
     "data": {
      "text/html": [
       "<div>                            <div id=\"5ed03459-e3d6-41a4-8a12-40bb719ceb31\" class=\"plotly-graph-div\" style=\"height:800px; width:800px;\"></div>            <script type=\"text/javascript\">                require([\"plotly\"], function(Plotly) {                    window.PLOTLYENV=window.PLOTLYENV || {};                                    if (document.getElementById(\"5ed03459-e3d6-41a4-8a12-40bb719ceb31\")) {                    Plotly.newPlot(                        \"5ed03459-e3d6-41a4-8a12-40bb719ceb31\",                        [{\"hoverinfo\":\"text\",\"marker\":{\"color\":\"rgb(61,153,112)\"},\"mode\":\"lines\",\"type\":\"scatter\",\"x\":[15.0,15.0,25.0,25.0],\"xaxis\":\"x\",\"y\":[0.0,0.421471436250285,0.421471436250285,0.0],\"yaxis\":\"y2\"},{\"hoverinfo\":\"text\",\"marker\":{\"color\":\"rgb(61,153,112)\"},\"mode\":\"lines\",\"type\":\"scatter\",\"x\":[5.0,5.0,20.0,20.0],\"xaxis\":\"x\",\"y\":[0.0,0.6780605239039653,0.6780605239039653,0.421471436250285],\"yaxis\":\"y2\"},{\"hoverinfo\":\"text\",\"marker\":{\"color\":\"rgb(61,153,112)\"},\"mode\":\"lines\",\"type\":\"scatter\",\"x\":[45.0,45.0,55.0,55.0],\"xaxis\":\"x\",\"y\":[0.0,0.6355014648767577,0.6355014648767577,0.0],\"yaxis\":\"y2\"},{\"hoverinfo\":\"text\",\"marker\":{\"color\":\"rgb(61,153,112)\"},\"mode\":\"lines\",\"type\":\"scatter\",\"x\":[35.0,35.0,50.0,50.0],\"xaxis\":\"x\",\"y\":[0.0,0.7700258752710896,0.7700258752710896,0.6355014648767577],\"yaxis\":\"y2\"},{\"hoverinfo\":\"text\",\"marker\":{\"color\":\"rgb(61,153,112)\"},\"mode\":\"lines\",\"type\":\"scatter\",\"x\":[12.5,12.5,42.5,42.5],\"xaxis\":\"x\",\"y\":[0.6780605239039653,0.9425806490281506,0.9425806490281506,0.7700258752710896],\"yaxis\":\"y2\"},{\"hoverinfo\":\"text\",\"marker\":{\"color\":\"rgb(61,153,112)\"},\"mode\":\"lines\",\"type\":\"scatter\",\"x\":[65.0,65.0,75.0,75.0],\"xaxis\":\"x\",\"y\":[0.0,0.5418597561829395,0.5418597561829395,0.0],\"yaxis\":\"y2\"},{\"hoverinfo\":\"text\",\"marker\":{\"color\":\"rgb(61,153,112)\"},\"mode\":\"lines\",\"type\":\"scatter\",\"x\":[70.0,70.0,85.0,85.0],\"xaxis\":\"x\",\"y\":[0.5418597561829395,0.8345404984224987,0.8345404984224987,0.0],\"yaxis\":\"y2\"},{\"hoverinfo\":\"text\",\"marker\":{\"color\":\"rgb(61,153,112)\"},\"mode\":\"lines\",\"type\":\"scatter\",\"x\":[27.5,27.5,77.5,77.5],\"xaxis\":\"x\",\"y\":[0.9425806490281506,1.152409971029271,1.152409971029271,0.8345404984224987],\"yaxis\":\"y2\"},{\"hoverinfo\":\"text\",\"marker\":{\"color\":\"rgb(255,65,54)\"},\"mode\":\"lines\",\"type\":\"scatter\",\"x\":[105.0,105.0,115.0,115.0],\"xaxis\":\"x\",\"y\":[0.0,0.40709068539639925,0.40709068539639925,0.0],\"yaxis\":\"y2\"},{\"hoverinfo\":\"text\",\"marker\":{\"color\":\"rgb(255,65,54)\"},\"mode\":\"lines\",\"type\":\"scatter\",\"x\":[110.0,110.0,125.0,125.0],\"xaxis\":\"x\",\"y\":[0.40709068539639925,0.9286433555935595,0.9286433555935595,0.0],\"yaxis\":\"y2\"},{\"hoverinfo\":\"text\",\"marker\":{\"color\":\"rgb(255,65,54)\"},\"mode\":\"lines\",\"type\":\"scatter\",\"x\":[95.0,95.0,117.5,117.5],\"xaxis\":\"x\",\"y\":[0.0,1.1526611325502123,1.1526611325502123,0.9286433555935595],\"yaxis\":\"y2\"},{\"hoverinfo\":\"text\",\"marker\":{\"color\":\"rgb(35,205,205)\"},\"mode\":\"lines\",\"type\":\"scatter\",\"x\":[145.0,145.0,155.0,155.0],\"xaxis\":\"x\",\"y\":[0.0,0.4210132216931307,0.4210132216931307,0.0],\"yaxis\":\"y2\"},{\"hoverinfo\":\"text\",\"marker\":{\"color\":\"rgb(35,205,205)\"},\"mode\":\"lines\",\"type\":\"scatter\",\"x\":[165.0,165.0,175.0,175.0],\"xaxis\":\"x\",\"y\":[0.0,0.36449703622176344,0.36449703622176344,0.0],\"yaxis\":\"y2\"},{\"hoverinfo\":\"text\",\"marker\":{\"color\":\"rgb(35,205,205)\"},\"mode\":\"lines\",\"type\":\"scatter\",\"x\":[185.0,185.0,195.0,195.0],\"xaxis\":\"x\",\"y\":[0.0,0.30482035746975644,0.30482035746975644,0.0],\"yaxis\":\"y2\"},{\"hoverinfo\":\"text\",\"marker\":{\"color\":\"rgb(35,205,205)\"},\"mode\":\"lines\",\"type\":\"scatter\",\"x\":[190.0,190.0,205.0,205.0],\"xaxis\":\"x\",\"y\":[0.30482035746975644,0.4855786847149399,0.4855786847149399,0.0],\"yaxis\":\"y2\"},{\"hoverinfo\":\"text\",\"marker\":{\"color\":\"rgb(35,205,205)\"},\"mode\":\"lines\",\"type\":\"scatter\",\"x\":[215.0,215.0,225.0,225.0],\"xaxis\":\"x\",\"y\":[0.0,0.413233428405084,0.413233428405084,0.0],\"yaxis\":\"y2\"},{\"hoverinfo\":\"text\",\"marker\":{\"color\":\"rgb(35,205,205)\"},\"mode\":\"lines\",\"type\":\"scatter\",\"x\":[197.5,197.5,220.0,220.0],\"xaxis\":\"x\",\"y\":[0.4855786847149399,0.5369120041228641,0.5369120041228641,0.413233428405084],\"yaxis\":\"y2\"},{\"hoverinfo\":\"text\",\"marker\":{\"color\":\"rgb(35,205,205)\"},\"mode\":\"lines\",\"type\":\"scatter\",\"x\":[170.0,170.0,208.75,208.75],\"xaxis\":\"x\",\"y\":[0.36449703622176344,0.6247769700534633,0.6247769700534633,0.5369120041228641],\"yaxis\":\"y2\"},{\"hoverinfo\":\"text\",\"marker\":{\"color\":\"rgb(35,205,205)\"},\"mode\":\"lines\",\"type\":\"scatter\",\"x\":[150.0,150.0,189.375,189.375],\"xaxis\":\"x\",\"y\":[0.4210132216931307,0.9605511900859811,0.9605511900859811,0.6247769700534633],\"yaxis\":\"y2\"},{\"hoverinfo\":\"text\",\"marker\":{\"color\":\"rgb(35,205,205)\"},\"mode\":\"lines\",\"type\":\"scatter\",\"x\":[235.0,235.0,245.0,245.0],\"xaxis\":\"x\",\"y\":[0.0,0.3006972413927,0.3006972413927,0.0],\"yaxis\":\"y2\"},{\"hoverinfo\":\"text\",\"marker\":{\"color\":\"rgb(35,205,205)\"},\"mode\":\"lines\",\"type\":\"scatter\",\"x\":[240.0,240.0,255.0,255.0],\"xaxis\":\"x\",\"y\":[0.3006972413927,0.8370636797394464,0.8370636797394464,0.0],\"yaxis\":\"y2\"},{\"hoverinfo\":\"text\",\"marker\":{\"color\":\"rgb(35,205,205)\"},\"mode\":\"lines\",\"type\":\"scatter\",\"x\":[247.5,247.5,265.0,265.0],\"xaxis\":\"x\",\"y\":[0.8370636797394464,0.9683791911530568,0.9683791911530568,0.0],\"yaxis\":\"y2\"},{\"hoverinfo\":\"text\",\"marker\":{\"color\":\"rgb(35,205,205)\"},\"mode\":\"lines\",\"type\":\"scatter\",\"x\":[169.6875,169.6875,256.25,256.25],\"xaxis\":\"x\",\"y\":[0.9605511900859811,0.9477032553195635,0.9477032553195635,0.9683791911530568],\"yaxis\":\"y2\"},{\"hoverinfo\":\"text\",\"marker\":{\"color\":\"rgb(35,205,205)\"},\"mode\":\"lines\",\"type\":\"scatter\",\"x\":[135.0,135.0,212.96875,212.96875],\"xaxis\":\"x\",\"y\":[0.0,1.1138455317973013,1.1138455317973013,0.9477032553195635],\"yaxis\":\"y2\"},{\"hoverinfo\":\"text\",\"marker\":{\"color\":\"rgb(0,116,217)\"},\"mode\":\"lines\",\"type\":\"scatter\",\"x\":[106.25,106.25,173.984375,173.984375],\"xaxis\":\"x\",\"y\":[1.1526611325502123,1.6571582445821926,1.6571582445821926,1.1138455317973013],\"yaxis\":\"y2\"},{\"hoverinfo\":\"text\",\"marker\":{\"color\":\"rgb(0,116,217)\"},\"mode\":\"lines\",\"type\":\"scatter\",\"x\":[52.5,52.5,140.1171875,140.1171875],\"xaxis\":\"x\",\"y\":[1.152409971029271,1.9784151483978178,1.9784151483978178,1.6571582445821926],\"yaxis\":\"y2\"},{\"hoverinfo\":\"text\",\"marker\":{\"color\":\"rgb(61,153,112)\"},\"mode\":\"lines\",\"type\":\"scatter\",\"x\":[-0.0,-0.421471436250285,-0.421471436250285,-0.0],\"xaxis\":\"x2\",\"y\":[15.0,15.0,25.0,25.0],\"yaxis\":\"y\"},{\"hoverinfo\":\"text\",\"marker\":{\"color\":\"rgb(61,153,112)\"},\"mode\":\"lines\",\"type\":\"scatter\",\"x\":[-0.0,-0.6780605239039653,-0.6780605239039653,-0.421471436250285],\"xaxis\":\"x2\",\"y\":[5.0,5.0,20.0,20.0],\"yaxis\":\"y\"},{\"hoverinfo\":\"text\",\"marker\":{\"color\":\"rgb(61,153,112)\"},\"mode\":\"lines\",\"type\":\"scatter\",\"x\":[-0.0,-0.6355014648767577,-0.6355014648767577,-0.0],\"xaxis\":\"x2\",\"y\":[45.0,45.0,55.0,55.0],\"yaxis\":\"y\"},{\"hoverinfo\":\"text\",\"marker\":{\"color\":\"rgb(61,153,112)\"},\"mode\":\"lines\",\"type\":\"scatter\",\"x\":[-0.0,-0.7700258752710896,-0.7700258752710896,-0.6355014648767577],\"xaxis\":\"x2\",\"y\":[35.0,35.0,50.0,50.0],\"yaxis\":\"y\"},{\"hoverinfo\":\"text\",\"marker\":{\"color\":\"rgb(61,153,112)\"},\"mode\":\"lines\",\"type\":\"scatter\",\"x\":[-0.6780605239039653,-0.9425806490281506,-0.9425806490281506,-0.7700258752710896],\"xaxis\":\"x2\",\"y\":[12.5,12.5,42.5,42.5],\"yaxis\":\"y\"},{\"hoverinfo\":\"text\",\"marker\":{\"color\":\"rgb(61,153,112)\"},\"mode\":\"lines\",\"type\":\"scatter\",\"x\":[-0.0,-0.5418597561829395,-0.5418597561829395,-0.0],\"xaxis\":\"x2\",\"y\":[65.0,65.0,75.0,75.0],\"yaxis\":\"y\"},{\"hoverinfo\":\"text\",\"marker\":{\"color\":\"rgb(61,153,112)\"},\"mode\":\"lines\",\"type\":\"scatter\",\"x\":[-0.5418597561829395,-0.8345404984224987,-0.8345404984224987,-0.0],\"xaxis\":\"x2\",\"y\":[70.0,70.0,85.0,85.0],\"yaxis\":\"y\"},{\"hoverinfo\":\"text\",\"marker\":{\"color\":\"rgb(61,153,112)\"},\"mode\":\"lines\",\"type\":\"scatter\",\"x\":[-0.9425806490281506,-1.152409971029271,-1.152409971029271,-0.8345404984224987],\"xaxis\":\"x2\",\"y\":[27.5,27.5,77.5,77.5],\"yaxis\":\"y\"},{\"hoverinfo\":\"text\",\"marker\":{\"color\":\"rgb(255,65,54)\"},\"mode\":\"lines\",\"type\":\"scatter\",\"x\":[-0.0,-0.40709068539639925,-0.40709068539639925,-0.0],\"xaxis\":\"x2\",\"y\":[105.0,105.0,115.0,115.0],\"yaxis\":\"y\"},{\"hoverinfo\":\"text\",\"marker\":{\"color\":\"rgb(255,65,54)\"},\"mode\":\"lines\",\"type\":\"scatter\",\"x\":[-0.40709068539639925,-0.9286433555935595,-0.9286433555935595,-0.0],\"xaxis\":\"x2\",\"y\":[110.0,110.0,125.0,125.0],\"yaxis\":\"y\"},{\"hoverinfo\":\"text\",\"marker\":{\"color\":\"rgb(255,65,54)\"},\"mode\":\"lines\",\"type\":\"scatter\",\"x\":[-0.0,-1.1526611325502123,-1.1526611325502123,-0.9286433555935595],\"xaxis\":\"x2\",\"y\":[95.0,95.0,117.5,117.5],\"yaxis\":\"y\"},{\"hoverinfo\":\"text\",\"marker\":{\"color\":\"rgb(35,205,205)\"},\"mode\":\"lines\",\"type\":\"scatter\",\"x\":[-0.0,-0.4210132216931307,-0.4210132216931307,-0.0],\"xaxis\":\"x2\",\"y\":[145.0,145.0,155.0,155.0],\"yaxis\":\"y\"},{\"hoverinfo\":\"text\",\"marker\":{\"color\":\"rgb(35,205,205)\"},\"mode\":\"lines\",\"type\":\"scatter\",\"x\":[-0.0,-0.36449703622176344,-0.36449703622176344,-0.0],\"xaxis\":\"x2\",\"y\":[165.0,165.0,175.0,175.0],\"yaxis\":\"y\"},{\"hoverinfo\":\"text\",\"marker\":{\"color\":\"rgb(35,205,205)\"},\"mode\":\"lines\",\"type\":\"scatter\",\"x\":[-0.0,-0.30482035746975644,-0.30482035746975644,-0.0],\"xaxis\":\"x2\",\"y\":[185.0,185.0,195.0,195.0],\"yaxis\":\"y\"},{\"hoverinfo\":\"text\",\"marker\":{\"color\":\"rgb(35,205,205)\"},\"mode\":\"lines\",\"type\":\"scatter\",\"x\":[-0.30482035746975644,-0.4855786847149399,-0.4855786847149399,-0.0],\"xaxis\":\"x2\",\"y\":[190.0,190.0,205.0,205.0],\"yaxis\":\"y\"},{\"hoverinfo\":\"text\",\"marker\":{\"color\":\"rgb(35,205,205)\"},\"mode\":\"lines\",\"type\":\"scatter\",\"x\":[-0.0,-0.413233428405084,-0.413233428405084,-0.0],\"xaxis\":\"x2\",\"y\":[215.0,215.0,225.0,225.0],\"yaxis\":\"y\"},{\"hoverinfo\":\"text\",\"marker\":{\"color\":\"rgb(35,205,205)\"},\"mode\":\"lines\",\"type\":\"scatter\",\"x\":[-0.4855786847149399,-0.5369120041228641,-0.5369120041228641,-0.413233428405084],\"xaxis\":\"x2\",\"y\":[197.5,197.5,220.0,220.0],\"yaxis\":\"y\"},{\"hoverinfo\":\"text\",\"marker\":{\"color\":\"rgb(35,205,205)\"},\"mode\":\"lines\",\"type\":\"scatter\",\"x\":[-0.36449703622176344,-0.6247769700534633,-0.6247769700534633,-0.5369120041228641],\"xaxis\":\"x2\",\"y\":[170.0,170.0,208.75,208.75],\"yaxis\":\"y\"},{\"hoverinfo\":\"text\",\"marker\":{\"color\":\"rgb(35,205,205)\"},\"mode\":\"lines\",\"type\":\"scatter\",\"x\":[-0.4210132216931307,-0.9605511900859811,-0.9605511900859811,-0.6247769700534633],\"xaxis\":\"x2\",\"y\":[150.0,150.0,189.375,189.375],\"yaxis\":\"y\"},{\"hoverinfo\":\"text\",\"marker\":{\"color\":\"rgb(35,205,205)\"},\"mode\":\"lines\",\"type\":\"scatter\",\"x\":[-0.0,-0.3006972413927,-0.3006972413927,-0.0],\"xaxis\":\"x2\",\"y\":[235.0,235.0,245.0,245.0],\"yaxis\":\"y\"},{\"hoverinfo\":\"text\",\"marker\":{\"color\":\"rgb(35,205,205)\"},\"mode\":\"lines\",\"type\":\"scatter\",\"x\":[-0.3006972413927,-0.8370636797394464,-0.8370636797394464,-0.0],\"xaxis\":\"x2\",\"y\":[240.0,240.0,255.0,255.0],\"yaxis\":\"y\"},{\"hoverinfo\":\"text\",\"marker\":{\"color\":\"rgb(35,205,205)\"},\"mode\":\"lines\",\"type\":\"scatter\",\"x\":[-0.8370636797394464,-0.9683791911530568,-0.9683791911530568,-0.0],\"xaxis\":\"x2\",\"y\":[247.5,247.5,265.0,265.0],\"yaxis\":\"y\"},{\"hoverinfo\":\"text\",\"marker\":{\"color\":\"rgb(35,205,205)\"},\"mode\":\"lines\",\"type\":\"scatter\",\"x\":[-0.9605511900859811,-0.9477032553195635,-0.9477032553195635,-0.9683791911530568],\"xaxis\":\"x2\",\"y\":[169.6875,169.6875,256.25,256.25],\"yaxis\":\"y\"},{\"hoverinfo\":\"text\",\"marker\":{\"color\":\"rgb(35,205,205)\"},\"mode\":\"lines\",\"type\":\"scatter\",\"x\":[-0.0,-1.1138455317973013,-1.1138455317973013,-0.9477032553195635],\"xaxis\":\"x2\",\"y\":[135.0,135.0,212.96875,212.96875],\"yaxis\":\"y\"},{\"hoverinfo\":\"text\",\"marker\":{\"color\":\"rgb(0,116,217)\"},\"mode\":\"lines\",\"type\":\"scatter\",\"x\":[-1.1526611325502123,-1.6571582445821926,-1.6571582445821926,-1.1138455317973013],\"xaxis\":\"x2\",\"y\":[106.25,106.25,173.984375,173.984375],\"yaxis\":\"y\"},{\"hoverinfo\":\"text\",\"marker\":{\"color\":\"rgb(0,116,217)\"},\"mode\":\"lines\",\"type\":\"scatter\",\"x\":[-1.152409971029271,-1.9784151483978178,-1.9784151483978178,-1.6571582445821926],\"xaxis\":\"x2\",\"y\":[52.5,52.5,140.1171875,140.1171875],\"yaxis\":\"y\"},{\"colorbar\":{\"title\":{\"text\":\"Coff Dice\"}},\"type\":\"heatmap\",\"x\":[5.0,15.0,25.0,35.0,45.0,55.0,65.0,75.0,85.0,95.0,105.0,115.0,125.0,135.0,145.0,155.0,165.0,175.0,185.0,195.0,205.0,215.0,225.0,235.0,245.0,255.0,265.0],\"y\":[5.0,15.0,25.0,35.0,45.0,55.0,65.0,75.0,85.0,95.0,105.0,115.0,125.0,135.0,145.0,155.0,165.0,175.0,185.0,195.0,205.0,215.0,225.0,235.0,245.0,255.0,265.0],\"z\":[[1.0,0.6831275720164609,0.5853658536585366,0.3783783783783784,0.33003300330033003,0.2983050847457627,0.1440677966101695,0.15151515151515152,0.5093632958801498,0.03076923076923077,0.023529411764705882,0.024096385542168676,0.024691358024691357,0.06862745098039216,0.08139534883720931,0.07734806629834254,0.07058823529411765,0.06896551724137931,0.06741573033707865,0.06896551724137931,0.07058823529411765,0.06896551724137931,0.06666666666666667,0.06593406593406594,0.06382978723404255,0.08411214953271028,0.07476635514018691],[0.6831275720164609,1.0,0.7904761904761904,0.5793103448275863,0.39823008849557523,0.3669724770642202,0.20125786163522014,0.24793388429752067,0.17894736842105263,0.03389830508474576,0.043010752688172046,0.0449438202247191,0.047058823529411764,0.09448818897637795,0.12631578947368421,0.11538461538461539,0.12903225806451613,0.12371134020618557,0.1188118811881188,0.12371134020618557,0.12903225806451613,0.12371134020618557,0.11650485436893204,0.11428571428571428,0.10810810810810811,0.10218978102189781,0.10218978102189781],[0.5853658536585366,0.7904761904761904,1.0,0.455026455026455,0.34074074074074073,0.32061068702290074,0.4039408866995074,0.18181818181818182,0.15384615384615385,0.037037037037037035,0.043795620437956206,0.03007518796992481,0.031007751937984496,0.08187134502923976,0.08633093525179857,0.08108108108108109,0.08759124087591241,0.0851063829787234,0.08275862068965517,0.0851063829787234,0.08759124087591241,0.09929078014184398,0.09523809523809523,0.09395973154362416,0.09032258064516129,0.08839779005524862,0.08839779005524862],[0.3783783783783784,0.5793103448275863,0.455026455026455,1.0,0.6048780487804878,0.39593908629441626,0.2028985507246377,0.26,0.16568047337278108,0.041237113402061855,0.05555555555555555,0.058823529411764705,0.0625,0.03773584905660377,0.05405405405405406,0.04819277108433735,0.05555555555555555,0.05263157894736842,0.05,0.05263157894736842,0.05555555555555555,0.05263157894736842,0.04878048780487805,0.047619047619047616,0.044444444444444446,0.034482758620689655,0.034482758620689655],[0.33003300330033003,0.39823008849557523,0.34074074074074073,0.6048780487804878,1.0,0.6906474820143885,0.1461187214611872,0.16574585635359115,0.168,0.033707865168539325,0.026143790849673203,0.026845637583892617,0.027586206896551724,0.053475935828877004,0.03870967741935484,0.036585365853658534,0.0392156862745098,0.03821656050955414,0.037267080745341616,0.03821656050955414,0.0392156862745098,0.03821656050955414,0.03680981595092025,0.048484848484848485,0.04678362573099415,0.06091370558375635,0.04060913705583756],[0.2983050847457627,0.3669724770642202,0.32061068702290074,0.39593908629441626,0.6906474820143885,1.0,0.3696682464454976,0.4393063583815029,0.35537190082644626,0.03529411764705882,0.013793103448275862,0.014184397163120567,0.014598540145985401,0.055865921787709494,0.027210884353741496,0.02564102564102564,0.013793103448275862,0.013422818791946308,0.013071895424836602,0.013422818791946308,0.013793103448275862,0.013422818791946308,0.012903225806451613,0.025477707006369428,0.024539877300613498,0.05291005291005291,0.021164021164021163],[0.1440677966101695,0.20125786163522014,0.4039408866995074,0.2028985507246377,0.1461187214611872,0.3696682464454976,1.0,0.6666666666666666,0.4262295081967213,0.018018018018018018,0.023255813953488372,0.0,0.0,0.05,0.0,0.0,0.0,0.0,0.0,0.0,0.0,0.0,0.0,0.02040816326530612,0.019230769230769232,0.03076923076923077,0.0],[0.15151515151515152,0.24793388429752067,0.18181818181818182,0.26,0.16574585635359115,0.4393063583815029,0.6666666666666666,1.0,0.5241379310344828,0.0273972602739726,0.0,0.0,0.0,0.024390243902439025,0.0,0.0,0.0,0.0,0.0,0.0,0.0,0.0,0.0,0.03333333333333333,0.030303030303030304,0.043478260869565216,0.0],[0.5093632958801498,0.17894736842105263,0.15384615384615385,0.16568047337278108,0.168,0.35537190082644626,0.4262295081967213,0.5241379310344828,1.0,0.028169014084507043,0.0,0.0,0.0,0.026490066225165563,0.0,0.0,0.0,0.0,0.0,0.0,0.0,0.0,0.0,0.015503875968992248,0.014814814814814815,0.024844720496894408,0.0],[0.03076923076923077,0.03389830508474576,0.037037037037037035,0.041237113402061855,0.033707865168539325,0.03529411764705882,0.018018018018018018,0.0273972602739726,0.028169014084507043,1.0,0.3111111111111111,0.2926829268292683,0.10810810810810811,0.10126582278481013,0.1702127659574468,0.17857142857142858,0.08888888888888889,0.08163265306122448,0.07547169811320754,0.08163265306122448,0.08888888888888889,0.08163265306122448,0.07272727272727272,0.07017543859649122,0.06349206349206349,0.06741573033707865,0.0449438202247191],[0.023529411764705882,0.043010752688172046,0.043795620437956206,0.05555555555555555,0.026143790849673203,0.013793103448275862,0.023255813953488372,0.0,0.0,0.3111111111111111,1.0,0.75,0.3333333333333333,0.07407407407407407,0.18181818181818182,0.12903225806451613,0.2,0.16666666666666666,0.14285714285714285,0.16666666666666666,0.2,0.16666666666666666,0.13333333333333333,0.125,0.10526315789473684,0.0625,0.0625],[0.024096385542168676,0.0449438202247191,0.03007518796992481,0.058823529411764705,0.026845637583892617,0.014184397163120567,0.0,0.0,0.0,0.2926829268292683,0.75,1.0,0.5,0.08,0.2222222222222222,0.14814814814814814,0.25,0.2,0.16666666666666666,0.2,0.25,0.2,0.15384615384615385,0.14285714285714285,0.11764705882352941,0.06666666666666667,0.06666666666666667],[0.024691358024691357,0.047058823529411764,0.031007751937984496,0.0625,0.027586206896551724,0.014598540145985401,0.0,0.0,0.0,0.10810810810810811,0.3333333333333333,0.5,1.0,0.08695652173913043,0.2857142857142857,0.17391304347826086,0.3333333333333333,0.25,0.2,0.25,0.3333333333333333,0.25,0.18181818181818182,0.16666666666666666,0.13333333333333333,0.07142857142857142,0.07142857142857142],[0.06862745098039216,0.09448818897637795,0.08187134502923976,0.03773584905660377,0.053475935828877004,0.055865921787709494,0.05,0.024390243902439025,0.026490066225165563,0.10126582278481013,0.07407407407407407,0.08,0.08695652173913043,1.0,0.42857142857142855,0.4307692307692308,0.3333333333333333,0.3448275862068966,0.3548387096774194,0.3448275862068966,0.37037037037037035,0.3448275862068966,0.3125,0.30303030303030304,0.2777777777777778,0.20408163265306123,0.24489795918367346],[0.08139534883720931,0.12631578947368421,0.08633093525179857,0.05405405405405406,0.03870967741935484,0.027210884353741496,0.0,0.0,0.0,0.1702127659574468,0.18181818181818182,0.2222222222222222,0.2857142857142857,0.42857142857142855,1.0,0.7272727272727273,0.6363636363636364,0.5384615384615384,0.4,0.46153846153846156,0.5454545454545454,0.46153846153846156,0.375,0.35294117647058826,0.3,0.18181818181818182,0.21212121212121213],[0.07734806629834254,0.11538461538461539,0.08108108108108109,0.04819277108433735,0.036585365853658534,0.02564102564102564,0.0,0.0,0.0,0.17857142857142858,0.12903225806451613,0.14814814814814814,0.17391304347826086,0.4307692307692308,0.7272727272727273,1.0,0.6451612903225806,0.5714285714285714,0.41025641025641024,0.45714285714285713,0.5161290322580645,0.45714285714285713,0.3902439024390244,0.37209302325581395,0.32653061224489793,0.21333333333333335,0.26666666666666666],[0.07058823529411765,0.12903225806451613,0.08759124087591241,0.05555555555555555,0.0392156862745098,0.013793103448275862,0.0,0.0,0.0,0.08888888888888889,0.2,0.25,0.3333333333333333,0.3333333333333333,0.6363636363636364,0.6451612903225806,1.0,0.8333333333333334,0.5714285714285714,0.6666666666666666,0.8,0.6666666666666666,0.5333333333333333,0.5,0.42105263157894735,0.25,0.3125],[0.06896551724137931,0.12371134020618557,0.0851063829787234,0.05263157894736842,0.03821656050955414,0.013422818791946308,0.0,0.0,0.0,0.08163265306122448,0.16666666666666666,0.2,0.25,0.3448275862068966,0.5384615384615384,0.5714285714285714,0.8333333333333334,1.0,0.625,0.7142857142857143,0.6666666666666666,0.5714285714285714,0.5882352941176471,0.4444444444444444,0.38095238095238093,0.29411764705882354,0.4117647058823529],[0.06741573033707865,0.1188118811881188,0.08275862068965517,0.05,0.037267080745341616,0.013071895424836602,0.0,0.0,0.0,0.07547169811320754,0.14285714285714285,0.16666666666666666,0.2,0.3548387096774194,0.4,0.41025641025641024,0.5714285714285714,0.625,1.0,0.875,0.7142857142857143,0.625,0.631578947368421,0.5,0.43478260869565216,0.3888888888888889,0.3888888888888889],[0.06896551724137931,0.12371134020618557,0.0851063829787234,0.05263157894736842,0.03821656050955414,0.013422818791946308,0.0,0.0,0.0,0.08163265306122448,0.16666666666666666,0.2,0.25,0.3448275862068966,0.46153846153846156,0.45714285714285713,0.6666666666666666,0.7142857142857143,0.875,1.0,0.8333333333333334,0.7142857142857143,0.7058823529411765,0.5555555555555556,0.47619047619047616,0.4117647058823529,0.35294117647058826],[0.07058823529411765,0.12903225806451613,0.08759124087591241,0.05555555555555555,0.0392156862745098,0.013793103448275862,0.0,0.0,0.0,0.08888888888888889,0.2,0.25,0.3333333333333333,0.37037037037037035,0.5454545454545454,0.5161290322580645,0.8,0.6666666666666666,0.7142857142857143,0.8333333333333334,1.0,0.8333333333333334,0.6666666666666666,0.625,0.5263157894736842,0.3125,0.3125],[0.06896551724137931,0.12371134020618557,0.09929078014184398,0.05263157894736842,0.03821656050955414,0.013422818791946308,0.0,0.0,0.0,0.08163265306122448,0.16666666666666666,0.2,0.25,0.3448275862068966,0.46153846153846156,0.45714285714285713,0.6666666666666666,0.5714285714285714,0.625,0.7142857142857143,0.8333333333333334,1.0,0.8235294117647058,0.7777777777777778,0.6666666666666666,0.4117647058823529,0.4117647058823529],[0.06666666666666667,0.11650485436893204,0.09523809523809523,0.04878048780487805,0.03680981595092025,0.012903225806451613,0.0,0.0,0.0,0.07272727272727272,0.13333333333333333,0.15384615384615385,0.18181818181818182,0.3125,0.375,0.3902439024390244,0.5333333333333333,0.5882352941176471,0.631578947368421,0.7058823529411765,0.6666666666666666,0.8235294117647058,1.0,0.6666666666666666,0.5833333333333334,0.4864864864864865,0.5405405405405406],[0.06593406593406594,0.11428571428571428,0.09395973154362416,0.047619047619047616,0.048484848484848485,0.025477707006369428,0.02040816326530612,0.03333333333333333,0.015503875968992248,0.07017543859649122,0.125,0.14285714285714285,0.16666666666666666,0.30303030303030304,0.35294117647058826,0.37209302325581395,0.5,0.4444444444444444,0.5,0.5555555555555556,0.625,0.7777777777777778,0.6666666666666666,1.0,0.88,0.5789473684210527,0.42105263157894735],[0.06382978723404255,0.10810810810810811,0.09032258064516129,0.044444444444444446,0.04678362573099415,0.024539877300613498,0.019230769230769232,0.030303030303030304,0.014814814814814815,0.06349206349206349,0.10526315789473684,0.11764705882352941,0.13333333333333333,0.2777777777777778,0.3,0.32653061224489793,0.42105263157894735,0.38095238095238093,0.43478260869565216,0.47619047619047616,0.5263157894736842,0.6666666666666666,0.5833333333333334,0.88,1.0,0.6341463414634146,0.3902439024390244],[0.08411214953271028,0.10218978102189781,0.08839779005524862,0.034482758620689655,0.06091370558375635,0.05291005291005291,0.03076923076923077,0.043478260869565216,0.024844720496894408,0.06741573033707865,0.0625,0.06666666666666667,0.07142857142857142,0.20408163265306123,0.18181818181818182,0.21333333333333335,0.25,0.29411764705882354,0.3888888888888889,0.4117647058823529,0.3125,0.4117647058823529,0.4864864864864865,0.5789473684210527,0.6341463414634146,1.0,0.4074074074074074],[0.07476635514018691,0.10218978102189781,0.08839779005524862,0.034482758620689655,0.04060913705583756,0.021164021164021163,0.0,0.0,0.0,0.0449438202247191,0.0625,0.06666666666666667,0.07142857142857142,0.24489795918367346,0.21212121212121213,0.26666666666666666,0.3125,0.4117647058823529,0.3888888888888889,0.35294117647058826,0.3125,0.4117647058823529,0.5405405405405406,0.42105263157894735,0.3902439024390244,0.4074074074074074,1.0]]}],                        {\"autosize\":false,\"height\":800,\"hovermode\":\"closest\",\"showlegend\":false,\"template\":{\"data\":{\"bar\":[{\"error_x\":{\"color\":\"#2a3f5f\"},\"error_y\":{\"color\":\"#2a3f5f\"},\"marker\":{\"line\":{\"color\":\"#E5ECF6\",\"width\":0.5},\"pattern\":{\"fillmode\":\"overlay\",\"size\":10,\"solidity\":0.2}},\"type\":\"bar\"}],\"barpolar\":[{\"marker\":{\"line\":{\"color\":\"#E5ECF6\",\"width\":0.5},\"pattern\":{\"fillmode\":\"overlay\",\"size\":10,\"solidity\":0.2}},\"type\":\"barpolar\"}],\"carpet\":[{\"aaxis\":{\"endlinecolor\":\"#2a3f5f\",\"gridcolor\":\"white\",\"linecolor\":\"white\",\"minorgridcolor\":\"white\",\"startlinecolor\":\"#2a3f5f\"},\"baxis\":{\"endlinecolor\":\"#2a3f5f\",\"gridcolor\":\"white\",\"linecolor\":\"white\",\"minorgridcolor\":\"white\",\"startlinecolor\":\"#2a3f5f\"},\"type\":\"carpet\"}],\"choropleth\":[{\"colorbar\":{\"outlinewidth\":0,\"ticks\":\"\"},\"type\":\"choropleth\"}],\"contour\":[{\"colorbar\":{\"outlinewidth\":0,\"ticks\":\"\"},\"colorscale\":[[0.0,\"#0d0887\"],[0.1111111111111111,\"#46039f\"],[0.2222222222222222,\"#7201a8\"],[0.3333333333333333,\"#9c179e\"],[0.4444444444444444,\"#bd3786\"],[0.5555555555555556,\"#d8576b\"],[0.6666666666666666,\"#ed7953\"],[0.7777777777777778,\"#fb9f3a\"],[0.8888888888888888,\"#fdca26\"],[1.0,\"#f0f921\"]],\"type\":\"contour\"}],\"contourcarpet\":[{\"colorbar\":{\"outlinewidth\":0,\"ticks\":\"\"},\"type\":\"contourcarpet\"}],\"heatmap\":[{\"colorbar\":{\"outlinewidth\":0,\"ticks\":\"\"},\"colorscale\":[[0.0,\"#0d0887\"],[0.1111111111111111,\"#46039f\"],[0.2222222222222222,\"#7201a8\"],[0.3333333333333333,\"#9c179e\"],[0.4444444444444444,\"#bd3786\"],[0.5555555555555556,\"#d8576b\"],[0.6666666666666666,\"#ed7953\"],[0.7777777777777778,\"#fb9f3a\"],[0.8888888888888888,\"#fdca26\"],[1.0,\"#f0f921\"]],\"type\":\"heatmap\"}],\"heatmapgl\":[{\"colorbar\":{\"outlinewidth\":0,\"ticks\":\"\"},\"colorscale\":[[0.0,\"#0d0887\"],[0.1111111111111111,\"#46039f\"],[0.2222222222222222,\"#7201a8\"],[0.3333333333333333,\"#9c179e\"],[0.4444444444444444,\"#bd3786\"],[0.5555555555555556,\"#d8576b\"],[0.6666666666666666,\"#ed7953\"],[0.7777777777777778,\"#fb9f3a\"],[0.8888888888888888,\"#fdca26\"],[1.0,\"#f0f921\"]],\"type\":\"heatmapgl\"}],\"histogram\":[{\"marker\":{\"pattern\":{\"fillmode\":\"overlay\",\"size\":10,\"solidity\":0.2}},\"type\":\"histogram\"}],\"histogram2d\":[{\"colorbar\":{\"outlinewidth\":0,\"ticks\":\"\"},\"colorscale\":[[0.0,\"#0d0887\"],[0.1111111111111111,\"#46039f\"],[0.2222222222222222,\"#7201a8\"],[0.3333333333333333,\"#9c179e\"],[0.4444444444444444,\"#bd3786\"],[0.5555555555555556,\"#d8576b\"],[0.6666666666666666,\"#ed7953\"],[0.7777777777777778,\"#fb9f3a\"],[0.8888888888888888,\"#fdca26\"],[1.0,\"#f0f921\"]],\"type\":\"histogram2d\"}],\"histogram2dcontour\":[{\"colorbar\":{\"outlinewidth\":0,\"ticks\":\"\"},\"colorscale\":[[0.0,\"#0d0887\"],[0.1111111111111111,\"#46039f\"],[0.2222222222222222,\"#7201a8\"],[0.3333333333333333,\"#9c179e\"],[0.4444444444444444,\"#bd3786\"],[0.5555555555555556,\"#d8576b\"],[0.6666666666666666,\"#ed7953\"],[0.7777777777777778,\"#fb9f3a\"],[0.8888888888888888,\"#fdca26\"],[1.0,\"#f0f921\"]],\"type\":\"histogram2dcontour\"}],\"mesh3d\":[{\"colorbar\":{\"outlinewidth\":0,\"ticks\":\"\"},\"type\":\"mesh3d\"}],\"parcoords\":[{\"line\":{\"colorbar\":{\"outlinewidth\":0,\"ticks\":\"\"}},\"type\":\"parcoords\"}],\"pie\":[{\"automargin\":true,\"type\":\"pie\"}],\"scatter\":[{\"marker\":{\"colorbar\":{\"outlinewidth\":0,\"ticks\":\"\"}},\"type\":\"scatter\"}],\"scatter3d\":[{\"line\":{\"colorbar\":{\"outlinewidth\":0,\"ticks\":\"\"}},\"marker\":{\"colorbar\":{\"outlinewidth\":0,\"ticks\":\"\"}},\"type\":\"scatter3d\"}],\"scattercarpet\":[{\"marker\":{\"colorbar\":{\"outlinewidth\":0,\"ticks\":\"\"}},\"type\":\"scattercarpet\"}],\"scattergeo\":[{\"marker\":{\"colorbar\":{\"outlinewidth\":0,\"ticks\":\"\"}},\"type\":\"scattergeo\"}],\"scattergl\":[{\"marker\":{\"colorbar\":{\"outlinewidth\":0,\"ticks\":\"\"}},\"type\":\"scattergl\"}],\"scattermapbox\":[{\"marker\":{\"colorbar\":{\"outlinewidth\":0,\"ticks\":\"\"}},\"type\":\"scattermapbox\"}],\"scatterpolar\":[{\"marker\":{\"colorbar\":{\"outlinewidth\":0,\"ticks\":\"\"}},\"type\":\"scatterpolar\"}],\"scatterpolargl\":[{\"marker\":{\"colorbar\":{\"outlinewidth\":0,\"ticks\":\"\"}},\"type\":\"scatterpolargl\"}],\"scatterternary\":[{\"marker\":{\"colorbar\":{\"outlinewidth\":0,\"ticks\":\"\"}},\"type\":\"scatterternary\"}],\"surface\":[{\"colorbar\":{\"outlinewidth\":0,\"ticks\":\"\"},\"colorscale\":[[0.0,\"#0d0887\"],[0.1111111111111111,\"#46039f\"],[0.2222222222222222,\"#7201a8\"],[0.3333333333333333,\"#9c179e\"],[0.4444444444444444,\"#bd3786\"],[0.5555555555555556,\"#d8576b\"],[0.6666666666666666,\"#ed7953\"],[0.7777777777777778,\"#fb9f3a\"],[0.8888888888888888,\"#fdca26\"],[1.0,\"#f0f921\"]],\"type\":\"surface\"}],\"table\":[{\"cells\":{\"fill\":{\"color\":\"#EBF0F8\"},\"line\":{\"color\":\"white\"}},\"header\":{\"fill\":{\"color\":\"#C8D4E3\"},\"line\":{\"color\":\"white\"}},\"type\":\"table\"}]},\"layout\":{\"annotationdefaults\":{\"arrowcolor\":\"#2a3f5f\",\"arrowhead\":0,\"arrowwidth\":1},\"autotypenumbers\":\"strict\",\"coloraxis\":{\"colorbar\":{\"outlinewidth\":0,\"ticks\":\"\"}},\"colorscale\":{\"diverging\":[[0,\"#8e0152\"],[0.1,\"#c51b7d\"],[0.2,\"#de77ae\"],[0.3,\"#f1b6da\"],[0.4,\"#fde0ef\"],[0.5,\"#f7f7f7\"],[0.6,\"#e6f5d0\"],[0.7,\"#b8e186\"],[0.8,\"#7fbc41\"],[0.9,\"#4d9221\"],[1,\"#276419\"]],\"sequential\":[[0.0,\"#0d0887\"],[0.1111111111111111,\"#46039f\"],[0.2222222222222222,\"#7201a8\"],[0.3333333333333333,\"#9c179e\"],[0.4444444444444444,\"#bd3786\"],[0.5555555555555556,\"#d8576b\"],[0.6666666666666666,\"#ed7953\"],[0.7777777777777778,\"#fb9f3a\"],[0.8888888888888888,\"#fdca26\"],[1.0,\"#f0f921\"]],\"sequentialminus\":[[0.0,\"#0d0887\"],[0.1111111111111111,\"#46039f\"],[0.2222222222222222,\"#7201a8\"],[0.3333333333333333,\"#9c179e\"],[0.4444444444444444,\"#bd3786\"],[0.5555555555555556,\"#d8576b\"],[0.6666666666666666,\"#ed7953\"],[0.7777777777777778,\"#fb9f3a\"],[0.8888888888888888,\"#fdca26\"],[1.0,\"#f0f921\"]]},\"colorway\":[\"#636efa\",\"#EF553B\",\"#00cc96\",\"#ab63fa\",\"#FFA15A\",\"#19d3f3\",\"#FF6692\",\"#B6E880\",\"#FF97FF\",\"#FECB52\"],\"font\":{\"color\":\"#2a3f5f\"},\"geo\":{\"bgcolor\":\"white\",\"lakecolor\":\"white\",\"landcolor\":\"#E5ECF6\",\"showlakes\":true,\"showland\":true,\"subunitcolor\":\"white\"},\"hoverlabel\":{\"align\":\"left\"},\"hovermode\":\"closest\",\"mapbox\":{\"style\":\"light\"},\"paper_bgcolor\":\"white\",\"plot_bgcolor\":\"#E5ECF6\",\"polar\":{\"angularaxis\":{\"gridcolor\":\"white\",\"linecolor\":\"white\",\"ticks\":\"\"},\"bgcolor\":\"#E5ECF6\",\"radialaxis\":{\"gridcolor\":\"white\",\"linecolor\":\"white\",\"ticks\":\"\"}},\"scene\":{\"xaxis\":{\"backgroundcolor\":\"#E5ECF6\",\"gridcolor\":\"white\",\"gridwidth\":2,\"linecolor\":\"white\",\"showbackground\":true,\"ticks\":\"\",\"zerolinecolor\":\"white\"},\"yaxis\":{\"backgroundcolor\":\"#E5ECF6\",\"gridcolor\":\"white\",\"gridwidth\":2,\"linecolor\":\"white\",\"showbackground\":true,\"ticks\":\"\",\"zerolinecolor\":\"white\"},\"zaxis\":{\"backgroundcolor\":\"#E5ECF6\",\"gridcolor\":\"white\",\"gridwidth\":2,\"linecolor\":\"white\",\"showbackground\":true,\"ticks\":\"\",\"zerolinecolor\":\"white\"}},\"shapedefaults\":{\"line\":{\"color\":\"#2a3f5f\"}},\"ternary\":{\"aaxis\":{\"gridcolor\":\"white\",\"linecolor\":\"white\",\"ticks\":\"\"},\"baxis\":{\"gridcolor\":\"white\",\"linecolor\":\"white\",\"ticks\":\"\"},\"bgcolor\":\"#E5ECF6\",\"caxis\":{\"gridcolor\":\"white\",\"linecolor\":\"white\",\"ticks\":\"\"}},\"title\":{\"x\":0.05},\"xaxis\":{\"automargin\":true,\"gridcolor\":\"white\",\"linecolor\":\"white\",\"ticks\":\"\",\"title\":{\"standoff\":15},\"zerolinecolor\":\"white\",\"zerolinewidth\":2},\"yaxis\":{\"automargin\":true,\"gridcolor\":\"white\",\"linecolor\":\"white\",\"ticks\":\"\",\"title\":{\"standoff\":15},\"zerolinecolor\":\"white\",\"zerolinewidth\":2}}},\"title\":{\"text\":\"Similaridad Aminas\",\"x\":0.55,\"xanchor\":\"center\",\"y\":0.9,\"yanchor\":\"top\"},\"width\":800,\"xaxis\":{\"domain\":[0.15,1],\"mirror\":false,\"rangemode\":\"tozero\",\"showgrid\":false,\"showline\":false,\"showticklabels\":true,\"tickmode\":\"array\",\"ticks\":\"\",\"ticktext\":[\"4methoxyphenethyl\",\"PhEtNH3I\",\"4FluoroPhenethyl\",\"Benzyl\",\"4TrifluoromethylBenzyl\",\"4TrifluoromethylPhenyl\",\"4FluoroPhenyl\",\"Phenyl\",\"4MethoxyPhenyl\",\"ImidazoliumIodide\",\"GnNH3I\",\"FormamidiniumIodide\",\"MeNH3I\",\"NNDiethylpropane13di\",\"Diethyl\",\"Diisopropyl\",\"iPropyl\",\"tButyl\",\"neoPentyl\",\"iButyl\",\"NPropyl\",\"n-BuNH3I\",\"IPentyl\",\"nHexyl\",\"nDodecyl\",\"Cyclohexylmethyl\",\"TertOctyl\"],\"tickvals\":[5.0,15.0,25.0,35.0,45.0,55.0,65.0,75.0,85.0,95.0,105.0,115.0,125.0,135.0,145.0,155.0,165.0,175.0,185.0,195.0,205.0,215.0,225.0,235.0,245.0,255.0,265.0],\"type\":\"linear\",\"zeroline\":false},\"xaxis2\":{\"domain\":[0,0.15],\"mirror\":false,\"showgrid\":false,\"showline\":false,\"showticklabels\":false,\"ticks\":\"\",\"zeroline\":false},\"yaxis\":{\"domain\":[0,0.85],\"mirror\":false,\"rangemode\":\"tozero\",\"showgrid\":false,\"showline\":false,\"showticklabels\":false,\"ticks\":\"\",\"ticktext\":[\"4methoxyphenethyl\",\"PhEtNH3I\",\"4FluoroPhenethyl\",\"Benzyl\",\"4TrifluoromethylBenzyl\",\"4TrifluoromethylPhenyl\",\"4FluoroPhenyl\",\"Phenyl\",\"4MethoxyPhenyl\",\"ImidazoliumIodide\",\"GnNH3I\",\"FormamidiniumIodide\",\"MeNH3I\",\"NNDiethylpropane13di\",\"Diethyl\",\"Diisopropyl\",\"iPropyl\",\"tButyl\",\"neoPentyl\",\"iButyl\",\"NPropyl\",\"n-BuNH3I\",\"IPentyl\",\"nHexyl\",\"nDodecyl\",\"Cyclohexylmethyl\",\"TertOctyl\"],\"tickvals\":[5.0,15.0,25.0,35.0,45.0,55.0,65.0,75.0,85.0,95.0,105.0,115.0,125.0,135.0,145.0,155.0,165.0,175.0,185.0,195.0,205.0,215.0,225.0,235.0,245.0,255.0,265.0],\"type\":\"linear\",\"zeroline\":false},\"yaxis2\":{\"domain\":[0.825,0.975],\"mirror\":false,\"showgrid\":false,\"showline\":false,\"showticklabels\":false,\"ticks\":\"\",\"zeroline\":false}},                        {\"responsive\": true}                    ).then(function(){\n",
       "                            \n",
       "var gd = document.getElementById('5ed03459-e3d6-41a4-8a12-40bb719ceb31');\n",
       "var x = new MutationObserver(function (mutations, observer) {{\n",
       "        var display = window.getComputedStyle(gd).display;\n",
       "        if (!display || display === 'none') {{\n",
       "            console.log([gd, 'removed!']);\n",
       "            Plotly.purge(gd);\n",
       "            observer.disconnect();\n",
       "        }}\n",
       "}});\n",
       "\n",
       "// Listen for the removal of the full notebook cells\n",
       "var notebookContainer = gd.closest('#notebook-container');\n",
       "if (notebookContainer) {{\n",
       "    x.observe(notebookContainer, {childList: true});\n",
       "}}\n",
       "\n",
       "// Listen for the clearing of the current output cell\n",
       "var outputEl = gd.closest('.output');\n",
       "if (outputEl) {{\n",
       "    x.observe(outputEl, {childList: true});\n",
       "}}\n",
       "\n",
       "                        })                };                });            </script>        </div>"
      ],
      "application/vnd.plotly.v1+json": {
       "config": {
        "linkText": "Export to plot.ly",
        "plotlyServerURL": "https://plot.ly",
        "showLink": false
       },
       "data": [
        {
         "hoverinfo": "text",
         "marker": {
          "color": "rgb(61,153,112)"
         },
         "mode": "lines",
         "type": "scatter",
         "x": [
          15,
          15,
          25,
          25
         ],
         "xaxis": "x",
         "y": [
          0,
          0.421471436250285,
          0.421471436250285,
          0
         ],
         "yaxis": "y2"
        },
        {
         "hoverinfo": "text",
         "marker": {
          "color": "rgb(61,153,112)"
         },
         "mode": "lines",
         "type": "scatter",
         "x": [
          5,
          5,
          20,
          20
         ],
         "xaxis": "x",
         "y": [
          0,
          0.6780605239039653,
          0.6780605239039653,
          0.421471436250285
         ],
         "yaxis": "y2"
        },
        {
         "hoverinfo": "text",
         "marker": {
          "color": "rgb(61,153,112)"
         },
         "mode": "lines",
         "type": "scatter",
         "x": [
          45,
          45,
          55,
          55
         ],
         "xaxis": "x",
         "y": [
          0,
          0.6355014648767577,
          0.6355014648767577,
          0
         ],
         "yaxis": "y2"
        },
        {
         "hoverinfo": "text",
         "marker": {
          "color": "rgb(61,153,112)"
         },
         "mode": "lines",
         "type": "scatter",
         "x": [
          35,
          35,
          50,
          50
         ],
         "xaxis": "x",
         "y": [
          0,
          0.7700258752710896,
          0.7700258752710896,
          0.6355014648767577
         ],
         "yaxis": "y2"
        },
        {
         "hoverinfo": "text",
         "marker": {
          "color": "rgb(61,153,112)"
         },
         "mode": "lines",
         "type": "scatter",
         "x": [
          12.5,
          12.5,
          42.5,
          42.5
         ],
         "xaxis": "x",
         "y": [
          0.6780605239039653,
          0.9425806490281506,
          0.9425806490281506,
          0.7700258752710896
         ],
         "yaxis": "y2"
        },
        {
         "hoverinfo": "text",
         "marker": {
          "color": "rgb(61,153,112)"
         },
         "mode": "lines",
         "type": "scatter",
         "x": [
          65,
          65,
          75,
          75
         ],
         "xaxis": "x",
         "y": [
          0,
          0.5418597561829395,
          0.5418597561829395,
          0
         ],
         "yaxis": "y2"
        },
        {
         "hoverinfo": "text",
         "marker": {
          "color": "rgb(61,153,112)"
         },
         "mode": "lines",
         "type": "scatter",
         "x": [
          70,
          70,
          85,
          85
         ],
         "xaxis": "x",
         "y": [
          0.5418597561829395,
          0.8345404984224987,
          0.8345404984224987,
          0
         ],
         "yaxis": "y2"
        },
        {
         "hoverinfo": "text",
         "marker": {
          "color": "rgb(61,153,112)"
         },
         "mode": "lines",
         "type": "scatter",
         "x": [
          27.5,
          27.5,
          77.5,
          77.5
         ],
         "xaxis": "x",
         "y": [
          0.9425806490281506,
          1.152409971029271,
          1.152409971029271,
          0.8345404984224987
         ],
         "yaxis": "y2"
        },
        {
         "hoverinfo": "text",
         "marker": {
          "color": "rgb(255,65,54)"
         },
         "mode": "lines",
         "type": "scatter",
         "x": [
          105,
          105,
          115,
          115
         ],
         "xaxis": "x",
         "y": [
          0,
          0.40709068539639925,
          0.40709068539639925,
          0
         ],
         "yaxis": "y2"
        },
        {
         "hoverinfo": "text",
         "marker": {
          "color": "rgb(255,65,54)"
         },
         "mode": "lines",
         "type": "scatter",
         "x": [
          110,
          110,
          125,
          125
         ],
         "xaxis": "x",
         "y": [
          0.40709068539639925,
          0.9286433555935595,
          0.9286433555935595,
          0
         ],
         "yaxis": "y2"
        },
        {
         "hoverinfo": "text",
         "marker": {
          "color": "rgb(255,65,54)"
         },
         "mode": "lines",
         "type": "scatter",
         "x": [
          95,
          95,
          117.5,
          117.5
         ],
         "xaxis": "x",
         "y": [
          0,
          1.1526611325502123,
          1.1526611325502123,
          0.9286433555935595
         ],
         "yaxis": "y2"
        },
        {
         "hoverinfo": "text",
         "marker": {
          "color": "rgb(35,205,205)"
         },
         "mode": "lines",
         "type": "scatter",
         "x": [
          145,
          145,
          155,
          155
         ],
         "xaxis": "x",
         "y": [
          0,
          0.4210132216931307,
          0.4210132216931307,
          0
         ],
         "yaxis": "y2"
        },
        {
         "hoverinfo": "text",
         "marker": {
          "color": "rgb(35,205,205)"
         },
         "mode": "lines",
         "type": "scatter",
         "x": [
          165,
          165,
          175,
          175
         ],
         "xaxis": "x",
         "y": [
          0,
          0.36449703622176344,
          0.36449703622176344,
          0
         ],
         "yaxis": "y2"
        },
        {
         "hoverinfo": "text",
         "marker": {
          "color": "rgb(35,205,205)"
         },
         "mode": "lines",
         "type": "scatter",
         "x": [
          185,
          185,
          195,
          195
         ],
         "xaxis": "x",
         "y": [
          0,
          0.30482035746975644,
          0.30482035746975644,
          0
         ],
         "yaxis": "y2"
        },
        {
         "hoverinfo": "text",
         "marker": {
          "color": "rgb(35,205,205)"
         },
         "mode": "lines",
         "type": "scatter",
         "x": [
          190,
          190,
          205,
          205
         ],
         "xaxis": "x",
         "y": [
          0.30482035746975644,
          0.4855786847149399,
          0.4855786847149399,
          0
         ],
         "yaxis": "y2"
        },
        {
         "hoverinfo": "text",
         "marker": {
          "color": "rgb(35,205,205)"
         },
         "mode": "lines",
         "type": "scatter",
         "x": [
          215,
          215,
          225,
          225
         ],
         "xaxis": "x",
         "y": [
          0,
          0.413233428405084,
          0.413233428405084,
          0
         ],
         "yaxis": "y2"
        },
        {
         "hoverinfo": "text",
         "marker": {
          "color": "rgb(35,205,205)"
         },
         "mode": "lines",
         "type": "scatter",
         "x": [
          197.5,
          197.5,
          220,
          220
         ],
         "xaxis": "x",
         "y": [
          0.4855786847149399,
          0.5369120041228641,
          0.5369120041228641,
          0.413233428405084
         ],
         "yaxis": "y2"
        },
        {
         "hoverinfo": "text",
         "marker": {
          "color": "rgb(35,205,205)"
         },
         "mode": "lines",
         "type": "scatter",
         "x": [
          170,
          170,
          208.75,
          208.75
         ],
         "xaxis": "x",
         "y": [
          0.36449703622176344,
          0.6247769700534633,
          0.6247769700534633,
          0.5369120041228641
         ],
         "yaxis": "y2"
        },
        {
         "hoverinfo": "text",
         "marker": {
          "color": "rgb(35,205,205)"
         },
         "mode": "lines",
         "type": "scatter",
         "x": [
          150,
          150,
          189.375,
          189.375
         ],
         "xaxis": "x",
         "y": [
          0.4210132216931307,
          0.9605511900859811,
          0.9605511900859811,
          0.6247769700534633
         ],
         "yaxis": "y2"
        },
        {
         "hoverinfo": "text",
         "marker": {
          "color": "rgb(35,205,205)"
         },
         "mode": "lines",
         "type": "scatter",
         "x": [
          235,
          235,
          245,
          245
         ],
         "xaxis": "x",
         "y": [
          0,
          0.3006972413927,
          0.3006972413927,
          0
         ],
         "yaxis": "y2"
        },
        {
         "hoverinfo": "text",
         "marker": {
          "color": "rgb(35,205,205)"
         },
         "mode": "lines",
         "type": "scatter",
         "x": [
          240,
          240,
          255,
          255
         ],
         "xaxis": "x",
         "y": [
          0.3006972413927,
          0.8370636797394464,
          0.8370636797394464,
          0
         ],
         "yaxis": "y2"
        },
        {
         "hoverinfo": "text",
         "marker": {
          "color": "rgb(35,205,205)"
         },
         "mode": "lines",
         "type": "scatter",
         "x": [
          247.5,
          247.5,
          265,
          265
         ],
         "xaxis": "x",
         "y": [
          0.8370636797394464,
          0.9683791911530568,
          0.9683791911530568,
          0
         ],
         "yaxis": "y2"
        },
        {
         "hoverinfo": "text",
         "marker": {
          "color": "rgb(35,205,205)"
         },
         "mode": "lines",
         "type": "scatter",
         "x": [
          169.6875,
          169.6875,
          256.25,
          256.25
         ],
         "xaxis": "x",
         "y": [
          0.9605511900859811,
          0.9477032553195635,
          0.9477032553195635,
          0.9683791911530568
         ],
         "yaxis": "y2"
        },
        {
         "hoverinfo": "text",
         "marker": {
          "color": "rgb(35,205,205)"
         },
         "mode": "lines",
         "type": "scatter",
         "x": [
          135,
          135,
          212.96875,
          212.96875
         ],
         "xaxis": "x",
         "y": [
          0,
          1.1138455317973013,
          1.1138455317973013,
          0.9477032553195635
         ],
         "yaxis": "y2"
        },
        {
         "hoverinfo": "text",
         "marker": {
          "color": "rgb(0,116,217)"
         },
         "mode": "lines",
         "type": "scatter",
         "x": [
          106.25,
          106.25,
          173.984375,
          173.984375
         ],
         "xaxis": "x",
         "y": [
          1.1526611325502123,
          1.6571582445821926,
          1.6571582445821926,
          1.1138455317973013
         ],
         "yaxis": "y2"
        },
        {
         "hoverinfo": "text",
         "marker": {
          "color": "rgb(0,116,217)"
         },
         "mode": "lines",
         "type": "scatter",
         "x": [
          52.5,
          52.5,
          140.1171875,
          140.1171875
         ],
         "xaxis": "x",
         "y": [
          1.152409971029271,
          1.9784151483978178,
          1.9784151483978178,
          1.6571582445821926
         ],
         "yaxis": "y2"
        },
        {
         "hoverinfo": "text",
         "marker": {
          "color": "rgb(61,153,112)"
         },
         "mode": "lines",
         "type": "scatter",
         "x": [
          0,
          -0.421471436250285,
          -0.421471436250285,
          0
         ],
         "xaxis": "x2",
         "y": [
          15,
          15,
          25,
          25
         ],
         "yaxis": "y"
        },
        {
         "hoverinfo": "text",
         "marker": {
          "color": "rgb(61,153,112)"
         },
         "mode": "lines",
         "type": "scatter",
         "x": [
          0,
          -0.6780605239039653,
          -0.6780605239039653,
          -0.421471436250285
         ],
         "xaxis": "x2",
         "y": [
          5,
          5,
          20,
          20
         ],
         "yaxis": "y"
        },
        {
         "hoverinfo": "text",
         "marker": {
          "color": "rgb(61,153,112)"
         },
         "mode": "lines",
         "type": "scatter",
         "x": [
          0,
          -0.6355014648767577,
          -0.6355014648767577,
          0
         ],
         "xaxis": "x2",
         "y": [
          45,
          45,
          55,
          55
         ],
         "yaxis": "y"
        },
        {
         "hoverinfo": "text",
         "marker": {
          "color": "rgb(61,153,112)"
         },
         "mode": "lines",
         "type": "scatter",
         "x": [
          0,
          -0.7700258752710896,
          -0.7700258752710896,
          -0.6355014648767577
         ],
         "xaxis": "x2",
         "y": [
          35,
          35,
          50,
          50
         ],
         "yaxis": "y"
        },
        {
         "hoverinfo": "text",
         "marker": {
          "color": "rgb(61,153,112)"
         },
         "mode": "lines",
         "type": "scatter",
         "x": [
          -0.6780605239039653,
          -0.9425806490281506,
          -0.9425806490281506,
          -0.7700258752710896
         ],
         "xaxis": "x2",
         "y": [
          12.5,
          12.5,
          42.5,
          42.5
         ],
         "yaxis": "y"
        },
        {
         "hoverinfo": "text",
         "marker": {
          "color": "rgb(61,153,112)"
         },
         "mode": "lines",
         "type": "scatter",
         "x": [
          0,
          -0.5418597561829395,
          -0.5418597561829395,
          0
         ],
         "xaxis": "x2",
         "y": [
          65,
          65,
          75,
          75
         ],
         "yaxis": "y"
        },
        {
         "hoverinfo": "text",
         "marker": {
          "color": "rgb(61,153,112)"
         },
         "mode": "lines",
         "type": "scatter",
         "x": [
          -0.5418597561829395,
          -0.8345404984224987,
          -0.8345404984224987,
          0
         ],
         "xaxis": "x2",
         "y": [
          70,
          70,
          85,
          85
         ],
         "yaxis": "y"
        },
        {
         "hoverinfo": "text",
         "marker": {
          "color": "rgb(61,153,112)"
         },
         "mode": "lines",
         "type": "scatter",
         "x": [
          -0.9425806490281506,
          -1.152409971029271,
          -1.152409971029271,
          -0.8345404984224987
         ],
         "xaxis": "x2",
         "y": [
          27.5,
          27.5,
          77.5,
          77.5
         ],
         "yaxis": "y"
        },
        {
         "hoverinfo": "text",
         "marker": {
          "color": "rgb(255,65,54)"
         },
         "mode": "lines",
         "type": "scatter",
         "x": [
          0,
          -0.40709068539639925,
          -0.40709068539639925,
          0
         ],
         "xaxis": "x2",
         "y": [
          105,
          105,
          115,
          115
         ],
         "yaxis": "y"
        },
        {
         "hoverinfo": "text",
         "marker": {
          "color": "rgb(255,65,54)"
         },
         "mode": "lines",
         "type": "scatter",
         "x": [
          -0.40709068539639925,
          -0.9286433555935595,
          -0.9286433555935595,
          0
         ],
         "xaxis": "x2",
         "y": [
          110,
          110,
          125,
          125
         ],
         "yaxis": "y"
        },
        {
         "hoverinfo": "text",
         "marker": {
          "color": "rgb(255,65,54)"
         },
         "mode": "lines",
         "type": "scatter",
         "x": [
          0,
          -1.1526611325502123,
          -1.1526611325502123,
          -0.9286433555935595
         ],
         "xaxis": "x2",
         "y": [
          95,
          95,
          117.5,
          117.5
         ],
         "yaxis": "y"
        },
        {
         "hoverinfo": "text",
         "marker": {
          "color": "rgb(35,205,205)"
         },
         "mode": "lines",
         "type": "scatter",
         "x": [
          0,
          -0.4210132216931307,
          -0.4210132216931307,
          0
         ],
         "xaxis": "x2",
         "y": [
          145,
          145,
          155,
          155
         ],
         "yaxis": "y"
        },
        {
         "hoverinfo": "text",
         "marker": {
          "color": "rgb(35,205,205)"
         },
         "mode": "lines",
         "type": "scatter",
         "x": [
          0,
          -0.36449703622176344,
          -0.36449703622176344,
          0
         ],
         "xaxis": "x2",
         "y": [
          165,
          165,
          175,
          175
         ],
         "yaxis": "y"
        },
        {
         "hoverinfo": "text",
         "marker": {
          "color": "rgb(35,205,205)"
         },
         "mode": "lines",
         "type": "scatter",
         "x": [
          0,
          -0.30482035746975644,
          -0.30482035746975644,
          0
         ],
         "xaxis": "x2",
         "y": [
          185,
          185,
          195,
          195
         ],
         "yaxis": "y"
        },
        {
         "hoverinfo": "text",
         "marker": {
          "color": "rgb(35,205,205)"
         },
         "mode": "lines",
         "type": "scatter",
         "x": [
          -0.30482035746975644,
          -0.4855786847149399,
          -0.4855786847149399,
          0
         ],
         "xaxis": "x2",
         "y": [
          190,
          190,
          205,
          205
         ],
         "yaxis": "y"
        },
        {
         "hoverinfo": "text",
         "marker": {
          "color": "rgb(35,205,205)"
         },
         "mode": "lines",
         "type": "scatter",
         "x": [
          0,
          -0.413233428405084,
          -0.413233428405084,
          0
         ],
         "xaxis": "x2",
         "y": [
          215,
          215,
          225,
          225
         ],
         "yaxis": "y"
        },
        {
         "hoverinfo": "text",
         "marker": {
          "color": "rgb(35,205,205)"
         },
         "mode": "lines",
         "type": "scatter",
         "x": [
          -0.4855786847149399,
          -0.5369120041228641,
          -0.5369120041228641,
          -0.413233428405084
         ],
         "xaxis": "x2",
         "y": [
          197.5,
          197.5,
          220,
          220
         ],
         "yaxis": "y"
        },
        {
         "hoverinfo": "text",
         "marker": {
          "color": "rgb(35,205,205)"
         },
         "mode": "lines",
         "type": "scatter",
         "x": [
          -0.36449703622176344,
          -0.6247769700534633,
          -0.6247769700534633,
          -0.5369120041228641
         ],
         "xaxis": "x2",
         "y": [
          170,
          170,
          208.75,
          208.75
         ],
         "yaxis": "y"
        },
        {
         "hoverinfo": "text",
         "marker": {
          "color": "rgb(35,205,205)"
         },
         "mode": "lines",
         "type": "scatter",
         "x": [
          -0.4210132216931307,
          -0.9605511900859811,
          -0.9605511900859811,
          -0.6247769700534633
         ],
         "xaxis": "x2",
         "y": [
          150,
          150,
          189.375,
          189.375
         ],
         "yaxis": "y"
        },
        {
         "hoverinfo": "text",
         "marker": {
          "color": "rgb(35,205,205)"
         },
         "mode": "lines",
         "type": "scatter",
         "x": [
          0,
          -0.3006972413927,
          -0.3006972413927,
          0
         ],
         "xaxis": "x2",
         "y": [
          235,
          235,
          245,
          245
         ],
         "yaxis": "y"
        },
        {
         "hoverinfo": "text",
         "marker": {
          "color": "rgb(35,205,205)"
         },
         "mode": "lines",
         "type": "scatter",
         "x": [
          -0.3006972413927,
          -0.8370636797394464,
          -0.8370636797394464,
          0
         ],
         "xaxis": "x2",
         "y": [
          240,
          240,
          255,
          255
         ],
         "yaxis": "y"
        },
        {
         "hoverinfo": "text",
         "marker": {
          "color": "rgb(35,205,205)"
         },
         "mode": "lines",
         "type": "scatter",
         "x": [
          -0.8370636797394464,
          -0.9683791911530568,
          -0.9683791911530568,
          0
         ],
         "xaxis": "x2",
         "y": [
          247.5,
          247.5,
          265,
          265
         ],
         "yaxis": "y"
        },
        {
         "hoverinfo": "text",
         "marker": {
          "color": "rgb(35,205,205)"
         },
         "mode": "lines",
         "type": "scatter",
         "x": [
          -0.9605511900859811,
          -0.9477032553195635,
          -0.9477032553195635,
          -0.9683791911530568
         ],
         "xaxis": "x2",
         "y": [
          169.6875,
          169.6875,
          256.25,
          256.25
         ],
         "yaxis": "y"
        },
        {
         "hoverinfo": "text",
         "marker": {
          "color": "rgb(35,205,205)"
         },
         "mode": "lines",
         "type": "scatter",
         "x": [
          0,
          -1.1138455317973013,
          -1.1138455317973013,
          -0.9477032553195635
         ],
         "xaxis": "x2",
         "y": [
          135,
          135,
          212.96875,
          212.96875
         ],
         "yaxis": "y"
        },
        {
         "hoverinfo": "text",
         "marker": {
          "color": "rgb(0,116,217)"
         },
         "mode": "lines",
         "type": "scatter",
         "x": [
          -1.1526611325502123,
          -1.6571582445821926,
          -1.6571582445821926,
          -1.1138455317973013
         ],
         "xaxis": "x2",
         "y": [
          106.25,
          106.25,
          173.984375,
          173.984375
         ],
         "yaxis": "y"
        },
        {
         "hoverinfo": "text",
         "marker": {
          "color": "rgb(0,116,217)"
         },
         "mode": "lines",
         "type": "scatter",
         "x": [
          -1.152409971029271,
          -1.9784151483978178,
          -1.9784151483978178,
          -1.6571582445821926
         ],
         "xaxis": "x2",
         "y": [
          52.5,
          52.5,
          140.1171875,
          140.1171875
         ],
         "yaxis": "y"
        },
        {
         "colorbar": {
          "title": {
           "text": "Coff Dice"
          }
         },
         "type": "heatmap",
         "x": [
          5,
          15,
          25,
          35,
          45,
          55,
          65,
          75,
          85,
          95,
          105,
          115,
          125,
          135,
          145,
          155,
          165,
          175,
          185,
          195,
          205,
          215,
          225,
          235,
          245,
          255,
          265
         ],
         "y": [
          5,
          15,
          25,
          35,
          45,
          55,
          65,
          75,
          85,
          95,
          105,
          115,
          125,
          135,
          145,
          155,
          165,
          175,
          185,
          195,
          205,
          215,
          225,
          235,
          245,
          255,
          265
         ],
         "z": [
          [
           1,
           0.6831275720164609,
           0.5853658536585366,
           0.3783783783783784,
           0.33003300330033003,
           0.2983050847457627,
           0.1440677966101695,
           0.15151515151515152,
           0.5093632958801498,
           0.03076923076923077,
           0.023529411764705882,
           0.024096385542168676,
           0.024691358024691357,
           0.06862745098039216,
           0.08139534883720931,
           0.07734806629834254,
           0.07058823529411765,
           0.06896551724137931,
           0.06741573033707865,
           0.06896551724137931,
           0.07058823529411765,
           0.06896551724137931,
           0.06666666666666667,
           0.06593406593406594,
           0.06382978723404255,
           0.08411214953271028,
           0.07476635514018691
          ],
          [
           0.6831275720164609,
           1,
           0.7904761904761904,
           0.5793103448275863,
           0.39823008849557523,
           0.3669724770642202,
           0.20125786163522014,
           0.24793388429752067,
           0.17894736842105263,
           0.03389830508474576,
           0.043010752688172046,
           0.0449438202247191,
           0.047058823529411764,
           0.09448818897637795,
           0.12631578947368421,
           0.11538461538461539,
           0.12903225806451613,
           0.12371134020618557,
           0.1188118811881188,
           0.12371134020618557,
           0.12903225806451613,
           0.12371134020618557,
           0.11650485436893204,
           0.11428571428571428,
           0.10810810810810811,
           0.10218978102189781,
           0.10218978102189781
          ],
          [
           0.5853658536585366,
           0.7904761904761904,
           1,
           0.455026455026455,
           0.34074074074074073,
           0.32061068702290074,
           0.4039408866995074,
           0.18181818181818182,
           0.15384615384615385,
           0.037037037037037035,
           0.043795620437956206,
           0.03007518796992481,
           0.031007751937984496,
           0.08187134502923976,
           0.08633093525179857,
           0.08108108108108109,
           0.08759124087591241,
           0.0851063829787234,
           0.08275862068965517,
           0.0851063829787234,
           0.08759124087591241,
           0.09929078014184398,
           0.09523809523809523,
           0.09395973154362416,
           0.09032258064516129,
           0.08839779005524862,
           0.08839779005524862
          ],
          [
           0.3783783783783784,
           0.5793103448275863,
           0.455026455026455,
           1,
           0.6048780487804878,
           0.39593908629441626,
           0.2028985507246377,
           0.26,
           0.16568047337278108,
           0.041237113402061855,
           0.05555555555555555,
           0.058823529411764705,
           0.0625,
           0.03773584905660377,
           0.05405405405405406,
           0.04819277108433735,
           0.05555555555555555,
           0.05263157894736842,
           0.05,
           0.05263157894736842,
           0.05555555555555555,
           0.05263157894736842,
           0.04878048780487805,
           0.047619047619047616,
           0.044444444444444446,
           0.034482758620689655,
           0.034482758620689655
          ],
          [
           0.33003300330033003,
           0.39823008849557523,
           0.34074074074074073,
           0.6048780487804878,
           1,
           0.6906474820143885,
           0.1461187214611872,
           0.16574585635359115,
           0.168,
           0.033707865168539325,
           0.026143790849673203,
           0.026845637583892617,
           0.027586206896551724,
           0.053475935828877004,
           0.03870967741935484,
           0.036585365853658534,
           0.0392156862745098,
           0.03821656050955414,
           0.037267080745341616,
           0.03821656050955414,
           0.0392156862745098,
           0.03821656050955414,
           0.03680981595092025,
           0.048484848484848485,
           0.04678362573099415,
           0.06091370558375635,
           0.04060913705583756
          ],
          [
           0.2983050847457627,
           0.3669724770642202,
           0.32061068702290074,
           0.39593908629441626,
           0.6906474820143885,
           1,
           0.3696682464454976,
           0.4393063583815029,
           0.35537190082644626,
           0.03529411764705882,
           0.013793103448275862,
           0.014184397163120567,
           0.014598540145985401,
           0.055865921787709494,
           0.027210884353741496,
           0.02564102564102564,
           0.013793103448275862,
           0.013422818791946308,
           0.013071895424836602,
           0.013422818791946308,
           0.013793103448275862,
           0.013422818791946308,
           0.012903225806451613,
           0.025477707006369428,
           0.024539877300613498,
           0.05291005291005291,
           0.021164021164021163
          ],
          [
           0.1440677966101695,
           0.20125786163522014,
           0.4039408866995074,
           0.2028985507246377,
           0.1461187214611872,
           0.3696682464454976,
           1,
           0.6666666666666666,
           0.4262295081967213,
           0.018018018018018018,
           0.023255813953488372,
           0,
           0,
           0.05,
           0,
           0,
           0,
           0,
           0,
           0,
           0,
           0,
           0,
           0.02040816326530612,
           0.019230769230769232,
           0.03076923076923077,
           0
          ],
          [
           0.15151515151515152,
           0.24793388429752067,
           0.18181818181818182,
           0.26,
           0.16574585635359115,
           0.4393063583815029,
           0.6666666666666666,
           1,
           0.5241379310344828,
           0.0273972602739726,
           0,
           0,
           0,
           0.024390243902439025,
           0,
           0,
           0,
           0,
           0,
           0,
           0,
           0,
           0,
           0.03333333333333333,
           0.030303030303030304,
           0.043478260869565216,
           0
          ],
          [
           0.5093632958801498,
           0.17894736842105263,
           0.15384615384615385,
           0.16568047337278108,
           0.168,
           0.35537190082644626,
           0.4262295081967213,
           0.5241379310344828,
           1,
           0.028169014084507043,
           0,
           0,
           0,
           0.026490066225165563,
           0,
           0,
           0,
           0,
           0,
           0,
           0,
           0,
           0,
           0.015503875968992248,
           0.014814814814814815,
           0.024844720496894408,
           0
          ],
          [
           0.03076923076923077,
           0.03389830508474576,
           0.037037037037037035,
           0.041237113402061855,
           0.033707865168539325,
           0.03529411764705882,
           0.018018018018018018,
           0.0273972602739726,
           0.028169014084507043,
           1,
           0.3111111111111111,
           0.2926829268292683,
           0.10810810810810811,
           0.10126582278481013,
           0.1702127659574468,
           0.17857142857142858,
           0.08888888888888889,
           0.08163265306122448,
           0.07547169811320754,
           0.08163265306122448,
           0.08888888888888889,
           0.08163265306122448,
           0.07272727272727272,
           0.07017543859649122,
           0.06349206349206349,
           0.06741573033707865,
           0.0449438202247191
          ],
          [
           0.023529411764705882,
           0.043010752688172046,
           0.043795620437956206,
           0.05555555555555555,
           0.026143790849673203,
           0.013793103448275862,
           0.023255813953488372,
           0,
           0,
           0.3111111111111111,
           1,
           0.75,
           0.3333333333333333,
           0.07407407407407407,
           0.18181818181818182,
           0.12903225806451613,
           0.2,
           0.16666666666666666,
           0.14285714285714285,
           0.16666666666666666,
           0.2,
           0.16666666666666666,
           0.13333333333333333,
           0.125,
           0.10526315789473684,
           0.0625,
           0.0625
          ],
          [
           0.024096385542168676,
           0.0449438202247191,
           0.03007518796992481,
           0.058823529411764705,
           0.026845637583892617,
           0.014184397163120567,
           0,
           0,
           0,
           0.2926829268292683,
           0.75,
           1,
           0.5,
           0.08,
           0.2222222222222222,
           0.14814814814814814,
           0.25,
           0.2,
           0.16666666666666666,
           0.2,
           0.25,
           0.2,
           0.15384615384615385,
           0.14285714285714285,
           0.11764705882352941,
           0.06666666666666667,
           0.06666666666666667
          ],
          [
           0.024691358024691357,
           0.047058823529411764,
           0.031007751937984496,
           0.0625,
           0.027586206896551724,
           0.014598540145985401,
           0,
           0,
           0,
           0.10810810810810811,
           0.3333333333333333,
           0.5,
           1,
           0.08695652173913043,
           0.2857142857142857,
           0.17391304347826086,
           0.3333333333333333,
           0.25,
           0.2,
           0.25,
           0.3333333333333333,
           0.25,
           0.18181818181818182,
           0.16666666666666666,
           0.13333333333333333,
           0.07142857142857142,
           0.07142857142857142
          ],
          [
           0.06862745098039216,
           0.09448818897637795,
           0.08187134502923976,
           0.03773584905660377,
           0.053475935828877004,
           0.055865921787709494,
           0.05,
           0.024390243902439025,
           0.026490066225165563,
           0.10126582278481013,
           0.07407407407407407,
           0.08,
           0.08695652173913043,
           1,
           0.42857142857142855,
           0.4307692307692308,
           0.3333333333333333,
           0.3448275862068966,
           0.3548387096774194,
           0.3448275862068966,
           0.37037037037037035,
           0.3448275862068966,
           0.3125,
           0.30303030303030304,
           0.2777777777777778,
           0.20408163265306123,
           0.24489795918367346
          ],
          [
           0.08139534883720931,
           0.12631578947368421,
           0.08633093525179857,
           0.05405405405405406,
           0.03870967741935484,
           0.027210884353741496,
           0,
           0,
           0,
           0.1702127659574468,
           0.18181818181818182,
           0.2222222222222222,
           0.2857142857142857,
           0.42857142857142855,
           1,
           0.7272727272727273,
           0.6363636363636364,
           0.5384615384615384,
           0.4,
           0.46153846153846156,
           0.5454545454545454,
           0.46153846153846156,
           0.375,
           0.35294117647058826,
           0.3,
           0.18181818181818182,
           0.21212121212121213
          ],
          [
           0.07734806629834254,
           0.11538461538461539,
           0.08108108108108109,
           0.04819277108433735,
           0.036585365853658534,
           0.02564102564102564,
           0,
           0,
           0,
           0.17857142857142858,
           0.12903225806451613,
           0.14814814814814814,
           0.17391304347826086,
           0.4307692307692308,
           0.7272727272727273,
           1,
           0.6451612903225806,
           0.5714285714285714,
           0.41025641025641024,
           0.45714285714285713,
           0.5161290322580645,
           0.45714285714285713,
           0.3902439024390244,
           0.37209302325581395,
           0.32653061224489793,
           0.21333333333333335,
           0.26666666666666666
          ],
          [
           0.07058823529411765,
           0.12903225806451613,
           0.08759124087591241,
           0.05555555555555555,
           0.0392156862745098,
           0.013793103448275862,
           0,
           0,
           0,
           0.08888888888888889,
           0.2,
           0.25,
           0.3333333333333333,
           0.3333333333333333,
           0.6363636363636364,
           0.6451612903225806,
           1,
           0.8333333333333334,
           0.5714285714285714,
           0.6666666666666666,
           0.8,
           0.6666666666666666,
           0.5333333333333333,
           0.5,
           0.42105263157894735,
           0.25,
           0.3125
          ],
          [
           0.06896551724137931,
           0.12371134020618557,
           0.0851063829787234,
           0.05263157894736842,
           0.03821656050955414,
           0.013422818791946308,
           0,
           0,
           0,
           0.08163265306122448,
           0.16666666666666666,
           0.2,
           0.25,
           0.3448275862068966,
           0.5384615384615384,
           0.5714285714285714,
           0.8333333333333334,
           1,
           0.625,
           0.7142857142857143,
           0.6666666666666666,
           0.5714285714285714,
           0.5882352941176471,
           0.4444444444444444,
           0.38095238095238093,
           0.29411764705882354,
           0.4117647058823529
          ],
          [
           0.06741573033707865,
           0.1188118811881188,
           0.08275862068965517,
           0.05,
           0.037267080745341616,
           0.013071895424836602,
           0,
           0,
           0,
           0.07547169811320754,
           0.14285714285714285,
           0.16666666666666666,
           0.2,
           0.3548387096774194,
           0.4,
           0.41025641025641024,
           0.5714285714285714,
           0.625,
           1,
           0.875,
           0.7142857142857143,
           0.625,
           0.631578947368421,
           0.5,
           0.43478260869565216,
           0.3888888888888889,
           0.3888888888888889
          ],
          [
           0.06896551724137931,
           0.12371134020618557,
           0.0851063829787234,
           0.05263157894736842,
           0.03821656050955414,
           0.013422818791946308,
           0,
           0,
           0,
           0.08163265306122448,
           0.16666666666666666,
           0.2,
           0.25,
           0.3448275862068966,
           0.46153846153846156,
           0.45714285714285713,
           0.6666666666666666,
           0.7142857142857143,
           0.875,
           1,
           0.8333333333333334,
           0.7142857142857143,
           0.7058823529411765,
           0.5555555555555556,
           0.47619047619047616,
           0.4117647058823529,
           0.35294117647058826
          ],
          [
           0.07058823529411765,
           0.12903225806451613,
           0.08759124087591241,
           0.05555555555555555,
           0.0392156862745098,
           0.013793103448275862,
           0,
           0,
           0,
           0.08888888888888889,
           0.2,
           0.25,
           0.3333333333333333,
           0.37037037037037035,
           0.5454545454545454,
           0.5161290322580645,
           0.8,
           0.6666666666666666,
           0.7142857142857143,
           0.8333333333333334,
           1,
           0.8333333333333334,
           0.6666666666666666,
           0.625,
           0.5263157894736842,
           0.3125,
           0.3125
          ],
          [
           0.06896551724137931,
           0.12371134020618557,
           0.09929078014184398,
           0.05263157894736842,
           0.03821656050955414,
           0.013422818791946308,
           0,
           0,
           0,
           0.08163265306122448,
           0.16666666666666666,
           0.2,
           0.25,
           0.3448275862068966,
           0.46153846153846156,
           0.45714285714285713,
           0.6666666666666666,
           0.5714285714285714,
           0.625,
           0.7142857142857143,
           0.8333333333333334,
           1,
           0.8235294117647058,
           0.7777777777777778,
           0.6666666666666666,
           0.4117647058823529,
           0.4117647058823529
          ],
          [
           0.06666666666666667,
           0.11650485436893204,
           0.09523809523809523,
           0.04878048780487805,
           0.03680981595092025,
           0.012903225806451613,
           0,
           0,
           0,
           0.07272727272727272,
           0.13333333333333333,
           0.15384615384615385,
           0.18181818181818182,
           0.3125,
           0.375,
           0.3902439024390244,
           0.5333333333333333,
           0.5882352941176471,
           0.631578947368421,
           0.7058823529411765,
           0.6666666666666666,
           0.8235294117647058,
           1,
           0.6666666666666666,
           0.5833333333333334,
           0.4864864864864865,
           0.5405405405405406
          ],
          [
           0.06593406593406594,
           0.11428571428571428,
           0.09395973154362416,
           0.047619047619047616,
           0.048484848484848485,
           0.025477707006369428,
           0.02040816326530612,
           0.03333333333333333,
           0.015503875968992248,
           0.07017543859649122,
           0.125,
           0.14285714285714285,
           0.16666666666666666,
           0.30303030303030304,
           0.35294117647058826,
           0.37209302325581395,
           0.5,
           0.4444444444444444,
           0.5,
           0.5555555555555556,
           0.625,
           0.7777777777777778,
           0.6666666666666666,
           1,
           0.88,
           0.5789473684210527,
           0.42105263157894735
          ],
          [
           0.06382978723404255,
           0.10810810810810811,
           0.09032258064516129,
           0.044444444444444446,
           0.04678362573099415,
           0.024539877300613498,
           0.019230769230769232,
           0.030303030303030304,
           0.014814814814814815,
           0.06349206349206349,
           0.10526315789473684,
           0.11764705882352941,
           0.13333333333333333,
           0.2777777777777778,
           0.3,
           0.32653061224489793,
           0.42105263157894735,
           0.38095238095238093,
           0.43478260869565216,
           0.47619047619047616,
           0.5263157894736842,
           0.6666666666666666,
           0.5833333333333334,
           0.88,
           1,
           0.6341463414634146,
           0.3902439024390244
          ],
          [
           0.08411214953271028,
           0.10218978102189781,
           0.08839779005524862,
           0.034482758620689655,
           0.06091370558375635,
           0.05291005291005291,
           0.03076923076923077,
           0.043478260869565216,
           0.024844720496894408,
           0.06741573033707865,
           0.0625,
           0.06666666666666667,
           0.07142857142857142,
           0.20408163265306123,
           0.18181818181818182,
           0.21333333333333335,
           0.25,
           0.29411764705882354,
           0.3888888888888889,
           0.4117647058823529,
           0.3125,
           0.4117647058823529,
           0.4864864864864865,
           0.5789473684210527,
           0.6341463414634146,
           1,
           0.4074074074074074
          ],
          [
           0.07476635514018691,
           0.10218978102189781,
           0.08839779005524862,
           0.034482758620689655,
           0.04060913705583756,
           0.021164021164021163,
           0,
           0,
           0,
           0.0449438202247191,
           0.0625,
           0.06666666666666667,
           0.07142857142857142,
           0.24489795918367346,
           0.21212121212121213,
           0.26666666666666666,
           0.3125,
           0.4117647058823529,
           0.3888888888888889,
           0.35294117647058826,
           0.3125,
           0.4117647058823529,
           0.5405405405405406,
           0.42105263157894735,
           0.3902439024390244,
           0.4074074074074074,
           1
          ]
         ]
        }
       ],
       "layout": {
        "autosize": false,
        "height": 800,
        "hovermode": "closest",
        "showlegend": false,
        "template": {
         "data": {
          "bar": [
           {
            "error_x": {
             "color": "#2a3f5f"
            },
            "error_y": {
             "color": "#2a3f5f"
            },
            "marker": {
             "line": {
              "color": "#E5ECF6",
              "width": 0.5
             },
             "pattern": {
              "fillmode": "overlay",
              "size": 10,
              "solidity": 0.2
             }
            },
            "type": "bar"
           }
          ],
          "barpolar": [
           {
            "marker": {
             "line": {
              "color": "#E5ECF6",
              "width": 0.5
             },
             "pattern": {
              "fillmode": "overlay",
              "size": 10,
              "solidity": 0.2
             }
            },
            "type": "barpolar"
           }
          ],
          "carpet": [
           {
            "aaxis": {
             "endlinecolor": "#2a3f5f",
             "gridcolor": "white",
             "linecolor": "white",
             "minorgridcolor": "white",
             "startlinecolor": "#2a3f5f"
            },
            "baxis": {
             "endlinecolor": "#2a3f5f",
             "gridcolor": "white",
             "linecolor": "white",
             "minorgridcolor": "white",
             "startlinecolor": "#2a3f5f"
            },
            "type": "carpet"
           }
          ],
          "choropleth": [
           {
            "colorbar": {
             "outlinewidth": 0,
             "ticks": ""
            },
            "type": "choropleth"
           }
          ],
          "contour": [
           {
            "colorbar": {
             "outlinewidth": 0,
             "ticks": ""
            },
            "colorscale": [
             [
              0,
              "#0d0887"
             ],
             [
              0.1111111111111111,
              "#46039f"
             ],
             [
              0.2222222222222222,
              "#7201a8"
             ],
             [
              0.3333333333333333,
              "#9c179e"
             ],
             [
              0.4444444444444444,
              "#bd3786"
             ],
             [
              0.5555555555555556,
              "#d8576b"
             ],
             [
              0.6666666666666666,
              "#ed7953"
             ],
             [
              0.7777777777777778,
              "#fb9f3a"
             ],
             [
              0.8888888888888888,
              "#fdca26"
             ],
             [
              1,
              "#f0f921"
             ]
            ],
            "type": "contour"
           }
          ],
          "contourcarpet": [
           {
            "colorbar": {
             "outlinewidth": 0,
             "ticks": ""
            },
            "type": "contourcarpet"
           }
          ],
          "heatmap": [
           {
            "colorbar": {
             "outlinewidth": 0,
             "ticks": ""
            },
            "colorscale": [
             [
              0,
              "#0d0887"
             ],
             [
              0.1111111111111111,
              "#46039f"
             ],
             [
              0.2222222222222222,
              "#7201a8"
             ],
             [
              0.3333333333333333,
              "#9c179e"
             ],
             [
              0.4444444444444444,
              "#bd3786"
             ],
             [
              0.5555555555555556,
              "#d8576b"
             ],
             [
              0.6666666666666666,
              "#ed7953"
             ],
             [
              0.7777777777777778,
              "#fb9f3a"
             ],
             [
              0.8888888888888888,
              "#fdca26"
             ],
             [
              1,
              "#f0f921"
             ]
            ],
            "type": "heatmap"
           }
          ],
          "heatmapgl": [
           {
            "colorbar": {
             "outlinewidth": 0,
             "ticks": ""
            },
            "colorscale": [
             [
              0,
              "#0d0887"
             ],
             [
              0.1111111111111111,
              "#46039f"
             ],
             [
              0.2222222222222222,
              "#7201a8"
             ],
             [
              0.3333333333333333,
              "#9c179e"
             ],
             [
              0.4444444444444444,
              "#bd3786"
             ],
             [
              0.5555555555555556,
              "#d8576b"
             ],
             [
              0.6666666666666666,
              "#ed7953"
             ],
             [
              0.7777777777777778,
              "#fb9f3a"
             ],
             [
              0.8888888888888888,
              "#fdca26"
             ],
             [
              1,
              "#f0f921"
             ]
            ],
            "type": "heatmapgl"
           }
          ],
          "histogram": [
           {
            "marker": {
             "pattern": {
              "fillmode": "overlay",
              "size": 10,
              "solidity": 0.2
             }
            },
            "type": "histogram"
           }
          ],
          "histogram2d": [
           {
            "colorbar": {
             "outlinewidth": 0,
             "ticks": ""
            },
            "colorscale": [
             [
              0,
              "#0d0887"
             ],
             [
              0.1111111111111111,
              "#46039f"
             ],
             [
              0.2222222222222222,
              "#7201a8"
             ],
             [
              0.3333333333333333,
              "#9c179e"
             ],
             [
              0.4444444444444444,
              "#bd3786"
             ],
             [
              0.5555555555555556,
              "#d8576b"
             ],
             [
              0.6666666666666666,
              "#ed7953"
             ],
             [
              0.7777777777777778,
              "#fb9f3a"
             ],
             [
              0.8888888888888888,
              "#fdca26"
             ],
             [
              1,
              "#f0f921"
             ]
            ],
            "type": "histogram2d"
           }
          ],
          "histogram2dcontour": [
           {
            "colorbar": {
             "outlinewidth": 0,
             "ticks": ""
            },
            "colorscale": [
             [
              0,
              "#0d0887"
             ],
             [
              0.1111111111111111,
              "#46039f"
             ],
             [
              0.2222222222222222,
              "#7201a8"
             ],
             [
              0.3333333333333333,
              "#9c179e"
             ],
             [
              0.4444444444444444,
              "#bd3786"
             ],
             [
              0.5555555555555556,
              "#d8576b"
             ],
             [
              0.6666666666666666,
              "#ed7953"
             ],
             [
              0.7777777777777778,
              "#fb9f3a"
             ],
             [
              0.8888888888888888,
              "#fdca26"
             ],
             [
              1,
              "#f0f921"
             ]
            ],
            "type": "histogram2dcontour"
           }
          ],
          "mesh3d": [
           {
            "colorbar": {
             "outlinewidth": 0,
             "ticks": ""
            },
            "type": "mesh3d"
           }
          ],
          "parcoords": [
           {
            "line": {
             "colorbar": {
              "outlinewidth": 0,
              "ticks": ""
             }
            },
            "type": "parcoords"
           }
          ],
          "pie": [
           {
            "automargin": true,
            "type": "pie"
           }
          ],
          "scatter": [
           {
            "marker": {
             "colorbar": {
              "outlinewidth": 0,
              "ticks": ""
             }
            },
            "type": "scatter"
           }
          ],
          "scatter3d": [
           {
            "line": {
             "colorbar": {
              "outlinewidth": 0,
              "ticks": ""
             }
            },
            "marker": {
             "colorbar": {
              "outlinewidth": 0,
              "ticks": ""
             }
            },
            "type": "scatter3d"
           }
          ],
          "scattercarpet": [
           {
            "marker": {
             "colorbar": {
              "outlinewidth": 0,
              "ticks": ""
             }
            },
            "type": "scattercarpet"
           }
          ],
          "scattergeo": [
           {
            "marker": {
             "colorbar": {
              "outlinewidth": 0,
              "ticks": ""
             }
            },
            "type": "scattergeo"
           }
          ],
          "scattergl": [
           {
            "marker": {
             "colorbar": {
              "outlinewidth": 0,
              "ticks": ""
             }
            },
            "type": "scattergl"
           }
          ],
          "scattermapbox": [
           {
            "marker": {
             "colorbar": {
              "outlinewidth": 0,
              "ticks": ""
             }
            },
            "type": "scattermapbox"
           }
          ],
          "scatterpolar": [
           {
            "marker": {
             "colorbar": {
              "outlinewidth": 0,
              "ticks": ""
             }
            },
            "type": "scatterpolar"
           }
          ],
          "scatterpolargl": [
           {
            "marker": {
             "colorbar": {
              "outlinewidth": 0,
              "ticks": ""
             }
            },
            "type": "scatterpolargl"
           }
          ],
          "scatterternary": [
           {
            "marker": {
             "colorbar": {
              "outlinewidth": 0,
              "ticks": ""
             }
            },
            "type": "scatterternary"
           }
          ],
          "surface": [
           {
            "colorbar": {
             "outlinewidth": 0,
             "ticks": ""
            },
            "colorscale": [
             [
              0,
              "#0d0887"
             ],
             [
              0.1111111111111111,
              "#46039f"
             ],
             [
              0.2222222222222222,
              "#7201a8"
             ],
             [
              0.3333333333333333,
              "#9c179e"
             ],
             [
              0.4444444444444444,
              "#bd3786"
             ],
             [
              0.5555555555555556,
              "#d8576b"
             ],
             [
              0.6666666666666666,
              "#ed7953"
             ],
             [
              0.7777777777777778,
              "#fb9f3a"
             ],
             [
              0.8888888888888888,
              "#fdca26"
             ],
             [
              1,
              "#f0f921"
             ]
            ],
            "type": "surface"
           }
          ],
          "table": [
           {
            "cells": {
             "fill": {
              "color": "#EBF0F8"
             },
             "line": {
              "color": "white"
             }
            },
            "header": {
             "fill": {
              "color": "#C8D4E3"
             },
             "line": {
              "color": "white"
             }
            },
            "type": "table"
           }
          ]
         },
         "layout": {
          "annotationdefaults": {
           "arrowcolor": "#2a3f5f",
           "arrowhead": 0,
           "arrowwidth": 1
          },
          "autotypenumbers": "strict",
          "coloraxis": {
           "colorbar": {
            "outlinewidth": 0,
            "ticks": ""
           }
          },
          "colorscale": {
           "diverging": [
            [
             0,
             "#8e0152"
            ],
            [
             0.1,
             "#c51b7d"
            ],
            [
             0.2,
             "#de77ae"
            ],
            [
             0.3,
             "#f1b6da"
            ],
            [
             0.4,
             "#fde0ef"
            ],
            [
             0.5,
             "#f7f7f7"
            ],
            [
             0.6,
             "#e6f5d0"
            ],
            [
             0.7,
             "#b8e186"
            ],
            [
             0.8,
             "#7fbc41"
            ],
            [
             0.9,
             "#4d9221"
            ],
            [
             1,
             "#276419"
            ]
           ],
           "sequential": [
            [
             0,
             "#0d0887"
            ],
            [
             0.1111111111111111,
             "#46039f"
            ],
            [
             0.2222222222222222,
             "#7201a8"
            ],
            [
             0.3333333333333333,
             "#9c179e"
            ],
            [
             0.4444444444444444,
             "#bd3786"
            ],
            [
             0.5555555555555556,
             "#d8576b"
            ],
            [
             0.6666666666666666,
             "#ed7953"
            ],
            [
             0.7777777777777778,
             "#fb9f3a"
            ],
            [
             0.8888888888888888,
             "#fdca26"
            ],
            [
             1,
             "#f0f921"
            ]
           ],
           "sequentialminus": [
            [
             0,
             "#0d0887"
            ],
            [
             0.1111111111111111,
             "#46039f"
            ],
            [
             0.2222222222222222,
             "#7201a8"
            ],
            [
             0.3333333333333333,
             "#9c179e"
            ],
            [
             0.4444444444444444,
             "#bd3786"
            ],
            [
             0.5555555555555556,
             "#d8576b"
            ],
            [
             0.6666666666666666,
             "#ed7953"
            ],
            [
             0.7777777777777778,
             "#fb9f3a"
            ],
            [
             0.8888888888888888,
             "#fdca26"
            ],
            [
             1,
             "#f0f921"
            ]
           ]
          },
          "colorway": [
           "#636efa",
           "#EF553B",
           "#00cc96",
           "#ab63fa",
           "#FFA15A",
           "#19d3f3",
           "#FF6692",
           "#B6E880",
           "#FF97FF",
           "#FECB52"
          ],
          "font": {
           "color": "#2a3f5f"
          },
          "geo": {
           "bgcolor": "white",
           "lakecolor": "white",
           "landcolor": "#E5ECF6",
           "showlakes": true,
           "showland": true,
           "subunitcolor": "white"
          },
          "hoverlabel": {
           "align": "left"
          },
          "hovermode": "closest",
          "mapbox": {
           "style": "light"
          },
          "paper_bgcolor": "white",
          "plot_bgcolor": "#E5ECF6",
          "polar": {
           "angularaxis": {
            "gridcolor": "white",
            "linecolor": "white",
            "ticks": ""
           },
           "bgcolor": "#E5ECF6",
           "radialaxis": {
            "gridcolor": "white",
            "linecolor": "white",
            "ticks": ""
           }
          },
          "scene": {
           "xaxis": {
            "backgroundcolor": "#E5ECF6",
            "gridcolor": "white",
            "gridwidth": 2,
            "linecolor": "white",
            "showbackground": true,
            "ticks": "",
            "zerolinecolor": "white"
           },
           "yaxis": {
            "backgroundcolor": "#E5ECF6",
            "gridcolor": "white",
            "gridwidth": 2,
            "linecolor": "white",
            "showbackground": true,
            "ticks": "",
            "zerolinecolor": "white"
           },
           "zaxis": {
            "backgroundcolor": "#E5ECF6",
            "gridcolor": "white",
            "gridwidth": 2,
            "linecolor": "white",
            "showbackground": true,
            "ticks": "",
            "zerolinecolor": "white"
           }
          },
          "shapedefaults": {
           "line": {
            "color": "#2a3f5f"
           }
          },
          "ternary": {
           "aaxis": {
            "gridcolor": "white",
            "linecolor": "white",
            "ticks": ""
           },
           "baxis": {
            "gridcolor": "white",
            "linecolor": "white",
            "ticks": ""
           },
           "bgcolor": "#E5ECF6",
           "caxis": {
            "gridcolor": "white",
            "linecolor": "white",
            "ticks": ""
           }
          },
          "title": {
           "x": 0.05
          },
          "xaxis": {
           "automargin": true,
           "gridcolor": "white",
           "linecolor": "white",
           "ticks": "",
           "title": {
            "standoff": 15
           },
           "zerolinecolor": "white",
           "zerolinewidth": 2
          },
          "yaxis": {
           "automargin": true,
           "gridcolor": "white",
           "linecolor": "white",
           "ticks": "",
           "title": {
            "standoff": 15
           },
           "zerolinecolor": "white",
           "zerolinewidth": 2
          }
         }
        },
        "title": {
         "text": "Similaridad Aminas",
         "x": 0.55,
         "xanchor": "center",
         "y": 0.9,
         "yanchor": "top"
        },
        "width": 800,
        "xaxis": {
         "domain": [
          0.15,
          1
         ],
         "mirror": false,
         "rangemode": "tozero",
         "showgrid": false,
         "showline": false,
         "showticklabels": true,
         "tickmode": "array",
         "ticks": "",
         "ticktext": [
          "4methoxyphenethyl",
          "PhEtNH3I",
          "4FluoroPhenethyl",
          "Benzyl",
          "4TrifluoromethylBenzyl",
          "4TrifluoromethylPhenyl",
          "4FluoroPhenyl",
          "Phenyl",
          "4MethoxyPhenyl",
          "ImidazoliumIodide",
          "GnNH3I",
          "FormamidiniumIodide",
          "MeNH3I",
          "NNDiethylpropane13di",
          "Diethyl",
          "Diisopropyl",
          "iPropyl",
          "tButyl",
          "neoPentyl",
          "iButyl",
          "NPropyl",
          "n-BuNH3I",
          "IPentyl",
          "nHexyl",
          "nDodecyl",
          "Cyclohexylmethyl",
          "TertOctyl"
         ],
         "tickvals": [
          5,
          15,
          25,
          35,
          45,
          55,
          65,
          75,
          85,
          95,
          105,
          115,
          125,
          135,
          145,
          155,
          165,
          175,
          185,
          195,
          205,
          215,
          225,
          235,
          245,
          255,
          265
         ],
         "type": "linear",
         "zeroline": false
        },
        "xaxis2": {
         "domain": [
          0,
          0.15
         ],
         "mirror": false,
         "showgrid": false,
         "showline": false,
         "showticklabels": false,
         "ticks": "",
         "zeroline": false
        },
        "yaxis": {
         "domain": [
          0,
          0.85
         ],
         "mirror": false,
         "rangemode": "tozero",
         "showgrid": false,
         "showline": false,
         "showticklabels": false,
         "ticks": "",
         "ticktext": [
          "4methoxyphenethyl",
          "PhEtNH3I",
          "4FluoroPhenethyl",
          "Benzyl",
          "4TrifluoromethylBenzyl",
          "4TrifluoromethylPhenyl",
          "4FluoroPhenyl",
          "Phenyl",
          "4MethoxyPhenyl",
          "ImidazoliumIodide",
          "GnNH3I",
          "FormamidiniumIodide",
          "MeNH3I",
          "NNDiethylpropane13di",
          "Diethyl",
          "Diisopropyl",
          "iPropyl",
          "tButyl",
          "neoPentyl",
          "iButyl",
          "NPropyl",
          "n-BuNH3I",
          "IPentyl",
          "nHexyl",
          "nDodecyl",
          "Cyclohexylmethyl",
          "TertOctyl"
         ],
         "tickvals": [
          5,
          15,
          25,
          35,
          45,
          55,
          65,
          75,
          85,
          95,
          105,
          115,
          125,
          135,
          145,
          155,
          165,
          175,
          185,
          195,
          205,
          215,
          225,
          235,
          245,
          255,
          265
         ],
         "type": "linear",
         "zeroline": false
        },
        "yaxis2": {
         "domain": [
          0.825,
          0.975
         ],
         "mirror": false,
         "showgrid": false,
         "showline": false,
         "showticklabels": false,
         "ticks": "",
         "zeroline": false
        }
       }
      }
     },
     "metadata": {}
    }
   ],
   "metadata": {}
  },
  {
   "cell_type": "markdown",
   "source": [
    "- ciclohexil \n",
    "    - estructuralmente a alifaticos\n",
    "    - por PF debería ir en Otros..en pca según el eje que diferencia ambos cluster, debería ir cerca de alifaticos (no tanto)\n",
    "- NNdie \n",
    "    - estructuralmente: cadenas carbonadas\n",
    "    - PF según PCA3 se alejaba...\n",
    "    - como es la de menos variabilidad y dado que por PCA2 queda marcadamente en grupo carbonado -> a grupo carbonado\n",
    "- ndodecyl estructuralmente debería ir a carbonados, pero como según PCA1 quedó lejísimos de tanto ambos cluster -> sigue en OTROS"
   ],
   "metadata": {}
  },
  {
   "cell_type": "code",
   "execution_count": 34,
   "source": [
    "df_amine_with_names.query('cluster == 1 or cluster >= 3')['Chemical Abbreviation']\n"
   ],
   "outputs": [
    {
     "output_type": "execute_result",
     "data": {
      "text/plain": [
       "2                                   GnNH3I\n",
       "14          CyclohexylmethylammoniumIodide\n",
       "46      NNDiethylpropane13diammoniumiodide\n",
       "78                  nDodecylammoniumIodide\n",
       "109                    FormamidiniumIodide\n",
       "1811                     ImidazoliumIodide\n",
       "Name: Chemical Abbreviation, dtype: object"
      ]
     },
     "metadata": {},
     "execution_count": 34
    }
   ],
   "metadata": {}
  },
  {
   "cell_type": "code",
   "execution_count": 35,
   "source": [
    "df_amine_with_names.query('cluster == 1 or cluster == 6')['Chemical Abbreviation']"
   ],
   "outputs": [
    {
     "output_type": "execute_result",
     "data": {
      "text/plain": [
       "2                   GnNH3I\n",
       "109    FormamidiniumIodide\n",
       "Name: Chemical Abbreviation, dtype: object"
      ]
     },
     "metadata": {},
     "execution_count": 35
    }
   ],
   "metadata": {}
  },
  {
   "cell_type": "code",
   "execution_count": 278,
   "source": [
    "df_amine_with_names.query('cluster == 5')['Chemical Abbreviation']\n"
   ],
   "outputs": [
    {
     "output_type": "execute_result",
     "data": {
      "text/plain": [
       "14    NNDiethylpropane13diammoniumiodide\n",
       "Name: Chemical Abbreviation, dtype: object"
      ]
     },
     "metadata": {},
     "execution_count": 278
    }
   ],
   "metadata": {}
  },
  {
   "cell_type": "code",
   "execution_count": 342,
   "source": [
    "df_amine_with_names.query('cluster == 3')['Chemical Abbreviation']\n"
   ],
   "outputs": [
    {
     "output_type": "execute_result",
     "data": {
      "text/plain": [
       "14    CyclohexylmethylammoniumIodide\n",
       "Name: Chemical Abbreviation, dtype: object"
      ]
     },
     "metadata": {},
     "execution_count": 342
    }
   ],
   "metadata": {}
  },
  {
   "cell_type": "code",
   "execution_count": 281,
   "source": [
    "df_amine_with_names.query('cluster == 7')['Chemical Abbreviation']\n"
   ],
   "outputs": [
    {
     "output_type": "execute_result",
     "data": {
      "text/plain": [
       "155    nDodecylammoniumIodide\n",
       "Name: Chemical Abbreviation, dtype: object"
      ]
     },
     "metadata": {},
     "execution_count": 281
    }
   ],
   "metadata": {}
  },
  {
   "cell_type": "code",
   "execution_count": 279,
   "source": [
    "df_amine_with_names.query('cluster == 8')['Chemical Abbreviation']\n"
   ],
   "outputs": [
    {
     "output_type": "execute_result",
     "data": {
      "text/plain": [
       "1696    ImidazoliumIodide\n",
       "Name: Chemical Abbreviation, dtype: object"
      ]
     },
     "metadata": {},
     "execution_count": 279
    }
   ],
   "metadata": {}
  },
  {
   "cell_type": "code",
   "execution_count": 35,
   "source": [
    "import plotly.graph_objects as go\n",
    "import plotly.figure_factory as ff\n",
    "import plotly.offline as pyo\n",
    "\n",
    "from scipy.spatial.distance import pdist, squareform\n",
    "\n",
    "import scipy.cluster.hierarchy as sch\n",
    "\n",
    "pyo.init_notebook_mode(connected=True)\n",
    "\n",
    "def plot_heatmap_plotly(numpy_array, columns, title, dendogramMethod='centroid', colorbar_title = 'Correlación (Abs)'):\n",
    "    data_array = numpy_array\n",
    "    labels = columns\n",
    "    colorScale = 'default'\n",
    "   \n",
    "    # Initialize figure by creating upper dendrogram\n",
    "    #fig = ff.create_dendrogram(data_array, orientation='bottom', linkagefun=lambda x: sch.linkage(x, method=dendogramMethod, metric=distanceMethod ,optimal_ordering=True), labels=labels)\n",
    "    fig = ff.create_dendrogram(data_array, orientation='bottom', linkagefun=lambda x: sch.linkage(x, method=dendogramMethod, optimal_ordering=True), labels=labels)\n",
    "    for i in range(len(fig['data'])):\n",
    "        fig['data'][i]['yaxis'] = 'y2'\n",
    "\n",
    "    # Create Side Dendrogram\n",
    "    #dendro_side = ff.create_dendrogram(data_array, orientation='right', linkagefun=lambda x: sch.linkage(x, method=dendogramMethod, metric=distanceMethod,  optimal_ordering=True) )\n",
    "    dendro_side = ff.create_dendrogram(data_array, orientation='right', linkagefun=lambda x: sch.linkage(x, method=dendogramMethod, optimal_ordering=True) )\n",
    "\n",
    "    for i in range(len(dendro_side['data'])):\n",
    "        dendro_side['data'][i]['xaxis'] = 'x2'\n",
    "\n",
    "    # Add Side Dendrogram Data to Figure\n",
    "    # ~ stack1 = []\n",
    "    for data in dendro_side['data']:\n",
    "        fig.add_trace(data)\n",
    "\n",
    "\n",
    "    # Create Heatmap\n",
    "    dendro_leaves = dendro_side['layout']['yaxis']['ticktext']\n",
    "    dendro_leaves = list(map(int, dendro_leaves))\n",
    "    heat_data = data_array\n",
    "    heat_data = heat_data[dendro_leaves,:]\n",
    "    heat_data = heat_data[:,dendro_leaves]\n",
    "\n",
    "    if(colorScale!='default'):\n",
    "        aux=go.Heatmap(\n",
    "            x = dendro_leaves,\n",
    "            y = dendro_leaves,\n",
    "            z = heat_data,\n",
    "            colorscale = colorScale,\n",
    "            colorbar=dict(title='Trie distances'),\n",
    "            )\n",
    "        heatmap = [aux]\n",
    "    else:\n",
    "        aux = go.Heatmap(\n",
    "            x=dendro_leaves,\n",
    "            y=dendro_leaves,\n",
    "            z=heat_data,\n",
    "            colorbar=dict(title=colorbar_title),\n",
    "        )\n",
    "        heatmap = [aux]\n",
    "        # heatmap = [\n",
    "        # \tgo.Heatmap(\n",
    "        # \t\tx = dendro_leaves,\n",
    "        # \t\ty = dendro_leaves,\n",
    "        # \t\tz = heat_data\n",
    "        # \t)\n",
    "        # ]\n",
    "\t\n",
    "    heatmap[0]['x'] = fig['layout']['xaxis']['tickvals']\n",
    "    heatmap[0]['y'] = dendro_side['layout']['yaxis']['tickvals']\n",
    "    # Add Heatmap Data to Figure\n",
    "    for data in heatmap:\n",
    "        fig.add_trace(data)\n",
    "\n",
    "\n",
    "    # Edit Layout\n",
    "    fig.update_layout({'width':800, 'height':800,\n",
    "                            'showlegend':False, 'hovermode': 'closest',\n",
    "                            })\n",
    "\n",
    "    fig.update_layout(title={\n",
    "                        'text': title,\n",
    "                        'y':0.9,\n",
    "                        'x':0.55,\n",
    "                        'xanchor': 'center',\n",
    "                        'yanchor': 'top'})\n",
    "\n",
    "    # Edit xaxis\n",
    "    fig.update_layout(xaxis={'domain': [.15, 1],\n",
    "                                    'mirror': False,\n",
    "                                    'showgrid': False,\n",
    "                                    'showline': False,\n",
    "                                    'zeroline': False,\n",
    "                                    'ticks':\"\"})\n",
    "    # Edit xaxis2\n",
    "    fig.update_layout(xaxis2={'domain': [0, .15],\n",
    "                                    'mirror': False,\n",
    "                                    'showgrid': False,\n",
    "                                    'showline': False,\n",
    "                                    'zeroline': False,\n",
    "                                    'showticklabels': False,\n",
    "                                    'ticks':\"\"})\n",
    "\n",
    "    # Edit yaxis\n",
    "    fig.update_layout(yaxis={'domain': [0, .85],\n",
    "                                    'mirror': False,\n",
    "                                    'showgrid': False,\n",
    "                                    'showline': False,\n",
    "                                    'zeroline': False,\n",
    "                                    'showticklabels': False,\n",
    "                                    'ticks': \"\"\n",
    "                            })\n",
    "    # Edit yaxis2\n",
    "    fig.update_layout(yaxis2={'domain':[.825, .975],\n",
    "                                        'mirror': False,\n",
    "                                        'showgrid': False,\n",
    "                                        'showline': False,\n",
    "                                        'zeroline': False,\n",
    "                                        'showticklabels': False,\n",
    "                                        'ticks':\"\"})\n",
    "    # ~ print(fig)\n",
    "    fig['layout']['yaxis']['ticktext'] = fig['layout']['xaxis']['ticktext']\n",
    "    fig['layout']['yaxis']['tickvals'] = fig['layout']['xaxis']['tickvals']\n",
    "\n",
    "\n",
    "    #fig.show()\n",
    "\n",
    "    pyo.iplot(fig, filename='test')"
   ],
   "outputs": [
    {
     "output_type": "display_data",
     "data": {
      "text/html": [
       "        <script type=\"text/javascript\">\n",
       "        window.PlotlyConfig = {MathJaxConfig: 'local'};\n",
       "        if (window.MathJax) {MathJax.Hub.Config({SVG: {font: \"STIX-Web\"}});}\n",
       "        if (typeof require !== 'undefined') {\n",
       "        require.undef(\"plotly\");\n",
       "        requirejs.config({\n",
       "            paths: {\n",
       "                'plotly': ['https://cdn.plot.ly/plotly-2.2.0.min']\n",
       "            }\n",
       "        });\n",
       "        require(['plotly'], function(Plotly) {\n",
       "            window._Plotly = Plotly;\n",
       "        });\n",
       "        }\n",
       "        </script>\n",
       "        "
      ]
     },
     "metadata": {}
    }
   ],
   "metadata": {}
  },
  {
   "cell_type": "code",
   "execution_count": 282,
   "source": [
    "df_amine_with_names[df_amine_with_names['Chemical Abbreviation'] == 'AcNH3I']['_rxn_organic-inchikey']"
   ],
   "outputs": [
    {
     "output_type": "execute_result",
     "data": {
      "text/plain": [
       "1    GGYGJCFIYJVWIP-UHFFFAOYSA-N\n",
       "Name: _rxn_organic-inchikey, dtype: object"
      ]
     },
     "metadata": {},
     "execution_count": 282
    }
   ],
   "metadata": {}
  },
  {
   "cell_type": "markdown",
   "source": [
    "## Visualization"
   ],
   "metadata": {}
  },
  {
   "cell_type": "markdown",
   "source": [
    "### PCA "
   ],
   "metadata": {}
  },
  {
   "cell_type": "code",
   "execution_count": 41,
   "source": [
    "def apply_pca(df, n_components):\n",
    "    pca = PCA(n_components=n_components, svd_solver = 'auto')\n",
    "    principal_components=pca.fit_transform(df)\n",
    "    pca_columns = ['PCA_'+ str(n) for n in range(1,n_components+1)]\n",
    "    pca_df = pd.DataFrame(data = principal_components, columns = pca_columns)\n",
    "    return pca_df, pca\n"
   ],
   "outputs": [],
   "metadata": {}
  },
  {
   "cell_type": "code",
   "execution_count": 37,
   "source": [
    "def plot_3d_cluster(reduced_df, cluster_ids, name_color, method='PCA'):\n",
    "    reduced_df[name_color] = cluster_ids\n",
    "    reduced_df[name_color] = reduced_df[name_color].astype(str)\n",
    "    if method == 'PCA':\n",
    "        fig = px.scatter_3d(reduced_df, x='PCA_1', y='PCA_2', z='PCA_3',\n",
    "                    color=name_color)\n",
    "    else:\n",
    "        fig = px.scatter_3d(reduced_df, x='TSNE_1', y='TSNE_2', z='TSNE_3',\n",
    "            color=name_color)\n",
    "    fig.show()\n"
   ],
   "outputs": [],
   "metadata": {}
  },
  {
   "cell_type": "markdown",
   "source": [
    "Transformed amines to 3 components"
   ],
   "metadata": {}
  },
  {
   "cell_type": "code",
   "execution_count": 43,
   "source": [
    "amine_3_components_pca, pca = apply_pca(X, 3)"
   ],
   "outputs": [],
   "metadata": {}
  },
  {
   "cell_type": "code",
   "execution_count": 47,
   "source": [
    "import plotly.figure_factory as ff\n",
    "import scipy.cluster.hierarchy as sch\n",
    "import plotly.graph_objects as go\n",
    "\n",
    "#https://docs.scipy.org/doc/scipy/reference/generated/scipy.cluster.hierarchy.linkage.html dendogramMethod\n",
    "\n",
    "def plot_heap_map_with_dendogram(data, cols, rows, title, dendogramMethod='weighted'):\n",
    "    data_array = data\n",
    "    labels = cols\n",
    "    colorScale = 'default'\n",
    "\n",
    "    # Add upper dendogram\n",
    "    fig = ff.create_dendrogram(data.transpose(), orientation='bottom', linkagefun=lambda x: sch.linkage(x, method=dendogramMethod, optimal_ordering=True), labels=labels)\n",
    "    for i in range(len(fig['data'])):\n",
    "        fig['data'][i]['yaxis'] = 'y2'\n",
    "\n",
    "    # Create Side Dendrogram to aux calculation in heatmap\n",
    "    #dendro_side = ff.create_dendrogram(data_array, orientation='right', linkagefun=lambda x: sch.linkage(x, method=dendogramMethod, metric=distanceMethod,  optimal_ordering=True) )\n",
    "    dendro_side = ff.create_dendrogram(data.transpose(), orientation='right', linkagefun=lambda x: sch.linkage(x, method=dendogramMethod, optimal_ordering=True) )\n",
    "\n",
    "    for i in range(len(dendro_side['data'])):\n",
    "        dendro_side['data'][i]['xaxis'] = 'x2'\n",
    "   \n",
    "    # Delete side dendograms\n",
    "    # for data in dendro_side['data']:\n",
    "     #   fig.add_trace(data)\n",
    "    \n",
    "    # Create and add heatmap\n",
    "    dendro_leaves = dendro_side['layout']['yaxis']['ticktext']\n",
    "    dendro_leaves = list(map(int, dendro_leaves))\n",
    "    heat_data = data_array\n",
    "    heat_data = heat_data[:,dendro_leaves]\n",
    "    heatmap = go.Heatmap(\n",
    "        z = heat_data,\n",
    "        colorbar = {'len':0.8, 'nticks':15, 'title':'loadings'},\n",
    "        colorscale='Blackbody',\n",
    "    )\n",
    "    heatmap['y'] = [n for n in range(8)] \n",
    "    heatmap['x'] = fig['layout']['xaxis']['tickvals']\n",
    "   \n",
    "    fig.add_trace(heatmap)\n",
    "\n",
    "    fig.update_layout({'width':1200, 'height':800,\n",
    "                        'showlegend':False,\n",
    "                        'boxmode': 'group',\n",
    "                        })\n",
    "\n",
    "        # Edit xaxis\n",
    "    fig.update_layout(xaxis={'domain': [1, 1],\n",
    "                                    'mirror': False,\n",
    "                                    'showgrid': False,\n",
    "                                    'showline': False,\n",
    "                                    'zeroline': False,\n",
    "                                    'ticks':\"\"})\n",
    "    # Edit xaxis2\n",
    "    fig.update_layout(xaxis2={'domain': [1, .8],\n",
    "                                    'mirror': False,\n",
    "                                    'showgrid': False,\n",
    "                                    'showline': False,\n",
    "                                    'zeroline': False,\n",
    "                                    'showticklabels': False,\n",
    "                                    'ticks':\"\"})\n",
    "\n",
    "    # Edit yaxis\n",
    "      # Edit yaxis\n",
    "    fig.update_layout(yaxis={'domain': [0.1, 0.8],\n",
    "                                'mirror': False,\n",
    "                                'showgrid': False,\n",
    "                                'showline': False,\n",
    "                                'zeroline': False,\n",
    "                                'showticklabels': True,\n",
    "                                'tickmode':'array',\n",
    "                                'ticks': \"\",\n",
    "                                'title': 'Componente PCA'\n",
    "                        })\n",
    "    # Edit yaxis2\n",
    "    fig.update_layout(yaxis2={'domain':[0.8, 1],\n",
    "                            'mirror': False,\n",
    "                            'showgrid': False,\n",
    "                            'showline': False,\n",
    "                            'zeroline': False,\n",
    "                            'showticklabels': False,\n",
    "                            'ticks':\"\"})\n",
    "\n",
    "    fig.update_layout(title={\n",
    "                    'text': title,\n",
    "                    'y':0.9,\n",
    "                    'x':0.5,\n",
    "                    'xanchor': 'center',\n",
    "                    'yanchor': 'top'})\n",
    "\n",
    "    fig['layout']['yaxis']['ticktext'] = ['PCA '+str(n) for n in range(1,9)] \n",
    "    fig['layout']['yaxis']['tickvals'] = [n for n in range(0,8)] \n",
    "\n",
    "\n",
    "    fig.show()"
   ],
   "outputs": [],
   "metadata": {}
  },
  {
   "cell_type": "code",
   "execution_count": 63,
   "source": [
    "amine_3_components_pca, pca = apply_pca(X, 3)\n",
    "rows = [ \"PCA\"+str(x) for x in range(1,3)]\n",
    "plot_heap_map_with_dendogram(pca.components_, amine_df.columns.to_list(), rows, 'Propiedades físico-químicas')"
   ],
   "outputs": [
    {
     "output_type": "display_data",
     "data": {
      "text/html": [
       "<div>                            <div id=\"2f60e31d-d044-450d-aad9-9a8b878d19e1\" class=\"plotly-graph-div\" style=\"height:800px; width:1200px;\"></div>            <script type=\"text/javascript\">                require([\"plotly\"], function(Plotly) {                    window.PLOTLYENV=window.PLOTLYENV || {};                                    if (document.getElementById(\"2f60e31d-d044-450d-aad9-9a8b878d19e1\")) {                    Plotly.newPlot(                        \"2f60e31d-d044-450d-aad9-9a8b878d19e1\",                        [{\"hoverinfo\":\"text\",\"marker\":{\"color\":\"rgb(61,153,112)\"},\"mode\":\"lines\",\"type\":\"scatter\",\"x\":[15.0,15.0,25.0,25.0],\"xaxis\":\"x\",\"y\":[0.0,0.0,0.0,0.0],\"yaxis\":\"y2\"},{\"hoverinfo\":\"text\",\"marker\":{\"color\":\"rgb(61,153,112)\"},\"mode\":\"lines\",\"type\":\"scatter\",\"x\":[20.0,20.0,35.0,35.0],\"xaxis\":\"x\",\"y\":[0.0,7.757919228897728e-18,7.757919228897728e-18,0.0],\"yaxis\":\"y2\"},{\"hoverinfo\":\"text\",\"marker\":{\"color\":\"rgb(61,153,112)\"},\"mode\":\"lines\",\"type\":\"scatter\",\"x\":[5.0,5.0,27.5,27.5],\"xaxis\":\"x\",\"y\":[0.0,0.004302779760274385,0.004302779760274385,7.757919228897728e-18],\"yaxis\":\"y2\"},{\"hoverinfo\":\"text\",\"marker\":{\"color\":\"rgb(61,153,112)\"},\"mode\":\"lines\",\"type\":\"scatter\",\"x\":[55.0,55.0,65.0,65.0],\"xaxis\":\"x\",\"y\":[0.0,2.943923360032078e-17,2.943923360032078e-17,0.0],\"yaxis\":\"y2\"},{\"hoverinfo\":\"text\",\"marker\":{\"color\":\"rgb(61,153,112)\"},\"mode\":\"lines\",\"type\":\"scatter\",\"x\":[60.0,60.0,75.0,75.0],\"xaxis\":\"x\",\"y\":[2.943923360032078e-17,5.7530844812208e-17,5.7530844812208e-17,0.0],\"yaxis\":\"y2\"},{\"hoverinfo\":\"text\",\"marker\":{\"color\":\"rgb(61,153,112)\"},\"mode\":\"lines\",\"type\":\"scatter\",\"x\":[45.0,45.0,67.5,67.5],\"xaxis\":\"x\",\"y\":[0.0,0.011519255991458324,0.011519255991458324,5.7530844812208e-17],\"yaxis\":\"y2\"},{\"hoverinfo\":\"text\",\"marker\":{\"color\":\"rgb(61,153,112)\"},\"mode\":\"lines\",\"type\":\"scatter\",\"x\":[16.25,16.25,56.25,56.25],\"xaxis\":\"x\",\"y\":[0.004302779760274385,0.026168219876123118,0.026168219876123118,0.011519255991458324],\"yaxis\":\"y2\"},{\"hoverinfo\":\"text\",\"marker\":{\"color\":\"rgb(255,65,54)\"},\"mode\":\"lines\",\"type\":\"scatter\",\"x\":[105.0,105.0,115.0,115.0],\"xaxis\":\"x\",\"y\":[0.0,0.048883898097309246,0.048883898097309246,0.0],\"yaxis\":\"y2\"},{\"hoverinfo\":\"text\",\"marker\":{\"color\":\"rgb(255,65,54)\"},\"mode\":\"lines\",\"type\":\"scatter\",\"x\":[135.0,135.0,145.0,145.0],\"xaxis\":\"x\",\"y\":[0.0,0.009306408152300976,0.009306408152300976,0.0],\"yaxis\":\"y2\"},{\"hoverinfo\":\"text\",\"marker\":{\"color\":\"rgb(255,65,54)\"},\"mode\":\"lines\",\"type\":\"scatter\",\"x\":[125.0,125.0,140.0,140.0],\"xaxis\":\"x\",\"y\":[0.0,0.026208956611792907,0.026208956611792907,0.009306408152300976],\"yaxis\":\"y2\"},{\"hoverinfo\":\"text\",\"marker\":{\"color\":\"rgb(255,65,54)\"},\"mode\":\"lines\",\"type\":\"scatter\",\"x\":[155.0,155.0,165.0,165.0],\"xaxis\":\"x\",\"y\":[0.0,0.0,0.0,0.0],\"yaxis\":\"y2\"},{\"hoverinfo\":\"text\",\"marker\":{\"color\":\"rgb(255,65,54)\"},\"mode\":\"lines\",\"type\":\"scatter\",\"x\":[160.0,160.0,175.0,175.0],\"xaxis\":\"x\",\"y\":[0.0,0.007786134423517878,0.007786134423517878,0.0],\"yaxis\":\"y2\"},{\"hoverinfo\":\"text\",\"marker\":{\"color\":\"rgb(255,65,54)\"},\"mode\":\"lines\",\"type\":\"scatter\",\"x\":[185.0,185.0,195.0,195.0],\"xaxis\":\"x\",\"y\":[0.0,0.007859697170418066,0.007859697170418066,0.0],\"yaxis\":\"y2\"},{\"hoverinfo\":\"text\",\"marker\":{\"color\":\"rgb(255,65,54)\"},\"mode\":\"lines\",\"type\":\"scatter\",\"x\":[190.0,190.0,205.0,205.0],\"xaxis\":\"x\",\"y\":[0.007859697170418066,0.024692861886223962,0.024692861886223962,0.0],\"yaxis\":\"y2\"},{\"hoverinfo\":\"text\",\"marker\":{\"color\":\"rgb(255,65,54)\"},\"mode\":\"lines\",\"type\":\"scatter\",\"x\":[167.5,167.5,197.5,197.5],\"xaxis\":\"x\",\"y\":[0.007786134423517878,0.029984836417728648,0.029984836417728648,0.024692861886223962],\"yaxis\":\"y2\"},{\"hoverinfo\":\"text\",\"marker\":{\"color\":\"rgb(255,65,54)\"},\"mode\":\"lines\",\"type\":\"scatter\",\"x\":[132.5,132.5,182.5,182.5],\"xaxis\":\"x\",\"y\":[0.026208956611792907,0.04575766720347636,0.04575766720347636,0.029984836417728648],\"yaxis\":\"y2\"},{\"hoverinfo\":\"text\",\"marker\":{\"color\":\"rgb(255,65,54)\"},\"mode\":\"lines\",\"type\":\"scatter\",\"x\":[110.0,110.0,157.5,157.5],\"xaxis\":\"x\",\"y\":[0.048883898097309246,0.06058343191164624,0.06058343191164624,0.04575766720347636],\"yaxis\":\"y2\"},{\"hoverinfo\":\"text\",\"marker\":{\"color\":\"rgb(255,65,54)\"},\"mode\":\"lines\",\"type\":\"scatter\",\"x\":[215.0,215.0,225.0,225.0],\"xaxis\":\"x\",\"y\":[0.0,0.03834022567041482,0.03834022567041482,0.0],\"yaxis\":\"y2\"},{\"hoverinfo\":\"text\",\"marker\":{\"color\":\"rgb(255,65,54)\"},\"mode\":\"lines\",\"type\":\"scatter\",\"x\":[133.75,133.75,220.0,220.0],\"xaxis\":\"x\",\"y\":[0.06058343191164624,0.06177155192670532,0.06177155192670532,0.03834022567041482],\"yaxis\":\"y2\"},{\"hoverinfo\":\"text\",\"marker\":{\"color\":\"rgb(255,65,54)\"},\"mode\":\"lines\",\"type\":\"scatter\",\"x\":[95.0,95.0,176.875,176.875],\"xaxis\":\"x\",\"y\":[0.0,0.08669533818464112,0.08669533818464112,0.06177155192670532],\"yaxis\":\"y2\"},{\"hoverinfo\":\"text\",\"marker\":{\"color\":\"rgb(255,65,54)\"},\"mode\":\"lines\",\"type\":\"scatter\",\"x\":[85.0,85.0,135.9375,135.9375],\"xaxis\":\"x\",\"y\":[0.0,0.12668587751337101,0.12668587751337101,0.08669533818464112],\"yaxis\":\"y2\"},{\"hoverinfo\":\"text\",\"marker\":{\"color\":\"rgb(0,116,217)\"},\"mode\":\"lines\",\"type\":\"scatter\",\"x\":[36.25,36.25,110.46875,110.46875],\"xaxis\":\"x\",\"y\":[0.026168219876123118,0.21974971773352578,0.21974971773352578,0.12668587751337101],\"yaxis\":\"y2\"},{\"hoverinfo\":\"text\",\"marker\":{\"color\":\"rgb(35,205,205)\"},\"mode\":\"lines\",\"type\":\"scatter\",\"x\":[245.0,245.0,255.0,255.0],\"xaxis\":\"x\",\"y\":[0.0,0.0,0.0,0.0],\"yaxis\":\"y2\"},{\"hoverinfo\":\"text\",\"marker\":{\"color\":\"rgb(35,205,205)\"},\"mode\":\"lines\",\"type\":\"scatter\",\"x\":[250.0,250.0,265.0,265.0],\"xaxis\":\"x\",\"y\":[0.0,0.06664592639290451,0.06664592639290451,0.0],\"yaxis\":\"y2\"},{\"hoverinfo\":\"text\",\"marker\":{\"color\":\"rgb(35,205,205)\"},\"mode\":\"lines\",\"type\":\"scatter\",\"x\":[295.0,295.0,305.0,305.0],\"xaxis\":\"x\",\"y\":[0.0,0.0,0.0,0.0],\"yaxis\":\"y2\"},{\"hoverinfo\":\"text\",\"marker\":{\"color\":\"rgb(35,205,205)\"},\"mode\":\"lines\",\"type\":\"scatter\",\"x\":[285.0,285.0,300.0,300.0],\"xaxis\":\"x\",\"y\":[0.0,0.008998322753498883,0.008998322753498883,0.0],\"yaxis\":\"y2\"},{\"hoverinfo\":\"text\",\"marker\":{\"color\":\"rgb(35,205,205)\"},\"mode\":\"lines\",\"type\":\"scatter\",\"x\":[325.0,325.0,335.0,335.0],\"xaxis\":\"x\",\"y\":[0.0,5.419449386414209e-17,5.419449386414209e-17,0.0],\"yaxis\":\"y2\"},{\"hoverinfo\":\"text\",\"marker\":{\"color\":\"rgb(35,205,205)\"},\"mode\":\"lines\",\"type\":\"scatter\",\"x\":[330.0,330.0,345.0,345.0],\"xaxis\":\"x\",\"y\":[5.419449386414209e-17,0.00012774622740041076,0.00012774622740041076,0.0],\"yaxis\":\"y2\"},{\"hoverinfo\":\"text\",\"marker\":{\"color\":\"rgb(35,205,205)\"},\"mode\":\"lines\",\"type\":\"scatter\",\"x\":[315.0,315.0,337.5,337.5],\"xaxis\":\"x\",\"y\":[0.0,0.005374681425094166,0.005374681425094166,0.00012774622740041076],\"yaxis\":\"y2\"},{\"hoverinfo\":\"text\",\"marker\":{\"color\":\"rgb(35,205,205)\"},\"mode\":\"lines\",\"type\":\"scatter\",\"x\":[292.5,292.5,326.25,326.25],\"xaxis\":\"x\",\"y\":[0.008998322753498883,0.01264589864026724,0.01264589864026724,0.005374681425094166],\"yaxis\":\"y2\"},{\"hoverinfo\":\"text\",\"marker\":{\"color\":\"rgb(35,205,205)\"},\"mode\":\"lines\",\"type\":\"scatter\",\"x\":[275.0,275.0,309.375,309.375],\"xaxis\":\"x\",\"y\":[0.0,0.03652735588376612,0.03652735588376612,0.01264589864026724],\"yaxis\":\"y2\"},{\"hoverinfo\":\"text\",\"marker\":{\"color\":\"rgb(35,205,205)\"},\"mode\":\"lines\",\"type\":\"scatter\",\"x\":[292.1875,292.1875,355.0,355.0],\"xaxis\":\"x\",\"y\":[0.03652735588376612,0.08919916326542685,0.08919916326542685,0.0],\"yaxis\":\"y2\"},{\"hoverinfo\":\"text\",\"marker\":{\"color\":\"rgb(35,205,205)\"},\"mode\":\"lines\",\"type\":\"scatter\",\"x\":[257.5,257.5,323.59375,323.59375],\"xaxis\":\"x\",\"y\":[0.06664592639290451,0.11805975700205923,0.11805975700205923,0.08919916326542685],\"yaxis\":\"y2\"},{\"hoverinfo\":\"text\",\"marker\":{\"color\":\"rgb(35,205,205)\"},\"mode\":\"lines\",\"type\":\"scatter\",\"x\":[365.0,365.0,375.0,375.0],\"xaxis\":\"x\",\"y\":[0.0,0.02156124052119407,0.02156124052119407,0.0],\"yaxis\":\"y2\"},{\"hoverinfo\":\"text\",\"marker\":{\"color\":\"rgb(35,205,205)\"},\"mode\":\"lines\",\"type\":\"scatter\",\"x\":[370.0,370.0,385.0,385.0],\"xaxis\":\"x\",\"y\":[0.02156124052119407,0.07215742396183127,0.07215742396183127,0.0],\"yaxis\":\"y2\"},{\"hoverinfo\":\"text\",\"marker\":{\"color\":\"rgb(35,205,205)\"},\"mode\":\"lines\",\"type\":\"scatter\",\"x\":[290.546875,290.546875,377.5,377.5],\"xaxis\":\"x\",\"y\":[0.11805975700205923,0.1326274864028284,0.1326274864028284,0.07215742396183127],\"yaxis\":\"y2\"},{\"hoverinfo\":\"text\",\"marker\":{\"color\":\"rgb(35,205,205)\"},\"mode\":\"lines\",\"type\":\"scatter\",\"x\":[235.0,235.0,334.0234375,334.0234375],\"xaxis\":\"x\",\"y\":[0.0,0.2074471897651723,0.2074471897651723,0.1326274864028284],\"yaxis\":\"y2\"},{\"hoverinfo\":\"text\",\"marker\":{\"color\":\"rgb(133,20,75)\"},\"mode\":\"lines\",\"type\":\"scatter\",\"x\":[425.0,425.0,435.0,435.0],\"xaxis\":\"x\",\"y\":[0.0,0.0,0.0,0.0],\"yaxis\":\"y2\"},{\"hoverinfo\":\"text\",\"marker\":{\"color\":\"rgb(133,20,75)\"},\"mode\":\"lines\",\"type\":\"scatter\",\"x\":[430.0,430.0,445.0,445.0],\"xaxis\":\"x\",\"y\":[0.0,0.0,0.0,0.0],\"yaxis\":\"y2\"},{\"hoverinfo\":\"text\",\"marker\":{\"color\":\"rgb(133,20,75)\"},\"mode\":\"lines\",\"type\":\"scatter\",\"x\":[415.0,415.0,437.5,437.5],\"xaxis\":\"x\",\"y\":[0.0,7.750473670349475e-18,7.750473670349475e-18,0.0],\"yaxis\":\"y2\"},{\"hoverinfo\":\"text\",\"marker\":{\"color\":\"rgb(133,20,75)\"},\"mode\":\"lines\",\"type\":\"scatter\",\"x\":[465.0,465.0,475.0,475.0],\"xaxis\":\"x\",\"y\":[0.0,4.510335601929595e-18,4.510335601929595e-18,0.0],\"yaxis\":\"y2\"},{\"hoverinfo\":\"text\",\"marker\":{\"color\":\"rgb(133,20,75)\"},\"mode\":\"lines\",\"type\":\"scatter\",\"x\":[455.0,455.0,470.0,470.0],\"xaxis\":\"x\",\"y\":[0.0,7.555505815373385e-18,7.555505815373385e-18,4.510335601929595e-18],\"yaxis\":\"y2\"},{\"hoverinfo\":\"text\",\"marker\":{\"color\":\"rgb(133,20,75)\"},\"mode\":\"lines\",\"type\":\"scatter\",\"x\":[462.5,462.5,485.0,485.0],\"xaxis\":\"x\",\"y\":[7.555505815373385e-18,1.1918582893217262e-17,1.1918582893217262e-17,0.0],\"yaxis\":\"y2\"},{\"hoverinfo\":\"text\",\"marker\":{\"color\":\"rgb(133,20,75)\"},\"mode\":\"lines\",\"type\":\"scatter\",\"x\":[426.25,426.25,473.75,473.75],\"xaxis\":\"x\",\"y\":[7.750473670349475e-18,1.465241527689143e-17,1.465241527689143e-17,1.1918582893217262e-17],\"yaxis\":\"y2\"},{\"hoverinfo\":\"text\",\"marker\":{\"color\":\"rgb(133,20,75)\"},\"mode\":\"lines\",\"type\":\"scatter\",\"x\":[405.0,405.0,450.0,450.0],\"xaxis\":\"x\",\"y\":[0.0,3.764942532317751e-17,3.764942532317751e-17,1.465241527689143e-17],\"yaxis\":\"y2\"},{\"hoverinfo\":\"text\",\"marker\":{\"color\":\"rgb(133,20,75)\"},\"mode\":\"lines\",\"type\":\"scatter\",\"x\":[427.5,427.5,495.0,495.0],\"xaxis\":\"x\",\"y\":[3.764942532317751e-17,0.04180949319452078,0.04180949319452078,0.0],\"yaxis\":\"y2\"},{\"hoverinfo\":\"text\",\"marker\":{\"color\":\"rgb(133,20,75)\"},\"mode\":\"lines\",\"type\":\"scatter\",\"x\":[515.0,515.0,525.0,525.0],\"xaxis\":\"x\",\"y\":[0.0,0.0,0.0,0.0],\"yaxis\":\"y2\"},{\"hoverinfo\":\"text\",\"marker\":{\"color\":\"rgb(133,20,75)\"},\"mode\":\"lines\",\"type\":\"scatter\",\"x\":[520.0,520.0,535.0,535.0],\"xaxis\":\"x\",\"y\":[0.0,4.119739996032822e-17,4.119739996032822e-17,0.0],\"yaxis\":\"y2\"},{\"hoverinfo\":\"text\",\"marker\":{\"color\":\"rgb(133,20,75)\"},\"mode\":\"lines\",\"type\":\"scatter\",\"x\":[505.0,505.0,527.5,527.5],\"xaxis\":\"x\",\"y\":[0.0,0.031304836307738795,0.031304836307738795,4.119739996032822e-17],\"yaxis\":\"y2\"},{\"hoverinfo\":\"text\",\"marker\":{\"color\":\"rgb(133,20,75)\"},\"mode\":\"lines\",\"type\":\"scatter\",\"x\":[461.25,461.25,516.25,516.25],\"xaxis\":\"x\",\"y\":[0.04180949319452078,0.0662477717003898,0.0662477717003898,0.031304836307738795],\"yaxis\":\"y2\"},{\"hoverinfo\":\"text\",\"marker\":{\"color\":\"rgb(133,20,75)\"},\"mode\":\"lines\",\"type\":\"scatter\",\"x\":[395.0,395.0,488.75,488.75],\"xaxis\":\"x\",\"y\":[0.0,0.1562696570889329,0.1562696570889329,0.0662477717003898],\"yaxis\":\"y2\"},{\"hoverinfo\":\"text\",\"marker\":{\"color\":\"rgb(0,116,217)\"},\"mode\":\"lines\",\"type\":\"scatter\",\"x\":[284.51171875,284.51171875,441.875,441.875],\"xaxis\":\"x\",\"y\":[0.2074471897651723,0.21584348940111345,0.21584348940111345,0.1562696570889329],\"yaxis\":\"y2\"},{\"hoverinfo\":\"text\",\"marker\":{\"color\":\"rgb(255,220,0)\"},\"mode\":\"lines\",\"type\":\"scatter\",\"x\":[575.0,575.0,585.0,585.0],\"xaxis\":\"x\",\"y\":[0.0,5.887846720064156e-17,5.887846720064156e-17,0.0],\"yaxis\":\"y2\"},{\"hoverinfo\":\"text\",\"marker\":{\"color\":\"rgb(255,220,0)\"},\"mode\":\"lines\",\"type\":\"scatter\",\"x\":[565.0,565.0,580.0,580.0],\"xaxis\":\"x\",\"y\":[0.0,0.022494725402387665,0.022494725402387665,5.887846720064156e-17],\"yaxis\":\"y2\"},{\"hoverinfo\":\"text\",\"marker\":{\"color\":\"rgb(255,220,0)\"},\"mode\":\"lines\",\"type\":\"scatter\",\"x\":[555.0,555.0,572.5,572.5],\"xaxis\":\"x\",\"y\":[0.0,0.03454470666460076,0.03454470666460076,0.022494725402387665],\"yaxis\":\"y2\"},{\"hoverinfo\":\"text\",\"marker\":{\"color\":\"rgb(255,220,0)\"},\"mode\":\"lines\",\"type\":\"scatter\",\"x\":[563.75,563.75,595.0,595.0],\"xaxis\":\"x\",\"y\":[0.03454470666460076,0.03951715829807731,0.03951715829807731,0.0],\"yaxis\":\"y2\"},{\"hoverinfo\":\"text\",\"marker\":{\"color\":\"rgb(255,220,0)\"},\"mode\":\"lines\",\"type\":\"scatter\",\"x\":[545.0,545.0,579.375,579.375],\"xaxis\":\"x\",\"y\":[0.0,0.07410247980374274,0.07410247980374274,0.03951715829807731],\"yaxis\":\"y2\"},{\"hoverinfo\":\"text\",\"marker\":{\"color\":\"rgb(255,220,0)\"},\"mode\":\"lines\",\"type\":\"scatter\",\"x\":[605.0,605.0,615.0,615.0],\"xaxis\":\"x\",\"y\":[0.0,0.0,0.0,0.0],\"yaxis\":\"y2\"},{\"hoverinfo\":\"text\",\"marker\":{\"color\":\"rgb(255,220,0)\"},\"mode\":\"lines\",\"type\":\"scatter\",\"x\":[610.0,610.0,625.0,625.0],\"xaxis\":\"x\",\"y\":[0.0,0.003849971330941613,0.003849971330941613,0.0],\"yaxis\":\"y2\"},{\"hoverinfo\":\"text\",\"marker\":{\"color\":\"rgb(255,220,0)\"},\"mode\":\"lines\",\"type\":\"scatter\",\"x\":[635.0,635.0,645.0,645.0],\"xaxis\":\"x\",\"y\":[0.0,0.0,0.0,0.0],\"yaxis\":\"y2\"},{\"hoverinfo\":\"text\",\"marker\":{\"color\":\"rgb(255,220,0)\"},\"mode\":\"lines\",\"type\":\"scatter\",\"x\":[617.5,617.5,640.0,640.0],\"xaxis\":\"x\",\"y\":[0.003849971330941613,0.0495167266001341,0.0495167266001341,0.0],\"yaxis\":\"y2\"},{\"hoverinfo\":\"text\",\"marker\":{\"color\":\"rgb(255,220,0)\"},\"mode\":\"lines\",\"type\":\"scatter\",\"x\":[628.75,628.75,655.0,655.0],\"xaxis\":\"x\",\"y\":[0.0495167266001341,0.0800927674666042,0.0800927674666042,0.0],\"yaxis\":\"y2\"},{\"hoverinfo\":\"text\",\"marker\":{\"color\":\"rgb(255,220,0)\"},\"mode\":\"lines\",\"type\":\"scatter\",\"x\":[562.1875,562.1875,641.875,641.875],\"xaxis\":\"x\",\"y\":[0.07410247980374274,0.11503055206231416,0.11503055206231416,0.0800927674666042],\"yaxis\":\"y2\"},{\"hoverinfo\":\"text\",\"marker\":{\"color\":\"rgb(255,220,0)\"},\"mode\":\"lines\",\"type\":\"scatter\",\"x\":[602.03125,602.03125,665.0,665.0],\"xaxis\":\"x\",\"y\":[0.11503055206231416,0.1904557040198081,0.1904557040198081,0.0],\"yaxis\":\"y2\"},{\"hoverinfo\":\"text\",\"marker\":{\"color\":\"rgb(0,116,217)\"},\"mode\":\"lines\",\"type\":\"scatter\",\"x\":[363.193359375,363.193359375,633.515625,633.515625],\"xaxis\":\"x\",\"y\":[0.21584348940111345,0.29909573902455855,0.29909573902455855,0.1904557040198081],\"yaxis\":\"y2\"},{\"hoverinfo\":\"text\",\"marker\":{\"color\":\"rgb(0,116,217)\"},\"mode\":\"lines\",\"type\":\"scatter\",\"x\":[73.359375,73.359375,498.3544921875,498.3544921875],\"xaxis\":\"x\",\"y\":[0.21974971773352578,0.30736191486214937,0.30736191486214937,0.29909573902455855],\"yaxis\":\"y2\"},{\"colorbar\":{\"len\":0.8,\"nticks\":15,\"title\":{\"text\":\"loadings\"}},\"colorscale\":[[0.0,\"rgb(0,0,0)\"],[0.25,\"rgb(230,0,0)\"],[0.5,\"rgb(230,210,0)\"],[0.75,\"rgb(255,255,255)\"],[1.0,\"rgb(160,200,255)\"]],\"type\":\"heatmap\",\"x\":[5,15,25,35,45,55,65,75,85,95,105,115,125,135,145,155,165,175,185,195,205,215,225,235,245,255,265,275,285,295,305,315,325,335,345,355,365,375,385,395,405,415,425,435,445,455,465,475,485,495,505,515,525,535,545,555,565,575,585,595,605,615,625,635,645,655,665],\"y\":[0,1,2,3,4,5,6,7],\"z\":[[0.02576177102300803,0.029824608308294816,0.029824608308294816,0.029824608308294823,0.048614916034584385,0.044070905004111996,0.04407090500411202,0.04407090500411201,0.1406322565228361,0.18444714563437448,0.15652023543342422,0.16430542864945086,0.18861183650511748,0.18721918073801772,0.18020501488113946,0.17892425811877924,0.17892425811877924,0.18061330283058852,0.1916508518828029,0.19183039590754197,0.18953091700224098,0.14674678733479107,0.12802250781381533,0.0867703001709518,0.15482986752455072,0.15482986752455072,0.18017595550686488,0.16778994941807407,0.18003947706407855,0.17933932596387994,0.17933932596387994,0.19004513797114211,0.1915753605594663,0.19157536055946628,0.19157701503010044,0.16403993264878808,0.13905094871169157,0.13301417855533107,0.0908596043784008,-0.01929286056278314,6.375443034299506e-18,3.821425447584413e-18,-0.0,-0.0,-0.0,-9.628636823845738e-18,-7.619718205270746e-18,-3.76017164031808e-18,2.7007522048616464e-18,0.014302732284612232,-0.030994262284490415,-0.05728404071226961,-0.05728404071226961,-0.05728404071226963,-0.08884680007947746,-0.061100978151762464,-0.08344727661498465,-0.09991311295238572,-0.09991311295238574,-0.0817194365654243,-0.08884558223431224,-0.08884558223431224,-0.09191844540175541,-0.09253166906063211,-0.09253166906063211,-0.055939106113896124,-0.060929345451513066],[0.30813313186259406,0.30936318178746647,0.30936318178746647,0.30936318178746647,0.2961279744869278,0.2900699730232793,0.2900699730232793,0.29006997302327936,0.18523314242332437,0.0970880767281555,0.017799291800513567,0.0659641205960864,0.04550660476715198,0.0427501184045375,0.044180599456278107,0.011249294164269244,0.011249294164269244,0.0045034717981824205,0.011508881484371293,0.007838094721762025,-0.014653031159673105,0.04951268291715403,0.05023930799320987,-0.02613941473702945,-0.1234592760946075,-0.1234592760946075,-0.07936812961933133,-0.022108998202654065,-0.04335898590401824,-0.036936756679605366,-0.036936756679605366,-0.03819210751087207,-0.0414523491618983,-0.04145234916189834,-0.04157559867580835,-0.1005628769172826,-0.19122093435729715,-0.17211890257479232,-0.16556499739016112,-0.07388103889681599,3.23673428958069e-17,2.59648384741094e-18,0.0,0.0,0.0,-4.621136129757086e-18,-1.1154421330442543e-17,-8.869018254394194e-18,-1.1580649868267942e-17,0.03315311847989961,0.0559830476829217,0.04448140035760785,0.04448140035760785,0.044481400357607885,-0.05502777909028656,-0.04054024899524916,-0.03907436326018004,-0.05419918178903689,-0.054199181789036904,-0.07621420290485253,-0.006120679303414121,-0.006120679303414121,-0.003828195628939979,0.0353530544819998,0.0353530544819998,0.0706197162359428,0.15466505346580908],[0.00578233776379802,0.006485362685853934,0.006485362685853934,0.006485362685853938,0.00965333673366011,0.018333534923685887,0.018333534923685908,0.018333534923685897,0.06722570949437501,0.03187866321727243,0.11758195444329277,0.11455284122810837,0.0624000367318362,0.08490737698460113,0.09085417729989914,0.08756045723896329,0.08756045723896329,0.08405832962452632,0.06686687014725176,0.05991935777969812,0.06215691114920143,0.08296940663705141,0.04952024705302672,-0.12898218079651402,-0.05886880335142278,-0.05886880335142278,-0.015796467319382695,0.02467699457158037,0.05535847754920637,0.049094726867536194,0.049094726867536194,0.050988225615983845,0.04703382355642939,0.04703382355642941,0.04706737826791526,0.09063583296139985,0.07844624726484131,0.07047399032767279,0.021177710419598508,0.0964144979339354,9.045761663870384e-18,6.222927067985676e-18,-0.0,-0.0,-0.0,8.216818405154234e-18,5.713977572834515e-18,5.240733095862591e-18,9.539197078442345e-18,-0.021079286169961502,-0.022151735592258526,-0.009639644029426298,-0.009639644029426298,-0.009639644029426315,0.19532374752895465,0.2667781257343078,0.2546974586866909,0.2522218235948619,0.25222182359486195,0.2713858810034936,0.2869497705676957,0.2869497705676957,0.28730234652477876,0.2585239583606278,0.2585239583606278,0.22899468282792448,0.15161738993941165]]}],                        {\"autosize\":false,\"boxmode\":\"group\",\"height\":800,\"hovermode\":\"closest\",\"showlegend\":false,\"template\":{\"data\":{\"bar\":[{\"error_x\":{\"color\":\"#2a3f5f\"},\"error_y\":{\"color\":\"#2a3f5f\"},\"marker\":{\"line\":{\"color\":\"#E5ECF6\",\"width\":0.5},\"pattern\":{\"fillmode\":\"overlay\",\"size\":10,\"solidity\":0.2}},\"type\":\"bar\"}],\"barpolar\":[{\"marker\":{\"line\":{\"color\":\"#E5ECF6\",\"width\":0.5},\"pattern\":{\"fillmode\":\"overlay\",\"size\":10,\"solidity\":0.2}},\"type\":\"barpolar\"}],\"carpet\":[{\"aaxis\":{\"endlinecolor\":\"#2a3f5f\",\"gridcolor\":\"white\",\"linecolor\":\"white\",\"minorgridcolor\":\"white\",\"startlinecolor\":\"#2a3f5f\"},\"baxis\":{\"endlinecolor\":\"#2a3f5f\",\"gridcolor\":\"white\",\"linecolor\":\"white\",\"minorgridcolor\":\"white\",\"startlinecolor\":\"#2a3f5f\"},\"type\":\"carpet\"}],\"choropleth\":[{\"colorbar\":{\"outlinewidth\":0,\"ticks\":\"\"},\"type\":\"choropleth\"}],\"contour\":[{\"colorbar\":{\"outlinewidth\":0,\"ticks\":\"\"},\"colorscale\":[[0.0,\"#0d0887\"],[0.1111111111111111,\"#46039f\"],[0.2222222222222222,\"#7201a8\"],[0.3333333333333333,\"#9c179e\"],[0.4444444444444444,\"#bd3786\"],[0.5555555555555556,\"#d8576b\"],[0.6666666666666666,\"#ed7953\"],[0.7777777777777778,\"#fb9f3a\"],[0.8888888888888888,\"#fdca26\"],[1.0,\"#f0f921\"]],\"type\":\"contour\"}],\"contourcarpet\":[{\"colorbar\":{\"outlinewidth\":0,\"ticks\":\"\"},\"type\":\"contourcarpet\"}],\"heatmap\":[{\"colorbar\":{\"outlinewidth\":0,\"ticks\":\"\"},\"colorscale\":[[0.0,\"#0d0887\"],[0.1111111111111111,\"#46039f\"],[0.2222222222222222,\"#7201a8\"],[0.3333333333333333,\"#9c179e\"],[0.4444444444444444,\"#bd3786\"],[0.5555555555555556,\"#d8576b\"],[0.6666666666666666,\"#ed7953\"],[0.7777777777777778,\"#fb9f3a\"],[0.8888888888888888,\"#fdca26\"],[1.0,\"#f0f921\"]],\"type\":\"heatmap\"}],\"heatmapgl\":[{\"colorbar\":{\"outlinewidth\":0,\"ticks\":\"\"},\"colorscale\":[[0.0,\"#0d0887\"],[0.1111111111111111,\"#46039f\"],[0.2222222222222222,\"#7201a8\"],[0.3333333333333333,\"#9c179e\"],[0.4444444444444444,\"#bd3786\"],[0.5555555555555556,\"#d8576b\"],[0.6666666666666666,\"#ed7953\"],[0.7777777777777778,\"#fb9f3a\"],[0.8888888888888888,\"#fdca26\"],[1.0,\"#f0f921\"]],\"type\":\"heatmapgl\"}],\"histogram\":[{\"marker\":{\"pattern\":{\"fillmode\":\"overlay\",\"size\":10,\"solidity\":0.2}},\"type\":\"histogram\"}],\"histogram2d\":[{\"colorbar\":{\"outlinewidth\":0,\"ticks\":\"\"},\"colorscale\":[[0.0,\"#0d0887\"],[0.1111111111111111,\"#46039f\"],[0.2222222222222222,\"#7201a8\"],[0.3333333333333333,\"#9c179e\"],[0.4444444444444444,\"#bd3786\"],[0.5555555555555556,\"#d8576b\"],[0.6666666666666666,\"#ed7953\"],[0.7777777777777778,\"#fb9f3a\"],[0.8888888888888888,\"#fdca26\"],[1.0,\"#f0f921\"]],\"type\":\"histogram2d\"}],\"histogram2dcontour\":[{\"colorbar\":{\"outlinewidth\":0,\"ticks\":\"\"},\"colorscale\":[[0.0,\"#0d0887\"],[0.1111111111111111,\"#46039f\"],[0.2222222222222222,\"#7201a8\"],[0.3333333333333333,\"#9c179e\"],[0.4444444444444444,\"#bd3786\"],[0.5555555555555556,\"#d8576b\"],[0.6666666666666666,\"#ed7953\"],[0.7777777777777778,\"#fb9f3a\"],[0.8888888888888888,\"#fdca26\"],[1.0,\"#f0f921\"]],\"type\":\"histogram2dcontour\"}],\"mesh3d\":[{\"colorbar\":{\"outlinewidth\":0,\"ticks\":\"\"},\"type\":\"mesh3d\"}],\"parcoords\":[{\"line\":{\"colorbar\":{\"outlinewidth\":0,\"ticks\":\"\"}},\"type\":\"parcoords\"}],\"pie\":[{\"automargin\":true,\"type\":\"pie\"}],\"scatter\":[{\"marker\":{\"colorbar\":{\"outlinewidth\":0,\"ticks\":\"\"}},\"type\":\"scatter\"}],\"scatter3d\":[{\"line\":{\"colorbar\":{\"outlinewidth\":0,\"ticks\":\"\"}},\"marker\":{\"colorbar\":{\"outlinewidth\":0,\"ticks\":\"\"}},\"type\":\"scatter3d\"}],\"scattercarpet\":[{\"marker\":{\"colorbar\":{\"outlinewidth\":0,\"ticks\":\"\"}},\"type\":\"scattercarpet\"}],\"scattergeo\":[{\"marker\":{\"colorbar\":{\"outlinewidth\":0,\"ticks\":\"\"}},\"type\":\"scattergeo\"}],\"scattergl\":[{\"marker\":{\"colorbar\":{\"outlinewidth\":0,\"ticks\":\"\"}},\"type\":\"scattergl\"}],\"scattermapbox\":[{\"marker\":{\"colorbar\":{\"outlinewidth\":0,\"ticks\":\"\"}},\"type\":\"scattermapbox\"}],\"scatterpolar\":[{\"marker\":{\"colorbar\":{\"outlinewidth\":0,\"ticks\":\"\"}},\"type\":\"scatterpolar\"}],\"scatterpolargl\":[{\"marker\":{\"colorbar\":{\"outlinewidth\":0,\"ticks\":\"\"}},\"type\":\"scatterpolargl\"}],\"scatterternary\":[{\"marker\":{\"colorbar\":{\"outlinewidth\":0,\"ticks\":\"\"}},\"type\":\"scatterternary\"}],\"surface\":[{\"colorbar\":{\"outlinewidth\":0,\"ticks\":\"\"},\"colorscale\":[[0.0,\"#0d0887\"],[0.1111111111111111,\"#46039f\"],[0.2222222222222222,\"#7201a8\"],[0.3333333333333333,\"#9c179e\"],[0.4444444444444444,\"#bd3786\"],[0.5555555555555556,\"#d8576b\"],[0.6666666666666666,\"#ed7953\"],[0.7777777777777778,\"#fb9f3a\"],[0.8888888888888888,\"#fdca26\"],[1.0,\"#f0f921\"]],\"type\":\"surface\"}],\"table\":[{\"cells\":{\"fill\":{\"color\":\"#EBF0F8\"},\"line\":{\"color\":\"white\"}},\"header\":{\"fill\":{\"color\":\"#C8D4E3\"},\"line\":{\"color\":\"white\"}},\"type\":\"table\"}]},\"layout\":{\"annotationdefaults\":{\"arrowcolor\":\"#2a3f5f\",\"arrowhead\":0,\"arrowwidth\":1},\"autotypenumbers\":\"strict\",\"coloraxis\":{\"colorbar\":{\"outlinewidth\":0,\"ticks\":\"\"}},\"colorscale\":{\"diverging\":[[0,\"#8e0152\"],[0.1,\"#c51b7d\"],[0.2,\"#de77ae\"],[0.3,\"#f1b6da\"],[0.4,\"#fde0ef\"],[0.5,\"#f7f7f7\"],[0.6,\"#e6f5d0\"],[0.7,\"#b8e186\"],[0.8,\"#7fbc41\"],[0.9,\"#4d9221\"],[1,\"#276419\"]],\"sequential\":[[0.0,\"#0d0887\"],[0.1111111111111111,\"#46039f\"],[0.2222222222222222,\"#7201a8\"],[0.3333333333333333,\"#9c179e\"],[0.4444444444444444,\"#bd3786\"],[0.5555555555555556,\"#d8576b\"],[0.6666666666666666,\"#ed7953\"],[0.7777777777777778,\"#fb9f3a\"],[0.8888888888888888,\"#fdca26\"],[1.0,\"#f0f921\"]],\"sequentialminus\":[[0.0,\"#0d0887\"],[0.1111111111111111,\"#46039f\"],[0.2222222222222222,\"#7201a8\"],[0.3333333333333333,\"#9c179e\"],[0.4444444444444444,\"#bd3786\"],[0.5555555555555556,\"#d8576b\"],[0.6666666666666666,\"#ed7953\"],[0.7777777777777778,\"#fb9f3a\"],[0.8888888888888888,\"#fdca26\"],[1.0,\"#f0f921\"]]},\"colorway\":[\"#636efa\",\"#EF553B\",\"#00cc96\",\"#ab63fa\",\"#FFA15A\",\"#19d3f3\",\"#FF6692\",\"#B6E880\",\"#FF97FF\",\"#FECB52\"],\"font\":{\"color\":\"#2a3f5f\"},\"geo\":{\"bgcolor\":\"white\",\"lakecolor\":\"white\",\"landcolor\":\"#E5ECF6\",\"showlakes\":true,\"showland\":true,\"subunitcolor\":\"white\"},\"hoverlabel\":{\"align\":\"left\"},\"hovermode\":\"closest\",\"mapbox\":{\"style\":\"light\"},\"paper_bgcolor\":\"white\",\"plot_bgcolor\":\"#E5ECF6\",\"polar\":{\"angularaxis\":{\"gridcolor\":\"white\",\"linecolor\":\"white\",\"ticks\":\"\"},\"bgcolor\":\"#E5ECF6\",\"radialaxis\":{\"gridcolor\":\"white\",\"linecolor\":\"white\",\"ticks\":\"\"}},\"scene\":{\"xaxis\":{\"backgroundcolor\":\"#E5ECF6\",\"gridcolor\":\"white\",\"gridwidth\":2,\"linecolor\":\"white\",\"showbackground\":true,\"ticks\":\"\",\"zerolinecolor\":\"white\"},\"yaxis\":{\"backgroundcolor\":\"#E5ECF6\",\"gridcolor\":\"white\",\"gridwidth\":2,\"linecolor\":\"white\",\"showbackground\":true,\"ticks\":\"\",\"zerolinecolor\":\"white\"},\"zaxis\":{\"backgroundcolor\":\"#E5ECF6\",\"gridcolor\":\"white\",\"gridwidth\":2,\"linecolor\":\"white\",\"showbackground\":true,\"ticks\":\"\",\"zerolinecolor\":\"white\"}},\"shapedefaults\":{\"line\":{\"color\":\"#2a3f5f\"}},\"ternary\":{\"aaxis\":{\"gridcolor\":\"white\",\"linecolor\":\"white\",\"ticks\":\"\"},\"baxis\":{\"gridcolor\":\"white\",\"linecolor\":\"white\",\"ticks\":\"\"},\"bgcolor\":\"#E5ECF6\",\"caxis\":{\"gridcolor\":\"white\",\"linecolor\":\"white\",\"ticks\":\"\"}},\"title\":{\"x\":0.05},\"xaxis\":{\"automargin\":true,\"gridcolor\":\"white\",\"linecolor\":\"white\",\"ticks\":\"\",\"title\":{\"standoff\":15},\"zerolinecolor\":\"white\",\"zerolinewidth\":2},\"yaxis\":{\"automargin\":true,\"gridcolor\":\"white\",\"linecolor\":\"white\",\"ticks\":\"\",\"title\":{\"standoff\":15},\"zerolinecolor\":\"white\",\"zerolinewidth\":2}}},\"title\":{\"text\":\"Propiedades f\\u00edsico-qu\\u00edmicas\",\"x\":0.5,\"xanchor\":\"center\",\"y\":0.9,\"yanchor\":\"top\"},\"width\":1200,\"xaxis\":{\"domain\":[1,1],\"mirror\":false,\"rangemode\":\"tozero\",\"showgrid\":false,\"showline\":false,\"showticklabels\":true,\"tickmode\":\"array\",\"ticks\":\"\",\"ticktext\":[\"_feat_CyclomaticNumber\",\"_feat_RingAtomCount\",\"_feat_SmallestRingSize\",\"_feat_LargestRingSize\",\"_feat_CarboRingCount\",\"_feat_CarboaromaticRingCount\",\"_feat_AromaticAtomCount\",\"_feat_AromaticRingCount\",\"_feat_WienerPolarity\",\"_feat_AtomCount_C\",\"_feat_HyperWienerIndex\",\"_feat_WienerIndex\",\"_feat_MolPol\",\"_feat_MaximalProjectionArea\",\"_feat_Refractivity\",\"_feat_minimalprojectionsize\",\"_feat_LengthPerpendicularToTheMinArea\",\"_feat_MaximalProjectionRadius\",\"_feat_AvgPol\",\"_feat_VanderWaalsVolume\",\"_feat_ASA\",\"_feat_MinimalProjectionRadius\",\"_feat_ASA-\",\"_feat_fr_quatN\",\"_feat_LengthPerpendicularToTheMaxArea\",\"_feat_maximalprojectionsize\",\"_feat_ASA_H\",\"_feat_MinimalProjectionArea\",\"_feat_ASA+\",\"_feat_molsurfaceareaASAp\",\"_feat_msareaASAp\",\"_feat_BondCount\",\"_feat_molsurfaceareaVDWp\",\"_feat_msareaVDWp\",\"_feat_VanderWaalsSurfaceArea\",\"_feat_RotatableBondCount\",\"_feat_ChainAtomCount\",\"_feat_Aliphatic AtomCount\",\"_feat_BalabanIndex\",\"_feat_fr_NH1\",\"_feat_HeteroaromaticRing Count\",\"_feat_fr_amidine\",\"_feat_fr_piperdine\",\"_feat_fr_ArN\",\"_feat_ChiralCenterCount\",\"_feat_fr_dihydropyridine\",\"_feat_fr_Ar_NH\",\"_feat_fr_pyridine\",\"_feat_fr_piperzine\",\"_feat_CarboaliphaticRingCount\",\"_feat_AliphaticRingCount\",\"_feat_fr_NH0\",\"_feat_HeteroaliphaticRingCount\",\"_feat_fr_Imine\",\"_feat_fr_NH2\",\"_feat_donsitecount\",\"_feat_fr_guanido\",\"_feat_AtomCount_N\",\"_feat_Hdonorcount\",\"_feat_donorcount\",\"_feat_ProtPolarSurfaceArea\",\"_feat_Protpsa\",\"_feat_PolarSurfaceArea\",\"_feat_Hacceptorcount\",\"_feat_acceptorcount\",\"_feat_Accsitecount\",\"_feat_ASA_P\"],\"tickvals\":[5,15,25,35,45,55,65,75,85,95,105,115,125,135,145,155,165,175,185,195,205,215,225,235,245,255,265,275,285,295,305,315,325,335,345,355,365,375,385,395,405,415,425,435,445,455,465,475,485,495,505,515,525,535,545,555,565,575,585,595,605,615,625,635,645,655,665],\"type\":\"linear\",\"zeroline\":false},\"xaxis2\":{\"domain\":[1,0.8],\"mirror\":false,\"showgrid\":false,\"showline\":false,\"showticklabels\":false,\"ticks\":\"\",\"zeroline\":false},\"yaxis\":{\"domain\":[0.1,0.8],\"mirror\":false,\"rangemode\":\"tozero\",\"showgrid\":false,\"showline\":false,\"showticklabels\":true,\"tickmode\":\"array\",\"ticks\":\"\",\"ticktext\":[\"PCA 1\",\"PCA 2\",\"PCA 3\",\"PCA 4\",\"PCA 5\",\"PCA 6\",\"PCA 7\",\"PCA 8\"],\"tickvals\":[0,1,2,3,4,5,6,7],\"title\":{\"text\":\"Componente PCA\"},\"type\":\"linear\",\"zeroline\":false},\"yaxis2\":{\"domain\":[0.8,1],\"mirror\":false,\"showgrid\":false,\"showline\":false,\"showticklabels\":false,\"ticks\":\"\",\"zeroline\":false}},                        {\"responsive\": true}                    ).then(function(){\n",
       "                            \n",
       "var gd = document.getElementById('2f60e31d-d044-450d-aad9-9a8b878d19e1');\n",
       "var x = new MutationObserver(function (mutations, observer) {{\n",
       "        var display = window.getComputedStyle(gd).display;\n",
       "        if (!display || display === 'none') {{\n",
       "            console.log([gd, 'removed!']);\n",
       "            Plotly.purge(gd);\n",
       "            observer.disconnect();\n",
       "        }}\n",
       "}});\n",
       "\n",
       "// Listen for the removal of the full notebook cells\n",
       "var notebookContainer = gd.closest('#notebook-container');\n",
       "if (notebookContainer) {{\n",
       "    x.observe(notebookContainer, {childList: true});\n",
       "}}\n",
       "\n",
       "// Listen for the clearing of the current output cell\n",
       "var outputEl = gd.closest('.output');\n",
       "if (outputEl) {{\n",
       "    x.observe(outputEl, {childList: true});\n",
       "}}\n",
       "\n",
       "                        })                };                });            </script>        </div>"
      ],
      "application/vnd.plotly.v1+json": {
       "config": {
        "plotlyServerURL": "https://plot.ly"
       },
       "data": [
        {
         "hoverinfo": "text",
         "marker": {
          "color": "rgb(61,153,112)"
         },
         "mode": "lines",
         "type": "scatter",
         "x": [
          15,
          15,
          25,
          25
         ],
         "xaxis": "x",
         "y": [
          0,
          0,
          0,
          0
         ],
         "yaxis": "y2"
        },
        {
         "hoverinfo": "text",
         "marker": {
          "color": "rgb(61,153,112)"
         },
         "mode": "lines",
         "type": "scatter",
         "x": [
          20,
          20,
          35,
          35
         ],
         "xaxis": "x",
         "y": [
          0,
          7.757919228897728e-18,
          7.757919228897728e-18,
          0
         ],
         "yaxis": "y2"
        },
        {
         "hoverinfo": "text",
         "marker": {
          "color": "rgb(61,153,112)"
         },
         "mode": "lines",
         "type": "scatter",
         "x": [
          5,
          5,
          27.5,
          27.5
         ],
         "xaxis": "x",
         "y": [
          0,
          0.004302779760274385,
          0.004302779760274385,
          7.757919228897728e-18
         ],
         "yaxis": "y2"
        },
        {
         "hoverinfo": "text",
         "marker": {
          "color": "rgb(61,153,112)"
         },
         "mode": "lines",
         "type": "scatter",
         "x": [
          55,
          55,
          65,
          65
         ],
         "xaxis": "x",
         "y": [
          0,
          2.943923360032078e-17,
          2.943923360032078e-17,
          0
         ],
         "yaxis": "y2"
        },
        {
         "hoverinfo": "text",
         "marker": {
          "color": "rgb(61,153,112)"
         },
         "mode": "lines",
         "type": "scatter",
         "x": [
          60,
          60,
          75,
          75
         ],
         "xaxis": "x",
         "y": [
          2.943923360032078e-17,
          5.7530844812208e-17,
          5.7530844812208e-17,
          0
         ],
         "yaxis": "y2"
        },
        {
         "hoverinfo": "text",
         "marker": {
          "color": "rgb(61,153,112)"
         },
         "mode": "lines",
         "type": "scatter",
         "x": [
          45,
          45,
          67.5,
          67.5
         ],
         "xaxis": "x",
         "y": [
          0,
          0.011519255991458324,
          0.011519255991458324,
          5.7530844812208e-17
         ],
         "yaxis": "y2"
        },
        {
         "hoverinfo": "text",
         "marker": {
          "color": "rgb(61,153,112)"
         },
         "mode": "lines",
         "type": "scatter",
         "x": [
          16.25,
          16.25,
          56.25,
          56.25
         ],
         "xaxis": "x",
         "y": [
          0.004302779760274385,
          0.026168219876123118,
          0.026168219876123118,
          0.011519255991458324
         ],
         "yaxis": "y2"
        },
        {
         "hoverinfo": "text",
         "marker": {
          "color": "rgb(255,65,54)"
         },
         "mode": "lines",
         "type": "scatter",
         "x": [
          105,
          105,
          115,
          115
         ],
         "xaxis": "x",
         "y": [
          0,
          0.048883898097309246,
          0.048883898097309246,
          0
         ],
         "yaxis": "y2"
        },
        {
         "hoverinfo": "text",
         "marker": {
          "color": "rgb(255,65,54)"
         },
         "mode": "lines",
         "type": "scatter",
         "x": [
          135,
          135,
          145,
          145
         ],
         "xaxis": "x",
         "y": [
          0,
          0.009306408152300976,
          0.009306408152300976,
          0
         ],
         "yaxis": "y2"
        },
        {
         "hoverinfo": "text",
         "marker": {
          "color": "rgb(255,65,54)"
         },
         "mode": "lines",
         "type": "scatter",
         "x": [
          125,
          125,
          140,
          140
         ],
         "xaxis": "x",
         "y": [
          0,
          0.026208956611792907,
          0.026208956611792907,
          0.009306408152300976
         ],
         "yaxis": "y2"
        },
        {
         "hoverinfo": "text",
         "marker": {
          "color": "rgb(255,65,54)"
         },
         "mode": "lines",
         "type": "scatter",
         "x": [
          155,
          155,
          165,
          165
         ],
         "xaxis": "x",
         "y": [
          0,
          0,
          0,
          0
         ],
         "yaxis": "y2"
        },
        {
         "hoverinfo": "text",
         "marker": {
          "color": "rgb(255,65,54)"
         },
         "mode": "lines",
         "type": "scatter",
         "x": [
          160,
          160,
          175,
          175
         ],
         "xaxis": "x",
         "y": [
          0,
          0.007786134423517878,
          0.007786134423517878,
          0
         ],
         "yaxis": "y2"
        },
        {
         "hoverinfo": "text",
         "marker": {
          "color": "rgb(255,65,54)"
         },
         "mode": "lines",
         "type": "scatter",
         "x": [
          185,
          185,
          195,
          195
         ],
         "xaxis": "x",
         "y": [
          0,
          0.007859697170418066,
          0.007859697170418066,
          0
         ],
         "yaxis": "y2"
        },
        {
         "hoverinfo": "text",
         "marker": {
          "color": "rgb(255,65,54)"
         },
         "mode": "lines",
         "type": "scatter",
         "x": [
          190,
          190,
          205,
          205
         ],
         "xaxis": "x",
         "y": [
          0.007859697170418066,
          0.024692861886223962,
          0.024692861886223962,
          0
         ],
         "yaxis": "y2"
        },
        {
         "hoverinfo": "text",
         "marker": {
          "color": "rgb(255,65,54)"
         },
         "mode": "lines",
         "type": "scatter",
         "x": [
          167.5,
          167.5,
          197.5,
          197.5
         ],
         "xaxis": "x",
         "y": [
          0.007786134423517878,
          0.029984836417728648,
          0.029984836417728648,
          0.024692861886223962
         ],
         "yaxis": "y2"
        },
        {
         "hoverinfo": "text",
         "marker": {
          "color": "rgb(255,65,54)"
         },
         "mode": "lines",
         "type": "scatter",
         "x": [
          132.5,
          132.5,
          182.5,
          182.5
         ],
         "xaxis": "x",
         "y": [
          0.026208956611792907,
          0.04575766720347636,
          0.04575766720347636,
          0.029984836417728648
         ],
         "yaxis": "y2"
        },
        {
         "hoverinfo": "text",
         "marker": {
          "color": "rgb(255,65,54)"
         },
         "mode": "lines",
         "type": "scatter",
         "x": [
          110,
          110,
          157.5,
          157.5
         ],
         "xaxis": "x",
         "y": [
          0.048883898097309246,
          0.06058343191164624,
          0.06058343191164624,
          0.04575766720347636
         ],
         "yaxis": "y2"
        },
        {
         "hoverinfo": "text",
         "marker": {
          "color": "rgb(255,65,54)"
         },
         "mode": "lines",
         "type": "scatter",
         "x": [
          215,
          215,
          225,
          225
         ],
         "xaxis": "x",
         "y": [
          0,
          0.03834022567041482,
          0.03834022567041482,
          0
         ],
         "yaxis": "y2"
        },
        {
         "hoverinfo": "text",
         "marker": {
          "color": "rgb(255,65,54)"
         },
         "mode": "lines",
         "type": "scatter",
         "x": [
          133.75,
          133.75,
          220,
          220
         ],
         "xaxis": "x",
         "y": [
          0.06058343191164624,
          0.06177155192670532,
          0.06177155192670532,
          0.03834022567041482
         ],
         "yaxis": "y2"
        },
        {
         "hoverinfo": "text",
         "marker": {
          "color": "rgb(255,65,54)"
         },
         "mode": "lines",
         "type": "scatter",
         "x": [
          95,
          95,
          176.875,
          176.875
         ],
         "xaxis": "x",
         "y": [
          0,
          0.08669533818464112,
          0.08669533818464112,
          0.06177155192670532
         ],
         "yaxis": "y2"
        },
        {
         "hoverinfo": "text",
         "marker": {
          "color": "rgb(255,65,54)"
         },
         "mode": "lines",
         "type": "scatter",
         "x": [
          85,
          85,
          135.9375,
          135.9375
         ],
         "xaxis": "x",
         "y": [
          0,
          0.12668587751337101,
          0.12668587751337101,
          0.08669533818464112
         ],
         "yaxis": "y2"
        },
        {
         "hoverinfo": "text",
         "marker": {
          "color": "rgb(0,116,217)"
         },
         "mode": "lines",
         "type": "scatter",
         "x": [
          36.25,
          36.25,
          110.46875,
          110.46875
         ],
         "xaxis": "x",
         "y": [
          0.026168219876123118,
          0.21974971773352578,
          0.21974971773352578,
          0.12668587751337101
         ],
         "yaxis": "y2"
        },
        {
         "hoverinfo": "text",
         "marker": {
          "color": "rgb(35,205,205)"
         },
         "mode": "lines",
         "type": "scatter",
         "x": [
          245,
          245,
          255,
          255
         ],
         "xaxis": "x",
         "y": [
          0,
          0,
          0,
          0
         ],
         "yaxis": "y2"
        },
        {
         "hoverinfo": "text",
         "marker": {
          "color": "rgb(35,205,205)"
         },
         "mode": "lines",
         "type": "scatter",
         "x": [
          250,
          250,
          265,
          265
         ],
         "xaxis": "x",
         "y": [
          0,
          0.06664592639290451,
          0.06664592639290451,
          0
         ],
         "yaxis": "y2"
        },
        {
         "hoverinfo": "text",
         "marker": {
          "color": "rgb(35,205,205)"
         },
         "mode": "lines",
         "type": "scatter",
         "x": [
          295,
          295,
          305,
          305
         ],
         "xaxis": "x",
         "y": [
          0,
          0,
          0,
          0
         ],
         "yaxis": "y2"
        },
        {
         "hoverinfo": "text",
         "marker": {
          "color": "rgb(35,205,205)"
         },
         "mode": "lines",
         "type": "scatter",
         "x": [
          285,
          285,
          300,
          300
         ],
         "xaxis": "x",
         "y": [
          0,
          0.008998322753498883,
          0.008998322753498883,
          0
         ],
         "yaxis": "y2"
        },
        {
         "hoverinfo": "text",
         "marker": {
          "color": "rgb(35,205,205)"
         },
         "mode": "lines",
         "type": "scatter",
         "x": [
          325,
          325,
          335,
          335
         ],
         "xaxis": "x",
         "y": [
          0,
          5.419449386414209e-17,
          5.419449386414209e-17,
          0
         ],
         "yaxis": "y2"
        },
        {
         "hoverinfo": "text",
         "marker": {
          "color": "rgb(35,205,205)"
         },
         "mode": "lines",
         "type": "scatter",
         "x": [
          330,
          330,
          345,
          345
         ],
         "xaxis": "x",
         "y": [
          5.419449386414209e-17,
          0.00012774622740041076,
          0.00012774622740041076,
          0
         ],
         "yaxis": "y2"
        },
        {
         "hoverinfo": "text",
         "marker": {
          "color": "rgb(35,205,205)"
         },
         "mode": "lines",
         "type": "scatter",
         "x": [
          315,
          315,
          337.5,
          337.5
         ],
         "xaxis": "x",
         "y": [
          0,
          0.005374681425094166,
          0.005374681425094166,
          0.00012774622740041076
         ],
         "yaxis": "y2"
        },
        {
         "hoverinfo": "text",
         "marker": {
          "color": "rgb(35,205,205)"
         },
         "mode": "lines",
         "type": "scatter",
         "x": [
          292.5,
          292.5,
          326.25,
          326.25
         ],
         "xaxis": "x",
         "y": [
          0.008998322753498883,
          0.01264589864026724,
          0.01264589864026724,
          0.005374681425094166
         ],
         "yaxis": "y2"
        },
        {
         "hoverinfo": "text",
         "marker": {
          "color": "rgb(35,205,205)"
         },
         "mode": "lines",
         "type": "scatter",
         "x": [
          275,
          275,
          309.375,
          309.375
         ],
         "xaxis": "x",
         "y": [
          0,
          0.03652735588376612,
          0.03652735588376612,
          0.01264589864026724
         ],
         "yaxis": "y2"
        },
        {
         "hoverinfo": "text",
         "marker": {
          "color": "rgb(35,205,205)"
         },
         "mode": "lines",
         "type": "scatter",
         "x": [
          292.1875,
          292.1875,
          355,
          355
         ],
         "xaxis": "x",
         "y": [
          0.03652735588376612,
          0.08919916326542685,
          0.08919916326542685,
          0
         ],
         "yaxis": "y2"
        },
        {
         "hoverinfo": "text",
         "marker": {
          "color": "rgb(35,205,205)"
         },
         "mode": "lines",
         "type": "scatter",
         "x": [
          257.5,
          257.5,
          323.59375,
          323.59375
         ],
         "xaxis": "x",
         "y": [
          0.06664592639290451,
          0.11805975700205923,
          0.11805975700205923,
          0.08919916326542685
         ],
         "yaxis": "y2"
        },
        {
         "hoverinfo": "text",
         "marker": {
          "color": "rgb(35,205,205)"
         },
         "mode": "lines",
         "type": "scatter",
         "x": [
          365,
          365,
          375,
          375
         ],
         "xaxis": "x",
         "y": [
          0,
          0.02156124052119407,
          0.02156124052119407,
          0
         ],
         "yaxis": "y2"
        },
        {
         "hoverinfo": "text",
         "marker": {
          "color": "rgb(35,205,205)"
         },
         "mode": "lines",
         "type": "scatter",
         "x": [
          370,
          370,
          385,
          385
         ],
         "xaxis": "x",
         "y": [
          0.02156124052119407,
          0.07215742396183127,
          0.07215742396183127,
          0
         ],
         "yaxis": "y2"
        },
        {
         "hoverinfo": "text",
         "marker": {
          "color": "rgb(35,205,205)"
         },
         "mode": "lines",
         "type": "scatter",
         "x": [
          290.546875,
          290.546875,
          377.5,
          377.5
         ],
         "xaxis": "x",
         "y": [
          0.11805975700205923,
          0.1326274864028284,
          0.1326274864028284,
          0.07215742396183127
         ],
         "yaxis": "y2"
        },
        {
         "hoverinfo": "text",
         "marker": {
          "color": "rgb(35,205,205)"
         },
         "mode": "lines",
         "type": "scatter",
         "x": [
          235,
          235,
          334.0234375,
          334.0234375
         ],
         "xaxis": "x",
         "y": [
          0,
          0.2074471897651723,
          0.2074471897651723,
          0.1326274864028284
         ],
         "yaxis": "y2"
        },
        {
         "hoverinfo": "text",
         "marker": {
          "color": "rgb(133,20,75)"
         },
         "mode": "lines",
         "type": "scatter",
         "x": [
          425,
          425,
          435,
          435
         ],
         "xaxis": "x",
         "y": [
          0,
          0,
          0,
          0
         ],
         "yaxis": "y2"
        },
        {
         "hoverinfo": "text",
         "marker": {
          "color": "rgb(133,20,75)"
         },
         "mode": "lines",
         "type": "scatter",
         "x": [
          430,
          430,
          445,
          445
         ],
         "xaxis": "x",
         "y": [
          0,
          0,
          0,
          0
         ],
         "yaxis": "y2"
        },
        {
         "hoverinfo": "text",
         "marker": {
          "color": "rgb(133,20,75)"
         },
         "mode": "lines",
         "type": "scatter",
         "x": [
          415,
          415,
          437.5,
          437.5
         ],
         "xaxis": "x",
         "y": [
          0,
          7.750473670349475e-18,
          7.750473670349475e-18,
          0
         ],
         "yaxis": "y2"
        },
        {
         "hoverinfo": "text",
         "marker": {
          "color": "rgb(133,20,75)"
         },
         "mode": "lines",
         "type": "scatter",
         "x": [
          465,
          465,
          475,
          475
         ],
         "xaxis": "x",
         "y": [
          0,
          4.510335601929595e-18,
          4.510335601929595e-18,
          0
         ],
         "yaxis": "y2"
        },
        {
         "hoverinfo": "text",
         "marker": {
          "color": "rgb(133,20,75)"
         },
         "mode": "lines",
         "type": "scatter",
         "x": [
          455,
          455,
          470,
          470
         ],
         "xaxis": "x",
         "y": [
          0,
          7.555505815373385e-18,
          7.555505815373385e-18,
          4.510335601929595e-18
         ],
         "yaxis": "y2"
        },
        {
         "hoverinfo": "text",
         "marker": {
          "color": "rgb(133,20,75)"
         },
         "mode": "lines",
         "type": "scatter",
         "x": [
          462.5,
          462.5,
          485,
          485
         ],
         "xaxis": "x",
         "y": [
          7.555505815373385e-18,
          1.1918582893217262e-17,
          1.1918582893217262e-17,
          0
         ],
         "yaxis": "y2"
        },
        {
         "hoverinfo": "text",
         "marker": {
          "color": "rgb(133,20,75)"
         },
         "mode": "lines",
         "type": "scatter",
         "x": [
          426.25,
          426.25,
          473.75,
          473.75
         ],
         "xaxis": "x",
         "y": [
          7.750473670349475e-18,
          1.465241527689143e-17,
          1.465241527689143e-17,
          1.1918582893217262e-17
         ],
         "yaxis": "y2"
        },
        {
         "hoverinfo": "text",
         "marker": {
          "color": "rgb(133,20,75)"
         },
         "mode": "lines",
         "type": "scatter",
         "x": [
          405,
          405,
          450,
          450
         ],
         "xaxis": "x",
         "y": [
          0,
          3.764942532317751e-17,
          3.764942532317751e-17,
          1.465241527689143e-17
         ],
         "yaxis": "y2"
        },
        {
         "hoverinfo": "text",
         "marker": {
          "color": "rgb(133,20,75)"
         },
         "mode": "lines",
         "type": "scatter",
         "x": [
          427.5,
          427.5,
          495,
          495
         ],
         "xaxis": "x",
         "y": [
          3.764942532317751e-17,
          0.04180949319452078,
          0.04180949319452078,
          0
         ],
         "yaxis": "y2"
        },
        {
         "hoverinfo": "text",
         "marker": {
          "color": "rgb(133,20,75)"
         },
         "mode": "lines",
         "type": "scatter",
         "x": [
          515,
          515,
          525,
          525
         ],
         "xaxis": "x",
         "y": [
          0,
          0,
          0,
          0
         ],
         "yaxis": "y2"
        },
        {
         "hoverinfo": "text",
         "marker": {
          "color": "rgb(133,20,75)"
         },
         "mode": "lines",
         "type": "scatter",
         "x": [
          520,
          520,
          535,
          535
         ],
         "xaxis": "x",
         "y": [
          0,
          4.119739996032822e-17,
          4.119739996032822e-17,
          0
         ],
         "yaxis": "y2"
        },
        {
         "hoverinfo": "text",
         "marker": {
          "color": "rgb(133,20,75)"
         },
         "mode": "lines",
         "type": "scatter",
         "x": [
          505,
          505,
          527.5,
          527.5
         ],
         "xaxis": "x",
         "y": [
          0,
          0.031304836307738795,
          0.031304836307738795,
          4.119739996032822e-17
         ],
         "yaxis": "y2"
        },
        {
         "hoverinfo": "text",
         "marker": {
          "color": "rgb(133,20,75)"
         },
         "mode": "lines",
         "type": "scatter",
         "x": [
          461.25,
          461.25,
          516.25,
          516.25
         ],
         "xaxis": "x",
         "y": [
          0.04180949319452078,
          0.0662477717003898,
          0.0662477717003898,
          0.031304836307738795
         ],
         "yaxis": "y2"
        },
        {
         "hoverinfo": "text",
         "marker": {
          "color": "rgb(133,20,75)"
         },
         "mode": "lines",
         "type": "scatter",
         "x": [
          395,
          395,
          488.75,
          488.75
         ],
         "xaxis": "x",
         "y": [
          0,
          0.1562696570889329,
          0.1562696570889329,
          0.0662477717003898
         ],
         "yaxis": "y2"
        },
        {
         "hoverinfo": "text",
         "marker": {
          "color": "rgb(0,116,217)"
         },
         "mode": "lines",
         "type": "scatter",
         "x": [
          284.51171875,
          284.51171875,
          441.875,
          441.875
         ],
         "xaxis": "x",
         "y": [
          0.2074471897651723,
          0.21584348940111345,
          0.21584348940111345,
          0.1562696570889329
         ],
         "yaxis": "y2"
        },
        {
         "hoverinfo": "text",
         "marker": {
          "color": "rgb(255,220,0)"
         },
         "mode": "lines",
         "type": "scatter",
         "x": [
          575,
          575,
          585,
          585
         ],
         "xaxis": "x",
         "y": [
          0,
          5.887846720064156e-17,
          5.887846720064156e-17,
          0
         ],
         "yaxis": "y2"
        },
        {
         "hoverinfo": "text",
         "marker": {
          "color": "rgb(255,220,0)"
         },
         "mode": "lines",
         "type": "scatter",
         "x": [
          565,
          565,
          580,
          580
         ],
         "xaxis": "x",
         "y": [
          0,
          0.022494725402387665,
          0.022494725402387665,
          5.887846720064156e-17
         ],
         "yaxis": "y2"
        },
        {
         "hoverinfo": "text",
         "marker": {
          "color": "rgb(255,220,0)"
         },
         "mode": "lines",
         "type": "scatter",
         "x": [
          555,
          555,
          572.5,
          572.5
         ],
         "xaxis": "x",
         "y": [
          0,
          0.03454470666460076,
          0.03454470666460076,
          0.022494725402387665
         ],
         "yaxis": "y2"
        },
        {
         "hoverinfo": "text",
         "marker": {
          "color": "rgb(255,220,0)"
         },
         "mode": "lines",
         "type": "scatter",
         "x": [
          563.75,
          563.75,
          595,
          595
         ],
         "xaxis": "x",
         "y": [
          0.03454470666460076,
          0.03951715829807731,
          0.03951715829807731,
          0
         ],
         "yaxis": "y2"
        },
        {
         "hoverinfo": "text",
         "marker": {
          "color": "rgb(255,220,0)"
         },
         "mode": "lines",
         "type": "scatter",
         "x": [
          545,
          545,
          579.375,
          579.375
         ],
         "xaxis": "x",
         "y": [
          0,
          0.07410247980374274,
          0.07410247980374274,
          0.03951715829807731
         ],
         "yaxis": "y2"
        },
        {
         "hoverinfo": "text",
         "marker": {
          "color": "rgb(255,220,0)"
         },
         "mode": "lines",
         "type": "scatter",
         "x": [
          605,
          605,
          615,
          615
         ],
         "xaxis": "x",
         "y": [
          0,
          0,
          0,
          0
         ],
         "yaxis": "y2"
        },
        {
         "hoverinfo": "text",
         "marker": {
          "color": "rgb(255,220,0)"
         },
         "mode": "lines",
         "type": "scatter",
         "x": [
          610,
          610,
          625,
          625
         ],
         "xaxis": "x",
         "y": [
          0,
          0.003849971330941613,
          0.003849971330941613,
          0
         ],
         "yaxis": "y2"
        },
        {
         "hoverinfo": "text",
         "marker": {
          "color": "rgb(255,220,0)"
         },
         "mode": "lines",
         "type": "scatter",
         "x": [
          635,
          635,
          645,
          645
         ],
         "xaxis": "x",
         "y": [
          0,
          0,
          0,
          0
         ],
         "yaxis": "y2"
        },
        {
         "hoverinfo": "text",
         "marker": {
          "color": "rgb(255,220,0)"
         },
         "mode": "lines",
         "type": "scatter",
         "x": [
          617.5,
          617.5,
          640,
          640
         ],
         "xaxis": "x",
         "y": [
          0.003849971330941613,
          0.0495167266001341,
          0.0495167266001341,
          0
         ],
         "yaxis": "y2"
        },
        {
         "hoverinfo": "text",
         "marker": {
          "color": "rgb(255,220,0)"
         },
         "mode": "lines",
         "type": "scatter",
         "x": [
          628.75,
          628.75,
          655,
          655
         ],
         "xaxis": "x",
         "y": [
          0.0495167266001341,
          0.0800927674666042,
          0.0800927674666042,
          0
         ],
         "yaxis": "y2"
        },
        {
         "hoverinfo": "text",
         "marker": {
          "color": "rgb(255,220,0)"
         },
         "mode": "lines",
         "type": "scatter",
         "x": [
          562.1875,
          562.1875,
          641.875,
          641.875
         ],
         "xaxis": "x",
         "y": [
          0.07410247980374274,
          0.11503055206231416,
          0.11503055206231416,
          0.0800927674666042
         ],
         "yaxis": "y2"
        },
        {
         "hoverinfo": "text",
         "marker": {
          "color": "rgb(255,220,0)"
         },
         "mode": "lines",
         "type": "scatter",
         "x": [
          602.03125,
          602.03125,
          665,
          665
         ],
         "xaxis": "x",
         "y": [
          0.11503055206231416,
          0.1904557040198081,
          0.1904557040198081,
          0
         ],
         "yaxis": "y2"
        },
        {
         "hoverinfo": "text",
         "marker": {
          "color": "rgb(0,116,217)"
         },
         "mode": "lines",
         "type": "scatter",
         "x": [
          363.193359375,
          363.193359375,
          633.515625,
          633.515625
         ],
         "xaxis": "x",
         "y": [
          0.21584348940111345,
          0.29909573902455855,
          0.29909573902455855,
          0.1904557040198081
         ],
         "yaxis": "y2"
        },
        {
         "hoverinfo": "text",
         "marker": {
          "color": "rgb(0,116,217)"
         },
         "mode": "lines",
         "type": "scatter",
         "x": [
          73.359375,
          73.359375,
          498.3544921875,
          498.3544921875
         ],
         "xaxis": "x",
         "y": [
          0.21974971773352578,
          0.30736191486214937,
          0.30736191486214937,
          0.29909573902455855
         ],
         "yaxis": "y2"
        },
        {
         "colorbar": {
          "len": 0.8,
          "nticks": 15,
          "title": {
           "text": "loadings"
          }
         },
         "colorscale": [
          [
           0,
           "rgb(0,0,0)"
          ],
          [
           0.25,
           "rgb(230,0,0)"
          ],
          [
           0.5,
           "rgb(230,210,0)"
          ],
          [
           0.75,
           "rgb(255,255,255)"
          ],
          [
           1,
           "rgb(160,200,255)"
          ]
         ],
         "type": "heatmap",
         "x": [
          5,
          15,
          25,
          35,
          45,
          55,
          65,
          75,
          85,
          95,
          105,
          115,
          125,
          135,
          145,
          155,
          165,
          175,
          185,
          195,
          205,
          215,
          225,
          235,
          245,
          255,
          265,
          275,
          285,
          295,
          305,
          315,
          325,
          335,
          345,
          355,
          365,
          375,
          385,
          395,
          405,
          415,
          425,
          435,
          445,
          455,
          465,
          475,
          485,
          495,
          505,
          515,
          525,
          535,
          545,
          555,
          565,
          575,
          585,
          595,
          605,
          615,
          625,
          635,
          645,
          655,
          665
         ],
         "y": [
          0,
          1,
          2,
          3,
          4,
          5,
          6,
          7
         ],
         "z": [
          [
           0.02576177102300803,
           0.029824608308294816,
           0.029824608308294816,
           0.029824608308294823,
           0.048614916034584385,
           0.044070905004111996,
           0.04407090500411202,
           0.04407090500411201,
           0.1406322565228361,
           0.18444714563437448,
           0.15652023543342422,
           0.16430542864945086,
           0.18861183650511748,
           0.18721918073801772,
           0.18020501488113946,
           0.17892425811877924,
           0.17892425811877924,
           0.18061330283058852,
           0.1916508518828029,
           0.19183039590754197,
           0.18953091700224098,
           0.14674678733479107,
           0.12802250781381533,
           0.0867703001709518,
           0.15482986752455072,
           0.15482986752455072,
           0.18017595550686488,
           0.16778994941807407,
           0.18003947706407855,
           0.17933932596387994,
           0.17933932596387994,
           0.19004513797114211,
           0.1915753605594663,
           0.19157536055946628,
           0.19157701503010044,
           0.16403993264878808,
           0.13905094871169157,
           0.13301417855533107,
           0.0908596043784008,
           -0.01929286056278314,
           6.375443034299506e-18,
           3.821425447584413e-18,
           0,
           0,
           0,
           -9.628636823845738e-18,
           -7.619718205270746e-18,
           -3.76017164031808e-18,
           2.7007522048616464e-18,
           0.014302732284612232,
           -0.030994262284490415,
           -0.05728404071226961,
           -0.05728404071226961,
           -0.05728404071226963,
           -0.08884680007947746,
           -0.061100978151762464,
           -0.08344727661498465,
           -0.09991311295238572,
           -0.09991311295238574,
           -0.0817194365654243,
           -0.08884558223431224,
           -0.08884558223431224,
           -0.09191844540175541,
           -0.09253166906063211,
           -0.09253166906063211,
           -0.055939106113896124,
           -0.060929345451513066
          ],
          [
           0.30813313186259406,
           0.30936318178746647,
           0.30936318178746647,
           0.30936318178746647,
           0.2961279744869278,
           0.2900699730232793,
           0.2900699730232793,
           0.29006997302327936,
           0.18523314242332437,
           0.0970880767281555,
           0.017799291800513567,
           0.0659641205960864,
           0.04550660476715198,
           0.0427501184045375,
           0.044180599456278107,
           0.011249294164269244,
           0.011249294164269244,
           0.0045034717981824205,
           0.011508881484371293,
           0.007838094721762025,
           -0.014653031159673105,
           0.04951268291715403,
           0.05023930799320987,
           -0.02613941473702945,
           -0.1234592760946075,
           -0.1234592760946075,
           -0.07936812961933133,
           -0.022108998202654065,
           -0.04335898590401824,
           -0.036936756679605366,
           -0.036936756679605366,
           -0.03819210751087207,
           -0.0414523491618983,
           -0.04145234916189834,
           -0.04157559867580835,
           -0.1005628769172826,
           -0.19122093435729715,
           -0.17211890257479232,
           -0.16556499739016112,
           -0.07388103889681599,
           3.23673428958069e-17,
           2.59648384741094e-18,
           0,
           0,
           0,
           -4.621136129757086e-18,
           -1.1154421330442543e-17,
           -8.869018254394194e-18,
           -1.1580649868267942e-17,
           0.03315311847989961,
           0.0559830476829217,
           0.04448140035760785,
           0.04448140035760785,
           0.044481400357607885,
           -0.05502777909028656,
           -0.04054024899524916,
           -0.03907436326018004,
           -0.05419918178903689,
           -0.054199181789036904,
           -0.07621420290485253,
           -0.006120679303414121,
           -0.006120679303414121,
           -0.003828195628939979,
           0.0353530544819998,
           0.0353530544819998,
           0.0706197162359428,
           0.15466505346580908
          ],
          [
           0.00578233776379802,
           0.006485362685853934,
           0.006485362685853934,
           0.006485362685853938,
           0.00965333673366011,
           0.018333534923685887,
           0.018333534923685908,
           0.018333534923685897,
           0.06722570949437501,
           0.03187866321727243,
           0.11758195444329277,
           0.11455284122810837,
           0.0624000367318362,
           0.08490737698460113,
           0.09085417729989914,
           0.08756045723896329,
           0.08756045723896329,
           0.08405832962452632,
           0.06686687014725176,
           0.05991935777969812,
           0.06215691114920143,
           0.08296940663705141,
           0.04952024705302672,
           -0.12898218079651402,
           -0.05886880335142278,
           -0.05886880335142278,
           -0.015796467319382695,
           0.02467699457158037,
           0.05535847754920637,
           0.049094726867536194,
           0.049094726867536194,
           0.050988225615983845,
           0.04703382355642939,
           0.04703382355642941,
           0.04706737826791526,
           0.09063583296139985,
           0.07844624726484131,
           0.07047399032767279,
           0.021177710419598508,
           0.0964144979339354,
           9.045761663870384e-18,
           6.222927067985676e-18,
           0,
           0,
           0,
           8.216818405154234e-18,
           5.713977572834515e-18,
           5.240733095862591e-18,
           9.539197078442345e-18,
           -0.021079286169961502,
           -0.022151735592258526,
           -0.009639644029426298,
           -0.009639644029426298,
           -0.009639644029426315,
           0.19532374752895465,
           0.2667781257343078,
           0.2546974586866909,
           0.2522218235948619,
           0.25222182359486195,
           0.2713858810034936,
           0.2869497705676957,
           0.2869497705676957,
           0.28730234652477876,
           0.2585239583606278,
           0.2585239583606278,
           0.22899468282792448,
           0.15161738993941165
          ]
         ]
        }
       ],
       "layout": {
        "autosize": false,
        "boxmode": "group",
        "height": 800,
        "hovermode": "closest",
        "showlegend": false,
        "template": {
         "data": {
          "bar": [
           {
            "error_x": {
             "color": "#2a3f5f"
            },
            "error_y": {
             "color": "#2a3f5f"
            },
            "marker": {
             "line": {
              "color": "#E5ECF6",
              "width": 0.5
             },
             "pattern": {
              "fillmode": "overlay",
              "size": 10,
              "solidity": 0.2
             }
            },
            "type": "bar"
           }
          ],
          "barpolar": [
           {
            "marker": {
             "line": {
              "color": "#E5ECF6",
              "width": 0.5
             },
             "pattern": {
              "fillmode": "overlay",
              "size": 10,
              "solidity": 0.2
             }
            },
            "type": "barpolar"
           }
          ],
          "carpet": [
           {
            "aaxis": {
             "endlinecolor": "#2a3f5f",
             "gridcolor": "white",
             "linecolor": "white",
             "minorgridcolor": "white",
             "startlinecolor": "#2a3f5f"
            },
            "baxis": {
             "endlinecolor": "#2a3f5f",
             "gridcolor": "white",
             "linecolor": "white",
             "minorgridcolor": "white",
             "startlinecolor": "#2a3f5f"
            },
            "type": "carpet"
           }
          ],
          "choropleth": [
           {
            "colorbar": {
             "outlinewidth": 0,
             "ticks": ""
            },
            "type": "choropleth"
           }
          ],
          "contour": [
           {
            "colorbar": {
             "outlinewidth": 0,
             "ticks": ""
            },
            "colorscale": [
             [
              0,
              "#0d0887"
             ],
             [
              0.1111111111111111,
              "#46039f"
             ],
             [
              0.2222222222222222,
              "#7201a8"
             ],
             [
              0.3333333333333333,
              "#9c179e"
             ],
             [
              0.4444444444444444,
              "#bd3786"
             ],
             [
              0.5555555555555556,
              "#d8576b"
             ],
             [
              0.6666666666666666,
              "#ed7953"
             ],
             [
              0.7777777777777778,
              "#fb9f3a"
             ],
             [
              0.8888888888888888,
              "#fdca26"
             ],
             [
              1,
              "#f0f921"
             ]
            ],
            "type": "contour"
           }
          ],
          "contourcarpet": [
           {
            "colorbar": {
             "outlinewidth": 0,
             "ticks": ""
            },
            "type": "contourcarpet"
           }
          ],
          "heatmap": [
           {
            "colorbar": {
             "outlinewidth": 0,
             "ticks": ""
            },
            "colorscale": [
             [
              0,
              "#0d0887"
             ],
             [
              0.1111111111111111,
              "#46039f"
             ],
             [
              0.2222222222222222,
              "#7201a8"
             ],
             [
              0.3333333333333333,
              "#9c179e"
             ],
             [
              0.4444444444444444,
              "#bd3786"
             ],
             [
              0.5555555555555556,
              "#d8576b"
             ],
             [
              0.6666666666666666,
              "#ed7953"
             ],
             [
              0.7777777777777778,
              "#fb9f3a"
             ],
             [
              0.8888888888888888,
              "#fdca26"
             ],
             [
              1,
              "#f0f921"
             ]
            ],
            "type": "heatmap"
           }
          ],
          "heatmapgl": [
           {
            "colorbar": {
             "outlinewidth": 0,
             "ticks": ""
            },
            "colorscale": [
             [
              0,
              "#0d0887"
             ],
             [
              0.1111111111111111,
              "#46039f"
             ],
             [
              0.2222222222222222,
              "#7201a8"
             ],
             [
              0.3333333333333333,
              "#9c179e"
             ],
             [
              0.4444444444444444,
              "#bd3786"
             ],
             [
              0.5555555555555556,
              "#d8576b"
             ],
             [
              0.6666666666666666,
              "#ed7953"
             ],
             [
              0.7777777777777778,
              "#fb9f3a"
             ],
             [
              0.8888888888888888,
              "#fdca26"
             ],
             [
              1,
              "#f0f921"
             ]
            ],
            "type": "heatmapgl"
           }
          ],
          "histogram": [
           {
            "marker": {
             "pattern": {
              "fillmode": "overlay",
              "size": 10,
              "solidity": 0.2
             }
            },
            "type": "histogram"
           }
          ],
          "histogram2d": [
           {
            "colorbar": {
             "outlinewidth": 0,
             "ticks": ""
            },
            "colorscale": [
             [
              0,
              "#0d0887"
             ],
             [
              0.1111111111111111,
              "#46039f"
             ],
             [
              0.2222222222222222,
              "#7201a8"
             ],
             [
              0.3333333333333333,
              "#9c179e"
             ],
             [
              0.4444444444444444,
              "#bd3786"
             ],
             [
              0.5555555555555556,
              "#d8576b"
             ],
             [
              0.6666666666666666,
              "#ed7953"
             ],
             [
              0.7777777777777778,
              "#fb9f3a"
             ],
             [
              0.8888888888888888,
              "#fdca26"
             ],
             [
              1,
              "#f0f921"
             ]
            ],
            "type": "histogram2d"
           }
          ],
          "histogram2dcontour": [
           {
            "colorbar": {
             "outlinewidth": 0,
             "ticks": ""
            },
            "colorscale": [
             [
              0,
              "#0d0887"
             ],
             [
              0.1111111111111111,
              "#46039f"
             ],
             [
              0.2222222222222222,
              "#7201a8"
             ],
             [
              0.3333333333333333,
              "#9c179e"
             ],
             [
              0.4444444444444444,
              "#bd3786"
             ],
             [
              0.5555555555555556,
              "#d8576b"
             ],
             [
              0.6666666666666666,
              "#ed7953"
             ],
             [
              0.7777777777777778,
              "#fb9f3a"
             ],
             [
              0.8888888888888888,
              "#fdca26"
             ],
             [
              1,
              "#f0f921"
             ]
            ],
            "type": "histogram2dcontour"
           }
          ],
          "mesh3d": [
           {
            "colorbar": {
             "outlinewidth": 0,
             "ticks": ""
            },
            "type": "mesh3d"
           }
          ],
          "parcoords": [
           {
            "line": {
             "colorbar": {
              "outlinewidth": 0,
              "ticks": ""
             }
            },
            "type": "parcoords"
           }
          ],
          "pie": [
           {
            "automargin": true,
            "type": "pie"
           }
          ],
          "scatter": [
           {
            "marker": {
             "colorbar": {
              "outlinewidth": 0,
              "ticks": ""
             }
            },
            "type": "scatter"
           }
          ],
          "scatter3d": [
           {
            "line": {
             "colorbar": {
              "outlinewidth": 0,
              "ticks": ""
             }
            },
            "marker": {
             "colorbar": {
              "outlinewidth": 0,
              "ticks": ""
             }
            },
            "type": "scatter3d"
           }
          ],
          "scattercarpet": [
           {
            "marker": {
             "colorbar": {
              "outlinewidth": 0,
              "ticks": ""
             }
            },
            "type": "scattercarpet"
           }
          ],
          "scattergeo": [
           {
            "marker": {
             "colorbar": {
              "outlinewidth": 0,
              "ticks": ""
             }
            },
            "type": "scattergeo"
           }
          ],
          "scattergl": [
           {
            "marker": {
             "colorbar": {
              "outlinewidth": 0,
              "ticks": ""
             }
            },
            "type": "scattergl"
           }
          ],
          "scattermapbox": [
           {
            "marker": {
             "colorbar": {
              "outlinewidth": 0,
              "ticks": ""
             }
            },
            "type": "scattermapbox"
           }
          ],
          "scatterpolar": [
           {
            "marker": {
             "colorbar": {
              "outlinewidth": 0,
              "ticks": ""
             }
            },
            "type": "scatterpolar"
           }
          ],
          "scatterpolargl": [
           {
            "marker": {
             "colorbar": {
              "outlinewidth": 0,
              "ticks": ""
             }
            },
            "type": "scatterpolargl"
           }
          ],
          "scatterternary": [
           {
            "marker": {
             "colorbar": {
              "outlinewidth": 0,
              "ticks": ""
             }
            },
            "type": "scatterternary"
           }
          ],
          "surface": [
           {
            "colorbar": {
             "outlinewidth": 0,
             "ticks": ""
            },
            "colorscale": [
             [
              0,
              "#0d0887"
             ],
             [
              0.1111111111111111,
              "#46039f"
             ],
             [
              0.2222222222222222,
              "#7201a8"
             ],
             [
              0.3333333333333333,
              "#9c179e"
             ],
             [
              0.4444444444444444,
              "#bd3786"
             ],
             [
              0.5555555555555556,
              "#d8576b"
             ],
             [
              0.6666666666666666,
              "#ed7953"
             ],
             [
              0.7777777777777778,
              "#fb9f3a"
             ],
             [
              0.8888888888888888,
              "#fdca26"
             ],
             [
              1,
              "#f0f921"
             ]
            ],
            "type": "surface"
           }
          ],
          "table": [
           {
            "cells": {
             "fill": {
              "color": "#EBF0F8"
             },
             "line": {
              "color": "white"
             }
            },
            "header": {
             "fill": {
              "color": "#C8D4E3"
             },
             "line": {
              "color": "white"
             }
            },
            "type": "table"
           }
          ]
         },
         "layout": {
          "annotationdefaults": {
           "arrowcolor": "#2a3f5f",
           "arrowhead": 0,
           "arrowwidth": 1
          },
          "autotypenumbers": "strict",
          "coloraxis": {
           "colorbar": {
            "outlinewidth": 0,
            "ticks": ""
           }
          },
          "colorscale": {
           "diverging": [
            [
             0,
             "#8e0152"
            ],
            [
             0.1,
             "#c51b7d"
            ],
            [
             0.2,
             "#de77ae"
            ],
            [
             0.3,
             "#f1b6da"
            ],
            [
             0.4,
             "#fde0ef"
            ],
            [
             0.5,
             "#f7f7f7"
            ],
            [
             0.6,
             "#e6f5d0"
            ],
            [
             0.7,
             "#b8e186"
            ],
            [
             0.8,
             "#7fbc41"
            ],
            [
             0.9,
             "#4d9221"
            ],
            [
             1,
             "#276419"
            ]
           ],
           "sequential": [
            [
             0,
             "#0d0887"
            ],
            [
             0.1111111111111111,
             "#46039f"
            ],
            [
             0.2222222222222222,
             "#7201a8"
            ],
            [
             0.3333333333333333,
             "#9c179e"
            ],
            [
             0.4444444444444444,
             "#bd3786"
            ],
            [
             0.5555555555555556,
             "#d8576b"
            ],
            [
             0.6666666666666666,
             "#ed7953"
            ],
            [
             0.7777777777777778,
             "#fb9f3a"
            ],
            [
             0.8888888888888888,
             "#fdca26"
            ],
            [
             1,
             "#f0f921"
            ]
           ],
           "sequentialminus": [
            [
             0,
             "#0d0887"
            ],
            [
             0.1111111111111111,
             "#46039f"
            ],
            [
             0.2222222222222222,
             "#7201a8"
            ],
            [
             0.3333333333333333,
             "#9c179e"
            ],
            [
             0.4444444444444444,
             "#bd3786"
            ],
            [
             0.5555555555555556,
             "#d8576b"
            ],
            [
             0.6666666666666666,
             "#ed7953"
            ],
            [
             0.7777777777777778,
             "#fb9f3a"
            ],
            [
             0.8888888888888888,
             "#fdca26"
            ],
            [
             1,
             "#f0f921"
            ]
           ]
          },
          "colorway": [
           "#636efa",
           "#EF553B",
           "#00cc96",
           "#ab63fa",
           "#FFA15A",
           "#19d3f3",
           "#FF6692",
           "#B6E880",
           "#FF97FF",
           "#FECB52"
          ],
          "font": {
           "color": "#2a3f5f"
          },
          "geo": {
           "bgcolor": "white",
           "lakecolor": "white",
           "landcolor": "#E5ECF6",
           "showlakes": true,
           "showland": true,
           "subunitcolor": "white"
          },
          "hoverlabel": {
           "align": "left"
          },
          "hovermode": "closest",
          "mapbox": {
           "style": "light"
          },
          "paper_bgcolor": "white",
          "plot_bgcolor": "#E5ECF6",
          "polar": {
           "angularaxis": {
            "gridcolor": "white",
            "linecolor": "white",
            "ticks": ""
           },
           "bgcolor": "#E5ECF6",
           "radialaxis": {
            "gridcolor": "white",
            "linecolor": "white",
            "ticks": ""
           }
          },
          "scene": {
           "xaxis": {
            "backgroundcolor": "#E5ECF6",
            "gridcolor": "white",
            "gridwidth": 2,
            "linecolor": "white",
            "showbackground": true,
            "ticks": "",
            "zerolinecolor": "white"
           },
           "yaxis": {
            "backgroundcolor": "#E5ECF6",
            "gridcolor": "white",
            "gridwidth": 2,
            "linecolor": "white",
            "showbackground": true,
            "ticks": "",
            "zerolinecolor": "white"
           },
           "zaxis": {
            "backgroundcolor": "#E5ECF6",
            "gridcolor": "white",
            "gridwidth": 2,
            "linecolor": "white",
            "showbackground": true,
            "ticks": "",
            "zerolinecolor": "white"
           }
          },
          "shapedefaults": {
           "line": {
            "color": "#2a3f5f"
           }
          },
          "ternary": {
           "aaxis": {
            "gridcolor": "white",
            "linecolor": "white",
            "ticks": ""
           },
           "baxis": {
            "gridcolor": "white",
            "linecolor": "white",
            "ticks": ""
           },
           "bgcolor": "#E5ECF6",
           "caxis": {
            "gridcolor": "white",
            "linecolor": "white",
            "ticks": ""
           }
          },
          "title": {
           "x": 0.05
          },
          "xaxis": {
           "automargin": true,
           "gridcolor": "white",
           "linecolor": "white",
           "ticks": "",
           "title": {
            "standoff": 15
           },
           "zerolinecolor": "white",
           "zerolinewidth": 2
          },
          "yaxis": {
           "automargin": true,
           "gridcolor": "white",
           "linecolor": "white",
           "ticks": "",
           "title": {
            "standoff": 15
           },
           "zerolinecolor": "white",
           "zerolinewidth": 2
          }
         }
        },
        "title": {
         "text": "Propiedades físico-químicas",
         "x": 0.5,
         "xanchor": "center",
         "y": 0.9,
         "yanchor": "top"
        },
        "width": 1200,
        "xaxis": {
         "domain": [
          1,
          1
         ],
         "mirror": false,
         "rangemode": "tozero",
         "showgrid": false,
         "showline": false,
         "showticklabels": true,
         "tickmode": "array",
         "ticks": "",
         "ticktext": [
          "_feat_CyclomaticNumber",
          "_feat_RingAtomCount",
          "_feat_SmallestRingSize",
          "_feat_LargestRingSize",
          "_feat_CarboRingCount",
          "_feat_CarboaromaticRingCount",
          "_feat_AromaticAtomCount",
          "_feat_AromaticRingCount",
          "_feat_WienerPolarity",
          "_feat_AtomCount_C",
          "_feat_HyperWienerIndex",
          "_feat_WienerIndex",
          "_feat_MolPol",
          "_feat_MaximalProjectionArea",
          "_feat_Refractivity",
          "_feat_minimalprojectionsize",
          "_feat_LengthPerpendicularToTheMinArea",
          "_feat_MaximalProjectionRadius",
          "_feat_AvgPol",
          "_feat_VanderWaalsVolume",
          "_feat_ASA",
          "_feat_MinimalProjectionRadius",
          "_feat_ASA-",
          "_feat_fr_quatN",
          "_feat_LengthPerpendicularToTheMaxArea",
          "_feat_maximalprojectionsize",
          "_feat_ASA_H",
          "_feat_MinimalProjectionArea",
          "_feat_ASA+",
          "_feat_molsurfaceareaASAp",
          "_feat_msareaASAp",
          "_feat_BondCount",
          "_feat_molsurfaceareaVDWp",
          "_feat_msareaVDWp",
          "_feat_VanderWaalsSurfaceArea",
          "_feat_RotatableBondCount",
          "_feat_ChainAtomCount",
          "_feat_Aliphatic AtomCount",
          "_feat_BalabanIndex",
          "_feat_fr_NH1",
          "_feat_HeteroaromaticRing Count",
          "_feat_fr_amidine",
          "_feat_fr_piperdine",
          "_feat_fr_ArN",
          "_feat_ChiralCenterCount",
          "_feat_fr_dihydropyridine",
          "_feat_fr_Ar_NH",
          "_feat_fr_pyridine",
          "_feat_fr_piperzine",
          "_feat_CarboaliphaticRingCount",
          "_feat_AliphaticRingCount",
          "_feat_fr_NH0",
          "_feat_HeteroaliphaticRingCount",
          "_feat_fr_Imine",
          "_feat_fr_NH2",
          "_feat_donsitecount",
          "_feat_fr_guanido",
          "_feat_AtomCount_N",
          "_feat_Hdonorcount",
          "_feat_donorcount",
          "_feat_ProtPolarSurfaceArea",
          "_feat_Protpsa",
          "_feat_PolarSurfaceArea",
          "_feat_Hacceptorcount",
          "_feat_acceptorcount",
          "_feat_Accsitecount",
          "_feat_ASA_P"
         ],
         "tickvals": [
          5,
          15,
          25,
          35,
          45,
          55,
          65,
          75,
          85,
          95,
          105,
          115,
          125,
          135,
          145,
          155,
          165,
          175,
          185,
          195,
          205,
          215,
          225,
          235,
          245,
          255,
          265,
          275,
          285,
          295,
          305,
          315,
          325,
          335,
          345,
          355,
          365,
          375,
          385,
          395,
          405,
          415,
          425,
          435,
          445,
          455,
          465,
          475,
          485,
          495,
          505,
          515,
          525,
          535,
          545,
          555,
          565,
          575,
          585,
          595,
          605,
          615,
          625,
          635,
          645,
          655,
          665
         ],
         "type": "linear",
         "zeroline": false
        },
        "xaxis2": {
         "domain": [
          1,
          0.8
         ],
         "mirror": false,
         "showgrid": false,
         "showline": false,
         "showticklabels": false,
         "ticks": "",
         "zeroline": false
        },
        "yaxis": {
         "domain": [
          0.1,
          0.8
         ],
         "mirror": false,
         "rangemode": "tozero",
         "showgrid": false,
         "showline": false,
         "showticklabels": true,
         "tickmode": "array",
         "ticks": "",
         "ticktext": [
          "PCA 1",
          "PCA 2",
          "PCA 3",
          "PCA 4",
          "PCA 5",
          "PCA 6",
          "PCA 7",
          "PCA 8"
         ],
         "tickvals": [
          0,
          1,
          2,
          3,
          4,
          5,
          6,
          7
         ],
         "title": {
          "text": "Componente PCA"
         },
         "type": "linear",
         "zeroline": false
        },
        "yaxis2": {
         "domain": [
          0.8,
          1
         ],
         "mirror": false,
         "showgrid": false,
         "showline": false,
         "showticklabels": false,
         "ticks": "",
         "zeroline": false
        }
       }
      }
     },
     "metadata": {}
    }
   ],
   "metadata": {}
  },
  {
   "cell_type": "code",
   "execution_count": 75,
   "source": [
    "rings_aromaticity_feats =pd.DataFrame(pca.components_.transpose(), columns = [\"PCA1\", \"PCA2\", \"PCA3\"]).query(\"PCA2 > 0.29\")\n",
    "rings_aromaticity_feats.index"
   ],
   "outputs": [
    {
     "output_type": "execute_result",
     "data": {
      "text/plain": [
       "Int64Index([1, 7, 15, 21, 38, 45, 62, 64], dtype='int64')"
      ]
     },
     "metadata": {},
     "execution_count": 75
    }
   ],
   "metadata": {}
  },
  {
   "cell_type": "code",
   "execution_count": 77,
   "source": [
    "amine_df.columns[rings_aromaticity_feats.index].to_csv"
   ],
   "outputs": [
    {
     "output_type": "execute_result",
     "data": {
      "text/plain": [
       "['_feat_CyclomaticNumber',\n",
       " '_feat_CarboaromaticRingCount',\n",
       " '_feat_CarboRingCount',\n",
       " '_feat_LargestRingSize',\n",
       " '_feat_RingAtomCount',\n",
       " '_feat_SmallestRingSize',\n",
       " '_feat_AromaticRingCount',\n",
       " '_feat_AromaticAtomCount']"
      ]
     },
     "metadata": {},
     "execution_count": 77
    }
   ],
   "metadata": {}
  },
  {
   "cell_type": "code",
   "execution_count": 58,
   "source": [
    "amine_5_components_pca, pca = apply_pca(X, 5)\n",
    "rows = [ \"PCA\"+str(x) for x in range(1,5)]\n",
    "plot_heap_map_with_dendogram(pca.components_, amine_df.columns.to_list(), rows, 'Propiedades físico-químicas')"
   ],
   "outputs": [
    {
     "output_type": "display_data",
     "data": {
      "text/html": [
       "<div>                            <div id=\"3a9db286-e468-41eb-94e5-5624ffc1aeb0\" class=\"plotly-graph-div\" style=\"height:800px; width:1200px;\"></div>            <script type=\"text/javascript\">                require([\"plotly\"], function(Plotly) {                    window.PLOTLYENV=window.PLOTLYENV || {};                                    if (document.getElementById(\"3a9db286-e468-41eb-94e5-5624ffc1aeb0\")) {                    Plotly.newPlot(                        \"3a9db286-e468-41eb-94e5-5624ffc1aeb0\",                        [{\"hoverinfo\":\"text\",\"marker\":{\"color\":\"rgb(61,153,112)\"},\"mode\":\"lines\",\"type\":\"scatter\",\"x\":[5.0,5.0,15.0,15.0],\"xaxis\":\"x\",\"y\":[0.0,0.27522355867429577,0.27522355867429577,0.0],\"yaxis\":\"y2\"},{\"hoverinfo\":\"text\",\"marker\":{\"color\":\"rgb(255,65,54)\"},\"mode\":\"lines\",\"type\":\"scatter\",\"x\":[25.0,25.0,35.0,35.0],\"xaxis\":\"x\",\"y\":[0.0,7.72682523912663e-17,7.72682523912663e-17,0.0],\"yaxis\":\"y2\"},{\"hoverinfo\":\"text\",\"marker\":{\"color\":\"rgb(255,65,54)\"},\"mode\":\"lines\",\"type\":\"scatter\",\"x\":[45.0,45.0,55.0,55.0],\"xaxis\":\"x\",\"y\":[0.0,0.12480564196433452,0.12480564196433452,0.0],\"yaxis\":\"y2\"},{\"hoverinfo\":\"text\",\"marker\":{\"color\":\"rgb(255,65,54)\"},\"mode\":\"lines\",\"type\":\"scatter\",\"x\":[30.0,30.0,50.0,50.0],\"xaxis\":\"x\",\"y\":[7.72682523912663e-17,0.23560750388161406,0.23560750388161406,0.12480564196433452],\"yaxis\":\"y2\"},{\"hoverinfo\":\"text\",\"marker\":{\"color\":\"rgb(255,65,54)\"},\"mode\":\"lines\",\"type\":\"scatter\",\"x\":[65.0,65.0,75.0,75.0],\"xaxis\":\"x\",\"y\":[0.0,0.0,0.0,0.0],\"yaxis\":\"y2\"},{\"hoverinfo\":\"text\",\"marker\":{\"color\":\"rgb(255,65,54)\"},\"mode\":\"lines\",\"type\":\"scatter\",\"x\":[70.0,70.0,85.0,85.0],\"xaxis\":\"x\",\"y\":[0.0,0.022252787574493685,0.022252787574493685,0.0],\"yaxis\":\"y2\"},{\"hoverinfo\":\"text\",\"marker\":{\"color\":\"rgb(255,65,54)\"},\"mode\":\"lines\",\"type\":\"scatter\",\"x\":[77.5,77.5,95.0,95.0],\"xaxis\":\"x\",\"y\":[0.022252787574493685,0.1583428589202881,0.1583428589202881,0.0],\"yaxis\":\"y2\"},{\"hoverinfo\":\"text\",\"marker\":{\"color\":\"rgb(255,65,54)\"},\"mode\":\"lines\",\"type\":\"scatter\",\"x\":[115.0,115.0,125.0,125.0],\"xaxis\":\"x\",\"y\":[0.0,0.0,0.0,0.0],\"yaxis\":\"y2\"},{\"hoverinfo\":\"text\",\"marker\":{\"color\":\"rgb(255,65,54)\"},\"mode\":\"lines\",\"type\":\"scatter\",\"x\":[120.0,120.0,135.0,135.0],\"xaxis\":\"x\",\"y\":[0.0,0.0688269648000984,0.0688269648000984,0.0],\"yaxis\":\"y2\"},{\"hoverinfo\":\"text\",\"marker\":{\"color\":\"rgb(255,65,54)\"},\"mode\":\"lines\",\"type\":\"scatter\",\"x\":[105.0,105.0,127.5,127.5],\"xaxis\":\"x\",\"y\":[0.0,0.14190737552229343,0.14190737552229343,0.0688269648000984],\"yaxis\":\"y2\"},{\"hoverinfo\":\"text\",\"marker\":{\"color\":\"rgb(255,65,54)\"},\"mode\":\"lines\",\"type\":\"scatter\",\"x\":[86.25,86.25,116.25,116.25],\"xaxis\":\"x\",\"y\":[0.1583428589202881,0.21526442022696884,0.21526442022696884,0.14190737552229343],\"yaxis\":\"y2\"},{\"hoverinfo\":\"text\",\"marker\":{\"color\":\"rgb(255,65,54)\"},\"mode\":\"lines\",\"type\":\"scatter\",\"x\":[40.0,40.0,101.25,101.25],\"xaxis\":\"x\",\"y\":[0.23560750388161406,0.31084148463689076,0.31084148463689076,0.21526442022696884],\"yaxis\":\"y2\"},{\"hoverinfo\":\"text\",\"marker\":{\"color\":\"rgb(255,65,54)\"},\"mode\":\"lines\",\"type\":\"scatter\",\"x\":[165.0,165.0,175.0,175.0],\"xaxis\":\"x\",\"y\":[0.0,0.10663229077560117,0.10663229077560117,0.0],\"yaxis\":\"y2\"},{\"hoverinfo\":\"text\",\"marker\":{\"color\":\"rgb(255,65,54)\"},\"mode\":\"lines\",\"type\":\"scatter\",\"x\":[155.0,155.0,170.0,170.0],\"xaxis\":\"x\",\"y\":[0.0,0.1085709844887857,0.1085709844887857,0.10663229077560117],\"yaxis\":\"y2\"},{\"hoverinfo\":\"text\",\"marker\":{\"color\":\"rgb(255,65,54)\"},\"mode\":\"lines\",\"type\":\"scatter\",\"x\":[145.0,145.0,162.5,162.5],\"xaxis\":\"x\",\"y\":[0.0,0.1992838253037879,0.1992838253037879,0.1085709844887857],\"yaxis\":\"y2\"},{\"hoverinfo\":\"text\",\"marker\":{\"color\":\"rgb(255,65,54)\"},\"mode\":\"lines\",\"type\":\"scatter\",\"x\":[185.0,185.0,195.0,195.0],\"xaxis\":\"x\",\"y\":[0.0,0.21027669443221617,0.21027669443221617,0.0],\"yaxis\":\"y2\"},{\"hoverinfo\":\"text\",\"marker\":{\"color\":\"rgb(255,65,54)\"},\"mode\":\"lines\",\"type\":\"scatter\",\"x\":[215.0,215.0,225.0,225.0],\"xaxis\":\"x\",\"y\":[0.0,0.0,0.0,0.0],\"yaxis\":\"y2\"},{\"hoverinfo\":\"text\",\"marker\":{\"color\":\"rgb(255,65,54)\"},\"mode\":\"lines\",\"type\":\"scatter\",\"x\":[220.0,220.0,235.0,235.0],\"xaxis\":\"x\",\"y\":[0.0,0.07651773896078248,0.07651773896078248,0.0],\"yaxis\":\"y2\"},{\"hoverinfo\":\"text\",\"marker\":{\"color\":\"rgb(255,65,54)\"},\"mode\":\"lines\",\"type\":\"scatter\",\"x\":[205.0,205.0,227.5,227.5],\"xaxis\":\"x\",\"y\":[0.0,0.17137449940289218,0.17137449940289218,0.07651773896078248],\"yaxis\":\"y2\"},{\"hoverinfo\":\"text\",\"marker\":{\"color\":\"rgb(255,65,54)\"},\"mode\":\"lines\",\"type\":\"scatter\",\"x\":[265.0,265.0,275.0,275.0],\"xaxis\":\"x\",\"y\":[0.0,0.0,0.0,0.0],\"yaxis\":\"y2\"},{\"hoverinfo\":\"text\",\"marker\":{\"color\":\"rgb(255,65,54)\"},\"mode\":\"lines\",\"type\":\"scatter\",\"x\":[270.0,270.0,285.0,285.0],\"xaxis\":\"x\",\"y\":[0.0,0.010924564679017472,0.010924564679017472,0.0],\"yaxis\":\"y2\"},{\"hoverinfo\":\"text\",\"marker\":{\"color\":\"rgb(255,65,54)\"},\"mode\":\"lines\",\"type\":\"scatter\",\"x\":[255.0,255.0,277.5,277.5],\"xaxis\":\"x\",\"y\":[0.0,0.047327117594094574,0.047327117594094574,0.010924564679017472],\"yaxis\":\"y2\"},{\"hoverinfo\":\"text\",\"marker\":{\"color\":\"rgb(255,65,54)\"},\"mode\":\"lines\",\"type\":\"scatter\",\"x\":[245.0,245.0,266.25,266.25],\"xaxis\":\"x\",\"y\":[0.0,0.07503303323498005,0.07503303323498005,0.047327117594094574],\"yaxis\":\"y2\"},{\"hoverinfo\":\"text\",\"marker\":{\"color\":\"rgb(255,65,54)\"},\"mode\":\"lines\",\"type\":\"scatter\",\"x\":[255.625,255.625,295.0,295.0],\"xaxis\":\"x\",\"y\":[0.07503303323498005,0.1029124355189412,0.1029124355189412,0.0],\"yaxis\":\"y2\"},{\"hoverinfo\":\"text\",\"marker\":{\"color\":\"rgb(255,65,54)\"},\"mode\":\"lines\",\"type\":\"scatter\",\"x\":[305.0,305.0,315.0,315.0],\"xaxis\":\"x\",\"y\":[0.0,0.0,0.0,0.0],\"yaxis\":\"y2\"},{\"hoverinfo\":\"text\",\"marker\":{\"color\":\"rgb(255,65,54)\"},\"mode\":\"lines\",\"type\":\"scatter\",\"x\":[310.0,310.0,325.0,325.0],\"xaxis\":\"x\",\"y\":[0.0,0.05063402420648634,0.05063402420648634,0.0],\"yaxis\":\"y2\"},{\"hoverinfo\":\"text\",\"marker\":{\"color\":\"rgb(255,65,54)\"},\"mode\":\"lines\",\"type\":\"scatter\",\"x\":[317.5,317.5,335.0,335.0],\"xaxis\":\"x\",\"y\":[0.05063402420648634,0.0839262333590185,0.0839262333590185,0.0],\"yaxis\":\"y2\"},{\"hoverinfo\":\"text\",\"marker\":{\"color\":\"rgb(255,65,54)\"},\"mode\":\"lines\",\"type\":\"scatter\",\"x\":[275.3125,275.3125,326.25,326.25],\"xaxis\":\"x\",\"y\":[0.1029124355189412,0.1281570065630233,0.1281570065630233,0.0839262333590185],\"yaxis\":\"y2\"},{\"hoverinfo\":\"text\",\"marker\":{\"color\":\"rgb(255,65,54)\"},\"mode\":\"lines\",\"type\":\"scatter\",\"x\":[355.0,355.0,365.0,365.0],\"xaxis\":\"x\",\"y\":[0.0,1.8904506745888835e-16,1.8904506745888835e-16,0.0],\"yaxis\":\"y2\"},{\"hoverinfo\":\"text\",\"marker\":{\"color\":\"rgb(255,65,54)\"},\"mode\":\"lines\",\"type\":\"scatter\",\"x\":[345.0,345.0,360.0,360.0],\"xaxis\":\"x\",\"y\":[0.0,0.0014066628506039158,0.0014066628506039158,1.8904506745888835e-16],\"yaxis\":\"y2\"},{\"hoverinfo\":\"text\",\"marker\":{\"color\":\"rgb(255,65,54)\"},\"mode\":\"lines\",\"type\":\"scatter\",\"x\":[352.5,352.5,375.0,375.0],\"xaxis\":\"x\",\"y\":[0.0014066628506039158,0.03399844990781105,0.03399844990781105,0.0],\"yaxis\":\"y2\"},{\"hoverinfo\":\"text\",\"marker\":{\"color\":\"rgb(255,65,54)\"},\"mode\":\"lines\",\"type\":\"scatter\",\"x\":[385.0,385.0,395.0,395.0],\"xaxis\":\"x\",\"y\":[0.0,0.02308377116655863,0.02308377116655863,0.0],\"yaxis\":\"y2\"},{\"hoverinfo\":\"text\",\"marker\":{\"color\":\"rgb(255,65,54)\"},\"mode\":\"lines\",\"type\":\"scatter\",\"x\":[405.0,405.0,415.0,415.0],\"xaxis\":\"x\",\"y\":[0.0,0.02829206467830389,0.02829206467830389,0.0],\"yaxis\":\"y2\"},{\"hoverinfo\":\"text\",\"marker\":{\"color\":\"rgb(255,65,54)\"},\"mode\":\"lines\",\"type\":\"scatter\",\"x\":[390.0,390.0,410.0,410.0],\"xaxis\":\"x\",\"y\":[0.02308377116655863,0.041225758329550104,0.041225758329550104,0.02829206467830389],\"yaxis\":\"y2\"},{\"hoverinfo\":\"text\",\"marker\":{\"color\":\"rgb(255,65,54)\"},\"mode\":\"lines\",\"type\":\"scatter\",\"x\":[363.75,363.75,400.0,400.0],\"xaxis\":\"x\",\"y\":[0.03399844990781105,0.07454803264627263,0.07454803264627263,0.041225758329550104],\"yaxis\":\"y2\"},{\"hoverinfo\":\"text\",\"marker\":{\"color\":\"rgb(255,65,54)\"},\"mode\":\"lines\",\"type\":\"scatter\",\"x\":[381.875,381.875,425.0,425.0],\"xaxis\":\"x\",\"y\":[0.07454803264627263,0.11301173530784417,0.11301173530784417,0.0],\"yaxis\":\"y2\"},{\"hoverinfo\":\"text\",\"marker\":{\"color\":\"rgb(255,65,54)\"},\"mode\":\"lines\",\"type\":\"scatter\",\"x\":[300.78125,300.78125,403.4375,403.4375],\"xaxis\":\"x\",\"y\":[0.1281570065630233,0.14953383768204753,0.14953383768204753,0.11301173530784417],\"yaxis\":\"y2\"},{\"hoverinfo\":\"text\",\"marker\":{\"color\":\"rgb(255,65,54)\"},\"mode\":\"lines\",\"type\":\"scatter\",\"x\":[216.25,216.25,352.109375,352.109375],\"xaxis\":\"x\",\"y\":[0.17137449940289218,0.207762992994475,0.207762992994475,0.14953383768204753],\"yaxis\":\"y2\"},{\"hoverinfo\":\"text\",\"marker\":{\"color\":\"rgb(255,65,54)\"},\"mode\":\"lines\",\"type\":\"scatter\",\"x\":[435.0,435.0,445.0,445.0],\"xaxis\":\"x\",\"y\":[0.0,7.151753151823297e-17,7.151753151823297e-17,0.0],\"yaxis\":\"y2\"},{\"hoverinfo\":\"text\",\"marker\":{\"color\":\"rgb(255,65,54)\"},\"mode\":\"lines\",\"type\":\"scatter\",\"x\":[465.0,465.0,475.0,475.0],\"xaxis\":\"x\",\"y\":[0.0,0.0,0.0,0.0],\"yaxis\":\"y2\"},{\"hoverinfo\":\"text\",\"marker\":{\"color\":\"rgb(255,65,54)\"},\"mode\":\"lines\",\"type\":\"scatter\",\"x\":[455.0,455.0,470.0,470.0],\"xaxis\":\"x\",\"y\":[0.0,0.0,0.0,0.0],\"yaxis\":\"y2\"},{\"hoverinfo\":\"text\",\"marker\":{\"color\":\"rgb(255,65,54)\"},\"mode\":\"lines\",\"type\":\"scatter\",\"x\":[485.0,485.0,495.0,495.0],\"xaxis\":\"x\",\"y\":[0.0,2.6294364399699227e-17,2.6294364399699227e-17,0.0],\"yaxis\":\"y2\"},{\"hoverinfo\":\"text\",\"marker\":{\"color\":\"rgb(255,65,54)\"},\"mode\":\"lines\",\"type\":\"scatter\",\"x\":[505.0,505.0,515.0,515.0],\"xaxis\":\"x\",\"y\":[0.0,1.1872837858696134e-17,1.1872837858696134e-17,0.0],\"yaxis\":\"y2\"},{\"hoverinfo\":\"text\",\"marker\":{\"color\":\"rgb(255,65,54)\"},\"mode\":\"lines\",\"type\":\"scatter\",\"x\":[490.0,490.0,510.0,510.0],\"xaxis\":\"x\",\"y\":[2.6294364399699227e-17,4.3767106282326655e-17,4.3767106282326655e-17,1.1872837858696134e-17],\"yaxis\":\"y2\"},{\"hoverinfo\":\"text\",\"marker\":{\"color\":\"rgb(255,65,54)\"},\"mode\":\"lines\",\"type\":\"scatter\",\"x\":[462.5,462.5,500.0,500.0],\"xaxis\":\"x\",\"y\":[0.0,5.0195412141116243e-17,5.0195412141116243e-17,4.3767106282326655e-17],\"yaxis\":\"y2\"},{\"hoverinfo\":\"text\",\"marker\":{\"color\":\"rgb(255,65,54)\"},\"mode\":\"lines\",\"type\":\"scatter\",\"x\":[440.0,440.0,481.25,481.25],\"xaxis\":\"x\",\"y\":[7.151753151823297e-17,9.441466545647744e-17,9.441466545647744e-17,5.0195412141116243e-17],\"yaxis\":\"y2\"},{\"hoverinfo\":\"text\",\"marker\":{\"color\":\"rgb(255,65,54)\"},\"mode\":\"lines\",\"type\":\"scatter\",\"x\":[284.1796875,284.1796875,460.625,460.625],\"xaxis\":\"x\",\"y\":[0.207762992994475,0.22619396451543228,0.22619396451543228,9.441466545647744e-17],\"yaxis\":\"y2\"},{\"hoverinfo\":\"text\",\"marker\":{\"color\":\"rgb(255,65,54)\"},\"mode\":\"lines\",\"type\":\"scatter\",\"x\":[190.0,190.0,372.40234375,372.40234375],\"xaxis\":\"x\",\"y\":[0.21027669443221617,0.2529106249350559,0.2529106249350559,0.22619396451543228],\"yaxis\":\"y2\"},{\"hoverinfo\":\"text\",\"marker\":{\"color\":\"rgb(255,65,54)\"},\"mode\":\"lines\",\"type\":\"scatter\",\"x\":[153.75,153.75,281.201171875,281.201171875],\"xaxis\":\"x\",\"y\":[0.1992838253037879,0.28920141337270383,0.28920141337270383,0.2529106249350559],\"yaxis\":\"y2\"},{\"hoverinfo\":\"text\",\"marker\":{\"color\":\"rgb(255,65,54)\"},\"mode\":\"lines\",\"type\":\"scatter\",\"x\":[555.0,555.0,565.0,565.0],\"xaxis\":\"x\",\"y\":[0.0,5.70088307295761e-17,5.70088307295761e-17,0.0],\"yaxis\":\"y2\"},{\"hoverinfo\":\"text\",\"marker\":{\"color\":\"rgb(255,65,54)\"},\"mode\":\"lines\",\"type\":\"scatter\",\"x\":[560.0,560.0,575.0,575.0],\"xaxis\":\"x\",\"y\":[5.70088307295761e-17,8.378058922587722e-17,8.378058922587722e-17,0.0],\"yaxis\":\"y2\"},{\"hoverinfo\":\"text\",\"marker\":{\"color\":\"rgb(255,65,54)\"},\"mode\":\"lines\",\"type\":\"scatter\",\"x\":[545.0,545.0,567.5,567.5],\"xaxis\":\"x\",\"y\":[0.0,0.1002872096393401,0.1002872096393401,8.378058922587722e-17],\"yaxis\":\"y2\"},{\"hoverinfo\":\"text\",\"marker\":{\"color\":\"rgb(255,65,54)\"},\"mode\":\"lines\",\"type\":\"scatter\",\"x\":[535.0,535.0,556.25,556.25],\"xaxis\":\"x\",\"y\":[0.0,0.17406815062533254,0.17406815062533254,0.1002872096393401],\"yaxis\":\"y2\"},{\"hoverinfo\":\"text\",\"marker\":{\"color\":\"rgb(255,65,54)\"},\"mode\":\"lines\",\"type\":\"scatter\",\"x\":[595.0,595.0,605.0,605.0],\"xaxis\":\"x\",\"y\":[0.0,0.0,0.0,0.0],\"yaxis\":\"y2\"},{\"hoverinfo\":\"text\",\"marker\":{\"color\":\"rgb(255,65,54)\"},\"mode\":\"lines\",\"type\":\"scatter\",\"x\":[585.0,585.0,600.0,600.0],\"xaxis\":\"x\",\"y\":[0.0,3.622208959480119e-17,3.622208959480119e-17,0.0],\"yaxis\":\"y2\"},{\"hoverinfo\":\"text\",\"marker\":{\"color\":\"rgb(255,65,54)\"},\"mode\":\"lines\",\"type\":\"scatter\",\"x\":[592.5,592.5,615.0,615.0],\"xaxis\":\"x\",\"y\":[3.622208959480119e-17,0.027464667172756255,0.027464667172756255,0.0],\"yaxis\":\"y2\"},{\"hoverinfo\":\"text\",\"marker\":{\"color\":\"rgb(255,65,54)\"},\"mode\":\"lines\",\"type\":\"scatter\",\"x\":[545.625,545.625,603.75,603.75],\"xaxis\":\"x\",\"y\":[0.17406815062533254,0.2027988844507718,0.2027988844507718,0.027464667172756255],\"yaxis\":\"y2\"},{\"hoverinfo\":\"text\",\"marker\":{\"color\":\"rgb(255,65,54)\"},\"mode\":\"lines\",\"type\":\"scatter\",\"x\":[525.0,525.0,574.6875,574.6875],\"xaxis\":\"x\",\"y\":[0.0,0.24341289844683422,0.24341289844683422,0.2027988844507718],\"yaxis\":\"y2\"},{\"hoverinfo\":\"text\",\"marker\":{\"color\":\"rgb(255,65,54)\"},\"mode\":\"lines\",\"type\":\"scatter\",\"x\":[217.4755859375,217.4755859375,549.84375,549.84375],\"xaxis\":\"x\",\"y\":[0.28920141337270383,0.35189658271827595,0.35189658271827595,0.24341289844683422],\"yaxis\":\"y2\"},{\"hoverinfo\":\"text\",\"marker\":{\"color\":\"rgb(255,65,54)\"},\"mode\":\"lines\",\"type\":\"scatter\",\"x\":[383.65966796875,383.65966796875,625.0,625.0],\"xaxis\":\"x\",\"y\":[0.35189658271827595,0.3709076585618717,0.3709076585618717,0.0],\"yaxis\":\"y2\"},{\"hoverinfo\":\"text\",\"marker\":{\"color\":\"rgb(255,65,54)\"},\"mode\":\"lines\",\"type\":\"scatter\",\"x\":[70.625,70.625,504.329833984375,504.329833984375],\"xaxis\":\"x\",\"y\":[0.31084148463689076,0.40120225574959745,0.40120225574959745,0.3709076585618717],\"yaxis\":\"y2\"},{\"hoverinfo\":\"text\",\"marker\":{\"color\":\"rgb(35,205,205)\"},\"mode\":\"lines\",\"type\":\"scatter\",\"x\":[645.0,645.0,655.0,655.0],\"xaxis\":\"x\",\"y\":[0.0,0.0,0.0,0.0],\"yaxis\":\"y2\"},{\"hoverinfo\":\"text\",\"marker\":{\"color\":\"rgb(35,205,205)\"},\"mode\":\"lines\",\"type\":\"scatter\",\"x\":[650.0,650.0,665.0,665.0],\"xaxis\":\"x\",\"y\":[0.0,1.55041972118466e-16,1.55041972118466e-16,0.0],\"yaxis\":\"y2\"},{\"hoverinfo\":\"text\",\"marker\":{\"color\":\"rgb(35,205,205)\"},\"mode\":\"lines\",\"type\":\"scatter\",\"x\":[635.0,635.0,657.5,657.5],\"xaxis\":\"x\",\"y\":[0.0,0.18442501791651847,0.18442501791651847,1.55041972118466e-16],\"yaxis\":\"y2\"},{\"hoverinfo\":\"text\",\"marker\":{\"color\":\"rgb(0,116,217)\"},\"mode\":\"lines\",\"type\":\"scatter\",\"x\":[287.4774169921875,287.4774169921875,646.25,646.25],\"xaxis\":\"x\",\"y\":[0.40120225574959745,0.5379515474832538,0.5379515474832538,0.18442501791651847],\"yaxis\":\"y2\"},{\"hoverinfo\":\"text\",\"marker\":{\"color\":\"rgb(0,116,217)\"},\"mode\":\"lines\",\"type\":\"scatter\",\"x\":[10.0,10.0,466.86370849609375,466.86370849609375],\"xaxis\":\"x\",\"y\":[0.27522355867429577,0.5855732861249281,0.5855732861249281,0.5379515474832538],\"yaxis\":\"y2\"},{\"colorbar\":{\"len\":0.8,\"nticks\":15,\"title\":{\"text\":\"loadings\"}},\"colorscale\":[[0.0,\"rgb(0,0,0)\"],[0.25,\"rgb(230,0,0)\"],[0.5,\"rgb(230,210,0)\"],[0.75,\"rgb(255,255,255)\"],[1.0,\"rgb(160,200,255)\"]],\"type\":\"heatmap\",\"x\":[5,15,25,35,45,55,65,75,85,95,105,115,125,135,145,155,165,175,185,195,205,215,225,235,245,255,265,275,285,295,305,315,325,335,345,355,365,375,385,395,405,415,425,435,445,455,465,475,485,495,505,515,525,535,545,555,565,575,585,595,605,615,625,635,645,655,665],\"y\":[0,1,2,3,4,5,6,7],\"z\":[[-0.01929286056278314,0.0867703001709518,-0.09991311295238574,-0.09991311295238572,-0.0817194365654243,-0.061100978151762464,-0.08884558223431224,-0.08884558223431224,-0.09191844540175541,-0.08344727661498465,-0.08884680007947746,-0.09253166906063211,-0.09253166906063211,-0.055939106113896124,0.014302732284612232,0.14674678733479107,0.18020501488113946,0.16778994941807407,0.13301417855533107,0.0908596043784008,0.13905094871169157,0.15482986752455072,0.15482986752455072,0.18017595550686488,0.16430542864945086,0.15652023543342422,0.17892425811877924,0.17892425811877924,0.18061330283058852,0.18953091700224098,0.17933932596387994,0.17933932596387994,0.18003947706407855,0.16403993264878808,0.19157701503010044,0.19157536055946628,0.1915753605594663,0.19004513797114211,0.19183039590754197,0.1916508518828029,0.18861183650511748,0.18721918073801772,0.18444714563437448,2.7007522048616464e-18,6.375443034299506e-18,-0.0,-0.0,-0.0,3.821425447584413e-18,-3.76017164031808e-18,-9.628636823845738e-18,-7.619718205270746e-18,-0.060929345451513066,0.1406322565228361,0.048614916034584385,0.04407090500411201,0.04407090500411202,0.044070905004111996,0.029824608308294823,0.029824608308294816,0.029824608308294816,0.02576177102300803,0.12802250781381533,-0.030994262284490415,-0.05728404071226961,-0.05728404071226961,-0.05728404071226963],[-0.07388103889681599,-0.02613941473702945,-0.054199181789036904,-0.05419918178903689,-0.07621420290485253,-0.04054024899524916,-0.006120679303414121,-0.006120679303414121,-0.003828195628939979,-0.03907436326018004,-0.05502777909028656,0.0353530544819998,0.0353530544819998,0.0706197162359428,0.03315311847989961,0.04951268291715403,0.044180599456278107,-0.022108998202654065,-0.17211890257479232,-0.16556499739016112,-0.19122093435729715,-0.1234592760946075,-0.1234592760946075,-0.07936812961933133,0.0659641205960864,0.017799291800513567,0.011249294164269244,0.011249294164269244,0.0045034717981824205,-0.014653031159673105,-0.036936756679605366,-0.036936756679605366,-0.04335898590401824,-0.1005628769172826,-0.04157559867580835,-0.04145234916189834,-0.0414523491618983,-0.03819210751087207,0.007838094721762025,0.011508881484371293,0.04550660476715198,0.0427501184045375,0.0970880767281555,-1.1580649868267942e-17,3.23673428958069e-17,0.0,0.0,0.0,2.59648384741094e-18,-8.869018254394194e-18,-4.621136129757086e-18,-1.1154421330442543e-17,0.15466505346580908,0.18523314242332437,0.2961279744869278,0.29006997302327936,0.2900699730232793,0.2900699730232793,0.30936318178746647,0.30936318178746647,0.30936318178746647,0.30813313186259406,0.05023930799320987,0.0559830476829217,0.04448140035760785,0.04448140035760785,0.044481400357607885],[0.0964144979339354,-0.12898218079651402,0.25222182359486195,0.2522218235948619,0.2713858810034936,0.2667781257343078,0.2869497705676957,0.2869497705676957,0.28730234652477876,0.2546974586866909,0.19532374752895465,0.2585239583606278,0.2585239583606278,0.22899468282792448,-0.021079286169961502,0.08296940663705141,0.09085417729989914,0.02467699457158037,0.07047399032767279,0.021177710419598508,0.07844624726484131,-0.05886880335142278,-0.05886880335142278,-0.015796467319382695,0.11455284122810837,0.11758195444329277,0.08756045723896329,0.08756045723896329,0.08405832962452632,0.06215691114920143,0.049094726867536194,0.049094726867536194,0.05535847754920637,0.09063583296139985,0.04706737826791526,0.04703382355642941,0.04703382355642939,0.050988225615983845,0.05991935777969812,0.06686687014725176,0.0624000367318362,0.08490737698460113,0.03187866321727243,9.539197078442345e-18,9.045761663870384e-18,-0.0,-0.0,-0.0,6.222927067985676e-18,5.240733095862591e-18,8.216818405154234e-18,5.713977572834515e-18,0.15161738993941165,0.06722570949437501,0.00965333673366011,0.018333534923685897,0.018333534923685908,0.018333534923685887,0.006485362685853938,0.006485362685853934,0.006485362685853934,0.00578233776379802,0.04952024705302672,-0.022151735592258526,-0.009639644029426298,-0.009639644029426298,-0.009639644029426315],[-0.003645813115788588,0.07040011602154893,0.11771987650396966,0.11771987650396962,-0.05597739711243193,-0.1690898466379512,-0.08447376925412114,-0.08447376925412114,-0.06290727739039247,-0.06379635038522675,0.07615947797307888,0.09711845139751686,0.09711845139751686,0.07282406796693823,0.11747199007739449,0.04257331796957434,0.027371394951969472,0.03162391143855314,0.15607766456180194,-0.02315977438178394,-0.05195555813811978,0.0011549755824248518,0.0011549755824248518,-0.020331567220970015,0.0220700627894573,0.04109111757084005,0.020768601827017213,0.020768601827017213,0.025690249445917555,-0.026749977476599605,0.0868027262017941,0.0868027262017941,0.04292356350096536,0.05498322393040464,0.011841187525428626,0.013205194007414186,0.013205194007414016,0.044274893355173726,0.023185813141921172,0.034890056921735316,0.03362370603849346,0.0218273594073461,0.019146934768646092,-9.148950390673846e-17,-4.2022390652436987e-17,0.0,0.0,0.0,1.5826411335504062e-17,2.3324332848483316e-17,5.1219724086175975e-17,5.4337250210518374e-17,-0.003085641144627626,-0.054500958347434875,-0.08017301974657738,-0.12919000038709266,-0.12919000038709266,-0.12919000038709272,0.0591687606053067,0.059168760605306736,0.059168760605306736,0.08582514132398374,-0.1576465962778263,0.3935642388788018,0.4283034112558659,0.4283034112558659,0.42830341125586596],[0.497255916775037,0.42023067349356436,0.14165708410249006,0.14165708410249003,0.17944655957170125,0.146842283702647,0.020092830560492526,0.020092830560492526,0.01618761554999787,-0.13216945676186145,-0.19841841377579825,-0.1170041118692151,-0.1170041118692151,-0.1433138592940354,0.22053054581701756,0.25219837735415834,0.15066454273333485,0.1999037285256598,0.05223326126659233,0.14077784716715025,-0.019016134827860555,-0.0655193174869761,-0.0655193174869761,-0.09636754838049548,-0.0823166872646406,-0.13446439645837774,-0.12165226972892927,-0.12165226972892927,-0.11577863296110658,-0.07557101806018708,-0.05116844026943056,-0.05116844026943056,-0.02755798335642041,-0.07000165005453698,0.029128120184937423,0.028808953153814713,0.02880895315381465,0.03986319135816032,0.03214707898797537,0.013868776845761837,0.01975164039027204,0.007703028125264062,0.003711398279366417,4.107318378513209e-17,1.419216591831621e-17,-0.0,-0.0,-0.0,4.7972759496193886e-17,2.6871297122208796e-17,1.688175958513986e-17,8.035205006014088e-18,0.08048729756381731,0.0697369472878813,0.06632077306483268,-0.020409652781784388,-0.02040965278178439,-0.020409652781784433,0.043507381878473764,0.04350738187847376,0.04350738187847376,0.03848429555373352,-0.14140449940904418,0.10894031355558544,-0.06945751255171452,-0.06945751255171452,-0.06945751255171466]]}],                        {\"autosize\":false,\"boxmode\":\"group\",\"height\":800,\"hovermode\":\"closest\",\"showlegend\":false,\"template\":{\"data\":{\"bar\":[{\"error_x\":{\"color\":\"#2a3f5f\"},\"error_y\":{\"color\":\"#2a3f5f\"},\"marker\":{\"line\":{\"color\":\"#E5ECF6\",\"width\":0.5},\"pattern\":{\"fillmode\":\"overlay\",\"size\":10,\"solidity\":0.2}},\"type\":\"bar\"}],\"barpolar\":[{\"marker\":{\"line\":{\"color\":\"#E5ECF6\",\"width\":0.5},\"pattern\":{\"fillmode\":\"overlay\",\"size\":10,\"solidity\":0.2}},\"type\":\"barpolar\"}],\"carpet\":[{\"aaxis\":{\"endlinecolor\":\"#2a3f5f\",\"gridcolor\":\"white\",\"linecolor\":\"white\",\"minorgridcolor\":\"white\",\"startlinecolor\":\"#2a3f5f\"},\"baxis\":{\"endlinecolor\":\"#2a3f5f\",\"gridcolor\":\"white\",\"linecolor\":\"white\",\"minorgridcolor\":\"white\",\"startlinecolor\":\"#2a3f5f\"},\"type\":\"carpet\"}],\"choropleth\":[{\"colorbar\":{\"outlinewidth\":0,\"ticks\":\"\"},\"type\":\"choropleth\"}],\"contour\":[{\"colorbar\":{\"outlinewidth\":0,\"ticks\":\"\"},\"colorscale\":[[0.0,\"#0d0887\"],[0.1111111111111111,\"#46039f\"],[0.2222222222222222,\"#7201a8\"],[0.3333333333333333,\"#9c179e\"],[0.4444444444444444,\"#bd3786\"],[0.5555555555555556,\"#d8576b\"],[0.6666666666666666,\"#ed7953\"],[0.7777777777777778,\"#fb9f3a\"],[0.8888888888888888,\"#fdca26\"],[1.0,\"#f0f921\"]],\"type\":\"contour\"}],\"contourcarpet\":[{\"colorbar\":{\"outlinewidth\":0,\"ticks\":\"\"},\"type\":\"contourcarpet\"}],\"heatmap\":[{\"colorbar\":{\"outlinewidth\":0,\"ticks\":\"\"},\"colorscale\":[[0.0,\"#0d0887\"],[0.1111111111111111,\"#46039f\"],[0.2222222222222222,\"#7201a8\"],[0.3333333333333333,\"#9c179e\"],[0.4444444444444444,\"#bd3786\"],[0.5555555555555556,\"#d8576b\"],[0.6666666666666666,\"#ed7953\"],[0.7777777777777778,\"#fb9f3a\"],[0.8888888888888888,\"#fdca26\"],[1.0,\"#f0f921\"]],\"type\":\"heatmap\"}],\"heatmapgl\":[{\"colorbar\":{\"outlinewidth\":0,\"ticks\":\"\"},\"colorscale\":[[0.0,\"#0d0887\"],[0.1111111111111111,\"#46039f\"],[0.2222222222222222,\"#7201a8\"],[0.3333333333333333,\"#9c179e\"],[0.4444444444444444,\"#bd3786\"],[0.5555555555555556,\"#d8576b\"],[0.6666666666666666,\"#ed7953\"],[0.7777777777777778,\"#fb9f3a\"],[0.8888888888888888,\"#fdca26\"],[1.0,\"#f0f921\"]],\"type\":\"heatmapgl\"}],\"histogram\":[{\"marker\":{\"pattern\":{\"fillmode\":\"overlay\",\"size\":10,\"solidity\":0.2}},\"type\":\"histogram\"}],\"histogram2d\":[{\"colorbar\":{\"outlinewidth\":0,\"ticks\":\"\"},\"colorscale\":[[0.0,\"#0d0887\"],[0.1111111111111111,\"#46039f\"],[0.2222222222222222,\"#7201a8\"],[0.3333333333333333,\"#9c179e\"],[0.4444444444444444,\"#bd3786\"],[0.5555555555555556,\"#d8576b\"],[0.6666666666666666,\"#ed7953\"],[0.7777777777777778,\"#fb9f3a\"],[0.8888888888888888,\"#fdca26\"],[1.0,\"#f0f921\"]],\"type\":\"histogram2d\"}],\"histogram2dcontour\":[{\"colorbar\":{\"outlinewidth\":0,\"ticks\":\"\"},\"colorscale\":[[0.0,\"#0d0887\"],[0.1111111111111111,\"#46039f\"],[0.2222222222222222,\"#7201a8\"],[0.3333333333333333,\"#9c179e\"],[0.4444444444444444,\"#bd3786\"],[0.5555555555555556,\"#d8576b\"],[0.6666666666666666,\"#ed7953\"],[0.7777777777777778,\"#fb9f3a\"],[0.8888888888888888,\"#fdca26\"],[1.0,\"#f0f921\"]],\"type\":\"histogram2dcontour\"}],\"mesh3d\":[{\"colorbar\":{\"outlinewidth\":0,\"ticks\":\"\"},\"type\":\"mesh3d\"}],\"parcoords\":[{\"line\":{\"colorbar\":{\"outlinewidth\":0,\"ticks\":\"\"}},\"type\":\"parcoords\"}],\"pie\":[{\"automargin\":true,\"type\":\"pie\"}],\"scatter\":[{\"marker\":{\"colorbar\":{\"outlinewidth\":0,\"ticks\":\"\"}},\"type\":\"scatter\"}],\"scatter3d\":[{\"line\":{\"colorbar\":{\"outlinewidth\":0,\"ticks\":\"\"}},\"marker\":{\"colorbar\":{\"outlinewidth\":0,\"ticks\":\"\"}},\"type\":\"scatter3d\"}],\"scattercarpet\":[{\"marker\":{\"colorbar\":{\"outlinewidth\":0,\"ticks\":\"\"}},\"type\":\"scattercarpet\"}],\"scattergeo\":[{\"marker\":{\"colorbar\":{\"outlinewidth\":0,\"ticks\":\"\"}},\"type\":\"scattergeo\"}],\"scattergl\":[{\"marker\":{\"colorbar\":{\"outlinewidth\":0,\"ticks\":\"\"}},\"type\":\"scattergl\"}],\"scattermapbox\":[{\"marker\":{\"colorbar\":{\"outlinewidth\":0,\"ticks\":\"\"}},\"type\":\"scattermapbox\"}],\"scatterpolar\":[{\"marker\":{\"colorbar\":{\"outlinewidth\":0,\"ticks\":\"\"}},\"type\":\"scatterpolar\"}],\"scatterpolargl\":[{\"marker\":{\"colorbar\":{\"outlinewidth\":0,\"ticks\":\"\"}},\"type\":\"scatterpolargl\"}],\"scatterternary\":[{\"marker\":{\"colorbar\":{\"outlinewidth\":0,\"ticks\":\"\"}},\"type\":\"scatterternary\"}],\"surface\":[{\"colorbar\":{\"outlinewidth\":0,\"ticks\":\"\"},\"colorscale\":[[0.0,\"#0d0887\"],[0.1111111111111111,\"#46039f\"],[0.2222222222222222,\"#7201a8\"],[0.3333333333333333,\"#9c179e\"],[0.4444444444444444,\"#bd3786\"],[0.5555555555555556,\"#d8576b\"],[0.6666666666666666,\"#ed7953\"],[0.7777777777777778,\"#fb9f3a\"],[0.8888888888888888,\"#fdca26\"],[1.0,\"#f0f921\"]],\"type\":\"surface\"}],\"table\":[{\"cells\":{\"fill\":{\"color\":\"#EBF0F8\"},\"line\":{\"color\":\"white\"}},\"header\":{\"fill\":{\"color\":\"#C8D4E3\"},\"line\":{\"color\":\"white\"}},\"type\":\"table\"}]},\"layout\":{\"annotationdefaults\":{\"arrowcolor\":\"#2a3f5f\",\"arrowhead\":0,\"arrowwidth\":1},\"autotypenumbers\":\"strict\",\"coloraxis\":{\"colorbar\":{\"outlinewidth\":0,\"ticks\":\"\"}},\"colorscale\":{\"diverging\":[[0,\"#8e0152\"],[0.1,\"#c51b7d\"],[0.2,\"#de77ae\"],[0.3,\"#f1b6da\"],[0.4,\"#fde0ef\"],[0.5,\"#f7f7f7\"],[0.6,\"#e6f5d0\"],[0.7,\"#b8e186\"],[0.8,\"#7fbc41\"],[0.9,\"#4d9221\"],[1,\"#276419\"]],\"sequential\":[[0.0,\"#0d0887\"],[0.1111111111111111,\"#46039f\"],[0.2222222222222222,\"#7201a8\"],[0.3333333333333333,\"#9c179e\"],[0.4444444444444444,\"#bd3786\"],[0.5555555555555556,\"#d8576b\"],[0.6666666666666666,\"#ed7953\"],[0.7777777777777778,\"#fb9f3a\"],[0.8888888888888888,\"#fdca26\"],[1.0,\"#f0f921\"]],\"sequentialminus\":[[0.0,\"#0d0887\"],[0.1111111111111111,\"#46039f\"],[0.2222222222222222,\"#7201a8\"],[0.3333333333333333,\"#9c179e\"],[0.4444444444444444,\"#bd3786\"],[0.5555555555555556,\"#d8576b\"],[0.6666666666666666,\"#ed7953\"],[0.7777777777777778,\"#fb9f3a\"],[0.8888888888888888,\"#fdca26\"],[1.0,\"#f0f921\"]]},\"colorway\":[\"#636efa\",\"#EF553B\",\"#00cc96\",\"#ab63fa\",\"#FFA15A\",\"#19d3f3\",\"#FF6692\",\"#B6E880\",\"#FF97FF\",\"#FECB52\"],\"font\":{\"color\":\"#2a3f5f\"},\"geo\":{\"bgcolor\":\"white\",\"lakecolor\":\"white\",\"landcolor\":\"#E5ECF6\",\"showlakes\":true,\"showland\":true,\"subunitcolor\":\"white\"},\"hoverlabel\":{\"align\":\"left\"},\"hovermode\":\"closest\",\"mapbox\":{\"style\":\"light\"},\"paper_bgcolor\":\"white\",\"plot_bgcolor\":\"#E5ECF6\",\"polar\":{\"angularaxis\":{\"gridcolor\":\"white\",\"linecolor\":\"white\",\"ticks\":\"\"},\"bgcolor\":\"#E5ECF6\",\"radialaxis\":{\"gridcolor\":\"white\",\"linecolor\":\"white\",\"ticks\":\"\"}},\"scene\":{\"xaxis\":{\"backgroundcolor\":\"#E5ECF6\",\"gridcolor\":\"white\",\"gridwidth\":2,\"linecolor\":\"white\",\"showbackground\":true,\"ticks\":\"\",\"zerolinecolor\":\"white\"},\"yaxis\":{\"backgroundcolor\":\"#E5ECF6\",\"gridcolor\":\"white\",\"gridwidth\":2,\"linecolor\":\"white\",\"showbackground\":true,\"ticks\":\"\",\"zerolinecolor\":\"white\"},\"zaxis\":{\"backgroundcolor\":\"#E5ECF6\",\"gridcolor\":\"white\",\"gridwidth\":2,\"linecolor\":\"white\",\"showbackground\":true,\"ticks\":\"\",\"zerolinecolor\":\"white\"}},\"shapedefaults\":{\"line\":{\"color\":\"#2a3f5f\"}},\"ternary\":{\"aaxis\":{\"gridcolor\":\"white\",\"linecolor\":\"white\",\"ticks\":\"\"},\"baxis\":{\"gridcolor\":\"white\",\"linecolor\":\"white\",\"ticks\":\"\"},\"bgcolor\":\"#E5ECF6\",\"caxis\":{\"gridcolor\":\"white\",\"linecolor\":\"white\",\"ticks\":\"\"}},\"title\":{\"x\":0.05},\"xaxis\":{\"automargin\":true,\"gridcolor\":\"white\",\"linecolor\":\"white\",\"ticks\":\"\",\"title\":{\"standoff\":15},\"zerolinecolor\":\"white\",\"zerolinewidth\":2},\"yaxis\":{\"automargin\":true,\"gridcolor\":\"white\",\"linecolor\":\"white\",\"ticks\":\"\",\"title\":{\"standoff\":15},\"zerolinecolor\":\"white\",\"zerolinewidth\":2}}},\"title\":{\"text\":\"Propiedades f\\u00edsico-qu\\u00edmicas\",\"x\":0.5,\"xanchor\":\"center\",\"y\":0.9,\"yanchor\":\"top\"},\"width\":1200,\"xaxis\":{\"domain\":[1,1],\"mirror\":false,\"rangemode\":\"tozero\",\"showgrid\":false,\"showline\":false,\"showticklabels\":true,\"tickmode\":\"array\",\"ticks\":\"\",\"ticktext\":[\"_feat_fr_NH1\",\"_feat_fr_quatN\",\"_feat_Hdonorcount\",\"_feat_AtomCount_N\",\"_feat_donorcount\",\"_feat_donsitecount\",\"_feat_ProtPolarSurfaceArea\",\"_feat_Protpsa\",\"_feat_PolarSurfaceArea\",\"_feat_fr_guanido\",\"_feat_fr_NH2\",\"_feat_acceptorcount\",\"_feat_Hacceptorcount\",\"_feat_Accsitecount\",\"_feat_CarboaliphaticRingCount\",\"_feat_MinimalProjectionRadius\",\"_feat_Refractivity\",\"_feat_MinimalProjectionArea\",\"_feat_Aliphatic AtomCount\",\"_feat_BalabanIndex\",\"_feat_ChainAtomCount\",\"_feat_LengthPerpendicularToTheMaxArea\",\"_feat_maximalprojectionsize\",\"_feat_ASA_H\",\"_feat_WienerIndex\",\"_feat_HyperWienerIndex\",\"_feat_minimalprojectionsize\",\"_feat_LengthPerpendicularToTheMinArea\",\"_feat_MaximalProjectionRadius\",\"_feat_ASA\",\"_feat_msareaASAp\",\"_feat_molsurfaceareaASAp\",\"_feat_ASA+\",\"_feat_RotatableBondCount\",\"_feat_VanderWaalsSurfaceArea\",\"_feat_msareaVDWp\",\"_feat_molsurfaceareaVDWp\",\"_feat_BondCount\",\"_feat_VanderWaalsVolume\",\"_feat_AvgPol\",\"_feat_MolPol\",\"_feat_MaximalProjectionArea\",\"_feat_AtomCount_C\",\"_feat_fr_piperzine\",\"_feat_HeteroaromaticRing Count\",\"_feat_ChiralCenterCount\",\"_feat_fr_ArN\",\"_feat_fr_piperdine\",\"_feat_fr_amidine\",\"_feat_fr_pyridine\",\"_feat_fr_dihydropyridine\",\"_feat_fr_Ar_NH\",\"_feat_ASA_P\",\"_feat_WienerPolarity\",\"_feat_CarboRingCount\",\"_feat_AromaticRingCount\",\"_feat_AromaticAtomCount\",\"_feat_CarboaromaticRingCount\",\"_feat_LargestRingSize\",\"_feat_SmallestRingSize\",\"_feat_RingAtomCount\",\"_feat_CyclomaticNumber\",\"_feat_ASA-\",\"_feat_AliphaticRingCount\",\"_feat_fr_NH0\",\"_feat_HeteroaliphaticRingCount\",\"_feat_fr_Imine\"],\"tickvals\":[5,15,25,35,45,55,65,75,85,95,105,115,125,135,145,155,165,175,185,195,205,215,225,235,245,255,265,275,285,295,305,315,325,335,345,355,365,375,385,395,405,415,425,435,445,455,465,475,485,495,505,515,525,535,545,555,565,575,585,595,605,615,625,635,645,655,665],\"type\":\"linear\",\"zeroline\":false},\"xaxis2\":{\"domain\":[1,0.8],\"mirror\":false,\"showgrid\":false,\"showline\":false,\"showticklabels\":false,\"ticks\":\"\",\"zeroline\":false},\"yaxis\":{\"domain\":[0.1,0.8],\"mirror\":false,\"rangemode\":\"tozero\",\"showgrid\":false,\"showline\":false,\"showticklabels\":true,\"tickmode\":\"array\",\"ticks\":\"\",\"ticktext\":[\"PCA 1\",\"PCA 2\",\"PCA 3\",\"PCA 4\",\"PCA 5\",\"PCA 6\",\"PCA 7\",\"PCA 8\"],\"tickvals\":[0,1,2,3,4,5,6,7],\"title\":{\"text\":\"Componente PCA\"},\"type\":\"linear\",\"zeroline\":false},\"yaxis2\":{\"domain\":[0.8,1],\"mirror\":false,\"showgrid\":false,\"showline\":false,\"showticklabels\":false,\"ticks\":\"\",\"zeroline\":false}},                        {\"responsive\": true}                    ).then(function(){\n",
       "                            \n",
       "var gd = document.getElementById('3a9db286-e468-41eb-94e5-5624ffc1aeb0');\n",
       "var x = new MutationObserver(function (mutations, observer) {{\n",
       "        var display = window.getComputedStyle(gd).display;\n",
       "        if (!display || display === 'none') {{\n",
       "            console.log([gd, 'removed!']);\n",
       "            Plotly.purge(gd);\n",
       "            observer.disconnect();\n",
       "        }}\n",
       "}});\n",
       "\n",
       "// Listen for the removal of the full notebook cells\n",
       "var notebookContainer = gd.closest('#notebook-container');\n",
       "if (notebookContainer) {{\n",
       "    x.observe(notebookContainer, {childList: true});\n",
       "}}\n",
       "\n",
       "// Listen for the clearing of the current output cell\n",
       "var outputEl = gd.closest('.output');\n",
       "if (outputEl) {{\n",
       "    x.observe(outputEl, {childList: true});\n",
       "}}\n",
       "\n",
       "                        })                };                });            </script>        </div>"
      ],
      "application/vnd.plotly.v1+json": {
       "config": {
        "plotlyServerURL": "https://plot.ly"
       },
       "data": [
        {
         "hoverinfo": "text",
         "marker": {
          "color": "rgb(61,153,112)"
         },
         "mode": "lines",
         "type": "scatter",
         "x": [
          5,
          5,
          15,
          15
         ],
         "xaxis": "x",
         "y": [
          0,
          0.27522355867429577,
          0.27522355867429577,
          0
         ],
         "yaxis": "y2"
        },
        {
         "hoverinfo": "text",
         "marker": {
          "color": "rgb(255,65,54)"
         },
         "mode": "lines",
         "type": "scatter",
         "x": [
          25,
          25,
          35,
          35
         ],
         "xaxis": "x",
         "y": [
          0,
          7.72682523912663e-17,
          7.72682523912663e-17,
          0
         ],
         "yaxis": "y2"
        },
        {
         "hoverinfo": "text",
         "marker": {
          "color": "rgb(255,65,54)"
         },
         "mode": "lines",
         "type": "scatter",
         "x": [
          45,
          45,
          55,
          55
         ],
         "xaxis": "x",
         "y": [
          0,
          0.12480564196433452,
          0.12480564196433452,
          0
         ],
         "yaxis": "y2"
        },
        {
         "hoverinfo": "text",
         "marker": {
          "color": "rgb(255,65,54)"
         },
         "mode": "lines",
         "type": "scatter",
         "x": [
          30,
          30,
          50,
          50
         ],
         "xaxis": "x",
         "y": [
          7.72682523912663e-17,
          0.23560750388161406,
          0.23560750388161406,
          0.12480564196433452
         ],
         "yaxis": "y2"
        },
        {
         "hoverinfo": "text",
         "marker": {
          "color": "rgb(255,65,54)"
         },
         "mode": "lines",
         "type": "scatter",
         "x": [
          65,
          65,
          75,
          75
         ],
         "xaxis": "x",
         "y": [
          0,
          0,
          0,
          0
         ],
         "yaxis": "y2"
        },
        {
         "hoverinfo": "text",
         "marker": {
          "color": "rgb(255,65,54)"
         },
         "mode": "lines",
         "type": "scatter",
         "x": [
          70,
          70,
          85,
          85
         ],
         "xaxis": "x",
         "y": [
          0,
          0.022252787574493685,
          0.022252787574493685,
          0
         ],
         "yaxis": "y2"
        },
        {
         "hoverinfo": "text",
         "marker": {
          "color": "rgb(255,65,54)"
         },
         "mode": "lines",
         "type": "scatter",
         "x": [
          77.5,
          77.5,
          95,
          95
         ],
         "xaxis": "x",
         "y": [
          0.022252787574493685,
          0.1583428589202881,
          0.1583428589202881,
          0
         ],
         "yaxis": "y2"
        },
        {
         "hoverinfo": "text",
         "marker": {
          "color": "rgb(255,65,54)"
         },
         "mode": "lines",
         "type": "scatter",
         "x": [
          115,
          115,
          125,
          125
         ],
         "xaxis": "x",
         "y": [
          0,
          0,
          0,
          0
         ],
         "yaxis": "y2"
        },
        {
         "hoverinfo": "text",
         "marker": {
          "color": "rgb(255,65,54)"
         },
         "mode": "lines",
         "type": "scatter",
         "x": [
          120,
          120,
          135,
          135
         ],
         "xaxis": "x",
         "y": [
          0,
          0.0688269648000984,
          0.0688269648000984,
          0
         ],
         "yaxis": "y2"
        },
        {
         "hoverinfo": "text",
         "marker": {
          "color": "rgb(255,65,54)"
         },
         "mode": "lines",
         "type": "scatter",
         "x": [
          105,
          105,
          127.5,
          127.5
         ],
         "xaxis": "x",
         "y": [
          0,
          0.14190737552229343,
          0.14190737552229343,
          0.0688269648000984
         ],
         "yaxis": "y2"
        },
        {
         "hoverinfo": "text",
         "marker": {
          "color": "rgb(255,65,54)"
         },
         "mode": "lines",
         "type": "scatter",
         "x": [
          86.25,
          86.25,
          116.25,
          116.25
         ],
         "xaxis": "x",
         "y": [
          0.1583428589202881,
          0.21526442022696884,
          0.21526442022696884,
          0.14190737552229343
         ],
         "yaxis": "y2"
        },
        {
         "hoverinfo": "text",
         "marker": {
          "color": "rgb(255,65,54)"
         },
         "mode": "lines",
         "type": "scatter",
         "x": [
          40,
          40,
          101.25,
          101.25
         ],
         "xaxis": "x",
         "y": [
          0.23560750388161406,
          0.31084148463689076,
          0.31084148463689076,
          0.21526442022696884
         ],
         "yaxis": "y2"
        },
        {
         "hoverinfo": "text",
         "marker": {
          "color": "rgb(255,65,54)"
         },
         "mode": "lines",
         "type": "scatter",
         "x": [
          165,
          165,
          175,
          175
         ],
         "xaxis": "x",
         "y": [
          0,
          0.10663229077560117,
          0.10663229077560117,
          0
         ],
         "yaxis": "y2"
        },
        {
         "hoverinfo": "text",
         "marker": {
          "color": "rgb(255,65,54)"
         },
         "mode": "lines",
         "type": "scatter",
         "x": [
          155,
          155,
          170,
          170
         ],
         "xaxis": "x",
         "y": [
          0,
          0.1085709844887857,
          0.1085709844887857,
          0.10663229077560117
         ],
         "yaxis": "y2"
        },
        {
         "hoverinfo": "text",
         "marker": {
          "color": "rgb(255,65,54)"
         },
         "mode": "lines",
         "type": "scatter",
         "x": [
          145,
          145,
          162.5,
          162.5
         ],
         "xaxis": "x",
         "y": [
          0,
          0.1992838253037879,
          0.1992838253037879,
          0.1085709844887857
         ],
         "yaxis": "y2"
        },
        {
         "hoverinfo": "text",
         "marker": {
          "color": "rgb(255,65,54)"
         },
         "mode": "lines",
         "type": "scatter",
         "x": [
          185,
          185,
          195,
          195
         ],
         "xaxis": "x",
         "y": [
          0,
          0.21027669443221617,
          0.21027669443221617,
          0
         ],
         "yaxis": "y2"
        },
        {
         "hoverinfo": "text",
         "marker": {
          "color": "rgb(255,65,54)"
         },
         "mode": "lines",
         "type": "scatter",
         "x": [
          215,
          215,
          225,
          225
         ],
         "xaxis": "x",
         "y": [
          0,
          0,
          0,
          0
         ],
         "yaxis": "y2"
        },
        {
         "hoverinfo": "text",
         "marker": {
          "color": "rgb(255,65,54)"
         },
         "mode": "lines",
         "type": "scatter",
         "x": [
          220,
          220,
          235,
          235
         ],
         "xaxis": "x",
         "y": [
          0,
          0.07651773896078248,
          0.07651773896078248,
          0
         ],
         "yaxis": "y2"
        },
        {
         "hoverinfo": "text",
         "marker": {
          "color": "rgb(255,65,54)"
         },
         "mode": "lines",
         "type": "scatter",
         "x": [
          205,
          205,
          227.5,
          227.5
         ],
         "xaxis": "x",
         "y": [
          0,
          0.17137449940289218,
          0.17137449940289218,
          0.07651773896078248
         ],
         "yaxis": "y2"
        },
        {
         "hoverinfo": "text",
         "marker": {
          "color": "rgb(255,65,54)"
         },
         "mode": "lines",
         "type": "scatter",
         "x": [
          265,
          265,
          275,
          275
         ],
         "xaxis": "x",
         "y": [
          0,
          0,
          0,
          0
         ],
         "yaxis": "y2"
        },
        {
         "hoverinfo": "text",
         "marker": {
          "color": "rgb(255,65,54)"
         },
         "mode": "lines",
         "type": "scatter",
         "x": [
          270,
          270,
          285,
          285
         ],
         "xaxis": "x",
         "y": [
          0,
          0.010924564679017472,
          0.010924564679017472,
          0
         ],
         "yaxis": "y2"
        },
        {
         "hoverinfo": "text",
         "marker": {
          "color": "rgb(255,65,54)"
         },
         "mode": "lines",
         "type": "scatter",
         "x": [
          255,
          255,
          277.5,
          277.5
         ],
         "xaxis": "x",
         "y": [
          0,
          0.047327117594094574,
          0.047327117594094574,
          0.010924564679017472
         ],
         "yaxis": "y2"
        },
        {
         "hoverinfo": "text",
         "marker": {
          "color": "rgb(255,65,54)"
         },
         "mode": "lines",
         "type": "scatter",
         "x": [
          245,
          245,
          266.25,
          266.25
         ],
         "xaxis": "x",
         "y": [
          0,
          0.07503303323498005,
          0.07503303323498005,
          0.047327117594094574
         ],
         "yaxis": "y2"
        },
        {
         "hoverinfo": "text",
         "marker": {
          "color": "rgb(255,65,54)"
         },
         "mode": "lines",
         "type": "scatter",
         "x": [
          255.625,
          255.625,
          295,
          295
         ],
         "xaxis": "x",
         "y": [
          0.07503303323498005,
          0.1029124355189412,
          0.1029124355189412,
          0
         ],
         "yaxis": "y2"
        },
        {
         "hoverinfo": "text",
         "marker": {
          "color": "rgb(255,65,54)"
         },
         "mode": "lines",
         "type": "scatter",
         "x": [
          305,
          305,
          315,
          315
         ],
         "xaxis": "x",
         "y": [
          0,
          0,
          0,
          0
         ],
         "yaxis": "y2"
        },
        {
         "hoverinfo": "text",
         "marker": {
          "color": "rgb(255,65,54)"
         },
         "mode": "lines",
         "type": "scatter",
         "x": [
          310,
          310,
          325,
          325
         ],
         "xaxis": "x",
         "y": [
          0,
          0.05063402420648634,
          0.05063402420648634,
          0
         ],
         "yaxis": "y2"
        },
        {
         "hoverinfo": "text",
         "marker": {
          "color": "rgb(255,65,54)"
         },
         "mode": "lines",
         "type": "scatter",
         "x": [
          317.5,
          317.5,
          335,
          335
         ],
         "xaxis": "x",
         "y": [
          0.05063402420648634,
          0.0839262333590185,
          0.0839262333590185,
          0
         ],
         "yaxis": "y2"
        },
        {
         "hoverinfo": "text",
         "marker": {
          "color": "rgb(255,65,54)"
         },
         "mode": "lines",
         "type": "scatter",
         "x": [
          275.3125,
          275.3125,
          326.25,
          326.25
         ],
         "xaxis": "x",
         "y": [
          0.1029124355189412,
          0.1281570065630233,
          0.1281570065630233,
          0.0839262333590185
         ],
         "yaxis": "y2"
        },
        {
         "hoverinfo": "text",
         "marker": {
          "color": "rgb(255,65,54)"
         },
         "mode": "lines",
         "type": "scatter",
         "x": [
          355,
          355,
          365,
          365
         ],
         "xaxis": "x",
         "y": [
          0,
          1.8904506745888835e-16,
          1.8904506745888835e-16,
          0
         ],
         "yaxis": "y2"
        },
        {
         "hoverinfo": "text",
         "marker": {
          "color": "rgb(255,65,54)"
         },
         "mode": "lines",
         "type": "scatter",
         "x": [
          345,
          345,
          360,
          360
         ],
         "xaxis": "x",
         "y": [
          0,
          0.0014066628506039158,
          0.0014066628506039158,
          1.8904506745888835e-16
         ],
         "yaxis": "y2"
        },
        {
         "hoverinfo": "text",
         "marker": {
          "color": "rgb(255,65,54)"
         },
         "mode": "lines",
         "type": "scatter",
         "x": [
          352.5,
          352.5,
          375,
          375
         ],
         "xaxis": "x",
         "y": [
          0.0014066628506039158,
          0.03399844990781105,
          0.03399844990781105,
          0
         ],
         "yaxis": "y2"
        },
        {
         "hoverinfo": "text",
         "marker": {
          "color": "rgb(255,65,54)"
         },
         "mode": "lines",
         "type": "scatter",
         "x": [
          385,
          385,
          395,
          395
         ],
         "xaxis": "x",
         "y": [
          0,
          0.02308377116655863,
          0.02308377116655863,
          0
         ],
         "yaxis": "y2"
        },
        {
         "hoverinfo": "text",
         "marker": {
          "color": "rgb(255,65,54)"
         },
         "mode": "lines",
         "type": "scatter",
         "x": [
          405,
          405,
          415,
          415
         ],
         "xaxis": "x",
         "y": [
          0,
          0.02829206467830389,
          0.02829206467830389,
          0
         ],
         "yaxis": "y2"
        },
        {
         "hoverinfo": "text",
         "marker": {
          "color": "rgb(255,65,54)"
         },
         "mode": "lines",
         "type": "scatter",
         "x": [
          390,
          390,
          410,
          410
         ],
         "xaxis": "x",
         "y": [
          0.02308377116655863,
          0.041225758329550104,
          0.041225758329550104,
          0.02829206467830389
         ],
         "yaxis": "y2"
        },
        {
         "hoverinfo": "text",
         "marker": {
          "color": "rgb(255,65,54)"
         },
         "mode": "lines",
         "type": "scatter",
         "x": [
          363.75,
          363.75,
          400,
          400
         ],
         "xaxis": "x",
         "y": [
          0.03399844990781105,
          0.07454803264627263,
          0.07454803264627263,
          0.041225758329550104
         ],
         "yaxis": "y2"
        },
        {
         "hoverinfo": "text",
         "marker": {
          "color": "rgb(255,65,54)"
         },
         "mode": "lines",
         "type": "scatter",
         "x": [
          381.875,
          381.875,
          425,
          425
         ],
         "xaxis": "x",
         "y": [
          0.07454803264627263,
          0.11301173530784417,
          0.11301173530784417,
          0
         ],
         "yaxis": "y2"
        },
        {
         "hoverinfo": "text",
         "marker": {
          "color": "rgb(255,65,54)"
         },
         "mode": "lines",
         "type": "scatter",
         "x": [
          300.78125,
          300.78125,
          403.4375,
          403.4375
         ],
         "xaxis": "x",
         "y": [
          0.1281570065630233,
          0.14953383768204753,
          0.14953383768204753,
          0.11301173530784417
         ],
         "yaxis": "y2"
        },
        {
         "hoverinfo": "text",
         "marker": {
          "color": "rgb(255,65,54)"
         },
         "mode": "lines",
         "type": "scatter",
         "x": [
          216.25,
          216.25,
          352.109375,
          352.109375
         ],
         "xaxis": "x",
         "y": [
          0.17137449940289218,
          0.207762992994475,
          0.207762992994475,
          0.14953383768204753
         ],
         "yaxis": "y2"
        },
        {
         "hoverinfo": "text",
         "marker": {
          "color": "rgb(255,65,54)"
         },
         "mode": "lines",
         "type": "scatter",
         "x": [
          435,
          435,
          445,
          445
         ],
         "xaxis": "x",
         "y": [
          0,
          7.151753151823297e-17,
          7.151753151823297e-17,
          0
         ],
         "yaxis": "y2"
        },
        {
         "hoverinfo": "text",
         "marker": {
          "color": "rgb(255,65,54)"
         },
         "mode": "lines",
         "type": "scatter",
         "x": [
          465,
          465,
          475,
          475
         ],
         "xaxis": "x",
         "y": [
          0,
          0,
          0,
          0
         ],
         "yaxis": "y2"
        },
        {
         "hoverinfo": "text",
         "marker": {
          "color": "rgb(255,65,54)"
         },
         "mode": "lines",
         "type": "scatter",
         "x": [
          455,
          455,
          470,
          470
         ],
         "xaxis": "x",
         "y": [
          0,
          0,
          0,
          0
         ],
         "yaxis": "y2"
        },
        {
         "hoverinfo": "text",
         "marker": {
          "color": "rgb(255,65,54)"
         },
         "mode": "lines",
         "type": "scatter",
         "x": [
          485,
          485,
          495,
          495
         ],
         "xaxis": "x",
         "y": [
          0,
          2.6294364399699227e-17,
          2.6294364399699227e-17,
          0
         ],
         "yaxis": "y2"
        },
        {
         "hoverinfo": "text",
         "marker": {
          "color": "rgb(255,65,54)"
         },
         "mode": "lines",
         "type": "scatter",
         "x": [
          505,
          505,
          515,
          515
         ],
         "xaxis": "x",
         "y": [
          0,
          1.1872837858696134e-17,
          1.1872837858696134e-17,
          0
         ],
         "yaxis": "y2"
        },
        {
         "hoverinfo": "text",
         "marker": {
          "color": "rgb(255,65,54)"
         },
         "mode": "lines",
         "type": "scatter",
         "x": [
          490,
          490,
          510,
          510
         ],
         "xaxis": "x",
         "y": [
          2.6294364399699227e-17,
          4.3767106282326655e-17,
          4.3767106282326655e-17,
          1.1872837858696134e-17
         ],
         "yaxis": "y2"
        },
        {
         "hoverinfo": "text",
         "marker": {
          "color": "rgb(255,65,54)"
         },
         "mode": "lines",
         "type": "scatter",
         "x": [
          462.5,
          462.5,
          500,
          500
         ],
         "xaxis": "x",
         "y": [
          0,
          5.0195412141116243e-17,
          5.0195412141116243e-17,
          4.3767106282326655e-17
         ],
         "yaxis": "y2"
        },
        {
         "hoverinfo": "text",
         "marker": {
          "color": "rgb(255,65,54)"
         },
         "mode": "lines",
         "type": "scatter",
         "x": [
          440,
          440,
          481.25,
          481.25
         ],
         "xaxis": "x",
         "y": [
          7.151753151823297e-17,
          9.441466545647744e-17,
          9.441466545647744e-17,
          5.0195412141116243e-17
         ],
         "yaxis": "y2"
        },
        {
         "hoverinfo": "text",
         "marker": {
          "color": "rgb(255,65,54)"
         },
         "mode": "lines",
         "type": "scatter",
         "x": [
          284.1796875,
          284.1796875,
          460.625,
          460.625
         ],
         "xaxis": "x",
         "y": [
          0.207762992994475,
          0.22619396451543228,
          0.22619396451543228,
          9.441466545647744e-17
         ],
         "yaxis": "y2"
        },
        {
         "hoverinfo": "text",
         "marker": {
          "color": "rgb(255,65,54)"
         },
         "mode": "lines",
         "type": "scatter",
         "x": [
          190,
          190,
          372.40234375,
          372.40234375
         ],
         "xaxis": "x",
         "y": [
          0.21027669443221617,
          0.2529106249350559,
          0.2529106249350559,
          0.22619396451543228
         ],
         "yaxis": "y2"
        },
        {
         "hoverinfo": "text",
         "marker": {
          "color": "rgb(255,65,54)"
         },
         "mode": "lines",
         "type": "scatter",
         "x": [
          153.75,
          153.75,
          281.201171875,
          281.201171875
         ],
         "xaxis": "x",
         "y": [
          0.1992838253037879,
          0.28920141337270383,
          0.28920141337270383,
          0.2529106249350559
         ],
         "yaxis": "y2"
        },
        {
         "hoverinfo": "text",
         "marker": {
          "color": "rgb(255,65,54)"
         },
         "mode": "lines",
         "type": "scatter",
         "x": [
          555,
          555,
          565,
          565
         ],
         "xaxis": "x",
         "y": [
          0,
          5.70088307295761e-17,
          5.70088307295761e-17,
          0
         ],
         "yaxis": "y2"
        },
        {
         "hoverinfo": "text",
         "marker": {
          "color": "rgb(255,65,54)"
         },
         "mode": "lines",
         "type": "scatter",
         "x": [
          560,
          560,
          575,
          575
         ],
         "xaxis": "x",
         "y": [
          5.70088307295761e-17,
          8.378058922587722e-17,
          8.378058922587722e-17,
          0
         ],
         "yaxis": "y2"
        },
        {
         "hoverinfo": "text",
         "marker": {
          "color": "rgb(255,65,54)"
         },
         "mode": "lines",
         "type": "scatter",
         "x": [
          545,
          545,
          567.5,
          567.5
         ],
         "xaxis": "x",
         "y": [
          0,
          0.1002872096393401,
          0.1002872096393401,
          8.378058922587722e-17
         ],
         "yaxis": "y2"
        },
        {
         "hoverinfo": "text",
         "marker": {
          "color": "rgb(255,65,54)"
         },
         "mode": "lines",
         "type": "scatter",
         "x": [
          535,
          535,
          556.25,
          556.25
         ],
         "xaxis": "x",
         "y": [
          0,
          0.17406815062533254,
          0.17406815062533254,
          0.1002872096393401
         ],
         "yaxis": "y2"
        },
        {
         "hoverinfo": "text",
         "marker": {
          "color": "rgb(255,65,54)"
         },
         "mode": "lines",
         "type": "scatter",
         "x": [
          595,
          595,
          605,
          605
         ],
         "xaxis": "x",
         "y": [
          0,
          0,
          0,
          0
         ],
         "yaxis": "y2"
        },
        {
         "hoverinfo": "text",
         "marker": {
          "color": "rgb(255,65,54)"
         },
         "mode": "lines",
         "type": "scatter",
         "x": [
          585,
          585,
          600,
          600
         ],
         "xaxis": "x",
         "y": [
          0,
          3.622208959480119e-17,
          3.622208959480119e-17,
          0
         ],
         "yaxis": "y2"
        },
        {
         "hoverinfo": "text",
         "marker": {
          "color": "rgb(255,65,54)"
         },
         "mode": "lines",
         "type": "scatter",
         "x": [
          592.5,
          592.5,
          615,
          615
         ],
         "xaxis": "x",
         "y": [
          3.622208959480119e-17,
          0.027464667172756255,
          0.027464667172756255,
          0
         ],
         "yaxis": "y2"
        },
        {
         "hoverinfo": "text",
         "marker": {
          "color": "rgb(255,65,54)"
         },
         "mode": "lines",
         "type": "scatter",
         "x": [
          545.625,
          545.625,
          603.75,
          603.75
         ],
         "xaxis": "x",
         "y": [
          0.17406815062533254,
          0.2027988844507718,
          0.2027988844507718,
          0.027464667172756255
         ],
         "yaxis": "y2"
        },
        {
         "hoverinfo": "text",
         "marker": {
          "color": "rgb(255,65,54)"
         },
         "mode": "lines",
         "type": "scatter",
         "x": [
          525,
          525,
          574.6875,
          574.6875
         ],
         "xaxis": "x",
         "y": [
          0,
          0.24341289844683422,
          0.24341289844683422,
          0.2027988844507718
         ],
         "yaxis": "y2"
        },
        {
         "hoverinfo": "text",
         "marker": {
          "color": "rgb(255,65,54)"
         },
         "mode": "lines",
         "type": "scatter",
         "x": [
          217.4755859375,
          217.4755859375,
          549.84375,
          549.84375
         ],
         "xaxis": "x",
         "y": [
          0.28920141337270383,
          0.35189658271827595,
          0.35189658271827595,
          0.24341289844683422
         ],
         "yaxis": "y2"
        },
        {
         "hoverinfo": "text",
         "marker": {
          "color": "rgb(255,65,54)"
         },
         "mode": "lines",
         "type": "scatter",
         "x": [
          383.65966796875,
          383.65966796875,
          625,
          625
         ],
         "xaxis": "x",
         "y": [
          0.35189658271827595,
          0.3709076585618717,
          0.3709076585618717,
          0
         ],
         "yaxis": "y2"
        },
        {
         "hoverinfo": "text",
         "marker": {
          "color": "rgb(255,65,54)"
         },
         "mode": "lines",
         "type": "scatter",
         "x": [
          70.625,
          70.625,
          504.329833984375,
          504.329833984375
         ],
         "xaxis": "x",
         "y": [
          0.31084148463689076,
          0.40120225574959745,
          0.40120225574959745,
          0.3709076585618717
         ],
         "yaxis": "y2"
        },
        {
         "hoverinfo": "text",
         "marker": {
          "color": "rgb(35,205,205)"
         },
         "mode": "lines",
         "type": "scatter",
         "x": [
          645,
          645,
          655,
          655
         ],
         "xaxis": "x",
         "y": [
          0,
          0,
          0,
          0
         ],
         "yaxis": "y2"
        },
        {
         "hoverinfo": "text",
         "marker": {
          "color": "rgb(35,205,205)"
         },
         "mode": "lines",
         "type": "scatter",
         "x": [
          650,
          650,
          665,
          665
         ],
         "xaxis": "x",
         "y": [
          0,
          1.55041972118466e-16,
          1.55041972118466e-16,
          0
         ],
         "yaxis": "y2"
        },
        {
         "hoverinfo": "text",
         "marker": {
          "color": "rgb(35,205,205)"
         },
         "mode": "lines",
         "type": "scatter",
         "x": [
          635,
          635,
          657.5,
          657.5
         ],
         "xaxis": "x",
         "y": [
          0,
          0.18442501791651847,
          0.18442501791651847,
          1.55041972118466e-16
         ],
         "yaxis": "y2"
        },
        {
         "hoverinfo": "text",
         "marker": {
          "color": "rgb(0,116,217)"
         },
         "mode": "lines",
         "type": "scatter",
         "x": [
          287.4774169921875,
          287.4774169921875,
          646.25,
          646.25
         ],
         "xaxis": "x",
         "y": [
          0.40120225574959745,
          0.5379515474832538,
          0.5379515474832538,
          0.18442501791651847
         ],
         "yaxis": "y2"
        },
        {
         "hoverinfo": "text",
         "marker": {
          "color": "rgb(0,116,217)"
         },
         "mode": "lines",
         "type": "scatter",
         "x": [
          10,
          10,
          466.86370849609375,
          466.86370849609375
         ],
         "xaxis": "x",
         "y": [
          0.27522355867429577,
          0.5855732861249281,
          0.5855732861249281,
          0.5379515474832538
         ],
         "yaxis": "y2"
        },
        {
         "colorbar": {
          "len": 0.8,
          "nticks": 15,
          "title": {
           "text": "loadings"
          }
         },
         "colorscale": [
          [
           0,
           "rgb(0,0,0)"
          ],
          [
           0.25,
           "rgb(230,0,0)"
          ],
          [
           0.5,
           "rgb(230,210,0)"
          ],
          [
           0.75,
           "rgb(255,255,255)"
          ],
          [
           1,
           "rgb(160,200,255)"
          ]
         ],
         "type": "heatmap",
         "x": [
          5,
          15,
          25,
          35,
          45,
          55,
          65,
          75,
          85,
          95,
          105,
          115,
          125,
          135,
          145,
          155,
          165,
          175,
          185,
          195,
          205,
          215,
          225,
          235,
          245,
          255,
          265,
          275,
          285,
          295,
          305,
          315,
          325,
          335,
          345,
          355,
          365,
          375,
          385,
          395,
          405,
          415,
          425,
          435,
          445,
          455,
          465,
          475,
          485,
          495,
          505,
          515,
          525,
          535,
          545,
          555,
          565,
          575,
          585,
          595,
          605,
          615,
          625,
          635,
          645,
          655,
          665
         ],
         "y": [
          0,
          1,
          2,
          3,
          4,
          5,
          6,
          7
         ],
         "z": [
          [
           -0.01929286056278314,
           0.0867703001709518,
           -0.09991311295238574,
           -0.09991311295238572,
           -0.0817194365654243,
           -0.061100978151762464,
           -0.08884558223431224,
           -0.08884558223431224,
           -0.09191844540175541,
           -0.08344727661498465,
           -0.08884680007947746,
           -0.09253166906063211,
           -0.09253166906063211,
           -0.055939106113896124,
           0.014302732284612232,
           0.14674678733479107,
           0.18020501488113946,
           0.16778994941807407,
           0.13301417855533107,
           0.0908596043784008,
           0.13905094871169157,
           0.15482986752455072,
           0.15482986752455072,
           0.18017595550686488,
           0.16430542864945086,
           0.15652023543342422,
           0.17892425811877924,
           0.17892425811877924,
           0.18061330283058852,
           0.18953091700224098,
           0.17933932596387994,
           0.17933932596387994,
           0.18003947706407855,
           0.16403993264878808,
           0.19157701503010044,
           0.19157536055946628,
           0.1915753605594663,
           0.19004513797114211,
           0.19183039590754197,
           0.1916508518828029,
           0.18861183650511748,
           0.18721918073801772,
           0.18444714563437448,
           2.7007522048616464e-18,
           6.375443034299506e-18,
           0,
           0,
           0,
           3.821425447584413e-18,
           -3.76017164031808e-18,
           -9.628636823845738e-18,
           -7.619718205270746e-18,
           -0.060929345451513066,
           0.1406322565228361,
           0.048614916034584385,
           0.04407090500411201,
           0.04407090500411202,
           0.044070905004111996,
           0.029824608308294823,
           0.029824608308294816,
           0.029824608308294816,
           0.02576177102300803,
           0.12802250781381533,
           -0.030994262284490415,
           -0.05728404071226961,
           -0.05728404071226961,
           -0.05728404071226963
          ],
          [
           -0.07388103889681599,
           -0.02613941473702945,
           -0.054199181789036904,
           -0.05419918178903689,
           -0.07621420290485253,
           -0.04054024899524916,
           -0.006120679303414121,
           -0.006120679303414121,
           -0.003828195628939979,
           -0.03907436326018004,
           -0.05502777909028656,
           0.0353530544819998,
           0.0353530544819998,
           0.0706197162359428,
           0.03315311847989961,
           0.04951268291715403,
           0.044180599456278107,
           -0.022108998202654065,
           -0.17211890257479232,
           -0.16556499739016112,
           -0.19122093435729715,
           -0.1234592760946075,
           -0.1234592760946075,
           -0.07936812961933133,
           0.0659641205960864,
           0.017799291800513567,
           0.011249294164269244,
           0.011249294164269244,
           0.0045034717981824205,
           -0.014653031159673105,
           -0.036936756679605366,
           -0.036936756679605366,
           -0.04335898590401824,
           -0.1005628769172826,
           -0.04157559867580835,
           -0.04145234916189834,
           -0.0414523491618983,
           -0.03819210751087207,
           0.007838094721762025,
           0.011508881484371293,
           0.04550660476715198,
           0.0427501184045375,
           0.0970880767281555,
           -1.1580649868267942e-17,
           3.23673428958069e-17,
           0,
           0,
           0,
           2.59648384741094e-18,
           -8.869018254394194e-18,
           -4.621136129757086e-18,
           -1.1154421330442543e-17,
           0.15466505346580908,
           0.18523314242332437,
           0.2961279744869278,
           0.29006997302327936,
           0.2900699730232793,
           0.2900699730232793,
           0.30936318178746647,
           0.30936318178746647,
           0.30936318178746647,
           0.30813313186259406,
           0.05023930799320987,
           0.0559830476829217,
           0.04448140035760785,
           0.04448140035760785,
           0.044481400357607885
          ],
          [
           0.0964144979339354,
           -0.12898218079651402,
           0.25222182359486195,
           0.2522218235948619,
           0.2713858810034936,
           0.2667781257343078,
           0.2869497705676957,
           0.2869497705676957,
           0.28730234652477876,
           0.2546974586866909,
           0.19532374752895465,
           0.2585239583606278,
           0.2585239583606278,
           0.22899468282792448,
           -0.021079286169961502,
           0.08296940663705141,
           0.09085417729989914,
           0.02467699457158037,
           0.07047399032767279,
           0.021177710419598508,
           0.07844624726484131,
           -0.05886880335142278,
           -0.05886880335142278,
           -0.015796467319382695,
           0.11455284122810837,
           0.11758195444329277,
           0.08756045723896329,
           0.08756045723896329,
           0.08405832962452632,
           0.06215691114920143,
           0.049094726867536194,
           0.049094726867536194,
           0.05535847754920637,
           0.09063583296139985,
           0.04706737826791526,
           0.04703382355642941,
           0.04703382355642939,
           0.050988225615983845,
           0.05991935777969812,
           0.06686687014725176,
           0.0624000367318362,
           0.08490737698460113,
           0.03187866321727243,
           9.539197078442345e-18,
           9.045761663870384e-18,
           0,
           0,
           0,
           6.222927067985676e-18,
           5.240733095862591e-18,
           8.216818405154234e-18,
           5.713977572834515e-18,
           0.15161738993941165,
           0.06722570949437501,
           0.00965333673366011,
           0.018333534923685897,
           0.018333534923685908,
           0.018333534923685887,
           0.006485362685853938,
           0.006485362685853934,
           0.006485362685853934,
           0.00578233776379802,
           0.04952024705302672,
           -0.022151735592258526,
           -0.009639644029426298,
           -0.009639644029426298,
           -0.009639644029426315
          ],
          [
           -0.003645813115788588,
           0.07040011602154893,
           0.11771987650396966,
           0.11771987650396962,
           -0.05597739711243193,
           -0.1690898466379512,
           -0.08447376925412114,
           -0.08447376925412114,
           -0.06290727739039247,
           -0.06379635038522675,
           0.07615947797307888,
           0.09711845139751686,
           0.09711845139751686,
           0.07282406796693823,
           0.11747199007739449,
           0.04257331796957434,
           0.027371394951969472,
           0.03162391143855314,
           0.15607766456180194,
           -0.02315977438178394,
           -0.05195555813811978,
           0.0011549755824248518,
           0.0011549755824248518,
           -0.020331567220970015,
           0.0220700627894573,
           0.04109111757084005,
           0.020768601827017213,
           0.020768601827017213,
           0.025690249445917555,
           -0.026749977476599605,
           0.0868027262017941,
           0.0868027262017941,
           0.04292356350096536,
           0.05498322393040464,
           0.011841187525428626,
           0.013205194007414186,
           0.013205194007414016,
           0.044274893355173726,
           0.023185813141921172,
           0.034890056921735316,
           0.03362370603849346,
           0.0218273594073461,
           0.019146934768646092,
           -9.148950390673846e-17,
           -4.2022390652436987e-17,
           0,
           0,
           0,
           1.5826411335504062e-17,
           2.3324332848483316e-17,
           5.1219724086175975e-17,
           5.4337250210518374e-17,
           -0.003085641144627626,
           -0.054500958347434875,
           -0.08017301974657738,
           -0.12919000038709266,
           -0.12919000038709266,
           -0.12919000038709272,
           0.0591687606053067,
           0.059168760605306736,
           0.059168760605306736,
           0.08582514132398374,
           -0.1576465962778263,
           0.3935642388788018,
           0.4283034112558659,
           0.4283034112558659,
           0.42830341125586596
          ],
          [
           0.497255916775037,
           0.42023067349356436,
           0.14165708410249006,
           0.14165708410249003,
           0.17944655957170125,
           0.146842283702647,
           0.020092830560492526,
           0.020092830560492526,
           0.01618761554999787,
           -0.13216945676186145,
           -0.19841841377579825,
           -0.1170041118692151,
           -0.1170041118692151,
           -0.1433138592940354,
           0.22053054581701756,
           0.25219837735415834,
           0.15066454273333485,
           0.1999037285256598,
           0.05223326126659233,
           0.14077784716715025,
           -0.019016134827860555,
           -0.0655193174869761,
           -0.0655193174869761,
           -0.09636754838049548,
           -0.0823166872646406,
           -0.13446439645837774,
           -0.12165226972892927,
           -0.12165226972892927,
           -0.11577863296110658,
           -0.07557101806018708,
           -0.05116844026943056,
           -0.05116844026943056,
           -0.02755798335642041,
           -0.07000165005453698,
           0.029128120184937423,
           0.028808953153814713,
           0.02880895315381465,
           0.03986319135816032,
           0.03214707898797537,
           0.013868776845761837,
           0.01975164039027204,
           0.007703028125264062,
           0.003711398279366417,
           4.107318378513209e-17,
           1.419216591831621e-17,
           0,
           0,
           0,
           4.7972759496193886e-17,
           2.6871297122208796e-17,
           1.688175958513986e-17,
           8.035205006014088e-18,
           0.08048729756381731,
           0.0697369472878813,
           0.06632077306483268,
           -0.020409652781784388,
           -0.02040965278178439,
           -0.020409652781784433,
           0.043507381878473764,
           0.04350738187847376,
           0.04350738187847376,
           0.03848429555373352,
           -0.14140449940904418,
           0.10894031355558544,
           -0.06945751255171452,
           -0.06945751255171452,
           -0.06945751255171466
          ]
         ]
        }
       ],
       "layout": {
        "autosize": false,
        "boxmode": "group",
        "height": 800,
        "hovermode": "closest",
        "showlegend": false,
        "template": {
         "data": {
          "bar": [
           {
            "error_x": {
             "color": "#2a3f5f"
            },
            "error_y": {
             "color": "#2a3f5f"
            },
            "marker": {
             "line": {
              "color": "#E5ECF6",
              "width": 0.5
             },
             "pattern": {
              "fillmode": "overlay",
              "size": 10,
              "solidity": 0.2
             }
            },
            "type": "bar"
           }
          ],
          "barpolar": [
           {
            "marker": {
             "line": {
              "color": "#E5ECF6",
              "width": 0.5
             },
             "pattern": {
              "fillmode": "overlay",
              "size": 10,
              "solidity": 0.2
             }
            },
            "type": "barpolar"
           }
          ],
          "carpet": [
           {
            "aaxis": {
             "endlinecolor": "#2a3f5f",
             "gridcolor": "white",
             "linecolor": "white",
             "minorgridcolor": "white",
             "startlinecolor": "#2a3f5f"
            },
            "baxis": {
             "endlinecolor": "#2a3f5f",
             "gridcolor": "white",
             "linecolor": "white",
             "minorgridcolor": "white",
             "startlinecolor": "#2a3f5f"
            },
            "type": "carpet"
           }
          ],
          "choropleth": [
           {
            "colorbar": {
             "outlinewidth": 0,
             "ticks": ""
            },
            "type": "choropleth"
           }
          ],
          "contour": [
           {
            "colorbar": {
             "outlinewidth": 0,
             "ticks": ""
            },
            "colorscale": [
             [
              0,
              "#0d0887"
             ],
             [
              0.1111111111111111,
              "#46039f"
             ],
             [
              0.2222222222222222,
              "#7201a8"
             ],
             [
              0.3333333333333333,
              "#9c179e"
             ],
             [
              0.4444444444444444,
              "#bd3786"
             ],
             [
              0.5555555555555556,
              "#d8576b"
             ],
             [
              0.6666666666666666,
              "#ed7953"
             ],
             [
              0.7777777777777778,
              "#fb9f3a"
             ],
             [
              0.8888888888888888,
              "#fdca26"
             ],
             [
              1,
              "#f0f921"
             ]
            ],
            "type": "contour"
           }
          ],
          "contourcarpet": [
           {
            "colorbar": {
             "outlinewidth": 0,
             "ticks": ""
            },
            "type": "contourcarpet"
           }
          ],
          "heatmap": [
           {
            "colorbar": {
             "outlinewidth": 0,
             "ticks": ""
            },
            "colorscale": [
             [
              0,
              "#0d0887"
             ],
             [
              0.1111111111111111,
              "#46039f"
             ],
             [
              0.2222222222222222,
              "#7201a8"
             ],
             [
              0.3333333333333333,
              "#9c179e"
             ],
             [
              0.4444444444444444,
              "#bd3786"
             ],
             [
              0.5555555555555556,
              "#d8576b"
             ],
             [
              0.6666666666666666,
              "#ed7953"
             ],
             [
              0.7777777777777778,
              "#fb9f3a"
             ],
             [
              0.8888888888888888,
              "#fdca26"
             ],
             [
              1,
              "#f0f921"
             ]
            ],
            "type": "heatmap"
           }
          ],
          "heatmapgl": [
           {
            "colorbar": {
             "outlinewidth": 0,
             "ticks": ""
            },
            "colorscale": [
             [
              0,
              "#0d0887"
             ],
             [
              0.1111111111111111,
              "#46039f"
             ],
             [
              0.2222222222222222,
              "#7201a8"
             ],
             [
              0.3333333333333333,
              "#9c179e"
             ],
             [
              0.4444444444444444,
              "#bd3786"
             ],
             [
              0.5555555555555556,
              "#d8576b"
             ],
             [
              0.6666666666666666,
              "#ed7953"
             ],
             [
              0.7777777777777778,
              "#fb9f3a"
             ],
             [
              0.8888888888888888,
              "#fdca26"
             ],
             [
              1,
              "#f0f921"
             ]
            ],
            "type": "heatmapgl"
           }
          ],
          "histogram": [
           {
            "marker": {
             "pattern": {
              "fillmode": "overlay",
              "size": 10,
              "solidity": 0.2
             }
            },
            "type": "histogram"
           }
          ],
          "histogram2d": [
           {
            "colorbar": {
             "outlinewidth": 0,
             "ticks": ""
            },
            "colorscale": [
             [
              0,
              "#0d0887"
             ],
             [
              0.1111111111111111,
              "#46039f"
             ],
             [
              0.2222222222222222,
              "#7201a8"
             ],
             [
              0.3333333333333333,
              "#9c179e"
             ],
             [
              0.4444444444444444,
              "#bd3786"
             ],
             [
              0.5555555555555556,
              "#d8576b"
             ],
             [
              0.6666666666666666,
              "#ed7953"
             ],
             [
              0.7777777777777778,
              "#fb9f3a"
             ],
             [
              0.8888888888888888,
              "#fdca26"
             ],
             [
              1,
              "#f0f921"
             ]
            ],
            "type": "histogram2d"
           }
          ],
          "histogram2dcontour": [
           {
            "colorbar": {
             "outlinewidth": 0,
             "ticks": ""
            },
            "colorscale": [
             [
              0,
              "#0d0887"
             ],
             [
              0.1111111111111111,
              "#46039f"
             ],
             [
              0.2222222222222222,
              "#7201a8"
             ],
             [
              0.3333333333333333,
              "#9c179e"
             ],
             [
              0.4444444444444444,
              "#bd3786"
             ],
             [
              0.5555555555555556,
              "#d8576b"
             ],
             [
              0.6666666666666666,
              "#ed7953"
             ],
             [
              0.7777777777777778,
              "#fb9f3a"
             ],
             [
              0.8888888888888888,
              "#fdca26"
             ],
             [
              1,
              "#f0f921"
             ]
            ],
            "type": "histogram2dcontour"
           }
          ],
          "mesh3d": [
           {
            "colorbar": {
             "outlinewidth": 0,
             "ticks": ""
            },
            "type": "mesh3d"
           }
          ],
          "parcoords": [
           {
            "line": {
             "colorbar": {
              "outlinewidth": 0,
              "ticks": ""
             }
            },
            "type": "parcoords"
           }
          ],
          "pie": [
           {
            "automargin": true,
            "type": "pie"
           }
          ],
          "scatter": [
           {
            "marker": {
             "colorbar": {
              "outlinewidth": 0,
              "ticks": ""
             }
            },
            "type": "scatter"
           }
          ],
          "scatter3d": [
           {
            "line": {
             "colorbar": {
              "outlinewidth": 0,
              "ticks": ""
             }
            },
            "marker": {
             "colorbar": {
              "outlinewidth": 0,
              "ticks": ""
             }
            },
            "type": "scatter3d"
           }
          ],
          "scattercarpet": [
           {
            "marker": {
             "colorbar": {
              "outlinewidth": 0,
              "ticks": ""
             }
            },
            "type": "scattercarpet"
           }
          ],
          "scattergeo": [
           {
            "marker": {
             "colorbar": {
              "outlinewidth": 0,
              "ticks": ""
             }
            },
            "type": "scattergeo"
           }
          ],
          "scattergl": [
           {
            "marker": {
             "colorbar": {
              "outlinewidth": 0,
              "ticks": ""
             }
            },
            "type": "scattergl"
           }
          ],
          "scattermapbox": [
           {
            "marker": {
             "colorbar": {
              "outlinewidth": 0,
              "ticks": ""
             }
            },
            "type": "scattermapbox"
           }
          ],
          "scatterpolar": [
           {
            "marker": {
             "colorbar": {
              "outlinewidth": 0,
              "ticks": ""
             }
            },
            "type": "scatterpolar"
           }
          ],
          "scatterpolargl": [
           {
            "marker": {
             "colorbar": {
              "outlinewidth": 0,
              "ticks": ""
             }
            },
            "type": "scatterpolargl"
           }
          ],
          "scatterternary": [
           {
            "marker": {
             "colorbar": {
              "outlinewidth": 0,
              "ticks": ""
             }
            },
            "type": "scatterternary"
           }
          ],
          "surface": [
           {
            "colorbar": {
             "outlinewidth": 0,
             "ticks": ""
            },
            "colorscale": [
             [
              0,
              "#0d0887"
             ],
             [
              0.1111111111111111,
              "#46039f"
             ],
             [
              0.2222222222222222,
              "#7201a8"
             ],
             [
              0.3333333333333333,
              "#9c179e"
             ],
             [
              0.4444444444444444,
              "#bd3786"
             ],
             [
              0.5555555555555556,
              "#d8576b"
             ],
             [
              0.6666666666666666,
              "#ed7953"
             ],
             [
              0.7777777777777778,
              "#fb9f3a"
             ],
             [
              0.8888888888888888,
              "#fdca26"
             ],
             [
              1,
              "#f0f921"
             ]
            ],
            "type": "surface"
           }
          ],
          "table": [
           {
            "cells": {
             "fill": {
              "color": "#EBF0F8"
             },
             "line": {
              "color": "white"
             }
            },
            "header": {
             "fill": {
              "color": "#C8D4E3"
             },
             "line": {
              "color": "white"
             }
            },
            "type": "table"
           }
          ]
         },
         "layout": {
          "annotationdefaults": {
           "arrowcolor": "#2a3f5f",
           "arrowhead": 0,
           "arrowwidth": 1
          },
          "autotypenumbers": "strict",
          "coloraxis": {
           "colorbar": {
            "outlinewidth": 0,
            "ticks": ""
           }
          },
          "colorscale": {
           "diverging": [
            [
             0,
             "#8e0152"
            ],
            [
             0.1,
             "#c51b7d"
            ],
            [
             0.2,
             "#de77ae"
            ],
            [
             0.3,
             "#f1b6da"
            ],
            [
             0.4,
             "#fde0ef"
            ],
            [
             0.5,
             "#f7f7f7"
            ],
            [
             0.6,
             "#e6f5d0"
            ],
            [
             0.7,
             "#b8e186"
            ],
            [
             0.8,
             "#7fbc41"
            ],
            [
             0.9,
             "#4d9221"
            ],
            [
             1,
             "#276419"
            ]
           ],
           "sequential": [
            [
             0,
             "#0d0887"
            ],
            [
             0.1111111111111111,
             "#46039f"
            ],
            [
             0.2222222222222222,
             "#7201a8"
            ],
            [
             0.3333333333333333,
             "#9c179e"
            ],
            [
             0.4444444444444444,
             "#bd3786"
            ],
            [
             0.5555555555555556,
             "#d8576b"
            ],
            [
             0.6666666666666666,
             "#ed7953"
            ],
            [
             0.7777777777777778,
             "#fb9f3a"
            ],
            [
             0.8888888888888888,
             "#fdca26"
            ],
            [
             1,
             "#f0f921"
            ]
           ],
           "sequentialminus": [
            [
             0,
             "#0d0887"
            ],
            [
             0.1111111111111111,
             "#46039f"
            ],
            [
             0.2222222222222222,
             "#7201a8"
            ],
            [
             0.3333333333333333,
             "#9c179e"
            ],
            [
             0.4444444444444444,
             "#bd3786"
            ],
            [
             0.5555555555555556,
             "#d8576b"
            ],
            [
             0.6666666666666666,
             "#ed7953"
            ],
            [
             0.7777777777777778,
             "#fb9f3a"
            ],
            [
             0.8888888888888888,
             "#fdca26"
            ],
            [
             1,
             "#f0f921"
            ]
           ]
          },
          "colorway": [
           "#636efa",
           "#EF553B",
           "#00cc96",
           "#ab63fa",
           "#FFA15A",
           "#19d3f3",
           "#FF6692",
           "#B6E880",
           "#FF97FF",
           "#FECB52"
          ],
          "font": {
           "color": "#2a3f5f"
          },
          "geo": {
           "bgcolor": "white",
           "lakecolor": "white",
           "landcolor": "#E5ECF6",
           "showlakes": true,
           "showland": true,
           "subunitcolor": "white"
          },
          "hoverlabel": {
           "align": "left"
          },
          "hovermode": "closest",
          "mapbox": {
           "style": "light"
          },
          "paper_bgcolor": "white",
          "plot_bgcolor": "#E5ECF6",
          "polar": {
           "angularaxis": {
            "gridcolor": "white",
            "linecolor": "white",
            "ticks": ""
           },
           "bgcolor": "#E5ECF6",
           "radialaxis": {
            "gridcolor": "white",
            "linecolor": "white",
            "ticks": ""
           }
          },
          "scene": {
           "xaxis": {
            "backgroundcolor": "#E5ECF6",
            "gridcolor": "white",
            "gridwidth": 2,
            "linecolor": "white",
            "showbackground": true,
            "ticks": "",
            "zerolinecolor": "white"
           },
           "yaxis": {
            "backgroundcolor": "#E5ECF6",
            "gridcolor": "white",
            "gridwidth": 2,
            "linecolor": "white",
            "showbackground": true,
            "ticks": "",
            "zerolinecolor": "white"
           },
           "zaxis": {
            "backgroundcolor": "#E5ECF6",
            "gridcolor": "white",
            "gridwidth": 2,
            "linecolor": "white",
            "showbackground": true,
            "ticks": "",
            "zerolinecolor": "white"
           }
          },
          "shapedefaults": {
           "line": {
            "color": "#2a3f5f"
           }
          },
          "ternary": {
           "aaxis": {
            "gridcolor": "white",
            "linecolor": "white",
            "ticks": ""
           },
           "baxis": {
            "gridcolor": "white",
            "linecolor": "white",
            "ticks": ""
           },
           "bgcolor": "#E5ECF6",
           "caxis": {
            "gridcolor": "white",
            "linecolor": "white",
            "ticks": ""
           }
          },
          "title": {
           "x": 0.05
          },
          "xaxis": {
           "automargin": true,
           "gridcolor": "white",
           "linecolor": "white",
           "ticks": "",
           "title": {
            "standoff": 15
           },
           "zerolinecolor": "white",
           "zerolinewidth": 2
          },
          "yaxis": {
           "automargin": true,
           "gridcolor": "white",
           "linecolor": "white",
           "ticks": "",
           "title": {
            "standoff": 15
           },
           "zerolinecolor": "white",
           "zerolinewidth": 2
          }
         }
        },
        "title": {
         "text": "Propiedades físico-químicas",
         "x": 0.5,
         "xanchor": "center",
         "y": 0.9,
         "yanchor": "top"
        },
        "width": 1200,
        "xaxis": {
         "domain": [
          1,
          1
         ],
         "mirror": false,
         "rangemode": "tozero",
         "showgrid": false,
         "showline": false,
         "showticklabels": true,
         "tickmode": "array",
         "ticks": "",
         "ticktext": [
          "_feat_fr_NH1",
          "_feat_fr_quatN",
          "_feat_Hdonorcount",
          "_feat_AtomCount_N",
          "_feat_donorcount",
          "_feat_donsitecount",
          "_feat_ProtPolarSurfaceArea",
          "_feat_Protpsa",
          "_feat_PolarSurfaceArea",
          "_feat_fr_guanido",
          "_feat_fr_NH2",
          "_feat_acceptorcount",
          "_feat_Hacceptorcount",
          "_feat_Accsitecount",
          "_feat_CarboaliphaticRingCount",
          "_feat_MinimalProjectionRadius",
          "_feat_Refractivity",
          "_feat_MinimalProjectionArea",
          "_feat_Aliphatic AtomCount",
          "_feat_BalabanIndex",
          "_feat_ChainAtomCount",
          "_feat_LengthPerpendicularToTheMaxArea",
          "_feat_maximalprojectionsize",
          "_feat_ASA_H",
          "_feat_WienerIndex",
          "_feat_HyperWienerIndex",
          "_feat_minimalprojectionsize",
          "_feat_LengthPerpendicularToTheMinArea",
          "_feat_MaximalProjectionRadius",
          "_feat_ASA",
          "_feat_msareaASAp",
          "_feat_molsurfaceareaASAp",
          "_feat_ASA+",
          "_feat_RotatableBondCount",
          "_feat_VanderWaalsSurfaceArea",
          "_feat_msareaVDWp",
          "_feat_molsurfaceareaVDWp",
          "_feat_BondCount",
          "_feat_VanderWaalsVolume",
          "_feat_AvgPol",
          "_feat_MolPol",
          "_feat_MaximalProjectionArea",
          "_feat_AtomCount_C",
          "_feat_fr_piperzine",
          "_feat_HeteroaromaticRing Count",
          "_feat_ChiralCenterCount",
          "_feat_fr_ArN",
          "_feat_fr_piperdine",
          "_feat_fr_amidine",
          "_feat_fr_pyridine",
          "_feat_fr_dihydropyridine",
          "_feat_fr_Ar_NH",
          "_feat_ASA_P",
          "_feat_WienerPolarity",
          "_feat_CarboRingCount",
          "_feat_AromaticRingCount",
          "_feat_AromaticAtomCount",
          "_feat_CarboaromaticRingCount",
          "_feat_LargestRingSize",
          "_feat_SmallestRingSize",
          "_feat_RingAtomCount",
          "_feat_CyclomaticNumber",
          "_feat_ASA-",
          "_feat_AliphaticRingCount",
          "_feat_fr_NH0",
          "_feat_HeteroaliphaticRingCount",
          "_feat_fr_Imine"
         ],
         "tickvals": [
          5,
          15,
          25,
          35,
          45,
          55,
          65,
          75,
          85,
          95,
          105,
          115,
          125,
          135,
          145,
          155,
          165,
          175,
          185,
          195,
          205,
          215,
          225,
          235,
          245,
          255,
          265,
          275,
          285,
          295,
          305,
          315,
          325,
          335,
          345,
          355,
          365,
          375,
          385,
          395,
          405,
          415,
          425,
          435,
          445,
          455,
          465,
          475,
          485,
          495,
          505,
          515,
          525,
          535,
          545,
          555,
          565,
          575,
          585,
          595,
          605,
          615,
          625,
          635,
          645,
          655,
          665
         ],
         "type": "linear",
         "zeroline": false
        },
        "xaxis2": {
         "domain": [
          1,
          0.8
         ],
         "mirror": false,
         "showgrid": false,
         "showline": false,
         "showticklabels": false,
         "ticks": "",
         "zeroline": false
        },
        "yaxis": {
         "domain": [
          0.1,
          0.8
         ],
         "mirror": false,
         "rangemode": "tozero",
         "showgrid": false,
         "showline": false,
         "showticklabels": true,
         "tickmode": "array",
         "ticks": "",
         "ticktext": [
          "PCA 1",
          "PCA 2",
          "PCA 3",
          "PCA 4",
          "PCA 5",
          "PCA 6",
          "PCA 7",
          "PCA 8"
         ],
         "tickvals": [
          0,
          1,
          2,
          3,
          4,
          5,
          6,
          7
         ],
         "title": {
          "text": "Componente PCA"
         },
         "type": "linear",
         "zeroline": false
        },
        "yaxis2": {
         "domain": [
          0.8,
          1
         ],
         "mirror": false,
         "showgrid": false,
         "showline": false,
         "showticklabels": false,
         "ticks": "",
         "zeroline": false
        }
       }
      }
     },
     "metadata": {}
    }
   ],
   "metadata": {}
  },
  {
   "cell_type": "code",
   "execution_count": 59,
   "source": [
    "len(amine_df.columns.to_list())"
   ],
   "outputs": [
    {
     "output_type": "execute_result",
     "data": {
      "text/plain": [
       "67"
      ]
     },
     "metadata": {},
     "execution_count": 59
    }
   ],
   "metadata": {}
  },
  {
   "cell_type": "code",
   "execution_count": 46,
   "source": [
    "pca.components_.shape"
   ],
   "outputs": [
    {
     "output_type": "execute_result",
     "data": {
      "text/plain": [
       "(3, 67)"
      ]
     },
     "metadata": {},
     "execution_count": 46
    }
   ],
   "metadata": {}
  },
  {
   "cell_type": "code",
   "execution_count": 340,
   "source": [
    "def plot_cluster_amine(X, amine_3_components, distance, method):\n",
    "    labels = dbsc_label(X, distance)\n",
    "    plot_3d_cluster(amine_3_components, labels, 'cluster_ID', method)\n"
   ],
   "outputs": [],
   "metadata": {}
  },
  {
   "cell_type": "code",
   "execution_count": 341,
   "source": [
    "plot_cluster_amine(X, amine_3_components_pca, distance = 5, method='PCA')\n",
    "# oversampling y undersampling\n",
    "# agregar col extra de cluster\n",
    "# considerar que los ejes de PCA su rango no es el mismo\n",
    "# no es necesaro separarlos\n"
   ],
   "outputs": [
    {
     "output_type": "display_data",
     "data": {
      "text/html": [
       "<div>                            <div id=\"eea09442-ac94-4161-8926-3d389a736fbd\" class=\"plotly-graph-div\" style=\"height:525px; width:100%;\"></div>            <script type=\"text/javascript\">                require([\"plotly\"], function(Plotly) {                    window.PLOTLYENV=window.PLOTLYENV || {};                                    if (document.getElementById(\"eea09442-ac94-4161-8926-3d389a736fbd\")) {                    Plotly.newPlot(                        \"eea09442-ac94-4161-8926-3d389a736fbd\",                        [{\"hovertemplate\":\"cluster_ID=0<br>PCA_1=%{x}<br>PCA_2=%{y}<br>PCA_3=%{z}<extra></extra>\",\"legendgroup\":\"0\",\"marker\":{\"color\":\"#636efa\",\"symbol\":\"circle\"},\"mode\":\"markers\",\"name\":\"0\",\"scene\":\"scene\",\"showlegend\":true,\"type\":\"scatter3d\",\"x\":[0.14079597830614593,-1.2910922547347268,-3.363702370547082,-0.6233378176735426,2.187478666535595,2.499452970931749,-1.6916567253641992,0.017986645063228165,-3.1778513429902393,-1.8076057047153478,-6.882149256232731,4.2219649589322],\"y\":[-2.400551786382022,-2.247626687526582,-2.038408138176572,-2.4993484613403463,-3.0492646667700383,-2.78307411302812,-2.2392049848249473,-2.8151654561624797,-1.9424997515315305,-2.640142675205623,-1.2772014152944802,-3.369814261477718],\"z\":[-1.1945696623303907,-1.7196887994777157,-2.4684048892409765,-2.7356599050636548,-1.9513253090331364,-0.5061208644164727,-1.8760585073986713,-1.596360180065628,-2.3236589704675574,-2.2284054922755083,-3.5126812757193635,-0.1867486843808612]},{\"hovertemplate\":\"cluster_ID=1<br>PCA_1=%{x}<br>PCA_2=%{y}<br>PCA_3=%{z}<extra></extra>\",\"legendgroup\":\"1\",\"marker\":{\"color\":\"#EF553B\",\"symbol\":\"circle\"},\"mode\":\"markers\",\"name\":\"1\",\"scene\":\"scene\",\"showlegend\":true,\"type\":\"scatter3d\",\"x\":[-10.94457322851456],\"y\":[-1.9638127871932038],\"z\":[11.43714225080165]},{\"hovertemplate\":\"cluster_ID=2<br>PCA_1=%{x}<br>PCA_2=%{y}<br>PCA_3=%{z}<extra></extra>\",\"legendgroup\":\"2\",\"marker\":{\"color\":\"#00cc96\",\"symbol\":\"circle\"},\"mode\":\"markers\",\"name\":\"2\",\"scene\":\"scene\",\"showlegend\":true,\"type\":\"scatter3d\",\"x\":[5.1496740346581715,1.2858776032136514,0.5767280234353603,2.6957177883478884,-1.0523780422136906,-1.755017084211598,3.4335156951250703,1.5670284150822589,2.526964273221333],\"y\":[3.6056544588623516,4.053549474994051,3.892278168803138,3.9172793613080326,4.254266207875411,4.445285566492862,4.28474758336095,4.385833573315081,3.551082660375174],\"z\":[3.2218787270490212,1.9681191650880594,-0.9917243590227884,0.03152505143359307,-1.0767441374070632,-1.486054923950205,0.7818168505235424,0.13583685692395558,-0.5296620871963263]},{\"hovertemplate\":\"cluster_ID=3<br>PCA_1=%{x}<br>PCA_2=%{y}<br>PCA_3=%{z}<extra></extra>\",\"legendgroup\":\"3\",\"marker\":{\"color\":\"#ab63fa\",\"symbol\":\"circle\"},\"mode\":\"markers\",\"name\":\"3\",\"scene\":\"scene\",\"showlegend\":true,\"type\":\"scatter3d\",\"x\":[1.8758826795393468],\"y\":[1.6662208305900859],\"z\":[-0.9465614447601088]},{\"hovertemplate\":\"cluster_ID=4<br>PCA_1=%{x}<br>PCA_2=%{y}<br>PCA_3=%{z}<extra></extra>\",\"legendgroup\":\"4\",\"marker\":{\"color\":\"#FFA15A\",\"symbol\":\"circle\"},\"mode\":\"markers\",\"name\":\"4\",\"scene\":\"scene\",\"showlegend\":true,\"type\":\"scatter3d\",\"x\":[5.456337682760347],\"y\":[-3.857090137253277],\"z\":[3.090095757095945]},{\"hovertemplate\":\"cluster_ID=5<br>PCA_1=%{x}<br>PCA_2=%{y}<br>PCA_3=%{z}<extra></extra>\",\"legendgroup\":\"5\",\"marker\":{\"color\":\"#19d3f3\",\"symbol\":\"circle\"},\"mode\":\"markers\",\"name\":\"5\",\"scene\":\"scene\",\"showlegend\":true,\"type\":\"scatter3d\",\"x\":[15.432401655809173],\"y\":[-3.8764473571504743],\"z\":[4.183075180449238]},{\"hovertemplate\":\"cluster_ID=6<br>PCA_1=%{x}<br>PCA_2=%{y}<br>PCA_3=%{z}<extra></extra>\",\"legendgroup\":\"6\",\"marker\":{\"color\":\"#FF6692\",\"symbol\":\"circle\"},\"mode\":\"markers\",\"name\":\"6\",\"scene\":\"scene\",\"showlegend\":true,\"type\":\"scatter3d\",\"x\":[-8.965323537133825],\"y\":[-1.2921067238846884],\"z\":[2.9138060841757727]},{\"hovertemplate\":\"cluster_ID=7<br>PCA_1=%{x}<br>PCA_2=%{y}<br>PCA_3=%{z}<extra></extra>\",\"legendgroup\":\"7\",\"marker\":{\"color\":\"#B6E880\",\"symbol\":\"circle\"},\"mode\":\"markers\",\"name\":\"7\",\"scene\":\"scene\",\"showlegend\":true,\"type\":\"scatter3d\",\"x\":[-7.513119706629975],\"y\":[2.23556151722496],\"z\":[-0.4328664313343432]}],                        {\"legend\":{\"title\":{\"text\":\"cluster_ID\"},\"tracegroupgap\":0},\"margin\":{\"t\":60},\"scene\":{\"domain\":{\"x\":[0.0,1.0],\"y\":[0.0,1.0]},\"xaxis\":{\"title\":{\"text\":\"PCA_1\"}},\"yaxis\":{\"title\":{\"text\":\"PCA_2\"}},\"zaxis\":{\"title\":{\"text\":\"PCA_3\"}}},\"template\":{\"data\":{\"bar\":[{\"error_x\":{\"color\":\"#2a3f5f\"},\"error_y\":{\"color\":\"#2a3f5f\"},\"marker\":{\"line\":{\"color\":\"#E5ECF6\",\"width\":0.5},\"pattern\":{\"fillmode\":\"overlay\",\"size\":10,\"solidity\":0.2}},\"type\":\"bar\"}],\"barpolar\":[{\"marker\":{\"line\":{\"color\":\"#E5ECF6\",\"width\":0.5},\"pattern\":{\"fillmode\":\"overlay\",\"size\":10,\"solidity\":0.2}},\"type\":\"barpolar\"}],\"carpet\":[{\"aaxis\":{\"endlinecolor\":\"#2a3f5f\",\"gridcolor\":\"white\",\"linecolor\":\"white\",\"minorgridcolor\":\"white\",\"startlinecolor\":\"#2a3f5f\"},\"baxis\":{\"endlinecolor\":\"#2a3f5f\",\"gridcolor\":\"white\",\"linecolor\":\"white\",\"minorgridcolor\":\"white\",\"startlinecolor\":\"#2a3f5f\"},\"type\":\"carpet\"}],\"choropleth\":[{\"colorbar\":{\"outlinewidth\":0,\"ticks\":\"\"},\"type\":\"choropleth\"}],\"contour\":[{\"colorbar\":{\"outlinewidth\":0,\"ticks\":\"\"},\"colorscale\":[[0.0,\"#0d0887\"],[0.1111111111111111,\"#46039f\"],[0.2222222222222222,\"#7201a8\"],[0.3333333333333333,\"#9c179e\"],[0.4444444444444444,\"#bd3786\"],[0.5555555555555556,\"#d8576b\"],[0.6666666666666666,\"#ed7953\"],[0.7777777777777778,\"#fb9f3a\"],[0.8888888888888888,\"#fdca26\"],[1.0,\"#f0f921\"]],\"type\":\"contour\"}],\"contourcarpet\":[{\"colorbar\":{\"outlinewidth\":0,\"ticks\":\"\"},\"type\":\"contourcarpet\"}],\"heatmap\":[{\"colorbar\":{\"outlinewidth\":0,\"ticks\":\"\"},\"colorscale\":[[0.0,\"#0d0887\"],[0.1111111111111111,\"#46039f\"],[0.2222222222222222,\"#7201a8\"],[0.3333333333333333,\"#9c179e\"],[0.4444444444444444,\"#bd3786\"],[0.5555555555555556,\"#d8576b\"],[0.6666666666666666,\"#ed7953\"],[0.7777777777777778,\"#fb9f3a\"],[0.8888888888888888,\"#fdca26\"],[1.0,\"#f0f921\"]],\"type\":\"heatmap\"}],\"heatmapgl\":[{\"colorbar\":{\"outlinewidth\":0,\"ticks\":\"\"},\"colorscale\":[[0.0,\"#0d0887\"],[0.1111111111111111,\"#46039f\"],[0.2222222222222222,\"#7201a8\"],[0.3333333333333333,\"#9c179e\"],[0.4444444444444444,\"#bd3786\"],[0.5555555555555556,\"#d8576b\"],[0.6666666666666666,\"#ed7953\"],[0.7777777777777778,\"#fb9f3a\"],[0.8888888888888888,\"#fdca26\"],[1.0,\"#f0f921\"]],\"type\":\"heatmapgl\"}],\"histogram\":[{\"marker\":{\"pattern\":{\"fillmode\":\"overlay\",\"size\":10,\"solidity\":0.2}},\"type\":\"histogram\"}],\"histogram2d\":[{\"colorbar\":{\"outlinewidth\":0,\"ticks\":\"\"},\"colorscale\":[[0.0,\"#0d0887\"],[0.1111111111111111,\"#46039f\"],[0.2222222222222222,\"#7201a8\"],[0.3333333333333333,\"#9c179e\"],[0.4444444444444444,\"#bd3786\"],[0.5555555555555556,\"#d8576b\"],[0.6666666666666666,\"#ed7953\"],[0.7777777777777778,\"#fb9f3a\"],[0.8888888888888888,\"#fdca26\"],[1.0,\"#f0f921\"]],\"type\":\"histogram2d\"}],\"histogram2dcontour\":[{\"colorbar\":{\"outlinewidth\":0,\"ticks\":\"\"},\"colorscale\":[[0.0,\"#0d0887\"],[0.1111111111111111,\"#46039f\"],[0.2222222222222222,\"#7201a8\"],[0.3333333333333333,\"#9c179e\"],[0.4444444444444444,\"#bd3786\"],[0.5555555555555556,\"#d8576b\"],[0.6666666666666666,\"#ed7953\"],[0.7777777777777778,\"#fb9f3a\"],[0.8888888888888888,\"#fdca26\"],[1.0,\"#f0f921\"]],\"type\":\"histogram2dcontour\"}],\"mesh3d\":[{\"colorbar\":{\"outlinewidth\":0,\"ticks\":\"\"},\"type\":\"mesh3d\"}],\"parcoords\":[{\"line\":{\"colorbar\":{\"outlinewidth\":0,\"ticks\":\"\"}},\"type\":\"parcoords\"}],\"pie\":[{\"automargin\":true,\"type\":\"pie\"}],\"scatter\":[{\"marker\":{\"colorbar\":{\"outlinewidth\":0,\"ticks\":\"\"}},\"type\":\"scatter\"}],\"scatter3d\":[{\"line\":{\"colorbar\":{\"outlinewidth\":0,\"ticks\":\"\"}},\"marker\":{\"colorbar\":{\"outlinewidth\":0,\"ticks\":\"\"}},\"type\":\"scatter3d\"}],\"scattercarpet\":[{\"marker\":{\"colorbar\":{\"outlinewidth\":0,\"ticks\":\"\"}},\"type\":\"scattercarpet\"}],\"scattergeo\":[{\"marker\":{\"colorbar\":{\"outlinewidth\":0,\"ticks\":\"\"}},\"type\":\"scattergeo\"}],\"scattergl\":[{\"marker\":{\"colorbar\":{\"outlinewidth\":0,\"ticks\":\"\"}},\"type\":\"scattergl\"}],\"scattermapbox\":[{\"marker\":{\"colorbar\":{\"outlinewidth\":0,\"ticks\":\"\"}},\"type\":\"scattermapbox\"}],\"scatterpolar\":[{\"marker\":{\"colorbar\":{\"outlinewidth\":0,\"ticks\":\"\"}},\"type\":\"scatterpolar\"}],\"scatterpolargl\":[{\"marker\":{\"colorbar\":{\"outlinewidth\":0,\"ticks\":\"\"}},\"type\":\"scatterpolargl\"}],\"scatterternary\":[{\"marker\":{\"colorbar\":{\"outlinewidth\":0,\"ticks\":\"\"}},\"type\":\"scatterternary\"}],\"surface\":[{\"colorbar\":{\"outlinewidth\":0,\"ticks\":\"\"},\"colorscale\":[[0.0,\"#0d0887\"],[0.1111111111111111,\"#46039f\"],[0.2222222222222222,\"#7201a8\"],[0.3333333333333333,\"#9c179e\"],[0.4444444444444444,\"#bd3786\"],[0.5555555555555556,\"#d8576b\"],[0.6666666666666666,\"#ed7953\"],[0.7777777777777778,\"#fb9f3a\"],[0.8888888888888888,\"#fdca26\"],[1.0,\"#f0f921\"]],\"type\":\"surface\"}],\"table\":[{\"cells\":{\"fill\":{\"color\":\"#EBF0F8\"},\"line\":{\"color\":\"white\"}},\"header\":{\"fill\":{\"color\":\"#C8D4E3\"},\"line\":{\"color\":\"white\"}},\"type\":\"table\"}]},\"layout\":{\"annotationdefaults\":{\"arrowcolor\":\"#2a3f5f\",\"arrowhead\":0,\"arrowwidth\":1},\"autotypenumbers\":\"strict\",\"coloraxis\":{\"colorbar\":{\"outlinewidth\":0,\"ticks\":\"\"}},\"colorscale\":{\"diverging\":[[0,\"#8e0152\"],[0.1,\"#c51b7d\"],[0.2,\"#de77ae\"],[0.3,\"#f1b6da\"],[0.4,\"#fde0ef\"],[0.5,\"#f7f7f7\"],[0.6,\"#e6f5d0\"],[0.7,\"#b8e186\"],[0.8,\"#7fbc41\"],[0.9,\"#4d9221\"],[1,\"#276419\"]],\"sequential\":[[0.0,\"#0d0887\"],[0.1111111111111111,\"#46039f\"],[0.2222222222222222,\"#7201a8\"],[0.3333333333333333,\"#9c179e\"],[0.4444444444444444,\"#bd3786\"],[0.5555555555555556,\"#d8576b\"],[0.6666666666666666,\"#ed7953\"],[0.7777777777777778,\"#fb9f3a\"],[0.8888888888888888,\"#fdca26\"],[1.0,\"#f0f921\"]],\"sequentialminus\":[[0.0,\"#0d0887\"],[0.1111111111111111,\"#46039f\"],[0.2222222222222222,\"#7201a8\"],[0.3333333333333333,\"#9c179e\"],[0.4444444444444444,\"#bd3786\"],[0.5555555555555556,\"#d8576b\"],[0.6666666666666666,\"#ed7953\"],[0.7777777777777778,\"#fb9f3a\"],[0.8888888888888888,\"#fdca26\"],[1.0,\"#f0f921\"]]},\"colorway\":[\"#636efa\",\"#EF553B\",\"#00cc96\",\"#ab63fa\",\"#FFA15A\",\"#19d3f3\",\"#FF6692\",\"#B6E880\",\"#FF97FF\",\"#FECB52\"],\"font\":{\"color\":\"#2a3f5f\"},\"geo\":{\"bgcolor\":\"white\",\"lakecolor\":\"white\",\"landcolor\":\"#E5ECF6\",\"showlakes\":true,\"showland\":true,\"subunitcolor\":\"white\"},\"hoverlabel\":{\"align\":\"left\"},\"hovermode\":\"closest\",\"mapbox\":{\"style\":\"light\"},\"paper_bgcolor\":\"white\",\"plot_bgcolor\":\"#E5ECF6\",\"polar\":{\"angularaxis\":{\"gridcolor\":\"white\",\"linecolor\":\"white\",\"ticks\":\"\"},\"bgcolor\":\"#E5ECF6\",\"radialaxis\":{\"gridcolor\":\"white\",\"linecolor\":\"white\",\"ticks\":\"\"}},\"scene\":{\"xaxis\":{\"backgroundcolor\":\"#E5ECF6\",\"gridcolor\":\"white\",\"gridwidth\":2,\"linecolor\":\"white\",\"showbackground\":true,\"ticks\":\"\",\"zerolinecolor\":\"white\"},\"yaxis\":{\"backgroundcolor\":\"#E5ECF6\",\"gridcolor\":\"white\",\"gridwidth\":2,\"linecolor\":\"white\",\"showbackground\":true,\"ticks\":\"\",\"zerolinecolor\":\"white\"},\"zaxis\":{\"backgroundcolor\":\"#E5ECF6\",\"gridcolor\":\"white\",\"gridwidth\":2,\"linecolor\":\"white\",\"showbackground\":true,\"ticks\":\"\",\"zerolinecolor\":\"white\"}},\"shapedefaults\":{\"line\":{\"color\":\"#2a3f5f\"}},\"ternary\":{\"aaxis\":{\"gridcolor\":\"white\",\"linecolor\":\"white\",\"ticks\":\"\"},\"baxis\":{\"gridcolor\":\"white\",\"linecolor\":\"white\",\"ticks\":\"\"},\"bgcolor\":\"#E5ECF6\",\"caxis\":{\"gridcolor\":\"white\",\"linecolor\":\"white\",\"ticks\":\"\"}},\"title\":{\"x\":0.05},\"xaxis\":{\"automargin\":true,\"gridcolor\":\"white\",\"linecolor\":\"white\",\"ticks\":\"\",\"title\":{\"standoff\":15},\"zerolinecolor\":\"white\",\"zerolinewidth\":2},\"yaxis\":{\"automargin\":true,\"gridcolor\":\"white\",\"linecolor\":\"white\",\"ticks\":\"\",\"title\":{\"standoff\":15},\"zerolinecolor\":\"white\",\"zerolinewidth\":2}}}},                        {\"responsive\": true}                    ).then(function(){\n",
       "                            \n",
       "var gd = document.getElementById('eea09442-ac94-4161-8926-3d389a736fbd');\n",
       "var x = new MutationObserver(function (mutations, observer) {{\n",
       "        var display = window.getComputedStyle(gd).display;\n",
       "        if (!display || display === 'none') {{\n",
       "            console.log([gd, 'removed!']);\n",
       "            Plotly.purge(gd);\n",
       "            observer.disconnect();\n",
       "        }}\n",
       "}});\n",
       "\n",
       "// Listen for the removal of the full notebook cells\n",
       "var notebookContainer = gd.closest('#notebook-container');\n",
       "if (notebookContainer) {{\n",
       "    x.observe(notebookContainer, {childList: true});\n",
       "}}\n",
       "\n",
       "// Listen for the clearing of the current output cell\n",
       "var outputEl = gd.closest('.output');\n",
       "if (outputEl) {{\n",
       "    x.observe(outputEl, {childList: true});\n",
       "}}\n",
       "\n",
       "                        })                };                });            </script>        </div>"
      ],
      "application/vnd.plotly.v1+json": {
       "config": {
        "plotlyServerURL": "https://plot.ly"
       },
       "data": [
        {
         "hovertemplate": "cluster_ID=0<br>PCA_1=%{x}<br>PCA_2=%{y}<br>PCA_3=%{z}<extra></extra>",
         "legendgroup": "0",
         "marker": {
          "color": "#636efa",
          "symbol": "circle"
         },
         "mode": "markers",
         "name": "0",
         "scene": "scene",
         "showlegend": true,
         "type": "scatter3d",
         "x": [
          0.14079597830614593,
          -1.2910922547347268,
          -3.363702370547082,
          -0.6233378176735426,
          2.187478666535595,
          2.499452970931749,
          -1.6916567253641992,
          0.017986645063228165,
          -3.1778513429902393,
          -1.8076057047153478,
          -6.882149256232731,
          4.2219649589322
         ],
         "y": [
          -2.400551786382022,
          -2.247626687526582,
          -2.038408138176572,
          -2.4993484613403463,
          -3.0492646667700383,
          -2.78307411302812,
          -2.2392049848249473,
          -2.8151654561624797,
          -1.9424997515315305,
          -2.640142675205623,
          -1.2772014152944802,
          -3.369814261477718
         ],
         "z": [
          -1.1945696623303907,
          -1.7196887994777157,
          -2.4684048892409765,
          -2.7356599050636548,
          -1.9513253090331364,
          -0.5061208644164727,
          -1.8760585073986713,
          -1.596360180065628,
          -2.3236589704675574,
          -2.2284054922755083,
          -3.5126812757193635,
          -0.1867486843808612
         ]
        },
        {
         "hovertemplate": "cluster_ID=1<br>PCA_1=%{x}<br>PCA_2=%{y}<br>PCA_3=%{z}<extra></extra>",
         "legendgroup": "1",
         "marker": {
          "color": "#EF553B",
          "symbol": "circle"
         },
         "mode": "markers",
         "name": "1",
         "scene": "scene",
         "showlegend": true,
         "type": "scatter3d",
         "x": [
          -10.94457322851456
         ],
         "y": [
          -1.9638127871932038
         ],
         "z": [
          11.43714225080165
         ]
        },
        {
         "hovertemplate": "cluster_ID=2<br>PCA_1=%{x}<br>PCA_2=%{y}<br>PCA_3=%{z}<extra></extra>",
         "legendgroup": "2",
         "marker": {
          "color": "#00cc96",
          "symbol": "circle"
         },
         "mode": "markers",
         "name": "2",
         "scene": "scene",
         "showlegend": true,
         "type": "scatter3d",
         "x": [
          5.1496740346581715,
          1.2858776032136514,
          0.5767280234353603,
          2.6957177883478884,
          -1.0523780422136906,
          -1.755017084211598,
          3.4335156951250703,
          1.5670284150822589,
          2.526964273221333
         ],
         "y": [
          3.6056544588623516,
          4.053549474994051,
          3.892278168803138,
          3.9172793613080326,
          4.254266207875411,
          4.445285566492862,
          4.28474758336095,
          4.385833573315081,
          3.551082660375174
         ],
         "z": [
          3.2218787270490212,
          1.9681191650880594,
          -0.9917243590227884,
          0.03152505143359307,
          -1.0767441374070632,
          -1.486054923950205,
          0.7818168505235424,
          0.13583685692395558,
          -0.5296620871963263
         ]
        },
        {
         "hovertemplate": "cluster_ID=3<br>PCA_1=%{x}<br>PCA_2=%{y}<br>PCA_3=%{z}<extra></extra>",
         "legendgroup": "3",
         "marker": {
          "color": "#ab63fa",
          "symbol": "circle"
         },
         "mode": "markers",
         "name": "3",
         "scene": "scene",
         "showlegend": true,
         "type": "scatter3d",
         "x": [
          1.8758826795393468
         ],
         "y": [
          1.6662208305900859
         ],
         "z": [
          -0.9465614447601088
         ]
        },
        {
         "hovertemplate": "cluster_ID=4<br>PCA_1=%{x}<br>PCA_2=%{y}<br>PCA_3=%{z}<extra></extra>",
         "legendgroup": "4",
         "marker": {
          "color": "#FFA15A",
          "symbol": "circle"
         },
         "mode": "markers",
         "name": "4",
         "scene": "scene",
         "showlegend": true,
         "type": "scatter3d",
         "x": [
          5.456337682760347
         ],
         "y": [
          -3.857090137253277
         ],
         "z": [
          3.090095757095945
         ]
        },
        {
         "hovertemplate": "cluster_ID=5<br>PCA_1=%{x}<br>PCA_2=%{y}<br>PCA_3=%{z}<extra></extra>",
         "legendgroup": "5",
         "marker": {
          "color": "#19d3f3",
          "symbol": "circle"
         },
         "mode": "markers",
         "name": "5",
         "scene": "scene",
         "showlegend": true,
         "type": "scatter3d",
         "x": [
          15.432401655809173
         ],
         "y": [
          -3.8764473571504743
         ],
         "z": [
          4.183075180449238
         ]
        },
        {
         "hovertemplate": "cluster_ID=6<br>PCA_1=%{x}<br>PCA_2=%{y}<br>PCA_3=%{z}<extra></extra>",
         "legendgroup": "6",
         "marker": {
          "color": "#FF6692",
          "symbol": "circle"
         },
         "mode": "markers",
         "name": "6",
         "scene": "scene",
         "showlegend": true,
         "type": "scatter3d",
         "x": [
          -8.965323537133825
         ],
         "y": [
          -1.2921067238846884
         ],
         "z": [
          2.9138060841757727
         ]
        },
        {
         "hovertemplate": "cluster_ID=7<br>PCA_1=%{x}<br>PCA_2=%{y}<br>PCA_3=%{z}<extra></extra>",
         "legendgroup": "7",
         "marker": {
          "color": "#B6E880",
          "symbol": "circle"
         },
         "mode": "markers",
         "name": "7",
         "scene": "scene",
         "showlegend": true,
         "type": "scatter3d",
         "x": [
          -7.513119706629975
         ],
         "y": [
          2.23556151722496
         ],
         "z": [
          -0.4328664313343432
         ]
        }
       ],
       "layout": {
        "legend": {
         "title": {
          "text": "cluster_ID"
         },
         "tracegroupgap": 0
        },
        "margin": {
         "t": 60
        },
        "scene": {
         "domain": {
          "x": [
           0,
           1
          ],
          "y": [
           0,
           1
          ]
         },
         "xaxis": {
          "title": {
           "text": "PCA_1"
          }
         },
         "yaxis": {
          "title": {
           "text": "PCA_2"
          }
         },
         "zaxis": {
          "title": {
           "text": "PCA_3"
          }
         }
        },
        "template": {
         "data": {
          "bar": [
           {
            "error_x": {
             "color": "#2a3f5f"
            },
            "error_y": {
             "color": "#2a3f5f"
            },
            "marker": {
             "line": {
              "color": "#E5ECF6",
              "width": 0.5
             },
             "pattern": {
              "fillmode": "overlay",
              "size": 10,
              "solidity": 0.2
             }
            },
            "type": "bar"
           }
          ],
          "barpolar": [
           {
            "marker": {
             "line": {
              "color": "#E5ECF6",
              "width": 0.5
             },
             "pattern": {
              "fillmode": "overlay",
              "size": 10,
              "solidity": 0.2
             }
            },
            "type": "barpolar"
           }
          ],
          "carpet": [
           {
            "aaxis": {
             "endlinecolor": "#2a3f5f",
             "gridcolor": "white",
             "linecolor": "white",
             "minorgridcolor": "white",
             "startlinecolor": "#2a3f5f"
            },
            "baxis": {
             "endlinecolor": "#2a3f5f",
             "gridcolor": "white",
             "linecolor": "white",
             "minorgridcolor": "white",
             "startlinecolor": "#2a3f5f"
            },
            "type": "carpet"
           }
          ],
          "choropleth": [
           {
            "colorbar": {
             "outlinewidth": 0,
             "ticks": ""
            },
            "type": "choropleth"
           }
          ],
          "contour": [
           {
            "colorbar": {
             "outlinewidth": 0,
             "ticks": ""
            },
            "colorscale": [
             [
              0,
              "#0d0887"
             ],
             [
              0.1111111111111111,
              "#46039f"
             ],
             [
              0.2222222222222222,
              "#7201a8"
             ],
             [
              0.3333333333333333,
              "#9c179e"
             ],
             [
              0.4444444444444444,
              "#bd3786"
             ],
             [
              0.5555555555555556,
              "#d8576b"
             ],
             [
              0.6666666666666666,
              "#ed7953"
             ],
             [
              0.7777777777777778,
              "#fb9f3a"
             ],
             [
              0.8888888888888888,
              "#fdca26"
             ],
             [
              1,
              "#f0f921"
             ]
            ],
            "type": "contour"
           }
          ],
          "contourcarpet": [
           {
            "colorbar": {
             "outlinewidth": 0,
             "ticks": ""
            },
            "type": "contourcarpet"
           }
          ],
          "heatmap": [
           {
            "colorbar": {
             "outlinewidth": 0,
             "ticks": ""
            },
            "colorscale": [
             [
              0,
              "#0d0887"
             ],
             [
              0.1111111111111111,
              "#46039f"
             ],
             [
              0.2222222222222222,
              "#7201a8"
             ],
             [
              0.3333333333333333,
              "#9c179e"
             ],
             [
              0.4444444444444444,
              "#bd3786"
             ],
             [
              0.5555555555555556,
              "#d8576b"
             ],
             [
              0.6666666666666666,
              "#ed7953"
             ],
             [
              0.7777777777777778,
              "#fb9f3a"
             ],
             [
              0.8888888888888888,
              "#fdca26"
             ],
             [
              1,
              "#f0f921"
             ]
            ],
            "type": "heatmap"
           }
          ],
          "heatmapgl": [
           {
            "colorbar": {
             "outlinewidth": 0,
             "ticks": ""
            },
            "colorscale": [
             [
              0,
              "#0d0887"
             ],
             [
              0.1111111111111111,
              "#46039f"
             ],
             [
              0.2222222222222222,
              "#7201a8"
             ],
             [
              0.3333333333333333,
              "#9c179e"
             ],
             [
              0.4444444444444444,
              "#bd3786"
             ],
             [
              0.5555555555555556,
              "#d8576b"
             ],
             [
              0.6666666666666666,
              "#ed7953"
             ],
             [
              0.7777777777777778,
              "#fb9f3a"
             ],
             [
              0.8888888888888888,
              "#fdca26"
             ],
             [
              1,
              "#f0f921"
             ]
            ],
            "type": "heatmapgl"
           }
          ],
          "histogram": [
           {
            "marker": {
             "pattern": {
              "fillmode": "overlay",
              "size": 10,
              "solidity": 0.2
             }
            },
            "type": "histogram"
           }
          ],
          "histogram2d": [
           {
            "colorbar": {
             "outlinewidth": 0,
             "ticks": ""
            },
            "colorscale": [
             [
              0,
              "#0d0887"
             ],
             [
              0.1111111111111111,
              "#46039f"
             ],
             [
              0.2222222222222222,
              "#7201a8"
             ],
             [
              0.3333333333333333,
              "#9c179e"
             ],
             [
              0.4444444444444444,
              "#bd3786"
             ],
             [
              0.5555555555555556,
              "#d8576b"
             ],
             [
              0.6666666666666666,
              "#ed7953"
             ],
             [
              0.7777777777777778,
              "#fb9f3a"
             ],
             [
              0.8888888888888888,
              "#fdca26"
             ],
             [
              1,
              "#f0f921"
             ]
            ],
            "type": "histogram2d"
           }
          ],
          "histogram2dcontour": [
           {
            "colorbar": {
             "outlinewidth": 0,
             "ticks": ""
            },
            "colorscale": [
             [
              0,
              "#0d0887"
             ],
             [
              0.1111111111111111,
              "#46039f"
             ],
             [
              0.2222222222222222,
              "#7201a8"
             ],
             [
              0.3333333333333333,
              "#9c179e"
             ],
             [
              0.4444444444444444,
              "#bd3786"
             ],
             [
              0.5555555555555556,
              "#d8576b"
             ],
             [
              0.6666666666666666,
              "#ed7953"
             ],
             [
              0.7777777777777778,
              "#fb9f3a"
             ],
             [
              0.8888888888888888,
              "#fdca26"
             ],
             [
              1,
              "#f0f921"
             ]
            ],
            "type": "histogram2dcontour"
           }
          ],
          "mesh3d": [
           {
            "colorbar": {
             "outlinewidth": 0,
             "ticks": ""
            },
            "type": "mesh3d"
           }
          ],
          "parcoords": [
           {
            "line": {
             "colorbar": {
              "outlinewidth": 0,
              "ticks": ""
             }
            },
            "type": "parcoords"
           }
          ],
          "pie": [
           {
            "automargin": true,
            "type": "pie"
           }
          ],
          "scatter": [
           {
            "marker": {
             "colorbar": {
              "outlinewidth": 0,
              "ticks": ""
             }
            },
            "type": "scatter"
           }
          ],
          "scatter3d": [
           {
            "line": {
             "colorbar": {
              "outlinewidth": 0,
              "ticks": ""
             }
            },
            "marker": {
             "colorbar": {
              "outlinewidth": 0,
              "ticks": ""
             }
            },
            "type": "scatter3d"
           }
          ],
          "scattercarpet": [
           {
            "marker": {
             "colorbar": {
              "outlinewidth": 0,
              "ticks": ""
             }
            },
            "type": "scattercarpet"
           }
          ],
          "scattergeo": [
           {
            "marker": {
             "colorbar": {
              "outlinewidth": 0,
              "ticks": ""
             }
            },
            "type": "scattergeo"
           }
          ],
          "scattergl": [
           {
            "marker": {
             "colorbar": {
              "outlinewidth": 0,
              "ticks": ""
             }
            },
            "type": "scattergl"
           }
          ],
          "scattermapbox": [
           {
            "marker": {
             "colorbar": {
              "outlinewidth": 0,
              "ticks": ""
             }
            },
            "type": "scattermapbox"
           }
          ],
          "scatterpolar": [
           {
            "marker": {
             "colorbar": {
              "outlinewidth": 0,
              "ticks": ""
             }
            },
            "type": "scatterpolar"
           }
          ],
          "scatterpolargl": [
           {
            "marker": {
             "colorbar": {
              "outlinewidth": 0,
              "ticks": ""
             }
            },
            "type": "scatterpolargl"
           }
          ],
          "scatterternary": [
           {
            "marker": {
             "colorbar": {
              "outlinewidth": 0,
              "ticks": ""
             }
            },
            "type": "scatterternary"
           }
          ],
          "surface": [
           {
            "colorbar": {
             "outlinewidth": 0,
             "ticks": ""
            },
            "colorscale": [
             [
              0,
              "#0d0887"
             ],
             [
              0.1111111111111111,
              "#46039f"
             ],
             [
              0.2222222222222222,
              "#7201a8"
             ],
             [
              0.3333333333333333,
              "#9c179e"
             ],
             [
              0.4444444444444444,
              "#bd3786"
             ],
             [
              0.5555555555555556,
              "#d8576b"
             ],
             [
              0.6666666666666666,
              "#ed7953"
             ],
             [
              0.7777777777777778,
              "#fb9f3a"
             ],
             [
              0.8888888888888888,
              "#fdca26"
             ],
             [
              1,
              "#f0f921"
             ]
            ],
            "type": "surface"
           }
          ],
          "table": [
           {
            "cells": {
             "fill": {
              "color": "#EBF0F8"
             },
             "line": {
              "color": "white"
             }
            },
            "header": {
             "fill": {
              "color": "#C8D4E3"
             },
             "line": {
              "color": "white"
             }
            },
            "type": "table"
           }
          ]
         },
         "layout": {
          "annotationdefaults": {
           "arrowcolor": "#2a3f5f",
           "arrowhead": 0,
           "arrowwidth": 1
          },
          "autotypenumbers": "strict",
          "coloraxis": {
           "colorbar": {
            "outlinewidth": 0,
            "ticks": ""
           }
          },
          "colorscale": {
           "diverging": [
            [
             0,
             "#8e0152"
            ],
            [
             0.1,
             "#c51b7d"
            ],
            [
             0.2,
             "#de77ae"
            ],
            [
             0.3,
             "#f1b6da"
            ],
            [
             0.4,
             "#fde0ef"
            ],
            [
             0.5,
             "#f7f7f7"
            ],
            [
             0.6,
             "#e6f5d0"
            ],
            [
             0.7,
             "#b8e186"
            ],
            [
             0.8,
             "#7fbc41"
            ],
            [
             0.9,
             "#4d9221"
            ],
            [
             1,
             "#276419"
            ]
           ],
           "sequential": [
            [
             0,
             "#0d0887"
            ],
            [
             0.1111111111111111,
             "#46039f"
            ],
            [
             0.2222222222222222,
             "#7201a8"
            ],
            [
             0.3333333333333333,
             "#9c179e"
            ],
            [
             0.4444444444444444,
             "#bd3786"
            ],
            [
             0.5555555555555556,
             "#d8576b"
            ],
            [
             0.6666666666666666,
             "#ed7953"
            ],
            [
             0.7777777777777778,
             "#fb9f3a"
            ],
            [
             0.8888888888888888,
             "#fdca26"
            ],
            [
             1,
             "#f0f921"
            ]
           ],
           "sequentialminus": [
            [
             0,
             "#0d0887"
            ],
            [
             0.1111111111111111,
             "#46039f"
            ],
            [
             0.2222222222222222,
             "#7201a8"
            ],
            [
             0.3333333333333333,
             "#9c179e"
            ],
            [
             0.4444444444444444,
             "#bd3786"
            ],
            [
             0.5555555555555556,
             "#d8576b"
            ],
            [
             0.6666666666666666,
             "#ed7953"
            ],
            [
             0.7777777777777778,
             "#fb9f3a"
            ],
            [
             0.8888888888888888,
             "#fdca26"
            ],
            [
             1,
             "#f0f921"
            ]
           ]
          },
          "colorway": [
           "#636efa",
           "#EF553B",
           "#00cc96",
           "#ab63fa",
           "#FFA15A",
           "#19d3f3",
           "#FF6692",
           "#B6E880",
           "#FF97FF",
           "#FECB52"
          ],
          "font": {
           "color": "#2a3f5f"
          },
          "geo": {
           "bgcolor": "white",
           "lakecolor": "white",
           "landcolor": "#E5ECF6",
           "showlakes": true,
           "showland": true,
           "subunitcolor": "white"
          },
          "hoverlabel": {
           "align": "left"
          },
          "hovermode": "closest",
          "mapbox": {
           "style": "light"
          },
          "paper_bgcolor": "white",
          "plot_bgcolor": "#E5ECF6",
          "polar": {
           "angularaxis": {
            "gridcolor": "white",
            "linecolor": "white",
            "ticks": ""
           },
           "bgcolor": "#E5ECF6",
           "radialaxis": {
            "gridcolor": "white",
            "linecolor": "white",
            "ticks": ""
           }
          },
          "scene": {
           "xaxis": {
            "backgroundcolor": "#E5ECF6",
            "gridcolor": "white",
            "gridwidth": 2,
            "linecolor": "white",
            "showbackground": true,
            "ticks": "",
            "zerolinecolor": "white"
           },
           "yaxis": {
            "backgroundcolor": "#E5ECF6",
            "gridcolor": "white",
            "gridwidth": 2,
            "linecolor": "white",
            "showbackground": true,
            "ticks": "",
            "zerolinecolor": "white"
           },
           "zaxis": {
            "backgroundcolor": "#E5ECF6",
            "gridcolor": "white",
            "gridwidth": 2,
            "linecolor": "white",
            "showbackground": true,
            "ticks": "",
            "zerolinecolor": "white"
           }
          },
          "shapedefaults": {
           "line": {
            "color": "#2a3f5f"
           }
          },
          "ternary": {
           "aaxis": {
            "gridcolor": "white",
            "linecolor": "white",
            "ticks": ""
           },
           "baxis": {
            "gridcolor": "white",
            "linecolor": "white",
            "ticks": ""
           },
           "bgcolor": "#E5ECF6",
           "caxis": {
            "gridcolor": "white",
            "linecolor": "white",
            "ticks": ""
           }
          },
          "title": {
           "x": 0.05
          },
          "xaxis": {
           "automargin": true,
           "gridcolor": "white",
           "linecolor": "white",
           "ticks": "",
           "title": {
            "standoff": 15
           },
           "zerolinecolor": "white",
           "zerolinewidth": 2
          },
          "yaxis": {
           "automargin": true,
           "gridcolor": "white",
           "linecolor": "white",
           "ticks": "",
           "title": {
            "standoff": 15
           },
           "zerolinecolor": "white",
           "zerolinewidth": 2
          }
         }
        }
       }
      }
     },
     "metadata": {}
    }
   ],
   "metadata": {}
  },
  {
   "cell_type": "code",
   "execution_count": 44,
   "source": [
    "\n",
    "def apply_tsne(df, n_components, perplexity):\n",
    "    tsne_3d = TSNE(n_components=3, perplexity=perplexity)\n",
    "    TCs_3d = tsne_3d.fit_transform(df)\n",
    "    tsne_columns = ['TSNE_'+ str(n) for n in range(1,n_components+1)]\n",
    "    tsne_df = pd.DataFrame(data = TCs_3d, columns = tsne_columns)\n",
    "    return tsne_df\n"
   ],
   "outputs": [],
   "metadata": {}
  },
  {
   "cell_type": "code",
   "execution_count": 49,
   "source": [
    "def explore_tsne(X, range_distance):\n",
    "    clusters_size = np.zeros(range_distance.shape[0])\n",
    "    for num, distance in enumerate(range_distance):\n",
    "        db = DBSCAN(eps=distance, min_samples=1).fit(X)\n",
    "        clusters_size[num] = len(set(db.labels_))\n",
    "    return pd.DataFrame({'distance': range_distance, 'cluster size': clusters_size})\n",
    "\n",
    "\n",
    "explore_tsne_1_to_11 = explore_tsne(X, np.arange(5,50,2))"
   ],
   "outputs": [],
   "metadata": {}
  },
  {
   "cell_type": "code",
   "execution_count": null,
   "source": [
    "plot_scatter(explore_dbscan_1_to_11['distance'], explore_tsne_1_to_11['cluster size'], 'Distancia', 'Cantidad de Cluster')"
   ],
   "outputs": [],
   "metadata": {}
  }
 ],
 "metadata": {
  "interpreter": {
   "hash": "d07da0965434c7b5286d6cc9b9463c44a85c1c514696f673aad9eb5034120dfe"
  },
  "kernelspec": {
   "name": "python3",
   "display_name": "Python 3.6.9 64-bit ('licentiate-thesis-repo-cz9ujhZI': pipenv)"
  },
  "language_info": {
   "codemirror_mode": {
    "name": "ipython",
    "version": 3
   },
   "file_extension": ".py",
   "mimetype": "text/x-python",
   "name": "python",
   "nbconvert_exporter": "python",
   "pygments_lexer": "ipython3",
   "version": "3.6.9"
  },
  "orig_nbformat": 4
 },
 "nbformat": 4,
 "nbformat_minor": 2
}