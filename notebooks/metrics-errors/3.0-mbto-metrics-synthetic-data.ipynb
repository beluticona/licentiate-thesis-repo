{
 "cells": [
  {
   "cell_type": "markdown",
   "metadata": {},
   "source": [
    "# Metrics and Errors"
   ]
  },
  {
   "cell_type": "code",
   "execution_count": null,
   "metadata": {},
   "outputs": [],
   "source": [
    "import numpy as np\n",
    "import pandas as pd\n",
    "import seaborn as sns\n",
    "import warnings\n",
    "warnings.filterwarnings(\"ignore\", category=FutureWarning)\n",
    "warnings.filterwarnings(\"ignore\", category=RuntimeWarning)"
   ]
  },
  {
   "cell_type": "markdown",
   "metadata": {},
   "source": [
    "## Scikit-Learn Modified functions\n",
    "# Functions adapted to received binary labeled matrix"
   ]
  },
  {
   "cell_type": "code",
   "execution_count": null,
   "metadata": {},
   "outputs": [],
   "source": [
    "def customized_precision_recall_fscore_support(MCM, beta=1.0, labels=None,\n",
    "                                                pos_label=1, average=\"binary\",\n",
    "                                                warn_for=('precision', 'recall',\n",
    "                                                        'f-score'),\n",
    "                                                sample_weight=None,\n",
    "                                                zero_division=\"warn\"):\n",
    "    \"\"\"Compute precision, recall, F-measure and support for each class.\n",
    "\n",
    "    The precision is the ratio ``tp / (tp + fp)`` where ``tp`` is the number of\n",
    "    true positives and ``fp`` the number of false positives. The precision is\n",
    "    intuitively the ability of the classifier not to label as positive a sample\n",
    "    that is negative.\n",
    "\n",
    "    The recall is the ratio ``tp / (tp + fn)`` where ``tp`` is the number of\n",
    "    true positives and ``fn`` the number of false negatives. The recall is\n",
    "    intuitively the ability of the classifier to find all the positive samples.\n",
    "\n",
    "    The F-beta score can be interpreted as a weighted harmonic mean of\n",
    "    the precision and recall, where an F-beta score reaches its best\n",
    "    value at 1 and worst score at 0.\n",
    "\n",
    "    The F-beta score weights recall more than precision by a factor of\n",
    "    ``beta``. ``beta == 1.0`` means recall and precision are equally important.\n",
    "\n",
    "    The support is the number of occurrences of each class in ``y_true``.\n",
    "\n",
    "    If ``pos_label is None`` and in binary classification, this function\n",
    "    returns the average precision, recall and F-measure if ``average``\n",
    "    is one of ``'micro'``, ``'macro'``, ``'weighted'`` or ``'samples'``.\n",
    "\n",
    "    Read more in the :ref:`User Guide <precision_recall_f_measure_metrics>`.\n",
    "\n",
    "    Parameters\n",
    "    ----------\n",
    "    y_true : 1d array-like, or label indicator array / sparse matrix\n",
    "        Ground truth (correct) target values.\n",
    "\n",
    "    y_pred : 1d array-like, or label indicator array / sparse matrix\n",
    "        Estimated targets as returned by a classifier.\n",
    "\n",
    "    beta : float, default=1.0\n",
    "        The strength of recall versus precision in the F-score.\n",
    "\n",
    "    labels : array-like, default=None\n",
    "        The set of labels to include when ``average != 'binary'``, and their\n",
    "        order if ``average is None``. Labels present in the data can be\n",
    "        excluded, for example to calculate a multiclass average ignoring a\n",
    "        majority negative class, while labels not present in the data will\n",
    "        result in 0 components in a macro average. For multilabel targets,\n",
    "        labels are column indices. By default, all labels in ``y_true`` and\n",
    "        ``y_pred`` are used in sorted order.\n",
    "\n",
    "    pos_label : str or int, default=1\n",
    "        The class to report if ``average='binary'`` and the data is binary.\n",
    "        If the data are multiclass or multilabel, this will be ignored;\n",
    "        setting ``labels=[pos_label]`` and ``average != 'binary'`` will report\n",
    "        scores for that label only.\n",
    "\n",
    "    average : {'binary', 'micro', 'macro', 'samples','weighted'}, \\\n",
    "            default=None\n",
    "        If ``None``, the scores for each class are returned. Otherwise, this\n",
    "        determines the type of averaging performed on the data:\n",
    "\n",
    "        ``'binary'``:\n",
    "            Only report results for the class specified by ``pos_label``.\n",
    "            This is applicable only if targets (``y_{true,pred}``) are binary.\n",
    "        ``'micro'``:\n",
    "            Calculate metrics globally by counting the total true positives,\n",
    "            false negatives and false positives.\n",
    "        ``'macro'``:\n",
    "            Calculate metrics for each label, and find their unweighted\n",
    "            mean.  This does not take label imbalance into account.\n",
    "        ``'weighted'``:\n",
    "            Calculate metrics for each label, and find their average weighted\n",
    "            by support (the number of true instances for each label). This\n",
    "            alters 'macro' to account for label imbalance; it can result in an\n",
    "            F-score that is not between precision and recall.\n",
    "        ``'samples'``:\n",
    "            Calculate metrics for each instance, and find their average (only\n",
    "            meaningful for multilabel classification where this differs from\n",
    "            :func:`accuracy_score`).\n",
    "\n",
    "    warn_for : tuple or set, for internal use\n",
    "        This determines which warnings will be made in the case that this\n",
    "        function is being used to return only one of its metrics.\n",
    "\n",
    "    sample_weight : array-like of shape (n_samples,), default=None\n",
    "        Sample weights.\n",
    "\n",
    "    zero_division : \"warn\", 0 or 1, default=\"warn\"\n",
    "        Sets the value to return when there is a zero division:\n",
    "           - recall: when there are no positive labels\n",
    "           - precision: when there are no positive predictions\n",
    "           - f-score: both\n",
    "\n",
    "        If set to \"warn\", this acts as 0, but warnings are also raised.\n",
    "\n",
    "    Returns\n",
    "    -------\n",
    "    precision : float (if average is not None) or array of float, shape =\\\n",
    "        [n_unique_labels]\n",
    "\n",
    "    recall : float (if average is not None) or array of float, , shape =\\\n",
    "        [n_unique_labels]\n",
    "\n",
    "    fbeta_score : float (if average is not None) or array of float, shape =\\\n",
    "        [n_unique_labels]\n",
    "\n",
    "    support : None (if average is not None) or array of int, shape =\\\n",
    "        [n_unique_labels]\n",
    "        The number of occurrences of each label in ``y_true``.\n",
    "\n",
    "    Notes\n",
    "    -----\n",
    "    When ``true positive + false positive == 0``, precision is undefined.\n",
    "    When ``true positive + false negative == 0``, recall is undefined.\n",
    "    In such cases, by default the metric will be set to 0, as will f-score,\n",
    "    and ``UndefinedMetricWarning`` will be raised. This behavior can be\n",
    "    modified with ``zero_division``.\n",
    "\n",
    "    References\n",
    "    ----------\n",
    "    .. [1] `Wikipedia entry for the Precision and recall\n",
    "           <https://en.wikipedia.org/wiki/Precision_and_recall>`_.\n",
    "\n",
    "    .. [2] `Wikipedia entry for the F1-score\n",
    "           <https://en.wikipedia.org/wiki/F1_score>`_.\n",
    "\n",
    "    .. [3] `Discriminative Methods for Multi-labeled Classification Advances\n",
    "           in Knowledge Discovery and Data Mining (2004), pp. 22-30 by Shantanu\n",
    "           Godbole, Sunita Sarawagi\n",
    "           <http://www.godbole.net/shantanu/pubs/multilabelsvm-pakdd04.pdf>`_.\n",
    "\n",
    "    Examples\n",
    "    --------\n",
    "    >>> import numpy as np\n",
    "    >>> from sklearn.metrics import precision_recall_fscore_support\n",
    "    >>> y_true = np.array(['cat', 'dog', 'pig', 'cat', 'dog', 'pig'])\n",
    "    >>> y_pred = np.array(['cat', 'pig', 'dog', 'cat', 'cat', 'dog'])\n",
    "    >>> precision_recall_fscore_support(y_true, y_pred, average='macro')\n",
    "    (0.22..., 0.33..., 0.26..., None)\n",
    "    >>> precision_recall_fscore_support(y_true, y_pred, average='micro')\n",
    "    (0.33..., 0.33..., 0.33..., None)\n",
    "    >>> precision_recall_fscore_support(y_true, y_pred, average='weighted')\n",
    "    (0.22..., 0.33..., 0.26..., None)\n",
    "\n",
    "    It is possible to compute per-label precisions, recalls, F1-scores and\n",
    "    supports instead of averaging:\n",
    "\n",
    "    >>> precision_recall_fscore_support(y_true, y_pred, average=None,\n",
    "    ... labels=['pig', 'dog', 'cat'])\n",
    "    (array([0.        , 0.        , 0.66...]),\n",
    "     array([0., 0., 1.]), array([0. , 0. , 0.8]),\n",
    "     array([2, 2, 2]))\n",
    "    \"\"\"\n",
    "    tp_sum = MCM[:, 1, 1]\n",
    "    pred_sum = tp_sum + MCM[:, 0, 1]\n",
    "    true_sum = tp_sum + MCM[:, 1, 0]\n",
    "\n",
    "    if average == 'micro':\n",
    "        tp_sum = np.array([tp_sum.sum()])\n",
    "        pred_sum = np.array([pred_sum.sum()])\n",
    "        true_sum = np.array([true_sum.sum()])\n",
    "\n",
    "    # Finally, we have all our sufficient statistics. Divide! #\n",
    "    beta2 = beta ** 2\n",
    "\n",
    "    # Divide, and on zero-division, set scores and/or warn according to\n",
    "    # zero_division:\n",
    "    precision = _prf_divide(tp_sum, pred_sum, 'precision',\n",
    "                            'predicted', average, warn_for, zero_division)\n",
    "    recall = _prf_divide(tp_sum, true_sum, 'recall',\n",
    "                         'true', average, warn_for, zero_division)\n",
    "\n",
    "    # warn for f-score only if zero_division is warn, it is in warn_for\n",
    "    # and BOTH prec and rec are ill-defined\n",
    "    \"\"\" if zero_division == \"warn\" and (\"f-score\",) == warn_for:\n",
    "        if (pred_sum[true_sum == 0] == 0).any():\n",
    "            _warn_prf(\n",
    "                average, \"true nor predicted\", 'F-score is', len(true_sum)\n",
    "            ) \"\"\"\n",
    "\n",
    "    # if tp == 0 F will be 1 only if all predictions are zero, all labels are\n",
    "    # zero, and zero_division=1. In all other case, 0\n",
    "    if np.isposinf(beta):\n",
    "        f_score = recall\n",
    "    else:\n",
    "        denom = beta2 * precision + recall\n",
    "\n",
    "        denom[denom == 0.] = 1  # avoid division by 0\n",
    "        f_score = (1 + beta2) * precision * recall / denom\n",
    "\n",
    "    # Average the results\n",
    "    if average == 'weighted':\n",
    "        weights = true_sum\n",
    "        if weights.sum() == 0:\n",
    "            zero_division_value = np.float64(1.0)\n",
    "            if zero_division in [\"warn\", 0]:\n",
    "                zero_division_value = np.float64(0.0)\n",
    "            # precision is zero_division if there are no positive predictions\n",
    "            # recall is zero_division if there are no positive labels\n",
    "            # fscore is zero_division if all labels AND predictions are\n",
    "            # negative\n",
    "            if pred_sum.sum() == 0:\n",
    "                return (zero_division_value,\n",
    "                        zero_division_value,\n",
    "                        zero_division_value,\n",
    "                        None)\n",
    "            else:\n",
    "                return (np.float64(0.0),\n",
    "                        zero_division_value,\n",
    "                        np.float64(0.0),\n",
    "                        None)\n",
    "\n",
    "    elif average == 'samples':\n",
    "        weights = sample_weight\n",
    "    else:\n",
    "        weights = None\n",
    "\n",
    "    if average is not None:\n",
    "        assert average != 'binary' or len(precision) == 1\n",
    "        precision = np.average(precision, weights=weights)\n",
    "        recall = np.average(recall, weights=weights)\n",
    "        f_score = np.average(f_score, weights=weights)\n",
    "        true_sum = None  # return no support\n",
    "\n",
    "    return precision, recall, f_score, true_sum\n",
    "\n",
    "\n",
    "def _prf_divide(numerator, denominator, metric,\n",
    "                modifier, average, warn_for, zero_division=\"warn\"):\n",
    "    \"\"\"Performs division and handles divide-by-zero.\n",
    "\n",
    "    On zero-division, sets the corresponding result elements equal to\n",
    "    0 or 1 (according to ``zero_division``). Plus, if\n",
    "    ``zero_division != \"warn\"`` raises a warning.\n",
    "\n",
    "    The metric, modifier and average arguments are used only for determining\n",
    "    an appropriate warning.\n",
    "    \"\"\"\n",
    "    mask = denominator == 0.0\n",
    "    denominator = denominator.copy()\n",
    "    denominator[mask] = 1  # avoid infs/nans\n",
    "    result = numerator / denominator\n",
    "\n",
    "    if not np.any(mask):\n",
    "        return result\n",
    "\n",
    "    # if ``zero_division=1``, set those with denominator == 0 equal to 1\n",
    "    result[mask] = 0.0 if zero_division in [\"warn\", 0] else 1.0\n",
    "\n",
    "    # the user will be removing warnings if zero_division is set to something\n",
    "    # different than its default value. If we are computing only f-score\n",
    "    # the warning will be raised only if precision and recall are ill-defined\n",
    "    if zero_division != \"warn\" or metric not in warn_for:\n",
    "        return result\n",
    "\n",
    "    # build appropriate warning\n",
    "    # E.g. \"Precision and F-score are ill-defined and being set to 0.0 in\n",
    "    # labels with no predicted samples. Use ``zero_division`` parameter to\n",
    "    # control this behavior.\"\n",
    "\n",
    "    \"\"\"     if metric in warn_for and 'f-score' in warn_for:\n",
    "            msg_start = '{0} and F-score are'.format(metric.title())\n",
    "        elif metric in warn_for:\n",
    "            msg_start = '{0} is'.format(metric.title())\n",
    "        elif 'f-score' in warn_for:\n",
    "            msg_start = 'F-score is'\n",
    "        else:\n",
    "            return result\n",
    "\n",
    "        _warn_prf(av\n",
    "        erage, modifier, msg_start, len(result)) \"\"\"\n",
    "\n",
    "    return result\n"
   ]
  },
  {
   "cell_type": "code",
   "execution_count": null,
   "metadata": {},
   "outputs": [],
   "source": [
    "from sklearn.metrics import matthews_corrcoef, make_scorer\n",
    "\n",
    "Matthew = make_scorer(matthews_corrcoef)\n",
    "\n",
    "class Estimator():\n",
    "    def __init__(sefl):\n",
    "        pass\n",
    "    \n",
    "    def predict(self, X):\n",
    "        return X \n",
    "\n",
    "def from_row_get_metric(row, metric, m_average, m_beta=1):\n",
    "    tn = row[\"tn\"]\n",
    "    fp = row[\"fp\"]\n",
    "    fn = row[\"fn\"]\n",
    "    tp = row[\"tp\"]\n",
    "    if metric.startswith(\"matthew\"):\n",
    "        y_true_tuples = (np.ones(tp), np.zeros(tn), np.ones(fn), np.zeros(fp))\n",
    "        y_pred_tuples = (np.ones(tp), np.zeros(tn), np.zeros(fn), np.ones(fp))\n",
    "        y_pred = np.concatenate(y_pred_tuples, axis=None)\n",
    "        y_true = np.concatenate(y_true_tuples, axis=None)\n",
    "        if metric.endswith(\"_score\"):\n",
    "            X = y_pred\n",
    "            estimator = Estimator()\n",
    "            return Matthew(estimator, X, y_true)\n",
    "        else: return matthews_corrcoef(y_true, y_pred)\n",
    "    else:   \n",
    "\n",
    "        MCM = np.array([[tp,tn], [fn,fp], [fp,fn], [tn,tp]]).T.reshape(-1, 2, 2)\n",
    "        precision, recall, f_score, _ = customized_precision_recall_fscore_support(MCM,\n",
    "                                        beta=m_beta, labels=None, pos_label=None, \n",
    "                                        average=m_average,\n",
    "                                        warn_for=('precision', 'recall',\n",
    "                                        'f-score'),\n",
    "                                        sample_weight=None,\n",
    "                                        zero_division=\"warn\")\n",
    "        if metric == \"precision\": return precision\n",
    "        elif metric == \"recall\": return recall\n",
    "        else: return f_score"
   ]
  },
  {
   "cell_type": "markdown",
   "metadata": {},
   "source": [
    "# Metrics Exploration for Imbalanced Dataset"
   ]
  },
  {
   "cell_type": "markdown",
   "metadata": {},
   "source": [
    "## General Idea"
   ]
  },
  {
   "cell_type": "markdown",
   "metadata": {},
   "source": [
    "\n",
    "Create different types of confussion matrix based on interesting cases of studies.\n",
    "\n",
    "Confussion Matrix: <br> <style type=\"text/css\"> ul { list-style-type: none; } </style>\n",
    "- [[ TN FP ] \n",
    "- [ FN TP ]]\n",
    "\n",
    "Cases of studies:\n",
    "- Poor no crystallization -- A0\n",
    "    - [[60 40 ]    \n",
    "    - [ 0  0 ]]\n",
    "- (D) Medium - a try no crystallization A1\n",
    "    - [[87 11 ]    \n",
    "    - [ 0  0 ]]\n",
    "- Perfect No crystallization: A2\n",
    "    - [[100 0 ]    \n",
    "    - [  0 0 ]]\n",
    "- (B) Constant No Crystal - Low Target's Proportion: B0A\n",
    "    - [[88 0 ]    \n",
    "    - [ 12 0 ]]\n",
    "- (C) A good try - Low Target's Proportion: B0B\n",
    "    - [[80 8 ]    \n",
    "    - [ 12  0 ]]\n",
    "- Medium Positive Crystal - Low Target's Proportion B1\n",
    "    - [[70 8 ]    \n",
    "    - [ 8 4 ]]\n",
    "- (E) Good Positive Crystal - Low Target's Proportion B2\n",
    "    - [[70 4 ]    \n",
    "    - [ 4 8 ]]\n",
    "- (A) Lost Everything - Medium Target's Proportion: C0A\n",
    "    - [[65 0 ]    \n",
    "    - [ 35  0 ]]\n",
    "- A try - Medium Target's Proportion: C0B\n",
    "    - [[50 15 ]    \n",
    "    - [ 35  0 ]]\n",
    "- Medium Positive Crystal - Medium Target's Proportion C1\n",
    "    - [[55 10 ]    \n",
    "    - [ 30 5 ]]\n",
    "- (F) Good Positive Crystal - Medium Target's Proportionc C2\n",
    "    - [[55 10 ]    \n",
    "    - [ 20 15 ]]"
   ]
  },
  {
   "cell_type": "code",
   "execution_count": 4,
   "metadata": {},
   "outputs": [],
   "source": [
    "class ConfusionMatrixType:\n",
    "    def __init__(self, tn_fp_fn_tp_means, tn_fp_fn_tp_sigmas, level):\n",
    "        self.mus = tn_fp_fn_tp_means\n",
    "        self.sigmas = tn_fp_fn_tp_sigmas\n",
    "        self.level = level\n",
    "    \n",
    "    def to_df(self, cm_samples, n_matrix_size):\n",
    "        cols_name = [\"tn\", \"fp\", \"fn\", \"tp\"]\n",
    "        df = pd.DataFrame(self.mus, columns=cols_name)\n",
    "        \n",
    "        print(self.sigmas, self.mus)\n",
    "        for (mu, sigma, col_name) in zip(self.mus, self.sigmas, cols_name):\n",
    "            df[col_name] = np.random.normal(mu, sigma, cm_samples*6)\n",
    "        df = df.round().astype(int)\n",
    "        greater_equal_than_zero = (df[df.columns] >= 0).all(axis=1)\n",
    "        mask_equal_n_size = df[cols_name].sum(axis=1) == n_matrix_size\n",
    "        print(df, self.mus, self.sigmas, n_matrix_size)\n",
    "        df = df[mask_equal_n_size & greater_equal_than_zero].head(cm_samples)\n",
    "        df[\"level\"] = self.level\n",
    "        return df.reset_index(drop=True)\n",
    "    \n",
    "        # parto de la matriz inicial\n",
    "        # tomo k errores\n",
    "        # redistribuyo uniformemente\n",
    "        \n",
    "        "
   ]
  },
  {
   "cell_type": "markdown",
   "metadata": {},
   "source": [
    "## Experiments"
   ]
  },
  {
   "cell_type": "markdown",
   "metadata": {},
   "source": [
    "### Error variability by size:\n",
    "\n",
    "1. Definir una serie de cantidad de datos y visualizar cómo cambia con"
   ]
  },
  {
   "cell_type": "code",
   "execution_count": 5,
   "metadata": {},
   "outputs": [],
   "source": [
    "def make_labels(labels_count_map):\n",
    "    labels = []\n",
    "    for label_name, n_cases in labels_count_map.items():\n",
    "        labels += [label_name + (\"_{}\".format(n)) for n in range(n_cases)]\n",
    "    return labels\n"
   ]
  },
  {
   "cell_type": "code",
   "execution_count": 22,
   "metadata": {},
   "outputs": [],
   "source": [
    "def set_experiment(confussion_matrix_models, labels, n_matrix_size=1, cm_samples=1, error_prop=0.25):\n",
    "    confussion_matrix_models = np.array(confussion_matrix_models)\n",
    "    confussion_matrix_models = confussion_matrix_models * n_matrix_size / 100\n",
    "    confussion_matrix_models = np.round(confussion_matrix_models).astype(int)\n",
    "    df = pd.DataFrame(confussion_matrix_models, columns=[\"tn\", \"fp\", \"fn\", \"tp\"])\n",
    "    df[\"labels\"] = labels\n",
    "    idx_repeated = df.index.repeat(cm_samples)\n",
    "    df = df.loc[idx_repeated]\n",
    "    df = df.reset_index(drop=True)\n",
    "    errors = n_matrix_size * error_prop\n",
    "    for i, row in df.iterrows():\n",
    "        permutation_remaining = errors\n",
    "        while permutation_remaining > 0:\n",
    "            col_from = np.random.randint(0,4)\n",
    "            if df.iloc[i,col_from] == 0: continue\n",
    "            else: \n",
    "                col_to = np.random.randint(0,4)\n",
    "                df.iloc[i,col_from] -= 1\n",
    "                df.iloc[i,col_to] += 1\n",
    "                permutation_remaining -= 1\n",
    "    return df\n",
    "    \n",
    "def _set_experiment(confussion_matrix_models, labels, n_matrix_size=1, cm_samples=1, error_prop=0.25):\n",
    "    df = pd.DataFrame(columns=[\"tn\", \"fp\", \"fn\", \"tp\", \"level\"])\n",
    "    confussion_matrix_models = np.array(confussion_matrix_models) * n_matrix_size/100\n",
    "    confussion_matrix_models = np.round(confussion_matrix_models)\n",
    "    \n",
    "    confussion_matrix_sigmas = error_prop * confussion_matrix_models\n",
    "    mask_zero = confussion_matrix_sigmas == 0\n",
    "    confussion_matrix_sigmas[mask_zero] = error_prop * n_matrix_size    \n",
    "    \n",
    "    for (cm, sigma_cm, label) in zip(confussion_matrix_models, confussion_matrix_sigmas, labels):\n",
    "        case_of_study_data = ConfusionMatrixType(cm, sigma_cm, label).to_df(cm_samples=cm_samples,\n",
    "                                                                            n_matrix_size = n_matrix_size\n",
    "                                                                            )\n",
    "        df = pd.concat([df,case_of_study_data], axis=0)\n",
    "    return df\n",
    "\n",
    "def add_metric_to(df, metric, average):\n",
    "    if not metric.startswith(\"matthew\"):\n",
    "        name_metric = metric + \"_\" + average\n",
    "    else: name_metric = metric\n",
    "    df[name_metric] = df.apply(lambda row: from_row_get_metric(row, metric=metric, m_average=average), axis=1)\n",
    "    "
   ]
  },
  {
   "cell_type": "code",
   "execution_count": 115,
   "metadata": {},
   "outputs": [],
   "source": [
    "import plotly.express as px\n",
    "\n",
    "def scatter_plotly(df, x, y, groupby, title = \"\"):\n",
    "    fig = px.scatter(df, x=x, y=y, color=groupby, symbol=groupby)\n",
    "    fig.update_layout(\n",
    "        margin=dict(l=20, r=20, t=40, b=20),\n",
    "    )\n",
    "    fig.update_layout(\n",
    "    legend_title=\"\",\n",
    "    title={\n",
    "        'text': title,\n",
    "        'y':0.98,\n",
    "        'x':0.42,\n",
    "        'yanchor': 'top'})\n",
    "    x_min = df[x].min()\n",
    "    fig.update_layout(yaxis_range=[0,1.1])\n",
    "    fig.update_layout(xaxis_range=[x_min,1.1])\n",
    "    fig.show()\n"
   ]
  },
  {
   "cell_type": "markdown",
   "metadata": {},
   "source": [
    "### Extrapolación \n",
    "\n",
    "Cada matrix de confusión representa la performance del modelo para un conjunto de experimentos llevados \n",
    "en el laboratorio para una amina en particular.\n",
    "\n",
    "Nosotres estamos confiando los resultados del trabajo en un subconjunto de datos para cada amina (~200 datos) \n",
    "\n",
    "Queremos saber si podemos extrapolar:\n",
    "    - en qué condiciones se puede entrenar para que extrapole\n",
    "    - si para algunas funciona mejor, por qué \n",
    "\n",
    "Supongamos un espacio de entrenamiento finito discretizable acotado:\n",
    "    - por conocimiento del problema (ej. concentración ácido < 5 M, temperatura < 130°)\n",
    "    - por metodología/intrumentación experimental\n",
    "\n",
    "Luego si tuviésemos el total de los datos posibles y corríamos el modelo, podríamos armar una matriz \n",
    "que indique fielmente cómo es la performance del modelo con respecto a esa amina. \n",
    "Sea esta la **matriz semilla**. \n",
    "\n",
    "Luego, al trabajar con un subconjunto de ese espacio total, la matriz experimental será un tanto \"similar\" \n",
    "a la matriz semilla (lo cual modelaremos mediante np.random).\n",
    "\n",
    "De modo que tendremos muchas posibles mediciones de performance del modelo. \n",
    "Alguna de ellas se corresponde con nuestros datos...solo una. \n",
    "¿Qué tanto podemos confiar en ella?\n",
    "\n",
    "OBS: Con muchos posible subconjuntos de datos del real, podemos tener la misma matriz. \n",
    "Cada matriz es una clase de equivalencia de los subconjuntos (x, y_true, y_pred).\n",
    "\n",
    "\n",
    "Supongamos que tenemos muchos datos hechos en el laboratorio para cada amina.\n",
    "En el caso ideal una cantidad significativa de experimentos nos habla de qué tan bien predice el modelo \n",
    "sobre datos de una amina en particular.\n",
    "Nosotres solo tendremos acceso a una cantidad n_amine_sample, es decir, nos quedamos con \n",
    "una perspectiva sesgada de cómo anda el modelo.\n",
    "    - Por ahí justo para esa cantidad de datos anda bien\n",
    "    - Por ahí justo para esa cantidad y datos experimentales anda mal\n",
    "    - Etc\n",
    "\n",
    "Objetivo Principla: \n",
    "    Queremos identificar para qué aminas el modelo predice adecuadamente.\n",
    "\n",
    "Para ello debemos:\n",
    "    - Saber qué tanto se parece esa __sample__ al comportamiento esperado.\n",
    "Queremos no equivocarnos al decir que el modelo no aprendió bien para una amina. Es decir, \n",
    "no queremos equivocarnos entre tipos dado que luego\n",
    "\n",
    "Para ello: \n",
    "    1. Definimos una performance real del modelo para cada amina tipo (aka matrices semilla)\n",
    "    2. Generamos matrices \n",
    "Diremos que el comportamiento esperado es  \n",
    "\n"
   ]
  },
  {
   "cell_type": "code",
   "execution_count": 71,
   "metadata": {},
   "outputs": [],
   "source": [
    "labels_count = {\n",
    "        \"NO_CRYSTAL\": 2,\n",
    "        \"FEW_CRYSTAL\": 3,\n",
    "        \"SOME_CRYSTAL\": 3\n",
    "}\n",
    "labels = make_labels(labels_count)\n",
    "labels = [\n",
    "    \"Cristal 0% - c/error\",\n",
    "    \"Cristal 0% - s/error\",\n",
    "    \"Cristal 2/10%\",\n",
    "    \"Cristal 5/10%\",\n",
    "    \"Cristal 8/10%\",\n",
    "    \"Cristal 5/30%\",\n",
    "    \"Cristal 15/30%\",\n",
    "    \"Cristal 25/30%\"\n",
    "]"
   ]
  },
  {
   "cell_type": "code",
   "execution_count": 24,
   "metadata": {},
   "outputs": [],
   "source": [
    "seed_confusion_matrix = [\n",
    "                        [60, 0, 40, 0], # dice que sí hay cristal pero no hay\n",
    "                       # [87, 0, 11, 0], \n",
    "                        [100, 0, 0, 0], # dice que no hay cuando no hay\n",
    "                       # [88, 0, 12, 0],\n",
    "                        [82, 8, 8, 2], # 10% cristal 2/10\n",
    "                        #[70, 8, 4, 0],\n",
    "                        [80, 5, 10, 5], #5/10\n",
    "                        [75, 2, 15, 8], # 8/10\n",
    "                        [55, 25, 15, 5], # desbalance de 30\n",
    "                        [50, 15, 20, 15],\n",
    "                        [45, 5, 25, 25]\n",
    "                        ]"
   ]
  },
  {
   "cell_type": "code",
   "execution_count": 104,
   "metadata": {},
   "outputs": [],
   "source": [
    "metrics_to_compute = {\n",
    "    \"precision\": {\"micro\", \"macro\"},\n",
    "    \"recall\": {\"micro\", \"macro\"},\n",
    "    \"f1\":{\"macro\", \"weighted\"},\n",
    "    \"matthew\": {\"score\"},\n",
    "}\n"
   ]
  },
  {
   "cell_type": "markdown",
   "metadata": {},
   "source": [
    "Nos gustaría poder identificar facilmente con qué aminas está funcionando y vale la pena seguir vs con cuales renunciar. Análisis visual de dos métricas para descartar cómo está performando el modelo con respecto a la realidad de la amina"
   ]
  },
  {
   "cell_type": "code",
   "execution_count": 105,
   "metadata": {},
   "outputs": [],
   "source": [
    "#n_samples = [10,20,40,60]\n",
    "dataset = set_experiment(seed_confusion_matrix, labels, n_matrix_size=50, \n",
    "                         cm_samples=50, error_prop=0.15)"
   ]
  },
  {
   "cell_type": "code",
   "execution_count": 106,
   "metadata": {},
   "outputs": [],
   "source": [
    "for metric in metrics_to_compute.keys():\n",
    "    for average in metrics_to_compute[metric]:\n",
    "        add_metric_to(dataset, metric, average)"
   ]
  },
  {
   "cell_type": "code",
   "execution_count": 111,
   "metadata": {},
   "outputs": [
    {
     "data": {
      "application/vnd.plotly.v1+json": {
       "config": {
        "plotlyServerURL": "https://plot.ly"
       },
       "data": [
        {
         "hovertemplate": "labels=Cristal 0% - c/error<br>precision_macro=%{x}<br>recall_macro=%{y}<extra></extra>",
         "legendgroup": "Cristal 0% - c/error",
         "marker": {
          "color": "#636efa",
          "symbol": "circle"
         },
         "mode": "markers",
         "name": "Cristal 0% - c/error",
         "orientation": "v",
         "showlegend": true,
         "type": "scatter",
         "x": [
          0.3333333333333333,
          0.5729166666666667,
          0.6524822695035462,
          0.5520833333333333,
          0.7959183673469388,
          0.6312056737588652,
          0.7755102040816326,
          0.8020833333333333,
          0.2857142857142857,
          0.31,
          0.30851063829787234,
          0.46453900709219853,
          0.6631205673758864,
          0.53125,
          0.7959183673469388,
          0.44021739130434784,
          0.3125,
          0.44326241134751776,
          0.5760869565217391,
          0.7959183673469388,
          0.7755102040816326,
          0.27,
          0.8061224489795918,
          0.45390070921985815,
          0.28125,
          0.29591836734693877,
          0.30851063829787234,
          0.3163265306122449,
          0.6418439716312057,
          0.5729166666666667,
          0.8020833333333333,
          0.5520833333333333,
          0.3020833333333333,
          0.8061224489795918,
          0.3,
          0.3229166666666667,
          0.3191489361702128,
          0.46453900709219853,
          0.45390070921985815,
          0.5625,
          0.53125,
          0.5416666666666667,
          0.7777777777777778,
          0.32,
          0.7653061224489797,
          0.8125,
          0.29,
          0.44021739130434784,
          0.29,
          0.29
         ],
         "xaxis": "x",
         "y": [
          0.42857142857142855,
          0.5121527777777778,
          0.5365025466893039,
          0.5083333333333333,
          0.5238095238095238,
          0.5303776683087028,
          0.5217391304347826,
          0.5476190476190477,
          0.4827586206896552,
          0.5,
          0.453125,
          0.4916666666666667,
          0.5399305555555556,
          0.5048701298701299,
          0.5238095238095238,
          0.4809027777777778,
          0.46875,
          0.487012987012987,
          0.5243055555555556,
          0.5238095238095238,
          0.5217391304347826,
          0.5,
          0.525,
          0.4893267651888341,
          0.46551724137931033,
          0.48333333333333334,
          0.453125,
          0.484375,
          0.5333333333333333,
          0.5121527777777778,
          0.5476190476190477,
          0.5083333333333333,
          0.46774193548387094,
          0.525,
          0.5,
          0.4696969696969697,
          0.45454545454545453,
          0.4916666666666667,
          0.4893267651888341,
          0.5101867572156197,
          0.5048701298701299,
          0.506568144499179,
          0.6,
          0.5,
          0.5208333333333334,
          0.55,
          0.5,
          0.4809027777777778,
          0.5,
          0.5
         ],
         "yaxis": "y"
        },
        {
         "hovertemplate": "labels=Cristal 0% - s/error<br>precision_macro=%{x}<br>recall_macro=%{y}<extra></extra>",
         "legendgroup": "Cristal 0% - s/error",
         "marker": {
          "color": "#EF553B",
          "symbol": "diamond"
         },
         "mode": "markers",
         "name": "Cristal 0% - s/error",
         "orientation": "v",
         "showlegend": true,
         "type": "scatter",
         "x": [
          1,
          0.47959183673469385,
          0.4897959183673469,
          0.7395833333333333,
          0.4895833333333333,
          0.9897959183673469,
          0.5,
          0.8333333333333333,
          0.5,
          1,
          0.5,
          0.5,
          0.5,
          0.6666666666666666,
          0.5,
          0.47,
          0.4897959183673469,
          0.9791666666666667,
          0.4897959183673469,
          0.9893617021276595,
          0.9897959183673469,
          1,
          0.9897959183673469,
          0.4897959183673469,
          0.49,
          0.75,
          0.4787234042553192,
          0.6453900709219859,
          0.48,
          0.9893617021276595,
          0.4897959183673469,
          0.7395833333333333,
          0.4897959183673469,
          0.5,
          0.49,
          0.9895833333333333,
          1,
          0.7395833333333333,
          0.9791666666666667,
          0.9897959183673469,
          0.5,
          1,
          0.47,
          0.47,
          0.49,
          1,
          0.9893617021276595,
          0.8333333333333333,
          1,
          0.7395833333333333
         ],
         "xaxis": "x",
         "y": [
          1,
          0.4895833333333333,
          0.4897959183673469,
          0.7395833333333333,
          0.47959183673469385,
          0.75,
          0.49,
          0.9895833333333333,
          0.48,
          1,
          0.49,
          0.49,
          0.49,
          0.9795918367346939,
          0.5,
          0.5,
          0.4897959183673469,
          0.75,
          0.4897959183673469,
          0.875,
          0.75,
          1,
          0.75,
          0.4897959183673469,
          0.5,
          0.9791666666666667,
          0.46875,
          0.6453900709219859,
          0.5,
          0.875,
          0.4897959183673469,
          0.7395833333333333,
          0.4897959183673469,
          0.49,
          0.5,
          0.8333333333333333,
          1,
          0.7395833333333333,
          0.75,
          0.75,
          0.5,
          1,
          0.5,
          0.5,
          0.5,
          1,
          0.875,
          0.9895833333333333,
          1,
          0.7395833333333333
         ],
         "yaxis": "y"
        },
        {
         "hovertemplate": "labels=Cristal 2/10%<br>precision_macro=%{x}<br>recall_macro=%{y}<extra></extra>",
         "legendgroup": "Cristal 2/10%",
         "marker": {
          "color": "#00cc96",
          "symbol": "square"
         },
         "mode": "markers",
         "name": "Cristal 2/10%",
         "orientation": "v",
         "showlegend": true,
         "type": "scatter",
         "x": [
          0.42857142857142855,
          0.6222222222222222,
          0.5265151515151515,
          0.425531914893617,
          0.41836734693877553,
          0.7444444444444445,
          0.4222222222222222,
          0.6212121212121212,
          0.5132890365448505,
          0.44565217391304346,
          0.4659090909090909,
          0.6098484848484849,
          0.6300813008130082,
          0.5597826086956521,
          0.5265151515151515,
          0.6333333333333333,
          0.5489130434782609,
          0.6000000000000001,
          0.5444444444444444,
          0.5016611295681063,
          0.45348837209302323,
          0.7666666666666666,
          0.6300813008130082,
          0.43478260869565216,
          0.5037878787878788,
          0.45,
          0.5815602836879432,
          0.45348837209302323,
          0.8111111111111111,
          0.6028368794326241,
          0.49003322259136217,
          0.4166666666666667,
          0.65625,
          0.6098484848484849,
          0.4270833333333333,
          0.43478260869565216,
          0.4270833333333333,
          0.4318181818181818,
          0.42045454545454547,
          0.4659090909090909,
          0.44565217391304346,
          0.43478260869565216,
          0.5773809523809523,
          0.6770833333333333,
          0.5333333333333333,
          0.425531914893617,
          0.5489130434782609,
          0.47674418604651164,
          0.4673913043478261,
          0.7588652482269503
         ],
         "xaxis": "x",
         "y": [
          0.4883720930232558,
          0.5745257452574526,
          0.5265151515151515,
          0.46511627906976744,
          0.4880952380952381,
          0.6636904761904762,
          0.4418604651162791,
          0.6212121212121212,
          0.5151515151515151,
          0.45555555555555555,
          0.43617021276595747,
          0.5963455149501661,
          0.6818181818181819,
          0.5365448504983389,
          0.5265151515151515,
          0.5892857142857143,
          0.5267857142857143,
          0.5524475524475525,
          0.5378787878787878,
          0.5016611295681063,
          0.42391304347826086,
          0.7272727272727273,
          0.6818181818181819,
          0.45454545454545453,
          0.5029761904761905,
          0.5,
          0.5311653116531165,
          0.42391304347826086,
          0.6535087719298246,
          0.5481727574750831,
          0.49107142857142855,
          0.47619047619047616,
          0.5375,
          0.5963455149501661,
          0.47674418604651164,
          0.45454545454545453,
          0.47674418604651164,
          0.4318181818181818,
          0.43023255813953487,
          0.43617021276595747,
          0.45555555555555555,
          0.45454545454545453,
          0.5984848484848485,
          0.5505952380952381,
          0.5249169435215947,
          0.46511627906976744,
          0.5267857142857143,
          0.4270833333333333,
          0.4574468085106383,
          0.5989159891598916
         ],
         "yaxis": "y"
        },
        {
         "hovertemplate": "labels=Cristal 5/10%<br>precision_macro=%{x}<br>recall_macro=%{y}<extra></extra>",
         "legendgroup": "Cristal 5/10%",
         "marker": {
          "color": "#ab63fa",
          "symbol": "x"
         },
         "mode": "markers",
         "name": "Cristal 5/10%",
         "orientation": "v",
         "showlegend": true,
         "type": "scatter",
         "x": [
          1,
          0.6666666666666666,
          0.8198198198198199,
          0.8432539682539683,
          0.9166666666666667,
          0.986842105263158,
          0.43902439024390244,
          0.7630718954248366,
          0.7357142857142858,
          0.7003968253968254,
          0.7579365079365079,
          0.7868421052631579,
          0.7792792792792793,
          0.9743589743589743,
          0.7696428571428571,
          0.8108974358974359,
          0.6736842105263158,
          0.5993589743589743,
          0.6865079365079365,
          0.7210526315789474,
          0.9007936507936507,
          0.5865384615384616,
          0.6396396396396397,
          0.6416666666666666,
          0.8063063063063063,
          0.8365384615384616,
          0.8333333333333333,
          0.7357142857142858,
          0.9375,
          0.8063063063063063,
          0.8321428571428571,
          0.7982142857142858,
          0.7579365079365079,
          0.8154761904761905,
          0.972972972972973,
          0.7222222222222222,
          0.7982142857142858,
          0.7868421052631579,
          0.972972972972973,
          0.9324324324324325,
          0.7003968253968254,
          0.7348484848484849,
          0.9146825396825397,
          0.5993589743589743,
          0.7243589743589743,
          0.6150793650793651,
          0.8154761904761905,
          0.9031531531531531,
          0.972972972972973,
          0.7718253968253967
         ],
         "xaxis": "x",
         "y": [
          1,
          0.925,
          0.8736842105263158,
          0.8896396396396397,
          0.986842105263158,
          0.9166666666666667,
          0.47368421052631576,
          0.8626126126126126,
          0.8473684210526315,
          0.8237179487179487,
          0.7927927927927928,
          0.8493589743589743,
          0.7214285714285714,
          0.8333333333333333,
          0.7696428571428571,
          0.6732142857142858,
          0.7115384615384616,
          0.6291666666666667,
          0.7473684210526316,
          0.6372549019607843,
          0.8607142857142858,
          0.5865384615384616,
          0.6987179487179487,
          0.6416666666666666,
          0.8063063063063063,
          0.7364864864864865,
          0.9594594594594594,
          0.8473684210526315,
          0.6875,
          0.8063063063063063,
          0.803921568627451,
          0.8761261261261262,
          0.7927927927927928,
          0.7839285714285714,
          0.875,
          0.9358974358974359,
          0.8761261261261262,
          0.8493589743589743,
          0.875,
          0.7727272727272727,
          0.8237179487179487,
          0.8490990990990992,
          0.9146825396825397,
          0.6291666666666667,
          0.7243589743589743,
          0.6858974358974359,
          0.7839285714285714,
          0.9031531531531531,
          0.875,
          0.8605263157894737
         ],
         "yaxis": "y"
        },
        {
         "hovertemplate": "labels=Cristal 8/10%<br>precision_macro=%{x}<br>recall_macro=%{y}<extra></extra>",
         "legendgroup": "Cristal 8/10%",
         "marker": {
          "color": "#FFA15A",
          "symbol": "cross"
         },
         "mode": "markers",
         "name": "Cristal 8/10%",
         "orientation": "v",
         "showlegend": true,
         "type": "scatter",
         "x": [
          0.7867132867132867,
          0.7023809523809523,
          0.8015873015873016,
          0.8142361111111112,
          0.7996323529411764,
          0.7765072765072765,
          0.7412280701754386,
          0.7301587301587301,
          0.7650727650727651,
          0.7733446519524618,
          0.7923351158645277,
          0.7920997920997921,
          0.7103174603174603,
          0.751984126984127,
          0.7224264705882353,
          0.8142857142857143,
          0.7775891341256367,
          0.8125,
          0.7162698412698413,
          0.7095238095238094,
          0.7130977130977132,
          0.8095238095238095,
          0.7849264705882353,
          0.7476190476190476,
          0.7371323529411764,
          0.719047619047619,
          0.7923351158645277,
          0.7077205882352942,
          0.6666666666666667,
          0.8321678321678322,
          0.7552083333333333,
          0.7904761904761904,
          0.6710526315789473,
          0.8809523809523809,
          0.7923351158645277,
          0.7389705882352942,
          0.7285714285714285,
          0.8925438596491229,
          0.7738095238095238,
          0.7389705882352942,
          0.7335115864527629,
          0.6619047619047619,
          0.7982456140350878,
          0.8107638888888888,
          0.6948529411764706,
          0.6607142857142857,
          0.682983682983683,
          0.7536764705882353,
          0.7183600713012478,
          0.7224264705882353
         ],
         "xaxis": "x",
         "y": [
          0.7440476190476191,
          0.7023809523809523,
          0.8015873015873016,
          0.8327205882352942,
          0.8234126984126984,
          0.7309027777777778,
          0.7095238095238094,
          0.7543859649122806,
          0.7428571428571429,
          0.8530701754385965,
          0.8014705882352942,
          0.7920997920997921,
          0.6889483065953654,
          0.751984126984127,
          0.7515592515592515,
          0.7864583333333333,
          0.7914438502673797,
          0.7380952380952381,
          0.7266112266112266,
          0.7412280701754386,
          0.6952380952380952,
          0.7780748663101604,
          0.7952380952380952,
          0.7389705882352942,
          0.7828947368421053,
          0.8422619047619048,
          0.8014705882352942,
          0.7242063492063493,
          0.6666666666666667,
          0.7714285714285714,
          0.7620320855614974,
          0.817047817047817,
          0.6710526315789473,
          0.8333333333333333,
          0.8014705882352942,
          0.7476190476190476,
          0.7380952380952381,
          0.8290441176470589,
          0.7536764705882353,
          0.7476190476190476,
          0.7599206349206349,
          0.6864035087719298,
          0.730899830220713,
          0.8039049235993209,
          0.6840277777777778,
          0.6443850267379679,
          0.6632016632016633,
          0.7738095238095238,
          0.7333333333333334,
          0.7515592515592515
         ],
         "yaxis": "y"
        },
        {
         "hovertemplate": "labels=Cristal 5/30%<br>precision_macro=%{x}<br>recall_macro=%{y}<extra></extra>",
         "legendgroup": "Cristal 5/30%",
         "marker": {
          "color": "#19d3f3",
          "symbol": "circle"
         },
         "mode": "markers",
         "name": "Cristal 5/30%",
         "orientation": "v",
         "showlegend": true,
         "type": "scatter",
         "x": [
          0.2840909090909091,
          0.3111111111111111,
          0.35317460317460314,
          0.3293650793650794,
          0.3648255813953488,
          0.2826086956521739,
          0.3782467532467533,
          0.29069767441860467,
          0.29545454545454547,
          0.2619047619047619,
          0.2926829268292683,
          0.3804878048780488,
          0.3670731707317073,
          0.3412698412698413,
          0.3048780487804878,
          0.376453488372093,
          0.3181818181818182,
          0.34156976744186046,
          0.4383116883116883,
          0.29545454545454547,
          0.4311740890688259,
          0.3668831168831169,
          0.34545454545454546,
          0.34545454545454546,
          0.3668831168831169,
          0.3909090909090909,
          0.2857142857142857,
          0.33279220779220775,
          0.3804878048780488,
          0.3293650793650794,
          0.34268292682926826,
          0.3048780487804878,
          0.400974025974026,
          0.29069767441860467,
          0.3926829268292683,
          0.4383116883116883,
          0.4122340425531915,
          0.35317460317460314,
          0.3909090909090909,
          0.2777777777777778,
          0.35319767441860467,
          0.2558139534883721,
          0.5406976744186047,
          0.2976190476190476,
          0.3068181818181818,
          0.29069767441860467,
          0.30434782608695654,
          0.4383116883116883,
          0.3804878048780488,
          0.4113636363636364
         ],
         "xaxis": "x",
         "y": [
          0.390625,
          0.4117647058823529,
          0.4065656565656566,
          0.3959677419354839,
          0.4217171717171717,
          0.41935483870967744,
          0.4368686868686869,
          0.3787878787878788,
          0.3571428571428571,
          0.3548387096774194,
          0.35294117647058826,
          0.42096774193548386,
          0.40267857142857144,
          0.4013157894736842,
          0.35714285714285715,
          0.4264705882352941,
          0.4,
          0.4120967741935484,
          0.4693548387096774,
          0.3939393939393939,
          0.44117647058823534,
          0.4325657894736842,
          0.3823529411764706,
          0.3823529411764706,
          0.4325657894736842,
          0.4191919191919192,
          0.36363636363636365,
          0.41927899686520376,
          0.42096774193548386,
          0.3959677419354839,
          0.39141414141414144,
          0.35714285714285715,
          0.4455357142857143,
          0.3787878787878788,
          0.4276315789473684,
          0.4693548387096774,
          0.4738095238095238,
          0.4065656565656566,
          0.4191919191919192,
          0.4032258064516129,
          0.4169407894736842,
          0.36666666666666664,
          0.5219435736677116,
          0.36764705882352944,
          0.39705882352941174,
          0.3787878787878788,
          0.42424242424242425,
          0.4693548387096774,
          0.42096774193548386,
          0.4380952380952381
         ],
         "yaxis": "y"
        },
        {
         "hovertemplate": "labels=Cristal 15/30%<br>precision_macro=%{x}<br>recall_macro=%{y}<extra></extra>",
         "legendgroup": "Cristal 15/30%",
         "marker": {
          "color": "#FF6692",
          "symbol": "diamond"
         },
         "mode": "markers",
         "name": "Cristal 15/30%",
         "orientation": "v",
         "showlegend": true,
         "type": "scatter",
         "x": [
          0.47023809523809523,
          0.4015151515151515,
          0.5111111111111111,
          0.6188811188811189,
          0.5398671096345515,
          0.37202380952380953,
          0.48006644518272423,
          0.4015151515151515,
          0.5222222222222223,
          0.508130081300813,
          0.5909090909090908,
          0.4734848484848485,
          0.5636856368563685,
          0.5875,
          0.4734848484848485,
          0.5714285714285714,
          0.313953488372093,
          0.48006644518272423,
          0.4734848484848485,
          0.5,
          0.5089285714285714,
          0.4159891598915989,
          0.6628787878787878,
          0.5444444444444445,
          0.5089285714285714,
          0.3409090909090909,
          0.5652173913043479,
          0.41287878787878785,
          0.4583333333333333,
          0.48484848484848486,
          0.5392953929539295,
          0.483739837398374,
          0.5166112956810631,
          0.5,
          0.4281842818428184,
          0.5282392026578073,
          0.33695652173913043,
          0.52710027100271,
          0.40863787375415284,
          0.7462121212121212,
          0.5514950166112956,
          0.43333333333333335,
          0.6125,
          0.4568106312292359,
          0.3181818181818182,
          0.4962121212121212,
          0.6827242524916943,
          0.55,
          0.41287878787878785,
          0.5833333333333333
         ],
         "xaxis": "x",
         "y": [
          0.48095238095238096,
          0.4536541889483066,
          0.5042444821731749,
          0.5885416666666666,
          0.5208333333333334,
          0.4233511586452763,
          0.4889705882352941,
          0.4536541889483066,
          0.5086805555555556,
          0.5055147058823529,
          0.5427807486631016,
          0.48811544991511036,
          0.5418894830659536,
          0.5607638888888888,
          0.48811544991511036,
          0.5407470288624787,
          0.39705882352941174,
          0.4889705882352941,
          0.48811544991511036,
          0.5,
          0.5052083333333334,
          0.4461805555555556,
          0.5730050933786077,
          0.5183823529411764,
          0.5052083333333334,
          0.4166666666666667,
          0.5203735144312394,
          0.4577205882352941,
          0.4742647058823529,
          0.4930555555555556,
          0.5246179966044142,
          0.4895833333333333,
          0.5083333333333333,
          0.5,
          0.45276292335115864,
          0.5144312393887945,
          0.44285714285714284,
          0.5166666666666667,
          0.44761904761904764,
          0.6083333333333334,
          0.5276292335115864,
          0.4724264705882353,
          0.5738916256157636,
          0.4774305555555556,
          0.4117647058823529,
          0.4982174688057041,
          0.5916666666666667,
          0.5367647058823529,
          0.4577205882352941,
          0.5486111111111112
         ],
         "yaxis": "y"
        },
        {
         "hovertemplate": "labels=Cristal 25/30%<br>precision_macro=%{x}<br>recall_macro=%{y}<extra></extra>",
         "legendgroup": "Cristal 25/30%",
         "marker": {
          "color": "#B6E880",
          "symbol": "square"
         },
         "mode": "markers",
         "name": "Cristal 25/30%",
         "orientation": "v",
         "showlegend": true,
         "type": "scatter",
         "x": [
          0.8173076923076923,
          0.6681818181818182,
          0.6506410256410257,
          0.714574898785425,
          0.7023809523809523,
          0.8571428571428572,
          0.7151785714285714,
          0.6839285714285714,
          0.7464285714285714,
          0.6277777777777778,
          0.7151785714285714,
          0.6761133603238867,
          0.7125,
          0.6982142857142857,
          0.7205882352941176,
          0.6346153846153846,
          0.7133204633204633,
          0.6497975708502024,
          0.7084942084942085,
          0.6613372093023255,
          0.717948717948718,
          0.7023809523809523,
          0.625,
          0.48636363636363633,
          0.6972222222222222,
          0.6629554655870445,
          0.6013513513513513,
          0.5735294117647058,
          0.7386363636363636,
          0.828048780487805,
          0.6944444444444444,
          0.6061776061776062,
          0.6727799227799228,
          0.6839285714285714,
          0.6634615384615385,
          0.6923076923076923,
          0.7056818181818182,
          0.7884615384615385,
          0.6217948717948718,
          0.6158536585365854,
          0.6642857142857144,
          0.6283783783783784,
          0.6587301587301587,
          0.6611111111111111,
          0.7530364372469636,
          0.714574898785425,
          0.714574898785425,
          0.6666666666666666,
          0.6376518218623481,
          0.5944444444444444
         ],
         "xaxis": "x",
         "y": [
          0.7327586206896552,
          0.6217105263157895,
          0.6186868686868687,
          0.6743421052631579,
          0.6323529411764706,
          0.7142857142857143,
          0.6943548387096774,
          0.669407894736842,
          0.719047619047619,
          0.6161616161616161,
          0.6943548387096774,
          0.6464646464646464,
          0.7058823529411764,
          0.6868686868686869,
          0.7146464646464648,
          0.6166666666666667,
          0.6911764705882353,
          0.6193548387096774,
          0.6714285714285715,
          0.5934343434343434,
          0.6764705882352942,
          0.6323529411764706,
          0.5943548387096774,
          0.48888888888888893,
          0.715587044534413,
          0.6324013157894737,
          0.5883838383838383,
          0.5758928571428572,
          0.6767676767676767,
          0.7212171052631579,
          0.6693548387096775,
          0.6061776061776062,
          0.6443548387096775,
          0.669407894736842,
          0.6323529411764706,
          0.6480263157894737,
          0.6616071428571428,
          0.717741935483871,
          0.6017857142857144,
          0.5848214285714286,
          0.6776061776061776,
          0.61875,
          0.611111111111111,
          0.6430921052631579,
          0.7016129032258065,
          0.6743421052631579,
          0.6743421052631579,
          0.6238095238095238,
          0.6176470588235294,
          0.588235294117647
         ],
         "yaxis": "y"
        }
       ],
       "layout": {
        "legend": {
         "title": {
          "text": ""
         },
         "tracegroupgap": 0
        },
        "margin": {
         "b": 20,
         "l": 20,
         "r": 20,
         "t": 40
        },
        "template": {
         "data": {
          "bar": [
           {
            "error_x": {
             "color": "#2a3f5f"
            },
            "error_y": {
             "color": "#2a3f5f"
            },
            "marker": {
             "line": {
              "color": "#E5ECF6",
              "width": 0.5
             },
             "pattern": {
              "fillmode": "overlay",
              "size": 10,
              "solidity": 0.2
             }
            },
            "type": "bar"
           }
          ],
          "barpolar": [
           {
            "marker": {
             "line": {
              "color": "#E5ECF6",
              "width": 0.5
             },
             "pattern": {
              "fillmode": "overlay",
              "size": 10,
              "solidity": 0.2
             }
            },
            "type": "barpolar"
           }
          ],
          "carpet": [
           {
            "aaxis": {
             "endlinecolor": "#2a3f5f",
             "gridcolor": "white",
             "linecolor": "white",
             "minorgridcolor": "white",
             "startlinecolor": "#2a3f5f"
            },
            "baxis": {
             "endlinecolor": "#2a3f5f",
             "gridcolor": "white",
             "linecolor": "white",
             "minorgridcolor": "white",
             "startlinecolor": "#2a3f5f"
            },
            "type": "carpet"
           }
          ],
          "choropleth": [
           {
            "colorbar": {
             "outlinewidth": 0,
             "ticks": ""
            },
            "type": "choropleth"
           }
          ],
          "contour": [
           {
            "colorbar": {
             "outlinewidth": 0,
             "ticks": ""
            },
            "colorscale": [
             [
              0,
              "#0d0887"
             ],
             [
              0.1111111111111111,
              "#46039f"
             ],
             [
              0.2222222222222222,
              "#7201a8"
             ],
             [
              0.3333333333333333,
              "#9c179e"
             ],
             [
              0.4444444444444444,
              "#bd3786"
             ],
             [
              0.5555555555555556,
              "#d8576b"
             ],
             [
              0.6666666666666666,
              "#ed7953"
             ],
             [
              0.7777777777777778,
              "#fb9f3a"
             ],
             [
              0.8888888888888888,
              "#fdca26"
             ],
             [
              1,
              "#f0f921"
             ]
            ],
            "type": "contour"
           }
          ],
          "contourcarpet": [
           {
            "colorbar": {
             "outlinewidth": 0,
             "ticks": ""
            },
            "type": "contourcarpet"
           }
          ],
          "heatmap": [
           {
            "colorbar": {
             "outlinewidth": 0,
             "ticks": ""
            },
            "colorscale": [
             [
              0,
              "#0d0887"
             ],
             [
              0.1111111111111111,
              "#46039f"
             ],
             [
              0.2222222222222222,
              "#7201a8"
             ],
             [
              0.3333333333333333,
              "#9c179e"
             ],
             [
              0.4444444444444444,
              "#bd3786"
             ],
             [
              0.5555555555555556,
              "#d8576b"
             ],
             [
              0.6666666666666666,
              "#ed7953"
             ],
             [
              0.7777777777777778,
              "#fb9f3a"
             ],
             [
              0.8888888888888888,
              "#fdca26"
             ],
             [
              1,
              "#f0f921"
             ]
            ],
            "type": "heatmap"
           }
          ],
          "heatmapgl": [
           {
            "colorbar": {
             "outlinewidth": 0,
             "ticks": ""
            },
            "colorscale": [
             [
              0,
              "#0d0887"
             ],
             [
              0.1111111111111111,
              "#46039f"
             ],
             [
              0.2222222222222222,
              "#7201a8"
             ],
             [
              0.3333333333333333,
              "#9c179e"
             ],
             [
              0.4444444444444444,
              "#bd3786"
             ],
             [
              0.5555555555555556,
              "#d8576b"
             ],
             [
              0.6666666666666666,
              "#ed7953"
             ],
             [
              0.7777777777777778,
              "#fb9f3a"
             ],
             [
              0.8888888888888888,
              "#fdca26"
             ],
             [
              1,
              "#f0f921"
             ]
            ],
            "type": "heatmapgl"
           }
          ],
          "histogram": [
           {
            "marker": {
             "pattern": {
              "fillmode": "overlay",
              "size": 10,
              "solidity": 0.2
             }
            },
            "type": "histogram"
           }
          ],
          "histogram2d": [
           {
            "colorbar": {
             "outlinewidth": 0,
             "ticks": ""
            },
            "colorscale": [
             [
              0,
              "#0d0887"
             ],
             [
              0.1111111111111111,
              "#46039f"
             ],
             [
              0.2222222222222222,
              "#7201a8"
             ],
             [
              0.3333333333333333,
              "#9c179e"
             ],
             [
              0.4444444444444444,
              "#bd3786"
             ],
             [
              0.5555555555555556,
              "#d8576b"
             ],
             [
              0.6666666666666666,
              "#ed7953"
             ],
             [
              0.7777777777777778,
              "#fb9f3a"
             ],
             [
              0.8888888888888888,
              "#fdca26"
             ],
             [
              1,
              "#f0f921"
             ]
            ],
            "type": "histogram2d"
           }
          ],
          "histogram2dcontour": [
           {
            "colorbar": {
             "outlinewidth": 0,
             "ticks": ""
            },
            "colorscale": [
             [
              0,
              "#0d0887"
             ],
             [
              0.1111111111111111,
              "#46039f"
             ],
             [
              0.2222222222222222,
              "#7201a8"
             ],
             [
              0.3333333333333333,
              "#9c179e"
             ],
             [
              0.4444444444444444,
              "#bd3786"
             ],
             [
              0.5555555555555556,
              "#d8576b"
             ],
             [
              0.6666666666666666,
              "#ed7953"
             ],
             [
              0.7777777777777778,
              "#fb9f3a"
             ],
             [
              0.8888888888888888,
              "#fdca26"
             ],
             [
              1,
              "#f0f921"
             ]
            ],
            "type": "histogram2dcontour"
           }
          ],
          "mesh3d": [
           {
            "colorbar": {
             "outlinewidth": 0,
             "ticks": ""
            },
            "type": "mesh3d"
           }
          ],
          "parcoords": [
           {
            "line": {
             "colorbar": {
              "outlinewidth": 0,
              "ticks": ""
             }
            },
            "type": "parcoords"
           }
          ],
          "pie": [
           {
            "automargin": true,
            "type": "pie"
           }
          ],
          "scatter": [
           {
            "marker": {
             "colorbar": {
              "outlinewidth": 0,
              "ticks": ""
             }
            },
            "type": "scatter"
           }
          ],
          "scatter3d": [
           {
            "line": {
             "colorbar": {
              "outlinewidth": 0,
              "ticks": ""
             }
            },
            "marker": {
             "colorbar": {
              "outlinewidth": 0,
              "ticks": ""
             }
            },
            "type": "scatter3d"
           }
          ],
          "scattercarpet": [
           {
            "marker": {
             "colorbar": {
              "outlinewidth": 0,
              "ticks": ""
             }
            },
            "type": "scattercarpet"
           }
          ],
          "scattergeo": [
           {
            "marker": {
             "colorbar": {
              "outlinewidth": 0,
              "ticks": ""
             }
            },
            "type": "scattergeo"
           }
          ],
          "scattergl": [
           {
            "marker": {
             "colorbar": {
              "outlinewidth": 0,
              "ticks": ""
             }
            },
            "type": "scattergl"
           }
          ],
          "scattermapbox": [
           {
            "marker": {
             "colorbar": {
              "outlinewidth": 0,
              "ticks": ""
             }
            },
            "type": "scattermapbox"
           }
          ],
          "scatterpolar": [
           {
            "marker": {
             "colorbar": {
              "outlinewidth": 0,
              "ticks": ""
             }
            },
            "type": "scatterpolar"
           }
          ],
          "scatterpolargl": [
           {
            "marker": {
             "colorbar": {
              "outlinewidth": 0,
              "ticks": ""
             }
            },
            "type": "scatterpolargl"
           }
          ],
          "scatterternary": [
           {
            "marker": {
             "colorbar": {
              "outlinewidth": 0,
              "ticks": ""
             }
            },
            "type": "scatterternary"
           }
          ],
          "surface": [
           {
            "colorbar": {
             "outlinewidth": 0,
             "ticks": ""
            },
            "colorscale": [
             [
              0,
              "#0d0887"
             ],
             [
              0.1111111111111111,
              "#46039f"
             ],
             [
              0.2222222222222222,
              "#7201a8"
             ],
             [
              0.3333333333333333,
              "#9c179e"
             ],
             [
              0.4444444444444444,
              "#bd3786"
             ],
             [
              0.5555555555555556,
              "#d8576b"
             ],
             [
              0.6666666666666666,
              "#ed7953"
             ],
             [
              0.7777777777777778,
              "#fb9f3a"
             ],
             [
              0.8888888888888888,
              "#fdca26"
             ],
             [
              1,
              "#f0f921"
             ]
            ],
            "type": "surface"
           }
          ],
          "table": [
           {
            "cells": {
             "fill": {
              "color": "#EBF0F8"
             },
             "line": {
              "color": "white"
             }
            },
            "header": {
             "fill": {
              "color": "#C8D4E3"
             },
             "line": {
              "color": "white"
             }
            },
            "type": "table"
           }
          ]
         },
         "layout": {
          "annotationdefaults": {
           "arrowcolor": "#2a3f5f",
           "arrowhead": 0,
           "arrowwidth": 1
          },
          "autotypenumbers": "strict",
          "coloraxis": {
           "colorbar": {
            "outlinewidth": 0,
            "ticks": ""
           }
          },
          "colorscale": {
           "diverging": [
            [
             0,
             "#8e0152"
            ],
            [
             0.1,
             "#c51b7d"
            ],
            [
             0.2,
             "#de77ae"
            ],
            [
             0.3,
             "#f1b6da"
            ],
            [
             0.4,
             "#fde0ef"
            ],
            [
             0.5,
             "#f7f7f7"
            ],
            [
             0.6,
             "#e6f5d0"
            ],
            [
             0.7,
             "#b8e186"
            ],
            [
             0.8,
             "#7fbc41"
            ],
            [
             0.9,
             "#4d9221"
            ],
            [
             1,
             "#276419"
            ]
           ],
           "sequential": [
            [
             0,
             "#0d0887"
            ],
            [
             0.1111111111111111,
             "#46039f"
            ],
            [
             0.2222222222222222,
             "#7201a8"
            ],
            [
             0.3333333333333333,
             "#9c179e"
            ],
            [
             0.4444444444444444,
             "#bd3786"
            ],
            [
             0.5555555555555556,
             "#d8576b"
            ],
            [
             0.6666666666666666,
             "#ed7953"
            ],
            [
             0.7777777777777778,
             "#fb9f3a"
            ],
            [
             0.8888888888888888,
             "#fdca26"
            ],
            [
             1,
             "#f0f921"
            ]
           ],
           "sequentialminus": [
            [
             0,
             "#0d0887"
            ],
            [
             0.1111111111111111,
             "#46039f"
            ],
            [
             0.2222222222222222,
             "#7201a8"
            ],
            [
             0.3333333333333333,
             "#9c179e"
            ],
            [
             0.4444444444444444,
             "#bd3786"
            ],
            [
             0.5555555555555556,
             "#d8576b"
            ],
            [
             0.6666666666666666,
             "#ed7953"
            ],
            [
             0.7777777777777778,
             "#fb9f3a"
            ],
            [
             0.8888888888888888,
             "#fdca26"
            ],
            [
             1,
             "#f0f921"
            ]
           ]
          },
          "colorway": [
           "#636efa",
           "#EF553B",
           "#00cc96",
           "#ab63fa",
           "#FFA15A",
           "#19d3f3",
           "#FF6692",
           "#B6E880",
           "#FF97FF",
           "#FECB52"
          ],
          "font": {
           "color": "#2a3f5f"
          },
          "geo": {
           "bgcolor": "white",
           "lakecolor": "white",
           "landcolor": "#E5ECF6",
           "showlakes": true,
           "showland": true,
           "subunitcolor": "white"
          },
          "hoverlabel": {
           "align": "left"
          },
          "hovermode": "closest",
          "mapbox": {
           "style": "light"
          },
          "paper_bgcolor": "white",
          "plot_bgcolor": "#E5ECF6",
          "polar": {
           "angularaxis": {
            "gridcolor": "white",
            "linecolor": "white",
            "ticks": ""
           },
           "bgcolor": "#E5ECF6",
           "radialaxis": {
            "gridcolor": "white",
            "linecolor": "white",
            "ticks": ""
           }
          },
          "scene": {
           "xaxis": {
            "backgroundcolor": "#E5ECF6",
            "gridcolor": "white",
            "gridwidth": 2,
            "linecolor": "white",
            "showbackground": true,
            "ticks": "",
            "zerolinecolor": "white"
           },
           "yaxis": {
            "backgroundcolor": "#E5ECF6",
            "gridcolor": "white",
            "gridwidth": 2,
            "linecolor": "white",
            "showbackground": true,
            "ticks": "",
            "zerolinecolor": "white"
           },
           "zaxis": {
            "backgroundcolor": "#E5ECF6",
            "gridcolor": "white",
            "gridwidth": 2,
            "linecolor": "white",
            "showbackground": true,
            "ticks": "",
            "zerolinecolor": "white"
           }
          },
          "shapedefaults": {
           "line": {
            "color": "#2a3f5f"
           }
          },
          "ternary": {
           "aaxis": {
            "gridcolor": "white",
            "linecolor": "white",
            "ticks": ""
           },
           "baxis": {
            "gridcolor": "white",
            "linecolor": "white",
            "ticks": ""
           },
           "bgcolor": "#E5ECF6",
           "caxis": {
            "gridcolor": "white",
            "linecolor": "white",
            "ticks": ""
           }
          },
          "title": {
           "x": 0.05
          },
          "xaxis": {
           "automargin": true,
           "gridcolor": "white",
           "linecolor": "white",
           "ticks": "",
           "title": {
            "standoff": 15
           },
           "zerolinecolor": "white",
           "zerolinewidth": 2
          },
          "yaxis": {
           "automargin": true,
           "gridcolor": "white",
           "linecolor": "white",
           "ticks": "",
           "title": {
            "standoff": 15
           },
           "zerolinecolor": "white",
           "zerolinewidth": 2
          }
         }
        },
        "xaxis": {
         "anchor": "y",
         "domain": [
          0,
          1
         ],
         "range": [
          0.2558139534883721,
          1.1
         ],
         "title": {
          "text": "precision_macro"
         }
        },
        "yaxis": {
         "anchor": "x",
         "domain": [
          0,
          1
         ],
         "range": [
          0,
          1.1
         ],
         "title": {
          "text": "recall_macro"
         }
        }
       }
      }
     },
     "metadata": {},
     "output_type": "display_data"
    },
    {
     "data": {
      "application/vnd.plotly.v1+json": {
       "config": {
        "plotlyServerURL": "https://plot.ly"
       },
       "data": [
        {
         "hovertemplate": "labels=Cristal 0% - c/error<br>precision_macro=%{x}<br>recall_micro=%{y}<extra></extra>",
         "legendgroup": "Cristal 0% - c/error",
         "marker": {
          "color": "#636efa",
          "symbol": "circle"
         },
         "mode": "markers",
         "name": "Cristal 0% - c/error",
         "orientation": "v",
         "showlegend": true,
         "type": "scatter",
         "x": [
          0.3333333333333333,
          0.5729166666666667,
          0.6524822695035462,
          0.5520833333333333,
          0.7959183673469388,
          0.6312056737588652,
          0.7755102040816326,
          0.8020833333333333,
          0.2857142857142857,
          0.31,
          0.30851063829787234,
          0.46453900709219853,
          0.6631205673758864,
          0.53125,
          0.7959183673469388,
          0.44021739130434784,
          0.3125,
          0.44326241134751776,
          0.5760869565217391,
          0.7959183673469388,
          0.7755102040816326,
          0.27,
          0.8061224489795918,
          0.45390070921985815,
          0.28125,
          0.29591836734693877,
          0.30851063829787234,
          0.3163265306122449,
          0.6418439716312057,
          0.5729166666666667,
          0.8020833333333333,
          0.5520833333333333,
          0.3020833333333333,
          0.8061224489795918,
          0.3,
          0.3229166666666667,
          0.3191489361702128,
          0.46453900709219853,
          0.45390070921985815,
          0.5625,
          0.53125,
          0.5416666666666667,
          0.7777777777777778,
          0.32,
          0.7653061224489797,
          0.8125,
          0.29,
          0.44021739130434784,
          0.29,
          0.29
         ],
         "xaxis": "x",
         "y": [
          0.6,
          0.64,
          0.64,
          0.6,
          0.6,
          0.6,
          0.56,
          0.62,
          0.56,
          0.62,
          0.58,
          0.58,
          0.66,
          0.56,
          0.6,
          0.6,
          0.6,
          0.54,
          0.64,
          0.6,
          0.56,
          0.54,
          0.62,
          0.56,
          0.54,
          0.58,
          0.58,
          0.62,
          0.62,
          0.64,
          0.62,
          0.6,
          0.58,
          0.62,
          0.6,
          0.62,
          0.6,
          0.58,
          0.56,
          0.62,
          0.56,
          0.58,
          0.6,
          0.64,
          0.54,
          0.64,
          0.58,
          0.6,
          0.58,
          0.58
         ],
         "yaxis": "y"
        },
        {
         "hovertemplate": "labels=Cristal 0% - s/error<br>precision_macro=%{x}<br>recall_micro=%{y}<extra></extra>",
         "legendgroup": "Cristal 0% - s/error",
         "marker": {
          "color": "#EF553B",
          "symbol": "diamond"
         },
         "mode": "markers",
         "name": "Cristal 0% - s/error",
         "orientation": "v",
         "showlegend": true,
         "type": "scatter",
         "x": [
          1,
          0.47959183673469385,
          0.4897959183673469,
          0.7395833333333333,
          0.4895833333333333,
          0.9897959183673469,
          0.5,
          0.8333333333333333,
          0.5,
          1,
          0.5,
          0.5,
          0.5,
          0.6666666666666666,
          0.5,
          0.47,
          0.4897959183673469,
          0.9791666666666667,
          0.4897959183673469,
          0.9893617021276595,
          0.9897959183673469,
          1,
          0.9897959183673469,
          0.4897959183673469,
          0.49,
          0.75,
          0.4787234042553192,
          0.6453900709219859,
          0.48,
          0.9893617021276595,
          0.4897959183673469,
          0.7395833333333333,
          0.4897959183673469,
          0.5,
          0.49,
          0.9895833333333333,
          1,
          0.7395833333333333,
          0.9791666666666667,
          0.9897959183673469,
          0.5,
          1,
          0.47,
          0.47,
          0.49,
          1,
          0.9893617021276595,
          0.8333333333333333,
          1,
          0.7395833333333333
         ],
         "xaxis": "x",
         "y": [
          1,
          0.94,
          0.96,
          0.96,
          0.94,
          0.98,
          0.98,
          0.98,
          0.96,
          1,
          0.98,
          0.98,
          0.98,
          0.96,
          1,
          0.94,
          0.96,
          0.96,
          0.96,
          0.98,
          0.98,
          1,
          0.98,
          0.96,
          0.98,
          0.96,
          0.9,
          0.92,
          0.96,
          0.98,
          0.96,
          0.96,
          0.96,
          0.98,
          0.98,
          0.98,
          1,
          0.96,
          0.96,
          0.98,
          1,
          1,
          0.94,
          0.94,
          0.98,
          1,
          0.98,
          0.98,
          1,
          0.96
         ],
         "yaxis": "y"
        },
        {
         "hovertemplate": "labels=Cristal 2/10%<br>precision_macro=%{x}<br>recall_micro=%{y}<extra></extra>",
         "legendgroup": "Cristal 2/10%",
         "marker": {
          "color": "#00cc96",
          "symbol": "square"
         },
         "mode": "markers",
         "name": "Cristal 2/10%",
         "orientation": "v",
         "showlegend": true,
         "type": "scatter",
         "x": [
          0.42857142857142855,
          0.6222222222222222,
          0.5265151515151515,
          0.425531914893617,
          0.41836734693877553,
          0.7444444444444445,
          0.4222222222222222,
          0.6212121212121212,
          0.5132890365448505,
          0.44565217391304346,
          0.4659090909090909,
          0.6098484848484849,
          0.6300813008130082,
          0.5597826086956521,
          0.5265151515151515,
          0.6333333333333333,
          0.5489130434782609,
          0.6000000000000001,
          0.5444444444444444,
          0.5016611295681063,
          0.45348837209302323,
          0.7666666666666666,
          0.6300813008130082,
          0.43478260869565216,
          0.5037878787878788,
          0.45,
          0.5815602836879432,
          0.45348837209302323,
          0.8111111111111111,
          0.6028368794326241,
          0.49003322259136217,
          0.4166666666666667,
          0.65625,
          0.6098484848484849,
          0.4270833333333333,
          0.43478260869565216,
          0.4270833333333333,
          0.4318181818181818,
          0.42045454545454547,
          0.4659090909090909,
          0.44565217391304346,
          0.43478260869565216,
          0.5773809523809523,
          0.6770833333333333,
          0.5333333333333333,
          0.425531914893617,
          0.5489130434782609,
          0.47674418604651164,
          0.4673913043478261,
          0.7588652482269503
         ],
         "xaxis": "x",
         "y": [
          0.84,
          0.8,
          0.8,
          0.8,
          0.82,
          0.86,
          0.76,
          0.84,
          0.78,
          0.82,
          0.82,
          0.82,
          0.82,
          0.82,
          0.8,
          0.82,
          0.8,
          0.76,
          0.82,
          0.76,
          0.78,
          0.9,
          0.82,
          0.8,
          0.76,
          0.9,
          0.8,
          0.78,
          0.82,
          0.84,
          0.74,
          0.8,
          0.8,
          0.82,
          0.82,
          0.8,
          0.82,
          0.76,
          0.74,
          0.82,
          0.82,
          0.8,
          0.8,
          0.84,
          0.8,
          0.8,
          0.8,
          0.82,
          0.86,
          0.84
         ],
         "yaxis": "y"
        },
        {
         "hovertemplate": "labels=Cristal 5/10%<br>precision_macro=%{x}<br>recall_micro=%{y}<extra></extra>",
         "legendgroup": "Cristal 5/10%",
         "marker": {
          "color": "#ab63fa",
          "symbol": "x"
         },
         "mode": "markers",
         "name": "Cristal 5/10%",
         "orientation": "v",
         "showlegend": true,
         "type": "scatter",
         "x": [
          1,
          0.6666666666666666,
          0.8198198198198199,
          0.8432539682539683,
          0.9166666666666667,
          0.986842105263158,
          0.43902439024390244,
          0.7630718954248366,
          0.7357142857142858,
          0.7003968253968254,
          0.7579365079365079,
          0.7868421052631579,
          0.7792792792792793,
          0.9743589743589743,
          0.7696428571428571,
          0.8108974358974359,
          0.6736842105263158,
          0.5993589743589743,
          0.6865079365079365,
          0.7210526315789474,
          0.9007936507936507,
          0.5865384615384616,
          0.6396396396396397,
          0.6416666666666666,
          0.8063063063063063,
          0.8365384615384616,
          0.8333333333333333,
          0.7357142857142858,
          0.9375,
          0.8063063063063063,
          0.8321428571428571,
          0.7982142857142858,
          0.7579365079365079,
          0.8154761904761905,
          0.972972972972973,
          0.7222222222222222,
          0.7982142857142858,
          0.7868421052631579,
          0.972972972972973,
          0.9324324324324325,
          0.7003968253968254,
          0.7348484848484849,
          0.9146825396825397,
          0.5993589743589743,
          0.7243589743589743,
          0.6150793650793651,
          0.8154761904761905,
          0.9031531531531531,
          0.972972972972973,
          0.7718253968253967
         ],
         "xaxis": "x",
         "y": [
          1,
          0.8604651162790697,
          0.9302325581395349,
          0.9302325581395349,
          0.9767441860465116,
          0.9767441860465116,
          0.8372093023255814,
          0.8837209302325582,
          0.8837209302325582,
          0.8837209302325582,
          0.8837209302325582,
          0.9302325581395349,
          0.8604651162790697,
          0.9534883720930233,
          0.8604651162790697,
          0.8604651162790697,
          0.8837209302325582,
          0.8837209302325582,
          0.8604651162790697,
          0.813953488372093,
          0.9302325581395349,
          0.8604651162790697,
          0.8604651162790697,
          0.9069767441860465,
          0.9069767441860465,
          0.9069767441860465,
          0.9302325581395349,
          0.8837209302325582,
          0.8837209302325582,
          0.9069767441860465,
          0.8837209302325582,
          0.9069767441860465,
          0.8837209302325582,
          0.8837209302325582,
          0.9534883720930233,
          0.8837209302325582,
          0.9069767441860465,
          0.9302325581395349,
          0.9534883720930233,
          0.8837209302325582,
          0.8837209302325582,
          0.8604651162790697,
          0.9534883720930233,
          0.8837209302325582,
          0.9069767441860465,
          0.8372093023255814,
          0.8837209302325582,
          0.9534883720930233,
          0.9534883720930233,
          0.9069767441860465
         ],
         "yaxis": "y"
        },
        {
         "hovertemplate": "labels=Cristal 8/10%<br>precision_macro=%{x}<br>recall_micro=%{y}<extra></extra>",
         "legendgroup": "Cristal 8/10%",
         "marker": {
          "color": "#FFA15A",
          "symbol": "cross"
         },
         "mode": "markers",
         "name": "Cristal 8/10%",
         "orientation": "v",
         "showlegend": true,
         "type": "scatter",
         "x": [
          0.7867132867132867,
          0.7023809523809523,
          0.8015873015873016,
          0.8142361111111112,
          0.7996323529411764,
          0.7765072765072765,
          0.7412280701754386,
          0.7301587301587301,
          0.7650727650727651,
          0.7733446519524618,
          0.7923351158645277,
          0.7920997920997921,
          0.7103174603174603,
          0.751984126984127,
          0.7224264705882353,
          0.8142857142857143,
          0.7775891341256367,
          0.8125,
          0.7162698412698413,
          0.7095238095238094,
          0.7130977130977132,
          0.8095238095238095,
          0.7849264705882353,
          0.7476190476190476,
          0.7371323529411764,
          0.719047619047619,
          0.7923351158645277,
          0.7077205882352942,
          0.6666666666666667,
          0.8321678321678322,
          0.7552083333333333,
          0.7904761904761904,
          0.6710526315789473,
          0.8809523809523809,
          0.7923351158645277,
          0.7389705882352942,
          0.7285714285714285,
          0.8925438596491229,
          0.7738095238095238,
          0.7389705882352942,
          0.7335115864527629,
          0.6619047619047619,
          0.7982456140350878,
          0.8107638888888888,
          0.6948529411764706,
          0.6607142857142857,
          0.682983682983683,
          0.7536764705882353,
          0.7183600713012478,
          0.7224264705882353
         ],
         "xaxis": "x",
         "y": [
          0.82,
          0.76,
          0.84,
          0.84,
          0.84,
          0.78,
          0.78,
          0.8,
          0.8,
          0.82,
          0.82,
          0.84,
          0.74,
          0.8,
          0.78,
          0.82,
          0.8,
          0.82,
          0.78,
          0.78,
          0.76,
          0.82,
          0.82,
          0.78,
          0.8,
          0.82,
          0.82,
          0.76,
          0.72,
          0.84,
          0.78,
          0.84,
          0.76,
          0.86,
          0.82,
          0.78,
          0.78,
          0.88,
          0.8,
          0.78,
          0.78,
          0.74,
          0.78,
          0.82,
          0.72,
          0.7,
          0.76,
          0.8,
          0.76,
          0.78
         ],
         "yaxis": "y"
        },
        {
         "hovertemplate": "labels=Cristal 5/30%<br>precision_macro=%{x}<br>recall_micro=%{y}<extra></extra>",
         "legendgroup": "Cristal 5/30%",
         "marker": {
          "color": "#19d3f3",
          "symbol": "circle"
         },
         "mode": "markers",
         "name": "Cristal 5/30%",
         "orientation": "v",
         "showlegend": true,
         "type": "scatter",
         "x": [
          0.2840909090909091,
          0.3111111111111111,
          0.35317460317460314,
          0.3293650793650794,
          0.3648255813953488,
          0.2826086956521739,
          0.3782467532467533,
          0.29069767441860467,
          0.29545454545454547,
          0.2619047619047619,
          0.2926829268292683,
          0.3804878048780488,
          0.3670731707317073,
          0.3412698412698413,
          0.3048780487804878,
          0.376453488372093,
          0.3181818181818182,
          0.34156976744186046,
          0.4383116883116883,
          0.29545454545454547,
          0.4311740890688259,
          0.3668831168831169,
          0.34545454545454546,
          0.34545454545454546,
          0.3668831168831169,
          0.3909090909090909,
          0.2857142857142857,
          0.33279220779220775,
          0.3804878048780488,
          0.3293650793650794,
          0.34268292682926826,
          0.3048780487804878,
          0.400974025974026,
          0.29069767441860467,
          0.3926829268292683,
          0.4383116883116883,
          0.4122340425531915,
          0.35317460317460314,
          0.3909090909090909,
          0.2777777777777778,
          0.35319767441860467,
          0.2558139534883721,
          0.5406976744186047,
          0.2976190476190476,
          0.3068181818181818,
          0.29069767441860467,
          0.30434782608695654,
          0.4383116883116883,
          0.3804878048780488,
          0.4113636363636364
         ],
         "xaxis": "x",
         "y": [
          0.49019607843137253,
          0.5490196078431373,
          0.5098039215686274,
          0.47058823529411764,
          0.5294117647058824,
          0.5098039215686274,
          0.5490196078431373,
          0.49019607843137253,
          0.4117647058823529,
          0.43137254901960786,
          0.47058823529411764,
          0.49019607843137253,
          0.5294117647058824,
          0.49019607843137253,
          0.49019607843137253,
          0.5490196078431373,
          0.5490196078431373,
          0.49019607843137253,
          0.5490196078431373,
          0.5098039215686274,
          0.5294117647058824,
          0.5294117647058824,
          0.49019607843137253,
          0.49019607843137253,
          0.5294117647058824,
          0.5098039215686274,
          0.47058823529411764,
          0.47058823529411764,
          0.49019607843137253,
          0.47058823529411764,
          0.49019607843137253,
          0.49019607843137253,
          0.5882352941176471,
          0.49019607843137253,
          0.5098039215686274,
          0.5490196078431373,
          0.5490196078431373,
          0.5098039215686274,
          0.5098039215686274,
          0.49019607843137253,
          0.5098039215686274,
          0.43137254901960786,
          0.5686274509803921,
          0.49019607843137253,
          0.5294117647058824,
          0.49019607843137253,
          0.5490196078431373,
          0.5490196078431373,
          0.49019607843137253,
          0.49019607843137253
         ],
         "yaxis": "y"
        },
        {
         "hovertemplate": "labels=Cristal 15/30%<br>precision_macro=%{x}<br>recall_micro=%{y}<extra></extra>",
         "legendgroup": "Cristal 15/30%",
         "marker": {
          "color": "#FF6692",
          "symbol": "diamond"
         },
         "mode": "markers",
         "name": "Cristal 15/30%",
         "orientation": "v",
         "showlegend": true,
         "type": "scatter",
         "x": [
          0.47023809523809523,
          0.4015151515151515,
          0.5111111111111111,
          0.6188811188811189,
          0.5398671096345515,
          0.37202380952380953,
          0.48006644518272423,
          0.4015151515151515,
          0.5222222222222223,
          0.508130081300813,
          0.5909090909090908,
          0.4734848484848485,
          0.5636856368563685,
          0.5875,
          0.4734848484848485,
          0.5714285714285714,
          0.313953488372093,
          0.48006644518272423,
          0.4734848484848485,
          0.5,
          0.5089285714285714,
          0.4159891598915989,
          0.6628787878787878,
          0.5444444444444445,
          0.5089285714285714,
          0.3409090909090909,
          0.5652173913043479,
          0.41287878787878785,
          0.4583333333333333,
          0.48484848484848486,
          0.5392953929539295,
          0.483739837398374,
          0.5166112956810631,
          0.5,
          0.4281842818428184,
          0.5282392026578073,
          0.33695652173913043,
          0.52710027100271,
          0.40863787375415284,
          0.7462121212121212,
          0.5514950166112956,
          0.43333333333333335,
          0.6125,
          0.4568106312292359,
          0.3181818181818182,
          0.4962121212121212,
          0.6827242524916943,
          0.55,
          0.41287878787878785,
          0.5833333333333333
         ],
         "xaxis": "x",
         "y": [
          0.62,
          0.58,
          0.6,
          0.66,
          0.62,
          0.54,
          0.62,
          0.58,
          0.62,
          0.62,
          0.66,
          0.58,
          0.64,
          0.64,
          0.58,
          0.62,
          0.54,
          0.62,
          0.58,
          0.56,
          0.6,
          0.54,
          0.66,
          0.66,
          0.6,
          0.6,
          0.62,
          0.6,
          0.6,
          0.6,
          0.6,
          0.58,
          0.58,
          0.58,
          0.56,
          0.6,
          0.62,
          0.58,
          0.6,
          0.68,
          0.64,
          0.62,
          0.62,
          0.58,
          0.56,
          0.62,
          0.66,
          0.64,
          0.6,
          0.64
         ],
         "yaxis": "y"
        },
        {
         "hovertemplate": "labels=Cristal 25/30%<br>precision_macro=%{x}<br>recall_micro=%{y}<extra></extra>",
         "legendgroup": "Cristal 25/30%",
         "marker": {
          "color": "#B6E880",
          "symbol": "square"
         },
         "mode": "markers",
         "name": "Cristal 25/30%",
         "orientation": "v",
         "showlegend": true,
         "type": "scatter",
         "x": [
          0.8173076923076923,
          0.6681818181818182,
          0.6506410256410257,
          0.714574898785425,
          0.7023809523809523,
          0.8571428571428572,
          0.7151785714285714,
          0.6839285714285714,
          0.7464285714285714,
          0.6277777777777778,
          0.7151785714285714,
          0.6761133603238867,
          0.7125,
          0.6982142857142857,
          0.7205882352941176,
          0.6346153846153846,
          0.7133204633204633,
          0.6497975708502024,
          0.7084942084942085,
          0.6613372093023255,
          0.717948717948718,
          0.7023809523809523,
          0.625,
          0.48636363636363633,
          0.6972222222222222,
          0.6629554655870445,
          0.6013513513513513,
          0.5735294117647058,
          0.7386363636363636,
          0.828048780487805,
          0.6944444444444444,
          0.6061776061776062,
          0.6727799227799228,
          0.6839285714285714,
          0.6634615384615385,
          0.6923076923076923,
          0.7056818181818182,
          0.7884615384615385,
          0.6217948717948718,
          0.6158536585365854,
          0.6642857142857144,
          0.6283783783783784,
          0.6587301587301587,
          0.6611111111111111,
          0.7530364372469636,
          0.714574898785425,
          0.714574898785425,
          0.6666666666666666,
          0.6376518218623481,
          0.5944444444444444
         ],
         "xaxis": "x",
         "y": [
          0.7647058823529411,
          0.6862745098039216,
          0.6862745098039216,
          0.7254901960784313,
          0.7254901960784313,
          0.7647058823529411,
          0.7254901960784313,
          0.7058823529411765,
          0.7450980392156863,
          0.6666666666666666,
          0.7254901960784313,
          0.7058823529411765,
          0.7450980392156863,
          0.7254901960784313,
          0.7450980392156863,
          0.7058823529411765,
          0.7450980392156863,
          0.6666666666666666,
          0.7058823529411765,
          0.6862745098039216,
          0.7450980392156863,
          0.7254901960784313,
          0.6470588235294118,
          0.6078431372549019,
          0.7647058823529411,
          0.6862745098039216,
          0.6470588235294118,
          0.6274509803921569,
          0.7450980392156863,
          0.7843137254901961,
          0.7058823529411765,
          0.6862745098039216,
          0.6862745098039216,
          0.7058823529411765,
          0.7058823529411765,
          0.7058823529411765,
          0.7450980392156863,
          0.7647058823529411,
          0.6862745098039216,
          0.6862745098039216,
          0.7254901960784313,
          0.6862745098039216,
          0.7254901960784313,
          0.6862745098039216,
          0.7450980392156863,
          0.7254901960784313,
          0.7254901960784313,
          0.6666666666666666,
          0.6862745098039216,
          0.6470588235294118
         ],
         "yaxis": "y"
        }
       ],
       "layout": {
        "legend": {
         "title": {
          "text": ""
         },
         "tracegroupgap": 0
        },
        "margin": {
         "b": 20,
         "l": 20,
         "r": 20,
         "t": 40
        },
        "template": {
         "data": {
          "bar": [
           {
            "error_x": {
             "color": "#2a3f5f"
            },
            "error_y": {
             "color": "#2a3f5f"
            },
            "marker": {
             "line": {
              "color": "#E5ECF6",
              "width": 0.5
             },
             "pattern": {
              "fillmode": "overlay",
              "size": 10,
              "solidity": 0.2
             }
            },
            "type": "bar"
           }
          ],
          "barpolar": [
           {
            "marker": {
             "line": {
              "color": "#E5ECF6",
              "width": 0.5
             },
             "pattern": {
              "fillmode": "overlay",
              "size": 10,
              "solidity": 0.2
             }
            },
            "type": "barpolar"
           }
          ],
          "carpet": [
           {
            "aaxis": {
             "endlinecolor": "#2a3f5f",
             "gridcolor": "white",
             "linecolor": "white",
             "minorgridcolor": "white",
             "startlinecolor": "#2a3f5f"
            },
            "baxis": {
             "endlinecolor": "#2a3f5f",
             "gridcolor": "white",
             "linecolor": "white",
             "minorgridcolor": "white",
             "startlinecolor": "#2a3f5f"
            },
            "type": "carpet"
           }
          ],
          "choropleth": [
           {
            "colorbar": {
             "outlinewidth": 0,
             "ticks": ""
            },
            "type": "choropleth"
           }
          ],
          "contour": [
           {
            "colorbar": {
             "outlinewidth": 0,
             "ticks": ""
            },
            "colorscale": [
             [
              0,
              "#0d0887"
             ],
             [
              0.1111111111111111,
              "#46039f"
             ],
             [
              0.2222222222222222,
              "#7201a8"
             ],
             [
              0.3333333333333333,
              "#9c179e"
             ],
             [
              0.4444444444444444,
              "#bd3786"
             ],
             [
              0.5555555555555556,
              "#d8576b"
             ],
             [
              0.6666666666666666,
              "#ed7953"
             ],
             [
              0.7777777777777778,
              "#fb9f3a"
             ],
             [
              0.8888888888888888,
              "#fdca26"
             ],
             [
              1,
              "#f0f921"
             ]
            ],
            "type": "contour"
           }
          ],
          "contourcarpet": [
           {
            "colorbar": {
             "outlinewidth": 0,
             "ticks": ""
            },
            "type": "contourcarpet"
           }
          ],
          "heatmap": [
           {
            "colorbar": {
             "outlinewidth": 0,
             "ticks": ""
            },
            "colorscale": [
             [
              0,
              "#0d0887"
             ],
             [
              0.1111111111111111,
              "#46039f"
             ],
             [
              0.2222222222222222,
              "#7201a8"
             ],
             [
              0.3333333333333333,
              "#9c179e"
             ],
             [
              0.4444444444444444,
              "#bd3786"
             ],
             [
              0.5555555555555556,
              "#d8576b"
             ],
             [
              0.6666666666666666,
              "#ed7953"
             ],
             [
              0.7777777777777778,
              "#fb9f3a"
             ],
             [
              0.8888888888888888,
              "#fdca26"
             ],
             [
              1,
              "#f0f921"
             ]
            ],
            "type": "heatmap"
           }
          ],
          "heatmapgl": [
           {
            "colorbar": {
             "outlinewidth": 0,
             "ticks": ""
            },
            "colorscale": [
             [
              0,
              "#0d0887"
             ],
             [
              0.1111111111111111,
              "#46039f"
             ],
             [
              0.2222222222222222,
              "#7201a8"
             ],
             [
              0.3333333333333333,
              "#9c179e"
             ],
             [
              0.4444444444444444,
              "#bd3786"
             ],
             [
              0.5555555555555556,
              "#d8576b"
             ],
             [
              0.6666666666666666,
              "#ed7953"
             ],
             [
              0.7777777777777778,
              "#fb9f3a"
             ],
             [
              0.8888888888888888,
              "#fdca26"
             ],
             [
              1,
              "#f0f921"
             ]
            ],
            "type": "heatmapgl"
           }
          ],
          "histogram": [
           {
            "marker": {
             "pattern": {
              "fillmode": "overlay",
              "size": 10,
              "solidity": 0.2
             }
            },
            "type": "histogram"
           }
          ],
          "histogram2d": [
           {
            "colorbar": {
             "outlinewidth": 0,
             "ticks": ""
            },
            "colorscale": [
             [
              0,
              "#0d0887"
             ],
             [
              0.1111111111111111,
              "#46039f"
             ],
             [
              0.2222222222222222,
              "#7201a8"
             ],
             [
              0.3333333333333333,
              "#9c179e"
             ],
             [
              0.4444444444444444,
              "#bd3786"
             ],
             [
              0.5555555555555556,
              "#d8576b"
             ],
             [
              0.6666666666666666,
              "#ed7953"
             ],
             [
              0.7777777777777778,
              "#fb9f3a"
             ],
             [
              0.8888888888888888,
              "#fdca26"
             ],
             [
              1,
              "#f0f921"
             ]
            ],
            "type": "histogram2d"
           }
          ],
          "histogram2dcontour": [
           {
            "colorbar": {
             "outlinewidth": 0,
             "ticks": ""
            },
            "colorscale": [
             [
              0,
              "#0d0887"
             ],
             [
              0.1111111111111111,
              "#46039f"
             ],
             [
              0.2222222222222222,
              "#7201a8"
             ],
             [
              0.3333333333333333,
              "#9c179e"
             ],
             [
              0.4444444444444444,
              "#bd3786"
             ],
             [
              0.5555555555555556,
              "#d8576b"
             ],
             [
              0.6666666666666666,
              "#ed7953"
             ],
             [
              0.7777777777777778,
              "#fb9f3a"
             ],
             [
              0.8888888888888888,
              "#fdca26"
             ],
             [
              1,
              "#f0f921"
             ]
            ],
            "type": "histogram2dcontour"
           }
          ],
          "mesh3d": [
           {
            "colorbar": {
             "outlinewidth": 0,
             "ticks": ""
            },
            "type": "mesh3d"
           }
          ],
          "parcoords": [
           {
            "line": {
             "colorbar": {
              "outlinewidth": 0,
              "ticks": ""
             }
            },
            "type": "parcoords"
           }
          ],
          "pie": [
           {
            "automargin": true,
            "type": "pie"
           }
          ],
          "scatter": [
           {
            "marker": {
             "colorbar": {
              "outlinewidth": 0,
              "ticks": ""
             }
            },
            "type": "scatter"
           }
          ],
          "scatter3d": [
           {
            "line": {
             "colorbar": {
              "outlinewidth": 0,
              "ticks": ""
             }
            },
            "marker": {
             "colorbar": {
              "outlinewidth": 0,
              "ticks": ""
             }
            },
            "type": "scatter3d"
           }
          ],
          "scattercarpet": [
           {
            "marker": {
             "colorbar": {
              "outlinewidth": 0,
              "ticks": ""
             }
            },
            "type": "scattercarpet"
           }
          ],
          "scattergeo": [
           {
            "marker": {
             "colorbar": {
              "outlinewidth": 0,
              "ticks": ""
             }
            },
            "type": "scattergeo"
           }
          ],
          "scattergl": [
           {
            "marker": {
             "colorbar": {
              "outlinewidth": 0,
              "ticks": ""
             }
            },
            "type": "scattergl"
           }
          ],
          "scattermapbox": [
           {
            "marker": {
             "colorbar": {
              "outlinewidth": 0,
              "ticks": ""
             }
            },
            "type": "scattermapbox"
           }
          ],
          "scatterpolar": [
           {
            "marker": {
             "colorbar": {
              "outlinewidth": 0,
              "ticks": ""
             }
            },
            "type": "scatterpolar"
           }
          ],
          "scatterpolargl": [
           {
            "marker": {
             "colorbar": {
              "outlinewidth": 0,
              "ticks": ""
             }
            },
            "type": "scatterpolargl"
           }
          ],
          "scatterternary": [
           {
            "marker": {
             "colorbar": {
              "outlinewidth": 0,
              "ticks": ""
             }
            },
            "type": "scatterternary"
           }
          ],
          "surface": [
           {
            "colorbar": {
             "outlinewidth": 0,
             "ticks": ""
            },
            "colorscale": [
             [
              0,
              "#0d0887"
             ],
             [
              0.1111111111111111,
              "#46039f"
             ],
             [
              0.2222222222222222,
              "#7201a8"
             ],
             [
              0.3333333333333333,
              "#9c179e"
             ],
             [
              0.4444444444444444,
              "#bd3786"
             ],
             [
              0.5555555555555556,
              "#d8576b"
             ],
             [
              0.6666666666666666,
              "#ed7953"
             ],
             [
              0.7777777777777778,
              "#fb9f3a"
             ],
             [
              0.8888888888888888,
              "#fdca26"
             ],
             [
              1,
              "#f0f921"
             ]
            ],
            "type": "surface"
           }
          ],
          "table": [
           {
            "cells": {
             "fill": {
              "color": "#EBF0F8"
             },
             "line": {
              "color": "white"
             }
            },
            "header": {
             "fill": {
              "color": "#C8D4E3"
             },
             "line": {
              "color": "white"
             }
            },
            "type": "table"
           }
          ]
         },
         "layout": {
          "annotationdefaults": {
           "arrowcolor": "#2a3f5f",
           "arrowhead": 0,
           "arrowwidth": 1
          },
          "autotypenumbers": "strict",
          "coloraxis": {
           "colorbar": {
            "outlinewidth": 0,
            "ticks": ""
           }
          },
          "colorscale": {
           "diverging": [
            [
             0,
             "#8e0152"
            ],
            [
             0.1,
             "#c51b7d"
            ],
            [
             0.2,
             "#de77ae"
            ],
            [
             0.3,
             "#f1b6da"
            ],
            [
             0.4,
             "#fde0ef"
            ],
            [
             0.5,
             "#f7f7f7"
            ],
            [
             0.6,
             "#e6f5d0"
            ],
            [
             0.7,
             "#b8e186"
            ],
            [
             0.8,
             "#7fbc41"
            ],
            [
             0.9,
             "#4d9221"
            ],
            [
             1,
             "#276419"
            ]
           ],
           "sequential": [
            [
             0,
             "#0d0887"
            ],
            [
             0.1111111111111111,
             "#46039f"
            ],
            [
             0.2222222222222222,
             "#7201a8"
            ],
            [
             0.3333333333333333,
             "#9c179e"
            ],
            [
             0.4444444444444444,
             "#bd3786"
            ],
            [
             0.5555555555555556,
             "#d8576b"
            ],
            [
             0.6666666666666666,
             "#ed7953"
            ],
            [
             0.7777777777777778,
             "#fb9f3a"
            ],
            [
             0.8888888888888888,
             "#fdca26"
            ],
            [
             1,
             "#f0f921"
            ]
           ],
           "sequentialminus": [
            [
             0,
             "#0d0887"
            ],
            [
             0.1111111111111111,
             "#46039f"
            ],
            [
             0.2222222222222222,
             "#7201a8"
            ],
            [
             0.3333333333333333,
             "#9c179e"
            ],
            [
             0.4444444444444444,
             "#bd3786"
            ],
            [
             0.5555555555555556,
             "#d8576b"
            ],
            [
             0.6666666666666666,
             "#ed7953"
            ],
            [
             0.7777777777777778,
             "#fb9f3a"
            ],
            [
             0.8888888888888888,
             "#fdca26"
            ],
            [
             1,
             "#f0f921"
            ]
           ]
          },
          "colorway": [
           "#636efa",
           "#EF553B",
           "#00cc96",
           "#ab63fa",
           "#FFA15A",
           "#19d3f3",
           "#FF6692",
           "#B6E880",
           "#FF97FF",
           "#FECB52"
          ],
          "font": {
           "color": "#2a3f5f"
          },
          "geo": {
           "bgcolor": "white",
           "lakecolor": "white",
           "landcolor": "#E5ECF6",
           "showlakes": true,
           "showland": true,
           "subunitcolor": "white"
          },
          "hoverlabel": {
           "align": "left"
          },
          "hovermode": "closest",
          "mapbox": {
           "style": "light"
          },
          "paper_bgcolor": "white",
          "plot_bgcolor": "#E5ECF6",
          "polar": {
           "angularaxis": {
            "gridcolor": "white",
            "linecolor": "white",
            "ticks": ""
           },
           "bgcolor": "#E5ECF6",
           "radialaxis": {
            "gridcolor": "white",
            "linecolor": "white",
            "ticks": ""
           }
          },
          "scene": {
           "xaxis": {
            "backgroundcolor": "#E5ECF6",
            "gridcolor": "white",
            "gridwidth": 2,
            "linecolor": "white",
            "showbackground": true,
            "ticks": "",
            "zerolinecolor": "white"
           },
           "yaxis": {
            "backgroundcolor": "#E5ECF6",
            "gridcolor": "white",
            "gridwidth": 2,
            "linecolor": "white",
            "showbackground": true,
            "ticks": "",
            "zerolinecolor": "white"
           },
           "zaxis": {
            "backgroundcolor": "#E5ECF6",
            "gridcolor": "white",
            "gridwidth": 2,
            "linecolor": "white",
            "showbackground": true,
            "ticks": "",
            "zerolinecolor": "white"
           }
          },
          "shapedefaults": {
           "line": {
            "color": "#2a3f5f"
           }
          },
          "ternary": {
           "aaxis": {
            "gridcolor": "white",
            "linecolor": "white",
            "ticks": ""
           },
           "baxis": {
            "gridcolor": "white",
            "linecolor": "white",
            "ticks": ""
           },
           "bgcolor": "#E5ECF6",
           "caxis": {
            "gridcolor": "white",
            "linecolor": "white",
            "ticks": ""
           }
          },
          "title": {
           "x": 0.05
          },
          "xaxis": {
           "automargin": true,
           "gridcolor": "white",
           "linecolor": "white",
           "ticks": "",
           "title": {
            "standoff": 15
           },
           "zerolinecolor": "white",
           "zerolinewidth": 2
          },
          "yaxis": {
           "automargin": true,
           "gridcolor": "white",
           "linecolor": "white",
           "ticks": "",
           "title": {
            "standoff": 15
           },
           "zerolinecolor": "white",
           "zerolinewidth": 2
          }
         }
        },
        "xaxis": {
         "anchor": "y",
         "domain": [
          0,
          1
         ],
         "range": [
          0.2558139534883721,
          1.1
         ],
         "title": {
          "text": "precision_macro"
         }
        },
        "yaxis": {
         "anchor": "x",
         "domain": [
          0,
          1
         ],
         "range": [
          0,
          1.1
         ],
         "title": {
          "text": "recall_micro"
         }
        }
       }
      }
     },
     "metadata": {},
     "output_type": "display_data"
    },
    {
     "data": {
      "application/vnd.plotly.v1+json": {
       "config": {
        "plotlyServerURL": "https://plot.ly"
       },
       "data": [
        {
         "hovertemplate": "labels=Cristal 0% - c/error<br>f1_macro=%{x}<br>recall_macro=%{y}<extra></extra>",
         "legendgroup": "Cristal 0% - c/error",
         "marker": {
          "color": "#636efa",
          "symbol": "circle"
         },
         "mode": "markers",
         "name": "Cristal 0% - c/error",
         "orientation": "v",
         "showlegend": true,
         "type": "scatter",
         "x": [
          0.375,
          0.4375,
          0.4755244755244755,
          0.4172494172494172,
          0.4172494172494173,
          0.45175438596491224,
          0.3969298245614035,
          0.46357989836250707,
          0.358974358974359,
          0.38271604938271603,
          0.3670886075949367,
          0.4071146245059289,
          0.48764315852923446,
          0.3969298245614035,
          0.4172494172494173,
          0.4172494172494173,
          0.375,
          0.3866666666666667,
          0.4755244755244755,
          0.4172494172494173,
          0.3969298245614035,
          0.35064935064935066,
          0.4273658830620856,
          0.3969298245614035,
          0.35064935064935066,
          0.36708860759493667,
          0.3670886075949367,
          0.3827160493827161,
          0.46357989836250707,
          0.4375,
          0.46357989836250707,
          0.4172494172494172,
          0.36708860759493667,
          0.4273658830620856,
          0.37499999999999994,
          0.38271604938271603,
          0.375,
          0.4071146245059289,
          0.3969298245614035,
          0.4273658830620856,
          0.3969298245614035,
          0.4071146245059289,
          0.5238095238095238,
          0.39024390243902435,
          0.38666666666666666,
          0.4755244755244755,
          0.36708860759493667,
          0.4172494172494173,
          0.36708860759493667,
          0.36708860759493667
         ],
         "xaxis": "x",
         "y": [
          0.42857142857142855,
          0.5121527777777778,
          0.5365025466893039,
          0.5083333333333333,
          0.5238095238095238,
          0.5303776683087028,
          0.5217391304347826,
          0.5476190476190477,
          0.4827586206896552,
          0.5,
          0.453125,
          0.4916666666666667,
          0.5399305555555556,
          0.5048701298701299,
          0.5238095238095238,
          0.4809027777777778,
          0.46875,
          0.487012987012987,
          0.5243055555555556,
          0.5238095238095238,
          0.5217391304347826,
          0.5,
          0.525,
          0.4893267651888341,
          0.46551724137931033,
          0.48333333333333334,
          0.453125,
          0.484375,
          0.5333333333333333,
          0.5121527777777778,
          0.5476190476190477,
          0.5083333333333333,
          0.46774193548387094,
          0.525,
          0.5,
          0.4696969696969697,
          0.45454545454545453,
          0.4916666666666667,
          0.4893267651888341,
          0.5101867572156197,
          0.5048701298701299,
          0.506568144499179,
          0.6,
          0.5,
          0.5208333333333334,
          0.55,
          0.5,
          0.4809027777777778,
          0.5,
          0.5
         ],
         "yaxis": "y"
        },
        {
         "hovertemplate": "labels=Cristal 0% - s/error<br>f1_macro=%{x}<br>recall_macro=%{y}<extra></extra>",
         "legendgroup": "Cristal 0% - s/error",
         "marker": {
          "color": "#EF553B",
          "symbol": "diamond"
         },
         "mode": "markers",
         "name": "Cristal 0% - s/error",
         "orientation": "v",
         "showlegend": true,
         "type": "scatter",
         "x": [
          1,
          0.4845360824742268,
          0.4897959183673469,
          0.7395833333333333,
          0.4845360824742268,
          0.8281786941580755,
          0.494949494949495,
          0.8947368421052633,
          0.4897959183673469,
          1,
          0.494949494949495,
          0.494949494949495,
          0.494949494949495,
          0.7395833333333333,
          0.5,
          0.4845360824742268,
          0.4897959183673469,
          0.8226950354609929,
          0.4897959183673469,
          0.9231950844854071,
          0.8281786941580755,
          1,
          0.8281786941580755,
          0.4897959183673469,
          0.494949494949495,
          0.8226950354609929,
          0.47368421052631576,
          0.6453900709219859,
          0.4897959183673469,
          0.9231950844854071,
          0.4897959183673469,
          0.7395833333333333,
          0.4897959183673469,
          0.494949494949495,
          0.494949494949495,
          0.8947368421052633,
          1,
          0.7395833333333333,
          0.8226950354609929,
          0.8281786941580755,
          0.5,
          1,
          0.4845360824742268,
          0.4845360824742268,
          0.494949494949495,
          1,
          0.9231950844854071,
          0.8947368421052633,
          1,
          0.7395833333333333
         ],
         "xaxis": "x",
         "y": [
          1,
          0.4895833333333333,
          0.4897959183673469,
          0.7395833333333333,
          0.47959183673469385,
          0.75,
          0.49,
          0.9895833333333333,
          0.48,
          1,
          0.49,
          0.49,
          0.49,
          0.9795918367346939,
          0.5,
          0.5,
          0.4897959183673469,
          0.75,
          0.4897959183673469,
          0.875,
          0.75,
          1,
          0.75,
          0.4897959183673469,
          0.5,
          0.9791666666666667,
          0.46875,
          0.6453900709219859,
          0.5,
          0.875,
          0.4897959183673469,
          0.7395833333333333,
          0.4897959183673469,
          0.49,
          0.5,
          0.8333333333333333,
          1,
          0.7395833333333333,
          0.75,
          0.75,
          0.5,
          1,
          0.5,
          0.5,
          0.5,
          1,
          0.875,
          0.9895833333333333,
          1,
          0.7395833333333333
         ],
         "yaxis": "y"
        },
        {
         "hovertemplate": "labels=Cristal 2/10%<br>f1_macro=%{x}<br>recall_macro=%{y}<extra></extra>",
         "legendgroup": "Cristal 2/10%",
         "marker": {
          "color": "#00cc96",
          "symbol": "square"
         },
         "mode": "markers",
         "name": "Cristal 2/10%",
         "orientation": "v",
         "showlegend": true,
         "type": "scatter",
         "x": [
          0.45652173913043476,
          0.584717607973422,
          0.5265151515151516,
          0.4444444444444445,
          0.4505494505494506,
          0.6905393457117595,
          0.4318181818181818,
          0.6212121212121212,
          0.5137046861184792,
          0.45054945054945056,
          0.4505494505494506,
          0.6021220159151194,
          0.6470588235294118,
          0.5403472931562819,
          0.5265151515151516,
          0.6021220159151194,
          0.5265151515151516,
          0.5535714285714286,
          0.5403472931562818,
          0.5016611295681063,
          0.4382022471910112,
          0.7446373850868233,
          0.6470588235294118,
          0.4444444444444445,
          0.5016611295681064,
          0.4736842105263158,
          0.5265151515151515,
          0.4382022471910112,
          0.6810772501771793,
          0.5555555555555556,
          0.4901960784313726,
          0.4444444444444445,
          0.5265151515151515,
          0.6021220159151194,
          0.45054945054945056,
          0.4444444444444445,
          0.45054945054945056,
          0.4318181818181818,
          0.42528735632183906,
          0.4505494505494506,
          0.45054945054945056,
          0.4444444444444445,
          0.584717607973422,
          0.5555555555555556,
          0.5265151515151515,
          0.4444444444444445,
          0.5265151515151516,
          0.45054945054945056,
          0.4623655913978495,
          0.6212121212121212
         ],
         "xaxis": "x",
         "y": [
          0.4883720930232558,
          0.5745257452574526,
          0.5265151515151515,
          0.46511627906976744,
          0.4880952380952381,
          0.6636904761904762,
          0.4418604651162791,
          0.6212121212121212,
          0.5151515151515151,
          0.45555555555555555,
          0.43617021276595747,
          0.5963455149501661,
          0.6818181818181819,
          0.5365448504983389,
          0.5265151515151515,
          0.5892857142857143,
          0.5267857142857143,
          0.5524475524475525,
          0.5378787878787878,
          0.5016611295681063,
          0.42391304347826086,
          0.7272727272727273,
          0.6818181818181819,
          0.45454545454545453,
          0.5029761904761905,
          0.5,
          0.5311653116531165,
          0.42391304347826086,
          0.6535087719298246,
          0.5481727574750831,
          0.49107142857142855,
          0.47619047619047616,
          0.5375,
          0.5963455149501661,
          0.47674418604651164,
          0.45454545454545453,
          0.47674418604651164,
          0.4318181818181818,
          0.43023255813953487,
          0.43617021276595747,
          0.45555555555555555,
          0.45454545454545453,
          0.5984848484848485,
          0.5505952380952381,
          0.5249169435215947,
          0.46511627906976744,
          0.5267857142857143,
          0.4270833333333333,
          0.4574468085106383,
          0.5989159891598916
         ],
         "yaxis": "y"
        },
        {
         "hovertemplate": "labels=Cristal 5/10%<br>f1_macro=%{x}<br>recall_macro=%{y}<extra></extra>",
         "legendgroup": "Cristal 5/10%",
         "marker": {
          "color": "#ab63fa",
          "symbol": "x"
         },
         "mode": "markers",
         "name": "Cristal 5/10%",
         "orientation": "v",
         "showlegend": true,
         "type": "scatter",
         "x": [
          1,
          0.7094594594594594,
          0.8436363636363635,
          0.8640674394099052,
          0.9478787878787878,
          0.9478787878787878,
          0.4556962025316456,
          0.7981220657276996,
          0.7734457323498419,
          0.7393939393939394,
          0.7734457323498418,
          0.8138528138528138,
          0.7440476190476191,
          0.8868421052631579,
          0.7696428571428571,
          0.7094594594594594,
          0.6897546897546898,
          0.6112115732368897,
          0.7094594594594594,
          0.6587301587301587,
          0.8788732394366197,
          0.5865384615384616,
          0.6605263157894737,
          0.6416666666666667,
          0.8063063063063063,
          0.7736842105263158,
          0.8788732394366198,
          0.7734457323498419,
          0.7393939393939394,
          0.8063063063063063,
          0.8167092924126171,
          0.8293650793650794,
          0.7734457323498418,
          0.7981220657276995,
          0.9146825396825397,
          0.7734457323498419,
          0.8293650793650794,
          0.8138528138528138,
          0.9146825396825397,
          0.8167092924126171,
          0.7393939393939394,
          0.7696428571428571,
          0.9146825396825397,
          0.6112115732368897,
          0.7243589743589743,
          0.6351515151515152,
          0.7981220657276995,
          0.9031531531531531,
          0.9146825396825397,
          0.8063063063063063
         ],
         "xaxis": "x",
         "y": [
          1,
          0.925,
          0.8736842105263158,
          0.8896396396396397,
          0.986842105263158,
          0.9166666666666667,
          0.47368421052631576,
          0.8626126126126126,
          0.8473684210526315,
          0.8237179487179487,
          0.7927927927927928,
          0.8493589743589743,
          0.7214285714285714,
          0.8333333333333333,
          0.7696428571428571,
          0.6732142857142858,
          0.7115384615384616,
          0.6291666666666667,
          0.7473684210526316,
          0.6372549019607843,
          0.8607142857142858,
          0.5865384615384616,
          0.6987179487179487,
          0.6416666666666666,
          0.8063063063063063,
          0.7364864864864865,
          0.9594594594594594,
          0.8473684210526315,
          0.6875,
          0.8063063063063063,
          0.803921568627451,
          0.8761261261261262,
          0.7927927927927928,
          0.7839285714285714,
          0.875,
          0.9358974358974359,
          0.8761261261261262,
          0.8493589743589743,
          0.875,
          0.7727272727272727,
          0.8237179487179487,
          0.8490990990990992,
          0.9146825396825397,
          0.6291666666666667,
          0.7243589743589743,
          0.6858974358974359,
          0.7839285714285714,
          0.9031531531531531,
          0.875,
          0.8605263157894737
         ],
         "yaxis": "y"
        },
        {
         "hovertemplate": "labels=Cristal 8/10%<br>f1_macro=%{x}<br>recall_macro=%{y}<extra></extra>",
         "legendgroup": "Cristal 8/10%",
         "marker": {
          "color": "#FFA15A",
          "symbol": "cross"
         },
         "mode": "markers",
         "name": "Cristal 8/10%",
         "orientation": "v",
         "showlegend": true,
         "type": "scatter",
         "x": [
          0.76,
          0.7023809523809523,
          0.8015873015873016,
          0.8217468805704099,
          0.8095238095238095,
          0.7428705002337541,
          0.7209538305428715,
          0.7401247401247402,
          0.751984126984127,
          0.7896213183730716,
          0.796472184531886,
          0.7920997920997921,
          0.6961196820944366,
          0.751984126984127,
          0.7328800388538126,
          0.796472184531886,
          0.7829861111111112,
          0.76,
          0.7209538305428718,
          0.7209538305428715,
          0.7023809523809524,
          0.7896213183730715,
          0.7896213183730715,
          0.7428705002337541,
          0.751984126984127,
          0.745906267645398,
          0.796472184531886,
          0.7142857142857144,
          0.6666666666666667,
          0.7920997920997921,
          0.7582417582417582,
          0.8015873015873016,
          0.6710526315789473,
          0.8461538461538461,
          0.796472184531886,
          0.7428705002337541,
          0.7328800388538126,
          0.8511904761904763,
          0.7619047619047619,
          0.7428705002337541,
          0.7428705002337541,
          0.6702181633688484,
          0.7428705002337541,
          0.8069498069498069,
          0.6880570409982175,
          0.6493688639551192,
          0.6710526315789473,
          0.7619047619047619,
          0.724264705882353,
          0.7328800388538126
         ],
         "xaxis": "x",
         "y": [
          0.7440476190476191,
          0.7023809523809523,
          0.8015873015873016,
          0.8327205882352942,
          0.8234126984126984,
          0.7309027777777778,
          0.7095238095238094,
          0.7543859649122806,
          0.7428571428571429,
          0.8530701754385965,
          0.8014705882352942,
          0.7920997920997921,
          0.6889483065953654,
          0.751984126984127,
          0.7515592515592515,
          0.7864583333333333,
          0.7914438502673797,
          0.7380952380952381,
          0.7266112266112266,
          0.7412280701754386,
          0.6952380952380952,
          0.7780748663101604,
          0.7952380952380952,
          0.7389705882352942,
          0.7828947368421053,
          0.8422619047619048,
          0.8014705882352942,
          0.7242063492063493,
          0.6666666666666667,
          0.7714285714285714,
          0.7620320855614974,
          0.817047817047817,
          0.6710526315789473,
          0.8333333333333333,
          0.8014705882352942,
          0.7476190476190476,
          0.7380952380952381,
          0.8290441176470589,
          0.7536764705882353,
          0.7476190476190476,
          0.7599206349206349,
          0.6864035087719298,
          0.730899830220713,
          0.8039049235993209,
          0.6840277777777778,
          0.6443850267379679,
          0.6632016632016633,
          0.7738095238095238,
          0.7333333333333334,
          0.7515592515592515
         ],
         "yaxis": "y"
        },
        {
         "hovertemplate": "labels=Cristal 5/30%<br>f1_macro=%{x}<br>recall_macro=%{y}<extra></extra>",
         "legendgroup": "Cristal 5/30%",
         "marker": {
          "color": "#19d3f3",
          "symbol": "circle"
         },
         "mode": "markers",
         "name": "Cristal 5/30%",
         "orientation": "v",
         "showlegend": true,
         "type": "scatter",
         "x": [
          0.3289473684210526,
          0.35443037974683544,
          0.3703703703703704,
          0.34955125177137464,
          0.3805668016194332,
          0.33766233766233766,
          0.39064935064935064,
          0.32894736842105265,
          0.31696428571428575,
          0.3013698630136986,
          0.32,
          0.3861111111111111,
          0.38056680161943324,
          0.36003861003861,
          0.3289473684210526,
          0.3906493506493506,
          0.35443037974683544,
          0.36003861003861004,
          0.42074074074074075,
          0.3376623376623376,
          0.4333333333333334,
          0.38056680161943324,
          0.36003861003861,
          0.36003861003861,
          0.38056680161943324,
          0.39773264052905055,
          0.32,
          0.34955125177137464,
          0.3861111111111111,
          0.34955125177137464,
          0.36003861003861004,
          0.3289473684210526,
          0.41056686846450197,
          0.32894736842105265,
          0.39773264052905044,
          0.42074074074074075,
          0.3906493506493506,
          0.3703703703703704,
          0.39773264052905055,
          0.32894736842105265,
          0.37037037037037035,
          0.30136986301369856,
          0.4805555555555556,
          0.32894736842105265,
          0.34615384615384615,
          0.32894736842105265,
          0.35443037974683544,
          0.42074074074074075,
          0.3861111111111111,
          0.4080357142857143
         ],
         "xaxis": "x",
         "y": [
          0.390625,
          0.4117647058823529,
          0.4065656565656566,
          0.3959677419354839,
          0.4217171717171717,
          0.41935483870967744,
          0.4368686868686869,
          0.3787878787878788,
          0.3571428571428571,
          0.3548387096774194,
          0.35294117647058826,
          0.42096774193548386,
          0.40267857142857144,
          0.4013157894736842,
          0.35714285714285715,
          0.4264705882352941,
          0.4,
          0.4120967741935484,
          0.4693548387096774,
          0.3939393939393939,
          0.44117647058823534,
          0.4325657894736842,
          0.3823529411764706,
          0.3823529411764706,
          0.4325657894736842,
          0.4191919191919192,
          0.36363636363636365,
          0.41927899686520376,
          0.42096774193548386,
          0.3959677419354839,
          0.39141414141414144,
          0.35714285714285715,
          0.4455357142857143,
          0.3787878787878788,
          0.4276315789473684,
          0.4693548387096774,
          0.4738095238095238,
          0.4065656565656566,
          0.4191919191919192,
          0.4032258064516129,
          0.4169407894736842,
          0.36666666666666664,
          0.5219435736677116,
          0.36764705882352944,
          0.39705882352941174,
          0.3787878787878788,
          0.42424242424242425,
          0.4693548387096774,
          0.42096774193548386,
          0.4380952380952381
         ],
         "yaxis": "y"
        },
        {
         "hovertemplate": "labels=Cristal 15/30%<br>f1_macro=%{x}<br>recall_macro=%{y}<extra></extra>",
         "legendgroup": "Cristal 15/30%",
         "marker": {
          "color": "#FF6692",
          "symbol": "diamond"
         },
         "mode": "markers",
         "name": "Cristal 15/30%",
         "orientation": "v",
         "showlegend": true,
         "type": "scatter",
         "x": [
          0.46357989836250707,
          0.4071146245059289,
          0.45175438596491224,
          0.587178241864983,
          0.49333333333333335,
          0.38666666666666666,
          0.463579898362507,
          0.4071146245059289,
          0.46357989836250707,
          0.4933333333333334,
          0.5200451722190852,
          0.44,
          0.5322245322245321,
          0.5535714285714286,
          0.44,
          0.5180111618467783,
          0.3506493506493506,
          0.463579898362507,
          0.44,
          0.47619047619047616,
          0.48024948024948033,
          0.4165398274987316,
          0.5466666666666666,
          0.48764315852923446,
          0.48024948024948033,
          0.37499999999999994,
          0.46357989836250707,
          0.4172494172494173,
          0.4517543859649122,
          0.45175438596491224,
          0.503968253968254,
          0.4672754946727549,
          0.467275494672755,
          0.44000000000000006,
          0.4282744282744283,
          0.4802494802494802,
          0.38271604938271603,
          0.4900437105390967,
          0.4172494172494172,
          0.5841995841995842,
          0.506578947368421,
          0.42736588306208556,
          0.5558672276764843,
          0.44,
          0.358974358974359,
          0.463579898362507,
          0.5687468290208016,
          0.5322245322245323,
          0.4172494172494173,
          0.5322245322245321
         ],
         "xaxis": "x",
         "y": [
          0.48095238095238096,
          0.4536541889483066,
          0.5042444821731749,
          0.5885416666666666,
          0.5208333333333334,
          0.4233511586452763,
          0.4889705882352941,
          0.4536541889483066,
          0.5086805555555556,
          0.5055147058823529,
          0.5427807486631016,
          0.48811544991511036,
          0.5418894830659536,
          0.5607638888888888,
          0.48811544991511036,
          0.5407470288624787,
          0.39705882352941174,
          0.4889705882352941,
          0.48811544991511036,
          0.5,
          0.5052083333333334,
          0.4461805555555556,
          0.5730050933786077,
          0.5183823529411764,
          0.5052083333333334,
          0.4166666666666667,
          0.5203735144312394,
          0.4577205882352941,
          0.4742647058823529,
          0.4930555555555556,
          0.5246179966044142,
          0.4895833333333333,
          0.5083333333333333,
          0.5,
          0.45276292335115864,
          0.5144312393887945,
          0.44285714285714284,
          0.5166666666666667,
          0.44761904761904764,
          0.6083333333333334,
          0.5276292335115864,
          0.4724264705882353,
          0.5738916256157636,
          0.4774305555555556,
          0.4117647058823529,
          0.4982174688057041,
          0.5916666666666667,
          0.5367647058823529,
          0.4577205882352941,
          0.5486111111111112
         ],
         "yaxis": "y"
        },
        {
         "hovertemplate": "labels=Cristal 25/30%<br>f1_macro=%{x}<br>recall_macro=%{y}<extra></extra>",
         "legendgroup": "Cristal 25/30%",
         "marker": {
          "color": "#B6E880",
          "symbol": "square"
         },
         "mode": "markers",
         "name": "Cristal 25/30%",
         "orientation": "v",
         "showlegend": true,
         "type": "scatter",
         "x": [
          0.7352941176470589,
          0.6222222222222222,
          0.6222222222222222,
          0.6812499999999999,
          0.6386639676113361,
          0.7166666666666666,
          0.6994949494949496,
          0.6737739872068231,
          0.7243243243243243,
          0.619235836627141,
          0.6994949494949496,
          0.652430713312131,
          0.7088274044795784,
          0.6911764705882353,
          0.71727078891258,
          0.6222222222222222,
          0.6987732848705134,
          0.6192358366271411,
          0.6737739872068231,
          0.5870445344129555,
          0.6868209730751063,
          0.6386639676113361,
          0.5901785714285714,
          0.48380566801619423,
          0.7046332046332047,
          0.6357142857142857,
          0.5901785714285714,
          0.5744400527009222,
          0.6868209730751063,
          0.7350023618327822,
          0.6737739872068231,
          0.6061776061776062,
          0.6470588235294117,
          0.6737739872068231,
          0.6386395843174303,
          0.6524307133121309,
          0.6725925925925926,
          0.7267857142857143,
          0.6061776061776062,
          0.5870445344129555,
          0.6694444444444444,
          0.6222222222222222,
          0.6185897435897436,
          0.6470588235294117,
          0.7088274044795784,
          0.6812499999999999,
          0.6812499999999999,
          0.619235836627141,
          0.6222222222222222,
          0.5901785714285713
         ],
         "xaxis": "x",
         "y": [
          0.7327586206896552,
          0.6217105263157895,
          0.6186868686868687,
          0.6743421052631579,
          0.6323529411764706,
          0.7142857142857143,
          0.6943548387096774,
          0.669407894736842,
          0.719047619047619,
          0.6161616161616161,
          0.6943548387096774,
          0.6464646464646464,
          0.7058823529411764,
          0.6868686868686869,
          0.7146464646464648,
          0.6166666666666667,
          0.6911764705882353,
          0.6193548387096774,
          0.6714285714285715,
          0.5934343434343434,
          0.6764705882352942,
          0.6323529411764706,
          0.5943548387096774,
          0.48888888888888893,
          0.715587044534413,
          0.6324013157894737,
          0.5883838383838383,
          0.5758928571428572,
          0.6767676767676767,
          0.7212171052631579,
          0.6693548387096775,
          0.6061776061776062,
          0.6443548387096775,
          0.669407894736842,
          0.6323529411764706,
          0.6480263157894737,
          0.6616071428571428,
          0.717741935483871,
          0.6017857142857144,
          0.5848214285714286,
          0.6776061776061776,
          0.61875,
          0.611111111111111,
          0.6430921052631579,
          0.7016129032258065,
          0.6743421052631579,
          0.6743421052631579,
          0.6238095238095238,
          0.6176470588235294,
          0.588235294117647
         ],
         "yaxis": "y"
        }
       ],
       "layout": {
        "legend": {
         "title": {
          "text": ""
         },
         "tracegroupgap": 0
        },
        "margin": {
         "b": 20,
         "l": 20,
         "r": 20,
         "t": 40
        },
        "template": {
         "data": {
          "bar": [
           {
            "error_x": {
             "color": "#2a3f5f"
            },
            "error_y": {
             "color": "#2a3f5f"
            },
            "marker": {
             "line": {
              "color": "#E5ECF6",
              "width": 0.5
             },
             "pattern": {
              "fillmode": "overlay",
              "size": 10,
              "solidity": 0.2
             }
            },
            "type": "bar"
           }
          ],
          "barpolar": [
           {
            "marker": {
             "line": {
              "color": "#E5ECF6",
              "width": 0.5
             },
             "pattern": {
              "fillmode": "overlay",
              "size": 10,
              "solidity": 0.2
             }
            },
            "type": "barpolar"
           }
          ],
          "carpet": [
           {
            "aaxis": {
             "endlinecolor": "#2a3f5f",
             "gridcolor": "white",
             "linecolor": "white",
             "minorgridcolor": "white",
             "startlinecolor": "#2a3f5f"
            },
            "baxis": {
             "endlinecolor": "#2a3f5f",
             "gridcolor": "white",
             "linecolor": "white",
             "minorgridcolor": "white",
             "startlinecolor": "#2a3f5f"
            },
            "type": "carpet"
           }
          ],
          "choropleth": [
           {
            "colorbar": {
             "outlinewidth": 0,
             "ticks": ""
            },
            "type": "choropleth"
           }
          ],
          "contour": [
           {
            "colorbar": {
             "outlinewidth": 0,
             "ticks": ""
            },
            "colorscale": [
             [
              0,
              "#0d0887"
             ],
             [
              0.1111111111111111,
              "#46039f"
             ],
             [
              0.2222222222222222,
              "#7201a8"
             ],
             [
              0.3333333333333333,
              "#9c179e"
             ],
             [
              0.4444444444444444,
              "#bd3786"
             ],
             [
              0.5555555555555556,
              "#d8576b"
             ],
             [
              0.6666666666666666,
              "#ed7953"
             ],
             [
              0.7777777777777778,
              "#fb9f3a"
             ],
             [
              0.8888888888888888,
              "#fdca26"
             ],
             [
              1,
              "#f0f921"
             ]
            ],
            "type": "contour"
           }
          ],
          "contourcarpet": [
           {
            "colorbar": {
             "outlinewidth": 0,
             "ticks": ""
            },
            "type": "contourcarpet"
           }
          ],
          "heatmap": [
           {
            "colorbar": {
             "outlinewidth": 0,
             "ticks": ""
            },
            "colorscale": [
             [
              0,
              "#0d0887"
             ],
             [
              0.1111111111111111,
              "#46039f"
             ],
             [
              0.2222222222222222,
              "#7201a8"
             ],
             [
              0.3333333333333333,
              "#9c179e"
             ],
             [
              0.4444444444444444,
              "#bd3786"
             ],
             [
              0.5555555555555556,
              "#d8576b"
             ],
             [
              0.6666666666666666,
              "#ed7953"
             ],
             [
              0.7777777777777778,
              "#fb9f3a"
             ],
             [
              0.8888888888888888,
              "#fdca26"
             ],
             [
              1,
              "#f0f921"
             ]
            ],
            "type": "heatmap"
           }
          ],
          "heatmapgl": [
           {
            "colorbar": {
             "outlinewidth": 0,
             "ticks": ""
            },
            "colorscale": [
             [
              0,
              "#0d0887"
             ],
             [
              0.1111111111111111,
              "#46039f"
             ],
             [
              0.2222222222222222,
              "#7201a8"
             ],
             [
              0.3333333333333333,
              "#9c179e"
             ],
             [
              0.4444444444444444,
              "#bd3786"
             ],
             [
              0.5555555555555556,
              "#d8576b"
             ],
             [
              0.6666666666666666,
              "#ed7953"
             ],
             [
              0.7777777777777778,
              "#fb9f3a"
             ],
             [
              0.8888888888888888,
              "#fdca26"
             ],
             [
              1,
              "#f0f921"
             ]
            ],
            "type": "heatmapgl"
           }
          ],
          "histogram": [
           {
            "marker": {
             "pattern": {
              "fillmode": "overlay",
              "size": 10,
              "solidity": 0.2
             }
            },
            "type": "histogram"
           }
          ],
          "histogram2d": [
           {
            "colorbar": {
             "outlinewidth": 0,
             "ticks": ""
            },
            "colorscale": [
             [
              0,
              "#0d0887"
             ],
             [
              0.1111111111111111,
              "#46039f"
             ],
             [
              0.2222222222222222,
              "#7201a8"
             ],
             [
              0.3333333333333333,
              "#9c179e"
             ],
             [
              0.4444444444444444,
              "#bd3786"
             ],
             [
              0.5555555555555556,
              "#d8576b"
             ],
             [
              0.6666666666666666,
              "#ed7953"
             ],
             [
              0.7777777777777778,
              "#fb9f3a"
             ],
             [
              0.8888888888888888,
              "#fdca26"
             ],
             [
              1,
              "#f0f921"
             ]
            ],
            "type": "histogram2d"
           }
          ],
          "histogram2dcontour": [
           {
            "colorbar": {
             "outlinewidth": 0,
             "ticks": ""
            },
            "colorscale": [
             [
              0,
              "#0d0887"
             ],
             [
              0.1111111111111111,
              "#46039f"
             ],
             [
              0.2222222222222222,
              "#7201a8"
             ],
             [
              0.3333333333333333,
              "#9c179e"
             ],
             [
              0.4444444444444444,
              "#bd3786"
             ],
             [
              0.5555555555555556,
              "#d8576b"
             ],
             [
              0.6666666666666666,
              "#ed7953"
             ],
             [
              0.7777777777777778,
              "#fb9f3a"
             ],
             [
              0.8888888888888888,
              "#fdca26"
             ],
             [
              1,
              "#f0f921"
             ]
            ],
            "type": "histogram2dcontour"
           }
          ],
          "mesh3d": [
           {
            "colorbar": {
             "outlinewidth": 0,
             "ticks": ""
            },
            "type": "mesh3d"
           }
          ],
          "parcoords": [
           {
            "line": {
             "colorbar": {
              "outlinewidth": 0,
              "ticks": ""
             }
            },
            "type": "parcoords"
           }
          ],
          "pie": [
           {
            "automargin": true,
            "type": "pie"
           }
          ],
          "scatter": [
           {
            "marker": {
             "colorbar": {
              "outlinewidth": 0,
              "ticks": ""
             }
            },
            "type": "scatter"
           }
          ],
          "scatter3d": [
           {
            "line": {
             "colorbar": {
              "outlinewidth": 0,
              "ticks": ""
             }
            },
            "marker": {
             "colorbar": {
              "outlinewidth": 0,
              "ticks": ""
             }
            },
            "type": "scatter3d"
           }
          ],
          "scattercarpet": [
           {
            "marker": {
             "colorbar": {
              "outlinewidth": 0,
              "ticks": ""
             }
            },
            "type": "scattercarpet"
           }
          ],
          "scattergeo": [
           {
            "marker": {
             "colorbar": {
              "outlinewidth": 0,
              "ticks": ""
             }
            },
            "type": "scattergeo"
           }
          ],
          "scattergl": [
           {
            "marker": {
             "colorbar": {
              "outlinewidth": 0,
              "ticks": ""
             }
            },
            "type": "scattergl"
           }
          ],
          "scattermapbox": [
           {
            "marker": {
             "colorbar": {
              "outlinewidth": 0,
              "ticks": ""
             }
            },
            "type": "scattermapbox"
           }
          ],
          "scatterpolar": [
           {
            "marker": {
             "colorbar": {
              "outlinewidth": 0,
              "ticks": ""
             }
            },
            "type": "scatterpolar"
           }
          ],
          "scatterpolargl": [
           {
            "marker": {
             "colorbar": {
              "outlinewidth": 0,
              "ticks": ""
             }
            },
            "type": "scatterpolargl"
           }
          ],
          "scatterternary": [
           {
            "marker": {
             "colorbar": {
              "outlinewidth": 0,
              "ticks": ""
             }
            },
            "type": "scatterternary"
           }
          ],
          "surface": [
           {
            "colorbar": {
             "outlinewidth": 0,
             "ticks": ""
            },
            "colorscale": [
             [
              0,
              "#0d0887"
             ],
             [
              0.1111111111111111,
              "#46039f"
             ],
             [
              0.2222222222222222,
              "#7201a8"
             ],
             [
              0.3333333333333333,
              "#9c179e"
             ],
             [
              0.4444444444444444,
              "#bd3786"
             ],
             [
              0.5555555555555556,
              "#d8576b"
             ],
             [
              0.6666666666666666,
              "#ed7953"
             ],
             [
              0.7777777777777778,
              "#fb9f3a"
             ],
             [
              0.8888888888888888,
              "#fdca26"
             ],
             [
              1,
              "#f0f921"
             ]
            ],
            "type": "surface"
           }
          ],
          "table": [
           {
            "cells": {
             "fill": {
              "color": "#EBF0F8"
             },
             "line": {
              "color": "white"
             }
            },
            "header": {
             "fill": {
              "color": "#C8D4E3"
             },
             "line": {
              "color": "white"
             }
            },
            "type": "table"
           }
          ]
         },
         "layout": {
          "annotationdefaults": {
           "arrowcolor": "#2a3f5f",
           "arrowhead": 0,
           "arrowwidth": 1
          },
          "autotypenumbers": "strict",
          "coloraxis": {
           "colorbar": {
            "outlinewidth": 0,
            "ticks": ""
           }
          },
          "colorscale": {
           "diverging": [
            [
             0,
             "#8e0152"
            ],
            [
             0.1,
             "#c51b7d"
            ],
            [
             0.2,
             "#de77ae"
            ],
            [
             0.3,
             "#f1b6da"
            ],
            [
             0.4,
             "#fde0ef"
            ],
            [
             0.5,
             "#f7f7f7"
            ],
            [
             0.6,
             "#e6f5d0"
            ],
            [
             0.7,
             "#b8e186"
            ],
            [
             0.8,
             "#7fbc41"
            ],
            [
             0.9,
             "#4d9221"
            ],
            [
             1,
             "#276419"
            ]
           ],
           "sequential": [
            [
             0,
             "#0d0887"
            ],
            [
             0.1111111111111111,
             "#46039f"
            ],
            [
             0.2222222222222222,
             "#7201a8"
            ],
            [
             0.3333333333333333,
             "#9c179e"
            ],
            [
             0.4444444444444444,
             "#bd3786"
            ],
            [
             0.5555555555555556,
             "#d8576b"
            ],
            [
             0.6666666666666666,
             "#ed7953"
            ],
            [
             0.7777777777777778,
             "#fb9f3a"
            ],
            [
             0.8888888888888888,
             "#fdca26"
            ],
            [
             1,
             "#f0f921"
            ]
           ],
           "sequentialminus": [
            [
             0,
             "#0d0887"
            ],
            [
             0.1111111111111111,
             "#46039f"
            ],
            [
             0.2222222222222222,
             "#7201a8"
            ],
            [
             0.3333333333333333,
             "#9c179e"
            ],
            [
             0.4444444444444444,
             "#bd3786"
            ],
            [
             0.5555555555555556,
             "#d8576b"
            ],
            [
             0.6666666666666666,
             "#ed7953"
            ],
            [
             0.7777777777777778,
             "#fb9f3a"
            ],
            [
             0.8888888888888888,
             "#fdca26"
            ],
            [
             1,
             "#f0f921"
            ]
           ]
          },
          "colorway": [
           "#636efa",
           "#EF553B",
           "#00cc96",
           "#ab63fa",
           "#FFA15A",
           "#19d3f3",
           "#FF6692",
           "#B6E880",
           "#FF97FF",
           "#FECB52"
          ],
          "font": {
           "color": "#2a3f5f"
          },
          "geo": {
           "bgcolor": "white",
           "lakecolor": "white",
           "landcolor": "#E5ECF6",
           "showlakes": true,
           "showland": true,
           "subunitcolor": "white"
          },
          "hoverlabel": {
           "align": "left"
          },
          "hovermode": "closest",
          "mapbox": {
           "style": "light"
          },
          "paper_bgcolor": "white",
          "plot_bgcolor": "#E5ECF6",
          "polar": {
           "angularaxis": {
            "gridcolor": "white",
            "linecolor": "white",
            "ticks": ""
           },
           "bgcolor": "#E5ECF6",
           "radialaxis": {
            "gridcolor": "white",
            "linecolor": "white",
            "ticks": ""
           }
          },
          "scene": {
           "xaxis": {
            "backgroundcolor": "#E5ECF6",
            "gridcolor": "white",
            "gridwidth": 2,
            "linecolor": "white",
            "showbackground": true,
            "ticks": "",
            "zerolinecolor": "white"
           },
           "yaxis": {
            "backgroundcolor": "#E5ECF6",
            "gridcolor": "white",
            "gridwidth": 2,
            "linecolor": "white",
            "showbackground": true,
            "ticks": "",
            "zerolinecolor": "white"
           },
           "zaxis": {
            "backgroundcolor": "#E5ECF6",
            "gridcolor": "white",
            "gridwidth": 2,
            "linecolor": "white",
            "showbackground": true,
            "ticks": "",
            "zerolinecolor": "white"
           }
          },
          "shapedefaults": {
           "line": {
            "color": "#2a3f5f"
           }
          },
          "ternary": {
           "aaxis": {
            "gridcolor": "white",
            "linecolor": "white",
            "ticks": ""
           },
           "baxis": {
            "gridcolor": "white",
            "linecolor": "white",
            "ticks": ""
           },
           "bgcolor": "#E5ECF6",
           "caxis": {
            "gridcolor": "white",
            "linecolor": "white",
            "ticks": ""
           }
          },
          "title": {
           "x": 0.05
          },
          "xaxis": {
           "automargin": true,
           "gridcolor": "white",
           "linecolor": "white",
           "ticks": "",
           "title": {
            "standoff": 15
           },
           "zerolinecolor": "white",
           "zerolinewidth": 2
          },
          "yaxis": {
           "automargin": true,
           "gridcolor": "white",
           "linecolor": "white",
           "ticks": "",
           "title": {
            "standoff": 15
           },
           "zerolinecolor": "white",
           "zerolinewidth": 2
          }
         }
        },
        "xaxis": {
         "anchor": "y",
         "domain": [
          0,
          1
         ],
         "range": [
          0.30136986301369856,
          1.1
         ],
         "title": {
          "text": "f1_macro"
         }
        },
        "yaxis": {
         "anchor": "x",
         "domain": [
          0,
          1
         ],
         "range": [
          0,
          1.1
         ],
         "title": {
          "text": "recall_macro"
         }
        }
       }
      }
     },
     "metadata": {},
     "output_type": "display_data"
    },
    {
     "data": {
      "application/vnd.plotly.v1+json": {
       "config": {
        "plotlyServerURL": "https://plot.ly"
       },
       "data": [
        {
         "hovertemplate": "labels=Cristal 0% - c/error<br>f1_weighted=%{x}<br>recall_macro=%{y}<extra></extra>",
         "legendgroup": "Cristal 0% - c/error",
         "marker": {
          "color": "#636efa",
          "symbol": "circle"
         },
         "mode": "markers",
         "name": "Cristal 0% - c/error",
         "orientation": "v",
         "showlegend": true,
         "type": "scatter",
         "x": [
          0.525,
          0.532,
          0.546013986013986,
          0.48251748251748255,
          0.46946386946386953,
          0.49736842105263157,
          0.4220175438596491,
          0.5099265951439864,
          0.4164102564102564,
          0.4745679012345678,
          0.469873417721519,
          0.4711462450592886,
          0.5708499095840868,
          0.4345614035087719,
          0.46946386946386953,
          0.5086247086247087,
          0.48,
          0.42346666666666677,
          0.5577622377622378,
          0.46946386946386953,
          0.4220175438596491,
          0.3787012987012987,
          0.4937914406268837,
          0.44710526315789473,
          0.40675324675324676,
          0.44050632911392396,
          0.469873417721519,
          0.4898765432098766,
          0.5215132693393564,
          0.532,
          0.5099265951439864,
          0.48251748251748255,
          0.45518987341772144,
          0.4937914406268837,
          0.44999999999999996,
          0.5051851851851852,
          0.495,
          0.4711462450592886,
          0.44710526315789473,
          0.5070765521398433,
          0.4345614035087719,
          0.45833992094861664,
          0.5238095238095238,
          0.49951219512195116,
          0.3989333333333333,
          0.5342657342657343,
          0.42582278481012653,
          0.5086247086247087,
          0.42582278481012653,
          0.42582278481012653
         ],
         "xaxis": "x",
         "y": [
          0.42857142857142855,
          0.5121527777777778,
          0.5365025466893039,
          0.5083333333333333,
          0.5238095238095238,
          0.5303776683087028,
          0.5217391304347826,
          0.5476190476190477,
          0.4827586206896552,
          0.5,
          0.453125,
          0.4916666666666667,
          0.5399305555555556,
          0.5048701298701299,
          0.5238095238095238,
          0.4809027777777778,
          0.46875,
          0.487012987012987,
          0.5243055555555556,
          0.5238095238095238,
          0.5217391304347826,
          0.5,
          0.525,
          0.4893267651888341,
          0.46551724137931033,
          0.48333333333333334,
          0.453125,
          0.484375,
          0.5333333333333333,
          0.5121527777777778,
          0.5476190476190477,
          0.5083333333333333,
          0.46774193548387094,
          0.525,
          0.5,
          0.4696969696969697,
          0.45454545454545453,
          0.4916666666666667,
          0.4893267651888341,
          0.5101867572156197,
          0.5048701298701299,
          0.506568144499179,
          0.6,
          0.5,
          0.5208333333333334,
          0.55,
          0.5,
          0.4809027777777778,
          0.5,
          0.5
         ],
         "yaxis": "y"
        },
        {
         "hovertemplate": "labels=Cristal 0% - s/error<br>f1_weighted=%{x}<br>recall_macro=%{y}<extra></extra>",
         "legendgroup": "Cristal 0% - s/error",
         "marker": {
          "color": "#EF553B",
          "symbol": "diamond"
         },
         "mode": "markers",
         "name": "Cristal 0% - s/error",
         "orientation": "v",
         "showlegend": true,
         "type": "scatter",
         "x": [
          1,
          0.9303092783505155,
          0.96,
          0.96,
          0.9496907216494845,
          0.9767697594501719,
          0.98989898989899,
          0.9818947368421054,
          0.9795918367346939,
          1,
          0.98989898989899,
          0.98989898989899,
          0.98989898989899,
          0.9695833333333332,
          1,
          0.9109278350515464,
          0.96,
          0.953758865248227,
          0.96,
          0.9786789554531491,
          0.9767697594501719,
          1,
          0.9767697594501719,
          0.96,
          0.9701010101010101,
          0.9662411347517731,
          0.9094736842105263,
          0.9200000000000002,
          0.9404081632653061,
          0.9786789554531491,
          0.96,
          0.96,
          0.96,
          0.98989898989899,
          0.9701010101010101,
          0.9781052631578947,
          1,
          0.96,
          0.953758865248227,
          0.9767697594501719,
          1,
          1,
          0.9109278350515464,
          0.9109278350515464,
          0.9701010101010101,
          1,
          0.9786789554531491,
          0.9818947368421054,
          1,
          0.96
         ],
         "xaxis": "x",
         "y": [
          1,
          0.4895833333333333,
          0.4897959183673469,
          0.7395833333333333,
          0.47959183673469385,
          0.75,
          0.49,
          0.9895833333333333,
          0.48,
          1,
          0.49,
          0.49,
          0.49,
          0.9795918367346939,
          0.5,
          0.5,
          0.4897959183673469,
          0.75,
          0.4897959183673469,
          0.875,
          0.75,
          1,
          0.75,
          0.4897959183673469,
          0.5,
          0.9791666666666667,
          0.46875,
          0.6453900709219859,
          0.5,
          0.875,
          0.4897959183673469,
          0.7395833333333333,
          0.4897959183673469,
          0.49,
          0.5,
          0.8333333333333333,
          1,
          0.7395833333333333,
          0.75,
          0.75,
          0.5,
          1,
          0.5,
          0.5,
          0.5,
          1,
          0.875,
          0.9895833333333333,
          1,
          0.7395833333333333
         ],
         "yaxis": "y"
        },
        {
         "hovertemplate": "labels=Cristal 2/10%<br>f1_weighted=%{x}<br>recall_macro=%{y}<extra></extra>",
         "legendgroup": "Cristal 2/10%",
         "marker": {
          "color": "#00cc96",
          "symbol": "square"
         },
         "mode": "markers",
         "name": "Cristal 2/10%",
         "orientation": "v",
         "showlegend": true,
         "type": "scatter",
         "x": [
          0.7852173913043479,
          0.7760797342192691,
          0.8000000000000002,
          0.7644444444444445,
          0.756923076923077,
          0.8462599469496022,
          0.7427272727272728,
          0.84,
          0.7871971706454466,
          0.810989010989011,
          0.8470329670329672,
          0.8141114058355438,
          0.8348235294117647,
          0.798488253319714,
          0.8000000000000002,
          0.8023342175066313,
          0.7712121212121213,
          0.7235714285714284,
          0.812829417773238,
          0.76,
          0.8062921348314606,
          0.8960163432073546,
          0.8348235294117647,
          0.7822222222222223,
          0.7456478405315616,
          0.8526315789473685,
          0.7568181818181818,
          0.8062921348314606,
          0.7905315379163714,
          0.8115555555555557,
          0.7328627450980393,
          0.7466666666666667,
          0.7424242424242423,
          0.8141114058355438,
          0.774945054945055,
          0.7822222222222223,
          0.774945054945055,
          0.76,
          0.7314942528735632,
          0.8470329670329672,
          0.810989010989011,
          0.7822222222222223,
          0.8119601328903654,
          0.7973333333333333,
          0.7856060606060605,
          0.7644444444444445,
          0.7712121212121213,
          0.8650549450549451,
          0.8692473118279571,
          0.8054545454545454
         ],
         "xaxis": "x",
         "y": [
          0.4883720930232558,
          0.5745257452574526,
          0.5265151515151515,
          0.46511627906976744,
          0.4880952380952381,
          0.6636904761904762,
          0.4418604651162791,
          0.6212121212121212,
          0.5151515151515151,
          0.45555555555555555,
          0.43617021276595747,
          0.5963455149501661,
          0.6818181818181819,
          0.5365448504983389,
          0.5265151515151515,
          0.5892857142857143,
          0.5267857142857143,
          0.5524475524475525,
          0.5378787878787878,
          0.5016611295681063,
          0.42391304347826086,
          0.7272727272727273,
          0.6818181818181819,
          0.45454545454545453,
          0.5029761904761905,
          0.5,
          0.5311653116531165,
          0.42391304347826086,
          0.6535087719298246,
          0.5481727574750831,
          0.49107142857142855,
          0.47619047619047616,
          0.5375,
          0.5963455149501661,
          0.47674418604651164,
          0.45454545454545453,
          0.47674418604651164,
          0.4318181818181818,
          0.43023255813953487,
          0.43617021276595747,
          0.45555555555555555,
          0.45454545454545453,
          0.5984848484848485,
          0.5505952380952381,
          0.5249169435215947,
          0.46511627906976744,
          0.5267857142857143,
          0.4270833333333333,
          0.4574468085106383,
          0.5989159891598916
         ],
         "yaxis": "y"
        },
        {
         "hovertemplate": "labels=Cristal 5/10%<br>f1_weighted=%{x}<br>recall_macro=%{y}<extra></extra>",
         "legendgroup": "Cristal 5/10%",
         "marker": {
          "color": "#ab63fa",
          "symbol": "x"
         },
         "mode": "markers",
         "name": "Cristal 5/10%",
         "orientation": "v",
         "showlegend": true,
         "type": "scatter",
         "x": [
          1,
          0.8896920175989944,
          0.9329386892177588,
          0.9324380620971892,
          0.977646229739253,
          0.9758421423537701,
          0.8054165440094201,
          0.8928922371437931,
          0.8947484500208297,
          0.8972515856236786,
          0.887396770161982,
          0.9336554917950267,
          0.852436323366556,
          0.9494492044063647,
          0.8604651162790697,
          0.84098051539912,
          0.8894258196583777,
          0.8912906345935488,
          0.8702074167190447,
          0.7925433739387227,
          0.9283982967572879,
          0.8604651162790697,
          0.8725826193390455,
          0.9069767441860465,
          0.9069767441860465,
          0.8988984088127295,
          0.935735342286276,
          0.8947484500208297,
          0.861169837914024,
          0.9069767441860465,
          0.8811435595471757,
          0.9123292727943891,
          0.887396770161982,
          0.8806638279288133,
          0.950812107788852,
          0.9021001298796776,
          0.9123292727943891,
          0.9336554917950267,
          0.950812107788852,
          0.8708340768056464,
          0.8972515856236786,
          0.8739202657807309,
          0.9534883720930233,
          0.8912906345935488,
          0.9069767441860465,
          0.85615221987315,
          0.8806638279288133,
          0.9534883720930233,
          0.950812107788852,
          0.9134716111460297
         ],
         "xaxis": "x",
         "y": [
          1,
          0.925,
          0.8736842105263158,
          0.8896396396396397,
          0.986842105263158,
          0.9166666666666667,
          0.47368421052631576,
          0.8626126126126126,
          0.8473684210526315,
          0.8237179487179487,
          0.7927927927927928,
          0.8493589743589743,
          0.7214285714285714,
          0.8333333333333333,
          0.7696428571428571,
          0.6732142857142858,
          0.7115384615384616,
          0.6291666666666667,
          0.7473684210526316,
          0.6372549019607843,
          0.8607142857142858,
          0.5865384615384616,
          0.6987179487179487,
          0.6416666666666666,
          0.8063063063063063,
          0.7364864864864865,
          0.9594594594594594,
          0.8473684210526315,
          0.6875,
          0.8063063063063063,
          0.803921568627451,
          0.8761261261261262,
          0.7927927927927928,
          0.7839285714285714,
          0.875,
          0.9358974358974359,
          0.8761261261261262,
          0.8493589743589743,
          0.875,
          0.7727272727272727,
          0.8237179487179487,
          0.8490990990990992,
          0.9146825396825397,
          0.6291666666666667,
          0.7243589743589743,
          0.6858974358974359,
          0.7839285714285714,
          0.9031531531531531,
          0.875,
          0.8605263157894737
         ],
         "yaxis": "y"
        },
        {
         "hovertemplate": "labels=Cristal 8/10%<br>f1_weighted=%{x}<br>recall_macro=%{y}<extra></extra>",
         "legendgroup": "Cristal 8/10%",
         "marker": {
          "color": "#FFA15A",
          "symbol": "cross"
         },
         "mode": "markers",
         "name": "Cristal 8/10%",
         "orientation": "v",
         "showlegend": true,
         "type": "scatter",
         "x": [
          0.8128,
          0.76,
          0.84,
          0.8422816399286986,
          0.8430476190476192,
          0.7702290790088827,
          0.7722983257229831,
          0.8049896049896051,
          0.7956349206349206,
          0.8311921458625525,
          0.8213839891451831,
          0.84,
          0.7330715287517532,
          0.8,
          0.786731423020884,
          0.8158480325644504,
          0.8024305555555555,
          0.8079999999999999,
          0.7825672247590056,
          0.7877016742770167,
          0.7547619047619049,
          0.8152033660589061,
          0.8215988779803647,
          0.7780458158017766,
          0.8087301587301587,
          0.839209486166008,
          0.8213839891451831,
          0.7645714285714286,
          0.7200000000000002,
          0.8320166320166321,
          0.7814505494505495,
          0.8434920634920635,
          0.76,
          0.8553846153846153,
          0.8213839891451831,
          0.7819541841982235,
          0.7822438076736279,
          0.8747619047619049,
          0.7961904761904762,
          0.7819541841982235,
          0.7858625525946704,
          0.7491019786910199,
          0.7663207106124358,
          0.818996138996139,
          0.7160071301247772,
          0.6920056100981766,
          0.753157894736842,
          0.8038095238095238,
          0.7639705882352942,
          0.786731423020884
         ],
         "xaxis": "x",
         "y": [
          0.7440476190476191,
          0.7023809523809523,
          0.8015873015873016,
          0.8327205882352942,
          0.8234126984126984,
          0.7309027777777778,
          0.7095238095238094,
          0.7543859649122806,
          0.7428571428571429,
          0.8530701754385965,
          0.8014705882352942,
          0.7920997920997921,
          0.6889483065953654,
          0.751984126984127,
          0.7515592515592515,
          0.7864583333333333,
          0.7914438502673797,
          0.7380952380952381,
          0.7266112266112266,
          0.7412280701754386,
          0.6952380952380952,
          0.7780748663101604,
          0.7952380952380952,
          0.7389705882352942,
          0.7828947368421053,
          0.8422619047619048,
          0.8014705882352942,
          0.7242063492063493,
          0.6666666666666667,
          0.7714285714285714,
          0.7620320855614974,
          0.817047817047817,
          0.6710526315789473,
          0.8333333333333333,
          0.8014705882352942,
          0.7476190476190476,
          0.7380952380952381,
          0.8290441176470589,
          0.7536764705882353,
          0.7476190476190476,
          0.7599206349206349,
          0.6864035087719298,
          0.730899830220713,
          0.8039049235993209,
          0.6840277777777778,
          0.6443850267379679,
          0.6632016632016633,
          0.7738095238095238,
          0.7333333333333334,
          0.7515592515592515
         ],
         "yaxis": "y"
        },
        {
         "hovertemplate": "labels=Cristal 5/30%<br>f1_weighted=%{x}<br>recall_macro=%{y}<extra></extra>",
         "legendgroup": "Cristal 5/30%",
         "marker": {
          "color": "#19d3f3",
          "symbol": "circle"
         },
         "mode": "markers",
         "name": "Cristal 5/30%",
         "orientation": "v",
         "showlegend": true,
         "type": "scatter",
         "x": [
          0.41279669762641896,
          0.47257383966244726,
          0.4575163398692811,
          0.41006974353274617,
          0.4698737794713027,
          0.41049146931499875,
          0.4820168067226891,
          0.4256965944272446,
          0.3618697478991597,
          0.3663712060166532,
          0.4266666666666667,
          0.44063180827886717,
          0.4936889735651346,
          0.43360587478234536,
          0.4514963880288957,
          0.4941991341991341,
          0.48647307024075453,
          0.42228783405253995,
          0.47953522149600575,
          0.4369747899159663,
          0.5111111111111112,
          0.4579661824243868,
          0.45624195624195624,
          0.45624195624195624,
          0.4579661824243868,
          0.4741448776014894,
          0.41411764705882353,
          0.3880630192558838,
          0.44063180827886717,
          0.41006974353274617,
          0.4449239155121508,
          0.4514963880288957,
          0.5311275858719933,
          0.4256965944272446,
          0.46395657932516404,
          0.47953522149600575,
          0.4454698242933537,
          0.4575163398692811,
          0.4741448776014894,
          0.3998968008255934,
          0.4458968772694263,
          0.3545527800161159,
          0.5099128540305011,
          0.43859649122807026,
          0.4615384615384615,
          0.4256965944272446,
          0.45867460908414,
          0.47953522149600575,
          0.44063180827886717,
          0.44695378151260506
         ],
         "xaxis": "x",
         "y": [
          0.390625,
          0.4117647058823529,
          0.4065656565656566,
          0.3959677419354839,
          0.4217171717171717,
          0.41935483870967744,
          0.4368686868686869,
          0.3787878787878788,
          0.3571428571428571,
          0.3548387096774194,
          0.35294117647058826,
          0.42096774193548386,
          0.40267857142857144,
          0.4013157894736842,
          0.35714285714285715,
          0.4264705882352941,
          0.4,
          0.4120967741935484,
          0.4693548387096774,
          0.3939393939393939,
          0.44117647058823534,
          0.4325657894736842,
          0.3823529411764706,
          0.3823529411764706,
          0.4325657894736842,
          0.4191919191919192,
          0.36363636363636365,
          0.41927899686520376,
          0.42096774193548386,
          0.3959677419354839,
          0.39141414141414144,
          0.35714285714285715,
          0.4455357142857143,
          0.3787878787878788,
          0.4276315789473684,
          0.4693548387096774,
          0.4738095238095238,
          0.4065656565656566,
          0.4191919191919192,
          0.4032258064516129,
          0.4169407894736842,
          0.36666666666666664,
          0.5219435736677116,
          0.36764705882352944,
          0.39705882352941174,
          0.3787878787878788,
          0.42424242424242425,
          0.4693548387096774,
          0.42096774193548386,
          0.4380952380952381
         ],
         "yaxis": "y"
        },
        {
         "hovertemplate": "labels=Cristal 15/30%<br>f1_weighted=%{x}<br>recall_macro=%{y}<extra></extra>",
         "legendgroup": "Cristal 15/30%",
         "marker": {
          "color": "#FF6692",
          "symbol": "diamond"
         },
         "mode": "markers",
         "name": "Cristal 15/30%",
         "orientation": "v",
         "showlegend": true,
         "type": "scatter",
         "x": [
          0.5794466403162055,
          0.5095652173913043,
          0.5201754385964912,
          0.635726080621661,
          0.5642666666666667,
          0.48480000000000006,
          0.5678599661208357,
          0.5095652173913043,
          0.544686617730096,
          0.5845333333333333,
          0.6029813664596273,
          0.5072,
          0.604074844074844,
          0.6085714285714287,
          0.5072,
          0.571222729578894,
          0.4768831168831168,
          0.5678599661208357,
          0.5072,
          0.518095238095238,
          0.5501039501039502,
          0.49168949771689496,
          0.6010666666666665,
          0.5946232670283303,
          0.5501039501039502,
          0.5399999999999999,
          0.5330999435347262,
          0.5347319347319348,
          0.5543859649122806,
          0.531578947368421,
          0.5563492063492064,
          0.5358904109589041,
          0.5162861491628615,
          0.496,
          0.5160914760914761,
          0.5401247401247402,
          0.5358024691358024,
          0.5328800388538126,
          0.5477855477855477,
          0.6241164241164241,
          0.5886842105263158,
          0.5469318866787221,
          0.582870500233754,
          0.5184,
          0.4882051282051282,
          0.5562732919254657,
          0.608422120750888,
          0.613056133056133,
          0.5347319347319348,
          0.595093555093555
         ],
         "xaxis": "x",
         "y": [
          0.48095238095238096,
          0.4536541889483066,
          0.5042444821731749,
          0.5885416666666666,
          0.5208333333333334,
          0.4233511586452763,
          0.4889705882352941,
          0.4536541889483066,
          0.5086805555555556,
          0.5055147058823529,
          0.5427807486631016,
          0.48811544991511036,
          0.5418894830659536,
          0.5607638888888888,
          0.48811544991511036,
          0.5407470288624787,
          0.39705882352941174,
          0.4889705882352941,
          0.48811544991511036,
          0.5,
          0.5052083333333334,
          0.4461805555555556,
          0.5730050933786077,
          0.5183823529411764,
          0.5052083333333334,
          0.4166666666666667,
          0.5203735144312394,
          0.4577205882352941,
          0.4742647058823529,
          0.4930555555555556,
          0.5246179966044142,
          0.4895833333333333,
          0.5083333333333333,
          0.5,
          0.45276292335115864,
          0.5144312393887945,
          0.44285714285714284,
          0.5166666666666667,
          0.44761904761904764,
          0.6083333333333334,
          0.5276292335115864,
          0.4724264705882353,
          0.5738916256157636,
          0.4774305555555556,
          0.4117647058823529,
          0.4982174688057041,
          0.5916666666666667,
          0.5367647058823529,
          0.4577205882352941,
          0.5486111111111112
         ],
         "yaxis": "y"
        },
        {
         "hovertemplate": "labels=Cristal 25/30%<br>f1_weighted=%{x}<br>recall_macro=%{y}<extra></extra>",
         "legendgroup": "Cristal 25/30%",
         "marker": {
          "color": "#B6E880",
          "symbol": "square"
         },
         "mode": "markers",
         "name": "Cristal 25/30%",
         "orientation": "v",
         "showlegend": true,
         "type": "scatter",
         "x": [
          0.7474048442906575,
          0.6618736383442265,
          0.6679738562091503,
          0.7115196078431372,
          0.6977058029689609,
          0.7372549019607842,
          0.7185581303228363,
          0.6998620343659853,
          0.7376788553259142,
          0.6587615283267457,
          0.7185581303228363,
          0.6925194430339151,
          0.7430830039525691,
          0.7214532871972319,
          0.7433588360717422,
          0.6954248366013073,
          0.7381493260639103,
          0.6482213438735179,
          0.6918349429323969,
          0.6465825196475351,
          0.7318532514564636,
          0.6977058029689609,
          0.6231092436974789,
          0.5879971421767086,
          0.7699295934590051,
          0.6703081232492997,
          0.6350840336134455,
          0.6303960319305587,
          0.7265553363527745,
          0.7641408949030722,
          0.6958484886491911,
          0.6862745098039216,
          0.6724336793540945,
          0.6998620343659853,
          0.6905999055266888,
          0.6871742790710105,
          0.729992737835875,
          0.7487394957983193,
          0.6723446135210841,
          0.6624593157100898,
          0.7308278867102396,
          0.6801742919389978,
          0.7017345399698339,
          0.6770472895040369,
          0.7309927923738664,
          0.7115196078431372,
          0.7115196078431372,
          0.6429512516469038,
          0.6740740740740742,
          0.6410714285714285
         ],
         "xaxis": "x",
         "y": [
          0.7327586206896552,
          0.6217105263157895,
          0.6186868686868687,
          0.6743421052631579,
          0.6323529411764706,
          0.7142857142857143,
          0.6943548387096774,
          0.669407894736842,
          0.719047619047619,
          0.6161616161616161,
          0.6943548387096774,
          0.6464646464646464,
          0.7058823529411764,
          0.6868686868686869,
          0.7146464646464648,
          0.6166666666666667,
          0.6911764705882353,
          0.6193548387096774,
          0.6714285714285715,
          0.5934343434343434,
          0.6764705882352942,
          0.6323529411764706,
          0.5943548387096774,
          0.48888888888888893,
          0.715587044534413,
          0.6324013157894737,
          0.5883838383838383,
          0.5758928571428572,
          0.6767676767676767,
          0.7212171052631579,
          0.6693548387096775,
          0.6061776061776062,
          0.6443548387096775,
          0.669407894736842,
          0.6323529411764706,
          0.6480263157894737,
          0.6616071428571428,
          0.717741935483871,
          0.6017857142857144,
          0.5848214285714286,
          0.6776061776061776,
          0.61875,
          0.611111111111111,
          0.6430921052631579,
          0.7016129032258065,
          0.6743421052631579,
          0.6743421052631579,
          0.6238095238095238,
          0.6176470588235294,
          0.588235294117647
         ],
         "yaxis": "y"
        }
       ],
       "layout": {
        "legend": {
         "title": {
          "text": ""
         },
         "tracegroupgap": 0
        },
        "margin": {
         "b": 20,
         "l": 20,
         "r": 20,
         "t": 40
        },
        "template": {
         "data": {
          "bar": [
           {
            "error_x": {
             "color": "#2a3f5f"
            },
            "error_y": {
             "color": "#2a3f5f"
            },
            "marker": {
             "line": {
              "color": "#E5ECF6",
              "width": 0.5
             },
             "pattern": {
              "fillmode": "overlay",
              "size": 10,
              "solidity": 0.2
             }
            },
            "type": "bar"
           }
          ],
          "barpolar": [
           {
            "marker": {
             "line": {
              "color": "#E5ECF6",
              "width": 0.5
             },
             "pattern": {
              "fillmode": "overlay",
              "size": 10,
              "solidity": 0.2
             }
            },
            "type": "barpolar"
           }
          ],
          "carpet": [
           {
            "aaxis": {
             "endlinecolor": "#2a3f5f",
             "gridcolor": "white",
             "linecolor": "white",
             "minorgridcolor": "white",
             "startlinecolor": "#2a3f5f"
            },
            "baxis": {
             "endlinecolor": "#2a3f5f",
             "gridcolor": "white",
             "linecolor": "white",
             "minorgridcolor": "white",
             "startlinecolor": "#2a3f5f"
            },
            "type": "carpet"
           }
          ],
          "choropleth": [
           {
            "colorbar": {
             "outlinewidth": 0,
             "ticks": ""
            },
            "type": "choropleth"
           }
          ],
          "contour": [
           {
            "colorbar": {
             "outlinewidth": 0,
             "ticks": ""
            },
            "colorscale": [
             [
              0,
              "#0d0887"
             ],
             [
              0.1111111111111111,
              "#46039f"
             ],
             [
              0.2222222222222222,
              "#7201a8"
             ],
             [
              0.3333333333333333,
              "#9c179e"
             ],
             [
              0.4444444444444444,
              "#bd3786"
             ],
             [
              0.5555555555555556,
              "#d8576b"
             ],
             [
              0.6666666666666666,
              "#ed7953"
             ],
             [
              0.7777777777777778,
              "#fb9f3a"
             ],
             [
              0.8888888888888888,
              "#fdca26"
             ],
             [
              1,
              "#f0f921"
             ]
            ],
            "type": "contour"
           }
          ],
          "contourcarpet": [
           {
            "colorbar": {
             "outlinewidth": 0,
             "ticks": ""
            },
            "type": "contourcarpet"
           }
          ],
          "heatmap": [
           {
            "colorbar": {
             "outlinewidth": 0,
             "ticks": ""
            },
            "colorscale": [
             [
              0,
              "#0d0887"
             ],
             [
              0.1111111111111111,
              "#46039f"
             ],
             [
              0.2222222222222222,
              "#7201a8"
             ],
             [
              0.3333333333333333,
              "#9c179e"
             ],
             [
              0.4444444444444444,
              "#bd3786"
             ],
             [
              0.5555555555555556,
              "#d8576b"
             ],
             [
              0.6666666666666666,
              "#ed7953"
             ],
             [
              0.7777777777777778,
              "#fb9f3a"
             ],
             [
              0.8888888888888888,
              "#fdca26"
             ],
             [
              1,
              "#f0f921"
             ]
            ],
            "type": "heatmap"
           }
          ],
          "heatmapgl": [
           {
            "colorbar": {
             "outlinewidth": 0,
             "ticks": ""
            },
            "colorscale": [
             [
              0,
              "#0d0887"
             ],
             [
              0.1111111111111111,
              "#46039f"
             ],
             [
              0.2222222222222222,
              "#7201a8"
             ],
             [
              0.3333333333333333,
              "#9c179e"
             ],
             [
              0.4444444444444444,
              "#bd3786"
             ],
             [
              0.5555555555555556,
              "#d8576b"
             ],
             [
              0.6666666666666666,
              "#ed7953"
             ],
             [
              0.7777777777777778,
              "#fb9f3a"
             ],
             [
              0.8888888888888888,
              "#fdca26"
             ],
             [
              1,
              "#f0f921"
             ]
            ],
            "type": "heatmapgl"
           }
          ],
          "histogram": [
           {
            "marker": {
             "pattern": {
              "fillmode": "overlay",
              "size": 10,
              "solidity": 0.2
             }
            },
            "type": "histogram"
           }
          ],
          "histogram2d": [
           {
            "colorbar": {
             "outlinewidth": 0,
             "ticks": ""
            },
            "colorscale": [
             [
              0,
              "#0d0887"
             ],
             [
              0.1111111111111111,
              "#46039f"
             ],
             [
              0.2222222222222222,
              "#7201a8"
             ],
             [
              0.3333333333333333,
              "#9c179e"
             ],
             [
              0.4444444444444444,
              "#bd3786"
             ],
             [
              0.5555555555555556,
              "#d8576b"
             ],
             [
              0.6666666666666666,
              "#ed7953"
             ],
             [
              0.7777777777777778,
              "#fb9f3a"
             ],
             [
              0.8888888888888888,
              "#fdca26"
             ],
             [
              1,
              "#f0f921"
             ]
            ],
            "type": "histogram2d"
           }
          ],
          "histogram2dcontour": [
           {
            "colorbar": {
             "outlinewidth": 0,
             "ticks": ""
            },
            "colorscale": [
             [
              0,
              "#0d0887"
             ],
             [
              0.1111111111111111,
              "#46039f"
             ],
             [
              0.2222222222222222,
              "#7201a8"
             ],
             [
              0.3333333333333333,
              "#9c179e"
             ],
             [
              0.4444444444444444,
              "#bd3786"
             ],
             [
              0.5555555555555556,
              "#d8576b"
             ],
             [
              0.6666666666666666,
              "#ed7953"
             ],
             [
              0.7777777777777778,
              "#fb9f3a"
             ],
             [
              0.8888888888888888,
              "#fdca26"
             ],
             [
              1,
              "#f0f921"
             ]
            ],
            "type": "histogram2dcontour"
           }
          ],
          "mesh3d": [
           {
            "colorbar": {
             "outlinewidth": 0,
             "ticks": ""
            },
            "type": "mesh3d"
           }
          ],
          "parcoords": [
           {
            "line": {
             "colorbar": {
              "outlinewidth": 0,
              "ticks": ""
             }
            },
            "type": "parcoords"
           }
          ],
          "pie": [
           {
            "automargin": true,
            "type": "pie"
           }
          ],
          "scatter": [
           {
            "marker": {
             "colorbar": {
              "outlinewidth": 0,
              "ticks": ""
             }
            },
            "type": "scatter"
           }
          ],
          "scatter3d": [
           {
            "line": {
             "colorbar": {
              "outlinewidth": 0,
              "ticks": ""
             }
            },
            "marker": {
             "colorbar": {
              "outlinewidth": 0,
              "ticks": ""
             }
            },
            "type": "scatter3d"
           }
          ],
          "scattercarpet": [
           {
            "marker": {
             "colorbar": {
              "outlinewidth": 0,
              "ticks": ""
             }
            },
            "type": "scattercarpet"
           }
          ],
          "scattergeo": [
           {
            "marker": {
             "colorbar": {
              "outlinewidth": 0,
              "ticks": ""
             }
            },
            "type": "scattergeo"
           }
          ],
          "scattergl": [
           {
            "marker": {
             "colorbar": {
              "outlinewidth": 0,
              "ticks": ""
             }
            },
            "type": "scattergl"
           }
          ],
          "scattermapbox": [
           {
            "marker": {
             "colorbar": {
              "outlinewidth": 0,
              "ticks": ""
             }
            },
            "type": "scattermapbox"
           }
          ],
          "scatterpolar": [
           {
            "marker": {
             "colorbar": {
              "outlinewidth": 0,
              "ticks": ""
             }
            },
            "type": "scatterpolar"
           }
          ],
          "scatterpolargl": [
           {
            "marker": {
             "colorbar": {
              "outlinewidth": 0,
              "ticks": ""
             }
            },
            "type": "scatterpolargl"
           }
          ],
          "scatterternary": [
           {
            "marker": {
             "colorbar": {
              "outlinewidth": 0,
              "ticks": ""
             }
            },
            "type": "scatterternary"
           }
          ],
          "surface": [
           {
            "colorbar": {
             "outlinewidth": 0,
             "ticks": ""
            },
            "colorscale": [
             [
              0,
              "#0d0887"
             ],
             [
              0.1111111111111111,
              "#46039f"
             ],
             [
              0.2222222222222222,
              "#7201a8"
             ],
             [
              0.3333333333333333,
              "#9c179e"
             ],
             [
              0.4444444444444444,
              "#bd3786"
             ],
             [
              0.5555555555555556,
              "#d8576b"
             ],
             [
              0.6666666666666666,
              "#ed7953"
             ],
             [
              0.7777777777777778,
              "#fb9f3a"
             ],
             [
              0.8888888888888888,
              "#fdca26"
             ],
             [
              1,
              "#f0f921"
             ]
            ],
            "type": "surface"
           }
          ],
          "table": [
           {
            "cells": {
             "fill": {
              "color": "#EBF0F8"
             },
             "line": {
              "color": "white"
             }
            },
            "header": {
             "fill": {
              "color": "#C8D4E3"
             },
             "line": {
              "color": "white"
             }
            },
            "type": "table"
           }
          ]
         },
         "layout": {
          "annotationdefaults": {
           "arrowcolor": "#2a3f5f",
           "arrowhead": 0,
           "arrowwidth": 1
          },
          "autotypenumbers": "strict",
          "coloraxis": {
           "colorbar": {
            "outlinewidth": 0,
            "ticks": ""
           }
          },
          "colorscale": {
           "diverging": [
            [
             0,
             "#8e0152"
            ],
            [
             0.1,
             "#c51b7d"
            ],
            [
             0.2,
             "#de77ae"
            ],
            [
             0.3,
             "#f1b6da"
            ],
            [
             0.4,
             "#fde0ef"
            ],
            [
             0.5,
             "#f7f7f7"
            ],
            [
             0.6,
             "#e6f5d0"
            ],
            [
             0.7,
             "#b8e186"
            ],
            [
             0.8,
             "#7fbc41"
            ],
            [
             0.9,
             "#4d9221"
            ],
            [
             1,
             "#276419"
            ]
           ],
           "sequential": [
            [
             0,
             "#0d0887"
            ],
            [
             0.1111111111111111,
             "#46039f"
            ],
            [
             0.2222222222222222,
             "#7201a8"
            ],
            [
             0.3333333333333333,
             "#9c179e"
            ],
            [
             0.4444444444444444,
             "#bd3786"
            ],
            [
             0.5555555555555556,
             "#d8576b"
            ],
            [
             0.6666666666666666,
             "#ed7953"
            ],
            [
             0.7777777777777778,
             "#fb9f3a"
            ],
            [
             0.8888888888888888,
             "#fdca26"
            ],
            [
             1,
             "#f0f921"
            ]
           ],
           "sequentialminus": [
            [
             0,
             "#0d0887"
            ],
            [
             0.1111111111111111,
             "#46039f"
            ],
            [
             0.2222222222222222,
             "#7201a8"
            ],
            [
             0.3333333333333333,
             "#9c179e"
            ],
            [
             0.4444444444444444,
             "#bd3786"
            ],
            [
             0.5555555555555556,
             "#d8576b"
            ],
            [
             0.6666666666666666,
             "#ed7953"
            ],
            [
             0.7777777777777778,
             "#fb9f3a"
            ],
            [
             0.8888888888888888,
             "#fdca26"
            ],
            [
             1,
             "#f0f921"
            ]
           ]
          },
          "colorway": [
           "#636efa",
           "#EF553B",
           "#00cc96",
           "#ab63fa",
           "#FFA15A",
           "#19d3f3",
           "#FF6692",
           "#B6E880",
           "#FF97FF",
           "#FECB52"
          ],
          "font": {
           "color": "#2a3f5f"
          },
          "geo": {
           "bgcolor": "white",
           "lakecolor": "white",
           "landcolor": "#E5ECF6",
           "showlakes": true,
           "showland": true,
           "subunitcolor": "white"
          },
          "hoverlabel": {
           "align": "left"
          },
          "hovermode": "closest",
          "mapbox": {
           "style": "light"
          },
          "paper_bgcolor": "white",
          "plot_bgcolor": "#E5ECF6",
          "polar": {
           "angularaxis": {
            "gridcolor": "white",
            "linecolor": "white",
            "ticks": ""
           },
           "bgcolor": "#E5ECF6",
           "radialaxis": {
            "gridcolor": "white",
            "linecolor": "white",
            "ticks": ""
           }
          },
          "scene": {
           "xaxis": {
            "backgroundcolor": "#E5ECF6",
            "gridcolor": "white",
            "gridwidth": 2,
            "linecolor": "white",
            "showbackground": true,
            "ticks": "",
            "zerolinecolor": "white"
           },
           "yaxis": {
            "backgroundcolor": "#E5ECF6",
            "gridcolor": "white",
            "gridwidth": 2,
            "linecolor": "white",
            "showbackground": true,
            "ticks": "",
            "zerolinecolor": "white"
           },
           "zaxis": {
            "backgroundcolor": "#E5ECF6",
            "gridcolor": "white",
            "gridwidth": 2,
            "linecolor": "white",
            "showbackground": true,
            "ticks": "",
            "zerolinecolor": "white"
           }
          },
          "shapedefaults": {
           "line": {
            "color": "#2a3f5f"
           }
          },
          "ternary": {
           "aaxis": {
            "gridcolor": "white",
            "linecolor": "white",
            "ticks": ""
           },
           "baxis": {
            "gridcolor": "white",
            "linecolor": "white",
            "ticks": ""
           },
           "bgcolor": "#E5ECF6",
           "caxis": {
            "gridcolor": "white",
            "linecolor": "white",
            "ticks": ""
           }
          },
          "title": {
           "x": 0.05
          },
          "xaxis": {
           "automargin": true,
           "gridcolor": "white",
           "linecolor": "white",
           "ticks": "",
           "title": {
            "standoff": 15
           },
           "zerolinecolor": "white",
           "zerolinewidth": 2
          },
          "yaxis": {
           "automargin": true,
           "gridcolor": "white",
           "linecolor": "white",
           "ticks": "",
           "title": {
            "standoff": 15
           },
           "zerolinecolor": "white",
           "zerolinewidth": 2
          }
         }
        },
        "xaxis": {
         "anchor": "y",
         "domain": [
          0,
          1
         ],
         "range": [
          0.3545527800161159,
          1.1
         ],
         "title": {
          "text": "f1_weighted"
         }
        },
        "yaxis": {
         "anchor": "x",
         "domain": [
          0,
          1
         ],
         "range": [
          0,
          1.1
         ],
         "title": {
          "text": "recall_macro"
         }
        }
       }
      }
     },
     "metadata": {},
     "output_type": "display_data"
    },
    {
     "data": {
      "application/vnd.plotly.v1+json": {
       "config": {
        "plotlyServerURL": "https://plot.ly"
       },
       "data": [
        {
         "hovertemplate": "labels=Cristal 0% - c/error<br>matthew=%{x}<br>precision_macro=%{y}<extra></extra>",
         "legendgroup": "Cristal 0% - c/error",
         "marker": {
          "color": "#636efa",
          "symbol": "circle"
         },
         "mode": "markers",
         "name": "Cristal 0% - c/error",
         "orientation": "v",
         "showlegend": true,
         "type": "scatter",
         "x": [
          -0.2182178902359924,
          0.05953620902598002,
          0.14921114116371084,
          0.041666666666666664,
          0.16787704325514374,
          0.12626515651860062,
          0.15478181111027467,
          0.2398743057096415,
          -0.12156613477096617,
          0,
          -0.18948418223996677,
          -0.034380708208626445,
          0.16141245153774947,
          0.024673188560991335,
          0.16787704325514374,
          -0.06757756323766119,
          -0.15309310892394862,
          -0.05429002857547923,
          0.08600780775702334,
          0.16787704325514374,
          0.15478181111027467,
          0,
          0.1749635530559413,
          -0.044363433371400224,
          -0.1737020834449128,
          -0.11664236870396086,
          -0.18948418223996677,
          -0.10714285714285714,
          0.13752283283450578,
          0.05953620902598002,
          0.2398743057096415,
          0.041666666666666664,
          -0.15980498868496612,
          0.1749635530559413,
          0,
          -0.1465081788319221,
          -0.18133397807751273,
          -0.034380708208626445,
          -0.044363433371400224,
          0.05046473326893667,
          0.024673188560991335,
          0.03308611113236434,
          0.3333333333333333,
          0,
          0.1486904285332952,
          0.25,
          0,
          -0.06757756323766119,
          0,
          0
         ],
         "xaxis": "x",
         "y": [
          0.3333333333333333,
          0.5729166666666667,
          0.6524822695035462,
          0.5520833333333333,
          0.7959183673469388,
          0.6312056737588652,
          0.7755102040816326,
          0.8020833333333333,
          0.2857142857142857,
          0.31,
          0.30851063829787234,
          0.46453900709219853,
          0.6631205673758864,
          0.53125,
          0.7959183673469388,
          0.44021739130434784,
          0.3125,
          0.44326241134751776,
          0.5760869565217391,
          0.7959183673469388,
          0.7755102040816326,
          0.27,
          0.8061224489795918,
          0.45390070921985815,
          0.28125,
          0.29591836734693877,
          0.30851063829787234,
          0.3163265306122449,
          0.6418439716312057,
          0.5729166666666667,
          0.8020833333333333,
          0.5520833333333333,
          0.3020833333333333,
          0.8061224489795918,
          0.3,
          0.3229166666666667,
          0.3191489361702128,
          0.46453900709219853,
          0.45390070921985815,
          0.5625,
          0.53125,
          0.5416666666666667,
          0.7777777777777778,
          0.32,
          0.7653061224489797,
          0.8125,
          0.29,
          0.44021739130434784,
          0.29,
          0.29
         ],
         "yaxis": "y"
        },
        {
         "hovertemplate": "labels=Cristal 0% - s/error<br>matthew=%{x}<br>precision_macro=%{y}<extra></extra>",
         "legendgroup": "Cristal 0% - s/error",
         "marker": {
          "color": "#EF553B",
          "symbol": "diamond"
         },
         "mode": "markers",
         "name": "Cristal 0% - s/error",
         "orientation": "v",
         "showlegend": true,
         "type": "scatter",
         "x": [
          1,
          -0.029160592175990215,
          -0.02040816326530612,
          0.4791666666666667,
          -0.029160592175990215,
          0.6998542122237651,
          0,
          0.8079466429027216,
          0,
          1,
          0,
          0,
          0,
          0.5654448612875199,
          0,
          0,
          -0.02040816326530612,
          0.6922186552431729,
          -0.02040816326530612,
          0.8567628336893993,
          0.6998542122237651,
          1,
          0.6998542122237651,
          -0.02040816326530612,
          0,
          0.6922186552431729,
          -0.051571062312939675,
          0.2907801418439716,
          0,
          0.8567628336893993,
          -0.02040816326530612,
          0.4791666666666667,
          -0.02040816326530612,
          0,
          0,
          0.8079466429027216,
          1,
          0.4791666666666667,
          0.6922186552431729,
          0.6998542122237651,
          0,
          1,
          0,
          0,
          0,
          1,
          0.8567628336893993,
          0.8079466429027216,
          1,
          0.4791666666666667
         ],
         "xaxis": "x",
         "y": [
          1,
          0.47959183673469385,
          0.4897959183673469,
          0.7395833333333333,
          0.4895833333333333,
          0.9897959183673469,
          0.5,
          0.8333333333333333,
          0.5,
          1,
          0.5,
          0.5,
          0.5,
          0.6666666666666666,
          0.5,
          0.47,
          0.4897959183673469,
          0.9791666666666667,
          0.4897959183673469,
          0.9893617021276595,
          0.9897959183673469,
          1,
          0.9897959183673469,
          0.4897959183673469,
          0.49,
          0.75,
          0.4787234042553192,
          0.6453900709219859,
          0.48,
          0.9893617021276595,
          0.4897959183673469,
          0.7395833333333333,
          0.4897959183673469,
          0.5,
          0.49,
          0.9895833333333333,
          1,
          0.7395833333333333,
          0.9791666666666667,
          0.9897959183673469,
          0.5,
          1,
          0.47,
          0.47,
          0.49,
          1,
          0.9893617021276595,
          0.8333333333333333,
          1,
          0.7395833333333333
         ],
         "yaxis": "y"
        },
        {
         "hovertemplate": "labels=Cristal 2/10%<br>matthew=%{x}<br>precision_macro=%{y}<extra></extra>",
         "legendgroup": "Cristal 2/10%",
         "marker": {
          "color": "#00cc96",
          "symbol": "square"
         },
         "mode": "markers",
         "name": "Cristal 2/10%",
         "orientation": "v",
         "showlegend": true,
         "type": "scatter",
         "x": [
          -0.0576390417704235,
          0.1908790423082963,
          0.05303030303030303,
          -0.1019357424863305,
          -0.06234796863885496,
          0.40006613209931935,
          -0.1344910974643215,
          0.24242424242424243,
          0.028379502360565866,
          -0.09829463743659808,
          -0.09329556203566844,
          0.20575139211410254,
          0.30757857924351695,
          0.09348254376477573,
          0.05303030303030303,
          0.21821789023599236,
          0.07239256335987602,
          0.14484136487558028,
          0.08206099398622183,
          0.0033222591362126247,
          -0.11897778297335093,
          0.49236596391733095,
          0.30757857924351695,
          -0.10889310129609417,
          0.006715191366878169,
          0,
          0.10083355908925061,
          -0.11897778297335093,
          0.43707337873812385,
          0.14076840629064688,
          -0.018866805135549083,
          -0.0890870806374748,
          0.15309310892394865,
          0.20575139211410254,
          -0.08235864093362705,
          -0.10889310129609417,
          -0.08235864093362705,
          -0.13636363636363635,
          -0.1489923873929708,
          -0.09329556203566844,
          -0.09829463743659808,
          -0.10889310129609417,
          0.17459497553883238,
          0.18931004635463394,
          0.057639041770423505,
          -0.1019357424863305,
          0.07239256335987602,
          -0.08235864093362705,
          -0.07450111597299125,
          0.32003694841370844
         ],
         "xaxis": "x",
         "y": [
          0.42857142857142855,
          0.6222222222222222,
          0.5265151515151515,
          0.425531914893617,
          0.41836734693877553,
          0.7444444444444445,
          0.4222222222222222,
          0.6212121212121212,
          0.5132890365448505,
          0.44565217391304346,
          0.4659090909090909,
          0.6098484848484849,
          0.6300813008130082,
          0.5597826086956521,
          0.5265151515151515,
          0.6333333333333333,
          0.5489130434782609,
          0.6000000000000001,
          0.5444444444444444,
          0.5016611295681063,
          0.45348837209302323,
          0.7666666666666666,
          0.6300813008130082,
          0.43478260869565216,
          0.5037878787878788,
          0.45,
          0.5815602836879432,
          0.45348837209302323,
          0.8111111111111111,
          0.6028368794326241,
          0.49003322259136217,
          0.4166666666666667,
          0.65625,
          0.6098484848484849,
          0.4270833333333333,
          0.43478260869565216,
          0.4270833333333333,
          0.4318181818181818,
          0.42045454545454547,
          0.4659090909090909,
          0.44565217391304346,
          0.43478260869565216,
          0.5773809523809523,
          0.6770833333333333,
          0.5333333333333333,
          0.425531914893617,
          0.5489130434782609,
          0.47674418604651164,
          0.4673913043478261,
          0.7588652482269503
         ],
         "yaxis": "y"
        },
        {
         "hovertemplate": "labels=Cristal 5/10%<br>matthew=%{x}<br>precision_macro=%{y}<extra></extra>",
         "legendgroup": "Cristal 5/10%",
         "marker": {
          "color": "#ab63fa",
          "symbol": "x"
         },
         "mode": "markers",
         "name": "Cristal 5/10%",
         "orientation": "v",
         "showlegend": true,
         "type": "scatter",
         "x": [
          1,
          0.532290647422377,
          0.6914090450089235,
          0.7314242339309042,
          0.9007793896243018,
          0.9007793896243018,
          -0.08011544943070564,
          0.6177157511508089,
          0.5722925798859192,
          0.509399839996242,
          0.5496251468844945,
          0.6331219904495682,
          0.4973546494822858,
          0.7952852522702986,
          0.5392857142857143,
          0.4641201451752651,
          0.38335826944652757,
          0.22657332165431585,
          0.4295866560672141,
          0.34837082125540764,
          0.7604524849452532,
          0.17307692307692307,
          0.3331600381132332,
          0.2833333333333333,
          0.6126126126126126,
          0.5642226451917659,
          0.7826957343774225,
          0.5722925798859192,
          0.5728219618694801,
          0.6126126126126126,
          0.6354380478103606,
          0.6698244069640462,
          0.5496251468844945,
          0.598573985674729,
          0.8422941644458066,
          0.622466374565235,
          0.6698244069640462,
          0.6331219904495682,
          0.8422941644458066,
          0.686836568438571,
          0.509399839996242,
          0.5726618355902355,
          0.8293650793650794,
          0.22657332165431585,
          0.44871794871794873,
          0.2925266407899212,
          0.598573985674729,
          0.8063063063063063,
          0.8422941644458066,
          0.6260997008639184
         ],
         "xaxis": "x",
         "y": [
          1,
          0.6666666666666666,
          0.8198198198198199,
          0.8432539682539683,
          0.9166666666666667,
          0.986842105263158,
          0.43902439024390244,
          0.7630718954248366,
          0.7357142857142858,
          0.7003968253968254,
          0.7579365079365079,
          0.7868421052631579,
          0.7792792792792793,
          0.9743589743589743,
          0.7696428571428571,
          0.8108974358974359,
          0.6736842105263158,
          0.5993589743589743,
          0.6865079365079365,
          0.7210526315789474,
          0.9007936507936507,
          0.5865384615384616,
          0.6396396396396397,
          0.6416666666666666,
          0.8063063063063063,
          0.8365384615384616,
          0.8333333333333333,
          0.7357142857142858,
          0.9375,
          0.8063063063063063,
          0.8321428571428571,
          0.7982142857142858,
          0.7579365079365079,
          0.8154761904761905,
          0.972972972972973,
          0.7222222222222222,
          0.7982142857142858,
          0.7868421052631579,
          0.972972972972973,
          0.9324324324324325,
          0.7003968253968254,
          0.7348484848484849,
          0.9146825396825397,
          0.5993589743589743,
          0.7243589743589743,
          0.6150793650793651,
          0.8154761904761905,
          0.9031531531531531,
          0.972972972972973,
          0.7718253968253967
         ],
         "yaxis": "y"
        },
        {
         "hovertemplate": "labels=Cristal 8/10%<br>matthew=%{x}<br>precision_macro=%{y}<extra></extra>",
         "legendgroup": "Cristal 8/10%",
         "marker": {
          "color": "#FFA15A",
          "symbol": "cross"
         },
         "mode": "markers",
         "name": "Cristal 8/10%",
         "orientation": "v",
         "showlegend": true,
         "type": "scatter",
         "x": [
          0.529043268444822,
          0.40476190476190477,
          0.6031746031746031,
          0.6466925814748771,
          0.6225910625649935,
          0.5053565007845382,
          0.44963551562230825,
          0.48393863517770025,
          0.507443846646363,
          0.6213206715378389,
          0.5937354270767815,
          0.5841995841995842,
          0.3986935062145963,
          0.503968253968254,
          0.47308957489313735,
          0.600099198148979,
          0.5688642932790337,
          0.545544725589981,
          0.4427603144328724,
          0.44963551562230825,
          0.40794505318629176,
          0.5867564808441229,
          0.5800729211379678,
          0.4865127725673279,
          0.5180096315013587,
          0.5476190476190477,
          0.5937354270767815,
          0.4316122090174495,
          0.3333333333333333,
          0.6005325641789633,
          0.5171954053779176,
          0.6069426401064342,
          0.34210526315789475,
          0.7126966450997984,
          0.5937354270767815,
          0.4865127725673279,
          0.4665694748158435,
          0.7187885584398698,
          0.5271016357912215,
          0.4865127725673279,
          0.4927249935293596,
          0.3474456257081473,
          0.5248423063922117,
          0.6146305423917872,
          0.378726042189707,
          0.304662018899833,
          0.3456196834771014,
          0.5271016357912215,
          0.451445160805272,
          0.47308957489313735
         ],
         "xaxis": "x",
         "y": [
          0.7867132867132867,
          0.7023809523809523,
          0.8015873015873016,
          0.8142361111111112,
          0.7996323529411764,
          0.7765072765072765,
          0.7412280701754386,
          0.7301587301587301,
          0.7650727650727651,
          0.7733446519524618,
          0.7923351158645277,
          0.7920997920997921,
          0.7103174603174603,
          0.751984126984127,
          0.7224264705882353,
          0.8142857142857143,
          0.7775891341256367,
          0.8125,
          0.7162698412698413,
          0.7095238095238094,
          0.7130977130977132,
          0.8095238095238095,
          0.7849264705882353,
          0.7476190476190476,
          0.7371323529411764,
          0.719047619047619,
          0.7923351158645277,
          0.7077205882352942,
          0.6666666666666667,
          0.8321678321678322,
          0.7552083333333333,
          0.7904761904761904,
          0.6710526315789473,
          0.8809523809523809,
          0.7923351158645277,
          0.7389705882352942,
          0.7285714285714285,
          0.8925438596491229,
          0.7738095238095238,
          0.7389705882352942,
          0.7335115864527629,
          0.6619047619047619,
          0.7982456140350878,
          0.8107638888888888,
          0.6948529411764706,
          0.6607142857142857,
          0.682983682983683,
          0.7536764705882353,
          0.7183600713012478,
          0.7224264705882353
         ],
         "yaxis": "y"
        },
        {
         "hovertemplate": "labels=Cristal 5/30%<br>matthew=%{x}<br>precision_macro=%{y}<extra></extra>",
         "legendgroup": "Cristal 5/30%",
         "marker": {
          "color": "#19d3f3",
          "symbol": "circle"
         },
         "mode": "markers",
         "name": "Cristal 5/30%",
         "orientation": "v",
         "showlegend": true,
         "type": "scatter",
         "x": [
          -0.3073438258249664,
          -0.25819888974716115,
          -0.23425229605592243,
          -0.26646978138851163,
          -0.2057361008657358,
          -0.26481357066618805,
          -0.17534471586601352,
          -0.31855912392113933,
          -0.3418817293789138,
          -0.3718182996118767,
          -0.34921514788478913,
          -0.1943740584207147,
          -0.2274786048828384,
          -0.2503130871608794,
          -0.3339135484518729,
          -0.19062321291575585,
          -0.26967994498529685,
          -0.23602142705378917,
          -0.08695857085798968,
          -0.2945791226549027,
          -0.12725695259515554,
          -0.18949017832817475,
          -0.26967994498529685,
          -0.26967994498529685,
          -0.18949017832817475,
          -0.18778101072520811,
          -0.3418817293789138,
          -0.2323547349977405,
          -0.1943740584207147,
          -0.26646978138851163,
          -0.2613993837824278,
          -0.3339135484518729,
          -0.1468792557509206,
          -0.31855912392113933,
          -0.17625398874755244,
          -0.08695857085798968,
          -0.0958881060162309,
          -0.23425229605592243,
          -0.18778101072520811,
          -0.29329423004270655,
          -0.220846419633354,
          -0.36087748355852695,
          0.059767965222489984,
          -0.3273268353539886,
          -0.2820380374088831,
          -0.31855912392113933,
          -0.24349237677883698,
          -0.08695857085798968,
          -0.1943740584207147,
          -0.1481487493975293
         ],
         "xaxis": "x",
         "y": [
          0.2840909090909091,
          0.3111111111111111,
          0.35317460317460314,
          0.3293650793650794,
          0.3648255813953488,
          0.2826086956521739,
          0.3782467532467533,
          0.29069767441860467,
          0.29545454545454547,
          0.2619047619047619,
          0.2926829268292683,
          0.3804878048780488,
          0.3670731707317073,
          0.3412698412698413,
          0.3048780487804878,
          0.376453488372093,
          0.3181818181818182,
          0.34156976744186046,
          0.4383116883116883,
          0.29545454545454547,
          0.4311740890688259,
          0.3668831168831169,
          0.34545454545454546,
          0.34545454545454546,
          0.3668831168831169,
          0.3909090909090909,
          0.2857142857142857,
          0.33279220779220775,
          0.3804878048780488,
          0.3293650793650794,
          0.34268292682926826,
          0.3048780487804878,
          0.400974025974026,
          0.29069767441860467,
          0.3926829268292683,
          0.4383116883116883,
          0.4122340425531915,
          0.35317460317460314,
          0.3909090909090909,
          0.2777777777777778,
          0.35319767441860467,
          0.2558139534883721,
          0.5406976744186047,
          0.2976190476190476,
          0.3068181818181818,
          0.29069767441860467,
          0.30434782608695654,
          0.4383116883116883,
          0.3804878048780488,
          0.4113636363636364
         ],
         "yaxis": "y"
        },
        {
         "hovertemplate": "labels=Cristal 15/30%<br>matthew=%{x}<br>precision_macro=%{y}<extra></extra>",
         "legendgroup": "Cristal 15/30%",
         "marker": {
          "color": "#FF6692",
          "symbol": "diamond"
         },
         "mode": "markers",
         "name": "Cristal 15/30%",
         "orientation": "v",
         "showlegend": true,
         "type": "scatter",
         "x": [
          -0.047619047619047616,
          -0.13512009738500697,
          0.013734760723838819,
          0.20519193357373872,
          0.05763904177042349,
          -0.1980830807614969,
          -0.029655042337792793,
          -0.13512009738500697,
          0.027777777777777776,
          0.013391789600139505,
          0.12472624374000642,
          -0.03550327569057569,
          0.10330069518912881,
          0.14583333333333334,
          -0.03550327569057569,
          0.10789813828988204,
          -0.2767803951527327,
          -0.029655042337792793,
          -0.03550327569057569,
          0,
          0.013638618139749523,
          -0.13448296162629966,
          0.21809155067067923,
          0.05716619504750294,
          0.013638618139749523,
          -0.23028309323591917,
          0.07290287958392087,
          -0.12138259513971536,
          -0.06549210399944798,
          -0.020515248496555453,
          0.06220526827557169,
          -0.026028960314767677,
          0.023531040266750583,
          0,
          -0.11648801797923036,
          0.04037458080047401,
          -0.19304683562633607,
          0.04250511420422255,
          -0.1383565709940266,
          0.3266372899592439,
          0.0754391897792258,
          -0.08574929257125441,
          0.18234920215644926,
          -0.06244229525129212,
          -0.25332019855244947,
          -0.005196926822500268,
          0.2588414429342564,
          0.08574929257125442,
          -0.12138259513971536,
          0.1272937693043289
         ],
         "xaxis": "x",
         "y": [
          0.47023809523809523,
          0.4015151515151515,
          0.5111111111111111,
          0.6188811188811189,
          0.5398671096345515,
          0.37202380952380953,
          0.48006644518272423,
          0.4015151515151515,
          0.5222222222222223,
          0.508130081300813,
          0.5909090909090908,
          0.4734848484848485,
          0.5636856368563685,
          0.5875,
          0.4734848484848485,
          0.5714285714285714,
          0.313953488372093,
          0.48006644518272423,
          0.4734848484848485,
          0.5,
          0.5089285714285714,
          0.4159891598915989,
          0.6628787878787878,
          0.5444444444444445,
          0.5089285714285714,
          0.3409090909090909,
          0.5652173913043479,
          0.41287878787878785,
          0.4583333333333333,
          0.48484848484848486,
          0.5392953929539295,
          0.483739837398374,
          0.5166112956810631,
          0.5,
          0.4281842818428184,
          0.5282392026578073,
          0.33695652173913043,
          0.52710027100271,
          0.40863787375415284,
          0.7462121212121212,
          0.5514950166112956,
          0.43333333333333335,
          0.6125,
          0.4568106312292359,
          0.3181818181818182,
          0.4962121212121212,
          0.6827242524916943,
          0.55,
          0.41287878787878785,
          0.5833333333333333
         ],
         "yaxis": "y"
        },
        {
         "hovertemplate": "labels=Cristal 25/30%<br>matthew=%{x}<br>precision_macro=%{y}<extra></extra>",
         "legendgroup": "Cristal 25/30%",
         "marker": {
          "color": "#B6E880",
          "symbol": "square"
         },
         "mode": "markers",
         "name": "Cristal 25/30%",
         "orientation": "v",
         "showlegend": true,
         "type": "scatter",
         "x": [
          0.5435295789403037,
          0.2861433040115075,
          0.26742559061624327,
          0.3868303999991729,
          0.3273268353539886,
          0.5532833351724882,
          0.4090036505645337,
          0.3530379700126839,
          0.46467017049401693,
          0.24366266169609582,
          0.4090036505645337,
          0.32121258417153553,
          0.4183300132670377,
          0.3849158000916215,
          0.4351941398892446,
          0.25064020591380154,
          0.40389034790078004,
          0.2674252412015544,
          0.3781103770768154,
          0.24555599135587822,
          0.3922322702763681,
          0.3273268353539886,
          0.2172036356851301,
          -0.024618298195866545,
          0.41240056258641605,
          0.29377214339559826,
          0.18929153660765138,
          0.1494035761667992,
          0.4107709609613927,
          0.5387763974214955,
          0.36293309315564887,
          0.21235521235521235,
          0.3158583092791214,
          0.3530379700126839,
          0.29417420270727607,
          0.33744095299938565,
          0.36463489122148457,
          0.5012391592733771,
          0.22268343469578533,
          0.19826116939329952,
          0.3416323037980239,
          0.24694074133226726,
          0.2656063576298653,
          0.30366908351147925,
          0.4517318263539771,
          0.3868303999991729,
          0.3868303999991729,
          0.28729720245711154,
          0.2545139051903111,
          0.18257418583505536
         ],
         "xaxis": "x",
         "y": [
          0.8173076923076923,
          0.6681818181818182,
          0.6506410256410257,
          0.714574898785425,
          0.7023809523809523,
          0.8571428571428572,
          0.7151785714285714,
          0.6839285714285714,
          0.7464285714285714,
          0.6277777777777778,
          0.7151785714285714,
          0.6761133603238867,
          0.7125,
          0.6982142857142857,
          0.7205882352941176,
          0.6346153846153846,
          0.7133204633204633,
          0.6497975708502024,
          0.7084942084942085,
          0.6613372093023255,
          0.717948717948718,
          0.7023809523809523,
          0.625,
          0.48636363636363633,
          0.6972222222222222,
          0.6629554655870445,
          0.6013513513513513,
          0.5735294117647058,
          0.7386363636363636,
          0.828048780487805,
          0.6944444444444444,
          0.6061776061776062,
          0.6727799227799228,
          0.6839285714285714,
          0.6634615384615385,
          0.6923076923076923,
          0.7056818181818182,
          0.7884615384615385,
          0.6217948717948718,
          0.6158536585365854,
          0.6642857142857144,
          0.6283783783783784,
          0.6587301587301587,
          0.6611111111111111,
          0.7530364372469636,
          0.714574898785425,
          0.714574898785425,
          0.6666666666666666,
          0.6376518218623481,
          0.5944444444444444
         ],
         "yaxis": "y"
        }
       ],
       "layout": {
        "legend": {
         "title": {
          "text": ""
         },
         "tracegroupgap": 0
        },
        "margin": {
         "b": 20,
         "l": 20,
         "r": 20,
         "t": 40
        },
        "template": {
         "data": {
          "bar": [
           {
            "error_x": {
             "color": "#2a3f5f"
            },
            "error_y": {
             "color": "#2a3f5f"
            },
            "marker": {
             "line": {
              "color": "#E5ECF6",
              "width": 0.5
             },
             "pattern": {
              "fillmode": "overlay",
              "size": 10,
              "solidity": 0.2
             }
            },
            "type": "bar"
           }
          ],
          "barpolar": [
           {
            "marker": {
             "line": {
              "color": "#E5ECF6",
              "width": 0.5
             },
             "pattern": {
              "fillmode": "overlay",
              "size": 10,
              "solidity": 0.2
             }
            },
            "type": "barpolar"
           }
          ],
          "carpet": [
           {
            "aaxis": {
             "endlinecolor": "#2a3f5f",
             "gridcolor": "white",
             "linecolor": "white",
             "minorgridcolor": "white",
             "startlinecolor": "#2a3f5f"
            },
            "baxis": {
             "endlinecolor": "#2a3f5f",
             "gridcolor": "white",
             "linecolor": "white",
             "minorgridcolor": "white",
             "startlinecolor": "#2a3f5f"
            },
            "type": "carpet"
           }
          ],
          "choropleth": [
           {
            "colorbar": {
             "outlinewidth": 0,
             "ticks": ""
            },
            "type": "choropleth"
           }
          ],
          "contour": [
           {
            "colorbar": {
             "outlinewidth": 0,
             "ticks": ""
            },
            "colorscale": [
             [
              0,
              "#0d0887"
             ],
             [
              0.1111111111111111,
              "#46039f"
             ],
             [
              0.2222222222222222,
              "#7201a8"
             ],
             [
              0.3333333333333333,
              "#9c179e"
             ],
             [
              0.4444444444444444,
              "#bd3786"
             ],
             [
              0.5555555555555556,
              "#d8576b"
             ],
             [
              0.6666666666666666,
              "#ed7953"
             ],
             [
              0.7777777777777778,
              "#fb9f3a"
             ],
             [
              0.8888888888888888,
              "#fdca26"
             ],
             [
              1,
              "#f0f921"
             ]
            ],
            "type": "contour"
           }
          ],
          "contourcarpet": [
           {
            "colorbar": {
             "outlinewidth": 0,
             "ticks": ""
            },
            "type": "contourcarpet"
           }
          ],
          "heatmap": [
           {
            "colorbar": {
             "outlinewidth": 0,
             "ticks": ""
            },
            "colorscale": [
             [
              0,
              "#0d0887"
             ],
             [
              0.1111111111111111,
              "#46039f"
             ],
             [
              0.2222222222222222,
              "#7201a8"
             ],
             [
              0.3333333333333333,
              "#9c179e"
             ],
             [
              0.4444444444444444,
              "#bd3786"
             ],
             [
              0.5555555555555556,
              "#d8576b"
             ],
             [
              0.6666666666666666,
              "#ed7953"
             ],
             [
              0.7777777777777778,
              "#fb9f3a"
             ],
             [
              0.8888888888888888,
              "#fdca26"
             ],
             [
              1,
              "#f0f921"
             ]
            ],
            "type": "heatmap"
           }
          ],
          "heatmapgl": [
           {
            "colorbar": {
             "outlinewidth": 0,
             "ticks": ""
            },
            "colorscale": [
             [
              0,
              "#0d0887"
             ],
             [
              0.1111111111111111,
              "#46039f"
             ],
             [
              0.2222222222222222,
              "#7201a8"
             ],
             [
              0.3333333333333333,
              "#9c179e"
             ],
             [
              0.4444444444444444,
              "#bd3786"
             ],
             [
              0.5555555555555556,
              "#d8576b"
             ],
             [
              0.6666666666666666,
              "#ed7953"
             ],
             [
              0.7777777777777778,
              "#fb9f3a"
             ],
             [
              0.8888888888888888,
              "#fdca26"
             ],
             [
              1,
              "#f0f921"
             ]
            ],
            "type": "heatmapgl"
           }
          ],
          "histogram": [
           {
            "marker": {
             "pattern": {
              "fillmode": "overlay",
              "size": 10,
              "solidity": 0.2
             }
            },
            "type": "histogram"
           }
          ],
          "histogram2d": [
           {
            "colorbar": {
             "outlinewidth": 0,
             "ticks": ""
            },
            "colorscale": [
             [
              0,
              "#0d0887"
             ],
             [
              0.1111111111111111,
              "#46039f"
             ],
             [
              0.2222222222222222,
              "#7201a8"
             ],
             [
              0.3333333333333333,
              "#9c179e"
             ],
             [
              0.4444444444444444,
              "#bd3786"
             ],
             [
              0.5555555555555556,
              "#d8576b"
             ],
             [
              0.6666666666666666,
              "#ed7953"
             ],
             [
              0.7777777777777778,
              "#fb9f3a"
             ],
             [
              0.8888888888888888,
              "#fdca26"
             ],
             [
              1,
              "#f0f921"
             ]
            ],
            "type": "histogram2d"
           }
          ],
          "histogram2dcontour": [
           {
            "colorbar": {
             "outlinewidth": 0,
             "ticks": ""
            },
            "colorscale": [
             [
              0,
              "#0d0887"
             ],
             [
              0.1111111111111111,
              "#46039f"
             ],
             [
              0.2222222222222222,
              "#7201a8"
             ],
             [
              0.3333333333333333,
              "#9c179e"
             ],
             [
              0.4444444444444444,
              "#bd3786"
             ],
             [
              0.5555555555555556,
              "#d8576b"
             ],
             [
              0.6666666666666666,
              "#ed7953"
             ],
             [
              0.7777777777777778,
              "#fb9f3a"
             ],
             [
              0.8888888888888888,
              "#fdca26"
             ],
             [
              1,
              "#f0f921"
             ]
            ],
            "type": "histogram2dcontour"
           }
          ],
          "mesh3d": [
           {
            "colorbar": {
             "outlinewidth": 0,
             "ticks": ""
            },
            "type": "mesh3d"
           }
          ],
          "parcoords": [
           {
            "line": {
             "colorbar": {
              "outlinewidth": 0,
              "ticks": ""
             }
            },
            "type": "parcoords"
           }
          ],
          "pie": [
           {
            "automargin": true,
            "type": "pie"
           }
          ],
          "scatter": [
           {
            "marker": {
             "colorbar": {
              "outlinewidth": 0,
              "ticks": ""
             }
            },
            "type": "scatter"
           }
          ],
          "scatter3d": [
           {
            "line": {
             "colorbar": {
              "outlinewidth": 0,
              "ticks": ""
             }
            },
            "marker": {
             "colorbar": {
              "outlinewidth": 0,
              "ticks": ""
             }
            },
            "type": "scatter3d"
           }
          ],
          "scattercarpet": [
           {
            "marker": {
             "colorbar": {
              "outlinewidth": 0,
              "ticks": ""
             }
            },
            "type": "scattercarpet"
           }
          ],
          "scattergeo": [
           {
            "marker": {
             "colorbar": {
              "outlinewidth": 0,
              "ticks": ""
             }
            },
            "type": "scattergeo"
           }
          ],
          "scattergl": [
           {
            "marker": {
             "colorbar": {
              "outlinewidth": 0,
              "ticks": ""
             }
            },
            "type": "scattergl"
           }
          ],
          "scattermapbox": [
           {
            "marker": {
             "colorbar": {
              "outlinewidth": 0,
              "ticks": ""
             }
            },
            "type": "scattermapbox"
           }
          ],
          "scatterpolar": [
           {
            "marker": {
             "colorbar": {
              "outlinewidth": 0,
              "ticks": ""
             }
            },
            "type": "scatterpolar"
           }
          ],
          "scatterpolargl": [
           {
            "marker": {
             "colorbar": {
              "outlinewidth": 0,
              "ticks": ""
             }
            },
            "type": "scatterpolargl"
           }
          ],
          "scatterternary": [
           {
            "marker": {
             "colorbar": {
              "outlinewidth": 0,
              "ticks": ""
             }
            },
            "type": "scatterternary"
           }
          ],
          "surface": [
           {
            "colorbar": {
             "outlinewidth": 0,
             "ticks": ""
            },
            "colorscale": [
             [
              0,
              "#0d0887"
             ],
             [
              0.1111111111111111,
              "#46039f"
             ],
             [
              0.2222222222222222,
              "#7201a8"
             ],
             [
              0.3333333333333333,
              "#9c179e"
             ],
             [
              0.4444444444444444,
              "#bd3786"
             ],
             [
              0.5555555555555556,
              "#d8576b"
             ],
             [
              0.6666666666666666,
              "#ed7953"
             ],
             [
              0.7777777777777778,
              "#fb9f3a"
             ],
             [
              0.8888888888888888,
              "#fdca26"
             ],
             [
              1,
              "#f0f921"
             ]
            ],
            "type": "surface"
           }
          ],
          "table": [
           {
            "cells": {
             "fill": {
              "color": "#EBF0F8"
             },
             "line": {
              "color": "white"
             }
            },
            "header": {
             "fill": {
              "color": "#C8D4E3"
             },
             "line": {
              "color": "white"
             }
            },
            "type": "table"
           }
          ]
         },
         "layout": {
          "annotationdefaults": {
           "arrowcolor": "#2a3f5f",
           "arrowhead": 0,
           "arrowwidth": 1
          },
          "autotypenumbers": "strict",
          "coloraxis": {
           "colorbar": {
            "outlinewidth": 0,
            "ticks": ""
           }
          },
          "colorscale": {
           "diverging": [
            [
             0,
             "#8e0152"
            ],
            [
             0.1,
             "#c51b7d"
            ],
            [
             0.2,
             "#de77ae"
            ],
            [
             0.3,
             "#f1b6da"
            ],
            [
             0.4,
             "#fde0ef"
            ],
            [
             0.5,
             "#f7f7f7"
            ],
            [
             0.6,
             "#e6f5d0"
            ],
            [
             0.7,
             "#b8e186"
            ],
            [
             0.8,
             "#7fbc41"
            ],
            [
             0.9,
             "#4d9221"
            ],
            [
             1,
             "#276419"
            ]
           ],
           "sequential": [
            [
             0,
             "#0d0887"
            ],
            [
             0.1111111111111111,
             "#46039f"
            ],
            [
             0.2222222222222222,
             "#7201a8"
            ],
            [
             0.3333333333333333,
             "#9c179e"
            ],
            [
             0.4444444444444444,
             "#bd3786"
            ],
            [
             0.5555555555555556,
             "#d8576b"
            ],
            [
             0.6666666666666666,
             "#ed7953"
            ],
            [
             0.7777777777777778,
             "#fb9f3a"
            ],
            [
             0.8888888888888888,
             "#fdca26"
            ],
            [
             1,
             "#f0f921"
            ]
           ],
           "sequentialminus": [
            [
             0,
             "#0d0887"
            ],
            [
             0.1111111111111111,
             "#46039f"
            ],
            [
             0.2222222222222222,
             "#7201a8"
            ],
            [
             0.3333333333333333,
             "#9c179e"
            ],
            [
             0.4444444444444444,
             "#bd3786"
            ],
            [
             0.5555555555555556,
             "#d8576b"
            ],
            [
             0.6666666666666666,
             "#ed7953"
            ],
            [
             0.7777777777777778,
             "#fb9f3a"
            ],
            [
             0.8888888888888888,
             "#fdca26"
            ],
            [
             1,
             "#f0f921"
            ]
           ]
          },
          "colorway": [
           "#636efa",
           "#EF553B",
           "#00cc96",
           "#ab63fa",
           "#FFA15A",
           "#19d3f3",
           "#FF6692",
           "#B6E880",
           "#FF97FF",
           "#FECB52"
          ],
          "font": {
           "color": "#2a3f5f"
          },
          "geo": {
           "bgcolor": "white",
           "lakecolor": "white",
           "landcolor": "#E5ECF6",
           "showlakes": true,
           "showland": true,
           "subunitcolor": "white"
          },
          "hoverlabel": {
           "align": "left"
          },
          "hovermode": "closest",
          "mapbox": {
           "style": "light"
          },
          "paper_bgcolor": "white",
          "plot_bgcolor": "#E5ECF6",
          "polar": {
           "angularaxis": {
            "gridcolor": "white",
            "linecolor": "white",
            "ticks": ""
           },
           "bgcolor": "#E5ECF6",
           "radialaxis": {
            "gridcolor": "white",
            "linecolor": "white",
            "ticks": ""
           }
          },
          "scene": {
           "xaxis": {
            "backgroundcolor": "#E5ECF6",
            "gridcolor": "white",
            "gridwidth": 2,
            "linecolor": "white",
            "showbackground": true,
            "ticks": "",
            "zerolinecolor": "white"
           },
           "yaxis": {
            "backgroundcolor": "#E5ECF6",
            "gridcolor": "white",
            "gridwidth": 2,
            "linecolor": "white",
            "showbackground": true,
            "ticks": "",
            "zerolinecolor": "white"
           },
           "zaxis": {
            "backgroundcolor": "#E5ECF6",
            "gridcolor": "white",
            "gridwidth": 2,
            "linecolor": "white",
            "showbackground": true,
            "ticks": "",
            "zerolinecolor": "white"
           }
          },
          "shapedefaults": {
           "line": {
            "color": "#2a3f5f"
           }
          },
          "ternary": {
           "aaxis": {
            "gridcolor": "white",
            "linecolor": "white",
            "ticks": ""
           },
           "baxis": {
            "gridcolor": "white",
            "linecolor": "white",
            "ticks": ""
           },
           "bgcolor": "#E5ECF6",
           "caxis": {
            "gridcolor": "white",
            "linecolor": "white",
            "ticks": ""
           }
          },
          "title": {
           "x": 0.05
          },
          "xaxis": {
           "automargin": true,
           "gridcolor": "white",
           "linecolor": "white",
           "ticks": "",
           "title": {
            "standoff": 15
           },
           "zerolinecolor": "white",
           "zerolinewidth": 2
          },
          "yaxis": {
           "automargin": true,
           "gridcolor": "white",
           "linecolor": "white",
           "ticks": "",
           "title": {
            "standoff": 15
           },
           "zerolinecolor": "white",
           "zerolinewidth": 2
          }
         }
        },
        "xaxis": {
         "anchor": "y",
         "domain": [
          0,
          1
         ],
         "range": [
          -0.3718182996118767,
          1.1
         ],
         "title": {
          "text": "matthew"
         }
        },
        "yaxis": {
         "anchor": "x",
         "domain": [
          0,
          1
         ],
         "range": [
          0,
          1.1
         ],
         "title": {
          "text": "precision_macro"
         }
        }
       }
      }
     },
     "metadata": {},
     "output_type": "display_data"
    }
   ],
   "source": [
    "#macro  similar average\n",
    "metrics_to_compare = [\n",
    "            (\"precision_macro\", \"recall_macro\"),\n",
    "         #   (\"precision_macro\", \"recall_macro\"),\n",
    "            (\"precision_macro\", \"recall_micro\"),\n",
    "            (\"f1_macro\", \"recall_macro\"),\n",
    "            (\"f1_weighted\", \"recall_macro\"),\n",
    "            (\"matthew\", \"precision_macro\")\n",
    "        ]\n",
    "\n",
    "for metrics_tuple in metrics_to_compare: \n",
    "    scatter_plotly(dataset, metrics_tuple[0], metrics_tuple[1], \"labels\")"
   ]
  },
  {
   "cell_type": "code",
   "execution_count": 117,
   "metadata": {},
   "outputs": [
    {
     "data": {
      "application/vnd.plotly.v1+json": {
       "config": {
        "plotlyServerURL": "https://plot.ly"
       },
       "data": [
        {
         "hovertemplate": "labels=Cristal 0% - c/error<br>precision_macro=%{x}<br>recall_micro=%{y}<extra></extra>",
         "legendgroup": "Cristal 0% - c/error",
         "marker": {
          "color": "#636efa",
          "symbol": "circle"
         },
         "mode": "markers",
         "name": "Cristal 0% - c/error",
         "orientation": "v",
         "showlegend": true,
         "type": "scatter",
         "x": [
          0.3055555555555556,
          0.3,
          0.8157894736842105,
          0.5833333333333333,
          0.275,
          0.2631578947368421,
          0.3,
          0.2894736842105263,
          0.325,
          0.275,
          0.275,
          0.3157894736842105,
          0.8055555555555556,
          0.7368421052631579,
          0.868421052631579
         ],
         "xaxis": "x",
         "y": [
          0.55,
          0.6,
          0.65,
          0.65,
          0.55,
          0.5,
          0.6,
          0.55,
          0.65,
          0.55,
          0.55,
          0.6,
          0.65,
          0.5,
          0.75
         ],
         "yaxis": "y"
        },
        {
         "hovertemplate": "labels=Cristal 0% - s/error<br>precision_macro=%{x}<br>recall_micro=%{y}<extra></extra>",
         "legendgroup": "Cristal 0% - s/error",
         "marker": {
          "color": "#EF553B",
          "symbol": "diamond"
         },
         "mode": "markers",
         "name": "Cristal 0% - s/error",
         "orientation": "v",
         "showlegend": true,
         "type": "scatter",
         "x": [
          0.5,
          1,
          0.5,
          0.475,
          1,
          0.475,
          1,
          0.9736842105263157,
          1,
          0.75,
          0.8333333333333333,
          0.5,
          0.8333333333333333,
          0.5,
          1
         ],
         "xaxis": "x",
         "y": [
          0.95,
          1,
          1,
          0.95,
          1,
          0.95,
          1,
          0.95,
          1,
          0.95,
          0.95,
          1,
          0.95,
          0.95,
          1
         ],
         "yaxis": "y"
        },
        {
         "hovertemplate": "labels=Cristal 2/10%<br>precision_macro=%{x}<br>recall_micro=%{y}<extra></extra>",
         "legendgroup": "Cristal 2/10%",
         "marker": {
          "color": "#00cc96",
          "symbol": "square"
         },
         "mode": "markers",
         "name": "Cristal 2/10%",
         "orientation": "v",
         "showlegend": true,
         "type": "scatter",
         "x": [
          0.6944444444444444,
          0.9210526315789473,
          0.47058823529411764,
          0.4473684210526316,
          0.6666666666666667,
          0.4444444444444444,
          0.4473684210526316,
          0.6666666666666667,
          0.5784313725490196,
          0.45,
          0.42105263157894735,
          0.5,
          0.6372549019607843,
          0.803921568627451,
          0.4411764705882353
         ],
         "xaxis": "x",
         "y": [
          0.85,
          0.85,
          0.8,
          0.85,
          0.8,
          0.8,
          0.85,
          0.8,
          0.75,
          0.9,
          0.8,
          0.95,
          0.85,
          0.9,
          0.75
         ],
         "yaxis": "y"
        },
        {
         "hovertemplate": "labels=Cristal 5/10%<br>precision_macro=%{x}<br>recall_micro=%{y}<extra></extra>",
         "legendgroup": "Cristal 5/10%",
         "marker": {
          "color": "#ab63fa",
          "symbol": "x"
         },
         "mode": "markers",
         "name": "Cristal 5/10%",
         "orientation": "v",
         "showlegend": true,
         "type": "scatter",
         "x": [
          0.7333333333333334,
          0.6333333333333333,
          0.9666666666666667,
          0.9411764705882353,
          0.8,
          0.875,
          0.75,
          0.9117647058823529,
          0.9705882352941176,
          0.8,
          0.9666666666666667,
          0.6875,
          0.71875,
          0.9375,
          0.7666666666666666
         ],
         "xaxis": "x",
         "y": [
          0.7777777777777778,
          0.8333333333333334,
          0.9444444444444444,
          0.8888888888888888,
          0.8888888888888888,
          0.9444444444444444,
          0.8888888888888888,
          0.8333333333333334,
          0.9444444444444444,
          0.8888888888888888,
          0.9444444444444444,
          0.8333333333333334,
          0.8888888888888888,
          0.8888888888888888,
          0.8333333333333334
         ],
         "yaxis": "y"
        },
        {
         "hovertemplate": "labels=Cristal 8/10%<br>precision_macro=%{x}<br>recall_micro=%{y}<extra></extra>",
         "legendgroup": "Cristal 8/10%",
         "marker": {
          "color": "#FFA15A",
          "symbol": "cross"
         },
         "mode": "markers",
         "name": "Cristal 8/10%",
         "orientation": "v",
         "showlegend": true,
         "type": "scatter",
         "x": [
          0.7802197802197802,
          0.6333333333333333,
          0.6785714285714286,
          0.8,
          0.7619047619047619,
          0.7777777777777778,
          0.7619047619047619,
          0.6703296703296704,
          0.7976190476190477,
          0.7261904761904762,
          0.5595238095238095,
          0.7619047619047619,
          0.7619047619047619,
          0.6703296703296704,
          0.9
         ],
         "xaxis": "x",
         "y": [
          0.8,
          0.75,
          0.75,
          0.8,
          0.8,
          0.8,
          0.8,
          0.7,
          0.85,
          0.75,
          0.65,
          0.8,
          0.8,
          0.7,
          0.95
         ],
         "yaxis": "y"
        },
        {
         "hovertemplate": "labels=Cristal 5/30%<br>precision_macro=%{x}<br>recall_micro=%{y}<extra></extra>",
         "legendgroup": "Cristal 5/30%",
         "marker": {
          "color": "#19d3f3",
          "symbol": "circle"
         },
         "mode": "markers",
         "name": "Cristal 5/30%",
         "orientation": "v",
         "showlegend": true,
         "type": "scatter",
         "x": [
          0.5,
          0.3055555555555556,
          0.5555555555555556,
          0.2777777777777778,
          0.53125,
          0.29411764705882354,
          0.3,
          0.46875,
          0.5980392156862745,
          0.3666666666666667,
          0.2777777777777778,
          0.4375,
          0.34210526315789475,
          0.29411764705882354,
          0.4607843137254902
         ],
         "xaxis": "x",
         "y": [
          0.55,
          0.55,
          0.6,
          0.5,
          0.55,
          0.5,
          0.45,
          0.6,
          0.55,
          0.45,
          0.5,
          0.55,
          0.65,
          0.5,
          0.55
         ],
         "yaxis": "y"
        },
        {
         "hovertemplate": "labels=Cristal 15/30%<br>precision_macro=%{x}<br>recall_micro=%{y}<extra></extra>",
         "legendgroup": "Cristal 15/30%",
         "marker": {
          "color": "#FF6692",
          "symbol": "diamond"
         },
         "mode": "markers",
         "name": "Cristal 15/30%",
         "orientation": "v",
         "showlegend": true,
         "type": "scatter",
         "x": [
          0.3055555555555556,
          0.43333333333333335,
          0.46875,
          0.3055555555555556,
          0.5,
          0.3333333333333333,
          0.5833333333333333,
          0.6568627450980392,
          0.5666666666666667,
          0.4375,
          0.3055555555555556,
          0.3611111111111111,
          0.3235294117647059,
          0.3055555555555556,
          0.5784313725490196
         ],
         "xaxis": "x",
         "y": [
          0.55,
          0.55,
          0.6,
          0.55,
          0.65,
          0.6,
          0.65,
          0.65,
          0.65,
          0.55,
          0.55,
          0.65,
          0.55,
          0.55,
          0.75
         ],
         "yaxis": "y"
        },
        {
         "hovertemplate": "labels=Cristal 25/30%<br>precision_macro=%{x}<br>recall_micro=%{y}<extra></extra>",
         "legendgroup": "Cristal 25/30%",
         "marker": {
          "color": "#B6E880",
          "symbol": "square"
         },
         "mode": "markers",
         "name": "Cristal 25/30%",
         "orientation": "v",
         "showlegend": true,
         "type": "scatter",
         "x": [
          0.7666666666666666,
          0.7333333333333334,
          0.8186813186813187,
          0.75,
          0.8333333333333333,
          0.5714285714285714,
          0.7,
          0.8095238095238095,
          0.59375,
          0.5989010989010989,
          0.7156862745098038,
          0.5604395604395604,
          0.875,
          0.5666666666666667,
          0.6333333333333333
         ],
         "xaxis": "x",
         "y": [
          0.75,
          0.8,
          0.85,
          0.75,
          0.7,
          0.6,
          0.75,
          0.8,
          0.65,
          0.65,
          0.75,
          0.6,
          0.8,
          0.65,
          0.65
         ],
         "yaxis": "y"
        }
       ],
       "layout": {
        "legend": {
         "title": {
          "text": ""
         },
         "tracegroupgap": 0
        },
        "margin": {
         "b": 20,
         "l": 20,
         "r": 20,
         "t": 40
        },
        "template": {
         "data": {
          "bar": [
           {
            "error_x": {
             "color": "#2a3f5f"
            },
            "error_y": {
             "color": "#2a3f5f"
            },
            "marker": {
             "line": {
              "color": "#E5ECF6",
              "width": 0.5
             },
             "pattern": {
              "fillmode": "overlay",
              "size": 10,
              "solidity": 0.2
             }
            },
            "type": "bar"
           }
          ],
          "barpolar": [
           {
            "marker": {
             "line": {
              "color": "#E5ECF6",
              "width": 0.5
             },
             "pattern": {
              "fillmode": "overlay",
              "size": 10,
              "solidity": 0.2
             }
            },
            "type": "barpolar"
           }
          ],
          "carpet": [
           {
            "aaxis": {
             "endlinecolor": "#2a3f5f",
             "gridcolor": "white",
             "linecolor": "white",
             "minorgridcolor": "white",
             "startlinecolor": "#2a3f5f"
            },
            "baxis": {
             "endlinecolor": "#2a3f5f",
             "gridcolor": "white",
             "linecolor": "white",
             "minorgridcolor": "white",
             "startlinecolor": "#2a3f5f"
            },
            "type": "carpet"
           }
          ],
          "choropleth": [
           {
            "colorbar": {
             "outlinewidth": 0,
             "ticks": ""
            },
            "type": "choropleth"
           }
          ],
          "contour": [
           {
            "colorbar": {
             "outlinewidth": 0,
             "ticks": ""
            },
            "colorscale": [
             [
              0,
              "#0d0887"
             ],
             [
              0.1111111111111111,
              "#46039f"
             ],
             [
              0.2222222222222222,
              "#7201a8"
             ],
             [
              0.3333333333333333,
              "#9c179e"
             ],
             [
              0.4444444444444444,
              "#bd3786"
             ],
             [
              0.5555555555555556,
              "#d8576b"
             ],
             [
              0.6666666666666666,
              "#ed7953"
             ],
             [
              0.7777777777777778,
              "#fb9f3a"
             ],
             [
              0.8888888888888888,
              "#fdca26"
             ],
             [
              1,
              "#f0f921"
             ]
            ],
            "type": "contour"
           }
          ],
          "contourcarpet": [
           {
            "colorbar": {
             "outlinewidth": 0,
             "ticks": ""
            },
            "type": "contourcarpet"
           }
          ],
          "heatmap": [
           {
            "colorbar": {
             "outlinewidth": 0,
             "ticks": ""
            },
            "colorscale": [
             [
              0,
              "#0d0887"
             ],
             [
              0.1111111111111111,
              "#46039f"
             ],
             [
              0.2222222222222222,
              "#7201a8"
             ],
             [
              0.3333333333333333,
              "#9c179e"
             ],
             [
              0.4444444444444444,
              "#bd3786"
             ],
             [
              0.5555555555555556,
              "#d8576b"
             ],
             [
              0.6666666666666666,
              "#ed7953"
             ],
             [
              0.7777777777777778,
              "#fb9f3a"
             ],
             [
              0.8888888888888888,
              "#fdca26"
             ],
             [
              1,
              "#f0f921"
             ]
            ],
            "type": "heatmap"
           }
          ],
          "heatmapgl": [
           {
            "colorbar": {
             "outlinewidth": 0,
             "ticks": ""
            },
            "colorscale": [
             [
              0,
              "#0d0887"
             ],
             [
              0.1111111111111111,
              "#46039f"
             ],
             [
              0.2222222222222222,
              "#7201a8"
             ],
             [
              0.3333333333333333,
              "#9c179e"
             ],
             [
              0.4444444444444444,
              "#bd3786"
             ],
             [
              0.5555555555555556,
              "#d8576b"
             ],
             [
              0.6666666666666666,
              "#ed7953"
             ],
             [
              0.7777777777777778,
              "#fb9f3a"
             ],
             [
              0.8888888888888888,
              "#fdca26"
             ],
             [
              1,
              "#f0f921"
             ]
            ],
            "type": "heatmapgl"
           }
          ],
          "histogram": [
           {
            "marker": {
             "pattern": {
              "fillmode": "overlay",
              "size": 10,
              "solidity": 0.2
             }
            },
            "type": "histogram"
           }
          ],
          "histogram2d": [
           {
            "colorbar": {
             "outlinewidth": 0,
             "ticks": ""
            },
            "colorscale": [
             [
              0,
              "#0d0887"
             ],
             [
              0.1111111111111111,
              "#46039f"
             ],
             [
              0.2222222222222222,
              "#7201a8"
             ],
             [
              0.3333333333333333,
              "#9c179e"
             ],
             [
              0.4444444444444444,
              "#bd3786"
             ],
             [
              0.5555555555555556,
              "#d8576b"
             ],
             [
              0.6666666666666666,
              "#ed7953"
             ],
             [
              0.7777777777777778,
              "#fb9f3a"
             ],
             [
              0.8888888888888888,
              "#fdca26"
             ],
             [
              1,
              "#f0f921"
             ]
            ],
            "type": "histogram2d"
           }
          ],
          "histogram2dcontour": [
           {
            "colorbar": {
             "outlinewidth": 0,
             "ticks": ""
            },
            "colorscale": [
             [
              0,
              "#0d0887"
             ],
             [
              0.1111111111111111,
              "#46039f"
             ],
             [
              0.2222222222222222,
              "#7201a8"
             ],
             [
              0.3333333333333333,
              "#9c179e"
             ],
             [
              0.4444444444444444,
              "#bd3786"
             ],
             [
              0.5555555555555556,
              "#d8576b"
             ],
             [
              0.6666666666666666,
              "#ed7953"
             ],
             [
              0.7777777777777778,
              "#fb9f3a"
             ],
             [
              0.8888888888888888,
              "#fdca26"
             ],
             [
              1,
              "#f0f921"
             ]
            ],
            "type": "histogram2dcontour"
           }
          ],
          "mesh3d": [
           {
            "colorbar": {
             "outlinewidth": 0,
             "ticks": ""
            },
            "type": "mesh3d"
           }
          ],
          "parcoords": [
           {
            "line": {
             "colorbar": {
              "outlinewidth": 0,
              "ticks": ""
             }
            },
            "type": "parcoords"
           }
          ],
          "pie": [
           {
            "automargin": true,
            "type": "pie"
           }
          ],
          "scatter": [
           {
            "marker": {
             "colorbar": {
              "outlinewidth": 0,
              "ticks": ""
             }
            },
            "type": "scatter"
           }
          ],
          "scatter3d": [
           {
            "line": {
             "colorbar": {
              "outlinewidth": 0,
              "ticks": ""
             }
            },
            "marker": {
             "colorbar": {
              "outlinewidth": 0,
              "ticks": ""
             }
            },
            "type": "scatter3d"
           }
          ],
          "scattercarpet": [
           {
            "marker": {
             "colorbar": {
              "outlinewidth": 0,
              "ticks": ""
             }
            },
            "type": "scattercarpet"
           }
          ],
          "scattergeo": [
           {
            "marker": {
             "colorbar": {
              "outlinewidth": 0,
              "ticks": ""
             }
            },
            "type": "scattergeo"
           }
          ],
          "scattergl": [
           {
            "marker": {
             "colorbar": {
              "outlinewidth": 0,
              "ticks": ""
             }
            },
            "type": "scattergl"
           }
          ],
          "scattermapbox": [
           {
            "marker": {
             "colorbar": {
              "outlinewidth": 0,
              "ticks": ""
             }
            },
            "type": "scattermapbox"
           }
          ],
          "scatterpolar": [
           {
            "marker": {
             "colorbar": {
              "outlinewidth": 0,
              "ticks": ""
             }
            },
            "type": "scatterpolar"
           }
          ],
          "scatterpolargl": [
           {
            "marker": {
             "colorbar": {
              "outlinewidth": 0,
              "ticks": ""
             }
            },
            "type": "scatterpolargl"
           }
          ],
          "scatterternary": [
           {
            "marker": {
             "colorbar": {
              "outlinewidth": 0,
              "ticks": ""
             }
            },
            "type": "scatterternary"
           }
          ],
          "surface": [
           {
            "colorbar": {
             "outlinewidth": 0,
             "ticks": ""
            },
            "colorscale": [
             [
              0,
              "#0d0887"
             ],
             [
              0.1111111111111111,
              "#46039f"
             ],
             [
              0.2222222222222222,
              "#7201a8"
             ],
             [
              0.3333333333333333,
              "#9c179e"
             ],
             [
              0.4444444444444444,
              "#bd3786"
             ],
             [
              0.5555555555555556,
              "#d8576b"
             ],
             [
              0.6666666666666666,
              "#ed7953"
             ],
             [
              0.7777777777777778,
              "#fb9f3a"
             ],
             [
              0.8888888888888888,
              "#fdca26"
             ],
             [
              1,
              "#f0f921"
             ]
            ],
            "type": "surface"
           }
          ],
          "table": [
           {
            "cells": {
             "fill": {
              "color": "#EBF0F8"
             },
             "line": {
              "color": "white"
             }
            },
            "header": {
             "fill": {
              "color": "#C8D4E3"
             },
             "line": {
              "color": "white"
             }
            },
            "type": "table"
           }
          ]
         },
         "layout": {
          "annotationdefaults": {
           "arrowcolor": "#2a3f5f",
           "arrowhead": 0,
           "arrowwidth": 1
          },
          "autotypenumbers": "strict",
          "coloraxis": {
           "colorbar": {
            "outlinewidth": 0,
            "ticks": ""
           }
          },
          "colorscale": {
           "diverging": [
            [
             0,
             "#8e0152"
            ],
            [
             0.1,
             "#c51b7d"
            ],
            [
             0.2,
             "#de77ae"
            ],
            [
             0.3,
             "#f1b6da"
            ],
            [
             0.4,
             "#fde0ef"
            ],
            [
             0.5,
             "#f7f7f7"
            ],
            [
             0.6,
             "#e6f5d0"
            ],
            [
             0.7,
             "#b8e186"
            ],
            [
             0.8,
             "#7fbc41"
            ],
            [
             0.9,
             "#4d9221"
            ],
            [
             1,
             "#276419"
            ]
           ],
           "sequential": [
            [
             0,
             "#0d0887"
            ],
            [
             0.1111111111111111,
             "#46039f"
            ],
            [
             0.2222222222222222,
             "#7201a8"
            ],
            [
             0.3333333333333333,
             "#9c179e"
            ],
            [
             0.4444444444444444,
             "#bd3786"
            ],
            [
             0.5555555555555556,
             "#d8576b"
            ],
            [
             0.6666666666666666,
             "#ed7953"
            ],
            [
             0.7777777777777778,
             "#fb9f3a"
            ],
            [
             0.8888888888888888,
             "#fdca26"
            ],
            [
             1,
             "#f0f921"
            ]
           ],
           "sequentialminus": [
            [
             0,
             "#0d0887"
            ],
            [
             0.1111111111111111,
             "#46039f"
            ],
            [
             0.2222222222222222,
             "#7201a8"
            ],
            [
             0.3333333333333333,
             "#9c179e"
            ],
            [
             0.4444444444444444,
             "#bd3786"
            ],
            [
             0.5555555555555556,
             "#d8576b"
            ],
            [
             0.6666666666666666,
             "#ed7953"
            ],
            [
             0.7777777777777778,
             "#fb9f3a"
            ],
            [
             0.8888888888888888,
             "#fdca26"
            ],
            [
             1,
             "#f0f921"
            ]
           ]
          },
          "colorway": [
           "#636efa",
           "#EF553B",
           "#00cc96",
           "#ab63fa",
           "#FFA15A",
           "#19d3f3",
           "#FF6692",
           "#B6E880",
           "#FF97FF",
           "#FECB52"
          ],
          "font": {
           "color": "#2a3f5f"
          },
          "geo": {
           "bgcolor": "white",
           "lakecolor": "white",
           "landcolor": "#E5ECF6",
           "showlakes": true,
           "showland": true,
           "subunitcolor": "white"
          },
          "hoverlabel": {
           "align": "left"
          },
          "hovermode": "closest",
          "mapbox": {
           "style": "light"
          },
          "paper_bgcolor": "white",
          "plot_bgcolor": "#E5ECF6",
          "polar": {
           "angularaxis": {
            "gridcolor": "white",
            "linecolor": "white",
            "ticks": ""
           },
           "bgcolor": "#E5ECF6",
           "radialaxis": {
            "gridcolor": "white",
            "linecolor": "white",
            "ticks": ""
           }
          },
          "scene": {
           "xaxis": {
            "backgroundcolor": "#E5ECF6",
            "gridcolor": "white",
            "gridwidth": 2,
            "linecolor": "white",
            "showbackground": true,
            "ticks": "",
            "zerolinecolor": "white"
           },
           "yaxis": {
            "backgroundcolor": "#E5ECF6",
            "gridcolor": "white",
            "gridwidth": 2,
            "linecolor": "white",
            "showbackground": true,
            "ticks": "",
            "zerolinecolor": "white"
           },
           "zaxis": {
            "backgroundcolor": "#E5ECF6",
            "gridcolor": "white",
            "gridwidth": 2,
            "linecolor": "white",
            "showbackground": true,
            "ticks": "",
            "zerolinecolor": "white"
           }
          },
          "shapedefaults": {
           "line": {
            "color": "#2a3f5f"
           }
          },
          "ternary": {
           "aaxis": {
            "gridcolor": "white",
            "linecolor": "white",
            "ticks": ""
           },
           "baxis": {
            "gridcolor": "white",
            "linecolor": "white",
            "ticks": ""
           },
           "bgcolor": "#E5ECF6",
           "caxis": {
            "gridcolor": "white",
            "linecolor": "white",
            "ticks": ""
           }
          },
          "title": {
           "x": 0.05
          },
          "xaxis": {
           "automargin": true,
           "gridcolor": "white",
           "linecolor": "white",
           "ticks": "",
           "title": {
            "standoff": 15
           },
           "zerolinecolor": "white",
           "zerolinewidth": 2
          },
          "yaxis": {
           "automargin": true,
           "gridcolor": "white",
           "linecolor": "white",
           "ticks": "",
           "title": {
            "standoff": 15
           },
           "zerolinecolor": "white",
           "zerolinewidth": 2
          }
         }
        },
        "title": {
         "text": "n matrix: 20",
         "x": 0.45,
         "y": 0.95,
         "yanchor": "top"
        },
        "xaxis": {
         "anchor": "y",
         "domain": [
          0,
          1
         ],
         "range": [
          0.2631578947368421,
          1.1
         ],
         "title": {
          "text": "precision_macro"
         }
        },
        "yaxis": {
         "anchor": "x",
         "domain": [
          0,
          1
         ],
         "range": [
          0,
          1.1
         ],
         "title": {
          "text": "recall_micro"
         }
        }
       }
      }
     },
     "metadata": {},
     "output_type": "display_data"
    },
    {
     "data": {
      "application/vnd.plotly.v1+json": {
       "config": {
        "plotlyServerURL": "https://plot.ly"
       },
       "data": [
        {
         "hovertemplate": "labels=Cristal 0% - c/error<br>precision_macro=%{x}<br>recall_micro=%{y}<extra></extra>",
         "legendgroup": "Cristal 0% - c/error",
         "marker": {
          "color": "#636efa",
          "symbol": "circle"
         },
         "mode": "markers",
         "name": "Cristal 0% - c/error",
         "orientation": "v",
         "showlegend": true,
         "type": "scatter",
         "x": [
          0.8026315789473684,
          0.8076923076923077,
          0.5394736842105263,
          0.2875,
          0.3076923076923077,
          0.5394736842105263,
          0.5526315789473684,
          0.32051282051282054,
          0.782051282051282,
          0.275,
          0.2948717948717949,
          0.5263157894736843,
          0.8205128205128205,
          0.4774774774774775,
          0.8076923076923077
         ],
         "xaxis": "x",
         "y": [
          0.625,
          0.625,
          0.575,
          0.575,
          0.6,
          0.575,
          0.6,
          0.625,
          0.575,
          0.55,
          0.575,
          0.55,
          0.65,
          0.6,
          0.625
         ],
         "yaxis": "y"
        },
        {
         "hovertemplate": "labels=Cristal 0% - s/error<br>precision_macro=%{x}<br>recall_micro=%{y}<extra></extra>",
         "legendgroup": "Cristal 0% - s/error",
         "marker": {
          "color": "#EF553B",
          "symbol": "diamond"
         },
         "mode": "markers",
         "name": "Cristal 0% - s/error",
         "orientation": "v",
         "showlegend": true,
         "type": "scatter",
         "x": [
          1,
          0.75,
          0.9871794871794872,
          0.4875,
          0.5,
          0.9615384615384616,
          0.9743589743589743,
          0.986842105263158,
          0.75,
          0.8333333333333333,
          0.475,
          0.4875,
          0.5,
          0.4875,
          0.8333333333333333
         ],
         "xaxis": "x",
         "y": [
          1,
          0.975,
          0.975,
          0.975,
          0.975,
          0.925,
          0.95,
          0.975,
          0.975,
          0.975,
          0.95,
          0.975,
          0.975,
          0.975,
          0.975
         ],
         "yaxis": "y"
        },
        {
         "hovertemplate": "labels=Cristal 2/10%<br>precision_macro=%{x}<br>recall_micro=%{y}<extra></extra>",
         "legendgroup": "Cristal 2/10%",
         "marker": {
          "color": "#00cc96",
          "symbol": "square"
         },
         "mode": "markers",
         "name": "Cristal 2/10%",
         "orientation": "v",
         "showlegend": true,
         "type": "scatter",
         "x": [
          0.5833333333333333,
          0.5098039215686274,
          0.6428571428571428,
          0.4444444444444444,
          0.5694444444444444,
          0.6285714285714286,
          0.6710526315789473,
          0.5571428571428572,
          0.6527777777777778,
          0.5855855855855856,
          0.8055555555555556,
          0.5428571428571428,
          0.3918918918918919,
          0.6396396396396397,
          0.8194444444444444
         ],
         "xaxis": "x",
         "y": [
          0.85,
          0.75,
          0.825,
          0.8,
          0.825,
          0.8,
          0.825,
          0.825,
          0.775,
          0.8,
          0.85,
          0.8,
          0.725,
          0.9,
          0.875
         ],
         "yaxis": "y"
        },
        {
         "hovertemplate": "labels=Cristal 5/10%<br>precision_macro=%{x}<br>recall_micro=%{y}<extra></extra>",
         "legendgroup": "Cristal 5/10%",
         "marker": {
          "color": "#ab63fa",
          "symbol": "x"
         },
         "mode": "markers",
         "name": "Cristal 5/10%",
         "orientation": "v",
         "showlegend": true,
         "type": "scatter",
         "x": [
          0.875,
          0.6810344827586207,
          0.8833333333333333,
          0.8392857142857143,
          0.8666666666666667,
          0.953125,
          0.9516129032258065,
          0.7016129032258065,
          0.7016129032258065,
          0.6149425287356322,
          0.9545454545454546,
          0.8666666666666667,
          0.967741935483871,
          0.6964285714285714,
          0.55
         ],
         "xaxis": "x",
         "y": [
          0.9428571428571428,
          0.8,
          0.9428571428571428,
          0.9142857142857143,
          0.9142857142857143,
          0.9142857142857143,
          0.9142857142857143,
          0.8571428571428571,
          0.8571428571428571,
          0.8,
          0.9142857142857143,
          0.9142857142857143,
          0.9428571428571428,
          0.8571428571428571,
          0.8
         ],
         "yaxis": "y"
        },
        {
         "hovertemplate": "labels=Cristal 8/10%<br>precision_macro=%{x}<br>recall_micro=%{y}<extra></extra>",
         "legendgroup": "Cristal 8/10%",
         "marker": {
          "color": "#FFA15A",
          "symbol": "cross"
         },
         "mode": "markers",
         "name": "Cristal 8/10%",
         "orientation": "v",
         "showlegend": true,
         "type": "scatter",
         "x": [
          0.7336182336182336,
          0.9028213166144201,
          0.7666666666666666,
          0.8333333333333334,
          0.7891737891737891,
          0.7619047619047619,
          0.849002849002849,
          0.7976190476190477,
          0.7829670329670331,
          0.88,
          0.8105413105413106,
          0.7333333333333334,
          0.886039886039886,
          0.7380952380952381,
          0.8021978021978022
         ],
         "xaxis": "x",
         "y": [
          0.775,
          0.9,
          0.75,
          0.85,
          0.85,
          0.8,
          0.85,
          0.85,
          0.825,
          0.9,
          0.825,
          0.8,
          0.9,
          0.8,
          0.85
         ],
         "yaxis": "y"
        },
        {
         "hovertemplate": "labels=Cristal 5/30%<br>precision_macro=%{x}<br>recall_micro=%{y}<extra></extra>",
         "legendgroup": "Cristal 5/30%",
         "marker": {
          "color": "#19d3f3",
          "symbol": "circle"
         },
         "mode": "markers",
         "name": "Cristal 5/30%",
         "orientation": "v",
         "showlegend": true,
         "type": "scatter",
         "x": [
          0.484375,
          0.43333333333333335,
          0.29411764705882354,
          0.41428571428571426,
          0.28125,
          0.296875,
          0.3627450980392157,
          0.46875,
          0.35930735930735935,
          0.37142857142857144,
          0.27419354838709675,
          0.296875,
          0.296875,
          0.3744588744588745,
          0.3480392156862745
         ],
         "xaxis": "x",
         "y": [
          0.55,
          0.55,
          0.5,
          0.575,
          0.45,
          0.475,
          0.5,
          0.6,
          0.5,
          0.5,
          0.425,
          0.475,
          0.475,
          0.525,
          0.475
         ],
         "yaxis": "y"
        },
        {
         "hovertemplate": "labels=Cristal 15/30%<br>precision_macro=%{x}<br>recall_micro=%{y}<extra></extra>",
         "legendgroup": "Cristal 15/30%",
         "marker": {
          "color": "#FF6692",
          "symbol": "diamond"
         },
         "mode": "markers",
         "name": "Cristal 15/30%",
         "orientation": "v",
         "showlegend": true,
         "type": "scatter",
         "x": [
          0.46875,
          0.4,
          0.5555555555555556,
          0.5196078431372549,
          0.484375,
          0.41428571428571426,
          0.5294117647058824,
          0.5142857142857142,
          0.4444444444444444,
          0.5588235294117647,
          0.39215686274509803,
          0.59375,
          0.32857142857142857,
          0.5064935064935066,
          0.5476190476190476
         ],
         "xaxis": "x",
         "y": [
          0.6,
          0.55,
          0.6,
          0.65,
          0.55,
          0.575,
          0.55,
          0.6,
          0.6,
          0.6,
          0.55,
          0.65,
          0.575,
          0.65,
          0.625
         ],
         "yaxis": "y"
        },
        {
         "hovertemplate": "labels=Cristal 25/30%<br>precision_macro=%{x}<br>recall_micro=%{y}<extra></extra>",
         "legendgroup": "Cristal 25/30%",
         "marker": {
          "color": "#B6E880",
          "symbol": "square"
         },
         "mode": "markers",
         "name": "Cristal 25/30%",
         "orientation": "v",
         "showlegend": true,
         "type": "scatter",
         "x": [
          0.5627705627705628,
          0.6720430107526881,
          0.6666666666666666,
          0.6720430107526881,
          0.5833333333333334,
          0.7,
          0.8476702508960573,
          0.5893416927899686,
          0.6,
          0.6381766381766382,
          0.651098901098901,
          0.8035714285714286,
          0.6720430107526881,
          0.634796238244514,
          0.6428571428571428
         ],
         "xaxis": "x",
         "y": [
          0.65,
          0.675,
          0.7,
          0.675,
          0.675,
          0.75,
          0.825,
          0.65,
          0.65,
          0.7,
          0.675,
          0.825,
          0.675,
          0.675,
          0.675
         ],
         "yaxis": "y"
        }
       ],
       "layout": {
        "legend": {
         "title": {
          "text": ""
         },
         "tracegroupgap": 0
        },
        "margin": {
         "b": 20,
         "l": 20,
         "r": 20,
         "t": 40
        },
        "template": {
         "data": {
          "bar": [
           {
            "error_x": {
             "color": "#2a3f5f"
            },
            "error_y": {
             "color": "#2a3f5f"
            },
            "marker": {
             "line": {
              "color": "#E5ECF6",
              "width": 0.5
             },
             "pattern": {
              "fillmode": "overlay",
              "size": 10,
              "solidity": 0.2
             }
            },
            "type": "bar"
           }
          ],
          "barpolar": [
           {
            "marker": {
             "line": {
              "color": "#E5ECF6",
              "width": 0.5
             },
             "pattern": {
              "fillmode": "overlay",
              "size": 10,
              "solidity": 0.2
             }
            },
            "type": "barpolar"
           }
          ],
          "carpet": [
           {
            "aaxis": {
             "endlinecolor": "#2a3f5f",
             "gridcolor": "white",
             "linecolor": "white",
             "minorgridcolor": "white",
             "startlinecolor": "#2a3f5f"
            },
            "baxis": {
             "endlinecolor": "#2a3f5f",
             "gridcolor": "white",
             "linecolor": "white",
             "minorgridcolor": "white",
             "startlinecolor": "#2a3f5f"
            },
            "type": "carpet"
           }
          ],
          "choropleth": [
           {
            "colorbar": {
             "outlinewidth": 0,
             "ticks": ""
            },
            "type": "choropleth"
           }
          ],
          "contour": [
           {
            "colorbar": {
             "outlinewidth": 0,
             "ticks": ""
            },
            "colorscale": [
             [
              0,
              "#0d0887"
             ],
             [
              0.1111111111111111,
              "#46039f"
             ],
             [
              0.2222222222222222,
              "#7201a8"
             ],
             [
              0.3333333333333333,
              "#9c179e"
             ],
             [
              0.4444444444444444,
              "#bd3786"
             ],
             [
              0.5555555555555556,
              "#d8576b"
             ],
             [
              0.6666666666666666,
              "#ed7953"
             ],
             [
              0.7777777777777778,
              "#fb9f3a"
             ],
             [
              0.8888888888888888,
              "#fdca26"
             ],
             [
              1,
              "#f0f921"
             ]
            ],
            "type": "contour"
           }
          ],
          "contourcarpet": [
           {
            "colorbar": {
             "outlinewidth": 0,
             "ticks": ""
            },
            "type": "contourcarpet"
           }
          ],
          "heatmap": [
           {
            "colorbar": {
             "outlinewidth": 0,
             "ticks": ""
            },
            "colorscale": [
             [
              0,
              "#0d0887"
             ],
             [
              0.1111111111111111,
              "#46039f"
             ],
             [
              0.2222222222222222,
              "#7201a8"
             ],
             [
              0.3333333333333333,
              "#9c179e"
             ],
             [
              0.4444444444444444,
              "#bd3786"
             ],
             [
              0.5555555555555556,
              "#d8576b"
             ],
             [
              0.6666666666666666,
              "#ed7953"
             ],
             [
              0.7777777777777778,
              "#fb9f3a"
             ],
             [
              0.8888888888888888,
              "#fdca26"
             ],
             [
              1,
              "#f0f921"
             ]
            ],
            "type": "heatmap"
           }
          ],
          "heatmapgl": [
           {
            "colorbar": {
             "outlinewidth": 0,
             "ticks": ""
            },
            "colorscale": [
             [
              0,
              "#0d0887"
             ],
             [
              0.1111111111111111,
              "#46039f"
             ],
             [
              0.2222222222222222,
              "#7201a8"
             ],
             [
              0.3333333333333333,
              "#9c179e"
             ],
             [
              0.4444444444444444,
              "#bd3786"
             ],
             [
              0.5555555555555556,
              "#d8576b"
             ],
             [
              0.6666666666666666,
              "#ed7953"
             ],
             [
              0.7777777777777778,
              "#fb9f3a"
             ],
             [
              0.8888888888888888,
              "#fdca26"
             ],
             [
              1,
              "#f0f921"
             ]
            ],
            "type": "heatmapgl"
           }
          ],
          "histogram": [
           {
            "marker": {
             "pattern": {
              "fillmode": "overlay",
              "size": 10,
              "solidity": 0.2
             }
            },
            "type": "histogram"
           }
          ],
          "histogram2d": [
           {
            "colorbar": {
             "outlinewidth": 0,
             "ticks": ""
            },
            "colorscale": [
             [
              0,
              "#0d0887"
             ],
             [
              0.1111111111111111,
              "#46039f"
             ],
             [
              0.2222222222222222,
              "#7201a8"
             ],
             [
              0.3333333333333333,
              "#9c179e"
             ],
             [
              0.4444444444444444,
              "#bd3786"
             ],
             [
              0.5555555555555556,
              "#d8576b"
             ],
             [
              0.6666666666666666,
              "#ed7953"
             ],
             [
              0.7777777777777778,
              "#fb9f3a"
             ],
             [
              0.8888888888888888,
              "#fdca26"
             ],
             [
              1,
              "#f0f921"
             ]
            ],
            "type": "histogram2d"
           }
          ],
          "histogram2dcontour": [
           {
            "colorbar": {
             "outlinewidth": 0,
             "ticks": ""
            },
            "colorscale": [
             [
              0,
              "#0d0887"
             ],
             [
              0.1111111111111111,
              "#46039f"
             ],
             [
              0.2222222222222222,
              "#7201a8"
             ],
             [
              0.3333333333333333,
              "#9c179e"
             ],
             [
              0.4444444444444444,
              "#bd3786"
             ],
             [
              0.5555555555555556,
              "#d8576b"
             ],
             [
              0.6666666666666666,
              "#ed7953"
             ],
             [
              0.7777777777777778,
              "#fb9f3a"
             ],
             [
              0.8888888888888888,
              "#fdca26"
             ],
             [
              1,
              "#f0f921"
             ]
            ],
            "type": "histogram2dcontour"
           }
          ],
          "mesh3d": [
           {
            "colorbar": {
             "outlinewidth": 0,
             "ticks": ""
            },
            "type": "mesh3d"
           }
          ],
          "parcoords": [
           {
            "line": {
             "colorbar": {
              "outlinewidth": 0,
              "ticks": ""
             }
            },
            "type": "parcoords"
           }
          ],
          "pie": [
           {
            "automargin": true,
            "type": "pie"
           }
          ],
          "scatter": [
           {
            "marker": {
             "colorbar": {
              "outlinewidth": 0,
              "ticks": ""
             }
            },
            "type": "scatter"
           }
          ],
          "scatter3d": [
           {
            "line": {
             "colorbar": {
              "outlinewidth": 0,
              "ticks": ""
             }
            },
            "marker": {
             "colorbar": {
              "outlinewidth": 0,
              "ticks": ""
             }
            },
            "type": "scatter3d"
           }
          ],
          "scattercarpet": [
           {
            "marker": {
             "colorbar": {
              "outlinewidth": 0,
              "ticks": ""
             }
            },
            "type": "scattercarpet"
           }
          ],
          "scattergeo": [
           {
            "marker": {
             "colorbar": {
              "outlinewidth": 0,
              "ticks": ""
             }
            },
            "type": "scattergeo"
           }
          ],
          "scattergl": [
           {
            "marker": {
             "colorbar": {
              "outlinewidth": 0,
              "ticks": ""
             }
            },
            "type": "scattergl"
           }
          ],
          "scattermapbox": [
           {
            "marker": {
             "colorbar": {
              "outlinewidth": 0,
              "ticks": ""
             }
            },
            "type": "scattermapbox"
           }
          ],
          "scatterpolar": [
           {
            "marker": {
             "colorbar": {
              "outlinewidth": 0,
              "ticks": ""
             }
            },
            "type": "scatterpolar"
           }
          ],
          "scatterpolargl": [
           {
            "marker": {
             "colorbar": {
              "outlinewidth": 0,
              "ticks": ""
             }
            },
            "type": "scatterpolargl"
           }
          ],
          "scatterternary": [
           {
            "marker": {
             "colorbar": {
              "outlinewidth": 0,
              "ticks": ""
             }
            },
            "type": "scatterternary"
           }
          ],
          "surface": [
           {
            "colorbar": {
             "outlinewidth": 0,
             "ticks": ""
            },
            "colorscale": [
             [
              0,
              "#0d0887"
             ],
             [
              0.1111111111111111,
              "#46039f"
             ],
             [
              0.2222222222222222,
              "#7201a8"
             ],
             [
              0.3333333333333333,
              "#9c179e"
             ],
             [
              0.4444444444444444,
              "#bd3786"
             ],
             [
              0.5555555555555556,
              "#d8576b"
             ],
             [
              0.6666666666666666,
              "#ed7953"
             ],
             [
              0.7777777777777778,
              "#fb9f3a"
             ],
             [
              0.8888888888888888,
              "#fdca26"
             ],
             [
              1,
              "#f0f921"
             ]
            ],
            "type": "surface"
           }
          ],
          "table": [
           {
            "cells": {
             "fill": {
              "color": "#EBF0F8"
             },
             "line": {
              "color": "white"
             }
            },
            "header": {
             "fill": {
              "color": "#C8D4E3"
             },
             "line": {
              "color": "white"
             }
            },
            "type": "table"
           }
          ]
         },
         "layout": {
          "annotationdefaults": {
           "arrowcolor": "#2a3f5f",
           "arrowhead": 0,
           "arrowwidth": 1
          },
          "autotypenumbers": "strict",
          "coloraxis": {
           "colorbar": {
            "outlinewidth": 0,
            "ticks": ""
           }
          },
          "colorscale": {
           "diverging": [
            [
             0,
             "#8e0152"
            ],
            [
             0.1,
             "#c51b7d"
            ],
            [
             0.2,
             "#de77ae"
            ],
            [
             0.3,
             "#f1b6da"
            ],
            [
             0.4,
             "#fde0ef"
            ],
            [
             0.5,
             "#f7f7f7"
            ],
            [
             0.6,
             "#e6f5d0"
            ],
            [
             0.7,
             "#b8e186"
            ],
            [
             0.8,
             "#7fbc41"
            ],
            [
             0.9,
             "#4d9221"
            ],
            [
             1,
             "#276419"
            ]
           ],
           "sequential": [
            [
             0,
             "#0d0887"
            ],
            [
             0.1111111111111111,
             "#46039f"
            ],
            [
             0.2222222222222222,
             "#7201a8"
            ],
            [
             0.3333333333333333,
             "#9c179e"
            ],
            [
             0.4444444444444444,
             "#bd3786"
            ],
            [
             0.5555555555555556,
             "#d8576b"
            ],
            [
             0.6666666666666666,
             "#ed7953"
            ],
            [
             0.7777777777777778,
             "#fb9f3a"
            ],
            [
             0.8888888888888888,
             "#fdca26"
            ],
            [
             1,
             "#f0f921"
            ]
           ],
           "sequentialminus": [
            [
             0,
             "#0d0887"
            ],
            [
             0.1111111111111111,
             "#46039f"
            ],
            [
             0.2222222222222222,
             "#7201a8"
            ],
            [
             0.3333333333333333,
             "#9c179e"
            ],
            [
             0.4444444444444444,
             "#bd3786"
            ],
            [
             0.5555555555555556,
             "#d8576b"
            ],
            [
             0.6666666666666666,
             "#ed7953"
            ],
            [
             0.7777777777777778,
             "#fb9f3a"
            ],
            [
             0.8888888888888888,
             "#fdca26"
            ],
            [
             1,
             "#f0f921"
            ]
           ]
          },
          "colorway": [
           "#636efa",
           "#EF553B",
           "#00cc96",
           "#ab63fa",
           "#FFA15A",
           "#19d3f3",
           "#FF6692",
           "#B6E880",
           "#FF97FF",
           "#FECB52"
          ],
          "font": {
           "color": "#2a3f5f"
          },
          "geo": {
           "bgcolor": "white",
           "lakecolor": "white",
           "landcolor": "#E5ECF6",
           "showlakes": true,
           "showland": true,
           "subunitcolor": "white"
          },
          "hoverlabel": {
           "align": "left"
          },
          "hovermode": "closest",
          "mapbox": {
           "style": "light"
          },
          "paper_bgcolor": "white",
          "plot_bgcolor": "#E5ECF6",
          "polar": {
           "angularaxis": {
            "gridcolor": "white",
            "linecolor": "white",
            "ticks": ""
           },
           "bgcolor": "#E5ECF6",
           "radialaxis": {
            "gridcolor": "white",
            "linecolor": "white",
            "ticks": ""
           }
          },
          "scene": {
           "xaxis": {
            "backgroundcolor": "#E5ECF6",
            "gridcolor": "white",
            "gridwidth": 2,
            "linecolor": "white",
            "showbackground": true,
            "ticks": "",
            "zerolinecolor": "white"
           },
           "yaxis": {
            "backgroundcolor": "#E5ECF6",
            "gridcolor": "white",
            "gridwidth": 2,
            "linecolor": "white",
            "showbackground": true,
            "ticks": "",
            "zerolinecolor": "white"
           },
           "zaxis": {
            "backgroundcolor": "#E5ECF6",
            "gridcolor": "white",
            "gridwidth": 2,
            "linecolor": "white",
            "showbackground": true,
            "ticks": "",
            "zerolinecolor": "white"
           }
          },
          "shapedefaults": {
           "line": {
            "color": "#2a3f5f"
           }
          },
          "ternary": {
           "aaxis": {
            "gridcolor": "white",
            "linecolor": "white",
            "ticks": ""
           },
           "baxis": {
            "gridcolor": "white",
            "linecolor": "white",
            "ticks": ""
           },
           "bgcolor": "#E5ECF6",
           "caxis": {
            "gridcolor": "white",
            "linecolor": "white",
            "ticks": ""
           }
          },
          "title": {
           "x": 0.05
          },
          "xaxis": {
           "automargin": true,
           "gridcolor": "white",
           "linecolor": "white",
           "ticks": "",
           "title": {
            "standoff": 15
           },
           "zerolinecolor": "white",
           "zerolinewidth": 2
          },
          "yaxis": {
           "automargin": true,
           "gridcolor": "white",
           "linecolor": "white",
           "ticks": "",
           "title": {
            "standoff": 15
           },
           "zerolinecolor": "white",
           "zerolinewidth": 2
          }
         }
        },
        "title": {
         "text": "n matrix: 40",
         "x": 0.45,
         "y": 0.95,
         "yanchor": "top"
        },
        "xaxis": {
         "anchor": "y",
         "domain": [
          0,
          1
         ],
         "range": [
          0.27419354838709675,
          1.1
         ],
         "title": {
          "text": "precision_macro"
         }
        },
        "yaxis": {
         "anchor": "x",
         "domain": [
          0,
          1
         ],
         "range": [
          0,
          1.1
         ],
         "title": {
          "text": "recall_micro"
         }
        }
       }
      }
     },
     "metadata": {},
     "output_type": "display_data"
    },
    {
     "data": {
      "application/vnd.plotly.v1+json": {
       "config": {
        "plotlyServerURL": "https://plot.ly"
       },
       "data": [
        {
         "hovertemplate": "labels=Cristal 0% - c/error<br>precision_macro=%{x}<br>recall_micro=%{y}<extra></extra>",
         "legendgroup": "Cristal 0% - c/error",
         "marker": {
          "color": "#636efa",
          "symbol": "circle"
         },
         "mode": "markers",
         "name": "Cristal 0% - c/error",
         "orientation": "v",
         "showlegend": true,
         "type": "scatter",
         "x": [
          0.6785714285714286,
          0.2916666666666667,
          0.6228070175438596,
          0.288135593220339,
          0.5909090909090908,
          0.2982456140350877,
          0.32407407407407407,
          0.8017241379310345,
          0.8214285714285714,
          0.45614035087719296,
          0.6090909090909091,
          0.30833333333333335,
          0.8103448275862069,
          0.3,
          0.6
         ],
         "xaxis": "x",
         "y": [
          0.6166666666666667,
          0.5833333333333334,
          0.5833333333333334,
          0.5666666666666667,
          0.5833333333333334,
          0.5666666666666667,
          0.5833333333333334,
          0.6166666666666667,
          0.6666666666666666,
          0.5666666666666667,
          0.6166666666666667,
          0.6166666666666667,
          0.6333333333333333,
          0.6,
          0.6
         ],
         "yaxis": "y"
        },
        {
         "hovertemplate": "labels=Cristal 0% - s/error<br>precision_macro=%{x}<br>recall_micro=%{y}<extra></extra>",
         "legendgroup": "Cristal 0% - s/error",
         "marker": {
          "color": "#EF553B",
          "symbol": "diamond"
         },
         "mode": "markers",
         "name": "Cristal 0% - s/error",
         "orientation": "v",
         "showlegend": true,
         "type": "scatter",
         "x": [
          0.9915254237288136,
          0.4827586206896552,
          0.9915254237288136,
          0.5,
          1,
          0.4830508474576271,
          1,
          0.9830508474576272,
          0.8333333333333333,
          0.9745762711864407,
          0.8333333333333333,
          0.9912280701754386,
          1,
          0.48333333333333334,
          1
         ],
         "xaxis": "x",
         "y": [
          0.9833333333333333,
          0.9333333333333333,
          0.9833333333333333,
          1,
          1,
          0.95,
          1,
          0.9666666666666667,
          0.9833333333333333,
          0.95,
          0.9833333333333333,
          0.9833333333333333,
          1,
          0.9666666666666667,
          1
         ],
         "yaxis": "y"
        },
        {
         "hovertemplate": "labels=Cristal 2/10%<br>precision_macro=%{x}<br>recall_micro=%{y}<extra></extra>",
         "legendgroup": "Cristal 2/10%",
         "marker": {
          "color": "#00cc96",
          "symbol": "square"
         },
         "mode": "markers",
         "name": "Cristal 2/10%",
         "orientation": "v",
         "showlegend": true,
         "type": "scatter",
         "x": [
          0.6201923076923077,
          0.6052631578947368,
          0.4722222222222222,
          0.5185185185185185,
          0.5535714285714286,
          0.4444444444444444,
          0.4444444444444444,
          0.62,
          0.5148247978436657,
          0.39285714285714285,
          0.4642857142857143,
          0.42105263157894735,
          0.5535714285714286,
          0.6964285714285714,
          0.41818181818181815
         ],
         "xaxis": "x",
         "y": [
          0.8,
          0.85,
          0.85,
          0.8,
          0.8166666666666667,
          0.8,
          0.8,
          0.8333333333333334,
          0.8,
          0.7333333333333333,
          0.8666666666666667,
          0.8,
          0.8166666666666667,
          0.8666666666666667,
          0.7666666666666667
         ],
         "yaxis": "y"
        },
        {
         "hovertemplate": "labels=Cristal 5/10%<br>precision_macro=%{x}<br>recall_micro=%{y}<extra></extra>",
         "legendgroup": "Cristal 5/10%",
         "marker": {
          "color": "#ab63fa",
          "symbol": "x"
         },
         "mode": "markers",
         "name": "Cristal 5/10%",
         "orientation": "v",
         "showlegend": true,
         "type": "scatter",
         "x": [
          0.8344155844155845,
          0.78125,
          0.8537234042553192,
          0.8831168831168831,
          0.9888888888888889,
          0.8344155844155845,
          0.8378048780487805,
          0.9206349206349206,
          0.8565217391304347,
          0.7151162790697674,
          0.8214285714285714,
          0.7782608695652173,
          0.8636363636363636,
          0.9206349206349206,
          0.7022727272727273
         ],
         "xaxis": "x",
         "y": [
          0.9215686274509803,
          0.8823529411764706,
          0.9411764705882353,
          0.9019607843137255,
          0.9803921568627451,
          0.9215686274509803,
          0.9215686274509803,
          0.9411764705882353,
          0.9019607843137255,
          0.8627450980392157,
          0.9215686274509803,
          0.9215686274509803,
          0.9411764705882353,
          0.9411764705882353,
          0.8431372549019608
         ],
         "yaxis": "y"
        },
        {
         "hovertemplate": "labels=Cristal 8/10%<br>precision_macro=%{x}<br>recall_micro=%{y}<extra></extra>",
         "legendgroup": "Cristal 8/10%",
         "marker": {
          "color": "#FFA15A",
          "symbol": "cross"
         },
         "mode": "markers",
         "name": "Cristal 8/10%",
         "orientation": "v",
         "showlegend": true,
         "type": "scatter",
         "x": [
          0.7443181818181819,
          0.6777920410783055,
          0.7329545454545454,
          0.7216117216117216,
          0.8333333333333334,
          0.7593167701863355,
          0.7954545454545454,
          0.7375,
          0.8333333333333333,
          0.8222222222222222,
          0.7952503209242618,
          0.8318356867779204,
          0.875,
          0.6919127086007703,
          0.7811296534017972
         ],
         "xaxis": "x",
         "y": [
          0.8,
          0.7333333333333333,
          0.7833333333333333,
          0.7666666666666667,
          0.8333333333333334,
          0.7833333333333333,
          0.8166666666666667,
          0.7833333333333333,
          0.8833333333333333,
          0.8333333333333334,
          0.8166666666666667,
          0.8666666666666667,
          0.9,
          0.7333333333333333,
          0.8166666666666667
         ],
         "yaxis": "y"
        },
        {
         "hovertemplate": "labels=Cristal 5/30%<br>precision_macro=%{x}<br>recall_micro=%{y}<extra></extra>",
         "legendgroup": "Cristal 5/30%",
         "marker": {
          "color": "#19d3f3",
          "symbol": "circle"
         },
         "mode": "markers",
         "name": "Cristal 5/30%",
         "orientation": "v",
         "showlegend": true,
         "type": "scatter",
         "x": [
          0.3594771241830065,
          0.29245283018867924,
          0.28431372549019607,
          0.33116883116883117,
          0.4472049689440994,
          0.375,
          0.30612244897959184,
          0.3113207547169811,
          0.4,
          0.41000000000000003,
          0.33,
          0.26,
          0.3209647495361781,
          0.2830188679245283,
          0.4164420485175202
         ],
         "xaxis": "x",
         "y": [
          0.5333333333333333,
          0.5166666666666667,
          0.48333333333333334,
          0.48333333333333334,
          0.5333333333333333,
          0.5,
          0.5,
          0.55,
          0.5333333333333333,
          0.55,
          0.48333333333333334,
          0.43333333333333335,
          0.4666666666666667,
          0.5,
          0.5166666666666667
         ],
         "yaxis": "y"
        },
        {
         "hovertemplate": "labels=Cristal 15/30%<br>precision_macro=%{x}<br>recall_micro=%{y}<extra></extra>",
         "legendgroup": "Cristal 15/30%",
         "marker": {
          "color": "#FF6692",
          "symbol": "diamond"
         },
         "mode": "markers",
         "name": "Cristal 15/30%",
         "orientation": "v",
         "showlegend": true,
         "type": "scatter",
         "x": [
          0.5048076923076923,
          0.5048076923076923,
          0.3921832884097035,
          0.5538033395176252,
          0.39814814814814814,
          0.4814814814814815,
          0.444743935309973,
          0.49814471243042674,
          0.42000000000000004,
          0.39903846153846156,
          0.5457516339869282,
          0.54,
          0.4814814814814815,
          0.36538461538461536,
          0.40909090909090906
         ],
         "xaxis": "x",
         "y": [
          0.6,
          0.6,
          0.5833333333333334,
          0.6166666666666667,
          0.5833333333333334,
          0.6,
          0.5666666666666667,
          0.5833333333333334,
          0.5666666666666667,
          0.6,
          0.6166666666666667,
          0.6333333333333333,
          0.6,
          0.6333333333333333,
          0.5833333333333334
         ],
         "yaxis": "y"
        },
        {
         "hovertemplate": "labels=Cristal 25/30%<br>precision_macro=%{x}<br>recall_micro=%{y}<extra></extra>",
         "legendgroup": "Cristal 25/30%",
         "marker": {
          "color": "#B6E880",
          "symbol": "square"
         },
         "mode": "markers",
         "name": "Cristal 25/30%",
         "orientation": "v",
         "showlegend": true,
         "type": "scatter",
         "x": [
          0.7105751391465678,
          0.6894664842681258,
          0.71875,
          0.6661490683229814,
          0.6888888888888889,
          0.7356792144026187,
          0.7375,
          0.6555555555555556,
          0.7386363636363636,
          0.6477272727272727,
          0.6894664842681258,
          0.7127329192546584,
          0.7073863636363636,
          0.6304347826086957,
          0.7624223602484472
         ],
         "xaxis": "x",
         "y": [
          0.7,
          0.7333333333333333,
          0.7333333333333333,
          0.7166666666666667,
          0.7333333333333333,
          0.7166666666666667,
          0.7333333333333333,
          0.6833333333333333,
          0.7333333333333333,
          0.7166666666666667,
          0.7333333333333333,
          0.75,
          0.7166666666666667,
          0.7,
          0.75
         ],
         "yaxis": "y"
        }
       ],
       "layout": {
        "legend": {
         "title": {
          "text": ""
         },
         "tracegroupgap": 0
        },
        "margin": {
         "b": 20,
         "l": 20,
         "r": 20,
         "t": 40
        },
        "template": {
         "data": {
          "bar": [
           {
            "error_x": {
             "color": "#2a3f5f"
            },
            "error_y": {
             "color": "#2a3f5f"
            },
            "marker": {
             "line": {
              "color": "#E5ECF6",
              "width": 0.5
             },
             "pattern": {
              "fillmode": "overlay",
              "size": 10,
              "solidity": 0.2
             }
            },
            "type": "bar"
           }
          ],
          "barpolar": [
           {
            "marker": {
             "line": {
              "color": "#E5ECF6",
              "width": 0.5
             },
             "pattern": {
              "fillmode": "overlay",
              "size": 10,
              "solidity": 0.2
             }
            },
            "type": "barpolar"
           }
          ],
          "carpet": [
           {
            "aaxis": {
             "endlinecolor": "#2a3f5f",
             "gridcolor": "white",
             "linecolor": "white",
             "minorgridcolor": "white",
             "startlinecolor": "#2a3f5f"
            },
            "baxis": {
             "endlinecolor": "#2a3f5f",
             "gridcolor": "white",
             "linecolor": "white",
             "minorgridcolor": "white",
             "startlinecolor": "#2a3f5f"
            },
            "type": "carpet"
           }
          ],
          "choropleth": [
           {
            "colorbar": {
             "outlinewidth": 0,
             "ticks": ""
            },
            "type": "choropleth"
           }
          ],
          "contour": [
           {
            "colorbar": {
             "outlinewidth": 0,
             "ticks": ""
            },
            "colorscale": [
             [
              0,
              "#0d0887"
             ],
             [
              0.1111111111111111,
              "#46039f"
             ],
             [
              0.2222222222222222,
              "#7201a8"
             ],
             [
              0.3333333333333333,
              "#9c179e"
             ],
             [
              0.4444444444444444,
              "#bd3786"
             ],
             [
              0.5555555555555556,
              "#d8576b"
             ],
             [
              0.6666666666666666,
              "#ed7953"
             ],
             [
              0.7777777777777778,
              "#fb9f3a"
             ],
             [
              0.8888888888888888,
              "#fdca26"
             ],
             [
              1,
              "#f0f921"
             ]
            ],
            "type": "contour"
           }
          ],
          "contourcarpet": [
           {
            "colorbar": {
             "outlinewidth": 0,
             "ticks": ""
            },
            "type": "contourcarpet"
           }
          ],
          "heatmap": [
           {
            "colorbar": {
             "outlinewidth": 0,
             "ticks": ""
            },
            "colorscale": [
             [
              0,
              "#0d0887"
             ],
             [
              0.1111111111111111,
              "#46039f"
             ],
             [
              0.2222222222222222,
              "#7201a8"
             ],
             [
              0.3333333333333333,
              "#9c179e"
             ],
             [
              0.4444444444444444,
              "#bd3786"
             ],
             [
              0.5555555555555556,
              "#d8576b"
             ],
             [
              0.6666666666666666,
              "#ed7953"
             ],
             [
              0.7777777777777778,
              "#fb9f3a"
             ],
             [
              0.8888888888888888,
              "#fdca26"
             ],
             [
              1,
              "#f0f921"
             ]
            ],
            "type": "heatmap"
           }
          ],
          "heatmapgl": [
           {
            "colorbar": {
             "outlinewidth": 0,
             "ticks": ""
            },
            "colorscale": [
             [
              0,
              "#0d0887"
             ],
             [
              0.1111111111111111,
              "#46039f"
             ],
             [
              0.2222222222222222,
              "#7201a8"
             ],
             [
              0.3333333333333333,
              "#9c179e"
             ],
             [
              0.4444444444444444,
              "#bd3786"
             ],
             [
              0.5555555555555556,
              "#d8576b"
             ],
             [
              0.6666666666666666,
              "#ed7953"
             ],
             [
              0.7777777777777778,
              "#fb9f3a"
             ],
             [
              0.8888888888888888,
              "#fdca26"
             ],
             [
              1,
              "#f0f921"
             ]
            ],
            "type": "heatmapgl"
           }
          ],
          "histogram": [
           {
            "marker": {
             "pattern": {
              "fillmode": "overlay",
              "size": 10,
              "solidity": 0.2
             }
            },
            "type": "histogram"
           }
          ],
          "histogram2d": [
           {
            "colorbar": {
             "outlinewidth": 0,
             "ticks": ""
            },
            "colorscale": [
             [
              0,
              "#0d0887"
             ],
             [
              0.1111111111111111,
              "#46039f"
             ],
             [
              0.2222222222222222,
              "#7201a8"
             ],
             [
              0.3333333333333333,
              "#9c179e"
             ],
             [
              0.4444444444444444,
              "#bd3786"
             ],
             [
              0.5555555555555556,
              "#d8576b"
             ],
             [
              0.6666666666666666,
              "#ed7953"
             ],
             [
              0.7777777777777778,
              "#fb9f3a"
             ],
             [
              0.8888888888888888,
              "#fdca26"
             ],
             [
              1,
              "#f0f921"
             ]
            ],
            "type": "histogram2d"
           }
          ],
          "histogram2dcontour": [
           {
            "colorbar": {
             "outlinewidth": 0,
             "ticks": ""
            },
            "colorscale": [
             [
              0,
              "#0d0887"
             ],
             [
              0.1111111111111111,
              "#46039f"
             ],
             [
              0.2222222222222222,
              "#7201a8"
             ],
             [
              0.3333333333333333,
              "#9c179e"
             ],
             [
              0.4444444444444444,
              "#bd3786"
             ],
             [
              0.5555555555555556,
              "#d8576b"
             ],
             [
              0.6666666666666666,
              "#ed7953"
             ],
             [
              0.7777777777777778,
              "#fb9f3a"
             ],
             [
              0.8888888888888888,
              "#fdca26"
             ],
             [
              1,
              "#f0f921"
             ]
            ],
            "type": "histogram2dcontour"
           }
          ],
          "mesh3d": [
           {
            "colorbar": {
             "outlinewidth": 0,
             "ticks": ""
            },
            "type": "mesh3d"
           }
          ],
          "parcoords": [
           {
            "line": {
             "colorbar": {
              "outlinewidth": 0,
              "ticks": ""
             }
            },
            "type": "parcoords"
           }
          ],
          "pie": [
           {
            "automargin": true,
            "type": "pie"
           }
          ],
          "scatter": [
           {
            "marker": {
             "colorbar": {
              "outlinewidth": 0,
              "ticks": ""
             }
            },
            "type": "scatter"
           }
          ],
          "scatter3d": [
           {
            "line": {
             "colorbar": {
              "outlinewidth": 0,
              "ticks": ""
             }
            },
            "marker": {
             "colorbar": {
              "outlinewidth": 0,
              "ticks": ""
             }
            },
            "type": "scatter3d"
           }
          ],
          "scattercarpet": [
           {
            "marker": {
             "colorbar": {
              "outlinewidth": 0,
              "ticks": ""
             }
            },
            "type": "scattercarpet"
           }
          ],
          "scattergeo": [
           {
            "marker": {
             "colorbar": {
              "outlinewidth": 0,
              "ticks": ""
             }
            },
            "type": "scattergeo"
           }
          ],
          "scattergl": [
           {
            "marker": {
             "colorbar": {
              "outlinewidth": 0,
              "ticks": ""
             }
            },
            "type": "scattergl"
           }
          ],
          "scattermapbox": [
           {
            "marker": {
             "colorbar": {
              "outlinewidth": 0,
              "ticks": ""
             }
            },
            "type": "scattermapbox"
           }
          ],
          "scatterpolar": [
           {
            "marker": {
             "colorbar": {
              "outlinewidth": 0,
              "ticks": ""
             }
            },
            "type": "scatterpolar"
           }
          ],
          "scatterpolargl": [
           {
            "marker": {
             "colorbar": {
              "outlinewidth": 0,
              "ticks": ""
             }
            },
            "type": "scatterpolargl"
           }
          ],
          "scatterternary": [
           {
            "marker": {
             "colorbar": {
              "outlinewidth": 0,
              "ticks": ""
             }
            },
            "type": "scatterternary"
           }
          ],
          "surface": [
           {
            "colorbar": {
             "outlinewidth": 0,
             "ticks": ""
            },
            "colorscale": [
             [
              0,
              "#0d0887"
             ],
             [
              0.1111111111111111,
              "#46039f"
             ],
             [
              0.2222222222222222,
              "#7201a8"
             ],
             [
              0.3333333333333333,
              "#9c179e"
             ],
             [
              0.4444444444444444,
              "#bd3786"
             ],
             [
              0.5555555555555556,
              "#d8576b"
             ],
             [
              0.6666666666666666,
              "#ed7953"
             ],
             [
              0.7777777777777778,
              "#fb9f3a"
             ],
             [
              0.8888888888888888,
              "#fdca26"
             ],
             [
              1,
              "#f0f921"
             ]
            ],
            "type": "surface"
           }
          ],
          "table": [
           {
            "cells": {
             "fill": {
              "color": "#EBF0F8"
             },
             "line": {
              "color": "white"
             }
            },
            "header": {
             "fill": {
              "color": "#C8D4E3"
             },
             "line": {
              "color": "white"
             }
            },
            "type": "table"
           }
          ]
         },
         "layout": {
          "annotationdefaults": {
           "arrowcolor": "#2a3f5f",
           "arrowhead": 0,
           "arrowwidth": 1
          },
          "autotypenumbers": "strict",
          "coloraxis": {
           "colorbar": {
            "outlinewidth": 0,
            "ticks": ""
           }
          },
          "colorscale": {
           "diverging": [
            [
             0,
             "#8e0152"
            ],
            [
             0.1,
             "#c51b7d"
            ],
            [
             0.2,
             "#de77ae"
            ],
            [
             0.3,
             "#f1b6da"
            ],
            [
             0.4,
             "#fde0ef"
            ],
            [
             0.5,
             "#f7f7f7"
            ],
            [
             0.6,
             "#e6f5d0"
            ],
            [
             0.7,
             "#b8e186"
            ],
            [
             0.8,
             "#7fbc41"
            ],
            [
             0.9,
             "#4d9221"
            ],
            [
             1,
             "#276419"
            ]
           ],
           "sequential": [
            [
             0,
             "#0d0887"
            ],
            [
             0.1111111111111111,
             "#46039f"
            ],
            [
             0.2222222222222222,
             "#7201a8"
            ],
            [
             0.3333333333333333,
             "#9c179e"
            ],
            [
             0.4444444444444444,
             "#bd3786"
            ],
            [
             0.5555555555555556,
             "#d8576b"
            ],
            [
             0.6666666666666666,
             "#ed7953"
            ],
            [
             0.7777777777777778,
             "#fb9f3a"
            ],
            [
             0.8888888888888888,
             "#fdca26"
            ],
            [
             1,
             "#f0f921"
            ]
           ],
           "sequentialminus": [
            [
             0,
             "#0d0887"
            ],
            [
             0.1111111111111111,
             "#46039f"
            ],
            [
             0.2222222222222222,
             "#7201a8"
            ],
            [
             0.3333333333333333,
             "#9c179e"
            ],
            [
             0.4444444444444444,
             "#bd3786"
            ],
            [
             0.5555555555555556,
             "#d8576b"
            ],
            [
             0.6666666666666666,
             "#ed7953"
            ],
            [
             0.7777777777777778,
             "#fb9f3a"
            ],
            [
             0.8888888888888888,
             "#fdca26"
            ],
            [
             1,
             "#f0f921"
            ]
           ]
          },
          "colorway": [
           "#636efa",
           "#EF553B",
           "#00cc96",
           "#ab63fa",
           "#FFA15A",
           "#19d3f3",
           "#FF6692",
           "#B6E880",
           "#FF97FF",
           "#FECB52"
          ],
          "font": {
           "color": "#2a3f5f"
          },
          "geo": {
           "bgcolor": "white",
           "lakecolor": "white",
           "landcolor": "#E5ECF6",
           "showlakes": true,
           "showland": true,
           "subunitcolor": "white"
          },
          "hoverlabel": {
           "align": "left"
          },
          "hovermode": "closest",
          "mapbox": {
           "style": "light"
          },
          "paper_bgcolor": "white",
          "plot_bgcolor": "#E5ECF6",
          "polar": {
           "angularaxis": {
            "gridcolor": "white",
            "linecolor": "white",
            "ticks": ""
           },
           "bgcolor": "#E5ECF6",
           "radialaxis": {
            "gridcolor": "white",
            "linecolor": "white",
            "ticks": ""
           }
          },
          "scene": {
           "xaxis": {
            "backgroundcolor": "#E5ECF6",
            "gridcolor": "white",
            "gridwidth": 2,
            "linecolor": "white",
            "showbackground": true,
            "ticks": "",
            "zerolinecolor": "white"
           },
           "yaxis": {
            "backgroundcolor": "#E5ECF6",
            "gridcolor": "white",
            "gridwidth": 2,
            "linecolor": "white",
            "showbackground": true,
            "ticks": "",
            "zerolinecolor": "white"
           },
           "zaxis": {
            "backgroundcolor": "#E5ECF6",
            "gridcolor": "white",
            "gridwidth": 2,
            "linecolor": "white",
            "showbackground": true,
            "ticks": "",
            "zerolinecolor": "white"
           }
          },
          "shapedefaults": {
           "line": {
            "color": "#2a3f5f"
           }
          },
          "ternary": {
           "aaxis": {
            "gridcolor": "white",
            "linecolor": "white",
            "ticks": ""
           },
           "baxis": {
            "gridcolor": "white",
            "linecolor": "white",
            "ticks": ""
           },
           "bgcolor": "#E5ECF6",
           "caxis": {
            "gridcolor": "white",
            "linecolor": "white",
            "ticks": ""
           }
          },
          "title": {
           "x": 0.05
          },
          "xaxis": {
           "automargin": true,
           "gridcolor": "white",
           "linecolor": "white",
           "ticks": "",
           "title": {
            "standoff": 15
           },
           "zerolinecolor": "white",
           "zerolinewidth": 2
          },
          "yaxis": {
           "automargin": true,
           "gridcolor": "white",
           "linecolor": "white",
           "ticks": "",
           "title": {
            "standoff": 15
           },
           "zerolinecolor": "white",
           "zerolinewidth": 2
          }
         }
        },
        "title": {
         "text": "n matrix: 60",
         "x": 0.45,
         "y": 0.95,
         "yanchor": "top"
        },
        "xaxis": {
         "anchor": "y",
         "domain": [
          0,
          1
         ],
         "range": [
          0.26,
          1.1
         ],
         "title": {
          "text": "precision_macro"
         }
        },
        "yaxis": {
         "anchor": "x",
         "domain": [
          0,
          1
         ],
         "range": [
          0,
          1.1
         ],
         "title": {
          "text": "recall_micro"
         }
        }
       }
      }
     },
     "metadata": {},
     "output_type": "display_data"
    },
    {
     "data": {
      "application/vnd.plotly.v1+json": {
       "config": {
        "plotlyServerURL": "https://plot.ly"
       },
       "data": [
        {
         "hovertemplate": "labels=Cristal 0% - c/error<br>precision_macro=%{x}<br>recall_micro=%{y}<extra></extra>",
         "legendgroup": "Cristal 0% - c/error",
         "marker": {
          "color": "#636efa",
          "symbol": "circle"
         },
         "mode": "markers",
         "name": "Cristal 0% - c/error",
         "orientation": "v",
         "showlegend": true,
         "type": "scatter",
         "x": [
          0.5576923076923077,
          0.5512820512820513,
          0.7922077922077921,
          0.45238095238095233,
          0.30625,
          0.29375,
          0.42105263157894735,
          0.3092105263157895,
          0.5512820512820513,
          0.8012820512820513,
          0.72,
          0.2987012987012987,
          0.4653679653679653,
          0.5448717948717949,
          0.7911392405063291
         ],
         "xaxis": "x",
         "y": [
          0.6125,
          0.6,
          0.6,
          0.5625,
          0.6125,
          0.5875,
          0.575,
          0.5875,
          0.6,
          0.6125,
          0.65,
          0.575,
          0.5875,
          0.5875,
          0.5875
         ],
         "yaxis": "y"
        },
        {
         "hovertemplate": "labels=Cristal 0% - s/error<br>precision_macro=%{x}<br>recall_micro=%{y}<extra></extra>",
         "legendgroup": "Cristal 0% - s/error",
         "marker": {
          "color": "#EF553B",
          "symbol": "diamond"
         },
         "mode": "markers",
         "name": "Cristal 0% - s/error",
         "orientation": "v",
         "showlegend": true,
         "type": "scatter",
         "x": [
          0.6666666666666666,
          0.6536796536796536,
          0.75,
          0.868421052631579,
          0.48717948717948717,
          1,
          0.5,
          1,
          0.487012987012987,
          0.48717948717948717,
          1,
          0.8333333333333333,
          1,
          0.49375,
          0.4875
         ],
         "xaxis": "x",
         "y": [
          0.975,
          0.95,
          0.975,
          0.975,
          0.95,
          1,
          0.9875,
          1,
          0.9375,
          0.95,
          1,
          0.9875,
          1,
          0.9875,
          0.975
         ],
         "yaxis": "y"
        },
        {
         "hovertemplate": "labels=Cristal 2/10%<br>precision_macro=%{x}<br>recall_micro=%{y}<extra></extra>",
         "legendgroup": "Cristal 2/10%",
         "marker": {
          "color": "#00cc96",
          "symbol": "square"
         },
         "mode": "markers",
         "name": "Cristal 2/10%",
         "orientation": "v",
         "showlegend": true,
         "type": "scatter",
         "x": [
          0.4383561643835616,
          0.513302034428795,
          0.5371819960861056,
          0.42857142857142855,
          0.5657894736842105,
          0.6891891891891893,
          0.49608610567514677,
          0.6466666666666667,
          0.6474358974358974,
          0.5266666666666667,
          0.5474308300395256,
          0.4383561643835616,
          0.7266666666666667,
          0.4144736842105263,
          0.5694444444444444
         ],
         "xaxis": "x",
         "y": [
          0.8,
          0.825,
          0.8625,
          0.825,
          0.85,
          0.85,
          0.7875,
          0.8625,
          0.7875,
          0.8125,
          0.8125,
          0.8,
          0.8375,
          0.7875,
          0.825
         ],
         "yaxis": "y"
        },
        {
         "hovertemplate": "labels=Cristal 5/10%<br>precision_macro=%{x}<br>recall_micro=%{y}<extra></extra>",
         "legendgroup": "Cristal 5/10%",
         "marker": {
          "color": "#ab63fa",
          "symbol": "x"
         },
         "mode": "markers",
         "name": "Cristal 5/10%",
         "orientation": "v",
         "showlegend": true,
         "type": "scatter",
         "x": [
          0.743879472693032,
          0.8327586206896551,
          0.871939736346516,
          0.8161592505854801,
          0.7693032015065914,
          0.7523540489642184,
          0.6541666666666667,
          0.7201405152224825,
          0.6883239171374764,
          0.7258064516129032,
          0.9745762711864407,
          0.935969868173258,
          0.8666666666666667,
          0.6708333333333334,
          0.7608286252354048
         ],
         "xaxis": "x",
         "y": [
          0.8823529411764706,
          0.9264705882352942,
          0.9411764705882353,
          0.8970588235294118,
          0.9264705882352942,
          0.8970588235294118,
          0.8676470588235294,
          0.8382352941176471,
          0.8676470588235294,
          0.9117647058823529,
          0.9558823529411765,
          0.9705882352941176,
          0.9558823529411765,
          0.8970588235294118,
          0.9117647058823529
         ],
         "yaxis": "y"
        },
        {
         "hovertemplate": "labels=Cristal 8/10%<br>precision_macro=%{x}<br>recall_micro=%{y}<extra></extra>",
         "legendgroup": "Cristal 8/10%",
         "marker": {
          "color": "#FFA15A",
          "symbol": "cross"
         },
         "mode": "markers",
         "name": "Cristal 8/10%",
         "orientation": "v",
         "showlegend": true,
         "type": "scatter",
         "x": [
          0.7955974842767295,
          0.7492163009404389,
          0.7513348588863462,
          0.8125,
          0.7806267806267806,
          0.795946890286513,
          0.683088749126485,
          0.7857142857142857,
          0.7208245981830887,
          0.8422619047619048,
          0.7589285714285714,
          0.7321428571428572,
          0.7440476190476191,
          0.8083333333333333,
          0.7720797720797721
         ],
         "xaxis": "x",
         "y": [
          0.8375,
          0.8,
          0.775,
          0.8375,
          0.825,
          0.85,
          0.7125,
          0.8,
          0.7625,
          0.8625,
          0.8125,
          0.775,
          0.775,
          0.8125,
          0.8
         ],
         "yaxis": "y"
        },
        {
         "hovertemplate": "labels=Cristal 5/30%<br>precision_macro=%{x}<br>recall_micro=%{y}<extra></extra>",
         "legendgroup": "Cristal 5/30%",
         "marker": {
          "color": "#19d3f3",
          "symbol": "circle"
         },
         "mode": "markers",
         "name": "Cristal 5/30%",
         "orientation": "v",
         "showlegend": true,
         "type": "scatter",
         "x": [
          0.32564102564102565,
          0.38404133180252586,
          0.452353616532721,
          0.2826086956521739,
          0.3084415584415584,
          0.38203463203463206,
          0.3220436280137773,
          0.3359375,
          0.38203463203463206,
          0.3142857142857143,
          0.2887323943661972,
          0.3425559947299078,
          0.3425559947299078,
          0.3230769230769231,
          0.3369690011481056
         ],
         "xaxis": "x",
         "y": [
          0.4875,
          0.4875,
          0.55,
          0.4875,
          0.4625,
          0.5375,
          0.4875,
          0.5,
          0.5375,
          0.475,
          0.5125,
          0.525,
          0.525,
          0.525,
          0.5125
         ],
         "yaxis": "y"
        },
        {
         "hovertemplate": "labels=Cristal 15/30%<br>precision_macro=%{x}<br>recall_micro=%{y}<extra></extra>",
         "legendgroup": "Cristal 15/30%",
         "marker": {
          "color": "#FF6692",
          "symbol": "diamond"
         },
         "mode": "markers",
         "name": "Cristal 15/30%",
         "orientation": "v",
         "showlegend": true,
         "type": "scatter",
         "x": [
          0.42881745120551096,
          0.3570487483530962,
          0.5392156862745098,
          0.38654147104851333,
          0.3724569640062598,
          0.5173160173160173,
          0.5151515151515151,
          0.5355912743972445,
          0.5390625,
          0.36541471048513297,
          0.4052812858783008,
          0.3978185993111366,
          0.5487179487179488,
          0.44999999999999996,
          0.46875
         ],
         "xaxis": "x",
         "y": [
          0.5625,
          0.55,
          0.6125,
          0.6,
          0.575,
          0.575,
          0.625,
          0.6375,
          0.6,
          0.5625,
          0.575,
          0.5625,
          0.6,
          0.5625,
          0.5625
         ],
         "yaxis": "y"
        },
        {
         "hovertemplate": "labels=Cristal 25/30%<br>precision_macro=%{x}<br>recall_micro=%{y}<extra></extra>",
         "legendgroup": "Cristal 25/30%",
         "marker": {
          "color": "#B6E880",
          "symbol": "square"
         },
         "mode": "markers",
         "name": "Cristal 25/30%",
         "orientation": "v",
         "showlegend": true,
         "type": "scatter",
         "x": [
          0.6727357609710551,
          0.6998207885304659,
          0.6727688787185355,
          0.7027610008628128,
          0.7166666666666667,
          0.6903127383676583,
          0.6945642795513374,
          0.7130750605326877,
          0.7343260188087775,
          0.6434169278996865,
          0.8125,
          0.731638418079096,
          0.6875,
          0.6416464891041163,
          0.597497842968076
         ],
         "xaxis": "x",
         "y": [
          0.6875,
          0.6875,
          0.7,
          0.7125,
          0.75,
          0.725,
          0.7,
          0.7125,
          0.7375,
          0.6875,
          0.775,
          0.7625,
          0.6875,
          0.675,
          0.6625
         ],
         "yaxis": "y"
        }
       ],
       "layout": {
        "legend": {
         "title": {
          "text": ""
         },
         "tracegroupgap": 0
        },
        "margin": {
         "b": 20,
         "l": 20,
         "r": 20,
         "t": 40
        },
        "template": {
         "data": {
          "bar": [
           {
            "error_x": {
             "color": "#2a3f5f"
            },
            "error_y": {
             "color": "#2a3f5f"
            },
            "marker": {
             "line": {
              "color": "#E5ECF6",
              "width": 0.5
             },
             "pattern": {
              "fillmode": "overlay",
              "size": 10,
              "solidity": 0.2
             }
            },
            "type": "bar"
           }
          ],
          "barpolar": [
           {
            "marker": {
             "line": {
              "color": "#E5ECF6",
              "width": 0.5
             },
             "pattern": {
              "fillmode": "overlay",
              "size": 10,
              "solidity": 0.2
             }
            },
            "type": "barpolar"
           }
          ],
          "carpet": [
           {
            "aaxis": {
             "endlinecolor": "#2a3f5f",
             "gridcolor": "white",
             "linecolor": "white",
             "minorgridcolor": "white",
             "startlinecolor": "#2a3f5f"
            },
            "baxis": {
             "endlinecolor": "#2a3f5f",
             "gridcolor": "white",
             "linecolor": "white",
             "minorgridcolor": "white",
             "startlinecolor": "#2a3f5f"
            },
            "type": "carpet"
           }
          ],
          "choropleth": [
           {
            "colorbar": {
             "outlinewidth": 0,
             "ticks": ""
            },
            "type": "choropleth"
           }
          ],
          "contour": [
           {
            "colorbar": {
             "outlinewidth": 0,
             "ticks": ""
            },
            "colorscale": [
             [
              0,
              "#0d0887"
             ],
             [
              0.1111111111111111,
              "#46039f"
             ],
             [
              0.2222222222222222,
              "#7201a8"
             ],
             [
              0.3333333333333333,
              "#9c179e"
             ],
             [
              0.4444444444444444,
              "#bd3786"
             ],
             [
              0.5555555555555556,
              "#d8576b"
             ],
             [
              0.6666666666666666,
              "#ed7953"
             ],
             [
              0.7777777777777778,
              "#fb9f3a"
             ],
             [
              0.8888888888888888,
              "#fdca26"
             ],
             [
              1,
              "#f0f921"
             ]
            ],
            "type": "contour"
           }
          ],
          "contourcarpet": [
           {
            "colorbar": {
             "outlinewidth": 0,
             "ticks": ""
            },
            "type": "contourcarpet"
           }
          ],
          "heatmap": [
           {
            "colorbar": {
             "outlinewidth": 0,
             "ticks": ""
            },
            "colorscale": [
             [
              0,
              "#0d0887"
             ],
             [
              0.1111111111111111,
              "#46039f"
             ],
             [
              0.2222222222222222,
              "#7201a8"
             ],
             [
              0.3333333333333333,
              "#9c179e"
             ],
             [
              0.4444444444444444,
              "#bd3786"
             ],
             [
              0.5555555555555556,
              "#d8576b"
             ],
             [
              0.6666666666666666,
              "#ed7953"
             ],
             [
              0.7777777777777778,
              "#fb9f3a"
             ],
             [
              0.8888888888888888,
              "#fdca26"
             ],
             [
              1,
              "#f0f921"
             ]
            ],
            "type": "heatmap"
           }
          ],
          "heatmapgl": [
           {
            "colorbar": {
             "outlinewidth": 0,
             "ticks": ""
            },
            "colorscale": [
             [
              0,
              "#0d0887"
             ],
             [
              0.1111111111111111,
              "#46039f"
             ],
             [
              0.2222222222222222,
              "#7201a8"
             ],
             [
              0.3333333333333333,
              "#9c179e"
             ],
             [
              0.4444444444444444,
              "#bd3786"
             ],
             [
              0.5555555555555556,
              "#d8576b"
             ],
             [
              0.6666666666666666,
              "#ed7953"
             ],
             [
              0.7777777777777778,
              "#fb9f3a"
             ],
             [
              0.8888888888888888,
              "#fdca26"
             ],
             [
              1,
              "#f0f921"
             ]
            ],
            "type": "heatmapgl"
           }
          ],
          "histogram": [
           {
            "marker": {
             "pattern": {
              "fillmode": "overlay",
              "size": 10,
              "solidity": 0.2
             }
            },
            "type": "histogram"
           }
          ],
          "histogram2d": [
           {
            "colorbar": {
             "outlinewidth": 0,
             "ticks": ""
            },
            "colorscale": [
             [
              0,
              "#0d0887"
             ],
             [
              0.1111111111111111,
              "#46039f"
             ],
             [
              0.2222222222222222,
              "#7201a8"
             ],
             [
              0.3333333333333333,
              "#9c179e"
             ],
             [
              0.4444444444444444,
              "#bd3786"
             ],
             [
              0.5555555555555556,
              "#d8576b"
             ],
             [
              0.6666666666666666,
              "#ed7953"
             ],
             [
              0.7777777777777778,
              "#fb9f3a"
             ],
             [
              0.8888888888888888,
              "#fdca26"
             ],
             [
              1,
              "#f0f921"
             ]
            ],
            "type": "histogram2d"
           }
          ],
          "histogram2dcontour": [
           {
            "colorbar": {
             "outlinewidth": 0,
             "ticks": ""
            },
            "colorscale": [
             [
              0,
              "#0d0887"
             ],
             [
              0.1111111111111111,
              "#46039f"
             ],
             [
              0.2222222222222222,
              "#7201a8"
             ],
             [
              0.3333333333333333,
              "#9c179e"
             ],
             [
              0.4444444444444444,
              "#bd3786"
             ],
             [
              0.5555555555555556,
              "#d8576b"
             ],
             [
              0.6666666666666666,
              "#ed7953"
             ],
             [
              0.7777777777777778,
              "#fb9f3a"
             ],
             [
              0.8888888888888888,
              "#fdca26"
             ],
             [
              1,
              "#f0f921"
             ]
            ],
            "type": "histogram2dcontour"
           }
          ],
          "mesh3d": [
           {
            "colorbar": {
             "outlinewidth": 0,
             "ticks": ""
            },
            "type": "mesh3d"
           }
          ],
          "parcoords": [
           {
            "line": {
             "colorbar": {
              "outlinewidth": 0,
              "ticks": ""
             }
            },
            "type": "parcoords"
           }
          ],
          "pie": [
           {
            "automargin": true,
            "type": "pie"
           }
          ],
          "scatter": [
           {
            "marker": {
             "colorbar": {
              "outlinewidth": 0,
              "ticks": ""
             }
            },
            "type": "scatter"
           }
          ],
          "scatter3d": [
           {
            "line": {
             "colorbar": {
              "outlinewidth": 0,
              "ticks": ""
             }
            },
            "marker": {
             "colorbar": {
              "outlinewidth": 0,
              "ticks": ""
             }
            },
            "type": "scatter3d"
           }
          ],
          "scattercarpet": [
           {
            "marker": {
             "colorbar": {
              "outlinewidth": 0,
              "ticks": ""
             }
            },
            "type": "scattercarpet"
           }
          ],
          "scattergeo": [
           {
            "marker": {
             "colorbar": {
              "outlinewidth": 0,
              "ticks": ""
             }
            },
            "type": "scattergeo"
           }
          ],
          "scattergl": [
           {
            "marker": {
             "colorbar": {
              "outlinewidth": 0,
              "ticks": ""
             }
            },
            "type": "scattergl"
           }
          ],
          "scattermapbox": [
           {
            "marker": {
             "colorbar": {
              "outlinewidth": 0,
              "ticks": ""
             }
            },
            "type": "scattermapbox"
           }
          ],
          "scatterpolar": [
           {
            "marker": {
             "colorbar": {
              "outlinewidth": 0,
              "ticks": ""
             }
            },
            "type": "scatterpolar"
           }
          ],
          "scatterpolargl": [
           {
            "marker": {
             "colorbar": {
              "outlinewidth": 0,
              "ticks": ""
             }
            },
            "type": "scatterpolargl"
           }
          ],
          "scatterternary": [
           {
            "marker": {
             "colorbar": {
              "outlinewidth": 0,
              "ticks": ""
             }
            },
            "type": "scatterternary"
           }
          ],
          "surface": [
           {
            "colorbar": {
             "outlinewidth": 0,
             "ticks": ""
            },
            "colorscale": [
             [
              0,
              "#0d0887"
             ],
             [
              0.1111111111111111,
              "#46039f"
             ],
             [
              0.2222222222222222,
              "#7201a8"
             ],
             [
              0.3333333333333333,
              "#9c179e"
             ],
             [
              0.4444444444444444,
              "#bd3786"
             ],
             [
              0.5555555555555556,
              "#d8576b"
             ],
             [
              0.6666666666666666,
              "#ed7953"
             ],
             [
              0.7777777777777778,
              "#fb9f3a"
             ],
             [
              0.8888888888888888,
              "#fdca26"
             ],
             [
              1,
              "#f0f921"
             ]
            ],
            "type": "surface"
           }
          ],
          "table": [
           {
            "cells": {
             "fill": {
              "color": "#EBF0F8"
             },
             "line": {
              "color": "white"
             }
            },
            "header": {
             "fill": {
              "color": "#C8D4E3"
             },
             "line": {
              "color": "white"
             }
            },
            "type": "table"
           }
          ]
         },
         "layout": {
          "annotationdefaults": {
           "arrowcolor": "#2a3f5f",
           "arrowhead": 0,
           "arrowwidth": 1
          },
          "autotypenumbers": "strict",
          "coloraxis": {
           "colorbar": {
            "outlinewidth": 0,
            "ticks": ""
           }
          },
          "colorscale": {
           "diverging": [
            [
             0,
             "#8e0152"
            ],
            [
             0.1,
             "#c51b7d"
            ],
            [
             0.2,
             "#de77ae"
            ],
            [
             0.3,
             "#f1b6da"
            ],
            [
             0.4,
             "#fde0ef"
            ],
            [
             0.5,
             "#f7f7f7"
            ],
            [
             0.6,
             "#e6f5d0"
            ],
            [
             0.7,
             "#b8e186"
            ],
            [
             0.8,
             "#7fbc41"
            ],
            [
             0.9,
             "#4d9221"
            ],
            [
             1,
             "#276419"
            ]
           ],
           "sequential": [
            [
             0,
             "#0d0887"
            ],
            [
             0.1111111111111111,
             "#46039f"
            ],
            [
             0.2222222222222222,
             "#7201a8"
            ],
            [
             0.3333333333333333,
             "#9c179e"
            ],
            [
             0.4444444444444444,
             "#bd3786"
            ],
            [
             0.5555555555555556,
             "#d8576b"
            ],
            [
             0.6666666666666666,
             "#ed7953"
            ],
            [
             0.7777777777777778,
             "#fb9f3a"
            ],
            [
             0.8888888888888888,
             "#fdca26"
            ],
            [
             1,
             "#f0f921"
            ]
           ],
           "sequentialminus": [
            [
             0,
             "#0d0887"
            ],
            [
             0.1111111111111111,
             "#46039f"
            ],
            [
             0.2222222222222222,
             "#7201a8"
            ],
            [
             0.3333333333333333,
             "#9c179e"
            ],
            [
             0.4444444444444444,
             "#bd3786"
            ],
            [
             0.5555555555555556,
             "#d8576b"
            ],
            [
             0.6666666666666666,
             "#ed7953"
            ],
            [
             0.7777777777777778,
             "#fb9f3a"
            ],
            [
             0.8888888888888888,
             "#fdca26"
            ],
            [
             1,
             "#f0f921"
            ]
           ]
          },
          "colorway": [
           "#636efa",
           "#EF553B",
           "#00cc96",
           "#ab63fa",
           "#FFA15A",
           "#19d3f3",
           "#FF6692",
           "#B6E880",
           "#FF97FF",
           "#FECB52"
          ],
          "font": {
           "color": "#2a3f5f"
          },
          "geo": {
           "bgcolor": "white",
           "lakecolor": "white",
           "landcolor": "#E5ECF6",
           "showlakes": true,
           "showland": true,
           "subunitcolor": "white"
          },
          "hoverlabel": {
           "align": "left"
          },
          "hovermode": "closest",
          "mapbox": {
           "style": "light"
          },
          "paper_bgcolor": "white",
          "plot_bgcolor": "#E5ECF6",
          "polar": {
           "angularaxis": {
            "gridcolor": "white",
            "linecolor": "white",
            "ticks": ""
           },
           "bgcolor": "#E5ECF6",
           "radialaxis": {
            "gridcolor": "white",
            "linecolor": "white",
            "ticks": ""
           }
          },
          "scene": {
           "xaxis": {
            "backgroundcolor": "#E5ECF6",
            "gridcolor": "white",
            "gridwidth": 2,
            "linecolor": "white",
            "showbackground": true,
            "ticks": "",
            "zerolinecolor": "white"
           },
           "yaxis": {
            "backgroundcolor": "#E5ECF6",
            "gridcolor": "white",
            "gridwidth": 2,
            "linecolor": "white",
            "showbackground": true,
            "ticks": "",
            "zerolinecolor": "white"
           },
           "zaxis": {
            "backgroundcolor": "#E5ECF6",
            "gridcolor": "white",
            "gridwidth": 2,
            "linecolor": "white",
            "showbackground": true,
            "ticks": "",
            "zerolinecolor": "white"
           }
          },
          "shapedefaults": {
           "line": {
            "color": "#2a3f5f"
           }
          },
          "ternary": {
           "aaxis": {
            "gridcolor": "white",
            "linecolor": "white",
            "ticks": ""
           },
           "baxis": {
            "gridcolor": "white",
            "linecolor": "white",
            "ticks": ""
           },
           "bgcolor": "#E5ECF6",
           "caxis": {
            "gridcolor": "white",
            "linecolor": "white",
            "ticks": ""
           }
          },
          "title": {
           "x": 0.05
          },
          "xaxis": {
           "automargin": true,
           "gridcolor": "white",
           "linecolor": "white",
           "ticks": "",
           "title": {
            "standoff": 15
           },
           "zerolinecolor": "white",
           "zerolinewidth": 2
          },
          "yaxis": {
           "automargin": true,
           "gridcolor": "white",
           "linecolor": "white",
           "ticks": "",
           "title": {
            "standoff": 15
           },
           "zerolinecolor": "white",
           "zerolinewidth": 2
          }
         }
        },
        "title": {
         "text": "n matrix: 80",
         "x": 0.45,
         "y": 0.95,
         "yanchor": "top"
        },
        "xaxis": {
         "anchor": "y",
         "domain": [
          0,
          1
         ],
         "range": [
          0.2826086956521739,
          1.1
         ],
         "title": {
          "text": "precision_macro"
         }
        },
        "yaxis": {
         "anchor": "x",
         "domain": [
          0,
          1
         ],
         "range": [
          0,
          1.1
         ],
         "title": {
          "text": "recall_micro"
         }
        }
       }
      }
     },
     "metadata": {},
     "output_type": "display_data"
    },
    {
     "data": {
      "application/vnd.plotly.v1+json": {
       "config": {
        "plotlyServerURL": "https://plot.ly"
       },
       "data": [
        {
         "hovertemplate": "labels=Cristal 0% - c/error<br>f1_weighted=%{x}<br>recall_macro=%{y}<extra></extra>",
         "legendgroup": "Cristal 0% - c/error",
         "marker": {
          "color": "#636efa",
          "symbol": "circle"
         },
         "mode": "markers",
         "name": "Cristal 0% - c/error",
         "orientation": "v",
         "showlegend": true,
         "type": "scatter",
         "x": [
          0.4612903225806452,
          0.4499999999999999,
          0.5534050179211469,
          0.5810035842293907,
          0.3903225806451613,
          0.36666666666666664,
          0.4499999999999999,
          0.4258064516129032,
          0.5121212121212122,
          0.3903225806451613,
          0.3903225806451613,
          0.48749999999999993,
          0.5808777429467085,
          0.38095238095238104,
          0.6796536796536795
         ],
         "xaxis": "x",
         "y": [
          0.4230769230769231,
          0.5,
          0.5625,
          0.532967032967033,
          0.5,
          0.45454545454545453,
          0.5,
          0.4583333333333333,
          0.5,
          0.5,
          0.5,
          0.46153846153846156,
          0.6111111111111112,
          0.5454545454545454,
          0.5833333333333334
         ],
         "yaxis": "y"
        },
        {
         "hovertemplate": "labels=Cristal 0% - s/error<br>f1_weighted=%{x}<br>recall_macro=%{y}<extra></extra>",
         "legendgroup": "Cristal 0% - s/error",
         "marker": {
          "color": "#EF553B",
          "symbol": "diamond"
         },
         "mode": "markers",
         "name": "Cristal 0% - s/error",
         "orientation": "v",
         "showlegend": true,
         "type": "scatter",
         "x": [
          0.9743589743589742,
          1,
          1,
          0.9256410256410256,
          1,
          0.9256410256410256,
          1,
          0.9423423423423424,
          1,
          0.9576576576576578,
          0.9542857142857143,
          1,
          0.9542857142857143,
          0.9743589743589742,
          1
         ],
         "xaxis": "x",
         "y": [
          0.475,
          1,
          0.5,
          0.5,
          1,
          0.5,
          1,
          0.75,
          1,
          0.9736842105263157,
          0.9722222222222222,
          0.5,
          0.9722222222222222,
          0.475,
          1
         ],
         "yaxis": "y"
        },
        {
         "hovertemplate": "labels=Cristal 2/10%<br>f1_weighted=%{x}<br>recall_macro=%{y}<extra></extra>",
         "legendgroup": "Cristal 2/10%",
         "marker": {
          "color": "#00cc96",
          "symbol": "square"
         },
         "mode": "markers",
         "name": "Cristal 2/10%",
         "orientation": "v",
         "showlegend": true,
         "type": "scatter",
         "x": [
          0.8371428571428572,
          0.8114285714285714,
          0.8444444444444444,
          0.827027027027027,
          0.7725490196078432,
          0.8,
          0.827027027027027,
          0.7725490196078432,
          0.7359307359307359,
          0.8526315789473685,
          0.7555555555555555,
          0.9743589743589742,
          0.8628571428571428,
          0.9,
          0.7714285714285714
         ],
         "xaxis": "x",
         "y": [
          0.6372549019607843,
          0.625,
          0.42105263157894735,
          0.4722222222222222,
          0.59375,
          0.4444444444444444,
          0.4722222222222222,
          0.59375,
          0.5625,
          0.5,
          0.47058823529411764,
          0.475,
          0.6944444444444444,
          0.803921568627451,
          0.4166666666666667
         ],
         "yaxis": "y"
        },
        {
         "hovertemplate": "labels=Cristal 5/10%<br>f1_weighted=%{x}<br>recall_macro=%{y}<extra></extra>",
         "legendgroup": "Cristal 5/10%",
         "marker": {
          "color": "#ab63fa",
          "symbol": "x"
         },
         "mode": "markers",
         "name": "Cristal 5/10%",
         "orientation": "v",
         "showlegend": true,
         "type": "scatter",
         "x": [
          0.7579365079365079,
          0.8473118279569892,
          0.9414340448823206,
          0.8645833333333334,
          0.8988095238095237,
          0.9474548440065682,
          0.9037037037037037,
          0.7913978494623656,
          0.936026936026936,
          0.8888888888888888,
          0.9414340448823206,
          0.8193548387096775,
          0.8888888888888888,
          0.874074074074074,
          0.8243021346469623
         ],
         "xaxis": "x",
         "y": [
          0.6615384615384616,
          0.6875,
          0.875,
          0.6666666666666666,
          0.9333333333333333,
          0.9666666666666667,
          0.9375,
          0.625,
          0.75,
          0.8,
          0.875,
          0.6333333333333333,
          0.71875,
          0.75,
          0.7142857142857143
         ],
         "yaxis": "y"
        },
        {
         "hovertemplate": "labels=Cristal 8/10%<br>f1_weighted=%{x}<br>recall_macro=%{y}<extra></extra>",
         "legendgroup": "Cristal 8/10%",
         "marker": {
          "color": "#FFA15A",
          "symbol": "cross"
         },
         "mode": "markers",
         "name": "Cristal 8/10%",
         "orientation": "v",
         "showlegend": true,
         "type": "scatter",
         "x": [
          0.8,
          0.7598566308243728,
          0.7570532915360502,
          0.7904761904761904,
          0.8,
          0.8131868131868132,
          0.8,
          0.7,
          0.85423197492163,
          0.745014245014245,
          0.6598746081504702,
          0.8,
          0.8,
          0.7,
          0.9519713261648747
         ],
         "xaxis": "x",
         "y": [
          0.7802197802197802,
          0.65625,
          0.7,
          0.7472527472527473,
          0.7619047619047619,
          0.8666666666666667,
          0.7619047619047619,
          0.6703296703296704,
          0.8333333333333334,
          0.7087912087912087,
          0.5666666666666667,
          0.7619047619047619,
          0.7619047619047619,
          0.6703296703296704,
          0.96875
         ],
         "yaxis": "y"
        },
        {
         "hovertemplate": "labels=Cristal 5/30%<br>f1_weighted=%{x}<br>recall_macro=%{y}<extra></extra>",
         "legendgroup": "Cristal 5/30%",
         "marker": {
          "color": "#19d3f3",
          "symbol": "circle"
         },
         "mode": "markers",
         "name": "Cristal 5/30%",
         "orientation": "v",
         "showlegend": true,
         "type": "scatter",
         "x": [
          0.523076923076923,
          0.4612903225806452,
          0.52,
          0.4,
          0.5051282051282051,
          0.4333333333333334,
          0.4344827586206897,
          0.5733333333333335,
          0.4871794871794872,
          0.41709401709401706,
          0.4,
          0.5119122257053292,
          0.5515151515151515,
          0.4333333333333334,
          0.48652037617554866
         ],
         "xaxis": "x",
         "y": [
          0.5,
          0.4230769230769231,
          0.5208333333333333,
          0.4166666666666667,
          0.5202020202020202,
          0.38461538461538464,
          0.32142857142857145,
          0.47619047619047616,
          0.55,
          0.3958333333333333,
          0.4166666666666667,
          0.4560439560439561,
          0.4642857142857143,
          0.38461538461538464,
          0.4791666666666667
         ],
         "yaxis": "y"
        },
        {
         "hovertemplate": "labels=Cristal 15/30%<br>f1_weighted=%{x}<br>recall_macro=%{y}<extra></extra>",
         "legendgroup": "Cristal 15/30%",
         "marker": {
          "color": "#FF6692",
          "symbol": "diamond"
         },
         "mode": "markers",
         "name": "Cristal 15/30%",
         "orientation": "v",
         "showlegend": true,
         "type": "scatter",
         "x": [
          0.4612903225806452,
          0.5373040752351097,
          0.5733333333333335,
          0.4612903225806452,
          0.6362007168458782,
          0.525,
          0.5810035842293907,
          0.6006269592476489,
          0.6401253918495298,
          0.5119122257053292,
          0.4612903225806452,
          0.5909090909090908,
          0.49677419354838703,
          0.4612903225806452,
          0.7359307359307359
         ],
         "xaxis": "x",
         "y": [
          0.4230769230769231,
          0.44047619047619047,
          0.47619047619047616,
          0.4230769230769231,
          0.5,
          0.42857142857142855,
          0.532967032967033,
          0.5833333333333333,
          0.5595238095238095,
          0.4560439560439561,
          0.4230769230769231,
          0.43333333333333335,
          0.39285714285714285,
          0.4230769230769231,
          0.5625
         ],
         "yaxis": "y"
        },
        {
         "hovertemplate": "labels=Cristal 25/30%<br>f1_weighted=%{x}<br>recall_macro=%{y}<extra></extra>",
         "legendgroup": "Cristal 25/30%",
         "marker": {
          "color": "#B6E880",
          "symbol": "square"
         },
         "mode": "markers",
         "name": "Cristal 25/30%",
         "orientation": "v",
         "showlegend": true,
         "type": "scatter",
         "x": [
          0.735042735042735,
          0.8,
          0.852991452991453,
          0.7288401253918495,
          0.64,
          0.5868131868131868,
          0.74294670846395,
          0.7934065934065935,
          0.6203761755485893,
          0.656980056980057,
          0.7204301075268817,
          0.6,
          0.7809523809523808,
          0.6401253918495298,
          0.629059829059829
         ],
         "xaxis": "x",
         "y": [
          0.7083333333333333,
          0.7333333333333334,
          0.8452380952380952,
          0.6758241758241759,
          0.625,
          0.5625,
          0.6785714285714286,
          0.7708333333333333,
          0.5659340659340659,
          0.6071428571428572,
          0.6309523809523809,
          0.5604395604395604,
          0.75,
          0.5595238095238095,
          0.6041666666666667
         ],
         "yaxis": "y"
        }
       ],
       "layout": {
        "legend": {
         "title": {
          "text": ""
         },
         "tracegroupgap": 0
        },
        "margin": {
         "b": 20,
         "l": 20,
         "r": 20,
         "t": 40
        },
        "template": {
         "data": {
          "bar": [
           {
            "error_x": {
             "color": "#2a3f5f"
            },
            "error_y": {
             "color": "#2a3f5f"
            },
            "marker": {
             "line": {
              "color": "#E5ECF6",
              "width": 0.5
             },
             "pattern": {
              "fillmode": "overlay",
              "size": 10,
              "solidity": 0.2
             }
            },
            "type": "bar"
           }
          ],
          "barpolar": [
           {
            "marker": {
             "line": {
              "color": "#E5ECF6",
              "width": 0.5
             },
             "pattern": {
              "fillmode": "overlay",
              "size": 10,
              "solidity": 0.2
             }
            },
            "type": "barpolar"
           }
          ],
          "carpet": [
           {
            "aaxis": {
             "endlinecolor": "#2a3f5f",
             "gridcolor": "white",
             "linecolor": "white",
             "minorgridcolor": "white",
             "startlinecolor": "#2a3f5f"
            },
            "baxis": {
             "endlinecolor": "#2a3f5f",
             "gridcolor": "white",
             "linecolor": "white",
             "minorgridcolor": "white",
             "startlinecolor": "#2a3f5f"
            },
            "type": "carpet"
           }
          ],
          "choropleth": [
           {
            "colorbar": {
             "outlinewidth": 0,
             "ticks": ""
            },
            "type": "choropleth"
           }
          ],
          "contour": [
           {
            "colorbar": {
             "outlinewidth": 0,
             "ticks": ""
            },
            "colorscale": [
             [
              0,
              "#0d0887"
             ],
             [
              0.1111111111111111,
              "#46039f"
             ],
             [
              0.2222222222222222,
              "#7201a8"
             ],
             [
              0.3333333333333333,
              "#9c179e"
             ],
             [
              0.4444444444444444,
              "#bd3786"
             ],
             [
              0.5555555555555556,
              "#d8576b"
             ],
             [
              0.6666666666666666,
              "#ed7953"
             ],
             [
              0.7777777777777778,
              "#fb9f3a"
             ],
             [
              0.8888888888888888,
              "#fdca26"
             ],
             [
              1,
              "#f0f921"
             ]
            ],
            "type": "contour"
           }
          ],
          "contourcarpet": [
           {
            "colorbar": {
             "outlinewidth": 0,
             "ticks": ""
            },
            "type": "contourcarpet"
           }
          ],
          "heatmap": [
           {
            "colorbar": {
             "outlinewidth": 0,
             "ticks": ""
            },
            "colorscale": [
             [
              0,
              "#0d0887"
             ],
             [
              0.1111111111111111,
              "#46039f"
             ],
             [
              0.2222222222222222,
              "#7201a8"
             ],
             [
              0.3333333333333333,
              "#9c179e"
             ],
             [
              0.4444444444444444,
              "#bd3786"
             ],
             [
              0.5555555555555556,
              "#d8576b"
             ],
             [
              0.6666666666666666,
              "#ed7953"
             ],
             [
              0.7777777777777778,
              "#fb9f3a"
             ],
             [
              0.8888888888888888,
              "#fdca26"
             ],
             [
              1,
              "#f0f921"
             ]
            ],
            "type": "heatmap"
           }
          ],
          "heatmapgl": [
           {
            "colorbar": {
             "outlinewidth": 0,
             "ticks": ""
            },
            "colorscale": [
             [
              0,
              "#0d0887"
             ],
             [
              0.1111111111111111,
              "#46039f"
             ],
             [
              0.2222222222222222,
              "#7201a8"
             ],
             [
              0.3333333333333333,
              "#9c179e"
             ],
             [
              0.4444444444444444,
              "#bd3786"
             ],
             [
              0.5555555555555556,
              "#d8576b"
             ],
             [
              0.6666666666666666,
              "#ed7953"
             ],
             [
              0.7777777777777778,
              "#fb9f3a"
             ],
             [
              0.8888888888888888,
              "#fdca26"
             ],
             [
              1,
              "#f0f921"
             ]
            ],
            "type": "heatmapgl"
           }
          ],
          "histogram": [
           {
            "marker": {
             "pattern": {
              "fillmode": "overlay",
              "size": 10,
              "solidity": 0.2
             }
            },
            "type": "histogram"
           }
          ],
          "histogram2d": [
           {
            "colorbar": {
             "outlinewidth": 0,
             "ticks": ""
            },
            "colorscale": [
             [
              0,
              "#0d0887"
             ],
             [
              0.1111111111111111,
              "#46039f"
             ],
             [
              0.2222222222222222,
              "#7201a8"
             ],
             [
              0.3333333333333333,
              "#9c179e"
             ],
             [
              0.4444444444444444,
              "#bd3786"
             ],
             [
              0.5555555555555556,
              "#d8576b"
             ],
             [
              0.6666666666666666,
              "#ed7953"
             ],
             [
              0.7777777777777778,
              "#fb9f3a"
             ],
             [
              0.8888888888888888,
              "#fdca26"
             ],
             [
              1,
              "#f0f921"
             ]
            ],
            "type": "histogram2d"
           }
          ],
          "histogram2dcontour": [
           {
            "colorbar": {
             "outlinewidth": 0,
             "ticks": ""
            },
            "colorscale": [
             [
              0,
              "#0d0887"
             ],
             [
              0.1111111111111111,
              "#46039f"
             ],
             [
              0.2222222222222222,
              "#7201a8"
             ],
             [
              0.3333333333333333,
              "#9c179e"
             ],
             [
              0.4444444444444444,
              "#bd3786"
             ],
             [
              0.5555555555555556,
              "#d8576b"
             ],
             [
              0.6666666666666666,
              "#ed7953"
             ],
             [
              0.7777777777777778,
              "#fb9f3a"
             ],
             [
              0.8888888888888888,
              "#fdca26"
             ],
             [
              1,
              "#f0f921"
             ]
            ],
            "type": "histogram2dcontour"
           }
          ],
          "mesh3d": [
           {
            "colorbar": {
             "outlinewidth": 0,
             "ticks": ""
            },
            "type": "mesh3d"
           }
          ],
          "parcoords": [
           {
            "line": {
             "colorbar": {
              "outlinewidth": 0,
              "ticks": ""
             }
            },
            "type": "parcoords"
           }
          ],
          "pie": [
           {
            "automargin": true,
            "type": "pie"
           }
          ],
          "scatter": [
           {
            "marker": {
             "colorbar": {
              "outlinewidth": 0,
              "ticks": ""
             }
            },
            "type": "scatter"
           }
          ],
          "scatter3d": [
           {
            "line": {
             "colorbar": {
              "outlinewidth": 0,
              "ticks": ""
             }
            },
            "marker": {
             "colorbar": {
              "outlinewidth": 0,
              "ticks": ""
             }
            },
            "type": "scatter3d"
           }
          ],
          "scattercarpet": [
           {
            "marker": {
             "colorbar": {
              "outlinewidth": 0,
              "ticks": ""
             }
            },
            "type": "scattercarpet"
           }
          ],
          "scattergeo": [
           {
            "marker": {
             "colorbar": {
              "outlinewidth": 0,
              "ticks": ""
             }
            },
            "type": "scattergeo"
           }
          ],
          "scattergl": [
           {
            "marker": {
             "colorbar": {
              "outlinewidth": 0,
              "ticks": ""
             }
            },
            "type": "scattergl"
           }
          ],
          "scattermapbox": [
           {
            "marker": {
             "colorbar": {
              "outlinewidth": 0,
              "ticks": ""
             }
            },
            "type": "scattermapbox"
           }
          ],
          "scatterpolar": [
           {
            "marker": {
             "colorbar": {
              "outlinewidth": 0,
              "ticks": ""
             }
            },
            "type": "scatterpolar"
           }
          ],
          "scatterpolargl": [
           {
            "marker": {
             "colorbar": {
              "outlinewidth": 0,
              "ticks": ""
             }
            },
            "type": "scatterpolargl"
           }
          ],
          "scatterternary": [
           {
            "marker": {
             "colorbar": {
              "outlinewidth": 0,
              "ticks": ""
             }
            },
            "type": "scatterternary"
           }
          ],
          "surface": [
           {
            "colorbar": {
             "outlinewidth": 0,
             "ticks": ""
            },
            "colorscale": [
             [
              0,
              "#0d0887"
             ],
             [
              0.1111111111111111,
              "#46039f"
             ],
             [
              0.2222222222222222,
              "#7201a8"
             ],
             [
              0.3333333333333333,
              "#9c179e"
             ],
             [
              0.4444444444444444,
              "#bd3786"
             ],
             [
              0.5555555555555556,
              "#d8576b"
             ],
             [
              0.6666666666666666,
              "#ed7953"
             ],
             [
              0.7777777777777778,
              "#fb9f3a"
             ],
             [
              0.8888888888888888,
              "#fdca26"
             ],
             [
              1,
              "#f0f921"
             ]
            ],
            "type": "surface"
           }
          ],
          "table": [
           {
            "cells": {
             "fill": {
              "color": "#EBF0F8"
             },
             "line": {
              "color": "white"
             }
            },
            "header": {
             "fill": {
              "color": "#C8D4E3"
             },
             "line": {
              "color": "white"
             }
            },
            "type": "table"
           }
          ]
         },
         "layout": {
          "annotationdefaults": {
           "arrowcolor": "#2a3f5f",
           "arrowhead": 0,
           "arrowwidth": 1
          },
          "autotypenumbers": "strict",
          "coloraxis": {
           "colorbar": {
            "outlinewidth": 0,
            "ticks": ""
           }
          },
          "colorscale": {
           "diverging": [
            [
             0,
             "#8e0152"
            ],
            [
             0.1,
             "#c51b7d"
            ],
            [
             0.2,
             "#de77ae"
            ],
            [
             0.3,
             "#f1b6da"
            ],
            [
             0.4,
             "#fde0ef"
            ],
            [
             0.5,
             "#f7f7f7"
            ],
            [
             0.6,
             "#e6f5d0"
            ],
            [
             0.7,
             "#b8e186"
            ],
            [
             0.8,
             "#7fbc41"
            ],
            [
             0.9,
             "#4d9221"
            ],
            [
             1,
             "#276419"
            ]
           ],
           "sequential": [
            [
             0,
             "#0d0887"
            ],
            [
             0.1111111111111111,
             "#46039f"
            ],
            [
             0.2222222222222222,
             "#7201a8"
            ],
            [
             0.3333333333333333,
             "#9c179e"
            ],
            [
             0.4444444444444444,
             "#bd3786"
            ],
            [
             0.5555555555555556,
             "#d8576b"
            ],
            [
             0.6666666666666666,
             "#ed7953"
            ],
            [
             0.7777777777777778,
             "#fb9f3a"
            ],
            [
             0.8888888888888888,
             "#fdca26"
            ],
            [
             1,
             "#f0f921"
            ]
           ],
           "sequentialminus": [
            [
             0,
             "#0d0887"
            ],
            [
             0.1111111111111111,
             "#46039f"
            ],
            [
             0.2222222222222222,
             "#7201a8"
            ],
            [
             0.3333333333333333,
             "#9c179e"
            ],
            [
             0.4444444444444444,
             "#bd3786"
            ],
            [
             0.5555555555555556,
             "#d8576b"
            ],
            [
             0.6666666666666666,
             "#ed7953"
            ],
            [
             0.7777777777777778,
             "#fb9f3a"
            ],
            [
             0.8888888888888888,
             "#fdca26"
            ],
            [
             1,
             "#f0f921"
            ]
           ]
          },
          "colorway": [
           "#636efa",
           "#EF553B",
           "#00cc96",
           "#ab63fa",
           "#FFA15A",
           "#19d3f3",
           "#FF6692",
           "#B6E880",
           "#FF97FF",
           "#FECB52"
          ],
          "font": {
           "color": "#2a3f5f"
          },
          "geo": {
           "bgcolor": "white",
           "lakecolor": "white",
           "landcolor": "#E5ECF6",
           "showlakes": true,
           "showland": true,
           "subunitcolor": "white"
          },
          "hoverlabel": {
           "align": "left"
          },
          "hovermode": "closest",
          "mapbox": {
           "style": "light"
          },
          "paper_bgcolor": "white",
          "plot_bgcolor": "#E5ECF6",
          "polar": {
           "angularaxis": {
            "gridcolor": "white",
            "linecolor": "white",
            "ticks": ""
           },
           "bgcolor": "#E5ECF6",
           "radialaxis": {
            "gridcolor": "white",
            "linecolor": "white",
            "ticks": ""
           }
          },
          "scene": {
           "xaxis": {
            "backgroundcolor": "#E5ECF6",
            "gridcolor": "white",
            "gridwidth": 2,
            "linecolor": "white",
            "showbackground": true,
            "ticks": "",
            "zerolinecolor": "white"
           },
           "yaxis": {
            "backgroundcolor": "#E5ECF6",
            "gridcolor": "white",
            "gridwidth": 2,
            "linecolor": "white",
            "showbackground": true,
            "ticks": "",
            "zerolinecolor": "white"
           },
           "zaxis": {
            "backgroundcolor": "#E5ECF6",
            "gridcolor": "white",
            "gridwidth": 2,
            "linecolor": "white",
            "showbackground": true,
            "ticks": "",
            "zerolinecolor": "white"
           }
          },
          "shapedefaults": {
           "line": {
            "color": "#2a3f5f"
           }
          },
          "ternary": {
           "aaxis": {
            "gridcolor": "white",
            "linecolor": "white",
            "ticks": ""
           },
           "baxis": {
            "gridcolor": "white",
            "linecolor": "white",
            "ticks": ""
           },
           "bgcolor": "#E5ECF6",
           "caxis": {
            "gridcolor": "white",
            "linecolor": "white",
            "ticks": ""
           }
          },
          "title": {
           "x": 0.05
          },
          "xaxis": {
           "automargin": true,
           "gridcolor": "white",
           "linecolor": "white",
           "ticks": "",
           "title": {
            "standoff": 15
           },
           "zerolinecolor": "white",
           "zerolinewidth": 2
          },
          "yaxis": {
           "automargin": true,
           "gridcolor": "white",
           "linecolor": "white",
           "ticks": "",
           "title": {
            "standoff": 15
           },
           "zerolinecolor": "white",
           "zerolinewidth": 2
          }
         }
        },
        "title": {
         "text": "n matrix: 20",
         "x": 0.45,
         "y": 0.95,
         "yanchor": "top"
        },
        "xaxis": {
         "anchor": "y",
         "domain": [
          0,
          1
         ],
         "range": [
          0.36666666666666664,
          1.1
         ],
         "title": {
          "text": "f1_weighted"
         }
        },
        "yaxis": {
         "anchor": "x",
         "domain": [
          0,
          1
         ],
         "range": [
          0,
          1.1
         ],
         "title": {
          "text": "recall_macro"
         }
        }
       }
      }
     },
     "metadata": {},
     "output_type": "display_data"
    },
    {
     "data": {
      "application/vnd.plotly.v1+json": {
       "config": {
        "plotlyServerURL": "https://plot.ly"
       },
       "data": [
        {
         "hovertemplate": "labels=Cristal 0% - c/error<br>f1_weighted=%{x}<br>recall_macro=%{y}<extra></extra>",
         "legendgroup": "Cristal 0% - c/error",
         "marker": {
          "color": "#636efa",
          "symbol": "circle"
         },
         "mode": "markers",
         "name": "Cristal 0% - c/error",
         "orientation": "v",
         "showlegend": true,
         "type": "scatter",
         "x": [
          0.5230802415875755,
          0.504201680672269,
          0.45949094046591893,
          0.41984126984126985,
          0.4687500000000001,
          0.45949094046591893,
          0.48960573476702507,
          0.5,
          0.4440897325280414,
          0.3903225806451613,
          0.43809523809523804,
          0.43000000000000005,
          0.5351562500000001,
          0.5053763440860215,
          0.504201680672269
         ],
         "xaxis": "x",
         "y": [
          0.5588235294117647,
          0.53125,
          0.5076726342710998,
          0.5,
          0.48,
          0.5076726342710998,
          0.5104166666666667,
          0.4807692307692308,
          0.5277777777777778,
          0.5,
          0.4791666666666667,
          0.5050505050505051,
          0.5333333333333333,
          0.49333333333333335,
          0.53125
         ],
         "yaxis": "y"
        },
        {
         "hovertemplate": "labels=Cristal 0% - s/error<br>f1_weighted=%{x}<br>recall_macro=%{y}<extra></extra>",
         "legendgroup": "Cristal 0% - s/error",
         "marker": {
          "color": "#EF553B",
          "symbol": "diamond"
         },
         "mode": "markers",
         "name": "Cristal 0% - s/error",
         "orientation": "v",
         "showlegend": true,
         "type": "scatter",
         "x": [
          1,
          0.9790043290043288,
          0.9709956709956709,
          0.9626582278481012,
          0.9873417721518987,
          0.9040000000000001,
          0.9381578947368421,
          0.9726666666666665,
          0.9790043290043288,
          0.9773333333333334,
          0.9256410256410256,
          0.9626582278481012,
          0.9873417721518987,
          0.9626582278481012,
          0.9773333333333334
         ],
         "xaxis": "x",
         "y": [
          1,
          0.9871794871794872,
          0.75,
          0.5,
          0.4875,
          0.625,
          0.6666666666666666,
          0.8333333333333333,
          0.9871794871794872,
          0.986842105263158,
          0.5,
          0.5,
          0.4875,
          0.5,
          0.986842105263158
         ],
         "yaxis": "y"
        },
        {
         "hovertemplate": "labels=Cristal 2/10%<br>f1_weighted=%{x}<br>recall_macro=%{y}<extra></extra>",
         "legendgroup": "Cristal 2/10%",
         "marker": {
          "color": "#00cc96",
          "symbol": "square"
         },
         "mode": "markers",
         "name": "Cristal 2/10%",
         "orientation": "v",
         "showlegend": true,
         "type": "scatter",
         "x": [
          0.85,
          0.75,
          0.8183135704874835,
          0.8,
          0.816510172143975,
          0.7862745098039216,
          0.7825508607198748,
          0.833489827856025,
          0.7401262916188289,
          0.7657142857142858,
          0.8294117647058824,
          0.8,
          0.672463768115942,
          0.9,
          0.8606719367588933
         ],
         "xaxis": "x",
         "y": [
          0.5833333333333333,
          0.5098039215686274,
          0.6225490196078431,
          0.4444444444444444,
          0.5571428571428572,
          0.5974025974025974,
          0.5562770562770563,
          0.5694444444444444,
          0.578853046594982,
          0.5411255411255411,
          0.671875,
          0.5428571428571428,
          0.453125,
          0.6396396396396397,
          0.6991341991341992
         ],
         "yaxis": "y"
        },
        {
         "hovertemplate": "labels=Cristal 5/10%<br>f1_weighted=%{x}<br>recall_macro=%{y}<extra></extra>",
         "legendgroup": "Cristal 5/10%",
         "marker": {
          "color": "#ab63fa",
          "symbol": "x"
         },
         "mode": "markers",
         "name": "Cristal 5/10%",
         "orientation": "v",
         "showlegend": true,
         "type": "scatter",
         "x": [
          0.9459183673469389,
          0.7940620782726046,
          0.9428571428571428,
          0.9168305378831696,
          0.9111160026414264,
          0.9021077283372365,
          0.9047765793528504,
          0.8503773093937029,
          0.8503773093937029,
          0.8073959938366718,
          0.8979591836734694,
          0.9111160026414264,
          0.938095238095238,
          0.8729914153642968,
          0.8094717668488162
         ],
         "xaxis": "x",
         "y": [
          0.9655172413793103,
          0.6607142857142857,
          0.8833333333333333,
          0.882183908045977,
          0.8160919540229885,
          0.75,
          0.7857142857142857,
          0.6666666666666667,
          0.6666666666666667,
          0.6333333333333333,
          0.7,
          0.8160919540229885,
          0.8333333333333333,
          0.810483870967742,
          0.560483870967742
         ],
         "yaxis": "y"
        },
        {
         "hovertemplate": "labels=Cristal 8/10%<br>f1_weighted=%{x}<br>recall_macro=%{y}<extra></extra>",
         "legendgroup": "Cristal 8/10%",
         "marker": {
          "color": "#FFA15A",
          "symbol": "cross"
         },
         "mode": "markers",
         "name": "Cristal 8/10%",
         "orientation": "v",
         "showlegend": true,
         "type": "scatter",
         "x": [
          0.7774545454545455,
          0.8976190476190476,
          0.735042735042735,
          0.8457680250783699,
          0.8584639498432601,
          0.8,
          0.8475274725274724,
          0.85423197492163,
          0.8307272727272726,
          0.9016483516483514,
          0.8234102026554858,
          0.8,
          0.9,
          0.8056426332288401,
          0.8571428571428573
         ],
         "xaxis": "x",
         "y": [
          0.7440476190476191,
          0.8660968660968661,
          0.7083333333333333,
          0.7976190476190477,
          0.8637992831541219,
          0.7619047619047619,
          0.8266666666666667,
          0.8333333333333334,
          0.822884012539185,
          0.905982905982906,
          0.7994505494505495,
          0.7333333333333334,
          0.886039886039886,
          0.7666666666666666,
          0.8666666666666667
         ],
         "yaxis": "y"
        },
        {
         "hovertemplate": "labels=Cristal 5/30%<br>f1_weighted=%{x}<br>recall_macro=%{y}<extra></extra>",
         "legendgroup": "Cristal 5/30%",
         "marker": {
          "color": "#19d3f3",
          "symbol": "circle"
         },
         "mode": "markers",
         "name": "Cristal 5/30%",
         "orientation": "v",
         "showlegend": true,
         "type": "scatter",
         "x": [
          0.5071428571428571,
          0.5373040752351097,
          0.4333333333333334,
          0.5056945642795513,
          0.40344827586206894,
          0.4347457627118644,
          0.42946708463949845,
          0.5733333333333335,
          0.4435736677115988,
          0.4153605015673981,
          0.3877192982456141,
          0.4347457627118644,
          0.4347457627118644,
          0.4740112994350282,
          0.4001144164759725
         ],
         "xaxis": "x",
         "y": [
          0.4895833333333333,
          0.44047619047619047,
          0.38461538461538464,
          0.45879120879120877,
          0.34615384615384615,
          0.35185185185185186,
          0.4270833333333333,
          0.47619047619047616,
          0.41333333333333333,
          0.4424552429667519,
          0.3269230769230769,
          0.35185185185185186,
          0.35185185185185186,
          0.42032967032967034,
          0.42071611253196933
         ],
         "yaxis": "y"
        },
        {
         "hovertemplate": "labels=Cristal 15/30%<br>f1_weighted=%{x}<br>recall_macro=%{y}<extra></extra>",
         "legendgroup": "Cristal 15/30%",
         "marker": {
          "color": "#FF6692",
          "symbol": "diamond"
         },
         "mode": "markers",
         "name": "Cristal 15/30%",
         "orientation": "v",
         "showlegend": true,
         "type": "scatter",
         "x": [
          0.5733333333333335,
          0.475,
          0.52,
          0.6086021505376344,
          0.5071428571428571,
          0.5056945642795513,
          0.48571428571428577,
          0.5333333333333334,
          0.5211469534050179,
          0.5435736677115988,
          0.48999999999999994,
          0.6203761755485893,
          0.511111111111111,
          0.6224014336917562,
          0.5847457627118644
         ],
         "xaxis": "x",
         "y": [
          0.47619047619047616,
          0.4533333333333333,
          0.5208333333333333,
          0.5119047619047619,
          0.4895833333333333,
          0.45879120879120877,
          0.5151515151515151,
          0.5066666666666667,
          0.478021978021978,
          0.53125,
          0.43956043956043955,
          0.5659340659340659,
          0.4107142857142857,
          0.5047021943573667,
          0.5302197802197802
         ],
         "yaxis": "y"
        },
        {
         "hovertemplate": "labels=Cristal 25/30%<br>f1_weighted=%{x}<br>recall_macro=%{y}<extra></extra>",
         "legendgroup": "Cristal 25/30%",
         "marker": {
          "color": "#B6E880",
          "symbol": "square"
         },
         "mode": "markers",
         "name": "Cristal 25/30%",
         "orientation": "v",
         "showlegend": true,
         "type": "scatter",
         "x": [
          0.615,
          0.6501818181818182,
          0.6857142857142856,
          0.6501818181818182,
          0.6700161420500405,
          0.74294670846395,
          0.8136536994660564,
          0.6416666666666666,
          0.6333333333333333,
          0.7071428571428571,
          0.6725828262339418,
          0.8230909090909091,
          0.6501818181818182,
          0.6643636363636363,
          0.6220017256255392
         ],
         "xaxis": "x",
         "y": [
          0.5413105413105413,
          0.625,
          0.6373626373626373,
          0.625,
          0.5783699059561129,
          0.6785714285714286,
          0.7664835164835164,
          0.5811965811965812,
          0.5824175824175825,
          0.6520376175548589,
          0.6466666666666667,
          0.7905982905982906,
          0.625,
          0.6181318681318682,
          0.5686813186813187
         ],
         "yaxis": "y"
        }
       ],
       "layout": {
        "legend": {
         "title": {
          "text": ""
         },
         "tracegroupgap": 0
        },
        "margin": {
         "b": 20,
         "l": 20,
         "r": 20,
         "t": 40
        },
        "template": {
         "data": {
          "bar": [
           {
            "error_x": {
             "color": "#2a3f5f"
            },
            "error_y": {
             "color": "#2a3f5f"
            },
            "marker": {
             "line": {
              "color": "#E5ECF6",
              "width": 0.5
             },
             "pattern": {
              "fillmode": "overlay",
              "size": 10,
              "solidity": 0.2
             }
            },
            "type": "bar"
           }
          ],
          "barpolar": [
           {
            "marker": {
             "line": {
              "color": "#E5ECF6",
              "width": 0.5
             },
             "pattern": {
              "fillmode": "overlay",
              "size": 10,
              "solidity": 0.2
             }
            },
            "type": "barpolar"
           }
          ],
          "carpet": [
           {
            "aaxis": {
             "endlinecolor": "#2a3f5f",
             "gridcolor": "white",
             "linecolor": "white",
             "minorgridcolor": "white",
             "startlinecolor": "#2a3f5f"
            },
            "baxis": {
             "endlinecolor": "#2a3f5f",
             "gridcolor": "white",
             "linecolor": "white",
             "minorgridcolor": "white",
             "startlinecolor": "#2a3f5f"
            },
            "type": "carpet"
           }
          ],
          "choropleth": [
           {
            "colorbar": {
             "outlinewidth": 0,
             "ticks": ""
            },
            "type": "choropleth"
           }
          ],
          "contour": [
           {
            "colorbar": {
             "outlinewidth": 0,
             "ticks": ""
            },
            "colorscale": [
             [
              0,
              "#0d0887"
             ],
             [
              0.1111111111111111,
              "#46039f"
             ],
             [
              0.2222222222222222,
              "#7201a8"
             ],
             [
              0.3333333333333333,
              "#9c179e"
             ],
             [
              0.4444444444444444,
              "#bd3786"
             ],
             [
              0.5555555555555556,
              "#d8576b"
             ],
             [
              0.6666666666666666,
              "#ed7953"
             ],
             [
              0.7777777777777778,
              "#fb9f3a"
             ],
             [
              0.8888888888888888,
              "#fdca26"
             ],
             [
              1,
              "#f0f921"
             ]
            ],
            "type": "contour"
           }
          ],
          "contourcarpet": [
           {
            "colorbar": {
             "outlinewidth": 0,
             "ticks": ""
            },
            "type": "contourcarpet"
           }
          ],
          "heatmap": [
           {
            "colorbar": {
             "outlinewidth": 0,
             "ticks": ""
            },
            "colorscale": [
             [
              0,
              "#0d0887"
             ],
             [
              0.1111111111111111,
              "#46039f"
             ],
             [
              0.2222222222222222,
              "#7201a8"
             ],
             [
              0.3333333333333333,
              "#9c179e"
             ],
             [
              0.4444444444444444,
              "#bd3786"
             ],
             [
              0.5555555555555556,
              "#d8576b"
             ],
             [
              0.6666666666666666,
              "#ed7953"
             ],
             [
              0.7777777777777778,
              "#fb9f3a"
             ],
             [
              0.8888888888888888,
              "#fdca26"
             ],
             [
              1,
              "#f0f921"
             ]
            ],
            "type": "heatmap"
           }
          ],
          "heatmapgl": [
           {
            "colorbar": {
             "outlinewidth": 0,
             "ticks": ""
            },
            "colorscale": [
             [
              0,
              "#0d0887"
             ],
             [
              0.1111111111111111,
              "#46039f"
             ],
             [
              0.2222222222222222,
              "#7201a8"
             ],
             [
              0.3333333333333333,
              "#9c179e"
             ],
             [
              0.4444444444444444,
              "#bd3786"
             ],
             [
              0.5555555555555556,
              "#d8576b"
             ],
             [
              0.6666666666666666,
              "#ed7953"
             ],
             [
              0.7777777777777778,
              "#fb9f3a"
             ],
             [
              0.8888888888888888,
              "#fdca26"
             ],
             [
              1,
              "#f0f921"
             ]
            ],
            "type": "heatmapgl"
           }
          ],
          "histogram": [
           {
            "marker": {
             "pattern": {
              "fillmode": "overlay",
              "size": 10,
              "solidity": 0.2
             }
            },
            "type": "histogram"
           }
          ],
          "histogram2d": [
           {
            "colorbar": {
             "outlinewidth": 0,
             "ticks": ""
            },
            "colorscale": [
             [
              0,
              "#0d0887"
             ],
             [
              0.1111111111111111,
              "#46039f"
             ],
             [
              0.2222222222222222,
              "#7201a8"
             ],
             [
              0.3333333333333333,
              "#9c179e"
             ],
             [
              0.4444444444444444,
              "#bd3786"
             ],
             [
              0.5555555555555556,
              "#d8576b"
             ],
             [
              0.6666666666666666,
              "#ed7953"
             ],
             [
              0.7777777777777778,
              "#fb9f3a"
             ],
             [
              0.8888888888888888,
              "#fdca26"
             ],
             [
              1,
              "#f0f921"
             ]
            ],
            "type": "histogram2d"
           }
          ],
          "histogram2dcontour": [
           {
            "colorbar": {
             "outlinewidth": 0,
             "ticks": ""
            },
            "colorscale": [
             [
              0,
              "#0d0887"
             ],
             [
              0.1111111111111111,
              "#46039f"
             ],
             [
              0.2222222222222222,
              "#7201a8"
             ],
             [
              0.3333333333333333,
              "#9c179e"
             ],
             [
              0.4444444444444444,
              "#bd3786"
             ],
             [
              0.5555555555555556,
              "#d8576b"
             ],
             [
              0.6666666666666666,
              "#ed7953"
             ],
             [
              0.7777777777777778,
              "#fb9f3a"
             ],
             [
              0.8888888888888888,
              "#fdca26"
             ],
             [
              1,
              "#f0f921"
             ]
            ],
            "type": "histogram2dcontour"
           }
          ],
          "mesh3d": [
           {
            "colorbar": {
             "outlinewidth": 0,
             "ticks": ""
            },
            "type": "mesh3d"
           }
          ],
          "parcoords": [
           {
            "line": {
             "colorbar": {
              "outlinewidth": 0,
              "ticks": ""
             }
            },
            "type": "parcoords"
           }
          ],
          "pie": [
           {
            "automargin": true,
            "type": "pie"
           }
          ],
          "scatter": [
           {
            "marker": {
             "colorbar": {
              "outlinewidth": 0,
              "ticks": ""
             }
            },
            "type": "scatter"
           }
          ],
          "scatter3d": [
           {
            "line": {
             "colorbar": {
              "outlinewidth": 0,
              "ticks": ""
             }
            },
            "marker": {
             "colorbar": {
              "outlinewidth": 0,
              "ticks": ""
             }
            },
            "type": "scatter3d"
           }
          ],
          "scattercarpet": [
           {
            "marker": {
             "colorbar": {
              "outlinewidth": 0,
              "ticks": ""
             }
            },
            "type": "scattercarpet"
           }
          ],
          "scattergeo": [
           {
            "marker": {
             "colorbar": {
              "outlinewidth": 0,
              "ticks": ""
             }
            },
            "type": "scattergeo"
           }
          ],
          "scattergl": [
           {
            "marker": {
             "colorbar": {
              "outlinewidth": 0,
              "ticks": ""
             }
            },
            "type": "scattergl"
           }
          ],
          "scattermapbox": [
           {
            "marker": {
             "colorbar": {
              "outlinewidth": 0,
              "ticks": ""
             }
            },
            "type": "scattermapbox"
           }
          ],
          "scatterpolar": [
           {
            "marker": {
             "colorbar": {
              "outlinewidth": 0,
              "ticks": ""
             }
            },
            "type": "scatterpolar"
           }
          ],
          "scatterpolargl": [
           {
            "marker": {
             "colorbar": {
              "outlinewidth": 0,
              "ticks": ""
             }
            },
            "type": "scatterpolargl"
           }
          ],
          "scatterternary": [
           {
            "marker": {
             "colorbar": {
              "outlinewidth": 0,
              "ticks": ""
             }
            },
            "type": "scatterternary"
           }
          ],
          "surface": [
           {
            "colorbar": {
             "outlinewidth": 0,
             "ticks": ""
            },
            "colorscale": [
             [
              0,
              "#0d0887"
             ],
             [
              0.1111111111111111,
              "#46039f"
             ],
             [
              0.2222222222222222,
              "#7201a8"
             ],
             [
              0.3333333333333333,
              "#9c179e"
             ],
             [
              0.4444444444444444,
              "#bd3786"
             ],
             [
              0.5555555555555556,
              "#d8576b"
             ],
             [
              0.6666666666666666,
              "#ed7953"
             ],
             [
              0.7777777777777778,
              "#fb9f3a"
             ],
             [
              0.8888888888888888,
              "#fdca26"
             ],
             [
              1,
              "#f0f921"
             ]
            ],
            "type": "surface"
           }
          ],
          "table": [
           {
            "cells": {
             "fill": {
              "color": "#EBF0F8"
             },
             "line": {
              "color": "white"
             }
            },
            "header": {
             "fill": {
              "color": "#C8D4E3"
             },
             "line": {
              "color": "white"
             }
            },
            "type": "table"
           }
          ]
         },
         "layout": {
          "annotationdefaults": {
           "arrowcolor": "#2a3f5f",
           "arrowhead": 0,
           "arrowwidth": 1
          },
          "autotypenumbers": "strict",
          "coloraxis": {
           "colorbar": {
            "outlinewidth": 0,
            "ticks": ""
           }
          },
          "colorscale": {
           "diverging": [
            [
             0,
             "#8e0152"
            ],
            [
             0.1,
             "#c51b7d"
            ],
            [
             0.2,
             "#de77ae"
            ],
            [
             0.3,
             "#f1b6da"
            ],
            [
             0.4,
             "#fde0ef"
            ],
            [
             0.5,
             "#f7f7f7"
            ],
            [
             0.6,
             "#e6f5d0"
            ],
            [
             0.7,
             "#b8e186"
            ],
            [
             0.8,
             "#7fbc41"
            ],
            [
             0.9,
             "#4d9221"
            ],
            [
             1,
             "#276419"
            ]
           ],
           "sequential": [
            [
             0,
             "#0d0887"
            ],
            [
             0.1111111111111111,
             "#46039f"
            ],
            [
             0.2222222222222222,
             "#7201a8"
            ],
            [
             0.3333333333333333,
             "#9c179e"
            ],
            [
             0.4444444444444444,
             "#bd3786"
            ],
            [
             0.5555555555555556,
             "#d8576b"
            ],
            [
             0.6666666666666666,
             "#ed7953"
            ],
            [
             0.7777777777777778,
             "#fb9f3a"
            ],
            [
             0.8888888888888888,
             "#fdca26"
            ],
            [
             1,
             "#f0f921"
            ]
           ],
           "sequentialminus": [
            [
             0,
             "#0d0887"
            ],
            [
             0.1111111111111111,
             "#46039f"
            ],
            [
             0.2222222222222222,
             "#7201a8"
            ],
            [
             0.3333333333333333,
             "#9c179e"
            ],
            [
             0.4444444444444444,
             "#bd3786"
            ],
            [
             0.5555555555555556,
             "#d8576b"
            ],
            [
             0.6666666666666666,
             "#ed7953"
            ],
            [
             0.7777777777777778,
             "#fb9f3a"
            ],
            [
             0.8888888888888888,
             "#fdca26"
            ],
            [
             1,
             "#f0f921"
            ]
           ]
          },
          "colorway": [
           "#636efa",
           "#EF553B",
           "#00cc96",
           "#ab63fa",
           "#FFA15A",
           "#19d3f3",
           "#FF6692",
           "#B6E880",
           "#FF97FF",
           "#FECB52"
          ],
          "font": {
           "color": "#2a3f5f"
          },
          "geo": {
           "bgcolor": "white",
           "lakecolor": "white",
           "landcolor": "#E5ECF6",
           "showlakes": true,
           "showland": true,
           "subunitcolor": "white"
          },
          "hoverlabel": {
           "align": "left"
          },
          "hovermode": "closest",
          "mapbox": {
           "style": "light"
          },
          "paper_bgcolor": "white",
          "plot_bgcolor": "#E5ECF6",
          "polar": {
           "angularaxis": {
            "gridcolor": "white",
            "linecolor": "white",
            "ticks": ""
           },
           "bgcolor": "#E5ECF6",
           "radialaxis": {
            "gridcolor": "white",
            "linecolor": "white",
            "ticks": ""
           }
          },
          "scene": {
           "xaxis": {
            "backgroundcolor": "#E5ECF6",
            "gridcolor": "white",
            "gridwidth": 2,
            "linecolor": "white",
            "showbackground": true,
            "ticks": "",
            "zerolinecolor": "white"
           },
           "yaxis": {
            "backgroundcolor": "#E5ECF6",
            "gridcolor": "white",
            "gridwidth": 2,
            "linecolor": "white",
            "showbackground": true,
            "ticks": "",
            "zerolinecolor": "white"
           },
           "zaxis": {
            "backgroundcolor": "#E5ECF6",
            "gridcolor": "white",
            "gridwidth": 2,
            "linecolor": "white",
            "showbackground": true,
            "ticks": "",
            "zerolinecolor": "white"
           }
          },
          "shapedefaults": {
           "line": {
            "color": "#2a3f5f"
           }
          },
          "ternary": {
           "aaxis": {
            "gridcolor": "white",
            "linecolor": "white",
            "ticks": ""
           },
           "baxis": {
            "gridcolor": "white",
            "linecolor": "white",
            "ticks": ""
           },
           "bgcolor": "#E5ECF6",
           "caxis": {
            "gridcolor": "white",
            "linecolor": "white",
            "ticks": ""
           }
          },
          "title": {
           "x": 0.05
          },
          "xaxis": {
           "automargin": true,
           "gridcolor": "white",
           "linecolor": "white",
           "ticks": "",
           "title": {
            "standoff": 15
           },
           "zerolinecolor": "white",
           "zerolinewidth": 2
          },
          "yaxis": {
           "automargin": true,
           "gridcolor": "white",
           "linecolor": "white",
           "ticks": "",
           "title": {
            "standoff": 15
           },
           "zerolinecolor": "white",
           "zerolinewidth": 2
          }
         }
        },
        "title": {
         "text": "n matrix: 40",
         "x": 0.45,
         "y": 0.95,
         "yanchor": "top"
        },
        "xaxis": {
         "anchor": "y",
         "domain": [
          0,
          1
         ],
         "range": [
          0.3877192982456141,
          1.1
         ],
         "title": {
          "text": "f1_weighted"
         }
        },
        "yaxis": {
         "anchor": "x",
         "domain": [
          0,
          1
         ],
         "range": [
          0,
          1.1
         ],
         "title": {
          "text": "recall_macro"
         }
        }
       }
      }
     },
     "metadata": {},
     "output_type": "display_data"
    },
    {
     "data": {
      "application/vnd.plotly.v1+json": {
       "config": {
        "plotlyServerURL": "https://plot.ly"
       },
       "data": [
        {
         "hovertemplate": "labels=Cristal 0% - c/error<br>f1_weighted=%{x}<br>recall_macro=%{y}<extra></extra>",
         "legendgroup": "Cristal 0% - c/error",
         "marker": {
          "color": "#636efa",
          "symbol": "circle"
         },
         "mode": "markers",
         "name": "Cristal 0% - c/error",
         "orientation": "v",
         "showlegend": true,
         "type": "scatter",
         "x": [
          0.52210433244916,
          0.4298245614035087,
          0.4707591259315397,
          0.42198581560283693,
          0.49136160444605537,
          0.44609929078014177,
          0.5035087719298246,
          0.5007964954201513,
          0.5838509316770186,
          0.44824016563146996,
          0.5311102690413035,
          0.47044673539518905,
          0.521112929623568,
          0.44999999999999996,
          0.5111111111111112
         ],
         "xaxis": "x",
         "y": [
          0.5457142857142857,
          0.5,
          0.5237556561085973,
          0.4857142857142857,
          0.5282805429864253,
          0.4594594594594595,
          0.4268292682926829,
          0.54,
          0.5833333333333334,
          0.49142857142857144,
          0.5347222222222222,
          0.5,
          0.5416666666666666,
          0.5,
          0.5314285714285714
         ],
         "yaxis": "y"
        },
        {
         "hovertemplate": "labels=Cristal 0% - s/error<br>f1_weighted=%{x}<br>recall_macro=%{y}<extra></extra>",
         "legendgroup": "Cristal 0% - s/error",
         "marker": {
          "color": "#EF553B",
          "symbol": "diamond"
         },
         "mode": "markers",
         "name": "Cristal 0% - s/error",
         "orientation": "v",
         "showlegend": true,
         "type": "scatter",
         "x": [
          0.9806267806267807,
          0.9333333333333333,
          0.9806267806267807,
          1,
          1,
          0.9418803418803419,
          1,
          0.9586206896551723,
          0.984927536231884,
          0.9356521739130435,
          0.984927536231884,
          0.9822166034555415,
          1,
          0.9502824858757061,
          1
         ],
         "xaxis": "x",
         "y": [
          0.75,
          0.4827586206896552,
          0.75,
          0.5,
          1,
          0.49137931034482757,
          1,
          0.6666666666666666,
          0.9913793103448276,
          0.625,
          0.9913793103448276,
          0.875,
          1,
          0.5,
          1
         ],
         "yaxis": "y"
        },
        {
         "hovertemplate": "labels=Cristal 2/10%<br>f1_weighted=%{x}<br>recall_macro=%{y}<extra></extra>",
         "legendgroup": "Cristal 2/10%",
         "marker": {
          "color": "#00cc96",
          "symbol": "square"
         },
         "mode": "markers",
         "name": "Cristal 2/10%",
         "orientation": "v",
         "showlegend": true,
         "type": "scatter",
         "x": [
          0.7908496732026146,
          0.8193494578815679,
          0.8729729729729729,
          0.787601078167116,
          0.7856937455068297,
          0.8,
          0.8,
          0.8509615384615384,
          0.8,
          0.6769230769230768,
          0.8666666666666667,
          0.7555555555555554,
          0.7856937455068297,
          0.8469135802469135,
          0.7377358490566037
         ],
         "xaxis": "x",
         "y": [
          0.6,
          0.5432692307692308,
          0.4473684210526316,
          0.5144230769230769,
          0.5261437908496732,
          0.4444444444444444,
          0.4444444444444444,
          0.6851851851851851,
          0.5148247978436657,
          0.4583333333333333,
          0.4642857142857143,
          0.47058823529411764,
          0.5261437908496732,
          0.6057692307692308,
          0.45098039215686275
         ],
         "yaxis": "y"
        },
        {
         "hovertemplate": "labels=Cristal 5/10%<br>f1_weighted=%{x}<br>recall_macro=%{y}<extra></extra>",
         "legendgroup": "Cristal 5/10%",
         "marker": {
          "color": "#ab63fa",
          "symbol": "x"
         },
         "mode": "markers",
         "name": "Cristal 5/10%",
         "orientation": "v",
         "showlegend": true,
         "type": "scatter",
         "x": [
          0.9215686274509803,
          0.8613810741687979,
          0.938224752266498,
          0.8950403690888119,
          0.9797481654718931,
          0.9215686274509803,
          0.9249922191098662,
          0.9399828415830506,
          0.8923009134509466,
          0.8665314401622718,
          0.9255585955312359,
          0.9215686274509803,
          0.9447573576037896,
          0.9399828415830506,
          0.8568316215375038
         ],
         "xaxis": "x",
         "y": [
          0.8344155844155845,
          0.6314935064935066,
          0.7891304347826087,
          0.7878048780487805,
          0.9285714285714286,
          0.8344155844155845,
          0.9026162790697674,
          0.8878048780487805,
          0.7383720930232558,
          0.7402597402597402,
          0.8944805194805194,
          0.7782608695652173,
          0.9651162790697674,
          0.8878048780487805,
          0.788961038961039
         ],
         "yaxis": "y"
        },
        {
         "hovertemplate": "labels=Cristal 8/10%<br>f1_weighted=%{x}<br>recall_macro=%{y}<extra></extra>",
         "legendgroup": "Cristal 8/10%",
         "marker": {
          "color": "#FFA15A",
          "symbol": "cross"
         },
         "mode": "markers",
         "name": "Cristal 8/10%",
         "orientation": "v",
         "showlegend": true,
         "type": "scatter",
         "x": [
          0.8,
          0.7375661375661375,
          0.7812957157784745,
          0.7732563115104834,
          0.8291666666666667,
          0.7731452455590387,
          0.812044817927171,
          0.7882014544665147,
          0.8847038019451813,
          0.827405380756954,
          0.8154479265590378,
          0.8687830687830687,
          0.9014120667522465,
          0.7333333333333333,
          0.8180397264734613
         ],
         "xaxis": "x",
         "y": [
          0.7443181818181819,
          0.6894664842681258,
          0.7243502051983584,
          0.7482900136798906,
          0.8014354066985645,
          0.714377406931964,
          0.7670089858793325,
          0.7599179206566348,
          0.8493788819875776,
          0.779204107830552,
          0.7875,
          0.853625170998632,
          0.8968253968253967,
          0.6919127086007703,
          0.7896825396825397
         ],
         "yaxis": "y"
        },
        {
         "hovertemplate": "labels=Cristal 5/30%<br>f1_weighted=%{x}<br>recall_macro=%{y}<extra></extra>",
         "legendgroup": "Cristal 5/30%",
         "marker": {
          "color": "#19d3f3",
          "symbol": "circle"
         },
         "mode": "markers",
         "name": "Cristal 5/30%",
         "orientation": "v",
         "showlegend": true,
         "type": "scatter",
         "x": [
          0.4711111111111111,
          0.43150183150183147,
          0.41273408239700377,
          0.42988505747126443,
          0.5037037037037037,
          0.4555403556771546,
          0.45555555555555555,
          0.4731182795698924,
          0.47765151515151516,
          0.4979702790866256,
          0.42016718913270634,
          0.36279069767441857,
          0.4097583219334245,
          0.41111111111111115,
          0.4303030303030303
         ],
         "xaxis": "x",
         "y": [
          0.4212454212454212,
          0.40789473684210525,
          0.3815789473684211,
          0.39114832535885163,
          0.4593301435406698,
          0.4138755980861244,
          0.36585365853658536,
          0.4125,
          0.44019138755980863,
          0.44505494505494503,
          0.400117508813161,
          0.3611111111111111,
          0.38660399529964745,
          0.40540540540540543,
          0.4649321266968326
         ],
         "yaxis": "y"
        },
        {
         "hovertemplate": "labels=Cristal 15/30%<br>f1_weighted=%{x}<br>recall_macro=%{y}<extra></extra>",
         "legendgroup": "Cristal 15/30%",
         "marker": {
          "color": "#FF6692",
          "symbol": "diamond"
         },
         "mode": "markers",
         "name": "Cristal 15/30%",
         "orientation": "v",
         "showlegend": true,
         "type": "scatter",
         "x": [
          0.5377777777777778,
          0.5377777777777778,
          0.5121465551573079,
          0.5770114942528736,
          0.5011947431302269,
          0.520496894409938,
          0.48962962962962975,
          0.5402298850574713,
          0.5185185185185186,
          0.544353518821604,
          0.564286577262293,
          0.5925925925925927,
          0.520496894409938,
          0.5945578231292517,
          0.49024293110314615
         ],
         "xaxis": "x",
         "y": [
          0.5023923444976077,
          0.5023923444976077,
          0.45,
          0.534688995215311,
          0.45970695970695974,
          0.49282296650717705,
          0.47591069330199764,
          0.49880382775119614,
          0.45,
          0.4444444444444445,
          0.5251196172248804,
          0.525,
          0.49282296650717705,
          0.41304347826086957,
          0.4700956937799043
         ],
         "yaxis": "y"
        },
        {
         "hovertemplate": "labels=Cristal 25/30%<br>f1_weighted=%{x}<br>recall_macro=%{y}<extra></extra>",
         "legendgroup": "Cristal 25/30%",
         "marker": {
          "color": "#B6E880",
          "symbol": "square"
         },
         "mode": "markers",
         "name": "Cristal 25/30%",
         "orientation": "v",
         "showlegend": true,
         "type": "scatter",
         "x": [
          0.6679890560875512,
          0.7291005291005291,
          0.7220367993153616,
          0.7033437826541273,
          0.7238486092111261,
          0.693324649951156,
          0.726752839796318,
          0.6667317920329968,
          0.72,
          0.7140020898641588,
          0.7291005291005291,
          0.7382445141065832,
          0.7034821145932258,
          0.6880681818181819,
          0.7331488114620643
         ],
         "xaxis": "x",
         "y": [
          0.6333725029377204,
          0.6777920410783055,
          0.6842105263157895,
          0.6373555840821565,
          0.6636713735558408,
          0.6666666666666666,
          0.7149321266968325,
          0.6255980861244019,
          0.6944444444444444,
          0.6422708618331053,
          0.6777920410783055,
          0.6758664955070603,
          0.6715628672150411,
          0.6111111111111112,
          0.6985898942420682
         ],
         "yaxis": "y"
        }
       ],
       "layout": {
        "legend": {
         "title": {
          "text": ""
         },
         "tracegroupgap": 0
        },
        "margin": {
         "b": 20,
         "l": 20,
         "r": 20,
         "t": 40
        },
        "template": {
         "data": {
          "bar": [
           {
            "error_x": {
             "color": "#2a3f5f"
            },
            "error_y": {
             "color": "#2a3f5f"
            },
            "marker": {
             "line": {
              "color": "#E5ECF6",
              "width": 0.5
             },
             "pattern": {
              "fillmode": "overlay",
              "size": 10,
              "solidity": 0.2
             }
            },
            "type": "bar"
           }
          ],
          "barpolar": [
           {
            "marker": {
             "line": {
              "color": "#E5ECF6",
              "width": 0.5
             },
             "pattern": {
              "fillmode": "overlay",
              "size": 10,
              "solidity": 0.2
             }
            },
            "type": "barpolar"
           }
          ],
          "carpet": [
           {
            "aaxis": {
             "endlinecolor": "#2a3f5f",
             "gridcolor": "white",
             "linecolor": "white",
             "minorgridcolor": "white",
             "startlinecolor": "#2a3f5f"
            },
            "baxis": {
             "endlinecolor": "#2a3f5f",
             "gridcolor": "white",
             "linecolor": "white",
             "minorgridcolor": "white",
             "startlinecolor": "#2a3f5f"
            },
            "type": "carpet"
           }
          ],
          "choropleth": [
           {
            "colorbar": {
             "outlinewidth": 0,
             "ticks": ""
            },
            "type": "choropleth"
           }
          ],
          "contour": [
           {
            "colorbar": {
             "outlinewidth": 0,
             "ticks": ""
            },
            "colorscale": [
             [
              0,
              "#0d0887"
             ],
             [
              0.1111111111111111,
              "#46039f"
             ],
             [
              0.2222222222222222,
              "#7201a8"
             ],
             [
              0.3333333333333333,
              "#9c179e"
             ],
             [
              0.4444444444444444,
              "#bd3786"
             ],
             [
              0.5555555555555556,
              "#d8576b"
             ],
             [
              0.6666666666666666,
              "#ed7953"
             ],
             [
              0.7777777777777778,
              "#fb9f3a"
             ],
             [
              0.8888888888888888,
              "#fdca26"
             ],
             [
              1,
              "#f0f921"
             ]
            ],
            "type": "contour"
           }
          ],
          "contourcarpet": [
           {
            "colorbar": {
             "outlinewidth": 0,
             "ticks": ""
            },
            "type": "contourcarpet"
           }
          ],
          "heatmap": [
           {
            "colorbar": {
             "outlinewidth": 0,
             "ticks": ""
            },
            "colorscale": [
             [
              0,
              "#0d0887"
             ],
             [
              0.1111111111111111,
              "#46039f"
             ],
             [
              0.2222222222222222,
              "#7201a8"
             ],
             [
              0.3333333333333333,
              "#9c179e"
             ],
             [
              0.4444444444444444,
              "#bd3786"
             ],
             [
              0.5555555555555556,
              "#d8576b"
             ],
             [
              0.6666666666666666,
              "#ed7953"
             ],
             [
              0.7777777777777778,
              "#fb9f3a"
             ],
             [
              0.8888888888888888,
              "#fdca26"
             ],
             [
              1,
              "#f0f921"
             ]
            ],
            "type": "heatmap"
           }
          ],
          "heatmapgl": [
           {
            "colorbar": {
             "outlinewidth": 0,
             "ticks": ""
            },
            "colorscale": [
             [
              0,
              "#0d0887"
             ],
             [
              0.1111111111111111,
              "#46039f"
             ],
             [
              0.2222222222222222,
              "#7201a8"
             ],
             [
              0.3333333333333333,
              "#9c179e"
             ],
             [
              0.4444444444444444,
              "#bd3786"
             ],
             [
              0.5555555555555556,
              "#d8576b"
             ],
             [
              0.6666666666666666,
              "#ed7953"
             ],
             [
              0.7777777777777778,
              "#fb9f3a"
             ],
             [
              0.8888888888888888,
              "#fdca26"
             ],
             [
              1,
              "#f0f921"
             ]
            ],
            "type": "heatmapgl"
           }
          ],
          "histogram": [
           {
            "marker": {
             "pattern": {
              "fillmode": "overlay",
              "size": 10,
              "solidity": 0.2
             }
            },
            "type": "histogram"
           }
          ],
          "histogram2d": [
           {
            "colorbar": {
             "outlinewidth": 0,
             "ticks": ""
            },
            "colorscale": [
             [
              0,
              "#0d0887"
             ],
             [
              0.1111111111111111,
              "#46039f"
             ],
             [
              0.2222222222222222,
              "#7201a8"
             ],
             [
              0.3333333333333333,
              "#9c179e"
             ],
             [
              0.4444444444444444,
              "#bd3786"
             ],
             [
              0.5555555555555556,
              "#d8576b"
             ],
             [
              0.6666666666666666,
              "#ed7953"
             ],
             [
              0.7777777777777778,
              "#fb9f3a"
             ],
             [
              0.8888888888888888,
              "#fdca26"
             ],
             [
              1,
              "#f0f921"
             ]
            ],
            "type": "histogram2d"
           }
          ],
          "histogram2dcontour": [
           {
            "colorbar": {
             "outlinewidth": 0,
             "ticks": ""
            },
            "colorscale": [
             [
              0,
              "#0d0887"
             ],
             [
              0.1111111111111111,
              "#46039f"
             ],
             [
              0.2222222222222222,
              "#7201a8"
             ],
             [
              0.3333333333333333,
              "#9c179e"
             ],
             [
              0.4444444444444444,
              "#bd3786"
             ],
             [
              0.5555555555555556,
              "#d8576b"
             ],
             [
              0.6666666666666666,
              "#ed7953"
             ],
             [
              0.7777777777777778,
              "#fb9f3a"
             ],
             [
              0.8888888888888888,
              "#fdca26"
             ],
             [
              1,
              "#f0f921"
             ]
            ],
            "type": "histogram2dcontour"
           }
          ],
          "mesh3d": [
           {
            "colorbar": {
             "outlinewidth": 0,
             "ticks": ""
            },
            "type": "mesh3d"
           }
          ],
          "parcoords": [
           {
            "line": {
             "colorbar": {
              "outlinewidth": 0,
              "ticks": ""
             }
            },
            "type": "parcoords"
           }
          ],
          "pie": [
           {
            "automargin": true,
            "type": "pie"
           }
          ],
          "scatter": [
           {
            "marker": {
             "colorbar": {
              "outlinewidth": 0,
              "ticks": ""
             }
            },
            "type": "scatter"
           }
          ],
          "scatter3d": [
           {
            "line": {
             "colorbar": {
              "outlinewidth": 0,
              "ticks": ""
             }
            },
            "marker": {
             "colorbar": {
              "outlinewidth": 0,
              "ticks": ""
             }
            },
            "type": "scatter3d"
           }
          ],
          "scattercarpet": [
           {
            "marker": {
             "colorbar": {
              "outlinewidth": 0,
              "ticks": ""
             }
            },
            "type": "scattercarpet"
           }
          ],
          "scattergeo": [
           {
            "marker": {
             "colorbar": {
              "outlinewidth": 0,
              "ticks": ""
             }
            },
            "type": "scattergeo"
           }
          ],
          "scattergl": [
           {
            "marker": {
             "colorbar": {
              "outlinewidth": 0,
              "ticks": ""
             }
            },
            "type": "scattergl"
           }
          ],
          "scattermapbox": [
           {
            "marker": {
             "colorbar": {
              "outlinewidth": 0,
              "ticks": ""
             }
            },
            "type": "scattermapbox"
           }
          ],
          "scatterpolar": [
           {
            "marker": {
             "colorbar": {
              "outlinewidth": 0,
              "ticks": ""
             }
            },
            "type": "scatterpolar"
           }
          ],
          "scatterpolargl": [
           {
            "marker": {
             "colorbar": {
              "outlinewidth": 0,
              "ticks": ""
             }
            },
            "type": "scatterpolargl"
           }
          ],
          "scatterternary": [
           {
            "marker": {
             "colorbar": {
              "outlinewidth": 0,
              "ticks": ""
             }
            },
            "type": "scatterternary"
           }
          ],
          "surface": [
           {
            "colorbar": {
             "outlinewidth": 0,
             "ticks": ""
            },
            "colorscale": [
             [
              0,
              "#0d0887"
             ],
             [
              0.1111111111111111,
              "#46039f"
             ],
             [
              0.2222222222222222,
              "#7201a8"
             ],
             [
              0.3333333333333333,
              "#9c179e"
             ],
             [
              0.4444444444444444,
              "#bd3786"
             ],
             [
              0.5555555555555556,
              "#d8576b"
             ],
             [
              0.6666666666666666,
              "#ed7953"
             ],
             [
              0.7777777777777778,
              "#fb9f3a"
             ],
             [
              0.8888888888888888,
              "#fdca26"
             ],
             [
              1,
              "#f0f921"
             ]
            ],
            "type": "surface"
           }
          ],
          "table": [
           {
            "cells": {
             "fill": {
              "color": "#EBF0F8"
             },
             "line": {
              "color": "white"
             }
            },
            "header": {
             "fill": {
              "color": "#C8D4E3"
             },
             "line": {
              "color": "white"
             }
            },
            "type": "table"
           }
          ]
         },
         "layout": {
          "annotationdefaults": {
           "arrowcolor": "#2a3f5f",
           "arrowhead": 0,
           "arrowwidth": 1
          },
          "autotypenumbers": "strict",
          "coloraxis": {
           "colorbar": {
            "outlinewidth": 0,
            "ticks": ""
           }
          },
          "colorscale": {
           "diverging": [
            [
             0,
             "#8e0152"
            ],
            [
             0.1,
             "#c51b7d"
            ],
            [
             0.2,
             "#de77ae"
            ],
            [
             0.3,
             "#f1b6da"
            ],
            [
             0.4,
             "#fde0ef"
            ],
            [
             0.5,
             "#f7f7f7"
            ],
            [
             0.6,
             "#e6f5d0"
            ],
            [
             0.7,
             "#b8e186"
            ],
            [
             0.8,
             "#7fbc41"
            ],
            [
             0.9,
             "#4d9221"
            ],
            [
             1,
             "#276419"
            ]
           ],
           "sequential": [
            [
             0,
             "#0d0887"
            ],
            [
             0.1111111111111111,
             "#46039f"
            ],
            [
             0.2222222222222222,
             "#7201a8"
            ],
            [
             0.3333333333333333,
             "#9c179e"
            ],
            [
             0.4444444444444444,
             "#bd3786"
            ],
            [
             0.5555555555555556,
             "#d8576b"
            ],
            [
             0.6666666666666666,
             "#ed7953"
            ],
            [
             0.7777777777777778,
             "#fb9f3a"
            ],
            [
             0.8888888888888888,
             "#fdca26"
            ],
            [
             1,
             "#f0f921"
            ]
           ],
           "sequentialminus": [
            [
             0,
             "#0d0887"
            ],
            [
             0.1111111111111111,
             "#46039f"
            ],
            [
             0.2222222222222222,
             "#7201a8"
            ],
            [
             0.3333333333333333,
             "#9c179e"
            ],
            [
             0.4444444444444444,
             "#bd3786"
            ],
            [
             0.5555555555555556,
             "#d8576b"
            ],
            [
             0.6666666666666666,
             "#ed7953"
            ],
            [
             0.7777777777777778,
             "#fb9f3a"
            ],
            [
             0.8888888888888888,
             "#fdca26"
            ],
            [
             1,
             "#f0f921"
            ]
           ]
          },
          "colorway": [
           "#636efa",
           "#EF553B",
           "#00cc96",
           "#ab63fa",
           "#FFA15A",
           "#19d3f3",
           "#FF6692",
           "#B6E880",
           "#FF97FF",
           "#FECB52"
          ],
          "font": {
           "color": "#2a3f5f"
          },
          "geo": {
           "bgcolor": "white",
           "lakecolor": "white",
           "landcolor": "#E5ECF6",
           "showlakes": true,
           "showland": true,
           "subunitcolor": "white"
          },
          "hoverlabel": {
           "align": "left"
          },
          "hovermode": "closest",
          "mapbox": {
           "style": "light"
          },
          "paper_bgcolor": "white",
          "plot_bgcolor": "#E5ECF6",
          "polar": {
           "angularaxis": {
            "gridcolor": "white",
            "linecolor": "white",
            "ticks": ""
           },
           "bgcolor": "#E5ECF6",
           "radialaxis": {
            "gridcolor": "white",
            "linecolor": "white",
            "ticks": ""
           }
          },
          "scene": {
           "xaxis": {
            "backgroundcolor": "#E5ECF6",
            "gridcolor": "white",
            "gridwidth": 2,
            "linecolor": "white",
            "showbackground": true,
            "ticks": "",
            "zerolinecolor": "white"
           },
           "yaxis": {
            "backgroundcolor": "#E5ECF6",
            "gridcolor": "white",
            "gridwidth": 2,
            "linecolor": "white",
            "showbackground": true,
            "ticks": "",
            "zerolinecolor": "white"
           },
           "zaxis": {
            "backgroundcolor": "#E5ECF6",
            "gridcolor": "white",
            "gridwidth": 2,
            "linecolor": "white",
            "showbackground": true,
            "ticks": "",
            "zerolinecolor": "white"
           }
          },
          "shapedefaults": {
           "line": {
            "color": "#2a3f5f"
           }
          },
          "ternary": {
           "aaxis": {
            "gridcolor": "white",
            "linecolor": "white",
            "ticks": ""
           },
           "baxis": {
            "gridcolor": "white",
            "linecolor": "white",
            "ticks": ""
           },
           "bgcolor": "#E5ECF6",
           "caxis": {
            "gridcolor": "white",
            "linecolor": "white",
            "ticks": ""
           }
          },
          "title": {
           "x": 0.05
          },
          "xaxis": {
           "automargin": true,
           "gridcolor": "white",
           "linecolor": "white",
           "ticks": "",
           "title": {
            "standoff": 15
           },
           "zerolinecolor": "white",
           "zerolinewidth": 2
          },
          "yaxis": {
           "automargin": true,
           "gridcolor": "white",
           "linecolor": "white",
           "ticks": "",
           "title": {
            "standoff": 15
           },
           "zerolinecolor": "white",
           "zerolinewidth": 2
          }
         }
        },
        "title": {
         "text": "n matrix: 60",
         "x": 0.45,
         "y": 0.95,
         "yanchor": "top"
        },
        "xaxis": {
         "anchor": "y",
         "domain": [
          0,
          1
         ],
         "range": [
          0.36279069767441857,
          1.1
         ],
         "title": {
          "text": "f1_weighted"
         }
        },
        "yaxis": {
         "anchor": "x",
         "domain": [
          0,
          1
         ],
         "range": [
          0,
          1.1
         ],
         "title": {
          "text": "recall_macro"
         }
        }
       }
      }
     },
     "metadata": {},
     "output_type": "display_data"
    },
    {
     "data": {
      "application/vnd.plotly.v1+json": {
       "config": {
        "plotlyServerURL": "https://plot.ly"
       },
       "data": [
        {
         "hovertemplate": "labels=Cristal 0% - c/error<br>f1_weighted=%{x}<br>recall_macro=%{y}<extra></extra>",
         "legendgroup": "Cristal 0% - c/error",
         "marker": {
          "color": "#636efa",
          "symbol": "circle"
         },
         "mode": "markers",
         "name": "Cristal 0% - c/error",
         "orientation": "v",
         "showlegend": true,
         "type": "scatter",
         "x": [
          0.4864769744691005,
          0.47114845938375344,
          0.48403796376186375,
          0.4343550867941112,
          0.4653100775193798,
          0.43484251968503934,
          0.45770609318996425,
          0.4718503937007873,
          0.47114845938375344,
          0.48894285714285707,
          0.5603046594982078,
          0.44722222222222213,
          0.4644571428571429,
          0.4559714285714286,
          0.4474857142857143
         ],
         "xaxis": "x",
         "y": [
          0.5059249506254114,
          0.5052083333333333,
          0.5428571428571428,
          0.4929667519181586,
          0.5,
          0.5,
          0.484375,
          0.46078431372549017,
          0.5052083333333333,
          0.5303030303030303,
          0.554312047399605,
          0.46938775510204084,
          0.4947916666666667,
          0.5045132172791748,
          0.5147058823529411
         ],
         "yaxis": "y"
        },
        {
         "hovertemplate": "labels=Cristal 0% - s/error<br>f1_weighted=%{x}<br>recall_macro=%{y}<extra></extra>",
         "legendgroup": "Cristal 0% - s/error",
         "marker": {
          "color": "#EF553B",
          "symbol": "diamond"
         },
         "mode": "markers",
         "name": "Cristal 0% - s/error",
         "orientation": "v",
         "showlegend": true,
         "type": "scatter",
         "x": [
          0.9810897435897437,
          0.95,
          0.9790043290043288,
          0.975,
          0.95,
          1,
          0.9937106918238994,
          1,
          0.9435483870967742,
          0.95,
          1,
          0.9887096774193548,
          1,
          0.9812893081761006,
          0.9626582278481012
         ],
         "xaxis": "x",
         "y": [
          0.9873417721518987,
          0.6536796536796536,
          0.9871794871794872,
          0.868421052631579,
          0.48717948717948717,
          1,
          0.49375,
          1,
          0.4807692307692308,
          0.48717948717948717,
          1,
          0.9935897435897436,
          1,
          0.5,
          0.5
         ],
         "yaxis": "y"
        },
        {
         "hovertemplate": "labels=Cristal 2/10%<br>f1_weighted=%{x}<br>recall_macro=%{y}<extra></extra>",
         "legendgroup": "Cristal 2/10%",
         "marker": {
          "color": "#00cc96",
          "symbol": "square"
         },
         "mode": "markers",
         "name": "Cristal 2/10%",
         "orientation": "v",
         "showlegend": true,
         "type": "scatter",
         "x": [
          0.7888888888888889,
          0.8347222222222224,
          0.8673207744636315,
          0.7797945205479453,
          0.8209393346379649,
          0.828169014084507,
          0.7633072041806644,
          0.8419540229885059,
          0.7149216125419933,
          0.7784862196626904,
          0.8253079507278835,
          0.7888888888888889,
          0.8041993281075028,
          0.737937062937063,
          0.816510172143975
         ],
         "xaxis": "x",
         "y": [
          0.4507042253521127,
          0.5166340508806262,
          0.5427927927927928,
          0.4782608695652174,
          0.5285714285714286,
          0.6029411764705883,
          0.49754901960784315,
          0.5785714285714286,
          0.5214752567693743,
          0.5122549019607843,
          0.5625,
          0.4507042253521127,
          0.591991341991342,
          0.4701492537313433,
          0.5571428571428572
         ],
         "yaxis": "y"
        },
        {
         "hovertemplate": "labels=Cristal 5/10%<br>f1_weighted=%{x}<br>recall_macro=%{y}<extra></extra>",
         "legendgroup": "Cristal 5/10%",
         "marker": {
          "color": "#ab63fa",
          "symbol": "x"
         },
         "mode": "markers",
         "name": "Cristal 5/10%",
         "orientation": "v",
         "showlegend": true,
         "type": "scatter",
         "x": [
          0.8823529411764706,
          0.9280913445000133,
          0.9411764705882353,
          0.889273356401384,
          0.932912007778318,
          0.8996539792387542,
          0.8715119105493437,
          0.8204069752057367,
          0.8709836875926841,
          0.9117647058823529,
          0.9533065400073071,
          0.9705882352941176,
          0.957170636849781,
          0.9076812713828496,
          0.9165441176470588
         ],
         "xaxis": "x",
         "y": [
          0.743879472693032,
          0.8634651600753296,
          0.871939736346516,
          0.7327586206896552,
          0.8844086021505376,
          0.7791666666666667,
          0.6733021077283372,
          0.6398809523809523,
          0.7083333333333333,
          0.7258064516129032,
          0.875,
          0.935969868173258,
          0.9121779859484778,
          0.7603174603174603,
          0.8243559718969555
         ],
         "yaxis": "y"
        },
        {
         "hovertemplate": "labels=Cristal 8/10%<br>f1_weighted=%{x}<br>recall_macro=%{y}<extra></extra>",
         "legendgroup": "Cristal 8/10%",
         "marker": {
          "color": "#FFA15A",
          "symbol": "cross"
         },
         "mode": "markers",
         "name": "Cristal 8/10%",
         "orientation": "v",
         "showlegend": true,
         "type": "scatter",
         "x": [
          0.8421309064166206,
          0.8,
          0.7700909090909089,
          0.8365738187166759,
          0.8291666666666666,
          0.8577803203661327,
          0.7112554112554113,
          0.796011396011396,
          0.7662169454937939,
          0.8617163081448795,
          0.8163043478260871,
          0.775,
          0.7725454545454545,
          0.804344756166447,
          0.8
         ],
         "xaxis": "x",
         "y": [
          0.8315047021943573,
          0.7492163009404389,
          0.7302585604472397,
          0.8054545454545454,
          0.8087774294670846,
          0.8654012079378774,
          0.679945054945055,
          0.7637362637362637,
          0.7351190476190477,
          0.8345454545454545,
          0.7808716707021792,
          0.7321428571428572,
          0.7336182336182336,
          0.7585604472396925,
          0.7720797720797721
         ],
         "yaxis": "y"
        },
        {
         "hovertemplate": "labels=Cristal 5/30%<br>f1_weighted=%{x}<br>recall_macro=%{y}<extra></extra>",
         "legendgroup": "Cristal 5/30%",
         "marker": {
          "color": "#19d3f3",
          "symbol": "circle"
         },
         "mode": "markers",
         "name": "Cristal 5/30%",
         "orientation": "v",
         "showlegend": true,
         "type": "scatter",
         "x": [
          0.43850129198966403,
          0.4206270005648654,
          0.4928683385579937,
          0.4096638655462185,
          0.4007004830917875,
          0.48943943431030956,
          0.4234247664480223,
          0.4616626311541566,
          0.48943943431030956,
          0.3861285266457681,
          0.42355371900826444,
          0.45375000000000004,
          0.45375000000000004,
          0.4905737704918033,
          0.4540479606476738
         ],
         "xaxis": "x",
         "y": [
          0.3832417582417582,
          0.4354219948849105,
          0.4726793943383805,
          0.39,
          0.3834759710335747,
          0.42382948986722574,
          0.39666666666666667,
          0.3803418803418803,
          0.42382948986722574,
          0.41687979539641945,
          0.41,
          0.4192021636240703,
          0.4192021636240703,
          0.3684210526315789,
          0.4024725274725275
         ],
         "yaxis": "y"
        },
        {
         "hovertemplate": "labels=Cristal 15/30%<br>f1_weighted=%{x}<br>recall_macro=%{y}<extra></extra>",
         "legendgroup": "Cristal 15/30%",
         "marker": {
          "color": "#FF6692",
          "symbol": "diamond"
         },
         "mode": "markers",
         "name": "Cristal 15/30%",
         "orientation": "v",
         "showlegend": true,
         "type": "scatter",
         "x": [
          0.5100430416068867,
          0.4847713546160482,
          0.5836714975845411,
          0.5312791783380018,
          0.4995967741935485,
          0.5254004576659039,
          0.5706427955133735,
          0.5965564738292011,
          0.5636918382913806,
          0.483959569325423,
          0.5287963761863675,
          0.5130853994490358,
          0.5585049580472922,
          0.48906025824964133,
          0.5240338164251208
         ],
         "xaxis": "x",
         "y": [
          0.4574175824175824,
          0.4241788958770091,
          0.5288461538461539,
          0.44727272727272727,
          0.44304682040531096,
          0.5104166666666667,
          0.5080363382250175,
          0.5220797720797721,
          0.5266666666666666,
          0.4409340659340659,
          0.44,
          0.4366096866096866,
          0.5312705727452272,
          0.4769585253456221,
          0.4783637592968222
         ],
         "yaxis": "y"
        },
        {
         "hovertemplate": "labels=Cristal 25/30%<br>f1_weighted=%{x}<br>recall_macro=%{y}<extra></extra>",
         "legendgroup": "Cristal 25/30%",
         "marker": {
          "color": "#B6E880",
          "symbol": "square"
         },
         "mode": "markers",
         "name": "Cristal 25/30%",
         "orientation": "v",
         "showlegend": true,
         "type": "scatter",
         "x": [
          0.6622575786104312,
          0.6630464112250404,
          0.691025641025641,
          0.6944750873322303,
          0.7402745995423341,
          0.7190000000000001,
          0.6803636363636365,
          0.6974431317228003,
          0.7262519837771115,
          0.6785944107372679,
          0.7545766590389016,
          0.7551214460553568,
          0.658374129165882,
          0.6608181818181817,
          0.6465217391304348
         ],
         "xaxis": "x",
         "y": [
          0.6233333333333333,
          0.6437782076079948,
          0.6531440162271805,
          0.6566666666666667,
          0.6851851851851851,
          0.6743535988819007,
          0.6484529295589203,
          0.671875,
          0.6968400263331138,
          0.6278825995807128,
          0.7133333333333334,
          0.7044159544159544,
          0.6263989466754444,
          0.6186612576064908,
          0.5804843304843305
         ],
         "yaxis": "y"
        }
       ],
       "layout": {
        "legend": {
         "title": {
          "text": ""
         },
         "tracegroupgap": 0
        },
        "margin": {
         "b": 20,
         "l": 20,
         "r": 20,
         "t": 40
        },
        "template": {
         "data": {
          "bar": [
           {
            "error_x": {
             "color": "#2a3f5f"
            },
            "error_y": {
             "color": "#2a3f5f"
            },
            "marker": {
             "line": {
              "color": "#E5ECF6",
              "width": 0.5
             },
             "pattern": {
              "fillmode": "overlay",
              "size": 10,
              "solidity": 0.2
             }
            },
            "type": "bar"
           }
          ],
          "barpolar": [
           {
            "marker": {
             "line": {
              "color": "#E5ECF6",
              "width": 0.5
             },
             "pattern": {
              "fillmode": "overlay",
              "size": 10,
              "solidity": 0.2
             }
            },
            "type": "barpolar"
           }
          ],
          "carpet": [
           {
            "aaxis": {
             "endlinecolor": "#2a3f5f",
             "gridcolor": "white",
             "linecolor": "white",
             "minorgridcolor": "white",
             "startlinecolor": "#2a3f5f"
            },
            "baxis": {
             "endlinecolor": "#2a3f5f",
             "gridcolor": "white",
             "linecolor": "white",
             "minorgridcolor": "white",
             "startlinecolor": "#2a3f5f"
            },
            "type": "carpet"
           }
          ],
          "choropleth": [
           {
            "colorbar": {
             "outlinewidth": 0,
             "ticks": ""
            },
            "type": "choropleth"
           }
          ],
          "contour": [
           {
            "colorbar": {
             "outlinewidth": 0,
             "ticks": ""
            },
            "colorscale": [
             [
              0,
              "#0d0887"
             ],
             [
              0.1111111111111111,
              "#46039f"
             ],
             [
              0.2222222222222222,
              "#7201a8"
             ],
             [
              0.3333333333333333,
              "#9c179e"
             ],
             [
              0.4444444444444444,
              "#bd3786"
             ],
             [
              0.5555555555555556,
              "#d8576b"
             ],
             [
              0.6666666666666666,
              "#ed7953"
             ],
             [
              0.7777777777777778,
              "#fb9f3a"
             ],
             [
              0.8888888888888888,
              "#fdca26"
             ],
             [
              1,
              "#f0f921"
             ]
            ],
            "type": "contour"
           }
          ],
          "contourcarpet": [
           {
            "colorbar": {
             "outlinewidth": 0,
             "ticks": ""
            },
            "type": "contourcarpet"
           }
          ],
          "heatmap": [
           {
            "colorbar": {
             "outlinewidth": 0,
             "ticks": ""
            },
            "colorscale": [
             [
              0,
              "#0d0887"
             ],
             [
              0.1111111111111111,
              "#46039f"
             ],
             [
              0.2222222222222222,
              "#7201a8"
             ],
             [
              0.3333333333333333,
              "#9c179e"
             ],
             [
              0.4444444444444444,
              "#bd3786"
             ],
             [
              0.5555555555555556,
              "#d8576b"
             ],
             [
              0.6666666666666666,
              "#ed7953"
             ],
             [
              0.7777777777777778,
              "#fb9f3a"
             ],
             [
              0.8888888888888888,
              "#fdca26"
             ],
             [
              1,
              "#f0f921"
             ]
            ],
            "type": "heatmap"
           }
          ],
          "heatmapgl": [
           {
            "colorbar": {
             "outlinewidth": 0,
             "ticks": ""
            },
            "colorscale": [
             [
              0,
              "#0d0887"
             ],
             [
              0.1111111111111111,
              "#46039f"
             ],
             [
              0.2222222222222222,
              "#7201a8"
             ],
             [
              0.3333333333333333,
              "#9c179e"
             ],
             [
              0.4444444444444444,
              "#bd3786"
             ],
             [
              0.5555555555555556,
              "#d8576b"
             ],
             [
              0.6666666666666666,
              "#ed7953"
             ],
             [
              0.7777777777777778,
              "#fb9f3a"
             ],
             [
              0.8888888888888888,
              "#fdca26"
             ],
             [
              1,
              "#f0f921"
             ]
            ],
            "type": "heatmapgl"
           }
          ],
          "histogram": [
           {
            "marker": {
             "pattern": {
              "fillmode": "overlay",
              "size": 10,
              "solidity": 0.2
             }
            },
            "type": "histogram"
           }
          ],
          "histogram2d": [
           {
            "colorbar": {
             "outlinewidth": 0,
             "ticks": ""
            },
            "colorscale": [
             [
              0,
              "#0d0887"
             ],
             [
              0.1111111111111111,
              "#46039f"
             ],
             [
              0.2222222222222222,
              "#7201a8"
             ],
             [
              0.3333333333333333,
              "#9c179e"
             ],
             [
              0.4444444444444444,
              "#bd3786"
             ],
             [
              0.5555555555555556,
              "#d8576b"
             ],
             [
              0.6666666666666666,
              "#ed7953"
             ],
             [
              0.7777777777777778,
              "#fb9f3a"
             ],
             [
              0.8888888888888888,
              "#fdca26"
             ],
             [
              1,
              "#f0f921"
             ]
            ],
            "type": "histogram2d"
           }
          ],
          "histogram2dcontour": [
           {
            "colorbar": {
             "outlinewidth": 0,
             "ticks": ""
            },
            "colorscale": [
             [
              0,
              "#0d0887"
             ],
             [
              0.1111111111111111,
              "#46039f"
             ],
             [
              0.2222222222222222,
              "#7201a8"
             ],
             [
              0.3333333333333333,
              "#9c179e"
             ],
             [
              0.4444444444444444,
              "#bd3786"
             ],
             [
              0.5555555555555556,
              "#d8576b"
             ],
             [
              0.6666666666666666,
              "#ed7953"
             ],
             [
              0.7777777777777778,
              "#fb9f3a"
             ],
             [
              0.8888888888888888,
              "#fdca26"
             ],
             [
              1,
              "#f0f921"
             ]
            ],
            "type": "histogram2dcontour"
           }
          ],
          "mesh3d": [
           {
            "colorbar": {
             "outlinewidth": 0,
             "ticks": ""
            },
            "type": "mesh3d"
           }
          ],
          "parcoords": [
           {
            "line": {
             "colorbar": {
              "outlinewidth": 0,
              "ticks": ""
             }
            },
            "type": "parcoords"
           }
          ],
          "pie": [
           {
            "automargin": true,
            "type": "pie"
           }
          ],
          "scatter": [
           {
            "marker": {
             "colorbar": {
              "outlinewidth": 0,
              "ticks": ""
             }
            },
            "type": "scatter"
           }
          ],
          "scatter3d": [
           {
            "line": {
             "colorbar": {
              "outlinewidth": 0,
              "ticks": ""
             }
            },
            "marker": {
             "colorbar": {
              "outlinewidth": 0,
              "ticks": ""
             }
            },
            "type": "scatter3d"
           }
          ],
          "scattercarpet": [
           {
            "marker": {
             "colorbar": {
              "outlinewidth": 0,
              "ticks": ""
             }
            },
            "type": "scattercarpet"
           }
          ],
          "scattergeo": [
           {
            "marker": {
             "colorbar": {
              "outlinewidth": 0,
              "ticks": ""
             }
            },
            "type": "scattergeo"
           }
          ],
          "scattergl": [
           {
            "marker": {
             "colorbar": {
              "outlinewidth": 0,
              "ticks": ""
             }
            },
            "type": "scattergl"
           }
          ],
          "scattermapbox": [
           {
            "marker": {
             "colorbar": {
              "outlinewidth": 0,
              "ticks": ""
             }
            },
            "type": "scattermapbox"
           }
          ],
          "scatterpolar": [
           {
            "marker": {
             "colorbar": {
              "outlinewidth": 0,
              "ticks": ""
             }
            },
            "type": "scatterpolar"
           }
          ],
          "scatterpolargl": [
           {
            "marker": {
             "colorbar": {
              "outlinewidth": 0,
              "ticks": ""
             }
            },
            "type": "scatterpolargl"
           }
          ],
          "scatterternary": [
           {
            "marker": {
             "colorbar": {
              "outlinewidth": 0,
              "ticks": ""
             }
            },
            "type": "scatterternary"
           }
          ],
          "surface": [
           {
            "colorbar": {
             "outlinewidth": 0,
             "ticks": ""
            },
            "colorscale": [
             [
              0,
              "#0d0887"
             ],
             [
              0.1111111111111111,
              "#46039f"
             ],
             [
              0.2222222222222222,
              "#7201a8"
             ],
             [
              0.3333333333333333,
              "#9c179e"
             ],
             [
              0.4444444444444444,
              "#bd3786"
             ],
             [
              0.5555555555555556,
              "#d8576b"
             ],
             [
              0.6666666666666666,
              "#ed7953"
             ],
             [
              0.7777777777777778,
              "#fb9f3a"
             ],
             [
              0.8888888888888888,
              "#fdca26"
             ],
             [
              1,
              "#f0f921"
             ]
            ],
            "type": "surface"
           }
          ],
          "table": [
           {
            "cells": {
             "fill": {
              "color": "#EBF0F8"
             },
             "line": {
              "color": "white"
             }
            },
            "header": {
             "fill": {
              "color": "#C8D4E3"
             },
             "line": {
              "color": "white"
             }
            },
            "type": "table"
           }
          ]
         },
         "layout": {
          "annotationdefaults": {
           "arrowcolor": "#2a3f5f",
           "arrowhead": 0,
           "arrowwidth": 1
          },
          "autotypenumbers": "strict",
          "coloraxis": {
           "colorbar": {
            "outlinewidth": 0,
            "ticks": ""
           }
          },
          "colorscale": {
           "diverging": [
            [
             0,
             "#8e0152"
            ],
            [
             0.1,
             "#c51b7d"
            ],
            [
             0.2,
             "#de77ae"
            ],
            [
             0.3,
             "#f1b6da"
            ],
            [
             0.4,
             "#fde0ef"
            ],
            [
             0.5,
             "#f7f7f7"
            ],
            [
             0.6,
             "#e6f5d0"
            ],
            [
             0.7,
             "#b8e186"
            ],
            [
             0.8,
             "#7fbc41"
            ],
            [
             0.9,
             "#4d9221"
            ],
            [
             1,
             "#276419"
            ]
           ],
           "sequential": [
            [
             0,
             "#0d0887"
            ],
            [
             0.1111111111111111,
             "#46039f"
            ],
            [
             0.2222222222222222,
             "#7201a8"
            ],
            [
             0.3333333333333333,
             "#9c179e"
            ],
            [
             0.4444444444444444,
             "#bd3786"
            ],
            [
             0.5555555555555556,
             "#d8576b"
            ],
            [
             0.6666666666666666,
             "#ed7953"
            ],
            [
             0.7777777777777778,
             "#fb9f3a"
            ],
            [
             0.8888888888888888,
             "#fdca26"
            ],
            [
             1,
             "#f0f921"
            ]
           ],
           "sequentialminus": [
            [
             0,
             "#0d0887"
            ],
            [
             0.1111111111111111,
             "#46039f"
            ],
            [
             0.2222222222222222,
             "#7201a8"
            ],
            [
             0.3333333333333333,
             "#9c179e"
            ],
            [
             0.4444444444444444,
             "#bd3786"
            ],
            [
             0.5555555555555556,
             "#d8576b"
            ],
            [
             0.6666666666666666,
             "#ed7953"
            ],
            [
             0.7777777777777778,
             "#fb9f3a"
            ],
            [
             0.8888888888888888,
             "#fdca26"
            ],
            [
             1,
             "#f0f921"
            ]
           ]
          },
          "colorway": [
           "#636efa",
           "#EF553B",
           "#00cc96",
           "#ab63fa",
           "#FFA15A",
           "#19d3f3",
           "#FF6692",
           "#B6E880",
           "#FF97FF",
           "#FECB52"
          ],
          "font": {
           "color": "#2a3f5f"
          },
          "geo": {
           "bgcolor": "white",
           "lakecolor": "white",
           "landcolor": "#E5ECF6",
           "showlakes": true,
           "showland": true,
           "subunitcolor": "white"
          },
          "hoverlabel": {
           "align": "left"
          },
          "hovermode": "closest",
          "mapbox": {
           "style": "light"
          },
          "paper_bgcolor": "white",
          "plot_bgcolor": "#E5ECF6",
          "polar": {
           "angularaxis": {
            "gridcolor": "white",
            "linecolor": "white",
            "ticks": ""
           },
           "bgcolor": "#E5ECF6",
           "radialaxis": {
            "gridcolor": "white",
            "linecolor": "white",
            "ticks": ""
           }
          },
          "scene": {
           "xaxis": {
            "backgroundcolor": "#E5ECF6",
            "gridcolor": "white",
            "gridwidth": 2,
            "linecolor": "white",
            "showbackground": true,
            "ticks": "",
            "zerolinecolor": "white"
           },
           "yaxis": {
            "backgroundcolor": "#E5ECF6",
            "gridcolor": "white",
            "gridwidth": 2,
            "linecolor": "white",
            "showbackground": true,
            "ticks": "",
            "zerolinecolor": "white"
           },
           "zaxis": {
            "backgroundcolor": "#E5ECF6",
            "gridcolor": "white",
            "gridwidth": 2,
            "linecolor": "white",
            "showbackground": true,
            "ticks": "",
            "zerolinecolor": "white"
           }
          },
          "shapedefaults": {
           "line": {
            "color": "#2a3f5f"
           }
          },
          "ternary": {
           "aaxis": {
            "gridcolor": "white",
            "linecolor": "white",
            "ticks": ""
           },
           "baxis": {
            "gridcolor": "white",
            "linecolor": "white",
            "ticks": ""
           },
           "bgcolor": "#E5ECF6",
           "caxis": {
            "gridcolor": "white",
            "linecolor": "white",
            "ticks": ""
           }
          },
          "title": {
           "x": 0.05
          },
          "xaxis": {
           "automargin": true,
           "gridcolor": "white",
           "linecolor": "white",
           "ticks": "",
           "title": {
            "standoff": 15
           },
           "zerolinecolor": "white",
           "zerolinewidth": 2
          },
          "yaxis": {
           "automargin": true,
           "gridcolor": "white",
           "linecolor": "white",
           "ticks": "",
           "title": {
            "standoff": 15
           },
           "zerolinecolor": "white",
           "zerolinewidth": 2
          }
         }
        },
        "title": {
         "text": "n matrix: 80",
         "x": 0.45,
         "y": 0.95,
         "yanchor": "top"
        },
        "xaxis": {
         "anchor": "y",
         "domain": [
          0,
          1
         ],
         "range": [
          0.3861285266457681,
          1.1
         ],
         "title": {
          "text": "f1_weighted"
         }
        },
        "yaxis": {
         "anchor": "x",
         "domain": [
          0,
          1
         ],
         "range": [
          0,
          1.1
         ],
         "title": {
          "text": "recall_macro"
         }
        }
       }
      }
     },
     "metadata": {},
     "output_type": "display_data"
    }
   ],
   "source": [
    "metrics_to_compute = {\n",
    "    \"precision\":{\"macro\"},\n",
    "    \"recall\": {\"micro\", \"macro\"},\n",
    "    \"f1\":{\"weighted\"},\n",
    "}\n",
    "\n",
    "metrics_to_compare = [\n",
    "            (\"precision_macro\", \"recall_micro\"),\n",
    "            (\"f1_weighted\", \"recall_macro\")\n",
    "          ]\n",
    "\n",
    "# datos por cada amina, para algunas tengo mucho y para otras muy poco\n",
    "n_samples = [20,40,60, 80]\n",
    "datasets = [set_experiment(seed_confusion_matrix, labels, n_matrix_size=sample, \n",
    "                         cm_samples=15, error_prop=0.15)\n",
    "           for sample in n_samples]\n",
    "\n",
    "for metrics_tuple in metrics_to_compare: \n",
    "    for i, dataset in enumerate(datasets):\n",
    "        for metric in metrics_to_compute.keys():\n",
    "            for average in metrics_to_compute[metric]:\n",
    "                add_metric_to(dataset, metric, average)\n",
    "        scatter_plotly(dataset, metrics_tuple[0], \n",
    "                       metrics_tuple[1], \"labels\", \n",
    "                       \"n matrix: {}\".format(n_samples[i]))"
   ]
  },
  {
   "cell_type": "code",
   "execution_count": 94,
   "metadata": {},
   "outputs": [
    {
     "ename": "TypeError",
     "evalue": "'int' object is not iterable",
     "output_type": "error",
     "traceback": [
      "\u001b[0;31m---------------------------------------------------------------------------\u001b[0m",
      "\u001b[0;31mTypeError\u001b[0m                                 Traceback (most recent call last)",
      "\u001b[0;32m<ipython-input-94-aa6f8641933f>\u001b[0m in \u001b[0;36m<module>\u001b[0;34m\u001b[0m\n\u001b[1;32m     14\u001b[0m datasets = [set_experiment(seed_confusion_matrix, labels, n_matrix_size=sample, \n\u001b[1;32m     15\u001b[0m                          cm_samples=15, error_prop=0.15)\n\u001b[0;32m---> 16\u001b[0;31m            for sample in n_samples]\n\u001b[0m\u001b[1;32m     17\u001b[0m \u001b[0;34m\u001b[0m\u001b[0m\n\u001b[1;32m     18\u001b[0m \u001b[0;32mfor\u001b[0m \u001b[0mmetrics_tuple\u001b[0m \u001b[0;32min\u001b[0m \u001b[0mmetrics_to_compare\u001b[0m\u001b[0;34m:\u001b[0m\u001b[0;34m\u001b[0m\u001b[0;34m\u001b[0m\u001b[0m\n",
      "\u001b[0;31mTypeError\u001b[0m: 'int' object is not iterable"
     ]
    }
   ],
   "source": [
    "metrics_to_compute = {\n",
    "    \"precision\":{\"macro\"},\n",
    "    \"recall\": {\"micro\", \"macro\"},\n",
    "    \"f1\":{\"weighted\"},\n",
    "}\n",
    "\n",
    "metrics_to_compare = [\n",
    "            (\"precision_macro\", \"recall_micro\"),\n",
    "            (\"f1_weighted\", \"recall_macro\")\n",
    "          ]\n",
    "\n",
    "# datos por cada amina, para algunas tengo mucho y para otras muy poco\n",
    "n_samples = 80\n",
    "datasets = [set_experiment(seed_confusion_matrix, labels, n_matrix_size=sample, \n",
    "                         cm_samples=15, error_prop=0.15)\n",
    "           for sample in n_samples]\n",
    "\n",
    "for metrics_tuple in metrics_to_compare: \n",
    "    for dataset in datasets:\n",
    "        for metric in metrics_to_compute.keys():\n",
    "            for average in metrics_to_compute[metric]:\n",
    "                add_metric_to(dataset, metric, average)\n",
    "        scatter_plotly(dataset, metrics_tuple[0], metrics_tuple[1], \"labels\")"
   ]
  },
  {
   "cell_type": "code",
   "execution_count": 202,
   "metadata": {},
   "outputs": [],
   "source": [
    "from adjustText import adjust_text\n",
    "\n",
    "def scatter_text(x, y, text_column, data, title=\"\", xlabel=\"\", ylabel=\"\"):\n",
    "    \"\"\"Scatter plot with country codes on the x y coordinates\n",
    "       Based on this answer: https://stackoverflow.com/a/54789170/2641825\"\"\"\n",
    "    # Create the scatter plot\n",
    "    p1 = sns.scatterplot(x, y, data=data, size = 8, legend=False)\n",
    "    texts = []\n",
    "    # Add text besides each point\n",
    "    for line in data.index:\n",
    "      #texts.append(p1.text(data[x][line]+0.01, data[y][line], data[text_column][line]))\n",
    "      p1.text(data[x][line]+0.01, data[y][line], \n",
    "                 data[text_column][line], horizontalalignment='left', \n",
    "                 size='small', color='black')\n",
    "   \n",
    "    #adjust_text(texts, data[[text_column]])\n",
    "    return p1"
   ]
  },
  {
   "cell_type": "code",
   "execution_count": 203,
   "metadata": {},
   "outputs": [
    {
     "name": "stderr",
     "output_type": "stream",
     "text": [
      "/home/belu/.local/share/virtualenvs/licentiate-thesis-repo-cz9ujhZI/lib/python3.6/site-packages/seaborn/_decorators.py:43: FutureWarning: Pass the following variables as keyword args: x, y. From version 0.12, the only valid positional argument will be `data`, and passing other arguments without an explicit keyword will result in an error or misinterpretation.\n",
      "  FutureWarning\n"
     ]
    },
    {
     "data": {
      "text/plain": [
       "<AxesSubplot:xlabel='precision_micro', ylabel='f1_macro'>"
      ]
     },
     "execution_count": 203,
     "metadata": {},
     "output_type": "execute_result"
    },
    {
     "data": {
      "image/png": "[encoded data removed]",
      "text/plain": [
       "<Figure size 432x288 with 1 Axes>"
      ]
     },
     "metadata": {
      "needs_background": "light"
     },
     "output_type": "display_data"
    }
   ],
   "source": [
    "scatter_text(\"precision_micro\", \"f1_macro\", \"level\", dataset_mean, \"title\", \"recall\", \"positive rate\")\n"
   ]
  },
  {
   "cell_type": "code",
   "execution_count": 204,
   "metadata": {},
   "outputs": [
    {
     "name": "stderr",
     "output_type": "stream",
     "text": [
      "/home/belu/.local/share/virtualenvs/licentiate-thesis-repo-cz9ujhZI/lib/python3.6/site-packages/seaborn/_decorators.py:43: FutureWarning: Pass the following variables as keyword args: x, y. From version 0.12, the only valid positional argument will be `data`, and passing other arguments without an explicit keyword will result in an error or misinterpretation.\n",
      "  FutureWarning\n"
     ]
    },
    {
     "data": {
      "text/plain": [
       "<AxesSubplot:xlabel='recall_macro', ylabel='recall_micro'>"
      ]
     },
     "execution_count": 204,
     "metadata": {},
     "output_type": "execute_result"
    },
    {
     "data": {
      "image/png": "[encoded data removed]",
      "text/plain": [
       "<Figure size 432x288 with 1 Axes>"
      ]
     },
     "metadata": {
      "needs_background": "light"
     },
     "output_type": "display_data"
    }
   ],
   "source": [
    "scatter_text(\"recall_macro\", \"recall_micro\", \"level\", dataset_mean, \"title\", \"recall\", \"positive rate\")\n"
   ]
  },
  {
   "cell_type": "code",
   "execution_count": 205,
   "metadata": {},
   "outputs": [
    {
     "name": "stderr",
     "output_type": "stream",
     "text": [
      "/home/belu/.local/share/virtualenvs/licentiate-thesis-repo-cz9ujhZI/lib/python3.6/site-packages/seaborn/_decorators.py:43: FutureWarning: Pass the following variables as keyword args: x, y. From version 0.12, the only valid positional argument will be `data`, and passing other arguments without an explicit keyword will result in an error or misinterpretation.\n",
      "  FutureWarning\n"
     ]
    },
    {
     "data": {
      "text/plain": [
       "<AxesSubplot:xlabel='precision_macro', ylabel='f1_macro'>"
      ]
     },
     "execution_count": 205,
     "metadata": {},
     "output_type": "execute_result"
    },
    {
     "data": {
      "image/png": "[encoded data removed]",
      "text/plain": [
       "<Figure size 432x288 with 1 Axes>"
      ]
     },
     "metadata": {
      "needs_background": "light"
     },
     "output_type": "display_data"
    }
   ],
   "source": [
    "scatter_text(\"precision_macro\", \"f1_macro\", \"level\", dataset_mean, \"title\", \"recall\", \"positive rate\")\n"
   ]
  },
  {
   "cell_type": "code",
   "execution_count": 206,
   "metadata": {},
   "outputs": [
    {
     "name": "stderr",
     "output_type": "stream",
     "text": [
      "/home/belu/.local/share/virtualenvs/licentiate-thesis-repo-cz9ujhZI/lib/python3.6/site-packages/seaborn/_decorators.py:43: FutureWarning: Pass the following variables as keyword args: x, y. From version 0.12, the only valid positional argument will be `data`, and passing other arguments without an explicit keyword will result in an error or misinterpretation.\n",
      "  FutureWarning\n"
     ]
    },
    {
     "data": {
      "text/plain": [
       "<AxesSubplot:xlabel='precision_macro', ylabel='recall_macro'>"
      ]
     },
     "execution_count": 206,
     "metadata": {},
     "output_type": "execute_result"
    },
    {
     "data": {
      "image/png": "[encoded data removed]",
      "text/plain": [
       "<Figure size 432x288 with 1 Axes>"
      ]
     },
     "metadata": {
      "needs_background": "light"
     },
     "output_type": "display_data"
    }
   ],
   "source": [
    "scatter_text(\"precision_macro\", \"recall_macro\", \"level\", dataset_mean, \"title\", \"recall\", \"positive rate\")\n"
   ]
  },
  {
   "cell_type": "code",
   "execution_count": 207,
   "metadata": {},
   "outputs": [
    {
     "name": "stderr",
     "output_type": "stream",
     "text": [
      "/home/belu/.local/share/virtualenvs/licentiate-thesis-repo-cz9ujhZI/lib/python3.6/site-packages/seaborn/_decorators.py:43: FutureWarning: Pass the following variables as keyword args: x, y. From version 0.12, the only valid positional argument will be `data`, and passing other arguments without an explicit keyword will result in an error or misinterpretation.\n",
      "  FutureWarning\n"
     ]
    },
    {
     "data": {
      "text/plain": [
       "<AxesSubplot:xlabel='precision_micro', ylabel='recall_micro'>"
      ]
     },
     "execution_count": 207,
     "metadata": {},
     "output_type": "execute_result"
    },
    {
     "data": {
      "image/png": "[encoded data removed]",
      "text/plain": [
       "<Figure size 432x288 with 1 Axes>"
      ]
     },
     "metadata": {
      "needs_background": "light"
     },
     "output_type": "display_data"
    }
   ],
   "source": [
    "scatter_text(\"precision_micro\", \"recall_micro\", \"level\", dataset_mean, \"title\", \"recall\", \"positive rate\")\n"
   ]
  },
  {
   "cell_type": "code",
   "execution_count": 208,
   "metadata": {},
   "outputs": [],
   "source": [
    "metrics_names = []\n",
    "metric = []\n",
    "beta = []\n",
    "average = []\n",
    "\n",
    "experiments = pd.DataFrame.from_dict({\"name\": metrics_names,\n",
    "                                     \"metric\": metric,\n",
    "                                     \"beta\" : beta,\n",
    "                                     \"average\": average\n",
    "                                    })"
   ]
  },
  {
   "cell_type": "code",
   "execution_count": 22,
   "metadata": {},
   "outputs": [],
   "source": [
    "metrics_names = [\"accuracy\", \"f1\", \"precision\", \"hit rate\", \"recall\"]\n",
    "metrics_funs = [accuracy, F1, precision, hit_rate, recall]\n",
    "for (label, metric) in zip(metrics_names, metrics_funs):\n",
    "    dataset[label] = dataset.apply(lambda row : metric(row), axis=1)"
   ]
  },
  {
   "cell_type": "code",
   "execution_count": 23,
   "metadata": {},
   "outputs": [
    {
     "data": {
      "text/html": [
       "<div>\n",
       "<style scoped>\n",
       "    .dataframe tbody tr th:only-of-type {\n",
       "        vertical-align: middle;\n",
       "    }\n",
       "\n",
       "    .dataframe tbody tr th {\n",
       "        vertical-align: top;\n",
       "    }\n",
       "\n",
       "    .dataframe thead th {\n",
       "        text-align: right;\n",
       "    }\n",
       "</style>\n",
       "<table border=\"1\" class=\"dataframe\">\n",
       "  <thead>\n",
       "    <tr style=\"text-align: right;\">\n",
       "      <th></th>\n",
       "      <th>accuracy</th>\n",
       "      <th>f1</th>\n",
       "      <th>precision</th>\n",
       "      <th>hit rate</th>\n",
       "      <th>recall</th>\n",
       "    </tr>\n",
       "    <tr>\n",
       "      <th>level</th>\n",
       "      <th></th>\n",
       "      <th></th>\n",
       "      <th></th>\n",
       "      <th></th>\n",
       "      <th></th>\n",
       "    </tr>\n",
       "  </thead>\n",
       "  <tbody>\n",
       "    <tr>\n",
       "      <th>A</th>\n",
       "      <td>0.650294</td>\n",
       "      <td>0.000000</td>\n",
       "      <td>1.000000</td>\n",
       "      <td>0.000000</td>\n",
       "      <td>0.000000</td>\n",
       "    </tr>\n",
       "    <tr>\n",
       "      <th>B</th>\n",
       "      <td>0.879675</td>\n",
       "      <td>0.000000</td>\n",
       "      <td>1.000000</td>\n",
       "      <td>0.000000</td>\n",
       "      <td>0.000000</td>\n",
       "    </tr>\n",
       "    <tr>\n",
       "      <th>C</th>\n",
       "      <td>0.800472</td>\n",
       "      <td>0.000000</td>\n",
       "      <td>1.000000</td>\n",
       "      <td>0.000000</td>\n",
       "      <td>0.000000</td>\n",
       "    </tr>\n",
       "    <tr>\n",
       "      <th>D</th>\n",
       "      <td>0.882558</td>\n",
       "      <td>0.000000</td>\n",
       "      <td>1.000000</td>\n",
       "      <td>0.000000</td>\n",
       "      <td>0.000000</td>\n",
       "    </tr>\n",
       "    <tr>\n",
       "      <th>E</th>\n",
       "      <td>0.907867</td>\n",
       "      <td>0.334926</td>\n",
       "      <td>0.675900</td>\n",
       "      <td>0.324100</td>\n",
       "      <td>0.675900</td>\n",
       "    </tr>\n",
       "    <tr>\n",
       "      <th>F</th>\n",
       "      <td>0.700213</td>\n",
       "      <td>0.250248</td>\n",
       "      <td>0.429452</td>\n",
       "      <td>0.570548</td>\n",
       "      <td>0.429452</td>\n",
       "    </tr>\n",
       "  </tbody>\n",
       "</table>\n",
       "</div>"
      ],
      "text/plain": [
       "       accuracy        f1  precision  hit rate    recall\n",
       "level                                                   \n",
       "A      0.650294  0.000000   1.000000  0.000000  0.000000\n",
       "B      0.879675  0.000000   1.000000  0.000000  0.000000\n",
       "C      0.800472  0.000000   1.000000  0.000000  0.000000\n",
       "D      0.882558  0.000000   1.000000  0.000000  0.000000\n",
       "E      0.907867  0.334926   0.675900  0.324100  0.675900\n",
       "F      0.700213  0.250248   0.429452  0.570548  0.429452"
      ]
     },
     "execution_count": 23,
     "metadata": {},
     "output_type": "execute_result"
    }
   ],
   "source": [
    "dataset.groupby(by=\"level\").mean()"
   ]
  },
  {
   "cell_type": "code",
   "execution_count": null,
   "metadata": {},
   "outputs": [],
   "source": []
  }
 ],
 "metadata": {
  "interpreter": {
   "hash": "1f29468d89b6be2c06db2e79e448931d7b8a61ffe1e835ec9d5987ed2976e35c"
  },
  "kernelspec": {
   "display_name": "Python 3.6.9 64-bit ('licentiate-thesis-repo-cz9ujhZI': pipenv)",
   "name": "python3"
  },
  "language_info": {
   "codemirror_mode": {
    "name": "ipython",
    "version": 3
   },
   "file_extension": ".py",
   "mimetype": "text/x-python",
   "name": "python",
   "nbconvert_exporter": "python",
   "pygments_lexer": "ipython3",
   "version": "3.7.4"
  },
  "orig_nbformat": 4
 },
 "nbformat": 4,
 "nbformat_minor": 2
}
