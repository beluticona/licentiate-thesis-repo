{
 "cells": [
  {
   "cell_type": "markdown",
   "metadata": {},
   "source": [
    "# Metrics and Errors"
   ]
  },
  {
   "cell_type": "code",
   "execution_count": 1,
   "metadata": {},
   "outputs": [],
   "source": [
    "import numpy as np\n",
    "import pandas as pd\n",
    "import matplotlib as plt\n",
    "import seaborn as sns"
   ]
  },
  {
   "cell_type": "markdown",
   "metadata": {},
   "source": [
    "## Scikit-Learn Modified functions\n",
    "\n",
    "Functions adapted to received binary labeled matrix"
   ]
  },
  {
   "cell_type": "code",
   "execution_count": 2,
   "metadata": {},
   "outputs": [],
   "source": [
    "def customized_precision_recall_fscore_support(MCM, beta=1.0, labels=None,\n",
    "                                                pos_label=1, average=\"binary\",\n",
    "                                                warn_for=('precision', 'recall',\n",
    "                                                        'f-score'),\n",
    "                                                sample_weight=None,\n",
    "                                                zero_division=\"warn\"):\n",
    "    \"\"\"Compute precision, recall, F-measure and support for each class.\n",
    "\n",
    "    The precision is the ratio ``tp / (tp + fp)`` where ``tp`` is the number of\n",
    "    true positives and ``fp`` the number of false positives. The precision is\n",
    "    intuitively the ability of the classifier not to label as positive a sample\n",
    "    that is negative.\n",
    "\n",
    "    The recall is the ratio ``tp / (tp + fn)`` where ``tp`` is the number of\n",
    "    true positives and ``fn`` the number of false negatives. The recall is\n",
    "    intuitively the ability of the classifier to find all the positive samples.\n",
    "\n",
    "    The F-beta score can be interpreted as a weighted harmonic mean of\n",
    "    the precision and recall, where an F-beta score reaches its best\n",
    "    value at 1 and worst score at 0.\n",
    "\n",
    "    The F-beta score weights recall more than precision by a factor of\n",
    "    ``beta``. ``beta == 1.0`` means recall and precision are equally important.\n",
    "\n",
    "    The support is the number of occurrences of each class in ``y_true``.\n",
    "\n",
    "    If ``pos_label is None`` and in binary classification, this function\n",
    "    returns the average precision, recall and F-measure if ``average``\n",
    "    is one of ``'micro'``, ``'macro'``, ``'weighted'`` or ``'samples'``.\n",
    "\n",
    "    Read more in the :ref:`User Guide <precision_recall_f_measure_metrics>`.\n",
    "\n",
    "    Parameters\n",
    "    ----------\n",
    "    y_true : 1d array-like, or label indicator array / sparse matrix\n",
    "        Ground truth (correct) target values.\n",
    "\n",
    "    y_pred : 1d array-like, or label indicator array / sparse matrix\n",
    "        Estimated targets as returned by a classifier.\n",
    "\n",
    "    beta : float, default=1.0\n",
    "        The strength of recall versus precision in the F-score.\n",
    "\n",
    "    labels : array-like, default=None\n",
    "        The set of labels to include when ``average != 'binary'``, and their\n",
    "        order if ``average is None``. Labels present in the data can be\n",
    "        excluded, for example to calculate a multiclass average ignoring a\n",
    "        majority negative class, while labels not present in the data will\n",
    "        result in 0 components in a macro average. For multilabel targets,\n",
    "        labels are column indices. By default, all labels in ``y_true`` and\n",
    "        ``y_pred`` are used in sorted order.\n",
    "\n",
    "    pos_label : str or int, default=1\n",
    "        The class to report if ``average='binary'`` and the data is binary.\n",
    "        If the data are multiclass or multilabel, this will be ignored;\n",
    "        setting ``labels=[pos_label]`` and ``average != 'binary'`` will report\n",
    "        scores for that label only.\n",
    "\n",
    "    average : {'binary', 'micro', 'macro', 'samples','weighted'}, \\\n",
    "            default=None\n",
    "        If ``None``, the scores for each class are returned. Otherwise, this\n",
    "        determines the type of averaging performed on the data:\n",
    "\n",
    "        ``'binary'``:\n",
    "            Only report results for the class specified by ``pos_label``.\n",
    "            This is applicable only if targets (``y_{true,pred}``) are binary.\n",
    "        ``'micro'``:\n",
    "            Calculate metrics globally by counting the total true positives,\n",
    "            false negatives and false positives.\n",
    "        ``'macro'``:\n",
    "            Calculate metrics for each label, and find their unweighted\n",
    "            mean.  This does not take label imbalance into account.\n",
    "        ``'weighted'``:\n",
    "            Calculate metrics for each label, and find their average weighted\n",
    "            by support (the number of true instances for each label). This\n",
    "            alters 'macro' to account for label imbalance; it can result in an\n",
    "            F-score that is not between precision and recall.\n",
    "        ``'samples'``:\n",
    "            Calculate metrics for each instance, and find their average (only\n",
    "            meaningful for multilabel classification where this differs from\n",
    "            :func:`accuracy_score`).\n",
    "\n",
    "    warn_for : tuple or set, for internal use\n",
    "        This determines which warnings will be made in the case that this\n",
    "        function is being used to return only one of its metrics.\n",
    "\n",
    "    sample_weight : array-like of shape (n_samples,), default=None\n",
    "        Sample weights.\n",
    "\n",
    "    zero_division : \"warn\", 0 or 1, default=\"warn\"\n",
    "        Sets the value to return when there is a zero division:\n",
    "           - recall: when there are no positive labels\n",
    "           - precision: when there are no positive predictions\n",
    "           - f-score: both\n",
    "\n",
    "        If set to \"warn\", this acts as 0, but warnings are also raised.\n",
    "\n",
    "    Returns\n",
    "    -------\n",
    "    precision : float (if average is not None) or array of float, shape =\\\n",
    "        [n_unique_labels]\n",
    "\n",
    "    recall : float (if average is not None) or array of float, , shape =\\\n",
    "        [n_unique_labels]\n",
    "\n",
    "    fbeta_score : float (if average is not None) or array of float, shape =\\\n",
    "        [n_unique_labels]\n",
    "\n",
    "    support : None (if average is not None) or array of int, shape =\\\n",
    "        [n_unique_labels]\n",
    "        The number of occurrences of each label in ``y_true``.\n",
    "\n",
    "    Notes\n",
    "    -----\n",
    "    When ``true positive + false positive == 0``, precision is undefined.\n",
    "    When ``true positive + false negative == 0``, recall is undefined.\n",
    "    In such cases, by default the metric will be set to 0, as will f-score,\n",
    "    and ``UndefinedMetricWarning`` will be raised. This behavior can be\n",
    "    modified with ``zero_division``.\n",
    "\n",
    "    References\n",
    "    ----------\n",
    "    .. [1] `Wikipedia entry for the Precision and recall\n",
    "           <https://en.wikipedia.org/wiki/Precision_and_recall>`_.\n",
    "\n",
    "    .. [2] `Wikipedia entry for the F1-score\n",
    "           <https://en.wikipedia.org/wiki/F1_score>`_.\n",
    "\n",
    "    .. [3] `Discriminative Methods for Multi-labeled Classification Advances\n",
    "           in Knowledge Discovery and Data Mining (2004), pp. 22-30 by Shantanu\n",
    "           Godbole, Sunita Sarawagi\n",
    "           <http://www.godbole.net/shantanu/pubs/multilabelsvm-pakdd04.pdf>`_.\n",
    "\n",
    "    Examples\n",
    "    --------\n",
    "    >>> import numpy as np\n",
    "    >>> from sklearn.metrics import precision_recall_fscore_support\n",
    "    >>> y_true = np.array(['cat', 'dog', 'pig', 'cat', 'dog', 'pig'])\n",
    "    >>> y_pred = np.array(['cat', 'pig', 'dog', 'cat', 'cat', 'dog'])\n",
    "    >>> precision_recall_fscore_support(y_true, y_pred, average='macro')\n",
    "    (0.22..., 0.33..., 0.26..., None)\n",
    "    >>> precision_recall_fscore_support(y_true, y_pred, average='micro')\n",
    "    (0.33..., 0.33..., 0.33..., None)\n",
    "    >>> precision_recall_fscore_support(y_true, y_pred, average='weighted')\n",
    "    (0.22..., 0.33..., 0.26..., None)\n",
    "\n",
    "    It is possible to compute per-label precisions, recalls, F1-scores and\n",
    "    supports instead of averaging:\n",
    "\n",
    "    >>> precision_recall_fscore_support(y_true, y_pred, average=None,\n",
    "    ... labels=['pig', 'dog', 'cat'])\n",
    "    (array([0.        , 0.        , 0.66...]),\n",
    "     array([0., 0., 1.]), array([0. , 0. , 0.8]),\n",
    "     array([2, 2, 2]))\n",
    "    \"\"\"\n",
    "    tp_sum = MCM[:, 1, 1]\n",
    "    pred_sum = tp_sum + MCM[:, 0, 1]\n",
    "    true_sum = tp_sum + MCM[:, 1, 0]\n",
    "\n",
    "    if average == 'micro':\n",
    "        tp_sum = np.array([tp_sum.sum()])\n",
    "        pred_sum = np.array([pred_sum.sum()])\n",
    "        true_sum = np.array([true_sum.sum()])\n",
    "\n",
    "    # Finally, we have all our sufficient statistics. Divide! #\n",
    "    beta2 = beta ** 2\n",
    "\n",
    "    # Divide, and on zero-division, set scores and/or warn according to\n",
    "    # zero_division:\n",
    "    precision = _prf_divide(tp_sum, pred_sum, 'precision',\n",
    "                            'predicted', average, warn_for, zero_division)\n",
    "    recall = _prf_divide(tp_sum, true_sum, 'recall',\n",
    "                         'true', average, warn_for, zero_division)\n",
    "\n",
    "    # warn for f-score only if zero_division is warn, it is in warn_for\n",
    "    # and BOTH prec and rec are ill-defined\n",
    "    \"\"\" if zero_division == \"warn\" and (\"f-score\",) == warn_for:\n",
    "        if (pred_sum[true_sum == 0] == 0).any():\n",
    "            _warn_prf(\n",
    "                average, \"true nor predicted\", 'F-score is', len(true_sum)\n",
    "            ) \"\"\"\n",
    "\n",
    "    # if tp == 0 F will be 1 only if all predictions are zero, all labels are\n",
    "    # zero, and zero_division=1. In all other case, 0\n",
    "    if np.isposinf(beta):\n",
    "        f_score = recall\n",
    "    else:\n",
    "        denom = beta2 * precision + recall\n",
    "\n",
    "        denom[denom == 0.] = 1  # avoid division by 0\n",
    "        f_score = (1 + beta2) * precision * recall / denom\n",
    "\n",
    "    # Average the results\n",
    "    if average == 'weighted':\n",
    "        weights = true_sum\n",
    "        if weights.sum() == 0:\n",
    "            zero_division_value = np.float64(1.0)\n",
    "            if zero_division in [\"warn\", 0]:\n",
    "                zero_division_value = np.float64(0.0)\n",
    "            # precision is zero_division if there are no positive predictions\n",
    "            # recall is zero_division if there are no positive labels\n",
    "            # fscore is zero_division if all labels AND predictions are\n",
    "            # negative\n",
    "            if pred_sum.sum() == 0:\n",
    "                return (zero_division_value,\n",
    "                        zero_division_value,\n",
    "                        zero_division_value,\n",
    "                        None)\n",
    "            else:\n",
    "                return (np.float64(0.0),\n",
    "                        zero_division_value,\n",
    "                        np.float64(0.0),\n",
    "                        None)\n",
    "\n",
    "    elif average == 'samples':\n",
    "        weights = sample_weight\n",
    "    else:\n",
    "        weights = None\n",
    "\n",
    "    if average is not None:\n",
    "        assert average != 'binary' or len(precision) == 1\n",
    "        precision = np.average(precision, weights=weights)\n",
    "        recall = np.average(recall, weights=weights)\n",
    "        f_score = np.average(f_score, weights=weights)\n",
    "        true_sum = None  # return no support\n",
    "\n",
    "    return precision, recall, f_score, true_sum\n",
    "\n",
    "\n",
    "def _prf_divide(numerator, denominator, metric,\n",
    "                modifier, average, warn_for, zero_division=\"warn\"):\n",
    "    \"\"\"Performs division and handles divide-by-zero.\n",
    "\n",
    "    On zero-division, sets the corresponding result elements equal to\n",
    "    0 or 1 (according to ``zero_division``). Plus, if\n",
    "    ``zero_division != \"warn\"`` raises a warning.\n",
    "\n",
    "    The metric, modifier and average arguments are used only for determining\n",
    "    an appropriate warning.\n",
    "    \"\"\"\n",
    "    mask = denominator == 0.0\n",
    "    denominator = denominator.copy()\n",
    "    denominator[mask] = 1  # avoid infs/nans\n",
    "    result = numerator / denominator\n",
    "\n",
    "    if not np.any(mask):\n",
    "        return result\n",
    "\n",
    "    # if ``zero_division=1``, set those with denominator == 0 equal to 1\n",
    "    result[mask] = 0.0 if zero_division in [\"warn\", 0] else 1.0\n",
    "\n",
    "    # the user will be removing warnings if zero_division is set to something\n",
    "    # different than its default value. If we are computing only f-score\n",
    "    # the warning will be raised only if precision and recall are ill-defined\n",
    "    if zero_division != \"warn\" or metric not in warn_for:\n",
    "        return result\n",
    "\n",
    "    # build appropriate warning\n",
    "    # E.g. \"Precision and F-score are ill-defined and being set to 0.0 in\n",
    "    # labels with no predicted samples. Use ``zero_division`` parameter to\n",
    "    # control this behavior.\"\n",
    "\n",
    "    \"\"\"     if metric in warn_for and 'f-score' in warn_for:\n",
    "            msg_start = '{0} and F-score are'.format(metric.title())\n",
    "        elif metric in warn_for:\n",
    "            msg_start = '{0} is'.format(metric.title())\n",
    "        elif 'f-score' in warn_for:\n",
    "            msg_start = 'F-score is'\n",
    "        else:\n",
    "            return result\n",
    "\n",
    "        _warn_prf(av\n",
    "        erage, modifier, msg_start, len(result)) \"\"\"\n",
    "\n",
    "    return result\n",
    "\n",
    "def matthews_corrcoef(MC):\n",
    "    \"\"\"Compute the Matthews correlation coefficient (MCC).\n",
    "\n",
    "    The Matthews correlation coefficient is used in machine learning as a\n",
    "    measure of the quality of binary and multiclass classifications. It takes\n",
    "    into account true and false positives and negatives and is generally\n",
    "    regarded as a balanced measure which can be used even if the classes are of\n",
    "    very different sizes. The MCC is in essence a correlation coefficient value\n",
    "    between -1 and +1. A coefficient of +1 represents a perfect prediction, 0\n",
    "    an average random prediction and -1 an inverse prediction.  The statistic\n",
    "    is also known as the phi coefficient. [source: Wikipedia]\n",
    "\n",
    "    Binary and multiclass labels are supported.  Only in the binary case does\n",
    "    this relate to information about true and false positives and negatives.\n",
    "    See references below.\n",
    "\n",
    "    Read more in the :ref:`User Guide <matthews_corrcoef>`.\n",
    "\n",
    "    Parameters\n",
    "    ----------\n",
    "    y_true : array, shape = [n_samples]\n",
    "        Ground truth (correct) target values.\n",
    "\n",
    "    y_pred : array, shape = [n_samples]\n",
    "        Estimated targets as returned by a classifier.\n",
    "\n",
    "    sample_weight : array-like of shape (n_samples,), default=None\n",
    "        Sample weights.\n",
    "\n",
    "        .. versionadded:: 0.18\n",
    "\n",
    "    Returns\n",
    "    -------\n",
    "    mcc : float\n",
    "        The Matthews correlation coefficient (+1 represents a perfect\n",
    "        prediction, 0 an average random prediction and -1 and inverse\n",
    "        prediction).\n",
    "\n",
    "    References\n",
    "    ----------\n",
    "    .. [1] `Baldi, Brunak, Chauvin, Andersen and Nielsen, (2000). Assessing the\n",
    "       accuracy of prediction algorithms for classification: an overview\n",
    "       <https://doi.org/10.1093/bioinformatics/16.5.412>`_.\n",
    "\n",
    "    .. [2] `Wikipedia entry for the Matthews Correlation Coefficient\n",
    "       <https://en.wikipedia.org/wiki/Matthews_correlation_coefficient>`_.\n",
    "\n",
    "    .. [3] `Gorodkin, (2004). Comparing two K-category assignments by a\n",
    "        K-category correlation coefficient\n",
    "        <https://www.sciencedirect.com/science/article/pii/S1476927104000799>`_.\n",
    "\n",
    "    .. [4] `Jurman, Riccadonna, Furlanello, (2012). A Comparison of MCC and CEN\n",
    "        Error Measures in MultiClass Prediction\n",
    "        <https://journals.plos.org/plosone/article?id=10.1371/journal.pone.0041882>`_.\n",
    "\n",
    "    Examples\n",
    "    --------\n",
    "    >>> from sklearn.metrics import matthews_corrcoef\n",
    "    >>> y_true = [+1, +1, +1, -1]\n",
    "    >>> y_pred = [+1, -1, +1, +1]\n",
    "    >>> matthews_corrcoef(y_true, y_pred)\n",
    "    -0.33...\n",
    "    \"\"\"\n",
    "    t_sum = MC.sum(axis=1, dtype=np.float64)\n",
    "    p_sum = MC.sum(axis=0, dtype=np.float64)\n",
    "    n_correct = np.trace(MC, dtype=np.float64)\n",
    "    n_samples = p_sum.sum()\n",
    "    cov_ytyp = n_correct * n_samples - np.dot(t_sum, p_sum)\n",
    "    cov_ypyp = n_samples ** 2 - np.dot(p_sum, p_sum)\n",
    "    cov_ytyt = n_samples ** 2 - np.dot(t_sum, t_sum)\n",
    "    mcc = cov_ytyp / np.sqrt(cov_ytyt * cov_ypyp)\n",
    "\n",
    "    if np.isnan(mcc):\n",
    "        return 0.\n",
    "    else:\n",
    "        return mcc"
   ]
  },
  {
   "cell_type": "code",
   "execution_count": 38,
   "metadata": {},
   "outputs": [],
   "source": [
    "from sklearn.metrics import matthews_corrcoef, make_scorer\n",
    "\n",
    "Matthew = make_scorer(matthews_corrcoef)\n",
    "\n",
    "class Estimator():\n",
    "    def __init__(sefl):\n",
    "        pass\n",
    "    \n",
    "    def predict(self, X):\n",
    "        return X \n",
    "\n",
    "def from_row_get_metric(row, metric, m_average, m_beta=1):\n",
    "    tn = row[\"tn\"]\n",
    "    fp = row[\"fp\"]\n",
    "    fn = row[\"fn\"]\n",
    "    tp = row[\"tp\"]\n",
    "    if metric.startswith(\"matthew\"):\n",
    "        y_true_tuples = (np.ones(tp), np.zeros(tn), np.ones(fn), np.zeros(fp))\n",
    "        y_pred_tuples = (np.ones(tp), np.zeros(tn), np.zeros(fn), np.ones(fp))\n",
    "        y_pred = np.concatenate(y_pred_tuples, axis=None)\n",
    "        y_true = np.concatenate(y_true_tuples, axis=None)\n",
    "        if metric.endswith(\"_score\"):\n",
    "            X = y_pred\n",
    "            estimator = Estimator()\n",
    "            return Matthew(estimator, X, y_true)\n",
    "        else: return matthews_corrcoef(y_true, y_pred)\n",
    "    else:   \n",
    "\n",
    "        MCM = np.array([[tp,tn], [fn,fp], [fp,fn], [tn,tp]]).T.reshape(-1, 2, 2)\n",
    "        precision, recall, f_score, _ = customized_precision_recall_fscore_support(MCM,\n",
    "                                        beta=m_beta, labels=None, pos_label=None, \n",
    "                                        average=m_average,\n",
    "                                        warn_for=('precision', 'recall',\n",
    "                                        'f-score'),\n",
    "                                        sample_weight=None,\n",
    "                                        zero_division=\"warn\")\n",
    "        if metric == \"precision\": return precision\n",
    "        elif metric == \"recall\": return recall\n",
    "        else: return f_score"
   ]
  },
  {
   "cell_type": "code",
   "execution_count": 24,
   "metadata": {},
   "outputs": [
    {
     "data": {
      "text/plain": [
       "sklearn.metrics._scorer._ProbaScorer"
      ]
     },
     "execution_count": 24,
     "metadata": {},
     "output_type": "execute_result"
    }
   ],
   "source": [
    "from sklearn.metrics import _scorer\n",
    "\n",
    "_scorer._ProbaScorer()\n",
    "#metrics.scorer._PredictScorer"
   ]
  },
  {
   "cell_type": "markdown",
   "metadata": {},
   "source": [
    "Use of functions"
   ]
  },
  {
   "cell_type": "code",
   "execution_count": 39,
   "metadata": {},
   "outputs": [
    {
     "data": {
      "text/plain": [
       "array([[[1, 3],\n",
       "        [4, 6]],\n",
       "\n",
       "       [[1, 3],\n",
       "        [5, 7]]])"
      ]
     },
     "execution_count": 39,
     "metadata": {},
     "output_type": "execute_result"
    }
   ],
   "source": [
    "\n",
    "\n",
    "MCM = np.array([80, 0, 15, 5]).T.reshape(-1, 2, 2)\n",
    "\n",
    "#MCM = np.array([tn, fp, fn, tp]).T.reshape(-1, 2, 2)\n",
    "#MCM = np.array([[tp,tn], [fn,fp], [fp,fn], [tn,tp]]).T.reshape(-1, 2, 2)\n",
    "\n",
    "\n",
    "\n",
    "MCM = np.array([134, 14, 9, 4]).T.reshape(-1, 2, 2)\n",
    "\n",
    "MCM = np.array([[5,80], [15,0], [0,15], [80,5]]).T.reshape(-1, 2, 2)\n",
    "MCM = np.array([[4,134], [9,14], [14,9], [134,4]]).T.reshape(-1, 2, 2)\n",
    "\n",
    "\n",
    "#MCM =  np.array([tn, fp, fn, tp]).T.reshape(-1, 2, 2)\n",
    "MCM\n",
    "cm = [\"tn\", \"fp\", \"fn\", \"tp\"]\n",
    "MCM = np.array([[1,1], [3,3], [4,5], [6,7]]).T.reshape(-1, 2, 2) \n",
    "MCM"
   ]
  },
  {
   "cell_type": "code",
   "execution_count": 40,
   "metadata": {},
   "outputs": [],
   "source": [
    "C = np.array([80, 0, 15, 5]).T.reshape(2, 2)\n",
    "C\n",
    "\n",
    "y_true = [+1, +1, +1, -1]\n",
    "y_pred = [+1, -1, +1, +1]\n",
    "\n",
    "C = np.array([2, 2, \n",
    "            2, 3]).T.reshape(2, 2)\n"
   ]
  },
  {
   "cell_type": "markdown",
   "metadata": {},
   "source": []
  },
  {
   "cell_type": "markdown",
   "metadata": {},
   "source": [
    "# Metrics Exploration for Imbalanced Dataset"
   ]
  },
  {
   "cell_type": "markdown",
   "metadata": {},
   "source": [
    "## General Idea"
   ]
  },
  {
   "cell_type": "markdown",
   "metadata": {},
   "source": [
    "\n",
    "Create different types of confussion matrix based on interesting cases of studies.\n",
    "\n",
    "Confussion Matrix: <br> <style type=\"text/css\"> ul { list-style-type: none; } </style>\n",
    "- [[ TN FP ] \n",
    "- [ FN TP ]]\n",
    "\n",
    "Cases of studies:\n",
    "- Poor no crystallization -- A0\n",
    "    - [[60 40 ]    \n",
    "    - [ 0  0 ]]\n",
    "- (D) Medium - a try no crystallization A1\n",
    "    - [[87 11 ]    \n",
    "    - [ 0  0 ]]\n",
    "- Perfect No crystallization: A2\n",
    "    - [[100 0 ]    \n",
    "    - [  0 0 ]]\n",
    "- (B) Constant No Crystal - Low Target's Proportion: B0A\n",
    "    - [[88 0 ]    \n",
    "    - [ 12 0 ]]\n",
    "- (C) A good try - Low Target's Proportion: B0B\n",
    "    - [[80 8 ]    \n",
    "    - [ 12  0 ]]\n",
    "- Medium Positive Crystal - Low Target's Proportion B1\n",
    "    - [[70 8 ]    \n",
    "    - [ 8 4 ]]\n",
    "- (E) Good Positive Crystal - Low Target's Proportion B2\n",
    "    - [[70 4 ]    \n",
    "    - [ 4 8 ]]\n",
    "- (A) Lost Everything - Medium Target's Proportion: C0A\n",
    "    - [[65 0 ]    \n",
    "    - [ 35  0 ]]\n",
    "- A try - Medium Target's Proportion: C0B\n",
    "    - [[50 15 ]    \n",
    "    - [ 35  0 ]]\n",
    "- Medium Positive Crystal - Medium Target's Proportion C1\n",
    "    - [[55 10 ]    \n",
    "    - [ 30 5 ]]\n",
    "- (F) Good Positive Crystal - Medium Target's Proportionc C2\n",
    "    - [[55 10 ]    \n",
    "    - [ 20 15 ]]"
   ]
  },
  {
   "cell_type": "code",
   "execution_count": 41,
   "metadata": {},
   "outputs": [],
   "source": [
    "class ConfusionMatrixType:\n",
    "    def __init__(self, tn_fp_fn_tp_means, tn_fp_fn_tp_sigmas, level):\n",
    "        self.mus = tn_fp_fn_tp_means\n",
    "        self.sigmas = tn_fp_fn_tp_sigmas\n",
    "        self.level = level\n",
    "    \n",
    "    def to_df(self, n_samples):\n",
    "        cols_name = [\"tn\", \"fp\", \"fn\", \"tp\"]\n",
    "        df = pd.DataFrame(columns=cols_name)\n",
    "        for (mu, sigma, col_name) in zip(self.mus, self.sigmas, cols_name):\n",
    "            df[col_name] = np.random.normal(mu, sigma, n_samples*2)\n",
    "        df = df.round().astype(int)\n",
    "        df = df[(df[df.columns] >= 0).all(axis=1)].head(n_samples)\n",
    "        df[\"level\"] = self.level\n",
    "        return df.reset_index(drop=True)"
   ]
  },
  {
   "cell_type": "markdown",
   "metadata": {},
   "source": [
    "## Experiments"
   ]
  },
  {
   "cell_type": "markdown",
   "metadata": {},
   "source": [
    "### Error variability by size:\n",
    "\n",
    "1. Definir una serie de cantidad de datos y visualizar cómo cambia con"
   ]
  },
  {
   "cell_type": "code",
   "execution_count": 42,
   "metadata": {},
   "outputs": [],
   "source": [
    "def make_labels(labels_count_map):\n",
    "    labels = []\n",
    "    for label_name, n_cases in labels_count_map.items():\n",
    "        labels += [label_name + (\"_{}\".format(n)) for n in range(n_cases)]\n",
    "    return labels\n"
   ]
  },
  {
   "cell_type": "code",
   "execution_count": 43,
   "metadata": {},
   "outputs": [],
   "source": [
    "def set_experiment(confussion_matrix_models, n_matrix_case=50, n_samples=15, error_prop=0.25):\n",
    "    df = pd.DataFrame(columns=[\"tn\", \"fp\", \"fn\", \"tp\", \"level\"])\n",
    "\n",
    "    confussion_matrix_models = np.array(confussion_matrix_models) * n_matrix_case\n",
    "    confussion_matrix_sigmas =  confussion_matrix_models * error_prop\n",
    "\n",
    "    for (cm, sigma_cm, label) in zip(confussion_matrix_models, confussion_matrix_sigmas, labels):\n",
    "        case_of_study_data = ConfusionMatrixType(cm, sigma_cm, label).to_df(n_samples=n_samples)\n",
    "        df = pd.concat([df,case_of_study_data], axis=0)\n",
    "    return df\n",
    "\n",
    "def add_metric_to(df, metric, average):\n",
    "    name_metric = metric + \"_\" + average\n",
    "    df[name_metric] = df.apply(lambda row: from_row_get_metric(row, metric=metric, m_average=average), axis=1)\n",
    "    "
   ]
  },
  {
   "cell_type": "markdown",
   "metadata": {},
   "source": [
    "### Extrapolación \n",
    "\n",
    "Cada matrix de confusión representa la performance del modelo para un conjunto de experimentos llevados \n",
    "en el laboratorio para una amina en particular.\n",
    "\n",
    "Nosotres estamos confiando los resultados del trabajo en un subconjunto de datos para cada amina (~200 datos) \n",
    "\n",
    "Queremos saber si podemos extrapolar:\n",
    "    - en qué condiciones se puede entrenar para que extrapole\n",
    "    - si para algunas funciona mejor, por qué \n",
    "\n",
    "Supongamos un espacio de entrenamiento finito discretizable acotado:\n",
    "    - por conocimiento del problema (ej. concentración ácido < 5 M, temperatura < 130°)\n",
    "    - por metodología/intrumentación experimental\n",
    "\n",
    "Luego si tuviésemos el total de los datos posibles y corríamos el modelo, podríamos armar una matriz \n",
    "que indique fielmente cómo es la performance del modelo con respecto a esa amina. \n",
    "Sea esta la **matriz semilla**. \n",
    "\n",
    "Luego, al trabajar con un subconjunto de ese espacio total, la matriz experimental será un tanto \"similar\" \n",
    "a la matriz semilla (lo cual modelaremos mediante np.random).\n",
    "\n",
    "De modo que tendremos muchas posibles mediciones de performance del modelo. \n",
    "Alguna de ellas se corresponde con nuestros datos...solo una. \n",
    "¿Qué tanto podemos confiar en ella?\n",
    "\n",
    "OBS: Con muchos posible subconjuntos de datos del real, podemos tener la misma matriz. \n",
    "Cada matriz es una clase de equivalencia de los subconjuntos (x, y_true, y_pred).\n",
    "\n",
    "\n",
    "Supongamos que tenemos muchos datos hechos en el laboratorio para cada amina.\n",
    "En el caso ideal una cantidad significativa de experimentos nos habla de qué tan bien predice el modelo \n",
    "sobre datos de una amina en particular.\n",
    "Nosotres solo tendremos acceso a una cantidad n_amine_sample, es decir, nos quedamos con \n",
    "una perspectiva sesgada de cómo anda el modelo.\n",
    "    - Por ahí justo para esa cantidad de datos anda bien\n",
    "    - Por ahí justo para esa cantidad y datos experimentales anda mal\n",
    "    - Etc\n",
    "\n",
    "Objetivo Principla: \n",
    "    Queremos identificar para qué aminas el modelo predice adecuadamente.\n",
    "\n",
    "Para ello debemos:\n",
    "    - Saber qué tanto se parece esa __sample__ al comportamiento esperado.\n",
    "Queremos no equivocarnos al decir que el modelo no aprendió bien para una amina. Es decir, \n",
    "no queremos equivocarnos entre tipos dado que luego\n",
    "\n",
    "Para ello: \n",
    "    1. Definimos una performance real del modelo para cada amina tipo (aka matrices semilla)\n",
    "    2. Generamos matrices \n",
    "Diremos que el comportamiento esperado es  \n",
    "\n"
   ]
  },
  {
   "cell_type": "code",
   "execution_count": 44,
   "metadata": {},
   "outputs": [],
   "source": [
    "labels_count = {\n",
    "        \"NO_CRYSTAL\": 2,\n",
    "        \"FEW_CRYSTAL\": 3,\n",
    "        \"SOME_CRYSTAL\": 3\n",
    "}\n",
    "labels = make_labels(labels_count)"
   ]
  },
  {
   "cell_type": "code",
   "execution_count": 45,
   "metadata": {},
   "outputs": [
    {
     "data": {
      "text/plain": [
       "['NO_CRYSTAL_0',\n",
       " 'NO_CRYSTAL_1',\n",
       " 'FEW_CRYSTAL_0',\n",
       " 'FEW_CRYSTAL_1',\n",
       " 'FEW_CRYSTAL_2',\n",
       " 'SOME_CRYSTAL_0',\n",
       " 'SOME_CRYSTAL_1',\n",
       " 'SOME_CRYSTAL_2']"
      ]
     },
     "execution_count": 45,
     "metadata": {},
     "output_type": "execute_result"
    }
   ],
   "source": [
    "labels"
   ]
  },
  {
   "cell_type": "code",
   "execution_count": 46,
   "metadata": {},
   "outputs": [],
   "source": [
    "seed_confusion_matrix = [\n",
    "                        [60, 0, 40, 0], # dice que sí hay cristal pero no hay\n",
    "                       # [87, 0, 11, 0], \n",
    "                        [100, 0, 0, 0], # dice que no hay cuando no hay\n",
    "                       # [88, 0, 12, 0],\n",
    "                        [80, 8, 12, 0],\n",
    "                        [70, 8, 4, 0],\n",
    "                        [70, 4, 4, 8],\n",
    "                        [60, 12, 13,15],\n",
    "                        [50, 15, 35,0],\n",
    "                        [50, 15, 35,0],\n",
    "                        [55, 10, 30,5],\n",
    "                        [55, 10, 20,15]\n",
    "                        ]"
   ]
  },
  {
   "cell_type": "code",
   "execution_count": 47,
   "metadata": {},
   "outputs": [],
   "source": [
    "n_samples = [10,20,40,60]\n",
    "datasets = [set_experiment(seed_confusion_matrix, n_matrix_case=50, n_samples=n) for n in n_samples]\n"
   ]
  },
  {
   "cell_type": "code",
   "execution_count": 48,
   "metadata": {},
   "outputs": [
    {
     "name": "stderr",
     "output_type": "stream",
     "text": [
      "/home/belu/.local/share/virtualenvs/licentiate-thesis-repo-cz9ujhZI/lib/python3.6/site-packages/sklearn/metrics/_classification.py:873: RuntimeWarning: invalid value encountered in double_scalars\n",
      "  mcc = cov_ytyp / np.sqrt(cov_ytyt * cov_ypyp)\n",
      "/home/belu/.local/share/virtualenvs/licentiate-thesis-repo-cz9ujhZI/lib/python3.6/site-packages/sklearn/metrics/_classification.py:873: RuntimeWarning: invalid value encountered in double_scalars\n",
      "  mcc = cov_ytyp / np.sqrt(cov_ytyt * cov_ypyp)\n",
      "/home/belu/.local/share/virtualenvs/licentiate-thesis-repo-cz9ujhZI/lib/python3.6/site-packages/sklearn/metrics/_classification.py:873: RuntimeWarning: invalid value encountered in double_scalars\n",
      "  mcc = cov_ytyp / np.sqrt(cov_ytyt * cov_ypyp)\n",
      "/home/belu/.local/share/virtualenvs/licentiate-thesis-repo-cz9ujhZI/lib/python3.6/site-packages/sklearn/metrics/_classification.py:873: RuntimeWarning: invalid value encountered in double_scalars\n",
      "  mcc = cov_ytyp / np.sqrt(cov_ytyt * cov_ypyp)\n",
      "/home/belu/.local/share/virtualenvs/licentiate-thesis-repo-cz9ujhZI/lib/python3.6/site-packages/sklearn/metrics/_classification.py:873: RuntimeWarning: invalid value encountered in double_scalars\n",
      "  mcc = cov_ytyp / np.sqrt(cov_ytyt * cov_ypyp)\n",
      "/home/belu/.local/share/virtualenvs/licentiate-thesis-repo-cz9ujhZI/lib/python3.6/site-packages/sklearn/metrics/_classification.py:873: RuntimeWarning: invalid value encountered in double_scalars\n",
      "  mcc = cov_ytyp / np.sqrt(cov_ytyt * cov_ypyp)\n",
      "/home/belu/.local/share/virtualenvs/licentiate-thesis-repo-cz9ujhZI/lib/python3.6/site-packages/sklearn/metrics/_classification.py:873: RuntimeWarning: invalid value encountered in double_scalars\n",
      "  mcc = cov_ytyp / np.sqrt(cov_ytyt * cov_ypyp)\n",
      "/home/belu/.local/share/virtualenvs/licentiate-thesis-repo-cz9ujhZI/lib/python3.6/site-packages/sklearn/metrics/_classification.py:873: RuntimeWarning: invalid value encountered in double_scalars\n",
      "  mcc = cov_ytyp / np.sqrt(cov_ytyt * cov_ypyp)\n",
      "/home/belu/.local/share/virtualenvs/licentiate-thesis-repo-cz9ujhZI/lib/python3.6/site-packages/sklearn/metrics/_classification.py:873: RuntimeWarning: invalid value encountered in double_scalars\n",
      "  mcc = cov_ytyp / np.sqrt(cov_ytyt * cov_ypyp)\n",
      "/home/belu/.local/share/virtualenvs/licentiate-thesis-repo-cz9ujhZI/lib/python3.6/site-packages/sklearn/metrics/_classification.py:873: RuntimeWarning: invalid value encountered in double_scalars\n",
      "  mcc = cov_ytyp / np.sqrt(cov_ytyt * cov_ypyp)\n",
      "/home/belu/.local/share/virtualenvs/licentiate-thesis-repo-cz9ujhZI/lib/python3.6/site-packages/sklearn/metrics/_classification.py:873: RuntimeWarning: invalid value encountered in double_scalars\n",
      "  mcc = cov_ytyp / np.sqrt(cov_ytyt * cov_ypyp)\n",
      "/home/belu/.local/share/virtualenvs/licentiate-thesis-repo-cz9ujhZI/lib/python3.6/site-packages/sklearn/metrics/_classification.py:873: RuntimeWarning: invalid value encountered in double_scalars\n",
      "  mcc = cov_ytyp / np.sqrt(cov_ytyt * cov_ypyp)\n",
      "/home/belu/.local/share/virtualenvs/licentiate-thesis-repo-cz9ujhZI/lib/python3.6/site-packages/sklearn/metrics/_classification.py:873: RuntimeWarning: invalid value encountered in double_scalars\n",
      "  mcc = cov_ytyp / np.sqrt(cov_ytyt * cov_ypyp)\n",
      "/home/belu/.local/share/virtualenvs/licentiate-thesis-repo-cz9ujhZI/lib/python3.6/site-packages/sklearn/metrics/_classification.py:873: RuntimeWarning: invalid value encountered in double_scalars\n",
      "  mcc = cov_ytyp / np.sqrt(cov_ytyt * cov_ypyp)\n",
      "/home/belu/.local/share/virtualenvs/licentiate-thesis-repo-cz9ujhZI/lib/python3.6/site-packages/sklearn/metrics/_classification.py:873: RuntimeWarning: invalid value encountered in double_scalars\n",
      "  mcc = cov_ytyp / np.sqrt(cov_ytyt * cov_ypyp)\n",
      "/home/belu/.local/share/virtualenvs/licentiate-thesis-repo-cz9ujhZI/lib/python3.6/site-packages/sklearn/metrics/_classification.py:873: RuntimeWarning: invalid value encountered in double_scalars\n",
      "  mcc = cov_ytyp / np.sqrt(cov_ytyt * cov_ypyp)\n",
      "/home/belu/.local/share/virtualenvs/licentiate-thesis-repo-cz9ujhZI/lib/python3.6/site-packages/sklearn/metrics/_classification.py:873: RuntimeWarning: invalid value encountered in double_scalars\n",
      "  mcc = cov_ytyp / np.sqrt(cov_ytyt * cov_ypyp)\n",
      "/home/belu/.local/share/virtualenvs/licentiate-thesis-repo-cz9ujhZI/lib/python3.6/site-packages/sklearn/metrics/_classification.py:873: RuntimeWarning: invalid value encountered in double_scalars\n",
      "  mcc = cov_ytyp / np.sqrt(cov_ytyt * cov_ypyp)\n",
      "/home/belu/.local/share/virtualenvs/licentiate-thesis-repo-cz9ujhZI/lib/python3.6/site-packages/sklearn/metrics/_classification.py:873: RuntimeWarning: invalid value encountered in double_scalars\n",
      "  mcc = cov_ytyp / np.sqrt(cov_ytyt * cov_ypyp)\n",
      "/home/belu/.local/share/virtualenvs/licentiate-thesis-repo-cz9ujhZI/lib/python3.6/site-packages/sklearn/metrics/_classification.py:873: RuntimeWarning: invalid value encountered in double_scalars\n",
      "  mcc = cov_ytyp / np.sqrt(cov_ytyt * cov_ypyp)\n",
      "/home/belu/.local/share/virtualenvs/licentiate-thesis-repo-cz9ujhZI/lib/python3.6/site-packages/sklearn/metrics/_classification.py:873: RuntimeWarning: invalid value encountered in double_scalars\n",
      "  mcc = cov_ytyp / np.sqrt(cov_ytyt * cov_ypyp)\n",
      "/home/belu/.local/share/virtualenvs/licentiate-thesis-repo-cz9ujhZI/lib/python3.6/site-packages/sklearn/metrics/_classification.py:873: RuntimeWarning: invalid value encountered in double_scalars\n",
      "  mcc = cov_ytyp / np.sqrt(cov_ytyt * cov_ypyp)\n",
      "/home/belu/.local/share/virtualenvs/licentiate-thesis-repo-cz9ujhZI/lib/python3.6/site-packages/sklearn/metrics/_classification.py:873: RuntimeWarning: invalid value encountered in double_scalars\n",
      "  mcc = cov_ytyp / np.sqrt(cov_ytyt * cov_ypyp)\n",
      "/home/belu/.local/share/virtualenvs/licentiate-thesis-repo-cz9ujhZI/lib/python3.6/site-packages/sklearn/metrics/_classification.py:873: RuntimeWarning: invalid value encountered in double_scalars\n",
      "  mcc = cov_ytyp / np.sqrt(cov_ytyt * cov_ypyp)\n",
      "/home/belu/.local/share/virtualenvs/licentiate-thesis-repo-cz9ujhZI/lib/python3.6/site-packages/sklearn/metrics/_classification.py:873: RuntimeWarning: invalid value encountered in double_scalars\n",
      "  mcc = cov_ytyp / np.sqrt(cov_ytyt * cov_ypyp)\n",
      "/home/belu/.local/share/virtualenvs/licentiate-thesis-repo-cz9ujhZI/lib/python3.6/site-packages/sklearn/metrics/_classification.py:873: RuntimeWarning: invalid value encountered in double_scalars\n",
      "  mcc = cov_ytyp / np.sqrt(cov_ytyt * cov_ypyp)\n",
      "/home/belu/.local/share/virtualenvs/licentiate-thesis-repo-cz9ujhZI/lib/python3.6/site-packages/sklearn/metrics/_classification.py:873: RuntimeWarning: invalid value encountered in double_scalars\n",
      "  mcc = cov_ytyp / np.sqrt(cov_ytyt * cov_ypyp)\n",
      "/home/belu/.local/share/virtualenvs/licentiate-thesis-repo-cz9ujhZI/lib/python3.6/site-packages/sklearn/metrics/_classification.py:873: RuntimeWarning: invalid value encountered in double_scalars\n",
      "  mcc = cov_ytyp / np.sqrt(cov_ytyt * cov_ypyp)\n",
      "/home/belu/.local/share/virtualenvs/licentiate-thesis-repo-cz9ujhZI/lib/python3.6/site-packages/sklearn/metrics/_classification.py:873: RuntimeWarning: invalid value encountered in double_scalars\n",
      "  mcc = cov_ytyp / np.sqrt(cov_ytyt * cov_ypyp)\n",
      "/home/belu/.local/share/virtualenvs/licentiate-thesis-repo-cz9ujhZI/lib/python3.6/site-packages/sklearn/metrics/_classification.py:873: RuntimeWarning: invalid value encountered in double_scalars\n",
      "  mcc = cov_ytyp / np.sqrt(cov_ytyt * cov_ypyp)\n",
      "/home/belu/.local/share/virtualenvs/licentiate-thesis-repo-cz9ujhZI/lib/python3.6/site-packages/sklearn/metrics/_classification.py:873: RuntimeWarning: invalid value encountered in double_scalars\n",
      "  mcc = cov_ytyp / np.sqrt(cov_ytyt * cov_ypyp)\n",
      "/home/belu/.local/share/virtualenvs/licentiate-thesis-repo-cz9ujhZI/lib/python3.6/site-packages/sklearn/metrics/_classification.py:873: RuntimeWarning: invalid value encountered in double_scalars\n",
      "  mcc = cov_ytyp / np.sqrt(cov_ytyt * cov_ypyp)\n",
      "/home/belu/.local/share/virtualenvs/licentiate-thesis-repo-cz9ujhZI/lib/python3.6/site-packages/sklearn/metrics/_classification.py:873: RuntimeWarning: invalid value encountered in double_scalars\n",
      "  mcc = cov_ytyp / np.sqrt(cov_ytyt * cov_ypyp)\n",
      "/home/belu/.local/share/virtualenvs/licentiate-thesis-repo-cz9ujhZI/lib/python3.6/site-packages/sklearn/metrics/_classification.py:873: RuntimeWarning: invalid value encountered in double_scalars\n",
      "  mcc = cov_ytyp / np.sqrt(cov_ytyt * cov_ypyp)\n",
      "/home/belu/.local/share/virtualenvs/licentiate-thesis-repo-cz9ujhZI/lib/python3.6/site-packages/sklearn/metrics/_classification.py:873: RuntimeWarning: invalid value encountered in double_scalars\n",
      "  mcc = cov_ytyp / np.sqrt(cov_ytyt * cov_ypyp)\n",
      "/home/belu/.local/share/virtualenvs/licentiate-thesis-repo-cz9ujhZI/lib/python3.6/site-packages/sklearn/metrics/_classification.py:873: RuntimeWarning: invalid value encountered in double_scalars\n",
      "  mcc = cov_ytyp / np.sqrt(cov_ytyt * cov_ypyp)\n",
      "/home/belu/.local/share/virtualenvs/licentiate-thesis-repo-cz9ujhZI/lib/python3.6/site-packages/sklearn/metrics/_classification.py:873: RuntimeWarning: invalid value encountered in double_scalars\n",
      "  mcc = cov_ytyp / np.sqrt(cov_ytyt * cov_ypyp)\n",
      "/home/belu/.local/share/virtualenvs/licentiate-thesis-repo-cz9ujhZI/lib/python3.6/site-packages/sklearn/metrics/_classification.py:873: RuntimeWarning: invalid value encountered in double_scalars\n",
      "  mcc = cov_ytyp / np.sqrt(cov_ytyt * cov_ypyp)\n",
      "/home/belu/.local/share/virtualenvs/licentiate-thesis-repo-cz9ujhZI/lib/python3.6/site-packages/sklearn/metrics/_classification.py:873: RuntimeWarning: invalid value encountered in double_scalars\n",
      "  mcc = cov_ytyp / np.sqrt(cov_ytyt * cov_ypyp)\n",
      "/home/belu/.local/share/virtualenvs/licentiate-thesis-repo-cz9ujhZI/lib/python3.6/site-packages/sklearn/metrics/_classification.py:873: RuntimeWarning: invalid value encountered in double_scalars\n",
      "  mcc = cov_ytyp / np.sqrt(cov_ytyt * cov_ypyp)\n",
      "/home/belu/.local/share/virtualenvs/licentiate-thesis-repo-cz9ujhZI/lib/python3.6/site-packages/sklearn/metrics/_classification.py:873: RuntimeWarning: invalid value encountered in double_scalars\n",
      "  mcc = cov_ytyp / np.sqrt(cov_ytyt * cov_ypyp)\n",
      "/home/belu/.local/share/virtualenvs/licentiate-thesis-repo-cz9ujhZI/lib/python3.6/site-packages/sklearn/metrics/_classification.py:873: RuntimeWarning: invalid value encountered in double_scalars\n",
      "  mcc = cov_ytyp / np.sqrt(cov_ytyt * cov_ypyp)\n",
      "/home/belu/.local/share/virtualenvs/licentiate-thesis-repo-cz9ujhZI/lib/python3.6/site-packages/sklearn/metrics/_classification.py:873: RuntimeWarning: invalid value encountered in double_scalars\n",
      "  mcc = cov_ytyp / np.sqrt(cov_ytyt * cov_ypyp)\n",
      "/home/belu/.local/share/virtualenvs/licentiate-thesis-repo-cz9ujhZI/lib/python3.6/site-packages/sklearn/metrics/_classification.py:873: RuntimeWarning: invalid value encountered in double_scalars\n",
      "  mcc = cov_ytyp / np.sqrt(cov_ytyt * cov_ypyp)\n",
      "/home/belu/.local/share/virtualenvs/licentiate-thesis-repo-cz9ujhZI/lib/python3.6/site-packages/sklearn/metrics/_classification.py:873: RuntimeWarning: invalid value encountered in double_scalars\n",
      "  mcc = cov_ytyp / np.sqrt(cov_ytyt * cov_ypyp)\n",
      "/home/belu/.local/share/virtualenvs/licentiate-thesis-repo-cz9ujhZI/lib/python3.6/site-packages/sklearn/metrics/_classification.py:873: RuntimeWarning: invalid value encountered in double_scalars\n",
      "  mcc = cov_ytyp / np.sqrt(cov_ytyt * cov_ypyp)\n",
      "/home/belu/.local/share/virtualenvs/licentiate-thesis-repo-cz9ujhZI/lib/python3.6/site-packages/sklearn/metrics/_classification.py:873: RuntimeWarning: invalid value encountered in double_scalars\n",
      "  mcc = cov_ytyp / np.sqrt(cov_ytyt * cov_ypyp)\n",
      "/home/belu/.local/share/virtualenvs/licentiate-thesis-repo-cz9ujhZI/lib/python3.6/site-packages/sklearn/metrics/_classification.py:873: RuntimeWarning: invalid value encountered in double_scalars\n",
      "  mcc = cov_ytyp / np.sqrt(cov_ytyt * cov_ypyp)\n",
      "/home/belu/.local/share/virtualenvs/licentiate-thesis-repo-cz9ujhZI/lib/python3.6/site-packages/sklearn/metrics/_classification.py:873: RuntimeWarning: invalid value encountered in double_scalars\n",
      "  mcc = cov_ytyp / np.sqrt(cov_ytyt * cov_ypyp)\n",
      "/home/belu/.local/share/virtualenvs/licentiate-thesis-repo-cz9ujhZI/lib/python3.6/site-packages/sklearn/metrics/_classification.py:873: RuntimeWarning: invalid value encountered in double_scalars\n",
      "  mcc = cov_ytyp / np.sqrt(cov_ytyt * cov_ypyp)\n",
      "/home/belu/.local/share/virtualenvs/licentiate-thesis-repo-cz9ujhZI/lib/python3.6/site-packages/sklearn/metrics/_classification.py:873: RuntimeWarning: invalid value encountered in double_scalars\n",
      "  mcc = cov_ytyp / np.sqrt(cov_ytyt * cov_ypyp)\n",
      "/home/belu/.local/share/virtualenvs/licentiate-thesis-repo-cz9ujhZI/lib/python3.6/site-packages/sklearn/metrics/_classification.py:873: RuntimeWarning: invalid value encountered in double_scalars\n",
      "  mcc = cov_ytyp / np.sqrt(cov_ytyt * cov_ypyp)\n",
      "/home/belu/.local/share/virtualenvs/licentiate-thesis-repo-cz9ujhZI/lib/python3.6/site-packages/sklearn/metrics/_classification.py:873: RuntimeWarning: invalid value encountered in double_scalars\n",
      "  mcc = cov_ytyp / np.sqrt(cov_ytyt * cov_ypyp)\n",
      "/home/belu/.local/share/virtualenvs/licentiate-thesis-repo-cz9ujhZI/lib/python3.6/site-packages/sklearn/metrics/_classification.py:873: RuntimeWarning: invalid value encountered in double_scalars\n",
      "  mcc = cov_ytyp / np.sqrt(cov_ytyt * cov_ypyp)\n",
      "/home/belu/.local/share/virtualenvs/licentiate-thesis-repo-cz9ujhZI/lib/python3.6/site-packages/sklearn/metrics/_classification.py:873: RuntimeWarning: invalid value encountered in double_scalars\n",
      "  mcc = cov_ytyp / np.sqrt(cov_ytyt * cov_ypyp)\n",
      "/home/belu/.local/share/virtualenvs/licentiate-thesis-repo-cz9ujhZI/lib/python3.6/site-packages/sklearn/metrics/_classification.py:873: RuntimeWarning: invalid value encountered in double_scalars\n",
      "  mcc = cov_ytyp / np.sqrt(cov_ytyt * cov_ypyp)\n",
      "/home/belu/.local/share/virtualenvs/licentiate-thesis-repo-cz9ujhZI/lib/python3.6/site-packages/sklearn/metrics/_classification.py:873: RuntimeWarning: invalid value encountered in double_scalars\n",
      "  mcc = cov_ytyp / np.sqrt(cov_ytyt * cov_ypyp)\n",
      "/home/belu/.local/share/virtualenvs/licentiate-thesis-repo-cz9ujhZI/lib/python3.6/site-packages/sklearn/metrics/_classification.py:873: RuntimeWarning: invalid value encountered in double_scalars\n",
      "  mcc = cov_ytyp / np.sqrt(cov_ytyt * cov_ypyp)\n",
      "/home/belu/.local/share/virtualenvs/licentiate-thesis-repo-cz9ujhZI/lib/python3.6/site-packages/sklearn/metrics/_classification.py:873: RuntimeWarning: invalid value encountered in double_scalars\n",
      "  mcc = cov_ytyp / np.sqrt(cov_ytyt * cov_ypyp)\n",
      "/home/belu/.local/share/virtualenvs/licentiate-thesis-repo-cz9ujhZI/lib/python3.6/site-packages/sklearn/metrics/_classification.py:873: RuntimeWarning: invalid value encountered in double_scalars\n",
      "  mcc = cov_ytyp / np.sqrt(cov_ytyt * cov_ypyp)\n",
      "/home/belu/.local/share/virtualenvs/licentiate-thesis-repo-cz9ujhZI/lib/python3.6/site-packages/sklearn/metrics/_classification.py:873: RuntimeWarning: invalid value encountered in double_scalars\n",
      "  mcc = cov_ytyp / np.sqrt(cov_ytyt * cov_ypyp)\n",
      "/home/belu/.local/share/virtualenvs/licentiate-thesis-repo-cz9ujhZI/lib/python3.6/site-packages/sklearn/metrics/_classification.py:873: RuntimeWarning: invalid value encountered in double_scalars\n",
      "  mcc = cov_ytyp / np.sqrt(cov_ytyt * cov_ypyp)\n",
      "/home/belu/.local/share/virtualenvs/licentiate-thesis-repo-cz9ujhZI/lib/python3.6/site-packages/sklearn/metrics/_classification.py:873: RuntimeWarning: invalid value encountered in double_scalars\n",
      "  mcc = cov_ytyp / np.sqrt(cov_ytyt * cov_ypyp)\n",
      "/home/belu/.local/share/virtualenvs/licentiate-thesis-repo-cz9ujhZI/lib/python3.6/site-packages/sklearn/metrics/_classification.py:873: RuntimeWarning: invalid value encountered in double_scalars\n",
      "  mcc = cov_ytyp / np.sqrt(cov_ytyt * cov_ypyp)\n",
      "/home/belu/.local/share/virtualenvs/licentiate-thesis-repo-cz9ujhZI/lib/python3.6/site-packages/sklearn/metrics/_classification.py:873: RuntimeWarning: invalid value encountered in double_scalars\n",
      "  mcc = cov_ytyp / np.sqrt(cov_ytyt * cov_ypyp)\n",
      "/home/belu/.local/share/virtualenvs/licentiate-thesis-repo-cz9ujhZI/lib/python3.6/site-packages/sklearn/metrics/_classification.py:873: RuntimeWarning: invalid value encountered in double_scalars\n",
      "  mcc = cov_ytyp / np.sqrt(cov_ytyt * cov_ypyp)\n",
      "/home/belu/.local/share/virtualenvs/licentiate-thesis-repo-cz9ujhZI/lib/python3.6/site-packages/sklearn/metrics/_classification.py:873: RuntimeWarning: invalid value encountered in double_scalars\n",
      "  mcc = cov_ytyp / np.sqrt(cov_ytyt * cov_ypyp)\n",
      "/home/belu/.local/share/virtualenvs/licentiate-thesis-repo-cz9ujhZI/lib/python3.6/site-packages/sklearn/metrics/_classification.py:873: RuntimeWarning: invalid value encountered in double_scalars\n",
      "  mcc = cov_ytyp / np.sqrt(cov_ytyt * cov_ypyp)\n",
      "/home/belu/.local/share/virtualenvs/licentiate-thesis-repo-cz9ujhZI/lib/python3.6/site-packages/sklearn/metrics/_classification.py:873: RuntimeWarning: invalid value encountered in double_scalars\n",
      "  mcc = cov_ytyp / np.sqrt(cov_ytyt * cov_ypyp)\n",
      "/home/belu/.local/share/virtualenvs/licentiate-thesis-repo-cz9ujhZI/lib/python3.6/site-packages/sklearn/metrics/_classification.py:873: RuntimeWarning: invalid value encountered in double_scalars\n",
      "  mcc = cov_ytyp / np.sqrt(cov_ytyt * cov_ypyp)\n",
      "/home/belu/.local/share/virtualenvs/licentiate-thesis-repo-cz9ujhZI/lib/python3.6/site-packages/sklearn/metrics/_classification.py:873: RuntimeWarning: invalid value encountered in double_scalars\n",
      "  mcc = cov_ytyp / np.sqrt(cov_ytyt * cov_ypyp)\n",
      "/home/belu/.local/share/virtualenvs/licentiate-thesis-repo-cz9ujhZI/lib/python3.6/site-packages/sklearn/metrics/_classification.py:873: RuntimeWarning: invalid value encountered in double_scalars\n",
      "  mcc = cov_ytyp / np.sqrt(cov_ytyt * cov_ypyp)\n",
      "/home/belu/.local/share/virtualenvs/licentiate-thesis-repo-cz9ujhZI/lib/python3.6/site-packages/sklearn/metrics/_classification.py:873: RuntimeWarning: invalid value encountered in double_scalars\n",
      "  mcc = cov_ytyp / np.sqrt(cov_ytyt * cov_ypyp)\n",
      "/home/belu/.local/share/virtualenvs/licentiate-thesis-repo-cz9ujhZI/lib/python3.6/site-packages/sklearn/metrics/_classification.py:873: RuntimeWarning: invalid value encountered in double_scalars\n",
      "  mcc = cov_ytyp / np.sqrt(cov_ytyt * cov_ypyp)\n",
      "/home/belu/.local/share/virtualenvs/licentiate-thesis-repo-cz9ujhZI/lib/python3.6/site-packages/sklearn/metrics/_classification.py:873: RuntimeWarning: invalid value encountered in double_scalars\n",
      "  mcc = cov_ytyp / np.sqrt(cov_ytyt * cov_ypyp)\n",
      "/home/belu/.local/share/virtualenvs/licentiate-thesis-repo-cz9ujhZI/lib/python3.6/site-packages/sklearn/metrics/_classification.py:873: RuntimeWarning: invalid value encountered in double_scalars\n",
      "  mcc = cov_ytyp / np.sqrt(cov_ytyt * cov_ypyp)\n",
      "/home/belu/.local/share/virtualenvs/licentiate-thesis-repo-cz9ujhZI/lib/python3.6/site-packages/sklearn/metrics/_classification.py:873: RuntimeWarning: invalid value encountered in double_scalars\n",
      "  mcc = cov_ytyp / np.sqrt(cov_ytyt * cov_ypyp)\n",
      "/home/belu/.local/share/virtualenvs/licentiate-thesis-repo-cz9ujhZI/lib/python3.6/site-packages/sklearn/metrics/_classification.py:873: RuntimeWarning: invalid value encountered in double_scalars\n",
      "  mcc = cov_ytyp / np.sqrt(cov_ytyt * cov_ypyp)\n",
      "/home/belu/.local/share/virtualenvs/licentiate-thesis-repo-cz9ujhZI/lib/python3.6/site-packages/sklearn/metrics/_classification.py:873: RuntimeWarning: invalid value encountered in double_scalars\n",
      "  mcc = cov_ytyp / np.sqrt(cov_ytyt * cov_ypyp)\n",
      "/home/belu/.local/share/virtualenvs/licentiate-thesis-repo-cz9ujhZI/lib/python3.6/site-packages/sklearn/metrics/_classification.py:873: RuntimeWarning: invalid value encountered in double_scalars\n",
      "  mcc = cov_ytyp / np.sqrt(cov_ytyt * cov_ypyp)\n",
      "/home/belu/.local/share/virtualenvs/licentiate-thesis-repo-cz9ujhZI/lib/python3.6/site-packages/sklearn/metrics/_classification.py:873: RuntimeWarning: invalid value encountered in double_scalars\n",
      "  mcc = cov_ytyp / np.sqrt(cov_ytyt * cov_ypyp)\n",
      "/home/belu/.local/share/virtualenvs/licentiate-thesis-repo-cz9ujhZI/lib/python3.6/site-packages/sklearn/metrics/_classification.py:873: RuntimeWarning: invalid value encountered in double_scalars\n",
      "  mcc = cov_ytyp / np.sqrt(cov_ytyt * cov_ypyp)\n",
      "/home/belu/.local/share/virtualenvs/licentiate-thesis-repo-cz9ujhZI/lib/python3.6/site-packages/sklearn/metrics/_classification.py:873: RuntimeWarning: invalid value encountered in double_scalars\n",
      "  mcc = cov_ytyp / np.sqrt(cov_ytyt * cov_ypyp)\n",
      "/home/belu/.local/share/virtualenvs/licentiate-thesis-repo-cz9ujhZI/lib/python3.6/site-packages/sklearn/metrics/_classification.py:873: RuntimeWarning: invalid value encountered in double_scalars\n",
      "  mcc = cov_ytyp / np.sqrt(cov_ytyt * cov_ypyp)\n",
      "/home/belu/.local/share/virtualenvs/licentiate-thesis-repo-cz9ujhZI/lib/python3.6/site-packages/sklearn/metrics/_classification.py:873: RuntimeWarning: invalid value encountered in double_scalars\n",
      "  mcc = cov_ytyp / np.sqrt(cov_ytyt * cov_ypyp)\n",
      "/home/belu/.local/share/virtualenvs/licentiate-thesis-repo-cz9ujhZI/lib/python3.6/site-packages/sklearn/metrics/_classification.py:873: RuntimeWarning: invalid value encountered in double_scalars\n",
      "  mcc = cov_ytyp / np.sqrt(cov_ytyt * cov_ypyp)\n",
      "/home/belu/.local/share/virtualenvs/licentiate-thesis-repo-cz9ujhZI/lib/python3.6/site-packages/sklearn/metrics/_classification.py:873: RuntimeWarning: invalid value encountered in double_scalars\n",
      "  mcc = cov_ytyp / np.sqrt(cov_ytyt * cov_ypyp)\n",
      "/home/belu/.local/share/virtualenvs/licentiate-thesis-repo-cz9ujhZI/lib/python3.6/site-packages/sklearn/metrics/_classification.py:873: RuntimeWarning: invalid value encountered in double_scalars\n",
      "  mcc = cov_ytyp / np.sqrt(cov_ytyt * cov_ypyp)\n",
      "/home/belu/.local/share/virtualenvs/licentiate-thesis-repo-cz9ujhZI/lib/python3.6/site-packages/sklearn/metrics/_classification.py:873: RuntimeWarning: invalid value encountered in double_scalars\n",
      "  mcc = cov_ytyp / np.sqrt(cov_ytyt * cov_ypyp)\n",
      "/home/belu/.local/share/virtualenvs/licentiate-thesis-repo-cz9ujhZI/lib/python3.6/site-packages/sklearn/metrics/_classification.py:873: RuntimeWarning: invalid value encountered in double_scalars\n",
      "  mcc = cov_ytyp / np.sqrt(cov_ytyt * cov_ypyp)\n",
      "/home/belu/.local/share/virtualenvs/licentiate-thesis-repo-cz9ujhZI/lib/python3.6/site-packages/sklearn/metrics/_classification.py:873: RuntimeWarning: invalid value encountered in double_scalars\n",
      "  mcc = cov_ytyp / np.sqrt(cov_ytyt * cov_ypyp)\n",
      "/home/belu/.local/share/virtualenvs/licentiate-thesis-repo-cz9ujhZI/lib/python3.6/site-packages/sklearn/metrics/_classification.py:873: RuntimeWarning: invalid value encountered in double_scalars\n",
      "  mcc = cov_ytyp / np.sqrt(cov_ytyt * cov_ypyp)\n",
      "/home/belu/.local/share/virtualenvs/licentiate-thesis-repo-cz9ujhZI/lib/python3.6/site-packages/sklearn/metrics/_classification.py:873: RuntimeWarning: invalid value encountered in double_scalars\n",
      "  mcc = cov_ytyp / np.sqrt(cov_ytyt * cov_ypyp)\n",
      "/home/belu/.local/share/virtualenvs/licentiate-thesis-repo-cz9ujhZI/lib/python3.6/site-packages/sklearn/metrics/_classification.py:873: RuntimeWarning: invalid value encountered in double_scalars\n",
      "  mcc = cov_ytyp / np.sqrt(cov_ytyt * cov_ypyp)\n",
      "/home/belu/.local/share/virtualenvs/licentiate-thesis-repo-cz9ujhZI/lib/python3.6/site-packages/sklearn/metrics/_classification.py:873: RuntimeWarning: invalid value encountered in double_scalars\n",
      "  mcc = cov_ytyp / np.sqrt(cov_ytyt * cov_ypyp)\n",
      "/home/belu/.local/share/virtualenvs/licentiate-thesis-repo-cz9ujhZI/lib/python3.6/site-packages/sklearn/metrics/_classification.py:873: RuntimeWarning: invalid value encountered in double_scalars\n",
      "  mcc = cov_ytyp / np.sqrt(cov_ytyt * cov_ypyp)\n",
      "/home/belu/.local/share/virtualenvs/licentiate-thesis-repo-cz9ujhZI/lib/python3.6/site-packages/sklearn/metrics/_classification.py:873: RuntimeWarning: invalid value encountered in double_scalars\n",
      "  mcc = cov_ytyp / np.sqrt(cov_ytyt * cov_ypyp)\n",
      "/home/belu/.local/share/virtualenvs/licentiate-thesis-repo-cz9ujhZI/lib/python3.6/site-packages/sklearn/metrics/_classification.py:873: RuntimeWarning: invalid value encountered in double_scalars\n",
      "  mcc = cov_ytyp / np.sqrt(cov_ytyt * cov_ypyp)\n",
      "/home/belu/.local/share/virtualenvs/licentiate-thesis-repo-cz9ujhZI/lib/python3.6/site-packages/sklearn/metrics/_classification.py:873: RuntimeWarning: invalid value encountered in double_scalars\n",
      "  mcc = cov_ytyp / np.sqrt(cov_ytyt * cov_ypyp)\n",
      "/home/belu/.local/share/virtualenvs/licentiate-thesis-repo-cz9ujhZI/lib/python3.6/site-packages/sklearn/metrics/_classification.py:873: RuntimeWarning: invalid value encountered in double_scalars\n",
      "  mcc = cov_ytyp / np.sqrt(cov_ytyt * cov_ypyp)\n",
      "/home/belu/.local/share/virtualenvs/licentiate-thesis-repo-cz9ujhZI/lib/python3.6/site-packages/sklearn/metrics/_classification.py:873: RuntimeWarning: invalid value encountered in double_scalars\n",
      "  mcc = cov_ytyp / np.sqrt(cov_ytyt * cov_ypyp)\n",
      "/home/belu/.local/share/virtualenvs/licentiate-thesis-repo-cz9ujhZI/lib/python3.6/site-packages/sklearn/metrics/_classification.py:873: RuntimeWarning: invalid value encountered in double_scalars\n",
      "  mcc = cov_ytyp / np.sqrt(cov_ytyt * cov_ypyp)\n",
      "/home/belu/.local/share/virtualenvs/licentiate-thesis-repo-cz9ujhZI/lib/python3.6/site-packages/sklearn/metrics/_classification.py:873: RuntimeWarning: invalid value encountered in double_scalars\n",
      "  mcc = cov_ytyp / np.sqrt(cov_ytyt * cov_ypyp)\n",
      "/home/belu/.local/share/virtualenvs/licentiate-thesis-repo-cz9ujhZI/lib/python3.6/site-packages/sklearn/metrics/_classification.py:873: RuntimeWarning: invalid value encountered in double_scalars\n",
      "  mcc = cov_ytyp / np.sqrt(cov_ytyt * cov_ypyp)\n",
      "/home/belu/.local/share/virtualenvs/licentiate-thesis-repo-cz9ujhZI/lib/python3.6/site-packages/sklearn/metrics/_classification.py:873: RuntimeWarning: invalid value encountered in double_scalars\n",
      "  mcc = cov_ytyp / np.sqrt(cov_ytyt * cov_ypyp)\n",
      "/home/belu/.local/share/virtualenvs/licentiate-thesis-repo-cz9ujhZI/lib/python3.6/site-packages/sklearn/metrics/_classification.py:873: RuntimeWarning: invalid value encountered in double_scalars\n",
      "  mcc = cov_ytyp / np.sqrt(cov_ytyt * cov_ypyp)\n",
      "/home/belu/.local/share/virtualenvs/licentiate-thesis-repo-cz9ujhZI/lib/python3.6/site-packages/sklearn/metrics/_classification.py:873: RuntimeWarning: invalid value encountered in double_scalars\n",
      "  mcc = cov_ytyp / np.sqrt(cov_ytyt * cov_ypyp)\n",
      "/home/belu/.local/share/virtualenvs/licentiate-thesis-repo-cz9ujhZI/lib/python3.6/site-packages/sklearn/metrics/_classification.py:873: RuntimeWarning: invalid value encountered in double_scalars\n",
      "  mcc = cov_ytyp / np.sqrt(cov_ytyt * cov_ypyp)\n",
      "/home/belu/.local/share/virtualenvs/licentiate-thesis-repo-cz9ujhZI/lib/python3.6/site-packages/sklearn/metrics/_classification.py:873: RuntimeWarning: invalid value encountered in double_scalars\n",
      "  mcc = cov_ytyp / np.sqrt(cov_ytyt * cov_ypyp)\n",
      "/home/belu/.local/share/virtualenvs/licentiate-thesis-repo-cz9ujhZI/lib/python3.6/site-packages/sklearn/metrics/_classification.py:873: RuntimeWarning: invalid value encountered in double_scalars\n",
      "  mcc = cov_ytyp / np.sqrt(cov_ytyt * cov_ypyp)\n",
      "/home/belu/.local/share/virtualenvs/licentiate-thesis-repo-cz9ujhZI/lib/python3.6/site-packages/sklearn/metrics/_classification.py:873: RuntimeWarning: invalid value encountered in double_scalars\n",
      "  mcc = cov_ytyp / np.sqrt(cov_ytyt * cov_ypyp)\n",
      "/home/belu/.local/share/virtualenvs/licentiate-thesis-repo-cz9ujhZI/lib/python3.6/site-packages/sklearn/metrics/_classification.py:873: RuntimeWarning: invalid value encountered in double_scalars\n",
      "  mcc = cov_ytyp / np.sqrt(cov_ytyt * cov_ypyp)\n",
      "/home/belu/.local/share/virtualenvs/licentiate-thesis-repo-cz9ujhZI/lib/python3.6/site-packages/sklearn/metrics/_classification.py:873: RuntimeWarning: invalid value encountered in double_scalars\n",
      "  mcc = cov_ytyp / np.sqrt(cov_ytyt * cov_ypyp)\n",
      "/home/belu/.local/share/virtualenvs/licentiate-thesis-repo-cz9ujhZI/lib/python3.6/site-packages/sklearn/metrics/_classification.py:873: RuntimeWarning: invalid value encountered in double_scalars\n",
      "  mcc = cov_ytyp / np.sqrt(cov_ytyt * cov_ypyp)\n",
      "/home/belu/.local/share/virtualenvs/licentiate-thesis-repo-cz9ujhZI/lib/python3.6/site-packages/sklearn/metrics/_classification.py:873: RuntimeWarning: invalid value encountered in double_scalars\n",
      "  mcc = cov_ytyp / np.sqrt(cov_ytyt * cov_ypyp)\n",
      "/home/belu/.local/share/virtualenvs/licentiate-thesis-repo-cz9ujhZI/lib/python3.6/site-packages/sklearn/metrics/_classification.py:873: RuntimeWarning: invalid value encountered in double_scalars\n",
      "  mcc = cov_ytyp / np.sqrt(cov_ytyt * cov_ypyp)\n",
      "/home/belu/.local/share/virtualenvs/licentiate-thesis-repo-cz9ujhZI/lib/python3.6/site-packages/sklearn/metrics/_classification.py:873: RuntimeWarning: invalid value encountered in double_scalars\n",
      "  mcc = cov_ytyp / np.sqrt(cov_ytyt * cov_ypyp)\n",
      "/home/belu/.local/share/virtualenvs/licentiate-thesis-repo-cz9ujhZI/lib/python3.6/site-packages/sklearn/metrics/_classification.py:873: RuntimeWarning: invalid value encountered in double_scalars\n",
      "  mcc = cov_ytyp / np.sqrt(cov_ytyt * cov_ypyp)\n",
      "/home/belu/.local/share/virtualenvs/licentiate-thesis-repo-cz9ujhZI/lib/python3.6/site-packages/sklearn/metrics/_classification.py:873: RuntimeWarning: invalid value encountered in double_scalars\n",
      "  mcc = cov_ytyp / np.sqrt(cov_ytyt * cov_ypyp)\n",
      "/home/belu/.local/share/virtualenvs/licentiate-thesis-repo-cz9ujhZI/lib/python3.6/site-packages/sklearn/metrics/_classification.py:873: RuntimeWarning: invalid value encountered in double_scalars\n",
      "  mcc = cov_ytyp / np.sqrt(cov_ytyt * cov_ypyp)\n",
      "/home/belu/.local/share/virtualenvs/licentiate-thesis-repo-cz9ujhZI/lib/python3.6/site-packages/sklearn/metrics/_classification.py:873: RuntimeWarning: invalid value encountered in double_scalars\n",
      "  mcc = cov_ytyp / np.sqrt(cov_ytyt * cov_ypyp)\n",
      "/home/belu/.local/share/virtualenvs/licentiate-thesis-repo-cz9ujhZI/lib/python3.6/site-packages/sklearn/metrics/_classification.py:873: RuntimeWarning: invalid value encountered in double_scalars\n",
      "  mcc = cov_ytyp / np.sqrt(cov_ytyt * cov_ypyp)\n",
      "/home/belu/.local/share/virtualenvs/licentiate-thesis-repo-cz9ujhZI/lib/python3.6/site-packages/sklearn/metrics/_classification.py:873: RuntimeWarning: invalid value encountered in double_scalars\n",
      "  mcc = cov_ytyp / np.sqrt(cov_ytyt * cov_ypyp)\n",
      "/home/belu/.local/share/virtualenvs/licentiate-thesis-repo-cz9ujhZI/lib/python3.6/site-packages/sklearn/metrics/_classification.py:873: RuntimeWarning: invalid value encountered in double_scalars\n",
      "  mcc = cov_ytyp / np.sqrt(cov_ytyt * cov_ypyp)\n",
      "/home/belu/.local/share/virtualenvs/licentiate-thesis-repo-cz9ujhZI/lib/python3.6/site-packages/sklearn/metrics/_classification.py:873: RuntimeWarning: invalid value encountered in double_scalars\n",
      "  mcc = cov_ytyp / np.sqrt(cov_ytyt * cov_ypyp)\n",
      "/home/belu/.local/share/virtualenvs/licentiate-thesis-repo-cz9ujhZI/lib/python3.6/site-packages/sklearn/metrics/_classification.py:873: RuntimeWarning: invalid value encountered in double_scalars\n",
      "  mcc = cov_ytyp / np.sqrt(cov_ytyt * cov_ypyp)\n",
      "/home/belu/.local/share/virtualenvs/licentiate-thesis-repo-cz9ujhZI/lib/python3.6/site-packages/sklearn/metrics/_classification.py:873: RuntimeWarning: invalid value encountered in double_scalars\n",
      "  mcc = cov_ytyp / np.sqrt(cov_ytyt * cov_ypyp)\n",
      "/home/belu/.local/share/virtualenvs/licentiate-thesis-repo-cz9ujhZI/lib/python3.6/site-packages/sklearn/metrics/_classification.py:873: RuntimeWarning: invalid value encountered in double_scalars\n",
      "  mcc = cov_ytyp / np.sqrt(cov_ytyt * cov_ypyp)\n",
      "/home/belu/.local/share/virtualenvs/licentiate-thesis-repo-cz9ujhZI/lib/python3.6/site-packages/sklearn/metrics/_classification.py:873: RuntimeWarning: invalid value encountered in double_scalars\n",
      "  mcc = cov_ytyp / np.sqrt(cov_ytyt * cov_ypyp)\n",
      "/home/belu/.local/share/virtualenvs/licentiate-thesis-repo-cz9ujhZI/lib/python3.6/site-packages/sklearn/metrics/_classification.py:873: RuntimeWarning: invalid value encountered in double_scalars\n",
      "  mcc = cov_ytyp / np.sqrt(cov_ytyt * cov_ypyp)\n",
      "/home/belu/.local/share/virtualenvs/licentiate-thesis-repo-cz9ujhZI/lib/python3.6/site-packages/sklearn/metrics/_classification.py:873: RuntimeWarning: invalid value encountered in double_scalars\n",
      "  mcc = cov_ytyp / np.sqrt(cov_ytyt * cov_ypyp)\n",
      "/home/belu/.local/share/virtualenvs/licentiate-thesis-repo-cz9ujhZI/lib/python3.6/site-packages/sklearn/metrics/_classification.py:873: RuntimeWarning: invalid value encountered in double_scalars\n",
      "  mcc = cov_ytyp / np.sqrt(cov_ytyt * cov_ypyp)\n",
      "/home/belu/.local/share/virtualenvs/licentiate-thesis-repo-cz9ujhZI/lib/python3.6/site-packages/sklearn/metrics/_classification.py:873: RuntimeWarning: invalid value encountered in double_scalars\n",
      "  mcc = cov_ytyp / np.sqrt(cov_ytyt * cov_ypyp)\n",
      "/home/belu/.local/share/virtualenvs/licentiate-thesis-repo-cz9ujhZI/lib/python3.6/site-packages/sklearn/metrics/_classification.py:873: RuntimeWarning: invalid value encountered in double_scalars\n",
      "  mcc = cov_ytyp / np.sqrt(cov_ytyt * cov_ypyp)\n",
      "/home/belu/.local/share/virtualenvs/licentiate-thesis-repo-cz9ujhZI/lib/python3.6/site-packages/sklearn/metrics/_classification.py:873: RuntimeWarning: invalid value encountered in double_scalars\n",
      "  mcc = cov_ytyp / np.sqrt(cov_ytyt * cov_ypyp)\n",
      "/home/belu/.local/share/virtualenvs/licentiate-thesis-repo-cz9ujhZI/lib/python3.6/site-packages/sklearn/metrics/_classification.py:873: RuntimeWarning: invalid value encountered in double_scalars\n",
      "  mcc = cov_ytyp / np.sqrt(cov_ytyt * cov_ypyp)\n",
      "/home/belu/.local/share/virtualenvs/licentiate-thesis-repo-cz9ujhZI/lib/python3.6/site-packages/sklearn/metrics/_classification.py:873: RuntimeWarning: invalid value encountered in double_scalars\n",
      "  mcc = cov_ytyp / np.sqrt(cov_ytyt * cov_ypyp)\n",
      "/home/belu/.local/share/virtualenvs/licentiate-thesis-repo-cz9ujhZI/lib/python3.6/site-packages/sklearn/metrics/_classification.py:873: RuntimeWarning: invalid value encountered in double_scalars\n",
      "  mcc = cov_ytyp / np.sqrt(cov_ytyt * cov_ypyp)\n",
      "/home/belu/.local/share/virtualenvs/licentiate-thesis-repo-cz9ujhZI/lib/python3.6/site-packages/sklearn/metrics/_classification.py:873: RuntimeWarning: invalid value encountered in double_scalars\n",
      "  mcc = cov_ytyp / np.sqrt(cov_ytyt * cov_ypyp)\n",
      "/home/belu/.local/share/virtualenvs/licentiate-thesis-repo-cz9ujhZI/lib/python3.6/site-packages/sklearn/metrics/_classification.py:873: RuntimeWarning: invalid value encountered in double_scalars\n",
      "  mcc = cov_ytyp / np.sqrt(cov_ytyt * cov_ypyp)\n",
      "/home/belu/.local/share/virtualenvs/licentiate-thesis-repo-cz9ujhZI/lib/python3.6/site-packages/sklearn/metrics/_classification.py:873: RuntimeWarning: invalid value encountered in double_scalars\n",
      "  mcc = cov_ytyp / np.sqrt(cov_ytyt * cov_ypyp)\n",
      "/home/belu/.local/share/virtualenvs/licentiate-thesis-repo-cz9ujhZI/lib/python3.6/site-packages/sklearn/metrics/_classification.py:873: RuntimeWarning: invalid value encountered in double_scalars\n",
      "  mcc = cov_ytyp / np.sqrt(cov_ytyt * cov_ypyp)\n",
      "/home/belu/.local/share/virtualenvs/licentiate-thesis-repo-cz9ujhZI/lib/python3.6/site-packages/sklearn/metrics/_classification.py:873: RuntimeWarning: invalid value encountered in double_scalars\n",
      "  mcc = cov_ytyp / np.sqrt(cov_ytyt * cov_ypyp)\n",
      "/home/belu/.local/share/virtualenvs/licentiate-thesis-repo-cz9ujhZI/lib/python3.6/site-packages/sklearn/metrics/_classification.py:873: RuntimeWarning: invalid value encountered in double_scalars\n",
      "  mcc = cov_ytyp / np.sqrt(cov_ytyt * cov_ypyp)\n",
      "/home/belu/.local/share/virtualenvs/licentiate-thesis-repo-cz9ujhZI/lib/python3.6/site-packages/sklearn/metrics/_classification.py:873: RuntimeWarning: invalid value encountered in double_scalars\n",
      "  mcc = cov_ytyp / np.sqrt(cov_ytyt * cov_ypyp)\n",
      "/home/belu/.local/share/virtualenvs/licentiate-thesis-repo-cz9ujhZI/lib/python3.6/site-packages/sklearn/metrics/_classification.py:873: RuntimeWarning: invalid value encountered in double_scalars\n",
      "  mcc = cov_ytyp / np.sqrt(cov_ytyt * cov_ypyp)\n",
      "/home/belu/.local/share/virtualenvs/licentiate-thesis-repo-cz9ujhZI/lib/python3.6/site-packages/sklearn/metrics/_classification.py:873: RuntimeWarning: invalid value encountered in double_scalars\n",
      "  mcc = cov_ytyp / np.sqrt(cov_ytyt * cov_ypyp)\n",
      "/home/belu/.local/share/virtualenvs/licentiate-thesis-repo-cz9ujhZI/lib/python3.6/site-packages/sklearn/metrics/_classification.py:873: RuntimeWarning: invalid value encountered in double_scalars\n",
      "  mcc = cov_ytyp / np.sqrt(cov_ytyt * cov_ypyp)\n",
      "/home/belu/.local/share/virtualenvs/licentiate-thesis-repo-cz9ujhZI/lib/python3.6/site-packages/sklearn/metrics/_classification.py:873: RuntimeWarning: invalid value encountered in double_scalars\n",
      "  mcc = cov_ytyp / np.sqrt(cov_ytyt * cov_ypyp)\n",
      "/home/belu/.local/share/virtualenvs/licentiate-thesis-repo-cz9ujhZI/lib/python3.6/site-packages/sklearn/metrics/_classification.py:873: RuntimeWarning: invalid value encountered in double_scalars\n",
      "  mcc = cov_ytyp / np.sqrt(cov_ytyt * cov_ypyp)\n",
      "/home/belu/.local/share/virtualenvs/licentiate-thesis-repo-cz9ujhZI/lib/python3.6/site-packages/sklearn/metrics/_classification.py:873: RuntimeWarning: invalid value encountered in double_scalars\n",
      "  mcc = cov_ytyp / np.sqrt(cov_ytyt * cov_ypyp)\n",
      "/home/belu/.local/share/virtualenvs/licentiate-thesis-repo-cz9ujhZI/lib/python3.6/site-packages/sklearn/metrics/_classification.py:873: RuntimeWarning: invalid value encountered in double_scalars\n",
      "  mcc = cov_ytyp / np.sqrt(cov_ytyt * cov_ypyp)\n",
      "/home/belu/.local/share/virtualenvs/licentiate-thesis-repo-cz9ujhZI/lib/python3.6/site-packages/sklearn/metrics/_classification.py:873: RuntimeWarning: invalid value encountered in double_scalars\n",
      "  mcc = cov_ytyp / np.sqrt(cov_ytyt * cov_ypyp)\n",
      "/home/belu/.local/share/virtualenvs/licentiate-thesis-repo-cz9ujhZI/lib/python3.6/site-packages/sklearn/metrics/_classification.py:873: RuntimeWarning: invalid value encountered in double_scalars\n",
      "  mcc = cov_ytyp / np.sqrt(cov_ytyt * cov_ypyp)\n",
      "/home/belu/.local/share/virtualenvs/licentiate-thesis-repo-cz9ujhZI/lib/python3.6/site-packages/sklearn/metrics/_classification.py:873: RuntimeWarning: invalid value encountered in double_scalars\n",
      "  mcc = cov_ytyp / np.sqrt(cov_ytyt * cov_ypyp)\n",
      "/home/belu/.local/share/virtualenvs/licentiate-thesis-repo-cz9ujhZI/lib/python3.6/site-packages/sklearn/metrics/_classification.py:873: RuntimeWarning: invalid value encountered in double_scalars\n",
      "  mcc = cov_ytyp / np.sqrt(cov_ytyt * cov_ypyp)\n",
      "/home/belu/.local/share/virtualenvs/licentiate-thesis-repo-cz9ujhZI/lib/python3.6/site-packages/sklearn/metrics/_classification.py:873: RuntimeWarning: invalid value encountered in double_scalars\n",
      "  mcc = cov_ytyp / np.sqrt(cov_ytyt * cov_ypyp)\n",
      "/home/belu/.local/share/virtualenvs/licentiate-thesis-repo-cz9ujhZI/lib/python3.6/site-packages/sklearn/metrics/_classification.py:873: RuntimeWarning: invalid value encountered in double_scalars\n",
      "  mcc = cov_ytyp / np.sqrt(cov_ytyt * cov_ypyp)\n",
      "/home/belu/.local/share/virtualenvs/licentiate-thesis-repo-cz9ujhZI/lib/python3.6/site-packages/sklearn/metrics/_classification.py:873: RuntimeWarning: invalid value encountered in double_scalars\n",
      "  mcc = cov_ytyp / np.sqrt(cov_ytyt * cov_ypyp)\n",
      "/home/belu/.local/share/virtualenvs/licentiate-thesis-repo-cz9ujhZI/lib/python3.6/site-packages/sklearn/metrics/_classification.py:873: RuntimeWarning: invalid value encountered in double_scalars\n",
      "  mcc = cov_ytyp / np.sqrt(cov_ytyt * cov_ypyp)\n",
      "/home/belu/.local/share/virtualenvs/licentiate-thesis-repo-cz9ujhZI/lib/python3.6/site-packages/sklearn/metrics/_classification.py:873: RuntimeWarning: invalid value encountered in double_scalars\n",
      "  mcc = cov_ytyp / np.sqrt(cov_ytyt * cov_ypyp)\n",
      "/home/belu/.local/share/virtualenvs/licentiate-thesis-repo-cz9ujhZI/lib/python3.6/site-packages/sklearn/metrics/_classification.py:873: RuntimeWarning: invalid value encountered in double_scalars\n",
      "  mcc = cov_ytyp / np.sqrt(cov_ytyt * cov_ypyp)\n",
      "/home/belu/.local/share/virtualenvs/licentiate-thesis-repo-cz9ujhZI/lib/python3.6/site-packages/sklearn/metrics/_classification.py:873: RuntimeWarning: invalid value encountered in double_scalars\n",
      "  mcc = cov_ytyp / np.sqrt(cov_ytyt * cov_ypyp)\n",
      "/home/belu/.local/share/virtualenvs/licentiate-thesis-repo-cz9ujhZI/lib/python3.6/site-packages/sklearn/metrics/_classification.py:873: RuntimeWarning: invalid value encountered in double_scalars\n",
      "  mcc = cov_ytyp / np.sqrt(cov_ytyt * cov_ypyp)\n",
      "/home/belu/.local/share/virtualenvs/licentiate-thesis-repo-cz9ujhZI/lib/python3.6/site-packages/sklearn/metrics/_classification.py:873: RuntimeWarning: invalid value encountered in double_scalars\n",
      "  mcc = cov_ytyp / np.sqrt(cov_ytyt * cov_ypyp)\n",
      "/home/belu/.local/share/virtualenvs/licentiate-thesis-repo-cz9ujhZI/lib/python3.6/site-packages/sklearn/metrics/_classification.py:873: RuntimeWarning: invalid value encountered in double_scalars\n",
      "  mcc = cov_ytyp / np.sqrt(cov_ytyt * cov_ypyp)\n",
      "/home/belu/.local/share/virtualenvs/licentiate-thesis-repo-cz9ujhZI/lib/python3.6/site-packages/sklearn/metrics/_classification.py:873: RuntimeWarning: invalid value encountered in double_scalars\n",
      "  mcc = cov_ytyp / np.sqrt(cov_ytyt * cov_ypyp)\n",
      "/home/belu/.local/share/virtualenvs/licentiate-thesis-repo-cz9ujhZI/lib/python3.6/site-packages/sklearn/metrics/_classification.py:873: RuntimeWarning: invalid value encountered in double_scalars\n",
      "  mcc = cov_ytyp / np.sqrt(cov_ytyt * cov_ypyp)\n",
      "/home/belu/.local/share/virtualenvs/licentiate-thesis-repo-cz9ujhZI/lib/python3.6/site-packages/sklearn/metrics/_classification.py:873: RuntimeWarning: invalid value encountered in double_scalars\n",
      "  mcc = cov_ytyp / np.sqrt(cov_ytyt * cov_ypyp)\n",
      "/home/belu/.local/share/virtualenvs/licentiate-thesis-repo-cz9ujhZI/lib/python3.6/site-packages/sklearn/metrics/_classification.py:873: RuntimeWarning: invalid value encountered in double_scalars\n",
      "  mcc = cov_ytyp / np.sqrt(cov_ytyt * cov_ypyp)\n",
      "/home/belu/.local/share/virtualenvs/licentiate-thesis-repo-cz9ujhZI/lib/python3.6/site-packages/sklearn/metrics/_classification.py:873: RuntimeWarning: invalid value encountered in double_scalars\n",
      "  mcc = cov_ytyp / np.sqrt(cov_ytyt * cov_ypyp)\n",
      "/home/belu/.local/share/virtualenvs/licentiate-thesis-repo-cz9ujhZI/lib/python3.6/site-packages/sklearn/metrics/_classification.py:873: RuntimeWarning: invalid value encountered in double_scalars\n",
      "  mcc = cov_ytyp / np.sqrt(cov_ytyt * cov_ypyp)\n",
      "/home/belu/.local/share/virtualenvs/licentiate-thesis-repo-cz9ujhZI/lib/python3.6/site-packages/sklearn/metrics/_classification.py:873: RuntimeWarning: invalid value encountered in double_scalars\n",
      "  mcc = cov_ytyp / np.sqrt(cov_ytyt * cov_ypyp)\n",
      "/home/belu/.local/share/virtualenvs/licentiate-thesis-repo-cz9ujhZI/lib/python3.6/site-packages/sklearn/metrics/_classification.py:873: RuntimeWarning: invalid value encountered in double_scalars\n",
      "  mcc = cov_ytyp / np.sqrt(cov_ytyt * cov_ypyp)\n",
      "/home/belu/.local/share/virtualenvs/licentiate-thesis-repo-cz9ujhZI/lib/python3.6/site-packages/sklearn/metrics/_classification.py:873: RuntimeWarning: invalid value encountered in double_scalars\n",
      "  mcc = cov_ytyp / np.sqrt(cov_ytyt * cov_ypyp)\n",
      "/home/belu/.local/share/virtualenvs/licentiate-thesis-repo-cz9ujhZI/lib/python3.6/site-packages/sklearn/metrics/_classification.py:873: RuntimeWarning: invalid value encountered in double_scalars\n",
      "  mcc = cov_ytyp / np.sqrt(cov_ytyt * cov_ypyp)\n",
      "/home/belu/.local/share/virtualenvs/licentiate-thesis-repo-cz9ujhZI/lib/python3.6/site-packages/sklearn/metrics/_classification.py:873: RuntimeWarning: invalid value encountered in double_scalars\n",
      "  mcc = cov_ytyp / np.sqrt(cov_ytyt * cov_ypyp)\n",
      "/home/belu/.local/share/virtualenvs/licentiate-thesis-repo-cz9ujhZI/lib/python3.6/site-packages/sklearn/metrics/_classification.py:873: RuntimeWarning: invalid value encountered in double_scalars\n",
      "  mcc = cov_ytyp / np.sqrt(cov_ytyt * cov_ypyp)\n",
      "/home/belu/.local/share/virtualenvs/licentiate-thesis-repo-cz9ujhZI/lib/python3.6/site-packages/sklearn/metrics/_classification.py:873: RuntimeWarning: invalid value encountered in double_scalars\n",
      "  mcc = cov_ytyp / np.sqrt(cov_ytyt * cov_ypyp)\n",
      "/home/belu/.local/share/virtualenvs/licentiate-thesis-repo-cz9ujhZI/lib/python3.6/site-packages/sklearn/metrics/_classification.py:873: RuntimeWarning: invalid value encountered in double_scalars\n",
      "  mcc = cov_ytyp / np.sqrt(cov_ytyt * cov_ypyp)\n",
      "/home/belu/.local/share/virtualenvs/licentiate-thesis-repo-cz9ujhZI/lib/python3.6/site-packages/sklearn/metrics/_classification.py:873: RuntimeWarning: invalid value encountered in double_scalars\n",
      "  mcc = cov_ytyp / np.sqrt(cov_ytyt * cov_ypyp)\n",
      "/home/belu/.local/share/virtualenvs/licentiate-thesis-repo-cz9ujhZI/lib/python3.6/site-packages/sklearn/metrics/_classification.py:873: RuntimeWarning: invalid value encountered in double_scalars\n",
      "  mcc = cov_ytyp / np.sqrt(cov_ytyt * cov_ypyp)\n",
      "/home/belu/.local/share/virtualenvs/licentiate-thesis-repo-cz9ujhZI/lib/python3.6/site-packages/sklearn/metrics/_classification.py:873: RuntimeWarning: invalid value encountered in double_scalars\n",
      "  mcc = cov_ytyp / np.sqrt(cov_ytyt * cov_ypyp)\n",
      "/home/belu/.local/share/virtualenvs/licentiate-thesis-repo-cz9ujhZI/lib/python3.6/site-packages/sklearn/metrics/_classification.py:873: RuntimeWarning: invalid value encountered in double_scalars\n",
      "  mcc = cov_ytyp / np.sqrt(cov_ytyt * cov_ypyp)\n",
      "/home/belu/.local/share/virtualenvs/licentiate-thesis-repo-cz9ujhZI/lib/python3.6/site-packages/sklearn/metrics/_classification.py:873: RuntimeWarning: invalid value encountered in double_scalars\n",
      "  mcc = cov_ytyp / np.sqrt(cov_ytyt * cov_ypyp)\n",
      "/home/belu/.local/share/virtualenvs/licentiate-thesis-repo-cz9ujhZI/lib/python3.6/site-packages/sklearn/metrics/_classification.py:873: RuntimeWarning: invalid value encountered in double_scalars\n",
      "  mcc = cov_ytyp / np.sqrt(cov_ytyt * cov_ypyp)\n",
      "/home/belu/.local/share/virtualenvs/licentiate-thesis-repo-cz9ujhZI/lib/python3.6/site-packages/sklearn/metrics/_classification.py:873: RuntimeWarning: invalid value encountered in double_scalars\n",
      "  mcc = cov_ytyp / np.sqrt(cov_ytyt * cov_ypyp)\n",
      "/home/belu/.local/share/virtualenvs/licentiate-thesis-repo-cz9ujhZI/lib/python3.6/site-packages/sklearn/metrics/_classification.py:873: RuntimeWarning: invalid value encountered in double_scalars\n",
      "  mcc = cov_ytyp / np.sqrt(cov_ytyt * cov_ypyp)\n",
      "/home/belu/.local/share/virtualenvs/licentiate-thesis-repo-cz9ujhZI/lib/python3.6/site-packages/sklearn/metrics/_classification.py:873: RuntimeWarning: invalid value encountered in double_scalars\n",
      "  mcc = cov_ytyp / np.sqrt(cov_ytyt * cov_ypyp)\n",
      "/home/belu/.local/share/virtualenvs/licentiate-thesis-repo-cz9ujhZI/lib/python3.6/site-packages/sklearn/metrics/_classification.py:873: RuntimeWarning: invalid value encountered in double_scalars\n",
      "  mcc = cov_ytyp / np.sqrt(cov_ytyt * cov_ypyp)\n",
      "/home/belu/.local/share/virtualenvs/licentiate-thesis-repo-cz9ujhZI/lib/python3.6/site-packages/sklearn/metrics/_classification.py:873: RuntimeWarning: invalid value encountered in double_scalars\n",
      "  mcc = cov_ytyp / np.sqrt(cov_ytyt * cov_ypyp)\n",
      "/home/belu/.local/share/virtualenvs/licentiate-thesis-repo-cz9ujhZI/lib/python3.6/site-packages/sklearn/metrics/_classification.py:873: RuntimeWarning: invalid value encountered in double_scalars\n",
      "  mcc = cov_ytyp / np.sqrt(cov_ytyt * cov_ypyp)\n",
      "/home/belu/.local/share/virtualenvs/licentiate-thesis-repo-cz9ujhZI/lib/python3.6/site-packages/sklearn/metrics/_classification.py:873: RuntimeWarning: invalid value encountered in double_scalars\n",
      "  mcc = cov_ytyp / np.sqrt(cov_ytyt * cov_ypyp)\n",
      "/home/belu/.local/share/virtualenvs/licentiate-thesis-repo-cz9ujhZI/lib/python3.6/site-packages/sklearn/metrics/_classification.py:873: RuntimeWarning: invalid value encountered in double_scalars\n",
      "  mcc = cov_ytyp / np.sqrt(cov_ytyt * cov_ypyp)\n",
      "/home/belu/.local/share/virtualenvs/licentiate-thesis-repo-cz9ujhZI/lib/python3.6/site-packages/sklearn/metrics/_classification.py:873: RuntimeWarning: invalid value encountered in double_scalars\n",
      "  mcc = cov_ytyp / np.sqrt(cov_ytyt * cov_ypyp)\n",
      "/home/belu/.local/share/virtualenvs/licentiate-thesis-repo-cz9ujhZI/lib/python3.6/site-packages/sklearn/metrics/_classification.py:873: RuntimeWarning: invalid value encountered in double_scalars\n",
      "  mcc = cov_ytyp / np.sqrt(cov_ytyt * cov_ypyp)\n",
      "/home/belu/.local/share/virtualenvs/licentiate-thesis-repo-cz9ujhZI/lib/python3.6/site-packages/sklearn/metrics/_classification.py:873: RuntimeWarning: invalid value encountered in double_scalars\n",
      "  mcc = cov_ytyp / np.sqrt(cov_ytyt * cov_ypyp)\n",
      "/home/belu/.local/share/virtualenvs/licentiate-thesis-repo-cz9ujhZI/lib/python3.6/site-packages/sklearn/metrics/_classification.py:873: RuntimeWarning: invalid value encountered in double_scalars\n",
      "  mcc = cov_ytyp / np.sqrt(cov_ytyt * cov_ypyp)\n",
      "/home/belu/.local/share/virtualenvs/licentiate-thesis-repo-cz9ujhZI/lib/python3.6/site-packages/sklearn/metrics/_classification.py:873: RuntimeWarning: invalid value encountered in double_scalars\n",
      "  mcc = cov_ytyp / np.sqrt(cov_ytyt * cov_ypyp)\n",
      "/home/belu/.local/share/virtualenvs/licentiate-thesis-repo-cz9ujhZI/lib/python3.6/site-packages/sklearn/metrics/_classification.py:873: RuntimeWarning: invalid value encountered in double_scalars\n",
      "  mcc = cov_ytyp / np.sqrt(cov_ytyt * cov_ypyp)\n",
      "/home/belu/.local/share/virtualenvs/licentiate-thesis-repo-cz9ujhZI/lib/python3.6/site-packages/sklearn/metrics/_classification.py:873: RuntimeWarning: invalid value encountered in double_scalars\n",
      "  mcc = cov_ytyp / np.sqrt(cov_ytyt * cov_ypyp)\n",
      "/home/belu/.local/share/virtualenvs/licentiate-thesis-repo-cz9ujhZI/lib/python3.6/site-packages/sklearn/metrics/_classification.py:873: RuntimeWarning: invalid value encountered in double_scalars\n",
      "  mcc = cov_ytyp / np.sqrt(cov_ytyt * cov_ypyp)\n",
      "/home/belu/.local/share/virtualenvs/licentiate-thesis-repo-cz9ujhZI/lib/python3.6/site-packages/sklearn/metrics/_classification.py:873: RuntimeWarning: invalid value encountered in double_scalars\n",
      "  mcc = cov_ytyp / np.sqrt(cov_ytyt * cov_ypyp)\n",
      "/home/belu/.local/share/virtualenvs/licentiate-thesis-repo-cz9ujhZI/lib/python3.6/site-packages/sklearn/metrics/_classification.py:873: RuntimeWarning: invalid value encountered in double_scalars\n",
      "  mcc = cov_ytyp / np.sqrt(cov_ytyt * cov_ypyp)\n",
      "/home/belu/.local/share/virtualenvs/licentiate-thesis-repo-cz9ujhZI/lib/python3.6/site-packages/sklearn/metrics/_classification.py:873: RuntimeWarning: invalid value encountered in double_scalars\n",
      "  mcc = cov_ytyp / np.sqrt(cov_ytyt * cov_ypyp)\n",
      "/home/belu/.local/share/virtualenvs/licentiate-thesis-repo-cz9ujhZI/lib/python3.6/site-packages/sklearn/metrics/_classification.py:873: RuntimeWarning: invalid value encountered in double_scalars\n",
      "  mcc = cov_ytyp / np.sqrt(cov_ytyt * cov_ypyp)\n",
      "/home/belu/.local/share/virtualenvs/licentiate-thesis-repo-cz9ujhZI/lib/python3.6/site-packages/sklearn/metrics/_classification.py:873: RuntimeWarning: invalid value encountered in double_scalars\n",
      "  mcc = cov_ytyp / np.sqrt(cov_ytyt * cov_ypyp)\n",
      "/home/belu/.local/share/virtualenvs/licentiate-thesis-repo-cz9ujhZI/lib/python3.6/site-packages/sklearn/metrics/_classification.py:873: RuntimeWarning: invalid value encountered in double_scalars\n",
      "  mcc = cov_ytyp / np.sqrt(cov_ytyt * cov_ypyp)\n",
      "/home/belu/.local/share/virtualenvs/licentiate-thesis-repo-cz9ujhZI/lib/python3.6/site-packages/sklearn/metrics/_classification.py:873: RuntimeWarning: invalid value encountered in double_scalars\n",
      "  mcc = cov_ytyp / np.sqrt(cov_ytyt * cov_ypyp)\n",
      "/home/belu/.local/share/virtualenvs/licentiate-thesis-repo-cz9ujhZI/lib/python3.6/site-packages/sklearn/metrics/_classification.py:873: RuntimeWarning: invalid value encountered in double_scalars\n",
      "  mcc = cov_ytyp / np.sqrt(cov_ytyt * cov_ypyp)\n",
      "/home/belu/.local/share/virtualenvs/licentiate-thesis-repo-cz9ujhZI/lib/python3.6/site-packages/sklearn/metrics/_classification.py:873: RuntimeWarning: invalid value encountered in double_scalars\n",
      "  mcc = cov_ytyp / np.sqrt(cov_ytyt * cov_ypyp)\n",
      "/home/belu/.local/share/virtualenvs/licentiate-thesis-repo-cz9ujhZI/lib/python3.6/site-packages/sklearn/metrics/_classification.py:873: RuntimeWarning: invalid value encountered in double_scalars\n",
      "  mcc = cov_ytyp / np.sqrt(cov_ytyt * cov_ypyp)\n",
      "/home/belu/.local/share/virtualenvs/licentiate-thesis-repo-cz9ujhZI/lib/python3.6/site-packages/sklearn/metrics/_classification.py:873: RuntimeWarning: invalid value encountered in double_scalars\n",
      "  mcc = cov_ytyp / np.sqrt(cov_ytyt * cov_ypyp)\n",
      "/home/belu/.local/share/virtualenvs/licentiate-thesis-repo-cz9ujhZI/lib/python3.6/site-packages/sklearn/metrics/_classification.py:873: RuntimeWarning: invalid value encountered in double_scalars\n",
      "  mcc = cov_ytyp / np.sqrt(cov_ytyt * cov_ypyp)\n",
      "/home/belu/.local/share/virtualenvs/licentiate-thesis-repo-cz9ujhZI/lib/python3.6/site-packages/sklearn/metrics/_classification.py:873: RuntimeWarning: invalid value encountered in double_scalars\n",
      "  mcc = cov_ytyp / np.sqrt(cov_ytyt * cov_ypyp)\n",
      "/home/belu/.local/share/virtualenvs/licentiate-thesis-repo-cz9ujhZI/lib/python3.6/site-packages/sklearn/metrics/_classification.py:873: RuntimeWarning: invalid value encountered in double_scalars\n",
      "  mcc = cov_ytyp / np.sqrt(cov_ytyt * cov_ypyp)\n",
      "/home/belu/.local/share/virtualenvs/licentiate-thesis-repo-cz9ujhZI/lib/python3.6/site-packages/sklearn/metrics/_classification.py:873: RuntimeWarning: invalid value encountered in double_scalars\n",
      "  mcc = cov_ytyp / np.sqrt(cov_ytyt * cov_ypyp)\n",
      "/home/belu/.local/share/virtualenvs/licentiate-thesis-repo-cz9ujhZI/lib/python3.6/site-packages/sklearn/metrics/_classification.py:873: RuntimeWarning: invalid value encountered in double_scalars\n",
      "  mcc = cov_ytyp / np.sqrt(cov_ytyt * cov_ypyp)\n",
      "/home/belu/.local/share/virtualenvs/licentiate-thesis-repo-cz9ujhZI/lib/python3.6/site-packages/sklearn/metrics/_classification.py:873: RuntimeWarning: invalid value encountered in double_scalars\n",
      "  mcc = cov_ytyp / np.sqrt(cov_ytyt * cov_ypyp)\n",
      "/home/belu/.local/share/virtualenvs/licentiate-thesis-repo-cz9ujhZI/lib/python3.6/site-packages/sklearn/metrics/_classification.py:873: RuntimeWarning: invalid value encountered in double_scalars\n",
      "  mcc = cov_ytyp / np.sqrt(cov_ytyt * cov_ypyp)\n",
      "/home/belu/.local/share/virtualenvs/licentiate-thesis-repo-cz9ujhZI/lib/python3.6/site-packages/sklearn/metrics/_classification.py:873: RuntimeWarning: invalid value encountered in double_scalars\n",
      "  mcc = cov_ytyp / np.sqrt(cov_ytyt * cov_ypyp)\n",
      "/home/belu/.local/share/virtualenvs/licentiate-thesis-repo-cz9ujhZI/lib/python3.6/site-packages/sklearn/metrics/_classification.py:873: RuntimeWarning: invalid value encountered in double_scalars\n",
      "  mcc = cov_ytyp / np.sqrt(cov_ytyt * cov_ypyp)\n",
      "/home/belu/.local/share/virtualenvs/licentiate-thesis-repo-cz9ujhZI/lib/python3.6/site-packages/sklearn/metrics/_classification.py:873: RuntimeWarning: invalid value encountered in double_scalars\n",
      "  mcc = cov_ytyp / np.sqrt(cov_ytyt * cov_ypyp)\n",
      "/home/belu/.local/share/virtualenvs/licentiate-thesis-repo-cz9ujhZI/lib/python3.6/site-packages/sklearn/metrics/_classification.py:873: RuntimeWarning: invalid value encountered in double_scalars\n",
      "  mcc = cov_ytyp / np.sqrt(cov_ytyt * cov_ypyp)\n",
      "/home/belu/.local/share/virtualenvs/licentiate-thesis-repo-cz9ujhZI/lib/python3.6/site-packages/sklearn/metrics/_classification.py:873: RuntimeWarning: invalid value encountered in double_scalars\n",
      "  mcc = cov_ytyp / np.sqrt(cov_ytyt * cov_ypyp)\n",
      "/home/belu/.local/share/virtualenvs/licentiate-thesis-repo-cz9ujhZI/lib/python3.6/site-packages/sklearn/metrics/_classification.py:873: RuntimeWarning: invalid value encountered in double_scalars\n",
      "  mcc = cov_ytyp / np.sqrt(cov_ytyt * cov_ypyp)\n",
      "/home/belu/.local/share/virtualenvs/licentiate-thesis-repo-cz9ujhZI/lib/python3.6/site-packages/sklearn/metrics/_classification.py:873: RuntimeWarning: invalid value encountered in double_scalars\n",
      "  mcc = cov_ytyp / np.sqrt(cov_ytyt * cov_ypyp)\n",
      "/home/belu/.local/share/virtualenvs/licentiate-thesis-repo-cz9ujhZI/lib/python3.6/site-packages/sklearn/metrics/_classification.py:873: RuntimeWarning: invalid value encountered in double_scalars\n",
      "  mcc = cov_ytyp / np.sqrt(cov_ytyt * cov_ypyp)\n",
      "/home/belu/.local/share/virtualenvs/licentiate-thesis-repo-cz9ujhZI/lib/python3.6/site-packages/sklearn/metrics/_classification.py:873: RuntimeWarning: invalid value encountered in double_scalars\n",
      "  mcc = cov_ytyp / np.sqrt(cov_ytyt * cov_ypyp)\n",
      "/home/belu/.local/share/virtualenvs/licentiate-thesis-repo-cz9ujhZI/lib/python3.6/site-packages/sklearn/metrics/_classification.py:873: RuntimeWarning: invalid value encountered in double_scalars\n",
      "  mcc = cov_ytyp / np.sqrt(cov_ytyt * cov_ypyp)\n",
      "/home/belu/.local/share/virtualenvs/licentiate-thesis-repo-cz9ujhZI/lib/python3.6/site-packages/sklearn/metrics/_classification.py:873: RuntimeWarning: invalid value encountered in double_scalars\n",
      "  mcc = cov_ytyp / np.sqrt(cov_ytyt * cov_ypyp)\n",
      "/home/belu/.local/share/virtualenvs/licentiate-thesis-repo-cz9ujhZI/lib/python3.6/site-packages/sklearn/metrics/_classification.py:873: RuntimeWarning: invalid value encountered in double_scalars\n",
      "  mcc = cov_ytyp / np.sqrt(cov_ytyt * cov_ypyp)\n",
      "/home/belu/.local/share/virtualenvs/licentiate-thesis-repo-cz9ujhZI/lib/python3.6/site-packages/sklearn/metrics/_classification.py:873: RuntimeWarning: invalid value encountered in double_scalars\n",
      "  mcc = cov_ytyp / np.sqrt(cov_ytyt * cov_ypyp)\n",
      "/home/belu/.local/share/virtualenvs/licentiate-thesis-repo-cz9ujhZI/lib/python3.6/site-packages/sklearn/metrics/_classification.py:873: RuntimeWarning: invalid value encountered in double_scalars\n",
      "  mcc = cov_ytyp / np.sqrt(cov_ytyt * cov_ypyp)\n",
      "/home/belu/.local/share/virtualenvs/licentiate-thesis-repo-cz9ujhZI/lib/python3.6/site-packages/sklearn/metrics/_classification.py:873: RuntimeWarning: invalid value encountered in double_scalars\n",
      "  mcc = cov_ytyp / np.sqrt(cov_ytyt * cov_ypyp)\n",
      "/home/belu/.local/share/virtualenvs/licentiate-thesis-repo-cz9ujhZI/lib/python3.6/site-packages/sklearn/metrics/_classification.py:873: RuntimeWarning: invalid value encountered in double_scalars\n",
      "  mcc = cov_ytyp / np.sqrt(cov_ytyt * cov_ypyp)\n",
      "/home/belu/.local/share/virtualenvs/licentiate-thesis-repo-cz9ujhZI/lib/python3.6/site-packages/sklearn/metrics/_classification.py:873: RuntimeWarning: invalid value encountered in double_scalars\n",
      "  mcc = cov_ytyp / np.sqrt(cov_ytyt * cov_ypyp)\n",
      "/home/belu/.local/share/virtualenvs/licentiate-thesis-repo-cz9ujhZI/lib/python3.6/site-packages/sklearn/metrics/_classification.py:873: RuntimeWarning: invalid value encountered in double_scalars\n",
      "  mcc = cov_ytyp / np.sqrt(cov_ytyt * cov_ypyp)\n",
      "/home/belu/.local/share/virtualenvs/licentiate-thesis-repo-cz9ujhZI/lib/python3.6/site-packages/sklearn/metrics/_classification.py:873: RuntimeWarning: invalid value encountered in double_scalars\n",
      "  mcc = cov_ytyp / np.sqrt(cov_ytyt * cov_ypyp)\n",
      "/home/belu/.local/share/virtualenvs/licentiate-thesis-repo-cz9ujhZI/lib/python3.6/site-packages/sklearn/metrics/_classification.py:873: RuntimeWarning: invalid value encountered in double_scalars\n",
      "  mcc = cov_ytyp / np.sqrt(cov_ytyt * cov_ypyp)\n",
      "/home/belu/.local/share/virtualenvs/licentiate-thesis-repo-cz9ujhZI/lib/python3.6/site-packages/sklearn/metrics/_classification.py:873: RuntimeWarning: invalid value encountered in double_scalars\n",
      "  mcc = cov_ytyp / np.sqrt(cov_ytyt * cov_ypyp)\n",
      "/home/belu/.local/share/virtualenvs/licentiate-thesis-repo-cz9ujhZI/lib/python3.6/site-packages/sklearn/metrics/_classification.py:873: RuntimeWarning: invalid value encountered in double_scalars\n",
      "  mcc = cov_ytyp / np.sqrt(cov_ytyt * cov_ypyp)\n",
      "/home/belu/.local/share/virtualenvs/licentiate-thesis-repo-cz9ujhZI/lib/python3.6/site-packages/sklearn/metrics/_classification.py:873: RuntimeWarning: invalid value encountered in double_scalars\n",
      "  mcc = cov_ytyp / np.sqrt(cov_ytyt * cov_ypyp)\n",
      "/home/belu/.local/share/virtualenvs/licentiate-thesis-repo-cz9ujhZI/lib/python3.6/site-packages/sklearn/metrics/_classification.py:873: RuntimeWarning: invalid value encountered in double_scalars\n",
      "  mcc = cov_ytyp / np.sqrt(cov_ytyt * cov_ypyp)\n",
      "/home/belu/.local/share/virtualenvs/licentiate-thesis-repo-cz9ujhZI/lib/python3.6/site-packages/sklearn/metrics/_classification.py:873: RuntimeWarning: invalid value encountered in double_scalars\n",
      "  mcc = cov_ytyp / np.sqrt(cov_ytyt * cov_ypyp)\n",
      "/home/belu/.local/share/virtualenvs/licentiate-thesis-repo-cz9ujhZI/lib/python3.6/site-packages/sklearn/metrics/_classification.py:873: RuntimeWarning: invalid value encountered in double_scalars\n",
      "  mcc = cov_ytyp / np.sqrt(cov_ytyt * cov_ypyp)\n",
      "/home/belu/.local/share/virtualenvs/licentiate-thesis-repo-cz9ujhZI/lib/python3.6/site-packages/sklearn/metrics/_classification.py:873: RuntimeWarning: invalid value encountered in double_scalars\n",
      "  mcc = cov_ytyp / np.sqrt(cov_ytyt * cov_ypyp)\n",
      "/home/belu/.local/share/virtualenvs/licentiate-thesis-repo-cz9ujhZI/lib/python3.6/site-packages/sklearn/metrics/_classification.py:873: RuntimeWarning: invalid value encountered in double_scalars\n",
      "  mcc = cov_ytyp / np.sqrt(cov_ytyt * cov_ypyp)\n",
      "/home/belu/.local/share/virtualenvs/licentiate-thesis-repo-cz9ujhZI/lib/python3.6/site-packages/sklearn/metrics/_classification.py:873: RuntimeWarning: invalid value encountered in double_scalars\n",
      "  mcc = cov_ytyp / np.sqrt(cov_ytyt * cov_ypyp)\n",
      "/home/belu/.local/share/virtualenvs/licentiate-thesis-repo-cz9ujhZI/lib/python3.6/site-packages/sklearn/metrics/_classification.py:873: RuntimeWarning: invalid value encountered in double_scalars\n",
      "  mcc = cov_ytyp / np.sqrt(cov_ytyt * cov_ypyp)\n",
      "/home/belu/.local/share/virtualenvs/licentiate-thesis-repo-cz9ujhZI/lib/python3.6/site-packages/sklearn/metrics/_classification.py:873: RuntimeWarning: invalid value encountered in double_scalars\n",
      "  mcc = cov_ytyp / np.sqrt(cov_ytyt * cov_ypyp)\n",
      "/home/belu/.local/share/virtualenvs/licentiate-thesis-repo-cz9ujhZI/lib/python3.6/site-packages/sklearn/metrics/_classification.py:873: RuntimeWarning: invalid value encountered in double_scalars\n",
      "  mcc = cov_ytyp / np.sqrt(cov_ytyt * cov_ypyp)\n",
      "/home/belu/.local/share/virtualenvs/licentiate-thesis-repo-cz9ujhZI/lib/python3.6/site-packages/sklearn/metrics/_classification.py:873: RuntimeWarning: invalid value encountered in double_scalars\n",
      "  mcc = cov_ytyp / np.sqrt(cov_ytyt * cov_ypyp)\n",
      "/home/belu/.local/share/virtualenvs/licentiate-thesis-repo-cz9ujhZI/lib/python3.6/site-packages/sklearn/metrics/_classification.py:873: RuntimeWarning: invalid value encountered in double_scalars\n",
      "  mcc = cov_ytyp / np.sqrt(cov_ytyt * cov_ypyp)\n",
      "/home/belu/.local/share/virtualenvs/licentiate-thesis-repo-cz9ujhZI/lib/python3.6/site-packages/sklearn/metrics/_classification.py:873: RuntimeWarning: invalid value encountered in double_scalars\n",
      "  mcc = cov_ytyp / np.sqrt(cov_ytyt * cov_ypyp)\n",
      "/home/belu/.local/share/virtualenvs/licentiate-thesis-repo-cz9ujhZI/lib/python3.6/site-packages/sklearn/metrics/_classification.py:873: RuntimeWarning: invalid value encountered in double_scalars\n",
      "  mcc = cov_ytyp / np.sqrt(cov_ytyt * cov_ypyp)\n",
      "/home/belu/.local/share/virtualenvs/licentiate-thesis-repo-cz9ujhZI/lib/python3.6/site-packages/sklearn/metrics/_classification.py:873: RuntimeWarning: invalid value encountered in double_scalars\n",
      "  mcc = cov_ytyp / np.sqrt(cov_ytyt * cov_ypyp)\n",
      "/home/belu/.local/share/virtualenvs/licentiate-thesis-repo-cz9ujhZI/lib/python3.6/site-packages/sklearn/metrics/_classification.py:873: RuntimeWarning: invalid value encountered in double_scalars\n",
      "  mcc = cov_ytyp / np.sqrt(cov_ytyt * cov_ypyp)\n",
      "/home/belu/.local/share/virtualenvs/licentiate-thesis-repo-cz9ujhZI/lib/python3.6/site-packages/sklearn/metrics/_classification.py:873: RuntimeWarning: invalid value encountered in double_scalars\n",
      "  mcc = cov_ytyp / np.sqrt(cov_ytyt * cov_ypyp)\n",
      "/home/belu/.local/share/virtualenvs/licentiate-thesis-repo-cz9ujhZI/lib/python3.6/site-packages/sklearn/metrics/_classification.py:873: RuntimeWarning: invalid value encountered in double_scalars\n",
      "  mcc = cov_ytyp / np.sqrt(cov_ytyt * cov_ypyp)\n"
     ]
    }
   ],
   "source": [
    "test = {\n",
    "#    \"precision\": {\"micro\", \"macro\", \"average\"},\n",
    " #   \"recall\": {\"micro\", \"macro\", \"average\"},\n",
    "  #  \"f1\":{\"micro\", \"macro\", \"average\"},\n",
    "    \"matthew\": {\"\"}\n",
    "}\n",
    "\n",
    "for data in datasets:\n",
    "    for metric in test.keys():\n",
    "        for average in test[metric]:\n",
    "            add_metric_to(data, metric, average)\n",
    "            "
   ]
  },
  {
   "cell_type": "code",
   "execution_count": 54,
   "metadata": {},
   "outputs": [
    {
     "data": {
      "text/html": [
       "<div>\n",
       "<style scoped>\n",
       "    .dataframe tbody tr th:only-of-type {\n",
       "        vertical-align: middle;\n",
       "    }\n",
       "\n",
       "    .dataframe tbody tr th {\n",
       "        vertical-align: top;\n",
       "    }\n",
       "\n",
       "    .dataframe thead th {\n",
       "        text-align: right;\n",
       "    }\n",
       "</style>\n",
       "<table border=\"1\" class=\"dataframe\">\n",
       "  <thead>\n",
       "    <tr style=\"text-align: right;\">\n",
       "      <th></th>\n",
       "      <th>tn</th>\n",
       "      <th>fp</th>\n",
       "      <th>fn</th>\n",
       "      <th>tp</th>\n",
       "      <th>level</th>\n",
       "      <th>matthew_</th>\n",
       "    </tr>\n",
       "  </thead>\n",
       "  <tbody>\n",
       "    <tr>\n",
       "      <th>1</th>\n",
       "      <td>2078</td>\n",
       "      <td>640</td>\n",
       "      <td>750</td>\n",
       "      <td>737</td>\n",
       "      <td>SOME_CRYSTAL_0</td>\n",
       "      <td>0.265043</td>\n",
       "    </tr>\n",
       "    <tr>\n",
       "      <th>6</th>\n",
       "      <td>3218</td>\n",
       "      <td>729</td>\n",
       "      <td>549</td>\n",
       "      <td>503</td>\n",
       "      <td>SOME_CRYSTAL_0</td>\n",
       "      <td>0.277560</td>\n",
       "    </tr>\n",
       "    <tr>\n",
       "      <th>8</th>\n",
       "      <td>2284</td>\n",
       "      <td>627</td>\n",
       "      <td>544</td>\n",
       "      <td>575</td>\n",
       "      <td>SOME_CRYSTAL_0</td>\n",
       "      <td>0.292168</td>\n",
       "    </tr>\n",
       "    <tr>\n",
       "      <th>2</th>\n",
       "      <td>1381</td>\n",
       "      <td>886</td>\n",
       "      <td>279</td>\n",
       "      <td>745</td>\n",
       "      <td>SOME_CRYSTAL_0</td>\n",
       "      <td>0.311786</td>\n",
       "    </tr>\n",
       "    <tr>\n",
       "      <th>5</th>\n",
       "      <td>3587</td>\n",
       "      <td>549</td>\n",
       "      <td>689</td>\n",
       "      <td>646</td>\n",
       "      <td>SOME_CRYSTAL_0</td>\n",
       "      <td>0.365032</td>\n",
       "    </tr>\n",
       "    <tr>\n",
       "      <th>9</th>\n",
       "      <td>2980</td>\n",
       "      <td>738</td>\n",
       "      <td>449</td>\n",
       "      <td>688</td>\n",
       "      <td>SOME_CRYSTAL_0</td>\n",
       "      <td>0.378065</td>\n",
       "    </tr>\n",
       "    <tr>\n",
       "      <th>7</th>\n",
       "      <td>2878</td>\n",
       "      <td>569</td>\n",
       "      <td>717</td>\n",
       "      <td>824</td>\n",
       "      <td>SOME_CRYSTAL_0</td>\n",
       "      <td>0.380701</td>\n",
       "    </tr>\n",
       "    <tr>\n",
       "      <th>4</th>\n",
       "      <td>2979</td>\n",
       "      <td>603</td>\n",
       "      <td>497</td>\n",
       "      <td>727</td>\n",
       "      <td>SOME_CRYSTAL_0</td>\n",
       "      <td>0.414479</td>\n",
       "    </tr>\n",
       "    <tr>\n",
       "      <th>3</th>\n",
       "      <td>2781</td>\n",
       "      <td>637</td>\n",
       "      <td>605</td>\n",
       "      <td>929</td>\n",
       "      <td>SOME_CRYSTAL_0</td>\n",
       "      <td>0.416891</td>\n",
       "    </tr>\n",
       "    <tr>\n",
       "      <th>0</th>\n",
       "      <td>2726</td>\n",
       "      <td>738</td>\n",
       "      <td>272</td>\n",
       "      <td>997</td>\n",
       "      <td>SOME_CRYSTAL_0</td>\n",
       "      <td>0.526396</td>\n",
       "    </tr>\n",
       "    <tr>\n",
       "      <th>5</th>\n",
       "      <td>3228</td>\n",
       "      <td>172</td>\n",
       "      <td>168</td>\n",
       "      <td>312</td>\n",
       "      <td>FEW_CRYSTAL_2</td>\n",
       "      <td>0.597281</td>\n",
       "    </tr>\n",
       "    <tr>\n",
       "      <th>6</th>\n",
       "      <td>3777</td>\n",
       "      <td>200</td>\n",
       "      <td>224</td>\n",
       "      <td>395</td>\n",
       "      <td>FEW_CRYSTAL_2</td>\n",
       "      <td>0.597774</td>\n",
       "    </tr>\n",
       "    <tr>\n",
       "      <th>7</th>\n",
       "      <td>3839</td>\n",
       "      <td>193</td>\n",
       "      <td>222</td>\n",
       "      <td>405</td>\n",
       "      <td>FEW_CRYSTAL_2</td>\n",
       "      <td>0.610205</td>\n",
       "    </tr>\n",
       "    <tr>\n",
       "      <th>1</th>\n",
       "      <td>3990</td>\n",
       "      <td>182</td>\n",
       "      <td>148</td>\n",
       "      <td>314</td>\n",
       "      <td>FEW_CRYSTAL_2</td>\n",
       "      <td>0.616360</td>\n",
       "    </tr>\n",
       "    <tr>\n",
       "      <th>2</th>\n",
       "      <td>3362</td>\n",
       "      <td>258</td>\n",
       "      <td>203</td>\n",
       "      <td>496</td>\n",
       "      <td>FEW_CRYSTAL_2</td>\n",
       "      <td>0.619316</td>\n",
       "    </tr>\n",
       "    <tr>\n",
       "      <th>3</th>\n",
       "      <td>4319</td>\n",
       "      <td>218</td>\n",
       "      <td>117</td>\n",
       "      <td>332</td>\n",
       "      <td>FEW_CRYSTAL_2</td>\n",
       "      <td>0.631745</td>\n",
       "    </tr>\n",
       "    <tr>\n",
       "      <th>0</th>\n",
       "      <td>3718</td>\n",
       "      <td>209</td>\n",
       "      <td>179</td>\n",
       "      <td>496</td>\n",
       "      <td>FEW_CRYSTAL_2</td>\n",
       "      <td>0.669496</td>\n",
       "    </tr>\n",
       "    <tr>\n",
       "      <th>9</th>\n",
       "      <td>5135</td>\n",
       "      <td>232</td>\n",
       "      <td>124</td>\n",
       "      <td>462</td>\n",
       "      <td>FEW_CRYSTAL_2</td>\n",
       "      <td>0.691732</td>\n",
       "    </tr>\n",
       "    <tr>\n",
       "      <th>4</th>\n",
       "      <td>4001</td>\n",
       "      <td>201</td>\n",
       "      <td>75</td>\n",
       "      <td>372</td>\n",
       "      <td>FEW_CRYSTAL_2</td>\n",
       "      <td>0.703419</td>\n",
       "    </tr>\n",
       "    <tr>\n",
       "      <th>8</th>\n",
       "      <td>3324</td>\n",
       "      <td>86</td>\n",
       "      <td>207</td>\n",
       "      <td>456</td>\n",
       "      <td>FEW_CRYSTAL_2</td>\n",
       "      <td>0.720133</td>\n",
       "    </tr>\n",
       "  </tbody>\n",
       "</table>\n",
       "</div>"
      ],
      "text/plain": [
       "     tn   fp   fn   tp           level  matthew_\n",
       "1  2078  640  750  737  SOME_CRYSTAL_0  0.265043\n",
       "6  3218  729  549  503  SOME_CRYSTAL_0  0.277560\n",
       "8  2284  627  544  575  SOME_CRYSTAL_0  0.292168\n",
       "2  1381  886  279  745  SOME_CRYSTAL_0  0.311786\n",
       "5  3587  549  689  646  SOME_CRYSTAL_0  0.365032\n",
       "9  2980  738  449  688  SOME_CRYSTAL_0  0.378065\n",
       "7  2878  569  717  824  SOME_CRYSTAL_0  0.380701\n",
       "4  2979  603  497  727  SOME_CRYSTAL_0  0.414479\n",
       "3  2781  637  605  929  SOME_CRYSTAL_0  0.416891\n",
       "0  2726  738  272  997  SOME_CRYSTAL_0  0.526396\n",
       "5  3228  172  168  312   FEW_CRYSTAL_2  0.597281\n",
       "6  3777  200  224  395   FEW_CRYSTAL_2  0.597774\n",
       "7  3839  193  222  405   FEW_CRYSTAL_2  0.610205\n",
       "1  3990  182  148  314   FEW_CRYSTAL_2  0.616360\n",
       "2  3362  258  203  496   FEW_CRYSTAL_2  0.619316\n",
       "3  4319  218  117  332   FEW_CRYSTAL_2  0.631745\n",
       "0  3718  209  179  496   FEW_CRYSTAL_2  0.669496\n",
       "9  5135  232  124  462   FEW_CRYSTAL_2  0.691732\n",
       "4  4001  201   75  372   FEW_CRYSTAL_2  0.703419\n",
       "8  3324   86  207  456   FEW_CRYSTAL_2  0.720133"
      ]
     },
     "execution_count": 54,
     "metadata": {},
     "output_type": "execute_result"
    }
   ],
   "source": [
    "datasets[0].sort_values(by=\"matthew_\").tail(20)\n"
   ]
  },
  {
   "cell_type": "code",
   "execution_count": 58,
   "metadata": {},
   "outputs": [
    {
     "data": {
      "text/html": [
       "<div>\n",
       "<style scoped>\n",
       "    .dataframe tbody tr th:only-of-type {\n",
       "        vertical-align: middle;\n",
       "    }\n",
       "\n",
       "    .dataframe tbody tr th {\n",
       "        vertical-align: top;\n",
       "    }\n",
       "\n",
       "    .dataframe thead th {\n",
       "        text-align: right;\n",
       "    }\n",
       "</style>\n",
       "<table border=\"1\" class=\"dataframe\">\n",
       "  <thead>\n",
       "    <tr style=\"text-align: right;\">\n",
       "      <th></th>\n",
       "      <th>tn</th>\n",
       "      <th>fp</th>\n",
       "      <th>fn</th>\n",
       "      <th>tp</th>\n",
       "      <th>level</th>\n",
       "      <th>precision_average</th>\n",
       "      <th>precision_micro</th>\n",
       "      <th>precision_macro</th>\n",
       "      <th>recall_average</th>\n",
       "      <th>recall_micro</th>\n",
       "      <th>recall_macro</th>\n",
       "      <th>f1_average</th>\n",
       "      <th>f1_micro</th>\n",
       "      <th>f1_macro</th>\n",
       "      <th>mattew__not_used_</th>\n",
       "      <th>matthew__not_used_</th>\n",
       "    </tr>\n",
       "  </thead>\n",
       "  <tbody>\n",
       "    <tr>\n",
       "      <th>3</th>\n",
       "      <td>2082</td>\n",
       "      <td>0</td>\n",
       "      <td>2920</td>\n",
       "      <td>0</td>\n",
       "      <td>NO_CRYSTAL_0</td>\n",
       "      <td>0.208117</td>\n",
       "      <td>0.416234</td>\n",
       "      <td>0.208117</td>\n",
       "      <td>0.500000</td>\n",
       "      <td>0.416234</td>\n",
       "      <td>0.500000</td>\n",
       "      <td>0.293902</td>\n",
       "      <td>0.416234</td>\n",
       "      <td>0.293902</td>\n",
       "      <td>0.293902</td>\n",
       "      <td>0.000000</td>\n",
       "    </tr>\n",
       "    <tr>\n",
       "      <th>2</th>\n",
       "      <td>4024</td>\n",
       "      <td>554</td>\n",
       "      <td>601</td>\n",
       "      <td>879</td>\n",
       "      <td>SOME_CRYSTAL_0</td>\n",
       "      <td>0.741726</td>\n",
       "      <td>0.809343</td>\n",
       "      <td>0.741726</td>\n",
       "      <td>0.736453</td>\n",
       "      <td>0.809343</td>\n",
       "      <td>0.736453</td>\n",
       "      <td>0.738999</td>\n",
       "      <td>0.809343</td>\n",
       "      <td>0.738999</td>\n",
       "      <td>0.738999</td>\n",
       "      <td>0.478150</td>\n",
       "    </tr>\n",
       "    <tr>\n",
       "      <th>1</th>\n",
       "      <td>4366</td>\n",
       "      <td>678</td>\n",
       "      <td>835</td>\n",
       "      <td>832</td>\n",
       "      <td>SOME_CRYSTAL_0</td>\n",
       "      <td>0.695224</td>\n",
       "      <td>0.774549</td>\n",
       "      <td>0.695224</td>\n",
       "      <td>0.682342</td>\n",
       "      <td>0.774549</td>\n",
       "      <td>0.682342</td>\n",
       "      <td>0.688041</td>\n",
       "      <td>0.774549</td>\n",
       "      <td>0.688041</td>\n",
       "      <td>0.688041</td>\n",
       "      <td>0.377345</td>\n",
       "    </tr>\n",
       "    <tr>\n",
       "      <th>3</th>\n",
       "      <td>3845</td>\n",
       "      <td>341</td>\n",
       "      <td>127</td>\n",
       "      <td>0</td>\n",
       "      <td>FEW_CRYSTAL_1</td>\n",
       "      <td>0.484013</td>\n",
       "      <td>0.891491</td>\n",
       "      <td>0.484013</td>\n",
       "      <td>0.459269</td>\n",
       "      <td>0.891491</td>\n",
       "      <td>0.459269</td>\n",
       "      <td>0.471316</td>\n",
       "      <td>0.891491</td>\n",
       "      <td>0.471316</td>\n",
       "      <td>0.471316</td>\n",
       "      <td>-0.051036</td>\n",
       "    </tr>\n",
       "    <tr>\n",
       "      <th>9</th>\n",
       "      <td>5040</td>\n",
       "      <td>497</td>\n",
       "      <td>587</td>\n",
       "      <td>0</td>\n",
       "      <td>FEW_CRYSTAL_0</td>\n",
       "      <td>0.447841</td>\n",
       "      <td>0.822992</td>\n",
       "      <td>0.447841</td>\n",
       "      <td>0.455120</td>\n",
       "      <td>0.822992</td>\n",
       "      <td>0.455120</td>\n",
       "      <td>0.451451</td>\n",
       "      <td>0.822992</td>\n",
       "      <td>0.451451</td>\n",
       "      <td>0.451451</td>\n",
       "      <td>-0.096766</td>\n",
       "    </tr>\n",
       "    <tr>\n",
       "      <th>2</th>\n",
       "      <td>3073</td>\n",
       "      <td>831</td>\n",
       "      <td>1685</td>\n",
       "      <td>0</td>\n",
       "      <td>SOME_CRYSTAL_1</td>\n",
       "      <td>0.322930</td>\n",
       "      <td>0.549830</td>\n",
       "      <td>0.322930</td>\n",
       "      <td>0.393571</td>\n",
       "      <td>0.549830</td>\n",
       "      <td>0.393571</td>\n",
       "      <td>0.354768</td>\n",
       "      <td>0.549830</td>\n",
       "      <td>0.354768</td>\n",
       "      <td>0.354768</td>\n",
       "      <td>-0.274558</td>\n",
       "    </tr>\n",
       "    <tr>\n",
       "      <th>8</th>\n",
       "      <td>3636</td>\n",
       "      <td>191</td>\n",
       "      <td>226</td>\n",
       "      <td>550</td>\n",
       "      <td>FEW_CRYSTAL_2</td>\n",
       "      <td>0.841861</td>\n",
       "      <td>0.909407</td>\n",
       "      <td>0.841861</td>\n",
       "      <td>0.829427</td>\n",
       "      <td>0.909407</td>\n",
       "      <td>0.829427</td>\n",
       "      <td>0.835441</td>\n",
       "      <td>0.909407</td>\n",
       "      <td>0.835441</td>\n",
       "      <td>0.835441</td>\n",
       "      <td>0.671173</td>\n",
       "    </tr>\n",
       "    <tr>\n",
       "      <th>7</th>\n",
       "      <td>2765</td>\n",
       "      <td>422</td>\n",
       "      <td>197</td>\n",
       "      <td>0</td>\n",
       "      <td>FEW_CRYSTAL_1</td>\n",
       "      <td>0.466745</td>\n",
       "      <td>0.817080</td>\n",
       "      <td>0.466745</td>\n",
       "      <td>0.433794</td>\n",
       "      <td>0.817080</td>\n",
       "      <td>0.433794</td>\n",
       "      <td>0.449667</td>\n",
       "      <td>0.817080</td>\n",
       "      <td>0.449667</td>\n",
       "      <td>0.449667</td>\n",
       "      <td>-0.093844</td>\n",
       "    </tr>\n",
       "    <tr>\n",
       "      <th>6</th>\n",
       "      <td>3266</td>\n",
       "      <td>0</td>\n",
       "      <td>2460</td>\n",
       "      <td>0</td>\n",
       "      <td>NO_CRYSTAL_0</td>\n",
       "      <td>0.285190</td>\n",
       "      <td>0.570381</td>\n",
       "      <td>0.285190</td>\n",
       "      <td>0.500000</td>\n",
       "      <td>0.570381</td>\n",
       "      <td>0.500000</td>\n",
       "      <td>0.363212</td>\n",
       "      <td>0.570381</td>\n",
       "      <td>0.363212</td>\n",
       "      <td>0.363212</td>\n",
       "      <td>0.000000</td>\n",
       "    </tr>\n",
       "    <tr>\n",
       "      <th>4</th>\n",
       "      <td>3441</td>\n",
       "      <td>958</td>\n",
       "      <td>1134</td>\n",
       "      <td>0</td>\n",
       "      <td>SOME_CRYSTAL_1</td>\n",
       "      <td>0.376066</td>\n",
       "      <td>0.621905</td>\n",
       "      <td>0.376066</td>\n",
       "      <td>0.391112</td>\n",
       "      <td>0.621905</td>\n",
       "      <td>0.391112</td>\n",
       "      <td>0.383441</td>\n",
       "      <td>0.621905</td>\n",
       "      <td>0.383441</td>\n",
       "      <td>0.383441</td>\n",
       "      <td>-0.232336</td>\n",
       "    </tr>\n",
       "    <tr>\n",
       "      <th>1</th>\n",
       "      <td>4767</td>\n",
       "      <td>0</td>\n",
       "      <td>0</td>\n",
       "      <td>0</td>\n",
       "      <td>NO_CRYSTAL_1</td>\n",
       "      <td>0.500000</td>\n",
       "      <td>1.000000</td>\n",
       "      <td>0.500000</td>\n",
       "      <td>0.500000</td>\n",
       "      <td>1.000000</td>\n",
       "      <td>0.500000</td>\n",
       "      <td>0.500000</td>\n",
       "      <td>1.000000</td>\n",
       "      <td>0.500000</td>\n",
       "      <td>0.500000</td>\n",
       "      <td>0.000000</td>\n",
       "    </tr>\n",
       "    <tr>\n",
       "      <th>8</th>\n",
       "      <td>4845</td>\n",
       "      <td>524</td>\n",
       "      <td>775</td>\n",
       "      <td>0</td>\n",
       "      <td>FEW_CRYSTAL_0</td>\n",
       "      <td>0.431050</td>\n",
       "      <td>0.788574</td>\n",
       "      <td>0.431050</td>\n",
       "      <td>0.451201</td>\n",
       "      <td>0.788574</td>\n",
       "      <td>0.451201</td>\n",
       "      <td>0.440895</td>\n",
       "      <td>0.788574</td>\n",
       "      <td>0.440895</td>\n",
       "      <td>0.440895</td>\n",
       "      <td>-0.116012</td>\n",
       "    </tr>\n",
       "    <tr>\n",
       "      <th>0</th>\n",
       "      <td>2292</td>\n",
       "      <td>516</td>\n",
       "      <td>1444</td>\n",
       "      <td>0</td>\n",
       "      <td>SOME_CRYSTAL_2</td>\n",
       "      <td>0.306745</td>\n",
       "      <td>0.539040</td>\n",
       "      <td>0.306745</td>\n",
       "      <td>0.408120</td>\n",
       "      <td>0.539040</td>\n",
       "      <td>0.408120</td>\n",
       "      <td>0.350244</td>\n",
       "      <td>0.539040</td>\n",
       "      <td>0.350244</td>\n",
       "      <td>0.350244</td>\n",
       "      <td>-0.266506</td>\n",
       "    </tr>\n",
       "    <tr>\n",
       "      <th>0</th>\n",
       "      <td>3763</td>\n",
       "      <td>589</td>\n",
       "      <td>381</td>\n",
       "      <td>0</td>\n",
       "      <td>FEW_CRYSTAL_0</td>\n",
       "      <td>0.454030</td>\n",
       "      <td>0.795056</td>\n",
       "      <td>0.454030</td>\n",
       "      <td>0.432330</td>\n",
       "      <td>0.795056</td>\n",
       "      <td>0.432330</td>\n",
       "      <td>0.442914</td>\n",
       "      <td>0.795056</td>\n",
       "      <td>0.442914</td>\n",
       "      <td>0.442914</td>\n",
       "      <td>-0.111549</td>\n",
       "    </tr>\n",
       "    <tr>\n",
       "      <th>9</th>\n",
       "      <td>2314</td>\n",
       "      <td>0</td>\n",
       "      <td>1840</td>\n",
       "      <td>0</td>\n",
       "      <td>NO_CRYSTAL_0</td>\n",
       "      <td>0.278527</td>\n",
       "      <td>0.557053</td>\n",
       "      <td>0.278527</td>\n",
       "      <td>0.500000</td>\n",
       "      <td>0.557053</td>\n",
       "      <td>0.500000</td>\n",
       "      <td>0.357761</td>\n",
       "      <td>0.557053</td>\n",
       "      <td>0.357761</td>\n",
       "      <td>0.357761</td>\n",
       "      <td>0.000000</td>\n",
       "    </tr>\n",
       "  </tbody>\n",
       "</table>\n",
       "</div>"
      ],
      "text/plain": [
       "     tn   fp    fn   tp           level  precision_average  precision_micro  \\\n",
       "3  2082    0  2920    0    NO_CRYSTAL_0           0.208117         0.416234   \n",
       "2  4024  554   601  879  SOME_CRYSTAL_0           0.741726         0.809343   \n",
       "1  4366  678   835  832  SOME_CRYSTAL_0           0.695224         0.774549   \n",
       "3  3845  341   127    0   FEW_CRYSTAL_1           0.484013         0.891491   \n",
       "9  5040  497   587    0   FEW_CRYSTAL_0           0.447841         0.822992   \n",
       "2  3073  831  1685    0  SOME_CRYSTAL_1           0.322930         0.549830   \n",
       "8  3636  191   226  550   FEW_CRYSTAL_2           0.841861         0.909407   \n",
       "7  2765  422   197    0   FEW_CRYSTAL_1           0.466745         0.817080   \n",
       "6  3266    0  2460    0    NO_CRYSTAL_0           0.285190         0.570381   \n",
       "4  3441  958  1134    0  SOME_CRYSTAL_1           0.376066         0.621905   \n",
       "1  4767    0     0    0    NO_CRYSTAL_1           0.500000         1.000000   \n",
       "8  4845  524   775    0   FEW_CRYSTAL_0           0.431050         0.788574   \n",
       "0  2292  516  1444    0  SOME_CRYSTAL_2           0.306745         0.539040   \n",
       "0  3763  589   381    0   FEW_CRYSTAL_0           0.454030         0.795056   \n",
       "9  2314    0  1840    0    NO_CRYSTAL_0           0.278527         0.557053   \n",
       "\n",
       "   precision_macro  recall_average  recall_micro  recall_macro  f1_average  \\\n",
       "3         0.208117        0.500000      0.416234      0.500000    0.293902   \n",
       "2         0.741726        0.736453      0.809343      0.736453    0.738999   \n",
       "1         0.695224        0.682342      0.774549      0.682342    0.688041   \n",
       "3         0.484013        0.459269      0.891491      0.459269    0.471316   \n",
       "9         0.447841        0.455120      0.822992      0.455120    0.451451   \n",
       "2         0.322930        0.393571      0.549830      0.393571    0.354768   \n",
       "8         0.841861        0.829427      0.909407      0.829427    0.835441   \n",
       "7         0.466745        0.433794      0.817080      0.433794    0.449667   \n",
       "6         0.285190        0.500000      0.570381      0.500000    0.363212   \n",
       "4         0.376066        0.391112      0.621905      0.391112    0.383441   \n",
       "1         0.500000        0.500000      1.000000      0.500000    0.500000   \n",
       "8         0.431050        0.451201      0.788574      0.451201    0.440895   \n",
       "0         0.306745        0.408120      0.539040      0.408120    0.350244   \n",
       "0         0.454030        0.432330      0.795056      0.432330    0.442914   \n",
       "9         0.278527        0.500000      0.557053      0.500000    0.357761   \n",
       "\n",
       "   f1_micro  f1_macro  mattew__not_used_  matthew__not_used_  \n",
       "3  0.416234  0.293902           0.293902            0.000000  \n",
       "2  0.809343  0.738999           0.738999            0.478150  \n",
       "1  0.774549  0.688041           0.688041            0.377345  \n",
       "3  0.891491  0.471316           0.471316           -0.051036  \n",
       "9  0.822992  0.451451           0.451451           -0.096766  \n",
       "2  0.549830  0.354768           0.354768           -0.274558  \n",
       "8  0.909407  0.835441           0.835441            0.671173  \n",
       "7  0.817080  0.449667           0.449667           -0.093844  \n",
       "6  0.570381  0.363212           0.363212            0.000000  \n",
       "4  0.621905  0.383441           0.383441           -0.232336  \n",
       "1  1.000000  0.500000           0.500000            0.000000  \n",
       "8  0.788574  0.440895           0.440895           -0.116012  \n",
       "0  0.539040  0.350244           0.350244           -0.266506  \n",
       "0  0.795056  0.442914           0.442914           -0.111549  \n",
       "9  0.557053  0.357761           0.357761            0.000000  "
      ]
     },
     "execution_count": 58,
     "metadata": {},
     "output_type": "execute_result"
    }
   ],
   "source": [
    "datasets[0].sample(15)\n"
   ]
  },
  {
   "cell_type": "code",
   "execution_count": 59,
   "metadata": {},
   "outputs": [],
   "source": [
    "import plotly.express as px\n",
    "\n",
    "def scatter_plotly(df, x, y, groupby):\n",
    "    fig = px.scatter(df, x=x, y=y, color=groupby, symbol=groupby)\n",
    "    fig.update_layout(\n",
    "        margin=dict(l=20, r=20, t=20, b=20),\n",
    "    )\n",
    "    fig.show()\n"
   ]
  },
  {
   "cell_type": "code",
   "execution_count": 60,
   "metadata": {},
   "outputs": [
    {
     "data": {
      "application/vnd.plotly.v1+json": {
       "config": {
        "plotlyServerURL": "https://plot.ly"
       },
       "data": [
        {
         "hovertemplate": "level=NO_CRYSTAL_0<br>precision_macro=%{x}<br>recall_macro=%{y}<extra></extra>",
         "legendgroup": "NO_CRYSTAL_0",
         "marker": {
          "color": "#636efa",
          "symbol": "circle"
         },
         "mode": "markers",
         "name": "NO_CRYSTAL_0",
         "orientation": "v",
         "showlegend": true,
         "type": "scatter",
         "x": [
          0.3084334618000453,
          0.2838324333169694,
          0.3986900485949715,
          0.20811675329868054,
          0.3208955223880597,
          0.27294163882884653,
          0.2851903597624869,
          0.29360739204224023,
          0.24890661178286597,
          0.27852672123254696
         ],
         "xaxis": "x",
         "y": [
          0.5,
          0.5,
          0.5,
          0.5,
          0.5,
          0.5,
          0.5,
          0.5,
          0.5,
          0.5
         ],
         "yaxis": "y"
        },
        {
         "hovertemplate": "level=NO_CRYSTAL_1<br>precision_macro=%{x}<br>recall_macro=%{y}<extra></extra>",
         "legendgroup": "NO_CRYSTAL_1",
         "marker": {
          "color": "#EF553B",
          "symbol": "diamond"
         },
         "mode": "markers",
         "name": "NO_CRYSTAL_1",
         "orientation": "v",
         "showlegend": true,
         "type": "scatter",
         "x": [
          0.5,
          0.5,
          0.5,
          0.5,
          0.5,
          0.5,
          0.5,
          0.5,
          0.5,
          0.5
         ],
         "xaxis": "x",
         "y": [
          0.5,
          0.5,
          0.5,
          0.5,
          0.5,
          0.5,
          0.5,
          0.5,
          0.5,
          0.5
         ],
         "yaxis": "y"
        },
        {
         "hovertemplate": "level=FEW_CRYSTAL_0<br>precision_macro=%{x}<br>recall_macro=%{y}<extra></extra>",
         "legendgroup": "FEW_CRYSTAL_0",
         "marker": {
          "color": "#00cc96",
          "symbol": "square"
         },
         "mode": "markers",
         "name": "FEW_CRYSTAL_0",
         "orientation": "v",
         "showlegend": true,
         "type": "scatter",
         "x": [
          0.45402992277992277,
          0.4355598372939413,
          0.4377502001601281,
          0.37540387722132473,
          0.42258913615697535,
          0.43281653746770027,
          0.40380047505938244,
          0.41828112118713934,
          0.43104982206405695,
          0.4478407677270304
         ],
         "xaxis": "x",
         "y": [
          0.4323299632352941,
          0.45719101123595507,
          0.4560050041701418,
          0.3933559035124841,
          0.44472425081843364,
          0.4636036534735677,
          0.41119557705597787,
          0.45484087852980726,
          0.4512013410318495,
          0.45512010113780027
         ],
         "yaxis": "y"
        },
        {
         "hovertemplate": "level=FEW_CRYSTAL_1<br>precision_macro=%{x}<br>recall_macro=%{y}<extra></extra>",
         "legendgroup": "FEW_CRYSTAL_1",
         "marker": {
          "color": "#ab63fa",
          "symbol": "x"
         },
         "mode": "markers",
         "name": "FEW_CRYSTAL_1",
         "orientation": "v",
         "showlegend": true,
         "type": "scatter",
         "x": [
          0.4778846153846154,
          0.47721989772198975,
          0.4843850267379679,
          0.4840130916414904,
          0.4658656471873293,
          0.48434646490999217,
          0.4703603254552499,
          0.4667454422687373,
          0.47760617760617763,
          0.4773035230352303
         ],
         "xaxis": "x",
         "y": [
          0.43325031133250314,
          0.4447573656845754,
          0.45627644569816644,
          0.45926899187768755,
          0.43777264562483964,
          0.45558282208588957,
          0.4351254480286738,
          0.433793536240979,
          0.4432632584806498,
          0.4516990810002137
         ],
         "yaxis": "y"
        },
        {
         "hovertemplate": "level=FEW_CRYSTAL_2<br>precision_macro=%{x}<br>recall_macro=%{y}<extra></extra>",
         "legendgroup": "FEW_CRYSTAL_2",
         "marker": {
          "color": "#FFA15A",
          "symbol": "cross"
         },
         "mode": "markers",
         "name": "FEW_CRYSTAL_2",
         "orientation": "v",
         "showlegend": true,
         "type": "scatter",
         "x": [
          0.8901366382626056,
          0.7938361081749701,
          0.7852827424689872,
          0.6925485846176255,
          0.7468695064650741,
          0.843649676147564,
          0.8457267634060619,
          0.8086587844652361,
          0.8418606569005871,
          0.8212844277289533
         ],
         "xaxis": "x",
         "y": [
          0.8722553960940269,
          0.7784394107123273,
          0.7896858670987119,
          0.6794564043323185,
          0.7660733964930366,
          0.8468993252677608,
          0.8636315759936428,
          0.8039461702066976,
          0.829427171023035,
          0.8108269080828208
         ],
         "yaxis": "y"
        },
        {
         "hovertemplate": "level=SOME_CRYSTAL_0<br>precision_macro=%{x}<br>recall_macro=%{y}<extra></extra>",
         "legendgroup": "SOME_CRYSTAL_0",
         "marker": {
          "color": "#19d3f3",
          "symbol": "circle"
         },
         "mode": "markers",
         "name": "SOME_CRYSTAL_0",
         "orientation": "v",
         "showlegend": true,
         "type": "scatter",
         "x": [
          0.6720157867389331,
          0.6952236643233407,
          0.7417262594066502,
          0.6833081408171957,
          0.6746056016698219,
          0.6849151870741778,
          0.7711478820291531,
          0.7364395902099317,
          0.6393530268847527,
          0.6502511805051132
         ],
         "xaxis": "x",
         "y": [
          0.644730373895513,
          0.6823415253507585,
          0.7364526879435136,
          0.6954510400963227,
          0.6747216247670896,
          0.744995014360258,
          0.7660660312454102,
          0.7115958202754253,
          0.6349641237488833,
          0.6520999634223196
         ],
         "yaxis": "y"
        },
        {
         "hovertemplate": "level=SOME_CRYSTAL_1<br>precision_macro=%{x}<br>recall_macro=%{y}<extra></extra>",
         "legendgroup": "SOME_CRYSTAL_1",
         "marker": {
          "color": "#FF6692",
          "symbol": "diamond"
         },
         "mode": "markers",
         "name": "SOME_CRYSTAL_1",
         "orientation": "v",
         "showlegend": true,
         "type": "scatter",
         "x": [
          0.32930972818311877,
          0.21831210191082803,
          0.3229298024379992,
          0.3119971604353999,
          0.3760655737704918,
          0.1541698546289212,
          0.21800831906043552,
          0.3012562814070352,
          0.35570258349086326,
          0.3885356849876948
         ],
         "xaxis": "x",
         "y": [
          0.43834801237800525,
          0.3124430264357338,
          0.39357069672131145,
          0.3673725271663416,
          0.3911116162764265,
          0.3168238993710692,
          0.3438826707834813,
          0.3612533895751732,
          0.39065743944636677,
          0.4317456700091158
         ],
         "yaxis": "y"
        },
        {
         "hovertemplate": "level=SOME_CRYSTAL_2<br>precision_macro=%{x}<br>recall_macro=%{y}<extra></extra>",
         "legendgroup": "SOME_CRYSTAL_2",
         "marker": {
          "color": "#B6E880",
          "symbol": "square"
         },
         "mode": "markers",
         "name": "SOME_CRYSTAL_2",
         "orientation": "v",
         "showlegend": true,
         "type": "scatter",
         "x": [
          0.30674518201284795,
          0.28713400299209235,
          0.30594960829980944,
          0.19572072072072072,
          0.28768197088465847,
          0.27881484697199915,
          0.37595419847328243,
          0.2854462051709758,
          0.2735034347399411,
          0.28293483356774496
         ],
         "xaxis": "x",
         "y": [
          0.4081196581196581,
          0.3719545957918051,
          0.39138678223185264,
          0.33852746396571876,
          0.3811572700296736,
          0.3695339470655926,
          0.4340076106549169,
          0.45376201524693405,
          0.41423900118906065,
          0.4054417198522002
         ],
         "yaxis": "y"
        }
       ],
       "layout": {
        "legend": {
         "title": {
          "text": "level"
         },
         "tracegroupgap": 0
        },
        "margin": {
         "b": 20,
         "l": 20,
         "r": 20,
         "t": 20
        },
        "template": {
         "data": {
          "bar": [
           {
            "error_x": {
             "color": "#2a3f5f"
            },
            "error_y": {
             "color": "#2a3f5f"
            },
            "marker": {
             "line": {
              "color": "#E5ECF6",
              "width": 0.5
             },
             "pattern": {
              "fillmode": "overlay",
              "size": 10,
              "solidity": 0.2
             }
            },
            "type": "bar"
           }
          ],
          "barpolar": [
           {
            "marker": {
             "line": {
              "color": "#E5ECF6",
              "width": 0.5
             },
             "pattern": {
              "fillmode": "overlay",
              "size": 10,
              "solidity": 0.2
             }
            },
            "type": "barpolar"
           }
          ],
          "carpet": [
           {
            "aaxis": {
             "endlinecolor": "#2a3f5f",
             "gridcolor": "white",
             "linecolor": "white",
             "minorgridcolor": "white",
             "startlinecolor": "#2a3f5f"
            },
            "baxis": {
             "endlinecolor": "#2a3f5f",
             "gridcolor": "white",
             "linecolor": "white",
             "minorgridcolor": "white",
             "startlinecolor": "#2a3f5f"
            },
            "type": "carpet"
           }
          ],
          "choropleth": [
           {
            "colorbar": {
             "outlinewidth": 0,
             "ticks": ""
            },
            "type": "choropleth"
           }
          ],
          "contour": [
           {
            "colorbar": {
             "outlinewidth": 0,
             "ticks": ""
            },
            "colorscale": [
             [
              0,
              "#0d0887"
             ],
             [
              0.1111111111111111,
              "#46039f"
             ],
             [
              0.2222222222222222,
              "#7201a8"
             ],
             [
              0.3333333333333333,
              "#9c179e"
             ],
             [
              0.4444444444444444,
              "#bd3786"
             ],
             [
              0.5555555555555556,
              "#d8576b"
             ],
             [
              0.6666666666666666,
              "#ed7953"
             ],
             [
              0.7777777777777778,
              "#fb9f3a"
             ],
             [
              0.8888888888888888,
              "#fdca26"
             ],
             [
              1,
              "#f0f921"
             ]
            ],
            "type": "contour"
           }
          ],
          "contourcarpet": [
           {
            "colorbar": {
             "outlinewidth": 0,
             "ticks": ""
            },
            "type": "contourcarpet"
           }
          ],
          "heatmap": [
           {
            "colorbar": {
             "outlinewidth": 0,
             "ticks": ""
            },
            "colorscale": [
             [
              0,
              "#0d0887"
             ],
             [
              0.1111111111111111,
              "#46039f"
             ],
             [
              0.2222222222222222,
              "#7201a8"
             ],
             [
              0.3333333333333333,
              "#9c179e"
             ],
             [
              0.4444444444444444,
              "#bd3786"
             ],
             [
              0.5555555555555556,
              "#d8576b"
             ],
             [
              0.6666666666666666,
              "#ed7953"
             ],
             [
              0.7777777777777778,
              "#fb9f3a"
             ],
             [
              0.8888888888888888,
              "#fdca26"
             ],
             [
              1,
              "#f0f921"
             ]
            ],
            "type": "heatmap"
           }
          ],
          "heatmapgl": [
           {
            "colorbar": {
             "outlinewidth": 0,
             "ticks": ""
            },
            "colorscale": [
             [
              0,
              "#0d0887"
             ],
             [
              0.1111111111111111,
              "#46039f"
             ],
             [
              0.2222222222222222,
              "#7201a8"
             ],
             [
              0.3333333333333333,
              "#9c179e"
             ],
             [
              0.4444444444444444,
              "#bd3786"
             ],
             [
              0.5555555555555556,
              "#d8576b"
             ],
             [
              0.6666666666666666,
              "#ed7953"
             ],
             [
              0.7777777777777778,
              "#fb9f3a"
             ],
             [
              0.8888888888888888,
              "#fdca26"
             ],
             [
              1,
              "#f0f921"
             ]
            ],
            "type": "heatmapgl"
           }
          ],
          "histogram": [
           {
            "marker": {
             "pattern": {
              "fillmode": "overlay",
              "size": 10,
              "solidity": 0.2
             }
            },
            "type": "histogram"
           }
          ],
          "histogram2d": [
           {
            "colorbar": {
             "outlinewidth": 0,
             "ticks": ""
            },
            "colorscale": [
             [
              0,
              "#0d0887"
             ],
             [
              0.1111111111111111,
              "#46039f"
             ],
             [
              0.2222222222222222,
              "#7201a8"
             ],
             [
              0.3333333333333333,
              "#9c179e"
             ],
             [
              0.4444444444444444,
              "#bd3786"
             ],
             [
              0.5555555555555556,
              "#d8576b"
             ],
             [
              0.6666666666666666,
              "#ed7953"
             ],
             [
              0.7777777777777778,
              "#fb9f3a"
             ],
             [
              0.8888888888888888,
              "#fdca26"
             ],
             [
              1,
              "#f0f921"
             ]
            ],
            "type": "histogram2d"
           }
          ],
          "histogram2dcontour": [
           {
            "colorbar": {
             "outlinewidth": 0,
             "ticks": ""
            },
            "colorscale": [
             [
              0,
              "#0d0887"
             ],
             [
              0.1111111111111111,
              "#46039f"
             ],
             [
              0.2222222222222222,
              "#7201a8"
             ],
             [
              0.3333333333333333,
              "#9c179e"
             ],
             [
              0.4444444444444444,
              "#bd3786"
             ],
             [
              0.5555555555555556,
              "#d8576b"
             ],
             [
              0.6666666666666666,
              "#ed7953"
             ],
             [
              0.7777777777777778,
              "#fb9f3a"
             ],
             [
              0.8888888888888888,
              "#fdca26"
             ],
             [
              1,
              "#f0f921"
             ]
            ],
            "type": "histogram2dcontour"
           }
          ],
          "mesh3d": [
           {
            "colorbar": {
             "outlinewidth": 0,
             "ticks": ""
            },
            "type": "mesh3d"
           }
          ],
          "parcoords": [
           {
            "line": {
             "colorbar": {
              "outlinewidth": 0,
              "ticks": ""
             }
            },
            "type": "parcoords"
           }
          ],
          "pie": [
           {
            "automargin": true,
            "type": "pie"
           }
          ],
          "scatter": [
           {
            "marker": {
             "colorbar": {
              "outlinewidth": 0,
              "ticks": ""
             }
            },
            "type": "scatter"
           }
          ],
          "scatter3d": [
           {
            "line": {
             "colorbar": {
              "outlinewidth": 0,
              "ticks": ""
             }
            },
            "marker": {
             "colorbar": {
              "outlinewidth": 0,
              "ticks": ""
             }
            },
            "type": "scatter3d"
           }
          ],
          "scattercarpet": [
           {
            "marker": {
             "colorbar": {
              "outlinewidth": 0,
              "ticks": ""
             }
            },
            "type": "scattercarpet"
           }
          ],
          "scattergeo": [
           {
            "marker": {
             "colorbar": {
              "outlinewidth": 0,
              "ticks": ""
             }
            },
            "type": "scattergeo"
           }
          ],
          "scattergl": [
           {
            "marker": {
             "colorbar": {
              "outlinewidth": 0,
              "ticks": ""
             }
            },
            "type": "scattergl"
           }
          ],
          "scattermapbox": [
           {
            "marker": {
             "colorbar": {
              "outlinewidth": 0,
              "ticks": ""
             }
            },
            "type": "scattermapbox"
           }
          ],
          "scatterpolar": [
           {
            "marker": {
             "colorbar": {
              "outlinewidth": 0,
              "ticks": ""
             }
            },
            "type": "scatterpolar"
           }
          ],
          "scatterpolargl": [
           {
            "marker": {
             "colorbar": {
              "outlinewidth": 0,
              "ticks": ""
             }
            },
            "type": "scatterpolargl"
           }
          ],
          "scatterternary": [
           {
            "marker": {
             "colorbar": {
              "outlinewidth": 0,
              "ticks": ""
             }
            },
            "type": "scatterternary"
           }
          ],
          "surface": [
           {
            "colorbar": {
             "outlinewidth": 0,
             "ticks": ""
            },
            "colorscale": [
             [
              0,
              "#0d0887"
             ],
             [
              0.1111111111111111,
              "#46039f"
             ],
             [
              0.2222222222222222,
              "#7201a8"
             ],
             [
              0.3333333333333333,
              "#9c179e"
             ],
             [
              0.4444444444444444,
              "#bd3786"
             ],
             [
              0.5555555555555556,
              "#d8576b"
             ],
             [
              0.6666666666666666,
              "#ed7953"
             ],
             [
              0.7777777777777778,
              "#fb9f3a"
             ],
             [
              0.8888888888888888,
              "#fdca26"
             ],
             [
              1,
              "#f0f921"
             ]
            ],
            "type": "surface"
           }
          ],
          "table": [
           {
            "cells": {
             "fill": {
              "color": "#EBF0F8"
             },
             "line": {
              "color": "white"
             }
            },
            "header": {
             "fill": {
              "color": "#C8D4E3"
             },
             "line": {
              "color": "white"
             }
            },
            "type": "table"
           }
          ]
         },
         "layout": {
          "annotationdefaults": {
           "arrowcolor": "#2a3f5f",
           "arrowhead": 0,
           "arrowwidth": 1
          },
          "autotypenumbers": "strict",
          "coloraxis": {
           "colorbar": {
            "outlinewidth": 0,
            "ticks": ""
           }
          },
          "colorscale": {
           "diverging": [
            [
             0,
             "#8e0152"
            ],
            [
             0.1,
             "#c51b7d"
            ],
            [
             0.2,
             "#de77ae"
            ],
            [
             0.3,
             "#f1b6da"
            ],
            [
             0.4,
             "#fde0ef"
            ],
            [
             0.5,
             "#f7f7f7"
            ],
            [
             0.6,
             "#e6f5d0"
            ],
            [
             0.7,
             "#b8e186"
            ],
            [
             0.8,
             "#7fbc41"
            ],
            [
             0.9,
             "#4d9221"
            ],
            [
             1,
             "#276419"
            ]
           ],
           "sequential": [
            [
             0,
             "#0d0887"
            ],
            [
             0.1111111111111111,
             "#46039f"
            ],
            [
             0.2222222222222222,
             "#7201a8"
            ],
            [
             0.3333333333333333,
             "#9c179e"
            ],
            [
             0.4444444444444444,
             "#bd3786"
            ],
            [
             0.5555555555555556,
             "#d8576b"
            ],
            [
             0.6666666666666666,
             "#ed7953"
            ],
            [
             0.7777777777777778,
             "#fb9f3a"
            ],
            [
             0.8888888888888888,
             "#fdca26"
            ],
            [
             1,
             "#f0f921"
            ]
           ],
           "sequentialminus": [
            [
             0,
             "#0d0887"
            ],
            [
             0.1111111111111111,
             "#46039f"
            ],
            [
             0.2222222222222222,
             "#7201a8"
            ],
            [
             0.3333333333333333,
             "#9c179e"
            ],
            [
             0.4444444444444444,
             "#bd3786"
            ],
            [
             0.5555555555555556,
             "#d8576b"
            ],
            [
             0.6666666666666666,
             "#ed7953"
            ],
            [
             0.7777777777777778,
             "#fb9f3a"
            ],
            [
             0.8888888888888888,
             "#fdca26"
            ],
            [
             1,
             "#f0f921"
            ]
           ]
          },
          "colorway": [
           "#636efa",
           "#EF553B",
           "#00cc96",
           "#ab63fa",
           "#FFA15A",
           "#19d3f3",
           "#FF6692",
           "#B6E880",
           "#FF97FF",
           "#FECB52"
          ],
          "font": {
           "color": "#2a3f5f"
          },
          "geo": {
           "bgcolor": "white",
           "lakecolor": "white",
           "landcolor": "#E5ECF6",
           "showlakes": true,
           "showland": true,
           "subunitcolor": "white"
          },
          "hoverlabel": {
           "align": "left"
          },
          "hovermode": "closest",
          "mapbox": {
           "style": "light"
          },
          "paper_bgcolor": "white",
          "plot_bgcolor": "#E5ECF6",
          "polar": {
           "angularaxis": {
            "gridcolor": "white",
            "linecolor": "white",
            "ticks": ""
           },
           "bgcolor": "#E5ECF6",
           "radialaxis": {
            "gridcolor": "white",
            "linecolor": "white",
            "ticks": ""
           }
          },
          "scene": {
           "xaxis": {
            "backgroundcolor": "#E5ECF6",
            "gridcolor": "white",
            "gridwidth": 2,
            "linecolor": "white",
            "showbackground": true,
            "ticks": "",
            "zerolinecolor": "white"
           },
           "yaxis": {
            "backgroundcolor": "#E5ECF6",
            "gridcolor": "white",
            "gridwidth": 2,
            "linecolor": "white",
            "showbackground": true,
            "ticks": "",
            "zerolinecolor": "white"
           },
           "zaxis": {
            "backgroundcolor": "#E5ECF6",
            "gridcolor": "white",
            "gridwidth": 2,
            "linecolor": "white",
            "showbackground": true,
            "ticks": "",
            "zerolinecolor": "white"
           }
          },
          "shapedefaults": {
           "line": {
            "color": "#2a3f5f"
           }
          },
          "ternary": {
           "aaxis": {
            "gridcolor": "white",
            "linecolor": "white",
            "ticks": ""
           },
           "baxis": {
            "gridcolor": "white",
            "linecolor": "white",
            "ticks": ""
           },
           "bgcolor": "#E5ECF6",
           "caxis": {
            "gridcolor": "white",
            "linecolor": "white",
            "ticks": ""
           }
          },
          "title": {
           "x": 0.05
          },
          "xaxis": {
           "automargin": true,
           "gridcolor": "white",
           "linecolor": "white",
           "ticks": "",
           "title": {
            "standoff": 15
           },
           "zerolinecolor": "white",
           "zerolinewidth": 2
          },
          "yaxis": {
           "automargin": true,
           "gridcolor": "white",
           "linecolor": "white",
           "ticks": "",
           "title": {
            "standoff": 15
           },
           "zerolinecolor": "white",
           "zerolinewidth": 2
          }
         }
        },
        "xaxis": {
         "anchor": "y",
         "domain": [
          0,
          1
         ],
         "title": {
          "text": "precision_macro"
         }
        },
        "yaxis": {
         "anchor": "x",
         "domain": [
          0,
          1
         ],
         "title": {
          "text": "recall_macro"
         }
        }
       }
      }
     },
     "metadata": {},
     "output_type": "display_data"
    },
    {
     "data": {
      "application/vnd.plotly.v1+json": {
       "config": {
        "plotlyServerURL": "https://plot.ly"
       },
       "data": [
        {
         "hovertemplate": "level=NO_CRYSTAL_0<br>precision_macro=%{x}<br>recall_micro=%{y}<extra></extra>",
         "legendgroup": "NO_CRYSTAL_0",
         "marker": {
          "color": "#636efa",
          "symbol": "circle"
         },
         "mode": "markers",
         "name": "NO_CRYSTAL_0",
         "orientation": "v",
         "showlegend": true,
         "type": "scatter",
         "x": [
          0.3084334618000453,
          0.2838324333169694,
          0.3986900485949715,
          0.20811675329868054,
          0.3208955223880597,
          0.27294163882884653,
          0.2851903597624869,
          0.29360739204224023,
          0.24890661178286597,
          0.27852672123254696
         ],
         "xaxis": "x",
         "y": [
          0.6168669236000907,
          0.5676648666339388,
          0.797380097189943,
          0.4162335065973611,
          0.6417910447761194,
          0.5458832776576931,
          0.5703807195249738,
          0.5872147840844805,
          0.49781322356573193,
          0.5570534424650939
         ],
         "yaxis": "y"
        },
        {
         "hovertemplate": "level=NO_CRYSTAL_1<br>precision_macro=%{x}<br>recall_micro=%{y}<extra></extra>",
         "legendgroup": "NO_CRYSTAL_1",
         "marker": {
          "color": "#EF553B",
          "symbol": "diamond"
         },
         "mode": "markers",
         "name": "NO_CRYSTAL_1",
         "orientation": "v",
         "showlegend": true,
         "type": "scatter",
         "x": [
          0.5,
          0.5,
          0.5,
          0.5,
          0.5,
          0.5,
          0.5,
          0.5,
          0.5,
          0.5
         ],
         "xaxis": "x",
         "y": [
          1,
          1,
          1,
          1,
          1,
          1,
          1,
          1,
          1,
          1
         ],
         "yaxis": "y"
        },
        {
         "hovertemplate": "level=FEW_CRYSTAL_0<br>precision_macro=%{x}<br>recall_micro=%{y}<extra></extra>",
         "legendgroup": "FEW_CRYSTAL_0",
         "marker": {
          "color": "#00cc96",
          "symbol": "square"
         },
         "mode": "markers",
         "name": "FEW_CRYSTAL_0",
         "orientation": "v",
         "showlegend": true,
         "type": "scatter",
         "x": [
          0.45402992277992277,
          0.4355598372939413,
          0.4377502001601281,
          0.37540387722132473,
          0.42258913615697535,
          0.43281653746770027,
          0.40380047505938244,
          0.41828112118713934,
          0.43104982206405695,
          0.4478407677270304
         ],
         "xaxis": "x",
         "y": [
          0.7950559898584407,
          0.8054235946159937,
          0.8073089700996677,
          0.6238255033557047,
          0.7648332611520139,
          0.8105492378417615,
          0.6876625252817105,
          0.772407231208373,
          0.78857421875,
          0.8229915088177662
         ],
         "yaxis": "y"
        },
        {
         "hovertemplate": "level=FEW_CRYSTAL_1<br>precision_macro=%{x}<br>recall_micro=%{y}<extra></extra>",
         "legendgroup": "FEW_CRYSTAL_1",
         "marker": {
          "color": "#ab63fa",
          "symbol": "x"
         },
         "mode": "markers",
         "name": "FEW_CRYSTAL_1",
         "orientation": "v",
         "showlegend": true,
         "type": "scatter",
         "x": [
          0.4778846153846154,
          0.47721989772198975,
          0.4843850267379679,
          0.4840130916414904,
          0.4658656471873293,
          0.48434646490999217,
          0.4703603254552499,
          0.4667454422687373,
          0.47760617760617763,
          0.4773035230352303
         ],
         "xaxis": "x",
         "y": [
          0.8330938697318008,
          0.8532834580216127,
          0.8864748483069094,
          0.8914908416415488,
          0.8227634434530986,
          0.8851013110846245,
          0.8250084947332654,
          0.817080378250591,
          0.8511467889908257,
          0.8661885245901639
         ],
         "yaxis": "y"
        },
        {
         "hovertemplate": "level=FEW_CRYSTAL_2<br>precision_macro=%{x}<br>recall_micro=%{y}<extra></extra>",
         "legendgroup": "FEW_CRYSTAL_2",
         "marker": {
          "color": "#FFA15A",
          "symbol": "cross"
         },
         "mode": "markers",
         "name": "FEW_CRYSTAL_2",
         "orientation": "v",
         "showlegend": true,
         "type": "scatter",
         "x": [
          0.8901366382626056,
          0.7938361081749701,
          0.7852827424689872,
          0.6925485846176255,
          0.7468695064650741,
          0.843649676147564,
          0.8457267634060619,
          0.8086587844652361,
          0.8418606569005871,
          0.8212844277289533
         ],
         "xaxis": "x",
         "y": [
          0.9395821569734614,
          0.924275290869651,
          0.9163260916326091,
          0.8828399397892625,
          0.9162740899357602,
          0.9220706410016819,
          0.9455035624879645,
          0.8848384424192212,
          0.9094069085379101,
          0.8414807783578547
         ],
         "yaxis": "y"
        },
        {
         "hovertemplate": "level=SOME_CRYSTAL_0<br>precision_macro=%{x}<br>recall_micro=%{y}<extra></extra>",
         "legendgroup": "SOME_CRYSTAL_0",
         "marker": {
          "color": "#19d3f3",
          "symbol": "circle"
         },
         "mode": "markers",
         "name": "SOME_CRYSTAL_0",
         "orientation": "v",
         "showlegend": true,
         "type": "scatter",
         "x": [
          0.6720157867389331,
          0.6952236643233407,
          0.7417262594066502,
          0.6833081408171957,
          0.6746056016698219,
          0.6849151870741778,
          0.7711478820291531,
          0.7364395902099317,
          0.6393530268847527,
          0.6502511805051132
         ],
         "xaxis": "x",
         "y": [
          0.7222336698949103,
          0.7745492475040977,
          0.8093430174975239,
          0.7178170754896368,
          0.7763023493360572,
          0.7779578606158833,
          0.8131322094055013,
          0.7788494660695832,
          0.7197067701595515,
          0.6937513329068031
         ],
         "yaxis": "y"
        },
        {
         "hovertemplate": "level=SOME_CRYSTAL_1<br>precision_macro=%{x}<br>recall_micro=%{y}<extra></extra>",
         "legendgroup": "SOME_CRYSTAL_1",
         "marker": {
          "color": "#FF6692",
          "symbol": "diamond"
         },
         "mode": "markers",
         "name": "SOME_CRYSTAL_1",
         "orientation": "v",
         "showlegend": true,
         "type": "scatter",
         "x": [
          0.32930972818311877,
          0.21831210191082803,
          0.3229298024379992,
          0.3119971604353999,
          0.3760655737704918,
          0.1541698546289212,
          0.21800831906043552,
          0.3012562814070352,
          0.35570258349086326,
          0.3885356849876948
         ],
         "xaxis": "x",
         "y": [
          0.6027823240589198,
          0.3459500378501135,
          0.549830023259975,
          0.5092699884125145,
          0.6219049340321706,
          0.2616883116883117,
          0.3639705882352941,
          0.48928790042848397,
          0.5932737782448765,
          0.692054794520548
         ],
         "yaxis": "y"
        },
        {
         "hovertemplate": "level=SOME_CRYSTAL_2<br>precision_macro=%{x}<br>recall_micro=%{y}<extra></extra>",
         "legendgroup": "SOME_CRYSTAL_2",
         "marker": {
          "color": "#B6E880",
          "symbol": "square"
         },
         "mode": "markers",
         "name": "SOME_CRYSTAL_2",
         "orientation": "v",
         "showlegend": true,
         "type": "scatter",
         "x": [
          0.30674518201284795,
          0.28713400299209235,
          0.30594960829980944,
          0.19572072072072072,
          0.28768197088465847,
          0.27881484697199915,
          0.37595419847328243,
          0.2854462051709758,
          0.2735034347399411,
          0.28293483356774496
         ],
         "xaxis": "x",
         "y": [
          0.5390404515522107,
          0.4794789436117059,
          0.5230769230769231,
          0.3298538622129436,
          0.4878465628560577,
          0.465904969169387,
          0.6747625720068504,
          0.5395073891625616,
          0.491361071932299,
          0.499896458894181
         ],
         "yaxis": "y"
        }
       ],
       "layout": {
        "legend": {
         "title": {
          "text": "level"
         },
         "tracegroupgap": 0
        },
        "margin": {
         "b": 20,
         "l": 20,
         "r": 20,
         "t": 20
        },
        "template": {
         "data": {
          "bar": [
           {
            "error_x": {
             "color": "#2a3f5f"
            },
            "error_y": {
             "color": "#2a3f5f"
            },
            "marker": {
             "line": {
              "color": "#E5ECF6",
              "width": 0.5
             },
             "pattern": {
              "fillmode": "overlay",
              "size": 10,
              "solidity": 0.2
             }
            },
            "type": "bar"
           }
          ],
          "barpolar": [
           {
            "marker": {
             "line": {
              "color": "#E5ECF6",
              "width": 0.5
             },
             "pattern": {
              "fillmode": "overlay",
              "size": 10,
              "solidity": 0.2
             }
            },
            "type": "barpolar"
           }
          ],
          "carpet": [
           {
            "aaxis": {
             "endlinecolor": "#2a3f5f",
             "gridcolor": "white",
             "linecolor": "white",
             "minorgridcolor": "white",
             "startlinecolor": "#2a3f5f"
            },
            "baxis": {
             "endlinecolor": "#2a3f5f",
             "gridcolor": "white",
             "linecolor": "white",
             "minorgridcolor": "white",
             "startlinecolor": "#2a3f5f"
            },
            "type": "carpet"
           }
          ],
          "choropleth": [
           {
            "colorbar": {
             "outlinewidth": 0,
             "ticks": ""
            },
            "type": "choropleth"
           }
          ],
          "contour": [
           {
            "colorbar": {
             "outlinewidth": 0,
             "ticks": ""
            },
            "colorscale": [
             [
              0,
              "#0d0887"
             ],
             [
              0.1111111111111111,
              "#46039f"
             ],
             [
              0.2222222222222222,
              "#7201a8"
             ],
             [
              0.3333333333333333,
              "#9c179e"
             ],
             [
              0.4444444444444444,
              "#bd3786"
             ],
             [
              0.5555555555555556,
              "#d8576b"
             ],
             [
              0.6666666666666666,
              "#ed7953"
             ],
             [
              0.7777777777777778,
              "#fb9f3a"
             ],
             [
              0.8888888888888888,
              "#fdca26"
             ],
             [
              1,
              "#f0f921"
             ]
            ],
            "type": "contour"
           }
          ],
          "contourcarpet": [
           {
            "colorbar": {
             "outlinewidth": 0,
             "ticks": ""
            },
            "type": "contourcarpet"
           }
          ],
          "heatmap": [
           {
            "colorbar": {
             "outlinewidth": 0,
             "ticks": ""
            },
            "colorscale": [
             [
              0,
              "#0d0887"
             ],
             [
              0.1111111111111111,
              "#46039f"
             ],
             [
              0.2222222222222222,
              "#7201a8"
             ],
             [
              0.3333333333333333,
              "#9c179e"
             ],
             [
              0.4444444444444444,
              "#bd3786"
             ],
             [
              0.5555555555555556,
              "#d8576b"
             ],
             [
              0.6666666666666666,
              "#ed7953"
             ],
             [
              0.7777777777777778,
              "#fb9f3a"
             ],
             [
              0.8888888888888888,
              "#fdca26"
             ],
             [
              1,
              "#f0f921"
             ]
            ],
            "type": "heatmap"
           }
          ],
          "heatmapgl": [
           {
            "colorbar": {
             "outlinewidth": 0,
             "ticks": ""
            },
            "colorscale": [
             [
              0,
              "#0d0887"
             ],
             [
              0.1111111111111111,
              "#46039f"
             ],
             [
              0.2222222222222222,
              "#7201a8"
             ],
             [
              0.3333333333333333,
              "#9c179e"
             ],
             [
              0.4444444444444444,
              "#bd3786"
             ],
             [
              0.5555555555555556,
              "#d8576b"
             ],
             [
              0.6666666666666666,
              "#ed7953"
             ],
             [
              0.7777777777777778,
              "#fb9f3a"
             ],
             [
              0.8888888888888888,
              "#fdca26"
             ],
             [
              1,
              "#f0f921"
             ]
            ],
            "type": "heatmapgl"
           }
          ],
          "histogram": [
           {
            "marker": {
             "pattern": {
              "fillmode": "overlay",
              "size": 10,
              "solidity": 0.2
             }
            },
            "type": "histogram"
           }
          ],
          "histogram2d": [
           {
            "colorbar": {
             "outlinewidth": 0,
             "ticks": ""
            },
            "colorscale": [
             [
              0,
              "#0d0887"
             ],
             [
              0.1111111111111111,
              "#46039f"
             ],
             [
              0.2222222222222222,
              "#7201a8"
             ],
             [
              0.3333333333333333,
              "#9c179e"
             ],
             [
              0.4444444444444444,
              "#bd3786"
             ],
             [
              0.5555555555555556,
              "#d8576b"
             ],
             [
              0.6666666666666666,
              "#ed7953"
             ],
             [
              0.7777777777777778,
              "#fb9f3a"
             ],
             [
              0.8888888888888888,
              "#fdca26"
             ],
             [
              1,
              "#f0f921"
             ]
            ],
            "type": "histogram2d"
           }
          ],
          "histogram2dcontour": [
           {
            "colorbar": {
             "outlinewidth": 0,
             "ticks": ""
            },
            "colorscale": [
             [
              0,
              "#0d0887"
             ],
             [
              0.1111111111111111,
              "#46039f"
             ],
             [
              0.2222222222222222,
              "#7201a8"
             ],
             [
              0.3333333333333333,
              "#9c179e"
             ],
             [
              0.4444444444444444,
              "#bd3786"
             ],
             [
              0.5555555555555556,
              "#d8576b"
             ],
             [
              0.6666666666666666,
              "#ed7953"
             ],
             [
              0.7777777777777778,
              "#fb9f3a"
             ],
             [
              0.8888888888888888,
              "#fdca26"
             ],
             [
              1,
              "#f0f921"
             ]
            ],
            "type": "histogram2dcontour"
           }
          ],
          "mesh3d": [
           {
            "colorbar": {
             "outlinewidth": 0,
             "ticks": ""
            },
            "type": "mesh3d"
           }
          ],
          "parcoords": [
           {
            "line": {
             "colorbar": {
              "outlinewidth": 0,
              "ticks": ""
             }
            },
            "type": "parcoords"
           }
          ],
          "pie": [
           {
            "automargin": true,
            "type": "pie"
           }
          ],
          "scatter": [
           {
            "marker": {
             "colorbar": {
              "outlinewidth": 0,
              "ticks": ""
             }
            },
            "type": "scatter"
           }
          ],
          "scatter3d": [
           {
            "line": {
             "colorbar": {
              "outlinewidth": 0,
              "ticks": ""
             }
            },
            "marker": {
             "colorbar": {
              "outlinewidth": 0,
              "ticks": ""
             }
            },
            "type": "scatter3d"
           }
          ],
          "scattercarpet": [
           {
            "marker": {
             "colorbar": {
              "outlinewidth": 0,
              "ticks": ""
             }
            },
            "type": "scattercarpet"
           }
          ],
          "scattergeo": [
           {
            "marker": {
             "colorbar": {
              "outlinewidth": 0,
              "ticks": ""
             }
            },
            "type": "scattergeo"
           }
          ],
          "scattergl": [
           {
            "marker": {
             "colorbar": {
              "outlinewidth": 0,
              "ticks": ""
             }
            },
            "type": "scattergl"
           }
          ],
          "scattermapbox": [
           {
            "marker": {
             "colorbar": {
              "outlinewidth": 0,
              "ticks": ""
             }
            },
            "type": "scattermapbox"
           }
          ],
          "scatterpolar": [
           {
            "marker": {
             "colorbar": {
              "outlinewidth": 0,
              "ticks": ""
             }
            },
            "type": "scatterpolar"
           }
          ],
          "scatterpolargl": [
           {
            "marker": {
             "colorbar": {
              "outlinewidth": 0,
              "ticks": ""
             }
            },
            "type": "scatterpolargl"
           }
          ],
          "scatterternary": [
           {
            "marker": {
             "colorbar": {
              "outlinewidth": 0,
              "ticks": ""
             }
            },
            "type": "scatterternary"
           }
          ],
          "surface": [
           {
            "colorbar": {
             "outlinewidth": 0,
             "ticks": ""
            },
            "colorscale": [
             [
              0,
              "#0d0887"
             ],
             [
              0.1111111111111111,
              "#46039f"
             ],
             [
              0.2222222222222222,
              "#7201a8"
             ],
             [
              0.3333333333333333,
              "#9c179e"
             ],
             [
              0.4444444444444444,
              "#bd3786"
             ],
             [
              0.5555555555555556,
              "#d8576b"
             ],
             [
              0.6666666666666666,
              "#ed7953"
             ],
             [
              0.7777777777777778,
              "#fb9f3a"
             ],
             [
              0.8888888888888888,
              "#fdca26"
             ],
             [
              1,
              "#f0f921"
             ]
            ],
            "type": "surface"
           }
          ],
          "table": [
           {
            "cells": {
             "fill": {
              "color": "#EBF0F8"
             },
             "line": {
              "color": "white"
             }
            },
            "header": {
             "fill": {
              "color": "#C8D4E3"
             },
             "line": {
              "color": "white"
             }
            },
            "type": "table"
           }
          ]
         },
         "layout": {
          "annotationdefaults": {
           "arrowcolor": "#2a3f5f",
           "arrowhead": 0,
           "arrowwidth": 1
          },
          "autotypenumbers": "strict",
          "coloraxis": {
           "colorbar": {
            "outlinewidth": 0,
            "ticks": ""
           }
          },
          "colorscale": {
           "diverging": [
            [
             0,
             "#8e0152"
            ],
            [
             0.1,
             "#c51b7d"
            ],
            [
             0.2,
             "#de77ae"
            ],
            [
             0.3,
             "#f1b6da"
            ],
            [
             0.4,
             "#fde0ef"
            ],
            [
             0.5,
             "#f7f7f7"
            ],
            [
             0.6,
             "#e6f5d0"
            ],
            [
             0.7,
             "#b8e186"
            ],
            [
             0.8,
             "#7fbc41"
            ],
            [
             0.9,
             "#4d9221"
            ],
            [
             1,
             "#276419"
            ]
           ],
           "sequential": [
            [
             0,
             "#0d0887"
            ],
            [
             0.1111111111111111,
             "#46039f"
            ],
            [
             0.2222222222222222,
             "#7201a8"
            ],
            [
             0.3333333333333333,
             "#9c179e"
            ],
            [
             0.4444444444444444,
             "#bd3786"
            ],
            [
             0.5555555555555556,
             "#d8576b"
            ],
            [
             0.6666666666666666,
             "#ed7953"
            ],
            [
             0.7777777777777778,
             "#fb9f3a"
            ],
            [
             0.8888888888888888,
             "#fdca26"
            ],
            [
             1,
             "#f0f921"
            ]
           ],
           "sequentialminus": [
            [
             0,
             "#0d0887"
            ],
            [
             0.1111111111111111,
             "#46039f"
            ],
            [
             0.2222222222222222,
             "#7201a8"
            ],
            [
             0.3333333333333333,
             "#9c179e"
            ],
            [
             0.4444444444444444,
             "#bd3786"
            ],
            [
             0.5555555555555556,
             "#d8576b"
            ],
            [
             0.6666666666666666,
             "#ed7953"
            ],
            [
             0.7777777777777778,
             "#fb9f3a"
            ],
            [
             0.8888888888888888,
             "#fdca26"
            ],
            [
             1,
             "#f0f921"
            ]
           ]
          },
          "colorway": [
           "#636efa",
           "#EF553B",
           "#00cc96",
           "#ab63fa",
           "#FFA15A",
           "#19d3f3",
           "#FF6692",
           "#B6E880",
           "#FF97FF",
           "#FECB52"
          ],
          "font": {
           "color": "#2a3f5f"
          },
          "geo": {
           "bgcolor": "white",
           "lakecolor": "white",
           "landcolor": "#E5ECF6",
           "showlakes": true,
           "showland": true,
           "subunitcolor": "white"
          },
          "hoverlabel": {
           "align": "left"
          },
          "hovermode": "closest",
          "mapbox": {
           "style": "light"
          },
          "paper_bgcolor": "white",
          "plot_bgcolor": "#E5ECF6",
          "polar": {
           "angularaxis": {
            "gridcolor": "white",
            "linecolor": "white",
            "ticks": ""
           },
           "bgcolor": "#E5ECF6",
           "radialaxis": {
            "gridcolor": "white",
            "linecolor": "white",
            "ticks": ""
           }
          },
          "scene": {
           "xaxis": {
            "backgroundcolor": "#E5ECF6",
            "gridcolor": "white",
            "gridwidth": 2,
            "linecolor": "white",
            "showbackground": true,
            "ticks": "",
            "zerolinecolor": "white"
           },
           "yaxis": {
            "backgroundcolor": "#E5ECF6",
            "gridcolor": "white",
            "gridwidth": 2,
            "linecolor": "white",
            "showbackground": true,
            "ticks": "",
            "zerolinecolor": "white"
           },
           "zaxis": {
            "backgroundcolor": "#E5ECF6",
            "gridcolor": "white",
            "gridwidth": 2,
            "linecolor": "white",
            "showbackground": true,
            "ticks": "",
            "zerolinecolor": "white"
           }
          },
          "shapedefaults": {
           "line": {
            "color": "#2a3f5f"
           }
          },
          "ternary": {
           "aaxis": {
            "gridcolor": "white",
            "linecolor": "white",
            "ticks": ""
           },
           "baxis": {
            "gridcolor": "white",
            "linecolor": "white",
            "ticks": ""
           },
           "bgcolor": "#E5ECF6",
           "caxis": {
            "gridcolor": "white",
            "linecolor": "white",
            "ticks": ""
           }
          },
          "title": {
           "x": 0.05
          },
          "xaxis": {
           "automargin": true,
           "gridcolor": "white",
           "linecolor": "white",
           "ticks": "",
           "title": {
            "standoff": 15
           },
           "zerolinecolor": "white",
           "zerolinewidth": 2
          },
          "yaxis": {
           "automargin": true,
           "gridcolor": "white",
           "linecolor": "white",
           "ticks": "",
           "title": {
            "standoff": 15
           },
           "zerolinecolor": "white",
           "zerolinewidth": 2
          }
         }
        },
        "xaxis": {
         "anchor": "y",
         "domain": [
          0,
          1
         ],
         "title": {
          "text": "precision_macro"
         }
        },
        "yaxis": {
         "anchor": "x",
         "domain": [
          0,
          1
         ],
         "title": {
          "text": "recall_micro"
         }
        }
       }
      }
     },
     "metadata": {},
     "output_type": "display_data"
    },
    {
     "data": {
      "application/vnd.plotly.v1+json": {
       "config": {
        "plotlyServerURL": "https://plot.ly"
       },
       "data": [
        {
         "hovertemplate": "level=NO_CRYSTAL_0<br>f1_macro=%{x}<br>recall_macro=%{y}<extra></extra>",
         "legendgroup": "NO_CRYSTAL_0",
         "marker": {
          "color": "#636efa",
          "symbol": "circle"
         },
         "mode": "markers",
         "name": "NO_CRYSTAL_0",
         "orientation": "v",
         "showlegend": true,
         "type": "scatter",
         "x": [
          0.3815199102636007,
          0.36210855949895615,
          0.44363465381450573,
          0.2939017504234896,
          0.39090909090909093,
          0.35312063048175923,
          0.36321174377224197,
          0.3699655459189735,
          0.33236001374098245,
          0.3577612863327149
         ],
         "xaxis": "x",
         "y": [
          0.5,
          0.5,
          0.5,
          0.5,
          0.5,
          0.5,
          0.5,
          0.5,
          0.5,
          0.5
         ],
         "yaxis": "y"
        },
        {
         "hovertemplate": "level=NO_CRYSTAL_1<br>f1_macro=%{x}<br>recall_macro=%{y}<extra></extra>",
         "legendgroup": "NO_CRYSTAL_1",
         "marker": {
          "color": "#EF553B",
          "symbol": "diamond"
         },
         "mode": "markers",
         "name": "NO_CRYSTAL_1",
         "orientation": "v",
         "showlegend": true,
         "type": "scatter",
         "x": [
          0.5,
          0.5,
          0.5,
          0.5,
          0.5,
          0.5,
          0.5,
          0.5,
          0.5,
          0.5
         ],
         "xaxis": "x",
         "y": [
          0.5,
          0.5,
          0.5,
          0.5,
          0.5,
          0.5,
          0.5,
          0.5,
          0.5,
          0.5
         ],
         "yaxis": "y"
        },
        {
         "hovertemplate": "level=FEW_CRYSTAL_0<br>f1_macro=%{x}<br>recall_macro=%{y}<extra></extra>",
         "legendgroup": "FEW_CRYSTAL_0",
         "marker": {
          "color": "#00cc96",
          "symbol": "square"
         },
         "mode": "markers",
         "name": "FEW_CRYSTAL_0",
         "orientation": "v",
         "showlegend": true,
         "type": "scatter",
         "x": [
          0.4429143126177025,
          0.4461133647626357,
          0.44669117647058826,
          0.3841702831163463,
          0.43337423312883433,
          0.4476814111987171,
          0.40746447526108537,
          0.435795576551428,
          0.4408954408954409,
          0.4514510927982802
         ],
         "xaxis": "x",
         "y": [
          0.4323299632352941,
          0.45719101123595507,
          0.4560050041701418,
          0.3933559035124841,
          0.44472425081843364,
          0.4636036534735677,
          0.41119557705597787,
          0.45484087852980726,
          0.4512013410318495,
          0.45512010113780027
         ],
         "yaxis": "y"
        },
        {
         "hovertemplate": "level=FEW_CRYSTAL_1<br>f1_macro=%{x}<br>recall_macro=%{y}<extra></extra>",
         "legendgroup": "FEW_CRYSTAL_1",
         "marker": {
          "color": "#ab63fa",
          "symbol": "x"
         },
         "mode": "markers",
         "name": "FEW_CRYSTAL_1",
         "orientation": "v",
         "showlegend": true,
         "type": "scatter",
         "x": [
          0.4544741998693665,
          0.4604171338865216,
          0.46991076986926744,
          0.47131649914194657,
          0.4513824579970896,
          0.4695245321193728,
          0.4520573450009309,
          0.44966661245731016,
          0.4597943253624086,
          0.46414845723070164
         ],
         "xaxis": "x",
         "y": [
          0.43325031133250314,
          0.4447573656845754,
          0.45627644569816644,
          0.45926899187768755,
          0.43777264562483964,
          0.45558282208588957,
          0.4351254480286738,
          0.433793536240979,
          0.4432632584806498,
          0.4516990810002137
         ],
         "yaxis": "y"
        },
        {
         "hovertemplate": "level=FEW_CRYSTAL_2<br>f1_macro=%{x}<br>recall_macro=%{y}<extra></extra>",
         "legendgroup": "FEW_CRYSTAL_2",
         "marker": {
          "color": "#FFA15A",
          "symbol": "cross"
         },
         "mode": "markers",
         "name": "FEW_CRYSTAL_2",
         "orientation": "v",
         "showlegend": true,
         "type": "scatter",
         "x": [
          0.8808616989551361,
          0.7858528521368702,
          0.7874599488224017,
          0.6856459975746203,
          0.7559736324242332,
          0.8452621065260704,
          0.8543718355441687,
          0.8062668679324686,
          0.8354410194669799,
          0.815627122125437
         ],
         "xaxis": "x",
         "y": [
          0.8722553960940269,
          0.7784394107123273,
          0.7896858670987119,
          0.6794564043323185,
          0.7660733964930366,
          0.8468993252677608,
          0.8636315759936428,
          0.8039461702066976,
          0.829427171023035,
          0.8108269080828208
         ],
         "yaxis": "y"
        },
        {
         "hovertemplate": "level=SOME_CRYSTAL_0<br>f1_macro=%{x}<br>recall_macro=%{y}<extra></extra>",
         "legendgroup": "SOME_CRYSTAL_0",
         "marker": {
          "color": "#19d3f3",
          "symbol": "circle"
         },
         "mode": "markers",
         "name": "SOME_CRYSTAL_0",
         "orientation": "v",
         "showlegend": true,
         "type": "scatter",
         "x": [
          0.6524175356612598,
          0.6880413808804222,
          0.738999495642009,
          0.6875421982957974,
          0.674663553000975,
          0.7010151386530843,
          0.7685109272589317,
          0.7212081539456416,
          0.6369853710414825,
          0.6511261942757662
         ],
         "xaxis": "x",
         "y": [
          0.644730373895513,
          0.6823415253507585,
          0.7364526879435136,
          0.6954510400963227,
          0.6747216247670896,
          0.744995014360258,
          0.7660660312454102,
          0.7115958202754253,
          0.6349641237488833,
          0.6520999634223196
         ],
         "yaxis": "y"
        },
        {
         "hovertemplate": "level=SOME_CRYSTAL_1<br>f1_macro=%{x}<br>recall_macro=%{y}<extra></extra>",
         "legendgroup": "SOME_CRYSTAL_1",
         "marker": {
          "color": "#FF6692",
          "symbol": "diamond"
         },
         "mode": "markers",
         "name": "SOME_CRYSTAL_1",
         "orientation": "v",
         "showlegend": true,
         "type": "scatter",
         "x": [
          0.3760849586439294,
          0.25703037120359956,
          0.35476795197413996,
          0.3374280230326296,
          0.38344105192779143,
          0.2074112197632527,
          0.2668463611859838,
          0.3285381559117687,
          0.3723614775725594,
          0.40900259067357514
         ],
         "xaxis": "x",
         "y": [
          0.43834801237800525,
          0.3124430264357338,
          0.39357069672131145,
          0.3673725271663416,
          0.3911116162764265,
          0.3168238993710692,
          0.3438826707834813,
          0.3612533895751732,
          0.39065743944636677,
          0.4317456700091158
         ],
         "yaxis": "y"
        },
        {
         "hovertemplate": "level=SOME_CRYSTAL_2<br>f1_macro=%{x}<br>recall_macro=%{y}<extra></extra>",
         "legendgroup": "SOME_CRYSTAL_2",
         "marker": {
          "color": "#B6E880",
          "symbol": "square"
         },
         "mode": "markers",
         "name": "SOME_CRYSTAL_2",
         "orientation": "v",
         "showlegend": true,
         "type": "scatter",
         "x": [
          0.3502444987775061,
          0.32408635870220726,
          0.3434343434343434,
          0.24803767660910514,
          0.3278876834716018,
          0.3178275392799703,
          0.40290043692479316,
          0.3504415717394087,
          0.32947156874335026,
          0.3332873118873395
         ],
         "xaxis": "x",
         "y": [
          0.4081196581196581,
          0.3719545957918051,
          0.39138678223185264,
          0.33852746396571876,
          0.3811572700296736,
          0.3695339470655926,
          0.4340076106549169,
          0.45376201524693405,
          0.41423900118906065,
          0.4054417198522002
         ],
         "yaxis": "y"
        }
       ],
       "layout": {
        "legend": {
         "title": {
          "text": "level"
         },
         "tracegroupgap": 0
        },
        "margin": {
         "b": 20,
         "l": 20,
         "r": 20,
         "t": 20
        },
        "template": {
         "data": {
          "bar": [
           {
            "error_x": {
             "color": "#2a3f5f"
            },
            "error_y": {
             "color": "#2a3f5f"
            },
            "marker": {
             "line": {
              "color": "#E5ECF6",
              "width": 0.5
             },
             "pattern": {
              "fillmode": "overlay",
              "size": 10,
              "solidity": 0.2
             }
            },
            "type": "bar"
           }
          ],
          "barpolar": [
           {
            "marker": {
             "line": {
              "color": "#E5ECF6",
              "width": 0.5
             },
             "pattern": {
              "fillmode": "overlay",
              "size": 10,
              "solidity": 0.2
             }
            },
            "type": "barpolar"
           }
          ],
          "carpet": [
           {
            "aaxis": {
             "endlinecolor": "#2a3f5f",
             "gridcolor": "white",
             "linecolor": "white",
             "minorgridcolor": "white",
             "startlinecolor": "#2a3f5f"
            },
            "baxis": {
             "endlinecolor": "#2a3f5f",
             "gridcolor": "white",
             "linecolor": "white",
             "minorgridcolor": "white",
             "startlinecolor": "#2a3f5f"
            },
            "type": "carpet"
           }
          ],
          "choropleth": [
           {
            "colorbar": {
             "outlinewidth": 0,
             "ticks": ""
            },
            "type": "choropleth"
           }
          ],
          "contour": [
           {
            "colorbar": {
             "outlinewidth": 0,
             "ticks": ""
            },
            "colorscale": [
             [
              0,
              "#0d0887"
             ],
             [
              0.1111111111111111,
              "#46039f"
             ],
             [
              0.2222222222222222,
              "#7201a8"
             ],
             [
              0.3333333333333333,
              "#9c179e"
             ],
             [
              0.4444444444444444,
              "#bd3786"
             ],
             [
              0.5555555555555556,
              "#d8576b"
             ],
             [
              0.6666666666666666,
              "#ed7953"
             ],
             [
              0.7777777777777778,
              "#fb9f3a"
             ],
             [
              0.8888888888888888,
              "#fdca26"
             ],
             [
              1,
              "#f0f921"
             ]
            ],
            "type": "contour"
           }
          ],
          "contourcarpet": [
           {
            "colorbar": {
             "outlinewidth": 0,
             "ticks": ""
            },
            "type": "contourcarpet"
           }
          ],
          "heatmap": [
           {
            "colorbar": {
             "outlinewidth": 0,
             "ticks": ""
            },
            "colorscale": [
             [
              0,
              "#0d0887"
             ],
             [
              0.1111111111111111,
              "#46039f"
             ],
             [
              0.2222222222222222,
              "#7201a8"
             ],
             [
              0.3333333333333333,
              "#9c179e"
             ],
             [
              0.4444444444444444,
              "#bd3786"
             ],
             [
              0.5555555555555556,
              "#d8576b"
             ],
             [
              0.6666666666666666,
              "#ed7953"
             ],
             [
              0.7777777777777778,
              "#fb9f3a"
             ],
             [
              0.8888888888888888,
              "#fdca26"
             ],
             [
              1,
              "#f0f921"
             ]
            ],
            "type": "heatmap"
           }
          ],
          "heatmapgl": [
           {
            "colorbar": {
             "outlinewidth": 0,
             "ticks": ""
            },
            "colorscale": [
             [
              0,
              "#0d0887"
             ],
             [
              0.1111111111111111,
              "#46039f"
             ],
             [
              0.2222222222222222,
              "#7201a8"
             ],
             [
              0.3333333333333333,
              "#9c179e"
             ],
             [
              0.4444444444444444,
              "#bd3786"
             ],
             [
              0.5555555555555556,
              "#d8576b"
             ],
             [
              0.6666666666666666,
              "#ed7953"
             ],
             [
              0.7777777777777778,
              "#fb9f3a"
             ],
             [
              0.8888888888888888,
              "#fdca26"
             ],
             [
              1,
              "#f0f921"
             ]
            ],
            "type": "heatmapgl"
           }
          ],
          "histogram": [
           {
            "marker": {
             "pattern": {
              "fillmode": "overlay",
              "size": 10,
              "solidity": 0.2
             }
            },
            "type": "histogram"
           }
          ],
          "histogram2d": [
           {
            "colorbar": {
             "outlinewidth": 0,
             "ticks": ""
            },
            "colorscale": [
             [
              0,
              "#0d0887"
             ],
             [
              0.1111111111111111,
              "#46039f"
             ],
             [
              0.2222222222222222,
              "#7201a8"
             ],
             [
              0.3333333333333333,
              "#9c179e"
             ],
             [
              0.4444444444444444,
              "#bd3786"
             ],
             [
              0.5555555555555556,
              "#d8576b"
             ],
             [
              0.6666666666666666,
              "#ed7953"
             ],
             [
              0.7777777777777778,
              "#fb9f3a"
             ],
             [
              0.8888888888888888,
              "#fdca26"
             ],
             [
              1,
              "#f0f921"
             ]
            ],
            "type": "histogram2d"
           }
          ],
          "histogram2dcontour": [
           {
            "colorbar": {
             "outlinewidth": 0,
             "ticks": ""
            },
            "colorscale": [
             [
              0,
              "#0d0887"
             ],
             [
              0.1111111111111111,
              "#46039f"
             ],
             [
              0.2222222222222222,
              "#7201a8"
             ],
             [
              0.3333333333333333,
              "#9c179e"
             ],
             [
              0.4444444444444444,
              "#bd3786"
             ],
             [
              0.5555555555555556,
              "#d8576b"
             ],
             [
              0.6666666666666666,
              "#ed7953"
             ],
             [
              0.7777777777777778,
              "#fb9f3a"
             ],
             [
              0.8888888888888888,
              "#fdca26"
             ],
             [
              1,
              "#f0f921"
             ]
            ],
            "type": "histogram2dcontour"
           }
          ],
          "mesh3d": [
           {
            "colorbar": {
             "outlinewidth": 0,
             "ticks": ""
            },
            "type": "mesh3d"
           }
          ],
          "parcoords": [
           {
            "line": {
             "colorbar": {
              "outlinewidth": 0,
              "ticks": ""
             }
            },
            "type": "parcoords"
           }
          ],
          "pie": [
           {
            "automargin": true,
            "type": "pie"
           }
          ],
          "scatter": [
           {
            "marker": {
             "colorbar": {
              "outlinewidth": 0,
              "ticks": ""
             }
            },
            "type": "scatter"
           }
          ],
          "scatter3d": [
           {
            "line": {
             "colorbar": {
              "outlinewidth": 0,
              "ticks": ""
             }
            },
            "marker": {
             "colorbar": {
              "outlinewidth": 0,
              "ticks": ""
             }
            },
            "type": "scatter3d"
           }
          ],
          "scattercarpet": [
           {
            "marker": {
             "colorbar": {
              "outlinewidth": 0,
              "ticks": ""
             }
            },
            "type": "scattercarpet"
           }
          ],
          "scattergeo": [
           {
            "marker": {
             "colorbar": {
              "outlinewidth": 0,
              "ticks": ""
             }
            },
            "type": "scattergeo"
           }
          ],
          "scattergl": [
           {
            "marker": {
             "colorbar": {
              "outlinewidth": 0,
              "ticks": ""
             }
            },
            "type": "scattergl"
           }
          ],
          "scattermapbox": [
           {
            "marker": {
             "colorbar": {
              "outlinewidth": 0,
              "ticks": ""
             }
            },
            "type": "scattermapbox"
           }
          ],
          "scatterpolar": [
           {
            "marker": {
             "colorbar": {
              "outlinewidth": 0,
              "ticks": ""
             }
            },
            "type": "scatterpolar"
           }
          ],
          "scatterpolargl": [
           {
            "marker": {
             "colorbar": {
              "outlinewidth": 0,
              "ticks": ""
             }
            },
            "type": "scatterpolargl"
           }
          ],
          "scatterternary": [
           {
            "marker": {
             "colorbar": {
              "outlinewidth": 0,
              "ticks": ""
             }
            },
            "type": "scatterternary"
           }
          ],
          "surface": [
           {
            "colorbar": {
             "outlinewidth": 0,
             "ticks": ""
            },
            "colorscale": [
             [
              0,
              "#0d0887"
             ],
             [
              0.1111111111111111,
              "#46039f"
             ],
             [
              0.2222222222222222,
              "#7201a8"
             ],
             [
              0.3333333333333333,
              "#9c179e"
             ],
             [
              0.4444444444444444,
              "#bd3786"
             ],
             [
              0.5555555555555556,
              "#d8576b"
             ],
             [
              0.6666666666666666,
              "#ed7953"
             ],
             [
              0.7777777777777778,
              "#fb9f3a"
             ],
             [
              0.8888888888888888,
              "#fdca26"
             ],
             [
              1,
              "#f0f921"
             ]
            ],
            "type": "surface"
           }
          ],
          "table": [
           {
            "cells": {
             "fill": {
              "color": "#EBF0F8"
             },
             "line": {
              "color": "white"
             }
            },
            "header": {
             "fill": {
              "color": "#C8D4E3"
             },
             "line": {
              "color": "white"
             }
            },
            "type": "table"
           }
          ]
         },
         "layout": {
          "annotationdefaults": {
           "arrowcolor": "#2a3f5f",
           "arrowhead": 0,
           "arrowwidth": 1
          },
          "autotypenumbers": "strict",
          "coloraxis": {
           "colorbar": {
            "outlinewidth": 0,
            "ticks": ""
           }
          },
          "colorscale": {
           "diverging": [
            [
             0,
             "#8e0152"
            ],
            [
             0.1,
             "#c51b7d"
            ],
            [
             0.2,
             "#de77ae"
            ],
            [
             0.3,
             "#f1b6da"
            ],
            [
             0.4,
             "#fde0ef"
            ],
            [
             0.5,
             "#f7f7f7"
            ],
            [
             0.6,
             "#e6f5d0"
            ],
            [
             0.7,
             "#b8e186"
            ],
            [
             0.8,
             "#7fbc41"
            ],
            [
             0.9,
             "#4d9221"
            ],
            [
             1,
             "#276419"
            ]
           ],
           "sequential": [
            [
             0,
             "#0d0887"
            ],
            [
             0.1111111111111111,
             "#46039f"
            ],
            [
             0.2222222222222222,
             "#7201a8"
            ],
            [
             0.3333333333333333,
             "#9c179e"
            ],
            [
             0.4444444444444444,
             "#bd3786"
            ],
            [
             0.5555555555555556,
             "#d8576b"
            ],
            [
             0.6666666666666666,
             "#ed7953"
            ],
            [
             0.7777777777777778,
             "#fb9f3a"
            ],
            [
             0.8888888888888888,
             "#fdca26"
            ],
            [
             1,
             "#f0f921"
            ]
           ],
           "sequentialminus": [
            [
             0,
             "#0d0887"
            ],
            [
             0.1111111111111111,
             "#46039f"
            ],
            [
             0.2222222222222222,
             "#7201a8"
            ],
            [
             0.3333333333333333,
             "#9c179e"
            ],
            [
             0.4444444444444444,
             "#bd3786"
            ],
            [
             0.5555555555555556,
             "#d8576b"
            ],
            [
             0.6666666666666666,
             "#ed7953"
            ],
            [
             0.7777777777777778,
             "#fb9f3a"
            ],
            [
             0.8888888888888888,
             "#fdca26"
            ],
            [
             1,
             "#f0f921"
            ]
           ]
          },
          "colorway": [
           "#636efa",
           "#EF553B",
           "#00cc96",
           "#ab63fa",
           "#FFA15A",
           "#19d3f3",
           "#FF6692",
           "#B6E880",
           "#FF97FF",
           "#FECB52"
          ],
          "font": {
           "color": "#2a3f5f"
          },
          "geo": {
           "bgcolor": "white",
           "lakecolor": "white",
           "landcolor": "#E5ECF6",
           "showlakes": true,
           "showland": true,
           "subunitcolor": "white"
          },
          "hoverlabel": {
           "align": "left"
          },
          "hovermode": "closest",
          "mapbox": {
           "style": "light"
          },
          "paper_bgcolor": "white",
          "plot_bgcolor": "#E5ECF6",
          "polar": {
           "angularaxis": {
            "gridcolor": "white",
            "linecolor": "white",
            "ticks": ""
           },
           "bgcolor": "#E5ECF6",
           "radialaxis": {
            "gridcolor": "white",
            "linecolor": "white",
            "ticks": ""
           }
          },
          "scene": {
           "xaxis": {
            "backgroundcolor": "#E5ECF6",
            "gridcolor": "white",
            "gridwidth": 2,
            "linecolor": "white",
            "showbackground": true,
            "ticks": "",
            "zerolinecolor": "white"
           },
           "yaxis": {
            "backgroundcolor": "#E5ECF6",
            "gridcolor": "white",
            "gridwidth": 2,
            "linecolor": "white",
            "showbackground": true,
            "ticks": "",
            "zerolinecolor": "white"
           },
           "zaxis": {
            "backgroundcolor": "#E5ECF6",
            "gridcolor": "white",
            "gridwidth": 2,
            "linecolor": "white",
            "showbackground": true,
            "ticks": "",
            "zerolinecolor": "white"
           }
          },
          "shapedefaults": {
           "line": {
            "color": "#2a3f5f"
           }
          },
          "ternary": {
           "aaxis": {
            "gridcolor": "white",
            "linecolor": "white",
            "ticks": ""
           },
           "baxis": {
            "gridcolor": "white",
            "linecolor": "white",
            "ticks": ""
           },
           "bgcolor": "#E5ECF6",
           "caxis": {
            "gridcolor": "white",
            "linecolor": "white",
            "ticks": ""
           }
          },
          "title": {
           "x": 0.05
          },
          "xaxis": {
           "automargin": true,
           "gridcolor": "white",
           "linecolor": "white",
           "ticks": "",
           "title": {
            "standoff": 15
           },
           "zerolinecolor": "white",
           "zerolinewidth": 2
          },
          "yaxis": {
           "automargin": true,
           "gridcolor": "white",
           "linecolor": "white",
           "ticks": "",
           "title": {
            "standoff": 15
           },
           "zerolinecolor": "white",
           "zerolinewidth": 2
          }
         }
        },
        "xaxis": {
         "anchor": "y",
         "domain": [
          0,
          1
         ],
         "title": {
          "text": "f1_macro"
         }
        },
        "yaxis": {
         "anchor": "x",
         "domain": [
          0,
          1
         ],
         "title": {
          "text": "recall_macro"
         }
        }
       }
      }
     },
     "metadata": {},
     "output_type": "display_data"
    },
    {
     "ename": "ValueError",
     "evalue": "Value of 'x' is not the name of a column in 'data_frame'. Expected one of ['tn', 'fp', 'fn', 'tp', 'level', 'precision_average', 'precision_micro', 'precision_macro', 'recall_average', 'recall_micro', 'recall_macro', 'f1_average', 'f1_micro', 'f1_macro', 'mattew__not_used_', 'matthew__not_used_'] but received: matthew",
     "output_type": "error",
     "traceback": [
      "\u001b[0;31m---------------------------------------------------------------------------\u001b[0m",
      "\u001b[0;31mValueError\u001b[0m                                Traceback (most recent call last)",
      "\u001b[0;32m<ipython-input-60-6a5b6a17ab54>\u001b[0m in \u001b[0;36m<module>\u001b[0;34m\u001b[0m\n\u001b[1;32m     13\u001b[0m \u001b[0;32mfor\u001b[0m \u001b[0mdf\u001b[0m \u001b[0;32min\u001b[0m \u001b[0mdatasets\u001b[0m\u001b[0;34m:\u001b[0m\u001b[0;34m\u001b[0m\u001b[0;34m\u001b[0m\u001b[0m\n\u001b[1;32m     14\u001b[0m     \u001b[0;32mfor\u001b[0m \u001b[0mmetrics_tuple\u001b[0m \u001b[0;32min\u001b[0m \u001b[0mmetrics_to_compare\u001b[0m\u001b[0;34m:\u001b[0m\u001b[0;34m\u001b[0m\u001b[0;34m\u001b[0m\u001b[0m\n\u001b[0;32m---> 15\u001b[0;31m         \u001b[0mscatter_plotly\u001b[0m\u001b[0;34m(\u001b[0m\u001b[0mdf\u001b[0m\u001b[0;34m,\u001b[0m \u001b[0mmetrics_tuple\u001b[0m\u001b[0;34m[\u001b[0m\u001b[0;36m0\u001b[0m\u001b[0;34m]\u001b[0m\u001b[0;34m,\u001b[0m \u001b[0mmetrics_tuple\u001b[0m\u001b[0;34m[\u001b[0m\u001b[0;36m1\u001b[0m\u001b[0;34m]\u001b[0m\u001b[0;34m,\u001b[0m \u001b[0;34m\"level\"\u001b[0m\u001b[0;34m)\u001b[0m\u001b[0;34m\u001b[0m\u001b[0;34m\u001b[0m\u001b[0m\n\u001b[0m",
      "\u001b[0;32m<ipython-input-59-f1364e0b3885>\u001b[0m in \u001b[0;36mscatter_plotly\u001b[0;34m(df, x, y, groupby)\u001b[0m\n\u001b[1;32m      2\u001b[0m \u001b[0;34m\u001b[0m\u001b[0m\n\u001b[1;32m      3\u001b[0m \u001b[0;32mdef\u001b[0m \u001b[0mscatter_plotly\u001b[0m\u001b[0;34m(\u001b[0m\u001b[0mdf\u001b[0m\u001b[0;34m,\u001b[0m \u001b[0mx\u001b[0m\u001b[0;34m,\u001b[0m \u001b[0my\u001b[0m\u001b[0;34m,\u001b[0m \u001b[0mgroupby\u001b[0m\u001b[0;34m)\u001b[0m\u001b[0;34m:\u001b[0m\u001b[0;34m\u001b[0m\u001b[0;34m\u001b[0m\u001b[0m\n\u001b[0;32m----> 4\u001b[0;31m     \u001b[0mfig\u001b[0m \u001b[0;34m=\u001b[0m \u001b[0mpx\u001b[0m\u001b[0;34m.\u001b[0m\u001b[0mscatter\u001b[0m\u001b[0;34m(\u001b[0m\u001b[0mdf\u001b[0m\u001b[0;34m,\u001b[0m \u001b[0mx\u001b[0m\u001b[0;34m=\u001b[0m\u001b[0mx\u001b[0m\u001b[0;34m,\u001b[0m \u001b[0my\u001b[0m\u001b[0;34m=\u001b[0m\u001b[0my\u001b[0m\u001b[0;34m,\u001b[0m \u001b[0mcolor\u001b[0m\u001b[0;34m=\u001b[0m\u001b[0mgroupby\u001b[0m\u001b[0;34m,\u001b[0m \u001b[0msymbol\u001b[0m\u001b[0;34m=\u001b[0m\u001b[0mgroupby\u001b[0m\u001b[0;34m)\u001b[0m\u001b[0;34m\u001b[0m\u001b[0;34m\u001b[0m\u001b[0m\n\u001b[0m\u001b[1;32m      5\u001b[0m     fig.update_layout(\n\u001b[1;32m      6\u001b[0m         \u001b[0mmargin\u001b[0m\u001b[0;34m=\u001b[0m\u001b[0mdict\u001b[0m\u001b[0;34m(\u001b[0m\u001b[0ml\u001b[0m\u001b[0;34m=\u001b[0m\u001b[0;36m20\u001b[0m\u001b[0;34m,\u001b[0m \u001b[0mr\u001b[0m\u001b[0;34m=\u001b[0m\u001b[0;36m20\u001b[0m\u001b[0;34m,\u001b[0m \u001b[0mt\u001b[0m\u001b[0;34m=\u001b[0m\u001b[0;36m20\u001b[0m\u001b[0;34m,\u001b[0m \u001b[0mb\u001b[0m\u001b[0;34m=\u001b[0m\u001b[0;36m20\u001b[0m\u001b[0;34m)\u001b[0m\u001b[0;34m,\u001b[0m\u001b[0;34m\u001b[0m\u001b[0;34m\u001b[0m\u001b[0m\n",
      "\u001b[0;32m~/.local/share/virtualenvs/licentiate-thesis-repo-cz9ujhZI/lib/python3.6/site-packages/plotly/express/_chart_types.py\u001b[0m in \u001b[0;36mscatter\u001b[0;34m(data_frame, x, y, color, symbol, size, hover_name, hover_data, custom_data, text, facet_row, facet_col, facet_col_wrap, facet_row_spacing, facet_col_spacing, error_x, error_x_minus, error_y, error_y_minus, animation_frame, animation_group, category_orders, labels, orientation, color_discrete_sequence, color_discrete_map, color_continuous_scale, range_color, color_continuous_midpoint, symbol_sequence, symbol_map, opacity, size_max, marginal_x, marginal_y, trendline, trendline_options, trendline_color_override, trendline_scope, log_x, log_y, range_x, range_y, render_mode, title, template, width, height)\u001b[0m\n\u001b[1;32m     64\u001b[0m     \u001b[0mmark\u001b[0m \u001b[0;32min\u001b[0m \u001b[0;36m2\u001b[0m\u001b[0mD\u001b[0m \u001b[0mspace\u001b[0m\u001b[0;34m.\u001b[0m\u001b[0;34m\u001b[0m\u001b[0;34m\u001b[0m\u001b[0m\n\u001b[1;32m     65\u001b[0m     \"\"\"\n\u001b[0;32m---> 66\u001b[0;31m     \u001b[0;32mreturn\u001b[0m \u001b[0mmake_figure\u001b[0m\u001b[0;34m(\u001b[0m\u001b[0margs\u001b[0m\u001b[0;34m=\u001b[0m\u001b[0mlocals\u001b[0m\u001b[0;34m(\u001b[0m\u001b[0;34m)\u001b[0m\u001b[0;34m,\u001b[0m \u001b[0mconstructor\u001b[0m\u001b[0;34m=\u001b[0m\u001b[0mgo\u001b[0m\u001b[0;34m.\u001b[0m\u001b[0mScatter\u001b[0m\u001b[0;34m)\u001b[0m\u001b[0;34m\u001b[0m\u001b[0;34m\u001b[0m\u001b[0m\n\u001b[0m\u001b[1;32m     67\u001b[0m \u001b[0;34m\u001b[0m\u001b[0m\n\u001b[1;32m     68\u001b[0m \u001b[0;34m\u001b[0m\u001b[0m\n",
      "\u001b[0;32m~/.local/share/virtualenvs/licentiate-thesis-repo-cz9ujhZI/lib/python3.6/site-packages/plotly/express/_core.py\u001b[0m in \u001b[0;36mmake_figure\u001b[0;34m(args, constructor, trace_patch, layout_patch)\u001b[0m\n\u001b[1;32m   1931\u001b[0m     \u001b[0mapply_default_cascade\u001b[0m\u001b[0;34m(\u001b[0m\u001b[0margs\u001b[0m\u001b[0;34m)\u001b[0m\u001b[0;34m\u001b[0m\u001b[0;34m\u001b[0m\u001b[0m\n\u001b[1;32m   1932\u001b[0m \u001b[0;34m\u001b[0m\u001b[0m\n\u001b[0;32m-> 1933\u001b[0;31m     \u001b[0margs\u001b[0m \u001b[0;34m=\u001b[0m \u001b[0mbuild_dataframe\u001b[0m\u001b[0;34m(\u001b[0m\u001b[0margs\u001b[0m\u001b[0;34m,\u001b[0m \u001b[0mconstructor\u001b[0m\u001b[0;34m)\u001b[0m\u001b[0;34m\u001b[0m\u001b[0;34m\u001b[0m\u001b[0m\n\u001b[0m\u001b[1;32m   1934\u001b[0m     \u001b[0;32mif\u001b[0m \u001b[0mconstructor\u001b[0m \u001b[0;32min\u001b[0m \u001b[0;34m[\u001b[0m\u001b[0mgo\u001b[0m\u001b[0;34m.\u001b[0m\u001b[0mTreemap\u001b[0m\u001b[0;34m,\u001b[0m \u001b[0mgo\u001b[0m\u001b[0;34m.\u001b[0m\u001b[0mSunburst\u001b[0m\u001b[0;34m,\u001b[0m \u001b[0mgo\u001b[0m\u001b[0;34m.\u001b[0m\u001b[0mIcicle\u001b[0m\u001b[0;34m]\u001b[0m \u001b[0;32mand\u001b[0m \u001b[0margs\u001b[0m\u001b[0;34m[\u001b[0m\u001b[0;34m\"path\"\u001b[0m\u001b[0;34m]\u001b[0m \u001b[0;32mis\u001b[0m \u001b[0;32mnot\u001b[0m \u001b[0;32mNone\u001b[0m\u001b[0;34m:\u001b[0m\u001b[0;34m\u001b[0m\u001b[0;34m\u001b[0m\u001b[0m\n\u001b[1;32m   1935\u001b[0m         \u001b[0margs\u001b[0m \u001b[0;34m=\u001b[0m \u001b[0mprocess_dataframe_hierarchy\u001b[0m\u001b[0;34m(\u001b[0m\u001b[0margs\u001b[0m\u001b[0;34m)\u001b[0m\u001b[0;34m\u001b[0m\u001b[0;34m\u001b[0m\u001b[0m\n",
      "\u001b[0;32m~/.local/share/virtualenvs/licentiate-thesis-repo-cz9ujhZI/lib/python3.6/site-packages/plotly/express/_core.py\u001b[0m in \u001b[0;36mbuild_dataframe\u001b[0;34m(args, constructor)\u001b[0m\n\u001b[1;32m   1404\u001b[0m \u001b[0;34m\u001b[0m\u001b[0m\n\u001b[1;32m   1405\u001b[0m     df_output, wide_id_vars = process_args_into_dataframe(\n\u001b[0;32m-> 1406\u001b[0;31m         \u001b[0margs\u001b[0m\u001b[0;34m,\u001b[0m \u001b[0mwide_mode\u001b[0m\u001b[0;34m,\u001b[0m \u001b[0mvar_name\u001b[0m\u001b[0;34m,\u001b[0m \u001b[0mvalue_name\u001b[0m\u001b[0;34m\u001b[0m\u001b[0;34m\u001b[0m\u001b[0m\n\u001b[0m\u001b[1;32m   1407\u001b[0m     )\n\u001b[1;32m   1408\u001b[0m \u001b[0;34m\u001b[0m\u001b[0m\n",
      "\u001b[0;32m~/.local/share/virtualenvs/licentiate-thesis-repo-cz9ujhZI/lib/python3.6/site-packages/plotly/express/_core.py\u001b[0m in \u001b[0;36mprocess_args_into_dataframe\u001b[0;34m(args, wide_mode, var_name, value_name)\u001b[0m\n\u001b[1;32m   1205\u001b[0m                         \u001b[0;32mif\u001b[0m \u001b[0margument\u001b[0m \u001b[0;34m==\u001b[0m \u001b[0;34m\"index\"\u001b[0m\u001b[0;34m:\u001b[0m\u001b[0;34m\u001b[0m\u001b[0;34m\u001b[0m\u001b[0m\n\u001b[1;32m   1206\u001b[0m                             \u001b[0merr_msg\u001b[0m \u001b[0;34m+=\u001b[0m \u001b[0;34m\"\\n To use the index, pass it in directly as `df.index`.\"\u001b[0m\u001b[0;34m\u001b[0m\u001b[0;34m\u001b[0m\u001b[0m\n\u001b[0;32m-> 1207\u001b[0;31m                         \u001b[0;32mraise\u001b[0m \u001b[0mValueError\u001b[0m\u001b[0;34m(\u001b[0m\u001b[0merr_msg\u001b[0m\u001b[0;34m)\u001b[0m\u001b[0;34m\u001b[0m\u001b[0;34m\u001b[0m\u001b[0m\n\u001b[0m\u001b[1;32m   1208\u001b[0m                 \u001b[0;32melif\u001b[0m \u001b[0mlength\u001b[0m \u001b[0;32mand\u001b[0m \u001b[0mlen\u001b[0m\u001b[0;34m(\u001b[0m\u001b[0mdf_input\u001b[0m\u001b[0;34m[\u001b[0m\u001b[0margument\u001b[0m\u001b[0;34m]\u001b[0m\u001b[0;34m)\u001b[0m \u001b[0;34m!=\u001b[0m \u001b[0mlength\u001b[0m\u001b[0;34m:\u001b[0m\u001b[0;34m\u001b[0m\u001b[0;34m\u001b[0m\u001b[0m\n\u001b[1;32m   1209\u001b[0m                     raise ValueError(\n",
      "\u001b[0;31mValueError\u001b[0m: Value of 'x' is not the name of a column in 'data_frame'. Expected one of ['tn', 'fp', 'fn', 'tp', 'level', 'precision_average', 'precision_micro', 'precision_macro', 'recall_average', 'recall_micro', 'recall_macro', 'f1_average', 'f1_micro', 'f1_macro', 'mattew__not_used_', 'matthew__not_used_'] but received: matthew"
     ]
    }
   ],
   "source": [
    "# precision average vs recall average\n",
    "# precision macro vs recall macro\n",
    "# precision_macro vs recall micro\n",
    "\n",
    "#macro  similar average\n",
    "metrics_to_compare = [\n",
    "            (\"precision_macro\", \"recall_macro\"),\n",
    "         #   (\"precision_macro\", \"recall_macro\"),\n",
    "            (\"precision_macro\", \"recall_micro\"),\n",
    "            (\"f1_macro\", \"recall_macro\"),\n",
    "            (\"matthew\", \"recall_macro\")\n",
    "        ]\n",
    "for df in datasets:\n",
    "    for metrics_tuple in metrics_to_compare: \n",
    "        scatter_plotly(df, metrics_tuple[0], metrics_tuple[1], \"level\")"
   ]
  },
  {
   "cell_type": "code",
   "execution_count": 31,
   "metadata": {},
   "outputs": [
    {
     "data": {
      "application/vnd.plotly.v1+json": {
       "config": {
        "plotlyServerURL": "https://plot.ly"
       },
       "data": [
        {
         "hovertemplate": "level=NO_CRYSTAL_0<br>precision_average=%{x}<br>recall_average=%{y}<extra></extra>",
         "legendgroup": "NO_CRYSTAL_0",
         "marker": {
          "color": "#636efa",
          "symbol": "circle"
         },
         "mode": "markers",
         "name": "NO_CRYSTAL_0",
         "orientation": "v",
         "showlegend": true,
         "type": "scatter",
         "x": [
          0.23077569308316997,
          0.41056821689474227,
          0.33443343833645917,
          0.25243199961757257,
          0.33665790353325925,
          0.2646477414204389,
          0.3259489103766777,
          0.28340109506922084,
          0.28027498363192666,
          0.340053091817614
         ],
         "xaxis": "x",
         "y": [
          0.5,
          0.5,
          0.5,
          0.5,
          0.5,
          0.5,
          0.5,
          0.5,
          0.5,
          0.5
         ],
         "yaxis": "y"
        },
        {
         "hovertemplate": "level=NO_CRYSTAL_1<br>precision_average=%{x}<br>recall_average=%{y}<extra></extra>",
         "legendgroup": "NO_CRYSTAL_1",
         "marker": {
          "color": "#EF553B",
          "symbol": "diamond"
         },
         "mode": "markers",
         "name": "NO_CRYSTAL_1",
         "orientation": "v",
         "showlegend": true,
         "type": "scatter",
         "x": [
          0.43594810294054887,
          0.46914361447704084,
          0.3777102162137695,
          0.4580984437998285,
          0.42819708924315697,
          0.45605127134130424,
          0.4022849819302844,
          0.43174454244073307,
          0.4883601978366069,
          0.45147685843168756
         ],
         "xaxis": "x",
         "y": [
          0.5,
          0.5,
          0.5,
          0.5,
          0.5,
          0.5,
          0.5,
          0.5,
          0.5,
          0.5
         ],
         "yaxis": "y"
        },
        {
         "hovertemplate": "level=NO_CRYSTAL_2<br>precision_average=%{x}<br>recall_average=%{y}<extra></extra>",
         "legendgroup": "NO_CRYSTAL_2",
         "marker": {
          "color": "#00cc96",
          "symbol": "square"
         },
         "mode": "markers",
         "name": "NO_CRYSTAL_2",
         "orientation": "v",
         "showlegend": true,
         "type": "scatter",
         "x": [
          0.5,
          0.5,
          0.5,
          0.5,
          0.5,
          0.5,
          0.5,
          0.5,
          0.5,
          0.5
         ],
         "xaxis": "x",
         "y": [
          0.5,
          0.5,
          0.5,
          0.5,
          0.5,
          0.5,
          0.5,
          0.5,
          0.5,
          0.5
         ],
         "yaxis": "y"
        },
        {
         "hovertemplate": "level=FEW_CRYSTAL_0<br>precision_average=%{x}<br>recall_average=%{y}<extra></extra>",
         "legendgroup": "FEW_CRYSTAL_0",
         "marker": {
          "color": "#ab63fa",
          "symbol": "x"
         },
         "mode": "markers",
         "name": "FEW_CRYSTAL_0",
         "orientation": "v",
         "showlegend": true,
         "type": "scatter",
         "x": [
          0.4329687802590943,
          0.4277487445161144,
          0.4254898159341286,
          0.4441204940114523,
          0.4311516339043044,
          0.4435483870967742,
          0.43169982412462027,
          0.4570102289613781,
          0.467437072535244,
          0.4545223464921975
         ],
         "xaxis": "x",
         "y": [
          0.5,
          0.5,
          0.5,
          0.5,
          0.5,
          0.5,
          0.5,
          0.5,
          0.5,
          0.5
         ],
         "yaxis": "y"
        },
        {
         "hovertemplate": "level=FEW_CRYSTAL_1<br>precision_average=%{x}<br>recall_average=%{y}<extra></extra>",
         "legendgroup": "FEW_CRYSTAL_1",
         "marker": {
          "color": "#FFA15A",
          "symbol": "cross"
         },
         "mode": "markers",
         "name": "FEW_CRYSTAL_1",
         "orientation": "v",
         "showlegend": true,
         "type": "scatter",
         "x": [
          0.4278034476630531,
          0.44057565051045305,
          0.43200280335127905,
          0.3902875922086348,
          0.4299602119879508,
          0.44081761253987634,
          0.43486324744052623,
          0.45583418774208245,
          0.4392786144168187,
          0.43219268749144135
         ],
         "xaxis": "x",
         "y": [
          0.4451378776321568,
          0.46925060033057164,
          0.41215713091710354,
          0.4142055235386573,
          0.4351047355122667,
          0.46656884650015007,
          0.45209723239880195,
          0.43991616848759707,
          0.4568776287652415,
          0.4361076566410268
         ],
         "yaxis": "y"
        },
        {
         "hovertemplate": "level=FEW_CRYSTAL_2<br>precision_average=%{x}<br>recall_average=%{y}<extra></extra>",
         "legendgroup": "FEW_CRYSTAL_2",
         "marker": {
          "color": "#19d3f3",
          "symbol": "circle"
         },
         "mode": "markers",
         "name": "FEW_CRYSTAL_2",
         "orientation": "v",
         "showlegend": true,
         "type": "scatter",
         "x": [
          0.4514692787177204,
          0.4692685596806707,
          0.45282276572028063,
          0.4867762962637266,
          0.4739811103012634,
          0.4648198894689304,
          0.47177797030862173,
          0.4847763225038272,
          0.4857511789804626,
          0.47173264289650724
         ],
         "xaxis": "x",
         "y": [
          0.4056772718613069,
          0.481369138913234,
          0.41943516550258125,
          0.46034179860078794,
          0.47423314747572964,
          0.47187038619939387,
          0.4534360336232797,
          0.43062417841439643,
          0.4522418172884935,
          0.4549575298093605
         ],
         "yaxis": "y"
        },
        {
         "hovertemplate": "level=FEW_CRYSTAL_3<br>precision_average=%{x}<br>recall_average=%{y}<extra></extra>",
         "legendgroup": "FEW_CRYSTAL_3",
         "marker": {
          "color": "#FF6692",
          "symbol": "diamond"
         },
         "mode": "markers",
         "name": "FEW_CRYSTAL_3",
         "orientation": "v",
         "showlegend": true,
         "type": "scatter",
         "x": [
          0.7851754401732534,
          0.7682137027877745,
          0.8197571614197187,
          0.8174619033668484,
          0.7797600742407429,
          0.8430863649923676,
          0.8280897883585971,
          0.8523608655642547,
          0.6948034211165991,
          0.7532549818285305
         ],
         "xaxis": "x",
         "y": [
          0.806771945577125,
          0.7558341719780834,
          0.7992327223586548,
          0.8219753693547605,
          0.806417995283331,
          0.8020002484409808,
          0.803895701469292,
          0.8222868665942566,
          0.7040426295511669,
          0.8020149457469139
         ],
         "yaxis": "y"
        },
        {
         "hovertemplate": "level=SOME_CRYSTAL_0<br>precision_average=%{x}<br>recall_average=%{y}<extra></extra>",
         "legendgroup": "SOME_CRYSTAL_0",
         "marker": {
          "color": "#B6E880",
          "symbol": "square"
         },
         "mode": "markers",
         "name": "SOME_CRYSTAL_0",
         "orientation": "v",
         "showlegend": true,
         "type": "scatter",
         "x": [
          0.3500780129881083,
          0.28030717627328094,
          0.31770628885460506,
          0.3010568815090416,
          0.4127583853354134,
          0.2692406428094676,
          0.38625758468570337,
          0.3315170312161619,
          0.2395042172671026,
          0.385511087841007
         ],
         "xaxis": "x",
         "y": [
          0.5,
          0.5,
          0.5,
          0.5,
          0.5,
          0.5,
          0.5,
          0.5,
          0.5,
          0.5
         ],
         "yaxis": "y"
        },
        {
         "hovertemplate": "level=SOME_CRYSTAL_1<br>precision_average=%{x}<br>recall_average=%{y}<extra></extra>",
         "legendgroup": "SOME_CRYSTAL_1",
         "marker": {
          "color": "#FF97FF",
          "symbol": "x"
         },
         "mode": "markers",
         "name": "SOME_CRYSTAL_1",
         "orientation": "v",
         "showlegend": true,
         "type": "scatter",
         "x": [
          0.24520531229026418,
          0.3204386795243448,
          0.28337196325864883,
          0.29915238206761124,
          0.35326695457453616,
          0.3088801571709234,
          0.3054921547956562,
          0.30479322965430866,
          0.3593168714104279,
          0.2972785664459201
         ],
         "xaxis": "x",
         "y": [
          0.3910512146865168,
          0.33743205569486195,
          0.36003708349239244,
          0.3911732488427698,
          0.37160864261577936,
          0.4517167073696308,
          0.3912271273528024,
          0.37563501221321427,
          0.3981952021523055,
          0.38272101702822486
         ],
         "yaxis": "y"
        },
        {
         "hovertemplate": "level=SOME_CRYSTAL_2<br>precision_average=%{x}<br>recall_average=%{y}<extra></extra>",
         "legendgroup": "SOME_CRYSTAL_2",
         "marker": {
          "color": "#FECB52",
          "symbol": "cross"
         },
         "mode": "markers",
         "name": "SOME_CRYSTAL_2",
         "orientation": "v",
         "showlegend": true,
         "type": "scatter",
         "x": [
          0.28243716393647617,
          0.39192038307604343,
          0.26856225636321945,
          0.3020198329853862,
          0.3146220117752144,
          0.2889299255205585,
          0.3027742481999153,
          0.33365482809485986,
          0.2780697970119431,
          0.2561212251883195
         ],
         "xaxis": "x",
         "y": [
          0.4367579378891596,
          0.4414724469669525,
          0.36858586017529227,
          0.3879213257179632,
          0.41718670402445235,
          0.3671666692654328,
          0.39060707065187694,
          0.3555991292930689,
          0.3667954535244171,
          0.3225486203034314
         ],
         "yaxis": "y"
        },
        {
         "hovertemplate": "level=SOME_CRYSTAL_3<br>precision_average=%{x}<br>recall_average=%{y}<extra></extra>",
         "legendgroup": "SOME_CRYSTAL_3",
         "marker": {
          "color": "#636efa",
          "symbol": "circle"
         },
         "mode": "markers",
         "name": "SOME_CRYSTAL_3",
         "orientation": "v",
         "showlegend": true,
         "type": "scatter",
         "x": [
          0.3438072490257123,
          0.32591245060616636,
          0.5774922570806081,
          0.3505078012539861,
          0.5047194223051622,
          0.5694030353366857,
          0.5122726338142723,
          0.5222650038381917,
          0.4103413930199288,
          0.5367137861713485
         ],
         "xaxis": "x",
         "y": [
          0.4149622632563183,
          0.35983241600045973,
          0.5344017445246294,
          0.40558104883042756,
          0.5025975872582535,
          0.5432270570236304,
          0.5059385368971883,
          0.5146758554652083,
          0.4450856140590004,
          0.5216103589667964
         ],
         "yaxis": "y"
        }
       ],
       "layout": {
        "legend": {
         "title": {
          "text": "level"
         },
         "tracegroupgap": 0
        },
        "margin": {
         "b": 20,
         "l": 20,
         "r": 20,
         "t": 20
        },
        "template": {
         "data": {
          "bar": [
           {
            "error_x": {
             "color": "#2a3f5f"
            },
            "error_y": {
             "color": "#2a3f5f"
            },
            "marker": {
             "line": {
              "color": "#E5ECF6",
              "width": 0.5
             },
             "pattern": {
              "fillmode": "overlay",
              "size": 10,
              "solidity": 0.2
             }
            },
            "type": "bar"
           }
          ],
          "barpolar": [
           {
            "marker": {
             "line": {
              "color": "#E5ECF6",
              "width": 0.5
             },
             "pattern": {
              "fillmode": "overlay",
              "size": 10,
              "solidity": 0.2
             }
            },
            "type": "barpolar"
           }
          ],
          "carpet": [
           {
            "aaxis": {
             "endlinecolor": "#2a3f5f",
             "gridcolor": "white",
             "linecolor": "white",
             "minorgridcolor": "white",
             "startlinecolor": "#2a3f5f"
            },
            "baxis": {
             "endlinecolor": "#2a3f5f",
             "gridcolor": "white",
             "linecolor": "white",
             "minorgridcolor": "white",
             "startlinecolor": "#2a3f5f"
            },
            "type": "carpet"
           }
          ],
          "choropleth": [
           {
            "colorbar": {
             "outlinewidth": 0,
             "ticks": ""
            },
            "type": "choropleth"
           }
          ],
          "contour": [
           {
            "colorbar": {
             "outlinewidth": 0,
             "ticks": ""
            },
            "colorscale": [
             [
              0,
              "#0d0887"
             ],
             [
              0.1111111111111111,
              "#46039f"
             ],
             [
              0.2222222222222222,
              "#7201a8"
             ],
             [
              0.3333333333333333,
              "#9c179e"
             ],
             [
              0.4444444444444444,
              "#bd3786"
             ],
             [
              0.5555555555555556,
              "#d8576b"
             ],
             [
              0.6666666666666666,
              "#ed7953"
             ],
             [
              0.7777777777777778,
              "#fb9f3a"
             ],
             [
              0.8888888888888888,
              "#fdca26"
             ],
             [
              1,
              "#f0f921"
             ]
            ],
            "type": "contour"
           }
          ],
          "contourcarpet": [
           {
            "colorbar": {
             "outlinewidth": 0,
             "ticks": ""
            },
            "type": "contourcarpet"
           }
          ],
          "heatmap": [
           {
            "colorbar": {
             "outlinewidth": 0,
             "ticks": ""
            },
            "colorscale": [
             [
              0,
              "#0d0887"
             ],
             [
              0.1111111111111111,
              "#46039f"
             ],
             [
              0.2222222222222222,
              "#7201a8"
             ],
             [
              0.3333333333333333,
              "#9c179e"
             ],
             [
              0.4444444444444444,
              "#bd3786"
             ],
             [
              0.5555555555555556,
              "#d8576b"
             ],
             [
              0.6666666666666666,
              "#ed7953"
             ],
             [
              0.7777777777777778,
              "#fb9f3a"
             ],
             [
              0.8888888888888888,
              "#fdca26"
             ],
             [
              1,
              "#f0f921"
             ]
            ],
            "type": "heatmap"
           }
          ],
          "heatmapgl": [
           {
            "colorbar": {
             "outlinewidth": 0,
             "ticks": ""
            },
            "colorscale": [
             [
              0,
              "#0d0887"
             ],
             [
              0.1111111111111111,
              "#46039f"
             ],
             [
              0.2222222222222222,
              "#7201a8"
             ],
             [
              0.3333333333333333,
              "#9c179e"
             ],
             [
              0.4444444444444444,
              "#bd3786"
             ],
             [
              0.5555555555555556,
              "#d8576b"
             ],
             [
              0.6666666666666666,
              "#ed7953"
             ],
             [
              0.7777777777777778,
              "#fb9f3a"
             ],
             [
              0.8888888888888888,
              "#fdca26"
             ],
             [
              1,
              "#f0f921"
             ]
            ],
            "type": "heatmapgl"
           }
          ],
          "histogram": [
           {
            "marker": {
             "pattern": {
              "fillmode": "overlay",
              "size": 10,
              "solidity": 0.2
             }
            },
            "type": "histogram"
           }
          ],
          "histogram2d": [
           {
            "colorbar": {
             "outlinewidth": 0,
             "ticks": ""
            },
            "colorscale": [
             [
              0,
              "#0d0887"
             ],
             [
              0.1111111111111111,
              "#46039f"
             ],
             [
              0.2222222222222222,
              "#7201a8"
             ],
             [
              0.3333333333333333,
              "#9c179e"
             ],
             [
              0.4444444444444444,
              "#bd3786"
             ],
             [
              0.5555555555555556,
              "#d8576b"
             ],
             [
              0.6666666666666666,
              "#ed7953"
             ],
             [
              0.7777777777777778,
              "#fb9f3a"
             ],
             [
              0.8888888888888888,
              "#fdca26"
             ],
             [
              1,
              "#f0f921"
             ]
            ],
            "type": "histogram2d"
           }
          ],
          "histogram2dcontour": [
           {
            "colorbar": {
             "outlinewidth": 0,
             "ticks": ""
            },
            "colorscale": [
             [
              0,
              "#0d0887"
             ],
             [
              0.1111111111111111,
              "#46039f"
             ],
             [
              0.2222222222222222,
              "#7201a8"
             ],
             [
              0.3333333333333333,
              "#9c179e"
             ],
             [
              0.4444444444444444,
              "#bd3786"
             ],
             [
              0.5555555555555556,
              "#d8576b"
             ],
             [
              0.6666666666666666,
              "#ed7953"
             ],
             [
              0.7777777777777778,
              "#fb9f3a"
             ],
             [
              0.8888888888888888,
              "#fdca26"
             ],
             [
              1,
              "#f0f921"
             ]
            ],
            "type": "histogram2dcontour"
           }
          ],
          "mesh3d": [
           {
            "colorbar": {
             "outlinewidth": 0,
             "ticks": ""
            },
            "type": "mesh3d"
           }
          ],
          "parcoords": [
           {
            "line": {
             "colorbar": {
              "outlinewidth": 0,
              "ticks": ""
             }
            },
            "type": "parcoords"
           }
          ],
          "pie": [
           {
            "automargin": true,
            "type": "pie"
           }
          ],
          "scatter": [
           {
            "marker": {
             "colorbar": {
              "outlinewidth": 0,
              "ticks": ""
             }
            },
            "type": "scatter"
           }
          ],
          "scatter3d": [
           {
            "line": {
             "colorbar": {
              "outlinewidth": 0,
              "ticks": ""
             }
            },
            "marker": {
             "colorbar": {
              "outlinewidth": 0,
              "ticks": ""
             }
            },
            "type": "scatter3d"
           }
          ],
          "scattercarpet": [
           {
            "marker": {
             "colorbar": {
              "outlinewidth": 0,
              "ticks": ""
             }
            },
            "type": "scattercarpet"
           }
          ],
          "scattergeo": [
           {
            "marker": {
             "colorbar": {
              "outlinewidth": 0,
              "ticks": ""
             }
            },
            "type": "scattergeo"
           }
          ],
          "scattergl": [
           {
            "marker": {
             "colorbar": {
              "outlinewidth": 0,
              "ticks": ""
             }
            },
            "type": "scattergl"
           }
          ],
          "scattermapbox": [
           {
            "marker": {
             "colorbar": {
              "outlinewidth": 0,
              "ticks": ""
             }
            },
            "type": "scattermapbox"
           }
          ],
          "scatterpolar": [
           {
            "marker": {
             "colorbar": {
              "outlinewidth": 0,
              "ticks": ""
             }
            },
            "type": "scatterpolar"
           }
          ],
          "scatterpolargl": [
           {
            "marker": {
             "colorbar": {
              "outlinewidth": 0,
              "ticks": ""
             }
            },
            "type": "scatterpolargl"
           }
          ],
          "scatterternary": [
           {
            "marker": {
             "colorbar": {
              "outlinewidth": 0,
              "ticks": ""
             }
            },
            "type": "scatterternary"
           }
          ],
          "surface": [
           {
            "colorbar": {
             "outlinewidth": 0,
             "ticks": ""
            },
            "colorscale": [
             [
              0,
              "#0d0887"
             ],
             [
              0.1111111111111111,
              "#46039f"
             ],
             [
              0.2222222222222222,
              "#7201a8"
             ],
             [
              0.3333333333333333,
              "#9c179e"
             ],
             [
              0.4444444444444444,
              "#bd3786"
             ],
             [
              0.5555555555555556,
              "#d8576b"
             ],
             [
              0.6666666666666666,
              "#ed7953"
             ],
             [
              0.7777777777777778,
              "#fb9f3a"
             ],
             [
              0.8888888888888888,
              "#fdca26"
             ],
             [
              1,
              "#f0f921"
             ]
            ],
            "type": "surface"
           }
          ],
          "table": [
           {
            "cells": {
             "fill": {
              "color": "#EBF0F8"
             },
             "line": {
              "color": "white"
             }
            },
            "header": {
             "fill": {
              "color": "#C8D4E3"
             },
             "line": {
              "color": "white"
             }
            },
            "type": "table"
           }
          ]
         },
         "layout": {
          "annotationdefaults": {
           "arrowcolor": "#2a3f5f",
           "arrowhead": 0,
           "arrowwidth": 1
          },
          "autotypenumbers": "strict",
          "coloraxis": {
           "colorbar": {
            "outlinewidth": 0,
            "ticks": ""
           }
          },
          "colorscale": {
           "diverging": [
            [
             0,
             "#8e0152"
            ],
            [
             0.1,
             "#c51b7d"
            ],
            [
             0.2,
             "#de77ae"
            ],
            [
             0.3,
             "#f1b6da"
            ],
            [
             0.4,
             "#fde0ef"
            ],
            [
             0.5,
             "#f7f7f7"
            ],
            [
             0.6,
             "#e6f5d0"
            ],
            [
             0.7,
             "#b8e186"
            ],
            [
             0.8,
             "#7fbc41"
            ],
            [
             0.9,
             "#4d9221"
            ],
            [
             1,
             "#276419"
            ]
           ],
           "sequential": [
            [
             0,
             "#0d0887"
            ],
            [
             0.1111111111111111,
             "#46039f"
            ],
            [
             0.2222222222222222,
             "#7201a8"
            ],
            [
             0.3333333333333333,
             "#9c179e"
            ],
            [
             0.4444444444444444,
             "#bd3786"
            ],
            [
             0.5555555555555556,
             "#d8576b"
            ],
            [
             0.6666666666666666,
             "#ed7953"
            ],
            [
             0.7777777777777778,
             "#fb9f3a"
            ],
            [
             0.8888888888888888,
             "#fdca26"
            ],
            [
             1,
             "#f0f921"
            ]
           ],
           "sequentialminus": [
            [
             0,
             "#0d0887"
            ],
            [
             0.1111111111111111,
             "#46039f"
            ],
            [
             0.2222222222222222,
             "#7201a8"
            ],
            [
             0.3333333333333333,
             "#9c179e"
            ],
            [
             0.4444444444444444,
             "#bd3786"
            ],
            [
             0.5555555555555556,
             "#d8576b"
            ],
            [
             0.6666666666666666,
             "#ed7953"
            ],
            [
             0.7777777777777778,
             "#fb9f3a"
            ],
            [
             0.8888888888888888,
             "#fdca26"
            ],
            [
             1,
             "#f0f921"
            ]
           ]
          },
          "colorway": [
           "#636efa",
           "#EF553B",
           "#00cc96",
           "#ab63fa",
           "#FFA15A",
           "#19d3f3",
           "#FF6692",
           "#B6E880",
           "#FF97FF",
           "#FECB52"
          ],
          "font": {
           "color": "#2a3f5f"
          },
          "geo": {
           "bgcolor": "white",
           "lakecolor": "white",
           "landcolor": "#E5ECF6",
           "showlakes": true,
           "showland": true,
           "subunitcolor": "white"
          },
          "hoverlabel": {
           "align": "left"
          },
          "hovermode": "closest",
          "mapbox": {
           "style": "light"
          },
          "paper_bgcolor": "white",
          "plot_bgcolor": "#E5ECF6",
          "polar": {
           "angularaxis": {
            "gridcolor": "white",
            "linecolor": "white",
            "ticks": ""
           },
           "bgcolor": "#E5ECF6",
           "radialaxis": {
            "gridcolor": "white",
            "linecolor": "white",
            "ticks": ""
           }
          },
          "scene": {
           "xaxis": {
            "backgroundcolor": "#E5ECF6",
            "gridcolor": "white",
            "gridwidth": 2,
            "linecolor": "white",
            "showbackground": true,
            "ticks": "",
            "zerolinecolor": "white"
           },
           "yaxis": {
            "backgroundcolor": "#E5ECF6",
            "gridcolor": "white",
            "gridwidth": 2,
            "linecolor": "white",
            "showbackground": true,
            "ticks": "",
            "zerolinecolor": "white"
           },
           "zaxis": {
            "backgroundcolor": "#E5ECF6",
            "gridcolor": "white",
            "gridwidth": 2,
            "linecolor": "white",
            "showbackground": true,
            "ticks": "",
            "zerolinecolor": "white"
           }
          },
          "shapedefaults": {
           "line": {
            "color": "#2a3f5f"
           }
          },
          "ternary": {
           "aaxis": {
            "gridcolor": "white",
            "linecolor": "white",
            "ticks": ""
           },
           "baxis": {
            "gridcolor": "white",
            "linecolor": "white",
            "ticks": ""
           },
           "bgcolor": "#E5ECF6",
           "caxis": {
            "gridcolor": "white",
            "linecolor": "white",
            "ticks": ""
           }
          },
          "title": {
           "x": 0.05
          },
          "xaxis": {
           "automargin": true,
           "gridcolor": "white",
           "linecolor": "white",
           "ticks": "",
           "title": {
            "standoff": 15
           },
           "zerolinecolor": "white",
           "zerolinewidth": 2
          },
          "yaxis": {
           "automargin": true,
           "gridcolor": "white",
           "linecolor": "white",
           "ticks": "",
           "title": {
            "standoff": 15
           },
           "zerolinecolor": "white",
           "zerolinewidth": 2
          }
         }
        },
        "xaxis": {
         "anchor": "y",
         "domain": [
          0,
          1
         ],
         "title": {
          "text": "precision_average"
         }
        },
        "yaxis": {
         "anchor": "x",
         "domain": [
          0,
          1
         ],
         "title": {
          "text": "recall_average"
         }
        }
       }
      }
     },
     "metadata": {},
     "output_type": "display_data"
    },
    {
     "data": {
      "application/vnd.plotly.v1+json": {
       "config": {
        "plotlyServerURL": "https://plot.ly"
       },
       "data": [
        {
         "hovertemplate": "level=NO_CRYSTAL_0<br>precision_average=%{x}<br>recall_average=%{y}<extra></extra>",
         "legendgroup": "NO_CRYSTAL_0",
         "marker": {
          "color": "#636efa",
          "symbol": "circle"
         },
         "mode": "markers",
         "name": "NO_CRYSTAL_0",
         "orientation": "v",
         "showlegend": true,
         "type": "scatter",
         "x": [
          0.26529566597681287,
          0.29212565422519315,
          0.2617623200162239,
          0.36258798748285714,
          0.32979286990484896,
          0.3379921055365119,
          0.2954793358380802,
          0.3113835224811574,
          0.30761491779288974,
          0.2831393224002924,
          0.37097575516693165,
          0.2981006511025576,
          0.25148767356191554,
          0.2976961623075043,
          0.32194770455770744,
          0.31874824789068645,
          0.29692123463003617,
          0.31896175240196756,
          0.35472538574577517,
          0.278150018238716
         ],
         "xaxis": "x",
         "y": [
          0.5,
          0.5,
          0.5,
          0.5,
          0.5,
          0.5,
          0.5,
          0.5,
          0.5,
          0.5,
          0.5,
          0.5,
          0.5,
          0.5,
          0.5,
          0.5,
          0.5,
          0.5,
          0.5,
          0.5
         ],
         "yaxis": "y"
        },
        {
         "hovertemplate": "level=NO_CRYSTAL_1<br>precision_average=%{x}<br>recall_average=%{y}<extra></extra>",
         "legendgroup": "NO_CRYSTAL_1",
         "marker": {
          "color": "#EF553B",
          "symbol": "diamond"
         },
         "mode": "markers",
         "name": "NO_CRYSTAL_1",
         "orientation": "v",
         "showlegend": true,
         "type": "scatter",
         "x": [
          0.4625829694750651,
          0.4449032783099273,
          0.4384084726000777,
          0.43628973681363686,
          0.4565679693204131,
          0.45101553166069297,
          0.45682372485949596,
          0.43661249446880407,
          0.4517297912933717,
          0.46599816036289593,
          0.3981387597170262,
          0.44633522049413243,
          0.4279027518033663,
          0.4366751485919371,
          0.4508145988212559,
          0.4108422761652081,
          0.4544278961919201,
          0.4586344054943089,
          0.4574552643378307,
          0.41661984917565204
         ],
         "xaxis": "x",
         "y": [
          0.5,
          0.5,
          0.5,
          0.5,
          0.5,
          0.5,
          0.5,
          0.5,
          0.5,
          0.5,
          0.5,
          0.5,
          0.5,
          0.5,
          0.5,
          0.5,
          0.5,
          0.5,
          0.5,
          0.5
         ],
         "yaxis": "y"
        },
        {
         "hovertemplate": "level=NO_CRYSTAL_2<br>precision_average=%{x}<br>recall_average=%{y}<extra></extra>",
         "legendgroup": "NO_CRYSTAL_2",
         "marker": {
          "color": "#00cc96",
          "symbol": "square"
         },
         "mode": "markers",
         "name": "NO_CRYSTAL_2",
         "orientation": "v",
         "showlegend": true,
         "type": "scatter",
         "x": [
          0.5,
          0.5,
          0.5,
          0.5,
          0.5,
          0.5,
          0.5,
          0.5,
          0.5,
          0.5,
          0.5,
          0.5,
          0.5,
          0.5,
          0.5,
          0.5,
          0.5,
          0.5,
          0.5,
          0.5
         ],
         "xaxis": "x",
         "y": [
          0.5,
          0.5,
          0.5,
          0.5,
          0.5,
          0.5,
          0.5,
          0.5,
          0.5,
          0.5,
          0.5,
          0.5,
          0.5,
          0.5,
          0.5,
          0.5,
          0.5,
          0.5,
          0.5,
          0.5
         ],
         "yaxis": "y"
        },
        {
         "hovertemplate": "level=FEW_CRYSTAL_0<br>precision_average=%{x}<br>recall_average=%{y}<extra></extra>",
         "legendgroup": "FEW_CRYSTAL_0",
         "marker": {
          "color": "#ab63fa",
          "symbol": "x"
         },
         "mode": "markers",
         "name": "FEW_CRYSTAL_0",
         "orientation": "v",
         "showlegend": true,
         "type": "scatter",
         "x": [
          0.4261156861778194,
          0.45163124654075654,
          0.44829749886817627,
          0.4512685660802032,
          0.41993022092917537,
          0.4474978542014254,
          0.43810010711851205,
          0.39584717607973424,
          0.46378550008819897,
          0.4270404406751929,
          0.4181332000962268,
          0.4517702517047102,
          0.4299313826011515,
          0.44745320965358726,
          0.40895414241151473,
          0.4450297433374045,
          0.4408277944539737,
          0.4246018330703929,
          0.43338957967386343,
          0.4285412652748819
         ],
         "xaxis": "x",
         "y": [
          0.5,
          0.5,
          0.5,
          0.5,
          0.5,
          0.5,
          0.5,
          0.5,
          0.5,
          0.5,
          0.5,
          0.5,
          0.5,
          0.5,
          0.5,
          0.5,
          0.5,
          0.5,
          0.5,
          0.5
         ],
         "yaxis": "y"
        },
        {
         "hovertemplate": "level=FEW_CRYSTAL_1<br>precision_average=%{x}<br>recall_average=%{y}<extra></extra>",
         "legendgroup": "FEW_CRYSTAL_1",
         "marker": {
          "color": "#FFA15A",
          "symbol": "cross"
         },
         "mode": "markers",
         "name": "FEW_CRYSTAL_1",
         "orientation": "v",
         "showlegend": true,
         "type": "scatter",
         "x": [
          0.474126907134668,
          0.4351773369003788,
          0.43096281634384276,
          0.41467731573046446,
          0.4331574264786535,
          0.4107549843908605,
          0.4362013044872937,
          0.42698172440856597,
          0.42267462625644164,
          0.4226891573555791,
          0.4553466460294503,
          0.4135106491649216,
          0.4163644326440117,
          0.4416486369536997,
          0.4057421390735941,
          0.44015418657990724,
          0.44072320475328414,
          0.41332991277578246,
          0.4483240914942073,
          0.44025219109460445
         ],
         "xaxis": "x",
         "y": [
          0.4664210937274068,
          0.4378681271821114,
          0.435227094250182,
          0.44689646745770994,
          0.44854045458561026,
          0.46755504687159366,
          0.4463564967905077,
          0.4255622293616427,
          0.42977950713359275,
          0.4435077892922742,
          0.4623424135206623,
          0.4429921755307507,
          0.4451313190430902,
          0.46606299715973953,
          0.4771127927163815,
          0.45577003557229545,
          0.4501640494613867,
          0.4474002821313132,
          0.45462646852093586,
          0.45919667518962876
         ],
         "yaxis": "y"
        },
        {
         "hovertemplate": "level=FEW_CRYSTAL_2<br>precision_average=%{x}<br>recall_average=%{y}<extra></extra>",
         "legendgroup": "FEW_CRYSTAL_2",
         "marker": {
          "color": "#19d3f3",
          "symbol": "circle"
         },
         "mode": "markers",
         "name": "FEW_CRYSTAL_2",
         "orientation": "v",
         "showlegend": true,
         "type": "scatter",
         "x": [
          0.4830668711527553,
          0.48104281304522883,
          0.4451730062417085,
          0.46373211127190866,
          0.47229597224317393,
          0.44926278342119924,
          0.4421365977657368,
          0.47515231155178594,
          0.44620611551528877,
          0.46079418344519013,
          0.4849843479457395,
          0.45562390158172233,
          0.48040367012753254,
          0.4742645508594881,
          0.4798429050836032,
          0.4755356169552639,
          0.4758554240279824,
          0.4797216986229004,
          0.4846523880426068,
          0.4735847143353807
         ],
         "xaxis": "x",
         "y": [
          0.44974621275097554,
          0.4698147125188424,
          0.42923796342895487,
          0.43150941137744264,
          0.4429486998104185,
          0.4203882326989793,
          0.4278270438216066,
          0.4736195455677156,
          0.4243185722710839,
          0.4531820098641389,
          0.44569375217340906,
          0.4051504732988034,
          0.46704545454545454,
          0.43691488948452006,
          0.44123433499528364,
          0.4708910685557112,
          0.4264763508120111,
          0.4646212702620991,
          0.43424495869464824,
          0.4636970952002723
         ],
         "yaxis": "y"
        },
        {
         "hovertemplate": "level=FEW_CRYSTAL_3<br>precision_average=%{x}<br>recall_average=%{y}<extra></extra>",
         "legendgroup": "FEW_CRYSTAL_3",
         "marker": {
          "color": "#FF6692",
          "symbol": "diamond"
         },
         "mode": "markers",
         "name": "FEW_CRYSTAL_3",
         "orientation": "v",
         "showlegend": true,
         "type": "scatter",
         "x": [
          0.7645706360249536,
          0.7553493905427697,
          0.7161865758875059,
          0.7861562256192024,
          0.7992474415991984,
          0.8242744352033916,
          0.7764441797155741,
          0.7953278704253595,
          0.7756436036434378,
          0.7473527829081147,
          0.8260683304464731,
          0.744981786139433,
          0.8024938829003603,
          0.8465707710045148,
          0.7712368552837261,
          0.7532951471906261,
          0.7452660981083373,
          0.8116463057842539,
          0.8165773857933604,
          0.7601529569960839
         ],
         "xaxis": "x",
         "y": [
          0.7848333063634045,
          0.7937237538203797,
          0.7283878358186668,
          0.8062985356576503,
          0.8051169603685058,
          0.8387536500425397,
          0.8557352924453177,
          0.7985191793199687,
          0.7854413222979019,
          0.7426257645441249,
          0.8128264839658788,
          0.7639389215902475,
          0.7879734608754771,
          0.814635583872527,
          0.7917376453191285,
          0.7977576462298821,
          0.8165546752008706,
          0.8019687875637247,
          0.8037235263257282,
          0.7476031126721447
         ],
         "yaxis": "y"
        },
        {
         "hovertemplate": "level=SOME_CRYSTAL_0<br>precision_average=%{x}<br>recall_average=%{y}<extra></extra>",
         "legendgroup": "SOME_CRYSTAL_0",
         "marker": {
          "color": "#B6E880",
          "symbol": "square"
         },
         "mode": "markers",
         "name": "SOME_CRYSTAL_0",
         "orientation": "v",
         "showlegend": true,
         "type": "scatter",
         "x": [
          0.29069650005508835,
          0.32309000433700835,
          0.2891105540964814,
          0.32515599123438,
          0.2976248513928446,
          0.3760757982981283,
          0.27851308567039473,
          0.2899041374149175,
          0.3343803687274033,
          0.3784386092287835,
          0.2965927727511073,
          0.344934033559626,
          0.32256820013374254,
          0.350169602475601,
          0.2983697697760492,
          0.28592886647712035,
          0.3131895523119923,
          0.3263987983477281,
          0.2963862739143638,
          0.3510536652688572
         ],
         "xaxis": "x",
         "y": [
          0.5,
          0.5,
          0.5,
          0.5,
          0.5,
          0.5,
          0.5,
          0.5,
          0.5,
          0.5,
          0.5,
          0.5,
          0.5,
          0.5,
          0.5,
          0.5,
          0.5,
          0.5,
          0.5,
          0.5
         ],
         "yaxis": "y"
        },
        {
         "hovertemplate": "level=SOME_CRYSTAL_1<br>precision_average=%{x}<br>recall_average=%{y}<extra></extra>",
         "legendgroup": "SOME_CRYSTAL_1",
         "marker": {
          "color": "#FF97FF",
          "symbol": "x"
         },
         "mode": "markers",
         "name": "SOME_CRYSTAL_1",
         "orientation": "v",
         "showlegend": true,
         "type": "scatter",
         "x": [
          0.33720499915411944,
          0.28848371540396983,
          0.3110929979816799,
          0.32062924597437065,
          0.3000556476955307,
          0.28542671441286666,
          0.34360881263008275,
          0.34115584362476487,
          0.3499476159693275,
          0.3725322432423868,
          0.23599386393367025,
          0.3380798590722255,
          0.3065641548745551,
          0.31200737025284064,
          0.2864192752431177,
          0.2575069096360144,
          0.31887732096155197,
          0.312588075222314,
          0.292487422721698,
          0.33276071418715675
         ],
         "xaxis": "x",
         "y": [
          0.3714144296279043,
          0.38682582821798417,
          0.36954557190808157,
          0.4016536820166733,
          0.3763085512541566,
          0.3714676328762695,
          0.37944614177200997,
          0.4092280336010792,
          0.2794510306525686,
          0.410895703234225,
          0.35846925793032464,
          0.41916761041902606,
          0.38627879948041294,
          0.36576,
          0.3919232042370076,
          0.3545994065281899,
          0.42002798162715804,
          0.36428632103519554,
          0.36736666719061917,
          0.41753666095327135
         ],
         "yaxis": "y"
        },
        {
         "hovertemplate": "level=SOME_CRYSTAL_2<br>precision_average=%{x}<br>recall_average=%{y}<extra></extra>",
         "legendgroup": "SOME_CRYSTAL_2",
         "marker": {
          "color": "#FECB52",
          "symbol": "cross"
         },
         "mode": "markers",
         "name": "SOME_CRYSTAL_2",
         "orientation": "v",
         "showlegend": true,
         "type": "scatter",
         "x": [
          0.1876554495014987,
          0.2694462607536187,
          0.2620365029865191,
          0.3104934031525705,
          0.23823249350181436,
          0.30842955334255834,
          0.24677846171546913,
          0.24925864021135494,
          0.25025868536099544,
          0.27536954585930545,
          0.259890771201905,
          0.28824293601818773,
          0.2854586330935252,
          0.2918691859529404,
          0.3282155797101449,
          0.31426787336187884,
          0.3627074873215188,
          0.22622354816890522,
          0.3585268389328229,
          0.30232363650399496
         ],
         "xaxis": "x",
         "y": [
          0.28848981992875583,
          0.4253303920179717,
          0.38268088630004,
          0.3886853977754947,
          0.3439218308812602,
          0.37228755664471613,
          0.27208004312941997,
          0.3493868913786914,
          0.3079010184595799,
          0.4151615501655777,
          0.3481173941684291,
          0.38746660147040846,
          0.3141938038206473,
          0.3989279795861503,
          0.3891752972765631,
          0.37765801937357474,
          0.31353327509786794,
          0.3842421631380272,
          0.3626059196114724,
          0.40053694707236
         ],
         "yaxis": "y"
        },
        {
         "hovertemplate": "level=SOME_CRYSTAL_3<br>precision_average=%{x}<br>recall_average=%{y}<extra></extra>",
         "legendgroup": "SOME_CRYSTAL_3",
         "marker": {
          "color": "#636efa",
          "symbol": "circle"
         },
         "mode": "markers",
         "name": "SOME_CRYSTAL_3",
         "orientation": "v",
         "showlegend": true,
         "type": "scatter",
         "x": [
          0.47648544121470626,
          0.4909044848692158,
          0.43781556132286203,
          0.46903001547426526,
          0.48423511700405697,
          0.4511738912105432,
          0.4978616371803728,
          0.4912260974448184,
          0.40912913376836163,
          0.41887535146831223,
          0.5718427484040819,
          0.5177274954677359,
          0.4876866084816054,
          0.5000876101545279,
          0.4187744331396604,
          0.4404582935488437,
          0.5547005548238535,
          0.4855590444754765,
          0.3942239103872149,
          0.3834417595988796
         ],
         "xaxis": "x",
         "y": [
          0.48271552639977067,
          0.4952082100442881,
          0.4685992245736654,
          0.4833121782226653,
          0.49395781853592347,
          0.467968613877739,
          0.49900108672962684,
          0.49446709875197725,
          0.4409687718938261,
          0.4481107243946919,
          0.5337608692947574,
          0.5094184792063746,
          0.4925211216811465,
          0.5000602384674523,
          0.4512255144346625,
          0.45744201795172956,
          0.5411001609107956,
          0.49304963460820744,
          0.4428014046290456,
          0.4378146322385959
         ],
         "yaxis": "y"
        }
       ],
       "layout": {
        "legend": {
         "title": {
          "text": "level"
         },
         "tracegroupgap": 0
        },
        "margin": {
         "b": 20,
         "l": 20,
         "r": 20,
         "t": 20
        },
        "template": {
         "data": {
          "bar": [
           {
            "error_x": {
             "color": "#2a3f5f"
            },
            "error_y": {
             "color": "#2a3f5f"
            },
            "marker": {
             "line": {
              "color": "#E5ECF6",
              "width": 0.5
             },
             "pattern": {
              "fillmode": "overlay",
              "size": 10,
              "solidity": 0.2
             }
            },
            "type": "bar"
           }
          ],
          "barpolar": [
           {
            "marker": {
             "line": {
              "color": "#E5ECF6",
              "width": 0.5
             },
             "pattern": {
              "fillmode": "overlay",
              "size": 10,
              "solidity": 0.2
             }
            },
            "type": "barpolar"
           }
          ],
          "carpet": [
           {
            "aaxis": {
             "endlinecolor": "#2a3f5f",
             "gridcolor": "white",
             "linecolor": "white",
             "minorgridcolor": "white",
             "startlinecolor": "#2a3f5f"
            },
            "baxis": {
             "endlinecolor": "#2a3f5f",
             "gridcolor": "white",
             "linecolor": "white",
             "minorgridcolor": "white",
             "startlinecolor": "#2a3f5f"
            },
            "type": "carpet"
           }
          ],
          "choropleth": [
           {
            "colorbar": {
             "outlinewidth": 0,
             "ticks": ""
            },
            "type": "choropleth"
           }
          ],
          "contour": [
           {
            "colorbar": {
             "outlinewidth": 0,
             "ticks": ""
            },
            "colorscale": [
             [
              0,
              "#0d0887"
             ],
             [
              0.1111111111111111,
              "#46039f"
             ],
             [
              0.2222222222222222,
              "#7201a8"
             ],
             [
              0.3333333333333333,
              "#9c179e"
             ],
             [
              0.4444444444444444,
              "#bd3786"
             ],
             [
              0.5555555555555556,
              "#d8576b"
             ],
             [
              0.6666666666666666,
              "#ed7953"
             ],
             [
              0.7777777777777778,
              "#fb9f3a"
             ],
             [
              0.8888888888888888,
              "#fdca26"
             ],
             [
              1,
              "#f0f921"
             ]
            ],
            "type": "contour"
           }
          ],
          "contourcarpet": [
           {
            "colorbar": {
             "outlinewidth": 0,
             "ticks": ""
            },
            "type": "contourcarpet"
           }
          ],
          "heatmap": [
           {
            "colorbar": {
             "outlinewidth": 0,
             "ticks": ""
            },
            "colorscale": [
             [
              0,
              "#0d0887"
             ],
             [
              0.1111111111111111,
              "#46039f"
             ],
             [
              0.2222222222222222,
              "#7201a8"
             ],
             [
              0.3333333333333333,
              "#9c179e"
             ],
             [
              0.4444444444444444,
              "#bd3786"
             ],
             [
              0.5555555555555556,
              "#d8576b"
             ],
             [
              0.6666666666666666,
              "#ed7953"
             ],
             [
              0.7777777777777778,
              "#fb9f3a"
             ],
             [
              0.8888888888888888,
              "#fdca26"
             ],
             [
              1,
              "#f0f921"
             ]
            ],
            "type": "heatmap"
           }
          ],
          "heatmapgl": [
           {
            "colorbar": {
             "outlinewidth": 0,
             "ticks": ""
            },
            "colorscale": [
             [
              0,
              "#0d0887"
             ],
             [
              0.1111111111111111,
              "#46039f"
             ],
             [
              0.2222222222222222,
              "#7201a8"
             ],
             [
              0.3333333333333333,
              "#9c179e"
             ],
             [
              0.4444444444444444,
              "#bd3786"
             ],
             [
              0.5555555555555556,
              "#d8576b"
             ],
             [
              0.6666666666666666,
              "#ed7953"
             ],
             [
              0.7777777777777778,
              "#fb9f3a"
             ],
             [
              0.8888888888888888,
              "#fdca26"
             ],
             [
              1,
              "#f0f921"
             ]
            ],
            "type": "heatmapgl"
           }
          ],
          "histogram": [
           {
            "marker": {
             "pattern": {
              "fillmode": "overlay",
              "size": 10,
              "solidity": 0.2
             }
            },
            "type": "histogram"
           }
          ],
          "histogram2d": [
           {
            "colorbar": {
             "outlinewidth": 0,
             "ticks": ""
            },
            "colorscale": [
             [
              0,
              "#0d0887"
             ],
             [
              0.1111111111111111,
              "#46039f"
             ],
             [
              0.2222222222222222,
              "#7201a8"
             ],
             [
              0.3333333333333333,
              "#9c179e"
             ],
             [
              0.4444444444444444,
              "#bd3786"
             ],
             [
              0.5555555555555556,
              "#d8576b"
             ],
             [
              0.6666666666666666,
              "#ed7953"
             ],
             [
              0.7777777777777778,
              "#fb9f3a"
             ],
             [
              0.8888888888888888,
              "#fdca26"
             ],
             [
              1,
              "#f0f921"
             ]
            ],
            "type": "histogram2d"
           }
          ],
          "histogram2dcontour": [
           {
            "colorbar": {
             "outlinewidth": 0,
             "ticks": ""
            },
            "colorscale": [
             [
              0,
              "#0d0887"
             ],
             [
              0.1111111111111111,
              "#46039f"
             ],
             [
              0.2222222222222222,
              "#7201a8"
             ],
             [
              0.3333333333333333,
              "#9c179e"
             ],
             [
              0.4444444444444444,
              "#bd3786"
             ],
             [
              0.5555555555555556,
              "#d8576b"
             ],
             [
              0.6666666666666666,
              "#ed7953"
             ],
             [
              0.7777777777777778,
              "#fb9f3a"
             ],
             [
              0.8888888888888888,
              "#fdca26"
             ],
             [
              1,
              "#f0f921"
             ]
            ],
            "type": "histogram2dcontour"
           }
          ],
          "mesh3d": [
           {
            "colorbar": {
             "outlinewidth": 0,
             "ticks": ""
            },
            "type": "mesh3d"
           }
          ],
          "parcoords": [
           {
            "line": {
             "colorbar": {
              "outlinewidth": 0,
              "ticks": ""
             }
            },
            "type": "parcoords"
           }
          ],
          "pie": [
           {
            "automargin": true,
            "type": "pie"
           }
          ],
          "scatter": [
           {
            "marker": {
             "colorbar": {
              "outlinewidth": 0,
              "ticks": ""
             }
            },
            "type": "scatter"
           }
          ],
          "scatter3d": [
           {
            "line": {
             "colorbar": {
              "outlinewidth": 0,
              "ticks": ""
             }
            },
            "marker": {
             "colorbar": {
              "outlinewidth": 0,
              "ticks": ""
             }
            },
            "type": "scatter3d"
           }
          ],
          "scattercarpet": [
           {
            "marker": {
             "colorbar": {
              "outlinewidth": 0,
              "ticks": ""
             }
            },
            "type": "scattercarpet"
           }
          ],
          "scattergeo": [
           {
            "marker": {
             "colorbar": {
              "outlinewidth": 0,
              "ticks": ""
             }
            },
            "type": "scattergeo"
           }
          ],
          "scattergl": [
           {
            "marker": {
             "colorbar": {
              "outlinewidth": 0,
              "ticks": ""
             }
            },
            "type": "scattergl"
           }
          ],
          "scattermapbox": [
           {
            "marker": {
             "colorbar": {
              "outlinewidth": 0,
              "ticks": ""
             }
            },
            "type": "scattermapbox"
           }
          ],
          "scatterpolar": [
           {
            "marker": {
             "colorbar": {
              "outlinewidth": 0,
              "ticks": ""
             }
            },
            "type": "scatterpolar"
           }
          ],
          "scatterpolargl": [
           {
            "marker": {
             "colorbar": {
              "outlinewidth": 0,
              "ticks": ""
             }
            },
            "type": "scatterpolargl"
           }
          ],
          "scatterternary": [
           {
            "marker": {
             "colorbar": {
              "outlinewidth": 0,
              "ticks": ""
             }
            },
            "type": "scatterternary"
           }
          ],
          "surface": [
           {
            "colorbar": {
             "outlinewidth": 0,
             "ticks": ""
            },
            "colorscale": [
             [
              0,
              "#0d0887"
             ],
             [
              0.1111111111111111,
              "#46039f"
             ],
             [
              0.2222222222222222,
              "#7201a8"
             ],
             [
              0.3333333333333333,
              "#9c179e"
             ],
             [
              0.4444444444444444,
              "#bd3786"
             ],
             [
              0.5555555555555556,
              "#d8576b"
             ],
             [
              0.6666666666666666,
              "#ed7953"
             ],
             [
              0.7777777777777778,
              "#fb9f3a"
             ],
             [
              0.8888888888888888,
              "#fdca26"
             ],
             [
              1,
              "#f0f921"
             ]
            ],
            "type": "surface"
           }
          ],
          "table": [
           {
            "cells": {
             "fill": {
              "color": "#EBF0F8"
             },
             "line": {
              "color": "white"
             }
            },
            "header": {
             "fill": {
              "color": "#C8D4E3"
             },
             "line": {
              "color": "white"
             }
            },
            "type": "table"
           }
          ]
         },
         "layout": {
          "annotationdefaults": {
           "arrowcolor": "#2a3f5f",
           "arrowhead": 0,
           "arrowwidth": 1
          },
          "autotypenumbers": "strict",
          "coloraxis": {
           "colorbar": {
            "outlinewidth": 0,
            "ticks": ""
           }
          },
          "colorscale": {
           "diverging": [
            [
             0,
             "#8e0152"
            ],
            [
             0.1,
             "#c51b7d"
            ],
            [
             0.2,
             "#de77ae"
            ],
            [
             0.3,
             "#f1b6da"
            ],
            [
             0.4,
             "#fde0ef"
            ],
            [
             0.5,
             "#f7f7f7"
            ],
            [
             0.6,
             "#e6f5d0"
            ],
            [
             0.7,
             "#b8e186"
            ],
            [
             0.8,
             "#7fbc41"
            ],
            [
             0.9,
             "#4d9221"
            ],
            [
             1,
             "#276419"
            ]
           ],
           "sequential": [
            [
             0,
             "#0d0887"
            ],
            [
             0.1111111111111111,
             "#46039f"
            ],
            [
             0.2222222222222222,
             "#7201a8"
            ],
            [
             0.3333333333333333,
             "#9c179e"
            ],
            [
             0.4444444444444444,
             "#bd3786"
            ],
            [
             0.5555555555555556,
             "#d8576b"
            ],
            [
             0.6666666666666666,
             "#ed7953"
            ],
            [
             0.7777777777777778,
             "#fb9f3a"
            ],
            [
             0.8888888888888888,
             "#fdca26"
            ],
            [
             1,
             "#f0f921"
            ]
           ],
           "sequentialminus": [
            [
             0,
             "#0d0887"
            ],
            [
             0.1111111111111111,
             "#46039f"
            ],
            [
             0.2222222222222222,
             "#7201a8"
            ],
            [
             0.3333333333333333,
             "#9c179e"
            ],
            [
             0.4444444444444444,
             "#bd3786"
            ],
            [
             0.5555555555555556,
             "#d8576b"
            ],
            [
             0.6666666666666666,
             "#ed7953"
            ],
            [
             0.7777777777777778,
             "#fb9f3a"
            ],
            [
             0.8888888888888888,
             "#fdca26"
            ],
            [
             1,
             "#f0f921"
            ]
           ]
          },
          "colorway": [
           "#636efa",
           "#EF553B",
           "#00cc96",
           "#ab63fa",
           "#FFA15A",
           "#19d3f3",
           "#FF6692",
           "#B6E880",
           "#FF97FF",
           "#FECB52"
          ],
          "font": {
           "color": "#2a3f5f"
          },
          "geo": {
           "bgcolor": "white",
           "lakecolor": "white",
           "landcolor": "#E5ECF6",
           "showlakes": true,
           "showland": true,
           "subunitcolor": "white"
          },
          "hoverlabel": {
           "align": "left"
          },
          "hovermode": "closest",
          "mapbox": {
           "style": "light"
          },
          "paper_bgcolor": "white",
          "plot_bgcolor": "#E5ECF6",
          "polar": {
           "angularaxis": {
            "gridcolor": "white",
            "linecolor": "white",
            "ticks": ""
           },
           "bgcolor": "#E5ECF6",
           "radialaxis": {
            "gridcolor": "white",
            "linecolor": "white",
            "ticks": ""
           }
          },
          "scene": {
           "xaxis": {
            "backgroundcolor": "#E5ECF6",
            "gridcolor": "white",
            "gridwidth": 2,
            "linecolor": "white",
            "showbackground": true,
            "ticks": "",
            "zerolinecolor": "white"
           },
           "yaxis": {
            "backgroundcolor": "#E5ECF6",
            "gridcolor": "white",
            "gridwidth": 2,
            "linecolor": "white",
            "showbackground": true,
            "ticks": "",
            "zerolinecolor": "white"
           },
           "zaxis": {
            "backgroundcolor": "#E5ECF6",
            "gridcolor": "white",
            "gridwidth": 2,
            "linecolor": "white",
            "showbackground": true,
            "ticks": "",
            "zerolinecolor": "white"
           }
          },
          "shapedefaults": {
           "line": {
            "color": "#2a3f5f"
           }
          },
          "ternary": {
           "aaxis": {
            "gridcolor": "white",
            "linecolor": "white",
            "ticks": ""
           },
           "baxis": {
            "gridcolor": "white",
            "linecolor": "white",
            "ticks": ""
           },
           "bgcolor": "#E5ECF6",
           "caxis": {
            "gridcolor": "white",
            "linecolor": "white",
            "ticks": ""
           }
          },
          "title": {
           "x": 0.05
          },
          "xaxis": {
           "automargin": true,
           "gridcolor": "white",
           "linecolor": "white",
           "ticks": "",
           "title": {
            "standoff": 15
           },
           "zerolinecolor": "white",
           "zerolinewidth": 2
          },
          "yaxis": {
           "automargin": true,
           "gridcolor": "white",
           "linecolor": "white",
           "ticks": "",
           "title": {
            "standoff": 15
           },
           "zerolinecolor": "white",
           "zerolinewidth": 2
          }
         }
        },
        "xaxis": {
         "anchor": "y",
         "domain": [
          0,
          1
         ],
         "title": {
          "text": "precision_average"
         }
        },
        "yaxis": {
         "anchor": "x",
         "domain": [
          0,
          1
         ],
         "title": {
          "text": "recall_average"
         }
        }
       }
      }
     },
     "metadata": {},
     "output_type": "display_data"
    },
    {
     "data": {
      "application/vnd.plotly.v1+json": {
       "config": {
        "plotlyServerURL": "https://plot.ly"
       },
       "data": [
        {
         "hovertemplate": "level=NO_CRYSTAL_0<br>precision_average=%{x}<br>recall_average=%{y}<extra></extra>",
         "legendgroup": "NO_CRYSTAL_0",
         "marker": {
          "color": "#636efa",
          "symbol": "circle"
         },
         "mode": "markers",
         "name": "NO_CRYSTAL_0",
         "orientation": "v",
         "showlegend": true,
         "type": "scatter",
         "x": [
          0.22787703126484843,
          0.2935300065300276,
          0.27207112857775234,
          0.2811391271399538,
          0.32505154064746195,
          0.29988268604846036,
          0.2640204552461753,
          0.2840460101177948,
          0.2964269377382465,
          0.2530648084565073,
          0.2698419642368896,
          0.3652015299712432,
          0.35719333669863707,
          0.35917951183893,
          0.30495643389316834,
          0.4016894999671463,
          0.2846525014010125,
          0.3813674734386109,
          0.33823420760990025,
          0.22570347191864346,
          0.27207831033256846,
          0.3195763899704096,
          0.28396733024760706,
          0.3417178641095291,
          0.3177164758686772,
          0.37537782680639825,
          0.29072170840199263,
          0.3041537603170633,
          0.2878067892986669,
          0.30222139572626455,
          0.253109134348735,
          0.28857881242530414,
          0.3379541993424517,
          0.33118815604284624,
          0.34522560335781743,
          0.27404782272190314,
          0.3757069059271343,
          0.23737142315410262,
          0.3678219559379311,
          0.3076178836948773,
          0.2828895548767602,
          0.3224287139509524,
          0.3066696918190139,
          0.3514721452182557,
          0.30201547461785244,
          0.36794653113795384,
          0.2988300542466197,
          0.273294340790591,
          0.21608770863527982,
          0.18482192976984968
         ],
         "xaxis": "x",
         "y": [
          0.5,
          0.5,
          0.5,
          0.5,
          0.5,
          0.5,
          0.5,
          0.5,
          0.5,
          0.5,
          0.5,
          0.5,
          0.5,
          0.5,
          0.5,
          0.5,
          0.5,
          0.5,
          0.5,
          0.5,
          0.5,
          0.5,
          0.5,
          0.5,
          0.5,
          0.5,
          0.5,
          0.5,
          0.5,
          0.5,
          0.5,
          0.5,
          0.5,
          0.5,
          0.5,
          0.5,
          0.5,
          0.5,
          0.5,
          0.5,
          0.5,
          0.5,
          0.5,
          0.5,
          0.5,
          0.5,
          0.5,
          0.5,
          0.5,
          0.5
         ],
         "yaxis": "y"
        },
        {
         "hovertemplate": "level=NO_CRYSTAL_1<br>precision_average=%{x}<br>recall_average=%{y}<extra></extra>",
         "legendgroup": "NO_CRYSTAL_1",
         "marker": {
          "color": "#EF553B",
          "symbol": "diamond"
         },
         "mode": "markers",
         "name": "NO_CRYSTAL_1",
         "orientation": "v",
         "showlegend": true,
         "type": "scatter",
         "x": [
          0.429908025728215,
          0.45568135988169745,
          0.46346973421280657,
          0.4197453211967293,
          0.4203898050974513,
          0.4285523261922272,
          0.4416883793642522,
          0.44851533385756776,
          0.4570504809910008,
          0.45003672349143764,
          0.42494061018496426,
          0.4471088289607991,
          0.4591626553229598,
          0.439729127663104,
          0.38987833186584486,
          0.4146056727775856,
          0.4436570240191854,
          0.4332016036187568,
          0.4727197408352107,
          0.41486585313391744,
          0.38962493002425824,
          0.45342548918881054,
          0.40524186017555874,
          0.42005866753850624,
          0.4263185749031619,
          0.4609864980747566,
          0.43197850647561314,
          0.43280472980439827,
          0.4449592762274978,
          0.46148797874765196,
          0.4418056431984134,
          0.4587404464660465,
          0.44785993640118427,
          0.4116692203832092,
          0.43244126146500816,
          0.4223751559754514,
          0.4211175571888678,
          0.4305537410649297,
          0.44503578343799144,
          0.40944508132120083,
          0.44316286525007037,
          0.4439191923179409,
          0.4369664515842923,
          0.4386859751747753,
          0.45444920519728405,
          0.45036629602408784,
          0.44178615584707526,
          0.3910882422817701,
          0.43634799705087246,
          0.44527903432884175
         ],
         "xaxis": "x",
         "y": [
          0.5,
          0.5,
          0.5,
          0.5,
          0.5,
          0.5,
          0.5,
          0.5,
          0.5,
          0.5,
          0.5,
          0.5,
          0.5,
          0.5,
          0.5,
          0.5,
          0.5,
          0.5,
          0.5,
          0.5,
          0.5,
          0.5,
          0.5,
          0.5,
          0.5,
          0.5,
          0.5,
          0.5,
          0.5,
          0.5,
          0.5,
          0.5,
          0.5,
          0.5,
          0.5,
          0.5,
          0.5,
          0.5,
          0.5,
          0.5,
          0.5,
          0.5,
          0.5,
          0.5,
          0.5,
          0.5,
          0.5,
          0.5,
          0.5,
          0.5
         ],
         "yaxis": "y"
        },
        {
         "hovertemplate": "level=NO_CRYSTAL_2<br>precision_average=%{x}<br>recall_average=%{y}<extra></extra>",
         "legendgroup": "NO_CRYSTAL_2",
         "marker": {
          "color": "#00cc96",
          "symbol": "square"
         },
         "mode": "markers",
         "name": "NO_CRYSTAL_2",
         "orientation": "v",
         "showlegend": true,
         "type": "scatter",
         "x": [
          0.5,
          0.5,
          0.5,
          0.5,
          0.5,
          0.5,
          0.5,
          0.5,
          0.5,
          0.5,
          0.5,
          0.5,
          0.5,
          0.5,
          0.5,
          0.5,
          0.5,
          0.5,
          0.5,
          0.5,
          0.5,
          0.5,
          0.5,
          0.5,
          0.5,
          0.5,
          0.5,
          0.5,
          0.5,
          0.5,
          0.5,
          0.5,
          0.5,
          0.5,
          0.5,
          0.5,
          0.5,
          0.5,
          0.5,
          0.5,
          0.5,
          0.5,
          0.5,
          0.5,
          0.5,
          0.5,
          0.5,
          0.5,
          0.5,
          0.5
         ],
         "xaxis": "x",
         "y": [
          0.5,
          0.5,
          0.5,
          0.5,
          0.5,
          0.5,
          0.5,
          0.5,
          0.5,
          0.5,
          0.5,
          0.5,
          0.5,
          0.5,
          0.5,
          0.5,
          0.5,
          0.5,
          0.5,
          0.5,
          0.5,
          0.5,
          0.5,
          0.5,
          0.5,
          0.5,
          0.5,
          0.5,
          0.5,
          0.5,
          0.5,
          0.5,
          0.5,
          0.5,
          0.5,
          0.5,
          0.5,
          0.5,
          0.5,
          0.5,
          0.5,
          0.5,
          0.5,
          0.5,
          0.5,
          0.5,
          0.5,
          0.5,
          0.5,
          0.5
         ],
         "yaxis": "y"
        },
        {
         "hovertemplate": "level=FEW_CRYSTAL_0<br>precision_average=%{x}<br>recall_average=%{y}<extra></extra>",
         "legendgroup": "FEW_CRYSTAL_0",
         "marker": {
          "color": "#ab63fa",
          "symbol": "x"
         },
         "mode": "markers",
         "name": "FEW_CRYSTAL_0",
         "orientation": "v",
         "showlegend": true,
         "type": "scatter",
         "x": [
          0.44244242325496697,
          0.448926831927886,
          0.45413431428471646,
          0.41017831369117297,
          0.44589812874526674,
          0.44273465966152903,
          0.4342925937744771,
          0.4270541319540411,
          0.4347721220039194,
          0.4187210531290547,
          0.44018494484101234,
          0.4320654217320466,
          0.4453311199383411,
          0.41965531497080255,
          0.4417313326470821,
          0.4832028184535239,
          0.42435007710949546,
          0.4373936099527296,
          0.4305443175801892,
          0.45422943711946073,
          0.42794047047527606,
          0.4124616197714803,
          0.43000711383339163,
          0.43539639411938164,
          0.43268473122045176,
          0.44878497156316427,
          0.40993178088508536,
          0.43979784708295877,
          0.43627153770683363,
          0.4335813907643783,
          0.44421511560492566,
          0.44910033681971284,
          0.451542929116227,
          0.44510649456600915,
          0.4611473047420328,
          0.4399164054336468,
          0.4530773671013944,
          0.4351347130027333,
          0.42322200283138367,
          0.43316232838779256,
          0.4306681219665126,
          0.43823976625622374,
          0.4314845325333202,
          0.40206572129806384,
          0.46404170790718136,
          0.46188711516533637,
          0.4536283706561959,
          0.44323713680717763,
          0.45972837832887653,
          0.43932622312510583
         ],
         "xaxis": "x",
         "y": [
          0.5,
          0.5,
          0.5,
          0.5,
          0.5,
          0.5,
          0.5,
          0.5,
          0.5,
          0.5,
          0.5,
          0.5,
          0.5,
          0.5,
          0.5,
          0.5,
          0.5,
          0.5,
          0.5,
          0.5,
          0.5,
          0.5,
          0.5,
          0.5,
          0.5,
          0.5,
          0.5,
          0.5,
          0.5,
          0.5,
          0.5,
          0.5,
          0.5,
          0.5,
          0.5,
          0.5,
          0.5,
          0.5,
          0.5,
          0.5,
          0.5,
          0.5,
          0.5,
          0.5,
          0.5,
          0.5,
          0.5,
          0.5,
          0.5,
          0.5
         ],
         "yaxis": "y"
        },
        {
         "hovertemplate": "level=FEW_CRYSTAL_1<br>precision_average=%{x}<br>recall_average=%{y}<extra></extra>",
         "legendgroup": "FEW_CRYSTAL_1",
         "marker": {
          "color": "#FFA15A",
          "symbol": "cross"
         },
         "mode": "markers",
         "name": "FEW_CRYSTAL_1",
         "orientation": "v",
         "showlegend": true,
         "type": "scatter",
         "x": [
          0.44697290604278334,
          0.447648344943306,
          0.4457826001571092,
          0.46125191665915033,
          0.44579383112643317,
          0.419326272747804,
          0.44488456224694334,
          0.3543214105430158,
          0.44439574645168717,
          0.4191371966036765,
          0.41527130806999873,
          0.41140840765746994,
          0.4345918315055857,
          0.46090777793433846,
          0.43656486282751217,
          0.43229710745290156,
          0.44654845707328367,
          0.43086227995858045,
          0.4439370025857148,
          0.44766166311213607,
          0.4375174839147984,
          0.404597717731581,
          0.43863015012710443,
          0.41588369302940026,
          0.44311643256050093,
          0.44539394528184856,
          0.45449273735701523,
          0.4211236834071134,
          0.42479140862132325,
          0.42353231100108657,
          0.444458739819207,
          0.4464908914019476,
          0.41652861582364964,
          0.4153554578351885,
          0.42791997173961915,
          0.417269262280483,
          0.46577970021794246,
          0.4337516969680837,
          0.4159223300970874,
          0.42491693537510883,
          0.4417750821413163,
          0.457793760891106,
          0.41427051973103063,
          0.41159399433971317,
          0.4394594660818642,
          0.4235346261733312,
          0.43149381541389153,
          0.43521080368906456,
          0.38913009918567404,
          0.41101127266786475
         ],
         "xaxis": "x",
         "y": [
          0.452367800550728,
          0.4505209399435051,
          0.4540122407344441,
          0.45279794581193555,
          0.447453272865494,
          0.4546479708221102,
          0.47939004870660723,
          0.421631304571686,
          0.4452196359507504,
          0.4695727371725066,
          0.4038196676154623,
          0.4496029878391304,
          0.4567825595173974,
          0.4626229769028825,
          0.4450797051665716,
          0.4529320186818889,
          0.4536945083281065,
          0.4358846161171743,
          0.4473823731796185,
          0.47722105583778435,
          0.44033892851397005,
          0.4172381986699793,
          0.46447254812331756,
          0.4536785141831978,
          0.45363392238392236,
          0.4667990319321413,
          0.44948154177728034,
          0.4711787875876645,
          0.4510492542490461,
          0.4589483394833948,
          0.4517414689059959,
          0.46438020441696604,
          0.42673001164490476,
          0.4541646840800381,
          0.45049359899026326,
          0.4437905690399818,
          0.45493890849850666,
          0.4573066344858554,
          0.4214174372323199,
          0.44950778848523365,
          0.4761285187967235,
          0.47107685005317884,
          0.4420165804304757,
          0.4515957558788236,
          0.47380030908634607,
          0.45500026090586515,
          0.45212854341829783,
          0.480757435572235,
          0.4195639057070928,
          0.44852914958103046
         ],
         "yaxis": "y"
        },
        {
         "hovertemplate": "level=FEW_CRYSTAL_2<br>precision_average=%{x}<br>recall_average=%{y}<extra></extra>",
         "legendgroup": "FEW_CRYSTAL_2",
         "marker": {
          "color": "#19d3f3",
          "symbol": "circle"
         },
         "mode": "markers",
         "name": "FEW_CRYSTAL_2",
         "orientation": "v",
         "showlegend": true,
         "type": "scatter",
         "x": [
          0.4741558747833933,
          0.4671729063652775,
          0.46531395975565937,
          0.46016749304631754,
          0.4808441248666418,
          0.4633370131438231,
          0.47576739635563164,
          0.4651498464824456,
          0.4482950436669077,
          0.4720287181988629,
          0.472297333692432,
          0.463758931542008,
          0.4723494952331117,
          0.4689697738417459,
          0.4700349435767694,
          0.4657754789830261,
          0.4762652200753944,
          0.47378378809892546,
          0.47969830697402444,
          0.4768033047346679,
          0.4705762340129809,
          0.47482888054758227,
          0.4785900551176436,
          0.4549767150900118,
          0.4702771070484075,
          0.472081572568876,
          0.48432153800798666,
          0.47016503964797574,
          0.47178911646425375,
          0.47646951939674753,
          0.48010690093141406,
          0.47384317635329304,
          0.4670621205044372,
          0.48514886453268663,
          0.4785675529028757,
          0.48440105490970586,
          0.43741607519662384,
          0.47291594956719063,
          0.46126192223037416,
          0.4777158618841292,
          0.4719252008032129,
          0.47016556291390726,
          0.48479430524486283,
          0.46508726118860316,
          0.47827716759755595,
          0.47517842981760505,
          0.4754280800263045,
          0.4503802734501961,
          0.4765950872856481,
          0.46730632551528073
         ],
         "xaxis": "x",
         "y": [
          0.46315715673607566,
          0.4465527158147444,
          0.46499545541254755,
          0.4409502426305497,
          0.47037112457363944,
          0.4213172093606876,
          0.4514738307995822,
          0.44121464410642774,
          0.4260564621294893,
          0.42985147140477514,
          0.4549756639234529,
          0.4366674125456851,
          0.45057767929972364,
          0.4334226473943669,
          0.4340519534593232,
          0.4202124163676275,
          0.45651927580389295,
          0.4388225899472073,
          0.46440607502675735,
          0.44594694999628504,
          0.47497940691927515,
          0.43292016565052344,
          0.44847965936964873,
          0.44916969738557605,
          0.45559609011668384,
          0.45655428872988796,
          0.4533545738106587,
          0.45084661192524217,
          0.43249598882996315,
          0.45055841924398626,
          0.47477522738928835,
          0.4454869598779614,
          0.4163460737779998,
          0.4378127423587281,
          0.4412549473028861,
          0.4513393791803947,
          0.39032009585758304,
          0.43918782927839933,
          0.4164610416494162,
          0.4455443997750328,
          0.44961916946659813,
          0.43889094955489616,
          0.4703608975238218,
          0.4364376550868486,
          0.46094098096121194,
          0.4378371197024047,
          0.45497894176308273,
          0.406514638868788,
          0.4639330292245225,
          0.41246148452923487
         ],
         "yaxis": "y"
        },
        {
         "hovertemplate": "level=FEW_CRYSTAL_3<br>precision_average=%{x}<br>recall_average=%{y}<extra></extra>",
         "legendgroup": "FEW_CRYSTAL_3",
         "marker": {
          "color": "#FF6692",
          "symbol": "diamond"
         },
         "mode": "markers",
         "name": "FEW_CRYSTAL_3",
         "orientation": "v",
         "showlegend": true,
         "type": "scatter",
         "x": [
          0.8231342782520912,
          0.8173128259870361,
          0.8899517669160353,
          0.6886970886247707,
          0.7582304428151633,
          0.7359726905741435,
          0.7753502148882295,
          0.8123918685451681,
          0.7995099073376996,
          0.8837527231079593,
          0.8481045466936479,
          0.8165240958871447,
          0.8282301496864614,
          0.9022184443588377,
          0.8253508763725095,
          0.8413195382118741,
          0.6542235906714368,
          0.7771559906345809,
          0.8239086497807755,
          0.8616127839651999,
          0.8008470414153648,
          0.7454774241904153,
          0.7551607714555129,
          0.8071915440975934,
          0.7787289374978108,
          0.7817553165585687,
          0.8033994633401065,
          0.8391008364622099,
          0.924947377869936,
          0.827914009964243,
          0.805143261286899,
          0.8080132930643993,
          0.8183984237198758,
          0.7760594903101965,
          0.7617725171526155,
          0.7807527173552805,
          0.8197248932836781,
          0.7555170516856189,
          0.8435121233100843,
          0.8177542111302645,
          0.7898263365757271,
          0.8434002158699097,
          0.7615010366001858,
          0.8585184851153081,
          0.7800777986556395,
          0.7875019408649562,
          0.7868324102973374,
          0.8308380366195066,
          0.8432319934332535,
          0.7962055838674296
         ],
         "xaxis": "x",
         "y": [
          0.8271356046336782,
          0.8182490222732659,
          0.8288194464666809,
          0.6373415208840796,
          0.7540507187052069,
          0.7928717547055284,
          0.7420584241853174,
          0.849829144832629,
          0.8059911624769478,
          0.8752165230986515,
          0.8831923507504451,
          0.8342250426927099,
          0.8407855230432217,
          0.8551860225458418,
          0.8303099099920821,
          0.8160339581786227,
          0.6925735542493064,
          0.7691882055272757,
          0.7741676909069823,
          0.8080508595995686,
          0.781013898551747,
          0.7461854376659791,
          0.736624267004498,
          0.818902209048753,
          0.7979001145392838,
          0.7553669515626009,
          0.7728385498716697,
          0.873620913223547,
          0.81999092035026,
          0.8586895532605056,
          0.78806831054592,
          0.8374214546104171,
          0.8702210954167209,
          0.8141500086975071,
          0.822189872038439,
          0.8030220974509956,
          0.8480754049104251,
          0.7543658327330809,
          0.852432923310968,
          0.784850981626983,
          0.7955896442361825,
          0.8414912081594386,
          0.7696608231738881,
          0.8575952974854317,
          0.7739857753947232,
          0.76757895311516,
          0.7790015962974715,
          0.8173445524785117,
          0.855930587264232,
          0.8064777099480578
         ],
         "yaxis": "y"
        },
        {
         "hovertemplate": "level=SOME_CRYSTAL_0<br>precision_average=%{x}<br>recall_average=%{y}<extra></extra>",
         "legendgroup": "SOME_CRYSTAL_0",
         "marker": {
          "color": "#B6E880",
          "symbol": "square"
         },
         "mode": "markers",
         "name": "SOME_CRYSTAL_0",
         "orientation": "v",
         "showlegend": true,
         "type": "scatter",
         "x": [
          0.35431764037439817,
          0.24603770750394352,
          0.34460274460175594,
          0.2692329340778098,
          0.33092916778885,
          0.30118399446893096,
          0.27814938684503904,
          0.3690818807398562,
          0.37622511981347956,
          0.2537313432835821,
          0.29337598568042184,
          0.3321042121395068,
          0.2989225502910396,
          0.3714355748018629,
          0.3036268316789137,
          0.29649095536946,
          0.2871427381051579,
          0.2758916201276906,
          0.3050209135296372,
          0.3027930470955282,
          0.39339610223691646,
          0.26795457569977377,
          0.23333288682303457,
          0.31895017383365454,
          0.36468130179718783,
          0.3330122913226931,
          0.3411961641037281,
          0.3831464097786216,
          0.32512193541069145,
          0.3332038406568636,
          0.2869626696832579,
          0.31745104535388585,
          0.2890250636834886,
          0.3211986644683971,
          0.3453077151042181,
          0.28296169644483116,
          0.3634098138982551,
          0.32701863104746465,
          0.29263645514492903,
          0.3424432621165517,
          0.3377588865274826,
          0.3804751113072079,
          0.3243271519368085,
          0.27868884616893563,
          0.3311694682451436,
          0.31911513976964684,
          0.334026334026334,
          0.309642952245695,
          0.28208105244570014,
          0.3611647230452787
         ],
         "xaxis": "x",
         "y": [
          0.5,
          0.5,
          0.5,
          0.5,
          0.5,
          0.5,
          0.5,
          0.5,
          0.5,
          0.5,
          0.5,
          0.5,
          0.5,
          0.5,
          0.5,
          0.5,
          0.5,
          0.5,
          0.5,
          0.5,
          0.5,
          0.5,
          0.5,
          0.5,
          0.5,
          0.5,
          0.5,
          0.5,
          0.5,
          0.5,
          0.5,
          0.5,
          0.5,
          0.5,
          0.5,
          0.5,
          0.5,
          0.5,
          0.5,
          0.5,
          0.5,
          0.5,
          0.5,
          0.5,
          0.5,
          0.5,
          0.5,
          0.5,
          0.5,
          0.5
         ],
         "yaxis": "y"
        },
        {
         "hovertemplate": "level=SOME_CRYSTAL_1<br>precision_average=%{x}<br>recall_average=%{y}<extra></extra>",
         "legendgroup": "SOME_CRYSTAL_1",
         "marker": {
          "color": "#FF97FF",
          "symbol": "x"
         },
         "mode": "markers",
         "name": "SOME_CRYSTAL_1",
         "orientation": "v",
         "showlegend": true,
         "type": "scatter",
         "x": [
          0.2698862569916288,
          0.30583993347601457,
          0.25147324027661416,
          0.32398891966759,
          0.2943088818597178,
          0.34498457239331665,
          0.32827786954362215,
          0.2837166030534351,
          0.2750421181804946,
          0.27450826216340457,
          0.28373146904105845,
          0.28302168213147444,
          0.2661834354319681,
          0.3226635181966263,
          0.22535988695575376,
          0.2349260914403575,
          0.3477315612437444,
          0.35641468441869534,
          0.25833333333333336,
          0.2684227834780321,
          0.30651130344305716,
          0.23492925675114743,
          0.2606378876910501,
          0.31700132116119356,
          0.3192868489731079,
          0.3296639820438342,
          0.3119755728127329,
          0.27175234404150067,
          0.24246504765696353,
          0.2680210952016614,
          0.30927148171996854,
          0.3243909892604558,
          0.3431967153322704,
          0.16893825814365546,
          0.2789143697462292,
          0.28587718920779726,
          0.24864263410542015,
          0.30561648938371755,
          0.324892113624508,
          0.2867022317932655,
          0.3035277992968238,
          0.2867171134700026,
          0.2609127187148266,
          0.32509172394575514,
          0.2747696783578471,
          0.3384277936073575,
          0.28977423268396757,
          0.29037285344624797,
          0.30461027190332324,
          0.2997710136833287
         ],
         "xaxis": "x",
         "y": [
          0.36798150580929145,
          0.38565535023635583,
          0.32890997901305646,
          0.3922791836460901,
          0.41877868867098894,
          0.4292253980211216,
          0.4212117619160541,
          0.40279471131702294,
          0.3707610783227959,
          0.328810096502159,
          0.40880977770486426,
          0.37953722418729996,
          0.4072159890091917,
          0.3902293911548886,
          0.29595801438181396,
          0.3642002941740743,
          0.38980345271566336,
          0.4165147648559971,
          0.3718578563825432,
          0.33536855945435123,
          0.36390499319174024,
          0.3609182836840667,
          0.34046175232185666,
          0.4088090377442478,
          0.41694243449485097,
          0.4290654714171154,
          0.39474324653200293,
          0.4124212256827107,
          0.34977449705241465,
          0.33319745222929936,
          0.43514615394294776,
          0.39373145400593473,
          0.4048620074989243,
          0.2333521596471411,
          0.3917943779136309,
          0.41607039408789864,
          0.3593705269184784,
          0.38759120256154533,
          0.425589629967076,
          0.39682830007180697,
          0.3806896036273948,
          0.41066462150454264,
          0.3848847564565063,
          0.3792582659460631,
          0.3686286202176535,
          0.4108304794520548,
          0.3505516380444684,
          0.4214250354210409,
          0.3600774252532034,
          0.3687464790667638
         ],
         "yaxis": "y"
        },
        {
         "hovertemplate": "level=SOME_CRYSTAL_2<br>precision_average=%{x}<br>recall_average=%{y}<extra></extra>",
         "legendgroup": "SOME_CRYSTAL_2",
         "marker": {
          "color": "#FECB52",
          "symbol": "cross"
         },
         "mode": "markers",
         "name": "SOME_CRYSTAL_2",
         "orientation": "v",
         "showlegend": true,
         "type": "scatter",
         "x": [
          0.2869009131023636,
          0.33550132092087054,
          0.26801144426114143,
          0.29895336871750433,
          0.3031472402340661,
          0.2985068640133169,
          0.3233866901941013,
          0.3018566459024351,
          0.28507425433670286,
          0.3282452082293121,
          0.3419681330794669,
          0.21845591877166914,
          0.2720903016724014,
          0.3474616946649437,
          0.23393461104847801,
          0.2320396266140908,
          0.11266686740941484,
          0.2881813353932313,
          0.33564733207523695,
          0.2757240591724736,
          0.2560571631943494,
          0.30395614114658925,
          0.3757140830722014,
          0.33404378424334025,
          0.2416192248740968,
          0.2800506367627244,
          0.27666619532428355,
          0.2803044719314938,
          0.3112273548513111,
          0.29263013076185185,
          0.2627042458847112,
          0.25157018539538406,
          0.2832890555816013,
          0.36791736930860036,
          0.28607870499581356,
          0.2549332590576993,
          0.30190602626712815,
          0.36546796645020047,
          0.28747209581866573,
          0.2914534012586155,
          0.3216588529555938,
          0.25509822393394477,
          0.3474120615324319,
          0.29093825097723736,
          0.45055671408356296,
          0.2890050634576182,
          0.30130766852549495,
          0.2727117508766861,
          0.3803639602952405,
          0.251228455634566
         ],
         "xaxis": "x",
         "y": [
          0.3814513084139293,
          0.3892261887387256,
          0.36844400742232725,
          0.4089856629496536,
          0.38896103896103895,
          0.3947330035935449,
          0.3637710542732377,
          0.38327705088532504,
          0.3879783277001206,
          0.4170723496814957,
          0.38825286212045795,
          0.34815856335874096,
          0.35608629062872255,
          0.4186108578164268,
          0.37488391726466863,
          0.34135424499588213,
          0.25820709145279486,
          0.4010575540535093,
          0.4128311078802719,
          0.3868252013826047,
          0.3501094911003388,
          0.36663976803348197,
          0.4094940267041462,
          0.4121130453783961,
          0.31833917521312044,
          0.3547585618323973,
          0.34635923762317816,
          0.3295249356833544,
          0.3576468772796139,
          0.38125503609544326,
          0.38951132085667456,
          0.3869168356997972,
          0.3919438999077491,
          0.37953929342862525,
          0.3872032758646741,
          0.3900444182196653,
          0.3600763412737683,
          0.406830457120274,
          0.38342781070170917,
          0.3826403751731084,
          0.38020353587876987,
          0.3325237020316027,
          0.3830018498264944,
          0.35392905986123135,
          0.3649849170437406,
          0.40288396311167335,
          0.3767305682420147,
          0.3706930410254579,
          0.41981880750052675,
          0.3438935175777281
         ],
         "yaxis": "y"
        },
        {
         "hovertemplate": "level=SOME_CRYSTAL_3<br>precision_average=%{x}<br>recall_average=%{y}<extra></extra>",
         "legendgroup": "SOME_CRYSTAL_3",
         "marker": {
          "color": "#636efa",
          "symbol": "circle"
         },
         "mode": "markers",
         "name": "SOME_CRYSTAL_3",
         "orientation": "v",
         "showlegend": true,
         "type": "scatter",
         "x": [
          0.4628009342469879,
          0.44182629255771133,
          0.48532564738532336,
          0.5339618015748062,
          0.4615819904642268,
          0.4606579918859831,
          0.5575024900319856,
          0.5582025853517274,
          0.4991199919634173,
          0.463938579723735,
          0.45294340358699264,
          0.4833904649217994,
          0.5388228411095415,
          0.5034332504802793,
          0.4585454388761172,
          0.48613763304889246,
          0.4649602225155366,
          0.5075055552267795,
          0.4809126767606018,
          0.455570526872052,
          0.4215737095256987,
          0.5712682667354376,
          0.49702592460863926,
          0.5257605186841312,
          0.41410573393141253,
          0.4925163735236342,
          0.4835059030646033,
          0.4199156379851593,
          0.5804343423534317,
          0.602381324797627,
          0.5006568052757541,
          0.4916693199851605,
          0.49555537751645495,
          0.5111431952885435,
          0.4506409866700443,
          0.46267328149271897,
          0.47401720946350323,
          0.45070937320238025,
          0.5694983239954232,
          0.5318549571941681,
          0.4232236722469298,
          0.5084391110898754,
          0.5558302214092505,
          0.5867559386524807,
          0.6040439719227303,
          0.5478329295412209,
          0.4815719304120805,
          0.4620006065132821,
          0.5819195704757658,
          0.5251438648782817
         ],
         "xaxis": "x",
         "y": [
          0.47751266182944174,
          0.4628698864396034,
          0.4920786085370827,
          0.5167654913009838,
          0.47807816326983754,
          0.4815458564681505,
          0.5264330527293375,
          0.5257555040929769,
          0.49947094509195405,
          0.4782365160275978,
          0.4682238714731444,
          0.49046184752559,
          0.519697490775028,
          0.5018392277530012,
          0.478579122656036,
          0.4915560518989911,
          0.4800057269006605,
          0.5028598750467167,
          0.4937329397430134,
          0.4800512141525018,
          0.4495982519061925,
          0.5320486088012846,
          0.4980747343292699,
          0.517050078618243,
          0.44678304752313097,
          0.49668451775114725,
          0.48849174379742455,
          0.4505283054486324,
          0.5556889959312066,
          0.5930933879620861,
          0.5003540155640402,
          0.4942420117175905,
          0.49774735093222905,
          0.5070203775490502,
          0.47463564178182116,
          0.4810755421242517,
          0.48621831207035604,
          0.4754280537759175,
          0.5248099628468291,
          0.517655505024178,
          0.45299966719170504,
          0.5044233188052758,
          0.5353070146676284,
          0.5417937166954402,
          0.5513096576466365,
          0.5239751742433425,
          0.4924692059994347,
          0.470206836157567,
          0.567527940316494,
          0.5143124666802599
         ],
         "yaxis": "y"
        }
       ],
       "layout": {
        "legend": {
         "title": {
          "text": "level"
         },
         "tracegroupgap": 0
        },
        "margin": {
         "b": 20,
         "l": 20,
         "r": 20,
         "t": 20
        },
        "template": {
         "data": {
          "bar": [
           {
            "error_x": {
             "color": "#2a3f5f"
            },
            "error_y": {
             "color": "#2a3f5f"
            },
            "marker": {
             "line": {
              "color": "#E5ECF6",
              "width": 0.5
             },
             "pattern": {
              "fillmode": "overlay",
              "size": 10,
              "solidity": 0.2
             }
            },
            "type": "bar"
           }
          ],
          "barpolar": [
           {
            "marker": {
             "line": {
              "color": "#E5ECF6",
              "width": 0.5
             },
             "pattern": {
              "fillmode": "overlay",
              "size": 10,
              "solidity": 0.2
             }
            },
            "type": "barpolar"
           }
          ],
          "carpet": [
           {
            "aaxis": {
             "endlinecolor": "#2a3f5f",
             "gridcolor": "white",
             "linecolor": "white",
             "minorgridcolor": "white",
             "startlinecolor": "#2a3f5f"
            },
            "baxis": {
             "endlinecolor": "#2a3f5f",
             "gridcolor": "white",
             "linecolor": "white",
             "minorgridcolor": "white",
             "startlinecolor": "#2a3f5f"
            },
            "type": "carpet"
           }
          ],
          "choropleth": [
           {
            "colorbar": {
             "outlinewidth": 0,
             "ticks": ""
            },
            "type": "choropleth"
           }
          ],
          "contour": [
           {
            "colorbar": {
             "outlinewidth": 0,
             "ticks": ""
            },
            "colorscale": [
             [
              0,
              "#0d0887"
             ],
             [
              0.1111111111111111,
              "#46039f"
             ],
             [
              0.2222222222222222,
              "#7201a8"
             ],
             [
              0.3333333333333333,
              "#9c179e"
             ],
             [
              0.4444444444444444,
              "#bd3786"
             ],
             [
              0.5555555555555556,
              "#d8576b"
             ],
             [
              0.6666666666666666,
              "#ed7953"
             ],
             [
              0.7777777777777778,
              "#fb9f3a"
             ],
             [
              0.8888888888888888,
              "#fdca26"
             ],
             [
              1,
              "#f0f921"
             ]
            ],
            "type": "contour"
           }
          ],
          "contourcarpet": [
           {
            "colorbar": {
             "outlinewidth": 0,
             "ticks": ""
            },
            "type": "contourcarpet"
           }
          ],
          "heatmap": [
           {
            "colorbar": {
             "outlinewidth": 0,
             "ticks": ""
            },
            "colorscale": [
             [
              0,
              "#0d0887"
             ],
             [
              0.1111111111111111,
              "#46039f"
             ],
             [
              0.2222222222222222,
              "#7201a8"
             ],
             [
              0.3333333333333333,
              "#9c179e"
             ],
             [
              0.4444444444444444,
              "#bd3786"
             ],
             [
              0.5555555555555556,
              "#d8576b"
             ],
             [
              0.6666666666666666,
              "#ed7953"
             ],
             [
              0.7777777777777778,
              "#fb9f3a"
             ],
             [
              0.8888888888888888,
              "#fdca26"
             ],
             [
              1,
              "#f0f921"
             ]
            ],
            "type": "heatmap"
           }
          ],
          "heatmapgl": [
           {
            "colorbar": {
             "outlinewidth": 0,
             "ticks": ""
            },
            "colorscale": [
             [
              0,
              "#0d0887"
             ],
             [
              0.1111111111111111,
              "#46039f"
             ],
             [
              0.2222222222222222,
              "#7201a8"
             ],
             [
              0.3333333333333333,
              "#9c179e"
             ],
             [
              0.4444444444444444,
              "#bd3786"
             ],
             [
              0.5555555555555556,
              "#d8576b"
             ],
             [
              0.6666666666666666,
              "#ed7953"
             ],
             [
              0.7777777777777778,
              "#fb9f3a"
             ],
             [
              0.8888888888888888,
              "#fdca26"
             ],
             [
              1,
              "#f0f921"
             ]
            ],
            "type": "heatmapgl"
           }
          ],
          "histogram": [
           {
            "marker": {
             "pattern": {
              "fillmode": "overlay",
              "size": 10,
              "solidity": 0.2
             }
            },
            "type": "histogram"
           }
          ],
          "histogram2d": [
           {
            "colorbar": {
             "outlinewidth": 0,
             "ticks": ""
            },
            "colorscale": [
             [
              0,
              "#0d0887"
             ],
             [
              0.1111111111111111,
              "#46039f"
             ],
             [
              0.2222222222222222,
              "#7201a8"
             ],
             [
              0.3333333333333333,
              "#9c179e"
             ],
             [
              0.4444444444444444,
              "#bd3786"
             ],
             [
              0.5555555555555556,
              "#d8576b"
             ],
             [
              0.6666666666666666,
              "#ed7953"
             ],
             [
              0.7777777777777778,
              "#fb9f3a"
             ],
             [
              0.8888888888888888,
              "#fdca26"
             ],
             [
              1,
              "#f0f921"
             ]
            ],
            "type": "histogram2d"
           }
          ],
          "histogram2dcontour": [
           {
            "colorbar": {
             "outlinewidth": 0,
             "ticks": ""
            },
            "colorscale": [
             [
              0,
              "#0d0887"
             ],
             [
              0.1111111111111111,
              "#46039f"
             ],
             [
              0.2222222222222222,
              "#7201a8"
             ],
             [
              0.3333333333333333,
              "#9c179e"
             ],
             [
              0.4444444444444444,
              "#bd3786"
             ],
             [
              0.5555555555555556,
              "#d8576b"
             ],
             [
              0.6666666666666666,
              "#ed7953"
             ],
             [
              0.7777777777777778,
              "#fb9f3a"
             ],
             [
              0.8888888888888888,
              "#fdca26"
             ],
             [
              1,
              "#f0f921"
             ]
            ],
            "type": "histogram2dcontour"
           }
          ],
          "mesh3d": [
           {
            "colorbar": {
             "outlinewidth": 0,
             "ticks": ""
            },
            "type": "mesh3d"
           }
          ],
          "parcoords": [
           {
            "line": {
             "colorbar": {
              "outlinewidth": 0,
              "ticks": ""
             }
            },
            "type": "parcoords"
           }
          ],
          "pie": [
           {
            "automargin": true,
            "type": "pie"
           }
          ],
          "scatter": [
           {
            "marker": {
             "colorbar": {
              "outlinewidth": 0,
              "ticks": ""
             }
            },
            "type": "scatter"
           }
          ],
          "scatter3d": [
           {
            "line": {
             "colorbar": {
              "outlinewidth": 0,
              "ticks": ""
             }
            },
            "marker": {
             "colorbar": {
              "outlinewidth": 0,
              "ticks": ""
             }
            },
            "type": "scatter3d"
           }
          ],
          "scattercarpet": [
           {
            "marker": {
             "colorbar": {
              "outlinewidth": 0,
              "ticks": ""
             }
            },
            "type": "scattercarpet"
           }
          ],
          "scattergeo": [
           {
            "marker": {
             "colorbar": {
              "outlinewidth": 0,
              "ticks": ""
             }
            },
            "type": "scattergeo"
           }
          ],
          "scattergl": [
           {
            "marker": {
             "colorbar": {
              "outlinewidth": 0,
              "ticks": ""
             }
            },
            "type": "scattergl"
           }
          ],
          "scattermapbox": [
           {
            "marker": {
             "colorbar": {
              "outlinewidth": 0,
              "ticks": ""
             }
            },
            "type": "scattermapbox"
           }
          ],
          "scatterpolar": [
           {
            "marker": {
             "colorbar": {
              "outlinewidth": 0,
              "ticks": ""
             }
            },
            "type": "scatterpolar"
           }
          ],
          "scatterpolargl": [
           {
            "marker": {
             "colorbar": {
              "outlinewidth": 0,
              "ticks": ""
             }
            },
            "type": "scatterpolargl"
           }
          ],
          "scatterternary": [
           {
            "marker": {
             "colorbar": {
              "outlinewidth": 0,
              "ticks": ""
             }
            },
            "type": "scatterternary"
           }
          ],
          "surface": [
           {
            "colorbar": {
             "outlinewidth": 0,
             "ticks": ""
            },
            "colorscale": [
             [
              0,
              "#0d0887"
             ],
             [
              0.1111111111111111,
              "#46039f"
             ],
             [
              0.2222222222222222,
              "#7201a8"
             ],
             [
              0.3333333333333333,
              "#9c179e"
             ],
             [
              0.4444444444444444,
              "#bd3786"
             ],
             [
              0.5555555555555556,
              "#d8576b"
             ],
             [
              0.6666666666666666,
              "#ed7953"
             ],
             [
              0.7777777777777778,
              "#fb9f3a"
             ],
             [
              0.8888888888888888,
              "#fdca26"
             ],
             [
              1,
              "#f0f921"
             ]
            ],
            "type": "surface"
           }
          ],
          "table": [
           {
            "cells": {
             "fill": {
              "color": "#EBF0F8"
             },
             "line": {
              "color": "white"
             }
            },
            "header": {
             "fill": {
              "color": "#C8D4E3"
             },
             "line": {
              "color": "white"
             }
            },
            "type": "table"
           }
          ]
         },
         "layout": {
          "annotationdefaults": {
           "arrowcolor": "#2a3f5f",
           "arrowhead": 0,
           "arrowwidth": 1
          },
          "autotypenumbers": "strict",
          "coloraxis": {
           "colorbar": {
            "outlinewidth": 0,
            "ticks": ""
           }
          },
          "colorscale": {
           "diverging": [
            [
             0,
             "#8e0152"
            ],
            [
             0.1,
             "#c51b7d"
            ],
            [
             0.2,
             "#de77ae"
            ],
            [
             0.3,
             "#f1b6da"
            ],
            [
             0.4,
             "#fde0ef"
            ],
            [
             0.5,
             "#f7f7f7"
            ],
            [
             0.6,
             "#e6f5d0"
            ],
            [
             0.7,
             "#b8e186"
            ],
            [
             0.8,
             "#7fbc41"
            ],
            [
             0.9,
             "#4d9221"
            ],
            [
             1,
             "#276419"
            ]
           ],
           "sequential": [
            [
             0,
             "#0d0887"
            ],
            [
             0.1111111111111111,
             "#46039f"
            ],
            [
             0.2222222222222222,
             "#7201a8"
            ],
            [
             0.3333333333333333,
             "#9c179e"
            ],
            [
             0.4444444444444444,
             "#bd3786"
            ],
            [
             0.5555555555555556,
             "#d8576b"
            ],
            [
             0.6666666666666666,
             "#ed7953"
            ],
            [
             0.7777777777777778,
             "#fb9f3a"
            ],
            [
             0.8888888888888888,
             "#fdca26"
            ],
            [
             1,
             "#f0f921"
            ]
           ],
           "sequentialminus": [
            [
             0,
             "#0d0887"
            ],
            [
             0.1111111111111111,
             "#46039f"
            ],
            [
             0.2222222222222222,
             "#7201a8"
            ],
            [
             0.3333333333333333,
             "#9c179e"
            ],
            [
             0.4444444444444444,
             "#bd3786"
            ],
            [
             0.5555555555555556,
             "#d8576b"
            ],
            [
             0.6666666666666666,
             "#ed7953"
            ],
            [
             0.7777777777777778,
             "#fb9f3a"
            ],
            [
             0.8888888888888888,
             "#fdca26"
            ],
            [
             1,
             "#f0f921"
            ]
           ]
          },
          "colorway": [
           "#636efa",
           "#EF553B",
           "#00cc96",
           "#ab63fa",
           "#FFA15A",
           "#19d3f3",
           "#FF6692",
           "#B6E880",
           "#FF97FF",
           "#FECB52"
          ],
          "font": {
           "color": "#2a3f5f"
          },
          "geo": {
           "bgcolor": "white",
           "lakecolor": "white",
           "landcolor": "#E5ECF6",
           "showlakes": true,
           "showland": true,
           "subunitcolor": "white"
          },
          "hoverlabel": {
           "align": "left"
          },
          "hovermode": "closest",
          "mapbox": {
           "style": "light"
          },
          "paper_bgcolor": "white",
          "plot_bgcolor": "#E5ECF6",
          "polar": {
           "angularaxis": {
            "gridcolor": "white",
            "linecolor": "white",
            "ticks": ""
           },
           "bgcolor": "#E5ECF6",
           "radialaxis": {
            "gridcolor": "white",
            "linecolor": "white",
            "ticks": ""
           }
          },
          "scene": {
           "xaxis": {
            "backgroundcolor": "#E5ECF6",
            "gridcolor": "white",
            "gridwidth": 2,
            "linecolor": "white",
            "showbackground": true,
            "ticks": "",
            "zerolinecolor": "white"
           },
           "yaxis": {
            "backgroundcolor": "#E5ECF6",
            "gridcolor": "white",
            "gridwidth": 2,
            "linecolor": "white",
            "showbackground": true,
            "ticks": "",
            "zerolinecolor": "white"
           },
           "zaxis": {
            "backgroundcolor": "#E5ECF6",
            "gridcolor": "white",
            "gridwidth": 2,
            "linecolor": "white",
            "showbackground": true,
            "ticks": "",
            "zerolinecolor": "white"
           }
          },
          "shapedefaults": {
           "line": {
            "color": "#2a3f5f"
           }
          },
          "ternary": {
           "aaxis": {
            "gridcolor": "white",
            "linecolor": "white",
            "ticks": ""
           },
           "baxis": {
            "gridcolor": "white",
            "linecolor": "white",
            "ticks": ""
           },
           "bgcolor": "#E5ECF6",
           "caxis": {
            "gridcolor": "white",
            "linecolor": "white",
            "ticks": ""
           }
          },
          "title": {
           "x": 0.05
          },
          "xaxis": {
           "automargin": true,
           "gridcolor": "white",
           "linecolor": "white",
           "ticks": "",
           "title": {
            "standoff": 15
           },
           "zerolinecolor": "white",
           "zerolinewidth": 2
          },
          "yaxis": {
           "automargin": true,
           "gridcolor": "white",
           "linecolor": "white",
           "ticks": "",
           "title": {
            "standoff": 15
           },
           "zerolinecolor": "white",
           "zerolinewidth": 2
          }
         }
        },
        "xaxis": {
         "anchor": "y",
         "domain": [
          0,
          1
         ],
         "title": {
          "text": "precision_average"
         }
        },
        "yaxis": {
         "anchor": "x",
         "domain": [
          0,
          1
         ],
         "title": {
          "text": "recall_average"
         }
        }
       }
      }
     },
     "metadata": {},
     "output_type": "display_data"
    },
    {
     "data": {
      "application/vnd.plotly.v1+json": {
       "config": {
        "plotlyServerURL": "https://plot.ly"
       },
       "data": [
        {
         "hovertemplate": "level=NO_CRYSTAL_0<br>precision_average=%{x}<br>recall_average=%{y}<extra></extra>",
         "legendgroup": "NO_CRYSTAL_0",
         "marker": {
          "color": "#636efa",
          "symbol": "circle"
         },
         "mode": "markers",
         "name": "NO_CRYSTAL_0",
         "showlegend": true,
         "type": "scattergl",
         "x": [
          0.2989599874360898,
          0.2763264607288325,
          0.2461252675778034,
          0.3089047204467755,
          0.22650735548035086,
          0.32094300630846206,
          0.26121867960252637,
          0.30516994702447703,
          0.283073827544658,
          0.34510242288747117,
          0.2860542229749878,
          0.3850429036394122,
          0.2531747382097725,
          0.3056018823190026,
          0.19418533943712066,
          0.24299862605907946,
          0.3445259984446741,
          0.3434665157792907,
          0.26800213172826737,
          0.28294821034995166,
          0.31485352019842855,
          0.2523412636301977,
          0.2974947193025272,
          0.2620674130063984,
          0.2822642130616347,
          0.3758409180846854,
          0.1647370653095844,
          0.3276479469809329,
          0.27538622624362874,
          0.3446724501224397,
          0.3138983929497149,
          0.3332365670854006,
          0.2752804550481909,
          0.3119480929059068,
          0.26160645223668944,
          0.28184413387416135,
          0.30915573778531985,
          0.3214094222905113,
          0.28873003087662774,
          0.2934013710727324,
          0.3366008153026027,
          0.34562781654922853,
          0.31459095895748107,
          0.35570653412977066,
          0.29385725701094606,
          0.3182922699178732,
          0.3156639923880371,
          0.31590305177550526,
          0.32618391979685385,
          0.3112804322749074,
          0.26166054509787556,
          0.38149074804993244,
          0.2486294816232341,
          0.365549462901602,
          0.2692586998199036,
          0.312220683577768,
          0.34510210978612466,
          0.21902596782662656,
          0.3047045301414926,
          0.25150201300712294,
          0.3143753535976958,
          0.32693866887679723,
          0.3169714017815284,
          0.35820185324317555,
          0.2456887937187723,
          0.2567912980502975,
          0.2921382893685052,
          0.329969412524028,
          0.35697793334668787,
          0.292713975131589,
          0.2841757563057648,
          0.2732686280456981,
          0.2929348790133247,
          0.35283486851170726,
          0.24385395497504095,
          0.2092458834677203,
          0.26851023475522473,
          0.3234538031150764,
          0.31209528553429633,
          0.26707043233498845,
          0.2812983156709159,
          0.24793557076196826,
          0.3273548789173789,
          0.30787571899120003,
          0.2827702415376765,
          0.2693914081145585,
          0.3058682725896354,
          0.2680952380952381,
          0.37503184995624095,
          0.30899632977058694,
          0.2587273772691181,
          0.3347200652443627,
          0.35637967742188914,
          0.3439120815349461,
          0.3288155847282043,
          0.3232766229005146,
          0.3203417080788344,
          0.35825219231932265,
          0.2811324444648958,
          0.3050242024843996
         ],
         "xaxis": "x",
         "y": [
          0.5,
          0.5,
          0.5,
          0.5,
          0.5,
          0.5,
          0.5,
          0.5,
          0.5,
          0.5,
          0.5,
          0.5,
          0.5,
          0.5,
          0.5,
          0.5,
          0.5,
          0.5,
          0.5,
          0.5,
          0.5,
          0.5,
          0.5,
          0.5,
          0.5,
          0.5,
          0.5,
          0.5,
          0.5,
          0.5,
          0.5,
          0.5,
          0.5,
          0.5,
          0.5,
          0.5,
          0.5,
          0.5,
          0.5,
          0.5,
          0.5,
          0.5,
          0.5,
          0.5,
          0.5,
          0.5,
          0.5,
          0.5,
          0.5,
          0.5,
          0.5,
          0.5,
          0.5,
          0.5,
          0.5,
          0.5,
          0.5,
          0.5,
          0.5,
          0.5,
          0.5,
          0.5,
          0.5,
          0.5,
          0.5,
          0.5,
          0.5,
          0.5,
          0.5,
          0.5,
          0.5,
          0.5,
          0.5,
          0.5,
          0.5,
          0.5,
          0.5,
          0.5,
          0.5,
          0.5,
          0.5,
          0.5,
          0.5,
          0.5,
          0.5,
          0.5,
          0.5,
          0.5,
          0.5,
          0.5,
          0.5,
          0.5,
          0.5,
          0.5,
          0.5,
          0.5,
          0.5,
          0.5,
          0.5,
          0.5
         ],
         "yaxis": "y"
        },
        {
         "hovertemplate": "level=NO_CRYSTAL_1<br>precision_average=%{x}<br>recall_average=%{y}<extra></extra>",
         "legendgroup": "NO_CRYSTAL_1",
         "marker": {
          "color": "#EF553B",
          "symbol": "diamond"
         },
         "mode": "markers",
         "name": "NO_CRYSTAL_1",
         "showlegend": true,
         "type": "scattergl",
         "x": [
          0.43220085411963116,
          0.45458230499913904,
          0.42867822434231606,
          0.42814003300677694,
          0.43296370233290105,
          0.4672423097679439,
          0.41450313339301703,
          0.4461943015662024,
          0.448257984238905,
          0.4555045164769554,
          0.44839501912987,
          0.434542375902326,
          0.41747749622769137,
          0.4490142283545774,
          0.4665787580915848,
          0.4395468181774335,
          0.4442006531339296,
          0.4289854231273113,
          0.4712233750706313,
          0.46587851986456463,
          0.4325413428969914,
          0.43231970173598977,
          0.45670801331160277,
          0.42791184561857754,
          0.43433155351718183,
          0.43456697249129445,
          0.45479082321187586,
          0.42988742803127955,
          0.45260922437038476,
          0.4660669467606851,
          0.3886822804953989,
          0.43859718847228213,
          0.4370495221898283,
          0.453558631094863,
          0.44908937939225974,
          0.44633665711885945,
          0.4345210237209646,
          0.4501758499413834,
          0.44624471004045946,
          0.4772492599986233,
          0.44495997911080315,
          0.47078100090254993,
          0.4616810773457383,
          0.40596957495636876,
          0.43379907507625703,
          0.4648679838875658,
          0.43517803390367554,
          0.4380688424093669,
          0.4415427389866941,
          0.4679839424430426,
          0.43399187922584337,
          0.40191554696258264,
          0.4542328959986941,
          0.42481843189194696,
          0.43555115184542975,
          0.4553317347614738,
          0.46508767301068904,
          0.44709140674867204,
          0.45772148129574197,
          0.4212393907990188,
          0.4626835179733858,
          0.4353843399379327,
          0.4608306882403035,
          0.421230765782425,
          0.46101492376391523,
          0.424387303011609,
          0.4656250993609106,
          0.39343076432652463,
          0.46810170448308847,
          0.4547302927112013,
          0.4595720084045668,
          0.4657631954350927,
          0.4383923421736975,
          0.43877765803388,
          0.4493555672918095,
          0.44466180441855024,
          0.4549445939299251,
          0.42817353602985564,
          0.4236920832584543,
          0.43772236887409616,
          0.4118211274644141,
          0.4386757012466607,
          0.44647642998751746,
          0.4359136193268988,
          0.4412619547927181,
          0.4384659916330788,
          0.4378568988237591,
          0.42357698875839456,
          0.43005840513502575,
          0.45260630115431133,
          0.4435601007855343,
          0.45848258648979684,
          0.4369022047499392,
          0.4518254473560753,
          0.466721879235055,
          0.43339471457721596,
          0.4591901824136487,
          0.43565102857836085,
          0.4802234152640563,
          0.44340500838823194
         ],
         "xaxis": "x",
         "y": [
          0.5,
          0.5,
          0.5,
          0.5,
          0.5,
          0.5,
          0.5,
          0.5,
          0.5,
          0.5,
          0.5,
          0.5,
          0.5,
          0.5,
          0.5,
          0.5,
          0.5,
          0.5,
          0.5,
          0.5,
          0.5,
          0.5,
          0.5,
          0.5,
          0.5,
          0.5,
          0.5,
          0.5,
          0.5,
          0.5,
          0.5,
          0.5,
          0.5,
          0.5,
          0.5,
          0.5,
          0.5,
          0.5,
          0.5,
          0.5,
          0.5,
          0.5,
          0.5,
          0.5,
          0.5,
          0.5,
          0.5,
          0.5,
          0.5,
          0.5,
          0.5,
          0.5,
          0.5,
          0.5,
          0.5,
          0.5,
          0.5,
          0.5,
          0.5,
          0.5,
          0.5,
          0.5,
          0.5,
          0.5,
          0.5,
          0.5,
          0.5,
          0.5,
          0.5,
          0.5,
          0.5,
          0.5,
          0.5,
          0.5,
          0.5,
          0.5,
          0.5,
          0.5,
          0.5,
          0.5,
          0.5,
          0.5,
          0.5,
          0.5,
          0.5,
          0.5,
          0.5,
          0.5,
          0.5,
          0.5,
          0.5,
          0.5,
          0.5,
          0.5,
          0.5,
          0.5,
          0.5,
          0.5,
          0.5,
          0.5
         ],
         "yaxis": "y"
        },
        {
         "hovertemplate": "level=NO_CRYSTAL_2<br>precision_average=%{x}<br>recall_average=%{y}<extra></extra>",
         "legendgroup": "NO_CRYSTAL_2",
         "marker": {
          "color": "#00cc96",
          "symbol": "square"
         },
         "mode": "markers",
         "name": "NO_CRYSTAL_2",
         "showlegend": true,
         "type": "scattergl",
         "x": [
          0.5,
          0.5,
          0.5,
          0.5,
          0.5,
          0.5,
          0.5,
          0.5,
          0.5,
          0.5,
          0.5,
          0.5,
          0.5,
          0.5,
          0.5,
          0.5,
          0.5,
          0.5,
          0.5,
          0.5,
          0.5,
          0.5,
          0.5,
          0.5,
          0.5,
          0.5,
          0.5,
          0.5,
          0.5,
          0.5,
          0.5,
          0.5,
          0.5,
          0.5,
          0.5,
          0.5,
          0.5,
          0.5,
          0.5,
          0.5,
          0.5,
          0.5,
          0.5,
          0.5,
          0.5,
          0.5,
          0.5,
          0.5,
          0.5,
          0.5,
          0.5,
          0.5,
          0.5,
          0.5,
          0.5,
          0.5,
          0.5,
          0.5,
          0.5,
          0.5,
          0.5,
          0.5,
          0.5,
          0.5,
          0.5,
          0.5,
          0.5,
          0.5,
          0.5,
          0.5,
          0.5,
          0.5,
          0.5,
          0.5,
          0.5,
          0.5,
          0.5,
          0.5,
          0.5,
          0.5,
          0.5,
          0.5,
          0.5,
          0.5,
          0.5,
          0.5,
          0.5,
          0.5,
          0.5,
          0.5,
          0.5,
          0.5,
          0.5,
          0.5,
          0.5,
          0.5,
          0.5,
          0.5,
          0.5,
          0.5
         ],
         "xaxis": "x",
         "y": [
          0.5,
          0.5,
          0.5,
          0.5,
          0.5,
          0.5,
          0.5,
          0.5,
          0.5,
          0.5,
          0.5,
          0.5,
          0.5,
          0.5,
          0.5,
          0.5,
          0.5,
          0.5,
          0.5,
          0.5,
          0.5,
          0.5,
          0.5,
          0.5,
          0.5,
          0.5,
          0.5,
          0.5,
          0.5,
          0.5,
          0.5,
          0.5,
          0.5,
          0.5,
          0.5,
          0.5,
          0.5,
          0.5,
          0.5,
          0.5,
          0.5,
          0.5,
          0.5,
          0.5,
          0.5,
          0.5,
          0.5,
          0.5,
          0.5,
          0.5,
          0.5,
          0.5,
          0.5,
          0.5,
          0.5,
          0.5,
          0.5,
          0.5,
          0.5,
          0.5,
          0.5,
          0.5,
          0.5,
          0.5,
          0.5,
          0.5,
          0.5,
          0.5,
          0.5,
          0.5,
          0.5,
          0.5,
          0.5,
          0.5,
          0.5,
          0.5,
          0.5,
          0.5,
          0.5,
          0.5,
          0.5,
          0.5,
          0.5,
          0.5,
          0.5,
          0.5,
          0.5,
          0.5,
          0.5,
          0.5,
          0.5,
          0.5,
          0.5,
          0.5,
          0.5,
          0.5,
          0.5,
          0.5,
          0.5,
          0.5
         ],
         "yaxis": "y"
        },
        {
         "hovertemplate": "level=FEW_CRYSTAL_0<br>precision_average=%{x}<br>recall_average=%{y}<extra></extra>",
         "legendgroup": "FEW_CRYSTAL_0",
         "marker": {
          "color": "#ab63fa",
          "symbol": "x"
         },
         "mode": "markers",
         "name": "FEW_CRYSTAL_0",
         "showlegend": true,
         "type": "scattergl",
         "x": [
          0.4527907776103223,
          0.44881867322800983,
          0.41382464211970454,
          0.4420182904744658,
          0.4430368711802815,
          0.4584238008936101,
          0.4358497404355566,
          0.45951859271315887,
          0.45159757031037806,
          0.44401039469465586,
          0.4667292356920596,
          0.4611309515505769,
          0.43292323204153216,
          0.44958381021745913,
          0.4583998564046366,
          0.48192135329835883,
          0.4368146370725855,
          0.44582980220342505,
          0.47369199154359043,
          0.4660028275316984,
          0.4376708632297906,
          0.40500394559717773,
          0.4424835722245706,
          0.46611911293095865,
          0.4617139304672182,
          0.42665416146939245,
          0.43982924433341014,
          0.4545569639106927,
          0.4092890861471386,
          0.45006671072484006,
          0.4414348383758906,
          0.4606346097864345,
          0.4295899510538408,
          0.44820272382228177,
          0.38974571486913384,
          0.4306396631241227,
          0.42417615338526066,
          0.4310775494239795,
          0.4056224036670964,
          0.4549327936408604,
          0.39331585294035165,
          0.42125906783329614,
          0.4118737208515301,
          0.46485086573315915,
          0.4660310539811404,
          0.3840731526341059,
          0.4188232258557749,
          0.430443223746561,
          0.44333270036955347,
          0.4272503571995555,
          0.3923815531258761,
          0.4036236713023149,
          0.4592449357802888,
          0.4597950042883917,
          0.4732356417255255,
          0.38722278783586384,
          0.46225786157616505,
          0.42026805420268054,
          0.4803908429173333,
          0.4456863647697413,
          0.4561889940606932,
          0.4500451940712399,
          0.47620466541801465,
          0.46507628101549414,
          0.42383061973516145,
          0.41801046240971373,
          0.44152840816404865,
          0.4593982357487408,
          0.4485302868023325,
          0.43366808540574764,
          0.4212932878055697,
          0.46228048478852335,
          0.42058008104073363,
          0.42146283968857384,
          0.4624415922399006,
          0.4388826331745344,
          0.42506899939186976,
          0.44416907804560624,
          0.453054278378217,
          0.466635289557652,
          0.40037351711076624,
          0.4401746106654082,
          0.4176121930567316,
          0.4480490207536774,
          0.4448323170731707,
          0.42225307417691393,
          0.43049920849804935,
          0.4531047479999404,
          0.4579422667402792,
          0.4613481588947955,
          0.42997165607182647,
          0.4203640422189765,
          0.4472809122707951,
          0.4608902885351945,
          0.4381363826165162,
          0.44178085629674246,
          0.4460088875059558,
          0.4352704532021583,
          0.4218760242095833,
          0.4346729755630091
         ],
         "xaxis": "x",
         "y": [
          0.5,
          0.5,
          0.5,
          0.5,
          0.5,
          0.5,
          0.5,
          0.5,
          0.5,
          0.5,
          0.5,
          0.5,
          0.5,
          0.5,
          0.5,
          0.5,
          0.5,
          0.5,
          0.5,
          0.5,
          0.5,
          0.5,
          0.5,
          0.5,
          0.5,
          0.5,
          0.5,
          0.5,
          0.5,
          0.5,
          0.5,
          0.5,
          0.5,
          0.5,
          0.5,
          0.5,
          0.5,
          0.5,
          0.5,
          0.5,
          0.5,
          0.5,
          0.5,
          0.5,
          0.5,
          0.5,
          0.5,
          0.5,
          0.5,
          0.5,
          0.5,
          0.5,
          0.5,
          0.5,
          0.5,
          0.5,
          0.5,
          0.5,
          0.5,
          0.5,
          0.5,
          0.5,
          0.5,
          0.5,
          0.5,
          0.5,
          0.5,
          0.5,
          0.5,
          0.5,
          0.5,
          0.5,
          0.5,
          0.5,
          0.5,
          0.5,
          0.5,
          0.5,
          0.5,
          0.5,
          0.5,
          0.5,
          0.5,
          0.5,
          0.5,
          0.5,
          0.5,
          0.5,
          0.5,
          0.5,
          0.5,
          0.5,
          0.5,
          0.5,
          0.5,
          0.5,
          0.5,
          0.5,
          0.5,
          0.5
         ],
         "yaxis": "y"
        },
        {
         "hovertemplate": "level=FEW_CRYSTAL_1<br>precision_average=%{x}<br>recall_average=%{y}<extra></extra>",
         "legendgroup": "FEW_CRYSTAL_1",
         "marker": {
          "color": "#FFA15A",
          "symbol": "cross"
         },
         "mode": "markers",
         "name": "FEW_CRYSTAL_1",
         "showlegend": true,
         "type": "scattergl",
         "x": [
          0.45529611310291596,
          0.4116752956823256,
          0.44306145138467756,
          0.4132130233161462,
          0.4236457161228098,
          0.4603099337196215,
          0.4324392143289781,
          0.43774628993041,
          0.4204427295391053,
          0.45565051621471103,
          0.42236681061358333,
          0.46407966653784577,
          0.435102533172497,
          0.4510893321370235,
          0.4346931555820362,
          0.45802611273056854,
          0.43391925295248557,
          0.4000710164225477,
          0.4169461910288622,
          0.45305449103154266,
          0.3624249486991108,
          0.469988933905234,
          0.4336418953238864,
          0.42447208864729247,
          0.442996511279145,
          0.4431270013321529,
          0.4008236017209588,
          0.4120528659675334,
          0.4128489039796275,
          0.4122144190594719,
          0.4406881428496841,
          0.445040521796944,
          0.42633551267740394,
          0.45203403200360603,
          0.4310083326397174,
          0.4608188609840655,
          0.4193605253299839,
          0.4577058354870679,
          0.42013758385439803,
          0.439937575303348,
          0.44654128949467625,
          0.4252713786992922,
          0.45990888792855084,
          0.4111549286555832,
          0.42516265743448933,
          0.4547061228088456,
          0.4296111845151382,
          0.42284172874192827,
          0.42038290019990776,
          0.399677711637936,
          0.4170864296045085,
          0.43548132665536143,
          0.4199269558531428,
          0.4389353385091482,
          0.4444655075917601,
          0.39980327959060147,
          0.45037602052262465,
          0.45785081401244154,
          0.4548348649750651,
          0.4416262328985046,
          0.44003703814331374,
          0.43893662448575743,
          0.44442538397319337,
          0.43746833305184935,
          0.45293379353624097,
          0.4384900173253032,
          0.4413698875599158,
          0.4155628718157319,
          0.4264251202666303,
          0.4560178866749089,
          0.44682541550920474,
          0.42339524919773214,
          0.40893548461877277,
          0.412883659122085,
          0.4167518455423055,
          0.43878358612675067,
          0.44956973497505376,
          0.37369272237196766,
          0.3991546606305717,
          0.4307012758099715,
          0.44734309581919557,
          0.46695426423672554,
          0.447801048580512,
          0.4448705656759348,
          0.4610697895236588,
          0.4424342877534347,
          0.4599382474292532,
          0.4257119775748963,
          0.4527069234773555,
          0.43199709221689764,
          0.4464576936487049,
          0.46055071725968616,
          0.454432879925315,
          0.4337231193487657,
          0.415518968938486,
          0.37691174804576866,
          0.4391880764163373,
          0.4619578635503251,
          0.4169498567973051,
          0.42522036819245684
         ],
         "xaxis": "x",
         "y": [
          0.4615495495495496,
          0.45564828809883684,
          0.4444540200750279,
          0.42621209840616797,
          0.44815565729234796,
          0.4498737039375853,
          0.4710145610480185,
          0.4302076466710613,
          0.45505823649848814,
          0.45205333900015937,
          0.4514984324471105,
          0.4443673512541961,
          0.4402837302663701,
          0.44660957109992483,
          0.46678996301109665,
          0.46332256812231043,
          0.46267607696137286,
          0.4181403202761129,
          0.43561948671481493,
          0.4683148938165112,
          0.38527415706129486,
          0.46289373890955604,
          0.44411062158288656,
          0.4565848063689111,
          0.46650320006649487,
          0.45850313345433374,
          0.44398300699872006,
          0.4354486109002581,
          0.43555418005583946,
          0.453794318308914,
          0.4730470683841318,
          0.44351531352456675,
          0.4366975923687563,
          0.4601016241512204,
          0.4532453512798568,
          0.46732994404370864,
          0.45773453753923493,
          0.4578481873845855,
          0.43696398957592986,
          0.46179469816168417,
          0.4711546378548492,
          0.45781976445322764,
          0.47059419622293874,
          0.43260390482421407,
          0.47437562437562436,
          0.4711209473824077,
          0.4463615243816586,
          0.46301059979317477,
          0.45531671264248164,
          0.45197208855916265,
          0.43692122826952967,
          0.4423591150814714,
          0.4702446724546172,
          0.4445162265810779,
          0.4543667638699199,
          0.451954777307788,
          0.4470099619528913,
          0.46651961427446864,
          0.461576412171625,
          0.44944650193268976,
          0.4598325412989364,
          0.477931754005965,
          0.44956155572522616,
          0.45886191183851827,
          0.4541195240609867,
          0.46741675552672945,
          0.45803077495234995,
          0.44190243177117833,
          0.44996737483549176,
          0.4624518639734916,
          0.4372523497972724,
          0.4697418030830907,
          0.4554026668043526,
          0.4765126403799535,
          0.46594458694161567,
          0.4593878813941536,
          0.4322097295870096,
          0.39632565939929865,
          0.4404460332867729,
          0.4423503803797332,
          0.4778353574532121,
          0.4478482768872482,
          0.4524443505212736,
          0.4749232343909928,
          0.44587108227228206,
          0.4472772324225796,
          0.45619043317223,
          0.4511402667326794,
          0.4603190006528221,
          0.45719029012208207,
          0.45947009595684835,
          0.47459857980626907,
          0.46533648300598857,
          0.45977625365414887,
          0.4616685948789592,
          0.4139236456704109,
          0.4533802081435875,
          0.4704563550266102,
          0.4238881177961499,
          0.44467377803755387
         ],
         "yaxis": "y"
        },
        {
         "hovertemplate": "level=FEW_CRYSTAL_2<br>precision_average=%{x}<br>recall_average=%{y}<extra></extra>",
         "legendgroup": "FEW_CRYSTAL_2",
         "marker": {
          "color": "#19d3f3",
          "symbol": "circle"
         },
         "mode": "markers",
         "name": "FEW_CRYSTAL_2",
         "showlegend": true,
         "type": "scattergl",
         "x": [
          0.45909026060490776,
          0.4663371748735936,
          0.46701714324665144,
          0.4818543293680869,
          0.46777353646589875,
          0.4636418160008724,
          0.4576066429682293,
          0.4446907052556254,
          0.4646252447925939,
          0.46863046104288303,
          0.4747247875877355,
          0.4823206677172708,
          0.4758072628508198,
          0.4759890235536245,
          0.46684421017711347,
          0.4813498012571004,
          0.4641359303771239,
          0.45812440429323276,
          0.4826077753474917,
          0.47518389782555975,
          0.4712716235091866,
          0.4937528720642846,
          0.4752982803593856,
          0.4746979849652953,
          0.46963351588506913,
          0.47616845788552864,
          0.4719709179892001,
          0.4610531069844053,
          0.4614138438880707,
          0.4661651050982065,
          0.4711376313399922,
          0.4852787746070327,
          0.4781968848459707,
          0.4679051998929362,
          0.46795838082282437,
          0.46467761534779245,
          0.47087942921276255,
          0.48888481241422416,
          0.46999623899256876,
          0.4732817735525598,
          0.46890518535627673,
          0.4859286570000413,
          0.47867992766726947,
          0.46179493562842305,
          0.47799660701302343,
          0.4776649942854929,
          0.48343353724172333,
          0.47671317481261055,
          0.4823697542737937,
          0.47359638158318623,
          0.47258264069538736,
          0.4734148363033568,
          0.46119993908938633,
          0.4785751920696965,
          0.461221960589912,
          0.4688943970133725,
          0.47940651116702954,
          0.4695605471835213,
          0.45659374631963257,
          0.4819691740528669,
          0.47111077043623417,
          0.4760566561698622,
          0.48773421170498654,
          0.4739572818670004,
          0.46868438156184383,
          0.46077837448424913,
          0.4644561882032049,
          0.47325537494515363,
          0.472242587161942,
          0.4712861522374581,
          0.4612265224815026,
          0.45326936141304347,
          0.47393668841178427,
          0.48157610256237016,
          0.4695831381733021,
          0.4794157365849784,
          0.4783300623993559,
          0.4731414381999696,
          0.48657043243285214,
          0.48021658372467935,
          0.48224854965416714,
          0.4844869944026543,
          0.4702212790116114,
          0.48154288240495136,
          0.47565659650441644,
          0.4765842439212107,
          0.4769582057383084,
          0.4777054301931732,
          0.4728971556934964,
          0.4478503747701881,
          0.47219268139411225,
          0.47694274028629857,
          0.4608971123218047,
          0.482676897445825,
          0.47061446286749337,
          0.4701736512377593,
          0.4654004153466022,
          0.45338392981478903,
          0.4661962477170845,
          0.47412857063310876
         ],
         "xaxis": "x",
         "y": [
          0.3998571014372696,
          0.4580331976197933,
          0.4411632137280469,
          0.46006900746706936,
          0.4253374902093284,
          0.4445422228418081,
          0.4420108105208096,
          0.4061268947989471,
          0.4445920853137085,
          0.4534529781327619,
          0.4402707925066122,
          0.449607173170254,
          0.463893765385483,
          0.45457109839213083,
          0.42641785768395535,
          0.44476851322327704,
          0.4315572064920853,
          0.4169180871926384,
          0.45789262284107646,
          0.4561396702230844,
          0.44386677292449367,
          0.4561052281357916,
          0.4557755775577558,
          0.4410206062499303,
          0.43774933867162363,
          0.45736406193734247,
          0.45143866677169253,
          0.46412954815934104,
          0.42791452939569613,
          0.438878761663474,
          0.45167809230673567,
          0.4625088783259575,
          0.4745317507767399,
          0.41187242974640165,
          0.42821336652816794,
          0.42574349285605845,
          0.46406668180965266,
          0.4358916888781197,
          0.45776649361476374,
          0.39885897225414546,
          0.41563305068841383,
          0.47760747094351114,
          0.4259417188279402,
          0.4345705249418498,
          0.4596621853687258,
          0.4435939411383752,
          0.470993733213966,
          0.4576348838462782,
          0.48041741992930576,
          0.45015555337808044,
          0.4432896890343699,
          0.43224988648403206,
          0.4365316152837232,
          0.46042037510756934,
          0.44213702731279625,
          0.4261716033931303,
          0.456600024835465,
          0.4481464172106557,
          0.43439684029188086,
          0.4274001425913367,
          0.4294376125706478,
          0.4537723064452803,
          0.4716867904777375,
          0.4488509629478568,
          0.44891179428243067,
          0.4345057048896849,
          0.4514498757249379,
          0.4540243950191871,
          0.45389714613808674,
          0.4503877905590316,
          0.4459756936482458,
          0.4309531883285698,
          0.47452186045363065,
          0.47753900525094845,
          0.4514571850570986,
          0.4617231057599434,
          0.4555164192694294,
          0.4405339347727616,
          0.46905854436301847,
          0.4452670573325679,
          0.4595962892172859,
          0.4537346711259755,
          0.45274289060974815,
          0.4483227768504333,
          0.4500850255076523,
          0.4600737790602241,
          0.46249430948143855,
          0.43423309433431745,
          0.4660442334017796,
          0.40813893542982344,
          0.45145002888503755,
          0.42203757879180864,
          0.44762822463400614,
          0.4603952639942702,
          0.4450652259849783,
          0.42746250086403537,
          0.435656208760802,
          0.42846332689945604,
          0.43686405078258705,
          0.4415226662864106
         ],
         "yaxis": "y"
        },
        {
         "hovertemplate": "level=FEW_CRYSTAL_3<br>precision_average=%{x}<br>recall_average=%{y}<extra></extra>",
         "legendgroup": "FEW_CRYSTAL_3",
         "marker": {
          "color": "#FF6692",
          "symbol": "diamond"
         },
         "mode": "markers",
         "name": "FEW_CRYSTAL_3",
         "showlegend": true,
         "type": "scattergl",
         "x": [
          0.7473927741735135,
          0.8138981062485758,
          0.8076976748545699,
          0.7910857413987697,
          0.7963057108825382,
          0.8167679912701291,
          0.8524771032523258,
          0.8357376735855236,
          0.7803670287201795,
          0.7306787574944749,
          0.8136789439725055,
          0.7504623250872637,
          0.7860053253880448,
          0.8025699405675599,
          0.8058824274870874,
          0.8630465752927674,
          0.775112400135166,
          0.8323285750768803,
          0.7243373504809563,
          0.7891429995288184,
          0.904638686396359,
          0.8188451865033601,
          0.8361602327381765,
          0.7425770818081998,
          0.8038573552837224,
          0.7951781981785293,
          0.7718943157476823,
          0.8352851158338521,
          0.815672534488886,
          0.815264995665297,
          0.8119425127763285,
          0.8198225243025348,
          0.7932455760762758,
          0.8667973141159466,
          0.6871348144248537,
          0.8088199593329365,
          0.8218596731433647,
          0.8434635265478732,
          0.8532300916455213,
          0.8430077269966079,
          0.7430194328191491,
          0.8239126378813951,
          0.8179416541527114,
          0.7855547331942838,
          0.7891338826848662,
          0.731068095770329,
          0.8322430364256138,
          0.7927309675623384,
          0.7955074119753686,
          0.8411919074734067,
          0.8434440590582617,
          0.7911393323555895,
          0.739311499623188,
          0.8002111082345087,
          0.849010324534909,
          0.8003219428136014,
          0.7967148080364532,
          0.8042099714787387,
          0.714652419068506,
          0.8003406841252052,
          0.7960204858303043,
          0.7879883156183047,
          0.79581274239982,
          0.777248451515472,
          0.8234662928130378,
          0.7842431002737389,
          0.7724774104478469,
          0.8253694608528697,
          0.7121055628251548,
          0.8045497204848273,
          0.7304781697760914,
          0.7929014302511475,
          0.8198935191948247,
          0.8321713038350094,
          0.8426170811121512,
          0.8865386546383294,
          0.8499617854781132,
          0.818617223844712,
          0.7751063814073772,
          0.7807737001180339,
          0.7182082526131561,
          0.8695683694328766,
          0.8736666817862835,
          0.7946347040436961,
          0.812918311834296,
          0.70512219461364,
          0.8701410971330388,
          0.8196580241172965,
          0.6602918161932101,
          0.7921840302733969,
          0.6799126764966427,
          0.8194928587476841,
          0.786567447512526,
          0.7290297850298086,
          0.7539029452916785,
          0.8303819433157147,
          0.7955778165224463,
          0.8198864999278876,
          0.7943378737879087,
          0.835847160563034
         ],
         "xaxis": "x",
         "y": [
          0.7788786872478319,
          0.8035425904868523,
          0.8252189538026506,
          0.7867553591665317,
          0.7705818412006339,
          0.7778807025180661,
          0.8399783384428565,
          0.8270188926566124,
          0.8206974778647751,
          0.7824386583686217,
          0.8024111841553667,
          0.715858927745808,
          0.7902618980416043,
          0.822585879986704,
          0.8276411990222219,
          0.8367060107504706,
          0.8035654645254399,
          0.8025345736435296,
          0.7338246512173443,
          0.8180767600456497,
          0.8505832408024507,
          0.8148342708651558,
          0.8309207027479961,
          0.7220845012603623,
          0.7773451960764287,
          0.7994080693214224,
          0.7493726697124486,
          0.8150017669685761,
          0.8222503823879691,
          0.812397976135441,
          0.8027697213921423,
          0.8417728542430071,
          0.7947077551894732,
          0.8193374032684699,
          0.7032149263040439,
          0.8175623002063057,
          0.7954367157232636,
          0.8495081948186496,
          0.8525830833442651,
          0.7893441192370372,
          0.7322984876627547,
          0.775851990262884,
          0.7920373196945938,
          0.753246043192483,
          0.7735319310803762,
          0.751934863367565,
          0.8472527738216826,
          0.7974807517067602,
          0.748686467979684,
          0.8502291587612941,
          0.7979968750757137,
          0.8017578875351175,
          0.7579662482255036,
          0.8042589778668817,
          0.8052997510703428,
          0.8229113692486676,
          0.7901715407743382,
          0.8487308709411714,
          0.7288392834554283,
          0.8495828693284617,
          0.838659639429388,
          0.7820280436290112,
          0.7812886219090667,
          0.8129706082199007,
          0.840700556039027,
          0.7539632100065901,
          0.7748679202913384,
          0.8269455151792946,
          0.7022219515780328,
          0.7561957559864367,
          0.7649916569104888,
          0.7636485498830763,
          0.8098247067750897,
          0.8351265592962995,
          0.8057182722490417,
          0.8817933888314893,
          0.877912721423135,
          0.8649109384517755,
          0.820258323470471,
          0.7991655303958682,
          0.6788465907142001,
          0.8249974729014619,
          0.8526988390347505,
          0.8428768052892022,
          0.7896985649373107,
          0.7232810680579803,
          0.8223902130706306,
          0.832198767707004,
          0.6725106987650886,
          0.7983495945566802,
          0.7097279943916366,
          0.8344103552485036,
          0.7926528657759719,
          0.754182774626007,
          0.7854339129324637,
          0.7359245626855829,
          0.8118291717549846,
          0.8214177990990332,
          0.8149652810072796,
          0.8466366814037957
         ],
         "yaxis": "y"
        },
        {
         "hovertemplate": "level=SOME_CRYSTAL_0<br>precision_average=%{x}<br>recall_average=%{y}<extra></extra>",
         "legendgroup": "SOME_CRYSTAL_0",
         "marker": {
          "color": "#B6E880",
          "symbol": "square"
         },
         "mode": "markers",
         "name": "SOME_CRYSTAL_0",
         "showlegend": true,
         "type": "scattergl",
         "x": [
          0.3070538334915561,
          0.27281910009182736,
          0.388082461490947,
          0.3476116013254403,
          0.35373941718075547,
          0.38058938317210866,
          0.4021706868235154,
          0.2944304343498026,
          0.30500899300062845,
          0.38035110063490857,
          0.3038476728259682,
          0.3228927331361983,
          0.31966255678131084,
          0.29914833551223025,
          0.3871823790884363,
          0.30152903170798717,
          0.3361560974070539,
          0.33480571866760506,
          0.2921385977911859,
          0.35319869817598915,
          0.35070622807849083,
          0.30852001659406764,
          0.3379412501043145,
          0.28193932377848524,
          0.3253761743785525,
          0.3519226787835202,
          0.32812619612646404,
          0.34357768067789984,
          0.3394900661604464,
          0.279640488220739,
          0.2731122088920254,
          0.33357431505579654,
          0.4060058940491407,
          0.3056121649161311,
          0.3388771453292882,
          0.31640761540791834,
          0.34094543669643423,
          0.3573233366786705,
          0.3631537554069996,
          0.2821392853895809,
          0.3697607767444581,
          0.3442379459003235,
          0.3271952742191025,
          0.36618496422884034,
          0.28414310733049786,
          0.3296097934200459,
          0.30636444857667916,
          0.3072024501003274,
          0.306759974446832,
          0.2899125145929118,
          0.28251556365371683,
          0.2596053327826749,
          0.3620427807486631,
          0.3102200942305303,
          0.25754583665483005,
          0.2974122850859656,
          0.37559322033898307,
          0.29069291217651727,
          0.3369288800599816,
          0.31046842587679097,
          0.25553991647957935,
          0.34945508731264063,
          0.36048786411041706,
          0.36641117463508616,
          0.4205004488330341,
          0.24703335269018104,
          0.33537539858923565,
          0.32669453210061083,
          0.300143364707349,
          0.31081261138222216,
          0.28822337962962963,
          0.32294424830832597,
          0.3033763148965049,
          0.3541398186353909,
          0.2620057952740631,
          0.32851188873409276,
          0.2673506051437216,
          0.40802701936107405,
          0.27327917395946855,
          0.3581843887822068,
          0.35495789557195156,
          0.34340908490574346,
          0.34067923737015293,
          0.30221642166964324,
          0.33839177805846593,
          0.3184767918724951,
          0.29180127066171324,
          0.2580723758252213,
          0.14630015968680782,
          0.3145694424741098,
          0.3251677666241473,
          0.31611484867018197,
          0.2511109555967669,
          0.3118106359639652,
          0.3150134202014177,
          0.36741377404377623,
          0.289779198929956,
          0.32322913279762183,
          0.34826305787686757,
          0.3349001948701743
         ],
         "xaxis": "x",
         "y": [
          0.5,
          0.5,
          0.5,
          0.5,
          0.5,
          0.5,
          0.5,
          0.5,
          0.5,
          0.5,
          0.5,
          0.5,
          0.5,
          0.5,
          0.5,
          0.5,
          0.5,
          0.5,
          0.5,
          0.5,
          0.5,
          0.5,
          0.5,
          0.5,
          0.5,
          0.5,
          0.5,
          0.5,
          0.5,
          0.5,
          0.5,
          0.5,
          0.5,
          0.5,
          0.5,
          0.5,
          0.5,
          0.5,
          0.5,
          0.5,
          0.5,
          0.5,
          0.5,
          0.5,
          0.5,
          0.5,
          0.5,
          0.5,
          0.5,
          0.5,
          0.5,
          0.5,
          0.5,
          0.5,
          0.5,
          0.5,
          0.5,
          0.5,
          0.5,
          0.5,
          0.5,
          0.5,
          0.5,
          0.5,
          0.5,
          0.5,
          0.5,
          0.5,
          0.5,
          0.5,
          0.5,
          0.5,
          0.5,
          0.5,
          0.5,
          0.5,
          0.5,
          0.5,
          0.5,
          0.5,
          0.5,
          0.5,
          0.5,
          0.5,
          0.5,
          0.5,
          0.5,
          0.5,
          0.5,
          0.5,
          0.5,
          0.5,
          0.5,
          0.5,
          0.5,
          0.5,
          0.5,
          0.5,
          0.5,
          0.5
         ],
         "yaxis": "y"
        },
        {
         "hovertemplate": "level=SOME_CRYSTAL_1<br>precision_average=%{x}<br>recall_average=%{y}<extra></extra>",
         "legendgroup": "SOME_CRYSTAL_1",
         "marker": {
          "color": "#FF97FF",
          "symbol": "x"
         },
         "mode": "markers",
         "name": "SOME_CRYSTAL_1",
         "showlegend": true,
         "type": "scattergl",
         "x": [
          0.24610569355743311,
          0.25670900338010855,
          0.2544842896640017,
          0.24878730072216923,
          0.25999917560901886,
          0.29507033282987283,
          0.3132535908151991,
          0.31668984336053313,
          0.23662487064089913,
          0.348078984634524,
          0.21506276150627615,
          0.2883348046562237,
          0.2714141917577961,
          0.31790210816534054,
          0.36222548492493484,
          0.23866759123712664,
          0.32631821776957554,
          0.34161481709783675,
          0.2579461619098479,
          0.33815815421021495,
          0.30762533927382596,
          0.2960447025309521,
          0.321875514216183,
          0.3246229971724788,
          0.3642375955434642,
          0.36406398479569213,
          0.2820932922127988,
          0.3118704224196295,
          0.2675667514989432,
          0.36803924278015754,
          0.3984677944353766,
          0.29960922139205665,
          0.2663138680758983,
          0.27855840610803895,
          0.2636664987759596,
          0.2945370739202185,
          0.36660819534100475,
          0.22118593391331184,
          0.3083940833312166,
          0.24443389581355465,
          0.3222393497757848,
          0.29455679708696275,
          0.2202704713409493,
          0.2939664464774329,
          0.3054141804141804,
          0.298952346743295,
          0.24380002624327515,
          0.3314759511496346,
          0.2874504653948945,
          0.2968589997059748,
          0.3174177039965603,
          0.3684494902808338,
          0.3552317705265638,
          0.31024769789268636,
          0.33659720021419126,
          0.34208435585529917,
          0.2705379697112537,
          0.27605465850601707,
          0.2780174818672122,
          0.3520592391019938,
          0.305355335973317,
          0.333803032103628,
          0.1846677847127371,
          0.22996144166036425,
          0.24740820012039327,
          0.3225185203416111,
          0.32680439502598857,
          0.28971218206157967,
          0.23041188615633904,
          0.3220957125066714,
          0.26230227456413807,
          0.345103608898176,
          0.305960056321328,
          0.3039622252139818,
          0.2780678695895234,
          0.31358464616154036,
          0.246579455012328,
          0.31320630388226894,
          0.2878927165989291,
          0.4428062371454537,
          0.26229258760971236,
          0.3064282231751072,
          0.30125152434953667,
          0.2983386148168434,
          0.31674818955660017,
          0.2831345529618068,
          0.3079333293482376,
          0.3216517940022526,
          0.3615967944897013,
          0.26374452169523416,
          0.26070031349586753,
          0.26701270181918,
          0.25926010635256447,
          0.3280921565927762,
          0.2222229451876529,
          0.25330596745510703,
          0.3005327726105858,
          0.3289104292079277,
          0.24303396180624023,
          0.31516236638211254
         ],
         "xaxis": "x",
         "y": [
          0.32495640333484627,
          0.3845711216817554,
          0.36799606105366817,
          0.34225275549223966,
          0.36013626674786847,
          0.3932958996810459,
          0.3859493371212121,
          0.4166594749469251,
          0.3532053239451799,
          0.43665327400717224,
          0.3384993633928963,
          0.39743335785839606,
          0.41224580673890454,
          0.35671015021232044,
          0.42974730127576055,
          0.31369305811068543,
          0.41740999915690075,
          0.39780285102230795,
          0.3979342751655326,
          0.3850022451728783,
          0.4168632893823733,
          0.3671361927623534,
          0.3979186518345628,
          0.4167170788365678,
          0.4345383450279744,
          0.3499741177187053,
          0.4244713389231662,
          0.3793972671117489,
          0.38819700857375306,
          0.3891035109646631,
          0.432889517542511,
          0.3960783676652154,
          0.32954752449998176,
          0.38680485621573235,
          0.3928378213294707,
          0.3583276795480664,
          0.41355865125850877,
          0.2889378858510772,
          0.41658755847334533,
          0.3464042359272601,
          0.4451034883238625,
          0.42533216490328235,
          0.306294397572358,
          0.37783303730017764,
          0.36833806036489863,
          0.3993171059365404,
          0.36124432922877514,
          0.388086642599278,
          0.4045164218785462,
          0.40889158881114973,
          0.43100232104461245,
          0.4175876875857693,
          0.4126385467980296,
          0.3905522891297684,
          0.4091090213579853,
          0.39974417693053577,
          0.3998981651867865,
          0.37828058825491045,
          0.347645772933753,
          0.3576745175182094,
          0.35262041805513483,
          0.3434650455927052,
          0.37120316952804616,
          0.3464455153349023,
          0.3520711185563085,
          0.3695814648729447,
          0.3962647988001404,
          0.36168630400267404,
          0.34877855800613194,
          0.3938705861557915,
          0.39294300786992997,
          0.4087065798801315,
          0.4197356716228237,
          0.43409585292260194,
          0.36646079568611467,
          0.3984953446248689,
          0.36120779998502883,
          0.4086050776548799,
          0.39673949280999266,
          0.4160272325892305,
          0.3755302804466968,
          0.3684111643845911,
          0.4233347926699606,
          0.38623548082117776,
          0.36406615070093457,
          0.39805570611788155,
          0.39172285308729593,
          0.41937227690818135,
          0.4068772356915739,
          0.3949303372330739,
          0.38484118333237716,
          0.351026835509481,
          0.35782944268194516,
          0.4335654156861794,
          0.3775814796798302,
          0.3239649776835337,
          0.40832530014897905,
          0.40510923791501807,
          0.39471091074815856,
          0.41265367065291714
         ],
         "yaxis": "y"
        },
        {
         "hovertemplate": "level=SOME_CRYSTAL_2<br>precision_average=%{x}<br>recall_average=%{y}<extra></extra>",
         "legendgroup": "SOME_CRYSTAL_2",
         "marker": {
          "color": "#FECB52",
          "symbol": "cross"
         },
         "mode": "markers",
         "name": "SOME_CRYSTAL_2",
         "showlegend": true,
         "type": "scattergl",
         "x": [
          0.27998006585836666,
          0.34921412007214636,
          0.2744298419407388,
          0.2850338859577474,
          0.28429556339140044,
          0.31432501157987275,
          0.3417226453049788,
          0.299182805449403,
          0.29034844807492866,
          0.283920746808916,
          0.3033313331999911,
          0.3266448420537713,
          0.2442552151238592,
          0.29884764276925846,
          0.324633625800332,
          0.2882991818904757,
          0.32084607225307293,
          0.24318792208808115,
          0.3502112790508695,
          0.31710297436782103,
          0.28218133441030085,
          0.35458275344768375,
          0.22295357380173267,
          0.2487012919950014,
          0.33113288436404803,
          0.21191225910317724,
          0.30108818719335767,
          0.2640697746601279,
          0.32826330996153774,
          0.33853539911752906,
          0.3238203211749666,
          0.31372536554354735,
          0.3420776852305515,
          0.30407912786080427,
          0.2778013357362451,
          0.31658467662922973,
          0.2964311805563128,
          0.2989484933108851,
          0.3433032062020336,
          0.20943794859921278,
          0.3061001027004168,
          0.34507696456932807,
          0.26238336639482773,
          0.34732237687964673,
          0.19267789096540103,
          0.3462682879117032,
          0.30005100456823525,
          0.24328575865188565,
          0.2340697697479325,
          0.3035773586634145,
          0.24856298714735706,
          0.23469208757715626,
          0.2870767567313456,
          0.2516983513237742,
          0.2639263985754563,
          0.3176450075555039,
          0.25415675639629226,
          0.25851410587838597,
          0.3271536204133453,
          0.31955940324236626,
          0.29445196573864324,
          0.34021985084418976,
          0.3081611960007546,
          0.29039313746710566,
          0.3111815398948559,
          0.27730966355790815,
          0.21200304782394336,
          0.28439207021420243,
          0.1381971599094464,
          0.22118927567148258,
          0.30272370460021036,
          0.2060234396293268,
          0.3432539906050399,
          0.2743340050243673,
          0.2769000670460211,
          0.26533152791124315,
          0.33555899356729907,
          0.21485428085911049,
          0.35745232773132435,
          0.26853550515158253,
          0.2221414207843782,
          0.2709028002801325,
          0.3328054829412159,
          0.3427677633881694,
          0.30490736104156235,
          0.343914280576681,
          0.3453999766890711,
          0.3485058905222027,
          0.32255808950086057,
          0.33674730133957603,
          0.31565413920504526,
          0.29211035471157293,
          0.3810581683168317,
          0.3467635634047616,
          0.37689410920828476,
          0.1768069865308761,
          0.27991756867082773,
          0.26716469900352063,
          0.32737379466817923,
          0.3329502277641329
         ],
         "xaxis": "x",
         "y": [
          0.3757259197805733,
          0.4505302115305772,
          0.361723272447662,
          0.40801864433559804,
          0.3997617074181517,
          0.3860707319338659,
          0.41635937893228,
          0.3671426868202472,
          0.35165688978672155,
          0.32640024529844647,
          0.4023939032120167,
          0.38619730841953065,
          0.38675755881467466,
          0.36222606165317817,
          0.4333531705834684,
          0.3673041692111253,
          0.3698360184119678,
          0.3341873297979074,
          0.39297698508224826,
          0.355481781115534,
          0.35146171144514143,
          0.33156435911303406,
          0.35825375720214353,
          0.3933775483533717,
          0.4343524787071413,
          0.36408843150016273,
          0.3876372647468498,
          0.32859305720774307,
          0.4089153284504201,
          0.3957069597069597,
          0.40565640743901155,
          0.38475752377982225,
          0.381311062564476,
          0.34397765509130707,
          0.3957024643633728,
          0.41793625508856486,
          0.356598502039692,
          0.4060719763365469,
          0.4115085572859511,
          0.34861818123424276,
          0.3760204081632653,
          0.41210574032542824,
          0.31264663655145847,
          0.41865440334209286,
          0.2751365764828304,
          0.39217332493761514,
          0.32993976931893,
          0.3099091816023943,
          0.4253153153153153,
          0.36068707482993195,
          0.4178632858550915,
          0.3923694484667412,
          0.44304681406779967,
          0.3668499530369443,
          0.3751370960938159,
          0.36260980334916804,
          0.36299923804686013,
          0.38380242518633884,
          0.387061228007535,
          0.349255385467895,
          0.3980177927560653,
          0.40704193765418256,
          0.38002529915524086,
          0.39454866270430905,
          0.3186456558773424,
          0.3603727967555764,
          0.3377204464859462,
          0.372931556242354,
          0.2449240121580547,
          0.36510413540603803,
          0.38575237820697605,
          0.3331599732026374,
          0.41303169138178764,
          0.3977246402923992,
          0.3477406679764244,
          0.36538345864661653,
          0.42797798317582303,
          0.3540657767296922,
          0.33430116268566196,
          0.41444423789163604,
          0.339975611644472,
          0.380371609721733,
          0.3595441543864731,
          0.3936280322366702,
          0.38458623346765536,
          0.3974573681315323,
          0.4019736395903511,
          0.38769671895048313,
          0.39367040597511344,
          0.39928806415133133,
          0.386639038541235,
          0.3314361909717705,
          0.40577637786973825,
          0.4230096051227321,
          0.37626275542824994,
          0.29545654953485295,
          0.4051980481110137,
          0.3494508176714669,
          0.38778773667307204,
          0.43241456399351136
         ],
         "yaxis": "y"
        },
        {
         "hovertemplate": "level=SOME_CRYSTAL_3<br>precision_average=%{x}<br>recall_average=%{y}<extra></extra>",
         "legendgroup": "SOME_CRYSTAL_3",
         "marker": {
          "color": "#636efa",
          "symbol": "circle"
         },
         "mode": "markers",
         "name": "SOME_CRYSTAL_3",
         "showlegend": true,
         "type": "scattergl",
         "x": [
          0.5068607263842242,
          0.49581945529099997,
          0.48371907398134956,
          0.4710957609374855,
          0.4940559411594343,
          0.5289798499109555,
          0.3998620375202923,
          0.6034154998481082,
          0.48463026164977807,
          0.5436635133302876,
          0.46417656452631273,
          0.39576698872396754,
          0.422641388857047,
          0.4930875902749959,
          0.5347013143074748,
          0.6035187280488452,
          0.44658239420009993,
          0.5034965536172386,
          0.4751653068275338,
          0.5577559151150532,
          0.47132841007494,
          0.436997829309206,
          0.5016133273215756,
          0.42552239010455944,
          0.5494624215713875,
          0.5171006750898055,
          0.5558959910669843,
          0.4714378434340344,
          0.48392034616217383,
          0.5076654539028335,
          0.5602102314951918,
          0.5596774635591599,
          0.526527443717502,
          0.47129712857411465,
          0.4720110582535866,
          0.46499282559144395,
          0.4491728156741654,
          0.48129886940804145,
          0.532996346441803,
          0.4141571623073076,
          0.4249296506210906,
          0.5626845475145924,
          0.5909751510474447,
          0.5718301721398569,
          0.5421253994659371,
          0.5008832258989435,
          0.3797411731257405,
          0.44557460940710797,
          0.600185541398494,
          0.5109782731539309,
          0.43810556624626973,
          0.4684234012031294,
          0.5489133213844077,
          0.4430378423406785,
          0.44385638806958083,
          0.41767417096059006,
          0.4515987570569051,
          0.40469930787074304,
          0.5766370327642454,
          0.48885360837404507,
          0.49292426241773846,
          0.42709517015478543,
          0.42976566856209863,
          0.4343547245730869,
          0.6365775982654184,
          0.39186590075148,
          0.531419780850735,
          0.5421556800157992,
          0.5752058812213676,
          0.4864686090514621,
          0.5001836874613704,
          0.5369539129570973,
          0.5638697563247485,
          0.46672866489406967,
          0.4117050730390276,
          0.4091305672929018,
          0.6029767838305784,
          0.47312787258699684,
          0.574916688388082,
          0.44758815937451113,
          0.4041881791547123,
          0.4890607869114487,
          0.5083836410177951,
          0.5578223651195862,
          0.5137346538454811,
          0.19284828532522846,
          0.46938396988468034,
          0.5285877436902976,
          0.623181969584256,
          0.4360269994567974,
          0.5416665904597322,
          0.4595505137668803,
          0.4913529417572514,
          0.5185645410599293,
          0.4663264447990807,
          0.5056297391826597,
          0.34107251261131644,
          0.49651923815296684,
          0.4950604149587673,
          0.6388305834440478
         ],
         "xaxis": "x",
         "y": [
          0.5055490057618618,
          0.49774116636501703,
          0.49213290405712423,
          0.48283588360975577,
          0.4958092382746421,
          0.5220565899850859,
          0.4481814428120066,
          0.5609404262535377,
          0.4914840019324993,
          0.5262145428477168,
          0.48510145710884606,
          0.4254465393853359,
          0.4584826051305243,
          0.4945810766354406,
          0.5190085387509417,
          0.5523196758893081,
          0.47317831321343223,
          0.5017880624643931,
          0.48677320670806246,
          0.5429546071513084,
          0.4818788161600553,
          0.46567896462927605,
          0.5008022672322937,
          0.4633493618402007,
          0.5346549355797454,
          0.5070766658705446,
          0.5326035614185508,
          0.48252001692867597,
          0.4927596151269652,
          0.5055104910231984,
          0.5250069105707875,
          0.528782075695875,
          0.5183296779955947,
          0.4822821361109393,
          0.4810109194619479,
          0.47793046850312376,
          0.4684050388062289,
          0.4905309663821961,
          0.5240316843644522,
          0.45215573186025027,
          0.4470328618403553,
          0.5570472844952425,
          0.5637714929850983,
          0.5428332191889691,
          0.5252753275173235,
          0.5005307672248718,
          0.42449016021181346,
          0.4634858745328296,
          0.5497152694129581,
          0.50588691491193,
          0.4645570112060867,
          0.4765552346879158,
          0.538691276962837,
          0.4692043821850923,
          0.4575416684295,
          0.45104999424306264,
          0.4674112884808932,
          0.4440037616825907,
          0.5387882300131422,
          0.493826135542483,
          0.4960318633935068,
          0.4631834975091452,
          0.4601038831561658,
          0.45496091454408805,
          0.5551970271422428,
          0.4326775401013382,
          0.5186444322399474,
          0.5254886872591819,
          0.5393578417266783,
          0.49351294044384414,
          0.5001452928353324,
          0.5219937858277591,
          0.5357615528134853,
          0.4872804806547232,
          0.456967327242536,
          0.45758639961051695,
          0.5553350706423671,
          0.48596146803307083,
          0.55237250738686,
          0.46895823231315636,
          0.44116195305681727,
          0.49345742218502986,
          0.5040030476369751,
          0.5640266313813141,
          0.5077296223808971,
          0.20036815045980796,
          0.4835995502707753,
          0.5154962109039776,
          0.5752061998967721,
          0.4736869800501413,
          0.5171807882624609,
          0.46957192223323757,
          0.494636859944801,
          0.5124463770115167,
          0.4826597564908723,
          0.5028627218846696,
          0.4057897819516188,
          0.4979497572364544,
          0.497170724767169,
          0.5764898883048942
         ],
         "yaxis": "y"
        }
       ],
       "layout": {
        "legend": {
         "title": {
          "text": "level"
         },
         "tracegroupgap": 0
        },
        "margin": {
         "b": 20,
         "l": 20,
         "r": 20,
         "t": 20
        },
        "template": {
         "data": {
          "bar": [
           {
            "error_x": {
             "color": "#2a3f5f"
            },
            "error_y": {
             "color": "#2a3f5f"
            },
            "marker": {
             "line": {
              "color": "#E5ECF6",
              "width": 0.5
             },
             "pattern": {
              "fillmode": "overlay",
              "size": 10,
              "solidity": 0.2
             }
            },
            "type": "bar"
           }
          ],
          "barpolar": [
           {
            "marker": {
             "line": {
              "color": "#E5ECF6",
              "width": 0.5
             },
             "pattern": {
              "fillmode": "overlay",
              "size": 10,
              "solidity": 0.2
             }
            },
            "type": "barpolar"
           }
          ],
          "carpet": [
           {
            "aaxis": {
             "endlinecolor": "#2a3f5f",
             "gridcolor": "white",
             "linecolor": "white",
             "minorgridcolor": "white",
             "startlinecolor": "#2a3f5f"
            },
            "baxis": {
             "endlinecolor": "#2a3f5f",
             "gridcolor": "white",
             "linecolor": "white",
             "minorgridcolor": "white",
             "startlinecolor": "#2a3f5f"
            },
            "type": "carpet"
           }
          ],
          "choropleth": [
           {
            "colorbar": {
             "outlinewidth": 0,
             "ticks": ""
            },
            "type": "choropleth"
           }
          ],
          "contour": [
           {
            "colorbar": {
             "outlinewidth": 0,
             "ticks": ""
            },
            "colorscale": [
             [
              0,
              "#0d0887"
             ],
             [
              0.1111111111111111,
              "#46039f"
             ],
             [
              0.2222222222222222,
              "#7201a8"
             ],
             [
              0.3333333333333333,
              "#9c179e"
             ],
             [
              0.4444444444444444,
              "#bd3786"
             ],
             [
              0.5555555555555556,
              "#d8576b"
             ],
             [
              0.6666666666666666,
              "#ed7953"
             ],
             [
              0.7777777777777778,
              "#fb9f3a"
             ],
             [
              0.8888888888888888,
              "#fdca26"
             ],
             [
              1,
              "#f0f921"
             ]
            ],
            "type": "contour"
           }
          ],
          "contourcarpet": [
           {
            "colorbar": {
             "outlinewidth": 0,
             "ticks": ""
            },
            "type": "contourcarpet"
           }
          ],
          "heatmap": [
           {
            "colorbar": {
             "outlinewidth": 0,
             "ticks": ""
            },
            "colorscale": [
             [
              0,
              "#0d0887"
             ],
             [
              0.1111111111111111,
              "#46039f"
             ],
             [
              0.2222222222222222,
              "#7201a8"
             ],
             [
              0.3333333333333333,
              "#9c179e"
             ],
             [
              0.4444444444444444,
              "#bd3786"
             ],
             [
              0.5555555555555556,
              "#d8576b"
             ],
             [
              0.6666666666666666,
              "#ed7953"
             ],
             [
              0.7777777777777778,
              "#fb9f3a"
             ],
             [
              0.8888888888888888,
              "#fdca26"
             ],
             [
              1,
              "#f0f921"
             ]
            ],
            "type": "heatmap"
           }
          ],
          "heatmapgl": [
           {
            "colorbar": {
             "outlinewidth": 0,
             "ticks": ""
            },
            "colorscale": [
             [
              0,
              "#0d0887"
             ],
             [
              0.1111111111111111,
              "#46039f"
             ],
             [
              0.2222222222222222,
              "#7201a8"
             ],
             [
              0.3333333333333333,
              "#9c179e"
             ],
             [
              0.4444444444444444,
              "#bd3786"
             ],
             [
              0.5555555555555556,
              "#d8576b"
             ],
             [
              0.6666666666666666,
              "#ed7953"
             ],
             [
              0.7777777777777778,
              "#fb9f3a"
             ],
             [
              0.8888888888888888,
              "#fdca26"
             ],
             [
              1,
              "#f0f921"
             ]
            ],
            "type": "heatmapgl"
           }
          ],
          "histogram": [
           {
            "marker": {
             "pattern": {
              "fillmode": "overlay",
              "size": 10,
              "solidity": 0.2
             }
            },
            "type": "histogram"
           }
          ],
          "histogram2d": [
           {
            "colorbar": {
             "outlinewidth": 0,
             "ticks": ""
            },
            "colorscale": [
             [
              0,
              "#0d0887"
             ],
             [
              0.1111111111111111,
              "#46039f"
             ],
             [
              0.2222222222222222,
              "#7201a8"
             ],
             [
              0.3333333333333333,
              "#9c179e"
             ],
             [
              0.4444444444444444,
              "#bd3786"
             ],
             [
              0.5555555555555556,
              "#d8576b"
             ],
             [
              0.6666666666666666,
              "#ed7953"
             ],
             [
              0.7777777777777778,
              "#fb9f3a"
             ],
             [
              0.8888888888888888,
              "#fdca26"
             ],
             [
              1,
              "#f0f921"
             ]
            ],
            "type": "histogram2d"
           }
          ],
          "histogram2dcontour": [
           {
            "colorbar": {
             "outlinewidth": 0,
             "ticks": ""
            },
            "colorscale": [
             [
              0,
              "#0d0887"
             ],
             [
              0.1111111111111111,
              "#46039f"
             ],
             [
              0.2222222222222222,
              "#7201a8"
             ],
             [
              0.3333333333333333,
              "#9c179e"
             ],
             [
              0.4444444444444444,
              "#bd3786"
             ],
             [
              0.5555555555555556,
              "#d8576b"
             ],
             [
              0.6666666666666666,
              "#ed7953"
             ],
             [
              0.7777777777777778,
              "#fb9f3a"
             ],
             [
              0.8888888888888888,
              "#fdca26"
             ],
             [
              1,
              "#f0f921"
             ]
            ],
            "type": "histogram2dcontour"
           }
          ],
          "mesh3d": [
           {
            "colorbar": {
             "outlinewidth": 0,
             "ticks": ""
            },
            "type": "mesh3d"
           }
          ],
          "parcoords": [
           {
            "line": {
             "colorbar": {
              "outlinewidth": 0,
              "ticks": ""
             }
            },
            "type": "parcoords"
           }
          ],
          "pie": [
           {
            "automargin": true,
            "type": "pie"
           }
          ],
          "scatter": [
           {
            "marker": {
             "colorbar": {
              "outlinewidth": 0,
              "ticks": ""
             }
            },
            "type": "scatter"
           }
          ],
          "scatter3d": [
           {
            "line": {
             "colorbar": {
              "outlinewidth": 0,
              "ticks": ""
             }
            },
            "marker": {
             "colorbar": {
              "outlinewidth": 0,
              "ticks": ""
             }
            },
            "type": "scatter3d"
           }
          ],
          "scattercarpet": [
           {
            "marker": {
             "colorbar": {
              "outlinewidth": 0,
              "ticks": ""
             }
            },
            "type": "scattercarpet"
           }
          ],
          "scattergeo": [
           {
            "marker": {
             "colorbar": {
              "outlinewidth": 0,
              "ticks": ""
             }
            },
            "type": "scattergeo"
           }
          ],
          "scattergl": [
           {
            "marker": {
             "colorbar": {
              "outlinewidth": 0,
              "ticks": ""
             }
            },
            "type": "scattergl"
           }
          ],
          "scattermapbox": [
           {
            "marker": {
             "colorbar": {
              "outlinewidth": 0,
              "ticks": ""
             }
            },
            "type": "scattermapbox"
           }
          ],
          "scatterpolar": [
           {
            "marker": {
             "colorbar": {
              "outlinewidth": 0,
              "ticks": ""
             }
            },
            "type": "scatterpolar"
           }
          ],
          "scatterpolargl": [
           {
            "marker": {
             "colorbar": {
              "outlinewidth": 0,
              "ticks": ""
             }
            },
            "type": "scatterpolargl"
           }
          ],
          "scatterternary": [
           {
            "marker": {
             "colorbar": {
              "outlinewidth": 0,
              "ticks": ""
             }
            },
            "type": "scatterternary"
           }
          ],
          "surface": [
           {
            "colorbar": {
             "outlinewidth": 0,
             "ticks": ""
            },
            "colorscale": [
             [
              0,
              "#0d0887"
             ],
             [
              0.1111111111111111,
              "#46039f"
             ],
             [
              0.2222222222222222,
              "#7201a8"
             ],
             [
              0.3333333333333333,
              "#9c179e"
             ],
             [
              0.4444444444444444,
              "#bd3786"
             ],
             [
              0.5555555555555556,
              "#d8576b"
             ],
             [
              0.6666666666666666,
              "#ed7953"
             ],
             [
              0.7777777777777778,
              "#fb9f3a"
             ],
             [
              0.8888888888888888,
              "#fdca26"
             ],
             [
              1,
              "#f0f921"
             ]
            ],
            "type": "surface"
           }
          ],
          "table": [
           {
            "cells": {
             "fill": {
              "color": "#EBF0F8"
             },
             "line": {
              "color": "white"
             }
            },
            "header": {
             "fill": {
              "color": "#C8D4E3"
             },
             "line": {
              "color": "white"
             }
            },
            "type": "table"
           }
          ]
         },
         "layout": {
          "annotationdefaults": {
           "arrowcolor": "#2a3f5f",
           "arrowhead": 0,
           "arrowwidth": 1
          },
          "autotypenumbers": "strict",
          "coloraxis": {
           "colorbar": {
            "outlinewidth": 0,
            "ticks": ""
           }
          },
          "colorscale": {
           "diverging": [
            [
             0,
             "#8e0152"
            ],
            [
             0.1,
             "#c51b7d"
            ],
            [
             0.2,
             "#de77ae"
            ],
            [
             0.3,
             "#f1b6da"
            ],
            [
             0.4,
             "#fde0ef"
            ],
            [
             0.5,
             "#f7f7f7"
            ],
            [
             0.6,
             "#e6f5d0"
            ],
            [
             0.7,
             "#b8e186"
            ],
            [
             0.8,
             "#7fbc41"
            ],
            [
             0.9,
             "#4d9221"
            ],
            [
             1,
             "#276419"
            ]
           ],
           "sequential": [
            [
             0,
             "#0d0887"
            ],
            [
             0.1111111111111111,
             "#46039f"
            ],
            [
             0.2222222222222222,
             "#7201a8"
            ],
            [
             0.3333333333333333,
             "#9c179e"
            ],
            [
             0.4444444444444444,
             "#bd3786"
            ],
            [
             0.5555555555555556,
             "#d8576b"
            ],
            [
             0.6666666666666666,
             "#ed7953"
            ],
            [
             0.7777777777777778,
             "#fb9f3a"
            ],
            [
             0.8888888888888888,
             "#fdca26"
            ],
            [
             1,
             "#f0f921"
            ]
           ],
           "sequentialminus": [
            [
             0,
             "#0d0887"
            ],
            [
             0.1111111111111111,
             "#46039f"
            ],
            [
             0.2222222222222222,
             "#7201a8"
            ],
            [
             0.3333333333333333,
             "#9c179e"
            ],
            [
             0.4444444444444444,
             "#bd3786"
            ],
            [
             0.5555555555555556,
             "#d8576b"
            ],
            [
             0.6666666666666666,
             "#ed7953"
            ],
            [
             0.7777777777777778,
             "#fb9f3a"
            ],
            [
             0.8888888888888888,
             "#fdca26"
            ],
            [
             1,
             "#f0f921"
            ]
           ]
          },
          "colorway": [
           "#636efa",
           "#EF553B",
           "#00cc96",
           "#ab63fa",
           "#FFA15A",
           "#19d3f3",
           "#FF6692",
           "#B6E880",
           "#FF97FF",
           "#FECB52"
          ],
          "font": {
           "color": "#2a3f5f"
          },
          "geo": {
           "bgcolor": "white",
           "lakecolor": "white",
           "landcolor": "#E5ECF6",
           "showlakes": true,
           "showland": true,
           "subunitcolor": "white"
          },
          "hoverlabel": {
           "align": "left"
          },
          "hovermode": "closest",
          "mapbox": {
           "style": "light"
          },
          "paper_bgcolor": "white",
          "plot_bgcolor": "#E5ECF6",
          "polar": {
           "angularaxis": {
            "gridcolor": "white",
            "linecolor": "white",
            "ticks": ""
           },
           "bgcolor": "#E5ECF6",
           "radialaxis": {
            "gridcolor": "white",
            "linecolor": "white",
            "ticks": ""
           }
          },
          "scene": {
           "xaxis": {
            "backgroundcolor": "#E5ECF6",
            "gridcolor": "white",
            "gridwidth": 2,
            "linecolor": "white",
            "showbackground": true,
            "ticks": "",
            "zerolinecolor": "white"
           },
           "yaxis": {
            "backgroundcolor": "#E5ECF6",
            "gridcolor": "white",
            "gridwidth": 2,
            "linecolor": "white",
            "showbackground": true,
            "ticks": "",
            "zerolinecolor": "white"
           },
           "zaxis": {
            "backgroundcolor": "#E5ECF6",
            "gridcolor": "white",
            "gridwidth": 2,
            "linecolor": "white",
            "showbackground": true,
            "ticks": "",
            "zerolinecolor": "white"
           }
          },
          "shapedefaults": {
           "line": {
            "color": "#2a3f5f"
           }
          },
          "ternary": {
           "aaxis": {
            "gridcolor": "white",
            "linecolor": "white",
            "ticks": ""
           },
           "baxis": {
            "gridcolor": "white",
            "linecolor": "white",
            "ticks": ""
           },
           "bgcolor": "#E5ECF6",
           "caxis": {
            "gridcolor": "white",
            "linecolor": "white",
            "ticks": ""
           }
          },
          "title": {
           "x": 0.05
          },
          "xaxis": {
           "automargin": true,
           "gridcolor": "white",
           "linecolor": "white",
           "ticks": "",
           "title": {
            "standoff": 15
           },
           "zerolinecolor": "white",
           "zerolinewidth": 2
          },
          "yaxis": {
           "automargin": true,
           "gridcolor": "white",
           "linecolor": "white",
           "ticks": "",
           "title": {
            "standoff": 15
           },
           "zerolinecolor": "white",
           "zerolinewidth": 2
          }
         }
        },
        "xaxis": {
         "anchor": "y",
         "domain": [
          0,
          1
         ],
         "title": {
          "text": "precision_average"
         }
        },
        "yaxis": {
         "anchor": "x",
         "domain": [
          0,
          1
         ],
         "title": {
          "text": "recall_average"
         }
        }
       }
      }
     },
     "metadata": {},
     "output_type": "display_data"
    }
   ],
   "source": [
    "metric_x = \"precision_average\"\n",
    "metric_y = \"recall_average\"\n",
    "\n",
    "for df in datasets: scatter_plotly(df, metric_x, metric_y, \"level\")"
   ]
  },
  {
   "cell_type": "code",
   "execution_count": 201,
   "metadata": {},
   "outputs": [
    {
     "data": {
      "text/html": [
       "<div>\n",
       "<style scoped>\n",
       "    .dataframe tbody tr th:only-of-type {\n",
       "        vertical-align: middle;\n",
       "    }\n",
       "\n",
       "    .dataframe tbody tr th {\n",
       "        vertical-align: top;\n",
       "    }\n",
       "\n",
       "    .dataframe thead th {\n",
       "        text-align: right;\n",
       "    }\n",
       "</style>\n",
       "<table border=\"1\" class=\"dataframe\">\n",
       "  <thead>\n",
       "    <tr style=\"text-align: right;\">\n",
       "      <th></th>\n",
       "      <th>precision_micro</th>\n",
       "      <th>precision_macro</th>\n",
       "      <th>recall_macro</th>\n",
       "      <th>recall_micro</th>\n",
       "      <th>recall_weighted</th>\n",
       "      <th>f1_macro</th>\n",
       "    </tr>\n",
       "    <tr>\n",
       "      <th>level</th>\n",
       "      <th></th>\n",
       "      <th></th>\n",
       "      <th></th>\n",
       "      <th></th>\n",
       "      <th></th>\n",
       "      <th></th>\n",
       "    </tr>\n",
       "  </thead>\n",
       "  <tbody>\n",
       "    <tr>\n",
       "      <th>A0</th>\n",
       "      <td>0.114703</td>\n",
       "      <td>0.057351</td>\n",
       "      <td>0.000000</td>\n",
       "      <td>0.114703</td>\n",
       "      <td>0.114703</td>\n",
       "      <td>0.046529</td>\n",
       "    </tr>\n",
       "    <tr>\n",
       "      <th>A1</th>\n",
       "      <td>0.042554</td>\n",
       "      <td>0.021277</td>\n",
       "      <td>0.000000</td>\n",
       "      <td>0.042554</td>\n",
       "      <td>0.042554</td>\n",
       "      <td>0.012146</td>\n",
       "    </tr>\n",
       "    <tr>\n",
       "      <th>A2</th>\n",
       "      <td>0.000000</td>\n",
       "      <td>0.000000</td>\n",
       "      <td>0.000000</td>\n",
       "      <td>0.000000</td>\n",
       "      <td>0.000000</td>\n",
       "      <td>0.000000</td>\n",
       "    </tr>\n",
       "    <tr>\n",
       "      <th>B0</th>\n",
       "      <td>0.035575</td>\n",
       "      <td>0.007856</td>\n",
       "      <td>0.016157</td>\n",
       "      <td>0.035575</td>\n",
       "      <td>0.035575</td>\n",
       "      <td>0.010423</td>\n",
       "    </tr>\n",
       "    <tr>\n",
       "      <th>B0A</th>\n",
       "      <td>0.039782</td>\n",
       "      <td>0.019891</td>\n",
       "      <td>0.000000</td>\n",
       "      <td>0.039782</td>\n",
       "      <td>0.039782</td>\n",
       "      <td>0.011402</td>\n",
       "    </tr>\n",
       "    <tr>\n",
       "      <th>B0B</th>\n",
       "      <td>0.072153</td>\n",
       "      <td>0.027812</td>\n",
       "      <td>0.020360</td>\n",
       "      <td>0.072153</td>\n",
       "      <td>0.072153</td>\n",
       "      <td>0.023714</td>\n",
       "    </tr>\n",
       "    <tr>\n",
       "      <th>B1</th>\n",
       "      <td>0.025994</td>\n",
       "      <td>0.046091</td>\n",
       "      <td>0.038609</td>\n",
       "      <td>0.025994</td>\n",
       "      <td>0.025994</td>\n",
       "      <td>0.037535</td>\n",
       "    </tr>\n",
       "    <tr>\n",
       "      <th>C0A</th>\n",
       "      <td>0.108787</td>\n",
       "      <td>0.054394</td>\n",
       "      <td>0.000000</td>\n",
       "      <td>0.108787</td>\n",
       "      <td>0.108787</td>\n",
       "      <td>0.043598</td>\n",
       "    </tr>\n",
       "    <tr>\n",
       "      <th>C0B</th>\n",
       "      <td>0.096854</td>\n",
       "      <td>0.054282</td>\n",
       "      <td>0.032560</td>\n",
       "      <td>0.096854</td>\n",
       "      <td>0.096854</td>\n",
       "      <td>0.043338</td>\n",
       "    </tr>\n",
       "    <tr>\n",
       "      <th>C1</th>\n",
       "      <td>0.066692</td>\n",
       "      <td>0.036710</td>\n",
       "      <td>0.035345</td>\n",
       "      <td>0.066692</td>\n",
       "      <td>0.066692</td>\n",
       "      <td>0.030459</td>\n",
       "    </tr>\n",
       "    <tr>\n",
       "      <th>C2</th>\n",
       "      <td>0.079631</td>\n",
       "      <td>0.058154</td>\n",
       "      <td>0.036437</td>\n",
       "      <td>0.079631</td>\n",
       "      <td>0.079631</td>\n",
       "      <td>0.046558</td>\n",
       "    </tr>\n",
       "  </tbody>\n",
       "</table>\n",
       "</div>"
      ],
      "text/plain": [
       "       precision_micro  precision_macro  recall_macro  recall_micro  \\\n",
       "level                                                                 \n",
       "A0            0.114703         0.057351      0.000000      0.114703   \n",
       "A1            0.042554         0.021277      0.000000      0.042554   \n",
       "A2            0.000000         0.000000      0.000000      0.000000   \n",
       "B0            0.035575         0.007856      0.016157      0.035575   \n",
       "B0A           0.039782         0.019891      0.000000      0.039782   \n",
       "B0B           0.072153         0.027812      0.020360      0.072153   \n",
       "B1            0.025994         0.046091      0.038609      0.025994   \n",
       "C0A           0.108787         0.054394      0.000000      0.108787   \n",
       "C0B           0.096854         0.054282      0.032560      0.096854   \n",
       "C1            0.066692         0.036710      0.035345      0.066692   \n",
       "C2            0.079631         0.058154      0.036437      0.079631   \n",
       "\n",
       "       recall_weighted  f1_macro  \n",
       "level                             \n",
       "A0            0.114703  0.046529  \n",
       "A1            0.042554  0.012146  \n",
       "A2            0.000000  0.000000  \n",
       "B0            0.035575  0.010423  \n",
       "B0A           0.039782  0.011402  \n",
       "B0B           0.072153  0.023714  \n",
       "B1            0.025994  0.037535  \n",
       "C0A           0.108787  0.043598  \n",
       "C0B           0.096854  0.043338  \n",
       "C1            0.066692  0.030459  \n",
       "C2            0.079631  0.046558  "
      ]
     },
     "execution_count": 201,
     "metadata": {},
     "output_type": "execute_result"
    }
   ],
   "source": [
    "dataset.groupby([\"level\"]).std()"
   ]
  },
  {
   "cell_type": "code",
   "execution_count": 202,
   "metadata": {},
   "outputs": [],
   "source": [
    "from adjustText import adjust_text\n",
    "\n",
    "def scatter_text(x, y, text_column, data, title=\"\", xlabel=\"\", ylabel=\"\"):\n",
    "    \"\"\"Scatter plot with country codes on the x y coordinates\n",
    "       Based on this answer: https://stackoverflow.com/a/54789170/2641825\"\"\"\n",
    "    # Create the scatter plot\n",
    "    p1 = sns.scatterplot(x, y, data=data, size = 8, legend=False)\n",
    "    texts = []\n",
    "    # Add text besides each point\n",
    "    for line in data.index:\n",
    "      #texts.append(p1.text(data[x][line]+0.01, data[y][line], data[text_column][line]))\n",
    "      p1.text(data[x][line]+0.01, data[y][line], \n",
    "                 data[text_column][line], horizontalalignment='left', \n",
    "                 size='small', color='black')\n",
    "   \n",
    "    #adjust_text(texts, data[[text_column]])\n",
    "    return p1"
   ]
  },
  {
   "cell_type": "code",
   "execution_count": 203,
   "metadata": {},
   "outputs": [
    {
     "name": "stderr",
     "output_type": "stream",
     "text": [
      "/home/belu/.local/share/virtualenvs/licentiate-thesis-repo-cz9ujhZI/lib/python3.6/site-packages/seaborn/_decorators.py:43: FutureWarning: Pass the following variables as keyword args: x, y. From version 0.12, the only valid positional argument will be `data`, and passing other arguments without an explicit keyword will result in an error or misinterpretation.\n",
      "  FutureWarning\n"
     ]
    },
    {
     "data": {
      "text/plain": [
       "<AxesSubplot:xlabel='precision_micro', ylabel='f1_macro'>"
      ]
     },
     "execution_count": 203,
     "metadata": {},
     "output_type": "execute_result"
    },
    {
     "data": {
      "image/png": "[encoded data removed]",
      "text/plain": [
       "<Figure size 432x288 with 1 Axes>"
      ]
     },
     "metadata": {
      "needs_background": "light"
     },
     "output_type": "display_data"
    }
   ],
   "source": [
    "scatter_text(\"precision_micro\", \"f1_macro\", \"level\", dataset_mean, \"title\", \"recall\", \"positive rate\")\n"
   ]
  },
  {
   "cell_type": "code",
   "execution_count": 204,
   "metadata": {},
   "outputs": [
    {
     "name": "stderr",
     "output_type": "stream",
     "text": [
      "/home/belu/.local/share/virtualenvs/licentiate-thesis-repo-cz9ujhZI/lib/python3.6/site-packages/seaborn/_decorators.py:43: FutureWarning: Pass the following variables as keyword args: x, y. From version 0.12, the only valid positional argument will be `data`, and passing other arguments without an explicit keyword will result in an error or misinterpretation.\n",
      "  FutureWarning\n"
     ]
    },
    {
     "data": {
      "text/plain": [
       "<AxesSubplot:xlabel='recall_macro', ylabel='recall_micro'>"
      ]
     },
     "execution_count": 204,
     "metadata": {},
     "output_type": "execute_result"
    },
    {
     "data": {
      "image/png": "[encoded data removed]",
      "text/plain": [
       "<Figure size 432x288 with 1 Axes>"
      ]
     },
     "metadata": {
      "needs_background": "light"
     },
     "output_type": "display_data"
    }
   ],
   "source": [
    "scatter_text(\"recall_macro\", \"recall_micro\", \"level\", dataset_mean, \"title\", \"recall\", \"positive rate\")\n"
   ]
  },
  {
   "cell_type": "code",
   "execution_count": 205,
   "metadata": {},
   "outputs": [
    {
     "name": "stderr",
     "output_type": "stream",
     "text": [
      "/home/belu/.local/share/virtualenvs/licentiate-thesis-repo-cz9ujhZI/lib/python3.6/site-packages/seaborn/_decorators.py:43: FutureWarning: Pass the following variables as keyword args: x, y. From version 0.12, the only valid positional argument will be `data`, and passing other arguments without an explicit keyword will result in an error or misinterpretation.\n",
      "  FutureWarning\n"
     ]
    },
    {
     "data": {
      "text/plain": [
       "<AxesSubplot:xlabel='precision_macro', ylabel='f1_macro'>"
      ]
     },
     "execution_count": 205,
     "metadata": {},
     "output_type": "execute_result"
    },
    {
     "data": {
      "image/png": "[encoded data removed]",
      "text/plain": [
       "<Figure size 432x288 with 1 Axes>"
      ]
     },
     "metadata": {
      "needs_background": "light"
     },
     "output_type": "display_data"
    }
   ],
   "source": [
    "scatter_text(\"precision_macro\", \"f1_macro\", \"level\", dataset_mean, \"title\", \"recall\", \"positive rate\")\n"
   ]
  },
  {
   "cell_type": "code",
   "execution_count": 206,
   "metadata": {},
   "outputs": [
    {
     "name": "stderr",
     "output_type": "stream",
     "text": [
      "/home/belu/.local/share/virtualenvs/licentiate-thesis-repo-cz9ujhZI/lib/python3.6/site-packages/seaborn/_decorators.py:43: FutureWarning: Pass the following variables as keyword args: x, y. From version 0.12, the only valid positional argument will be `data`, and passing other arguments without an explicit keyword will result in an error or misinterpretation.\n",
      "  FutureWarning\n"
     ]
    },
    {
     "data": {
      "text/plain": [
       "<AxesSubplot:xlabel='precision_macro', ylabel='recall_macro'>"
      ]
     },
     "execution_count": 206,
     "metadata": {},
     "output_type": "execute_result"
    },
    {
     "data": {
      "image/png": "[encoded data removed]",
      "text/plain": [
       "<Figure size 432x288 with 1 Axes>"
      ]
     },
     "metadata": {
      "needs_background": "light"
     },
     "output_type": "display_data"
    }
   ],
   "source": [
    "scatter_text(\"precision_macro\", \"recall_macro\", \"level\", dataset_mean, \"title\", \"recall\", \"positive rate\")\n"
   ]
  },
  {
   "cell_type": "code",
   "execution_count": 207,
   "metadata": {},
   "outputs": [
    {
     "name": "stderr",
     "output_type": "stream",
     "text": [
      "/home/belu/.local/share/virtualenvs/licentiate-thesis-repo-cz9ujhZI/lib/python3.6/site-packages/seaborn/_decorators.py:43: FutureWarning: Pass the following variables as keyword args: x, y. From version 0.12, the only valid positional argument will be `data`, and passing other arguments without an explicit keyword will result in an error or misinterpretation.\n",
      "  FutureWarning\n"
     ]
    },
    {
     "data": {
      "text/plain": [
       "<AxesSubplot:xlabel='precision_micro', ylabel='recall_micro'>"
      ]
     },
     "execution_count": 207,
     "metadata": {},
     "output_type": "execute_result"
    },
    {
     "data": {
      "image/png": "[encoded data removed]",
      "text/plain": [
       "<Figure size 432x288 with 1 Axes>"
      ]
     },
     "metadata": {
      "needs_background": "light"
     },
     "output_type": "display_data"
    }
   ],
   "source": [
    "scatter_text(\"precision_micro\", \"recall_micro\", \"level\", dataset_mean, \"title\", \"recall\", \"positive rate\")\n"
   ]
  },
  {
   "cell_type": "code",
   "execution_count": 208,
   "metadata": {},
   "outputs": [],
   "source": [
    "metrics_names = []\n",
    "metric = []\n",
    "beta = []\n",
    "average = []\n",
    "\n",
    "experiments = pd.DataFrame.from_dict({\"name\": metrics_names,\n",
    "                                     \"metric\": metric,\n",
    "                                     \"beta\" : beta,\n",
    "                                     \"average\": average\n",
    "                                    })"
   ]
  },
  {
   "cell_type": "code",
   "execution_count": 22,
   "metadata": {},
   "outputs": [],
   "source": [
    "metrics_names = [\"accuracy\", \"f1\", \"precision\", \"hit rate\", \"recall\"]\n",
    "metrics_funs = [accuracy, F1, precision, hit_rate, recall]\n",
    "for (label, metric) in zip(metrics_names, metrics_funs):\n",
    "    dataset[label] = dataset.apply(lambda row : metric(row), axis=1)"
   ]
  },
  {
   "cell_type": "code",
   "execution_count": 23,
   "metadata": {},
   "outputs": [
    {
     "data": {
      "text/html": [
       "<div>\n",
       "<style scoped>\n",
       "    .dataframe tbody tr th:only-of-type {\n",
       "        vertical-align: middle;\n",
       "    }\n",
       "\n",
       "    .dataframe tbody tr th {\n",
       "        vertical-align: top;\n",
       "    }\n",
       "\n",
       "    .dataframe thead th {\n",
       "        text-align: right;\n",
       "    }\n",
       "</style>\n",
       "<table border=\"1\" class=\"dataframe\">\n",
       "  <thead>\n",
       "    <tr style=\"text-align: right;\">\n",
       "      <th></th>\n",
       "      <th>accuracy</th>\n",
       "      <th>f1</th>\n",
       "      <th>precision</th>\n",
       "      <th>hit rate</th>\n",
       "      <th>recall</th>\n",
       "    </tr>\n",
       "    <tr>\n",
       "      <th>level</th>\n",
       "      <th></th>\n",
       "      <th></th>\n",
       "      <th></th>\n",
       "      <th></th>\n",
       "      <th></th>\n",
       "    </tr>\n",
       "  </thead>\n",
       "  <tbody>\n",
       "    <tr>\n",
       "      <th>A</th>\n",
       "      <td>0.650294</td>\n",
       "      <td>0.000000</td>\n",
       "      <td>1.000000</td>\n",
       "      <td>0.000000</td>\n",
       "      <td>0.000000</td>\n",
       "    </tr>\n",
       "    <tr>\n",
       "      <th>B</th>\n",
       "      <td>0.879675</td>\n",
       "      <td>0.000000</td>\n",
       "      <td>1.000000</td>\n",
       "      <td>0.000000</td>\n",
       "      <td>0.000000</td>\n",
       "    </tr>\n",
       "    <tr>\n",
       "      <th>C</th>\n",
       "      <td>0.800472</td>\n",
       "      <td>0.000000</td>\n",
       "      <td>1.000000</td>\n",
       "      <td>0.000000</td>\n",
       "      <td>0.000000</td>\n",
       "    </tr>\n",
       "    <tr>\n",
       "      <th>D</th>\n",
       "      <td>0.882558</td>\n",
       "      <td>0.000000</td>\n",
       "      <td>1.000000</td>\n",
       "      <td>0.000000</td>\n",
       "      <td>0.000000</td>\n",
       "    </tr>\n",
       "    <tr>\n",
       "      <th>E</th>\n",
       "      <td>0.907867</td>\n",
       "      <td>0.334926</td>\n",
       "      <td>0.675900</td>\n",
       "      <td>0.324100</td>\n",
       "      <td>0.675900</td>\n",
       "    </tr>\n",
       "    <tr>\n",
       "      <th>F</th>\n",
       "      <td>0.700213</td>\n",
       "      <td>0.250248</td>\n",
       "      <td>0.429452</td>\n",
       "      <td>0.570548</td>\n",
       "      <td>0.429452</td>\n",
       "    </tr>\n",
       "  </tbody>\n",
       "</table>\n",
       "</div>"
      ],
      "text/plain": [
       "       accuracy        f1  precision  hit rate    recall\n",
       "level                                                   \n",
       "A      0.650294  0.000000   1.000000  0.000000  0.000000\n",
       "B      0.879675  0.000000   1.000000  0.000000  0.000000\n",
       "C      0.800472  0.000000   1.000000  0.000000  0.000000\n",
       "D      0.882558  0.000000   1.000000  0.000000  0.000000\n",
       "E      0.907867  0.334926   0.675900  0.324100  0.675900\n",
       "F      0.700213  0.250248   0.429452  0.570548  0.429452"
      ]
     },
     "execution_count": 23,
     "metadata": {},
     "output_type": "execute_result"
    }
   ],
   "source": [
    "dataset.groupby(by=\"level\").mean()"
   ]
  },
  {
   "cell_type": "code",
   "execution_count": null,
   "metadata": {},
   "outputs": [],
   "source": []
  }
 ],
 "metadata": {
  "interpreter": {
   "hash": "1f29468d89b6be2c06db2e79e448931d7b8a61ffe1e835ec9d5987ed2976e35c"
  },
  "kernelspec": {
   "display_name": "Python 3.6.9 64-bit ('licentiate-thesis-repo-cz9ujhZI': pipenv)",
   "name": "python3"
  },
  "language_info": {
   "codemirror_mode": {
    "name": "ipython",
    "version": 3
   },
   "file_extension": ".py",
   "mimetype": "text/x-python",
   "name": "python",
   "nbconvert_exporter": "python",
   "pygments_lexer": "ipython3",
   "version": "3.6.9"
  },
  "orig_nbformat": 4
 },
 "nbformat": 4,
 "nbformat_minor": 2
}
